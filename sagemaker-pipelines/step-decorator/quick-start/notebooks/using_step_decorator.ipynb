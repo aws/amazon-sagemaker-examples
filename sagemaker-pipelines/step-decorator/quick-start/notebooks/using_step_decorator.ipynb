{
 "cells": [
  {
   "cell_type": "markdown",
   "id": "225de56c-5b55-4fe1-91f8-f8e4b419e78d",
   "metadata": {},
   "source": [
    "# Quick Start - Introducing @step Decorator and Pipeline Trigger"
   ]
  },
  {
   "cell_type": "markdown",
   "id": "cf499e36",
   "metadata": {
    "collapsed": false
   },
   "source": [
    "---\n",
    "\n",
    "This notebook's CI test result for us-west-2 is as follows. CI test results in other regions can be found at the end of the notebook.\n",
    "\n",
    "![This us-west-2 badge failed to load. Check your device's internet connectivity, otherwise the service is currently unavailable](https://prod.us-west-2.tcx-beacon.docs.aws.dev/sagemaker-nb/us-west-2/sagemaker-pipelines|step-decorator|quick-start|notebooks|using_step_decorator.ipynb)\n",
    "\n",
    "---"
   ]
  },
  {
   "cell_type": "markdown",
   "id": "880aeab2",
   "metadata": {
    "collapsed": false
   },
   "source": [
    "We're introducing a low-code experience for data scientists to convert the Machine Learning (ML) development code into repeatable and reusable workflow steps of Amazon SageMaker Pipelines.\n",
    "\n",
    "This sample notebook is a quick introduction to this capability with dummy Python functions wrapped as pipeline steps. The pipeline in this notebook generates random integer numbers and performs a statistic operation (avg or sum) to them."
   ]
  },
  {
   "cell_type": "markdown",
   "id": "c9ebc66a",
   "metadata": {
    "collapsed": false
   },
   "source": [
    "Note this notebook can only run on either Python 3.8 or Python 3.10. Otherwise, you will get an error message prompting you to provide an `image_uri` when defining a step."
   ]
  },
  {
   "cell_type": "markdown",
   "id": "415be8d5-f538-41fd-a1e1-c5ba61329518",
   "metadata": {
    "tags": []
   },
   "source": [
    "## Install the dependencies\n",
    "If you run the notebook from a local IDE outside of SageMaker, please follow the \"AWS CLI Prerequisites\" section of the [Set Up Amazon SageMaker Prerequisites](https://docs.aws.amazon.com/sagemaker/latest/dg/gs-set-up.html#gs-cli-prereq) to set up AWS credentials."
   ]
  },
  {
   "cell_type": "markdown",
   "execution_count": 9,
   "id": "eb1e4035-df62-4370-ac26-af14c025b503",
   "metadata": {
    "ExecuteTime": {
     "end_time": "2023-09-22T16:53:32.158974Z",
     "start_time": "2023-09-22T16:53:31.520437Z"
    }
   },
   "outputs": [],
   "source": [
    "Next, run the cell bellow to install all dependencies required by this notebook."
   ]
  },
  {
   "cell_type": "code",
   "execution_count": null,
   "id": "d2389a9a-9ae5-4600-9eae-a551e836b094",
   "metadata": {
    "ExecuteTime": {
     "start_time": "2023-11-14T15:26:36.538657Z",
     "end_time": "2023-11-14T15:26:39.087561Z"
    },
    "collapsed": true,
    "jupyter": {
     "outputs_hidden": true
    },
    "tags": []
   },
   "outputs": [],
   "source": [
    "!pip install -r ./requirements.txt"
   ]
  },
  {
   "cell_type": "markdown",
   "execution_count": 7,
   "id": "d02c2cc7-bfb9-4e07-a8d9-4a5ef5ec109a",
   "metadata": {
    "ExecuteTime": {
     "end_time": "2023-09-22T16:52:19.422691Z",
     "start_time": "2023-09-22T16:51:43.460477Z"
    }
   },
   "outputs": [],
   "source": [
    "## Setup configuration file path\n",
    "We need to set the directory in which the `config.yaml` file resides so that the step decorator can make use of the settings."
   ]
  },
  {
   "cell_type": "code",
   "execution_count": null,
   "id": "b22a49fb-3fc7-46fe-89cc-3d4186016a73",
   "metadata": {
    "ExecuteTime": {
     "start_time": "2023-11-10T14:02:33.710426Z",
     "end_time": "2023-11-10T14:02:33.716601Z"
    },
    "tags": []
   },
   "outputs": [],
   "source": [
    "import os\n",
    "\n",
    "# Set path to config file\n",
    "os.environ[\"SAGEMAKER_USER_CONFIG_OVERRIDE\"] = os.getcwd()"
   ]
  },
  {
   "cell_type": "markdown",
   "execution_count": 10,
   "id": "c2e488ba-455b-42d5-92af-f8c63b254028",
   "metadata": {
    "ExecuteTime": {
     "end_time": "2023-09-22T17:07:04.101715Z",
     "start_time": "2023-09-22T17:07:04.092727Z"
    }
   },
   "outputs": [],
   "source": [
    "## Define pipeline steps\n",
    "We can define a pipeline step by simply adding a step decorator on top of a custom function (i.e. the `generate` function below)."
   ]
  },
  {
   "cell_type": "markdown",
   "id": "cd7d451b-2481-43bf-a8e0-9d943d9ca1c5",
   "metadata": {},
   "source": [
    "By invoking the `generate` function, it would not execute the function at this moment. Rather, it delays the function execution to pipeline execution time when the step is running. Thus, the function would return a `DelayedReturn` object, which can represent this step and can be used as input of subsequent steps."
   ]
  },
  {
   "cell_type": "code",
   "execution_count": null,
   "id": "be6a3a6a-599e-4572-b7ff-9cfa19c8b5fd",
   "metadata": {
    "ExecuteTime": {
     "start_time": "2023-11-10T14:02:33.714787Z",
     "end_time": "2023-11-10T14:02:57.900606Z"
    },
    "tags": []
   },
   "outputs": [],
   "source": [
    "import random\n",
    "from sagemaker.workflow.function_step import step\n",
    "\n",
    "\n",
    "# The step name defaults to be the function name (i.e. \"generate\")\n",
    "# appended with a UUID to make it unique\n",
    "@step(keep_alive_period_in_seconds=300)\n",
    "def generate():\n",
    "    random_number = random.randint(0, 10)\n",
    "    print(f\"Generated random number: {random_number}\")\n",
    "    return random_number"
   ]
  },
  {
   "cell_type": "code",
   "execution_count": null,
   "id": "36ac4334-3443-46ef-9967-a4cea1f36a6d",
   "metadata": {
    "ExecuteTime": {
     "start_time": "2023-11-10T14:02:57.906590Z",
     "end_time": "2023-11-10T14:02:57.909362Z"
    },
    "tags": []
   },
   "outputs": [],
   "source": [
    "reduce_func_step_name = \"reduce\"\n",
    "\n",
    "\n",
    "# Override the step name.\n",
    "# Users have to ensure custom step name uniqueness\n",
    "@step(name=reduce_func_step_name, keep_alive_period_in_seconds=300)\n",
    "def my_reduce(stat, number_1, number_2):\n",
    "    if stat == \"avg\":\n",
    "        return sum([number_1, number_2]) / 2.0\n",
    "    elif stat == \"sum\":\n",
    "        return sum([number_1, number_2])\n",
    "    else:\n",
    "        raise ValueError"
   ]
  },
  {
   "cell_type": "markdown",
   "execution_count": 14,
   "id": "eb77e5ee-ceec-4de5-9838-0a40d16f87ae",
   "metadata": {
    "ExecuteTime": {
     "end_time": "2023-09-22T17:30:04.246224Z",
     "start_time": "2023-09-22T17:30:00.731981Z"
    }
   },
   "outputs": [
    {
     "name": "stdout",
     "output_type": "stream",
     "text": [
      "sagemaker.config INFO - Not applying SDK defaults from location: /Library/Application Support/sagemaker/config.yaml\n",
      "sagemaker.config INFO - Fetched defaults config from location: /Users/qidewen/workplace/SageMakerNotebook/amazon-sagemaker-examples-staging/sagemaker-pipelines/tabular/step-decorator\n",
      "sagemaker.config INFO - Applied value from config key = SageMaker.PythonSDK.Modules.RemoteFunction.Dependencies\n",
      "sagemaker.config INFO - Applied value from config key = SageMaker.PythonSDK.Modules.RemoteFunction.WorkdirConfig.IgnoreNamePatterns\n"
     ]
    }
   ],
   "source": [
    "### Add extra dependencies using conda environment yml file\n",
    "To run a function in a new conda environment, you can specify the path of an `environment.yml` file to the `dependencies` attribute as follows:\n",
    "\n",
    "```\n",
    "@step(\n",
    "    dependencies=\"./environment.yml\",\n",
    ")\n",
    "def my-multiply(dataframe: pd.DataFrame, factor: float):\n",
    "    result = dataframe * factor\n",
    "    print(f\"multiply result: {result}\")\n",
    "    return result\n",
    "```\n",
    "\n",
    "Note: A sample `environment.yml` file has been provided along with this notebook."
   ]
  },
  {
   "cell_type": "markdown",
   "execution_count": 23,
   "id": "7ae6ee44-1095-4260-8a58-e5a11e0097e0",
   "metadata": {
    "ExecuteTime": {
     "end_time": "2023-09-22T18:02:01.940541Z",
     "start_time": "2023-09-22T18:01:58.124458Z"
    }
   },
   "outputs": [
    {
     "name": "stdout",
     "output_type": "stream",
     "text": [
      "sagemaker.config INFO - Not applying SDK defaults from location: /Library/Application Support/sagemaker/config.yaml\n",
      "sagemaker.config INFO - Fetched defaults config from location: /Users/qidewen/workplace/SageMakerNotebook/amazon-sagemaker-examples-staging/sagemaker-pipelines/tabular/step-decorator\n",
      "sagemaker.config INFO - Applied value from config key = SageMaker.PythonSDK.Modules.RemoteFunction.WorkdirConfig.IgnoreNamePatterns\n",
      "sagemaker.config INFO - Applied value from config key = SageMaker.PythonSDK.Modules.RemoteFunction.InstanceType\n"
     ]
    }
   ],
   "source": [
    "## Define a pipeline with steps\n",
    "After defining all the steps, we can group them into a pipeline.\n",
    "\n",
    "Notes:\n",
    "1. There's no need to put all the step delayed return objects into the pipeline's `steps` list. As we've defined the step dependencies via function dependencies, we only need to put the end step (i.e. the `DelayedReturn` object returned by `my_reduce`) into the list and the pipeline object can automatically retrieve all its upstream steps.\n",
    "2. The `my_reduce` function not only takes in the `DelayedReturn` object from the previous step, but consumes a Parameter object as well, which is used to determine the statistic operation needed to perform."
   ]
  },
  {
   "cell_type": "code",
   "execution_count": null,
   "id": "a87fc583-4406-4e68-8443-42f06672da0d",
   "metadata": {
    "ExecuteTime": {
     "start_time": "2023-11-10T14:02:57.921957Z",
     "end_time": "2023-11-10T14:02:58.790989Z"
    },
    "tags": []
   },
   "outputs": [],
   "source": [
    "from sagemaker.workflow.pipeline import Pipeline\n",
    "from sagemaker.workflow.parameters import ParameterString\n",
    "\n",
    "param = ParameterString(name=\"stat\", default_value=\"avg\")\n",
    "\n",
    "pipeline_name = \"CalculatorPipeline\"\n",
    "pipeline = Pipeline(\n",
    "    name=pipeline_name,\n",
    "    steps=[my_reduce(param, generate(), generate())],\n",
    "    parameters=[param],\n",
    ")"
   ]
  },
  {
   "cell_type": "markdown",
   "id": "5c1370e6",
   "metadata": {
    "collapsed": false
   },
   "source": [
    "## Create the pipeline and run pipeline execution"
   ]
  },
  {
   "cell_type": "code",
   "execution_count": null,
   "id": "7f5ec951-9cd9-427b-b371-41f0aa231858",
   "metadata": {
    "ExecuteTime": {
     "start_time": "2023-11-10T14:02:58.805847Z",
     "end_time": "2023-11-10T14:03:20.009410Z"
    },
    "collapsed": true,
    "jupyter": {
     "outputs_hidden": true
    },
    "tags": []
   },
   "outputs": [],
   "source": [
    "import sagemaker\n",
    "\n",
    "# Note: sagemaker.get_execution_role does not work outside sagemaker\n",
    "role = sagemaker.get_execution_role()\n",
    "pipeline.upsert(role_arn=role)"
   ]
  },
  {
   "cell_type": "markdown",
   "id": "a1e4eb55",
   "metadata": {
    "collapsed": false
   },
   "source": []
  },
  {
   "cell_type": "code",
   "execution_count": null,
   "id": "189e3dd3-661f-4db3-a8aa-df4d7253a0f4",
   "metadata": {
    "ExecuteTime": {
     "start_time": "2023-11-10T14:03:20.005637Z",
     "end_time": "2023-11-10T14:03:20.248374Z"
    },
    "tags": []
   },
   "outputs": [],
   "source": [
    "execution = pipeline.start(parallelism_config=dict(MaxParallelExecutionSteps=10))"
   ]
  },
  {
   "cell_type": "code",
   "execution_count": null,
   "id": "d627d74e-f4d6-43c7-a618-af56db9cd192",
   "metadata": {
    "ExecuteTime": {
     "start_time": "2023-11-10T14:03:20.242564Z",
     "end_time": "2023-11-10T14:03:20.362961Z"
    },
    "collapsed": true,
    "jupyter": {
     "outputs_hidden": true
    },
    "tags": []
   },
   "outputs": [],
   "source": [
    "execution.describe()"
   ]
  },
  {
   "cell_type": "code",
   "execution_count": null,
   "id": "1e674aaf-2d56-4b00-84ff-b584e913de09",
   "metadata": {
    "ExecuteTime": {
     "end_time": "2023-10-31T15:24:32.379222Z",
     "start_time": "2023-10-31T15:16:30.420232Z"
    },
    "tags": []
   },
   "outputs": [],
   "source": [
    "execution.wait()"
   ]
  },
  {
   "cell_type": "code",
   "execution_count": null,
   "id": "b966e141-07ec-438e-b96c-e14551e911ac",
   "metadata": {
    "ExecuteTime": {
     "end_time": "2023-10-31T15:24:32.522964Z",
     "start_time": "2023-10-31T15:24:32.409163Z"
    },
    "collapsed": true,
    "jupyter": {
     "outputs_hidden": true
    },
    "tags": []
   },
   "outputs": [],
   "source": [
    "execution.list_steps()"
   ]
  },
  {
   "cell_type": "markdown",
   "id": "532dfb5d",
   "metadata": {
    "collapsed": false
   },
   "source": [
    "Once the pipeline execution completes, we can retrieve the output of a step as follows.\n",
    "Note: only the output of a `@step` decorated function can be retrieved via `execution.result()`. In other words, this does not work for the classic step types, e.g. ProcessingStep, TrainingStep etc."
   ]
  },
  {
   "cell_type": "code",
   "execution_count": null,
   "id": "b548b9a7",
   "metadata": {
    "ExecuteTime": {
     "start_time": "2023-11-10T14:03:20.366481Z",
     "end_time": "2023-11-10T14:08:52.525311Z"
    },
    "collapsed": false
   },
   "outputs": [],
   "source": [
    "execution.result(step_name=reduce_func_step_name)"
   ]
  },
  {
   "cell_type": "markdown",
   "execution_count": 21,
   "id": "8202108b-638a-45ac-a21a-c4943f267d29",
   "metadata": {
    "ExecuteTime": {
     "end_time": "2023-09-22T17:45:00.107063Z",
     "start_time": "2023-09-22T17:44:59.953400Z"
    },
    "tags": []
   },
   "outputs": [
    {
     "data": {
      "text/plain": "[{'StepName': 'multiply-2023-09-23-00-32-34-652',\n  'StartTime': datetime.datetime(2023, 9, 22, 17, 41, 10, 346000, tzinfo=tzlocal()),\n  'EndTime': datetime.datetime(2023, 9, 22, 17, 44, 33, 353000, tzinfo=tzlocal()),\n  'StepStatus': 'Succeeded',\n  'AttemptCount': 0,\n  'Metadata': {'TrainingJob': {'Arn': 'arn:aws:sagemaker:us-west-2:901975259594:training-job/pipelines-u4seql8l9v13-multiply-2023-09-23--pA2QRhMkWQ'}}},\n {'StepName': 'my-add',\n  'StartTime': datetime.datetime(2023, 9, 22, 17, 38, 36, 146000, tzinfo=tzlocal()),\n  'EndTime': datetime.datetime(2023, 9, 22, 17, 41, 9, 364000, tzinfo=tzlocal()),\n  'StepStatus': 'Succeeded',\n  'AttemptCount': 0,\n  'Metadata': {'TrainingJob': {'Arn': 'arn:aws:sagemaker:us-west-2:901975259594:training-job/pipelines-u4seql8l9v13-my-add-JCNE3j9sJo'}}},\n {'StepName': 'divide-2023-09-23-00-29-38-200',\n  'StartTime': datetime.datetime(2023, 9, 22, 17, 35, 57, 336000, tzinfo=tzlocal()),\n  'EndTime': datetime.datetime(2023, 9, 22, 17, 38, 35, 595000, tzinfo=tzlocal()),\n  'StepStatus': 'Succeeded',\n  'AttemptCount': 0,\n  'Metadata': {'TrainingJob': {'Arn': 'arn:aws:sagemaker:us-west-2:901975259594:training-job/pipelines-u4seql8l9v13-divide-2023-09-23-00-yflwPqsx0O'}}}]"
     },
     "execution_count": 21,
     "metadata": {},
     "output_type": "execute_result"
    }
   ],
   "source": [
    "## Parametrized Executions\n",
    "In the cell below, we change the \"stat\" Parameter's runtime value from the default \"avg\" to \"sum\" and re-run the pipeline execution."
   ]
  },
  {
   "cell_type": "code",
   "execution_count": null,
   "id": "8dd470af-ee75-40dd-9d57-3d79a40c0d04",
   "metadata": {
    "ExecuteTime": {
     "start_time": "2023-11-10T14:08:52.694822Z",
     "end_time": "2023-11-10T14:13:55.055412Z"
    }
   },
   "outputs": [],
   "source": [
    "execution_sum = pipeline.start(\n",
    "    parameters=dict(\n",
    "        stat=\"sum\",\n",
    "    ),\n",
    "    parallelism_config=dict(MaxParallelExecutionSteps=10),\n",
    ")"
   ]
  },
  {
   "cell_type": "code",
   "execution_count": null,
   "id": "47c4685a-5daa-4b51-af37-0f5939d18480",
   "metadata": {
    "ExecuteTime": {
     "start_time": "2023-11-10T14:13:54.059688Z",
     "end_time": "2023-11-10T14:18:56.332867Z"
    }
   },
   "outputs": [],
   "source": [
    "execution_sum.wait()"
   ]
  },
  {
   "cell_type": "code",
   "execution_count": null,
   "id": "478add71-117e-448d-8a82-3920871a5a1d",
   "metadata": {
    "ExecuteTime": {
     "start_time": "2023-11-10T14:13:54.191377Z",
     "end_time": "2023-11-10T14:18:56.457545Z"
    }
   },
   "outputs": [],
   "source": [
    "execution_sum.list_steps()"
   ]
  },
  {
   "cell_type": "code",
   "execution_count": null,
   "id": "2d5483a7",
   "metadata": {
    "ExecuteTime": {
     "start_time": "2023-11-10T14:13:54.783723Z",
     "end_time": "2023-11-10T14:18:56.939701Z"
    },
    "collapsed": false
   },
   "outputs": [],
   "source": [
    "execution_sum.result(step_name=reduce_func_step_name)"
   ]
  },
  {
   "cell_type": "markdown",
   "id": "55baf66b",
   "metadata": {
    "collapsed": false
   },
   "source": [
    "## Schedule Pipeline Executions\n",
    "The following cells shows how to set up Pipeline Triggers to interact seamlessly with EventBridge Schedules. A PipelineSchedule automatically starts a pipeline execution one-time or on an interval based on the type of schedule expression used.\n",
    "\n",
    "To ensure that the pipeline scheduler works properly, please ensure that the following permissions are attached to current execution role.\n",
    "\n",
    "1. Attach adequate permissions (e.g. [AmazonEventBridgeSchedulerFullAccess](https://docs.aws.amazon.com/scheduler/latest/UserGuide/security_iam_id-based-policy-examples.html#security_iam_id-based-policies-managed-policies-full-access)) to the role.\n",
    "2. Establish trust relationship with EventBridge via adding the service principal `scheduler.amazonaws.com` to the role's trust policy:\n",
    "\n",
    "```\n",
    "{\n",
    "    \"Version\": \"2012-10-17\",\n",
    "    \"Statement\": [\n",
    "        {\n",
    "            \"Effect\": \"Allow\",\n",
    "            \"Principal\": {\n",
    "                \"Service\": [\n",
    "                    \"scheduler.amazonaws.com\",\n",
    "                    \"sagemaker.amazonaws.com\",\n",
    "                    ...\n",
    "                ]\n",
    "            },\n",
    "            \"Action\": \"sts:AssumeRole\"\n",
    "        }\n",
    "    ]\n",
    "}\n",
    "```"
   ]
  },
  {
   "cell_type": "markdown",
   "id": "0582c0b9",
   "metadata": {
    "collapsed": false
   },
   "source": [
    "The cell below provides a simple sample which demonstrates how to create a rate-based pipeline schedule via configuring the `rate` argument. It starts a pipeline execution immediately and reoccurs every 5 minutes."
   ]
  },
  {
   "cell_type": "code",
   "execution_count": null,
   "id": "d477eec1",
   "metadata": {
    "ExecuteTime": {
     "start_time": "2023-11-10T14:18:56.944966Z",
     "end_time": "2023-11-10T14:18:56.951565Z"
    },
    "collapsed": false
   },
   "outputs": [],
   "source": [
    "from sagemaker.workflow.triggers import PipelineSchedule\n",
    "\n",
    "schedule = PipelineSchedule(name=\"calculator-rate-schedule\", rate=(5, \"minutes\"))"
   ]
  },
  {
   "cell_type": "markdown",
   "id": "fb8380cb",
   "metadata": {
    "collapsed": false
   },
   "source": [
    "### Assigning triggers to a parent pipeline\n",
    "\n",
    "A role must be provided to the pipeline scheduler with sufficient permissions to create and use pipeline triggers. This can either be passed in explicitly, as shown below, or be fetched from the intelligent defaults defined in the `config.yaml` file."
   ]
  },
  {
   "cell_type": "code",
   "execution_count": null,
   "id": "a7e778c8",
   "metadata": {
    "ExecuteTime": {
     "start_time": "2023-11-10T14:18:56.961452Z",
     "end_time": "2023-11-10T14:18:57.402537Z"
    },
    "collapsed": false
   },
   "outputs": [],
   "source": [
    "schedules = [schedule]\n",
    "pipeline.put_triggers(triggers=schedules, role_arn=role)"
   ]
  },
  {
   "cell_type": "code",
   "execution_count": null,
   "id": "38572987",
   "metadata": {
    "ExecuteTime": {
     "start_time": "2023-11-10T14:18:57.343394Z",
     "end_time": "2023-11-10T14:18:57.403487Z"
    },
    "collapsed": false
   },
   "outputs": [],
   "source": [
    "pipeline.describe_trigger(trigger_name=schedule.name)"
   ]
  },
  {
   "cell_type": "markdown",
   "id": "fa8f5d32",
   "metadata": {
    "collapsed": false
   },
   "source": [
    "## Clean up resources\n",
    "Before deleting the pipeline, let's make sure deleting its triggers as well. The triggers can be deleted by specifying a list of trigger names.\n",
    "\n",
    "Notes on clean up limitations:\n",
    "* This feature to delete the triggers by specifying trigger names is only available in SageMaker Python SDK. If you delete the pipeline via CLI or DeletePipeline API call, triggers are not deleted. This can cause the trigger to become orphaned, and it will attempt to start an execution for a non-existent pipeline.\n",
    "* If you have already deleted the pipeline target without cleaning up its associated triggers (i.e. schedules), be sure to clean up orphaned schedules via the [scheduler CLI](https://awscli.amazonaws.com/v2/documentation/api/latest/reference/scheduler/delete-schedule.html) or EventBridge console."
   ]
  },
  {
   "cell_type": "code",
   "execution_count": null,
   "id": "8b24b31d",
   "metadata": {
    "ExecuteTime": {
     "start_time": "2023-11-10T14:18:57.397806Z",
     "end_time": "2023-11-10T14:18:57.436349Z"
    },
    "collapsed": false
   },
   "outputs": [],
   "source": [
    "pipeline.delete_triggers(trigger_names=[s.name for s in schedules])"
   ]
  },
  {
   "cell_type": "markdown",
   "id": "4478efda",
   "metadata": {
    "collapsed": false
   },
   "source": [
    "Finally, delete the pipeline only if its associated resources, e.g. triggers, have been all cleaned up and all pipeline executions are terminated."
   ]
  },
  {
   "cell_type": "code",
   "execution_count": null,
   "id": "d7973c8e",
   "metadata": {
    "ExecuteTime": {
     "start_time": "2023-11-10T14:18:57.463185Z",
     "end_time": "2023-11-10T14:19:02.987233Z"
    },
    "collapsed": false
   },
   "outputs": [],
   "source": [
    "from sagemaker.workflow.pipeline import _PipelineExecution\n",
    "\n",
    "execution_responses = pipeline.list_executions()[\"PipelineExecutionSummaries\"]\n",
    "for execution_response in execution_responses:\n",
    "    execution_arn = execution_response[\"PipelineExecutionArn\"]\n",
    "    execution = _PipelineExecution(arn=execution_arn)\n",
    "    try:\n",
    "        execution.wait()\n",
    "    except Exception as e:\n",
    "        print(e)\n",
    "\n",
    "pipeline.delete()"
   ]
  },
  {
   "cell_type": "markdown",
   "id": "c6bb1d28",
   "metadata": {
    "collapsed": false
   },
   "source": [
    "## Notebook CI Test Results\n",
    "\n",
    "This notebook was tested in multiple regions. The test results are as follows, except for us-west-2 which is shown at the top of the notebook.\n",
    "\n",
    "\n",
    "![This us-east-1 badge failed to load. Check your device's internet connectivity, otherwise the service is currently unavailable](https://prod.us-west-2.tcx-beacon.docs.aws.dev/sagemaker-nb/us-east-1/sagemaker-pipelines|step-decorator|quick-start|notebooks|using_step_decorator.ipynb)\n",
    "\n",
    "![This us-east-2 badge failed to load. Check your device's internet connectivity, otherwise the service is currently unavailable](https://prod.us-west-2.tcx-beacon.docs.aws.dev/sagemaker-nb/us-east-2/sagemaker-pipelines|step-decorator|quick-start|notebooks|using_step_decorator.ipynb)\n",
    "\n",
    "![This us-west-1 badge failed to load. Check your device's internet connectivity, otherwise the service is currently unavailable](https://prod.us-west-2.tcx-beacon.docs.aws.dev/sagemaker-nb/us-west-1/sagemaker-pipelines|step-decorator|quick-start|notebooks|using_step_decorator.ipynb)\n",
    "\n",
    "![This ca-central-1 badge failed to load. Check your device's internet connectivity, otherwise the service is currently unavailable](https://prod.us-west-2.tcx-beacon.docs.aws.dev/sagemaker-nb/ca-central-1/sagemaker-pipelines|step-decorator|quick-start|notebooks|using_step_decorator.ipynb)\n",
    "\n",
    "![This sa-east-1 badge failed to load. Check your device's internet connectivity, otherwise the service is currently unavailable](https://prod.us-west-2.tcx-beacon.docs.aws.dev/sagemaker-nb/sa-east-1/sagemaker-pipelines|step-decorator|quick-start|notebooks|using_step_decorator.ipynb)\n",
    "\n",
    "![This eu-west-1 badge failed to load. Check your device's internet connectivity, otherwise the service is currently unavailable](https://prod.us-west-2.tcx-beacon.docs.aws.dev/sagemaker-nb/eu-west-1/sagemaker-pipelines|step-decorator|quick-start|notebooks|using_step_decorator.ipynb)\n",
    "\n",
    "![This eu-west-2 badge failed to load. Check your device's internet connectivity, otherwise the service is currently unavailable](https://prod.us-west-2.tcx-beacon.docs.aws.dev/sagemaker-nb/eu-west-2/sagemaker-pipelines|step-decorator|quick-start|notebooks|using_step_decorator.ipynb)\n",
    "\n",
    "![This eu-west-3 badge failed to load. Check your device's internet connectivity, otherwise the service is currently unavailable](https://prod.us-west-2.tcx-beacon.docs.aws.dev/sagemaker-nb/eu-west-3/sagemaker-pipelines|step-decorator|quick-start|notebooks|using_step_decorator.ipynb)\n",
    "\n",
    "![This eu-central-1 badge failed to load. Check your device's internet connectivity, otherwise the service is currently unavailable](https://prod.us-west-2.tcx-beacon.docs.aws.dev/sagemaker-nb/eu-central-1/sagemaker-pipelines|step-decorator|quick-start|notebooks|using_step_decorator.ipynb)\n",
    "\n",
    "![This eu-north-1 badge failed to load. Check your device's internet connectivity, otherwise the service is currently unavailable](https://prod.us-west-2.tcx-beacon.docs.aws.dev/sagemaker-nb/eu-north-1/sagemaker-pipelines|step-decorator|quick-start|notebooks|using_step_decorator.ipynb)\n",
    "\n",
    "![This ap-southeast-1 badge failed to load. Check your device's internet connectivity, otherwise the service is currently unavailable](https://prod.us-west-2.tcx-beacon.docs.aws.dev/sagemaker-nb/ap-southeast-1/sagemaker-pipelines|step-decorator|quick-start|notebooks|using_step_decorator.ipynb)\n",
    "\n",
    "![This ap-southeast-2 badge failed to load. Check your device's internet connectivity, otherwise the service is currently unavailable](https://prod.us-west-2.tcx-beacon.docs.aws.dev/sagemaker-nb/ap-southeast-2/sagemaker-pipelines|step-decorator|quick-start|notebooks|using_step_decorator.ipynb)\n",
    "\n",
    "![This ap-northeast-1 badge failed to load. Check your device's internet connectivity, otherwise the service is currently unavailable](https://prod.us-west-2.tcx-beacon.docs.aws.dev/sagemaker-nb/ap-northeast-1/sagemaker-pipelines|step-decorator|quick-start|notebooks|using_step_decorator.ipynb)\n",
    "\n",
    "![This ap-northeast-2 badge failed to load. Check your device's internet connectivity, otherwise the service is currently unavailable](https://prod.us-west-2.tcx-beacon.docs.aws.dev/sagemaker-nb/ap-northeast-2/sagemaker-pipelines|step-decorator|quick-start|notebooks|using_step_decorator.ipynb)\n",
    "\n",
    "![This ap-south-1 badge failed to load. Check your device's internet connectivity, otherwise the service is currently unavailable](https://prod.us-west-2.tcx-beacon.docs.aws.dev/sagemaker-nb/ap-south-1/sagemaker-pipelines|step-decorator|quick-start|notebooks|using_step_decorator.ipynb)\n"
   ]
  },
  {
   "cell_type": "code",
   "execution_count": null,
   "id": "b7cb9b4b",
   "metadata": {
    "collapsed": false
   },
   "outputs": [],
   "source": []
  }
 ],
 "metadata": {
  "availableInstances": [
   {
    "_defaultOrder": 0,
    "_isFastLaunch": true,
    "category": "General purpose",
    "gpuNum": 0,
    "hideHardwareSpecs": false,
    "memoryGiB": 4,
    "name": "ml.t3.medium",
    "vcpuNum": 2
   },
   {
    "_defaultOrder": 1,
    "_isFastLaunch": false,
    "category": "General purpose",
    "gpuNum": 0,
    "hideHardwareSpecs": false,
    "memoryGiB": 8,
    "name": "ml.t3.large",
    "vcpuNum": 2
   },
   {
    "_defaultOrder": 2,
    "_isFastLaunch": false,
    "category": "General purpose",
    "gpuNum": 0,
    "hideHardwareSpecs": false,
    "memoryGiB": 16,
    "name": "ml.t3.xlarge",
    "vcpuNum": 4
   },
   {
    "_defaultOrder": 3,
    "_isFastLaunch": false,
    "category": "General purpose",
    "gpuNum": 0,
    "hideHardwareSpecs": false,
    "memoryGiB": 32,
    "name": "ml.t3.2xlarge",
    "vcpuNum": 8
   },
   {
    "_defaultOrder": 4,
    "_isFastLaunch": true,
    "category": "General purpose",
    "gpuNum": 0,
    "hideHardwareSpecs": false,
    "memoryGiB": 8,
    "name": "ml.m5.large",
    "vcpuNum": 2
   },
   {
    "_defaultOrder": 5,
    "_isFastLaunch": false,
    "category": "General purpose",
    "gpuNum": 0,
    "hideHardwareSpecs": false,
    "memoryGiB": 16,
    "name": "ml.m5.xlarge",
    "vcpuNum": 4
   },
   {
    "_defaultOrder": 6,
    "_isFastLaunch": false,
    "category": "General purpose",
    "gpuNum": 0,
    "hideHardwareSpecs": false,
    "memoryGiB": 32,
    "name": "ml.m5.2xlarge",
    "vcpuNum": 8
   },
   {
    "_defaultOrder": 7,
    "_isFastLaunch": false,
    "category": "General purpose",
    "gpuNum": 0,
    "hideHardwareSpecs": false,
    "memoryGiB": 64,
    "name": "ml.m5.4xlarge",
    "vcpuNum": 16
   },
   {
    "_defaultOrder": 8,
    "_isFastLaunch": false,
    "category": "General purpose",
    "gpuNum": 0,
    "hideHardwareSpecs": false,
    "memoryGiB": 128,
    "name": "ml.m5.8xlarge",
    "vcpuNum": 32
   },
   {
    "_defaultOrder": 9,
    "_isFastLaunch": false,
    "category": "General purpose",
    "gpuNum": 0,
    "hideHardwareSpecs": false,
    "memoryGiB": 192,
    "name": "ml.m5.12xlarge",
    "vcpuNum": 48
   },
   {
    "_defaultOrder": 10,
    "_isFastLaunch": false,
    "category": "General purpose",
    "gpuNum": 0,
    "hideHardwareSpecs": false,
    "memoryGiB": 256,
    "name": "ml.m5.16xlarge",
    "vcpuNum": 64
   },
   {
    "_defaultOrder": 11,
    "_isFastLaunch": false,
    "category": "General purpose",
    "gpuNum": 0,
    "hideHardwareSpecs": false,
    "memoryGiB": 384,
    "name": "ml.m5.24xlarge",
    "vcpuNum": 96
   },
   {
    "_defaultOrder": 12,
    "_isFastLaunch": false,
    "category": "General purpose",
    "gpuNum": 0,
    "hideHardwareSpecs": false,
    "memoryGiB": 8,
    "name": "ml.m5d.large",
    "vcpuNum": 2
   },
   {
    "_defaultOrder": 13,
    "_isFastLaunch": false,
    "category": "General purpose",
    "gpuNum": 0,
    "hideHardwareSpecs": false,
    "memoryGiB": 16,
    "name": "ml.m5d.xlarge",
    "vcpuNum": 4
   },
   {
    "_defaultOrder": 14,
    "_isFastLaunch": false,
    "category": "General purpose",
    "gpuNum": 0,
    "hideHardwareSpecs": false,
    "memoryGiB": 32,
    "name": "ml.m5d.2xlarge",
    "vcpuNum": 8
   },
   {
    "_defaultOrder": 15,
    "_isFastLaunch": false,
    "category": "General purpose",
    "gpuNum": 0,
    "hideHardwareSpecs": false,
    "memoryGiB": 64,
    "name": "ml.m5d.4xlarge",
    "vcpuNum": 16
   },
   {
    "_defaultOrder": 16,
    "_isFastLaunch": false,
    "category": "General purpose",
    "gpuNum": 0,
    "hideHardwareSpecs": false,
    "memoryGiB": 128,
    "name": "ml.m5d.8xlarge",
    "vcpuNum": 32
   },
   {
    "_defaultOrder": 17,
    "_isFastLaunch": false,
    "category": "General purpose",
    "gpuNum": 0,
    "hideHardwareSpecs": false,
    "memoryGiB": 192,
    "name": "ml.m5d.12xlarge",
    "vcpuNum": 48
   },
   {
    "_defaultOrder": 18,
    "_isFastLaunch": false,
    "category": "General purpose",
    "gpuNum": 0,
    "hideHardwareSpecs": false,
    "memoryGiB": 256,
    "name": "ml.m5d.16xlarge",
    "vcpuNum": 64
   },
   {
    "_defaultOrder": 19,
    "_isFastLaunch": false,
    "category": "General purpose",
    "gpuNum": 0,
    "hideHardwareSpecs": false,
    "memoryGiB": 384,
    "name": "ml.m5d.24xlarge",
    "vcpuNum": 96
   },
   {
    "_defaultOrder": 20,
    "_isFastLaunch": false,
    "category": "General purpose",
    "gpuNum": 0,
    "hideHardwareSpecs": true,
    "memoryGiB": 0,
    "name": "ml.geospatial.interactive",
    "supportedImageNames": [
     "sagemaker-geospatial-v1-0"
    ],
    "vcpuNum": 0
   },
   {
    "_defaultOrder": 21,
    "_isFastLaunch": true,
    "category": "Compute optimized",
    "gpuNum": 0,
    "hideHardwareSpecs": false,
    "memoryGiB": 4,
    "name": "ml.c5.large",
    "vcpuNum": 2
   },
   {
    "_defaultOrder": 22,
    "_isFastLaunch": false,
    "category": "Compute optimized",
    "gpuNum": 0,
    "hideHardwareSpecs": false,
    "memoryGiB": 8,
    "name": "ml.c5.xlarge",
    "vcpuNum": 4
   },
   {
    "_defaultOrder": 23,
    "_isFastLaunch": false,
    "category": "Compute optimized",
    "gpuNum": 0,
    "hideHardwareSpecs": false,
    "memoryGiB": 16,
    "name": "ml.c5.2xlarge",
    "vcpuNum": 8
   },
   {
    "_defaultOrder": 24,
    "_isFastLaunch": false,
    "category": "Compute optimized",
    "gpuNum": 0,
    "hideHardwareSpecs": false,
    "memoryGiB": 32,
    "name": "ml.c5.4xlarge",
    "vcpuNum": 16
   },
   {
    "_defaultOrder": 25,
    "_isFastLaunch": false,
    "category": "Compute optimized",
    "gpuNum": 0,
    "hideHardwareSpecs": false,
    "memoryGiB": 72,
    "name": "ml.c5.9xlarge",
    "vcpuNum": 36
   },
   {
    "_defaultOrder": 26,
    "_isFastLaunch": false,
    "category": "Compute optimized",
    "gpuNum": 0,
    "hideHardwareSpecs": false,
    "memoryGiB": 96,
    "name": "ml.c5.12xlarge",
    "vcpuNum": 48
   },
   {
    "_defaultOrder": 27,
    "_isFastLaunch": false,
    "category": "Compute optimized",
    "gpuNum": 0,
    "hideHardwareSpecs": false,
    "memoryGiB": 144,
    "name": "ml.c5.18xlarge",
    "vcpuNum": 72
   },
   {
    "_defaultOrder": 28,
    "_isFastLaunch": false,
    "category": "Compute optimized",
    "gpuNum": 0,
    "hideHardwareSpecs": false,
    "memoryGiB": 192,
    "name": "ml.c5.24xlarge",
    "vcpuNum": 96
   },
   {
    "_defaultOrder": 29,
    "_isFastLaunch": true,
    "category": "Accelerated computing",
    "gpuNum": 1,
    "hideHardwareSpecs": false,
    "memoryGiB": 16,
    "name": "ml.g4dn.xlarge",
    "vcpuNum": 4
   },
   {
    "_defaultOrder": 30,
    "_isFastLaunch": false,
    "category": "Accelerated computing",
    "gpuNum": 1,
    "hideHardwareSpecs": false,
    "memoryGiB": 32,
    "name": "ml.g4dn.2xlarge",
    "vcpuNum": 8
   },
   {
    "_defaultOrder": 31,
    "_isFastLaunch": false,
    "category": "Accelerated computing",
    "gpuNum": 1,
    "hideHardwareSpecs": false,
    "memoryGiB": 64,
    "name": "ml.g4dn.4xlarge",
    "vcpuNum": 16
   },
   {
    "_defaultOrder": 32,
    "_isFastLaunch": false,
    "category": "Accelerated computing",
    "gpuNum": 1,
    "hideHardwareSpecs": false,
    "memoryGiB": 128,
    "name": "ml.g4dn.8xlarge",
    "vcpuNum": 32
   },
   {
    "_defaultOrder": 33,
    "_isFastLaunch": false,
    "category": "Accelerated computing",
    "gpuNum": 4,
    "hideHardwareSpecs": false,
    "memoryGiB": 192,
    "name": "ml.g4dn.12xlarge",
    "vcpuNum": 48
   },
   {
    "_defaultOrder": 34,
    "_isFastLaunch": false,
    "category": "Accelerated computing",
    "gpuNum": 1,
    "hideHardwareSpecs": false,
    "memoryGiB": 256,
    "name": "ml.g4dn.16xlarge",
    "vcpuNum": 64
   },
   {
    "_defaultOrder": 35,
    "_isFastLaunch": false,
    "category": "Accelerated computing",
    "gpuNum": 1,
    "hideHardwareSpecs": false,
    "memoryGiB": 61,
    "name": "ml.p3.2xlarge",
    "vcpuNum": 8
   },
   {
    "_defaultOrder": 36,
    "_isFastLaunch": false,
    "category": "Accelerated computing",
    "gpuNum": 4,
    "hideHardwareSpecs": false,
    "memoryGiB": 244,
    "name": "ml.p3.8xlarge",
    "vcpuNum": 32
   },
   {
    "_defaultOrder": 37,
    "_isFastLaunch": false,
    "category": "Accelerated computing",
    "gpuNum": 8,
    "hideHardwareSpecs": false,
    "memoryGiB": 488,
    "name": "ml.p3.16xlarge",
    "vcpuNum": 64
   },
   {
    "_defaultOrder": 38,
    "_isFastLaunch": false,
    "category": "Accelerated computing",
    "gpuNum": 8,
    "hideHardwareSpecs": false,
    "memoryGiB": 768,
    "name": "ml.p3dn.24xlarge",
    "vcpuNum": 96
   },
   {
    "_defaultOrder": 39,
    "_isFastLaunch": false,
    "category": "Memory Optimized",
    "gpuNum": 0,
    "hideHardwareSpecs": false,
    "memoryGiB": 16,
    "name": "ml.r5.large",
    "vcpuNum": 2
   },
   {
    "_defaultOrder": 40,
    "_isFastLaunch": false,
    "category": "Memory Optimized",
    "gpuNum": 0,
    "hideHardwareSpecs": false,
    "memoryGiB": 32,
    "name": "ml.r5.xlarge",
    "vcpuNum": 4
   },
   {
    "_defaultOrder": 41,
    "_isFastLaunch": false,
    "category": "Memory Optimized",
    "gpuNum": 0,
    "hideHardwareSpecs": false,
    "memoryGiB": 64,
    "name": "ml.r5.2xlarge",
    "vcpuNum": 8
   },
   {
    "_defaultOrder": 42,
    "_isFastLaunch": false,
    "category": "Memory Optimized",
    "gpuNum": 0,
    "hideHardwareSpecs": false,
    "memoryGiB": 128,
    "name": "ml.r5.4xlarge",
    "vcpuNum": 16
   },
   {
    "_defaultOrder": 43,
    "_isFastLaunch": false,
    "category": "Memory Optimized",
    "gpuNum": 0,
    "hideHardwareSpecs": false,
    "memoryGiB": 256,
    "name": "ml.r5.8xlarge",
    "vcpuNum": 32
   },
   {
    "_defaultOrder": 44,
    "_isFastLaunch": false,
    "category": "Memory Optimized",
    "gpuNum": 0,
    "hideHardwareSpecs": false,
    "memoryGiB": 384,
    "name": "ml.r5.12xlarge",
    "vcpuNum": 48
   },
   {
    "_defaultOrder": 45,
    "_isFastLaunch": false,
    "category": "Memory Optimized",
    "gpuNum": 0,
    "hideHardwareSpecs": false,
    "memoryGiB": 512,
    "name": "ml.r5.16xlarge",
    "vcpuNum": 64
   },
   {
    "_defaultOrder": 46,
    "_isFastLaunch": false,
    "category": "Memory Optimized",
    "gpuNum": 0,
    "hideHardwareSpecs": false,
    "memoryGiB": 768,
    "name": "ml.r5.24xlarge",
    "vcpuNum": 96
   },
   {
    "_defaultOrder": 47,
    "_isFastLaunch": false,
    "category": "Accelerated computing",
    "gpuNum": 1,
    "hideHardwareSpecs": false,
    "memoryGiB": 16,
    "name": "ml.g5.xlarge",
    "vcpuNum": 4
   },
   {
    "_defaultOrder": 48,
    "_isFastLaunch": false,
    "category": "Accelerated computing",
    "gpuNum": 1,
    "hideHardwareSpecs": false,
    "memoryGiB": 32,
    "name": "ml.g5.2xlarge",
    "vcpuNum": 8
   },
   {
    "_defaultOrder": 49,
    "_isFastLaunch": false,
    "category": "Accelerated computing",
    "gpuNum": 1,
    "hideHardwareSpecs": false,
    "memoryGiB": 64,
    "name": "ml.g5.4xlarge",
    "vcpuNum": 16
   },
   {
    "_defaultOrder": 50,
    "_isFastLaunch": false,
    "category": "Accelerated computing",
    "gpuNum": 1,
    "hideHardwareSpecs": false,
    "memoryGiB": 128,
    "name": "ml.g5.8xlarge",
    "vcpuNum": 32
   },
   {
    "_defaultOrder": 51,
    "_isFastLaunch": false,
    "category": "Accelerated computing",
    "gpuNum": 1,
    "hideHardwareSpecs": false,
    "memoryGiB": 256,
    "name": "ml.g5.16xlarge",
    "vcpuNum": 64
   },
   {
    "_defaultOrder": 52,
    "_isFastLaunch": false,
    "category": "Accelerated computing",
    "gpuNum": 4,
    "hideHardwareSpecs": false,
    "memoryGiB": 192,
    "name": "ml.g5.12xlarge",
    "vcpuNum": 48
   },
   {
    "_defaultOrder": 53,
    "_isFastLaunch": false,
    "category": "Accelerated computing",
    "gpuNum": 4,
    "hideHardwareSpecs": false,
    "memoryGiB": 384,
    "name": "ml.g5.24xlarge",
    "vcpuNum": 96
   },
   {
    "_defaultOrder": 54,
    "_isFastLaunch": false,
    "category": "Accelerated computing",
    "gpuNum": 8,
    "hideHardwareSpecs": false,
    "memoryGiB": 768,
    "name": "ml.g5.48xlarge",
    "vcpuNum": 192
   },
   {
    "_defaultOrder": 55,
    "_isFastLaunch": false,
    "category": "Accelerated computing",
    "gpuNum": 8,
    "hideHardwareSpecs": false,
    "memoryGiB": 1152,
    "name": "ml.p4d.24xlarge",
    "vcpuNum": 96
   },
   {
    "_defaultOrder": 56,
    "_isFastLaunch": false,
    "category": "Accelerated computing",
    "gpuNum": 8,
    "hideHardwareSpecs": false,
    "memoryGiB": 1152,
    "name": "ml.p4de.24xlarge",
    "vcpuNum": 96
   }
  ],
  "instance_type": "ml.t3.medium",
  "kernelspec": {
   "display_name": "Python 3 (ipykernel)",
   "language": "python",
   "name": "python3"
  },
  "language_info": {
   "codemirror_mode": {
    "name": "ipython",
    "version": 3
   },
   "file_extension": ".py",
   "mimetype": "text/x-python",
   "name": "python",
   "nbconvert_exporter": "python",
   "pygments_lexer": "ipython3",
   "version": "3.10.6"
  }
 },
 "nbformat": 4,
 "nbformat_minor": 5
}
