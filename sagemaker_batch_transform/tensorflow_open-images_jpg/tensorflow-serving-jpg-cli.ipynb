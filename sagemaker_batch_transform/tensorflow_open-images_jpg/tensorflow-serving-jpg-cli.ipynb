{
 "cells": [
  {
   "cell_type": "markdown",
   "metadata": {},
   "source": [
    "#  Highly Performant TensorFlow Batch Inference on Image Data Using the SageMaker CLI\n",
    "\n",
    "In this notebook, we'll show how to use SageMaker batch transform to get inferences on a large datasets. To do this, we'll use a TensorFlow Serving model to do batch inference on a large dataset of images. We'll show how to use the new pre-processing and post-processing feature of the TensorFlow Serving container on Amazon SageMaker so that your TensorFlow model can make inferences directly on data in S3, and save post-processed inferences to S3.\n",
    "\n",
    "The dataset we'll be using is the [“Challenge 2018/2019\"](https://github.com/cvdfoundation/open-images-dataset#download-the-open-images-challenge-28182019-test-set)” subset of the [Open Images V5 Dataset](https://storage.googleapis.com/openimages/web/index.html). This subset consists of 100,00 images in .jpg format, for a total of 10GB. For demonstration, the [model](https://github.com/tensorflow/models/tree/master/official/resnet#pre-trained-model) we'll be using is an image classification model based on the ResNet-50 architecture that has been trained on the ImageNet dataset, and which has been exported as a TensorFlow SavedModel.\n",
    "\n",
    "We will use this model to predict the class that each model belongs to. We'll write a pre- and post-processing script and package the script with our TensorFlow SavedModel, and demonstrate how to get inferences on large datasets with SageMaker batch transform quickly, efficiently, and at scale, on GPU-accelerated instances."
   ]
  },
  {
   "cell_type": "markdown",
   "metadata": {},
   "source": [
    "## Setup \n",
    "\n",
    "We'll begin with some necessary imports, and get an Amazon SageMaker session to help perform certain tasks, as well as an IAM role with the necessary permissions."
   ]
  },
  {
   "cell_type": "code",
   "execution_count": null,
   "metadata": {},
   "outputs": [],
   "source": [
    "import numpy as np\n",
    "import os\n",
    "import sagemaker\n",
    "from sagemaker import get_execution_role\n",
    "\n",
    "sagemaker_session = sagemaker.Session()\n",
    "role = get_execution_role()\n",
    "\n",
    "region = sagemaker_session.boto_region_name\n",
    "bucket = sagemaker_session.default_bucket()\n",
    "prefix = 'sagemaker/DEMO-tf-batch-inference-jpeg-images-python-sdk'\n",
    "uri_suffix = 'amazonaws.com'\n",
    "account_id = 520713654638\n",
    "account_id_cn = {\n",
    "    'cn-north-1': 422961961927,\n",
    "    'cn-northwest-1': 423003514399\n",
    "}\n",
    "if region in ['cn-north-1', 'cn-northwest-1']:\n",
    "    uri_suffix = 'amazonaws.com.cn'\n",
    "    account_id = account_id_cn[region]\n",
    "print('Region: {}'.format(region))\n",
    "print('S3 URI: s3://{}/{}'.format(bucket, prefix))\n",
    "print('Role:   {}'.format(role))"
   ]
  },
  {
   "cell_type": "markdown",
   "metadata": {},
   "source": [
    "## Inspecting the SavedModel"
   ]
  },
  {
   "cell_type": "markdown",
   "metadata": {},
   "source": [
    "In order to make inferences, we'll have to preprocess our image data in S3 to match the serving signature of our TensorFlow SavedModel (https://www.tensorflow.org/guide/saved_model), which we can inspect using the saved_model_cli (https://github.com/tensorflow/tensorflow/blob/master/tensorflow/python/tools/saved_model_cli.py).  This is the serving signature of the ResNet-50 v2 (NCHW, JPEG) (https://github.com/tensorflow/models/tree/master/official/resnet#pre-trained-model) model:"
   ]
  },
  {
   "cell_type": "code",
   "execution_count": null,
   "metadata": {},
   "outputs": [],
   "source": [
    "!aws s3 cp s3://sagemaker-sample-data-{region}/batch-transform/open-images/model/resnet_v2_fp32_savedmodel_NCHW_jpg.tar.gz .\n",
    "!tar -zxf resnet_v2_fp32_savedmodel_NCHW_jpg.tar.gz\n",
    "!saved_model_cli show --dir resnet_v2_fp32_savedmodel_NCHW_jpg/1538687370/ --all"
   ]
  },
  {
   "cell_type": "markdown",
   "metadata": {},
   "source": [
    "The SageMaker TensorFlow Serving Container uses the model’s SignatureDef named serving_default , which is declared when the TensorFlow SavedModel is exported. This SignatureDef says that the model accepts a string of arbitrary length as input, and responds with classes and their probabilities. With our image classification model, the input string will be a base-64 encoded string representing a JPEG image, which our SavedModel will decode."
   ]
  },
  {
   "cell_type": "markdown",
   "metadata": {},
   "source": [
    "## Writing a pre- and post-processing script\n",
    "\n",
    "We will package up our SavedModel with a Python script named `inference.py`, which will pre-process input data going from S3 to our TensorFlow Serving model, and post-process output data before it is saved back to S3:"
   ]
  },
  {
   "cell_type": "code",
   "execution_count": null,
   "metadata": {},
   "outputs": [],
   "source": [
    "!pygmentize code/inference.py"
   ]
  },
  {
   "cell_type": "markdown",
   "metadata": {},
   "source": [
    "The input_handler intercepts inference requests, base-64 encodes the request body, and formats the request body to conform to TensorFlow Serving’s REST API (https://www.tensorflow.org/tfx/serving/api_rest). The return value of the input_handler function is used as the request body in the TensorFlow Serving request.\n",
    "\n",
    "Binary data must use key \"b64\", according to the TFS REST API (https://www.tensorflow.org/tfx/serving/api_rest#encoding_binary_values), and since our serving signature’s input tensor has the suffix \"\\_bytes\", the encoded image data under key \"b64\" will be passed to the \"image\\_bytes\" tensor. Some serving signatures may accept a tensor of floats or integers instead of a base-64 encoded string, but for binary data (including image data), it is recommended that your SavedModel accept a base-64 encoded string for binary data, since JSON representations of binary data can be large."
   ]
  },
  {
   "cell_type": "markdown",
   "metadata": {},
   "source": [
    "Each incoming request originally contains a serialized JPEG image in its request body, and after passing through the input_handler, the request body contains the following, which our TensorFlow Serving accepts for inference:\n",
    "\n",
    "`{\"instances\": [{\"b64\":\"[base-64 encoded JPEG image]\"}]}`"
   ]
  },
  {
   "cell_type": "markdown",
   "metadata": {},
   "source": [
    "The first field in the return value of `output_handler` is what SageMaker Batch Transform will save to S3 as this example’s prediction. In this case, our `output_handler` passes the content on to S3 unmodified.\n",
    "\n",
    "Pre- and post-processing functions let you perform inference with TensorFlow Serving on any data format, not just images. To learn more about the `input_handler` and `output_handler`, consult the SageMaker TensorFlow Serving Container README (https://github.com/aws/sagemaker-tensorflow-serving-container/blob/master/README.md)."
   ]
  },
  {
   "cell_type": "markdown",
   "metadata": {},
   "source": [
    "## Packaging a Model"
   ]
  },
  {
   "cell_type": "markdown",
   "metadata": {},
   "source": [
    "After writing a pre- and post-processing script, you’ll need to package your TensorFlow SavedModel along with your script into a `model.tar.gz` file, which we’ll upload to S3 for the SageMaker TensorFlow Serving Container to use. Let's package the SavedModel with the `inference.py` script and examine the expected format of the `model.tar.gz` file:"
   ]
  },
  {
   "cell_type": "code",
   "execution_count": null,
   "metadata": {},
   "outputs": [],
   "source": [
    "!tar -cvzf model.tar.gz code --directory=resnet_v2_fp32_savedmodel_NCHW_jpg 1538687370"
   ]
  },
  {
   "cell_type": "markdown",
   "metadata": {},
   "source": [
    "`1538687370` refers to the model version number of the SavedModel, and this directory contains our SavedModel artifacts. The code directory contains our pre- and post-processing script, which must be named `inference.py`. I can also include an optional `requirements.txt` file, which is used to install dependencies with `pip` from the Python Package Index before the Transform Job starts, but we don’t need any additional dependencies in this case, so we don't include a requirements file."
   ]
  },
  {
   "cell_type": "markdown",
   "metadata": {},
   "source": [
    "We will use this `model.tar.gz` when we create a SageMaker Model, which we will use to run Transform Jobs. To learn more about packaging a model, you can consult the SageMaker TensorFlow Serving Container [README](https://github.com/aws/sagemaker-tensorflow-serving-container/blob/master/README.md)."
   ]
  },
  {
   "cell_type": "markdown",
   "metadata": {},
   "source": [
    "## Run a Batch Transform job\n",
    "\n",
    "Next, we'll run a Batch Transform job using our data processing script and GPU-based Amazon SageMaker Model. More specifically, we'll perform inference on a cluster of two instances, though we can choose more or fewer. The objects in the S3 path will be distributed between the instances."
   ]
  },
  {
   "cell_type": "markdown",
   "metadata": {},
   "source": [
    "Before we create a Transform Job, let's inspect some of our input data. Here's an example, the first image in our dataset:\n",
    "\n",
    "\n",
    "\n",
    "<img src=\"sample_image/00000b4dcff7f799.jpg\">"
   ]
  },
  {
   "cell_type": "markdown",
   "metadata": {},
   "source": [
    "The data in the input path consists of 100,000 JPEG images of varying sizes and shapes. Here is a subset:"
   ]
  },
  {
   "cell_type": "code",
   "execution_count": null,
   "metadata": {},
   "outputs": [],
   "source": [
    "!aws s3 ls s3://sagemaker-sample-data-{region}/batch-transform/open-images/jpg/000 --human-readable"
   ]
  },
  {
   "cell_type": "markdown",
   "metadata": {},
   "source": [
    "### Creating a Model and Running a Transform Job\n",
    "\n",
    "The code below creates a SageMaker Model entity that will be used for Batch inference, and runs a Transform Job using that Model. The Model contains a reference to the TFS container, and the `model.tar.gz` containing our TensorFlow SavedModel and the pre- and post-processing `inference.py` script.\n",
    "\n",
    "After we create a SageMaker Model, we use it to run batch predictions using Batch Transform. We specify the input S3 data, content type of the input data, the output S3 data, and instance type and count.\n",
    "\n",
    "### Performance\n",
    "\n",
    "For improved performance, we specify two additional parameters `max_concurrent_transforms` and `max_payload`, which control the maximum number of parallel requests that can be sent to each instance in a transform job at a time, and the maximum size of each request body.\n",
    "\n",
    "When performing inference on entire S3 objects that cannot be split by newline characters, such as images, it is recommended that you set `max_payload` to be slightly larger than the largest S3 object in your dataset, and that you experiment with the `max_concurrent_transforms` parameter in powers of two to find a value that maximizes throughput for your model. For example, we’ve set `max_concurrent_transforms` to 64 after experimenting with powers of two, and we set `max_payload` to 1, since the largest object in our S3 input is less than one megabyte."
   ]
  },
  {
   "cell_type": "code",
   "execution_count": null,
   "metadata": {},
   "outputs": [],
   "source": [
    "%%bash -s \"$bucket\" \"$prefix\" \"$role\" \"$region\" \"$uri_suffix\" \"$account_id\"\n",
    "# For convenience, we pass in bucket, prefix, role, and region set in first Python set-up cell\n",
    "\n",
    "BUCKET=$1\n",
    "PREFIX=$2\n",
    "ROLE_ARN=$3\n",
    "REGION=$4\n",
    "URI_SUFFIX=$5\n",
    "ACCOUNT_ID=$6\n",
    "\n",
    "timestamp() {\n",
    "  date +%Y-%m-%d-%H-%M-%S\n",
    "}\n",
    "\n",
    "# Creating the SageMaker Model: \n",
    "MODEL_NAME=\"image-classification-tfs-$(timestamp)\"\n",
    "MODEL_DATA_URL=\"s3://$BUCKET/$PREFIX/model/model.tar.gz\"\n",
    "\n",
    "aws s3 cp model.tar.gz $MODEL_DATA_URL\n",
    "\n",
    "# This image is maintained at https://github.com/aws/sagemaker-tensorflow-serving-container\n",
    "TFS_VERSION=\"1.13\"\n",
    "PROCESSOR_TYPE=\"gpu\"\n",
    "IMAGE=\"$ACCOUNT_ID.dkr.ecr.$REGION.$URI_SUFFIX/sagemaker-tensorflow-serving:$TFS_VERSION-$PROCESSOR_TYPE\"\n",
    "\n",
    "aws sagemaker create-model \\\n",
    "    --model-name $MODEL_NAME \\\n",
    "    --primary-container Image=$IMAGE,ModelDataUrl=$MODEL_DATA_URL \\\n",
    "    --execution-role-arn $ROLE_ARN\n",
    "\n",
    "# Creating the Transform Job:\n",
    "TRANSFORM_JOB_NAME=\"tfs-image-classification-job-$(timestamp)\"\n",
    "\n",
    "# Specify where to get input data and where to get output data:\n",
    "TRANSFORM_S3_INPUT=\"s3://sagemaker-sample-data-$REGION/batch-transform/open-images/jpg\"\n",
    "TRANSFORM_S3_OUTPUT=\"s3://$BUCKET/$PREFIX/output\"\n",
    "\n",
    "# Our inference script validates the Content-Type, so we set it to \"application/x-image\".\n",
    "# SageMaker Model containers can use the content type field to transform multiple different data formats.\n",
    "# The Data Source tells Batch to get all objects under the S3 prefix.\n",
    "TRANSFORM_INPUT_DATA_SOURCE={S3DataSource={S3DataType=\"S3Prefix\",S3Uri=$TRANSFORM_S3_INPUT}}\n",
    "CONTENT_TYPE=\"application/x-image\"\n",
    "\n",
    "# Specify resources used to transform the job\n",
    "INSTANCE_TYPE=\"ml.p3.2xlarge\"\n",
    "INSTANCE_COUNT=2\n",
    "\n",
    "# Performance parameters. MaxPayloadInMB specifies how large each request body can be.\n",
    "# Our images happen to be less than 1MB, so we set MaxPayloadInMB to 1MB.\n",
    "# MaxConcurrentTransforms configures the number of concurrent requests made to the container at once.\n",
    "# The ideal number depends on the payload size, instance type, and model, so some experimentation\n",
    "# may be beneficial.\n",
    "MAX_PAYLOAD_IN_MB=1\n",
    "MAX_CONCURRENT_TRANSFORMS=64\n",
    "\n",
    "aws sagemaker create-transform-job \\\n",
    "    --model-name $MODEL_NAME \\\n",
    "    --transform-input DataSource=$TRANSFORM_INPUT_DATA_SOURCE,ContentType=$CONTENT_TYPE \\\n",
    "    --transform-output S3OutputPath=$TRANSFORM_S3_OUTPUT \\\n",
    "    --transform-resources InstanceType=$INSTANCE_TYPE,InstanceCount=$INSTANCE_COUNT \\\n",
    "    --max-payload-in-mb $MAX_PAYLOAD_IN_MB \\\n",
    "    --max-concurrent-transforms $MAX_CONCURRENT_TRANSFORMS \\\n",
    "    --transform-job-name $TRANSFORM_JOB_NAME \\\n",
    "\n",
    "\n",
    "echo \"Model name: $MODEL_NAME\"\n",
    "echo \"Transform job name: $TRANSFORM_JOB_NAME\"\n",
    "echo \"Transform job input path: $TRANSFORM_S3_INPUT\"\n",
    "echo \"Transform job output path: $TRANSFORM_S3_OUTPUT\"\n",
    "\n",
    "# Wait for the transform job to finish.\n",
    "aws sagemaker wait transform-job-completed-or-stopped \\\n",
    "  --transform-job-name $TRANSFORM_JOB_NAME\n",
    "  \n",
    "# Examine the output.\n",
    "aws s3 ls $TRANSFORM_S3_OUTPUT/000 --human-readable\n",
    "\n",
    "# Copy an output example locally.\n",
    "aws s3 cp $TRANSFORM_S3_OUTPUT/00000b4dcff7f799.jpg.out ."
   ]
  },
  {
   "cell_type": "markdown",
   "metadata": {},
   "source": [
    "We see that after our transform job finishes, we find one S3 object in the output path for each object in the input path. This object contains the inferences from our model for that object, and has the same name as the corresponding input object, but with `.out` appended to it.\n",
    "\n",
    "Inspecting one of the output objects, we find the prediction from our TensorFlow Serving model. This is from the example image displayed above:"
   ]
  },
  {
   "cell_type": "code",
   "execution_count": null,
   "metadata": {},
   "outputs": [],
   "source": [
    "!cat 00000b4dcff7f799.jpg.out"
   ]
  },
  {
   "cell_type": "markdown",
   "metadata": {},
   "source": [
    "## Conclusion\n",
    "\n",
    "SageMaker batch transform can transform large datasets quickly and scalably. We used the SageMaker TensorFlow Serving Container to demonstrate how to quickly get inferences on a hundred thousand images using GPU-accelerated instances.\n",
    "\n",
    "The Amazon SageMaker TFS container supports CSV and JSON data out of the box. The pre- and post-processing feature of the container lets you run transform jobs on data of any format. The same container can be used for real-time inference as well using an Amazon SageMaker hosted model endpoint."
   ]
  }
 ],
 "metadata": {
  "kernelspec": {
   "display_name": "conda_tensorflow_p36",
   "language": "python",
   "name": "conda_tensorflow_p36"
  },
  "language_info": {
   "codemirror_mode": {
    "name": "ipython",
    "version": 3
   },
   "file_extension": ".py",
   "mimetype": "text/x-python",
   "name": "python",
   "nbconvert_exporter": "python",
   "pygments_lexer": "ipython3",
   "version": "3.6.5"
  },
  "notice": "Copyright 2017 Amazon.com, Inc. or its affiliates. All Rights Reserved.  Licensed under the Apache License, Version 2.0 (the \"License\"). You may not use this file except in compliance with the License. A copy of the License is located at http://aws.amazon.com/apache2.0/ or in the \"license\" file accompanying this file. This file is distributed on an \"AS IS\" BASIS, WITHOUT WARRANTIES OR CONDITIONS OF ANY KIND, either express or implied. See the License for the specific language governing permissions and limitations under the License. Copyright 2017 The TensorFlow Authors. All Rights Reserved. Licensed under the Apache License, Version 2.0 (the \"License\"); you may not use this file except in compliance with the License. You may obtain a copy of the License at  http://www.apache.org/licenses/LICENSE-2.0 Unless required by applicable law or agreed to in writing, software distributed under the License is distributed on an \"AS IS\" BASIS, WITHOUT WARRANTIES OR CONDITIONS OF ANY KIND, either express or implied.  See the License for the specific language governing permissions and limitations under the License."
 },
 "nbformat": 4,
 "nbformat_minor": 2
}
