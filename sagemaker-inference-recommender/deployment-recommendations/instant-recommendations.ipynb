{
 "cells": [
  {
   "cell_type": "markdown",
   "metadata": {},
   "source": [
    "# SageMaker Inference Recommender for Instant Recommendations\n",
    "\n",
    "This notebook demonstrates how to get instant deployment recommendations from the DescribeModel API\n",
    "\n",
    "The DescribeModel API can be found here: https://docs.aws.amazon.com/sagemaker/latest/APIReference/API_DescribeModel.html\n",
    "\n",
    "**This sample is provided for demonstration purposes, make sure to conduct appropriate testing if deriving this code for your own use-cases!**"
   ]
  },
  {
   "cell_type": "markdown",
   "metadata": {},
   "source": [
    "## Set Up"
   ]
  },
  {
   "cell_type": "code",
   "execution_count": 1,
   "metadata": {
    "tags": []
   },
   "outputs": [],
   "source": [
    "!pip install boto3>=1.26.140"
   ]
  },
  {
   "cell_type": "code",
   "execution_count": 2,
   "metadata": {
    "tags": []
   },
   "outputs": [],
   "source": [
    "import time\n",
    "import boto3\n",
    "import sagemaker\n",
    "import pandas as pd\n",
    "from uuid import uuid4\n",
    "from datetime import datetime, timedelta"
   ]
  },
  {
   "cell_type": "code",
   "execution_count": 3,
   "metadata": {
    "tags": []
   },
   "outputs": [],
   "source": [
    "sm_client = boto3.client(service_name=\"sagemaker\")"
   ]
  },
  {
   "cell_type": "markdown",
   "metadata": {},
   "source": [
    "## Step 1: Create the Model\n",
    "\n",
    "For this sample notebook, we will use a simple model specifying only a Tensorflow DLC"
   ]
  },
  {
   "cell_type": "code",
   "execution_count": 6,
   "metadata": {
    "tags": []
   },
   "outputs": [
    {
     "name": "stdout",
     "output_type": "stream",
     "text": [
      "instant-rec-demo-nb-model-7c35c093-5224-4e03-b0f7-b1c1adffcf27\n"
     ]
    }
   ],
   "source": [
    "model_name = \"instant-rec-demo-nb-model-\" + str(uuid4())\n",
    "print(model_name)"
   ]
  },
  {
   "cell_type": "code",
   "execution_count": 7,
   "metadata": {
    "tags": []
   },
   "outputs": [
    {
     "name": "stdout",
     "output_type": "stream",
     "text": [
      "520713654638.dkr.ecr.us-west-2.amazonaws.com/sagemaker-tensorflow-serving:1.12.0-cpu\n"
     ]
    }
   ],
   "source": [
    "region = boto3.Session().region_name\n",
    "image = sagemaker.image_uris.retrieve(framework='tensorflow',region=region,version='1.12.0',image_scope='inference',instance_type='ml.c5.4xlarge')\n",
    "print(image)"
   ]
  },
  {
   "cell_type": "code",
   "execution_count": 8,
   "metadata": {
    "tags": []
   },
   "outputs": [
    {
     "name": "stdout",
     "output_type": "stream",
     "text": [
      "{'ModelArn': 'arn:aws:sagemaker:us-west-2:337323248444:model/instant-rec-demo-nb-model-7c35c093-5224-4e03-b0f7-b1c1adffcf27', 'ResponseMetadata': {'RequestId': '9804610c-bc04-4844-abcb-8f0658379ccd', 'HTTPStatusCode': 200, 'HTTPHeaders': {'x-amzn-requestid': '9804610c-bc04-4844-abcb-8f0658379ccd', 'content-type': 'application/x-amz-json-1.1', 'content-length': '124', 'date': 'Wed, 24 May 2023 22:05:00 GMT'}, 'RetryAttempts': 0}}\n"
     ]
    }
   ],
   "source": [
    "execution_role = sagemaker.get_execution_role()\n",
    "\n",
    "create_model_response = sm_client.create_model(\n",
    "    ModelName = model_name,\n",
    "    ExecutionRoleArn = execution_role,\n",
    "    Containers = [\n",
    "        {\n",
    "            'Image': image\n",
    "        }\n",
    "    ]\n",
    ")\n",
    "\n",
    "print(create_model_response)"
   ]
  },
  {
   "cell_type": "markdown",
   "metadata": {},
   "source": [
    "## Step 2: Describe the Model\n",
    "\n",
    "Describe the Model until `DeploymentRecommendations` goes into a `COMPLETED` state. In general, you should expect to have DeploymentRecommendations available within a second"
   ]
  },
  {
   "cell_type": "code",
   "execution_count": 9,
   "metadata": {
    "tags": []
   },
   "outputs": [
    {
     "name": "stdout",
     "output_type": "stream",
     "text": [
      "2023-05-24 22:05:03.097585 DeploymentRecommendation: {'RecommendationStatus': 'COMPLETED', 'RealTimeInferenceRecommendations': [{'RecommendationId': 'instant-rec-demo-nb-model-7c35c093-5224-4e03-b0f7-b1c1adffcf27/68L7dDRg', 'InstanceType': 'ml.g4dn.2xlarge', 'Environment': {}}, {'RecommendationId': 'instant-rec-demo-nb-model-7c35c093-5224-4e03-b0f7-b1c1adffcf27/tRuy7iM7', 'InstanceType': 'ml.c6i.large', 'Environment': {}}, {'RecommendationId': 'instant-rec-demo-nb-model-7c35c093-5224-4e03-b0f7-b1c1adffcf27/fyHIVeGx', 'InstanceType': 'ml.c5.2xlarge', 'Environment': {}}]}\n"
     ]
    }
   ],
   "source": [
    "completed = timed_out = False\n",
    "\n",
    "start = datetime.today()\n",
    "max_duration = start + timedelta(minutes=1)\n",
    "\n",
    "while not completed and not timed_out:\n",
    "    describe_model_response = sm_client.describe_model(ModelName = model_name)\n",
    "    deployment_recommendation = describe_model_response.get('DeploymentRecommendation')\n",
    "    \n",
    "    completed = deployment_recommendation is not None and 'COMPLETED' == deployment_recommendation.get('RecommendationStatus')\n",
    "    \n",
    "    time.sleep(0.5)\n",
    "    timed_out = datetime.today() > max_duration\n",
    "    \n",
    "    print(datetime.today(), 'DeploymentRecommendation:', deployment_recommendation)\n"
   ]
  },
  {
   "cell_type": "markdown",
   "metadata": {},
   "source": [
    "## Step 3: Visualize the DeploymentRecommendations"
   ]
  },
  {
   "cell_type": "code",
   "execution_count": 10,
   "metadata": {
    "scrolled": true,
    "tags": []
   },
   "outputs": [
    {
     "data": {
      "text/html": [
       "<div>\n",
       "<style scoped>\n",
       "    .dataframe tbody tr th:only-of-type {\n",
       "        vertical-align: middle;\n",
       "    }\n",
       "\n",
       "    .dataframe tbody tr th {\n",
       "        vertical-align: top;\n",
       "    }\n",
       "\n",
       "    .dataframe thead th {\n",
       "        text-align: right;\n",
       "    }\n",
       "</style>\n",
       "<table border=\"1\" class=\"dataframe\">\n",
       "  <thead>\n",
       "    <tr style=\"text-align: right;\">\n",
       "      <th></th>\n",
       "      <th>RecommendationId</th>\n",
       "      <th>InstanceType</th>\n",
       "      <th>Environment</th>\n",
       "    </tr>\n",
       "  </thead>\n",
       "  <tbody>\n",
       "    <tr>\n",
       "      <th>0</th>\n",
       "      <td>instant-rec-demo-nb-model-7c35c093-5224-4e03-b0f7-b1c1adffcf27/68L7dDRg</td>\n",
       "      <td>ml.g4dn.2xlarge</td>\n",
       "      <td>{}</td>\n",
       "    </tr>\n",
       "    <tr>\n",
       "      <th>1</th>\n",
       "      <td>instant-rec-demo-nb-model-7c35c093-5224-4e03-b0f7-b1c1adffcf27/tRuy7iM7</td>\n",
       "      <td>ml.c6i.large</td>\n",
       "      <td>{}</td>\n",
       "    </tr>\n",
       "    <tr>\n",
       "      <th>2</th>\n",
       "      <td>instant-rec-demo-nb-model-7c35c093-5224-4e03-b0f7-b1c1adffcf27/fyHIVeGx</td>\n",
       "      <td>ml.c5.2xlarge</td>\n",
       "      <td>{}</td>\n",
       "    </tr>\n",
       "  </tbody>\n",
       "</table>\n",
       "</div>"
      ],
      "text/plain": [
       "                                                          RecommendationId  \\\n",
       "0  instant-rec-demo-nb-model-7c35c093-5224-4e03-b0f7-b1c1adffcf27/68L7dDRg   \n",
       "1  instant-rec-demo-nb-model-7c35c093-5224-4e03-b0f7-b1c1adffcf27/tRuy7iM7   \n",
       "2  instant-rec-demo-nb-model-7c35c093-5224-4e03-b0f7-b1c1adffcf27/fyHIVeGx   \n",
       "\n",
       "      InstanceType Environment  \n",
       "0  ml.g4dn.2xlarge          {}  \n",
       "1     ml.c6i.large          {}  \n",
       "2    ml.c5.2xlarge          {}  "
      ]
     },
     "metadata": {},
     "output_type": "display_data"
    }
   ],
   "source": [
    "pd.set_option('display.max_colwidth', None)\n",
    "df = pd.DataFrame(deployment_recommendation.get('RealTimeInferenceRecommendations'), columns = ['RecommendationId', 'InstanceType', 'Environment'])\n",
    "display(df)"
   ]
  },
  {
   "cell_type": "markdown",
   "metadata": {},
   "source": [
    "## Step 4: Cleanup"
   ]
  },
  {
   "cell_type": "code",
   "execution_count": 11,
   "metadata": {
    "tags": []
   },
   "outputs": [
    {
     "data": {
      "text/plain": [
       "{'ResponseMetadata': {'RequestId': '0fab7b02-89e9-4610-ab64-5837d422b3bb',\n",
       "  'HTTPStatusCode': 200,\n",
       "  'HTTPHeaders': {'x-amzn-requestid': '0fab7b02-89e9-4610-ab64-5837d422b3bb',\n",
       "   'content-type': 'application/x-amz-json-1.1',\n",
       "   'content-length': '0',\n",
       "   'date': 'Wed, 24 May 2023 22:05:05 GMT'},\n",
       "  'RetryAttempts': 0}}"
      ]
     },
     "execution_count": 11,
     "metadata": {},
     "output_type": "execute_result"
    }
   ],
   "source": [
    "sm_client.delete_model(ModelName = model_name)"
   ]
  }
 ],
 "metadata": {
  "instance_type": "ml.t3.medium",
  "kernelspec": {
   "display_name": "conda_amazonei_pytorch_latest_p37",
   "language": "python",
   "name": "conda_amazonei_pytorch_latest_p37"
  },
  "language_info": {
   "codemirror_mode": {
    "name": "ipython",
    "version": 3
   },
   "file_extension": ".py",
   "mimetype": "text/x-python",
   "name": "python",
   "nbconvert_exporter": "python",
   "pygments_lexer": "ipython3",
   "version": "3.7.10"
  }
 },
 "nbformat": 4,
 "nbformat_minor": 4
}
