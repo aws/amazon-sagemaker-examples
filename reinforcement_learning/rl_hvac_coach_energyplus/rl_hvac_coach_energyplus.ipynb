{
 "cells": [
  {
   "cell_type": "markdown",
   "metadata": {},
   "source": [
    "# HVAC with Amazon SageMaker RL\n",
    "\n",
    "---\n",
    "## Introduction\n",
    "\n",
    "\n",
    "HVAC stands for Heating, Ventilation and Air Conditioning and is responsible for keeping us warm and comfortable indoors.  HVAC takes up a whopping 50% of the energy in a building and accounts for 40% of energy use in the US [1, 2]. Several control system optimizations have been proposed to reduce energy usage while ensuring thermal comfort.\n",
    "\n",
    "Modern buildings collect data about the weather, occupancy and equipment use. All of this can be used to optimize HVAC energy usage. Reinforcement Learning (RL) is a good fit because it can learn how to interact with the environment and identify strategies to limit wasted energy. Several recent research efforts have shown that RL can reduce HVAC energy consumption by 15-20% [3, 4].\n",
    "\n",
    "As training an RL algorithm in a real HVAC system can take time to converge as well as potentially lead to hazardous settings as the agent explores its state space, we turn to a simulator to train the agent. [EnergyPlus](https://energyplus.net/) is an open source, state of the art HVAC simulator from the US Department of Energy. We use a simple example with this simulator to showcase how we can train an RL model easily with Amazon SageMaker RL.\n",
    "\n",
    "<br>\n",
    "\n",
    "<img width=\"85%\" src=\"images/datacenter_env.png\" />\n",
    "\n",
    "<br>\n",
    "\n",
    "1. Objective: Control the data center HVAC system to reduce energy consumption while ensuring the room temperature stays within specified limits.\n",
    "2. Environment: We have a small single room datacenter that the HVAC system is cooling to ensure the compute equipment works properly. We will train our RL agent to control this HVAC system for one day subject to weather conditions in San Francisco.  The agent takes actions every 5 minutes for a 24 hour period. Hence, the episode is a fixed 120 steps. \n",
    "3. State: The outdoor temperature, outdoor humidity and indoor room temperature.\n",
    "4. Action: The agent can set the heating and cooling setpoints. The cooling setpoint tells the HVAC system that it should start cooling the room if the room temperature goes above this setpoint. Likewise, the HVAC systems starts heating if the room temperature goes below the heating setpoint.\n",
    "5. Reward: The rewards has two components which are added together with coefficients: \n",
    "    1. It is proportional to the energy consumed by the HVAC system.\n",
    "    2. It gets a large penalty when the room temperature exceeds pre-specified lower or upper limits (as defined in `data_center_env.py`).\n",
    "\n",
    "References\n",
    "\n",
    "1. [sciencedirect.com](https://www.sciencedirect.com/science/article/pii/S0378778807001016)\n",
    "2. [environment.gov.au](https://www.environment.gov.au/system/files/energy/files/hvac-factsheet-energy-breakdown.pdf)\n",
    "3. Wei, Tianshu, Yanzhi Wang, and Qi Zhu. \"Deep reinforcement learning for building hvac control.\" In Proceedings of the 54th Annual Design Automation Conference 2017, p. 22. ACM, 2017.\n",
    "4. Zhang, Zhiang, and Khee Poh Lam. \"Practical implementation and evaluation of deep reinforcement learning control for a radiant heating system.\" In Proceedings of the 5th Conference on Systems for Built Environments, pp. 148-157. ACM, 2018."
   ]
  },
  {
   "cell_type": "markdown",
   "metadata": {},
   "source": [
    "## Pre-requisites \n",
    "\n",
    "### Imports\n",
    "\n",
    "To get started, we'll import the Python libraries we need, set up the environment with a few prerequisites for permissions and configurations."
   ]
  },
  {
   "cell_type": "code",
   "execution_count": 1,
   "metadata": {
    "scrolled": true
   },
   "outputs": [],
   "source": [
    "import sagemaker\n",
    "import boto3\n",
    "import sys\n",
    "import os\n",
    "import glob\n",
    "import re\n",
    "import subprocess\n",
    "import numpy as np\n",
    "from IPython.display import HTML\n",
    "import time\n",
    "from time import gmtime, strftime\n",
    "sys.path.append(\"common\")\n",
    "from misc import get_execution_role, wait_for_s3_object\n",
    "from docker_utils import build_and_push_docker_image\n",
    "from sagemaker.rl import RLEstimator, RLToolkit, RLFramework"
   ]
  },
  {
   "cell_type": "markdown",
   "metadata": {},
   "source": [
    "### Setup S3 bucket\n",
    "\n",
    "Create a reference to the default S3 bucket that will be used for model outputs."
   ]
  },
  {
   "cell_type": "code",
   "execution_count": 2,
   "metadata": {},
   "outputs": [
    {
     "name": "stdout",
     "output_type": "stream",
     "text": [
      "S3 bucket path: s3://sagemaker-us-west-2-775004277940/\n"
     ]
    }
   ],
   "source": [
    "sage_session = sagemaker.session.Session()\n",
    "s3_bucket = sage_session.default_bucket()  \n",
    "s3_output_path = 's3://{}/'.format(s3_bucket)\n",
    "print(\"S3 bucket path: {}\".format(s3_output_path))"
   ]
  },
  {
   "cell_type": "markdown",
   "metadata": {},
   "source": [
    "### Define Variables \n",
    "\n",
    "We define a job below that's used to identify our jobs."
   ]
  },
  {
   "cell_type": "code",
   "execution_count": 3,
   "metadata": {},
   "outputs": [],
   "source": [
    "# create unique job name \n",
    "job_name_prefix = 'rl-hvac'"
   ]
  },
  {
   "cell_type": "markdown",
   "metadata": {},
   "source": [
    "### Configure settings\n",
    "\n",
    "You can run your RL training jobs locally on the SageMaker notebook instance or on SageMaker training. In both of these scenarios, you can run in either 'local' (where you run the commands) or 'SageMaker' mode (on SageMaker training instances). 'local' mode uses the SageMaker Python SDK to run your code in Docker containers locally. It can speed up iterative testing and debugging while using the same familiar Python SDK interface. Just set `local_mode = True`. And when you're ready move to 'SageMaker' mode to scale things up."
   ]
  },
  {
   "cell_type": "code",
   "execution_count": 4,
   "metadata": {},
   "outputs": [],
   "source": [
    "# run local (on this machine)?\n",
    "# or on sagemaker training instances?\n",
    "local_mode = False\n",
    "\n",
    "if local_mode:\n",
    "    instance_type = 'local'\n",
    "else:\n",
    "    # choose a larger instance to avoid running out of memory\n",
    "    instance_type = \"ml.m4.4xlarge\""
   ]
  },
  {
   "cell_type": "markdown",
   "metadata": {},
   "source": [
    "### Create an IAM role\n",
    "\n",
    "Either get the execution role when running from a SageMaker notebook instance `role = sagemaker.get_execution_role()` or, when running from local notebook instance, use utils method `role = get_execution_role()` to create an execution role."
   ]
  },
  {
   "cell_type": "code",
   "execution_count": 5,
   "metadata": {},
   "outputs": [
    {
     "name": "stdout",
     "output_type": "stream",
     "text": [
      "Using IAM role arn: arn:aws:iam::775004277940:role/service-role/AmazonSageMaker-ExecutionRole-20190604T105592\n"
     ]
    }
   ],
   "source": [
    "try:\n",
    "    role = sagemaker.get_execution_role()\n",
    "except:\n",
    "    role = get_execution_role()\n",
    "\n",
    "print(\"Using IAM role arn: {}\".format(role))"
   ]
  },
  {
   "cell_type": "markdown",
   "metadata": {},
   "source": [
    "### Install docker for `local` mode\n",
    "\n",
    "In order to work in `local` mode, you need to have docker installed. When running from your local machine, please make sure that you have docker or docker-compose (for local CPU machines) and nvidia-docker (for local GPU machines) installed. Alternatively, when running from a SageMaker notebook instance, you can simply run the following script to install dependencies.\n",
    "\n",
    "Note, you can only run a single local notebook at one time."
   ]
  },
  {
   "cell_type": "code",
   "execution_count": 6,
   "metadata": {},
   "outputs": [],
   "source": [
    "# Only run from SageMaker notebook instance\n",
    "if local_mode:\n",
    "    !/bin/bash ./common/setup.sh"
   ]
  },
  {
   "cell_type": "markdown",
   "metadata": {},
   "source": [
    "## Build docker container\n",
    "\n",
    "Since we're working with a custom environment with custom dependencies, we create our own container for training. We:\n",
    "\n",
    "1. Fetch the base MXNet and Coach container image,\n",
    "2. Install EnergyPlus and its dependencies on top,\n",
    "3. Upload the new container image to AWS ECR."
   ]
  },
  {
   "cell_type": "code",
   "execution_count": 7,
   "metadata": {},
   "outputs": [
    {
     "name": "stdout",
     "output_type": "stream",
     "text": [
      "WARNING! Using --password via the CLI is insecure. Use --password-stdin.\n",
      "WARNING! Your password will be stored unencrypted in /home/ec2-user/.docker/config.json.\n",
      "Configure a credential helper to remove this warning. See\n",
      "https://docs.docker.com/engine/reference/commandline/login/#credentials-store\n",
      "\n",
      "Login Succeeded\n",
      "Logged into ECR\n",
      "Building docker image sagemaker-hvac-coach-cpu from Dockerfile\n",
      "$ docker build -t sagemaker-hvac-coach-cpu -f Dockerfile . --build-arg CPU_OR_GPU=cpu --build-arg AWS_REGION=us-west-2\n",
      "Sending build context to Docker daemon  7.297MB\n",
      "Step 1/15 : ARG CPU_OR_GPU\n",
      "Step 2/15 : ARG AWS_REGION\n",
      "Step 3/15 : FROM 520713654638.dkr.ecr.${AWS_REGION}.amazonaws.com/sagemaker-rl-mxnet:coach0.11.0-${CPU_OR_GPU}-py3\n",
      " ---> a6bb63857d82\n",
      "Step 4/15 : RUN pip install -U pip\n",
      " ---> Using cache\n",
      " ---> 8a5a1bbb4079\n",
      "Step 5/15 : ENV ENERGYPLUS_VERSION 8.8.0\n",
      " ---> Using cache\n",
      " ---> 963c4899a17e\n",
      "Step 6/15 : ENV ENERGYPLUS_TAG v8.8.0\n",
      " ---> Using cache\n",
      " ---> b155cd8a7636\n",
      "Step 7/15 : ENV ENERGYPLUS_SHA 7c3bbe4830\n",
      " ---> Using cache\n",
      " ---> 8df8f18b8b7c\n",
      "Step 8/15 : ENV ENERGYPLUS_INSTALL_VERSION 8-8-0\n",
      " ---> Using cache\n",
      " ---> 4d051686f6b8\n",
      "Step 9/15 : ENV ENERGYPLUS_DOWNLOAD_BASE_URL https://github.com/NREL/EnergyPlus/releases/download/$ENERGYPLUS_TAG\n",
      " ---> Using cache\n",
      " ---> 63e1258abdd4\n",
      "Step 10/15 : ENV ENERGYPLUS_DOWNLOAD_FILENAME EnergyPlus-$ENERGYPLUS_VERSION-$ENERGYPLUS_SHA-Linux-x86_64.sh\n",
      " ---> Using cache\n",
      " ---> e4e21551ac5f\n",
      "Step 11/15 : ENV ENERGYPLUS_DOWNLOAD_URL $ENERGYPLUS_DOWNLOAD_BASE_URL/$ENERGYPLUS_DOWNLOAD_FILENAME\n",
      " ---> Using cache\n",
      " ---> e6dc724d0aa8\n",
      "Step 12/15 : RUN apt-get update && apt-get install -y openjdk-8-jdk openjdk-8-jre\n",
      " ---> Using cache\n",
      " ---> 0a7855f30e17\n",
      "Step 13/15 : RUN apt-get update && apt-get install -y ca-certificates curl     && curl -SLO $ENERGYPLUS_DOWNLOAD_URL     && chmod +x $ENERGYPLUS_DOWNLOAD_FILENAME     && echo \"y\\r\" | ./$ENERGYPLUS_DOWNLOAD_FILENAME     && rm $ENERGYPLUS_DOWNLOAD_FILENAME     && cd /usr/local/EnergyPlus-$ENERGYPLUS_INSTALL_VERSION     PostProcess/EP-Compare PreProcess/FMUParser PreProcess/ParametricPreProcessor PreProcess/IDFVersionUpdater\n",
      " ---> Using cache\n",
      " ---> abcfec619bf0\n",
      "Step 14/15 : WORKDIR /opt/ml\n",
      " ---> Using cache\n",
      " ---> 6bc417fab8dd\n",
      "Step 15/15 : ENV SAGEMAKER_TRAINING_COMMAND /opt/ml/code/sagemaker-train.sh\n",
      " ---> Using cache\n",
      " ---> cfef4d58d19a\n",
      "Successfully built cfef4d58d19a\n",
      "Successfully tagged sagemaker-hvac-coach-cpu:latest\n",
      "Done building docker image sagemaker-hvac-coach-cpu\n",
      "ECR repository already exists: sagemaker-hvac-coach-cpu\n",
      "WARNING! Using --password via the CLI is insecure. Use --password-stdin.\n",
      "WARNING! Your password will be stored unencrypted in /home/ec2-user/.docker/config.json.\n",
      "Configure a credential helper to remove this warning. See\n",
      "https://docs.docker.com/engine/reference/commandline/login/#credentials-store\n",
      "\n",
      "Login Succeeded\n",
      "Logged into ECR\n",
      "$ docker tag sagemaker-hvac-coach-cpu 775004277940.dkr.ecr.us-west-2.amazonaws.com/sagemaker-hvac-coach-cpu\n",
      "Pushing docker image to ECR repository 775004277940.dkr.ecr.us-west-2.amazonaws.com/sagemaker-hvac-coach-cpu\n",
      "\n",
      "$ docker push 775004277940.dkr.ecr.us-west-2.amazonaws.com/sagemaker-hvac-coach-cpu\n",
      "The push refers to repository [775004277940.dkr.ecr.us-west-2.amazonaws.com/sagemaker-hvac-coach-cpu]\n",
      "1dee4e53b8cb: Preparing\n",
      "59ac13db1d17: Preparing\n",
      "d404c4124b28: Preparing\n",
      "5fd7012ea307: Preparing\n",
      "9913c2216d17: Preparing\n",
      "2eb2e363cac2: Preparing\n",
      "36cb14e2633d: Preparing\n",
      "86527af4b29c: Preparing\n",
      "da3a1ff3c030: Preparing\n",
      "f81dd668ca24: Preparing\n",
      "57a57ac6bfcc: Preparing\n",
      "231edd59b442: Preparing\n",
      "c9d538eea156: Preparing\n",
      "5763ef3ebbee: Preparing\n",
      "f1524aa288cf: Preparing\n",
      "a7d2d8176521: Preparing\n",
      "8b0def9d22f3: Preparing\n",
      "3db5746c911a: Preparing\n",
      "819a824caf70: Preparing\n",
      "647265b9d8bc: Preparing\n",
      "41c002c8a6fd: Preparing\n",
      "36cb14e2633d: Waiting\n",
      "86527af4b29c: Waiting\n",
      "da3a1ff3c030: Waiting\n",
      "f81dd668ca24: Waiting\n",
      "57a57ac6bfcc: Waiting\n",
      "231edd59b442: Waiting\n",
      "c9d538eea156: Waiting\n",
      "5763ef3ebbee: Waiting\n",
      "f1524aa288cf: Waiting\n",
      "a7d2d8176521: Waiting\n",
      "8b0def9d22f3: Waiting\n",
      "3db5746c911a: Waiting\n",
      "819a824caf70: Waiting\n",
      "647265b9d8bc: Waiting\n",
      "41c002c8a6fd: Waiting\n",
      "2eb2e363cac2: Waiting\n",
      "59ac13db1d17: Layer already exists\n",
      "9913c2216d17: Layer already exists\n",
      "5fd7012ea307: Layer already exists\n",
      "d404c4124b28: Layer already exists\n",
      "1dee4e53b8cb: Layer already exists\n",
      "2eb2e363cac2: Layer already exists\n",
      "36cb14e2633d: Layer already exists\n",
      "86527af4b29c: Layer already exists\n",
      "da3a1ff3c030: Layer already exists\n",
      "f81dd668ca24: Layer already exists\n",
      "57a57ac6bfcc: Layer already exists\n",
      "231edd59b442: Layer already exists\n",
      "f1524aa288cf: Layer already exists\n",
      "5763ef3ebbee: Layer already exists\n",
      "c9d538eea156: Layer already exists\n",
      "8b0def9d22f3: Layer already exists\n",
      "3db5746c911a: Layer already exists\n",
      "a7d2d8176521: Layer already exists\n",
      "819a824caf70: Layer already exists\n",
      "647265b9d8bc: Layer already exists\n",
      "41c002c8a6fd: Layer already exists\n",
      "latest: digest: sha256:6fa417257e24db8e5e4a79b16b86b713c2138394088bc5de8699138add6bb0b3 size: 4727\n",
      "Done pushing 775004277940.dkr.ecr.us-west-2.amazonaws.com/sagemaker-hvac-coach-cpu\n",
      "Using ECR image 775004277940.dkr.ecr.us-west-2.amazonaws.com/sagemaker-hvac-coach-cpu\n"
     ]
    }
   ],
   "source": [
    "cpu_or_gpu = 'gpu' if instance_type.startswith('ml.p') else 'cpu'\n",
    "repository_short_name = \"sagemaker-hvac-coach-%s\" % cpu_or_gpu\n",
    "docker_build_args = {\n",
    "    'CPU_OR_GPU': cpu_or_gpu, \n",
    "    'AWS_REGION': boto3.Session().region_name,\n",
    "}\n",
    "custom_image_name = build_and_push_docker_image(repository_short_name, build_args=docker_build_args)\n",
    "print(\"Using ECR image %s\" % custom_image_name)"
   ]
  },
  {
   "cell_type": "markdown",
   "metadata": {},
   "source": [
    "## Setup the environment\n",
    "\n",
    "The environment is defined in a Python file called `data_center_env.py` and for SageMaker training jobs, the file will be uploaded inside the `/src` directory.\n",
    "\n",
    "The environment implements the init(), step() and reset() functions that describe how the environment behaves. This is consistent with Open AI Gym interfaces for defining an environment.\n",
    "\n",
    "1. `init()` - initialize the environment in a pre-defined state\n",
    "2. `step()` - take an action on the environment\n",
    "3. `reset()` - restart the environment on a new episode"
   ]
  },
  {
   "cell_type": "markdown",
   "metadata": {},
   "source": [
    "## Configure the presets for RL algorithm \n",
    "\n",
    "The presets that configure the RL training jobs are defined in the “preset-energy-plus-clipped-ppo.py” file which is also uploaded as part of the `/src` directory. Using the preset file, you can define agent parameters to select the specific agent algorithm. You can also set the environment parameters, define the schedule and visualization parameters, and define the graph manager. The schedule presets will define the number of heat up steps, periodic evaluation steps, training steps between evaluations, etc.\n",
    "\n",
    "All of these can be overridden at run-time by specifying the `RLCOACH_PRESET` hyperparameter. Additionally, it can be used to define custom hyperparameters."
   ]
  },
  {
   "cell_type": "code",
   "execution_count": 8,
   "metadata": {},
   "outputs": [
    {
     "name": "stdout",
     "output_type": "stream",
     "text": [
      "\u001b[34mfrom\u001b[39;49;00m \u001b[04m\u001b[36mrl_coach.agents.clipped_ppo_agent\u001b[39;49;00m \u001b[34mimport\u001b[39;49;00m ClippedPPOAgentParameters\r\n",
      "\u001b[34mfrom\u001b[39;49;00m \u001b[04m\u001b[36mrl_coach.architectures.layers\u001b[39;49;00m \u001b[34mimport\u001b[39;49;00m Dense\r\n",
      "\u001b[34mfrom\u001b[39;49;00m \u001b[04m\u001b[36mrl_coach.base_parameters\u001b[39;49;00m \u001b[34mimport\u001b[39;49;00m VisualizationParameters, PresetValidationParameters, DistributedCoachSynchronizationType\r\n",
      "\u001b[34mfrom\u001b[39;49;00m \u001b[04m\u001b[36mrl_coach.core_types\u001b[39;49;00m \u001b[34mimport\u001b[39;49;00m TrainingSteps, EnvironmentEpisodes, EnvironmentSteps, RunPhase\r\n",
      "\u001b[34mfrom\u001b[39;49;00m \u001b[04m\u001b[36mrl_coach.environments.gym_environment\u001b[39;49;00m \u001b[34mimport\u001b[39;49;00m GymVectorEnvironment, mujoco_v2\r\n",
      "\u001b[34mfrom\u001b[39;49;00m \u001b[04m\u001b[36mrl_coach.exploration_policies.additive_noise\u001b[39;49;00m \u001b[34mimport\u001b[39;49;00m AdditiveNoiseParameters\r\n",
      "\u001b[34mfrom\u001b[39;49;00m \u001b[04m\u001b[36mrl_coach.exploration_policies.e_greedy\u001b[39;49;00m \u001b[34mimport\u001b[39;49;00m EGreedyParameters\r\n",
      "\u001b[34mfrom\u001b[39;49;00m \u001b[04m\u001b[36mrl_coach.filters.observation.observation_normalization_filter\u001b[39;49;00m \u001b[34mimport\u001b[39;49;00m ObservationNormalizationFilter\r\n",
      "\u001b[34mfrom\u001b[39;49;00m \u001b[04m\u001b[36mrl_coach.graph_managers.basic_rl_graph_manager\u001b[39;49;00m \u001b[34mimport\u001b[39;49;00m BasicRLGraphManager\r\n",
      "\u001b[34mfrom\u001b[39;49;00m \u001b[04m\u001b[36mrl_coach.graph_managers.graph_manager\u001b[39;49;00m \u001b[34mimport\u001b[39;49;00m ScheduleParameters\r\n",
      "\u001b[34mfrom\u001b[39;49;00m \u001b[04m\u001b[36mrl_coach.schedules\u001b[39;49;00m \u001b[34mimport\u001b[39;49;00m LinearSchedule\r\n",
      "\u001b[34mimport\u001b[39;49;00m \u001b[04m\u001b[36meplus\u001b[39;49;00m\r\n",
      "\r\n",
      "\u001b[37m####################\u001b[39;49;00m\r\n",
      "\u001b[37m# Graph Scheduling #\u001b[39;49;00m\r\n",
      "\u001b[37m####################\u001b[39;49;00m\r\n",
      "\r\n",
      "schedule_params = ScheduleParameters()\r\n",
      "schedule_params.improve_steps = TrainingSteps(\u001b[34m2000\u001b[39;49;00m)\r\n",
      "schedule_params.steps_between_evaluation_periods = EnvironmentSteps(\u001b[34m1000\u001b[39;49;00m)\r\n",
      "schedule_params.evaluation_steps = EnvironmentEpisodes(\u001b[34m2\u001b[39;49;00m)\r\n",
      "schedule_params.heatup_steps = EnvironmentSteps(\u001b[34m0\u001b[39;49;00m)\r\n",
      "\r\n",
      "\u001b[37m#########\u001b[39;49;00m\r\n",
      "\u001b[37m# Agent #\u001b[39;49;00m\r\n",
      "\u001b[37m#########\u001b[39;49;00m\r\n",
      "agent_params = ClippedPPOAgentParameters()\r\n",
      "\r\n",
      "\r\n",
      "agent_params.network_wrappers[\u001b[33m'\u001b[39;49;00m\u001b[33mmain\u001b[39;49;00m\u001b[33m'\u001b[39;49;00m].learning_rate = \u001b[34m0.0003\u001b[39;49;00m\r\n",
      "agent_params.network_wrappers[\u001b[33m'\u001b[39;49;00m\u001b[33mmain\u001b[39;49;00m\u001b[33m'\u001b[39;49;00m].input_embedders_parameters[\u001b[33m'\u001b[39;49;00m\u001b[33mobservation\u001b[39;49;00m\u001b[33m'\u001b[39;49;00m].activation_function = \u001b[33m'\u001b[39;49;00m\u001b[33mtanh\u001b[39;49;00m\u001b[33m'\u001b[39;49;00m\r\n",
      "agent_params.network_wrappers[\u001b[33m'\u001b[39;49;00m\u001b[33mmain\u001b[39;49;00m\u001b[33m'\u001b[39;49;00m].input_embedders_parameters[\u001b[33m'\u001b[39;49;00m\u001b[33mobservation\u001b[39;49;00m\u001b[33m'\u001b[39;49;00m].scheme = [Dense(\u001b[34m64\u001b[39;49;00m)]\r\n",
      "agent_params.network_wrappers[\u001b[33m'\u001b[39;49;00m\u001b[33mmain\u001b[39;49;00m\u001b[33m'\u001b[39;49;00m].middleware_parameters.scheme = [Dense(\u001b[34m64\u001b[39;49;00m)]\r\n",
      "agent_params.network_wrappers[\u001b[33m'\u001b[39;49;00m\u001b[33mmain\u001b[39;49;00m\u001b[33m'\u001b[39;49;00m].middleware_parameters.activation_function = \u001b[33m'\u001b[39;49;00m\u001b[33mtanh\u001b[39;49;00m\u001b[33m'\u001b[39;49;00m\r\n",
      "agent_params.network_wrappers[\u001b[33m'\u001b[39;49;00m\u001b[33mmain\u001b[39;49;00m\u001b[33m'\u001b[39;49;00m].batch_size = \u001b[34m64\u001b[39;49;00m\r\n",
      "agent_params.network_wrappers[\u001b[33m'\u001b[39;49;00m\u001b[33mmain\u001b[39;49;00m\u001b[33m'\u001b[39;49;00m].optimizer_epsilon = \u001b[34m1e-5\u001b[39;49;00m\r\n",
      "agent_params.network_wrappers[\u001b[33m'\u001b[39;49;00m\u001b[33mmain\u001b[39;49;00m\u001b[33m'\u001b[39;49;00m].adam_optimizer_beta2 = \u001b[34m0.999\u001b[39;49;00m\r\n",
      "\r\n",
      "agent_params.algorithm.clip_likelihood_ratio_using_epsilon = \u001b[34m0.2\u001b[39;49;00m\r\n",
      "agent_params.algorithm.clipping_decay_schedule = LinearSchedule(\u001b[34m1.0\u001b[39;49;00m, \u001b[34m0\u001b[39;49;00m, \u001b[34m1000000\u001b[39;49;00m)\r\n",
      "agent_params.algorithm.beta_entropy = \u001b[34m0\u001b[39;49;00m\r\n",
      "agent_params.algorithm.gae_lambda = \u001b[34m0.95\u001b[39;49;00m\r\n",
      "agent_params.algorithm.discount = \u001b[34m0.99\u001b[39;49;00m\r\n",
      "agent_params.algorithm.optimization_epochs = \u001b[34m10\u001b[39;49;00m\r\n",
      "agent_params.algorithm.estimate_state_value_using_gae = \u001b[36mTrue\u001b[39;49;00m\r\n",
      "agent_params.algorithm.num_steps_between_copying_online_weights_to_target = EnvironmentSteps(\u001b[34m1000\u001b[39;49;00m)\r\n",
      "agent_params.algorithm.num_consecutive_playing_steps = EnvironmentSteps(\u001b[34m1000\u001b[39;49;00m)\r\n",
      "\r\n",
      "\u001b[37m# Distributed Coach synchronization type.\u001b[39;49;00m\r\n",
      "agent_params.algorithm.distributed_coach_synchronization_type = DistributedCoachSynchronizationType.SYNC\r\n",
      "\r\n",
      "agent_params.exploration = EGreedyParameters()\r\n",
      "agent_params.exploration.epsilon_schedule = LinearSchedule(\u001b[34m1.0\u001b[39;49;00m, \u001b[34m0.01\u001b[39;49;00m, \u001b[34m10000\u001b[39;49;00m)\r\n",
      "agent_params.pre_network_filter.add_observation_filter(\u001b[33m'\u001b[39;49;00m\u001b[33mobservation\u001b[39;49;00m\u001b[33m'\u001b[39;49;00m, \u001b[33m'\u001b[39;49;00m\u001b[33mnormalize_observation\u001b[39;49;00m\u001b[33m'\u001b[39;49;00m,\r\n",
      "    ObservationNormalizationFilter(name=\u001b[33m'\u001b[39;49;00m\u001b[33mnormalize_observation\u001b[39;49;00m\u001b[33m'\u001b[39;49;00m))\r\n",
      "\r\n",
      "\u001b[37m###############\u001b[39;49;00m\r\n",
      "\u001b[37m# Environment #\u001b[39;49;00m\r\n",
      "\u001b[37m###############\u001b[39;49;00m\r\n",
      "config = {\r\n",
      "    \u001b[33m'\u001b[39;49;00m\u001b[33meplus_path\u001b[39;49;00m\u001b[33m'\u001b[39;49;00m: \u001b[33m'\u001b[39;49;00m\u001b[33m/usr/local/EnergyPlus-8-8-0/\u001b[39;49;00m\u001b[33m'\u001b[39;49;00m,\r\n",
      "    \u001b[33m'\u001b[39;49;00m\u001b[33mweather_file\u001b[39;49;00m\u001b[33m'\u001b[39;49;00m: \u001b[33m'\u001b[39;49;00m\u001b[33mweather/USA_CA_San.Francisco.Intl.AP.724940_TMY3.epw\u001b[39;49;00m\u001b[33m'\u001b[39;49;00m\r\n",
      "}\r\n",
      "env_params = GymVectorEnvironment(level=\u001b[33m'\u001b[39;49;00m\u001b[33meplus.envs.data_center_env:DataCenterEnv\u001b[39;49;00m\u001b[33m'\u001b[39;49;00m)\r\n",
      "env_params.additional_simulator_parameters = {\u001b[33m'\u001b[39;49;00m\u001b[33mconfig\u001b[39;49;00m\u001b[33m'\u001b[39;49;00m: config }\r\n",
      "\r\n",
      "\u001b[37m#################\u001b[39;49;00m\r\n",
      "\u001b[37m# Visualization #\u001b[39;49;00m\r\n",
      "\u001b[37m#################\u001b[39;49;00m\r\n",
      "\r\n",
      "vis_params = VisualizationParameters()\r\n",
      "vis_params.dump_gifs = \u001b[36mFalse\u001b[39;49;00m\r\n",
      "\r\n",
      "\u001b[37m########\u001b[39;49;00m\r\n",
      "\u001b[37m# Test #\u001b[39;49;00m\r\n",
      "\u001b[37m########\u001b[39;49;00m\r\n",
      "preset_validation_params = PresetValidationParameters()\r\n",
      "preset_validation_params.test = \u001b[36mTrue\u001b[39;49;00m\r\n",
      "preset_validation_params.min_reward_threshold = \u001b[34m150\u001b[39;49;00m\r\n",
      "preset_validation_params.max_episodes_to_achieve_reward = \u001b[34m400\u001b[39;49;00m\r\n",
      "\r\n",
      "graph_manager = BasicRLGraphManager(agent_params=agent_params, env_params=env_params,\r\n",
      "                                    schedule_params=schedule_params, vis_params=vis_params,\r\n",
      "                                    preset_validation_params=preset_validation_params)\r\n"
     ]
    }
   ],
   "source": [
    "!pygmentize src/preset-energy-plus-clipped-ppo.py"
   ]
  },
  {
   "cell_type": "markdown",
   "metadata": {},
   "source": [
    "## Write the Training Code \n",
    "\n",
    "The training code is written in the file “train-coach.py” which is uploaded in the /src directory. \n",
    "First import the environment files and the preset files, and then define the main() function. "
   ]
  },
  {
   "cell_type": "code",
   "execution_count": 9,
   "metadata": {},
   "outputs": [
    {
     "name": "stdout",
     "output_type": "stream",
     "text": [
      "\u001b[34mfrom\u001b[39;49;00m \u001b[04m\u001b[36msagemaker_rl.coach_launcher\u001b[39;49;00m \u001b[34mimport\u001b[39;49;00m SageMakerCoachPresetLauncher\r\n",
      "\r\n",
      "\r\n",
      "\u001b[34mclass\u001b[39;49;00m \u001b[04m\u001b[32mMyLauncher\u001b[39;49;00m(SageMakerCoachPresetLauncher):\r\n",
      "\r\n",
      "    \u001b[34mdef\u001b[39;49;00m \u001b[32mdefault_preset_name\u001b[39;49;00m(\u001b[36mself\u001b[39;49;00m):\r\n",
      "        \u001b[33m\"\"\"This points to a .py file that configures everything about the RL job.\u001b[39;49;00m\r\n",
      "\u001b[33m        It can be overridden at runtime by specifying the RLCOACH_PRESET hyperparameter.\u001b[39;49;00m\r\n",
      "\u001b[33m        \"\"\"\u001b[39;49;00m\r\n",
      "        \u001b[34mreturn\u001b[39;49;00m \u001b[33m'\u001b[39;49;00m\u001b[33mpreset-energy-plus-clipped-ppo\u001b[39;49;00m\u001b[33m'\u001b[39;49;00m\r\n",
      "    \r\n",
      "    \r\n",
      "\u001b[34mif\u001b[39;49;00m \u001b[31m__name__\u001b[39;49;00m == \u001b[33m'\u001b[39;49;00m\u001b[33m__main__\u001b[39;49;00m\u001b[33m'\u001b[39;49;00m:\r\n",
      "    MyLauncher.train_main()\r\n"
     ]
    }
   ],
   "source": [
    "!pygmentize src/train-coach.py"
   ]
  },
  {
   "cell_type": "markdown",
   "metadata": {},
   "source": [
    "## Train the RL model using the Python SDK Script mode\n",
    "\n",
    "If you are using local mode, the training will run on the notebook instance. When using SageMaker for training, you can select a GPU or CPU instance. The RLEstimator is used for training RL jobs. \n",
    "\n",
    "1. Specify the source directory where the environment, presets and training code is uploaded.\n",
    "2. Specify the entry point as the training code \n",
    "3. Specify the choice of RL toolkit and framework. This automatically resolves to the ECR path for the RL Container. \n",
    "4. Define the training parameters such as the instance count, job name, S3 path for output and job name. \n",
    "5. Specify the hyperparameters for the RL agent algorithm. The RLCOACH_PRESET can be used to specify the RL agent algorithm you want to use. \n",
    "6. [optional] Define the metrics definitions that you are interested in capturing in your logs. These can also be visualized in CloudWatch and SageMaker Notebooks. "
   ]
  },
  {
   "cell_type": "code",
   "execution_count": 10,
   "metadata": {},
   "outputs": [
    {
     "name": "stdout",
     "output_type": "stream",
     "text": [
      "Training job: rl-hvac-2019-09-26-21-04-00-475\n",
      "CPU times: user 805 ms, sys: 35.3 ms, total: 841 ms\n",
      "Wall time: 1.15 s\n"
     ]
    }
   ],
   "source": [
    "%%time\n",
    "estimator = RLEstimator(entry_point=\"train-coach.py\",\n",
    "                        source_dir='src',\n",
    "                        dependencies=[\"common/sagemaker_rl\"],\n",
    "                        image_name=custom_image_name,\n",
    "                        role=role,\n",
    "                        train_instance_type=instance_type,\n",
    "                        train_instance_count=1,\n",
    "                        output_path=s3_output_path,\n",
    "                        base_job_name=job_name_prefix,\n",
    "                        hyperparameters = {\n",
    "                            'save_model': 1\n",
    "                        }\n",
    "                    )\n",
    "\n",
    "estimator.fit(wait=local_mode)\n",
    "job_name = estimator.latest_training_job.job_name\n",
    "print(\"Training job: %s\" % job_name)"
   ]
  },
  {
   "cell_type": "markdown",
   "metadata": {},
   "source": [
    "## Store intermediate training output and model checkpoints \n",
    "\n",
    "The output from the training job above is stored on S3. The intermediate folder contains gifs and metadata of the training."
   ]
  },
  {
   "cell_type": "code",
   "execution_count": 11,
   "metadata": {},
   "outputs": [
    {
     "name": "stdout",
     "output_type": "stream",
     "text": [
      "S3 job path: s3://sagemaker-us-west-2-775004277940/rl-hvac-2019-09-26-21-04-00-475\n",
      "Output.tar.gz location: s3://sagemaker-us-west-2-775004277940/rl-hvac-2019-09-26-21-04-00-475/output/output.tar.gz\n",
      "Intermediate folder path: s3://sagemaker-us-west-2-775004277940/rl-hvac-2019-09-26-21-04-00-475/output/intermediate/\n",
      "Create local folder /tmp/rl-hvac-2019-09-26-21-04-00-475\n"
     ]
    }
   ],
   "source": [
    "s3_url = \"s3://{}/{}\".format(s3_bucket,job_name)\n",
    "\n",
    "if local_mode:\n",
    "    output_tar_key = \"{}/output.tar.gz\".format(job_name)\n",
    "else:\n",
    "    output_tar_key = \"{}/output/output.tar.gz\".format(job_name)\n",
    "\n",
    "intermediate_folder_key = \"{}/output/intermediate/\".format(job_name)\n",
    "output_url = \"s3://{}/{}\".format(s3_bucket, output_tar_key)\n",
    "intermediate_url = \"s3://{}/{}\".format(s3_bucket, intermediate_folder_key)\n",
    "\n",
    "print(\"S3 job path: {}\".format(s3_url))\n",
    "print(\"Output.tar.gz location: {}\".format(output_url))\n",
    "print(\"Intermediate folder path: {}\".format(intermediate_url))\n",
    "    \n",
    "tmp_dir = \"/tmp/{}\".format(job_name)\n",
    "os.system(\"mkdir {}\".format(tmp_dir))\n",
    "print(\"Create local folder {}\".format(tmp_dir))"
   ]
  },
  {
   "cell_type": "markdown",
   "metadata": {},
   "source": [
    "## Visualization"
   ]
  },
  {
   "cell_type": "markdown",
   "metadata": {},
   "source": [
    "### Plot metrics for training job\n",
    "We can pull the reward metric of the training and plot it to see the performance of the model over time."
   ]
  },
  {
   "cell_type": "code",
   "execution_count": 12,
   "metadata": {},
   "outputs": [
    {
     "name": "stdout",
     "output_type": "stream",
     "text": [
      "Waiting for s3://sagemaker-us-west-2-775004277940/rl-hvac-2019-09-26-21-04-00-475/output/intermediate/worker_0.simple_rl_graph.main_level.main_level.agent_0.csv...\n",
      "Downloading rl-hvac-2019-09-26-21-04-00-475/output/intermediate/worker_0.simple_rl_graph.main_level.main_level.agent_0.csv\n"
     ]
    },
    {
     "data": {
      "image/png": "[encoded data removed]",
      "text/plain": [
       "<Figure size 864x360 with 1 Axes>"
      ]
     },
     "metadata": {},
     "output_type": "display_data"
    }
   ],
   "source": [
    "%matplotlib inline\n",
    "import pandas as pd\n",
    "\n",
    "csv_file_name = \"worker_0.simple_rl_graph.main_level.main_level.agent_0.csv\"\n",
    "key = os.path.join(intermediate_folder_key, csv_file_name)\n",
    "wait_for_s3_object(s3_bucket, key, tmp_dir)\n",
    "\n",
    "csv_file = \"{}/{}\".format(tmp_dir, csv_file_name)\n",
    "df = pd.read_csv(csv_file)\n",
    "df = df.dropna(subset=['Training Reward'])\n",
    "x_axis = 'Episode #'\n",
    "y_axis = 'Training Reward'\n",
    "\n",
    "plt = df.plot(x=x_axis,y=y_axis, figsize=(12,5), legend=True, style='b-')\n",
    "plt.set_ylabel(y_axis);\n",
    "plt.set_xlabel(x_axis);"
   ]
  },
  {
   "cell_type": "markdown",
   "metadata": {},
   "source": [
    "## Evaluation of RL models\n",
    "\n",
    "We use the last checkpointed model to run evaluation for the RL Agent. \n",
    "\n",
    "### Load checkpointed model\n",
    "\n",
    "Checkpointed data from the previously trained models will be passed on for evaluation / inference in the checkpoint channel. In local mode, we can simply use the local directory, whereas in the SageMaker mode, it needs to be moved to S3 first."
   ]
  },
  {
   "cell_type": "code",
   "execution_count": 13,
   "metadata": {
    "scrolled": true
   },
   "outputs": [
    {
     "name": "stdout",
     "output_type": "stream",
     "text": [
      "Waiting for s3://sagemaker-us-west-2-775004277940/rl-hvac-2019-09-26-21-04-00-475/output/output.tar.gz...\n",
      "Downloading rl-hvac-2019-09-26-21-04-00-475/output/output.tar.gz\n",
      "Checkpoint directory /tmp/rl-hvac-2019-09-26-21-04-00-475/checkpoint\n"
     ]
    }
   ],
   "source": [
    "wait_for_s3_object(s3_bucket, output_tar_key, tmp_dir)  \n",
    "\n",
    "if not os.path.isfile(\"{}/output.tar.gz\".format(tmp_dir)):\n",
    "    raise FileNotFoundError(\"File output.tar.gz not found\")\n",
    "os.system(\"tar -xvzf {}/output.tar.gz -C {}\".format(tmp_dir, tmp_dir))\n",
    "\n",
    "if local_mode:\n",
    "    checkpoint_dir = \"{}/data/checkpoint\".format(tmp_dir)\n",
    "else:\n",
    "    checkpoint_dir = \"{}/checkpoint\".format(tmp_dir)\n",
    "\n",
    "print(\"Checkpoint directory {}\".format(checkpoint_dir))"
   ]
  },
  {
   "cell_type": "code",
   "execution_count": 14,
   "metadata": {},
   "outputs": [
    {
     "name": "stdout",
     "output_type": "stream",
     "text": [
      "S3 checkpoint file path: s3://sagemaker-us-west-2-775004277940/rl-hvac-2019-09-26-21-04-00-475/checkpoint/\n"
     ]
    }
   ],
   "source": [
    "if local_mode:\n",
    "    checkpoint_path = 'file://{}'.format(checkpoint_dir)\n",
    "    print(\"Local checkpoint file path: {}\".format(checkpoint_path))\n",
    "else:\n",
    "    checkpoint_path = \"s3://{}/{}/checkpoint/\".format(s3_bucket, job_name)\n",
    "    if not os.listdir(checkpoint_dir):\n",
    "        raise FileNotFoundError(\"Checkpoint files not found under the path\")\n",
    "    os.system(\"aws s3 cp --recursive {} {}\".format(checkpoint_dir, checkpoint_path))\n",
    "    print(\"S3 checkpoint file path: {}\".format(checkpoint_path))"
   ]
  },
  {
   "cell_type": "markdown",
   "metadata": {},
   "source": [
    "### Run the evaluation step\n",
    "\n",
    "Use the checkpointed model to run the evaluation step. "
   ]
  },
  {
   "cell_type": "code",
   "execution_count": null,
   "metadata": {},
   "outputs": [],
   "source": [
    "estimator_eval = RLEstimator(entry_point=\"evaluate-coach.py\",\n",
    "                             source_dir='src',\n",
    "                             dependencies=[\"common/sagemaker_rl\"],\n",
    "                             image_name=custom_image_name,\n",
    "                             role=role,\n",
    "                             train_instance_type=instance_type,\n",
    "                             train_instance_count=1,\n",
    "                             output_path=s3_output_path,\n",
    "                             base_job_name=job_name_prefix,\n",
    "                             hyperparameters = {\n",
    "                                 \"RLCOACH_PRESET\": \"preset-energy-plus-clipped-ppo\",\n",
    "                                 \"evaluate_steps\": 288*2, #2 episodes, i.e. 2 days\n",
    "                             }\n",
    "                            )\n",
    "\n",
    "estimator_eval.fit({'checkpoint': checkpoint_path})"
   ]
  },
  {
   "cell_type": "markdown",
   "metadata": {},
   "source": [
    "# Model deployment"
   ]
  },
  {
   "cell_type": "markdown",
   "metadata": {},
   "source": [
    "Since we specified a custom image when configuring the RLEstimator, we have to manually choose our deployment method. We'll choose to deploy with the MXNet Model since we used MXNet as the base container for our training."
   ]
  },
  {
   "cell_type": "code",
   "execution_count": null,
   "metadata": {},
   "outputs": [],
   "source": [
    "from sagemaker.mxnet import MXNetModel"
   ]
  },
  {
   "cell_type": "code",
   "execution_count": null,
   "metadata": {},
   "outputs": [],
   "source": [
    "model = MXNetModel(model_data=estimator.model_data,\n",
    "                   role=role,\n",
    "                   entry_point='deploy-mxnet-coach.py',\n",
    "                   source_dir='src',\n",
    "                   dependencies=[\"common/sagemaker_rl\"],\n",
    "                   py_version='py3',\n",
    "                   framework_version='1.3.0')"
   ]
  },
  {
   "cell_type": "code",
   "execution_count": null,
   "metadata": {},
   "outputs": [],
   "source": [
    "predictor = model.deploy(initial_instance_count=1,\n",
    "                         instance_type=instance_type,\n",
    "                         endpoint_name=job_name_prefix)"
   ]
  },
  {
   "cell_type": "code",
   "execution_count": 15,
   "metadata": {},
   "outputs": [
    {
     "name": "stdout",
     "output_type": "stream",
     "text": [
      "-------------------------------------------------------------------------------------------------------------!"
     ]
    }
   ],
   "source": [
    "predictor = estimator.deploy(initial_instance_count=1,\n",
    "                             instance_type=instance_type,\n",
    "                             entry_point='deploy-mxnet-coach.py')"
   ]
  },
  {
   "cell_type": "markdown",
   "metadata": {},
   "source": [
    "We can test the endpoint with a samples observation, where the current room temperature is high. Since the environment vector was of the form `[outdoor_temperature, outdoor_humidity, indoor_humidity]` and we used observation normalization in our preset, we choose an observation of `[0, 0, 2]`. Since we're deploying a PPO model, our model returns both state value and actions."
   ]
  },
  {
   "cell_type": "code",
   "execution_count": null,
   "metadata": {},
   "outputs": [],
   "source": [
    "action, action_mean, action_std = predictor.predict(np.array([0., 0., 2.,]))\n",
    "action_mean"
   ]
  },
  {
   "cell_type": "markdown",
   "metadata": {},
   "source": [
    "We can see heating and cooling setpoints are returned from the model, and these can be used to control the HVAC system for efficient energy usage. More training iterations will help improve the model further."
   ]
  },
  {
   "cell_type": "markdown",
   "metadata": {},
   "source": [
    "### Clean up endpoint"
   ]
  },
  {
   "cell_type": "code",
   "execution_count": null,
   "metadata": {},
   "outputs": [],
   "source": [
    "predictor.delete_endpoint()"
   ]
  },
  {
   "cell_type": "code",
   "execution_count": null,
   "metadata": {},
   "outputs": [],
   "source": []
  }
 ],
 "metadata": {
  "anaconda-cloud": {},
  "kernelspec": {
   "display_name": "conda_mxnet_p36",
   "language": "python",
   "name": "conda_mxnet_p36"
  },
  "language_info": {
   "codemirror_mode": {
    "name": "ipython",
    "version": 3
   },
   "file_extension": ".py",
   "mimetype": "text/x-python",
   "name": "python",
   "nbconvert_exporter": "python",
   "pygments_lexer": "ipython3",
   "version": "3.6.5"
  },
  "notice": "Copyright 2018 Amazon.com, Inc. or its affiliates. All Rights Reserved. Licensed under the Apache License, Version 2.0 (the \"License\"). You may not use this file except in compliance with the License. A copy of the License is located at http://aws.amazon.com/apache2.0/ or in the \"license\" file accompanying this file. This file is distributed on an \"AS IS\" BASIS, WITHOUT WARRANTIES OR CONDITIONS OF ANY KIND, either express or implied. See the License for the specific language governing permissions and limitations under the License."
 },
 "nbformat": 4,
 "nbformat_minor": 2
}
