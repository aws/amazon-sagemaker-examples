{
 "cells": [
  {
   "cell_type": "code",
   "execution_count": null,
   "metadata": {},
   "outputs": [],
   "source": [
    "%load_ext autoreload\n",
    "%autoreload 2\n",
    "%pip install transformers"
   ]
  },
  {
   "cell_type": "code",
   "execution_count": 1,
   "metadata": {},
   "outputs": [],
   "source": [
    "from benchmarking.payload import create_test_payload\n",
    "\"\"\"\n",
    "1. Add ability to create the endpoint within the notebook considering you will run this notebook \n",
    "within the same instance where the endpoint is being hosted.\n",
    "=> problem: the cell will not end as the server starts listening.\n",
    "\n",
    "\"\"\"\n",
    "\n",
    "PAYLOADS = {\n",
    "    # \"input_32_output_128\": create_test_payload(input_words=32, output_tokens=128),\n",
    "    \"input_128_output_128\": create_test_payload(input_words=128, output_tokens=128),\n",
    "    #\"input_512_output_128\": create_test_payload(input_words=512, output_tokens=128),\n",
    "    # \"input_6400_output_128\": create_test_payload(input_words=6400, output_tokens=128),\n",
    "    # \"input_128_output_512\": create_test_payload(input_words=128, output_tokens=512),\n",
    "    # \"input_512_output_512\": create_test_payload(input_words=512, output_tokens=512),\n",
    "}\n",
    "\n",
    "MODELS = {\n",
    "    \"code-llama-7b-url\": {\n",
    "        \"endpoint_url\": \"http://127.0.0.1:8080/invocations\",\n",
    "        \"huggingface_model_id\": \"codellama/CodeLlama-7b-hf\",\n",
    "        \"instance_type\": \"ml.p4d.24xlarge\"\n",
    "    },\n",
    "    \"code-llama-7b\": {\n",
    "        \"jumpstart_model_specs\": {\"model_args\": {\"model_id\": \"meta-textgeneration-llama-codellama-7b\", \"instance_type\": \"ml.p4d.24xlarge\"}},\n",
    "        \"huggingface_model_id\": \"codellama/CodeLlama-7b-hf\",\n",
    "    },\n",
    "    #\"llama-2-70b\": {\n",
    "    #    \"jumpstart_model_specs\": {\"model_args\": {\"model_id\": \"meta-textgeneration-llama-2-70b\"}},\n",
    "    #    \"huggingface_model_id\": \"TheBloke/Llama-2-70B-fp16\",\n",
    "    #},\n",
    "    # \"mistral-7b\": {\n",
    "    #     \"jumpstart_model_specs\": {\"model_args\": {\"model_id\": \"huggingface-llm-mistral-7b\"}},\n",
    "    #     \"huggingface_model_id\": \"mistralai/Mistral-7B-v0.1\",\n",
    "    # },\n",
    "    # \"mistral-7b-instruct\": {\n",
    "    #     \"jumpstart_model_specs\": {\"model_args\": {\"model_id\": \"huggingface-llm-mistral-7b-instruct\"}},\n",
    "    #     \"huggingface_model_id\": \"mistralai/Mistral-7B-Instruct-v0.1\",\n",
    "    # },\n",
    "    #\"falcon-7b\": {\n",
    "    #    \"jumpstart_model_specs\": {\"model_args\": {\"model_id\": \"huggingface-llm-falcon-7b-bf16\"}},\n",
    "    #    \"huggingface_model_id\": \"tiiuae/falcon-7b\",\n",
    "    #},\n",
    "    # \"falcon-7b-instruct\": {\n",
    "    #     \"jumpstart_model_specs\": {\"model_args\": {\"model_id\": \"huggingface-llm-falcon-7b-instruct-bf16\"}},\n",
    "    #     \"huggingface_model_id\": \"tiiuae/falcon-7b-instruct\",\n",
    "    # },\n",
    "    # \"falcon-40b\": {\n",
    "    #     \"jumpstart_model_specs\": {\"model_args\": {\"model_id\": \"huggingface-llm-falcon-40b-bf16\"}},\n",
    "    #     \"huggingface_model_id\": \"tiiuae/falcon-40b\",\n",
    "    # },\n",
    "    # \"falcon-40b-instruct\": {\n",
    "    #     \"jumpstart_model_specs\": {\"model_args\": {\"model_id\": \"huggingface-llm-falcon-40b-instruct-bf16\"}},\n",
    "    #     \"huggingface_model_id\": \"tiiuae/falcon-40b-instruct\",\n",
    "    # },\n",
    "    # \"falcon-180b\": {\n",
    "    #     \"jumpstart_model_specs\": {\"model_args\": {\"model_id\": \"huggingface-llm-falcon-180b-bf16\"}},\n",
    "    #     \"huggingface_model_id\": \"tiiuae/falcon-7b\",\n",
    "    # },\n",
    "    # \"falcon-180b-chat\": {\n",
    "    #     \"jumpstart_model_specs\": {\"model_args\": {\"model_id\": \"huggingface-llm-falcon-180b-chat-bf16\"}},\n",
    "    #     \"huggingface_model_id\": \"tiiuae/falcon-7b\",\n",
    "    # },\n",
    "    # \"llama-2-7b\": {\n",
    "    #     \"jumpstart_model_specs\": {\"model_args\": {\"model_id\": \"meta-textgeneration-llama-2-7b\"}},\n",
    "    #     \"huggingface_model_id\": \"TheBloke/Llama-2-7B-GPTQ\",\n",
    "    # },\n",
    "    # \"llama-2-13b\": {\n",
    "    #     \"jumpstart_model_specs\": {\"model_args\": {\"model_id\": \"meta-textgeneration-llama-2-13b\"}},\n",
    "    #     \"huggingface_model_id\": \"TheBloke/Llama-2-13B-GPTQ\",\n",
    "    # },\n",
    "    # \"llama-2-70b\": {\n",
    "    #     \"jumpstart_model_specs\": {\"model_args\": {\"model_id\": \"meta-textgeneration-llama-2-70b\"}},\n",
    "    #     \"huggingface_model_id\": \"TheBloke/Llama-2-70B-GPTQ\",\n",
    "    # },\n",
    "    # \"code-llama-7b\": {\n",
    "    #     \"jumpstart_model_specs\": {\"model_args\": {\"model_id\": \"meta-textgeneration-llama-codellama-7b\"}},\n",
    "    #     \"huggingface_model_id\": \"codellama/CodeLlama-7b-hf\",\n",
    "    # },\n",
    "    # \"code-llama-13b\": {\n",
    "    #     \"jumpstart_model_specs\": {\"model_args\": {\"model_id\": \"meta-textgeneration-llama-codellama-13b\"}},\n",
    "    #     \"huggingface_model_id\": \"codellama/CodeLlama-13b-hf\",\n",
    "    # },\n",
    "    # \"code-llama-34b\": {\n",
    "    #     \"jumpstart_model_specs\": {\"model_args\": {\"model_id\": \"meta-textgeneration-llama-codellama-34b\"}},\n",
    "    #     \"huggingface_model_id\": \"codellama/CodeLlama-34b-hf\",\n",
    "    # },\n",
    "}"
   ]
  },
  {
   "cell_type": "code",
   "execution_count": null,
   "metadata": {
    "scrolled": true
   },
   "outputs": [
    {
     "name": "stdout",
     "output_type": "stream",
     "text": [
      "sagemaker.config INFO - Not applying SDK defaults from location: /etc/xdg/sagemaker/config.yaml\n",
      "sagemaker.config INFO - Not applying SDK defaults from location: /home/ubuntu/.config/sagemaker/config.yaml\n",
      "sagemaker.config INFO - Not applying SDK defaults from location: /etc/xdg/sagemaker/config.yaml\n",
      "sagemaker.config INFO - Not applying SDK defaults from location: /home/ubuntu/.config/sagemaker/config.yaml\n",
      "2023-11-06 22:06:35,775 | INFO : (Model 'code-llama-7b-url'): No initial_instance_count provided. Using the default count 1.\n",
      "2023-11-06 22:06:35,776 | INFO : (Model 'code-llama-7b'): Predictor successfully retrieved from endpoint name\n",
      "2023-11-06 22:06:36,198 | INFO : (Model 'code-llama-7b-url', Payload 'input_128_output_128'): Begin concurrency probe ...\n",
      "2023-11-06 22:06:36,200 | INFO : (Model 'code-llama-7b-url', Payload 'input_128_output_128', Concurrency 1): Begin throughput load test ...\n",
      "2023-11-06 22:06:36,628 | INFO : (Model 'code-llama-7b', Payload 'input_128_output_128'): Begin concurrency probe ...\n",
      "2023-11-06 22:06:36,629 | INFO : (Model 'code-llama-7b', Payload 'input_128_output_128', Concurrency 1): Begin throughput load test ...\n",
      "2023-11-06 22:06:42,008 | INFO : (Model 'code-llama-7b', Payload 'input_128_output_128', Concurrency 2): Begin throughput load test ...\n",
      "2023-11-06 22:06:42,871 | INFO : (Model 'code-llama-7b-url', Payload 'input_128_output_128', Concurrency 2): Begin throughput load test ...\n",
      "2023-11-06 22:06:49,340 | INFO : (Model 'code-llama-7b', Payload 'input_128_output_128', Concurrency 4): Begin throughput load test ...\n",
      "2023-11-06 22:06:49,843 | INFO : (Model 'code-llama-7b-url', Payload 'input_128_output_128', Concurrency 4): Begin throughput load test ...\n",
      "2023-11-06 22:06:57,062 | INFO : (Model 'code-llama-7b-url', Payload 'input_128_output_128', Concurrency 8): Begin throughput load test ...\n",
      "2023-11-06 22:07:03,196 | INFO : (Model 'code-llama-7b', Payload 'input_128_output_128', Concurrency 8): Begin throughput load test ...\n",
      "2023-11-06 22:07:05,946 | INFO : (Model 'code-llama-7b-url', Payload 'input_128_output_128', Concurrency 16): Begin throughput load test ...\n",
      "2023-11-06 22:07:16,480 | INFO : (Model 'code-llama-7b-url', Payload 'input_128_output_128', Concurrency 32): Begin throughput load test ...\n",
      "2023-11-06 22:07:29,123 | INFO : (Model 'code-llama-7b-url', Payload 'input_128_output_128', Concurrency 64): Begin throughput load test ...\n",
      "2023-11-06 22:07:32,317 | INFO : (Model 'code-llama-7b', Payload 'input_128_output_128', Concurrency 16): Begin throughput load test ...\n",
      "2023-11-06 22:07:45,632 | INFO : (Model 'code-llama-7b-url', Payload 'input_128_output_128', Concurrency 128): Begin throughput load test ...\n",
      "2023-11-06 22:08:02,788 | INFO : (Model 'code-llama-7b', Payload 'input_128_output_128', Concurrency 32): Begin throughput load test ...\n",
      "2023-11-06 22:08:20,835 | INFO : (Model 'code-llama-7b-url', Payload 'input_128_output_128', Concurrency 256): Begin throughput load test ...\n",
      "2023-11-06 22:08:35,250 | INFO : (Model 'code-llama-7b', Payload 'input_128_output_128', Concurrency 64): Begin throughput load test ...\n",
      "2023-11-06 22:09:11,241 | INFO : (Model 'code-llama-7b', Payload 'input_128_output_128', Concurrency 128): Begin throughput load test ...\n",
      "2023-11-06 22:09:33,757 | INFO : (Model 'code-llama-7b-url', Payload 'input_128_output_128', Concurrency 512): Begin throughput load test ...\n",
      "2023-11-06 22:10:02,755 | INFO : (Model 'code-llama-7b', Payload 'input_128_output_128', Concurrency 256): Begin throughput load test ...\n",
      "2023-11-06 22:11:03,580 | INFO : (Model 'code-llama-7b', Payload 'input_128_output_128', Concurrency 256): Cancelling and awaiting future completion: An error occurred (ModelError) when calling the InvokeEndpoint operation: Received server error (0) from primary with message \"Your invocation timed out while waiting for a response from container primary. Review the latency metrics for each container in Amazon CloudWatch, resolve the issue, and try again.\". See https://us-west-2.console.aws.amazon.com/cloudwatch/home?region=us-west-2#logEventViewer:group=/aws/sagemaker/Endpoints/bm-code-llama-7b-2023-11-06-20-46-12-916 in account 875423407011 for more information.\n",
      "2023-11-06 22:11:34,649 | INFO : (Model 'code-llama-7b', Payload 'input_128_output_128'): End concurrency probe. Error occured: An error occurred (ModelError) when calling the InvokeEndpoint operation: Received server error (0) from primary with message \"Your invocation timed out while waiting for a response from container primary. Review the latency metrics for each container in Amazon CloudWatch, resolve the issue, and try again.\". See https://us-west-2.console.aws.amazon.com/cloudwatch/home?region=us-west-2#logEventViewer:group=/aws/sagemaker/Endpoints/bm-code-llama-7b-2023-11-06-20-46-12-916 in account 875423407011 for more information.\n",
      "2023-11-06 22:11:34,650 | INFO : (Model 'code-llama-7b'): Skipping cleaning up resources ...\n",
      "2023-11-06 22:11:45,976 | INFO : (Model 'code-llama-7b-url', Payload 'input_128_output_128', Concurrency 1024): Begin throughput load test ...\n"
     ]
    }
   ],
   "source": [
    "from benchmarking.runner import Benchmarker\n",
    "\n",
    "benchmarker = Benchmarker(payloads=PAYLOADS, run_concurrency_probe=True)\n",
    "metrics = benchmarker.run_multiple_models(models=MODELS)"
   ]
  },
  {
   "cell_type": "code",
   "execution_count": null,
   "metadata": {},
   "outputs": [],
   "source": [
    "import pandas as pd\n",
    "from benchmarking.runner import Benchmarker\n",
    "\n",
    "\n",
    "df = Benchmarker.load_metrics_pandas()\n",
    "df_pivot = Benchmarker.create_concurrency_probe_pivot_table(df)\n",
    "\n",
    "pd.set_option('display.max_columns', None)\n",
    "pd.set_option(\"display.max_colwidth\", 0)\n",
    "pd.set_option(\"display.max_rows\", 500)\n",
    "display(df_pivot)"
   ]
  },
  {
   "cell_type": "code",
   "execution_count": null,
   "metadata": {},
   "outputs": [],
   "source": [
    "benchmarker.clean_up_resources()"
   ]
  },
  {
   "cell_type": "code",
   "execution_count": null,
   "metadata": {},
   "outputs": [],
   "source": []
  }
 ],
 "metadata": {
  "kernelspec": {
   "display_name": "Python 3 (ipykernel)",
   "language": "python",
   "name": "python3"
  },
  "language_info": {
   "codemirror_mode": {
    "name": "ipython",
    "version": 3
   },
   "file_extension": ".py",
   "mimetype": "text/x-python",
   "name": "python",
   "nbconvert_exporter": "python",
   "pygments_lexer": "ipython3",
   "version": "3.10.12"
  }
 },
 "nbformat": 4,
 "nbformat_minor": 2
}
