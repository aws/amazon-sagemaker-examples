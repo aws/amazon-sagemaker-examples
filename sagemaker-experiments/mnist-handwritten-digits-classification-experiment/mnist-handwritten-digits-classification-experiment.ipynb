{
 "cells": [
  {
   "cell_type": "markdown",
   "metadata": {
    "papermill": {
     "duration": 0.018859,
     "end_time": "2022-04-18T00:27:16.418021",
     "exception": false,
     "start_time": "2022-04-18T00:27:16.399162",
     "status": "completed"
    },
    "tags": []
   },
   "source": [
    "# Run a SageMaker Experiment with MNIST Handwritten Digits Classification\n",
    "\n",
    "This demo shows how you can use the [SageMaker Experiments Python SDK](https://sagemaker-experiments.readthedocs.io/en/latest/) to organize, track, compare, and evaluate your machine learning (ML) model training experiments.\n",
    "\n",
    "You can track artifacts for experiments, including data sets, algorithms, hyperparameters, and metrics. Experiments executed on SageMaker such as SageMaker Autopilot jobs and training jobs are automatically tracked. You can also track artifacts for additional steps within an ML workflow that come before or after model training, such as data pre-processing or post-training model evaluation.\n",
    "\n",
    "The APIs also let you search and browse your current and past experiments, compare experiments, and identify best-performing models.\n",
    "\n",
    "We demonstrate these capabilities through an MNIST handwritten digits classification example. The experiment is organized as follows:\n",
    "\n",
    "1. Download and prepare the MNIST dataset.\n",
    "2. Train a Convolutional Neural Network (CNN) Model. Tune the hyperparameter that configures the number of hidden channels in the model. Track the parameter configurations and resulting model accuracy using the SageMaker Experiments Python SDK.\n",
    "3. Finally use the search and analytics capabilities of the SDK to search, compare and evaluate the performance of all model versions generated from model tuning in Step 2.\n",
    "4. We also show an example of tracing the complete lineage of a model version: the collection of all the data pre-processing and training configurations and inputs that went into creating that model version.\n",
    "\n",
    "Make sure you select the `Python 3 (Data Science)` kernel in Studio, or `conda_pytorch_p36` in a notebook instance.\n",
    "\n",
    "## Runtime\n",
    "\n",
    "This notebook takes approximately 25 minutes to run.\n",
    "\n",
    "## Contents\n",
    "\n",
    "1. [Install modules](#Install-modules)\n",
    "1. [Setup](#Setup)\n",
    "1. [Download the dataset](#Download-the-dataset)\n",
    "1. [Step 1: Set up the Experiment](#Step-1:-Set-up-the-Experiment)\n",
    "1. [Step 2: Track Experiment](#Step-2:-Track-Experiment)\n",
    "1. [Deploy an endpoint for the best training job / trial component](#Deploy-an-endpoint-for-the-best-training-job-/-trial-component)\n",
    "1. [Cleanup](#Cleanup)\n",
    "1. [Contact](#Contact)"
   ]
  },
  {
   "cell_type": "markdown",
   "metadata": {
    "papermill": {
     "duration": 0.018686,
     "end_time": "2022-04-18T00:27:16.455927",
     "exception": false,
     "start_time": "2022-04-18T00:27:16.437241",
     "status": "completed"
    },
    "tags": []
   },
   "source": [
    "## Install modules"
   ]
  },
  {
   "cell_type": "code",
   "execution_count": null,
   "metadata": {
    "execution": {
     "iopub.execute_input": "2022-04-18T00:27:16.498560Z",
     "iopub.status.busy": "2022-04-18T00:27:16.497781Z",
     "iopub.status.idle": "2022-04-18T00:27:16.500039Z",
     "shell.execute_reply": "2022-04-18T00:27:16.500519Z"
    },
    "papermill": {
     "duration": 0.025799,
     "end_time": "2022-04-18T00:27:16.500670",
     "exception": false,
     "start_time": "2022-04-18T00:27:16.474871",
     "status": "completed"
    },
    "tags": []
   },
   "outputs": [],
   "source": [
    "import sys"
   ]
  },
  {
   "cell_type": "markdown",
   "metadata": {
    "papermill": {
     "duration": 0.019204,
     "end_time": "2022-04-18T00:27:16.539083",
     "exception": false,
     "start_time": "2022-04-18T00:27:16.519879",
     "status": "completed"
    },
    "tags": []
   },
   "source": [
    "### Install the SageMaker Experiments Python SDK"
   ]
  },
  {
   "cell_type": "code",
   "execution_count": null,
   "metadata": {
    "execution": {
     "iopub.execute_input": "2022-04-18T00:27:16.582163Z",
     "iopub.status.busy": "2022-04-18T00:27:16.581507Z",
     "iopub.status.idle": "2022-04-18T00:27:18.732886Z",
     "shell.execute_reply": "2022-04-18T00:27:18.731593Z"
    },
    "papermill": {
     "duration": 2.175113,
     "end_time": "2022-04-18T00:27:18.733009",
     "exception": false,
     "start_time": "2022-04-18T00:27:16.557896",
     "status": "completed"
    },
    "tags": []
   },
   "outputs": [],
   "source": [
    "!{sys.executable} -m pip install sagemaker-experiments==0.1.35"
   ]
  },
  {
   "cell_type": "markdown",
   "metadata": {
    "papermill": {
     "duration": 0.020485,
     "end_time": "2022-04-18T00:27:18.774120",
     "exception": false,
     "start_time": "2022-04-18T00:27:18.753635",
     "status": "completed"
    },
    "tags": []
   },
   "source": [
    "### Install PyTorch"
   ]
  },
  {
   "cell_type": "code",
   "execution_count": null,
   "metadata": {
    "execution": {
     "iopub.execute_input": "2022-04-18T00:27:18.826656Z",
     "iopub.status.busy": "2022-04-18T00:27:18.823942Z",
     "iopub.status.idle": "2022-04-18T00:30:31.050771Z",
     "shell.execute_reply": "2022-04-18T00:30:31.050056Z"
    },
    "papermill": {
     "duration": 192.25645,
     "end_time": "2022-04-18T00:30:31.050890",
     "exception": false,
     "start_time": "2022-04-18T00:27:18.794440",
     "status": "completed"
    },
    "scrolled": true,
    "tags": []
   },
   "outputs": [],
   "source": [
    "# PyTorch version needs to be the same in both the notebook instance and the training job container\n",
    "# https://github.com/pytorch/pytorch/issues/25214\n",
    "!{sys.executable} -m pip install torch==1.1.0\n",
    "!{sys.executable} -m pip install torchvision==0.2.2\n",
    "!{sys.executable} -m pip install pillow==6.2.2\n",
    "!{sys.executable} -m pip install --upgrade sagemaker"
   ]
  },
  {
   "cell_type": "markdown",
   "metadata": {
    "papermill": {
     "duration": 1.097451,
     "end_time": "2022-04-18T00:30:33.138064",
     "exception": false,
     "start_time": "2022-04-18T00:30:32.040613",
     "status": "completed"
    },
    "tags": []
   },
   "source": [
    "## Setup"
   ]
  },
  {
   "cell_type": "code",
   "execution_count": null,
   "metadata": {
    "execution": {
     "iopub.execute_input": "2022-04-18T00:30:35.335151Z",
     "iopub.status.busy": "2022-04-18T00:30:35.271802Z",
     "iopub.status.idle": "2022-04-18T00:30:38.949477Z",
     "shell.execute_reply": "2022-04-18T00:30:38.950150Z"
    },
    "papermill": {
     "duration": 4.792811,
     "end_time": "2022-04-18T00:30:38.950328",
     "exception": false,
     "start_time": "2022-04-18T00:30:34.157517",
     "status": "completed"
    },
    "tags": []
   },
   "outputs": [],
   "source": [
    "import time\n",
    "\n",
    "import boto3\n",
    "import numpy as np\n",
    "import pandas as pd\n",
    "from IPython.display import set_matplotlib_formats\n",
    "from matplotlib import pyplot as plt\n",
    "from torchvision import datasets, transforms\n",
    "\n",
    "import sagemaker\n",
    "from sagemaker import get_execution_role\n",
    "from sagemaker.session import Session\n",
    "from sagemaker.analytics import ExperimentAnalytics\n",
    "\n",
    "from smexperiments.experiment import Experiment\n",
    "from smexperiments.trial import Trial\n",
    "from smexperiments.trial_component import TrialComponent\n",
    "from smexperiments.tracker import Tracker\n",
    "\n",
    "set_matplotlib_formats(\"retina\")"
   ]
  },
  {
   "cell_type": "code",
   "execution_count": null,
   "metadata": {
    "execution": {
     "iopub.execute_input": "2022-04-18T00:30:41.152153Z",
     "iopub.status.busy": "2022-04-18T00:30:41.151285Z",
     "iopub.status.idle": "2022-04-18T00:30:42.253546Z",
     "shell.execute_reply": "2022-04-18T00:30:42.253098Z"
    },
    "papermill": {
     "duration": 2.294368,
     "end_time": "2022-04-18T00:30:42.253653",
     "exception": false,
     "start_time": "2022-04-18T00:30:39.959285",
     "status": "completed"
    },
    "tags": []
   },
   "outputs": [],
   "source": [
    "sm_sess = sagemaker.Session()\n",
    "sess = sm_sess.boto_session\n",
    "sm = sm_sess.sagemaker_client\n",
    "role = get_execution_role()\n",
    "region = sess.region_name"
   ]
  },
  {
   "cell_type": "markdown",
   "metadata": {
    "papermill": {
     "duration": 1.20861,
     "end_time": "2022-04-18T00:30:44.261610",
     "exception": false,
     "start_time": "2022-04-18T00:30:43.053000",
     "status": "completed"
    },
    "tags": []
   },
   "source": [
    "## Download the dataset\n",
    "We download the MNIST handwritten digits dataset, and then apply a transformation on each image."
   ]
  },
  {
   "cell_type": "code",
   "execution_count": null,
   "metadata": {
    "execution": {
     "iopub.execute_input": "2022-04-18T00:30:46.451896Z",
     "iopub.status.busy": "2022-04-18T00:30:46.450986Z",
     "iopub.status.idle": "2022-04-18T00:30:49.864469Z",
     "shell.execute_reply": "2022-04-18T00:30:49.864897Z"
    },
    "papermill": {
     "duration": 4.528502,
     "end_time": "2022-04-18T00:30:49.865034",
     "exception": false,
     "start_time": "2022-04-18T00:30:45.336532",
     "status": "completed"
    },
    "tags": []
   },
   "outputs": [],
   "source": [
    "bucket = sm_sess.default_bucket()\n",
    "prefix = \"DEMO-mnist\"\n",
    "print(\"Using S3 location: s3://\" + bucket + \"/\" + prefix + \"/\")\n",
    "\n",
    "datasets.MNIST.urls = [\n",
    "    \"https://sagemaker-sample-files.s3.amazonaws.com/datasets/image/MNIST/train-images-idx3-ubyte.gz\",\n",
    "    \"https://sagemaker-sample-files.s3.amazonaws.com/datasets/image/MNIST/train-labels-idx1-ubyte.gz\",\n",
    "    \"https://sagemaker-sample-files.s3.amazonaws.com/datasets/image/MNIST/t10k-images-idx3-ubyte.gz\",\n",
    "    \"https://sagemaker-sample-files.s3.amazonaws.com/datasets/image/MNIST/t10k-labels-idx1-ubyte.gz\",\n",
    "]\n",
    "\n",
    "# Download the dataset to the ./mnist folder, and load and transform (normalize) them\n",
    "train_set = datasets.MNIST(\n",
    "    \"mnist\",\n",
    "    train=True,\n",
    "    transform=transforms.Compose(\n",
    "        [transforms.ToTensor(), transforms.Normalize((0.1307,), (0.3081,))]\n",
    "    ),\n",
    "    download=True,\n",
    ")\n",
    "\n",
    "test_set = datasets.MNIST(\n",
    "    \"mnist\",\n",
    "    train=False,\n",
    "    transform=transforms.Compose(\n",
    "        [transforms.ToTensor(), transforms.Normalize((0.1307,), (0.3081,))]\n",
    "    ),\n",
    "    download=False,\n",
    ")"
   ]
  },
  {
   "cell_type": "markdown",
   "metadata": {
    "papermill": {
     "duration": 0.586926,
     "end_time": "2022-04-18T00:30:50.860446",
     "exception": false,
     "start_time": "2022-04-18T00:30:50.273520",
     "status": "completed"
    },
    "tags": []
   },
   "source": [
    "View an example image from the dataset."
   ]
  },
  {
   "cell_type": "code",
   "execution_count": null,
   "metadata": {
    "execution": {
     "iopub.execute_input": "2022-04-18T00:30:53.140056Z",
     "iopub.status.busy": "2022-04-18T00:30:53.139171Z",
     "iopub.status.idle": "2022-04-18T00:30:53.646029Z",
     "shell.execute_reply": "2022-04-18T00:30:53.645594Z"
    },
    "papermill": {
     "duration": 1.689988,
     "end_time": "2022-04-18T00:30:53.646180",
     "exception": false,
     "start_time": "2022-04-18T00:30:51.956192",
     "status": "completed"
    },
    "tags": []
   },
   "outputs": [],
   "source": [
    "plt.imshow(train_set.data[2].numpy())"
   ]
  },
  {
   "cell_type": "markdown",
   "metadata": {
    "papermill": {
     "duration": 1.012717,
     "end_time": "2022-04-18T00:30:55.859085",
     "exception": false,
     "start_time": "2022-04-18T00:30:54.846368",
     "status": "completed"
    },
    "tags": []
   },
   "source": [
    "After transforming the images in the dataset, we upload it to S3."
   ]
  },
  {
   "cell_type": "code",
   "execution_count": null,
   "metadata": {
    "execution": {
     "iopub.execute_input": "2022-04-18T00:30:58.636462Z",
     "iopub.status.busy": "2022-04-18T00:30:58.635236Z",
     "iopub.status.idle": "2022-04-18T00:31:02.394223Z",
     "shell.execute_reply": "2022-04-18T00:31:02.394609Z"
    },
    "papermill": {
     "duration": 4.954501,
     "end_time": "2022-04-18T00:31:02.394743",
     "exception": false,
     "start_time": "2022-04-18T00:30:57.440242",
     "status": "completed"
    },
    "tags": []
   },
   "outputs": [],
   "source": [
    "inputs = sagemaker.Session().upload_data(path=\"mnist\", bucket=bucket, key_prefix=prefix)"
   ]
  },
  {
   "cell_type": "markdown",
   "metadata": {
    "papermill": {
     "duration": 1.097592,
     "end_time": "2022-04-18T00:31:04.456979",
     "exception": false,
     "start_time": "2022-04-18T00:31:03.359387",
     "status": "completed"
    },
    "tags": []
   },
   "source": [
    "Now let's track the parameters from the data pre-processing step."
   ]
  },
  {
   "cell_type": "code",
   "execution_count": null,
   "metadata": {
    "execution": {
     "iopub.execute_input": "2022-04-18T00:31:06.655465Z",
     "iopub.status.busy": "2022-04-18T00:31:06.654595Z",
     "iopub.status.idle": "2022-04-18T00:31:07.240604Z",
     "shell.execute_reply": "2022-04-18T00:31:07.239833Z"
    },
    "papermill": {
     "duration": 1.694509,
     "end_time": "2022-04-18T00:31:07.240769",
     "exception": false,
     "start_time": "2022-04-18T00:31:05.546260",
     "status": "completed"
    },
    "tags": []
   },
   "outputs": [],
   "source": [
    "with Tracker.create(display_name=\"Preprocessing\", sagemaker_boto_client=sm) as tracker:\n",
    "    tracker.log_parameters(\n",
    "        {\n",
    "            \"normalization_mean\": 0.1307,\n",
    "            \"normalization_std\": 0.3081,\n",
    "        }\n",
    "    )\n",
    "    # We can log the S3 uri to the dataset we just uploaded\n",
    "    tracker.log_input(name=\"mnist-dataset\", media_type=\"s3/uri\", value=inputs)"
   ]
  },
  {
   "cell_type": "markdown",
   "metadata": {
    "papermill": {
     "duration": 1.105926,
     "end_time": "2022-04-18T00:31:09.463393",
     "exception": false,
     "start_time": "2022-04-18T00:31:08.357467",
     "status": "completed"
    },
    "tags": []
   },
   "source": [
    "## Step 1: Set up the Experiment\n",
    "\n",
    "Create an experiment to track all the model training iterations. Experiments are a great way to organize your data science work. You can create experiments to organize all your model development work for: [1] a business use case you are addressing (e.g. create experiment named “customer churn prediction”), or [2] a data science team that owns the experiment (e.g. create experiment named “marketing analytics experiment”), or [3] a specific data science and ML project. Think of it as a “folder” for organizing your “files”."
   ]
  },
  {
   "cell_type": "markdown",
   "metadata": {
    "papermill": {
     "duration": 1.093129,
     "end_time": "2022-04-18T00:31:11.653260",
     "exception": false,
     "start_time": "2022-04-18T00:31:10.560131",
     "status": "completed"
    },
    "tags": []
   },
   "source": [
    "### Create an Experiment"
   ]
  },
  {
   "cell_type": "code",
   "execution_count": null,
   "metadata": {
    "execution": {
     "iopub.execute_input": "2022-04-18T00:31:14.036680Z",
     "iopub.status.busy": "2022-04-18T00:31:14.036097Z",
     "iopub.status.idle": "2022-04-18T00:31:14.095063Z",
     "shell.execute_reply": "2022-04-18T00:31:14.094320Z"
    },
    "papermill": {
     "duration": 1.326994,
     "end_time": "2022-04-18T00:31:14.095209",
     "exception": false,
     "start_time": "2022-04-18T00:31:12.768215",
     "status": "completed"
    },
    "tags": []
   },
   "outputs": [],
   "source": [
    "mnist_experiment = Experiment.create(\n",
    "    experiment_name=f\"mnist-hand-written-digits-classification-{int(time.time())}\",\n",
    "    description=\"Classification of mnist hand-written digits\",\n",
    "    sagemaker_boto_client=sm,\n",
    ")\n",
    "print(mnist_experiment)"
   ]
  },
  {
   "cell_type": "markdown",
   "metadata": {
    "papermill": {
     "duration": 1.125119,
     "end_time": "2022-04-18T00:31:16.263389",
     "exception": false,
     "start_time": "2022-04-18T00:31:15.138270",
     "status": "completed"
    },
    "tags": []
   },
   "source": [
    "## Step 2: Track Experiment\n",
    "### Now create a Trial for each training run to track its inputs, parameters, and metrics.\n",
    "While training the CNN model on SageMaker, we experiment with several values for the number of hidden channel in the model. We create a Trial to track each training job run. We also create a TrialComponent from the tracker we created before, and add to the Trial. This enriches the Trial with the parameters we captured from the data pre-processing stage."
   ]
  },
  {
   "cell_type": "code",
   "execution_count": null,
   "metadata": {
    "execution": {
     "iopub.execute_input": "2022-04-18T00:31:18.563017Z",
     "iopub.status.busy": "2022-04-18T00:31:18.562409Z",
     "iopub.status.idle": "2022-04-18T00:31:18.637727Z",
     "shell.execute_reply": "2022-04-18T00:31:18.637141Z"
    },
    "papermill": {
     "duration": 1.281791,
     "end_time": "2022-04-18T00:31:18.637855",
     "exception": false,
     "start_time": "2022-04-18T00:31:17.356064",
     "status": "completed"
    },
    "tags": []
   },
   "outputs": [],
   "source": [
    "from sagemaker.pytorch import PyTorch, PyTorchModel"
   ]
  },
  {
   "cell_type": "code",
   "execution_count": null,
   "metadata": {
    "execution": {
     "iopub.execute_input": "2022-04-18T00:31:20.939373Z",
     "iopub.status.busy": "2022-04-18T00:31:20.938430Z",
     "iopub.status.idle": "2022-04-18T00:31:20.940663Z",
     "shell.execute_reply": "2022-04-18T00:31:20.941065Z"
    },
    "papermill": {
     "duration": 1.18469,
     "end_time": "2022-04-18T00:31:20.941201",
     "exception": false,
     "start_time": "2022-04-18T00:31:19.756511",
     "status": "completed"
    },
    "tags": []
   },
   "outputs": [],
   "source": [
    "hidden_channel_trial_name_map = {}"
   ]
  },
  {
   "cell_type": "markdown",
   "metadata": {
    "papermill": {
     "duration": 1.690973,
     "end_time": "2022-04-18T00:31:23.651931",
     "exception": false,
     "start_time": "2022-04-18T00:31:21.960958",
     "status": "completed"
    },
    "tags": []
   },
   "source": [
    "If you want to run the following five training jobs in parallel, you may need to increase your resource limit. Here we run them sequentially."
   ]
  },
  {
   "cell_type": "code",
   "execution_count": null,
   "metadata": {
    "execution": {
     "iopub.execute_input": "2022-04-18T00:31:25.855290Z",
     "iopub.status.busy": "2022-04-18T00:31:25.854387Z",
     "iopub.status.idle": "2022-04-18T00:31:25.856228Z",
     "shell.execute_reply": "2022-04-18T00:31:25.856672Z"
    },
    "papermill": {
     "duration": 1.10193,
     "end_time": "2022-04-18T00:31:25.857106",
     "exception": false,
     "start_time": "2022-04-18T00:31:24.755176",
     "status": "completed"
    },
    "tags": []
   },
   "outputs": [],
   "source": [
    "preprocessing_trial_component = tracker.trial_component"
   ]
  },
  {
   "cell_type": "code",
   "execution_count": null,
   "metadata": {
    "execution": {
     "iopub.execute_input": "2022-04-18T00:31:28.047401Z",
     "iopub.status.busy": "2022-04-18T00:31:28.046591Z",
     "iopub.status.idle": "2022-04-18T00:54:55.222696Z",
     "shell.execute_reply": "2022-04-18T00:54:55.223525Z"
    },
    "papermill": {
     "duration": 1408.284911,
     "end_time": "2022-04-18T00:54:55.223686",
     "exception": false,
     "start_time": "2022-04-18T00:31:26.938775",
     "status": "completed"
    },
    "scrolled": true,
    "tags": []
   },
   "outputs": [],
   "source": [
    "for i, num_hidden_channel in enumerate([2, 5, 10, 20, 32]):\n",
    "    # Create trial\n",
    "    trial_name = f\"cnn-training-job-{num_hidden_channel}-hidden-channels-{int(time.time())}\"\n",
    "    cnn_trial = Trial.create(\n",
    "        trial_name=trial_name,\n",
    "        experiment_name=mnist_experiment.experiment_name,\n",
    "        sagemaker_boto_client=sm,\n",
    "    )\n",
    "    hidden_channel_trial_name_map[num_hidden_channel] = trial_name\n",
    "\n",
    "    # Associate the proprocessing trial component with the current trial\n",
    "    cnn_trial.add_trial_component(preprocessing_trial_component)\n",
    "\n",
    "    # All input configurations, parameters, and metrics specified in\n",
    "    # the estimator definition are automatically tracked\n",
    "    estimator = PyTorch(\n",
    "        py_version=\"py3\",\n",
    "        entry_point=\"./mnist.py\",\n",
    "        role=role,\n",
    "        sagemaker_session=sagemaker.Session(sagemaker_client=sm),\n",
    "        framework_version=\"1.1.0\",\n",
    "        instance_count=1,\n",
    "        instance_type=\"ml.c4.xlarge\",\n",
    "        hyperparameters={\n",
    "            \"epochs\": 2,\n",
    "            \"backend\": \"gloo\",\n",
    "            \"hidden_channels\": num_hidden_channel,\n",
    "            \"dropout\": 0.2,\n",
    "            \"kernel_size\": 5,\n",
    "            \"optimizer\": \"sgd\",\n",
    "        },\n",
    "        metric_definitions=[\n",
    "            {\"Name\": \"train:loss\", \"Regex\": \"Train Loss: (.*?);\"},\n",
    "            {\"Name\": \"test:loss\", \"Regex\": \"Test Average loss: (.*?),\"},\n",
    "            {\"Name\": \"test:accuracy\", \"Regex\": \"Test Accuracy: (.*?)%;\"},\n",
    "        ],\n",
    "        enable_sagemaker_metrics=True,\n",
    "    )\n",
    "\n",
    "    cnn_training_job_name = \"cnn-training-job-{}\".format(int(time.time()))\n",
    "\n",
    "    # Associate the estimator with the Experiment and Trial\n",
    "    estimator.fit(\n",
    "        inputs={\"training\": inputs},\n",
    "        job_name=cnn_training_job_name,\n",
    "        experiment_config={\n",
    "            \"TrialName\": cnn_trial.trial_name,\n",
    "            \"TrialComponentDisplayName\": \"Training\",\n",
    "        },\n",
    "        wait=True,\n",
    "    )\n",
    "\n",
    "    # Wait two seconds before dispatching the next training job\n",
    "    time.sleep(2)"
   ]
  },
  {
   "cell_type": "markdown",
   "metadata": {
    "papermill": {
     "duration": 0.464007,
     "end_time": "2022-04-18T00:54:56.173858",
     "exception": false,
     "start_time": "2022-04-18T00:54:55.709851",
     "status": "completed"
    },
    "tags": []
   },
   "source": [
    "### Compare the model training runs for an experiment\n",
    "\n",
    "Now we use the analytics capabilities of the Experiments SDK to query and compare the training runs for identifying the best model produced by our experiment. You can retrieve trial components by using a search expression."
   ]
  },
  {
   "cell_type": "markdown",
   "metadata": {
    "papermill": {
     "duration": 0.403776,
     "end_time": "2022-04-18T00:54:56.987527",
     "exception": false,
     "start_time": "2022-04-18T00:54:56.583751",
     "status": "completed"
    },
    "tags": []
   },
   "source": [
    "### Some Simple Analyses"
   ]
  },
  {
   "cell_type": "code",
   "execution_count": null,
   "metadata": {
    "execution": {
     "iopub.execute_input": "2022-04-18T00:54:57.808976Z",
     "iopub.status.busy": "2022-04-18T00:54:57.808166Z",
     "iopub.status.idle": "2022-04-18T00:54:57.810404Z",
     "shell.execute_reply": "2022-04-18T00:54:57.810812Z"
    },
    "papermill": {
     "duration": 0.415803,
     "end_time": "2022-04-18T00:54:57.810945",
     "exception": false,
     "start_time": "2022-04-18T00:54:57.395142",
     "status": "completed"
    },
    "tags": []
   },
   "outputs": [],
   "source": [
    "search_expression = {\n",
    "    \"Filters\": [\n",
    "        {\n",
    "            \"Name\": \"DisplayName\",\n",
    "            \"Operator\": \"Equals\",\n",
    "            \"Value\": \"Training\",\n",
    "        }\n",
    "    ],\n",
    "}"
   ]
  },
  {
   "cell_type": "code",
   "execution_count": null,
   "metadata": {
    "execution": {
     "iopub.execute_input": "2022-04-18T00:54:58.633855Z",
     "iopub.status.busy": "2022-04-18T00:54:58.624955Z",
     "iopub.status.idle": "2022-04-18T00:54:58.635871Z",
     "shell.execute_reply": "2022-04-18T00:54:58.636463Z"
    },
    "papermill": {
     "duration": 0.430927,
     "end_time": "2022-04-18T00:54:58.636603",
     "exception": false,
     "start_time": "2022-04-18T00:54:58.205676",
     "status": "completed"
    },
    "tags": []
   },
   "outputs": [],
   "source": [
    "trial_component_analytics = ExperimentAnalytics(\n",
    "    sagemaker_session=Session(sess, sm),\n",
    "    experiment_name=mnist_experiment.experiment_name,\n",
    "    search_expression=search_expression,\n",
    "    sort_by=\"metrics.test:accuracy.max\",\n",
    "    sort_order=\"Descending\",\n",
    "    metric_names=[\"test:accuracy\"],\n",
    "    parameter_names=[\"hidden_channels\", \"epochs\", \"dropout\", \"optimizer\"],\n",
    ")"
   ]
  },
  {
   "cell_type": "code",
   "execution_count": null,
   "metadata": {
    "execution": {
     "iopub.execute_input": "2022-04-18T00:54:59.461683Z",
     "iopub.status.busy": "2022-04-18T00:54:59.460118Z",
     "iopub.status.idle": "2022-04-18T00:54:59.583688Z",
     "shell.execute_reply": "2022-04-18T00:54:59.583260Z"
    },
    "papermill": {
     "duration": 0.5529,
     "end_time": "2022-04-18T00:54:59.583802",
     "exception": false,
     "start_time": "2022-04-18T00:54:59.030902",
     "status": "completed"
    },
    "tags": []
   },
   "outputs": [],
   "source": [
    "trial_component_analytics.dataframe()"
   ]
  },
  {
   "cell_type": "markdown",
   "metadata": {
    "papermill": {
     "duration": 0.418856,
     "end_time": "2022-04-18T00:55:00.410510",
     "exception": false,
     "start_time": "2022-04-18T00:54:59.991654",
     "status": "completed"
    },
    "tags": []
   },
   "source": [
    "To isolate and measure the impact of change in hidden channels on model accuracy, we vary the number of hidden channel and fix the value for other hyperparameters.\n",
    "\n",
    "Next let's look at an example of tracing the lineage of a model by accessing the data tracked by SageMaker Experiments for the `cnn-training-job-2-hidden-channels` trial."
   ]
  },
  {
   "cell_type": "code",
   "execution_count": null,
   "metadata": {
    "execution": {
     "iopub.execute_input": "2022-04-18T00:55:01.341853Z",
     "iopub.status.busy": "2022-04-18T00:55:01.341153Z",
     "iopub.status.idle": "2022-04-18T00:55:01.364915Z",
     "shell.execute_reply": "2022-04-18T00:55:01.365729Z"
    },
    "papermill": {
     "duration": 0.550558,
     "end_time": "2022-04-18T00:55:01.365871",
     "exception": false,
     "start_time": "2022-04-18T00:55:00.815313",
     "status": "completed"
    },
    "tags": []
   },
   "outputs": [],
   "source": [
    "lineage_table = ExperimentAnalytics(\n",
    "    sagemaker_session=Session(sess, sm),\n",
    "    search_expression={\n",
    "        \"Filters\": [\n",
    "            {\n",
    "                \"Name\": \"Parents.TrialName\",\n",
    "                \"Operator\": \"Equals\",\n",
    "                \"Value\": hidden_channel_trial_name_map[2],\n",
    "            }\n",
    "        ]\n",
    "    },\n",
    "    sort_by=\"CreationTime\",\n",
    "    sort_order=\"Ascending\",\n",
    ")"
   ]
  },
  {
   "cell_type": "code",
   "execution_count": null,
   "metadata": {
    "execution": {
     "iopub.execute_input": "2022-04-18T00:55:02.222247Z",
     "iopub.status.busy": "2022-04-18T00:55:02.221601Z",
     "iopub.status.idle": "2022-04-18T00:55:02.298149Z",
     "shell.execute_reply": "2022-04-18T00:55:02.297691Z"
    },
    "papermill": {
     "duration": 0.526539,
     "end_time": "2022-04-18T00:55:02.298270",
     "exception": false,
     "start_time": "2022-04-18T00:55:01.771731",
     "status": "completed"
    },
    "tags": []
   },
   "outputs": [],
   "source": [
    "lineage_table.dataframe()"
   ]
  },
  {
   "cell_type": "markdown",
   "metadata": {},
   "source": [
    "## Push best training job model to model registry\n",
    "Now we take the best model and push it to [model registry](#https://docs.aws.amazon.com/sagemaker/latest/dg/model-registry.html)."
   ]
  },
  {
   "cell_type": "markdown",
   "metadata": {},
   "source": [
    "### Step 1: Create a model package group."
   ]
  },
  {
   "cell_type": "code",
   "execution_count": null,
   "metadata": {},
   "outputs": [],
   "source": [
    "import time\n",
    "\n",
    "model_package_group_name = \"mnist-handwritten-digit-classification\" + str(round(time.time()))\n",
    "model_package_group_input_dict = {\n",
    "    \"ModelPackageGroupName\": model_package_group_name,\n",
    "    \"ModelPackageGroupDescription\": \"Sample model package group\",\n",
    "}\n",
    "\n",
    "create_model_package_group_response = sm.create_model_package_group(\n",
    "    **model_package_group_input_dict\n",
    ")\n",
    "model_package_arn = create_model_package_group_response[\"ModelPackageGroupArn\"]\n",
    "\n",
    "print(f\"ModelPackageGroup Arn : {model_package_arn}\")"
   ]
  },
  {
   "cell_type": "code",
   "execution_count": null,
   "metadata": {},
   "outputs": [],
   "source": [
    "model_package_arn"
   ]
  },
  {
   "cell_type": "markdown",
   "metadata": {},
   "source": [
    "### Step 2: Get the best model training job from SageMaker experiments API"
   ]
  },
  {
   "cell_type": "code",
   "execution_count": null,
   "metadata": {
    "scrolled": true
   },
   "outputs": [],
   "source": [
    "best_trial_component_name = trial_component_analytics.dataframe().iloc[0][\"TrialComponentName\"]\n",
    "best_trial_component = TrialComponent.load(best_trial_component_name)"
   ]
  },
  {
   "cell_type": "code",
   "execution_count": null,
   "metadata": {},
   "outputs": [],
   "source": [
    "best_trial_component.trial_component_name"
   ]
  },
  {
   "cell_type": "markdown",
   "metadata": {},
   "source": [
    "### Step 3: Register the best model.\n",
    "By default, the model is registered with the `approval_status` set to `PendingManualApproval`. Users can then use API to manually approve the model based on any criteria set for model evaluation."
   ]
  },
  {
   "cell_type": "code",
   "execution_count": null,
   "metadata": {},
   "outputs": [],
   "source": [
    "# create model object\n",
    "model_data = best_trial_component.output_artifacts[\"SageMaker.ModelArtifact\"].value\n",
    "env = {\n",
    "    \"hidden_channels\": str(int(best_trial_component.parameters[\"hidden_channels\"])),\n",
    "    \"dropout\": str(best_trial_component.parameters[\"dropout\"]),\n",
    "    \"kernel_size\": str(int(best_trial_component.parameters[\"kernel_size\"])),\n",
    "}\n",
    "model = PyTorchModel(\n",
    "    model_data,\n",
    "    role,\n",
    "    \"./mnist.py\",\n",
    "    py_version=\"py3\",\n",
    "    env=env,\n",
    "    sagemaker_session=sagemaker.Session(sagemaker_client=sm),\n",
    "    framework_version=\"1.1.0\",\n",
    "    name=best_trial_component.trial_component_name,\n",
    ")"
   ]
  },
  {
   "cell_type": "code",
   "execution_count": null,
   "metadata": {},
   "outputs": [],
   "source": [
    "model_package = model.register(\n",
    "    content_types=[\"*\"],\n",
    "    response_types=[\"application/json\"],\n",
    "    inference_instances=[\"ml.m5.xlarge\"],\n",
    "    transform_instances=[\"ml.m5.xlarge\"],\n",
    "    description=\"MNIST image classification model\",\n",
    "    approval_status=\"PendingManualApproval\",\n",
    "    model_package_group_name=model_package_group_name,\n",
    ")"
   ]
  },
  {
   "cell_type": "markdown",
   "metadata": {},
   "source": [
    "### Step 4: Verify model has been registered."
   ]
  },
  {
   "cell_type": "code",
   "execution_count": null,
   "metadata": {},
   "outputs": [],
   "source": [
    "sm.describe_model_package_group(ModelPackageGroupName=model_package_group_name)"
   ]
  },
  {
   "cell_type": "code",
   "execution_count": null,
   "metadata": {},
   "outputs": [],
   "source": [
    "## check model version\n",
    "sm.list_model_packages(ModelPackageGroupName=model_package_group_name)"
   ]
  },
  {
   "cell_type": "code",
   "execution_count": null,
   "metadata": {},
   "outputs": [],
   "source": [
    "model_package_arn = sm.list_model_packages(ModelPackageGroupName=model_package_group_name)[\n",
    "    \"ModelPackageSummaryList\"\n",
    "][0][\"ModelPackageArn\"]"
   ]
  },
  {
   "cell_type": "code",
   "execution_count": null,
   "metadata": {},
   "outputs": [],
   "source": [
    "### Update the model status to approved\n",
    "model_package_update_input_dict = {\n",
    "    \"ModelPackageArn\": model_package_arn,\n",
    "    \"ModelApprovalStatus\": \"Approved\",\n",
    "}\n",
    "model_package_update_response = sm.update_model_package(**model_package_update_input_dict)"
   ]
  },
  {
   "cell_type": "markdown",
   "metadata": {
    "papermill": {
     "duration": 0.46695,
     "end_time": "2022-04-18T00:55:03.317414",
     "exception": false,
     "start_time": "2022-04-18T00:55:02.850464",
     "status": "completed"
    },
    "tags": []
   },
   "source": [
    "## Deploy an endpoint for the lastest approved version of the model from model registry\n",
    "\n",
    "Now we take the best model and deploy it to an endpoint so it is available to perform inference."
   ]
  },
  {
   "cell_type": "code",
   "execution_count": null,
   "metadata": {},
   "outputs": [],
   "source": [
    "from datetime import datetime\n",
    "\n",
    "now = datetime.now()\n",
    "time = now.strftime(\"%m-%d-%Y-%H-%M-%S\")\n",
    "print(\"time:\", time)\n",
    "endpoint_name = f\"cnn-mnist-{time}\"\n",
    "endpoint_name"
   ]
  },
  {
   "cell_type": "code",
   "execution_count": null,
   "metadata": {},
   "outputs": [],
   "source": [
    "model_package.deploy(\n",
    "    initial_instance_count=1, instance_type=\"ml.m5.xlarge\", endpoint_name=endpoint_name\n",
    ")"
   ]
  },
  {
   "cell_type": "markdown",
   "metadata": {
    "papermill": {
     "duration": 0.421451,
     "end_time": "2022-04-18T00:57:06.742170",
     "exception": false,
     "start_time": "2022-04-18T00:57:06.320719",
     "status": "completed"
    },
    "tags": []
   },
   "source": [
    "## Cleanup\n",
    "\n",
    "Once we're done, clean up the endpoint to prevent unnecessary billing."
   ]
  },
  {
   "cell_type": "code",
   "execution_count": null,
   "metadata": {
    "execution": {
     "iopub.execute_input": "2022-04-18T00:57:07.570445Z",
     "iopub.status.busy": "2022-04-18T00:57:07.569847Z",
     "iopub.status.idle": "2022-04-18T00:57:07.821433Z",
     "shell.execute_reply": "2022-04-18T00:57:07.821854Z"
    },
    "papermill": {
     "duration": 0.672295,
     "end_time": "2022-04-18T00:57:07.822030",
     "exception": false,
     "start_time": "2022-04-18T00:57:07.149735",
     "status": "completed"
    },
    "tags": []
   },
   "outputs": [],
   "source": [
    "sagemaker_client = boto3.client(\"sagemaker\", region_name=region)\n",
    "# Delete endpoint\n",
    "sagemaker_client.delete_endpoint(EndpointName=endpoint_name)"
   ]
  },
  {
   "cell_type": "code",
   "execution_count": null,
   "metadata": {},
   "outputs": [],
   "source": [
    "sagemaker_client.delete_endpoint_config(EndpointConfigName=endpoint_name)"
   ]
  },
  {
   "cell_type": "markdown",
   "metadata": {
    "papermill": {
     "duration": 0.409404,
     "end_time": "2022-04-18T00:57:08.629472",
     "exception": false,
     "start_time": "2022-04-18T00:57:08.220068",
     "status": "completed"
    },
    "tags": []
   },
   "source": [
    "Trial components can exist independently of trials and experiments. You might want keep them if you plan on further exploration. If not, delete all experiment artifacts."
   ]
  },
  {
   "cell_type": "code",
   "execution_count": null,
   "metadata": {
    "execution": {
     "iopub.execute_input": "2022-04-18T00:57:09.463759Z",
     "iopub.status.busy": "2022-04-18T00:57:09.463185Z",
     "iopub.status.idle": "2022-04-18T00:57:36.442713Z",
     "shell.execute_reply": "2022-04-18T00:57:36.442286Z"
    },
    "papermill": {
     "duration": 27.406126,
     "end_time": "2022-04-18T00:57:36.442825",
     "exception": false,
     "start_time": "2022-04-18T00:57:09.036699",
     "status": "completed"
    },
    "tags": []
   },
   "outputs": [],
   "source": [
    "mnist_experiment.delete_all(action=\"--force\")"
   ]
  },
  {
   "cell_type": "markdown",
   "metadata": {
    "papermill": {
     "duration": 0.422378,
     "end_time": "2022-04-18T00:57:37.349802",
     "exception": false,
     "start_time": "2022-04-18T00:57:36.927424",
     "status": "completed"
    },
    "tags": []
   },
   "source": [
    "## Contact\n",
    "Submit any questions or issues to https://github.com/aws/sagemaker-experiments/issues or mention @aws/sagemakerexperimentsadmin "
   ]
  }
 ],
 "metadata": {
  "instance_type": "ml.t3.medium",
  "kernelspec": {
   "display_name": "Python 3 (Data Science)",
   "language": "python",
   "name": "python3__SAGEMAKER_INTERNAL__arn:aws:sagemaker:us-west-2:236514542706:image/datascience-1.0"
  },
  "language_info": {
   "codemirror_mode": {
    "name": "ipython",
    "version": 3
   },
   "file_extension": ".py",
   "mimetype": "text/x-python",
   "name": "python",
   "nbconvert_exporter": "python",
   "pygments_lexer": "ipython3",
   "version": "3.7.10"
  },
  "papermill": {
   "default_parameters": {},
   "duration": 1822.995915,
   "end_time": "2022-04-18T00:57:38.382694",
   "environment_variables": {},
   "exception": null,
   "input_path": "mnist-handwritten-digits-classification-experiment.ipynb",
   "output_path": "/opt/ml/processing/output/mnist-handwritten-digits-classification-experiment-2022-04-18-00-12-36.ipynb",
   "parameters": {
    "kms_key": "arn:aws:kms:us-west-2:000000000000:1234abcd-12ab-34cd-56ef-1234567890ab"
   },
   "start_time": "2022-04-18T00:27:15.386779",
   "version": "2.3.4"
  }
 },
 "nbformat": 4,
 "nbformat_minor": 5
}