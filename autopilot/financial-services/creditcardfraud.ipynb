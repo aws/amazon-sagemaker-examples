{
 "cells": [
  {
   "cell_type": "markdown",
   "metadata": {},
   "source": [
    "## Introduction\n",
    "\n",
    "Amazon SageMaker Autopilot is an automated machine learning (commonly referred to as AutoML) solution for tabular datasets. You can use SageMaker Autopilot in different ways: on autopilot (hence the name) or with human guidance, without code through SageMaker Studio, or using the AWS SDKs. This notebook will use the AWS SDKs to simply create and deploy a machine learning model.\n",
    "\n",
    "In this notebook we will work through an example of credit card fraud detection using SageMaker AutoPilot.\n",
    "\n",
    "\n",
    "## Setup\n",
    "\n",
    "This notebook was created and tested on an ml.m4.xlarge notebook instance. Also ensure that this notebook uses the older version(older than 2.0.0) of the SageMaker SDK. Below we have code to check this so you don't have to.\n",
    "\n",
    "Let's start by specifying:\n",
    "\n",
    "- The S3 bucket and prefix that you want to use for training and model data.  This should be within the same region as the Notebook Instance, training, and hosting.\n",
    "- The IAM role arn used to give training and hosting access to your data. See the documentation for how to create these.  Note, if more than one role is required for notebook instances, training, and/or hosting, please replace the boto regex with a the appropriate full IAM role arn string(s)."
   ]
  },
  {
   "cell_type": "raw",
   "metadata": {},
   "source": [
    "## Check SageMaker Version\n",
    "\n",
    "First lets check the SageMaker version. If it is the latest SDK Version, install the older version(example 1.72.1) and restart the kernel. This is done to make sure we do not have any breaking change."
   ]
  },
  {
   "cell_type": "code",
   "execution_count": 61,
   "metadata": {},
   "outputs": [
    {
     "name": "stdout",
     "output_type": "stream",
     "text": [
      "Collecting pip\n",
      "  Downloading pip-20.3-py2.py3-none-any.whl (1.5 MB)\n",
      "\u001b[K     |████████████████████████████████| 1.5 MB 12.9 MB/s eta 0:00:01\n",
      "\u001b[?25hInstalling collected packages: pip\n",
      "  Attempting uninstall: pip\n",
      "    Found existing installation: pip 20.2.4\n",
      "    Uninstalling pip-20.2.4:\n",
      "      Successfully uninstalled pip-20.2.4\n",
      "Successfully installed pip-20.3\n",
      "1.72.1\n",
      "Version is good\n",
      "Requirement already satisfied: s3fs in /home/ec2-user/anaconda3/envs/python3/lib/python3.6/site-packages (0.5.1)\n",
      "Requirement already satisfied: aiobotocore>=1.0.1 in /home/ec2-user/anaconda3/envs/python3/lib/python3.6/site-packages (from s3fs) (1.1.2)\n",
      "Requirement already satisfied: fsspec>=0.8.0 in /home/ec2-user/anaconda3/envs/python3/lib/python3.6/site-packages (from s3fs) (0.8.3)\n",
      "Requirement already satisfied: aioitertools>=0.5.1 in /home/ec2-user/anaconda3/envs/python3/lib/python3.6/site-packages (from aiobotocore>=1.0.1->s3fs) (0.7.0)\n",
      "Requirement already satisfied: wrapt>=1.10.10 in /home/ec2-user/anaconda3/envs/python3/lib/python3.6/site-packages (from aiobotocore>=1.0.1->s3fs) (1.11.2)\n",
      "Requirement already satisfied: aiohttp>=3.3.1 in /home/ec2-user/anaconda3/envs/python3/lib/python3.6/site-packages (from aiobotocore>=1.0.1->s3fs) (3.6.2)\n",
      "Requirement already satisfied: multidict<5.0,>=4.5 in /home/ec2-user/anaconda3/envs/python3/lib/python3.6/site-packages (from aiohttp>=3.3.1->aiobotocore>=1.0.1->s3fs) (4.7.6)\n",
      "Requirement already satisfied: typing-extensions>=3.6.5 in /home/ec2-user/anaconda3/envs/python3/lib/python3.6/site-packages (from aiohttp>=3.3.1->aiobotocore>=1.0.1->s3fs) (3.7.4.3)\n",
      "Requirement already satisfied: yarl<2.0,>=1.0 in /home/ec2-user/anaconda3/envs/python3/lib/python3.6/site-packages (from aiohttp>=3.3.1->aiobotocore>=1.0.1->s3fs) (1.6.0)\n",
      "Requirement already satisfied: chardet<4.0,>=2.0 in /home/ec2-user/anaconda3/envs/python3/lib/python3.6/site-packages (from aiohttp>=3.3.1->aiobotocore>=1.0.1->s3fs) (3.0.4)\n",
      "Requirement already satisfied: idna-ssl>=1.0 in /home/ec2-user/anaconda3/envs/python3/lib/python3.6/site-packages (from aiohttp>=3.3.1->aiobotocore>=1.0.1->s3fs) (1.1.0)\n",
      "Requirement already satisfied: async-timeout<4.0,>=3.0 in /home/ec2-user/anaconda3/envs/python3/lib/python3.6/site-packages (from aiohttp>=3.3.1->aiobotocore>=1.0.1->s3fs) (3.0.1)\n",
      "Requirement already satisfied: attrs>=17.3.0 in /home/ec2-user/anaconda3/envs/python3/lib/python3.6/site-packages (from aiohttp>=3.3.1->aiobotocore>=1.0.1->s3fs) (19.3.0)\n",
      "Requirement already satisfied: typing-extensions>=3.6.5 in /home/ec2-user/anaconda3/envs/python3/lib/python3.6/site-packages (from aiohttp>=3.3.1->aiobotocore>=1.0.1->s3fs) (3.7.4.3)\n",
      "Collecting botocore<1.17.45,>=1.17.44\n",
      "  Using cached botocore-1.17.44-py2.py3-none-any.whl (6.5 MB)\n",
      "Requirement already satisfied: python-dateutil<3.0.0,>=2.1 in /home/ec2-user/anaconda3/envs/python3/lib/python3.6/site-packages (from botocore<1.17.45,>=1.17.44->aiobotocore>=1.0.1->s3fs) (2.8.1)\n",
      "Requirement already satisfied: urllib3<1.26,>=1.20 in /home/ec2-user/anaconda3/envs/python3/lib/python3.6/site-packages (from botocore<1.17.45,>=1.17.44->aiobotocore>=1.0.1->s3fs) (1.25.8)\n",
      "Requirement already satisfied: jmespath<1.0.0,>=0.7.1 in /home/ec2-user/anaconda3/envs/python3/lib/python3.6/site-packages (from botocore<1.17.45,>=1.17.44->aiobotocore>=1.0.1->s3fs) (0.10.0)\n",
      "Requirement already satisfied: docutils<0.16,>=0.10 in /home/ec2-user/anaconda3/envs/python3/lib/python3.6/site-packages (from botocore<1.17.45,>=1.17.44->aiobotocore>=1.0.1->s3fs) (0.15.2)\n",
      "Requirement already satisfied: idna>=2.0 in /home/ec2-user/anaconda3/envs/python3/lib/python3.6/site-packages (from idna-ssl>=1.0->aiohttp>=3.3.1->aiobotocore>=1.0.1->s3fs) (2.8)\n",
      "Requirement already satisfied: six>=1.5 in /home/ec2-user/anaconda3/envs/python3/lib/python3.6/site-packages (from python-dateutil<3.0.0,>=2.1->botocore<1.17.45,>=1.17.44->aiobotocore>=1.0.1->s3fs) (1.14.0)\n",
      "Requirement already satisfied: multidict<5.0,>=4.5 in /home/ec2-user/anaconda3/envs/python3/lib/python3.6/site-packages (from aiohttp>=3.3.1->aiobotocore>=1.0.1->s3fs) (4.7.6)\n",
      "Requirement already satisfied: idna>=2.0 in /home/ec2-user/anaconda3/envs/python3/lib/python3.6/site-packages (from idna-ssl>=1.0->aiohttp>=3.3.1->aiobotocore>=1.0.1->s3fs) (2.8)\n",
      "Requirement already satisfied: typing-extensions>=3.6.5 in /home/ec2-user/anaconda3/envs/python3/lib/python3.6/site-packages (from aiohttp>=3.3.1->aiobotocore>=1.0.1->s3fs) (3.7.4.3)\n",
      "Installing collected packages: botocore\n",
      "  Attempting uninstall: botocore\n",
      "    Found existing installation: botocore 1.18.18\n",
      "    Uninstalling botocore-1.18.18:\n",
      "      Successfully uninstalled botocore-1.18.18\n",
      "\u001b[31mERROR: pip's dependency resolver does not currently take into account all the packages that are installed. This behaviour is the source of the following dependency conflicts.\n",
      "boto3 1.15.8 requires botocore<1.19.0,>=1.18.8, but you have botocore 1.17.44 which is incompatible.\n",
      "awscli 1.18.149 requires botocore==1.18.8, but you have botocore 1.17.44 which is incompatible.\u001b[0m\n",
      "Successfully installed botocore-1.17.44\n",
      "Requirement already satisfied: arff in /home/ec2-user/anaconda3/envs/python3/lib/python3.6/site-packages (0.9)\n",
      "Requirement already satisfied: kaggle in /home/ec2-user/anaconda3/envs/python3/lib/python3.6/site-packages (1.5.9)\n",
      "Requirement already satisfied: slugify in /home/ec2-user/anaconda3/envs/python3/lib/python3.6/site-packages (from kaggle) (0.0.1)\n",
      "Requirement already satisfied: six>=1.10 in /home/ec2-user/anaconda3/envs/python3/lib/python3.6/site-packages (from kaggle) (1.14.0)\n",
      "Requirement already satisfied: certifi in /home/ec2-user/anaconda3/envs/python3/lib/python3.6/site-packages (from kaggle) (2020.6.20)\n",
      "Requirement already satisfied: python-dateutil in /home/ec2-user/anaconda3/envs/python3/lib/python3.6/site-packages (from kaggle) (2.8.1)\n",
      "Requirement already satisfied: tqdm in /home/ec2-user/anaconda3/envs/python3/lib/python3.6/site-packages (from kaggle) (4.42.1)\n",
      "Requirement already satisfied: requests in /home/ec2-user/anaconda3/envs/python3/lib/python3.6/site-packages (from kaggle) (2.22.0)\n",
      "Requirement already satisfied: urllib3 in /home/ec2-user/anaconda3/envs/python3/lib/python3.6/site-packages (from kaggle) (1.25.8)\n",
      "Requirement already satisfied: python-slugify in /home/ec2-user/anaconda3/envs/python3/lib/python3.6/site-packages (from kaggle) (4.0.1)\n",
      "Requirement already satisfied: six>=1.10 in /home/ec2-user/anaconda3/envs/python3/lib/python3.6/site-packages (from kaggle) (1.14.0)\n",
      "Requirement already satisfied: text-unidecode>=1.3 in /home/ec2-user/anaconda3/envs/python3/lib/python3.6/site-packages (from python-slugify->kaggle) (1.3)\n",
      "Requirement already satisfied: certifi in /home/ec2-user/anaconda3/envs/python3/lib/python3.6/site-packages (from kaggle) (2020.6.20)\n",
      "Requirement already satisfied: urllib3 in /home/ec2-user/anaconda3/envs/python3/lib/python3.6/site-packages (from kaggle) (1.25.8)\n",
      "Requirement already satisfied: idna<2.9,>=2.5 in /home/ec2-user/anaconda3/envs/python3/lib/python3.6/site-packages (from requests->kaggle) (2.8)\n",
      "Requirement already satisfied: chardet<3.1.0,>=3.0.2 in /home/ec2-user/anaconda3/envs/python3/lib/python3.6/site-packages (from requests->kaggle) (3.0.4)\n"
     ]
    }
   ],
   "source": [
    "import sys\n",
    "import sagemaker\n",
    "import time\n",
    "! pip install --upgrade pip \n",
    "if int(sagemaker.__version__.split('.')[0]) == 2:\n",
    "    !{sys.executable} -m pip install \"sagemaker>=1.71.0,<2.0.0\"\n",
    "    print(\"Installing previous SageMaker Version. Please restart the kernel\")\n",
    "else:\n",
    "    print (sagemaker.__version__)\n",
    "    print(\"Version is good\")\n",
    "#install s3fs - this package is used by pandas to read file from s3\n",
    "!pip install --upgrade s3fs\n",
    "#install arff package, this package is used to read the bankruptcy data which is in ARFF format\n",
    "!pip install --upgrade arff\n",
    "!pip install kaggle"
   ]
  },
  {
   "cell_type": "raw",
   "metadata": {},
   "source": [
    "### Import Libraries\n",
    "#### Please make sure to download kaggle.json file into the .kaggle directory. Please take a look here for further details https://www.kaggle.com/docs/api"
   ]
  },
  {
   "cell_type": "code",
   "execution_count": 62,
   "metadata": {},
   "outputs": [],
   "source": [
    "import boto3\n",
    "import json\n",
    "import io\n",
    "import pandas as pd\n",
    "import sagemaker\n",
    "from sklearn.model_selection import train_test_split\n",
    "from time import gmtime, strftime, sleep\n",
    "from sagemaker import get_execution_role\n",
    "from urllib.parse import urlparse\n",
    "from sagemaker.automl.automl import AutoML\n",
    "import botocore\n",
    "import time\n",
    "import matplotlib.pyplot as plt\n",
    "from sklearn.metrics import roc_curve, auc\n",
    "from sklearn.metrics import precision_recall_curve, plot_precision_recall_curve, f1_score, precision_score, recall_score\n",
    "import matplotlib.pyplot as plt\n",
    "import numpy as np\n",
    "import kaggle"
   ]
  },
  {
   "cell_type": "markdown",
   "metadata": {},
   "source": [
    "To run this notebook, you will need to donwload the Credit Card Fraud dataset from Kaggle first. \n",
    "\n",
    "We downloaded the fraud data set from Kaggle site(https://www.kaggle.com/mlg-ulb/creditcardfraud). Below cell will download credit card fraud dataset from Kaggle."
   ]
  },
  {
   "cell_type": "code",
   "execution_count": 69,
   "metadata": {},
   "outputs": [
    {
     "name": "stdout",
     "output_type": "stream",
     "text": [
      "Warning: Your Kaggle API key is readable by other users on this system! To fix this, you can run 'chmod 600 /home/ec2-user/.kaggle/kaggle.json'\n"
     ]
    }
   ],
   "source": [
    "!kaggle datasets download -d mlg-ulb/creditcardfraud -o -q\n",
    "!unzip -q creditcardfraud.zip "
   ]
  },
  {
   "cell_type": "markdown",
   "metadata": {},
   "source": [
    "First, let's take a quick look at the dataset."
   ]
  },
  {
   "cell_type": "code",
   "execution_count": 70,
   "metadata": {},
   "outputs": [],
   "source": [
    "fraud_df = pd.read_csv('creditcard.csv')"
   ]
  },
  {
   "cell_type": "code",
   "execution_count": 71,
   "metadata": {},
   "outputs": [
    {
     "data": {
      "text/html": [
       "<div>\n",
       "<style scoped>\n",
       "    .dataframe tbody tr th:only-of-type {\n",
       "        vertical-align: middle;\n",
       "    }\n",
       "\n",
       "    .dataframe tbody tr th {\n",
       "        vertical-align: top;\n",
       "    }\n",
       "\n",
       "    .dataframe thead th {\n",
       "        text-align: right;\n",
       "    }\n",
       "</style>\n",
       "<table border=\"1\" class=\"dataframe\">\n",
       "  <thead>\n",
       "    <tr style=\"text-align: right;\">\n",
       "      <th></th>\n",
       "      <th>Time</th>\n",
       "      <th>V1</th>\n",
       "      <th>V2</th>\n",
       "      <th>V3</th>\n",
       "      <th>V4</th>\n",
       "      <th>V5</th>\n",
       "      <th>V6</th>\n",
       "      <th>V7</th>\n",
       "      <th>V8</th>\n",
       "      <th>V9</th>\n",
       "      <th>...</th>\n",
       "      <th>V21</th>\n",
       "      <th>V22</th>\n",
       "      <th>V23</th>\n",
       "      <th>V24</th>\n",
       "      <th>V25</th>\n",
       "      <th>V26</th>\n",
       "      <th>V27</th>\n",
       "      <th>V28</th>\n",
       "      <th>Amount</th>\n",
       "      <th>Class</th>\n",
       "    </tr>\n",
       "  </thead>\n",
       "  <tbody>\n",
       "    <tr>\n",
       "      <th>0</th>\n",
       "      <td>0.0</td>\n",
       "      <td>-1.359807</td>\n",
       "      <td>-0.072781</td>\n",
       "      <td>2.536347</td>\n",
       "      <td>1.378155</td>\n",
       "      <td>-0.338321</td>\n",
       "      <td>0.462388</td>\n",
       "      <td>0.239599</td>\n",
       "      <td>0.098698</td>\n",
       "      <td>0.363787</td>\n",
       "      <td>...</td>\n",
       "      <td>-0.018307</td>\n",
       "      <td>0.277838</td>\n",
       "      <td>-0.110474</td>\n",
       "      <td>0.066928</td>\n",
       "      <td>0.128539</td>\n",
       "      <td>-0.189115</td>\n",
       "      <td>0.133558</td>\n",
       "      <td>-0.021053</td>\n",
       "      <td>149.62</td>\n",
       "      <td>0</td>\n",
       "    </tr>\n",
       "    <tr>\n",
       "      <th>1</th>\n",
       "      <td>0.0</td>\n",
       "      <td>1.191857</td>\n",
       "      <td>0.266151</td>\n",
       "      <td>0.166480</td>\n",
       "      <td>0.448154</td>\n",
       "      <td>0.060018</td>\n",
       "      <td>-0.082361</td>\n",
       "      <td>-0.078803</td>\n",
       "      <td>0.085102</td>\n",
       "      <td>-0.255425</td>\n",
       "      <td>...</td>\n",
       "      <td>-0.225775</td>\n",
       "      <td>-0.638672</td>\n",
       "      <td>0.101288</td>\n",
       "      <td>-0.339846</td>\n",
       "      <td>0.167170</td>\n",
       "      <td>0.125895</td>\n",
       "      <td>-0.008983</td>\n",
       "      <td>0.014724</td>\n",
       "      <td>2.69</td>\n",
       "      <td>0</td>\n",
       "    </tr>\n",
       "    <tr>\n",
       "      <th>2</th>\n",
       "      <td>1.0</td>\n",
       "      <td>-1.358354</td>\n",
       "      <td>-1.340163</td>\n",
       "      <td>1.773209</td>\n",
       "      <td>0.379780</td>\n",
       "      <td>-0.503198</td>\n",
       "      <td>1.800499</td>\n",
       "      <td>0.791461</td>\n",
       "      <td>0.247676</td>\n",
       "      <td>-1.514654</td>\n",
       "      <td>...</td>\n",
       "      <td>0.247998</td>\n",
       "      <td>0.771679</td>\n",
       "      <td>0.909412</td>\n",
       "      <td>-0.689281</td>\n",
       "      <td>-0.327642</td>\n",
       "      <td>-0.139097</td>\n",
       "      <td>-0.055353</td>\n",
       "      <td>-0.059752</td>\n",
       "      <td>378.66</td>\n",
       "      <td>0</td>\n",
       "    </tr>\n",
       "    <tr>\n",
       "      <th>3</th>\n",
       "      <td>1.0</td>\n",
       "      <td>-0.966272</td>\n",
       "      <td>-0.185226</td>\n",
       "      <td>1.792993</td>\n",
       "      <td>-0.863291</td>\n",
       "      <td>-0.010309</td>\n",
       "      <td>1.247203</td>\n",
       "      <td>0.237609</td>\n",
       "      <td>0.377436</td>\n",
       "      <td>-1.387024</td>\n",
       "      <td>...</td>\n",
       "      <td>-0.108300</td>\n",
       "      <td>0.005274</td>\n",
       "      <td>-0.190321</td>\n",
       "      <td>-1.175575</td>\n",
       "      <td>0.647376</td>\n",
       "      <td>-0.221929</td>\n",
       "      <td>0.062723</td>\n",
       "      <td>0.061458</td>\n",
       "      <td>123.50</td>\n",
       "      <td>0</td>\n",
       "    </tr>\n",
       "    <tr>\n",
       "      <th>4</th>\n",
       "      <td>2.0</td>\n",
       "      <td>-1.158233</td>\n",
       "      <td>0.877737</td>\n",
       "      <td>1.548718</td>\n",
       "      <td>0.403034</td>\n",
       "      <td>-0.407193</td>\n",
       "      <td>0.095921</td>\n",
       "      <td>0.592941</td>\n",
       "      <td>-0.270533</td>\n",
       "      <td>0.817739</td>\n",
       "      <td>...</td>\n",
       "      <td>-0.009431</td>\n",
       "      <td>0.798278</td>\n",
       "      <td>-0.137458</td>\n",
       "      <td>0.141267</td>\n",
       "      <td>-0.206010</td>\n",
       "      <td>0.502292</td>\n",
       "      <td>0.219422</td>\n",
       "      <td>0.215153</td>\n",
       "      <td>69.99</td>\n",
       "      <td>0</td>\n",
       "    </tr>\n",
       "  </tbody>\n",
       "</table>\n",
       "<p>5 rows × 31 columns</p>\n",
       "</div>"
      ],
      "text/plain": [
       "   Time        V1        V2        V3        V4        V5        V6        V7  \\\n",
       "0   0.0 -1.359807 -0.072781  2.536347  1.378155 -0.338321  0.462388  0.239599   \n",
       "1   0.0  1.191857  0.266151  0.166480  0.448154  0.060018 -0.082361 -0.078803   \n",
       "2   1.0 -1.358354 -1.340163  1.773209  0.379780 -0.503198  1.800499  0.791461   \n",
       "3   1.0 -0.966272 -0.185226  1.792993 -0.863291 -0.010309  1.247203  0.237609   \n",
       "4   2.0 -1.158233  0.877737  1.548718  0.403034 -0.407193  0.095921  0.592941   \n",
       "\n",
       "         V8        V9  ...       V21       V22       V23       V24       V25  \\\n",
       "0  0.098698  0.363787  ... -0.018307  0.277838 -0.110474  0.066928  0.128539   \n",
       "1  0.085102 -0.255425  ... -0.225775 -0.638672  0.101288 -0.339846  0.167170   \n",
       "2  0.247676 -1.514654  ...  0.247998  0.771679  0.909412 -0.689281 -0.327642   \n",
       "3  0.377436 -1.387024  ... -0.108300  0.005274 -0.190321 -1.175575  0.647376   \n",
       "4 -0.270533  0.817739  ... -0.009431  0.798278 -0.137458  0.141267 -0.206010   \n",
       "\n",
       "        V26       V27       V28  Amount  Class  \n",
       "0 -0.189115  0.133558 -0.021053  149.62      0  \n",
       "1  0.125895 -0.008983  0.014724    2.69      0  \n",
       "2 -0.139097 -0.055353 -0.059752  378.66      0  \n",
       "3 -0.221929  0.062723  0.061458  123.50      0  \n",
       "4  0.502292  0.219422  0.215153   69.99      0  \n",
       "\n",
       "[5 rows x 31 columns]"
      ]
     },
     "execution_count": 71,
     "metadata": {},
     "output_type": "execute_result"
    }
   ],
   "source": [
    "fraud_df.head(5)"
   ]
  },
  {
   "cell_type": "markdown",
   "metadata": {},
   "source": [
    "Here, class 0 = No Fraud, class 1  = Fraud. As we can see, other than Amount, other columns are anonymized. "
   ]
  },
  {
   "cell_type": "markdown",
   "metadata": {},
   "source": [
    "\n",
    "Now, we select all attributes except “*Class*'” as predictor/training feature into X and “Class” as target attribute y.\n",
    "\n",
    "We also need to split data into train data set and test data set. We will keep **70%** of the data as training and **30%** of the data as test. We are going to use Scikit Learn utility train_test_split for this."
   ]
  },
  {
   "cell_type": "code",
   "execution_count": 72,
   "metadata": {},
   "outputs": [
    {
     "name": "stdout",
     "output_type": "stream",
     "text": [
      "0    284315\n",
      "1       492\n",
      "Name: Class, dtype: int64\n"
     ]
    }
   ],
   "source": [
    "target_variable = 'Class'\n",
    "print (fraud_df[target_variable].value_counts())\n",
    "train, test = train_test_split(fraud_df, test_size=.3, random_state=100)"
   ]
  },
  {
   "cell_type": "markdown",
   "metadata": {},
   "source": [
    "**Please note that the binary label column *Class* is highly imbalanced, a typical occurrence in financial use cases.**  \n",
    "We will verify how well Autopilot handle this highly imbalanced data set."
   ]
  },
  {
   "cell_type": "markdown",
   "metadata": {},
   "source": [
    "### Now, we will configure Sagemaker AutoPilot. \n",
    "We give a job name **automl-creditcard-fraud**, create a session with Sagemaker client. We need to have a **s3** bucket to store train/test data and all other artifacts Autopilot will produce. We are using default **s3** bucket, you can create your own bucket. Training and Test data is used from the \n",
    "previous steps and uploaded to **s3** bucket under \"train\" and \"test\" respectively. training_data['Class'] has the target (credit card fraud 0/1). **S3Uri** field in input_data_config points Autopilot to the training data location. **TargetAttributeName** indicates target variable for the training job. "
   ]
  },
  {
   "cell_type": "code",
   "execution_count": 73,
   "metadata": {},
   "outputs": [
    {
     "name": "stdout",
     "output_type": "stream",
     "text": [
      "Train data uploaded to: s3://sagemaker-us-east-1-245779447069/sagemaker/automl-creditcard-fraud/train/train_data.csv\n",
      "Test data uploaded to: s3://sagemaker-us-east-1-245779447069/sagemaker/automl-creditcard-fraud/test/test_data.csv\n"
     ]
    }
   ],
   "source": [
    "auto_ml_job_name = 'automl-creditcard-fraud'\n",
    "sm = boto3.client('sagemaker')\n",
    "session = sagemaker.Session()\n",
    "\n",
    "prefix = 'sagemaker/' + auto_ml_job_name\n",
    "bucket = session.default_bucket()\n",
    "training_data = train\n",
    "X_test = test.drop(columns = [target_variable])\n",
    "y_test = test[target_variable]\n",
    "test_data = X_test\n",
    "\n",
    "train_file = 'train_data.csv';\n",
    "training_data.to_csv(train_file, index=False, header=True)\n",
    "train_data_s3_path = session.upload_data(path=train_file, key_prefix=prefix + \"/train\")\n",
    "print('Train data uploaded to: ' + train_data_s3_path)\n",
    "\n",
    "test_file = 'test_data.csv';\n",
    "test_data.to_csv(test_file, index=False, header=False)\n",
    "test_data_s3_path = session.upload_data(path=test_file, key_prefix=prefix + \"/test\")\n",
    "print('Test data uploaded to: ' + test_data_s3_path)\n",
    "input_data_config = [{\n",
    "      'DataSource': {\n",
    "        'S3DataSource': {\n",
    "          'S3DataType': 'S3Prefix',\n",
    "          'S3Uri': 's3://{}/{}/train'.format(bucket,prefix)\n",
    "        }\n",
    "      },\n",
    "      'TargetAttributeName': target_variable\n",
    "    }\n",
    "  ]"
   ]
  },
  {
   "cell_type": "markdown",
   "metadata": {},
   "source": [
    "Now, we need to create the Autopilot job.We set the maximum candidate models (attribute max_candidates ) with different parameters to 200. We also set ProblemType='BinaryClassification'.Please note you do not need to set ProblemType and MetricName.If you do not set these 2 field, Autopilot will automatically determine the type of supervised learning problem by analyzing the data(for binary classification problem - default metric is F1). If you do not set this field, Autopilot will automatically determine the type of supervised learning problem by analyzing the data. We set MetricName(parameter job_objective) to AUC/F1(eval_obj). You can find out all options for the job configuration here (https://docs.aws.amazon.com/cli/latest/reference/sagemaker/create-auto-ml-job.html).\n",
    "\n",
    "Note that depending on the number of candidates you run (here we set it to 200), this may take a couple hours to run both F1 and AUC scores."
   ]
  },
  {
   "cell_type": "code",
   "execution_count": 86,
   "metadata": {},
   "outputs": [],
   "source": [
    "def create_automl_object(eval_obj,base_job_name):\n",
    "    \n",
    "    target_attribute_name = target_variable\n",
    "    role = get_execution_role()\n",
    "    automl = AutoML(role=role,\n",
    "                    target_attribute_name=target_attribute_name,\n",
    "                    base_job_name=base_job_name,\n",
    "                    sagemaker_session=session,\n",
    "                    problem_type='BinaryClassification',\n",
    "                    job_objective={'MetricName': eval_obj},\n",
    "                    max_candidates=200) # Including a max candidates will let you limit the number of AutoPilot jobs to run\n",
    "    return automl"
   ]
  },
  {
   "cell_type": "markdown",
   "metadata": {},
   "source": [
    "After the AutoML object is created, we call the fit() function to train the AutoML object."
   ]
  },
  {
   "cell_type": "code",
   "execution_count": 75,
   "metadata": {},
   "outputs": [],
   "source": [
    "def automl_fit(automl,base_job_name):\n",
    "    automl.fit(train_file, job_name=base_job_name, wait=False, logs=False)"
   ]
  },
  {
   "cell_type": "raw",
   "metadata": {},
   "source": [
    "We check the status of the Autopilot Job for every 30 seconds."
   ]
  },
  {
   "cell_type": "code",
   "execution_count": 76,
   "metadata": {},
   "outputs": [],
   "source": [
    "def check_status(automl):\n",
    "    describe_response = automl.describe_auto_ml_job()\n",
    "    print (describe_response)\n",
    "    job_run_status = describe_response['AutoMLJobStatus']\n",
    "\n",
    "    while job_run_status not in ('Failed', 'Completed', 'Stopped'):\n",
    "        describe_response = automl.describe_auto_ml_job()\n",
    "        job_run_status = describe_response['AutoMLJobStatus']\n",
    "        print (job_run_status)\n",
    "        sleep(30)\n",
    "    print ('completed')"
   ]
  },
  {
   "cell_type": "raw",
   "metadata": {},
   "source": [
    "After the job is complete, we select the best candidate job and check the AUC or F1 (based on the MetricName in the create_automl_object() function )"
   ]
  },
  {
   "cell_type": "code",
   "execution_count": 77,
   "metadata": {},
   "outputs": [],
   "source": [
    "def get_best_candidate(automl):\n",
    "    best_candidate = automl.describe_auto_ml_job()['BestCandidate']\n",
    "    best_candidate_name = best_candidate['CandidateName']\n",
    "    print(best_candidate)\n",
    "    print('\\n')\n",
    "    print(\"CandidateName: \" + best_candidate_name)\n",
    "    print(\"FinalAutoMLJobObjectiveMetricName: \" + best_candidate['FinalAutoMLJobObjectiveMetric']['MetricName'])\n",
    "    print(\"FinalAutoMLJobObjectiveMetricValue: \" + str(best_candidate['FinalAutoMLJobObjectiveMetric']['Value']))\n",
    "    return best_candidate_name,best_candidate"
   ]
  },
  {
   "cell_type": "markdown",
   "metadata": {},
   "source": [
    "We now create a model from the **best candidate**. In addition to predicted label, we want **probability** of the prediction - this probability will be used later to plot AUC and Precision/Recall."
   ]
  },
  {
   "cell_type": "code",
   "execution_count": 78,
   "metadata": {},
   "outputs": [],
   "source": [
    "def create_model(automl,best_candidate_name,best_candidate,timestamp_suffix):\n",
    "    model_name = 'automl-cardfraud-model-' + timestamp_suffix\n",
    "    inference_response_keys = ['predicted_label', 'probability']\n",
    "    model = automl.create_model(name=best_candidate_name,\n",
    "                                candidate=best_candidate,inference_response_keys=inference_response_keys)\n",
    "    return model\n",
    "                                "
   ]
  },
  {
   "cell_type": "markdown",
   "metadata": {},
   "source": [
    "Once the model is created, we run a Transform job to get inference (i.e Prediction about the default) from the test data set and save to S3. It is worth noting that when you deploy the model as an endpoint or create a Transform job, SageMaker handles the deployment of the feature engineering pipeline and the ML algorithm, so end users can send the data in its raw format for inference."
   ]
  },
  {
   "cell_type": "code",
   "execution_count": 79,
   "metadata": {},
   "outputs": [],
   "source": [
    "def create_transformer(model,best_candidate,eval_obj):\n",
    "    s3_transform_output_path = 's3://{}/{}/inference-results/'.format(bucket, prefix);\n",
    "    output_path = s3_transform_output_path + best_candidate['CandidateName'] +'/'\n",
    "    transformer=model.transformer(instance_count=1, \n",
    "                              instance_type='ml.m5.xlarge',\n",
    "                              assemble_with='Line',\n",
    "                              output_path=output_path)\n",
    "    transformer.transform(data=test_data_s3_path, split_type='Line', content_type='text/csv', wait=False)\n",
    "    return transformer"
   ]
  },
  {
   "cell_type": "raw",
   "metadata": {},
   "source": [
    "This function will return predicted output as dataframe. This function will read the file from s3 (generated from create_transformer), create a Data Frame for label(predicted 0/1) and probability(probability of the prediction 0/1)"
   ]
  },
  {
   "cell_type": "code",
   "execution_count": 80,
   "metadata": {},
   "outputs": [],
   "source": [
    "def return_pred_df(transformer):\n",
    "    print ('***predict output path ***')\n",
    "    print (transformer.output_path, '{}.out'.format(test_file))\n",
    "    pred_csv = get_csv_from_s3(transformer.output_path,'{}.out'.format(test_file))\n",
    "    data=pd.read_csv(io.StringIO(pred_csv), header=None)\n",
    "    data.columns= ['label', 'proba']    \n",
    "    return data\n",
    "def get_csv_from_s3(s3uri, file_name):\n",
    "    parsed_url = urlparse(s3uri)\n",
    "    bucket_name = parsed_url.netloc\n",
    "    prefix = parsed_url.path[1:].strip('/')\n",
    "    s3 = boto3.resource('s3')\n",
    "    obj = None \n",
    "    loop = True\n",
    "    while (loop):\n",
    "        try:\n",
    "            obj = s3.Object(bucket_name, '{}/{}'.format(prefix, file_name))\n",
    "            pred_body  = obj.get()[\"Body\"].read().decode('utf-8')    \n",
    "            print ('predict file is avilable s3')    \n",
    "            loop = False\n",
    "        except botocore.exceptions.ClientError as e:\n",
    "            print('prediction file still not avilable in s3 sleeping for 2 minutes')\n",
    "            time.sleep(120)\n",
    "    return pred_body\n"
   ]
  },
  {
   "cell_type": "markdown",
   "metadata": {},
   "source": [
    "We can download Candidate Definition notebook from the following s3 location.\n",
    "We can download data exploration notebook to see details of AutoPilot data analysis. This report provides insights about the dataset you provided as input to the AutoML job."
   ]
  },
  {
   "cell_type": "code",
   "execution_count": 81,
   "metadata": {},
   "outputs": [],
   "source": [
    "def download_notebooks(automl,eval_obj):\n",
    "    print (\"download CandidateDefinitionNotebookLocation for \" + eval_obj)\n",
    "    print (automl.describe_auto_ml_job()['AutoMLJobArtifacts']['CandidateDefinitionNotebookLocation'])\n",
    "    print (\"download DataExplorationNotebookLocation for \" + eval_obj)\n",
    "    print (automl.describe_auto_ml_job()['AutoMLJobArtifacts']['DataExplorationNotebookLocation'])"
   ]
  },
  {
   "cell_type": "raw",
   "metadata": {},
   "source": [
    "We create a wrapper function run_automl_process for objective metrics AUC and F1. This wrapper function calls multiple functions to creare AutoML object, run training process, create model from best trained job and finally return predicted data"
   ]
  },
  {
   "cell_type": "code",
   "execution_count": 82,
   "metadata": {},
   "outputs": [],
   "source": [
    "def run_automl_process(eval_obj):\n",
    "    timestamp_suffix = strftime('%d-%H-%M-%S', gmtime())\n",
    "    base_job_name = 'automl-card-fraud-' + eval_obj + timestamp_suffix\n",
    "    print (base_job_name)\n",
    "    automl = create_automl_object(eval_obj,base_job_name)\n",
    "    automl_fit(automl,base_job_name)\n",
    "    check_status(automl)\n",
    "    best_candidate_name,best_candidate=get_best_candidate(automl)\n",
    "    model = create_model(automl,best_candidate_name,best_candidate,timestamp_suffix)\n",
    "    transformer=create_transformer(model,best_candidate,eval_obj)\n",
    "    pred_df = return_pred_df(transformer)\n",
    "    download_notebooks(automl,eval_obj)\n",
    "    return pred_df"
   ]
  },
  {
   "cell_type": "markdown",
   "metadata": {},
   "source": [
    "Now we are ready to run the Autopilot pilot job. We call the wrapper function run_automl_process with objective AUC and F1"
   ]
  },
  {
   "cell_type": "code",
   "execution_count": 87,
   "metadata": {},
   "outputs": [
    {
     "name": "stdout",
     "output_type": "stream",
     "text": [
      "*********running with eval objective AUC***********\n",
      "automl-card-fraud-AUC02-23-24-20\n"
     ]
    },
    {
     "name": "stderr",
     "output_type": "stream",
     "text": [
      "'s3_input' class will be renamed to 'TrainingInput' in SageMaker Python SDK v2.\n"
     ]
    },
    {
     "name": "stdout",
     "output_type": "stream",
     "text": [
      "{'AutoMLJobName': 'automl-card-fraud-AUC02-23-24-20', 'AutoMLJobArn': 'arn:aws:sagemaker:us-east-1:245779447069:automl-job/automl-card-fraud-auc02-23-24-20', 'InputDataConfig': [{'DataSource': {'S3DataSource': {'S3DataType': 'S3Prefix', 'S3Uri': 's3://sagemaker-us-east-1-245779447069/auto-ml-input-data/train_data.csv'}}, 'TargetAttributeName': 'Class'}], 'OutputDataConfig': {'S3OutputPath': 's3://sagemaker-us-east-1-245779447069/'}, 'RoleArn': 'arn:aws:iam::245779447069:role/service-role/AmazonSageMaker-ExecutionRole-20200330T163636', 'AutoMLJobObjective': {'MetricName': 'AUC'}, 'ProblemType': 'BinaryClassification', 'AutoMLJobConfig': {'CompletionCriteria': {'MaxCandidates': 100}, 'SecurityConfig': {'EnableInterContainerTrafficEncryption': False}}, 'CreationTime': datetime.datetime(2020, 12, 2, 23, 24, 21, 570000, tzinfo=tzlocal()), 'LastModifiedTime': datetime.datetime(2020, 12, 2, 23, 24, 21, 570000, tzinfo=tzlocal()), 'AutoMLJobStatus': 'InProgress', 'AutoMLJobSecondaryStatus': 'Starting', 'GenerateCandidateDefinitionsOnly': False, 'ResponseMetadata': {'RequestId': '10ae315a-4899-4a09-bcd6-8cac78d7f58d', 'HTTPStatusCode': 200, 'HTTPHeaders': {'x-amzn-requestid': '10ae315a-4899-4a09-bcd6-8cac78d7f58d', 'content-type': 'application/x-amz-json-1.1', 'content-length': '906', 'date': 'Wed, 02 Dec 2020 23:24:22 GMT'}, 'RetryAttempts': 0}}\n",
      "InProgress\n",
      "InProgress\n",
      "InProgress\n",
      "InProgress\n",
      "InProgress\n",
      "InProgress\n",
      "InProgress\n",
      "InProgress\n",
      "InProgress\n",
      "InProgress\n",
      "InProgress\n",
      "InProgress\n",
      "InProgress\n",
      "InProgress\n",
      "InProgress\n",
      "InProgress\n",
      "InProgress\n",
      "InProgress\n",
      "InProgress\n",
      "InProgress\n",
      "InProgress\n",
      "InProgress\n",
      "InProgress\n",
      "InProgress\n",
      "InProgress\n",
      "InProgress\n",
      "InProgress\n",
      "InProgress\n",
      "InProgress\n",
      "InProgress\n",
      "InProgress\n",
      "InProgress\n",
      "InProgress\n",
      "InProgress\n",
      "InProgress\n",
      "InProgress\n",
      "InProgress\n",
      "InProgress\n",
      "InProgress\n",
      "InProgress\n",
      "InProgress\n",
      "InProgress\n",
      "InProgress\n",
      "InProgress\n",
      "InProgress\n",
      "InProgress\n",
      "InProgress\n",
      "InProgress\n",
      "InProgress\n",
      "InProgress\n",
      "InProgress\n",
      "InProgress\n",
      "InProgress\n",
      "InProgress\n",
      "InProgress\n",
      "InProgress\n",
      "InProgress\n",
      "InProgress\n",
      "InProgress\n",
      "InProgress\n",
      "InProgress\n",
      "InProgress\n",
      "InProgress\n",
      "InProgress\n",
      "InProgress\n",
      "InProgress\n",
      "InProgress\n",
      "InProgress\n",
      "InProgress\n",
      "InProgress\n",
      "InProgress\n",
      "InProgress\n",
      "InProgress\n",
      "InProgress\n",
      "InProgress\n",
      "InProgress\n",
      "InProgress\n",
      "InProgress\n",
      "InProgress\n",
      "InProgress\n",
      "InProgress\n",
      "InProgress\n",
      "InProgress\n",
      "InProgress\n",
      "InProgress\n",
      "InProgress\n",
      "InProgress\n",
      "InProgress\n",
      "InProgress\n",
      "InProgress\n",
      "InProgress\n",
      "InProgress\n",
      "InProgress\n",
      "InProgress\n",
      "InProgress\n",
      "InProgress\n",
      "InProgress\n",
      "InProgress\n",
      "InProgress\n",
      "InProgress\n",
      "InProgress\n",
      "InProgress\n",
      "InProgress\n",
      "InProgress\n",
      "InProgress\n",
      "InProgress\n",
      "InProgress\n",
      "InProgress\n",
      "InProgress\n",
      "InProgress\n",
      "Completed\n"
     ]
    },
    {
     "name": "stderr",
     "output_type": "stream",
     "text": [
      "Parameter image will be renamed to image_uri in SageMaker Python SDK v2.\n",
      "Parameter image will be renamed to image_uri in SageMaker Python SDK v2.\n",
      "Parameter image will be renamed to image_uri in SageMaker Python SDK v2.\n"
     ]
    },
    {
     "name": "stdout",
     "output_type": "stream",
     "text": [
      "completed\n",
      "{'CandidateName': 'tuning-job-1-5dda68c52e924b0c80-080-95aab5e1', 'FinalAutoMLJobObjectiveMetric': {'MetricName': 'validation:auc', 'Value': 0.9828900098800659}, 'ObjectiveStatus': 'Succeeded', 'CandidateSteps': [{'CandidateStepType': 'AWS::SageMaker::ProcessingJob', 'CandidateStepArn': 'arn:aws:sagemaker:us-east-1:245779447069:processing-job/db-1-d8c4bcd892d34c5eb1f85f660233fe799384c1230d0a4707b8417df8a8', 'CandidateStepName': 'db-1-d8c4bcd892d34c5eb1f85f660233fe799384c1230d0a4707b8417df8a8'}, {'CandidateStepType': 'AWS::SageMaker::TrainingJob', 'CandidateStepArn': 'arn:aws:sagemaker:us-east-1:245779447069:training-job/automl-car-dpp5-1-a270026acb9d46fe8d63ec2adb5e9e39a67c8b31aff04', 'CandidateStepName': 'automl-car-dpp5-1-a270026acb9d46fe8d63ec2adb5e9e39a67c8b31aff04'}, {'CandidateStepType': 'AWS::SageMaker::TransformJob', 'CandidateStepArn': 'arn:aws:sagemaker:us-east-1:245779447069:transform-job/automl-car-dpp5-csv-1-abb41109dc804e73b3f003b1b10a682c1a1ab4f84', 'CandidateStepName': 'automl-car-dpp5-csv-1-abb41109dc804e73b3f003b1b10a682c1a1ab4f84'}, {'CandidateStepType': 'AWS::SageMaker::TrainingJob', 'CandidateStepArn': 'arn:aws:sagemaker:us-east-1:245779447069:training-job/tuning-job-1-5dda68c52e924b0c80-080-95aab5e1', 'CandidateStepName': 'tuning-job-1-5dda68c52e924b0c80-080-95aab5e1'}], 'CandidateStatus': 'Completed', 'InferenceContainers': [{'Image': '683313688378.dkr.ecr.us-east-1.amazonaws.com/sagemaker-sklearn-automl:0.2-1-cpu-py3', 'ModelDataUrl': 's3://sagemaker-us-east-1-245779447069/automl-card-fraud-AUC02-23-24-20/data-processor-models/automl-car-dpp5-1-a270026acb9d46fe8d63ec2adb5e9e39a67c8b31aff04/output/model.tar.gz', 'Environment': {'AUTOML_TRANSFORM_MODE': 'feature-transform', 'SAGEMAKER_DEFAULT_INVOCATIONS_ACCEPT': 'application/x-recordio-protobuf', 'SAGEMAKER_PROGRAM': 'sagemaker_serve', 'SAGEMAKER_SUBMIT_DIRECTORY': '/opt/ml/model/code'}}, {'Image': '683313688378.dkr.ecr.us-east-1.amazonaws.com/sagemaker-xgboost:1.0-1-cpu-py3', 'ModelDataUrl': 's3://sagemaker-us-east-1-245779447069/automl-card-fraud-AUC02-23-24-20/tuning/automl-car-dpp5-xgb/tuning-job-1-5dda68c52e924b0c80-080-95aab5e1/output/model.tar.gz', 'Environment': {'MAX_CONTENT_LENGTH': '20971520', 'SAGEMAKER_DEFAULT_INVOCATIONS_ACCEPT': 'text/csv', 'SAGEMAKER_INFERENCE_OUTPUT': 'predicted_label', 'SAGEMAKER_INFERENCE_SUPPORTED': 'predicted_label,probability,probabilities'}}, {'Image': '683313688378.dkr.ecr.us-east-1.amazonaws.com/sagemaker-sklearn-automl:0.2-1-cpu-py3', 'ModelDataUrl': 's3://sagemaker-us-east-1-245779447069/automl-card-fraud-AUC02-23-24-20/data-processor-models/automl-car-dpp5-1-a270026acb9d46fe8d63ec2adb5e9e39a67c8b31aff04/output/model.tar.gz', 'Environment': {'AUTOML_TRANSFORM_MODE': 'inverse-label-transform', 'SAGEMAKER_DEFAULT_INVOCATIONS_ACCEPT': 'text/csv', 'SAGEMAKER_INFERENCE_INPUT': 'predicted_label', 'SAGEMAKER_INFERENCE_OUTPUT': 'predicted_label', 'SAGEMAKER_INFERENCE_SUPPORTED': 'predicted_label,probability,labels,probabilities', 'SAGEMAKER_PROGRAM': 'sagemaker_serve', 'SAGEMAKER_SUBMIT_DIRECTORY': '/opt/ml/model/code'}}], 'CreationTime': datetime.datetime(2020, 12, 3, 0, 5, 12, tzinfo=tzlocal()), 'EndTime': datetime.datetime(2020, 12, 3, 0, 6, 47, tzinfo=tzlocal()), 'LastModifiedTime': datetime.datetime(2020, 12, 3, 0, 19, 9, 229000, tzinfo=tzlocal())}\n",
      "\n",
      "\n",
      "CandidateName: tuning-job-1-5dda68c52e924b0c80-080-95aab5e1\n",
      "FinalAutoMLJobObjectiveMetricName: validation:auc\n",
      "FinalAutoMLJobObjectiveMetricValue: 0.9828900098800659\n",
      "***predict output path ***\n",
      "s3://sagemaker-us-east-1-245779447069/sagemaker/automl-creditcard-fraud/inference-results/tuning-job-1-5dda68c52e924b0c80-080-95aab5e1/ test_data.csv.out\n",
      "prediction file still not avilable in s3 sleeping for 2 minutes\n",
      "prediction file still not avilable in s3 sleeping for 2 minutes\n",
      "prediction file still not avilable in s3 sleeping for 2 minutes\n",
      "predict file is avilable s3\n",
      "download CandidateDefinitionNotebookLocation for AUC\n",
      "s3://sagemaker-us-east-1-245779447069/automl-card-fraud-AUC02-23-24-20/sagemaker-automl-candidates/pr-1-0f877fbee0b74213961e64cb55976f370299352fcc204afc9121e15e84/notebooks/SageMakerAutopilotCandidateDefinitionNotebook.ipynb\n",
      "download DataExplorationNotebookLocation for AUC\n",
      "s3://sagemaker-us-east-1-245779447069/automl-card-fraud-AUC02-23-24-20/sagemaker-automl-candidates/pr-1-0f877fbee0b74213961e64cb55976f370299352fcc204afc9121e15e84/notebooks/SageMakerAutopilotDataExplorationNotebook.ipynb\n",
      "*********running with eval objective F1***********\n",
      "automl-card-fraud-F103-00-26-10\n"
     ]
    },
    {
     "name": "stderr",
     "output_type": "stream",
     "text": [
      "'s3_input' class will be renamed to 'TrainingInput' in SageMaker Python SDK v2.\n"
     ]
    },
    {
     "name": "stdout",
     "output_type": "stream",
     "text": [
      "{'AutoMLJobName': 'automl-card-fraud-F103-00-26-10', 'AutoMLJobArn': 'arn:aws:sagemaker:us-east-1:245779447069:automl-job/automl-card-fraud-f103-00-26-10', 'InputDataConfig': [{'DataSource': {'S3DataSource': {'S3DataType': 'S3Prefix', 'S3Uri': 's3://sagemaker-us-east-1-245779447069/auto-ml-input-data/train_data.csv'}}, 'TargetAttributeName': 'Class'}], 'OutputDataConfig': {'S3OutputPath': 's3://sagemaker-us-east-1-245779447069/'}, 'RoleArn': 'arn:aws:iam::245779447069:role/service-role/AmazonSageMaker-ExecutionRole-20200330T163636', 'AutoMLJobObjective': {'MetricName': 'F1'}, 'ProblemType': 'BinaryClassification', 'AutoMLJobConfig': {'CompletionCriteria': {'MaxCandidates': 100}, 'SecurityConfig': {'EnableInterContainerTrafficEncryption': False}}, 'CreationTime': datetime.datetime(2020, 12, 3, 0, 26, 12, 315000, tzinfo=tzlocal()), 'LastModifiedTime': datetime.datetime(2020, 12, 3, 0, 26, 15, 296000, tzinfo=tzlocal()), 'AutoMLJobStatus': 'InProgress', 'AutoMLJobSecondaryStatus': 'AnalyzingData', 'GenerateCandidateDefinitionsOnly': False, 'ResponseMetadata': {'RequestId': '7e9669cb-5798-42b0-8cc0-929a98cb295e', 'HTTPStatusCode': 200, 'HTTPHeaders': {'x-amzn-requestid': '7e9669cb-5798-42b0-8cc0-929a98cb295e', 'content-type': 'application/x-amz-json-1.1', 'content-length': '910', 'date': 'Thu, 03 Dec 2020 00:26:14 GMT'}, 'RetryAttempts': 0}}\n",
      "InProgress\n",
      "InProgress\n",
      "InProgress\n",
      "InProgress\n",
      "InProgress\n",
      "InProgress\n",
      "InProgress\n",
      "InProgress\n",
      "InProgress\n",
      "InProgress\n",
      "InProgress\n",
      "InProgress\n",
      "InProgress\n",
      "InProgress\n",
      "InProgress\n",
      "InProgress\n",
      "InProgress\n",
      "InProgress\n",
      "InProgress\n",
      "InProgress\n",
      "InProgress\n",
      "InProgress\n",
      "InProgress\n",
      "InProgress\n",
      "InProgress\n",
      "InProgress\n",
      "InProgress\n",
      "InProgress\n",
      "InProgress\n",
      "InProgress\n",
      "InProgress\n",
      "InProgress\n",
      "InProgress\n",
      "InProgress\n",
      "InProgress\n",
      "InProgress\n",
      "InProgress\n",
      "InProgress\n",
      "InProgress\n",
      "InProgress\n",
      "InProgress\n",
      "InProgress\n",
      "InProgress\n",
      "InProgress\n",
      "InProgress\n",
      "InProgress\n",
      "InProgress\n",
      "InProgress\n",
      "InProgress\n",
      "InProgress\n",
      "InProgress\n",
      "InProgress\n",
      "InProgress\n",
      "InProgress\n",
      "InProgress\n",
      "InProgress\n",
      "InProgress\n",
      "InProgress\n",
      "InProgress\n",
      "InProgress\n",
      "InProgress\n",
      "InProgress\n",
      "InProgress\n",
      "InProgress\n",
      "InProgress\n",
      "InProgress\n",
      "InProgress\n",
      "InProgress\n",
      "InProgress\n",
      "InProgress\n",
      "InProgress\n",
      "InProgress\n",
      "InProgress\n",
      "InProgress\n",
      "InProgress\n",
      "InProgress\n",
      "InProgress\n",
      "InProgress\n",
      "InProgress\n",
      "InProgress\n",
      "InProgress\n",
      "InProgress\n",
      "InProgress\n",
      "InProgress\n",
      "InProgress\n",
      "InProgress\n",
      "InProgress\n",
      "InProgress\n",
      "InProgress\n",
      "InProgress\n",
      "InProgress\n",
      "InProgress\n",
      "InProgress\n",
      "InProgress\n",
      "InProgress\n",
      "InProgress\n",
      "InProgress\n",
      "InProgress\n",
      "InProgress\n",
      "InProgress\n",
      "InProgress\n",
      "InProgress\n",
      "InProgress\n",
      "InProgress\n",
      "InProgress\n",
      "InProgress\n",
      "InProgress\n",
      "InProgress\n",
      "InProgress\n",
      "InProgress\n",
      "InProgress\n",
      "InProgress\n",
      "InProgress\n",
      "InProgress\n",
      "InProgress\n",
      "InProgress\n",
      "InProgress\n",
      "InProgress\n",
      "InProgress\n",
      "InProgress\n",
      "InProgress\n",
      "InProgress\n",
      "InProgress\n",
      "InProgress\n",
      "InProgress\n",
      "InProgress\n",
      "InProgress\n",
      "InProgress\n",
      "InProgress\n",
      "InProgress\n",
      "InProgress\n",
      "InProgress\n",
      "InProgress\n",
      "InProgress\n",
      "InProgress\n",
      "Completed\n"
     ]
    },
    {
     "name": "stderr",
     "output_type": "stream",
     "text": [
      "Parameter image will be renamed to image_uri in SageMaker Python SDK v2.\n",
      "Parameter image will be renamed to image_uri in SageMaker Python SDK v2.\n",
      "Parameter image will be renamed to image_uri in SageMaker Python SDK v2.\n"
     ]
    },
    {
     "name": "stdout",
     "output_type": "stream",
     "text": [
      "completed\n",
      "{'CandidateName': 'tuning-job-1-291fb65b80b9434eb7-016-a6e808cc', 'FinalAutoMLJobObjectiveMetric': {'MetricName': 'validation:f1', 'Value': 0.9365100264549255}, 'ObjectiveStatus': 'Succeeded', 'CandidateSteps': [{'CandidateStepType': 'AWS::SageMaker::ProcessingJob', 'CandidateStepArn': 'arn:aws:sagemaker:us-east-1:245779447069:processing-job/db-1-ea54cb9b1fab4dafba0dd99b2c7a2b511fe8b444c88b4c5899abe8785f', 'CandidateStepName': 'db-1-ea54cb9b1fab4dafba0dd99b2c7a2b511fe8b444c88b4c5899abe8785f'}, {'CandidateStepType': 'AWS::SageMaker::TrainingJob', 'CandidateStepArn': 'arn:aws:sagemaker:us-east-1:245779447069:training-job/automl-car-dpp5-1-40c039b935a44d6c97f75fd3b73cb1ccd706741ee4fb4', 'CandidateStepName': 'automl-car-dpp5-1-40c039b935a44d6c97f75fd3b73cb1ccd706741ee4fb4'}, {'CandidateStepType': 'AWS::SageMaker::TransformJob', 'CandidateStepArn': 'arn:aws:sagemaker:us-east-1:245779447069:transform-job/automl-car-dpp5-csv-1-2027b9ed4b804a0cbedf8a9e9228ba31d164a504e', 'CandidateStepName': 'automl-car-dpp5-csv-1-2027b9ed4b804a0cbedf8a9e9228ba31d164a504e'}, {'CandidateStepType': 'AWS::SageMaker::TrainingJob', 'CandidateStepArn': 'arn:aws:sagemaker:us-east-1:245779447069:training-job/tuning-job-1-291fb65b80b9434eb7-016-a6e808cc', 'CandidateStepName': 'tuning-job-1-291fb65b80b9434eb7-016-a6e808cc'}], 'CandidateStatus': 'Completed', 'InferenceContainers': [{'Image': '683313688378.dkr.ecr.us-east-1.amazonaws.com/sagemaker-sklearn-automl:0.2-1-cpu-py3', 'ModelDataUrl': 's3://sagemaker-us-east-1-245779447069/automl-card-fraud-F103-00-26-10/data-processor-models/automl-car-dpp5-1-40c039b935a44d6c97f75fd3b73cb1ccd706741ee4fb4/output/model.tar.gz', 'Environment': {'AUTOML_TRANSFORM_MODE': 'feature-transform', 'SAGEMAKER_DEFAULT_INVOCATIONS_ACCEPT': 'application/x-recordio-protobuf', 'SAGEMAKER_PROGRAM': 'sagemaker_serve', 'SAGEMAKER_SUBMIT_DIRECTORY': '/opt/ml/model/code'}}, {'Image': '683313688378.dkr.ecr.us-east-1.amazonaws.com/sagemaker-xgboost:1.0-1-cpu-py3', 'ModelDataUrl': 's3://sagemaker-us-east-1-245779447069/automl-card-fraud-F103-00-26-10/tuning/automl-car-dpp5-xgb/tuning-job-1-291fb65b80b9434eb7-016-a6e808cc/output/model.tar.gz', 'Environment': {'MAX_CONTENT_LENGTH': '20971520', 'SAGEMAKER_DEFAULT_INVOCATIONS_ACCEPT': 'text/csv', 'SAGEMAKER_INFERENCE_OUTPUT': 'predicted_label', 'SAGEMAKER_INFERENCE_SUPPORTED': 'predicted_label,probability,probabilities'}}, {'Image': '683313688378.dkr.ecr.us-east-1.amazonaws.com/sagemaker-sklearn-automl:0.2-1-cpu-py3', 'ModelDataUrl': 's3://sagemaker-us-east-1-245779447069/automl-card-fraud-F103-00-26-10/data-processor-models/automl-car-dpp5-1-40c039b935a44d6c97f75fd3b73cb1ccd706741ee4fb4/output/model.tar.gz', 'Environment': {'AUTOML_TRANSFORM_MODE': 'inverse-label-transform', 'SAGEMAKER_DEFAULT_INVOCATIONS_ACCEPT': 'text/csv', 'SAGEMAKER_INFERENCE_INPUT': 'predicted_label', 'SAGEMAKER_INFERENCE_OUTPUT': 'predicted_label', 'SAGEMAKER_INFERENCE_SUPPORTED': 'predicted_label,probability,labels,probabilities', 'SAGEMAKER_PROGRAM': 'sagemaker_serve', 'SAGEMAKER_SUBMIT_DIRECTORY': '/opt/ml/model/code'}}], 'CreationTime': datetime.datetime(2020, 12, 3, 0, 54, 47, tzinfo=tzlocal()), 'EndTime': datetime.datetime(2020, 12, 3, 0, 57, 16, tzinfo=tzlocal()), 'LastModifiedTime': datetime.datetime(2020, 12, 3, 1, 33, 53, 188000, tzinfo=tzlocal())}\n",
      "\n",
      "\n",
      "CandidateName: tuning-job-1-291fb65b80b9434eb7-016-a6e808cc\n",
      "FinalAutoMLJobObjectiveMetricName: validation:f1\n",
      "FinalAutoMLJobObjectiveMetricValue: 0.9365100264549255\n",
      "***predict output path ***\n",
      "s3://sagemaker-us-east-1-245779447069/sagemaker/automl-creditcard-fraud/inference-results/tuning-job-1-291fb65b80b9434eb7-016-a6e808cc/ test_data.csv.out\n",
      "prediction file still not avilable in s3 sleeping for 2 minutes\n",
      "prediction file still not avilable in s3 sleeping for 2 minutes\n",
      "prediction file still not avilable in s3 sleeping for 2 minutes\n",
      "predict file is avilable s3\n",
      "download CandidateDefinitionNotebookLocation for F1\n",
      "s3://sagemaker-us-east-1-245779447069/automl-card-fraud-F103-00-26-10/sagemaker-automl-candidates/pr-1-09f43aefa4594e6cad7bf961af2f4a605048475291a14b1badd85f0481/notebooks/SageMakerAutopilotCandidateDefinitionNotebook.ipynb\n",
      "download DataExplorationNotebookLocation for F1\n",
      "s3://sagemaker-us-east-1-245779447069/automl-card-fraud-F103-00-26-10/sagemaker-automl-candidates/pr-1-09f43aefa4594e6cad7bf961af2f4a605048475291a14b1badd85f0481/notebooks/SageMakerAutopilotDataExplorationNotebook.ipynb\n"
     ]
    }
   ],
   "source": [
    "print ('*********running with eval objective AUC***********')\n",
    "data_auc =run_automl_process('AUC')\n",
    "print ('*********running with eval objective F1***********')\n",
    "data_f1 = run_automl_process('F1')"
   ]
  },
  {
   "cell_type": "markdown",
   "metadata": {},
   "source": [
    "Now, we plot ROC - the Area under the Curve (AUC) for true positives (in this data set Fraud) vs false positives (predicted as Fraud but not Fraud in the ground truth). The higher the prediction quality of the classification model, the more the AUC curve is skewed to the top left."
   ]
  },
  {
   "cell_type": "code",
   "execution_count": 1,
   "metadata": {},
   "outputs": [
    {
     "ename": "NameError",
     "evalue": "name 'data_auc' is not defined",
     "output_type": "error",
     "traceback": [
      "\u001b[0;31m---------------------------------------------------------------------------\u001b[0m",
      "\u001b[0;31mNameError\u001b[0m                                 Traceback (most recent call last)",
      "\u001b[0;32m<ipython-input-1-82e9516fb67b>\u001b[0m in \u001b[0;36m<module>\u001b[0;34m\u001b[0m\n\u001b[1;32m      2\u001b[0m \u001b[0mcolors\u001b[0m \u001b[0;34m=\u001b[0m \u001b[0;34m[\u001b[0m\u001b[0;34m'blue'\u001b[0m\u001b[0;34m,\u001b[0m\u001b[0;34m'green'\u001b[0m\u001b[0;34m]\u001b[0m\u001b[0;34m\u001b[0m\u001b[0;34m\u001b[0m\u001b[0m\n\u001b[1;32m      3\u001b[0m \u001b[0mmodel_names\u001b[0m \u001b[0;34m=\u001b[0m \u001b[0;34m[\u001b[0m\u001b[0;34m'Objective : AUC'\u001b[0m\u001b[0;34m,\u001b[0m\u001b[0;34m'Objective : F1'\u001b[0m\u001b[0;34m]\u001b[0m\u001b[0;34m\u001b[0m\u001b[0;34m\u001b[0m\u001b[0m\n\u001b[0;32m----> 4\u001b[0;31m \u001b[0mmodels\u001b[0m \u001b[0;34m=\u001b[0m \u001b[0;34m[\u001b[0m\u001b[0mdata_auc\u001b[0m\u001b[0;34m,\u001b[0m\u001b[0mdata_f1\u001b[0m\u001b[0;34m]\u001b[0m\u001b[0;34m\u001b[0m\u001b[0;34m\u001b[0m\u001b[0m\n\u001b[0m\u001b[1;32m      5\u001b[0m \u001b[0;32mfor\u001b[0m \u001b[0mi\u001b[0m \u001b[0;32min\u001b[0m \u001b[0mrange\u001b[0m\u001b[0;34m(\u001b[0m\u001b[0;36m0\u001b[0m\u001b[0;34m,\u001b[0m\u001b[0mlen\u001b[0m\u001b[0;34m(\u001b[0m\u001b[0mmodels\u001b[0m\u001b[0;34m)\u001b[0m\u001b[0;34m)\u001b[0m\u001b[0;34m:\u001b[0m\u001b[0;34m\u001b[0m\u001b[0;34m\u001b[0m\u001b[0m\n\u001b[1;32m      6\u001b[0m     \u001b[0mfpr\u001b[0m\u001b[0;34m,\u001b[0m \u001b[0mtpr\u001b[0m\u001b[0;34m,\u001b[0m \u001b[0m_\u001b[0m \u001b[0;34m=\u001b[0m \u001b[0mmetrics\u001b[0m\u001b[0;34m.\u001b[0m\u001b[0mroc_curve\u001b[0m\u001b[0;34m(\u001b[0m\u001b[0my_test\u001b[0m\u001b[0;34m,\u001b[0m \u001b[0mmodels\u001b[0m\u001b[0;34m[\u001b[0m\u001b[0mi\u001b[0m\u001b[0;34m]\u001b[0m\u001b[0;34m[\u001b[0m\u001b[0;34m'proba'\u001b[0m\u001b[0;34m]\u001b[0m\u001b[0;34m)\u001b[0m\u001b[0;34m\u001b[0m\u001b[0;34m\u001b[0m\u001b[0m\n",
      "\u001b[0;31mNameError\u001b[0m: name 'data_auc' is not defined"
     ]
    }
   ],
   "source": [
    "from sklearn import metrics\n",
    "colors = ['blue','green']\n",
    "model_names = ['Objective : AUC','Objective : F1']\n",
    "models = [data_auc,data_f1]\n",
    "for i in range(0,len(models)):\n",
    "    fpr, tpr, _ = metrics.roc_curve(y_test, models[i]['proba'])\n",
    "    fpr, tpr, _  = metrics.roc_curve(y_test, models[i]['proba'])\n",
    "    auc_score = metrics.auc(fpr, tpr)\n",
    "    plt.plot(fpr, tpr, label=str('Auto Pilot {:.2f} '+ model_names[i]).format(auc_score),color=colors[i]) \n",
    "        \n",
    "plt.xlim([-0.1,1.1])\n",
    "plt.ylim([-0.1,1.1])\n",
    "plt.ylabel('True Positive Rate')\n",
    "plt.xlabel('False Positive Rate')\n",
    "plt.legend(loc='lower right')\n",
    "plt.title('ROC Cuve')"
   ]
  },
  {
   "cell_type": "markdown",
   "metadata": {},
   "source": [
    " The precision-recall curve compares the trade-off between precision and recall, with the best models having a precision-recall curve that is flat initially, dropping steeply as the recall approaches 1. The higher precision + recall, more the curve will be skewed towards upper right."
   ]
  },
  {
   "cell_type": "code",
   "execution_count": null,
   "metadata": {},
   "outputs": [],
   "source": [
    "colors = ['blue','green']\n",
    "model_names = ['Objective : AUC','Objective : F1']\n",
    "models = [data_auc,data_f1]\n",
    "\n",
    "print ('model ', 'F1 ', 'precision ', 'recall ')\n",
    "for i in range(0,len(models)):\n",
    "    precision, recall, _ = precision_recall_curve(y_test, models[i]['proba'])\n",
    "    print (model_names[i],f1_score(y_test, np.array(models[i]['label'])),precision_score(y_test, models[i]['label']),recall_score(y_test, models[i]['label']) )\n",
    "    plt.plot(recall,precision,color=colors[i],label=model_names[i])\n",
    "        \n",
    "plt.xlabel('Recall')\n",
    "plt.ylabel('Precision')\n",
    "plt.title('Precision-Recall Curve')\n",
    "plt.legend(loc='upper right')\n",
    "plt.show() "
   ]
  },
  {
   "cell_type": "markdown",
   "metadata": {},
   "source": [
    "---\n",
    "## Conclusion <a name=\"Conclusion\"></a>\n",
    "We can see that with very little data science knowledge, we are able to create a highly accurate prediction for credit card fruad dataset. From the AUC and Precision+Recall plots, we can also see that Auto Pilot handled highly imbalanced data well.  "
   ]
  },
  {
   "cell_type": "markdown",
   "metadata": {},
   "source": [
    "---\n",
    "## Cleanup <a name=\"Cleanup\"></a>\n",
    "\n",
    "The Autopilot job creates many underlying artifacts such as dataset splits, preprocessing scripts, or preprocessed data, etc. This code, when un-commented, deletes them. This operation deletes all the generated models and the auto-generated notebooks as well. "
   ]
  },
  {
   "cell_type": "code",
   "execution_count": 3,
   "metadata": {},
   "outputs": [],
   "source": [
    "# s3 = boto3.resource('s3')\n",
    "# s3_bucket = s3.Bucket(bucket)\n",
    "\n",
    "# s3_bucket.objects.filter(Prefix=prefix).delete()"
   ]
  },
  {
   "cell_type": "raw",
   "metadata": {},
   "source": [
    "Finally, we can delete the models by calling."
   ]
  },
  {
   "cell_type": "code",
   "execution_count": null,
   "metadata": {},
   "outputs": [],
   "source": [
    "#transformer.delete_model()"
   ]
  }
 ],
 "metadata": {
  "kernelspec": {
   "display_name": "conda_python3",
   "language": "python",
   "name": "conda_python3"
  },
  "language_info": {
   "codemirror_mode": {
    "name": "ipython",
    "version": 3
   },
   "file_extension": ".py",
   "mimetype": "text/x-python",
   "name": "python",
   "nbconvert_exporter": "python",
   "pygments_lexer": "ipython3",
   "version": "3.6.10"
  }
 },
 "nbformat": 4,
 "nbformat_minor": 4
}
