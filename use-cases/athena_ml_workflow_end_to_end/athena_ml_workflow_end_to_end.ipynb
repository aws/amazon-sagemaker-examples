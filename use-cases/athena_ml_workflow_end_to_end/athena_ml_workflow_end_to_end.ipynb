{
 "cells": [
  {
   "cell_type": "markdown",
   "id": "ece13bd7-19b2-47b3-976d-cf636fa68003",
   "metadata": {},
   "source": [
    "# Create an end to end machine learning workflow using Amazon Athena\n",
    "Importing and transforming data can be one of the most challenging tasks in a machine learning workflow. We provide you with a Jupyter notebook that demonstrates a cost-effective strategy for an extract, transform, and load (ETL) workflow. Using Amazon Simple Storage Service (Amazon S3) and Amazon Athena, you learn how to query and transform data from a Jupyter notebook. Amazon S3 is an object storage service that allows you to store data and machine learning artifacts. Amazon Athena enables you to interactively query the data stored in those buckets, saving each query as a CSV file in an Amazon S3 location.\n",
    "\n",
    "The tutorial imports 16 CSV files for the 2019 NYC taxi dataset from multiple Amazon S3 locations. The goal is to predict the fare amount for each ride. From these 16 files, the notebook creates a single ride fare dataset and a single ride info dataset with deduplicated values. We join the deduplicated datasets into a single dataset.\n",
    "\n",
    "Amazon Athena stores the query results as a CSV file in the specified location. We provide the output to a SageMaker Processing Job to split the data into training, validation, and test sets. While data can be split using queries, a processing job ensures that the data is in a format that's parseable by the XGBoost algorithm.\n",
    "\n",
    "__Prerequisites:__\n",
    "\n",
    "The notebook must be run in the us-east-1 AWS Region. You also need your own Amazon S3 bucket and a database within Amazon Athena. You won't be able to access the data used in the tutorial otherwise.\n",
    "\n",
    "For information about creating a bucket, see [Creating a bucket](https://docs.aws.amazon.com/AmazonS3/latest/userguide/create-bucket-overview.html). For information about creating a database, see [Create a database](https://docs.aws.amazon.com/athena/latest/ug/getting-started.html#step-1-create-a-database).\n",
    "\n",
    "Amazon Athena uses the AWS Glue Data Catalog to read the data from Amazon S3 into a database. You must have permissions to use Glue. To clean up, you also need permissions to delete the bucket you've created. For a quick guide to providing permissions, see [Setting up\n",
    "](http://parsash-clouddesk-2024.aka.corp.amazon.com/sagemaker-dg/src/AWSIronmanApiDoc/build/server-root/sagemaker/latest/dg/create-end-to-end-ml-workflow-athena.html#setting-up)."
   ]
  },
  {
   "cell_type": "markdown",
   "id": "0b11693f-7c35-41cf-8e4b-4f86eea8f3b0",
   "metadata": {},
   "source": [
    "## Solution overview\n",
    "\n",
    "To create the end to end workflow, we do the following:\n",
    "\n",
    "1. Create an Amazon Athena client within the us-east-1 AWS Region.\n",
    "2. Define the run_athena_query function that runs queries and prints out the status in the following cell.\n",
    "3. Create the `ride_fare` table within your database using all ride fare tables for the year 2019.\n",
    "4. Create the `ride_info` table using ride info table for the year 2019.\n",
    "5. Create the `ride_info_deduped` and `ride_fare_deduped` tables that have all duplicate values removed from the original tables.\n",
    "6. Run test queries to get the first ten rows of each table to see whether they have data.\n",
    "7. Define the `get_query_results` function that takes the query ID and returns comma separated values that can be stored as a dataframe.\n",
    "8. View the results of the test queries within pandas dataframes.\n",
    "9. Join the `ride_info_deduped` and `ride_fare_deduped` tables into the `combined_ride_data_deduped` table.\n",
    "10. Select all values in the combined table.\n",
    "11. Define the `get_csv_file_location` function to get the Amazon S3 location of the query results.\n",
    "12. Download the CSV file to our environment.\n",
    "13. Perform Exploratory Data Analysis (EDA) on the data.\n",
    "14. Use the results of the EDA to select the relevant features in query.\n",
    "15. Use the `get_csv_file_location` function to get the location of those query results.\n",
    "16. Split the data into training, validation, and test sets using a processing job.\n",
    "17. Download the test dataset.\n",
    "18. Take a 20 row sample from the test dataset.\n",
    "20. Create a dataframe with 20 rows of actual and predicted values.\n",
    "21. Calculate the RMSE of the data.\n",
    "22. Clean up the resources created within the notebook."
   ]
  },
  {
   "cell_type": "markdown",
   "id": "54d7468c-c77b-4273-b02d-9e9c4e884d46",
   "metadata": {},
   "source": [
    "### Define the run_athena_query function\n",
    "\n",
    "In the following cell, we define the `run_athena_query` function. It runs an Athena query and waits for its completion.\n",
    "\n",
    "It takes the following arguments:\n",
    "\n",
    "-       query_string (str): The SQL query to be executed.\n",
    "-       database_name (str): The name of the Athena database.\n",
    "-       output_location (str): The S3 location where the query results are stored.\n",
    "\n",
    "\n",
    "It returns the query execution ID string."
   ]
  },
  {
   "cell_type": "code",
   "execution_count": 1,
   "id": "8ab1ff0e-fcde-4976-a1cd-51e75c18deb2",
   "metadata": {},
   "outputs": [],
   "source": [
    "# Import required libraries\n",
    "import time\n",
    "import boto3\n",
    "\n",
    "def run_athena_query(query_string, database_name, output_location):\n",
    "    # Create an Athena client\n",
    "    athena_client = boto3.client('athena', region_name='us-east-1')\n",
    "\n",
    "    # Start the query execution\n",
    "    response = athena_client.start_query_execution(\n",
    "        QueryString=query_string,\n",
    "        QueryExecutionContext={'Database': database_name},\n",
    "        ResultConfiguration={'OutputLocation': output_location}\n",
    "    )\n",
    "\n",
    "    query_execution_id = response['QueryExecutionId']\n",
    "    print(f\"Query execution ID: {query_execution_id}\")\n",
    "\n",
    "    while True:\n",
    "        # Check the query execution status\n",
    "        query_status = athena_client.get_query_execution(QueryExecutionId=query_execution_id)\n",
    "        state = query_status['QueryExecution']['Status']['State']\n",
    "\n",
    "        if state == 'SUCCEEDED':\n",
    "            print(\"Query executed successfully.\")\n",
    "            break\n",
    "        elif state == 'FAILED':\n",
    "            print(f\"Query failed with error: {query_status['QueryExecution']['Status']['StateChangeReason']}\")\n",
    "            break\n",
    "        else:\n",
    "            print(f\"Query is currently in {state} state. Waiting for completion...\")\n",
    "            time.sleep(5)  # Wait for 5 seconds before checking again\n",
    "\n",
    "    return query_execution_id\n"
   ]
  },
  {
   "cell_type": "markdown",
   "id": "8df0da48-89b3-45c2-a479-af422a51b962",
   "metadata": {},
   "source": [
    "### Create the ride_fare table\n",
    "\n",
    "We've provided you with the query. You most provide the name of the database you created within Amazon Athena and the Amazon S3 output location. If you're not sure about how to specify the output location, provide the name of the S3 bucket. After running the query, you should get a message that says \"Query executed successfully.\" and a 36 character string in single quotes."
   ]
  },
  {
   "cell_type": "code",
   "execution_count": 3,
   "id": "64131b68-de28-4060-bb75-8148902846f7",
   "metadata": {},
   "outputs": [
    {
     "name": "stdout",
     "output_type": "stream",
     "text": [
      "Query execution ID: cb929408-df15-408d-a776-a8963facbf80\n",
      "Query is currently in QUEUED state. Waiting for completion...\n",
      "Query executed successfully.\n"
     ]
    },
    {
     "data": {
      "text/plain": [
       "'cb929408-df15-408d-a776-a8963facbf80'"
      ]
     },
     "execution_count": 3,
     "metadata": {},
     "output_type": "execute_result"
    }
   ],
   "source": [
    "# SQL query to create the 'ride_fare' table\n",
    "create_ride_fare_table = \"\"\"\n",
    "CREATE EXTERNAL TABLE `ride_fare` (\n",
    "  `ride_id` bigint, \n",
    "  `payment_type` smallint, \n",
    "  `fare_amount` float, \n",
    "  `extra` float, \n",
    "  `mta_tax` float, \n",
    "  `tip_amount` float, \n",
    "  `tolls_amount` float, \n",
    "  `total_amount` float\n",
    ")\n",
    "ROW FORMAT DELIMITED \n",
    "  FIELDS TERMINATED BY ',' \n",
    "  LINES TERMINATED BY '\\n' \n",
    "STORED AS INPUTFORMAT \n",
    "  'org.apache.hadoop.mapred.TextInputFormat' \n",
    "OUTPUTFORMAT \n",
    "  'org.apache.hadoop.hive.ql.io.HiveIgnoreKeyTextOutputFormat'\n",
    "LOCATION\n",
    "  's3://dsoaws/nyc-taxi-orig-cleaned-split-csv-with-header-per-year-multiple-files/ride-fare/year=2019'\n",
    "TBLPROPERTIES (\n",
    "  'skip.header.line.count'='1', \n",
    "  'transient_lastDdlTime'='1716908234'\n",
    ");\n",
    "\"\"\"\n",
    "\n",
    "# Athena database name\n",
    "database = 'example-database-name'\n",
    "\n",
    "# S3 location for query results\n",
    "s3_output_location = 's3://example-s3-bucket/example-s3-prefix'\n",
    "\n",
    "# Execute the query to create the 'ride_fare' table\n",
    "run_athena_query(create_ride_fare_table, database, s3_output_location)"
   ]
  },
  {
   "cell_type": "markdown",
   "id": "ebe5920a-4c36-48c0-9cb4-e418c738aa59",
   "metadata": {},
   "source": [
    "### Create the ride fare table with the duplicates removed"
   ]
  },
  {
   "cell_type": "code",
   "execution_count": 4,
   "id": "3d249cc5-2d53-4274-8f5e-6ab09ccd3ea6",
   "metadata": {},
   "outputs": [
    {
     "name": "stdout",
     "output_type": "stream",
     "text": [
      "Query execution ID: 15337c2c-54e5-4e19-94a8-92d2faef2efd\n",
      "Query is currently in QUEUED state. Waiting for completion...\n",
      "Query is currently in RUNNING state. Waiting for completion...\n",
      "Query is currently in RUNNING state. Waiting for completion...\n",
      "Query is currently in RUNNING state. Waiting for completion...\n",
      "Query executed successfully.\n"
     ]
    },
    {
     "data": {
      "text/plain": [
       "'15337c2c-54e5-4e19-94a8-92d2faef2efd'"
      ]
     },
     "execution_count": 4,
     "metadata": {},
     "output_type": "execute_result"
    }
   ],
   "source": [
    "# SQL query to create a new table with duplicates removed\n",
    "remove_duplicates_from_ride_fare = \"\"\"\n",
    "CREATE TABLE ride_fare_deduped\n",
    "AS\n",
    "SELECT DISTINCT *\n",
    "FROM ride_fare\n",
    "\"\"\"\n",
    "\n",
    "# Run the preceding query\n",
    "run_athena_query(remove_duplicates_from_ride_fare, database, s3_output_location)"
   ]
  },
  {
   "cell_type": "markdown",
   "id": "2ac7fc34-37cb-4c46-993b-38f18576361c",
   "metadata": {},
   "source": [
    "### Create the ride_info table"
   ]
  },
  {
   "cell_type": "code",
   "execution_count": 5,
   "id": "2f9a68b9-bd11-49e9-ad72-b44b43d32e47",
   "metadata": {},
   "outputs": [
    {
     "name": "stdout",
     "output_type": "stream",
     "text": [
      "Query execution ID: bc365d36-bbbb-4f33-a153-3192127a1069\n",
      "Query is currently in QUEUED state. Waiting for completion...\n",
      "Query executed successfully.\n"
     ]
    },
    {
     "data": {
      "text/plain": [
       "'bc365d36-bbbb-4f33-a153-3192127a1069'"
      ]
     },
     "execution_count": 5,
     "metadata": {},
     "output_type": "execute_result"
    }
   ],
   "source": [
    "# SQL query to create the ride_info table\n",
    "create_ride_info_table_query = \"\"\"\n",
    "CREATE EXTERNAL TABLE `ride_info` (\n",
    "  `ride_id` bigint, \n",
    "  `vendor_id` smallint, \n",
    "  `passenger_count` smallint, \n",
    "  `pickup_at` string, \n",
    "  `dropoff_at` string, \n",
    "  `trip_distance` float, \n",
    "  `rate_code_id` int, \n",
    "  `store_and_fwd_flag` string\n",
    ")\n",
    "ROW FORMAT DELIMITED \n",
    "  FIELDS TERMINATED BY ',' \n",
    "  LINES TERMINATED BY '\\n' \n",
    "STORED AS INPUTFORMAT \n",
    "  'org.apache.hadoop.mapred.TextInputFormat' \n",
    "OUTPUTFORMAT \n",
    "  'org.apache.hadoop.hive.ql.io.HiveIgnoreKeyTextOutputFormat'\n",
    "LOCATION\n",
    "  's3://dsoaws/nyc-taxi-orig-cleaned-split-csv-with-header-per-year-multiple-files/ride-info/year=2019'\n",
    "TBLPROPERTIES (\n",
    "  'skip.header.line.count'='1', \n",
    "  'transient_lastDdlTime'='1716907328'\n",
    ");\n",
    "\"\"\"\n",
    "\n",
    "# Run the query to create the ride_info table\n",
    "run_athena_query(create_ride_info_table_query, database, s3_output_location)"
   ]
  },
  {
   "cell_type": "markdown",
   "id": "4c17ea01-2c1e-4c10-a539-0d00e6e4bb1d",
   "metadata": {},
   "source": [
    "### Create the ride info table with the duplicates removed"
   ]
  },
  {
   "cell_type": "code",
   "execution_count": 6,
   "id": "263d883c-f189-43c0-9fbd-1a45093984e9",
   "metadata": {},
   "outputs": [
    {
     "name": "stdout",
     "output_type": "stream",
     "text": [
      "Query execution ID: 1946c89d-d1c3-449d-b7af-42521778c51c\n",
      "Query is currently in QUEUED state. Waiting for completion...\n",
      "Query is currently in RUNNING state. Waiting for completion...\n",
      "Query is currently in RUNNING state. Waiting for completion...\n",
      "Query is currently in RUNNING state. Waiting for completion...\n",
      "Query executed successfully.\n"
     ]
    },
    {
     "data": {
      "text/plain": [
       "'1946c89d-d1c3-449d-b7af-42521778c51c'"
      ]
     },
     "execution_count": 6,
     "metadata": {},
     "output_type": "execute_result"
    }
   ],
   "source": [
    "# SQL query to create table with duplicates removed\n",
    "remove_duplicates_from_ride_info = \"\"\"\n",
    "CREATE TABLE ride_info_deduped\n",
    "AS\n",
    "SELECT DISTINCT *\n",
    "FROM ride_info\n",
    "\"\"\"\n",
    "\n",
    "# Run the query to create the table with the duplicates removed\n",
    "run_athena_query(remove_duplicates_from_ride_info, database, s3_output_location)"
   ]
  },
  {
   "cell_type": "markdown",
   "id": "a19f8e17-42c5-4412-96a8-b7bc1a74c73c",
   "metadata": {},
   "source": [
    "### Run a test query on ride_info_deduped"
   ]
  },
  {
   "cell_type": "code",
   "execution_count": 7,
   "id": "6db6bb67-44a9-4ff4-b662-ad969a84d3d8",
   "metadata": {},
   "outputs": [
    {
     "name": "stdout",
     "output_type": "stream",
     "text": [
      "Query execution ID: ab1e6968-e04c-47c0-94c7-03868d1d7fc1\n",
      "Query is currently in QUEUED state. Waiting for completion...\n",
      "Query executed successfully.\n"
     ]
    },
    {
     "data": {
      "text/plain": [
       "'ab1e6968-e04c-47c0-94c7-03868d1d7fc1'"
      ]
     },
     "execution_count": 7,
     "metadata": {},
     "output_type": "execute_result"
    }
   ],
   "source": [
    "test_ride_info_query = '''\n",
    "SELECT * FROM ride_info_deduped limit 10\n",
    "'''\n",
    "\n",
    "run_athena_query(test_ride_info_query, database, s3_output_location)"
   ]
  },
  {
   "cell_type": "markdown",
   "id": "b969d31f-e14a-473b-aefa-a1a19bc312f7",
   "metadata": {},
   "source": [
    "### Run a test query on ride_fare_deduped"
   ]
  },
  {
   "cell_type": "code",
   "execution_count": 8,
   "id": "92d8be21-3f20-453d-8b84-516571d9854d",
   "metadata": {},
   "outputs": [
    {
     "name": "stdout",
     "output_type": "stream",
     "text": [
      "Query execution ID: caeedc97-8f55-4759-9380-8ced39fab414\n",
      "Query is currently in QUEUED state. Waiting for completion...\n",
      "Query executed successfully.\n"
     ]
    },
    {
     "data": {
      "text/plain": [
       "'caeedc97-8f55-4759-9380-8ced39fab414'"
      ]
     },
     "execution_count": 8,
     "metadata": {},
     "output_type": "execute_result"
    }
   ],
   "source": [
    "test_ride_fare_query = '''\n",
    "SELECT * FROM ride_fare_deduped limit 10\n",
    "'''\n",
    "\n",
    "run_athena_query(test_ride_fare_query, database, s3_output_location)"
   ]
  },
  {
   "cell_type": "markdown",
   "id": "c86acade-c4b9-4918-860e-11ee5e386a44",
   "metadata": {},
   "source": [
    "### Define the `get_query_results` function\n",
    "\n",
    "In the following cell, we define the `get_query_results` function to get the query results in CSV format. The function gets the 36 character query execution ID string. The end of the output of the preceding cell is an example of a query execution ID string."
   ]
  },
  {
   "cell_type": "code",
   "execution_count": 9,
   "id": "50e87ba6-42e9-4d99-862e-7eae16ad810e",
   "metadata": {},
   "outputs": [],
   "source": [
    "import io\n",
    "def get_query_results(query_execution_id):\n",
    "    athena_client = boto3.client('athena', region_name='us-east-1')\n",
    "    s3 = boto3.client('s3')\n",
    "\n",
    "    # Get the query execution details\n",
    "    query_execution = athena_client.get_query_execution(QueryExecutionId=query_execution_id)\n",
    "    s3_location = query_execution['QueryExecution']['ResultConfiguration']['OutputLocation']\n",
    "\n",
    "    # Extract bucket and key from S3 output location\n",
    "    bucket_name, key = s3_location.split('/', 2)[2].split('/', 1)\n",
    "\n",
    "    # Get the CSV file location\n",
    "    obj = s3.get_object(Bucket=bucket_name, Key=key)\n",
    "    csv_data = obj['Body'].read().decode('utf-8')\n",
    "    csv_buffer = io.StringIO(csv_data)\n",
    "\n",
    "    return csv_buffer"
   ]
  },
  {
   "cell_type": "markdown",
   "id": "d3d2ed4f-d7e6-49dc-9ea1-0dc66f252c76",
   "metadata": {},
   "source": [
    "### Read `ride_info_deduped` test query into a dataframe\n",
    "\n",
    "Specify the query execution ID string in the `get_query_results` function. The output is the head of the dataframe. "
   ]
  },
  {
   "cell_type": "code",
   "execution_count": 12,
   "id": "b04abae5-936b-4d96-98e8-d2e2b6a17b9c",
   "metadata": {},
   "outputs": [
    {
     "data": {
      "text/html": [
       "<div>\n",
       "<style scoped>\n",
       "    .dataframe tbody tr th:only-of-type {\n",
       "        vertical-align: middle;\n",
       "    }\n",
       "\n",
       "    .dataframe tbody tr th {\n",
       "        vertical-align: top;\n",
       "    }\n",
       "\n",
       "    .dataframe thead th {\n",
       "        text-align: right;\n",
       "    }\n",
       "</style>\n",
       "<table border=\"1\" class=\"dataframe\">\n",
       "  <thead>\n",
       "    <tr style=\"text-align: right;\">\n",
       "      <th></th>\n",
       "      <th>ride_id</th>\n",
       "      <th>payment_type</th>\n",
       "      <th>fare_amount</th>\n",
       "      <th>extra</th>\n",
       "      <th>mta_tax</th>\n",
       "      <th>tip_amount</th>\n",
       "      <th>tolls_amount</th>\n",
       "      <th>total_amount</th>\n",
       "    </tr>\n",
       "  </thead>\n",
       "  <tbody>\n",
       "    <tr>\n",
       "      <th>0</th>\n",
       "      <td>2834679627591</td>\n",
       "      <td>1</td>\n",
       "      <td>52.0</td>\n",
       "      <td>0.0</td>\n",
       "      <td>0.5</td>\n",
       "      <td>12.28</td>\n",
       "      <td>6.12</td>\n",
       "      <td>73.70</td>\n",
       "    </tr>\n",
       "    <tr>\n",
       "      <th>1</th>\n",
       "      <td>1400160739953</td>\n",
       "      <td>1</td>\n",
       "      <td>52.0</td>\n",
       "      <td>2.5</td>\n",
       "      <td>0.5</td>\n",
       "      <td>11.05</td>\n",
       "      <td>0.00</td>\n",
       "      <td>66.35</td>\n",
       "    </tr>\n",
       "    <tr>\n",
       "      <th>2</th>\n",
       "      <td>2834679627600</td>\n",
       "      <td>2</td>\n",
       "      <td>7.0</td>\n",
       "      <td>0.0</td>\n",
       "      <td>0.5</td>\n",
       "      <td>0.00</td>\n",
       "      <td>0.00</td>\n",
       "      <td>7.80</td>\n",
       "    </tr>\n",
       "    <tr>\n",
       "      <th>3</th>\n",
       "      <td>1331440950394</td>\n",
       "      <td>1</td>\n",
       "      <td>4.0</td>\n",
       "      <td>1.0</td>\n",
       "      <td>0.5</td>\n",
       "      <td>1.66</td>\n",
       "      <td>0.00</td>\n",
       "      <td>9.96</td>\n",
       "    </tr>\n",
       "    <tr>\n",
       "      <th>4</th>\n",
       "      <td>2834679627624</td>\n",
       "      <td>1</td>\n",
       "      <td>4.5</td>\n",
       "      <td>0.0</td>\n",
       "      <td>0.5</td>\n",
       "      <td>1.06</td>\n",
       "      <td>0.00</td>\n",
       "      <td>6.36</td>\n",
       "    </tr>\n",
       "  </tbody>\n",
       "</table>\n",
       "</div>"
      ],
      "text/plain": [
       "         ride_id  payment_type  fare_amount  extra  mta_tax  tip_amount  \\\n",
       "0  2834679627591             1         52.0    0.0      0.5       12.28   \n",
       "1  1400160739953             1         52.0    2.5      0.5       11.05   \n",
       "2  2834679627600             2          7.0    0.0      0.5        0.00   \n",
       "3  1331440950394             1          4.0    1.0      0.5        1.66   \n",
       "4  2834679627624             1          4.5    0.0      0.5        1.06   \n",
       "\n",
       "   tolls_amount  total_amount  \n",
       "0          6.12         73.70  \n",
       "1          0.00         66.35  \n",
       "2          0.00          7.80  \n",
       "3          0.00          9.96  \n",
       "4          0.00          6.36  "
      ]
     },
     "execution_count": 12,
     "metadata": {},
     "output_type": "execute_result"
    }
   ],
   "source": [
    "import pandas as pd\n",
    "# Provide the query execution id of the test_ride_info query to get the query results\n",
    "ride_info_sample = get_query_results('test_ride_info_query_execution_id')\n",
    "\n",
    "df_ride_info_sample = pd.read_csv(ride_info_sample)\n",
    "\n",
    "df_ride_info_sample.head()"
   ]
  },
  {
   "cell_type": "markdown",
   "id": "6d10ebe2-8c17-4f2b-97fe-a5f339cd89d7",
   "metadata": {},
   "source": [
    "### Read `ride_fare_deduped` test query into a dataframe\n",
    "\n",
    "Specify the query execution ID string in the `get_query_results` function. The output is the head of the resulting dataframe. "
   ]
  },
  {
   "cell_type": "code",
   "execution_count": 13,
   "id": "be89957f-31b1-4710-bfc2-178d6db18592",
   "metadata": {},
   "outputs": [
    {
     "data": {
      "text/html": [
       "<div>\n",
       "<style scoped>\n",
       "    .dataframe tbody tr th:only-of-type {\n",
       "        vertical-align: middle;\n",
       "    }\n",
       "\n",
       "    .dataframe tbody tr th {\n",
       "        vertical-align: top;\n",
       "    }\n",
       "\n",
       "    .dataframe thead th {\n",
       "        text-align: right;\n",
       "    }\n",
       "</style>\n",
       "<table border=\"1\" class=\"dataframe\">\n",
       "  <thead>\n",
       "    <tr style=\"text-align: right;\">\n",
       "      <th></th>\n",
       "      <th>ride_id</th>\n",
       "      <th>payment_type</th>\n",
       "      <th>fare_amount</th>\n",
       "      <th>extra</th>\n",
       "      <th>mta_tax</th>\n",
       "      <th>tip_amount</th>\n",
       "      <th>tolls_amount</th>\n",
       "      <th>total_amount</th>\n",
       "    </tr>\n",
       "  </thead>\n",
       "  <tbody>\n",
       "    <tr>\n",
       "      <th>0</th>\n",
       "      <td>2834679627591</td>\n",
       "      <td>1</td>\n",
       "      <td>52.0</td>\n",
       "      <td>0.0</td>\n",
       "      <td>0.5</td>\n",
       "      <td>12.28</td>\n",
       "      <td>6.12</td>\n",
       "      <td>73.70</td>\n",
       "    </tr>\n",
       "    <tr>\n",
       "      <th>1</th>\n",
       "      <td>1400160739953</td>\n",
       "      <td>1</td>\n",
       "      <td>52.0</td>\n",
       "      <td>2.5</td>\n",
       "      <td>0.5</td>\n",
       "      <td>11.05</td>\n",
       "      <td>0.00</td>\n",
       "      <td>66.35</td>\n",
       "    </tr>\n",
       "    <tr>\n",
       "      <th>2</th>\n",
       "      <td>2834679627600</td>\n",
       "      <td>2</td>\n",
       "      <td>7.0</td>\n",
       "      <td>0.0</td>\n",
       "      <td>0.5</td>\n",
       "      <td>0.00</td>\n",
       "      <td>0.00</td>\n",
       "      <td>7.80</td>\n",
       "    </tr>\n",
       "    <tr>\n",
       "      <th>3</th>\n",
       "      <td>1331440950394</td>\n",
       "      <td>1</td>\n",
       "      <td>4.0</td>\n",
       "      <td>1.0</td>\n",
       "      <td>0.5</td>\n",
       "      <td>1.66</td>\n",
       "      <td>0.00</td>\n",
       "      <td>9.96</td>\n",
       "    </tr>\n",
       "    <tr>\n",
       "      <th>4</th>\n",
       "      <td>2834679627624</td>\n",
       "      <td>1</td>\n",
       "      <td>4.5</td>\n",
       "      <td>0.0</td>\n",
       "      <td>0.5</td>\n",
       "      <td>1.06</td>\n",
       "      <td>0.00</td>\n",
       "      <td>6.36</td>\n",
       "    </tr>\n",
       "  </tbody>\n",
       "</table>\n",
       "</div>"
      ],
      "text/plain": [
       "         ride_id  payment_type  fare_amount  extra  mta_tax  tip_amount  \\\n",
       "0  2834679627591             1         52.0    0.0      0.5       12.28   \n",
       "1  1400160739953             1         52.0    2.5      0.5       11.05   \n",
       "2  2834679627600             2          7.0    0.0      0.5        0.00   \n",
       "3  1331440950394             1          4.0    1.0      0.5        1.66   \n",
       "4  2834679627624             1          4.5    0.0      0.5        1.06   \n",
       "\n",
       "   tolls_amount  total_amount  \n",
       "0          6.12         73.70  \n",
       "1          0.00         66.35  \n",
       "2          0.00          7.80  \n",
       "3          0.00          9.96  \n",
       "4          0.00          6.36  "
      ]
     },
     "execution_count": 13,
     "metadata": {},
     "output_type": "execute_result"
    }
   ],
   "source": [
    "# Provide the query execution id of the test_ride_fare query to get the query results\n",
    "\n",
    "ride_fare_sample = get_query_results('test_ride_fare_query_execution_id')\n",
    "\n",
    "df_ride_fare_sample = pd.read_csv(ride_fare_sample)\n",
    "\n",
    "df_ride_fare_sample.head()"
   ]
  },
  {
   "cell_type": "markdown",
   "id": "3867e94a-7c89-48ed-86aa-92b09d47740d",
   "metadata": {},
   "source": [
    "### Join the deduplicated tables together"
   ]
  },
  {
   "cell_type": "code",
   "execution_count": 14,
   "id": "b8a76635-3c09-4cbc-b1b4-9318dc611250",
   "metadata": {
    "scrolled": true
   },
   "outputs": [
    {
     "name": "stdout",
     "output_type": "stream",
     "text": [
      "Query execution ID: 8eb61f36-2e1b-43c7-9b33-61e7ce5d21bc\n",
      "Query is currently in QUEUED state. Waiting for completion...\n",
      "Query is currently in RUNNING state. Waiting for completion...\n",
      "Query is currently in RUNNING state. Waiting for completion...\n",
      "Query is currently in RUNNING state. Waiting for completion...\n",
      "Query is currently in RUNNING state. Waiting for completion...\n",
      "Query is currently in RUNNING state. Waiting for completion...\n",
      "Query is currently in RUNNING state. Waiting for completion...\n",
      "Query is currently in RUNNING state. Waiting for completion...\n",
      "Query is currently in RUNNING state. Waiting for completion...\n",
      "Query is currently in RUNNING state. Waiting for completion...\n",
      "Query is currently in RUNNING state. Waiting for completion...\n",
      "Query is currently in RUNNING state. Waiting for completion...\n",
      "Query executed successfully.\n"
     ]
    },
    {
     "data": {
      "text/plain": [
       "'8eb61f36-2e1b-43c7-9b33-61e7ce5d21bc'"
      ]
     },
     "execution_count": 14,
     "metadata": {},
     "output_type": "execute_result"
    }
   ],
   "source": [
    "# SQL query to join the tables into a single table containing all the data.\n",
    "create_ride_joined_deduped = \"\"\"\n",
    "CREATE TABLE combined_ride_data_deduped AS\n",
    "SELECT \n",
    "    rfs.ride_id, \n",
    "    rfs.payment_type, \n",
    "    rfs.fare_amount, \n",
    "    rfs.extra, \n",
    "    rfs.mta_tax, \n",
    "    rfs.tip_amount, \n",
    "    rfs.tolls_amount, \n",
    "    rfs.total_amount,\n",
    "    ris.vendor_id, \n",
    "    ris.passenger_count, \n",
    "    ris.pickup_at, \n",
    "    ris.dropoff_at, \n",
    "    ris.trip_distance, \n",
    "    ris.rate_code_id, \n",
    "    ris.store_and_fwd_flag\n",
    "FROM \n",
    "    ride_fare_deduped rfs\n",
    "JOIN \n",
    "    ride_info_deduped ris\n",
    "ON \n",
    "    rfs.ride_id = ris.ride_id;\n",
    ";\n",
    "\"\"\"\n",
    "\n",
    "# Run the query to create the ride_data_deduped table\n",
    "run_athena_query(create_ride_joined_deduped, database, s3_output_location)"
   ]
  },
  {
   "cell_type": "markdown",
   "id": "b2f9f6ca-f668-42ab-ac4a-371a82e1786d",
   "metadata": {},
   "source": [
    "### Select all values from the deduplicated table"
   ]
  },
  {
   "cell_type": "code",
   "execution_count": 15,
   "id": "b0791e57-4351-4f27-a8f9-ad741441d214",
   "metadata": {},
   "outputs": [
    {
     "name": "stdout",
     "output_type": "stream",
     "text": [
      "Query execution ID: f303cff8-5369-409a-9c51-8c791d446fe3\n",
      "Query is currently in QUEUED state. Waiting for completion...\n",
      "Query is currently in RUNNING state. Waiting for completion...\n",
      "Query is currently in RUNNING state. Waiting for completion...\n",
      "Query is currently in RUNNING state. Waiting for completion...\n",
      "Query is currently in RUNNING state. Waiting for completion...\n",
      "Query is currently in RUNNING state. Waiting for completion...\n",
      "Query is currently in RUNNING state. Waiting for completion...\n",
      "Query is currently in RUNNING state. Waiting for completion...\n",
      "Query is currently in RUNNING state. Waiting for completion...\n",
      "Query is currently in RUNNING state. Waiting for completion...\n",
      "Query is currently in RUNNING state. Waiting for completion...\n",
      "Query is currently in RUNNING state. Waiting for completion...\n",
      "Query is currently in RUNNING state. Waiting for completion...\n",
      "Query is currently in RUNNING state. Waiting for completion...\n",
      "Query is currently in RUNNING state. Waiting for completion...\n",
      "Query is currently in RUNNING state. Waiting for completion...\n",
      "Query is currently in RUNNING state. Waiting for completion...\n",
      "Query is currently in RUNNING state. Waiting for completion...\n",
      "Query is currently in RUNNING state. Waiting for completion...\n",
      "Query is currently in RUNNING state. Waiting for completion...\n",
      "Query is currently in RUNNING state. Waiting for completion...\n",
      "Query is currently in RUNNING state. Waiting for completion...\n",
      "Query is currently in RUNNING state. Waiting for completion...\n",
      "Query is currently in RUNNING state. Waiting for completion...\n",
      "Query is currently in RUNNING state. Waiting for completion...\n",
      "Query is currently in RUNNING state. Waiting for completion...\n",
      "Query is currently in RUNNING state. Waiting for completion...\n",
      "Query is currently in RUNNING state. Waiting for completion...\n",
      "Query is currently in RUNNING state. Waiting for completion...\n",
      "Query is currently in RUNNING state. Waiting for completion...\n",
      "Query is currently in RUNNING state. Waiting for completion...\n",
      "Query is currently in RUNNING state. Waiting for completion...\n",
      "Query is currently in RUNNING state. Waiting for completion...\n",
      "Query is currently in RUNNING state. Waiting for completion...\n",
      "Query is currently in RUNNING state. Waiting for completion...\n",
      "Query is currently in RUNNING state. Waiting for completion...\n",
      "Query is currently in RUNNING state. Waiting for completion...\n",
      "Query is currently in RUNNING state. Waiting for completion...\n",
      "Query executed successfully.\n"
     ]
    },
    {
     "data": {
      "text/plain": [
       "'f303cff8-5369-409a-9c51-8c791d446fe3'"
      ]
     },
     "execution_count": 15,
     "metadata": {},
     "output_type": "execute_result"
    }
   ],
   "source": [
    "# SQL query to select all values from the table and create the dataset that we're using for our analysis\n",
    "ride_combined_full_table_query = \"\"\"\n",
    "SELECT * FROM combined_ride_data_deduped\n",
    "\"\"\"\n",
    "\n",
    "# Run the query to select all values from the combined_ride_data_deduped table\n",
    "run_athena_query(ride_combined_full_table_query, database, s3_output_location)"
   ]
  },
  {
   "cell_type": "markdown",
   "id": "4492eaa8-b0cc-4a4d-9810-e9f1a39f21c7",
   "metadata": {},
   "source": [
    "### Define get_csv_file_location function and get Amazon S3 location of query results\n",
    "\n",
    "Specify the query ID from the preceding cell in the function call. The output is the Amazon S3 URI of the dataset. "
   ]
  },
  {
   "cell_type": "code",
   "execution_count": 16,
   "id": "97373c52-882b-4e44-8d75-a80d8d8c58df",
   "metadata": {},
   "outputs": [
    {
     "data": {
      "text/plain": [
       "'s3://ux360-nyc-taxi-dogfooding/f303cff8-5369-409a-9c51-8c791d446fe3.csv'"
      ]
     },
     "execution_count": 16,
     "metadata": {},
     "output_type": "execute_result"
    }
   ],
   "source": [
    "# Function to get the Amazon S3 URI location of Amazon Athena select statements\n",
    "def get_csv_file_location(query_execution_id):\n",
    "    athena_client = boto3.client('athena', region_name='us-east-1')\n",
    "    query_execution = athena_client.get_query_execution(QueryExecutionId=query_execution_id)\n",
    "    s3_location = query_execution['QueryExecution']['ResultConfiguration']['OutputLocation']\n",
    "\n",
    "    return s3_location\n",
    "\n",
    "# Provide the 36 character string at the end of the output of the preceding cell as the query.\n",
    "get_csv_file_location('ride_combined_full_table_query_execution_id')"
   ]
  },
  {
   "cell_type": "markdown",
   "id": "c7bf4f25-dc86-4f1f-95de-967c20c5a7af",
   "metadata": {},
   "source": [
    "### Download the dataset and rename it\n",
    "\n",
    "Replace the example S3 path in the following cell with the output of the preceding cell. The second command renames the CSV file it downloads to `nyc-taxi-whole-dataset.csv`."
   ]
  },
  {
   "cell_type": "code",
   "execution_count": 17,
   "id": "954022d5-bdf9-4dbd-be2e-66d0009ce522",
   "metadata": {},
   "outputs": [
    {
     "name": "stdout",
     "output_type": "stream",
     "text": [
      "download: s3://ux360-nyc-taxi-dogfooding/f303cff8-5369-409a-9c51-8c791d446fe3.csv to ./f303cff8-5369-409a-9c51-8c791d446fe3.csv\n",
      "mv: cannot stat 'query-id.csv': No such file or directory\n"
     ]
    }
   ],
   "source": [
    "# Use the S3 URI location returned from the preceding cell to download the dataset and rename it.\n",
    "!aws s3 cp s3://example-s3-bucket/ride_combined_full_table_query_execution_id.csv .\n",
    "!mv ride_combined_full_table_query_execution_id.csv nyc-taxi-whole-dataset.csv"
   ]
  },
  {
   "cell_type": "markdown",
   "id": "4d34ca22-8417-46f5-982f-dd22816f1d93",
   "metadata": {},
   "source": [
    "### Get a 20,000 row sample and some information about it"
   ]
  },
  {
   "cell_type": "code",
   "execution_count": 20,
   "id": "79d2f2a5-5111-4fb8-90f3-67474f1072c1",
   "metadata": {},
   "outputs": [],
   "source": [
    "sample_nyc_taxi_combined = pd.read_csv('nyc-taxi-whole-dataset.csv', nrows=20000)"
   ]
  },
  {
   "cell_type": "code",
   "execution_count": 21,
   "id": "f9dececa-272d-458c-9f64-baa13eca0832",
   "metadata": {},
   "outputs": [
    {
     "name": "stdout",
     "output_type": "stream",
     "text": [
      "Dataset shape:  (20000, 15)\n"
     ]
    }
   ],
   "source": [
    "print(\"Dataset shape: \", sample_nyc_taxi_combined.shape)"
   ]
  },
  {
   "cell_type": "code",
   "execution_count": 22,
   "id": "1c117a0f-429e-4913-aded-c839675f9e17",
   "metadata": {},
   "outputs": [
    {
     "data": {
      "text/html": [
       "<div>\n",
       "<style scoped>\n",
       "    .dataframe tbody tr th:only-of-type {\n",
       "        vertical-align: middle;\n",
       "    }\n",
       "\n",
       "    .dataframe tbody tr th {\n",
       "        vertical-align: top;\n",
       "    }\n",
       "\n",
       "    .dataframe thead th {\n",
       "        text-align: right;\n",
       "    }\n",
       "</style>\n",
       "<table border=\"1\" class=\"dataframe\">\n",
       "  <thead>\n",
       "    <tr style=\"text-align: right;\">\n",
       "      <th></th>\n",
       "      <th>ride_id</th>\n",
       "      <th>payment_type</th>\n",
       "      <th>fare_amount</th>\n",
       "      <th>extra</th>\n",
       "      <th>mta_tax</th>\n",
       "      <th>tip_amount</th>\n",
       "      <th>tolls_amount</th>\n",
       "      <th>total_amount</th>\n",
       "      <th>vendor_id</th>\n",
       "      <th>passenger_count</th>\n",
       "      <th>pickup_at</th>\n",
       "      <th>dropoff_at</th>\n",
       "      <th>trip_distance</th>\n",
       "      <th>rate_code_id</th>\n",
       "      <th>store_and_fwd_flag</th>\n",
       "    </tr>\n",
       "  </thead>\n",
       "  <tbody>\n",
       "    <tr>\n",
       "      <th>0</th>\n",
       "      <td>60131839014</td>\n",
       "      <td>1</td>\n",
       "      <td>7.5</td>\n",
       "      <td>0.0</td>\n",
       "      <td>0.5</td>\n",
       "      <td>1.66</td>\n",
       "      <td>0.0</td>\n",
       "      <td>9.96</td>\n",
       "      <td>2</td>\n",
       "      <td>1</td>\n",
       "      <td>2019-01-04T07:53:41.000Z</td>\n",
       "      <td>2019-01-04T08:02:20.000Z</td>\n",
       "      <td>1.45</td>\n",
       "      <td>1</td>\n",
       "      <td>N</td>\n",
       "    </tr>\n",
       "    <tr>\n",
       "      <th>1</th>\n",
       "      <td>60131839074</td>\n",
       "      <td>1</td>\n",
       "      <td>8.0</td>\n",
       "      <td>0.0</td>\n",
       "      <td>0.5</td>\n",
       "      <td>1.00</td>\n",
       "      <td>0.0</td>\n",
       "      <td>9.80</td>\n",
       "      <td>2</td>\n",
       "      <td>2</td>\n",
       "      <td>2019-01-04T07:05:28.000Z</td>\n",
       "      <td>2019-01-04T07:13:12.000Z</td>\n",
       "      <td>1.91</td>\n",
       "      <td>1</td>\n",
       "      <td>N</td>\n",
       "    </tr>\n",
       "    <tr>\n",
       "      <th>2</th>\n",
       "      <td>1391571568740</td>\n",
       "      <td>1</td>\n",
       "      <td>8.5</td>\n",
       "      <td>0.0</td>\n",
       "      <td>0.5</td>\n",
       "      <td>2.36</td>\n",
       "      <td>0.0</td>\n",
       "      <td>14.16</td>\n",
       "      <td>2</td>\n",
       "      <td>2</td>\n",
       "      <td>2019-02-05T10:59:56.000Z</td>\n",
       "      <td>2019-02-05T11:10:40.000Z</td>\n",
       "      <td>1.53</td>\n",
       "      <td>1</td>\n",
       "      <td>N</td>\n",
       "    </tr>\n",
       "    <tr>\n",
       "      <th>3</th>\n",
       "      <td>60131839130</td>\n",
       "      <td>1</td>\n",
       "      <td>8.0</td>\n",
       "      <td>0.0</td>\n",
       "      <td>0.5</td>\n",
       "      <td>1.76</td>\n",
       "      <td>0.0</td>\n",
       "      <td>10.56</td>\n",
       "      <td>2</td>\n",
       "      <td>1</td>\n",
       "      <td>2019-01-04T07:12:07.000Z</td>\n",
       "      <td>2019-01-04T07:20:07.000Z</td>\n",
       "      <td>1.68</td>\n",
       "      <td>1</td>\n",
       "      <td>N</td>\n",
       "    </tr>\n",
       "    <tr>\n",
       "      <th>4</th>\n",
       "      <td>1391571568912</td>\n",
       "      <td>1</td>\n",
       "      <td>5.0</td>\n",
       "      <td>0.0</td>\n",
       "      <td>0.5</td>\n",
       "      <td>1.66</td>\n",
       "      <td>0.0</td>\n",
       "      <td>9.96</td>\n",
       "      <td>2</td>\n",
       "      <td>1</td>\n",
       "      <td>2019-02-05T11:14:36.000Z</td>\n",
       "      <td>2019-02-05T11:19:52.000Z</td>\n",
       "      <td>0.65</td>\n",
       "      <td>1</td>\n",
       "      <td>N</td>\n",
       "    </tr>\n",
       "  </tbody>\n",
       "</table>\n",
       "</div>"
      ],
      "text/plain": [
       "         ride_id  payment_type  fare_amount  extra  mta_tax  tip_amount  \\\n",
       "0    60131839014             1          7.5    0.0      0.5        1.66   \n",
       "1    60131839074             1          8.0    0.0      0.5        1.00   \n",
       "2  1391571568740             1          8.5    0.0      0.5        2.36   \n",
       "3    60131839130             1          8.0    0.0      0.5        1.76   \n",
       "4  1391571568912             1          5.0    0.0      0.5        1.66   \n",
       "\n",
       "   tolls_amount  total_amount  vendor_id  passenger_count  \\\n",
       "0           0.0          9.96          2                1   \n",
       "1           0.0          9.80          2                2   \n",
       "2           0.0         14.16          2                2   \n",
       "3           0.0         10.56          2                1   \n",
       "4           0.0          9.96          2                1   \n",
       "\n",
       "                  pickup_at                dropoff_at  trip_distance  \\\n",
       "0  2019-01-04T07:53:41.000Z  2019-01-04T08:02:20.000Z           1.45   \n",
       "1  2019-01-04T07:05:28.000Z  2019-01-04T07:13:12.000Z           1.91   \n",
       "2  2019-02-05T10:59:56.000Z  2019-02-05T11:10:40.000Z           1.53   \n",
       "3  2019-01-04T07:12:07.000Z  2019-01-04T07:20:07.000Z           1.68   \n",
       "4  2019-02-05T11:14:36.000Z  2019-02-05T11:19:52.000Z           0.65   \n",
       "\n",
       "   rate_code_id store_and_fwd_flag  \n",
       "0             1                  N  \n",
       "1             1                  N  \n",
       "2             1                  N  \n",
       "3             1                  N  \n",
       "4             1                  N  "
      ]
     },
     "execution_count": 22,
     "metadata": {},
     "output_type": "execute_result"
    }
   ],
   "source": [
    "df = sample_nyc_taxi_combined\n",
    "\n",
    "df.head()"
   ]
  },
  {
   "cell_type": "code",
   "execution_count": 23,
   "id": "d3c56da9-0a1c-4c58-93e3-77260dfff40b",
   "metadata": {},
   "outputs": [
    {
     "name": "stdout",
     "output_type": "stream",
     "text": [
      "<class 'pandas.core.frame.DataFrame'>\n",
      "RangeIndex: 20000 entries, 0 to 19999\n",
      "Data columns (total 15 columns):\n",
      " #   Column              Non-Null Count  Dtype  \n",
      "---  ------              --------------  -----  \n",
      " 0   ride_id             20000 non-null  int64  \n",
      " 1   payment_type        20000 non-null  int64  \n",
      " 2   fare_amount         20000 non-null  float64\n",
      " 3   extra               20000 non-null  float64\n",
      " 4   mta_tax             20000 non-null  float64\n",
      " 5   tip_amount          20000 non-null  float64\n",
      " 6   tolls_amount        20000 non-null  float64\n",
      " 7   total_amount        20000 non-null  float64\n",
      " 8   vendor_id           20000 non-null  int64  \n",
      " 9   passenger_count     20000 non-null  int64  \n",
      " 10  pickup_at           20000 non-null  object \n",
      " 11  dropoff_at          20000 non-null  object \n",
      " 12  trip_distance       20000 non-null  float64\n",
      " 13  rate_code_id        20000 non-null  int64  \n",
      " 14  store_and_fwd_flag  20000 non-null  object \n",
      "dtypes: float64(7), int64(5), object(3)\n",
      "memory usage: 2.3+ MB\n"
     ]
    }
   ],
   "source": [
    "df.info()"
   ]
  },
  {
   "cell_type": "code",
   "execution_count": 24,
   "id": "dc25bcd9-a4b1-4491-867f-7534336d1ecd",
   "metadata": {},
   "outputs": [
    {
     "data": {
      "text/html": [
       "<div>\n",
       "<style scoped>\n",
       "    .dataframe tbody tr th:only-of-type {\n",
       "        vertical-align: middle;\n",
       "    }\n",
       "\n",
       "    .dataframe tbody tr th {\n",
       "        vertical-align: top;\n",
       "    }\n",
       "\n",
       "    .dataframe thead th {\n",
       "        text-align: right;\n",
       "    }\n",
       "</style>\n",
       "<table border=\"1\" class=\"dataframe\">\n",
       "  <thead>\n",
       "    <tr style=\"text-align: right;\">\n",
       "      <th></th>\n",
       "      <th>ride_id</th>\n",
       "      <th>payment_type</th>\n",
       "      <th>fare_amount</th>\n",
       "      <th>extra</th>\n",
       "      <th>mta_tax</th>\n",
       "      <th>tip_amount</th>\n",
       "      <th>tolls_amount</th>\n",
       "      <th>total_amount</th>\n",
       "      <th>vendor_id</th>\n",
       "      <th>passenger_count</th>\n",
       "      <th>trip_distance</th>\n",
       "      <th>rate_code_id</th>\n",
       "    </tr>\n",
       "  </thead>\n",
       "  <tbody>\n",
       "    <tr>\n",
       "      <th>count</th>\n",
       "      <td>2.000000e+04</td>\n",
       "      <td>20000.000000</td>\n",
       "      <td>20000.000000</td>\n",
       "      <td>20000.000000</td>\n",
       "      <td>20000.000000</td>\n",
       "      <td>20000.000000</td>\n",
       "      <td>20000.000000</td>\n",
       "      <td>20000.000000</td>\n",
       "      <td>20000.00000</td>\n",
       "      <td>20000.00000</td>\n",
       "      <td>20000.000000</td>\n",
       "      <td>20000.000000</td>\n",
       "    </tr>\n",
       "    <tr>\n",
       "      <th>mean</th>\n",
       "      <td>1.818963e+12</td>\n",
       "      <td>1.288700</td>\n",
       "      <td>12.920155</td>\n",
       "      <td>1.060540</td>\n",
       "      <td>0.496025</td>\n",
       "      <td>2.128392</td>\n",
       "      <td>0.376976</td>\n",
       "      <td>18.472139</td>\n",
       "      <td>1.62440</td>\n",
       "      <td>1.56845</td>\n",
       "      <td>2.928530</td>\n",
       "      <td>1.054400</td>\n",
       "    </tr>\n",
       "    <tr>\n",
       "      <th>std</th>\n",
       "      <td>1.210592e+12</td>\n",
       "      <td>0.476407</td>\n",
       "      <td>11.890878</td>\n",
       "      <td>1.230733</td>\n",
       "      <td>0.050959</td>\n",
       "      <td>2.601379</td>\n",
       "      <td>1.639528</td>\n",
       "      <td>14.664932</td>\n",
       "      <td>0.48429</td>\n",
       "      <td>1.21552</td>\n",
       "      <td>3.841776</td>\n",
       "      <td>0.363108</td>\n",
       "    </tr>\n",
       "    <tr>\n",
       "      <th>min</th>\n",
       "      <td>5.153977e+10</td>\n",
       "      <td>1.000000</td>\n",
       "      <td>-74.500000</td>\n",
       "      <td>-4.500000</td>\n",
       "      <td>-0.500000</td>\n",
       "      <td>0.000000</td>\n",
       "      <td>0.000000</td>\n",
       "      <td>-76.300000</td>\n",
       "      <td>1.00000</td>\n",
       "      <td>0.00000</td>\n",
       "      <td>0.000000</td>\n",
       "      <td>1.000000</td>\n",
       "    </tr>\n",
       "    <tr>\n",
       "      <th>25%</th>\n",
       "      <td>1.005022e+12</td>\n",
       "      <td>1.000000</td>\n",
       "      <td>6.500000</td>\n",
       "      <td>0.000000</td>\n",
       "      <td>0.500000</td>\n",
       "      <td>0.000000</td>\n",
       "      <td>0.000000</td>\n",
       "      <td>10.790000</td>\n",
       "      <td>1.00000</td>\n",
       "      <td>1.00000</td>\n",
       "      <td>0.940000</td>\n",
       "      <td>1.000000</td>\n",
       "    </tr>\n",
       "    <tr>\n",
       "      <th>50%</th>\n",
       "      <td>1.400160e+12</td>\n",
       "      <td>1.000000</td>\n",
       "      <td>9.000000</td>\n",
       "      <td>0.500000</td>\n",
       "      <td>0.500000</td>\n",
       "      <td>1.795000</td>\n",
       "      <td>0.000000</td>\n",
       "      <td>14.160000</td>\n",
       "      <td>2.00000</td>\n",
       "      <td>1.00000</td>\n",
       "      <td>1.600000</td>\n",
       "      <td>1.000000</td>\n",
       "    </tr>\n",
       "    <tr>\n",
       "      <th>75%</th>\n",
       "      <td>2.834679e+12</td>\n",
       "      <td>2.000000</td>\n",
       "      <td>14.500000</td>\n",
       "      <td>2.500000</td>\n",
       "      <td>0.500000</td>\n",
       "      <td>2.860000</td>\n",
       "      <td>0.000000</td>\n",
       "      <td>19.800000</td>\n",
       "      <td>2.00000</td>\n",
       "      <td>2.00000</td>\n",
       "      <td>3.000000</td>\n",
       "      <td>1.000000</td>\n",
       "    </tr>\n",
       "    <tr>\n",
       "      <th>max</th>\n",
       "      <td>3.839702e+12</td>\n",
       "      <td>4.000000</td>\n",
       "      <td>300.000000</td>\n",
       "      <td>7.000000</td>\n",
       "      <td>0.500000</td>\n",
       "      <td>52.160000</td>\n",
       "      <td>30.500000</td>\n",
       "      <td>312.960000</td>\n",
       "      <td>2.00000</td>\n",
       "      <td>6.00000</td>\n",
       "      <td>70.890000</td>\n",
       "      <td>5.000000</td>\n",
       "    </tr>\n",
       "  </tbody>\n",
       "</table>\n",
       "</div>"
      ],
      "text/plain": [
       "            ride_id  payment_type   fare_amount         extra       mta_tax  \\\n",
       "count  2.000000e+04  20000.000000  20000.000000  20000.000000  20000.000000   \n",
       "mean   1.818963e+12      1.288700     12.920155      1.060540      0.496025   \n",
       "std    1.210592e+12      0.476407     11.890878      1.230733      0.050959   \n",
       "min    5.153977e+10      1.000000    -74.500000     -4.500000     -0.500000   \n",
       "25%    1.005022e+12      1.000000      6.500000      0.000000      0.500000   \n",
       "50%    1.400160e+12      1.000000      9.000000      0.500000      0.500000   \n",
       "75%    2.834679e+12      2.000000     14.500000      2.500000      0.500000   \n",
       "max    3.839702e+12      4.000000    300.000000      7.000000      0.500000   \n",
       "\n",
       "         tip_amount  tolls_amount  total_amount    vendor_id  passenger_count  \\\n",
       "count  20000.000000  20000.000000  20000.000000  20000.00000      20000.00000   \n",
       "mean       2.128392      0.376976     18.472139      1.62440          1.56845   \n",
       "std        2.601379      1.639528     14.664932      0.48429          1.21552   \n",
       "min        0.000000      0.000000    -76.300000      1.00000          0.00000   \n",
       "25%        0.000000      0.000000     10.790000      1.00000          1.00000   \n",
       "50%        1.795000      0.000000     14.160000      2.00000          1.00000   \n",
       "75%        2.860000      0.000000     19.800000      2.00000          2.00000   \n",
       "max       52.160000     30.500000    312.960000      2.00000          6.00000   \n",
       "\n",
       "       trip_distance  rate_code_id  \n",
       "count   20000.000000  20000.000000  \n",
       "mean        2.928530      1.054400  \n",
       "std         3.841776      0.363108  \n",
       "min         0.000000      1.000000  \n",
       "25%         0.940000      1.000000  \n",
       "50%         1.600000      1.000000  \n",
       "75%         3.000000      1.000000  \n",
       "max        70.890000      5.000000  "
      ]
     },
     "execution_count": 24,
     "metadata": {},
     "output_type": "execute_result"
    }
   ],
   "source": [
    "df.describe()"
   ]
  },
  {
   "cell_type": "code",
   "execution_count": 25,
   "id": "18bd92b1-962a-40f2-b15f-7351d869f390",
   "metadata": {},
   "outputs": [
    {
     "data": {
      "text/plain": [
       "vendor_id\n",
       "2    12488\n",
       "1     7512\n",
       "Name: count, dtype: int64"
      ]
     },
     "execution_count": 25,
     "metadata": {},
     "output_type": "execute_result"
    }
   ],
   "source": [
    "df['vendor_id'].value_counts()"
   ]
  },
  {
   "cell_type": "code",
   "execution_count": 26,
   "id": "e4c4997f-85d8-4f57-a60c-51e3568cfe2e",
   "metadata": {},
   "outputs": [
    {
     "data": {
      "text/plain": [
       "passenger_count\n",
       "1    14030\n",
       "2     3040\n",
       "3      857\n",
       "5      850\n",
       "6      487\n",
       "4      379\n",
       "0      357\n",
       "Name: count, dtype: int64"
      ]
     },
     "execution_count": 26,
     "metadata": {},
     "output_type": "execute_result"
    }
   ],
   "source": [
    "df['passenger_count'].value_counts()"
   ]
  },
  {
   "cell_type": "markdown",
   "id": "ae527104-9312-498c-b0ee-d1e2303bf500",
   "metadata": {},
   "source": [
    "### View the distribution of fare amount values"
   ]
  },
  {
   "cell_type": "code",
   "execution_count": 27,
   "id": "641c278d-8fed-42b8-98d1-becba90d6259",
   "metadata": {},
   "outputs": [
    {
     "data": {
      "text/plain": [
       "<function matplotlib.pyplot.show(close=None, block=None)>"
      ]
     },
     "execution_count": 27,
     "metadata": {},
     "output_type": "execute_result"
    },
    {
     "data": {
      "image/png": "[encoded data removed]",
      "text/plain": [
       "<Figure size 640x480 with 1 Axes>"
      ]
     },
     "metadata": {},
     "output_type": "display_data"
    }
   ],
   "source": [
    "# Plot to find the distribution of ride fare values\n",
    "import matplotlib.pyplot as plt\n",
    "plt.hist(df['fare_amount'], edgecolor='black', bins=30, range=(0,100))\n",
    "plt.xlabel('Fare Amount')\n",
    "plt.ylabel('Count')\n",
    "plt.show"
   ]
  },
  {
   "cell_type": "markdown",
   "id": "65d141c4-95ba-4176-8794-1475cb8f2a62",
   "metadata": {},
   "source": [
    "### Make sure that all rows are unique"
   ]
  },
  {
   "cell_type": "code",
   "execution_count": 28,
   "id": "9d484f57-f150-45b5-9cc5-cc10a6e8e9f1",
   "metadata": {},
   "outputs": [
    {
     "data": {
      "text/plain": [
       "20000"
      ]
     },
     "execution_count": 28,
     "metadata": {},
     "output_type": "execute_result"
    }
   ],
   "source": [
    "df['ride_id'].nunique()"
   ]
  },
  {
   "cell_type": "markdown",
   "id": "abc60782-4411-46e0-9d31-55adaa4dd1f5",
   "metadata": {},
   "source": [
    "### Drop the store_and_fwd flag\n",
    "\n",
    "Determining its relevance isn't in scope for this tutorial."
   ]
  },
  {
   "cell_type": "code",
   "execution_count": 29,
   "id": "f627790e-8aed-48e3-9c5d-52775bbb124d",
   "metadata": {},
   "outputs": [],
   "source": [
    "df.drop('store_and_fwd_flag', axis=1, inplace=True)"
   ]
  },
  {
   "cell_type": "markdown",
   "id": "96fc51be-6a0f-44e6-abb8-2a6bf9188367",
   "metadata": {},
   "source": [
    "### Drop the time series columns\n",
    "\n",
    "Analyzing the time series data also isn't in scope for this analysis."
   ]
  },
  {
   "cell_type": "code",
   "execution_count": 30,
   "id": "c359f4db-b503-4d80-bb4c-55dc411f9b5e",
   "metadata": {},
   "outputs": [],
   "source": [
    "# We're dropping the time series columns to streamline the analysis.\n",
    "time_series_columns_to_drop = ['pickup_at','dropoff_at']\n",
    "df.drop(columns=time_series_columns_to_drop, inplace=True)"
   ]
  },
  {
   "cell_type": "markdown",
   "id": "ad5d1df6-d418-483a-b06d-848205f3f8ed",
   "metadata": {},
   "source": [
    "### Install seaborn and create scatterplots"
   ]
  },
  {
   "cell_type": "code",
   "execution_count": 31,
   "id": "05abe8af-bf44-471b-b130-19cee0dd822f",
   "metadata": {},
   "outputs": [
    {
     "name": "stdout",
     "output_type": "stream",
     "text": [
      "Collecting seaborn\n",
      "  Downloading seaborn-0.13.2-py3-none-any.whl.metadata (5.4 kB)\n",
      "Requirement already satisfied: numpy!=1.24.0,>=1.20 in /opt/conda/lib/python3.10/site-packages (from seaborn) (1.26.4)\n",
      "Requirement already satisfied: pandas>=1.2 in /opt/conda/lib/python3.10/site-packages (from seaborn) (2.1.4)\n",
      "Requirement already satisfied: matplotlib!=3.6.1,>=3.4 in /opt/conda/lib/python3.10/site-packages (from seaborn) (3.8.4)\n",
      "Requirement already satisfied: contourpy>=1.0.1 in /opt/conda/lib/python3.10/site-packages (from matplotlib!=3.6.1,>=3.4->seaborn) (1.2.1)\n",
      "Requirement already satisfied: cycler>=0.10 in /opt/conda/lib/python3.10/site-packages (from matplotlib!=3.6.1,>=3.4->seaborn) (0.12.1)\n",
      "Requirement already satisfied: fonttools>=4.22.0 in /opt/conda/lib/python3.10/site-packages (from matplotlib!=3.6.1,>=3.4->seaborn) (4.51.0)\n",
      "Requirement already satisfied: kiwisolver>=1.3.1 in /opt/conda/lib/python3.10/site-packages (from matplotlib!=3.6.1,>=3.4->seaborn) (1.4.5)\n",
      "Requirement already satisfied: packaging>=20.0 in /opt/conda/lib/python3.10/site-packages (from matplotlib!=3.6.1,>=3.4->seaborn) (23.2)\n",
      "Requirement already satisfied: pillow>=8 in /opt/conda/lib/python3.10/site-packages (from matplotlib!=3.6.1,>=3.4->seaborn) (10.3.0)\n",
      "Requirement already satisfied: pyparsing>=2.3.1 in /opt/conda/lib/python3.10/site-packages (from matplotlib!=3.6.1,>=3.4->seaborn) (3.1.2)\n",
      "Requirement already satisfied: python-dateutil>=2.7 in /opt/conda/lib/python3.10/site-packages (from matplotlib!=3.6.1,>=3.4->seaborn) (2.9.0)\n",
      "Requirement already satisfied: pytz>=2020.1 in /opt/conda/lib/python3.10/site-packages (from pandas>=1.2->seaborn) (2023.3)\n",
      "Requirement already satisfied: tzdata>=2022.1 in /opt/conda/lib/python3.10/site-packages (from pandas>=1.2->seaborn) (2024.1)\n",
      "Requirement already satisfied: six>=1.5 in /opt/conda/lib/python3.10/site-packages (from python-dateutil>=2.7->matplotlib!=3.6.1,>=3.4->seaborn) (1.16.0)\n",
      "Downloading seaborn-0.13.2-py3-none-any.whl (294 kB)\n",
      "\u001b[2K   \u001b[90m━━━━━━━━━━━━━━━━━━━━━━━━━━━━━━━━━━━━━━━━\u001b[0m \u001b[32m294.9/294.9 kB\u001b[0m \u001b[31m15.5 MB/s\u001b[0m eta \u001b[36m0:00:00\u001b[0m\n",
      "\u001b[?25hInstalling collected packages: seaborn\n",
      "Successfully installed seaborn-0.13.2\n"
     ]
    }
   ],
   "source": [
    "!pip install seaborn"
   ]
  },
  {
   "cell_type": "code",
   "execution_count": 32,
   "id": "b6a10b9b-e916-48a9-88f5-ae94db2f6576",
   "metadata": {},
   "outputs": [
    {
     "data": {
      "image/png": "[encoded data removed]",
      "text/plain": [
       "<Figure size 5000x1000 with 11 Axes>"
      ]
     },
     "metadata": {},
     "output_type": "display_data"
    }
   ],
   "source": [
    "# Create visualizations showing correlations between variables.\n",
    "import seaborn as sns\n",
    "target = 'fare_amount'\n",
    "features = [col for col in df.columns if col != target]\n",
    "\n",
    "# Create a figure with subplots\n",
    "fig, axes = plt.subplots(nrows=1, ncols=len(features), figsize=(50, 10))\n",
    "\n",
    "# Create scatter plots\n",
    "for i, feature in enumerate(features):\n",
    "    sns.scatterplot(x=df[feature], y=df[target], ax=axes[i])\n",
    "    axes[i].set_title(f'{feature} vs {target}')\n",
    "    axes[i].set_xlabel(feature)\n",
    "    axes[i].set_ylabel(target)\n",
    "\n",
    "plt.tight_layout()\n",
    "plt.show()"
   ]
  },
  {
   "cell_type": "markdown",
   "id": "11c33316-1502-46b1-b265-6cf43d0d8f1d",
   "metadata": {},
   "source": [
    "## Calculate the correlation coefficient between each feature and fare amount"
   ]
  },
  {
   "cell_type": "code",
   "execution_count": 33,
   "id": "d8dff114-adb5-4b34-a788-b93e42a2fee4",
   "metadata": {},
   "outputs": [
    {
     "name": "stdout",
     "output_type": "stream",
     "text": [
      "tip_amount 0.5743753694582684\n",
      "tolls_amount 0.6327404045395644\n",
      "extra -0.008246801964138361\n",
      "mta_tax -0.1628089444699402\n",
      "total_amount 0.9783791092253548\n",
      "trip_distance 0.8848067140931489\n"
     ]
    }
   ],
   "source": [
    "# extra and mta_tax seem weakly correlated\n",
    "# total_amount is almost perfectly correlated, indicating target leakage.\n",
    "continuous_features = ['tip_amount', 'tolls_amount', 'extra', 'mta_tax', 'total_amount', 'trip_distance']\n",
    "\n",
    "for i in continuous_features:\n",
    "    correlation = df['fare_amount'].corr(df[i])\n",
    "    print(i, correlation)"
   ]
  },
  {
   "cell_type": "markdown",
   "id": "7ea2dc4f-c366-43f0-8a81-44ecd8289a3d",
   "metadata": {},
   "source": [
    "### Calculate a one way ANOVA between the groups\n",
    "\n",
    "From running the ANOVA, `mta_tax` and `extra` have the most variance between the groups. We're using them as features to train our model."
   ]
  },
  {
   "cell_type": "code",
   "execution_count": 34,
   "id": "3e083025-3312-4fd9-8cd2-4c8e37db5859",
   "metadata": {},
   "outputs": [
    {
     "name": "stdout",
     "output_type": "stream",
     "text": [
      "Feature: payment_type, F-statistic: 22.20, p-value: 0.00000\n",
      "Feature: extra, F-statistic: 130.42, p-value: 0.00000\n",
      "Feature: mta_tax, F-statistic: 999.42, p-value: 0.00000\n",
      "Feature: vendor_id, F-statistic: 12.42, p-value: 0.00042\n",
      "Feature: passenger_count, F-statistic: 2.57, p-value: 0.01744\n"
     ]
    }
   ],
   "source": [
    "# The mta tax and extra have the most variance between the groups\n",
    "from scipy.stats import f_oneway\n",
    "# Separate features and target variable\n",
    "X = df[['payment_type', 'extra', 'mta_tax', 'vendor_id', 'passenger_count']]\n",
    "y = df['fare_amount']\n",
    "\n",
    "# Perform one-way ANOVA for each feature\n",
    "for feature in X.columns:\n",
    "    groups = [y[X[feature] == group] for group in X[feature].unique()]\n",
    "    if len(groups) > 1:\n",
    "        f_statistic, p_value = f_oneway(*groups)\n",
    "        print(f'Feature: {feature}, F-statistic: {f_statistic:.2f}, p-value: {p_value:.5f}')"
   ]
  },
  {
   "cell_type": "markdown",
   "id": "5b2f3d07-8010-43c4-873e-f462fd0bd94e",
   "metadata": {},
   "source": [
    "### Run a query to get the dataset we're using for ML workflow\n",
    "\n",
    "The XGBoost algorithm on Amazon SageMaker uses the first column as the target column. `fare_amount` must be the first column in our query."
   ]
  },
  {
   "cell_type": "code",
   "execution_count": 35,
   "id": "0dbcf599-076c-468e-9e9b-2e0bd53c3fa7",
   "metadata": {},
   "outputs": [
    {
     "name": "stdout",
     "output_type": "stream",
     "text": [
      "Query execution ID: e9866ba2-8e0d-426f-a601-e6ca24890b71\n",
      "Query is currently in QUEUED state. Waiting for completion...\n",
      "Query is currently in RUNNING state. Waiting for completion...\n",
      "Query is currently in RUNNING state. Waiting for completion...\n",
      "Query is currently in RUNNING state. Waiting for completion...\n",
      "Query is currently in RUNNING state. Waiting for completion...\n",
      "Query is currently in RUNNING state. Waiting for completion...\n",
      "Query is currently in RUNNING state. Waiting for completion...\n",
      "Query is currently in RUNNING state. Waiting for completion...\n",
      "Query is currently in RUNNING state. Waiting for completion...\n",
      "Query is currently in RUNNING state. Waiting for completion...\n",
      "Query is currently in RUNNING state. Waiting for completion...\n",
      "Query is currently in RUNNING state. Waiting for completion...\n",
      "Query executed successfully.\n"
     ]
    },
    {
     "data": {
      "text/plain": [
       "'e9866ba2-8e0d-426f-a601-e6ca24890b71'"
      ]
     },
     "execution_count": 35,
     "metadata": {},
     "output_type": "execute_result"
    }
   ],
   "source": [
    "# Final select statement has tip_amount, tolls_amount, extra, mta_tax, trip_distance\n",
    "ride_combined_notebook_relevant_features_query = \"\"\"\n",
    "SELECT fare_amount, tip_amount, tolls_amount, extra, mta_tax, trip_distance FROM combined_ride_data_deduped\n",
    "\"\"\"\n",
    "\n",
    "run_athena_query(ride_combined_notebook_relevant_features_query, database, s3_output_location)"
   ]
  },
  {
   "cell_type": "markdown",
   "id": "4bbfeb06-e0e2-4ce0-9e73-98894053592d",
   "metadata": {},
   "source": [
    "### Get the Amazon S3 URI of the dataset"
   ]
  },
  {
   "cell_type": "code",
   "execution_count": 36,
   "id": "624a7833-c815-480e-b1da-c29da3d02c76",
   "metadata": {},
   "outputs": [
    {
     "data": {
      "text/plain": [
       "'s3://ux360-nyc-taxi-dogfooding/e9866ba2-8e0d-426f-a601-e6ca24890b71.csv'"
      ]
     },
     "execution_count": 36,
     "metadata": {},
     "output_type": "execute_result"
    }
   ],
   "source": [
    "get_csv_file_location('ride_combined_notebook_relevant_features_query_execution_id')"
   ]
  },
  {
   "cell_type": "markdown",
   "id": "4632047c-eabc-495a-9758-b55b78937f73",
   "metadata": {},
   "source": [
    "### Run a SageMaker processing job to split the data\n",
    "\n",
    "The code in `processing_data_split.py` splits the dataset into training, validation, and test sets. We use a SageMaker processing job to provide the compute needed to transform large volumes of data. For more information about processing jobs, see [Use processing jobs to run data transformation workloads](https://docs.aws.amazon.com/sagemaker/latest/dg/processing-job.html). For more information about running sci-kit scripts, see [Data Processing with scikit-learn](https://docs.aws.amazon.com/sagemaker/latest/dg/use-scikit-learn-processing-container.html). \n",
    "\n",
    "For faster processing, we recommend using an `instance_count` of `2`, but you can use whatever value you prefer.\n",
    "\n",
    "For `source` within the `ProcessingInput` function, replace `'s3://example-s3-bucket/ride_combined_notebook_relevant_features_query_execution_id.csv'` with the output of the preceding cell. Within `processing_data_split.py`, you specify `/opt/ml/processing/input/query-id` as the `input_path`. The processing job is copying the query results to a location within its own container.\n",
    "\n",
    "For `Destination` under `ProcessingOutput`, replace `example-s3-bucket` with the Amazon S3 bucket that you've created."
   ]
  },
  {
   "cell_type": "code",
   "execution_count": 42,
   "id": "788cae3c-a34b-4ee0-899e-0a461e21b210",
   "metadata": {},
   "outputs": [
    {
     "name": "stderr",
     "output_type": "stream",
     "text": [
      "INFO:sagemaker.image_uris:Defaulting to only available Python version: py3\n",
      "INFO:sagemaker:Creating processing-job with name sagemaker-scikit-learn-2024-06-25-17-41-19-446\n"
     ]
    },
    {
     "name": "stdout",
     "output_type": "stream",
     "text": [
      "...........\u001b[34m/miniconda3/lib/python3.7/site-packages/sklearn/externals/joblib/externals/cloudpickle/cloudpickle.py:47: DeprecationWarning: the imp module is deprecated in favour of importlib; see the module's documentation for alternative uses\n",
      "  import imp\u001b[0m\n",
      "\u001b[34m/miniconda3/lib/python3.7/site-packages/sklearn/utils/validation.py:37: DeprecationWarning: distutils Version classes are deprecated. Use packaging.version instead.\n",
      "  LARGE_SPARSE_SUPPORTED = LooseVersion(scipy_version) >= '0.14.0'\u001b[0m\n",
      "\u001b[35m/miniconda3/lib/python3.7/site-packages/sklearn/externals/joblib/externals/cloudpickle/cloudpickle.py:47: DeprecationWarning: the imp module is deprecated in favour of importlib; see the module's documentation for alternative uses\n",
      "  import imp\u001b[0m\n",
      "\u001b[35m/miniconda3/lib/python3.7/site-packages/sklearn/utils/validation.py:37: DeprecationWarning: distutils Version classes are deprecated. Use packaging.version instead.\n",
      "  LARGE_SPARSE_SUPPORTED = LooseVersion(scipy_version) >= '0.14.0'\u001b[0m\n",
      "\u001b[34msys:1: DtypeWarning: Columns (0,1,2,3,4,5) have mixed types. Specify dtype option on import or set low_memory=False.\u001b[0m\n",
      "\u001b[35msys:1: DtypeWarning: Columns (0,1,2,3,4,5) have mixed types. Specify dtype option on import or set low_memory=False.\u001b[0m\n",
      "\u001b[35mTraining set: 30940496 samples\u001b[0m\n",
      "\u001b[35mValidation set: 6630106 samples\u001b[0m\n",
      "\u001b[35mTest set: 6630107 samples\u001b[0m\n",
      "\u001b[34mTraining set: 30940496 samples\u001b[0m\n",
      "\u001b[34mValidation set: 6630106 samples\u001b[0m\n",
      "\u001b[34mTest set: 6630107 samples\u001b[0m\n",
      "\n"
     ]
    }
   ],
   "source": [
    "import sagemaker\n",
    "from sagemaker.sklearn.processing import SKLearnProcessor\n",
    "from sagemaker.processing import ProcessingInput, ProcessingOutput\n",
    "\n",
    "\n",
    "\n",
    "# Define the SageMaker execution role\n",
    "role = sagemaker.get_execution_role()\n",
    "\n",
    "# Define the SKLearnProcessor\n",
    "sklearn_processor = SKLearnProcessor(framework_version='0.20.0',\n",
    "                                     role=role,\n",
    "                                     instance_type='ml.m5.4xlarge',\n",
    "                                     instance_count=2)\n",
    "\n",
    "# Run the processing job\n",
    "sklearn_processor.run(\n",
    "    code='processing_data_split.py', \n",
    "    inputs=[ProcessingInput(\n",
    "        source='s3://example-s3-bucket/ride_combined_notebook_relevant_features_query_execution_id.csv',\n",
    "        destination='/opt/ml/processing/input'\n",
    "    )],\n",
    "    outputs=[\n",
    "        ProcessingOutput(\n",
    "            source='/opt/ml/processing/output/train',\n",
    "            destination='s3://ux360-nyc-taxi-dogfooding/output/train'\n",
    "        ),\n",
    "        ProcessingOutput(\n",
    "            source='/opt/ml/processing/output/validation',\n",
    "            destination='s3://ux360-nyc-taxi-dogfooding/output/validation'\n",
    "        ),\n",
    "        ProcessingOutput(\n",
    "            source='/opt/ml/processing/output/test',\n",
    "            destination='s3://ux360-nyc-taxi-dogfooding/output/test'\n",
    "        )\n",
    "    ]\n",
    ")\n"
   ]
  },
  {
   "cell_type": "markdown",
   "id": "bc164657-fd8f-4f96-89ff-23e991945ea4",
   "metadata": {},
   "source": [
    "### Verify that train.csv is in the location that you've specified"
   ]
  },
  {
   "cell_type": "code",
   "execution_count": 43,
   "id": "41cb0fb0-079d-421d-a4b8-005ee38fc472",
   "metadata": {},
   "outputs": [
    {
     "name": "stdout",
     "output_type": "stream",
     "text": [
      "2024-06-25 17:49:51  794185864 train.csv\n"
     ]
    }
   ],
   "source": [
    "#Verify that train.csv is in the location that you've specified\n",
    "!aws s3 ls s3://ux360-nyc-taxi-dogfooding/output/train/train.csv"
   ]
  },
  {
   "cell_type": "markdown",
   "id": "d0d2ba3c-fd6d-4aa0-b75b-92ba5a70ad00",
   "metadata": {},
   "source": [
    "### Verify that val.csv is in the location that you've specified"
   ]
  },
  {
   "cell_type": "code",
   "execution_count": 44,
   "id": "ee3f29f1-a135-4bf6-bba5-595fb80c471d",
   "metadata": {},
   "outputs": [
    {
     "name": "stdout",
     "output_type": "stream",
     "text": [
      "2024-06-25 17:49:51  170183603 val.csv\n"
     ]
    }
   ],
   "source": [
    "#Verify that val.csv is in the location that you've specified\n",
    "!aws s3 ls s3://ux360-nyc-taxi-dogfooding/output/validation/val.csv"
   ]
  },
  {
   "cell_type": "markdown",
   "id": "c92d4b89-65a5-474b-aa22-dcb442c344b9",
   "metadata": {},
   "source": [
    "### Specify `train.csv` and `val.csv` as the input for the training job"
   ]
  },
  {
   "cell_type": "code",
   "execution_count": 45,
   "id": "1e4e4113-b76c-49d5-a3b0-2327eb174fdf",
   "metadata": {},
   "outputs": [],
   "source": [
    "from sagemaker.session import TrainingInput\n",
    "\n",
    "bucket = 'example-s3-bucket'\n",
    "\n",
    "train_input = TrainingInput(\n",
    "    f\"s3://{bucket}/output/train/train.csv\", content_type=\"csv\"\n",
    ")\n",
    "validation_input = TrainingInput(\n",
    "    f\"s3://{bucket}/output/validation/val.csv\", content_type=\"csv\"\n",
    ")"
   ]
  },
  {
   "cell_type": "markdown",
   "id": "866262fe-5737-49af-9cde-af55575e07d1",
   "metadata": {},
   "source": [
    "### Specify the model container and output location of the model artifact\n",
    "\n",
    "Specify the S3 location of the trained model artifact. You can access it later.\n",
    "\n",
    "It also gets the URI of the container image. We used version `1.2-2` of the XGBoost container image, but you can specify a different version. For more information about XGBoost container images, see [Use the XGBoost algorithm with Amazon SageMaker](https://docs.aws.amazon.com/sagemaker/latest/dg/xgboost.html).  "
   ]
  },
  {
   "cell_type": "code",
   "execution_count": 46,
   "id": "d5b6a9b2-54e5-4dfd-9a5e-3c7442f6d5af",
   "metadata": {},
   "outputs": [
    {
     "name": "stderr",
     "output_type": "stream",
     "text": [
      "INFO:sagemaker.image_uris:Ignoring unnecessary instance type: None.\n"
     ]
    },
    {
     "name": "stdout",
     "output_type": "stream",
     "text": [
      "683313688378.dkr.ecr.us-east-1.amazonaws.com/sagemaker-xgboost:1.2-2\n"
     ]
    }
   ],
   "source": [
    "# Getting the XGBoost container that's in us-east-1\n",
    "prefix = \"training-output-data\"\n",
    "region = \"us-east-1\"\n",
    "\n",
    "from sagemaker.debugger import Rule, ProfilerRule, rule_configs\n",
    "from sagemaker.session import TrainingInput\n",
    "\n",
    "s3_output_location = f's3://{bucket}/{prefix}/xgboost_model'\n",
    "\n",
    "container = sagemaker.image_uris.retrieve(\"xgboost\", region, \"1.2-2\")\n",
    "print(container)"
   ]
  },
  {
   "cell_type": "markdown",
   "id": "d04e189b-6f38-44cf-a046-6791abd32c00",
   "metadata": {},
   "source": [
    "### Define the model"
   ]
  },
  {
   "cell_type": "code",
   "execution_count": 47,
   "id": "44efb3a1-acf0-4193-987f-85025c7c3894",
   "metadata": {},
   "outputs": [],
   "source": [
    "xgb_model = sagemaker.estimator.Estimator(\n",
    "    image_uri = container,\n",
    "    role = role,\n",
    "    instance_count = 2,\n",
    "    region = region,\n",
    "    instance_type = 'ml.m5.4xlarge',\n",
    "    volume_size = 5, \n",
    "    output_path = s3_output_location,\n",
    "    sagemaker_session = sagemaker.Session(),\n",
    "    rules = [\n",
    "        Rule.sagemaker(rule_configs.create_xgboost_report()),\n",
    "        ProfilerRule.sagemaker(rule_configs.ProfilerReport())\n",
    "    ]\n",
    ")"
   ]
  },
  {
   "cell_type": "markdown",
   "id": "44f1c8b1-7bf0-4381-9128-b00c2bfcf9f1",
   "metadata": {},
   "source": [
    "### Set the model hyperparameters\n",
    "\n",
    "For the purposes of running the training job more quickly, we set the number of training rounds to 10."
   ]
  },
  {
   "cell_type": "code",
   "execution_count": 48,
   "id": "e28512bf-d246-4a46-a0c8-24d1a8ad65a8",
   "metadata": {},
   "outputs": [],
   "source": [
    "xgb_model.set_hyperparameters(\n",
    "    max_depth = 5,\n",
    "    eta = 0.2,\n",
    "    gamma = 4,\n",
    "    min_child_weight = 6,\n",
    "    subsample = 0.7,\n",
    "    objective = \"reg:squarederror\",\n",
    "    num_round = 10\n",
    ")"
   ]
  },
  {
   "cell_type": "markdown",
   "id": "e5b6ed18-990f-4ec7-9d42-6965ec67e2ce",
   "metadata": {},
   "source": [
    "### Train the model"
   ]
  },
  {
   "cell_type": "code",
   "execution_count": 49,
   "id": "58b77fc0-407d-4743-ae35-7bc7b04478e6",
   "metadata": {},
   "outputs": [
    {
     "name": "stderr",
     "output_type": "stream",
     "text": [
      "INFO:sagemaker.image_uris:Defaulting to the only supported framework/algorithm version: latest.\n",
      "INFO:sagemaker.image_uris:Ignoring unnecessary instance type: None.\n",
      "INFO:sagemaker.image_uris:Defaulting to the only supported framework/algorithm version: latest.\n",
      "INFO:sagemaker.image_uris:Ignoring unnecessary instance type: None.\n",
      "INFO:sagemaker:Creating training-job with name: sagemaker-xgboost-2024-06-25-18-20-44-522\n"
     ]
    },
    {
     "name": "stdout",
     "output_type": "stream",
     "text": [
      "2024-06-25 18:20:45 Starting - Starting the training job...CreateXgboostReport: InProgress\n",
      "ProfilerReport: InProgress\n",
      "...\n",
      "2024-06-25 18:21:29 Starting - Preparing the instances for training...\n",
      "2024-06-25 18:22:09 Downloading - Downloading input data......\n",
      "2024-06-25 18:23:12 Training - Training image download completed. Training in progress....\u001b[34m[2024-06-25 18:23:33.281 ip-10-2-65-56.ec2.internal:7 INFO utils.py:27] RULE_JOB_STOP_SIGNAL_FILENAME: None\u001b[0m\n",
      "\u001b[34m[2024-06-25:18:23:33:INFO] Imported framework sagemaker_xgboost_container.training\u001b[0m\n",
      "\u001b[34m[2024-06-25:18:23:33:INFO] Failed to parse hyperparameter objective value reg:squarederror to Json.\u001b[0m\n",
      "\u001b[34mReturning the value itself\u001b[0m\n",
      "\u001b[34m[2024-06-25:18:23:33:INFO] No GPUs detected (normal if no gpus installed)\u001b[0m\n",
      "\u001b[34m[2024-06-25:18:23:33:INFO] Running XGBoost Sagemaker in algorithm mode\u001b[0m\n",
      "\u001b[34m[2024-06-25:18:23:33:INFO] Determined delimiter of CSV input is ','\u001b[0m\n",
      "\u001b[34m[2024-06-25:18:23:33:INFO] Determined delimiter of CSV input is ','\u001b[0m\n",
      "\u001b[34m[2024-06-25:18:23:33:INFO] Determined delimiter of CSV input is ','\u001b[0m\n",
      "\u001b[35m[2024-06-25 18:23:38.246 ip-10-2-111-68.ec2.internal:7 INFO utils.py:27] RULE_JOB_STOP_SIGNAL_FILENAME: None\u001b[0m\n",
      "\u001b[35m[2024-06-25:18:23:38:INFO] Imported framework sagemaker_xgboost_container.training\u001b[0m\n",
      "\u001b[35m[2024-06-25:18:23:38:INFO] Failed to parse hyperparameter objective value reg:squarederror to Json.\u001b[0m\n",
      "\u001b[35mReturning the value itself\u001b[0m\n",
      "\u001b[35m[2024-06-25:18:23:38:INFO] No GPUs detected (normal if no gpus installed)\u001b[0m\n",
      "\u001b[35m[2024-06-25:18:23:38:INFO] Running XGBoost Sagemaker in algorithm mode\u001b[0m\n",
      "\u001b[35m[2024-06-25:18:23:38:INFO] Determined delimiter of CSV input is ','\u001b[0m\n",
      "\u001b[35m[2024-06-25:18:23:38:INFO] Determined delimiter of CSV input is ','\u001b[0m\n",
      "\u001b[35m[2024-06-25:18:23:38:INFO] Determined delimiter of CSV input is ','\u001b[0m\n",
      "\u001b[34m[2024-06-25:18:23:42:INFO] Determined delimiter of CSV input is ','\u001b[0m\n",
      "\u001b[34m[2024-06-25:18:23:43:INFO] Distributed node training with 2 hosts: ['algo-1', 'algo-2']\u001b[0m\n",
      "\u001b[34m[2024-06-25:18:23:43:INFO] start listen on algo-1:9099\u001b[0m\n",
      "\u001b[34m[2024-06-25:18:23:43:INFO] Rabit slave environment: {'DMLC_TRACKER_URI': 'algo-1', 'DMLC_TRACKER_PORT': 9099}\u001b[0m\n",
      "\u001b[34m[2024-06-25:18:23:43:INFO] Connected to RabitTracker.\u001b[0m\n",
      "\u001b[34m[2024-06-25:18:23:43:INFO] No data received from connection ('10.2.65.56', 37490). Closing.\u001b[0m\n",
      "\u001b[34mtask NULL connected to the tracker\u001b[0m\n",
      "\u001b[35m[2024-06-25:18:23:47:INFO] Determined delimiter of CSV input is ','\u001b[0m\n",
      "\u001b[35m[2024-06-25:18:23:48:INFO] Distributed node training with 2 hosts: ['algo-1', 'algo-2']\u001b[0m\n",
      "\u001b[35m[2024-06-25:18:23:48:INFO] Connected to RabitTracker.\u001b[0m\n",
      "\u001b[35mtask NULL connected to the tracker\u001b[0m\n",
      "\u001b[35mtask NULL got new rank 0\u001b[0m\n",
      "\u001b[34m[2024-06-25:18:23:48:INFO] No data received from connection ('10.2.111.68', 42310). Closing.\u001b[0m\n",
      "\u001b[34m[2024-06-25:18:23:49:INFO] Recieve start signal from 10.2.111.68; assign rank 0\u001b[0m\n",
      "\u001b[34mtask NULL got new rank 1\u001b[0m\n",
      "\u001b[34m[2024-06-25:18:23:49:INFO] Recieve start signal from 10.2.65.56; assign rank 1\u001b[0m\n",
      "\u001b[34m[2024-06-25:18:23:49:INFO] @tracker All of 2 nodes getting started\u001b[0m\n",
      "\u001b[34m[2024-06-25:18:23:49:INFO] @tracker All nodes finishes job\u001b[0m\n",
      "\u001b[34m[2024-06-25:18:23:49:INFO] @tracker 0.1758573055267334 secs between node start and job finish\u001b[0m\n",
      "\u001b[34m[2024-06-25:18:23:49:INFO] start listen on algo-1:9100\u001b[0m\n",
      "\u001b[34m[2024-06-25:18:23:49:INFO] Rabit slave environment: {'DMLC_TRACKER_URI': 'algo-1', 'DMLC_TRACKER_PORT': 9100}\u001b[0m\n",
      "\u001b[34m[2024-06-25:18:23:49:INFO] Connected to RabitTracker.\u001b[0m\n",
      "\u001b[34m[2024-06-25:18:23:49:INFO] No data received from connection ('10.2.65.56', 38280). Closing.\u001b[0m\n",
      "\u001b[34mtask NULL connected to the tracker\u001b[0m\n",
      "\u001b[35m[2024-06-25:18:23:49:INFO] Failed to connect to RabitTracker on attempt 0\u001b[0m\n",
      "\u001b[35m[2024-06-25:18:23:49:INFO] Sleeping for 3 sec before retrying\u001b[0m\n",
      "\u001b[34m[2024-06-25:18:23:52:INFO] No data received from connection ('10.2.111.68', 60082). Closing.\u001b[0m\n",
      "\u001b[34m[2024-06-25:18:23:52:INFO] Recieve start signal from 10.2.111.68; assign rank 0\u001b[0m\n",
      "\u001b[34mtask NULL got new rank 1\u001b[0m\n",
      "\u001b[34m[2024-06-25:18:23:52:INFO] Recieve start signal from 10.2.65.56; assign rank 1\u001b[0m\n",
      "\u001b[34m[2024-06-25:18:23:52:INFO] Train matrix has 30940497 rows and 5 columns\u001b[0m\n",
      "\u001b[34m[2024-06-25:18:23:52:INFO] @tracker All of 2 nodes getting started\u001b[0m\n",
      "\u001b[34m[2024-06-25:18:23:52:INFO] Validation matrix has 6630107 rows\u001b[0m\n",
      "\u001b[34m[2024-06-25 18:23:52.600 ip-10-2-65-56.ec2.internal:7 INFO json_config.py:91] Creating hook from json_config at /opt/ml/input/config/debughookconfig.json.\u001b[0m\n",
      "\u001b[34m[2024-06-25 18:23:52.601 ip-10-2-65-56.ec2.internal:7 INFO hook.py:201] tensorboard_dir has not been set for the hook. SMDebug will not be exporting tensorboard summaries.\u001b[0m\n",
      "\u001b[34m[2024-06-25 18:23:52.601 ip-10-2-65-56.ec2.internal:7 INFO profiler_config_parser.py:102] User has disabled profiler.\u001b[0m\n",
      "\u001b[34m[2024-06-25 18:23:52.602 ip-10-2-65-56.ec2.internal:7 INFO hook.py:255] Saving to /opt/ml/output/tensors\u001b[0m\n",
      "\u001b[34m[2024-06-25 18:23:52.602 ip-10-2-65-56.ec2.internal:7 INFO state_store.py:77] The checkpoint config file /opt/ml/input/config/checkpointconfig.json does not exist.\u001b[0m\n",
      "\u001b[34m[2024-06-25:18:23:52:INFO] Debug hook created from config\u001b[0m\n",
      "\u001b[34m[18:23:52] WARNING: ../src/gbm/gbtree.cc:129: Tree method is automatically selected to be 'approx' for distributed training.\u001b[0m\n",
      "\u001b[35m[2024-06-25:18:23:52:INFO] Connected to RabitTracker.\u001b[0m\n",
      "\u001b[35mtask NULL connected to the tracker\u001b[0m\n",
      "\u001b[35mtask NULL got new rank 0\u001b[0m\n",
      "\u001b[35m[2024-06-25:18:23:52:INFO] Train matrix has 30940497 rows and 5 columns\u001b[0m\n",
      "\u001b[35m[2024-06-25:18:23:52:INFO] Validation matrix has 6630107 rows\u001b[0m\n",
      "\u001b[35m[2024-06-25 18:23:52.600 ip-10-2-111-68.ec2.internal:7 INFO json_config.py:91] Creating hook from json_config at /opt/ml/input/config/debughookconfig.json.\u001b[0m\n",
      "\u001b[35m[2024-06-25 18:23:52.601 ip-10-2-111-68.ec2.internal:7 INFO hook.py:201] tensorboard_dir has not been set for the hook. SMDebug will not be exporting tensorboard summaries.\u001b[0m\n",
      "\u001b[35m[2024-06-25 18:23:52.601 ip-10-2-111-68.ec2.internal:7 INFO profiler_config_parser.py:102] User has disabled profiler.\u001b[0m\n",
      "\u001b[35m[2024-06-25 18:23:52.602 ip-10-2-111-68.ec2.internal:7 INFO hook.py:255] Saving to /opt/ml/output/tensors\u001b[0m\n",
      "\u001b[35m[2024-06-25 18:23:52.602 ip-10-2-111-68.ec2.internal:7 INFO state_store.py:77] The checkpoint config file /opt/ml/input/config/checkpointconfig.json does not exist.\u001b[0m\n",
      "\u001b[35m[2024-06-25:18:23:52:INFO] Debug hook created from config\u001b[0m\n",
      "\u001b[35m[18:23:52] WARNING: ../src/gbm/gbtree.cc:129: Tree method is automatically selected to be 'approx' for distributed training.\u001b[0m\n",
      "\u001b[34m[2024-06-25 18:24:08.407 ip-10-2-65-56.ec2.internal:7 INFO hook.py:423] Monitoring the collections: labels, metrics, predictions, feature_importance, hyperparameters\u001b[0m\n",
      "\u001b[34m[2024-06-25:18:24:08:INFO] [0]#011train-rmse:184.43744#011validation-rmse:135.48259\u001b[0m\n",
      "\u001b[35m[2024-06-25 18:24:08.409 ip-10-2-111-68.ec2.internal:7 INFO hook.py:423] Monitoring the collections: predictions, labels, hyperparameters, feature_importance, metrics\u001b[0m\n",
      "\u001b[34m[2024-06-25:18:24:20:INFO] [1]#011train-rmse:184.28534#011validation-rmse:135.24808\u001b[0m\n",
      "\u001b[34m[2024-06-25:18:24:31:INFO] [2]#011train-rmse:184.18167#011validation-rmse:135.09784\u001b[0m\n",
      "\u001b[34m[2024-06-25:18:24:43:INFO] [3]#011train-rmse:184.11903#011validation-rmse:134.99771\u001b[0m\n",
      "\u001b[34m[2024-06-25:18:24:55:INFO] [4]#011train-rmse:184.07890#011validation-rmse:134.93574\u001b[0m\n",
      "\u001b[34m[2024-06-25:18:25:07:INFO] [5]#011train-rmse:184.05234#011validation-rmse:134.89529\u001b[0m\n",
      "\u001b[34m[2024-06-25:18:25:19:INFO] [6]#011train-rmse:184.03487#011validation-rmse:134.86635\u001b[0m\n",
      "\u001b[34m[2024-06-25:18:25:30:INFO] [7]#011train-rmse:184.02385#011validation-rmse:134.84970\u001b[0m\n",
      "\u001b[34m[2024-06-25:18:25:42:INFO] [8]#011train-rmse:184.01642#011validation-rmse:134.83659\u001b[0m\n",
      "\u001b[34m[2024-06-25:18:25:54:INFO] [9]#011train-rmse:183.88487#011validation-rmse:134.82910\u001b[0m\n",
      "\u001b[34m[2024-06-25:18:25:54:INFO] @tracker All nodes finishes job\u001b[0m\n",
      "\u001b[34m[2024-06-25:18:25:54:INFO] @tracker 121.60369801521301 secs between node start and job finish\u001b[0m\n",
      "\n",
      "2024-06-25 18:26:11 Uploading - Uploading generated training model\n",
      "2024-06-25 18:26:11 Completed - Training job completed\n",
      "Training seconds: 520\n",
      "Billable seconds: 520\n"
     ]
    }
   ],
   "source": [
    "xgb_model.fit({\"train\": train_input, \"validation\": validation_input}, wait=True)"
   ]
  },
  {
   "cell_type": "markdown",
   "id": "f0f8be08-10a5-4204-8f8b-60235d4b1f04",
   "metadata": {},
   "source": [
    "### Deploy the model\n",
    "\n",
    "Copy the name of the model endpoint. We use it for our model evaluation."
   ]
  },
  {
   "cell_type": "code",
   "execution_count": 50,
   "id": "c1aa7bc3-feee-4602-a64c-8c1e08526d03",
   "metadata": {},
   "outputs": [
    {
     "name": "stderr",
     "output_type": "stream",
     "text": [
      "INFO:sagemaker:Creating model with name: sagemaker-xgboost-2024-06-25-18-26-38-055\n",
      "INFO:sagemaker:Creating endpoint-config with name sagemaker-xgboost-2024-06-25-18-26-38-055\n",
      "INFO:sagemaker:Creating endpoint with name sagemaker-xgboost-2024-06-25-18-26-38-055\n"
     ]
    },
    {
     "name": "stdout",
     "output_type": "stream",
     "text": [
      "-------!"
     ]
    }
   ],
   "source": [
    "xgb_predictor = xgb_model.deploy(initial_instance_count=1, instance_type='ml.m4.xlarge')"
   ]
  },
  {
   "cell_type": "markdown",
   "id": "ddcf330c-8add-437d-af1f-687ed3ebc78d",
   "metadata": {},
   "source": [
    "### Download the test.csv file"
   ]
  },
  {
   "cell_type": "code",
   "execution_count": 51,
   "id": "a9cc4eea-a6d0-418f-ab35-db437ce2a99d",
   "metadata": {},
   "outputs": [
    {
     "name": "stdout",
     "output_type": "stream",
     "text": [
      "download: s3://ux360-nyc-taxi-dogfooding/output/test/test.csv to ./test.csv\n"
     ]
    }
   ],
   "source": [
    "!aws s3 cp s3://example-s3-bucket/output/test/test.csv ."
   ]
  },
  {
   "cell_type": "markdown",
   "id": "27b6cc9e-cb1c-43f6-99b8-fc26b38934c3",
   "metadata": {},
   "source": [
    "### Create a 20 row test dataframe"
   ]
  },
  {
   "cell_type": "code",
   "execution_count": 53,
   "id": "953f9d9b-04d0-4398-8620-8f9ab4eb407b",
   "metadata": {},
   "outputs": [
    {
     "data": {
      "text/html": [
       "<div>\n",
       "<style scoped>\n",
       "    .dataframe tbody tr th:only-of-type {\n",
       "        vertical-align: middle;\n",
       "    }\n",
       "\n",
       "    .dataframe tbody tr th {\n",
       "        vertical-align: top;\n",
       "    }\n",
       "\n",
       "    .dataframe thead th {\n",
       "        text-align: right;\n",
       "    }\n",
       "</style>\n",
       "<table border=\"1\" class=\"dataframe\">\n",
       "  <thead>\n",
       "    <tr style=\"text-align: right;\">\n",
       "      <th></th>\n",
       "      <th>0</th>\n",
       "      <th>1</th>\n",
       "      <th>2</th>\n",
       "      <th>3</th>\n",
       "      <th>4</th>\n",
       "      <th>5</th>\n",
       "    </tr>\n",
       "  </thead>\n",
       "  <tbody>\n",
       "    <tr>\n",
       "      <th>0</th>\n",
       "      <td>7.5</td>\n",
       "      <td>1.08</td>\n",
       "      <td>0.0</td>\n",
       "      <td>0.0</td>\n",
       "      <td>0.5</td>\n",
       "      <td>0.97</td>\n",
       "    </tr>\n",
       "    <tr>\n",
       "      <th>1</th>\n",
       "      <td>10.0</td>\n",
       "      <td>0.00</td>\n",
       "      <td>0.0</td>\n",
       "      <td>0.5</td>\n",
       "      <td>0.5</td>\n",
       "      <td>2.60</td>\n",
       "    </tr>\n",
       "    <tr>\n",
       "      <th>2</th>\n",
       "      <td>6.0</td>\n",
       "      <td>1.00</td>\n",
       "      <td>0.0</td>\n",
       "      <td>1.0</td>\n",
       "      <td>0.5</td>\n",
       "      <td>0.82</td>\n",
       "    </tr>\n",
       "    <tr>\n",
       "      <th>3</th>\n",
       "      <td>23.5</td>\n",
       "      <td>5.45</td>\n",
       "      <td>0.0</td>\n",
       "      <td>3.0</td>\n",
       "      <td>0.5</td>\n",
       "      <td>7.40</td>\n",
       "    </tr>\n",
       "    <tr>\n",
       "      <th>4</th>\n",
       "      <td>53.5</td>\n",
       "      <td>8.36</td>\n",
       "      <td>10.5</td>\n",
       "      <td>0.0</td>\n",
       "      <td>0.0</td>\n",
       "      <td>12.68</td>\n",
       "    </tr>\n",
       "  </tbody>\n",
       "</table>\n",
       "</div>"
      ],
      "text/plain": [
       "      0     1     2    3    4      5\n",
       "0   7.5  1.08   0.0  0.0  0.5   0.97\n",
       "1  10.0  0.00   0.0  0.5  0.5   2.60\n",
       "2   6.0  1.00   0.0  1.0  0.5   0.82\n",
       "3  23.5  5.45   0.0  3.0  0.5   7.40\n",
       "4  53.5  8.36  10.5  0.0  0.0  12.68"
      ]
     },
     "execution_count": 53,
     "metadata": {},
     "output_type": "execute_result"
    }
   ],
   "source": [
    "import boto3\n",
    "import json\n",
    "\n",
    "test_df = pd.read_csv('test.csv', nrows=20)\n",
    "test_df.head()"
   ]
  },
  {
   "cell_type": "markdown",
   "id": "a27e6c58-1abb-41db-ab45-263b97ee01ed",
   "metadata": {},
   "source": [
    "### Get predictions from the test dataframe\n",
    "\n",
    "Define the `get_predictions` function to convert the 20 row dataframe to a CSV string and get predictions from the model endpoint. Provide the `get_predictions` function with the name of the model and the model endpoint."
   ]
  },
  {
   "cell_type": "code",
   "execution_count": 54,
   "id": "218e7887-f37d-42e1-8f6a-9ee97d3c75c4",
   "metadata": {},
   "outputs": [
    {
     "name": "stdout",
     "output_type": "stream",
     "text": [
      "6.515090465545654,10.813796043395996,6.515090465545654,22.628469467163086,49.72923278808594,8.302289962768555,7.602119445800781,6.515090465545654,7.602119445800781,12.309170722961426,16.632259368896484,28.30757713317871,10.813796043395996,37.56535339355469,10.813796043395996,12.309170722961426,6.515090465545654,14.130854606628418,10.813796043395996,6.515090465545654\n"
     ]
    }
   ],
   "source": [
    "import json\n",
    "import pandas as pd\n",
    "\n",
    "# Initialize the SageMaker runtime client\n",
    "runtime = boto3.client('runtime.sagemaker')\n",
    "\n",
    "# Define the endpoint name\n",
    "endpoint_name = 'sagemaker-xgboost-timestamp'\n",
    "\n",
    "# Function to make predictions\n",
    "def get_predictions(data, endpoint_name):\n",
    "    # Convert the DataFrame to a CSV string and encode it to bytes\n",
    "    csv_data = data.to_csv(header=False, index=False).encode('utf-8')\n",
    "    \n",
    "    response = runtime.invoke_endpoint(\n",
    "        EndpointName=endpoint_name,\n",
    "        ContentType='text/csv',\n",
    "        Body=csv_data\n",
    "    )\n",
    "    \n",
    "    # Read the response body\n",
    "    response_body = response['Body'].read().decode('utf-8')\n",
    "    \n",
    "    try:\n",
    "        # Try to parse the response as JSON\n",
    "        result = json.loads(response_body)\n",
    "    except json.JSONDecodeError:\n",
    "        # If response is not JSON, just return the raw response\n",
    "        result = response_body\n",
    "        \n",
    "    return result\n",
    "\n",
    "# Drop the target column from the test dataframe\n",
    "test_df = test_df.drop(test_df.columns[0], axis=1)\n",
    "\n",
    "# Get predictions\n",
    "predictions = get_predictions(test_df, endpoint_name)\n",
    "print(predictions)"
   ]
  },
  {
   "cell_type": "markdown",
   "id": "a136ae86-efd3-4d4f-9966-6610f445d84c",
   "metadata": {},
   "source": [
    "### Create an array from the string of predictions"
   ]
  },
  {
   "cell_type": "code",
   "execution_count": 55,
   "id": "58b45ac2-8a18-4d27-8aff-57370696d58f",
   "metadata": {},
   "outputs": [
    {
     "data": {
      "text/plain": [
       "['6.515090465545654',\n",
       " '10.813796043395996',\n",
       " '6.515090465545654',\n",
       " '22.628469467163086',\n",
       " '49.72923278808594',\n",
       " '8.302289962768555',\n",
       " '7.602119445800781',\n",
       " '6.515090465545654',\n",
       " '7.602119445800781',\n",
       " '12.309170722961426',\n",
       " '16.632259368896484',\n",
       " '28.30757713317871',\n",
       " '10.813796043395996',\n",
       " '37.56535339355469',\n",
       " '10.813796043395996',\n",
       " '12.309170722961426',\n",
       " '6.515090465545654',\n",
       " '14.130854606628418',\n",
       " '10.813796043395996',\n",
       " '6.515090465545654']"
      ]
     },
     "execution_count": 55,
     "metadata": {},
     "output_type": "execute_result"
    }
   ],
   "source": [
    "predictions_array = predictions.split(',')\n",
    "predictions_array"
   ]
  },
  {
   "cell_type": "markdown",
   "id": "20097b4e-d515-45cf-9677-bd12953b6912",
   "metadata": {},
   "source": [
    "### Get the 20 row sample of the test dataframe"
   ]
  },
  {
   "cell_type": "code",
   "execution_count": 56,
   "id": "a5b69119-c58d-401d-a683-345a21451090",
   "metadata": {},
   "outputs": [
    {
     "data": {
      "text/html": [
       "<div>\n",
       "<style scoped>\n",
       "    .dataframe tbody tr th:only-of-type {\n",
       "        vertical-align: middle;\n",
       "    }\n",
       "\n",
       "    .dataframe tbody tr th {\n",
       "        vertical-align: top;\n",
       "    }\n",
       "\n",
       "    .dataframe thead th {\n",
       "        text-align: right;\n",
       "    }\n",
       "</style>\n",
       "<table border=\"1\" class=\"dataframe\">\n",
       "  <thead>\n",
       "    <tr style=\"text-align: right;\">\n",
       "      <th></th>\n",
       "      <th>0</th>\n",
       "      <th>1</th>\n",
       "      <th>2</th>\n",
       "      <th>3</th>\n",
       "      <th>4</th>\n",
       "      <th>5</th>\n",
       "    </tr>\n",
       "  </thead>\n",
       "  <tbody>\n",
       "    <tr>\n",
       "      <th>0</th>\n",
       "      <td>7.5</td>\n",
       "      <td>1.08</td>\n",
       "      <td>0.0</td>\n",
       "      <td>0.0</td>\n",
       "      <td>0.5</td>\n",
       "      <td>0.97</td>\n",
       "    </tr>\n",
       "    <tr>\n",
       "      <th>1</th>\n",
       "      <td>10.0</td>\n",
       "      <td>0.00</td>\n",
       "      <td>0.0</td>\n",
       "      <td>0.5</td>\n",
       "      <td>0.5</td>\n",
       "      <td>2.60</td>\n",
       "    </tr>\n",
       "    <tr>\n",
       "      <th>2</th>\n",
       "      <td>6.0</td>\n",
       "      <td>1.00</td>\n",
       "      <td>0.0</td>\n",
       "      <td>1.0</td>\n",
       "      <td>0.5</td>\n",
       "      <td>0.82</td>\n",
       "    </tr>\n",
       "    <tr>\n",
       "      <th>3</th>\n",
       "      <td>23.5</td>\n",
       "      <td>5.45</td>\n",
       "      <td>0.0</td>\n",
       "      <td>3.0</td>\n",
       "      <td>0.5</td>\n",
       "      <td>7.40</td>\n",
       "    </tr>\n",
       "    <tr>\n",
       "      <th>4</th>\n",
       "      <td>53.5</td>\n",
       "      <td>8.36</td>\n",
       "      <td>10.5</td>\n",
       "      <td>0.0</td>\n",
       "      <td>0.0</td>\n",
       "      <td>12.68</td>\n",
       "    </tr>\n",
       "  </tbody>\n",
       "</table>\n",
       "</div>"
      ],
      "text/plain": [
       "      0     1     2    3    4      5\n",
       "0   7.5  1.08   0.0  0.0  0.5   0.97\n",
       "1  10.0  0.00   0.0  0.5  0.5   2.60\n",
       "2   6.0  1.00   0.0  1.0  0.5   0.82\n",
       "3  23.5  5.45   0.0  3.0  0.5   7.40\n",
       "4  53.5  8.36  10.5  0.0  0.0  12.68"
      ]
     },
     "execution_count": 56,
     "metadata": {},
     "output_type": "execute_result"
    }
   ],
   "source": [
    "df_with_target_column_values = pd.read_csv('test.csv', nrows=20)\n",
    "df_with_target_column_values.head()"
   ]
  },
  {
   "cell_type": "markdown",
   "id": "85cd39f3-5f12-4cb1-aab2-6ca658e9d16e",
   "metadata": {},
   "source": [
    "### Convert the values of the predictions array from strings to floats"
   ]
  },
  {
   "cell_type": "code",
   "execution_count": 57,
   "id": "75353856-df2f-4c45-9a9b-11e16a856aa6",
   "metadata": {},
   "outputs": [],
   "source": [
    "predictions_array = [float(x) for x in predictions_array]"
   ]
  },
  {
   "cell_type": "markdown",
   "id": "408a6da9-9a0c-4307-8966-acbcc11beacc",
   "metadata": {},
   "source": [
    "### Create a dataframe to store the predicted versus actual values"
   ]
  },
  {
   "cell_type": "code",
   "execution_count": 58,
   "id": "9589000e-1ce0-4a08-9d9c-055d29e13639",
   "metadata": {},
   "outputs": [
    {
     "data": {
      "text/html": [
       "<div>\n",
       "<style scoped>\n",
       "    .dataframe tbody tr th:only-of-type {\n",
       "        vertical-align: middle;\n",
       "    }\n",
       "\n",
       "    .dataframe tbody tr th {\n",
       "        vertical-align: top;\n",
       "    }\n",
       "\n",
       "    .dataframe thead th {\n",
       "        text-align: right;\n",
       "    }\n",
       "</style>\n",
       "<table border=\"1\" class=\"dataframe\">\n",
       "  <thead>\n",
       "    <tr style=\"text-align: right;\">\n",
       "      <th></th>\n",
       "      <th>predicted_values</th>\n",
       "    </tr>\n",
       "  </thead>\n",
       "  <tbody>\n",
       "    <tr>\n",
       "      <th>0</th>\n",
       "      <td>6.515090</td>\n",
       "    </tr>\n",
       "    <tr>\n",
       "      <th>1</th>\n",
       "      <td>10.813796</td>\n",
       "    </tr>\n",
       "    <tr>\n",
       "      <th>2</th>\n",
       "      <td>6.515090</td>\n",
       "    </tr>\n",
       "    <tr>\n",
       "      <th>3</th>\n",
       "      <td>22.628469</td>\n",
       "    </tr>\n",
       "    <tr>\n",
       "      <th>4</th>\n",
       "      <td>49.729233</td>\n",
       "    </tr>\n",
       "    <tr>\n",
       "      <th>5</th>\n",
       "      <td>8.302290</td>\n",
       "    </tr>\n",
       "    <tr>\n",
       "      <th>6</th>\n",
       "      <td>7.602119</td>\n",
       "    </tr>\n",
       "    <tr>\n",
       "      <th>7</th>\n",
       "      <td>6.515090</td>\n",
       "    </tr>\n",
       "    <tr>\n",
       "      <th>8</th>\n",
       "      <td>7.602119</td>\n",
       "    </tr>\n",
       "    <tr>\n",
       "      <th>9</th>\n",
       "      <td>12.309171</td>\n",
       "    </tr>\n",
       "    <tr>\n",
       "      <th>10</th>\n",
       "      <td>16.632259</td>\n",
       "    </tr>\n",
       "    <tr>\n",
       "      <th>11</th>\n",
       "      <td>28.307577</td>\n",
       "    </tr>\n",
       "    <tr>\n",
       "      <th>12</th>\n",
       "      <td>10.813796</td>\n",
       "    </tr>\n",
       "    <tr>\n",
       "      <th>13</th>\n",
       "      <td>37.565353</td>\n",
       "    </tr>\n",
       "    <tr>\n",
       "      <th>14</th>\n",
       "      <td>10.813796</td>\n",
       "    </tr>\n",
       "    <tr>\n",
       "      <th>15</th>\n",
       "      <td>12.309171</td>\n",
       "    </tr>\n",
       "    <tr>\n",
       "      <th>16</th>\n",
       "      <td>6.515090</td>\n",
       "    </tr>\n",
       "    <tr>\n",
       "      <th>17</th>\n",
       "      <td>14.130855</td>\n",
       "    </tr>\n",
       "    <tr>\n",
       "      <th>18</th>\n",
       "      <td>10.813796</td>\n",
       "    </tr>\n",
       "    <tr>\n",
       "      <th>19</th>\n",
       "      <td>6.515090</td>\n",
       "    </tr>\n",
       "  </tbody>\n",
       "</table>\n",
       "</div>"
      ],
      "text/plain": [
       "    predicted_values\n",
       "0           6.515090\n",
       "1          10.813796\n",
       "2           6.515090\n",
       "3          22.628469\n",
       "4          49.729233\n",
       "5           8.302290\n",
       "6           7.602119\n",
       "7           6.515090\n",
       "8           7.602119\n",
       "9          12.309171\n",
       "10         16.632259\n",
       "11         28.307577\n",
       "12         10.813796\n",
       "13         37.565353\n",
       "14         10.813796\n",
       "15         12.309171\n",
       "16          6.515090\n",
       "17         14.130855\n",
       "18         10.813796\n",
       "19          6.515090"
      ]
     },
     "execution_count": 58,
     "metadata": {},
     "output_type": "execute_result"
    }
   ],
   "source": [
    "comparison_df = pd.DataFrame(predictions_array, columns=['predicted_values'])\n",
    "comparison_df"
   ]
  },
  {
   "cell_type": "markdown",
   "id": "e0652e07-1677-4fd4-b099-ccc2b1029cfd",
   "metadata": {},
   "source": [
    "### Add the actual values to the comparison dataframe"
   ]
  },
  {
   "cell_type": "code",
   "execution_count": 60,
   "id": "adf4f58c-f21c-4abf-b14c-2802cbd399b3",
   "metadata": {},
   "outputs": [
    {
     "data": {
      "text/html": [
       "<div>\n",
       "<style scoped>\n",
       "    .dataframe tbody tr th:only-of-type {\n",
       "        vertical-align: middle;\n",
       "    }\n",
       "\n",
       "    .dataframe tbody tr th {\n",
       "        vertical-align: top;\n",
       "    }\n",
       "\n",
       "    .dataframe thead th {\n",
       "        text-align: right;\n",
       "    }\n",
       "</style>\n",
       "<table border=\"1\" class=\"dataframe\">\n",
       "  <thead>\n",
       "    <tr style=\"text-align: right;\">\n",
       "      <th></th>\n",
       "      <th>predicted_values</th>\n",
       "      <th>actual_values</th>\n",
       "    </tr>\n",
       "  </thead>\n",
       "  <tbody>\n",
       "    <tr>\n",
       "      <th>0</th>\n",
       "      <td>6.515090</td>\n",
       "      <td>7.5</td>\n",
       "    </tr>\n",
       "    <tr>\n",
       "      <th>1</th>\n",
       "      <td>10.813796</td>\n",
       "      <td>10.0</td>\n",
       "    </tr>\n",
       "    <tr>\n",
       "      <th>2</th>\n",
       "      <td>6.515090</td>\n",
       "      <td>6.0</td>\n",
       "    </tr>\n",
       "    <tr>\n",
       "      <th>3</th>\n",
       "      <td>22.628469</td>\n",
       "      <td>23.5</td>\n",
       "    </tr>\n",
       "    <tr>\n",
       "      <th>4</th>\n",
       "      <td>49.729233</td>\n",
       "      <td>53.5</td>\n",
       "    </tr>\n",
       "    <tr>\n",
       "      <th>5</th>\n",
       "      <td>8.302290</td>\n",
       "      <td>9.0</td>\n",
       "    </tr>\n",
       "    <tr>\n",
       "      <th>6</th>\n",
       "      <td>7.602119</td>\n",
       "      <td>8.5</td>\n",
       "    </tr>\n",
       "    <tr>\n",
       "      <th>7</th>\n",
       "      <td>6.515090</td>\n",
       "      <td>2.5</td>\n",
       "    </tr>\n",
       "    <tr>\n",
       "      <th>8</th>\n",
       "      <td>7.602119</td>\n",
       "      <td>8.5</td>\n",
       "    </tr>\n",
       "    <tr>\n",
       "      <th>9</th>\n",
       "      <td>12.309171</td>\n",
       "      <td>17.5</td>\n",
       "    </tr>\n",
       "    <tr>\n",
       "      <th>10</th>\n",
       "      <td>16.632259</td>\n",
       "      <td>16.5</td>\n",
       "    </tr>\n",
       "    <tr>\n",
       "      <th>11</th>\n",
       "      <td>28.307577</td>\n",
       "      <td>32.5</td>\n",
       "    </tr>\n",
       "    <tr>\n",
       "      <th>12</th>\n",
       "      <td>10.813796</td>\n",
       "      <td>12.5</td>\n",
       "    </tr>\n",
       "    <tr>\n",
       "      <th>13</th>\n",
       "      <td>37.565353</td>\n",
       "      <td>52.0</td>\n",
       "    </tr>\n",
       "    <tr>\n",
       "      <th>14</th>\n",
       "      <td>10.813796</td>\n",
       "      <td>12.0</td>\n",
       "    </tr>\n",
       "    <tr>\n",
       "      <th>15</th>\n",
       "      <td>12.309171</td>\n",
       "      <td>13.5</td>\n",
       "    </tr>\n",
       "    <tr>\n",
       "      <th>16</th>\n",
       "      <td>6.515090</td>\n",
       "      <td>6.5</td>\n",
       "    </tr>\n",
       "    <tr>\n",
       "      <th>17</th>\n",
       "      <td>14.130855</td>\n",
       "      <td>26.5</td>\n",
       "    </tr>\n",
       "    <tr>\n",
       "      <th>18</th>\n",
       "      <td>10.813796</td>\n",
       "      <td>13.0</td>\n",
       "    </tr>\n",
       "    <tr>\n",
       "      <th>19</th>\n",
       "      <td>6.515090</td>\n",
       "      <td>10.5</td>\n",
       "    </tr>\n",
       "  </tbody>\n",
       "</table>\n",
       "</div>"
      ],
      "text/plain": [
       "    predicted_values  actual_values\n",
       "0           6.515090            7.5\n",
       "1          10.813796           10.0\n",
       "2           6.515090            6.0\n",
       "3          22.628469           23.5\n",
       "4          49.729233           53.5\n",
       "5           8.302290            9.0\n",
       "6           7.602119            8.5\n",
       "7           6.515090            2.5\n",
       "8           7.602119            8.5\n",
       "9          12.309171           17.5\n",
       "10         16.632259           16.5\n",
       "11         28.307577           32.5\n",
       "12         10.813796           12.5\n",
       "13         37.565353           52.0\n",
       "14         10.813796           12.0\n",
       "15         12.309171           13.5\n",
       "16          6.515090            6.5\n",
       "17         14.130855           26.5\n",
       "18         10.813796           13.0\n",
       "19          6.515090           10.5"
      ]
     },
     "execution_count": 60,
     "metadata": {},
     "output_type": "execute_result"
    }
   ],
   "source": [
    "column_to_add = df_with_target_column_values.iloc[:, 0]\n",
    "\n",
    "comparison_df['actual_values'] = column_to_add\n",
    "\n",
    "comparison_df"
   ]
  },
  {
   "cell_type": "markdown",
   "id": "a1ee137e-2706-4972-b70a-4d908bb0cb0a",
   "metadata": {},
   "source": [
    "### Verify that the datatypes of both columns are floats"
   ]
  },
  {
   "cell_type": "code",
   "execution_count": 61,
   "id": "48f6f988-0de8-4c44-8c10-9845ef4d476d",
   "metadata": {},
   "outputs": [
    {
     "data": {
      "text/plain": [
       "predicted_values    float64\n",
       "actual_values       float64\n",
       "dtype: object"
      ]
     },
     "execution_count": 61,
     "metadata": {},
     "output_type": "execute_result"
    }
   ],
   "source": [
    "comparison_df.dtypes"
   ]
  },
  {
   "cell_type": "markdown",
   "id": "8c7cce0b-ce8b-4320-b9a4-9a50b2c732b3",
   "metadata": {},
   "source": [
    "### Compute the RMSE"
   ]
  },
  {
   "cell_type": "code",
   "execution_count": 62,
   "id": "781fe125-4a2e-4527-8c45-fcd20558f4bb",
   "metadata": {},
   "outputs": [
    {
     "name": "stdout",
     "output_type": "stream",
     "text": [
      "RMSE: 4.833823838366928\n"
     ]
    }
   ],
   "source": [
    "import numpy as np\n",
    "\n",
    "# Calculate the squared differences between the predicted and actual values\n",
    "comparison_df['squared_diff'] = (comparison_df['actual_values'] - comparison_df['predicted_values']) ** 2\n",
    "\n",
    "# Calculate the mean of the squared differences\n",
    "mean_squared_diff = comparison_df['squared_diff'].mean()\n",
    "\n",
    "# Take the square root of the mean to get the RMSE\n",
    "rmse = np.sqrt(mean_squared_diff)\n",
    "\n",
    "print(f\"RMSE: {rmse}\")\n"
   ]
  },
  {
   "cell_type": "markdown",
   "id": "4a21cb4e-d9be-466c-869d-ac0be688700c",
   "metadata": {},
   "source": [
    "### Clean up"
   ]
  },
  {
   "cell_type": "code",
   "execution_count": 71,
   "id": "9a6e651d-3e68-4c1b-8a28-3e15604b5ec1",
   "metadata": {},
   "outputs": [
    {
     "name": "stdout",
     "output_type": "stream",
     "text": [
      "remove_bucket: parsa-machine-learning-exam\n"
     ]
    }
   ],
   "source": [
    "# Delete the S3 bucket\n",
    "!aws s3 rb s3://example-s3-bucket --force"
   ]
  },
  {
   "cell_type": "code",
   "execution_count": 72,
   "id": "6c883864-e707-46d2-a183-76e5f2090368",
   "metadata": {},
   "outputs": [
    {
     "name": "stderr",
     "output_type": "stream",
     "text": [
      "INFO:sagemaker:Deleting endpoint configuration with name: sagemaker-xgboost-2024-06-25-18-26-38-055\n",
      "INFO:sagemaker:Deleting endpoint with name: sagemaker-xgboost-2024-06-25-18-26-38-055\n"
     ]
    }
   ],
   "source": [
    "# Delete the endpoint\n",
    "xgb_predictor.delete_endpoint()"
   ]
  }
 ],
 "metadata": {
  "kernelspec": {
   "display_name": "Python 3 (ipykernel)",
   "language": "python",
   "name": "python3"
  },
  "language_info": {
   "codemirror_mode": {
    "name": "ipython",
    "version": 3
   },
   "file_extension": ".py",
   "mimetype": "text/x-python",
   "name": "python",
   "nbconvert_exporter": "python",
   "pygments_lexer": "ipython3",
   "version": "3.10.14"
  }
 },
 "nbformat": 4,
 "nbformat_minor": 5
}
