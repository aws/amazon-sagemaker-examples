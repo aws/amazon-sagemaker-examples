{
 "cells": [
  {
   "cell_type": "markdown",
   "id": "4dde8d4a",
   "metadata": {},
   "source": [
    "# Clustering Census Data with Amazon DenseClus"
   ]
  },
  {
   "cell_type": "markdown",
   "id": "1c759d60",
   "metadata": {},
   "source": [
    "---\n",
    "\n",
    "This notebook's CI test result for us-west-2 is as follows. CI test results in other regions can be found at the end of the notebook.\n",
    "\n",
    "![This us-west-2 badge failed to load. Check your device's internet connectivity, otherwise the service is currently unavailable](https://prod.us-west-2.tcx-beacon.docs.aws.dev/sagemaker-nb/us-west-2/introduction_to_amazon_algorithms|denseclus|Amazon_DenseClus_Clustering_Census.ipynb)\n",
    "\n",
    "---"
   ]
  },
  {
   "cell_type": "markdown",
   "id": "5185eab7",
   "metadata": {},
   "source": [
    "In this demo notebook, we demonstrate how to use [Amazon DenseClus](https://github.com/awslabs/amazon-denseclus) for mixed-type clustering. Mixed-type clustering is the task of grouping unlabeled data containing both numerical and categorical features into clusters of points, preserving similiarity within the cluster and dissimiliarity between other clusters."
   ]
  },
  {
   "cell_type": "markdown",
   "id": "62d85b1d",
   "metadata": {},
   "source": [
    "1. [Initial Setup](#Initial-Setup)\n",
    "2. [Load Data](#load-data)\n",
    "3. [Why DenseClus?](#build-clusters-with-numeric-and-categorical-features-separately)\n",
    "4. [DenseClus in Action](#denseclus-on-all-features-numerical--categorical)\n",
    "5. [Analysis](#Analysis)\n",
    "6. [Conclusion](#Conclusion)"
   ]
  },
  {
   "cell_type": "markdown",
   "id": "4815b9cb",
   "metadata": {},
   "source": [
    "## Initial Setup\n",
    "\n",
    "Before running the notebook there is some intial setup we must do: lets make sure we have all of the neccesary libraries installed"
   ]
  },
  {
   "cell_type": "code",
   "execution_count": null,
   "id": "b63922c6",
   "metadata": {},
   "outputs": [],
   "source": [
    "! pip install amazon-denseclus==0.2.2 --upgrade --quiet\n",
    "! pip install sagemaker seaborn ipywidgets --upgrade --quiet"
   ]
  },
  {
   "cell_type": "code",
   "execution_count": null,
   "id": "c5abce9b-2fbb-4e53-95e7-5cb01d80c421",
   "metadata": {
    "tags": []
   },
   "outputs": [],
   "source": [
    "import sagemaker\n",
    "import hdbscan\n",
    "import numpy as np\n",
    "import pandas as pd\n",
    "import seaborn as sns\n",
    "import umap.umap_ as umap\n",
    "\n",
    "from denseclus import DenseClus\n",
    "from denseclus.categorical import extract_categorical\n",
    "from denseclus.numerical import extract_numerical\n",
    "\n",
    "SEED = 42  # random seed to set reproducibility as best we can\n",
    "\n",
    "sns.set_style(\"darkgrid\")\n",
    "sns.set_context(\"notebook\")\n",
    "\n",
    "%matplotlib inline"
   ]
  },
  {
   "cell_type": "markdown",
   "id": "5e6c8daf-5d65-46ef-afbc-9d0666df809d",
   "metadata": {},
   "source": [
    "## Load Data\n",
    "Let's start by downloading publicly available *Census Income dataset* available at https://archive.ics.uci.edu/ml/datasets/Adult. In this dataset we have different attributes such as age, work class, education, country, race etc for each person. We also have an indicator of person's income being more than $50K a year. The prediction task is to determine whether a person makes over 50K a year.\n",
    "\n",
    "\n",
    "### Data Description\n",
    "Let's talk about the data. At a high level, we can see:\n",
    "\n",
    "- There are 15 columns and around 32K rows in the training data\n",
    "- 8 of the 14 features are categorical and remaining 6 are numeric\n",
    "\n",
    "Now lets read this into a Pandas data frame and take a look."
   ]
  },
  {
   "cell_type": "code",
   "execution_count": null,
   "id": "a5f2f6f3-7f63-4886-905e-b8e5168764fb",
   "metadata": {
    "tags": []
   },
   "outputs": [],
   "source": [
    "s3_downloader = sagemaker.s3.S3Downloader()\n",
    "region = sagemaker.Session().boto_region_name\n",
    "\n",
    "## read the data\n",
    "s3_downloader.download(\n",
    "    s3_uri=f\"s3://sagemaker-example-files-prod-{region}/datasets/tabular/uci_adult/adult.data\",\n",
    "    local_path='.'\n",
    ")\n",
    "\n",
    "df = pd.read_csv(\"adult.data\", header=None)\n",
    "\n",
    "## set column names\n",
    "df.columns = [\n",
    "    \"age\",\n",
    "    \"workclass\",\n",
    "    \"fnlwgt\",\n",
    "    \"education\",\n",
    "    \"education-num\",\n",
    "    \"marital-status\",\n",
    "    \"occupation\",\n",
    "    \"relationship\",\n",
    "    \"race\",\n",
    "    \"sex\",\n",
    "    \"capital-gain\",\n",
    "    \"capital-loss\",\n",
    "    \"hours-per-week\",\n",
    "    \"native-country\",\n",
    "    \"IncomeGroup\",\n",
    "]\n",
    "\n",
    "df.head()"
   ]
  },
  {
   "cell_type": "markdown",
   "id": "c05d30f8-59f4-4fc4-be03-d9a3b05ae396",
   "metadata": {},
   "source": [
    "As you can see the data consists of both categorical and numeric features.\n",
    "Generally, speaking this is problematic for traditional dimension reduction and clustering methods such as [K-Means](https://en.wikipedia.org/wiki/K-means_clustering) as they rely input features to be numeric and assume that the values are shaped spherical in nature."
   ]
  },
  {
   "cell_type": "markdown",
   "id": "65e6d4c7-e56c-4c2a-b060-2f5d0813d644",
   "metadata": {
    "tags": []
   },
   "source": [
    "## Build clusters with numeric and categorical features separately"
   ]
  },
  {
   "cell_type": "markdown",
   "id": "9f0a2411",
   "metadata": {},
   "source": [
    "What happens if we treat the numerical and categorical features as separate datasts and cluster them individually? Lets explore.\n",
    "\n",
    "We can use UMAP - a popular dimensionality reduction algorithm, coupled with HDBScan, a density-based clustering algorithm."
   ]
  },
  {
   "cell_type": "code",
   "execution_count": null,
   "id": "272696f6-28c8-41a6-92cd-02e107d0507e",
   "metadata": {
    "tags": []
   },
   "outputs": [],
   "source": [
    "default_umap_params = {\n",
    "    \"categorical\": {\n",
    "        \"metric\": \"hamming\",\n",
    "        \"n_neighbors\": 30,\n",
    "        \"n_components\": 5,\n",
    "        \"min_dist\": 0.0,\n",
    "    },\n",
    "    \"numerical\": {\n",
    "        \"metric\": \"l2\",\n",
    "        \"n_neighbors\": 30,\n",
    "        \"n_components\": 5,\n",
    "        \"min_dist\": 0.0,\n",
    "    },\n",
    "}\n",
    "\n",
    "hdbscan_params = {\n",
    "    \"min_cluster_size\": 100,\n",
    "    \"min_samples\": 15,\n",
    "    \"gen_min_span_tree\": True,\n",
    "    \"metric\": \"euclidean\",\n",
    "}"
   ]
  },
  {
   "cell_type": "markdown",
   "id": "0606c4d9-dc46-4a57-82c8-a10f7657413c",
   "metadata": {},
   "source": [
    "### Numerical features"
   ]
  },
  {
   "cell_type": "code",
   "execution_count": null,
   "id": "cfd3d87e-5b11-400b-8c4f-1bb3b2d72ae6",
   "metadata": {
    "tags": []
   },
   "outputs": [],
   "source": [
    "numerical_df = extract_numerical(df)\n",
    "\n",
    "numerical_umap = umap.UMAP(\n",
    "    random_state=SEED,\n",
    "    n_jobs=1,\n",
    "    verbose=False,\n",
    "    low_memory=True,\n",
    "    **default_umap_params[\"numerical\"],\n",
    ").fit(numerical_df)\n",
    "\n",
    "numerical_hdb = hdbscan.HDBSCAN(**hdbscan_params).fit(numerical_umap.embedding_)\n",
    "\n",
    "joint_plot = sns.jointplot(\n",
    "    x=numerical_umap.embedding_[:, 0],\n",
    "    y=numerical_umap.embedding_[:, -1],\n",
    "    hue=numerical_hdb.labels_,\n",
    "    kind=\"kde\",\n",
    "    marginal_ticks=True,\n",
    ")"
   ]
  },
  {
   "cell_type": "code",
   "execution_count": null,
   "id": "13d99ce2-7830-4e4f-aeb1-d79bb562068e",
   "metadata": {
    "tags": []
   },
   "outputs": [],
   "source": [
    "numerical_df = df.select_dtypes(include=[int, float])\n",
    "numerical_df[\"segment\"] = numerical_hdb.labels_\n",
    "\n",
    "numerical_df.groupby([\"segment\"]).agg([\"mean\", \"median\"])"
   ]
  },
  {
   "cell_type": "markdown",
   "id": "74d66a69-50e8-49a1-b315-a4af8ab6a1fb",
   "metadata": {},
   "source": [
    "From the above plot and descriptive stats generated from the clusters using only numerical features, we can see that:\n",
    "\n",
    "- Cluster 1 seems to represent a younger demographic with lower education, income (fnlwgt), and working hours. This could be students or entry-level workers.\n",
    "- Clusters 0, 1, 2, 4, 7, and 9 seem to represent middle-aged working professionals with higher education, income, and working hours.\n",
    "- Cluster 5 clearly captures a very young demographic, likely teenagers/students based on the low age and hours worked. \n",
    "- Cluster 6 seems to be early career adults with moderate education and income.\n",
    "- Cluster 8 represents older, retired people with lower education, income, and hours worked. \n",
    "\n",
    "Some limitations of using just these numerical features:\n",
    "\n",
    "- We lack contextual categorical features like occupation, marital status, etc that would help distinguish the clusters more clearly.\n",
    "- The clusters are formed solely based on central tendencies of numerical features. But subgroups within a cluster can exhibit very different characteristics. \n",
    "- Important outliers in the data may not be well-represented in the clusters.\n",
    "- Numerical features alone may not fully capture more complex behavioral segments.\n",
    "\n",
    "So while these numeric features give some interesting initial profiles, more categorical and behavioral features would likely result in more nuanced and meaningful customer segments."
   ]
  },
  {
   "cell_type": "markdown",
   "id": "d62b8803-68f7-4d3f-b48c-9b03b5f867db",
   "metadata": {
    "tags": []
   },
   "source": [
    "### Categorical features"
   ]
  },
  {
   "cell_type": "code",
   "execution_count": null,
   "id": "8f0c7114-7d5e-4f07-ab6f-df5f9624c7e5",
   "metadata": {
    "tags": []
   },
   "outputs": [],
   "source": [
    "categorical_df = extract_categorical(df)\n",
    "\n",
    "categorical_umap = umap.UMAP(\n",
    "    random_state=SEED,\n",
    "    n_jobs=1,\n",
    "    verbose=False,\n",
    "    low_memory=True,\n",
    "    **default_umap_params[\"categorical\"],\n",
    ").fit(categorical_df)\n",
    "\n",
    "categorical_hdb = hdbscan.HDBSCAN(**hdbscan_params).fit(categorical_umap.embedding_)\n",
    "n_clusters = len(np.unique(categorical_hdb.labels_))\n",
    "print(f\"Number of clusters: {n_clusters}\")"
   ]
  },
  {
   "cell_type": "code",
   "execution_count": null,
   "id": "25e3d86a-99e8-467c-a909-3453e6e37b06",
   "metadata": {
    "tags": []
   },
   "outputs": [],
   "source": [
    "joint_plot = sns.jointplot(\n",
    "    x=categorical_umap.embedding_[:, 0],\n",
    "    y=categorical_umap.embedding_[:, -1],\n",
    "    hue=categorical_hdb.labels_,\n",
    "    kind=\"kde\",\n",
    "    marginal_ticks=True,\n",
    ")\n",
    "joint_plot.ax_joint.legend_.remove()\n",
    "joint_plot.set_axis_labels(\"umap_embeddings: 0\", \"umap_embeddings: -1\")"
   ]
  },
  {
   "cell_type": "code",
   "execution_count": null,
   "id": "5ab4c243-4ce4-43be-96cb-14067d668953",
   "metadata": {
    "tags": []
   },
   "outputs": [],
   "source": [
    "categorical_df = df.select_dtypes(include=[object])\n",
    "categorical_df[\"segment\"] = categorical_hdb.labels_\n",
    "\n",
    "categorical_df.groupby(\"segment\").describe(include=\"object\").tail(10)"
   ]
  },
  {
   "cell_type": "markdown",
   "id": "0883dc8b-57b4-452d-8d2f-64a518632015",
   "metadata": {},
   "source": [
    "From the above plot generated from the clusters using only categorical features, we can see that:\n",
    "\n",
    "- 114 clusters formed from categorical features lead to many clusters that are very similar to each other.\n",
    "- High sparsity. Categorical features often lead to high-dimensional sparse feature spaces, which makes clustering statistically less meaningful. With 114 clusters in a large sparse space, most of the clusters have very few data points.\n",
    "- Difficult to interpret clusters - Clusters formed on categorical features alone are difficult to characterize and interpret. \n",
    "\n",
    "In summary, clustering on sole categorical features often lacks clear semantic meaning and differentiation between clusters. It tends to work better when combined with numeric features that provide more inherent structure. "
   ]
  },
  {
   "cell_type": "markdown",
   "id": "fa2ea526-e510-4baf-a38b-ee700bfcaabc",
   "metadata": {
    "tags": []
   },
   "source": [
    "## DenseClus on all features (numerical + categorical)\n",
    "\n",
    "With DenseClus this is not an issue because we use create UMAP embeddings for both categorical and numerical, combining the embedding space to output them into the densest space possible. Next HDBSCAN is run to group densities into clusters, resulting in groups of mixed-type data. \n",
    "\n",
    "All of this is done under the hood and just requires a `fit` call like below.\n",
    "\n",
    "### There are 5 methods by which you can combine embeddings spaces (param: umap_combine_method, default=intersection)\n",
    "\n",
    "- 'intersection'\n",
    "- 'union'\n",
    "- 'contrast'\n",
    "- 'intersection_union_mapper'\n",
    "- 'ensemble'\n",
    "\n",
    "----------\n",
    "\n",
    "Let's implement each one of the above methods and visualize their respective umap embeddings. "
   ]
  },
  {
   "cell_type": "code",
   "execution_count": null,
   "id": "27e2dc75",
   "metadata": {},
   "outputs": [],
   "source": [
    "def plot_clusters(method, embeddings, clusters):\n",
    "    \"\"\"display KDE plots for given embeddings/clusters\"\"\"\n",
    "\n",
    "    joint_plot = sns.jointplot(\n",
    "        x=embeddings[:, 0],\n",
    "        y=embeddings[:, -1],\n",
    "        hue=clusters,\n",
    "        kind=\"kde\",\n",
    "        marginal_ticks=True,\n",
    "    )\n",
    "    joint_plot.set_axis_labels(\"umap_embeddings: 0\", \"umap_embeddings: -1\")\n",
    "\n",
    "    joint_plot.figure.suptitle(f\"Method: {method}\")\n",
    "    if n_clusters > 50:\n",
    "        joint_plot.ax_joint.legend_.remove()"
   ]
  },
  {
   "cell_type": "code",
   "execution_count": null,
   "id": "a253cb56-122e-49f9-9d92-e3cf8f395363",
   "metadata": {
    "tags": []
   },
   "outputs": [],
   "source": [
    "methods = [\"intersection\", \"union\", \"contrast\", \"intersection_union_mapper\", \"ensemble\"]\n",
    "\n",
    "hdbscan_params = {\n",
    "    \"min_cluster_size\": 200,\n",
    "    \"min_samples\": 30,\n",
    "    \"gen_min_span_tree\": True,\n",
    "    \"metric\": \"manhattan\",\n",
    "    \"cluster_selection_method\": \"eom\",\n",
    "}\n",
    "\n",
    "for method in methods:\n",
    "    print(f\"Running combination method: {method}\")\n",
    "    clf = DenseClus(random_state=SEED, umap_combine_method=method)\n",
    "    clf.fit(df)\n",
    "    clusters = clf.evaluate()\n",
    "    n_clusters = len(np.unique(clusters))\n",
    "    print(f\"Number of clusters: {n_clusters}\")\n",
    "\n",
    "    if hasattr(clf, \"mapper_\"):\n",
    "        embeddings = clf.mapper_.embedding_\n",
    "    else:\n",
    "        embeddings = clf.numerical_umap_.embedding_\n",
    "\n",
    "    plot_clusters(method, embeddings, clusters)\n",
    "\n",
    "    print(\"-\" * 30)"
   ]
  },
  {
   "cell_type": "markdown",
   "id": "c1a295ed-8984-435a-8a85-74dab5de3e93",
   "metadata": {},
   "source": [
    "----------\n",
    "As a recap the steps that happened are:\n",
    "\n",
    "1) Numerical features were taken out and then reduced into a *dense* UMAP embedding\n",
    "\n",
    "2) Categorical features got extracted and learned into a *dense* separate UMAP embedding\n",
    "\n",
    "3) The two embeddings were then combined with one of the available operations (\"intersection\", \"union\", \"contrast\", \"intersection_union_mapper\", \"ensemble\")\n",
    "\n",
    "4) HDBSCAN uses density-based spatial clustering to hierarchical-fashion to extract clusters from the combined space\n",
    "\n",
    "The features and embeddings are now exposed on the `DenseClus` object. "
   ]
  },
  {
   "cell_type": "markdown",
   "id": "6ae3083f-951e-4d99-bac9-c7192e10fccc",
   "metadata": {},
   "source": [
    "----------\n",
    "## Analysis:\n",
    "\n",
    "Based on the above results for each method: `intersection_union_mapper` seems to be the suitable method for clustering our dataset. As you can see we have 5 distinct islands formed within the slice of the data. Clusters have formed around these densities which is exactly the behavior we expect DenseClus to do.\n",
    "\n",
    "`Intersection_union_mapper` is a hybrid method that combines the strengths of both 'intersection' and 'union'. It first applies the 'intersection' method to preserve the numerical embeddings, then applies the 'union' method to preserve the categorical embeddings. This method is useful when both numerical and categorical data are important, but one type of data is not necessarily more important than the other.\n",
    "\n",
    "Let's dive deep into Embedding Results for the intersection_union_mapper method:"
   ]
  },
  {
   "cell_type": "code",
   "execution_count": null,
   "id": "6a4afa08-bc71-4573-9ddb-e8d7a50aa556",
   "metadata": {
    "tags": []
   },
   "outputs": [],
   "source": [
    "ium_clf = DenseClus(random_state=SEED, umap_combine_method=\"intersection_union_mapper\")\n",
    "ium_clf.fit(df)\n",
    "\n",
    "labels = ium_clf.evaluate()"
   ]
  },
  {
   "cell_type": "markdown",
   "id": "0a7cb380-0feb-4b28-ae09-ebb4447a2ca9",
   "metadata": {
    "tags": []
   },
   "source": [
    "### Checking Embedding Results\n",
    "\n",
    "Verify the embeddings are now densely shaped."
   ]
  },
  {
   "cell_type": "code",
   "execution_count": null,
   "id": "7b96157f-22a0-421b-b53e-29b1eeabf73e",
   "metadata": {
    "tags": []
   },
   "outputs": [],
   "source": [
    "for i in range(len(ium_clf.mapper_.embedding_[0])):\n",
    "    sns.kdeplot(ium_clf.mapper_.embedding_[:, i], fill=True)"
   ]
  },
  {
   "cell_type": "markdown",
   "id": "463f039f-346a-4a69-addd-c87fc5d6dc8b",
   "metadata": {},
   "source": [
    "### Inspection of Cluster Results"
   ]
  },
  {
   "cell_type": "markdown",
   "id": "f26f9d7e-1d4d-4116-a560-17122ebd7d2a",
   "metadata": {
    "tags": []
   },
   "source": [
    "Under the hood, among other steps, Denseclus uses HDBSCAN to cluster the data.\n",
    "\n",
    "Let's look at the how the data got split."
   ]
  },
  {
   "cell_type": "code",
   "execution_count": null,
   "id": "84feaf50-61c6-4874-bcc6-54752d576044",
   "metadata": {
    "tags": []
   },
   "outputs": [],
   "source": [
    "cnts = pd.DataFrame(labels)[0].value_counts()\n",
    "cnts = cnts.reset_index()\n",
    "cnts.columns = [\"cluster\", \"count\"]\n",
    "print(cnts.sort_values([\"cluster\"]))"
   ]
  },
  {
   "cell_type": "markdown",
   "id": "60194002-5c3a-4d5e-ab8a-c571613b4e96",
   "metadata": {},
   "source": [
    "Upon examination there are exactly 5 clusters with -1 representing the noise found in the data.\n",
    "\n",
    "### Profiling the Clusters\n",
    "\n",
    "Finally, once clusters are formed, it's common practice to then describe what each one means.\n",
    "\n",
    "Here, descriptive statistics is actually a very powerful (and efficient) tool to use.\n",
    "\n",
    "Let's ignore group `-1`, those datapoints did not fit any of the clusters"
   ]
  },
  {
   "cell_type": "code",
   "execution_count": null,
   "id": "1a35f5c3",
   "metadata": {},
   "outputs": [],
   "source": [
    "df[\"segment\"] = labels\n",
    "clustered_results = df[df.segment > -1]"
   ]
  },
  {
   "cell_type": "code",
   "execution_count": null,
   "id": "29df372d",
   "metadata": {},
   "outputs": [],
   "source": [
    "numerics = clustered_results.select_dtypes(include=[int, float])\n",
    "numerics.groupby(\"segment\").mean()"
   ]
  },
  {
   "cell_type": "markdown",
   "id": "c1a1612c-3eb9-4318-845a-e363726adb7c",
   "metadata": {},
   "source": [
    "\n",
    "A similar type of analysis is possible with categorical features:"
   ]
  },
  {
   "cell_type": "code",
   "execution_count": null,
   "id": "271cadbd",
   "metadata": {},
   "outputs": [],
   "source": [
    "categorical = df.select_dtypes(include=[\"object\"])\n",
    "categorical[\"segment\"] = clustered_results.segment\n",
    "categorical.groupby(\"segment\").describe(include=[\"object\"]).T"
   ]
  },
  {
   "cell_type": "markdown",
   "id": "7f95c5ef-ccfc-4dcb-8779-1cd8460d720b",
   "metadata": {},
   "source": [
    "## Conclusion\n",
    "\n",
    "This notebook walked through how and why to use DenseClus to build high quality clusters from mixed-type data. We explored 5 methods to combine information from mixed type data: \"intersection\", \"union\", \"contrast\", \"intersection_union_mapper\", \"ensemble\", and compared their performance. \n",
    "\n",
    "When applying DenseClus to your datasets, you may wish to experiment with different combine methods and hyperparameter combinations to see what works the best on your data."
   ]
  }
 ],
 "metadata": {
  "availableInstances": [
   {
    "_defaultOrder": 0,
    "_isFastLaunch": true,
    "category": "General purpose",
    "gpuNum": 0,
    "hideHardwareSpecs": false,
    "memoryGiB": 4,
    "name": "ml.t3.medium",
    "vcpuNum": 2
   },
   {
    "_defaultOrder": 1,
    "_isFastLaunch": false,
    "category": "General purpose",
    "gpuNum": 0,
    "hideHardwareSpecs": false,
    "memoryGiB": 8,
    "name": "ml.t3.large",
    "vcpuNum": 2
   },
   {
    "_defaultOrder": 2,
    "_isFastLaunch": false,
    "category": "General purpose",
    "gpuNum": 0,
    "hideHardwareSpecs": false,
    "memoryGiB": 16,
    "name": "ml.t3.xlarge",
    "vcpuNum": 4
   },
   {
    "_defaultOrder": 3,
    "_isFastLaunch": false,
    "category": "General purpose",
    "gpuNum": 0,
    "hideHardwareSpecs": false,
    "memoryGiB": 32,
    "name": "ml.t3.2xlarge",
    "vcpuNum": 8
   },
   {
    "_defaultOrder": 4,
    "_isFastLaunch": true,
    "category": "General purpose",
    "gpuNum": 0,
    "hideHardwareSpecs": false,
    "memoryGiB": 8,
    "name": "ml.m5.large",
    "vcpuNum": 2
   },
   {
    "_defaultOrder": 5,
    "_isFastLaunch": false,
    "category": "General purpose",
    "gpuNum": 0,
    "hideHardwareSpecs": false,
    "memoryGiB": 16,
    "name": "ml.m5.xlarge",
    "vcpuNum": 4
   },
   {
    "_defaultOrder": 6,
    "_isFastLaunch": false,
    "category": "General purpose",
    "gpuNum": 0,
    "hideHardwareSpecs": false,
    "memoryGiB": 32,
    "name": "ml.m5.2xlarge",
    "vcpuNum": 8
   },
   {
    "_defaultOrder": 7,
    "_isFastLaunch": false,
    "category": "General purpose",
    "gpuNum": 0,
    "hideHardwareSpecs": false,
    "memoryGiB": 64,
    "name": "ml.m5.4xlarge",
    "vcpuNum": 16
   },
   {
    "_defaultOrder": 8,
    "_isFastLaunch": false,
    "category": "General purpose",
    "gpuNum": 0,
    "hideHardwareSpecs": false,
    "memoryGiB": 128,
    "name": "ml.m5.8xlarge",
    "vcpuNum": 32
   },
   {
    "_defaultOrder": 9,
    "_isFastLaunch": false,
    "category": "General purpose",
    "gpuNum": 0,
    "hideHardwareSpecs": false,
    "memoryGiB": 192,
    "name": "ml.m5.12xlarge",
    "vcpuNum": 48
   },
   {
    "_defaultOrder": 10,
    "_isFastLaunch": false,
    "category": "General purpose",
    "gpuNum": 0,
    "hideHardwareSpecs": false,
    "memoryGiB": 256,
    "name": "ml.m5.16xlarge",
    "vcpuNum": 64
   },
   {
    "_defaultOrder": 11,
    "_isFastLaunch": false,
    "category": "General purpose",
    "gpuNum": 0,
    "hideHardwareSpecs": false,
    "memoryGiB": 384,
    "name": "ml.m5.24xlarge",
    "vcpuNum": 96
   },
   {
    "_defaultOrder": 12,
    "_isFastLaunch": false,
    "category": "General purpose",
    "gpuNum": 0,
    "hideHardwareSpecs": false,
    "memoryGiB": 8,
    "name": "ml.m5d.large",
    "vcpuNum": 2
   },
   {
    "_defaultOrder": 13,
    "_isFastLaunch": false,
    "category": "General purpose",
    "gpuNum": 0,
    "hideHardwareSpecs": false,
    "memoryGiB": 16,
    "name": "ml.m5d.xlarge",
    "vcpuNum": 4
   },
   {
    "_defaultOrder": 14,
    "_isFastLaunch": false,
    "category": "General purpose",
    "gpuNum": 0,
    "hideHardwareSpecs": false,
    "memoryGiB": 32,
    "name": "ml.m5d.2xlarge",
    "vcpuNum": 8
   },
   {
    "_defaultOrder": 15,
    "_isFastLaunch": false,
    "category": "General purpose",
    "gpuNum": 0,
    "hideHardwareSpecs": false,
    "memoryGiB": 64,
    "name": "ml.m5d.4xlarge",
    "vcpuNum": 16
   },
   {
    "_defaultOrder": 16,
    "_isFastLaunch": false,
    "category": "General purpose",
    "gpuNum": 0,
    "hideHardwareSpecs": false,
    "memoryGiB": 128,
    "name": "ml.m5d.8xlarge",
    "vcpuNum": 32
   },
   {
    "_defaultOrder": 17,
    "_isFastLaunch": false,
    "category": "General purpose",
    "gpuNum": 0,
    "hideHardwareSpecs": false,
    "memoryGiB": 192,
    "name": "ml.m5d.12xlarge",
    "vcpuNum": 48
   },
   {
    "_defaultOrder": 18,
    "_isFastLaunch": false,
    "category": "General purpose",
    "gpuNum": 0,
    "hideHardwareSpecs": false,
    "memoryGiB": 256,
    "name": "ml.m5d.16xlarge",
    "vcpuNum": 64
   },
   {
    "_defaultOrder": 19,
    "_isFastLaunch": false,
    "category": "General purpose",
    "gpuNum": 0,
    "hideHardwareSpecs": false,
    "memoryGiB": 384,
    "name": "ml.m5d.24xlarge",
    "vcpuNum": 96
   },
   {
    "_defaultOrder": 20,
    "_isFastLaunch": false,
    "category": "General purpose",
    "gpuNum": 0,
    "hideHardwareSpecs": true,
    "memoryGiB": 0,
    "name": "ml.geospatial.interactive",
    "supportedImageNames": [
     "sagemaker-geospatial-v1-0"
    ],
    "vcpuNum": 0
   },
   {
    "_defaultOrder": 21,
    "_isFastLaunch": true,
    "category": "Compute optimized",
    "gpuNum": 0,
    "hideHardwareSpecs": false,
    "memoryGiB": 4,
    "name": "ml.c5.large",
    "vcpuNum": 2
   },
   {
    "_defaultOrder": 22,
    "_isFastLaunch": false,
    "category": "Compute optimized",
    "gpuNum": 0,
    "hideHardwareSpecs": false,
    "memoryGiB": 8,
    "name": "ml.c5.xlarge",
    "vcpuNum": 4
   },
   {
    "_defaultOrder": 23,
    "_isFastLaunch": false,
    "category": "Compute optimized",
    "gpuNum": 0,
    "hideHardwareSpecs": false,
    "memoryGiB": 16,
    "name": "ml.c5.2xlarge",
    "vcpuNum": 8
   },
   {
    "_defaultOrder": 24,
    "_isFastLaunch": false,
    "category": "Compute optimized",
    "gpuNum": 0,
    "hideHardwareSpecs": false,
    "memoryGiB": 32,
    "name": "ml.c5.4xlarge",
    "vcpuNum": 16
   },
   {
    "_defaultOrder": 25,
    "_isFastLaunch": false,
    "category": "Compute optimized",
    "gpuNum": 0,
    "hideHardwareSpecs": false,
    "memoryGiB": 72,
    "name": "ml.c5.9xlarge",
    "vcpuNum": 36
   },
   {
    "_defaultOrder": 26,
    "_isFastLaunch": false,
    "category": "Compute optimized",
    "gpuNum": 0,
    "hideHardwareSpecs": false,
    "memoryGiB": 96,
    "name": "ml.c5.12xlarge",
    "vcpuNum": 48
   },
   {
    "_defaultOrder": 27,
    "_isFastLaunch": false,
    "category": "Compute optimized",
    "gpuNum": 0,
    "hideHardwareSpecs": false,
    "memoryGiB": 144,
    "name": "ml.c5.18xlarge",
    "vcpuNum": 72
   },
   {
    "_defaultOrder": 28,
    "_isFastLaunch": false,
    "category": "Compute optimized",
    "gpuNum": 0,
    "hideHardwareSpecs": false,
    "memoryGiB": 192,
    "name": "ml.c5.24xlarge",
    "vcpuNum": 96
   },
   {
    "_defaultOrder": 29,
    "_isFastLaunch": true,
    "category": "Accelerated computing",
    "gpuNum": 1,
    "hideHardwareSpecs": false,
    "memoryGiB": 16,
    "name": "ml.g4dn.xlarge",
    "vcpuNum": 4
   },
   {
    "_defaultOrder": 30,
    "_isFastLaunch": false,
    "category": "Accelerated computing",
    "gpuNum": 1,
    "hideHardwareSpecs": false,
    "memoryGiB": 32,
    "name": "ml.g4dn.2xlarge",
    "vcpuNum": 8
   },
   {
    "_defaultOrder": 31,
    "_isFastLaunch": false,
    "category": "Accelerated computing",
    "gpuNum": 1,
    "hideHardwareSpecs": false,
    "memoryGiB": 64,
    "name": "ml.g4dn.4xlarge",
    "vcpuNum": 16
   },
   {
    "_defaultOrder": 32,
    "_isFastLaunch": false,
    "category": "Accelerated computing",
    "gpuNum": 1,
    "hideHardwareSpecs": false,
    "memoryGiB": 128,
    "name": "ml.g4dn.8xlarge",
    "vcpuNum": 32
   },
   {
    "_defaultOrder": 33,
    "_isFastLaunch": false,
    "category": "Accelerated computing",
    "gpuNum": 4,
    "hideHardwareSpecs": false,
    "memoryGiB": 192,
    "name": "ml.g4dn.12xlarge",
    "vcpuNum": 48
   },
   {
    "_defaultOrder": 34,
    "_isFastLaunch": false,
    "category": "Accelerated computing",
    "gpuNum": 1,
    "hideHardwareSpecs": false,
    "memoryGiB": 256,
    "name": "ml.g4dn.16xlarge",
    "vcpuNum": 64
   },
   {
    "_defaultOrder": 35,
    "_isFastLaunch": false,
    "category": "Accelerated computing",
    "gpuNum": 1,
    "hideHardwareSpecs": false,
    "memoryGiB": 61,
    "name": "ml.p3.2xlarge",
    "vcpuNum": 8
   },
   {
    "_defaultOrder": 36,
    "_isFastLaunch": false,
    "category": "Accelerated computing",
    "gpuNum": 4,
    "hideHardwareSpecs": false,
    "memoryGiB": 244,
    "name": "ml.p3.8xlarge",
    "vcpuNum": 32
   },
   {
    "_defaultOrder": 37,
    "_isFastLaunch": false,
    "category": "Accelerated computing",
    "gpuNum": 8,
    "hideHardwareSpecs": false,
    "memoryGiB": 488,
    "name": "ml.p3.16xlarge",
    "vcpuNum": 64
   },
   {
    "_defaultOrder": 38,
    "_isFastLaunch": false,
    "category": "Accelerated computing",
    "gpuNum": 8,
    "hideHardwareSpecs": false,
    "memoryGiB": 768,
    "name": "ml.p3dn.24xlarge",
    "vcpuNum": 96
   },
   {
    "_defaultOrder": 39,
    "_isFastLaunch": false,
    "category": "Memory Optimized",
    "gpuNum": 0,
    "hideHardwareSpecs": false,
    "memoryGiB": 16,
    "name": "ml.r5.large",
    "vcpuNum": 2
   },
   {
    "_defaultOrder": 40,
    "_isFastLaunch": false,
    "category": "Memory Optimized",
    "gpuNum": 0,
    "hideHardwareSpecs": false,
    "memoryGiB": 32,
    "name": "ml.r5.xlarge",
    "vcpuNum": 4
   },
   {
    "_defaultOrder": 41,
    "_isFastLaunch": false,
    "category": "Memory Optimized",
    "gpuNum": 0,
    "hideHardwareSpecs": false,
    "memoryGiB": 64,
    "name": "ml.r5.2xlarge",
    "vcpuNum": 8
   },
   {
    "_defaultOrder": 42,
    "_isFastLaunch": false,
    "category": "Memory Optimized",
    "gpuNum": 0,
    "hideHardwareSpecs": false,
    "memoryGiB": 128,
    "name": "ml.r5.4xlarge",
    "vcpuNum": 16
   },
   {
    "_defaultOrder": 43,
    "_isFastLaunch": false,
    "category": "Memory Optimized",
    "gpuNum": 0,
    "hideHardwareSpecs": false,
    "memoryGiB": 256,
    "name": "ml.r5.8xlarge",
    "vcpuNum": 32
   },
   {
    "_defaultOrder": 44,
    "_isFastLaunch": false,
    "category": "Memory Optimized",
    "gpuNum": 0,
    "hideHardwareSpecs": false,
    "memoryGiB": 384,
    "name": "ml.r5.12xlarge",
    "vcpuNum": 48
   },
   {
    "_defaultOrder": 45,
    "_isFastLaunch": false,
    "category": "Memory Optimized",
    "gpuNum": 0,
    "hideHardwareSpecs": false,
    "memoryGiB": 512,
    "name": "ml.r5.16xlarge",
    "vcpuNum": 64
   },
   {
    "_defaultOrder": 46,
    "_isFastLaunch": false,
    "category": "Memory Optimized",
    "gpuNum": 0,
    "hideHardwareSpecs": false,
    "memoryGiB": 768,
    "name": "ml.r5.24xlarge",
    "vcpuNum": 96
   },
   {
    "_defaultOrder": 47,
    "_isFastLaunch": false,
    "category": "Accelerated computing",
    "gpuNum": 1,
    "hideHardwareSpecs": false,
    "memoryGiB": 16,
    "name": "ml.g5.xlarge",
    "vcpuNum": 4
   },
   {
    "_defaultOrder": 48,
    "_isFastLaunch": false,
    "category": "Accelerated computing",
    "gpuNum": 1,
    "hideHardwareSpecs": false,
    "memoryGiB": 32,
    "name": "ml.g5.2xlarge",
    "vcpuNum": 8
   },
   {
    "_defaultOrder": 49,
    "_isFastLaunch": false,
    "category": "Accelerated computing",
    "gpuNum": 1,
    "hideHardwareSpecs": false,
    "memoryGiB": 64,
    "name": "ml.g5.4xlarge",
    "vcpuNum": 16
   },
   {
    "_defaultOrder": 50,
    "_isFastLaunch": false,
    "category": "Accelerated computing",
    "gpuNum": 1,
    "hideHardwareSpecs": false,
    "memoryGiB": 128,
    "name": "ml.g5.8xlarge",
    "vcpuNum": 32
   },
   {
    "_defaultOrder": 51,
    "_isFastLaunch": false,
    "category": "Accelerated computing",
    "gpuNum": 1,
    "hideHardwareSpecs": false,
    "memoryGiB": 256,
    "name": "ml.g5.16xlarge",
    "vcpuNum": 64
   },
   {
    "_defaultOrder": 52,
    "_isFastLaunch": false,
    "category": "Accelerated computing",
    "gpuNum": 4,
    "hideHardwareSpecs": false,
    "memoryGiB": 192,
    "name": "ml.g5.12xlarge",
    "vcpuNum": 48
   },
   {
    "_defaultOrder": 53,
    "_isFastLaunch": false,
    "category": "Accelerated computing",
    "gpuNum": 4,
    "hideHardwareSpecs": false,
    "memoryGiB": 384,
    "name": "ml.g5.24xlarge",
    "vcpuNum": 96
   },
   {
    "_defaultOrder": 54,
    "_isFastLaunch": false,
    "category": "Accelerated computing",
    "gpuNum": 8,
    "hideHardwareSpecs": false,
    "memoryGiB": 768,
    "name": "ml.g5.48xlarge",
    "vcpuNum": 192
   },
   {
    "_defaultOrder": 55,
    "_isFastLaunch": false,
    "category": "Accelerated computing",
    "gpuNum": 8,
    "hideHardwareSpecs": false,
    "memoryGiB": 1152,
    "name": "ml.p4d.24xlarge",
    "vcpuNum": 96
   },
   {
    "_defaultOrder": 56,
    "_isFastLaunch": false,
    "category": "Accelerated computing",
    "gpuNum": 8,
    "hideHardwareSpecs": false,
    "memoryGiB": 1152,
    "name": "ml.p4de.24xlarge",
    "vcpuNum": 96
   },
   {
    "_defaultOrder": 57,
    "_isFastLaunch": false,
    "category": "Accelerated computing",
    "gpuNum": 0,
    "hideHardwareSpecs": false,
    "memoryGiB": 32,
    "name": "ml.trn1.2xlarge",
    "vcpuNum": 8
   },
   {
    "_defaultOrder": 58,
    "_isFastLaunch": false,
    "category": "Accelerated computing",
    "gpuNum": 0,
    "hideHardwareSpecs": false,
    "memoryGiB": 512,
    "name": "ml.trn1.32xlarge",
    "vcpuNum": 128
   },
   {
    "_defaultOrder": 59,
    "_isFastLaunch": false,
    "category": "Accelerated computing",
    "gpuNum": 0,
    "hideHardwareSpecs": false,
    "memoryGiB": 512,
    "name": "ml.trn1n.32xlarge",
    "vcpuNum": 128
   }
  ],
  "instance_type": "ml.t3.medium",
  "kernelspec": {
   "display_name": ".venv",
   "language": "python",
   "name": "python3"
  },
  "language_info": {
   "codemirror_mode": {
    "name": "ipython",
    "version": 3
   },
   "file_extension": ".py",
   "mimetype": "text/x-python",
   "name": "python",
   "nbconvert_exporter": "python",
   "pygments_lexer": "ipython3",
   "version": "3.11.8"
  }
 },
 "nbformat": 4,
 "nbformat_minor": 5
}
