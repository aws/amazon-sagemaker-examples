{
 "cells": [
  {
   "cell_type": "code",
   "execution_count": 1,
   "id": "09de500b",
   "metadata": {
    "execution": {
     "iopub.execute_input": "2022-03-24T00:18:09.416103Z",
     "iopub.status.busy": "2022-03-24T00:18:09.415572Z",
     "iopub.status.idle": "2022-03-24T00:18:09.417938Z",
     "shell.execute_reply": "2022-03-24T00:18:09.417406Z"
    },
    "papermill": {
     "duration": 0.035262,
     "end_time": "2022-03-24T00:18:09.418052",
     "exception": false,
     "start_time": "2022-03-24T00:18:09.382790",
     "status": "completed"
    },
    "tags": [
     "injected-parameters"
    ]
   },
   "outputs": [],
   "source": [
    "# Parameters\n",
    "kms_key = \"arn:aws:kms:us-west-2:000000000000:1234abcd-12ab-34cd-56ef-1234567890ab\"\n"
   ]
  },
  {
   "cell_type": "markdown",
   "id": "c8672699",
   "metadata": {
    "papermill": {
     "duration": 0.028761,
     "end_time": "2022-03-24T00:18:09.476130",
     "exception": false,
     "start_time": "2022-03-24T00:18:09.447369",
     "status": "completed"
    },
    "tags": []
   },
   "source": [
    "# Orchestrating Jobs with Amazon SageMaker Model Building Pipelines\n",
    "\n",
    "Amazon SageMaker Model Building Pipelines offers machine learning (ML) application developers and operations engineers the ability to orchestrate SageMaker jobs and author reproducible ML pipelines. It also enables them to deploy custom-build models for inference in real-time with low latency, run offline inferences with Batch Transform, and track lineage of artifacts. They can institute sound operational practices in deploying and monitoring production workflows, deploying model artifacts, and tracking artifact lineage through a simple interface, adhering to safety and best practice paradigms for ML application development.\n",
    "\n",
    "The SageMaker Pipelines service supports a SageMaker Pipeline domain specific language (DSL), which is a declarative JSON specification. This DSL defines a directed acyclic graph (DAG) of pipeline parameters and SageMaker job steps. The SageMaker Python Software Developer Kit (SDK) streamlines the generation of the pipeline DSL using constructs that engineers and scientists are already familiar with."
   ]
  },
  {
   "cell_type": "markdown",
   "id": "791f2417",
   "metadata": {
    "papermill": {
     "duration": 0.028875,
     "end_time": "2022-03-24T00:18:09.534119",
     "exception": false,
     "start_time": "2022-03-24T00:18:09.505244",
     "status": "completed"
    },
    "tags": []
   },
   "source": [
    "## SageMaker Pipelines\n",
    "\n",
    "SageMaker Pipelines supports the following activities, which are demonstrated in this notebook:\n",
    "\n",
    "* Pipelines - A DAG of steps and conditions to orchestrate SageMaker jobs and resource creation.\n",
    "* Processing job steps - A simplified, managed experience on SageMaker to run data processing workloads, such as feature engineering, data validation, model evaluation, and model interpretation.\n",
    "* Training job steps - An iterative process that teaches a model to make predictions by presenting examples from a training dataset.\n",
    "* Conditional execution steps - A step that provides conditional execution of branches in a pipeline.\n",
    "* Register model steps - A step that creates a model package resource in the Model Registry that can be used to create deployable models in Amazon SageMaker.\n",
    "* Create model steps - A step that creates a model for use in transform steps or later publication as an endpoint.\n",
    "* Transform job steps - A batch transform to preprocess datasets to remove noise or bias that interferes with training or inference from a dataset, get inferences from large datasets, and run inference when a persistent endpoint is not needed.\n",
    "* Fail steps - A step that stops a pipeline execution and marks the pipeline execution as failed.\n",
    "* Parametrized Pipeline executions - Enables variation in pipeline executions according to specified parameters."
   ]
  },
  {
   "cell_type": "markdown",
   "id": "663d94e2",
   "metadata": {
    "papermill": {
     "duration": 0.028739,
     "end_time": "2022-03-24T00:18:09.591544",
     "exception": false,
     "start_time": "2022-03-24T00:18:09.562805",
     "status": "completed"
    },
    "tags": []
   },
   "source": [
    "## Notebook Overview\n",
    "\n",
    "This notebook shows how to:\n",
    "\n",
    "* Define a set of Pipeline parameters that can be used to parametrize a SageMaker Pipeline.\n",
    "* Define a Processing step that performs cleaning, feature engineering, and splitting the input data into train and test data sets.\n",
    "* Define a Training step that trains a model on the preprocessed train data set.\n",
    "* Define a Processing step that evaluates the trained model's performance on the test dataset.\n",
    "* Define a Create Model step that creates a model from the model artifacts used in training.\n",
    "* Define a Transform step that performs batch transformation based on the model that was created.\n",
    "* Define a Register Model step that creates a model package from the estimator and model artifacts used to train the model.\n",
    "* Define a Conditional step that measures a condition based on output from prior steps and conditionally executes other steps.\n",
    "* Define a Fail step with a customized error message indicating the cause of the execution failure.\n",
    "* Define and create a Pipeline definition in a DAG, with the defined parameters and steps.\n",
    "* Start a Pipeline execution and wait for execution to complete.\n",
    "* Download the model evaluation report from the S3 bucket for examination.\n",
    "* Start a second Pipeline execution."
   ]
  },
  {
   "cell_type": "markdown",
   "id": "c038a6e6",
   "metadata": {
    "papermill": {
     "duration": 0.029199,
     "end_time": "2022-03-24T00:18:09.649586",
     "exception": false,
     "start_time": "2022-03-24T00:18:09.620387",
     "status": "completed"
    },
    "tags": []
   },
   "source": [
    "## A SageMaker Pipeline\n",
    "\n",
    "The pipeline that you create follows a typical machine learning (ML) application pattern of preprocessing, training, evaluation, model creation, batch transformation, and model registration:\n",
    "\n",
    "![A typical ML Application pipeline](https://raw.githubusercontent.com/aws/amazon-sagemaker-examples/main/sagemaker-pipelines/tabular/abalone_build_train_deploy/img/pipeline-full.png)"
   ]
  },
  {
   "cell_type": "markdown",
   "id": "d8e9aa1d",
   "metadata": {
    "papermill": {
     "duration": 0.028634,
     "end_time": "2022-03-24T00:18:09.706888",
     "exception": false,
     "start_time": "2022-03-24T00:18:09.678254",
     "status": "completed"
    },
    "tags": []
   },
   "source": [
    "## Dataset\n",
    "\n",
    "The dataset you use is the [UCI Machine Learning Abalone Dataset](https://archive.ics.uci.edu/ml/datasets/abalone) [1].  The aim for this task is to determine the age of an abalone from its physical measurements. At the core, this is a regression problem.\n",
    "\n",
    "The dataset contains several features: length (the longest shell measurement), diameter (the diameter perpendicular to length), height (the height with meat in the shell), whole_weight (the weight of whole abalone), shucked_weight (the weight of meat), viscera_weight (the gut weight after bleeding), shell_weight (the weight after being dried), sex ('M', 'F', 'I' where 'I' is Infant), and rings (integer).\n",
    "\n",
    "The number of rings turns out to be a good approximation for age (age is rings + 1.5). However, to obtain this number requires cutting the shell through the cone, staining the section, and counting the number of rings through a microscope, which is a time-consuming task. However, the other physical measurements are easier to determine. You use the dataset to build a predictive model of the variable rings through these other physical measurements.\n",
    "\n",
    "Before you upload the data to an S3 bucket, upgrade the [Amazon SageMaker Python SDK](https://sagemaker.readthedocs.io/en/stable/) to the latest version and gather some constants you can use later in this notebook.\n",
    "\n",
    "[1] Dua, D. and Graff, C. (2019). [UCI Machine Learning Repository](http://archive.ics.uci.edu/ml). Irvine, CA: University of California, School of Information and Computer Science."
   ]
  },
  {
   "cell_type": "code",
   "execution_count": 2,
   "id": "7b301c7a",
   "metadata": {
    "execution": {
     "iopub.execute_input": "2022-03-24T00:18:09.769549Z",
     "iopub.status.busy": "2022-03-24T00:18:09.769011Z",
     "iopub.status.idle": "2022-03-24T00:18:16.961517Z",
     "shell.execute_reply": "2022-03-24T00:18:16.961077Z"
    },
    "papermill": {
     "duration": 7.225953,
     "end_time": "2022-03-24T00:18:16.961629",
     "exception": false,
     "start_time": "2022-03-24T00:18:09.735676",
     "status": "completed"
    },
    "tags": []
   },
   "outputs": [
    {
     "name": "stdout",
     "output_type": "stream",
     "text": [
      "/opt/conda/lib/python3.7/site-packages/secretstorage/dhcrypto.py:16: CryptographyDeprecationWarning: int_from_bytes is deprecated, use int.from_bytes instead\r\n",
      "  from cryptography.utils import int_from_bytes\r\n"
     ]
    },
    {
     "name": "stdout",
     "output_type": "stream",
     "text": [
      "/opt/conda/lib/python3.7/site-packages/secretstorage/util.py:25: CryptographyDeprecationWarning: int_from_bytes is deprecated, use int.from_bytes instead\r\n",
      "  from cryptography.utils import int_from_bytes\r\n"
     ]
    },
    {
     "name": "stdout",
     "output_type": "stream",
     "text": [
      "Requirement already satisfied: sagemaker in /opt/conda/lib/python3.7/site-packages (2.69.1.dev0)\r\n"
     ]
    },
    {
     "name": "stdout",
     "output_type": "stream",
     "text": [
      "Collecting sagemaker\r\n"
     ]
    },
    {
     "name": "stdout",
     "output_type": "stream",
     "text": [
      "  Downloading sagemaker-2.80.0.tar.gz (517 kB)\r\n",
      "\u001b[?25l\r",
      "\u001b[K     |▋                               | 10 kB 37.0 MB/s eta 0:00:01\r",
      "\u001b[K     |█▎                              | 20 kB 18.2 MB/s eta 0:00:01\r",
      "\u001b[K     |██                              | 30 kB 10.7 MB/s eta 0:00:01\r",
      "\u001b[K     |██▌                             | 40 kB 4.5 MB/s eta 0:00:01"
     ]
    },
    {
     "name": "stdout",
     "output_type": "stream",
     "text": [
      "\r",
      "\u001b[K     |███▏                            | 51 kB 4.4 MB/s eta 0:00:01\r",
      "\u001b[K     |███▉                            | 61 kB 5.2 MB/s eta 0:00:01\r",
      "\u001b[K     |████▍                           | 71 kB 5.4 MB/s eta 0:00:01\r",
      "\u001b[K     |█████                           | 81 kB 6.2 MB/s eta 0:00:01\r",
      "\u001b[K     |█████▊                          | 92 kB 6.5 MB/s eta 0:00:01\r",
      "\u001b[K     |██████▎                         | 102 kB 5.8 MB/s eta 0:00:01\r",
      "\u001b[K     |███████                         | 112 kB 5.8 MB/s eta 0:00:01\r",
      "\u001b[K     |███████▋                        | 122 kB 5.8 MB/s eta 0:00:01\r",
      "\u001b[K     |████████▎                       | 133 kB 5.8 MB/s eta 0:00:01\r",
      "\u001b[K     |████████▉                       | 143 kB 5.8 MB/s eta 0:00:01\r",
      "\u001b[K     |█████████▌                      | 153 kB 5.8 MB/s eta 0:00:01\r",
      "\u001b[K     |██████████▏                     | 163 kB 5.8 MB/s eta 0:00:01\r",
      "\u001b[K     |██████████▊                     | 174 kB 5.8 MB/s eta 0:00:01\r",
      "\u001b[K     |███████████▍                    | 184 kB 5.8 MB/s eta 0:00:01\r",
      "\u001b[K     |████████████                    | 194 kB 5.8 MB/s eta 0:00:01\r",
      "\u001b[K     |████████████▋                   | 204 kB 5.8 MB/s eta 0:00:01\r",
      "\u001b[K     |█████████████▎                  | 215 kB 5.8 MB/s eta 0:00:01\r",
      "\u001b[K     |██████████████                  | 225 kB 5.8 MB/s eta 0:00:01\r",
      "\u001b[K     |██████████████▋                 | 235 kB 5.8 MB/s eta 0:00:01\r",
      "\u001b[K     |███████████████▏                | 245 kB 5.8 MB/s eta 0:00:01\r",
      "\u001b[K     |███████████████▉                | 256 kB 5.8 MB/s eta 0:00:01\r",
      "\u001b[K     |████████████████▌               | 266 kB 5.8 MB/s eta 0:00:01\r",
      "\u001b[K     |█████████████████               | 276 kB 5.8 MB/s eta 0:00:01\r",
      "\u001b[K     |█████████████████▊              | 286 kB 5.8 MB/s eta 0:00:01\r",
      "\u001b[K     |██████████████████▍             | 296 kB 5.8 MB/s eta 0:00:01\r",
      "\u001b[K     |███████████████████             | 307 kB 5.8 MB/s eta 0:00:01\r",
      "\u001b[K     |███████████████████▋            | 317 kB 5.8 MB/s eta 0:00:01\r",
      "\u001b[K     |████████████████████▎           | 327 kB 5.8 MB/s eta 0:00:01\r",
      "\u001b[K     |█████████████████████           | 337 kB 5.8 MB/s eta 0:00:01\r",
      "\u001b[K     |█████████████████████▌          | 348 kB 5.8 MB/s eta 0:00:01\r",
      "\u001b[K     |██████████████████████▏         | 358 kB 5.8 MB/s eta 0:00:01\r",
      "\u001b[K     |██████████████████████▉         | 368 kB 5.8 MB/s eta 0:00:01\r",
      "\u001b[K     |███████████████████████▍        | 378 kB 5.8 MB/s eta 0:00:01\r",
      "\u001b[K     |████████████████████████        | 389 kB 5.8 MB/s eta 0:00:01\r",
      "\u001b[K     |████████████████████████▊       | 399 kB 5.8 MB/s eta 0:00:01\r",
      "\u001b[K     |█████████████████████████▎      | 409 kB 5.8 MB/s eta 0:00:01\r",
      "\u001b[K     |██████████████████████████      | 419 kB 5.8 MB/s eta 0:00:01\r",
      "\u001b[K     |██████████████████████████▋     | 430 kB 5.8 MB/s eta 0:00:01\r",
      "\u001b[K     |███████████████████████████▎    | 440 kB 5.8 MB/s eta 0:00:01\r",
      "\u001b[K     |███████████████████████████▉    | 450 kB 5.8 MB/s eta 0:00:01\r",
      "\u001b[K     |████████████████████████████▌   | 460 kB 5.8 MB/s eta 0:00:01\r",
      "\u001b[K     |█████████████████████████████▏  | 471 kB 5.8 MB/s eta 0:00:01\r",
      "\u001b[K     |█████████████████████████████▊  | 481 kB 5.8 MB/s eta 0:00:01\r",
      "\u001b[K     |██████████████████████████████▍ | 491 kB 5.8 MB/s eta 0:00:01\r",
      "\u001b[K     |███████████████████████████████ | 501 kB 5.8 MB/s eta 0:00:01\r",
      "\u001b[K     |███████████████████████████████▋| 512 kB 5.8 MB/s eta 0:00:01\r",
      "\u001b[K     |████████████████████████████████| 517 kB 5.8 MB/s \r\n",
      "\u001b[?25h"
     ]
    },
    {
     "name": "stdout",
     "output_type": "stream",
     "text": [
      "Collecting attrs==20.3.0\r\n",
      "  Downloading attrs-20.3.0-py2.py3-none-any.whl (49 kB)\r\n",
      "\u001b[?25l\r",
      "\u001b[K     |██████▋                         | 10 kB 52.1 MB/s eta 0:00:01\r",
      "\u001b[K     |█████████████▎                  | 20 kB 56.4 MB/s eta 0:00:01\r",
      "\u001b[K     |████████████████████            | 30 kB 68.3 MB/s eta 0:00:01\r",
      "\u001b[K     |██████████████████████████▋     | 40 kB 75.4 MB/s eta 0:00:01\r",
      "\u001b[K     |████████████████████████████████| 49 kB 11.5 MB/s \r\n",
      "\u001b[?25h"
     ]
    },
    {
     "name": "stdout",
     "output_type": "stream",
     "text": [
      "Collecting boto3>=1.20.21\r\n",
      "  Downloading boto3-1.21.25-py3-none-any.whl (132 kB)\r\n",
      "\u001b[?25l\r",
      "\u001b[K     |██▌                             | 10 kB 50.9 MB/s eta 0:00:01\r",
      "\u001b[K     |█████                           | 20 kB 57.9 MB/s eta 0:00:01\r",
      "\u001b[K     |███████▍                        | 30 kB 69.8 MB/s eta 0:00:01\r",
      "\u001b[K     |██████████                      | 40 kB 77.3 MB/s eta 0:00:01\r",
      "\u001b[K     |████████████▍                   | 51 kB 82.1 MB/s eta 0:00:01\r",
      "\u001b[K     |██████████████▉                 | 61 kB 88.2 MB/s eta 0:00:01\r",
      "\u001b[K     |█████████████████▍              | 71 kB 92.1 MB/s eta 0:00:01\r",
      "\u001b[K     |███████████████████▉            | 81 kB 94.8 MB/s eta 0:00:01\r",
      "\u001b[K     |██████████████████████▎         | 92 kB 98.7 MB/s eta 0:00:01\r",
      "\u001b[K     |████████████████████████▊       | 102 kB 100.6 MB/s eta 0:00:01\r",
      "\u001b[K     |███████████████████████████▎    | 112 kB 100.6 MB/s eta 0:00:01\r",
      "\u001b[K     |█████████████████████████████▊  | 122 kB 100.6 MB/s eta 0:00:01\r",
      "\u001b[K     |████████████████████████████████| 132 kB 100.6 MB/s \r\n",
      "\u001b[?25hRequirement already satisfied: google-pasta in /opt/conda/lib/python3.7/site-packages (from sagemaker) (0.2.0)\r\n",
      "Requirement already satisfied: numpy>=1.9.0 in /opt/conda/lib/python3.7/site-packages (from sagemaker) (1.21.1)\r\n",
      "Requirement already satisfied: protobuf>=3.1 in /opt/conda/lib/python3.7/site-packages (from sagemaker) (3.17.3)\r\n",
      "Requirement already satisfied: protobuf3-to-dict>=0.1.5 in /opt/conda/lib/python3.7/site-packages (from sagemaker) (0.1.5)\r\n",
      "Requirement already satisfied: smdebug_rulesconfig==1.0.1 in /opt/conda/lib/python3.7/site-packages (from sagemaker) (1.0.1)\r\n",
      "Requirement already satisfied: importlib-metadata>=1.4.0 in /opt/conda/lib/python3.7/site-packages (from sagemaker) (1.5.0)\r\n",
      "Requirement already satisfied: packaging>=20.0 in /opt/conda/lib/python3.7/site-packages (from sagemaker) (20.1)\r\n",
      "Requirement already satisfied: pandas in /opt/conda/lib/python3.7/site-packages (from sagemaker) (1.0.1)\r\n"
     ]
    },
    {
     "name": "stdout",
     "output_type": "stream",
     "text": [
      "Requirement already satisfied: pathos in /opt/conda/lib/python3.7/site-packages (from sagemaker) (0.2.8)\r\n"
     ]
    },
    {
     "name": "stdout",
     "output_type": "stream",
     "text": [
      "Collecting botocore<1.25.0,>=1.24.25\r\n",
      "  Downloading botocore-1.24.25-py3-none-any.whl (8.6 MB)\r\n",
      "\u001b[?25l\r",
      "\u001b[K     |                                | 10 kB 45.9 MB/s eta 0:00:01\r",
      "\u001b[K     |                                | 20 kB 50.0 MB/s eta 0:00:01\r",
      "\u001b[K     |▏                               | 30 kB 61.6 MB/s eta 0:00:01\r",
      "\u001b[K     |▏                               | 40 kB 69.0 MB/s eta 0:00:01\r",
      "\u001b[K     |▏                               | 51 kB 72.3 MB/s eta 0:00:01\r",
      "\u001b[K     |▎                               | 61 kB 77.3 MB/s eta 0:00:01\r",
      "\u001b[K     |▎                               | 71 kB 80.6 MB/s eta 0:00:01\r",
      "\u001b[K     |▎                               | 81 kB 84.8 MB/s eta 0:00:01\r",
      "\u001b[K     |▍                               | 92 kB 86.3 MB/s eta 0:00:01\r",
      "\u001b[K     |▍                               | 102 kB 86.8 MB/s eta 0:00:01\r",
      "\u001b[K     |▍                               | 112 kB 86.8 MB/s eta 0:00:01\r",
      "\u001b[K     |▌                               | 122 kB 86.8 MB/s eta 0:00:01\r",
      "\u001b[K     |▌                               | 133 kB 86.8 MB/s eta 0:00:01\r",
      "\u001b[K     |▌                               | 143 kB 86.8 MB/s eta 0:00:01\r",
      "\u001b[K     |▋                               | 153 kB 86.8 MB/s eta 0:00:01\r",
      "\u001b[K     |▋                               | 163 kB 86.8 MB/s eta 0:00:01\r",
      "\u001b[K     |▋                               | 174 kB 86.8 MB/s eta 0:00:01\r",
      "\u001b[K     |▊                               | 184 kB 86.8 MB/s eta 0:00:01\r",
      "\u001b[K     |▊                               | 194 kB 86.8 MB/s eta 0:00:01\r",
      "\u001b[K     |▊                               | 204 kB 86.8 MB/s eta 0:00:01\r",
      "\u001b[K     |▉                               | 215 kB 86.8 MB/s eta 0:00:01\r",
      "\u001b[K     |▉                               | 225 kB 86.8 MB/s eta 0:00:01\r",
      "\u001b[K     |▉                               | 235 kB 86.8 MB/s eta 0:00:01\r",
      "\u001b[K     |█                               | 245 kB 86.8 MB/s eta 0:00:01\r",
      "\u001b[K     |█                               | 256 kB 86.8 MB/s eta 0:00:01\r",
      "\u001b[K     |█                               | 266 kB 86.8 MB/s eta 0:00:01\r",
      "\u001b[K     |█                               | 276 kB 86.8 MB/s eta 0:00:01\r",
      "\u001b[K     |█                               | 286 kB 86.8 MB/s eta 0:00:01\r",
      "\u001b[K     |█                               | 296 kB 86.8 MB/s eta 0:00:01\r",
      "\u001b[K     |█▏                              | 307 kB 86.8 MB/s eta 0:00:01\r",
      "\u001b[K     |█▏                              | 317 kB 86.8 MB/s eta 0:00:01\r",
      "\u001b[K     |█▏                              | 327 kB 86.8 MB/s eta 0:00:01\r",
      "\u001b[K     |█▎                              | 337 kB 86.8 MB/s eta 0:00:01\r",
      "\u001b[K     |█▎                              | 348 kB 86.8 MB/s eta 0:00:01\r",
      "\u001b[K     |█▎                              | 358 kB 86.8 MB/s eta 0:00:01\r",
      "\u001b[K     |█▍                              | 368 kB 86.8 MB/s eta 0:00:01\r",
      "\u001b[K     |█▍                              | 378 kB 86.8 MB/s eta 0:00:01\r",
      "\u001b[K     |█▌                              | 389 kB 86.8 MB/s eta 0:00:01\r",
      "\u001b[K     |█▌                              | 399 kB 86.8 MB/s eta 0:00:01\r",
      "\u001b[K     |█▌                              | 409 kB 86.8 MB/s eta 0:00:01\r",
      "\u001b[K     |█▋                              | 419 kB 86.8 MB/s eta 0:00:01\r",
      "\u001b[K     |█▋                              | 430 kB 86.8 MB/s eta 0:00:01\r",
      "\u001b[K     |█▋                              | 440 kB 86.8 MB/s eta 0:00:01\r",
      "\u001b[K     |█▊                              | 450 kB 86.8 MB/s eta 0:00:01\r",
      "\u001b[K     |█▊                              | 460 kB 86.8 MB/s eta 0:00:01\r",
      "\u001b[K     |█▊                              | 471 kB 86.8 MB/s eta 0:00:01\r",
      "\u001b[K     |█▉                              | 481 kB 86.8 MB/s eta 0:00:01\r",
      "\u001b[K     |█▉                              | 491 kB 86.8 MB/s eta 0:00:01\r",
      "\u001b[K     |█▉                              | 501 kB 86.8 MB/s eta 0:00:01\r",
      "\u001b[K     |██                              | 512 kB 86.8 MB/s eta 0:00:01\r",
      "\u001b[K     |██                              | 522 kB 86.8 MB/s eta 0:00:01\r",
      "\u001b[K     |██                              | 532 kB 86.8 MB/s eta 0:00:01\r",
      "\u001b[K     |██                              | 542 kB 86.8 MB/s eta 0:00:01\r",
      "\u001b[K     |██                              | 552 kB 86.8 MB/s eta 0:00:01\r",
      "\u001b[K     |██                              | 563 kB 86.8 MB/s eta 0:00:01\r",
      "\u001b[K     |██▏                             | 573 kB 86.8 MB/s eta 0:00:01\r",
      "\u001b[K     |██▏                             | 583 kB 86.8 MB/s eta 0:00:01\r",
      "\u001b[K     |██▏                             | 593 kB 86.8 MB/s eta 0:00:01\r",
      "\u001b[K     |██▎                             | 604 kB 86.8 MB/s eta 0:00:01\r",
      "\u001b[K     |██▎                             | 614 kB 86.8 MB/s eta 0:00:01\r",
      "\u001b[K     |██▎                             | 624 kB 86.8 MB/s eta 0:00:01"
     ]
    },
    {
     "name": "stdout",
     "output_type": "stream",
     "text": [
      "\r",
      "\u001b[K     |██▍                             | 634 kB 86.8 MB/s eta 0:00:01\r",
      "\u001b[K     |██▍                             | 645 kB 86.8 MB/s eta 0:00:01\r",
      "\u001b[K     |██▍                             | 655 kB 86.8 MB/s eta 0:00:01\r",
      "\u001b[K     |██▌                             | 665 kB 86.8 MB/s eta 0:00:01\r",
      "\u001b[K     |██▌                             | 675 kB 86.8 MB/s eta 0:00:01\r",
      "\u001b[K     |██▌                             | 686 kB 86.8 MB/s eta 0:00:01\r",
      "\u001b[K     |██▋                             | 696 kB 86.8 MB/s eta 0:00:01\r",
      "\u001b[K     |██▋                             | 706 kB 86.8 MB/s eta 0:00:01\r",
      "\u001b[K     |██▋                             | 716 kB 86.8 MB/s eta 0:00:01\r",
      "\u001b[K     |██▊                             | 727 kB 86.8 MB/s eta 0:00:01\r",
      "\u001b[K     |██▊                             | 737 kB 86.8 MB/s eta 0:00:01\r",
      "\u001b[K     |██▊                             | 747 kB 86.8 MB/s eta 0:00:01\r",
      "\u001b[K     |██▉                             | 757 kB 86.8 MB/s eta 0:00:01\r",
      "\u001b[K     |██▉                             | 768 kB 86.8 MB/s eta 0:00:01\r",
      "\u001b[K     |███                             | 778 kB 86.8 MB/s eta 0:00:01\r",
      "\u001b[K     |███                             | 788 kB 86.8 MB/s eta 0:00:01\r",
      "\u001b[K     |███                             | 798 kB 86.8 MB/s eta 0:00:01\r",
      "\u001b[K     |███                             | 808 kB 86.8 MB/s eta 0:00:01\r",
      "\u001b[K     |███                             | 819 kB 86.8 MB/s eta 0:00:01\r",
      "\u001b[K     |███                             | 829 kB 86.8 MB/s eta 0:00:01\r",
      "\u001b[K     |███▏                            | 839 kB 86.8 MB/s eta 0:00:01\r",
      "\u001b[K     |███▏                            | 849 kB 86.8 MB/s eta 0:00:01\r",
      "\u001b[K     |███▏                            | 860 kB 86.8 MB/s eta 0:00:01\r",
      "\u001b[K     |███▎                            | 870 kB 86.8 MB/s eta 0:00:01\r",
      "\u001b[K     |███▎                            | 880 kB 86.8 MB/s eta 0:00:01\r",
      "\u001b[K     |███▎                            | 890 kB 86.8 MB/s eta 0:00:01\r",
      "\u001b[K     |███▍                            | 901 kB 86.8 MB/s eta 0:00:01\r",
      "\u001b[K     |███▍                            | 911 kB 86.8 MB/s eta 0:00:01\r",
      "\u001b[K     |███▍                            | 921 kB 86.8 MB/s eta 0:00:01\r",
      "\u001b[K     |███▌                            | 931 kB 86.8 MB/s eta 0:00:01\r",
      "\u001b[K     |███▌                            | 942 kB 86.8 MB/s eta 0:00:01\r",
      "\u001b[K     |███▌                            | 952 kB 86.8 MB/s eta 0:00:01\r",
      "\u001b[K     |███▋                            | 962 kB 86.8 MB/s eta 0:00:01\r",
      "\u001b[K     |███▋                            | 972 kB 86.8 MB/s eta 0:00:01\r",
      "\u001b[K     |███▋                            | 983 kB 86.8 MB/s eta 0:00:01\r",
      "\u001b[K     |███▊                            | 993 kB 86.8 MB/s eta 0:00:01\r",
      "\u001b[K     |███▊                            | 1.0 MB 86.8 MB/s eta 0:00:01\r",
      "\u001b[K     |███▊                            | 1.0 MB 86.8 MB/s eta 0:00:01\r",
      "\u001b[K     |███▉                            | 1.0 MB 86.8 MB/s eta 0:00:01\r",
      "\u001b[K     |███▉                            | 1.0 MB 86.8 MB/s eta 0:00:01\r",
      "\u001b[K     |███▉                            | 1.0 MB 86.8 MB/s eta 0:00:01\r",
      "\u001b[K     |████                            | 1.1 MB 86.8 MB/s eta 0:00:01\r",
      "\u001b[K     |████                            | 1.1 MB 86.8 MB/s eta 0:00:01\r",
      "\u001b[K     |████                            | 1.1 MB 86.8 MB/s eta 0:00:01\r",
      "\u001b[K     |████                            | 1.1 MB 86.8 MB/s eta 0:00:01\r",
      "\u001b[K     |████                            | 1.1 MB 86.8 MB/s eta 0:00:01\r",
      "\u001b[K     |████                            | 1.1 MB 86.8 MB/s eta 0:00:01\r",
      "\u001b[K     |████▏                           | 1.1 MB 86.8 MB/s eta 0:00:01\r",
      "\u001b[K     |████▏                           | 1.1 MB 86.8 MB/s eta 0:00:01\r",
      "\u001b[K     |████▎                           | 1.1 MB 86.8 MB/s eta 0:00:01\r",
      "\u001b[K     |████▎                           | 1.1 MB 86.8 MB/s eta 0:00:01\r",
      "\u001b[K     |████▎                           | 1.2 MB 86.8 MB/s eta 0:00:01\r",
      "\u001b[K     |████▍                           | 1.2 MB 86.8 MB/s eta 0:00:01\r",
      "\u001b[K     |████▍                           | 1.2 MB 86.8 MB/s eta 0:00:01\r",
      "\u001b[K     |████▍                           | 1.2 MB 86.8 MB/s eta 0:00:01\r",
      "\u001b[K     |████▌                           | 1.2 MB 86.8 MB/s eta 0:00:01\r",
      "\u001b[K     |████▌                           | 1.2 MB 86.8 MB/s eta 0:00:01\r",
      "\u001b[K     |████▌                           | 1.2 MB 86.8 MB/s eta 0:00:01\r",
      "\u001b[K     |████▋                           | 1.2 MB 86.8 MB/s eta 0:00:01\r",
      "\u001b[K     |████▋                           | 1.2 MB 86.8 MB/s eta 0:00:01\r",
      "\u001b[K     |████▋                           | 1.2 MB 86.8 MB/s eta 0:00:01\r",
      "\u001b[K     |████▊                           | 1.3 MB 86.8 MB/s eta 0:00:01\r",
      "\u001b[K     |████▊                           | 1.3 MB 86.8 MB/s eta 0:00:01\r",
      "\u001b[K     |████▊                           | 1.3 MB 86.8 MB/s eta 0:00:01\r",
      "\u001b[K     |████▉                           | 1.3 MB 86.8 MB/s eta 0:00:01\r",
      "\u001b[K     |████▉                           | 1.3 MB 86.8 MB/s eta 0:00:01\r",
      "\u001b[K     |████▉                           | 1.3 MB 86.8 MB/s eta 0:00:01\r",
      "\u001b[K     |█████                           | 1.3 MB 86.8 MB/s eta 0:00:01\r",
      "\u001b[K     |█████                           | 1.3 MB 86.8 MB/s eta 0:00:01\r",
      "\u001b[K     |█████                           | 1.3 MB 86.8 MB/s eta 0:00:01\r",
      "\u001b[K     |█████                           | 1.4 MB 86.8 MB/s eta 0:00:01\r",
      "\u001b[K     |█████                           | 1.4 MB 86.8 MB/s eta 0:00:01\r",
      "\u001b[K     |█████                           | 1.4 MB 86.8 MB/s eta 0:00:01\r",
      "\u001b[K     |█████▏                          | 1.4 MB 86.8 MB/s eta 0:00:01\r",
      "\u001b[K     |█████▏                          | 1.4 MB 86.8 MB/s eta 0:00:01\r",
      "\u001b[K     |█████▏                          | 1.4 MB 86.8 MB/s eta 0:00:01\r",
      "\u001b[K     |█████▎                          | 1.4 MB 86.8 MB/s eta 0:00:01\r",
      "\u001b[K     |█████▎                          | 1.4 MB 86.8 MB/s eta 0:00:01\r",
      "\u001b[K     |█████▎                          | 1.4 MB 86.8 MB/s eta 0:00:01\r",
      "\u001b[K     |█████▍                          | 1.4 MB 86.8 MB/s eta 0:00:01\r",
      "\u001b[K     |█████▍                          | 1.5 MB 86.8 MB/s eta 0:00:01\r",
      "\u001b[K     |█████▍                          | 1.5 MB 86.8 MB/s eta 0:00:01\r",
      "\u001b[K     |█████▌                          | 1.5 MB 86.8 MB/s eta 0:00:01\r",
      "\u001b[K     |█████▌                          | 1.5 MB 86.8 MB/s eta 0:00:01\r",
      "\u001b[K     |█████▌                          | 1.5 MB 86.8 MB/s eta 0:00:01\r",
      "\u001b[K     |█████▋                          | 1.5 MB 86.8 MB/s eta 0:00:01\r",
      "\u001b[K     |█████▋                          | 1.5 MB 86.8 MB/s eta 0:00:01\r",
      "\u001b[K     |█████▊                          | 1.5 MB 86.8 MB/s eta 0:00:01\r",
      "\u001b[K     |█████▊                          | 1.5 MB 86.8 MB/s eta 0:00:01\r",
      "\u001b[K     |█████▊                          | 1.5 MB 86.8 MB/s eta 0:00:01\r",
      "\u001b[K     |█████▉                          | 1.6 MB 86.8 MB/s eta 0:00:01\r",
      "\u001b[K     |█████▉                          | 1.6 MB 86.8 MB/s eta 0:00:01\r",
      "\u001b[K     |█████▉                          | 1.6 MB 86.8 MB/s eta 0:00:01\r",
      "\u001b[K     |██████                          | 1.6 MB 86.8 MB/s eta 0:00:01\r",
      "\u001b[K     |██████                          | 1.6 MB 86.8 MB/s eta 0:00:01\r",
      "\u001b[K     |██████                          | 1.6 MB 86.8 MB/s eta 0:00:01\r",
      "\u001b[K     |██████                          | 1.6 MB 86.8 MB/s eta 0:00:01\r",
      "\u001b[K     |██████                          | 1.6 MB 86.8 MB/s eta 0:00:01\r",
      "\u001b[K     |██████                          | 1.6 MB 86.8 MB/s eta 0:00:01\r",
      "\u001b[K     |██████▏                         | 1.6 MB 86.8 MB/s eta 0:00:01\r",
      "\u001b[K     |██████▏                         | 1.7 MB 86.8 MB/s eta 0:00:01\r",
      "\u001b[K     |██████▏                         | 1.7 MB 86.8 MB/s eta 0:00:01\r",
      "\u001b[K     |██████▎                         | 1.7 MB 86.8 MB/s eta 0:00:01\r",
      "\u001b[K     |██████▎                         | 1.7 MB 86.8 MB/s eta 0:00:01\r",
      "\u001b[K     |██████▎                         | 1.7 MB 86.8 MB/s eta 0:00:01\r",
      "\u001b[K     |██████▍                         | 1.7 MB 86.8 MB/s eta 0:00:01\r",
      "\u001b[K     |██████▍                         | 1.7 MB 86.8 MB/s eta 0:00:01\r",
      "\u001b[K     |██████▍                         | 1.7 MB 86.8 MB/s eta 0:00:01\r",
      "\u001b[K     |██████▌                         | 1.7 MB 86.8 MB/s eta 0:00:01\r",
      "\u001b[K     |██████▌                         | 1.8 MB 86.8 MB/s eta 0:00:01\r",
      "\u001b[K     |██████▌                         | 1.8 MB 86.8 MB/s eta 0:00:01\r",
      "\u001b[K     |██████▋                         | 1.8 MB 86.8 MB/s eta 0:00:01\r",
      "\u001b[K     |██████▋                         | 1.8 MB 86.8 MB/s eta 0:00:01\r",
      "\u001b[K     |██████▋                         | 1.8 MB 86.8 MB/s eta 0:00:01\r",
      "\u001b[K     |██████▊                         | 1.8 MB 86.8 MB/s eta 0:00:01\r",
      "\u001b[K     |██████▊                         | 1.8 MB 86.8 MB/s eta 0:00:01\r",
      "\u001b[K     |██████▊                         | 1.8 MB 86.8 MB/s eta 0:00:01\r",
      "\u001b[K     |██████▉                         | 1.8 MB 86.8 MB/s eta 0:00:01\r",
      "\u001b[K     |██████▉                         | 1.8 MB 86.8 MB/s eta 0:00:01\r",
      "\u001b[K     |██████▉                         | 1.9 MB 86.8 MB/s eta 0:00:01\r",
      "\u001b[K     |███████                         | 1.9 MB 86.8 MB/s eta 0:00:01\r",
      "\u001b[K     |███████                         | 1.9 MB 86.8 MB/s eta 0:00:01\r",
      "\u001b[K     |███████                         | 1.9 MB 86.8 MB/s eta 0:00:01\r",
      "\u001b[K     |███████                         | 1.9 MB 86.8 MB/s eta 0:00:01\r",
      "\u001b[K     |███████                         | 1.9 MB 86.8 MB/s eta 0:00:01\r",
      "\u001b[K     |███████▏                        | 1.9 MB 86.8 MB/s eta 0:00:01\r",
      "\u001b[K     |███████▏                        | 1.9 MB 86.8 MB/s eta 0:00:01\r",
      "\u001b[K     |███████▏                        | 1.9 MB 86.8 MB/s eta 0:00:01\r",
      "\u001b[K     |███████▎                        | 1.9 MB 86.8 MB/s eta 0:00:01\r",
      "\u001b[K     |███████▎                        | 2.0 MB 86.8 MB/s eta 0:00:01\r",
      "\u001b[K     |███████▎                        | 2.0 MB 86.8 MB/s eta 0:00:01\r",
      "\u001b[K     |███████▍                        | 2.0 MB 86.8 MB/s eta 0:00:01\r",
      "\u001b[K     |███████▍                        | 2.0 MB 86.8 MB/s eta 0:00:01\r",
      "\u001b[K     |███████▍                        | 2.0 MB 86.8 MB/s eta 0:00:01\r",
      "\u001b[K     |███████▌                        | 2.0 MB 86.8 MB/s eta 0:00:01\r",
      "\u001b[K     |███████▌                        | 2.0 MB 86.8 MB/s eta 0:00:01\r",
      "\u001b[K     |███████▌                        | 2.0 MB 86.8 MB/s eta 0:00:01\r",
      "\u001b[K     |███████▋                        | 2.0 MB 86.8 MB/s eta 0:00:01\r",
      "\u001b[K     |███████▋                        | 2.0 MB 86.8 MB/s eta 0:00:01\r",
      "\u001b[K     |███████▋                        | 2.1 MB 86.8 MB/s eta 0:00:01\r",
      "\u001b[K     |███████▊                        | 2.1 MB 86.8 MB/s eta 0:00:01\r",
      "\u001b[K     |███████▊                        | 2.1 MB 86.8 MB/s eta 0:00:01\r",
      "\u001b[K     |███████▊                        | 2.1 MB 86.8 MB/s eta 0:00:01\r",
      "\u001b[K     |███████▉                        | 2.1 MB 86.8 MB/s eta 0:00:01\r",
      "\u001b[K     |███████▉                        | 2.1 MB 86.8 MB/s eta 0:00:01\r",
      "\u001b[K     |███████▉                        | 2.1 MB 86.8 MB/s eta 0:00:01\r",
      "\u001b[K     |████████                        | 2.1 MB 86.8 MB/s eta 0:00:01\r",
      "\u001b[K     |████████                        | 2.1 MB 86.8 MB/s eta 0:00:01\r",
      "\u001b[K     |████████                        | 2.2 MB 86.8 MB/s eta 0:00:01\r",
      "\u001b[K     |████████                        | 2.2 MB 86.8 MB/s eta 0:00:01\r",
      "\u001b[K     |████████                        | 2.2 MB 86.8 MB/s eta 0:00:01\r",
      "\u001b[K     |████████                        | 2.2 MB 86.8 MB/s eta 0:00:01\r",
      "\u001b[K     |████████▏                       | 2.2 MB 86.8 MB/s eta 0:00:01\r",
      "\u001b[K     |████████▏                       | 2.2 MB 86.8 MB/s eta 0:00:01\r",
      "\u001b[K     |████████▏                       | 2.2 MB 86.8 MB/s eta 0:00:01\r",
      "\u001b[K     |████████▎                       | 2.2 MB 86.8 MB/s eta 0:00:01\r",
      "\u001b[K     |████████▎                       | 2.2 MB 86.8 MB/s eta 0:00:01\r",
      "\u001b[K     |████████▎                       | 2.2 MB 86.8 MB/s eta 0:00:01\r",
      "\u001b[K     |████████▍                       | 2.3 MB 86.8 MB/s eta 0:00:01\r",
      "\u001b[K     |████████▍                       | 2.3 MB 86.8 MB/s eta 0:00:01\r",
      "\u001b[K     |████████▌                       | 2.3 MB 86.8 MB/s eta 0:00:01\r",
      "\u001b[K     |████████▌                       | 2.3 MB 86.8 MB/s eta 0:00:01\r",
      "\u001b[K     |████████▌                       | 2.3 MB 86.8 MB/s eta 0:00:01\r",
      "\u001b[K     |████████▋                       | 2.3 MB 86.8 MB/s eta 0:00:01\r",
      "\u001b[K     |████████▋                       | 2.3 MB 86.8 MB/s eta 0:00:01\r",
      "\u001b[K     |████████▋                       | 2.3 MB 86.8 MB/s eta 0:00:01\r",
      "\u001b[K     |████████▊                       | 2.3 MB 86.8 MB/s eta 0:00:01\r",
      "\u001b[K     |████████▊                       | 2.3 MB 86.8 MB/s eta 0:00:01\r",
      "\u001b[K     |████████▊                       | 2.4 MB 86.8 MB/s eta 0:00:01\r",
      "\u001b[K     |████████▉                       | 2.4 MB 86.8 MB/s eta 0:00:01\r",
      "\u001b[K     |████████▉                       | 2.4 MB 86.8 MB/s eta 0:00:01\r",
      "\u001b[K     |████████▉                       | 2.4 MB 86.8 MB/s eta 0:00:01\r",
      "\u001b[K     |█████████                       | 2.4 MB 86.8 MB/s eta 0:00:01\r",
      "\u001b[K     |█████████                       | 2.4 MB 86.8 MB/s eta 0:00:01\r",
      "\u001b[K     |█████████                       | 2.4 MB 86.8 MB/s eta 0:00:01\r",
      "\u001b[K     |█████████                       | 2.4 MB 86.8 MB/s eta 0:00:01\r",
      "\u001b[K     |█████████                       | 2.4 MB 86.8 MB/s eta 0:00:01\r",
      "\u001b[K     |█████████                       | 2.4 MB 86.8 MB/s eta 0:00:01\r",
      "\u001b[K     |█████████▏                      | 2.5 MB 86.8 MB/s eta 0:00:01\r",
      "\u001b[K     |█████████▏                      | 2.5 MB 86.8 MB/s eta 0:00:01\r",
      "\u001b[K     |█████████▏                      | 2.5 MB 86.8 MB/s eta 0:00:01\r",
      "\u001b[K     |█████████▎                      | 2.5 MB 86.8 MB/s eta 0:00:01\r",
      "\u001b[K     |█████████▎                      | 2.5 MB 86.8 MB/s eta 0:00:01\r",
      "\u001b[K     |█████████▎                      | 2.5 MB 86.8 MB/s eta 0:00:01\r",
      "\u001b[K     |█████████▍                      | 2.5 MB 86.8 MB/s eta 0:00:01\r",
      "\u001b[K     |█████████▍                      | 2.5 MB 86.8 MB/s eta 0:00:01\r",
      "\u001b[K     |█████████▍                      | 2.5 MB 86.8 MB/s eta 0:00:01\r",
      "\u001b[K     |█████████▌                      | 2.5 MB 86.8 MB/s eta 0:00:01\r",
      "\u001b[K     |█████████▌                      | 2.6 MB 86.8 MB/s eta 0:00:01\r",
      "\u001b[K     |█████████▌                      | 2.6 MB 86.8 MB/s eta 0:00:01\r",
      "\u001b[K     |█████████▋                      | 2.6 MB 86.8 MB/s eta 0:00:01\r",
      "\u001b[K     |█████████▋                      | 2.6 MB 86.8 MB/s eta 0:00:01\r",
      "\u001b[K     |█████████▋                      | 2.6 MB 86.8 MB/s eta 0:00:01\r",
      "\u001b[K     |█████████▊                      | 2.6 MB 86.8 MB/s eta 0:00:01\r",
      "\u001b[K     |█████████▊                      | 2.6 MB 86.8 MB/s eta 0:00:01\r",
      "\u001b[K     |█████████▊                      | 2.6 MB 86.8 MB/s eta 0:00:01\r",
      "\u001b[K     |█████████▉                      | 2.6 MB 86.8 MB/s eta 0:00:01\r",
      "\u001b[K     |█████████▉                      | 2.7 MB 86.8 MB/s eta 0:00:01\r",
      "\u001b[K     |██████████                      | 2.7 MB 86.8 MB/s eta 0:00:01\r",
      "\u001b[K     |██████████                      | 2.7 MB 86.8 MB/s eta 0:00:01\r",
      "\u001b[K     |██████████                      | 2.7 MB 86.8 MB/s eta 0:00:01\r",
      "\u001b[K     |██████████                      | 2.7 MB 86.8 MB/s eta 0:00:01\r",
      "\u001b[K     |██████████                      | 2.7 MB 86.8 MB/s eta 0:00:01\r",
      "\u001b[K     |██████████                      | 2.7 MB 86.8 MB/s eta 0:00:01\r",
      "\u001b[K     |██████████▏                     | 2.7 MB 86.8 MB/s eta 0:00:01\r",
      "\u001b[K     |██████████▏                     | 2.7 MB 86.8 MB/s eta 0:00:01\r",
      "\u001b[K     |██████████▏                     | 2.7 MB 86.8 MB/s eta 0:00:01\r",
      "\u001b[K     |██████████▎                     | 2.8 MB 86.8 MB/s eta 0:00:01\r",
      "\u001b[K     |██████████▎                     | 2.8 MB 86.8 MB/s eta 0:00:01\r",
      "\u001b[K     |██████████▎                     | 2.8 MB 86.8 MB/s eta 0:00:01\r",
      "\u001b[K     |██████████▍                     | 2.8 MB 86.8 MB/s eta 0:00:01\r",
      "\u001b[K     |██████████▍                     | 2.8 MB 86.8 MB/s eta 0:00:01\r",
      "\u001b[K     |██████████▍                     | 2.8 MB 86.8 MB/s eta 0:00:01\r",
      "\u001b[K     |██████████▌                     | 2.8 MB 86.8 MB/s eta 0:00:01\r",
      "\u001b[K     |██████████▌                     | 2.8 MB 86.8 MB/s eta 0:00:01\r",
      "\u001b[K     |██████████▌                     | 2.8 MB 86.8 MB/s eta 0:00:01\r",
      "\u001b[K     |██████████▋                     | 2.8 MB 86.8 MB/s eta 0:00:01\r",
      "\u001b[K     |██████████▋                     | 2.9 MB 86.8 MB/s eta 0:00:01\r",
      "\u001b[K     |██████████▋                     | 2.9 MB 86.8 MB/s eta 0:00:01\r",
      "\u001b[K     |██████████▊                     | 2.9 MB 86.8 MB/s eta 0:00:01\r",
      "\u001b[K     |██████████▊                     | 2.9 MB 86.8 MB/s eta 0:00:01\r",
      "\u001b[K     |██████████▊                     | 2.9 MB 86.8 MB/s eta 0:00:01\r",
      "\u001b[K     |██████████▉                     | 2.9 MB 86.8 MB/s eta 0:00:01\r",
      "\u001b[K     |██████████▉                     | 2.9 MB 86.8 MB/s eta 0:00:01\r",
      "\u001b[K     |██████████▉                     | 2.9 MB 86.8 MB/s eta 0:00:01\r",
      "\u001b[K     |███████████                     | 2.9 MB 86.8 MB/s eta 0:00:01\r",
      "\u001b[K     |███████████                     | 2.9 MB 86.8 MB/s eta 0:00:01\r",
      "\u001b[K     |███████████                     | 3.0 MB 86.8 MB/s eta 0:00:01\r",
      "\u001b[K     |███████████                     | 3.0 MB 86.8 MB/s eta 0:00:01\r",
      "\u001b[K     |███████████                     | 3.0 MB 86.8 MB/s eta 0:00:01\r",
      "\u001b[K     |███████████                     | 3.0 MB 86.8 MB/s eta 0:00:01\r",
      "\u001b[K     |███████████▏                    | 3.0 MB 86.8 MB/s eta 0:00:01\r",
      "\u001b[K     |███████████▏                    | 3.0 MB 86.8 MB/s eta 0:00:01\r",
      "\u001b[K     |███████████▏                    | 3.0 MB 86.8 MB/s eta 0:00:01\r",
      "\u001b[K     |███████████▎                    | 3.0 MB 86.8 MB/s eta 0:00:01\r",
      "\u001b[K     |███████████▎                    | 3.0 MB 86.8 MB/s eta 0:00:01\r",
      "\u001b[K     |███████████▍                    | 3.1 MB 86.8 MB/s eta 0:00:01\r",
      "\u001b[K     |███████████▍                    | 3.1 MB 86.8 MB/s eta 0:00:01\r",
      "\u001b[K     |███████████▍                    | 3.1 MB 86.8 MB/s eta 0:00:01\r",
      "\u001b[K     |███████████▌                    | 3.1 MB 86.8 MB/s eta 0:00:01\r",
      "\u001b[K     |███████████▌                    | 3.1 MB 86.8 MB/s eta 0:00:01\r",
      "\u001b[K     |███████████▌                    | 3.1 MB 86.8 MB/s eta 0:00:01\r",
      "\u001b[K     |███████████▋                    | 3.1 MB 86.8 MB/s eta 0:00:01\r",
      "\u001b[K     |███████████▋                    | 3.1 MB 86.8 MB/s eta 0:00:01\r",
      "\u001b[K     |███████████▋                    | 3.1 MB 86.8 MB/s eta 0:00:01\r",
      "\u001b[K     |███████████▊                    | 3.1 MB 86.8 MB/s eta 0:00:01\r",
      "\u001b[K     |███████████▊                    | 3.2 MB 86.8 MB/s eta 0:00:01\r",
      "\u001b[K     |███████████▊                    | 3.2 MB 86.8 MB/s eta 0:00:01\r",
      "\u001b[K     |███████████▉                    | 3.2 MB 86.8 MB/s eta 0:00:01\r",
      "\u001b[K     |███████████▉                    | 3.2 MB 86.8 MB/s eta 0:00:01\r",
      "\u001b[K     |███████████▉                    | 3.2 MB 86.8 MB/s eta 0:00:01\r",
      "\u001b[K     |████████████                    | 3.2 MB 86.8 MB/s eta 0:00:01\r",
      "\u001b[K     |████████████                    | 3.2 MB 86.8 MB/s eta 0:00:01\r",
      "\u001b[K     |████████████                    | 3.2 MB 86.8 MB/s eta 0:00:01\r",
      "\u001b[K     |████████████                    | 3.2 MB 86.8 MB/s eta 0:00:01\r",
      "\u001b[K     |████████████                    | 3.2 MB 86.8 MB/s eta 0:00:01\r",
      "\u001b[K     |████████████                    | 3.3 MB 86.8 MB/s eta 0:00:01\r",
      "\u001b[K     |████████████▏                   | 3.3 MB 86.8 MB/s eta 0:00:01\r",
      "\u001b[K     |████████████▏                   | 3.3 MB 86.8 MB/s eta 0:00:01\r",
      "\u001b[K     |████████████▏                   | 3.3 MB 86.8 MB/s eta 0:00:01\r",
      "\u001b[K     |████████████▎                   | 3.3 MB 86.8 MB/s eta 0:00:01\r",
      "\u001b[K     |████████████▎                   | 3.3 MB 86.8 MB/s eta 0:00:01\r",
      "\u001b[K     |████████████▎                   | 3.3 MB 86.8 MB/s eta 0:00:01\r",
      "\u001b[K     |████████████▍                   | 3.3 MB 86.8 MB/s eta 0:00:01\r",
      "\u001b[K     |████████████▍                   | 3.3 MB 86.8 MB/s eta 0:00:01\r",
      "\u001b[K     |████████████▍                   | 3.3 MB 86.8 MB/s eta 0:00:01\r",
      "\u001b[K     |████████████▌                   | 3.4 MB 86.8 MB/s eta 0:00:01\r",
      "\u001b[K     |████████████▌                   | 3.4 MB 86.8 MB/s eta 0:00:01\r",
      "\u001b[K     |████████████▌                   | 3.4 MB 86.8 MB/s eta 0:00:01\r",
      "\u001b[K     |████████████▋                   | 3.4 MB 86.8 MB/s eta 0:00:01\r",
      "\u001b[K     |████████████▋                   | 3.4 MB 86.8 MB/s eta 0:00:01\r",
      "\u001b[K     |████████████▊                   | 3.4 MB 86.8 MB/s eta 0:00:01\r",
      "\u001b[K     |████████████▊                   | 3.4 MB 86.8 MB/s eta 0:00:01\r",
      "\u001b[K     |████████████▊                   | 3.4 MB 86.8 MB/s eta 0:00:01\r",
      "\u001b[K     |████████████▉                   | 3.4 MB 86.8 MB/s eta 0:00:01\r",
      "\u001b[K     |████████████▉                   | 3.5 MB 86.8 MB/s eta 0:00:01\r",
      "\u001b[K     |████████████▉                   | 3.5 MB 86.8 MB/s eta 0:00:01\r",
      "\u001b[K     |█████████████                   | 3.5 MB 86.8 MB/s eta 0:00:01\r",
      "\u001b[K     |█████████████                   | 3.5 MB 86.8 MB/s eta 0:00:01\r",
      "\u001b[K     |█████████████                   | 3.5 MB 86.8 MB/s eta 0:00:01\r",
      "\u001b[K     |█████████████                   | 3.5 MB 86.8 MB/s eta 0:00:01\r",
      "\u001b[K     |█████████████                   | 3.5 MB 86.8 MB/s eta 0:00:01\r",
      "\u001b[K     |█████████████                   | 3.5 MB 86.8 MB/s eta 0:00:01\r",
      "\u001b[K     |█████████████▏                  | 3.5 MB 86.8 MB/s eta 0:00:01\r",
      "\u001b[K     |█████████████▏                  | 3.5 MB 86.8 MB/s eta 0:00:01\r",
      "\u001b[K     |█████████████▏                  | 3.6 MB 86.8 MB/s eta 0:00:01\r",
      "\u001b[K     |█████████████▎                  | 3.6 MB 86.8 MB/s eta 0:00:01\r",
      "\u001b[K     |█████████████▎                  | 3.6 MB 86.8 MB/s eta 0:00:01\r",
      "\u001b[K     |█████████████▎                  | 3.6 MB 86.8 MB/s eta 0:00:01\r",
      "\u001b[K     |█████████████▍                  | 3.6 MB 86.8 MB/s eta 0:00:01\r",
      "\u001b[K     |█████████████▍                  | 3.6 MB 86.8 MB/s eta 0:00:01\r",
      "\u001b[K     |█████████████▍                  | 3.6 MB 86.8 MB/s eta 0:00:01\r",
      "\u001b[K     |█████████████▌                  | 3.6 MB 86.8 MB/s eta 0:00:01\r",
      "\u001b[K     |█████████████▌                  | 3.6 MB 86.8 MB/s eta 0:00:01\r",
      "\u001b[K     |█████████████▌                  | 3.6 MB 86.8 MB/s eta 0:00:01\r",
      "\u001b[K     |█████████████▋                  | 3.7 MB 86.8 MB/s eta 0:00:01\r",
      "\u001b[K     |█████████████▋                  | 3.7 MB 86.8 MB/s eta 0:00:01\r",
      "\u001b[K     |█████████████▋                  | 3.7 MB 86.8 MB/s eta 0:00:01\r",
      "\u001b[K     |█████████████▊                  | 3.7 MB 86.8 MB/s eta 0:00:01\r",
      "\u001b[K     |█████████████▊                  | 3.7 MB 86.8 MB/s eta 0:00:01\r",
      "\u001b[K     |█████████████▊                  | 3.7 MB 86.8 MB/s eta 0:00:01\r",
      "\u001b[K     |█████████████▉                  | 3.7 MB 86.8 MB/s eta 0:00:01\r",
      "\u001b[K     |█████████████▉                  | 3.7 MB 86.8 MB/s eta 0:00:01\r",
      "\u001b[K     |█████████████▉                  | 3.7 MB 86.8 MB/s eta 0:00:01\r",
      "\u001b[K     |██████████████                  | 3.7 MB 86.8 MB/s eta 0:00:01\r",
      "\u001b[K     |██████████████                  | 3.8 MB 86.8 MB/s eta 0:00:01\r",
      "\u001b[K     |██████████████                  | 3.8 MB 86.8 MB/s eta 0:00:01\r",
      "\u001b[K     |██████████████                  | 3.8 MB 86.8 MB/s eta 0:00:01\r",
      "\u001b[K     |██████████████                  | 3.8 MB 86.8 MB/s eta 0:00:01\r",
      "\u001b[K     |██████████████▏                 | 3.8 MB 86.8 MB/s eta 0:00:01\r",
      "\u001b[K     |██████████████▏                 | 3.8 MB 86.8 MB/s eta 0:00:01\r",
      "\u001b[K     |██████████████▏                 | 3.8 MB 86.8 MB/s eta 0:00:01\r",
      "\u001b[K     |██████████████▎                 | 3.8 MB 86.8 MB/s eta 0:00:01\r",
      "\u001b[K     |██████████████▎                 | 3.8 MB 86.8 MB/s eta 0:00:01\r",
      "\u001b[K     |██████████████▎                 | 3.9 MB 86.8 MB/s eta 0:00:01\r",
      "\u001b[K     |██████████████▍                 | 3.9 MB 86.8 MB/s eta 0:00:01\r",
      "\u001b[K     |██████████████▍                 | 3.9 MB 86.8 MB/s eta 0:00:01\r",
      "\u001b[K     |██████████████▍                 | 3.9 MB 86.8 MB/s eta 0:00:01\r",
      "\u001b[K     |██████████████▌                 | 3.9 MB 86.8 MB/s eta 0:00:01\r",
      "\u001b[K     |██████████████▌                 | 3.9 MB 86.8 MB/s eta 0:00:01\r",
      "\u001b[K     |██████████████▌                 | 3.9 MB 86.8 MB/s eta 0:00:01\r",
      "\u001b[K     |██████████████▋                 | 3.9 MB 86.8 MB/s eta 0:00:01\r",
      "\u001b[K     |██████████████▋                 | 3.9 MB 86.8 MB/s eta 0:00:01\r",
      "\u001b[K     |██████████████▋                 | 3.9 MB 86.8 MB/s eta 0:00:01\r",
      "\u001b[K     |██████████████▊                 | 4.0 MB 86.8 MB/s eta 0:00:01\r",
      "\u001b[K     |██████████████▊                 | 4.0 MB 86.8 MB/s eta 0:00:01\r",
      "\u001b[K     |██████████████▊                 | 4.0 MB 86.8 MB/s eta 0:00:01\r",
      "\u001b[K     |██████████████▉                 | 4.0 MB 86.8 MB/s eta 0:00:01\r",
      "\u001b[K     |██████████████▉                 | 4.0 MB 86.8 MB/s eta 0:00:01\r",
      "\u001b[K     |██████████████▉                 | 4.0 MB 86.8 MB/s eta 0:00:01\r",
      "\u001b[K     |███████████████                 | 4.0 MB 86.8 MB/s eta 0:00:01\r",
      "\u001b[K     |███████████████                 | 4.0 MB 86.8 MB/s eta 0:00:01\r",
      "\u001b[K     |███████████████                 | 4.0 MB 86.8 MB/s eta 0:00:01\r",
      "\u001b[K     |███████████████                 | 4.0 MB 86.8 MB/s eta 0:00:01\r",
      "\u001b[K     |███████████████                 | 4.1 MB 86.8 MB/s eta 0:00:01\r",
      "\u001b[K     |███████████████                 | 4.1 MB 86.8 MB/s eta 0:00:01\r",
      "\u001b[K     |███████████████▏                | 4.1 MB 86.8 MB/s eta 0:00:01\r",
      "\u001b[K     |███████████████▏                | 4.1 MB 86.8 MB/s eta 0:00:01\r",
      "\u001b[K     |███████████████▏                | 4.1 MB 86.8 MB/s eta 0:00:01\r",
      "\u001b[K     |███████████████▎                | 4.1 MB 86.8 MB/s eta 0:00:01\r",
      "\u001b[K     |███████████████▎                | 4.1 MB 86.8 MB/s eta 0:00:01\r",
      "\u001b[K     |███████████████▎                | 4.1 MB 86.8 MB/s eta 0:00:01\r",
      "\u001b[K     |███████████████▍                | 4.1 MB 86.8 MB/s eta 0:00:01\r",
      "\u001b[K     |███████████████▍                | 4.1 MB 86.8 MB/s eta 0:00:01\r",
      "\u001b[K     |███████████████▍                | 4.2 MB 86.8 MB/s eta 0:00:01\r",
      "\u001b[K     |███████████████▌                | 4.2 MB 86.8 MB/s eta 0:00:01\r",
      "\u001b[K     |███████████████▌                | 4.2 MB 86.8 MB/s eta 0:00:01\r",
      "\u001b[K     |███████████████▋                | 4.2 MB 86.8 MB/s eta 0:00:01\r",
      "\u001b[K     |███████████████▋                | 4.2 MB 86.8 MB/s eta 0:00:01\r",
      "\u001b[K     |███████████████▋                | 4.2 MB 86.8 MB/s eta 0:00:01\r",
      "\u001b[K     |███████████████▊                | 4.2 MB 86.8 MB/s eta 0:00:01\r",
      "\u001b[K     |███████████████▊                | 4.2 MB 86.8 MB/s eta 0:00:01\r",
      "\u001b[K     |███████████████▊                | 4.2 MB 86.8 MB/s eta 0:00:01\r",
      "\u001b[K     |███████████████▉                | 4.2 MB 86.8 MB/s eta 0:00:01\r",
      "\u001b[K     |███████████████▉                | 4.3 MB 86.8 MB/s eta 0:00:01\r",
      "\u001b[K     |███████████████▉                | 4.3 MB 86.8 MB/s eta 0:00:01\r",
      "\u001b[K     |████████████████                | 4.3 MB 86.8 MB/s eta 0:00:01\r",
      "\u001b[K     |████████████████                | 4.3 MB 86.8 MB/s eta 0:00:01\r",
      "\u001b[K     |████████████████                | 4.3 MB 86.8 MB/s eta 0:00:01\r",
      "\u001b[K     |████████████████                | 4.3 MB 86.8 MB/s eta 0:00:01\r",
      "\u001b[K     |████████████████                | 4.3 MB 86.8 MB/s eta 0:00:01\r",
      "\u001b[K     |████████████████                | 4.3 MB 86.8 MB/s eta 0:00:01\r",
      "\u001b[K     |████████████████▏               | 4.3 MB 86.8 MB/s eta 0:00:01\r",
      "\u001b[K     |████████████████▏               | 4.4 MB 86.8 MB/s eta 0:00:01\r",
      "\u001b[K     |████████████████▏               | 4.4 MB 86.8 MB/s eta 0:00:01\r",
      "\u001b[K     |████████████████▎               | 4.4 MB 86.8 MB/s eta 0:00:01\r",
      "\u001b[K     |████████████████▎               | 4.4 MB 86.8 MB/s eta 0:00:01\r",
      "\u001b[K     |████████████████▎               | 4.4 MB 86.8 MB/s eta 0:00:01\r",
      "\u001b[K     |████████████████▍               | 4.4 MB 86.8 MB/s eta 0:00:01\r",
      "\u001b[K     |████████████████▍               | 4.4 MB 86.8 MB/s eta 0:00:01\r",
      "\u001b[K     |████████████████▍               | 4.4 MB 86.8 MB/s eta 0:00:01\r",
      "\u001b[K     |████████████████▌               | 4.4 MB 86.8 MB/s eta 0:00:01\r",
      "\u001b[K     |████████████████▌               | 4.4 MB 86.8 MB/s eta 0:00:01\r",
      "\u001b[K     |████████████████▌               | 4.5 MB 86.8 MB/s eta 0:00:01\r",
      "\u001b[K     |████████████████▋               | 4.5 MB 86.8 MB/s eta 0:00:01\r",
      "\u001b[K     |████████████████▋               | 4.5 MB 86.8 MB/s eta 0:00:01\r",
      "\u001b[K     |████████████████▋               | 4.5 MB 86.8 MB/s eta 0:00:01\r",
      "\u001b[K     |████████████████▊               | 4.5 MB 86.8 MB/s eta 0:00:01\r",
      "\u001b[K     |████████████████▊               | 4.5 MB 86.8 MB/s eta 0:00:01\r",
      "\u001b[K     |████████████████▊               | 4.5 MB 86.8 MB/s eta 0:00:01\r",
      "\u001b[K     |████████████████▉               | 4.5 MB 86.8 MB/s eta 0:00:01\r",
      "\u001b[K     |████████████████▉               | 4.5 MB 86.8 MB/s eta 0:00:01\r",
      "\u001b[K     |█████████████████               | 4.5 MB 86.8 MB/s eta 0:00:01\r",
      "\u001b[K     |█████████████████               | 4.6 MB 86.8 MB/s eta 0:00:01\r",
      "\u001b[K     |█████████████████               | 4.6 MB 86.8 MB/s eta 0:00:01\r",
      "\u001b[K     |█████████████████               | 4.6 MB 86.8 MB/s eta 0:00:01\r",
      "\u001b[K     |█████████████████               | 4.6 MB 86.8 MB/s eta 0:00:01\r",
      "\u001b[K     |█████████████████               | 4.6 MB 86.8 MB/s eta 0:00:01\r",
      "\u001b[K     |█████████████████▏              | 4.6 MB 86.8 MB/s eta 0:00:01\r",
      "\u001b[K     |█████████████████▏              | 4.6 MB 86.8 MB/s eta 0:00:01\r",
      "\u001b[K     |█████████████████▏              | 4.6 MB 86.8 MB/s eta 0:00:01\r",
      "\u001b[K     |█████████████████▎              | 4.6 MB 86.8 MB/s eta 0:00:01\r",
      "\u001b[K     |█████████████████▎              | 4.6 MB 86.8 MB/s eta 0:00:01\r",
      "\u001b[K     |█████████████████▎              | 4.7 MB 86.8 MB/s eta 0:00:01\r",
      "\u001b[K     |█████████████████▍              | 4.7 MB 86.8 MB/s eta 0:00:01\r",
      "\u001b[K     |█████████████████▍              | 4.7 MB 86.8 MB/s eta 0:00:01\r",
      "\u001b[K     |█████████████████▍              | 4.7 MB 86.8 MB/s eta 0:00:01\r",
      "\u001b[K     |█████████████████▌              | 4.7 MB 86.8 MB/s eta 0:00:01\r",
      "\u001b[K     |█████████████████▌              | 4.7 MB 86.8 MB/s eta 0:00:01\r",
      "\u001b[K     |█████████████████▌              | 4.7 MB 86.8 MB/s eta 0:00:01\r",
      "\u001b[K     |█████████████████▋              | 4.7 MB 86.8 MB/s eta 0:00:01\r",
      "\u001b[K     |█████████████████▋              | 4.7 MB 86.8 MB/s eta 0:00:01\r",
      "\u001b[K     |█████████████████▋              | 4.8 MB 86.8 MB/s eta 0:00:01\r",
      "\u001b[K     |█████████████████▊              | 4.8 MB 86.8 MB/s eta 0:00:01\r",
      "\u001b[K     |█████████████████▊              | 4.8 MB 86.8 MB/s eta 0:00:01\r",
      "\u001b[K     |█████████████████▊              | 4.8 MB 86.8 MB/s eta 0:00:01\r",
      "\u001b[K     |█████████████████▉              | 4.8 MB 86.8 MB/s eta 0:00:01\r",
      "\u001b[K     |█████████████████▉              | 4.8 MB 86.8 MB/s eta 0:00:01\r",
      "\u001b[K     |█████████████████▉              | 4.8 MB 86.8 MB/s eta 0:00:01\r",
      "\u001b[K     |██████████████████              | 4.8 MB 86.8 MB/s eta 0:00:01\r",
      "\u001b[K     |██████████████████              | 4.8 MB 86.8 MB/s eta 0:00:01\r",
      "\u001b[K     |██████████████████              | 4.8 MB 86.8 MB/s eta 0:00:01\r",
      "\u001b[K     |██████████████████              | 4.9 MB 86.8 MB/s eta 0:00:01\r",
      "\u001b[K     |██████████████████              | 4.9 MB 86.8 MB/s eta 0:00:01\r",
      "\u001b[K     |██████████████████              | 4.9 MB 86.8 MB/s eta 0:00:01\r",
      "\u001b[K     |██████████████████▏             | 4.9 MB 86.8 MB/s eta 0:00:01\r",
      "\u001b[K     |██████████████████▏             | 4.9 MB 86.8 MB/s eta 0:00:01\r",
      "\u001b[K     |██████████████████▏             | 4.9 MB 86.8 MB/s eta 0:00:01\r",
      "\u001b[K     |██████████████████▎             | 4.9 MB 86.8 MB/s eta 0:00:01\r",
      "\u001b[K     |██████████████████▎             | 4.9 MB 86.8 MB/s eta 0:00:01\r",
      "\u001b[K     |██████████████████▍             | 4.9 MB 86.8 MB/s eta 0:00:01\r",
      "\u001b[K     |██████████████████▍             | 4.9 MB 86.8 MB/s eta 0:00:01\r",
      "\u001b[K     |██████████████████▍             | 5.0 MB 86.8 MB/s eta 0:00:01\r",
      "\u001b[K     |██████████████████▌             | 5.0 MB 86.8 MB/s eta 0:00:01\r",
      "\u001b[K     |██████████████████▌             | 5.0 MB 86.8 MB/s eta 0:00:01\r",
      "\u001b[K     |██████████████████▌             | 5.0 MB 86.8 MB/s eta 0:00:01\r",
      "\u001b[K     |██████████████████▋             | 5.0 MB 86.8 MB/s eta 0:00:01\r",
      "\u001b[K     |██████████████████▋             | 5.0 MB 86.8 MB/s eta 0:00:01\r",
      "\u001b[K     |██████████████████▋             | 5.0 MB 86.8 MB/s eta 0:00:01\r",
      "\u001b[K     |██████████████████▊             | 5.0 MB 86.8 MB/s eta 0:00:01\r",
      "\u001b[K     |██████████████████▊             | 5.0 MB 86.8 MB/s eta 0:00:01\r",
      "\u001b[K     |██████████████████▊             | 5.0 MB 86.8 MB/s eta 0:00:01\r",
      "\u001b[K     |██████████████████▉             | 5.1 MB 86.8 MB/s eta 0:00:01\r",
      "\u001b[K     |██████████████████▉             | 5.1 MB 86.8 MB/s eta 0:00:01\r",
      "\u001b[K     |██████████████████▉             | 5.1 MB 86.8 MB/s eta 0:00:01\r",
      "\u001b[K     |███████████████████             | 5.1 MB 86.8 MB/s eta 0:00:01\r",
      "\u001b[K     |███████████████████             | 5.1 MB 86.8 MB/s eta 0:00:01\r",
      "\u001b[K     |███████████████████             | 5.1 MB 86.8 MB/s eta 0:00:01\r",
      "\u001b[K     |███████████████████             | 5.1 MB 86.8 MB/s eta 0:00:01\r",
      "\u001b[K     |███████████████████             | 5.1 MB 86.8 MB/s eta 0:00:01\r",
      "\u001b[K     |███████████████████             | 5.1 MB 86.8 MB/s eta 0:00:01\r",
      "\u001b[K     |███████████████████▏            | 5.2 MB 86.8 MB/s eta 0:00:01\r",
      "\u001b[K     |███████████████████▏            | 5.2 MB 86.8 MB/s eta 0:00:01\r",
      "\u001b[K     |███████████████████▏            | 5.2 MB 86.8 MB/s eta 0:00:01\r",
      "\u001b[K     |███████████████████▎            | 5.2 MB 86.8 MB/s eta 0:00:01\r",
      "\u001b[K     |███████████████████▎            | 5.2 MB 86.8 MB/s eta 0:00:01\r",
      "\u001b[K     |███████████████████▎            | 5.2 MB 86.8 MB/s eta 0:00:01\r",
      "\u001b[K     |███████████████████▍            | 5.2 MB 86.8 MB/s eta 0:00:01\r",
      "\u001b[K     |███████████████████▍            | 5.2 MB 86.8 MB/s eta 0:00:01\r",
      "\u001b[K     |███████████████████▍            | 5.2 MB 86.8 MB/s eta 0:00:01\r",
      "\u001b[K     |███████████████████▌            | 5.2 MB 86.8 MB/s eta 0:00:01\r",
      "\u001b[K     |███████████████████▌            | 5.3 MB 86.8 MB/s eta 0:00:01\r",
      "\u001b[K     |███████████████████▌            | 5.3 MB 86.8 MB/s eta 0:00:01\r",
      "\u001b[K     |███████████████████▋            | 5.3 MB 86.8 MB/s eta 0:00:01\r",
      "\u001b[K     |███████████████████▋            | 5.3 MB 86.8 MB/s eta 0:00:01\r",
      "\u001b[K     |███████████████████▊            | 5.3 MB 86.8 MB/s eta 0:00:01\r",
      "\u001b[K     |███████████████████▊            | 5.3 MB 86.8 MB/s eta 0:00:01\r",
      "\u001b[K     |███████████████████▊            | 5.3 MB 86.8 MB/s eta 0:00:01\r",
      "\u001b[K     |███████████████████▉            | 5.3 MB 86.8 MB/s eta 0:00:01\r",
      "\u001b[K     |███████████████████▉            | 5.3 MB 86.8 MB/s eta 0:00:01\r",
      "\u001b[K     |███████████████████▉            | 5.3 MB 86.8 MB/s eta 0:00:01\r",
      "\u001b[K     |████████████████████            | 5.4 MB 86.8 MB/s eta 0:00:01\r",
      "\u001b[K     |████████████████████            | 5.4 MB 86.8 MB/s eta 0:00:01\r",
      "\u001b[K     |████████████████████            | 5.4 MB 86.8 MB/s eta 0:00:01\r",
      "\u001b[K     |████████████████████            | 5.4 MB 86.8 MB/s eta 0:00:01"
     ]
    },
    {
     "name": "stdout",
     "output_type": "stream",
     "text": [
      "\r",
      "\u001b[K     |████████████████████            | 5.4 MB 86.8 MB/s eta 0:00:01\r",
      "\u001b[K     |████████████████████            | 5.4 MB 86.8 MB/s eta 0:00:01\r",
      "\u001b[K     |████████████████████▏           | 5.4 MB 86.8 MB/s eta 0:00:01\r",
      "\u001b[K     |████████████████████▏           | 5.4 MB 86.8 MB/s eta 0:00:01\r",
      "\u001b[K     |████████████████████▏           | 5.4 MB 86.8 MB/s eta 0:00:01\r",
      "\u001b[K     |████████████████████▎           | 5.4 MB 86.8 MB/s eta 0:00:01\r",
      "\u001b[K     |████████████████████▎           | 5.5 MB 86.8 MB/s eta 0:00:01\r",
      "\u001b[K     |████████████████████▎           | 5.5 MB 86.8 MB/s eta 0:00:01\r",
      "\u001b[K     |████████████████████▍           | 5.5 MB 86.8 MB/s eta 0:00:01\r",
      "\u001b[K     |████████████████████▍           | 5.5 MB 86.8 MB/s eta 0:00:01\r",
      "\u001b[K     |████████████████████▍           | 5.5 MB 86.8 MB/s eta 0:00:01\r",
      "\u001b[K     |████████████████████▌           | 5.5 MB 86.8 MB/s eta 0:00:01\r",
      "\u001b[K     |████████████████████▌           | 5.5 MB 86.8 MB/s eta 0:00:01\r",
      "\u001b[K     |████████████████████▌           | 5.5 MB 86.8 MB/s eta 0:00:01\r",
      "\u001b[K     |████████████████████▋           | 5.5 MB 86.8 MB/s eta 0:00:01\r",
      "\u001b[K     |████████████████████▋           | 5.6 MB 86.8 MB/s eta 0:00:01\r",
      "\u001b[K     |████████████████████▋           | 5.6 MB 86.8 MB/s eta 0:00:01\r",
      "\u001b[K     |████████████████████▊           | 5.6 MB 86.8 MB/s eta 0:00:01\r",
      "\u001b[K     |████████████████████▊           | 5.6 MB 86.8 MB/s eta 0:00:01\r",
      "\u001b[K     |████████████████████▊           | 5.6 MB 86.8 MB/s eta 0:00:01\r",
      "\u001b[K     |████████████████████▉           | 5.6 MB 86.8 MB/s eta 0:00:01\r",
      "\u001b[K     |████████████████████▉           | 5.6 MB 86.8 MB/s eta 0:00:01\r",
      "\u001b[K     |████████████████████▉           | 5.6 MB 86.8 MB/s eta 0:00:01\r",
      "\u001b[K     |█████████████████████           | 5.6 MB 86.8 MB/s eta 0:00:01\r",
      "\u001b[K     |█████████████████████           | 5.6 MB 86.8 MB/s eta 0:00:01\r",
      "\u001b[K     |█████████████████████           | 5.7 MB 86.8 MB/s eta 0:00:01\r",
      "\u001b[K     |█████████████████████           | 5.7 MB 86.8 MB/s eta 0:00:01\r",
      "\u001b[K     |█████████████████████           | 5.7 MB 86.8 MB/s eta 0:00:01\r",
      "\u001b[K     |█████████████████████▏          | 5.7 MB 86.8 MB/s eta 0:00:01\r",
      "\u001b[K     |█████████████████████▏          | 5.7 MB 86.8 MB/s eta 0:00:01\r",
      "\u001b[K     |█████████████████████▏          | 5.7 MB 86.8 MB/s eta 0:00:01\r",
      "\u001b[K     |█████████████████████▎          | 5.7 MB 86.8 MB/s eta 0:00:01\r",
      "\u001b[K     |█████████████████████▎          | 5.7 MB 86.8 MB/s eta 0:00:01\r",
      "\u001b[K     |█████████████████████▎          | 5.7 MB 86.8 MB/s eta 0:00:01\r",
      "\u001b[K     |█████████████████████▍          | 5.7 MB 86.8 MB/s eta 0:00:01\r",
      "\u001b[K     |█████████████████████▍          | 5.8 MB 86.8 MB/s eta 0:00:01\r",
      "\u001b[K     |█████████████████████▍          | 5.8 MB 86.8 MB/s eta 0:00:01\r",
      "\u001b[K     |█████████████████████▌          | 5.8 MB 86.8 MB/s eta 0:00:01\r",
      "\u001b[K     |█████████████████████▌          | 5.8 MB 86.8 MB/s eta 0:00:01\r",
      "\u001b[K     |█████████████████████▌          | 5.8 MB 86.8 MB/s eta 0:00:01\r",
      "\u001b[K     |█████████████████████▋          | 5.8 MB 86.8 MB/s eta 0:00:01\r",
      "\u001b[K     |█████████████████████▋          | 5.8 MB 86.8 MB/s eta 0:00:01\r",
      "\u001b[K     |█████████████████████▋          | 5.8 MB 86.8 MB/s eta 0:00:01\r",
      "\u001b[K     |█████████████████████▊          | 5.8 MB 86.8 MB/s eta 0:00:01\r",
      "\u001b[K     |█████████████████████▊          | 5.8 MB 86.8 MB/s eta 0:00:01\r",
      "\u001b[K     |█████████████████████▊          | 5.9 MB 86.8 MB/s eta 0:00:01\r",
      "\u001b[K     |█████████████████████▉          | 5.9 MB 86.8 MB/s eta 0:00:01\r",
      "\u001b[K     |█████████████████████▉          | 5.9 MB 86.8 MB/s eta 0:00:01\r",
      "\u001b[K     |█████████████████████▉          | 5.9 MB 86.8 MB/s eta 0:00:01\r",
      "\u001b[K     |██████████████████████          | 5.9 MB 86.8 MB/s eta 0:00:01\r",
      "\u001b[K     |██████████████████████          | 5.9 MB 86.8 MB/s eta 0:00:01\r",
      "\u001b[K     |██████████████████████          | 5.9 MB 86.8 MB/s eta 0:00:01\r",
      "\u001b[K     |██████████████████████          | 5.9 MB 86.8 MB/s eta 0:00:01\r",
      "\u001b[K     |██████████████████████          | 5.9 MB 86.8 MB/s eta 0:00:01\r",
      "\u001b[K     |██████████████████████          | 5.9 MB 86.8 MB/s eta 0:00:01\r",
      "\u001b[K     |██████████████████████▏         | 6.0 MB 86.8 MB/s eta 0:00:01\r",
      "\u001b[K     |██████████████████████▏         | 6.0 MB 86.8 MB/s eta 0:00:01\r",
      "\u001b[K     |██████████████████████▏         | 6.0 MB 86.8 MB/s eta 0:00:01\r",
      "\u001b[K     |██████████████████████▎         | 6.0 MB 86.8 MB/s eta 0:00:01\r",
      "\u001b[K     |██████████████████████▎         | 6.0 MB 86.8 MB/s eta 0:00:01\r",
      "\u001b[K     |██████████████████████▎         | 6.0 MB 86.8 MB/s eta 0:00:01\r",
      "\u001b[K     |██████████████████████▍         | 6.0 MB 86.8 MB/s eta 0:00:01\r",
      "\u001b[K     |██████████████████████▍         | 6.0 MB 86.8 MB/s eta 0:00:01\r",
      "\u001b[K     |██████████████████████▍         | 6.0 MB 86.8 MB/s eta 0:00:01\r",
      "\u001b[K     |██████████████████████▌         | 6.1 MB 86.8 MB/s eta 0:00:01\r",
      "\u001b[K     |██████████████████████▌         | 6.1 MB 86.8 MB/s eta 0:00:01\r",
      "\u001b[K     |██████████████████████▋         | 6.1 MB 86.8 MB/s eta 0:00:01\r",
      "\u001b[K     |██████████████████████▋         | 6.1 MB 86.8 MB/s eta 0:00:01\r",
      "\u001b[K     |██████████████████████▋         | 6.1 MB 86.8 MB/s eta 0:00:01\r",
      "\u001b[K     |██████████████████████▊         | 6.1 MB 86.8 MB/s eta 0:00:01\r",
      "\u001b[K     |██████████████████████▊         | 6.1 MB 86.8 MB/s eta 0:00:01\r",
      "\u001b[K     |██████████████████████▊         | 6.1 MB 86.8 MB/s eta 0:00:01\r",
      "\u001b[K     |██████████████████████▉         | 6.1 MB 86.8 MB/s eta 0:00:01\r",
      "\u001b[K     |██████████████████████▉         | 6.1 MB 86.8 MB/s eta 0:00:01\r",
      "\u001b[K     |██████████████████████▉         | 6.2 MB 86.8 MB/s eta 0:00:01\r",
      "\u001b[K     |███████████████████████         | 6.2 MB 86.8 MB/s eta 0:00:01\r",
      "\u001b[K     |███████████████████████         | 6.2 MB 86.8 MB/s eta 0:00:01\r",
      "\u001b[K     |███████████████████████         | 6.2 MB 86.8 MB/s eta 0:00:01\r",
      "\u001b[K     |███████████████████████         | 6.2 MB 86.8 MB/s eta 0:00:01\r",
      "\u001b[K     |███████████████████████         | 6.2 MB 86.8 MB/s eta 0:00:01\r",
      "\u001b[K     |███████████████████████         | 6.2 MB 86.8 MB/s eta 0:00:01\r",
      "\u001b[K     |███████████████████████▏        | 6.2 MB 86.8 MB/s eta 0:00:01\r",
      "\u001b[K     |███████████████████████▏        | 6.2 MB 86.8 MB/s eta 0:00:01\r",
      "\u001b[K     |███████████████████████▏        | 6.2 MB 86.8 MB/s eta 0:00:01\r",
      "\u001b[K     |███████████████████████▎        | 6.3 MB 86.8 MB/s eta 0:00:01\r",
      "\u001b[K     |███████████████████████▎        | 6.3 MB 86.8 MB/s eta 0:00:01\r",
      "\u001b[K     |███████████████████████▎        | 6.3 MB 86.8 MB/s eta 0:00:01\r",
      "\u001b[K     |███████████████████████▍        | 6.3 MB 86.8 MB/s eta 0:00:01\r",
      "\u001b[K     |███████████████████████▍        | 6.3 MB 86.8 MB/s eta 0:00:01\r",
      "\u001b[K     |███████████████████████▍        | 6.3 MB 86.8 MB/s eta 0:00:01\r",
      "\u001b[K     |███████████████████████▌        | 6.3 MB 86.8 MB/s eta 0:00:01\r",
      "\u001b[K     |███████████████████████▌        | 6.3 MB 86.8 MB/s eta 0:00:01\r",
      "\u001b[K     |███████████████████████▌        | 6.3 MB 86.8 MB/s eta 0:00:01\r",
      "\u001b[K     |███████████████████████▋        | 6.3 MB 86.8 MB/s eta 0:00:01\r",
      "\u001b[K     |███████████████████████▋        | 6.4 MB 86.8 MB/s eta 0:00:01\r",
      "\u001b[K     |███████████████████████▋        | 6.4 MB 86.8 MB/s eta 0:00:01\r",
      "\u001b[K     |███████████████████████▊        | 6.4 MB 86.8 MB/s eta 0:00:01\r",
      "\u001b[K     |███████████████████████▊        | 6.4 MB 86.8 MB/s eta 0:00:01\r",
      "\u001b[K     |███████████████████████▊        | 6.4 MB 86.8 MB/s eta 0:00:01\r",
      "\u001b[K     |███████████████████████▉        | 6.4 MB 86.8 MB/s eta 0:00:01\r",
      "\u001b[K     |███████████████████████▉        | 6.4 MB 86.8 MB/s eta 0:00:01\r",
      "\u001b[K     |████████████████████████        | 6.4 MB 86.8 MB/s eta 0:00:01\r",
      "\u001b[K     |████████████████████████        | 6.4 MB 86.8 MB/s eta 0:00:01\r",
      "\u001b[K     |████████████████████████        | 6.5 MB 86.8 MB/s eta 0:00:01\r",
      "\u001b[K     |████████████████████████        | 6.5 MB 86.8 MB/s eta 0:00:01\r",
      "\u001b[K     |████████████████████████        | 6.5 MB 86.8 MB/s eta 0:00:01\r",
      "\u001b[K     |████████████████████████        | 6.5 MB 86.8 MB/s eta 0:00:01\r",
      "\u001b[K     |████████████████████████▏       | 6.5 MB 86.8 MB/s eta 0:00:01\r",
      "\u001b[K     |████████████████████████▏       | 6.5 MB 86.8 MB/s eta 0:00:01\r",
      "\u001b[K     |████████████████████████▏       | 6.5 MB 86.8 MB/s eta 0:00:01\r",
      "\u001b[K     |████████████████████████▎       | 6.5 MB 86.8 MB/s eta 0:00:01\r",
      "\u001b[K     |████████████████████████▎       | 6.5 MB 86.8 MB/s eta 0:00:01\r",
      "\u001b[K     |████████████████████████▎       | 6.5 MB 86.8 MB/s eta 0:00:01\r",
      "\u001b[K     |████████████████████████▍       | 6.6 MB 86.8 MB/s eta 0:00:01\r",
      "\u001b[K     |████████████████████████▍       | 6.6 MB 86.8 MB/s eta 0:00:01\r",
      "\u001b[K     |████████████████████████▍       | 6.6 MB 86.8 MB/s eta 0:00:01\r",
      "\u001b[K     |████████████████████████▌       | 6.6 MB 86.8 MB/s eta 0:00:01\r",
      "\u001b[K     |████████████████████████▌       | 6.6 MB 86.8 MB/s eta 0:00:01\r",
      "\u001b[K     |████████████████████████▌       | 6.6 MB 86.8 MB/s eta 0:00:01\r",
      "\u001b[K     |████████████████████████▋       | 6.6 MB 86.8 MB/s eta 0:00:01\r",
      "\u001b[K     |████████████████████████▋       | 6.6 MB 86.8 MB/s eta 0:00:01\r",
      "\u001b[K     |████████████████████████▋       | 6.6 MB 86.8 MB/s eta 0:00:01\r",
      "\u001b[K     |████████████████████████▊       | 6.6 MB 86.8 MB/s eta 0:00:01\r",
      "\u001b[K     |████████████████████████▊       | 6.7 MB 86.8 MB/s eta 0:00:01\r",
      "\u001b[K     |████████████████████████▊       | 6.7 MB 86.8 MB/s eta 0:00:01\r",
      "\u001b[K     |████████████████████████▉       | 6.7 MB 86.8 MB/s eta 0:00:01\r",
      "\u001b[K     |████████████████████████▉       | 6.7 MB 86.8 MB/s eta 0:00:01\r",
      "\u001b[K     |████████████████████████▉       | 6.7 MB 86.8 MB/s eta 0:00:01\r",
      "\u001b[K     |█████████████████████████       | 6.7 MB 86.8 MB/s eta 0:00:01\r",
      "\u001b[K     |█████████████████████████       | 6.7 MB 86.8 MB/s eta 0:00:01\r",
      "\u001b[K     |█████████████████████████       | 6.7 MB 86.8 MB/s eta 0:00:01\r",
      "\u001b[K     |█████████████████████████       | 6.7 MB 86.8 MB/s eta 0:00:01\r",
      "\u001b[K     |█████████████████████████       | 6.7 MB 86.8 MB/s eta 0:00:01\r",
      "\u001b[K     |█████████████████████████       | 6.8 MB 86.8 MB/s eta 0:00:01\r",
      "\u001b[K     |█████████████████████████▏      | 6.8 MB 86.8 MB/s eta 0:00:01\r",
      "\u001b[K     |█████████████████████████▏      | 6.8 MB 86.8 MB/s eta 0:00:01\r",
      "\u001b[K     |█████████████████████████▏      | 6.8 MB 86.8 MB/s eta 0:00:01\r",
      "\u001b[K     |█████████████████████████▎      | 6.8 MB 86.8 MB/s eta 0:00:01\r",
      "\u001b[K     |█████████████████████████▎      | 6.8 MB 86.8 MB/s eta 0:00:01\r",
      "\u001b[K     |█████████████████████████▍      | 6.8 MB 86.8 MB/s eta 0:00:01\r",
      "\u001b[K     |█████████████████████████▍      | 6.8 MB 86.8 MB/s eta 0:00:01\r",
      "\u001b[K     |█████████████████████████▍      | 6.8 MB 86.8 MB/s eta 0:00:01\r",
      "\u001b[K     |█████████████████████████▌      | 6.9 MB 86.8 MB/s eta 0:00:01\r",
      "\u001b[K     |█████████████████████████▌      | 6.9 MB 86.8 MB/s eta 0:00:01\r",
      "\u001b[K     |█████████████████████████▌      | 6.9 MB 86.8 MB/s eta 0:00:01\r",
      "\u001b[K     |█████████████████████████▋      | 6.9 MB 86.8 MB/s eta 0:00:01\r",
      "\u001b[K     |█████████████████████████▋      | 6.9 MB 86.8 MB/s eta 0:00:01\r",
      "\u001b[K     |█████████████████████████▋      | 6.9 MB 86.8 MB/s eta 0:00:01\r",
      "\u001b[K     |█████████████████████████▊      | 6.9 MB 86.8 MB/s eta 0:00:01\r",
      "\u001b[K     |█████████████████████████▊      | 6.9 MB 86.8 MB/s eta 0:00:01\r",
      "\u001b[K     |█████████████████████████▊      | 6.9 MB 86.8 MB/s eta 0:00:01\r",
      "\u001b[K     |█████████████████████████▉      | 6.9 MB 86.8 MB/s eta 0:00:01\r",
      "\u001b[K     |█████████████████████████▉      | 7.0 MB 86.8 MB/s eta 0:00:01\r",
      "\u001b[K     |█████████████████████████▉      | 7.0 MB 86.8 MB/s eta 0:00:01\r",
      "\u001b[K     |██████████████████████████      | 7.0 MB 86.8 MB/s eta 0:00:01\r",
      "\u001b[K     |██████████████████████████      | 7.0 MB 86.8 MB/s eta 0:00:01\r",
      "\u001b[K     |██████████████████████████      | 7.0 MB 86.8 MB/s eta 0:00:01\r",
      "\u001b[K     |██████████████████████████      | 7.0 MB 86.8 MB/s eta 0:00:01\r",
      "\u001b[K     |██████████████████████████      | 7.0 MB 86.8 MB/s eta 0:00:01\r",
      "\u001b[K     |██████████████████████████      | 7.0 MB 86.8 MB/s eta 0:00:01\r",
      "\u001b[K     |██████████████████████████▏     | 7.0 MB 86.8 MB/s eta 0:00:01\r",
      "\u001b[K     |██████████████████████████▏     | 7.0 MB 86.8 MB/s eta 0:00:01\r",
      "\u001b[K     |██████████████████████████▏     | 7.1 MB 86.8 MB/s eta 0:00:01\r",
      "\u001b[K     |██████████████████████████▎     | 7.1 MB 86.8 MB/s eta 0:00:01\r",
      "\u001b[K     |██████████████████████████▎     | 7.1 MB 86.8 MB/s eta 0:00:01\r",
      "\u001b[K     |██████████████████████████▎     | 7.1 MB 86.8 MB/s eta 0:00:01\r",
      "\u001b[K     |██████████████████████████▍     | 7.1 MB 86.8 MB/s eta 0:00:01\r",
      "\u001b[K     |██████████████████████████▍     | 7.1 MB 86.8 MB/s eta 0:00:01\r",
      "\u001b[K     |██████████████████████████▍     | 7.1 MB 86.8 MB/s eta 0:00:01\r",
      "\u001b[K     |██████████████████████████▌     | 7.1 MB 86.8 MB/s eta 0:00:01\r",
      "\u001b[K     |██████████████████████████▌     | 7.1 MB 86.8 MB/s eta 0:00:01\r",
      "\u001b[K     |██████████████████████████▌     | 7.1 MB 86.8 MB/s eta 0:00:01\r",
      "\u001b[K     |██████████████████████████▋     | 7.2 MB 86.8 MB/s eta 0:00:01\r",
      "\u001b[K     |██████████████████████████▋     | 7.2 MB 86.8 MB/s eta 0:00:01\r",
      "\u001b[K     |██████████████████████████▋     | 7.2 MB 86.8 MB/s eta 0:00:01\r",
      "\u001b[K     |██████████████████████████▊     | 7.2 MB 86.8 MB/s eta 0:00:01\r",
      "\u001b[K     |██████████████████████████▊     | 7.2 MB 86.8 MB/s eta 0:00:01\r",
      "\u001b[K     |██████████████████████████▉     | 7.2 MB 86.8 MB/s eta 0:00:01\r",
      "\u001b[K     |██████████████████████████▉     | 7.2 MB 86.8 MB/s eta 0:00:01\r",
      "\u001b[K     |██████████████████████████▉     | 7.2 MB 86.8 MB/s eta 0:00:01\r",
      "\u001b[K     |███████████████████████████     | 7.2 MB 86.8 MB/s eta 0:00:01\r",
      "\u001b[K     |███████████████████████████     | 7.2 MB 86.8 MB/s eta 0:00:01\r",
      "\u001b[K     |███████████████████████████     | 7.3 MB 86.8 MB/s eta 0:00:01\r",
      "\u001b[K     |███████████████████████████     | 7.3 MB 86.8 MB/s eta 0:00:01\r",
      "\u001b[K     |███████████████████████████     | 7.3 MB 86.8 MB/s eta 0:00:01\r",
      "\u001b[K     |███████████████████████████     | 7.3 MB 86.8 MB/s eta 0:00:01\r",
      "\u001b[K     |███████████████████████████▏    | 7.3 MB 86.8 MB/s eta 0:00:01\r",
      "\u001b[K     |███████████████████████████▏    | 7.3 MB 86.8 MB/s eta 0:00:01\r",
      "\u001b[K     |███████████████████████████▏    | 7.3 MB 86.8 MB/s eta 0:00:01\r",
      "\u001b[K     |███████████████████████████▎    | 7.3 MB 86.8 MB/s eta 0:00:01\r",
      "\u001b[K     |███████████████████████████▎    | 7.3 MB 86.8 MB/s eta 0:00:01\r",
      "\u001b[K     |███████████████████████████▎    | 7.4 MB 86.8 MB/s eta 0:00:01\r",
      "\u001b[K     |███████████████████████████▍    | 7.4 MB 86.8 MB/s eta 0:00:01\r",
      "\u001b[K     |███████████████████████████▍    | 7.4 MB 86.8 MB/s eta 0:00:01\r",
      "\u001b[K     |███████████████████████████▍    | 7.4 MB 86.8 MB/s eta 0:00:01\r",
      "\u001b[K     |███████████████████████████▌    | 7.4 MB 86.8 MB/s eta 0:00:01\r",
      "\u001b[K     |███████████████████████████▌    | 7.4 MB 86.8 MB/s eta 0:00:01\r",
      "\u001b[K     |███████████████████████████▌    | 7.4 MB 86.8 MB/s eta 0:00:01\r",
      "\u001b[K     |███████████████████████████▋    | 7.4 MB 86.8 MB/s eta 0:00:01\r",
      "\u001b[K     |███████████████████████████▋    | 7.4 MB 86.8 MB/s eta 0:00:01\r",
      "\u001b[K     |███████████████████████████▋    | 7.4 MB 86.8 MB/s eta 0:00:01\r",
      "\u001b[K     |███████████████████████████▊    | 7.5 MB 86.8 MB/s eta 0:00:01\r",
      "\u001b[K     |███████████████████████████▊    | 7.5 MB 86.8 MB/s eta 0:00:01\r",
      "\u001b[K     |███████████████████████████▊    | 7.5 MB 86.8 MB/s eta 0:00:01\r",
      "\u001b[K     |███████████████████████████▉    | 7.5 MB 86.8 MB/s eta 0:00:01\r",
      "\u001b[K     |███████████████████████████▉    | 7.5 MB 86.8 MB/s eta 0:00:01\r",
      "\u001b[K     |███████████████████████████▉    | 7.5 MB 86.8 MB/s eta 0:00:01\r",
      "\u001b[K     |████████████████████████████    | 7.5 MB 86.8 MB/s eta 0:00:01\r",
      "\u001b[K     |████████████████████████████    | 7.5 MB 86.8 MB/s eta 0:00:01\r",
      "\u001b[K     |████████████████████████████    | 7.5 MB 86.8 MB/s eta 0:00:01\r",
      "\u001b[K     |████████████████████████████    | 7.5 MB 86.8 MB/s eta 0:00:01\r",
      "\u001b[K     |████████████████████████████    | 7.6 MB 86.8 MB/s eta 0:00:01\r",
      "\u001b[K     |████████████████████████████▏   | 7.6 MB 86.8 MB/s eta 0:00:01\r",
      "\u001b[K     |████████████████████████████▏   | 7.6 MB 86.8 MB/s eta 0:00:01\r",
      "\u001b[K     |████████████████████████████▏   | 7.6 MB 86.8 MB/s eta 0:00:01\r",
      "\u001b[K     |████████████████████████████▎   | 7.6 MB 86.8 MB/s eta 0:00:01\r",
      "\u001b[K     |████████████████████████████▎   | 7.6 MB 86.8 MB/s eta 0:00:01\r",
      "\u001b[K     |████████████████████████████▎   | 7.6 MB 86.8 MB/s eta 0:00:01\r",
      "\u001b[K     |████████████████████████████▍   | 7.6 MB 86.8 MB/s eta 0:00:01\r",
      "\u001b[K     |████████████████████████████▍   | 7.6 MB 86.8 MB/s eta 0:00:01\r",
      "\u001b[K     |████████████████████████████▍   | 7.6 MB 86.8 MB/s eta 0:00:01\r",
      "\u001b[K     |████████████████████████████▌   | 7.7 MB 86.8 MB/s eta 0:00:01\r",
      "\u001b[K     |████████████████████████████▌   | 7.7 MB 86.8 MB/s eta 0:00:01\r",
      "\u001b[K     |████████████████████████████▌   | 7.7 MB 86.8 MB/s eta 0:00:01\r",
      "\u001b[K     |████████████████████████████▋   | 7.7 MB 86.8 MB/s eta 0:00:01\r",
      "\u001b[K     |████████████████████████████▋   | 7.7 MB 86.8 MB/s eta 0:00:01\r",
      "\u001b[K     |████████████████████████████▋   | 7.7 MB 86.8 MB/s eta 0:00:01\r",
      "\u001b[K     |████████████████████████████▊   | 7.7 MB 86.8 MB/s eta 0:00:01\r",
      "\u001b[K     |████████████████████████████▊   | 7.7 MB 86.8 MB/s eta 0:00:01\r",
      "\u001b[K     |████████████████████████████▊   | 7.7 MB 86.8 MB/s eta 0:00:01\r",
      "\u001b[K     |████████████████████████████▉   | 7.8 MB 86.8 MB/s eta 0:00:01\r",
      "\u001b[K     |████████████████████████████▉   | 7.8 MB 86.8 MB/s eta 0:00:01\r",
      "\u001b[K     |████████████████████████████▉   | 7.8 MB 86.8 MB/s eta 0:00:01\r",
      "\u001b[K     |█████████████████████████████   | 7.8 MB 86.8 MB/s eta 0:00:01\r",
      "\u001b[K     |█████████████████████████████   | 7.8 MB 86.8 MB/s eta 0:00:01\r",
      "\u001b[K     |█████████████████████████████   | 7.8 MB 86.8 MB/s eta 0:00:01\r",
      "\u001b[K     |█████████████████████████████   | 7.8 MB 86.8 MB/s eta 0:00:01\r",
      "\u001b[K     |█████████████████████████████   | 7.8 MB 86.8 MB/s eta 0:00:01\r",
      "\u001b[K     |█████████████████████████████   | 7.8 MB 86.8 MB/s eta 0:00:01\r",
      "\u001b[K     |█████████████████████████████▏  | 7.8 MB 86.8 MB/s eta 0:00:01\r",
      "\u001b[K     |█████████████████████████████▏  | 7.9 MB 86.8 MB/s eta 0:00:01\r",
      "\u001b[K     |█████████████████████████████▏  | 7.9 MB 86.8 MB/s eta 0:00:01\r",
      "\u001b[K     |█████████████████████████████▎  | 7.9 MB 86.8 MB/s eta 0:00:01\r",
      "\u001b[K     |█████████████████████████████▎  | 7.9 MB 86.8 MB/s eta 0:00:01\r",
      "\u001b[K     |█████████████████████████████▎  | 7.9 MB 86.8 MB/s eta 0:00:01\r",
      "\u001b[K     |█████████████████████████████▍  | 7.9 MB 86.8 MB/s eta 0:00:01\r",
      "\u001b[K     |█████████████████████████████▍  | 7.9 MB 86.8 MB/s eta 0:00:01\r",
      "\u001b[K     |█████████████████████████████▍  | 7.9 MB 86.8 MB/s eta 0:00:01\r",
      "\u001b[K     |█████████████████████████████▌  | 7.9 MB 86.8 MB/s eta 0:00:01\r",
      "\u001b[K     |█████████████████████████████▌  | 7.9 MB 86.8 MB/s eta 0:00:01\r",
      "\u001b[K     |█████████████████████████████▋  | 8.0 MB 86.8 MB/s eta 0:00:01\r",
      "\u001b[K     |█████████████████████████████▋  | 8.0 MB 86.8 MB/s eta 0:00:01\r",
      "\u001b[K     |█████████████████████████████▋  | 8.0 MB 86.8 MB/s eta 0:00:01\r",
      "\u001b[K     |█████████████████████████████▊  | 8.0 MB 86.8 MB/s eta 0:00:01\r",
      "\u001b[K     |█████████████████████████████▊  | 8.0 MB 86.8 MB/s eta 0:00:01\r",
      "\u001b[K     |█████████████████████████████▊  | 8.0 MB 86.8 MB/s eta 0:00:01\r",
      "\u001b[K     |█████████████████████████████▉  | 8.0 MB 86.8 MB/s eta 0:00:01\r",
      "\u001b[K     |█████████████████████████████▉  | 8.0 MB 86.8 MB/s eta 0:00:01\r",
      "\u001b[K     |█████████████████████████████▉  | 8.0 MB 86.8 MB/s eta 0:00:01\r",
      "\u001b[K     |██████████████████████████████  | 8.0 MB 86.8 MB/s eta 0:00:01\r",
      "\u001b[K     |██████████████████████████████  | 8.1 MB 86.8 MB/s eta 0:00:01\r",
      "\u001b[K     |██████████████████████████████  | 8.1 MB 86.8 MB/s eta 0:00:01\r",
      "\u001b[K     |██████████████████████████████  | 8.1 MB 86.8 MB/s eta 0:00:01\r",
      "\u001b[K     |██████████████████████████████  | 8.1 MB 86.8 MB/s eta 0:00:01\r",
      "\u001b[K     |██████████████████████████████  | 8.1 MB 86.8 MB/s eta 0:00:01\r",
      "\u001b[K     |██████████████████████████████▏ | 8.1 MB 86.8 MB/s eta 0:00:01\r",
      "\u001b[K     |██████████████████████████████▏ | 8.1 MB 86.8 MB/s eta 0:00:01\r",
      "\u001b[K     |██████████████████████████████▏ | 8.1 MB 86.8 MB/s eta 0:00:01\r",
      "\u001b[K     |██████████████████████████████▎ | 8.1 MB 86.8 MB/s eta 0:00:01\r",
      "\u001b[K     |██████████████████████████████▎ | 8.2 MB 86.8 MB/s eta 0:00:01\r",
      "\u001b[K     |██████████████████████████████▎ | 8.2 MB 86.8 MB/s eta 0:00:01\r",
      "\u001b[K     |██████████████████████████████▍ | 8.2 MB 86.8 MB/s eta 0:00:01\r",
      "\u001b[K     |██████████████████████████████▍ | 8.2 MB 86.8 MB/s eta 0:00:01\r",
      "\u001b[K     |██████████████████████████████▍ | 8.2 MB 86.8 MB/s eta 0:00:01\r",
      "\u001b[K     |██████████████████████████████▌ | 8.2 MB 86.8 MB/s eta 0:00:01\r",
      "\u001b[K     |██████████████████████████████▌ | 8.2 MB 86.8 MB/s eta 0:00:01\r",
      "\u001b[K     |██████████████████████████████▌ | 8.2 MB 86.8 MB/s eta 0:00:01\r",
      "\u001b[K     |██████████████████████████████▋ | 8.2 MB 86.8 MB/s eta 0:00:01\r",
      "\u001b[K     |██████████████████████████████▋ | 8.2 MB 86.8 MB/s eta 0:00:01\r",
      "\u001b[K     |██████████████████████████████▋ | 8.3 MB 86.8 MB/s eta 0:00:01\r",
      "\u001b[K     |██████████████████████████████▊ | 8.3 MB 86.8 MB/s eta 0:00:01\r",
      "\u001b[K     |██████████████████████████████▊ | 8.3 MB 86.8 MB/s eta 0:00:01\r",
      "\u001b[K     |██████████████████████████████▊ | 8.3 MB 86.8 MB/s eta 0:00:01\r",
      "\u001b[K     |██████████████████████████████▉ | 8.3 MB 86.8 MB/s eta 0:00:01\r",
      "\u001b[K     |██████████████████████████████▉ | 8.3 MB 86.8 MB/s eta 0:00:01\r",
      "\u001b[K     |██████████████████████████████▉ | 8.3 MB 86.8 MB/s eta 0:00:01\r",
      "\u001b[K     |███████████████████████████████ | 8.3 MB 86.8 MB/s eta 0:00:01\r",
      "\u001b[K     |███████████████████████████████ | 8.3 MB 86.8 MB/s eta 0:00:01\r",
      "\u001b[K     |███████████████████████████████ | 8.3 MB 86.8 MB/s eta 0:00:01\r",
      "\u001b[K     |███████████████████████████████ | 8.4 MB 86.8 MB/s eta 0:00:01\r",
      "\u001b[K     |███████████████████████████████ | 8.4 MB 86.8 MB/s eta 0:00:01\r",
      "\u001b[K     |███████████████████████████████▏| 8.4 MB 86.8 MB/s eta 0:00:01\r",
      "\u001b[K     |███████████████████████████████▏| 8.4 MB 86.8 MB/s eta 0:00:01\r",
      "\u001b[K     |███████████████████████████████▏| 8.4 MB 86.8 MB/s eta 0:00:01\r",
      "\u001b[K     |███████████████████████████████▎| 8.4 MB 86.8 MB/s eta 0:00:01\r",
      "\u001b[K     |███████████████████████████████▎| 8.4 MB 86.8 MB/s eta 0:00:01\r",
      "\u001b[K     |███████████████████████████████▎| 8.4 MB 86.8 MB/s eta 0:00:01\r",
      "\u001b[K     |███████████████████████████████▍| 8.4 MB 86.8 MB/s eta 0:00:01\r",
      "\u001b[K     |███████████████████████████████▍| 8.4 MB 86.8 MB/s eta 0:00:01\r",
      "\u001b[K     |███████████████████████████████▍| 8.5 MB 86.8 MB/s eta 0:00:01\r",
      "\u001b[K     |███████████████████████████████▌| 8.5 MB 86.8 MB/s eta 0:00:01\r",
      "\u001b[K     |███████████████████████████████▌| 8.5 MB 86.8 MB/s eta 0:00:01\r",
      "\u001b[K     |███████████████████████████████▌| 8.5 MB 86.8 MB/s eta 0:00:01\r",
      "\u001b[K     |███████████████████████████████▋| 8.5 MB 86.8 MB/s eta 0:00:01\r",
      "\u001b[K     |███████████████████████████████▋| 8.5 MB 86.8 MB/s eta 0:00:01\r",
      "\u001b[K     |███████████████████████████████▋| 8.5 MB 86.8 MB/s eta 0:00:01\r",
      "\u001b[K     |███████████████████████████████▊| 8.5 MB 86.8 MB/s eta 0:00:01\r",
      "\u001b[K     |███████████████████████████████▊| 8.5 MB 86.8 MB/s eta 0:00:01\r",
      "\u001b[K     |███████████████████████████████▊| 8.6 MB 86.8 MB/s eta 0:00:01\r",
      "\u001b[K     |███████████████████████████████▉| 8.6 MB 86.8 MB/s eta 0:00:01\r",
      "\u001b[K     |███████████████████████████████▉| 8.6 MB 86.8 MB/s eta 0:00:01\r",
      "\u001b[K     |███████████████████████████████▉| 8.6 MB 86.8 MB/s eta 0:00:01\r",
      "\u001b[K     |████████████████████████████████| 8.6 MB 86.8 MB/s eta 0:00:01\r",
      "\u001b[K     |████████████████████████████████| 8.6 MB 86.8 MB/s eta 0:00:01\r",
      "\u001b[K     |████████████████████████████████| 8.6 MB 86.8 MB/s eta 0:00:01"
     ]
    },
    {
     "name": "stdout",
     "output_type": "stream",
     "text": [
      "\r",
      "\u001b[K     |████████████████████████████████| 8.6 MB 86.8 MB/s \r\n",
      "\u001b[?25hRequirement already satisfied: s3transfer<0.6.0,>=0.5.0 in /opt/conda/lib/python3.7/site-packages (from boto3>=1.20.21->sagemaker) (0.5.0)\r\n",
      "Requirement already satisfied: jmespath<2.0.0,>=0.7.1 in /opt/conda/lib/python3.7/site-packages (from boto3>=1.20.21->sagemaker) (0.10.0)\r\n"
     ]
    },
    {
     "name": "stdout",
     "output_type": "stream",
     "text": [
      "Requirement already satisfied: urllib3<1.27,>=1.25.4 in /opt/conda/lib/python3.7/site-packages (from botocore<1.25.0,>=1.24.25->boto3>=1.20.21->sagemaker) (1.26.6)\r\n",
      "Requirement already satisfied: python-dateutil<3.0.0,>=2.1 in /opt/conda/lib/python3.7/site-packages (from botocore<1.25.0,>=1.24.25->boto3>=1.20.21->sagemaker) (2.8.1)\r\n",
      "Requirement already satisfied: zipp>=0.5 in /opt/conda/lib/python3.7/site-packages (from importlib-metadata>=1.4.0->sagemaker) (2.2.0)\r\n",
      "Requirement already satisfied: pyparsing>=2.0.2 in /opt/conda/lib/python3.7/site-packages (from packaging>=20.0->sagemaker) (2.4.6)\r\n",
      "Requirement already satisfied: six in /opt/conda/lib/python3.7/site-packages (from packaging>=20.0->sagemaker) (1.14.0)\r\n"
     ]
    },
    {
     "name": "stdout",
     "output_type": "stream",
     "text": [
      "Requirement already satisfied: pytz>=2017.2 in /opt/conda/lib/python3.7/site-packages (from pandas->sagemaker) (2019.3)\r\n"
     ]
    },
    {
     "name": "stdout",
     "output_type": "stream",
     "text": [
      "Requirement already satisfied: ppft>=1.6.6.4 in /opt/conda/lib/python3.7/site-packages (from pathos->sagemaker) (1.6.6.4)\r\n",
      "Requirement already satisfied: pox>=0.3.0 in /opt/conda/lib/python3.7/site-packages (from pathos->sagemaker) (0.3.0)\r\n",
      "Requirement already satisfied: dill>=0.3.4 in /opt/conda/lib/python3.7/site-packages (from pathos->sagemaker) (0.3.4)\r\n",
      "Requirement already satisfied: multiprocess>=0.70.12 in /opt/conda/lib/python3.7/site-packages (from pathos->sagemaker) (0.70.12.2)\r\n",
      "Building wheels for collected packages: sagemaker\r\n",
      "  Building wheel for sagemaker (setup.py) ... \u001b[?25l"
     ]
    },
    {
     "name": "stdout",
     "output_type": "stream",
     "text": [
      "-"
     ]
    },
    {
     "name": "stdout",
     "output_type": "stream",
     "text": [
      "\b \b\\"
     ]
    },
    {
     "name": "stdout",
     "output_type": "stream",
     "text": [
      "\b \b|"
     ]
    },
    {
     "name": "stdout",
     "output_type": "stream",
     "text": [
      "\b \b/"
     ]
    },
    {
     "name": "stdout",
     "output_type": "stream",
     "text": [
      "\b \bdone\r\n",
      "\u001b[?25h  Created wheel for sagemaker: filename=sagemaker-2.80.0-py2.py3-none-any.whl size=716400 sha256=a9a0e295f134b4a846017062c2da52a1a7aee1a5300e7c2cca9654078375e7aa\r\n",
      "  Stored in directory: /root/.cache/pip/wheels/b9/1f/23/a7c818b46ba5d43c94faf5e19b177962152f4d939a91ab220d\r\n",
      "Successfully built sagemaker\r\n"
     ]
    },
    {
     "name": "stdout",
     "output_type": "stream",
     "text": [
      "Installing collected packages: botocore, boto3, attrs, sagemaker\r\n",
      "  Attempting uninstall: botocore\r\n",
      "    Found existing installation: botocore 1.23.7\r\n"
     ]
    },
    {
     "name": "stdout",
     "output_type": "stream",
     "text": [
      "    Uninstalling botocore-1.23.7:\r\n",
      "      Successfully uninstalled botocore-1.23.7\r\n"
     ]
    },
    {
     "name": "stdout",
     "output_type": "stream",
     "text": [
      "  Attempting uninstall: boto3\r\n",
      "    Found existing installation: boto3 1.20.7\r\n",
      "    Uninstalling boto3-1.20.7:\r\n"
     ]
    },
    {
     "name": "stdout",
     "output_type": "stream",
     "text": [
      "      Successfully uninstalled boto3-1.20.7\r\n"
     ]
    },
    {
     "name": "stdout",
     "output_type": "stream",
     "text": [
      "  Attempting uninstall: attrs\r\n",
      "    Found existing installation: attrs 19.3.0\r\n",
      "    Uninstalling attrs-19.3.0:\r\n",
      "      Successfully uninstalled attrs-19.3.0\r\n",
      "  Attempting uninstall: sagemaker\r\n",
      "    Found existing installation: sagemaker 2.69.1.dev0\r\n"
     ]
    },
    {
     "name": "stdout",
     "output_type": "stream",
     "text": [
      "    Uninstalling sagemaker-2.69.1.dev0:\r\n",
      "      Successfully uninstalled sagemaker-2.69.1.dev0\r\n"
     ]
    },
    {
     "name": "stdout",
     "output_type": "stream",
     "text": [
      "\u001b[31mERROR: pip's dependency resolver does not currently take into account all the packages that are installed. This behaviour is the source of the following dependency conflicts.\r\n",
      "pytest-astropy 0.8.0 requires pytest-cov>=2.0, which is not installed.\r\n",
      "pytest-astropy 0.8.0 requires pytest-filter-subpackage>=0.1, which is not installed.\r\n",
      "awscli 1.22.7 requires botocore==1.23.7, but you have botocore 1.24.25 which is incompatible.\r\n",
      "aiobotocore 1.3.3 requires botocore<1.20.107,>=1.20.106, but you have botocore 1.24.25 which is incompatible.\u001b[0m\r\n",
      "Successfully installed attrs-20.3.0 boto3-1.21.25 botocore-1.24.25 sagemaker-2.80.0\r\n",
      "\u001b[33mWARNING: Running pip as the 'root' user can result in broken permissions and conflicting behaviour with the system package manager. It is recommended to use a virtual environment instead: https://pip.pypa.io/warnings/venv\u001b[0m\r\n"
     ]
    },
    {
     "name": "stdout",
     "output_type": "stream",
     "text": [
      "\u001b[33mWARNING: You are using pip version 21.1.3; however, version 22.0.4 is available.\r\n",
      "You should consider upgrading via the '/opt/conda/bin/python -m pip install --upgrade pip' command.\u001b[0m\r\n"
     ]
    }
   ],
   "source": [
    "!pip install --upgrade sagemaker\n",
    "\n",
    "import boto3\n",
    "import sagemaker\n",
    "\n",
    "\n",
    "sagemaker_session = sagemaker.session.Session()\n",
    "region = sagemaker_session.boto_region_name\n",
    "role = sagemaker.get_execution_role()\n",
    "default_bucket = sagemaker_session.default_bucket()\n",
    "model_package_group_name = f\"AbaloneModelPackageGroupName\""
   ]
  },
  {
   "cell_type": "markdown",
   "id": "e3ee6edb",
   "metadata": {
    "papermill": {
     "duration": 0.037034,
     "end_time": "2022-03-24T00:18:17.036596",
     "exception": false,
     "start_time": "2022-03-24T00:18:16.999562",
     "status": "completed"
    },
    "tags": []
   },
   "source": [
    "Now, upload the data into the default bucket. You can select our own data set for the `input_data_uri` as is appropriate."
   ]
  },
  {
   "cell_type": "code",
   "execution_count": 3,
   "id": "785740f6",
   "metadata": {
    "execution": {
     "iopub.execute_input": "2022-03-24T00:18:17.147333Z",
     "iopub.status.busy": "2022-03-24T00:18:17.146876Z",
     "iopub.status.idle": "2022-03-24T00:18:17.294574Z",
     "shell.execute_reply": "2022-03-24T00:18:17.294953Z"
    },
    "papermill": {
     "duration": 0.221107,
     "end_time": "2022-03-24T00:18:17.295089",
     "exception": false,
     "start_time": "2022-03-24T00:18:17.073982",
     "status": "completed"
    },
    "tags": []
   },
   "outputs": [],
   "source": [
    "!mkdir -p data"
   ]
  },
  {
   "cell_type": "code",
   "execution_count": 4,
   "id": "7f7ddcd8",
   "metadata": {
    "execution": {
     "iopub.execute_input": "2022-03-24T00:18:17.382987Z",
     "iopub.status.busy": "2022-03-24T00:18:17.382265Z",
     "iopub.status.idle": "2022-03-24T00:18:18.282572Z",
     "shell.execute_reply": "2022-03-24T00:18:18.282953Z"
    },
    "papermill": {
     "duration": 0.950805,
     "end_time": "2022-03-24T00:18:18.283094",
     "exception": false,
     "start_time": "2022-03-24T00:18:17.332289",
     "status": "completed"
    },
    "tags": []
   },
   "outputs": [
    {
     "name": "stdout",
     "output_type": "stream",
     "text": [
      "s3://sagemaker-us-west-2-000000000000/abalone/abalone-dataset.csv\n"
     ]
    }
   ],
   "source": [
    "local_path = \"data/abalone-dataset.csv\"\n",
    "\n",
    "s3 = boto3.resource(\"s3\")\n",
    "s3.Bucket(f\"sagemaker-sample-files\").download_file(\n",
    "    \"datasets/tabular/uci_abalone/abalone.csv\", local_path\n",
    ")\n",
    "\n",
    "base_uri = f\"s3://{default_bucket}/abalone\"\n",
    "input_data_uri = sagemaker.s3.S3Uploader.upload(\n",
    "    local_path=local_path,\n",
    "    desired_s3_uri=base_uri,\n",
    ")\n",
    "print(input_data_uri)"
   ]
  },
  {
   "cell_type": "markdown",
   "id": "6af35215",
   "metadata": {
    "papermill": {
     "duration": 0.037424,
     "end_time": "2022-03-24T00:18:18.358318",
     "exception": false,
     "start_time": "2022-03-24T00:18:18.320894",
     "status": "completed"
    },
    "tags": []
   },
   "source": [
    "Download a second dataset for batch transformation after model creation. You can select our own dataset for the `batch_data_uri` as is appropriate."
   ]
  },
  {
   "cell_type": "code",
   "execution_count": 5,
   "id": "3128de75",
   "metadata": {
    "execution": {
     "iopub.execute_input": "2022-03-24T00:18:18.447069Z",
     "iopub.status.busy": "2022-03-24T00:18:18.445380Z",
     "iopub.status.idle": "2022-03-24T00:18:18.729609Z",
     "shell.execute_reply": "2022-03-24T00:18:18.729984Z"
    },
    "papermill": {
     "duration": 0.334287,
     "end_time": "2022-03-24T00:18:18.730121",
     "exception": false,
     "start_time": "2022-03-24T00:18:18.395834",
     "status": "completed"
    },
    "tags": []
   },
   "outputs": [
    {
     "name": "stdout",
     "output_type": "stream",
     "text": [
      "s3://sagemaker-us-west-2-000000000000/abalone/abalone-dataset-batch\n"
     ]
    }
   ],
   "source": [
    "local_path = \"data/abalone-dataset-batch\"\n",
    "\n",
    "s3 = boto3.resource(\"s3\")\n",
    "s3.Bucket(f\"sagemaker-servicecatalog-seedcode-{region}\").download_file(\n",
    "    \"dataset/abalone-dataset-batch\", local_path\n",
    ")\n",
    "\n",
    "base_uri = f\"s3://{default_bucket}/abalone\"\n",
    "batch_data_uri = sagemaker.s3.S3Uploader.upload(\n",
    "    local_path=local_path,\n",
    "    desired_s3_uri=base_uri,\n",
    ")\n",
    "print(batch_data_uri)"
   ]
  },
  {
   "cell_type": "markdown",
   "id": "9fa454ab",
   "metadata": {
    "papermill": {
     "duration": 0.038081,
     "end_time": "2022-03-24T00:18:18.806474",
     "exception": false,
     "start_time": "2022-03-24T00:18:18.768393",
     "status": "completed"
    },
    "tags": []
   },
   "source": [
    "### Define Parameters to Parametrize Pipeline Execution\n",
    "\n",
    "Define Pipeline parameters that you can use to parametrize the pipeline. Parameters enable custom pipeline executions and schedules without having to modify the Pipeline definition.\n",
    "\n",
    "The supported parameter types include:\n",
    "\n",
    "* `ParameterString` - represents a `str` Python type\n",
    "* `ParameterInteger` - represents an `int` Python type\n",
    "* `ParameterFloat` - represents a `float` Python type\n",
    "\n",
    "These parameters support providing a default value, which can be overridden on pipeline execution. The default value specified should be an instance of the type of the parameter.\n",
    "\n",
    "The parameters defined in this workflow include:\n",
    "\n",
    "* `processing_instance_type` - The `ml.*` instance type of the processing job.\n",
    "* `processing_instance_count` - The instance count of the processing job.\n",
    "* `training_instance_type` - The `ml.*` instance type of the training job.\n",
    "* `model_approval_status` - The approval status to register with the trained model for CI/CD purposes (\"PendingManualApproval\" is the default).\n",
    "* `input_data` - The S3 bucket URI location of the input data.\n",
    "* `batch_data` - The S3 bucket URI location of the batch data.\n",
    "* `mse_threshold` - The Mean Squared Error (MSE) threshold used to verify the accuracy of a model."
   ]
  },
  {
   "cell_type": "code",
   "execution_count": 6,
   "id": "303f521f",
   "metadata": {
    "execution": {
     "iopub.execute_input": "2022-03-24T00:18:18.888563Z",
     "iopub.status.busy": "2022-03-24T00:18:18.887885Z",
     "iopub.status.idle": "2022-03-24T00:18:18.889762Z",
     "shell.execute_reply": "2022-03-24T00:18:18.890157Z"
    },
    "papermill": {
     "duration": 0.045849,
     "end_time": "2022-03-24T00:18:18.890288",
     "exception": false,
     "start_time": "2022-03-24T00:18:18.844439",
     "status": "completed"
    },
    "tags": []
   },
   "outputs": [],
   "source": [
    "from sagemaker.workflow.parameters import (\n",
    "    ParameterInteger,\n",
    "    ParameterString,\n",
    "    ParameterFloat,\n",
    ")\n",
    "\n",
    "\n",
    "processing_instance_count = ParameterInteger(name=\"ProcessingInstanceCount\", default_value=1)\n",
    "processing_instance_type = ParameterString(\n",
    "    name=\"ProcessingInstanceType\", default_value=\"ml.m5.xlarge\"\n",
    ")\n",
    "training_instance_type = ParameterString(name=\"TrainingInstanceType\", default_value=\"ml.m5.xlarge\")\n",
    "model_approval_status = ParameterString(\n",
    "    name=\"ModelApprovalStatus\", default_value=\"PendingManualApproval\"\n",
    ")\n",
    "input_data = ParameterString(\n",
    "    name=\"InputData\",\n",
    "    default_value=input_data_uri,\n",
    ")\n",
    "batch_data = ParameterString(\n",
    "    name=\"BatchData\",\n",
    "    default_value=batch_data_uri,\n",
    ")\n",
    "mse_threshold = ParameterFloat(name=\"MseThreshold\", default_value=6.0)"
   ]
  },
  {
   "cell_type": "markdown",
   "id": "93d1016f",
   "metadata": {
    "papermill": {
     "duration": 0.037957,
     "end_time": "2022-03-24T00:18:18.966272",
     "exception": false,
     "start_time": "2022-03-24T00:18:18.928315",
     "status": "completed"
    },
    "tags": []
   },
   "source": [
    "![Define Parameters](https://raw.githubusercontent.com/aws/amazon-sagemaker-examples/main/sagemaker-pipelines/tabular/abalone_build_train_deploy/img/pipeline-1.png)"
   ]
  },
  {
   "cell_type": "markdown",
   "id": "1543fb33",
   "metadata": {
    "papermill": {
     "duration": 0.037877,
     "end_time": "2022-03-24T00:18:19.042199",
     "exception": false,
     "start_time": "2022-03-24T00:18:19.004322",
     "status": "completed"
    },
    "tags": []
   },
   "source": [
    "### Define a Processing Step for Feature Engineering\n",
    "\n",
    "First, develop a preprocessing script that is specified in the Processing step.\n",
    "\n",
    "This notebook cell writes a file `preprocessing_abalone.py`, which contains the preprocessing script. You can update the script, and rerun this cell to overwrite. The preprocessing script uses `scikit-learn` to do the following:\n",
    "\n",
    "* Fill in missing sex category data and encode it so that it is suitable for training.\n",
    "* Scale and normalize all numerical fields, aside from sex and rings numerical data.\n",
    "* Split the data into training, validation, and test datasets.\n",
    "\n",
    "The Processing step executes the script on the input data. The Training step uses the preprocessed training features and labels to train a model. The Evaluation step uses the trained model and preprocessed test features and labels to evaluate the model."
   ]
  },
  {
   "cell_type": "code",
   "execution_count": 7,
   "id": "f3e71cad",
   "metadata": {
    "execution": {
     "iopub.execute_input": "2022-03-24T00:18:19.122544Z",
     "iopub.status.busy": "2022-03-24T00:18:19.121918Z",
     "iopub.status.idle": "2022-03-24T00:18:19.270090Z",
     "shell.execute_reply": "2022-03-24T00:18:19.270474Z"
    },
    "papermill": {
     "duration": 0.190352,
     "end_time": "2022-03-24T00:18:19.270615",
     "exception": false,
     "start_time": "2022-03-24T00:18:19.080263",
     "status": "completed"
    },
    "tags": []
   },
   "outputs": [],
   "source": [
    "!mkdir -p abalone"
   ]
  },
  {
   "cell_type": "code",
   "execution_count": 8,
   "id": "99066826",
   "metadata": {
    "execution": {
     "iopub.execute_input": "2022-03-24T00:18:19.353515Z",
     "iopub.status.busy": "2022-03-24T00:18:19.352877Z",
     "iopub.status.idle": "2022-03-24T00:18:19.355936Z",
     "shell.execute_reply": "2022-03-24T00:18:19.355461Z"
    },
    "papermill": {
     "duration": 0.047179,
     "end_time": "2022-03-24T00:18:19.356048",
     "exception": false,
     "start_time": "2022-03-24T00:18:19.308869",
     "status": "completed"
    },
    "tags": []
   },
   "outputs": [
    {
     "name": "stdout",
     "output_type": "stream",
     "text": [
      "Writing abalone/preprocessing.py\n"
     ]
    }
   ],
   "source": [
    "%%writefile abalone/preprocessing.py\n",
    "import argparse\n",
    "import os\n",
    "import requests\n",
    "import tempfile\n",
    "\n",
    "import numpy as np\n",
    "import pandas as pd\n",
    "\n",
    "from sklearn.compose import ColumnTransformer\n",
    "from sklearn.impute import SimpleImputer\n",
    "from sklearn.pipeline import Pipeline\n",
    "from sklearn.preprocessing import StandardScaler, OneHotEncoder\n",
    "\n",
    "\n",
    "# Since we get a headerless CSV file we specify the column names here.\n",
    "feature_columns_names = [\n",
    "    \"sex\",\n",
    "    \"length\",\n",
    "    \"diameter\",\n",
    "    \"height\",\n",
    "    \"whole_weight\",\n",
    "    \"shucked_weight\",\n",
    "    \"viscera_weight\",\n",
    "    \"shell_weight\",\n",
    "]\n",
    "label_column = \"rings\"\n",
    "\n",
    "feature_columns_dtype = {\n",
    "    \"sex\": str,\n",
    "    \"length\": np.float64,\n",
    "    \"diameter\": np.float64,\n",
    "    \"height\": np.float64,\n",
    "    \"whole_weight\": np.float64,\n",
    "    \"shucked_weight\": np.float64,\n",
    "    \"viscera_weight\": np.float64,\n",
    "    \"shell_weight\": np.float64,\n",
    "}\n",
    "label_column_dtype = {\"rings\": np.float64}\n",
    "\n",
    "\n",
    "def merge_two_dicts(x, y):\n",
    "    z = x.copy()\n",
    "    z.update(y)\n",
    "    return z\n",
    "\n",
    "\n",
    "if __name__ == \"__main__\":\n",
    "    base_dir = \"/opt/ml/processing\"\n",
    "\n",
    "    df = pd.read_csv(\n",
    "        f\"{base_dir}/input/abalone-dataset.csv\",\n",
    "        header=None,\n",
    "        names=feature_columns_names + [label_column],\n",
    "        dtype=merge_two_dicts(feature_columns_dtype, label_column_dtype),\n",
    "    )\n",
    "    numeric_features = list(feature_columns_names)\n",
    "    numeric_features.remove(\"sex\")\n",
    "    numeric_transformer = Pipeline(\n",
    "        steps=[(\"imputer\", SimpleImputer(strategy=\"median\")), (\"scaler\", StandardScaler())]\n",
    "    )\n",
    "\n",
    "    categorical_features = [\"sex\"]\n",
    "    categorical_transformer = Pipeline(\n",
    "        steps=[\n",
    "            (\"imputer\", SimpleImputer(strategy=\"constant\", fill_value=\"missing\")),\n",
    "            (\"onehot\", OneHotEncoder(handle_unknown=\"ignore\")),\n",
    "        ]\n",
    "    )\n",
    "\n",
    "    preprocess = ColumnTransformer(\n",
    "        transformers=[\n",
    "            (\"num\", numeric_transformer, numeric_features),\n",
    "            (\"cat\", categorical_transformer, categorical_features),\n",
    "        ]\n",
    "    )\n",
    "\n",
    "    y = df.pop(\"rings\")\n",
    "    X_pre = preprocess.fit_transform(df)\n",
    "    y_pre = y.to_numpy().reshape(len(y), 1)\n",
    "\n",
    "    X = np.concatenate((y_pre, X_pre), axis=1)\n",
    "\n",
    "    np.random.shuffle(X)\n",
    "    train, validation, test = np.split(X, [int(0.7 * len(X)), int(0.85 * len(X))])\n",
    "\n",
    "    pd.DataFrame(train).to_csv(f\"{base_dir}/train/train.csv\", header=False, index=False)\n",
    "    pd.DataFrame(validation).to_csv(\n",
    "        f\"{base_dir}/validation/validation.csv\", header=False, index=False\n",
    "    )\n",
    "    pd.DataFrame(test).to_csv(f\"{base_dir}/test/test.csv\", header=False, index=False)"
   ]
  },
  {
   "cell_type": "markdown",
   "id": "be72b858",
   "metadata": {
    "papermill": {
     "duration": 0.037942,
     "end_time": "2022-03-24T00:18:19.432160",
     "exception": false,
     "start_time": "2022-03-24T00:18:19.394218",
     "status": "completed"
    },
    "tags": []
   },
   "source": [
    "Next, create an instance of a `SKLearnProcessor` processor and use that in our `ProcessingStep`.\n",
    "\n",
    "You also specify the `framework_version` to use throughout this notebook.\n",
    "\n",
    "Note the `processing_instance_type` and `processing_instance_count` parameters used by the processor instance."
   ]
  },
  {
   "cell_type": "code",
   "execution_count": 9,
   "id": "182b3e04",
   "metadata": {
    "execution": {
     "iopub.execute_input": "2022-03-24T00:18:19.512183Z",
     "iopub.status.busy": "2022-03-24T00:18:19.511638Z",
     "iopub.status.idle": "2022-03-24T00:18:19.539722Z",
     "shell.execute_reply": "2022-03-24T00:18:19.539288Z"
    },
    "papermill": {
     "duration": 0.069771,
     "end_time": "2022-03-24T00:18:19.539826",
     "exception": false,
     "start_time": "2022-03-24T00:18:19.470055",
     "status": "completed"
    },
    "tags": []
   },
   "outputs": [],
   "source": [
    "from sagemaker.sklearn.processing import SKLearnProcessor\n",
    "\n",
    "\n",
    "framework_version = \"0.23-1\"\n",
    "\n",
    "sklearn_processor = SKLearnProcessor(\n",
    "    framework_version=framework_version,\n",
    "    instance_type=processing_instance_type,\n",
    "    instance_count=processing_instance_count,\n",
    "    base_job_name=\"sklearn-abalone-process\",\n",
    "    role=role,\n",
    ")"
   ]
  },
  {
   "cell_type": "markdown",
   "id": "28cf2518",
   "metadata": {
    "papermill": {
     "duration": 0.037918,
     "end_time": "2022-03-24T00:18:19.616005",
     "exception": false,
     "start_time": "2022-03-24T00:18:19.578087",
     "status": "completed"
    },
    "tags": []
   },
   "source": [
    "Finally, use the processor instance to construct a `ProcessingStep`, along with the input and output channels, and the code that will be executed when the pipeline invokes pipeline execution. This is similar to a processor instance's `run` method in the Python SDK.\n",
    "\n",
    "Note the `input_data` parameters passed into `ProcessingStep` is the input data used in the step. This input data is used by the processor instance when it is run.\n",
    "\n",
    "Also, note the `\"train_data\"` and `\"test_data\"` named channels specified in the output configuration for the processing job. Step `Properties` can be used in subsequent steps and resolve to their runtime values at execution. Specifically, this usage is called out when you define the training step."
   ]
  },
  {
   "cell_type": "code",
   "execution_count": 10,
   "id": "d975d6ce",
   "metadata": {
    "execution": {
     "iopub.execute_input": "2022-03-24T00:18:19.696793Z",
     "iopub.status.busy": "2022-03-24T00:18:19.696322Z",
     "iopub.status.idle": "2022-03-24T00:18:19.705172Z",
     "shell.execute_reply": "2022-03-24T00:18:19.705528Z"
    },
    "papermill": {
     "duration": 0.051604,
     "end_time": "2022-03-24T00:18:19.705649",
     "exception": false,
     "start_time": "2022-03-24T00:18:19.654045",
     "status": "completed"
    },
    "tags": []
   },
   "outputs": [],
   "source": [
    "from sagemaker.processing import ProcessingInput, ProcessingOutput\n",
    "from sagemaker.workflow.steps import ProcessingStep\n",
    "\n",
    "\n",
    "step_process = ProcessingStep(\n",
    "    name=\"AbaloneProcess\",\n",
    "    processor=sklearn_processor,\n",
    "    inputs=[\n",
    "        ProcessingInput(source=input_data, destination=\"/opt/ml/processing/input\"),\n",
    "    ],\n",
    "    outputs=[\n",
    "        ProcessingOutput(output_name=\"train\", source=\"/opt/ml/processing/train\"),\n",
    "        ProcessingOutput(output_name=\"validation\", source=\"/opt/ml/processing/validation\"),\n",
    "        ProcessingOutput(output_name=\"test\", source=\"/opt/ml/processing/test\"),\n",
    "    ],\n",
    "    code=\"abalone/preprocessing.py\",\n",
    ")"
   ]
  },
  {
   "cell_type": "markdown",
   "id": "194741a1",
   "metadata": {
    "papermill": {
     "duration": 0.038336,
     "end_time": "2022-03-24T00:18:19.782353",
     "exception": false,
     "start_time": "2022-03-24T00:18:19.744017",
     "status": "completed"
    },
    "tags": []
   },
   "source": [
    "![Define a Processing Step for Feature Engineering](https://raw.githubusercontent.com/aws/amazon-sagemaker-examples/main/sagemaker-pipelines/tabular/abalone_build_train_deploy/img/pipeline-2.png)"
   ]
  },
  {
   "cell_type": "markdown",
   "id": "92859b46",
   "metadata": {
    "papermill": {
     "duration": 0.038359,
     "end_time": "2022-03-24T00:18:19.859275",
     "exception": false,
     "start_time": "2022-03-24T00:18:19.820916",
     "status": "completed"
    },
    "tags": []
   },
   "source": [
    "### Define a Training Step to Train a Model\n",
    "\n",
    "In this section, use Amazon SageMaker's [XGBoost Algorithm](https://docs.aws.amazon.com/sagemaker/latest/dg/xgboost.html) to train on this dataset. Configure an Estimator for the XGBoost algorithm and the input dataset. A typical training script loads data from the input channels, configures training with hyperparameters, trains a model, and saves a model to `model_dir` so that it can be hosted later.\n",
    "\n",
    "The model path where the models from training will be saved is also specified.\n",
    "\n",
    "Note the `training_instance_type` parameter may be used in multiple places in the pipeline. In this case, the `training_instance_type` is passed into the estimator."
   ]
  },
  {
   "cell_type": "code",
   "execution_count": 11,
   "id": "2b97a4bb",
   "metadata": {
    "execution": {
     "iopub.execute_input": "2022-03-24T00:18:19.942606Z",
     "iopub.status.busy": "2022-03-24T00:18:19.942011Z",
     "iopub.status.idle": "2022-03-24T00:18:19.962430Z",
     "shell.execute_reply": "2022-03-24T00:18:19.962057Z"
    },
    "papermill": {
     "duration": 0.064882,
     "end_time": "2022-03-24T00:18:19.962534",
     "exception": false,
     "start_time": "2022-03-24T00:18:19.897652",
     "status": "completed"
    },
    "tags": []
   },
   "outputs": [],
   "source": [
    "from sagemaker.estimator import Estimator\n",
    "\n",
    "\n",
    "model_path = f\"s3://{default_bucket}/AbaloneTrain\"\n",
    "image_uri = sagemaker.image_uris.retrieve(\n",
    "    framework=\"xgboost\",\n",
    "    region=region,\n",
    "    version=\"1.0-1\",\n",
    "    py_version=\"py3\",\n",
    "    instance_type=training_instance_type,\n",
    ")\n",
    "xgb_train = Estimator(\n",
    "    image_uri=image_uri,\n",
    "    instance_type=training_instance_type,\n",
    "    instance_count=1,\n",
    "    output_path=model_path,\n",
    "    role=role,\n",
    ")\n",
    "xgb_train.set_hyperparameters(\n",
    "    objective=\"reg:linear\",\n",
    "    num_round=50,\n",
    "    max_depth=5,\n",
    "    eta=0.2,\n",
    "    gamma=4,\n",
    "    min_child_weight=6,\n",
    "    subsample=0.7,\n",
    "    silent=0,\n",
    ")"
   ]
  },
  {
   "cell_type": "markdown",
   "id": "e15645d4",
   "metadata": {
    "papermill": {
     "duration": 0.039014,
     "end_time": "2022-03-24T00:18:20.040248",
     "exception": false,
     "start_time": "2022-03-24T00:18:20.001234",
     "status": "completed"
    },
    "tags": []
   },
   "source": [
    "Finally, use the estimator instance to construct a `TrainingStep` as well as the `properties` of the prior `ProcessingStep` used as input in the `TrainingStep` inputs and the code that's executed when the pipeline invokes the pipeline execution. This is similar to an estimator's `fit` method in the Python SDK.\n",
    "\n",
    "Pass in the `S3Uri` of the `\"train_data\"` output channel to the `TrainingStep`. Also, use the other `\"test_data\"` output channel for model evaluation in the pipeline. The `properties` attribute of a Pipeline step matches the object model of the corresponding response of a describe call. These properties can be referenced as placeholder values and are resolved at runtime. For example, the `ProcessingStep` `properties` attribute matches the object model of the [DescribeProcessingJob](https://docs.aws.amazon.com/sagemaker/latest/APIReference/API_DescribeProcessingJob.html) response object."
   ]
  },
  {
   "cell_type": "code",
   "execution_count": 12,
   "id": "be054113",
   "metadata": {
    "execution": {
     "iopub.execute_input": "2022-03-24T00:18:20.124120Z",
     "iopub.status.busy": "2022-03-24T00:18:20.123536Z",
     "iopub.status.idle": "2022-03-24T00:18:20.125877Z",
     "shell.execute_reply": "2022-03-24T00:18:20.125385Z"
    },
    "papermill": {
     "duration": 0.046776,
     "end_time": "2022-03-24T00:18:20.125983",
     "exception": false,
     "start_time": "2022-03-24T00:18:20.079207",
     "status": "completed"
    },
    "tags": []
   },
   "outputs": [],
   "source": [
    "from sagemaker.inputs import TrainingInput\n",
    "from sagemaker.workflow.steps import TrainingStep\n",
    "\n",
    "\n",
    "step_train = TrainingStep(\n",
    "    name=\"AbaloneTrain\",\n",
    "    estimator=xgb_train,\n",
    "    inputs={\n",
    "        \"train\": TrainingInput(\n",
    "            s3_data=step_process.properties.ProcessingOutputConfig.Outputs[\"train\"].S3Output.S3Uri,\n",
    "            content_type=\"text/csv\",\n",
    "        ),\n",
    "        \"validation\": TrainingInput(\n",
    "            s3_data=step_process.properties.ProcessingOutputConfig.Outputs[\n",
    "                \"validation\"\n",
    "            ].S3Output.S3Uri,\n",
    "            content_type=\"text/csv\",\n",
    "        ),\n",
    "    },\n",
    ")"
   ]
  },
  {
   "cell_type": "markdown",
   "id": "fc874d59",
   "metadata": {
    "papermill": {
     "duration": 0.038552,
     "end_time": "2022-03-24T00:18:20.203501",
     "exception": false,
     "start_time": "2022-03-24T00:18:20.164949",
     "status": "completed"
    },
    "tags": []
   },
   "source": [
    "![Define a Training Step to Train a Model](https://raw.githubusercontent.com/aws/amazon-sagemaker-examples/main/sagemaker-pipelines/tabular/abalone_build_train_deploy/img/pipeline-3.png)"
   ]
  },
  {
   "cell_type": "markdown",
   "id": "cda23c4f",
   "metadata": {
    "papermill": {
     "duration": 0.038683,
     "end_time": "2022-03-24T00:18:20.280977",
     "exception": false,
     "start_time": "2022-03-24T00:18:20.242294",
     "status": "completed"
    },
    "tags": []
   },
   "source": [
    "### Define a Model Evaluation Step to Evaluate the Trained Model\n",
    "\n",
    "First, develop an evaluation script that is specified in a Processing step that performs the model evaluation.\n",
    "\n",
    "After pipeline execution, you can examine the resulting `evaluation.json` for analysis.\n",
    "\n",
    "The evaluation script uses `xgboost` to do the following:\n",
    "\n",
    "* Load the model.\n",
    "* Read the test data.\n",
    "* Issue predictions against the test data.\n",
    "* Build a classification report, including accuracy and ROC curve.\n",
    "* Save the evaluation report to the evaluation directory."
   ]
  },
  {
   "cell_type": "code",
   "execution_count": 13,
   "id": "fb239284",
   "metadata": {
    "execution": {
     "iopub.execute_input": "2022-03-24T00:18:20.362563Z",
     "iopub.status.busy": "2022-03-24T00:18:20.362002Z",
     "iopub.status.idle": "2022-03-24T00:18:20.364613Z",
     "shell.execute_reply": "2022-03-24T00:18:20.365001Z"
    },
    "papermill": {
     "duration": 0.045566,
     "end_time": "2022-03-24T00:18:20.365132",
     "exception": false,
     "start_time": "2022-03-24T00:18:20.319566",
     "status": "completed"
    },
    "tags": []
   },
   "outputs": [
    {
     "name": "stdout",
     "output_type": "stream",
     "text": [
      "Writing abalone/evaluation.py\n"
     ]
    }
   ],
   "source": [
    "%%writefile abalone/evaluation.py\n",
    "import json\n",
    "import pathlib\n",
    "import pickle\n",
    "import tarfile\n",
    "\n",
    "import joblib\n",
    "import numpy as np\n",
    "import pandas as pd\n",
    "import xgboost\n",
    "\n",
    "from sklearn.metrics import mean_squared_error\n",
    "\n",
    "\n",
    "if __name__ == \"__main__\":\n",
    "    model_path = f\"/opt/ml/processing/model/model.tar.gz\"\n",
    "    with tarfile.open(model_path) as tar:\n",
    "        tar.extractall(path=\".\")\n",
    "\n",
    "    model = pickle.load(open(\"xgboost-model\", \"rb\"))\n",
    "\n",
    "    test_path = \"/opt/ml/processing/test/test.csv\"\n",
    "    df = pd.read_csv(test_path, header=None)\n",
    "\n",
    "    y_test = df.iloc[:, 0].to_numpy()\n",
    "    df.drop(df.columns[0], axis=1, inplace=True)\n",
    "\n",
    "    X_test = xgboost.DMatrix(df.values)\n",
    "\n",
    "    predictions = model.predict(X_test)\n",
    "\n",
    "    mse = mean_squared_error(y_test, predictions)\n",
    "    std = np.std(y_test - predictions)\n",
    "    report_dict = {\n",
    "        \"regression_metrics\": {\n",
    "            \"mse\": {\"value\": mse, \"standard_deviation\": std},\n",
    "        },\n",
    "    }\n",
    "\n",
    "    output_dir = \"/opt/ml/processing/evaluation\"\n",
    "    pathlib.Path(output_dir).mkdir(parents=True, exist_ok=True)\n",
    "\n",
    "    evaluation_path = f\"{output_dir}/evaluation.json\"\n",
    "    with open(evaluation_path, \"w\") as f:\n",
    "        f.write(json.dumps(report_dict))"
   ]
  },
  {
   "cell_type": "markdown",
   "id": "fdb70265",
   "metadata": {
    "papermill": {
     "duration": 0.039124,
     "end_time": "2022-03-24T00:18:20.443715",
     "exception": false,
     "start_time": "2022-03-24T00:18:20.404591",
     "status": "completed"
    },
    "tags": []
   },
   "source": [
    "Next, create an instance of a `ScriptProcessor` processor and use it in the `ProcessingStep`.\n",
    "\n",
    "Note the `processing_instance_type` parameter passed into the processor."
   ]
  },
  {
   "cell_type": "code",
   "execution_count": 14,
   "id": "cbe6786a",
   "metadata": {
    "execution": {
     "iopub.execute_input": "2022-03-24T00:18:20.532737Z",
     "iopub.status.busy": "2022-03-24T00:18:20.532222Z",
     "iopub.status.idle": "2022-03-24T00:18:20.538313Z",
     "shell.execute_reply": "2022-03-24T00:18:20.537906Z"
    },
    "papermill": {
     "duration": 0.055388,
     "end_time": "2022-03-24T00:18:20.538421",
     "exception": false,
     "start_time": "2022-03-24T00:18:20.483033",
     "status": "completed"
    },
    "tags": []
   },
   "outputs": [],
   "source": [
    "from sagemaker.processing import ScriptProcessor\n",
    "\n",
    "\n",
    "script_eval = ScriptProcessor(\n",
    "    image_uri=image_uri,\n",
    "    command=[\"python3\"],\n",
    "    instance_type=processing_instance_type,\n",
    "    instance_count=1,\n",
    "    base_job_name=\"script-abalone-eval\",\n",
    "    role=role,\n",
    ")"
   ]
  },
  {
   "cell_type": "markdown",
   "id": "d4d88db3",
   "metadata": {
    "papermill": {
     "duration": 0.03921,
     "end_time": "2022-03-24T00:18:20.617196",
     "exception": false,
     "start_time": "2022-03-24T00:18:20.577986",
     "status": "completed"
    },
    "tags": []
   },
   "source": [
    "Use the processor instance to construct a `ProcessingStep`, along with the input and output channels and the code that will be executed when the pipeline invokes pipeline execution. This is similar to a processor instance's `run` method in the Python SDK.\n",
    "\n",
    "Specifically, the `S3ModelArtifacts` from the `step_train` `properties` and the `S3Uri` of the `\"test_data\"` output channel of the `step_process` `properties` are passed as inputs. The `TrainingStep` and `ProcessingStep` `properties` attribute matches the object model of the [DescribeTrainingJob](https://docs.aws.amazon.com/sagemaker/latest/APIReference/API_DescribeTrainingJob.html) and [DescribeProcessingJob](https://docs.aws.amazon.com/sagemaker/latest/APIReference/API_DescribeProcessingJob.html) response objects, respectively."
   ]
  },
  {
   "cell_type": "code",
   "execution_count": 15,
   "id": "4264a09c",
   "metadata": {
    "execution": {
     "iopub.execute_input": "2022-03-24T00:18:20.701806Z",
     "iopub.status.busy": "2022-03-24T00:18:20.701227Z",
     "iopub.status.idle": "2022-03-24T00:18:20.703782Z",
     "shell.execute_reply": "2022-03-24T00:18:20.703408Z"
    },
    "papermill": {
     "duration": 0.047372,
     "end_time": "2022-03-24T00:18:20.703887",
     "exception": false,
     "start_time": "2022-03-24T00:18:20.656515",
     "status": "completed"
    },
    "tags": []
   },
   "outputs": [],
   "source": [
    "from sagemaker.workflow.properties import PropertyFile\n",
    "\n",
    "\n",
    "evaluation_report = PropertyFile(\n",
    "    name=\"EvaluationReport\", output_name=\"evaluation\", path=\"evaluation.json\"\n",
    ")\n",
    "step_eval = ProcessingStep(\n",
    "    name=\"AbaloneEval\",\n",
    "    processor=script_eval,\n",
    "    inputs=[\n",
    "        ProcessingInput(\n",
    "            source=step_train.properties.ModelArtifacts.S3ModelArtifacts,\n",
    "            destination=\"/opt/ml/processing/model\",\n",
    "        ),\n",
    "        ProcessingInput(\n",
    "            source=step_process.properties.ProcessingOutputConfig.Outputs[\"test\"].S3Output.S3Uri,\n",
    "            destination=\"/opt/ml/processing/test\",\n",
    "        ),\n",
    "    ],\n",
    "    outputs=[\n",
    "        ProcessingOutput(output_name=\"evaluation\", source=\"/opt/ml/processing/evaluation\"),\n",
    "    ],\n",
    "    code=\"abalone/evaluation.py\",\n",
    "    property_files=[evaluation_report],\n",
    ")"
   ]
  },
  {
   "cell_type": "markdown",
   "id": "a683c99d",
   "metadata": {
    "papermill": {
     "duration": 0.039028,
     "end_time": "2022-03-24T00:18:20.782054",
     "exception": false,
     "start_time": "2022-03-24T00:18:20.743026",
     "status": "completed"
    },
    "tags": []
   },
   "source": [
    "![Define a Model Evaluation Step to Evaluate the Trained Model](https://raw.githubusercontent.com/aws/amazon-sagemaker-examples/main/sagemaker-pipelines/tabular/abalone_build_train_deploy/img/pipeline-4.png)"
   ]
  },
  {
   "cell_type": "markdown",
   "id": "7527028b",
   "metadata": {
    "papermill": {
     "duration": 0.038847,
     "end_time": "2022-03-24T00:18:20.859789",
     "exception": false,
     "start_time": "2022-03-24T00:18:20.820942",
     "status": "completed"
    },
    "tags": []
   },
   "source": [
    "### Define a Create Model Step to Create a Model\n",
    "\n",
    "In order to perform batch transformation using the example model, create a SageMaker model. \n",
    "\n",
    "Specifically, pass in the `S3ModelArtifacts` from the `TrainingStep`, `step_train` properties. The `TrainingStep` `properties` attribute matches the object model of the [DescribeTrainingJob](https://docs.aws.amazon.com/sagemaker/latest/APIReference/API_DescribeTrainingJob.html) response object."
   ]
  },
  {
   "cell_type": "code",
   "execution_count": 16,
   "id": "4ca4c376",
   "metadata": {
    "execution": {
     "iopub.execute_input": "2022-03-24T00:18:20.942422Z",
     "iopub.status.busy": "2022-03-24T00:18:20.941856Z",
     "iopub.status.idle": "2022-03-24T00:18:20.944095Z",
     "shell.execute_reply": "2022-03-24T00:18:20.943653Z"
    },
    "papermill": {
     "duration": 0.045179,
     "end_time": "2022-03-24T00:18:20.944203",
     "exception": false,
     "start_time": "2022-03-24T00:18:20.899024",
     "status": "completed"
    },
    "tags": []
   },
   "outputs": [],
   "source": [
    "from sagemaker.model import Model\n",
    "\n",
    "\n",
    "model = Model(\n",
    "    image_uri=image_uri,\n",
    "    model_data=step_train.properties.ModelArtifacts.S3ModelArtifacts,\n",
    "    sagemaker_session=sagemaker_session,\n",
    "    role=role,\n",
    ")"
   ]
  },
  {
   "cell_type": "markdown",
   "id": "51da90f9",
   "metadata": {
    "papermill": {
     "duration": 0.039421,
     "end_time": "2022-03-24T00:18:21.023062",
     "exception": false,
     "start_time": "2022-03-24T00:18:20.983641",
     "status": "completed"
    },
    "tags": []
   },
   "source": [
    "Supply the model input -- `instance_type` and `accelerator_type` for creating the SageMaker Model and then define the `CreateModelStep` passing in the inputs and the model instance defined before."
   ]
  },
  {
   "cell_type": "code",
   "execution_count": 17,
   "id": "a91bb94d",
   "metadata": {
    "execution": {
     "iopub.execute_input": "2022-03-24T00:18:21.106546Z",
     "iopub.status.busy": "2022-03-24T00:18:21.106077Z",
     "iopub.status.idle": "2022-03-24T00:18:21.107903Z",
     "shell.execute_reply": "2022-03-24T00:18:21.108310Z"
    },
    "papermill": {
     "duration": 0.046034,
     "end_time": "2022-03-24T00:18:21.108454",
     "exception": false,
     "start_time": "2022-03-24T00:18:21.062420",
     "status": "completed"
    },
    "tags": []
   },
   "outputs": [],
   "source": [
    "from sagemaker.inputs import CreateModelInput\n",
    "from sagemaker.workflow.steps import CreateModelStep\n",
    "\n",
    "\n",
    "inputs = CreateModelInput(\n",
    "    instance_type=\"ml.m5.large\",\n",
    "    accelerator_type=\"ml.eia1.medium\",\n",
    ")\n",
    "step_create_model = CreateModelStep(\n",
    "    name=\"AbaloneCreateModel\",\n",
    "    model=model,\n",
    "    inputs=inputs,\n",
    ")"
   ]
  },
  {
   "cell_type": "markdown",
   "id": "2a46e546",
   "metadata": {
    "papermill": {
     "duration": 0.039253,
     "end_time": "2022-03-24T00:18:21.187078",
     "exception": false,
     "start_time": "2022-03-24T00:18:21.147825",
     "status": "completed"
    },
    "tags": []
   },
   "source": [
    "### Define a Transform Step to Perform Batch Transformation\n",
    "\n",
    "Now that a model instance is defined, create a `Transformer` instance with the appropriate model type, compute instance type, and desired output S3 URI.\n",
    "\n",
    "Specifically, pass in the `ModelName` from the `CreateModelStep`, `step_create_model` properties. The `CreateModelStep` `properties` attribute matches the object model of the [DescribeModel](https://docs.aws.amazon.com/sagemaker/latest/APIReference/API_DescribeModel.html) response object."
   ]
  },
  {
   "cell_type": "code",
   "execution_count": 18,
   "id": "46e645da",
   "metadata": {
    "execution": {
     "iopub.execute_input": "2022-03-24T00:18:21.276829Z",
     "iopub.status.busy": "2022-03-24T00:18:21.274709Z",
     "iopub.status.idle": "2022-03-24T00:18:21.280019Z",
     "shell.execute_reply": "2022-03-24T00:18:21.279600Z"
    },
    "papermill": {
     "duration": 0.053917,
     "end_time": "2022-03-24T00:18:21.280173",
     "exception": false,
     "start_time": "2022-03-24T00:18:21.226256",
     "status": "completed"
    },
    "tags": []
   },
   "outputs": [],
   "source": [
    "from sagemaker.transformer import Transformer\n",
    "\n",
    "\n",
    "transformer = Transformer(\n",
    "    model_name=step_create_model.properties.ModelName,\n",
    "    instance_type=\"ml.m5.xlarge\",\n",
    "    instance_count=1,\n",
    "    output_path=f\"s3://{default_bucket}/AbaloneTransform\",\n",
    ")"
   ]
  },
  {
   "cell_type": "markdown",
   "id": "684222c3",
   "metadata": {
    "papermill": {
     "duration": 0.039332,
     "end_time": "2022-03-24T00:18:21.359243",
     "exception": false,
     "start_time": "2022-03-24T00:18:21.319911",
     "status": "completed"
    },
    "tags": []
   },
   "source": [
    "Pass in the transformer instance and the `TransformInput` with the `batch_data` pipeline parameter defined earlier."
   ]
  },
  {
   "cell_type": "code",
   "execution_count": 19,
   "id": "9ea83898",
   "metadata": {
    "execution": {
     "iopub.execute_input": "2022-03-24T00:18:21.442505Z",
     "iopub.status.busy": "2022-03-24T00:18:21.441989Z",
     "iopub.status.idle": "2022-03-24T00:18:21.443726Z",
     "shell.execute_reply": "2022-03-24T00:18:21.444109Z"
    },
    "papermill": {
     "duration": 0.045377,
     "end_time": "2022-03-24T00:18:21.444239",
     "exception": false,
     "start_time": "2022-03-24T00:18:21.398862",
     "status": "completed"
    },
    "tags": []
   },
   "outputs": [],
   "source": [
    "from sagemaker.inputs import TransformInput\n",
    "from sagemaker.workflow.steps import TransformStep\n",
    "\n",
    "\n",
    "step_transform = TransformStep(\n",
    "    name=\"AbaloneTransform\", transformer=transformer, inputs=TransformInput(data=batch_data)\n",
    ")"
   ]
  },
  {
   "cell_type": "markdown",
   "id": "28f31b6e",
   "metadata": {
    "papermill": {
     "duration": 0.039407,
     "end_time": "2022-03-24T00:18:21.523321",
     "exception": false,
     "start_time": "2022-03-24T00:18:21.483914",
     "status": "completed"
    },
    "tags": []
   },
   "source": [
    "### Define a Register Model Step to Create a Model Package\n",
    "\n",
    "Use the estimator instance specified in the training step to construct an instance of `RegisterModel`. The result of executing `RegisterModel` in a pipeline is a model package. A model package is an abstraction of reusable model artifacts that packages all ingredients required for inference. Primarily, it consists of an inference specification that defines the inference image to use along with an optional model weights location.\n",
    "\n",
    "A model package group is a collection of model packages. A model package group can be created for a specific ML business problem, and new versions of the model packages can be added to it. Typically, customers are expected to create a ModelPackageGroup for a SageMaker pipeline so that model package versions can be added to the group for every SageMaker Pipeline run.\n",
    "\n",
    "The construction of `RegisterModel` is similar to an estimator instance's `register` method in the Python SDK.\n",
    "\n",
    "Specifically, pass in the `S3ModelArtifacts` from the `TrainingStep`, `step_train` properties. The `TrainingStep` `properties` attribute matches the object model of the [DescribeTrainingJob](https://docs.aws.amazon.com/sagemaker/latest/APIReference/API_DescribeTrainingJob.html) response object.\n",
    "\n",
    "Note that the specific model package group name provided in this notebook can be used in the model registry and CI/CD work with SageMaker Projects."
   ]
  },
  {
   "cell_type": "code",
   "execution_count": 20,
   "id": "872031ed",
   "metadata": {
    "execution": {
     "iopub.execute_input": "2022-03-24T00:18:21.607978Z",
     "iopub.status.busy": "2022-03-24T00:18:21.607476Z",
     "iopub.status.idle": "2022-03-24T00:18:21.822089Z",
     "shell.execute_reply": "2022-03-24T00:18:21.821589Z"
    },
    "papermill": {
     "duration": 0.25942,
     "end_time": "2022-03-24T00:18:21.822199",
     "exception": false,
     "start_time": "2022-03-24T00:18:21.562779",
     "status": "completed"
    },
    "tags": []
   },
   "outputs": [],
   "source": [
    "from sagemaker.model_metrics import MetricsSource, ModelMetrics\n",
    "from sagemaker.workflow.step_collections import RegisterModel\n",
    "\n",
    "\n",
    "model_metrics = ModelMetrics(\n",
    "    model_statistics=MetricsSource(\n",
    "        s3_uri=\"{}/evaluation.json\".format(\n",
    "            step_eval.arguments[\"ProcessingOutputConfig\"][\"Outputs\"][0][\"S3Output\"][\"S3Uri\"]\n",
    "        ),\n",
    "        content_type=\"application/json\",\n",
    "    )\n",
    ")\n",
    "step_register = RegisterModel(\n",
    "    name=\"AbaloneRegisterModel\",\n",
    "    estimator=xgb_train,\n",
    "    model_data=step_train.properties.ModelArtifacts.S3ModelArtifacts,\n",
    "    content_types=[\"text/csv\"],\n",
    "    response_types=[\"text/csv\"],\n",
    "    inference_instances=[\"ml.t2.medium\", \"ml.m5.xlarge\"],\n",
    "    transform_instances=[\"ml.m5.xlarge\"],\n",
    "    model_package_group_name=model_package_group_name,\n",
    "    approval_status=model_approval_status,\n",
    "    model_metrics=model_metrics,\n",
    ")"
   ]
  },
  {
   "cell_type": "markdown",
   "id": "6f881014",
   "metadata": {
    "papermill": {
     "duration": 0.039787,
     "end_time": "2022-03-24T00:18:21.901642",
     "exception": false,
     "start_time": "2022-03-24T00:18:21.861855",
     "status": "completed"
    },
    "tags": []
   },
   "source": [
    "![Define a Create Model Step and Batch Transform to Process Data in Batch at Scale](https://raw.githubusercontent.com/aws/amazon-sagemaker-examples/main/sagemaker-pipelines/tabular/abalone_build_train_deploy/img/pipeline-5.png)"
   ]
  },
  {
   "cell_type": "markdown",
   "id": "3bc53383",
   "metadata": {
    "papermill": {
     "duration": 0.039374,
     "end_time": "2022-03-24T00:18:21.980920",
     "exception": false,
     "start_time": "2022-03-24T00:18:21.941546",
     "status": "completed"
    },
    "tags": []
   },
   "source": [
    "### Define a Fail Step to Terminate the Pipeline Execution and Mark it as Failed\n",
    "\n",
    "This section walks you through the following steps:\n",
    "\n",
    "* Define a `FailStep` with customized error message, which indicates the cause of the execution failure.\n",
    "* Enter the `FailStep` error message with a `Join` function, which appends a static text string with the dynamic `mse_threshold` parameter to build a more informative error message."
   ]
  },
  {
   "cell_type": "code",
   "execution_count": 21,
   "id": "f9dbcfb2",
   "metadata": {
    "collapsed": false,
    "execution": {
     "iopub.execute_input": "2022-03-24T00:18:22.064586Z",
     "iopub.status.busy": "2022-03-24T00:18:22.063907Z",
     "iopub.status.idle": "2022-03-24T00:18:22.066725Z",
     "shell.execute_reply": "2022-03-24T00:18:22.067094Z"
    },
    "jupyter": {
     "outputs_hidden": false
    },
    "papermill": {
     "duration": 0.046491,
     "end_time": "2022-03-24T00:18:22.067244",
     "exception": false,
     "start_time": "2022-03-24T00:18:22.020753",
     "status": "completed"
    },
    "pycharm": {
     "name": "#%%\n"
    },
    "tags": []
   },
   "outputs": [],
   "source": [
    "from sagemaker.workflow.fail_step import FailStep\n",
    "from sagemaker.workflow.functions import Join\n",
    "\n",
    "step_fail = FailStep(\n",
    "    name=\"AbaloneMSEFail\",\n",
    "    error_message=Join(on=\" \", values=[\"Execution failed due to MSE >\", mse_threshold]),\n",
    ")"
   ]
  },
  {
   "cell_type": "markdown",
   "id": "4a8953de",
   "metadata": {
    "papermill": {
     "duration": 0.039647,
     "end_time": "2022-03-24T00:18:22.146928",
     "exception": false,
     "start_time": "2022-03-24T00:18:22.107281",
     "status": "completed"
    },
    "tags": []
   },
   "source": [
    "![Define a Fail Step to Terminate the Execution in Failed State](https://raw.githubusercontent.com/aws/amazon-sagemaker-examples/main/sagemaker-pipelines/tabular/abalone_build_train_deploy/img/pipeline-8.png)"
   ]
  },
  {
   "cell_type": "markdown",
   "id": "7e88c2cb",
   "metadata": {
    "papermill": {
     "duration": 0.03947,
     "end_time": "2022-03-24T00:18:22.226137",
     "exception": false,
     "start_time": "2022-03-24T00:18:22.186667",
     "status": "completed"
    },
    "tags": []
   },
   "source": [
    "### Define a Condition Step to Check Accuracy and Conditionally Create a Model and Run a Batch Transformation and Register a Model in the Model Registry, Or Terminate the Execution in Failed State\n",
    "\n",
    "In this step, the model is registered only if the accuracy of the model, as determined by the evaluation step `step_eval`, exceeded a specified value. Otherwise, the pipeline execution fails and terminates. A `ConditionStep` enables pipelines to support conditional execution in the pipeline DAG based on the conditions of the step properties.\n",
    "\n",
    "In the following section, you:\n",
    "\n",
    "* Define a `ConditionLessThanOrEqualTo` on the accuracy value found in the output of the evaluation step, `step_eval`.\n",
    "* Use the condition in the list of conditions in a `ConditionStep`.\n",
    "* Pass the `CreateModelStep` and `TransformStep` steps, and the `RegisterModel` step collection into the `if_steps` of the `ConditionStep`, which are only executed if the condition evaluates to `True`.\n",
    "* Pass the `FailStep` step into the `else_steps`of the `ConditionStep`, which is only executed if the condition evaluates to `False`."
   ]
  },
  {
   "cell_type": "code",
   "execution_count": 22,
   "id": "0b1e9601",
   "metadata": {
    "execution": {
     "iopub.execute_input": "2022-03-24T00:18:22.311483Z",
     "iopub.status.busy": "2022-03-24T00:18:22.310738Z",
     "iopub.status.idle": "2022-03-24T00:18:22.316209Z",
     "shell.execute_reply": "2022-03-24T00:18:22.316588Z"
    },
    "papermill": {
     "duration": 0.050863,
     "end_time": "2022-03-24T00:18:22.316729",
     "exception": false,
     "start_time": "2022-03-24T00:18:22.265866",
     "status": "completed"
    },
    "tags": []
   },
   "outputs": [],
   "source": [
    "from sagemaker.workflow.conditions import ConditionLessThanOrEqualTo\n",
    "from sagemaker.workflow.condition_step import ConditionStep\n",
    "from sagemaker.workflow.functions import JsonGet\n",
    "\n",
    "\n",
    "cond_lte = ConditionLessThanOrEqualTo(\n",
    "    left=JsonGet(\n",
    "        step_name=step_eval.name,\n",
    "        property_file=evaluation_report,\n",
    "        json_path=\"regression_metrics.mse.value\",\n",
    "    ),\n",
    "    right=mse_threshold,\n",
    ")\n",
    "\n",
    "step_cond = ConditionStep(\n",
    "    name=\"AbaloneMSECond\",\n",
    "    conditions=[cond_lte],\n",
    "    if_steps=[step_register, step_create_model, step_transform],\n",
    "    else_steps=[step_fail],\n",
    ")"
   ]
  },
  {
   "cell_type": "markdown",
   "id": "8e59cfb6",
   "metadata": {
    "papermill": {
     "duration": 0.039886,
     "end_time": "2022-03-24T00:18:22.396721",
     "exception": false,
     "start_time": "2022-03-24T00:18:22.356835",
     "status": "completed"
    },
    "tags": []
   },
   "source": [
    "![Define a Condition Step to Check Accuracy and Conditionally Execute Steps](https://raw.githubusercontent.com/aws/amazon-sagemaker-examples/main/sagemaker-pipelines/tabular/abalone_build_train_deploy/img/pipeline-6.png)"
   ]
  },
  {
   "cell_type": "markdown",
   "id": "4cb1f9c3",
   "metadata": {
    "papermill": {
     "duration": 0.039613,
     "end_time": "2022-03-24T00:18:22.476054",
     "exception": false,
     "start_time": "2022-03-24T00:18:22.436441",
     "status": "completed"
    },
    "tags": []
   },
   "source": [
    "### Define a Pipeline of Parameters, Steps, and Conditions\n",
    "\n",
    "In this section, combine the steps into a Pipeline so it can be executed.\n",
    "\n",
    "A pipeline requires a `name`, `parameters`, and `steps`. Names must be unique within an `(account, region)` pair.\n",
    "\n",
    "Note:\n",
    "\n",
    "* All the parameters used in the definitions must be present.\n",
    "* Steps passed into the pipeline do not have to be listed in the order of execution. The SageMaker Pipeline service resolves the _data dependency_ DAG as steps for the execution to complete.\n",
    "* Steps must be unique to across the pipeline step list and all condition step if/else lists."
   ]
  },
  {
   "cell_type": "code",
   "execution_count": 23,
   "id": "2a64da4d",
   "metadata": {
    "execution": {
     "iopub.execute_input": "2022-03-24T00:18:22.560406Z",
     "iopub.status.busy": "2022-03-24T00:18:22.559837Z",
     "iopub.status.idle": "2022-03-24T00:18:22.576753Z",
     "shell.execute_reply": "2022-03-24T00:18:22.576312Z"
    },
    "papermill": {
     "duration": 0.061068,
     "end_time": "2022-03-24T00:18:22.576866",
     "exception": false,
     "start_time": "2022-03-24T00:18:22.515798",
     "status": "completed"
    },
    "tags": []
   },
   "outputs": [],
   "source": [
    "from sagemaker.workflow.pipeline import Pipeline\n",
    "\n",
    "\n",
    "pipeline_name = f\"AbalonePipeline\"\n",
    "pipeline = Pipeline(\n",
    "    name=pipeline_name,\n",
    "    parameters=[\n",
    "        processing_instance_type,\n",
    "        processing_instance_count,\n",
    "        training_instance_type,\n",
    "        model_approval_status,\n",
    "        input_data,\n",
    "        batch_data,\n",
    "        mse_threshold,\n",
    "    ],\n",
    "    steps=[step_process, step_train, step_eval, step_cond],\n",
    ")"
   ]
  },
  {
   "cell_type": "markdown",
   "id": "a5df4369",
   "metadata": {
    "papermill": {
     "duration": 0.040137,
     "end_time": "2022-03-24T00:18:22.657109",
     "exception": false,
     "start_time": "2022-03-24T00:18:22.616972",
     "status": "completed"
    },
    "tags": []
   },
   "source": [
    "![Define a Pipeline of Parameters, Steps, and Conditions](https://raw.githubusercontent.com/aws/amazon-sagemaker-examples/main/sagemaker-pipelines/tabular/abalone_build_train_deploy/img/pipeline-7.png)"
   ]
  },
  {
   "cell_type": "markdown",
   "id": "62abff2b",
   "metadata": {
    "papermill": {
     "duration": 0.039806,
     "end_time": "2022-03-24T00:18:22.736712",
     "exception": false,
     "start_time": "2022-03-24T00:18:22.696906",
     "status": "completed"
    },
    "tags": []
   },
   "source": [
    "#### (Optional) Examining the pipeline definition\n",
    "\n",
    "The JSON of the pipeline definition can be examined to confirm the pipeline is well-defined and the parameters and step properties resolve correctly."
   ]
  },
  {
   "cell_type": "code",
   "execution_count": 24,
   "id": "67382d05",
   "metadata": {
    "execution": {
     "iopub.execute_input": "2022-03-24T00:18:22.820595Z",
     "iopub.status.busy": "2022-03-24T00:18:22.819824Z",
     "iopub.status.idle": "2022-03-24T00:18:23.234674Z",
     "shell.execute_reply": "2022-03-24T00:18:23.235042Z"
    },
    "papermill": {
     "duration": 0.458689,
     "end_time": "2022-03-24T00:18:23.235178",
     "exception": false,
     "start_time": "2022-03-24T00:18:22.776489",
     "status": "completed"
    },
    "tags": []
   },
   "outputs": [
    {
     "name": "stderr",
     "output_type": "stream",
     "text": [
      "No finished training job found associated with this estimator. Please make sure this estimator is only used for building workflow config\n"
     ]
    },
    {
     "data": {
      "text/plain": [
       "{'Version': '2020-12-01',\n",
       " 'Metadata': {},\n",
       " 'Parameters': [{'Name': 'ProcessingInstanceType',\n",
       "   'Type': 'String',\n",
       "   'DefaultValue': 'ml.m5.xlarge'},\n",
       "  {'Name': 'ProcessingInstanceCount', 'Type': 'Integer', 'DefaultValue': 1},\n",
       "  {'Name': 'TrainingInstanceType',\n",
       "   'Type': 'String',\n",
       "   'DefaultValue': 'ml.m5.xlarge'},\n",
       "  {'Name': 'ModelApprovalStatus',\n",
       "   'Type': 'String',\n",
       "   'DefaultValue': 'PendingManualApproval'},\n",
       "  {'Name': 'InputData',\n",
       "   'Type': 'String',\n",
       "   'DefaultValue': 's3://sagemaker-us-west-2-000000000000/abalone/abalone-dataset.csv'},\n",
       "  {'Name': 'BatchData',\n",
       "   'Type': 'String',\n",
       "   'DefaultValue': 's3://sagemaker-us-west-2-000000000000/abalone/abalone-dataset-batch'},\n",
       "  {'Name': 'MseThreshold', 'Type': 'Float', 'DefaultValue': 6.0}],\n",
       " 'PipelineExperimentConfig': {'ExperimentName': {'Get': 'Execution.PipelineName'},\n",
       "  'TrialName': {'Get': 'Execution.PipelineExecutionId'}},\n",
       " 'Steps': [{'Name': 'AbaloneProcess',\n",
       "   'Type': 'Processing',\n",
       "   'Arguments': {'ProcessingResources': {'ClusterConfig': {'InstanceType': {'Get': 'Parameters.ProcessingInstanceType'},\n",
       "      'InstanceCount': {'Get': 'Parameters.ProcessingInstanceCount'},\n",
       "      'VolumeSizeInGB': 30}},\n",
       "    'AppSpecification': {'ImageUri': '246618743249.dkr.ecr.us-west-2.amazonaws.com/sagemaker-scikit-learn:0.23-1-cpu-py3',\n",
       "     'ContainerEntrypoint': ['python3',\n",
       "      '/opt/ml/processing/input/code/preprocessing.py']},\n",
       "    'RoleArn': 'arn:aws:iam::000000000000:role/ProdBuildSystemStack-ReleaseBuildRoleFB326D49-QK8LUA2UI1IC',\n",
       "    'ProcessingInputs': [{'InputName': 'input-1',\n",
       "      'AppManaged': False,\n",
       "      'S3Input': {'S3Uri': {'Get': 'Parameters.InputData'},\n",
       "       'LocalPath': '/opt/ml/processing/input',\n",
       "       'S3DataType': 'S3Prefix',\n",
       "       'S3InputMode': 'File',\n",
       "       'S3DataDistributionType': 'FullyReplicated',\n",
       "       'S3CompressionType': 'None'}},\n",
       "     {'InputName': 'code',\n",
       "      'AppManaged': False,\n",
       "      'S3Input': {'S3Uri': 's3://sagemaker-us-west-2-000000000000/AbaloneProcess-e6ff493b4b79fe2e2f2146b46607be87/input/code/preprocessing.py',\n",
       "       'LocalPath': '/opt/ml/processing/input/code',\n",
       "       'S3DataType': 'S3Prefix',\n",
       "       'S3InputMode': 'File',\n",
       "       'S3DataDistributionType': 'FullyReplicated',\n",
       "       'S3CompressionType': 'None'}}],\n",
       "    'ProcessingOutputConfig': {'Outputs': [{'OutputName': 'train',\n",
       "       'AppManaged': False,\n",
       "       'S3Output': {'S3Uri': 's3://sagemaker-us-west-2-000000000000/AbaloneProcess-e6ff493b4b79fe2e2f2146b46607be87/output/train',\n",
       "        'LocalPath': '/opt/ml/processing/train',\n",
       "        'S3UploadMode': 'EndOfJob'}},\n",
       "      {'OutputName': 'validation',\n",
       "       'AppManaged': False,\n",
       "       'S3Output': {'S3Uri': 's3://sagemaker-us-west-2-000000000000/AbaloneProcess-e6ff493b4b79fe2e2f2146b46607be87/output/validation',\n",
       "        'LocalPath': '/opt/ml/processing/validation',\n",
       "        'S3UploadMode': 'EndOfJob'}},\n",
       "      {'OutputName': 'test',\n",
       "       'AppManaged': False,\n",
       "       'S3Output': {'S3Uri': 's3://sagemaker-us-west-2-000000000000/AbaloneProcess-e6ff493b4b79fe2e2f2146b46607be87/output/test',\n",
       "        'LocalPath': '/opt/ml/processing/test',\n",
       "        'S3UploadMode': 'EndOfJob'}}]}}},\n",
       "  {'Name': 'AbaloneTrain',\n",
       "   'Type': 'Training',\n",
       "   'Arguments': {'AlgorithmSpecification': {'TrainingInputMode': 'File',\n",
       "     'TrainingImage': '246618743249.dkr.ecr.us-west-2.amazonaws.com/sagemaker-xgboost:1.0-1-cpu-py3'},\n",
       "    'OutputDataConfig': {'S3OutputPath': 's3://sagemaker-us-west-2-000000000000/AbaloneTrain'},\n",
       "    'StoppingCondition': {'MaxRuntimeInSeconds': 86400},\n",
       "    'ResourceConfig': {'InstanceCount': 1,\n",
       "     'InstanceType': {'Get': 'Parameters.TrainingInstanceType'},\n",
       "     'VolumeSizeInGB': 30},\n",
       "    'RoleArn': 'arn:aws:iam::000000000000:role/ProdBuildSystemStack-ReleaseBuildRoleFB326D49-QK8LUA2UI1IC',\n",
       "    'InputDataConfig': [{'DataSource': {'S3DataSource': {'S3DataType': 'S3Prefix',\n",
       "        'S3Uri': {'Get': \"Steps.AbaloneProcess.ProcessingOutputConfig.Outputs['train'].S3Output.S3Uri\"},\n",
       "        'S3DataDistributionType': 'FullyReplicated'}},\n",
       "      'ContentType': 'text/csv',\n",
       "      'ChannelName': 'train'},\n",
       "     {'DataSource': {'S3DataSource': {'S3DataType': 'S3Prefix',\n",
       "        'S3Uri': {'Get': \"Steps.AbaloneProcess.ProcessingOutputConfig.Outputs['validation'].S3Output.S3Uri\"},\n",
       "        'S3DataDistributionType': 'FullyReplicated'}},\n",
       "      'ContentType': 'text/csv',\n",
       "      'ChannelName': 'validation'}],\n",
       "    'HyperParameters': {'objective': 'reg:linear',\n",
       "     'num_round': '50',\n",
       "     'max_depth': '5',\n",
       "     'eta': '0.2',\n",
       "     'gamma': '4',\n",
       "     'min_child_weight': '6',\n",
       "     'subsample': '0.7',\n",
       "     'silent': '0'},\n",
       "    'ProfilerRuleConfigurations': [{'RuleConfigurationName': 'ProfilerReport-1648081103',\n",
       "      'RuleEvaluatorImage': '895741380848.dkr.ecr.us-west-2.amazonaws.com/sagemaker-debugger-rules:latest',\n",
       "      'RuleParameters': {'rule_to_invoke': 'ProfilerReport'}}],\n",
       "    'ProfilerConfig': {'S3OutputPath': 's3://sagemaker-us-west-2-000000000000/AbaloneTrain'}}},\n",
       "  {'Name': 'AbaloneEval',\n",
       "   'Type': 'Processing',\n",
       "   'Arguments': {'ProcessingResources': {'ClusterConfig': {'InstanceType': {'Get': 'Parameters.ProcessingInstanceType'},\n",
       "      'InstanceCount': 1,\n",
       "      'VolumeSizeInGB': 30}},\n",
       "    'AppSpecification': {'ImageUri': '246618743249.dkr.ecr.us-west-2.amazonaws.com/sagemaker-xgboost:1.0-1-cpu-py3',\n",
       "     'ContainerEntrypoint': ['python3',\n",
       "      '/opt/ml/processing/input/code/evaluation.py']},\n",
       "    'RoleArn': 'arn:aws:iam::000000000000:role/ProdBuildSystemStack-ReleaseBuildRoleFB326D49-QK8LUA2UI1IC',\n",
       "    'ProcessingInputs': [{'InputName': 'input-1',\n",
       "      'AppManaged': False,\n",
       "      'S3Input': {'S3Uri': {'Get': 'Steps.AbaloneTrain.ModelArtifacts.S3ModelArtifacts'},\n",
       "       'LocalPath': '/opt/ml/processing/model',\n",
       "       'S3DataType': 'S3Prefix',\n",
       "       'S3InputMode': 'File',\n",
       "       'S3DataDistributionType': 'FullyReplicated',\n",
       "       'S3CompressionType': 'None'}},\n",
       "     {'InputName': 'input-2',\n",
       "      'AppManaged': False,\n",
       "      'S3Input': {'S3Uri': {'Get': \"Steps.AbaloneProcess.ProcessingOutputConfig.Outputs['test'].S3Output.S3Uri\"},\n",
       "       'LocalPath': '/opt/ml/processing/test',\n",
       "       'S3DataType': 'S3Prefix',\n",
       "       'S3InputMode': 'File',\n",
       "       'S3DataDistributionType': 'FullyReplicated',\n",
       "       'S3CompressionType': 'None'}},\n",
       "     {'InputName': 'code',\n",
       "      'AppManaged': False,\n",
       "      'S3Input': {'S3Uri': 's3://sagemaker-us-west-2-000000000000/AbaloneEval-3419a950c93b74404394e09ce2edc51e/input/code/evaluation.py',\n",
       "       'LocalPath': '/opt/ml/processing/input/code',\n",
       "       'S3DataType': 'S3Prefix',\n",
       "       'S3InputMode': 'File',\n",
       "       'S3DataDistributionType': 'FullyReplicated',\n",
       "       'S3CompressionType': 'None'}}],\n",
       "    'ProcessingOutputConfig': {'Outputs': [{'OutputName': 'evaluation',\n",
       "       'AppManaged': False,\n",
       "       'S3Output': {'S3Uri': 's3://sagemaker-us-west-2-000000000000/AbaloneEval-3419a950c93b74404394e09ce2edc51e/output/evaluation',\n",
       "        'LocalPath': '/opt/ml/processing/evaluation',\n",
       "        'S3UploadMode': 'EndOfJob'}}]}},\n",
       "   'PropertyFiles': [{'PropertyFileName': 'EvaluationReport',\n",
       "     'OutputName': 'evaluation',\n",
       "     'FilePath': 'evaluation.json'}]},\n",
       "  {'Name': 'AbaloneMSECond',\n",
       "   'Type': 'Condition',\n",
       "   'Arguments': {'Conditions': [{'Type': 'LessThanOrEqualTo',\n",
       "      'LeftValue': {'Std:JsonGet': {'PropertyFile': {'Get': 'Steps.AbaloneEval.PropertyFiles.EvaluationReport'},\n",
       "        'Path': 'regression_metrics.mse.value'}},\n",
       "      'RightValue': {'Get': 'Parameters.MseThreshold'}}],\n",
       "    'IfSteps': [{'Name': 'AbaloneRegisterModel',\n",
       "      'Type': 'RegisterModel',\n",
       "      'Arguments': {'ModelPackageGroupName': 'AbaloneModelPackageGroupName',\n",
       "       'ModelMetrics': {'ModelQuality': {'Statistics': {'ContentType': 'application/json',\n",
       "          'S3Uri': 's3://sagemaker-us-west-2-000000000000/AbaloneEval-3419a950c93b74404394e09ce2edc51e/output/evaluation/evaluation.json'}},\n",
       "        'Bias': {},\n",
       "        'Explainability': {}},\n",
       "       'InferenceSpecification': {'Containers': [{'Image': '246618743249.dkr.ecr.us-west-2.amazonaws.com/sagemaker-xgboost:1.0-1-cpu-py3',\n",
       "          'ModelDataUrl': {'Get': 'Steps.AbaloneTrain.ModelArtifacts.S3ModelArtifacts'}}],\n",
       "        'SupportedContentTypes': ['text/csv'],\n",
       "        'SupportedResponseMIMETypes': ['text/csv'],\n",
       "        'SupportedRealtimeInferenceInstanceTypes': ['ml.t2.medium',\n",
       "         'ml.m5.xlarge'],\n",
       "        'SupportedTransformInstanceTypes': ['ml.m5.xlarge']},\n",
       "       'ModelApprovalStatus': {'Get': 'Parameters.ModelApprovalStatus'}}},\n",
       "     {'Name': 'AbaloneCreateModel',\n",
       "      'Type': 'Model',\n",
       "      'Arguments': {'ExecutionRoleArn': 'arn:aws:iam::000000000000:role/ProdBuildSystemStack-ReleaseBuildRoleFB326D49-QK8LUA2UI1IC',\n",
       "       'PrimaryContainer': {'Image': '246618743249.dkr.ecr.us-west-2.amazonaws.com/sagemaker-xgboost:1.0-1-cpu-py3',\n",
       "        'Environment': {},\n",
       "        'ModelDataUrl': {'Get': 'Steps.AbaloneTrain.ModelArtifacts.S3ModelArtifacts'}}}},\n",
       "     {'Name': 'AbaloneTransform',\n",
       "      'Type': 'Transform',\n",
       "      'Arguments': {'ModelName': {'Get': 'Steps.AbaloneCreateModel.ModelName'},\n",
       "       'TransformInput': {'DataSource': {'S3DataSource': {'S3DataType': 'S3Prefix',\n",
       "          'S3Uri': {'Get': 'Parameters.BatchData'}}}},\n",
       "       'TransformOutput': {'S3OutputPath': 's3://sagemaker-us-west-2-000000000000/AbaloneTransform'},\n",
       "       'TransformResources': {'InstanceCount': 1,\n",
       "        'InstanceType': 'ml.m5.xlarge'}}}],\n",
       "    'ElseSteps': [{'Name': 'AbaloneMSEFail',\n",
       "      'Type': 'Fail',\n",
       "      'Arguments': {'ErrorMessage': {'Std:Join': {'On': ' ',\n",
       "         'Values': ['Execution failed due to MSE >',\n",
       "          {'Get': 'Parameters.MseThreshold'}]}}}}]}}]}"
      ]
     },
     "execution_count": 24,
     "metadata": {},
     "output_type": "execute_result"
    }
   ],
   "source": [
    "import json\n",
    "\n",
    "\n",
    "definition = json.loads(pipeline.definition())\n",
    "definition"
   ]
  },
  {
   "cell_type": "markdown",
   "id": "1829bc19",
   "metadata": {
    "papermill": {
     "duration": 0.040549,
     "end_time": "2022-03-24T00:18:23.316409",
     "exception": false,
     "start_time": "2022-03-24T00:18:23.275860",
     "status": "completed"
    },
    "tags": []
   },
   "source": [
    "### Submit the pipeline to SageMaker and start execution\n",
    "\n",
    "Submit the pipeline definition to the Pipeline service. The role passed in will be used by the Pipeline service to create all the jobs defined in the steps."
   ]
  },
  {
   "cell_type": "code",
   "execution_count": 25,
   "id": "27ce348b",
   "metadata": {
    "execution": {
     "iopub.execute_input": "2022-03-24T00:18:23.401622Z",
     "iopub.status.busy": "2022-03-24T00:18:23.400913Z",
     "iopub.status.idle": "2022-03-24T00:18:24.239446Z",
     "shell.execute_reply": "2022-03-24T00:18:24.238966Z"
    },
    "papermill": {
     "duration": 0.882617,
     "end_time": "2022-03-24T00:18:24.239553",
     "exception": false,
     "start_time": "2022-03-24T00:18:23.356936",
     "status": "completed"
    },
    "tags": []
   },
   "outputs": [
    {
     "name": "stderr",
     "output_type": "stream",
     "text": [
      "No finished training job found associated with this estimator. Please make sure this estimator is only used for building workflow config\n"
     ]
    },
    {
     "name": "stderr",
     "output_type": "stream",
     "text": [
      "No finished training job found associated with this estimator. Please make sure this estimator is only used for building workflow config\n"
     ]
    },
    {
     "data": {
      "text/plain": [
       "{'PipelineArn': 'arn:aws:sagemaker:us-west-2:000000000000:pipeline/abalonepipeline',\n",
       " 'ResponseMetadata': {'RequestId': 'd2ae58fa-6508-444f-8c5c-81b053cf4b91',\n",
       "  'HTTPStatusCode': 200,\n",
       "  'HTTPHeaders': {'x-amzn-requestid': 'd2ae58fa-6508-444f-8c5c-81b053cf4b91',\n",
       "   'content-type': 'application/x-amz-json-1.1',\n",
       "   'content-length': '83',\n",
       "   'date': 'Thu, 24 Mar 2022 00:18:23 GMT'},\n",
       "  'RetryAttempts': 0}}"
      ]
     },
     "execution_count": 25,
     "metadata": {},
     "output_type": "execute_result"
    }
   ],
   "source": [
    "pipeline.upsert(role_arn=role)"
   ]
  },
  {
   "cell_type": "markdown",
   "id": "47668aca",
   "metadata": {
    "papermill": {
     "duration": 0.041674,
     "end_time": "2022-03-24T00:18:24.322767",
     "exception": false,
     "start_time": "2022-03-24T00:18:24.281093",
     "status": "completed"
    },
    "tags": []
   },
   "source": [
    "Start the pipeline and accept all the default parameters."
   ]
  },
  {
   "cell_type": "code",
   "execution_count": 26,
   "id": "1df48be5",
   "metadata": {
    "execution": {
     "iopub.execute_input": "2022-03-24T00:18:24.410410Z",
     "iopub.status.busy": "2022-03-24T00:18:24.409912Z",
     "iopub.status.idle": "2022-03-24T00:18:24.664541Z",
     "shell.execute_reply": "2022-03-24T00:18:24.664947Z"
    },
    "papermill": {
     "duration": 0.301122,
     "end_time": "2022-03-24T00:18:24.665089",
     "exception": false,
     "start_time": "2022-03-24T00:18:24.363967",
     "status": "completed"
    },
    "tags": []
   },
   "outputs": [],
   "source": [
    "execution = pipeline.start()"
   ]
  },
  {
   "cell_type": "markdown",
   "id": "4ae0f679",
   "metadata": {
    "papermill": {
     "duration": 0.041124,
     "end_time": "2022-03-24T00:18:24.748040",
     "exception": false,
     "start_time": "2022-03-24T00:18:24.706916",
     "status": "completed"
    },
    "tags": []
   },
   "source": [
    "### Pipeline Operations: Examining and Waiting for Pipeline Execution\n",
    "\n",
    "Describe the pipeline execution."
   ]
  },
  {
   "cell_type": "code",
   "execution_count": 27,
   "id": "d56e107c",
   "metadata": {
    "execution": {
     "iopub.execute_input": "2022-03-24T00:18:24.835353Z",
     "iopub.status.busy": "2022-03-24T00:18:24.834867Z",
     "iopub.status.idle": "2022-03-24T00:18:24.888641Z",
     "shell.execute_reply": "2022-03-24T00:18:24.888240Z"
    },
    "papermill": {
     "duration": 0.099509,
     "end_time": "2022-03-24T00:18:24.888745",
     "exception": false,
     "start_time": "2022-03-24T00:18:24.789236",
     "status": "completed"
    },
    "tags": []
   },
   "outputs": [
    {
     "data": {
      "text/plain": [
       "{'PipelineArn': 'arn:aws:sagemaker:us-west-2:000000000000:pipeline/abalonepipeline',\n",
       " 'PipelineExecutionArn': 'arn:aws:sagemaker:us-west-2:000000000000:pipeline/abalonepipeline/execution/0cyyhdkip2vj',\n",
       " 'PipelineExecutionDisplayName': 'execution-1648081104626',\n",
       " 'PipelineExecutionStatus': 'Executing',\n",
       " 'CreationTime': datetime.datetime(2022, 3, 24, 0, 18, 24, 502000, tzinfo=tzlocal()),\n",
       " 'LastModifiedTime': datetime.datetime(2022, 3, 24, 0, 18, 24, 502000, tzinfo=tzlocal()),\n",
       " 'CreatedBy': {},\n",
       " 'LastModifiedBy': {},\n",
       " 'ResponseMetadata': {'RequestId': 'e6f343e0-ac82-47ac-9049-08a395ee63af',\n",
       "  'HTTPStatusCode': 200,\n",
       "  'HTTPHeaders': {'x-amzn-requestid': 'e6f343e0-ac82-47ac-9049-08a395ee63af',\n",
       "   'content-type': 'application/x-amz-json-1.1',\n",
       "   'content-length': '395',\n",
       "   'date': 'Thu, 24 Mar 2022 00:18:23 GMT'},\n",
       "  'RetryAttempts': 0}}"
      ]
     },
     "execution_count": 27,
     "metadata": {},
     "output_type": "execute_result"
    }
   ],
   "source": [
    "execution.describe()"
   ]
  },
  {
   "cell_type": "markdown",
   "id": "23587678",
   "metadata": {
    "papermill": {
     "duration": 0.04134,
     "end_time": "2022-03-24T00:18:24.971612",
     "exception": false,
     "start_time": "2022-03-24T00:18:24.930272",
     "status": "completed"
    },
    "tags": []
   },
   "source": [
    "Wait for the execution to complete."
   ]
  },
  {
   "cell_type": "code",
   "execution_count": 28,
   "id": "c55481ed",
   "metadata": {
    "execution": {
     "iopub.execute_input": "2022-03-24T00:18:25.059020Z",
     "iopub.status.busy": "2022-03-24T00:18:25.057917Z",
     "iopub.status.idle": "2022-03-24T00:34:58.182826Z",
     "shell.execute_reply": "2022-03-24T00:34:58.182403Z"
    },
    "papermill": {
     "duration": 993.169649,
     "end_time": "2022-03-24T00:34:58.182943",
     "exception": false,
     "start_time": "2022-03-24T00:18:25.013294",
     "status": "completed"
    },
    "tags": []
   },
   "outputs": [],
   "source": [
    "execution.wait()"
   ]
  },
  {
   "cell_type": "markdown",
   "id": "09b90758",
   "metadata": {
    "papermill": {
     "duration": 0.042084,
     "end_time": "2022-03-24T00:34:58.267766",
     "exception": false,
     "start_time": "2022-03-24T00:34:58.225682",
     "status": "completed"
    },
    "tags": []
   },
   "source": [
    "List the steps in the execution. These are the steps in the pipeline that have been resolved by the step executor service."
   ]
  },
  {
   "cell_type": "code",
   "execution_count": 29,
   "id": "802b9c03",
   "metadata": {
    "execution": {
     "iopub.execute_input": "2022-03-24T00:34:58.357776Z",
     "iopub.status.busy": "2022-03-24T00:34:58.357275Z",
     "iopub.status.idle": "2022-03-24T00:34:58.419602Z",
     "shell.execute_reply": "2022-03-24T00:34:58.419992Z"
    },
    "papermill": {
     "duration": 0.110288,
     "end_time": "2022-03-24T00:34:58.420163",
     "exception": false,
     "start_time": "2022-03-24T00:34:58.309875",
     "status": "completed"
    },
    "tags": []
   },
   "outputs": [
    {
     "data": {
      "text/plain": [
       "[{'StepName': 'AbaloneTransform',\n",
       "  'StartTime': datetime.datetime(2022, 3, 24, 0, 30, 0, 808000, tzinfo=tzlocal()),\n",
       "  'EndTime': datetime.datetime(2022, 3, 24, 0, 34, 30, 324000, tzinfo=tzlocal()),\n",
       "  'StepStatus': 'Succeeded',\n",
       "  'AttemptCount': 0,\n",
       "  'Metadata': {'TransformJob': {'Arn': 'arn:aws:sagemaker:us-west-2:000000000000:transform-job/pipelines-0cyyhdkip2vj-abalonetransform-fb6iqoonzq'}}},\n",
       " {'StepName': 'AbaloneCreateModel',\n",
       "  'StartTime': datetime.datetime(2022, 3, 24, 0, 29, 59, 62000, tzinfo=tzlocal()),\n",
       "  'EndTime': datetime.datetime(2022, 3, 24, 0, 30, 0, 465000, tzinfo=tzlocal()),\n",
       "  'StepStatus': 'Succeeded',\n",
       "  'AttemptCount': 0,\n",
       "  'Metadata': {'Model': {'Arn': 'arn:aws:sagemaker:us-west-2:000000000000:model/pipelines-0cyyhdkip2vj-abalonecreatemodel-zy7fna7vqk'}}},\n",
       " {'StepName': 'AbaloneRegisterModel',\n",
       "  'StartTime': datetime.datetime(2022, 3, 24, 0, 29, 59, 62000, tzinfo=tzlocal()),\n",
       "  'EndTime': datetime.datetime(2022, 3, 24, 0, 30, 0, 146000, tzinfo=tzlocal()),\n",
       "  'StepStatus': 'Succeeded',\n",
       "  'AttemptCount': 0,\n",
       "  'Metadata': {'RegisterModel': {'Arn': 'arn:aws:sagemaker:us-west-2:000000000000:model-package/abalonemodelpackagegroupname/629'}}},\n",
       " {'StepName': 'AbaloneMSECond',\n",
       "  'StartTime': datetime.datetime(2022, 3, 24, 0, 29, 57, 564000, tzinfo=tzlocal()),\n",
       "  'EndTime': datetime.datetime(2022, 3, 24, 0, 29, 58, 113000, tzinfo=tzlocal()),\n",
       "  'StepStatus': 'Succeeded',\n",
       "  'AttemptCount': 0,\n",
       "  'Metadata': {'Condition': {'Outcome': 'True'}}},\n",
       " {'StepName': 'AbaloneEval',\n",
       "  'StartTime': datetime.datetime(2022, 3, 24, 0, 25, 44, 388000, tzinfo=tzlocal()),\n",
       "  'EndTime': datetime.datetime(2022, 3, 24, 0, 29, 56, 234000, tzinfo=tzlocal()),\n",
       "  'StepStatus': 'Succeeded',\n",
       "  'AttemptCount': 0,\n",
       "  'Metadata': {'ProcessingJob': {'Arn': 'arn:aws:sagemaker:us-west-2:000000000000:processing-job/pipelines-0cyyhdkip2vj-abaloneeval-zawlm9mr0f'}}},\n",
       " {'StepName': 'AbaloneTrain',\n",
       "  'StartTime': datetime.datetime(2022, 3, 24, 0, 22, 44, 500000, tzinfo=tzlocal()),\n",
       "  'EndTime': datetime.datetime(2022, 3, 24, 0, 25, 43, 720000, tzinfo=tzlocal()),\n",
       "  'StepStatus': 'Succeeded',\n",
       "  'AttemptCount': 0,\n",
       "  'Metadata': {'TrainingJob': {'Arn': 'arn:aws:sagemaker:us-west-2:000000000000:training-job/pipelines-0cyyhdkip2vj-abalonetrain-kzafaq0ntb'}}},\n",
       " {'StepName': 'AbaloneProcess',\n",
       "  'StartTime': datetime.datetime(2022, 3, 24, 0, 18, 25, 626000, tzinfo=tzlocal()),\n",
       "  'EndTime': datetime.datetime(2022, 3, 24, 0, 22, 43, 711000, tzinfo=tzlocal()),\n",
       "  'StepStatus': 'Succeeded',\n",
       "  'AttemptCount': 0,\n",
       "  'Metadata': {'ProcessingJob': {'Arn': 'arn:aws:sagemaker:us-west-2:000000000000:processing-job/pipelines-0cyyhdkip2vj-abaloneprocess-d5cws47qlq'}}}]"
      ]
     },
     "execution_count": 29,
     "metadata": {},
     "output_type": "execute_result"
    }
   ],
   "source": [
    "execution.list_steps()"
   ]
  },
  {
   "cell_type": "markdown",
   "id": "6f0b55f0",
   "metadata": {
    "papermill": {
     "duration": 0.042554,
     "end_time": "2022-03-24T00:34:58.505646",
     "exception": false,
     "start_time": "2022-03-24T00:34:58.463092",
     "status": "completed"
    },
    "tags": []
   },
   "source": [
    "### Examining the Evaluation\n",
    "\n",
    "Examine the resulting model evaluation after the pipeline completes. Download the resulting `evaluation.json` file from S3 and print the report."
   ]
  },
  {
   "cell_type": "code",
   "execution_count": 30,
   "id": "a5f14d2d",
   "metadata": {
    "execution": {
     "iopub.execute_input": "2022-03-24T00:34:58.601490Z",
     "iopub.status.busy": "2022-03-24T00:34:58.600964Z",
     "iopub.status.idle": "2022-03-24T00:34:58.721751Z",
     "shell.execute_reply": "2022-03-24T00:34:58.721334Z"
    },
    "papermill": {
     "duration": 0.173758,
     "end_time": "2022-03-24T00:34:58.721860",
     "exception": false,
     "start_time": "2022-03-24T00:34:58.548102",
     "status": "completed"
    },
    "tags": []
   },
   "outputs": [
    {
     "name": "stdout",
     "output_type": "stream",
     "text": [
      "{'regression_metrics': {'mse': {'standard_deviation': 2.264447161196491,\n",
      "                                'value': 5.128643559680358}}}\n"
     ]
    }
   ],
   "source": [
    "from pprint import pprint\n",
    "\n",
    "\n",
    "evaluation_json = sagemaker.s3.S3Downloader.read_file(\n",
    "    \"{}/evaluation.json\".format(\n",
    "        step_eval.arguments[\"ProcessingOutputConfig\"][\"Outputs\"][0][\"S3Output\"][\"S3Uri\"]\n",
    "    )\n",
    ")\n",
    "pprint(json.loads(evaluation_json))"
   ]
  },
  {
   "cell_type": "markdown",
   "id": "e08c0375",
   "metadata": {
    "papermill": {
     "duration": 0.042749,
     "end_time": "2022-03-24T00:34:58.807605",
     "exception": false,
     "start_time": "2022-03-24T00:34:58.764856",
     "status": "completed"
    },
    "tags": []
   },
   "source": [
    "### Lineage\n",
    "\n",
    "Review the lineage of the artifacts generated by the pipeline."
   ]
  },
  {
   "cell_type": "code",
   "execution_count": 31,
   "id": "638d6e48",
   "metadata": {
    "execution": {
     "iopub.execute_input": "2022-03-24T00:34:58.897798Z",
     "iopub.status.busy": "2022-03-24T00:34:58.897292Z",
     "iopub.status.idle": "2022-03-24T00:35:35.501057Z",
     "shell.execute_reply": "2022-03-24T00:35:35.500610Z"
    },
    "papermill": {
     "duration": 36.650896,
     "end_time": "2022-03-24T00:35:35.501173",
     "exception": false,
     "start_time": "2022-03-24T00:34:58.850277",
     "status": "completed"
    },
    "tags": []
   },
   "outputs": [
    {
     "name": "stdout",
     "output_type": "stream",
     "text": [
      "{'StepName': 'AbaloneProcess', 'StartTime': datetime.datetime(2022, 3, 24, 0, 18, 25, 626000, tzinfo=tzlocal()), 'EndTime': datetime.datetime(2022, 3, 24, 0, 22, 43, 711000, tzinfo=tzlocal()), 'StepStatus': 'Succeeded', 'AttemptCount': 0, 'Metadata': {'ProcessingJob': {'Arn': 'arn:aws:sagemaker:us-west-2:000000000000:processing-job/pipelines-0cyyhdkip2vj-abaloneprocess-d5cws47qlq'}}}\n"
     ]
    },
    {
     "data": {
      "text/html": [
       "<div>\n",
       "<style scoped>\n",
       "    .dataframe tbody tr th:only-of-type {\n",
       "        vertical-align: middle;\n",
       "    }\n",
       "\n",
       "    .dataframe tbody tr th {\n",
       "        vertical-align: top;\n",
       "    }\n",
       "\n",
       "    .dataframe thead th {\n",
       "        text-align: right;\n",
       "    }\n",
       "</style>\n",
       "<table border=\"1\" class=\"dataframe\">\n",
       "  <thead>\n",
       "    <tr style=\"text-align: right;\">\n",
       "      <th></th>\n",
       "      <th>Name/Source</th>\n",
       "      <th>Direction</th>\n",
       "      <th>Type</th>\n",
       "      <th>Association Type</th>\n",
       "      <th>Lineage Type</th>\n",
       "    </tr>\n",
       "  </thead>\n",
       "  <tbody>\n",
       "    <tr>\n",
       "      <th>0</th>\n",
       "      <td>s3://...46b46607be87/input/code/preprocessing.py</td>\n",
       "      <td>Input</td>\n",
       "      <td>DataSet</td>\n",
       "      <td>ContributedTo</td>\n",
       "      <td>artifact</td>\n",
       "    </tr>\n",
       "    <tr>\n",
       "      <th>1</th>\n",
       "      <td>s3://...000000000000/abalone/abalone-dataset.csv</td>\n",
       "      <td>Input</td>\n",
       "      <td>DataSet</td>\n",
       "      <td>ContributedTo</td>\n",
       "      <td>artifact</td>\n",
       "    </tr>\n",
       "    <tr>\n",
       "      <th>2</th>\n",
       "      <td>24661...om/sagemaker-scikit-learn:0.23-1-cpu-py3</td>\n",
       "      <td>Input</td>\n",
       "      <td>Image</td>\n",
       "      <td>ContributedTo</td>\n",
       "      <td>artifact</td>\n",
       "    </tr>\n",
       "    <tr>\n",
       "      <th>3</th>\n",
       "      <td>s3://...493b4b79fe2e2f2146b46607be87/output/test</td>\n",
       "      <td>Output</td>\n",
       "      <td>DataSet</td>\n",
       "      <td>Produced</td>\n",
       "      <td>artifact</td>\n",
       "    </tr>\n",
       "    <tr>\n",
       "      <th>4</th>\n",
       "      <td>s3://...79fe2e2f2146b46607be87/output/validation</td>\n",
       "      <td>Output</td>\n",
       "      <td>DataSet</td>\n",
       "      <td>Produced</td>\n",
       "      <td>artifact</td>\n",
       "    </tr>\n",
       "    <tr>\n",
       "      <th>5</th>\n",
       "      <td>s3://...93b4b79fe2e2f2146b46607be87/output/train</td>\n",
       "      <td>Output</td>\n",
       "      <td>DataSet</td>\n",
       "      <td>Produced</td>\n",
       "      <td>artifact</td>\n",
       "    </tr>\n",
       "  </tbody>\n",
       "</table>\n",
       "</div>"
      ],
      "text/plain": [
       "                                        Name/Source Direction     Type  \\\n",
       "0  s3://...46b46607be87/input/code/preprocessing.py     Input  DataSet   \n",
       "1  s3://...000000000000/abalone/abalone-dataset.csv     Input  DataSet   \n",
       "2  24661...om/sagemaker-scikit-learn:0.23-1-cpu-py3     Input    Image   \n",
       "3  s3://...493b4b79fe2e2f2146b46607be87/output/test    Output  DataSet   \n",
       "4  s3://...79fe2e2f2146b46607be87/output/validation    Output  DataSet   \n",
       "5  s3://...93b4b79fe2e2f2146b46607be87/output/train    Output  DataSet   \n",
       "\n",
       "  Association Type Lineage Type  \n",
       "0    ContributedTo     artifact  \n",
       "1    ContributedTo     artifact  \n",
       "2    ContributedTo     artifact  \n",
       "3         Produced     artifact  \n",
       "4         Produced     artifact  \n",
       "5         Produced     artifact  "
      ]
     },
     "metadata": {},
     "output_type": "display_data"
    },
    {
     "name": "stdout",
     "output_type": "stream",
     "text": [
      "{'StepName': 'AbaloneTrain', 'StartTime': datetime.datetime(2022, 3, 24, 0, 22, 44, 500000, tzinfo=tzlocal()), 'EndTime': datetime.datetime(2022, 3, 24, 0, 25, 43, 720000, tzinfo=tzlocal()), 'StepStatus': 'Succeeded', 'AttemptCount': 0, 'Metadata': {'TrainingJob': {'Arn': 'arn:aws:sagemaker:us-west-2:000000000000:training-job/pipelines-0cyyhdkip2vj-abalonetrain-kzafaq0ntb'}}}\n"
     ]
    },
    {
     "data": {
      "text/html": [
       "<div>\n",
       "<style scoped>\n",
       "    .dataframe tbody tr th:only-of-type {\n",
       "        vertical-align: middle;\n",
       "    }\n",
       "\n",
       "    .dataframe tbody tr th {\n",
       "        vertical-align: top;\n",
       "    }\n",
       "\n",
       "    .dataframe thead th {\n",
       "        text-align: right;\n",
       "    }\n",
       "</style>\n",
       "<table border=\"1\" class=\"dataframe\">\n",
       "  <thead>\n",
       "    <tr style=\"text-align: right;\">\n",
       "      <th></th>\n",
       "      <th>Name/Source</th>\n",
       "      <th>Direction</th>\n",
       "      <th>Type</th>\n",
       "      <th>Association Type</th>\n",
       "      <th>Lineage Type</th>\n",
       "    </tr>\n",
       "  </thead>\n",
       "  <tbody>\n",
       "    <tr>\n",
       "      <th>0</th>\n",
       "      <td>s3://...79fe2e2f2146b46607be87/output/validation</td>\n",
       "      <td>Input</td>\n",
       "      <td>DataSet</td>\n",
       "      <td>ContributedTo</td>\n",
       "      <td>artifact</td>\n",
       "    </tr>\n",
       "    <tr>\n",
       "      <th>1</th>\n",
       "      <td>s3://...93b4b79fe2e2f2146b46607be87/output/train</td>\n",
       "      <td>Input</td>\n",
       "      <td>DataSet</td>\n",
       "      <td>ContributedTo</td>\n",
       "      <td>artifact</td>\n",
       "    </tr>\n",
       "    <tr>\n",
       "      <th>2</th>\n",
       "      <td>24661...naws.com/sagemaker-xgboost:1.0-1-cpu-py3</td>\n",
       "      <td>Input</td>\n",
       "      <td>Image</td>\n",
       "      <td>ContributedTo</td>\n",
       "      <td>artifact</td>\n",
       "    </tr>\n",
       "    <tr>\n",
       "      <th>3</th>\n",
       "      <td>s3://...loneTrain-KzaFAq0ntB/output/model.tar.gz</td>\n",
       "      <td>Output</td>\n",
       "      <td>Model</td>\n",
       "      <td>Produced</td>\n",
       "      <td>artifact</td>\n",
       "    </tr>\n",
       "  </tbody>\n",
       "</table>\n",
       "</div>"
      ],
      "text/plain": [
       "                                        Name/Source Direction     Type  \\\n",
       "0  s3://...79fe2e2f2146b46607be87/output/validation     Input  DataSet   \n",
       "1  s3://...93b4b79fe2e2f2146b46607be87/output/train     Input  DataSet   \n",
       "2  24661...naws.com/sagemaker-xgboost:1.0-1-cpu-py3     Input    Image   \n",
       "3  s3://...loneTrain-KzaFAq0ntB/output/model.tar.gz    Output    Model   \n",
       "\n",
       "  Association Type Lineage Type  \n",
       "0    ContributedTo     artifact  \n",
       "1    ContributedTo     artifact  \n",
       "2    ContributedTo     artifact  \n",
       "3         Produced     artifact  "
      ]
     },
     "metadata": {},
     "output_type": "display_data"
    },
    {
     "name": "stdout",
     "output_type": "stream",
     "text": [
      "{'StepName': 'AbaloneEval', 'StartTime': datetime.datetime(2022, 3, 24, 0, 25, 44, 388000, tzinfo=tzlocal()), 'EndTime': datetime.datetime(2022, 3, 24, 0, 29, 56, 234000, tzinfo=tzlocal()), 'StepStatus': 'Succeeded', 'AttemptCount': 0, 'Metadata': {'ProcessingJob': {'Arn': 'arn:aws:sagemaker:us-west-2:000000000000:processing-job/pipelines-0cyyhdkip2vj-abaloneeval-zawlm9mr0f'}}}\n"
     ]
    },
    {
     "data": {
      "text/html": [
       "<div>\n",
       "<style scoped>\n",
       "    .dataframe tbody tr th:only-of-type {\n",
       "        vertical-align: middle;\n",
       "    }\n",
       "\n",
       "    .dataframe tbody tr th {\n",
       "        vertical-align: top;\n",
       "    }\n",
       "\n",
       "    .dataframe thead th {\n",
       "        text-align: right;\n",
       "    }\n",
       "</style>\n",
       "<table border=\"1\" class=\"dataframe\">\n",
       "  <thead>\n",
       "    <tr style=\"text-align: right;\">\n",
       "      <th></th>\n",
       "      <th>Name/Source</th>\n",
       "      <th>Direction</th>\n",
       "      <th>Type</th>\n",
       "      <th>Association Type</th>\n",
       "      <th>Lineage Type</th>\n",
       "    </tr>\n",
       "  </thead>\n",
       "  <tbody>\n",
       "    <tr>\n",
       "      <th>0</th>\n",
       "      <td>s3://...394e09ce2edc51e/input/code/evaluation.py</td>\n",
       "      <td>Input</td>\n",
       "      <td>DataSet</td>\n",
       "      <td>ContributedTo</td>\n",
       "      <td>artifact</td>\n",
       "    </tr>\n",
       "    <tr>\n",
       "      <th>1</th>\n",
       "      <td>s3://...493b4b79fe2e2f2146b46607be87/output/test</td>\n",
       "      <td>Input</td>\n",
       "      <td>DataSet</td>\n",
       "      <td>ContributedTo</td>\n",
       "      <td>artifact</td>\n",
       "    </tr>\n",
       "    <tr>\n",
       "      <th>2</th>\n",
       "      <td>s3://...loneTrain-KzaFAq0ntB/output/model.tar.gz</td>\n",
       "      <td>Input</td>\n",
       "      <td>Model</td>\n",
       "      <td>ContributedTo</td>\n",
       "      <td>artifact</td>\n",
       "    </tr>\n",
       "    <tr>\n",
       "      <th>3</th>\n",
       "      <td>24661...naws.com/sagemaker-xgboost:1.0-1-cpu-py3</td>\n",
       "      <td>Input</td>\n",
       "      <td>Image</td>\n",
       "      <td>ContributedTo</td>\n",
       "      <td>artifact</td>\n",
       "    </tr>\n",
       "    <tr>\n",
       "      <th>4</th>\n",
       "      <td>s3://...3b74404394e09ce2edc51e/output/evaluation</td>\n",
       "      <td>Output</td>\n",
       "      <td>DataSet</td>\n",
       "      <td>Produced</td>\n",
       "      <td>artifact</td>\n",
       "    </tr>\n",
       "  </tbody>\n",
       "</table>\n",
       "</div>"
      ],
      "text/plain": [
       "                                        Name/Source Direction     Type  \\\n",
       "0  s3://...394e09ce2edc51e/input/code/evaluation.py     Input  DataSet   \n",
       "1  s3://...493b4b79fe2e2f2146b46607be87/output/test     Input  DataSet   \n",
       "2  s3://...loneTrain-KzaFAq0ntB/output/model.tar.gz     Input    Model   \n",
       "3  24661...naws.com/sagemaker-xgboost:1.0-1-cpu-py3     Input    Image   \n",
       "4  s3://...3b74404394e09ce2edc51e/output/evaluation    Output  DataSet   \n",
       "\n",
       "  Association Type Lineage Type  \n",
       "0    ContributedTo     artifact  \n",
       "1    ContributedTo     artifact  \n",
       "2    ContributedTo     artifact  \n",
       "3    ContributedTo     artifact  \n",
       "4         Produced     artifact  "
      ]
     },
     "metadata": {},
     "output_type": "display_data"
    },
    {
     "name": "stdout",
     "output_type": "stream",
     "text": [
      "{'StepName': 'AbaloneMSECond', 'StartTime': datetime.datetime(2022, 3, 24, 0, 29, 57, 564000, tzinfo=tzlocal()), 'EndTime': datetime.datetime(2022, 3, 24, 0, 29, 58, 113000, tzinfo=tzlocal()), 'StepStatus': 'Succeeded', 'AttemptCount': 0, 'Metadata': {'Condition': {'Outcome': 'True'}}}\n"
     ]
    },
    {
     "data": {
      "text/plain": [
       "None"
      ]
     },
     "metadata": {},
     "output_type": "display_data"
    },
    {
     "name": "stdout",
     "output_type": "stream",
     "text": [
      "{'StepName': 'AbaloneRegisterModel', 'StartTime': datetime.datetime(2022, 3, 24, 0, 29, 59, 62000, tzinfo=tzlocal()), 'EndTime': datetime.datetime(2022, 3, 24, 0, 30, 0, 146000, tzinfo=tzlocal()), 'StepStatus': 'Succeeded', 'AttemptCount': 0, 'Metadata': {'RegisterModel': {'Arn': 'arn:aws:sagemaker:us-west-2:000000000000:model-package/abalonemodelpackagegroupname/629'}}}\n"
     ]
    },
    {
     "data": {
      "text/html": [
       "<div>\n",
       "<style scoped>\n",
       "    .dataframe tbody tr th:only-of-type {\n",
       "        vertical-align: middle;\n",
       "    }\n",
       "\n",
       "    .dataframe tbody tr th {\n",
       "        vertical-align: top;\n",
       "    }\n",
       "\n",
       "    .dataframe thead th {\n",
       "        text-align: right;\n",
       "    }\n",
       "</style>\n",
       "<table border=\"1\" class=\"dataframe\">\n",
       "  <thead>\n",
       "    <tr style=\"text-align: right;\">\n",
       "      <th></th>\n",
       "      <th>Name/Source</th>\n",
       "      <th>Direction</th>\n",
       "      <th>Type</th>\n",
       "      <th>Association Type</th>\n",
       "      <th>Lineage Type</th>\n",
       "    </tr>\n",
       "  </thead>\n",
       "  <tbody>\n",
       "    <tr>\n",
       "      <th>0</th>\n",
       "      <td>s3://...loneTrain-KzaFAq0ntB/output/model.tar.gz</td>\n",
       "      <td>Input</td>\n",
       "      <td>Model</td>\n",
       "      <td>ContributedTo</td>\n",
       "      <td>artifact</td>\n",
       "    </tr>\n",
       "    <tr>\n",
       "      <th>1</th>\n",
       "      <td>24661...naws.com/sagemaker-xgboost:1.0-1-cpu-py3</td>\n",
       "      <td>Input</td>\n",
       "      <td>Image</td>\n",
       "      <td>ContributedTo</td>\n",
       "      <td>artifact</td>\n",
       "    </tr>\n",
       "    <tr>\n",
       "      <th>2</th>\n",
       "      <td>abalonemodelpackagegroupname-629-PendingManual...</td>\n",
       "      <td>Input</td>\n",
       "      <td>Approval</td>\n",
       "      <td>ContributedTo</td>\n",
       "      <td>action</td>\n",
       "    </tr>\n",
       "    <tr>\n",
       "      <th>3</th>\n",
       "      <td>AbaloneModelPackageGroupName-1607556271-aws-mo...</td>\n",
       "      <td>Output</td>\n",
       "      <td>ModelGroup</td>\n",
       "      <td>AssociatedWith</td>\n",
       "      <td>context</td>\n",
       "    </tr>\n",
       "  </tbody>\n",
       "</table>\n",
       "</div>"
      ],
      "text/plain": [
       "                                         Name/Source Direction        Type  \\\n",
       "0   s3://...loneTrain-KzaFAq0ntB/output/model.tar.gz     Input       Model   \n",
       "1   24661...naws.com/sagemaker-xgboost:1.0-1-cpu-py3     Input       Image   \n",
       "2  abalonemodelpackagegroupname-629-PendingManual...     Input    Approval   \n",
       "3  AbaloneModelPackageGroupName-1607556271-aws-mo...    Output  ModelGroup   \n",
       "\n",
       "  Association Type Lineage Type  \n",
       "0    ContributedTo     artifact  \n",
       "1    ContributedTo     artifact  \n",
       "2    ContributedTo       action  \n",
       "3   AssociatedWith      context  "
      ]
     },
     "metadata": {},
     "output_type": "display_data"
    },
    {
     "name": "stdout",
     "output_type": "stream",
     "text": [
      "{'StepName': 'AbaloneCreateModel', 'StartTime': datetime.datetime(2022, 3, 24, 0, 29, 59, 62000, tzinfo=tzlocal()), 'EndTime': datetime.datetime(2022, 3, 24, 0, 30, 0, 465000, tzinfo=tzlocal()), 'StepStatus': 'Succeeded', 'AttemptCount': 0, 'Metadata': {'Model': {'Arn': 'arn:aws:sagemaker:us-west-2:000000000000:model/pipelines-0cyyhdkip2vj-abalonecreatemodel-zy7fna7vqk'}}}\n"
     ]
    },
    {
     "data": {
      "text/plain": [
       "None"
      ]
     },
     "metadata": {},
     "output_type": "display_data"
    },
    {
     "name": "stdout",
     "output_type": "stream",
     "text": [
      "{'StepName': 'AbaloneTransform', 'StartTime': datetime.datetime(2022, 3, 24, 0, 30, 0, 808000, tzinfo=tzlocal()), 'EndTime': datetime.datetime(2022, 3, 24, 0, 34, 30, 324000, tzinfo=tzlocal()), 'StepStatus': 'Succeeded', 'AttemptCount': 0, 'Metadata': {'TransformJob': {'Arn': 'arn:aws:sagemaker:us-west-2:000000000000:transform-job/pipelines-0cyyhdkip2vj-abalonetransform-fb6iqoonzq'}}}\n"
     ]
    },
    {
     "data": {
      "text/html": [
       "<div>\n",
       "<style scoped>\n",
       "    .dataframe tbody tr th:only-of-type {\n",
       "        vertical-align: middle;\n",
       "    }\n",
       "\n",
       "    .dataframe tbody tr th {\n",
       "        vertical-align: top;\n",
       "    }\n",
       "\n",
       "    .dataframe thead th {\n",
       "        text-align: right;\n",
       "    }\n",
       "</style>\n",
       "<table border=\"1\" class=\"dataframe\">\n",
       "  <thead>\n",
       "    <tr style=\"text-align: right;\">\n",
       "      <th></th>\n",
       "      <th>Name/Source</th>\n",
       "      <th>Direction</th>\n",
       "      <th>Type</th>\n",
       "      <th>Association Type</th>\n",
       "      <th>Lineage Type</th>\n",
       "    </tr>\n",
       "  </thead>\n",
       "  <tbody>\n",
       "    <tr>\n",
       "      <th>0</th>\n",
       "      <td>s3://...loneTrain-KzaFAq0ntB/output/model.tar.gz</td>\n",
       "      <td>Input</td>\n",
       "      <td>Model</td>\n",
       "      <td>ContributedTo</td>\n",
       "      <td>artifact</td>\n",
       "    </tr>\n",
       "    <tr>\n",
       "      <th>1</th>\n",
       "      <td>24661...naws.com/sagemaker-xgboost:1.0-1-cpu-py3</td>\n",
       "      <td>Input</td>\n",
       "      <td>Image</td>\n",
       "      <td>ContributedTo</td>\n",
       "      <td>artifact</td>\n",
       "    </tr>\n",
       "    <tr>\n",
       "      <th>2</th>\n",
       "      <td>s3://...1695447989/abalone/abalone-dataset-batch</td>\n",
       "      <td>Input</td>\n",
       "      <td>DataSet</td>\n",
       "      <td>ContributedTo</td>\n",
       "      <td>artifact</td>\n",
       "    </tr>\n",
       "    <tr>\n",
       "      <th>3</th>\n",
       "      <td>s3://...-us-west-2-000000000000/AbaloneTransform</td>\n",
       "      <td>Output</td>\n",
       "      <td>DataSet</td>\n",
       "      <td>Produced</td>\n",
       "      <td>artifact</td>\n",
       "    </tr>\n",
       "  </tbody>\n",
       "</table>\n",
       "</div>"
      ],
      "text/plain": [
       "                                        Name/Source Direction     Type  \\\n",
       "0  s3://...loneTrain-KzaFAq0ntB/output/model.tar.gz     Input    Model   \n",
       "1  24661...naws.com/sagemaker-xgboost:1.0-1-cpu-py3     Input    Image   \n",
       "2  s3://...1695447989/abalone/abalone-dataset-batch     Input  DataSet   \n",
       "3  s3://...-us-west-2-000000000000/AbaloneTransform    Output  DataSet   \n",
       "\n",
       "  Association Type Lineage Type  \n",
       "0    ContributedTo     artifact  \n",
       "1    ContributedTo     artifact  \n",
       "2    ContributedTo     artifact  \n",
       "3         Produced     artifact  "
      ]
     },
     "metadata": {},
     "output_type": "display_data"
    }
   ],
   "source": [
    "import time\n",
    "from sagemaker.lineage.visualizer import LineageTableVisualizer\n",
    "\n",
    "\n",
    "viz = LineageTableVisualizer(sagemaker.session.Session())\n",
    "for execution_step in reversed(execution.list_steps()):\n",
    "    print(execution_step)\n",
    "    display(viz.show(pipeline_execution_step=execution_step))\n",
    "    time.sleep(5)"
   ]
  },
  {
   "cell_type": "markdown",
   "id": "aab6a1a8",
   "metadata": {
    "papermill": {
     "duration": 0.046824,
     "end_time": "2022-03-24T00:35:35.595229",
     "exception": false,
     "start_time": "2022-03-24T00:35:35.548405",
     "status": "completed"
    },
    "tags": []
   },
   "source": [
    "### Parametrized Executions\n",
    "\n",
    "You can run additional executions of the pipeline and specify different pipeline parameters. The `parameters` argument is a dictionary containing parameter names, and where the values are used to override the defaults values.\n",
    "\n",
    "Based on the performance of the model, you might want to kick off another pipeline execution on a compute-optimized instance type and set the model approval status to \"Approved\" automatically. This means that the model package version generated by the `RegisterModel` step is automatically ready for deployment through CI/CD pipelines, such as with SageMaker Projects."
   ]
  },
  {
   "cell_type": "code",
   "execution_count": 32,
   "id": "79691bac",
   "metadata": {
    "execution": {
     "iopub.execute_input": "2022-03-24T00:35:35.694267Z",
     "iopub.status.busy": "2022-03-24T00:35:35.693763Z",
     "iopub.status.idle": "2022-03-24T00:35:35.926409Z",
     "shell.execute_reply": "2022-03-24T00:35:35.926829Z"
    },
    "papermill": {
     "duration": 0.284833,
     "end_time": "2022-03-24T00:35:35.926972",
     "exception": false,
     "start_time": "2022-03-24T00:35:35.642139",
     "status": "completed"
    },
    "tags": []
   },
   "outputs": [],
   "source": [
    "execution = pipeline.start(\n",
    "    parameters=dict(\n",
    "        ProcessingInstanceType=\"ml.c5.xlarge\",\n",
    "        ModelApprovalStatus=\"Approved\",\n",
    "    )\n",
    ")"
   ]
  },
  {
   "cell_type": "code",
   "execution_count": 33,
   "id": "bd9b7ac4",
   "metadata": {
    "execution": {
     "iopub.execute_input": "2022-03-24T00:35:36.026080Z",
     "iopub.status.busy": "2022-03-24T00:35:36.025544Z",
     "iopub.status.idle": "2022-03-24T00:52:09.063587Z",
     "shell.execute_reply": "2022-03-24T00:52:09.063988Z"
    },
    "papermill": {
     "duration": 993.090045,
     "end_time": "2022-03-24T00:52:09.064170",
     "exception": false,
     "start_time": "2022-03-24T00:35:35.974125",
     "status": "completed"
    },
    "tags": []
   },
   "outputs": [],
   "source": [
    "execution.wait()"
   ]
  },
  {
   "cell_type": "code",
   "execution_count": 34,
   "id": "a1c9bfab",
   "metadata": {
    "execution": {
     "iopub.execute_input": "2022-03-24T00:52:09.164334Z",
     "iopub.status.busy": "2022-03-24T00:52:09.163742Z",
     "iopub.status.idle": "2022-03-24T00:52:09.236714Z",
     "shell.execute_reply": "2022-03-24T00:52:09.237087Z"
    },
    "papermill": {
     "duration": 0.125202,
     "end_time": "2022-03-24T00:52:09.237227",
     "exception": false,
     "start_time": "2022-03-24T00:52:09.112025",
     "status": "completed"
    },
    "tags": []
   },
   "outputs": [
    {
     "data": {
      "text/plain": [
       "[{'StepName': 'AbaloneTransform',\n",
       "  'StartTime': datetime.datetime(2022, 3, 24, 0, 47, 13, 963000, tzinfo=tzlocal()),\n",
       "  'EndTime': datetime.datetime(2022, 3, 24, 0, 51, 51, 924000, tzinfo=tzlocal()),\n",
       "  'StepStatus': 'Succeeded',\n",
       "  'AttemptCount': 0,\n",
       "  'Metadata': {'TransformJob': {'Arn': 'arn:aws:sagemaker:us-west-2:000000000000:transform-job/pipelines-1y6wtq7bg7fx-abalonetransform-giutncmxba'}}},\n",
       " {'StepName': 'AbaloneCreateModel',\n",
       "  'StartTime': datetime.datetime(2022, 3, 24, 0, 47, 12, 690000, tzinfo=tzlocal()),\n",
       "  'EndTime': datetime.datetime(2022, 3, 24, 0, 47, 13, 475000, tzinfo=tzlocal()),\n",
       "  'StepStatus': 'Succeeded',\n",
       "  'AttemptCount': 0,\n",
       "  'Metadata': {'Model': {'Arn': 'arn:aws:sagemaker:us-west-2:000000000000:model/pipelines-1y6wtq7bg7fx-abalonecreatemodel-sc1vnufxkk'}}},\n",
       " {'StepName': 'AbaloneRegisterModel',\n",
       "  'StartTime': datetime.datetime(2022, 3, 24, 0, 47, 12, 690000, tzinfo=tzlocal()),\n",
       "  'EndTime': datetime.datetime(2022, 3, 24, 0, 47, 13, 338000, tzinfo=tzlocal()),\n",
       "  'StepStatus': 'Succeeded',\n",
       "  'AttemptCount': 0,\n",
       "  'Metadata': {'RegisterModel': {'Arn': 'arn:aws:sagemaker:us-west-2:000000000000:model-package/abalonemodelpackagegroupname/630'}}},\n",
       " {'StepName': 'AbaloneMSECond',\n",
       "  'StartTime': datetime.datetime(2022, 3, 24, 0, 47, 11, 751000, tzinfo=tzlocal()),\n",
       "  'EndTime': datetime.datetime(2022, 3, 24, 0, 47, 12, 217000, tzinfo=tzlocal()),\n",
       "  'StepStatus': 'Succeeded',\n",
       "  'AttemptCount': 0,\n",
       "  'Metadata': {'Condition': {'Outcome': 'True'}}},\n",
       " {'StepName': 'AbaloneEval',\n",
       "  'StartTime': datetime.datetime(2022, 3, 24, 0, 43, 4, 562000, tzinfo=tzlocal()),\n",
       "  'EndTime': datetime.datetime(2022, 3, 24, 0, 47, 10, 967000, tzinfo=tzlocal()),\n",
       "  'StepStatus': 'Succeeded',\n",
       "  'AttemptCount': 0,\n",
       "  'Metadata': {'ProcessingJob': {'Arn': 'arn:aws:sagemaker:us-west-2:000000000000:processing-job/pipelines-1y6wtq7bg7fx-abaloneeval-u9jqlodxaz'}}},\n",
       " {'StepName': 'AbaloneTrain',\n",
       "  'StartTime': datetime.datetime(2022, 3, 24, 0, 40, 6, 980000, tzinfo=tzlocal()),\n",
       "  'EndTime': datetime.datetime(2022, 3, 24, 0, 43, 4, 54000, tzinfo=tzlocal()),\n",
       "  'StepStatus': 'Succeeded',\n",
       "  'AttemptCount': 0,\n",
       "  'Metadata': {'TrainingJob': {'Arn': 'arn:aws:sagemaker:us-west-2:000000000000:training-job/pipelines-1y6wtq7bg7fx-abalonetrain-kag1p1donn'}}},\n",
       " {'StepName': 'AbaloneProcess',\n",
       "  'StartTime': datetime.datetime(2022, 3, 24, 0, 35, 36, 530000, tzinfo=tzlocal()),\n",
       "  'EndTime': datetime.datetime(2022, 3, 24, 0, 40, 5, 771000, tzinfo=tzlocal()),\n",
       "  'StepStatus': 'Succeeded',\n",
       "  'AttemptCount': 0,\n",
       "  'Metadata': {'ProcessingJob': {'Arn': 'arn:aws:sagemaker:us-west-2:000000000000:processing-job/pipelines-1y6wtq7bg7fx-abaloneprocess-r0xccutb3k'}}}]"
      ]
     },
     "execution_count": 34,
     "metadata": {},
     "output_type": "execute_result"
    }
   ],
   "source": [
    "execution.list_steps()"
   ]
  },
  {
   "cell_type": "markdown",
   "id": "45654208",
   "metadata": {
    "papermill": {
     "duration": 0.048428,
     "end_time": "2022-03-24T00:52:09.333626",
     "exception": false,
     "start_time": "2022-03-24T00:52:09.285198",
     "status": "completed"
    },
    "tags": []
   },
   "source": [
    "Apart from that, you might also want to adjust the MSE threshold to a smaller value and raise the bar for the accuracy of the registered model. In this case you can override the MSE threshold like the following:"
   ]
  },
  {
   "cell_type": "code",
   "execution_count": 35,
   "id": "d4d3f8b0",
   "metadata": {
    "collapsed": false,
    "execution": {
     "iopub.execute_input": "2022-03-24T00:52:09.433857Z",
     "iopub.status.busy": "2022-03-24T00:52:09.433322Z",
     "iopub.status.idle": "2022-03-24T00:52:09.796092Z",
     "shell.execute_reply": "2022-03-24T00:52:09.796499Z"
    },
    "jupyter": {
     "outputs_hidden": false
    },
    "papermill": {
     "duration": 0.415456,
     "end_time": "2022-03-24T00:52:09.796662",
     "exception": false,
     "start_time": "2022-03-24T00:52:09.381206",
     "status": "completed"
    },
    "pycharm": {
     "name": "#%%\n"
    },
    "tags": []
   },
   "outputs": [],
   "source": [
    "execution = pipeline.start(parameters=dict(MseThreshold=3.0))"
   ]
  },
  {
   "cell_type": "markdown",
   "id": "0316d294",
   "metadata": {
    "papermill": {
     "duration": 0.047999,
     "end_time": "2022-03-24T00:52:09.892827",
     "exception": false,
     "start_time": "2022-03-24T00:52:09.844828",
     "status": "completed"
    },
    "tags": []
   },
   "source": [
    "If the MSE threshold is not satisfied, the pipeline execution will enter the `FailStep` and be marked as failed."
   ]
  },
  {
   "cell_type": "code",
   "execution_count": 36,
   "id": "1eb17e37",
   "metadata": {
    "collapsed": false,
    "execution": {
     "iopub.execute_input": "2022-03-24T00:52:09.994362Z",
     "iopub.status.busy": "2022-03-24T00:52:09.993812Z",
     "iopub.status.idle": "2022-03-24T01:04:12.406069Z",
     "shell.execute_reply": "2022-03-24T01:04:12.406449Z"
    },
    "jupyter": {
     "outputs_hidden": false
    },
    "papermill": {
     "duration": 722.465698,
     "end_time": "2022-03-24T01:04:12.406582",
     "exception": false,
     "start_time": "2022-03-24T00:52:09.940884",
     "status": "completed"
    },
    "pycharm": {
     "name": "#%%\n"
    },
    "tags": []
   },
   "outputs": [
    {
     "name": "stdout",
     "output_type": "stream",
     "text": [
      "Waiter PipelineExecutionComplete failed: Waiter encountered a terminal failure state: For expression \"PipelineExecutionStatus\" we matched expected path: \"Failed\"\n"
     ]
    }
   ],
   "source": [
    "try:\n",
    "    execution.wait()\n",
    "except Exception as error:\n",
    "    print(error)"
   ]
  },
  {
   "cell_type": "code",
   "execution_count": 37,
   "id": "d04e67a8",
   "metadata": {
    "collapsed": false,
    "execution": {
     "iopub.execute_input": "2022-03-24T01:04:12.506022Z",
     "iopub.status.busy": "2022-03-24T01:04:12.505551Z",
     "iopub.status.idle": "2022-03-24T01:04:12.563495Z",
     "shell.execute_reply": "2022-03-24T01:04:12.563093Z"
    },
    "jupyter": {
     "outputs_hidden": false
    },
    "papermill": {
     "duration": 0.109443,
     "end_time": "2022-03-24T01:04:12.563601",
     "exception": false,
     "start_time": "2022-03-24T01:04:12.454158",
     "status": "completed"
    },
    "pycharm": {
     "name": "#%%\n"
    },
    "tags": []
   },
   "outputs": [
    {
     "data": {
      "text/plain": [
       "[{'StepName': 'AbaloneMSEFail',\n",
       "  'StartTime': datetime.datetime(2022, 3, 24, 1, 3, 45, 348000, tzinfo=tzlocal()),\n",
       "  'EndTime': datetime.datetime(2022, 3, 24, 1, 3, 45, 687000, tzinfo=tzlocal()),\n",
       "  'StepStatus': 'Failed',\n",
       "  'AttemptCount': 0,\n",
       "  'FailureReason': 'Execution failed due to MSE > 3.0',\n",
       "  'Metadata': {'Fail': {'ErrorMessage': 'Execution failed due to MSE > 3.0'}}},\n",
       " {'StepName': 'AbaloneMSECond',\n",
       "  'StartTime': datetime.datetime(2022, 3, 24, 1, 3, 43, 646000, tzinfo=tzlocal()),\n",
       "  'EndTime': datetime.datetime(2022, 3, 24, 1, 3, 44, 411000, tzinfo=tzlocal()),\n",
       "  'StepStatus': 'Succeeded',\n",
       "  'AttemptCount': 0,\n",
       "  'Metadata': {'Condition': {'Outcome': 'False'}}},\n",
       " {'StepName': 'AbaloneEval',\n",
       "  'StartTime': datetime.datetime(2022, 3, 24, 0, 59, 41, 76000, tzinfo=tzlocal()),\n",
       "  'EndTime': datetime.datetime(2022, 3, 24, 1, 3, 43, 51000, tzinfo=tzlocal()),\n",
       "  'StepStatus': 'Succeeded',\n",
       "  'AttemptCount': 0,\n",
       "  'Metadata': {'ProcessingJob': {'Arn': 'arn:aws:sagemaker:us-west-2:000000000000:processing-job/pipelines-eg58gm8ii8is-abaloneeval-n1fu6oe0nj'}}},\n",
       " {'StepName': 'AbaloneTrain',\n",
       "  'StartTime': datetime.datetime(2022, 3, 24, 0, 56, 32, 418000, tzinfo=tzlocal()),\n",
       "  'EndTime': datetime.datetime(2022, 3, 24, 0, 59, 40, 381000, tzinfo=tzlocal()),\n",
       "  'StepStatus': 'Succeeded',\n",
       "  'AttemptCount': 0,\n",
       "  'Metadata': {'TrainingJob': {'Arn': 'arn:aws:sagemaker:us-west-2:000000000000:training-job/pipelines-eg58gm8ii8is-abalonetrain-zaw8isdwf5'}}},\n",
       " {'StepName': 'AbaloneProcess',\n",
       "  'StartTime': datetime.datetime(2022, 3, 24, 0, 52, 11, 161000, tzinfo=tzlocal()),\n",
       "  'EndTime': datetime.datetime(2022, 3, 24, 0, 56, 31, 774000, tzinfo=tzlocal()),\n",
       "  'StepStatus': 'Succeeded',\n",
       "  'AttemptCount': 0,\n",
       "  'Metadata': {'ProcessingJob': {'Arn': 'arn:aws:sagemaker:us-west-2:000000000000:processing-job/pipelines-eg58gm8ii8is-abaloneprocess-bs3p3pf2uu'}}}]"
      ]
     },
     "execution_count": 37,
     "metadata": {},
     "output_type": "execute_result"
    }
   ],
   "source": [
    "execution.list_steps()"
   ]
  }
 ],
 "metadata": {
  "instance_type": "ml.t3.medium",
  "kernelspec": {
   "display_name": "Python 3 (Data Science)",
   "language": "python",
   "name": "python3__SAGEMAKER_INTERNAL__arn:aws:sagemaker:us-east-2:000000000000:image/datascience-1.0"
  },
  "language_info": {
   "codemirror_mode": {
    "name": "ipython",
    "version": 3
   },
   "file_extension": ".py",
   "mimetype": "text/x-python",
   "name": "python",
   "nbconvert_exporter": "python",
   "pygments_lexer": "ipython3",
   "version": "3.7.10"
  },
  "papermill": {
   "default_parameters": {},
   "duration": 2764.586577,
   "end_time": "2022-03-24T01:04:13.131218",
   "environment_variables": {},
   "exception": null,
   "input_path": "sagemaker-pipelines-preprocess-train-evaluate-batch-transform.ipynb",
   "output_path": "/opt/ml/processing/output/sagemaker-pipelines-preprocess-train-evaluate-batch-transform-2022-03-24-00-13-08.ipynb",
   "parameters": {
    "kms_key": "arn:aws:kms:us-west-2:000000000000:1234abcd-12ab-34cd-56ef-1234567890ab"
   },
   "start_time": "2022-03-24T00:18:08.544641",
   "version": "2.3.4"
  }
 },
 "nbformat": 4,
 "nbformat_minor": 5
}