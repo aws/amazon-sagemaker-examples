{
 "cells": [
  {
   "cell_type": "markdown",
   "metadata": {},
   "source": [
    "# Computer Vision for Medical Imaging: Part 2. Model Lineage and Model Registry\n",
    "This notebook is part 2 of a 4-part series of techniques and services offer by SageMaker to build a model which predicts if an image of cells contains cancer. This notebook gives an overview of how to track model lineage, how to create a model registry, and how to store models into the registry."
   ]
  },
  {
   "cell_type": "markdown",
   "metadata": {},
   "source": [
    "## Dataset\n",
    "The dataset for this demo comes from the [Camelyon16 Challenge](https://camelyon16.grand-challenge.org/) made available under the CC0 licencse. The raw data provided by the challenge has been processed into 96x96 pixel tiles by [Bas Veeling](https://github.com/basveeling/pcam) and also made available under the CC0 license. For detailed information on each dataset please see the papers below:\n",
    "* Ehteshami Bejnordi et al. Diagnostic Assessment of Deep Learning Algorithms for Detection of Lymph Node Metastases in Women With Breast Cancer. JAMA: The Journal of the American Medical Association, 318(22), 2199–2210. [doi:jama.2017.14585](https://doi.org/10.1001/jama.2017.14585)\n",
    "* B. S. Veeling, J. Linmans, J. Winkens, T. Cohen, M. Welling. \"Rotation Equivariant CNNs for Digital Pathology\". [arXiv:1806.03962](http://arxiv.org/abs/1806.03962)\n",
    "\n",
    "The tiled dataset from Bas Veeling is over 6GB of data. In order to easily run this demo, the dataset has been pruned to the first 14,000 images of the tiled dataset and comes included in the repo with this notebook for convenience."
   ]
  },
  {
   "cell_type": "markdown",
   "metadata": {},
   "source": [
    "## Update Sagemaker SDK and Boto3\n",
    "\n",
    "<div class=\"alert alert-warning\">\n",
    "<b>NOTE</b> You may get an error from pip's dependency resolver; you can ignore this error.\n",
    "</div>"
   ]
  },
  {
   "cell_type": "code",
   "execution_count": null,
   "metadata": {},
   "outputs": [],
   "source": [
    "%store -r\n",
    "%store"
   ]
  },
  {
   "cell_type": "markdown",
   "metadata": {},
   "source": [
    "## Import Libraries"
   ]
  },
  {
   "cell_type": "code",
   "execution_count": null,
   "metadata": {},
   "outputs": [],
   "source": [
    "import boto3\n",
    "import sagemaker\n",
    "import numpy as np\n",
    "import cv2\n",
    "\n",
    "from inference_specification import InferenceSpecification"
   ]
  },
  {
   "cell_type": "markdown",
   "metadata": {},
   "source": [
    "## Configure Boto3 Clients and Sessions"
   ]
  },
  {
   "cell_type": "code",
   "execution_count": null,
   "metadata": {},
   "outputs": [],
   "source": [
    "region = \"us-west-2\" # Change region as needed\n",
    "boto3.setup_default_session(region_name=region)\n",
    "boto_session = boto3.Session(region_name=region)\n",
    "\n",
    "s3_client = boto3.client('s3', region_name=region)\n",
    "\n",
    "sagemaker_boto_client = boto_session.client('sagemaker')\n",
    "sagemaker_session = sagemaker.session.Session(\n",
    "    boto_session=boto_session,\n",
    "    sagemaker_client=sagemaker_boto_client)\n",
    "sagemaker_role = sagemaker.get_execution_role()\n",
    "\n",
    "bucket = sagemaker.Session().default_bucket()"
   ]
  },
  {
   "cell_type": "markdown",
   "metadata": {},
   "source": [
    "## Examine Lineage\n",
    "Though you already know the training job details from the previous notebook, if we were just given the model uri, we could use SageMaker Lineage to retrieve the training job details which produced the model."
   ]
  },
  {
   "cell_type": "markdown",
   "metadata": {},
   "source": [
    "### Data Lineage and Metrics for Best Model"
   ]
  },
  {
   "cell_type": "code",
   "execution_count": null,
   "metadata": {},
   "outputs": [],
   "source": [
    "from sagemaker.lineage import context, artifact, association, action"
   ]
  },
  {
   "cell_type": "markdown",
   "metadata": {},
   "source": [
    "### Training data artifact"
   ]
  },
  {
   "cell_type": "code",
   "execution_count": null,
   "metadata": {},
   "outputs": [],
   "source": [
    "results = sagemaker.analytics.HyperparameterTuningJobAnalytics(tuning_job_name)\n",
    "results_df = results.dataframe()\n",
    "best_training_job_summary = results.description()['BestTrainingJob']\n",
    "best_training_job_details = sagemaker_boto_client.describe_training_job(TrainingJobName=best_training_job_name)"
   ]
  },
  {
   "cell_type": "code",
   "execution_count": null,
   "metadata": {},
   "outputs": [],
   "source": [
    "data_artifact_list = []\n",
    "for data_input in best_training_job_details['InputDataConfig']:\n",
    "    channel = data_input['ChannelName']\n",
    "    data_s3_uri = data_input['DataSource']['S3DataSource']['S3Uri']\n",
    "   \n",
    "    matching_artifacts = list(artifact.Artifact.list(\n",
    "        source_uri=data_s3_uri,\n",
    "        sagemaker_session=sagemaker_session)\n",
    "    )\n",
    "    \n",
    "    if matching_artifacts:\n",
    "        data_artifact = matching_artifacts[0]\n",
    "        print(f'Using existing artifact: {data_artifact.artifact_arn}')\n",
    "    else:\n",
    "        data_artifact = artifact.Artifact.create(\n",
    "            artifact_name=channel,\n",
    "            source_uri=data_s3_uri,\n",
    "            artifact_type='DataSet',\n",
    "            sagemaker_session=sagemaker_session)\n",
    "        print(f'Create artifact {data_artifact.artifact_arn}: SUCCESSFUL')\n",
    "    data_artifact_list.append(data_artifact)"
   ]
  },
  {
   "cell_type": "markdown",
   "metadata": {},
   "source": [
    "### Model artifact"
   ]
  },
  {
   "cell_type": "code",
   "execution_count": null,
   "metadata": {},
   "outputs": [],
   "source": [
    "trained_model_s3_uri = best_training_job_details['ModelArtifacts']['S3ModelArtifacts']\n",
    "\n",
    "matching_artifacts = list(artifact.Artifact.list(\n",
    "    source_uri=trained_model_s3_uri,\n",
    "    sagemaker_session=sagemaker_session)\n",
    ")\n",
    "\n",
    "if matching_artifacts:\n",
    "    model_artifact = matching_artifacts[0]\n",
    "    print(f'Using existing artifact: {model_artifact.artifact_arn}')\n",
    "else:\n",
    "    model_artifact = artifact.Artifact.create(\n",
    "        artifact_name='TrainedModel',\n",
    "        source_uri=trained_model_s3_uri,\n",
    "        artifact_type='Model',\n",
    "        sagemaker_session=sagemaker_session)\n",
    "    print(f'Create artifact {model_artifact.artifact_arn}: SUCCESSFUL')"
   ]
  },
  {
   "cell_type": "markdown",
   "metadata": {},
   "source": [
    "#### Set artifact associations"
   ]
  },
  {
   "cell_type": "code",
   "execution_count": null,
   "metadata": {},
   "outputs": [],
   "source": [
    "trial_component = sagemaker_boto_client.describe_trial_component(TrialComponentName=best_training_job_summary['TrainingJobName']+'-aws-training-job')\n",
    "trial_component_arn = trial_component['TrialComponentArn']"
   ]
  },
  {
   "cell_type": "markdown",
   "metadata": {},
   "source": [
    "#### Store artifacts"
   ]
  },
  {
   "cell_type": "code",
   "execution_count": null,
   "metadata": {},
   "outputs": [],
   "source": [
    "artifact_list = data_artifact_list + [model_artifact]\n",
    "\n",
    "for artif in artifact_list:\n",
    "    if artif.artifact_type == 'DataSet':\n",
    "        assoc = 'ContributedTo'\n",
    "    else:\n",
    "        assoc = 'Produced'\n",
    "    try:\n",
    "        association.Association.create(\n",
    "            source_arn=artif.artifact_arn,\n",
    "            destination_arn=trial_component_arn,\n",
    "            association_type=assoc,\n",
    "            sagemaker_session=sagemaker_session)\n",
    "        print(f\"Association with {artif.artifact_type}: SUCCESSFUL\")\n",
    "    except:\n",
    "        print(f\"Association already exists with {artif.artifact_type}\")"
   ]
  },
  {
   "cell_type": "markdown",
   "metadata": {},
   "source": [
    "## Model Registry"
   ]
  },
  {
   "cell_type": "code",
   "execution_count": null,
   "metadata": {},
   "outputs": [],
   "source": [
    "mpg_name = prefix\n",
    "\n",
    "model_packages = sagemaker_boto_client.list_model_packages(ModelPackageGroupName=mpg_name)['ModelPackageSummaryList']\n",
    "\n",
    "if model_packages:\n",
    "    print(f'Using existing Model Package Group: {mpg_name}')\n",
    "else:\n",
    "    mpg_input_dict = {\n",
    "        'ModelPackageGroupName': mpg_name,\n",
    "        'ModelPackageGroupDescription': 'Cancer metastasis detection'\n",
    "    }\n",
    "\n",
    "    mpg_response = sagemaker_boto_client.create_model_package_group(**mpg_input_dict)\n",
    "    print(f'Create Model Package Group {mpg_name}: SUCCESSFUL')"
   ]
  },
  {
   "cell_type": "code",
   "execution_count": null,
   "metadata": {},
   "outputs": [],
   "source": [
    "%store mpg_name"
   ]
  },
  {
   "cell_type": "code",
   "execution_count": null,
   "metadata": {
    "scrolled": true
   },
   "outputs": [],
   "source": [
    "training_jobs = results_df['TrainingJobName']\n",
    "\n",
    "for job_name in training_jobs:\n",
    "    job_data = sagemaker_boto_client.describe_training_job(TrainingJobName=job_name)\n",
    "    model_uri = job_data.get('ModelArtifacts', {}).get('S3ModelArtifacts')\n",
    "    training_image = job_data['AlgorithmSpecification']['TrainingImage']\n",
    "    \n",
    "    mp_inference_spec = InferenceSpecification().get_inference_specification_dict(\n",
    "        ecr_image=training_image,\n",
    "        supports_gpu=False,\n",
    "        supported_content_types=['text/csv'],\n",
    "        supported_mime_types=['text/csv'])\n",
    "\n",
    "    mp_inference_spec['InferenceSpecification']['Containers'][0]['ModelDataUrl'] = model_uri\n",
    "    mp_input_dict = {\n",
    "        'ModelPackageGroupName': mpg_name,\n",
    "        'ModelPackageDescription': 'SageMaker Image Classifier',\n",
    "        'ModelApprovalStatus': 'PendingManualApproval'\n",
    "    }\n",
    "\n",
    "    mp_input_dict.update(mp_inference_spec)\n",
    "    mp_response = sagemaker_boto_client.create_model_package(**mp_input_dict)\n",
    "    \n",
    "model_packages = sagemaker_boto_client.list_model_packages(ModelPackageGroupName=mpg_name, MaxResults=6)['ModelPackageSummaryList']\n",
    "model_packages"
   ]
  },
  {
   "cell_type": "code",
   "execution_count": null,
   "metadata": {},
   "outputs": [],
   "source": [
    "%store model_packages"
   ]
  },
  {
   "cell_type": "code",
   "execution_count": null,
   "metadata": {},
   "outputs": [],
   "source": []
  }
 ],
 "metadata": {
  "instance_type": "ml.t3.medium",
  "kernelspec": {
   "display_name": "conda_mxnet_p36",
   "language": "python",
   "name": "conda_mxnet_p36"
  },
  "language_info": {
   "codemirror_mode": {
    "name": "ipython",
    "version": 3
   },
   "file_extension": ".py",
   "mimetype": "text/x-python",
   "name": "python",
   "nbconvert_exporter": "python",
   "pygments_lexer": "ipython3",
   "version": "3.6.13"
  }
 },
 "nbformat": 4,
 "nbformat_minor": 4
}
