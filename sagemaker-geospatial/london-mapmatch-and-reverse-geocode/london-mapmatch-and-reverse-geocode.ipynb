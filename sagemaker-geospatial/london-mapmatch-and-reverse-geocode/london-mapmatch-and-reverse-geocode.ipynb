{
 "cells": [
  {
   "cell_type": "markdown",
   "id": "4469cb83-0322-48ef-9398-7b57ea12939a",
   "metadata": {},
   "source": [
    "# Vector Enrichment Jobs with Amazon SageMaker Geospatial Capabilities"
   ]
  },
  {
   "attachments": {},
   "cell_type": "markdown",
   "metadata": {},
   "source": [
    "---\n",
    "\n",
    "This notebook's CI test result for us-west-2 is as follows. CI test results in other regions can be found at the end of the notebook. \n",
    "\n",
    "![This us-west-2 badge failed to load. Check your device's internet connectivity, otherwise the service is currently unavailable](https://prod.us-west-2.tcx-beacon.docs.aws.dev/sagemaker-nb/us-west-2/sagemaker-geospatial|london-mapmatch-and-reverse-geocode|london-mapmatch-and-reverse-geocode.ipynb)\n",
    "\n",
    "---"
   ]
  },
  {
   "cell_type": "markdown",
   "id": "f6485785-cc4e-4223-a8dc-a7a64663f2a4",
   "metadata": {},
   "source": [
    "In this notebook we will take a look at the [vector enrichment](https://docs.aws.amazon.com/sagemaker/latest/dg/geospatial-vej.html) operations available as part of SageMaker's new Geospatial capabilities.\n",
    "\n",
    "----"
   ]
  },
  {
   "cell_type": "markdown",
   "id": "565b92a0-f79f-49dc-a462-4af892d3733b",
   "metadata": {},
   "source": [
    "## Environment Set-Up\n",
    "\n",
    "If you have not already done so, please make sure you have opened this notebook in [**SageMaker Studio**](https://us-west-2.console.aws.amazon.com/sagemaker/home?region=us-west-2#/studio) in the **Oregon (us-west-2)** region. The Geospatial capabilities of SageMaker are currently only available in this region.\n",
    "\n",
    "Please also ensure that you have set:\n",
    "- the notebook image to **Geospatial 1.0**\n",
    "- the kernel to **Python 3**\n",
    "- the instance type to **ml.m5.4xlarge**. \n",
    "\n",
    "We will start by making sure the \"sagemaker\" SDK is updated, and then import the libraries we will need for the notebook."
   ]
  },
  {
   "cell_type": "code",
   "execution_count": null,
   "id": "bd57f145-19a3-4309-a7b6-a8b9fa34b226",
   "metadata": {
    "scrolled": true,
    "tags": []
   },
   "outputs": [],
   "source": [
    "!pip install sagemaker --upgrade"
   ]
  },
  {
   "cell_type": "code",
   "execution_count": null,
   "id": "0501a86a-f159-4a47-9482-e0fda6d83716",
   "metadata": {
    "tags": []
   },
   "outputs": [],
   "source": [
    "import boto3\n",
    "import sagemaker\n",
    "import folium\n",
    "import json\n",
    "from datetime import datetime, timedelta\n",
    "from dateutil import parser\n",
    "import time\n",
    "import os\n",
    "import random"
   ]
  },
  {
   "attachments": {},
   "cell_type": "markdown",
   "id": "1b2c67b4-00e7-4af7-8725-a283ef2f10c1",
   "metadata": {},
   "source": [
    "Next let's ensure that our working directory is the same as the 'files' folder in our Studio Notebook environment."
   ]
  },
  {
   "cell_type": "code",
   "execution_count": null,
   "id": "2a8b0069-40af-4066-81c3-cad4b3ccc0e7",
   "metadata": {
    "tags": []
   },
   "outputs": [],
   "source": [
    "os.chdir(\"/root/data\")"
   ]
  },
  {
   "cell_type": "markdown",
   "id": "563ad494-8a7b-47cc-8a31-084244e0094e",
   "metadata": {},
   "source": [
    "We will now define a few variables that we will use throughout the notebook that relate to AWS resources."
   ]
  },
  {
   "cell_type": "code",
   "execution_count": null,
   "id": "363f173a-bcc7-42ad-b11c-d60711d2e76f",
   "metadata": {
    "tags": []
   },
   "outputs": [],
   "source": [
    "sagemaker_session = sagemaker.Session()\n",
    "bucket_name = (\n",
    "    sagemaker_session.default_bucket()\n",
    ")  ### Replace with your own bucket if needed\n",
    "role = sagemaker.get_execution_role(sagemaker_session)\n",
    "s3prefix = \"sm-geospatial-vej\"  ### Replace with the S3 prefix desired\n",
    "region = boto3.Session().region_name\n",
    "print(f\"S3 bucket: {bucket_name}\")\n",
    "print(f\"Role: {role}\")\n",
    "print(f\"Region: {region}\")"
   ]
  },
  {
   "attachments": {},
   "cell_type": "markdown",
   "id": "31b825ab-8d72-4a37-b204-fc5a03547160",
   "metadata": {},
   "source": [
    "**Note, at the time of writing this notebook sagemaker-geospatial is only available in the region \"us-west-2\".**\n",
    "\n",
    "Make sure you have the proper policy attached to your notebook's execution role, and a trust relationship added to your role for \"sagemaker-geospatial\", as specified in the [Get Started with Amazon SageMaker Geospatial Capabilities documentation](https://docs.aws.amazon.com/sagemaker/latest/dg/geospatial-getting-started.html)."
   ]
  },
  {
   "cell_type": "code",
   "execution_count": null,
   "id": "42279e16-00df-45f7-94ce-4c9c6f75b265",
   "metadata": {
    "tags": []
   },
   "outputs": [],
   "source": [
    "gsClient = boto3.client(\"sagemaker-geospatial\", region_name=region)"
   ]
  },
  {
   "cell_type": "code",
   "execution_count": null,
   "id": "e8fa7c1e-8864-42f8-9cf0-4fba45c859bb",
   "metadata": {
    "tags": []
   },
   "outputs": [],
   "source": [
    "s3Client = boto3.Session().resource(service_name=\"s3\")"
   ]
  },
  {
   "cell_type": "markdown",
   "id": "ea7ec44f-9d8e-4ca2-ac9c-aa90cf41a68b",
   "metadata": {},
   "source": [
    "----"
   ]
  },
  {
   "cell_type": "markdown",
   "id": "96ad4cea-a255-408f-877f-0fba7ee338d3",
   "metadata": {},
   "source": [
    "## Map Matching\n",
    "\n",
    "**Map Matching** allows you to snap GPS coordinates to road segments. The input should be a CSV file containing the trace ID (route), longitude, latitude and the timestamp attributes. Let's put a CSV in our working directory to send to S3 later."
   ]
  },
  {
   "cell_type": "code",
   "execution_count": null,
   "id": "5aba35da-563c-410d-963e-794837521e00",
   "metadata": {},
   "outputs": [],
   "source": [
    "mm_input_csv = \"\"\"id,longitude,latitude,timestamp\n",
    "0,-0.158905816,51.51341681,2023-01-04T17:46:33.127473\n",
    "0,-0.165058309,51.51272588,2023-01-04T17:46:53.127473\n",
    "0,-0.168111426,51.51215009,2023-01-04T17:47:13.127473\n",
    "0,-0.169406688,51.51197736,2023-01-04T17:47:33.127473\n",
    "0,-0.172552324,51.51122882,2023-01-04T17:47:53.127473\n",
    "0,-0.172135989,51.51065302,2023-01-04T17:48:13.127473\n",
    "0,-0.170563172,51.50883919,2023-01-04T17:48:33.127473\n",
    "0,-0.170748209,51.5069677,2023-01-04T17:48:53.127473\n",
    "0,-0.173061176,51.5057008,2023-01-04T17:49:13.127473\n",
    "0,-0.174633994,51.50282136,2023-01-04T17:49:33.127473\n",
    "0,-0.173061176,51.50175592,2023-01-04T17:49:53.127473\n",
    "0,-0.170424393,51.5019287,2023-01-04T17:50:13.127473\n",
    "0,-0.165104568,51.50171351,2023-01-04T17:50:33.127473\n",
    "0,-0.161614045,51.5018711,2023-01-04T17:50:53.127473\n",
    "0,-0.160293596,51.50210147,2023-01-04T17:51:13.127473\n",
    "0,-0.158720778,51.50233184,2023-01-04T17:51:33.127473\n",
    "0,-0.154783224,51.50280618,2023-01-04T17:51:53.127473\n",
    "0,-0.1493934562836614,51.502530034103216,2023-01-04T17:52:13.127473\n",
    "0,-0.1455683526539815,51.50242490130108,2023-01-04T17:52:33.127473\n",
    "0,-0.14159641737705897,51.502158768076725,2023-01-04T17:52:53.127473\n",
    "0,-0.14024485606748271,51.501987068397625,2023-01-04T17:53:13.127473\n",
    "\"\"\""
   ]
  },
  {
   "cell_type": "code",
   "execution_count": null,
   "id": "d4fe7d69-8d94-40ba-823d-35aa31bf8829",
   "metadata": {},
   "outputs": [],
   "source": [
    "import os\n",
    "\n",
    "os.makedirs(\"./vej-input\", exist_ok=True)\n",
    "open(\"./vej-input/mm-input.csv\", \"w\").write(mm_input_csv)\n",
    "\n",
    "print(mm_input_csv)"
   ]
  },
  {
   "attachments": {},
   "cell_type": "markdown",
   "id": "1810986f-cf3b-4261-be6e-1f4196b704c8",
   "metadata": {},
   "source": [
    "As you can see, there are four columns. The first is the \"id\" column, which holds the \"trace\"/\"drive\" ID of the route that is being map-matched. Here the only value is 0 because the data only pertains to one single drive. It is possible to supply data that has many routes, in which case the map matching for each route is calculated separately.\n",
    "\n",
    "The next two columns hold the longitude and latitude of the GPS system at a that particular moment of the route. Finally, we have the timestamp column, which indicates the time at which that particular coordinate was reached on the route, and allows SageMaker to determine the order in which coordinates appear on the route."
   ]
  },
  {
   "attachments": {},
   "cell_type": "markdown",
   "id": "e8a065e5-01aa-4d7e-ae77-707ec5efefa0",
   "metadata": {},
   "source": [
    "### Visualizing input data on a road map\n",
    "\n",
    "Let's take a look at the data on a map. We will use the `folium` Python library to do this.\n",
    "\n",
    "First we will need to parse the CSV to extract the longitude and latitude coordinates."
   ]
  },
  {
   "cell_type": "code",
   "execution_count": null,
   "id": "7a2e3b59-7993-441b-98c7-893b89d6f22e",
   "metadata": {
    "tags": []
   },
   "outputs": [],
   "source": [
    "def csv_parse(csv_string):\n",
    "    rows = csv_string.split(\"\\n\")\n",
    "    column_names = rows[0].split(\",\")\n",
    "    parsed_rows = []\n",
    "\n",
    "    for r, row in enumerate(rows):\n",
    "        if r == 0:\n",
    "            continue\n",
    "\n",
    "        columns = row.split(\",\")\n",
    "\n",
    "        if len(columns) <= 1:\n",
    "            continue\n",
    "\n",
    "        parsed_row = dict()\n",
    "\n",
    "        for c, column_name in enumerate(column_names):\n",
    "            parsed_row[column_name.strip()] = columns[c].strip()\n",
    "\n",
    "        parsed_rows.append(parsed_row)\n",
    "\n",
    "    return parsed_rows"
   ]
  },
  {
   "cell_type": "code",
   "execution_count": null,
   "id": "bbd2ba1e-af54-401f-913f-63acd9c87461",
   "metadata": {
    "scrolled": true,
    "tags": []
   },
   "outputs": [],
   "source": [
    "mm_input = csv_parse(mm_input_csv)\n",
    "mm_input"
   ]
  },
  {
   "attachments": {},
   "cell_type": "markdown",
   "id": "7f2850f7-dcce-4d40-9c99-009508608f44",
   "metadata": {},
   "source": [
    "`folium` expects coordinates as a list of `[latitude, longitude]`."
   ]
  },
  {
   "cell_type": "code",
   "execution_count": null,
   "id": "8b73a018-1f23-469d-b7e4-5e91b303c633",
   "metadata": {
    "scrolled": true,
    "tags": []
   },
   "outputs": [],
   "source": [
    "mm_input_folium = []\n",
    "mm_input_coords = []\n",
    "\n",
    "for mm_input_row in mm_input:\n",
    "    mm_input_folium.append(\n",
    "        [float(mm_input_row[\"latitude\"]), float(mm_input_row[\"longitude\"])]\n",
    "    )\n",
    "    mm_input_coords.append(\n",
    "        [float(mm_input_row[\"longitude\"]), float(mm_input_row[\"latitude\"])]\n",
    "    )\n",
    "\n",
    "mm_input_coords"
   ]
  },
  {
   "attachments": {},
   "cell_type": "markdown",
   "id": "364acf1c-b18a-4594-8ed6-181947875107",
   "metadata": {},
   "source": [
    "Finally, we will need to provide `folium` with the area of interest to zoom to. Let's supply the bounding box of the coordinates we have extracted from the input file."
   ]
  },
  {
   "cell_type": "code",
   "execution_count": null,
   "id": "ff9398ce-94fb-403c-8076-8d727dbd3154",
   "metadata": {
    "tags": []
   },
   "outputs": [],
   "source": [
    "minLat, minLon = 1000, 1000\n",
    "maxLat, maxLon = -1000, -1000\n",
    "\n",
    "for coord in mm_input_folium:\n",
    "    if coord[0] > maxLat:\n",
    "        maxLat = coord[0]\n",
    "    if coord[0] < minLat:\n",
    "        minLat = coord[0]\n",
    "    if coord[1] > maxLon:\n",
    "        maxLon = coord[1]\n",
    "    if coord[1] < minLon:\n",
    "        minLon = coord[1]\n",
    "\n",
    "sw = [minLat, minLon]\n",
    "ne = [maxLat, maxLon]\n",
    "\n",
    "print(sw)\n",
    "print(ne)"
   ]
  },
  {
   "cell_type": "markdown",
   "id": "75c578cc-ac8a-42a9-b0e0-8c33d907f176",
   "metadata": {},
   "source": [
    "With all that done, let's render the coordinates on the map."
   ]
  },
  {
   "cell_type": "code",
   "execution_count": null,
   "id": "849a4e62-35b2-46b2-9846-4a9db8293da4",
   "metadata": {
    "tags": []
   },
   "outputs": [],
   "source": [
    "def init_map():\n",
    "    vej_map = folium.Map(\n",
    "        zoom_control=False, no_touch=True, scrollWheelZoom=False, dragging=False\n",
    "    )\n",
    "    vej_map.fit_bounds(bounds=[sw, ne])\n",
    "    folium.TileLayer(\"cartodbpositron\").add_to(vej_map)\n",
    "    for coord in mm_input_folium:\n",
    "        folium.Circle(location=coord, radius=10, color=\"red\").add_to(vej_map)\n",
    "\n",
    "    return vej_map\n",
    "\n",
    "\n",
    "vej_map = init_map()\n",
    "vej_map"
   ]
  },
  {
   "attachments": {},
   "cell_type": "markdown",
   "id": "dfaf9c2a-5cca-4500-8a04-0ddfeabfc4b1",
   "metadata": {},
   "source": [
    "The points rendered on the map show a coordinate trace through the City of London. Note how some points aren't perfectly sat on the roads that the trace likely follows."
   ]
  },
  {
   "cell_type": "markdown",
   "id": "3ff50b45-6f55-4a54-8473-3684c2fd100a",
   "metadata": {},
   "source": [
    "### Starting the Vector Enrichment Job\n",
    "\n",
    "SageMaker expects this data to be available on S3. As such, let's upload that file to our S3 bucket."
   ]
  },
  {
   "cell_type": "code",
   "execution_count": null,
   "id": "c8bf4137-b85b-42b4-9eb9-be3c6fa8ef1e",
   "metadata": {
    "tags": []
   },
   "outputs": [],
   "source": [
    "s3Client.Bucket(bucket_name).Object(f\"{s3prefix}/{mm_input_filename}\").upload_file(\n",
    "    mm_input_filename\n",
    ")"
   ]
  },
  {
   "cell_type": "markdown",
   "id": "7c3c6f32-b341-449a-a21a-ad4b82235d74",
   "metadata": {},
   "source": [
    "Let's now define some methods that will allow us to easily call the Vector Enrichment Job API."
   ]
  },
  {
   "cell_type": "code",
   "execution_count": null,
   "id": "61e3903c-3610-4349-91b3-34cabe8a554f",
   "metadata": {
    "tags": []
   },
   "outputs": [],
   "source": [
    "def start_vector_enrichment_job(vej_name, vej_input_config, vej_config):\n",
    "    # Start VEJ...\n",
    "    response = gsClient.start_vector_enrichment_job(\n",
    "        Name=vej_name,\n",
    "        ExecutionRoleArn=role,\n",
    "        InputConfig=vej_input_config,\n",
    "        JobConfig=vej_config,\n",
    "    )\n",
    "    vej_arn = response[\"Arn\"]\n",
    "    print(f\"{datetime.now()} - Started VEJ: {vej_arn}\")\n",
    "\n",
    "    # Wait for VEJ to complete... check status every minute\n",
    "    gs_get_vej_resp = {\"Status\": \"IN_PROGRESS\"}\n",
    "    while gs_get_vej_resp[\"Status\"] == \"IN_PROGRESS\":\n",
    "        time.sleep(30)\n",
    "        gs_get_vej_resp = gsClient.get_vector_enrichment_job(Arn=vej_arn)\n",
    "        print(f'{datetime.now()} - Current VEJ status: {gs_get_vej_resp[\"Status\"]}')\n",
    "    return vej_arn"
   ]
  },
  {
   "cell_type": "code",
   "execution_count": null,
   "id": "19672fbc-cba4-4767-923d-bd70aac15a1b",
   "metadata": {
    "tags": []
   },
   "outputs": [],
   "source": [
    "def create_input_config(fname):\n",
    "    return {\n",
    "        \"DocumentType\": \"CSV\",\n",
    "        \"DataSourceConfig\": {\n",
    "            \"S3Data\": {\"S3Uri\": f\"s3://{bucket_name}/{s3prefix}/{fname}\"}\n",
    "        },\n",
    "    }"
   ]
  },
  {
   "attachments": {},
   "cell_type": "markdown",
   "id": "79c5f826-e8f6-4b93-9aa3-15d54d798ff7",
   "metadata": {},
   "source": [
    "With our helper methods defined, let's initialize the config objects required by the map matching operation."
   ]
  },
  {
   "cell_type": "code",
   "execution_count": null,
   "id": "f41eccfc-2c67-4a05-8b1c-f61fa8751415",
   "metadata": {
    "tags": []
   },
   "outputs": [],
   "source": [
    "map_matching_input_config = create_input_config(mm_input_filename)\n",
    "map_matching_input_config"
   ]
  },
  {
   "cell_type": "code",
   "execution_count": null,
   "id": "6b61bcf4-1331-45ce-a78e-3a86471dc97b",
   "metadata": {
    "tags": []
   },
   "outputs": [],
   "source": [
    "map_matching_job_config = {\n",
    "    \"MapMatchingConfig\": {\n",
    "        \"IdAttributeName\": \"id\",\n",
    "        \"TimestampAttributeName\": \"timestamp\",\n",
    "        \"XAttributeName\": \"longitude\",\n",
    "        \"YAttributeName\": \"latitude\",\n",
    "    }\n",
    "}\n",
    "map_matching_job_config"
   ]
  },
  {
   "cell_type": "markdown",
   "id": "2cf46758-9a55-40a2-a0f5-e976d1ad2b72",
   "metadata": {},
   "source": [
    "We can now start the Map Matching operation. This may take a few minutes, but thankfully the function we defined to start the job will print out the status of the job every 30 seconds."
   ]
  },
  {
   "cell_type": "code",
   "execution_count": null,
   "id": "f5ea79b5-7349-43fd-ba9e-3e86424e0143",
   "metadata": {
    "tags": []
   },
   "outputs": [],
   "source": [
    "vej_arn = start_vector_enrichment_job(\n",
    "    f\"mapmatch_{datetime.now().isoformat()}\",\n",
    "    map_matching_input_config,\n",
    "    map_matching_job_config,\n",
    ")\n",
    "vej_arn"
   ]
  },
  {
   "cell_type": "markdown",
   "id": "18664282-9060-4a22-b891-1b92ae6dbf23",
   "metadata": {},
   "source": [
    "### Exporting the Vector Enrichment Job\n",
    "\n",
    "With the job completed, we would now like to view the results. The results are currently stored within SageMaker, and require an export to S3 for us to easily access them. Let's define a function that will start the export, and similarly print out the export status as it updates."
   ]
  },
  {
   "cell_type": "code",
   "execution_count": null,
   "id": "674ded37-45ca-4b8c-b5d2-9766a8a9fc1a",
   "metadata": {
    "tags": []
   },
   "outputs": [],
   "source": [
    "def export_vector_enrichment_job(arn, outfoldername):\n",
    "    # Start VEJ export...\n",
    "    response = gsClient.export_vector_enrichment_job(\n",
    "        Arn=arn,\n",
    "        ExecutionRoleArn=role,\n",
    "        OutputConfig={\n",
    "            \"S3Data\": {\"S3Uri\": f\"s3://{bucket_name}/{s3prefix}/{outfoldername}\"}\n",
    "        },\n",
    "    )\n",
    "\n",
    "    print(response)\n",
    "\n",
    "    vej_arn = response[\"Arn\"]\n",
    "    print(f\"{datetime.now()} - Started VEJ export: {vej_arn}\")\n",
    "\n",
    "    # Wait for VEJ export to complete... check status every minute\n",
    "    gs_get_vej_resp = {\"ExportStatus\": \"IN_PROGRESS\"}\n",
    "    while gs_get_vej_resp[\"ExportStatus\"] == \"IN_PROGRESS\":\n",
    "        time.sleep(30)\n",
    "        gs_get_vej_resp = gsClient.get_vector_enrichment_job(Arn=vej_arn)\n",
    "        print(\n",
    "            f'{datetime.now()} - Current VEJ export status: {gs_get_vej_resp[\"ExportStatus\"]}'\n",
    "        )\n",
    "\n",
    "    return response[\"OutputConfig\"][\"S3Data\"][\"S3Uri\"]"
   ]
  },
  {
   "cell_type": "code",
   "execution_count": null,
   "id": "1d6758e4-6931-4c1a-a69b-2c1708f2090f",
   "metadata": {
    "tags": []
   },
   "outputs": [],
   "source": [
    "mm_outfolder = \"vej-output/mm-output/\""
   ]
  },
  {
   "cell_type": "code",
   "execution_count": null,
   "id": "f3d13d0c-489d-442c-91ce-887bea0b7e99",
   "metadata": {
    "tags": []
   },
   "outputs": [],
   "source": [
    "export_s3_uri = export_vector_enrichment_job(vej_arn, mm_outfolder)\n",
    "export_s3_uri"
   ]
  },
  {
   "cell_type": "markdown",
   "id": "622b1ea7-b0c7-488a-b277-3cd7aaee6b4f",
   "metadata": {},
   "source": [
    "Let's download the results to our Notebook directory so that we can look at them."
   ]
  },
  {
   "cell_type": "code",
   "execution_count": null,
   "id": "afaddf2c-81da-4921-a345-49646a28d5bb",
   "metadata": {
    "tags": []
   },
   "outputs": [],
   "source": [
    "def download_s3_directory_latest(directory):\n",
    "    # The export job adds some random characters to the key\n",
    "    #   e.g. 'vej-output/mapmatching-output/3rmeymfupxf9/links.geojson'\n",
    "    #   this is so that exports don't overwrite each other.\n",
    "    # We don't have a way to directly obtain the subdirectory of the latest export\n",
    "    #   so let's get the last modified versions in the output directory\n",
    "    latest_dict = dict()\n",
    "    bucket = s3Client.Bucket(bucket_name)\n",
    "    for obj in bucket.objects.filter(Prefix=f\"{s3prefix}/{directory}\"):\n",
    "        fname = obj.key.split(\"/\")[-1]\n",
    "        if latest_dict.get(fname) == None:\n",
    "            latest_dict[fname] = {\"last_modified\": obj.last_modified, \"key\": obj.key}\n",
    "        else:\n",
    "            this_last_modified = (\n",
    "                parser.parse(obj.last_modified)\n",
    "                if isinstance(obj.last_modified, str)\n",
    "                else obj.last_modified\n",
    "            )\n",
    "\n",
    "            dict_last_modified = latest_dict[fname][\"last_modified\"]\n",
    "            if this_last_modified > dict_last_modified:\n",
    "                latest_dict[fname] = {\n",
    "                    \"last_modified\": this_last_modified,\n",
    "                    \"key\": obj.key,\n",
    "                }\n",
    "\n",
    "    # the export job adds some random characters to the key\n",
    "    # e.g. 'vej-output/mapmatching-output/3rmeymfupxf9/links.geojson'\n",
    "    # we will remove them here: => 'vej-output/mapmatching-output/links.geojson'\n",
    "    for fname in latest_dict:\n",
    "        print(latest_dict[fname][\"key\"])\n",
    "        print(latest_dict[fname][\"last_modified\"])\n",
    "\n",
    "        obj_key = latest_dict[fname][\"key\"]\n",
    "        key_parts = obj_key.split(\"/\")\n",
    "        local_name = f\"{key_parts[1]}/{key_parts[2]}/{key_parts[4]}\"\n",
    "        if not os.path.exists(os.path.dirname(local_name)):\n",
    "            os.makedirs(os.path.dirname(local_name))\n",
    "        bucket.download_file(obj_key, local_name)\n",
    "\n",
    "        print(local_name)\n",
    "        print()"
   ]
  },
  {
   "cell_type": "code",
   "execution_count": null,
   "id": "015c3fb2-56de-404f-83ab-60d03a2f129f",
   "metadata": {
    "tags": []
   },
   "outputs": [],
   "source": [
    "download_s3_directory_latest(mm_outfolder)"
   ]
  },
  {
   "attachments": {},
   "cell_type": "markdown",
   "id": "f4fced3f-0154-4ce2-bee9-d60dd1a5b134",
   "metadata": {
    "tags": []
   },
   "source": [
    "### Visualizing map match output on a road map\n",
    "\n",
    "With the map matching completed, let's view the snapped coordinates on the map in comparison to our input coordinates.\n",
    "\n",
    "The snapped coordinates live in the `waypoints.geojson` file. `geojson` is a commonly used data format for Geospatial data."
   ]
  },
  {
   "cell_type": "code",
   "execution_count": null,
   "id": "3a427d76-dcc2-4918-9f7f-7a692a84d22f",
   "metadata": {
    "scrolled": true,
    "tags": []
   },
   "outputs": [],
   "source": [
    "f = open(f\"{mm_outfolder}waypoints.geojson\", \"r\")\n",
    "waypoints = json.loads(f.read())\n",
    "f.close()\n",
    "\n",
    "waypoints"
   ]
  },
  {
   "attachments": {},
   "cell_type": "markdown",
   "id": "00ce191a-7d95-4b94-a100-1a0b0f86fa9a",
   "metadata": {},
   "source": [
    "In order to plot the waypoint on our `folium` map, we need to convert them to a list of [latitude, longitude], (here they are in [longitude, latitude])."
   ]
  },
  {
   "cell_type": "code",
   "execution_count": null,
   "id": "54712267-8497-4c1b-b964-56639c110805",
   "metadata": {
    "scrolled": true,
    "tags": []
   },
   "outputs": [],
   "source": [
    "waypoint_features = waypoints[\"features\"]\n",
    "waypoint_coords_folium = []\n",
    "for feature in waypoint_features:\n",
    "    waypoint_coords_folium.append(\n",
    "        [feature[\"geometry\"][\"coordinates\"][1], feature[\"geometry\"][\"coordinates\"][0]]\n",
    "    )\n",
    "\n",
    "waypoint_coords = []\n",
    "for feature in waypoint_features:\n",
    "    waypoint_coords.append(\n",
    "        [feature[\"geometry\"][\"coordinates\"][0], feature[\"geometry\"][\"coordinates\"][1]]\n",
    "    )\n",
    "\n",
    "waypoint_coords"
   ]
  },
  {
   "cell_type": "markdown",
   "id": "10e1b7da-3aac-4b02-b1c9-ca16e851b718",
   "metadata": {},
   "source": [
    "Since we want to compare the snapping results to out input, let's plot the snapped line on our existing map."
   ]
  },
  {
   "cell_type": "code",
   "execution_count": null,
   "id": "d4242e90-2293-4cf5-9ef2-66fb1de1e26b",
   "metadata": {
    "tags": []
   },
   "outputs": [],
   "source": [
    "def draw_waypoints(m):\n",
    "    for coord in waypoint_coords_folium:\n",
    "        folium.Circle(location=coord, radius=10, color=\"blue\").add_to(m)\n",
    "    return m\n",
    "\n",
    "\n",
    "vej_map = draw_waypoints(init_map())\n",
    "vej_map"
   ]
  },
  {
   "cell_type": "markdown",
   "id": "4dbe8f1f-f6f8-468d-b7a8-2a11a69b3395",
   "metadata": {},
   "source": [
    "As before, the red points are our input coordinates, and the new blue ones are the snapped coordinates from the map matching job output. As you can see, the points that were not quite on the adjacent roads have now been snapped perfectly onto the roads."
   ]
  },
  {
   "attachments": {},
   "cell_type": "markdown",
   "id": "d25df3ba-ed8a-401c-8a24-0d454cf9da38",
   "metadata": {},
   "source": [
    "Okay, so now we have seen the road-snapped coordinates that we found in the `waypoints.geojson` output file, but what about the `links.geojson` output file? What does that contain?\n",
    "\n",
    "The links file contains coordinate information about all the known roads segments along the shortest viable path that allows us to reach all of our waypoints in one drive (if possible)."
   ]
  },
  {
   "cell_type": "markdown",
   "id": "b7b08560-3356-43f3-9d0c-e8d39bfcb559",
   "metadata": {},
   "source": [
    "First let's open the links file, parse it to JSON, and look at the contents."
   ]
  },
  {
   "cell_type": "code",
   "execution_count": null,
   "id": "f5a8ce25-614d-4730-bc9c-576b43985297",
   "metadata": {
    "scrolled": true,
    "tags": []
   },
   "outputs": [],
   "source": [
    "f = open(f\"{mm_outfolder}links.geojson\", \"r\")\n",
    "links = json.loads(f.read())\n",
    "f.close()\n",
    "\n",
    "links"
   ]
  },
  {
   "attachments": {},
   "cell_type": "markdown",
   "id": "2c881668-125a-49e0-a88c-5a0929f8ca28",
   "metadata": {},
   "source": [
    "As you can see it is a pretty long file. What we care about is the stuff in the 'features' member, a list of line features, each describing a road segment. Let's extract the coordinates of each line segment into a list of lists of coordinates. Remember again that `folium` expects the coordinates as `[latitude, longitude]` so we need to swap the coordinates around."
   ]
  },
  {
   "cell_type": "code",
   "execution_count": null,
   "id": "dd338a60-c12e-4231-bb2f-7cecf491ccdd",
   "metadata": {
    "scrolled": true,
    "tags": []
   },
   "outputs": [],
   "source": [
    "link_features = links[\"features\"]\n",
    "link_lines = []\n",
    "\n",
    "\n",
    "def swap(coord_pair):\n",
    "    return [coord_pair[1], coord_pair[0]]\n",
    "\n",
    "\n",
    "for feature in link_features:\n",
    "    coords = feature[\"geometry\"][\"coordinates\"]\n",
    "    coords = list(map(swap, coords))\n",
    "    link_lines.append(coords)\n",
    "\n",
    "link_lines"
   ]
  },
  {
   "attachments": {},
   "cell_type": "markdown",
   "id": "631ca21d-6960-45a0-8028-2db133afba6b",
   "metadata": {},
   "source": [
    "We can see that there are many links on the route. Each link is an individual road segment. A road is divided into separate segments at points where it connects to other roads.\n",
    "\n",
    "For example, a long straight road which has a junction in the middle could be divided into three segments: the part before the junction, the junction, and the part after the junction. This is why long roads that have many connections to side streets contain many individual road segments/links."
   ]
  },
  {
   "cell_type": "code",
   "execution_count": null,
   "id": "f0134496-ee71-49f1-a116-5be4a51f447b",
   "metadata": {
    "tags": []
   },
   "outputs": [],
   "source": [
    "color1 = (255, 165, 0)\n",
    "color2 = (238, 130, 238)\n",
    "\n",
    "\n",
    "def color_grad(i):\n",
    "    nLinks = len(link_lines)\n",
    "    weight = (i + 0.5) / nLinks\n",
    "\n",
    "    def av(x1, x2):\n",
    "        return x1 * (1 - weight) + x2 * weight\n",
    "\n",
    "    color = (\n",
    "        av(color1[0], color2[0]),\n",
    "        av(color1[1], color2[1]),\n",
    "        av(color1[2], color2[2]),\n",
    "    )\n",
    "\n",
    "    return f\"rgb({color[0]},{color[1]},{color[2]})\""
   ]
  },
  {
   "cell_type": "code",
   "execution_count": null,
   "id": "8103f073-6439-4e70-a97d-a2c06c3a3b8e",
   "metadata": {
    "tags": []
   },
   "outputs": [],
   "source": [
    "def draw_links(m):\n",
    "    for i, link_line in enumerate(link_lines):\n",
    "        folium_link_line = folium.PolyLine(\n",
    "            locations=link_line, weight=5, color=color_grad(i)\n",
    "        )\n",
    "        folium_link_line.add_to(m)\n",
    "\n",
    "    for coord in waypoint_coords_folium:\n",
    "        folium.Circle(location=coord, radius=10, color=\"blue\").add_to(m)\n",
    "\n",
    "    return m\n",
    "\n",
    "\n",
    "vej_map = draw_links(draw_waypoints(init_map()))\n",
    "vej_map"
   ]
  },
  {
   "attachments": {},
   "cell_type": "markdown",
   "id": "a68800ac-2b26-41f2-92b4-cb1fd457b63c",
   "metadata": {},
   "source": [
    "Here we have rendered the link data onto the map such that the start of the calculated route is in orange and the end is in pink.\n",
    "\n",
    "Notice how the path at the start of the route differs from what we might expect when looking at the waypoint data. One might think the westward drive along the north of Hyde Park would be an unbroken straight line. Instead, the route is altered such that we go around the oval at the north-east of Hyde Park in order to get back on Bayswater Road. \n",
    "\n",
    "This is because the link output takes road directionality into consideration. The connection between eastern Bayswater Road and western Oxford Street is one-directional, allowing only eastward traffic. As such, the shortest viable route that allows the waypoints to be joined requires we take the loop adjacent to north-east Hyde Park."
   ]
  },
  {
   "cell_type": "markdown",
   "id": "ada085f6-1825-48d6-bc64-9879316dfe95",
   "metadata": {},
   "source": [
    "Let's render the two maps side-by-side so that you can compare."
   ]
  },
  {
   "cell_type": "markdown",
   "id": "48f035ce-3134-4715-9300-14328a78ba3b",
   "metadata": {
    "tags": []
   },
   "source": [
    "## Reverse Geocoding\n",
    "\n",
    "**Reverse Geocoding** is the process of deriving human-readable addresses from coordinates. Let's take a look at how to do this in SageMaker."
   ]
  },
  {
   "cell_type": "markdown",
   "id": "9cfd1cea-2739-49f3-9b49-7d58e173c5da",
   "metadata": {},
   "source": [
    "The Reverse Geocoding operation in SageMaker requires a CSV of coordinates as input. Let's use the snapped coordinates that we computed in the map match."
   ]
  },
  {
   "cell_type": "code",
   "execution_count": null,
   "id": "3dac56b7-fd9c-4795-b00f-8c49070eb847",
   "metadata": {
    "tags": []
   },
   "outputs": [],
   "source": [
    "rg_input_filename = \"vej-input/revgeo-input.csv\"\n",
    "f = open(f\"./{rg_input_filename}\", \"w\")\n",
    "csv = \"longitude, latitude\\n\"\n",
    "\n",
    "for coord in waypoint_coords_folium:\n",
    "    csv += f\"{coord[1]}, {coord[0]}\\n\"\n",
    "\n",
    "f.write(csv)\n",
    "f.close()"
   ]
  },
  {
   "cell_type": "markdown",
   "id": "cf79eeb9-f016-4c21-b4d9-0f62a503d57c",
   "metadata": {},
   "source": [
    "Again, we need to upload our CSV to S3 in order for it to be accessible by SageMaker."
   ]
  },
  {
   "cell_type": "code",
   "execution_count": null,
   "id": "8e6baf3b-7666-42da-be4b-309e4401a11f",
   "metadata": {
    "tags": []
   },
   "outputs": [],
   "source": [
    "s3Client.Bucket(bucket_name).Object(f\"{s3prefix}/{rg_input_filename}\").upload_file(\n",
    "    rg_input_filename\n",
    ")"
   ]
  },
  {
   "attachments": {},
   "cell_type": "markdown",
   "id": "2ccdb7d1-2985-4f5f-bf1c-32ba0b7491eb",
   "metadata": {},
   "source": [
    "Like the map matching job, the reverse geocoding job will require an input file config and a job config to be passed to the start Vector Enrichment Job function."
   ]
  },
  {
   "cell_type": "code",
   "execution_count": null,
   "id": "a22c1edd-c4ff-42c1-9f06-05370ffee197",
   "metadata": {
    "tags": []
   },
   "outputs": [],
   "source": [
    "rg_input_config = create_input_config(rg_input_filename)\n",
    "rg_input_config"
   ]
  },
  {
   "cell_type": "code",
   "execution_count": null,
   "id": "8c22f354-72c5-4141-8ccc-480c86777904",
   "metadata": {
    "tags": []
   },
   "outputs": [],
   "source": [
    "rg_job_config = {\n",
    "    \"ReverseGeocodingConfig\": {\n",
    "        \"XAttributeName\": \"longitude\",\n",
    "        \"YAttributeName\": \"latitude\",\n",
    "    }\n",
    "}"
   ]
  },
  {
   "attachments": {},
   "cell_type": "markdown",
   "id": "96456187-4b08-4892-b1b3-7e72e7c1708a",
   "metadata": {},
   "source": [
    "As with the map matching job, we then pass the config objects to our start Vector Enrichment Job function, and export the results to s3 once it is completed."
   ]
  },
  {
   "cell_type": "code",
   "execution_count": null,
   "id": "bd5dc2a3-4b5f-47ac-bbc9-9c63eefeeb5d",
   "metadata": {
    "tags": []
   },
   "outputs": [],
   "source": [
    "vej_arn = start_vector_enrichment_job(\n",
    "    f\"revgeo_{datetime.now().isoformat()}\", rg_input_config, rg_job_config\n",
    ")\n",
    "vej_arn"
   ]
  },
  {
   "cell_type": "code",
   "execution_count": null,
   "id": "e6520ace-fab1-4767-a394-eb4f5827b6fe",
   "metadata": {
    "tags": []
   },
   "outputs": [],
   "source": [
    "rg_outfolder = \"vej-output/revgeo-output/\"\n",
    "response = export_vector_enrichment_job(vej_arn, rg_outfolder)\n",
    "response"
   ]
  },
  {
   "cell_type": "markdown",
   "id": "26049c0f-7bc2-4a0a-9baf-f32abc9d8cbd",
   "metadata": {},
   "source": [
    "Now that the results are exported to S3, let's download them to our notebook's working directory so that we can visualize the results on the map."
   ]
  },
  {
   "cell_type": "code",
   "execution_count": null,
   "id": "36afab32-c266-4b29-b0bd-81bfc9ded4e0",
   "metadata": {
    "tags": []
   },
   "outputs": [],
   "source": [
    "download_s3_directory_latest(rg_outfolder)"
   ]
  },
  {
   "cell_type": "code",
   "execution_count": null,
   "id": "b231c03b-ec17-4aeb-ba66-d6ec7f816b65",
   "metadata": {
    "scrolled": true,
    "tags": []
   },
   "outputs": [],
   "source": [
    "f = open(f\"./{rg_outfolder}/results_0.csv\", \"r\")\n",
    "rg_results_csv = f.read()\n",
    "print(rg_results_csv)\n",
    "f.close()"
   ]
  },
  {
   "cell_type": "markdown",
   "id": "ddaff3e4-1156-4afd-ba53-e350f22f2f53",
   "metadata": {},
   "source": [
    "The result is a CSV whose first two columns are identical to what we supplied as input, and with extra columns added by the reverse geocoding job that contain human-readable address properties.\n",
    "\n",
    "Let's parse this CSV so that we can easier work with it."
   ]
  },
  {
   "cell_type": "code",
   "execution_count": null,
   "id": "37632d6c-5a54-4020-8f6d-24ed1668e047",
   "metadata": {
    "scrolled": true,
    "tags": []
   },
   "outputs": [],
   "source": [
    "rg_results = csv_parse(rg_results_csv)\n",
    "rg_results"
   ]
  },
  {
   "cell_type": "markdown",
   "id": "59d9c696-cf54-45f8-a53d-91611474fc97",
   "metadata": {},
   "source": [
    "Now we can show the results on a map. To avoid the map being too saturated with markers, we will only plot every third address."
   ]
  },
  {
   "cell_type": "code",
   "execution_count": null,
   "id": "112fd9b4-390b-4aaa-95a4-d1dcced1ff6f",
   "metadata": {
    "tags": []
   },
   "outputs": [],
   "source": [
    "from folium.features import DivIcon\n",
    "\n",
    "\n",
    "def draw_markers(m):\n",
    "    def addressHtml(result):\n",
    "        html = \"\"\"\n",
    "            <div style=\"\n",
    "                font-size: 7pt; \n",
    "                color: black;\n",
    "                background: rgba(255,255,255,0.6); \n",
    "                border-radius: 0px 12px 42px 12px; \n",
    "                padding: 4px;\n",
    "                border: 1px solid rgba(80,80,80,1.0);\n",
    "                box-shadow: 2px 2px 10px rgba(0, 0, 0, 0.3);\n",
    "                display: inline-block;\n",
    "            \">\n",
    "                <div>reverse_geo.label</div>\n",
    "                <div>reverse_geo.municipality</div>\n",
    "                <div>reverse_geo.neighborhood</div>\n",
    "                <div>reverse_geo.region</div>\n",
    "            </div>\n",
    "        \"\"\"\n",
    "\n",
    "        for key in result:\n",
    "            html = html.replace(key, result[key].strip('\"'))\n",
    "\n",
    "        return html\n",
    "\n",
    "    for i in range(0, len(rg_results) // 3):\n",
    "        result = rg_results[i * 3]\n",
    "        label = result[\"reverse_geo.label\"]\n",
    "        road = result[\"reverse_geo.municipality\"]\n",
    "        city = result[\"reverse_geo.neighborhood\"]\n",
    "        postcode = result[\"reverse_geo.region\"]\n",
    "        folium.Marker(\n",
    "            location=[result[\"latitude\"], result[\"longitude\"]],\n",
    "            icon=DivIcon(\n",
    "                icon_size=(100, 100),\n",
    "                icon_anchor=(0, 0),\n",
    "                html=addressHtml(result),\n",
    "            ),\n",
    "        ).add_to(m)\n",
    "\n",
    "    return m\n",
    "\n",
    "\n",
    "vej_map = draw_markers(draw_links(draw_waypoints(init_map())))\n",
    "vej_map"
   ]
  },
  {
   "cell_type": "markdown",
   "id": "84ba4b2a-7d51-4f0a-a007-ce1dd5ff327d",
   "metadata": {},
   "source": [
    "That's it! Thank you for following this notebook on Vector Enrichment Jobs in SageMaker!"
   ]
  },
  {
   "cell_type": "markdown",
   "id": "41c24798-532b-4350-84eb-1c10a70d045e",
   "metadata": {},
   "source": [
    "----\n",
    "\n",
    "## Cleanup\n",
    "\n",
    "If you want to remove the objects saved in your S3 bucket as part of this notebook, uncomment and run the following code."
   ]
  },
  {
   "cell_type": "code",
   "execution_count": null,
   "id": "7daa3a7a-8853-477d-a32d-7ae816d6afed",
   "metadata": {
    "tags": []
   },
   "outputs": [],
   "source": [
    "#!aws s3 rm s3://{bucket}/{prefix} --recursive"
   ]
  },
  {
   "attachments": {},
   "cell_type": "markdown",
   "metadata": {},
   "source": [
    "## Notebook CI Test Results\n",
    "\n",
    "This notebook was tested in multiple regions. The test results are as follows, except for us-west-2 which is shown at the top of the notebook.\n",
    "\n",
    "![This us-east-1 badge failed to load. Check your device's internet connectivity, otherwise the service is currently unavailable](https://prod.us-west-2.tcx-beacon.docs.aws.dev/sagemaker-nb/us-east-1/sagemaker-geospatial|london-mapmatch-and-reverse-geocode|london-mapmatch-and-reverse-geocode.ipynb)\n",
    "\n",
    "![This us-east-2 badge failed to load. Check your device's internet connectivity, otherwise the service is currently unavailable](https://prod.us-west-2.tcx-beacon.docs.aws.dev/sagemaker-nb/us-east-2/sagemaker-geospatial|london-mapmatch-and-reverse-geocode|london-mapmatch-and-reverse-geocode.ipynb)\n",
    "\n",
    "![This us-west-1 badge failed to load. Check your device's internet connectivity, otherwise the service is currently unavailable](https://prod.us-west-2.tcx-beacon.docs.aws.dev/sagemaker-nb/us-west-1/sagemaker-geospatial|london-mapmatch-and-reverse-geocode|london-mapmatch-and-reverse-geocode.ipynb)\n",
    "\n",
    "![This ca-central-1 badge failed to load. Check your device's internet connectivity, otherwise the service is currently unavailable](https://prod.us-west-2.tcx-beacon.docs.aws.dev/sagemaker-nb/ca-central-1/sagemaker-geospatial|london-mapmatch-and-reverse-geocode|london-mapmatch-and-reverse-geocode.ipynb)\n",
    "\n",
    "![This sa-east-1 badge failed to load. Check your device's internet connectivity, otherwise the service is currently unavailable](https://prod.us-west-2.tcx-beacon.docs.aws.dev/sagemaker-nb/sa-east-1/sagemaker-geospatial|london-mapmatch-and-reverse-geocode|london-mapmatch-and-reverse-geocode.ipynb)\n",
    "\n",
    "![This eu-west-1 badge failed to load. Check your device's internet connectivity, otherwise the service is currently unavailable](https://prod.us-west-2.tcx-beacon.docs.aws.dev/sagemaker-nb/eu-west-1/sagemaker-geospatial|london-mapmatch-and-reverse-geocode|london-mapmatch-and-reverse-geocode.ipynb)\n",
    "\n",
    "![This eu-west-2 badge failed to load. Check your device's internet connectivity, otherwise the service is currently unavailable](https://prod.us-west-2.tcx-beacon.docs.aws.dev/sagemaker-nb/eu-west-2/sagemaker-geospatial|london-mapmatch-and-reverse-geocode|london-mapmatch-and-reverse-geocode.ipynb)\n",
    "\n",
    "![This eu-west-3 badge failed to load. Check your device's internet connectivity, otherwise the service is currently unavailable](https://prod.us-west-2.tcx-beacon.docs.aws.dev/sagemaker-nb/eu-west-3/sagemaker-geospatial|london-mapmatch-and-reverse-geocode|london-mapmatch-and-reverse-geocode.ipynb)\n",
    "\n",
    "![This eu-central-1 badge failed to load. Check your device's internet connectivity, otherwise the service is currently unavailable](https://prod.us-west-2.tcx-beacon.docs.aws.dev/sagemaker-nb/eu-central-1/sagemaker-geospatial|london-mapmatch-and-reverse-geocode|london-mapmatch-and-reverse-geocode.ipynb)\n",
    "\n",
    "![This eu-north-1 badge failed to load. Check your device's internet connectivity, otherwise the service is currently unavailable](https://prod.us-west-2.tcx-beacon.docs.aws.dev/sagemaker-nb/eu-north-1/sagemaker-geospatial|london-mapmatch-and-reverse-geocode|london-mapmatch-and-reverse-geocode.ipynb)\n",
    "\n",
    "![This ap-southeast-1 badge failed to load. Check your device's internet connectivity, otherwise the service is currently unavailable](https://prod.us-west-2.tcx-beacon.docs.aws.dev/sagemaker-nb/ap-southeast-1/sagemaker-geospatial|london-mapmatch-and-reverse-geocode|london-mapmatch-and-reverse-geocode.ipynb)\n",
    "\n",
    "![This ap-southeast-2 badge failed to load. Check your device's internet connectivity, otherwise the service is currently unavailable](https://prod.us-west-2.tcx-beacon.docs.aws.dev/sagemaker-nb/ap-southeast-2/sagemaker-geospatial|london-mapmatch-and-reverse-geocode|london-mapmatch-and-reverse-geocode.ipynb)\n",
    "\n",
    "![This ap-northeast-1 badge failed to load. Check your device's internet connectivity, otherwise the service is currently unavailable](https://prod.us-west-2.tcx-beacon.docs.aws.dev/sagemaker-nb/ap-northeast-1/sagemaker-geospatial|london-mapmatch-and-reverse-geocode|london-mapmatch-and-reverse-geocode.ipynb)\n",
    "\n",
    "![This ap-northeast-2 badge failed to load. Check your device's internet connectivity, otherwise the service is currently unavailable](https://prod.us-west-2.tcx-beacon.docs.aws.dev/sagemaker-nb/ap-northeast-2/sagemaker-geospatial|london-mapmatch-and-reverse-geocode|london-mapmatch-and-reverse-geocode.ipynb)\n",
    "\n",
    "![This ap-south-1 badge failed to load. Check your device's internet connectivity, otherwise the service is currently unavailable](https://prod.us-west-2.tcx-beacon.docs.aws.dev/sagemaker-nb/ap-south-1/sagemaker-geospatial|london-mapmatch-and-reverse-geocode|london-mapmatch-and-reverse-geocode.ipynb)\n"
   ]
  }
 ],
 "metadata": {
  "instance_type": "ml.m5.4xlarge",
  "kernelspec": {
   "display_name": "conda_amazonei_pytorch_latest_p37",
   "language": "python",
   "name": "conda_amazonei_pytorch_latest_p37"
  },
  "language_info": {
   "codemirror_mode": {
    "name": "ipython",
    "version": 3
   },
   "file_extension": ".py",
   "mimetype": "text/x-python",
   "name": "python",
   "nbconvert_exporter": "python",
   "pygments_lexer": "ipython3",
   "version": "3.7.13"
  },
  "vscode": {
   "interpreter": {
    "hash": "aee8b7b246df8f9039afb4144a1f6fd8d2ca17a180786b69acc140d282b71a49"
   }
  }
 },
 "nbformat": 4,
 "nbformat_minor": 5
}