{
 "cells": [
  {
   "cell_type": "code",
   "execution_count": 1,
   "id": "f206fa07",
   "metadata": {
    "execution": {
     "iopub.execute_input": "2022-04-07T00:29:05.756519Z",
     "iopub.status.busy": "2022-04-07T00:29:05.755600Z",
     "iopub.status.idle": "2022-04-07T00:29:05.758121Z",
     "shell.execute_reply": "2022-04-07T00:29:05.757658Z"
    },
    "papermill": {
     "duration": 0.039134,
     "end_time": "2022-04-07T00:29:05.758296",
     "exception": false,
     "start_time": "2022-04-07T00:29:05.719162",
     "status": "completed"
    },
    "tags": [
     "injected-parameters"
    ]
   },
   "outputs": [],
   "source": [
    "# Parameters\n",
    "kms_key = \"arn:aws:kms:us-west-2:000000000000:1234abcd-12ab-34cd-56ef-1234567890ab\"\n"
   ]
  },
  {
   "cell_type": "markdown",
   "id": "cf26fae5",
   "metadata": {
    "papermill": {
     "duration": 0.028831,
     "end_time": "2022-04-07T00:29:05.815685",
     "exception": false,
     "start_time": "2022-04-07T00:29:05.786854",
     "status": "completed"
    },
    "tags": []
   },
   "source": [
    "# Orchestrating Jobs with Amazon SageMaker Model Building Pipelines\n",
    "\n",
    "Amazon SageMaker Model Building Pipelines offers machine learning (ML) application developers and operations engineers the ability to orchestrate SageMaker jobs and author reproducible ML pipelines. It also enables them to deploy custom-build models for inference in real-time with low latency, run offline inferences with Batch Transform, and track lineage of artifacts. They can institute sound operational practices in deploying and monitoring production workflows, deploying model artifacts, and tracking artifact lineage through a simple interface, adhering to safety and best practice paradigms for ML application development.\n",
    "\n",
    "The SageMaker Pipelines service supports a SageMaker Pipeline domain specific language (DSL), which is a declarative JSON specification. This DSL defines a directed acyclic graph (DAG) of pipeline parameters and SageMaker job steps. The SageMaker Python Software Developer Kit (SDK) streamlines the generation of the pipeline DSL using constructs that engineers and scientists are already familiar with."
   ]
  },
  {
   "cell_type": "markdown",
   "id": "059b8d31",
   "metadata": {
    "papermill": {
     "duration": 0.031772,
     "end_time": "2022-04-07T00:29:05.875831",
     "exception": false,
     "start_time": "2022-04-07T00:29:05.844059",
     "status": "completed"
    },
    "tags": []
   },
   "source": [
    "## SageMaker Pipelines\n",
    "\n",
    "SageMaker Pipelines supports the following activities, which are demonstrated in this notebook:\n",
    "\n",
    "* Pipelines - A DAG of steps and conditions to orchestrate SageMaker jobs and resource creation.\n",
    "* Processing job steps - A simplified, managed experience on SageMaker to run data processing workloads, such as feature engineering, data validation, model evaluation, and model interpretation.\n",
    "* Training job steps - An iterative process that teaches a model to make predictions by presenting examples from a training dataset.\n",
    "* Conditional execution steps - A step that provides conditional execution of branches in a pipeline.\n",
    "* Register model steps - A step that creates a model package resource in the Model Registry that can be used to create deployable models in Amazon SageMaker.\n",
    "* Create model steps - A step that creates a model for use in transform steps or later publication as an endpoint.\n",
    "* Transform job steps - A batch transform to preprocess datasets to remove noise or bias that interferes with training or inference from a dataset, get inferences from large datasets, and run inference when a persistent endpoint is not needed.\n",
    "* Fail steps - A step that stops a pipeline execution and marks the pipeline execution as failed.\n",
    "* Parametrized Pipeline executions - Enables variation in pipeline executions according to specified parameters."
   ]
  },
  {
   "cell_type": "markdown",
   "id": "e657550b",
   "metadata": {
    "papermill": {
     "duration": 0.03112,
     "end_time": "2022-04-07T00:29:05.935381",
     "exception": false,
     "start_time": "2022-04-07T00:29:05.904261",
     "status": "completed"
    },
    "tags": []
   },
   "source": [
    "## Notebook Overview\n",
    "\n",
    "This notebook shows how to:\n",
    "\n",
    "* Define a set of Pipeline parameters that can be used to parametrize a SageMaker Pipeline.\n",
    "* Define a Processing step that performs cleaning, feature engineering, and splitting the input data into train and test data sets.\n",
    "* Define a Training step that trains a model on the preprocessed train data set.\n",
    "* Define a Processing step that evaluates the trained model's performance on the test dataset.\n",
    "* Define a Create Model step that creates a model from the model artifacts used in training.\n",
    "* Define a Transform step that performs batch transformation based on the model that was created.\n",
    "* Define a Register Model step that creates a model package from the estimator and model artifacts used to train the model.\n",
    "* Define a Conditional step that measures a condition based on output from prior steps and conditionally executes other steps.\n",
    "* Define a Fail step with a customized error message indicating the cause of the execution failure.\n",
    "* Define and create a Pipeline definition in a DAG, with the defined parameters and steps.\n",
    "* Start a Pipeline execution and wait for execution to complete.\n",
    "* Download the model evaluation report from the S3 bucket for examination.\n",
    "* Start a second Pipeline execution."
   ]
  },
  {
   "cell_type": "markdown",
   "id": "daad6615",
   "metadata": {
    "papermill": {
     "duration": 0.028496,
     "end_time": "2022-04-07T00:29:05.992700",
     "exception": false,
     "start_time": "2022-04-07T00:29:05.964204",
     "status": "completed"
    },
    "tags": []
   },
   "source": [
    "## A SageMaker Pipeline\n",
    "\n",
    "The pipeline that you create follows a typical machine learning (ML) application pattern of preprocessing, training, evaluation, model creation, batch transformation, and model registration:\n",
    "\n",
    "![A typical ML Application pipeline](https://raw.githubusercontent.com/aws/amazon-sagemaker-examples/main/sagemaker-pipelines/tabular/abalone_build_train_deploy/img/pipeline-full.png)"
   ]
  },
  {
   "cell_type": "markdown",
   "id": "566bb8ca",
   "metadata": {
    "papermill": {
     "duration": 0.028549,
     "end_time": "2022-04-07T00:29:06.049638",
     "exception": false,
     "start_time": "2022-04-07T00:29:06.021089",
     "status": "completed"
    },
    "tags": []
   },
   "source": [
    "## Dataset\n",
    "\n",
    "The dataset you use is the [UCI Machine Learning Abalone Dataset](https://archive.ics.uci.edu/ml/datasets/abalone) [1].  The aim for this task is to determine the age of an abalone from its physical measurements. At the core, this is a regression problem.\n",
    "\n",
    "The dataset contains several features: length (the longest shell measurement), diameter (the diameter perpendicular to length), height (the height with meat in the shell), whole_weight (the weight of whole abalone), shucked_weight (the weight of meat), viscera_weight (the gut weight after bleeding), shell_weight (the weight after being dried), sex ('M', 'F', 'I' where 'I' is Infant), and rings (integer).\n",
    "\n",
    "The number of rings turns out to be a good approximation for age (age is rings + 1.5). However, to obtain this number requires cutting the shell through the cone, staining the section, and counting the number of rings through a microscope, which is a time-consuming task. However, the other physical measurements are easier to determine. You use the dataset to build a predictive model of the variable rings through these other physical measurements.\n",
    "\n",
    "Before you upload the data to an S3 bucket, upgrade the [Amazon SageMaker Python SDK](https://sagemaker.readthedocs.io/en/stable/) to the latest version and gather some constants you can use later in this notebook.\n",
    "\n",
    "[1] Dua, D. and Graff, C. (2019). [UCI Machine Learning Repository](http://archive.ics.uci.edu/ml). Irvine, CA: University of California, School of Information and Computer Science."
   ]
  },
  {
   "cell_type": "code",
   "execution_count": 2,
   "id": "7f344d9a",
   "metadata": {
    "execution": {
     "iopub.execute_input": "2022-04-07T00:29:06.113060Z",
     "iopub.status.busy": "2022-04-07T00:29:06.112235Z",
     "iopub.status.idle": "2022-04-07T00:29:27.066379Z",
     "shell.execute_reply": "2022-04-07T00:29:27.066847Z"
    },
    "papermill": {
     "duration": 20.988985,
     "end_time": "2022-04-07T00:29:27.067017",
     "exception": false,
     "start_time": "2022-04-07T00:29:06.078032",
     "status": "completed"
    },
    "tags": []
   },
   "outputs": [
    {
     "name": "stdout",
     "output_type": "stream",
     "text": [
      "/opt/conda/lib/python3.7/site-packages/secretstorage/dhcrypto.py:16: CryptographyDeprecationWarning: int_from_bytes is deprecated, use int.from_bytes instead\r\n",
      "  from cryptography.utils import int_from_bytes\r\n",
      "/opt/conda/lib/python3.7/site-packages/secretstorage/util.py:25: CryptographyDeprecationWarning: int_from_bytes is deprecated, use int.from_bytes instead\r\n",
      "  from cryptography.utils import int_from_bytes\r\n"
     ]
    },
    {
     "name": "stdout",
     "output_type": "stream",
     "text": [
      "Requirement already satisfied: sagemaker in /opt/conda/lib/python3.7/site-packages (2.69.1.dev0)\r\n"
     ]
    },
    {
     "name": "stdout",
     "output_type": "stream",
     "text": [
      "Collecting sagemaker\r\n"
     ]
    },
    {
     "name": "stdout",
     "output_type": "stream",
     "text": [
      "  Downloading sagemaker-2.83.0.tar.gz (520 kB)\r\n",
      "\u001b[?25l\r",
      "\u001b[K     |▋                               | 10 kB 27.8 MB/s eta 0:00:01\r",
      "\u001b[K     |█▎                              | 20 kB 28.0 MB/s eta 0:00:01\r",
      "\u001b[K     |██                              | 30 kB 4.5 MB/s eta 0:00:01\r",
      "\u001b[K     |██▌                             | 40 kB 5.6 MB/s eta 0:00:01\r",
      "\u001b[K     |███▏                            | 51 kB 1.5 MB/s eta 0:00:01\r",
      "\u001b[K     |███▉                            | 61 kB 1.8 MB/s eta 0:00:01\r",
      "\u001b[K     |████▍                           | 71 kB 2.1 MB/s eta 0:00:01\r",
      "\u001b[K     |█████                           | 81 kB 2.4 MB/s eta 0:00:01\r",
      "\u001b[K     |█████▊                          | 92 kB 2.7 MB/s eta 0:00:01\r",
      "\u001b[K     |██████▎                         | 102 kB 3.0 MB/s eta 0:00:01\r",
      "\u001b[K     |███████                         | 112 kB 3.0 MB/s eta 0:00:01\r",
      "\u001b[K     |███████▋                        | 122 kB 3.0 MB/s eta 0:00:01\r",
      "\u001b[K     |████████▏                       | 133 kB 3.0 MB/s eta 0:00:01\r",
      "\u001b[K     |████████▉                       | 143 kB 3.0 MB/s eta 0:00:01\r",
      "\u001b[K     |█████████▌                      | 153 kB 3.0 MB/s eta 0:00:01\r",
      "\u001b[K     |██████████                      | 163 kB 3.0 MB/s eta 0:00:01\r",
      "\u001b[K     |██████████▊                     | 174 kB 3.0 MB/s eta 0:00:01"
     ]
    },
    {
     "name": "stdout",
     "output_type": "stream",
     "text": [
      "\r",
      "\u001b[K     |███████████▍                    | 184 kB 3.0 MB/s eta 0:00:01\r",
      "\u001b[K     |████████████                    | 194 kB 3.0 MB/s eta 0:00:01\r",
      "\u001b[K     |████████████▋                   | 204 kB 3.0 MB/s eta 0:00:01\r",
      "\u001b[K     |█████████████▎                  | 215 kB 3.0 MB/s eta 0:00:01\r",
      "\u001b[K     |█████████████▉                  | 225 kB 3.0 MB/s eta 0:00:01\r",
      "\u001b[K     |██████████████▌                 | 235 kB 3.0 MB/s eta 0:00:01\r",
      "\u001b[K     |███████████████▏                | 245 kB 3.0 MB/s eta 0:00:01\r",
      "\u001b[K     |███████████████▊                | 256 kB 3.0 MB/s eta 0:00:01\r",
      "\u001b[K     |████████████████▍               | 266 kB 3.0 MB/s eta 0:00:01\r",
      "\u001b[K     |█████████████████               | 276 kB 3.0 MB/s eta 0:00:01\r",
      "\u001b[K     |█████████████████▋              | 286 kB 3.0 MB/s eta 0:00:01\r",
      "\u001b[K     |██████████████████▎             | 296 kB 3.0 MB/s eta 0:00:01\r",
      "\u001b[K     |███████████████████             | 307 kB 3.0 MB/s eta 0:00:01\r",
      "\u001b[K     |███████████████████▌            | 317 kB 3.0 MB/s eta 0:00:01\r",
      "\u001b[K     |████████████████████▏           | 327 kB 3.0 MB/s eta 0:00:01\r",
      "\u001b[K     |████████████████████▉           | 337 kB 3.0 MB/s eta 0:00:01\r",
      "\u001b[K     |█████████████████████▍          | 348 kB 3.0 MB/s eta 0:00:01\r",
      "\u001b[K     |██████████████████████          | 358 kB 3.0 MB/s eta 0:00:01\r",
      "\u001b[K     |██████████████████████▊         | 368 kB 3.0 MB/s eta 0:00:01\r",
      "\u001b[K     |███████████████████████▎        | 378 kB 3.0 MB/s eta 0:00:01\r",
      "\u001b[K     |████████████████████████        | 389 kB 3.0 MB/s eta 0:00:01\r",
      "\u001b[K     |████████████████████████▋       | 399 kB 3.0 MB/s eta 0:00:01\r",
      "\u001b[K     |█████████████████████████▏      | 409 kB 3.0 MB/s eta 0:00:01\r",
      "\u001b[K     |█████████████████████████▉      | 419 kB 3.0 MB/s eta 0:00:01\r",
      "\u001b[K     |██████████████████████████▌     | 430 kB 3.0 MB/s eta 0:00:01\r",
      "\u001b[K     |███████████████████████████     | 440 kB 3.0 MB/s eta 0:00:01\r",
      "\u001b[K     |███████████████████████████▊    | 450 kB 3.0 MB/s eta 0:00:01\r",
      "\u001b[K     |████████████████████████████▍   | 460 kB 3.0 MB/s eta 0:00:01\r",
      "\u001b[K     |█████████████████████████████   | 471 kB 3.0 MB/s eta 0:00:01\r",
      "\u001b[K     |█████████████████████████████▋  | 481 kB 3.0 MB/s eta 0:00:01\r",
      "\u001b[K     |██████████████████████████████▎ | 491 kB 3.0 MB/s eta 0:00:01\r",
      "\u001b[K     |██████████████████████████████▉ | 501 kB 3.0 MB/s eta 0:00:01\r",
      "\u001b[K     |███████████████████████████████▌| 512 kB 3.0 MB/s eta 0:00:01\r",
      "\u001b[K     |████████████████████████████████| 520 kB 3.0 MB/s \r\n",
      "\u001b[?25h"
     ]
    },
    {
     "name": "stdout",
     "output_type": "stream",
     "text": [
      "Collecting attrs==20.3.0\r\n",
      "  Downloading attrs-20.3.0-py2.py3-none-any.whl (49 kB)\r\n"
     ]
    },
    {
     "name": "stdout",
     "output_type": "stream",
     "text": [
      "\u001b[?25l\r",
      "\u001b[K     |██████▋                         | 10 kB 29.8 MB/s eta 0:00:01\r",
      "\u001b[K     |█████████████▎                  | 20 kB 35.5 MB/s eta 0:00:01\r",
      "\u001b[K     |████████████████████            | 30 kB 43.2 MB/s eta 0:00:01\r",
      "\u001b[K     |██████████████████████████▋     | 40 kB 48.3 MB/s eta 0:00:01\r",
      "\u001b[K     |████████████████████████████████| 49 kB 7.6 MB/s \r\n",
      "\u001b[?25h"
     ]
    },
    {
     "name": "stdout",
     "output_type": "stream",
     "text": [
      "Collecting boto3>=1.20.21\r\n",
      "  Downloading boto3-1.21.35-py3-none-any.whl (132 kB)\r\n",
      "\u001b[?25l\r",
      "\u001b[K     |██▌                             | 10 kB 33.7 MB/s eta 0:00:01\r",
      "\u001b[K     |█████                           | 20 kB 41.6 MB/s eta 0:00:01\r",
      "\u001b[K     |███████▍                        | 30 kB 50.7 MB/s eta 0:00:01\r",
      "\u001b[K     |██████████                      | 40 kB 56.2 MB/s eta 0:00:01\r",
      "\u001b[K     |████████████▍                   | 51 kB 59.2 MB/s eta 0:00:01\r",
      "\u001b[K     |██████████████▉                 | 61 kB 64.0 MB/s eta 0:00:01\r",
      "\u001b[K     |█████████████████▎              | 71 kB 66.2 MB/s eta 0:00:01\r",
      "\u001b[K     |███████████████████▉            | 81 kB 68.8 MB/s eta 0:00:01\r",
      "\u001b[K     |██████████████████████▎         | 92 kB 71.3 MB/s eta 0:00:01\r",
      "\u001b[K     |████████████████████████▊       | 102 kB 72.9 MB/s eta 0:00:01\r",
      "\u001b[K     |███████████████████████████▏    | 112 kB 72.9 MB/s eta 0:00:01\r",
      "\u001b[K     |█████████████████████████████▊  | 122 kB 72.9 MB/s eta 0:00:01\r",
      "\u001b[K     |████████████████████████████████| 132 kB 72.9 MB/s \r\n",
      "\u001b[?25hRequirement already satisfied: google-pasta in /opt/conda/lib/python3.7/site-packages (from sagemaker) (0.2.0)\r\n",
      "Requirement already satisfied: numpy>=1.9.0 in /opt/conda/lib/python3.7/site-packages (from sagemaker) (1.21.1)\r\n",
      "Requirement already satisfied: protobuf>=3.1 in /opt/conda/lib/python3.7/site-packages (from sagemaker) (3.17.3)\r\n",
      "Requirement already satisfied: protobuf3-to-dict>=0.1.5 in /opt/conda/lib/python3.7/site-packages (from sagemaker) (0.1.5)\r\n",
      "Requirement already satisfied: smdebug_rulesconfig==1.0.1 in /opt/conda/lib/python3.7/site-packages (from sagemaker) (1.0.1)\r\n"
     ]
    },
    {
     "name": "stdout",
     "output_type": "stream",
     "text": [
      "Requirement already satisfied: importlib-metadata>=1.4.0 in /opt/conda/lib/python3.7/site-packages (from sagemaker) (1.5.0)\r\n",
      "Requirement already satisfied: packaging>=20.0 in /opt/conda/lib/python3.7/site-packages (from sagemaker) (20.1)\r\n",
      "Requirement already satisfied: pandas in /opt/conda/lib/python3.7/site-packages (from sagemaker) (1.0.1)\r\n",
      "Requirement already satisfied: pathos in /opt/conda/lib/python3.7/site-packages (from sagemaker) (0.2.8)\r\n"
     ]
    },
    {
     "name": "stdout",
     "output_type": "stream",
     "text": [
      "Collecting botocore<1.25.0,>=1.24.35\r\n"
     ]
    },
    {
     "name": "stdout",
     "output_type": "stream",
     "text": [
      "  Downloading botocore-1.24.35-py3-none-any.whl (8.7 MB)\r\n",
      "\u001b[?25l\r",
      "\u001b[K     |                                | 10 kB 31.2 MB/s eta 0:00:01\r",
      "\u001b[K     |                                | 20 kB 37.1 MB/s eta 0:00:01\r",
      "\u001b[K     |▏                               | 30 kB 45.1 MB/s eta 0:00:01\r",
      "\u001b[K     |▏                               | 40 kB 47.1 MB/s eta 0:00:01\r",
      "\u001b[K     |▏                               | 51 kB 1.4 MB/s eta 0:00:07\r",
      "\u001b[K     |▎                               | 61 kB 1.6 MB/s eta 0:00:06\r",
      "\u001b[K     |▎                               | 71 kB 1.9 MB/s eta 0:00:05\r",
      "\u001b[K     |▎                               | 81 kB 2.2 MB/s eta 0:00:04\r",
      "\u001b[K     |▍                               | 92 kB 2.4 MB/s eta 0:00:04\r",
      "\u001b[K     |▍                               | 102 kB 2.7 MB/s eta 0:00:04\r",
      "\u001b[K     |▍                               | 112 kB 2.7 MB/s eta 0:00:04\r",
      "\u001b[K     |▌                               | 122 kB 2.7 MB/s eta 0:00:04\r",
      "\u001b[K     |▌                               | 133 kB 2.7 MB/s eta 0:00:04\r",
      "\u001b[K     |▌                               | 143 kB 2.7 MB/s eta 0:00:04\r",
      "\u001b[K     |▋                               | 153 kB 2.7 MB/s eta 0:00:04\r",
      "\u001b[K     |▋                               | 163 kB 2.7 MB/s eta 0:00:04\r",
      "\u001b[K     |▋                               | 174 kB 2.7 MB/s eta 0:00:04\r",
      "\u001b[K     |▊                               | 184 kB 2.7 MB/s eta 0:00:04\r",
      "\u001b[K     |▊                               | 194 kB 2.7 MB/s eta 0:00:04\r",
      "\u001b[K     |▊                               | 204 kB 2.7 MB/s eta 0:00:04\r",
      "\u001b[K     |▉                               | 215 kB 2.7 MB/s eta 0:00:04\r",
      "\u001b[K     |▉                               | 225 kB 2.7 MB/s eta 0:00:04\r",
      "\u001b[K     |▉                               | 235 kB 2.7 MB/s eta 0:00:04\r",
      "\u001b[K     |█                               | 245 kB 2.7 MB/s eta 0:00:04\r",
      "\u001b[K     |█                               | 256 kB 2.7 MB/s eta 0:00:04\r",
      "\u001b[K     |█                               | 266 kB 2.7 MB/s eta 0:00:04\r",
      "\u001b[K     |█                               | 276 kB 2.7 MB/s eta 0:00:04\r",
      "\u001b[K     |█                               | 286 kB 2.7 MB/s eta 0:00:04\r",
      "\u001b[K     |█                               | 296 kB 2.7 MB/s eta 0:00:04\r",
      "\u001b[K     |█▏                              | 307 kB 2.7 MB/s eta 0:00:04\r",
      "\u001b[K     |█▏                              | 317 kB 2.7 MB/s eta 0:00:04\r",
      "\u001b[K     |█▏                              | 327 kB 2.7 MB/s eta 0:00:04\r",
      "\u001b[K     |█▎                              | 337 kB 2.7 MB/s eta 0:00:04\r",
      "\u001b[K     |█▎                              | 348 kB 2.7 MB/s eta 0:00:04\r",
      "\u001b[K     |█▎                              | 358 kB 2.7 MB/s eta 0:00:04\r",
      "\u001b[K     |█▍                              | 368 kB 2.7 MB/s eta 0:00:04\r",
      "\u001b[K     |█▍                              | 378 kB 2.7 MB/s eta 0:00:04\r",
      "\u001b[K     |█▍                              | 389 kB 2.7 MB/s eta 0:00:04\r",
      "\u001b[K     |█▌                              | 399 kB 2.7 MB/s eta 0:00:04\r",
      "\u001b[K     |█▌                              | 409 kB 2.7 MB/s eta 0:00:04"
     ]
    },
    {
     "name": "stdout",
     "output_type": "stream",
     "text": [
      "\r",
      "\u001b[K     |█▌                              | 419 kB 2.7 MB/s eta 0:00:04\r",
      "\u001b[K     |█▋                              | 430 kB 2.7 MB/s eta 0:00:04\r",
      "\u001b[K     |█▋                              | 440 kB 2.7 MB/s eta 0:00:04\r",
      "\u001b[K     |█▋                              | 450 kB 2.7 MB/s eta 0:00:04\r",
      "\u001b[K     |█▊                              | 460 kB 2.7 MB/s eta 0:00:04\r",
      "\u001b[K     |█▊                              | 471 kB 2.7 MB/s eta 0:00:04\r",
      "\u001b[K     |█▉                              | 481 kB 2.7 MB/s eta 0:00:04\r",
      "\u001b[K     |█▉                              | 491 kB 2.7 MB/s eta 0:00:04\r",
      "\u001b[K     |█▉                              | 501 kB 2.7 MB/s eta 0:00:04\r",
      "\u001b[K     |██                              | 512 kB 2.7 MB/s eta 0:00:04\r",
      "\u001b[K     |██                              | 522 kB 2.7 MB/s eta 0:00:04\r",
      "\u001b[K     |██                              | 532 kB 2.7 MB/s eta 0:00:04\r",
      "\u001b[K     |██                              | 542 kB 2.7 MB/s eta 0:00:04\r",
      "\u001b[K     |██                              | 552 kB 2.7 MB/s eta 0:00:04\r",
      "\u001b[K     |██                              | 563 kB 2.7 MB/s eta 0:00:04\r",
      "\u001b[K     |██▏                             | 573 kB 2.7 MB/s eta 0:00:04\r",
      "\u001b[K     |██▏                             | 583 kB 2.7 MB/s eta 0:00:04\r",
      "\u001b[K     |██▏                             | 593 kB 2.7 MB/s eta 0:00:03\r",
      "\u001b[K     |██▎                             | 604 kB 2.7 MB/s eta 0:00:03\r",
      "\u001b[K     |██▎                             | 614 kB 2.7 MB/s eta 0:00:03\r",
      "\u001b[K     |██▎                             | 624 kB 2.7 MB/s eta 0:00:03\r",
      "\u001b[K     |██▍                             | 634 kB 2.7 MB/s eta 0:00:03\r",
      "\u001b[K     |██▍                             | 645 kB 2.7 MB/s eta 0:00:03\r",
      "\u001b[K     |██▍                             | 655 kB 2.7 MB/s eta 0:00:03\r",
      "\u001b[K     |██▌                             | 665 kB 2.7 MB/s eta 0:00:03\r",
      "\u001b[K     |██▌                             | 675 kB 2.7 MB/s eta 0:00:03\r",
      "\u001b[K     |██▌                             | 686 kB 2.7 MB/s eta 0:00:03\r",
      "\u001b[K     |██▋                             | 696 kB 2.7 MB/s eta 0:00:03\r",
      "\u001b[K     |██▋                             | 706 kB 2.7 MB/s eta 0:00:03\r",
      "\u001b[K     |██▋                             | 716 kB 2.7 MB/s eta 0:00:03\r",
      "\u001b[K     |██▊                             | 727 kB 2.7 MB/s eta 0:00:03\r",
      "\u001b[K     |██▊                             | 737 kB 2.7 MB/s eta 0:00:03\r",
      "\u001b[K     |██▊                             | 747 kB 2.7 MB/s eta 0:00:03\r",
      "\u001b[K     |██▉                             | 757 kB 2.7 MB/s eta 0:00:03\r",
      "\u001b[K     |██▉                             | 768 kB 2.7 MB/s eta 0:00:03\r",
      "\u001b[K     |██▉                             | 778 kB 2.7 MB/s eta 0:00:03\r",
      "\u001b[K     |███                             | 788 kB 2.7 MB/s eta 0:00:03\r",
      "\u001b[K     |███                             | 798 kB 2.7 MB/s eta 0:00:03\r",
      "\u001b[K     |███                             | 808 kB 2.7 MB/s eta 0:00:03\r",
      "\u001b[K     |███                             | 819 kB 2.7 MB/s eta 0:00:03\r",
      "\u001b[K     |███                             | 829 kB 2.7 MB/s eta 0:00:03\r",
      "\u001b[K     |███                             | 839 kB 2.7 MB/s eta 0:00:03\r",
      "\u001b[K     |███▏                            | 849 kB 2.7 MB/s eta 0:00:03\r",
      "\u001b[K     |███▏                            | 860 kB 2.7 MB/s eta 0:00:03\r",
      "\u001b[K     |███▏                            | 870 kB 2.7 MB/s eta 0:00:03\r",
      "\u001b[K     |███▎                            | 880 kB 2.7 MB/s eta 0:00:03\r",
      "\u001b[K     |███▎                            | 890 kB 2.7 MB/s eta 0:00:03\r",
      "\u001b[K     |███▎                            | 901 kB 2.7 MB/s eta 0:00:03\r",
      "\u001b[K     |███▍                            | 911 kB 2.7 MB/s eta 0:00:03\r",
      "\u001b[K     |███▍                            | 921 kB 2.7 MB/s eta 0:00:03\r",
      "\u001b[K     |███▌                            | 931 kB 2.7 MB/s eta 0:00:03\r",
      "\u001b[K     |███▌                            | 942 kB 2.7 MB/s eta 0:00:03\r",
      "\u001b[K     |███▌                            | 952 kB 2.7 MB/s eta 0:00:03\r",
      "\u001b[K     |███▋                            | 962 kB 2.7 MB/s eta 0:00:03\r",
      "\u001b[K     |███▋                            | 972 kB 2.7 MB/s eta 0:00:03\r",
      "\u001b[K     |███▋                            | 983 kB 2.7 MB/s eta 0:00:03\r",
      "\u001b[K     |███▊                            | 993 kB 2.7 MB/s eta 0:00:03\r",
      "\u001b[K     |███▊                            | 1.0 MB 2.7 MB/s eta 0:00:03\r",
      "\u001b[K     |███▊                            | 1.0 MB 2.7 MB/s eta 0:00:03\r",
      "\u001b[K     |███▉                            | 1.0 MB 2.7 MB/s eta 0:00:03\r",
      "\u001b[K     |███▉                            | 1.0 MB 2.7 MB/s eta 0:00:03\r",
      "\u001b[K     |███▉                            | 1.0 MB 2.7 MB/s eta 0:00:03\r",
      "\u001b[K     |████                            | 1.1 MB 2.7 MB/s eta 0:00:03\r",
      "\u001b[K     |████                            | 1.1 MB 2.7 MB/s eta 0:00:03\r",
      "\u001b[K     |████                            | 1.1 MB 2.7 MB/s eta 0:00:03\r",
      "\u001b[K     |████                            | 1.1 MB 2.7 MB/s eta 0:00:03\r",
      "\u001b[K     |████                            | 1.1 MB 2.7 MB/s eta 0:00:03\r",
      "\u001b[K     |████                            | 1.1 MB 2.7 MB/s eta 0:00:03\r",
      "\u001b[K     |████▏                           | 1.1 MB 2.7 MB/s eta 0:00:03\r",
      "\u001b[K     |████▏                           | 1.1 MB 2.7 MB/s eta 0:00:03\r",
      "\u001b[K     |████▏                           | 1.1 MB 2.7 MB/s eta 0:00:03\r",
      "\u001b[K     |████▎                           | 1.1 MB 2.7 MB/s eta 0:00:03\r",
      "\u001b[K     |████▎                           | 1.2 MB 2.7 MB/s eta 0:00:03\r",
      "\u001b[K     |████▎                           | 1.2 MB 2.7 MB/s eta 0:00:03\r",
      "\u001b[K     |████▍                           | 1.2 MB 2.7 MB/s eta 0:00:03\r",
      "\u001b[K     |████▍                           | 1.2 MB 2.7 MB/s eta 0:00:03\r",
      "\u001b[K     |████▍                           | 1.2 MB 2.7 MB/s eta 0:00:03\r",
      "\u001b[K     |████▌                           | 1.2 MB 2.7 MB/s eta 0:00:03\r",
      "\u001b[K     |████▌                           | 1.2 MB 2.7 MB/s eta 0:00:03\r",
      "\u001b[K     |████▌                           | 1.2 MB 2.7 MB/s eta 0:00:03\r",
      "\u001b[K     |████▋                           | 1.2 MB 2.7 MB/s eta 0:00:03\r",
      "\u001b[K     |████▋                           | 1.2 MB 2.7 MB/s eta 0:00:03\r",
      "\u001b[K     |████▋                           | 1.3 MB 2.7 MB/s eta 0:00:03\r",
      "\u001b[K     |████▊                           | 1.3 MB 2.7 MB/s eta 0:00:03\r",
      "\u001b[K     |████▊                           | 1.3 MB 2.7 MB/s eta 0:00:03\r",
      "\u001b[K     |████▊                           | 1.3 MB 2.7 MB/s eta 0:00:03\r",
      "\u001b[K     |████▉                           | 1.3 MB 2.7 MB/s eta 0:00:03\r",
      "\u001b[K     |████▉                           | 1.3 MB 2.7 MB/s eta 0:00:03\r",
      "\u001b[K     |████▉                           | 1.3 MB 2.7 MB/s eta 0:00:03\r",
      "\u001b[K     |█████                           | 1.3 MB 2.7 MB/s eta 0:00:03\r",
      "\u001b[K     |█████                           | 1.3 MB 2.7 MB/s eta 0:00:03\r",
      "\u001b[K     |█████                           | 1.4 MB 2.7 MB/s eta 0:00:03\r",
      "\u001b[K     |█████                           | 1.4 MB 2.7 MB/s eta 0:00:03\r",
      "\u001b[K     |█████                           | 1.4 MB 2.7 MB/s eta 0:00:03\r",
      "\u001b[K     |█████▏                          | 1.4 MB 2.7 MB/s eta 0:00:03\r",
      "\u001b[K     |█████▏                          | 1.4 MB 2.7 MB/s eta 0:00:03\r",
      "\u001b[K     |█████▏                          | 1.4 MB 2.7 MB/s eta 0:00:03\r",
      "\u001b[K     |█████▎                          | 1.4 MB 2.7 MB/s eta 0:00:03\r",
      "\u001b[K     |█████▎                          | 1.4 MB 2.7 MB/s eta 0:00:03\r",
      "\u001b[K     |█████▎                          | 1.4 MB 2.7 MB/s eta 0:00:03\r",
      "\u001b[K     |█████▍                          | 1.4 MB 2.7 MB/s eta 0:00:03\r",
      "\u001b[K     |█████▍                          | 1.5 MB 2.7 MB/s eta 0:00:03\r",
      "\u001b[K     |█████▍                          | 1.5 MB 2.7 MB/s eta 0:00:03\r",
      "\u001b[K     |█████▌                          | 1.5 MB 2.7 MB/s eta 0:00:03\r",
      "\u001b[K     |█████▌                          | 1.5 MB 2.7 MB/s eta 0:00:03\r",
      "\u001b[K     |█████▌                          | 1.5 MB 2.7 MB/s eta 0:00:03\r",
      "\u001b[K     |█████▋                          | 1.5 MB 2.7 MB/s eta 0:00:03\r",
      "\u001b[K     |█████▋                          | 1.5 MB 2.7 MB/s eta 0:00:03\r",
      "\u001b[K     |█████▋                          | 1.5 MB 2.7 MB/s eta 0:00:03\r",
      "\u001b[K     |█████▊                          | 1.5 MB 2.7 MB/s eta 0:00:03\r",
      "\u001b[K     |█████▊                          | 1.5 MB 2.7 MB/s eta 0:00:03\r",
      "\u001b[K     |█████▊                          | 1.6 MB 2.7 MB/s eta 0:00:03\r",
      "\u001b[K     |█████▉                          | 1.6 MB 2.7 MB/s eta 0:00:03\r",
      "\u001b[K     |█████▉                          | 1.6 MB 2.7 MB/s eta 0:00:03\r",
      "\u001b[K     |█████▉                          | 1.6 MB 2.7 MB/s eta 0:00:03\r",
      "\u001b[K     |██████                          | 1.6 MB 2.7 MB/s eta 0:00:03\r",
      "\u001b[K     |██████                          | 1.6 MB 2.7 MB/s eta 0:00:03\r",
      "\u001b[K     |██████                          | 1.6 MB 2.7 MB/s eta 0:00:03\r",
      "\u001b[K     |██████                          | 1.6 MB 2.7 MB/s eta 0:00:03\r",
      "\u001b[K     |██████                          | 1.6 MB 2.7 MB/s eta 0:00:03\r",
      "\u001b[K     |██████                          | 1.6 MB 2.7 MB/s eta 0:00:03\r",
      "\u001b[K     |██████▏                         | 1.7 MB 2.7 MB/s eta 0:00:03\r",
      "\u001b[K     |██████▏                         | 1.7 MB 2.7 MB/s eta 0:00:03\r",
      "\u001b[K     |██████▏                         | 1.7 MB 2.7 MB/s eta 0:00:03\r",
      "\u001b[K     |██████▎                         | 1.7 MB 2.7 MB/s eta 0:00:03\r",
      "\u001b[K     |██████▎                         | 1.7 MB 2.7 MB/s eta 0:00:03\r",
      "\u001b[K     |██████▎                         | 1.7 MB 2.7 MB/s eta 0:00:03\r",
      "\u001b[K     |██████▍                         | 1.7 MB 2.7 MB/s eta 0:00:03\r",
      "\u001b[K     |██████▍                         | 1.7 MB 2.7 MB/s eta 0:00:03\r",
      "\u001b[K     |██████▍                         | 1.7 MB 2.7 MB/s eta 0:00:03\r",
      "\u001b[K     |██████▌                         | 1.8 MB 2.7 MB/s eta 0:00:03\r",
      "\u001b[K     |██████▌                         | 1.8 MB 2.7 MB/s eta 0:00:03\r",
      "\u001b[K     |██████▌                         | 1.8 MB 2.7 MB/s eta 0:00:03\r",
      "\u001b[K     |██████▋                         | 1.8 MB 2.7 MB/s eta 0:00:03\r",
      "\u001b[K     |██████▋                         | 1.8 MB 2.7 MB/s eta 0:00:03\r",
      "\u001b[K     |██████▋                         | 1.8 MB 2.7 MB/s eta 0:00:03\r",
      "\u001b[K     |██████▊                         | 1.8 MB 2.7 MB/s eta 0:00:03\r",
      "\u001b[K     |██████▊                         | 1.8 MB 2.7 MB/s eta 0:00:03\r",
      "\u001b[K     |██████▉                         | 1.8 MB 2.7 MB/s eta 0:00:03\r",
      "\u001b[K     |██████▉                         | 1.8 MB 2.7 MB/s eta 0:00:03\r",
      "\u001b[K     |██████▉                         | 1.9 MB 2.7 MB/s eta 0:00:03\r",
      "\u001b[K     |███████                         | 1.9 MB 2.7 MB/s eta 0:00:03\r",
      "\u001b[K     |███████                         | 1.9 MB 2.7 MB/s eta 0:00:03\r",
      "\u001b[K     |███████                         | 1.9 MB 2.7 MB/s eta 0:00:03\r",
      "\u001b[K     |███████                         | 1.9 MB 2.7 MB/s eta 0:00:03\r",
      "\u001b[K     |███████                         | 1.9 MB 2.7 MB/s eta 0:00:03\r",
      "\u001b[K     |███████                         | 1.9 MB 2.7 MB/s eta 0:00:03\r",
      "\u001b[K     |███████▏                        | 1.9 MB 2.7 MB/s eta 0:00:03\r",
      "\u001b[K     |███████▏                        | 1.9 MB 2.7 MB/s eta 0:00:03\r",
      "\u001b[K     |███████▏                        | 1.9 MB 2.7 MB/s eta 0:00:03\r",
      "\u001b[K     |███████▎                        | 2.0 MB 2.7 MB/s eta 0:00:03\r",
      "\u001b[K     |███████▎                        | 2.0 MB 2.7 MB/s eta 0:00:03\r",
      "\u001b[K     |███████▎                        | 2.0 MB 2.7 MB/s eta 0:00:03\r",
      "\u001b[K     |███████▍                        | 2.0 MB 2.7 MB/s eta 0:00:03\r",
      "\u001b[K     |███████▍                        | 2.0 MB 2.7 MB/s eta 0:00:03\r",
      "\u001b[K     |███████▍                        | 2.0 MB 2.7 MB/s eta 0:00:03\r",
      "\u001b[K     |███████▌                        | 2.0 MB 2.7 MB/s eta 0:00:03\r",
      "\u001b[K     |███████▌                        | 2.0 MB 2.7 MB/s eta 0:00:03\r",
      "\u001b[K     |███████▌                        | 2.0 MB 2.7 MB/s eta 0:00:03\r",
      "\u001b[K     |███████▋                        | 2.0 MB 2.7 MB/s eta 0:00:03\r",
      "\u001b[K     |███████▋                        | 2.1 MB 2.7 MB/s eta 0:00:03"
     ]
    },
    {
     "name": "stdout",
     "output_type": "stream",
     "text": [
      "\r",
      "\u001b[K     |███████▋                        | 2.1 MB 2.7 MB/s eta 0:00:03\r",
      "\u001b[K     |███████▊                        | 2.1 MB 2.7 MB/s eta 0:00:03\r",
      "\u001b[K     |███████▊                        | 2.1 MB 2.7 MB/s eta 0:00:03\r",
      "\u001b[K     |███████▊                        | 2.1 MB 2.7 MB/s eta 0:00:03\r",
      "\u001b[K     |███████▉                        | 2.1 MB 2.7 MB/s eta 0:00:03\r",
      "\u001b[K     |███████▉                        | 2.1 MB 2.7 MB/s eta 0:00:03\r",
      "\u001b[K     |███████▉                        | 2.1 MB 2.7 MB/s eta 0:00:03\r",
      "\u001b[K     |████████                        | 2.1 MB 2.7 MB/s eta 0:00:03\r",
      "\u001b[K     |████████                        | 2.2 MB 2.7 MB/s eta 0:00:03\r",
      "\u001b[K     |████████                        | 2.2 MB 2.7 MB/s eta 0:00:03\r",
      "\u001b[K     |████████                        | 2.2 MB 2.7 MB/s eta 0:00:03\r",
      "\u001b[K     |████████                        | 2.2 MB 2.7 MB/s eta 0:00:03\r",
      "\u001b[K     |████████                        | 2.2 MB 2.7 MB/s eta 0:00:03\r",
      "\u001b[K     |████████▏                       | 2.2 MB 2.7 MB/s eta 0:00:03\r",
      "\u001b[K     |████████▏                       | 2.2 MB 2.7 MB/s eta 0:00:03\r",
      "\u001b[K     |████████▏                       | 2.2 MB 2.7 MB/s eta 0:00:03\r",
      "\u001b[K     |████████▎                       | 2.2 MB 2.7 MB/s eta 0:00:03\r",
      "\u001b[K     |████████▎                       | 2.2 MB 2.7 MB/s eta 0:00:03\r",
      "\u001b[K     |████████▎                       | 2.3 MB 2.7 MB/s eta 0:00:03\r",
      "\u001b[K     |████████▍                       | 2.3 MB 2.7 MB/s eta 0:00:03\r",
      "\u001b[K     |████████▍                       | 2.3 MB 2.7 MB/s eta 0:00:03\r",
      "\u001b[K     |████████▌                       | 2.3 MB 2.7 MB/s eta 0:00:03\r",
      "\u001b[K     |████████▌                       | 2.3 MB 2.7 MB/s eta 0:00:03\r",
      "\u001b[K     |████████▌                       | 2.3 MB 2.7 MB/s eta 0:00:03\r",
      "\u001b[K     |████████▋                       | 2.3 MB 2.7 MB/s eta 0:00:03\r",
      "\u001b[K     |████████▋                       | 2.3 MB 2.7 MB/s eta 0:00:03\r",
      "\u001b[K     |████████▋                       | 2.3 MB 2.7 MB/s eta 0:00:03\r",
      "\u001b[K     |████████▊                       | 2.3 MB 2.7 MB/s eta 0:00:03\r",
      "\u001b[K     |████████▊                       | 2.4 MB 2.7 MB/s eta 0:00:03\r",
      "\u001b[K     |████████▊                       | 2.4 MB 2.7 MB/s eta 0:00:03\r",
      "\u001b[K     |████████▉                       | 2.4 MB 2.7 MB/s eta 0:00:03\r",
      "\u001b[K     |████████▉                       | 2.4 MB 2.7 MB/s eta 0:00:03\r",
      "\u001b[K     |████████▉                       | 2.4 MB 2.7 MB/s eta 0:00:03\r",
      "\u001b[K     |█████████                       | 2.4 MB 2.7 MB/s eta 0:00:03\r",
      "\u001b[K     |█████████                       | 2.4 MB 2.7 MB/s eta 0:00:03\r",
      "\u001b[K     |█████████                       | 2.4 MB 2.7 MB/s eta 0:00:03\r",
      "\u001b[K     |█████████                       | 2.4 MB 2.7 MB/s eta 0:00:03\r",
      "\u001b[K     |█████████                       | 2.4 MB 2.7 MB/s eta 0:00:03\r",
      "\u001b[K     |█████████                       | 2.5 MB 2.7 MB/s eta 0:00:03\r",
      "\u001b[K     |█████████▏                      | 2.5 MB 2.7 MB/s eta 0:00:03\r",
      "\u001b[K     |█████████▏                      | 2.5 MB 2.7 MB/s eta 0:00:03\r",
      "\u001b[K     |█████████▏                      | 2.5 MB 2.7 MB/s eta 0:00:03\r",
      "\u001b[K     |█████████▎                      | 2.5 MB 2.7 MB/s eta 0:00:03\r",
      "\u001b[K     |█████████▎                      | 2.5 MB 2.7 MB/s eta 0:00:03\r",
      "\u001b[K     |█████████▎                      | 2.5 MB 2.7 MB/s eta 0:00:03\r",
      "\u001b[K     |█████████▍                      | 2.5 MB 2.7 MB/s eta 0:00:03\r",
      "\u001b[K     |█████████▍                      | 2.5 MB 2.7 MB/s eta 0:00:03\r",
      "\u001b[K     |█████████▍                      | 2.5 MB 2.7 MB/s eta 0:00:03\r",
      "\u001b[K     |█████████▌                      | 2.6 MB 2.7 MB/s eta 0:00:03\r",
      "\u001b[K     |█████████▌                      | 2.6 MB 2.7 MB/s eta 0:00:03\r",
      "\u001b[K     |█████████▌                      | 2.6 MB 2.7 MB/s eta 0:00:03\r",
      "\u001b[K     |█████████▋                      | 2.6 MB 2.7 MB/s eta 0:00:03\r",
      "\u001b[K     |█████████▋                      | 2.6 MB 2.7 MB/s eta 0:00:03\r",
      "\u001b[K     |█████████▋                      | 2.6 MB 2.7 MB/s eta 0:00:03\r",
      "\u001b[K     |█████████▊                      | 2.6 MB 2.7 MB/s eta 0:00:03\r",
      "\u001b[K     |█████████▊                      | 2.6 MB 2.7 MB/s eta 0:00:03\r",
      "\u001b[K     |█████████▊                      | 2.6 MB 2.7 MB/s eta 0:00:03\r",
      "\u001b[K     |█████████▉                      | 2.7 MB 2.7 MB/s eta 0:00:03\r",
      "\u001b[K     |█████████▉                      | 2.7 MB 2.7 MB/s eta 0:00:03\r",
      "\u001b[K     |█████████▉                      | 2.7 MB 2.7 MB/s eta 0:00:03\r",
      "\u001b[K     |██████████                      | 2.7 MB 2.7 MB/s eta 0:00:03\r",
      "\u001b[K     |██████████                      | 2.7 MB 2.7 MB/s eta 0:00:03\r",
      "\u001b[K     |██████████                      | 2.7 MB 2.7 MB/s eta 0:00:03\r",
      "\u001b[K     |██████████                      | 2.7 MB 2.7 MB/s eta 0:00:03\r",
      "\u001b[K     |██████████                      | 2.7 MB 2.7 MB/s eta 0:00:03\r",
      "\u001b[K     |██████████▏                     | 2.7 MB 2.7 MB/s eta 0:00:03\r",
      "\u001b[K     |██████████▏                     | 2.7 MB 2.7 MB/s eta 0:00:03\r",
      "\u001b[K     |██████████▏                     | 2.8 MB 2.7 MB/s eta 0:00:03\r",
      "\u001b[K     |██████████▎                     | 2.8 MB 2.7 MB/s eta 0:00:03\r",
      "\u001b[K     |██████████▎                     | 2.8 MB 2.7 MB/s eta 0:00:03\r",
      "\u001b[K     |██████████▎                     | 2.8 MB 2.7 MB/s eta 0:00:03\r",
      "\u001b[K     |██████████▍                     | 2.8 MB 2.7 MB/s eta 0:00:03\r",
      "\u001b[K     |██████████▍                     | 2.8 MB 2.7 MB/s eta 0:00:03\r",
      "\u001b[K     |██████████▍                     | 2.8 MB 2.7 MB/s eta 0:00:03\r",
      "\u001b[K     |██████████▌                     | 2.8 MB 2.7 MB/s eta 0:00:03\r",
      "\u001b[K     |██████████▌                     | 2.8 MB 2.7 MB/s eta 0:00:03\r",
      "\u001b[K     |██████████▌                     | 2.8 MB 2.7 MB/s eta 0:00:03\r",
      "\u001b[K     |██████████▋                     | 2.9 MB 2.7 MB/s eta 0:00:03\r",
      "\u001b[K     |██████████▋                     | 2.9 MB 2.7 MB/s eta 0:00:03\r",
      "\u001b[K     |██████████▋                     | 2.9 MB 2.7 MB/s eta 0:00:03\r",
      "\u001b[K     |██████████▊                     | 2.9 MB 2.7 MB/s eta 0:00:03\r",
      "\u001b[K     |██████████▊                     | 2.9 MB 2.7 MB/s eta 0:00:03\r",
      "\u001b[K     |██████████▊                     | 2.9 MB 2.7 MB/s eta 0:00:03\r",
      "\u001b[K     |██████████▉                     | 2.9 MB 2.7 MB/s eta 0:00:03\r",
      "\u001b[K     |██████████▉                     | 2.9 MB 2.7 MB/s eta 0:00:03\r",
      "\u001b[K     |██████████▉                     | 2.9 MB 2.7 MB/s eta 0:00:03\r",
      "\u001b[K     |███████████                     | 2.9 MB 2.7 MB/s eta 0:00:03\r",
      "\u001b[K     |███████████                     | 3.0 MB 2.7 MB/s eta 0:00:03\r",
      "\u001b[K     |███████████                     | 3.0 MB 2.7 MB/s eta 0:00:03\r",
      "\u001b[K     |███████████                     | 3.0 MB 2.7 MB/s eta 0:00:03\r",
      "\u001b[K     |███████████                     | 3.0 MB 2.7 MB/s eta 0:00:03\r",
      "\u001b[K     |███████████                     | 3.0 MB 2.7 MB/s eta 0:00:03\r",
      "\u001b[K     |███████████▏ "
     ]
    },
    {
     "name": "stdout",
     "output_type": "stream",
     "text": [
      "                   | 3.0 MB 2.7 MB/s eta 0:00:03\r",
      "\u001b[K     |███████████▏                    | 3.0 MB 2.7 MB/s eta 0:00:03\r",
      "\u001b[K     |███████████▏                    | 3.0 MB 2.7 MB/s eta 0:00:03\r",
      "\u001b[K     |███████████▎                    | 3.0 MB 2.7 MB/s eta 0:00:03\r",
      "\u001b[K     |███████████▎                    | 3.1 MB 2.7 MB/s eta 0:00:03\r",
      "\u001b[K     |███████████▎                    | 3.1 MB 2.7 MB/s eta 0:00:03\r",
      "\u001b[K     |███████████▍                    | 3.1 MB 2.7 MB/s eta 0:00:03\r",
      "\u001b[K     |███████████▍                    | 3.1 MB 2.7 MB/s eta 0:00:03\r",
      "\u001b[K     |███████████▍                    | 3.1 MB 2.7 MB/s eta 0:00:03\r",
      "\u001b[K     |███████████▌                    | 3.1 MB 2.7 MB/s eta 0:00:03\r",
      "\u001b[K     |███████████▌                    | 3.1 MB 2.7 MB/s eta 0:00:03\r",
      "\u001b[K     |███████████▌                    | 3.1 MB 2.7 MB/s eta 0:00:03\r",
      "\u001b[K     |███████████▋                    | 3.1 MB 2.7 MB/s eta 0:00:03\r",
      "\u001b[K     |███████████▋                    | 3.1 MB 2.7 MB/s eta 0:00:03\r",
      "\u001b[K     |███████████▋                    | 3.2 MB 2.7 MB/s eta 0:00:03\r",
      "\u001b[K     |███████████▊                    | 3.2 MB 2.7 MB/s eta 0:00:03\r",
      "\u001b[K     |███████████▊                    | 3.2 MB 2.7 MB/s eta 0:00:03\r",
      "\u001b[K     |███████████▊                    | 3.2 MB 2.7 MB/s eta 0:00:03\r",
      "\u001b[K     |███████████▉                    | 3.2 MB 2.7 MB/s eta 0:00:03\r",
      "\u001b[K     |███████████▉                    | 3.2 MB 2.7 MB/s eta 0:00:03\r",
      "\u001b[K     |████████████                    | 3.2 MB 2.7 MB/s eta 0:00:03\r",
      "\u001b[K     |████████████                    | 3.2 MB 2.7 MB/s eta 0:00:03\r",
      "\u001b[K     |████████████                    | 3.2 MB 2.7 MB/s eta 0:00:03\r",
      "\u001b[K     |████████████                    | 3.2 MB 2.7 MB/s eta 0:00:03\r",
      "\u001b[K     |████████████                    | 3.3 MB 2.7 MB/s eta 0:00:03\r",
      "\u001b[K     |████████████                    | 3.3 MB 2.7 MB/s eta 0:00:03\r",
      "\u001b[K     |████████████▏                   | 3.3 MB 2.7 MB/s eta 0:00:02\r",
      "\u001b[K     |████████████▏                   | 3.3 MB 2.7 MB/s eta 0:00:02\r",
      "\u001b[K     |████████████▏                   | 3.3 MB 2.7 MB/s eta 0:00:02\r",
      "\u001b[K     |████████████▎                   | 3.3 MB 2.7 MB/s eta 0:00:02\r",
      "\u001b[K     |████████████▎                   | 3.3 MB 2.7 MB/s eta 0:00:02\r",
      "\u001b[K     |████████████▎                   | 3.3 MB 2.7 MB/s eta 0:00:02\r",
      "\u001b[K     |████████████▍                   | 3.3 MB 2.7 MB/s eta 0:00:02\r",
      "\u001b[K     |████████████▍                   | 3.3 MB 2.7 MB/s eta 0:00:02\r",
      "\u001b[K     |████████████▍                   | 3.4 MB 2.7 MB/s eta 0:00:02\r",
      "\u001b[K     |████████████▌                   | 3.4 MB 2.7 MB/s eta 0:00:02\r",
      "\u001b[K     |████████████▌                   | 3.4 MB 2.7 MB/s eta 0:00:02\r",
      "\u001b[K     |████████████▌                   | 3.4 MB 2.7 MB/s eta 0:00:02\r",
      "\u001b[K     |████████████▋                   | 3.4 MB 2.7 MB/s eta 0:00:02\r",
      "\u001b[K     |████████████▋                   | 3.4 MB 2.7 MB/s eta 0:00:02\r",
      "\u001b[K     |████████████▋                   | 3.4 MB 2.7 MB/s eta 0:00:02\r",
      "\u001b[K     |████████████▊                   | 3.4 MB 2.7 MB/s eta 0:00:02\r",
      "\u001b[K     |████████████▊                   | 3.4 MB 2.7 MB/s eta 0:00:02\r",
      "\u001b[K     |████████████▊                   | 3.5 MB 2.7 MB/s eta 0:00:02\r",
      "\u001b[K     |████████████▉                   | 3.5 MB 2.7 MB/s eta 0:00:02\r",
      "\u001b[K     |████████████▉                   | 3.5 MB 2.7 MB/s eta 0:00:02\r",
      "\u001b[K     |████████████▉                   | 3.5 MB 2.7 MB/s eta 0:00:02\r",
      "\u001b[K     |█████████████                   | 3.5 MB 2.7 MB/s eta 0:00:02\r",
      "\u001b[K     |█████████████                   | 3.5 MB 2.7 MB/s eta 0:00:02\r",
      "\u001b[K     |█████████████                   | 3.5 MB 2.7 MB/s eta 0:00:02\r",
      "\u001b[K     |█████████████                   | 3.5 MB 2.7 MB/s eta 0:00:02\r",
      "\u001b[K     |█████████████                   | 3.5 MB 2.7 MB/s eta 0:00:02\r",
      "\u001b[K     |█████████████                   | 3.5 MB 2.7 MB/s eta 0:00:02\r",
      "\u001b[K     |█████████████▏                  | 3.6 MB 2.7 MB/s eta 0:00:02\r",
      "\u001b[K     |█████████████▏                  | 3.6 MB 2.7 MB/s eta 0:00:02\r",
      "\u001b[K     |█████████████▏                  | 3.6 MB 2.7 MB/s eta 0:00:02\r",
      "\u001b[K     |█████████████▎                  | 3.6 MB 2.7 MB/s eta 0:00:02\r",
      "\u001b[K     |█████████████▎                  | 3.6 MB 2.7 MB/s eta 0:00:02\r",
      "\u001b[K     |█████████████▎                  | 3.6 MB 2.7 MB/s eta 0:00:02\r",
      "\u001b[K     |█████████████▍                  | 3.6 MB 2.7 MB/s eta 0:00:02\r",
      "\u001b[K     |█████████████▍                  | 3.6 MB 2.7 MB/s eta 0:00:02\r",
      "\u001b[K     |█████████████▍                  | 3.6 MB 2.7 MB/s eta 0:00:02\r",
      "\u001b[K     |█████████████▌                  | 3.6 MB 2.7 MB/s eta 0:00:02\r",
      "\u001b[K     |█████████████▌                  | 3.7 MB 2.7 MB/s eta 0:00:02\r",
      "\u001b[K     |█████████████▋                  | 3.7 MB 2.7 MB/s eta 0:00:02\r",
      "\u001b[K     |█████████████▋                  | 3.7 MB 2.7 MB/s eta 0:00:02\r",
      "\u001b[K     |█████████████▋                  | 3.7 MB 2.7 MB/s eta 0:00:02\r",
      "\u001b[K     |█████████████▊                  | 3.7 MB 2.7 MB/s eta 0:00:02\r",
      "\u001b[K     |█████████████▊                  | 3.7 MB 2.7 MB/s eta 0:00:02\r",
      "\u001b[K     |█████████████▊                  | 3.7 MB 2.7 MB/s eta 0:00:02\r",
      "\u001b[K     |█████████████▉                  | 3.7 MB 2.7 MB/s eta 0:00:02\r",
      "\u001b[K     |█████████████▉                  | 3.7 MB 2.7 MB/s eta 0:00:02\r",
      "\u001b[K     |█████████████▉                  | 3.7 MB 2.7 MB/s eta 0:00:02\r",
      "\u001b[K     |██████████████                  | 3.8 MB 2.7 MB/s eta 0:00:02\r",
      "\u001b[K     |██████████████                  | 3.8 MB 2.7 MB/s eta 0:00:02\r",
      "\u001b[K     |██████████████                  | 3.8 MB 2.7 MB/s eta 0:00:02\r",
      "\u001b[K     |██████████████                  | 3.8 MB 2.7 MB/s eta 0:00:02\r",
      "\u001b[K     |██████████████                  | 3.8 MB 2.7 MB/s eta 0:00:02\r",
      "\u001b[K     |██████████████                  | 3.8 MB 2.7 MB/s eta 0:00:02\r",
      "\u001b[K     |██████████████▏                 | 3.8 MB 2.7 MB/s eta 0:00:02\r",
      "\u001b[K     |██████████████▏                 | 3.8 MB 2.7 MB/s eta 0:00:02\r",
      "\u001b[K     |██████████████▏                 | 3.8 MB 2.7 MB/s eta 0:00:02\r",
      "\u001b[K     |██████████████▎                 | 3.9 MB 2.7 MB/s eta 0:00:02\r",
      "\u001b[K     |██████████████▎                 | 3.9 MB 2.7 MB/s eta 0:00:02\r",
      "\u001b[K     |██████████████▎                 | 3.9 MB 2.7 MB/s eta 0:00:02\r",
      "\u001b[K     |██████████████▍                 | 3.9 MB 2.7 MB/s eta 0:00:02\r",
      "\u001b[K     |██████████████▍                 | 3.9 MB 2.7 MB/s eta 0:00:02\r",
      "\u001b[K     |██████████████▍                 | 3.9 MB 2.7 MB/s eta 0:00:02\r",
      "\u001b[K     |██████████████▌                 | 3.9 MB 2.7 MB/s eta 0:00:02\r",
      "\u001b[K     |██████████████▌                 | 3.9 MB 2.7 MB/s eta 0:00:02\r",
      "\u001b[K     |██████████████▌                 | 3.9 MB 2.7 MB/s eta 0:00:02\r",
      "\u001b[K     |██████████████▋                 | 3.9 MB 2.7 MB/s eta 0:00:02\r",
      "\u001b[K     |██████████████▋                 | 4.0 MB 2.7 MB/s eta 0:00:02\r",
      "\u001b[K     |██████████████▋                 | 4.0 MB 2.7 MB/s eta 0:00:02\r",
      "\u001b[K     |██████████████▊                 | 4.0 MB 2.7 MB/s eta 0:00:02\r",
      "\u001b[K     |██████████████▊                 | 4.0 MB 2.7 MB/s eta 0:00:02\r",
      "\u001b[K     |██████████████▊                 | 4.0 MB 2.7 MB/s eta 0:00:02\r",
      "\u001b[K     |██████████████▉                 | 4.0 MB 2.7 MB/s eta 0:00:02\r",
      "\u001b[K     |██████████████▉                 | 4.0 MB 2.7 MB/s eta 0:00:02\r",
      "\u001b[K     |██████████████▉                 | 4.0 MB 2.7 MB/s eta 0:00:02\r",
      "\u001b[K     |███████████████                 | 4.0 MB 2.7 MB/s eta 0:00:02\r",
      "\u001b[K     |███████████████                 | 4.0 MB 2.7 MB/s eta 0:00:02\r",
      "\u001b[K     |███████████████                 | 4.1 MB 2.7 MB/s eta 0:00:02\r",
      "\u001b[K     |███████████████                 | 4.1 MB 2.7 MB/s eta 0:00:02\r",
      "\u001b[K     |███████████████                 | 4.1 MB 2.7 MB/s eta 0:00:02\r",
      "\u001b[K     |███████████████                 | 4.1 MB 2.7 MB/s eta 0:00:02\r",
      "\u001b[K     |███████████████▏                | 4.1 MB 2.7 MB/s eta 0:00:02\r",
      "\u001b[K     |███████████████▏                | 4.1 MB 2.7 MB/s eta 0:00:02\r",
      "\u001b[K     |███████████████▎                | 4.1 MB 2.7 MB/s eta 0:00:02\r",
      "\u001b[K     |███████████████▎                | 4.1 MB 2.7 MB/s eta 0:00:02\r",
      "\u001b[K     |███████████████▎                | 4.1 MB 2.7 MB/s eta 0:00:02\r",
      "\u001b[K     |███████████████▍                | 4.1 MB 2.7 MB/s eta 0:00:02\r",
      "\u001b[K     |███████████████▍                | 4.2 MB 2.7 MB/s eta 0:00:02\r",
      "\u001b[K     |███████████████▍                | 4.2 MB 2.7 MB/s eta 0:00:02\r",
      "\u001b[K     |███████████████▌                | 4.2 MB 2.7 MB/s eta 0:00:02\r",
      "\u001b[K     |███████████████▌                | 4.2 MB 2.7 MB/s eta 0:00:02\r",
      "\u001b[K     |███████████████▌                | 4.2 MB 2.7 MB/s eta 0:00:02\r",
      "\u001b[K     |███████████████▋                | 4.2 MB 2.7 MB/s eta 0:00:02\r",
      "\u001b[K     |███████████████▋                | 4.2 MB 2.7 MB/s eta 0:00:02\r",
      "\u001b[K     |███████████████▋                | 4.2 MB 2.7 MB/s eta 0:00:02\r",
      "\u001b[K     |███████████████▊                | 4.2 MB 2.7 MB/s eta 0:00:02\r",
      "\u001b[K     |███████████████▊                | 4.2 MB 2.7 MB/s eta 0:00:02\r",
      "\u001b[K     |███████████████▊                | 4.3 MB 2.7 MB/s eta 0:00:02\r",
      "\u001b[K     |███████████████▉                | 4.3 MB 2.7 MB/s eta 0:00:02\r",
      "\u001b[K     |███████████████▉                | 4.3 MB 2.7 MB/s eta 0:00:02\r",
      "\u001b[K     |███████████████▉                | 4.3 MB 2.7 MB/s eta 0:00:02\r",
      "\u001b[K     |████████████████                | 4.3 MB 2.7 MB/s eta 0:00:02\r",
      "\u001b[K     |████████████████                | 4.3 MB 2.7 MB/s eta 0:00:02\r",
      "\u001b[K     |████████████████                | 4.3 MB 2.7 MB/s eta 0:00:02\r",
      "\u001b[K     |████████████████                | 4.3 MB 2.7 MB/s eta 0:00:02\r",
      "\u001b[K     |████████████████                | 4.3 MB 2.7 MB/s eta 0:00:02\r",
      "\u001b[K     |████████████████                | 4.4 MB 2.7 MB/s eta 0:00:02\r",
      "\u001b[K     |████████████████▏               | 4.4 MB 2.7 MB/s eta 0:00:02\r",
      "\u001b[K     |████████████████▏               | 4.4 MB 2.7 MB/s eta 0:00:02\r",
      "\u001b[K     |████████████████▏               | 4.4 MB 2.7 MB/s eta 0:00:02\r",
      "\u001b[K     |████████████████▎               | 4.4 MB 2.7 MB/s eta 0:00:02\r",
      "\u001b[K     |████████████████▎               | 4.4 MB 2.7 MB/s eta 0:00:02\r",
      "\u001b[K     |████████████████▎               | 4.4 MB 2.7 MB/s eta 0:00:02\r",
      "\u001b[K     |████████████████▍               | 4.4 MB 2.7 MB/s eta 0:00:02\r",
      "\u001b[K     |████████████████▍               | 4.4 MB 2.7 MB/s eta 0:00:02\r",
      "\u001b[K     |████████████████▍               | 4.4 MB 2.7 MB/s eta 0:00:02\r",
      "\u001b[K     |████████████████▌               | 4.5 MB 2.7 MB/s eta 0:00:02\r",
      "\u001b[K     |████████████████▌               | 4.5 MB 2.7 MB/s eta 0:00:02\r",
      "\u001b[K     |████████████████▌               | 4.5 MB 2.7 MB/s eta 0:00:02\r",
      "\u001b[K     |████████████████▋               | 4.5 MB 2.7 MB/s eta 0:00:02\r",
      "\u001b[K     |████████████████▋               | 4.5 MB 2.7 MB/s eta 0:00:02\r",
      "\u001b[K     |████████████████▋               | 4.5 MB 2.7 MB/s eta 0:00:02\r",
      "\u001b[K     |████████████████▊               | 4.5 MB 2.7 MB/s eta 0:00:02\r",
      "\u001b[K     |████████████████▊               | 4.5 MB 2.7 MB/s eta 0:00:02\r",
      "\u001b[K     |████████████████▊               | 4.5 MB 2.7 MB/s eta 0:00:02\r",
      "\u001b[K     |████████████████▉               | 4.5 MB 2.7 MB/s eta 0:00:02\r",
      "\u001b[K     |████████████████▉               | 4.6 MB 2.7 MB/s eta 0:00:02\r",
      "\u001b[K     |█████████████████               | 4.6 MB 2.7 MB/s eta 0:00:02\r",
      "\u001b[K     |█████████████████               | 4.6 MB 2.7 MB/s eta 0:00:02\r",
      "\u001b[K     |█████████████████               | 4.6 MB 2.7 MB/s eta 0:00:02\r",
      "\u001b[K     |█████████████████               | 4.6 MB 2.7 MB/s eta 0:00:02\r",
      "\u001b[K     |█████████████████               | 4.6 MB 2.7 MB/s eta 0:00:02\r",
      "\u001b[K     |█████████████████               | 4.6 MB 2.7 MB/s eta 0:00:02\r",
      "\u001b[K     |█████████████████▏              | 4.6 MB 2.7 MB/s eta 0:00:02\r",
      "\u001b[K     |█████████████████▏              | 4.6 MB 2.7 MB/s eta 0:00:02\r",
      "\u001b[K     |█████████████████▏              | 4.6 MB 2.7 MB/s eta 0:00:02\r",
      "\u001b[K     |█████████████████▎              | 4.7 MB 2.7 MB/s eta 0:00:02\r",
      "\u001b[K     |█████████████████▎              | 4.7 MB 2.7 MB/s eta 0:00:02\r",
      "\u001b[K     |█████████████████▎              | 4.7 MB 2.7 MB/s eta 0:00:02\r",
      "\u001b[K     |█████████████████▍              | 4.7 MB 2.7 MB/s eta 0:00:02\r",
      "\u001b[K     |█████████████████▍              | 4.7 MB 2.7 MB/s eta 0:00:02\r",
      "\u001b[K     |█████████████████▍              | 4.7 MB 2.7 MB/s eta 0:00:02\r",
      "\u001b[K     |█████████████████▌              | 4.7 MB 2.7 MB/s eta 0:00:02\r",
      "\u001b[K     |█████████████████▌              | 4.7 MB 2.7 MB/s eta 0:00:02\r",
      "\u001b[K     |█████████████████▌              | 4.7 MB 2.7 MB/s eta 0:00:02\r",
      "\u001b[K     |█████████████████▋              | 4.8 MB 2.7 MB/s eta 0:00:02\r",
      "\u001b[K     |█████████████████▋              | 4.8 MB 2.7 MB/s eta 0:00:02\r",
      "\u001b[K     |█████████████████▋              | 4.8 MB 2.7 MB/s eta 0:00:02\r",
      "\u001b[K     |█████████████████▊              | 4.8 MB 2.7 MB/s eta 0:00:02\r",
      "\u001b[K     |█████████████████▊              | 4.8 MB 2.7 MB/s eta 0:00:02\r",
      "\u001b[K     |█████████████████▊              | 4.8 MB 2.7 MB/s eta 0:00:02\r",
      "\u001b[K     |█████████████████▉              | 4.8 MB 2.7 MB/s eta 0:00:02\r",
      "\u001b[K     |█████████████████▉              | 4.8 MB 2.7 MB/s eta 0:00:02\r",
      "\u001b[K     |█████████████████▉              | 4.8 MB 2.7 MB/s eta 0:00:02\r",
      "\u001b[K     |██████████████████              | 4.8 MB 2.7 MB/s eta 0:00:02\r",
      "\u001b[K     |██████████████████              | 4.9 MB 2.7 MB/s eta 0:00:02\r",
      "\u001b[K     |██████████████████              | 4.9 MB 2.7 MB/s eta 0:00:02\r",
      "\u001b[K     |██████████████████              | 4.9 MB 2.7 MB/s eta 0:00:02\r",
      "\u001b[K     |██████████████████              | 4.9 MB 2.7 MB/s eta 0:00:02\r",
      "\u001b[K     |██████████████████              | 4.9 MB 2.7 MB/s eta 0:00:02\r",
      "\u001b[K     |██████████████████▏             | 4.9 MB 2.7 MB/s eta 0:00:02\r",
      "\u001b[K     |██████████████████▏             | 4.9 MB 2.7 MB/s eta 0:00:02\r",
      "\u001b[K     |██████████████████▏             | 4.9 MB 2.7 MB/s eta 0:00:02\r",
      "\u001b[K     |██████████████████▎             | 4.9 MB 2.7 MB/s eta 0:00:02\r",
      "\u001b[K     |██████████████████▎             | 4.9 MB 2.7 MB/s eta 0:00:02\r",
      "\u001b[K"
     ]
    },
    {
     "name": "stdout",
     "output_type": "stream",
     "text": [
      "     |██████████████████▎             | 5.0 MB 2.7 MB/s eta 0:00:02\r",
      "\u001b[K     |██████████████████▍             | 5.0 MB 2.7 MB/s eta 0:00:02\r",
      "\u001b[K     |██████████████████▍             | 5.0 MB 2.7 MB/s eta 0:00:02\r",
      "\u001b[K     |██████████████████▍             | 5.0 MB 2.7 MB/s eta 0:00:02\r",
      "\u001b[K     |██████████████████▌             | 5.0 MB 2.7 MB/s eta 0:00:02\r",
      "\u001b[K     |██████████████████▌             | 5.0 MB 2.7 MB/s eta 0:00:02\r",
      "\u001b[K     |██████████████████▋             | 5.0 MB 2.7 MB/s eta 0:00:02\r",
      "\u001b[K     |██████████████████▋             | 5.0 MB 2.7 MB/s eta 0:00:02\r",
      "\u001b[K     |██████████████████▋             | 5.0 MB 2.7 MB/s eta 0:00:02\r",
      "\u001b[K     |██████████████████▊             | 5.0 MB 2.7 MB/s eta 0:00:02\r",
      "\u001b[K     |██████████████████▊             | 5.1 MB 2.7 MB/s eta 0:00:02\r",
      "\u001b[K     |██████████████████▊             | 5.1 MB 2.7 MB/s eta 0:00:02\r",
      "\u001b[K     |██████████████████▉             | 5.1 MB 2.7 MB/s eta 0:00:02\r",
      "\u001b[K     |██████████████████▉             | 5.1 MB 2.7 MB/s eta 0:00:02\r",
      "\u001b[K     |██████████████████▉             | 5.1 MB 2.7 MB/s eta 0:00:02\r",
      "\u001b[K     |███████████████████             | 5.1 MB 2.7 MB/s eta 0:00:02\r",
      "\u001b[K     |███████████████████             | 5.1 MB 2.7 MB/s eta 0:00:02\r",
      "\u001b[K     |███████████████████             | 5.1 MB 2.7 MB/s eta 0:00:02\r",
      "\u001b[K     |███████████████████             | 5.1 MB 2.7 MB/s eta 0:00:02\r",
      "\u001b[K     |███████████████████             | 5.2 MB 2.7 MB/s eta 0:00:02\r",
      "\u001b[K     |███████████████████             | 5.2 MB 2.7 MB/s eta 0:00:02\r",
      "\u001b[K     |███████████████████▏            | 5.2 MB 2.7 MB/s eta 0:00:02\r",
      "\u001b[K     |███████████████████▏            | 5.2 MB 2.7 MB/s eta 0:00:02\r",
      "\u001b[K     |███████████████████▏            | 5.2 MB 2.7 MB/s eta 0:00:02\r",
      "\u001b[K     |███████████████████▎            | 5.2 MB 2.7 MB/s eta 0:00:02\r",
      "\u001b[K     |███████████████████▎            | 5.2 MB 2.7 MB/s eta 0:00:02\r",
      "\u001b[K     |███████████████████▎            | 5.2 MB 2.7 MB/s eta 0:00:02\r",
      "\u001b[K     |███████████████████▍            | 5.2 MB 2.7 MB/s eta 0:00:02\r",
      "\u001b[K     |███████████████████▍            | 5.2 MB 2.7 MB/s eta 0:00:02\r",
      "\u001b[K     |███████████████████▍            | 5.3 MB 2.7 MB/s eta 0:00:02\r",
      "\u001b[K     |███████████████████▌            | 5.3 MB 2.7 MB/s eta 0:00:02\r",
      "\u001b[K     |███████████████████▌            | 5.3 MB 2.7 MB/s eta 0:00:02\r",
      "\u001b[K     |███████████████████▌            | 5.3 MB 2.7 MB/s eta 0:00:02\r",
      "\u001b[K     |███████████████████▋            | 5.3 MB 2.7 MB/s eta 0:00:02\r",
      "\u001b[K     |███████████████████▋            | 5.3 MB 2.7 MB/s eta 0:00:02\r",
      "\u001b[K     |███████████████████▋            | 5.3 MB 2.7 MB/s eta 0:00:02\r",
      "\u001b[K     |███████████████████▊            | 5.3 MB 2.7 MB/s eta 0:00:02\r",
      "\u001b[K     |███████████████████▊            | 5.3 MB 2.7 MB/s eta 0:00:02\r",
      "\u001b[K     |███████████████████▊            | 5.3 MB 2.7 MB/s eta 0:00:02\r",
      "\u001b[K     |███████████████████▉            | 5.4 MB 2.7 MB/s eta 0:00:02\r",
      "\u001b[K     |███████████████████▉            | 5.4 MB 2.7 MB/s eta 0:00:02\r",
      "\u001b[K     |███████████████████▉            | 5.4 MB 2.7 MB/s eta 0:00:02\r",
      "\u001b[K     |████████████████████            | 5.4 MB 2.7 MB/s eta 0:00:02\r",
      "\u001b[K     |████████████████████            | 5.4 MB 2.7 MB/s eta 0:00:02\r",
      "\u001b[K     |████████████████████            | 5.4 MB 2.7 MB/s eta 0:00:02\r",
      "\u001b[K     |████████████████████            | 5.4 MB 2.7 MB/s eta 0:00:02\r",
      "\u001b[K     |████████████████████            | 5.4 MB 2.7 MB/s eta 0:00:02\r",
      "\u001b[K     |████████████████████            | 5.4 MB 2.7 MB/s eta 0:00:02\r",
      "\u001b[K     |████████████████████▏           | 5.4 MB 2.7 MB/s eta 0:00:02\r",
      "\u001b[K     |████████████████████▏           | 5.5 MB 2.7 MB/s eta 0:00:02\r",
      "\u001b[K     |████████████████████▎           | 5.5 MB 2.7 MB/s eta 0:00:02\r",
      "\u001b[K     |████████████████████▎           | 5.5 MB 2.7 MB/s eta 0:00:02\r",
      "\u001b[K     |████████████████████▎           | 5.5 MB 2.7 MB/s eta 0:00:02\r",
      "\u001b[K     |████████████████████▍           | 5.5 MB 2.7 MB/s eta 0:00:02\r",
      "\u001b[K     |████████████████████▍           | 5.5 MB 2.7 MB/s eta 0:00:02\r",
      "\u001b[K     |████████████████████▍           | 5.5 MB 2.7 MB/s eta 0:00:02\r",
      "\u001b[K     |████████████████████▌           | 5.5 MB 2.7 MB/s eta 0:00:02\r",
      "\u001b[K     |████████████████████▌           | 5.5 MB 2.7 MB/s eta 0:00:02\r",
      "\u001b[K     |████████████████████▌           | 5.6 MB 2.7 MB/s eta 0:00:02\r",
      "\u001b[K     |████████████████████▋           | 5.6 MB 2.7 MB/s eta 0:00:02\r",
      "\u001b[K     |████████████████████▋           | 5.6 MB 2.7 MB/s eta 0:00:02\r",
      "\u001b[K     |████████████████████▋           | 5.6 MB 2.7 MB/s eta 0:00:02\r",
      "\u001b[K     |████████████████████▊           | 5.6 MB 2.7 MB/s eta 0:00:02\r",
      "\u001b[K     |████████████████████▊           | 5.6 MB 2.7 MB/s eta 0:00:02\r",
      "\u001b[K     |████████████████████▊           | 5.6 MB 2.7 MB/s eta 0:00:02\r",
      "\u001b[K     |████████████████████▉           | 5.6 MB 2.7 MB/s eta 0:00:02\r",
      "\u001b[K     |████████████████████▉           | 5.6 MB 2.7 MB/s eta 0:00:02\r",
      "\u001b[K     |████████████████████▉           | 5.6 MB 2.7 MB/s eta 0:00:02\r",
      "\u001b[K     |█████████████████████           | 5.7 MB 2.7 MB/s eta 0:00:02\r",
      "\u001b[K     |█████████████████████           | 5.7 MB 2.7 MB/s eta 0:00:02\r",
      "\u001b[K     |█████████████████████           | 5.7 MB 2.7 MB/s eta 0:00:02\r",
      "\u001b[K     |█████████████████████           | 5.7 MB 2.7 MB/s eta 0:00:02\r",
      "\u001b[K     |█████████████████████           | 5.7 MB 2.7 MB/s eta 0:00:02\r",
      "\u001b[K     |█████████████████████           | 5.7 MB 2.7 MB/s eta 0:00:02\r",
      "\u001b[K     |█████████████████████▏          | 5.7 MB 2.7 MB/s eta 0:00:02\r",
      "\u001b[K     |█████████████████████▏          | 5.7 MB 2.7 MB/s eta 0:00:02\r",
      "\u001b[K     |█████████████████████▏          | 5.7 MB 2.7 MB/s eta 0:00:02\r",
      "\u001b[K     |█████████████████████▎          | 5.7 MB 2.7 MB/s eta 0:00:02\r",
      "\u001b[K     |█████████████████████▎          | 5.8 MB 2.7 MB/s eta 0:00:02\r",
      "\u001b[K     |█████████████████████▎          | 5.8 MB 2.7 MB/s eta 0:00:02\r",
      "\u001b[K     |█████████████████████▍          | 5.8 MB 2.7 MB/s eta 0:00:02\r",
      "\u001b[K     |█████████████████████▍          | 5.8 MB 2.7 MB/s eta 0:00:02\r",
      "\u001b[K     |█████████████████████▍          | 5.8 MB 2.7 MB/s eta 0:00:02\r",
      "\u001b[K     |█████████████████████▌          | 5.8 MB 2.7 MB/s eta 0:00:02\r",
      "\u001b[K     |█████████████████████▌          | 5.8 MB 2.7 MB/s eta 0:00:02\r",
      "\u001b[K     |█████████████████████▌          | 5.8 MB 2.7 MB/s eta 0:00:02\r",
      "\u001b[K     |█████████████████████▋          | 5.8 MB 2.7 MB/s eta 0:00:02\r",
      "\u001b[K     |█████████████████████▋          | 5.8 MB 2.7 MB/s eta 0:00:02\r",
      "\u001b[K     |█████████████████████▋          | 5.9 MB 2.7 MB/s eta 0:00:02\r",
      "\u001b[K     |█████████████████████▊          | 5.9 MB 2.7 MB/s eta 0:00:02\r",
      "\u001b[K     |█████████████████████▊          | 5.9 MB 2.7 MB/s eta 0:00:02\r",
      "\u001b[K     |█████████████████████▊          | 5.9 MB 2.7 MB/s eta 0:00:02\r",
      "\u001b[K     |█████████████████████▉          | 5.9 MB 2.7 MB/s eta 0:00:02\r",
      "\u001b[K     |█████████████████████▉          | 5.9 MB 2.7 MB/s eta 0:00:02\r",
      "\u001b[K     |█████████████████████▉          | 5.9 MB 2.7 MB/s eta 0:00:02\r",
      "\u001b[K     |██████████████████████          | 5.9 MB 2.7 MB/s eta 0:00:02\r",
      "\u001b[K     |██████████████████████          | 5.9 MB 2.7 MB/s eta 0:00:02\r",
      "\u001b[K     |██████████████████████          | 5.9 MB 2.7 MB/s eta 0:00:02\r",
      "\u001b[K     |██████████████████████          | 6.0 MB 2.7 MB/s eta 0:00:02\r",
      "\u001b[K     |██████████████████████          | 6.0 MB 2.7 MB/s eta 0:00:01\r",
      "\u001b[K     |██████████████████████▏         | 6.0 MB 2.7 MB/s eta 0:00:01\r",
      "\u001b[K     |██████████████████████▏         | 6.0 MB 2.7 MB/s eta 0:00:01\r",
      "\u001b[K     |██████████████████████▏         | 6.0 MB 2.7 MB/s eta 0:00:01\r",
      "\u001b[K     |██████████████████████▎         | 6.0 MB 2.7 MB/s eta 0:00:01\r",
      "\u001b[K     |██████████████████████▎         | 6.0 MB 2.7 MB/s eta 0:00:01\r",
      "\u001b[K     |██████████████████████▎         | 6.0 MB 2.7 MB/s eta 0:00:01\r",
      "\u001b[K     |██████████████████████▍         | 6.0 MB 2.7 MB/s eta 0:00:01\r",
      "\u001b[K     |██████████████████████▍         | 6.1 MB 2.7 MB/s eta 0:00:01\r",
      "\u001b[K     |██████████████████████▍         | 6.1 MB 2.7 MB/s eta 0:00:01\r",
      "\u001b[K     |██████████████████████▌         | 6.1 MB 2.7 MB/s eta 0:00:01\r",
      "\u001b[K     |██████████████████████▌         | 6.1 MB 2.7 MB/s eta 0:00:01\r",
      "\u001b[K     |██████████████████████▌         | 6.1 MB 2.7 MB/s eta 0:00:01\r",
      "\u001b[K     |██████████████████████▋         | 6.1 MB 2.7 MB/s eta 0:00:01\r",
      "\u001b[K     |██████████████████████▋         | 6.1 MB 2.7 MB/s eta 0:00:01\r",
      "\u001b[K     |██████████████████████▋         | 6.1 MB 2.7 MB/s eta 0:00:01\r",
      "\u001b[K     |██████████████████████▊         | 6.1 MB 2.7 MB/s eta 0:00:01\r",
      "\u001b[K     |██████████████████████▊         | 6.1 MB 2.7 MB/s eta 0:00:01\r",
      "\u001b[K     |██████████████████████▊         | 6.2 MB 2.7 MB/s eta 0:00:01\r",
      "\u001b[K     |██████████████████████▉         | 6.2 MB 2.7 MB/s eta 0:00:01\r",
      "\u001b[K     |██████████████████████▉         | 6.2 MB 2.7 MB/s eta 0:00:01\r",
      "\u001b[K     |██████████████████████▉         | 6.2 MB 2.7 MB/s eta 0:00:01\r",
      "\u001b[K     |███████████████████████         | 6.2 MB 2.7 MB/s eta 0:00:01\r",
      "\u001b[K     |███████████████████████         | 6.2 MB 2.7 MB/s eta 0:00:01\r",
      "\u001b[K     |███████████████████████         | 6.2 MB 2.7 MB/s eta 0:00:01\r",
      "\u001b[K     |███████████████████████         | 6.2 MB 2.7 MB/s eta 0:00:01\r",
      "\u001b[K     |███████████████████████         | 6.2 MB 2.7 MB/s eta 0:00:01\r",
      "\u001b[K     |███████████████████████         | 6.2 MB 2.7 MB/s eta 0:00:01\r",
      "\u001b[K     |███████████████████████▏        | 6.3 MB 2.7 MB/s eta 0:00:01\r",
      "\u001b[K     |███████████████████████▏        | 6.3 MB 2.7 MB/s eta 0:00:01\r",
      "\u001b[K     |███████████████████████▏        | 6.3 MB 2.7 MB/s eta 0:00:01\r",
      "\u001b[K     |███████████████████████▎        | 6.3 MB 2.7 MB/s eta 0:00:01\r",
      "\u001b[K     |███████████████████████▎        | 6.3 MB 2.7 MB/s eta 0:00:01\r",
      "\u001b[K     |███████████████████████▎        | 6.3 MB 2.7 MB/s eta 0:00:01\r",
      "\u001b[K     |███████████████████████▍        | 6.3 MB 2.7 MB/s eta 0:00:01\r",
      "\u001b[K     |███████████████████████▍        | 6.3 MB 2.7 MB/s eta 0:00:01\r",
      "\u001b[K     |███████████████████████▍        | 6.3 MB 2.7 MB/s eta 0:00:01\r",
      "\u001b[K     |███████████████████████▌        | 6.3 MB 2.7 MB/s eta 0:00:01\r",
      "\u001b[K     |███████████████████████▌        | 6.4 MB 2.7 MB/s eta 0:00:01\r",
      "\u001b[K     |███████████████████████▌        | 6.4 MB 2.7 MB/s eta 0:00:01\r",
      "\u001b[K     |███████████████████████▋        | 6.4 MB 2.7 MB/s eta 0:00:01\r",
      "\u001b[K     |███████████████████████▋        | 6.4 MB 2.7 MB/s eta 0:00:01\r",
      "\u001b[K     |███████████████████████▊        | 6.4 MB 2.7 MB/s eta 0:00:01\r",
      "\u001b[K     |███████████████████████▊        | 6.4 MB 2.7 MB/s eta 0:00:01\r",
      "\u001b[K     |███████████████████████▊        | 6.4 MB 2.7 MB/s eta 0:00:01\r",
      "\u001b[K     |███████████████████████▉        | 6.4 MB 2.7 MB/s eta 0:00:01\r",
      "\u001b[K     |███████████████████████▉        | 6.4 MB 2.7 MB/s eta 0:00:01\r",
      "\u001b[K     |███████████████████████▉        | 6.5 MB 2.7 MB/s eta 0:00:01\r",
      "\u001b[K     |████████████████████████        | 6.5 MB 2.7 MB/s eta 0:00:01\r",
      "\u001b[K     |████████████████████████        | 6.5 MB 2.7 MB/s eta 0:00:01\r",
      "\u001b[K     |████████████████████████        | 6.5 MB 2.7 MB/s eta 0:00:01\r",
      "\u001b[K     |████████████████████████        | 6.5 MB 2.7 MB/s eta 0:00:01\r",
      "\u001b[K     |████████████████████████        | 6.5 MB 2.7 MB/s eta 0:00:01\r",
      "\u001b[K     |████████████████████████        | 6.5 MB 2.7 MB/s eta 0:00:01\r",
      "\u001b[K     |████████████████████████▏       | 6.5 MB 2.7 MB/s eta 0:00:01\r",
      "\u001b[K     |████████████████████████▏       | 6.5 MB 2.7 MB/s eta 0:00:01\r",
      "\u001b[K     |████████████████████████▏       | 6.5 MB 2.7 MB/s eta 0:00:01\r",
      "\u001b[K     |████████████████████████▎       | 6.6 MB 2.7 MB/s eta 0:00:01\r",
      "\u001b[K     |████████████████████████▎       | 6.6 MB 2.7 MB/s eta 0:00:01\r",
      "\u001b[K     |████████████████████████▎       | 6.6 MB 2.7 MB/s eta 0:00:01\r",
      "\u001b[K     |████████████████████████▍       | 6.6 MB 2.7 MB/s eta 0:00:01\r",
      "\u001b[K     |████████████████████████▍       | 6.6 MB 2.7 MB/s eta 0:00:01\r",
      "\u001b[K     |████████████████████████▍       | 6.6 MB 2.7 MB/s eta 0:00:01\r",
      "\u001b[K     |████████████████████████▌       | 6.6 MB 2.7 MB/s eta 0:00:01\r",
      "\u001b[K     |████████████████████████▌       | 6.6 MB 2.7 MB/s eta 0:00:01\r",
      "\u001b[K     |████████████████████████▌       | 6.6 MB 2.7 MB/s eta 0:00:01\r",
      "\u001b[K     |████████████████████████▋       | 6.6 MB 2.7 MB/s eta 0:00:01\r",
      "\u001b[K     |████████████████████████▋       | 6.7 MB 2.7 MB/s eta 0:00:01\r",
      "\u001b[K     |████████████████████████▋       | 6.7 MB 2.7 MB/s eta 0:00:01\r",
      "\u001b[K     |████████████████████████▊       | 6.7 MB 2.7 MB/s eta 0:00:01\r",
      "\u001b[K     |████████████████████████▊       | 6.7 MB 2.7 MB/s eta 0:00:01"
     ]
    },
    {
     "name": "stdout",
     "output_type": "stream",
     "text": [
      "\r",
      "\u001b[K     |████████████████████████▊       | 6.7 MB 2.7 MB/s eta 0:00:01\r",
      "\u001b[K     |████████████████████████▉       | 6.7 MB 2.7 MB/s eta 0:00:01\r",
      "\u001b[K     |████████████████████████▉       | 6.7 MB 2.7 MB/s eta 0:00:01\r",
      "\u001b[K     |████████████████████████▉       | 6.7 MB 2.7 MB/s eta 0:00:01\r",
      "\u001b[K     |█████████████████████████       | 6.7 MB 2.7 MB/s eta 0:00:01\r",
      "\u001b[K     |█████████████████████████       | 6.7 MB 2.7 MB/s eta 0:00:01\r",
      "\u001b[K     |█████████████████████████       | 6.8 MB 2.7 MB/s eta 0:00:01\r",
      "\u001b[K     |█████████████████████████       | 6.8 MB 2.7 MB/s eta 0:00:01\r",
      "\u001b[K     |█████████████████████████       | 6.8 MB 2.7 MB/s eta 0:00:01\r",
      "\u001b[K     |█████████████████████████       | 6.8 MB 2.7 MB/s eta 0:00:01\r",
      "\u001b[K     |█████████████████████████▏      | 6.8 MB 2.7 MB/s eta 0:00:01\r",
      "\u001b[K     |█████████████████████████▏      | 6.8 MB 2.7 MB/s eta 0:00:01\r",
      "\u001b[K     |█████████████████████████▏      | 6.8 MB 2.7 MB/s eta 0:00:01\r",
      "\u001b[K     |█████████████████████████▎      | 6.8 MB 2.7 MB/s eta 0:00:01\r",
      "\u001b[K     |█████████████████████████▎      | 6.8 MB 2.7 MB/s eta 0:00:01\r",
      "\u001b[K     |█████████████████████████▍      | 6.9 MB 2.7 MB/s eta 0:00:01\r",
      "\u001b[K     |█████████████████████████▍      | 6.9 MB 2.7 MB/s eta 0:00:01\r",
      "\u001b[K     |█████████████████████████▍      | 6.9 MB 2.7 MB/s eta 0:00:01\r",
      "\u001b[K     |█████████████████████████▌      | 6.9 MB 2.7 MB/s eta 0:00:01\r",
      "\u001b[K     |█████████████████████████▌      | 6.9 MB 2.7 MB/s eta 0:00:01\r",
      "\u001b[K     |█████████████████████████▌      | 6.9 MB 2.7 MB/s eta 0:00:01\r",
      "\u001b[K     |█████████████████████████▋      | 6.9 MB 2.7 MB/s eta 0:00:01\r",
      "\u001b[K     |█████████████████████████▋      | 6.9 MB 2.7 MB/s eta 0:00:01\r",
      "\u001b[K     |█████████████████████████▋      | 6.9 MB 2.7 MB/s eta 0:00:01\r",
      "\u001b[K     |█████████████████████████▊      | 6.9 MB 2.7 MB/s eta 0:00:01\r",
      "\u001b[K     |█████████████████████████▊      | 7.0 MB 2.7 MB/s eta 0:00:01\r",
      "\u001b[K     |█████████████████████████▊      | 7.0 MB 2.7 MB/s eta 0:00:01\r",
      "\u001b[K     |█████████████████████████▉      | 7.0 MB 2.7 MB/s eta 0:00:01\r",
      "\u001b[K     |█████████████████████████▉      | 7.0 MB 2.7 MB/s eta 0:00:01\r",
      "\u001b[K     |█████████████████████████▉      | 7.0 MB 2.7 MB/s eta 0:00:01\r",
      "\u001b[K     |██████████████████████████      | 7.0 MB 2.7 MB/s eta 0:00:01\r",
      "\u001b[K     |██████████████████████████      | 7.0 MB 2.7 MB/s eta 0:00:01\r",
      "\u001b[K     |██████████████████████████      | 7.0 MB 2.7 MB/s eta 0:00:01\r",
      "\u001b[K     |██████████████████████████      | 7.0 MB 2.7 MB/s eta 0:00:01\r",
      "\u001b[K     |██████████████████████████      | 7.0 MB 2.7 MB/s eta 0:00:01\r",
      "\u001b[K     |██████████████████████████      | 7.1 MB 2.7 MB/s eta 0:00:01\r",
      "\u001b[K     |██████████████████████████▏     | 7.1 MB 2.7 MB/s eta 0:00:01\r",
      "\u001b[K     |██████████████████████████▏     | 7.1 MB 2.7 MB/s eta 0:00:01\r",
      "\u001b[K     |██████████████████████████▏     | 7.1 MB 2.7 MB/s eta 0:00:01\r",
      "\u001b[K     |██████████████████████████▎     | 7.1 MB 2.7 MB/s eta 0:00:01\r",
      "\u001b[K     |██████████████████████████▎     | 7.1 MB 2.7 MB/s eta 0:00:01\r",
      "\u001b[K     |██████████████████████████▎     | 7.1 MB 2.7 MB/s eta 0:00:01\r",
      "\u001b[K     |██████████████████████████▍     | 7.1 MB 2.7 MB/s eta 0:00:01\r",
      "\u001b[K     |██████████████████████████▍     | 7.1 MB 2.7 MB/s eta 0:00:01\r",
      "\u001b[K     |██████████████████████████▍     | 7.1 MB 2.7 MB/s eta 0:00:01\r",
      "\u001b[K     |██████████████████████████▌     | 7.2 MB 2.7 MB/s eta 0:00:01\r",
      "\u001b[K     |██████████████████████████▌     | 7.2 MB 2.7 MB/s eta 0:00:01\r",
      "\u001b[K     |██████████████████████████▌     | 7.2 MB 2.7 MB/s eta 0:00:01\r",
      "\u001b[K     |██████████████████████████▋     | 7.2 MB 2.7 MB/s eta 0:00:01\r",
      "\u001b[K     |██████████████████████████▋     | 7.2 MB 2.7 MB/s eta 0:00:01\r",
      "\u001b[K     |██████████████████████████▋     | 7.2 MB 2.7 MB/s eta 0:00:01\r",
      "\u001b[K     |██████████████████████████▊     | 7.2 MB 2.7 MB/s eta 0:00:01\r",
      "\u001b[K     |██████████████████████████▊     | 7.2 MB 2.7 MB/s eta 0:00:01\r",
      "\u001b[K     |██████████████████████████▊     | 7.2 MB 2.7 MB/s eta 0:00:01\r",
      "\u001b[K     |██████████████████████████▉     | 7.2 MB 2.7 MB/s eta 0:00:01\r",
      "\u001b[K     |██████████████████████████▉     | 7.3 MB 2.7 MB/s eta 0:00:01\r",
      "\u001b[K     |██████████████████████████▉     | 7.3 MB 2.7 MB/s eta 0:00:01\r",
      "\u001b[K     |███████████████████████████     | 7.3 MB 2.7 MB/s eta 0:00:01\r",
      "\u001b[K     |███████████████████████████     | 7.3 MB 2.7 MB/s eta 0:00:01\r",
      "\u001b[K     |███████████████████████████     | 7.3 MB 2.7 MB/s eta 0:00:01\r",
      "\u001b[K     |███████████████████████████     | 7.3 MB 2.7 MB/s eta 0:00:01\r",
      "\u001b[K     |███████████████████████████     | 7.3 MB 2.7 MB/s eta 0:00:01\r",
      "\u001b[K     |███████████████████████████▏    | 7.3 MB 2.7 MB/s eta 0:00:01\r",
      "\u001b[K     |███████████████████████████▏    | 7.3 MB 2.7 MB/s eta 0:00:01\r",
      "\u001b[K     |███████████████████████████▏    | 7.4 MB 2.7 MB/s eta 0:00:01\r",
      "\u001b[K     |███████████████████████████▎    | 7.4 MB 2.7 MB/s eta 0:00:01\r",
      "\u001b[K     |███████████████████████████▎    | 7.4 MB 2.7 MB/s eta 0:00:01\r",
      "\u001b[K     |███████████████████████████▎    | 7.4 MB 2.7 MB/s eta 0:00:01\r",
      "\u001b[K     |███████████████████████████▍    | 7.4 MB 2.7 MB/s eta 0:00:01\r",
      "\u001b[K     |███████████████████████████▍    | 7.4 MB 2.7 MB/s eta 0:00:01\r",
      "\u001b[K     |███████████████████████████▍    | 7.4 MB 2.7 MB/s eta 0:00:01\r",
      "\u001b[K     |███████████████████████████▌    | 7.4 MB 2.7 MB/s eta 0:00:01\r",
      "\u001b[K     |███████████████████████████▌    | 7.4 MB 2.7 MB/s eta 0:00:01\r",
      "\u001b[K     |███████████████████████████▌    | 7.4 MB 2.7 MB/s eta 0:00:01\r",
      "\u001b[K     |███████████████████████████▋    | 7.5 MB 2.7 MB/s eta 0:00:01\r",
      "\u001b[K     |███████████████████████████▋    | 7.5 MB 2.7 MB/s eta 0:00:01\r",
      "\u001b[K     |███████████████████████████▋    | 7.5 MB 2.7 MB/s eta 0:00:01\r",
      "\u001b[K     |███████████████████████████▊    | 7.5 MB 2.7 MB/s eta 0:00:01\r",
      "\u001b[K     |███████████████████████████▊    | 7.5 MB 2.7 MB/s eta 0:00:01\r",
      "\u001b[K     |███████████████████████████▊    | 7.5 MB 2.7 MB/s eta 0:00:01\r",
      "\u001b[K     |███████████████████████████▉    | 7.5 MB 2.7 MB/s eta 0:00:01\r",
      "\u001b[K     |███████████████████████████▉    | 7.5 MB 2.7 MB/s eta 0:00:01\r",
      "\u001b[K     |███████████████████████████▉    | 7.5 MB 2.7 MB/s eta 0:00:01\r",
      "\u001b[K     |████████████████████████████    | 7.5 MB 2.7 MB/s eta 0:00:01\r",
      "\u001b[K     |████████████████████████████    | 7.6 MB 2.7 MB/s eta 0:00:01\r",
      "\u001b[K     |████████████████████████████    | 7.6 MB 2.7 MB/s eta 0:00:01\r",
      "\u001b[K     |████████████████████████████    | 7.6 MB 2.7 MB/s eta 0:00:01\r",
      "\u001b[K     |████████████████████████████    | 7.6 MB 2.7 MB/s eta 0:00:01\r",
      "\u001b[K     |████████████████████████████    | 7.6 MB 2.7 MB/s eta 0:00:01\r",
      "\u001b[K     |████████████████████████████▏   | 7.6 MB 2.7 MB/s eta 0:00:01\r",
      "\u001b[K     |████████████████████████████▏   | 7.6 MB 2.7 MB/s eta 0:00:01\r",
      "\u001b[K     |████████████████████████████▏   | 7.6 MB 2.7 MB/s eta 0:00:01\r",
      "\u001b[K     |████████████████████████████▎   | 7.6 MB 2.7 MB/s eta 0:00:01\r",
      "\u001b[K     |████████████████████████████▎   | 7.6 MB 2.7 MB/s eta 0:00:01\r",
      "\u001b[K     |████████████████████████████▎   | 7.7 MB 2.7 MB/s eta 0:00:01\r",
      "\u001b[K     |████████████████████████████▍   | 7.7 MB 2.7 MB/s eta 0:00:01\r",
      "\u001b[K     |████████████████████████████▍   | 7.7 MB 2.7 MB/s eta 0:00:01\r",
      "\u001b[K     |████████████████████████████▍   | 7.7 MB 2.7 MB/s eta 0:00:01\r",
      "\u001b[K     |████████████████████████████▌   | 7.7 MB 2.7 MB/s eta 0:00:01\r",
      "\u001b[K     |████████████████████████████▌   | 7.7 MB 2.7 MB/s eta 0:00:01\r",
      "\u001b[K     |████████████████████████████▌   | 7.7 MB 2.7 MB/s eta 0:00:01\r",
      "\u001b[K     |████████████████████████████▋   | 7.7 MB 2.7 MB/s eta 0:00:01\r",
      "\u001b[K     |████████████████████████████▋   | 7.7 MB 2.7 MB/s eta 0:00:01\r",
      "\u001b[K     |████████████████████████████▊   | 7.8 MB 2.7 MB/s eta 0:00:01\r",
      "\u001b[K     |████████████████████████████▊   | 7.8 MB 2.7 MB/s eta 0:00:01\r",
      "\u001b[K     |████████████████████████████▊   | 7.8 MB 2.7 MB/s eta 0:00:01\r",
      "\u001b[K     |████████████████████████████▉   | 7.8 MB 2.7 MB/s eta 0:00:01\r",
      "\u001b[K     |████████████████████████████▉   | 7.8 MB 2.7 MB/s eta 0:00:01\r",
      "\u001b[K     |████████████████████████████▉   | 7.8 MB 2.7 MB/s eta 0:00:01\r",
      "\u001b[K     |█████████████████████████████   | 7.8 MB 2.7 MB/s eta 0:00:01\r",
      "\u001b[K     |█████████████████████████████   | 7.8 MB 2.7 MB/s eta 0:00:01\r",
      "\u001b[K     |█████████████████████████████   | 7.8 MB 2.7 MB/s eta 0:00:01\r",
      "\u001b[K     |█████████████████████████████   | 7.8 MB 2.7 MB/s eta 0:00:01\r",
      "\u001b[K     |█████████████████████████████   | 7.9 MB 2.7 MB/s eta 0:00:01\r",
      "\u001b[K     |█████████████████████████████   | 7.9 MB 2.7 MB/s eta 0:00:01\r",
      "\u001b[K     |█████████████████████████████▏  | 7.9 MB 2.7 MB/s eta 0:00:01\r",
      "\u001b[K     |█████████████████████████████▏  | 7.9 MB 2.7 MB/s eta 0:00:01\r",
      "\u001b[K     |█████████████████████████████▏  | 7.9 MB 2.7 MB/s eta 0:00:01\r",
      "\u001b[K     |█████████████████████████████▎  | 7.9 MB 2.7 MB/s eta 0:00:01\r",
      "\u001b[K     |█████████████████████████████▎  | 7.9 MB 2.7 MB/s eta 0:00:01\r",
      "\u001b[K     |█████████████████████████████▎  | 7.9 MB 2.7 MB/s eta 0:00:01\r",
      "\u001b[K     |█████████████████████████████▍  | 7.9 MB 2.7 MB/s eta 0:00:01\r",
      "\u001b[K     |█████████████████████████████▍  | 7.9 MB 2.7 MB/s eta 0:00:01\r",
      "\u001b[K     |█████████████████████████████▍  | 8.0 MB 2.7 MB/s eta 0:00:01\r",
      "\u001b[K     |█████████████████████████████▌  | 8.0 MB 2.7 MB/s eta 0:00:01\r",
      "\u001b[K     |█████████████████████████████▌  | 8.0 MB 2.7 MB/s eta 0:00:01\r",
      "\u001b[K     |█████████████████████████████▌  | 8.0 MB 2.7 MB/s eta 0:00:01\r",
      "\u001b[K     |█████████████████████████████▋  | 8.0 MB 2.7 MB/s eta 0:00:01\r",
      "\u001b[K     |█████████████████████████████▋  | 8.0 MB 2.7 MB/s eta 0:00:01\r",
      "\u001b[K     |█████████████████████████████▋  | 8.0 MB 2.7 MB/s eta 0:00:01\r",
      "\u001b[K     |█████████████████████████████▊  | 8.0 MB 2.7 MB/s eta 0:00:01\r",
      "\u001b[K     |█████████████████████████████▊  | 8.0 MB 2.7 MB/s eta 0:00:01\r",
      "\u001b[K     |█████████████████████████████▊  | 8.0 MB 2.7 MB/s eta 0:00:01\r",
      "\u001b[K     |█████████████████████████████▉  | 8.1 MB 2.7 MB/s eta 0:00:01\r",
      "\u001b[K     |█████████████████████████████▉  | 8.1 MB 2.7 MB/s eta 0:00:01\r",
      "\u001b[K     |█████████████████████████████▉  | 8.1 MB 2.7 MB/s eta 0:00:01\r",
      "\u001b[K     |██████████████████████████████  | 8.1 MB 2.7 MB/s eta 0:00:01\r",
      "\u001b[K     |██████████████████████████████  | 8.1 MB 2.7 MB/s eta 0:00:01\r",
      "\u001b[K     |██████████████████████████████  | 8.1 MB 2.7 MB/s eta 0:00:01\r",
      "\u001b[K     |██████████████████████████████  | 8.1 MB 2.7 MB/s eta 0:00:01\r",
      "\u001b[K     |██████████████████████████████  | 8.1 MB 2.7 MB/s eta 0:00:01\r",
      "\u001b[K     |██████████████████████████████  | 8.1 MB 2.7 MB/s eta 0:00:01\r",
      "\u001b[K     |██████████████████████████████▏ | 8.2 MB 2.7 MB/s eta 0:00:01\r",
      "\u001b[K     |██████████████████████████████▏ | 8.2 MB 2.7 MB/s eta 0:00:01\r",
      "\u001b[K     |██████████████████████████████▏ | 8.2 MB 2.7 MB/s eta 0:00:01\r",
      "\u001b[K     |██████████████████████████████▎ | 8.2 MB 2.7 MB/s eta 0:00:01\r",
      "\u001b[K     |██████████████████████████████▎ | 8.2 MB 2.7 MB/s eta 0:00:01\r",
      "\u001b[K     |██████████████████████████████▍ | 8.2 MB 2.7 MB/s eta 0:00:01\r",
      "\u001b[K     |██████████████████████████████▍ | 8.2 MB 2.7 MB/s eta 0:00:01\r",
      "\u001b[K     |██████████████████████████████▍ | 8.2 MB 2.7 MB/s eta 0:00:01\r",
      "\u001b[K     |██████████████████████████████▌ | 8.2 MB 2.7 MB/s eta 0:00:01\r",
      "\u001b[K     |██████████████████████████████▌ | 8.2 MB 2.7 MB/s eta 0:00:01\r",
      "\u001b[K     |██████████████████████████████▌ | 8.3 MB 2.7 MB/s eta 0:00:01\r",
      "\u001b[K     |██████████████████████████████▋ | 8.3 MB 2.7 MB/s eta 0:00:01\r",
      "\u001b[K     |██████████████████████████████▋ | 8.3 MB 2.7 MB/s eta 0:00:01\r",
      "\u001b[K     |██████████████████████████████▋ | 8.3 MB 2.7 MB/s eta 0:00:01\r",
      "\u001b[K     |██████████████████████████████▊ | 8.3 MB 2.7 MB/s eta 0:00:01\r",
      "\u001b[K     |██████████████████████████████▊ | 8.3 MB 2.7 MB/s eta 0:00:01\r",
      "\u001b[K     |██████████████████████████████▊ | 8.3 MB 2.7 MB/s eta 0:00:01\r",
      "\u001b[K     |██████████████████████████████▉ | 8.3 MB 2.7 MB/s eta 0:00:01\r",
      "\u001b[K     |██████████████████████████████▉ | 8.3 MB 2.7 MB/s eta 0:00:01\r",
      "\u001b[K     |██████████████████████████████▉ | 8.3 MB 2.7 MB/s eta 0:00:01\r",
      "\u001b[K     |███████████████████████████████ | 8.4 MB 2.7 MB/s eta 0:00:01\r",
      "\u001b[K     |███████████████████████████████ | 8.4 MB 2.7 MB/s eta 0:00:01\r",
      "\u001b[K     |███████████████████████████████ | 8.4 MB 2.7 MB/s eta 0:00:01\r",
      "\u001b[K     |███████████████████████████████ | 8.4 MB 2.7 MB/s eta 0:00:01\r",
      "\u001b[K     |███████████████████████████████ | 8.4 MB 2.7 MB/s eta 0:00:01\r",
      "\u001b[K     |███████████████████████████████ | 8.4 MB 2.7 MB/s eta 0:00:01\r",
      "\u001b[K     |███████████████████████████████▏| 8.4 MB 2.7 MB/s eta 0:00:01\r",
      "\u001b[K     |███████████████████████████████▏| 8.4 MB 2.7 MB/s eta 0:00:01\r",
      "\u001b[K     |███████████████████████████████▏| 8.4 MB 2.7 MB/s eta 0:00:01\r",
      "\u001b[K     |███████████████████████████████▎| 8.4 MB 2.7 MB/s eta 0:00:01\r",
      "\u001b[K     |███████████████████████████████▎| 8.5 MB 2.7 MB/s eta 0:00:01\r",
      "\u001b[K     |███████████████████████████████▎| 8.5 MB 2.7 MB/s eta 0:00:01\r",
      "\u001b[K     |███████████████████████████████▍| 8.5 MB 2.7 MB/s eta 0:00:01\r",
      "\u001b[K     |███████████████████████████████▍| 8.5 MB 2.7 MB/s eta 0:00:01\r",
      "\u001b[K     |███████████████████████████████▍| 8.5 MB 2.7 MB/s eta 0:00:01\r",
      "\u001b[K     |███████████████████████████████▌| 8.5 MB 2.7 MB/s eta 0:00:01\r",
      "\u001b[K     |███████████████████████████████▌| 8.5 MB 2.7 MB/s eta 0:00:01\r",
      "\u001b[K     |███████████████████████████████▌| 8.5 MB 2.7 MB/s eta 0:00:01\r",
      "\u001b[K     |███████████████████████████████▋| 8.5 MB 2.7 MB/s eta 0:00:01\r",
      "\u001b[K     |███████████████████████████████▋| 8.6 MB 2.7 MB/s eta 0:00:01\r",
      "\u001b[K     |███████████████████████████████▋| 8.6 MB 2.7 MB/s eta 0:00:01\r",
      "\u001b[K     |███████████████████████████████▊| 8.6 MB 2.7 MB/s eta 0:00:01\r",
      "\u001b[K     |███████████████████████████████▊| 8.6 MB 2.7 MB/s eta 0:00:01\r",
      "\u001b[K     |███████████████████████████████▊| 8.6 MB 2.7 MB/s eta 0:00:01\r",
      "\u001b[K     |███████████████████████████████▉| 8.6 MB 2.7 MB/s eta 0:00:01\r",
      "\u001b[K     |███████████████████████████████▉| 8.6 MB 2.7 MB/s eta 0:00:01\r",
      "\u001b[K     |███████████████████████████████▉| 8.6 MB 2.7 MB/s eta 0:00:01\r",
      "\u001b[K     |████████████████████████████████| 8.6 MB 2.7 MB/s eta 0:00:01\r",
      "\u001b[K     |████████████████████████████████| 8.6 MB 2.7 MB/s eta 0:00:01\r",
      "\u001b[K     |████████████████████████████████| 8.7 MB 2.7 MB/s eta 0:00:01"
     ]
    },
    {
     "name": "stdout",
     "output_type": "stream",
     "text": [
      "\r",
      "\u001b[K     |████████████████████████████████| 8.7 MB 2.7 MB/s \r\n",
      "\u001b[?25h"
     ]
    },
    {
     "name": "stdout",
     "output_type": "stream",
     "text": [
      "Requirement already satisfied: s3transfer<0.6.0,>=0.5.0 in /opt/conda/lib/python3.7/site-packages (from boto3>=1.20.21->sagemaker) (0.5.0)\r\n"
     ]
    },
    {
     "name": "stdout",
     "output_type": "stream",
     "text": [
      "Requirement already satisfied: jmespath<2.0.0,>=0.7.1 in /opt/conda/lib/python3.7/site-packages (from boto3>=1.20.21->sagemaker) (0.10.0)\r\n",
      "Requirement already satisfied: urllib3<1.27,>=1.25.4 in /opt/conda/lib/python3.7/site-packages (from botocore<1.25.0,>=1.24.35->boto3>=1.20.21->sagemaker) (1.26.6)\r\n",
      "Requirement already satisfied: python-dateutil<3.0.0,>=2.1 in /opt/conda/lib/python3.7/site-packages (from botocore<1.25.0,>=1.24.35->boto3>=1.20.21->sagemaker) (2.8.1)\r\n",
      "Requirement already satisfied: zipp>=0.5 in /opt/conda/lib/python3.7/site-packages (from importlib-metadata>=1.4.0->sagemaker) (2.2.0)\r\n",
      "Requirement already satisfied: six in /opt/conda/lib/python3.7/site-packages (from packaging>=20.0->sagemaker) (1.14.0)\r\n",
      "Requirement already satisfied: pyparsing>=2.0.2 in /opt/conda/lib/python3.7/site-packages (from packaging>=20.0->sagemaker) (2.4.6)\r\n"
     ]
    },
    {
     "name": "stdout",
     "output_type": "stream",
     "text": [
      "Requirement already satisfied: pytz>=2017.2 in /opt/conda/lib/python3.7/site-packages (from pandas->sagemaker) (2019.3)\r\n",
      "Requirement already satisfied: ppft>=1.6.6.4 in /opt/conda/lib/python3.7/site-packages (from pathos->sagemaker) (1.6.6.4)\r\n",
      "Requirement already satisfied: pox>=0.3.0 in /opt/conda/lib/python3.7/site-packages (from pathos->sagemaker) (0.3.0)\r\n",
      "Requirement already satisfied: dill>=0.3.4 in /opt/conda/lib/python3.7/site-packages (from pathos->sagemaker) (0.3.4)\r\n",
      "Requirement already satisfied: multiprocess>=0.70.12 in /opt/conda/lib/python3.7/site-packages (from pathos->sagemaker) (0.70.12.2)\r\n"
     ]
    },
    {
     "name": "stdout",
     "output_type": "stream",
     "text": [
      "Building wheels for collected packages: sagemaker\r\n",
      "  Building wheel for sagemaker (setup.py) ... \u001b[?25l"
     ]
    },
    {
     "name": "stdout",
     "output_type": "stream",
     "text": [
      "-"
     ]
    },
    {
     "name": "stdout",
     "output_type": "stream",
     "text": [
      "\b \b\\"
     ]
    },
    {
     "name": "stdout",
     "output_type": "stream",
     "text": [
      "\b \b|"
     ]
    },
    {
     "name": "stdout",
     "output_type": "stream",
     "text": [
      "\b \b/"
     ]
    },
    {
     "name": "stdout",
     "output_type": "stream",
     "text": [
      "\b \b-"
     ]
    },
    {
     "name": "stdout",
     "output_type": "stream",
     "text": [
      "\b \b"
     ]
    },
    {
     "name": "stdout",
     "output_type": "stream",
     "text": [
      "\\"
     ]
    },
    {
     "name": "stdout",
     "output_type": "stream",
     "text": [
      "\b \b|"
     ]
    },
    {
     "name": "stdout",
     "output_type": "stream",
     "text": [
      "\b \b/"
     ]
    },
    {
     "name": "stdout",
     "output_type": "stream",
     "text": [
      "\b \bdone\r\n",
      "\u001b[?25h  Created wheel for sagemaker: filename=sagemaker-2.83.0-py2.py3-none-any.whl size=719395 sha256=27b241233bafb43f97a51db9aa213e6d9908b6ae1e3ac86d75ff930f9f9e88f5\r\n",
      "  Stored in directory: /root/.cache/pip/wheels/06/1d/68/f4db3097e83a069737269b641e4468eab29b574b07cbf1a7b3\r\n",
      "Successfully built sagemaker\r\n"
     ]
    },
    {
     "name": "stdout",
     "output_type": "stream",
     "text": [
      "Installing collected packages: botocore, boto3, attrs, sagemaker\r\n",
      "  Attempting uninstall: botocore\r\n",
      "    Found existing installation: botocore 1.23.7\r\n"
     ]
    },
    {
     "name": "stdout",
     "output_type": "stream",
     "text": [
      "    Uninstalling botocore-1.23.7:\r\n",
      "      Successfully uninstalled botocore-1.23.7\r\n"
     ]
    },
    {
     "name": "stdout",
     "output_type": "stream",
     "text": [
      "  Attempting uninstall: boto3\r\n",
      "    Found existing installation: boto3 1.20.7\r\n",
      "    Uninstalling boto3-1.20.7:\r\n",
      "      Successfully uninstalled boto3-1.20.7\r\n"
     ]
    },
    {
     "name": "stdout",
     "output_type": "stream",
     "text": [
      "  Attempting uninstall: attrs\r\n",
      "    Found existing installation: attrs 19.3.0\r\n",
      "    Uninstalling attrs-19.3.0:\r\n"
     ]
    },
    {
     "name": "stdout",
     "output_type": "stream",
     "text": [
      "      Successfully uninstalled attrs-19.3.0\r\n"
     ]
    },
    {
     "name": "stdout",
     "output_type": "stream",
     "text": [
      "  Attempting uninstall: sagemaker\r\n",
      "    Found existing installation: sagemaker 2.69.1.dev0\r\n"
     ]
    },
    {
     "name": "stdout",
     "output_type": "stream",
     "text": [
      "    Uninstalling sagemaker-2.69.1.dev0:\r\n",
      "      Successfully uninstalled sagemaker-2.69.1.dev0\r\n"
     ]
    },
    {
     "name": "stdout",
     "output_type": "stream",
     "text": [
      "\u001b[31mERROR: pip's dependency resolver does not currently take into account all the packages that are installed. This behaviour is the source of the following dependency conflicts.\r\n",
      "pytest-astropy 0.8.0 requires pytest-cov>=2.0, which is not installed.\r\n",
      "pytest-astropy 0.8.0 requires pytest-filter-subpackage>=0.1, which is not installed.\r\n",
      "awscli 1.22.7 requires botocore==1.23.7, but you have botocore 1.24.35 which is incompatible.\r\n",
      "aiobotocore 1.3.3 requires botocore<1.20.107,>=1.20.106, but you have botocore 1.24.35 which is incompatible.\u001b[0m\r\n",
      "Successfully installed attrs-20.3.0 boto3-1.21.35 botocore-1.24.35 sagemaker-2.83.0\r\n",
      "\u001b[33mWARNING: Running pip as the 'root' user can result in broken permissions and conflicting behaviour with the system package manager. It is recommended to use a virtual environment instead: https://pip.pypa.io/warnings/venv\u001b[0m\r\n",
      "\u001b[33mWARNING: You are using pip version 21.1.3; however, version 22.0.4 is available.\r\n",
      "You should consider upgrading via the '/opt/conda/bin/python -m pip install --upgrade pip' command.\u001b[0m\r\n"
     ]
    }
   ],
   "source": [
    "!pip install --upgrade sagemaker\n",
    "\n",
    "import boto3\n",
    "import sagemaker\n",
    "\n",
    "\n",
    "sagemaker_session = sagemaker.session.Session()\n",
    "region = sagemaker_session.boto_region_name\n",
    "role = sagemaker.get_execution_role()\n",
    "default_bucket = sagemaker_session.default_bucket()\n",
    "model_package_group_name = f\"AbaloneModelPackageGroupName\""
   ]
  },
  {
   "cell_type": "markdown",
   "id": "cdca8066",
   "metadata": {
    "papermill": {
     "duration": 0.039879,
     "end_time": "2022-04-07T00:29:27.146230",
     "exception": false,
     "start_time": "2022-04-07T00:29:27.106351",
     "status": "completed"
    },
    "tags": []
   },
   "source": [
    "Now, upload the data into the default bucket. You can select our own data set for the `input_data_uri` as is appropriate."
   ]
  },
  {
   "cell_type": "code",
   "execution_count": 3,
   "id": "6c10709d",
   "metadata": {
    "execution": {
     "iopub.execute_input": "2022-04-07T00:29:27.418680Z",
     "iopub.status.busy": "2022-04-07T00:29:27.417713Z",
     "iopub.status.idle": "2022-04-07T00:29:27.641114Z",
     "shell.execute_reply": "2022-04-07T00:29:27.640323Z"
    },
    "papermill": {
     "duration": 0.398857,
     "end_time": "2022-04-07T00:29:27.641245",
     "exception": false,
     "start_time": "2022-04-07T00:29:27.242388",
     "status": "completed"
    },
    "tags": []
   },
   "outputs": [],
   "source": [
    "!mkdir -p data"
   ]
  },
  {
   "cell_type": "code",
   "execution_count": 4,
   "id": "be12142f",
   "metadata": {
    "execution": {
     "iopub.execute_input": "2022-04-07T00:29:27.823643Z",
     "iopub.status.busy": "2022-04-07T00:29:27.822688Z",
     "iopub.status.idle": "2022-04-07T00:29:28.835192Z",
     "shell.execute_reply": "2022-04-07T00:29:28.834669Z"
    },
    "papermill": {
     "duration": 1.153812,
     "end_time": "2022-04-07T00:29:28.835311",
     "exception": false,
     "start_time": "2022-04-07T00:29:27.681499",
     "status": "completed"
    },
    "tags": []
   },
   "outputs": [
    {
     "name": "stdout",
     "output_type": "stream",
     "text": [
      "s3://sagemaker-us-west-2-000000000000/abalone/abalone-dataset.csv\n"
     ]
    }
   ],
   "source": [
    "local_path = \"data/abalone-dataset.csv\"\n",
    "\n",
    "s3 = boto3.resource(\"s3\")\n",
    "s3.Bucket(f\"sagemaker-sample-files\").download_file(\n",
    "    \"datasets/tabular/uci_abalone/abalone.csv\", local_path\n",
    ")\n",
    "\n",
    "base_uri = f\"s3://{default_bucket}/abalone\"\n",
    "input_data_uri = sagemaker.s3.S3Uploader.upload(\n",
    "    local_path=local_path,\n",
    "    desired_s3_uri=base_uri,\n",
    ")\n",
    "print(input_data_uri)"
   ]
  },
  {
   "cell_type": "markdown",
   "id": "240cd24d",
   "metadata": {
    "papermill": {
     "duration": 0.039459,
     "end_time": "2022-04-07T00:29:28.914597",
     "exception": false,
     "start_time": "2022-04-07T00:29:28.875138",
     "status": "completed"
    },
    "tags": []
   },
   "source": [
    "Download a second dataset for batch transformation after model creation. You can select our own dataset for the `batch_data_uri` as is appropriate."
   ]
  },
  {
   "cell_type": "code",
   "execution_count": 5,
   "id": "f4c885df",
   "metadata": {
    "execution": {
     "iopub.execute_input": "2022-04-07T00:29:29.006496Z",
     "iopub.status.busy": "2022-04-07T00:29:29.005601Z",
     "iopub.status.idle": "2022-04-07T00:29:29.567588Z",
     "shell.execute_reply": "2022-04-07T00:29:29.567157Z"
    },
    "papermill": {
     "duration": 0.613665,
     "end_time": "2022-04-07T00:29:29.567703",
     "exception": false,
     "start_time": "2022-04-07T00:29:28.954038",
     "status": "completed"
    },
    "tags": []
   },
   "outputs": [
    {
     "name": "stdout",
     "output_type": "stream",
     "text": [
      "s3://sagemaker-us-west-2-000000000000/abalone/abalone-dataset-batch\n"
     ]
    }
   ],
   "source": [
    "local_path = \"data/abalone-dataset-batch\"\n",
    "\n",
    "s3 = boto3.resource(\"s3\")\n",
    "s3.Bucket(f\"sagemaker-servicecatalog-seedcode-{region}\").download_file(\n",
    "    \"dataset/abalone-dataset-batch\", local_path\n",
    ")\n",
    "\n",
    "base_uri = f\"s3://{default_bucket}/abalone\"\n",
    "batch_data_uri = sagemaker.s3.S3Uploader.upload(\n",
    "    local_path=local_path,\n",
    "    desired_s3_uri=base_uri,\n",
    ")\n",
    "print(batch_data_uri)"
   ]
  },
  {
   "cell_type": "markdown",
   "id": "add3da09",
   "metadata": {
    "papermill": {
     "duration": 0.040548,
     "end_time": "2022-04-07T00:29:29.648059",
     "exception": false,
     "start_time": "2022-04-07T00:29:29.607511",
     "status": "completed"
    },
    "tags": []
   },
   "source": [
    "### Define Parameters to Parametrize Pipeline Execution\n",
    "\n",
    "Define Pipeline parameters that you can use to parametrize the pipeline. Parameters enable custom pipeline executions and schedules without having to modify the Pipeline definition.\n",
    "\n",
    "The supported parameter types include:\n",
    "\n",
    "* `ParameterString` - represents a `str` Python type\n",
    "* `ParameterInteger` - represents an `int` Python type\n",
    "* `ParameterFloat` - represents a `float` Python type\n",
    "\n",
    "These parameters support providing a default value, which can be overridden on pipeline execution. The default value specified should be an instance of the type of the parameter.\n",
    "\n",
    "The parameters defined in this workflow include:\n",
    "\n",
    "* `processing_instance_type` - The `ml.*` instance type of the processing job.\n",
    "* `processing_instance_count` - The instance count of the processing job.\n",
    "* `training_instance_type` - The `ml.*` instance type of the training job.\n",
    "* `model_approval_status` - The approval status to register with the trained model for CI/CD purposes (\"PendingManualApproval\" is the default).\n",
    "* `input_data` - The S3 bucket URI location of the input data.\n",
    "* `batch_data` - The S3 bucket URI location of the batch data.\n",
    "* `mse_threshold` - The Mean Squared Error (MSE) threshold used to verify the accuracy of a model."
   ]
  },
  {
   "cell_type": "code",
   "execution_count": 6,
   "id": "8a72057a",
   "metadata": {
    "execution": {
     "iopub.execute_input": "2022-04-07T00:29:29.736591Z",
     "iopub.status.busy": "2022-04-07T00:29:29.735418Z",
     "iopub.status.idle": "2022-04-07T00:29:29.738634Z",
     "shell.execute_reply": "2022-04-07T00:29:29.738117Z"
    },
    "papermill": {
     "duration": 0.050511,
     "end_time": "2022-04-07T00:29:29.738760",
     "exception": false,
     "start_time": "2022-04-07T00:29:29.688249",
     "status": "completed"
    },
    "tags": []
   },
   "outputs": [],
   "source": [
    "from sagemaker.workflow.parameters import (\n",
    "    ParameterInteger,\n",
    "    ParameterString,\n",
    "    ParameterFloat,\n",
    ")\n",
    "\n",
    "\n",
    "processing_instance_count = ParameterInteger(name=\"ProcessingInstanceCount\", default_value=1)\n",
    "processing_instance_type = ParameterString(\n",
    "    name=\"ProcessingInstanceType\", default_value=\"ml.m5.xlarge\"\n",
    ")\n",
    "training_instance_type = ParameterString(name=\"TrainingInstanceType\", default_value=\"ml.m5.xlarge\")\n",
    "model_approval_status = ParameterString(\n",
    "    name=\"ModelApprovalStatus\", default_value=\"PendingManualApproval\"\n",
    ")\n",
    "input_data = ParameterString(\n",
    "    name=\"InputData\",\n",
    "    default_value=input_data_uri,\n",
    ")\n",
    "batch_data = ParameterString(\n",
    "    name=\"BatchData\",\n",
    "    default_value=batch_data_uri,\n",
    ")\n",
    "mse_threshold = ParameterFloat(name=\"MseThreshold\", default_value=6.0)"
   ]
  },
  {
   "cell_type": "markdown",
   "id": "b0b5956e",
   "metadata": {
    "papermill": {
     "duration": 0.046592,
     "end_time": "2022-04-07T00:29:29.824998",
     "exception": false,
     "start_time": "2022-04-07T00:29:29.778406",
     "status": "completed"
    },
    "tags": []
   },
   "source": [
    "![Define Parameters](https://raw.githubusercontent.com/aws/amazon-sagemaker-examples/main/sagemaker-pipelines/tabular/abalone_build_train_deploy/img/pipeline-1.png)"
   ]
  },
  {
   "cell_type": "markdown",
   "id": "b5189ec1",
   "metadata": {
    "papermill": {
     "duration": 0.097141,
     "end_time": "2022-04-07T00:29:30.031280",
     "exception": false,
     "start_time": "2022-04-07T00:29:29.934139",
     "status": "completed"
    },
    "tags": []
   },
   "source": [
    "### Define a Processing Step for Feature Engineering\n",
    "\n",
    "First, develop a preprocessing script that is specified in the Processing step.\n",
    "\n",
    "This notebook cell writes a file `preprocessing_abalone.py`, which contains the preprocessing script. You can update the script, and rerun this cell to overwrite. The preprocessing script uses `scikit-learn` to do the following:\n",
    "\n",
    "* Fill in missing sex category data and encode it so that it is suitable for training.\n",
    "* Scale and normalize all numerical fields, aside from sex and rings numerical data.\n",
    "* Split the data into training, validation, and test datasets.\n",
    "\n",
    "The Processing step executes the script on the input data. The Training step uses the preprocessed training features and labels to train a model. The Evaluation step uses the trained model and preprocessed test features and labels to evaluate the model."
   ]
  },
  {
   "cell_type": "code",
   "execution_count": 7,
   "id": "9a2396c7",
   "metadata": {
    "execution": {
     "iopub.execute_input": "2022-04-07T00:29:30.317960Z",
     "iopub.status.busy": "2022-04-07T00:29:30.316959Z",
     "iopub.status.idle": "2022-04-07T00:29:30.535106Z",
     "shell.execute_reply": "2022-04-07T00:29:30.535489Z"
    },
    "papermill": {
     "duration": 0.396412,
     "end_time": "2022-04-07T00:29:30.535644",
     "exception": false,
     "start_time": "2022-04-07T00:29:30.139232",
     "status": "completed"
    },
    "tags": []
   },
   "outputs": [],
   "source": [
    "!mkdir -p abalone"
   ]
  },
  {
   "cell_type": "code",
   "execution_count": 8,
   "id": "4f0ac4c6",
   "metadata": {
    "execution": {
     "iopub.execute_input": "2022-04-07T00:29:30.719040Z",
     "iopub.status.busy": "2022-04-07T00:29:30.716891Z",
     "iopub.status.idle": "2022-04-07T00:29:30.722238Z",
     "shell.execute_reply": "2022-04-07T00:29:30.722702Z"
    },
    "papermill": {
     "duration": 0.147583,
     "end_time": "2022-04-07T00:29:30.722974",
     "exception": false,
     "start_time": "2022-04-07T00:29:30.575391",
     "status": "completed"
    },
    "tags": []
   },
   "outputs": [
    {
     "name": "stdout",
     "output_type": "stream",
     "text": [
      "Writing abalone/preprocessing.py\n"
     ]
    }
   ],
   "source": [
    "%%writefile abalone/preprocessing.py\n",
    "import argparse\n",
    "import os\n",
    "import requests\n",
    "import tempfile\n",
    "\n",
    "import numpy as np\n",
    "import pandas as pd\n",
    "\n",
    "from sklearn.compose import ColumnTransformer\n",
    "from sklearn.impute import SimpleImputer\n",
    "from sklearn.pipeline import Pipeline\n",
    "from sklearn.preprocessing import StandardScaler, OneHotEncoder\n",
    "\n",
    "\n",
    "# Since we get a headerless CSV file we specify the column names here.\n",
    "feature_columns_names = [\n",
    "    \"sex\",\n",
    "    \"length\",\n",
    "    \"diameter\",\n",
    "    \"height\",\n",
    "    \"whole_weight\",\n",
    "    \"shucked_weight\",\n",
    "    \"viscera_weight\",\n",
    "    \"shell_weight\",\n",
    "]\n",
    "label_column = \"rings\"\n",
    "\n",
    "feature_columns_dtype = {\n",
    "    \"sex\": str,\n",
    "    \"length\": np.float64,\n",
    "    \"diameter\": np.float64,\n",
    "    \"height\": np.float64,\n",
    "    \"whole_weight\": np.float64,\n",
    "    \"shucked_weight\": np.float64,\n",
    "    \"viscera_weight\": np.float64,\n",
    "    \"shell_weight\": np.float64,\n",
    "}\n",
    "label_column_dtype = {\"rings\": np.float64}\n",
    "\n",
    "\n",
    "def merge_two_dicts(x, y):\n",
    "    z = x.copy()\n",
    "    z.update(y)\n",
    "    return z\n",
    "\n",
    "\n",
    "if __name__ == \"__main__\":\n",
    "    base_dir = \"/opt/ml/processing\"\n",
    "\n",
    "    df = pd.read_csv(\n",
    "        f\"{base_dir}/input/abalone-dataset.csv\",\n",
    "        header=None,\n",
    "        names=feature_columns_names + [label_column],\n",
    "        dtype=merge_two_dicts(feature_columns_dtype, label_column_dtype),\n",
    "    )\n",
    "    numeric_features = list(feature_columns_names)\n",
    "    numeric_features.remove(\"sex\")\n",
    "    numeric_transformer = Pipeline(\n",
    "        steps=[(\"imputer\", SimpleImputer(strategy=\"median\")), (\"scaler\", StandardScaler())]\n",
    "    )\n",
    "\n",
    "    categorical_features = [\"sex\"]\n",
    "    categorical_transformer = Pipeline(\n",
    "        steps=[\n",
    "            (\"imputer\", SimpleImputer(strategy=\"constant\", fill_value=\"missing\")),\n",
    "            (\"onehot\", OneHotEncoder(handle_unknown=\"ignore\")),\n",
    "        ]\n",
    "    )\n",
    "\n",
    "    preprocess = ColumnTransformer(\n",
    "        transformers=[\n",
    "            (\"num\", numeric_transformer, numeric_features),\n",
    "            (\"cat\", categorical_transformer, categorical_features),\n",
    "        ]\n",
    "    )\n",
    "\n",
    "    y = df.pop(\"rings\")\n",
    "    X_pre = preprocess.fit_transform(df)\n",
    "    y_pre = y.to_numpy().reshape(len(y), 1)\n",
    "\n",
    "    X = np.concatenate((y_pre, X_pre), axis=1)\n",
    "\n",
    "    np.random.shuffle(X)\n",
    "    train, validation, test = np.split(X, [int(0.7 * len(X)), int(0.85 * len(X))])\n",
    "\n",
    "    pd.DataFrame(train).to_csv(f\"{base_dir}/train/train.csv\", header=False, index=False)\n",
    "    pd.DataFrame(validation).to_csv(\n",
    "        f\"{base_dir}/validation/validation.csv\", header=False, index=False\n",
    "    )\n",
    "    pd.DataFrame(test).to_csv(f\"{base_dir}/test/test.csv\", header=False, index=False)"
   ]
  },
  {
   "cell_type": "markdown",
   "id": "8fa80b0b",
   "metadata": {
    "papermill": {
     "duration": 0.09644,
     "end_time": "2022-04-07T00:29:30.926674",
     "exception": false,
     "start_time": "2022-04-07T00:29:30.830234",
     "status": "completed"
    },
    "tags": []
   },
   "source": [
    "Next, create an instance of a `SKLearnProcessor` processor and use that in our `ProcessingStep`.\n",
    "\n",
    "You also specify the `framework_version` to use throughout this notebook.\n",
    "\n",
    "Note the `processing_instance_type` and `processing_instance_count` parameters used by the processor instance."
   ]
  },
  {
   "cell_type": "code",
   "execution_count": 9,
   "id": "383703a1",
   "metadata": {
    "execution": {
     "iopub.execute_input": "2022-04-07T00:29:31.224334Z",
     "iopub.status.busy": "2022-04-07T00:29:31.216403Z",
     "iopub.status.idle": "2022-04-07T00:29:31.247641Z",
     "shell.execute_reply": "2022-04-07T00:29:31.247158Z"
    },
    "papermill": {
     "duration": 0.214068,
     "end_time": "2022-04-07T00:29:31.247773",
     "exception": false,
     "start_time": "2022-04-07T00:29:31.033705",
     "status": "completed"
    },
    "tags": []
   },
   "outputs": [],
   "source": [
    "from sagemaker.sklearn.processing import SKLearnProcessor\n",
    "\n",
    "\n",
    "framework_version = \"0.23-1\"\n",
    "\n",
    "sklearn_processor = SKLearnProcessor(\n",
    "    framework_version=framework_version,\n",
    "    instance_type=processing_instance_type,\n",
    "    instance_count=processing_instance_count,\n",
    "    base_job_name=\"sklearn-abalone-process\",\n",
    "    role=role,\n",
    ")"
   ]
  },
  {
   "cell_type": "markdown",
   "id": "c903255a",
   "metadata": {
    "papermill": {
     "duration": 0.164732,
     "end_time": "2022-04-07T00:29:31.519530",
     "exception": false,
     "start_time": "2022-04-07T00:29:31.354798",
     "status": "completed"
    },
    "tags": []
   },
   "source": [
    "Finally, use the processor instance to construct a `ProcessingStep`, along with the input and output channels, and the code that will be executed when the pipeline invokes pipeline execution. This is similar to a processor instance's `run` method in the Python SDK.\n",
    "\n",
    "Note the `input_data` parameters passed into `ProcessingStep` is the input data used in the step. This input data is used by the processor instance when it is run.\n",
    "\n",
    "Also, note the `\"train_data\"` and `\"test_data\"` named channels specified in the output configuration for the processing job. Step `Properties` can be used in subsequent steps and resolve to their runtime values at execution. Specifically, this usage is called out when you define the training step."
   ]
  },
  {
   "cell_type": "code",
   "execution_count": 10,
   "id": "77cd8317",
   "metadata": {
    "execution": {
     "iopub.execute_input": "2022-04-07T00:29:31.730268Z",
     "iopub.status.busy": "2022-04-07T00:29:31.729233Z",
     "iopub.status.idle": "2022-04-07T00:29:31.739073Z",
     "shell.execute_reply": "2022-04-07T00:29:31.739492Z"
    },
    "papermill": {
     "duration": 0.113462,
     "end_time": "2022-04-07T00:29:31.739637",
     "exception": false,
     "start_time": "2022-04-07T00:29:31.626175",
     "status": "completed"
    },
    "tags": []
   },
   "outputs": [],
   "source": [
    "from sagemaker.processing import ProcessingInput, ProcessingOutput\n",
    "from sagemaker.workflow.steps import ProcessingStep\n",
    "\n",
    "\n",
    "step_process = ProcessingStep(\n",
    "    name=\"AbaloneProcess\",\n",
    "    processor=sklearn_processor,\n",
    "    inputs=[\n",
    "        ProcessingInput(source=input_data, destination=\"/opt/ml/processing/input\"),\n",
    "    ],\n",
    "    outputs=[\n",
    "        ProcessingOutput(output_name=\"train\", source=\"/opt/ml/processing/train\"),\n",
    "        ProcessingOutput(output_name=\"validation\", source=\"/opt/ml/processing/validation\"),\n",
    "        ProcessingOutput(output_name=\"test\", source=\"/opt/ml/processing/test\"),\n",
    "    ],\n",
    "    code=\"abalone/preprocessing.py\",\n",
    ")"
   ]
  },
  {
   "cell_type": "markdown",
   "id": "617153f4",
   "metadata": {
    "papermill": {
     "duration": 0.10687,
     "end_time": "2022-04-07T00:29:31.953478",
     "exception": false,
     "start_time": "2022-04-07T00:29:31.846608",
     "status": "completed"
    },
    "tags": []
   },
   "source": [
    "![Define a Processing Step for Feature Engineering](https://raw.githubusercontent.com/aws/amazon-sagemaker-examples/main/sagemaker-pipelines/tabular/abalone_build_train_deploy/img/pipeline-2.png)"
   ]
  },
  {
   "cell_type": "markdown",
   "id": "157359c6",
   "metadata": {
    "papermill": {
     "duration": 0.111023,
     "end_time": "2022-04-07T00:29:32.227819",
     "exception": false,
     "start_time": "2022-04-07T00:29:32.116796",
     "status": "completed"
    },
    "tags": []
   },
   "source": [
    "### Define a Training Step to Train a Model\n",
    "\n",
    "In this section, use Amazon SageMaker's [XGBoost Algorithm](https://docs.aws.amazon.com/sagemaker/latest/dg/xgboost.html) to train on this dataset. Configure an Estimator for the XGBoost algorithm and the input dataset. A typical training script loads data from the input channels, configures training with hyperparameters, trains a model, and saves a model to `model_dir` so that it can be hosted later.\n",
    "\n",
    "The model path where the models from training will be saved is also specified.\n",
    "\n",
    "Note the `training_instance_type` parameter may be used in multiple places in the pipeline. In this case, the `training_instance_type` is passed into the estimator."
   ]
  },
  {
   "cell_type": "code",
   "execution_count": 11,
   "id": "e632c42e",
   "metadata": {
    "execution": {
     "iopub.execute_input": "2022-04-07T00:29:32.518824Z",
     "iopub.status.busy": "2022-04-07T00:29:32.518135Z",
     "iopub.status.idle": "2022-04-07T00:29:32.542721Z",
     "shell.execute_reply": "2022-04-07T00:29:32.542259Z"
    },
    "papermill": {
     "duration": 0.205038,
     "end_time": "2022-04-07T00:29:32.542892",
     "exception": false,
     "start_time": "2022-04-07T00:29:32.337854",
     "status": "completed"
    },
    "tags": []
   },
   "outputs": [],
   "source": [
    "from sagemaker.estimator import Estimator\n",
    "\n",
    "\n",
    "model_path = f\"s3://{default_bucket}/AbaloneTrain\"\n",
    "image_uri = sagemaker.image_uris.retrieve(\n",
    "    framework=\"xgboost\",\n",
    "    region=region,\n",
    "    version=\"1.0-1\",\n",
    "    py_version=\"py3\",\n",
    "    instance_type=training_instance_type,\n",
    ")\n",
    "xgb_train = Estimator(\n",
    "    image_uri=image_uri,\n",
    "    instance_type=training_instance_type,\n",
    "    instance_count=1,\n",
    "    output_path=model_path,\n",
    "    role=role,\n",
    ")\n",
    "xgb_train.set_hyperparameters(\n",
    "    objective=\"reg:linear\",\n",
    "    num_round=50,\n",
    "    max_depth=5,\n",
    "    eta=0.2,\n",
    "    gamma=4,\n",
    "    min_child_weight=6,\n",
    "    subsample=0.7,\n",
    "    silent=0,\n",
    ")"
   ]
  },
  {
   "cell_type": "markdown",
   "id": "b4369ee7",
   "metadata": {
    "papermill": {
     "duration": 0.107914,
     "end_time": "2022-04-07T00:29:32.748025",
     "exception": false,
     "start_time": "2022-04-07T00:29:32.640111",
     "status": "completed"
    },
    "tags": []
   },
   "source": [
    "Finally, use the estimator instance to construct a `TrainingStep` as well as the `properties` of the prior `ProcessingStep` used as input in the `TrainingStep` inputs and the code that's executed when the pipeline invokes the pipeline execution. This is similar to an estimator's `fit` method in the Python SDK.\n",
    "\n",
    "Pass in the `S3Uri` of the `\"train_data\"` output channel to the `TrainingStep`. Also, use the other `\"test_data\"` output channel for model evaluation in the pipeline. The `properties` attribute of a Pipeline step matches the object model of the corresponding response of a describe call. These properties can be referenced as placeholder values and are resolved at runtime. For example, the `ProcessingStep` `properties` attribute matches the object model of the [DescribeProcessingJob](https://docs.aws.amazon.com/sagemaker/latest/APIReference/API_DescribeProcessingJob.html) response object."
   ]
  },
  {
   "cell_type": "code",
   "execution_count": 12,
   "id": "2b464ff4",
   "metadata": {
    "execution": {
     "iopub.execute_input": "2022-04-07T00:29:33.026494Z",
     "iopub.status.busy": "2022-04-07T00:29:33.024873Z",
     "iopub.status.idle": "2022-04-07T00:29:33.027279Z",
     "shell.execute_reply": "2022-04-07T00:29:33.027689Z"
    },
    "papermill": {
     "duration": 0.172733,
     "end_time": "2022-04-07T00:29:33.027834",
     "exception": false,
     "start_time": "2022-04-07T00:29:32.855101",
     "status": "completed"
    },
    "tags": []
   },
   "outputs": [],
   "source": [
    "from sagemaker.inputs import TrainingInput\n",
    "from sagemaker.workflow.steps import TrainingStep\n",
    "\n",
    "\n",
    "step_train = TrainingStep(\n",
    "    name=\"AbaloneTrain\",\n",
    "    estimator=xgb_train,\n",
    "    inputs={\n",
    "        \"train\": TrainingInput(\n",
    "            s3_data=step_process.properties.ProcessingOutputConfig.Outputs[\"train\"].S3Output.S3Uri,\n",
    "            content_type=\"text/csv\",\n",
    "        ),\n",
    "        \"validation\": TrainingInput(\n",
    "            s3_data=step_process.properties.ProcessingOutputConfig.Outputs[\n",
    "                \"validation\"\n",
    "            ].S3Output.S3Uri,\n",
    "            content_type=\"text/csv\",\n",
    "        ),\n",
    "    },\n",
    ")"
   ]
  },
  {
   "cell_type": "markdown",
   "id": "7f863510",
   "metadata": {
    "papermill": {
     "duration": 0.111428,
     "end_time": "2022-04-07T00:29:33.240735",
     "exception": false,
     "start_time": "2022-04-07T00:29:33.129307",
     "status": "completed"
    },
    "tags": []
   },
   "source": [
    "![Define a Training Step to Train a Model](https://raw.githubusercontent.com/aws/amazon-sagemaker-examples/main/sagemaker-pipelines/tabular/abalone_build_train_deploy/img/pipeline-3.png)"
   ]
  },
  {
   "cell_type": "markdown",
   "id": "c17c0f4b",
   "metadata": {
    "papermill": {
     "duration": 0.040854,
     "end_time": "2022-04-07T00:29:33.456468",
     "exception": false,
     "start_time": "2022-04-07T00:29:33.415614",
     "status": "completed"
    },
    "tags": []
   },
   "source": [
    "### Define a Model Evaluation Step to Evaluate the Trained Model\n",
    "\n",
    "First, develop an evaluation script that is specified in a Processing step that performs the model evaluation.\n",
    "\n",
    "After pipeline execution, you can examine the resulting `evaluation.json` for analysis.\n",
    "\n",
    "The evaluation script uses `xgboost` to do the following:\n",
    "\n",
    "* Load the model.\n",
    "* Read the test data.\n",
    "* Issue predictions against the test data.\n",
    "* Build a classification report, including accuracy and ROC curve.\n",
    "* Save the evaluation report to the evaluation directory."
   ]
  },
  {
   "cell_type": "code",
   "execution_count": 13,
   "id": "ff9f3674",
   "metadata": {
    "execution": {
     "iopub.execute_input": "2022-04-07T00:29:33.723303Z",
     "iopub.status.busy": "2022-04-07T00:29:33.722399Z",
     "iopub.status.idle": "2022-04-07T00:29:33.726296Z",
     "shell.execute_reply": "2022-04-07T00:29:33.725790Z"
    },
    "papermill": {
     "duration": 0.105984,
     "end_time": "2022-04-07T00:29:33.726416",
     "exception": false,
     "start_time": "2022-04-07T00:29:33.620432",
     "status": "completed"
    },
    "tags": []
   },
   "outputs": [
    {
     "name": "stdout",
     "output_type": "stream",
     "text": [
      "Writing abalone/evaluation.py\n"
     ]
    }
   ],
   "source": [
    "%%writefile abalone/evaluation.py\n",
    "import json\n",
    "import pathlib\n",
    "import pickle\n",
    "import tarfile\n",
    "\n",
    "import joblib\n",
    "import numpy as np\n",
    "import pandas as pd\n",
    "import xgboost\n",
    "\n",
    "from sklearn.metrics import mean_squared_error\n",
    "\n",
    "\n",
    "if __name__ == \"__main__\":\n",
    "    model_path = f\"/opt/ml/processing/model/model.tar.gz\"\n",
    "    with tarfile.open(model_path) as tar:\n",
    "        tar.extractall(path=\".\")\n",
    "\n",
    "    model = pickle.load(open(\"xgboost-model\", \"rb\"))\n",
    "\n",
    "    test_path = \"/opt/ml/processing/test/test.csv\"\n",
    "    df = pd.read_csv(test_path, header=None)\n",
    "\n",
    "    y_test = df.iloc[:, 0].to_numpy()\n",
    "    df.drop(df.columns[0], axis=1, inplace=True)\n",
    "\n",
    "    X_test = xgboost.DMatrix(df.values)\n",
    "\n",
    "    predictions = model.predict(X_test)\n",
    "\n",
    "    mse = mean_squared_error(y_test, predictions)\n",
    "    std = np.std(y_test - predictions)\n",
    "    report_dict = {\n",
    "        \"regression_metrics\": {\n",
    "            \"mse\": {\"value\": mse, \"standard_deviation\": std},\n",
    "        },\n",
    "    }\n",
    "\n",
    "    output_dir = \"/opt/ml/processing/evaluation\"\n",
    "    pathlib.Path(output_dir).mkdir(parents=True, exist_ok=True)\n",
    "\n",
    "    evaluation_path = f\"{output_dir}/evaluation.json\"\n",
    "    with open(evaluation_path, \"w\") as f:\n",
    "        f.write(json.dumps(report_dict))"
   ]
  },
  {
   "cell_type": "markdown",
   "id": "2e80243c",
   "metadata": {
    "papermill": {
     "duration": 0.107334,
     "end_time": "2022-04-07T00:29:33.941839",
     "exception": false,
     "start_time": "2022-04-07T00:29:33.834505",
     "status": "completed"
    },
    "tags": []
   },
   "source": [
    "Next, create an instance of a `ScriptProcessor` processor and use it in the `ProcessingStep`.\n",
    "\n",
    "Note the `processing_instance_type` parameter passed into the processor."
   ]
  },
  {
   "cell_type": "code",
   "execution_count": 14,
   "id": "c5a05db1",
   "metadata": {
    "execution": {
     "iopub.execute_input": "2022-04-07T00:29:34.229270Z",
     "iopub.status.busy": "2022-04-07T00:29:34.228467Z",
     "iopub.status.idle": "2022-04-07T00:29:34.234016Z",
     "shell.execute_reply": "2022-04-07T00:29:34.233580Z"
    },
    "papermill": {
     "duration": 0.185024,
     "end_time": "2022-04-07T00:29:34.234133",
     "exception": false,
     "start_time": "2022-04-07T00:29:34.049109",
     "status": "completed"
    },
    "tags": []
   },
   "outputs": [],
   "source": [
    "from sagemaker.processing import ScriptProcessor\n",
    "\n",
    "\n",
    "script_eval = ScriptProcessor(\n",
    "    image_uri=image_uri,\n",
    "    command=[\"python3\"],\n",
    "    instance_type=processing_instance_type,\n",
    "    instance_count=1,\n",
    "    base_job_name=\"script-abalone-eval\",\n",
    "    role=role,\n",
    ")"
   ]
  },
  {
   "cell_type": "markdown",
   "id": "cba48ccd",
   "metadata": {
    "papermill": {
     "duration": 0.107734,
     "end_time": "2022-04-07T00:29:34.443587",
     "exception": false,
     "start_time": "2022-04-07T00:29:34.335853",
     "status": "completed"
    },
    "tags": []
   },
   "source": [
    "Use the processor instance to construct a `ProcessingStep`, along with the input and output channels and the code that will be executed when the pipeline invokes pipeline execution. This is similar to a processor instance's `run` method in the Python SDK.\n",
    "\n",
    "Specifically, the `S3ModelArtifacts` from the `step_train` `properties` and the `S3Uri` of the `\"test_data\"` output channel of the `step_process` `properties` are passed as inputs. The `TrainingStep` and `ProcessingStep` `properties` attribute matches the object model of the [DescribeTrainingJob](https://docs.aws.amazon.com/sagemaker/latest/APIReference/API_DescribeTrainingJob.html) and [DescribeProcessingJob](https://docs.aws.amazon.com/sagemaker/latest/APIReference/API_DescribeProcessingJob.html) response objects, respectively."
   ]
  },
  {
   "cell_type": "code",
   "execution_count": 15,
   "id": "40eee069",
   "metadata": {
    "execution": {
     "iopub.execute_input": "2022-04-07T00:29:34.718863Z",
     "iopub.status.busy": "2022-04-07T00:29:34.717910Z",
     "iopub.status.idle": "2022-04-07T00:29:34.722223Z",
     "shell.execute_reply": "2022-04-07T00:29:34.722687Z"
    },
    "papermill": {
     "duration": 0.175881,
     "end_time": "2022-04-07T00:29:34.722898",
     "exception": false,
     "start_time": "2022-04-07T00:29:34.547017",
     "status": "completed"
    },
    "tags": []
   },
   "outputs": [],
   "source": [
    "from sagemaker.workflow.properties import PropertyFile\n",
    "\n",
    "\n",
    "evaluation_report = PropertyFile(\n",
    "    name=\"EvaluationReport\", output_name=\"evaluation\", path=\"evaluation.json\"\n",
    ")\n",
    "step_eval = ProcessingStep(\n",
    "    name=\"AbaloneEval\",\n",
    "    processor=script_eval,\n",
    "    inputs=[\n",
    "        ProcessingInput(\n",
    "            source=step_train.properties.ModelArtifacts.S3ModelArtifacts,\n",
    "            destination=\"/opt/ml/processing/model\",\n",
    "        ),\n",
    "        ProcessingInput(\n",
    "            source=step_process.properties.ProcessingOutputConfig.Outputs[\"test\"].S3Output.S3Uri,\n",
    "            destination=\"/opt/ml/processing/test\",\n",
    "        ),\n",
    "    ],\n",
    "    outputs=[\n",
    "        ProcessingOutput(output_name=\"evaluation\", source=\"/opt/ml/processing/evaluation\"),\n",
    "    ],\n",
    "    code=\"abalone/evaluation.py\",\n",
    "    property_files=[evaluation_report],\n",
    ")"
   ]
  },
  {
   "cell_type": "markdown",
   "id": "406ec657",
   "metadata": {
    "papermill": {
     "duration": 0.097568,
     "end_time": "2022-04-07T00:29:34.928165",
     "exception": false,
     "start_time": "2022-04-07T00:29:34.830597",
     "status": "completed"
    },
    "tags": []
   },
   "source": [
    "![Define a Model Evaluation Step to Evaluate the Trained Model](https://raw.githubusercontent.com/aws/amazon-sagemaker-examples/main/sagemaker-pipelines/tabular/abalone_build_train_deploy/img/pipeline-4.png)"
   ]
  },
  {
   "cell_type": "markdown",
   "id": "4d10ab00",
   "metadata": {
    "papermill": {
     "duration": 0.100768,
     "end_time": "2022-04-07T00:29:35.138632",
     "exception": false,
     "start_time": "2022-04-07T00:29:35.037864",
     "status": "completed"
    },
    "tags": []
   },
   "source": [
    "### Define a Create Model Step to Create a Model\n",
    "\n",
    "In order to perform batch transformation using the example model, create a SageMaker model. \n",
    "\n",
    "Specifically, pass in the `S3ModelArtifacts` from the `TrainingStep`, `step_train` properties. The `TrainingStep` `properties` attribute matches the object model of the [DescribeTrainingJob](https://docs.aws.amazon.com/sagemaker/latest/APIReference/API_DescribeTrainingJob.html) response object."
   ]
  },
  {
   "cell_type": "code",
   "execution_count": 16,
   "id": "173c5f46",
   "metadata": {
    "execution": {
     "iopub.execute_input": "2022-04-07T00:29:35.431757Z",
     "iopub.status.busy": "2022-04-07T00:29:35.430124Z",
     "iopub.status.idle": "2022-04-07T00:29:35.432370Z",
     "shell.execute_reply": "2022-04-07T00:29:35.432916Z"
    },
    "papermill": {
     "duration": 0.186095,
     "end_time": "2022-04-07T00:29:35.433072",
     "exception": false,
     "start_time": "2022-04-07T00:29:35.246977",
     "status": "completed"
    },
    "tags": []
   },
   "outputs": [],
   "source": [
    "from sagemaker.model import Model\n",
    "\n",
    "\n",
    "model = Model(\n",
    "    image_uri=image_uri,\n",
    "    model_data=step_train.properties.ModelArtifacts.S3ModelArtifacts,\n",
    "    sagemaker_session=sagemaker_session,\n",
    "    role=role,\n",
    ")"
   ]
  },
  {
   "cell_type": "markdown",
   "id": "aa8847c6",
   "metadata": {
    "papermill": {
     "duration": 0.09765,
     "end_time": "2022-04-07T00:29:35.638293",
     "exception": false,
     "start_time": "2022-04-07T00:29:35.540643",
     "status": "completed"
    },
    "tags": []
   },
   "source": [
    "Supply the model input -- `instance_type` and `accelerator_type` for creating the SageMaker Model and then define the `CreateModelStep` passing in the inputs and the model instance defined before."
   ]
  },
  {
   "cell_type": "code",
   "execution_count": 17,
   "id": "559f5b97",
   "metadata": {
    "execution": {
     "iopub.execute_input": "2022-04-07T00:29:35.918121Z",
     "iopub.status.busy": "2022-04-07T00:29:35.916819Z",
     "iopub.status.idle": "2022-04-07T00:29:35.919749Z",
     "shell.execute_reply": "2022-04-07T00:29:35.919279Z"
    },
    "papermill": {
     "duration": 0.172942,
     "end_time": "2022-04-07T00:29:35.919863",
     "exception": false,
     "start_time": "2022-04-07T00:29:35.746921",
     "status": "completed"
    },
    "tags": []
   },
   "outputs": [],
   "source": [
    "from sagemaker.inputs import CreateModelInput\n",
    "from sagemaker.workflow.steps import CreateModelStep\n",
    "\n",
    "\n",
    "inputs = CreateModelInput(\n",
    "    instance_type=\"ml.m5.large\",\n",
    "    accelerator_type=\"ml.eia1.medium\",\n",
    ")\n",
    "step_create_model = CreateModelStep(\n",
    "    name=\"AbaloneCreateModel\",\n",
    "    model=model,\n",
    "    inputs=inputs,\n",
    ")"
   ]
  },
  {
   "cell_type": "markdown",
   "id": "ad25db14",
   "metadata": {
    "papermill": {
     "duration": 0.09775,
     "end_time": "2022-04-07T00:29:36.139185",
     "exception": false,
     "start_time": "2022-04-07T00:29:36.041435",
     "status": "completed"
    },
    "tags": []
   },
   "source": [
    "### Define a Transform Step to Perform Batch Transformation\n",
    "\n",
    "Now that a model instance is defined, create a `Transformer` instance with the appropriate model type, compute instance type, and desired output S3 URI.\n",
    "\n",
    "Specifically, pass in the `ModelName` from the `CreateModelStep`, `step_create_model` properties. The `CreateModelStep` `properties` attribute matches the object model of the [DescribeModel](https://docs.aws.amazon.com/sagemaker/latest/APIReference/API_DescribeModel.html) response object."
   ]
  },
  {
   "cell_type": "code",
   "execution_count": 18,
   "id": "72278dd6",
   "metadata": {
    "execution": {
     "iopub.execute_input": "2022-04-07T00:29:36.436983Z",
     "iopub.status.busy": "2022-04-07T00:29:36.436068Z",
     "iopub.status.idle": "2022-04-07T00:29:36.444930Z",
     "shell.execute_reply": "2022-04-07T00:29:36.516142Z"
    },
    "papermill": {
     "duration": 0.198198,
     "end_time": "2022-04-07T00:29:36.516321",
     "exception": false,
     "start_time": "2022-04-07T00:29:36.318123",
     "status": "completed"
    },
    "tags": []
   },
   "outputs": [],
   "source": [
    "from sagemaker.transformer import Transformer\n",
    "\n",
    "\n",
    "transformer = Transformer(\n",
    "    model_name=step_create_model.properties.ModelName,\n",
    "    instance_type=\"ml.m5.xlarge\",\n",
    "    instance_count=1,\n",
    "    output_path=f\"s3://{default_bucket}/AbaloneTransform\",\n",
    ")"
   ]
  },
  {
   "cell_type": "markdown",
   "id": "58fac23d",
   "metadata": {
    "papermill": {
     "duration": 0.165675,
     "end_time": "2022-04-07T00:29:36.722704",
     "exception": false,
     "start_time": "2022-04-07T00:29:36.557029",
     "status": "completed"
    },
    "tags": []
   },
   "source": [
    "Pass in the transformer instance and the `TransformInput` with the `batch_data` pipeline parameter defined earlier."
   ]
  },
  {
   "cell_type": "code",
   "execution_count": 19,
   "id": "f1c0b5a5",
   "metadata": {
    "execution": {
     "iopub.execute_input": "2022-04-07T00:29:36.935429Z",
     "iopub.status.busy": "2022-04-07T00:29:36.934460Z",
     "iopub.status.idle": "2022-04-07T00:29:36.937096Z",
     "shell.execute_reply": "2022-04-07T00:29:36.936694Z"
    },
    "papermill": {
     "duration": 0.104958,
     "end_time": "2022-04-07T00:29:36.937213",
     "exception": false,
     "start_time": "2022-04-07T00:29:36.832255",
     "status": "completed"
    },
    "tags": []
   },
   "outputs": [],
   "source": [
    "from sagemaker.inputs import TransformInput\n",
    "from sagemaker.workflow.steps import TransformStep\n",
    "\n",
    "\n",
    "step_transform = TransformStep(\n",
    "    name=\"AbaloneTransform\", transformer=transformer, inputs=TransformInput(data=batch_data)\n",
    ")"
   ]
  },
  {
   "cell_type": "markdown",
   "id": "3e02e6be",
   "metadata": {
    "papermill": {
     "duration": 0.109834,
     "end_time": "2022-04-07T00:29:37.154408",
     "exception": false,
     "start_time": "2022-04-07T00:29:37.044574",
     "status": "completed"
    },
    "tags": []
   },
   "source": [
    "### Define a Register Model Step to Create a Model Package\n",
    "\n",
    "Use the estimator instance specified in the training step to construct an instance of `RegisterModel`. The result of executing `RegisterModel` in a pipeline is a model package. A model package is an abstraction of reusable model artifacts that packages all ingredients required for inference. Primarily, it consists of an inference specification that defines the inference image to use along with an optional model weights location.\n",
    "\n",
    "A model package group is a collection of model packages. A model package group can be created for a specific ML business problem, and new versions of the model packages can be added to it. Typically, customers are expected to create a ModelPackageGroup for a SageMaker pipeline so that model package versions can be added to the group for every SageMaker Pipeline run.\n",
    "\n",
    "The construction of `RegisterModel` is similar to an estimator instance's `register` method in the Python SDK.\n",
    "\n",
    "Specifically, pass in the `S3ModelArtifacts` from the `TrainingStep`, `step_train` properties. The `TrainingStep` `properties` attribute matches the object model of the [DescribeTrainingJob](https://docs.aws.amazon.com/sagemaker/latest/APIReference/API_DescribeTrainingJob.html) response object.\n",
    "\n",
    "Note that the specific model package group name provided in this notebook can be used in the model registry and CI/CD work with SageMaker Projects."
   ]
  },
  {
   "cell_type": "code",
   "execution_count": 20,
   "id": "fbac7acb",
   "metadata": {
    "execution": {
     "iopub.execute_input": "2022-04-07T00:29:37.519095Z",
     "iopub.status.busy": "2022-04-07T00:29:37.518339Z",
     "iopub.status.idle": "2022-04-07T00:29:37.836345Z",
     "shell.execute_reply": "2022-04-07T00:29:37.837011Z"
    },
    "papermill": {
     "duration": 0.503415,
     "end_time": "2022-04-07T00:29:37.837167",
     "exception": false,
     "start_time": "2022-04-07T00:29:37.333752",
     "status": "completed"
    },
    "tags": []
   },
   "outputs": [],
   "source": [
    "from sagemaker.model_metrics import MetricsSource, ModelMetrics\n",
    "from sagemaker.workflow.step_collections import RegisterModel\n",
    "\n",
    "\n",
    "model_metrics = ModelMetrics(\n",
    "    model_statistics=MetricsSource(\n",
    "        s3_uri=\"{}/evaluation.json\".format(\n",
    "            step_eval.arguments[\"ProcessingOutputConfig\"][\"Outputs\"][0][\"S3Output\"][\"S3Uri\"]\n",
    "        ),\n",
    "        content_type=\"application/json\",\n",
    "    )\n",
    ")\n",
    "step_register = RegisterModel(\n",
    "    name=\"AbaloneRegisterModel\",\n",
    "    estimator=xgb_train,\n",
    "    model_data=step_train.properties.ModelArtifacts.S3ModelArtifacts,\n",
    "    content_types=[\"text/csv\"],\n",
    "    response_types=[\"text/csv\"],\n",
    "    inference_instances=[\"ml.t2.medium\", \"ml.m5.xlarge\"],\n",
    "    transform_instances=[\"ml.m5.xlarge\"],\n",
    "    model_package_group_name=model_package_group_name,\n",
    "    approval_status=model_approval_status,\n",
    "    model_metrics=model_metrics,\n",
    ")"
   ]
  },
  {
   "cell_type": "markdown",
   "id": "abee21eb",
   "metadata": {
    "papermill": {
     "duration": 0.057827,
     "end_time": "2022-04-07T00:29:37.936046",
     "exception": false,
     "start_time": "2022-04-07T00:29:37.878219",
     "status": "completed"
    },
    "tags": []
   },
   "source": [
    "![Define a Create Model Step and Batch Transform to Process Data in Batch at Scale](https://raw.githubusercontent.com/aws/amazon-sagemaker-examples/main/sagemaker-pipelines/tabular/abalone_build_train_deploy/img/pipeline-5.png)"
   ]
  },
  {
   "cell_type": "markdown",
   "id": "e64d239e",
   "metadata": {
    "papermill": {
     "duration": 0.107844,
     "end_time": "2022-04-07T00:29:38.141794",
     "exception": false,
     "start_time": "2022-04-07T00:29:38.033950",
     "status": "completed"
    },
    "tags": []
   },
   "source": [
    "### Define a Fail Step to Terminate the Pipeline Execution and Mark it as Failed\n",
    "\n",
    "This section walks you through the following steps:\n",
    "\n",
    "* Define a `FailStep` with customized error message, which indicates the cause of the execution failure.\n",
    "* Enter the `FailStep` error message with a `Join` function, which appends a static text string with the dynamic `mse_threshold` parameter to build a more informative error message."
   ]
  },
  {
   "cell_type": "code",
   "execution_count": 21,
   "id": "829e616c",
   "metadata": {
    "collapsed": false,
    "execution": {
     "iopub.execute_input": "2022-04-07T00:29:38.422075Z",
     "iopub.status.busy": "2022-04-07T00:29:38.421125Z",
     "iopub.status.idle": "2022-04-07T00:29:38.423657Z",
     "shell.execute_reply": "2022-04-07T00:29:38.423040Z"
    },
    "jupyter": {
     "outputs_hidden": false
    },
    "papermill": {
     "duration": 0.183497,
     "end_time": "2022-04-07T00:29:38.423854",
     "exception": false,
     "start_time": "2022-04-07T00:29:38.240357",
     "status": "completed"
    },
    "pycharm": {
     "name": "#%%\n"
    },
    "tags": []
   },
   "outputs": [],
   "source": [
    "from sagemaker.workflow.fail_step import FailStep\n",
    "from sagemaker.workflow.functions import Join\n",
    "\n",
    "step_fail = FailStep(\n",
    "    name=\"AbaloneMSEFail\",\n",
    "    error_message=Join(on=\" \", values=[\"Execution failed due to MSE >\", mse_threshold]),\n",
    ")"
   ]
  },
  {
   "cell_type": "markdown",
   "id": "292c9143",
   "metadata": {
    "papermill": {
     "duration": 0.108554,
     "end_time": "2022-04-07T00:29:38.629990",
     "exception": false,
     "start_time": "2022-04-07T00:29:38.521436",
     "status": "completed"
    },
    "tags": []
   },
   "source": [
    "![Define a Fail Step to Terminate the Execution in Failed State](https://raw.githubusercontent.com/aws/amazon-sagemaker-examples/main/sagemaker-pipelines/tabular/abalone_build_train_deploy/img/pipeline-8.png)"
   ]
  },
  {
   "cell_type": "markdown",
   "id": "d6013310",
   "metadata": {
    "papermill": {
     "duration": 0.09827,
     "end_time": "2022-04-07T00:29:38.837539",
     "exception": false,
     "start_time": "2022-04-07T00:29:38.739269",
     "status": "completed"
    },
    "tags": []
   },
   "source": [
    "### Define a Condition Step to Check Accuracy and Conditionally Create a Model and Run a Batch Transformation and Register a Model in the Model Registry, Or Terminate the Execution in Failed State\n",
    "\n",
    "In this step, the model is registered only if the accuracy of the model, as determined by the evaluation step `step_eval`, exceeded a specified value. Otherwise, the pipeline execution fails and terminates. A `ConditionStep` enables pipelines to support conditional execution in the pipeline DAG based on the conditions of the step properties.\n",
    "\n",
    "In the following section, you:\n",
    "\n",
    "* Define a `ConditionLessThanOrEqualTo` on the accuracy value found in the output of the evaluation step, `step_eval`.\n",
    "* Use the condition in the list of conditions in a `ConditionStep`.\n",
    "* Pass the `CreateModelStep` and `TransformStep` steps, and the `RegisterModel` step collection into the `if_steps` of the `ConditionStep`, which are only executed if the condition evaluates to `True`.\n",
    "* Pass the `FailStep` step into the `else_steps`of the `ConditionStep`, which is only executed if the condition evaluates to `False`."
   ]
  },
  {
   "cell_type": "code",
   "execution_count": 22,
   "id": "7c9808cf",
   "metadata": {
    "execution": {
     "iopub.execute_input": "2022-04-07T00:29:39.121797Z",
     "iopub.status.busy": "2022-04-07T00:29:39.120910Z",
     "iopub.status.idle": "2022-04-07T00:29:39.127246Z",
     "shell.execute_reply": "2022-04-07T00:29:39.127648Z"
    },
    "papermill": {
     "duration": 0.182289,
     "end_time": "2022-04-07T00:29:39.127792",
     "exception": false,
     "start_time": "2022-04-07T00:29:38.945503",
     "status": "completed"
    },
    "tags": []
   },
   "outputs": [],
   "source": [
    "from sagemaker.workflow.conditions import ConditionLessThanOrEqualTo\n",
    "from sagemaker.workflow.condition_step import ConditionStep\n",
    "from sagemaker.workflow.functions import JsonGet\n",
    "\n",
    "\n",
    "cond_lte = ConditionLessThanOrEqualTo(\n",
    "    left=JsonGet(\n",
    "        step_name=step_eval.name,\n",
    "        property_file=evaluation_report,\n",
    "        json_path=\"regression_metrics.mse.value\",\n",
    "    ),\n",
    "    right=mse_threshold,\n",
    ")\n",
    "\n",
    "step_cond = ConditionStep(\n",
    "    name=\"AbaloneMSECond\",\n",
    "    conditions=[cond_lte],\n",
    "    if_steps=[step_register, step_create_model, step_transform],\n",
    "    else_steps=[step_fail],\n",
    ")"
   ]
  },
  {
   "cell_type": "markdown",
   "id": "daf2994c",
   "metadata": {
    "papermill": {
     "duration": 0.113295,
     "end_time": "2022-04-07T00:29:39.339215",
     "exception": false,
     "start_time": "2022-04-07T00:29:39.225920",
     "status": "completed"
    },
    "tags": []
   },
   "source": [
    "![Define a Condition Step to Check Accuracy and Conditionally Execute Steps](https://raw.githubusercontent.com/aws/amazon-sagemaker-examples/main/sagemaker-pipelines/tabular/abalone_build_train_deploy/img/pipeline-6.png)"
   ]
  },
  {
   "cell_type": "markdown",
   "id": "d4951154",
   "metadata": {
    "papermill": {
     "duration": 0.097939,
     "end_time": "2022-04-07T00:29:39.540024",
     "exception": false,
     "start_time": "2022-04-07T00:29:39.442085",
     "status": "completed"
    },
    "tags": []
   },
   "source": [
    "### Define a Pipeline of Parameters, Steps, and Conditions\n",
    "\n",
    "In this section, combine the steps into a Pipeline so it can be executed.\n",
    "\n",
    "A pipeline requires a `name`, `parameters`, and `steps`. Names must be unique within an `(account, region)` pair.\n",
    "\n",
    "Note:\n",
    "\n",
    "* All the parameters used in the definitions must be present.\n",
    "* Steps passed into the pipeline do not have to be listed in the order of execution. The SageMaker Pipeline service resolves the _data dependency_ DAG as steps for the execution to complete.\n",
    "* Steps must be unique to across the pipeline step list and all condition step if/else lists."
   ]
  },
  {
   "cell_type": "code",
   "execution_count": 23,
   "id": "423b7075",
   "metadata": {
    "execution": {
     "iopub.execute_input": "2022-04-07T00:29:39.820886Z",
     "iopub.status.busy": "2022-04-07T00:29:39.820023Z",
     "iopub.status.idle": "2022-04-07T00:29:39.837899Z",
     "shell.execute_reply": "2022-04-07T00:29:39.838323Z"
    },
    "papermill": {
     "duration": 0.190203,
     "end_time": "2022-04-07T00:29:39.838469",
     "exception": false,
     "start_time": "2022-04-07T00:29:39.648266",
     "status": "completed"
    },
    "tags": []
   },
   "outputs": [],
   "source": [
    "from sagemaker.workflow.pipeline import Pipeline\n",
    "\n",
    "\n",
    "pipeline_name = f\"AbalonePipeline\"\n",
    "pipeline = Pipeline(\n",
    "    name=pipeline_name,\n",
    "    parameters=[\n",
    "        processing_instance_type,\n",
    "        processing_instance_count,\n",
    "        training_instance_type,\n",
    "        model_approval_status,\n",
    "        input_data,\n",
    "        batch_data,\n",
    "        mse_threshold,\n",
    "    ],\n",
    "    steps=[step_process, step_train, step_eval, step_cond],\n",
    ")"
   ]
  },
  {
   "cell_type": "markdown",
   "id": "371b9489",
   "metadata": {
    "papermill": {
     "duration": 0.10785,
     "end_time": "2022-04-07T00:29:40.054934",
     "exception": false,
     "start_time": "2022-04-07T00:29:39.947084",
     "status": "completed"
    },
    "tags": []
   },
   "source": [
    "![Define a Pipeline of Parameters, Steps, and Conditions](https://raw.githubusercontent.com/aws/amazon-sagemaker-examples/main/sagemaker-pipelines/tabular/abalone_build_train_deploy/img/pipeline-7.png)"
   ]
  },
  {
   "cell_type": "markdown",
   "id": "3b46b294",
   "metadata": {
    "papermill": {
     "duration": 0.10924,
     "end_time": "2022-04-07T00:29:40.329991",
     "exception": false,
     "start_time": "2022-04-07T00:29:40.220751",
     "status": "completed"
    },
    "tags": []
   },
   "source": [
    "#### (Optional) Examining the pipeline definition\n",
    "\n",
    "The JSON of the pipeline definition can be examined to confirm the pipeline is well-defined and the parameters and step properties resolve correctly."
   ]
  },
  {
   "cell_type": "code",
   "execution_count": 24,
   "id": "c791e48b",
   "metadata": {
    "execution": {
     "iopub.execute_input": "2022-04-07T00:29:40.618072Z",
     "iopub.status.busy": "2022-04-07T00:29:40.617138Z",
     "iopub.status.idle": "2022-04-07T00:29:41.240783Z",
     "shell.execute_reply": "2022-04-07T00:29:41.241596Z"
    },
    "papermill": {
     "duration": 0.811304,
     "end_time": "2022-04-07T00:29:41.241752",
     "exception": false,
     "start_time": "2022-04-07T00:29:40.430448",
     "status": "completed"
    },
    "tags": []
   },
   "outputs": [
    {
     "name": "stderr",
     "output_type": "stream",
     "text": [
      "No finished training job found associated with this estimator. Please make sure this estimator is only used for building workflow config\n"
     ]
    },
    {
     "data": {
      "text/plain": [
       "{'Version': '2020-12-01',\n",
       " 'Metadata': {},\n",
       " 'Parameters': [{'Name': 'ProcessingInstanceType',\n",
       "   'Type': 'String',\n",
       "   'DefaultValue': 'ml.m5.xlarge'},\n",
       "  {'Name': 'ProcessingInstanceCount', 'Type': 'Integer', 'DefaultValue': 1},\n",
       "  {'Name': 'TrainingInstanceType',\n",
       "   'Type': 'String',\n",
       "   'DefaultValue': 'ml.m5.xlarge'},\n",
       "  {'Name': 'ModelApprovalStatus',\n",
       "   'Type': 'String',\n",
       "   'DefaultValue': 'PendingManualApproval'},\n",
       "  {'Name': 'InputData',\n",
       "   'Type': 'String',\n",
       "   'DefaultValue': 's3://sagemaker-us-west-2-000000000000/abalone/abalone-dataset.csv'},\n",
       "  {'Name': 'BatchData',\n",
       "   'Type': 'String',\n",
       "   'DefaultValue': 's3://sagemaker-us-west-2-000000000000/abalone/abalone-dataset-batch'},\n",
       "  {'Name': 'MseThreshold', 'Type': 'Float', 'DefaultValue': 6.0}],\n",
       " 'PipelineExperimentConfig': {'ExperimentName': {'Get': 'Execution.PipelineName'},\n",
       "  'TrialName': {'Get': 'Execution.PipelineExecutionId'}},\n",
       " 'Steps': [{'Name': 'AbaloneProcess',\n",
       "   'Type': 'Processing',\n",
       "   'Arguments': {'ProcessingResources': {'ClusterConfig': {'InstanceType': {'Get': 'Parameters.ProcessingInstanceType'},\n",
       "      'InstanceCount': {'Get': 'Parameters.ProcessingInstanceCount'},\n",
       "      'VolumeSizeInGB': 30}},\n",
       "    'AppSpecification': {'ImageUri': '246618743249.dkr.ecr.us-west-2.amazonaws.com/sagemaker-scikit-learn:0.23-1-cpu-py3',\n",
       "     'ContainerEntrypoint': ['python3',\n",
       "      '/opt/ml/processing/input/code/preprocessing.py']},\n",
       "    'RoleArn': 'arn:aws:iam::000000000000:role/ProdBuildSystemStack-ReleaseBuildRoleFB326D49-QK8LUA2UI1IC',\n",
       "    'ProcessingInputs': [{'InputName': 'input-1',\n",
       "      'AppManaged': False,\n",
       "      'S3Input': {'S3Uri': {'Get': 'Parameters.InputData'},\n",
       "       'LocalPath': '/opt/ml/processing/input',\n",
       "       'S3DataType': 'S3Prefix',\n",
       "       'S3InputMode': 'File',\n",
       "       'S3DataDistributionType': 'FullyReplicated',\n",
       "       'S3CompressionType': 'None'}},\n",
       "     {'InputName': 'code',\n",
       "      'AppManaged': False,\n",
       "      'S3Input': {'S3Uri': 's3://sagemaker-us-west-2-000000000000/AbaloneProcess-e6ff493b4b79fe2e2f2146b46607be87/input/code/preprocessing.py',\n",
       "       'LocalPath': '/opt/ml/processing/input/code',\n",
       "       'S3DataType': 'S3Prefix',\n",
       "       'S3InputMode': 'File',\n",
       "       'S3DataDistributionType': 'FullyReplicated',\n",
       "       'S3CompressionType': 'None'}}],\n",
       "    'ProcessingOutputConfig': {'Outputs': [{'OutputName': 'train',\n",
       "       'AppManaged': False,\n",
       "       'S3Output': {'S3Uri': 's3://sagemaker-us-west-2-000000000000/AbaloneProcess-e6ff493b4b79fe2e2f2146b46607be87/output/train',\n",
       "        'LocalPath': '/opt/ml/processing/train',\n",
       "        'S3UploadMode': 'EndOfJob'}},\n",
       "      {'OutputName': 'validation',\n",
       "       'AppManaged': False,\n",
       "       'S3Output': {'S3Uri': 's3://sagemaker-us-west-2-000000000000/AbaloneProcess-e6ff493b4b79fe2e2f2146b46607be87/output/validation',\n",
       "        'LocalPath': '/opt/ml/processing/validation',\n",
       "        'S3UploadMode': 'EndOfJob'}},\n",
       "      {'OutputName': 'test',\n",
       "       'AppManaged': False,\n",
       "       'S3Output': {'S3Uri': 's3://sagemaker-us-west-2-000000000000/AbaloneProcess-e6ff493b4b79fe2e2f2146b46607be87/output/test',\n",
       "        'LocalPath': '/opt/ml/processing/test',\n",
       "        'S3UploadMode': 'EndOfJob'}}]}}},\n",
       "  {'Name': 'AbaloneTrain',\n",
       "   'Type': 'Training',\n",
       "   'Arguments': {'AlgorithmSpecification': {'TrainingInputMode': 'File',\n",
       "     'TrainingImage': '246618743249.dkr.ecr.us-west-2.amazonaws.com/sagemaker-xgboost:1.0-1-cpu-py3'},\n",
       "    'OutputDataConfig': {'S3OutputPath': 's3://sagemaker-us-west-2-000000000000/AbaloneTrain'},\n",
       "    'StoppingCondition': {'MaxRuntimeInSeconds': 86400},\n",
       "    'ResourceConfig': {'InstanceCount': 1,\n",
       "     'InstanceType': {'Get': 'Parameters.TrainingInstanceType'},\n",
       "     'VolumeSizeInGB': 30},\n",
       "    'RoleArn': 'arn:aws:iam::000000000000:role/ProdBuildSystemStack-ReleaseBuildRoleFB326D49-QK8LUA2UI1IC',\n",
       "    'InputDataConfig': [{'DataSource': {'S3DataSource': {'S3DataType': 'S3Prefix',\n",
       "        'S3Uri': {'Get': \"Steps.AbaloneProcess.ProcessingOutputConfig.Outputs['train'].S3Output.S3Uri\"},\n",
       "        'S3DataDistributionType': 'FullyReplicated'}},\n",
       "      'ContentType': 'text/csv',\n",
       "      'ChannelName': 'train'},\n",
       "     {'DataSource': {'S3DataSource': {'S3DataType': 'S3Prefix',\n",
       "        'S3Uri': {'Get': \"Steps.AbaloneProcess.ProcessingOutputConfig.Outputs['validation'].S3Output.S3Uri\"},\n",
       "        'S3DataDistributionType': 'FullyReplicated'}},\n",
       "      'ContentType': 'text/csv',\n",
       "      'ChannelName': 'validation'}],\n",
       "    'HyperParameters': {'objective': 'reg:linear',\n",
       "     'num_round': '50',\n",
       "     'max_depth': '5',\n",
       "     'eta': '0.2',\n",
       "     'gamma': '4',\n",
       "     'min_child_weight': '6',\n",
       "     'subsample': '0.7',\n",
       "     'silent': '0'},\n",
       "    'ProfilerRuleConfigurations': [{'RuleConfigurationName': 'ProfilerReport-1649291381',\n",
       "      'RuleEvaluatorImage': '895741380848.dkr.ecr.us-west-2.amazonaws.com/sagemaker-debugger-rules:latest',\n",
       "      'RuleParameters': {'rule_to_invoke': 'ProfilerReport'}}],\n",
       "    'ProfilerConfig': {'S3OutputPath': 's3://sagemaker-us-west-2-000000000000/AbaloneTrain'}}},\n",
       "  {'Name': 'AbaloneEval',\n",
       "   'Type': 'Processing',\n",
       "   'Arguments': {'ProcessingResources': {'ClusterConfig': {'InstanceType': {'Get': 'Parameters.ProcessingInstanceType'},\n",
       "      'InstanceCount': 1,\n",
       "      'VolumeSizeInGB': 30}},\n",
       "    'AppSpecification': {'ImageUri': '246618743249.dkr.ecr.us-west-2.amazonaws.com/sagemaker-xgboost:1.0-1-cpu-py3',\n",
       "     'ContainerEntrypoint': ['python3',\n",
       "      '/opt/ml/processing/input/code/evaluation.py']},\n",
       "    'RoleArn': 'arn:aws:iam::000000000000:role/ProdBuildSystemStack-ReleaseBuildRoleFB326D49-QK8LUA2UI1IC',\n",
       "    'ProcessingInputs': [{'InputName': 'input-1',\n",
       "      'AppManaged': False,\n",
       "      'S3Input': {'S3Uri': {'Get': 'Steps.AbaloneTrain.ModelArtifacts.S3ModelArtifacts'},\n",
       "       'LocalPath': '/opt/ml/processing/model',\n",
       "       'S3DataType': 'S3Prefix',\n",
       "       'S3InputMode': 'File',\n",
       "       'S3DataDistributionType': 'FullyReplicated',\n",
       "       'S3CompressionType': 'None'}},\n",
       "     {'InputName': 'input-2',\n",
       "      'AppManaged': False,\n",
       "      'S3Input': {'S3Uri': {'Get': \"Steps.AbaloneProcess.ProcessingOutputConfig.Outputs['test'].S3Output.S3Uri\"},\n",
       "       'LocalPath': '/opt/ml/processing/test',\n",
       "       'S3DataType': 'S3Prefix',\n",
       "       'S3InputMode': 'File',\n",
       "       'S3DataDistributionType': 'FullyReplicated',\n",
       "       'S3CompressionType': 'None'}},\n",
       "     {'InputName': 'code',\n",
       "      'AppManaged': False,\n",
       "      'S3Input': {'S3Uri': 's3://sagemaker-us-west-2-000000000000/AbaloneEval-3419a950c93b74404394e09ce2edc51e/input/code/evaluation.py',\n",
       "       'LocalPath': '/opt/ml/processing/input/code',\n",
       "       'S3DataType': 'S3Prefix',\n",
       "       'S3InputMode': 'File',\n",
       "       'S3DataDistributionType': 'FullyReplicated',\n",
       "       'S3CompressionType': 'None'}}],\n",
       "    'ProcessingOutputConfig': {'Outputs': [{'OutputName': 'evaluation',\n",
       "       'AppManaged': False,\n",
       "       'S3Output': {'S3Uri': 's3://sagemaker-us-west-2-000000000000/AbaloneEval-3419a950c93b74404394e09ce2edc51e/output/evaluation',\n",
       "        'LocalPath': '/opt/ml/processing/evaluation',\n",
       "        'S3UploadMode': 'EndOfJob'}}]}},\n",
       "   'PropertyFiles': [{'PropertyFileName': 'EvaluationReport',\n",
       "     'OutputName': 'evaluation',\n",
       "     'FilePath': 'evaluation.json'}]},\n",
       "  {'Name': 'AbaloneMSECond',\n",
       "   'Type': 'Condition',\n",
       "   'Arguments': {'Conditions': [{'Type': 'LessThanOrEqualTo',\n",
       "      'LeftValue': {'Std:JsonGet': {'PropertyFile': {'Get': 'Steps.AbaloneEval.PropertyFiles.EvaluationReport'},\n",
       "        'Path': 'regression_metrics.mse.value'}},\n",
       "      'RightValue': {'Get': 'Parameters.MseThreshold'}}],\n",
       "    'IfSteps': [{'Name': 'AbaloneRegisterModel',\n",
       "      'Type': 'RegisterModel',\n",
       "      'Arguments': {'ModelPackageGroupName': 'AbaloneModelPackageGroupName',\n",
       "       'ModelMetrics': {'ModelQuality': {'Statistics': {'ContentType': 'application/json',\n",
       "          'S3Uri': 's3://sagemaker-us-west-2-000000000000/AbaloneEval-3419a950c93b74404394e09ce2edc51e/output/evaluation/evaluation.json'}},\n",
       "        'Bias': {},\n",
       "        'Explainability': {}},\n",
       "       'InferenceSpecification': {'Containers': [{'Image': '246618743249.dkr.ecr.us-west-2.amazonaws.com/sagemaker-xgboost:1.0-1-cpu-py3',\n",
       "          'ModelDataUrl': {'Get': 'Steps.AbaloneTrain.ModelArtifacts.S3ModelArtifacts'}}],\n",
       "        'SupportedContentTypes': ['text/csv'],\n",
       "        'SupportedResponseMIMETypes': ['text/csv'],\n",
       "        'SupportedRealtimeInferenceInstanceTypes': ['ml.t2.medium',\n",
       "         'ml.m5.xlarge'],\n",
       "        'SupportedTransformInstanceTypes': ['ml.m5.xlarge']},\n",
       "       'ModelApprovalStatus': {'Get': 'Parameters.ModelApprovalStatus'}}},\n",
       "     {'Name': 'AbaloneCreateModel',\n",
       "      'Type': 'Model',\n",
       "      'Arguments': {'ExecutionRoleArn': 'arn:aws:iam::000000000000:role/ProdBuildSystemStack-ReleaseBuildRoleFB326D49-QK8LUA2UI1IC',\n",
       "       'PrimaryContainer': {'Image': '246618743249.dkr.ecr.us-west-2.amazonaws.com/sagemaker-xgboost:1.0-1-cpu-py3',\n",
       "        'Environment': {},\n",
       "        'ModelDataUrl': {'Get': 'Steps.AbaloneTrain.ModelArtifacts.S3ModelArtifacts'}}}},\n",
       "     {'Name': 'AbaloneTransform',\n",
       "      'Type': 'Transform',\n",
       "      'Arguments': {'ModelName': {'Get': 'Steps.AbaloneCreateModel.ModelName'},\n",
       "       'TransformInput': {'DataSource': {'S3DataSource': {'S3DataType': 'S3Prefix',\n",
       "          'S3Uri': {'Get': 'Parameters.BatchData'}}}},\n",
       "       'TransformOutput': {'S3OutputPath': 's3://sagemaker-us-west-2-000000000000/AbaloneTransform'},\n",
       "       'TransformResources': {'InstanceCount': 1,\n",
       "        'InstanceType': 'ml.m5.xlarge'}}}],\n",
       "    'ElseSteps': [{'Name': 'AbaloneMSEFail',\n",
       "      'Type': 'Fail',\n",
       "      'Arguments': {'ErrorMessage': {'Std:Join': {'On': ' ',\n",
       "         'Values': ['Execution failed due to MSE >',\n",
       "          {'Get': 'Parameters.MseThreshold'}]}}}}]}}]}"
      ]
     },
     "execution_count": 24,
     "metadata": {},
     "output_type": "execute_result"
    }
   ],
   "source": [
    "import json\n",
    "\n",
    "\n",
    "definition = json.loads(pipeline.definition())\n",
    "definition"
   ]
  },
  {
   "cell_type": "markdown",
   "id": "091d69b2",
   "metadata": {
    "papermill": {
     "duration": 0.177914,
     "end_time": "2022-04-07T00:29:41.520376",
     "exception": false,
     "start_time": "2022-04-07T00:29:41.342462",
     "status": "completed"
    },
    "tags": []
   },
   "source": [
    "### Submit the pipeline to SageMaker and start execution\n",
    "\n",
    "Submit the pipeline definition to the Pipeline service. The role passed in will be used by the Pipeline service to create all the jobs defined in the steps."
   ]
  },
  {
   "cell_type": "code",
   "execution_count": 25,
   "id": "238000c4",
   "metadata": {
    "execution": {
     "iopub.execute_input": "2022-04-07T00:29:41.734876Z",
     "iopub.status.busy": "2022-04-07T00:29:41.731896Z",
     "iopub.status.idle": "2022-04-07T00:29:42.988468Z",
     "shell.execute_reply": "2022-04-07T00:29:42.987448Z"
    },
    "papermill": {
     "duration": 1.369708,
     "end_time": "2022-04-07T00:29:42.988596",
     "exception": false,
     "start_time": "2022-04-07T00:29:41.618888",
     "status": "completed"
    },
    "tags": []
   },
   "outputs": [
    {
     "name": "stderr",
     "output_type": "stream",
     "text": [
      "No finished training job found associated with this estimator. Please make sure this estimator is only used for building workflow config\n"
     ]
    },
    {
     "name": "stderr",
     "output_type": "stream",
     "text": [
      "No finished training job found associated with this estimator. Please make sure this estimator is only used for building workflow config\n"
     ]
    },
    {
     "data": {
      "text/plain": [
       "{'PipelineArn': 'arn:aws:sagemaker:us-west-2:000000000000:pipeline/abalonepipeline',\n",
       " 'ResponseMetadata': {'RequestId': '7b73f82e-0f18-45e5-970d-4022fdece76d',\n",
       "  'HTTPStatusCode': 200,\n",
       "  'HTTPHeaders': {'x-amzn-requestid': '7b73f82e-0f18-45e5-970d-4022fdece76d',\n",
       "   'content-type': 'application/x-amz-json-1.1',\n",
       "   'content-length': '83',\n",
       "   'date': 'Thu, 07 Apr 2022 00:29:42 GMT'},\n",
       "  'RetryAttempts': 0}}"
      ]
     },
     "execution_count": 25,
     "metadata": {},
     "output_type": "execute_result"
    }
   ],
   "source": [
    "pipeline.upsert(role_arn=role)"
   ]
  },
  {
   "cell_type": "markdown",
   "id": "d3d07857",
   "metadata": {
    "papermill": {
     "duration": 0.043273,
     "end_time": "2022-04-07T00:29:43.074973",
     "exception": false,
     "start_time": "2022-04-07T00:29:43.031700",
     "status": "completed"
    },
    "tags": []
   },
   "source": [
    "Start the pipeline and accept all the default parameters."
   ]
  },
  {
   "cell_type": "code",
   "execution_count": 26,
   "id": "58aad455",
   "metadata": {
    "execution": {
     "iopub.execute_input": "2022-04-07T00:29:43.167656Z",
     "iopub.status.busy": "2022-04-07T00:29:43.167115Z",
     "iopub.status.idle": "2022-04-07T00:29:43.429144Z",
     "shell.execute_reply": "2022-04-07T00:29:43.429559Z"
    },
    "papermill": {
     "duration": 0.311758,
     "end_time": "2022-04-07T00:29:43.429701",
     "exception": false,
     "start_time": "2022-04-07T00:29:43.117943",
     "status": "completed"
    },
    "tags": []
   },
   "outputs": [],
   "source": [
    "execution = pipeline.start()"
   ]
  },
  {
   "cell_type": "markdown",
   "id": "b67ee029",
   "metadata": {
    "papermill": {
     "duration": 0.04468,
     "end_time": "2022-04-07T00:29:43.518448",
     "exception": false,
     "start_time": "2022-04-07T00:29:43.473768",
     "status": "completed"
    },
    "tags": []
   },
   "source": [
    "### Pipeline Operations: Examining and Waiting for Pipeline Execution\n",
    "\n",
    "Describe the pipeline execution."
   ]
  },
  {
   "cell_type": "code",
   "execution_count": 27,
   "id": "696db0a0",
   "metadata": {
    "execution": {
     "iopub.execute_input": "2022-04-07T00:29:43.614276Z",
     "iopub.status.busy": "2022-04-07T00:29:43.613716Z",
     "iopub.status.idle": "2022-04-07T00:29:43.673336Z",
     "shell.execute_reply": "2022-04-07T00:29:43.673718Z"
    },
    "papermill": {
     "duration": 0.110444,
     "end_time": "2022-04-07T00:29:43.673856",
     "exception": false,
     "start_time": "2022-04-07T00:29:43.563412",
     "status": "completed"
    },
    "tags": []
   },
   "outputs": [
    {
     "data": {
      "text/plain": [
       "{'PipelineArn': 'arn:aws:sagemaker:us-west-2:000000000000:pipeline/abalonepipeline',\n",
       " 'PipelineExecutionArn': 'arn:aws:sagemaker:us-west-2:000000000000:pipeline/abalonepipeline/execution/3t898o5jiy2w',\n",
       " 'PipelineExecutionDisplayName': 'execution-1649291383390',\n",
       " 'PipelineExecutionStatus': 'Executing',\n",
       " 'CreationTime': datetime.datetime(2022, 4, 7, 0, 29, 43, 255000, tzinfo=tzlocal()),\n",
       " 'LastModifiedTime': datetime.datetime(2022, 4, 7, 0, 29, 43, 255000, tzinfo=tzlocal()),\n",
       " 'CreatedBy': {},\n",
       " 'LastModifiedBy': {},\n",
       " 'ResponseMetadata': {'RequestId': '95d65092-ce1f-4aa2-9a73-13726931ad5f',\n",
       "  'HTTPStatusCode': 200,\n",
       "  'HTTPHeaders': {'x-amzn-requestid': '95d65092-ce1f-4aa2-9a73-13726931ad5f',\n",
       "   'content-type': 'application/x-amz-json-1.1',\n",
       "   'content-length': '395',\n",
       "   'date': 'Thu, 07 Apr 2022 00:29:43 GMT'},\n",
       "  'RetryAttempts': 0}}"
      ]
     },
     "execution_count": 27,
     "metadata": {},
     "output_type": "execute_result"
    }
   ],
   "source": [
    "execution.describe()"
   ]
  },
  {
   "cell_type": "markdown",
   "id": "5fc57823",
   "metadata": {
    "papermill": {
     "duration": 0.046444,
     "end_time": "2022-04-07T00:29:43.766229",
     "exception": false,
     "start_time": "2022-04-07T00:29:43.719785",
     "status": "completed"
    },
    "tags": []
   },
   "source": [
    "Wait for the execution to complete."
   ]
  },
  {
   "cell_type": "code",
   "execution_count": 28,
   "id": "a5d974aa",
   "metadata": {
    "execution": {
     "iopub.execute_input": "2022-04-07T00:29:43.871458Z",
     "iopub.status.busy": "2022-04-07T00:29:43.870846Z",
     "iopub.status.idle": "2022-04-07T00:46:17.365145Z",
     "shell.execute_reply": "2022-04-07T00:46:17.364429Z"
    },
    "papermill": {
     "duration": 993.545886,
     "end_time": "2022-04-07T00:46:17.365267",
     "exception": false,
     "start_time": "2022-04-07T00:29:43.819381",
     "status": "completed"
    },
    "tags": []
   },
   "outputs": [],
   "source": [
    "execution.wait()"
   ]
  },
  {
   "cell_type": "markdown",
   "id": "55b1910f",
   "metadata": {
    "papermill": {
     "duration": 0.04985,
     "end_time": "2022-04-07T00:46:17.463741",
     "exception": false,
     "start_time": "2022-04-07T00:46:17.413891",
     "status": "completed"
    },
    "tags": []
   },
   "source": [
    "List the steps in the execution. These are the steps in the pipeline that have been resolved by the step executor service."
   ]
  },
  {
   "cell_type": "code",
   "execution_count": 29,
   "id": "64ee9dd1",
   "metadata": {
    "execution": {
     "iopub.execute_input": "2022-04-07T00:46:17.564296Z",
     "iopub.status.busy": "2022-04-07T00:46:17.563689Z",
     "iopub.status.idle": "2022-04-07T00:46:17.661302Z",
     "shell.execute_reply": "2022-04-07T00:46:17.661668Z"
    },
    "papermill": {
     "duration": 0.151028,
     "end_time": "2022-04-07T00:46:17.661800",
     "exception": false,
     "start_time": "2022-04-07T00:46:17.510772",
     "status": "completed"
    },
    "tags": []
   },
   "outputs": [
    {
     "data": {
      "text/plain": [
       "[{'StepName': 'AbaloneTransform',\n",
       "  'StartTime': datetime.datetime(2022, 4, 7, 0, 41, 35, 576000, tzinfo=tzlocal()),\n",
       "  'EndTime': datetime.datetime(2022, 4, 7, 0, 46, 3, 162000, tzinfo=tzlocal()),\n",
       "  'StepStatus': 'Succeeded',\n",
       "  'AttemptCount': 0,\n",
       "  'Metadata': {'TransformJob': {'Arn': 'arn:aws:sagemaker:us-west-2:000000000000:transform-job/pipelines-3t898o5jiy2w-abalonetransform-imm4dycajs'}}},\n",
       " {'StepName': 'AbaloneCreateModel',\n",
       "  'StartTime': datetime.datetime(2022, 4, 7, 0, 41, 34, 43000, tzinfo=tzlocal()),\n",
       "  'EndTime': datetime.datetime(2022, 4, 7, 0, 41, 34, 913000, tzinfo=tzlocal()),\n",
       "  'StepStatus': 'Succeeded',\n",
       "  'AttemptCount': 0,\n",
       "  'Metadata': {'Model': {'Arn': 'arn:aws:sagemaker:us-west-2:000000000000:model/pipelines-3t898o5jiy2w-abalonecreatemodel-bqtieczwab'}}},\n",
       " {'StepName': 'AbaloneRegisterModel',\n",
       "  'StartTime': datetime.datetime(2022, 4, 7, 0, 41, 34, 43000, tzinfo=tzlocal()),\n",
       "  'EndTime': datetime.datetime(2022, 4, 7, 0, 41, 34, 772000, tzinfo=tzlocal()),\n",
       "  'StepStatus': 'Succeeded',\n",
       "  'AttemptCount': 0,\n",
       "  'Metadata': {'RegisterModel': {'Arn': 'arn:aws:sagemaker:us-west-2:000000000000:model-package/abalonemodelpackagegroupname/663'}}},\n",
       " {'StepName': 'AbaloneMSECond',\n",
       "  'StartTime': datetime.datetime(2022, 4, 7, 0, 41, 33, 68000, tzinfo=tzlocal()),\n",
       "  'EndTime': datetime.datetime(2022, 4, 7, 0, 41, 33, 417000, tzinfo=tzlocal()),\n",
       "  'StepStatus': 'Succeeded',\n",
       "  'AttemptCount': 0,\n",
       "  'Metadata': {'Condition': {'Outcome': 'True'}}},\n",
       " {'StepName': 'AbaloneEval',\n",
       "  'StartTime': datetime.datetime(2022, 4, 7, 0, 37, 11, 758000, tzinfo=tzlocal()),\n",
       "  'EndTime': datetime.datetime(2022, 4, 7, 0, 41, 32, 599000, tzinfo=tzlocal()),\n",
       "  'StepStatus': 'Succeeded',\n",
       "  'AttemptCount': 0,\n",
       "  'Metadata': {'ProcessingJob': {'Arn': 'arn:aws:sagemaker:us-west-2:000000000000:processing-job/pipelines-3t898o5jiy2w-abaloneeval-gxbaawpzt2'}}},\n",
       " {'StepName': 'AbaloneTrain',\n",
       "  'StartTime': datetime.datetime(2022, 4, 7, 0, 34, 24, 681000, tzinfo=tzlocal()),\n",
       "  'EndTime': datetime.datetime(2022, 4, 7, 0, 37, 10, 840000, tzinfo=tzlocal()),\n",
       "  'StepStatus': 'Succeeded',\n",
       "  'AttemptCount': 0,\n",
       "  'Metadata': {'TrainingJob': {'Arn': 'arn:aws:sagemaker:us-west-2:000000000000:training-job/pipelines-3t898o5jiy2w-abalonetrain-gwndyxlers'}}},\n",
       " {'StepName': 'AbaloneProcess',\n",
       "  'StartTime': datetime.datetime(2022, 4, 7, 0, 29, 44, 602000, tzinfo=tzlocal()),\n",
       "  'EndTime': datetime.datetime(2022, 4, 7, 0, 34, 24, 69000, tzinfo=tzlocal()),\n",
       "  'StepStatus': 'Succeeded',\n",
       "  'AttemptCount': 0,\n",
       "  'Metadata': {'ProcessingJob': {'Arn': 'arn:aws:sagemaker:us-west-2:000000000000:processing-job/pipelines-3t898o5jiy2w-abaloneprocess-l9txjt3mdg'}}}]"
      ]
     },
     "execution_count": 29,
     "metadata": {},
     "output_type": "execute_result"
    }
   ],
   "source": [
    "execution.list_steps()"
   ]
  },
  {
   "cell_type": "markdown",
   "id": "234d1e57",
   "metadata": {
    "papermill": {
     "duration": 0.050681,
     "end_time": "2022-04-07T00:46:17.766127",
     "exception": false,
     "start_time": "2022-04-07T00:46:17.715446",
     "status": "completed"
    },
    "tags": []
   },
   "source": [
    "### Examining the Evaluation\n",
    "\n",
    "Examine the resulting model evaluation after the pipeline completes. Download the resulting `evaluation.json` file from S3 and print the report."
   ]
  },
  {
   "cell_type": "code",
   "execution_count": 30,
   "id": "87f70014",
   "metadata": {
    "execution": {
     "iopub.execute_input": "2022-04-07T00:46:17.879390Z",
     "iopub.status.busy": "2022-04-07T00:46:17.878475Z",
     "iopub.status.idle": "2022-04-07T00:46:18.023955Z",
     "shell.execute_reply": "2022-04-07T00:46:18.024997Z"
    },
    "papermill": {
     "duration": 0.209867,
     "end_time": "2022-04-07T00:46:18.025210",
     "exception": false,
     "start_time": "2022-04-07T00:46:17.815343",
     "status": "completed"
    },
    "tags": []
   },
   "outputs": [
    {
     "name": "stdout",
     "output_type": "stream",
     "text": [
      "{'regression_metrics': {'mse': {'standard_deviation': 2.170328713080042,\n",
      "                                'value': 4.711038007967878}}}\n"
     ]
    }
   ],
   "source": [
    "from pprint import pprint\n",
    "\n",
    "\n",
    "evaluation_json = sagemaker.s3.S3Downloader.read_file(\n",
    "    \"{}/evaluation.json\".format(\n",
    "        step_eval.arguments[\"ProcessingOutputConfig\"][\"Outputs\"][0][\"S3Output\"][\"S3Uri\"]\n",
    "    )\n",
    ")\n",
    "pprint(json.loads(evaluation_json))"
   ]
  },
  {
   "cell_type": "markdown",
   "id": "2fdfeed3",
   "metadata": {
    "papermill": {
     "duration": 0.060893,
     "end_time": "2022-04-07T00:46:18.142674",
     "exception": false,
     "start_time": "2022-04-07T00:46:18.081781",
     "status": "completed"
    },
    "tags": []
   },
   "source": [
    "### Lineage\n",
    "\n",
    "Review the lineage of the artifacts generated by the pipeline."
   ]
  },
  {
   "cell_type": "code",
   "execution_count": 31,
   "id": "32b738c1",
   "metadata": {
    "execution": {
     "iopub.execute_input": "2022-04-07T00:46:18.237929Z",
     "iopub.status.busy": "2022-04-07T00:46:18.236965Z",
     "iopub.status.idle": "2022-04-07T00:46:54.967802Z",
     "shell.execute_reply": "2022-04-07T00:46:54.968538Z"
    },
    "papermill": {
     "duration": 36.780595,
     "end_time": "2022-04-07T00:46:54.968729",
     "exception": false,
     "start_time": "2022-04-07T00:46:18.188134",
     "status": "completed"
    },
    "tags": []
   },
   "outputs": [
    {
     "name": "stdout",
     "output_type": "stream",
     "text": [
      "{'StepName': 'AbaloneProcess', 'StartTime': datetime.datetime(2022, 4, 7, 0, 29, 44, 602000, tzinfo=tzlocal()), 'EndTime': datetime.datetime(2022, 4, 7, 0, 34, 24, 69000, tzinfo=tzlocal()), 'StepStatus': 'Succeeded', 'AttemptCount': 0, 'Metadata': {'ProcessingJob': {'Arn': 'arn:aws:sagemaker:us-west-2:000000000000:processing-job/pipelines-3t898o5jiy2w-abaloneprocess-l9txjt3mdg'}}}\n"
     ]
    },
    {
     "data": {
      "text/html": [
       "<div>\n",
       "<style scoped>\n",
       "    .dataframe tbody tr th:only-of-type {\n",
       "        vertical-align: middle;\n",
       "    }\n",
       "\n",
       "    .dataframe tbody tr th {\n",
       "        vertical-align: top;\n",
       "    }\n",
       "\n",
       "    .dataframe thead th {\n",
       "        text-align: right;\n",
       "    }\n",
       "</style>\n",
       "<table border=\"1\" class=\"dataframe\">\n",
       "  <thead>\n",
       "    <tr style=\"text-align: right;\">\n",
       "      <th></th>\n",
       "      <th>Name/Source</th>\n",
       "      <th>Direction</th>\n",
       "      <th>Type</th>\n",
       "      <th>Association Type</th>\n",
       "      <th>Lineage Type</th>\n",
       "    </tr>\n",
       "  </thead>\n",
       "  <tbody>\n",
       "    <tr>\n",
       "      <th>0</th>\n",
       "      <td>s3://...46b46607be87/input/code/preprocessing.py</td>\n",
       "      <td>Input</td>\n",
       "      <td>DataSet</td>\n",
       "      <td>ContributedTo</td>\n",
       "      <td>artifact</td>\n",
       "    </tr>\n",
       "    <tr>\n",
       "      <th>1</th>\n",
       "      <td>s3://...000000000000/abalone/abalone-dataset.csv</td>\n",
       "      <td>Input</td>\n",
       "      <td>DataSet</td>\n",
       "      <td>ContributedTo</td>\n",
       "      <td>artifact</td>\n",
       "    </tr>\n",
       "    <tr>\n",
       "      <th>2</th>\n",
       "      <td>24661...om/sagemaker-scikit-learn:0.23-1-cpu-py3</td>\n",
       "      <td>Input</td>\n",
       "      <td>Image</td>\n",
       "      <td>ContributedTo</td>\n",
       "      <td>artifact</td>\n",
       "    </tr>\n",
       "    <tr>\n",
       "      <th>3</th>\n",
       "      <td>s3://...493b4b79fe2e2f2146b46607be87/output/test</td>\n",
       "      <td>Output</td>\n",
       "      <td>DataSet</td>\n",
       "      <td>Produced</td>\n",
       "      <td>artifact</td>\n",
       "    </tr>\n",
       "    <tr>\n",
       "      <th>4</th>\n",
       "      <td>s3://...79fe2e2f2146b46607be87/output/validation</td>\n",
       "      <td>Output</td>\n",
       "      <td>DataSet</td>\n",
       "      <td>Produced</td>\n",
       "      <td>artifact</td>\n",
       "    </tr>\n",
       "    <tr>\n",
       "      <th>5</th>\n",
       "      <td>s3://...93b4b79fe2e2f2146b46607be87/output/train</td>\n",
       "      <td>Output</td>\n",
       "      <td>DataSet</td>\n",
       "      <td>Produced</td>\n",
       "      <td>artifact</td>\n",
       "    </tr>\n",
       "  </tbody>\n",
       "</table>\n",
       "</div>"
      ],
      "text/plain": [
       "                                        Name/Source Direction     Type  \\\n",
       "0  s3://...46b46607be87/input/code/preprocessing.py     Input  DataSet   \n",
       "1  s3://...000000000000/abalone/abalone-dataset.csv     Input  DataSet   \n",
       "2  24661...om/sagemaker-scikit-learn:0.23-1-cpu-py3     Input    Image   \n",
       "3  s3://...493b4b79fe2e2f2146b46607be87/output/test    Output  DataSet   \n",
       "4  s3://...79fe2e2f2146b46607be87/output/validation    Output  DataSet   \n",
       "5  s3://...93b4b79fe2e2f2146b46607be87/output/train    Output  DataSet   \n",
       "\n",
       "  Association Type Lineage Type  \n",
       "0    ContributedTo     artifact  \n",
       "1    ContributedTo     artifact  \n",
       "2    ContributedTo     artifact  \n",
       "3         Produced     artifact  \n",
       "4         Produced     artifact  \n",
       "5         Produced     artifact  "
      ]
     },
     "metadata": {},
     "output_type": "display_data"
    },
    {
     "name": "stdout",
     "output_type": "stream",
     "text": [
      "{'StepName': 'AbaloneTrain', 'StartTime': datetime.datetime(2022, 4, 7, 0, 34, 24, 681000, tzinfo=tzlocal()), 'EndTime': datetime.datetime(2022, 4, 7, 0, 37, 10, 840000, tzinfo=tzlocal()), 'StepStatus': 'Succeeded', 'AttemptCount': 0, 'Metadata': {'TrainingJob': {'Arn': 'arn:aws:sagemaker:us-west-2:000000000000:training-job/pipelines-3t898o5jiy2w-abalonetrain-gwndyxlers'}}}\n"
     ]
    },
    {
     "data": {
      "text/html": [
       "<div>\n",
       "<style scoped>\n",
       "    .dataframe tbody tr th:only-of-type {\n",
       "        vertical-align: middle;\n",
       "    }\n",
       "\n",
       "    .dataframe tbody tr th {\n",
       "        vertical-align: top;\n",
       "    }\n",
       "\n",
       "    .dataframe thead th {\n",
       "        text-align: right;\n",
       "    }\n",
       "</style>\n",
       "<table border=\"1\" class=\"dataframe\">\n",
       "  <thead>\n",
       "    <tr style=\"text-align: right;\">\n",
       "      <th></th>\n",
       "      <th>Name/Source</th>\n",
       "      <th>Direction</th>\n",
       "      <th>Type</th>\n",
       "      <th>Association Type</th>\n",
       "      <th>Lineage Type</th>\n",
       "    </tr>\n",
       "  </thead>\n",
       "  <tbody>\n",
       "    <tr>\n",
       "      <th>0</th>\n",
       "      <td>s3://...79fe2e2f2146b46607be87/output/validation</td>\n",
       "      <td>Input</td>\n",
       "      <td>DataSet</td>\n",
       "      <td>ContributedTo</td>\n",
       "      <td>artifact</td>\n",
       "    </tr>\n",
       "    <tr>\n",
       "      <th>1</th>\n",
       "      <td>s3://...93b4b79fe2e2f2146b46607be87/output/train</td>\n",
       "      <td>Input</td>\n",
       "      <td>DataSet</td>\n",
       "      <td>ContributedTo</td>\n",
       "      <td>artifact</td>\n",
       "    </tr>\n",
       "    <tr>\n",
       "      <th>2</th>\n",
       "      <td>24661...naws.com/sagemaker-xgboost:1.0-1-cpu-py3</td>\n",
       "      <td>Input</td>\n",
       "      <td>Image</td>\n",
       "      <td>ContributedTo</td>\n",
       "      <td>artifact</td>\n",
       "    </tr>\n",
       "    <tr>\n",
       "      <th>3</th>\n",
       "      <td>s3://...loneTrain-gWNDyXlERs/output/model.tar.gz</td>\n",
       "      <td>Output</td>\n",
       "      <td>Model</td>\n",
       "      <td>Produced</td>\n",
       "      <td>artifact</td>\n",
       "    </tr>\n",
       "  </tbody>\n",
       "</table>\n",
       "</div>"
      ],
      "text/plain": [
       "                                        Name/Source Direction     Type  \\\n",
       "0  s3://...79fe2e2f2146b46607be87/output/validation     Input  DataSet   \n",
       "1  s3://...93b4b79fe2e2f2146b46607be87/output/train     Input  DataSet   \n",
       "2  24661...naws.com/sagemaker-xgboost:1.0-1-cpu-py3     Input    Image   \n",
       "3  s3://...loneTrain-gWNDyXlERs/output/model.tar.gz    Output    Model   \n",
       "\n",
       "  Association Type Lineage Type  \n",
       "0    ContributedTo     artifact  \n",
       "1    ContributedTo     artifact  \n",
       "2    ContributedTo     artifact  \n",
       "3         Produced     artifact  "
      ]
     },
     "metadata": {},
     "output_type": "display_data"
    },
    {
     "name": "stdout",
     "output_type": "stream",
     "text": [
      "{'StepName': 'AbaloneEval', 'StartTime': datetime.datetime(2022, 4, 7, 0, 37, 11, 758000, tzinfo=tzlocal()), 'EndTime': datetime.datetime(2022, 4, 7, 0, 41, 32, 599000, tzinfo=tzlocal()), 'StepStatus': 'Succeeded', 'AttemptCount': 0, 'Metadata': {'ProcessingJob': {'Arn': 'arn:aws:sagemaker:us-west-2:000000000000:processing-job/pipelines-3t898o5jiy2w-abaloneeval-gxbaawpzt2'}}}\n"
     ]
    },
    {
     "data": {
      "text/html": [
       "<div>\n",
       "<style scoped>\n",
       "    .dataframe tbody tr th:only-of-type {\n",
       "        vertical-align: middle;\n",
       "    }\n",
       "\n",
       "    .dataframe tbody tr th {\n",
       "        vertical-align: top;\n",
       "    }\n",
       "\n",
       "    .dataframe thead th {\n",
       "        text-align: right;\n",
       "    }\n",
       "</style>\n",
       "<table border=\"1\" class=\"dataframe\">\n",
       "  <thead>\n",
       "    <tr style=\"text-align: right;\">\n",
       "      <th></th>\n",
       "      <th>Name/Source</th>\n",
       "      <th>Direction</th>\n",
       "      <th>Type</th>\n",
       "      <th>Association Type</th>\n",
       "      <th>Lineage Type</th>\n",
       "    </tr>\n",
       "  </thead>\n",
       "  <tbody>\n",
       "    <tr>\n",
       "      <th>0</th>\n",
       "      <td>s3://...394e09ce2edc51e/input/code/evaluation.py</td>\n",
       "      <td>Input</td>\n",
       "      <td>DataSet</td>\n",
       "      <td>ContributedTo</td>\n",
       "      <td>artifact</td>\n",
       "    </tr>\n",
       "    <tr>\n",
       "      <th>1</th>\n",
       "      <td>s3://...493b4b79fe2e2f2146b46607be87/output/test</td>\n",
       "      <td>Input</td>\n",
       "      <td>DataSet</td>\n",
       "      <td>ContributedTo</td>\n",
       "      <td>artifact</td>\n",
       "    </tr>\n",
       "    <tr>\n",
       "      <th>2</th>\n",
       "      <td>s3://...loneTrain-gWNDyXlERs/output/model.tar.gz</td>\n",
       "      <td>Input</td>\n",
       "      <td>Model</td>\n",
       "      <td>ContributedTo</td>\n",
       "      <td>artifact</td>\n",
       "    </tr>\n",
       "    <tr>\n",
       "      <th>3</th>\n",
       "      <td>24661...naws.com/sagemaker-xgboost:1.0-1-cpu-py3</td>\n",
       "      <td>Input</td>\n",
       "      <td>Image</td>\n",
       "      <td>ContributedTo</td>\n",
       "      <td>artifact</td>\n",
       "    </tr>\n",
       "    <tr>\n",
       "      <th>4</th>\n",
       "      <td>s3://...3b74404394e09ce2edc51e/output/evaluation</td>\n",
       "      <td>Output</td>\n",
       "      <td>DataSet</td>\n",
       "      <td>Produced</td>\n",
       "      <td>artifact</td>\n",
       "    </tr>\n",
       "  </tbody>\n",
       "</table>\n",
       "</div>"
      ],
      "text/plain": [
       "                                        Name/Source Direction     Type  \\\n",
       "0  s3://...394e09ce2edc51e/input/code/evaluation.py     Input  DataSet   \n",
       "1  s3://...493b4b79fe2e2f2146b46607be87/output/test     Input  DataSet   \n",
       "2  s3://...loneTrain-gWNDyXlERs/output/model.tar.gz     Input    Model   \n",
       "3  24661...naws.com/sagemaker-xgboost:1.0-1-cpu-py3     Input    Image   \n",
       "4  s3://...3b74404394e09ce2edc51e/output/evaluation    Output  DataSet   \n",
       "\n",
       "  Association Type Lineage Type  \n",
       "0    ContributedTo     artifact  \n",
       "1    ContributedTo     artifact  \n",
       "2    ContributedTo     artifact  \n",
       "3    ContributedTo     artifact  \n",
       "4         Produced     artifact  "
      ]
     },
     "metadata": {},
     "output_type": "display_data"
    },
    {
     "name": "stdout",
     "output_type": "stream",
     "text": [
      "{'StepName': 'AbaloneMSECond', 'StartTime': datetime.datetime(2022, 4, 7, 0, 41, 33, 68000, tzinfo=tzlocal()), 'EndTime': datetime.datetime(2022, 4, 7, 0, 41, 33, 417000, tzinfo=tzlocal()), 'StepStatus': 'Succeeded', 'AttemptCount': 0, 'Metadata': {'Condition': {'Outcome': 'True'}}}\n"
     ]
    },
    {
     "data": {
      "text/plain": [
       "None"
      ]
     },
     "metadata": {},
     "output_type": "display_data"
    },
    {
     "name": "stdout",
     "output_type": "stream",
     "text": [
      "{'StepName': 'AbaloneRegisterModel', 'StartTime': datetime.datetime(2022, 4, 7, 0, 41, 34, 43000, tzinfo=tzlocal()), 'EndTime': datetime.datetime(2022, 4, 7, 0, 41, 34, 772000, tzinfo=tzlocal()), 'StepStatus': 'Succeeded', 'AttemptCount': 0, 'Metadata': {'RegisterModel': {'Arn': 'arn:aws:sagemaker:us-west-2:000000000000:model-package/abalonemodelpackagegroupname/663'}}}\n"
     ]
    },
    {
     "data": {
      "text/html": [
       "<div>\n",
       "<style scoped>\n",
       "    .dataframe tbody tr th:only-of-type {\n",
       "        vertical-align: middle;\n",
       "    }\n",
       "\n",
       "    .dataframe tbody tr th {\n",
       "        vertical-align: top;\n",
       "    }\n",
       "\n",
       "    .dataframe thead th {\n",
       "        text-align: right;\n",
       "    }\n",
       "</style>\n",
       "<table border=\"1\" class=\"dataframe\">\n",
       "  <thead>\n",
       "    <tr style=\"text-align: right;\">\n",
       "      <th></th>\n",
       "      <th>Name/Source</th>\n",
       "      <th>Direction</th>\n",
       "      <th>Type</th>\n",
       "      <th>Association Type</th>\n",
       "      <th>Lineage Type</th>\n",
       "    </tr>\n",
       "  </thead>\n",
       "  <tbody>\n",
       "    <tr>\n",
       "      <th>0</th>\n",
       "      <td>s3://...loneTrain-gWNDyXlERs/output/model.tar.gz</td>\n",
       "      <td>Input</td>\n",
       "      <td>Model</td>\n",
       "      <td>ContributedTo</td>\n",
       "      <td>artifact</td>\n",
       "    </tr>\n",
       "    <tr>\n",
       "      <th>1</th>\n",
       "      <td>24661...naws.com/sagemaker-xgboost:1.0-1-cpu-py3</td>\n",
       "      <td>Input</td>\n",
       "      <td>Image</td>\n",
       "      <td>ContributedTo</td>\n",
       "      <td>artifact</td>\n",
       "    </tr>\n",
       "    <tr>\n",
       "      <th>2</th>\n",
       "      <td>abalonemodelpackagegroupname-663-PendingManual...</td>\n",
       "      <td>Input</td>\n",
       "      <td>Approval</td>\n",
       "      <td>ContributedTo</td>\n",
       "      <td>action</td>\n",
       "    </tr>\n",
       "    <tr>\n",
       "      <th>3</th>\n",
       "      <td>AbaloneModelPackageGroupName-1607556271-aws-mo...</td>\n",
       "      <td>Output</td>\n",
       "      <td>ModelGroup</td>\n",
       "      <td>AssociatedWith</td>\n",
       "      <td>context</td>\n",
       "    </tr>\n",
       "  </tbody>\n",
       "</table>\n",
       "</div>"
      ],
      "text/plain": [
       "                                         Name/Source Direction        Type  \\\n",
       "0   s3://...loneTrain-gWNDyXlERs/output/model.tar.gz     Input       Model   \n",
       "1   24661...naws.com/sagemaker-xgboost:1.0-1-cpu-py3     Input       Image   \n",
       "2  abalonemodelpackagegroupname-663-PendingManual...     Input    Approval   \n",
       "3  AbaloneModelPackageGroupName-1607556271-aws-mo...    Output  ModelGroup   \n",
       "\n",
       "  Association Type Lineage Type  \n",
       "0    ContributedTo     artifact  \n",
       "1    ContributedTo     artifact  \n",
       "2    ContributedTo       action  \n",
       "3   AssociatedWith      context  "
      ]
     },
     "metadata": {},
     "output_type": "display_data"
    },
    {
     "name": "stdout",
     "output_type": "stream",
     "text": [
      "{'StepName': 'AbaloneCreateModel', 'StartTime': datetime.datetime(2022, 4, 7, 0, 41, 34, 43000, tzinfo=tzlocal()), 'EndTime': datetime.datetime(2022, 4, 7, 0, 41, 34, 913000, tzinfo=tzlocal()), 'StepStatus': 'Succeeded', 'AttemptCount': 0, 'Metadata': {'Model': {'Arn': 'arn:aws:sagemaker:us-west-2:000000000000:model/pipelines-3t898o5jiy2w-abalonecreatemodel-bqtieczwab'}}}\n"
     ]
    },
    {
     "data": {
      "text/plain": [
       "None"
      ]
     },
     "metadata": {},
     "output_type": "display_data"
    },
    {
     "name": "stdout",
     "output_type": "stream",
     "text": [
      "{'StepName': 'AbaloneTransform', 'StartTime': datetime.datetime(2022, 4, 7, 0, 41, 35, 576000, tzinfo=tzlocal()), 'EndTime': datetime.datetime(2022, 4, 7, 0, 46, 3, 162000, tzinfo=tzlocal()), 'StepStatus': 'Succeeded', 'AttemptCount': 0, 'Metadata': {'TransformJob': {'Arn': 'arn:aws:sagemaker:us-west-2:000000000000:transform-job/pipelines-3t898o5jiy2w-abalonetransform-imm4dycajs'}}}\n"
     ]
    },
    {
     "data": {
      "text/html": [
       "<div>\n",
       "<style scoped>\n",
       "    .dataframe tbody tr th:only-of-type {\n",
       "        vertical-align: middle;\n",
       "    }\n",
       "\n",
       "    .dataframe tbody tr th {\n",
       "        vertical-align: top;\n",
       "    }\n",
       "\n",
       "    .dataframe thead th {\n",
       "        text-align: right;\n",
       "    }\n",
       "</style>\n",
       "<table border=\"1\" class=\"dataframe\">\n",
       "  <thead>\n",
       "    <tr style=\"text-align: right;\">\n",
       "      <th></th>\n",
       "      <th>Name/Source</th>\n",
       "      <th>Direction</th>\n",
       "      <th>Type</th>\n",
       "      <th>Association Type</th>\n",
       "      <th>Lineage Type</th>\n",
       "    </tr>\n",
       "  </thead>\n",
       "  <tbody>\n",
       "    <tr>\n",
       "      <th>0</th>\n",
       "      <td>s3://...loneTrain-gWNDyXlERs/output/model.tar.gz</td>\n",
       "      <td>Input</td>\n",
       "      <td>Model</td>\n",
       "      <td>ContributedTo</td>\n",
       "      <td>artifact</td>\n",
       "    </tr>\n",
       "    <tr>\n",
       "      <th>1</th>\n",
       "      <td>24661...naws.com/sagemaker-xgboost:1.0-1-cpu-py3</td>\n",
       "      <td>Input</td>\n",
       "      <td>Image</td>\n",
       "      <td>ContributedTo</td>\n",
       "      <td>artifact</td>\n",
       "    </tr>\n",
       "    <tr>\n",
       "      <th>2</th>\n",
       "      <td>s3://...1695447989/abalone/abalone-dataset-batch</td>\n",
       "      <td>Input</td>\n",
       "      <td>DataSet</td>\n",
       "      <td>ContributedTo</td>\n",
       "      <td>artifact</td>\n",
       "    </tr>\n",
       "    <tr>\n",
       "      <th>3</th>\n",
       "      <td>s3://...-us-west-2-000000000000/AbaloneTransform</td>\n",
       "      <td>Output</td>\n",
       "      <td>DataSet</td>\n",
       "      <td>Produced</td>\n",
       "      <td>artifact</td>\n",
       "    </tr>\n",
       "  </tbody>\n",
       "</table>\n",
       "</div>"
      ],
      "text/plain": [
       "                                        Name/Source Direction     Type  \\\n",
       "0  s3://...loneTrain-gWNDyXlERs/output/model.tar.gz     Input    Model   \n",
       "1  24661...naws.com/sagemaker-xgboost:1.0-1-cpu-py3     Input    Image   \n",
       "2  s3://...1695447989/abalone/abalone-dataset-batch     Input  DataSet   \n",
       "3  s3://...-us-west-2-000000000000/AbaloneTransform    Output  DataSet   \n",
       "\n",
       "  Association Type Lineage Type  \n",
       "0    ContributedTo     artifact  \n",
       "1    ContributedTo     artifact  \n",
       "2    ContributedTo     artifact  \n",
       "3         Produced     artifact  "
      ]
     },
     "metadata": {},
     "output_type": "display_data"
    }
   ],
   "source": [
    "import time\n",
    "from sagemaker.lineage.visualizer import LineageTableVisualizer\n",
    "\n",
    "\n",
    "viz = LineageTableVisualizer(sagemaker.session.Session())\n",
    "for execution_step in reversed(execution.list_steps()):\n",
    "    print(execution_step)\n",
    "    display(viz.show(pipeline_execution_step=execution_step))\n",
    "    time.sleep(5)"
   ]
  },
  {
   "cell_type": "markdown",
   "id": "e3e92d33",
   "metadata": {
    "papermill": {
     "duration": 0.154656,
     "end_time": "2022-04-07T00:46:55.240991",
     "exception": false,
     "start_time": "2022-04-07T00:46:55.086335",
     "status": "completed"
    },
    "tags": []
   },
   "source": [
    "### Parametrized Executions\n",
    "\n",
    "You can run additional executions of the pipeline and specify different pipeline parameters. The `parameters` argument is a dictionary containing parameter names, and where the values are used to override the defaults values.\n",
    "\n",
    "Based on the performance of the model, you might want to kick off another pipeline execution on a compute-optimized instance type and set the model approval status to \"Approved\" automatically. This means that the model package version generated by the `RegisterModel` step is automatically ready for deployment through CI/CD pipelines, such as with SageMaker Projects."
   ]
  },
  {
   "cell_type": "code",
   "execution_count": 32,
   "id": "e2f96056",
   "metadata": {
    "execution": {
     "iopub.execute_input": "2022-04-07T00:46:55.396510Z",
     "iopub.status.busy": "2022-04-07T00:46:55.395897Z",
     "iopub.status.idle": "2022-04-07T00:46:55.668908Z",
     "shell.execute_reply": "2022-04-07T00:46:55.669308Z"
    },
    "papermill": {
     "duration": 0.331255,
     "end_time": "2022-04-07T00:46:55.669450",
     "exception": false,
     "start_time": "2022-04-07T00:46:55.338195",
     "status": "completed"
    },
    "tags": []
   },
   "outputs": [],
   "source": [
    "execution = pipeline.start(\n",
    "    parameters=dict(\n",
    "        ProcessingInstanceType=\"ml.c5.xlarge\",\n",
    "        ModelApprovalStatus=\"Approved\",\n",
    "    )\n",
    ")"
   ]
  },
  {
   "cell_type": "code",
   "execution_count": 33,
   "id": "8c8b0d34",
   "metadata": {
    "execution": {
     "iopub.execute_input": "2022-04-07T00:46:55.772072Z",
     "iopub.status.busy": "2022-04-07T00:46:55.771424Z",
     "iopub.status.idle": "2022-04-07T01:02:59.235357Z",
     "shell.execute_reply": "2022-04-07T01:02:59.234559Z"
    },
    "papermill": {
     "duration": 963.516921,
     "end_time": "2022-04-07T01:02:59.235479",
     "exception": false,
     "start_time": "2022-04-07T00:46:55.718558",
     "status": "completed"
    },
    "tags": []
   },
   "outputs": [],
   "source": [
    "execution.wait()"
   ]
  },
  {
   "cell_type": "code",
   "execution_count": 34,
   "id": "8940eb6a",
   "metadata": {
    "execution": {
     "iopub.execute_input": "2022-04-07T01:02:59.350248Z",
     "iopub.status.busy": "2022-04-07T01:02:59.349621Z",
     "iopub.status.idle": "2022-04-07T01:02:59.522281Z",
     "shell.execute_reply": "2022-04-07T01:02:59.522775Z"
    },
    "papermill": {
     "duration": 0.232636,
     "end_time": "2022-04-07T01:02:59.522968",
     "exception": false,
     "start_time": "2022-04-07T01:02:59.290332",
     "status": "completed"
    },
    "tags": []
   },
   "outputs": [
    {
     "data": {
      "text/plain": [
       "[{'StepName': 'AbaloneTransform',\n",
       "  'StartTime': datetime.datetime(2022, 4, 7, 0, 58, 21, 547000, tzinfo=tzlocal()),\n",
       "  'EndTime': datetime.datetime(2022, 4, 7, 1, 2, 39, 741000, tzinfo=tzlocal()),\n",
       "  'StepStatus': 'Succeeded',\n",
       "  'AttemptCount': 0,\n",
       "  'Metadata': {'TransformJob': {'Arn': 'arn:aws:sagemaker:us-west-2:000000000000:transform-job/pipelines-cwfibwbtnbxc-abalonetransform-s929wudjf4'}}},\n",
       " {'StepName': 'AbaloneCreateModel',\n",
       "  'StartTime': datetime.datetime(2022, 4, 7, 0, 58, 19, 828000, tzinfo=tzlocal()),\n",
       "  'EndTime': datetime.datetime(2022, 4, 7, 0, 58, 20, 774000, tzinfo=tzlocal()),\n",
       "  'StepStatus': 'Succeeded',\n",
       "  'AttemptCount': 0,\n",
       "  'Metadata': {'Model': {'Arn': 'arn:aws:sagemaker:us-west-2:000000000000:model/pipelines-cwfibwbtnbxc-abalonecreatemodel-4mbyjykyzp'}}},\n",
       " {'StepName': 'AbaloneRegisterModel',\n",
       "  'StartTime': datetime.datetime(2022, 4, 7, 0, 58, 19, 828000, tzinfo=tzlocal()),\n",
       "  'EndTime': datetime.datetime(2022, 4, 7, 0, 58, 20, 642000, tzinfo=tzlocal()),\n",
       "  'StepStatus': 'Succeeded',\n",
       "  'AttemptCount': 0,\n",
       "  'Metadata': {'RegisterModel': {'Arn': 'arn:aws:sagemaker:us-west-2:000000000000:model-package/abalonemodelpackagegroupname/664'}}},\n",
       " {'StepName': 'AbaloneMSECond',\n",
       "  'StartTime': datetime.datetime(2022, 4, 7, 0, 58, 18, 896000, tzinfo=tzlocal()),\n",
       "  'EndTime': datetime.datetime(2022, 4, 7, 0, 58, 19, 184000, tzinfo=tzlocal()),\n",
       "  'StepStatus': 'Succeeded',\n",
       "  'AttemptCount': 0,\n",
       "  'Metadata': {'Condition': {'Outcome': 'True'}}},\n",
       " {'StepName': 'AbaloneEval',\n",
       "  'StartTime': datetime.datetime(2022, 4, 7, 0, 54, 7, 957000, tzinfo=tzlocal()),\n",
       "  'EndTime': datetime.datetime(2022, 4, 7, 0, 58, 18, 52000, tzinfo=tzlocal()),\n",
       "  'StepStatus': 'Succeeded',\n",
       "  'AttemptCount': 0,\n",
       "  'Metadata': {'ProcessingJob': {'Arn': 'arn:aws:sagemaker:us-west-2:000000000000:processing-job/pipelines-cwfibwbtnbxc-abaloneeval-uslmjjlmzw'}}},\n",
       " {'StepName': 'AbaloneTrain',\n",
       "  'StartTime': datetime.datetime(2022, 4, 7, 0, 51, 12, 994000, tzinfo=tzlocal()),\n",
       "  'EndTime': datetime.datetime(2022, 4, 7, 0, 54, 6, 948000, tzinfo=tzlocal()),\n",
       "  'StepStatus': 'Succeeded',\n",
       "  'AttemptCount': 0,\n",
       "  'Metadata': {'TrainingJob': {'Arn': 'arn:aws:sagemaker:us-west-2:000000000000:training-job/pipelines-cwfibwbtnbxc-abalonetrain-3pqyprblw3'}}},\n",
       " {'StepName': 'AbaloneProcess',\n",
       "  'StartTime': datetime.datetime(2022, 4, 7, 0, 46, 56, 475000, tzinfo=tzlocal()),\n",
       "  'EndTime': datetime.datetime(2022, 4, 7, 0, 51, 12, 155000, tzinfo=tzlocal()),\n",
       "  'StepStatus': 'Succeeded',\n",
       "  'AttemptCount': 0,\n",
       "  'Metadata': {'ProcessingJob': {'Arn': 'arn:aws:sagemaker:us-west-2:000000000000:processing-job/pipelines-cwfibwbtnbxc-abaloneprocess-vj8hry6obl'}}}]"
      ]
     },
     "execution_count": 34,
     "metadata": {},
     "output_type": "execute_result"
    }
   ],
   "source": [
    "execution.list_steps()"
   ]
  },
  {
   "cell_type": "markdown",
   "id": "aa28a503",
   "metadata": {
    "papermill": {
     "duration": 0.063732,
     "end_time": "2022-04-07T01:02:59.641373",
     "exception": false,
     "start_time": "2022-04-07T01:02:59.577641",
     "status": "completed"
    },
    "tags": []
   },
   "source": [
    "Apart from that, you might also want to adjust the MSE threshold to a smaller value and raise the bar for the accuracy of the registered model. In this case you can override the MSE threshold like the following:"
   ]
  },
  {
   "cell_type": "code",
   "execution_count": 35,
   "id": "487656a7",
   "metadata": {
    "collapsed": false,
    "execution": {
     "iopub.execute_input": "2022-04-07T01:02:59.762259Z",
     "iopub.status.busy": "2022-04-07T01:02:59.761605Z",
     "iopub.status.idle": "2022-04-07T01:02:59.952164Z",
     "shell.execute_reply": "2022-04-07T01:02:59.951461Z"
    },
    "jupyter": {
     "outputs_hidden": false
    },
    "papermill": {
     "duration": 0.250501,
     "end_time": "2022-04-07T01:02:59.952315",
     "exception": false,
     "start_time": "2022-04-07T01:02:59.701814",
     "status": "completed"
    },
    "pycharm": {
     "name": "#%%\n"
    },
    "tags": []
   },
   "outputs": [],
   "source": [
    "execution = pipeline.start(parameters=dict(MseThreshold=3.0))"
   ]
  },
  {
   "cell_type": "markdown",
   "id": "65e25b21",
   "metadata": {
    "papermill": {
     "duration": 0.064332,
     "end_time": "2022-04-07T01:03:00.069820",
     "exception": false,
     "start_time": "2022-04-07T01:03:00.005488",
     "status": "completed"
    },
    "tags": []
   },
   "source": [
    "If the MSE threshold is not satisfied, the pipeline execution will enter the `FailStep` and be marked as failed."
   ]
  },
  {
   "cell_type": "code",
   "execution_count": 36,
   "id": "308b7400",
   "metadata": {
    "collapsed": false,
    "execution": {
     "iopub.execute_input": "2022-04-07T01:03:00.179592Z",
     "iopub.status.busy": "2022-04-07T01:03:00.179018Z",
     "iopub.status.idle": "2022-04-07T01:14:32.790976Z",
     "shell.execute_reply": "2022-04-07T01:14:32.791387Z"
    },
    "jupyter": {
     "outputs_hidden": false
    },
    "papermill": {
     "duration": 692.672547,
     "end_time": "2022-04-07T01:14:32.791529",
     "exception": false,
     "start_time": "2022-04-07T01:03:00.118982",
     "status": "completed"
    },
    "pycharm": {
     "name": "#%%\n"
    },
    "tags": []
   },
   "outputs": [
    {
     "name": "stdout",
     "output_type": "stream",
     "text": [
      "Waiter PipelineExecutionComplete failed: Waiter encountered a terminal failure state: For expression \"PipelineExecutionStatus\" we matched expected path: \"Failed\"\n"
     ]
    }
   ],
   "source": [
    "try:\n",
    "    execution.wait()\n",
    "except Exception as error:\n",
    "    print(error)"
   ]
  },
  {
   "cell_type": "code",
   "execution_count": 37,
   "id": "3dbde622",
   "metadata": {
    "collapsed": false,
    "execution": {
     "iopub.execute_input": "2022-04-07T01:14:32.917899Z",
     "iopub.status.busy": "2022-04-07T01:14:32.917233Z",
     "iopub.status.idle": "2022-04-07T01:14:32.979019Z",
     "shell.execute_reply": "2022-04-07T01:14:32.979483Z"
    },
    "jupyter": {
     "outputs_hidden": false
    },
    "papermill": {
     "duration": 0.123375,
     "end_time": "2022-04-07T01:14:32.979625",
     "exception": false,
     "start_time": "2022-04-07T01:14:32.856250",
     "status": "completed"
    },
    "pycharm": {
     "name": "#%%\n"
    },
    "tags": []
   },
   "outputs": [
    {
     "data": {
      "text/plain": [
       "[{'StepName': 'AbaloneMSEFail',\n",
       "  'StartTime': datetime.datetime(2022, 4, 7, 1, 14, 11, 464000, tzinfo=tzlocal()),\n",
       "  'EndTime': datetime.datetime(2022, 4, 7, 1, 14, 11, 794000, tzinfo=tzlocal()),\n",
       "  'StepStatus': 'Failed',\n",
       "  'AttemptCount': 0,\n",
       "  'FailureReason': 'Execution failed due to MSE > 3.0',\n",
       "  'Metadata': {'Fail': {'ErrorMessage': 'Execution failed due to MSE > 3.0'}}},\n",
       " {'StepName': 'AbaloneMSECond',\n",
       "  'StartTime': datetime.datetime(2022, 4, 7, 1, 14, 10, 470000, tzinfo=tzlocal()),\n",
       "  'EndTime': datetime.datetime(2022, 4, 7, 1, 14, 10, 877000, tzinfo=tzlocal()),\n",
       "  'StepStatus': 'Succeeded',\n",
       "  'AttemptCount': 0,\n",
       "  'Metadata': {'Condition': {'Outcome': 'False'}}},\n",
       " {'StepName': 'AbaloneEval',\n",
       "  'StartTime': datetime.datetime(2022, 4, 7, 1, 9, 55, 45000, tzinfo=tzlocal()),\n",
       "  'EndTime': datetime.datetime(2022, 4, 7, 1, 14, 9, 926000, tzinfo=tzlocal()),\n",
       "  'StepStatus': 'Succeeded',\n",
       "  'AttemptCount': 0,\n",
       "  'Metadata': {'ProcessingJob': {'Arn': 'arn:aws:sagemaker:us-west-2:000000000000:processing-job/pipelines-ykmmzhbkzmi4-abaloneeval-mxrjno1e8k'}}},\n",
       " {'StepName': 'AbaloneTrain',\n",
       "  'StartTime': datetime.datetime(2022, 4, 7, 1, 7, 9, 726000, tzinfo=tzlocal()),\n",
       "  'EndTime': datetime.datetime(2022, 4, 7, 1, 9, 54, 428000, tzinfo=tzlocal()),\n",
       "  'StepStatus': 'Succeeded',\n",
       "  'AttemptCount': 0,\n",
       "  'Metadata': {'TrainingJob': {'Arn': 'arn:aws:sagemaker:us-west-2:000000000000:training-job/pipelines-ykmmzhbkzmi4-abalonetrain-lmcwralbbb'}}},\n",
       " {'StepName': 'AbaloneProcess',\n",
       "  'StartTime': datetime.datetime(2022, 4, 7, 1, 3, 0, 784000, tzinfo=tzlocal()),\n",
       "  'EndTime': datetime.datetime(2022, 4, 7, 1, 7, 9, 51000, tzinfo=tzlocal()),\n",
       "  'StepStatus': 'Succeeded',\n",
       "  'AttemptCount': 0,\n",
       "  'Metadata': {'ProcessingJob': {'Arn': 'arn:aws:sagemaker:us-west-2:000000000000:processing-job/pipelines-ykmmzhbkzmi4-abaloneprocess-rwb7jvsm8h'}}}]"
      ]
     },
     "execution_count": 37,
     "metadata": {},
     "output_type": "execute_result"
    }
   ],
   "source": [
    "execution.list_steps()"
   ]
  }
 ],
 "metadata": {
  "instance_type": "ml.t3.medium",
  "kernelspec": {
   "display_name": "Python 3 (Data Science)",
   "language": "python",
   "name": "python3__SAGEMAKER_INTERNAL__arn:aws:sagemaker:us-east-2:000000000000:image/datascience-1.0"
  },
  "language_info": {
   "codemirror_mode": {
    "name": "ipython",
    "version": 3
   },
   "file_extension": ".py",
   "mimetype": "text/x-python",
   "name": "python",
   "nbconvert_exporter": "python",
   "pygments_lexer": "ipython3",
   "version": "3.7.10"
  },
  "papermill": {
   "default_parameters": {},
   "duration": 2728.702542,
   "end_time": "2022-04-07T01:14:33.682858",
   "environment_variables": {},
   "exception": null,
   "input_path": "sagemaker-pipelines-preprocess-train-evaluate-batch-transform.ipynb",
   "output_path": "/opt/ml/processing/output/sagemaker-pipelines-preprocess-train-evaluate-batch-transform-2022-04-07-00-15-36.ipynb",
   "parameters": {
    "kms_key": "arn:aws:kms:us-west-2:000000000000:1234abcd-12ab-34cd-56ef-1234567890ab"
   },
   "start_time": "2022-04-07T00:29:04.980316",
   "version": "2.3.4"
  }
 },
 "nbformat": 4,
 "nbformat_minor": 5
}