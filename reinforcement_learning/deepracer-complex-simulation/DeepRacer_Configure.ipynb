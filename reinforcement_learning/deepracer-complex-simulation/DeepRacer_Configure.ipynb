{
 "cells": [
  {
   "cell_type": "markdown",
   "metadata": {},
   "source": [
    "# Distributed DeepRacer RL training with SageMaker and RoboMaker \n",
    "\n",
    "---\n",
    "## Introduction\n",
    "\n",
    "\n",
    "In this notebook, we will configure your workspace in order to use reinforcement learning using Amazon SageMaker RL and AWS RoboMaker's 3D driving simulator. [AWS RoboMaker](https://console.aws.amazon.com/robomaker/home#welcome) is a service that makes it easy for developers to develop, test, and deploy robotics applications.  \n",
    "\n",
    "This notebook provides the permissions configuration and extra functions to gain the full experience of [AWS DeepRacer](https://console.aws.amazon.com/deepracer/home#welcome), giving us more control over the training/simulation process and RL algorithm tuning.\n",
    "\n",
    "![Training in Action](./deepracer-reinvent-track.jpg)\n"
   ]
  },
  {
   "cell_type": "markdown",
   "metadata": {},
   "source": [
    "### Imports"
   ]
  },
  {
   "cell_type": "markdown",
   "metadata": {},
   "source": [
    "To get started, we'll import the Python libraries we need, set up the environment with a few prerequisites for permissions and configurations."
   ]
  },
  {
   "cell_type": "code",
   "execution_count": null,
   "metadata": {
    "scrolled": true
   },
   "outputs": [],
   "source": [
    "import boto3\n",
    "import sagemaker\n",
    "import sys\n",
    "import os\n",
    "import re\n",
    "import numpy as np\n",
    "import subprocess\n",
    "sys.path.append(\"common\")\n",
    "from misc import get_execution_role\n",
    "from IPython.display import Markdown\n",
    "from markdown_helper import *\n",
    "\n",
    "from src.core.DeepRacerEngine import DeepRacerEngine\n"
   ]
  },
  {
   "cell_type": "markdown",
   "metadata": {},
   "source": [
    "### Initializing basic parameters"
   ]
  },
  {
   "cell_type": "code",
   "execution_count": null,
   "metadata": {},
   "outputs": [],
   "source": [
    "# Starting SageMaker session\n",
    "sage_session = sagemaker.session.Session()\n",
    "# AWS Region\n",
    "aws_region = sage_session.boto_region_name\n",
    "if aws_region not in [\"us-west-2\", \"us-east-1\", \"eu-west-1\"]:\n",
    "    raise Exception(\"This notebook uses RoboMaker which is available only in US East (N. Virginia),\"\n",
    "                    \"US West (Oregon) and EU (Ireland). Please switch to one of these regions.\")"
   ]
  },
  {
   "cell_type": "markdown",
   "metadata": {},
   "source": [
    "### Create an IAM role\n",
    "Either get the execution role when running from a SageMaker notebook `role = sagemaker.get_execution_role()` or, when running from local machine, use utils method `role = get_execution_role('role_name')` to create an execution role."
   ]
  },
  {
   "cell_type": "code",
   "execution_count": 12,
   "metadata": {},
   "outputs": [
    {
     "name": "stdout",
     "output_type": "stream",
     "text": [
      "Using Sagemaker IAM role arn: \n",
      "arn:aws:iam::170991494985:role/service-role/AmazonSageMaker-ExecutionRole-20191119T175598\n"
     ]
    }
   ],
   "source": [
    "try:\n",
    "    sagemaker_role = sagemaker.get_execution_role()\n",
    "except:\n",
    "    sagemaker_role = get_execution_role('sagemaker')\n",
    "\n",
    "print(\"Using Sagemaker IAM role arn: \\n{}\".format(sagemaker_role))"
   ]
  },
  {
   "cell_type": "markdown",
   "metadata": {},
   "source": [
    "> Please note that this notebook cannot be run in `SageMaker local mode` as the simulator is based on AWS RoboMaker service."
   ]
  },
  {
   "cell_type": "markdown",
   "metadata": {},
   "source": [
    "### Permission setup for invoking AWS RoboMaker from this notebook\n",
    "In order to enable this notebook to be able to execute AWS RoboMaker jobs, we need to add one trust relationship to the default execution role of this notebook."
   ]
  },
  {
   "cell_type": "code",
   "execution_count": 3,
   "metadata": {},
   "outputs": [
    {
     "data": {
      "text/markdown": [
       "1. Go to IAM console to edit current SageMaker role: [AmazonSageMaker-ExecutionRole-20191119T175598](https://console.aws.amazon.com/iam/home#/roles/AmazonSageMaker-ExecutionRole-20191119T175598).\n",
       "2. Next, go to the `Trust relationships tab` and click on `Edit Trust Relationship.` \n",
       "3. Replace the JSON blob with the following:\n",
       "```json\n",
       "            {\n",
       "              \"Version\": \"2012-10-17\",\n",
       "              \"Statement\": [\n",
       "                {\n",
       "                  \"Effect\": \"Allow\",\n",
       "                  \"Principal\": {\n",
       "                    \"Service\": [\n",
       "                      \"sagemaker.amazonaws.com\",\n",
       "                      \"robomaker.amazonaws.com\"\n",
       "                    ]\n",
       "                  },\n",
       "                  \"Action\": \"sts:AssumeRole\"\n",
       "                }\n",
       "              ]\n",
       "            }```\n",
       "4. Once this is complete, click on Update Trust Policy and you are done."
      ],
      "text/plain": [
       "<IPython.core.display.Markdown object>"
      ]
     },
     "metadata": {},
     "output_type": "display_data"
    }
   ],
   "source": [
    "display(Markdown(generate_help_for_robomaker_trust_relationship(sagemaker_role)))"
   ]
  },
  {
   "cell_type": "markdown",
   "metadata": {},
   "source": [
    "### Permission setup for Sagemaker to S3 bucket\n",
    "\n",
    "The sagemaker writes the Redis IP address, models to the S3 bucket. This requires PutObject permission on the bucket. Make sure the sagemaker role you are using as this permissions."
   ]
  },
  {
   "cell_type": "code",
   "execution_count": 4,
   "metadata": {},
   "outputs": [
    {
     "data": {
      "text/markdown": [
       "1. Go to IAM console to edit current SageMaker role: [AmazonSageMaker-ExecutionRole-20191119T175598](https://console.aws.amazon.com/iam/home#/roles/AmazonSageMaker-ExecutionRole-20191119T175598).\n",
       "2. Next, go to the `Permissions tab` and click on `Attach Policy.` \n",
       "3. Search and select `AmazonKinesisVideoStreamsFullAccess` policy\n"
      ],
      "text/plain": [
       "<IPython.core.display.Markdown object>"
      ]
     },
     "metadata": {},
     "output_type": "display_data"
    }
   ],
   "source": [
    "display(Markdown(generate_s3_write_permission_for_sagemaker_role(sagemaker_role)))"
   ]
  },
  {
   "cell_type": "markdown",
   "metadata": {},
   "source": [
    "### Permission setup for Sagemaker to create KinesisVideoStreams\n",
    "\n",
    "The sagemaker notebook has to create a kinesis video streamer. You can observer the car making epsiodes in the kinesis video streamer."
   ]
  },
  {
   "cell_type": "code",
   "execution_count": 37,
   "metadata": {},
   "outputs": [
    {
     "data": {
      "text/markdown": [
       "1. Go to IAM console to edit current SageMaker role: [AmazonSageMaker-ExecutionRole-20191119T175598](https://console.aws.amazon.com/iam/home#/roles/AmazonSageMaker-ExecutionRole-20191119T175598).\n",
       "2. Next, go to the `Permissions tab` and click on `Attach Policy.` \n",
       "3. Search and select `AmazonS3FullAccess` policy\n"
      ],
      "text/plain": [
       "<IPython.core.display.Markdown object>"
      ]
     },
     "metadata": {},
     "output_type": "display_data"
    }
   ],
   "source": [
    "display(Markdown(generate_kinesis_create_permission_for_sagemaker_role(sagemaker_role)))"
   ]
  },
  {
   "cell_type": "markdown",
   "metadata": {},
   "source": [
    "# Clean up Enviornment\n",
    "\n",
    "Only run these commands if you wish to clean your working environment. \n",
    "\n",
    "Note: These commands may lead to loosing past experimental data."
   ]
  },
  {
   "cell_type": "code",
   "execution_count": 16,
   "metadata": {},
   "outputs": [
    {
     "name": "stdout",
     "output_type": "stream",
     "text": [
      "***Deep Racer Engine Backend***\n"
     ]
    }
   ],
   "source": [
    "# Instantiate the DeepRacerEngine, the Jb named specified here will not be used for the Simulation Job Names\n",
    "deepRacer = DeepRacerEngine({'job_name':'None'})"
   ]
  },
  {
   "cell_type": "markdown",
   "metadata": {},
   "source": [
    "### Delete Simulations"
   ]
  },
  {
   "cell_type": "code",
   "execution_count": null,
   "metadata": {},
   "outputs": [],
   "source": [
    "# deepRacer.delete_all_simulations()"
   ]
  },
  {
   "cell_type": "markdown",
   "metadata": {},
   "source": [
    "### Clean the docker images\n",
    "Remove this only when you want to completely remove the docker or clean up the space of the sagemaker instance"
   ]
  },
  {
   "cell_type": "code",
   "execution_count": 23,
   "metadata": {},
   "outputs": [
    {
     "name": "stdout",
     "output_type": "stream",
     "text": [
      "13c58ab56e75\n",
      "3ba902e80d7c\n",
      "5e014d291d50\n",
      "68fdfa0ffc4d\n",
      "c9cb79ae0e80\n",
      "a26dc153f0ac\n",
      "4b66b729e61d\n",
      "6408e6de383b\n",
      "b2750fef2079\n",
      "e2889ef71fe9\n",
      "abb7061f6719\n",
      "60486c7063aa\n",
      "0b7a9788621f\n",
      "766fcc37c9b8\n",
      "4f2ff0886992\n",
      "cefb38cacf0c\n",
      "9c71de157cc7\n",
      "0b33743eb3d0\n",
      "febfab41d112\n",
      "a0f881a97ca3\n",
      "f116d7c53838\n",
      "5d45bcb41a35\n",
      "9ce4f92d17b7\n",
      "b3aaff4f1e4f\n",
      "31890fcfebe6\n",
      "0392d2a3b581\n",
      "fe0483df6921\n",
      "8bbc821f16eb\n",
      "1e07d8e4c484\n",
      "78159e531f3e\n",
      "dcc43dd6d5df\n",
      "18c1e32ca24e\n",
      "e8fe50785508\n",
      "a8120397340b\n",
      "Untagged: sagemaker-docker-cpu:latest\n",
      "Deleted: sha256:7b51f08efa79b5475919b015a85229f0e80c65a4e80cda748efbcb1aac79fd09\n",
      "Deleted: sha256:c18113198f1344060b40e024cf46f71d670aa8c780a2d17d675eb0a437e867f4\n",
      "Deleted: sha256:a2baf325f4d6c1e9c204d50ee465e4692fd61f2db3c6a112d5fcd80470836a15\n",
      "Deleted: sha256:df334d1656a6cc657863de8f6d2ff4e0dde3a4adc2ca15c969f12d4b1b466f58\n",
      "Deleted: sha256:56dcd078bd33719e2a6101482bad68f96abd780f31a539a90241b791e6e7693a\n",
      "Deleted: sha256:1cd36b4bf05bfda7a0ccc10592b88f54a15a2220a6b4b75cc50735bf05a3e2ce\n",
      "Deleted: sha256:424e0f99665840028140cf9f552da447023de3e612ff351962b9307f7220a1e6\n",
      "Deleted: sha256:4039588113f667c7742504f49f03f8feac16c0ce30c825f4dbf7a2ff0adc2dd8\n",
      "Deleted: sha256:a83609eeda81ed2f8f6e3d1557bf5ef2de44215c54ff9b190a5bbef8424d2e61\n",
      "Deleted: sha256:7eda093a0ad787710333c818983637fe4c1f5f5f0082e9de98b7c959e019e0e2\n",
      "Deleted: sha256:b215d1c18cccd775504ac8369bce405ba82fd7e5929d060e5b0c76215a9c06e5\n",
      "Deleted: sha256:17c6f5c52a405db67d29ff3ad161e2502473095e213d2f03e75c7e040193cb3b\n",
      "Deleted: sha256:98216309adb78ae7f1c90aa14b804b90fe642217849a5880bb364203bbff4fb8\n",
      "Deleted: sha256:e3886dd10e2fcd40d9662f5e7b42876fabe6455f10de51b79b69e97ffb9beac3\n",
      "Deleted: sha256:b4b9243cb6174c8f034e2946fdb45fd8366ba1076489b745cf4ad49056f98a33\n",
      "Deleted: sha256:2acacfa10892dd2ea212dd8bbf4caa7cbd39a63156473aed4d1e318275e711d7\n",
      "Deleted: sha256:2697190b4a95df7da33bad689bd7b93be7491a027b57eb1f6abbd451ac73f75d\n",
      "Deleted: sha256:3f69fdf1aced2114d05eb2ee594b04f6b143bb7556be255d148ccc27db9db787\n",
      "Deleted: sha256:a2a5b639d1d3c4cb0496ff77636e19461f66d87dff9db946280f0fedd3237713\n",
      "Deleted: sha256:941f5c935de619956f3be89928cf5a0b4beb7a5ef2600392bd14778201e5ac0a\n",
      "Deleted: sha256:4f8420fe160aef4d1a20c9465d90c88082af39a941befe183710387fa17702f1\n",
      "Deleted: sha256:ecd7816418a0da6b223e162935936b897abf02416a68b052c77fc7279cb600a4\n",
      "Deleted: sha256:2c8b12b12d866fc2ae34922c4482490285464dc2bf3aee86f7eb0503cdeaa852\n",
      "Deleted: sha256:c99ae93f9b713d06d9eb6f26577861cf53b99187c10205b06e8f307142c10d17\n",
      "Deleted: sha256:af007d526fef49b2ab4b148d83c43ede032ed56f8e61538f7ffac681a1bc21b4\n",
      "Deleted: sha256:b809b41b4527428294f119c9a06a5d98050b1574eab69fa4756ace54d7a5c391\n",
      "Deleted: sha256:b6fb8d2a21c480da086a65c01c621bd40ebf191a781b562566a44728ccd5b90c\n",
      "Deleted: sha256:4ac5bcef834e3b19dc04cd7350a602f1aeb5eb75b051bc2263714f11ddb2ecc2\n",
      "Deleted: sha256:30e069e54e58b45f22310b905f129fbb33685cb0dea0d0278e850853930e4908\n",
      "Deleted: sha256:f6c6e16ed95ef58dff4ff615f6a368c58a1eb8c14e531afbc754f175baa7643f\n",
      "Deleted: sha256:bf443c040e9162e97087b8947ab2fef78cee8ca3a1d4916443ab28561d86c6fb\n",
      "Deleted: sha256:c0ae8e595ddeda5a2da98cb2e876775f36812c6c5954fe96a967453143c9ac39\n",
      "Deleted: sha256:f34796f31607e6877abeb065eee49af452b7538533d667d37b22e8058d5db572\n",
      "Deleted: sha256:a7dc27f87dda72acf5be700e8163c1f6428f1c4d0334ba31da2a3680086a78de\n",
      "Untagged: 170991494985.dkr.ecr.us-east-1.amazonaws.com/sagemaker-docker-cpu:latest\n",
      "Untagged: 170991494985.dkr.ecr.us-east-1.amazonaws.com/sagemaker-docker-cpu@sha256:296be3200f59976432abb448ad5cb121bfe169c871e97d5be3ee018766fc51fa\n",
      "Deleted: sha256:7ef0b7a570fcefdfbe4f1478d188893a9c4da299de225924dfbb7865ee7853e9\n",
      "Deleted: sha256:0373b25bf9bda9ecc06987125020da7e3aa1e726ebfbc2573933f9f5b3811f56\n",
      "Deleted: sha256:a6067d9b384ea118a50d5d757ed79f6b5cc2cea25ff47ca975ef77f85e91bf76\n",
      "Deleted: sha256:6f0b65929c4fd4a86b47f280b02208b0be8db8409d0bfa9ab4433c297a33a7e6\n",
      "Deleted: sha256:3ea1e2ed809efb4b2c662160c6186a7e113b841e9c0db3b0e4497d6a0238c381\n",
      "Deleted: sha256:ba42b2f04d85be23d6edeed72000e001de0a608ced6d07002b23c3dcdaccdc3d\n",
      "Deleted: sha256:ed40d5ae449bb290596cd3b1202a055bd584f5bfbefe65c6d442bb590efad80a\n",
      "Deleted: sha256:777311ddb5f3ab980b9e8a60d30bc40d3c7c37bd6063314d278243ff4e03b137\n",
      "Deleted: sha256:d260a0bab879a2fb75d3227c90ec00a1e921eaddfdfdc00ca6decd436947c5b7\n",
      "Deleted: sha256:85dd0fc209f5541f57d6840f10922544219fc96b215bcb7d18343c75d7a93bfc\n",
      "Deleted: sha256:35e9df47f6c3b7567518867d67fb265376a2758e6a39bc04d420c6a824755198\n",
      "Deleted: sha256:20f4dd9c01ea30b3a293fe231064aa0f23d1e4177aa6eb6a030112f5135ba32b\n",
      "Deleted: sha256:5e1d6e61f13a6aecb7aefade490ab2f2c510ae02cad34478e5502199994421f5\n",
      "Deleted: sha256:22568c611fb274ce3ebfd55ac678bcb4db8c1f447d6f40709b2864178b33f333\n",
      "Deleted: sha256:6d9e58000d643efcad34ac51613fa498ec15596806f2971e393fcb073b4f596e\n",
      "Deleted: sha256:39e5665cf92d5b62e7fac97b79be1247c37ee2b1b78ac7918650d299b29f6392\n",
      "Deleted: sha256:d12f68fba383c9aff1f2b91c0447726d536f33c7e7c9e494339fc18a4806c22e\n",
      "Deleted: sha256:c70cb23e20eae5428dec5787b4d540a7b5dc1a46b95439f2e2f11fe33b42c6eb\n",
      "Deleted: sha256:d8f147eaee31a37791b4bbc1fabc4f0474003d3ca758215b94914fbdb4dd8e90\n",
      "Deleted: sha256:0346d472dd9ff8e3cdda641ea50d423794121f274c2779537c37182a0c5b8695\n",
      "Untagged: 520713654638.dkr.ecr.us-east-1.amazonaws.com/sagemaker-tensorflow-scriptmode:1.12.0-cpu-py3\n",
      "Untagged: 520713654638.dkr.ecr.us-east-1.amazonaws.com/sagemaker-tensorflow-scriptmode@sha256:1036b5e92698629ea1dcf1d2adc6c186b404d38ef93e2c31cb4dd47787a3629b\n",
      "Deleted: sha256:ba542f0b97063f80fd7e35b775d04f634bd79962c0d06a8c60183b92baedf886\n",
      "Deleted: sha256:2b24f4e376180946be4c530a2acc6fd9f9b188fec27f94a97e332b16566a1419\n",
      "Deleted: sha256:07a2d4304c78f9b26679c9bb18c607f37ddaf6df30324cb1c7c8888187d317fa\n",
      "Deleted: sha256:f3d9ce3ad7f16a7e0c579bf42f200f20e785d9f6ded104943309ba7c0db85b89\n",
      "Deleted: sha256:27c66f0b4af5e1b8600bc5bc550b9c28567106bb4dae8e635545d26115704ff2\n",
      "Deleted: sha256:65dd5def7d8ff05d70228000a089369084ba9106199a295d3820590f01558d24\n",
      "Deleted: sha256:0d24e0ae31cffd35a8474847e9153c1ceda8bf8b389ce8ec2c169d89233c70b0\n",
      "Deleted: sha256:2417682143411ecc680094e23937fcee3fe0f38c59fd6aa9ba0f3cf9ccc53b85\n",
      "Deleted: sha256:bd846179eaae4c439ce6783c44a42df534cbfce22d94f41354f590886c83063b\n",
      "Deleted: sha256:ea114092fb054a3eb7c676d2443390a220ffc56f00bc0bf91bc7d11a630cf099\n",
      "Deleted: sha256:dd6e7728e17a04ba313b66be50437bb02c56aa3f91944d4187ad19d6af015e07\n",
      "Deleted: sha256:51cacd617c80f4432c72c3f402a1d691e66a38874e466b5a03aad59a753a141d\n",
      "Deleted: sha256:5bcad8f8b858991e09c1ea59d2b1d8a1fcb424445493825972918b48c5170289\n",
      "Deleted: sha256:9adaba72eca85f66961ee4fb5c0b646b078377439690fa94827bf35a5f0cfd5e\n",
      "Deleted: sha256:ccab9ec9909359830f26cd442a80b08ab27a8fd34881495da7a17ac224ceebf1\n",
      "Deleted: sha256:739482a9723dbee6dbdad6b669090e96d5f57e2aa27c131015cce8969d0d4efa\n"
     ]
    }
   ],
   "source": [
    "!docker rm -f $(docker ps -a -q);\n",
    "!docker rmi -f $(docker images -q);"
   ]
  },
  {
   "cell_type": "markdown",
   "metadata": {},
   "source": [
    "### Clean your S3 bucket"
   ]
  },
  {
   "cell_type": "code",
   "execution_count": 1,
   "metadata": {},
   "outputs": [],
   "source": [
    "# deepRacer.delete_s3_simulation_resources()"
   ]
  }
 ],
 "metadata": {
  "anaconda-cloud": {},
  "kernelspec": {
   "display_name": "conda_amazonei_tensorflow_p36",
   "language": "python",
   "name": "conda_amazonei_tensorflow_p36"
  },
  "language_info": {
   "codemirror_mode": {
    "name": "ipython",
    "version": 3
   },
   "file_extension": ".py",
   "mimetype": "text/x-python",
   "name": "python",
   "nbconvert_exporter": "python",
   "pygments_lexer": "ipython3",
   "version": "3.6.5"
  }
 },
 "nbformat": 4,
 "nbformat_minor": 2
}
