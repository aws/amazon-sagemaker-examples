{
 "cells": [
  {
   "cell_type": "markdown",
   "metadata": {
    "Collapsed": "false"
   },
   "source": [
    "# AutoGluon Tabular with SageMaker\n",
    "\n",
    "<br>"
   ]
  },
  {
   "cell_type": "markdown",
   "metadata": {
    "Collapsed": "false"
   },
   "source": [
    "## Prerequisites\n",
    "\n",
    "If using a SageMaker hosted notebook, select kernel `conda_mxnet_p36`."
   ]
  },
  {
   "cell_type": "code",
   "execution_count": null,
   "metadata": {
    "Collapsed": "false"
   },
   "outputs": [],
   "source": [
    "# Make sure docker compose is set up properly for local mode\n",
    "!./setup.sh"
   ]
  },
  {
   "cell_type": "code",
   "execution_count": null,
   "metadata": {
    "Collapsed": "false"
   },
   "outputs": [],
   "source": [
    "# Monkey patch SageMaker SDK, increasing shared memory in local mode to support multiprocessing\n",
    "!cp image.py /home/ec2-user/anaconda3/envs/mxnet_p36/lib/python3.6/site-packages/sagemaker/local/image.py"
   ]
  },
  {
   "cell_type": "code",
   "execution_count": null,
   "metadata": {
    "Collapsed": "false"
   },
   "outputs": [],
   "source": [
    "# Used to perform df.to_csv('s3://<path>')\n",
    "!pip install pandas==1.0.3 s3fs==0.4.0 | grep -v 'already satisfied'"
   ]
  },
  {
   "cell_type": "code",
   "execution_count": null,
   "metadata": {
    "Collapsed": "false"
   },
   "outputs": [],
   "source": [
    "# Imports\n",
    "import os\n",
    "import boto3\n",
    "import sagemaker\n",
    "from time import sleep\n",
    "from collections import Counter\n",
    "import pandas as pd\n",
    "from sagemaker import get_execution_role, local, Model\n",
    "from sagemaker.estimator import Estimator\n",
    "from sagemaker.predictor import RealTimePredictor, csv_serializer, StringDeserializer\n",
    "from sklearn.metrics import accuracy_score, classification_report\n",
    "from IPython.core.display import display, HTML\n",
    "from IPython.core.interactiveshell import InteractiveShell\n",
    "\n",
    "# Print settings\n",
    "InteractiveShell.ast_node_interactivity = \"all\"\n",
    "pd.set_option('display.max_columns', 500)\n",
    "pd.set_option('display.max_rows', 10)\n",
    "\n",
    "# Account/s3 setup\n",
    "session = sagemaker.Session()\n",
    "local_session = local.LocalSession()\n",
    "bucket = session.default_bucket()\n",
    "prefix = 'sagemaker/autogluon-tabular'\n",
    "region = session.boto_region_name\n",
    "role = get_execution_role()\n",
    "client = boto3.client('sts')\n",
    "account = client.get_caller_identity()['Account']"
   ]
  },
  {
   "cell_type": "markdown",
   "metadata": {
    "Collapsed": "false"
   },
   "source": [
    "### Build training docker image"
   ]
  },
  {
   "cell_type": "markdown",
   "metadata": {
    "Collapsed": "false"
   },
   "source": [
    "First, build autogluon package to copy into docker image"
   ]
  },
  {
   "cell_type": "code",
   "execution_count": null,
   "metadata": {
    "Collapsed": "false"
   },
   "outputs": [],
   "source": [
    "if not os.path.exists('package'):\n",
    "    !pip install PrettyTable -t package\n",
    "    !pip install bokeh -t package\n",
    "    !pip install --pre autogluon -t package\n",
    "    !pip install numpy==1.16.1 -t package    \n",
    "    !pip install --upgrade boto3 -t package\n",
    "    !pip install bokeh -t package\n",
    "    !pip install --upgrade matplotlib -t package"
   ]
  },
  {
   "cell_type": "markdown",
   "metadata": {
    "Collapsed": "false"
   },
   "source": [
    "Now build the training image and push to ECR"
   ]
  },
  {
   "cell_type": "code",
   "execution_count": null,
   "metadata": {
    "Collapsed": "false"
   },
   "outputs": [],
   "source": [
    "training_algorithm_name = 'autogluon-sagemaker-training'"
   ]
  },
  {
   "cell_type": "code",
   "execution_count": null,
   "metadata": {
    "Collapsed": "false"
   },
   "outputs": [],
   "source": [
    "!./container-training/build_push_training.sh {training_algorithm_name}"
   ]
  },
  {
   "cell_type": "markdown",
   "metadata": {
    "Collapsed": "false"
   },
   "source": [
    "### Get the data"
   ]
  },
  {
   "cell_type": "markdown",
   "metadata": {
    "Collapsed": "false"
   },
   "source": [
    "In this example we'll use the direct-marketing dataset to build a binary classification model that predicts whether customers will accept or decline a marketing offer.  \n",
    "First we'll download the data and split it into train and test sets. AutoGluon does not require a separate validation set (it uses bagged k-fold cross-validation)."
   ]
  },
  {
   "cell_type": "code",
   "execution_count": null,
   "metadata": {
    "Collapsed": "false"
   },
   "outputs": [],
   "source": [
    "# Download and unzip the data\n",
    "!wget -N https://sagemaker-sample-data-us-west-2.s3-us-west-2.amazonaws.com/autopilot/direct_marketing/bank-additional.zip --quiet\n",
    "!unzip -qq -o bank-additional.zip\n",
    "!rm bank-additional.zip\n",
    "\n",
    "local_data_path = './bank-additional/bank-additional-full.csv'\n",
    "data = pd.read_csv(local_data_path)\n",
    "\n",
    "# Split train/test data\n",
    "train = data.sample(frac=0.9, random_state=42)\n",
    "test = data.drop(train.index)\n",
    "\n",
    "# Split test X/y\n",
    "label = 'y'\n",
    "y_test = test[label]\n",
    "X_test = test.drop(columns=[label])"
   ]
  },
  {
   "cell_type": "markdown",
   "metadata": {
    "Collapsed": "false"
   },
   "source": [
    "##### Check the data"
   ]
  },
  {
   "cell_type": "code",
   "execution_count": null,
   "metadata": {
    "Collapsed": "false"
   },
   "outputs": [],
   "source": [
    "train.head(3)\n",
    "train.shape\n",
    "\n",
    "test.head(3)\n",
    "test.shape\n",
    "\n",
    "X_test.head(3)\n",
    "X_test.shape"
   ]
  },
  {
   "cell_type": "markdown",
   "metadata": {
    "Collapsed": "false"
   },
   "source": [
    "Upload the data to s3"
   ]
  },
  {
   "cell_type": "code",
   "execution_count": null,
   "metadata": {
    "Collapsed": "false"
   },
   "outputs": [],
   "source": [
    "# Set s3 paths\n",
    "train_s3_path = f's3://{bucket}/{prefix}/data/train.csv'\n",
    "test_s3_path = f's3://{bucket}/{prefix}/data/test.csv'\n",
    "X_test_s3_path = f's3://{bucket}/{prefix}/data/X_test.csv'\n",
    "\n",
    "# Upload\n",
    "train.to_csv(train_s3_path, index=False)\n",
    "print(f'Train data uploaded to {train_s3_path}')\n",
    "test.to_csv(test_s3_path, index=False)\n",
    "print(f'Labeled Test data uploaded to {test_s3_path}')\n",
    "X_test.to_csv(X_test_s3_path, index=False)\n",
    "print(f'Unlabeled Test data uploaded to {X_test_s3_path}')"
   ]
  },
  {
   "cell_type": "markdown",
   "metadata": {
    "Collapsed": "false"
   },
   "source": [
    "## Train"
   ]
  },
  {
   "cell_type": "markdown",
   "metadata": {},
   "source": [
    "Minimum requirement for hyperparametes is target label"
   ]
  },
  {
   "cell_type": "code",
   "execution_count": 173,
   "metadata": {},
   "outputs": [],
   "source": [
    "hyperparameters = {'label': 'y'}"
   ]
  },
  {
   "cell_type": "markdown",
   "metadata": {},
   "source": [
    "(Optional)\n",
    "Hyperpamaters are passed to parameters of autogluon.task.TabularPrediction.fit function.\n",
    "Below shows example autogluon hyperparameters for https://autogluon.mxnet.io/tutorials/tabular_prediction/tabular-indepth.html#model-ensembling-with-stacking-bagging\n",
    "\n",
    "Please see https://autogluon.mxnet.io/api/autogluon.task.html?highlight=eval_metric#autogluon.task.TabularPrediction.fit for further infomation."
   ]
  },
  {
   "cell_type": "code",
   "execution_count": null,
   "metadata": {},
   "outputs": [],
   "source": [
    "model_hps = {\n",
    "    'NN': {'num_epochs': '5'},\n",
    "    'GBM': {'num_boost_round': '100'}\n",
    "}\n",
    "\n",
    "hyperparameters = {\n",
    "    'label': 'y',\n",
    "    'hyperparameters': model_hps,\n",
    "    'stack_ensemble_levels': 1,\n",
    "    'num_bagging_folds': 5,\n",
    "    'hyperparameter_tune': False,\n",
    "    'eval_metric': 'balanced_accuracy',\n",
    "}"
   ]
  },
  {
   "cell_type": "markdown",
   "metadata": {},
   "source": [
    "For local training set `train_instance_type` to `local` .  \n",
    "For non-local training the recommended instance type is `ml.m5.24xlarge` ."
   ]
  },
  {
   "cell_type": "code",
   "execution_count": null,
   "metadata": {
    "Collapsed": "false"
   },
   "outputs": [],
   "source": [
    "%%time\n",
    "\n",
    "instance_type = 'ml.m5.24xlarge'\n",
    "#instance_type = 'local'\n",
    "\n",
    "ecr_image = f'{account}.dkr.ecr.{region}.amazonaws.com/{training_algorithm_name}:latest'\n",
    "\n",
    "estimator = Estimator(image_name=ecr_image,\n",
    "                      role=role,\n",
    "                      train_instance_count=1,\n",
    "                      train_instance_type=instance_type,\n",
    "                      hyperparameters=hyperparameters)\n",
    "\n",
    "estimator.fit(train_s3_path)"
   ]
  },
  {
   "cell_type": "code",
   "execution_count": null,
   "metadata": {
    "Collapsed": "false"
   },
   "outputs": [],
   "source": [
    "# Optionally, download model_data and display training performance graph\n",
    "!rm -rf model_data && mkdir model_data && aws s3 cp {estimator.model_data} - | tar -xz -C model_data\n",
    "display(HTML('model_data/SummaryOfModels.html'))"
   ]
  },
  {
   "cell_type": "markdown",
   "metadata": {
    "Collapsed": "false"
   },
   "source": [
    "### Build inference docker image"
   ]
  },
  {
   "cell_type": "markdown",
   "metadata": {
    "Collapsed": "false"
   },
   "source": [
    "Build the inference image and push to ECR"
   ]
  },
  {
   "cell_type": "code",
   "execution_count": null,
   "metadata": {
    "Collapsed": "false"
   },
   "outputs": [],
   "source": [
    "inference_algorithm_name = 'autogluon-sagemaker-inference'"
   ]
  },
  {
   "cell_type": "code",
   "execution_count": null,
   "metadata": {
    "Collapsed": "false"
   },
   "outputs": [],
   "source": [
    "!./container-inference/build_push_inference.sh {inference_algorithm_name}"
   ]
  },
  {
   "cell_type": "markdown",
   "metadata": {
    "Collapsed": "false"
   },
   "source": [
    "### Create Model"
   ]
  },
  {
   "cell_type": "code",
   "execution_count": null,
   "metadata": {
    "Collapsed": "false"
   },
   "outputs": [],
   "source": [
    "# Create predictor object\n",
    "class AutoGluonTabularPredictor(RealTimePredictor):\n",
    "    def __init__(self, *args, **kwargs):\n",
    "        super().__init__(*args, content_type='text/csv', \n",
    "                         serializer=csv_serializer, \n",
    "                         deserializer=StringDeserializer(), **kwargs)"
   ]
  },
  {
   "cell_type": "code",
   "execution_count": null,
   "metadata": {
    "Collapsed": "false"
   },
   "outputs": [],
   "source": [
    "ecr_image = f'{account}.dkr.ecr.{region}.amazonaws.com/{inference_algorithm_name}:latest'\n",
    "\n",
    "if instance_type == 'local':\n",
    "    model = estimator.create_model(image=ecr_image, role=role)\n",
    "else:\n",
    "    model_uri = os.path.join(estimator.output_path, estimator._current_job_name, \"output\", \"model.tar.gz\")\n",
    "    model = Model(model_uri, ecr_image, role=role, sagemaker_session=session, predictor_cls=AutoGluonTabularPredictor)"
   ]
  },
  {
   "cell_type": "markdown",
   "metadata": {
    "Collapsed": "false"
   },
   "source": [
    "### Batch Transform"
   ]
  },
  {
   "cell_type": "markdown",
   "metadata": {
    "Collapsed": "false"
   },
   "source": [
    "For local mode, either `s3://<bucket>/<prefix>/output/` or `file:///<absolute_local_path>` can be used as outputs.\n",
    "\n",
    "Include label column in input data to also evaluate prediction performance (In this case, passing `test_s3_path` instead of `X_test_s3_path`)."
   ]
  },
  {
   "cell_type": "code",
   "execution_count": null,
   "metadata": {
    "Collapsed": "false"
   },
   "outputs": [],
   "source": [
    "output_path = f's3://{bucket}/{prefix}/output/'\n",
    "# output_path = f'file://{os.getcwd()}'\n",
    "\n",
    "transformer = model.transformer(instance_count=1, \n",
    "                                instance_type=instance_type,\n",
    "                                strategy='SingleRecord',\n",
    "                                assemble_with='Line',\n",
    "                                max_payload=1,\n",
    "                                max_concurrent_transforms=100,                              \n",
    "                                output_path=output_path)\n",
    "\n",
    "transformer.transform(test_s3_path, content_type='text/csv')\n",
    "transformer.wait()"
   ]
  },
  {
   "cell_type": "code",
   "execution_count": null,
   "metadata": {
    "Collapsed": "false"
   },
   "outputs": [],
   "source": [
    "# Check s3 for <filename>.csv.out file\n",
    "if instance_type != 'local':\n",
    "    !aws s3 ls {transformer.output_path} --recursive\n",
    "elif 's3' in output_path:\n",
    "    !aws s3 ls {output_path+transformer.latest_transform_job.job_name} --recursive"
   ]
  },
  {
   "cell_type": "markdown",
   "metadata": {
    "Collapsed": "false"
   },
   "source": [
    "### Endpoint"
   ]
  },
  {
   "cell_type": "markdown",
   "metadata": {
    "Collapsed": "false"
   },
   "source": [
    "##### Deploy remote or local endpoint"
   ]
  },
  {
   "cell_type": "code",
   "execution_count": null,
   "metadata": {
    "Collapsed": "false"
   },
   "outputs": [],
   "source": [
    "instance_type = 'ml.m5.24xlarge'\n",
    "instance_type = 'local'\n",
    "\n",
    "predictor = model.deploy(initial_instance_count=1, \n",
    "                         instance_type=instance_type)"
   ]
  },
  {
   "cell_type": "markdown",
   "metadata": {
    "Collapsed": "false"
   },
   "source": [
    "##### Attach to endpoint (or reattach if kernel was restarted)"
   ]
  },
  {
   "cell_type": "code",
   "execution_count": null,
   "metadata": {
    "Collapsed": "false"
   },
   "outputs": [],
   "source": [
    "# Select standard or local session based on instance_type\n",
    "if instance_type == 'local': sess = local_session\n",
    "else: sess = session\n",
    "\n",
    "# Attach to endpoint\n",
    "predictor = AutoGluonTabularPredictor(predictor.endpoint, sagemaker_session=sess)"
   ]
  },
  {
   "cell_type": "markdown",
   "metadata": {
    "Collapsed": "false"
   },
   "source": [
    "##### Predict on unlabeled test data"
   ]
  },
  {
   "cell_type": "code",
   "execution_count": null,
   "metadata": {
    "Collapsed": "false"
   },
   "outputs": [],
   "source": [
    "results = predictor.predict(X_test.to_csv())\n",
    "\n",
    "# Check output\n",
    "print(Counter(results.splitlines()))"
   ]
  },
  {
   "cell_type": "markdown",
   "metadata": {
    "Collapsed": "false"
   },
   "source": [
    "##### Predict on data that includes label column  \n",
    "Prediction performance metrics will be printed to endpoint logs."
   ]
  },
  {
   "cell_type": "code",
   "execution_count": null,
   "metadata": {
    "Collapsed": "false"
   },
   "outputs": [],
   "source": [
    "results = predictor.predict(test.to_csv())\n",
    "\n",
    "# Check output\n",
    "sleep(0.1); print(Counter(results.splitlines()))"
   ]
  },
  {
   "cell_type": "markdown",
   "metadata": {
    "Collapsed": "false"
   },
   "source": [
    "##### Check that performance metrics match evaluation printed to endpoint logs as expected"
   ]
  },
  {
   "cell_type": "code",
   "execution_count": null,
   "metadata": {
    "Collapsed": "false"
   },
   "outputs": [],
   "source": [
    "import numpy as np\n",
    "y_results = np.array(results.splitlines())\n",
    "\n",
    "print(\"accuracy: {}\".format(accuracy_score(y_true=y_test, y_pred=y_results)))\n",
    "print(classification_report(y_true=y_test, y_pred=y_results, digits=6))"
   ]
  },
  {
   "cell_type": "markdown",
   "metadata": {
    "Collapsed": "false"
   },
   "source": [
    "##### Clean up endpoint"
   ]
  },
  {
   "cell_type": "code",
   "execution_count": null,
   "metadata": {
    "Collapsed": "false"
   },
   "outputs": [],
   "source": [
    "predictor.delete_endpoint()"
   ]
  },
  {
   "cell_type": "markdown",
   "metadata": {
    "Collapsed": "false"
   },
   "source": [
    "<br><br><br><br>\n",
    "\n",
    "# FAQ\n",
    "\n",
    "- **Q**: I get a disk full error when running local training and deployment, but my disk isn't full.\n",
    "    - **A**: SageMaker uses `/tmp` folder which has a max size of ~10GB on SM hosted notebooks. Run `sudo rm -rf /tmp/*` to clean.    \n",
    "- **Q**: I'm having docker issues with local training or deployment, what can I do?\n",
    "    - **A**: Try deleting running containers. For example: `docker stop $(docker ps -aq) && docker rm $(docker ps -aq)`"
   ]
  }
 ],
 "metadata": {
  "kernelspec": {
   "display_name": "conda_mxnet_p36",
   "language": "python",
   "name": "conda_mxnet_p36"
  },
  "language_info": {
   "codemirror_mode": {
    "name": "ipython",
    "version": 3
   },
   "file_extension": ".py",
   "mimetype": "text/x-python",
   "name": "python",
   "nbconvert_exporter": "python",
   "pygments_lexer": "ipython3",
   "version": "3.6.5"
  }
 },
 "nbformat": 4,
 "nbformat_minor": 4
}
