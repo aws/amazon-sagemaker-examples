{
 "cells": [
  {
   "cell_type": "code",
   "execution_count": 1,
   "id": "01721203",
   "metadata": {
    "execution": {
     "iopub.execute_input": "2022-03-23T18:04:52.576208Z",
     "iopub.status.busy": "2022-03-23T18:04:52.575676Z",
     "iopub.status.idle": "2022-03-23T18:04:52.577629Z",
     "shell.execute_reply": "2022-03-23T18:04:52.578015Z"
    },
    "papermill": {
     "duration": 0.015767,
     "end_time": "2022-03-23T18:04:52.578203",
     "exception": false,
     "start_time": "2022-03-23T18:04:52.562436",
     "status": "completed"
    },
    "tags": [
     "injected-parameters"
    ]
   },
   "outputs": [],
   "source": [
    "# Parameters\n",
    "kms_key = \"arn:aws:kms:us-west-2:000000000000:1234abcd-12ab-34cd-56ef-1234567890ab\"\n"
   ]
  },
  {
   "cell_type": "markdown",
   "id": "ea1e2800",
   "metadata": {
    "papermill": {
     "duration": 0.009491,
     "end_time": "2022-03-23T18:04:52.597673",
     "exception": false,
     "start_time": "2022-03-23T18:04:52.588182",
     "status": "completed"
    },
    "tags": []
   },
   "source": [
    "# Regression with Amazon SageMaker XGBoost algorithm\n",
    "_**Distributed training for regression with Amazon SageMaker XGBoost script mode**_\n",
    "\n",
    "---\n",
    "\n",
    "## Contents\n",
    "1. [Introduction](#Introduction)\n",
    "2. [Setup](#Setup)\n",
    "  1. [Fetching the dataset](#Fetching-the-dataset)\n",
    "  2. [Data Ingestion](#Data-ingestion)\n",
    "3. [Training the XGBoost model](#Training-the-XGBoost-model)\n",
    "3. [Deploying the XGBoost model](#Deploying-the-XGBoost-model)\n",
    "\n",
    "---"
   ]
  },
  {
   "cell_type": "markdown",
   "id": "f295838d",
   "metadata": {
    "papermill": {
     "duration": 0.009495,
     "end_time": "2022-03-23T18:04:52.616657",
     "exception": false,
     "start_time": "2022-03-23T18:04:52.607162",
     "status": "completed"
    },
    "tags": []
   },
   "source": [
    "## Introduction\n",
    "\n",
    "This notebook demonstrates the use of Amazon SageMaker XGBoost to train and host a regression model. [XGBoost (eXtreme Gradient Boosting)](https://xgboost.readthedocs.io) is a popular and efficient machine learning algorithm used for regression and classification tasks on tabular datasets. It implements a technique know as gradient boosting on trees, and performs remarkably well in machine learning competitions, and gets a lot of attention from customers. \n",
    "\n",
    "We use the [Abalone data](https://www.csie.ntu.edu.tw/~cjlin/libsvmtools/datasets/regression.html), originally from the [UCI data repository](https://archive.ics.uci.edu/ml/datasets/abalone). More details about the original dataset can be found [here](https://archive.ics.uci.edu/ml/machine-learning-databases/abalone/abalone.names).  In this libsvm converted version, the nominal feature (Male/Female/Infant) has been converted into a real valued feature as required by XGBoost. Age of abalone is to be predicted from eight physical measurements.  \n",
    "\n",
    "---\n",
    "## Setup\n",
    "\n",
    "This notebook was tested in Amazon SageMaker Studio on a ml.t3.medium instance with Python 3 (Data Science) kernel.\n",
    "\n",
    "Let's start by specifying:\n",
    "1. The S3 bucket and prefix that you want to use for training and model data. This should be within the same region as the Notebook Instance, training, and hosting.\n",
    "1. The IAM role arn used to give training and hosting access to your data. See the documentation for how to create these. Note, if more than one role is required for notebook instances, training, and/or hosting, please replace the boto regexp with a the appropriate full IAM role arn string(s)."
   ]
  },
  {
   "cell_type": "code",
   "execution_count": 2,
   "id": "6c07a4ed",
   "metadata": {
    "execution": {
     "iopub.execute_input": "2022-03-23T18:04:52.640376Z",
     "iopub.status.busy": "2022-03-23T18:04:52.639722Z",
     "iopub.status.idle": "2022-03-23T18:04:53.983825Z",
     "shell.execute_reply": "2022-03-23T18:04:53.984214Z"
    },
    "isConfigCell": true,
    "papermill": {
     "duration": 1.358322,
     "end_time": "2022-03-23T18:04:53.984360",
     "exception": false,
     "start_time": "2022-03-23T18:04:52.626038",
     "status": "completed"
    },
    "tags": []
   },
   "outputs": [
    {
     "name": "stderr",
     "output_type": "stream",
     "text": [
      "Couldn't call 'get_role' to get Role ARN from role name SageMakerRole to get Role path.\n"
     ]
    },
    {
     "name": "stdout",
     "output_type": "stream",
     "text": [
      "us-west-2\n",
      "CPU times: user 870 ms, sys: 282 ms, total: 1.15 s\n",
      "Wall time: 1.34 s\n"
     ]
    }
   ],
   "source": [
    "%%time\n",
    "\n",
    "import os\n",
    "import boto3\n",
    "import re\n",
    "import sagemaker\n",
    "\n",
    "# Get a SageMaker-compatible role used by this Notebook Instance.\n",
    "role = sagemaker.get_execution_role()\n",
    "region = sagemaker.Session().boto_region_name\n",
    "\n",
    "### update below values appropriately ###\n",
    "bucket = sagemaker.Session().default_bucket()\n",
    "prefix = \"sagemaker/DEMO-xgboost-dist-script\"\n",
    "####\n",
    "\n",
    "print(region)"
   ]
  },
  {
   "cell_type": "markdown",
   "id": "fa90df47",
   "metadata": {
    "papermill": {
     "duration": 0.010028,
     "end_time": "2022-03-23T18:04:54.004855",
     "exception": false,
     "start_time": "2022-03-23T18:04:53.994827",
     "status": "completed"
    },
    "tags": []
   },
   "source": [
    "### Fetching the dataset\n",
    "\n",
    "Following methods split the data into train/test/validation datasets and upload files to S3."
   ]
  },
  {
   "cell_type": "code",
   "execution_count": 3,
   "id": "71b2e066",
   "metadata": {
    "execution": {
     "iopub.execute_input": "2022-03-23T18:04:54.032680Z",
     "iopub.status.busy": "2022-03-23T18:04:54.032063Z",
     "iopub.status.idle": "2022-03-23T18:04:54.034877Z",
     "shell.execute_reply": "2022-03-23T18:04:54.035256Z"
    },
    "papermill": {
     "duration": 0.020496,
     "end_time": "2022-03-23T18:04:54.035428",
     "exception": false,
     "start_time": "2022-03-23T18:04:54.014932",
     "status": "completed"
    },
    "tags": []
   },
   "outputs": [
    {
     "name": "stdout",
     "output_type": "stream",
     "text": [
      "CPU times: user 26 µs, sys: 0 ns, total: 26 µs\n",
      "Wall time: 29.8 µs\n"
     ]
    }
   ],
   "source": [
    "%%time\n",
    "\n",
    "import io\n",
    "import boto3\n",
    "import random\n",
    "\n",
    "random.seed(42)\n",
    "\n",
    "\n",
    "def data_split(\n",
    "    FILE_DATA,\n",
    "    DATA_DIR,\n",
    "    FILE_TRAIN_BASE,\n",
    "    FILE_TRAIN_1,\n",
    "    FILE_VALIDATION,\n",
    "    FILE_TEST,\n",
    "    PERCENT_TRAIN_0,\n",
    "    PERCENT_TRAIN_1,\n",
    "    PERCENT_VALIDATION,\n",
    "    PERCENT_TEST,\n",
    "):\n",
    "    data = [l for l in open(FILE_DATA, \"r\")]\n",
    "    train_file_0 = open(DATA_DIR + \"/\" + FILE_TRAIN_0, \"w\")\n",
    "    train_file_1 = open(DATA_DIR + \"/\" + FILE_TRAIN_1, \"w\")\n",
    "    valid_file = open(DATA_DIR + \"/\" + FILE_VALIDATION, \"w\")\n",
    "    tests_file = open(DATA_DIR + \"/\" + FILE_TEST, \"w\")\n",
    "\n",
    "    num_of_data = len(data)\n",
    "    num_train_0 = int((PERCENT_TRAIN_0 / 100.0) * num_of_data)\n",
    "    num_train_1 = int((PERCENT_TRAIN_1 / 100.0) * num_of_data)\n",
    "    num_valid = int((PERCENT_VALIDATION / 100.0) * num_of_data)\n",
    "    num_tests = int((PERCENT_TEST / 100.0) * num_of_data)\n",
    "\n",
    "    data_fractions = [num_train_0, num_train_1, num_valid, num_tests]\n",
    "    split_data = [[], [], [], []]\n",
    "\n",
    "    rand_data_ind = 0\n",
    "\n",
    "    for split_ind, fraction in enumerate(data_fractions):\n",
    "        for i in range(fraction):\n",
    "            rand_data_ind = random.randint(0, len(data) - 1)\n",
    "            split_data[split_ind].append(data[rand_data_ind])\n",
    "            data.pop(rand_data_ind)\n",
    "\n",
    "    for l in split_data[0]:\n",
    "        train_file_0.write(l)\n",
    "\n",
    "    for l in split_data[1]:\n",
    "        train_file_1.write(l)\n",
    "\n",
    "    for l in split_data[2]:\n",
    "        valid_file.write(l)\n",
    "\n",
    "    for l in split_data[3]:\n",
    "        tests_file.write(l)\n",
    "\n",
    "    train_file_0.close()\n",
    "    train_file_1.close()\n",
    "    valid_file.close()\n",
    "    tests_file.close()\n",
    "\n",
    "\n",
    "def write_to_s3(fobj, bucket, key):\n",
    "    return (\n",
    "        boto3.Session(region_name=region)\n",
    "        .resource(\"s3\")\n",
    "        .Bucket(bucket)\n",
    "        .Object(key)\n",
    "        .upload_fileobj(fobj)\n",
    "    )\n",
    "\n",
    "\n",
    "def upload_to_s3(bucket, channel, filename):\n",
    "    fobj = open(filename, \"rb\")\n",
    "    key = prefix + \"/\" + channel\n",
    "    url = \"s3://{}/{}/{}\".format(bucket, key, filename)\n",
    "    print(\"Writing to {}\".format(url))\n",
    "    write_to_s3(fobj, bucket, key)"
   ]
  },
  {
   "cell_type": "markdown",
   "id": "db937cef",
   "metadata": {
    "papermill": {
     "duration": 0.01042,
     "end_time": "2022-03-23T18:04:54.056352",
     "exception": false,
     "start_time": "2022-03-23T18:04:54.045932",
     "status": "completed"
    },
    "tags": []
   },
   "source": [
    "### Data ingestion\n",
    "\n",
    "Next, we read the dataset from the existing repository into memory, for preprocessing prior to training. This processing could be done *in situ* by Amazon Athena, Apache Spark in Amazon EMR, Amazon Redshift, etc., assuming the dataset is present in the appropriate location. Then, the next step would be to transfer the data to S3 for use in training. For small datasets, such as this one, reading into memory isn't onerous, though it would be for larger datasets."
   ]
  },
  {
   "cell_type": "code",
   "execution_count": 4,
   "id": "6911389f",
   "metadata": {
    "execution": {
     "iopub.execute_input": "2022-03-23T18:04:54.090021Z",
     "iopub.status.busy": "2022-03-23T18:04:54.089283Z",
     "iopub.status.idle": "2022-03-23T18:04:54.941987Z",
     "shell.execute_reply": "2022-03-23T18:04:54.942396Z"
    },
    "papermill": {
     "duration": 0.875858,
     "end_time": "2022-03-23T18:04:54.942540",
     "exception": false,
     "start_time": "2022-03-23T18:04:54.066682",
     "status": "completed"
    },
    "tags": []
   },
   "outputs": [
    {
     "name": "stdout",
     "output_type": "stream",
     "text": [
      "CPU times: user 165 ms, sys: 6.49 ms, total: 171 ms\n",
      "Wall time: 858 ms\n"
     ]
    }
   ],
   "source": [
    "%%time\n",
    "s3 = boto3.client(\"s3\")\n",
    "\n",
    "# Load the dataset\n",
    "FILE_DATA = \"abalone\"\n",
    "s3.download_file(\n",
    "    \"sagemaker-sample-files\", f\"datasets/tabular/uci_abalone/abalone.libsvm\", FILE_DATA\n",
    ")\n",
    "\n",
    "# split the downloaded data into train/test/validation files\n",
    "FILE_TRAIN_0 = \"abalone.train_0\"\n",
    "FILE_TRAIN_1 = \"abalone.train_1\"\n",
    "FILE_VALIDATION = \"abalone.validation\"\n",
    "FILE_TEST = \"abalone.test\"\n",
    "PERCENT_TRAIN_0 = 35\n",
    "PERCENT_TRAIN_1 = 35\n",
    "PERCENT_VALIDATION = 15\n",
    "PERCENT_TEST = 15\n",
    "\n",
    "DATA_DIR = \"data\"\n",
    "\n",
    "if not os.path.exists(DATA_DIR):\n",
    "    os.mkdir(DATA_DIR)\n",
    "\n",
    "data_split(\n",
    "    FILE_DATA,\n",
    "    DATA_DIR,\n",
    "    FILE_TRAIN_0,\n",
    "    FILE_TRAIN_1,\n",
    "    FILE_VALIDATION,\n",
    "    FILE_TEST,\n",
    "    PERCENT_TRAIN_0,\n",
    "    PERCENT_TRAIN_1,\n",
    "    PERCENT_VALIDATION,\n",
    "    PERCENT_TEST,\n",
    ")"
   ]
  },
  {
   "cell_type": "code",
   "execution_count": 5,
   "id": "bc1d0925",
   "metadata": {
    "execution": {
     "iopub.execute_input": "2022-03-23T18:04:54.975577Z",
     "iopub.status.busy": "2022-03-23T18:04:54.974872Z",
     "iopub.status.idle": "2022-03-23T18:04:55.532279Z",
     "shell.execute_reply": "2022-03-23T18:04:55.532668Z"
    },
    "papermill": {
     "duration": 0.57954,
     "end_time": "2022-03-23T18:04:55.532807",
     "exception": false,
     "start_time": "2022-03-23T18:04:54.953267",
     "status": "completed"
    },
    "tags": []
   },
   "outputs": [
    {
     "name": "stdout",
     "output_type": "stream",
     "text": [
      "Writing to s3://sagemaker-us-west-2--000000000000/sagemaker/DEMO-xgboost-dist-script/train/train_0.libsvm/data/abalone.train_0\n",
      "Writing to s3://sagemaker-us-west-2--000000000000/sagemaker/DEMO-xgboost-dist-script/train/train_1.libsvm/data/abalone.train_1\n"
     ]
    },
    {
     "name": "stdout",
     "output_type": "stream",
     "text": [
      "Writing to s3://sagemaker-us-west-2--000000000000/sagemaker/DEMO-xgboost-dist-script/validation/validation.libsvm/data/abalone.validation\n",
      "Writing to s3://sagemaker-us-west-2--000000000000/sagemaker/DEMO-xgboost-dist-script/test/test.libsvm/data/abalone.test\n"
     ]
    }
   ],
   "source": [
    "# upload the files to the S3 bucket\n",
    "upload_to_s3(bucket, \"train/train_0.libsvm\", DATA_DIR + \"/\" + FILE_TRAIN_0)\n",
    "upload_to_s3(bucket, \"train/train_1.libsvm\", DATA_DIR + \"/\" + FILE_TRAIN_1)\n",
    "upload_to_s3(bucket, \"validation/validation.libsvm\", DATA_DIR + \"/\" + FILE_VALIDATION)\n",
    "upload_to_s3(bucket, \"test/test.libsvm\", DATA_DIR + \"/\" + FILE_TEST)"
   ]
  },
  {
   "cell_type": "markdown",
   "id": "553e5422",
   "metadata": {
    "papermill": {
     "duration": 0.011083,
     "end_time": "2022-03-23T18:04:55.555073",
     "exception": false,
     "start_time": "2022-03-23T18:04:55.543990",
     "status": "completed"
    },
    "tags": []
   },
   "source": [
    "## Create a XGBoost script to train with \n",
    "\n",
    "SageMaker can now run an XGboost script using the XGBoost estimator. When executed on SageMaker a number of helpful environment variables are available to access properties of the training environment, such as:\n",
    "\n",
    "- `SM_MODEL_DIR`: A string representing the path to the directory to write model artifacts to. Any artifacts saved in this folder are uploaded to S3 for model hosting after the training job completes.\n",
    "- `SM_OUTPUT_DIR`: A string representing the filesystem path to write output artifacts to. Output artifacts may include checkpoints, graphs, and other files to save, not including model artifacts. These artifacts are compressed and uploaded to S3 to the same S3 prefix as the model artifacts.\n",
    "\n",
    "Supposing two input channels, 'train' and 'validation', were used in the call to the XGBoost estimator's fit() method, the following environment variables will be set, following the format `SM_CHANNEL_[channel_name]`:\n",
    "\n",
    "`SM_CHANNEL_TRAIN`: A string representing the path to the directory containing data in the 'train' channel\n",
    "`SM_CHANNEL_VALIDATION`: Same as above, but for the 'validation' channel.\n",
    "\n",
    "A typical training script loads data from the input channels, configures training with hyperparameters, trains a model, and saves a model to model_dir so that it can be hosted later. Hyperparameters are passed to your script as arguments and can be retrieved with an argparse.ArgumentParser instance. For example, the script that we will run in this notebook is provided as the accompanying file (`abalone.py`) and also shown below:\n",
    "\n",
    "```python\n",
    "\n",
    "import argparse\n",
    "import json\n",
    "import logging\n",
    "import os\n",
    "import pandas as pd\n",
    "import pickle as pkl\n",
    "\n",
    "from sagemaker_containers import entry_point\n",
    "from sagemaker_xgboost_container.data_utils import get_dmatrix\n",
    "from sagemaker_xgboost_container import distributed\n",
    "\n",
    "import xgboost as xgb\n",
    "\n",
    "\n",
    "def _xgb_train(params, dtrain, evals, num_boost_round, model_dir, is_master):\n",
    "    \"\"\"Run xgb train on arguments given with rabit initialized.\n",
    "\n",
    "    This is our rabit execution function.\n",
    "\n",
    "    :param args_dict: Argument dictionary used to run xgb.train().\n",
    "    :param is_master: True if current node is master host in distributed training,\n",
    "                        or is running single node training job.\n",
    "                        Note that rabit_run will include this argument.\n",
    "    \"\"\"\n",
    "    booster = xgb.train(params=params,\n",
    "                        dtrain=dtrain,\n",
    "                        evals=evals,\n",
    "                        num_boost_round=num_boost_round)\n",
    "\n",
    "    if is_master:\n",
    "        model_location = model_dir + '/xgboost-model'\n",
    "        pkl.dump(booster, open(model_location, 'wb'))\n",
    "        logging.info(\"Stored trained model at {}\".format(model_location))\n",
    "\n",
    "\n",
    "if __name__ == '__main__':\n",
    "    parser = argparse.ArgumentParser()\n",
    "\n",
    "    # Hyperparameters are described here.\n",
    "    parser.add_argument('--max_depth', type=int,)\n",
    "    parser.add_argument('--eta', type=float)\n",
    "    parser.add_argument('--gamma', type=int)\n",
    "    parser.add_argument('--min_child_weight', type=int)\n",
    "    parser.add_argument('--subsample', type=float)\n",
    "    parser.add_argument('--verbosity', type=int)\n",
    "    parser.add_argument('--objective', type=str)\n",
    "    parser.add_argument('--num_round', type=int)\n",
    "    parser.add_argument('--tree_method', type=str, default=\"auto\")\n",
    "    parser.add_argument('--predictor', type=str, default=\"auto\")\n",
    "\n",
    "    # Sagemaker specific arguments. Defaults are set in the environment variables.\n",
    "    parser.add_argument('--output_data_dir', type=str, default=os.environ.get('SM_OUTPUT_DATA_DIR'))\n",
    "    parser.add_argument('--model_dir', type=str, default=os.environ.get('SM_MODEL_DIR'))\n",
    "    parser.add_argument('--train', type=str, default=os.environ.get('SM_CHANNEL_TRAIN'))\n",
    "    parser.add_argument('--validation', type=str, default=os.environ.get('SM_CHANNEL_VALIDATION'))\n",
    "    parser.add_argument('--sm_hosts', type=str, default=os.environ.get('SM_HOSTS'))\n",
    "    parser.add_argument('--sm_current_host', type=str, default=os.environ.get('SM_CURRENT_HOST'))\n",
    "\n",
    "    args, _ = parser.parse_known_args()\n",
    "\n",
    "    # Get SageMaker host information from runtime environment variables\n",
    "    sm_hosts = json.loads(args.sm_hosts)\n",
    "    sm_current_host = args.sm_current_host\n",
    "\n",
    "    dtrain = get_dmatrix(args.train, 'libsvm')\n",
    "    dval = get_dmatrix(args.validation, 'libsvm')\n",
    "    watchlist = [(dtrain, 'train'), (dval, 'validation')] if dval is not None else [(dtrain, 'train')]\n",
    "\n",
    "    train_hp = {\n",
    "        'max_depth': args.max_depth,\n",
    "        'eta': args.eta,\n",
    "        'gamma': args.gamma,\n",
    "        'min_child_weight': args.min_child_weight,\n",
    "        'subsample': args.subsample,\n",
    "        'verbosity': args.verbosity,\n",
    "        'objective': args.objective,\n",
    "        'tree_method': args.tree_method,\n",
    "        'predictor': args.predictor,\n",
    "    }\n",
    "\n",
    "    xgb_train_args = dict(\n",
    "        params=train_hp,\n",
    "        dtrain=dtrain,\n",
    "        evals=watchlist,\n",
    "        num_boost_round=args.num_round,\n",
    "        model_dir=args.model_dir)\n",
    "\n",
    "    if len(sm_hosts) > 1:\n",
    "        # Wait until all hosts are able to find each other\n",
    "        entry_point._wait_hostname_resolution()\n",
    "\n",
    "        # Execute training function after initializing rabit.\n",
    "        distributed.rabit_run(\n",
    "            exec_fun=_xgb_train,\n",
    "            args=xgb_train_args,\n",
    "            include_in_training=(dtrain is not None),\n",
    "            hosts=sm_hosts,\n",
    "            current_host=sm_current_host,\n",
    "            update_rabit_args=True\n",
    "        )\n",
    "    else:\n",
    "        # If single node training, call training method directly.\n",
    "        if dtrain:\n",
    "            xgb_train_args['is_master'] = True\n",
    "            _xgb_train(**xgb_train_args)\n",
    "        else:\n",
    "            raise ValueError(\"Training channel must have data to train model.\")\n",
    "\n",
    "\n",
    "def model_fn(model_dir):\n",
    "    \"\"\"Deserialize and return fitted model.\n",
    "\n",
    "    Note that this should have the same name as the serialized model in the _xgb_train method\n",
    "    \"\"\"\n",
    "    model_file = 'xgboost-model'\n",
    "    booster = pkl.load(open(os.path.join(model_dir, model_file), 'rb'))\n",
    "    return booster\n",
    "```"
   ]
  },
  {
   "cell_type": "markdown",
   "id": "f7936c9d",
   "metadata": {
    "papermill": {
     "duration": 0.010868,
     "end_time": "2022-03-23T18:04:55.577065",
     "exception": false,
     "start_time": "2022-03-23T18:04:55.566197",
     "status": "completed"
    },
    "tags": []
   },
   "source": [
    "Because the container imports your training script, always put your training code in a main guard `(if __name__=='__main__':)` so that the container does not inadvertently run your training code at the wrong point in execution.\n",
    "\n",
    "For more information about training environment variables, please visit https://github.com/aws/sagemaker-containers."
   ]
  },
  {
   "cell_type": "markdown",
   "id": "6a58a10c",
   "metadata": {
    "papermill": {
     "duration": 0.010876,
     "end_time": "2022-03-23T18:04:55.598913",
     "exception": false,
     "start_time": "2022-03-23T18:04:55.588037",
     "status": "completed"
    },
    "tags": []
   },
   "source": [
    "## Training the XGBoost model\n",
    "\n",
    "After setting training parameters, we kick off training, and poll for status until training is completed, which in this example, takes between few minutes.\n",
    "\n",
    "To run our training script on SageMaker, we construct a sagemaker.xgboost.estimator.XGBoost estimator, which accepts several constructor arguments:\n",
    "\n",
    "* __entry_point__: The path to the Python script SageMaker runs for training and prediction.\n",
    "* __role__: Role ARN\n",
    "* __train_instance_type__ *(optional)*: The type of SageMaker instances for training. __Note__: Because Scikit-learn does not natively support GPU training, Sagemaker Scikit-learn does not currently support training on GPU instance types.\n",
    "* __sagemaker_session__ *(optional)*: The session used to train on Sagemaker.\n",
    "* __hyperparameters__ *(optional)*: A dictionary passed to the train function as hyperparameters."
   ]
  },
  {
   "cell_type": "code",
   "execution_count": 6,
   "id": "6b994605",
   "metadata": {
    "execution": {
     "iopub.execute_input": "2022-03-23T18:04:55.625774Z",
     "iopub.status.busy": "2022-03-23T18:04:55.625242Z",
     "iopub.status.idle": "2022-03-23T18:04:55.627525Z",
     "shell.execute_reply": "2022-03-23T18:04:55.627127Z"
    },
    "papermill": {
     "duration": 0.017841,
     "end_time": "2022-03-23T18:04:55.627660",
     "exception": false,
     "start_time": "2022-03-23T18:04:55.609819",
     "status": "completed"
    },
    "tags": []
   },
   "outputs": [],
   "source": [
    "hyperparams = {\n",
    "    \"max_depth\": \"5\",\n",
    "    \"eta\": \"0.2\",\n",
    "    \"gamma\": \"4\",\n",
    "    \"min_child_weight\": \"6\",\n",
    "    \"subsample\": \"0.7\",\n",
    "    \"objective\": \"reg:squarederror\",\n",
    "    \"num_round\": \"50\",\n",
    "    \"verbosity\": \"2\",\n",
    "}\n",
    "\n",
    "instance_type = \"ml.m5.2xlarge\"\n",
    "output_path = \"s3://{}/{}/{}/output\".format(bucket, prefix, \"abalone-dist-xgb\")\n",
    "content_type = \"libsvm\""
   ]
  },
  {
   "cell_type": "code",
   "execution_count": 7,
   "id": "900f3029",
   "metadata": {
    "execution": {
     "iopub.execute_input": "2022-03-23T18:04:55.655020Z",
     "iopub.status.busy": "2022-03-23T18:04:55.654495Z",
     "iopub.status.idle": "2022-03-23T18:04:55.786090Z",
     "shell.execute_reply": "2022-03-23T18:04:55.785626Z"
    },
    "papermill": {
     "duration": 0.147436,
     "end_time": "2022-03-23T18:04:55.786200",
     "exception": false,
     "start_time": "2022-03-23T18:04:55.638764",
     "status": "completed"
    },
    "tags": []
   },
   "outputs": [],
   "source": [
    "# Open Source distributed script mode\n",
    "from sagemaker.session import Session\n",
    "from sagemaker.inputs import TrainingInput\n",
    "from sagemaker.xgboost.estimator import XGBoost\n",
    "\n",
    "session = Session()\n",
    "script_path = \"abalone.py\"\n",
    "\n",
    "xgb_script_mode_estimator = XGBoost(\n",
    "    entry_point=script_path,\n",
    "    framework_version=\"1.3-1\",  # Note: framework_version is mandatory\n",
    "    hyperparameters=hyperparams,\n",
    "    role=role,\n",
    "    instance_count=2,\n",
    "    instance_type=instance_type,\n",
    "    output_path=output_path,\n",
    ")\n",
    "\n",
    "train_input = TrainingInput(\n",
    "    \"s3://{}/{}/{}/\".format(bucket, prefix, \"train\"), content_type=content_type\n",
    ")\n",
    "validation_input = TrainingInput(\n",
    "    \"s3://{}/{}/{}/\".format(bucket, prefix, \"validation\"), content_type=content_type\n",
    ")"
   ]
  },
  {
   "cell_type": "markdown",
   "id": "b13db38e",
   "metadata": {
    "papermill": {
     "duration": 0.011148,
     "end_time": "2022-03-23T18:04:55.810304",
     "exception": false,
     "start_time": "2022-03-23T18:04:55.799156",
     "status": "completed"
    },
    "tags": []
   },
   "source": [
    "### Train XGBoost Estimator on abalone data \n",
    "\n",
    "\n",
    "Training is as simple as calling `fit` on the Estimator. This will start a SageMaker Training job that will download the data, invoke the entry point code (in the provided script file), and save any model artifacts that the script creates."
   ]
  },
  {
   "cell_type": "code",
   "execution_count": 8,
   "id": "ac81f3ba",
   "metadata": {
    "execution": {
     "iopub.execute_input": "2022-03-23T18:04:55.837594Z",
     "iopub.status.busy": "2022-03-23T18:04:55.837102Z",
     "iopub.status.idle": "2022-03-23T18:08:41.114481Z",
     "shell.execute_reply": "2022-03-23T18:08:41.113976Z"
    },
    "papermill": {
     "duration": 225.292251,
     "end_time": "2022-03-23T18:08:41.114595",
     "exception": false,
     "start_time": "2022-03-23T18:04:55.822344",
     "status": "completed"
    },
    "scrolled": true,
    "tags": []
   },
   "outputs": [
    {
     "name": "stdout",
     "output_type": "stream",
     "text": [
      "2022-03-23 18:04:56 Starting - Starting the training job."
     ]
    },
    {
     "name": "stdout",
     "output_type": "stream",
     "text": [
      "."
     ]
    },
    {
     "name": "stdout",
     "output_type": "stream",
     "text": [
      "."
     ]
    },
    {
     "name": "stdout",
     "output_type": "stream",
     "text": [
      "\n",
      "2022-03-23 18:05:21 Starting - Preparing the instances for trainingProfilerReport-1648058695: InProgress\n",
      "."
     ]
    },
    {
     "name": "stdout",
     "output_type": "stream",
     "text": [
      "."
     ]
    },
    {
     "name": "stdout",
     "output_type": "stream",
     "text": [
      "."
     ]
    },
    {
     "name": "stdout",
     "output_type": "stream",
     "text": [
      "."
     ]
    },
    {
     "name": "stdout",
     "output_type": "stream",
     "text": [
      "."
     ]
    },
    {
     "name": "stdout",
     "output_type": "stream",
     "text": [
      "."
     ]
    },
    {
     "name": "stdout",
     "output_type": "stream",
     "text": [
      "\n",
      "2022-03-23 18:06:26 Downloading - Downloading input data."
     ]
    },
    {
     "name": "stdout",
     "output_type": "stream",
     "text": [
      "."
     ]
    },
    {
     "name": "stdout",
     "output_type": "stream",
     "text": [
      "."
     ]
    },
    {
     "name": "stdout",
     "output_type": "stream",
     "text": [
      "\n",
      "2022-03-23 18:06:46 Training - Downloading the training image."
     ]
    },
    {
     "name": "stdout",
     "output_type": "stream",
     "text": [
      "."
     ]
    },
    {
     "name": "stdout",
     "output_type": "stream",
     "text": [
      "."
     ]
    },
    {
     "name": "stdout",
     "output_type": "stream",
     "text": [
      "."
     ]
    },
    {
     "name": "stdout",
     "output_type": "stream",
     "text": [
      "."
     ]
    },
    {
     "name": "stdout",
     "output_type": "stream",
     "text": [
      "\u001b[34m[2022-03-23 18:07:35.338 ip-10-0-148-255.us-west-2.compute.internal:1 INFO utils.py:27] RULE_JOB_STOP_SIGNAL_FILENAME: None\u001b[0m\n",
      "\u001b[34m[2022-03-23:18:07:35:INFO] Imported framework sagemaker_xgboost_container.training\u001b[0m\n",
      "\u001b[34m[2022-03-23:18:07:35:INFO] No GPUs detected (normal if no gpus installed)\u001b[0m\n",
      "\u001b[34m[2022-03-23:18:07:35:INFO] Invoking user training script.\u001b[0m\n",
      "\u001b[34m[2022-03-23:18:07:35:INFO] Module abalone does not provide a setup.py. \u001b[0m\n",
      "\u001b[34mGenerating setup.py\u001b[0m\n",
      "\u001b[34m[2022-03-23:18:07:35:INFO] Generating setup.cfg\u001b[0m\n",
      "\u001b[34m[2022-03-23:18:07:35:INFO] Generating MANIFEST.in\u001b[0m\n",
      "\u001b[34m[2022-03-23:18:07:35:INFO] Installing module with the following command:\u001b[0m\n",
      "\u001b[34m/miniconda3/bin/python3 -m pip install . \u001b[0m\n",
      "\u001b[34mProcessing /opt/ml/code\n",
      "  Preparing metadata (setup.py): started\n",
      "  Preparing metadata (setup.py): finished with status 'done'\u001b[0m\n",
      "\u001b[34mBuilding wheels for collected packages: abalone\n",
      "  Building wheel for abalone (setup.py): started\n",
      "  Building wheel for abalone (setup.py): finished with status 'done'\n",
      "  Created wheel for abalone: filename=abalone-1.0.0-py2.py3-none-any.whl size=6412 sha256=2d1b941d6436ad614773df4ebab533a4d70050005f550a1d25c14f147ad05958\n",
      "  Stored in directory: /home/model-server/tmp/pip-ephem-wheel-cache-783q8duj/wheels/3e/0f/51/2f1df833dd0412c1bc2f5ee56baac195b5be563353d111dca6\u001b[0m\n",
      "\u001b[34mSuccessfully built abalone\u001b[0m\n",
      "\u001b[34mInstalling collected packages: abalone\u001b[0m\n",
      "\u001b[34mSuccessfully installed abalone-1.0.0\u001b[0m\n",
      "\u001b[34mWARNING: Running pip as the 'root' user can result in broken permissions and conflicting behaviour with the system package manager. It is recommended to use a virtual environment instead: https://pip.pypa.io/warnings/venv\u001b[0m\n",
      "\u001b[34m[2022-03-23:18:07:37:INFO] No GPUs detected (normal if no gpus installed)\u001b[0m\n",
      "\u001b[34m[2022-03-23:18:07:37:INFO] Invoking user script\u001b[0m\n",
      "\u001b[34mTraining Env:\u001b[0m\n",
      "\u001b[34m{\n",
      "    \"additional_framework_parameters\": {},\n",
      "    \"channel_input_dirs\": {\n",
      "        \"train\": \"/opt/ml/input/data/train\",\n",
      "        \"validation\": \"/opt/ml/input/data/validation\"\n",
      "    },\n",
      "    \"current_host\": \"algo-1\",\n",
      "    \"framework_module\": \"sagemaker_xgboost_container.training:main\",\n",
      "    \"hosts\": [\n",
      "        \"algo-1\",\n",
      "        \"algo-2\"\n",
      "    ],\n",
      "    \"hyperparameters\": {\n",
      "        \"eta\": \"0.2\",\n",
      "        \"gamma\": \"4\",\n",
      "        \"max_depth\": \"5\",\n",
      "        \"min_child_weight\": \"6\",\n",
      "        \"num_round\": \"50\",\n",
      "        \"objective\": \"reg:squarederror\",\n",
      "        \"subsample\": \"0.7\",\n",
      "        \"verbosity\": \"2\"\n",
      "    },\n",
      "    \"input_config_dir\": \"/opt/ml/input/config\",\n",
      "    \"input_data_config\": {\n",
      "        \"train\": {\n",
      "            \"ContentType\": \"libsvm\",\n",
      "            \"TrainingInputMode\": \"File\",\n",
      "            \"S3DistributionType\": \"FullyReplicated\",\n",
      "            \"RecordWrapperType\": \"None\"\n",
      "        },\n",
      "        \"validation\": {\n",
      "            \"ContentType\": \"libsvm\",\n",
      "            \"TrainingInputMode\": \"File\",\n",
      "            \"S3DistributionType\": \"FullyReplicated\",\n",
      "            \"RecordWrapperType\": \"None\"\n",
      "        }\n",
      "    },\n",
      "    \"input_dir\": \"/opt/ml/input\",\n",
      "    \"is_master\": true,\n",
      "    \"job_name\": \"sagemaker-xgboost-2022-03-23-18-04-55-835\",\n",
      "    \"log_level\": 20,\n",
      "    \"master_hostname\": \"algo-1\",\n",
      "    \"model_dir\": \"/opt/ml/model\",\n",
      "    \"module_dir\": \"s3://sagemaker-us-west-2--000000000000/sagemaker-xgboost-2022-03-23-18-04-55-835/source/sourcedir.tar.gz\",\n",
      "    \"module_name\": \"abalone\",\n",
      "    \"network_interface_name\": \"eth0\",\n",
      "    \"num_cpus\": 8,\n",
      "    \"num_gpus\": 0,\n",
      "    \"output_data_dir\": \"/opt/ml/output/data\",\n",
      "    \"output_dir\": \"/opt/ml/output\",\n",
      "    \"output_intermediate_dir\": \"/opt/ml/output/intermediate\",\n",
      "    \"resource_config\": {\n",
      "        \"current_host\": \"algo-1\",\n",
      "        \"current_instance_type\": \"ml.m5.2xlarge\",\n",
      "        \"current_group_name\": \"homogeneousCluster\",\n",
      "        \"hosts\": [\n",
      "            \"algo-1\",\n",
      "            \"algo-2\"\n",
      "        ],\n",
      "        \"instance_groups\": [\n",
      "            {\n",
      "                \"instance_group_name\": \"homogeneousCluster\",\n",
      "                \"instance_type\": \"ml.m5.2xlarge\",\n",
      "                \"hosts\": [\n",
      "                    \"algo-1\",\n",
      "                    \"algo-2\"\n",
      "                ]\n",
      "            }\n",
      "        ],\n",
      "        \"network_interface_name\": \"eth0\"\n",
      "    },\n",
      "    \"user_entry_point\": \"abalone.py\"\u001b[0m\n",
      "\u001b[34m}\u001b[0m\n",
      "\u001b[34mEnvironment variables:\u001b[0m\n",
      "\u001b[34mSM_HOSTS=[\"algo-1\",\"algo-2\"]\u001b[0m\n",
      "\u001b[34mSM_NETWORK_INTERFACE_NAME=eth0\u001b[0m\n",
      "\u001b[34mSM_HPS={\"eta\":\"0.2\",\"gamma\":\"4\",\"max_depth\":\"5\",\"min_child_weight\":\"6\",\"num_round\":\"50\",\"objective\":\"reg:squarederror\",\"subsample\":\"0.7\",\"verbosity\":\"2\"}\u001b[0m\n",
      "\u001b[34mSM_USER_ENTRY_POINT=abalone.py\u001b[0m\n",
      "\u001b[34mSM_FRAMEWORK_PARAMS={}\u001b[0m\n",
      "\u001b[34mSM_RESOURCE_CONFIG={\"current_group_name\":\"homogeneousCluster\",\"current_host\":\"algo-1\",\"current_instance_type\":\"ml.m5.2xlarge\",\"hosts\":[\"algo-1\",\"algo-2\"],\"instance_groups\":[{\"hosts\":[\"algo-1\",\"algo-2\"],\"instance_group_name\":\"homogeneousCluster\",\"instance_type\":\"ml.m5.2xlarge\"}],\"network_interface_name\":\"eth0\"}\u001b[0m\n",
      "\u001b[34mSM_INPUT_DATA_CONFIG={\"train\":{\"ContentType\":\"libsvm\",\"RecordWrapperType\":\"None\",\"S3DistributionType\":\"FullyReplicated\",\"TrainingInputMode\":\"File\"},\"validation\":{\"ContentType\":\"libsvm\",\"RecordWrapperType\":\"None\",\"S3DistributionType\":\"FullyReplicated\",\"TrainingInputMode\":\"File\"}}\u001b[0m\n",
      "\u001b[34mSM_OUTPUT_DATA_DIR=/opt/ml/output/data\u001b[0m\n",
      "\u001b[34mSM_CHANNELS=[\"train\",\"validation\"]\u001b[0m\n",
      "\u001b[34mSM_CURRENT_HOST=algo-1\u001b[0m\n",
      "\u001b[34mSM_MODULE_NAME=abalone\u001b[0m\n",
      "\u001b[34mSM_LOG_LEVEL=20\u001b[0m\n",
      "\u001b[34mSM_FRAMEWORK_MODULE=sagemaker_xgboost_container.training:main\u001b[0m\n",
      "\u001b[34mSM_INPUT_DIR=/opt/ml/input\u001b[0m\n",
      "\u001b[34mSM_INPUT_CONFIG_DIR=/opt/ml/input/config\u001b[0m\n",
      "\u001b[34mSM_OUTPUT_DIR=/opt/ml/output\u001b[0m\n",
      "\u001b[34mSM_NUM_CPUS=8\u001b[0m\n",
      "\u001b[34mSM_NUM_GPUS=0\u001b[0m\n",
      "\u001b[34mSM_MODEL_DIR=/opt/ml/model\u001b[0m\n",
      "\u001b[34mSM_MODULE_DIR=s3://sagemaker-us-west-2--000000000000/sagemaker-xgboost-2022-03-23-18-04-55-835/source/sourcedir.tar.gz\u001b[0m\n",
      "\u001b[34mSM_TRAINING_ENV={\"additional_framework_parameters\":{},\"channel_input_dirs\":{\"train\":\"/opt/ml/input/data/train\",\"validation\":\"/opt/ml/input/data/validation\"},\"current_host\":\"algo-1\",\"framework_module\":\"sagemaker_xgboost_container.training:main\",\"hosts\":[\"algo-1\",\"algo-2\"],\"hyperparameters\":{\"eta\":\"0.2\",\"gamma\":\"4\",\"max_depth\":\"5\",\"min_child_weight\":\"6\",\"num_round\":\"50\",\"objective\":\"reg:squarederror\",\"subsample\":\"0.7\",\"verbosity\":\"2\"},\"input_config_dir\":\"/opt/ml/input/config\",\"input_data_config\":{\"train\":{\"ContentType\":\"libsvm\",\"RecordWrapperType\":\"None\",\"S3DistributionType\":\"FullyReplicated\",\"TrainingInputMode\":\"File\"},\"validation\":{\"ContentType\":\"libsvm\",\"RecordWrapperType\":\"None\",\"S3DistributionType\":\"FullyReplicated\",\"TrainingInputMode\":\"File\"}},\"input_dir\":\"/opt/ml/input\",\"is_master\":true,\"job_name\":\"sagemaker-xgboost-2022-03-23-18-04-55-835\",\"log_level\":20,\"master_hostname\":\"algo-1\",\"model_dir\":\"/opt/ml/model\",\"module_dir\":\"s3://sagemaker-us-west-2--000000000000/sagemaker-xgboost-2022-03-23-18-04-55-835/source/sourcedir.tar.gz\",\"module_name\":\"abalone\",\"network_interface_name\":\"eth0\",\"num_cpus\":8,\"num_gpus\":0,\"output_data_dir\":\"/opt/ml/output/data\",\"output_dir\":\"/opt/ml/output\",\"output_intermediate_dir\":\"/opt/ml/output/intermediate\",\"resource_config\":{\"current_group_name\":\"homogeneousCluster\",\"current_host\":\"algo-1\",\"current_instance_type\":\"ml.m5.2xlarge\",\"hosts\":[\"algo-1\",\"algo-2\"],\"instance_groups\":[{\"hosts\":[\"algo-1\",\"algo-2\"],\"instance_group_name\":\"homogeneousCluster\",\"instance_type\":\"ml.m5.2xlarge\"}],\"network_interface_name\":\"eth0\"},\"user_entry_point\":\"abalone.py\"}\u001b[0m\n",
      "\u001b[34mSM_USER_ARGS=[\"--eta\",\"0.2\",\"--gamma\",\"4\",\"--max_depth\",\"5\",\"--min_child_weight\",\"6\",\"--num_round\",\"50\",\"--objective\",\"reg:squarederror\",\"--subsample\",\"0.7\",\"--verbosity\",\"2\"]\u001b[0m\n",
      "\u001b[34mSM_OUTPUT_INTERMEDIATE_DIR=/opt/ml/output/intermediate\u001b[0m\n",
      "\u001b[34mSM_CHANNEL_TRAIN=/opt/ml/input/data/train\u001b[0m\n",
      "\u001b[34mSM_CHANNEL_VALIDATION=/opt/ml/input/data/validation\u001b[0m\n",
      "\u001b[34mSM_HP_ETA=0.2\u001b[0m\n",
      "\u001b[34mSM_HP_GAMMA=4\u001b[0m\n",
      "\u001b[34mSM_HP_MAX_DEPTH=5\u001b[0m\n",
      "\u001b[34mSM_HP_MIN_CHILD_WEIGHT=6\u001b[0m\n",
      "\u001b[34mSM_HP_NUM_ROUND=50\u001b[0m\n",
      "\u001b[34mSM_HP_OBJECTIVE=reg:squarederror\u001b[0m\n",
      "\u001b[34mSM_HP_SUBSAMPLE=0.7\u001b[0m\n",
      "\u001b[34mSM_HP_VERBOSITY=2\u001b[0m\n",
      "\u001b[34mPYTHONPATH=/miniconda3/bin:/:/miniconda3/lib/python/site-packages/xgboost/dmlc-core/tracker:/miniconda3/lib/python37.zip:/miniconda3/lib/python3.7:/miniconda3/lib/python3.7/lib-dynload:/miniconda3/lib/python3.7/site-packages\u001b[0m\n",
      "\u001b[34mInvoking script with the following command:\u001b[0m\n",
      "\u001b[34m/miniconda3/bin/python3 -m abalone --eta 0.2 --gamma 4 --max_depth 5 --min_child_weight 6 --num_round 50 --objective reg:squarederror --subsample 0.7 --verbosity 2\u001b[0m\n",
      "\u001b[35m[2022-03-23 18:07:35.751 ip-10-0-158-44.us-west-2.compute.internal:1 INFO utils.py:27] RULE_JOB_STOP_SIGNAL_FILENAME: None\u001b[0m\n",
      "\u001b[35m[2022-03-23:18:07:35:INFO] Imported framework sagemaker_xgboost_container.training\u001b[0m\n",
      "\u001b[35m[2022-03-23:18:07:35:INFO] No GPUs detected (normal if no gpus installed)\u001b[0m\n",
      "\u001b[35m[2022-03-23:18:07:35:INFO] Invoking user training script.\u001b[0m\n",
      "\u001b[35m[2022-03-23:18:07:36:INFO] Module abalone does not provide a setup.py. \u001b[0m\n",
      "\u001b[35mGenerating setup.py\u001b[0m\n",
      "\u001b[35m[2022-03-23:18:07:36:INFO] Generating setup.cfg\u001b[0m\n",
      "\u001b[35m[2022-03-23:18:07:36:INFO] Generating MANIFEST.in\u001b[0m\n",
      "\u001b[35m[2022-03-23:18:07:36:INFO] Installing module with the following command:\u001b[0m\n",
      "\u001b[35m/miniconda3/bin/python3 -m pip install . \u001b[0m\n",
      "\u001b[35mProcessing /opt/ml/code\n",
      "  Preparing metadata (setup.py): started\n",
      "  Preparing metadata (setup.py): finished with status 'done'\u001b[0m\n",
      "\u001b[35mBuilding wheels for collected packages: abalone\n",
      "  Building wheel for abalone (setup.py): started\n",
      "  Building wheel for abalone (setup.py): finished with status 'done'\n",
      "  Created wheel for abalone: filename=abalone-1.0.0-py2.py3-none-any.whl size=6412 sha256=246cefea298c8a4af2ac14a2d1f517cefbde97460055058565c614f2fca66e3d\n",
      "  Stored in directory: /home/model-server/tmp/pip-ephem-wheel-cache-n9ds2ua8/wheels/3e/0f/51/2f1df833dd0412c1bc2f5ee56baac195b5be563353d111dca6\u001b[0m\n",
      "\u001b[35mSuccessfully built abalone\u001b[0m\n",
      "\u001b[35mInstalling collected packages: abalone\u001b[0m\n",
      "\u001b[35mSuccessfully installed abalone-1.0.0\u001b[0m\n",
      "\u001b[35mWARNING: Running pip as the 'root' user can result in broken permissions and conflicting behaviour with the system package manager. It is recommended to use a virtual environment instead: https://pip.pypa.io/warnings/venv\u001b[0m\n",
      "\u001b[35m[2022-03-23:18:07:38:INFO] No GPUs detected (normal if no gpus installed)\u001b[0m\n",
      "\u001b[35m[2022-03-23:18:07:38:INFO] Invoking user script\u001b[0m\n",
      "\u001b[35mTraining Env:\u001b[0m\n",
      "\u001b[35m{\n",
      "    \"additional_framework_parameters\": {},\n",
      "    \"channel_input_dirs\": {\n",
      "        \"train\": \"/opt/ml/input/data/train\",\n",
      "        \"validation\": \"/opt/ml/input/data/validation\"\n",
      "    },\n",
      "    \"current_host\": \"algo-2\",\n",
      "    \"framework_module\": \"sagemaker_xgboost_container.training:main\",\n",
      "    \"hosts\": [\n",
      "        \"algo-1\",\n",
      "        \"algo-2\"\n",
      "    ],\n",
      "    \"hyperparameters\": {\n",
      "        \"eta\": \"0.2\",\n",
      "        \"gamma\": \"4\",\n",
      "        \"max_depth\": \"5\",\n",
      "        \"min_child_weight\": \"6\",\n",
      "        \"num_round\": \"50\",\n",
      "        \"objective\": \"reg:squarederror\",\n",
      "        \"subsample\": \"0.7\",\n",
      "        \"verbosity\": \"2\"\n",
      "    },\n",
      "    \"input_config_dir\": \"/opt/ml/input/config\",\n",
      "    \"input_data_config\": {\n",
      "        \"train\": {\n",
      "            \"ContentType\": \"libsvm\",\n",
      "            \"TrainingInputMode\": \"File\",\n",
      "            \"S3DistributionType\": \"FullyReplicated\",\n",
      "            \"RecordWrapperType\": \"None\"\n",
      "        },\n",
      "        \"validation\": {\n",
      "            \"ContentType\": \"libsvm\",\n",
      "            \"TrainingInputMode\": \"File\",\n",
      "            \"S3DistributionType\": \"FullyReplicated\",\n",
      "            \"RecordWrapperType\": \"None\"\n",
      "        }\n",
      "    },\n",
      "    \"input_dir\": \"/opt/ml/input\",\n",
      "    \"is_master\": false,\n",
      "    \"job_name\": \"sagemaker-xgboost-2022-03-23-18-04-55-835\",\n",
      "    \"log_level\": 20,\n",
      "    \"master_hostname\": \"algo-1\",\n",
      "    \"model_dir\": \"/opt/ml/model\",\n",
      "    \"module_dir\": \"s3://sagemaker-us-west-2--000000000000/sagemaker-xgboost-2022-03-23-18-04-55-835/source/sourcedir.tar.gz\",\n",
      "    \"module_name\": \"abalone\",\n",
      "    \"network_interface_name\": \"eth0\",\n",
      "    \"num_cpus\": 8,\n",
      "    \"num_gpus\": 0,\n",
      "    \"output_data_dir\": \"/opt/ml/output/data\",\n",
      "    \"output_dir\": \"/opt/ml/output\",\n",
      "    \"output_intermediate_dir\": \"/opt/ml/output/intermediate\",\n",
      "    \"resource_config\": {\n",
      "        \"current_host\": \"algo-2\",\n",
      "        \"current_instance_type\": \"ml.m5.2xlarge\",\n",
      "        \"current_group_name\": \"homogeneousCluster\",\n",
      "        \"hosts\": [\n",
      "            \"algo-1\",\n",
      "            \"algo-2\"\n",
      "        ],\n",
      "        \"instance_groups\": [\n",
      "            {\n",
      "                \"instance_group_name\": \"homogeneousCluster\",\n",
      "                \"instance_type\": \"ml.m5.2xlarge\",\n",
      "                \"hosts\": [\n",
      "                    \"algo-1\",\n",
      "                    \"algo-2\"\n",
      "                ]\n",
      "            }\n",
      "        ],\n",
      "        \"network_interface_name\": \"eth0\"\n",
      "    },\n",
      "    \"user_entry_point\": \"abalone.py\"\u001b[0m\n",
      "\u001b[35m}\u001b[0m\n",
      "\u001b[35mEnvironment variables:\u001b[0m\n",
      "\u001b[35mSM_HOSTS=[\"algo-1\",\"algo-2\"]\u001b[0m\n",
      "\u001b[35mSM_NETWORK_INTERFACE_NAME=eth0\u001b[0m\n",
      "\u001b[35mSM_HPS={\"eta\":\"0.2\",\"gamma\":\"4\",\"max_depth\":\"5\",\"min_child_weight\":\"6\",\"num_round\":\"50\",\"objective\":\"reg:squarederror\",\"subsample\":\"0.7\",\"verbosity\":\"2\"}\u001b[0m\n",
      "\u001b[35mSM_USER_ENTRY_POINT=abalone.py\u001b[0m\n",
      "\u001b[35mSM_FRAMEWORK_PARAMS={}\u001b[0m\n",
      "\u001b[35mSM_RESOURCE_CONFIG={\"current_group_name\":\"homogeneousCluster\",\"current_host\":\"algo-2\",\"current_instance_type\":\"ml.m5.2xlarge\",\"hosts\":[\"algo-1\",\"algo-2\"],\"instance_groups\":[{\"hosts\":[\"algo-1\",\"algo-2\"],\"instance_group_name\":\"homogeneousCluster\",\"instance_type\":\"ml.m5.2xlarge\"}],\"network_interface_name\":\"eth0\"}\u001b[0m\n",
      "\u001b[35mSM_INPUT_DATA_CONFIG={\"train\":{\"ContentType\":\"libsvm\",\"RecordWrapperType\":\"None\",\"S3DistributionType\":\"FullyReplicated\",\"TrainingInputMode\":\"File\"},\"validation\":{\"ContentType\":\"libsvm\",\"RecordWrapperType\":\"None\",\"S3DistributionType\":\"FullyReplicated\",\"TrainingInputMode\":\"File\"}}\u001b[0m\n",
      "\u001b[35mSM_OUTPUT_DATA_DIR=/opt/ml/output/data\u001b[0m\n",
      "\u001b[35mSM_CHANNELS=[\"train\",\"validation\"]\u001b[0m\n",
      "\u001b[35mSM_CURRENT_HOST=algo-2\u001b[0m\n",
      "\u001b[35mSM_MODULE_NAME=abalone\u001b[0m\n",
      "\u001b[35mSM_LOG_LEVEL=20\u001b[0m\n",
      "\u001b[35mSM_FRAMEWORK_MODULE=sagemaker_xgboost_container.training:main\u001b[0m\n",
      "\u001b[35mSM_INPUT_DIR=/opt/ml/input\u001b[0m\n",
      "\u001b[35mSM_INPUT_CONFIG_DIR=/opt/ml/input/config\u001b[0m\n",
      "\u001b[35mSM_OUTPUT_DIR=/opt/ml/output\u001b[0m\n",
      "\u001b[35mSM_NUM_CPUS=8\u001b[0m\n",
      "\u001b[35mSM_NUM_GPUS=0\u001b[0m\n",
      "\u001b[35mSM_MODEL_DIR=/opt/ml/model\u001b[0m\n",
      "\u001b[35mSM_MODULE_DIR=s3://sagemaker-us-west-2--000000000000/sagemaker-xgboost-2022-03-23-18-04-55-835/source/sourcedir.tar.gz\u001b[0m\n",
      "\u001b[35mSM_TRAINING_ENV={\"additional_framework_parameters\":{},\"channel_input_dirs\":{\"train\":\"/opt/ml/input/data/train\",\"validation\":\"/opt/ml/input/data/validation\"},\"current_host\":\"algo-2\",\"framework_module\":\"sagemaker_xgboost_container.training:main\",\"hosts\":[\"algo-1\",\"algo-2\"],\"hyperparameters\":{\"eta\":\"0.2\",\"gamma\":\"4\",\"max_depth\":\"5\",\"min_child_weight\":\"6\",\"num_round\":\"50\",\"objective\":\"reg:squarederror\",\"subsample\":\"0.7\",\"verbosity\":\"2\"},\"input_config_dir\":\"/opt/ml/input/config\",\"input_data_config\":{\"train\":{\"ContentType\":\"libsvm\",\"RecordWrapperType\":\"None\",\"S3DistributionType\":\"FullyReplicated\",\"TrainingInputMode\":\"File\"},\"validation\":{\"ContentType\":\"libsvm\",\"RecordWrapperType\":\"None\",\"S3DistributionType\":\"FullyReplicated\",\"TrainingInputMode\":\"File\"}},\"input_dir\":\"/opt/ml/input\",\"is_master\":false,\"job_name\":\"sagemaker-xgboost-2022-03-23-18-04-55-835\",\"log_level\":20,\"master_hostname\":\"algo-1\",\"model_dir\":\"/opt/ml/model\",\"module_dir\":\"s3://sagemaker-us-west-2--000000000000/sagemaker-xgboost-2022-03-23-18-04-55-835/source/sourcedir.tar.gz\",\"module_name\":\"abalone\",\"network_interface_name\":\"eth0\",\"num_cpus\":8,\"num_gpus\":0,\"output_data_dir\":\"/opt/ml/output/data\",\"output_dir\":\"/opt/ml/output\",\"output_intermediate_dir\":\"/opt/ml/output/intermediate\",\"resource_config\":{\"current_group_name\":\"homogeneousCluster\",\"current_host\":\"algo-2\",\"current_instance_type\":\"ml.m5.2xlarge\",\"hosts\":[\"algo-1\",\"algo-2\"],\"instance_groups\":[{\"hosts\":[\"algo-1\",\"algo-2\"],\"instance_group_name\":\"homogeneousCluster\",\"instance_type\":\"ml.m5.2xlarge\"}],\"network_interface_name\":\"eth0\"},\"user_entry_point\":\"abalone.py\"}\u001b[0m\n",
      "\u001b[35mSM_USER_ARGS=[\"--eta\",\"0.2\",\"--gamma\",\"4\",\"--max_depth\",\"5\",\"--min_child_weight\",\"6\",\"--num_round\",\"50\",\"--objective\",\"reg:squarederror\",\"--subsample\",\"0.7\",\"--verbosity\",\"2\"]\u001b[0m\n",
      "\u001b[35mSM_OUTPUT_INTERMEDIATE_DIR=/opt/ml/output/intermediate\u001b[0m\n",
      "\u001b[35mSM_CHANNEL_TRAIN=/opt/ml/input/data/train\u001b[0m\n",
      "\u001b[35mSM_CHANNEL_VALIDATION=/opt/ml/input/data/validation\u001b[0m\n",
      "\u001b[35mSM_HP_ETA=0.2\u001b[0m\n",
      "\u001b[35mSM_HP_GAMMA=4\u001b[0m\n",
      "\u001b[35mSM_HP_MAX_DEPTH=5\u001b[0m\n",
      "\u001b[35mSM_HP_MIN_CHILD_WEIGHT=6\u001b[0m\n",
      "\u001b[35mSM_HP_NUM_ROUND=50\u001b[0m\n",
      "\u001b[35mSM_HP_OBJECTIVE=reg:squarederror\u001b[0m\n",
      "\u001b[35mSM_HP_SUBSAMPLE=0.7\u001b[0m\n",
      "\u001b[35mSM_HP_VERBOSITY=2\u001b[0m\n",
      "\u001b[35mPYTHONPATH=/miniconda3/bin:/:/miniconda3/lib/python/site-packages/xgboost/dmlc-core/tracker:/miniconda3/lib/python37.zip:/miniconda3/lib/python3.7:/miniconda3/lib/python3.7/lib-dynload:/miniconda3/lib/python3.7/site-packages\u001b[0m\n",
      "\u001b[35mInvoking script with the following command:\u001b[0m\n",
      "\u001b[35m/miniconda3/bin/python3 -m abalone --eta 0.2 --gamma 4 --max_depth 5 --min_child_weight 6 --num_round 50 --objective reg:squarederror --subsample 0.7 --verbosity 2\u001b[0m\n",
      "\u001b[34m[18:07:39] task NULL got new rank 0\u001b[0m\n",
      "\u001b[35m[18:07:39] task NULL got new rank 1\u001b[0m\n",
      "\u001b[34m[18:07:42] task NULL got new rank 0\u001b[0m\n",
      "\u001b[34m[18:07:42] INFO: ../src/gbm/gbtree.cc:137: Tree method is automatically selected to be 'approx' for distributed training.\u001b[0m\n",
      "\u001b[34m[18:07:42] INFO: ../src/tree/updater_prune.cc:101: tree pruning end, 42 extra nodes, 4 pruned nodes, max_depth=5\u001b[0m\n",
      "\u001b[34m[18:07:42] INFO: ../src/gbm/gbtree.cc:137: Tree method is automatically selected to be 'approx' for distributed training.\u001b[0m\n",
      "\u001b[35m[18:07:42] task NULL got new rank 1\u001b[0m\n",
      "\u001b[35m[18:07:42] INFO: ../src/gbm/gbtree.cc:137: Tree method is automatically selected to be 'approx' for distributed training.\u001b[0m\n",
      "\u001b[35m[18:07:42] INFO: ../src/tree/updater_prune.cc:101: tree pruning end, 42 extra nodes, 4 pruned nodes, max_depth=5\u001b[0m\n",
      "\u001b[35m[18:07:42] INFO: ../src/gbm/gbtree.cc:137: Tree method is automatically selected to be 'approx' for distributed training.\u001b[0m\n"
     ]
    },
    {
     "name": "stdout",
     "output_type": "stream",
     "text": [
      "\n",
      "2022-03-23 18:07:41 Training - Training image download completed. Training in progress."
     ]
    },
    {
     "name": "stdout",
     "output_type": "stream",
     "text": [
      "\u001b[34m[18:07:42] INFO: ../src/tree/updater_prune.cc:101: tree pruning end, 44 extra nodes, 0 pruned nodes, max_depth=5\u001b[0m\n",
      "\u001b[34m[18:07:42] INFO: ../src/gbm/gbtree.cc:137: Tree method is automatically selected to be 'approx' for distributed training.\u001b[0m\n",
      "\u001b[34m[18:07:43] INFO: ../src/tree/updater_prune.cc:101: tree pruning end, 46 extra nodes, 6 pruned nodes, max_depth=5\u001b[0m\n",
      "\u001b[34m[18:07:43] INFO: ../src/gbm/gbtree.cc:137: Tree method is automatically selected to be 'approx' for distributed training.\u001b[0m\n",
      "\u001b[34m[18:07:43] INFO: ../src/tree/updater_prune.cc:101: tree pruning end, 46 extra nodes, 6 pruned nodes, max_depth=5\u001b[0m\n",
      "\u001b[34m[18:07:43] INFO: ../src/gbm/gbtree.cc:137: Tree method is automatically selected to be 'approx' for distributed training.\u001b[0m\n",
      "\u001b[34m[18:07:43] INFO: ../src/tree/updater_prune.cc:101: tree pruning end, 44 extra nodes, 6 pruned nodes, max_depth=5\u001b[0m\n",
      "\u001b[34m[18:07:43] INFO: ../src/gbm/gbtree.cc:137: Tree method is automatically selected to be 'approx' for distributed training.\u001b[0m\n",
      "\u001b[34m[18:07:43] INFO: ../src/tree/updater_prune.cc:101: tree pruning end, 58 extra nodes, 2 pruned nodes, max_depth=5\u001b[0m\n",
      "\u001b[34m[18:07:43] INFO: ../src/gbm/gbtree.cc:137: Tree method is automatically selected to be 'approx' for distributed training.\u001b[0m\n",
      "\u001b[34m[18:07:43] INFO: ../src/tree/updater_prune.cc:101: tree pruning end, 52 extra nodes, 8 pruned nodes, max_depth=5\u001b[0m\n",
      "\u001b[34m[18:07:43] INFO: ../src/gbm/gbtree.cc:137: Tree method is automatically selected to be 'approx' for distributed training.\u001b[0m\n",
      "\u001b[34m[18:07:43] INFO: ../src/tree/updater_prune.cc:101: tree pruning end, 50 extra nodes, 2 pruned nodes, max_depth=5\u001b[0m\n",
      "\u001b[34m[18:07:43] INFO: ../src/gbm/gbtree.cc:137: Tree method is automatically selected to be 'approx' for distributed training.\u001b[0m\n",
      "\u001b[34m[18:07:43] INFO: ../src/tree/updater_prune.cc:101: tree pruning end, 54 extra nodes, 4 pruned nodes, max_depth=5\u001b[0m\n",
      "\u001b[34m[18:07:43] INFO: ../src/gbm/gbtree.cc:137: Tree method is automatically selected to be 'approx' for distributed training.\u001b[0m\n",
      "\u001b[34m[18:07:43] INFO: ../src/tree/updater_prune.cc:101: tree pruning end, 58 extra nodes, 2 pruned nodes, max_depth=5\u001b[0m\n",
      "\u001b[34m[18:07:43] INFO: ../src/gbm/gbtree.cc:137: Tree method is automatically selected to be 'approx' for distributed training.\u001b[0m\n",
      "\u001b[35m[18:07:42] INFO: ../src/tree/updater_prune.cc:101: tree pruning end, 44 extra nodes, 0 pruned nodes, max_depth=5\u001b[0m\n",
      "\u001b[35m[18:07:42] INFO: ../src/gbm/gbtree.cc:137: Tree method is automatically selected to be 'approx' for distributed training.\u001b[0m\n",
      "\u001b[35m[18:07:43] INFO: ../src/tree/updater_prune.cc:101: tree pruning end, 46 extra nodes, 6 pruned nodes, max_depth=5\u001b[0m\n",
      "\u001b[35m[18:07:43] INFO: ../src/gbm/gbtree.cc:137: Tree method is automatically selected to be 'approx' for distributed training.\u001b[0m\n",
      "\u001b[35m[18:07:43] INFO: ../src/tree/updater_prune.cc:101: tree pruning end, 46 extra nodes, 6 pruned nodes, max_depth=5\u001b[0m\n",
      "\u001b[35m[18:07:43] INFO: ../src/gbm/gbtree.cc:137: Tree method is automatically selected to be 'approx' for distributed training.\u001b[0m\n",
      "\u001b[35m[18:07:43] INFO: ../src/tree/updater_prune.cc:101: tree pruning end, 44 extra nodes, 6 pruned nodes, max_depth=5\u001b[0m\n",
      "\u001b[35m[18:07:43] INFO: ../src/gbm/gbtree.cc:137: Tree method is automatically selected to be 'approx' for distributed training.\u001b[0m\n",
      "\u001b[35m[18:07:43] INFO: ../src/tree/updater_prune.cc:101: tree pruning end, 58 extra nodes, 2 pruned nodes, max_depth=5\u001b[0m\n",
      "\u001b[35m[18:07:43] INFO: ../src/gbm/gbtree.cc:137: Tree method is automatically selected to be 'approx' for distributed training.\u001b[0m\n",
      "\u001b[35m[18:07:43] INFO: ../src/tree/updater_prune.cc:101: tree pruning end, 52 extra nodes, 8 pruned nodes, max_depth=5\u001b[0m\n",
      "\u001b[35m[18:07:43] INFO: ../src/gbm/gbtree.cc:137: Tree method is automatically selected to be 'approx' for distributed training.\u001b[0m\n",
      "\u001b[35m[18:07:43] INFO: ../src/tree/updater_prune.cc:101: tree pruning end, 50 extra nodes, 2 pruned nodes, max_depth=5\u001b[0m\n",
      "\u001b[35m[18:07:43] INFO: ../src/gbm/gbtree.cc:137: Tree method is automatically selected to be 'approx' for distributed training.\u001b[0m\n",
      "\u001b[35m[18:07:43] INFO: ../src/tree/updater_prune.cc:101: tree pruning end, 54 extra nodes, 4 pruned nodes, max_depth=5\u001b[0m\n",
      "\u001b[35m[18:07:43] INFO: ../src/gbm/gbtree.cc:137: Tree method is automatically selected to be 'approx' for distributed training.\u001b[0m\n",
      "\u001b[35m[18:07:43] INFO: ../src/tree/updater_prune.cc:101: tree pruning end, 58 extra nodes, 2 pruned nodes, max_depth=5\u001b[0m\n",
      "\u001b[35m[18:07:43] INFO: ../src/gbm/gbtree.cc:137: Tree method is automatically selected to be 'approx' for distributed training.\u001b[0m\n",
      "\u001b[34m[18:07:43] INFO: ../src/tree/updater_prune.cc:101: tree pruning end, 30 extra nodes, 2 pruned nodes, max_depth=5\u001b[0m\n",
      "\u001b[34m[18:07:43] INFO: ../src/gbm/gbtree.cc:137: Tree method is automatically selected to be 'approx' for distributed training.\u001b[0m\n",
      "\u001b[34m[18:07:44] INFO: ../src/tree/updater_prune.cc:101: tree pruning end, 48 extra nodes, 8 pruned nodes, max_depth=5\u001b[0m\n",
      "\u001b[34m[18:07:44] INFO: ../src/gbm/gbtree.cc:137: Tree method is automatically selected to be 'approx' for distributed training.\u001b[0m\n",
      "\u001b[34m[18:07:44] INFO: ../src/tree/updater_prune.cc:101: tree pruning end, 56 extra nodes, 2 pruned nodes, max_depth=5\u001b[0m\n",
      "\u001b[34m[18:07:44] INFO: ../src/gbm/gbtree.cc:137: Tree method is automatically selected to be 'approx' for distributed training.\u001b[0m\n",
      "\u001b[34m[18:07:44] INFO: ../src/tree/updater_prune.cc:101: tree pruning end, 34 extra nodes, 6 pruned nodes, max_depth=5\u001b[0m\n",
      "\u001b[34m[18:07:44] INFO: ../src/gbm/gbtree.cc:137: Tree method is automatically selected to be 'approx' for distributed training.\u001b[0m\n",
      "\u001b[34m[18:07:44] INFO: ../src/tree/updater_prune.cc:101: tree pruning end, 44 extra nodes, 2 pruned nodes, max_depth=5\u001b[0m\n",
      "\u001b[34m[18:07:44] INFO: ../src/gbm/gbtree.cc:137: Tree method is automatically selected to be 'approx' for distributed training.\u001b[0m\n",
      "\u001b[34m[18:07:44] INFO: ../src/tree/updater_prune.cc:101: tree pruning end, 32 extra nodes, 0 pruned nodes, max_depth=5\u001b[0m\n",
      "\u001b[34m[18:07:44] INFO: ../src/gbm/gbtree.cc:137: Tree method is automatically selected to be 'approx' for distributed training.\u001b[0m\n",
      "\u001b[34m[18:07:44] INFO: ../src/tree/updater_prune.cc:101: tree pruning end, 52 extra nodes, 2 pruned nodes, max_depth=5\u001b[0m\n",
      "\u001b[34m[18:07:44] INFO: ../src/gbm/gbtree.cc:137: Tree method is automatically selected to be 'approx' for distributed training.\u001b[0m\n",
      "\u001b[34m[18:07:44] INFO: ../src/tree/updater_prune.cc:101: tree pruning end, 42 extra nodes, 0 pruned nodes, max_depth=5\u001b[0m\n",
      "\u001b[34m[18:07:44] INFO: ../src/gbm/gbtree.cc:137: Tree method is automatically selected to be 'approx' for distributed training.\u001b[0m\n",
      "\u001b[34m[18:07:44] INFO: ../src/tree/updater_prune.cc:101: tree pruning end, 34 extra nodes, 6 pruned nodes, max_depth=5\u001b[0m\n",
      "\u001b[34m[18:07:44] INFO: ../src/gbm/gbtree.cc:137: Tree method is automatically selected to be 'approx' for distributed training.\u001b[0m\n",
      "\u001b[35m[18:07:43] INFO: ../src/tree/updater_prune.cc:101: tree pruning end, 30 extra nodes, 2 pruned nodes, max_depth=5\u001b[0m\n",
      "\u001b[35m[18:07:43] INFO: ../src/gbm/gbtree.cc:137: Tree method is automatically selected to be 'approx' for distributed training.\u001b[0m\n",
      "\u001b[35m[18:07:44] INFO: ../src/tree/updater_prune.cc:101: tree pruning end, 48 extra nodes, 8 pruned nodes, max_depth=5\u001b[0m\n",
      "\u001b[35m[18:07:44] INFO: ../src/gbm/gbtree.cc:137: Tree method is automatically selected to be 'approx' for distributed training.\u001b[0m\n",
      "\u001b[35m[18:07:44] INFO: ../src/tree/updater_prune.cc:101: tree pruning end, 56 extra nodes, 2 pruned nodes, max_depth=5\u001b[0m\n",
      "\u001b[35m[18:07:44] INFO: ../src/gbm/gbtree.cc:137: Tree method is automatically selected to be 'approx' for distributed training.\u001b[0m\n",
      "\u001b[35m[18:07:44] INFO: ../src/tree/updater_prune.cc:101: tree pruning end, 34 extra nodes, 6 pruned nodes, max_depth=5\u001b[0m\n",
      "\u001b[35m[18:07:44] INFO: ../src/gbm/gbtree.cc:137: Tree method is automatically selected to be 'approx' for distributed training.\u001b[0m\n",
      "\u001b[35m[18:07:44] INFO: ../src/tree/updater_prune.cc:101: tree pruning end, 44 extra nodes, 2 pruned nodes, max_depth=5\u001b[0m\n",
      "\u001b[35m[18:07:44] INFO: ../src/gbm/gbtree.cc:137: Tree method is automatically selected to be 'approx' for distributed training.\u001b[0m\n",
      "\u001b[35m[18:07:44] INFO: ../src/tree/updater_prune.cc:101: tree pruning end, 32 extra nodes, 0 pruned nodes, max_depth=5\u001b[0m\n",
      "\u001b[35m[18:07:44] INFO: ../src/gbm/gbtree.cc:137: Tree method is automatically selected to be 'approx' for distributed training.\u001b[0m\n",
      "\u001b[35m[18:07:44] INFO: ../src/tree/updater_prune.cc:101: tree pruning end, 52 extra nodes, 2 pruned nodes, max_depth=5\u001b[0m\n",
      "\u001b[35m[18:07:44] INFO: ../src/gbm/gbtree.cc:137: Tree method is automatically selected to be 'approx' for distributed training.\u001b[0m\n",
      "\u001b[35m[18:07:44] INFO: ../src/tree/updater_prune.cc:101: tree pruning end, 42 extra nodes, 0 pruned nodes, max_depth=5\u001b[0m\n",
      "\u001b[35m[18:07:44] INFO: ../src/gbm/gbtree.cc:137: Tree method is automatically selected to be 'approx' for distributed training.\u001b[0m\n",
      "\u001b[35m[18:07:44] INFO: ../src/tree/updater_prune.cc:101: tree pruning end, 34 extra nodes, 6 pruned nodes, max_depth=5\u001b[0m\n",
      "\u001b[35m[18:07:44] INFO: ../src/gbm/gbtree.cc:137: Tree method is automatically selected to be 'approx' for distributed training.\u001b[0m\n",
      "\u001b[35m[18:07:44] INFO: ../src/tree/updater_prune.cc:101: tree pruning end, 50 extra nodes, 2 pruned nodes, max_depth=5\u001b[0m\n",
      "\u001b[34m[18:07:44] INFO: ../src/tree/updater_prune.cc:101: tree pruning end, 50 extra nodes, 2 pruned nodes, max_depth=5\u001b[0m\n",
      "\u001b[34m[18:07:44] INFO: ../src/gbm/gbtree.cc:137: Tree method is automatically selected to be 'approx' for distributed training.\u001b[0m\n",
      "\u001b[34m[18:07:45] INFO: ../src/tree/updater_prune.cc:101: tree pruning end, 42 extra nodes, 0 pruned nodes, max_depth=5\u001b[0m\n",
      "\u001b[34m[18:07:45] INFO: ../src/gbm/gbtree.cc:137: Tree method is automatically selected to be 'approx' for distributed training.\u001b[0m\n",
      "\u001b[34m[18:07:45] INFO: ../src/tree/updater_prune.cc:101: tree pruning end, 44 extra nodes, 0 pruned nodes, max_depth=5\u001b[0m\n",
      "\u001b[34m[18:07:45] INFO: ../src/gbm/gbtree.cc:137: Tree method is automatically selected to be 'approx' for distributed training.\u001b[0m\n",
      "\u001b[34m[18:07:45] INFO: ../src/tree/updater_prune.cc:101: tree pruning end, 48 extra nodes, 0 pruned nodes, max_depth=5\u001b[0m\n",
      "\u001b[34m[18:07:45] INFO: ../src/gbm/gbtree.cc:137: Tree method is automatically selected to be 'approx' for distributed training.\u001b[0m\n",
      "\u001b[34m[18:07:45] INFO: ../src/tree/updater_prune.cc:101: tree pruning end, 46 extra nodes, 2 pruned nodes, max_depth=5\u001b[0m\n",
      "\u001b[34m[18:07:45] INFO: ../src/gbm/gbtree.cc:137: Tree method is automatically selected to be 'approx' for distributed training.\u001b[0m\n",
      "\u001b[34m[18:07:45] INFO: ../src/tree/updater_prune.cc:101: tree pruning end, 48 extra nodes, 2 pruned nodes, max_depth=5\u001b[0m\n",
      "\u001b[34m[18:07:45] INFO: ../src/gbm/gbtree.cc:137: Tree method is automatically selected to be 'approx' for distributed training.\u001b[0m\n",
      "\u001b[34m[18:07:45] INFO: ../src/tree/updater_prune.cc:101: tree pruning end, 36 extra nodes, 4 pruned nodes, max_depth=5\u001b[0m\n",
      "\u001b[34m[18:07:45] INFO: ../src/gbm/gbtree.cc:137: Tree method is automatically selected to be 'approx' for distributed training.\u001b[0m\n",
      "\u001b[34m[18:07:45] INFO: ../src/tree/updater_prune.cc:101: tree pruning end, 42 extra nodes, 6 pruned nodes, max_depth=5\u001b[0m\n",
      "\u001b[35m[18:07:44] INFO: ../src/gbm/gbtree.cc:137: Tree method is automatically selected to be 'approx' for distributed training.\u001b[0m\n",
      "\u001b[35m[18:07:45] INFO: ../src/tree/updater_prune.cc:101: tree pruning end, 42 extra nodes, 0 pruned nodes, max_depth=5\u001b[0m\n",
      "\u001b[35m[18:07:45] INFO: ../src/gbm/gbtree.cc:137: Tree method is automatically selected to be 'approx' for distributed training.\u001b[0m\n",
      "\u001b[35m[18:07:45] INFO: ../src/tree/updater_prune.cc:101: tree pruning end, 44 extra nodes, 0 pruned nodes, max_depth=5\u001b[0m\n",
      "\u001b[35m[18:07:45] INFO: ../src/gbm/gbtree.cc:137: Tree method is automatically selected to be 'approx' for distributed training.\u001b[0m\n",
      "\u001b[35m[18:07:45] INFO: ../src/tree/updater_prune.cc:101: tree pruning end, 48 extra nodes, 0 pruned nodes, max_depth=5\u001b[0m\n",
      "\u001b[35m[18:07:45] INFO: ../src/gbm/gbtree.cc:137: Tree method is automatically selected to be 'approx' for distributed training.\u001b[0m\n",
      "\u001b[35m[18:07:45] INFO: ../src/tree/updater_prune.cc:101: tree pruning end, 46 extra nodes, 2 pruned nodes, max_depth=5\u001b[0m\n",
      "\u001b[35m[18:07:45] INFO: ../src/gbm/gbtree.cc:137: Tree method is automatically selected to be 'approx' for distributed training.\u001b[0m\n",
      "\u001b[35m[18:07:45] INFO: ../src/tree/updater_prune.cc:101: tree pruning end, 48 extra nodes, 2 pruned nodes, max_depth=5\u001b[0m\n",
      "\u001b[35m[18:07:45] INFO: ../src/gbm/gbtree.cc:137: Tree method is automatically selected to be 'approx' for distributed training.\u001b[0m\n",
      "\u001b[35m[18:07:45] INFO: ../src/tree/updater_prune.cc:101: tree pruning end, 36 extra nodes, 4 pruned nodes, max_depth=5\u001b[0m\n",
      "\u001b[35m[18:07:45] INFO: ../src/gbm/gbtree.cc:137: Tree method is automatically selected to be 'approx' for distributed training.\u001b[0m\n",
      "\u001b[35m[18:07:45] INFO: ../src/tree/updater_prune.cc:101: tree pruning end, 42 extra nodes, 6 pruned nodes, max_depth=5\u001b[0m\n",
      "\u001b[35m[18:07:45] INFO: ../src/gbm/gbtree.cc:137: Tree method is automatically selected to be 'approx' for distributed training.\u001b[0m\n",
      "\u001b[34m[18:07:45] INFO: ../src/gbm/gbtree.cc:137: Tree method is automatically selected to be 'approx' for distributed training.\u001b[0m\n",
      "\u001b[34m[18:07:46] INFO: ../src/tree/updater_prune.cc:101: tree pruning end, 30 extra nodes, 2 pruned nodes, max_depth=5\u001b[0m\n",
      "\u001b[34m[18:07:46] INFO: ../src/gbm/gbtree.cc:137: Tree method is automatically selected to be 'approx' for distributed training.\u001b[0m\n",
      "\u001b[34m[18:07:46] INFO: ../src/tree/updater_prune.cc:101: tree pruning end, 20 extra nodes, 2 pruned nodes, max_depth=5\u001b[0m\n",
      "\u001b[34m[18:07:46] INFO: ../src/gbm/gbtree.cc:137: Tree method is automatically selected to be 'approx' for distributed training.\u001b[0m\n",
      "\u001b[34m[18:07:46] INFO: ../src/tree/updater_prune.cc:101: tree pruning end, 46 extra nodes, 4 pruned nodes, max_depth=5\u001b[0m\n",
      "\u001b[34m[18:07:46] INFO: ../src/gbm/gbtree.cc:137: Tree method is automatically selected to be 'approx' for distributed training.\u001b[0m\n",
      "\u001b[34m[18:07:46] INFO: ../src/tree/updater_prune.cc:101: tree pruning end, 40 extra nodes, 2 pruned nodes, max_depth=5\u001b[0m\n",
      "\u001b[34m[18:07:46] INFO: ../src/gbm/gbtree.cc:137: Tree method is automatically selected to be 'approx' for distributed training.\u001b[0m\n",
      "\u001b[34m[18:07:46] INFO: ../src/tree/updater_prune.cc:101: tree pruning end, 38 extra nodes, 2 pruned nodes, max_depth=5\u001b[0m\n",
      "\u001b[34m[18:07:46] INFO: ../src/gbm/gbtree.cc:137: Tree method is automatically selected to be 'approx' for distributed training.\u001b[0m\n",
      "\u001b[35m[18:07:46] INFO: ../src/tree/updater_prune.cc:101: tree pruning end, 30 extra nodes, 2 pruned nodes, max_depth=5\u001b[0m\n",
      "\u001b[35m[18:07:46] INFO: ../src/gbm/gbtree.cc:137: Tree method is automatically selected to be 'approx' for distributed training.\u001b[0m\n",
      "\u001b[35m[18:07:46] INFO: ../src/tree/updater_prune.cc:101: tree pruning end, 20 extra nodes, 2 pruned nodes, max_depth=5\u001b[0m\n",
      "\u001b[35m[18:07:46] INFO: ../src/gbm/gbtree.cc:137: Tree method is automatically selected to be 'approx' for distributed training.\u001b[0m\n",
      "\u001b[35m[18:07:46] INFO: ../src/tree/updater_prune.cc:101: tree pruning end, 46 extra nodes, 4 pruned nodes, max_depth=5\u001b[0m\n",
      "\u001b[35m[18:07:46] INFO: ../src/gbm/gbtree.cc:137: Tree method is automatically selected to be 'approx' for distributed training.\u001b[0m\n",
      "\u001b[35m[18:07:46] INFO: ../src/tree/updater_prune.cc:101: tree pruning end, 40 extra nodes, 2 pruned nodes, max_depth=5\u001b[0m\n",
      "\u001b[35m[18:07:46] INFO: ../src/gbm/gbtree.cc:137: Tree method is automatically selected to be 'approx' for distributed training.\u001b[0m\n",
      "\u001b[35m[18:07:46] INFO: ../src/tree/updater_prune.cc:101: tree pruning end, 38 extra nodes, 2 pruned nodes, max_depth=5\u001b[0m\n",
      "\u001b[35m[18:07:46] INFO: ../src/gbm/gbtree.cc:137: Tree method is automatically selected to be 'approx' for distributed training.\u001b[0m\n",
      "\u001b[34m[18:07:46] INFO: ../src/tree/updater_prune.cc:101: tree pruning end, 52 extra nodes, 0 pruned nodes, max_depth=5\u001b[0m\n",
      "\u001b[34m[18:07:46] INFO: ../src/gbm/gbtree.cc:137: Tree method is automatically selected to be 'approx' for distributed training.\u001b[0m\n",
      "\u001b[34m[18:07:47] INFO: ../src/tree/updater_prune.cc:101: tree pruning end, 54 extra nodes, 4 pruned nodes, max_depth=5\u001b[0m\n",
      "\u001b[34m[18:07:47] INFO: ../src/gbm/gbtree.cc:137: Tree method is automatically selected to be 'approx' for distributed training.\u001b[0m\n",
      "\u001b[34m[18:07:47] INFO: ../src/tree/updater_prune.cc:101: tree pruning end, 42 extra nodes, 0 pruned nodes, max_depth=5\u001b[0m\n",
      "\u001b[34m[18:07:47] INFO: ../src/gbm/gbtree.cc:137: Tree method is automatically selected to be 'approx' for distributed training.\u001b[0m\n",
      "\u001b[34m[18:07:47] INFO: ../src/tree/updater_prune.cc:101: tree pruning end, 46 extra nodes, 6 pruned nodes, max_depth=5\u001b[0m\n",
      "\u001b[34m[18:07:47] INFO: ../src/gbm/gbtree.cc:137: Tree method is automatically selected to be 'approx' for distributed training.\u001b[0m\n",
      "\u001b[34m[18:07:47] INFO: ../src/tree/updater_prune.cc:101: tree pruning end, 50 extra nodes, 4 pruned nodes, max_depth=5\u001b[0m\n",
      "\u001b[34m[18:07:47] INFO: ../src/gbm/gbtree.cc:137: Tree method is automatically selected to be 'approx' for distributed training.\u001b[0m\n",
      "\u001b[34m[18:07:47] INFO: ../src/tree/updater_prune.cc:101: tree pruning end, 42 extra nodes, 0 pruned nodes, max_depth=5\u001b[0m\n",
      "\u001b[34m[18:07:47] INFO: ../src/gbm/gbtree.cc:137: Tree method is automatically selected to be 'approx' for distributed training.\u001b[0m\n",
      "\u001b[34m[18:07:47] INFO: ../src/tree/updater_prune.cc:101: tree pruning end, 26 extra nodes, 2 pruned nodes, max_depth=5\u001b[0m\n",
      "\u001b[34m[18:07:47] INFO: ../src/gbm/gbtree.cc:137: Tree method is automatically selected to be 'approx' for distributed training.\u001b[0m\n",
      "\u001b[34m[18:07:47] INFO: ../src/tree/updater_prune.cc:101: tree pruning end, 36 extra nodes, 0 pruned nodes, max_depth=5\u001b[0m\n",
      "\u001b[34m[18:07:47] INFO: ../src/gbm/gbtree.cc:137: Tree method is automatically selected to be 'approx' for distributed training.\u001b[0m\n",
      "\u001b[34m[18:07:47] INFO: ../src/tree/updater_prune.cc:101: tree pruning end, 24 extra nodes, 20 pruned nodes, max_depth=5\u001b[0m\n",
      "\u001b[35m[18:07:46] INFO: ../src/tree/updater_prune.cc:101: tree pruning end, 52 extra nodes, 0 pruned nodes, max_depth=5\u001b[0m\n",
      "\u001b[35m[18:07:46] INFO: ../src/gbm/gbtree.cc:137: Tree method is automatically selected to be 'approx' for distributed training.\u001b[0m\n",
      "\u001b[35m[18:07:47] INFO: ../src/tree/updater_prune.cc:101: tree pruning end, 54 extra nodes, 4 pruned nodes, max_depth=5\u001b[0m\n",
      "\u001b[35m[18:07:47] INFO: ../src/gbm/gbtree.cc:137: Tree method is automatically selected to be 'approx' for distributed training.\u001b[0m\n",
      "\u001b[35m[18:07:47] INFO: ../src/tree/updater_prune.cc:101: tree pruning end, 42 extra nodes, 0 pruned nodes, max_depth=5\u001b[0m\n",
      "\u001b[35m[18:07:47] INFO: ../src/gbm/gbtree.cc:137: Tree method is automatically selected to be 'approx' for distributed training.\u001b[0m\n",
      "\u001b[35m[18:07:47] INFO: ../src/tree/updater_prune.cc:101: tree pruning end, 46 extra nodes, 6 pruned nodes, max_depth=5\u001b[0m\n",
      "\u001b[35m[18:07:47] INFO: ../src/gbm/gbtree.cc:137: Tree method is automatically selected to be 'approx' for distributed training.\u001b[0m\n",
      "\u001b[35m[18:07:47] INFO: ../src/tree/updater_prune.cc:101: tree pruning end, 50 extra nodes, 4 pruned nodes, max_depth=5\u001b[0m\n",
      "\u001b[35m[18:07:47] INFO: ../src/gbm/gbtree.cc:137: Tree method is automatically selected to be 'approx' for distributed training.\u001b[0m\n",
      "\u001b[35m[18:07:47] INFO: ../src/tree/updater_prune.cc:101: tree pruning end, 42 extra nodes, 0 pruned nodes, max_depth=5\u001b[0m\n",
      "\u001b[35m[18:07:47] INFO: ../src/gbm/gbtree.cc:137: Tree method is automatically selected to be 'approx' for distributed training.\u001b[0m\n",
      "\u001b[35m[18:07:47] INFO: ../src/tree/updater_prune.cc:101: tree pruning end, 26 extra nodes, 2 pruned nodes, max_depth=5\u001b[0m\n",
      "\u001b[35m[18:07:47] INFO: ../src/gbm/gbtree.cc:137: Tree method is automatically selected to be 'approx' for distributed training.\u001b[0m\n",
      "\u001b[35m[18:07:47] INFO: ../src/tree/updater_prune.cc:101: tree pruning end, 36 extra nodes, 0 pruned nodes, max_depth=5\u001b[0m\n",
      "\u001b[35m[18:07:47] INFO: ../src/gbm/gbtree.cc:137: Tree method is automatically selected to be 'approx' for distributed training.\u001b[0m\n",
      "\u001b[35m[18:07:47] INFO: ../src/tree/updater_prune.cc:101: tree pruning end, 24 extra nodes, 20 pruned nodes, max_depth=5\u001b[0m\n",
      "\u001b[35m[18:07:47] INFO: ../src/gbm/gbtree.cc:137: Tree method is automatically selected to be 'approx' for distributed training.\u001b[0m\n",
      "\u001b[34m[18:07:47] INFO: ../src/gbm/gbtree.cc:137: Tree method is automatically selected to be 'approx' for distributed training.\u001b[0m\n",
      "\u001b[34m[18:07:48] INFO: ../src/tree/updater_prune.cc:101: tree pruning end, 58 extra nodes, 0 pruned nodes, max_depth=5\u001b[0m\n",
      "\u001b[34m[18:07:48] INFO: ../src/gbm/gbtree.cc:137: Tree method is automatically selected to be 'approx' for distributed training.\u001b[0m\n",
      "\u001b[34m[18:07:48] INFO: ../src/tree/updater_prune.cc:101: tree pruning end, 30 extra nodes, 2 pruned nodes, max_depth=5\u001b[0m\n",
      "\u001b[34m[18:07:48] INFO: ../src/gbm/gbtree.cc:137: Tree method is automatically selected to be 'approx' for distributed training.\u001b[0m\n",
      "\u001b[34m[18:07:48] INFO: ../src/tree/updater_prune.cc:101: tree pruning end, 32 extra nodes, 4 pruned nodes, max_depth=5\u001b[0m\n",
      "\u001b[34m[18:07:48] INFO: ../src/gbm/gbtree.cc:137: Tree method is automatically selected to be 'approx' for distributed training.\u001b[0m\n",
      "\u001b[34m[18:07:48] INFO: ../src/tree/updater_prune.cc:101: tree pruning end, 44 extra nodes, 0 pruned nodes, max_depth=5\u001b[0m\n",
      "\u001b[34m[18:07:48] INFO: ../src/gbm/gbtree.cc:137: Tree method is automatically selected to be 'approx' for distributed training.\u001b[0m\n",
      "\u001b[34m[18:07:48] INFO: ../src/tree/updater_prune.cc:101: tree pruning end, 42 extra nodes, 0 pruned nodes, max_depth=5\u001b[0m\n",
      "\u001b[34m[18:07:48] INFO: ../src/gbm/gbtree.cc:137: Tree method is automatically selected to be 'approx' for distributed training.\u001b[0m\n",
      "\u001b[34m[18:07:48] INFO: ../src/tree/updater_prune.cc:101: tree pruning end, 52 extra nodes, 0 pruned nodes, max_depth=5\u001b[0m\n",
      "\u001b[34m[18:07:48] INFO: ../src/gbm/gbtree.cc:137: Tree method is automatically selected to be 'approx' for distributed training.\u001b[0m\n",
      "\u001b[35m[18:07:48] INFO: ../src/tree/updater_prune.cc:101: tree pruning end, 58 extra nodes, 0 pruned nodes, max_depth=5\u001b[0m\n",
      "\u001b[35m[18:07:48] INFO: ../src/gbm/gbtree.cc:137: Tree method is automatically selected to be 'approx' for distributed training.\u001b[0m\n",
      "\u001b[35m[18:07:48] INFO: ../src/tree/updater_prune.cc:101: tree pruning end, 30 extra nodes, 2 pruned nodes, max_depth=5\u001b[0m\n",
      "\u001b[35m[18:07:48] INFO: ../src/gbm/gbtree.cc:137: Tree method is automatically selected to be 'approx' for distributed training.\u001b[0m\n",
      "\u001b[35m[18:07:48] INFO: ../src/tree/updater_prune.cc:101: tree pruning end, 32 extra nodes, 4 pruned nodes, max_depth=5\u001b[0m\n",
      "\u001b[35m[18:07:48] INFO: ../src/gbm/gbtree.cc:137: Tree method is automatically selected to be 'approx' for distributed training.\u001b[0m\n",
      "\u001b[35m[18:07:48] INFO: ../src/tree/updater_prune.cc:101: tree pruning end, 44 extra nodes, 0 pruned nodes, max_depth=5\u001b[0m\n",
      "\u001b[35m[18:07:48] INFO: ../src/gbm/gbtree.cc:137: Tree method is automatically selected to be 'approx' for distributed training.\u001b[0m\n",
      "\u001b[35m[18:07:48] INFO: ../src/tree/updater_prune.cc:101: tree pruning end, 42 extra nodes, 0 pruned nodes, max_depth=5\u001b[0m\n",
      "\u001b[35m[18:07:48] INFO: ../src/gbm/gbtree.cc:137: Tree method is automatically selected to be 'approx' for distributed training.\u001b[0m\n",
      "\u001b[35m[18:07:48] INFO: ../src/tree/updater_prune.cc:101: tree pruning end, 52 extra nodes, 0 pruned nodes, max_depth=5\u001b[0m\n",
      "\u001b[35m[18:07:48] INFO: ../src/gbm/gbtree.cc:137: Tree method is automatically selected to be 'approx' for distributed training.\u001b[0m\n",
      "\u001b[35m[18:07:48] INFO: ../src/tree/updater_prune.cc:101: tree pruning end, 30 extra nodes, 10 pruned nodes, max_depth=5\u001b[0m\n",
      "\u001b[35m[18:07:48] INFO: ../src/gbm/gbtree.cc:137: Tree method is automatically selected to be 'approx' for distributed training.\u001b[0m\n",
      "\u001b[34m[18:07:48] INFO: ../src/tree/updater_prune.cc:101: tree pruning end, 30 extra nodes, 10 pruned nodes, max_depth=5\u001b[0m\n",
      "\u001b[34m[18:07:48] INFO: ../src/gbm/gbtree.cc:137: Tree method is automatically selected to be 'approx' for distributed training.\u001b[0m\n",
      "\u001b[34m[18:07:48] INFO: ../src/tree/updater_prune.cc:101: tree pruning end, 48 extra nodes, 4 pruned nodes, max_depth=5\u001b[0m\n",
      "\u001b[34m[18:07:48] INFO: ../src/gbm/gbtree.cc:137: Tree method is automatically selected to be 'approx' for distributed training.\u001b[0m\n",
      "\u001b[34m[18:07:49] INFO: ../src/tree/updater_prune.cc:101: tree pruning end, 50 extra nodes, 0 pruned nodes, max_depth=5\u001b[0m\n",
      "\u001b[35m[18:07:48] INFO: ../src/tree/updater_prune.cc:101: tree pruning end, 48 extra nodes, 4 pruned nodes, max_depth=5\u001b[0m\n",
      "\u001b[35m[18:07:48] INFO: ../src/gbm/gbtree.cc:137: Tree method is automatically selected to be 'approx' for distributed training.\u001b[0m\n",
      "\u001b[35m[18:07:49] INFO: ../src/tree/updater_prune.cc:101: tree pruning end, 50 extra nodes, 0 pruned nodes, max_depth=5\u001b[0m\n"
     ]
    },
    {
     "name": "stdout",
     "output_type": "stream",
     "text": [
      "\n",
      "2022-03-23 18:08:21 Uploading - Uploading generated training model\n",
      "2022-03-23 18:08:21 Completed - Training job completed\n"
     ]
    },
    {
     "name": "stdout",
     "output_type": "stream",
     "text": [
      "Training seconds: 206\n",
      "Billable seconds: 206\n"
     ]
    }
   ],
   "source": [
    "xgb_script_mode_estimator.fit({\"train\": train_input, \"validation\": validation_input})"
   ]
  },
  {
   "cell_type": "markdown",
   "id": "15bc2bce",
   "metadata": {
    "papermill": {
     "duration": 0.016951,
     "end_time": "2022-03-23T18:08:41.148404",
     "exception": false,
     "start_time": "2022-03-23T18:08:41.131453",
     "status": "completed"
    },
    "tags": []
   },
   "source": [
    "## Deploying the XGBoost model\n",
    "\n",
    "After training, we can use the estimator to create an Amazon SageMaker endpoint – a hosted and managed prediction service that we can use to perform inference.\n",
    "\n",
    "You can also optionally specify other functions to customize the behavior of deserialization of the input request (`input_fn()`), serialization of the predictions (`output_fn()`), and how predictions are made (`predict_fn()`). The defaults work for our current use-case so we don’t need to define them."
   ]
  },
  {
   "cell_type": "code",
   "execution_count": 9,
   "id": "0c2f7467",
   "metadata": {
    "execution": {
     "iopub.execute_input": "2022-03-23T18:08:41.185886Z",
     "iopub.status.busy": "2022-03-23T18:08:41.185399Z",
     "iopub.status.idle": "2022-03-23T18:11:12.853949Z",
     "shell.execute_reply": "2022-03-23T18:11:12.854317Z"
    },
    "papermill": {
     "duration": 151.689657,
     "end_time": "2022-03-23T18:11:12.854479",
     "exception": false,
     "start_time": "2022-03-23T18:08:41.164822",
     "status": "completed"
    },
    "tags": []
   },
   "outputs": [
    {
     "name": "stdout",
     "output_type": "stream",
     "text": [
      "-"
     ]
    },
    {
     "name": "stdout",
     "output_type": "stream",
     "text": [
      "-"
     ]
    },
    {
     "name": "stdout",
     "output_type": "stream",
     "text": [
      "-"
     ]
    },
    {
     "name": "stdout",
     "output_type": "stream",
     "text": [
      "-"
     ]
    },
    {
     "name": "stdout",
     "output_type": "stream",
     "text": [
      "-"
     ]
    },
    {
     "name": "stdout",
     "output_type": "stream",
     "text": [
      "!"
     ]
    }
   ],
   "source": [
    "predictor = xgb_script_mode_estimator.deploy(\n",
    "    initial_instance_count=1, instance_type=\"ml.m5.2xlarge\"\n",
    ")"
   ]
  },
  {
   "cell_type": "code",
   "execution_count": 10,
   "id": "0c38fa86",
   "metadata": {
    "execution": {
     "iopub.execute_input": "2022-03-23T18:11:12.894657Z",
     "iopub.status.busy": "2022-03-23T18:11:12.894156Z",
     "iopub.status.idle": "2022-03-23T18:11:12.896129Z",
     "shell.execute_reply": "2022-03-23T18:11:12.896489Z"
    },
    "papermill": {
     "duration": 0.024095,
     "end_time": "2022-03-23T18:11:12.896621",
     "exception": false,
     "start_time": "2022-03-23T18:11:12.872526",
     "status": "completed"
    },
    "tags": []
   },
   "outputs": [],
   "source": [
    "test_file = DATA_DIR + \"/\" + FILE_TEST\n",
    "with open(test_file, \"r\") as f:\n",
    "    payload = f.read()"
   ]
  },
  {
   "cell_type": "code",
   "execution_count": 11,
   "id": "5cd110f4",
   "metadata": {
    "execution": {
     "iopub.execute_input": "2022-03-23T18:11:12.938614Z",
     "iopub.status.busy": "2022-03-23T18:11:12.938103Z",
     "iopub.status.idle": "2022-03-23T18:11:13.089047Z",
     "shell.execute_reply": "2022-03-23T18:11:13.088569Z"
    },
    "papermill": {
     "duration": 0.174446,
     "end_time": "2022-03-23T18:11:13.089156",
     "exception": false,
     "start_time": "2022-03-23T18:11:12.914710",
     "status": "completed"
    },
    "tags": []
   },
   "outputs": [
    {
     "name": "stdout",
     "output_type": "stream",
     "text": [
      "Predicted values are [8.81299114227295, 7.280265808105469, 14.555740356445312, 8.303559303283691, 11.353776931762695, 11.917658805847168, 12.134928703308105, 17.415660858154297, 10.001436233520508, 8.76675033569336, 9.046344757080078, 8.272294044494629, 11.792457580566406, 8.77197551727295, 14.494329452514648, 10.27700138092041, 11.812432289123535, 10.789536476135254, 8.906534194946289, 10.747902870178223, 6.783151626586914, 11.78353500366211, 8.371335983276367, 8.877827644348145, 12.68449878692627, 6.434811592102051, 9.95106315612793, 12.425154685974121, 11.213279724121094, 12.707014083862305, 11.873579978942871, 9.181355476379395, 7.3189520835876465, 12.736785888671875, 10.669001579284668, 18.26255989074707, 12.263001441955566, 7.46275520324707, 10.73586368560791, 12.431838035583496, 8.927072525024414, 16.789657592773438, 10.98421859741211, 9.34790325164795, 6.339846611022949, 6.549848556518555, 9.243288040161133, 9.452335357666016, 10.399739265441895, 12.58799934387207, 14.50009536743164, 5.093772888183594, 10.583734512329102, 6.783151626586914, 11.805683135986328, 8.486787796020508, 6.4409613609313965, 9.693124771118164, 10.655878067016602, 6.434811592102051, 10.182085037231445, 6.647264003753662, 10.52369213104248, 9.723167419433594, 10.41800594329834, 14.101469039916992, 12.986084938049316, 8.609067916870117, 6.5403666496276855, 9.581239700317383, 12.259214401245117, 9.853288650512695, 9.512428283691406, 5.398987770080566, 11.166032791137695, 10.268525123596191, 10.20907211303711, 6.955378532409668, 8.482481956481934, 10.767753601074219, 11.788556098937988, 8.150230407714844, 10.663750648498535, 9.039033889770508, 7.079172134399414, 7.599405765533447, 8.157243728637695, 11.80306339263916, 10.785443305969238, 6.981977462768555, 17.022493362426758, 9.834956169128418, 10.223746299743652, 8.395148277282715, 10.198881149291992, 11.173644065856934, 10.194901466369629, 9.881200790405273, 10.742199897766113, 19.076061248779297, 14.190445899963379, 9.87497329711914, 10.64392375946045, 6.642693042755127, 8.581808090209961, 14.923081398010254, 8.243874549865723, 8.125298500061035, 8.45445442199707, 10.53123664855957, 9.70539665222168, 10.848084449768066, 10.107873916625977, 5.946517467498779, 4.175736904144287, 10.29617691040039, 6.778909683227539, 10.311362266540527, 9.15007495880127, 11.314464569091797, 13.52660083770752, 13.211458206176758, 5.15436315536499, 9.649160385131836, 3.9516942501068115, 6.876325607299805, 14.806593894958496, 13.858591079711914, 10.123185157775879, 6.423781871795654, 7.471421718597412, 13.239468574523926, 12.006922721862793, 5.15436315536499, 8.566356658935547, 6.772624492645264, 10.271246910095215, 9.983816146850586, 11.253096580505371, 12.375931739807129, 7.534493446350098, 10.585371971130371, 13.338404655456543, 4.1483659744262695, 18.106884002685547, 7.579897880554199, 10.318668365478516, 10.625734329223633, 9.261978149414062, 9.207735061645508, 11.362614631652832, 7.069167613983154, 14.993735313415527, 5.9818549156188965, 7.864497661590576, 8.670533180236816, 8.224796295166016, 11.735695838928223, 11.288820266723633, 6.783151626586914, 11.942452430725098, 9.89867115020752, 8.815918922424316, 8.769675254821777, 6.955378532409668, 7.344481468200684, 12.333184242248535, 8.981460571289062, 7.534116744995117, 12.806589126586914, 8.606232643127441, 8.77926254272461, 9.83137321472168, 10.745386123657227, 11.790912628173828, 9.092238426208496, 9.809392929077148, 11.784466743469238, 8.119489669799805, 8.993438720703125, 17.701902389526367, 11.558674812316895, 10.257664680480957, 5.08518648147583, 9.591840744018555, 11.710186958312988, 8.42782974243164, 9.373637199401855, 7.207347869873047, 12.466623306274414, 10.406556129455566, 14.2562837600708, 7.780722141265869, 6.679357528686523, 12.646825790405273, 9.489625930786133, 7.608970642089844, 10.408132553100586, 7.021446228027344, 7.168601989746094, 11.551653861999512, 11.605147361755371, 8.743900299072266, 9.894339561462402, 14.812950134277344, 10.808564186096191, 16.522127151489258, 6.829346656799316, 8.214032173156738, 10.716424942016602, 8.776001930236816, 13.775437355041504, 9.382529258728027, 13.523553848266602, 12.163278579711914, 9.974617958068848, 13.312410354614258, 9.91535758972168, 10.706642150878906, 10.955560684204102, 8.464859008789062, 7.6126532554626465, 7.19141149520874, 11.042558670043945, 8.31015396118164, 9.669358253479004, 8.303340911865234, 10.506072044372559, 10.215290069580078, 10.222795486450195, 9.908363342285156, 10.696025848388672, 11.689764976501465, 9.728302001953125, 17.690174102783203, 16.18727684020996, 5.15436315536499, 8.895567893981934, 7.837202072143555, 13.727773666381836, 9.481250762939453, 7.727749347686768, 10.243765830993652, 7.684792518615723, 6.836578369140625, 6.885216236114502, 10.237285614013672, 11.555944442749023, 16.49245834350586, 7.048181533813477, 7.5691447257995605, 11.10712718963623, 10.677033424377441, 11.874528884887695, 14.605550765991211, 10.9564847946167, 6.974015235900879, 7.023404121398926, 10.91671085357666, 9.972476959228516, 9.617238998413086, 10.517918586730957, 8.31887435913086, 9.912949562072754, 17.02739715576172, 7.81720495223999, 13.684396743774414, 6.220426559448242, 10.894049644470215, 9.523320198059082, 9.878463745117188, 13.72372055053711, 10.887500762939453, 11.116026878356934, 9.06450366973877, 8.321921348571777, 11.153366088867188, 11.280632972717285, 12.05190372467041, 10.332198143005371, 9.426491737365723, 10.263750076293945, 9.422887802124023, 10.571585655212402, 10.420650482177734, 10.659613609313965, 9.084733009338379, 8.940068244934082, 10.338419914245605, 14.166265487670898, 8.136434555053711, 10.93823528289795, 8.907350540161133, 8.496434211730957, 13.495677947998047, 9.577775001525879, 13.41440486907959, 12.969964981079102, 9.866131782531738, 12.088785171508789, 12.69120979309082, 11.830413818359375, 10.369093894958496, 10.43035888671875, 13.718304634094238, 7.6157941818237305, 6.580435752868652, 10.743566513061523, 7.069764137268066, 8.460368156433105, 10.494247436523438, 3.9516942501068115, 8.016860008239746, 8.592769622802734, 5.15436315536499, 12.574005126953125, 11.706307411193848, 12.407537460327148, 15.38063907623291, 7.818043231964111, 8.315133094787598, 7.8920745849609375, 11.332405090332031, 10.227494239807129, 5.702056407928467, 9.65713119506836, 5.15436315536499, 12.382254600524902, 13.426358222961426, 11.297863006591797, 12.369070053100586, 10.975751876831055, 10.353120803833008, 13.202958106994629, 7.7669148445129395, 8.710309982299805, 9.575528144836426, 6.692174434661865, 7.069764137268066, 9.097248077392578, 8.936576843261719, 9.395398139953613, 8.754283905029297, 13.439558029174805, 8.307734489440918, 7.422867298126221, 8.583940505981445, 8.181845664978027, 5.996225357055664, 7.5030837059021, 6.841414451599121, 7.628040790557861, 11.199347496032715, 8.352727890014648, 9.195480346679688, 9.781021118164062, 9.964533805847168, 4.743215084075928, 16.786069869995117, 9.016889572143555, 7.367412567138672, 8.975716590881348, 7.326306343078613, 11.85184383392334, 8.994953155517578, 8.834959983825684, 10.349574089050293, 11.086268424987793, 13.991458892822266, 12.933197021484375, 5.525990962982178, 8.370121955871582, 9.493159294128418, 13.494738578796387, 6.984190940856934, 14.274266242980957, 10.421420097351074, 10.244101524353027, 10.741429328918457, 6.180145740509033, 9.66344928741455, 9.385475158691406, 9.455483436584473, 11.675500869750977, 10.273990631103516, 6.556354999542236, 8.968998908996582, 11.182845115661621, 10.576539993286133, 13.426837921142578, 10.214777946472168, 10.575075149536133, 11.827417373657227, 10.28268814086914, 10.171660423278809, 13.168753623962402, 10.103811264038086, 10.0126953125, 8.808140754699707, 12.063425064086914, 9.38227653503418, 8.19815444946289, 10.120136260986328, 9.558273315429688, 8.70120620727539, 8.009415626525879, 8.021913528442383, 11.134295463562012, 12.270456314086914, 10.647557258605957, 8.09655475616455, 12.375611305236816, 9.648422241210938, 10.024151802062988, 9.973063468933105, 12.006697654724121, 9.089951515197754, 9.461806297302246, 11.257623672485352, 7.914104461669922, 9.339815139770508, 8.36861801147461, 7.341542720794678, 13.738957405090332, 10.36287784576416, 6.67532205581665, 10.662771224975586, 6.950506210327148, 16.018836975097656, 10.35244083404541, 7.2488908767700195, 8.96287727355957, 16.797330856323242, 11.633527755737305, 5.748132705688477, 4.175736904144287, 6.929548263549805, 6.65947151184082, 6.62326192855835, 11.591131210327148, 10.828474998474121, 11.137185096740723, 8.006277084350586, 8.27923583984375, 11.949129104614258, 10.351912498474121, 13.442700386047363, 10.488377571105957, 5.15436315536499, 5.598537921905518, 9.628645896911621, 11.811779022216797, 8.439041137695312, 5.971464157104492, 10.354520797729492, 3.9516942501068115, 7.021446228027344, 10.287034034729004, 9.40531063079834, 6.5388994216918945, 5.5995097160339355, 8.928516387939453, 9.495908737182617, 8.980762481689453, 9.023228645324707, 8.79354190826416, 7.388645172119141, 8.131556510925293, 10.540388107299805, 10.427708625793457, 8.673404693603516, 8.789074897766113, 10.098088264465332, 6.76953649520874, 10.299991607666016, 12.704455375671387, 11.639780044555664, 10.952142715454102, 8.206875801086426, 7.64937162399292, 7.2374162673950195, 11.357911109924316, 10.43002986907959, 20.88776397705078, 9.666990280151367, 13.987915992736816, 7.1725897789001465, 10.255934715270996, 3.9516942501068115, 7.641114234924316, 10.309370994567871, 9.185493469238281, 10.936087608337402, 5.874602317810059, 10.519309043884277, 13.141223907470703, 12.298233032226562, 13.238640785217285, 9.218457221984863, 10.269392013549805, 10.015149116516113, 12.01167106628418, 9.042106628417969, 7.490575313568115, 9.12334156036377, 10.245376586914062, 7.407092571258545, 18.16965103149414, 7.973322868347168, 8.980783462524414, 11.229593276977539, 7.603531837463379, 10.094548225402832, 20.90378761291504, 10.474865913391113, 16.549468994140625, 8.718576431274414, 7.519550800323486, 8.74899673461914, 11.924163818359375, 15.305756568908691, 11.523055076599121, 12.161417961120605, 8.454938888549805, 11.862156867980957, 15.226166725158691, 11.173349380493164, 10.38045597076416, 9.646193504333496, 8.534027099609375, 10.07138729095459, 11.06755542755127, 15.3566312789917, 12.563573837280273, 11.60745906829834, 11.139084815979004, 13.41847038269043, 10.735812187194824, 10.064752578735352, 12.544804573059082, 9.571690559387207, 14.316012382507324, 9.245161056518555, 10.410575866699219, 6.279883861541748, 9.5690336227417, 9.640978813171387, 7.583025932312012, 14.890934944152832, 9.977502822875977, 9.996746063232422, 10.411811828613281, 6.466850280761719, 7.191978931427002, 10.73145580291748, 7.248610019683838, 8.621355056762695, 12.185192108154297, 4.811224937438965, 13.979297637939453, 7.138340473175049, 10.840699195861816, 8.466301918029785, 7.632753849029541, 9.431401252746582, 10.475369453430176, 8.227473258972168, 12.068453788757324, 17.032562255859375, 8.051017761230469, 8.482851028442383, 14.161214828491211, 11.185816764831543, 7.753098964691162, 5.8205060958862305, 7.25758171081543, 7.474194049835205, 13.03268051147461, 9.316563606262207, 8.660825729370117, 8.021391868591309, 9.719130516052246, 9.056493759155273, 10.25252914428711, 8.408965110778809, 7.230081558227539, 9.121780395507812, 10.859109878540039, 7.577575206756592, 7.85626220703125, 9.7369966506958, 10.145947456359863, 7.787820339202881, 10.768904685974121, 5.15436315536499, 15.051137924194336, 16.549585342407227, 10.463268280029297, 10.194480895996094, 10.883216857910156, 11.42935848236084, 11.476996421813965, 15.306623458862305, 6.829346656799316, 11.337923049926758, 12.085745811462402, 6.534138202667236, 9.38452434539795, 7.101318836212158, 7.834368705749512, 9.755297660827637, 10.84955883026123, 8.385245323181152, 9.341737747192383, 9.008155822753906, 11.36074447631836, 11.724705696105957, 9.967802047729492, 8.366667747497559, 9.956945419311523, 12.94196891784668, 9.072541236877441, 19.010337829589844, 9.70497989654541, 9.18252182006836, 10.615118980407715].\n"
     ]
    }
   ],
   "source": [
    "runtime_client = session.sagemaker_runtime_client\n",
    "response = runtime_client.invoke_endpoint(\n",
    "    EndpointName=predictor.endpoint_name, ContentType=\"text/libsvm\", Body=payload\n",
    ")\n",
    "result = response[\"Body\"].read().decode(\"ascii\")\n",
    "print(\"Predicted values are {}.\".format(result))"
   ]
  },
  {
   "cell_type": "markdown",
   "id": "10c9a859",
   "metadata": {
    "papermill": {
     "duration": 0.018825,
     "end_time": "2022-03-23T18:11:13.126758",
     "exception": false,
     "start_time": "2022-03-23T18:11:13.107933",
     "status": "completed"
    },
    "tags": []
   },
   "source": [
    "### (Optional) Delete the Endpoint\n",
    "\n",
    "If you're done with this exercise, please run the delete_endpoint line in the cell below.  This will remove the hosted endpoint and avoid any charges from a stray instance being left on."
   ]
  },
  {
   "cell_type": "code",
   "execution_count": 12,
   "id": "d3a1084f",
   "metadata": {
    "execution": {
     "iopub.execute_input": "2022-03-23T18:11:13.168392Z",
     "iopub.status.busy": "2022-03-23T18:11:13.167898Z",
     "iopub.status.idle": "2022-03-23T18:11:13.476084Z",
     "shell.execute_reply": "2022-03-23T18:11:13.476445Z"
    },
    "papermill": {
     "duration": 0.331302,
     "end_time": "2022-03-23T18:11:13.476592",
     "exception": false,
     "start_time": "2022-03-23T18:11:13.145290",
     "status": "completed"
    },
    "tags": []
   },
   "outputs": [],
   "source": [
    "predictor.delete_model()\n",
    "predictor.delete_endpoint()"
   ]
  }
 ],
 "metadata": {
  "anaconda-cloud": {},
  "instance_type": "ml.t3.medium",
  "kernelspec": {
   "display_name": "Python 3 (Data Science)",
   "language": "python",
   "name": "python3__SAGEMAKER_INTERNAL__arn:aws:sagemaker:us-west-2:000000000000:image/datascience-1.0"
  },
  "language_info": {
   "codemirror_mode": {
    "name": "ipython",
    "version": 3
   },
   "file_extension": ".py",
   "mimetype": "text/x-python",
   "name": "python",
   "nbconvert_exporter": "python",
   "pygments_lexer": "ipython3",
   "version": "3.7.10"
  },
  "papermill": {
   "default_parameters": {},
   "duration": 382.196149,
   "end_time": "2022-03-23T18:11:13.912626",
   "environment_variables": {},
   "exception": null,
   "input_path": "xgboost_abalone_dist_script_mode.ipynb",
   "output_path": "/opt/ml/processing/output/xgboost_abalone_dist_script_mode-2022-03-23-17-59-51.ipynb",
   "parameters": {
    "kms_key": "arn:aws:kms:us-west-2:000000000000:1234abcd-12ab-34cd-56ef-1234567890ab"
   },
   "start_time": "2022-03-23T18:04:51.716477",
   "version": "2.3.4"
  }
 },
 "nbformat": 4,
 "nbformat_minor": 5
}