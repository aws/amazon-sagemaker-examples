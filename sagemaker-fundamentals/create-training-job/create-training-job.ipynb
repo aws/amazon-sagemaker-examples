{
 "cells": [
  {
   "cell_type": "markdown",
   "metadata": {},
   "source": [
    "# Create Training Job\n",
    "\n",
    "An Amazon SageMaker *training job* is a compute process that trains an ML model in an containerized environment. In this notebook, you will create a training job with your own custom container on Amazon SageMaker. To read more about training job, refer to the [official docs](https://docs.aws.amazon.com/sagemaker/latest/dg/how-it-works-training.html)\n",
    "\n",
    "The outline of this notebook is:\n",
    "- create an service execution for SageMaker to run a training job\n",
    "- build a light-weighted container based on continuumio/miniconda\n",
    "- test your container locally\n",
    "- push your container to ECR\n",
    "- upload your training data to an S3 bucket\n",
    "- create a training job with everything you did above"
   ]
  },
  {
   "cell_type": "code",
   "execution_count": 1,
   "metadata": {},
   "outputs": [
    {
     "name": "stdout",
     "output_type": "stream",
     "text": [
      "--2021-03-02 00:54:41--  https://raw.githubusercontent.com/hsl89/amazon-sagemaker-examples/master/sagemaker-fundamentals/execution-role/iam_helpers.py\n",
      "Resolving raw.githubusercontent.com (raw.githubusercontent.com)... 185.199.109.133, 185.199.110.133, 185.199.111.133, ...\n",
      "Connecting to raw.githubusercontent.com (raw.githubusercontent.com)|185.199.109.133|:443... connected.\n",
      "HTTP request sent, awaiting response... 200 OK\n",
      "Length: 3350 (3.3K) [text/plain]\n",
      "Saving to: ‘iam_helpers.py’\n",
      "\n",
      "iam_helpers.py      100%[===================>]   3.27K  --.-KB/s    in 0s      \n",
      "\n",
      "2021-03-02 00:54:41 (68.9 MB/s) - ‘iam_helpers.py’ saved [3350/3350]\n",
      "\n"
     ]
    }
   ],
   "source": [
    "# setup\n",
    "!wget https://raw.githubusercontent.com/hsl89/amazon-sagemaker-examples/master/sagemaker-fundamentals/execution-role/iam_helpers.py"
   ]
  },
  {
   "cell_type": "code",
   "execution_count": 13,
   "metadata": {},
   "outputs": [],
   "source": [
    "import boto3\n",
    "import pprint\n",
    "\n",
    "pp = pprint.PrettyPrinter(indent=1)\n",
    "iam = boto3.client('iam')"
   ]
  },
  {
   "cell_type": "markdown",
   "metadata": {},
   "source": [
    "## Create an IAM service role\n",
    "\n",
    "To review IAM role, see the [notebook on execution role](https://github.com/hsl89/amazon-sagemaker-examples/blob/execution-role/sagemaker-fundamentals/execution-role/execution-role.ipynb)\n",
    "\n",
    "The service role is intended to be assumed by the SageMaker service. For simplicity, we will give it `AmazonSageMakerFullAccess` permission. However, in order to do what we need in this notebook, we do not need such a comprehensive permission. You are highly encouraged to play with the helper functions we provide in `iam_helpers.py` to figure out what are the minimum permissions needed to run this notebook. \n"
   ]
  },
  {
   "cell_type": "code",
   "execution_count": 10,
   "metadata": {},
   "outputs": [],
   "source": [
    "from iam_helpers import *\n",
    "\n",
    "role_name='sm' \n",
    "role = create_execution_role(role_name=role_name)['Role']"
   ]
  },
  {
   "cell_type": "code",
   "execution_count": 15,
   "metadata": {},
   "outputs": [
    {
     "name": "stdout",
     "output_type": "stream",
     "text": [
      "{'ResponseMetadata': {'HTTPHeaders': {'content-length': '212',\n",
      "                                      'content-type': 'text/xml',\n",
      "                                      'date': 'Tue, 02 Mar 2021 01:21:01 GMT',\n",
      "                                      'x-amzn-requestid': '8e298791-e0bd-4721-a8a0-12d71d9802d7'},\n",
      "                      'HTTPStatusCode': 200,\n",
      "                      'RequestId': '8e298791-e0bd-4721-a8a0-12d71d9802d7',\n",
      "                      'RetryAttempts': 0}}\n"
     ]
    }
   ],
   "source": [
    "# attach AmazonSageMakerFullAccess\n",
    "res = iam.attach_role_policy(\n",
    "    RoleName=role['RoleName'],\n",
    "    PolicyArn='arn:aws:iam::aws:policy/AmazonSageMakerFullAccess',\n",
    ")\n",
    "\n",
    "pp.pprint(res)"
   ]
  },
  {
   "cell_type": "markdown",
   "metadata": {},
   "source": [
    "## Build the training environement into a docker image\n",
    "\n",
    "Before creating a training job on Amazon SageMaker, you need to package the entire runtime environment of your ML project into a docker image and push the image into the Elastic Container Registry (ECR) under your account. \n",
    "\n",
    "When triggering a training job, your requested SageMaker instance will pull that image from your ECR and execute it with the data you specified in an S3 URI. \n",
    "\n",
    "It important to know how SageMaker runs your image. For **training job**, SageMaker runs your image like\n",
    "```\n",
    "docker run <image> train\n",
    "```\n",
    "i.e. your image needs to have an executable `train` and it is the executable that starts the model training process. You will see later in the notebook how to create it. \n",
    "\n",
    "The next natural thing to ask is how does the image running on SageMaker instance access the data that the model needs to be trained on? SageMaker requires you to reserve `/opt/ml` directory inside your image for it to provide training information. When you trigger a training job, you will need to specify the location of your training data, and the SageMaker instance running your image will mount your data into `/opt/ml/input`. \n",
    "\n",
    "To read more about SageMaker uses `/opt/ml` to provide training information, refer to the [official docs](https://docs.aws.amazon.com/sagemaker/latest/dg/your-algorithms-training-algo-running-container.html)"
   ]
  },
  {
   "cell_type": "code",
   "execution_count": null,
   "metadata": {},
   "outputs": [],
   "source": []
  }
 ],
 "metadata": {
  "kernelspec": {
   "display_name": "Python 3",
   "language": "python",
   "name": "python3"
  },
  "language_info": {
   "codemirror_mode": {
    "name": "ipython",
    "version": 3
   },
   "file_extension": ".py",
   "mimetype": "text/x-python",
   "name": "python",
   "nbconvert_exporter": "python",
   "pygments_lexer": "ipython3",
   "version": "3.6.10"
  }
 },
 "nbformat": 4,
 "nbformat_minor": 4
}
