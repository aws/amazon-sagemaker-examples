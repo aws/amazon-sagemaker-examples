{
 "cells": [
  {
   "cell_type": "markdown",
   "id": "radio-click",
   "metadata": {
    "papermill": {
     "duration": 0.015579,
     "end_time": "2021-06-07T00:17:55.978198",
     "exception": false,
     "start_time": "2021-06-07T00:17:55.962619",
     "status": "completed"
    },
    "tags": []
   },
   "source": [
    "# Multi-Class Classification using Amazon SageMaker k-Nearest-Neighbors (kNN)\n",
    "\n",
    "k-Nearest-Neighbors (kNN) is a simple technique for classification. The idea behind\n",
    "it is that similar data points should have the same class, at least most of the time.\n",
    "This method is very intuitive and has proven itself in many domains including\n",
    "recommendation systems, anomaly detection, image/text classification and more.\n",
    "\n",
    "In what follows we present a detailed example of a multi-class classification objective. The dataset we use contains information collected by the US Geological Survey and the US Forest Service about wilderness areas in northern Colorado. The features are measurements like soil type, elevation, and distance to water, and the labels encode the type of trees - the forest cover type - for each location. The machine learning task is to predict the cover type in a given location using the features. Overall there are seven cover types.\n",
    "\n",
    "The notebook has two sections. In the first, we use Amazon SageMaker's python SDK in order to train a kNN classifier in its simplest setting. We explain the components common to all Amazon SageMaker's algorithms including uploading data to Amazon S3, training a model, and setting up an endpoint for online inference. In the second section we dive deeper into the details of Amazon SageMaker kNN. We explain the different knobs (hyper-parameters) associated with it, and demonstrate how each setting can lead to a somewhat different accuracy and latency at inference time.\n",
    "\n",
    "This notebook was tested in Amazon SageMaker Studio on a ml.t3.medium instance with Python 3 (Data Science) kernel.\n"
   ]
  },
  {
   "cell_type": "markdown",
   "id": "employed-fundamentals",
   "metadata": {
    "papermill": {
     "duration": 0.015571,
     "end_time": "2021-06-07T00:17:56.009408",
     "exception": false,
     "start_time": "2021-06-07T00:17:55.993837",
     "status": "completed"
    },
    "tags": []
   },
   "source": [
    "## Part 1: Running kNN in 5 minutes\n",
    "\n",
    "### Dataset\n",
    "\n",
    "We're about to work with the UCI Machine Learning Repository Covertype  dataset [1]  ([covtype](https://archive.ics.uci.edu/ml/datasets/covertype)) (copyright Jock A. Blackard and Colorado State University). It's a labeled dataset where each entry describes a geographic area, and the label is a type of forest cover. There are 7 possible labels and we aim to solve the mult-class classification problem using kNN.\n",
    "We begin by downloading the dataset from a S3 bucket and moving it to a temporary folder. It was originally downloaded from [here](https://archive.ics.uci.edu/ml/machine-learning-databases/covtype/covtype.data.gz).\n",
    "\n",
    ">[1] Dua, D. and Graff, C. (2019). UCI Machine Learning Repository [http://archive.ics.uci.edu/ml]. Irvine, CA: University of California, School of Information and Computer Science."
   ]
  },
  {
   "cell_type": "code",
   "execution_count": 4,
   "id": "fifth-hudson",
   "metadata": {
    "execution": {
     "iopub.execute_input": "2021-06-07T00:17:56.044186Z",
     "iopub.status.busy": "2021-06-07T00:17:56.043750Z",
     "iopub.status.idle": "2021-06-07T00:17:57.452177Z",
     "shell.execute_reply": "2021-06-07T00:17:57.452537Z"
    },
    "papermill": {
     "duration": 1.427637,
     "end_time": "2021-06-07T00:17:57.452675",
     "exception": false,
     "start_time": "2021-06-07T00:17:56.025038",
     "status": "completed"
    },
    "scrolled": true,
    "tags": []
   },
   "outputs": [],
   "source": [
    "import boto3\n",
    "\n",
    "region = boto3.Session().region_name\n",
    "\n",
    "# S3 bucket where the original covtype data is downloaded and stored.\n",
    "downloaded_data_bucket = f\"sagemaker-sample-files\"\n",
    "downloaded_data_prefix = \"datasets/tabular/uci_covtype\"\n",
    "s3 = boto3.client(\"s3\")\n",
    "s3.download_file(downloaded_data_bucket, f\"{downloaded_data_prefix}/covtype.data.gz\", \"covtype.data.gz\")"
   ]
  },
  {
   "cell_type": "code",
   "execution_count": 5,
   "id": "smaller-robin",
   "metadata": {
    "execution": {
     "iopub.execute_input": "2021-06-07T00:17:57.488425Z",
     "iopub.status.busy": "2021-06-07T00:17:57.487999Z",
     "iopub.status.idle": "2021-06-07T00:17:57.781332Z",
     "shell.execute_reply": "2021-06-07T00:17:57.781718Z"
    },
    "papermill": {
     "duration": 0.313148,
     "end_time": "2021-06-07T00:17:57.781859",
     "exception": false,
     "start_time": "2021-06-07T00:17:57.468711",
     "status": "completed"
    },
    "scrolled": true,
    "tags": []
   },
   "outputs": [],
   "source": [
    "!mkdir -p /tmp/covtype/raw\n",
    "!mv covtype.data.gz /tmp/covtype/raw/covtype.data.gz "
   ]
  },
  {
   "cell_type": "markdown",
   "id": "increasing-monday",
   "metadata": {
    "papermill": {
     "duration": 0.015784,
     "end_time": "2021-06-07T00:17:57.813654",
     "exception": false,
     "start_time": "2021-06-07T00:17:57.797870",
     "status": "completed"
    },
    "tags": []
   },
   "source": [
    "### Pre-Processing the Data\n",
    "Now that we have the raw data, let's process it. \n",
    "We'll first load the data into numpy arrays, and randomly split it into train and test with a 90/10 split."
   ]
  },
  {
   "cell_type": "code",
   "execution_count": 6,
   "id": "african-federal",
   "metadata": {
    "execution": {
     "iopub.execute_input": "2021-06-07T00:17:57.851867Z",
     "iopub.status.busy": "2021-06-07T00:17:57.851408Z",
     "iopub.status.idle": "2021-06-07T00:18:13.681624Z",
     "shell.execute_reply": "2021-06-07T00:18:13.681136Z"
    },
    "nbpresent": {
     "id": "a58fdf0d-32fb-4690-add3-433cc721773d"
    },
    "papermill": {
     "duration": 15.85235,
     "end_time": "2021-06-07T00:18:13.681763",
     "exception": false,
     "start_time": "2021-06-07T00:17:57.829413",
     "status": "completed"
    },
    "tags": []
   },
   "outputs": [
    {
     "name": "stdout",
     "output_type": "stream",
     "text": [
      "Reading raw data from /tmp/covtype/raw/covtype.data.gz\n"
     ]
    }
   ],
   "source": [
    "import numpy as np\n",
    "import os\n",
    "\n",
    "data_dir = \"/tmp/covtype/\"\n",
    "processed_subdir = \"standardized\"\n",
    "raw_data_file = os.path.join(data_dir, \"raw\", \"covtype.data.gz\")\n",
    "train_features_file = os.path.join(data_dir, processed_subdir, \"train/csv/features.csv\")\n",
    "train_labels_file = os.path.join(data_dir, processed_subdir, \"train/csv/labels.csv\")\n",
    "test_features_file = os.path.join(data_dir, processed_subdir, \"test/csv/features.csv\")\n",
    "test_labels_file = os.path.join(data_dir, processed_subdir, \"test/csv/labels.csv\")\n",
    "\n",
    "# read raw data\n",
    "print(\"Reading raw data from {}\".format(raw_data_file))\n",
    "raw = np.loadtxt(raw_data_file, delimiter=',')\n",
    "\n",
    "# split into train/test with a 90/10 split\n",
    "np.random.seed(0)\n",
    "np.random.shuffle(raw)\n",
    "train_size = int(0.9 * raw.shape[0])\n",
    "train_features = raw[:train_size, :-1]\n",
    "train_labels = raw[:train_size, -1]\n",
    "test_features = raw[train_size:, :-1]\n",
    "test_labels = raw[train_size:, -1]"
   ]
  },
  {
   "cell_type": "markdown",
   "id": "sharp-jerusalem",
   "metadata": {
    "papermill": {
     "duration": 0.016705,
     "end_time": "2021-06-07T00:18:13.715409",
     "exception": false,
     "start_time": "2021-06-07T00:18:13.698704",
     "status": "completed"
    },
    "tags": []
   },
   "source": [
    "### Upload to Amazon S3\n",
    "Now, since typically the dataset will be large and located in Amazon S3, let's write the data to Amazon S3 in recordio-protobuf format. We first create an io buffer wrapping the data, next we upload it to Amazon S3. Notice that the choice of bucket and prefix should change for different users and different datasets"
   ]
  },
  {
   "cell_type": "code",
   "execution_count": 7,
   "id": "atomic-serial",
   "metadata": {
    "execution": {
     "iopub.execute_input": "2021-06-07T00:18:13.752060Z",
     "iopub.status.busy": "2021-06-07T00:18:13.751611Z",
     "iopub.status.idle": "2021-06-07T00:18:25.421234Z",
     "shell.execute_reply": "2021-06-07T00:18:25.421594Z"
    },
    "papermill": {
     "duration": 11.689979,
     "end_time": "2021-06-07T00:18:25.421753",
     "exception": false,
     "start_time": "2021-06-07T00:18:13.731774",
     "status": "completed"
    },
    "tags": []
   },
   "outputs": [
    {
     "name": "stdout",
     "output_type": "stream",
     "text": [
      "train_features shape =  (522910, 54)\n",
      "train_labels shape =  (522910,)\n"
     ]
    },
    {
     "data": {
      "text/plain": [
       "0"
      ]
     },
     "execution_count": 7,
     "metadata": {},
     "output_type": "execute_result"
    }
   ],
   "source": [
    "import io\n",
    "import sagemaker.amazon.common as smac\n",
    "\n",
    "print(\"train_features shape = \", train_features.shape)\n",
    "print(\"train_labels shape = \", train_labels.shape)\n",
    "\n",
    "buf = io.BytesIO()\n",
    "smac.write_numpy_to_dense_tensor(buf, train_features, train_labels)\n",
    "buf.seek(0)"
   ]
  },
  {
   "cell_type": "code",
   "execution_count": 8,
   "id": "durable-memorial",
   "metadata": {
    "execution": {
     "iopub.execute_input": "2021-06-07T00:18:25.459756Z",
     "iopub.status.busy": "2021-06-07T00:18:25.459328Z",
     "iopub.status.idle": "2021-06-07T00:18:29.225397Z",
     "shell.execute_reply": "2021-06-07T00:18:29.225809Z"
    },
    "papermill": {
     "duration": 3.787232,
     "end_time": "2021-06-07T00:18:29.225957",
     "exception": false,
     "start_time": "2021-06-07T00:18:25.438725",
     "status": "completed"
    },
    "tags": []
   },
   "outputs": [
    {
     "name": "stdout",
     "output_type": "stream",
     "text": [
      "uploaded training data location: s3://sagemaker-us-west-2-688520471316/knn-blog-2018-04-17/train/recordio-pb-data\n"
     ]
    }
   ],
   "source": [
    "import boto3\n",
    "import os\n",
    "import sagemaker\n",
    "\n",
    "bucket = sagemaker.Session().default_bucket()  # modify to your bucket name\n",
    "prefix = \"knn-blog-2018-04-17\"\n",
    "key = \"recordio-pb-data\"\n",
    "\n",
    "boto3.resource(\"s3\").Bucket(bucket).Object(os.path.join(prefix, \"train\", key)).upload_fileobj(buf)\n",
    "s3_train_data = f\"s3://{bucket}/{prefix}/train/{key}\"\n",
    "print(f\"uploaded training data location: {s3_train_data}\")"
   ]
  },
  {
   "cell_type": "markdown",
   "id": "understood-publication",
   "metadata": {
    "papermill": {
     "duration": 0.017035,
     "end_time": "2021-06-07T00:18:29.262100",
     "exception": false,
     "start_time": "2021-06-07T00:18:29.245065",
     "status": "completed"
    },
    "tags": []
   },
   "source": [
    "It is also possible to provide test data. This way we can get an evaluation of the performance of the model from the training logs. In order to use this capability let's upload the test data to Amazon S3 as well"
   ]
  },
  {
   "cell_type": "code",
   "execution_count": 9,
   "id": "higher-heading",
   "metadata": {
    "execution": {
     "iopub.execute_input": "2021-06-07T00:18:29.338507Z",
     "iopub.status.busy": "2021-06-07T00:18:29.313003Z",
     "iopub.status.idle": "2021-06-07T00:18:31.349865Z",
     "shell.execute_reply": "2021-06-07T00:18:31.349448Z"
    },
    "papermill": {
     "duration": 2.070861,
     "end_time": "2021-06-07T00:18:31.349991",
     "exception": false,
     "start_time": "2021-06-07T00:18:29.279130",
     "status": "completed"
    },
    "tags": []
   },
   "outputs": [
    {
     "name": "stdout",
     "output_type": "stream",
     "text": [
      "test_features shape = (58102, 54)\n",
      "test_labels shape = (58102,)\n",
      "uploaded test data location: s3://sagemaker-us-west-2-688520471316/knn-blog-2018-04-17/test/recordio-pb-data\n"
     ]
    }
   ],
   "source": [
    "print(f\"test_features shape = {test_features.shape}\")\n",
    "print(f\"test_labels shape = {test_labels.shape}\")\n",
    "\n",
    "buf = io.BytesIO()\n",
    "smac.write_numpy_to_dense_tensor(buf, test_features, test_labels)\n",
    "buf.seek(0)\n",
    "\n",
    "boto3.resource(\"s3\").Bucket(bucket).Object(os.path.join(prefix, \"test\", key)).upload_fileobj(buf)\n",
    "s3_test_data = f\"s3://{bucket}/{prefix}/test/{key}\"\n",
    "print(f\"uploaded test data location: {s3_test_data}\")"
   ]
  },
  {
   "cell_type": "markdown",
   "id": "armed-object",
   "metadata": {
    "papermill": {
     "duration": 0.017626,
     "end_time": "2021-06-07T00:18:31.385191",
     "exception": false,
     "start_time": "2021-06-07T00:18:31.367565",
     "status": "completed"
    },
    "tags": []
   },
   "source": [
    "### Training\n",
    "\n",
    "We take a moment to explain at a high level, how Machine Learning training and prediction works in Amazon SageMaker. First, we need to train a model. This is a process that given a labeled dataset and hyper-parameters guiding the training process,  outputs a model. Once the training is done, we set up what is called an **endpoint**. An endpoint is a web service that given a request containing an unlabeled data point, or mini-batch of data points, returns a prediction(s).\n",
    "\n",
    "In Amazon SageMaker the training is done via an object called an **estimator**. When setting up the estimator we specify the location (in Amazon S3) of the training data, the path (again in Amazon S3) to the output directory where the model will be serialized, generic hyper-parameters such as the machine type to use during the training process, and kNN-specific hyper-parameters such as the index type, etc. Once the estimator is initialized, we can call its **fit** method in order to do the actual training.\n",
    "\n",
    "Now that we are ready for training, we start with a convenience function that starts a training job."
   ]
  },
  {
   "cell_type": "code",
   "execution_count": 10,
   "id": "technological-membership",
   "metadata": {
    "execution": {
     "iopub.execute_input": "2021-06-07T00:18:31.426982Z",
     "iopub.status.busy": "2021-06-07T00:18:31.426267Z",
     "iopub.status.idle": "2021-06-07T00:18:32.039172Z",
     "shell.execute_reply": "2021-06-07T00:18:32.038761Z"
    },
    "papermill": {
     "duration": 0.636559,
     "end_time": "2021-06-07T00:18:32.039282",
     "exception": false,
     "start_time": "2021-06-07T00:18:31.402723",
     "status": "completed"
    },
    "tags": []
   },
   "outputs": [],
   "source": [
    "import matplotlib.pyplot as plt\n",
    "\n",
    "import sagemaker\n",
    "from sagemaker import get_execution_role\n",
    "from sagemaker.serializers import CSVSerializer\n",
    "from sagemaker.deserializers import JSONDeserializer\n",
    "\n",
    "from sagemaker.amazon.amazon_estimator import get_image_uri\n",
    "\n",
    "\n",
    "def trained_estimator_from_hyperparams(s3_train_data, hyperparams, output_path, s3_test_data=None):\n",
    "    \"\"\"\n",
    "    Create an Estimator from the given hyperparams, fit to training data,\n",
    "    and return a deployed predictor\n",
    "\n",
    "    \"\"\"\n",
    "    # set up the estimator\n",
    "    knn = sagemaker.estimator.Estimator(\n",
    "        get_image_uri(boto3.Session().region_name, \"knn\"),\n",
    "        get_execution_role(),\n",
    "        instance_count=1,\n",
    "        instance_type=\"ml.m5.2xlarge\",\n",
    "        output_path=output_path,\n",
    "        sagemaker_session=sagemaker.Session(),\n",
    "    )\n",
    "    knn.set_hyperparameters(**hyperparams)\n",
    "\n",
    "    # train a model. fit_input contains the locations of the train and test data\n",
    "    fit_input = {\"train\": s3_train_data}\n",
    "    if s3_test_data is not None:\n",
    "        fit_input[\"test\"] = s3_test_data\n",
    "    knn.fit(fit_input)\n",
    "    return knn"
   ]
  },
  {
   "cell_type": "markdown",
   "id": "musical-surprise",
   "metadata": {
    "papermill": {
     "duration": 0.017562,
     "end_time": "2021-06-07T00:18:32.074532",
     "exception": false,
     "start_time": "2021-06-07T00:18:32.056970",
     "status": "completed"
    },
    "tags": []
   },
   "source": [
    "Now, we run the actual training job. For now, we stick to default parameters."
   ]
  },
  {
   "cell_type": "code",
   "execution_count": 11,
   "id": "industrial-canadian",
   "metadata": {
    "execution": {
     "iopub.execute_input": "2021-06-07T00:18:32.121119Z",
     "iopub.status.busy": "2021-06-07T00:18:32.120508Z",
     "iopub.status.idle": "2021-06-07T00:24:17.166618Z",
     "shell.execute_reply": "2021-06-07T00:24:17.166216Z"
    },
    "papermill": {
     "duration": 345.074835,
     "end_time": "2021-06-07T00:24:17.166732",
     "exception": false,
     "start_time": "2021-06-07T00:18:32.091897",
     "status": "completed"
    },
    "tags": []
   },
   "outputs": [
    {
     "name": "stderr",
     "output_type": "stream",
     "text": [
      "The method get_image_uri has been renamed in sagemaker>=2.\n",
      "See: https://sagemaker.readthedocs.io/en/stable/v2.html for details.\n",
      "Defaulting to the only supported framework/algorithm version: 1. Ignoring framework/algorithm version: 1.\n"
     ]
    },
    {
     "name": "stdout",
     "output_type": "stream",
     "text": [
      "2021-06-07 20:34:08 Starting - Starting the training job...\n",
      "2021-06-07 20:34:31 Starting - Launching requested ML instancesProfilerReport-1623098048: InProgress\n",
      "......\n",
      "2021-06-07 20:35:32 Starting - Preparing the instances for training......\n",
      "2021-06-07 20:36:32 Downloading - Downloading input data\n",
      "2021-06-07 20:36:32 Training - Downloading the training image...............\n",
      "2021-06-07 20:38:54 Training - Training image download completed. Training in progress.\u001b[34mDocker entrypoint called with argument(s): train\u001b[0m\n",
      "\u001b[34mRunning default environment configuration script\u001b[0m\n",
      "\u001b[34m[06/07/2021 20:38:55 INFO 140156949829440] Reading default configuration from /opt/amazon/lib/python3.7/site-packages/algorithm/resources/default-conf.json: {'_kvstore': 'dist_async', '_log_level': 'info', '_num_gpus': 'auto', '_num_kv_servers': '1', '_tuning_objective_metric': '', '_faiss_index_nprobe': '5', 'epochs': '1', 'feature_dim': 'auto', 'faiss_index_ivf_nlists': 'auto', 'index_metric': 'L2', 'index_type': 'faiss.Flat', 'mini_batch_size': '5000', '_enable_profiler': 'false'}\u001b[0m\n",
      "\u001b[34m[06/07/2021 20:38:55 INFO 140156949829440] Merging with provided configuration from /opt/ml/input/config/hyperparameters.json: {'feature_dim': '54', 'predictor_type': 'classifier', 'sample_size': '200000', 'k': '10'}\u001b[0m\n",
      "\u001b[34m[06/07/2021 20:38:55 INFO 140156949829440] Final configuration: {'_kvstore': 'dist_async', '_log_level': 'info', '_num_gpus': 'auto', '_num_kv_servers': '1', '_tuning_objective_metric': '', '_faiss_index_nprobe': '5', 'epochs': '1', 'feature_dim': '54', 'faiss_index_ivf_nlists': 'auto', 'index_metric': 'L2', 'index_type': 'faiss.Flat', 'mini_batch_size': '5000', '_enable_profiler': 'false', 'predictor_type': 'classifier', 'sample_size': '200000', 'k': '10'}\u001b[0m\n",
      "\u001b[34m[06/07/2021 20:39:00 WARNING 140156949829440] Loggers have already been setup.\u001b[0m\n",
      "\u001b[34m[06/07/2021 20:39:00 INFO 140156949829440] Final configuration: {'_kvstore': 'dist_async', '_log_level': 'info', '_num_gpus': 'auto', '_num_kv_servers': '1', '_tuning_objective_metric': '', '_faiss_index_nprobe': '5', 'epochs': '1', 'feature_dim': '54', 'faiss_index_ivf_nlists': 'auto', 'index_metric': 'L2', 'index_type': 'faiss.Flat', 'mini_batch_size': '5000', '_enable_profiler': 'false', 'predictor_type': 'classifier', 'sample_size': '200000', 'k': '10'}\u001b[0m\n",
      "\u001b[34m[06/07/2021 20:39:00 WARNING 140156949829440] Loggers have already been setup.\u001b[0m\n",
      "\u001b[34m[06/07/2021 20:39:00 INFO 140156949829440] Launching parameter server for role scheduler\u001b[0m\n",
      "\u001b[34m[06/07/2021 20:39:00 INFO 140156949829440] {'ENVROOT': '/opt/amazon', 'PROTOCOL_BUFFERS_PYTHON_IMPLEMENTATION': 'cpp', 'HOSTNAME': 'ip-10-0-130-194.us-west-2.compute.internal', 'TRAINING_JOB_NAME': 'knn-2021-06-07-20-34-08-386', 'NVIDIA_REQUIRE_CUDA': 'cuda>=9.0', 'TRAINING_JOB_ARN': 'arn:aws:sagemaker:us-west-2:688520471316:training-job/knn-2021-06-07-20-34-08-386', 'AWS_CONTAINER_CREDENTIALS_RELATIVE_URI': '/v2/credentials/328b653a-ca7d-4b51-bc25-fd4c495ba9d5', 'CANONICAL_ENVROOT': '/opt/amazon', 'PYTHONUNBUFFERED': 'TRUE', 'NVIDIA_VISIBLE_DEVICES': 'void', 'LD_LIBRARY_PATH': '/opt/amazon/lib/python3.7/site-packages/cv2/../../../../lib:/usr/local/nvidia/lib64:/opt/amazon/lib', 'NVIDIA_DRIVER_CAPABILITIES': 'compute,utility', 'AWS_EXECUTION_ENV': 'AWS_ECS_EC2', 'PATH': '/opt/amazon/bin:/usr/local/nvidia/bin:/usr/local/sbin:/usr/local/bin:/usr/sbin:/usr/bin:/sbin:/bin:/opt/amazon/bin:/opt/amazon/bin', 'PWD': '/', 'LANG': 'en_US.utf8', 'AWS_REGION': 'us-west-2', 'SAGEMAKER_METRICS_DIRECTORY': '/opt/ml/output/metrics/sagemaker', 'HOME': '/root', 'SHLVL': '1', 'PROTOCOL_BUFFERS_PYTHON_IMPLEMENTATION_VERSION': '2', 'OMP_NUM_THREADS': '4', 'DMLC_INTERFACE': 'eth0', 'ECS_CONTAINER_METADATA_URI': 'http://169.254.170.2/v3/89bcb2c6-7dd6-4a5a-b240-034813e673c4', 'ECS_CONTAINER_METADATA_URI_V4': 'http://169.254.170.2/v4/89bcb2c6-7dd6-4a5a-b240-034813e673c4', 'SAGEMAKER_HTTP_PORT': '8080', 'SAGEMAKER_DATA_PATH': '/opt/ml'}\u001b[0m\n",
      "\u001b[34m[06/07/2021 20:39:00 INFO 140156949829440] envs={'ENVROOT': '/opt/amazon', 'PROTOCOL_BUFFERS_PYTHON_IMPLEMENTATION': 'cpp', 'HOSTNAME': 'ip-10-0-130-194.us-west-2.compute.internal', 'TRAINING_JOB_NAME': 'knn-2021-06-07-20-34-08-386', 'NVIDIA_REQUIRE_CUDA': 'cuda>=9.0', 'TRAINING_JOB_ARN': 'arn:aws:sagemaker:us-west-2:688520471316:training-job/knn-2021-06-07-20-34-08-386', 'AWS_CONTAINER_CREDENTIALS_RELATIVE_URI': '/v2/credentials/328b653a-ca7d-4b51-bc25-fd4c495ba9d5', 'CANONICAL_ENVROOT': '/opt/amazon', 'PYTHONUNBUFFERED': 'TRUE', 'NVIDIA_VISIBLE_DEVICES': 'void', 'LD_LIBRARY_PATH': '/opt/amazon/lib/python3.7/site-packages/cv2/../../../../lib:/usr/local/nvidia/lib64:/opt/amazon/lib', 'NVIDIA_DRIVER_CAPABILITIES': 'compute,utility', 'AWS_EXECUTION_ENV': 'AWS_ECS_EC2', 'PATH': '/opt/amazon/bin:/usr/local/nvidia/bin:/usr/local/sbin:/usr/local/bin:/usr/sbin:/usr/bin:/sbin:/bin:/opt/amazon/bin:/opt/amazon/bin', 'PWD': '/', 'LANG': 'en_US.utf8', 'AWS_REGION': 'us-west-2', 'SAGEMAKER_METRICS_DIRECTORY': '/opt/ml/output/metrics/sagemaker', 'HOME': '/root', 'SHLVL': '1', 'PROTOCOL_BUFFERS_PYTHON_IMPLEMENTATION_VERSION': '2', 'OMP_NUM_THREADS': '4', 'DMLC_INTERFACE': 'eth0', 'ECS_CONTAINER_METADATA_URI': 'http://169.254.170.2/v3/89bcb2c6-7dd6-4a5a-b240-034813e673c4', 'ECS_CONTAINER_METADATA_URI_V4': 'http://169.254.170.2/v4/89bcb2c6-7dd6-4a5a-b240-034813e673c4', 'SAGEMAKER_HTTP_PORT': '8080', 'SAGEMAKER_DATA_PATH': '/opt/ml', 'DMLC_ROLE': 'scheduler', 'DMLC_PS_ROOT_URI': '10.0.130.194', 'DMLC_PS_ROOT_PORT': '9000', 'DMLC_NUM_SERVER': '1', 'DMLC_NUM_WORKER': '1'}\u001b[0m\n",
      "\u001b[34m[06/07/2021 20:39:00 INFO 140156949829440] Launching parameter server for role server\u001b[0m\n",
      "\u001b[34m[06/07/2021 20:39:00 INFO 140156949829440] {'ENVROOT': '/opt/amazon', 'PROTOCOL_BUFFERS_PYTHON_IMPLEMENTATION': 'cpp', 'HOSTNAME': 'ip-10-0-130-194.us-west-2.compute.internal', 'TRAINING_JOB_NAME': 'knn-2021-06-07-20-34-08-386', 'NVIDIA_REQUIRE_CUDA': 'cuda>=9.0', 'TRAINING_JOB_ARN': 'arn:aws:sagemaker:us-west-2:688520471316:training-job/knn-2021-06-07-20-34-08-386', 'AWS_CONTAINER_CREDENTIALS_RELATIVE_URI': '/v2/credentials/328b653a-ca7d-4b51-bc25-fd4c495ba9d5', 'CANONICAL_ENVROOT': '/opt/amazon', 'PYTHONUNBUFFERED': 'TRUE', 'NVIDIA_VISIBLE_DEVICES': 'void', 'LD_LIBRARY_PATH': '/opt/amazon/lib/python3.7/site-packages/cv2/../../../../lib:/usr/local/nvidia/lib64:/opt/amazon/lib', 'NVIDIA_DRIVER_CAPABILITIES': 'compute,utility', 'AWS_EXECUTION_ENV': 'AWS_ECS_EC2', 'PATH': '/opt/amazon/bin:/usr/local/nvidia/bin:/usr/local/sbin:/usr/local/bin:/usr/sbin:/usr/bin:/sbin:/bin:/opt/amazon/bin:/opt/amazon/bin', 'PWD': '/', 'LANG': 'en_US.utf8', 'AWS_REGION': 'us-west-2', 'SAGEMAKER_METRICS_DIRECTORY': '/opt/ml/output/metrics/sagemaker', 'HOME': '/root', 'SHLVL': '1', 'PROTOCOL_BUFFERS_PYTHON_IMPLEMENTATION_VERSION': '2', 'OMP_NUM_THREADS': '4', 'DMLC_INTERFACE': 'eth0', 'ECS_CONTAINER_METADATA_URI': 'http://169.254.170.2/v3/89bcb2c6-7dd6-4a5a-b240-034813e673c4', 'ECS_CONTAINER_METADATA_URI_V4': 'http://169.254.170.2/v4/89bcb2c6-7dd6-4a5a-b240-034813e673c4', 'SAGEMAKER_HTTP_PORT': '8080', 'SAGEMAKER_DATA_PATH': '/opt/ml'}\u001b[0m\n",
      "\u001b[34m[06/07/2021 20:39:00 INFO 140156949829440] envs={'ENVROOT': '/opt/amazon', 'PROTOCOL_BUFFERS_PYTHON_IMPLEMENTATION': 'cpp', 'HOSTNAME': 'ip-10-0-130-194.us-west-2.compute.internal', 'TRAINING_JOB_NAME': 'knn-2021-06-07-20-34-08-386', 'NVIDIA_REQUIRE_CUDA': 'cuda>=9.0', 'TRAINING_JOB_ARN': 'arn:aws:sagemaker:us-west-2:688520471316:training-job/knn-2021-06-07-20-34-08-386', 'AWS_CONTAINER_CREDENTIALS_RELATIVE_URI': '/v2/credentials/328b653a-ca7d-4b51-bc25-fd4c495ba9d5', 'CANONICAL_ENVROOT': '/opt/amazon', 'PYTHONUNBUFFERED': 'TRUE', 'NVIDIA_VISIBLE_DEVICES': 'void', 'LD_LIBRARY_PATH': '/opt/amazon/lib/python3.7/site-packages/cv2/../../../../lib:/usr/local/nvidia/lib64:/opt/amazon/lib', 'NVIDIA_DRIVER_CAPABILITIES': 'compute,utility', 'AWS_EXECUTION_ENV': 'AWS_ECS_EC2', 'PATH': '/opt/amazon/bin:/usr/local/nvidia/bin:/usr/local/sbin:/usr/local/bin:/usr/sbin:/usr/bin:/sbin:/bin:/opt/amazon/bin:/opt/amazon/bin', 'PWD': '/', 'LANG': 'en_US.utf8', 'AWS_REGION': 'us-west-2', 'SAGEMAKER_METRICS_DIRECTORY': '/opt/ml/output/metrics/sagemaker', 'HOME': '/root', 'SHLVL': '1', 'PROTOCOL_BUFFERS_PYTHON_IMPLEMENTATION_VERSION': '2', 'OMP_NUM_THREADS': '4', 'DMLC_INTERFACE': 'eth0', 'ECS_CONTAINER_METADATA_URI': 'http://169.254.170.2/v3/89bcb2c6-7dd6-4a5a-b240-034813e673c4', 'ECS_CONTAINER_METADATA_URI_V4': 'http://169.254.170.2/v4/89bcb2c6-7dd6-4a5a-b240-034813e673c4', 'SAGEMAKER_HTTP_PORT': '8080', 'SAGEMAKER_DATA_PATH': '/opt/ml', 'DMLC_ROLE': 'server', 'DMLC_PS_ROOT_URI': '10.0.130.194', 'DMLC_PS_ROOT_PORT': '9000', 'DMLC_NUM_SERVER': '1', 'DMLC_NUM_WORKER': '1'}\u001b[0m\n",
      "\u001b[34m[06/07/2021 20:39:00 INFO 140156949829440] Environment: {'ENVROOT': '/opt/amazon', 'PROTOCOL_BUFFERS_PYTHON_IMPLEMENTATION': 'cpp', 'HOSTNAME': 'ip-10-0-130-194.us-west-2.compute.internal', 'TRAINING_JOB_NAME': 'knn-2021-06-07-20-34-08-386', 'NVIDIA_REQUIRE_CUDA': 'cuda>=9.0', 'TRAINING_JOB_ARN': 'arn:aws:sagemaker:us-west-2:688520471316:training-job/knn-2021-06-07-20-34-08-386', 'AWS_CONTAINER_CREDENTIALS_RELATIVE_URI': '/v2/credentials/328b653a-ca7d-4b51-bc25-fd4c495ba9d5', 'CANONICAL_ENVROOT': '/opt/amazon', 'PYTHONUNBUFFERED': 'TRUE', 'NVIDIA_VISIBLE_DEVICES': 'void', 'LD_LIBRARY_PATH': '/opt/amazon/lib/python3.7/site-packages/cv2/../../../../lib:/usr/local/nvidia/lib64:/opt/amazon/lib', 'NVIDIA_DRIVER_CAPABILITIES': 'compute,utility', 'AWS_EXECUTION_ENV': 'AWS_ECS_EC2', 'PATH': '/opt/amazon/bin:/usr/local/nvidia/bin:/usr/local/sbin:/usr/local/bin:/usr/sbin:/usr/bin:/sbin:/bin:/opt/amazon/bin:/opt/amazon/bin', 'PWD': '/', 'LANG': 'en_US.utf8', 'AWS_REGION': 'us-west-2', 'SAGEMAKER_METRICS_DIRECTORY': '/opt/ml/output/metrics/sagemaker', 'HOME': '/root', 'SHLVL': '1', 'PROTOCOL_BUFFERS_PYTHON_IMPLEMENTATION_VERSION': '2', 'OMP_NUM_THREADS': '4', 'DMLC_INTERFACE': 'eth0', 'ECS_CONTAINER_METADATA_URI': 'http://169.254.170.2/v3/89bcb2c6-7dd6-4a5a-b240-034813e673c4', 'ECS_CONTAINER_METADATA_URI_V4': 'http://169.254.170.2/v4/89bcb2c6-7dd6-4a5a-b240-034813e673c4', 'SAGEMAKER_HTTP_PORT': '8080', 'SAGEMAKER_DATA_PATH': '/opt/ml', 'DMLC_ROLE': 'worker', 'DMLC_PS_ROOT_URI': '10.0.130.194', 'DMLC_PS_ROOT_PORT': '9000', 'DMLC_NUM_SERVER': '1', 'DMLC_NUM_WORKER': '1'}\u001b[0m\n",
      "\u001b[34mProcess 54 is a shell:scheduler.\u001b[0m\n",
      "\u001b[34mProcess 63 is a shell:server.\u001b[0m\n",
      "\u001b[34mProcess 1 is a worker.\u001b[0m\n",
      "\u001b[34m[06/07/2021 20:39:00 INFO 140156949829440] Using default worker.\u001b[0m\n",
      "\u001b[34m[06/07/2021 20:39:00 INFO 140156949829440] Checkpoint loading and saving are disabled.\u001b[0m\n",
      "\u001b[34m[2021-06-07 20:39:00.741] [tensorio] [warning] TensorIO is already initialized; ignoring the initialization routine.\u001b[0m\n",
      "\u001b[34m[06/07/2021 20:39:00 INFO 140156949829440] nvidia-smi: took 0.035 seconds to run.\u001b[0m\n",
      "\u001b[34m[06/07/2021 20:39:00 INFO 140156949829440] nvidia-smi identified 0 GPUs.\u001b[0m\n",
      "\u001b[34m[06/07/2021 20:39:00 INFO 140156949829440] Create Store: dist_async\u001b[0m\n",
      "\u001b[34m[20:39:00] ../src/base.cc:47: Please install cuda driver for GPU use.  No cuda driver detected.\u001b[0m\n",
      "\u001b[34m[20:39:01] ../src/base.cc:47: Please install cuda driver for GPU use.  No cuda driver detected.\u001b[0m\n",
      "\u001b[34m[20:39:01] ../src/base.cc:47: Please install cuda driver for GPU use.  No cuda driver detected.\u001b[0m\n",
      "\u001b[34m[06/07/2021 20:39:01 ERROR 140156949829440] nvidia-smi: failed to run (127): b'/bin/sh: nvidia-smi: command not found'/\u001b[0m\n",
      "\u001b[34m[06/07/2021 20:39:01 WARNING 140156949829440] Could not determine free memory in MB for GPU device with ID (0).\u001b[0m\n",
      "\u001b[34m[06/07/2021 20:39:01 INFO 140156949829440] Using per-worker sample size = 200000 (Available virtual memory = 30860005376 bytes, GPU free memory = 0 bytes, number of workers = 1). If an out-of-memory error occurs, choose a larger instance type, use dimension reduction, decrease sample_size, and/or decrease mini_batch_size.\u001b[0m\n",
      "\u001b[34m[06/07/2021 20:39:01 INFO 140156949829440] Starting cluster...\u001b[0m\n",
      "\u001b[34m[06/07/2021 20:39:01 INFO 140154537764608] concurrency model: async\u001b[0m\n",
      "\u001b[34m[06/07/2021 20:39:01 INFO 140156949829440] ...Cluster started\u001b[0m\n",
      "\u001b[34m[06/07/2021 20:39:01 INFO 140154537764608] masquerade (NAT) address: None\u001b[0m\n",
      "\u001b[34m[06/07/2021 20:39:01 INFO 140156949829440] Verifying connection to 0 peer cluster(s)...\u001b[0m\n",
      "\u001b[34m[06/07/2021 20:39:01 INFO 140154537764608] passive ports: None\u001b[0m\n",
      "\u001b[34m[06/07/2021 20:39:01 INFO 140156949829440] ...Verified connection to 0 peer cluster(s)\u001b[0m\n",
      "\u001b[34m#metrics {\"StartTime\": 1623098341.6861846, \"EndTime\": 1623098341.686226, \"Dimensions\": {\"Algorithm\": \"AWS/KNN\", \"Host\": \"algo-1\", \"Operation\": \"training\", \"Meta\": \"init_train_data_iter\"}, \"Metrics\": {\"Total Records Seen\": {\"sum\": 0.0, \"count\": 1, \"min\": 0, \"max\": 0}, \"Total Batches Seen\": {\"sum\": 0.0, \"count\": 1, \"min\": 0, \"max\": 0}, \"Max Records Seen Between Resets\": {\"sum\": 0.0, \"count\": 1, \"min\": 0, \"max\": 0}, \"Max Batches Seen Between Resets\": {\"sum\": 0.0, \"count\": 1, \"min\": 0, \"max\": 0}, \"Reset Count\": {\"sum\": 0.0, \"count\": 1, \"min\": 0, \"max\": 0}, \"Number of Records Since Last Reset\": {\"sum\": 0.0, \"count\": 1, \"min\": 0, \"max\": 0}, \"Number of Batches Since Last Reset\": {\"sum\": 0.0, \"count\": 1, \"min\": 0, \"max\": 0}}}\u001b[0m\n",
      "\u001b[34m[06/07/2021 20:39:01 INFO 140154537764608] >>> starting FTP server on 0.0.0.0:8999, pid=1 <<<\n",
      "\u001b[0m\n",
      "\u001b[34m[2021-06-07 20:39:01.695] [tensorio] [info] epoch_stats={\"data_pipeline\": \"/opt/ml/input/data/train\", \"epoch\": 0, \"duration\": 968, \"num_examples\": 1, \"num_bytes\": 2420000}\u001b[0m\n",
      "\u001b[34m[2021-06-07 20:39:02.582] [tensorio] [info] epoch_stats={\"data_pipeline\": \"/opt/ml/input/data/train\", \"epoch\": 1, \"duration\": 886, \"num_examples\": 105, \"num_bytes\": 253088440}\u001b[0m\n",
      "\u001b[34m[06/07/2021 20:39:02 INFO 140156949829440] #progress_metric: host=algo-1, completed 100.0 % of epochs\u001b[0m\n",
      "\u001b[34m#metrics {\"StartTime\": 1623098341.695841, \"EndTime\": 1623098342.670531, \"Dimensions\": {\"Algorithm\": \"AWS/KNN\", \"Host\": \"algo-1\", \"Operation\": \"training\", \"epoch\": 0, \"Meta\": \"training_data_iter\"}, \"Metrics\": {\"Total Records Seen\": {\"sum\": 522910.0, \"count\": 1, \"min\": 522910, \"max\": 522910}, \"Total Batches Seen\": {\"sum\": 105.0, \"count\": 1, \"min\": 105, \"max\": 105}, \"Max Records Seen Between Resets\": {\"sum\": 522910.0, \"count\": 1, \"min\": 522910, \"max\": 522910}, \"Max Batches Seen Between Resets\": {\"sum\": 105.0, \"count\": 1, \"min\": 105, \"max\": 105}, \"Reset Count\": {\"sum\": 1.0, \"count\": 1, \"min\": 1, \"max\": 1}, \"Number of Records Since Last Reset\": {\"sum\": 522910.0, \"count\": 1, \"min\": 522910, \"max\": 522910}, \"Number of Batches Since Last Reset\": {\"sum\": 105.0, \"count\": 1, \"min\": 105, \"max\": 105}}}\n",
      "\u001b[0m\n",
      "\u001b[34m[06/07/2021 20:39:02 INFO 140156949829440] #throughput_metric: host=algo-1, train throughput=536420.4464391188 records/second\u001b[0m\n",
      "\u001b[34m[06/07/2021 20:39:02 INFO 140156949829440] Getting reservoir sample from algo-1...\u001b[0m\n",
      "\u001b[34m[06/07/2021 20:39:02 INFO 140154537764608] 10.0.130.194:58016-[] FTP session opened (connect)\u001b[0m\n",
      "\u001b[34m[06/07/2021 20:39:02 INFO 140154537764608] 10.0.130.194:58016-[anonymous] USER 'anonymous' logged in.\u001b[0m\n",
      "\u001b[34m[06/07/2021 20:39:02 INFO 140154537764608] 10.0.130.194:58016-[anonymous] RETR /opt/rs completed=1 bytes=45600300 seconds=0.054\u001b[0m\n",
      "\u001b[34m[06/07/2021 20:39:02 INFO 140154537764608] 10.0.130.194:58016-[anonymous] FTP session closed (disconnect).\u001b[0m\n",
      "\u001b[34m[06/07/2021 20:39:02 INFO 140156949829440] ...Got reservoir sample from algo-1: data=(200000, 54), labels=(200000,), NaNs=0\u001b[0m\n",
      "\u001b[34m[06/07/2021 20:39:02 INFO 140156949829440] Training index...\u001b[0m\n",
      "\u001b[34m[06/07/2021 20:39:02 INFO 140156949829440] ...Finished training index in 0 second(s)\u001b[0m\n",
      "\u001b[34m[06/07/2021 20:39:02 INFO 140156949829440] Adding data to index...\u001b[0m\n",
      "\u001b[34m[06/07/2021 20:39:02 INFO 140156949829440] ...Finished adding data to index in 0 second(s)\u001b[0m\n",
      "\u001b[34m#metrics {\"StartTime\": 1623098340.7270203, \"EndTime\": 1623098342.9243073, \"Dimensions\": {\"Algorithm\": \"AWS/KNN\", \"Host\": \"algo-1\", \"Operation\": \"training\"}, \"Metrics\": {\"initialize.time\": {\"sum\": 929.7022819519043, \"count\": 1, \"min\": 929.7022819519043, \"max\": 929.7022819519043}, \"epochs\": {\"sum\": 1.0, \"count\": 1, \"min\": 1, \"max\": 1}, \"update.time\": {\"sum\": 974.402904510498, \"count\": 1, \"min\": 974.402904510498, \"max\": 974.402904510498}, \"finalize.time\": {\"sum\": 223.8941192626953, \"count\": 1, \"min\": 223.8941192626953, \"max\": 223.8941192626953}, \"model.serialize.time\": {\"sum\": 29.569625854492188, \"count\": 1, \"min\": 29.569625854492188, \"max\": 29.569625854492188}}}\n",
      "\u001b[0m\n",
      "\u001b[34m[06/07/2021 20:39:02 INFO 140156949829440] Searching index...\u001b[0m\n",
      "\u001b[34m[06/07/2021 20:39:03 INFO 140156949829440] ...Done searching index in 0 second(s)\u001b[0m\n",
      "\u001b[34m[06/07/2021 20:39:04 INFO 140156949829440] Searching index...\u001b[0m\n",
      "\u001b[34m[06/07/2021 20:39:05 INFO 140156949829440] ...Done searching index in 1 second(s)\u001b[0m\n",
      "\u001b[34m[06/07/2021 20:39:05 INFO 140156949829440] Searching index...\u001b[0m\n",
      "\u001b[34m[06/07/2021 20:39:05 INFO 140156949829440] ...Done searching index in 0 second(s)\u001b[0m\n",
      "\u001b[34m[06/07/2021 20:39:06 INFO 140156949829440] Searching index...\u001b[0m\n",
      "\u001b[34m[06/07/2021 20:39:06 INFO 140156949829440] ...Done searching index in 0 second(s)\u001b[0m\n",
      "\u001b[34m[06/07/2021 20:39:06 INFO 140156949829440] Searching index...\u001b[0m\n",
      "\u001b[34m[06/07/2021 20:39:07 INFO 140156949829440] ...Done searching index in 0 second(s)\u001b[0m\n",
      "\u001b[34m[06/07/2021 20:39:07 INFO 140156949829440] Searching index...\u001b[0m\n",
      "\u001b[34m[06/07/2021 20:39:08 INFO 140156949829440] ...Done searching index in 0 second(s)\u001b[0m\n",
      "\u001b[34m[06/07/2021 20:39:08 INFO 140156949829440] Searching index...\u001b[0m\n",
      "\u001b[34m[06/07/2021 20:39:08 INFO 140156949829440] ...Done searching index in 0 second(s)\u001b[0m\n",
      "\u001b[34m[06/07/2021 20:39:08 INFO 140156949829440] Searching index...\u001b[0m\n",
      "\u001b[34m[06/07/2021 20:39:09 INFO 140156949829440] ...Done searching index in 0 second(s)\u001b[0m\n",
      "\u001b[34m[06/07/2021 20:39:09 INFO 140156949829440] Searching index...\u001b[0m\n",
      "\u001b[34m[06/07/2021 20:39:10 INFO 140156949829440] ...Done searching index in 0 second(s)\u001b[0m\n",
      "\u001b[34m[06/07/2021 20:39:10 INFO 140156949829440] Searching index...\u001b[0m\n",
      "\u001b[34m[06/07/2021 20:39:10 INFO 140156949829440] ...Done searching index in 0 second(s)\u001b[0m\n",
      "\u001b[34m[06/07/2021 20:39:11 INFO 140156949829440] Searching index...\u001b[0m\n",
      "\u001b[34m[06/07/2021 20:39:11 INFO 140156949829440] ...Done searching index in 0 second(s)\u001b[0m\n",
      "\u001b[34m[06/07/2021 20:39:11 INFO 140156949829440] Searching index...\u001b[0m\n",
      "\u001b[34m[06/07/2021 20:39:12 INFO 140156949829440] ...Done searching index in 0 second(s)\u001b[0m\n",
      "\u001b[34m[2021-06-07 20:39:12.183] [tensorio] [info] epoch_stats={\"data_pipeline\": \"/opt/ml/input/data/test\", \"epoch\": 0, \"duration\": 11441, \"num_examples\": 12, \"num_bytes\": 28121368}\u001b[0m\n",
      "\u001b[34m#metrics {\"StartTime\": 1623098342.9248753, \"EndTime\": 1623098352.196987, \"Dimensions\": {\"Algorithm\": \"AWS/KNN\", \"Host\": \"algo-1\", \"Operation\": \"training\", \"Meta\": \"test_data_iter\"}, \"Metrics\": {\"Total Records Seen\": {\"sum\": 58102.0, \"count\": 1, \"min\": 58102, \"max\": 58102}, \"Total Batches Seen\": {\"sum\": 12.0, \"count\": 1, \"min\": 12, \"max\": 12}, \"Max Records Seen Between Resets\": {\"sum\": 58102.0, \"count\": 1, \"min\": 58102, \"max\": 58102}, \"Max Batches Seen Between Resets\": {\"sum\": 12.0, \"count\": 1, \"min\": 12, \"max\": 12}, \"Reset Count\": {\"sum\": 0.0, \"count\": 1, \"min\": 0, \"max\": 0}, \"Number of Records Since Last Reset\": {\"sum\": 58102.0, \"count\": 1, \"min\": 58102, \"max\": 58102}, \"Number of Batches Since Last Reset\": {\"sum\": 12.0, \"count\": 1, \"min\": 12, \"max\": 12}}}\n",
      "\u001b[0m\n",
      "\u001b[34m[06/07/2021 20:39:12 INFO 140156949829440] #test_score (algo-1) : ('accuracy', 0.9221369316030429)\u001b[0m\n",
      "\u001b[34m[06/07/2021 20:39:12 INFO 140156949829440] #test_score (algo-1) : ('macro_f_1.000', nan)\u001b[0m\n",
      "\u001b[34m[06/07/2021 20:39:12 INFO 140156949829440] #quality_metric: host=algo-1, test accuracy <score>=0.9221369316030429\u001b[0m\n",
      "\u001b[34m[06/07/2021 20:39:12 INFO 140156949829440] #quality_metric: host=algo-1, test macro_f_1.000 <score>=nan\u001b[0m\n",
      "\u001b[34m[06/07/2021 20:39:12 INFO 140154537764608] >>> shutting down FTP server, 0 socket(s), pid=1 <<<\u001b[0m\n",
      "\u001b[34m#metrics {\"StartTime\": 1623098342.9243927, \"EndTime\": 1623098352.2569795, \"Dimensions\": {\"Algorithm\": \"AWS/KNN\", \"Host\": \"algo-1\", \"Operation\": \"training\"}, \"Metrics\": {\"setuptime\": {\"sum\": 14.620542526245117, \"count\": 1, \"min\": 14.620542526245117, \"max\": 14.620542526245117}, \"totaltime\": {\"sum\": 11960.912942886353, \"count\": 1, \"min\": 11960.912942886353, \"max\": 11960.912942886353}}}\n",
      "\u001b[0m\n",
      "\n",
      "2021-06-07 20:39:32 Uploading - Uploading generated training model\n",
      "2021-06-07 20:39:32 Completed - Training job completed\n",
      "ProfilerReport-1623098048: NoIssuesFound\n",
      "Training seconds: 191\n",
      "Billable seconds: 191\n"
     ]
    }
   ],
   "source": [
    "hyperparams = {\"feature_dim\": 54, \"k\": 10, \"sample_size\": 200000, \"predictor_type\": \"classifier\"}\n",
    "output_path = f\"s3://{bucket}/{prefix}/default_example/output\"\n",
    "knn_estimator = trained_estimator_from_hyperparams(\n",
    "    s3_train_data, hyperparams, output_path, s3_test_data=s3_test_data\n",
    ")"
   ]
  },
  {
   "cell_type": "markdown",
   "id": "negative-channel",
   "metadata": {
    "papermill": {
     "duration": 0.024592,
     "end_time": "2021-06-07T00:24:17.216116",
     "exception": false,
     "start_time": "2021-06-07T00:24:17.191524",
     "status": "completed"
    },
    "tags": []
   },
   "source": [
    "Notice that we mentioned a test set in the training job. When a test set is provided the training job doesn't just produce a model but also applies it to the test set and reports the accuracy. In the logs you can view the accuracy of the model on the test set."
   ]
  },
  {
   "cell_type": "markdown",
   "id": "incredible-nevada",
   "metadata": {
    "papermill": {
     "duration": 0.024618,
     "end_time": "2021-06-07T00:24:17.265632",
     "exception": false,
     "start_time": "2021-06-07T00:24:17.241014",
     "status": "completed"
    },
    "tags": []
   },
   "source": [
    "### Setting up the endpoint\n",
    "\n",
    "Now that we have a trained model, we are ready to run inference. The **knn_estimator** object above contains all the information we need for hosting the model. Below we provide a convenience function that given an estimator, sets up and endpoint that hosts the model. Other than the estimator object, we provide it with a name (string) for the estimator, and an **instance_type**. The **instance_type** is the machine type that will host the model. It is not restricted in any way by the parameter settings of the training job."
   ]
  },
  {
   "cell_type": "code",
   "execution_count": 12,
   "id": "marine-wayne",
   "metadata": {
    "execution": {
     "iopub.execute_input": "2021-06-07T00:24:17.318819Z",
     "iopub.status.busy": "2021-06-07T00:24:17.318378Z",
     "iopub.status.idle": "2021-06-07T00:24:17.320257Z",
     "shell.execute_reply": "2021-06-07T00:24:17.320598Z"
    },
    "papermill": {
     "duration": 0.030773,
     "end_time": "2021-06-07T00:24:17.320715",
     "exception": false,
     "start_time": "2021-06-07T00:24:17.289942",
     "status": "completed"
    },
    "tags": []
   },
   "outputs": [],
   "source": [
    "def predictor_from_estimator(knn_estimator, estimator_name, instance_type, endpoint_name=None):\n",
    "    knn_predictor = knn_estimator.deploy(\n",
    "        initial_instance_count=1, instance_type=instance_type, endpoint_name=endpoint_name\n",
    "    )\n",
    "    knn_predictor.serializer = CSVSerializer()\n",
    "    knn_predictor.deserializer = JSONDeserializer()\n",
    "    return knn_predictor"
   ]
  },
  {
   "cell_type": "code",
   "execution_count": 13,
   "id": "compound-shepherd",
   "metadata": {
    "execution": {
     "iopub.execute_input": "2021-06-07T00:24:17.374471Z",
     "iopub.status.busy": "2021-06-07T00:24:17.374031Z",
     "iopub.status.idle": "2021-06-07T00:33:49.682921Z",
     "shell.execute_reply": "2021-06-07T00:33:49.683276Z"
    },
    "papermill": {
     "duration": 572.338358,
     "end_time": "2021-06-07T00:33:49.683406",
     "exception": false,
     "start_time": "2021-06-07T00:24:17.345048",
     "status": "completed"
    },
    "tags": []
   },
   "outputs": [
    {
     "name": "stdout",
     "output_type": "stream",
     "text": [
      "setting up the endpoint..\n",
      "-----------!"
     ]
    }
   ],
   "source": [
    "import time\n",
    "\n",
    "instance_type = \"ml.m4.xlarge\"\n",
    "model_name = \"knn_%s\" % instance_type\n",
    "endpoint_name = \"knn-ml-m4-xlarge-%s\" % (str(time.time()).replace(\".\", \"-\"))\n",
    "print(\"setting up the endpoint..\")\n",
    "predictor = predictor_from_estimator(\n",
    "    knn_estimator, model_name, instance_type, endpoint_name=endpoint_name\n",
    ")"
   ]
  },
  {
   "cell_type": "markdown",
   "id": "outside-convergence",
   "metadata": {
    "papermill": {
     "duration": 0.028429,
     "end_time": "2021-06-07T00:33:49.740597",
     "exception": false,
     "start_time": "2021-06-07T00:33:49.712168",
     "status": "completed"
    },
    "tags": []
   },
   "source": [
    "### Inference\n",
    "\n",
    "Now that we have our predictor, let's use it on our test dataset. The following code runs on the test dataset, computes the accuracy and the average latency. It splits up the data into 100 batches, each of size roughly 500. Then, each batch is given to the inference service to obtain predictions. Once we have all predictions, we compute their accuracy given the true labels of the test set.\n"
   ]
  },
  {
   "cell_type": "code",
   "execution_count": 14,
   "id": "aggressive-parcel",
   "metadata": {
    "execution": {
     "iopub.execute_input": "2021-06-07T00:33:49.818188Z",
     "iopub.status.busy": "2021-06-07T00:33:49.817716Z",
     "iopub.status.idle": "2021-06-07T00:34:16.140047Z",
     "shell.execute_reply": "2021-06-07T00:34:16.140368Z"
    },
    "papermill": {
     "duration": 26.371467,
     "end_time": "2021-06-07T00:34:16.140505",
     "exception": false,
     "start_time": "2021-06-07T00:33:49.769038",
     "status": "completed"
    },
    "tags": []
   },
   "outputs": [
    {
     "name": "stdout",
     "output_type": "stream",
     "text": [
      "data split into 100 batches, of size 582.\n",
      "time required for predicting 58102 data point: 27.97 seconds\n",
      "accuracy of model: 92.2%\n"
     ]
    }
   ],
   "source": [
    "batches = np.array_split(test_features, 100)\n",
    "print(f\"data split into 100 batches, of size {batches[0].shape[0]}.\")\n",
    "\n",
    "# obtain an np array with the predictions for the entire test set\n",
    "start_time = time.time()\n",
    "predictions = []\n",
    "for batch in batches:\n",
    "    result = predictor.predict(batch, initial_args={\"ContentType\": \"text/csv\"})\n",
    "    cur_predictions = np.array(\n",
    "        [result[\"predictions\"][i][\"predicted_label\"] for i in range(len(result[\"predictions\"]))]\n",
    "    )\n",
    "    predictions.append(cur_predictions)\n",
    "predictions = np.concatenate(predictions)\n",
    "run_time = time.time() - start_time\n",
    "\n",
    "test_size = test_labels.shape[0]\n",
    "num_correct = sum(predictions == test_labels)\n",
    "accuracy = num_correct / float(test_size)\n",
    "print(\"time required for predicting %d data point: %.2f seconds\" % (test_size, run_time))\n",
    "print(\"accuracy of model: %.1f%%\" % (accuracy * 100))"
   ]
  },
  {
   "cell_type": "markdown",
   "id": "alive-pottery",
   "metadata": {
    "papermill": {
     "duration": 0.029053,
     "end_time": "2021-06-07T00:34:16.199007",
     "exception": false,
     "start_time": "2021-06-07T00:34:16.169954",
     "status": "completed"
    },
    "tags": []
   },
   "source": [
    "### Deleting the endpoint\n",
    "\n",
    "We're now done with the example except a final clean-up act. By setting up the endpoint we started a machine in the cloud and as long as it's not deleted the machine is still up and we are paying for it. Once the endpoint is no longer necessary, we delete it. The following code does exactly that."
   ]
  },
  {
   "cell_type": "code",
   "execution_count": 15,
   "id": "pressed-treat",
   "metadata": {
    "execution": {
     "iopub.execute_input": "2021-06-07T00:34:16.264249Z",
     "iopub.status.busy": "2021-06-07T00:34:16.263821Z",
     "iopub.status.idle": "2021-06-07T00:34:16.330957Z",
     "shell.execute_reply": "2021-06-07T00:34:16.331307Z"
    },
    "papermill": {
     "duration": 0.103614,
     "end_time": "2021-06-07T00:34:16.331433",
     "exception": false,
     "start_time": "2021-06-07T00:34:16.227819",
     "status": "completed"
    },
    "tags": []
   },
   "outputs": [
    {
     "name": "stdout",
     "output_type": "stream",
     "text": [
      "Deleted knn-ml-m4-xlarge-1623098392-2259111\n"
     ]
    }
   ],
   "source": [
    "def delete_endpoint(predictor):\n",
    "    try:\n",
    "        boto3.client(\"sagemaker\").delete_endpoint(EndpointName=predictor.endpoint_name)\n",
    "        print(f\"Deleted {predictor.endpoint_name}\")\n",
    "    except:\n",
    "        print(f\"Already deleted: {predictor.endpoint_name}\")\n",
    "\n",
    "\n",
    "delete_endpoint(predictor)"
   ]
  },
  {
   "cell_type": "markdown",
   "id": "blessed-subsection",
   "metadata": {
    "papermill": {
     "duration": 0.029666,
     "end_time": "2021-06-07T00:34:16.391273",
     "exception": false,
     "start_time": "2021-06-07T00:34:16.361607",
     "status": "completed"
    },
    "tags": []
   },
   "source": [
    "### Conclusion\n",
    "\n",
    "We've seen how to both train and host an inference endpoint for kNN. With absolutely zero tuning we obtain an accuracy of 92.2% on the covtype dataset. As a point of reference for grasping the prediction power of the kNN model, a linear model will achieve roughly 72.8% accuracy. There are several advanced issues that we did not discuss. In the next section we will deep-dive into issues such as run-time / latency, and tuning the model while taking into account both the accuracy and its run-time efficiency."
   ]
  },
  {
   "cell_type": "markdown",
   "id": "jewish-petroleum",
   "metadata": {
    "papermill": {
     "duration": 0.029592,
     "end_time": "2021-06-07T00:34:16.450460",
     "exception": false,
     "start_time": "2021-06-07T00:34:16.420868",
     "status": "completed"
    },
    "tags": []
   },
   "source": [
    "## Part 2: Deep dive, Tuning kNN \n",
    "\n",
    "Now that we managed to run a simple example we move to a more advanced one. We keep the objective of classifying the covtype data set but now see how to explore the different options of the kNN algorithm. In what follows we will review different solvers for the kNN problem, different instance types for hosting the model, and a verbose prediction option that allows tuning the k value of the model after training"
   ]
  },
  {
   "cell_type": "markdown",
   "id": "comprehensive-teaching",
   "metadata": {
    "papermill": {
     "duration": 0.029475,
     "end_time": "2021-06-07T00:34:16.509754",
     "exception": false,
     "start_time": "2021-06-07T00:34:16.480279",
     "status": "completed"
    },
    "tags": []
   },
   "source": [
    "### Train and Predict in Amazon SageMaker\n",
    "\n",
    "Below we copy, for convenience the function we set for training an estimator. The function has an optional value of the location of a test set. If one is given, the training job will apply the model on a test set and report the accuracy in the logs. This way, it is possible to obtain the quality of a model without setting up an endpoint and applying it to a test set. Though the function accepts hyper-parameters for the training job, we mention two hyper-parameters that we fixed inside the function.\n",
    "* **instance_count**: This is the number of machines used for the training process. For large datasets we may want to use multiple machines. In our case the entire dataset is rather small (~100MB) so we use only a single machine.\n",
    "* **instance_type**: This is the machine type used for training. We use the recommended type for training of 'ml.m5.2xlarge'. In cases where we have a large test set, it may be preferable to use a GPU machine or a CPU compute optimized machine such 'ml.c5.2xlarge' as the compute resource required for running inference on the test set may be considerable.\n"
   ]
  },
  {
   "cell_type": "code",
   "execution_count": 16,
   "id": "damaged-living",
   "metadata": {
    "execution": {
     "iopub.execute_input": "2021-06-07T00:34:16.574744Z",
     "iopub.status.busy": "2021-06-07T00:34:16.574188Z",
     "iopub.status.idle": "2021-06-07T00:34:16.576301Z",
     "shell.execute_reply": "2021-06-07T00:34:16.575872Z"
    },
    "papermill": {
     "duration": 0.037197,
     "end_time": "2021-06-07T00:34:16.576395",
     "exception": false,
     "start_time": "2021-06-07T00:34:16.539198",
     "status": "completed"
    },
    "tags": []
   },
   "outputs": [],
   "source": [
    "import matplotlib.pyplot as plt\n",
    "\n",
    "import sagemaker\n",
    "from sagemaker import get_execution_role\n",
    "from sagemaker.serializers import CSVSerializer\n",
    "from sagemaker.deserializers import JSONDeserializer\n",
    "\n",
    "\n",
    "from sagemaker.amazon.amazon_estimator import get_image_uri\n",
    "\n",
    "\n",
    "def trained_estimator_from_hyperparams(s3_train_data, hyperparams, output_path, s3_test_data=None):\n",
    "    \"\"\"\n",
    "    Create an Estimator from the given hyperparams, fit to training data,\n",
    "    and return a deployed predictor\n",
    "\n",
    "    \"\"\"\n",
    "\n",
    "    # set up the estimator\n",
    "    knn = sagemaker.estimator.Estimator(\n",
    "        get_image_uri(boto3.Session().region_name, \"knn\"),\n",
    "        get_execution_role(),\n",
    "        instance_count=1,\n",
    "        instance_type=\"ml.m5.2xlarge\",\n",
    "        output_path=output_path,\n",
    "        sagemaker_session=sagemaker.Session(),\n",
    "    )\n",
    "    knn.set_hyperparameters(**hyperparams)\n",
    "\n",
    "    # train a model. fit_input contains the locations of the train and test data\n",
    "    fit_input = {\"train\": s3_train_data}\n",
    "    if s3_test_data is not None:\n",
    "        fit_input[\"test\"] = s3_test_data\n",
    "    knn.fit(fit_input)\n",
    "    return knn\n"
   ]
  },
  {
   "cell_type": "markdown",
   "id": "italic-patient",
   "metadata": {
    "papermill": {
     "duration": 0.029428,
     "end_time": "2021-06-07T00:34:16.635483",
     "exception": false,
     "start_time": "2021-06-07T00:34:16.606055",
     "status": "completed"
    },
    "tags": []
   },
   "source": [
    "The function above returns the estimator object after running the **fit** method. The object contains all the information needed to set up an endpoint. The function below gets as input a fitted estimator and uses it to set up an endpoint. An important parameter this function receives is **instance_type**. The endpoint can be set on any machine type, regardless of the one used in training. \n",
    "\n",
    "In kNN, inference can be somewhat slow as it involves computing the distance from the given feature vector to all data points. For that reason, one might want to set up a compute optimized endpoint either on CPU (c5.xlarge) or GPU (p2.xlarge). In what follows we will set endpoints for both machine types and compare their performances."
   ]
  },
  {
   "cell_type": "code",
   "execution_count": 17,
   "id": "tired-glenn",
   "metadata": {
    "execution": {
     "iopub.execute_input": "2021-06-07T00:34:16.698546Z",
     "iopub.status.busy": "2021-06-07T00:34:16.698004Z",
     "iopub.status.idle": "2021-06-07T00:34:16.700137Z",
     "shell.execute_reply": "2021-06-07T00:34:16.699686Z"
    },
    "papermill": {
     "duration": 0.035274,
     "end_time": "2021-06-07T00:34:16.700230",
     "exception": false,
     "start_time": "2021-06-07T00:34:16.664956",
     "status": "completed"
    },
    "tags": []
   },
   "outputs": [],
   "source": [
    "def predictor_from_hyperparams(knn_estimator, estimator_name, instance_type, endpoint_name=None):\n",
    "    knn_predictor = knn_estimator.deploy(\n",
    "        initial_instance_count=1, instance_type=instance_type, endpoint_name=endpoint_name\n",
    "    )\n",
    "    knn_predictor.serializer = CSVSerializer()\n",
    "    knn_predictor.deserializer = JSONDeserializer()\n",
    "    return knn_predictor"
   ]
  },
  {
   "cell_type": "markdown",
   "id": "antique-paradise",
   "metadata": {
    "papermill": {
     "duration": 0.029531,
     "end_time": "2021-06-07T00:34:16.759455",
     "exception": false,
     "start_time": "2021-06-07T00:34:16.729924",
     "status": "completed"
    },
    "tags": []
   },
   "source": [
    "### Launching the Training Jobs\n",
    "\n",
    "We're now ready to launch the training jobs. We'll train two different models, based on two different [FAISS indexes](https://docs.aws.amazon.com/sagemaker/latest/dg/kNN_hyperparameters.html). One will have a **IndexFlatL2** index, meaning it will find the nearest neighbors with a brute force approach. The other will use an **IndexIVFPQ** index that both uses a cell-probe method to avoid computing all the distances, and a product quantization method that improves the run-time of each distance calculation. For both classifiers, we use the L2 distance. It's also possible to use cosine distance but we do not explore that option here. Intuitively, the first index is accurate but may suffer from larger latencies / slower throughput. The second index is faster but may give less accurate responses, resulting in a lower accuracy/F1 score. \n",
    "\n",
    "We stop to mention an important parameter for Amazon SageMaker kNN, the **sample_size**. This parameter determines how many points from the data set should be used for building the model. Using all the data points is tempting and definitely can't hurt the quality of the outputs but is often either infeasible or simply too costly. Moreover, it can often be unnecessary in the sense that you may get the same accuracy with 200K points as you would with 2M points. In that case, there is simply no need to build a model with 2M points. In this example we use a sample of 200K points out of the potential ~450K in the training set."
   ]
  },
  {
   "cell_type": "code",
   "execution_count": 18,
   "id": "revised-melissa",
   "metadata": {
    "collapsed": true,
    "execution": {
     "iopub.execute_input": "2021-06-07T00:34:16.829997Z",
     "iopub.status.busy": "2021-06-07T00:34:16.829499Z",
     "iopub.status.idle": "2021-06-07T00:39:29.383212Z",
     "shell.execute_reply": "2021-06-07T00:39:29.382807Z"
    },
    "jupyter": {
     "outputs_hidden": true
    },
    "papermill": {
     "duration": 312.594217,
     "end_time": "2021-06-07T00:39:29.383325",
     "exception": false,
     "start_time": "2021-06-07T00:34:16.789108",
     "status": "completed"
    },
    "scrolled": true,
    "tags": []
   },
   "outputs": [
    {
     "name": "stderr",
     "output_type": "stream",
     "text": [
      "The method get_image_uri has been renamed in sagemaker>=2.\n",
      "See: https://sagemaker.readthedocs.io/en/stable/v2.html for details.\n",
      "Defaulting to the only supported framework/algorithm version: 1. Ignoring framework/algorithm version: 1.\n"
     ]
    },
    {
     "name": "stdout",
     "output_type": "stream",
     "text": [
      "2021-06-07 20:45:53 Starting - Starting the training job...\n",
      "2021-06-07 20:46:17 Starting - Launching requested ML instancesProfilerReport-1623098753: InProgress\n",
      "......\n",
      "2021-06-07 20:47:23 Starting - Preparing the instances for training......\n",
      "2021-06-07 20:48:18 Downloading - Downloading input data...\n",
      "2021-06-07 20:48:38 Training - Downloading the training image..........\u001b[34mDocker entrypoint called with argument(s): train\u001b[0m\n",
      "\u001b[34mRunning default environment configuration script\u001b[0m\n",
      "\u001b[34m[06/07/2021 20:50:28 INFO 140640416401216] Reading default configuration from /opt/amazon/lib/python3.7/site-packages/algorithm/resources/default-conf.json: {'_kvstore': 'dist_async', '_log_level': 'info', '_num_gpus': 'auto', '_num_kv_servers': '1', '_tuning_objective_metric': '', '_faiss_index_nprobe': '5', 'epochs': '1', 'feature_dim': 'auto', 'faiss_index_ivf_nlists': 'auto', 'index_metric': 'L2', 'index_type': 'faiss.Flat', 'mini_batch_size': '5000', '_enable_profiler': 'false'}\u001b[0m\n",
      "\u001b[34m[06/07/2021 20:50:28 INFO 140640416401216] Merging with provided configuration from /opt/ml/input/config/hyperparameters.json: {'feature_dim': '54', 'predictor_type': 'classifier', 'sample_size': '200000', 'k': '100'}\u001b[0m\n",
      "\u001b[34m[06/07/2021 20:50:28 INFO 140640416401216] Final configuration: {'_kvstore': 'dist_async', '_log_level': 'info', '_num_gpus': 'auto', '_num_kv_servers': '1', '_tuning_objective_metric': '', '_faiss_index_nprobe': '5', 'epochs': '1', 'feature_dim': '54', 'faiss_index_ivf_nlists': 'auto', 'index_metric': 'L2', 'index_type': 'faiss.Flat', 'mini_batch_size': '5000', '_enable_profiler': 'false', 'predictor_type': 'classifier', 'sample_size': '200000', 'k': '100'}\u001b[0m\n",
      "\u001b[34m[06/07/2021 20:50:35 WARNING 140640416401216] Loggers have already been setup.\u001b[0m\n",
      "\u001b[34m[06/07/2021 20:50:35 INFO 140640416401216] Final configuration: {'_kvstore': 'dist_async', '_log_level': 'info', '_num_gpus': 'auto', '_num_kv_servers': '1', '_tuning_objective_metric': '', '_faiss_index_nprobe': '5', 'epochs': '1', 'feature_dim': '54', 'faiss_index_ivf_nlists': 'auto', 'index_metric': 'L2', 'index_type': 'faiss.Flat', 'mini_batch_size': '5000', '_enable_profiler': 'false', 'predictor_type': 'classifier', 'sample_size': '200000', 'k': '100'}\u001b[0m\n",
      "\u001b[34m[06/07/2021 20:50:35 WARNING 140640416401216] Loggers have already been setup.\u001b[0m\n",
      "\u001b[34m[06/07/2021 20:50:35 INFO 140640416401216] Launching parameter server for role scheduler\u001b[0m\n",
      "\u001b[34m[06/07/2021 20:50:35 INFO 140640416401216] {'ENVROOT': '/opt/amazon', 'PROTOCOL_BUFFERS_PYTHON_IMPLEMENTATION': 'cpp', 'HOSTNAME': 'ip-10-0-225-24.us-west-2.compute.internal', 'TRAINING_JOB_NAME': 'knn-2021-06-07-20-45-53-435', 'NVIDIA_REQUIRE_CUDA': 'cuda>=9.0', 'TRAINING_JOB_ARN': 'arn:aws:sagemaker:us-west-2:688520471316:training-job/knn-2021-06-07-20-45-53-435', 'AWS_CONTAINER_CREDENTIALS_RELATIVE_URI': '/v2/credentials/6a81ba55-2cec-404e-a3e1-8c113e4c74a6', 'CANONICAL_ENVROOT': '/opt/amazon', 'PYTHONUNBUFFERED': 'TRUE', 'NVIDIA_VISIBLE_DEVICES': 'void', 'LD_LIBRARY_PATH': '/opt/amazon/lib/python3.7/site-packages/cv2/../../../../lib:/usr/local/nvidia/lib64:/opt/amazon/lib', 'NVIDIA_DRIVER_CAPABILITIES': 'compute,utility', 'AWS_EXECUTION_ENV': 'AWS_ECS_EC2', 'PATH': '/opt/amazon/bin:/usr/local/nvidia/bin:/usr/local/sbin:/usr/local/bin:/usr/sbin:/usr/bin:/sbin:/bin:/opt/amazon/bin:/opt/amazon/bin', 'PWD': '/', 'LANG': 'en_US.utf8', 'AWS_REGION': 'us-west-2', 'SAGEMAKER_METRICS_DIRECTORY': '/opt/ml/output/metrics/sagemaker', 'HOME': '/root', 'SHLVL': '1', 'PROTOCOL_BUFFERS_PYTHON_IMPLEMENTATION_VERSION': '2', 'OMP_NUM_THREADS': '4', 'DMLC_INTERFACE': 'eth0', 'ECS_CONTAINER_METADATA_URI': 'http://169.254.170.2/v3/31f56300-87c8-4bcc-940b-9f5fca6e2b70', 'ECS_CONTAINER_METADATA_URI_V4': 'http://169.254.170.2/v4/31f56300-87c8-4bcc-940b-9f5fca6e2b70', 'SAGEMAKER_HTTP_PORT': '8080', 'SAGEMAKER_DATA_PATH': '/opt/ml'}\u001b[0m\n",
      "\u001b[34m[06/07/2021 20:50:35 INFO 140640416401216] envs={'ENVROOT': '/opt/amazon', 'PROTOCOL_BUFFERS_PYTHON_IMPLEMENTATION': 'cpp', 'HOSTNAME': 'ip-10-0-225-24.us-west-2.compute.internal', 'TRAINING_JOB_NAME': 'knn-2021-06-07-20-45-53-435', 'NVIDIA_REQUIRE_CUDA': 'cuda>=9.0', 'TRAINING_JOB_ARN': 'arn:aws:sagemaker:us-west-2:688520471316:training-job/knn-2021-06-07-20-45-53-435', 'AWS_CONTAINER_CREDENTIALS_RELATIVE_URI': '/v2/credentials/6a81ba55-2cec-404e-a3e1-8c113e4c74a6', 'CANONICAL_ENVROOT': '/opt/amazon', 'PYTHONUNBUFFERED': 'TRUE', 'NVIDIA_VISIBLE_DEVICES': 'void', 'LD_LIBRARY_PATH': '/opt/amazon/lib/python3.7/site-packages/cv2/../../../../lib:/usr/local/nvidia/lib64:/opt/amazon/lib', 'NVIDIA_DRIVER_CAPABILITIES': 'compute,utility', 'AWS_EXECUTION_ENV': 'AWS_ECS_EC2', 'PATH': '/opt/amazon/bin:/usr/local/nvidia/bin:/usr/local/sbin:/usr/local/bin:/usr/sbin:/usr/bin:/sbin:/bin:/opt/amazon/bin:/opt/amazon/bin', 'PWD': '/', 'LANG': 'en_US.utf8', 'AWS_REGION': 'us-west-2', 'SAGEMAKER_METRICS_DIRECTORY': '/opt/ml/output/metrics/sagemaker', 'HOME': '/root', 'SHLVL': '1', 'PROTOCOL_BUFFERS_PYTHON_IMPLEMENTATION_VERSION': '2', 'OMP_NUM_THREADS': '4', 'DMLC_INTERFACE': 'eth0', 'ECS_CONTAINER_METADATA_URI': 'http://169.254.170.2/v3/31f56300-87c8-4bcc-940b-9f5fca6e2b70', 'ECS_CONTAINER_METADATA_URI_V4': 'http://169.254.170.2/v4/31f56300-87c8-4bcc-940b-9f5fca6e2b70', 'SAGEMAKER_HTTP_PORT': '8080', 'SAGEMAKER_DATA_PATH': '/opt/ml', 'DMLC_ROLE': 'scheduler', 'DMLC_PS_ROOT_URI': '10.0.225.24', 'DMLC_PS_ROOT_PORT': '9000', 'DMLC_NUM_SERVER': '1', 'DMLC_NUM_WORKER': '1'}\u001b[0m\n",
      "\u001b[34m[06/07/2021 20:50:35 INFO 140640416401216] Launching parameter server for role server\u001b[0m\n",
      "\u001b[34m[06/07/2021 20:50:35 INFO 140640416401216] {'ENVROOT': '/opt/amazon', 'PROTOCOL_BUFFERS_PYTHON_IMPLEMENTATION': 'cpp', 'HOSTNAME': 'ip-10-0-225-24.us-west-2.compute.internal', 'TRAINING_JOB_NAME': 'knn-2021-06-07-20-45-53-435', 'NVIDIA_REQUIRE_CUDA': 'cuda>=9.0', 'TRAINING_JOB_ARN': 'arn:aws:sagemaker:us-west-2:688520471316:training-job/knn-2021-06-07-20-45-53-435', 'AWS_CONTAINER_CREDENTIALS_RELATIVE_URI': '/v2/credentials/6a81ba55-2cec-404e-a3e1-8c113e4c74a6', 'CANONICAL_ENVROOT': '/opt/amazon', 'PYTHONUNBUFFERED': 'TRUE', 'NVIDIA_VISIBLE_DEVICES': 'void', 'LD_LIBRARY_PATH': '/opt/amazon/lib/python3.7/site-packages/cv2/../../../../lib:/usr/local/nvidia/lib64:/opt/amazon/lib', 'NVIDIA_DRIVER_CAPABILITIES': 'compute,utility', 'AWS_EXECUTION_ENV': 'AWS_ECS_EC2', 'PATH': '/opt/amazon/bin:/usr/local/nvidia/bin:/usr/local/sbin:/usr/local/bin:/usr/sbin:/usr/bin:/sbin:/bin:/opt/amazon/bin:/opt/amazon/bin', 'PWD': '/', 'LANG': 'en_US.utf8', 'AWS_REGION': 'us-west-2', 'SAGEMAKER_METRICS_DIRECTORY': '/opt/ml/output/metrics/sagemaker', 'HOME': '/root', 'SHLVL': '1', 'PROTOCOL_BUFFERS_PYTHON_IMPLEMENTATION_VERSION': '2', 'OMP_NUM_THREADS': '4', 'DMLC_INTERFACE': 'eth0', 'ECS_CONTAINER_METADATA_URI': 'http://169.254.170.2/v3/31f56300-87c8-4bcc-940b-9f5fca6e2b70', 'ECS_CONTAINER_METADATA_URI_V4': 'http://169.254.170.2/v4/31f56300-87c8-4bcc-940b-9f5fca6e2b70', 'SAGEMAKER_HTTP_PORT': '8080', 'SAGEMAKER_DATA_PATH': '/opt/ml'}\u001b[0m\n",
      "\u001b[34m[06/07/2021 20:50:35 INFO 140640416401216] envs={'ENVROOT': '/opt/amazon', 'PROTOCOL_BUFFERS_PYTHON_IMPLEMENTATION': 'cpp', 'HOSTNAME': 'ip-10-0-225-24.us-west-2.compute.internal', 'TRAINING_JOB_NAME': 'knn-2021-06-07-20-45-53-435', 'NVIDIA_REQUIRE_CUDA': 'cuda>=9.0', 'TRAINING_JOB_ARN': 'arn:aws:sagemaker:us-west-2:688520471316:training-job/knn-2021-06-07-20-45-53-435', 'AWS_CONTAINER_CREDENTIALS_RELATIVE_URI': '/v2/credentials/6a81ba55-2cec-404e-a3e1-8c113e4c74a6', 'CANONICAL_ENVROOT': '/opt/amazon', 'PYTHONUNBUFFERED': 'TRUE', 'NVIDIA_VISIBLE_DEVICES': 'void', 'LD_LIBRARY_PATH': '/opt/amazon/lib/python3.7/site-packages/cv2/../../../../lib:/usr/local/nvidia/lib64:/opt/amazon/lib', 'NVIDIA_DRIVER_CAPABILITIES': 'compute,utility', 'AWS_EXECUTION_ENV': 'AWS_ECS_EC2', 'PATH': '/opt/amazon/bin:/usr/local/nvidia/bin:/usr/local/sbin:/usr/local/bin:/usr/sbin:/usr/bin:/sbin:/bin:/opt/amazon/bin:/opt/amazon/bin', 'PWD': '/', 'LANG': 'en_US.utf8', 'AWS_REGION': 'us-west-2', 'SAGEMAKER_METRICS_DIRECTORY': '/opt/ml/output/metrics/sagemaker', 'HOME': '/root', 'SHLVL': '1', 'PROTOCOL_BUFFERS_PYTHON_IMPLEMENTATION_VERSION': '2', 'OMP_NUM_THREADS': '4', 'DMLC_INTERFACE': 'eth0', 'ECS_CONTAINER_METADATA_URI': 'http://169.254.170.2/v3/31f56300-87c8-4bcc-940b-9f5fca6e2b70', 'ECS_CONTAINER_METADATA_URI_V4': 'http://169.254.170.2/v4/31f56300-87c8-4bcc-940b-9f5fca6e2b70', 'SAGEMAKER_HTTP_PORT': '8080', 'SAGEMAKER_DATA_PATH': '/opt/ml', 'DMLC_ROLE': 'server', 'DMLC_PS_ROOT_URI': '10.0.225.24', 'DMLC_PS_ROOT_PORT': '9000', 'DMLC_NUM_SERVER': '1', 'DMLC_NUM_WORKER': '1'}\u001b[0m\n",
      "\u001b[34m[06/07/2021 20:50:35 INFO 140640416401216] Environment: {'ENVROOT': '/opt/amazon', 'PROTOCOL_BUFFERS_PYTHON_IMPLEMENTATION': 'cpp', 'HOSTNAME': 'ip-10-0-225-24.us-west-2.compute.internal', 'TRAINING_JOB_NAME': 'knn-2021-06-07-20-45-53-435', 'NVIDIA_REQUIRE_CUDA': 'cuda>=9.0', 'TRAINING_JOB_ARN': 'arn:aws:sagemaker:us-west-2:688520471316:training-job/knn-2021-06-07-20-45-53-435', 'AWS_CONTAINER_CREDENTIALS_RELATIVE_URI': '/v2/credentials/6a81ba55-2cec-404e-a3e1-8c113e4c74a6', 'CANONICAL_ENVROOT': '/opt/amazon', 'PYTHONUNBUFFERED': 'TRUE', 'NVIDIA_VISIBLE_DEVICES': 'void', 'LD_LIBRARY_PATH': '/opt/amazon/lib/python3.7/site-packages/cv2/../../../../lib:/usr/local/nvidia/lib64:/opt/amazon/lib', 'NVIDIA_DRIVER_CAPABILITIES': 'compute,utility', 'AWS_EXECUTION_ENV': 'AWS_ECS_EC2', 'PATH': '/opt/amazon/bin:/usr/local/nvidia/bin:/usr/local/sbin:/usr/local/bin:/usr/sbin:/usr/bin:/sbin:/bin:/opt/amazon/bin:/opt/amazon/bin', 'PWD': '/', 'LANG': 'en_US.utf8', 'AWS_REGION': 'us-west-2', 'SAGEMAKER_METRICS_DIRECTORY': '/opt/ml/output/metrics/sagemaker', 'HOME': '/root', 'SHLVL': '1', 'PROTOCOL_BUFFERS_PYTHON_IMPLEMENTATION_VERSION': '2', 'OMP_NUM_THREADS': '4', 'DMLC_INTERFACE': 'eth0', 'ECS_CONTAINER_METADATA_URI': 'http://169.254.170.2/v3/31f56300-87c8-4bcc-940b-9f5fca6e2b70', 'ECS_CONTAINER_METADATA_URI_V4': 'http://169.254.170.2/v4/31f56300-87c8-4bcc-940b-9f5fca6e2b70', 'SAGEMAKER_HTTP_PORT': '8080', 'SAGEMAKER_DATA_PATH': '/opt/ml', 'DMLC_ROLE': 'worker', 'DMLC_PS_ROOT_URI': '10.0.225.24', 'DMLC_PS_ROOT_PORT': '9000', 'DMLC_NUM_SERVER': '1', 'DMLC_NUM_WORKER': '1'}\u001b[0m\n",
      "\u001b[34mProcess 54 is a shell:scheduler.\u001b[0m\n",
      "\u001b[34mProcess 64 is a shell:server.\u001b[0m\n",
      "\u001b[34mProcess 1 is a worker.\u001b[0m\n",
      "\u001b[34m[06/07/2021 20:50:35 INFO 140640416401216] Using default worker.\u001b[0m\n",
      "\u001b[34m[06/07/2021 20:50:36 INFO 140640416401216] Checkpoint loading and saving are disabled.\u001b[0m\n",
      "\u001b[34m[2021-06-07 20:50:36.290] [tensorio] [warning] TensorIO is already initialized; ignoring the initialization routine.\u001b[0m\n",
      "\u001b[34m[06/07/2021 20:50:36 INFO 140640416401216] nvidia-smi: took 0.034 seconds to run.\u001b[0m\n",
      "\u001b[34m[06/07/2021 20:50:36 INFO 140640416401216] nvidia-smi identified 0 GPUs.\u001b[0m\n",
      "\u001b[34m[06/07/2021 20:50:36 INFO 140640416401216] Create Store: dist_async\u001b[0m\n",
      "\u001b[34m[20:50:36] ../src/base.cc:47: Please install cuda driver for GPU use.  No cuda driver detected.\u001b[0m\n",
      "\u001b[34m[20:50:36] ../src/base.cc:47: Please install cuda driver for GPU use.  No cuda driver detected.\u001b[0m\n",
      "\u001b[34m[20:50:36] ../src/base.cc:47: Please install cuda driver for GPU use.  No cuda driver detected.\u001b[0m\n",
      "\u001b[34m[06/07/2021 20:50:37 ERROR 140640416401216] nvidia-smi: failed to run (127): b'/bin/sh: nvidia-smi: command not found'/\u001b[0m\n",
      "\u001b[34m[06/07/2021 20:50:37 WARNING 140640416401216] Could not determine free memory in MB for GPU device with ID (0).\u001b[0m\n",
      "\u001b[34m[06/07/2021 20:50:37 INFO 140640416401216] Using per-worker sample size = 200000 (Available virtual memory = 30881075200 bytes, GPU free memory = 0 bytes, number of workers = 1). If an out-of-memory error occurs, choose a larger instance type, use dimension reduction, decrease sample_size, and/or decrease mini_batch_size.\u001b[0m\n",
      "\u001b[34m[06/07/2021 20:50:37 INFO 140640416401216] Starting cluster...\u001b[0m\n",
      "\u001b[34m[06/07/2021 20:50:37 INFO 140637868779264] concurrency model: async\u001b[0m\n",
      "\u001b[34m[06/07/2021 20:50:37 INFO 140640416401216] ...Cluster started\u001b[0m\n",
      "\u001b[34m[06/07/2021 20:50:37 INFO 140637868779264] masquerade (NAT) address: None\u001b[0m\n",
      "\u001b[34m[06/07/2021 20:50:37 INFO 140640416401216] Verifying connection to 0 peer cluster(s)...\u001b[0m\n",
      "\u001b[34m[06/07/2021 20:50:37 INFO 140637868779264] passive ports: None\u001b[0m\n",
      "\u001b[34m[06/07/2021 20:50:37 INFO 140640416401216] ...Verified connection to 0 peer cluster(s)\u001b[0m\n",
      "\u001b[34m#metrics {\"StartTime\": 1623099037.1435063, \"EndTime\": 1623099037.143549, \"Dimensions\": {\"Algorithm\": \"AWS/KNN\", \"Host\": \"algo-1\", \"Operation\": \"training\", \"Meta\": \"init_train_data_iter\"}, \"Metrics\": {\"Total Records Seen\": {\"sum\": 0.0, \"count\": 1, \"min\": 0, \"max\": 0}, \"Total Batches Seen\": {\"sum\": 0.0, \"count\": 1, \"min\": 0, \"max\": 0}, \"Max Records Seen Between Resets\": {\"sum\": 0.0, \"count\": 1, \"min\": 0, \"max\": 0}, \"Max Batches Seen Between Resets\": {\"sum\": 0.0, \"count\": 1, \"min\": 0, \"max\": 0}, \"Reset Count\": {\"sum\": 0.0, \"count\": 1, \"min\": 0, \"max\": 0}, \"Number of Records Since Last Reset\": {\"sum\": 0.0, \"count\": 1, \"min\": 0, \"max\": 0}, \"Number of Batches Since Last Reset\": {\"sum\": 0.0, \"count\": 1, \"min\": 0, \"max\": 0}}}\n",
      "\u001b[0m\n",
      "\u001b[34m[06/07/2021 20:50:37 INFO 140637868779264] >>> starting FTP server on 0.0.0.0:8999, pid=1 <<<\u001b[0m\n",
      "\u001b[34m[2021-06-07 20:50:37.146] [tensorio] [info] epoch_stats={\"data_pipeline\": \"/opt/ml/input/data/train\", \"epoch\": 0, \"duration\": 869, \"num_examples\": 1, \"num_bytes\": 2420000}\u001b[0m\n",
      "\u001b[34m[2021-06-07 20:50:38.072] [tensorio] [info] epoch_stats={\"data_pipeline\": \"/opt/ml/input/data/train\", \"epoch\": 1, \"duration\": 925, \"num_examples\": 105, \"num_bytes\": 253088440}\u001b[0m\n",
      "\u001b[34m[06/07/2021 20:50:38 INFO 140640416401216] #progress_metric: host=algo-1, completed 100.0 % of epochs\u001b[0m\n",
      "\u001b[34m#metrics {\"StartTime\": 1623099037.1465464, \"EndTime\": 1623099038.159232, \"Dimensions\": {\"Algorithm\": \"AWS/KNN\", \"Host\": \"algo-1\", \"Operation\": \"training\", \"epoch\": 0, \"Meta\": \"training_data_iter\"}, \"Metrics\": {\"Total Records Seen\": {\"sum\": 522910.0, \"count\": 1, \"min\": 522910, \"max\": 522910}, \"Total Batches Seen\": {\"sum\": 105.0, \"count\": 1, \"min\": 105, \"max\": 105}, \"Max Records Seen Between Resets\": {\"sum\": 522910.0, \"count\": 1, \"min\": 522910, \"max\": 522910}, \"Max Batches Seen Between Resets\": {\"sum\": 105.0, \"count\": 1, \"min\": 105, \"max\": 105}, \"Reset Count\": {\"sum\": 1.0, \"count\": 1, \"min\": 1, \"max\": 1}, \"Number of Records Since Last Reset\": {\"sum\": 522910.0, \"count\": 1, \"min\": 522910, \"max\": 522910}, \"Number of Batches Since Last Reset\": {\"sum\": 105.0, \"count\": 1, \"min\": 105, \"max\": 105}}}\n",
      "\u001b[0m\n",
      "\u001b[34m[06/07/2021 20:50:38 INFO 140640416401216] #throughput_metric: host=algo-1, train throughput=516297.34310352296 records/second\u001b[0m\n",
      "\u001b[34m[06/07/2021 20:50:38 INFO 140640416401216] Getting reservoir sample from algo-1...\u001b[0m\n",
      "\u001b[34m[06/07/2021 20:50:38 INFO 140637868779264] 10.0.225.24:49074-[] FTP session opened (connect)\u001b[0m\n",
      "\u001b[34m[06/07/2021 20:50:38 INFO 140637868779264] 10.0.225.24:49074-[anonymous] USER 'anonymous' logged in.\u001b[0m\n",
      "\u001b[34m[06/07/2021 20:50:38 INFO 140637868779264] 10.0.225.24:49074-[anonymous] RETR /opt/rs completed=1 bytes=45600300 seconds=0.05\u001b[0m\n",
      "\u001b[34m[06/07/2021 20:50:38 INFO 140637868779264] 10.0.225.24:49074-[anonymous] FTP session closed (disconnect).\u001b[0m\n",
      "\u001b[34m[06/07/2021 20:50:38 INFO 140640416401216] ...Got reservoir sample from algo-1: data=(200000, 54), labels=(200000,), NaNs=0\u001b[0m\n",
      "\u001b[34m[06/07/2021 20:50:38 INFO 140640416401216] Training index...\u001b[0m\n",
      "\u001b[34m[06/07/2021 20:50:38 INFO 140640416401216] ...Finished training index in 0 second(s)\u001b[0m\n",
      "\u001b[34m[06/07/2021 20:50:38 INFO 140640416401216] Adding data to index...\u001b[0m\n",
      "\u001b[34m[06/07/2021 20:50:38 INFO 140640416401216] ...Finished adding data to index in 0 second(s)\u001b[0m\n",
      "\u001b[34m#metrics {\"StartTime\": 1623099036.2764406, \"EndTime\": 1623099038.386437, \"Dimensions\": {\"Algorithm\": \"AWS/KNN\", \"Host\": \"algo-1\", \"Operation\": \"training\"}, \"Metrics\": {\"initialize.time\": {\"sum\": 838.8128280639648, \"count\": 1, \"min\": 838.8128280639648, \"max\": 838.8128280639648}, \"epochs\": {\"sum\": 1.0, \"count\": 1, \"min\": 1, \"max\": 1}, \"update.time\": {\"sum\": 1012.4046802520752, \"count\": 1, \"min\": 1012.4046802520752, \"max\": 1012.4046802520752}, \"finalize.time\": {\"sum\": 195.55115699768066, \"count\": 1, \"min\": 195.55115699768066, \"max\": 195.55115699768066}, \"model.serialize.time\": {\"sum\": 31.290531158447266, \"count\": 1, \"min\": 31.290531158447266, \"max\": 31.290531158447266}}}\n",
      "\u001b[0m\n",
      "\u001b[34m[06/07/2021 20:50:38 INFO 140640416401216] Searching index...\u001b[0m\n",
      "\u001b[34m[06/07/2021 20:50:39 INFO 140640416401216] ...Done searching index in 0 second(s)\u001b[0m\n",
      "\u001b[34m[06/07/2021 20:50:39 INFO 140640416401216] Searching index...\u001b[0m\n",
      "\u001b[34m[06/07/2021 20:50:39 INFO 140640416401216] ...Done searching index in 0 second(s)\u001b[0m\n",
      "\u001b[34m[06/07/2021 20:50:40 INFO 140640416401216] Searching index...\u001b[0m\n",
      "\n",
      "2021-06-07 20:50:49 Uploading - Uploading generated training model\u001b[34m[06/07/2021 20:50:40 INFO 140640416401216] ...Done searching index in 0 second(s)\u001b[0m\n",
      "\u001b[34m[06/07/2021 20:50:40 INFO 140640416401216] Searching index...\u001b[0m\n",
      "\u001b[34m[06/07/2021 20:50:41 INFO 140640416401216] ...Done searching index in 0 second(s)\u001b[0m\n",
      "\u001b[34m[06/07/2021 20:50:41 INFO 140640416401216] Searching index...\u001b[0m\n",
      "\u001b[34m[06/07/2021 20:50:42 INFO 140640416401216] ...Done searching index in 0 second(s)\u001b[0m\n",
      "\u001b[34m[06/07/2021 20:50:42 INFO 140640416401216] Searching index...\u001b[0m\n",
      "\u001b[34m[06/07/2021 20:50:43 INFO 140640416401216] ...Done searching index in 0 second(s)\u001b[0m\n",
      "\u001b[34m[06/07/2021 20:50:43 INFO 140640416401216] Searching index...\u001b[0m\n",
      "\u001b[34m[06/07/2021 20:50:44 INFO 140640416401216] ...Done searching index in 0 second(s)\u001b[0m\n",
      "\u001b[34m[06/07/2021 20:50:44 INFO 140640416401216] Searching index...\u001b[0m\n",
      "\u001b[34m[06/07/2021 20:50:44 INFO 140640416401216] ...Done searching index in 0 second(s)\u001b[0m\n",
      "\u001b[34m[06/07/2021 20:50:45 INFO 140640416401216] Searching index...\u001b[0m\n",
      "\u001b[34m[06/07/2021 20:50:45 INFO 140640416401216] ...Done searching index in 0 second(s)\u001b[0m\n",
      "\u001b[34m[06/07/2021 20:50:45 INFO 140640416401216] Searching index...\u001b[0m\n",
      "\u001b[34m[06/07/2021 20:50:46 INFO 140640416401216] ...Done searching index in 0 second(s)\u001b[0m\n",
      "\u001b[34m[06/07/2021 20:50:46 INFO 140640416401216] Searching index...\u001b[0m\n",
      "\u001b[34m[06/07/2021 20:50:47 INFO 140640416401216] ...Done searching index in 0 second(s)\u001b[0m\n",
      "\u001b[34m[06/07/2021 20:50:47 INFO 140640416401216] Searching index...\u001b[0m\n",
      "\u001b[34m[06/07/2021 20:50:47 INFO 140640416401216] ...Done searching index in 0 second(s)\u001b[0m\n",
      "\u001b[34m[2021-06-07 20:50:47.791] [tensorio] [info] epoch_stats={\"data_pipeline\": \"/opt/ml/input/data/test\", \"epoch\": 0, \"duration\": 11501, \"num_examples\": 12, \"num_bytes\": 28121368}\u001b[0m\n",
      "\u001b[34m#metrics {\"StartTime\": 1623099038.3869379, \"EndTime\": 1623099047.8135526, \"Dimensions\": {\"Algorithm\": \"AWS/KNN\", \"Host\": \"algo-1\", \"Operation\": \"training\", \"Meta\": \"test_data_iter\"}, \"Metrics\": {\"Total Records Seen\": {\"sum\": 58102.0, \"count\": 1, \"min\": 58102, \"max\": 58102}, \"Total Batches Seen\": {\"sum\": 12.0, \"count\": 1, \"min\": 12, \"max\": 12}, \"Max Records Seen Between Resets\": {\"sum\": 58102.0, \"count\": 1, \"min\": 58102, \"max\": 58102}, \"Max Batches Seen Between Resets\": {\"sum\": 12.0, \"count\": 1, \"min\": 12, \"max\": 12}, \"Reset Count\": {\"sum\": 0.0, \"count\": 1, \"min\": 0, \"max\": 0}, \"Number of Records Since Last Reset\": {\"sum\": 58102.0, \"count\": 1, \"min\": 58102, \"max\": 58102}, \"Number of Batches Since Last Reset\": {\"sum\": 12.0, \"count\": 1, \"min\": 12, \"max\": 12}}}\n",
      "\u001b[0m\n",
      "\u001b[34m[06/07/2021 20:50:47 INFO 140640416401216] #test_score (algo-1) : ('accuracy', 0.8120202402671165)\u001b[0m\n",
      "\u001b[34m[06/07/2021 20:50:47 INFO 140640416401216] #test_score (algo-1) : ('macro_f_1.000', nan)\u001b[0m\n",
      "\u001b[34m[06/07/2021 20:50:47 INFO 140640416401216] #quality_metric: host=algo-1, test accuracy <score>=0.8120202402671165\u001b[0m\n",
      "\u001b[34m[06/07/2021 20:50:47 INFO 140640416401216] #quality_metric: host=algo-1, test macro_f_1.000 <score>=nan\u001b[0m\n",
      "\u001b[34m[06/07/2021 20:50:47 INFO 140637868779264] >>> shutting down FTP server, 0 socket(s), pid=1 <<<\u001b[0m\n",
      "\u001b[34m#metrics {\"StartTime\": 1623099038.3865147, \"EndTime\": 1623099047.857961, \"Dimensions\": {\"Algorithm\": \"AWS/KNN\", \"Host\": \"algo-1\", \"Operation\": \"training\"}, \"Metrics\": {\"setuptime\": {\"sum\": 19.369125366210938, \"count\": 1, \"min\": 19.369125366210938, \"max\": 19.369125366210938}, \"totaltime\": {\"sum\": 12122.076272964478, \"count\": 1, \"min\": 12122.076272964478, \"max\": 12122.076272964478}}}\n",
      "\u001b[0m\n",
      "\n",
      "2021-06-07 20:51:18 Completed - Training job completed\n",
      "ProfilerReport-1623098753: NoIssuesFound\n",
      "Training seconds: 160\n",
      "Billable seconds: 160\n"
     ]
    }
   ],
   "source": [
    "hyperparams_flat_l2 = {\n",
    "    \"feature_dim\": 54,\n",
    "    \"k\": 100,\n",
    "    \"sample_size\": 200000,\n",
    "    \"predictor_type\": \"classifier\"\n",
    "    # NOTE: The default distance is L2 and index is Flat, so we don't list them here\n",
    "}\n",
    "output_path_flat_l2 = f\"s3://{bucket}/{prefix}/flat_l2/output\"\n",
    "knn_estimator_flat_l2 = trained_estimator_from_hyperparams(\n",
    "    s3_train_data, hyperparams_flat_l2, output_path_flat_l2, s3_test_data=s3_test_data\n",
    ")"
   ]
  },
  {
   "cell_type": "markdown",
   "id": "varying-woman",
   "metadata": {
    "papermill": {
     "duration": null,
     "end_time": null,
     "exception": null,
     "start_time": null,
     "status": "pending"
    },
    "tags": []
   },
   "source": [
    "### Evaluation\n",
    "\n",
    "Before we set up the endpoints we take a moment to discuss ways of using them. The typical way of using an endpoint is the following: We feed it an input point and recieve a prediction. For kNN we additionally support another verbose API allowing for a more detailed response. With that API, instead of recieving only a prediction we recieve an ordered list of the labels corresponding to the nearest neighbors, along with their distances. \n",
    "\n",
    "A manual inspection of this list allows us to perform multiple tasks:\n",
    "* Tune k: By taking a majority vote over a prefix of the list we obtain the prediction for multiple values of k\n",
    "* Ranking / multi-label: Sometimes, we do not wish to predict a single class rather output a ranking of possible classes. An example for this would be image tagging where the labels are tags and the input vectors represent images.\n",
    "\n",
    "In what follows we focus on tuning k with this API. We begin with an **evaluate** function that measures both the output quality and latency of an endpoint. The code below contains this function along with auxiliary functions used by it. For reporting the quality we use the verbose API to obtain the predictions for multiple k values. For the latency we use the non-verbose API."
   ]
  },
  {
   "cell_type": "code",
   "execution_count": 21,
   "id": "yellow-maple",
   "metadata": {
    "papermill": {
     "duration": null,
     "end_time": null,
     "exception": null,
     "start_time": null,
     "status": "pending"
    },
    "tags": []
   },
   "outputs": [],
   "source": [
    "from scipy import stats\n",
    "import matplotlib.pyplot as plt\n",
    "from sklearn.metrics import f1_score, accuracy_score\n",
    "import time\n",
    "\n",
    "\n",
    "def scores_for_ks(test_labels, knn_labels, ks):\n",
    "    f1_weight = []\n",
    "    f1_macro = []\n",
    "    f1_micro = []\n",
    "    acc = []\n",
    "    for k in ks:\n",
    "        pred_k = stats.mode(knn_labels[:, :k], axis=1)[0].reshape((-1,))\n",
    "        f1_weight.append(f1_score(test_labels, pred_k, average=\"weighted\"))\n",
    "        f1_macro.append(f1_score(test_labels, pred_k, average=\"macro\"))\n",
    "        f1_micro.append(f1_score(test_labels, pred_k, average=\"micro\"))\n",
    "        acc.append(accuracy_score(test_labels, pred_k))\n",
    "    return {\n",
    "        \"f1_weight\": f1_weight,\n",
    "        \"f1_macro\": f1_macro,\n",
    "        \"f1_micro\": f1_micro,\n",
    "        \"accuracy\": acc,\n",
    "    }\n",
    "\n",
    "\n",
    "def plot_prediction_quality(scores, ks):\n",
    "    colors = [\"r-\", \"b-\", \"g-\", \"y-\"][: len(scores)]\n",
    "    for (k, v), color in zip(scores.items(), colors):\n",
    "        plt.plot(ks, v, color, label=k)\n",
    "    plt.legend()\n",
    "    plt.xlabel(\"k\")\n",
    "    plt.ylabel(\"prediction quality\")\n",
    "    plt.show()\n",
    "\n",
    "\n",
    "def evaluate_quality(predictor, test_features, test_labels, model_name, verbose=True, num_batches=100):\n",
    "    \"\"\"\n",
    "    Evaluate quality metrics of a model on a test set.\n",
    "    \"\"\"\n",
    "\n",
    "    # split the test data set into num_batches batches and evaluate using prediction endpoint.\n",
    "    print(\"running prediction (quality)...\")\n",
    "    batches = np.array_split(test_features, num_batches)\n",
    "    knn_labels = []\n",
    "    for batch in batches:\n",
    "        pred_result = predictor.predict(\n",
    "            batch, initial_args={\"ContentType\": \"text/csv\", \"Accept\": \"application/json; verbose=true\"}\n",
    "        )\n",
    "        cur_knn_labels = np.array(\n",
    "            [pred_result[\"predictions\"][i][\"labels\"] for i in range(len(pred_result[\"predictions\"]))]\n",
    "        )\n",
    "        knn_labels.append(cur_knn_labels)\n",
    "    knn_labels = np.concatenate(knn_labels)\n",
    "    print(\"running prediction (quality)... done\")\n",
    "\n",
    "    # figure out different k values\n",
    "    top_k = knn_labels.shape[1]\n",
    "    ks = range(1, top_k + 1)\n",
    "\n",
    "    # compute scores for the quality of the model for each value of k\n",
    "    print(\"computing scores for all values of k... \")\n",
    "    quality_scores = scores_for_ks(test_labels, knn_labels, ks)\n",
    "    print(\"computing scores for all values of k... done\")\n",
    "    if verbose:\n",
    "        plot_prediction_quality(quality_scores, ks)\n",
    "\n",
    "    return quality_scores\n",
    "\n",
    "\n",
    "def evaluate_latency(predictor, test_features, test_labels, model_name, verbose=True, num_batches=100):\n",
    "    \"\"\"\n",
    "    Evaluate the run-time of a model on a test set.\n",
    "    \"\"\"\n",
    "\n",
    "    # latency for large batches:\n",
    "    # split the test data set into num_batches batches and evaluate the latencies of the calls to endpoint.\n",
    "    print(\"running prediction (latency)...\")\n",
    "    batches = np.array_split(test_features, num_batches)\n",
    "    test_preds = []\n",
    "    latency_sum = 0\n",
    "    for batch in batches:\n",
    "        start = time.time()\n",
    "        pred_batch = predictor.predict(\n",
    "            batch, initial_args={\"ContentType\": \"text/csv\", \"Accept\": \"application/json\"}\n",
    "        )\n",
    "        latency_sum += time.time() - start\n",
    "    latency_mean = latency_sum / float(num_batches)\n",
    "    avg_batch_size = test_features.shape[0] / num_batches\n",
    "\n",
    "    # estimate the latency for a batch of size 1\n",
    "    latencies = []\n",
    "    attempts = 2000\n",
    "    for i in range(attempts):\n",
    "        start = time.time()\n",
    "        pred_batch = predictor.predict(\n",
    "            test_features[i].reshape((1, -1)),\n",
    "            initial_args={\"ContentType\": \"text/csv\", \"Accept\": \"application/json\"},\n",
    "        )\n",
    "        latencies.append(time.time() - start)\n",
    "\n",
    "    latencies = sorted(latencies)\n",
    "    latency1_mean = sum(latencies) / float(attempts)\n",
    "    latency1_p90 = latencies[int(attempts * 0.9)]\n",
    "    latency1_p99 = latencies[int(attempts * 0.99)]\n",
    "    print(\"running prediction (latency)... done\")\n",
    "\n",
    "    if verbose:\n",
    "        print(\n",
    "            \"{:<11} {:.3f}\".format(\"Latency (ms, batch size %d):\" % avg_batch_size, latency_mean * 1000)\n",
    "        )\n",
    "        print(\"{:<11} {:.3f}\".format(\"Latency (ms) mean for single item:\", latency1_mean * 1000))\n",
    "        print(\"{:<11} {:.3f}\".format(\"Latency (ms) p90 for single item:\", latency1_p90 * 1000))\n",
    "        print(\"{:<11} {:.3f}\".format(\"Latency (ms) p99 for single item:\", latency1_p99 * 1000))\n",
    "\n",
    "    return {\n",
    "        \"Latency\": latency_mean,\n",
    "        \"Latency1_mean\": latency1_mean,\n",
    "        \"Latency1_p90\": latency1_p90,\n",
    "        \"Latency1_p99\": latency1_p99,\n",
    "    }\n",
    "\n",
    "\n",
    "def evaluate(predictor, test_features, test_labels, model_name, verbose=True, num_batches=100):\n",
    "    eval_result_q = evaluate_quality(\n",
    "        predictor,\n",
    "        test_features,\n",
    "        test_labels,\n",
    "        model_name=model_name,\n",
    "        verbose=verbose,\n",
    "        num_batches=num_batches,\n",
    "    )\n",
    "    eval_result_l = evaluate_latency(\n",
    "        predictor,\n",
    "        test_features,\n",
    "        test_labels,\n",
    "        model_name=model_name,\n",
    "        verbose=verbose,\n",
    "        num_batches=num_batches,\n",
    "    )\n",
    "    return dict(list(eval_result_q.items()) + list(eval_result_l.items()))"
   ]
  },
  {
   "cell_type": "markdown",
   "id": "eleven-business",
   "metadata": {
    "papermill": {
     "duration": null,
     "end_time": null,
     "exception": null,
     "start_time": null,
     "status": "pending"
    },
    "tags": []
   },
   "source": [
    "We are now ready to set up the endpoints. The following code will set up 1 endpoint (remove the comments in `index2estimator` if you want to set up more endpoints for comparison), for options of cpu/gpu machine and Flat/IVFPQ index. Uncomment the additional instance and indexes to create and benchmark all 8 endpoints. For a gpu machine we use *ml.p2.xlarge* and for cpu we use *ml.c5.xlarge*. For cases where latency is not an issue, or the dataset is very small, we recommend using *ml.m4.xlarge* machines, as they are cheaper than the machines mentioned above. For the purpose of these notebook, we restrict our attention to compute optimized machines as we are also optimizing for latency. After setting an endpoint we evaluate it and then delete it. If you requires to keep using an endpoint, do not delete it until you are done with it."
   ]
  },
  {
   "cell_type": "code",
   "execution_count": null,
   "id": "backed-moldova",
   "metadata": {
    "papermill": {
     "duration": null,
     "end_time": null,
     "exception": null,
     "start_time": null,
     "status": "pending"
    },
    "tags": []
   },
   "outputs": [],
   "source": [
    "import time\n",
    "\n",
    "instance_types = [\n",
    "    \"ml.c5.xlarge\",\n",
    "    #\"ml.p2.xlarge\",\n",
    "]\n",
    "index2estimator = {\n",
    "    \"flat_l2\": knn_estimator_flat_l2,\n",
    "    #\"ivfpq_l2\": knn_estimator_ivfpq_l2,\n",
    "    #\"flat_l2_large\": knn_estimator_flat_l2_large,\n",
    "    #\"ivfpq_l2_large\": knn_estimator_ivfpq_l2_large,\n",
    "}\n",
    "\n",
    "eval_results = {}\n",
    "\n",
    "for index in index2estimator:\n",
    "    estimator = index2estimator[index]\n",
    "    eval_results[index] = {}\n",
    "    for instance_type in instance_types:\n",
    "        model_name = f\"knn_{index}_{instance_type}\"\n",
    "        endpoint_name = \"knn-latency-%s-%s-%s\" % (\n",
    "            index.replace(\"_\", \"-\"),\n",
    "            instance_type.replace(\".\", \"-\"),\n",
    "            str(time.time()).replace(\".\", \"-\"),\n",
    "        )\n",
    "        print(f\"\\nsetting up endpoint for instance_type={instance_type}, index_type={index}\")\n",
    "        pred = predictor_from_hyperparams(estimator, index, instance_type, endpoint_name=endpoint_name)\n",
    "        print(\"\")\n",
    "        eval_result = evaluate(pred, test_features, test_labels, model_name=model_name, verbose=True)\n",
    "        eval_result[\"instance\"] = instance_type\n",
    "        eval_result[\"index\"] = index\n",
    "        eval_results[index][instance_type] = eval_result\n",
    "        delete_endpoint(pred)"
   ]
  },
  {
   "cell_type": "code",
   "execution_count": 23,
   "id": "promotional-identifier",
   "metadata": {},
   "outputs": [
    {
     "data": {
      "text/plain": [
       "{'flat_l2': {}}"
      ]
     },
     "execution_count": 23,
     "metadata": {},
     "output_type": "execute_result"
    }
   ],
   "source": [
    "eval_results"
   ]
  },
  {
   "cell_type": "markdown",
   "id": "opposite-parameter",
   "metadata": {
    "papermill": {
     "duration": null,
     "end_time": null,
     "exception": null,
     "start_time": null,
     "status": "pending"
    },
    "tags": []
   },
   "source": [
    "Looking at the plots it seems that the performance is best for small values of k. Let's view some values in a table to get a clear comparison. Below is a table with rows representing the models and columns, the different measurements. We highlight for every model any accuracy score that is at most 0.25% (relative) away from the maximum accuracy among the different values of k"
   ]
  },
  {
   "cell_type": "code",
   "execution_count": null,
   "id": "exceptional-virgin",
   "metadata": {
    "papermill": {
     "duration": null,
     "end_time": null,
     "exception": null,
     "start_time": null,
     "status": "pending"
    },
    "tags": []
   },
   "outputs": [],
   "source": [
    "import pandas as pd\n",
    "\n",
    "k_range = range(1, 13)\n",
    "df_index = []\n",
    "data = []\n",
    "columns_lat = [\"latency1K\", \"latency1_mean\", \"latency1_p90\", \"latency1_p99\"]\n",
    "columns_acc = [\"acc_%d\" % k for k in k_range]\n",
    "columns = columns_lat + columns_acc\n",
    "\n",
    "for index, index_res in eval_results.items():\n",
    "    for instance, res in index_res.items():\n",
    "        # for sample size?\n",
    "        df_index.append(index + \"_\" + instance)\n",
    "        latencies = np.array(\n",
    "            [res[\"Latency\"], res[\"Latency1_mean\"], res[\"Latency1_p90\"], res[\"Latency1_p99\"]]\n",
    "        )\n",
    "        row = np.concatenate([latencies * 10, res[\"accuracy\"][k_range[0] - 1 : k_range[-1]]])\n",
    "        row *= 100\n",
    "        data.append(row)\n",
    "\n",
    "df = pd.DataFrame(index=df_index, data=data, columns=columns)\n",
    "df_acc = df[columns_acc]\n",
    "df_lat = df[columns_lat]\n",
    "\n",
    "\n",
    "def highlight_apx_max(row):\n",
    "    \"\"\"\n",
    "    highlight the aproximate best (max or min) in a Series yellow.\n",
    "    \"\"\"\n",
    "    max_val = row.max()\n",
    "    colors = [\"background-color: yellow\" if cur_val >= max_val * 0.9975 else \"\" for cur_val in row]\n",
    "\n",
    "    return colors\n",
    "\n",
    "\n",
    "df_acc.round(decimals=1).style.apply(highlight_apx_max, axis=1)"
   ]
  },
  {
   "cell_type": "markdown",
   "id": "virgin-scott",
   "metadata": {
    "papermill": {
     "duration": null,
     "end_time": null,
     "exception": null,
     "start_time": null,
     "status": "pending"
    },
    "tags": []
   },
   "source": [
    "Let's review the latencies. We'll highlight the latencies that are much worse (20% more) than the median value"
   ]
  },
  {
   "cell_type": "code",
   "execution_count": null,
   "id": "entitled-documentation",
   "metadata": {
    "papermill": {
     "duration": null,
     "end_time": null,
     "exception": null,
     "start_time": null,
     "status": "pending"
    },
    "tags": []
   },
   "outputs": [],
   "source": [
    "def highlight_far_from_min(row):\n",
    "    \"\"\"\n",
    "    highlight the aproximate best (max or min) in a Series yellow.\n",
    "    \"\"\"\n",
    "    med_val = row.median()\n",
    "    colors = [\"background-color: red\" if cur_val >= med_val * 1.2 else \"\" for cur_val in row]\n",
    "\n",
    "    return colors\n",
    "\n",
    "\n",
    "df_lat.round(decimals=1).style.apply(highlight_far_from_min, axis=0)"
   ]
  },
  {
   "cell_type": "markdown",
   "id": "invalid-settlement",
   "metadata": {
    "papermill": {
     "duration": null,
     "end_time": null,
     "exception": null,
     "start_time": null,
     "status": "pending"
    },
    "tags": []
   },
   "source": [
    "#### Accuracy\n",
    "\n",
    "For optimizing accuracy, the results show that for some of the models, k=1 yields the best results. We may want to play it safe and choose a larger value for k. The reason is that if the data slightly changes over time, the results associated with small values of k tend to change faster than those of larger values of k. A reasonable compromise could be choosing k=5. Not surprisingly, the accuracy becomes better if we choose a larger training set and if we use a brute-force index. This leads to 97% accuracy. For comparison, a linear model trained on the covtype dataset achieves roughly 72% accuracy. This is a pretty solid demonstration of the power of the kNN classifier.\n",
    "If we are willing to get slightly less accurate results but at higher speed, we could choose either a large dataset with an approximate index **IVFPQ_l2_large_XX**, or a smaller sample size **flat_l2_ml_XX**. Both achieve roughly 93%-95% precision, yet have much more favorable latency scores.\n",
    "\n",
    "\n",
    "#### Latency\n",
    "\n",
    "We can see a single-query mean latency of under 10ms in most setting and under 20ms in the remaining. Some of this can likely be attributed to typical system overheads, so results may become better over time. One exception is for **flat_l2_large_ml.c5.xlarge**, where we pay for using an exact solution on a large dataset by having a latency of about 25ms. There is much more variance in the latency for a batch of roughly 1K points as the relative overhead there is lower. There, the slowest yet most accurate model requires roughly 360ms to return an answer while for the approximate versions we get over X5 speedup. If one would like to have the best accuracy but reduce latency, another option is to use a GPU machine. **flat_l2_large_ml.p2.xlarge** enjoys the best accuracy while keeping the latency for 1K points at less than 90ms and singe-query p90 latency at 14.2ms. The downside is the dollar cost, since a *ml.p2.xlarge* machine is more expensive than a *ml.c5.xlarge* machine. \n"
   ]
  },
  {
   "cell_type": "markdown",
   "id": "complete-convertible",
   "metadata": {
    "papermill": {
     "duration": null,
     "end_time": null,
     "exception": null,
     "start_time": null,
     "status": "pending"
    },
    "tags": []
   },
   "source": [
    "### Concluding Remarks\n",
    "\n",
    "We've seen how to both train and host an inference endpoint for kNN. We've shown the ease of tuning a kNN algorithm and how to experiment with the different parameters, both those required at training and at inference. The experiment on the covtype dataset demonstrates the power of the simple procedure of kNN, especially when considering the final accuracy score of 96.8%, say, compared to linear model that achieves 72.8% accuracy. We explored the tradeoffs between an approximate index, subsampling the data, and using high vs low cost machines. The answer is case dependent and should fit the needs of the particular setup. "
   ]
  }
 ],
 "metadata": {
  "instance_type": "ml.t3.medium",
  "kernelspec": {
   "display_name": "Environment (conda_anaconda3)",
   "language": "python",
   "name": "conda_anaconda3"
  },
  "language_info": {
   "codemirror_mode": {
    "name": "ipython",
    "version": 3
   },
   "file_extension": ".py",
   "mimetype": "text/x-python",
   "name": "python",
   "nbconvert_exporter": "python",
   "pygments_lexer": "ipython3",
   "version": "3.7.6"
  },
  "notice": "Copyright 2018 Amazon.com, Inc. or its affiliates. All Rights Reserved. Licensed under the Apache License, Version 2.0 (the \"License\"). You may not use this file except in compliance with the License. A copy of the License is located at http://aws.amazon.com/apache2.0/ or in the \"license\" file accompanying this file. This file is distributed on an \"AS IS\" BASIS, WITHOUT WARRANTIES OR CONDITIONS OF ANY KIND, either express or implied. See the License for the specific language governing permissions and limitations under the License.",
  "papermill": {
   "default_parameters": {},
   "duration": 1951.199719,
   "end_time": "2021-06-07T00:50:26.311843",
   "environment_variables": {},
   "exception": true,
   "input_path": "k_nearest_neighbors_covtype.ipynb",
   "output_path": "/opt/ml/processing/output/k_nearest_neighbors_covtype-2021-06-07-00-13-49.ipynb",
   "parameters": {
    "kms_key": "arn:aws:kms:us-west-2:521695447989:key/6e9984db-50cf-4c7e-926c-877ec47a8b25"
   },
   "start_time": "2021-06-07T00:17:55.112124",
   "version": "2.3.3"
  }
 },
 "nbformat": 4,
 "nbformat_minor": 5
}
