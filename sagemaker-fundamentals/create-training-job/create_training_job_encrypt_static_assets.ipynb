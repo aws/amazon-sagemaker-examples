{
 "cells": [
  {
   "cell_type": "markdown",
   "id": "likely-basis",
   "metadata": {},
   "source": [
    "# Training Job with Encrypted Static Assets\n",
    "\n",
    "In the [notebook about creating a training job in VPC mode](https://github.com/aws/amazon-sagemaker-examples/blob/master/sagemaker-fundamentals/create-training-job/create_training_job_vpc.ipynb) you learnt how to create a SageMaker training job with network isolation. Network isolation enables you to protect your data and model from being intercepted by cyber pirates. \n",
    "\n",
    "![pirate](assets/pirate.jpg)"
   ]
  },
  {
   "cell_type": "markdown",
   "id": "mighty-rally",
   "metadata": {},
   "source": [
    "Another way you can protect your static assets is to encrypt them before moving them from location A to location B. In this notebook, you will walk through a few techniques on that with the help of AWS Key Management Service [(AWS KMS)](https://docs.aws.amazon.com/kms/latest/developerguide/overview.html).\n",
    "\n",
    "Encryption is a wildly used technology, in addition to the above introductory material, you can find many free lectures online. "
   ]
  },
  {
   "cell_type": "markdown",
   "id": "liquid-breast",
   "metadata": {},
   "source": [
    "## Symmetric Ciphers\n",
    "We will focus on symmetric ciphers in this notebook. Quote from the GNU Privacy Handbook\n",
    "\n",
    "> A symmetric cipher is a cipher that uses the same key for both encryption and decryption. Two parties communicating using a symmetric cipher must agree on the key beforehand. Once they agree, the sender encrypts a message using the key, sends it to the receiver, and the receiver decrypts the message using the key. As an example, the German Enigma is a symmetric cipher, and daily keys were distributed as code books. Each day, a sending or receiving radio operator would consult his copy of the code book to find the day's key. Radio traffic for that day was then encrypted and decrypted using the day's key. Modern examples of symmetric ciphers include 3DES, Blowfish, and IDEA."
   ]
  },
  {
   "cell_type": "markdown",
   "id": "bored-trunk",
   "metadata": {},
   "source": [
    "## Environment to run this notebook\n",
    "You can run this notebook on your local machine or EC2 instance as an IAM user or you can run it on SageMaker Notebook Instance as a SageMaker service role. To avoid confusion, we will assume you are running it as an IAM user."
   ]
  },
  {
   "cell_type": "markdown",
   "id": "mexican-latin",
   "metadata": {},
   "source": [
    "## Permissions\n",
    "You will need to attach the following permissions to the IAM user\n",
    "\n",
    "* IAMFullAccess \n",
    "* AWSKeyManagementServicePowerUser\n",
    "* AmazonEC2ContainerRegistryFullAccess"
   ]
  },
  {
   "cell_type": "markdown",
   "id": "according-fraction",
   "metadata": {},
   "source": [
    "## Outline of this notebook\n",
    "\n",
    "* Generate a symmetric customer master key (CMK)\n",
    "* Allow your SageMaker service role to use the CMK\n",
    "* Generate a data key from the CMK\n",
    "* Encrypt some data with the data key and upload the encrypted data to S3\n",
    "* Create a SageMaker service role\n",
    "* Build a training image \n",
    "* Create a SageMaker training job using the encrypted data\n",
    "* Verify that data retrieved from S3 is encrypted and SageMaker needs your data key to decrypt\n",
    "\n",
    "The process of using a data key to encrypt your data instead of using master key directly is called [**envelope encryption**](https://docs.aws.amazon.com/kms/latest/developerguide/concepts.html#enveloping)\n",
    "You can directly use the master key to encrypt your data, but by using a data key, you reduced the risk of [man-in-the-middle-attack](https://en.wikipedia.org/wiki/Man-in-the-middle_attack). \n",
    "We will discuss the use of data key in detail later. \n",
    "\n",
    "![envelope-encryption](assets/envelope-encryption.jpg)"
   ]
  },
  {
   "cell_type": "code",
   "execution_count": null,
   "id": "fresh-testament",
   "metadata": {},
   "outputs": [],
   "source": [
    "# set ups\n",
    "import boto3\n",
    "import datetime\n",
    "import json\n",
    "import pprint\n",
    "\n",
    "pp = pprint.PrettyPrinter(indent=1)\n",
    "kms = boto3.client('kms') "
   ]
  },
  {
   "cell_type": "code",
   "execution_count": null,
   "id": "rough-ferry",
   "metadata": {},
   "outputs": [],
   "source": [
    "# Some helper functions\n",
    "\n",
    "def current_time():\n",
    "    ct = datetime.datetime.now() \n",
    "    return str(ct.now()).replace(\":\", \"-\").replace(\" \", \"-\")[:19]\n",
    "\n",
    "def account_id():\n",
    "    return boto3.client('sts').get_caller_identity()['Account']"
   ]
  },
  {
   "cell_type": "markdown",
   "id": "careful-diamond",
   "metadata": {},
   "source": [
    "### Generate a symmetric customer master key\n",
    "\n",
    "You will use [kms:CreateKey](https://boto3.amazonaws.com/v1/documentation/api/latest/reference/services/kms.html#KMS.Client.create_key) API to generate a **symmetric customer master key** used for **encryption** and **decryption**. You need to use a IAM policy to define who has access (and with what level of access) to the key. \n",
    "If you create the key from AWS console, then by following the default steps you will end up the following key policy:"
   ]
  },
  {
   "cell_type": "code",
   "execution_count": null,
   "id": "comfortable-hepatitis",
   "metadata": {},
   "outputs": [],
   "source": [
    "root_arn = f\"arn:aws:iam::{account_id()}:root\"\n",
    "user_arn = boto3.client('sts').get_caller_identity()['Arn']\n",
    "\n",
    "key_policy = {\n",
    "    \"Id\": \"key-consolepolicy-3\",\n",
    "    \"Version\": \"2012-10-17\",\n",
    "    \"Statement\": [\n",
    "        {\n",
    "            \"Sid\": \"Enable IAM User Permissions\",\n",
    "            \"Effect\": \"Allow\",\n",
    "            \"Principal\": {\n",
    "                \"AWS\": root_arn # enable root user to perform all actions\n",
    "            },\n",
    "            \"Action\": \"kms:*\",\n",
    "            \"Resource\": \"*\"\n",
    "        },\n",
    "        \n",
    "        {\n",
    "            \"Sid\": \"Allow access for Key Administrators\",\n",
    "            \"Effect\": \"Allow\",\n",
    "            \"Principal\": {\n",
    "                \"AWS\": [user_arn]   # give myself admin permission to this key\n",
    "                                     # you can add more admin users by appending this list\n",
    "            },\n",
    "            \"Action\": [\n",
    "                \"kms:Create*\",\n",
    "                \"kms:Describe*\",\n",
    "                \"kms:Enable*\",\n",
    "                \"kms:List*\",\n",
    "                \"kms:Put*\",\n",
    "                \"kms:Update*\",\n",
    "                \"kms:Revoke*\",\n",
    "                \"kms:Disable*\",\n",
    "                \"kms:Get*\",\n",
    "                \"kms:Delete*\",\n",
    "                \"kms:TagResource\",\n",
    "                \"kms:UntagResource\",\n",
    "                \"kms:ScheduleKeyDeletion\",\n",
    "                \"kms:CancelKeyDeletion\"\n",
    "            ],\n",
    "            \"Resource\": \"*\"\n",
    "        },\n",
    "        {\n",
    "            \"Sid\": \"Allow use of the key\",\n",
    "            \"Effect\": \"Allow\",\n",
    "            \"Principal\": {\n",
    "                \"AWS\": [user_arn]   # allow myself to use the key\n",
    "                                     # you can add more users / roles to this list\n",
    "                                     # for example you can add SageMaker service role \n",
    "                                     # here. But we will allow SageMaker service role\n",
    "                                     # to use this key via grant (see below)\n",
    "\n",
    "            },\n",
    "            \"Action\": [\n",
    "                \"kms:Encrypt\",\n",
    "                \"kms:Decrypt\",\n",
    "                \"kms:ReEncrypt*\",\n",
    "                \"kms:GenerateDataKey*\",\n",
    "                \"kms:DescribeKey\"\n",
    "            ],\n",
    "            \"Resource\": \"*\"\n",
    "        },\n",
    "        {\n",
    "            \"Sid\": \"Allow attachment of persistent resources\",\n",
    "            \"Effect\": \"Allow\",\n",
    "            \"Principal\": {\n",
    "                \"AWS\": [user_arn] # allow myself to create grant for this key\n",
    "                                   # see ref below to understand the diff \n",
    "                                   # between user and grant\n",
    "                                   # https://docs.aws.amazon.com/kms/latest/developerguide/concepts.html#grant\n",
    "            },\n",
    "            \"Action\": [\n",
    "                \"kms:CreateGrant\",\n",
    "                \"kms:ListGrants\",\n",
    "                \"kms:RevokeGrant\"\n",
    "            ],\n",
    "            \"Resource\": \"*\",\n",
    "            \"Condition\": {\n",
    "                \"Bool\": {\n",
    "                    \"kms:GrantIsForAWSResource\": \"true\"\n",
    "                }\n",
    "            }\n",
    "        }\n",
    "    ]\n",
    "}\n",
    "\n",
    "key_policy = json.dumps(key_policy)"
   ]
  },
  {
   "cell_type": "code",
   "execution_count": null,
   "id": "aware-sharp",
   "metadata": {},
   "outputs": [],
   "source": [
    "# create a key with the above key policy\n",
    "\n",
    "ck_res = kms.create_key(\n",
    "    Policy=key_policy,\n",
    "    Description=\"a symmetric key to demonstrate KMS\",\n",
    "    KeyUsage=\"ENCRYPT_DECRYPT\",                # use this key to encrypt and decrypt\n",
    "    Origin='AWS_KMS',                          # created via AWS KMS\n",
    "    CustomerMasterKeySpec='SYMMETRIC_DEFAULT'  # symmetric key\n",
    ")\n",
    "\n",
    "\n",
    "pp.pprint(ck_res)"
   ]
  },
  {
   "cell_type": "code",
   "execution_count": null,
   "id": "electric-siemens",
   "metadata": {},
   "outputs": [],
   "source": [
    "master_key = ck_res['KeyMetadata']['KeyId']\n",
    "print(\"The id of the key: \")\n",
    "print(master_key)"
   ]
  },
  {
   "cell_type": "markdown",
   "id": "after-presence",
   "metadata": {},
   "source": [
    "You can use this master key to encrypt your data directly. It is not a good practice in production. But it is good to know what you can do."
   ]
  },
  {
   "cell_type": "code",
   "execution_count": null,
   "id": "dated-stations",
   "metadata": {},
   "outputs": [],
   "source": [
    "my_secret_message = \"1729 is the smallest number expressible \\\n",
    "as the sum of two cubes in two different ways\".encode('utf-8')\n",
    "\n",
    "# 1729 =  1^3 + 12^3 = 9^3 + 10^3 (Srinivasa Ramanujan)\n",
    "\n",
    "# make the above secret a ciphertext\n",
    "enc_res = kms.encrypt(\n",
    "    KeyId=master_key,\n",
    "    Plaintext=my_secret_message)\n",
    "\n",
    "pp.pprint(enc_res)"
   ]
  },
  {
   "cell_type": "code",
   "execution_count": null,
   "id": "moving-individual",
   "metadata": {},
   "outputs": [],
   "source": [
    "# decrypt your secret message\n",
    "dec_res = kms.decrypt(\n",
    "    KeyId=master_key,\n",
    "    CiphertextBlob=enc_res['CiphertextBlob']\n",
    ")\n",
    "\n",
    "print(\"Decrpyted message:\")\n",
    "print(dec_res['Plaintext'].decode())"
   ]
  },
  {
   "cell_type": "markdown",
   "id": "seeing-national",
   "metadata": {},
   "source": [
    "One thing to notice is encryption and decryption should happen at **bytes** level. If you want to encrypt a python object (list, numpy array, pandas data frame, pytorch model or a string) then the first step is to serialize it into bytes. One easy way to do it is to use `pickle.dumps` method. "
   ]
  }
 ],
 "metadata": {
  "kernelspec": {
   "display_name": "Python 3",
   "language": "python",
   "name": "python3"
  },
  "language_info": {
   "codemirror_mode": {
    "name": "ipython",
    "version": 3
   },
   "file_extension": ".py",
   "mimetype": "text/x-python",
   "name": "python",
   "nbconvert_exporter": "python",
   "pygments_lexer": "ipython3",
   "version": "3.6.10"
  }
 },
 "nbformat": 4,
 "nbformat_minor": 5
}
