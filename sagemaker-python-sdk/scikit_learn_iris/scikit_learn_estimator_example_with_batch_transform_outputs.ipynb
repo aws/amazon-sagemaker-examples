{
 "cells": [
  {
   "cell_type": "code",
   "execution_count": 1,
   "id": "eed7a0b7",
   "metadata": {
    "execution": {
     "iopub.execute_input": "2022-04-07T00:18:33.910944Z",
     "iopub.status.busy": "2022-04-07T00:18:33.909550Z",
     "iopub.status.idle": "2022-04-07T00:18:33.911694Z",
     "shell.execute_reply": "2022-04-07T00:18:33.912248Z"
    },
    "papermill": {
     "duration": 0.020601,
     "end_time": "2022-04-07T00:18:33.912456",
     "exception": false,
     "start_time": "2022-04-07T00:18:33.891855",
     "status": "completed"
    },
    "tags": [
     "injected-parameters"
    ]
   },
   "outputs": [],
   "source": [
    "# Parameters\n",
    "kms_key = \"arn:aws:kms:us-west-2:000000000000:1234abcd-12ab-34cd-56ef-1234567890ab\"\n"
   ]
  },
  {
   "cell_type": "markdown",
   "id": "e69834e4",
   "metadata": {
    "papermill": {
     "duration": 0.013417,
     "end_time": "2022-04-07T00:18:33.940440",
     "exception": false,
     "start_time": "2022-04-07T00:18:33.927023",
     "status": "completed"
    },
    "tags": []
   },
   "source": [
    "# Iris Training and Prediction with Sagemaker Scikit-learn\n",
    "This tutorial shows you how to use [Scikit-learn](https://scikit-learn.org/stable/) with Sagemaker by utilizing the pre-built container. Scikit-learn is a popular Python machine learning framework. It includes a number of different algorithms for classification, regression, clustering, dimensionality reduction, and data/feature pre-processing. \n",
    "\n",
    "The [sagemaker-python-sdk](https://github.com/aws/sagemaker-python-sdk) module  makes it easy to take existing scikit-learn code, which we will show by training a model on the IRIS dataset and generating a set of predictions. For more information about the Scikit-learn container, see the [sagemaker-scikit-learn-containers](https://github.com/aws/sagemaker-scikit-learn-container) repository and the [sagemaker-python-sdk](https://github.com/aws/sagemaker-python-sdk) repository.\n",
    "\n",
    "For more on Scikit-learn, please visit the Scikit-learn website: <http://scikit-learn.org/stable/>.\n",
    "\n",
    "### Table of contents\n",
    "* [Upload the data for training](#upload_data)\n",
    "* [Create a Scikit-learn script to train with](#create_sklearn_script)\n",
    "* [Create the SageMaker Scikit Estimator](#create_sklearn_estimator)\n",
    "* [Train the SKLearn Estimator on the Iris data](#train_sklearn)\n",
    "* [Using the trained model to make inference requests](#inferece)\n",
    " * [Deploy the model](#deploy)\n",
    " * [Choose some data and use it for a prediction](#prediction_request)\n",
    " * [Endpoint cleanup](#endpoint_cleanup)\n",
    "* [Batch Transform](#batch_transform)\n",
    " * [Prepare Input Data](#prepare_input_data)\n",
    " * [Run Transform Job](#run_transform_job)\n",
    " * [Check Output Data](#check_output_data)"
   ]
  },
  {
   "cell_type": "markdown",
   "id": "ffb93ff6",
   "metadata": {
    "papermill": {
     "duration": 0.013577,
     "end_time": "2022-04-07T00:18:33.967566",
     "exception": false,
     "start_time": "2022-04-07T00:18:33.953989",
     "status": "completed"
    },
    "tags": []
   },
   "source": [
    "**Note: this example requires SageMaker Python SDK v2.**"
   ]
  },
  {
   "cell_type": "code",
   "execution_count": 2,
   "id": "94f0bc13",
   "metadata": {
    "execution": {
     "iopub.execute_input": "2022-04-07T00:18:33.999515Z",
     "iopub.status.busy": "2022-04-07T00:18:33.998687Z",
     "iopub.status.idle": "2022-04-07T00:18:50.856481Z",
     "shell.execute_reply": "2022-04-07T00:18:50.857154Z"
    },
    "papermill": {
     "duration": 16.876032,
     "end_time": "2022-04-07T00:18:50.857301",
     "exception": false,
     "start_time": "2022-04-07T00:18:33.981269",
     "status": "completed"
    },
    "tags": []
   },
   "outputs": [
    {
     "name": "stdout",
     "output_type": "stream",
     "text": [
      "/opt/conda/lib/python3.7/site-packages/secretstorage/dhcrypto.py:16: CryptographyDeprecationWarning: int_from_bytes is deprecated, use int.from_bytes instead\r\n",
      "  from cryptography.utils import int_from_bytes\r\n",
      "/opt/conda/lib/python3.7/site-packages/secretstorage/util.py:25: CryptographyDeprecationWarning: int_from_bytes is deprecated, use int.from_bytes instead\r\n",
      "  from cryptography.utils import int_from_bytes\r\n"
     ]
    },
    {
     "name": "stdout",
     "output_type": "stream",
     "text": [
      "\u001b[31mERROR: pip's dependency resolver does not currently take into account all the packages that are installed. This behaviour is the source of the following dependency conflicts.\r\n",
      "pytest-astropy 0.8.0 requires pytest-cov>=2.0, which is not installed.\r\n",
      "pytest-astropy 0.8.0 requires pytest-filter-subpackage>=0.1, which is not installed.\r\n",
      "awscli 1.22.7 requires botocore==1.23.7, but you have botocore 1.24.35 which is incompatible.\r\n",
      "aiobotocore 1.3.3 requires botocore<1.20.107,>=1.20.106, but you have botocore 1.24.35 which is incompatible.\u001b[0m\r\n",
      "\u001b[33mWARNING: Running pip as the 'root' user can result in broken permissions and conflicting behaviour with the system package manager. It is recommended to use a virtual environment instead: https://pip.pypa.io/warnings/venv\u001b[0m\r\n",
      "\u001b[33mWARNING: You are using pip version 21.1.3; however, version 22.0.4 is available.\r\n",
      "You should consider upgrading via the '/opt/conda/bin/python3 -m pip install --upgrade pip' command.\u001b[0m\r\n"
     ]
    },
    {
     "name": "stdout",
     "output_type": "stream",
     "text": [
      "Note: you may need to restart the kernel to use updated packages.\n"
     ]
    }
   ],
   "source": [
    "%pip install -U sagemaker>=2.15"
   ]
  },
  {
   "cell_type": "markdown",
   "id": "55960d82",
   "metadata": {
    "papermill": {
     "duration": 0.014138,
     "end_time": "2022-04-07T00:18:50.886364",
     "exception": false,
     "start_time": "2022-04-07T00:18:50.872226",
     "status": "completed"
    },
    "tags": []
   },
   "source": [
    "First, lets create our Sagemaker session and role, and create a S3 prefix to use for the notebook example."
   ]
  },
  {
   "cell_type": "code",
   "execution_count": 3,
   "id": "bdb6ada4",
   "metadata": {
    "execution": {
     "iopub.execute_input": "2022-04-07T00:18:50.956418Z",
     "iopub.status.busy": "2022-04-07T00:18:50.955609Z",
     "iopub.status.idle": "2022-04-07T00:18:53.415376Z",
     "shell.execute_reply": "2022-04-07T00:18:53.414947Z"
    },
    "papermill": {
     "duration": 2.514478,
     "end_time": "2022-04-07T00:18:53.415498",
     "exception": false,
     "start_time": "2022-04-07T00:18:50.901020",
     "status": "completed"
    },
    "tags": []
   },
   "outputs": [],
   "source": [
    "# S3 prefix\n",
    "prefix = \"Scikit-iris\"\n",
    "\n",
    "import sagemaker\n",
    "from sagemaker import get_execution_role\n",
    "\n",
    "sagemaker_session = sagemaker.Session()\n",
    "\n",
    "# Get a SageMaker-compatible role used by this Notebook Instance.\n",
    "role = get_execution_role()"
   ]
  },
  {
   "cell_type": "markdown",
   "id": "517c8483",
   "metadata": {
    "papermill": {
     "duration": 0.014485,
     "end_time": "2022-04-07T00:18:53.444632",
     "exception": false,
     "start_time": "2022-04-07T00:18:53.430147",
     "status": "completed"
    },
    "tags": []
   },
   "source": [
    "## Upload the data for training <a class=\"anchor\" id=\"upload_data\"></a>\n",
    "\n",
    "When training large models with huge amounts of data, you'll typically use big data tools, like Amazon Athena, AWS Glue, or Amazon EMR, to create your data in S3. For the purposes of this example, we're using a sample of the classic [Iris dataset](https://en.wikipedia.org/wiki/Iris_flower_data_set), which is included with Scikit-learn. We will load the dataset, write locally, then write the dataset to s3 to use."
   ]
  },
  {
   "cell_type": "code",
   "execution_count": 4,
   "id": "c04180bb",
   "metadata": {
    "execution": {
     "iopub.execute_input": "2022-04-07T00:18:53.488669Z",
     "iopub.status.busy": "2022-04-07T00:18:53.487822Z",
     "iopub.status.idle": "2022-04-07T00:18:54.001910Z",
     "shell.execute_reply": "2022-04-07T00:18:54.002322Z"
    },
    "papermill": {
     "duration": 0.543582,
     "end_time": "2022-04-07T00:18:54.002470",
     "exception": false,
     "start_time": "2022-04-07T00:18:53.458888",
     "status": "completed"
    },
    "tags": []
   },
   "outputs": [],
   "source": [
    "import boto3\n",
    "import numpy as np\n",
    "import pandas as pd\n",
    "import os\n",
    "\n",
    "os.makedirs(\"./data\", exist_ok=True)\n",
    "\n",
    "s3_client = boto3.client(\"s3\")\n",
    "s3_client.download_file(\n",
    "    f\"sagemaker-sample-files\", \"datasets/tabular/iris/iris.data\", \"./data/iris.csv\"\n",
    ")\n",
    "\n",
    "df_iris = pd.read_csv(\"./data/iris.csv\", header=None)\n",
    "df_iris[4] = df_iris[4].map({\"Iris-setosa\": 0, \"Iris-versicolor\": 1, \"Iris-virginica\": 2})\n",
    "iris = df_iris[[4, 0, 1, 2, 3]].to_numpy()\n",
    "np.savetxt(\"./data/iris.csv\", iris, delimiter=\",\", fmt=\"%1.1f, %1.3f, %1.3f, %1.3f, %1.3f\")"
   ]
  },
  {
   "cell_type": "markdown",
   "id": "77938a6e",
   "metadata": {
    "papermill": {
     "duration": 0.014461,
     "end_time": "2022-04-07T00:18:54.032124",
     "exception": false,
     "start_time": "2022-04-07T00:18:54.017663",
     "status": "completed"
    },
    "tags": []
   },
   "source": [
    "Once we have the data locally, we can use use the tools provided by the SageMaker Python SDK to upload the data to a default bucket. "
   ]
  },
  {
   "cell_type": "code",
   "execution_count": 5,
   "id": "bfdbb9ea",
   "metadata": {
    "execution": {
     "iopub.execute_input": "2022-04-07T00:18:54.068725Z",
     "iopub.status.busy": "2022-04-07T00:18:54.067768Z",
     "iopub.status.idle": "2022-04-07T00:18:54.328755Z",
     "shell.execute_reply": "2022-04-07T00:18:54.328297Z"
    },
    "papermill": {
     "duration": 0.281989,
     "end_time": "2022-04-07T00:18:54.328870",
     "exception": false,
     "start_time": "2022-04-07T00:18:54.046881",
     "status": "completed"
    },
    "tags": []
   },
   "outputs": [],
   "source": [
    "WORK_DIRECTORY = \"data\"\n",
    "\n",
    "train_input = sagemaker_session.upload_data(\n",
    "    WORK_DIRECTORY, key_prefix=\"{}/{}\".format(prefix, WORK_DIRECTORY)\n",
    ")"
   ]
  },
  {
   "cell_type": "markdown",
   "id": "7f24fe71",
   "metadata": {
    "papermill": {
     "duration": 0.014696,
     "end_time": "2022-04-07T00:18:54.358768",
     "exception": false,
     "start_time": "2022-04-07T00:18:54.344072",
     "status": "completed"
    },
    "tags": []
   },
   "source": [
    "## Create a Scikit-learn script to train with <a class=\"anchor\" id=\"create_sklearn_script\"></a>\n",
    "SageMaker can now run a scikit-learn script using the `SKLearn` estimator. When executed on SageMaker a number of helpful environment variables are available to access properties of the training environment, such as:\n",
    "\n",
    "* `SM_MODEL_DIR`: A string representing the path to the directory to write model artifacts to. Any artifacts saved in this folder are uploaded to S3 for model hosting after the training job completes.\n",
    "* `SM_OUTPUT_DIR`: A string representing the filesystem path to write output artifacts to. Output artifacts may include checkpoints, graphs, and other files to save, not including model artifacts. These artifacts are compressed and uploaded to S3 to the same S3 prefix as the model artifacts.\n",
    "\n",
    "Supposing two input channels, 'train' and 'test', were used in the call to the `SKLearn` estimator's `fit()` method, the following environment variables will be set, following the format `SM_CHANNEL_[channel_name]`:\n",
    "\n",
    "* `SM_CHANNEL_TRAIN`: A string representing the path to the directory containing data in the 'train' channel\n",
    "* `SM_CHANNEL_TEST`: Same as above, but for the 'test' channel.\n",
    "\n",
    "A typical training script loads data from the input channels, configures training with hyperparameters, trains a model, and saves a model to model_dir so that it can be hosted later. Hyperparameters are passed to your script as arguments and can be retrieved with an `argparse.ArgumentParser` instance. For example, the script that we will run in this notebook is the below:\n",
    "\n",
    "```python\n",
    "from __future__ import print_function\n",
    "\n",
    "import argparse\n",
    "import joblib\n",
    "import os\n",
    "import pandas as pd\n",
    "\n",
    "from sklearn import tree\n",
    "\n",
    "\n",
    "if __name__ == '__main__':\n",
    "    parser = argparse.ArgumentParser()\n",
    "\n",
    "    # Hyperparameters are described here. In this simple example we are just including one hyperparameter.\n",
    "    parser.add_argument('--max_leaf_nodes', type=int, default=-1)\n",
    "\n",
    "    # Sagemaker specific arguments. Defaults are set in the environment variables.\n",
    "    parser.add_argument('--output-data-dir', type=str, default=os.environ['SM_OUTPUT_DATA_DIR'])\n",
    "    parser.add_argument('--model-dir', type=str, default=os.environ['SM_MODEL_DIR'])\n",
    "    parser.add_argument('--train', type=str, default=os.environ['SM_CHANNEL_TRAIN'])\n",
    "\n",
    "    args = parser.parse_args()\n",
    "\n",
    "    # Take the set of files and read them all into a single pandas dataframe\n",
    "    input_files = [ os.path.join(args.train, file) for file in os.listdir(args.train) ]\n",
    "    if len(input_files) == 0:\n",
    "        raise ValueError(('There are no files in {}.\\n' +\n",
    "                          'This usually indicates that the channel ({}) was incorrectly specified,\\n' +\n",
    "                          'the data specification in S3 was incorrectly specified or the role specified\\n' +\n",
    "                          'does not have permission to access the data.').format(args.train, \"train\"))\n",
    "    raw_data = [ pd.read_csv(file, header=None, engine=\"python\") for file in input_files ]\n",
    "    train_data = pd.concat(raw_data)\n",
    "\n",
    "    # labels are in the first column\n",
    "    train_y = train_data.iloc[:, 0]\n",
    "    train_X = train_data.iloc[:, 1:]\n",
    "\n",
    "    # Here we support a single hyperparameter, 'max_leaf_nodes'. Note that you can add as many\n",
    "    # as your training my require in the ArgumentParser above.\n",
    "    max_leaf_nodes = args.max_leaf_nodes\n",
    "\n",
    "    # Now use scikit-learn's decision tree classifier to train the model.\n",
    "    clf = tree.DecisionTreeClassifier(max_leaf_nodes=max_leaf_nodes)\n",
    "    clf = clf.fit(train_X, train_y)\n",
    "\n",
    "    # Print the coefficients of the trained classifier, and save the coefficients\n",
    "    joblib.dump(clf, os.path.join(args.model_dir, \"model.joblib\"))\n",
    "\n",
    "\n",
    "def model_fn(model_dir):\n",
    "    \"\"\"Deserialized and return fitted model\n",
    "    \n",
    "    Note that this should have the same name as the serialized model in the main method\n",
    "    \"\"\"\n",
    "    clf = joblib.load(os.path.join(model_dir, \"model.joblib\"))\n",
    "    return clf\n",
    "```"
   ]
  },
  {
   "cell_type": "markdown",
   "id": "e20244db",
   "metadata": {
    "papermill": {
     "duration": 0.014387,
     "end_time": "2022-04-07T00:18:54.388350",
     "exception": false,
     "start_time": "2022-04-07T00:18:54.373963",
     "status": "completed"
    },
    "tags": []
   },
   "source": [
    "Because the Scikit-learn container imports your training script, you should always put your training code in a main guard `(if __name__=='__main__':)` so that the container does not inadvertently run your training code at the wrong point in execution.\n",
    "\n",
    "For more information about training environment variables, please visit https://github.com/aws/sagemaker-containers."
   ]
  },
  {
   "cell_type": "markdown",
   "id": "336caffc",
   "metadata": {
    "papermill": {
     "duration": 0.014585,
     "end_time": "2022-04-07T00:18:54.417366",
     "exception": false,
     "start_time": "2022-04-07T00:18:54.402781",
     "status": "completed"
    },
    "tags": []
   },
   "source": [
    "## Create SageMaker Scikit Estimator <a class=\"anchor\" id=\"create_sklearn_estimator\"></a>\n",
    "\n",
    "To run our Scikit-learn training script on SageMaker, we construct a `sagemaker.sklearn.estimator.sklearn` estimator, which accepts several constructor arguments:\n",
    "\n",
    "* __entry_point__: The path to the Python script SageMaker runs for training and prediction.\n",
    "* __role__: Role ARN\n",
    "* __instance_type__ *(optional)*: The type of SageMaker instances for training. __Note__: Because Scikit-learn does not natively support GPU training, Sagemaker Scikit-learn does not currently support training on GPU instance types.\n",
    "* __sagemaker_session__ *(optional)*: The session used to train on Sagemaker.\n",
    "* __hyperparameters__ *(optional)*: A dictionary passed to the train function as hyperparameters.\n",
    "\n",
    "To see the code for the SKLearn Estimator, see here: https://github.com/aws/sagemaker-python-sdk/tree/master/src/sagemaker/sklearn"
   ]
  },
  {
   "cell_type": "code",
   "execution_count": 6,
   "id": "3e78d576",
   "metadata": {
    "execution": {
     "iopub.execute_input": "2022-04-07T00:18:54.451244Z",
     "iopub.status.busy": "2022-04-07T00:18:54.450643Z",
     "iopub.status.idle": "2022-04-07T00:18:54.642735Z",
     "shell.execute_reply": "2022-04-07T00:18:54.642240Z"
    },
    "papermill": {
     "duration": 0.211142,
     "end_time": "2022-04-07T00:18:54.642861",
     "exception": false,
     "start_time": "2022-04-07T00:18:54.431719",
     "status": "completed"
    },
    "tags": []
   },
   "outputs": [],
   "source": [
    "from sagemaker.sklearn.estimator import SKLearn\n",
    "\n",
    "FRAMEWORK_VERSION = \"0.23-1\"\n",
    "script_path = \"scikit_learn_iris.py\"\n",
    "\n",
    "sklearn = SKLearn(\n",
    "    entry_point=script_path,\n",
    "    framework_version=FRAMEWORK_VERSION,\n",
    "    instance_type=\"ml.c4.xlarge\",\n",
    "    role=role,\n",
    "    sagemaker_session=sagemaker_session,\n",
    "    hyperparameters={\"max_leaf_nodes\": 30},\n",
    ")"
   ]
  },
  {
   "cell_type": "markdown",
   "id": "4a20e0f2",
   "metadata": {
    "papermill": {
     "duration": 0.014664,
     "end_time": "2022-04-07T00:18:54.672347",
     "exception": false,
     "start_time": "2022-04-07T00:18:54.657683",
     "status": "completed"
    },
    "tags": []
   },
   "source": [
    "## Train SKLearn Estimator on Iris data <a class=\"anchor\" id=\"train_sklearn\"></a>\n",
    "Training is very simple, just call `fit` on the Estimator! This will start a SageMaker Training job that will download the data for us, invoke our scikit-learn code (in the provided script file), and save any model artifacts that the script creates."
   ]
  },
  {
   "cell_type": "code",
   "execution_count": 7,
   "id": "74d383f4",
   "metadata": {
    "execution": {
     "iopub.execute_input": "2022-04-07T00:18:54.771716Z",
     "iopub.status.busy": "2022-04-07T00:18:54.770928Z",
     "iopub.status.idle": "2022-04-07T00:22:37.669318Z",
     "shell.execute_reply": "2022-04-07T00:22:37.669669Z"
    },
    "papermill": {
     "duration": 222.918632,
     "end_time": "2022-04-07T00:22:37.669815",
     "exception": false,
     "start_time": "2022-04-07T00:18:54.751183",
     "status": "completed"
    },
    "scrolled": true,
    "tags": []
   },
   "outputs": [
    {
     "name": "stdout",
     "output_type": "stream",
     "text": [
      "2022-04-07 00:18:55 Starting - Starting the training job."
     ]
    },
    {
     "name": "stdout",
     "output_type": "stream",
     "text": [
      "."
     ]
    },
    {
     "name": "stdout",
     "output_type": "stream",
     "text": [
      "."
     ]
    },
    {
     "name": "stdout",
     "output_type": "stream",
     "text": [
      "\n",
      "2022-04-07 00:19:18 Starting - Preparing the instances for trainingProfilerReport-1649290734: InProgress\n",
      "."
     ]
    },
    {
     "name": "stdout",
     "output_type": "stream",
     "text": [
      "."
     ]
    },
    {
     "name": "stdout",
     "output_type": "stream",
     "text": [
      "."
     ]
    },
    {
     "name": "stdout",
     "output_type": "stream",
     "text": [
      "."
     ]
    },
    {
     "name": "stdout",
     "output_type": "stream",
     "text": [
      "."
     ]
    },
    {
     "name": "stdout",
     "output_type": "stream",
     "text": [
      "."
     ]
    },
    {
     "name": "stdout",
     "output_type": "stream",
     "text": [
      "\n",
      "2022-04-07 00:20:23 Downloading - Downloading input data."
     ]
    },
    {
     "name": "stdout",
     "output_type": "stream",
     "text": [
      "."
     ]
    },
    {
     "name": "stdout",
     "output_type": "stream",
     "text": [
      "."
     ]
    },
    {
     "name": "stdout",
     "output_type": "stream",
     "text": [
      "."
     ]
    },
    {
     "name": "stdout",
     "output_type": "stream",
     "text": [
      "."
     ]
    },
    {
     "name": "stdout",
     "output_type": "stream",
     "text": [
      "."
     ]
    },
    {
     "name": "stdout",
     "output_type": "stream",
     "text": [
      "\n",
      "2022-04-07 00:21:19 Training - Downloading the training image."
     ]
    },
    {
     "name": "stdout",
     "output_type": "stream",
     "text": [
      "."
     ]
    },
    {
     "name": "stdout",
     "output_type": "stream",
     "text": [
      "."
     ]
    },
    {
     "name": "stdout",
     "output_type": "stream",
     "text": [
      "\n",
      "2022-04-07 00:21:54 Training - Training image download completed. Training in progress.."
     ]
    },
    {
     "name": "stdout",
     "output_type": "stream",
     "text": [
      "\u001b[34m2022-04-07 00:21:56,944 sagemaker-containers INFO     Imported framework sagemaker_sklearn_container.training\u001b[0m\n",
      "\u001b[34m2022-04-07 00:21:56,947 sagemaker-training-toolkit INFO     No GPUs detected (normal if no gpus installed)\u001b[0m\n",
      "\u001b[34m2022-04-07 00:21:56,959 sagemaker_sklearn_container.training INFO     Invoking user training script.\u001b[0m\n",
      "\u001b[34m2022-04-07 00:21:57,342 sagemaker-training-toolkit INFO     No GPUs detected (normal if no gpus installed)\u001b[0m\n",
      "\u001b[34m2022-04-07 00:21:57,359 sagemaker-training-toolkit INFO     No GPUs detected (normal if no gpus installed)\u001b[0m\n",
      "\u001b[34m2022-04-07 00:21:57,371 sagemaker-training-toolkit INFO     No GPUs detected (normal if no gpus installed)\u001b[0m\n",
      "\u001b[34m2022-04-07 00:21:57,380 sagemaker-training-toolkit INFO     Invoking user script\u001b[0m\n",
      "\u001b[34mTraining Env:\u001b[0m\n",
      "\u001b[34m{\n",
      "    \"additional_framework_parameters\": {},\n",
      "    \"channel_input_dirs\": {\n",
      "        \"train\": \"/opt/ml/input/data/train\"\n",
      "    },\n",
      "    \"current_host\": \"algo-1\",\n",
      "    \"framework_module\": \"sagemaker_sklearn_container.training:main\",\n",
      "    \"hosts\": [\n",
      "        \"algo-1\"\n",
      "    ],\n",
      "    \"hyperparameters\": {\n",
      "        \"max_leaf_nodes\": 30\n",
      "    },\n",
      "    \"input_config_dir\": \"/opt/ml/input/config\",\n",
      "    \"input_data_config\": {\n",
      "        \"train\": {\n",
      "            \"TrainingInputMode\": \"File\",\n",
      "            \"S3DistributionType\": \"FullyReplicated\",\n",
      "            \"RecordWrapperType\": \"None\"\n",
      "        }\n",
      "    },\n",
      "    \"input_dir\": \"/opt/ml/input\",\n",
      "    \"is_master\": true,\n",
      "    \"job_name\": \"sagemaker-scikit-learn-2022-04-07-00-18-54-768\",\n",
      "    \"log_level\": 20,\n",
      "    \"master_hostname\": \"algo-1\",\n",
      "    \"model_dir\": \"/opt/ml/model\",\n",
      "    \"module_dir\": \"s3://sagemaker-us-west-2-000000000000/sagemaker-scikit-learn-2022-04-07-00-18-54-768/source/sourcedir.tar.gz\",\n",
      "    \"module_name\": \"scikit_learn_iris\",\n",
      "    \"network_interface_name\": \"eth0\",\n",
      "    \"num_cpus\": 4,\n",
      "    \"num_gpus\": 0,\n",
      "    \"output_data_dir\": \"/opt/ml/output/data\",\n",
      "    \"output_dir\": \"/opt/ml/output\",\n",
      "    \"output_intermediate_dir\": \"/opt/ml/output/intermediate\",\n",
      "    \"resource_config\": {\n",
      "        \"current_host\": \"algo-1\",\n",
      "        \"current_instance_type\": \"ml.c4.xlarge\",\n",
      "        \"current_group_name\": \"homogeneousCluster\",\n",
      "        \"hosts\": [\n",
      "            \"algo-1\"\n",
      "        ],\n",
      "        \"instance_groups\": [\n",
      "            {\n",
      "                \"instance_group_name\": \"homogeneousCluster\",\n",
      "                \"instance_type\": \"ml.c4.xlarge\",\n",
      "                \"hosts\": [\n",
      "                    \"algo-1\"\n",
      "                ]\n",
      "            }\n",
      "        ],\n",
      "        \"network_interface_name\": \"eth0\"\n",
      "    },\n",
      "    \"user_entry_point\": \"scikit_learn_iris.py\"\u001b[0m\n",
      "\u001b[34m}\u001b[0m\n",
      "\u001b[34mEnvironment variables:\u001b[0m\n",
      "\u001b[34mSM_HOSTS=[\"algo-1\"]\u001b[0m\n",
      "\u001b[34mSM_NETWORK_INTERFACE_NAME=eth0\u001b[0m\n",
      "\u001b[34mSM_HPS={\"max_leaf_nodes\":30}\u001b[0m\n",
      "\u001b[34mSM_USER_ENTRY_POINT=scikit_learn_iris.py\u001b[0m\n",
      "\u001b[34mSM_FRAMEWORK_PARAMS={}\u001b[0m\n",
      "\u001b[34mSM_RESOURCE_CONFIG={\"current_group_name\":\"homogeneousCluster\",\"current_host\":\"algo-1\",\"current_instance_type\":\"ml.c4.xlarge\",\"hosts\":[\"algo-1\"],\"instance_groups\":[{\"hosts\":[\"algo-1\"],\"instance_group_name\":\"homogeneousCluster\",\"instance_type\":\"ml.c4.xlarge\"}],\"network_interface_name\":\"eth0\"}\u001b[0m\n",
      "\u001b[34mSM_INPUT_DATA_CONFIG={\"train\":{\"RecordWrapperType\":\"None\",\"S3DistributionType\":\"FullyReplicated\",\"TrainingInputMode\":\"File\"}}\u001b[0m\n",
      "\u001b[34mSM_OUTPUT_DATA_DIR=/opt/ml/output/data\u001b[0m\n",
      "\u001b[34mSM_CHANNELS=[\"train\"]\u001b[0m\n",
      "\u001b[34mSM_CURRENT_HOST=algo-1\u001b[0m\n",
      "\u001b[34mSM_MODULE_NAME=scikit_learn_iris\u001b[0m\n",
      "\u001b[34mSM_LOG_LEVEL=20\u001b[0m\n",
      "\u001b[34mSM_FRAMEWORK_MODULE=sagemaker_sklearn_container.training:main\u001b[0m\n",
      "\u001b[34mSM_INPUT_DIR=/opt/ml/input\u001b[0m\n",
      "\u001b[34mSM_INPUT_CONFIG_DIR=/opt/ml/input/config\u001b[0m\n",
      "\u001b[34mSM_OUTPUT_DIR=/opt/ml/output\u001b[0m\n",
      "\u001b[34mSM_NUM_CPUS=4\u001b[0m\n",
      "\u001b[34mSM_NUM_GPUS=0\u001b[0m\n",
      "\u001b[34mSM_MODEL_DIR=/opt/ml/model\u001b[0m\n",
      "\u001b[34mSM_MODULE_DIR=s3://sagemaker-us-west-2-000000000000/sagemaker-scikit-learn-2022-04-07-00-18-54-768/source/sourcedir.tar.gz\u001b[0m\n",
      "\u001b[34mSM_TRAINING_ENV={\"additional_framework_parameters\":{},\"channel_input_dirs\":{\"train\":\"/opt/ml/input/data/train\"},\"current_host\":\"algo-1\",\"framework_module\":\"sagemaker_sklearn_container.training:main\",\"hosts\":[\"algo-1\"],\"hyperparameters\":{\"max_leaf_nodes\":30},\"input_config_dir\":\"/opt/ml/input/config\",\"input_data_config\":{\"train\":{\"RecordWrapperType\":\"None\",\"S3DistributionType\":\"FullyReplicated\",\"TrainingInputMode\":\"File\"}},\"input_dir\":\"/opt/ml/input\",\"is_master\":true,\"job_name\":\"sagemaker-scikit-learn-2022-04-07-00-18-54-768\",\"log_level\":20,\"master_hostname\":\"algo-1\",\"model_dir\":\"/opt/ml/model\",\"module_dir\":\"s3://sagemaker-us-west-2-000000000000/sagemaker-scikit-learn-2022-04-07-00-18-54-768/source/sourcedir.tar.gz\",\"module_name\":\"scikit_learn_iris\",\"network_interface_name\":\"eth0\",\"num_cpus\":4,\"num_gpus\":0,\"output_data_dir\":\"/opt/ml/output/data\",\"output_dir\":\"/opt/ml/output\",\"output_intermediate_dir\":\"/opt/ml/output/intermediate\",\"resource_config\":{\"current_group_name\":\"homogeneousCluster\",\"current_host\":\"algo-1\",\"current_instance_type\":\"ml.c4.xlarge\",\"hosts\":[\"algo-1\"],\"instance_groups\":[{\"hosts\":[\"algo-1\"],\"instance_group_name\":\"homogeneousCluster\",\"instance_type\":\"ml.c4.xlarge\"}],\"network_interface_name\":\"eth0\"},\"user_entry_point\":\"scikit_learn_iris.py\"}\u001b[0m\n",
      "\u001b[34mSM_USER_ARGS=[\"--max_leaf_nodes\",\"30\"]\u001b[0m\n",
      "\u001b[34mSM_OUTPUT_INTERMEDIATE_DIR=/opt/ml/output/intermediate\u001b[0m\n",
      "\u001b[34mSM_CHANNEL_TRAIN=/opt/ml/input/data/train\u001b[0m\n",
      "\u001b[34mSM_HP_MAX_LEAF_NODES=30\u001b[0m\n",
      "\u001b[34mPYTHONPATH=/opt/ml/code:/miniconda3/bin:/miniconda3/lib/python37.zip:/miniconda3/lib/python3.7:/miniconda3/lib/python3.7/lib-dynload:/miniconda3/lib/python3.7/site-packages\u001b[0m\n",
      "\u001b[34mInvoking script with the following command:\u001b[0m\n",
      "\u001b[34m/miniconda3/bin/python scikit_learn_iris.py --max_leaf_nodes 30\u001b[0m\n",
      "\u001b[34m2022-04-07 00:21:58,958 sagemaker-containers INFO     Reporting training SUCCESS\u001b[0m\n"
     ]
    },
    {
     "name": "stdout",
     "output_type": "stream",
     "text": [
      "\n",
      "2022-04-07 00:22:19 Uploading - Uploading generated training model\n",
      "2022-04-07 00:22:19 Completed - Training job completed\n"
     ]
    },
    {
     "name": "stdout",
     "output_type": "stream",
     "text": [
      "Training seconds: 112\n",
      "Billable seconds: 112\n"
     ]
    }
   ],
   "source": [
    "sklearn.fit({\"train\": train_input})"
   ]
  },
  {
   "cell_type": "markdown",
   "id": "b516c8ed",
   "metadata": {
    "papermill": {
     "duration": 0.021703,
     "end_time": "2022-04-07T00:22:37.714951",
     "exception": false,
     "start_time": "2022-04-07T00:22:37.693248",
     "status": "completed"
    },
    "tags": []
   },
   "source": [
    "## Using the trained model to make inference requests <a class=\"anchor\" id=\"inference\"></a>\n",
    "\n",
    "### Deploy the model <a class=\"anchor\" id=\"deploy\"></a>\n",
    "\n",
    "Deploying the model to SageMaker hosting just requires a `deploy` call on the fitted model. This call takes an instance count and instance type."
   ]
  },
  {
   "cell_type": "code",
   "execution_count": 8,
   "id": "fd699119",
   "metadata": {
    "execution": {
     "iopub.execute_input": "2022-04-07T00:22:37.764629Z",
     "iopub.status.busy": "2022-04-07T00:22:37.764085Z",
     "iopub.status.idle": "2022-04-07T00:25:09.083298Z",
     "shell.execute_reply": "2022-04-07T00:25:09.083881Z"
    },
    "papermill": {
     "duration": 151.347247,
     "end_time": "2022-04-07T00:25:09.084038",
     "exception": false,
     "start_time": "2022-04-07T00:22:37.736791",
     "status": "completed"
    },
    "tags": []
   },
   "outputs": [
    {
     "name": "stdout",
     "output_type": "stream",
     "text": [
      "-"
     ]
    },
    {
     "name": "stdout",
     "output_type": "stream",
     "text": [
      "-"
     ]
    },
    {
     "name": "stdout",
     "output_type": "stream",
     "text": [
      "-"
     ]
    },
    {
     "name": "stdout",
     "output_type": "stream",
     "text": [
      "-"
     ]
    },
    {
     "name": "stdout",
     "output_type": "stream",
     "text": [
      "-"
     ]
    },
    {
     "name": "stdout",
     "output_type": "stream",
     "text": [
      "!"
     ]
    }
   ],
   "source": [
    "predictor = sklearn.deploy(initial_instance_count=1, instance_type=\"ml.m5.xlarge\")"
   ]
  },
  {
   "cell_type": "markdown",
   "id": "831d8e19",
   "metadata": {
    "papermill": {
     "duration": 0.025617,
     "end_time": "2022-04-07T00:25:09.140546",
     "exception": false,
     "start_time": "2022-04-07T00:25:09.114929",
     "status": "completed"
    },
    "tags": []
   },
   "source": [
    "### Choose some data and use it for a prediction <a class=\"anchor\" id=\"prediction_request\"></a>\n",
    "\n",
    "In order to do some predictions, we'll extract some of the data we used for training and do predictions against it. This is, of course, bad statistical practice, but a good way to see how the mechanism works."
   ]
  },
  {
   "cell_type": "code",
   "execution_count": 9,
   "id": "76a70d64",
   "metadata": {
    "execution": {
     "iopub.execute_input": "2022-04-07T00:25:09.200374Z",
     "iopub.status.busy": "2022-04-07T00:25:09.199486Z",
     "iopub.status.idle": "2022-04-07T00:25:09.207882Z",
     "shell.execute_reply": "2022-04-07T00:25:09.207370Z"
    },
    "papermill": {
     "duration": 0.04266,
     "end_time": "2022-04-07T00:25:09.208004",
     "exception": false,
     "start_time": "2022-04-07T00:25:09.165344",
     "status": "completed"
    },
    "tags": []
   },
   "outputs": [],
   "source": [
    "import itertools\n",
    "import pandas as pd\n",
    "\n",
    "shape = pd.read_csv(\"data/iris.csv\", header=None)\n",
    "\n",
    "a = [50 * i for i in range(3)]\n",
    "b = [40 + i for i in range(10)]\n",
    "indices = [i + j for i, j in itertools.product(a, b)]\n",
    "\n",
    "test_data = shape.iloc[indices[:-1]]\n",
    "test_X = test_data.iloc[:, 1:]\n",
    "test_y = test_data.iloc[:, 0]"
   ]
  },
  {
   "cell_type": "markdown",
   "id": "243c0423",
   "metadata": {
    "papermill": {
     "duration": 0.037067,
     "end_time": "2022-04-07T00:25:09.272478",
     "exception": false,
     "start_time": "2022-04-07T00:25:09.235411",
     "status": "completed"
    },
    "tags": []
   },
   "source": [
    "Prediction is as easy as calling predict with the predictor we got back from deploy and the data we want to do predictions with. The output from the endpoint return an numerical representation of the classification prediction; in the original dataset, these are flower names, but in this example the labels are numerical. We can compare against the original label that we parsed."
   ]
  },
  {
   "cell_type": "code",
   "execution_count": 10,
   "id": "489d0aa1",
   "metadata": {
    "execution": {
     "iopub.execute_input": "2022-04-07T00:25:09.349138Z",
     "iopub.status.busy": "2022-04-07T00:25:09.346459Z",
     "iopub.status.idle": "2022-04-07T00:25:09.474530Z",
     "shell.execute_reply": "2022-04-07T00:25:09.476247Z"
    },
    "papermill": {
     "duration": 0.176938,
     "end_time": "2022-04-07T00:25:09.476407",
     "exception": false,
     "start_time": "2022-04-07T00:25:09.299469",
     "status": "completed"
    },
    "tags": []
   },
   "outputs": [
    {
     "name": "stdout",
     "output_type": "stream",
     "text": [
      "[0. 0. 0. 0. 0. 0. 0. 0. 0. 0. 1. 1. 1. 1. 1. 1. 1. 1. 1. 1. 2. 2. 2. 2.\n",
      " 2. 2. 2. 2. 2.]\n",
      "[0. 0. 0. 0. 0. 0. 0. 0. 0. 0. 1. 1. 1. 1. 1. 1. 1. 1. 1. 1. 2. 2. 2. 2.\n",
      " 2. 2. 2. 2. 2.]\n"
     ]
    }
   ],
   "source": [
    "print(predictor.predict(test_X.values))\n",
    "print(test_y.values)"
   ]
  },
  {
   "cell_type": "markdown",
   "id": "8b2dc404",
   "metadata": {
    "papermill": {
     "duration": 0.044146,
     "end_time": "2022-04-07T00:25:09.563056",
     "exception": false,
     "start_time": "2022-04-07T00:25:09.518910",
     "status": "completed"
    },
    "tags": []
   },
   "source": [
    "### Endpoint cleanup <a class=\"anchor\" id=\"endpoint_cleanup\"></a>\n",
    "\n",
    "When you're done with the endpoint, you'll want to clean it up."
   ]
  },
  {
   "cell_type": "code",
   "execution_count": 11,
   "id": "93f6648f",
   "metadata": {
    "execution": {
     "iopub.execute_input": "2022-04-07T00:25:09.637210Z",
     "iopub.status.busy": "2022-04-07T00:25:09.636524Z",
     "iopub.status.idle": "2022-04-07T00:25:10.118177Z",
     "shell.execute_reply": "2022-04-07T00:25:10.117235Z"
    },
    "papermill": {
     "duration": 0.519308,
     "end_time": "2022-04-07T00:25:10.118304",
     "exception": false,
     "start_time": "2022-04-07T00:25:09.598996",
     "status": "completed"
    },
    "tags": []
   },
   "outputs": [],
   "source": [
    "predictor.delete_endpoint()"
   ]
  },
  {
   "cell_type": "markdown",
   "id": "bca35ea3",
   "metadata": {
    "papermill": {
     "duration": 0.021357,
     "end_time": "2022-04-07T00:25:10.161130",
     "exception": false,
     "start_time": "2022-04-07T00:25:10.139773",
     "status": "completed"
    },
    "tags": []
   },
   "source": [
    "## Batch Transform <a class=\"anchor\" id=\"batch_transform\"></a>\n",
    "We can also use the trained model for asynchronous batch inference on S3 data using SageMaker Batch Transform."
   ]
  },
  {
   "cell_type": "code",
   "execution_count": 12,
   "id": "7afadfcc",
   "metadata": {
    "execution": {
     "iopub.execute_input": "2022-04-07T00:25:10.210186Z",
     "iopub.status.busy": "2022-04-07T00:25:10.209636Z",
     "iopub.status.idle": "2022-04-07T00:25:10.610520Z",
     "shell.execute_reply": "2022-04-07T00:25:10.610948Z"
    },
    "papermill": {
     "duration": 0.428281,
     "end_time": "2022-04-07T00:25:10.611130",
     "exception": false,
     "start_time": "2022-04-07T00:25:10.182849",
     "status": "completed"
    },
    "tags": []
   },
   "outputs": [],
   "source": [
    "# Define a SKLearn Transformer from the trained SKLearn Estimator\n",
    "transformer = sklearn.transformer(instance_count=1, instance_type=\"ml.m5.xlarge\")"
   ]
  },
  {
   "cell_type": "markdown",
   "id": "25d3baed",
   "metadata": {
    "papermill": {
     "duration": 0.02208,
     "end_time": "2022-04-07T00:25:10.654941",
     "exception": false,
     "start_time": "2022-04-07T00:25:10.632861",
     "status": "completed"
    },
    "tags": []
   },
   "source": [
    "### Prepare Input Data <a class=\"anchor\" id=\"prepare_input_data\"></a>\n",
    "We will extract 10 random samples of 100 rows from the training data, then split the features (X) from the labels (Y). Then upload the input data to a given location in S3."
   ]
  },
  {
   "cell_type": "code",
   "execution_count": 13,
   "id": "1517dfe4",
   "metadata": {
    "execution": {
     "iopub.execute_input": "2022-04-07T00:25:10.703206Z",
     "iopub.status.busy": "2022-04-07T00:25:10.702456Z",
     "iopub.status.idle": "2022-04-07T00:25:10.769484Z",
     "shell.execute_reply": "2022-04-07T00:25:10.769889Z"
    },
    "papermill": {
     "duration": 0.093493,
     "end_time": "2022-04-07T00:25:10.770034",
     "exception": false,
     "start_time": "2022-04-07T00:25:10.676541",
     "status": "completed"
    },
    "tags": []
   },
   "outputs": [],
   "source": [
    "%%bash\n",
    "# Randomly sample the iris dataset 10 times, then split X and Y\n",
    "mkdir -p batch_data/XY batch_data/X batch_data/Y\n",
    "for i in {0..9}; do\n",
    "    cat data/iris.csv | shuf -n 100 > batch_data/XY/iris_sample_${i}.csv\n",
    "    cat batch_data/XY/iris_sample_${i}.csv | cut -d',' -f2- > batch_data/X/iris_sample_X_${i}.csv\n",
    "    cat batch_data/XY/iris_sample_${i}.csv | cut -d',' -f1 > batch_data/Y/iris_sample_Y_${i}.csv\n",
    "done"
   ]
  },
  {
   "cell_type": "code",
   "execution_count": 14,
   "id": "6580cf34",
   "metadata": {
    "execution": {
     "iopub.execute_input": "2022-04-07T00:25:10.819224Z",
     "iopub.status.busy": "2022-04-07T00:25:10.818308Z",
     "iopub.status.idle": "2022-04-07T00:25:11.356174Z",
     "shell.execute_reply": "2022-04-07T00:25:11.356715Z"
    },
    "papermill": {
     "duration": 0.564645,
     "end_time": "2022-04-07T00:25:11.356891",
     "exception": false,
     "start_time": "2022-04-07T00:25:10.792246",
     "status": "completed"
    },
    "tags": []
   },
   "outputs": [],
   "source": [
    "# Upload input data from local filesystem to S3\n",
    "batch_input_s3 = sagemaker_session.upload_data(\"batch_data/X\", key_prefix=prefix + \"/batch_input\")"
   ]
  },
  {
   "cell_type": "markdown",
   "id": "fd222619",
   "metadata": {
    "papermill": {
     "duration": 0.024354,
     "end_time": "2022-04-07T00:25:11.405619",
     "exception": false,
     "start_time": "2022-04-07T00:25:11.381265",
     "status": "completed"
    },
    "tags": []
   },
   "source": [
    "### Run Transform Job <a class=\"anchor\" id=\"run_transform_job\"></a>\n",
    "Using the Transformer, run a transform job on the S3 input data."
   ]
  },
  {
   "cell_type": "code",
   "execution_count": 15,
   "id": "b1b652ff",
   "metadata": {
    "execution": {
     "iopub.execute_input": "2022-04-07T00:25:11.457543Z",
     "iopub.status.busy": "2022-04-07T00:25:11.456618Z",
     "iopub.status.idle": "2022-04-07T00:30:16.876703Z",
     "shell.execute_reply": "2022-04-07T00:30:16.876244Z"
    },
    "papermill": {
     "duration": 305.448494,
     "end_time": "2022-04-07T00:30:16.876821",
     "exception": false,
     "start_time": "2022-04-07T00:25:11.428327",
     "status": "completed"
    },
    "tags": []
   },
   "outputs": [
    {
     "name": "stdout",
     "output_type": "stream",
     "text": [
      "."
     ]
    },
    {
     "name": "stdout",
     "output_type": "stream",
     "text": [
      "."
     ]
    },
    {
     "name": "stdout",
     "output_type": "stream",
     "text": [
      "."
     ]
    },
    {
     "name": "stdout",
     "output_type": "stream",
     "text": [
      "."
     ]
    },
    {
     "name": "stdout",
     "output_type": "stream",
     "text": [
      "."
     ]
    },
    {
     "name": "stdout",
     "output_type": "stream",
     "text": [
      "."
     ]
    },
    {
     "name": "stdout",
     "output_type": "stream",
     "text": [
      "."
     ]
    },
    {
     "name": "stdout",
     "output_type": "stream",
     "text": [
      "."
     ]
    },
    {
     "name": "stdout",
     "output_type": "stream",
     "text": [
      "."
     ]
    },
    {
     "name": "stdout",
     "output_type": "stream",
     "text": [
      "."
     ]
    },
    {
     "name": "stdout",
     "output_type": "stream",
     "text": [
      "."
     ]
    },
    {
     "name": "stdout",
     "output_type": "stream",
     "text": [
      "."
     ]
    },
    {
     "name": "stdout",
     "output_type": "stream",
     "text": [
      "."
     ]
    },
    {
     "name": "stdout",
     "output_type": "stream",
     "text": [
      "."
     ]
    },
    {
     "name": "stdout",
     "output_type": "stream",
     "text": [
      "."
     ]
    },
    {
     "name": "stdout",
     "output_type": "stream",
     "text": [
      "."
     ]
    },
    {
     "name": "stdout",
     "output_type": "stream",
     "text": [
      "."
     ]
    },
    {
     "name": "stdout",
     "output_type": "stream",
     "text": [
      "."
     ]
    },
    {
     "name": "stdout",
     "output_type": "stream",
     "text": [
      "."
     ]
    },
    {
     "name": "stdout",
     "output_type": "stream",
     "text": [
      "."
     ]
    },
    {
     "name": "stdout",
     "output_type": "stream",
     "text": [
      "."
     ]
    },
    {
     "name": "stdout",
     "output_type": "stream",
     "text": [
      "."
     ]
    },
    {
     "name": "stdout",
     "output_type": "stream",
     "text": [
      "."
     ]
    },
    {
     "name": "stdout",
     "output_type": "stream",
     "text": [
      "."
     ]
    },
    {
     "name": "stdout",
     "output_type": "stream",
     "text": [
      "."
     ]
    },
    {
     "name": "stdout",
     "output_type": "stream",
     "text": [
      "\u001b[34m2022-04-07 00:29:32,506 INFO - sagemaker-containers - No GPUs detected (normal if no gpus installed)\u001b[0m\n",
      "\u001b[34m2022-04-07 00:29:32,508 INFO - sagemaker-containers - No GPUs detected (normal if no gpus installed)\u001b[0m\n",
      "\u001b[34m2022-04-07 00:29:32,509 INFO - sagemaker-containers - nginx config: \u001b[0m\n",
      "\u001b[34mworker_processes auto;\u001b[0m\n",
      "\u001b[34mdaemon off;\u001b[0m\n",
      "\u001b[34mpid /tmp/nginx.pid;\u001b[0m\n",
      "\u001b[34merror_log  /dev/stderr;\u001b[0m\n",
      "\u001b[34mworker_rlimit_nofile 4096;\u001b[0m\n",
      "\u001b[34mevents {\n",
      "  worker_connections 2048;\u001b[0m\n",
      "\u001b[34m}\u001b[0m\n",
      "\u001b[34mhttp {\n",
      "  include /etc/nginx/mime.types;\n",
      "  default_type application/octet-stream;\n",
      "  access_log /dev/stdout combined;\n",
      "  upstream gunicorn {\n",
      "    server unix:/tmp/gunicorn.sock;\n",
      "  }\n",
      "  server {\n",
      "    listen 8080 deferred;\n",
      "    client_max_body_size 0;\n",
      "    keepalive_timeout 3;\n",
      "    location ~ ^/(ping|invocations|execution-parameters) {\n",
      "      proxy_set_header X-Forwarded-For $proxy_add_x_forwarded_for;\n",
      "      proxy_set_header Host $http_host;\n",
      "      proxy_redirect off;\n",
      "      proxy_read_timeout 60s;\n",
      "      proxy_pass http://gunicorn;\n",
      "    }\n",
      "    location / {\n",
      "      return 404 \"{}\";\n",
      "    }\n",
      "  }\u001b[0m\n",
      "\u001b[34m}\u001b[0m\n",
      "\u001b[34m2022-04-07 00:29:32,646 INFO - sagemaker-containers - Module scikit_learn_iris does not provide a setup.py. \u001b[0m\n",
      "\u001b[34mGenerating setup.py\u001b[0m\n",
      "\u001b[34m2022-04-07 00:29:32,646 INFO - sagemaker-containers - Generating setup.cfg\u001b[0m\n",
      "\u001b[34m2022-04-07 00:29:32,647 INFO - sagemaker-containers - Generating MANIFEST.in\u001b[0m\n",
      "\u001b[34m2022-04-07 00:29:32,647 INFO - sagemaker-containers - Installing module with the following command:\u001b[0m\n",
      "\u001b[34m/miniconda3/bin/python3 -m pip install . \u001b[0m\n",
      "\u001b[34mProcessing /opt/ml/code\n",
      "  Preparing metadata (setup.py): started\n",
      "  Preparing metadata (setup.py): finished with status 'done'\u001b[0m\n",
      "\u001b[34mBuilding wheels for collected packages: scikit-learn-iris\n",
      "  Building wheel for scikit-learn-iris (setup.py): started\n",
      "  Building wheel for scikit-learn-iris (setup.py): finished with status 'done'\n",
      "  Created wheel for scikit-learn-iris: filename=scikit_learn_iris-1.0.0-py2.py3-none-any.whl size=5641 sha256=d72e436f5908519dcec1a2b6c0454132141ce9213595b1b75d7a61f527fe8080\n",
      "  Stored in directory: /home/model-server/tmp/pip-ephem-wheel-cache-ubyz4nad/wheels/3e/0f/51/2f1df833dd0412c1bc2f5ee56baac195b5be563353d111dca6\u001b[0m\n",
      "\u001b[34mSuccessfully built scikit-learn-iris\u001b[0m\n",
      "\u001b[34mInstalling collected packages: scikit-learn-iris\u001b[0m\n",
      "\u001b[34mSuccessfully installed scikit-learn-iris-1.0.0\u001b[0m\n",
      "\u001b[34mWARNING: Running pip as the 'root' user can result in broken permissions and conflicting behaviour with the system package manager. It is recommended to use a virtual environment instead: https://pip.pypa.io/warnings/venv\u001b[0m\n",
      "\u001b[34m[2022-04-07 00:29:34 +0000] [38] [INFO] Starting gunicorn 20.0.4\u001b[0m\n",
      "\u001b[34m[2022-04-07 00:29:34 +0000] [38] [INFO] Listening at: unix:/tmp/gunicorn.sock (38)\u001b[0m\n",
      "\u001b[34m[2022-04-07 00:29:34 +0000] [38] [INFO] Using worker: gevent\u001b[0m\n",
      "\u001b[34m[2022-04-07 00:29:34 +0000] [41] [INFO] Booting worker with pid: 41\u001b[0m\n",
      "\u001b[34m[2022-04-07 00:29:34 +0000] [42] [INFO] Booting worker with pid: 42\u001b[0m\n",
      "\u001b[34m[2022-04-07 00:29:34 +0000] [43] [INFO] Booting worker with pid: 43\u001b[0m\n",
      "\u001b[34m[2022-04-07 00:29:34 +0000] [44] [INFO] Booting worker with pid: 44\u001b[0m\n",
      "\u001b[34m2022-04-07 00:29:37,467 INFO - sagemaker-containers - No GPUs detected (normal if no gpus installed)\u001b[0m\n"
     ]
    },
    {
     "name": "stdout",
     "output_type": "stream",
     "text": [
      "\u001b[34m169.254.255.130 - - [07/Apr/2022:00:29:38 +0000] \"GET /ping HTTP/1.1\" 200 0 \"-\" \"Go-http-client/1.1\"\u001b[0m\n",
      "\u001b[35m169.254.255.130 - - [07/Apr/2022:00:29:38 +0000] \"GET /ping HTTP/1.1\" 200 0 \"-\" \"Go-http-client/1.1\"\u001b[0m\n",
      "\u001b[34m169.254.255.130 - - [07/Apr/2022:00:29:38 +0000] \"GET /execution-parameters HTTP/1.1\" 404 232 \"-\" \"Go-http-client/1.1\"\u001b[0m\n",
      "\u001b[34m169.254.255.130 - - [07/Apr/2022:00:29:38 +0000] \"POST /invocations HTTP/1.1\" 200 500 \"-\" \"Go-http-client/1.1\"\u001b[0m\n",
      "\u001b[34m169.254.255.130 - - [07/Apr/2022:00:29:38 +0000] \"POST /invocations HTTP/1.1\" 200 500 \"-\" \"Go-http-client/1.1\"\u001b[0m\n",
      "\u001b[34m2022-04-07 00:29:38,272 INFO - sagemaker-containers - No GPUs detected (normal if no gpus installed)\u001b[0m\n",
      "\u001b[35m169.254.255.130 - - [07/Apr/2022:00:29:38 +0000] \"GET /execution-parameters HTTP/1.1\" 404 232 \"-\" \"Go-http-client/1.1\"\u001b[0m\n",
      "\u001b[35m169.254.255.130 - - [07/Apr/2022:00:29:38 +0000] \"POST /invocations HTTP/1.1\" 200 500 \"-\" \"Go-http-client/1.1\"\u001b[0m\n",
      "\u001b[35m169.254.255.130 - - [07/Apr/2022:00:29:38 +0000] \"POST /invocations HTTP/1.1\" 200 500 \"-\" \"Go-http-client/1.1\"\u001b[0m\n",
      "\u001b[35m2022-04-07 00:29:38,272 INFO - sagemaker-containers - No GPUs detected (normal if no gpus installed)\u001b[0m\n",
      "\u001b[32m2022-04-07T00:29:38.027:[sagemaker logs]: MaxConcurrentTransforms=1, MaxPayloadInMB=6, BatchStrategy=MULTI_RECORD\u001b[0m\n",
      "\u001b[34m169.254.255.130 - - [07/Apr/2022:00:29:38 +0000] \"POST /invocations HTTP/1.1\" 200 500 \"-\" \"Go-http-client/1.1\"\u001b[0m\n",
      "\u001b[34m169.254.255.130 - - [07/Apr/2022:00:29:38 +0000] \"POST /invocations HTTP/1.1\" 200 500 \"-\" \"Go-http-client/1.1\"\u001b[0m\n",
      "\u001b[34m169.254.255.130 - - [07/Apr/2022:00:29:38 +0000] \"POST /invocations HTTP/1.1\" 200 500 \"-\" \"Go-http-client/1.1\"\u001b[0m\n",
      "\u001b[34m169.254.255.130 - - [07/Apr/2022:00:29:38 +0000] \"POST /invocations HTTP/1.1\" 200 500 \"-\" \"Go-http-client/1.1\"\u001b[0m\n",
      "\u001b[34m2022-04-07 00:29:39,060 INFO - sagemaker-containers - No GPUs detected (normal if no gpus installed)\u001b[0m\n",
      "\u001b[34m169.254.255.130 - - [07/Apr/2022:00:29:39 +0000] \"POST /invocations HTTP/1.1\" 200 500 \"-\" \"Go-http-client/1.1\"\u001b[0m\n",
      "\u001b[34m169.254.255.130 - - [07/Apr/2022:00:29:39 +0000] \"POST /invocations HTTP/1.1\" 200 500 \"-\" \"Go-http-client/1.1\"\u001b[0m\n",
      "\u001b[34m169.254.255.130 - - [07/Apr/2022:00:29:39 +0000] \"POST /invocations HTTP/1.1\" 200 500 \"-\" \"Go-http-client/1.1\"\u001b[0m\n",
      "\u001b[35m169.254.255.130 - - [07/Apr/2022:00:29:38 +0000] \"POST /invocations HTTP/1.1\" 200 500 \"-\" \"Go-http-client/1.1\"\u001b[0m\n",
      "\u001b[35m169.254.255.130 - - [07/Apr/2022:00:29:38 +0000] \"POST /invocations HTTP/1.1\" 200 500 \"-\" \"Go-http-client/1.1\"\u001b[0m\n",
      "\u001b[35m169.254.255.130 - - [07/Apr/2022:00:29:38 +0000] \"POST /invocations HTTP/1.1\" 200 500 \"-\" \"Go-http-client/1.1\"\u001b[0m\n",
      "\u001b[35m169.254.255.130 - - [07/Apr/2022:00:29:38 +0000] \"POST /invocations HTTP/1.1\" 200 500 \"-\" \"Go-http-client/1.1\"\u001b[0m\n",
      "\u001b[35m2022-04-07 00:29:39,060 INFO - sagemaker-containers - No GPUs detected (normal if no gpus installed)\u001b[0m\n",
      "\u001b[35m169.254.255.130 - - [07/Apr/2022:00:29:39 +0000] \"POST /invocations HTTP/1.1\" 200 500 \"-\" \"Go-http-client/1.1\"\u001b[0m\n",
      "\u001b[35m169.254.255.130 - - [07/Apr/2022:00:29:39 +0000] \"POST /invocations HTTP/1.1\" 200 500 \"-\" \"Go-http-client/1.1\"\u001b[0m\n",
      "\u001b[35m169.254.255.130 - - [07/Apr/2022:00:29:39 +0000] \"POST /invocations HTTP/1.1\" 200 500 \"-\" \"Go-http-client/1.1\"\u001b[0m\n",
      "\u001b[34m169.254.255.130 - - [07/Apr/2022:00:29:39 +0000] \"POST /invocations HTTP/1.1\" 200 500 \"-\" \"Go-http-client/1.1\"\u001b[0m\n"
     ]
    },
    {
     "name": "stdout",
     "output_type": "stream",
     "text": [
      "\u001b[35m169.254.255.130 - - [07/Apr/2022:00:29:39 +0000] \"POST /invocations HTTP/1.1\" 200 500 \"-\" \"Go-http-client/1.1\"\u001b[0m\n"
     ]
    },
    {
     "name": "stdout",
     "output_type": "stream",
     "text": [
      "\n"
     ]
    },
    {
     "name": "stdout",
     "output_type": "stream",
     "text": [
      "Waiting for transform job: sagemaker-scikit-learn-2022-04-07-00-25-11-454\n"
     ]
    },
    {
     "name": "stdout",
     "output_type": "stream",
     "text": [
      "\u001b[34m2022-04-07 00:29:32,506 INFO - sagemaker-containers - No GPUs detected (normal if no gpus installed)\u001b[0m\n",
      "\u001b[34m2022-04-07 00:29:32,508 INFO - sagemaker-containers - No GPUs detected (normal if no gpus installed)\u001b[0m\n",
      "\u001b[34m2022-04-07 00:29:32,509 INFO - sagemaker-containers - nginx config: \u001b[0m\n",
      "\u001b[34mworker_processes auto;\u001b[0m\n",
      "\u001b[34mdaemon off;\u001b[0m\n",
      "\u001b[34mpid /tmp/nginx.pid;\u001b[0m\n",
      "\u001b[34merror_log  /dev/stderr;\u001b[0m\n",
      "\u001b[34mworker_rlimit_nofile 4096;\u001b[0m\n",
      "\u001b[34mevents {\n",
      "  worker_connections 2048;\u001b[0m\n",
      "\u001b[34m}\u001b[0m\n",
      "\u001b[34mhttp {\n",
      "  include /etc/nginx/mime.types;\n",
      "  default_type application/octet-stream;\n",
      "  access_log /dev/stdout combined;\n",
      "  upstream gunicorn {\n",
      "    server unix:/tmp/gunicorn.sock;\n",
      "  }\n",
      "  server {\n",
      "    listen 8080 deferred;\n",
      "    client_max_body_size 0;\n",
      "    keepalive_timeout 3;\n",
      "    location ~ ^/(ping|invocations|execution-parameters) {\n",
      "      proxy_set_header X-Forwarded-For $proxy_add_x_forwarded_for;\n",
      "      proxy_set_header Host $http_host;\n",
      "      proxy_redirect off;\n",
      "      proxy_read_timeout 60s;\n",
      "      proxy_pass http://gunicorn;\n",
      "    }\n",
      "    location / {\n",
      "      return 404 \"{}\";\n",
      "    }\n",
      "  }\u001b[0m\n",
      "\u001b[34m}\u001b[0m\n",
      "\u001b[34m2022-04-07 00:29:32,646 INFO - sagemaker-containers - Module scikit_learn_iris does not provide a setup.py. \u001b[0m\n",
      "\u001b[34mGenerating setup.py\u001b[0m\n",
      "\u001b[34m2022-04-07 00:29:32,646 INFO - sagemaker-containers - Generating setup.cfg\u001b[0m\n",
      "\u001b[34m2022-04-07 00:29:32,647 INFO - sagemaker-containers - Generating MANIFEST.in\u001b[0m\n",
      "\u001b[35m2022-04-07 00:29:32,506 INFO - sagemaker-containers - No GPUs detected (normal if no gpus installed)\u001b[0m\n",
      "\u001b[35m2022-04-07 00:29:32,508 INFO - sagemaker-containers - No GPUs detected (normal if no gpus installed)\u001b[0m\n",
      "\u001b[35m2022-04-07 00:29:32,509 INFO - sagemaker-containers - nginx config: \u001b[0m\n",
      "\u001b[35mworker_processes auto;\u001b[0m\n",
      "\u001b[35mdaemon off;\u001b[0m\n",
      "\u001b[35mpid /tmp/nginx.pid;\u001b[0m\n",
      "\u001b[35merror_log  /dev/stderr;\u001b[0m\n",
      "\u001b[35mworker_rlimit_nofile 4096;\u001b[0m\n",
      "\u001b[35mevents {\n",
      "  worker_connections 2048;\u001b[0m\n",
      "\u001b[35m}\u001b[0m\n",
      "\u001b[35mhttp {\n",
      "  include /etc/nginx/mime.types;\n",
      "  default_type application/octet-stream;\n",
      "  access_log /dev/stdout combined;\n",
      "  upstream gunicorn {\n",
      "    server unix:/tmp/gunicorn.sock;\n",
      "  }\n",
      "  server {\n",
      "    listen 8080 deferred;\n",
      "    client_max_body_size 0;\n",
      "    keepalive_timeout 3;\n",
      "    location ~ ^/(ping|invocations|execution-parameters) {\n",
      "      proxy_set_header X-Forwarded-For $proxy_add_x_forwarded_for;\n",
      "      proxy_set_header Host $http_host;\n",
      "      proxy_redirect off;\n",
      "      proxy_read_timeout 60s;\n",
      "      proxy_pass http://gunicorn;\n",
      "    }\n",
      "    location / {\n",
      "      return 404 \"{}\";\n",
      "    }\n",
      "  }\u001b[0m\n",
      "\u001b[35m}\u001b[0m\n",
      "\u001b[35m2022-04-07 00:29:32,646 INFO - sagemaker-containers - Module scikit_learn_iris does not provide a setup.py. \u001b[0m\n",
      "\u001b[35mGenerating setup.py\u001b[0m\n",
      "\u001b[35m2022-04-07 00:29:32,646 INFO - sagemaker-containers - Generating setup.cfg\u001b[0m\n",
      "\u001b[35m2022-04-07 00:29:32,647 INFO - sagemaker-containers - Generating MANIFEST.in\u001b[0m\n",
      "\u001b[34m2022-04-07 00:29:32,647 INFO - sagemaker-containers - Installing module with the following command:\u001b[0m\n",
      "\u001b[34m/miniconda3/bin/python3 -m pip install . \u001b[0m\n",
      "\u001b[34mProcessing /opt/ml/code\n",
      "  Preparing metadata (setup.py): started\n",
      "  Preparing metadata (setup.py): finished with status 'done'\u001b[0m\n",
      "\u001b[34mBuilding wheels for collected packages: scikit-learn-iris\n",
      "  Building wheel for scikit-learn-iris (setup.py): started\n",
      "  Building wheel for scikit-learn-iris (setup.py): finished with status 'done'\n",
      "  Created wheel for scikit-learn-iris: filename=scikit_learn_iris-1.0.0-py2.py3-none-any.whl size=5641 sha256=d72e436f5908519dcec1a2b6c0454132141ce9213595b1b75d7a61f527fe8080\n",
      "  Stored in directory: /home/model-server/tmp/pip-ephem-wheel-cache-ubyz4nad/wheels/3e/0f/51/2f1df833dd0412c1bc2f5ee56baac195b5be563353d111dca6\u001b[0m\n",
      "\u001b[34mSuccessfully built scikit-learn-iris\u001b[0m\n",
      "\u001b[35m2022-04-07 00:29:32,647 INFO - sagemaker-containers - Installing module with the following command:\u001b[0m\n",
      "\u001b[35m/miniconda3/bin/python3 -m pip install . \u001b[0m\n",
      "\u001b[35mProcessing /opt/ml/code\n",
      "  Preparing metadata (setup.py): started\n",
      "  Preparing metadata (setup.py): finished with status 'done'\u001b[0m\n",
      "\u001b[35mBuilding wheels for collected packages: scikit-learn-iris\n",
      "  Building wheel for scikit-learn-iris (setup.py): started\n",
      "  Building wheel for scikit-learn-iris (setup.py): finished with status 'done'\n",
      "  Created wheel for scikit-learn-iris: filename=scikit_learn_iris-1.0.0-py2.py3-none-any.whl size=5641 sha256=d72e436f5908519dcec1a2b6c0454132141ce9213595b1b75d7a61f527fe8080\n",
      "  Stored in directory: /home/model-server/tmp/pip-ephem-wheel-cache-ubyz4nad/wheels/3e/0f/51/2f1df833dd0412c1bc2f5ee56baac195b5be563353d111dca6\u001b[0m\n",
      "\u001b[35mSuccessfully built scikit-learn-iris\u001b[0m\n",
      "\u001b[34mInstalling collected packages: scikit-learn-iris\u001b[0m\n",
      "\u001b[34mSuccessfully installed scikit-learn-iris-1.0.0\u001b[0m\n",
      "\u001b[34mWARNING: Running pip as the 'root' user can result in broken permissions and conflicting behaviour with the system package manager. It is recommended to use a virtual environment instead: https://pip.pypa.io/warnings/venv\u001b[0m\n",
      "\u001b[35mInstalling collected packages: scikit-learn-iris\u001b[0m\n",
      "\u001b[35mSuccessfully installed scikit-learn-iris-1.0.0\u001b[0m\n",
      "\u001b[35mWARNING: Running pip as the 'root' user can result in broken permissions and conflicting behaviour with the system package manager. It is recommended to use a virtual environment instead: https://pip.pypa.io/warnings/venv\u001b[0m\n",
      "\u001b[34m[2022-04-07 00:29:34 +0000] [38] [INFO] Starting gunicorn 20.0.4\u001b[0m\n",
      "\u001b[34m[2022-04-07 00:29:34 +0000] [38] [INFO] Listening at: unix:/tmp/gunicorn.sock (38)\u001b[0m\n",
      "\u001b[34m[2022-04-07 00:29:34 +0000] [38] [INFO] Using worker: gevent\u001b[0m\n",
      "\u001b[34m[2022-04-07 00:29:34 +0000] [41] [INFO] Booting worker with pid: 41\u001b[0m\n",
      "\u001b[34m[2022-04-07 00:29:34 +0000] [42] [INFO] Booting worker with pid: 42\u001b[0m\n",
      "\u001b[34m[2022-04-07 00:29:34 +0000] [43] [INFO] Booting worker with pid: 43\u001b[0m\n",
      "\u001b[34m[2022-04-07 00:29:34 +0000] [44] [INFO] Booting worker with pid: 44\u001b[0m\n",
      "\u001b[35m[2022-04-07 00:29:34 +0000] [38] [INFO] Starting gunicorn 20.0.4\u001b[0m\n",
      "\u001b[35m[2022-04-07 00:29:34 +0000] [38] [INFO] Listening at: unix:/tmp/gunicorn.sock (38)\u001b[0m\n",
      "\u001b[35m[2022-04-07 00:29:34 +0000] [38] [INFO] Using worker: gevent\u001b[0m\n",
      "\u001b[35m[2022-04-07 00:29:34 +0000] [41] [INFO] Booting worker with pid: 41\u001b[0m\n",
      "\u001b[35m[2022-04-07 00:29:34 +0000] [42] [INFO] Booting worker with pid: 42\u001b[0m\n",
      "\u001b[35m[2022-04-07 00:29:34 +0000] [43] [INFO] Booting worker with pid: 43\u001b[0m\n",
      "\u001b[35m[2022-04-07 00:29:34 +0000] [44] [INFO] Booting worker with pid: 44\u001b[0m\n",
      "\u001b[34m2022-04-07 00:29:37,467 INFO - sagemaker-containers - No GPUs detected (normal if no gpus installed)\u001b[0m\n",
      "\u001b[35m2022-04-07 00:29:37,467 INFO - sagemaker-containers - No GPUs detected (normal if no gpus installed)\u001b[0m\n",
      "\u001b[34m169.254.255.130 - - [07/Apr/2022:00:29:38 +0000] \"GET /ping HTTP/1.1\" 200 0 \"-\" \"Go-http-client/1.1\"\u001b[0m\n",
      "\u001b[35m169.254.255.130 - - [07/Apr/2022:00:29:38 +0000] \"GET /ping HTTP/1.1\" 200 0 \"-\" \"Go-http-client/1.1\"\u001b[0m\n",
      "\u001b[34m169.254.255.130 - - [07/Apr/2022:00:29:38 +0000] \"GET /execution-parameters HTTP/1.1\" 404 232 \"-\" \"Go-http-client/1.1\"\u001b[0m\n",
      "\u001b[34m169.254.255.130 - - [07/Apr/2022:00:29:38 +0000] \"POST /invocations HTTP/1.1\" 200 500 \"-\" \"Go-http-client/1.1\"\u001b[0m\n",
      "\u001b[34m169.254.255.130 - - [07/Apr/2022:00:29:38 +0000] \"POST /invocations HTTP/1.1\" 200 500 \"-\" \"Go-http-client/1.1\"\u001b[0m\n",
      "\u001b[34m2022-04-07 00:29:38,272 INFO - sagemaker-containers - No GPUs detected (normal if no gpus installed)\u001b[0m\n",
      "\u001b[35m169.254.255.130 - - [07/Apr/2022:00:29:38 +0000] \"GET /execution-parameters HTTP/1.1\" 404 232 \"-\" \"Go-http-client/1.1\"\u001b[0m\n",
      "\u001b[35m169.254.255.130 - - [07/Apr/2022:00:29:38 +0000] \"POST /invocations HTTP/1.1\" 200 500 \"-\" \"Go-http-client/1.1\"\u001b[0m\n",
      "\u001b[35m169.254.255.130 - - [07/Apr/2022:00:29:38 +0000] \"POST /invocations HTTP/1.1\" 200 500 \"-\" \"Go-http-client/1.1\"\u001b[0m\n",
      "\u001b[35m2022-04-07 00:29:38,272 INFO - sagemaker-containers - No GPUs detected (normal if no gpus installed)\u001b[0m\n",
      "\u001b[32m2022-04-07T00:29:38.027:[sagemaker logs]: MaxConcurrentTransforms=1, MaxPayloadInMB=6, BatchStrategy=MULTI_RECORD\u001b[0m\n",
      "\u001b[34m169.254.255.130 - - [07/Apr/2022:00:29:38 +0000] \"POST /invocations HTTP/1.1\" 200 500 \"-\" \"Go-http-client/1.1\"\u001b[0m\n",
      "\u001b[34m169.254.255.130 - - [07/Apr/2022:00:29:38 +0000] \"POST /invocations HTTP/1.1\" 200 500 \"-\" \"Go-http-client/1.1\"\u001b[0m\n",
      "\u001b[34m169.254.255.130 - - [07/Apr/2022:00:29:38 +0000] \"POST /invocations HTTP/1.1\" 200 500 \"-\" \"Go-http-client/1.1\"\u001b[0m\n",
      "\u001b[34m169.254.255.130 - - [07/Apr/2022:00:29:38 +0000] \"POST /invocations HTTP/1.1\" 200 500 \"-\" \"Go-http-client/1.1\"\u001b[0m\n",
      "\u001b[34m2022-04-07 00:29:39,060 INFO - sagemaker-containers - No GPUs detected (normal if no gpus installed)\u001b[0m\n",
      "\u001b[34m169.254.255.130 - - [07/Apr/2022:00:29:39 +0000] \"POST /invocations HTTP/1.1\" 200 500 \"-\" \"Go-http-client/1.1\"\u001b[0m\n",
      "\u001b[34m169.254.255.130 - - [07/Apr/2022:00:29:39 +0000] \"POST /invocations HTTP/1.1\" 200 500 \"-\" \"Go-http-client/1.1\"\u001b[0m\n",
      "\u001b[34m169.254.255.130 - - [07/Apr/2022:00:29:39 +0000] \"POST /invocations HTTP/1.1\" 200 500 \"-\" \"Go-http-client/1.1\"\u001b[0m\n",
      "\u001b[35m169.254.255.130 - - [07/Apr/2022:00:29:38 +0000] \"POST /invocations HTTP/1.1\" 200 500 \"-\" \"Go-http-client/1.1\"\u001b[0m\n",
      "\u001b[35m169.254.255.130 - - [07/Apr/2022:00:29:38 +0000] \"POST /invocations HTTP/1.1\" 200 500 \"-\" \"Go-http-client/1.1\"\u001b[0m\n",
      "\u001b[35m169.254.255.130 - - [07/Apr/2022:00:29:38 +0000] \"POST /invocations HTTP/1.1\" 200 500 \"-\" \"Go-http-client/1.1\"\u001b[0m\n",
      "\u001b[35m169.254.255.130 - - [07/Apr/2022:00:29:38 +0000] \"POST /invocations HTTP/1.1\" 200 500 \"-\" \"Go-http-client/1.1\"\u001b[0m\n",
      "\u001b[35m2022-04-07 00:29:39,060 INFO - sagemaker-containers - No GPUs detected (normal if no gpus installed)\u001b[0m\n",
      "\u001b[35m169.254.255.130 - - [07/Apr/2022:00:29:39 +0000] \"POST /invocations HTTP/1.1\" 200 500 \"-\" \"Go-http-client/1.1\"\u001b[0m\n",
      "\u001b[35m169.254.255.130 - - [07/Apr/2022:00:29:39 +0000] \"POST /invocations HTTP/1.1\" 200 500 \"-\" \"Go-http-client/1.1\"\u001b[0m\n",
      "\u001b[35m169.254.255.130 - - [07/Apr/2022:00:29:39 +0000] \"POST /invocations HTTP/1.1\" 200 500 \"-\" \"Go-http-client/1.1\"\u001b[0m\n",
      "\u001b[34m169.254.255.130 - - [07/Apr/2022:00:29:39 +0000] \"POST /invocations HTTP/1.1\" 200 500 \"-\" \"Go-http-client/1.1\"\u001b[0m\n"
     ]
    },
    {
     "name": "stdout",
     "output_type": "stream",
     "text": [
      "\u001b[35m169.254.255.130 - - [07/Apr/2022:00:29:39 +0000] \"POST /invocations HTTP/1.1\" 200 500 \"-\" \"Go-http-client/1.1\"\u001b[0m\n"
     ]
    }
   ],
   "source": [
    "# Start a transform job and wait for it to finish\n",
    "transformer.transform(batch_input_s3, content_type=\"text/csv\")\n",
    "print(\"Waiting for transform job: \" + transformer.latest_transform_job.job_name)\n",
    "transformer.wait()"
   ]
  },
  {
   "cell_type": "markdown",
   "id": "b8b680a8",
   "metadata": {
    "papermill": {
     "duration": 0.03743,
     "end_time": "2022-04-07T00:30:16.946668",
     "exception": false,
     "start_time": "2022-04-07T00:30:16.909238",
     "status": "completed"
    },
    "tags": []
   },
   "source": [
    "### Check Output Data  <a class=\"anchor\" id=\"check_output_data\"></a>\n",
    "After the transform job has completed, download the output data from S3. For each file \"f\" in the input data, we have a corresponding file \"f.out\" containing the predicted labels from each input row. We can compare the predicted labels to the true labels saved earlier."
   ]
  },
  {
   "cell_type": "code",
   "execution_count": 16,
   "id": "ff4dd3b6",
   "metadata": {
    "execution": {
     "iopub.execute_input": "2022-04-07T00:30:17.019906Z",
     "iopub.status.busy": "2022-04-07T00:30:17.018947Z",
     "iopub.status.idle": "2022-04-07T00:30:18.391542Z",
     "shell.execute_reply": "2022-04-07T00:30:18.392219Z"
    },
    "papermill": {
     "duration": 1.411996,
     "end_time": "2022-04-07T00:30:18.392389",
     "exception": false,
     "start_time": "2022-04-07T00:30:16.980393",
     "status": "completed"
    },
    "tags": []
   },
   "outputs": [
    {
     "name": "stdout",
     "output_type": "stream",
     "text": [
      "Completed 500 Bytes/4.9 KiB (6.0 KiB/s) with 10 file(s) remaining\r",
      "download: s3://sagemaker-us-west-2-000000000000/sagemaker-scikit-learn-2022-04-07-00-25-11-454/iris_sample_X_0.csv.out to batch_data/output/iris_sample_X_0.csv.out\r\n",
      "Completed 500 Bytes/4.9 KiB (6.0 KiB/s) with 9 file(s) remaining\r",
      "Completed 1000 Bytes/4.9 KiB (11.2 KiB/s) with 9 file(s) remaining\r",
      "download: s3://sagemaker-us-west-2-000000000000/sagemaker-scikit-learn-2022-04-07-00-25-11-454/iris_sample_X_2.csv.out to batch_data/output/iris_sample_X_2.csv.out\r\n",
      "Completed 1000 Bytes/4.9 KiB (11.2 KiB/s) with 8 file(s) remaining\r",
      "Completed 1.5 KiB/4.9 KiB (16.5 KiB/s) with 8 file(s) remaining   \r",
      "download: s3://sagemaker-us-west-2-000000000000/sagemaker-scikit-learn-2022-04-07-00-25-11-454/iris_sample_X_1.csv.out to batch_data/output/iris_sample_X_1.csv.out\r\n",
      "Completed 1.5 KiB/4.9 KiB (16.5 KiB/s) with 7 file(s) remaining\r",
      "Completed 2.0 KiB/4.9 KiB (15.4 KiB/s) with 7 file(s) remaining\r",
      "download: s3://sagemaker-us-west-2-000000000000/sagemaker-scikit-learn-2022-04-07-00-25-11-454/iris_sample_X_5.csv.out to batch_data/output/iris_sample_X_5.csv.out\r\n",
      "Completed 2.0 KiB/4.9 KiB (15.4 KiB/s) with 6 file(s) remaining\r"
     ]
    },
    {
     "name": "stdout",
     "output_type": "stream",
     "text": [
      "Completed 2.4 KiB/4.9 KiB (18.0 KiB/s) with 6 file(s) remaining\r",
      "download: s3://sagemaker-us-west-2-000000000000/sagemaker-scikit-learn-2022-04-07-00-25-11-454/iris_sample_X_4.csv.out to batch_data/output/iris_sample_X_4.csv.out\r\n",
      "Completed 2.4 KiB/4.9 KiB (18.0 KiB/s) with 5 file(s) remaining\r",
      "Completed 2.9 KiB/4.9 KiB (21.3 KiB/s) with 5 file(s) remaining\r",
      "download: s3://sagemaker-us-west-2-000000000000/sagemaker-scikit-learn-2022-04-07-00-25-11-454/iris_sample_X_3.csv.out to batch_data/output/iris_sample_X_3.csv.out\r\n",
      "Completed 2.9 KiB/4.9 KiB (21.3 KiB/s) with 4 file(s) remaining\r",
      "Completed 3.4 KiB/4.9 KiB (24.4 KiB/s) with 4 file(s) remaining\r",
      "download: s3://sagemaker-us-west-2-000000000000/sagemaker-scikit-learn-2022-04-07-00-25-11-454/iris_sample_X_7.csv.out to batch_data/output/iris_sample_X_7.csv.out\r\n",
      "Completed 3.4 KiB/4.9 KiB (24.4 KiB/s) with 3 file(s) remaining\r",
      "Completed 3.9 KiB/4.9 KiB (25.7 KiB/s) with 3 file(s) remaining\r",
      "download: s3://sagemaker-us-west-2-000000000000/sagemaker-scikit-learn-2022-04-07-00-25-11-454/iris_sample_X_6.csv.out to batch_data/output/iris_sample_X_6.csv.out\r\n",
      "Completed 3.9 KiB/4.9 KiB (25.7 KiB/s) with 2 file(s) remaining\r"
     ]
    },
    {
     "name": "stdout",
     "output_type": "stream",
     "text": [
      "Completed 4.4 KiB/4.9 KiB (19.6 KiB/s) with 2 file(s) remaining\r",
      "download: s3://sagemaker-us-west-2-000000000000/sagemaker-scikit-learn-2022-04-07-00-25-11-454/iris_sample_X_9.csv.out to batch_data/output/iris_sample_X_9.csv.out\r\n",
      "Completed 4.4 KiB/4.9 KiB (19.6 KiB/s) with 1 file(s) remaining\r",
      "Completed 4.9 KiB/4.9 KiB (21.4 KiB/s) with 1 file(s) remaining\r",
      "download: s3://sagemaker-us-west-2-000000000000/sagemaker-scikit-learn-2022-04-07-00-25-11-454/iris_sample_X_8.csv.out to batch_data/output/iris_sample_X_8.csv.out\r\n"
     ]
    },
    {
     "name": "stdout",
     "output_type": "stream",
     "text": [
      "==> batch_data/output/iris_sample_X_0.csv.out <==\r\n",
      "[2.0, 1.0, 0.0, 2.0, 2.0, 0.0, 0.0, 1.0, 2.0, 2.0, 1.0, 2.0, 2.0, 1.0, 1.0, 0.0, 0.0, 2.0, 2.0, 0.0, 2.0, 0.0, 2.0, 2.0, 2.0, 2.0, 1.0, 1.0, 1.0, 0.0, 0.0, 1.0, 2.0, 0.0, 1.0, 1.0, 0.0, 2.0, 2.0, 0.0, 1.0, 1.0, 1.0, 2.0, 2.0, 0.0, 1.0, 0.0, 0.0, 0.0, 0.0, 0.0, 1.0, 1.0, 1.0, 1.0, 1.0, 2.0, 0.0, 0.0, 0.0, 2.0, 1.0, 0.0, 0.0, 0.0, 0.0, 1.0, 2.0, 1.0, 1.0, 0.0, 1.0, 1.0, 0.0, 0.0, 2.0, 0.0, 0.0, 0.0, 2.0, 2.0, 0.0, 2.0, 2.0, 1.0, 2.0, 0.0, 2.0, 1.0, 0.0, 2.0, 1.0, 2.0, 2.0, 1.0, 1.0, 2.0, 1.0, 2.0]\r\n",
      "==> batch_data/output/iris_sample_X_1.csv.out <==\r\n",
      "[2.0, 2.0, 0.0, 0.0, 2.0, 0.0, 2.0, 0.0, 2.0, 1.0, 1.0, 0.0, 2.0, 1.0, 0.0, 1.0, 0.0, 0.0, 0.0, 0.0, 1.0, 2.0, 1.0, 2.0, 1.0, 1.0, 2.0, 2.0, 2.0, 0.0, 2.0, 0.0, 0.0, 0.0, 0.0, 1.0, 0.0, 1.0, 1.0, 2.0, 1.0, 0.0, 0.0, 2.0, 2.0, 0.0, 0.0, 1.0, 1.0, 1.0, 1.0, 0.0, 1.0, 2.0, 1.0, 1.0, 1.0, 0.0, 0.0, 1.0, 2.0, 2.0, 2.0, 2.0, 2.0, 1.0, 1.0, 2.0, 1.0, 0.0, 0.0, 1.0, 2.0, 0.0, 1.0, 1.0, 2.0, 0.0, 2.0, 1.0, 2.0, 2.0, 0.0, 2.0, 0.0, 1.0, 1.0, 1.0, 2.0, 1.0, 0.0, 0.0, 1.0, 1.0, 1.0, 2.0, 1.0, 1.0, 1.0, 1.0]\r\n",
      "==> batch_data/output/iris_sample_X_2.csv.out <==\r\n",
      "[2.0, 0.0, 2.0, 1.0, 2.0, 2.0, 0.0, 2.0, 0.0, 2.0, 2.0, 2.0, 1.0, 0.0, 0.0, 2.0, 0.0, 0.0, 1.0, 2.0, 0.0, 0.0, 1.0, 0.0, 2.0, 1.0, 0.0, 1.0, 1.0, 0.0, 1.0, 0.0, 1.0, 1.0, 2.0, 2.0, 0.0, 0.0, 0.0, 1.0, 1.0, 0.0, 0.0, 0.0, 1.0, 2.0, 2.0, 1.0, 1.0, 0.0, 0.0, 1.0, 0.0, 1.0, 1.0, 1.0, 2.0, 1.0, 0.0, 1.0, 1.0, 0.0, 0.0, 2.0, 1.0, 1.0, 2.0, 1.0, 2.0, 0.0, 0.0, 0.0, 2.0, 0.0, 0.0, 2.0, 2.0, 1.0, 1.0, 2.0, 0.0, 0.0, 0.0, 1.0, 1.0, 2.0, 2.0, 2.0, 2.0, 1.0, 2.0, 0.0, 1.0, 2.0, 2.0, 1.0, 0.0, 0.0, 0.0, 0.0]\r\n",
      "==> batch_data/output/iris_sample_X_3.csv.out <==\r\n",
      "[2.0, 2.0, 1.0, 0.0, 0.0, 2.0, 2.0, 1.0, 1.0, 0.0, 1.0, 1.0, 1.0, 2.0, 0.0, 1.0, 2.0, 1.0, 2.0, 2.0, 0.0, 1.0, 1.0, 2.0, 0.0, 2.0, 0.0, 2.0, 0.0, 1.0, 1.0, 0.0, 2.0, 1.0, 2.0, 1.0, 0.0, 2.0, 0.0, 1.0, 1.0, 2.0, 0.0, 0.0, 2.0, 0.0, 2.0, 1.0, 2.0, 0.0, 1.0, 1.0, 2.0, 0.0, 0.0, 0.0, 1.0, 2.0, 1.0, 0.0, 0.0, 0.0, 0.0, 1.0, 1.0, 1.0, 1.0, 2.0, 1.0, 2.0, 1.0, 2.0, 0.0, 1.0, 1.0, 0.0, 1.0, 0.0, 1.0, 1.0, 2.0, 2.0, 2.0, 1.0, 1.0, 2.0, 0.0, 2.0, 2.0, 2.0, 2.0, 1.0, 1.0, 2.0, 0.0, 1.0, 2.0, 0.0, 2.0, 0.0]\r\n",
      "==> batch_data/output/iris_sample_X_4.csv.out <==\r\n",
      "[2.0, 0.0, 1.0, 1.0, 0.0, 2.0, 0.0, 1.0, 2.0, 2.0, 0.0, 1.0, 1.0, 1.0, 2.0, 2.0, 2.0, 0.0, 2.0, 0.0, 2.0, 2.0, 0.0, 0.0, 1.0, 2.0, 1.0, 0.0, 2.0, 1.0, 2.0, 1.0, 0.0, 1.0, 2.0, 2.0, 2.0, 2.0, 1.0, 1.0, 1.0, 0.0, 0.0, 2.0, 2.0, 0.0, 0.0, 0.0, 0.0, 1.0, 1.0, 1.0, 1.0, 1.0, 1.0, 0.0, 0.0, 0.0, 2.0, 2.0, 0.0, 2.0, 0.0, 1.0, 0.0, 0.0, 1.0, 0.0, 2.0, 0.0, 1.0, 0.0, 0.0, 2.0, 0.0, 0.0, 2.0, 2.0, 2.0, 1.0, 1.0, 2.0, 1.0, 1.0, 2.0, 2.0, 0.0, 0.0, 2.0, 1.0, 0.0, 2.0, 0.0, 0.0, 1.0, 1.0, 1.0, 2.0, 1.0, 2.0]\r\n",
      "==> batch_data/output/iris_sample_X_5.csv.out <==\r\n",
      "[0.0, 2.0, 2.0, 2.0, 2.0, 1.0, 1.0, 0.0, 0.0, 2.0, 0.0, 0.0, 1.0, 0.0, 0.0, 0.0, 0.0, 1.0, 0.0, 0.0, 0.0, 0.0, 1.0, 0.0, 1.0, 2.0, 2.0, 2.0, 2.0, 0.0, 1.0, 0.0, 2.0, 1.0, 2.0, 0.0, 0.0, 0.0, 1.0, 2.0, 1.0, 2.0, 2.0, 0.0, 0.0, 2.0, 0.0, 1.0, 0.0, 1.0, 2.0, 1.0, 1.0, 0.0, 2.0, 1.0, 1.0, 1.0, 2.0, 2.0, 1.0, 2.0, 1.0, 0.0, 2.0, 2.0, 2.0, 1.0, 1.0, 0.0, 1.0, 1.0, 2.0, 1.0, 0.0, 2.0, 2.0, 2.0, 2.0, 0.0, 0.0, 0.0, 2.0, 2.0, 2.0, 0.0, 2.0, 2.0, 0.0, 1.0, 2.0, 2.0, 1.0, 0.0, 0.0, 2.0, 1.0, 1.0, 1.0, 2.0]\r\n",
      "==> batch_data/output/iris_sample_X_6.csv.out <==\r\n",
      "[0.0, 2.0, 2.0, 0.0, 0.0, 2.0, 2.0, 2.0, 1.0, 2.0, 2.0, 1.0, 2.0, 0.0, 2.0, 0.0, 0.0, 1.0, 1.0, 0.0, 2.0, 2.0, 1.0, 0.0, 1.0, 1.0, 0.0, 0.0, 1.0, 0.0, 2.0, 2.0, 2.0, 0.0, 0.0, 2.0, 1.0, 1.0, 1.0, 1.0, 0.0, 1.0, 0.0, 1.0, 1.0, 0.0, 2.0, 2.0, 0.0, 1.0, 1.0, 0.0, 0.0, 0.0, 1.0, 1.0, 1.0, 2.0, 0.0, 1.0, 2.0, 0.0, 0.0, 0.0, 2.0, 0.0, 2.0, 0.0, 1.0, 2.0, 0.0, 2.0, 2.0, 0.0, 2.0, 1.0, 2.0, 1.0, 2.0, 1.0, 1.0, 0.0, 0.0, 1.0, 0.0, 1.0, 1.0, 2.0, 0.0, 2.0, 0.0, 1.0, 2.0, 0.0, 1.0, 1.0, 0.0, 1.0, 0.0, 2.0]\r\n",
      "==> batch_data/output/iris_sample_X_7.csv.out <==\r\n",
      "[1.0, 2.0, 2.0, 0.0, 2.0, 2.0, 1.0, 1.0, 1.0, 2.0, 0.0, 1.0, 1.0, 2.0, 1.0, 2.0, 1.0, 2.0, 0.0, 0.0, 1.0, 1.0, 2.0, 0.0, 1.0, 1.0, 2.0, 0.0, 0.0, 2.0, 2.0, 0.0, 1.0, 0.0, 1.0, 0.0, 0.0, 1.0, 0.0, 1.0, 2.0, 0.0, 0.0, 2.0, 1.0, 2.0, 0.0, 2.0, 2.0, 2.0, 0.0, 1.0, 0.0, 2.0, 0.0, 2.0, 2.0, 1.0, 1.0, 0.0, 1.0, 0.0, 1.0, 1.0, 0.0, 1.0, 0.0, 2.0, 0.0, 0.0, 2.0, 0.0, 2.0, 0.0, 2.0, 1.0, 1.0, 0.0, 2.0, 0.0, 0.0, 1.0, 2.0, 2.0, 2.0, 1.0, 2.0, 0.0, 2.0, 0.0, 1.0, 1.0, 1.0, 0.0, 2.0, 1.0, 1.0, 0.0, 2.0, 2.0]\r\n",
      "==> batch_data/output/iris_sample_X_8.csv.out <==\r\n",
      "[0.0, 0.0, 0.0, 2.0, 2.0, 2.0, 0.0, 2.0, 0.0, 1.0, 1.0, 1.0, 1.0, 2.0, 1.0, 1.0, 0.0, 2.0, 0.0, 2.0, 2.0, 1.0, 1.0, 0.0, 2.0, 2.0, 0.0, 1.0, 2.0, 2.0, 1.0, 1.0, 0.0, 2.0, 2.0, 2.0, 0.0, 0.0, 0.0, 1.0, 0.0, 1.0, 2.0, 0.0, 0.0, 1.0, 2.0, 0.0, 2.0, 0.0, 0.0, 2.0, 2.0, 1.0, 2.0, 1.0, 0.0, 0.0, 2.0, 2.0, 2.0, 1.0, 2.0, 0.0, 1.0, 1.0, 0.0, 1.0, 0.0, 1.0, 1.0, 1.0, 0.0, 1.0, 2.0, 2.0, 2.0, 2.0, 0.0, 2.0, 2.0, 0.0, 2.0, 2.0, 1.0, 1.0, 2.0, 0.0, 2.0, 0.0, 0.0, 0.0, 0.0, 0.0, 0.0, 1.0, 0.0, 2.0, 2.0, 2.0]\r\n",
      "==> batch_data/output/iris_sample_X_9.csv.out <==\r\n",
      "[0.0, 1.0, 0.0, 1.0, 0.0, 0.0, 1.0, 0.0, 1.0, 1.0, 1.0, 1.0, 2.0, 1.0, 2.0, 1.0, 2.0, 0.0, 0.0, 2.0, 1.0, 2.0, 1.0, 0.0, 2.0, 1.0, 0.0, 1.0, 1.0, 0.0, 0.0, 0.0, 0.0, 1.0, 1.0, 0.0, 1.0, 1.0, 2.0, 1.0, 2.0, 0.0, 2.0, 1.0, 2.0, 2.0, 0.0, 0.0, 2.0, 2.0, 1.0, 1.0, 1.0, 2.0, 2.0, 0.0, 1.0, 2.0, 2.0, 0.0, 2.0, 0.0, 1.0, 0.0, 2.0, 2.0, 0.0, 2.0, 1.0, 0.0, 0.0, 2.0, 1.0, 1.0, 2.0, 2.0, 2.0, 0.0, 2.0, 1.0, 0.0, 2.0, 2.0, 1.0, 1.0, 2.0, 1.0, 2.0, 2.0, 2.0, 0.0, 2.0, 2.0, 0.0, 0.0, 1.0, 0.0, 0.0, 2.0, 2.0]"
     ]
    }
   ],
   "source": [
    "# Download the output data from S3 to local filesystem\n",
    "batch_output = transformer.output_path\n",
    "!mkdir -p batch_data/output\n",
    "!aws s3 cp --recursive $batch_output/ batch_data/output/\n",
    "# Head to see what the batch output looks like\n",
    "!head batch_data/output/*"
   ]
  },
  {
   "cell_type": "code",
   "execution_count": 17,
   "id": "37bc35dd",
   "metadata": {
    "execution": {
     "iopub.execute_input": "2022-04-07T00:30:18.462302Z",
     "iopub.status.busy": "2022-04-07T00:30:18.461581Z",
     "iopub.status.idle": "2022-04-07T00:30:18.518137Z",
     "shell.execute_reply": "2022-04-07T00:30:18.518528Z"
    },
    "papermill": {
     "duration": 0.096194,
     "end_time": "2022-04-07T00:30:18.518727",
     "exception": false,
     "start_time": "2022-04-07T00:30:18.422533",
     "status": "completed"
    },
    "tags": []
   },
   "outputs": [
    {
     "name": "stdout",
     "output_type": "stream",
     "text": [
      "Files batch_data/Y/iris_sample_Y_1.csv and batch_data/output/iris_sample_X_1.csv.out are identical\n",
      "Files batch_data/Y/iris_sample_Y_2.csv and batch_data/output/iris_sample_X_2.csv.out are identical\n",
      "Files batch_data/Y/iris_sample_Y_3.csv and batch_data/output/iris_sample_X_3.csv.out are identical\n",
      "Files batch_data/Y/iris_sample_Y_4.csv and batch_data/output/iris_sample_X_4.csv.out are identical\n",
      "Files batch_data/Y/iris_sample_Y_5.csv and batch_data/output/iris_sample_X_5.csv.out are identical\n",
      "Files batch_data/Y/iris_sample_Y_6.csv and batch_data/output/iris_sample_X_6.csv.out are identical\n",
      "Files batch_data/Y/iris_sample_Y_7.csv and batch_data/output/iris_sample_X_7.csv.out are identical\n",
      "Files batch_data/Y/iris_sample_Y_8.csv and batch_data/output/iris_sample_X_8.csv.out are identical\n",
      "Files batch_data/Y/iris_sample_Y_9.csv and batch_data/output/iris_sample_X_9.csv.out are identical\n"
     ]
    }
   ],
   "source": [
    "%%bash\n",
    "# For each sample file, compare the predicted labels from batch output to the true labels\n",
    "for i in {1..9}; do\n",
    "    diff -s batch_data/Y/iris_sample_Y_${i}.csv \\\n",
    "        <(cat batch_data/output/iris_sample_X_${i}.csv.out | sed 's/[[\"]//g' | sed 's/, \\|]/\\n/g') \\\n",
    "        | sed \"s/\\/dev\\/fd\\/63/batch_data\\/output\\/iris_sample_X_${i}.csv.out/\"\n",
    "done"
   ]
  }
 ],
 "metadata": {
  "instance_type": "ml.t3.medium",
  "kernelspec": {
   "display_name": "Python 3 (Data Science)",
   "language": "python",
   "name": "python3__SAGEMAKER_INTERNAL__arn:aws:sagemaker:us-east-1:000000000000:image/datascience-1.0"
  },
  "language_info": {
   "codemirror_mode": {
    "name": "ipython",
    "version": 3
   },
   "file_extension": ".py",
   "mimetype": "text/x-python",
   "name": "python",
   "nbconvert_exporter": "python",
   "pygments_lexer": "ipython3",
   "version": "3.7.10"
  },
  "papermill": {
   "default_parameters": {},
   "duration": 706.245133,
   "end_time": "2022-04-07T00:30:19.068255",
   "environment_variables": {},
   "exception": null,
   "input_path": "scikit_learn_estimator_example_with_batch_transform.ipynb",
   "output_path": "/opt/ml/processing/output/scikit_learn_estimator_example_with_batch_transform-2022-04-07-00-05-01.ipynb",
   "parameters": {
    "kms_key": "arn:aws:kms:us-west-2:000000000000:1234abcd-12ab-34cd-56ef-1234567890ab"
   },
   "start_time": "2022-04-07T00:18:32.823122",
   "version": "2.3.4"
  }
 },
 "nbformat": 4,
 "nbformat_minor": 5
}