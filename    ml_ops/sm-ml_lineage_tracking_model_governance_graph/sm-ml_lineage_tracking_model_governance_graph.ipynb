{
 "cells": [
  {
   "cell_type": "markdown",
   "id": "julian-clinic",
   "metadata": {},
   "source": [
    "# Model Lineage Tracking\n"
   ]
  },
  {
   "attachments": {},
   "cell_type": "markdown",
   "id": "68287edb",
   "metadata": {},
   "source": [
    "---\n",
    "\n",
    "This notebook's CI test result for us-west-2 is as follows. CI test results in other regions can be found at the end of the notebook. \n",
    "\n",
    "![This us-west-2 badge failed to load. Check your device's internet connectivity, otherwise the service is currently unavailable](https://prod.us-west-2.tcx-beacon.docs.aws.dev/sagemaker-nb/us-west-2/ml_ops|sm-ml_lineage_tracking_model_governance_graph|sm-ml_lineage_tracking_model_governance_graph.ipynb)\n",
    "\n",
    "---"
   ]
  },
  {
   "cell_type": "markdown",
   "id": "0fc4c162",
   "metadata": {},
   "source": [
    "\n",
    "Amazon SageMaker ML Lineage Tracking creates and stores information about the steps of a machine learning (ML) workflow from data preparation to model deployment. With the tracking information you can reproduce the workflow steps, track model and dataset lineage, and establish model governance and audit standards.\n",
    "\n",
    "Tracking entities maintain a representation of all the elements of your end-to-end machine learning workflow. You can use this representation to establish model governance, reproduce your workflow, and maintain a record of your work history. Amazon SageMaker automatically creates tracking entities for trial components and their associated trials and experiments when you create SageMaker jobs such as processing jobs, training jobs, and batch transform jobs. \n",
    "\n",
    "In this example, we will collect the model lineage data and represent it in a Heterogeneous Graph to maintain the structure, cohesion and trace lineage data back to its original source."
   ]
  },
  {
   "cell_type": "markdown",
   "id": "successful-election",
   "metadata": {},
   "source": [
    "## Heterogeneous Graphs\n",
    "\n",
    "Heterogeneous graphs, or heterographs for short, are graphs that contain different types of nodes and edges. The different types of nodes and edges tend to have different types of attributes that are designed to capture the characteristics of each node and edge type. Within the context of graph neural networks, depending on their complexity, certain node and edge types might need to be modeled with representations that have a different number of dimensions. [Source](https://docs.dgl.ai/en/0.4.x/tutorials/hetero/1_basics.html#:~:text=Heterogeneous%20graphs%2C%20or%20heterographs%20for,each%20node%20and%20edge%20type.)\n",
    "\n",
    "\n",
    "![graph.png](graph.png)"
   ]
  },
  {
   "cell_type": "markdown",
   "id": "fitted-stationery",
   "metadata": {},
   "source": [
    "## Import SageMaker Libraries"
   ]
  },
  {
   "cell_type": "code",
   "execution_count": null,
   "id": "valued-ordinance",
   "metadata": {},
   "outputs": [],
   "source": [
    "!pip install -U sagemaker boto3 sagemaker-experiments"
   ]
  },
  {
   "cell_type": "code",
   "execution_count": null,
   "id": "wanted-conservation",
   "metadata": {},
   "outputs": [],
   "source": [
    "import boto3\n",
    "from botocore.config import Config\n",
    "import sagemaker\n",
    "from sagemaker.lineage import context, artifact, association, action\n",
    "from smexperiments import experiment, trial_component\n",
    "import itertools\n",
    "\n",
    "config = Config(retries={\"max_attempts\": 20, \"mode\": \"adaptive\"})\n",
    "client = boto3.client(\"sagemaker\", config=config)\n",
    "sagemaker_session = sagemaker.Session(sagemaker_client=client)\n",
    "BUCKET = sagemaker_session.default_bucket()\n",
    "DEFAULT_BUCKET_PREFIX = sagemaker_session.default_bucket_prefix\n",
    "DEFAULT_BUCKET_PREFIX_PATH = \"\"\n",
    "\n",
    "# If a default bucket prefix is specified, append it to the s3 path\n",
    "if DEFAULT_BUCKET_PREFIX:\n",
    "    DEFAULT_BUCKET_PREFIX_PATH = f\"/{DEFAULT_BUCKET_PREFIX}\"\n",
    "\n",
    "REGION = boto3.session.Session().region_name\n",
    "ACCOUNT_ID = boto3.client(\"sts\").get_caller_identity().get(\"Account\")\n",
    "\n",
    "lookup_dict = {}\n",
    "LIMIT = 50"
   ]
  },
  {
   "cell_type": "markdown",
   "id": "respiratory-demand",
   "metadata": {},
   "source": [
    "## Create the Artifacts Nodes\n",
    "\n",
    "An artifact is a lineage tracking entity that represents a URI addressable object or data. Some examples are the S3 URI of a dataset and the ECR registry path of an image."
   ]
  },
  {
   "cell_type": "code",
   "execution_count": null,
   "id": "graphic-isolation",
   "metadata": {},
   "outputs": [],
   "source": [
    "header = \"~id,~label,arn:string,sourceuri:string,type:string,creationtime,LastModifiedTime\"\n",
    "counter = itertools.count()\n",
    "arts = artifact.Artifact.list(sagemaker_session=sagemaker_session)\n",
    "with open(\"artifacts-nodes.csv\", \"w\") as f:\n",
    "    f.write(header + \"\\n\")\n",
    "    for index, art in enumerate(arts):\n",
    "        idd = str(next(counter))\n",
    "        label = \"artifact\"\n",
    "        arn = art.artifact_arn\n",
    "        sourceuri = art.source.source_uri\n",
    "        if art.artifact_type is not None:\n",
    "            dtype = art.artifact_type\n",
    "        else:\n",
    "            dtype = \"\"\n",
    "        ctime = art.creation_time\n",
    "        mtime = art.last_modified_time\n",
    "        line = [idd, label, arn, sourceuri, dtype, ctime, mtime]\n",
    "        lookup_dict.update({arn: idd})\n",
    "        f.write(\",\".join(map(str, line)) + \"\\n\")\n",
    "\n",
    "        # Limiting the output to 50 artifacts\n",
    "        # Remove the following limit if exporting data for the first time\n",
    "        if index == LIMIT:\n",
    "            break"
   ]
  },
  {
   "cell_type": "markdown",
   "id": "handmade-connecticut",
   "metadata": {},
   "source": [
    "## Create Trial Components Nodes\n",
    "\n",
    "A trial component is a stage of a machine learning trial. Includes processing jobs, training jobs, and batch transform jobs. In the next cell, we will export all of the trial component data from the account."
   ]
  },
  {
   "cell_type": "code",
   "execution_count": null,
   "id": "approximate-conditions",
   "metadata": {},
   "outputs": [],
   "source": [
    "header = \"~id,~label,arn:string,sourcearn:string,type:string,creationtime,LastModifiedTime,status:string,message:string\"\n",
    "counter = itertools.count()\n",
    "tcs = trial_component.TrialComponent.list(sagemaker_boto_client=client)\n",
    "with open(\"tcs-nodes.csv\", \"w\") as f:\n",
    "    f.write(header + \"\\n\")\n",
    "    for index, tc in enumerate(tcs):\n",
    "        idd = \"t\" + str(next(counter))\n",
    "        label = \"trial_component\"\n",
    "        arn = tc.trial_component_arn\n",
    "        if hasattr(tc, \"trial_component_source\"):\n",
    "            sourcearn = tc.trial_component_source[\"SourceArn\"]\n",
    "            dtype = tc.trial_component_source[\"SourceType\"]\n",
    "        else:\n",
    "            sourcearn = \"\"\n",
    "            dtype = \"\"\n",
    "        ctime = tc.creation_time\n",
    "        mtime = tc.last_modified_time\n",
    "        status = tc.status.primary_status if hasattr(tc, \"status\") and tc.status != None else \"\"\n",
    "        message = tc.status.message if hasattr(tc.status, \"message\") else \"\"\n",
    "        line = [\n",
    "            idd,\n",
    "            label,\n",
    "            arn,\n",
    "            sourcearn,\n",
    "            dtype,\n",
    "            ctime,\n",
    "            mtime,\n",
    "            status,\n",
    "            str(message).replace(\"\\n\", \" \").replace(\",\", \"-\"),\n",
    "        ]\n",
    "        lookup_dict.update({arn: idd})\n",
    "        f.write(\",\".join(map(str, line)) + \"\\n\")\n",
    "\n",
    "        # Limiting the output to 50 trial components\n",
    "        # Remove the following limit if exporting data for the first time\n",
    "        if index == LIMIT:\n",
    "            break"
   ]
  },
  {
   "cell_type": "markdown",
   "id": "threatened-belly",
   "metadata": {},
   "source": [
    "##  Create Actions Nodes\n",
    "\n",
    "Actions represents an action or activity. Generally, an action involves at least one input artifact or output artifact. Some examples are a workflow step and a model deployment."
   ]
  },
  {
   "cell_type": "code",
   "execution_count": null,
   "id": "herbal-baghdad",
   "metadata": {},
   "outputs": [],
   "source": [
    "acts = action.Action.list(sagemaker_session=sagemaker_session)\n",
    "header = (\n",
    "    \"~id,~label,arn:string,sourceuri:string,status:string,type:string,creationtime,LastModifiedTime\"\n",
    ")\n",
    "counter = itertools.count()\n",
    "\n",
    "with open(\"action-nodes.csv\", \"w\") as f:\n",
    "    f.write(header + \"\\n\")\n",
    "    for index, act in enumerate(acts):\n",
    "        idd = \"ac\" + str(next(counter))\n",
    "        label = \"action\"\n",
    "        arn = act.action_arn\n",
    "        sourceuri = act.source.source_uri\n",
    "        status = act.status if hasattr(act, \"status\") and act.status != None else \"\"\n",
    "        dtype = act.action_type\n",
    "        ctime = act.creation_time\n",
    "        mtime = act.last_modified_time\n",
    "        line = [idd, label, arn, sourceuri, status, dtype, ctime, mtime]\n",
    "        lookup_dict.update({arn: idd})\n",
    "        f.write(\",\".join(map(str, line)) + \"\\n\")\n",
    "\n",
    "        # Limiting the output to 50 actions\n",
    "        # Remove the following limit if exporting data for the first time\n",
    "        if index == LIMIT:\n",
    "            break"
   ]
  },
  {
   "cell_type": "markdown",
   "id": "opposed-tuning",
   "metadata": {},
   "source": [
    "## Create Context Nodes\n",
    "\n",
    "Contexts are logical grouping of other tracking or experiment entities. Conceptually, experiments and trials are contexts. Some examples are an endpoint and a model package"
   ]
  },
  {
   "cell_type": "code",
   "execution_count": null,
   "id": "exceptional-allergy",
   "metadata": {},
   "outputs": [],
   "source": [
    "ctxs = context.Context.list(sagemaker_session=sagemaker_session)\n",
    "header = (\n",
    "    \"~id,~label,arn:string,sourceuri:string,status:string,type:string,creationtime,LastModifiedTime\"\n",
    ")\n",
    "counter = itertools.count()\n",
    "with open(\"contexts-nodes.csv\", \"w\") as f:\n",
    "    f.write(header + \"\\n\")\n",
    "    for index, ctx in enumerate(ctxs):\n",
    "        idd = \"ctx\" + str(next(counter))\n",
    "        label = \"context\"\n",
    "        arn = ctx.context_arn\n",
    "        sourceuri = ctx.source.source_uri\n",
    "        dtype = ctx.context_type\n",
    "        ctime = ctx.creation_time\n",
    "        mtime = ctx.last_modified_time\n",
    "        line = [idd, label, arn, sourceuri, dtype, ctime, mtime]\n",
    "        lookup_dict.update({arn: idd})\n",
    "        f.write(\",\".join(map(str, line)) + \"\\n\")\n",
    "\n",
    "        # Limiting the output to 50 contexts\n",
    "        # Remove the following limit if exporting data for the first time\n",
    "        if index == LIMIT:\n",
    "            break"
   ]
  },
  {
   "cell_type": "markdown",
   "id": "ongoing-photographer",
   "metadata": {},
   "source": [
    "## Create Edges from Associations\n",
    "\n",
    "An association is the relationship that links the source and destination entities. For example, an association between the location of training data and a training job. The exported file will be used as the edges information between the entities in the graph. This step may take a few hours to finish."
   ]
  },
  {
   "cell_type": "code",
   "execution_count": null,
   "id": "broadband-constitutional",
   "metadata": {},
   "outputs": [],
   "source": [
    "header = \"~id,~from,~to,~label\"\n",
    "counter = itertools.count()\n",
    "with open(\"edges.csv\", \"w\") as f:\n",
    "    f.write(header + \"\\n\")\n",
    "    for key in lookup_dict.keys():\n",
    "        associations = association.Association.list(\n",
    "            destination_arn=key, sagemaker_session=sagemaker_session\n",
    "        )\n",
    "        if associations is not None:\n",
    "            for asso in associations:\n",
    "                if asso.source_arn in lookup_dict:\n",
    "                    ct = next(counter)\n",
    "                    idd = \"e\" + str(ct)\n",
    "                    fr = lookup_dict[asso.source_arn]\n",
    "                    to = lookup_dict[asso.destination_arn]\n",
    "                    label = asso.association_type if hasattr(asso, \"association_type\") else \"\"\n",
    "                    line = [idd, fr, to, label]\n",
    "                    f.write(\",\".join(map(str, line)) + \"\\n\")"
   ]
  },
  {
   "cell_type": "markdown",
   "id": "based-piece",
   "metadata": {},
   "source": [
    "Now, all the data needed to build the graph is ready. We will use this data to populate a Neptune cluster with the graph data."
   ]
  },
  {
   "cell_type": "markdown",
   "id": "invisible-hypothetical",
   "metadata": {},
   "source": [
    "## Upload the generated files to S3 \n"
   ]
  },
  {
   "cell_type": "code",
   "execution_count": null,
   "id": "classical-breakdown",
   "metadata": {},
   "outputs": [],
   "source": [
    "!aws s3 cp edges.csv s3://$BUCKET$DEFAULT_BUCKET_PREFIX_PATH/sm-model-lineage-export/\n",
    "!aws s3 cp artifacts-nodes.csv s3://$BUCKET$DEFAULT_BUCKET_PREFIX_PATH/sm-model-lineage-export/\n",
    "!aws s3 cp tcs-nodes.csv s3://$BUCKET$DEFAULT_BUCKET_PREFIX_PATH/sm-model-lineage-export/\n",
    "!aws s3 cp action-nodes.csv s3://$BUCKET$DEFAULT_BUCKET_PREFIX_PATH/sm-model-lineage-export/\n",
    "!aws s3 cp nodes-contexts.csv s3://$BUCKET$DEFAULT_BUCKET_PREFIX_PATH/sm-model-lineage-export/"
   ]
  },
  {
   "cell_type": "markdown",
   "id": "laughing-hotel",
   "metadata": {},
   "source": [
    "## Setup Neptune Cluster and notebook plugin\n",
    "\n",
    "In the new few steps, we need to create a Neptune cluster either from the public CloudFormation template or manually from the console. After this cell is complete, restart the notebook's kernel.\n",
    "\n",
    "You can create the Neptune cluster from this [CloudFormation template](https://docs.aws.amazon.com/neptune/latest/userguide/machine-learning.html)\n",
    "\n",
    "Also, the instructions to install the Graph notebook jupyter extension to visualize the graph from [Here](https://github.com/aws/graph-notebook/#gremlin-server). This is an Jupyter notebook extenstion to make it easy to communicate with Neptune cluster"
   ]
  },
  {
   "cell_type": "markdown",
   "id": "opposed-integrity",
   "metadata": {},
   "source": [
    "## Setup Neptune IAM Authentication Policy\n",
    "Follow the instructions here: https://docs.aws.amazon.com/neptune/latest/userguide/iam-auth-enable.html"
   ]
  },
  {
   "cell_type": "markdown",
   "id": "distinguished-consensus",
   "metadata": {},
   "source": [
    "## Change Graph config and point to Neptune Endpoint\n",
    "\n",
    "If you get an error message: \"UsageError: Cell magic `%%graph_notebook_config` not found.\" use Jupyter Notebooks instead of jupyterlab and make sure that you have already installed the Graph extension from [HERE](https://github.com/aws/graph-notebook/#gremlin-server)"
   ]
  },
  {
   "cell_type": "markdown",
   "id": "suited-customs",
   "metadata": {},
   "source": [
    "```python\n",
    "%%graph_notebook_config\n",
    "{\n",
    "  \"host\": \"localhost\", ##Change this value to point to Neptune Cluster.\n",
    "  \"port\": 8182,\n",
    "  \"auth_mode\": \"DEFAULT\",\n",
    "  \"iam_credentials_provider_type\": \"ROLE\",\n",
    "  \"load_from_s3_arn\": \"\",\n",
    "  \"ssl\": false,\n",
    "  \"aws_region\": $REGION \n",
    "}\n",
    "```"
   ]
  },
  {
   "cell_type": "markdown",
   "id": "sacred-willow",
   "metadata": {},
   "source": [
    "## Make sure the configuration for the Neptune cluster is correct"
   ]
  },
  {
   "cell_type": "markdown",
   "id": "dress-friday",
   "metadata": {},
   "source": [
    "```\n",
    "%graph_notebook_config\n",
    "```"
   ]
  },
  {
   "cell_type": "markdown",
   "id": "talented-companion",
   "metadata": {},
   "source": [
    "## Bulk load data into Neptune\n",
    "\n",
    "The next section of the code can be converted into code cells after adding the missing variables"
   ]
  },
  {
   "cell_type": "markdown",
   "id": "sorted-europe",
   "metadata": {},
   "source": [
    "```bash\n",
    "%%bash\n",
    "    \n",
    "curl -X POST -H 'Content-Type: application/json' \\\n",
    "    https://<Neptune Cluster Endpoint>:8182/loader -d '\n",
    "    {\n",
    "      \"source\" : \"s3://$BUCKET$DEFAULT_BUCKET_PREFIX_PATH/sm-model-lineage-export/\",\n",
    "      \"format\" : \"csv\",\n",
    "      \"iamRoleArn\" : \"arn:aws:iam::$ACCOUNT_ID:role/NeptuneLoadFromS3\",\n",
    "      \"region\" : $REGION \n",
    "    }'\n",
    "    \n",
    "```"
   ]
  },
  {
   "cell_type": "markdown",
   "id": "fuzzy-green",
   "metadata": {},
   "source": [
    "## Run a couple of Queries\n",
    "\n",
    "Let's run a few queries to see some data lineage information. The first query will list all of the artifacts along with directional steps of outward edges and inward vectors"
   ]
  },
  {
   "cell_type": "markdown",
   "id": "final-consultancy",
   "metadata": {},
   "source": [
    "```python\n",
    "\n",
    "%%gremlin -p v,oute,inv,ine\n",
    "g.V().hasLabel('artifact').outE().inV().path()\n",
    "\n",
    "```"
   ]
  },
  {
   "cell_type": "markdown",
   "id": "imposed-yemen",
   "metadata": {},
   "source": [
    "Here is an example of another query with more filters. We need to look at all the artifacts of type dataset then display some of its properties like: ARN, type, source ARN and status"
   ]
  },
  {
   "cell_type": "markdown",
   "id": "separated-compatibility",
   "metadata": {},
   "source": [
    "```python\n",
    "\n",
    "%%gremlin -p v,oute,inv,ine\n",
    "g.V().hasLabel('artifact').has('type','DataSet').outE().inV().path().\n",
    "    by(valueMap('arn','type','sourcearn','status'))\n",
    "    \n",
    "```"
   ]
  },
  {
   "cell_type": "markdown",
   "id": "governmental-objective",
   "metadata": {},
   "source": [
    "## Clean up - Reset the Database\n",
    "\n",
    "To clean up, you can reset and delete all of the data in the Graph database. This will involve 2 steps:\n",
    "\n",
    "1- Initiate a database reset.\n",
    "\n",
    "2- Execute database reset."
   ]
  },
  {
   "cell_type": "markdown",
   "id": "printable-latest",
   "metadata": {},
   "source": [
    "```python\n",
    "\n",
    "%%bash\n",
    "curl -X POST \\\n",
    "-H 'Content-Type: application/json' \\\n",
    "https://<Neptune Cluster Endpoint>:8182/system \\\n",
    "-d '{ \"action\" : \"initiateDatabaseReset\" }'\n",
    "```"
   ]
  },
  {
   "cell_type": "markdown",
   "id": "controlling-quilt",
   "metadata": {},
   "source": [
    "```python\n",
    "\n",
    "%%bash\n",
    "curl -X POST -H 'Content-Type: application/json' https://<Neptune Cluster Endpoint>:8182/system -d '\n",
    "{ \n",
    "\"action\": \"performDatabaseReset\" ,\n",
    "\"token\" : \"<Token ID>\" #Token ID is the reponse from the previous cell\n",
    "}'\n",
    "\n",
    "```"
   ]
  },
  {
   "attachments": {},
   "cell_type": "markdown",
   "id": "a8ad7ecd",
   "metadata": {},
   "source": [
    "## Notebook CI Test Results\n",
    "\n",
    "This notebook was tested in multiple regions. The test results are as follows, except for us-west-2 which is shown at the top of the notebook.\n",
    "\n",
    "![This us-east-1 badge failed to load. Check your device's internet connectivity, otherwise the service is currently unavailable](https://prod.us-west-2.tcx-beacon.docs.aws.dev/sagemaker-nb/us-east-1/ml_ops|sm-ml_lineage_tracking_model_governance_graph|sm-ml_lineage_tracking_model_governance_graph.ipynb)\n",
    "\n",
    "![This us-east-2 badge failed to load. Check your device's internet connectivity, otherwise the service is currently unavailable](https://prod.us-west-2.tcx-beacon.docs.aws.dev/sagemaker-nb/us-east-2/ml_ops|sm-ml_lineage_tracking_model_governance_graph|sm-ml_lineage_tracking_model_governance_graph.ipynb)\n",
    "\n",
    "![This us-west-1 badge failed to load. Check your device's internet connectivity, otherwise the service is currently unavailable](https://prod.us-west-2.tcx-beacon.docs.aws.dev/sagemaker-nb/us-west-1/ml_ops|sm-ml_lineage_tracking_model_governance_graph|sm-ml_lineage_tracking_model_governance_graph.ipynb)\n",
    "\n",
    "![This ca-central-1 badge failed to load. Check your device's internet connectivity, otherwise the service is currently unavailable](https://prod.us-west-2.tcx-beacon.docs.aws.dev/sagemaker-nb/ca-central-1/ml_ops|sm-ml_lineage_tracking_model_governance_graph|sm-ml_lineage_tracking_model_governance_graph.ipynb)\n",
    "\n",
    "![This sa-east-1 badge failed to load. Check your device's internet connectivity, otherwise the service is currently unavailable](https://prod.us-west-2.tcx-beacon.docs.aws.dev/sagemaker-nb/sa-east-1/ml_ops|sm-ml_lineage_tracking_model_governance_graph|sm-ml_lineage_tracking_model_governance_graph.ipynb)\n",
    "\n",
    "![This eu-west-1 badge failed to load. Check your device's internet connectivity, otherwise the service is currently unavailable](https://prod.us-west-2.tcx-beacon.docs.aws.dev/sagemaker-nb/eu-west-1/ml_ops|sm-ml_lineage_tracking_model_governance_graph|sm-ml_lineage_tracking_model_governance_graph.ipynb)\n",
    "\n",
    "![This eu-west-2 badge failed to load. Check your device's internet connectivity, otherwise the service is currently unavailable](https://prod.us-west-2.tcx-beacon.docs.aws.dev/sagemaker-nb/eu-west-2/ml_ops|sm-ml_lineage_tracking_model_governance_graph|sm-ml_lineage_tracking_model_governance_graph.ipynb)\n",
    "\n",
    "![This eu-west-3 badge failed to load. Check your device's internet connectivity, otherwise the service is currently unavailable](https://prod.us-west-2.tcx-beacon.docs.aws.dev/sagemaker-nb/eu-west-3/ml_ops|sm-ml_lineage_tracking_model_governance_graph|sm-ml_lineage_tracking_model_governance_graph.ipynb)\n",
    "\n",
    "![This eu-central-1 badge failed to load. Check your device's internet connectivity, otherwise the service is currently unavailable](https://prod.us-west-2.tcx-beacon.docs.aws.dev/sagemaker-nb/eu-central-1/ml_ops|sm-ml_lineage_tracking_model_governance_graph|sm-ml_lineage_tracking_model_governance_graph.ipynb)\n",
    "\n",
    "![This eu-north-1 badge failed to load. Check your device's internet connectivity, otherwise the service is currently unavailable](https://prod.us-west-2.tcx-beacon.docs.aws.dev/sagemaker-nb/eu-north-1/ml_ops|sm-ml_lineage_tracking_model_governance_graph|sm-ml_lineage_tracking_model_governance_graph.ipynb)\n",
    "\n",
    "![This ap-southeast-1 badge failed to load. Check your device's internet connectivity, otherwise the service is currently unavailable](https://prod.us-west-2.tcx-beacon.docs.aws.dev/sagemaker-nb/ap-southeast-1/ml_ops|sm-ml_lineage_tracking_model_governance_graph|sm-ml_lineage_tracking_model_governance_graph.ipynb)\n",
    "\n",
    "![This ap-southeast-2 badge failed to load. Check your device's internet connectivity, otherwise the service is currently unavailable](https://prod.us-west-2.tcx-beacon.docs.aws.dev/sagemaker-nb/ap-southeast-2/ml_ops|sm-ml_lineage_tracking_model_governance_graph|sm-ml_lineage_tracking_model_governance_graph.ipynb)\n",
    "\n",
    "![This ap-northeast-1 badge failed to load. Check your device's internet connectivity, otherwise the service is currently unavailable](https://prod.us-west-2.tcx-beacon.docs.aws.dev/sagemaker-nb/ap-northeast-1/ml_ops|sm-ml_lineage_tracking_model_governance_graph|sm-ml_lineage_tracking_model_governance_graph.ipynb)\n",
    "\n",
    "![This ap-northeast-2 badge failed to load. Check your device's internet connectivity, otherwise the service is currently unavailable](https://prod.us-west-2.tcx-beacon.docs.aws.dev/sagemaker-nb/ap-northeast-2/ml_ops|sm-ml_lineage_tracking_model_governance_graph|sm-ml_lineage_tracking_model_governance_graph.ipynb)\n",
    "\n",
    "![This ap-south-1 badge failed to load. Check your device's internet connectivity, otherwise the service is currently unavailable](https://prod.us-west-2.tcx-beacon.docs.aws.dev/sagemaker-nb/ap-south-1/ml_ops|sm-ml_lineage_tracking_model_governance_graph|sm-ml_lineage_tracking_model_governance_graph.ipynb)\n"
   ]
  }
 ],
 "metadata": {
  "kernelspec": {
   "display_name": "Python 3 (Data Science 2.0)",
   "language": "python",
   "name": "python3__SAGEMAKER_INTERNAL__arn:aws:sagemaker:us-west-2:236514542706:image/sagemaker-data-science-38"
  },
  "language_info": {
   "codemirror_mode": {
    "name": "ipython",
    "version": 3
   },
   "file_extension": ".py",
   "mimetype": "text/x-python",
   "name": "python",
   "nbconvert_exporter": "python",
   "pygments_lexer": "ipython3",
   "version": "3.8.13"
  }
 },
 "nbformat": 4,
 "nbformat_minor": 5
}
