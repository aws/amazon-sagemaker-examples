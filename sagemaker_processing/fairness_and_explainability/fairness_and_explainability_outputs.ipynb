{
 "cells": [
  {
   "cell_type": "code",
   "execution_count": 1,
   "id": "3b43d1c1",
   "metadata": {
    "execution": {
     "iopub.execute_input": "2022-08-11T01:54:39.152579Z",
     "iopub.status.busy": "2022-08-11T01:54:39.151566Z",
     "iopub.status.idle": "2022-08-11T01:54:39.154887Z",
     "shell.execute_reply": "2022-08-11T01:54:39.154338Z"
    },
    "papermill": {
     "duration": 0.034351,
     "end_time": "2022-08-11T01:54:39.155021",
     "exception": false,
     "start_time": "2022-08-11T01:54:39.120670",
     "status": "completed"
    },
    "tags": [
     "injected-parameters"
    ]
   },
   "outputs": [],
   "source": [
    "# Parameters\n",
    "kms_key = \"arn:aws:kms:us-west-2:000000000000:1234abcd-12ab-34cd-56ef-1234567890ab\"\n"
   ]
  },
  {
   "cell_type": "markdown",
   "id": "c8482f2b",
   "metadata": {
    "papermill": {
     "duration": 0.02209,
     "end_time": "2022-08-11T01:54:39.198682",
     "exception": false,
     "start_time": "2022-08-11T01:54:39.176592",
     "status": "completed"
    },
    "tags": []
   },
   "source": [
    "# Fairness and Explainability with SageMaker Clarify"
   ]
  },
  {
   "cell_type": "markdown",
   "id": "a40d4a50",
   "metadata": {
    "papermill": {
     "duration": 0.020207,
     "end_time": "2022-08-11T01:54:39.240091",
     "exception": false,
     "start_time": "2022-08-11T01:54:39.219884",
     "status": "completed"
    },
    "tags": []
   },
   "source": [
    "## Runtime\n",
    "\n",
    "This notebook takes approximately 30 minutes to run.\n",
    "\n",
    "## Contents\n",
    "\n",
    "1. [Overview](#Overview)\n",
    "1. [Prerequisites and Data](#Prerequisites-and-Data)\n",
    "    1. [Initialize SageMaker](#Initialize-SageMaker)\n",
    "    1. [Download data](#Download-data)\n",
    "    1. [Loading the data: Adult Dataset](#Loading-the-data:-Adult-Dataset) \n",
    "    1. [Data inspection](#Data-inspection) \n",
    "    1. [Data encoding and upload to S3](#Encode-and-Upload-the-Data) \n",
    "1. [Train and Deploy XGBoost Model](#Train-XGBoost-Model)\n",
    "    1. [Train Model](#Train-Model)\n",
    "    1. [Create Model](#Create-Model)\n",
    "1. [Amazon SageMaker Clarify](#Amazon-SageMaker-Clarify)\n",
    "    1. [Detecting Bias](#Detecting-Bias)\n",
    "        1. [Writing BiasConfig](#Writing-BiasConfig)\n",
    "        1. [Pre-training Bias](#Pre-training-Bias)\n",
    "        1. [Post-training Bias](#Post-training-Bias)\n",
    "        1. [Viewing the Bias Report](#Viewing-the-Bias-Report)\n",
    "    1. [Explaining Predictions](#Explaining-Predictions)\n",
    "        1. [Viewing the Explainability Report](#Viewing-the-Explainability-Report)\n",
    "1. [Clean Up](#Clean-Up)\n",
    "\n",
    "## Overview\n",
    "Amazon SageMaker Clarify helps improve your machine learning models by detecting potential bias and helping explain how these models make predictions. The fairness and explainability functionality provided by SageMaker Clarify takes a step towards enabling AWS customers to build trustworthy and understandable machine learning models. The product comes with the tools to help you with the following tasks.\n",
    "\n",
    "* Measure biases that can occur during each stage of the ML lifecycle (data collection, model training and tuning, and monitoring of ML models deployed for inference).\n",
    "* Generate model governance reports targeting risk and compliance teams and external regulators.\n",
    "* Provide explanations of the data, models, and monitoring used to assess predictions.\n",
    "\n",
    "This sample notebook walks you through:  \n",
    "1. Key terms and concepts needed to understand SageMaker Clarify\n",
    "1. Measuring the pre-training bias of a dataset and post-training bias of a model\n",
    "1. Explaining the importance of the various input features on the model's decision\n",
    "1. Accessing the reports through SageMaker Studio if you have an instance set up.\n",
    "\n",
    "In doing so, the notebook first trains a [SageMaker XGBoost](https://docs.aws.amazon.com/sagemaker/latest/dg/xgboost.html) model using training dataset, then use SageMaker Clarify to analyze a testing dataset in CSV format. SageMaker Clarify also supports analyzing dataset in [SageMaker JSON Lines dense format](https://docs.aws.amazon.com/sagemaker/latest/dg/cdf-inference.html#common-in-formats), which is illustrated in [another notebook](https://github.com/aws/amazon-sagemaker-examples/blob/master/sagemaker_processing/fairness_and_explainability/fairness_and_explainability_jsonlines_format.ipynb)."
   ]
  },
  {
   "cell_type": "markdown",
   "id": "2bd6e16e",
   "metadata": {
    "papermill": {
     "duration": 0.020081,
     "end_time": "2022-08-11T01:54:39.280272",
     "exception": false,
     "start_time": "2022-08-11T01:54:39.260191",
     "status": "completed"
    },
    "tags": []
   },
   "source": [
    "## Prerequisites and Data\n",
    "### Initialize SageMaker"
   ]
  },
  {
   "cell_type": "code",
   "execution_count": 2,
   "id": "32f6b413",
   "metadata": {
    "execution": {
     "iopub.execute_input": "2022-08-11T01:54:39.326286Z",
     "iopub.status.busy": "2022-08-11T01:54:39.325294Z",
     "iopub.status.idle": "2022-08-11T01:54:41.190947Z",
     "shell.execute_reply": "2022-08-11T01:54:41.191395Z"
    },
    "papermill": {
     "duration": 1.891067,
     "end_time": "2022-08-11T01:54:41.191527",
     "exception": false,
     "start_time": "2022-08-11T01:54:39.300460",
     "status": "completed"
    },
    "tags": []
   },
   "outputs": [],
   "source": [
    "from sagemaker import Session\n",
    "\n",
    "session = Session()\n",
    "bucket = session.default_bucket()\n",
    "prefix = \"sagemaker/DEMO-sagemaker-clarify\"\n",
    "region = session.boto_region_name\n",
    "# Define IAM role\n",
    "from sagemaker import get_execution_role\n",
    "import pandas as pd\n",
    "import numpy as np\n",
    "import os\n",
    "import boto3\n",
    "from datetime import datetime\n",
    "\n",
    "role = get_execution_role()\n",
    "s3_client = boto3.client(\"s3\")"
   ]
  },
  {
   "cell_type": "markdown",
   "id": "3db6e470",
   "metadata": {
    "papermill": {
     "duration": 0.02012,
     "end_time": "2022-08-11T01:54:41.232368",
     "exception": false,
     "start_time": "2022-08-11T01:54:41.212248",
     "status": "completed"
    },
    "tags": []
   },
   "source": [
    "### Download data\n",
    "Data Source: [https://archive.ics.uci.edu/ml/machine-learning-databases/adult/](https://archive.ics.uci.edu/ml/machine-learning-databases/adult/)\n",
    "\n",
    "Let's __download__ the data and save it in the local folder with the name adult.data and adult.test from UCI repository$^{[2]}$.\n",
    "\n",
    "$^{[2]}$Dua Dheeru, and Efi Karra Taniskidou. \"[UCI Machine Learning Repository](http://archive.ics.uci.edu/ml)\". Irvine, CA: University of California, School of Information and Computer Science (2017)."
   ]
  },
  {
   "cell_type": "code",
   "execution_count": 3,
   "id": "6c16a047",
   "metadata": {
    "execution": {
     "iopub.execute_input": "2022-08-11T01:54:41.284549Z",
     "iopub.status.busy": "2022-08-11T01:54:41.283650Z",
     "iopub.status.idle": "2022-08-11T01:54:42.500595Z",
     "shell.execute_reply": "2022-08-11T01:54:42.500156Z"
    },
    "papermill": {
     "duration": 1.248117,
     "end_time": "2022-08-11T01:54:42.500717",
     "exception": false,
     "start_time": "2022-08-11T01:54:41.252600",
     "status": "completed"
    },
    "tags": []
   },
   "outputs": [
    {
     "name": "stdout",
     "output_type": "stream",
     "text": [
      "adult.data saved!\n"
     ]
    },
    {
     "name": "stdout",
     "output_type": "stream",
     "text": [
      "adult.test saved!\n"
     ]
    }
   ],
   "source": [
    "adult_columns = [\n",
    "    \"Age\",\n",
    "    \"Workclass\",\n",
    "    \"fnlwgt\",\n",
    "    \"Education\",\n",
    "    \"Education-Num\",\n",
    "    \"Marital Status\",\n",
    "    \"Occupation\",\n",
    "    \"Relationship\",\n",
    "    \"Ethnic group\",\n",
    "    \"Sex\",\n",
    "    \"Capital Gain\",\n",
    "    \"Capital Loss\",\n",
    "    \"Hours per week\",\n",
    "    \"Country\",\n",
    "    \"Target\",\n",
    "]\n",
    "if not os.path.isfile(\"adult.data\"):\n",
    "    s3_client.download_file(\n",
    "        \"sagemaker-sample-files\", \"datasets/tabular/uci_adult/adult.data\", \"adult.data\"\n",
    "    )\n",
    "    print(\"adult.data saved!\")\n",
    "else:\n",
    "    print(\"adult.data already on disk.\")\n",
    "\n",
    "if not os.path.isfile(\"adult.test\"):\n",
    "    s3_client.download_file(\n",
    "        \"sagemaker-sample-files\", \"datasets/tabular/uci_adult/adult.test\", \"adult.test\"\n",
    "    )\n",
    "    print(\"adult.test saved!\")\n",
    "else:\n",
    "    print(\"adult.test already on disk.\")"
   ]
  },
  {
   "cell_type": "markdown",
   "id": "613436f0",
   "metadata": {
    "papermill": {
     "duration": 0.031256,
     "end_time": "2022-08-11T01:54:42.554689",
     "exception": false,
     "start_time": "2022-08-11T01:54:42.523433",
     "status": "completed"
    },
    "tags": []
   },
   "source": [
    "### Loading the data: Adult Dataset\n",
    "From the UCI repository of machine learning datasets, this database contains 14 features concerning demographic characteristics of 45,222 rows (32,561 for training and 12,661 for testing). The task is to predict whether a person has a yearly income that is more or less than $50,000.\n",
    "\n",
    "Here are the features and their possible values:\n",
    "1. **Age**: continuous.\n",
    "1. **Workclass**: Private, Self-emp-not-inc, Self-emp-inc, Federal-gov, Local-gov, State-gov, Without-pay, Never-worked.\n",
    "1. **Fnlwgt**: continuous (the number of people the census takers believe that observation represents).\n",
    "1. **Education**: Bachelors, Some-college, 11th, HS-grad, Prof-school, Assoc-acdm, Assoc-voc, 9th, 7th-8th, 12th, Masters, 1st-4th, 10th, Doctorate, 5th-6th, Preschool.\n",
    "1. **Education-num**: continuous.\n",
    "1. **Marital-status**: Married-civ-spouse, Divorced, Never-married, Separated, Widowed, Married-spouse-absent, Married-AF-spouse.\n",
    "1. **Occupation**: Tech-support, Craft-repair, Other-service, Sales, Exec-managerial, Prof-specialty, Handlers-cleaners, Machine-op-inspct, Adm-clerical, Farming-fishing, Transport-moving, Priv-house-serv, Protective-serv, Armed-Forces.\n",
    "1. **Relationship**: Wife, Own-child, Husband, Not-in-family, Other-relative, Unmarried.\n",
    "1. **Ethnic group**: White, Asian-Pac-Islander, Amer-Indian-Eskimo, Other, Black.\n",
    "1. **Sex**: Female, Male.\n",
    "    * **Note**: this data is extracted from the 1994 Census and enforces a binary option on Sex\n",
    "1. **Capital-gain**: continuous.\n",
    "1. **Capital-loss**: continuous.\n",
    "1. **Hours-per-week**: continuous.\n",
    "1. **Native-country**: United-States, Cambodia, England, Puerto-Rico, Canada, Germany, Outlying-US(Guam-USVI-etc), India, Japan, Greece, South, China, Cuba, Iran, Honduras, Philippines, Italy, Poland, Jamaica, Vietnam, Mexico, Portugal, Ireland, France, Dominican-Republic, Laos, Ecuador, Taiwan, Haiti, Columbia, Hungary, Guatemala, Nicaragua, Scotland, Thailand, Yugoslavia, El-Salvador, Trinadad&Tobago, Peru, Hong, Holand-Netherlands.\n",
    "\n",
    "Next, we specify our binary prediction task:  \n",
    "15. **Target**: <=50,000, >$50,000."
   ]
  },
  {
   "cell_type": "code",
   "execution_count": 4,
   "id": "59f11573",
   "metadata": {
    "execution": {
     "iopub.execute_input": "2022-08-11T01:54:42.607542Z",
     "iopub.status.busy": "2022-08-11T01:54:42.606614Z",
     "iopub.status.idle": "2022-08-11T01:54:43.583967Z",
     "shell.execute_reply": "2022-08-11T01:54:43.584344Z"
    },
    "papermill": {
     "duration": 1.007926,
     "end_time": "2022-08-11T01:54:43.584477",
     "exception": false,
     "start_time": "2022-08-11T01:54:42.576551",
     "status": "completed"
    },
    "scrolled": true,
    "tags": []
   },
   "outputs": [
    {
     "data": {
      "text/html": [
       "<div>\n",
       "<style scoped>\n",
       "    .dataframe tbody tr th:only-of-type {\n",
       "        vertical-align: middle;\n",
       "    }\n",
       "\n",
       "    .dataframe tbody tr th {\n",
       "        vertical-align: top;\n",
       "    }\n",
       "\n",
       "    .dataframe thead th {\n",
       "        text-align: right;\n",
       "    }\n",
       "</style>\n",
       "<table border=\"1\" class=\"dataframe\">\n",
       "  <thead>\n",
       "    <tr style=\"text-align: right;\">\n",
       "      <th></th>\n",
       "      <th>Age</th>\n",
       "      <th>Workclass</th>\n",
       "      <th>fnlwgt</th>\n",
       "      <th>Education</th>\n",
       "      <th>Education-Num</th>\n",
       "      <th>Marital Status</th>\n",
       "      <th>Occupation</th>\n",
       "      <th>Relationship</th>\n",
       "      <th>Ethnic group</th>\n",
       "      <th>Sex</th>\n",
       "      <th>Capital Gain</th>\n",
       "      <th>Capital Loss</th>\n",
       "      <th>Hours per week</th>\n",
       "      <th>Country</th>\n",
       "      <th>Target</th>\n",
       "    </tr>\n",
       "  </thead>\n",
       "  <tbody>\n",
       "    <tr>\n",
       "      <th>0</th>\n",
       "      <td>39</td>\n",
       "      <td>State-gov</td>\n",
       "      <td>77516</td>\n",
       "      <td>Bachelors</td>\n",
       "      <td>13</td>\n",
       "      <td>Never-married</td>\n",
       "      <td>Adm-clerical</td>\n",
       "      <td>Not-in-family</td>\n",
       "      <td>White</td>\n",
       "      <td>Male</td>\n",
       "      <td>2174</td>\n",
       "      <td>0</td>\n",
       "      <td>40</td>\n",
       "      <td>United-States</td>\n",
       "      <td>&lt;=50K</td>\n",
       "    </tr>\n",
       "    <tr>\n",
       "      <th>1</th>\n",
       "      <td>50</td>\n",
       "      <td>Self-emp-not-inc</td>\n",
       "      <td>83311</td>\n",
       "      <td>Bachelors</td>\n",
       "      <td>13</td>\n",
       "      <td>Married-civ-spouse</td>\n",
       "      <td>Exec-managerial</td>\n",
       "      <td>Husband</td>\n",
       "      <td>White</td>\n",
       "      <td>Male</td>\n",
       "      <td>0</td>\n",
       "      <td>0</td>\n",
       "      <td>13</td>\n",
       "      <td>United-States</td>\n",
       "      <td>&lt;=50K</td>\n",
       "    </tr>\n",
       "    <tr>\n",
       "      <th>2</th>\n",
       "      <td>38</td>\n",
       "      <td>Private</td>\n",
       "      <td>215646</td>\n",
       "      <td>HS-grad</td>\n",
       "      <td>9</td>\n",
       "      <td>Divorced</td>\n",
       "      <td>Handlers-cleaners</td>\n",
       "      <td>Not-in-family</td>\n",
       "      <td>White</td>\n",
       "      <td>Male</td>\n",
       "      <td>0</td>\n",
       "      <td>0</td>\n",
       "      <td>40</td>\n",
       "      <td>United-States</td>\n",
       "      <td>&lt;=50K</td>\n",
       "    </tr>\n",
       "    <tr>\n",
       "      <th>3</th>\n",
       "      <td>53</td>\n",
       "      <td>Private</td>\n",
       "      <td>234721</td>\n",
       "      <td>11th</td>\n",
       "      <td>7</td>\n",
       "      <td>Married-civ-spouse</td>\n",
       "      <td>Handlers-cleaners</td>\n",
       "      <td>Husband</td>\n",
       "      <td>Black</td>\n",
       "      <td>Male</td>\n",
       "      <td>0</td>\n",
       "      <td>0</td>\n",
       "      <td>40</td>\n",
       "      <td>United-States</td>\n",
       "      <td>&lt;=50K</td>\n",
       "    </tr>\n",
       "    <tr>\n",
       "      <th>4</th>\n",
       "      <td>28</td>\n",
       "      <td>Private</td>\n",
       "      <td>338409</td>\n",
       "      <td>Bachelors</td>\n",
       "      <td>13</td>\n",
       "      <td>Married-civ-spouse</td>\n",
       "      <td>Prof-specialty</td>\n",
       "      <td>Wife</td>\n",
       "      <td>Black</td>\n",
       "      <td>Female</td>\n",
       "      <td>0</td>\n",
       "      <td>0</td>\n",
       "      <td>40</td>\n",
       "      <td>Cuba</td>\n",
       "      <td>&lt;=50K</td>\n",
       "    </tr>\n",
       "  </tbody>\n",
       "</table>\n",
       "</div>"
      ],
      "text/plain": [
       "   Age         Workclass  fnlwgt  Education  Education-Num  \\\n",
       "0   39         State-gov   77516  Bachelors             13   \n",
       "1   50  Self-emp-not-inc   83311  Bachelors             13   \n",
       "2   38           Private  215646    HS-grad              9   \n",
       "3   53           Private  234721       11th              7   \n",
       "4   28           Private  338409  Bachelors             13   \n",
       "\n",
       "       Marital Status         Occupation   Relationship Ethnic group     Sex  \\\n",
       "0       Never-married       Adm-clerical  Not-in-family        White    Male   \n",
       "1  Married-civ-spouse    Exec-managerial        Husband        White    Male   \n",
       "2            Divorced  Handlers-cleaners  Not-in-family        White    Male   \n",
       "3  Married-civ-spouse  Handlers-cleaners        Husband        Black    Male   \n",
       "4  Married-civ-spouse     Prof-specialty           Wife        Black  Female   \n",
       "\n",
       "   Capital Gain  Capital Loss  Hours per week        Country Target  \n",
       "0          2174             0              40  United-States  <=50K  \n",
       "1             0             0              13  United-States  <=50K  \n",
       "2             0             0              40  United-States  <=50K  \n",
       "3             0             0              40  United-States  <=50K  \n",
       "4             0             0              40           Cuba  <=50K  "
      ]
     },
     "execution_count": 4,
     "metadata": {},
     "output_type": "execute_result"
    }
   ],
   "source": [
    "training_data = pd.read_csv(\n",
    "    \"adult.data\", names=adult_columns, sep=r\"\\s*,\\s*\", engine=\"python\", na_values=\"?\"\n",
    ").dropna()\n",
    "\n",
    "testing_data = pd.read_csv(\n",
    "    \"adult.test\", names=adult_columns, sep=r\"\\s*,\\s*\", engine=\"python\", na_values=\"?\", skiprows=1\n",
    ").dropna()\n",
    "\n",
    "training_data.head()"
   ]
  },
  {
   "cell_type": "markdown",
   "id": "5edfc560",
   "metadata": {
    "papermill": {
     "duration": 0.021714,
     "end_time": "2022-08-11T01:54:43.628301",
     "exception": false,
     "start_time": "2022-08-11T01:54:43.606587",
     "status": "completed"
    },
    "tags": []
   },
   "source": [
    "### Data inspection\n",
    "Plotting histograms for the distribution of the different features is a good way to visualize the data. Let's plot a few of the features that can be considered _sensitive_.  \n",
    "Let's take a look specifically at the Sex feature of a census respondent. In the first plot we see that there are fewer Female respondents as a whole but especially in the positive outcomes, where they form ~$\\frac{1}{7}$th of respondents."
   ]
  },
  {
   "cell_type": "code",
   "execution_count": 5,
   "id": "d1898226",
   "metadata": {
    "execution": {
     "iopub.execute_input": "2022-08-11T01:54:43.682148Z",
     "iopub.status.busy": "2022-08-11T01:54:43.679437Z",
     "iopub.status.idle": "2022-08-11T01:54:44.435298Z",
     "shell.execute_reply": "2022-08-11T01:54:44.435714Z"
    },
    "papermill": {
     "duration": 0.784359,
     "end_time": "2022-08-11T01:54:44.435846",
     "exception": false,
     "start_time": "2022-08-11T01:54:43.651487",
     "status": "completed"
    },
    "scrolled": true,
    "tags": []
   },
   "outputs": [
    {
     "data": {
      "text/plain": [
       "<AxesSubplot:title={'center':'Counts of Sex'}>"
      ]
     },
     "execution_count": 5,
     "metadata": {},
     "output_type": "execute_result"
    },
    {
     "data": {
      "image/png": "[encoded data removed]",
      "text/plain": [
       "<Figure size 432x288 with 1 Axes>"
      ]
     },
     "metadata": {
      "needs_background": "light"
     },
     "output_type": "display_data"
    }
   ],
   "source": [
    "training_data[\"Sex\"].value_counts().sort_values().plot(kind=\"bar\", title=\"Counts of Sex\", rot=0)"
   ]
  },
  {
   "cell_type": "code",
   "execution_count": 6,
   "id": "018467cd",
   "metadata": {
    "execution": {
     "iopub.execute_input": "2022-08-11T01:54:44.518396Z",
     "iopub.status.busy": "2022-08-11T01:54:44.514967Z",
     "iopub.status.idle": "2022-08-11T01:54:44.618839Z",
     "shell.execute_reply": "2022-08-11T01:54:44.618380Z"
    },
    "papermill": {
     "duration": 0.160429,
     "end_time": "2022-08-11T01:54:44.618953",
     "exception": false,
     "start_time": "2022-08-11T01:54:44.458524",
     "status": "completed"
    },
    "scrolled": true,
    "tags": []
   },
   "outputs": [
    {
     "data": {
      "text/plain": [
       "<AxesSubplot:title={'center':'Counts of Sex earning >$50K'}>"
      ]
     },
     "execution_count": 6,
     "metadata": {},
     "output_type": "execute_result"
    },
    {
     "data": {
      "image/png": "[encoded data removed]",
      "text/plain": [
       "<Figure size 432x288 with 1 Axes>"
      ]
     },
     "metadata": {
      "needs_background": "light"
     },
     "output_type": "display_data"
    }
   ],
   "source": [
    "training_data[\"Sex\"].where(training_data[\"Target\"] == \">50K\").value_counts().sort_values().plot(\n",
    "    kind=\"bar\", title=\"Counts of Sex earning >$50K\", rot=0\n",
    ")"
   ]
  },
  {
   "cell_type": "markdown",
   "id": "3ed7eef2",
   "metadata": {
    "papermill": {
     "duration": 0.023506,
     "end_time": "2022-08-11T01:54:44.665876",
     "exception": false,
     "start_time": "2022-08-11T01:54:44.642370",
     "status": "completed"
    },
    "tags": []
   },
   "source": [
    "### Encode and Upload the Dataset\n",
    "Here we encode the training and test data. Encoding input data is not necessary for SageMaker Clarify, but is necessary for the model."
   ]
  },
  {
   "cell_type": "code",
   "execution_count": 7,
   "id": "1fd2c3e0",
   "metadata": {
    "execution": {
     "iopub.execute_input": "2022-08-11T01:54:44.729432Z",
     "iopub.status.busy": "2022-08-11T01:54:44.728544Z",
     "iopub.status.idle": "2022-08-11T01:54:45.554793Z",
     "shell.execute_reply": "2022-08-11T01:54:45.553757Z"
    },
    "papermill": {
     "duration": 0.865518,
     "end_time": "2022-08-11T01:54:45.554921",
     "exception": false,
     "start_time": "2022-08-11T01:54:44.689403",
     "status": "completed"
    },
    "tags": []
   },
   "outputs": [],
   "source": [
    "from sklearn import preprocessing\n",
    "\n",
    "\n",
    "def number_encode_features(df):\n",
    "    result = df.copy()\n",
    "    encoders = {}\n",
    "    for column in result.columns:\n",
    "        if result.dtypes[column] == np.object:\n",
    "            encoders[column] = preprocessing.LabelEncoder()\n",
    "            result[column] = encoders[column].fit_transform(result[column].fillna(\"None\"))\n",
    "    return result, encoders\n",
    "\n",
    "\n",
    "training_data = pd.concat([training_data[\"Target\"], training_data.drop([\"Target\"], axis=1)], axis=1)\n",
    "training_data, _ = number_encode_features(training_data)\n",
    "training_data.to_csv(\"train_data.csv\", index=False, header=False)\n",
    "\n",
    "testing_data, _ = number_encode_features(testing_data)\n",
    "test_features = testing_data.drop([\"Target\"], axis=1)\n",
    "test_target = testing_data[\"Target\"]\n",
    "test_features.to_csv(\"test_features.csv\", index=False, header=False)"
   ]
  },
  {
   "cell_type": "markdown",
   "id": "4eff5f57",
   "metadata": {
    "papermill": {
     "duration": 0.023367,
     "end_time": "2022-08-11T01:54:45.601550",
     "exception": false,
     "start_time": "2022-08-11T01:54:45.578183",
     "status": "completed"
    },
    "tags": []
   },
   "source": [
    "A quick note about our encoding: the \"Female\" Sex value has been encoded as 0 and \"Male\" as 1."
   ]
  },
  {
   "cell_type": "code",
   "execution_count": 8,
   "id": "4a88340d",
   "metadata": {
    "execution": {
     "iopub.execute_input": "2022-08-11T01:54:45.666116Z",
     "iopub.status.busy": "2022-08-11T01:54:45.665310Z",
     "iopub.status.idle": "2022-08-11T01:54:45.668348Z",
     "shell.execute_reply": "2022-08-11T01:54:45.668790Z"
    },
    "papermill": {
     "duration": 0.044005,
     "end_time": "2022-08-11T01:54:45.668979",
     "exception": false,
     "start_time": "2022-08-11T01:54:45.624974",
     "status": "completed"
    },
    "tags": []
   },
   "outputs": [
    {
     "data": {
      "text/html": [
       "<div>\n",
       "<style scoped>\n",
       "    .dataframe tbody tr th:only-of-type {\n",
       "        vertical-align: middle;\n",
       "    }\n",
       "\n",
       "    .dataframe tbody tr th {\n",
       "        vertical-align: top;\n",
       "    }\n",
       "\n",
       "    .dataframe thead th {\n",
       "        text-align: right;\n",
       "    }\n",
       "</style>\n",
       "<table border=\"1\" class=\"dataframe\">\n",
       "  <thead>\n",
       "    <tr style=\"text-align: right;\">\n",
       "      <th></th>\n",
       "      <th>Target</th>\n",
       "      <th>Age</th>\n",
       "      <th>Workclass</th>\n",
       "      <th>fnlwgt</th>\n",
       "      <th>Education</th>\n",
       "      <th>Education-Num</th>\n",
       "      <th>Marital Status</th>\n",
       "      <th>Occupation</th>\n",
       "      <th>Relationship</th>\n",
       "      <th>Ethnic group</th>\n",
       "      <th>Sex</th>\n",
       "      <th>Capital Gain</th>\n",
       "      <th>Capital Loss</th>\n",
       "      <th>Hours per week</th>\n",
       "      <th>Country</th>\n",
       "    </tr>\n",
       "  </thead>\n",
       "  <tbody>\n",
       "    <tr>\n",
       "      <th>0</th>\n",
       "      <td>0</td>\n",
       "      <td>39</td>\n",
       "      <td>5</td>\n",
       "      <td>77516</td>\n",
       "      <td>9</td>\n",
       "      <td>13</td>\n",
       "      <td>4</td>\n",
       "      <td>0</td>\n",
       "      <td>1</td>\n",
       "      <td>4</td>\n",
       "      <td>1</td>\n",
       "      <td>2174</td>\n",
       "      <td>0</td>\n",
       "      <td>40</td>\n",
       "      <td>38</td>\n",
       "    </tr>\n",
       "    <tr>\n",
       "      <th>1</th>\n",
       "      <td>0</td>\n",
       "      <td>50</td>\n",
       "      <td>4</td>\n",
       "      <td>83311</td>\n",
       "      <td>9</td>\n",
       "      <td>13</td>\n",
       "      <td>2</td>\n",
       "      <td>3</td>\n",
       "      <td>0</td>\n",
       "      <td>4</td>\n",
       "      <td>1</td>\n",
       "      <td>0</td>\n",
       "      <td>0</td>\n",
       "      <td>13</td>\n",
       "      <td>38</td>\n",
       "    </tr>\n",
       "    <tr>\n",
       "      <th>2</th>\n",
       "      <td>0</td>\n",
       "      <td>38</td>\n",
       "      <td>2</td>\n",
       "      <td>215646</td>\n",
       "      <td>11</td>\n",
       "      <td>9</td>\n",
       "      <td>0</td>\n",
       "      <td>5</td>\n",
       "      <td>1</td>\n",
       "      <td>4</td>\n",
       "      <td>1</td>\n",
       "      <td>0</td>\n",
       "      <td>0</td>\n",
       "      <td>40</td>\n",
       "      <td>38</td>\n",
       "    </tr>\n",
       "    <tr>\n",
       "      <th>3</th>\n",
       "      <td>0</td>\n",
       "      <td>53</td>\n",
       "      <td>2</td>\n",
       "      <td>234721</td>\n",
       "      <td>1</td>\n",
       "      <td>7</td>\n",
       "      <td>2</td>\n",
       "      <td>5</td>\n",
       "      <td>0</td>\n",
       "      <td>2</td>\n",
       "      <td>1</td>\n",
       "      <td>0</td>\n",
       "      <td>0</td>\n",
       "      <td>40</td>\n",
       "      <td>38</td>\n",
       "    </tr>\n",
       "    <tr>\n",
       "      <th>4</th>\n",
       "      <td>0</td>\n",
       "      <td>28</td>\n",
       "      <td>2</td>\n",
       "      <td>338409</td>\n",
       "      <td>9</td>\n",
       "      <td>13</td>\n",
       "      <td>2</td>\n",
       "      <td>9</td>\n",
       "      <td>5</td>\n",
       "      <td>2</td>\n",
       "      <td>0</td>\n",
       "      <td>0</td>\n",
       "      <td>0</td>\n",
       "      <td>40</td>\n",
       "      <td>4</td>\n",
       "    </tr>\n",
       "  </tbody>\n",
       "</table>\n",
       "</div>"
      ],
      "text/plain": [
       "   Target  Age  Workclass  fnlwgt  Education  Education-Num  Marital Status  \\\n",
       "0       0   39          5   77516          9             13               4   \n",
       "1       0   50          4   83311          9             13               2   \n",
       "2       0   38          2  215646         11              9               0   \n",
       "3       0   53          2  234721          1              7               2   \n",
       "4       0   28          2  338409          9             13               2   \n",
       "\n",
       "   Occupation  Relationship  Ethnic group  Sex  Capital Gain  Capital Loss  \\\n",
       "0           0             1             4    1          2174             0   \n",
       "1           3             0             4    1             0             0   \n",
       "2           5             1             4    1             0             0   \n",
       "3           5             0             2    1             0             0   \n",
       "4           9             5             2    0             0             0   \n",
       "\n",
       "   Hours per week  Country  \n",
       "0              40       38  \n",
       "1              13       38  \n",
       "2              40       38  \n",
       "3              40       38  \n",
       "4              40        4  "
      ]
     },
     "execution_count": 8,
     "metadata": {},
     "output_type": "execute_result"
    }
   ],
   "source": [
    "training_data.head()"
   ]
  },
  {
   "cell_type": "markdown",
   "id": "4e7ca630",
   "metadata": {
    "papermill": {
     "duration": 0.028926,
     "end_time": "2022-08-11T01:54:45.721578",
     "exception": false,
     "start_time": "2022-08-11T01:54:45.692652",
     "status": "completed"
    },
    "tags": []
   },
   "source": [
    "Lastly, let's upload the data to S3."
   ]
  },
  {
   "cell_type": "code",
   "execution_count": 9,
   "id": "a1420e51",
   "metadata": {
    "execution": {
     "iopub.execute_input": "2022-08-11T01:54:45.838160Z",
     "iopub.status.busy": "2022-08-11T01:54:45.837296Z",
     "iopub.status.idle": "2022-08-11T01:54:46.535237Z",
     "shell.execute_reply": "2022-08-11T01:54:46.534781Z"
    },
    "papermill": {
     "duration": 0.789817,
     "end_time": "2022-08-11T01:54:46.535351",
     "exception": false,
     "start_time": "2022-08-11T01:54:45.745534",
     "status": "completed"
    },
    "tags": []
   },
   "outputs": [],
   "source": [
    "from sagemaker.s3 import S3Uploader\n",
    "from sagemaker.inputs import TrainingInput\n",
    "\n",
    "train_uri = S3Uploader.upload(\"train_data.csv\", \"s3://{}/{}\".format(bucket, prefix))\n",
    "train_input = TrainingInput(train_uri, content_type=\"csv\")\n",
    "test_uri = S3Uploader.upload(\"test_features.csv\", \"s3://{}/{}\".format(bucket, prefix))"
   ]
  },
  {
   "cell_type": "markdown",
   "id": "7f9f3416",
   "metadata": {
    "papermill": {
     "duration": 0.023874,
     "end_time": "2022-08-11T01:54:46.583288",
     "exception": false,
     "start_time": "2022-08-11T01:54:46.559414",
     "status": "completed"
    },
    "tags": []
   },
   "source": [
    "### Train XGBoost Model\n",
    "#### Train Model\n",
    "Since our focus is on understanding how to use SageMaker Clarify, we keep it simple by using a standard XGBoost model."
   ]
  },
  {
   "cell_type": "code",
   "execution_count": 10,
   "id": "b109b8be",
   "metadata": {
    "execution": {
     "iopub.execute_input": "2022-08-11T01:54:46.719133Z",
     "iopub.status.busy": "2022-08-11T01:54:46.718002Z",
     "iopub.status.idle": "2022-08-11T01:58:03.041315Z",
     "shell.execute_reply": "2022-08-11T01:58:03.041735Z"
    },
    "papermill": {
     "duration": 196.416868,
     "end_time": "2022-08-11T01:58:03.041879",
     "exception": false,
     "start_time": "2022-08-11T01:54:46.625011",
     "status": "completed"
    },
    "tags": []
   },
   "outputs": [
    {
     "name": "stdout",
     "output_type": "stream",
     "text": [
      "\n",
      "2022-08-11 01:54:46 Starting - Starting the training job"
     ]
    },
    {
     "name": "stdout",
     "output_type": "stream",
     "text": [
      "."
     ]
    },
    {
     "name": "stdout",
     "output_type": "stream",
     "text": [
      "."
     ]
    },
    {
     "name": "stdout",
     "output_type": "stream",
     "text": [
      "."
     ]
    },
    {
     "name": "stdout",
     "output_type": "stream",
     "text": [
      "\n",
      "2022-08-11 01:55:02 Starting - Preparing the instances for training"
     ]
    },
    {
     "name": "stdout",
     "output_type": "stream",
     "text": [
      "."
     ]
    },
    {
     "name": "stdout",
     "output_type": "stream",
     "text": [
      "."
     ]
    },
    {
     "name": "stdout",
     "output_type": "stream",
     "text": [
      "."
     ]
    },
    {
     "name": "stdout",
     "output_type": "stream",
     "text": [
      "."
     ]
    },
    {
     "name": "stdout",
     "output_type": "stream",
     "text": [
      "."
     ]
    },
    {
     "name": "stdout",
     "output_type": "stream",
     "text": [
      "."
     ]
    },
    {
     "name": "stdout",
     "output_type": "stream",
     "text": [
      "."
     ]
    },
    {
     "name": "stdout",
     "output_type": "stream",
     "text": [
      "."
     ]
    },
    {
     "name": "stdout",
     "output_type": "stream",
     "text": [
      "."
     ]
    },
    {
     "name": "stdout",
     "output_type": "stream",
     "text": [
      "."
     ]
    },
    {
     "name": "stdout",
     "output_type": "stream",
     "text": [
      "."
     ]
    },
    {
     "name": "stdout",
     "output_type": "stream",
     "text": [
      "."
     ]
    },
    {
     "name": "stdout",
     "output_type": "stream",
     "text": [
      "."
     ]
    },
    {
     "name": "stdout",
     "output_type": "stream",
     "text": [
      "\n",
      "2022-08-11 01:56:14 Downloading - Downloading input data"
     ]
    },
    {
     "name": "stdout",
     "output_type": "stream",
     "text": [
      "."
     ]
    },
    {
     "name": "stdout",
     "output_type": "stream",
     "text": [
      "."
     ]
    },
    {
     "name": "stdout",
     "output_type": "stream",
     "text": [
      "."
     ]
    },
    {
     "name": "stdout",
     "output_type": "stream",
     "text": [
      "\n",
      "2022-08-11 01:56:34 Training - Downloading the training image"
     ]
    },
    {
     "name": "stdout",
     "output_type": "stream",
     "text": [
      "."
     ]
    },
    {
     "name": "stdout",
     "output_type": "stream",
     "text": [
      "."
     ]
    },
    {
     "name": "stdout",
     "output_type": "stream",
     "text": [
      "."
     ]
    },
    {
     "name": "stdout",
     "output_type": "stream",
     "text": [
      "."
     ]
    },
    {
     "name": "stdout",
     "output_type": "stream",
     "text": [
      "."
     ]
    },
    {
     "name": "stdout",
     "output_type": "stream",
     "text": [
      "."
     ]
    },
    {
     "name": "stdout",
     "output_type": "stream",
     "text": [
      "."
     ]
    },
    {
     "name": "stdout",
     "output_type": "stream",
     "text": [
      "."
     ]
    },
    {
     "name": "stdout",
     "output_type": "stream",
     "text": [
      "."
     ]
    },
    {
     "name": "stdout",
     "output_type": "stream",
     "text": [
      "."
     ]
    },
    {
     "name": "stdout",
     "output_type": "stream",
     "text": [
      "\n",
      "2022-08-11 01:57:30 Training - Training image download completed. Training in progress."
     ]
    },
    {
     "name": "stdout",
     "output_type": "stream",
     "text": [
      "."
     ]
    },
    {
     "name": "stdout",
     "output_type": "stream",
     "text": [
      "."
     ]
    },
    {
     "name": "stdout",
     "output_type": "stream",
     "text": [
      "."
     ]
    },
    {
     "name": "stdout",
     "output_type": "stream",
     "text": [
      "."
     ]
    },
    {
     "name": "stdout",
     "output_type": "stream",
     "text": [
      "\n",
      "2022-08-11 01:57:55 Uploading - Uploading generated training model"
     ]
    },
    {
     "name": "stdout",
     "output_type": "stream",
     "text": [
      "\n",
      "2022-08-11 01:58:01 Completed - Training job completed"
     ]
    },
    {
     "name": "stdout",
     "output_type": "stream",
     "text": [
      "\n"
     ]
    }
   ],
   "source": [
    "from sagemaker.image_uris import retrieve\n",
    "from sagemaker.estimator import Estimator\n",
    "\n",
    "container = retrieve(\"xgboost\", region, version=\"1.2-1\")\n",
    "xgb = Estimator(\n",
    "    container,\n",
    "    role,\n",
    "    instance_count=1,\n",
    "    instance_type=\"ml.m5.xlarge\",\n",
    "    disable_profiler=True,\n",
    "    sagemaker_session=session,\n",
    ")\n",
    "\n",
    "xgb.set_hyperparameters(\n",
    "    max_depth=5,\n",
    "    eta=0.2,\n",
    "    gamma=4,\n",
    "    min_child_weight=6,\n",
    "    subsample=0.8,\n",
    "    objective=\"binary:logistic\",\n",
    "    num_round=800,\n",
    ")\n",
    "\n",
    "xgb.fit({\"train\": train_input}, logs=False)"
   ]
  },
  {
   "cell_type": "markdown",
   "id": "5ddb2aac",
   "metadata": {
    "papermill": {
     "duration": 0.084761,
     "end_time": "2022-08-11T01:58:03.204776",
     "exception": false,
     "start_time": "2022-08-11T01:58:03.120015",
     "status": "completed"
    },
    "tags": []
   },
   "source": [
    "#### Create Model\n",
    "Here we create the SageMaker model."
   ]
  },
  {
   "cell_type": "code",
   "execution_count": 11,
   "id": "72d83297",
   "metadata": {
    "execution": {
     "iopub.execute_input": "2022-08-11T01:58:03.363582Z",
     "iopub.status.busy": "2022-08-11T01:58:03.363006Z",
     "iopub.status.idle": "2022-08-11T01:58:03.914539Z",
     "shell.execute_reply": "2022-08-11T01:58:03.914097Z"
    },
    "papermill": {
     "duration": 0.63565,
     "end_time": "2022-08-11T01:58:03.914652",
     "exception": false,
     "start_time": "2022-08-11T01:58:03.279002",
     "status": "completed"
    },
    "tags": []
   },
   "outputs": [
    {
     "data": {
      "text/plain": [
       "'DEMO-clarify-model-11-08-2022-01-58-03'"
      ]
     },
     "execution_count": 11,
     "metadata": {},
     "output_type": "execute_result"
    }
   ],
   "source": [
    "model_name = \"DEMO-clarify-model-{}\".format(datetime.now().strftime(\"%d-%m-%Y-%H-%M-%S\"))\n",
    "model = xgb.create_model(name=model_name)\n",
    "container_def = model.prepare_container_def()\n",
    "session.create_model(model_name, role, container_def)"
   ]
  },
  {
   "cell_type": "markdown",
   "id": "fdec8943",
   "metadata": {
    "papermill": {
     "duration": 0.034676,
     "end_time": "2022-08-11T01:58:03.985514",
     "exception": false,
     "start_time": "2022-08-11T01:58:03.950838",
     "status": "completed"
    },
    "tags": []
   },
   "source": [
    "## Amazon SageMaker Clarify\n",
    "Now that you have your model set up, let's say hello to SageMaker Clarify!"
   ]
  },
  {
   "cell_type": "code",
   "execution_count": 12,
   "id": "6c8e8028",
   "metadata": {
    "execution": {
     "iopub.execute_input": "2022-08-11T01:58:04.058085Z",
     "iopub.status.busy": "2022-08-11T01:58:04.057277Z",
     "iopub.status.idle": "2022-08-11T01:58:04.076247Z",
     "shell.execute_reply": "2022-08-11T01:58:04.076674Z"
    },
    "papermill": {
     "duration": 0.057625,
     "end_time": "2022-08-11T01:58:04.076807",
     "exception": false,
     "start_time": "2022-08-11T01:58:04.019182",
     "status": "completed"
    },
    "tags": []
   },
   "outputs": [],
   "source": [
    "from sagemaker import clarify\n",
    "\n",
    "clarify_processor = clarify.SageMakerClarifyProcessor(\n",
    "    role=role, instance_count=1, instance_type=\"ml.m5.xlarge\", sagemaker_session=session\n",
    ")"
   ]
  },
  {
   "cell_type": "markdown",
   "id": "d49599df",
   "metadata": {
    "papermill": {
     "duration": 0.033659,
     "end_time": "2022-08-11T01:58:04.144185",
     "exception": false,
     "start_time": "2022-08-11T01:58:04.110526",
     "status": "completed"
    },
    "tags": []
   },
   "source": [
    "### Detecting Bias\n",
    "SageMaker Clarify helps you detect possible pre- and post-training biases using a variety of metrics.\n",
    "#### Writing DataConfig and ModelConfig\n",
    "A `DataConfig` object communicates some basic information about data I/O to SageMaker Clarify. We specify where to find the input dataset, where to store the output, the target column (`label`), the header names, and the dataset type."
   ]
  },
  {
   "cell_type": "code",
   "execution_count": 13,
   "id": "c3ad2b62",
   "metadata": {
    "execution": {
     "iopub.execute_input": "2022-08-11T01:58:04.219005Z",
     "iopub.status.busy": "2022-08-11T01:58:04.218124Z",
     "iopub.status.idle": "2022-08-11T01:58:04.220436Z",
     "shell.execute_reply": "2022-08-11T01:58:04.220996Z"
    },
    "papermill": {
     "duration": 0.041121,
     "end_time": "2022-08-11T01:58:04.221154",
     "exception": false,
     "start_time": "2022-08-11T01:58:04.180033",
     "status": "completed"
    },
    "tags": []
   },
   "outputs": [],
   "source": [
    "bias_report_output_path = \"s3://{}/{}/clarify-bias\".format(bucket, prefix)\n",
    "bias_data_config = clarify.DataConfig(\n",
    "    s3_data_input_path=train_uri,\n",
    "    s3_output_path=bias_report_output_path,\n",
    "    label=\"Target\",\n",
    "    headers=training_data.columns.to_list(),\n",
    "    dataset_type=\"text/csv\",\n",
    ")"
   ]
  },
  {
   "cell_type": "markdown",
   "id": "c787898a",
   "metadata": {
    "papermill": {
     "duration": 0.034447,
     "end_time": "2022-08-11T01:58:04.289151",
     "exception": false,
     "start_time": "2022-08-11T01:58:04.254704",
     "status": "completed"
    },
    "tags": []
   },
   "source": [
    "A `ModelConfig` object communicates information about your trained model. To avoid additional traffic to your production models, SageMaker Clarify sets up and tears down a dedicated endpoint when processing.\n",
    "* `instance_type` and `instance_count` specify your preferred instance type and instance count used to run your model on during SageMaker Clarify's processing. The testing dataset is small so a single standard instance is good enough to run this example. If your have a large complex dataset, you may want to use a better instance type to speed up, or add more instances to enable Spark parallelization.\n",
    "* `accept_type` denotes the endpoint response payload format, and `content_type` denotes the payload format of request to the endpoint."
   ]
  },
  {
   "cell_type": "code",
   "execution_count": 14,
   "id": "b7b063df",
   "metadata": {
    "execution": {
     "iopub.execute_input": "2022-08-11T01:58:04.361645Z",
     "iopub.status.busy": "2022-08-11T01:58:04.360823Z",
     "iopub.status.idle": "2022-08-11T01:58:04.363298Z",
     "shell.execute_reply": "2022-08-11T01:58:04.363757Z"
    },
    "papermill": {
     "duration": 0.041017,
     "end_time": "2022-08-11T01:58:04.363912",
     "exception": false,
     "start_time": "2022-08-11T01:58:04.322895",
     "status": "completed"
    },
    "tags": []
   },
   "outputs": [],
   "source": [
    "model_config = clarify.ModelConfig(\n",
    "    model_name=model_name,\n",
    "    instance_type=\"ml.m5.xlarge\",\n",
    "    instance_count=1,\n",
    "    accept_type=\"text/csv\",\n",
    "    content_type=\"text/csv\",\n",
    ")"
   ]
  },
  {
   "cell_type": "markdown",
   "id": "11a3880d",
   "metadata": {
    "papermill": {
     "duration": 0.033912,
     "end_time": "2022-08-11T01:58:04.431950",
     "exception": false,
     "start_time": "2022-08-11T01:58:04.398038",
     "status": "completed"
    },
    "tags": []
   },
   "source": [
    "A `ModelPredictedLabelConfig` provides information on the format of your predictions. XGBoost model outputs probabilities of samples, so SageMaker Clarify invokes the endpoint then uses `probability_threshold` to convert the probability to binary labels for bias analysis. Prediction above the threshold is interpreted as label value `1` and below or equal as label value `0`."
   ]
  },
  {
   "cell_type": "code",
   "execution_count": 15,
   "id": "8bf07276",
   "metadata": {
    "execution": {
     "iopub.execute_input": "2022-08-11T01:58:04.504505Z",
     "iopub.status.busy": "2022-08-11T01:58:04.503742Z",
     "iopub.status.idle": "2022-08-11T01:58:04.506203Z",
     "shell.execute_reply": "2022-08-11T01:58:04.506698Z"
    },
    "papermill": {
     "duration": 0.040943,
     "end_time": "2022-08-11T01:58:04.506835",
     "exception": false,
     "start_time": "2022-08-11T01:58:04.465892",
     "status": "completed"
    },
    "tags": []
   },
   "outputs": [],
   "source": [
    "predictions_config = clarify.ModelPredictedLabelConfig(probability_threshold=0.8)"
   ]
  },
  {
   "cell_type": "markdown",
   "id": "5c96705f",
   "metadata": {
    "papermill": {
     "duration": 0.037783,
     "end_time": "2022-08-11T01:58:04.578589",
     "exception": false,
     "start_time": "2022-08-11T01:58:04.540806",
     "status": "completed"
    },
    "tags": []
   },
   "source": [
    "#### Writing BiasConfig\n",
    "SageMaker Clarify also needs information on what the sensitive columns (`facets`) are, what the sensitive features (`facet_values_or_threshold`) may be, and what the desirable outcomes are (`label_values_or_threshold`).\n",
    "SageMaker Clarify can handle both categorical and continuous data for `facet_values_or_threshold` and for `label_values_or_threshold`. In this case we are using categorical data.\n",
    "\n",
    "We specify this information in the `BiasConfig` API. Here that the positive outcome is earning >$50,000, Sex is a sensitive category, and Female respondents are the sensitive group. `group_name` is used to form subgroups for the measurement of Conditional Demographic Disparity in Labels (CDDL) and Conditional Demographic Disparity in Predicted Labels (CDDPL) with regards to Simpson’s paradox."
   ]
  },
  {
   "cell_type": "code",
   "execution_count": 16,
   "id": "1789d334",
   "metadata": {
    "execution": {
     "iopub.execute_input": "2022-08-11T01:58:04.651857Z",
     "iopub.status.busy": "2022-08-11T01:58:04.650789Z",
     "iopub.status.idle": "2022-08-11T01:58:04.652906Z",
     "shell.execute_reply": "2022-08-11T01:58:04.653439Z"
    },
    "papermill": {
     "duration": 0.04102,
     "end_time": "2022-08-11T01:58:04.653586",
     "exception": false,
     "start_time": "2022-08-11T01:58:04.612566",
     "status": "completed"
    },
    "tags": []
   },
   "outputs": [],
   "source": [
    "bias_config = clarify.BiasConfig(\n",
    "    label_values_or_threshold=[1], facet_name=\"Sex\", facet_values_or_threshold=[0], group_name=\"Age\"\n",
    ")"
   ]
  },
  {
   "cell_type": "markdown",
   "id": "61168a5b",
   "metadata": {
    "papermill": {
     "duration": 0.03422,
     "end_time": "2022-08-11T01:58:04.721834",
     "exception": false,
     "start_time": "2022-08-11T01:58:04.687614",
     "status": "completed"
    },
    "tags": []
   },
   "source": [
    "#### Pre-training Bias\n",
    "Bias can be present in your data before any model training occurs. Inspecting your data for bias before training begins can help detect any data collection gaps, inform your feature engineering, and help you understand what societal biases the data may reflect.\n",
    "\n",
    "Computing pre-training bias metrics does not require a trained model.\n",
    "\n",
    "#### Post-training Bias\n",
    "Computing post-training bias metrics does require a trained model.\n",
    "\n",
    "Unbiased training data (as determined by concepts of fairness measured by bias metric) may still result in biased model predictions after training. Whether this occurs depends on several factors including hyperparameter choices.\n",
    "\n",
    "\n",
    "You can run these options separately with `run_pre_training_bias()` and `run_post_training_bias()` or at the same time with `run_bias()` as shown below."
   ]
  },
  {
   "cell_type": "code",
   "execution_count": 17,
   "id": "4339ff62",
   "metadata": {
    "execution": {
     "iopub.execute_input": "2022-08-11T01:58:04.795201Z",
     "iopub.status.busy": "2022-08-11T01:58:04.794227Z",
     "iopub.status.idle": "2022-08-11T02:06:54.032952Z",
     "shell.execute_reply": "2022-08-11T02:06:54.032098Z"
    },
    "papermill": {
     "duration": 529.277428,
     "end_time": "2022-08-11T02:06:54.033117",
     "exception": false,
     "start_time": "2022-08-11T01:58:04.755689",
     "status": "completed"
    },
    "tags": []
   },
   "outputs": [
    {
     "name": "stdout",
     "output_type": "stream",
     "text": [
      "\n",
      "Job Name:  Clarify-Bias-2022-08-11-01-58-04-792\n",
      "Inputs:  [{'InputName': 'dataset', 'AppManaged': False, 'S3Input': {'S3Uri': 's3://sagemaker-us-west-2-000000000000/sagemaker/DEMO-sagemaker-clarify/train_data.csv', 'LocalPath': '/opt/ml/processing/input/data', 'S3DataType': 'S3Prefix', 'S3InputMode': 'File', 'S3DataDistributionType': 'FullyReplicated', 'S3CompressionType': 'None'}}, {'InputName': 'analysis_config', 'AppManaged': False, 'S3Input': {'S3Uri': 's3://sagemaker-us-west-2-000000000000/sagemaker/DEMO-sagemaker-clarify/clarify-bias/analysis_config.json', 'LocalPath': '/opt/ml/processing/input/config', 'S3DataType': 'S3Prefix', 'S3InputMode': 'File', 'S3DataDistributionType': 'FullyReplicated', 'S3CompressionType': 'None'}}]\n",
      "Outputs:  [{'OutputName': 'analysis_result', 'AppManaged': False, 'S3Output': {'S3Uri': 's3://sagemaker-us-west-2-000000000000/sagemaker/DEMO-sagemaker-clarify/clarify-bias', 'LocalPath': '/opt/ml/processing/output', 'S3UploadMode': 'EndOfJob'}}]\n"
     ]
    },
    {
     "name": "stdout",
     "output_type": "stream",
     "text": [
      "."
     ]
    },
    {
     "name": "stdout",
     "output_type": "stream",
     "text": [
      "."
     ]
    },
    {
     "name": "stdout",
     "output_type": "stream",
     "text": [
      "."
     ]
    },
    {
     "name": "stdout",
     "output_type": "stream",
     "text": [
      "."
     ]
    },
    {
     "name": "stdout",
     "output_type": "stream",
     "text": [
      "."
     ]
    },
    {
     "name": "stdout",
     "output_type": "stream",
     "text": [
      "."
     ]
    },
    {
     "name": "stdout",
     "output_type": "stream",
     "text": [
      "."
     ]
    },
    {
     "name": "stdout",
     "output_type": "stream",
     "text": [
      "."
     ]
    },
    {
     "name": "stdout",
     "output_type": "stream",
     "text": [
      "."
     ]
    },
    {
     "name": "stdout",
     "output_type": "stream",
     "text": [
      "."
     ]
    },
    {
     "name": "stdout",
     "output_type": "stream",
     "text": [
      "."
     ]
    },
    {
     "name": "stdout",
     "output_type": "stream",
     "text": [
      "."
     ]
    },
    {
     "name": "stdout",
     "output_type": "stream",
     "text": [
      "."
     ]
    },
    {
     "name": "stdout",
     "output_type": "stream",
     "text": [
      "."
     ]
    },
    {
     "name": "stdout",
     "output_type": "stream",
     "text": [
      "."
     ]
    },
    {
     "name": "stdout",
     "output_type": "stream",
     "text": [
      "."
     ]
    },
    {
     "name": "stdout",
     "output_type": "stream",
     "text": [
      "."
     ]
    },
    {
     "name": "stdout",
     "output_type": "stream",
     "text": [
      "."
     ]
    },
    {
     "name": "stdout",
     "output_type": "stream",
     "text": [
      "."
     ]
    },
    {
     "name": "stdout",
     "output_type": "stream",
     "text": [
      "."
     ]
    },
    {
     "name": "stdout",
     "output_type": "stream",
     "text": [
      "."
     ]
    },
    {
     "name": "stdout",
     "output_type": "stream",
     "text": [
      "."
     ]
    },
    {
     "name": "stdout",
     "output_type": "stream",
     "text": [
      "."
     ]
    },
    {
     "name": "stdout",
     "output_type": "stream",
     "text": [
      "."
     ]
    },
    {
     "name": "stdout",
     "output_type": "stream",
     "text": [
      "."
     ]
    },
    {
     "name": "stdout",
     "output_type": "stream",
     "text": [
      "."
     ]
    },
    {
     "name": "stdout",
     "output_type": "stream",
     "text": [
      "."
     ]
    },
    {
     "name": "stdout",
     "output_type": "stream",
     "text": [
      "."
     ]
    },
    {
     "name": "stdout",
     "output_type": "stream",
     "text": [
      "."
     ]
    },
    {
     "name": "stdout",
     "output_type": "stream",
     "text": [
      "."
     ]
    },
    {
     "name": "stdout",
     "output_type": "stream",
     "text": [
      "\u001b[34m2022-08-11 02:02:56,047 logging.conf not found when configuring logging, using default logging configuration.\u001b[0m\n",
      "\u001b[34m2022-08-11 02:02:56,048 Starting SageMaker Clarify Processing job\u001b[0m\n",
      "\u001b[34m2022-08-11 02:02:56,048 Analysis config path: /opt/ml/processing/input/config/analysis_config.json\u001b[0m\n",
      "\u001b[34m2022-08-11 02:02:56,048 Analysis result path: /opt/ml/processing/output\u001b[0m\n",
      "\u001b[34m2022-08-11 02:02:56,048 This host is algo-1.\u001b[0m\n",
      "\u001b[34m2022-08-11 02:02:56,048 This host is the leader.\u001b[0m\n",
      "\u001b[34m2022-08-11 02:02:56,048 Number of hosts in the cluster is 1.\u001b[0m\n",
      "\u001b[34m2022-08-11 02:02:56,307 Running Python / Pandas based analyzer.\u001b[0m\n",
      "\u001b[34m2022-08-11 02:02:56,307 Dataset type: text/csv uri: /opt/ml/processing/input/data\u001b[0m\n",
      "\u001b[34m2022-08-11 02:02:56,316 Loading dataset...\u001b[0m\n",
      "\u001b[34m/usr/local/lib/python3.9/site-packages/analyzer/data_loading/csv_data_loader.py:408: FutureWarning: The frame.append method is deprecated and will be removed from pandas in a future version. Use pandas.concat instead.\n",
      "  df = df.append(df_tmp, ignore_index=True)\u001b[0m\n",
      "\u001b[34m2022-08-11 02:02:56,349 Loaded dataset. Dataset info:\u001b[0m\n",
      "\u001b[34m<class 'pandas.core.frame.DataFrame'>\u001b[0m\n",
      "\u001b[34mRangeIndex: 30162 entries, 0 to 30161\u001b[0m\n",
      "\u001b[34mData columns (total 14 columns):\n",
      " #   Column          Non-Null Count  Dtype\u001b[0m\n",
      "\u001b[34m---  ------          --------------  -----\n",
      " 0   Age             30162 non-null  int64\n",
      " 1   Workclass       30162 non-null  int64\n",
      " 2   fnlwgt          30162 non-null  int64\n",
      " 3   Education       30162 non-null  int64\n",
      " 4   Education-Num   30162 non-null  int64\n",
      " 5   Marital Status  30162 non-null  int64\n",
      " 6   Occupation      30162 non-null  int64\n",
      " 7   Relationship    30162 non-null  int64\n",
      " 8   Ethnic group    30162 non-null  int64\n",
      " 9   Sex             30162 non-null  int64\n",
      " 10  Capital Gain    30162 non-null  int64\n",
      " 11  Capital Loss    30162 non-null  int64\n",
      " 12  Hours per week  30162 non-null  int64\n",
      " 13  Country         30162 non-null  int64\u001b[0m\n",
      "\u001b[34mdtypes: int64(14)\u001b[0m\n",
      "\u001b[34mmemory usage: 3.2 MB\u001b[0m\n",
      "\u001b[34m2022-08-11 02:02:56,405 Spinning up shadow endpoint\u001b[0m\n",
      "\u001b[34m2022-08-11 02:02:56,405 Creating endpoint-config with name sm-clarify-config-1660183376-4603\u001b[0m\n",
      "\u001b[34m2022-08-11 02:02:56,489 Creating endpoint: 'sm-clarify-DEMO-clarify-model-11-08-2022-01-58--1660183376-26bc'\u001b[0m\n",
      "\u001b[34m2022-08-11 02:02:56,766 Using endpoint name: sm-clarify-DEMO-clarify-model-11-08-2022-01-58--1660183376-26bc\u001b[0m\n",
      "\u001b[34m2022-08-11 02:02:56,767 Waiting for endpoint ...\u001b[0m\n",
      "\u001b[34m2022-08-11 02:02:56,767 Checking endpoint status:\u001b[0m\n",
      "\u001b[34mLegend:\u001b[0m\n",
      "\u001b[34m(OutOfService: x, Creating: -, Updating: -, InService: !, RollingBack: <, Deleting: o, Failed: *)\u001b[0m\n"
     ]
    },
    {
     "name": "stdout",
     "output_type": "stream",
     "text": [
      "\u001b[34m2022-08-11 02:05:57,264 Endpoint is in service after 180 seconds\u001b[0m\n",
      "\u001b[34m2022-08-11 02:05:57,264 Endpoint ready.\u001b[0m\n",
      "\u001b[34m2022-08-11 02:05:57,264 ======================================\u001b[0m\n",
      "\u001b[34m2022-08-11 02:05:57,264 Calculating post-training bias metrics\u001b[0m\n",
      "\u001b[34m2022-08-11 02:05:57,264 ======================================\u001b[0m\n",
      "\u001b[34m2022-08-11 02:05:57,264 Getting predictions from the endpoint\u001b[0m\n",
      "\u001b[34m2022-08-11 02:05:59,564 We assume a prediction above 0.800 indicates 1 and below or equal indicates 0.\u001b[0m\n",
      "\u001b[34m2022-08-11 02:05:59,565 Column Target with data uniqueness fraction 6.630860022544923e-05 is classifed as a CATEGORICAL column\u001b[0m\n",
      "\u001b[34m2022-08-11 02:05:59,567 Column Sex with data uniqueness fraction 6.630860022544923e-05 is classifed as a CATEGORICAL column\u001b[0m\n",
      "\u001b[34m/usr/local/lib/python3.9/site-packages/smclarify/bias/report.py:456: FutureWarning: In a future version of pandas all arguments of DataFrame.drop except for the argument 'labels' will be keyword-only.\n",
      "  df = df.drop(facet_column.name, 1)\u001b[0m\n",
      "\u001b[34m2022-08-11 02:05:59,572 Column Target with data uniqueness fraction 6.630860022544923e-05 is classifed as a CATEGORICAL column\u001b[0m\n",
      "\u001b[34m2022-08-11 02:05:59,574 Column None with data uniqueness fraction 6.630860022544923e-05 is classifed as a CATEGORICAL column\u001b[0m\n",
      "\u001b[34m2022-08-11 02:06:00,549 Stop using endpoint: sm-clarify-DEMO-clarify-model-11-08-2022-01-58--1660183376-26bc\u001b[0m\n",
      "\u001b[34m2022-08-11 02:06:00,549 Deleting endpoint configuration with name: sm-clarify-config-1660183376-4603\u001b[0m\n",
      "\u001b[34m2022-08-11 02:06:00,693 Deleting endpoint with name: sm-clarify-DEMO-clarify-model-11-08-2022-01-58--1660183376-26bc\u001b[0m\n",
      "\u001b[34m2022-08-11 02:06:00,849 Model endpoint delivered 0.60875 requests per second and a total of 2 requests over 3 seconds\u001b[0m\n",
      "\u001b[34m2022-08-11 02:06:00,849 Stop using endpoint: None\u001b[0m\n",
      "\u001b[34m2022-08-11 02:06:00,849 =====================================\u001b[0m\n",
      "\u001b[34m2022-08-11 02:06:00,849 Calculating pre-training bias metrics\u001b[0m\n",
      "\u001b[34m2022-08-11 02:06:00,849 =====================================\u001b[0m\n",
      "\u001b[34m2022-08-11 02:06:00,849 Column Target with data uniqueness fraction 6.630860022544923e-05 is classifed as a CATEGORICAL column\u001b[0m\n",
      "\u001b[34m2022-08-11 02:06:00,852 Column Sex with data uniqueness fraction 6.630860022544923e-05 is classifed as a CATEGORICAL column\u001b[0m\n",
      "\u001b[34m/usr/local/lib/python3.9/site-packages/smclarify/bias/report.py:456: FutureWarning: In a future version of pandas all arguments of DataFrame.drop except for the argument 'labels' will be keyword-only.\n",
      "  df = df.drop(facet_column.name, 1)\u001b[0m\n",
      "\u001b[34m2022-08-11 02:06:00,854 Column Target with data uniqueness fraction 6.630860022544923e-05 is classifed as a CATEGORICAL column\u001b[0m\n",
      "\u001b[34m2022-08-11 02:06:01,087 ======================================\u001b[0m\n",
      "\u001b[34m2022-08-11 02:06:01,087 Calculating bias statistics for report\u001b[0m\n",
      "\u001b[34m2022-08-11 02:06:01,087 ======================================\u001b[0m\n",
      "\u001b[34m2022-08-11 02:06:01,087 Column Target with data uniqueness fraction 6.630860022544923e-05 is classifed as a CATEGORICAL column\u001b[0m\n",
      "\u001b[34m2022-08-11 02:06:01,089 Column Sex with data uniqueness fraction 6.630860022544923e-05 is classifed as a CATEGORICAL column\u001b[0m\n",
      "\u001b[34m/usr/local/lib/python3.9/site-packages/smclarify/bias/report.py:456: FutureWarning: In a future version of pandas all arguments of DataFrame.drop except for the argument 'labels' will be keyword-only.\n",
      "  df = df.drop(facet_column.name, 1)\u001b[0m\n",
      "\u001b[34m2022-08-11 02:06:01,091 Column Target with data uniqueness fraction 6.630860022544923e-05 is classifed as a CATEGORICAL column\u001b[0m\n",
      "\u001b[34m2022-08-11 02:06:01,093 Column None with data uniqueness fraction 6.630860022544923e-05 is classifed as a CATEGORICAL column\u001b[0m\n",
      "\u001b[34m2022-08-11 02:06:01,098 Stop using endpoint: None\u001b[0m\n",
      "\u001b[34m2022-08-11 02:06:01,371 ['jupyter', 'nbconvert', \"-TagRemovePreprocessor.remove_input_tags='remove_input'\", '--to', 'html', '--output', '/opt/ml/processing/output/report.html', '/opt/ml/processing/output/report.ipynb', '--template', 'sagemaker-xai']\u001b[0m\n",
      "\u001b[34m[NbConvertApp] Converting notebook /opt/ml/processing/output/report.ipynb to html\u001b[0m\n",
      "\u001b[34m[NbConvertApp] Writing 346941 bytes to /opt/ml/processing/output/report.html\u001b[0m\n",
      "\u001b[34m2022-08-11 02:06:02,371 ['/usr/local/bin/wkhtmltopdf', '-q', '--enable-local-file-access', '/opt/ml/processing/output/report.html', '/opt/ml/processing/output/report.pdf']\u001b[0m\n",
      "\u001b[34m2022-08-11 02:06:02,960 Collected analyses: \u001b[0m\n",
      "\u001b[34m{\n",
      "    \"version\": \"1.0\",\n",
      "    \"post_training_bias_metrics\": {\n",
      "        \"label\": \"Target\",\n",
      "        \"facets\": {\n",
      "            \"Sex\": [\n",
      "                {\n",
      "                    \"value_or_threshold\": \"0\",\n",
      "                    \"metrics\": [\n",
      "                        {\n",
      "                            \"name\": \"AD\",\n",
      "                            \"description\": \"Accuracy Difference (AD)\",\n",
      "                            \"value\": -0.1141572442143538\n",
      "                        },\n",
      "                        {\n",
      "                            \"name\": \"CDDPL\",\n",
      "                            \"description\": \"Conditional Demographic Disparity in Predicted Labels (CDDPL)\",\n",
      "                            \"value\": 0.19716203919079375\n",
      "                        },\n",
      "                        {\n",
      "                            \"name\": \"DAR\",\n",
      "                            \"description\": \"Difference in Acceptance Rates (DAR)\",\n",
      "                            \"value\": -0.007405223292617502\n",
      "                        },\n",
      "                        {\n",
      "                            \"name\": \"DCA\",\n",
      "                            \"description\": \"Difference in Conditional Acceptance (DCA)\",\n",
      "                            \"value\": -0.22750276729134145\n",
      "                        },\n",
      "                        {\n",
      "                            \"name\": \"DCR\",\n",
      "                            \"description\": \"Difference in Conditional Rejection (DCR)\",\n",
      "                            \"value\": 0.13282504190308553\n",
      "                        },\n",
      "                        {\n",
      "                            \"name\": \"DI\",\n",
      "                            \"description\": \"Disparate Impact (DI)\",\n",
      "                            \"value\": 0.32939129409419415\n",
      "                        },\n",
      "                        {\n",
      "                            \"name\": \"DPPL\",\n",
      "                            \"description\": \"Difference in Positive Proportions in Predicted Labels (DPPL)\",\n",
      "                            \"value\": 0.0922004707530946\n",
      "                        },\n",
      "                        {\n",
      "                            \"name\": \"DRR\",\n",
      "                            \"description\": \"Difference in Rejection Rates (DRR)\",\n",
      "                            \"value\": 0.13653296409568605\n",
      "                        },\n",
      "                        {\n",
      "                            \"name\": \"FT\",\n",
      "                            \"description\": \"Flip Test (FT)\",\n",
      "                            \"value\": -0.004600286240032713\n",
      "                        },\n",
      "                        {\n",
      "                            \"name\": \"RD\",\n",
      "                            \"description\": \"Recall Difference (RD)\",\n",
      "                            \"value\": 0.03556460647616988\n",
      "                        },\n",
      "                        {\n",
      "                            \"name\": \"TE\",\n",
      "                            \"description\": \"Treatment Equality (TE)\",\n",
      "                            \"value\": 24.11428571428572\n",
      "                        }\n",
      "                    ]\n",
      "                }\n",
      "            ]\n",
      "        },\n",
      "        \"label_value_or_threshold\": \"1\"\n",
      "    },\n",
      "    \"pre_training_bias_metrics\": {\n",
      "        \"label\": \"Target\",\n",
      "        \"facets\": {\n",
      "            \"Sex\": [\n",
      "                {\n",
      "                    \"value_or_threshold\": \"0\",\n",
      "                    \"metrics\": [\n",
      "                        {\n",
      "                            \"name\": \"CDDL\",\n",
      "                            \"description\": \"Conditional Demographic Disparity in Labels (CDDL)\",\n",
      "                            \"value\": 0.214915908649356\n",
      "                        },\n",
      "                        {\n",
      "                            \"name\": \"CI\",\n",
      "                            \"description\": \"Class Imbalance (CI)\",\n",
      "                            \"value\": 0.3513692725946555\n",
      "                        },\n",
      "                        {\n",
      "                            \"name\": \"DPL\",\n",
      "                            \"description\": \"Difference in Positive Proportions in Labels (DPL)\",\n",
      "                            \"value\": 0.20015891077100018\n",
      "                        },\n",
      "                        {\n",
      "                            \"name\": \"JS\",\n",
      "                            \"description\": \"Jensen-Shannon Divergence (JS)\",\n",
      "                            \"value\": 0.030756144659773006\n",
      "                        },\n",
      "                        {\n",
      "                            \"name\": \"KL\",\n",
      "                            \"description\": \"Kullback-Liebler Divergence (KL)\",\n",
      "                            \"value\": 0.14306865156306434\n",
      "                        },\n",
      "                        {\n",
      "                            \"name\": \"KS\",\n",
      "                            \"description\": \"Kolmogorov-Smirnov Distance (KS)\",\n",
      "                            \"value\": 0.20015891077100018\n",
      "                        },\n",
      "                        {\n",
      "                            \"name\": \"LP\",\n",
      "                            \"description\": \"L-p Norm (LP)\",\n",
      "                            \"value\": 0.2830674462421746\n",
      "                        },\n",
      "                        {\n",
      "                            \"name\": \"TVD\",\n",
      "                            \"description\": \"Total Variation Distance (TVD)\",\n",
      "                            \"value\": 0.20015891077100015\n",
      "                        }\n",
      "                    ]\n",
      "                }\n",
      "            ]\n",
      "        },\n",
      "        \"label_value_or_threshold\": \"1\"\n",
      "    }\u001b[0m\n",
      "\u001b[34m}\u001b[0m\n",
      "\u001b[34m2022-08-11 02:06:02,961 exit_message: Completed: SageMaker XAI Analyzer ran successfully\u001b[0m\n",
      "\u001b[34m---!\u001b[0m\n"
     ]
    },
    {
     "name": "stdout",
     "output_type": "stream",
     "text": [
      "\n"
     ]
    }
   ],
   "source": [
    "clarify_processor.run_bias(\n",
    "    data_config=bias_data_config,\n",
    "    bias_config=bias_config,\n",
    "    model_config=model_config,\n",
    "    model_predicted_label_config=predictions_config,\n",
    "    pre_training_methods=\"all\",\n",
    "    post_training_methods=\"all\",\n",
    ")"
   ]
  },
  {
   "cell_type": "markdown",
   "id": "50c42a21",
   "metadata": {
    "papermill": {
     "duration": 0.053191,
     "end_time": "2022-08-11T02:06:54.141451",
     "exception": false,
     "start_time": "2022-08-11T02:06:54.088260",
     "status": "completed"
    },
    "tags": []
   },
   "source": [
    "#### Viewing the Bias Report\n",
    "In Studio, you can view the results under the experiments tab.\n",
    "\n",
    "<img src=\"https://raw.githubusercontent.com/aws/amazon-sagemaker-examples/main/sagemaker_processing/fairness_and_explainability/recordings/bias_report.gif\">\n",
    "\n",
    "Each bias metric has detailed explanations with examples that you can explore.\n",
    "\n",
    "<img src=\"https://raw.githubusercontent.com/aws/amazon-sagemaker-examples/main/sagemaker_processing/fairness_and_explainability/recordings/bias_detail.gif\">\n",
    "\n",
    "You could also summarize the results in a handy table!\n",
    "\n",
    "<img src=\"https://raw.githubusercontent.com/aws/amazon-sagemaker-examples/main/sagemaker_processing/fairness_and_explainability/recordings/bias_report_chart.gif\">\n"
   ]
  },
  {
   "cell_type": "markdown",
   "id": "162d2eb7",
   "metadata": {
    "papermill": {
     "duration": 0.04974,
     "end_time": "2022-08-11T02:06:54.244291",
     "exception": false,
     "start_time": "2022-08-11T02:06:54.194551",
     "status": "completed"
    },
    "tags": []
   },
   "source": [
    "If you're not a Studio user yet, you can access the bias report in pdf, html and ipynb formats in the following S3 bucket:"
   ]
  },
  {
   "cell_type": "code",
   "execution_count": 18,
   "id": "6667882b",
   "metadata": {
    "execution": {
     "iopub.execute_input": "2022-08-11T02:06:54.344932Z",
     "iopub.status.busy": "2022-08-11T02:06:54.344165Z",
     "iopub.status.idle": "2022-08-11T02:06:54.347782Z",
     "shell.execute_reply": "2022-08-11T02:06:54.348191Z"
    },
    "papermill": {
     "duration": 0.057245,
     "end_time": "2022-08-11T02:06:54.348327",
     "exception": false,
     "start_time": "2022-08-11T02:06:54.291082",
     "status": "completed"
    },
    "tags": []
   },
   "outputs": [
    {
     "data": {
      "text/plain": [
       "'s3://sagemaker-us-west-2-000000000000/sagemaker/DEMO-sagemaker-clarify/clarify-bias'"
      ]
     },
     "execution_count": 18,
     "metadata": {},
     "output_type": "execute_result"
    }
   ],
   "source": [
    "bias_report_output_path"
   ]
  },
  {
   "cell_type": "markdown",
   "id": "bb9be340",
   "metadata": {
    "papermill": {
     "duration": 0.045776,
     "end_time": "2022-08-11T02:06:54.444261",
     "exception": false,
     "start_time": "2022-08-11T02:06:54.398485",
     "status": "completed"
    },
    "tags": []
   },
   "source": [
    "### Explaining Predictions\n",
    "There are expanding business needs and legislative regulations that require explanations of _why_ a model made the decision it did. SageMaker Clarify uses SHAP to explain the contribution that each input feature makes to the final decision."
   ]
  },
  {
   "cell_type": "markdown",
   "id": "f50bab07",
   "metadata": {
    "papermill": {
     "duration": 0.046276,
     "end_time": "2022-08-11T02:06:54.542427",
     "exception": false,
     "start_time": "2022-08-11T02:06:54.496151",
     "status": "completed"
    },
    "tags": []
   },
   "source": [
    "Kernel SHAP algorithm requires a baseline (also known as background dataset). If not provided, a baseline is calculated automatically by SageMaker Clarify using K-means or K-prototypes in the input dataset. Baseline dataset type shall be the same as `dataset_type` of `DataConfig`, and baseline samples shall only include features. By definition, `baseline` should either be a S3 URI to the baseline dataset file, or an in-place list of samples. In this case we chose the latter, and put the first sample of the test dataset to the list."
   ]
  },
  {
   "cell_type": "code",
   "execution_count": 19,
   "id": "cdbdeb81",
   "metadata": {
    "execution": {
     "iopub.execute_input": "2022-08-11T02:06:54.645845Z",
     "iopub.status.busy": "2022-08-11T02:06:54.644327Z",
     "iopub.status.idle": "2022-08-11T02:06:54.646888Z",
     "shell.execute_reply": "2022-08-11T02:06:54.647298Z"
    },
    "papermill": {
     "duration": 0.05568,
     "end_time": "2022-08-11T02:06:54.647428",
     "exception": false,
     "start_time": "2022-08-11T02:06:54.591748",
     "status": "completed"
    },
    "tags": []
   },
   "outputs": [],
   "source": [
    "shap_config = clarify.SHAPConfig(\n",
    "    baseline=[test_features.iloc[0].values.tolist()],\n",
    "    num_samples=15,\n",
    "    agg_method=\"mean_abs\",\n",
    "    save_local_shap_values=True,\n",
    ")\n",
    "\n",
    "explainability_output_path = \"s3://{}/{}/clarify-explainability\".format(bucket, prefix)\n",
    "explainability_data_config = clarify.DataConfig(\n",
    "    s3_data_input_path=train_uri,\n",
    "    s3_output_path=explainability_output_path,\n",
    "    label=\"Target\",\n",
    "    headers=training_data.columns.to_list(),\n",
    "    dataset_type=\"text/csv\",\n",
    ")"
   ]
  },
  {
   "cell_type": "code",
   "execution_count": 20,
   "id": "b56c2f66",
   "metadata": {
    "execution": {
     "iopub.execute_input": "2022-08-11T02:06:54.748821Z",
     "iopub.status.busy": "2022-08-11T02:06:54.747831Z",
     "iopub.status.idle": "2022-08-11T02:19:52.966497Z",
     "shell.execute_reply": "2022-08-11T02:19:52.966891Z"
    },
    "papermill": {
     "duration": 778.270872,
     "end_time": "2022-08-11T02:19:52.967030",
     "exception": false,
     "start_time": "2022-08-11T02:06:54.696158",
     "status": "completed"
    },
    "tags": []
   },
   "outputs": [
    {
     "name": "stdout",
     "output_type": "stream",
     "text": [
      "\n",
      "Job Name:  Clarify-Explainability-2022-08-11-02-06-54-746\n",
      "Inputs:  [{'InputName': 'dataset', 'AppManaged': False, 'S3Input': {'S3Uri': 's3://sagemaker-us-west-2-000000000000/sagemaker/DEMO-sagemaker-clarify/train_data.csv', 'LocalPath': '/opt/ml/processing/input/data', 'S3DataType': 'S3Prefix', 'S3InputMode': 'File', 'S3DataDistributionType': 'FullyReplicated', 'S3CompressionType': 'None'}}, {'InputName': 'analysis_config', 'AppManaged': False, 'S3Input': {'S3Uri': 's3://sagemaker-us-west-2-000000000000/sagemaker/DEMO-sagemaker-clarify/clarify-explainability/analysis_config.json', 'LocalPath': '/opt/ml/processing/input/config', 'S3DataType': 'S3Prefix', 'S3InputMode': 'File', 'S3DataDistributionType': 'FullyReplicated', 'S3CompressionType': 'None'}}]\n",
      "Outputs:  [{'OutputName': 'analysis_result', 'AppManaged': False, 'S3Output': {'S3Uri': 's3://sagemaker-us-west-2-000000000000/sagemaker/DEMO-sagemaker-clarify/clarify-explainability', 'LocalPath': '/opt/ml/processing/output', 'S3UploadMode': 'EndOfJob'}}]\n"
     ]
    },
    {
     "name": "stdout",
     "output_type": "stream",
     "text": [
      "."
     ]
    },
    {
     "name": "stdout",
     "output_type": "stream",
     "text": [
      "."
     ]
    },
    {
     "name": "stdout",
     "output_type": "stream",
     "text": [
      "."
     ]
    },
    {
     "name": "stdout",
     "output_type": "stream",
     "text": [
      "."
     ]
    },
    {
     "name": "stdout",
     "output_type": "stream",
     "text": [
      "."
     ]
    },
    {
     "name": "stdout",
     "output_type": "stream",
     "text": [
      "."
     ]
    },
    {
     "name": "stdout",
     "output_type": "stream",
     "text": [
      "."
     ]
    },
    {
     "name": "stdout",
     "output_type": "stream",
     "text": [
      "."
     ]
    },
    {
     "name": "stdout",
     "output_type": "stream",
     "text": [
      "."
     ]
    },
    {
     "name": "stdout",
     "output_type": "stream",
     "text": [
      "."
     ]
    },
    {
     "name": "stdout",
     "output_type": "stream",
     "text": [
      "."
     ]
    },
    {
     "name": "stdout",
     "output_type": "stream",
     "text": [
      "."
     ]
    },
    {
     "name": "stdout",
     "output_type": "stream",
     "text": [
      "."
     ]
    },
    {
     "name": "stdout",
     "output_type": "stream",
     "text": [
      "."
     ]
    },
    {
     "name": "stdout",
     "output_type": "stream",
     "text": [
      "."
     ]
    },
    {
     "name": "stdout",
     "output_type": "stream",
     "text": [
      "."
     ]
    },
    {
     "name": "stdout",
     "output_type": "stream",
     "text": [
      "."
     ]
    },
    {
     "name": "stdout",
     "output_type": "stream",
     "text": [
      "."
     ]
    },
    {
     "name": "stdout",
     "output_type": "stream",
     "text": [
      "."
     ]
    },
    {
     "name": "stdout",
     "output_type": "stream",
     "text": [
      "."
     ]
    },
    {
     "name": "stdout",
     "output_type": "stream",
     "text": [
      "."
     ]
    },
    {
     "name": "stdout",
     "output_type": "stream",
     "text": [
      "."
     ]
    },
    {
     "name": "stdout",
     "output_type": "stream",
     "text": [
      "."
     ]
    },
    {
     "name": "stdout",
     "output_type": "stream",
     "text": [
      "."
     ]
    },
    {
     "name": "stdout",
     "output_type": "stream",
     "text": [
      "."
     ]
    },
    {
     "name": "stdout",
     "output_type": "stream",
     "text": [
      "."
     ]
    },
    {
     "name": "stdout",
     "output_type": "stream",
     "text": [
      "."
     ]
    },
    {
     "name": "stdout",
     "output_type": "stream",
     "text": [
      "."
     ]
    },
    {
     "name": "stdout",
     "output_type": "stream",
     "text": [
      "."
     ]
    },
    {
     "name": "stdout",
     "output_type": "stream",
     "text": [
      "."
     ]
    },
    {
     "name": "stdout",
     "output_type": "stream",
     "text": [
      "\u001b[34m2022-08-11 02:11:43,911 logging.conf not found when configuring logging, using default logging configuration.\u001b[0m\n",
      "\u001b[34m2022-08-11 02:11:43,912 Starting SageMaker Clarify Processing job\u001b[0m\n",
      "\u001b[34m2022-08-11 02:11:43,912 Analysis config path: /opt/ml/processing/input/config/analysis_config.json\u001b[0m\n",
      "\u001b[34m2022-08-11 02:11:43,912 Analysis result path: /opt/ml/processing/output\u001b[0m\n",
      "\u001b[34m2022-08-11 02:11:43,912 This host is algo-1.\u001b[0m\n",
      "\u001b[34m2022-08-11 02:11:43,912 This host is the leader.\u001b[0m\n",
      "\u001b[34m2022-08-11 02:11:43,912 Number of hosts in the cluster is 1.\u001b[0m\n",
      "\u001b[34m2022-08-11 02:11:44,176 Running Python / Pandas based analyzer.\u001b[0m\n",
      "\u001b[34m2022-08-11 02:11:44,176 Dataset type: text/csv uri: /opt/ml/processing/input/data\u001b[0m\n",
      "\u001b[34m2022-08-11 02:11:44,185 Loading dataset...\u001b[0m\n",
      "\u001b[34m/usr/local/lib/python3.9/site-packages/analyzer/data_loading/csv_data_loader.py:408: FutureWarning: The frame.append method is deprecated and will be removed from pandas in a future version. Use pandas.concat instead.\n",
      "  df = df.append(df_tmp, ignore_index=True)\u001b[0m\n",
      "\u001b[34m2022-08-11 02:11:44,220 Loaded dataset. Dataset info:\u001b[0m\n",
      "\u001b[34m<class 'pandas.core.frame.DataFrame'>\u001b[0m\n",
      "\u001b[34mRangeIndex: 30162 entries, 0 to 30161\u001b[0m\n",
      "\u001b[34mData columns (total 14 columns):\n",
      " #   Column          Non-Null Count  Dtype\u001b[0m\n",
      "\u001b[34m---  ------          --------------  -----\n",
      " 0   Age             30162 non-null  int64\n",
      " 1   Workclass       30162 non-null  int64\n",
      " 2   fnlwgt          30162 non-null  int64\n",
      " 3   Education       30162 non-null  int64\n",
      " 4   Education-Num   30162 non-null  int64\n",
      " 5   Marital Status  30162 non-null  int64\n",
      " 6   Occupation      30162 non-null  int64\n",
      " 7   Relationship    30162 non-null  int64\n",
      " 8   Ethnic group    30162 non-null  int64\n",
      " 9   Sex             30162 non-null  int64\n",
      " 10  Capital Gain    30162 non-null  int64\n",
      " 11  Capital Loss    30162 non-null  int64\n",
      " 12  Hours per week  30162 non-null  int64\n",
      " 13  Country         30162 non-null  int64\u001b[0m\n",
      "\u001b[34mdtypes: int64(14)\u001b[0m\n",
      "\u001b[34mmemory usage: 3.2 MB\u001b[0m\n",
      "\u001b[34m2022-08-11 02:11:44,277 Spinning up shadow endpoint\u001b[0m\n",
      "\u001b[34m2022-08-11 02:11:44,277 Creating endpoint-config with name sm-clarify-config-1660183904-910e\u001b[0m\n",
      "\u001b[34m2022-08-11 02:11:44,370 Creating endpoint: 'sm-clarify-DEMO-clarify-model-11-08-2022-01-58--1660183904-7920'\u001b[0m\n",
      "\u001b[34m2022-08-11 02:11:44,642 Using endpoint name: sm-clarify-DEMO-clarify-model-11-08-2022-01-58--1660183904-7920\u001b[0m\n",
      "\u001b[34m2022-08-11 02:11:44,643 Waiting for endpoint ...\u001b[0m\n",
      "\u001b[34m2022-08-11 02:11:44,643 Checking endpoint status:\u001b[0m\n",
      "\u001b[34mLegend:\u001b[0m\n",
      "\u001b[34m(OutOfService: x, Creating: -, Updating: -, InService: !, RollingBack: <, Deleting: o, Failed: *)\u001b[0m\n"
     ]
    },
    {
     "name": "stdout",
     "output_type": "stream",
     "text": [
      "\u001b[34m2022-08-11 02:14:45,055 Endpoint is in service after 180 seconds\u001b[0m\n",
      "\u001b[34m2022-08-11 02:14:45,055 Endpoint ready.\u001b[0m\n",
      "\u001b[34m2022-08-11 02:14:45,057 SHAP n_samples 15\u001b[0m\n",
      "\u001b[34m2022-08-11 02:14:45,152 =====================================================\u001b[0m\n",
      "\u001b[34m2022-08-11 02:14:45,152 Shap analyzer: explaining 30162 rows, 14 columns...\u001b[0m\n",
      "\u001b[34m2022-08-11 02:14:45,152 =====================================================\n",
      "  0% (0 of 30162) |                      | Elapsed Time: 0:00:00 ETA:  --:--:--\u001b[0m\n"
     ]
    },
    {
     "name": "stdout",
     "output_type": "stream",
     "text": [
      "\u001b[34m 11% (3420 of 30162) |##                 | Elapsed Time: 0:00:30 ETA:   0:03:54\u001b[0m\n"
     ]
    },
    {
     "name": "stdout",
     "output_type": "stream",
     "text": [
      "\u001b[34m 23% (7112 of 30162) |####               | Elapsed Time: 0:01:00 ETA:   0:03:07\u001b[0m\n"
     ]
    },
    {
     "name": "stdout",
     "output_type": "stream",
     "text": [
      "\u001b[34m 35% (10765 of 30162) |######            | Elapsed Time: 0:01:30 ETA:   0:02:39\u001b[0m\n"
     ]
    },
    {
     "name": "stdout",
     "output_type": "stream",
     "text": [
      "\u001b[34m 47% (14432 of 30162) |########          | Elapsed Time: 0:02:00 ETA:   0:02:08\u001b[0m\n"
     ]
    },
    {
     "name": "stdout",
     "output_type": "stream",
     "text": [
      "\u001b[34m 60% (18104 of 30162) |##########        | Elapsed Time: 0:02:30 ETA:   0:01:38\u001b[0m\n"
     ]
    },
    {
     "name": "stdout",
     "output_type": "stream",
     "text": [
      "\u001b[34m 72% (21794 of 30162) |#############     | Elapsed Time: 0:03:00 ETA:   0:01:08\u001b[0m\n"
     ]
    },
    {
     "name": "stdout",
     "output_type": "stream",
     "text": [
      "\u001b[34m 84% (25474 of 30162) |###############   | Elapsed Time: 0:03:30 ETA:   0:00:38\u001b[0m\n"
     ]
    },
    {
     "name": "stdout",
     "output_type": "stream",
     "text": [
      "\u001b[34m 96% (29166 of 30162) |################# | Elapsed Time: 0:04:00 ETA:   0:00:08\u001b[0m\n",
      "\u001b[34m100% (30162 of 30162) |##################| Elapsed Time: 0:04:08 Time:  0:04:08\u001b[0m\n",
      "\u001b[34m2022-08-11 02:18:53,423 getting explanations took 248.27 seconds.\u001b[0m\n",
      "\u001b[34m2022-08-11 02:18:53,423 ===================================================\u001b[0m\n",
      "\u001b[34m2022-08-11 02:18:53,423 Falling back to generic labels: label0, label1, ...\u001b[0m\n",
      "\u001b[34m2022-08-11 02:18:55,328 converting explanations to tabular took 1.90 seconds.\u001b[0m\n",
      "\u001b[34m2022-08-11 02:18:55,328 ===================================================\u001b[0m\n",
      "\u001b[34m2022-08-11 02:18:55,331 Wrote baseline used to compute explanations to: /opt/ml/processing/output/explanations_shap/baseline.csv\u001b[0m\n",
      "\u001b[34m2022-08-11 02:18:55,974 Wrote 30162 local explanations to: /opt/ml/processing/output/explanations_shap/out.csv\u001b[0m\n",
      "\u001b[34m2022-08-11 02:18:55,974 writing local explanations took 0.65 seconds.\u001b[0m\n",
      "\u001b[34m2022-08-11 02:18:55,974 ===================================================\u001b[0m\n",
      "\u001b[34m/usr/local/lib/python3.9/site-packages/numpy/core/fromnumeric.py:3438: FutureWarning: In a future version, DataFrame.mean(axis=None) will return a scalar mean over the entire DataFrame. To retain the old behavior, use 'frame.mean(axis=0)' or just 'frame.mean()'\n",
      "  return mean(axis=axis, dtype=dtype, out=out, **kwargs)\u001b[0m\n",
      "\u001b[34m2022-08-11 02:18:55,978 aggregating local explanations took 0.00 seconds.\u001b[0m\n",
      "\u001b[34m2022-08-11 02:18:55,978 ===================================================\u001b[0m\n",
      "\u001b[34m2022-08-11 02:18:55,978 Shap analysis finished.\u001b[0m\n",
      "\u001b[34m2022-08-11 02:18:55,978 Stop using endpoint: sm-clarify-DEMO-clarify-model-11-08-2022-01-58--1660183904-7920\u001b[0m\n",
      "\u001b[34m2022-08-11 02:18:55,978 Deleting endpoint configuration with name: sm-clarify-config-1660183904-910e\u001b[0m\n",
      "\u001b[34m2022-08-11 02:18:56,106 Deleting endpoint with name: sm-clarify-DEMO-clarify-model-11-08-2022-01-58--1660183904-7920\u001b[0m\n",
      "\u001b[34m2022-08-11 02:18:56,325 Model endpoint delivered 120.21230 requests per second and a total of 30164 requests over 251 seconds\u001b[0m\n",
      "\u001b[34m2022-08-11 02:18:56,709 Stop using endpoint: None\u001b[0m\n"
     ]
    },
    {
     "name": "stdout",
     "output_type": "stream",
     "text": [
      "\u001b[34m2022-08-11 02:19:24,431 ['jupyter', 'nbconvert', \"-TagRemovePreprocessor.remove_input_tags='remove_input'\", '--to', 'html', '--output', '/opt/ml/processing/output/report.html', '/opt/ml/processing/output/report.ipynb', '--template', 'sagemaker-xai']\u001b[0m\n",
      "\u001b[34m[NbConvertApp] Converting notebook /opt/ml/processing/output/report.ipynb to html\u001b[0m\n",
      "\u001b[34m[NbConvertApp] Writing 589403 bytes to /opt/ml/processing/output/report.html\u001b[0m\n",
      "\u001b[34m2022-08-11 02:19:25,485 ['/usr/local/bin/wkhtmltopdf', '-q', '--enable-local-file-access', '/opt/ml/processing/output/report.html', '/opt/ml/processing/output/report.pdf']\u001b[0m\n",
      "\u001b[34m2022-08-11 02:19:26,151 Collected analyses: \u001b[0m\n",
      "\u001b[34m{\n",
      "    \"version\": \"1.0\",\n",
      "    \"explanations\": {\n",
      "        \"kernel_shap\": {\n",
      "            \"label0\": {\n",
      "                \"global_shap_values\": {\n",
      "                    \"Age\": 0.0366722135269611,\n",
      "                    \"Workclass\": 0.017896920444423477,\n",
      "                    \"fnlwgt\": 0.02128907069923191,\n",
      "                    \"Education\": 0.018433063378410185,\n",
      "                    \"Education-Num\": 0.03690268324021173,\n",
      "                    \"Marital Status\": 0.029393231534788702,\n",
      "                    \"Occupation\": 0.02673051141061905,\n",
      "                    \"Relationship\": 0.03630101411248124,\n",
      "                    \"Ethnic group\": 0.0199556300772936,\n",
      "                    \"Sex\": 0.017811728353141813,\n",
      "                    \"Capital Gain\": 0.03321411032016234,\n",
      "                    \"Capital Loss\": 0.019521472438157304,\n",
      "                    \"Hours per week\": 0.021446145240649642,\n",
      "                    \"Country\": 0.04681570678320368\n",
      "                },\n",
      "                \"expected_value\": 0.0006380207487381995\n",
      "            }\n",
      "        }\n",
      "    }\u001b[0m\n",
      "\u001b[34m}\u001b[0m\n",
      "\u001b[34m2022-08-11 02:19:26,152 exit_message: Completed: SageMaker XAI Analyzer ran successfully\u001b[0m\n",
      "\u001b[34m---!\u001b[0m\n"
     ]
    },
    {
     "name": "stdout",
     "output_type": "stream",
     "text": [
      "\n"
     ]
    }
   ],
   "source": [
    "clarify_processor.run_explainability(\n",
    "    data_config=explainability_data_config,\n",
    "    model_config=model_config,\n",
    "    explainability_config=shap_config,\n",
    ")"
   ]
  },
  {
   "cell_type": "markdown",
   "id": "43ad4a50",
   "metadata": {
    "papermill": {
     "duration": 0.059737,
     "end_time": "2022-08-11T02:19:53.098979",
     "exception": false,
     "start_time": "2022-08-11T02:19:53.039242",
     "status": "completed"
    },
    "tags": []
   },
   "source": [
    "#### Viewing the Explainability Report\n",
    "As with the bias report, you can view the explainability report in Studio under the experiments tab.\n",
    "\n",
    "\n",
    "<img src=\"https://raw.githubusercontent.com/aws/amazon-sagemaker-examples/main/sagemaker_processing/fairness_and_explainability/recordings/explainability_detail.gif\">\n",
    "\n",
    "The Model Insights tab contains direct links to the report and model insights.\n",
    "\n",
    "If you're not a Studio user yet, as with the Bias Report, you can access this report at the following S3 bucket."
   ]
  },
  {
   "cell_type": "code",
   "execution_count": 21,
   "id": "e0bba991",
   "metadata": {
    "execution": {
     "iopub.execute_input": "2022-08-11T02:19:53.225171Z",
     "iopub.status.busy": "2022-08-11T02:19:53.224471Z",
     "iopub.status.idle": "2022-08-11T02:19:53.227552Z",
     "shell.execute_reply": "2022-08-11T02:19:53.227930Z"
    },
    "papermill": {
     "duration": 0.063211,
     "end_time": "2022-08-11T02:19:53.228056",
     "exception": false,
     "start_time": "2022-08-11T02:19:53.164845",
     "status": "completed"
    },
    "tags": []
   },
   "outputs": [
    {
     "data": {
      "text/plain": [
       "'s3://sagemaker-us-west-2-000000000000/sagemaker/DEMO-sagemaker-clarify/clarify-explainability'"
      ]
     },
     "execution_count": 21,
     "metadata": {},
     "output_type": "execute_result"
    }
   ],
   "source": [
    "explainability_output_path"
   ]
  },
  {
   "cell_type": "markdown",
   "id": "c58aa95f",
   "metadata": {
    "papermill": {
     "duration": 0.053381,
     "end_time": "2022-08-11T02:19:53.335201",
     "exception": false,
     "start_time": "2022-08-11T02:19:53.281820",
     "status": "completed"
    },
    "tags": []
   },
   "source": [
    "#### Analysis of local explanations\n",
    "It is possible to visualize the the local explanations for single examples in your dataset. You can use the obtained results from running Kernel SHAP algorithm for global explanations.\n",
    "\n",
    "You can simply load the local explanations stored in your output path, and visualize the explanation (i.e., the impact that the single features have on the prediction of your model) for any single example."
   ]
  },
  {
   "cell_type": "code",
   "execution_count": 22,
   "id": "7fc681ce",
   "metadata": {
    "execution": {
     "iopub.execute_input": "2022-08-11T02:19:53.456876Z",
     "iopub.status.busy": "2022-08-11T02:19:53.456234Z",
     "iopub.status.idle": "2022-08-11T02:19:54.032348Z",
     "shell.execute_reply": "2022-08-11T02:19:54.032725Z"
    },
    "papermill": {
     "duration": 0.644771,
     "end_time": "2022-08-11T02:19:54.032882",
     "exception": false,
     "start_time": "2022-08-11T02:19:53.388111",
     "status": "completed"
    },
    "tags": []
   },
   "outputs": [
    {
     "name": "stdout",
     "output_type": "stream",
     "text": [
      "Example number: 111 \n",
      "with model prediction: False\n",
      "\n",
      "Feature values -- Label Target                 0\n",
      "Age                   21\n",
      "Workclass              2\n",
      "fnlwgt            199915\n",
      "Education             15\n",
      "Education-Num         10\n",
      "Marital Status         4\n",
      "Occupation             7\n",
      "Relationship           3\n",
      "Ethnic group           4\n",
      "Sex                    0\n",
      "Capital Gain           0\n",
      "Capital Loss           0\n",
      "Hours per week        40\n",
      "Country               38\n",
      "Name: 120, dtype: int64\n"
     ]
    },
    {
     "data": {
      "text/plain": [
       "<AxesSubplot:title={'center':'Local explanation for the example number 111'}>"
      ]
     },
     "execution_count": 22,
     "metadata": {},
     "output_type": "execute_result"
    },
    {
     "data": {
      "image/png": "[encoded data removed]",
      "text/plain": [
       "<Figure size 432x288 with 1 Axes>"
      ]
     },
     "metadata": {
      "needs_background": "light"
     },
     "output_type": "display_data"
    }
   ],
   "source": [
    "local_explanations_out = pd.read_csv(explainability_output_path + \"/explanations_shap/out.csv\")\n",
    "feature_names = [str.replace(c, \"_label0\", \"\") for c in local_explanations_out.columns.to_series()]\n",
    "local_explanations_out.columns = feature_names\n",
    "\n",
    "selected_example = 111\n",
    "print(\n",
    "    \"Example number:\",\n",
    "    selected_example,\n",
    "    \"\\nwith model prediction:\",\n",
    "    sum(local_explanations_out.iloc[selected_example]) > 0,\n",
    ")\n",
    "print(\"\\nFeature values -- Label\", training_data.iloc[selected_example])\n",
    "local_explanations_out.iloc[selected_example].plot(\n",
    "    kind=\"bar\", title=\"Local explanation for the example number \" + str(selected_example), rot=90\n",
    ")"
   ]
  },
  {
   "cell_type": "markdown",
   "id": "b8181207",
   "metadata": {
    "papermill": {
     "duration": 0.054554,
     "end_time": "2022-08-11T02:19:54.141801",
     "exception": false,
     "start_time": "2022-08-11T02:19:54.087247",
     "status": "completed"
    },
    "tags": []
   },
   "source": [
    "### Clean Up\n",
    "Finally, don't forget to clean up the resources we set up and used for this demo!"
   ]
  },
  {
   "cell_type": "code",
   "execution_count": 23,
   "id": "f1c338fa",
   "metadata": {
    "execution": {
     "iopub.execute_input": "2022-08-11T02:19:54.258183Z",
     "iopub.status.busy": "2022-08-11T02:19:54.257547Z",
     "iopub.status.idle": "2022-08-11T02:19:54.399162Z",
     "shell.execute_reply": "2022-08-11T02:19:54.398725Z"
    },
    "papermill": {
     "duration": 0.20284,
     "end_time": "2022-08-11T02:19:54.399301",
     "exception": false,
     "start_time": "2022-08-11T02:19:54.196461",
     "status": "completed"
    },
    "tags": []
   },
   "outputs": [],
   "source": [
    "session.delete_model(model_name)"
   ]
  }
 ],
 "metadata": {
  "instance_type": "ml.t3.medium",
  "kernelspec": {
   "display_name": "Python 3 (PyTorch 1.6 Python 3.6 CPU Optimized)",
   "language": "python",
   "name": "python3__SAGEMAKER_INTERNAL__arn:aws:sagemaker:us-west-2:000000000000:image/pytorch-1.6-cpu-py36-ubuntu16.04-v1"
  },
  "language_info": {
   "codemirror_mode": {
    "name": "ipython",
    "version": 3
   },
   "file_extension": ".py",
   "mimetype": "text/x-python",
   "name": "python",
   "nbconvert_exporter": "python",
   "pygments_lexer": "ipython3",
   "version": "3.6.13"
  },
  "papermill": {
   "default_parameters": {},
   "duration": 1517.100094,
   "end_time": "2022-08-11T02:19:55.175700",
   "environment_variables": {},
   "exception": null,
   "input_path": "fairness_and_explainability.ipynb",
   "output_path": "/opt/ml/processing/output/fairness_and_explainability-2022-08-11-01-41-53.ipynb",
   "parameters": {
    "kms_key": "arn:aws:kms:us-west-2:000000000000:1234abcd-12ab-34cd-56ef-1234567890ab"
   },
   "start_time": "2022-08-11T01:54:38.075606",
   "version": "2.3.4"
  }
 },
 "nbformat": 4,
 "nbformat_minor": 5
}