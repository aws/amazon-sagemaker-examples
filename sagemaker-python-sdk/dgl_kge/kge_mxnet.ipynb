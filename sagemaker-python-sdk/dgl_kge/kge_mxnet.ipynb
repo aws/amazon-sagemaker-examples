{
 "cells": [
  {
   "cell_type": "markdown",
   "metadata": {},
   "source": [
    "## Training knowledge graph embedding by using the Deep Graph Library with MXNet backend\n",
    "The **Amazon SageMaker Python SDK** makes it easy to train Deep Graph Library (DGL) models. In this example, you generate knowledge graph embedding using the [DMLC DGL API](https://github.com/dmlc/dgl.git) and FB15k dataset.\n",
    "\n",
    "For more information about knowledge graph embedding and this example, see https://github.com/dmlc/dgl/tree/master/apps/kg\n"
   ]
  },
  {
   "cell_type": "markdown",
   "metadata": {},
   "source": [
    "### Setup\n",
    "Define a few variables that are needed later in the example."
   ]
  },
  {
   "cell_type": "code",
   "execution_count": null,
   "metadata": {},
   "outputs": [],
   "source": [
    "import sagemaker\n",
    "from sagemaker import get_execution_role\n",
    "from sagemaker.session import Session\n",
    "\n",
    "# Setup session\n",
    "sess = sagemaker.Session()\n",
    "\n",
    "# S3 bucket for saving code and model artifacts.\n",
    "# Feel free to specify a different bucket here if you wish.\n",
    "bucket = sess.default_bucket()\n",
    "\n",
    "# Location to put your custom code.\n",
    "custom_code_upload_location = 'customcode'\n",
    "\n",
    "# IAM execution role that gives Amazon SageMaker access to resources in your AWS account.\n",
    "# You can use the Amazon SageMaker Python SDK to get the role from the notebook environment. \n",
    "role = get_execution_role()"
   ]
  },
  {
   "cell_type": "markdown",
   "metadata": {},
   "source": [
    "### Amazon SageMaker estimator class\n",
    "The Amazon SageMaker estimator allows you to run a single machine in Amazon SageMaker, using CPU or GPU-based instances.\n",
    "\n",
    "When you create the estimator, pass in the file name of the training script and the name of the IAM execution role. Also provide a few other parameters. train_instance_count and train_instance_type determine the number and type of Amazon SageMaker instances that are used for the training job. The hyperparameters parameter is a dictionary of values that is passed to your training script as parameters that you can use argparse to parse.\n",
    "\n",
    "Here, you can directly use the DL Container provided by Amazon SageMaker for training DGL models by specifying the MXNet framework version (>= 1.6.0) and the python version (only py3). You can also add a task_tag with value 'DGL' to help tracking the task."
   ]
  },
  {
   "cell_type": "code",
   "execution_count": null,
   "metadata": {},
   "outputs": [],
   "source": [
    "from sagemaker.mxnet.estimator import MXNet\n",
    "\n",
    "ENTRY_POINT = 'train.py'\n",
    "CODE_PATH = './'\n",
    "\n",
    "account = sess.boto_session.client('sts').get_caller_identity()['Account']\n",
    "region = sess.boto_session.region_name\n",
    "\n",
    "params = {}\n",
    "params['dataset'] = 'FB15k'\n",
    "params['model'] = 'DistMult'\n",
    "params['batch_size'] = 1024\n",
    "params['neg_sample_size'] = 256\n",
    "params['hidden_dim'] = 2000\n",
    "params['gamma'] = 500.0\n",
    "params['lr'] = 0.1\n",
    "params['max_step'] = 100000\n",
    "params['batch_size_eval'] = 16\n",
    "params['valid'] = True\n",
    "params['test'] = True\n",
    "params['neg_adversarial_sampling'] = True\n",
    "task_tags = [{'Key':'ML Task', 'Value':'DGL'}]\n",
    "\n",
    "estimator = MXNet(entry_point=ENTRY_POINT,\n",
    "                    source_dir=CODE_PATH,\n",
    "                    role=role, \n",
    "                    train_instance_count=1, \n",
    "                    train_instance_type='ml.p3.2xlarge',\n",
    "                    framework_version=\"1.6.0\",\n",
    "                    py_version='py3',\n",
    "                    hyperparameters=params,\n",
    "                    tags=task_tags,\n",
    "                    sagemaker_session=sess)"
   ]
  },
  {
   "cell_type": "markdown",
   "metadata": {},
   "source": [
    "### Running the Training Job\n",
    "After you construct the Estimator object, you can fit it by using Amazon SageMaker. The dataset is automatically downloaded."
   ]
  },
  {
   "cell_type": "code",
   "execution_count": null,
   "metadata": {},
   "outputs": [],
   "source": [
    "estimator.fit()"
   ]
  },
  {
   "cell_type": "markdown",
   "metadata": {},
   "source": [
    "## Output\n",
    "You can get the resulting embedding output from the Amazon SageMaker console by searching for the training task and looking for the address of 'S3 model artifact'"
   ]
  }
 ],
 "metadata": {
  "kernelspec": {
   "display_name": "conda_mxnet_p36",
   "language": "python",
   "name": "conda_mxnet_p36"
  },
  "language_info": {
   "codemirror_mode": {
    "name": "ipython",
    "version": 3
   },
   "file_extension": ".py",
   "mimetype": "text/x-python",
   "name": "python",
   "nbconvert_exporter": "python",
   "pygments_lexer": "ipython3",
   "version": "3.6.5"
  }
 },
 "nbformat": 4,
 "nbformat_minor": 2
}
