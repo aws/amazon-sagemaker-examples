{
 "cells": [
  {
   "cell_type": "markdown",
   "metadata": {},
   "source": [
    "# Explaining Image Classification with SageMaker Clarify"
   ]
  },
  {
   "cell_type": "markdown",
   "metadata": {},
   "source": [
    "1. [Overview](#Overview)\n",
    "1. [Train and Deploy Image Classifier](#Train-and-Deploy-Image-Classifier)\n",
    "    1. [Permissions and environment variables](#Permissions-and-environment-variables)\n",
    "    2. [Fine-tuning the Image classification model](#Fine-tuning-the-Image-classification-model)\n",
    "    3. [Training](#Training)\n",
    "    4. [Input data specification](#Input-data-specification)\n",
    "    5. [Start the training](#Start-the-training)\n",
    "    6. [Deploy SageMaker model](#Deploy-SageMaker-model)\n",
    "    7. [List of object categories](#List-of-object-categories)\n",
    "1. [Amazon SageMaker Clarify](#Amazon-SageMaker-Clarify)\n",
    "    1. [Test Images](#Test-Images)\n",
    "    2. [Set up config objects](#Set-up-config-objects)\n",
    "    3. [SageMaker Clarify Processor](#SageMaker-Clarify-Processor)\n",
    "    4. [Reading Results](#Reading-Results)\n",
    "1. [Clean Up](#Clean-Up)\n",
    "\n",
    "## Overview\n",
    "Amazon SageMaker Clarify provides you the ability to gain an insight into your Computer Vision models. Clarify generates heat map, which highlights feature importance, for each input image and helps understand the model behavior. For Computer Vision, Clarify supports both Image Classification and Object Detection use cases.\n",
    "This notebook can be run inside the SageMaker Studio with **conda_pytorch_latest_py36** kernel and inside SageMaker Notebook-Instance with **Python 3 (PyTorch 1.8 Python 3.6 GPU Optimized)** kernel.\n",
    "This sample notebook walks you through:\n",
    "1. Key terms and concepts needed to understand SageMaker Clarify.\n",
    "1. Explaining the importance of the image features (super pixels) for Image Classification model.\n",
    "1. Accessing the reports and output images.\n",
    "\n",
    "In doing so, the notebook will first train and deploy an [Image Classification](https://github.com/aws/amazon-sagemaker-examples/blob/master/introduction_to_amazon_algorithms/imageclassification_caltech/Image-classification-transfer-learning-highlevel.ipynb) model with Sagemaker Estimator using [Caltech-256 dataset](https://paperswithcode.com/dataset/caltech-256) [1], then use SageMaker Clarify to run explainability on a subset of test images.\n",
    ">[1] Griffin, G. Holub, AD. Perona, P. The Caltech 256. Caltech Technical Report."
   ]
  },
  {
   "cell_type": "markdown",
   "metadata": {},
   "source": [
    "Let's start by installing the latest version of the SageMaker Python SDK, boto, and AWS CLI."
   ]
  },
  {
   "cell_type": "code",
   "execution_count": null,
   "metadata": {},
   "outputs": [],
   "source": [
    "! pip install sagemaker botocore boto3 awscli --upgrade"
   ]
  },
  {
   "cell_type": "markdown",
   "metadata": {
    "pycharm": {
     "name": "#%% md\n"
    }
   },
   "source": [
    "## Train and Deploy Image Classifier\n",
    "Let's first train and deploy an Image Classification model to SageMaker.\n",
    "\n",
    "\n",
    "### Permissions and environment variables\n",
    "Here we set up the linkage and authentication to AWS services. There are three parts to this:\n",
    "\n",
    "* The roles used to give learning and hosting access to your data. This will automatically be obtained from the role used to start the notebook\n",
    "* The S3 bucket that you want to use for training and model data\n",
    "* The Amazon sagemaker image classification docker image which need not be changed"
   ]
  },
  {
   "cell_type": "code",
   "execution_count": null,
   "metadata": {
    "pycharm": {
     "name": "#%%\n"
    }
   },
   "outputs": [],
   "source": [
    "%%time\n",
    "import boto3\n",
    "import sagemaker\n",
    "from sagemaker import get_execution_role\n",
    "\n",
    "role = get_execution_role()\n",
    "print(role)\n",
    "\n",
    "region = boto3.Session().region_name\n",
    "\n",
    "s3_client = boto3.client(\"s3\")\n",
    "\n",
    "sess = sagemaker.Session()\n",
    "\n",
    "output_bucket = sess.default_bucket()\n",
    "output_prefix = \"ic-transfer-learning\"\n",
    "\n",
    "# download the files\n",
    "!curl  https://sagemaker-sample-files.s3.amazonaws.com/datasets/image/caltech-256/caltech-256-60-train.rec > ./caltech-256-60-train.rec\n",
    "!curl  https://sagemaker-sample-files.s3.amazonaws.com/datasets/image/caltech-256/caltech-256-60-val.rec > ./caltech-256-60-val.rec\n",
    "\n",
    "s3_client.upload_file(\n",
    "    \"caltech-256-60-train.rec\", output_bucket, output_prefix + \"/train_rec/caltech-256-60-train.rec\"\n",
    ")\n",
    "\n",
    "s3_client.upload_file(\n",
    "    \"caltech-256-60-train.rec\",\n",
    "    output_bucket,\n",
    "    output_prefix + \"/validation_rec/caltech-256-60-train.rec\",\n",
    ")"
   ]
  },
  {
   "cell_type": "code",
   "execution_count": null,
   "metadata": {
    "pycharm": {
     "name": "#%%\n"
    }
   },
   "outputs": [],
   "source": [
    "from sagemaker import image_uris\n",
    "\n",
    "training_image = image_uris.retrieve(\n",
    "    \"image-classification\", sess.boto_region_name, version=\"latest\"\n",
    ")\n",
    "\n",
    "print(training_image)"
   ]
  },
  {
   "cell_type": "markdown",
   "metadata": {
    "pycharm": {
     "name": "#%% md\n"
    }
   },
   "source": [
    "### Fine-tuning the Image classification model\n",
    "\n",
    "The Caltech-256 dataset consist of images from 257 categories (the last one being a clutter category) and has 30k images with a minimum of 80 images and a maximum of about 800 images per category.\n",
    "\n",
    "The image classification algorithm can take two types of input formats. The first is a [recordio format](https://mxnet.apache.org/versions/1.8.0/api/python/docs/api/mxnet/recordio/index.html) and the other is a [lst format](https://mxnet.apache.org/versions/1.6/api/r/docs/api/im2rec.html). Files for both these formats are available at http://data.dmlc.ml/mxnet/data/caltech-256/. In this example, we will use the recordio format for training and use the training/validation split [specified here](https://mxnet.apache.org/versions/1.0.0/faq/finetune.html#prepare-data)."
   ]
  },
  {
   "cell_type": "code",
   "execution_count": null,
   "metadata": {
    "pycharm": {
     "name": "#%%\n"
    }
   },
   "outputs": [],
   "source": [
    "# Four channels: train, validation, train_lst, and validation_lst\n",
    "s3train = f\"s3://{output_bucket}/{output_prefix}/train_rec/\"\n",
    "s3validation = f\"s3://{output_bucket}/{output_prefix}/validation_rec/\""
   ]
  },
  {
   "cell_type": "markdown",
   "metadata": {
    "pycharm": {
     "name": "#%% md\n"
    }
   },
   "source": [
    "### Training\n",
    "Now that we are done with all the setup that is needed, we are ready to train our object detector. To begin, let us create a ``sageMaker.estimator.Estimator`` object. This estimator will launch the training job. There are two kinds of parameters that need to be set for training. Following are the parameters for the training job:\n",
    "* **instance_count**: This is the number of instances on which to run the training. When the number of instances is greater than one, then the image classification algorithm will run in distributed settings.\n",
    "* **instance_typee**: This indicates the type of machine on which to run the training. Typically, we use GPU instances for such training jobs.\n",
    "* **output_path**: This the s3 folder in which the training output is stored."
   ]
  },
  {
   "cell_type": "code",
   "execution_count": null,
   "metadata": {
    "pycharm": {
     "name": "#%%\n"
    }
   },
   "outputs": [],
   "source": [
    "s3_output_location = f\"s3://{output_bucket}/{output_prefix}/output\"\n",
    "ic_estimator = sagemaker.estimator.Estimator(\n",
    "    training_image,\n",
    "    role,\n",
    "    instance_count=1,\n",
    "    instance_type=\"ml.p2.xlarge\",\n",
    "    volume_size=50,\n",
    "    max_run=360000,\n",
    "    input_mode=\"File\",\n",
    "    output_path=s3_output_location,\n",
    "    sagemaker_session=sess,\n",
    ")"
   ]
  },
  {
   "cell_type": "markdown",
   "metadata": {
    "pycharm": {
     "name": "#%% md\n"
    }
   },
   "source": [
    "Apart from the above set of parameters, there are hyperparameters that are specific to the algorithm. These are:\n",
    "\n",
    "* **num_layers**: The number of layers (depth) for the network. We use 18 for this training but other values such as 50, 152 can also be used.\n",
    "* **use_pretrained_model**: Set to 1 to use pretrained model for transfer learning.\n",
    "* **image_shape**: The input image dimensions,'num_channels, height, width', for the network. It should be no larger than the actual image size. The number of channels should be same as the actual image.\n",
    "* **num_classes**: This is the number of output classes for the new dataset. ImageNet was trained with 1000 output classes but the number of output classes can be changed for fine-tuning. For caltech, we use 257 because it has 256 object categories + 1 clutter class.\n",
    "* **num_training_samples**: This is the total number of training samples. It is set to 15240 for caltech dataset with the current split.\n",
    "* **mini_batch_size**: The number of training samples used for each mini batch. In distributed training, the number of training samples used per batch will be N * mini_batch_size where N is the number of hosts on which training is run.\n",
    "* **epochs**: Number of training epochs.\n",
    "* **learning_rate**: Learning rate for training.\n",
    "* **precision_dtype**: Training datatype precision (default: float32). If set to 'float16', the training will be done in mixed_precision mode and will be faster than float32 mode."
   ]
  },
  {
   "cell_type": "code",
   "execution_count": null,
   "metadata": {
    "pycharm": {
     "name": "#%%\n"
    }
   },
   "outputs": [],
   "source": [
    "ic_estimator.set_hyperparameters(\n",
    "    num_layers=18,\n",
    "    use_pretrained_model=1,\n",
    "    image_shape=\"3,224,224\",\n",
    "    num_classes=257,\n",
    "    num_training_samples=15420,\n",
    "    mini_batch_size=128,\n",
    "    epochs=2,\n",
    "    learning_rate=0.01,\n",
    "    precision_dtype=\"float32\",\n",
    ")"
   ]
  },
  {
   "cell_type": "markdown",
   "metadata": {
    "pycharm": {
     "name": "#%% md\n"
    }
   },
   "source": [
    "### Input data specification\n",
    "Set the data type and channels used for training."
   ]
  },
  {
   "cell_type": "code",
   "execution_count": null,
   "metadata": {
    "pycharm": {
     "name": "#%%\n"
    }
   },
   "outputs": [],
   "source": [
    "train_data = sagemaker.inputs.TrainingInput(\n",
    "    s3train,\n",
    "    distribution=\"FullyReplicated\",\n",
    "    content_type=\"application/x-recordio\",\n",
    "    s3_data_type=\"S3Prefix\",\n",
    ")\n",
    "validation_data = sagemaker.inputs.TrainingInput(\n",
    "    s3validation,\n",
    "    distribution=\"FullyReplicated\",\n",
    "    content_type=\"application/x-recordio\",\n",
    "    s3_data_type=\"S3Prefix\",\n",
    ")\n",
    "\n",
    "data_channels = {\"train\": train_data, \"validation\": validation_data}"
   ]
  },
  {
   "cell_type": "markdown",
   "metadata": {
    "pycharm": {
     "name": "#%% md\n"
    }
   },
   "source": [
    "### Start the training\n",
    "Start training by calling the fit method in the estimator."
   ]
  },
  {
   "cell_type": "code",
   "execution_count": null,
   "metadata": {
    "pycharm": {
     "name": "#%%\n"
    }
   },
   "outputs": [],
   "source": [
    "ic_estimator.fit(inputs=data_channels, logs=True)"
   ]
  },
  {
   "cell_type": "markdown",
   "metadata": {
    "pycharm": {
     "name": "#%% md\n"
    }
   },
   "source": [
    "### Deploy SageMaker model\n",
    "Once trained, we use the estimator to deploy a model to SageMaker. This model will be used by Clarify to deploy endpoints and run inference on images."
   ]
  },
  {
   "cell_type": "code",
   "execution_count": null,
   "metadata": {
    "pycharm": {
     "name": "#%%\n"
    }
   },
   "outputs": [],
   "source": [
    "from time import gmtime, strftime\n",
    "\n",
    "timestamp_suffix = strftime(\"%Y-%m-%d-%H-%M-%S\", gmtime())\n",
    "\n",
    "model_name = \"DEMO-clarify-image-classification-model-{}\".format(timestamp_suffix)\n",
    "model = ic_estimator.create_model(name=model_name)\n",
    "container_def = model.prepare_container_def()\n",
    "sess.create_model(model_name, role, container_def)"
   ]
  },
  {
   "cell_type": "markdown",
   "metadata": {
    "pycharm": {
     "name": "#%% md\n"
    }
   },
   "source": [
    "### List of object categories"
   ]
  },
  {
   "cell_type": "code",
   "execution_count": null,
   "metadata": {
    "pycharm": {
     "name": "#%%\n"
    }
   },
   "outputs": [],
   "source": [
    "with open(\"caltech_256_object_categories.txt\", \"r+\") as object_categories_file:\n",
    "    object_categories = [category.rstrip(\"\\n\") for category in object_categories_file.readlines()]\n",
    "\n",
    "# Let's list top 10 entries from the object_categories list\n",
    "object_categories[:10]"
   ]
  },
  {
   "cell_type": "markdown",
   "metadata": {},
   "source": [
    "## Amazon SageMaker Clarify\n",
    "Now that we have your image classification endpoint all set up, let's get started with SageMaker Clarify!"
   ]
  },
  {
   "cell_type": "markdown",
   "metadata": {
    "pycharm": {
     "name": "#%% md\n"
    }
   },
   "source": [
    "### Test Images\n",
    "We need some test images to explain predictions made by the Image Classification model using Clarify. Let's grab some test images from the Caltech-256 dataset and upload them to some S3 bucket."
   ]
  },
  {
   "cell_type": "code",
   "execution_count": null,
   "metadata": {
    "pycharm": {
     "name": "#%%\n"
    }
   },
   "outputs": [],
   "source": [
    "prefix = \"sagemaker/DEMO-sagemaker-clarify-cv\"\n",
    "file_name_map = {\n",
    "    \"167.pyramid/167_0002.jpg\": \"pyramid.jpg\",\n",
    "    \"038.chimp/038_0013.jpg\": \"chimp.jpg\",\n",
    "    \"124.killer-whale/124_0013.jpg\": \"killer-whale.jpg\",\n",
    "    \"170.rainbow/170_0001.jpg\": \"rainbow.jpg\",\n",
    "}\n",
    "\n",
    "\n",
    "!curl  https://sagemaker-sample-files.s3.amazonaws.com/datasets/image/caltech-256/256_ObjectCategories/167.pyramid/167_0002.jpg > ./pyramid.jpg\n",
    "!curl  https://sagemaker-sample-files.s3.amazonaws.com/datasets/image/caltech-256/256_ObjectCategories/038.chimp/038_0013.jpg > ./chimp.jpg\n",
    "!curl  https://sagemaker-sample-files.s3.amazonaws.com/datasets/image/caltech-256/256_ObjectCategories/124.killer-whale/124_0013.jpg > ./killer-whale.jpg\n",
    "!curl  https://sagemaker-sample-files.s3.amazonaws.com/datasets/image/caltech-256/256_ObjectCategories/038.chimp/038_0013.jpg > ./chimp.jpg\n",
    "!curl  https://sagemaker-sample-files.s3.amazonaws.com/datasets/image/caltech-256/256_ObjectCategories/170.rainbow/170_0001.jpg > ./rainbow.jpg\n",
    "\n",
    "for file_name in file_name_map:\n",
    "    s3_client.upload_file(\n",
    "        file_name_map[file_name], output_bucket, f\"{prefix}/{file_name_map[file_name]}\"\n",
    "    )"
   ]
  },
  {
   "cell_type": "markdown",
   "metadata": {
    "pycharm": {
     "name": "#%% md\n"
    }
   },
   "source": [
    "### Set up config objects\n",
    "Now we setup some config objects required for running the Clarify job:\n",
    "* **explainability_data_config**: Config object related to configurations of the input and output dataset.\n",
    "* **model_config**: Config object related to a model and its endpoint to be created.\n",
    "    * **content_type**: Specifies the type of input expected by the model.\n",
    "* **predictions_config**: Config object to extract a predicted label from the model output.\n",
    "    * **label_headers**: This is the list of all the classes on which the model was trained.\n",
    "* **image_config**: Config object for image data type\n",
    "    * **model_type**: Specifies the type of CV model (IMAGE_CLASSIFICATION | OBJECT_DETECTION)\n",
    "    * **num_segments**: Clarify uses SKLearn's [SLIC](https://scikit-image.org/docs/dev/api/skimage.segmentation.html?highlight=slic#skimage.segmentation.slic) method for image segmentation to generate features/superpixels. num_segments specifies approximate number of segments to be generated.\n",
    "    * **segment_compactness**: Balances color proximity and space proximity. Higher values give more weight to space proximity, making superpixel shapes more square/cubic. We recommend exploring possible values on a log scale, e.g., 0.01, 0.1, 1, 10, 100, before refining around a chosen value.\n",
    "* **shap_config**: Config object for kernel SHAP parameters\n",
    "    * **num_samples**: total number of feature coalitions to be tested by Kernel SHAP."
   ]
  },
  {
   "cell_type": "code",
   "execution_count": null,
   "metadata": {
    "pycharm": {
     "name": "#%%\n"
    }
   },
   "outputs": [],
   "source": [
    "from sagemaker import clarify\n",
    "\n",
    "s3_data_input_path = \"s3://{}/{}/\".format(output_bucket, prefix)\n",
    "clarify_output_prefix = f\"{prefix}/cv_analysis_result\"\n",
    "analysis_result_path = \"s3://{}/{}\".format(output_bucket, clarify_output_prefix)\n",
    "explainability_data_config = clarify.DataConfig(\n",
    "    s3_data_input_path=s3_data_input_path,\n",
    "    s3_output_path=analysis_result_path,\n",
    "    dataset_type=\"application/x-image\",\n",
    ")\n",
    "\n",
    "model_config = clarify.ModelConfig(\n",
    "    model_name=model_name, instance_type=\"ml.m5.xlarge\", instance_count=1, content_type=\"image/jpeg\"\n",
    ")\n",
    "\n",
    "predictions_config = clarify.ModelPredictedLabelConfig(label_headers=object_categories)\n",
    "\n",
    "image_config = clarify.ImageConfig(\n",
    "    model_type=\"IMAGE_CLASSIFICATION\", num_segments=20, segment_compactness=5\n",
    ")\n",
    "\n",
    "shap_config = clarify.SHAPConfig(num_samples=500, image_config=image_config)"
   ]
  },
  {
   "cell_type": "markdown",
   "metadata": {
    "pycharm": {
     "name": "#%% md\n"
    }
   },
   "source": [
    "### SageMaker Clarify Processor\n",
    "Let's get the execution role for running SageMakerClarifyProcessor."
   ]
  },
  {
   "cell_type": "code",
   "execution_count": null,
   "metadata": {
    "collapsed": false,
    "jupyter": {
     "outputs_hidden": false
    },
    "pycharm": {
     "name": "#%%\n"
    }
   },
   "outputs": [],
   "source": [
    "import os\n",
    "\n",
    "account_id = os.getenv(\"AWS_ACCOUNT_ID\", \"<your-account-id>\")\n",
    "sagemaker_iam_role = \"<AmazonSageMaker-ExecutionRole>\"\n",
    "\n",
    "# Fetch the IAM role to initialize the sagemaker processing job\n",
    "try:\n",
    "    role = sagemaker.get_execution_role()\n",
    "except ValueError as e:\n",
    "    print(e)\n",
    "    role = f\"arn:aws:iam::{account_id}:role/{sagemaker_iam_role}\"\n",
    "\n",
    "clarify_processor = clarify.SageMakerClarifyProcessor(\n",
    "    role=role, instance_count=1, instance_type=\"ml.m5.xlarge\", sagemaker_session=sess\n",
    ")"
   ]
  },
  {
   "cell_type": "markdown",
   "metadata": {
    "pycharm": {
     "name": "#%% md\n"
    }
   },
   "source": [
    "Finally, we run explainability on the clarify processor."
   ]
  },
  {
   "cell_type": "code",
   "execution_count": null,
   "metadata": {
    "collapsed": false,
    "jupyter": {
     "outputs_hidden": false
    },
    "pycharm": {
     "name": "#%%\n"
    }
   },
   "outputs": [],
   "source": [
    "clarify_processor.run_explainability(\n",
    "    data_config=explainability_data_config,\n",
    "    model_config=model_config,\n",
    "    explainability_config=shap_config,\n",
    "    model_scores=predictions_config,\n",
    ")"
   ]
  },
  {
   "cell_type": "markdown",
   "metadata": {},
   "source": [
    "### Reading Results\n",
    "Let's download all the result images along with the PDF report."
   ]
  },
  {
   "cell_type": "code",
   "execution_count": null,
   "metadata": {
    "collapsed": false,
    "jupyter": {
     "outputs_hidden": false
    },
    "pycharm": {
     "name": "#%%\n"
    }
   },
   "outputs": [],
   "source": [
    "%%time\n",
    "output_objects = s3_client.list_objects(Bucket=output_bucket, Prefix=clarify_output_prefix)\n",
    "result_images = []\n",
    "\n",
    "for file_obj in output_objects[\"Contents\"]:\n",
    "    file_name = os.path.basename(file_obj[\"Key\"])\n",
    "    if os.path.splitext(file_name)[1] == \".jpeg\":\n",
    "        result_images.append(file_name)\n",
    "\n",
    "    print(f\"Downloading s3://{output_bucket}/{file_obj['Key']} ...\")\n",
    "    s3_client.download_file(output_bucket, file_obj[\"Key\"], file_name)"
   ]
  },
  {
   "cell_type": "markdown",
   "metadata": {
    "pycharm": {
     "name": "#%% md\n"
    }
   },
   "source": [
    "Let's visualize and understand the results.\n",
    "The result images shows the segmented image and the heatmap.\n",
    "\n",
    "* **Segments**: Highlights the image segments.\n",
    "* **Shades of Blue**: Represents positive Shapley values indicating that the corresponding feature increases the overall confidence score.\n",
    "* **Shades of Red**: Represents negative Shapley values indicating that the corresponding feature decreases the overall confidence score.\n"
   ]
  },
  {
   "cell_type": "code",
   "execution_count": null,
   "metadata": {
    "collapsed": false,
    "jupyter": {
     "outputs_hidden": false
    },
    "pycharm": {
     "name": "#%%\n"
    }
   },
   "outputs": [],
   "source": [
    "from IPython.display import Image\n",
    "\n",
    "for img in result_images:\n",
    "    display(Image(img))"
   ]
  },
  {
   "cell_type": "markdown",
   "metadata": {},
   "source": [
    "## Clean Up\n",
    "Finally, don't forget to clean up the resources we set up and used for this demo!"
   ]
  },
  {
   "cell_type": "code",
   "execution_count": null,
   "metadata": {},
   "outputs": [],
   "source": [
    "%%time\n",
    "\n",
    "# Delete the SageMaker model\n",
    "model.delete_model()"
   ]
  }
 ],
 "metadata": {
  "kernelspec": {
   "display_name": "conda_pytorch_latest_p36",
   "language": "python",
   "name": "conda_pytorch_latest_p36"
  },
  "language_info": {
   "codemirror_mode": {
    "name": "ipython",
    "version": 3
   },
   "file_extension": ".py",
   "mimetype": "text/x-python",
   "name": "python",
   "nbconvert_exporter": "python",
   "pygments_lexer": "ipython3",
   "version": "3.6.13"
  }
 },
 "nbformat": 4,
 "nbformat_minor": 4
}
