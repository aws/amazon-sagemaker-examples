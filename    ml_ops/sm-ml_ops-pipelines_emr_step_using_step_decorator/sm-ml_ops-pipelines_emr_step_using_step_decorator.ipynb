{
 "cells": [
  {
   "cell_type": "markdown",
   "metadata": {},
   "source": [
    "# Using @step Decorated Step with EMR Step"
   ]
  },
  {
   "cell_type": "markdown",
   "metadata": {},
   "source": [
    "---\n",
    "\n",
    "This notebook's CI test result for us-west-2 is as follows. CI test results in other regions can be found at the end of the notebook.\n",
    "\n",
    "![This us-west-2 badge failed to load. Check your device's internet connectivity, otherwise the service is currently unavailable](https://prod.us-west-2.tcx-beacon.docs.aws.dev/sagemaker-nb/us-west-2/sagemaker-pipelines|step-decorator|emr-examples|using_step_decorator_with_emr_step.ipynb)\n",
    "\n",
    "---"
   ]
  },
  {
   "cell_type": "markdown",
   "metadata": {},
   "source": [
    "This notebook illustrates how an [EMR step](https://docs.aws.amazon.com/sagemaker/latest/dg/build-and-manage-steps.html#step-type-emr) can be run from a SageMaker Pipeline that uses the low-code interface for training and registering the machine learning model. The EMR step uses a cluster config to create an EMR cluster, performs the required job and finally closes the cluster. All the remaining steps in the pipeline are configured automatically using the `step` decorator.\n",
    "\n",
    "The steps in this pipeline include:\n",
    "* Preprocess the UCI Heart Failure dataset with PySpark on EMR\n",
    "* Train an XGBoost model\n",
    "* Evaluate model performance\n",
    "* Register model"
   ]
  },
  {
   "cell_type": "markdown",
   "metadata": {},
   "source": [
    "## Contents\n",
    "\n",
    "1. [Prerequisites](#Prerequisites)\n",
    "1. [Configuration Setup](#Configuration-Setup)\n",
    "1. [Parameters](#Parameters)\n",
    "1. [Data Preparation](#Data-Preparation)\n",
    "1. [Model Training and Evaluation](#Model-Training-and-Evaluation)\n",
    "1. [Model Registry](#Model-Registry)\n",
    "1. [Execute the Pipeline](#Execute-the-Pipeline)\n",
    "1. [Cleanup](#Cleanup)"
   ]
  },
  {
   "attachments": {},
   "cell_type": "markdown",
   "metadata": {},
   "source": [
    "## Prerequisites\n",
    "\n",
    "To run this notebook you will need: \n",
    "  \n",
    "#### EMR roles\n",
    "You will have to create following roles in order to make EMR work:\n",
    "* Service role for Amazon EMR (EMR role) - this is passed as the `ServiceRole` parameter\n",
    "* Service role for cluster EC2 instances (EC2 instance profile) - this is passed as the `JobFlowRole` parameter  \n",
    "\n",
    "See ['EMR IAM roles'](https://docs.aws.amazon.com/emr/latest/ManagementGuide/emr-iam-roles.html) for more details.\n",
    "\n",
    "#### IAM policy to enable the notebook to run a step on an Amazon EMR cluster\n",
    "The notebook execution role should have policies which enable the notebook to run a step on an Amazon EMR cluster. The Amazon managed policy `AmazonSageMakerPipelinesIntegrations` should be added to the notebook execution role."
   ]
  },
  {
   "cell_type": "markdown",
   "metadata": {},
   "source": [
    "## Setup \n",
    "\n",
    "### Setup Dependencies"
   ]
  },
  {
   "cell_type": "code",
   "execution_count": null,
   "metadata": {
    "ExecuteTime": {
     "end_time": "2023-11-13T16:25:14.353547Z",
     "start_time": "2023-11-13T16:25:08.577992Z"
    },
    "tags": []
   },
   "outputs": [],
   "source": [
    "!pip install pip --upgrade --quiet\n",
    "!pip install boto --quiet"
   ]
  },
  {
   "cell_type": "code",
   "execution_count": null,
   "metadata": {
    "ExecuteTime": {
     "start_time": "2023-11-14T15:41:25.059015Z",
     "end_time": "2023-11-14T15:41:27.691532Z"
    },
    "tags": []
   },
   "outputs": [],
   "source": [
    "!pip install -r ./requirements.txt --quiet"
   ]
  },
  {
   "cell_type": "code",
   "execution_count": null,
   "metadata": {
    "ExecuteTime": {
     "end_time": "2023-11-13T16:25:22.758819Z",
     "start_time": "2023-11-13T16:25:22.729972Z"
    },
    "tags": []
   },
   "outputs": [],
   "source": [
    "import os\n",
    "\n",
    "# Set path to config file\n",
    "os.environ[\"SAGEMAKER_USER_CONFIG_OVERRIDE\"] = os.getcwd()"
   ]
  },
  {
   "cell_type": "markdown",
   "metadata": {},
   "source": [
    "## Configuration Setup"
   ]
  },
  {
   "cell_type": "markdown",
   "metadata": {},
   "source": [
    "Let's now configure the session and the client for Amazon SageMaker, and all necessary configurations for the pipelines (e.g., input ad output bucket)."
   ]
  },
  {
   "cell_type": "code",
   "execution_count": null,
   "metadata": {
    "ExecuteTime": {
     "end_time": "2023-11-13T16:32:09.004340Z",
     "start_time": "2023-11-13T16:32:01.571087Z"
    },
    "tags": []
   },
   "outputs": [],
   "source": [
    "import boto3\n",
    "import sagemaker\n",
    "\n",
    "sagemaker_session = sagemaker.Session()\n",
    "role = sagemaker.get_execution_role()\n",
    "region = sagemaker_session.boto_region_name\n",
    "boto_session = boto3.Session(region_name=region)\n",
    "sagemaker_client = sagemaker_session.sagemaker_client\n",
    "default_bucket = sagemaker_session.default_bucket()\n",
    "\n",
    "account = boto_session.client(\"sts\").get_caller_identity()[\"Account\"]"
   ]
  },
  {
   "cell_type": "markdown",
   "metadata": {},
   "source": [
    "## Parameters\n",
    "\n",
    "\n",
    "These are parameters that will be passed to the SageMaker pipeline when it executes."
   ]
  },
  {
   "cell_type": "code",
   "execution_count": null,
   "metadata": {
    "ExecuteTime": {
     "end_time": "2023-11-13T16:32:09.011971Z",
     "start_time": "2023-11-13T16:32:09.001650Z"
    },
    "tags": []
   },
   "outputs": [],
   "source": [
    "model_package_group_name = \"HeartFailurePackageGroup\"\n",
    "pipeline_name = \"EMRStepPipeline\"\n",
    "base_job_prefix = \"emr-step-pipeline\"\n",
    "processing_instance_type = \"ml.m5.xlarge\"\n",
    "training_instance_type = \"ml.m5.xlarge\"\n",
    "BASE_DIR = \"code\"\n",
    "\n",
    "# IAM roles configured in the Prerequisites section\n",
    "job_flow_role = f\"arn:aws:iam::{account}:instance-profile/EMR_EC2_DefaultRole\"\n",
    "service_role = f\"arn:aws:iam::{account}:role/EMR_DefaultRole_V2\""
   ]
  },
  {
   "cell_type": "code",
   "execution_count": null,
   "metadata": {
    "ExecuteTime": {
     "end_time": "2023-11-13T16:32:09.059700Z",
     "start_time": "2023-11-13T16:32:09.014112Z"
    },
    "tags": []
   },
   "outputs": [],
   "source": [
    "# Define variables and parameters needed for the Pipeline steps\n",
    "# parameters for pipeline execution\n",
    "from sagemaker.workflow.parameters import (\n",
    "    ParameterInteger,\n",
    "    ParameterString,\n",
    ")\n",
    "\n",
    "processing_instance_count = ParameterInteger(name=\"ProcessingInstanceCount\", default_value=1)\n",
    "model_approval_status = ParameterString(\n",
    "    name=\"ModelApprovalStatus\", default_value=\"PendingManualApproval\"\n",
    ")\n",
    "input_data = ParameterString(\n",
    "    name=\"InputDataUrl\",\n",
    "    default_value=f\"s3://sagemaker-example-files-prod-{region}/datasets/tabular/uci_heart_failure/heart_failure_clinical_records_dataset.csv\",\n",
    ")\n",
    "instance_type_param = ParameterString(name=\"TrainingInstanceType\", default_value=\"ml.m5.xlarge\")\n",
    "\n",
    "# Output path for the data preparation step to run on Amazon EMR\n",
    "output_path = f\"s3://{default_bucket}/{base_job_prefix}/prep\""
   ]
  },
  {
   "cell_type": "markdown",
   "metadata": {},
   "source": [
    "## Data Preparation"
   ]
  },
  {
   "cell_type": "markdown",
   "metadata": {},
   "source": [
    "A PySpark job on EMR is used to prepare the for the training job. Using the script `preprocess.py`, the dataset is featurized and split into train, test, and validation datasets. The output of this step is used as the input to the `train_model` function.\n",
    "\n",
    "This notebook uses the [UCI Heart Failure Clinical Records Dataset](https://archive.ics.uci.edu/dataset/519/heart+failure+clinical+records) [1]. The objective in this notebook is to predict the survival of patients with heart failure, which is a binary classification problem.\n",
    "\n",
    "> [1] Chicco, D., & Jurman, G. (2020). [Machine learning can predict survival of patients with heart failure from serum creatinine and ejection fraction alone](https://bmcmedinformdecismak.biomedcentral.com/articles/10.1186/s12911-020-1023-5). BMC medical informatics and decision making, 20(1), 1-16."
   ]
  },
  {
   "cell_type": "code",
   "execution_count": null,
   "metadata": {
    "ExecuteTime": {
     "end_time": "2023-11-13T16:32:09.207136Z",
     "start_time": "2023-11-13T16:32:09.027349Z"
    },
    "tags": []
   },
   "outputs": [],
   "source": [
    "%mkdir code"
   ]
  },
  {
   "cell_type": "code",
   "execution_count": null,
   "metadata": {
    "ExecuteTime": {
     "end_time": "2023-11-13T16:32:09.227153Z",
     "start_time": "2023-11-13T16:32:09.211973Z"
    },
    "tags": []
   },
   "outputs": [],
   "source": [
    "%%writefile code/preprocess.py\n",
    "\n",
    "from pyspark.sql import SparkSession\n",
    "from pyspark.sql import functions as F\n",
    "from pyspark.ml.functions import vector_to_array\n",
    "from pyspark.ml import Pipeline\n",
    "from argparse import ArgumentParser, Namespace\n",
    "\n",
    "\n",
    "def process(args: Namespace):\n",
    "    print(\"Starting Spark session\")\n",
    "    spark = SparkSession.builder.appName(\"preprocess\").getOrCreate()\n",
    "    spark.conf.set(\"mapreduce.fileoutputcommitter.marksuccessfuljobs\", \"false\")\n",
    "\n",
    "    print(\"Reading source data\")\n",
    "    df = spark.read.csv(args.input, header=True, inferSchema=True)\n",
    "\n",
    "    from pyspark.ml.feature import (\n",
    "        StandardScaler,\n",
    "        VectorAssembler,\n",
    "    )\n",
    "\n",
    "    features = [\n",
    "        \"platelets\",\n",
    "        \"serum_creatinine\",\n",
    "        \"age\",\n",
    "        \"anaemia\",\n",
    "        \"creatinine_phosphokinase\",\n",
    "        \"diabetes\",\n",
    "        \"ejection_fraction\",\n",
    "        \"high_blood_pressure\",\n",
    "        \"serum_sodium\",\n",
    "        \"sex\",\n",
    "        \"smoking\",\n",
    "        \"time\",\n",
    "    ]\n",
    "    print(\"Performing feature engineering\")\n",
    "    pipeline = Pipeline(\n",
    "        stages=[\n",
    "            VectorAssembler(inputCols=features, outputCol=\"vector\", handleInvalid=\"skip\"),\n",
    "            StandardScaler(inputCol=\"vector\", outputCol=\"features\"),\n",
    "        ]\n",
    "    )\n",
    "    print(\"Fitting transformers\")\n",
    "    model = pipeline.fit(df)\n",
    "    print(\"Transforming source data\")\n",
    "    df_out = (\n",
    "        model.transform(df)\n",
    "        .select(\n",
    "            \"DEATH_EVENT\",\n",
    "            vector_to_array(F.col(\"features\")).alias(\"features\"),\n",
    "        )\n",
    "        .select([F.col(\"DEATH_EVENT\")] + [F.col(\"features\")[idx] for idx in range(len(features))])\n",
    "    )\n",
    "\n",
    "    # Shuffle, split train/test/valid, and write out to csv files without headers\n",
    "    print(\"Writing train/valid/test splits\")\n",
    "    train, valid, test = df_out.orderBy(F.rand()).randomSplit([0.7, 0.15, 0.15])\n",
    "    prefix = args.output\n",
    "    train.repartition(1).write.mode(\"overwrite\").csv(f\"{prefix}/train\")\n",
    "    valid.repartition(1).write.mode(\"overwrite\").csv(f\"{prefix}/valid\")\n",
    "    test.repartition(1).write.mode(\"overwrite\").csv(f\"{prefix}/test\")\n",
    "\n",
    "    spark.stop()\n",
    "\n",
    "    return\n",
    "\n",
    "\n",
    "if __name__ == \"__main__\":\n",
    "    parser = ArgumentParser()\n",
    "    parser.add_argument(\"--input\")\n",
    "    parser.add_argument(\"--output\")\n",
    "    args, _ = parser.parse_known_args()\n",
    "    process(args)"
   ]
  },
  {
   "cell_type": "code",
   "execution_count": null,
   "metadata": {
    "ExecuteTime": {
     "end_time": "2023-11-13T16:32:09.372502Z",
     "start_time": "2023-11-13T16:32:09.233236Z"
    },
    "tags": []
   },
   "outputs": [],
   "source": [
    "script = sagemaker_session.upload_data(\"code/preprocess.py\", key_prefix=f\"{base_job_prefix}/app\")"
   ]
  },
  {
   "cell_type": "markdown",
   "metadata": {},
   "source": [
    "Next we configure the `EMRStep` using SageMaker Pipelines."
   ]
  },
  {
   "cell_type": "code",
   "execution_count": null,
   "metadata": {
    "ExecuteTime": {
     "end_time": "2023-11-13T16:32:09.389392Z",
     "start_time": "2023-11-13T16:32:09.384809Z"
    },
    "tags": []
   },
   "outputs": [],
   "source": [
    "# Process the training data step using a PySpark script.\n",
    "# Split the training data set into train, test, and validation datasets\n",
    "# Run as a step as a job flow on EMR\n",
    "\n",
    "from sagemaker.workflow.emr_step import EMRStep, EMRStepConfig\n",
    "\n",
    "emr_config = EMRStepConfig(\n",
    "    jar=\"command-runner.jar\",\n",
    "    args=[\n",
    "        \"spark-submit\",\n",
    "        \"--deploy-mode\",\n",
    "        \"cluster\",\n",
    "        script,\n",
    "        \"--input\",\n",
    "        input_data,\n",
    "        \"--output\",\n",
    "        output_path,\n",
    "    ],\n",
    ")\n",
    "\n",
    "step_emr = EMRStep(\n",
    "    name=\"HeartFailureEMR\",\n",
    "    cluster_id=None,\n",
    "    step_config=emr_config,\n",
    "    display_name=\"Preprocess\",\n",
    "    description=\"Preprocess data for XGBoost\",\n",
    "    cluster_config={\n",
    "        \"Applications\": [\n",
    "            {\n",
    "                \"Name\": \"Spark\",\n",
    "            }\n",
    "        ],\n",
    "        \"Instances\": {\n",
    "            \"InstanceGroups\": [\n",
    "                {\"InstanceRole\": \"MASTER\", \"InstanceCount\": 1, \"InstanceType\": \"m5.2xlarge\"},\n",
    "                {\"InstanceRole\": \"CORE\", \"InstanceCount\": 2, \"InstanceType\": \"m5.2xlarge\"},\n",
    "            ]\n",
    "        },\n",
    "        \"BootstrapActions\": [],\n",
    "        \"ReleaseLabel\": \"emr-6.6.0\",\n",
    "        \"JobFlowRole\": job_flow_role,\n",
    "        \"ServiceRole\": service_role,\n",
    "    },\n",
    ")"
   ]
  },
  {
   "cell_type": "markdown",
   "metadata": {},
   "source": [
    "### Model Training and Evaluation\n",
    "\n",
    "In this step, the training and validation data from the previous step are taken to train a model via XGBoost."
   ]
  },
  {
   "cell_type": "code",
   "execution_count": null,
   "metadata": {
    "ExecuteTime": {
     "end_time": "2023-11-13T16:32:10.436139Z",
     "start_time": "2023-11-13T16:32:10.421837Z"
    },
    "tags": []
   },
   "outputs": [],
   "source": [
    "import pandas as pd\n",
    "import boto3\n",
    "from io import StringIO\n",
    "\n",
    "from sagemaker.workflow.function_step import step\n",
    "\n",
    "from xgboost import XGBClassifier\n",
    "\n",
    "\n",
    "def read_df_from_s3(bucket: str, prefix: str) -> pd.DataFrame:\n",
    "    s3 = boto3.resource(\"s3\")\n",
    "    bucket = s3.Bucket(bucket)\n",
    "    prefix_objs = bucket.objects.filter(Prefix=prefix)\n",
    "    prefix_df = []\n",
    "    for obj in prefix_objs:\n",
    "        body = obj.get()[\"Body\"].read().decode(\"utf-8\")\n",
    "        df = pd.read_csv(StringIO(body), header=None)\n",
    "        prefix_df.append(df)\n",
    "\n",
    "    return pd.concat(prefix_df)\n",
    "\n",
    "\n",
    "@step(\n",
    "    name=\"HeartFailureTrain\",\n",
    "    instance_type=instance_type_param,\n",
    ")\n",
    "def train_model(\n",
    "    num_round: int = 50,\n",
    "    objective: str = \"binary:logistic\",\n",
    "    max_depth: int = 5,\n",
    "    eta: float = 0.2,\n",
    "    gamma: int = 4,\n",
    "    min_child_weight: int = 6,\n",
    "    subsample: float = 0.7,\n",
    "    use_gpu: bool = False,\n",
    "):\n",
    "    # Load and process training data\n",
    "    train_prefix = f\"{base_job_prefix}/prep/train\"\n",
    "    train_df = read_df_from_s3(default_bucket, train_prefix)\n",
    "    y_train = train_df.iloc[:, 0].to_numpy()\n",
    "    train_df.drop(train_df.columns[0], axis=1, inplace=True)\n",
    "    x_train = train_df.to_numpy()\n",
    "    # Load and process validation data\n",
    "    validation_prefix = f\"{base_job_prefix}/prep/valid\"\n",
    "    validation_df = read_df_from_s3(default_bucket, validation_prefix)\n",
    "    y_validation = validation_df.iloc[:, 0].to_numpy()\n",
    "    validation_df.drop(validation_df.columns[0], axis=1, inplace=True)\n",
    "    x_validation = validation_df.to_numpy()\n",
    "\n",
    "    param = {\n",
    "        \"objective\": objective,\n",
    "        \"max_depth\": max_depth,\n",
    "        \"eta\": eta,\n",
    "        \"gamma\": gamma,\n",
    "        \"min_child_weight\": min_child_weight,\n",
    "        \"subsample\": subsample,\n",
    "        \"tree_method\": \"gpu_hist\" if use_gpu else \"hist\",  # Use GPU accelerated algorithm\n",
    "    }\n",
    "\n",
    "    xgb = XGBClassifier(n_estimators=num_round, **param)\n",
    "    xgb.fit(\n",
    "        x_train,\n",
    "        y_train,\n",
    "        eval_set=[(x_validation, y_validation)],\n",
    "        early_stopping_rounds=5,\n",
    "    )\n",
    "\n",
    "    return xgb"
   ]
  },
  {
   "attachments": {},
   "cell_type": "markdown",
   "metadata": {},
   "source": [
    "In this step, the trained model is evaluated as per its accuracy."
   ]
  },
  {
   "cell_type": "code",
   "execution_count": null,
   "metadata": {
    "ExecuteTime": {
     "end_time": "2023-11-13T16:32:11.515036Z",
     "start_time": "2023-11-13T16:32:11.493341Z"
    },
    "tags": []
   },
   "outputs": [],
   "source": [
    "import numpy as np\n",
    "\n",
    "from sklearn.metrics import accuracy_score\n",
    "\n",
    "\n",
    "@step(name=\"HeartFailureEval\")\n",
    "def evaluate_model(model) -> dict:\n",
    "    test_prefix = f\"{base_job_prefix}/prep/test\"\n",
    "    test_df = read_df_from_s3(default_bucket, test_prefix)\n",
    "    y_test = test_df.iloc[:, 0].to_numpy().astype(int)\n",
    "    test_df.drop(test_df.columns[0], axis=1, inplace=True)\n",
    "    x_test = test_df.to_numpy()\n",
    "\n",
    "    predictions = (model.predict_proba(x_test)[:, 1] > 0.5).astype(int)\n",
    "\n",
    "    accuracy = accuracy_score(y_test, predictions)\n",
    "\n",
    "    report_dict = {\n",
    "        \"regression_metrics\": {\n",
    "            \"accuracy\": {\"value\": accuracy},\n",
    "        },\n",
    "    }\n",
    "    print(f\"evaluation report: {report_dict}\")\n",
    "\n",
    "    return report_dict"
   ]
  },
  {
   "cell_type": "markdown",
   "metadata": {},
   "source": [
    "### Model Registry\n",
    "\n",
    "In this step, we register the trained model to Model Registry using `ModelBuilder` to build model artifacts for inference."
   ]
  },
  {
   "cell_type": "code",
   "execution_count": null,
   "metadata": {
    "ExecuteTime": {
     "end_time": "2023-11-13T16:32:12.922770Z",
     "start_time": "2023-11-13T16:32:12.864621Z"
    },
    "tags": []
   },
   "outputs": [],
   "source": [
    "import json\n",
    "import s3fs\n",
    "from sagemaker.serve.builder.model_builder import ModelBuilder\n",
    "from sagemaker.serve.builder.schema_builder import SchemaBuilder\n",
    "from sagemaker.workflow.parameters import ParameterString\n",
    "from sagemaker import ModelMetrics, MetricsSource\n",
    "from sagemaker.s3_utils import s3_path_join\n",
    "from sagemaker.utils import unique_name_from_base\n",
    "\n",
    "\n",
    "@step(name=\"HeartFailureRegisterModel\")\n",
    "def register_model(\n",
    "    model,\n",
    "    evaluation: dict,\n",
    "    model_approval_status: ParameterString,\n",
    "):\n",
    "    # Upload evaluation report to S3\n",
    "    eval_file_name = unique_name_from_base(\"evaluation\")\n",
    "    eval_report_s3_uri = s3_path_join(\n",
    "        \"s3://\",\n",
    "        default_bucket,\n",
    "        model_package_group_name,\n",
    "        f\"evaluation-report/{eval_file_name}.json\",\n",
    "    )\n",
    "    s3_fs = s3fs.S3FileSystem()\n",
    "    eval_report_str = json.dumps(evaluation)\n",
    "    with s3_fs.open(eval_report_s3_uri, \"wb\") as file:\n",
    "        file.write(eval_report_str.encode(\"utf-8\"))\n",
    "\n",
    "    # Create model_metrics as per evaluation report in s3\n",
    "    model_metrics = ModelMetrics(\n",
    "        model_statistics=MetricsSource(\n",
    "            s3_uri=eval_report_s3_uri,\n",
    "            content_type=\"application/json\",\n",
    "        )\n",
    "    )\n",
    "\n",
    "    # Model schema definitions\n",
    "    # Note: The sample_input/sample_output only references the data type\n",
    "    schema_builder = SchemaBuilder(\n",
    "        sample_input=np.array([0]),\n",
    "        sample_output=np.array([0]),\n",
    "    )\n",
    "\n",
    "    # Build the trained model and register it\n",
    "    model_builder = ModelBuilder(\n",
    "        model=model,\n",
    "        schema_builder=schema_builder,\n",
    "        role_arn=role,\n",
    "        s3_model_data_url=s3_path_join(\n",
    "            \"s3://\", default_bucket, model_package_group_name, \"model-artifacts\"\n",
    "        ),\n",
    "    )\n",
    "\n",
    "    model_package = model_builder.build().register(\n",
    "        model_package_group_name=model_package_group_name,\n",
    "        approval_status=model_approval_status,\n",
    "        model_metrics=model_metrics,\n",
    "    )\n",
    "\n",
    "    print(f\"Registered Model Package ARN: {model_package.model_package_arn}\")\n",
    "    return model_package.model_package_arn"
   ]
  },
  {
   "cell_type": "markdown",
   "metadata": {},
   "source": [
    "## Execute the Pipeline\n",
    "\n",
    "Now we are going to define a `Pipeline` that will combine the various steps defined in this notebook. Note that to indicate that `train_model` depends on `step_emr`, we have to call the `add_depends_on` function."
   ]
  },
  {
   "cell_type": "code",
   "execution_count": null,
   "metadata": {
    "ExecuteTime": {
     "end_time": "2023-11-13T16:32:14.743591Z",
     "start_time": "2023-11-13T16:32:14.127619Z"
    },
    "tags": []
   },
   "outputs": [],
   "source": [
    "from sagemaker.workflow.pipeline import Pipeline\n",
    "from sagemaker.workflow.step_outputs import get_step\n",
    "\n",
    "# Causal logic for the execution pipeline\n",
    "delayed_model = train_model()\n",
    "get_step(delayed_model).add_depends_on([step_emr])\n",
    "delayed_evaluation = evaluate_model(model=delayed_model)\n",
    "get_step(delayed_evaluation).add_depends_on([step_emr])\n",
    "\n",
    "delayed_register = register_model(\n",
    "    model=delayed_model,\n",
    "    evaluation=delayed_evaluation,\n",
    "    model_approval_status=model_approval_status,\n",
    ")\n",
    "\n",
    "pipeline = Pipeline(\n",
    "    name=pipeline_name,\n",
    "    parameters=[\n",
    "        processing_instance_count,\n",
    "        model_approval_status,\n",
    "        input_data,\n",
    "        instance_type_param,\n",
    "    ],\n",
    "    steps=[delayed_register],\n",
    ")"
   ]
  },
  {
   "cell_type": "code",
   "execution_count": null,
   "metadata": {
    "ExecuteTime": {
     "end_time": "2023-11-13T16:32:37.068575Z",
     "start_time": "2023-11-13T16:32:14.773402Z"
    },
    "tags": []
   },
   "outputs": [],
   "source": [
    "pipeline.upsert(role_arn=role)"
   ]
  },
  {
   "cell_type": "code",
   "execution_count": null,
   "metadata": {
    "ExecuteTime": {
     "end_time": "2023-11-13T16:32:37.443689Z",
     "start_time": "2023-11-13T16:32:37.060859Z"
    },
    "tags": []
   },
   "outputs": [],
   "source": [
    "execution = pipeline.start()"
   ]
  },
  {
   "cell_type": "code",
   "execution_count": null,
   "metadata": {
    "ExecuteTime": {
     "end_time": "2023-11-13T15:11:46.914116Z",
     "start_time": "2023-11-13T15:11:46.741318Z"
    },
    "tags": []
   },
   "outputs": [],
   "source": [
    "execution.describe()"
   ]
  },
  {
   "cell_type": "code",
   "execution_count": null,
   "metadata": {
    "tags": []
   },
   "outputs": [],
   "source": [
    "execution.wait()"
   ]
  },
  {
   "cell_type": "code",
   "execution_count": null,
   "metadata": {
    "tags": []
   },
   "outputs": [],
   "source": [
    "execution.list_steps()"
   ]
  },
  {
   "cell_type": "markdown",
   "metadata": {},
   "source": [
    "## Cleanup\n",
    "Running the following cell will delete the following resources created in this notebook"
   ]
  },
  {
   "cell_type": "code",
   "execution_count": null,
   "metadata": {
    "tags": []
   },
   "outputs": [],
   "source": [
    "# Delete the Pipeline\n",
    "sagemaker_client.delete_pipeline(PipelineName=pipeline_name)"
   ]
  },
  {
   "cell_type": "markdown",
   "metadata": {},
   "source": [
    "## Notebook CI Test Results\n",
    "\n",
    "This notebook was tested in multiple regions. The test results are as follows, except for us-west-2 which is shown at the top of the notebook.\n",
    "\n",
    "\n",
    "![This us-east-1 badge failed to load. Check your device's internet connectivity, otherwise the service is currently unavailable](https://prod.us-west-2.tcx-beacon.docs.aws.dev/sagemaker-nb/us-east-1/sagemaker-pipelines|step-decorator|emr-examples|using_step_decorator_with_emr_step.ipynb)\n",
    "\n",
    "![This us-east-2 badge failed to load. Check your device's internet connectivity, otherwise the service is currently unavailable](https://prod.us-west-2.tcx-beacon.docs.aws.dev/sagemaker-nb/us-east-2/sagemaker-pipelines|step-decorator|emr-examples|using_step_decorator_with_emr_step.ipynb)\n",
    "\n",
    "![This us-west-1 badge failed to load. Check your device's internet connectivity, otherwise the service is currently unavailable](https://prod.us-west-2.tcx-beacon.docs.aws.dev/sagemaker-nb/us-west-1/sagemaker-pipelines|step-decorator|emr-examples|using_step_decorator_with_emr_step.ipynb)\n",
    "\n",
    "![This ca-central-1 badge failed to load. Check your device's internet connectivity, otherwise the service is currently unavailable](https://prod.us-west-2.tcx-beacon.docs.aws.dev/sagemaker-nb/ca-central-1/sagemaker-pipelines|step-decorator|emr-examples|using_step_decorator_with_emr_step.ipynb)\n",
    "\n",
    "![This sa-east-1 badge failed to load. Check your device's internet connectivity, otherwise the service is currently unavailable](https://prod.us-west-2.tcx-beacon.docs.aws.dev/sagemaker-nb/sa-east-1/sagemaker-pipelines|step-decorator|emr-examples|using_step_decorator_with_emr_step.ipynb)\n",
    "\n",
    "![This eu-west-1 badge failed to load. Check your device's internet connectivity, otherwise the service is currently unavailable](https://prod.us-west-2.tcx-beacon.docs.aws.dev/sagemaker-nb/eu-west-1/sagemaker-pipelines|step-decorator|emr-examples|using_step_decorator_with_emr_step.ipynb)\n",
    "\n",
    "![This eu-west-2 badge failed to load. Check your device's internet connectivity, otherwise the service is currently unavailable](https://prod.us-west-2.tcx-beacon.docs.aws.dev/sagemaker-nb/eu-west-2/sagemaker-pipelines|step-decorator|emr-examples|using_step_decorator_with_emr_step.ipynb)\n",
    "\n",
    "![This eu-west-3 badge failed to load. Check your device's internet connectivity, otherwise the service is currently unavailable](https://prod.us-west-2.tcx-beacon.docs.aws.dev/sagemaker-nb/eu-west-3/sagemaker-pipelines|step-decorator|emr-examples|using_step_decorator_with_emr_step.ipynb)\n",
    "\n",
    "![This eu-central-1 badge failed to load. Check your device's internet connectivity, otherwise the service is currently unavailable](https://prod.us-west-2.tcx-beacon.docs.aws.dev/sagemaker-nb/eu-central-1/sagemaker-pipelines|step-decorator|emr-examples|using_step_decorator_with_emr_step.ipynb)\n",
    "\n",
    "![This eu-north-1 badge failed to load. Check your device's internet connectivity, otherwise the service is currently unavailable](https://prod.us-west-2.tcx-beacon.docs.aws.dev/sagemaker-nb/eu-north-1/sagemaker-pipelines|step-decorator|emr-examples|using_step_decorator_with_emr_step.ipynb)\n",
    "\n",
    "![This ap-southeast-1 badge failed to load. Check your device's internet connectivity, otherwise the service is currently unavailable](https://prod.us-west-2.tcx-beacon.docs.aws.dev/sagemaker-nb/ap-southeast-1/sagemaker-pipelines|step-decorator|emr-examples|using_step_decorator_with_emr_step.ipynb)\n",
    "\n",
    "![This ap-southeast-2 badge failed to load. Check your device's internet connectivity, otherwise the service is currently unavailable](https://prod.us-west-2.tcx-beacon.docs.aws.dev/sagemaker-nb/ap-southeast-2/sagemaker-pipelines|step-decorator|emr-examples|using_step_decorator_with_emr_step.ipynb)\n",
    "\n",
    "![This ap-northeast-1 badge failed to load. Check your device's internet connectivity, otherwise the service is currently unavailable](https://prod.us-west-2.tcx-beacon.docs.aws.dev/sagemaker-nb/ap-northeast-1/sagemaker-pipelines|step-decorator|emr-examples|using_step_decorator_with_emr_step.ipynb)\n",
    "\n",
    "![This ap-northeast-2 badge failed to load. Check your device's internet connectivity, otherwise the service is currently unavailable](https://prod.us-west-2.tcx-beacon.docs.aws.dev/sagemaker-nb/ap-northeast-2/sagemaker-pipelines|step-decorator|emr-examples|using_step_decorator_with_emr_step.ipynb)\n",
    "\n",
    "![This ap-south-1 badge failed to load. Check your device's internet connectivity, otherwise the service is currently unavailable](https://prod.us-west-2.tcx-beacon.docs.aws.dev/sagemaker-nb/ap-south-1/sagemaker-pipelines|step-decorator|emr-examples|using_step_decorator_with_emr_step.ipynb)"
   ]
  },
  {
   "cell_type": "code",
   "execution_count": null,
   "metadata": {},
   "outputs": [],
   "source": []
  }
 ],
 "metadata": {
  "availableInstances": [
   {
    "_defaultOrder": 0,
    "_isFastLaunch": true,
    "category": "General purpose",
    "gpuNum": 0,
    "hideHardwareSpecs": false,
    "memoryGiB": 4,
    "name": "ml.t3.medium",
    "vcpuNum": 2
   },
   {
    "_defaultOrder": 1,
    "_isFastLaunch": false,
    "category": "General purpose",
    "gpuNum": 0,
    "hideHardwareSpecs": false,
    "memoryGiB": 8,
    "name": "ml.t3.large",
    "vcpuNum": 2
   },
   {
    "_defaultOrder": 2,
    "_isFastLaunch": false,
    "category": "General purpose",
    "gpuNum": 0,
    "hideHardwareSpecs": false,
    "memoryGiB": 16,
    "name": "ml.t3.xlarge",
    "vcpuNum": 4
   },
   {
    "_defaultOrder": 3,
    "_isFastLaunch": false,
    "category": "General purpose",
    "gpuNum": 0,
    "hideHardwareSpecs": false,
    "memoryGiB": 32,
    "name": "ml.t3.2xlarge",
    "vcpuNum": 8
   },
   {
    "_defaultOrder": 4,
    "_isFastLaunch": true,
    "category": "General purpose",
    "gpuNum": 0,
    "hideHardwareSpecs": false,
    "memoryGiB": 8,
    "name": "ml.m5.large",
    "vcpuNum": 2
   },
   {
    "_defaultOrder": 5,
    "_isFastLaunch": false,
    "category": "General purpose",
    "gpuNum": 0,
    "hideHardwareSpecs": false,
    "memoryGiB": 16,
    "name": "ml.m5.xlarge",
    "vcpuNum": 4
   },
   {
    "_defaultOrder": 6,
    "_isFastLaunch": false,
    "category": "General purpose",
    "gpuNum": 0,
    "hideHardwareSpecs": false,
    "memoryGiB": 32,
    "name": "ml.m5.2xlarge",
    "vcpuNum": 8
   },
   {
    "_defaultOrder": 7,
    "_isFastLaunch": false,
    "category": "General purpose",
    "gpuNum": 0,
    "hideHardwareSpecs": false,
    "memoryGiB": 64,
    "name": "ml.m5.4xlarge",
    "vcpuNum": 16
   },
   {
    "_defaultOrder": 8,
    "_isFastLaunch": false,
    "category": "General purpose",
    "gpuNum": 0,
    "hideHardwareSpecs": false,
    "memoryGiB": 128,
    "name": "ml.m5.8xlarge",
    "vcpuNum": 32
   },
   {
    "_defaultOrder": 9,
    "_isFastLaunch": false,
    "category": "General purpose",
    "gpuNum": 0,
    "hideHardwareSpecs": false,
    "memoryGiB": 192,
    "name": "ml.m5.12xlarge",
    "vcpuNum": 48
   },
   {
    "_defaultOrder": 10,
    "_isFastLaunch": false,
    "category": "General purpose",
    "gpuNum": 0,
    "hideHardwareSpecs": false,
    "memoryGiB": 256,
    "name": "ml.m5.16xlarge",
    "vcpuNum": 64
   },
   {
    "_defaultOrder": 11,
    "_isFastLaunch": false,
    "category": "General purpose",
    "gpuNum": 0,
    "hideHardwareSpecs": false,
    "memoryGiB": 384,
    "name": "ml.m5.24xlarge",
    "vcpuNum": 96
   },
   {
    "_defaultOrder": 12,
    "_isFastLaunch": false,
    "category": "General purpose",
    "gpuNum": 0,
    "hideHardwareSpecs": false,
    "memoryGiB": 8,
    "name": "ml.m5d.large",
    "vcpuNum": 2
   },
   {
    "_defaultOrder": 13,
    "_isFastLaunch": false,
    "category": "General purpose",
    "gpuNum": 0,
    "hideHardwareSpecs": false,
    "memoryGiB": 16,
    "name": "ml.m5d.xlarge",
    "vcpuNum": 4
   },
   {
    "_defaultOrder": 14,
    "_isFastLaunch": false,
    "category": "General purpose",
    "gpuNum": 0,
    "hideHardwareSpecs": false,
    "memoryGiB": 32,
    "name": "ml.m5d.2xlarge",
    "vcpuNum": 8
   },
   {
    "_defaultOrder": 15,
    "_isFastLaunch": false,
    "category": "General purpose",
    "gpuNum": 0,
    "hideHardwareSpecs": false,
    "memoryGiB": 64,
    "name": "ml.m5d.4xlarge",
    "vcpuNum": 16
   },
   {
    "_defaultOrder": 16,
    "_isFastLaunch": false,
    "category": "General purpose",
    "gpuNum": 0,
    "hideHardwareSpecs": false,
    "memoryGiB": 128,
    "name": "ml.m5d.8xlarge",
    "vcpuNum": 32
   },
   {
    "_defaultOrder": 17,
    "_isFastLaunch": false,
    "category": "General purpose",
    "gpuNum": 0,
    "hideHardwareSpecs": false,
    "memoryGiB": 192,
    "name": "ml.m5d.12xlarge",
    "vcpuNum": 48
   },
   {
    "_defaultOrder": 18,
    "_isFastLaunch": false,
    "category": "General purpose",
    "gpuNum": 0,
    "hideHardwareSpecs": false,
    "memoryGiB": 256,
    "name": "ml.m5d.16xlarge",
    "vcpuNum": 64
   },
   {
    "_defaultOrder": 19,
    "_isFastLaunch": false,
    "category": "General purpose",
    "gpuNum": 0,
    "hideHardwareSpecs": false,
    "memoryGiB": 384,
    "name": "ml.m5d.24xlarge",
    "vcpuNum": 96
   },
   {
    "_defaultOrder": 20,
    "_isFastLaunch": false,
    "category": "General purpose",
    "gpuNum": 0,
    "hideHardwareSpecs": true,
    "memoryGiB": 0,
    "name": "ml.geospatial.interactive",
    "supportedImageNames": [
     "sagemaker-geospatial-v1-0"
    ],
    "vcpuNum": 0
   },
   {
    "_defaultOrder": 21,
    "_isFastLaunch": true,
    "category": "Compute optimized",
    "gpuNum": 0,
    "hideHardwareSpecs": false,
    "memoryGiB": 4,
    "name": "ml.c5.large",
    "vcpuNum": 2
   },
   {
    "_defaultOrder": 22,
    "_isFastLaunch": false,
    "category": "Compute optimized",
    "gpuNum": 0,
    "hideHardwareSpecs": false,
    "memoryGiB": 8,
    "name": "ml.c5.xlarge",
    "vcpuNum": 4
   },
   {
    "_defaultOrder": 23,
    "_isFastLaunch": false,
    "category": "Compute optimized",
    "gpuNum": 0,
    "hideHardwareSpecs": false,
    "memoryGiB": 16,
    "name": "ml.c5.2xlarge",
    "vcpuNum": 8
   },
   {
    "_defaultOrder": 24,
    "_isFastLaunch": false,
    "category": "Compute optimized",
    "gpuNum": 0,
    "hideHardwareSpecs": false,
    "memoryGiB": 32,
    "name": "ml.c5.4xlarge",
    "vcpuNum": 16
   },
   {
    "_defaultOrder": 25,
    "_isFastLaunch": false,
    "category": "Compute optimized",
    "gpuNum": 0,
    "hideHardwareSpecs": false,
    "memoryGiB": 72,
    "name": "ml.c5.9xlarge",
    "vcpuNum": 36
   },
   {
    "_defaultOrder": 26,
    "_isFastLaunch": false,
    "category": "Compute optimized",
    "gpuNum": 0,
    "hideHardwareSpecs": false,
    "memoryGiB": 96,
    "name": "ml.c5.12xlarge",
    "vcpuNum": 48
   },
   {
    "_defaultOrder": 27,
    "_isFastLaunch": false,
    "category": "Compute optimized",
    "gpuNum": 0,
    "hideHardwareSpecs": false,
    "memoryGiB": 144,
    "name": "ml.c5.18xlarge",
    "vcpuNum": 72
   },
   {
    "_defaultOrder": 28,
    "_isFastLaunch": false,
    "category": "Compute optimized",
    "gpuNum": 0,
    "hideHardwareSpecs": false,
    "memoryGiB": 192,
    "name": "ml.c5.24xlarge",
    "vcpuNum": 96
   },
   {
    "_defaultOrder": 29,
    "_isFastLaunch": true,
    "category": "Accelerated computing",
    "gpuNum": 1,
    "hideHardwareSpecs": false,
    "memoryGiB": 16,
    "name": "ml.g4dn.xlarge",
    "vcpuNum": 4
   },
   {
    "_defaultOrder": 30,
    "_isFastLaunch": false,
    "category": "Accelerated computing",
    "gpuNum": 1,
    "hideHardwareSpecs": false,
    "memoryGiB": 32,
    "name": "ml.g4dn.2xlarge",
    "vcpuNum": 8
   },
   {
    "_defaultOrder": 31,
    "_isFastLaunch": false,
    "category": "Accelerated computing",
    "gpuNum": 1,
    "hideHardwareSpecs": false,
    "memoryGiB": 64,
    "name": "ml.g4dn.4xlarge",
    "vcpuNum": 16
   },
   {
    "_defaultOrder": 32,
    "_isFastLaunch": false,
    "category": "Accelerated computing",
    "gpuNum": 1,
    "hideHardwareSpecs": false,
    "memoryGiB": 128,
    "name": "ml.g4dn.8xlarge",
    "vcpuNum": 32
   },
   {
    "_defaultOrder": 33,
    "_isFastLaunch": false,
    "category": "Accelerated computing",
    "gpuNum": 4,
    "hideHardwareSpecs": false,
    "memoryGiB": 192,
    "name": "ml.g4dn.12xlarge",
    "vcpuNum": 48
   },
   {
    "_defaultOrder": 34,
    "_isFastLaunch": false,
    "category": "Accelerated computing",
    "gpuNum": 1,
    "hideHardwareSpecs": false,
    "memoryGiB": 256,
    "name": "ml.g4dn.16xlarge",
    "vcpuNum": 64
   },
   {
    "_defaultOrder": 35,
    "_isFastLaunch": false,
    "category": "Accelerated computing",
    "gpuNum": 1,
    "hideHardwareSpecs": false,
    "memoryGiB": 61,
    "name": "ml.p3.2xlarge",
    "vcpuNum": 8
   },
   {
    "_defaultOrder": 36,
    "_isFastLaunch": false,
    "category": "Accelerated computing",
    "gpuNum": 4,
    "hideHardwareSpecs": false,
    "memoryGiB": 244,
    "name": "ml.p3.8xlarge",
    "vcpuNum": 32
   },
   {
    "_defaultOrder": 37,
    "_isFastLaunch": false,
    "category": "Accelerated computing",
    "gpuNum": 8,
    "hideHardwareSpecs": false,
    "memoryGiB": 488,
    "name": "ml.p3.16xlarge",
    "vcpuNum": 64
   },
   {
    "_defaultOrder": 38,
    "_isFastLaunch": false,
    "category": "Accelerated computing",
    "gpuNum": 8,
    "hideHardwareSpecs": false,
    "memoryGiB": 768,
    "name": "ml.p3dn.24xlarge",
    "vcpuNum": 96
   },
   {
    "_defaultOrder": 39,
    "_isFastLaunch": false,
    "category": "Memory Optimized",
    "gpuNum": 0,
    "hideHardwareSpecs": false,
    "memoryGiB": 16,
    "name": "ml.r5.large",
    "vcpuNum": 2
   },
   {
    "_defaultOrder": 40,
    "_isFastLaunch": false,
    "category": "Memory Optimized",
    "gpuNum": 0,
    "hideHardwareSpecs": false,
    "memoryGiB": 32,
    "name": "ml.r5.xlarge",
    "vcpuNum": 4
   },
   {
    "_defaultOrder": 41,
    "_isFastLaunch": false,
    "category": "Memory Optimized",
    "gpuNum": 0,
    "hideHardwareSpecs": false,
    "memoryGiB": 64,
    "name": "ml.r5.2xlarge",
    "vcpuNum": 8
   },
   {
    "_defaultOrder": 42,
    "_isFastLaunch": false,
    "category": "Memory Optimized",
    "gpuNum": 0,
    "hideHardwareSpecs": false,
    "memoryGiB": 128,
    "name": "ml.r5.4xlarge",
    "vcpuNum": 16
   },
   {
    "_defaultOrder": 43,
    "_isFastLaunch": false,
    "category": "Memory Optimized",
    "gpuNum": 0,
    "hideHardwareSpecs": false,
    "memoryGiB": 256,
    "name": "ml.r5.8xlarge",
    "vcpuNum": 32
   },
   {
    "_defaultOrder": 44,
    "_isFastLaunch": false,
    "category": "Memory Optimized",
    "gpuNum": 0,
    "hideHardwareSpecs": false,
    "memoryGiB": 384,
    "name": "ml.r5.12xlarge",
    "vcpuNum": 48
   },
   {
    "_defaultOrder": 45,
    "_isFastLaunch": false,
    "category": "Memory Optimized",
    "gpuNum": 0,
    "hideHardwareSpecs": false,
    "memoryGiB": 512,
    "name": "ml.r5.16xlarge",
    "vcpuNum": 64
   },
   {
    "_defaultOrder": 46,
    "_isFastLaunch": false,
    "category": "Memory Optimized",
    "gpuNum": 0,
    "hideHardwareSpecs": false,
    "memoryGiB": 768,
    "name": "ml.r5.24xlarge",
    "vcpuNum": 96
   },
   {
    "_defaultOrder": 47,
    "_isFastLaunch": false,
    "category": "Accelerated computing",
    "gpuNum": 1,
    "hideHardwareSpecs": false,
    "memoryGiB": 16,
    "name": "ml.g5.xlarge",
    "vcpuNum": 4
   },
   {
    "_defaultOrder": 48,
    "_isFastLaunch": false,
    "category": "Accelerated computing",
    "gpuNum": 1,
    "hideHardwareSpecs": false,
    "memoryGiB": 32,
    "name": "ml.g5.2xlarge",
    "vcpuNum": 8
   },
   {
    "_defaultOrder": 49,
    "_isFastLaunch": false,
    "category": "Accelerated computing",
    "gpuNum": 1,
    "hideHardwareSpecs": false,
    "memoryGiB": 64,
    "name": "ml.g5.4xlarge",
    "vcpuNum": 16
   },
   {
    "_defaultOrder": 50,
    "_isFastLaunch": false,
    "category": "Accelerated computing",
    "gpuNum": 1,
    "hideHardwareSpecs": false,
    "memoryGiB": 128,
    "name": "ml.g5.8xlarge",
    "vcpuNum": 32
   },
   {
    "_defaultOrder": 51,
    "_isFastLaunch": false,
    "category": "Accelerated computing",
    "gpuNum": 1,
    "hideHardwareSpecs": false,
    "memoryGiB": 256,
    "name": "ml.g5.16xlarge",
    "vcpuNum": 64
   },
   {
    "_defaultOrder": 52,
    "_isFastLaunch": false,
    "category": "Accelerated computing",
    "gpuNum": 4,
    "hideHardwareSpecs": false,
    "memoryGiB": 192,
    "name": "ml.g5.12xlarge",
    "vcpuNum": 48
   },
   {
    "_defaultOrder": 53,
    "_isFastLaunch": false,
    "category": "Accelerated computing",
    "gpuNum": 4,
    "hideHardwareSpecs": false,
    "memoryGiB": 384,
    "name": "ml.g5.24xlarge",
    "vcpuNum": 96
   },
   {
    "_defaultOrder": 54,
    "_isFastLaunch": false,
    "category": "Accelerated computing",
    "gpuNum": 8,
    "hideHardwareSpecs": false,
    "memoryGiB": 768,
    "name": "ml.g5.48xlarge",
    "vcpuNum": 192
   },
   {
    "_defaultOrder": 55,
    "_isFastLaunch": false,
    "category": "Accelerated computing",
    "gpuNum": 8,
    "hideHardwareSpecs": false,
    "memoryGiB": 1152,
    "name": "ml.p4d.24xlarge",
    "vcpuNum": 96
   },
   {
    "_defaultOrder": 56,
    "_isFastLaunch": false,
    "category": "Accelerated computing",
    "gpuNum": 8,
    "hideHardwareSpecs": false,
    "memoryGiB": 1152,
    "name": "ml.p4de.24xlarge",
    "vcpuNum": 96
   }
  ],
  "instance_type": "ml.t3.medium",
  "kernelspec": {
   "name": "python3",
   "language": "python",
   "display_name": "Python 3 (ipykernel)"
  },
  "language_info": {
   "codemirror_mode": {
    "name": "ipython",
    "version": 3
   },
   "file_extension": ".py",
   "mimetype": "text/x-python",
   "name": "python",
   "nbconvert_exporter": "python",
   "pygments_lexer": "ipython3",
   "version": "3.10.6"
  },
  "pycharm": {
   "stem_cell": {
    "cell_type": "raw",
    "metadata": {
     "collapsed": false
    },
    "source": []
   }
  },
  "toc": {
   "base_numbering": 1,
   "nav_menu": {},
   "number_sections": true,
   "sideBar": true,
   "skip_h1_title": false,
   "title_cell": "Table of Contents",
   "title_sidebar": "Contents",
   "toc_cell": false,
   "toc_position": {},
   "toc_section_display": true,
   "toc_window_display": false
  },
  "varInspector": {
   "cols": {
    "lenName": 16,
    "lenType": 16,
    "lenVar": 40
   },
   "kernels_config": {
    "python": {
     "delete_cmd_postfix": "",
     "delete_cmd_prefix": "del ",
     "library": "var_list.py",
     "varRefreshCmd": "print(var_dic_list())"
    },
    "r": {
     "delete_cmd_postfix": ") ",
     "delete_cmd_prefix": "rm(",
     "library": "var_list.r",
     "varRefreshCmd": "cat(var_dic_list()) "
    }
   },
   "types_to_exclude": [
    "module",
    "function",
    "builtin_function_or_method",
    "instance",
    "_Feature"
   ],
   "window_display": false
  }
 },
 "nbformat": 4,
 "nbformat_minor": 4
}
