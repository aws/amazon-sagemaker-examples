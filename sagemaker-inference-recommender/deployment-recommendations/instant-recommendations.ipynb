{
 "cells": [
  {
   "cell_type": "markdown",
   "metadata": {},
   "source": [
    "# SageMaker Inference Recommender for Instant Recommendations\n",
    "\n",
    "This notebook demonstrates how to get instant deployment recommendations from the DescribeModel API\n",
    "\n",
    "The DescribeModel API can be found here: https://docs.aws.amazon.com/sagemaker/latest/APIReference/API_DescribeModel.html\n",
    "\n",
    "**This sample is provided for demonstration purposes, make sure to conduct appropriate testing if deriving this code for your own use-cases!**"
   ]
  },
  {
   "cell_type": "markdown",
   "metadata": {},
   "source": [
    "## Set Up"
   ]
  },
  {
   "cell_type": "code",
   "execution_count": 12,
   "metadata": {
    "tags": []
   },
   "outputs": [
    {
     "name": "stdout",
     "output_type": "stream",
     "text": [
      "Looking in indexes: https://pypi.org/simple, https://pip.repos.neuron.amazonaws.com\n",
      "Requirement already satisfied: boto3 in /home/ec2-user/anaconda3/envs/amazonei_pytorch_latest_p37/lib/python3.7/site-packages (1.26.140)\n",
      "Requirement already satisfied: jmespath<2.0.0,>=0.7.1 in /home/ec2-user/anaconda3/envs/amazonei_pytorch_latest_p37/lib/python3.7/site-packages (from boto3) (1.0.1)\n",
      "Requirement already satisfied: s3transfer<0.7.0,>=0.6.0 in /home/ec2-user/anaconda3/envs/amazonei_pytorch_latest_p37/lib/python3.7/site-packages (from boto3) (0.6.0)\n",
      "Requirement already satisfied: botocore<1.30.0,>=1.29.140 in /home/ec2-user/anaconda3/envs/amazonei_pytorch_latest_p37/lib/python3.7/site-packages (from boto3) (1.29.140)\n",
      "Requirement already satisfied: urllib3<1.27,>=1.25.4 in /home/ec2-user/anaconda3/envs/amazonei_pytorch_latest_p37/lib/python3.7/site-packages (from botocore<1.30.0,>=1.29.140->boto3) (1.26.8)\n",
      "Requirement already satisfied: python-dateutil<3.0.0,>=2.1 in /home/ec2-user/anaconda3/envs/amazonei_pytorch_latest_p37/lib/python3.7/site-packages (from botocore<1.30.0,>=1.29.140->boto3) (2.8.2)\n",
      "Requirement already satisfied: six>=1.5 in /home/ec2-user/anaconda3/envs/amazonei_pytorch_latest_p37/lib/python3.7/site-packages (from python-dateutil<3.0.0,>=2.1->botocore<1.30.0,>=1.29.140->boto3) (1.16.0)\n"
     ]
    }
   ],
   "source": [
    "!pip install boto3 --upgrade"
   ]
  },
  {
   "cell_type": "code",
   "execution_count": 15,
   "metadata": {
    "tags": []
   },
   "outputs": [],
   "source": [
    "import time\n",
    "import boto3\n",
    "import sagemaker\n",
    "import pandas as pd\n",
    "from uuid import uuid4\n",
    "from datetime import datetime, timedelta"
   ]
  },
  {
   "cell_type": "code",
   "execution_count": 16,
   "metadata": {
    "tags": []
   },
   "outputs": [],
   "source": [
    "sm_client = boto3.client(service_name=\"sagemaker\")"
   ]
  },
  {
   "cell_type": "markdown",
   "metadata": {},
   "source": [
    "## Step 1: Create the Model\n",
    "\n",
    "For this sample notebook, we will use a simple model specifying only a Tensorflow DLC"
   ]
  },
  {
   "cell_type": "code",
   "execution_count": 17,
   "metadata": {
    "tags": []
   },
   "outputs": [
    {
     "name": "stdout",
     "output_type": "stream",
     "text": [
      "instant-rec-demo-nb-model-c597a884-cb23-462b-a0e5-9ebfcdf9126f\n"
     ]
    }
   ],
   "source": [
    "model_name = \"instant-rec-demo-nb-model-\" + str(uuid4())\n",
    "print(model_name)"
   ]
  },
  {
   "cell_type": "code",
   "execution_count": 18,
   "metadata": {
    "tags": []
   },
   "outputs": [
    {
     "name": "stdout",
     "output_type": "stream",
     "text": [
      "520713654638.dkr.ecr.us-west-2.amazonaws.com/sagemaker-tensorflow-serving:1.12.0-cpu\n"
     ]
    }
   ],
   "source": [
    "region = boto3.Session().region_name\n",
    "image = sagemaker.image_uris.retrieve(\n",
    "    framework=\"tensorflow\",\n",
    "    region=region,\n",
    "    version=\"1.12.0\",\n",
    "    image_scope=\"inference\",\n",
    "    instance_type=\"ml.c5.4xlarge\",\n",
    ")\n",
    "print(image)"
   ]
  },
  {
   "cell_type": "code",
   "execution_count": 19,
   "metadata": {
    "tags": []
   },
   "outputs": [
    {
     "name": "stdout",
     "output_type": "stream",
     "text": [
      "{'ModelArn': 'arn:aws:sagemaker:us-west-2:337323248444:model/instant-rec-demo-nb-model-c597a884-cb23-462b-a0e5-9ebfcdf9126f', 'ResponseMetadata': {'RequestId': 'a2c3c7ca-937f-4e52-a51b-6df310c7254f', 'HTTPStatusCode': 200, 'HTTPHeaders': {'x-amzn-requestid': 'a2c3c7ca-937f-4e52-a51b-6df310c7254f', 'content-type': 'application/x-amz-json-1.1', 'content-length': '124', 'date': 'Thu, 25 May 2023 16:33:17 GMT'}, 'RetryAttempts': 0}}\n"
     ]
    }
   ],
   "source": [
    "execution_role = sagemaker.get_execution_role()\n",
    "\n",
    "create_model_response = sm_client.create_model(\n",
    "    ModelName=model_name, ExecutionRoleArn=execution_role, Containers=[{\"Image\": image}]\n",
    ")\n",
    "\n",
    "print(create_model_response)"
   ]
  },
  {
   "cell_type": "markdown",
   "metadata": {},
   "source": [
    "## Step 2: Describe the Model\n",
    "\n",
    "Describe the Model until `DeploymentRecommendations` goes into a `COMPLETED` state. On average, you should expect to have DeploymentRecommendations available within a second"
   ]
  },
  {
   "cell_type": "code",
   "execution_count": 20,
   "metadata": {
    "tags": []
   },
   "outputs": [
    {
     "name": "stdout",
     "output_type": "stream",
     "text": [
      "2023-05-25 16:33:19.899569 DeploymentRecommendation: {'RecommendationStatus': 'IN_PROGRESS'}\n",
      "2023-05-25 16:33:20.515336 DeploymentRecommendation: {'RecommendationStatus': 'COMPLETED', 'RealTimeInferenceRecommendations': [{'RecommendationId': 'instant-rec-demo-nb-model-c597a884-cb23-462b-a0e5-9ebfcdf9126f/xkEZXE8o', 'InstanceType': 'ml.g4dn.2xlarge', 'Environment': {}}, {'RecommendationId': 'instant-rec-demo-nb-model-c597a884-cb23-462b-a0e5-9ebfcdf9126f/E7rwqPBa', 'InstanceType': 'ml.c6i.large', 'Environment': {}}, {'RecommendationId': 'instant-rec-demo-nb-model-c597a884-cb23-462b-a0e5-9ebfcdf9126f/5PoiMLHb', 'InstanceType': 'ml.c5.2xlarge', 'Environment': {}}]}\n"
     ]
    }
   ],
   "source": [
    "completed = timed_out = False\n",
    "\n",
    "start = datetime.today()\n",
    "max_duration = start + timedelta(minutes=1)\n",
    "\n",
    "while not completed and not timed_out:\n",
    "    describe_model_response = sm_client.describe_model(ModelName=model_name)\n",
    "    deployment_recommendation = describe_model_response.get(\"DeploymentRecommendation\")\n",
    "\n",
    "    completed = (\n",
    "        deployment_recommendation is not None\n",
    "        and \"COMPLETED\" == deployment_recommendation.get(\"RecommendationStatus\")\n",
    "    )\n",
    "\n",
    "    time.sleep(0.5)\n",
    "    timed_out = datetime.today() > max_duration\n",
    "\n",
    "    print(datetime.today(), \"DeploymentRecommendation:\", deployment_recommendation)"
   ]
  },
  {
   "cell_type": "markdown",
   "metadata": {},
   "source": [
    "## Step 3: Visualize the DeploymentRecommendations"
   ]
  },
  {
   "cell_type": "code",
   "execution_count": 21,
   "metadata": {
    "scrolled": true,
    "tags": []
   },
   "outputs": [
    {
     "data": {
      "text/html": [
       "<div>\n",
       "<style scoped>\n",
       "    .dataframe tbody tr th:only-of-type {\n",
       "        vertical-align: middle;\n",
       "    }\n",
       "\n",
       "    .dataframe tbody tr th {\n",
       "        vertical-align: top;\n",
       "    }\n",
       "\n",
       "    .dataframe thead th {\n",
       "        text-align: right;\n",
       "    }\n",
       "</style>\n",
       "<table border=\"1\" class=\"dataframe\">\n",
       "  <thead>\n",
       "    <tr style=\"text-align: right;\">\n",
       "      <th></th>\n",
       "      <th>RecommendationId</th>\n",
       "      <th>InstanceType</th>\n",
       "      <th>Environment</th>\n",
       "    </tr>\n",
       "  </thead>\n",
       "  <tbody>\n",
       "    <tr>\n",
       "      <th>0</th>\n",
       "      <td>instant-rec-demo-nb-model-c597a884-cb23-462b-a0e5-9ebfcdf9126f/xkEZXE8o</td>\n",
       "      <td>ml.g4dn.2xlarge</td>\n",
       "      <td>{}</td>\n",
       "    </tr>\n",
       "    <tr>\n",
       "      <th>1</th>\n",
       "      <td>instant-rec-demo-nb-model-c597a884-cb23-462b-a0e5-9ebfcdf9126f/E7rwqPBa</td>\n",
       "      <td>ml.c6i.large</td>\n",
       "      <td>{}</td>\n",
       "    </tr>\n",
       "    <tr>\n",
       "      <th>2</th>\n",
       "      <td>instant-rec-demo-nb-model-c597a884-cb23-462b-a0e5-9ebfcdf9126f/5PoiMLHb</td>\n",
       "      <td>ml.c5.2xlarge</td>\n",
       "      <td>{}</td>\n",
       "    </tr>\n",
       "  </tbody>\n",
       "</table>\n",
       "</div>"
      ],
      "text/plain": [
       "                                                          RecommendationId  \\\n",
       "0  instant-rec-demo-nb-model-c597a884-cb23-462b-a0e5-9ebfcdf9126f/xkEZXE8o   \n",
       "1  instant-rec-demo-nb-model-c597a884-cb23-462b-a0e5-9ebfcdf9126f/E7rwqPBa   \n",
       "2  instant-rec-demo-nb-model-c597a884-cb23-462b-a0e5-9ebfcdf9126f/5PoiMLHb   \n",
       "\n",
       "      InstanceType Environment  \n",
       "0  ml.g4dn.2xlarge          {}  \n",
       "1     ml.c6i.large          {}  \n",
       "2    ml.c5.2xlarge          {}  "
      ]
     },
     "metadata": {},
     "output_type": "display_data"
    }
   ],
   "source": [
    "pd.set_option(\"display.max_colwidth\", None)\n",
    "df = pd.DataFrame(\n",
    "    deployment_recommendation.get(\"RealTimeInferenceRecommendations\"),\n",
    "    columns=[\"RecommendationId\", \"InstanceType\", \"Environment\"],\n",
    ")\n",
    "display(df)"
   ]
  },
  {
   "cell_type": "markdown",
   "metadata": {},
   "source": [
    "## Step 4: Cleanup"
   ]
  },
  {
   "cell_type": "code",
   "execution_count": 22,
   "metadata": {
    "tags": []
   },
   "outputs": [
    {
     "data": {
      "text/plain": [
       "{'ResponseMetadata': {'RequestId': '9bf56669-4f92-4803-97f8-f2bd3fdb193f',\n",
       "  'HTTPStatusCode': 200,\n",
       "  'HTTPHeaders': {'x-amzn-requestid': '9bf56669-4f92-4803-97f8-f2bd3fdb193f',\n",
       "   'content-type': 'application/x-amz-json-1.1',\n",
       "   'content-length': '0',\n",
       "   'date': 'Thu, 25 May 2023 16:33:23 GMT'},\n",
       "  'RetryAttempts': 0}}"
      ]
     },
     "execution_count": 22,
     "metadata": {},
     "output_type": "execute_result"
    }
   ],
   "source": [
    "sm_client.delete_model(ModelName=model_name)"
   ]
  }
 ],
 "metadata": {
  "instance_type": "ml.t3.medium",
  "kernelspec": {
   "display_name": "conda_amazonei_pytorch_latest_p37",
   "language": "python",
   "name": "conda_amazonei_pytorch_latest_p37"
  },
  "language_info": {
   "codemirror_mode": {
    "name": "ipython",
    "version": 3
   },
   "file_extension": ".py",
   "mimetype": "text/x-python",
   "name": "python",
   "nbconvert_exporter": "python",
   "pygments_lexer": "ipython3",
   "version": "3.7.10"
  }
 },
 "nbformat": 4,
 "nbformat_minor": 4
}
