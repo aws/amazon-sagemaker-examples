{
 "cells": [
  {
   "cell_type": "markdown",
   "metadata": {},
   "source": [
    "# Detect and Analyze Performance Bottlenecks\n",
    "\n",
    "This notebook walks you through how SageMaker Debugger detects performance bottlenecks and performs a root cause analysis for a SageMaker training job."
   ]
  },
  {
   "cell_type": "markdown",
   "metadata": {},
   "source": [
    "## Specify the training job name and the region name\n",
    "To start with this notebook, you need to specify the exact name of a training job you want to analyze."
   ]
  },
  {
   "cell_type": "code",
   "execution_count": null,
   "metadata": {},
   "outputs": [],
   "source": [
    "training_job_name = 'smprofiler-gpu-2020-08-06-07-09-31-626' # specify your training job name\n",
    "region = 'us-east-1'"
   ]
  },
  {
   "cell_type": "markdown",
   "metadata": {},
   "source": [
    "### Read profiler data: system metrics and framework metrics\n",
    "\n",
    "Once the training job is running SageMaker will collect system and framework metrics. The following code cell is waiting for the system metrics & framework metrics to become available in S3. Once they are available you will be able to query and plot those metrics."
   ]
  },
  {
   "cell_type": "code",
   "execution_count": null,
   "metadata": {},
   "outputs": [],
   "source": [
    "import pandas as pd\n",
    "from smdebug.profiler.analysis.notebook_utils.training_job import TrainingJob\n",
    "\n",
    "tj = TrainingJob(training_job_name, region)\n",
    "tj.wait_for_sys_profiling_data_to_be_available()"
   ]
  },
  {
   "cell_type": "markdown",
   "metadata": {},
   "source": [
    "# 2. Convert data into Pandas frame\n",
    "\n",
    "## 2.1 Pandas frame for system metrics\n",
    " \n",
    "Smdebug provides a class `PandasFrame` that converts profiler data into Pandas frames. "
   ]
  },
  {
   "cell_type": "code",
   "execution_count": null,
   "metadata": {},
   "outputs": [],
   "source": [
    "from smdebug.profiler.analysis.utils.profiler_data_to_pandas import PandasFrame\n",
    "\n",
    "pf = PandasFrame(tj.profiler_s3_output_path)"
   ]
  },
  {
   "cell_type": "markdown",
   "metadata": {},
   "source": [
    "Following function retrieves all system metrics:"
   ]
  },
  {
   "cell_type": "code",
   "execution_count": null,
   "metadata": {
    "scrolled": true
   },
   "outputs": [],
   "source": [
    "system_metrics_df = pf.get_all_system_metrics()"
   ]
  },
  {
   "cell_type": "markdown",
   "metadata": {},
   "source": [
    "Let's have a look on the Pandas frame for system metrics. It has the following entries:\n",
    "- **timestamp:** when system metrics has been recorded. The timestamp is a datetime object.\n",
    "- **timestamp_us:** when system metrics has been recorded. The timestamp is normalized by first timestamp. So first entry starts with 0.\n",
    "- **value:** utilization in percent\n",
    "- **system_metric:** name of the metric"
   ]
  },
  {
   "cell_type": "code",
   "execution_count": 6,
   "metadata": {},
   "outputs": [
    {
     "data": {
      "text/html": [
       "<div>\n",
       "<style scoped>\n",
       "    .dataframe tbody tr th:only-of-type {\n",
       "        vertical-align: middle;\n",
       "    }\n",
       "\n",
       "    .dataframe tbody tr th {\n",
       "        vertical-align: top;\n",
       "    }\n",
       "\n",
       "    .dataframe thead th {\n",
       "        text-align: right;\n",
       "    }\n",
       "</style>\n",
       "<table border=\"1\" class=\"dataframe\">\n",
       "  <thead>\n",
       "    <tr style=\"text-align: right;\">\n",
       "      <th></th>\n",
       "      <th>timestamp</th>\n",
       "      <th>timestamp_us</th>\n",
       "      <th>value</th>\n",
       "      <th>system_metric</th>\n",
       "    </tr>\n",
       "  </thead>\n",
       "  <tbody>\n",
       "    <tr>\n",
       "      <th>0</th>\n",
       "      <td>2020-08-06T07:12:35:624000</td>\n",
       "      <td>35624000</td>\n",
       "      <td>0.0</td>\n",
       "      <td>gpu3</td>\n",
       "    </tr>\n",
       "    <tr>\n",
       "      <th>1</th>\n",
       "      <td>2020-08-06T07:12:35:624000</td>\n",
       "      <td>35624000</td>\n",
       "      <td>0.0</td>\n",
       "      <td>gpu0</td>\n",
       "    </tr>\n",
       "    <tr>\n",
       "      <th>2</th>\n",
       "      <td>2020-08-06T07:12:35:624000</td>\n",
       "      <td>35624000</td>\n",
       "      <td>0.0</td>\n",
       "      <td>gpu1</td>\n",
       "    </tr>\n",
       "    <tr>\n",
       "      <th>3</th>\n",
       "      <td>2020-08-06T07:12:35:624000</td>\n",
       "      <td>35624000</td>\n",
       "      <td>0.0</td>\n",
       "      <td>gpu1</td>\n",
       "    </tr>\n",
       "    <tr>\n",
       "      <th>4</th>\n",
       "      <td>2020-08-06T07:12:35:624000</td>\n",
       "      <td>35624000</td>\n",
       "      <td>0.0</td>\n",
       "      <td>gpu2</td>\n",
       "    </tr>\n",
       "  </tbody>\n",
       "</table>\n",
       "</div>"
      ],
      "text/plain": [
       "                    timestamp  timestamp_us  value system_metric\n",
       "0  2020-08-06T07:12:35:624000      35624000    0.0          gpu3\n",
       "1  2020-08-06T07:12:35:624000      35624000    0.0          gpu0\n",
       "2  2020-08-06T07:12:35:624000      35624000    0.0          gpu1\n",
       "3  2020-08-06T07:12:35:624000      35624000    0.0          gpu1\n",
       "4  2020-08-06T07:12:35:624000      35624000    0.0          gpu2"
      ]
     },
     "execution_count": 6,
     "metadata": {},
     "output_type": "execute_result"
    }
   ],
   "source": [
    "system_metrics_df.head()"
   ]
  },
  {
   "cell_type": "markdown",
   "metadata": {},
   "source": [
    "Next we call `get_all_framework_metrics` that will return a dataframe for framework metrics. There are different metrics such as step duration, dataloading, preprocessing etc. The metrics typically correspond to certain function calls inside the DL framework. Depending on your training job there can be a singificant amount of framework metrics so it is recommended to not load all at once. Therefore the function `get_all_framework_metrics` takes a list of metrics to select. Here, we only select train step information:"
   ]
  },
  {
   "cell_type": "code",
   "execution_count": null,
   "metadata": {},
   "outputs": [],
   "source": [
    "framework_metrics_df = pf.get_all_framework_metrics(selected_framework_metrics=['Step:ModeKeys.TRAIN', 'Step:ModeKeys.GLOBAL'])"
   ]
  },
  {
   "cell_type": "markdown",
   "metadata": {},
   "source": [
    "Let's have a look on the dataframe. It has the following entries:\n",
    "- **start_time:** when the function call/event started. The timestamp is a datetime object.\n",
    "- **end_time:** when the function call/event ended. The timestamp is a datetime object.\n",
    "- **start_time_us:** when the function call/event started. The timestamp is in microseconds and normalized with the first timestamp in system metrics. This column can be used to merge framework and system metrics frame.\n",
    "- **end_time_us:** when the function call/event ended. The timestamp is in microseconds and normalized with the first timestamp in system metrics. This column can be used to merge framework and system metrics frame.\n",
    "- **tid:** ID of the thread that executed this function. This information can be used to analyze how many dataloading threads were running in parallel.\n",
    "- **pid:** ID of the process that executed this function. This information can be used to analyze how many dataloading threads were running in parallel.\n",
    "- **framework_metric:** function name/event name\n",
    "- **step:** step number when this event happened (only for steps)\n",
    "- **bytes:** how many bytes the function loaded (only for function that do data preprocessing)\n",
    "- **process:** group of functions \n",
    "    "
   ]
  },
  {
   "cell_type": "code",
   "execution_count": null,
   "metadata": {},
   "outputs": [],
   "source": [
    "framework_metrics_df.head()"
   ]
  },
  {
   "cell_type": "markdown",
   "metadata": {},
   "source": [
    "# 3. Simple Analysis\n",
    "\n",
    "## 3.1 Training job duration\n",
    "\n",
    "First we get some statistics about the training job itself. The function `get_job_statistics()` shows when the training job started and finished and how long the initialization, training loop and finalization took. Initialization is the time from the first system metric event (after instance has been created) to the first training step 0. \n",
    "During initialization and finalization, GPU will likely be at 0 percent utilization so we want to keep those times as small as possible.\n",
    "\n",
    "There can be many reasons for long initialization time e.g.: \n",
    "- if your training job has to pull large amounts of data from Amazon S3 and you are not using pipe mode, you may see a large intialization time\n",
    "- in case of multi GPU training we have observed that the time needed for model.compile() in Tensorflow linearly increased the more GPUs were used in the training\n",
    "\n",
    "Finalization is the time from the last training step to the last system metric event that is recorded before the instance is shut down by SageMaker. A very long finalization time can be caused by large model output files that have to be uploaded to Amazon S3 after training finished. "
   ]
  },
  {
   "cell_type": "code",
   "execution_count": 9,
   "metadata": {},
   "outputs": [],
   "source": [
    "from smdebug.profiler.analysis.utils.pandas_data_analysis import PandasFrameAnalysis, StatsBy\n",
    "\n",
    "pf_analysis = PandasFrameAnalysis(system_metrics_df, framework_metrics_df)"
   ]
  },
  {
   "cell_type": "code",
   "execution_count": 10,
   "metadata": {},
   "outputs": [
    {
     "data": {
      "text/html": [
       "<div>\n",
       "<style scoped>\n",
       "    .dataframe tbody tr th:only-of-type {\n",
       "        vertical-align: middle;\n",
       "    }\n",
       "\n",
       "    .dataframe tbody tr th {\n",
       "        vertical-align: top;\n",
       "    }\n",
       "\n",
       "    .dataframe thead th {\n",
       "        text-align: right;\n",
       "    }\n",
       "</style>\n",
       "<table border=\"1\" class=\"dataframe\">\n",
       "  <thead>\n",
       "    <tr style=\"text-align: right;\">\n",
       "      <th></th>\n",
       "      <th>0</th>\n",
       "    </tr>\n",
       "  </thead>\n",
       "  <tbody>\n",
       "    <tr>\n",
       "      <th>start_time</th>\n",
       "      <td>2020-08-06T07:12:35:624000</td>\n",
       "    </tr>\n",
       "    <tr>\n",
       "      <th>end_time</th>\n",
       "      <td>2020-08-06T07:32:59:760000</td>\n",
       "    </tr>\n",
       "    <tr>\n",
       "      <th>job_duration</th>\n",
       "      <td>1.22414e+06</td>\n",
       "    </tr>\n",
       "    <tr>\n",
       "      <th>training_loop_start</th>\n",
       "      <td>2020-08-06T07:16:21:226054</td>\n",
       "    </tr>\n",
       "    <tr>\n",
       "      <th>training_loop_end</th>\n",
       "      <td>2020-08-06T07:32:59:598278</td>\n",
       "    </tr>\n",
       "    <tr>\n",
       "      <th>training_loop_duration</th>\n",
       "      <td>998372</td>\n",
       "    </tr>\n",
       "    <tr>\n",
       "      <th>initialization</th>\n",
       "      <td>261226</td>\n",
       "    </tr>\n",
       "    <tr>\n",
       "      <th>finalization</th>\n",
       "      <td>161.722</td>\n",
       "    </tr>\n",
       "    <tr>\n",
       "      <th>initialization_%</th>\n",
       "      <td>21.3396</td>\n",
       "    </tr>\n",
       "    <tr>\n",
       "      <th>training_loop_%</th>\n",
       "      <td>81.5573</td>\n",
       "    </tr>\n",
       "    <tr>\n",
       "      <th>finalization_%</th>\n",
       "      <td>0.0132111</td>\n",
       "    </tr>\n",
       "  </tbody>\n",
       "</table>\n",
       "</div>"
      ],
      "text/plain": [
       "                                                 0\n",
       "start_time              2020-08-06T07:12:35:624000\n",
       "end_time                2020-08-06T07:32:59:760000\n",
       "job_duration                           1.22414e+06\n",
       "training_loop_start     2020-08-06T07:16:21:226054\n",
       "training_loop_end       2020-08-06T07:32:59:598278\n",
       "training_loop_duration                      998372\n",
       "initialization                              261226\n",
       "finalization                               161.722\n",
       "initialization_%                           21.3396\n",
       "training_loop_%                            81.5573\n",
       "finalization_%                           0.0132111"
      ]
     },
     "execution_count": 10,
     "metadata": {},
     "output_type": "execute_result"
    }
   ],
   "source": [
    "job_statistics = pf_analysis.get_job_statistics()\n",
    "job_statistics"
   ]
  },
  {
   "cell_type": "markdown",
   "metadata": {},
   "source": [
    "## 3.2 Step duration and utilization statistics\n",
    "\n",
    "Get step duration and resource utilization stats over the course of the training job."
   ]
  },
  {
   "cell_type": "code",
   "execution_count": 11,
   "metadata": {},
   "outputs": [
    {
     "data": {
      "text/html": [
       "<div>\n",
       "<style scoped>\n",
       "    .dataframe tbody tr th:only-of-type {\n",
       "        vertical-align: middle;\n",
       "    }\n",
       "\n",
       "    .dataframe tbody tr th {\n",
       "        vertical-align: top;\n",
       "    }\n",
       "\n",
       "    .dataframe thead th {\n",
       "        text-align: right;\n",
       "    }\n",
       "</style>\n",
       "<table border=\"1\" class=\"dataframe\">\n",
       "  <thead>\n",
       "    <tr style=\"text-align: right;\">\n",
       "      <th></th>\n",
       "      <th>training_phase</th>\n",
       "      <th>duration_mean_us</th>\n",
       "      <th>duration_min_us</th>\n",
       "      <th>duration_max_us</th>\n",
       "      <th>duration_p50_us</th>\n",
       "      <th>duration_p95_us</th>\n",
       "      <th>duration_p99_us</th>\n",
       "    </tr>\n",
       "  </thead>\n",
       "  <tbody>\n",
       "    <tr>\n",
       "      <th>0</th>\n",
       "      <td>Step:ModeKeys.TRAIN</td>\n",
       "      <td>119517.824325</td>\n",
       "      <td>34348.0</td>\n",
       "      <td>58214803.0</td>\n",
       "      <td>110331.125</td>\n",
       "      <td>138443.6</td>\n",
       "      <td>152692.44</td>\n",
       "    </tr>\n",
       "  </tbody>\n",
       "</table>\n",
       "</div>"
      ],
      "text/plain": [
       "        training_phase  duration_mean_us  duration_min_us  duration_max_us  \\\n",
       "0  Step:ModeKeys.TRAIN     119517.824325          34348.0       58214803.0   \n",
       "\n",
       "   duration_p50_us  duration_p95_us  duration_p99_us  \n",
       "0       110331.125         138443.6        152692.44  "
      ]
     },
     "execution_count": 11,
     "metadata": {},
     "output_type": "execute_result"
    }
   ],
   "source": [
    "pf_analysis.get_step_statistics(by=StatsBy.TRAINING_PHASE)"
   ]
  },
  {
   "cell_type": "code",
   "execution_count": 12,
   "metadata": {},
   "outputs": [
    {
     "data": {
      "text/html": [
       "<div>\n",
       "<style scoped>\n",
       "    .dataframe tbody tr th:only-of-type {\n",
       "        vertical-align: middle;\n",
       "    }\n",
       "\n",
       "    .dataframe tbody tr th {\n",
       "        vertical-align: top;\n",
       "    }\n",
       "\n",
       "    .dataframe thead th {\n",
       "        text-align: right;\n",
       "    }\n",
       "</style>\n",
       "<table border=\"1\" class=\"dataframe\">\n",
       "  <thead>\n",
       "    <tr style=\"text-align: right;\">\n",
       "      <th></th>\n",
       "      <th>Resource</th>\n",
       "      <th>utilization_mean_%</th>\n",
       "      <th>utilization_min_%</th>\n",
       "      <th>utilization_max_%</th>\n",
       "      <th>utilization_p50_%</th>\n",
       "      <th>utilization_p95_%</th>\n",
       "      <th>utilization_p99_%</th>\n",
       "    </tr>\n",
       "  </thead>\n",
       "  <tbody>\n",
       "    <tr>\n",
       "      <th>0</th>\n",
       "      <td>cpu</td>\n",
       "      <td>74.460677</td>\n",
       "      <td>-19.61</td>\n",
       "      <td>100.000000</td>\n",
       "      <td>100.0</td>\n",
       "      <td>100.000000</td>\n",
       "      <td>100.000000</td>\n",
       "    </tr>\n",
       "    <tr>\n",
       "      <th>1</th>\n",
       "      <td>gpu</td>\n",
       "      <td>47.322981</td>\n",
       "      <td>0.00</td>\n",
       "      <td>99.294554</td>\n",
       "      <td>19.0</td>\n",
       "      <td>99.294554</td>\n",
       "      <td>99.294554</td>\n",
       "    </tr>\n",
       "  </tbody>\n",
       "</table>\n",
       "</div>"
      ],
      "text/plain": [
       "  Resource  utilization_mean_%  utilization_min_%  utilization_max_%  \\\n",
       "0      cpu           74.460677             -19.61         100.000000   \n",
       "1      gpu           47.322981               0.00          99.294554   \n",
       "\n",
       "   utilization_p50_%  utilization_p95_%  utilization_p99_%  \n",
       "0              100.0         100.000000         100.000000  \n",
       "1               19.0          99.294554          99.294554  "
      ]
     },
     "execution_count": 12,
     "metadata": {},
     "output_type": "execute_result"
    }
   ],
   "source": [
    "pf_analysis.get_utilization_stats()"
   ]
  },
  {
   "cell_type": "markdown",
   "metadata": {},
   "source": [
    "## 3.3 Low GPU utilization\n",
    "\n",
    "Get all rows from Pandas frame which have GPU metrics."
   ]
  },
  {
   "cell_type": "code",
   "execution_count": 13,
   "metadata": {},
   "outputs": [
    {
     "data": {
      "text/plain": [
       "'2020-08-06T07:32:59:760000'"
      ]
     },
     "execution_count": 13,
     "metadata": {},
     "output_type": "execute_result"
    }
   ],
   "source": [
    "max(system_metrics_df['timestamp'])"
   ]
  },
  {
   "cell_type": "code",
   "execution_count": 14,
   "metadata": {},
   "outputs": [
    {
     "data": {
      "text/html": [
       "<div>\n",
       "<style scoped>\n",
       "    .dataframe tbody tr th:only-of-type {\n",
       "        vertical-align: middle;\n",
       "    }\n",
       "\n",
       "    .dataframe tbody tr th {\n",
       "        vertical-align: top;\n",
       "    }\n",
       "\n",
       "    .dataframe thead th {\n",
       "        text-align: right;\n",
       "    }\n",
       "</style>\n",
       "<table border=\"1\" class=\"dataframe\">\n",
       "  <thead>\n",
       "    <tr style=\"text-align: right;\">\n",
       "      <th></th>\n",
       "      <th>timestamp</th>\n",
       "      <th>timestamp_us</th>\n",
       "      <th>value</th>\n",
       "      <th>system_metric</th>\n",
       "    </tr>\n",
       "  </thead>\n",
       "  <tbody>\n",
       "    <tr>\n",
       "      <th>0</th>\n",
       "      <td>2020-08-06T07:12:35:624000</td>\n",
       "      <td>35624000</td>\n",
       "      <td>0.0</td>\n",
       "      <td>gpu3</td>\n",
       "    </tr>\n",
       "    <tr>\n",
       "      <th>1</th>\n",
       "      <td>2020-08-06T07:12:35:624000</td>\n",
       "      <td>35624000</td>\n",
       "      <td>0.0</td>\n",
       "      <td>gpu0</td>\n",
       "    </tr>\n",
       "    <tr>\n",
       "      <th>2</th>\n",
       "      <td>2020-08-06T07:12:35:624000</td>\n",
       "      <td>35624000</td>\n",
       "      <td>0.0</td>\n",
       "      <td>gpu1</td>\n",
       "    </tr>\n",
       "    <tr>\n",
       "      <th>3</th>\n",
       "      <td>2020-08-06T07:12:35:624000</td>\n",
       "      <td>35624000</td>\n",
       "      <td>0.0</td>\n",
       "      <td>gpu1</td>\n",
       "    </tr>\n",
       "    <tr>\n",
       "      <th>4</th>\n",
       "      <td>2020-08-06T07:12:35:624000</td>\n",
       "      <td>35624000</td>\n",
       "      <td>0.0</td>\n",
       "      <td>gpu2</td>\n",
       "    </tr>\n",
       "  </tbody>\n",
       "</table>\n",
       "</div>"
      ],
      "text/plain": [
       "                    timestamp  timestamp_us  value system_metric\n",
       "0  2020-08-06T07:12:35:624000      35624000    0.0          gpu3\n",
       "1  2020-08-06T07:12:35:624000      35624000    0.0          gpu0\n",
       "2  2020-08-06T07:12:35:624000      35624000    0.0          gpu1\n",
       "3  2020-08-06T07:12:35:624000      35624000    0.0          gpu1\n",
       "4  2020-08-06T07:12:35:624000      35624000    0.0          gpu2"
      ]
     },
     "execution_count": 14,
     "metadata": {},
     "output_type": "execute_result"
    }
   ],
   "source": [
    "gpus = system_metrics_df[system_metrics_df['dimension'] == 'GPUUtilization']\n",
    "gpus.head()"
   ]
  },
  {
   "cell_type": "markdown",
   "metadata": {},
   "source": [
    "Find all rows that have low GPU utilization:"
   ]
  },
  {
   "cell_type": "code",
   "execution_count": 15,
   "metadata": {},
   "outputs": [
    {
     "name": "stdout",
     "output_type": "stream",
     "text": [
      "4058 datapoints out of 19584 where GPU utilization was at 0.\n"
     ]
    }
   ],
   "source": [
    "print(len(gpus.loc[gpus['value'] == 0.0]), \"datapoints out of\", len(gpus), \"where GPU utilization was at 0.\")"
   ]
  },
  {
   "cell_type": "code",
   "execution_count": 16,
   "metadata": {},
   "outputs": [
    {
     "name": "stdout",
     "output_type": "stream",
     "text": [
      "11438 datapoints out of 19584 where GPU utilization was below 50.\n"
     ]
    }
   ],
   "source": [
    "print(len(gpus.loc[gpus['value'] < 50.0]), \"datapoints out of\", len(gpus), \"where GPU utilization was below 50.\")"
   ]
  },
  {
   "cell_type": "markdown",
   "metadata": {},
   "source": [
    "Histogram of GPU utilization values. This plots shows the similar histogram like the one in the generic dashboards notebook:"
   ]
  },
  {
   "cell_type": "code",
   "execution_count": 17,
   "metadata": {},
   "outputs": [
    {
     "data": {
      "text/plain": [
       "<matplotlib.axes._subplots.AxesSubplot at 0x7f55b6b4c908>"
      ]
     },
     "execution_count": 17,
     "metadata": {},
     "output_type": "execute_result"
    },
    {
     "data": {
      "image/png": "[encoded data removed]",
      "text/plain": [
       "<Figure size 432x288 with 1 Axes>"
      ]
     },
     "metadata": {
      "needs_background": "light"
     },
     "output_type": "display_data"
    }
   ],
   "source": [
    "gpus['value'].plot.hist(bins=50, alpha=0.5)"
   ]
  },
  {
   "cell_type": "markdown",
   "metadata": {},
   "source": [
    "We can now select GPU utilization values from different training phases (initialization, training loop and finalization) and get a histogram for those phases. The following cell retrieves the utilization values for initialization and we can then compare it with the histogram above:"
   ]
  },
  {
   "cell_type": "code",
   "execution_count": 18,
   "metadata": {},
   "outputs": [],
   "source": [
    "gpus_training_loop = gpus[(gpus['timestamp'] < job_statistics['training_loop_start'])] "
   ]
  },
  {
   "cell_type": "code",
   "execution_count": 19,
   "metadata": {},
   "outputs": [
    {
     "data": {
      "text/plain": [
       "<matplotlib.axes._subplots.AxesSubplot at 0x7f55b5cced68>"
      ]
     },
     "execution_count": 19,
     "metadata": {},
     "output_type": "execute_result"
    },
    {
     "data": {
      "image/png": "[encoded data removed]",
      "text/plain": [
       "<Figure size 432x288 with 1 Axes>"
      ]
     },
     "metadata": {
      "needs_background": "light"
     },
     "output_type": "display_data"
    }
   ],
   "source": [
    "gpus_training_loop['value'].plot.hist(bins=50, alpha=0.5)"
   ]
  },
  {
   "cell_type": "markdown",
   "metadata": {},
   "source": [
    "## 3.4 Low CPU utilization\n",
    "\n",
    "\n",
    "Get all rows from Pandas frame which have CPU metrics."
   ]
  },
  {
   "cell_type": "code",
   "execution_count": 20,
   "metadata": {},
   "outputs": [
    {
     "data": {
      "text/html": [
       "<div>\n",
       "<style scoped>\n",
       "    .dataframe tbody tr th:only-of-type {\n",
       "        vertical-align: middle;\n",
       "    }\n",
       "\n",
       "    .dataframe tbody tr th {\n",
       "        vertical-align: top;\n",
       "    }\n",
       "\n",
       "    .dataframe thead th {\n",
       "        text-align: right;\n",
       "    }\n",
       "</style>\n",
       "<table border=\"1\" class=\"dataframe\">\n",
       "  <thead>\n",
       "    <tr style=\"text-align: right;\">\n",
       "      <th></th>\n",
       "      <th>timestamp</th>\n",
       "      <th>timestamp_us</th>\n",
       "      <th>value</th>\n",
       "      <th>system_metric</th>\n",
       "    </tr>\n",
       "  </thead>\n",
       "  <tbody>\n",
       "    <tr>\n",
       "      <th>16</th>\n",
       "      <td>2020-08-06T07:12:36:124000</td>\n",
       "      <td>36124000</td>\n",
       "      <td>0.00</td>\n",
       "      <td>cpu8</td>\n",
       "    </tr>\n",
       "    <tr>\n",
       "      <th>17</th>\n",
       "      <td>2020-08-06T07:12:36:124000</td>\n",
       "      <td>36124000</td>\n",
       "      <td>2.00</td>\n",
       "      <td>cpu9</td>\n",
       "    </tr>\n",
       "    <tr>\n",
       "      <th>18</th>\n",
       "      <td>2020-08-06T07:12:36:124000</td>\n",
       "      <td>36124000</td>\n",
       "      <td>0.00</td>\n",
       "      <td>cpu10</td>\n",
       "    </tr>\n",
       "    <tr>\n",
       "      <th>19</th>\n",
       "      <td>2020-08-06T07:12:36:124000</td>\n",
       "      <td>36124000</td>\n",
       "      <td>96.15</td>\n",
       "      <td>cpu11</td>\n",
       "    </tr>\n",
       "    <tr>\n",
       "      <th>20</th>\n",
       "      <td>2020-08-06T07:12:36:124000</td>\n",
       "      <td>36124000</td>\n",
       "      <td>0.00</td>\n",
       "      <td>cpu22</td>\n",
       "    </tr>\n",
       "  </tbody>\n",
       "</table>\n",
       "</div>"
      ],
      "text/plain": [
       "                     timestamp  timestamp_us  value system_metric\n",
       "16  2020-08-06T07:12:36:124000      36124000   0.00          cpu8\n",
       "17  2020-08-06T07:12:36:124000      36124000   2.00          cpu9\n",
       "18  2020-08-06T07:12:36:124000      36124000   0.00         cpu10\n",
       "19  2020-08-06T07:12:36:124000      36124000  96.15         cpu11\n",
       "20  2020-08-06T07:12:36:124000      36124000   0.00         cpu22"
      ]
     },
     "execution_count": 20,
     "metadata": {},
     "output_type": "execute_result"
    }
   ],
   "source": [
    "cpus = system_metrics_df[system_metrics_df['system_metric'].str.match('cpu')]\n",
    "cpus.head()"
   ]
  },
  {
   "cell_type": "markdown",
   "metadata": {},
   "source": [
    "Find all rows that have low CPU utilization:"
   ]
  },
  {
   "cell_type": "code",
   "execution_count": 21,
   "metadata": {},
   "outputs": [
    {
     "name": "stdout",
     "output_type": "stream",
     "text": [
      "13072 datapoints out of 78304 where CPU utilization was at 0.\n"
     ]
    }
   ],
   "source": [
    "print(len(cpus.loc[cpus['value'] == 0.0]), \"datapoints out of\", len(cpus), \"where CPU utilization was at 0.\")"
   ]
  },
  {
   "cell_type": "code",
   "execution_count": 22,
   "metadata": {},
   "outputs": [
    {
     "name": "stdout",
     "output_type": "stream",
     "text": [
      "19721 datapoints out of 78304 where CPU utilization was below 50.\n"
     ]
    }
   ],
   "source": [
    "print(len(cpus.loc[cpus['value'] < 50.0]), \"datapoints out of\", len(cpus), \"where CPU utilization was below 50.\")"
   ]
  },
  {
   "cell_type": "markdown",
   "metadata": {},
   "source": [
    "Histogram of CPU utilization values. This plots shows the similar histogram like the one in the generic dashboards notebook:"
   ]
  },
  {
   "cell_type": "code",
   "execution_count": 23,
   "metadata": {},
   "outputs": [
    {
     "data": {
      "text/plain": [
       "<matplotlib.axes._subplots.AxesSubplot at 0x7f55b62d4ef0>"
      ]
     },
     "execution_count": 23,
     "metadata": {},
     "output_type": "execute_result"
    },
    {
     "data": {
      "image/png": "[encoded data removed]",
      "text/plain": [
       "<Figure size 432x288 with 1 Axes>"
      ]
     },
     "metadata": {
      "needs_background": "light"
     },
     "output_type": "display_data"
    }
   ],
   "source": [
    "cpus['value'].plot.hist(bins=50, alpha=0.5)"
   ]
  },
  {
   "cell_type": "markdown",
   "metadata": {},
   "source": [
    "We can now select CPU utilization values from different training phases (initialization, training loop and finalization) and get a histogram for those phases. The following cell retrieves the utilization values for initialization and we can then compare it with the histogram above:"
   ]
  },
  {
   "cell_type": "code",
   "execution_count": 24,
   "metadata": {},
   "outputs": [],
   "source": [
    "cpus_initialization = cpus[cpus['timestamp'] < job_statistics['training_loop_start']]"
   ]
  },
  {
   "cell_type": "code",
   "execution_count": 25,
   "metadata": {},
   "outputs": [
    {
     "data": {
      "text/plain": [
       "<matplotlib.axes._subplots.AxesSubplot at 0x7f55b67e5390>"
      ]
     },
     "execution_count": 25,
     "metadata": {},
     "output_type": "execute_result"
    },
    {
     "data": {
      "image/png": "[encoded data removed]",
      "text/plain": [
       "<Figure size 432x288 with 1 Axes>"
      ]
     },
     "metadata": {
      "needs_background": "light"
     },
     "output_type": "display_data"
    }
   ],
   "source": [
    "cpus_initialization['value'].plot.hist(bins=50, alpha=0.5)"
   ]
  },
  {
   "cell_type": "markdown",
   "metadata": {},
   "source": [
    "## 3.5 Detect CPU bottlenecks\n",
    "The time periods where GPU was at 0 percent but CPU was at a 100 percent may indicate a CPU bottleneck. This can for instance happen if data preprocessing is compute intensive and GPU is therefore waiting for new data batches to arrive. Let's retrieve the values when CPU was above 90% utilization and GPU below 10%:"
   ]
  },
  {
   "cell_type": "code",
   "execution_count": 26,
   "metadata": {},
   "outputs": [],
   "source": [
    "high_cpu = cpus[cpus['value'] > 90.0]\n",
    "low_gpu = gpus[gpus['value'] <= 10.0]\n"
   ]
  },
  {
   "cell_type": "markdown",
   "metadata": {},
   "source": [
    "Next we merge both frames on the timestamp, which gives us the timestamps of the CPU bottlenecks:"
   ]
  },
  {
   "cell_type": "code",
   "execution_count": 27,
   "metadata": {},
   "outputs": [
    {
     "data": {
      "text/html": [
       "<div>\n",
       "<style scoped>\n",
       "    .dataframe tbody tr th:only-of-type {\n",
       "        vertical-align: middle;\n",
       "    }\n",
       "\n",
       "    .dataframe tbody tr th {\n",
       "        vertical-align: top;\n",
       "    }\n",
       "\n",
       "    .dataframe thead th {\n",
       "        text-align: right;\n",
       "    }\n",
       "</style>\n",
       "<table border=\"1\" class=\"dataframe\">\n",
       "  <thead>\n",
       "    <tr style=\"text-align: right;\">\n",
       "      <th></th>\n",
       "      <th>timestamp</th>\n",
       "      <th>timestamp_us_x</th>\n",
       "      <th>value_x</th>\n",
       "      <th>system_metric_x</th>\n",
       "      <th>timestamp_us_y</th>\n",
       "      <th>value_y</th>\n",
       "      <th>system_metric_y</th>\n",
       "    </tr>\n",
       "  </thead>\n",
       "  <tbody>\n",
       "    <tr>\n",
       "      <th>0</th>\n",
       "      <td>2020-08-06T07:12:36:124000</td>\n",
       "      <td>36124000</td>\n",
       "      <td>0.0</td>\n",
       "      <td>gpu2</td>\n",
       "      <td>36124000</td>\n",
       "      <td>96.15</td>\n",
       "      <td>cpu11</td>\n",
       "    </tr>\n",
       "    <tr>\n",
       "      <th>2</th>\n",
       "      <td>2020-08-06T07:12:36:124000</td>\n",
       "      <td>36124000</td>\n",
       "      <td>0.0</td>\n",
       "      <td>gpu1</td>\n",
       "      <td>36124000</td>\n",
       "      <td>96.15</td>\n",
       "      <td>cpu11</td>\n",
       "    </tr>\n",
       "    <tr>\n",
       "      <th>3</th>\n",
       "      <td>2020-08-06T07:12:36:124000</td>\n",
       "      <td>36124000</td>\n",
       "      <td>0.0</td>\n",
       "      <td>gpu0</td>\n",
       "      <td>36124000</td>\n",
       "      <td>96.15</td>\n",
       "      <td>cpu11</td>\n",
       "    </tr>\n",
       "    <tr>\n",
       "      <th>6</th>\n",
       "      <td>2020-08-06T07:12:36:124000</td>\n",
       "      <td>36124000</td>\n",
       "      <td>0.0</td>\n",
       "      <td>gpu3</td>\n",
       "      <td>36124000</td>\n",
       "      <td>96.15</td>\n",
       "      <td>cpu11</td>\n",
       "    </tr>\n",
       "    <tr>\n",
       "      <th>8</th>\n",
       "      <td>2020-08-06T07:12:36:624000</td>\n",
       "      <td>36624000</td>\n",
       "      <td>0.0</td>\n",
       "      <td>gpu3</td>\n",
       "      <td>36624000</td>\n",
       "      <td>100.00</td>\n",
       "      <td>cpu11</td>\n",
       "    </tr>\n",
       "  </tbody>\n",
       "</table>\n",
       "</div>"
      ],
      "text/plain": [
       "                    timestamp  timestamp_us_x  value_x system_metric_x  \\\n",
       "0  2020-08-06T07:12:36:124000        36124000      0.0            gpu2   \n",
       "2  2020-08-06T07:12:36:124000        36124000      0.0            gpu1   \n",
       "3  2020-08-06T07:12:36:124000        36124000      0.0            gpu0   \n",
       "6  2020-08-06T07:12:36:124000        36124000      0.0            gpu3   \n",
       "8  2020-08-06T07:12:36:624000        36624000      0.0            gpu3   \n",
       "\n",
       "   timestamp_us_y  value_y system_metric_y  \n",
       "0        36124000    96.15           cpu11  \n",
       "2        36124000    96.15           cpu11  \n",
       "3        36124000    96.15           cpu11  \n",
       "6        36124000    96.15           cpu11  \n",
       "8        36624000   100.00           cpu11  "
      ]
     },
     "execution_count": 27,
     "metadata": {},
     "output_type": "execute_result"
    }
   ],
   "source": [
    "cpu_bottleneck = low_gpu.merge(high_cpu, on='timestamp', how='inner')\n",
    "cpu_bottleneck = cpu_bottleneck.drop_duplicates(subset=['system_metric_x','timestamp'], keep='first')\n",
    "cpu_bottleneck.head()\n"
   ]
  },
  {
   "cell_type": "code",
   "execution_count": null,
   "metadata": {},
   "outputs": [],
   "source": [
    "for timestamp in cpu_bottleneck['timestamp'].unique():\n",
    "    print('CPU bottleneck observed at', timestamp)\n",
    "    "
   ]
  },
  {
   "cell_type": "markdown",
   "metadata": {},
   "source": [
    "Get CPU bottlenecks that happen during the training loop:"
   ]
  },
  {
   "cell_type": "code",
   "execution_count": 29,
   "metadata": {},
   "outputs": [],
   "source": [
    "cpu_bottleneck_training_loop = cpu_bottleneck[cpu_bottleneck['timestamp'] > job_statistics['training_loop_start']]"
   ]
  },
  {
   "cell_type": "code",
   "execution_count": 66,
   "metadata": {},
   "outputs": [
    {
     "data": {
      "text/html": [
       "<div>\n",
       "<style scoped>\n",
       "    .dataframe tbody tr th:only-of-type {\n",
       "        vertical-align: middle;\n",
       "    }\n",
       "\n",
       "    .dataframe tbody tr th {\n",
       "        vertical-align: top;\n",
       "    }\n",
       "\n",
       "    .dataframe thead th {\n",
       "        text-align: right;\n",
       "    }\n",
       "</style>\n",
       "<table border=\"1\" class=\"dataframe\">\n",
       "  <thead>\n",
       "    <tr style=\"text-align: right;\">\n",
       "      <th></th>\n",
       "      <th>timestamp</th>\n",
       "      <th>timestamp_us_x</th>\n",
       "      <th>value_x</th>\n",
       "      <th>system_metric_x</th>\n",
       "      <th>timestamp_us_y</th>\n",
       "      <th>value_y</th>\n",
       "      <th>system_metric_y</th>\n",
       "    </tr>\n",
       "  </thead>\n",
       "  <tbody>\n",
       "    <tr>\n",
       "      <th>2356</th>\n",
       "      <td>2020-08-06T07:16:21:706000</td>\n",
       "      <td>261706000</td>\n",
       "      <td>0.0</td>\n",
       "      <td>gpu1</td>\n",
       "      <td>261706000</td>\n",
       "      <td>100.0</td>\n",
       "      <td>cpu11</td>\n",
       "    </tr>\n",
       "    <tr>\n",
       "      <th>2358</th>\n",
       "      <td>2020-08-06T07:16:21:706000</td>\n",
       "      <td>261706000</td>\n",
       "      <td>0.0</td>\n",
       "      <td>gpu2</td>\n",
       "      <td>261706000</td>\n",
       "      <td>100.0</td>\n",
       "      <td>cpu11</td>\n",
       "    </tr>\n",
       "    <tr>\n",
       "      <th>2360</th>\n",
       "      <td>2020-08-06T07:16:21:706000</td>\n",
       "      <td>261706000</td>\n",
       "      <td>0.0</td>\n",
       "      <td>gpu3</td>\n",
       "      <td>261706000</td>\n",
       "      <td>100.0</td>\n",
       "      <td>cpu11</td>\n",
       "    </tr>\n",
       "    <tr>\n",
       "      <th>2362</th>\n",
       "      <td>2020-08-06T07:16:21:706000</td>\n",
       "      <td>261706000</td>\n",
       "      <td>0.0</td>\n",
       "      <td>gpu0</td>\n",
       "      <td>261706000</td>\n",
       "      <td>100.0</td>\n",
       "      <td>cpu11</td>\n",
       "    </tr>\n",
       "    <tr>\n",
       "      <th>2364</th>\n",
       "      <td>2020-08-06T07:16:22:207000</td>\n",
       "      <td>262207000</td>\n",
       "      <td>0.0</td>\n",
       "      <td>gpu2</td>\n",
       "      <td>262207000</td>\n",
       "      <td>98.0</td>\n",
       "      <td>cpu11</td>\n",
       "    </tr>\n",
       "  </tbody>\n",
       "</table>\n",
       "</div>"
      ],
      "text/plain": [
       "                       timestamp  timestamp_us_x  value_x system_metric_x  \\\n",
       "2356  2020-08-06T07:16:21:706000       261706000      0.0            gpu1   \n",
       "2358  2020-08-06T07:16:21:706000       261706000      0.0            gpu2   \n",
       "2360  2020-08-06T07:16:21:706000       261706000      0.0            gpu3   \n",
       "2362  2020-08-06T07:16:21:706000       261706000      0.0            gpu0   \n",
       "2364  2020-08-06T07:16:22:207000       262207000      0.0            gpu2   \n",
       "\n",
       "      timestamp_us_y  value_y system_metric_y  \n",
       "2356       261706000    100.0           cpu11  \n",
       "2358       261706000    100.0           cpu11  \n",
       "2360       261706000    100.0           cpu11  \n",
       "2362       261706000    100.0           cpu11  \n",
       "2364       262207000     98.0           cpu11  "
      ]
     },
     "execution_count": 66,
     "metadata": {},
     "output_type": "execute_result"
    }
   ],
   "source": [
    "cpu_bottleneck_training_loop.head()"
   ]
  },
  {
   "cell_type": "markdown",
   "metadata": {},
   "source": [
    "## 3.6 GPU usage during training loop \n",
    "\n",
    "Optimizing the performance of ML model training means to increase GPU usage. Let's create a Pie chart that shows the proportion between low and high GPU usage. We define the following intervals:\n",
    "- GPU usage above 90%: optimal GPU usage\n",
    "- GPU usage above 10% but below 90%: sub-optimal GPU usage\n",
    "- GPU usage below 10% but CPU usage not at 100%: low GPU usage \n",
    "- CPU usage above 90% and GPU usage below 10%: low GPU usage likely due to CPU bottleneck\n",
    "\n",
    "The Pie chart gives a rough estimate by how much we could possibly improve the training job performance."
   ]
  },
  {
   "cell_type": "code",
   "execution_count": 30,
   "metadata": {},
   "outputs": [],
   "source": [
    "system_usage = {'high_gpu_usage': len(gpus_training_loop[(gpus_training_loop['value'] > 90.0)]),\n",
    "                'suboptimal_gpu_usage': len(gpus_training_loop[(gpus_training_loop['value'] < 90.0) & (gpus_training_loop['value'] > 10.0)]),\n",
    "                'low_gpu_usage': len(gpus_training_loop[(gpus_training_loop['value'] <= 10.0)]) - len(cpu_bottleneck_training_loop),\n",
    "                'cpu_bottleneck': len(cpu_bottleneck_training_loop)}\n"
   ]
  },
  {
   "cell_type": "code",
   "execution_count": 31,
   "metadata": {},
   "outputs": [
    {
     "data": {
      "image/png": "[encoded data removed]",
      "text/plain": [
       "<Figure size 432x288 with 1 Axes>"
      ]
     },
     "metadata": {},
     "output_type": "display_data"
    }
   ],
   "source": [
    "import matplotlib.pyplot as plt\n",
    "\n",
    "plt.pie(system_usage.values(), autopct='%1.1f%%', labels=system_usage.keys(), labeldistance=1.3)\n",
    "plt.show()"
   ]
  },
  {
   "cell_type": "markdown",
   "metadata": {},
   "source": [
    "## 3.7 Detect workload balancing issues in multi-GPU training\n",
    "\n",
    "If usage on one GPU is much higher compared to the remaining GPUs, then this indicates an isuee with how workload is distributed across multiple GPUs. We can determine such an issue in the generic dashboards notebook by looking at the histogram of usage values for different GPUs and check how much they differ. The following code cell will compute the histogram of usage values per GPU and measure the distance between the histograms."
   ]
  },
  {
   "cell_type": "code",
   "execution_count": 32,
   "metadata": {},
   "outputs": [],
   "source": [
    "n_gpus = len(gpus['system_metric'].unique())"
   ]
  },
  {
   "cell_type": "markdown",
   "metadata": {},
   "source": [
    "Compute histogram of usage values per GPU:"
   ]
  },
  {
   "cell_type": "code",
   "execution_count": 33,
   "metadata": {},
   "outputs": [],
   "source": [
    "import numpy as np\n",
    "\n",
    "distributions = {}\n",
    "for gpu in range(n_gpus):\n",
    "    values = gpus[gpus['system_metric'] == 'gpu' + str(gpu)]['value']\n",
    "    bins = np.arange(0, 100, 2)\n",
    "    probs, binedges = np.histogram(values, bins=bins)\n",
    "    distributions[gpu] = probs\n"
   ]
  },
  {
   "cell_type": "markdown",
   "metadata": {},
   "source": [
    "Find which usage patterns exceed the threshold:"
   ]
  },
  {
   "cell_type": "code",
   "execution_count": 34,
   "metadata": {},
   "outputs": [
    {
     "name": "stdout",
     "output_type": "stream",
     "text": [
      "Workload between GPU 0 and 1 do not differ\n",
      "Workload between GPU 0 and 2 do not differ\n",
      "Workload between GPU 0 and 3 do not differ\n",
      "Workload between GPU 1 and 2 do not differ\n",
      "Workload between GPU 1 and 3 do not differ\n",
      "Workload between GPU 2 and 3 do not differ\n"
     ]
    }
   ],
   "source": [
    "from scipy import stats\n",
    "\n",
    "for gpu1 in range(n_gpus):\n",
    "    for gpu2 in range(gpu1+1, n_gpus):\n",
    "        m = (distributions[gpu1] + distributions[gpu2]) / 2\n",
    "        divergence = (stats.entropy(distributions[gpu1], m) + stats.entropy(distributions[gpu2], m)) / 2\n",
    "        distance = np.sqrt(divergence)\n",
    "        \n",
    "        if distance > 0.5:\n",
    "            print('Workload between GPU', gpu1, 'and', gpu2, 'differs significantly. ')\n",
    "        else:\n",
    "            print('Workload between GPU', gpu1, 'and', gpu2, 'do not differ')"
   ]
  },
  {
   "cell_type": "markdown",
   "metadata": {},
   "source": [
    "## 3.8 Detect outliers in step duration\n",
    "\n",
    "We would expect that the average duration of training steps should be roughly the same. If there are significant outliers, it may indicate an issue. The following code cell computes the step duration and its median value."
   ]
  },
  {
   "cell_type": "code",
   "execution_count": 35,
   "metadata": {},
   "outputs": [],
   "source": [
    "train_steps = framework_metrics_df[framework_metrics_df['framework_metric'].isin(['Step:ModeKeys.TRAIN', 'Step:ModeKeys.GLOBAL'])]\n",
    "step_durations = train_steps['end_time_us'] - train_steps['start_time_us']\n",
    "median_train_steptime = step_durations.median()\n"
   ]
  },
  {
   "cell_type": "markdown",
   "metadata": {},
   "source": [
    "Let's have a look on the training step durations:"
   ]
  },
  {
   "cell_type": "code",
   "execution_count": 36,
   "metadata": {},
   "outputs": [
    {
     "data": {
      "text/plain": [
       "0    58214803.0\n",
       "1      105756.0\n",
       "2       95643.0\n",
       "3      132841.0\n",
       "4       88546.0\n",
       "dtype: float64"
      ]
     },
     "execution_count": 36,
     "metadata": {},
     "output_type": "execute_result"
    }
   ],
   "source": [
    "step_durations.head()"
   ]
  },
  {
   "cell_type": "markdown",
   "metadata": {},
   "source": [
    "Median of training step durations:"
   ]
  },
  {
   "cell_type": "code",
   "execution_count": 37,
   "metadata": {},
   "outputs": [
    {
     "data": {
      "text/plain": [
       "110331.125"
      ]
     },
     "execution_count": 37,
     "metadata": {},
     "output_type": "execute_result"
    }
   ],
   "source": [
    "median_train_steptime"
   ]
  },
  {
   "cell_type": "markdown",
   "metadata": {},
   "source": [
    "Next we select all training steps where duration was larger than twice the median:"
   ]
  },
  {
   "cell_type": "code",
   "execution_count": null,
   "metadata": {},
   "outputs": [],
   "source": []
  },
  {
   "cell_type": "code",
   "execution_count": 38,
   "metadata": {},
   "outputs": [
    {
     "data": {
      "text/html": [
       "<div>\n",
       "<style scoped>\n",
       "    .dataframe tbody tr th:only-of-type {\n",
       "        vertical-align: middle;\n",
       "    }\n",
       "\n",
       "    .dataframe tbody tr th {\n",
       "        vertical-align: top;\n",
       "    }\n",
       "\n",
       "    .dataframe thead th {\n",
       "        text-align: right;\n",
       "    }\n",
       "</style>\n",
       "<table border=\"1\" class=\"dataframe\">\n",
       "  <thead>\n",
       "    <tr style=\"text-align: right;\">\n",
       "      <th></th>\n",
       "      <th>start_time</th>\n",
       "      <th>end_time</th>\n",
       "      <th>start_time_us</th>\n",
       "      <th>end_time_us</th>\n",
       "      <th>tid</th>\n",
       "      <th>pid</th>\n",
       "      <th>framework_metric</th>\n",
       "      <th>step</th>\n",
       "      <th>bytes</th>\n",
       "      <th>process</th>\n",
       "      <th>duration_us</th>\n",
       "    </tr>\n",
       "  </thead>\n",
       "  <tbody>\n",
       "    <tr>\n",
       "      <th>0</th>\n",
       "      <td>2020-08-06T07:16:21:226054</td>\n",
       "      <td>2020-08-06T07:17:19:440857</td>\n",
       "      <td>2.612261e+08</td>\n",
       "      <td>3.194409e+08</td>\n",
       "      <td>8511450908796773373</td>\n",
       "      <td>80</td>\n",
       "      <td>Step:ModeKeys.TRAIN</td>\n",
       "      <td>0</td>\n",
       "      <td>-1</td>\n",
       "      <td>Step:ModeKeys.TRAIN</td>\n",
       "      <td>58214803.0</td>\n",
       "    </tr>\n",
       "    <tr>\n",
       "      <th>341</th>\n",
       "      <td>2020-08-06T07:17:57:535479</td>\n",
       "      <td>2020-08-06T07:17:58:616293</td>\n",
       "      <td>3.575355e+08</td>\n",
       "      <td>3.586163e+08</td>\n",
       "      <td>8511450908796773373</td>\n",
       "      <td>80</td>\n",
       "      <td>Step:ModeKeys.TRAIN</td>\n",
       "      <td>341</td>\n",
       "      <td>-1</td>\n",
       "      <td>Step:ModeKeys.TRAIN</td>\n",
       "      <td>1080814.0</td>\n",
       "    </tr>\n",
       "    <tr>\n",
       "      <th>783</th>\n",
       "      <td>2020-08-06T07:18:59:531811</td>\n",
       "      <td>2020-08-06T07:19:00:572037</td>\n",
       "      <td>4.195318e+08</td>\n",
       "      <td>4.205720e+08</td>\n",
       "      <td>8511450908796773373</td>\n",
       "      <td>80</td>\n",
       "      <td>Step:ModeKeys.TRAIN</td>\n",
       "      <td>782</td>\n",
       "      <td>-1</td>\n",
       "      <td>Step:ModeKeys.TRAIN</td>\n",
       "      <td>1040226.0</td>\n",
       "    </tr>\n",
       "    <tr>\n",
       "      <th>1566</th>\n",
       "      <td>2020-08-06T07:20:33:024124</td>\n",
       "      <td>2020-08-06T07:20:34:128437</td>\n",
       "      <td>5.130241e+08</td>\n",
       "      <td>5.141284e+08</td>\n",
       "      <td>8511450908796773373</td>\n",
       "      <td>80</td>\n",
       "      <td>Step:ModeKeys.TRAIN</td>\n",
       "      <td>1564</td>\n",
       "      <td>-1</td>\n",
       "      <td>Step:ModeKeys.TRAIN</td>\n",
       "      <td>1104313.0</td>\n",
       "    </tr>\n",
       "    <tr>\n",
       "      <th>2349</th>\n",
       "      <td>2020-08-06T07:22:08:153767</td>\n",
       "      <td>2020-08-06T07:22:09:141133</td>\n",
       "      <td>6.081538e+08</td>\n",
       "      <td>6.091411e+08</td>\n",
       "      <td>8511450908796773373</td>\n",
       "      <td>80</td>\n",
       "      <td>Step:ModeKeys.TRAIN</td>\n",
       "      <td>2346</td>\n",
       "      <td>-1</td>\n",
       "      <td>Step:ModeKeys.TRAIN</td>\n",
       "      <td>987366.0</td>\n",
       "    </tr>\n",
       "    <tr>\n",
       "      <th>3132</th>\n",
       "      <td>2020-08-06T07:23:43:605371</td>\n",
       "      <td>2020-08-06T07:23:44:687649</td>\n",
       "      <td>7.036054e+08</td>\n",
       "      <td>7.046876e+08</td>\n",
       "      <td>8511450908796773373</td>\n",
       "      <td>80</td>\n",
       "      <td>Step:ModeKeys.TRAIN</td>\n",
       "      <td>3128</td>\n",
       "      <td>-1</td>\n",
       "      <td>Step:ModeKeys.TRAIN</td>\n",
       "      <td>1082278.0</td>\n",
       "    </tr>\n",
       "    <tr>\n",
       "      <th>3916</th>\n",
       "      <td>2020-08-06T07:25:17:536311</td>\n",
       "      <td>2020-08-06T07:25:18:629557</td>\n",
       "      <td>7.975363e+08</td>\n",
       "      <td>7.986296e+08</td>\n",
       "      <td>8511450908796773373</td>\n",
       "      <td>80</td>\n",
       "      <td>Step:ModeKeys.TRAIN</td>\n",
       "      <td>3910</td>\n",
       "      <td>-1</td>\n",
       "      <td>Step:ModeKeys.TRAIN</td>\n",
       "      <td>1093246.0</td>\n",
       "    </tr>\n",
       "    <tr>\n",
       "      <th>4700</th>\n",
       "      <td>2020-08-06T07:26:51:496268</td>\n",
       "      <td>2020-08-06T07:26:52:563227</td>\n",
       "      <td>8.914963e+08</td>\n",
       "      <td>8.925632e+08</td>\n",
       "      <td>8511450908796773373</td>\n",
       "      <td>80</td>\n",
       "      <td>Step:ModeKeys.TRAIN</td>\n",
       "      <td>4692</td>\n",
       "      <td>-1</td>\n",
       "      <td>Step:ModeKeys.TRAIN</td>\n",
       "      <td>1066959.0</td>\n",
       "    </tr>\n",
       "    <tr>\n",
       "      <th>5483</th>\n",
       "      <td>2020-08-06T07:28:26:151493</td>\n",
       "      <td>2020-08-06T07:28:27:240156</td>\n",
       "      <td>9.861515e+08</td>\n",
       "      <td>9.872402e+08</td>\n",
       "      <td>8511450908796773373</td>\n",
       "      <td>80</td>\n",
       "      <td>Step:ModeKeys.TRAIN</td>\n",
       "      <td>5474</td>\n",
       "      <td>-1</td>\n",
       "      <td>Step:ModeKeys.TRAIN</td>\n",
       "      <td>1088663.0</td>\n",
       "    </tr>\n",
       "    <tr>\n",
       "      <th>6267</th>\n",
       "      <td>2020-08-06T07:30:00:618725</td>\n",
       "      <td>2020-08-06T07:30:01:740790</td>\n",
       "      <td>1.080619e+09</td>\n",
       "      <td>1.081741e+09</td>\n",
       "      <td>8511450908796773373</td>\n",
       "      <td>80</td>\n",
       "      <td>Step:ModeKeys.TRAIN</td>\n",
       "      <td>6256</td>\n",
       "      <td>-1</td>\n",
       "      <td>Step:ModeKeys.TRAIN</td>\n",
       "      <td>1122065.0</td>\n",
       "    </tr>\n",
       "    <tr>\n",
       "      <th>7051</th>\n",
       "      <td>2020-08-06T07:31:35:028271</td>\n",
       "      <td>2020-08-06T07:31:36:145453</td>\n",
       "      <td>1.175028e+09</td>\n",
       "      <td>1.176145e+09</td>\n",
       "      <td>8511450908796773373</td>\n",
       "      <td>80</td>\n",
       "      <td>Step:ModeKeys.TRAIN</td>\n",
       "      <td>7038</td>\n",
       "      <td>-1</td>\n",
       "      <td>Step:ModeKeys.TRAIN</td>\n",
       "      <td>1117182.0</td>\n",
       "    </tr>\n",
       "  </tbody>\n",
       "</table>\n",
       "</div>"
      ],
      "text/plain": [
       "                      start_time                    end_time  start_time_us  \\\n",
       "0     2020-08-06T07:16:21:226054  2020-08-06T07:17:19:440857   2.612261e+08   \n",
       "341   2020-08-06T07:17:57:535479  2020-08-06T07:17:58:616293   3.575355e+08   \n",
       "783   2020-08-06T07:18:59:531811  2020-08-06T07:19:00:572037   4.195318e+08   \n",
       "1566  2020-08-06T07:20:33:024124  2020-08-06T07:20:34:128437   5.130241e+08   \n",
       "2349  2020-08-06T07:22:08:153767  2020-08-06T07:22:09:141133   6.081538e+08   \n",
       "3132  2020-08-06T07:23:43:605371  2020-08-06T07:23:44:687649   7.036054e+08   \n",
       "3916  2020-08-06T07:25:17:536311  2020-08-06T07:25:18:629557   7.975363e+08   \n",
       "4700  2020-08-06T07:26:51:496268  2020-08-06T07:26:52:563227   8.914963e+08   \n",
       "5483  2020-08-06T07:28:26:151493  2020-08-06T07:28:27:240156   9.861515e+08   \n",
       "6267  2020-08-06T07:30:00:618725  2020-08-06T07:30:01:740790   1.080619e+09   \n",
       "7051  2020-08-06T07:31:35:028271  2020-08-06T07:31:36:145453   1.175028e+09   \n",
       "\n",
       "       end_time_us                  tid  pid     framework_metric  step  \\\n",
       "0     3.194409e+08  8511450908796773373   80  Step:ModeKeys.TRAIN     0   \n",
       "341   3.586163e+08  8511450908796773373   80  Step:ModeKeys.TRAIN   341   \n",
       "783   4.205720e+08  8511450908796773373   80  Step:ModeKeys.TRAIN   782   \n",
       "1566  5.141284e+08  8511450908796773373   80  Step:ModeKeys.TRAIN  1564   \n",
       "2349  6.091411e+08  8511450908796773373   80  Step:ModeKeys.TRAIN  2346   \n",
       "3132  7.046876e+08  8511450908796773373   80  Step:ModeKeys.TRAIN  3128   \n",
       "3916  7.986296e+08  8511450908796773373   80  Step:ModeKeys.TRAIN  3910   \n",
       "4700  8.925632e+08  8511450908796773373   80  Step:ModeKeys.TRAIN  4692   \n",
       "5483  9.872402e+08  8511450908796773373   80  Step:ModeKeys.TRAIN  5474   \n",
       "6267  1.081741e+09  8511450908796773373   80  Step:ModeKeys.TRAIN  6256   \n",
       "7051  1.176145e+09  8511450908796773373   80  Step:ModeKeys.TRAIN  7038   \n",
       "\n",
       "      bytes              process  duration_us  \n",
       "0        -1  Step:ModeKeys.TRAIN   58214803.0  \n",
       "341      -1  Step:ModeKeys.TRAIN    1080814.0  \n",
       "783      -1  Step:ModeKeys.TRAIN    1040226.0  \n",
       "1566     -1  Step:ModeKeys.TRAIN    1104313.0  \n",
       "2349     -1  Step:ModeKeys.TRAIN     987366.0  \n",
       "3132     -1  Step:ModeKeys.TRAIN    1082278.0  \n",
       "3916     -1  Step:ModeKeys.TRAIN    1093246.0  \n",
       "4700     -1  Step:ModeKeys.TRAIN    1066959.0  \n",
       "5483     -1  Step:ModeKeys.TRAIN    1088663.0  \n",
       "6267     -1  Step:ModeKeys.TRAIN    1122065.0  \n",
       "7051     -1  Step:ModeKeys.TRAIN    1117182.0  "
      ]
     },
     "execution_count": 38,
     "metadata": {},
     "output_type": "execute_result"
    }
   ],
   "source": [
    "outliers_train_steps = train_steps[step_durations > median_train_steptime * 2.0]\n",
    "outliers_train_steps"
   ]
  },
  {
   "cell_type": "markdown",
   "metadata": {},
   "source": [
    "Let's consider all values below this threshold as normal step duration:"
   ]
  },
  {
   "cell_type": "code",
   "execution_count": 39,
   "metadata": {},
   "outputs": [],
   "source": [
    "normal_train_steps = train_steps[step_durations < median_train_steptime * 2.0]"
   ]
  },
  {
   "cell_type": "markdown",
   "metadata": {},
   "source": [
    "Free up some memory"
   ]
  },
  {
   "cell_type": "code",
   "execution_count": 40,
   "metadata": {},
   "outputs": [],
   "source": [
    "del framework_metrics_df"
   ]
  },
  {
   "cell_type": "markdown",
   "metadata": {},
   "source": [
    "## 3.9 Active dataloading threads/processes per seconds\n",
    "In case of TF 2.2, profiler stores information about dataloding functions such as GetNext. The following analysis shows how many unique dataloading threads were active per time unit. If the number of threads is less than the available number of cores, we should increase the number of dataloading threads to increase performance. \n",
    "\n",
    "First we retrieve all rows that contain information about dataloading process:"
   ]
  },
  {
   "cell_type": "code",
   "execution_count": null,
   "metadata": {},
   "outputs": [],
   "source": [
    "dataloaders = pf.get_all_framework_metrics(selected_framework_metrics=['Dataset', 'DataIterator'])"
   ]
  },
  {
   "cell_type": "markdown",
   "metadata": {},
   "source": [
    "Set datateime index so that we can group by time:"
   ]
  },
  {
   "cell_type": "code",
   "execution_count": 42,
   "metadata": {},
   "outputs": [],
   "source": [
    "import pandas as pd\n",
    "\n",
    "if dataloaders.shape[0] > 0:\n",
    "    dataloaders['start_time'] = pd.to_datetime(dataloaders['start_time'], format='%Y-%m-%dT%H:%M:%S:%f')\n",
    "    dataloaders = dataloaders.set_index(['start_time'])\n",
    "else:\n",
    "    print('No profiling information for dataloaders available')"
   ]
  },
  {
   "cell_type": "markdown",
   "metadata": {},
   "source": [
    "Count and plot the number of threads per seconds. A thread may be executed multiple times during a second so we possibly see a very high number."
   ]
  },
  {
   "cell_type": "code",
   "execution_count": 43,
   "metadata": {},
   "outputs": [],
   "source": [
    "if dataloaders.shape[0] > 0:\n",
    "    active_threads_per_second = dataloaders['tid'].groupby([pd.Grouper(freq='1S')]).count()\n",
    "else:\n",
    "    print('No profiling information for dataloaders available')"
   ]
  },
  {
   "cell_type": "code",
   "execution_count": 44,
   "metadata": {},
   "outputs": [
    {
     "data": {
      "text/plain": [
       "[<matplotlib.lines.Line2D at 0x7f55b6843550>]"
      ]
     },
     "execution_count": 44,
     "metadata": {},
     "output_type": "execute_result"
    },
    {
     "data": {
      "image/png": "[encoded data removed]",
      "text/plain": [
       "<Figure size 432x288 with 1 Axes>"
      ]
     },
     "metadata": {
      "needs_background": "light"
     },
     "output_type": "display_data"
    }
   ],
   "source": [
    "if dataloaders.shape[0] > 0:\n",
    "    plt.plot(active_threads_per_second[:500])\n",
    "else:\n",
    "    print('No profiling information for dataloaders available')"
   ]
  },
  {
   "cell_type": "markdown",
   "metadata": {},
   "source": [
    "Get the unique number of active threads per seconds. This tells us how many dataloaders were active each second:"
   ]
  },
  {
   "cell_type": "code",
   "execution_count": 45,
   "metadata": {},
   "outputs": [],
   "source": [
    "if dataloaders.shape[0] > 0:\n",
    "    unique_active_threads_per_second = dataloaders.groupby([pd.Grouper(freq='1S'), pd.Grouper('tid'), pd.Grouper('pid')]).agg(['count'])\n",
    "else:\n",
    "    print('No profiling information for dataloaders available')"
   ]
  },
  {
   "cell_type": "markdown",
   "metadata": {},
   "source": [
    "Compare number of unique threads versus number of available cores:"
   ]
  },
  {
   "cell_type": "code",
   "execution_count": 46,
   "metadata": {},
   "outputs": [],
   "source": [
    "cpus = system_metrics_df[system_metrics_df['system_metric'].str.match('cpu')]['system_metric'].unique()\n",
    "n_cpus = len(cpus)"
   ]
  },
  {
   "cell_type": "code",
   "execution_count": 47,
   "metadata": {},
   "outputs": [
    {
     "name": "stdout",
     "output_type": "stream",
     "text": [
      "Available cores: 32 Maximum number of threads seen per time aggregation 21\n"
     ]
    }
   ],
   "source": [
    "if dataloaders.shape[0] > 0:\n",
    "    max_threads = unique_active_threads_per_second.groupby('start_time').count().max()[0]\n",
    "    if max_threads < n_cpus:\n",
    "        print(\"Available cores:\", n_cpus, \"Maximum number of threads seen per time aggregation\", max_threads)\n",
    "    \n",
    "else:\n",
    "    print('No profiling information for dataloaders available')"
   ]
  },
  {
   "cell_type": "markdown",
   "metadata": {},
   "source": [
    "# 4. Root cause analysis\n",
    "Now that we retrieved some time periods where bottlenecks or outliers occur, it is time to correlate those timestamps with the framework metrics. This correlation can help to get an understanding what is causing a performance issue. We can compare the time spent in those metrics with the time spent when there is no bottleneck or outlier. The difference between both may give an indication what the possible root cause is. \n",
    "\n",
    "## 4.1. CPU bottlenecks\n",
    "\n",
    "In this section, we will retrieve the framework metrics that were made at the time that a CPU bottleneck occured. \n",
    "For instance if the dataloading time significantly increases when GPU is at 0 and CPU is at 100 percent versus the dataloading time when GPU is at 100 percent then we can conclude that there is an issue in the data processing pipeline.\n"
   ]
  },
  {
   "cell_type": "code",
   "execution_count": 48,
   "metadata": {},
   "outputs": [
    {
     "data": {
      "text/html": [
       "<div>\n",
       "<style scoped>\n",
       "    .dataframe tbody tr th:only-of-type {\n",
       "        vertical-align: middle;\n",
       "    }\n",
       "\n",
       "    .dataframe tbody tr th {\n",
       "        vertical-align: top;\n",
       "    }\n",
       "\n",
       "    .dataframe thead th {\n",
       "        text-align: right;\n",
       "    }\n",
       "</style>\n",
       "<table border=\"1\" class=\"dataframe\">\n",
       "  <thead>\n",
       "    <tr style=\"text-align: right;\">\n",
       "      <th></th>\n",
       "      <th>timestamp</th>\n",
       "      <th>timestamp_us_x</th>\n",
       "      <th>value_x</th>\n",
       "      <th>system_metric_x</th>\n",
       "      <th>timestamp_us_y</th>\n",
       "      <th>value_y</th>\n",
       "      <th>system_metric_y</th>\n",
       "    </tr>\n",
       "  </thead>\n",
       "  <tbody>\n",
       "    <tr>\n",
       "      <th>0</th>\n",
       "      <td>2020-08-06T07:12:36:124000</td>\n",
       "      <td>36124000</td>\n",
       "      <td>0.0</td>\n",
       "      <td>gpu2</td>\n",
       "      <td>36124000</td>\n",
       "      <td>96.15</td>\n",
       "      <td>cpu11</td>\n",
       "    </tr>\n",
       "    <tr>\n",
       "      <th>2</th>\n",
       "      <td>2020-08-06T07:12:36:124000</td>\n",
       "      <td>36124000</td>\n",
       "      <td>0.0</td>\n",
       "      <td>gpu1</td>\n",
       "      <td>36124000</td>\n",
       "      <td>96.15</td>\n",
       "      <td>cpu11</td>\n",
       "    </tr>\n",
       "    <tr>\n",
       "      <th>3</th>\n",
       "      <td>2020-08-06T07:12:36:124000</td>\n",
       "      <td>36124000</td>\n",
       "      <td>0.0</td>\n",
       "      <td>gpu0</td>\n",
       "      <td>36124000</td>\n",
       "      <td>96.15</td>\n",
       "      <td>cpu11</td>\n",
       "    </tr>\n",
       "    <tr>\n",
       "      <th>6</th>\n",
       "      <td>2020-08-06T07:12:36:124000</td>\n",
       "      <td>36124000</td>\n",
       "      <td>0.0</td>\n",
       "      <td>gpu3</td>\n",
       "      <td>36124000</td>\n",
       "      <td>96.15</td>\n",
       "      <td>cpu11</td>\n",
       "    </tr>\n",
       "    <tr>\n",
       "      <th>8</th>\n",
       "      <td>2020-08-06T07:12:36:624000</td>\n",
       "      <td>36624000</td>\n",
       "      <td>0.0</td>\n",
       "      <td>gpu3</td>\n",
       "      <td>36624000</td>\n",
       "      <td>100.00</td>\n",
       "      <td>cpu11</td>\n",
       "    </tr>\n",
       "  </tbody>\n",
       "</table>\n",
       "</div>"
      ],
      "text/plain": [
       "                    timestamp  timestamp_us_x  value_x system_metric_x  \\\n",
       "0  2020-08-06T07:12:36:124000        36124000      0.0            gpu2   \n",
       "2  2020-08-06T07:12:36:124000        36124000      0.0            gpu1   \n",
       "3  2020-08-06T07:12:36:124000        36124000      0.0            gpu0   \n",
       "6  2020-08-06T07:12:36:124000        36124000      0.0            gpu3   \n",
       "8  2020-08-06T07:12:36:624000        36624000      0.0            gpu3   \n",
       "\n",
       "   timestamp_us_y  value_y system_metric_y  \n",
       "0        36124000    96.15           cpu11  \n",
       "2        36124000    96.15           cpu11  \n",
       "3        36124000    96.15           cpu11  \n",
       "6        36124000    96.15           cpu11  \n",
       "8        36624000   100.00           cpu11  "
      ]
     },
     "execution_count": 48,
     "metadata": {},
     "output_type": "execute_result"
    }
   ],
   "source": [
    "cpu_bottleneck.head()"
   ]
  },
  {
   "cell_type": "markdown",
   "metadata": {},
   "source": [
    "Iterate over the timestamps when a CPU bottleneck occured and find framework metrics for these timesteps. We use the function `get_framework_metrics_by_timesteps` that takes a list of timestamps and returns3 dictionaries:\n",
    "\n",
    "- **framework_metrics:** contains the cumulative time spent in an event_phase. A phase can contain multple functions. Cumulative time is normalized (divided the max value in the dictionary) so values are between 0-1\n",
    "- **framework_metrics_detailed:** contains the cumulative time per function.\n",
    "- **training_phase:** cumulative time spent in training and validation"
   ]
  },
  {
   "cell_type": "code",
   "execution_count": null,
   "metadata": {},
   "outputs": [],
   "source": [
    "framework_metrics, framework_metrics_detailed, training_phase = pf.get_framework_metrics_by_timesteps(cpu_bottleneck['timestamp'].unique())"
   ]
  },
  {
   "cell_type": "code",
   "execution_count": 50,
   "metadata": {},
   "outputs": [
    {
     "data": {
      "image/png": "[encoded data removed]",
      "text/plain": [
       "<Figure size 432x288 with 1 Axes>"
      ]
     },
     "metadata": {},
     "output_type": "display_data"
    },
    {
     "data": {
      "image/png": "[encoded data removed]",
      "text/plain": [
       "<Figure size 432x288 with 1 Axes>"
      ]
     },
     "metadata": {},
     "output_type": "display_data"
    }
   ],
   "source": [
    "plt.pie(framework_metrics.values(), autopct='%1.1f%%', labels=framework_metrics.keys(), labeldistance=1.3)\n",
    "plt.show()\n",
    "plt.pie(training_phase.values(), autopct='%1.1f%%', labels=training_phase.keys(), labeldistance=1.3)\n",
    "plt.show()"
   ]
  },
  {
   "cell_type": "markdown",
   "metadata": {},
   "source": [
    "We have identified the functions that took most of the time when CPU bottlenecks occur. Let's those with the timestamps when there is not bottleneck happening:"
   ]
  },
  {
   "cell_type": "code",
   "execution_count": 51,
   "metadata": {},
   "outputs": [],
   "source": [
    "high_gpu = gpus[gpus['value'] > 90.0]"
   ]
  },
  {
   "cell_type": "code",
   "execution_count": null,
   "metadata": {},
   "outputs": [],
   "source": [
    "if high_gpu['timestamp'].shape[0] > 0:\n",
    "    framework_metrics, framework_metrics_detailed, training_phase = pf.get_framework_metrics_by_timesteps(high_gpu['timestamp'].unique())"
   ]
  },
  {
   "cell_type": "code",
   "execution_count": 53,
   "metadata": {},
   "outputs": [
    {
     "data": {
      "image/png": "[encoded data removed]",
      "text/plain": [
       "<Figure size 432x288 with 1 Axes>"
      ]
     },
     "metadata": {},
     "output_type": "display_data"
    },
    {
     "data": {
      "image/png": "[encoded data removed]",
      "text/plain": [
       "<Figure size 432x288 with 1 Axes>"
      ]
     },
     "metadata": {},
     "output_type": "display_data"
    }
   ],
   "source": [
    "plt.pie(framework_metrics.values(), autopct='%1.1f%%', labels=framework_metrics.keys(), labeldistance=1.3)\n",
    "plt.show()\n",
    "plt.pie(training_phase.values(), autopct='%1.1f%%', labels=training_phase.keys(), labeldistance=1.3)\n",
    "plt.show()"
   ]
  },
  {
   "cell_type": "markdown",
   "metadata": {},
   "source": [
    "## 4.2 Outliers in step duration\n",
    "\n",
    "Next we correlate the outliers in step duration with framework metrics. For instance how much time was spent in dataloading, preprocessing, synchronization when a step took singificantly more time. We then compare this to steps that have a normal duration to better understand whether there is a particular function that is causing a slowdown. \n",
    "\n",
    "First we call `get_framework_metrics_by_begin_and_end_timesteps`: this function takes list of timestamps and finds other framework metrics that were recorded in the given timeranges. The function will return two dictionaries that contain the normalized cumulative time per function."
   ]
  },
  {
   "cell_type": "code",
   "execution_count": null,
   "metadata": {},
   "outputs": [],
   "source": [
    "results = {}\n",
    "results_detailed = {}\n",
    "results['outlier'], results_detailed['outlier'] = pf.get_framework_metrics_by_begin_and_end_timesteps(\n",
    "                                                                        outliers_train_steps['start_time'], \n",
    "                                                                        outliers_train_steps['end_time'])"
   ]
  },
  {
   "cell_type": "code",
   "execution_count": 55,
   "metadata": {},
   "outputs": [
    {
     "data": {
      "image/png": "[encoded data removed]",
      "text/plain": [
       "<Figure size 432x288 with 1 Axes>"
      ]
     },
     "metadata": {},
     "output_type": "display_data"
    }
   ],
   "source": [
    "plt.pie(results['outlier'].values(), autopct='%1.1f%%', labels=results['outlier'].keys(), labeldistance=1.3)\n",
    "plt.show()"
   ]
  },
  {
   "cell_type": "markdown",
   "metadata": {},
   "source": [
    "Let's compare the relative time spent in those functions versus the relative time spent in those functions when train steps have a `normal` duration:"
   ]
  },
  {
   "cell_type": "code",
   "execution_count": null,
   "metadata": {},
   "outputs": [],
   "source": [
    "results['normal'], results_detailed['normal'] = pf.get_framework_metrics_by_begin_and_end_timesteps(normal_train_steps['start_time'], \n",
    "                                                                        normal_train_steps['end_time'])"
   ]
  },
  {
   "cell_type": "code",
   "execution_count": 57,
   "metadata": {},
   "outputs": [
    {
     "data": {
      "image/png": "[encoded data removed]",
      "text/plain": [
       "<Figure size 432x288 with 1 Axes>"
      ]
     },
     "metadata": {},
     "output_type": "display_data"
    }
   ],
   "source": [
    "plt.pie(results['normal'].values(), autopct='%1.1f%%', labels=results['normal'].keys(), labeldistance=1.3)\n",
    "plt.show()"
   ]
  },
  {
   "cell_type": "markdown",
   "metadata": {},
   "source": [
    "Plot the results as bar chart to see a direct comparison. Here we plot the dictionary containing information per event/function:"
   ]
  },
  {
   "cell_type": "code",
   "execution_count": 58,
   "metadata": {},
   "outputs": [
    {
     "data": {
      "text/plain": [
       "array([<matplotlib.axes._subplots.AxesSubplot object at 0x7f55b641b438>,\n",
       "       <matplotlib.axes._subplots.AxesSubplot object at 0x7f55b46ea128>],\n",
       "      dtype=object)"
      ]
     },
     "execution_count": 58,
     "metadata": {},
     "output_type": "execute_result"
    },
    {
     "data": {
      "image/png": "[encoded data removed]",
      "text/plain": [
       "<Figure size 432x288 with 2 Axes>"
      ]
     },
     "metadata": {
      "needs_background": "light"
     },
     "output_type": "display_data"
    }
   ],
   "source": [
    "pd.DataFrame(results).plot(kind='bar', subplots=True) "
   ]
  },
  {
   "cell_type": "markdown",
   "metadata": {},
   "source": [
    "Get CPU/GPU utilization during train step outliers. If utilization is low, it may indicate a system stall. This can for instance happen if a process is waiting for an I/O request being resolved."
   ]
  },
  {
   "cell_type": "code",
   "execution_count": 59,
   "metadata": {},
   "outputs": [],
   "source": [
    "indexes = []\n",
    "for start_time, end_time in zip(outliers_train_steps['start_time_us'].tolist(), \n",
    "                                outliers_train_steps['end_time_us'].tolist()):\n",
    "    inds = system_metrics_df[(system_metrics_df['timestamp_us']  >= start_time) \n",
    "                        & (system_metrics_df['timestamp_us'] <= end_time)].index.tolist()\n",
    "    if len(inds) > 0 :\n",
    "        indexes.extend(inds)"
   ]
  },
  {
   "cell_type": "code",
   "execution_count": 60,
   "metadata": {},
   "outputs": [
    {
     "data": {
      "text/plain": [
       "<matplotlib.axes._subplots.AxesSubplot at 0x7f55b4a28278>"
      ]
     },
     "execution_count": 60,
     "metadata": {},
     "output_type": "execute_result"
    },
    {
     "data": {
      "image/png": "[encoded data removed]",
      "text/plain": [
       "<Figure size 432x288 with 1 Axes>"
      ]
     },
     "metadata": {
      "needs_background": "light"
     },
     "output_type": "display_data"
    }
   ],
   "source": [
    "system_metrics_train_step_outliers = system_metrics_df.iloc[indexes,:]\n",
    "gpus = system_metrics_train_step_outliers[system_metrics_train_step_outliers['system_metric'].str.match('gpu')]\n",
    "cpus = system_metrics_train_step_outliers[system_metrics_train_step_outliers['system_metric'].str.match('cpu')]\n",
    "gpus['value'].plot.hist(bins=50, alpha=0.5, legend=True, label=\"GPUs\")\n",
    "cpus['value'].plot.hist(bins=50, alpha=0.5, legend=True, label=\"CPUs\")"
   ]
  },
  {
   "cell_type": "markdown",
   "metadata": {},
   "source": [
    "For comparison CPU/GPU utilization during when training steps have normal duration:"
   ]
  },
  {
   "cell_type": "code",
   "execution_count": 61,
   "metadata": {},
   "outputs": [],
   "source": [
    "indexes = []\n",
    "for start_time, end_time in zip(normal_train_steps['start_time_us'].tolist(), \n",
    "                                normal_train_steps['end_time_us'].tolist()):\n",
    "    inds = system_metrics_df[(system_metrics_df['timestamp_us']  >= start_time) \n",
    "                        & (system_metrics_df['timestamp_us'] <= end_time)].index.tolist()\n",
    "    if len(inds) > 0 :\n",
    "        indexes.extend(inds)"
   ]
  },
  {
   "cell_type": "code",
   "execution_count": 62,
   "metadata": {},
   "outputs": [
    {
     "data": {
      "text/plain": [
       "<matplotlib.axes._subplots.AxesSubplot at 0x7f55b5d1af28>"
      ]
     },
     "execution_count": 62,
     "metadata": {},
     "output_type": "execute_result"
    },
    {
     "data": {
      "image/png": "[encoded data removed]",
      "text/plain": [
       "<Figure size 432x288 with 1 Axes>"
      ]
     },
     "metadata": {
      "needs_background": "light"
     },
     "output_type": "display_data"
    }
   ],
   "source": [
    "system_metrics_normal_train_step = system_metrics_df.iloc[indexes,:]\n",
    "gpus = system_metrics_normal_train_step[system_metrics_normal_train_step['system_metric'].str.match('gpu')]\n",
    "cpus = system_metrics_normal_train_step[system_metrics_normal_train_step['system_metric'].str.match('cpu')]\n",
    "gpus['value'].plot.hist(bins=50, alpha=0.5, legend=True, label=\"GPUs\")\n",
    "cpus['value'].plot.hist(bins=50, alpha=0.5, legend=True, label=\"CPUs\")"
   ]
  },
  {
   "cell_type": "markdown",
   "metadata": {},
   "source": [
    "## 4.3 Idle time between training phases\n",
    "\n",
    "The profiler captures events that occur during each training/validation step. It is of interest to observe activities or processes that occur in between two training steps or between training and validation steps, to detect unexpected resource utilization during these intervals.\n",
    "\n",
    "For example, the trace event timeline below shows us a few training steps containing Dataset and DataIterator events. We observe a time interval between two TRAIN events where there is no event/no data about events. We would like to analyse any event that occurred during such intervals along with the corresponding system metrics to identify possible issues in the training process.\n",
    "\n",
    "![timeline](images/timeline.png \"Timeline\")"
   ]
  },
  {
   "cell_type": "code",
   "execution_count": 63,
   "metadata": {},
   "outputs": [],
   "source": [
    "util_stats = pf_analysis.get_utilization_stats(by=StatsBy.TRAINING_PHASE)"
   ]
  },
  {
   "cell_type": "code",
   "execution_count": 64,
   "metadata": {},
   "outputs": [
    {
     "data": {
      "text/plain": [
       "<matplotlib.axes._subplots.AxesSubplot at 0x7f55b6a1fb38>"
      ]
     },
     "execution_count": 64,
     "metadata": {},
     "output_type": "execute_result"
    },
    {
     "data": {
      "image/png": "[encoded data removed]",
      "text/plain": [
       "<Figure size 432x288 with 1 Axes>"
      ]
     },
     "metadata": {
      "needs_background": "light"
     },
     "output_type": "display_data"
    }
   ],
   "source": [
    "pivoted = util_stats.pivot(index='Training_phase', columns='Resource', values='utilization_mean_%').reset_index()\n",
    "pivoted.plot.bar(x=\"Training_phase\", y=[\"cpu\", \"gpu\"], title=\"Mean utilization per phase\")\n",
    " "
   ]
  },
  {
   "cell_type": "markdown",
   "metadata": {},
   "source": [
    "As seen in the above plot, CPU/GPU utilization is observed in intervals other than when training is ongoing. Below, we will make use of Python profiling data to identify the cause for the observed resource utilization. In this case, we will look at Python profiling data between two arbitrary steps."
   ]
  },
  {
   "cell_type": "markdown",
   "metadata": {},
   "source": [
    "# 5 Python Profiling Data\n",
    "\n",
    "Now we will look at Python stats collected for two sagemaker training jobs (Tensorflow and PyTorch) with Python profiling specifically enabled (via detailed profiling).\n",
    "\n",
    "## 5.1 Load the Python Profiling Data\n",
    "Here we have two training jobs that had Python profiling enabled. This means that for each job, we collect python stats for each phase in in the duration of steps specified in the config. "
   ]
  },
  {
   "cell_type": "code",
   "execution_count": 1,
   "metadata": {},
   "outputs": [
    {
     "data": {
      "application/javascript": [
       "\n",
       "(function(root) {\n",
       "  function now() {\n",
       "    return new Date();\n",
       "  }\n",
       "\n",
       "  var force = true;\n",
       "\n",
       "  if (typeof root._bokeh_onload_callbacks === \"undefined\" || force === true) {\n",
       "    root._bokeh_onload_callbacks = [];\n",
       "    root._bokeh_is_loading = undefined;\n",
       "  }\n",
       "\n",
       "  var JS_MIME_TYPE = 'application/javascript';\n",
       "  var HTML_MIME_TYPE = 'text/html';\n",
       "  var EXEC_MIME_TYPE = 'application/vnd.bokehjs_exec.v0+json';\n",
       "  var CLASS_NAME = 'output_bokeh rendered_html';\n",
       "\n",
       "  /**\n",
       "   * Render data to the DOM node\n",
       "   */\n",
       "  function render(props, node) {\n",
       "    var script = document.createElement(\"script\");\n",
       "    node.appendChild(script);\n",
       "  }\n",
       "\n",
       "  /**\n",
       "   * Handle when an output is cleared or removed\n",
       "   */\n",
       "  function handleClearOutput(event, handle) {\n",
       "    var cell = handle.cell;\n",
       "\n",
       "    var id = cell.output_area._bokeh_element_id;\n",
       "    var server_id = cell.output_area._bokeh_server_id;\n",
       "    // Clean up Bokeh references\n",
       "    if (id != null && id in Bokeh.index) {\n",
       "      Bokeh.index[id].model.document.clear();\n",
       "      delete Bokeh.index[id];\n",
       "    }\n",
       "\n",
       "    if (server_id !== undefined) {\n",
       "      // Clean up Bokeh references\n",
       "      var cmd = \"from bokeh.io.state import curstate; print(curstate().uuid_to_server['\" + server_id + \"'].get_sessions()[0].document.roots[0]._id)\";\n",
       "      cell.notebook.kernel.execute(cmd, {\n",
       "        iopub: {\n",
       "          output: function(msg) {\n",
       "            var id = msg.content.text.trim();\n",
       "            if (id in Bokeh.index) {\n",
       "              Bokeh.index[id].model.document.clear();\n",
       "              delete Bokeh.index[id];\n",
       "            }\n",
       "          }\n",
       "        }\n",
       "      });\n",
       "      // Destroy server and session\n",
       "      var cmd = \"import bokeh.io.notebook as ion; ion.destroy_server('\" + server_id + \"')\";\n",
       "      cell.notebook.kernel.execute(cmd);\n",
       "    }\n",
       "  }\n",
       "\n",
       "  /**\n",
       "   * Handle when a new output is added\n",
       "   */\n",
       "  function handleAddOutput(event, handle) {\n",
       "    var output_area = handle.output_area;\n",
       "    var output = handle.output;\n",
       "\n",
       "    // limit handleAddOutput to display_data with EXEC_MIME_TYPE content only\n",
       "    if ((output.output_type != \"display_data\") || (!output.data.hasOwnProperty(EXEC_MIME_TYPE))) {\n",
       "      return\n",
       "    }\n",
       "\n",
       "    var toinsert = output_area.element.find(\".\" + CLASS_NAME.split(' ')[0]);\n",
       "\n",
       "    if (output.metadata[EXEC_MIME_TYPE][\"id\"] !== undefined) {\n",
       "      toinsert[toinsert.length - 1].firstChild.textContent = output.data[JS_MIME_TYPE];\n",
       "      // store reference to embed id on output_area\n",
       "      output_area._bokeh_element_id = output.metadata[EXEC_MIME_TYPE][\"id\"];\n",
       "    }\n",
       "    if (output.metadata[EXEC_MIME_TYPE][\"server_id\"] !== undefined) {\n",
       "      var bk_div = document.createElement(\"div\");\n",
       "      bk_div.innerHTML = output.data[HTML_MIME_TYPE];\n",
       "      var script_attrs = bk_div.children[0].attributes;\n",
       "      for (var i = 0; i < script_attrs.length; i++) {\n",
       "        toinsert[toinsert.length - 1].firstChild.setAttribute(script_attrs[i].name, script_attrs[i].value);\n",
       "        toinsert[toinsert.length - 1].firstChild.textContent = bk_div.children[0].textContent\n",
       "      }\n",
       "      // store reference to server id on output_area\n",
       "      output_area._bokeh_server_id = output.metadata[EXEC_MIME_TYPE][\"server_id\"];\n",
       "    }\n",
       "  }\n",
       "\n",
       "  function register_renderer(events, OutputArea) {\n",
       "\n",
       "    function append_mime(data, metadata, element) {\n",
       "      // create a DOM node to render to\n",
       "      var toinsert = this.create_output_subarea(\n",
       "        metadata,\n",
       "        CLASS_NAME,\n",
       "        EXEC_MIME_TYPE\n",
       "      );\n",
       "      this.keyboard_manager.register_events(toinsert);\n",
       "      // Render to node\n",
       "      var props = {data: data, metadata: metadata[EXEC_MIME_TYPE]};\n",
       "      render(props, toinsert[toinsert.length - 1]);\n",
       "      element.append(toinsert);\n",
       "      return toinsert\n",
       "    }\n",
       "\n",
       "    /* Handle when an output is cleared or removed */\n",
       "    events.on('clear_output.CodeCell', handleClearOutput);\n",
       "    events.on('delete.Cell', handleClearOutput);\n",
       "\n",
       "    /* Handle when a new output is added */\n",
       "    events.on('output_added.OutputArea', handleAddOutput);\n",
       "\n",
       "    /**\n",
       "     * Register the mime type and append_mime function with output_area\n",
       "     */\n",
       "    OutputArea.prototype.register_mime_type(EXEC_MIME_TYPE, append_mime, {\n",
       "      /* Is output safe? */\n",
       "      safe: true,\n",
       "      /* Index of renderer in `output_area.display_order` */\n",
       "      index: 0\n",
       "    });\n",
       "  }\n",
       "\n",
       "  // register the mime type if in Jupyter Notebook environment and previously unregistered\n",
       "  if (root.Jupyter !== undefined) {\n",
       "    var events = require('base/js/events');\n",
       "    var OutputArea = require('notebook/js/outputarea').OutputArea;\n",
       "\n",
       "    if (OutputArea.prototype.mime_types().indexOf(EXEC_MIME_TYPE) == -1) {\n",
       "      register_renderer(events, OutputArea);\n",
       "    }\n",
       "  }\n",
       "\n",
       "  \n",
       "  if (typeof (root._bokeh_timeout) === \"undefined\" || force === true) {\n",
       "    root._bokeh_timeout = Date.now() + 5000;\n",
       "    root._bokeh_failed_load = false;\n",
       "  }\n",
       "\n",
       "  var NB_LOAD_WARNING = {'data': {'text/html':\n",
       "     \"<div style='background-color: #fdd'>\\n\"+\n",
       "     \"<p>\\n\"+\n",
       "     \"BokehJS does not appear to have successfully loaded. If loading BokehJS from CDN, this \\n\"+\n",
       "     \"may be due to a slow or bad network connection. Possible fixes:\\n\"+\n",
       "     \"</p>\\n\"+\n",
       "     \"<ul>\\n\"+\n",
       "     \"<li>re-rerun `output_notebook()` to attempt to load from CDN again, or</li>\\n\"+\n",
       "     \"<li>use INLINE resources instead, as so:</li>\\n\"+\n",
       "     \"</ul>\\n\"+\n",
       "     \"<code>\\n\"+\n",
       "     \"from bokeh.resources import INLINE\\n\"+\n",
       "     \"output_notebook(resources=INLINE)\\n\"+\n",
       "     \"</code>\\n\"+\n",
       "     \"</div>\"}};\n",
       "\n",
       "  function display_loaded() {\n",
       "    var el = document.getElementById(null);\n",
       "    if (el != null) {\n",
       "      el.textContent = \"BokehJS is loading...\";\n",
       "    }\n",
       "    if (root.Bokeh !== undefined) {\n",
       "      if (el != null) {\n",
       "        el.textContent = \"BokehJS \" + root.Bokeh.version + \" successfully loaded.\";\n",
       "      }\n",
       "    } else if (Date.now() < root._bokeh_timeout) {\n",
       "      setTimeout(display_loaded, 100)\n",
       "    }\n",
       "  }\n",
       "\n",
       "\n",
       "  function run_callbacks() {\n",
       "    try {\n",
       "      root._bokeh_onload_callbacks.forEach(function(callback) {\n",
       "        if (callback != null)\n",
       "          callback();\n",
       "      });\n",
       "    } finally {\n",
       "      delete root._bokeh_onload_callbacks\n",
       "    }\n",
       "    console.debug(\"Bokeh: all callbacks have finished\");\n",
       "  }\n",
       "\n",
       "  function load_libs(css_urls, js_urls, callback) {\n",
       "    if (css_urls == null) css_urls = [];\n",
       "    if (js_urls == null) js_urls = [];\n",
       "\n",
       "    root._bokeh_onload_callbacks.push(callback);\n",
       "    if (root._bokeh_is_loading > 0) {\n",
       "      console.debug(\"Bokeh: BokehJS is being loaded, scheduling callback at\", now());\n",
       "      return null;\n",
       "    }\n",
       "    if (js_urls == null || js_urls.length === 0) {\n",
       "      run_callbacks();\n",
       "      return null;\n",
       "    }\n",
       "    console.debug(\"Bokeh: BokehJS not loaded, scheduling load and callback at\", now());\n",
       "    root._bokeh_is_loading = css_urls.length + js_urls.length;\n",
       "\n",
       "    function on_load() {\n",
       "      root._bokeh_is_loading--;\n",
       "      if (root._bokeh_is_loading === 0) {\n",
       "        console.debug(\"Bokeh: all BokehJS libraries/stylesheets loaded\");\n",
       "        run_callbacks()\n",
       "      }\n",
       "    }\n",
       "\n",
       "    function on_error() {\n",
       "      console.error(\"failed to load \" + url);\n",
       "    }\n",
       "\n",
       "    for (var i = 0; i < css_urls.length; i++) {\n",
       "      var url = css_urls[i];\n",
       "      const element = document.createElement(\"link\");\n",
       "      element.onload = on_load;\n",
       "      element.onerror = on_error;\n",
       "      element.rel = \"stylesheet\";\n",
       "      element.type = \"text/css\";\n",
       "      element.href = url;\n",
       "      console.debug(\"Bokeh: injecting link tag for BokehJS stylesheet: \", url);\n",
       "      document.body.appendChild(element);\n",
       "    }\n",
       "\n",
       "    const hashes = {\"https://cdn.bokeh.org/bokeh/release/bokeh-2.0.1.min.js\": \"JpP8FXbgAZLkfur7LiK3j9AGBhHNIvF742meBJrjO2ShJDhCG2I1uVvW+0DUtrmc\", \"https://cdn.bokeh.org/bokeh/release/bokeh-widgets-2.0.1.min.js\": \"xZlADit0Q04ISQEdKg2k3L4W9AwQBAuDs9nJL9fM/WwzL1tEU9VPNezOFX0nLEAz\", \"https://cdn.bokeh.org/bokeh/release/bokeh-tables-2.0.1.min.js\": \"4BuPRZkdMKSnj3zoxiNrQ86XgNw0rYmBOxe7nshquXwwcauupgBF2DHLVG1WuZlV\", \"https://cdn.bokeh.org/bokeh/release/bokeh-gl-2.0.1.min.js\": \"Dv1SQ87hmDqK6S5OhBf0bCuwAEvL5QYL0PuR/F1SPVhCS/r/abjkbpKDYL2zeM19\"};\n",
       "\n",
       "    for (var i = 0; i < js_urls.length; i++) {\n",
       "      var url = js_urls[i];\n",
       "      var element = document.createElement('script');\n",
       "      element.onload = on_load;\n",
       "      element.onerror = on_error;\n",
       "      element.async = false;\n",
       "      element.src = url;\n",
       "      if (url in hashes) {\n",
       "        element.crossOrigin = \"anonymous\";\n",
       "        element.integrity = \"sha384-\" + hashes[url];\n",
       "      }\n",
       "      console.debug(\"Bokeh: injecting script tag for BokehJS library: \", url);\n",
       "      document.head.appendChild(element);\n",
       "    }\n",
       "  };\n",
       "\n",
       "  function inject_raw_css(css) {\n",
       "    const element = document.createElement(\"style\");\n",
       "    element.appendChild(document.createTextNode(css));\n",
       "    document.body.appendChild(element);\n",
       "  }\n",
       "\n",
       "  \n",
       "  var js_urls = [\"https://cdn.bokeh.org/bokeh/release/bokeh-2.0.1.min.js\", \"https://cdn.bokeh.org/bokeh/release/bokeh-widgets-2.0.1.min.js\", \"https://cdn.bokeh.org/bokeh/release/bokeh-tables-2.0.1.min.js\", \"https://cdn.bokeh.org/bokeh/release/bokeh-gl-2.0.1.min.js\"];\n",
       "  var css_urls = [];\n",
       "  \n",
       "\n",
       "  var inline_js = [\n",
       "    function(Bokeh) {\n",
       "      Bokeh.set_log_level(\"info\");\n",
       "    },\n",
       "    function(Bokeh) {\n",
       "    \n",
       "    \n",
       "    }\n",
       "  ];\n",
       "\n",
       "  function run_inline_js() {\n",
       "    \n",
       "    if (root.Bokeh !== undefined || force === true) {\n",
       "      \n",
       "    for (var i = 0; i < inline_js.length; i++) {\n",
       "      inline_js[i].call(root, root.Bokeh);\n",
       "    }\n",
       "    } else if (Date.now() < root._bokeh_timeout) {\n",
       "      setTimeout(run_inline_js, 100);\n",
       "    } else if (!root._bokeh_failed_load) {\n",
       "      console.log(\"Bokeh: BokehJS failed to load within specified timeout.\");\n",
       "      root._bokeh_failed_load = true;\n",
       "    } else if (force !== true) {\n",
       "      var cell = $(document.getElementById(null)).parents('.cell').data().cell;\n",
       "      cell.output_area.append_execute_result(NB_LOAD_WARNING)\n",
       "    }\n",
       "\n",
       "  }\n",
       "\n",
       "  if (root._bokeh_is_loading === 0) {\n",
       "    console.debug(\"Bokeh: BokehJS loaded, going straight to plotting\");\n",
       "    run_inline_js();\n",
       "  } else {\n",
       "    load_libs(css_urls, js_urls, function() {\n",
       "      console.debug(\"Bokeh: BokehJS plotting callback run at\", now());\n",
       "      run_inline_js();\n",
       "    });\n",
       "  }\n",
       "}(window));"
      ],
      "application/vnd.bokehjs_load.v0+json": "\n(function(root) {\n  function now() {\n    return new Date();\n  }\n\n  var force = true;\n\n  if (typeof root._bokeh_onload_callbacks === \"undefined\" || force === true) {\n    root._bokeh_onload_callbacks = [];\n    root._bokeh_is_loading = undefined;\n  }\n\n  \n\n  \n  if (typeof (root._bokeh_timeout) === \"undefined\" || force === true) {\n    root._bokeh_timeout = Date.now() + 5000;\n    root._bokeh_failed_load = false;\n  }\n\n  var NB_LOAD_WARNING = {'data': {'text/html':\n     \"<div style='background-color: #fdd'>\\n\"+\n     \"<p>\\n\"+\n     \"BokehJS does not appear to have successfully loaded. If loading BokehJS from CDN, this \\n\"+\n     \"may be due to a slow or bad network connection. Possible fixes:\\n\"+\n     \"</p>\\n\"+\n     \"<ul>\\n\"+\n     \"<li>re-rerun `output_notebook()` to attempt to load from CDN again, or</li>\\n\"+\n     \"<li>use INLINE resources instead, as so:</li>\\n\"+\n     \"</ul>\\n\"+\n     \"<code>\\n\"+\n     \"from bokeh.resources import INLINE\\n\"+\n     \"output_notebook(resources=INLINE)\\n\"+\n     \"</code>\\n\"+\n     \"</div>\"}};\n\n  function display_loaded() {\n    var el = document.getElementById(null);\n    if (el != null) {\n      el.textContent = \"BokehJS is loading...\";\n    }\n    if (root.Bokeh !== undefined) {\n      if (el != null) {\n        el.textContent = \"BokehJS \" + root.Bokeh.version + \" successfully loaded.\";\n      }\n    } else if (Date.now() < root._bokeh_timeout) {\n      setTimeout(display_loaded, 100)\n    }\n  }\n\n\n  function run_callbacks() {\n    try {\n      root._bokeh_onload_callbacks.forEach(function(callback) {\n        if (callback != null)\n          callback();\n      });\n    } finally {\n      delete root._bokeh_onload_callbacks\n    }\n    console.debug(\"Bokeh: all callbacks have finished\");\n  }\n\n  function load_libs(css_urls, js_urls, callback) {\n    if (css_urls == null) css_urls = [];\n    if (js_urls == null) js_urls = [];\n\n    root._bokeh_onload_callbacks.push(callback);\n    if (root._bokeh_is_loading > 0) {\n      console.debug(\"Bokeh: BokehJS is being loaded, scheduling callback at\", now());\n      return null;\n    }\n    if (js_urls == null || js_urls.length === 0) {\n      run_callbacks();\n      return null;\n    }\n    console.debug(\"Bokeh: BokehJS not loaded, scheduling load and callback at\", now());\n    root._bokeh_is_loading = css_urls.length + js_urls.length;\n\n    function on_load() {\n      root._bokeh_is_loading--;\n      if (root._bokeh_is_loading === 0) {\n        console.debug(\"Bokeh: all BokehJS libraries/stylesheets loaded\");\n        run_callbacks()\n      }\n    }\n\n    function on_error() {\n      console.error(\"failed to load \" + url);\n    }\n\n    for (var i = 0; i < css_urls.length; i++) {\n      var url = css_urls[i];\n      const element = document.createElement(\"link\");\n      element.onload = on_load;\n      element.onerror = on_error;\n      element.rel = \"stylesheet\";\n      element.type = \"text/css\";\n      element.href = url;\n      console.debug(\"Bokeh: injecting link tag for BokehJS stylesheet: \", url);\n      document.body.appendChild(element);\n    }\n\n    const hashes = {\"https://cdn.bokeh.org/bokeh/release/bokeh-2.0.1.min.js\": \"JpP8FXbgAZLkfur7LiK3j9AGBhHNIvF742meBJrjO2ShJDhCG2I1uVvW+0DUtrmc\", \"https://cdn.bokeh.org/bokeh/release/bokeh-widgets-2.0.1.min.js\": \"xZlADit0Q04ISQEdKg2k3L4W9AwQBAuDs9nJL9fM/WwzL1tEU9VPNezOFX0nLEAz\", \"https://cdn.bokeh.org/bokeh/release/bokeh-tables-2.0.1.min.js\": \"4BuPRZkdMKSnj3zoxiNrQ86XgNw0rYmBOxe7nshquXwwcauupgBF2DHLVG1WuZlV\", \"https://cdn.bokeh.org/bokeh/release/bokeh-gl-2.0.1.min.js\": \"Dv1SQ87hmDqK6S5OhBf0bCuwAEvL5QYL0PuR/F1SPVhCS/r/abjkbpKDYL2zeM19\"};\n\n    for (var i = 0; i < js_urls.length; i++) {\n      var url = js_urls[i];\n      var element = document.createElement('script');\n      element.onload = on_load;\n      element.onerror = on_error;\n      element.async = false;\n      element.src = url;\n      if (url in hashes) {\n        element.crossOrigin = \"anonymous\";\n        element.integrity = \"sha384-\" + hashes[url];\n      }\n      console.debug(\"Bokeh: injecting script tag for BokehJS library: \", url);\n      document.head.appendChild(element);\n    }\n  };\n\n  function inject_raw_css(css) {\n    const element = document.createElement(\"style\");\n    element.appendChild(document.createTextNode(css));\n    document.body.appendChild(element);\n  }\n\n  \n  var js_urls = [\"https://cdn.bokeh.org/bokeh/release/bokeh-2.0.1.min.js\", \"https://cdn.bokeh.org/bokeh/release/bokeh-widgets-2.0.1.min.js\", \"https://cdn.bokeh.org/bokeh/release/bokeh-tables-2.0.1.min.js\", \"https://cdn.bokeh.org/bokeh/release/bokeh-gl-2.0.1.min.js\"];\n  var css_urls = [];\n  \n\n  var inline_js = [\n    function(Bokeh) {\n      Bokeh.set_log_level(\"info\");\n    },\n    function(Bokeh) {\n    \n    \n    }\n  ];\n\n  function run_inline_js() {\n    \n    if (root.Bokeh !== undefined || force === true) {\n      \n    for (var i = 0; i < inline_js.length; i++) {\n      inline_js[i].call(root, root.Bokeh);\n    }\n    } else if (Date.now() < root._bokeh_timeout) {\n      setTimeout(run_inline_js, 100);\n    } else if (!root._bokeh_failed_load) {\n      console.log(\"Bokeh: BokehJS failed to load within specified timeout.\");\n      root._bokeh_failed_load = true;\n    } else if (force !== true) {\n      var cell = $(document.getElementById(null)).parents('.cell').data().cell;\n      cell.output_area.append_execute_result(NB_LOAD_WARNING)\n    }\n\n  }\n\n  if (root._bokeh_is_loading === 0) {\n    console.debug(\"Bokeh: BokehJS loaded, going straight to plotting\");\n    run_inline_js();\n  } else {\n    load_libs(css_urls, js_urls, function() {\n      console.debug(\"Bokeh: BokehJS plotting callback run at\", now());\n      run_inline_js();\n    });\n  }\n}(window));"
     },
     "metadata": {},
     "output_type": "display_data"
    },
    {
     "data": {
      "application/javascript": [
       "\n",
       "(function(root) {\n",
       "  function now() {\n",
       "    return new Date();\n",
       "  }\n",
       "\n",
       "  var force = true;\n",
       "\n",
       "  if (typeof root._bokeh_onload_callbacks === \"undefined\" || force === true) {\n",
       "    root._bokeh_onload_callbacks = [];\n",
       "    root._bokeh_is_loading = undefined;\n",
       "  }\n",
       "\n",
       "  var JS_MIME_TYPE = 'application/javascript';\n",
       "  var HTML_MIME_TYPE = 'text/html';\n",
       "  var EXEC_MIME_TYPE = 'application/vnd.bokehjs_exec.v0+json';\n",
       "  var CLASS_NAME = 'output_bokeh rendered_html';\n",
       "\n",
       "  /**\n",
       "   * Render data to the DOM node\n",
       "   */\n",
       "  function render(props, node) {\n",
       "    var script = document.createElement(\"script\");\n",
       "    node.appendChild(script);\n",
       "  }\n",
       "\n",
       "  /**\n",
       "   * Handle when an output is cleared or removed\n",
       "   */\n",
       "  function handleClearOutput(event, handle) {\n",
       "    var cell = handle.cell;\n",
       "\n",
       "    var id = cell.output_area._bokeh_element_id;\n",
       "    var server_id = cell.output_area._bokeh_server_id;\n",
       "    // Clean up Bokeh references\n",
       "    if (id != null && id in Bokeh.index) {\n",
       "      Bokeh.index[id].model.document.clear();\n",
       "      delete Bokeh.index[id];\n",
       "    }\n",
       "\n",
       "    if (server_id !== undefined) {\n",
       "      // Clean up Bokeh references\n",
       "      var cmd = \"from bokeh.io.state import curstate; print(curstate().uuid_to_server['\" + server_id + \"'].get_sessions()[0].document.roots[0]._id)\";\n",
       "      cell.notebook.kernel.execute(cmd, {\n",
       "        iopub: {\n",
       "          output: function(msg) {\n",
       "            var id = msg.content.text.trim();\n",
       "            if (id in Bokeh.index) {\n",
       "              Bokeh.index[id].model.document.clear();\n",
       "              delete Bokeh.index[id];\n",
       "            }\n",
       "          }\n",
       "        }\n",
       "      });\n",
       "      // Destroy server and session\n",
       "      var cmd = \"import bokeh.io.notebook as ion; ion.destroy_server('\" + server_id + \"')\";\n",
       "      cell.notebook.kernel.execute(cmd);\n",
       "    }\n",
       "  }\n",
       "\n",
       "  /**\n",
       "   * Handle when a new output is added\n",
       "   */\n",
       "  function handleAddOutput(event, handle) {\n",
       "    var output_area = handle.output_area;\n",
       "    var output = handle.output;\n",
       "\n",
       "    // limit handleAddOutput to display_data with EXEC_MIME_TYPE content only\n",
       "    if ((output.output_type != \"display_data\") || (!output.data.hasOwnProperty(EXEC_MIME_TYPE))) {\n",
       "      return\n",
       "    }\n",
       "\n",
       "    var toinsert = output_area.element.find(\".\" + CLASS_NAME.split(' ')[0]);\n",
       "\n",
       "    if (output.metadata[EXEC_MIME_TYPE][\"id\"] !== undefined) {\n",
       "      toinsert[toinsert.length - 1].firstChild.textContent = output.data[JS_MIME_TYPE];\n",
       "      // store reference to embed id on output_area\n",
       "      output_area._bokeh_element_id = output.metadata[EXEC_MIME_TYPE][\"id\"];\n",
       "    }\n",
       "    if (output.metadata[EXEC_MIME_TYPE][\"server_id\"] !== undefined) {\n",
       "      var bk_div = document.createElement(\"div\");\n",
       "      bk_div.innerHTML = output.data[HTML_MIME_TYPE];\n",
       "      var script_attrs = bk_div.children[0].attributes;\n",
       "      for (var i = 0; i < script_attrs.length; i++) {\n",
       "        toinsert[toinsert.length - 1].firstChild.setAttribute(script_attrs[i].name, script_attrs[i].value);\n",
       "        toinsert[toinsert.length - 1].firstChild.textContent = bk_div.children[0].textContent\n",
       "      }\n",
       "      // store reference to server id on output_area\n",
       "      output_area._bokeh_server_id = output.metadata[EXEC_MIME_TYPE][\"server_id\"];\n",
       "    }\n",
       "  }\n",
       "\n",
       "  function register_renderer(events, OutputArea) {\n",
       "\n",
       "    function append_mime(data, metadata, element) {\n",
       "      // create a DOM node to render to\n",
       "      var toinsert = this.create_output_subarea(\n",
       "        metadata,\n",
       "        CLASS_NAME,\n",
       "        EXEC_MIME_TYPE\n",
       "      );\n",
       "      this.keyboard_manager.register_events(toinsert);\n",
       "      // Render to node\n",
       "      var props = {data: data, metadata: metadata[EXEC_MIME_TYPE]};\n",
       "      render(props, toinsert[toinsert.length - 1]);\n",
       "      element.append(toinsert);\n",
       "      return toinsert\n",
       "    }\n",
       "\n",
       "    /* Handle when an output is cleared or removed */\n",
       "    events.on('clear_output.CodeCell', handleClearOutput);\n",
       "    events.on('delete.Cell', handleClearOutput);\n",
       "\n",
       "    /* Handle when a new output is added */\n",
       "    events.on('output_added.OutputArea', handleAddOutput);\n",
       "\n",
       "    /**\n",
       "     * Register the mime type and append_mime function with output_area\n",
       "     */\n",
       "    OutputArea.prototype.register_mime_type(EXEC_MIME_TYPE, append_mime, {\n",
       "      /* Is output safe? */\n",
       "      safe: true,\n",
       "      /* Index of renderer in `output_area.display_order` */\n",
       "      index: 0\n",
       "    });\n",
       "  }\n",
       "\n",
       "  // register the mime type if in Jupyter Notebook environment and previously unregistered\n",
       "  if (root.Jupyter !== undefined) {\n",
       "    var events = require('base/js/events');\n",
       "    var OutputArea = require('notebook/js/outputarea').OutputArea;\n",
       "\n",
       "    if (OutputArea.prototype.mime_types().indexOf(EXEC_MIME_TYPE) == -1) {\n",
       "      register_renderer(events, OutputArea);\n",
       "    }\n",
       "  }\n",
       "\n",
       "  \n",
       "  if (typeof (root._bokeh_timeout) === \"undefined\" || force === true) {\n",
       "    root._bokeh_timeout = Date.now() + 5000;\n",
       "    root._bokeh_failed_load = false;\n",
       "  }\n",
       "\n",
       "  var NB_LOAD_WARNING = {'data': {'text/html':\n",
       "     \"<div style='background-color: #fdd'>\\n\"+\n",
       "     \"<p>\\n\"+\n",
       "     \"BokehJS does not appear to have successfully loaded. If loading BokehJS from CDN, this \\n\"+\n",
       "     \"may be due to a slow or bad network connection. Possible fixes:\\n\"+\n",
       "     \"</p>\\n\"+\n",
       "     \"<ul>\\n\"+\n",
       "     \"<li>re-rerun `output_notebook()` to attempt to load from CDN again, or</li>\\n\"+\n",
       "     \"<li>use INLINE resources instead, as so:</li>\\n\"+\n",
       "     \"</ul>\\n\"+\n",
       "     \"<code>\\n\"+\n",
       "     \"from bokeh.resources import INLINE\\n\"+\n",
       "     \"output_notebook(resources=INLINE)\\n\"+\n",
       "     \"</code>\\n\"+\n",
       "     \"</div>\"}};\n",
       "\n",
       "  function display_loaded() {\n",
       "    var el = document.getElementById(null);\n",
       "    if (el != null) {\n",
       "      el.textContent = \"BokehJS is loading...\";\n",
       "    }\n",
       "    if (root.Bokeh !== undefined) {\n",
       "      if (el != null) {\n",
       "        el.textContent = \"BokehJS \" + root.Bokeh.version + \" successfully loaded.\";\n",
       "      }\n",
       "    } else if (Date.now() < root._bokeh_timeout) {\n",
       "      setTimeout(display_loaded, 100)\n",
       "    }\n",
       "  }\n",
       "\n",
       "\n",
       "  function run_callbacks() {\n",
       "    try {\n",
       "      root._bokeh_onload_callbacks.forEach(function(callback) {\n",
       "        if (callback != null)\n",
       "          callback();\n",
       "      });\n",
       "    } finally {\n",
       "      delete root._bokeh_onload_callbacks\n",
       "    }\n",
       "    console.debug(\"Bokeh: all callbacks have finished\");\n",
       "  }\n",
       "\n",
       "  function load_libs(css_urls, js_urls, callback) {\n",
       "    if (css_urls == null) css_urls = [];\n",
       "    if (js_urls == null) js_urls = [];\n",
       "\n",
       "    root._bokeh_onload_callbacks.push(callback);\n",
       "    if (root._bokeh_is_loading > 0) {\n",
       "      console.debug(\"Bokeh: BokehJS is being loaded, scheduling callback at\", now());\n",
       "      return null;\n",
       "    }\n",
       "    if (js_urls == null || js_urls.length === 0) {\n",
       "      run_callbacks();\n",
       "      return null;\n",
       "    }\n",
       "    console.debug(\"Bokeh: BokehJS not loaded, scheduling load and callback at\", now());\n",
       "    root._bokeh_is_loading = css_urls.length + js_urls.length;\n",
       "\n",
       "    function on_load() {\n",
       "      root._bokeh_is_loading--;\n",
       "      if (root._bokeh_is_loading === 0) {\n",
       "        console.debug(\"Bokeh: all BokehJS libraries/stylesheets loaded\");\n",
       "        run_callbacks()\n",
       "      }\n",
       "    }\n",
       "\n",
       "    function on_error() {\n",
       "      console.error(\"failed to load \" + url);\n",
       "    }\n",
       "\n",
       "    for (var i = 0; i < css_urls.length; i++) {\n",
       "      var url = css_urls[i];\n",
       "      const element = document.createElement(\"link\");\n",
       "      element.onload = on_load;\n",
       "      element.onerror = on_error;\n",
       "      element.rel = \"stylesheet\";\n",
       "      element.type = \"text/css\";\n",
       "      element.href = url;\n",
       "      console.debug(\"Bokeh: injecting link tag for BokehJS stylesheet: \", url);\n",
       "      document.body.appendChild(element);\n",
       "    }\n",
       "\n",
       "    const hashes = {\"https://cdn.bokeh.org/bokeh/release/bokeh-2.0.1.min.js\": \"JpP8FXbgAZLkfur7LiK3j9AGBhHNIvF742meBJrjO2ShJDhCG2I1uVvW+0DUtrmc\", \"https://cdn.bokeh.org/bokeh/release/bokeh-widgets-2.0.1.min.js\": \"xZlADit0Q04ISQEdKg2k3L4W9AwQBAuDs9nJL9fM/WwzL1tEU9VPNezOFX0nLEAz\", \"https://cdn.bokeh.org/bokeh/release/bokeh-tables-2.0.1.min.js\": \"4BuPRZkdMKSnj3zoxiNrQ86XgNw0rYmBOxe7nshquXwwcauupgBF2DHLVG1WuZlV\", \"https://cdn.bokeh.org/bokeh/release/bokeh-gl-2.0.1.min.js\": \"Dv1SQ87hmDqK6S5OhBf0bCuwAEvL5QYL0PuR/F1SPVhCS/r/abjkbpKDYL2zeM19\"};\n",
       "\n",
       "    for (var i = 0; i < js_urls.length; i++) {\n",
       "      var url = js_urls[i];\n",
       "      var element = document.createElement('script');\n",
       "      element.onload = on_load;\n",
       "      element.onerror = on_error;\n",
       "      element.async = false;\n",
       "      element.src = url;\n",
       "      if (url in hashes) {\n",
       "        element.crossOrigin = \"anonymous\";\n",
       "        element.integrity = \"sha384-\" + hashes[url];\n",
       "      }\n",
       "      console.debug(\"Bokeh: injecting script tag for BokehJS library: \", url);\n",
       "      document.head.appendChild(element);\n",
       "    }\n",
       "  };\n",
       "\n",
       "  function inject_raw_css(css) {\n",
       "    const element = document.createElement(\"style\");\n",
       "    element.appendChild(document.createTextNode(css));\n",
       "    document.body.appendChild(element);\n",
       "  }\n",
       "\n",
       "  \n",
       "  var js_urls = [\"https://cdn.bokeh.org/bokeh/release/bokeh-2.0.1.min.js\", \"https://cdn.bokeh.org/bokeh/release/bokeh-widgets-2.0.1.min.js\", \"https://cdn.bokeh.org/bokeh/release/bokeh-tables-2.0.1.min.js\", \"https://cdn.bokeh.org/bokeh/release/bokeh-gl-2.0.1.min.js\"];\n",
       "  var css_urls = [];\n",
       "  \n",
       "\n",
       "  var inline_js = [\n",
       "    function(Bokeh) {\n",
       "      Bokeh.set_log_level(\"info\");\n",
       "    },\n",
       "    function(Bokeh) {\n",
       "    \n",
       "    \n",
       "    }\n",
       "  ];\n",
       "\n",
       "  function run_inline_js() {\n",
       "    \n",
       "    if (root.Bokeh !== undefined || force === true) {\n",
       "      \n",
       "    for (var i = 0; i < inline_js.length; i++) {\n",
       "      inline_js[i].call(root, root.Bokeh);\n",
       "    }\n",
       "    } else if (Date.now() < root._bokeh_timeout) {\n",
       "      setTimeout(run_inline_js, 100);\n",
       "    } else if (!root._bokeh_failed_load) {\n",
       "      console.log(\"Bokeh: BokehJS failed to load within specified timeout.\");\n",
       "      root._bokeh_failed_load = true;\n",
       "    } else if (force !== true) {\n",
       "      var cell = $(document.getElementById(null)).parents('.cell').data().cell;\n",
       "      cell.output_area.append_execute_result(NB_LOAD_WARNING)\n",
       "    }\n",
       "\n",
       "  }\n",
       "\n",
       "  if (root._bokeh_is_loading === 0) {\n",
       "    console.debug(\"Bokeh: BokehJS loaded, going straight to plotting\");\n",
       "    run_inline_js();\n",
       "  } else {\n",
       "    load_libs(css_urls, js_urls, function() {\n",
       "      console.debug(\"Bokeh: BokehJS plotting callback run at\", now());\n",
       "      run_inline_js();\n",
       "    });\n",
       "  }\n",
       "}(window));"
      ],
      "application/vnd.bokehjs_load.v0+json": "\n(function(root) {\n  function now() {\n    return new Date();\n  }\n\n  var force = true;\n\n  if (typeof root._bokeh_onload_callbacks === \"undefined\" || force === true) {\n    root._bokeh_onload_callbacks = [];\n    root._bokeh_is_loading = undefined;\n  }\n\n  \n\n  \n  if (typeof (root._bokeh_timeout) === \"undefined\" || force === true) {\n    root._bokeh_timeout = Date.now() + 5000;\n    root._bokeh_failed_load = false;\n  }\n\n  var NB_LOAD_WARNING = {'data': {'text/html':\n     \"<div style='background-color: #fdd'>\\n\"+\n     \"<p>\\n\"+\n     \"BokehJS does not appear to have successfully loaded. If loading BokehJS from CDN, this \\n\"+\n     \"may be due to a slow or bad network connection. Possible fixes:\\n\"+\n     \"</p>\\n\"+\n     \"<ul>\\n\"+\n     \"<li>re-rerun `output_notebook()` to attempt to load from CDN again, or</li>\\n\"+\n     \"<li>use INLINE resources instead, as so:</li>\\n\"+\n     \"</ul>\\n\"+\n     \"<code>\\n\"+\n     \"from bokeh.resources import INLINE\\n\"+\n     \"output_notebook(resources=INLINE)\\n\"+\n     \"</code>\\n\"+\n     \"</div>\"}};\n\n  function display_loaded() {\n    var el = document.getElementById(null);\n    if (el != null) {\n      el.textContent = \"BokehJS is loading...\";\n    }\n    if (root.Bokeh !== undefined) {\n      if (el != null) {\n        el.textContent = \"BokehJS \" + root.Bokeh.version + \" successfully loaded.\";\n      }\n    } else if (Date.now() < root._bokeh_timeout) {\n      setTimeout(display_loaded, 100)\n    }\n  }\n\n\n  function run_callbacks() {\n    try {\n      root._bokeh_onload_callbacks.forEach(function(callback) {\n        if (callback != null)\n          callback();\n      });\n    } finally {\n      delete root._bokeh_onload_callbacks\n    }\n    console.debug(\"Bokeh: all callbacks have finished\");\n  }\n\n  function load_libs(css_urls, js_urls, callback) {\n    if (css_urls == null) css_urls = [];\n    if (js_urls == null) js_urls = [];\n\n    root._bokeh_onload_callbacks.push(callback);\n    if (root._bokeh_is_loading > 0) {\n      console.debug(\"Bokeh: BokehJS is being loaded, scheduling callback at\", now());\n      return null;\n    }\n    if (js_urls == null || js_urls.length === 0) {\n      run_callbacks();\n      return null;\n    }\n    console.debug(\"Bokeh: BokehJS not loaded, scheduling load and callback at\", now());\n    root._bokeh_is_loading = css_urls.length + js_urls.length;\n\n    function on_load() {\n      root._bokeh_is_loading--;\n      if (root._bokeh_is_loading === 0) {\n        console.debug(\"Bokeh: all BokehJS libraries/stylesheets loaded\");\n        run_callbacks()\n      }\n    }\n\n    function on_error() {\n      console.error(\"failed to load \" + url);\n    }\n\n    for (var i = 0; i < css_urls.length; i++) {\n      var url = css_urls[i];\n      const element = document.createElement(\"link\");\n      element.onload = on_load;\n      element.onerror = on_error;\n      element.rel = \"stylesheet\";\n      element.type = \"text/css\";\n      element.href = url;\n      console.debug(\"Bokeh: injecting link tag for BokehJS stylesheet: \", url);\n      document.body.appendChild(element);\n    }\n\n    const hashes = {\"https://cdn.bokeh.org/bokeh/release/bokeh-2.0.1.min.js\": \"JpP8FXbgAZLkfur7LiK3j9AGBhHNIvF742meBJrjO2ShJDhCG2I1uVvW+0DUtrmc\", \"https://cdn.bokeh.org/bokeh/release/bokeh-widgets-2.0.1.min.js\": \"xZlADit0Q04ISQEdKg2k3L4W9AwQBAuDs9nJL9fM/WwzL1tEU9VPNezOFX0nLEAz\", \"https://cdn.bokeh.org/bokeh/release/bokeh-tables-2.0.1.min.js\": \"4BuPRZkdMKSnj3zoxiNrQ86XgNw0rYmBOxe7nshquXwwcauupgBF2DHLVG1WuZlV\", \"https://cdn.bokeh.org/bokeh/release/bokeh-gl-2.0.1.min.js\": \"Dv1SQ87hmDqK6S5OhBf0bCuwAEvL5QYL0PuR/F1SPVhCS/r/abjkbpKDYL2zeM19\"};\n\n    for (var i = 0; i < js_urls.length; i++) {\n      var url = js_urls[i];\n      var element = document.createElement('script');\n      element.onload = on_load;\n      element.onerror = on_error;\n      element.async = false;\n      element.src = url;\n      if (url in hashes) {\n        element.crossOrigin = \"anonymous\";\n        element.integrity = \"sha384-\" + hashes[url];\n      }\n      console.debug(\"Bokeh: injecting script tag for BokehJS library: \", url);\n      document.head.appendChild(element);\n    }\n  };\n\n  function inject_raw_css(css) {\n    const element = document.createElement(\"style\");\n    element.appendChild(document.createTextNode(css));\n    document.body.appendChild(element);\n  }\n\n  \n  var js_urls = [\"https://cdn.bokeh.org/bokeh/release/bokeh-2.0.1.min.js\", \"https://cdn.bokeh.org/bokeh/release/bokeh-widgets-2.0.1.min.js\", \"https://cdn.bokeh.org/bokeh/release/bokeh-tables-2.0.1.min.js\", \"https://cdn.bokeh.org/bokeh/release/bokeh-gl-2.0.1.min.js\"];\n  var css_urls = [];\n  \n\n  var inline_js = [\n    function(Bokeh) {\n      Bokeh.set_log_level(\"info\");\n    },\n    function(Bokeh) {\n    \n    \n    }\n  ];\n\n  function run_inline_js() {\n    \n    if (root.Bokeh !== undefined || force === true) {\n      \n    for (var i = 0; i < inline_js.length; i++) {\n      inline_js[i].call(root, root.Bokeh);\n    }\n    } else if (Date.now() < root._bokeh_timeout) {\n      setTimeout(run_inline_js, 100);\n    } else if (!root._bokeh_failed_load) {\n      console.log(\"Bokeh: BokehJS failed to load within specified timeout.\");\n      root._bokeh_failed_load = true;\n    } else if (force !== true) {\n      var cell = $(document.getElementById(null)).parents('.cell').data().cell;\n      cell.output_area.append_execute_result(NB_LOAD_WARNING)\n    }\n\n  }\n\n  if (root._bokeh_is_loading === 0) {\n    console.debug(\"Bokeh: BokehJS loaded, going straight to plotting\");\n    run_inline_js();\n  } else {\n    load_libs(css_urls, js_urls, function() {\n      console.debug(\"Bokeh: BokehJS plotting callback run at\", now());\n      run_inline_js();\n    });\n  }\n}(window));"
     },
     "metadata": {},
     "output_type": "display_data"
    }
   ],
   "source": [
    "import os\n",
    "from smdebug.profiler.analysis.notebook_utils.training_job import TrainingJob\n",
    "from smdebug.profiler.analysis.python_profile_analysis import PyinstrumentAnalysis\n",
    "from smdebug.profiler.python_profiler import StepPhase\n",
    "from IPython.display import IFrame"
   ]
  },
  {
   "cell_type": "code",
   "execution_count": 2,
   "metadata": {},
   "outputs": [],
   "source": [
    "region = 'us-east-1'"
   ]
  },
  {
   "cell_type": "code",
   "execution_count": 3,
   "metadata": {},
   "outputs": [
    {
     "name": "stdout",
     "output_type": "stream",
     "text": [
      "ProfilerConfig:{'S3OutputPath': 's3://sagemaker-us-east-1-072677473360/', 'ProfilingIntervalInMilliseconds': 500, 'ProfilingParameters': {'DetailedProfilingConfig': '{\"StartStep\": 10 ,\"NumSteps\": 10}', 'ProfilerEnabled': 'True', 'UsePyinstrument': 'True'}}\n",
      "s3 path:s3://sagemaker-us-east-1-072677473360/smprofiler-cpu-2020-08-08-01-48-19-643/profiler-output\n"
     ]
    }
   ],
   "source": [
    "tf_python_stats_dir = \"tf_python_stats\"\n",
    "os.makedirs(tf_python_stats_dir, exist_ok=True)\n",
    "tf_training_job_name = 'smprofiler-cpu-2020-08-08-01-48-19-643'\n",
    "tf_tj = TrainingJob(tf_training_job_name, region)\n",
    "tf_python_analysis = PyinstrumentAnalysis(local_profile_dir=tf_python_stats_dir, s3_path=tf_tj.profiler_s3_output_path)"
   ]
  },
  {
   "cell_type": "code",
   "execution_count": 19,
   "metadata": {},
   "outputs": [
    {
     "name": "stdout",
     "output_type": "stream",
     "text": [
      "ProfilerConfig:{'S3OutputPath': 's3://sagemaker-us-east-1-072677473360/', 'ProfilingIntervalInMilliseconds': 500, 'ProfilingParameters': {'DetailedProfilingConfig': '{\"StartStep\": 10, \"NumSteps\": 10}', 'ProfilerEnabled': 'True', 'UsePyinstrument': 'True'}}\n",
      "s3 path:s3://sagemaker-us-east-1-072677473360/smprofiler-cpu-2020-08-18-22-00-29-170/profiler-output\n"
     ]
    }
   ],
   "source": [
    "pt_python_stats_dir = \"pt_python_stats\"\n",
    "os.makedirs(pt_python_stats_dir, exist_ok=True)\n",
    "pt_training_job_name = 'smprofiler-cpu-2020-08-18-22-00-29-170'\n",
    "pt_tj = TrainingJob(pt_training_job_name, region)\n",
    "pt_python_analysis = PyinstrumentAnalysis(local_profile_dir=pt_python_stats_dir, s3_path=pt_tj.profiler_s3_output_path)"
   ]
  },
  {
   "cell_type": "markdown",
   "metadata": {},
   "source": [
    "## 5.2 Analyze general Python profiling data.\n",
    "This will give us insight into the metadata regarding each instance of Python profiling as well as bottlenecks that we can easily identify by visualizing the call stack."
   ]
  },
  {
   "cell_type": "markdown",
   "metadata": {},
   "source": [
    "Let's take a look at what Python profiling data was collected. Each `step_stats` refers to a specific instance of Python profiling, which has its associated stats files. In this case, since we used pyinstrument as our profiler, there are two types (JSON and HTML) of stats files for each instance of profiling. The first two rows (with start step -1) refer to the stats collected during pre-step 0 profiling, which includes user code in the training script."
   ]
  },
  {
   "cell_type": "code",
   "execution_count": 7,
   "metadata": {},
   "outputs": [
    {
     "data": {
      "text/html": [
       "<div>\n",
       "<style scoped>\n",
       "    .dataframe tbody tr th:only-of-type {\n",
       "        vertical-align: middle;\n",
       "    }\n",
       "\n",
       "    .dataframe tbody tr th {\n",
       "        vertical-align: top;\n",
       "    }\n",
       "\n",
       "    .dataframe thead th {\n",
       "        text-align: right;\n",
       "    }\n",
       "</style>\n",
       "<table border=\"1\" class=\"dataframe\">\n",
       "  <thead>\n",
       "    <tr style=\"text-align: right;\">\n",
       "      <th></th>\n",
       "      <th>profiler_name</th>\n",
       "      <th>framework</th>\n",
       "      <th>start_time_since_epoch_in_micros</th>\n",
       "      <th>end_time_since_epoch_in_micros</th>\n",
       "      <th>node_id</th>\n",
       "      <th>start_phase</th>\n",
       "      <th>start_step</th>\n",
       "      <th>end_phase</th>\n",
       "      <th>end_step</th>\n",
       "      <th>stats_path</th>\n",
       "    </tr>\n",
       "  </thead>\n",
       "  <tbody>\n",
       "    <tr>\n",
       "      <th>0</th>\n",
       "      <td>pyinstrument</td>\n",
       "      <td>tensorflow</td>\n",
       "      <td>1.596852e+15</td>\n",
       "      <td>1.596852e+15</td>\n",
       "      <td>77-algo-1</td>\n",
       "      <td>StepPhase.START</td>\n",
       "      <td>-1</td>\n",
       "      <td>StepPhase.STEP_START</td>\n",
       "      <td>0</td>\n",
       "      <td>tf_python_stats/python_stats/tensorflow_159685...</td>\n",
       "    </tr>\n",
       "    <tr>\n",
       "      <th>1</th>\n",
       "      <td>pyinstrument</td>\n",
       "      <td>tensorflow</td>\n",
       "      <td>1.596852e+15</td>\n",
       "      <td>1.596852e+15</td>\n",
       "      <td>77-algo-1</td>\n",
       "      <td>StepPhase.START</td>\n",
       "      <td>-1</td>\n",
       "      <td>StepPhase.STEP_START</td>\n",
       "      <td>0</td>\n",
       "      <td>tf_python_stats/python_stats/tensorflow_159685...</td>\n",
       "    </tr>\n",
       "    <tr>\n",
       "      <th>2</th>\n",
       "      <td>pyinstrument</td>\n",
       "      <td>tensorflow</td>\n",
       "      <td>1.596852e+15</td>\n",
       "      <td>1.596852e+15</td>\n",
       "      <td>77-algo-1</td>\n",
       "      <td>StepPhase.STEP_START</td>\n",
       "      <td>10</td>\n",
       "      <td>StepPhase.STEP_END</td>\n",
       "      <td>10</td>\n",
       "      <td>tf_python_stats/python_stats/tensorflow_159685...</td>\n",
       "    </tr>\n",
       "    <tr>\n",
       "      <th>3</th>\n",
       "      <td>pyinstrument</td>\n",
       "      <td>tensorflow</td>\n",
       "      <td>1.596852e+15</td>\n",
       "      <td>1.596852e+15</td>\n",
       "      <td>77-algo-1</td>\n",
       "      <td>StepPhase.STEP_START</td>\n",
       "      <td>10</td>\n",
       "      <td>StepPhase.STEP_END</td>\n",
       "      <td>10</td>\n",
       "      <td>tf_python_stats/python_stats/tensorflow_159685...</td>\n",
       "    </tr>\n",
       "    <tr>\n",
       "      <th>4</th>\n",
       "      <td>pyinstrument</td>\n",
       "      <td>tensorflow</td>\n",
       "      <td>1.596852e+15</td>\n",
       "      <td>1.596852e+15</td>\n",
       "      <td>77-algo-1</td>\n",
       "      <td>StepPhase.STEP_END</td>\n",
       "      <td>10</td>\n",
       "      <td>StepPhase.STEP_START</td>\n",
       "      <td>11</td>\n",
       "      <td>tf_python_stats/python_stats/tensorflow_159685...</td>\n",
       "    </tr>\n",
       "  </tbody>\n",
       "</table>\n",
       "</div>"
      ],
      "text/plain": [
       "  profiler_name   framework  start_time_since_epoch_in_micros  \\\n",
       "0  pyinstrument  tensorflow                      1.596852e+15   \n",
       "1  pyinstrument  tensorflow                      1.596852e+15   \n",
       "2  pyinstrument  tensorflow                      1.596852e+15   \n",
       "3  pyinstrument  tensorflow                      1.596852e+15   \n",
       "4  pyinstrument  tensorflow                      1.596852e+15   \n",
       "\n",
       "   end_time_since_epoch_in_micros    node_id           start_phase  \\\n",
       "0                    1.596852e+15  77-algo-1       StepPhase.START   \n",
       "1                    1.596852e+15  77-algo-1       StepPhase.START   \n",
       "2                    1.596852e+15  77-algo-1  StepPhase.STEP_START   \n",
       "3                    1.596852e+15  77-algo-1  StepPhase.STEP_START   \n",
       "4                    1.596852e+15  77-algo-1    StepPhase.STEP_END   \n",
       "\n",
       "   start_step             end_phase  end_step  \\\n",
       "0          -1  StepPhase.STEP_START         0   \n",
       "1          -1  StepPhase.STEP_START         0   \n",
       "2          10    StepPhase.STEP_END        10   \n",
       "3          10    StepPhase.STEP_END        10   \n",
       "4          10  StepPhase.STEP_START        11   \n",
       "\n",
       "                                          stats_path  \n",
       "0  tf_python_stats/python_stats/tensorflow_159685...  \n",
       "1  tf_python_stats/python_stats/tensorflow_159685...  \n",
       "2  tf_python_stats/python_stats/tensorflow_159685...  \n",
       "3  tf_python_stats/python_stats/tensorflow_159685...  \n",
       "4  tf_python_stats/python_stats/tensorflow_159685...  "
      ]
     },
     "execution_count": 7,
     "metadata": {},
     "output_type": "execute_result"
    }
   ],
   "source": [
    "tf_stats = list(map(lambda x: vars(x), tf_python_analysis.list_profile_stats()))\n",
    "tf_step_stats_df = pd.DataFrame(tf_stats)\n",
    "tf_step_stats_df.head()"
   ]
  },
  {
   "cell_type": "code",
   "execution_count": 20,
   "metadata": {},
   "outputs": [
    {
     "data": {
      "text/html": [
       "<div>\n",
       "<style scoped>\n",
       "    .dataframe tbody tr th:only-of-type {\n",
       "        vertical-align: middle;\n",
       "    }\n",
       "\n",
       "    .dataframe tbody tr th {\n",
       "        vertical-align: top;\n",
       "    }\n",
       "\n",
       "    .dataframe thead th {\n",
       "        text-align: right;\n",
       "    }\n",
       "</style>\n",
       "<table border=\"1\" class=\"dataframe\">\n",
       "  <thead>\n",
       "    <tr style=\"text-align: right;\">\n",
       "      <th></th>\n",
       "      <th>profiler_name</th>\n",
       "      <th>framework</th>\n",
       "      <th>start_time_since_epoch_in_micros</th>\n",
       "      <th>end_time_since_epoch_in_micros</th>\n",
       "      <th>node_id</th>\n",
       "      <th>start_phase</th>\n",
       "      <th>start_step</th>\n",
       "      <th>end_phase</th>\n",
       "      <th>end_step</th>\n",
       "      <th>stats_path</th>\n",
       "    </tr>\n",
       "  </thead>\n",
       "  <tbody>\n",
       "    <tr>\n",
       "      <th>0</th>\n",
       "      <td>pyinstrument</td>\n",
       "      <td>pytorch</td>\n",
       "      <td>1.597788e+15</td>\n",
       "      <td>1.597788e+15</td>\n",
       "      <td>71-algo-1</td>\n",
       "      <td>StepPhase.START</td>\n",
       "      <td>-1</td>\n",
       "      <td>StepPhase.STEP_START</td>\n",
       "      <td>0</td>\n",
       "      <td>pt_python_stats/python_stats/pytorch_159778833...</td>\n",
       "    </tr>\n",
       "    <tr>\n",
       "      <th>1</th>\n",
       "      <td>pyinstrument</td>\n",
       "      <td>pytorch</td>\n",
       "      <td>1.597788e+15</td>\n",
       "      <td>1.597788e+15</td>\n",
       "      <td>71-algo-1</td>\n",
       "      <td>StepPhase.START</td>\n",
       "      <td>-1</td>\n",
       "      <td>StepPhase.STEP_START</td>\n",
       "      <td>0</td>\n",
       "      <td>pt_python_stats/python_stats/pytorch_159778833...</td>\n",
       "    </tr>\n",
       "    <tr>\n",
       "      <th>2</th>\n",
       "      <td>pyinstrument</td>\n",
       "      <td>pytorch</td>\n",
       "      <td>1.597788e+15</td>\n",
       "      <td>1.597788e+15</td>\n",
       "      <td>71-algo-1</td>\n",
       "      <td>StepPhase.STEP_START</td>\n",
       "      <td>10</td>\n",
       "      <td>StepPhase.FORWARD_PASS_END</td>\n",
       "      <td>10</td>\n",
       "      <td>pt_python_stats/python_stats/pytorch_159778836...</td>\n",
       "    </tr>\n",
       "    <tr>\n",
       "      <th>3</th>\n",
       "      <td>pyinstrument</td>\n",
       "      <td>pytorch</td>\n",
       "      <td>1.597788e+15</td>\n",
       "      <td>1.597788e+15</td>\n",
       "      <td>71-algo-1</td>\n",
       "      <td>StepPhase.STEP_START</td>\n",
       "      <td>10</td>\n",
       "      <td>StepPhase.FORWARD_PASS_END</td>\n",
       "      <td>10</td>\n",
       "      <td>pt_python_stats/python_stats/pytorch_159778836...</td>\n",
       "    </tr>\n",
       "    <tr>\n",
       "      <th>4</th>\n",
       "      <td>pyinstrument</td>\n",
       "      <td>pytorch</td>\n",
       "      <td>1.597788e+15</td>\n",
       "      <td>1.597788e+15</td>\n",
       "      <td>71-algo-1</td>\n",
       "      <td>StepPhase.FORWARD_PASS_END</td>\n",
       "      <td>10</td>\n",
       "      <td>StepPhase.STEP_START</td>\n",
       "      <td>11</td>\n",
       "      <td>pt_python_stats/python_stats/pytorch_159778836...</td>\n",
       "    </tr>\n",
       "  </tbody>\n",
       "</table>\n",
       "</div>"
      ],
      "text/plain": [
       "  profiler_name framework  start_time_since_epoch_in_micros  \\\n",
       "0  pyinstrument   pytorch                      1.597788e+15   \n",
       "1  pyinstrument   pytorch                      1.597788e+15   \n",
       "2  pyinstrument   pytorch                      1.597788e+15   \n",
       "3  pyinstrument   pytorch                      1.597788e+15   \n",
       "4  pyinstrument   pytorch                      1.597788e+15   \n",
       "\n",
       "   end_time_since_epoch_in_micros    node_id                 start_phase  \\\n",
       "0                    1.597788e+15  71-algo-1             StepPhase.START   \n",
       "1                    1.597788e+15  71-algo-1             StepPhase.START   \n",
       "2                    1.597788e+15  71-algo-1        StepPhase.STEP_START   \n",
       "3                    1.597788e+15  71-algo-1        StepPhase.STEP_START   \n",
       "4                    1.597788e+15  71-algo-1  StepPhase.FORWARD_PASS_END   \n",
       "\n",
       "   start_step                   end_phase  end_step  \\\n",
       "0          -1        StepPhase.STEP_START         0   \n",
       "1          -1        StepPhase.STEP_START         0   \n",
       "2          10  StepPhase.FORWARD_PASS_END        10   \n",
       "3          10  StepPhase.FORWARD_PASS_END        10   \n",
       "4          10        StepPhase.STEP_START        11   \n",
       "\n",
       "                                          stats_path  \n",
       "0  pt_python_stats/python_stats/pytorch_159778833...  \n",
       "1  pt_python_stats/python_stats/pytorch_159778833...  \n",
       "2  pt_python_stats/python_stats/pytorch_159778836...  \n",
       "3  pt_python_stats/python_stats/pytorch_159778836...  \n",
       "4  pt_python_stats/python_stats/pytorch_159778836...  "
      ]
     },
     "execution_count": 20,
     "metadata": {},
     "output_type": "execute_result"
    }
   ],
   "source": [
    "pt_stats = list(map(lambda x: vars(x), pt_python_analysis.list_profile_stats()))\n",
    "pt_step_stats_df = pd.DataFrame(pt_stats)\n",
    "pt_step_stats_df.head()"
   ]
  },
  {
   "cell_type": "markdown",
   "metadata": {},
   "source": [
    "First, let's take a look at the pre-step 0 profiling stats. Can we spot any bottlenecks in the user's training code for each job? Try looking at how long it takes for the data to be downloaded or loaded.\n",
    "\n",
    "*If you get a 404 error running the following cells, try rerunning them (sometimes running the cells too quickly will trigger the 404).*"
   ]
  },
  {
   "cell_type": "code",
   "execution_count": 21,
   "metadata": {},
   "outputs": [
    {
     "data": {
      "text/html": [
       "\n",
       "        <iframe\n",
       "            width=\"1000\"\n",
       "            height=\"500\"\n",
       "            src=\"tf_python_stats/python_stats/tensorflow_1596851644468213.8_1596851665321973.2_77-algo-1_start_-1_step-start_0/python_stats.html\"\n",
       "            frameborder=\"0\"\n",
       "            allowfullscreen\n",
       "        ></iframe>\n",
       "        "
      ],
      "text/plain": [
       "<IPython.lib.display.IFrame at 0x7fde78398ac8>"
      ]
     },
     "execution_count": 21,
     "metadata": {},
     "output_type": "execute_result"
    }
   ],
   "source": [
    "tf_pyinstrument_pre_step_zero_stats = tf_python_analysis.fetch_pre_step_zero_profile_stats()\n",
    "IFrame(src=tf_pyinstrument_pre_step_zero_stats[0].html_file_path, width= 1000, height=500)"
   ]
  },
  {
   "cell_type": "code",
   "execution_count": 22,
   "metadata": {},
   "outputs": [
    {
     "data": {
      "text/html": [
       "\n",
       "        <iframe\n",
       "            width=\"1000\"\n",
       "            height=\"500\"\n",
       "            src=\"pt_python_stats/python_stats/pytorch_1597788338976331.2_1597788349720926.8_71-algo-1_start_-1_step-start_0/python_stats.html\"\n",
       "            frameborder=\"0\"\n",
       "            allowfullscreen\n",
       "        ></iframe>\n",
       "        "
      ],
      "text/plain": [
       "<IPython.lib.display.IFrame at 0x7fde79dcfba8>"
      ]
     },
     "execution_count": 22,
     "metadata": {},
     "output_type": "execute_result"
    }
   ],
   "source": [
    "pt_pyinstrument_pre_step_zero_stats = pt_python_analysis.fetch_pre_step_zero_profile_stats()\n",
    "IFrame(src=pt_pyinstrument_pre_step_zero_stats[0].html_file_path, width= 1000, height=500)"
   ]
  },
  {
   "cell_type": "markdown",
   "metadata": {},
   "source": [
    "Now, let's look at the profiling stats between two arbitrary steps that we profiled for these jobs. Can we spot the bottlenecks here? You should be looking for a function called `between_steps_bottleneck`.\n",
    "\n",
    "*If you get a 404 error running the following cells, try rerunning them (sometimes running the cells too quickly will trigger the 404).*"
   ]
  },
  {
   "cell_type": "code",
   "execution_count": 23,
   "metadata": {},
   "outputs": [
    {
     "data": {
      "text/html": [
       "\n",
       "        <iframe\n",
       "            width=\"1000\"\n",
       "            height=\"300\"\n",
       "            src=\"tf_python_stats/python_stats/tensorflow_1596851693509627.5_1596851694512114.5_77-algo-1_step-end_10_step-start_11/python_stats.html\"\n",
       "            frameborder=\"0\"\n",
       "            allowfullscreen\n",
       "        ></iframe>\n",
       "        "
      ],
      "text/plain": [
       "<IPython.lib.display.IFrame at 0x7fde7843bf98>"
      ]
     },
     "execution_count": 23,
     "metadata": {},
     "output_type": "execute_result"
    }
   ],
   "source": [
    "profiler_config = eval(tf_tj.profiler_config[\"ProfilingParameters\"][\"DetailedProfilingConfig\"])\n",
    "start_step = profiler_config[\"StartStep\"]\n",
    "end_step = start_step + 1\n",
    "start_phase = StepPhase.STEP_END\n",
    "end_phase = StepPhase.STEP_START \n",
    "\n",
    "tf_pyinstrument_stats = tf_python_analysis.fetch_profile_stats_by_step(start_step, end_step, start_phase, end_phase)\n",
    "IFrame(src=tf_pyinstrument_stats[0].html_file_path, width= 1000, height=300)"
   ]
  },
  {
   "cell_type": "code",
   "execution_count": 24,
   "metadata": {},
   "outputs": [
    {
     "data": {
      "text/html": [
       "\n",
       "        <iframe\n",
       "            width=\"1000\"\n",
       "            height=\"300\"\n",
       "            src=\"pt_python_stats/python_stats/pytorch_1597788362904202.5_1597788364791703.5_71-algo-1_backward-pass-end_10_step-start_11/python_stats.html\"\n",
       "            frameborder=\"0\"\n",
       "            allowfullscreen\n",
       "        ></iframe>\n",
       "        "
      ],
      "text/plain": [
       "<IPython.lib.display.IFrame at 0x7fde79dd3978>"
      ]
     },
     "execution_count": 24,
     "metadata": {},
     "output_type": "execute_result"
    }
   ],
   "source": [
    "profiler_config = eval(pt_tj.profiler_config[\"ProfilingParameters\"][\"DetailedProfilingConfig\"])\n",
    "start_step = profiler_config[\"StartStep\"]\n",
    "end_step = start_step + 1\n",
    "start_phase = StepPhase.FORWARD_PASS_END\n",
    "end_phase = StepPhase.STEP_START \n",
    "\n",
    "pt_pyinstrument_stats = pt_python_analysis.fetch_profile_stats_by_step(start_step, end_step, start_phase, end_phase)\n",
    "IFrame(src=pt_pyinstrument_stats[0].html_file_path, width= 1000, height=300)"
   ]
  }
 ],
 "metadata": {
  "celltoolbar": "Tags",
  "kernelspec": {
   "display_name": "Python 3",
   "language": "python",
   "name": "python3"
  },
  "language_info": {
   "codemirror_mode": {
    "name": "ipython",
    "version": 3
   },
   "file_extension": ".py",
   "mimetype": "text/x-python",
   "name": "python",
   "nbconvert_exporter": "python",
   "pygments_lexer": "ipython3",
   "version": "3.8.5"
  }
 },
 "nbformat": 4,
 "nbformat_minor": 4
}
