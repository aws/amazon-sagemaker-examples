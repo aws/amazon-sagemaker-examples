{
 "cells": [
  {
   "cell_type": "markdown",
   "id": "ece13bd7-19b2-47b3-976d-cf636fa68003",
   "metadata": {},
   "source": [
    "# Create an end to end machine learning workflow using Amazon Athena\n",
    "Importing and transforming data can be one of the most challenging tasks in a machine learning workflow. We provide you with a Jupyter notebook that demonstrates a cost-effective strategy for an extract, transform, and load (ETL) workflow. Using Amazon Simple Storage Service (Amazon S3) and Amazon Athena, you learn how to query and transform data from a Jupyter notebook. Amazon S3 is an object storage service that allows you to store data and machine learning artifacts. Amazon Athena enables you to interactively query the data stored in those buckets, saving each query as a CSV file in an Amazon S3 location.\n",
    "\n",
    "The tutorial imports 29 CSV files for the 2019 NYC taxi dataset from multiple Amazon S3 locations. The goal is to predict the fare amount for each ride. From those 29 files, the notebook creates a single ride fare dataset and a single ride info dataset with deduplicated values. We join the deduplicated datasets into a single dataset.\n",
    "\n",
    "Amazon Athena stores the query results as a CSV file in the specified location. This CSV file is provided to a SageMaker Processing Job to split the data into training, validation, and test sets. While data can be split using queries, a processing job ensures that the data is in a format that's parseable by the XGBoost algorithm.\n",
    "\n",
    "__Important__\n",
    "\n",
    "The notebook must be run in the us-east-1 AWS Region. You also need your own Amazon S3 bucket and a database within Amazon Athena. You won't be able to access the data used in the tutorial otherwise.\n",
    "\n",
    "For information about creating a bucket, see [Creating a bucket](https://docs.aws.amazon.com/AmazonS3/latest/userguide/create-bucket-overview.html). For information about creating a database, see [Create a database](https://docs.aws.amazon.com/athena/latest/ug/getting-started.html#step-1-create-a-database)."
   ]
  },
  {
   "cell_type": "markdown",
   "id": "0b11693f-7c35-41cf-8e4b-4f86eea8f3b0",
   "metadata": {},
   "source": [
    "## Code overview\n",
    "\n",
    "The following code uses the boto3 client to set up an Athena client within the us-east-1 AWS Region. It defines the run_athena_query function that runs queries and checks their status. Afterwards, it uses the function to create the ride fare and ride info table in Amazon Athena using all the CSV files from the year 2019.\n",
    "\n",
    "The code creates a separate ride fare and ride info table with all of the duplicate values removed. Amazon Athena saves the query results of the select statements as a CSV string. The get_query_results functions saves the CSV string as a CSV file. We use the function to read the results of our test queries into the notebook as pandas dataframes and verify that we're able to get our data successfully. \n",
    "\n",
    "We join the deduplicated tables into a single dataset that we use for our exploratory data analysis. We perform our exploratory data analysis and run a query to select the final set of features we're using for the analysis. We run the SageMaker processing job using the processing-file.py file. Afterwards, we define our model, train our model, and evaluate it on a test set of 20 samples."
   ]
  },
  {
   "cell_type": "code",
   "execution_count": 7,
   "id": "8ab1ff0e-fcde-4976-a1cd-51e75c18deb2",
   "metadata": {},
   "outputs": [
    {
     "name": "stdout",
     "output_type": "stream",
     "text": [
      "Query execution ID: cb779f49-17e5-49fd-91f9-0fbbf62cb9bb\n",
      "Query is currently in QUEUED state. Waiting for completion...\n",
      "Query executed successfully.\n"
     ]
    },
    {
     "data": {
      "text/plain": [
       "'cb779f49-17e5-49fd-91f9-0fbbf62cb9bb'"
      ]
     },
     "execution_count": 7,
     "metadata": {},
     "output_type": "execute_result"
    }
   ],
   "source": [
    "# Import required libraries\n",
    "import time\n",
    "import boto3\n",
    "\n",
    "def run_athena_query(query_string, database_name, output_location):\n",
    "    \"\"\"\n",
    "    Function to execute an Athena query and wait for its completion.\n",
    "\n",
    "    Args:\n",
    "        query_string (str): The SQL query to be executed.\n",
    "        database_name (str): The name of the Athena database.\n",
    "        output_location (str): The S3 location where the query results will be stored.\n",
    "\n",
    "    Returns:\n",
    "        str: The query execution ID.\n",
    "    \"\"\"\n",
    "    # Create an Athena client\n",
    "    athena_client = boto3.client('athena', region_name='us-east-1')\n",
    "\n",
    "    # Start the query execution\n",
    "    response = athena_client.start_query_execution(\n",
    "        QueryString=query_string,\n",
    "        QueryExecutionContext={'Database': database_name},\n",
    "        ResultConfiguration={'OutputLocation': output_location}\n",
    "    )\n",
    "\n",
    "    query_execution_id = response['QueryExecutionId']\n",
    "    print(f\"Query execution ID: {query_execution_id}\")\n",
    "\n",
    "    while True:\n",
    "        # Check the query execution status\n",
    "        query_status = athena_client.get_query_execution(QueryExecutionId=query_execution_id)\n",
    "        state = query_status['QueryExecution']['Status']['State']\n",
    "\n",
    "        if state == 'SUCCEEDED':\n",
    "            print(\"Query executed successfully.\")\n",
    "            break\n",
    "        elif state == 'FAILED':\n",
    "            print(f\"Query failed with error: {query_status['QueryExecution']['Status']['StateChangeReason']}\")\n",
    "            break\n",
    "        else:\n",
    "            print(f\"Query is currently in {state} state. Waiting for completion...\")\n",
    "            time.sleep(5)  # Wait for 5 seconds before checking again\n",
    "\n",
    "    return query_execution_id\n",
    "\n",
    "# SQL query to create the 'ride_fare' table\n",
    "create_ride_fare_table = \"\"\"\n",
    "CREATE EXTERNAL TABLE `ride_fare` (\n",
    "  `ride_id` bigint, \n",
    "  `payment_type` smallint, \n",
    "  `fare_amount` float, \n",
    "  `extra` float, \n",
    "  `mta_tax` float, \n",
    "  `tip_amount` float, \n",
    "  `tolls_amount` float, \n",
    "  `total_amount` float\n",
    ")\n",
    "ROW FORMAT DELIMITED \n",
    "  FIELDS TERMINATED BY ',' \n",
    "  LINES TERMINATED BY '\\n' \n",
    "STORED AS INPUTFORMAT \n",
    "  'org.apache.hadoop.mapred.TextInputFormat' \n",
    "OUTPUTFORMAT \n",
    "  'org.apache.hadoop.hive.ql.io.HiveIgnoreKeyTextOutputFormat'\n",
    "LOCATION\n",
    "  's3://dsoaws/nyc-taxi-orig-cleaned-split-csv-with-header-per-year-multiple-files/ride-fare/year=2019'\n",
    "TBLPROPERTIES (\n",
    "  'skip.header.line.count'='1', \n",
    "  'transient_lastDdlTime'='1716908234'\n",
    ");\n",
    "\"\"\"\n",
    "\n",
    "# Athena database name\n",
    "database = 'database_name'\n",
    "\n",
    "# S3 location for query results\n",
    "s3_output_location = 's3://example-s3-bucket/example-s3-prefix'\n",
    "\n",
    "# Execute the query to create the 'ride_fare' table\n",
    "run_athena_query(create_ride_fare_table, database, s3_output_location)"
   ]
  },
  {
   "cell_type": "code",
   "execution_count": 12,
   "id": "3d249cc5-2d53-4274-8f5e-6ab09ccd3ea6",
   "metadata": {},
   "outputs": [
    {
     "name": "stdout",
     "output_type": "stream",
     "text": [
      "Query execution ID: e07f4538-b44b-4dc8-923d-6758a4e99913\n",
      "Query is currently in QUEUED state. Waiting for completion...\n",
      "Query is currently in RUNNING state. Waiting for completion...\n",
      "Query is currently in RUNNING state. Waiting for completion...\n",
      "Query is currently in RUNNING state. Waiting for completion...\n",
      "Query executed successfully.\n"
     ]
    },
    {
     "data": {
      "text/plain": [
       "'e07f4538-b44b-4dc8-923d-6758a4e99913'"
      ]
     },
     "execution_count": 12,
     "metadata": {},
     "output_type": "execute_result"
    }
   ],
   "source": [
    "# SQL query to create a new table with duplicates removed\n",
    "remove_duplicates_from_ride_fare = \"\"\"\n",
    "CREATE TABLE ride_fare_deduped\n",
    "AS\n",
    "SELECT DISTINCT *\n",
    "FROM ride_fare\n",
    "\"\"\"\n",
    "\n",
    "# Run the preceding query\n",
    "run_athena_query(remove_duplicates_from_ride_fare, database, s3_output_location)"
   ]
  },
  {
   "cell_type": "code",
   "execution_count": 14,
   "id": "2f9a68b9-bd11-49e9-ad72-b44b43d32e47",
   "metadata": {},
   "outputs": [
    {
     "name": "stdout",
     "output_type": "stream",
     "text": [
      "Query execution ID: d8128d6d-c3d7-4c44-99ed-b533f69c3cfa\n",
      "Query is currently in QUEUED state. Waiting for completion...\n",
      "Query executed successfully.\n"
     ]
    },
    {
     "data": {
      "text/plain": [
       "'d8128d6d-c3d7-4c44-99ed-b533f69c3cfa'"
      ]
     },
     "execution_count": 14,
     "metadata": {},
     "output_type": "execute_result"
    }
   ],
   "source": [
    "# SQL query to create the ride_info table\n",
    "create_ride_info_table_query = \"\"\"\n",
    "CREATE EXTERNAL TABLE `ride_info` (\n",
    "  `ride_id` bigint, \n",
    "  `vendor_id` smallint, \n",
    "  `passenger_count` smallint, \n",
    "  `pickup_at` string, \n",
    "  `dropoff_at` string, \n",
    "  `trip_distance` float, \n",
    "  `rate_code_id` int, \n",
    "  `store_and_fwd_flag` string\n",
    ")\n",
    "ROW FORMAT DELIMITED \n",
    "  FIELDS TERMINATED BY ',' \n",
    "  LINES TERMINATED BY '\\n' \n",
    "STORED AS INPUTFORMAT \n",
    "  'org.apache.hadoop.mapred.TextInputFormat' \n",
    "OUTPUTFORMAT \n",
    "  'org.apache.hadoop.hive.ql.io.HiveIgnoreKeyTextOutputFormat'\n",
    "LOCATION\n",
    "  's3://dsoaws/nyc-taxi-orig-cleaned-split-csv-with-header-per-year-multiple-files/ride-info/year=2019'\n",
    "TBLPROPERTIES (\n",
    "  'skip.header.line.count'='1', \n",
    "  'transient_lastDdlTime'='1716907328'\n",
    ");\n",
    "\"\"\"\n",
    "\n",
    "# Run the query to create the ride_info table\n",
    "run_athena_query(create_ride_info_table_query, database, s3_output_location)"
   ]
  },
  {
   "cell_type": "code",
   "execution_count": 15,
   "id": "263d883c-f189-43c0-9fbd-1a45093984e9",
   "metadata": {},
   "outputs": [
    {
     "name": "stdout",
     "output_type": "stream",
     "text": [
      "Query execution ID: 9f4f8ff3-3c76-4ff4-a848-3d834e848cf7\n",
      "Query is currently in QUEUED state. Waiting for completion...\n",
      "Query is currently in RUNNING state. Waiting for completion...\n",
      "Query is currently in RUNNING state. Waiting for completion...\n",
      "Query is currently in RUNNING state. Waiting for completion...\n",
      "Query executed successfully.\n"
     ]
    },
    {
     "data": {
      "text/plain": [
       "'9f4f8ff3-3c76-4ff4-a848-3d834e848cf7'"
      ]
     },
     "execution_count": 15,
     "metadata": {},
     "output_type": "execute_result"
    }
   ],
   "source": [
    "# SQL query to create table with duplicates removed\n",
    "remove_duplicates_from_ride_info = \"\"\"\n",
    "CREATE TABLE ride_info_deduped\n",
    "AS\n",
    "SELECT DISTINCT *\n",
    "FROM ride_info\n",
    "\"\"\"\n",
    "\n",
    "# Run the query to create the table with the duplicates removed\n",
    "run_athena_query(remove_duplicates_from_ride_info, database, s3_output_location)"
   ]
  },
  {
   "cell_type": "code",
   "execution_count": 16,
   "id": "6db6bb67-44a9-4ff4-b662-ad969a84d3d8",
   "metadata": {},
   "outputs": [
    {
     "name": "stdout",
     "output_type": "stream",
     "text": [
      "Query execution ID: 0f66a43e-cde0-4361-a050-09a2616ffefa\n",
      "Query is currently in QUEUED state. Waiting for completion...\n",
      "Query executed successfully.\n"
     ]
    },
    {
     "data": {
      "text/plain": [
       "'0f66a43e-cde0-4361-a050-09a2616ffefa'"
      ]
     },
     "execution_count": 16,
     "metadata": {},
     "output_type": "execute_result"
    }
   ],
   "source": [
    "test_ride_info_query = '''\n",
    "SELECT * FROM ride_info_deduped limit 10\n",
    "'''\n",
    "\n",
    "run_athena_query(test_ride_info_query, database, s3_output_location)"
   ]
  },
  {
   "cell_type": "code",
   "execution_count": 21,
   "id": "92d8be21-3f20-453d-8b84-516571d9854d",
   "metadata": {},
   "outputs": [
    {
     "name": "stdout",
     "output_type": "stream",
     "text": [
      "Query execution ID: 1d0f08ba-c579-4ff1-8188-4a7b87043d07\n",
      "Query is currently in QUEUED state. Waiting for completion...\n",
      "Query executed successfully.\n"
     ]
    },
    {
     "data": {
      "text/plain": [
       "'1d0f08ba-c579-4ff1-8188-4a7b87043d07'"
      ]
     },
     "execution_count": 21,
     "metadata": {},
     "output_type": "execute_result"
    }
   ],
   "source": [
    "test_ride_fare_query = '''\n",
    "SELECT * FROM ride_fare_deduped limit 10\n",
    "'''\n",
    "\n",
    "run_athena_query(test_ride_fare_query, database, s3_output_location)"
   ]
  },
  {
   "cell_type": "code",
   "execution_count": 18,
   "id": "50e87ba6-42e9-4d99-862e-7eae16ad810e",
   "metadata": {},
   "outputs": [],
   "source": [
    "import io\n",
    "def get_query_results(query_execution_id):\n",
    "    \"\"\"\n",
    "\n",
    "    Function to retrieve the results of an Athena query execution.\n",
    "\n",
    "\n",
    "    Args:\n",
    "\n",
    "        query_execution_id (str): The ID of the query execution.\n",
    "\n",
    "\n",
    "    Returns:\n",
    "\n",
    "        io.StringIO: A file-like object containing the query results in CSV format.\n",
    "\n",
    "    \"\"\"\n",
    "    athena_client = boto3.client('athena', region_name='us-east-1')\n",
    "    s3 = boto3.client('s3')\n",
    "\n",
    "    # Get the query execution details\n",
    "    query_execution = athena_client.get_query_execution(QueryExecutionId=query_execution_id)\n",
    "    s3_location = query_execution['QueryExecution']['ResultConfiguration']['OutputLocation']\n",
    "\n",
    "    # Extract bucket and key from S3 output location\n",
    "    bucket_name, key = s3_location.split('/', 2)[2].split('/', 1)\n",
    "\n",
    "    # Get the CSV file location\n",
    "    obj = s3.get_object(Bucket=bucket_name, Key=key)\n",
    "    csv_data = obj['Body'].read().decode('utf-8')\n",
    "    csv_buffer = io.StringIO(csv_data)\n",
    "\n",
    "    return csv_buffer"
   ]
  },
  {
   "cell_type": "code",
   "execution_count": 19,
   "id": "b04abae5-936b-4d96-98e8-d2e2b6a17b9c",
   "metadata": {},
   "outputs": [
    {
     "data": {
      "text/html": [
       "<div>\n",
       "<style scoped>\n",
       "    .dataframe tbody tr th:only-of-type {\n",
       "        vertical-align: middle;\n",
       "    }\n",
       "\n",
       "    .dataframe tbody tr th {\n",
       "        vertical-align: top;\n",
       "    }\n",
       "\n",
       "    .dataframe thead th {\n",
       "        text-align: right;\n",
       "    }\n",
       "</style>\n",
       "<table border=\"1\" class=\"dataframe\">\n",
       "  <thead>\n",
       "    <tr style=\"text-align: right;\">\n",
       "      <th></th>\n",
       "      <th>ride_id</th>\n",
       "      <th>vendor_id</th>\n",
       "      <th>passenger_count</th>\n",
       "      <th>pickup_at</th>\n",
       "      <th>dropoff_at</th>\n",
       "      <th>trip_distance</th>\n",
       "      <th>rate_code_id</th>\n",
       "      <th>store_and_fwd_flag</th>\n",
       "    </tr>\n",
       "  </thead>\n",
       "  <tbody>\n",
       "    <tr>\n",
       "      <th>0</th>\n",
       "      <td>1005024574809</td>\n",
       "      <td>1</td>\n",
       "      <td>1</td>\n",
       "      <td>2019-05-15T12:11:17.000Z</td>\n",
       "      <td>2019-05-15T12:48:59.000Z</td>\n",
       "      <td>3.40</td>\n",
       "      <td>1</td>\n",
       "      <td>N</td>\n",
       "    </tr>\n",
       "    <tr>\n",
       "      <th>1</th>\n",
       "      <td>944895157463</td>\n",
       "      <td>2</td>\n",
       "      <td>2</td>\n",
       "      <td>2019-06-18T22:11:43.000Z</td>\n",
       "      <td>2019-06-18T22:29:46.000Z</td>\n",
       "      <td>1.92</td>\n",
       "      <td>1</td>\n",
       "      <td>N</td>\n",
       "    </tr>\n",
       "    <tr>\n",
       "      <th>2</th>\n",
       "      <td>944895157471</td>\n",
       "      <td>1</td>\n",
       "      <td>2</td>\n",
       "      <td>2019-06-18T22:29:47.000Z</td>\n",
       "      <td>2019-06-18T22:37:08.000Z</td>\n",
       "      <td>1.00</td>\n",
       "      <td>1</td>\n",
       "      <td>N</td>\n",
       "    </tr>\n",
       "    <tr>\n",
       "      <th>3</th>\n",
       "      <td>1005024574929</td>\n",
       "      <td>2</td>\n",
       "      <td>1</td>\n",
       "      <td>2019-05-15T12:26:17.000Z</td>\n",
       "      <td>2019-05-15T12:33:01.000Z</td>\n",
       "      <td>0.95</td>\n",
       "      <td>1</td>\n",
       "      <td>N</td>\n",
       "    </tr>\n",
       "    <tr>\n",
       "      <th>4</th>\n",
       "      <td>1005024574951</td>\n",
       "      <td>2</td>\n",
       "      <td>2</td>\n",
       "      <td>2019-05-15T12:51:35.000Z</td>\n",
       "      <td>2019-05-15T13:30:12.000Z</td>\n",
       "      <td>2.65</td>\n",
       "      <td>1</td>\n",
       "      <td>N</td>\n",
       "    </tr>\n",
       "  </tbody>\n",
       "</table>\n",
       "</div>"
      ],
      "text/plain": [
       "         ride_id  vendor_id  passenger_count                 pickup_at  \\\n",
       "0  1005024574809          1                1  2019-05-15T12:11:17.000Z   \n",
       "1   944895157463          2                2  2019-06-18T22:11:43.000Z   \n",
       "2   944895157471          1                2  2019-06-18T22:29:47.000Z   \n",
       "3  1005024574929          2                1  2019-05-15T12:26:17.000Z   \n",
       "4  1005024574951          2                2  2019-05-15T12:51:35.000Z   \n",
       "\n",
       "                 dropoff_at  trip_distance  rate_code_id store_and_fwd_flag  \n",
       "0  2019-05-15T12:48:59.000Z           3.40             1                  N  \n",
       "1  2019-06-18T22:29:46.000Z           1.92             1                  N  \n",
       "2  2019-06-18T22:37:08.000Z           1.00             1                  N  \n",
       "3  2019-05-15T12:33:01.000Z           0.95             1                  N  \n",
       "4  2019-05-15T13:30:12.000Z           2.65             1                  N  "
      ]
     },
     "execution_count": 19,
     "metadata": {},
     "output_type": "execute_result"
    }
   ],
   "source": [
    "import pandas as pd\n",
    "# Provide the query execution id of the test_ride_info query to get the query results\n",
    "ride_info_sample_1 = get_query_results('0f66a43e-cde0-4361-a050-09a2616ffefa')\n",
    "\n",
    "df_ride_info_sample_1 = pd.read_csv(ride_info_sample_1)\n",
    "\n",
    "df_ride_info_sample_1.head()"
   ]
  },
  {
   "cell_type": "code",
   "execution_count": 22,
   "id": "be89957f-31b1-4710-bfc2-178d6db18592",
   "metadata": {},
   "outputs": [
    {
     "data": {
      "text/html": [
       "<div>\n",
       "<style scoped>\n",
       "    .dataframe tbody tr th:only-of-type {\n",
       "        vertical-align: middle;\n",
       "    }\n",
       "\n",
       "    .dataframe tbody tr th {\n",
       "        vertical-align: top;\n",
       "    }\n",
       "\n",
       "    .dataframe thead th {\n",
       "        text-align: right;\n",
       "    }\n",
       "</style>\n",
       "<table border=\"1\" class=\"dataframe\">\n",
       "  <thead>\n",
       "    <tr style=\"text-align: right;\">\n",
       "      <th></th>\n",
       "      <th>ride_id</th>\n",
       "      <th>payment_type</th>\n",
       "      <th>fare_amount</th>\n",
       "      <th>extra</th>\n",
       "      <th>mta_tax</th>\n",
       "      <th>tip_amount</th>\n",
       "      <th>tolls_amount</th>\n",
       "      <th>total_amount</th>\n",
       "    </tr>\n",
       "  </thead>\n",
       "  <tbody>\n",
       "    <tr>\n",
       "      <th>0</th>\n",
       "      <td>60130304733</td>\n",
       "      <td>1</td>\n",
       "      <td>5.0</td>\n",
       "      <td>2.5</td>\n",
       "      <td>0.5</td>\n",
       "      <td>2.05</td>\n",
       "      <td>0.00</td>\n",
       "      <td>10.35</td>\n",
       "    </tr>\n",
       "    <tr>\n",
       "      <th>1</th>\n",
       "      <td>1391571259067</td>\n",
       "      <td>1</td>\n",
       "      <td>16.5</td>\n",
       "      <td>1.0</td>\n",
       "      <td>0.5</td>\n",
       "      <td>4.16</td>\n",
       "      <td>0.00</td>\n",
       "      <td>24.96</td>\n",
       "    </tr>\n",
       "    <tr>\n",
       "      <th>2</th>\n",
       "      <td>1391571259101</td>\n",
       "      <td>2</td>\n",
       "      <td>8.0</td>\n",
       "      <td>1.0</td>\n",
       "      <td>0.5</td>\n",
       "      <td>0.00</td>\n",
       "      <td>0.00</td>\n",
       "      <td>12.30</td>\n",
       "    </tr>\n",
       "    <tr>\n",
       "      <th>3</th>\n",
       "      <td>60130304799</td>\n",
       "      <td>1</td>\n",
       "      <td>6.5</td>\n",
       "      <td>0.0</td>\n",
       "      <td>0.5</td>\n",
       "      <td>1.96</td>\n",
       "      <td>0.00</td>\n",
       "      <td>11.76</td>\n",
       "    </tr>\n",
       "    <tr>\n",
       "      <th>4</th>\n",
       "      <td>60130304800</td>\n",
       "      <td>1</td>\n",
       "      <td>39.5</td>\n",
       "      <td>3.5</td>\n",
       "      <td>0.5</td>\n",
       "      <td>9.90</td>\n",
       "      <td>5.76</td>\n",
       "      <td>59.46</td>\n",
       "    </tr>\n",
       "  </tbody>\n",
       "</table>\n",
       "</div>"
      ],
      "text/plain": [
       "         ride_id  payment_type  fare_amount  extra  mta_tax  tip_amount  \\\n",
       "0    60130304733             1          5.0    2.5      0.5        2.05   \n",
       "1  1391571259067             1         16.5    1.0      0.5        4.16   \n",
       "2  1391571259101             2          8.0    1.0      0.5        0.00   \n",
       "3    60130304799             1          6.5    0.0      0.5        1.96   \n",
       "4    60130304800             1         39.5    3.5      0.5        9.90   \n",
       "\n",
       "   tolls_amount  total_amount  \n",
       "0          0.00         10.35  \n",
       "1          0.00         24.96  \n",
       "2          0.00         12.30  \n",
       "3          0.00         11.76  \n",
       "4          5.76         59.46  "
      ]
     },
     "execution_count": 22,
     "metadata": {},
     "output_type": "execute_result"
    }
   ],
   "source": [
    "# Provide the query execution id of the test_ride_fare query to get the query results\n",
    "\n",
    "ride_fare_sample_1 = get_query_results('1d0f08ba-c579-4ff1-8188-4a7b87043d07')\n",
    "\n",
    "df_ride_fare_sample_1 = pd.read_csv(ride_fare_sample_1)\n",
    "\n",
    "df_ride_fare_sample_1.head()"
   ]
  },
  {
   "cell_type": "code",
   "execution_count": 23,
   "id": "b8a76635-3c09-4cbc-b1b4-9318dc611250",
   "metadata": {
    "scrolled": true
   },
   "outputs": [
    {
     "name": "stdout",
     "output_type": "stream",
     "text": [
      "Query execution ID: 2ba0fd2b-030f-4e32-8acb-ec0d802b994f\n",
      "Query is currently in QUEUED state. Waiting for completion...\n",
      "Query is currently in RUNNING state. Waiting for completion...\n",
      "Query is currently in RUNNING state. Waiting for completion...\n",
      "Query is currently in RUNNING state. Waiting for completion...\n",
      "Query is currently in RUNNING state. Waiting for completion...\n",
      "Query is currently in RUNNING state. Waiting for completion...\n",
      "Query is currently in RUNNING state. Waiting for completion...\n",
      "Query is currently in RUNNING state. Waiting for completion...\n",
      "Query is currently in RUNNING state. Waiting for completion...\n",
      "Query is currently in RUNNING state. Waiting for completion...\n",
      "Query is currently in RUNNING state. Waiting for completion...\n",
      "Query is currently in RUNNING state. Waiting for completion...\n",
      "Query executed successfully.\n"
     ]
    },
    {
     "data": {
      "text/plain": [
       "'2ba0fd2b-030f-4e32-8acb-ec0d802b994f'"
      ]
     },
     "execution_count": 23,
     "metadata": {},
     "output_type": "execute_result"
    }
   ],
   "source": [
    "# SQL query to join the tables into a single table containing all the data.\n",
    "create_ride_joined_deduped = \"\"\"\n",
    "CREATE TABLE combined_ride_data_deduped AS\n",
    "SELECT \n",
    "    rfs.ride_id, \n",
    "    rfs.payment_type, \n",
    "    rfs.fare_amount, \n",
    "    rfs.extra, \n",
    "    rfs.mta_tax, \n",
    "    rfs.tip_amount, \n",
    "    rfs.tolls_amount, \n",
    "    rfs.total_amount,\n",
    "    ris.vendor_id, \n",
    "    ris.passenger_count, \n",
    "    ris.pickup_at, \n",
    "    ris.dropoff_at, \n",
    "    ris.trip_distance, \n",
    "    ris.rate_code_id, \n",
    "    ris.store_and_fwd_flag\n",
    "FROM \n",
    "    ride_fare_deduped rfs\n",
    "JOIN \n",
    "    ride_info_deduped ris\n",
    "ON \n",
    "    rfs.ride_id = ris.ride_id;\n",
    ";\n",
    "\"\"\"\n",
    "\n",
    "# Run the query to create the ride_data_deduped table\n",
    "run_athena_query(create_ride_joined_deduped, database, s3_output_location)"
   ]
  },
  {
   "cell_type": "code",
   "execution_count": 25,
   "id": "b0791e57-4351-4f27-a8f9-ad741441d214",
   "metadata": {},
   "outputs": [
    {
     "name": "stdout",
     "output_type": "stream",
     "text": [
      "Query execution ID: 08185c50-d51f-4a5f-b82f-e9de593c6b9b\n",
      "Query is currently in QUEUED state. Waiting for completion...\n",
      "Query is currently in RUNNING state. Waiting for completion...\n",
      "Query is currently in RUNNING state. Waiting for completion...\n",
      "Query is currently in RUNNING state. Waiting for completion...\n",
      "Query is currently in RUNNING state. Waiting for completion...\n",
      "Query is currently in RUNNING state. Waiting for completion...\n",
      "Query is currently in RUNNING state. Waiting for completion...\n",
      "Query is currently in RUNNING state. Waiting for completion...\n",
      "Query is currently in RUNNING state. Waiting for completion...\n",
      "Query is currently in RUNNING state. Waiting for completion...\n",
      "Query is currently in RUNNING state. Waiting for completion...\n",
      "Query is currently in RUNNING state. Waiting for completion...\n",
      "Query is currently in RUNNING state. Waiting for completion...\n",
      "Query is currently in RUNNING state. Waiting for completion...\n",
      "Query is currently in RUNNING state. Waiting for completion...\n",
      "Query is currently in RUNNING state. Waiting for completion...\n",
      "Query is currently in RUNNING state. Waiting for completion...\n",
      "Query is currently in RUNNING state. Waiting for completion...\n",
      "Query is currently in RUNNING state. Waiting for completion...\n",
      "Query is currently in RUNNING state. Waiting for completion...\n",
      "Query is currently in RUNNING state. Waiting for completion...\n",
      "Query is currently in RUNNING state. Waiting for completion...\n",
      "Query is currently in RUNNING state. Waiting for completion...\n",
      "Query is currently in RUNNING state. Waiting for completion...\n",
      "Query is currently in RUNNING state. Waiting for completion...\n",
      "Query is currently in RUNNING state. Waiting for completion...\n",
      "Query is currently in RUNNING state. Waiting for completion...\n",
      "Query is currently in RUNNING state. Waiting for completion...\n",
      "Query is currently in RUNNING state. Waiting for completion...\n",
      "Query is currently in RUNNING state. Waiting for completion...\n",
      "Query is currently in RUNNING state. Waiting for completion...\n",
      "Query is currently in RUNNING state. Waiting for completion...\n",
      "Query is currently in RUNNING state. Waiting for completion...\n",
      "Query is currently in RUNNING state. Waiting for completion...\n",
      "Query is currently in RUNNING state. Waiting for completion...\n",
      "Query is currently in RUNNING state. Waiting for completion...\n",
      "Query is currently in RUNNING state. Waiting for completion...\n",
      "Query is currently in RUNNING state. Waiting for completion...\n",
      "Query executed successfully.\n"
     ]
    },
    {
     "data": {
      "text/plain": [
       "'08185c50-d51f-4a5f-b82f-e9de593c6b9b'"
      ]
     },
     "execution_count": 25,
     "metadata": {},
     "output_type": "execute_result"
    }
   ],
   "source": [
    "# SQL query to select all values from the table and create the dataset that we're using for our analysis\n",
    "ride_combined_full_table_query = \"\"\"\n",
    "SELECT * FROM combined_ride_data_deduped\n",
    "\"\"\"\n",
    "\n",
    "# Run the query to select all values from the combined_ride_data_deduped table\n",
    "run_athena_query(ride_combined_full_table_query, database, s3_output_location)"
   ]
  },
  {
   "cell_type": "code",
   "execution_count": 47,
   "id": "97373c52-882b-4e44-8d75-a80d8d8c58df",
   "metadata": {},
   "outputs": [
    {
     "data": {
      "text/plain": [
       "'s3://parsa-ux360-burner-account-bucket/08185c50-d51f-4a5f-b82f-e9de593c6b9b.csv'"
      ]
     },
     "execution_count": 47,
     "metadata": {},
     "output_type": "execute_result"
    }
   ],
   "source": [
    "# Function to get the Amazon S3 URI location of Amazon Athena select statements\n",
    "def get_csv_file_location(query_execution_id):\n",
    "    athena_client = boto3.client('athena', region_name='us-east-1')\n",
    "    query_execution = athena_client.get_query_execution(QueryExecutionId=query_execution_id)\n",
    "    s3_location = query_execution['QueryExecution']['ResultConfiguration']['OutputLocation']\n",
    "\n",
    "    return s3_location\n",
    "\n",
    "# Provide the 36 character string at the end of the output of the preceding cell as the query.\n",
    "get_csv_file_location('query-id-from-preceding-cell')"
   ]
  },
  {
   "cell_type": "code",
   "execution_count": 31,
   "id": "954022d5-bdf9-4dbd-be2e-66d0009ce522",
   "metadata": {},
   "outputs": [
    {
     "name": "stdout",
     "output_type": "stream",
     "text": [
      "download: s3://parsa-ux360-burner-account-bucket/08185c50-d51f-4a5f-b82f-e9de593c6b9b.csv to ./08185c50-d51f-4a5f-b82f-e9de593c6b9b.csv\n"
     ]
    }
   ],
   "source": [
    "# Use the S3 URI location returned from the preceding cell to download the dataset and rename it.\n",
    "!aws s3 cp s3://example-s3-bucket/query-id.csv .\n",
    "!mv query-id.csv nyc-taxi-whole-dataset.csv"
   ]
  },
  {
   "cell_type": "code",
   "execution_count": 32,
   "id": "79d2f2a5-5111-4fb8-90f3-67474f1072c1",
   "metadata": {},
   "outputs": [],
   "source": [
    "sample_nyc_taxi_combined = pd.read_csv('nyc-taxi-whole-dataset.csv', nrows=20000)"
   ]
  },
  {
   "cell_type": "code",
   "execution_count": 33,
   "id": "f9dececa-272d-458c-9f64-baa13eca0832",
   "metadata": {},
   "outputs": [
    {
     "name": "stdout",
     "output_type": "stream",
     "text": [
      "Dataset shape:  (20000, 15)\n"
     ]
    }
   ],
   "source": [
    "print(\"Dataset shape: \", sample_nyc_taxi_combined.shape)"
   ]
  },
  {
   "cell_type": "code",
   "execution_count": 34,
   "id": "1c117a0f-429e-4913-aded-c839675f9e17",
   "metadata": {},
   "outputs": [
    {
     "data": {
      "text/html": [
       "<div>\n",
       "<style scoped>\n",
       "    .dataframe tbody tr th:only-of-type {\n",
       "        vertical-align: middle;\n",
       "    }\n",
       "\n",
       "    .dataframe tbody tr th {\n",
       "        vertical-align: top;\n",
       "    }\n",
       "\n",
       "    .dataframe thead th {\n",
       "        text-align: right;\n",
       "    }\n",
       "</style>\n",
       "<table border=\"1\" class=\"dataframe\">\n",
       "  <thead>\n",
       "    <tr style=\"text-align: right;\">\n",
       "      <th></th>\n",
       "      <th>ride_id</th>\n",
       "      <th>payment_type</th>\n",
       "      <th>fare_amount</th>\n",
       "      <th>extra</th>\n",
       "      <th>mta_tax</th>\n",
       "      <th>tip_amount</th>\n",
       "      <th>tolls_amount</th>\n",
       "      <th>total_amount</th>\n",
       "      <th>vendor_id</th>\n",
       "      <th>passenger_count</th>\n",
       "      <th>pickup_at</th>\n",
       "      <th>dropoff_at</th>\n",
       "      <th>trip_distance</th>\n",
       "      <th>rate_code_id</th>\n",
       "      <th>store_and_fwd_flag</th>\n",
       "    </tr>\n",
       "  </thead>\n",
       "  <tbody>\n",
       "    <tr>\n",
       "      <th>0</th>\n",
       "      <td>3839702413301</td>\n",
       "      <td>1</td>\n",
       "      <td>29.5</td>\n",
       "      <td>2.5</td>\n",
       "      <td>0.5</td>\n",
       "      <td>7.75</td>\n",
       "      <td>6.12</td>\n",
       "      <td>46.67</td>\n",
       "      <td>1</td>\n",
       "      <td>1</td>\n",
       "      <td>2019-04-19T13:23:59.000Z</td>\n",
       "      <td>2019-04-19T13:45:15.000Z</td>\n",
       "      <td>10.10</td>\n",
       "      <td>1</td>\n",
       "      <td>N</td>\n",
       "    </tr>\n",
       "    <tr>\n",
       "      <th>1</th>\n",
       "      <td>51541365988</td>\n",
       "      <td>2</td>\n",
       "      <td>4.0</td>\n",
       "      <td>1.0</td>\n",
       "      <td>0.5</td>\n",
       "      <td>0.00</td>\n",
       "      <td>0.00</td>\n",
       "      <td>8.30</td>\n",
       "      <td>2</td>\n",
       "      <td>2</td>\n",
       "      <td>2019-02-25T17:01:30.000Z</td>\n",
       "      <td>2019-02-25T17:03:53.000Z</td>\n",
       "      <td>0.49</td>\n",
       "      <td>1</td>\n",
       "      <td>N</td>\n",
       "    </tr>\n",
       "    <tr>\n",
       "      <th>2</th>\n",
       "      <td>3770983743101</td>\n",
       "      <td>2</td>\n",
       "      <td>7.0</td>\n",
       "      <td>0.5</td>\n",
       "      <td>0.5</td>\n",
       "      <td>0.00</td>\n",
       "      <td>0.00</td>\n",
       "      <td>8.30</td>\n",
       "      <td>2</td>\n",
       "      <td>1</td>\n",
       "      <td>2019-03-30T20:43:40.000Z</td>\n",
       "      <td>2019-03-30T20:52:18.000Z</td>\n",
       "      <td>1.15</td>\n",
       "      <td>1</td>\n",
       "      <td>N</td>\n",
       "    </tr>\n",
       "    <tr>\n",
       "      <th>3</th>\n",
       "      <td>3770983743148</td>\n",
       "      <td>2</td>\n",
       "      <td>6.0</td>\n",
       "      <td>0.5</td>\n",
       "      <td>0.5</td>\n",
       "      <td>0.00</td>\n",
       "      <td>0.00</td>\n",
       "      <td>7.30</td>\n",
       "      <td>2</td>\n",
       "      <td>1</td>\n",
       "      <td>2019-03-30T20:15:08.000Z</td>\n",
       "      <td>2019-03-30T20:19:32.000Z</td>\n",
       "      <td>1.12</td>\n",
       "      <td>1</td>\n",
       "      <td>N</td>\n",
       "    </tr>\n",
       "    <tr>\n",
       "      <th>4</th>\n",
       "      <td>3839702413585</td>\n",
       "      <td>1</td>\n",
       "      <td>14.5</td>\n",
       "      <td>2.5</td>\n",
       "      <td>0.5</td>\n",
       "      <td>3.55</td>\n",
       "      <td>0.00</td>\n",
       "      <td>21.35</td>\n",
       "      <td>1</td>\n",
       "      <td>1</td>\n",
       "      <td>2019-04-19T13:10:55.000Z</td>\n",
       "      <td>2019-04-19T13:32:34.000Z</td>\n",
       "      <td>1.90</td>\n",
       "      <td>1</td>\n",
       "      <td>N</td>\n",
       "    </tr>\n",
       "  </tbody>\n",
       "</table>\n",
       "</div>"
      ],
      "text/plain": [
       "         ride_id  payment_type  fare_amount  extra  mta_tax  tip_amount  \\\n",
       "0  3839702413301             1         29.5    2.5      0.5        7.75   \n",
       "1    51541365988             2          4.0    1.0      0.5        0.00   \n",
       "2  3770983743101             2          7.0    0.5      0.5        0.00   \n",
       "3  3770983743148             2          6.0    0.5      0.5        0.00   \n",
       "4  3839702413585             1         14.5    2.5      0.5        3.55   \n",
       "\n",
       "   tolls_amount  total_amount  vendor_id  passenger_count  \\\n",
       "0          6.12         46.67          1                1   \n",
       "1          0.00          8.30          2                2   \n",
       "2          0.00          8.30          2                1   \n",
       "3          0.00          7.30          2                1   \n",
       "4          0.00         21.35          1                1   \n",
       "\n",
       "                  pickup_at                dropoff_at  trip_distance  \\\n",
       "0  2019-04-19T13:23:59.000Z  2019-04-19T13:45:15.000Z          10.10   \n",
       "1  2019-02-25T17:01:30.000Z  2019-02-25T17:03:53.000Z           0.49   \n",
       "2  2019-03-30T20:43:40.000Z  2019-03-30T20:52:18.000Z           1.15   \n",
       "3  2019-03-30T20:15:08.000Z  2019-03-30T20:19:32.000Z           1.12   \n",
       "4  2019-04-19T13:10:55.000Z  2019-04-19T13:32:34.000Z           1.90   \n",
       "\n",
       "   rate_code_id store_and_fwd_flag  \n",
       "0             1                  N  \n",
       "1             1                  N  \n",
       "2             1                  N  \n",
       "3             1                  N  \n",
       "4             1                  N  "
      ]
     },
     "execution_count": 34,
     "metadata": {},
     "output_type": "execute_result"
    }
   ],
   "source": [
    "df = sample_nyc_taxi_combined\n",
    "\n",
    "df.head()"
   ]
  },
  {
   "cell_type": "code",
   "execution_count": 35,
   "id": "d3c56da9-0a1c-4c58-93e3-77260dfff40b",
   "metadata": {},
   "outputs": [
    {
     "name": "stdout",
     "output_type": "stream",
     "text": [
      "<class 'pandas.core.frame.DataFrame'>\n",
      "RangeIndex: 20000 entries, 0 to 19999\n",
      "Data columns (total 15 columns):\n",
      " #   Column              Non-Null Count  Dtype  \n",
      "---  ------              --------------  -----  \n",
      " 0   ride_id             20000 non-null  int64  \n",
      " 1   payment_type        20000 non-null  int64  \n",
      " 2   fare_amount         20000 non-null  float64\n",
      " 3   extra               20000 non-null  float64\n",
      " 4   mta_tax             20000 non-null  float64\n",
      " 5   tip_amount          20000 non-null  float64\n",
      " 6   tolls_amount        20000 non-null  float64\n",
      " 7   total_amount        20000 non-null  float64\n",
      " 8   vendor_id           20000 non-null  int64  \n",
      " 9   passenger_count     20000 non-null  int64  \n",
      " 10  pickup_at           20000 non-null  object \n",
      " 11  dropoff_at          20000 non-null  object \n",
      " 12  trip_distance       20000 non-null  float64\n",
      " 13  rate_code_id        20000 non-null  int64  \n",
      " 14  store_and_fwd_flag  20000 non-null  object \n",
      "dtypes: float64(7), int64(5), object(3)\n",
      "memory usage: 2.3+ MB\n"
     ]
    }
   ],
   "source": [
    "df.info()"
   ]
  },
  {
   "cell_type": "code",
   "execution_count": 36,
   "id": "dc25bcd9-a4b1-4491-867f-7534336d1ecd",
   "metadata": {},
   "outputs": [
    {
     "data": {
      "text/html": [
       "<div>\n",
       "<style scoped>\n",
       "    .dataframe tbody tr th:only-of-type {\n",
       "        vertical-align: middle;\n",
       "    }\n",
       "\n",
       "    .dataframe tbody tr th {\n",
       "        vertical-align: top;\n",
       "    }\n",
       "\n",
       "    .dataframe thead th {\n",
       "        text-align: right;\n",
       "    }\n",
       "</style>\n",
       "<table border=\"1\" class=\"dataframe\">\n",
       "  <thead>\n",
       "    <tr style=\"text-align: right;\">\n",
       "      <th></th>\n",
       "      <th>ride_id</th>\n",
       "      <th>payment_type</th>\n",
       "      <th>fare_amount</th>\n",
       "      <th>extra</th>\n",
       "      <th>mta_tax</th>\n",
       "      <th>tip_amount</th>\n",
       "      <th>tolls_amount</th>\n",
       "      <th>total_amount</th>\n",
       "      <th>vendor_id</th>\n",
       "      <th>passenger_count</th>\n",
       "      <th>trip_distance</th>\n",
       "      <th>rate_code_id</th>\n",
       "    </tr>\n",
       "  </thead>\n",
       "  <tbody>\n",
       "    <tr>\n",
       "      <th>count</th>\n",
       "      <td>2.000000e+04</td>\n",
       "      <td>20000.000000</td>\n",
       "      <td>20000.000000</td>\n",
       "      <td>20000.000000</td>\n",
       "      <td>20000.000000</td>\n",
       "      <td>20000.000000</td>\n",
       "      <td>20000.000000</td>\n",
       "      <td>20000.000000</td>\n",
       "      <td>20000.000000</td>\n",
       "      <td>20000.00000</td>\n",
       "      <td>20000.000000</td>\n",
       "      <td>20000.000000</td>\n",
       "    </tr>\n",
       "    <tr>\n",
       "      <th>mean</th>\n",
       "      <td>1.519688e+12</td>\n",
       "      <td>1.286600</td>\n",
       "      <td>12.963254</td>\n",
       "      <td>1.080586</td>\n",
       "      <td>0.495847</td>\n",
       "      <td>2.146389</td>\n",
       "      <td>0.362381</td>\n",
       "      <td>18.521490</td>\n",
       "      <td>1.622900</td>\n",
       "      <td>1.56580</td>\n",
       "      <td>2.945799</td>\n",
       "      <td>1.055550</td>\n",
       "    </tr>\n",
       "    <tr>\n",
       "      <th>std</th>\n",
       "      <td>1.068094e+12</td>\n",
       "      <td>0.474312</td>\n",
       "      <td>12.006646</td>\n",
       "      <td>1.240546</td>\n",
       "      <td>0.053405</td>\n",
       "      <td>2.680182</td>\n",
       "      <td>1.585315</td>\n",
       "      <td>14.706571</td>\n",
       "      <td>0.484672</td>\n",
       "      <td>1.21846</td>\n",
       "      <td>3.797848</td>\n",
       "      <td>0.369014</td>\n",
       "    </tr>\n",
       "    <tr>\n",
       "      <th>min</th>\n",
       "      <td>5.153977e+10</td>\n",
       "      <td>1.000000</td>\n",
       "      <td>-52.000000</td>\n",
       "      <td>-4.500000</td>\n",
       "      <td>-0.500000</td>\n",
       "      <td>0.000000</td>\n",
       "      <td>0.000000</td>\n",
       "      <td>-57.300000</td>\n",
       "      <td>1.000000</td>\n",
       "      <td>0.00000</td>\n",
       "      <td>0.000000</td>\n",
       "      <td>1.000000</td>\n",
       "    </tr>\n",
       "    <tr>\n",
       "      <th>25%</th>\n",
       "      <td>9.534837e+11</td>\n",
       "      <td>1.000000</td>\n",
       "      <td>6.500000</td>\n",
       "      <td>0.000000</td>\n",
       "      <td>0.500000</td>\n",
       "      <td>0.000000</td>\n",
       "      <td>0.000000</td>\n",
       "      <td>10.800000</td>\n",
       "      <td>1.000000</td>\n",
       "      <td>1.00000</td>\n",
       "      <td>0.980000</td>\n",
       "      <td>1.000000</td>\n",
       "    </tr>\n",
       "    <tr>\n",
       "      <th>50%</th>\n",
       "      <td>1.322852e+12</td>\n",
       "      <td>1.000000</td>\n",
       "      <td>9.500000</td>\n",
       "      <td>0.500000</td>\n",
       "      <td>0.500000</td>\n",
       "      <td>1.835000</td>\n",
       "      <td>0.000000</td>\n",
       "      <td>14.160000</td>\n",
       "      <td>2.000000</td>\n",
       "      <td>1.00000</td>\n",
       "      <td>1.610000</td>\n",
       "      <td>1.000000</td>\n",
       "    </tr>\n",
       "    <tr>\n",
       "      <th>75%</th>\n",
       "      <td>1.417341e+12</td>\n",
       "      <td>2.000000</td>\n",
       "      <td>14.500000</td>\n",
       "      <td>2.500000</td>\n",
       "      <td>0.500000</td>\n",
       "      <td>2.860000</td>\n",
       "      <td>0.000000</td>\n",
       "      <td>20.160000</td>\n",
       "      <td>2.000000</td>\n",
       "      <td>2.00000</td>\n",
       "      <td>3.050000</td>\n",
       "      <td>1.000000</td>\n",
       "    </tr>\n",
       "    <tr>\n",
       "      <th>max</th>\n",
       "      <td>3.839703e+12</td>\n",
       "      <td>4.000000</td>\n",
       "      <td>412.230000</td>\n",
       "      <td>7.000000</td>\n",
       "      <td>1.440000</td>\n",
       "      <td>61.500000</td>\n",
       "      <td>26.000000</td>\n",
       "      <td>412.530000</td>\n",
       "      <td>2.000000</td>\n",
       "      <td>8.00000</td>\n",
       "      <td>44.500000</td>\n",
       "      <td>5.000000</td>\n",
       "    </tr>\n",
       "  </tbody>\n",
       "</table>\n",
       "</div>"
      ],
      "text/plain": [
       "            ride_id  payment_type   fare_amount         extra       mta_tax  \\\n",
       "count  2.000000e+04  20000.000000  20000.000000  20000.000000  20000.000000   \n",
       "mean   1.519688e+12      1.286600     12.963254      1.080586      0.495847   \n",
       "std    1.068094e+12      0.474312     12.006646      1.240546      0.053405   \n",
       "min    5.153977e+10      1.000000    -52.000000     -4.500000     -0.500000   \n",
       "25%    9.534837e+11      1.000000      6.500000      0.000000      0.500000   \n",
       "50%    1.322852e+12      1.000000      9.500000      0.500000      0.500000   \n",
       "75%    1.417341e+12      2.000000     14.500000      2.500000      0.500000   \n",
       "max    3.839703e+12      4.000000    412.230000      7.000000      1.440000   \n",
       "\n",
       "         tip_amount  tolls_amount  total_amount     vendor_id  \\\n",
       "count  20000.000000  20000.000000  20000.000000  20000.000000   \n",
       "mean       2.146389      0.362381     18.521490      1.622900   \n",
       "std        2.680182      1.585315     14.706571      0.484672   \n",
       "min        0.000000      0.000000    -57.300000      1.000000   \n",
       "25%        0.000000      0.000000     10.800000      1.000000   \n",
       "50%        1.835000      0.000000     14.160000      2.000000   \n",
       "75%        2.860000      0.000000     20.160000      2.000000   \n",
       "max       61.500000     26.000000    412.530000      2.000000   \n",
       "\n",
       "       passenger_count  trip_distance  rate_code_id  \n",
       "count      20000.00000   20000.000000  20000.000000  \n",
       "mean           1.56580       2.945799      1.055550  \n",
       "std            1.21846       3.797848      0.369014  \n",
       "min            0.00000       0.000000      1.000000  \n",
       "25%            1.00000       0.980000      1.000000  \n",
       "50%            1.00000       1.610000      1.000000  \n",
       "75%            2.00000       3.050000      1.000000  \n",
       "max            8.00000      44.500000      5.000000  "
      ]
     },
     "execution_count": 36,
     "metadata": {},
     "output_type": "execute_result"
    }
   ],
   "source": [
    "df.describe()"
   ]
  },
  {
   "cell_type": "code",
   "execution_count": 37,
   "id": "18bd92b1-962a-40f2-b15f-7351d869f390",
   "metadata": {},
   "outputs": [
    {
     "data": {
      "text/plain": [
       "vendor_id\n",
       "2    12458\n",
       "1     7542\n",
       "Name: count, dtype: int64"
      ]
     },
     "execution_count": 37,
     "metadata": {},
     "output_type": "execute_result"
    }
   ],
   "source": [
    "df['vendor_id'].value_counts()"
   ]
  },
  {
   "cell_type": "code",
   "execution_count": 38,
   "id": "e4c4997f-85d8-4f57-a60c-51e3568cfe2e",
   "metadata": {},
   "outputs": [
    {
     "data": {
      "text/plain": [
       "passenger_count\n",
       "1    14091\n",
       "2     2931\n",
       "3      851\n",
       "5      832\n",
       "6      485\n",
       "4      433\n",
       "0      376\n",
       "8        1\n",
       "Name: count, dtype: int64"
      ]
     },
     "execution_count": 38,
     "metadata": {},
     "output_type": "execute_result"
    }
   ],
   "source": [
    "df['passenger_count'].value_counts()"
   ]
  },
  {
   "cell_type": "code",
   "execution_count": 39,
   "id": "641c278d-8fed-42b8-98d1-becba90d6259",
   "metadata": {},
   "outputs": [
    {
     "data": {
      "text/plain": [
       "<function matplotlib.pyplot.show(close=None, block=None)>"
      ]
     },
     "execution_count": 39,
     "metadata": {},
     "output_type": "execute_result"
    },
    {
     "data": {
      "image/png": "[encoded data removed]",
      "text/plain": [
       "<Figure size 640x480 with 1 Axes>"
      ]
     },
     "metadata": {},
     "output_type": "display_data"
    }
   ],
   "source": [
    "# Plot to find the distribution of ride fare values\n",
    "import matplotlib.pyplot as plt\n",
    "plt.hist(df['fare_amount'], edgecolor='black', bins=30, range=(0,100))\n",
    "plt.xlabel('Fare Amount')\n",
    "plt.ylabel('Count')\n",
    "plt.show"
   ]
  },
  {
   "cell_type": "code",
   "execution_count": 40,
   "id": "9d484f57-f150-45b5-9cc5-cc10a6e8e9f1",
   "metadata": {},
   "outputs": [
    {
     "data": {
      "text/plain": [
       "20000"
      ]
     },
     "execution_count": 40,
     "metadata": {},
     "output_type": "execute_result"
    }
   ],
   "source": [
    "df['ride_id'].nunique()"
   ]
  },
  {
   "cell_type": "code",
   "execution_count": 41,
   "id": "f627790e-8aed-48e3-9c5d-52775bbb124d",
   "metadata": {},
   "outputs": [],
   "source": [
    "df.drop('store_and_fwd_flag', axis=1, inplace=True)"
   ]
  },
  {
   "cell_type": "code",
   "execution_count": 42,
   "id": "c359f4db-b503-4d80-bb4c-55dc411f9b5e",
   "metadata": {},
   "outputs": [],
   "source": [
    "# We're dropping the time series columns to streamline the analysis.\n",
    "time_series_columns_to_drop = ['pickup_at','dropoff_at']\n",
    "df.drop(columns=time_series_columns_to_drop, inplace=True)"
   ]
  },
  {
   "cell_type": "code",
   "execution_count": null,
   "id": "05abe8af-bf44-471b-b130-19cee0dd822f",
   "metadata": {},
   "outputs": [],
   "source": [
    "!pip install seaborn"
   ]
  },
  {
   "cell_type": "code",
   "execution_count": 43,
   "id": "b6a10b9b-e916-48a9-88f5-ae94db2f6576",
   "metadata": {},
   "outputs": [
    {
     "name": "stdout",
     "output_type": "stream",
     "text": [
      "Collecting seaborn\n",
      "  Downloading seaborn-0.13.2-py3-none-any.whl.metadata (5.4 kB)\n",
      "Requirement already satisfied: numpy!=1.24.0,>=1.20 in /opt/conda/lib/python3.10/site-packages (from seaborn) (1.26.4)\n",
      "Requirement already satisfied: pandas>=1.2 in /opt/conda/lib/python3.10/site-packages (from seaborn) (2.1.4)\n",
      "Requirement already satisfied: matplotlib!=3.6.1,>=3.4 in /opt/conda/lib/python3.10/site-packages (from seaborn) (3.8.4)\n",
      "Requirement already satisfied: contourpy>=1.0.1 in /opt/conda/lib/python3.10/site-packages (from matplotlib!=3.6.1,>=3.4->seaborn) (1.2.1)\n",
      "Requirement already satisfied: cycler>=0.10 in /opt/conda/lib/python3.10/site-packages (from matplotlib!=3.6.1,>=3.4->seaborn) (0.12.1)\n",
      "Requirement already satisfied: fonttools>=4.22.0 in /opt/conda/lib/python3.10/site-packages (from matplotlib!=3.6.1,>=3.4->seaborn) (4.51.0)\n",
      "Requirement already satisfied: kiwisolver>=1.3.1 in /opt/conda/lib/python3.10/site-packages (from matplotlib!=3.6.1,>=3.4->seaborn) (1.4.5)\n",
      "Requirement already satisfied: packaging>=20.0 in /opt/conda/lib/python3.10/site-packages (from matplotlib!=3.6.1,>=3.4->seaborn) (23.2)\n",
      "Requirement already satisfied: pillow>=8 in /opt/conda/lib/python3.10/site-packages (from matplotlib!=3.6.1,>=3.4->seaborn) (10.3.0)\n",
      "Requirement already satisfied: pyparsing>=2.3.1 in /opt/conda/lib/python3.10/site-packages (from matplotlib!=3.6.1,>=3.4->seaborn) (3.1.2)\n",
      "Requirement already satisfied: python-dateutil>=2.7 in /opt/conda/lib/python3.10/site-packages (from matplotlib!=3.6.1,>=3.4->seaborn) (2.9.0)\n",
      "Requirement already satisfied: pytz>=2020.1 in /opt/conda/lib/python3.10/site-packages (from pandas>=1.2->seaborn) (2023.3)\n",
      "Requirement already satisfied: tzdata>=2022.1 in /opt/conda/lib/python3.10/site-packages (from pandas>=1.2->seaborn) (2024.1)\n",
      "Requirement already satisfied: six>=1.5 in /opt/conda/lib/python3.10/site-packages (from python-dateutil>=2.7->matplotlib!=3.6.1,>=3.4->seaborn) (1.16.0)\n",
      "Downloading seaborn-0.13.2-py3-none-any.whl (294 kB)\n",
      "\u001b[2K   \u001b[90m━━━━━━━━━━━━━━━━━━━━━━━━━━━━━━━━━━━━━━━━\u001b[0m \u001b[32m294.9/294.9 kB\u001b[0m \u001b[31m22.6 MB/s\u001b[0m eta \u001b[36m0:00:00\u001b[0m\n",
      "\u001b[?25hInstalling collected packages: seaborn\n",
      "Successfully installed seaborn-0.13.2\n"
     ]
    },
    {
     "data": {
      "image/png": "[encoded data removed]",
      "text/plain": [
       "<Figure size 5000x1000 with 11 Axes>"
      ]
     },
     "metadata": {},
     "output_type": "display_data"
    }
   ],
   "source": [
    "# Create visualizations showing correlations between variables.\n",
    "import seaborn as sns\n",
    "target = 'fare_amount'\n",
    "features = [col for col in df.columns if col != target]\n",
    "\n",
    "# Create a figure with subplots\n",
    "fig, axes = plt.subplots(nrows=1, ncols=len(features), figsize=(50, 10))\n",
    "\n",
    "# Create scatter plots\n",
    "for i, feature in enumerate(features):\n",
    "    sns.scatterplot(x=df[feature], y=df[target], ax=axes[i])\n",
    "    axes[i].set_title(f'{feature} vs {target}')\n",
    "    axes[i].set_xlabel(feature)\n",
    "    axes[i].set_ylabel(target)\n",
    "\n",
    "plt.tight_layout()\n",
    "plt.show()"
   ]
  },
  {
   "cell_type": "code",
   "execution_count": 44,
   "id": "d8dff114-adb5-4b34-a788-b93e42a2fee4",
   "metadata": {},
   "outputs": [
    {
     "name": "stdout",
     "output_type": "stream",
     "text": [
      "tip_amount 0.5490632216119445\n",
      "tolls_amount 0.6102905023696504\n",
      "extra -0.014430938533029767\n",
      "mta_tax -0.15051466243094883\n",
      "total_amount 0.9774147114602906\n",
      "trip_distance 0.8802845818094683\n"
     ]
    }
   ],
   "source": [
    "# extra and mta_tax seem weakly correlated\n",
    "# total_amount is almost perfectly correlated, indicating target leakage.\n",
    "continuous_features = ['tip_amount', 'tolls_amount', 'extra', 'mta_tax', 'total_amount', 'trip_distance']\n",
    "\n",
    "for i in continuous_features:\n",
    "    correlation = df['fare_amount'].corr(df[i])\n",
    "    print(i, correlation)"
   ]
  },
  {
   "cell_type": "code",
   "execution_count": 45,
   "id": "3e083025-3312-4fd9-8cd2-4c8e37db5859",
   "metadata": {},
   "outputs": [
    {
     "name": "stdout",
     "output_type": "stream",
     "text": [
      "Feature: payment_type, F-statistic: 14.30, p-value: 0.00000\n",
      "Feature: extra, F-statistic: 105.47, p-value: 0.00000\n",
      "Feature: mta_tax, F-statistic: 630.56, p-value: 0.00000\n",
      "Feature: vendor_id, F-statistic: 8.74, p-value: 0.00312\n",
      "Feature: passenger_count, F-statistic: 5.69, p-value: 0.00000\n"
     ]
    }
   ],
   "source": [
    "# The mta tax and extra have the most variance between the groups\n",
    "from scipy.stats import f_oneway\n",
    "# Separate features and target variable\n",
    "X = df[['payment_type', 'extra', 'mta_tax', 'vendor_id', 'passenger_count']]\n",
    "y = df['fare_amount']\n",
    "\n",
    "# Perform one-way ANOVA for each feature\n",
    "for feature in X.columns:\n",
    "    groups = [y[X[feature] == group] for group in X[feature].unique()]\n",
    "    if len(groups) > 1:\n",
    "        f_statistic, p_value = f_oneway(*groups)\n",
    "        print(f'Feature: {feature}, F-statistic: {f_statistic:.2f}, p-value: {p_value:.5f}')"
   ]
  },
  {
   "cell_type": "code",
   "execution_count": 46,
   "id": "0dbcf599-076c-468e-9e9b-2e0bd53c3fa7",
   "metadata": {},
   "outputs": [
    {
     "name": "stdout",
     "output_type": "stream",
     "text": [
      "Query execution ID: e7fbec48-e870-4d00-bb8e-ef1b64851e27\n",
      "Query is currently in QUEUED state. Waiting for completion...\n",
      "Query is currently in RUNNING state. Waiting for completion...\n",
      "Query is currently in RUNNING state. Waiting for completion...\n",
      "Query is currently in RUNNING state. Waiting for completion...\n",
      "Query is currently in RUNNING state. Waiting for completion...\n",
      "Query is currently in RUNNING state. Waiting for completion...\n",
      "Query is currently in RUNNING state. Waiting for completion...\n",
      "Query is currently in RUNNING state. Waiting for completion...\n",
      "Query is currently in RUNNING state. Waiting for completion...\n",
      "Query is currently in RUNNING state. Waiting for completion...\n",
      "Query is currently in RUNNING state. Waiting for completion...\n",
      "Query is currently in RUNNING state. Waiting for completion...\n",
      "Query executed successfully.\n"
     ]
    },
    {
     "data": {
      "text/plain": [
       "'e7fbec48-e870-4d00-bb8e-ef1b64851e27'"
      ]
     },
     "execution_count": 46,
     "metadata": {},
     "output_type": "execute_result"
    }
   ],
   "source": [
    "# Dropping passenger count and total_amount from dataset\n",
    "# Final select statement has tip_amount, tolls_amount, extra, mta_tax, trip_distance\n",
    "ride_combined_notebook_relevant_features_query = \"\"\"\n",
    "SELECT fare_amount, tip_amount, tolls_amount, extra, mta_tax, trip_distance FROM combined_ride_data_deduped\n",
    "\"\"\"\n",
    "\n",
    "# Run the query to create the dataset that we're using to train our model\n",
    "run_athena_query(ride_combined_notebook_relevant_features_query, database, s3_output_location)"
   ]
  },
  {
   "cell_type": "code",
   "execution_count": 48,
   "id": "624a7833-c815-480e-b1da-c29da3d02c76",
   "metadata": {},
   "outputs": [
    {
     "data": {
      "text/plain": [
       "'s3://parsa-ux360-burner-account-bucket/e7fbec48-e870-4d00-bb8e-ef1b64851e27.csv'"
      ]
     },
     "execution_count": 48,
     "metadata": {},
     "output_type": "execute_result"
    }
   ],
   "source": [
    "# For the athena-tutorial-ux360-draft processing script, you're specifying /opt/ml/processing/input/query-id-from-preceding-cell.csv\n",
    "get_csv_file_location('e7fbec48-e870-4d00-bb8e-ef1b64851e27')"
   ]
  },
  {
   "cell_type": "code",
   "execution_count": 49,
   "id": "788cae3c-a34b-4ee0-899e-0a461e21b210",
   "metadata": {},
   "outputs": [
    {
     "name": "stdout",
     "output_type": "stream",
     "text": [
      "sagemaker.config INFO - Not applying SDK defaults from location: /etc/xdg/sagemaker/config.yaml\n",
      "sagemaker.config INFO - Not applying SDK defaults from location: /home/sagemaker-user/.config/sagemaker/config.yaml\n"
     ]
    },
    {
     "name": "stderr",
     "output_type": "stream",
     "text": [
      "INFO:sagemaker:Creating processing-job with name sagemaker-scikit-learn-2024-06-17-14-01-30-730\n"
     ]
    },
    {
     "ename": "ResourceLimitExceeded",
     "evalue": "An error occurred (ResourceLimitExceeded) when calling the CreateProcessingJob operation: The account-level service limit 'ml.m5.4xlarge for processing job usage' is 0 Instances, with current utilization of 0 Instances and a request delta of 1 Instances. Please use AWS Service Quotas to request an increase for this quota. If AWS Service Quotas is not available, contact AWS support to request an increase for this quota.",
     "output_type": "error",
     "traceback": [
      "\u001b[0;31m---------------------------------------------------------------------------\u001b[0m",
      "\u001b[0;31mResourceLimitExceeded\u001b[0m                     Traceback (most recent call last)",
      "Cell \u001b[0;32mIn[49], line 17\u001b[0m\n\u001b[1;32m     11\u001b[0m sklearn_processor \u001b[38;5;241m=\u001b[39m SKLearnProcessor(framework_version\u001b[38;5;241m=\u001b[39m\u001b[38;5;124m'\u001b[39m\u001b[38;5;124m0.20.0\u001b[39m\u001b[38;5;124m'\u001b[39m,\n\u001b[1;32m     12\u001b[0m                                      role\u001b[38;5;241m=\u001b[39mrole,\n\u001b[1;32m     13\u001b[0m                                      instance_type\u001b[38;5;241m=\u001b[39m\u001b[38;5;124m'\u001b[39m\u001b[38;5;124mml.m5.4xlarge\u001b[39m\u001b[38;5;124m'\u001b[39m,\n\u001b[1;32m     14\u001b[0m                                      instance_count\u001b[38;5;241m=\u001b[39m\u001b[38;5;241m1\u001b[39m)\n\u001b[1;32m     16\u001b[0m \u001b[38;5;66;03m# Run the processing job\u001b[39;00m\n\u001b[0;32m---> 17\u001b[0m \u001b[43msklearn_processor\u001b[49m\u001b[38;5;241;43m.\u001b[39;49m\u001b[43mrun\u001b[49m\u001b[43m(\u001b[49m\n\u001b[1;32m     18\u001b[0m \u001b[43m    \u001b[49m\u001b[43mcode\u001b[49m\u001b[38;5;241;43m=\u001b[39;49m\u001b[38;5;124;43m'\u001b[39;49m\u001b[38;5;124;43mathena-tutorial-ux360-draft-processing-file.py\u001b[39;49m\u001b[38;5;124;43m'\u001b[39;49m\u001b[43m,\u001b[49m\u001b[43m  \u001b[49m\u001b[38;5;66;43;03m# Ensure this path is correct\u001b[39;49;00m\n\u001b[1;32m     19\u001b[0m \u001b[43m    \u001b[49m\u001b[43minputs\u001b[49m\u001b[38;5;241;43m=\u001b[39;49m\u001b[43m[\u001b[49m\u001b[43mProcessingInput\u001b[49m\u001b[43m(\u001b[49m\n\u001b[1;32m     20\u001b[0m \u001b[43m        \u001b[49m\u001b[43msource\u001b[49m\u001b[38;5;241;43m=\u001b[39;49m\u001b[38;5;124;43m'\u001b[39;49m\u001b[38;5;124;43ms3://parsa-ux360-burner-account-bucket/e7fbec48-e870-4d00-bb8e-ef1b64851e27.csv\u001b[39;49m\u001b[38;5;124;43m'\u001b[39;49m\u001b[43m,\u001b[49m\n\u001b[1;32m     21\u001b[0m \u001b[43m        \u001b[49m\u001b[43mdestination\u001b[49m\u001b[38;5;241;43m=\u001b[39;49m\u001b[38;5;124;43m'\u001b[39;49m\u001b[38;5;124;43m/opt/ml/processing/input\u001b[39;49m\u001b[38;5;124;43m'\u001b[39;49m\n\u001b[1;32m     22\u001b[0m \u001b[43m    \u001b[49m\u001b[43m)\u001b[49m\u001b[43m]\u001b[49m\u001b[43m,\u001b[49m\n\u001b[1;32m     23\u001b[0m \u001b[43m    \u001b[49m\u001b[43moutputs\u001b[49m\u001b[38;5;241;43m=\u001b[39;49m\u001b[43m[\u001b[49m\n\u001b[1;32m     24\u001b[0m \u001b[43m        \u001b[49m\u001b[43mProcessingOutput\u001b[49m\u001b[43m(\u001b[49m\n\u001b[1;32m     25\u001b[0m \u001b[43m            \u001b[49m\u001b[43msource\u001b[49m\u001b[38;5;241;43m=\u001b[39;49m\u001b[38;5;124;43m'\u001b[39;49m\u001b[38;5;124;43m/opt/ml/processing/output/train\u001b[39;49m\u001b[38;5;124;43m'\u001b[39;49m\u001b[43m,\u001b[49m\n\u001b[1;32m     26\u001b[0m \u001b[43m            \u001b[49m\u001b[43mdestination\u001b[49m\u001b[38;5;241;43m=\u001b[39;49m\u001b[38;5;124;43m'\u001b[39;49m\u001b[38;5;124;43ms3://parsa-ux360-burner-account-bucket/output/train\u001b[39;49m\u001b[38;5;124;43m'\u001b[39;49m\n\u001b[1;32m     27\u001b[0m \u001b[43m        \u001b[49m\u001b[43m)\u001b[49m\u001b[43m,\u001b[49m\n\u001b[1;32m     28\u001b[0m \u001b[43m        \u001b[49m\u001b[43mProcessingOutput\u001b[49m\u001b[43m(\u001b[49m\n\u001b[1;32m     29\u001b[0m \u001b[43m            \u001b[49m\u001b[43msource\u001b[49m\u001b[38;5;241;43m=\u001b[39;49m\u001b[38;5;124;43m'\u001b[39;49m\u001b[38;5;124;43m/opt/ml/processing/output/validation\u001b[39;49m\u001b[38;5;124;43m'\u001b[39;49m\u001b[43m,\u001b[49m\n\u001b[1;32m     30\u001b[0m \u001b[43m            \u001b[49m\u001b[43mdestination\u001b[49m\u001b[38;5;241;43m=\u001b[39;49m\u001b[38;5;124;43m'\u001b[39;49m\u001b[38;5;124;43ms3://parsa-ux360-burner-account-bucket/output/validation\u001b[39;49m\u001b[38;5;124;43m'\u001b[39;49m\n\u001b[1;32m     31\u001b[0m \u001b[43m        \u001b[49m\u001b[43m)\u001b[49m\u001b[43m,\u001b[49m\n\u001b[1;32m     32\u001b[0m \u001b[43m        \u001b[49m\u001b[43mProcessingOutput\u001b[49m\u001b[43m(\u001b[49m\n\u001b[1;32m     33\u001b[0m \u001b[43m            \u001b[49m\u001b[43msource\u001b[49m\u001b[38;5;241;43m=\u001b[39;49m\u001b[38;5;124;43m'\u001b[39;49m\u001b[38;5;124;43m/opt/ml/processing/output/test\u001b[39;49m\u001b[38;5;124;43m'\u001b[39;49m\u001b[43m,\u001b[49m\n\u001b[1;32m     34\u001b[0m \u001b[43m            \u001b[49m\u001b[43mdestination\u001b[49m\u001b[38;5;241;43m=\u001b[39;49m\u001b[38;5;124;43m'\u001b[39;49m\u001b[38;5;124;43ms3://parsa-ux360-burner-account-bucket/output/test\u001b[39;49m\u001b[38;5;124;43m'\u001b[39;49m\n\u001b[1;32m     35\u001b[0m \u001b[43m        \u001b[49m\u001b[43m)\u001b[49m\n\u001b[1;32m     36\u001b[0m \u001b[43m    \u001b[49m\u001b[43m]\u001b[49m\n\u001b[1;32m     37\u001b[0m \u001b[43m)\u001b[49m\n",
      "File \u001b[0;32m/opt/conda/lib/python3.10/site-packages/sagemaker/workflow/pipeline_context.py:346\u001b[0m, in \u001b[0;36mrunnable_by_pipeline.<locals>.wrapper\u001b[0;34m(*args, **kwargs)\u001b[0m\n\u001b[1;32m    342\u001b[0m         \u001b[38;5;28;01mreturn\u001b[39;00m context\n\u001b[1;32m    344\u001b[0m     \u001b[38;5;28;01mreturn\u001b[39;00m _StepArguments(retrieve_caller_name(self_instance), run_func, \u001b[38;5;241m*\u001b[39margs, \u001b[38;5;241m*\u001b[39m\u001b[38;5;241m*\u001b[39mkwargs)\n\u001b[0;32m--> 346\u001b[0m \u001b[38;5;28;01mreturn\u001b[39;00m \u001b[43mrun_func\u001b[49m\u001b[43m(\u001b[49m\u001b[38;5;241;43m*\u001b[39;49m\u001b[43margs\u001b[49m\u001b[43m,\u001b[49m\u001b[43m \u001b[49m\u001b[38;5;241;43m*\u001b[39;49m\u001b[38;5;241;43m*\u001b[39;49m\u001b[43mkwargs\u001b[49m\u001b[43m)\u001b[49m\n",
      "File \u001b[0;32m/opt/conda/lib/python3.10/site-packages/sagemaker/processing.py:680\u001b[0m, in \u001b[0;36mScriptProcessor.run\u001b[0;34m(self, code, inputs, outputs, arguments, wait, logs, job_name, experiment_config, kms_key)\u001b[0m\n\u001b[1;32m    670\u001b[0m normalized_inputs, normalized_outputs \u001b[38;5;241m=\u001b[39m \u001b[38;5;28mself\u001b[39m\u001b[38;5;241m.\u001b[39m_normalize_args(\n\u001b[1;32m    671\u001b[0m     job_name\u001b[38;5;241m=\u001b[39mjob_name,\n\u001b[1;32m    672\u001b[0m     arguments\u001b[38;5;241m=\u001b[39marguments,\n\u001b[0;32m   (...)\u001b[0m\n\u001b[1;32m    676\u001b[0m     kms_key\u001b[38;5;241m=\u001b[39mkms_key,\n\u001b[1;32m    677\u001b[0m )\n\u001b[1;32m    679\u001b[0m experiment_config \u001b[38;5;241m=\u001b[39m check_and_get_run_experiment_config(experiment_config)\n\u001b[0;32m--> 680\u001b[0m \u001b[38;5;28mself\u001b[39m\u001b[38;5;241m.\u001b[39mlatest_job \u001b[38;5;241m=\u001b[39m \u001b[43mProcessingJob\u001b[49m\u001b[38;5;241;43m.\u001b[39;49m\u001b[43mstart_new\u001b[49m\u001b[43m(\u001b[49m\n\u001b[1;32m    681\u001b[0m \u001b[43m    \u001b[49m\u001b[43mprocessor\u001b[49m\u001b[38;5;241;43m=\u001b[39;49m\u001b[38;5;28;43mself\u001b[39;49m\u001b[43m,\u001b[49m\n\u001b[1;32m    682\u001b[0m \u001b[43m    \u001b[49m\u001b[43minputs\u001b[49m\u001b[38;5;241;43m=\u001b[39;49m\u001b[43mnormalized_inputs\u001b[49m\u001b[43m,\u001b[49m\n\u001b[1;32m    683\u001b[0m \u001b[43m    \u001b[49m\u001b[43moutputs\u001b[49m\u001b[38;5;241;43m=\u001b[39;49m\u001b[43mnormalized_outputs\u001b[49m\u001b[43m,\u001b[49m\n\u001b[1;32m    684\u001b[0m \u001b[43m    \u001b[49m\u001b[43mexperiment_config\u001b[49m\u001b[38;5;241;43m=\u001b[39;49m\u001b[43mexperiment_config\u001b[49m\u001b[43m,\u001b[49m\n\u001b[1;32m    685\u001b[0m \u001b[43m\u001b[49m\u001b[43m)\u001b[49m\n\u001b[1;32m    686\u001b[0m \u001b[38;5;28mself\u001b[39m\u001b[38;5;241m.\u001b[39mjobs\u001b[38;5;241m.\u001b[39mappend(\u001b[38;5;28mself\u001b[39m\u001b[38;5;241m.\u001b[39mlatest_job)\n\u001b[1;32m    687\u001b[0m \u001b[38;5;28;01mif\u001b[39;00m wait:\n",
      "File \u001b[0;32m/opt/conda/lib/python3.10/site-packages/sagemaker/processing.py:916\u001b[0m, in \u001b[0;36mProcessingJob.start_new\u001b[0;34m(cls, processor, inputs, outputs, experiment_config)\u001b[0m\n\u001b[1;32m    913\u001b[0m logger\u001b[38;5;241m.\u001b[39mdebug(\u001b[38;5;124m\"\u001b[39m\u001b[38;5;124mOutputs: \u001b[39m\u001b[38;5;132;01m%s\u001b[39;00m\u001b[38;5;124m\"\u001b[39m, process_args[\u001b[38;5;124m\"\u001b[39m\u001b[38;5;124moutput_config\u001b[39m\u001b[38;5;124m\"\u001b[39m][\u001b[38;5;124m\"\u001b[39m\u001b[38;5;124mOutputs\u001b[39m\u001b[38;5;124m\"\u001b[39m])\n\u001b[1;32m    915\u001b[0m \u001b[38;5;66;03m# Call sagemaker_session.process using the arguments dictionary.\u001b[39;00m\n\u001b[0;32m--> 916\u001b[0m \u001b[43mprocessor\u001b[49m\u001b[38;5;241;43m.\u001b[39;49m\u001b[43msagemaker_session\u001b[49m\u001b[38;5;241;43m.\u001b[39;49m\u001b[43mprocess\u001b[49m\u001b[43m(\u001b[49m\u001b[38;5;241;43m*\u001b[39;49m\u001b[38;5;241;43m*\u001b[39;49m\u001b[43mprocess_args\u001b[49m\u001b[43m)\u001b[49m\n\u001b[1;32m    918\u001b[0m \u001b[38;5;28;01mreturn\u001b[39;00m \u001b[38;5;28mcls\u001b[39m(\n\u001b[1;32m    919\u001b[0m     processor\u001b[38;5;241m.\u001b[39msagemaker_session,\n\u001b[1;32m    920\u001b[0m     processor\u001b[38;5;241m.\u001b[39m_current_job_name,\n\u001b[0;32m   (...)\u001b[0m\n\u001b[1;32m    923\u001b[0m     processor\u001b[38;5;241m.\u001b[39moutput_kms_key,\n\u001b[1;32m    924\u001b[0m )\n",
      "File \u001b[0;32m/opt/conda/lib/python3.10/site-packages/sagemaker/session.py:1497\u001b[0m, in \u001b[0;36mSession.process\u001b[0;34m(self, inputs, output_config, job_name, resources, stopping_condition, app_specification, environment, network_config, role_arn, tags, experiment_config)\u001b[0m\n\u001b[1;32m   1494\u001b[0m     logger\u001b[38;5;241m.\u001b[39mdebug(\u001b[38;5;124m\"\u001b[39m\u001b[38;5;124mprocess request: \u001b[39m\u001b[38;5;132;01m%s\u001b[39;00m\u001b[38;5;124m\"\u001b[39m, json\u001b[38;5;241m.\u001b[39mdumps(request, indent\u001b[38;5;241m=\u001b[39m\u001b[38;5;241m4\u001b[39m))\n\u001b[1;32m   1495\u001b[0m     \u001b[38;5;28mself\u001b[39m\u001b[38;5;241m.\u001b[39msagemaker_client\u001b[38;5;241m.\u001b[39mcreate_processing_job(\u001b[38;5;241m*\u001b[39m\u001b[38;5;241m*\u001b[39mrequest)\n\u001b[0;32m-> 1497\u001b[0m \u001b[38;5;28;43mself\u001b[39;49m\u001b[38;5;241;43m.\u001b[39;49m\u001b[43m_intercept_create_request\u001b[49m\u001b[43m(\u001b[49m\u001b[43mprocess_request\u001b[49m\u001b[43m,\u001b[49m\u001b[43m \u001b[49m\u001b[43msubmit\u001b[49m\u001b[43m,\u001b[49m\u001b[43m \u001b[49m\u001b[38;5;28;43mself\u001b[39;49m\u001b[38;5;241;43m.\u001b[39;49m\u001b[43mprocess\u001b[49m\u001b[38;5;241;43m.\u001b[39;49m\u001b[38;5;18;43m__name__\u001b[39;49m\u001b[43m)\u001b[49m\n",
      "File \u001b[0;32m/opt/conda/lib/python3.10/site-packages/sagemaker/session.py:6458\u001b[0m, in \u001b[0;36mSession._intercept_create_request\u001b[0;34m(self, request, create, func_name)\u001b[0m\n\u001b[1;32m   6441\u001b[0m \u001b[38;5;28;01mdef\u001b[39;00m \u001b[38;5;21m_intercept_create_request\u001b[39m(\n\u001b[1;32m   6442\u001b[0m     \u001b[38;5;28mself\u001b[39m,\n\u001b[1;32m   6443\u001b[0m     request: typing\u001b[38;5;241m.\u001b[39mDict,\n\u001b[0;32m   (...)\u001b[0m\n\u001b[1;32m   6446\u001b[0m     \u001b[38;5;66;03m# pylint: disable=unused-argument\u001b[39;00m\n\u001b[1;32m   6447\u001b[0m ):\n\u001b[1;32m   6448\u001b[0m \u001b[38;5;250m    \u001b[39m\u001b[38;5;124;03m\"\"\"This function intercepts the create job request.\u001b[39;00m\n\u001b[1;32m   6449\u001b[0m \n\u001b[1;32m   6450\u001b[0m \u001b[38;5;124;03m    PipelineSession inherits this Session class and will override\u001b[39;00m\n\u001b[0;32m   (...)\u001b[0m\n\u001b[1;32m   6456\u001b[0m \u001b[38;5;124;03m        func_name (str): the name of the function needed intercepting\u001b[39;00m\n\u001b[1;32m   6457\u001b[0m \u001b[38;5;124;03m    \"\"\"\u001b[39;00m\n\u001b[0;32m-> 6458\u001b[0m     \u001b[38;5;28;01mreturn\u001b[39;00m \u001b[43mcreate\u001b[49m\u001b[43m(\u001b[49m\u001b[43mrequest\u001b[49m\u001b[43m)\u001b[49m\n",
      "File \u001b[0;32m/opt/conda/lib/python3.10/site-packages/sagemaker/session.py:1495\u001b[0m, in \u001b[0;36mSession.process.<locals>.submit\u001b[0;34m(request)\u001b[0m\n\u001b[1;32m   1493\u001b[0m logger\u001b[38;5;241m.\u001b[39minfo(\u001b[38;5;124m\"\u001b[39m\u001b[38;5;124mCreating processing-job with name \u001b[39m\u001b[38;5;132;01m%s\u001b[39;00m\u001b[38;5;124m\"\u001b[39m, job_name)\n\u001b[1;32m   1494\u001b[0m logger\u001b[38;5;241m.\u001b[39mdebug(\u001b[38;5;124m\"\u001b[39m\u001b[38;5;124mprocess request: \u001b[39m\u001b[38;5;132;01m%s\u001b[39;00m\u001b[38;5;124m\"\u001b[39m, json\u001b[38;5;241m.\u001b[39mdumps(request, indent\u001b[38;5;241m=\u001b[39m\u001b[38;5;241m4\u001b[39m))\n\u001b[0;32m-> 1495\u001b[0m \u001b[38;5;28;43mself\u001b[39;49m\u001b[38;5;241;43m.\u001b[39;49m\u001b[43msagemaker_client\u001b[49m\u001b[38;5;241;43m.\u001b[39;49m\u001b[43mcreate_processing_job\u001b[49m\u001b[43m(\u001b[49m\u001b[38;5;241;43m*\u001b[39;49m\u001b[38;5;241;43m*\u001b[39;49m\u001b[43mrequest\u001b[49m\u001b[43m)\u001b[49m\n",
      "File \u001b[0;32m/opt/conda/lib/python3.10/site-packages/botocore/client.py:553\u001b[0m, in \u001b[0;36mClientCreator._create_api_method.<locals>._api_call\u001b[0;34m(self, *args, **kwargs)\u001b[0m\n\u001b[1;32m    549\u001b[0m     \u001b[38;5;28;01mraise\u001b[39;00m \u001b[38;5;167;01mTypeError\u001b[39;00m(\n\u001b[1;32m    550\u001b[0m         \u001b[38;5;124mf\u001b[39m\u001b[38;5;124m\"\u001b[39m\u001b[38;5;132;01m{\u001b[39;00mpy_operation_name\u001b[38;5;132;01m}\u001b[39;00m\u001b[38;5;124m() only accepts keyword arguments.\u001b[39m\u001b[38;5;124m\"\u001b[39m\n\u001b[1;32m    551\u001b[0m     )\n\u001b[1;32m    552\u001b[0m \u001b[38;5;66;03m# The \"self\" in this scope is referring to the BaseClient.\u001b[39;00m\n\u001b[0;32m--> 553\u001b[0m \u001b[38;5;28;01mreturn\u001b[39;00m \u001b[38;5;28;43mself\u001b[39;49m\u001b[38;5;241;43m.\u001b[39;49m\u001b[43m_make_api_call\u001b[49m\u001b[43m(\u001b[49m\u001b[43moperation_name\u001b[49m\u001b[43m,\u001b[49m\u001b[43m \u001b[49m\u001b[43mkwargs\u001b[49m\u001b[43m)\u001b[49m\n",
      "File \u001b[0;32m/opt/conda/lib/python3.10/site-packages/botocore/client.py:1009\u001b[0m, in \u001b[0;36mBaseClient._make_api_call\u001b[0;34m(self, operation_name, api_params)\u001b[0m\n\u001b[1;32m   1005\u001b[0m     error_code \u001b[38;5;241m=\u001b[39m error_info\u001b[38;5;241m.\u001b[39mget(\u001b[38;5;124m\"\u001b[39m\u001b[38;5;124mQueryErrorCode\u001b[39m\u001b[38;5;124m\"\u001b[39m) \u001b[38;5;129;01mor\u001b[39;00m error_info\u001b[38;5;241m.\u001b[39mget(\n\u001b[1;32m   1006\u001b[0m         \u001b[38;5;124m\"\u001b[39m\u001b[38;5;124mCode\u001b[39m\u001b[38;5;124m\"\u001b[39m\n\u001b[1;32m   1007\u001b[0m     )\n\u001b[1;32m   1008\u001b[0m     error_class \u001b[38;5;241m=\u001b[39m \u001b[38;5;28mself\u001b[39m\u001b[38;5;241m.\u001b[39mexceptions\u001b[38;5;241m.\u001b[39mfrom_code(error_code)\n\u001b[0;32m-> 1009\u001b[0m     \u001b[38;5;28;01mraise\u001b[39;00m error_class(parsed_response, operation_name)\n\u001b[1;32m   1010\u001b[0m \u001b[38;5;28;01melse\u001b[39;00m:\n\u001b[1;32m   1011\u001b[0m     \u001b[38;5;28;01mreturn\u001b[39;00m parsed_response\n",
      "\u001b[0;31mResourceLimitExceeded\u001b[0m: An error occurred (ResourceLimitExceeded) when calling the CreateProcessingJob operation: The account-level service limit 'ml.m5.4xlarge for processing job usage' is 0 Instances, with current utilization of 0 Instances and a request delta of 1 Instances. Please use AWS Service Quotas to request an increase for this quota. If AWS Service Quotas is not available, contact AWS support to request an increase for this quota."
     ]
    }
   ],
   "source": [
    "# Run the processing job to create separate datasets from different files\n",
    "import sagemaker\n",
    "from sagemaker.sklearn.processing import SKLearnProcessor\n",
    "from sagemaker.processing import ProcessingInput, ProcessingOutput\n",
    "\n",
    "\n",
    "\n",
    "# Define the SageMaker execution role\n",
    "role = sagemaker.get_execution_role()\n",
    "\n",
    "# Define the SKLearnProcessor\n",
    "sklearn_processor = SKLearnProcessor(framework_version='0.20.0',\n",
    "                                     role=role,\n",
    "                                     instance_type='ml.m5.4xlarge',\n",
    "                                     instance_count=2)\n",
    "\n",
    "# Run the processing job\n",
    "sklearn_processor.run(\n",
    "    code='athena-tutorial-ux360-draft-processing-file.py',  # Ensure this path is correct\n",
    "    inputs=[ProcessingInput(\n",
    "        source='s3://example-s3-bucket/query-id.csv', # use the output of the preceding cell as the source\n",
    "        destination='/opt/ml/processing/input'\n",
    "    )],\n",
    "    outputs=[\n",
    "        ProcessingOutput(\n",
    "            source='/opt/ml/processing/output/train',\n",
    "            destination='s3://example-s3-bucket/output/train'\n",
    "        ),\n",
    "        ProcessingOutput(\n",
    "            source='/opt/ml/processing/output/validation',\n",
    "            destination='s3://example-s3-bucket/output/validation'\n",
    "        ),\n",
    "        ProcessingOutput(\n",
    "            source='/opt/ml/processing/output/test',\n",
    "            destination='s3://example-s3-bucket/output/test'\n",
    "        )\n",
    "    ]\n",
    ")\n"
   ]
  },
  {
   "cell_type": "code",
   "execution_count": 15,
   "id": "41cb0fb0-079d-421d-a4b8-005ee38fc472",
   "metadata": {},
   "outputs": [
    {
     "name": "stdout",
     "output_type": "stream",
     "text": [
      "2024-06-13 20:40:41  794188811 fourth-train.csv\n",
      "2024-06-12 00:14:24  794186734 train.csv\n"
     ]
    }
   ],
   "source": [
    "#Verify that train.csv is in the location that you've specified\n",
    "!aws s3 ls s3://example-s3-bucket/output/train/"
   ]
  },
  {
   "cell_type": "code",
   "execution_count": 16,
   "id": "ee3f29f1-a135-4bf6-bba5-595fb80c471d",
   "metadata": {},
   "outputs": [
    {
     "name": "stdout",
     "output_type": "stream",
     "text": [
      "2024-06-13 20:40:41  170181422 fourth-val.csv\n",
      "2024-06-12 00:14:24  170183095 val.csv\n"
     ]
    }
   ],
   "source": [
    "#Verify that val.csv is in the location that you've specified\n",
    "!aws s3 ls s3://example-s3-bucket/output/validation/"
   ]
  },
  {
   "cell_type": "code",
   "execution_count": 2,
   "id": "1e4e4113-b76c-49d5-a3b0-2327eb174fdf",
   "metadata": {},
   "outputs": [
    {
     "name": "stdout",
     "output_type": "stream",
     "text": [
      "sagemaker.config INFO - Not applying SDK defaults from location: /etc/xdg/sagemaker/config.yaml\n",
      "sagemaker.config INFO - Not applying SDK defaults from location: /home/sagemaker-user/.config/sagemaker/config.yaml\n"
     ]
    }
   ],
   "source": [
    "# Specify the input data sources for a training\n",
    "from sagemaker.session import TrainingInput\n",
    "\n",
    "bucket = 'example-s3-bucket'\n",
    "\n",
    "train_input = TrainingInput(\n",
    "    f\"s3://{bucket}/output/train/train.csv\", content_type=\"csv\"\n",
    ")\n",
    "validation_input = TrainingInput(\n",
    "    f\"s3://{bucket}/output/validation/val.csv\", content_type=\"csv\"\n",
    ")"
   ]
  },
  {
   "cell_type": "code",
   "execution_count": 5,
   "id": "d5b6a9b2-54e5-4dfd-9a5e-3c7442f6d5af",
   "metadata": {},
   "outputs": [
    {
     "name": "stdout",
     "output_type": "stream",
     "text": [
      "683313688378.dkr.ecr.us-east-1.amazonaws.com/sagemaker-xgboost:1.2-1\n"
     ]
    }
   ],
   "source": [
    "# Getting the XGBoost container that's in us-east-1\n",
    "prefix = \"training-output-data\"\n",
    "region = \"us-east-1\"\n",
    "\n",
    "from sagemaker.debugger import Rule, ProfilerRule, rule_configs\n",
    "from sagemaker.session import TrainingInput\n",
    "\n",
    "# S3 location to store the trained model artifact, so that it can be accessed later\n",
    "s3_output_location = f's3://{bucket}/{prefix}/xgboost_model'\n",
    "\n",
    "container = sagemaker.image_uris.retrieve(\"xgboost\", region, \"1.2-1\")\n",
    "print(container)"
   ]
  },
  {
   "cell_type": "code",
   "execution_count": 8,
   "id": "44efb3a1-acf0-4193-987f-85025c7c3894",
   "metadata": {},
   "outputs": [],
   "source": [
    "# Define the model\n",
    "xgb_model = sagemaker.estimator.Estimator(\n",
    "    image_uri = container,\n",
    "    role = role,\n",
    "    instance_count = 2,\n",
    "    region = region,\n",
    "    instance_type = 'ml.m5.4xlarge',\n",
    "    volume_size = 5, \n",
    "    output_path = s3_output_location,\n",
    "    sagemaker_session = sagemaker.Session(),\n",
    "    rules = [\n",
    "        Rule.sagemaker(rule_configs.create_xgboost_report()),\n",
    "        ProfilerRule.sagemaker(rule_configs.ProfilerReport())\n",
    "    ]\n",
    ")"
   ]
  },
  {
   "cell_type": "code",
   "execution_count": 9,
   "id": "e28512bf-d246-4a46-a0c8-24d1a8ad65a8",
   "metadata": {},
   "outputs": [],
   "source": [
    "# Set the hyperparameters for the model\n",
    "xgb_model.set_hyperparameters(\n",
    "    max_depth = 5,\n",
    "    eta = 0.2,\n",
    "    gamma = 4,\n",
    "    min_child_weight = 6,\n",
    "    subsample = 0.7,\n",
    "    objective = \"reg:squarederror\",\n",
    "    num_round = 10\n",
    ")"
   ]
  },
  {
   "cell_type": "code",
   "execution_count": 10,
   "id": "58b77fc0-407d-4743-ae35-7bc7b04478e6",
   "metadata": {},
   "outputs": [
    {
     "name": "stderr",
     "output_type": "stream",
     "text": [
      "INFO:sagemaker:Creating training-job with name: sagemaker-xgboost-2024-06-13-21-09-20-115\n"
     ]
    },
    {
     "name": "stdout",
     "output_type": "stream",
     "text": [
      "2024-06-13 21:09:20 Starting - Starting the training job...\n",
      "2024-06-13 21:09:44 Starting - Preparing the instances for trainingCreateXgboostReport: InProgress\n",
      "ProfilerReport: InProgress\n",
      "...\n",
      "2024-06-13 21:10:08 Downloading - Downloading input data......\n",
      "2024-06-13 21:11:13 Training - Training image download completed. Training in progress..\u001b[35m[2024-06-13 21:11:20.271 ip-10-2-118-110.ec2.internal:7 INFO utils.py:27] RULE_JOB_STOP_SIGNAL_FILENAME: None\u001b[0m\n",
      "\u001b[35mINFO:sagemaker-containers:Imported framework sagemaker_xgboost_container.training\u001b[0m\n",
      "\u001b[35mINFO:sagemaker-containers:Failed to parse hyperparameter objective value reg:squarederror to Json.\u001b[0m\n",
      "\u001b[35mReturning the value itself\u001b[0m\n",
      "\u001b[35mINFO:sagemaker-containers:No GPUs detected (normal if no gpus installed)\u001b[0m\n",
      "\u001b[35mINFO:sagemaker_xgboost_container.training:Running XGBoost Sagemaker in algorithm mode\u001b[0m\n",
      "\u001b[35mINFO:root:Determined delimiter of CSV input is ','\u001b[0m\n",
      "\u001b[35mINFO:root:Determined delimiter of CSV input is ','\u001b[0m\n",
      "\u001b[35mINFO:root:Determined delimiter of CSV input is ','\u001b[0m\n",
      "\u001b[34m[2024-06-13 21:11:21.431 ip-10-2-116-62.ec2.internal:7 INFO utils.py:27] RULE_JOB_STOP_SIGNAL_FILENAME: None\u001b[0m\n",
      "\u001b[34mINFO:sagemaker-containers:Imported framework sagemaker_xgboost_container.training\u001b[0m\n",
      "\u001b[34mINFO:sagemaker-containers:Failed to parse hyperparameter objective value reg:squarederror to Json.\u001b[0m\n",
      "\u001b[34mReturning the value itself\u001b[0m\n",
      "\u001b[34mINFO:sagemaker-containers:No GPUs detected (normal if no gpus installed)\u001b[0m\n",
      "\u001b[34mINFO:sagemaker_xgboost_container.training:Running XGBoost Sagemaker in algorithm mode\u001b[0m\n",
      "\u001b[34mINFO:root:Determined delimiter of CSV input is ','\u001b[0m\n",
      "\u001b[34mINFO:root:Determined delimiter of CSV input is ','\u001b[0m\n",
      "\u001b[34mINFO:root:Determined delimiter of CSV input is ','\u001b[0m\n",
      "\u001b[35mINFO:root:Determined delimiter of CSV input is ','\u001b[0m\n",
      "\u001b[34mINFO:root:Determined delimiter of CSV input is ','\u001b[0m\n",
      "\u001b[35mINFO:root:Distributed node training with 2 hosts: ['algo-1', 'algo-2']\u001b[0m\n",
      "\u001b[35mINFO:RabitContextManager:Failed to connect to RabitTracker on attempt 0\u001b[0m\n",
      "\u001b[35mINFO:RabitContextManager:Sleeping for 3 sec before retrying\u001b[0m\n",
      "\u001b[34mINFO:root:Distributed node training with 2 hosts: ['algo-1', 'algo-2']\u001b[0m\n",
      "\u001b[34mINFO:RabitTracker:start listen on algo-1:9099\u001b[0m\n",
      "\u001b[34mINFO:RabitContextManager:Rabit slave environment: {'DMLC_TRACKER_URI': 'algo-1', 'DMLC_TRACKER_PORT': 9099}\u001b[0m\n",
      "\u001b[34mINFO:RabitContextManager:Connected to RabitTracker.\u001b[0m\n",
      "\u001b[34mINFO:RabitTracker:No data received from connection ('10.2.116.62', 50370). Closing.\u001b[0m\n",
      "\u001b[34mtask NULL connected to the tracker\u001b[0m\n",
      "\u001b[35mINFO:RabitContextManager:Connected to RabitTracker.\u001b[0m\n",
      "\u001b[35mtask NULL connected to the tracker\u001b[0m\n",
      "\u001b[34mINFO:RabitTracker:No data received from connection ('10.2.118.110', 60326). Closing.\u001b[0m\n",
      "\u001b[34mtask NULL got new rank 0\u001b[0m\n",
      "\u001b[34mINFO:RabitTracker:Recieve start signal from 10.2.116.62; assign rank 0\u001b[0m\n",
      "\u001b[34mINFO:RabitTracker:Recieve start signal from 10.2.118.110; assign rank 1\u001b[0m\n",
      "\u001b[34mINFO:RabitTracker:@tracker All of 2 nodes getting started\u001b[0m\n",
      "\u001b[34mINFO:RabitTracker:@tracker All nodes finishes job\u001b[0m\n",
      "\u001b[34mINFO:RabitTracker:@tracker 0.1758744716644287 secs between node start and job finish\u001b[0m\n",
      "\u001b[34mINFO:RabitTracker:start listen on algo-1:9100\u001b[0m\n",
      "\u001b[34mINFO:RabitContextManager:Rabit slave environment: {'DMLC_TRACKER_URI': 'algo-1', 'DMLC_TRACKER_PORT': 9100}\u001b[0m\n",
      "\u001b[34mINFO:RabitContextManager:Connected to RabitTracker.\u001b[0m\n",
      "\u001b[34mINFO:RabitTracker:No data received from connection ('10.2.116.62', 54686). Closing.\u001b[0m\n",
      "\u001b[34mtask NULL connected to the tracker\u001b[0m\n",
      "\u001b[35mtask NULL got new rank 1\u001b[0m\n",
      "\u001b[35mINFO:RabitContextManager:Failed to connect to RabitTracker on attempt 0\u001b[0m\n",
      "\u001b[35mINFO:RabitContextManager:Sleeping for 3 sec before retrying\u001b[0m\n",
      "\u001b[35mINFO:RabitContextManager:Connected to RabitTracker.\u001b[0m\n",
      "\u001b[35mtask NULL connected to the tracker\u001b[0m\n",
      "\u001b[35mtask NULL got new rank 1\u001b[0m\n",
      "\u001b[35m[2024-06-13 21:11:37.262 ip-10-2-118-110.ec2.internal:7 INFO json_config.py:91] Creating hook from json_config at /opt/ml/input/config/debughookconfig.json.\u001b[0m\n",
      "\u001b[35m[2024-06-13 21:11:37.263 ip-10-2-118-110.ec2.internal:7 INFO hook.py:199] tensorboard_dir has not been set for the hook. SMDebug will not be exporting tensorboard summaries.\u001b[0m\n",
      "\u001b[35m[2024-06-13 21:11:37.263 ip-10-2-118-110.ec2.internal:7 INFO profiler_config_parser.py:102] User has disabled profiler.\u001b[0m\n",
      "\u001b[35m[2024-06-13 21:11:37.264 ip-10-2-118-110.ec2.internal:7 INFO hook.py:253] Saving to /opt/ml/output/tensors\u001b[0m\n",
      "\u001b[35m[2024-06-13 21:11:37.264 ip-10-2-118-110.ec2.internal:7 INFO state_store.py:77] The checkpoint config file /opt/ml/input/config/checkpointconfig.json does not exist.\u001b[0m\n",
      "\u001b[35mINFO:root:Debug hook created from config\u001b[0m\n",
      "\u001b[35mINFO:root:Train matrix has 30940497 rows and 5 columns\u001b[0m\n",
      "\u001b[35mINFO:root:Validation matrix has 6630107 rows\u001b[0m\n",
      "\u001b[35m[21:11:37] WARNING: ../src/gbm/gbtree.cc:129: Tree method is automatically selected to be 'approx' for distributed training.\u001b[0m\n",
      "\u001b[34mINFO:RabitTracker:No data received from connection ('10.2.118.110', 59212). Closing.\u001b[0m\n",
      "\u001b[34mtask NULL got new rank 0\u001b[0m\n",
      "\u001b[34mINFO:RabitTracker:Recieve start signal from 10.2.116.62; assign rank 0\u001b[0m\n",
      "\u001b[34mINFO:RabitTracker:Recieve start signal from 10.2.118.110; assign rank 1\u001b[0m\n",
      "\u001b[34mINFO:RabitTracker:@tracker All of 2 nodes getting started\u001b[0m\n",
      "\u001b[34m[2024-06-13 21:11:37.262 ip-10-2-116-62.ec2.internal:7 INFO json_config.py:91] Creating hook from json_config at /opt/ml/input/config/debughookconfig.json.\u001b[0m\n",
      "\u001b[34m[2024-06-13 21:11:37.263 ip-10-2-116-62.ec2.internal:7 INFO hook.py:199] tensorboard_dir has not been set for the hook. SMDebug will not be exporting tensorboard summaries.\u001b[0m\n",
      "\u001b[34m[2024-06-13 21:11:37.263 ip-10-2-116-62.ec2.internal:7 INFO profiler_config_parser.py:102] User has disabled profiler.\u001b[0m\n",
      "\u001b[34m[2024-06-13 21:11:37.263 ip-10-2-116-62.ec2.internal:7 INFO hook.py:253] Saving to /opt/ml/output/tensors\u001b[0m\n",
      "\u001b[34m[2024-06-13 21:11:37.264 ip-10-2-116-62.ec2.internal:7 INFO state_store.py:77] The checkpoint config file /opt/ml/input/config/checkpointconfig.json does not exist.\u001b[0m\n",
      "\u001b[34mINFO:root:Debug hook created from config\u001b[0m\n",
      "\u001b[34mINFO:root:Train matrix has 30940497 rows and 5 columns\u001b[0m\n",
      "\u001b[34mINFO:root:Validation matrix has 6630107 rows\u001b[0m\n",
      "\u001b[34m[21:11:37] WARNING: ../src/gbm/gbtree.cc:129: Tree method is automatically selected to be 'approx' for distributed training.\u001b[0m\n",
      "\u001b[35m[2024-06-13 21:11:52.675 ip-10-2-118-110.ec2.internal:7 INFO hook.py:413] Monitoring the collections: predictions, feature_importance, labels, hyperparameters, metrics\u001b[0m\n",
      "\u001b[34mINFO:RabitTracker:[0]#011train-rmse:255.88295#011validation-rmse:68.20912\u001b[0m\n",
      "\u001b[34m[2024-06-13 21:11:52.675 ip-10-2-116-62.ec2.internal:7 INFO hook.py:413] Monitoring the collections: labels, hyperparameters, predictions, metrics, feature_importance\u001b[0m\n",
      "\u001b[34mINFO:RabitTracker:[1]#011train-rmse:250.89801#011validation-rmse:71.52632\u001b[0m\n",
      "\u001b[34mINFO:RabitTracker:[2]#011train-rmse:250.13692#011validation-rmse:71.59752\u001b[0m\n",
      "\u001b[34mINFO:RabitTracker:[3]#011train-rmse:247.76843#011validation-rmse:79.49778\u001b[0m\n",
      "\u001b[34mINFO:RabitTracker:[4]#011train-rmse:245.87282#011validation-rmse:84.14578\u001b[0m\n",
      "\u001b[34mINFO:RabitTracker:[5]#011train-rmse:245.98055#011validation-rmse:84.03645\u001b[0m\n",
      "\u001b[34mINFO:RabitTracker:[6]#011train-rmse:245.69582#011validation-rmse:84.06477\u001b[0m\n",
      "\u001b[34mINFO:RabitTracker:[7]#011train-rmse:243.92581#011validation-rmse:84.02535\u001b[0m\n",
      "\u001b[34mINFO:RabitTracker:[8]#011train-rmse:243.96504#011validation-rmse:83.95972\u001b[0m\n",
      "\u001b[34mINFO:RabitTracker:[9]#011train-rmse:241.88516#011validation-rmse:77.56747\u001b[0m\n",
      "\u001b[34mINFO:RabitTracker:@tracker All nodes finishes job\u001b[0m\n",
      "\u001b[34mINFO:RabitTracker:@tracker 112.72817921638489 secs between node start and job finish\u001b[0m\n",
      "\n",
      "2024-06-13 21:13:47 Uploading - Uploading generated training model\n",
      "2024-06-13 21:13:47 Completed - Training job completed\n",
      "Training seconds: 440\n",
      "Billable seconds: 440\n"
     ]
    }
   ],
   "source": [
    "# Train the model on new data\n",
    "xgb_model.fit({\"train\": train_input, \"validation\": validation_input}, wait=True)"
   ]
  },
  {
   "cell_type": "code",
   "execution_count": 11,
   "id": "c1aa7bc3-feee-4602-a64c-8c1e08526d03",
   "metadata": {},
   "outputs": [
    {
     "name": "stderr",
     "output_type": "stream",
     "text": [
      "INFO:sagemaker:Creating model with name: sagemaker-xgboost-2024-06-13-21-14-15-341\n",
      "INFO:sagemaker:Creating endpoint-config with name sagemaker-xgboost-2024-06-13-21-14-15-341\n",
      "INFO:sagemaker:Creating endpoint with name sagemaker-xgboost-2024-06-13-21-14-15-341\n"
     ]
    },
    {
     "name": "stdout",
     "output_type": "stream",
     "text": [
      "-------!"
     ]
    }
   ],
   "source": [
    "# Deploy the model so that we can get predictions from it\n",
    "xgb_predictor = xgb_model.deploy(initial_instance_count=1, instance_type='ml.m4.xlarge')"
   ]
  },
  {
   "cell_type": "code",
   "execution_count": 26,
   "id": "a9cc4eea-a6d0-418f-ab35-db437ce2a99d",
   "metadata": {},
   "outputs": [
    {
     "name": "stdout",
     "output_type": "stream",
     "text": [
      "download: s3://ux360-nyc-taxi-dogfooding/output/test/fourth-test.csv to ./fourth-test.csv\n"
     ]
    }
   ],
   "source": [
    "# Download the test csv file\n",
    "!aws s3 cp s3://example-s3-bucket/output/test/test.csv ."
   ]
  },
  {
   "cell_type": "code",
   "execution_count": 23,
   "id": "953f9d9b-04d0-4398-8620-8f9ab4eb407b",
   "metadata": {},
   "outputs": [
    {
     "data": {
      "text/html": [
       "<div>\n",
       "<style scoped>\n",
       "    .dataframe tbody tr th:only-of-type {\n",
       "        vertical-align: middle;\n",
       "    }\n",
       "\n",
       "    .dataframe tbody tr th {\n",
       "        vertical-align: top;\n",
       "    }\n",
       "\n",
       "    .dataframe thead th {\n",
       "        text-align: right;\n",
       "    }\n",
       "</style>\n",
       "<table border=\"1\" class=\"dataframe\">\n",
       "  <thead>\n",
       "    <tr style=\"text-align: right;\">\n",
       "      <th></th>\n",
       "      <th>1</th>\n",
       "      <th>2</th>\n",
       "      <th>3</th>\n",
       "      <th>4</th>\n",
       "      <th>5</th>\n",
       "    </tr>\n",
       "  </thead>\n",
       "  <tbody>\n",
       "    <tr>\n",
       "      <th>0</th>\n",
       "      <td>3.45</td>\n",
       "      <td>0.00</td>\n",
       "      <td>0.0</td>\n",
       "      <td>0.5</td>\n",
       "      <td>1.06</td>\n",
       "    </tr>\n",
       "    <tr>\n",
       "      <th>1</th>\n",
       "      <td>0.00</td>\n",
       "      <td>0.00</td>\n",
       "      <td>0.0</td>\n",
       "      <td>0.5</td>\n",
       "      <td>1.00</td>\n",
       "    </tr>\n",
       "    <tr>\n",
       "      <th>2</th>\n",
       "      <td>0.00</td>\n",
       "      <td>6.12</td>\n",
       "      <td>1.0</td>\n",
       "      <td>0.5</td>\n",
       "      <td>15.20</td>\n",
       "    </tr>\n",
       "    <tr>\n",
       "      <th>3</th>\n",
       "      <td>1.50</td>\n",
       "      <td>0.00</td>\n",
       "      <td>0.0</td>\n",
       "      <td>0.5</td>\n",
       "      <td>1.34</td>\n",
       "    </tr>\n",
       "    <tr>\n",
       "      <th>4</th>\n",
       "      <td>0.00</td>\n",
       "      <td>0.00</td>\n",
       "      <td>0.0</td>\n",
       "      <td>0.5</td>\n",
       "      <td>3.86</td>\n",
       "    </tr>\n",
       "  </tbody>\n",
       "</table>\n",
       "</div>"
      ],
      "text/plain": [
       "      1     2    3    4      5\n",
       "0  3.45  0.00  0.0  0.5   1.06\n",
       "1  0.00  0.00  0.0  0.5   1.00\n",
       "2  0.00  6.12  1.0  0.5  15.20\n",
       "3  1.50  0.00  0.0  0.5   1.34\n",
       "4  0.00  0.00  0.0  0.5   3.86"
      ]
     },
     "execution_count": 23,
     "metadata": {},
     "output_type": "execute_result"
    }
   ],
   "source": [
    "import boto3\n",
    "import json\n",
    "\n",
    "# Create a small test dataframe to test predictions\n",
    "test_df = pd.read_csv('test.csv', nrows=20)\n",
    "test_df = test_df.drop(test_df.columns[0], axis=1)\n",
    "test_df.head()"
   ]
  },
  {
   "cell_type": "code",
   "execution_count": 29,
   "id": "218e7887-f37d-42e1-8f6a-9ee97d3c75c4",
   "metadata": {},
   "outputs": [
    {
     "name": "stdout",
     "output_type": "stream",
     "text": [
      "6.515090465545654,6.515090465545654,38.16786193847656,7.602119445800781,13.685721397399902,9.086471557617188,9.086471557617188,6.515090465545654,7.602119445800781,6.515090465545654,10.813796043395996,6.962556838989258,7.602119445800781,9.086471557617188,7.602119445800781,7.602119445800781,27.497194290161133,22.18333625793457,6.962556838989258,8.302289962768555\n"
     ]
    }
   ],
   "source": [
    "import boto3\n",
    "import json\n",
    "import pandas as pd\n",
    "\n",
    "# Initialize the SageMaker runtime client\n",
    "runtime = boto3.client('runtime.sagemaker')\n",
    "\n",
    "# Define the endpoint name\n",
    "endpoint_name = 'sagemaker-xgboost-2024-06-13-21-14-15-341'\n",
    "\n",
    "# Function to make predictions\n",
    "def get_predictions(data, endpoint_name):\n",
    "    # Convert the DataFrame to a CSV string and encode it to bytes\n",
    "    csv_data = data.to_csv(header=False, index=False).encode('utf-8')\n",
    "    \n",
    "    response = runtime.invoke_endpoint(\n",
    "        EndpointName=endpoint_name,\n",
    "        ContentType='text/csv',\n",
    "        Body=csv_data\n",
    "    )\n",
    "    \n",
    "    # Read the response body\n",
    "    response_body = response['Body'].read().decode('utf-8')\n",
    "    \n",
    "    try:\n",
    "        # Try to parse the response as JSON\n",
    "        result = json.loads(response_body)\n",
    "    except json.JSONDecodeError:\n",
    "        # If response is not JSON, just return the raw response\n",
    "        result = response_body\n",
    "        \n",
    "    return result\n",
    "\n",
    "# Drop the target column from the test dataframe\n",
    "test_df = test_df.drop(test_df.columns[0], axis=1)\n",
    "\n",
    "# Get predictions\n",
    "predictions = get_predictions(test_df, endpoint_name)\n",
    "print(predictions)"
   ]
  },
  {
   "cell_type": "code",
   "execution_count": 38,
   "id": "1562ca50-b9ea-402b-991f-4a037c972159",
   "metadata": {},
   "outputs": [],
   "source": [
    "# Create an array from the single string of predictions\n",
    "predictions_array = predictions.split(',')"
   ]
  },
  {
   "cell_type": "code",
   "execution_count": 39,
   "id": "58b45ac2-8a18-4d27-8aff-57370696d58f",
   "metadata": {},
   "outputs": [
    {
     "data": {
      "text/plain": [
       "['6.515090465545654',\n",
       " '6.515090465545654',\n",
       " '38.16786193847656',\n",
       " '7.602119445800781',\n",
       " '13.685721397399902',\n",
       " '9.086471557617188',\n",
       " '9.086471557617188',\n",
       " '6.515090465545654',\n",
       " '7.602119445800781',\n",
       " '6.515090465545654',\n",
       " '10.813796043395996',\n",
       " '6.962556838989258',\n",
       " '7.602119445800781',\n",
       " '9.086471557617188',\n",
       " '7.602119445800781',\n",
       " '7.602119445800781',\n",
       " '27.497194290161133',\n",
       " '22.18333625793457',\n",
       " '6.962556838989258',\n",
       " '8.302289962768555']"
      ]
     },
     "execution_count": 39,
     "metadata": {},
     "output_type": "execute_result"
    }
   ],
   "source": [
    "predictions_array"
   ]
  },
  {
   "cell_type": "code",
   "execution_count": 32,
   "id": "a5b69119-c58d-401d-a683-345a21451090",
   "metadata": {},
   "outputs": [
    {
     "data": {
      "text/html": [
       "<div>\n",
       "<style scoped>\n",
       "    .dataframe tbody tr th:only-of-type {\n",
       "        vertical-align: middle;\n",
       "    }\n",
       "\n",
       "    .dataframe tbody tr th {\n",
       "        vertical-align: top;\n",
       "    }\n",
       "\n",
       "    .dataframe thead th {\n",
       "        text-align: right;\n",
       "    }\n",
       "</style>\n",
       "<table border=\"1\" class=\"dataframe\">\n",
       "  <thead>\n",
       "    <tr style=\"text-align: right;\">\n",
       "      <th></th>\n",
       "      <th>0</th>\n",
       "      <th>1</th>\n",
       "      <th>2</th>\n",
       "      <th>3</th>\n",
       "      <th>4</th>\n",
       "      <th>5</th>\n",
       "    </tr>\n",
       "  </thead>\n",
       "  <tbody>\n",
       "    <tr>\n",
       "      <th>0</th>\n",
       "      <td>10.5</td>\n",
       "      <td>3.45</td>\n",
       "      <td>0.00</td>\n",
       "      <td>0.0</td>\n",
       "      <td>0.5</td>\n",
       "      <td>1.06</td>\n",
       "    </tr>\n",
       "    <tr>\n",
       "      <th>1</th>\n",
       "      <td>5.0</td>\n",
       "      <td>0.00</td>\n",
       "      <td>0.00</td>\n",
       "      <td>0.0</td>\n",
       "      <td>0.5</td>\n",
       "      <td>1.00</td>\n",
       "    </tr>\n",
       "    <tr>\n",
       "      <th>2</th>\n",
       "      <td>52.0</td>\n",
       "      <td>0.00</td>\n",
       "      <td>6.12</td>\n",
       "      <td>1.0</td>\n",
       "      <td>0.5</td>\n",
       "      <td>15.20</td>\n",
       "    </tr>\n",
       "    <tr>\n",
       "      <th>3</th>\n",
       "      <td>10.0</td>\n",
       "      <td>1.50</td>\n",
       "      <td>0.00</td>\n",
       "      <td>0.0</td>\n",
       "      <td>0.5</td>\n",
       "      <td>1.34</td>\n",
       "    </tr>\n",
       "    <tr>\n",
       "      <th>4</th>\n",
       "      <td>14.0</td>\n",
       "      <td>0.00</td>\n",
       "      <td>0.00</td>\n",
       "      <td>0.0</td>\n",
       "      <td>0.5</td>\n",
       "      <td>3.86</td>\n",
       "    </tr>\n",
       "  </tbody>\n",
       "</table>\n",
       "</div>"
      ],
      "text/plain": [
       "      0     1     2    3    4      5\n",
       "0  10.5  3.45  0.00  0.0  0.5   1.06\n",
       "1   5.0  0.00  0.00  0.0  0.5   1.00\n",
       "2  52.0  0.00  6.12  1.0  0.5  15.20\n",
       "3  10.0  1.50  0.00  0.0  0.5   1.34\n",
       "4  14.0  0.00  0.00  0.0  0.5   3.86"
      ]
     },
     "execution_count": 32,
     "metadata": {},
     "output_type": "execute_result"
    }
   ],
   "source": [
    "# Get a 20 row sample from the test dataframe\n",
    "df_with_target_column_values = pd.read_csv('test.csv', nrows=20)\n",
    "df_with_target_column_values.head()"
   ]
  },
  {
   "cell_type": "code",
   "execution_count": 48,
   "id": "75353856-df2f-4c45-9a9b-11e16a856aa6",
   "metadata": {},
   "outputs": [],
   "source": [
    "# Convert values from strings to floats\n",
    "predictions_array = [float(x) for x in predictions_array]"
   ]
  },
  {
   "cell_type": "code",
   "execution_count": 49,
   "id": "4b8dd2e5-8341-4aa4-88c9-21b10d25fd2e",
   "metadata": {},
   "outputs": [],
   "source": [
    "# Create a dataframe to store the predicted versus actual values\n",
    "comparison_df = pd.DataFrame(predictions_array, columns=['predicted_values'])"
   ]
  },
  {
   "cell_type": "code",
   "execution_count": 50,
   "id": "9589000e-1ce0-4a08-9d9c-055d29e13639",
   "metadata": {},
   "outputs": [
    {
     "data": {
      "text/html": [
       "<div>\n",
       "<style scoped>\n",
       "    .dataframe tbody tr th:only-of-type {\n",
       "        vertical-align: middle;\n",
       "    }\n",
       "\n",
       "    .dataframe tbody tr th {\n",
       "        vertical-align: top;\n",
       "    }\n",
       "\n",
       "    .dataframe thead th {\n",
       "        text-align: right;\n",
       "    }\n",
       "</style>\n",
       "<table border=\"1\" class=\"dataframe\">\n",
       "  <thead>\n",
       "    <tr style=\"text-align: right;\">\n",
       "      <th></th>\n",
       "      <th>predicted_values</th>\n",
       "    </tr>\n",
       "  </thead>\n",
       "  <tbody>\n",
       "    <tr>\n",
       "      <th>0</th>\n",
       "      <td>6.515090</td>\n",
       "    </tr>\n",
       "    <tr>\n",
       "      <th>1</th>\n",
       "      <td>6.515090</td>\n",
       "    </tr>\n",
       "    <tr>\n",
       "      <th>2</th>\n",
       "      <td>38.167862</td>\n",
       "    </tr>\n",
       "    <tr>\n",
       "      <th>3</th>\n",
       "      <td>7.602119</td>\n",
       "    </tr>\n",
       "    <tr>\n",
       "      <th>4</th>\n",
       "      <td>13.685721</td>\n",
       "    </tr>\n",
       "    <tr>\n",
       "      <th>5</th>\n",
       "      <td>9.086472</td>\n",
       "    </tr>\n",
       "    <tr>\n",
       "      <th>6</th>\n",
       "      <td>9.086472</td>\n",
       "    </tr>\n",
       "    <tr>\n",
       "      <th>7</th>\n",
       "      <td>6.515090</td>\n",
       "    </tr>\n",
       "    <tr>\n",
       "      <th>8</th>\n",
       "      <td>7.602119</td>\n",
       "    </tr>\n",
       "    <tr>\n",
       "      <th>9</th>\n",
       "      <td>6.515090</td>\n",
       "    </tr>\n",
       "    <tr>\n",
       "      <th>10</th>\n",
       "      <td>10.813796</td>\n",
       "    </tr>\n",
       "    <tr>\n",
       "      <th>11</th>\n",
       "      <td>6.962557</td>\n",
       "    </tr>\n",
       "    <tr>\n",
       "      <th>12</th>\n",
       "      <td>7.602119</td>\n",
       "    </tr>\n",
       "    <tr>\n",
       "      <th>13</th>\n",
       "      <td>9.086472</td>\n",
       "    </tr>\n",
       "    <tr>\n",
       "      <th>14</th>\n",
       "      <td>7.602119</td>\n",
       "    </tr>\n",
       "    <tr>\n",
       "      <th>15</th>\n",
       "      <td>7.602119</td>\n",
       "    </tr>\n",
       "    <tr>\n",
       "      <th>16</th>\n",
       "      <td>27.497194</td>\n",
       "    </tr>\n",
       "    <tr>\n",
       "      <th>17</th>\n",
       "      <td>22.183336</td>\n",
       "    </tr>\n",
       "    <tr>\n",
       "      <th>18</th>\n",
       "      <td>6.962557</td>\n",
       "    </tr>\n",
       "    <tr>\n",
       "      <th>19</th>\n",
       "      <td>8.302290</td>\n",
       "    </tr>\n",
       "  </tbody>\n",
       "</table>\n",
       "</div>"
      ],
      "text/plain": [
       "    predicted_values\n",
       "0           6.515090\n",
       "1           6.515090\n",
       "2          38.167862\n",
       "3           7.602119\n",
       "4          13.685721\n",
       "5           9.086472\n",
       "6           9.086472\n",
       "7           6.515090\n",
       "8           7.602119\n",
       "9           6.515090\n",
       "10         10.813796\n",
       "11          6.962557\n",
       "12          7.602119\n",
       "13          9.086472\n",
       "14          7.602119\n",
       "15          7.602119\n",
       "16         27.497194\n",
       "17         22.183336\n",
       "18          6.962557\n",
       "19          8.302290"
      ]
     },
     "execution_count": 50,
     "metadata": {},
     "output_type": "execute_result"
    }
   ],
   "source": [
    "comparison_df"
   ]
  },
  {
   "cell_type": "code",
   "execution_count": 51,
   "id": "adf4f58c-f21c-4abf-b14c-2802cbd399b3",
   "metadata": {},
   "outputs": [],
   "source": [
    "# Extract the target column from df_with_target_column_values_dataframe\n",
    "column_to_add = df_with_target_column_values.iloc[:, 0]\n",
    "\n",
    "# Add the extracted column to df_target with the new header 'actual_values'\n",
    "comparison_df['actual_values'] = column_to_add"
   ]
  },
  {
   "cell_type": "code",
   "execution_count": 52,
   "id": "1efe7090-97ce-4772-996f-b86d5432c28c",
   "metadata": {},
   "outputs": [
    {
     "data": {
      "text/html": [
       "<div>\n",
       "<style scoped>\n",
       "    .dataframe tbody tr th:only-of-type {\n",
       "        vertical-align: middle;\n",
       "    }\n",
       "\n",
       "    .dataframe tbody tr th {\n",
       "        vertical-align: top;\n",
       "    }\n",
       "\n",
       "    .dataframe thead th {\n",
       "        text-align: right;\n",
       "    }\n",
       "</style>\n",
       "<table border=\"1\" class=\"dataframe\">\n",
       "  <thead>\n",
       "    <tr style=\"text-align: right;\">\n",
       "      <th></th>\n",
       "      <th>predicted_values</th>\n",
       "      <th>actual_values</th>\n",
       "    </tr>\n",
       "  </thead>\n",
       "  <tbody>\n",
       "    <tr>\n",
       "      <th>0</th>\n",
       "      <td>6.515090</td>\n",
       "      <td>10.5</td>\n",
       "    </tr>\n",
       "    <tr>\n",
       "      <th>1</th>\n",
       "      <td>6.515090</td>\n",
       "      <td>5.0</td>\n",
       "    </tr>\n",
       "    <tr>\n",
       "      <th>2</th>\n",
       "      <td>38.167862</td>\n",
       "      <td>52.0</td>\n",
       "    </tr>\n",
       "    <tr>\n",
       "      <th>3</th>\n",
       "      <td>7.602119</td>\n",
       "      <td>10.0</td>\n",
       "    </tr>\n",
       "    <tr>\n",
       "      <th>4</th>\n",
       "      <td>13.685721</td>\n",
       "      <td>14.0</td>\n",
       "    </tr>\n",
       "    <tr>\n",
       "      <th>5</th>\n",
       "      <td>9.086472</td>\n",
       "      <td>10.0</td>\n",
       "    </tr>\n",
       "    <tr>\n",
       "      <th>6</th>\n",
       "      <td>9.086472</td>\n",
       "      <td>10.5</td>\n",
       "    </tr>\n",
       "    <tr>\n",
       "      <th>7</th>\n",
       "      <td>6.515090</td>\n",
       "      <td>4.0</td>\n",
       "    </tr>\n",
       "    <tr>\n",
       "      <th>8</th>\n",
       "      <td>7.602119</td>\n",
       "      <td>7.5</td>\n",
       "    </tr>\n",
       "    <tr>\n",
       "      <th>9</th>\n",
       "      <td>6.515090</td>\n",
       "      <td>6.5</td>\n",
       "    </tr>\n",
       "    <tr>\n",
       "      <th>10</th>\n",
       "      <td>10.813796</td>\n",
       "      <td>13.0</td>\n",
       "    </tr>\n",
       "    <tr>\n",
       "      <th>11</th>\n",
       "      <td>6.962557</td>\n",
       "      <td>7.5</td>\n",
       "    </tr>\n",
       "    <tr>\n",
       "      <th>12</th>\n",
       "      <td>7.602119</td>\n",
       "      <td>8.0</td>\n",
       "    </tr>\n",
       "    <tr>\n",
       "      <th>13</th>\n",
       "      <td>9.086472</td>\n",
       "      <td>9.5</td>\n",
       "    </tr>\n",
       "    <tr>\n",
       "      <th>14</th>\n",
       "      <td>7.602119</td>\n",
       "      <td>9.0</td>\n",
       "    </tr>\n",
       "    <tr>\n",
       "      <th>15</th>\n",
       "      <td>7.602119</td>\n",
       "      <td>7.0</td>\n",
       "    </tr>\n",
       "    <tr>\n",
       "      <th>16</th>\n",
       "      <td>27.497194</td>\n",
       "      <td>33.0</td>\n",
       "    </tr>\n",
       "    <tr>\n",
       "      <th>17</th>\n",
       "      <td>22.183336</td>\n",
       "      <td>21.5</td>\n",
       "    </tr>\n",
       "    <tr>\n",
       "      <th>18</th>\n",
       "      <td>6.962557</td>\n",
       "      <td>7.0</td>\n",
       "    </tr>\n",
       "    <tr>\n",
       "      <th>19</th>\n",
       "      <td>8.302290</td>\n",
       "      <td>9.0</td>\n",
       "    </tr>\n",
       "  </tbody>\n",
       "</table>\n",
       "</div>"
      ],
      "text/plain": [
       "    predicted_values  actual_values\n",
       "0           6.515090           10.5\n",
       "1           6.515090            5.0\n",
       "2          38.167862           52.0\n",
       "3           7.602119           10.0\n",
       "4          13.685721           14.0\n",
       "5           9.086472           10.0\n",
       "6           9.086472           10.5\n",
       "7           6.515090            4.0\n",
       "8           7.602119            7.5\n",
       "9           6.515090            6.5\n",
       "10         10.813796           13.0\n",
       "11          6.962557            7.5\n",
       "12          7.602119            8.0\n",
       "13          9.086472            9.5\n",
       "14          7.602119            9.0\n",
       "15          7.602119            7.0\n",
       "16         27.497194           33.0\n",
       "17         22.183336           21.5\n",
       "18          6.962557            7.0\n",
       "19          8.302290            9.0"
      ]
     },
     "execution_count": 52,
     "metadata": {},
     "output_type": "execute_result"
    }
   ],
   "source": [
    "comparison_df"
   ]
  },
  {
   "cell_type": "code",
   "execution_count": 53,
   "id": "48f6f988-0de8-4c44-8c10-9845ef4d476d",
   "metadata": {},
   "outputs": [
    {
     "data": {
      "text/plain": [
       "predicted_values    float64\n",
       "actual_values       float64\n",
       "dtype: object"
      ]
     },
     "execution_count": 53,
     "metadata": {},
     "output_type": "execute_result"
    }
   ],
   "source": [
    "# Verify that the datatypes of both columns are floats\n",
    "comparison_df.dtypes"
   ]
  },
  {
   "cell_type": "code",
   "execution_count": 54,
   "id": "781fe125-4a2e-4527-8c45-fcd20558f4bb",
   "metadata": {},
   "outputs": [
    {
     "name": "stdout",
     "output_type": "stream",
     "text": [
      "RMSE: 3.6295376259632905\n"
     ]
    }
   ],
   "source": [
    "import numpy as np\n",
    "\n",
    "# Calculate the squared differences between the predicted and actual values\n",
    "comparison_df['squared_diff'] = (comparison_df['actual_values'] - comparison_df['predicted_values']) ** 2\n",
    "\n",
    "# Calculate the mean of the squared differences\n",
    "mean_squared_diff = comparison_df['squared_diff'].mean()\n",
    "\n",
    "# Take the square root of the mean to get the RMSE\n",
    "rmse = np.sqrt(mean_squared_diff)\n",
    "\n",
    "print(f\"RMSE: {rmse}\")\n"
   ]
  },
  {
   "cell_type": "code",
   "execution_count": 51,
   "id": "d90f9ba9-0a80-4f0c-8b47-94fb7bed01f6",
   "metadata": {},
   "outputs": [
    {
     "name": "stdout",
     "output_type": "stream",
     "text": [
      "Query execution ID: 9ecad177-c46b-4ec8-b387-20d099fb30de\n",
      "Query is currently in QUEUED state. Waiting for completion...\n",
      "Query executed successfully.\n"
     ]
    },
    {
     "data": {
      "text/plain": [
       "'9ecad177-c46b-4ec8-b387-20d099fb30de'"
      ]
     },
     "execution_count": 51,
     "metadata": {},
     "output_type": "execute_result"
    }
   ],
   "source": [
    "# Delete the database\n",
    "delete_database = \"\"\"\n",
    "DROP DATABASE mydatabase\n",
    "\"\"\"\n",
    "\n",
    "run_athena_query(delete_database, database, s3_output_location)"
   ]
  },
  {
   "cell_type": "code",
   "execution_count": null,
   "id": "9a6e651d-3e68-4c1b-8a28-3e15604b5ec1",
   "metadata": {},
   "outputs": [],
   "source": [
    "# Delete the S3 bucket\n",
    "!aws s3 rb s3://example-s3-bucket --force  "
   ]
  },
  {
   "cell_type": "code",
   "execution_count": null,
   "id": "6c883864-e707-46d2-a183-76e5f2090368",
   "metadata": {},
   "outputs": [],
   "source": [
    "# Delete the endpoint\n",
    "xgb_predictor.delete_endpoint()"
   ]
  }
 ],
 "metadata": {
  "kernelspec": {
   "display_name": "Python 3 (ipykernel)",
   "language": "python",
   "name": "python3"
  },
  "language_info": {
   "codemirror_mode": {
    "name": "ipython",
    "version": 3
   },
   "file_extension": ".py",
   "mimetype": "text/x-python",
   "name": "python",
   "nbconvert_exporter": "python",
   "pygments_lexer": "ipython3",
   "version": "3.10.14"
  }
 },
 "nbformat": 4,
 "nbformat_minor": 5
}
