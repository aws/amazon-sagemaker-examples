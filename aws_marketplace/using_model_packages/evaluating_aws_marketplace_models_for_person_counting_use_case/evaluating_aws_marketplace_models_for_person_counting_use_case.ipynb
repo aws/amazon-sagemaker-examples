{
 "cells": [
  {
   "cell_type": "markdown",
   "id": "optical-quarterly",
   "metadata": {},
   "source": [
    "# Evaluating ML models from AWS Marketplace for person counting use case"
   ]
  },
  {
   "cell_type": "markdown",
   "id": "cultural-advertiser",
   "metadata": {},
   "source": [
    "## Introduction\n",
    "\n",
    "It is important to understand the bias as well as the limitations of an ML model before using it in production. To understand the ML model behavior, you need to perform a deep evaluation activity, which includes analyzing different metrics and understanding the ML model performance under different edge conditions.\n",
    "\n",
    "**NOTE- Note that this notebook needs to be run from a ml.c5.xlarge instance with at least 50 GB of disk space.**\n",
    "\n",
    "This sample notebook shows how an ML model can be evaluated for a specific use-case. Here is a specific use-case and set of ML models that you would use as part of this notebook:\n",
    "* **Use-case** - Person counting use-case. \n",
    "* **Requirement** - An aerial camera needs to count people at a location to ensure that the location is not over-crowded. \n",
    "* **Goal** - Understand the performance of the ML model.\n",
    "* **ML Model(s) to be evaluated**:\n",
    " - [GluonCV YOLOv3 Object Detector](https://aws.amazon.com/marketplace/pp/prodview-5jlvp43tsn3ny?ref_=mlmp_content_yj_tw)\n",
    " - [GluonCV SSD Object Detector](https://aws.amazon.com/marketplace/pp/Amazon-Web-Services-GluonCV-SSD-Object-Detector/prodview-ggbuxlnrm2lh4?ref_=mlmp_content_yj_tw)\n",
    "\n",
    "*Disclaimer: * GluonCV models are open-source and can be used outside of AWS Marketplace.\n",
    "\n",
    "**Why person counting use-case?**\n",
    " In the field of computer vision, person counting use case is becoming prevalent. Real world use cases include: security camera footage analysis in high security locations such as airports, warehouse and construction, aerial footage for a big mass event, or for monitoring systems which generate alarms whenever a location has more than allotted capacity."
   ]
  },
  {
   "cell_type": "markdown",
   "id": "corrected-singles",
   "metadata": {},
   "source": [
    "**Table of Contents:**\n",
    "1. [Pre-requisites](#pre-requisites)\n",
    "    1. [Subscribe to the models](#subscribe)\n",
    "3. [Download and Analyze dataset](#dataset)\n",
    "    1. [Analyzing annotations](#eda)\n",
    "5. [Deploy SageMaker endpoints](#endpoints)\n",
    "6. [Perform inferences](#inferences)\n",
    "7. [ML Model evaluation](#analysis)\n",
    "    1. [Generic data evaluation](#bulk)\n",
    "    2. [Few people in the frame evaluation](#fewpeople)\n",
    "    3. [Medium crowd evaluation](#crowd)\n",
    "    4. [Edge cases](#edgecases)\n",
    "       1. [Large crowd](#largecrowd)\n",
    "       2. [People wearing costumes](#costumes)\n",
    "       3. [People with pets](#pets)\n",
    "       4. [People wearing masks](#masks)\n",
    "       5. [People far away from camera](#faraway)\n",
    "       6. [People facing away from camera](#facingaway)\n",
    "8. [ML model evaluation summary](#summary)\n",
    "9. [Cleanup](#cleanup)"
   ]
  },
  {
   "cell_type": "markdown",
   "id": "outstanding-davis",
   "metadata": {},
   "source": [
    "### Pre-requisites <a class=\"anchor\" id=\"pre-requisites\"></a>"
   ]
  },
  {
   "cell_type": "code",
   "execution_count": null,
   "id": "direct-aspect",
   "metadata": {},
   "outputs": [],
   "source": [
    "%matplotlib inline\n",
    "\n",
    "import json\n",
    "import sagemaker\n",
    "from src.model_package_arns import ModelPackageArnProvider\n",
    "from sagemaker import get_execution_role\n",
    "from sagemaker import ModelPackage\n",
    "import boto3\n",
    "import matplotlib.pyplot as plt\n",
    "from matplotlib import patches\n",
    "from PIL import Image\n",
    "import numpy as np\n",
    "from io import BytesIO\n",
    "import pandas as pd\n",
    "from urllib.parse import urlparse\n",
    "\n",
    "# The session remembers our connection parameters to Amazon SageMaker. We'll use it to perform all of our Amazon SageMaker operations.\n",
    "role = get_execution_role()\n",
    "sagemaker_session = sagemaker.Session()\n",
    "runtime = sagemaker_session.boto_session.client(\"sagemaker-runtime\")\n",
    "s3_client = sagemaker_session.boto_session.client(\"s3\")"
   ]
  },
  {
   "cell_type": "markdown",
   "id": "mediterranean-klein",
   "metadata": {},
   "source": [
    "#### Subscribe to the models <a class=\"anchor\" id=\"subscribe\"></a>\n",
    "\n",
    "Before you can deploy the model, your account needs to be subscribed to it. This section covers instructions for populating necessary parameters and for subscribing to the model package, if the subscription does not already exist."
   ]
  },
  {
   "cell_type": "markdown",
   "id": "possible-translator",
   "metadata": {},
   "source": [
    "1. Open the Model Package listing page for the two model packages we will be using:\n",
    " - [GluonCV YOLOv3 Object Detector](https://aws.amazon.com/marketplace/pp/prodview-5jlvp43tsn3ny?ref_=mlmp_content_yj_tw)\n",
    " - [GluonCV SSD Object Detector](https://aws.amazon.com/marketplace/pp/Amazon-Web-Services-GluonCV-SSD-Object-Detector/prodview-ggbuxlnrm2lh4?ref_=mlmp_content_yj_tw)\n",
    "2. Read the **Product Overview** section and **Highlights** section of the listing to understand the value proposition of the model package.\n",
    "3. View **Usage Information** and then **Additional Resources** sections. These sections will contain following things:\n",
    "    1. Input content-type\n",
    "    2. Sample input file (optional)\n",
    "    3. Sample Jupyter notebook\n",
    "    4. Output format\n",
    "    5. Any additional information.\n",
    "4. Click **Continue to Subscribe** to read the End User License Agreement (EULA) and click **Accept offer** if you agree.\n",
    "\n",
    "5. Click **Continue to configuration**. Once you choose a region, you will see a **Product Arn** displayed. This is the model package ARN that you need to specify while creating a deployable model using Boto3. However, for this notebook, the model ARNs have been specified in **src/model_package_arns.py** file, and you need not specify them explicitly. The configuration page also provides a **\"View in Amazon SageMaker\"** button to navigate to Amazon SageMaker to deploy via Amazon SageMaker Console. "
   ]
  },
  {
   "cell_type": "code",
   "execution_count": null,
   "id": "intimate-convert",
   "metadata": {},
   "outputs": [],
   "source": [
    "# Both models support the same instance type and content type recommended, so we can set single variables for both:\n",
    "instance_type = \"ml.m4.xlarge\"\n",
    "content_type = \"image/jpeg\"\n",
    "\n",
    "# Type in the region selected during the model configurations\n",
    "region = \"us-west-2\"\n",
    "\n",
    "# For some inferences we will be using Batch Transform, which requires you to assign an S3 bucket for input storage.\n",
    "# Create a bucket first, and then provide the name below.\n",
    "bucket = \"mlmp-person-counting-bucket-349872034\""
   ]
  },
  {
   "cell_type": "markdown",
   "id": "prostate-drinking",
   "metadata": {},
   "source": [
    "Congratulations! You have identified the necessary information to create an endpoint for performing real-time inference. "
   ]
  },
  {
   "cell_type": "markdown",
   "id": "welsh-advancement",
   "metadata": {},
   "source": [
    "### Download and Analyze dataset <a class=\"anchor\" id=\"dataset\"></a>\n",
    "\n",
    "In this notebook, we will use COCO public dataset to measure the performance. \n",
    "\n",
    "##### About COCO Labeled Dataset\n",
    "\n",
    "COCO is a large image dataset designed for object detection, segmentation, person key points detection, stuff segmentation, and caption generation. This package provides Matlab, Python, and Lua APIs that assists in loading, parsing, and visualizing the annotations in COCO. Please visit http://cocodataset.org/ for more information on COCO, including for the data, paper, and tutorials. The exact format of the annotations is also described on the COCO website.\n",
    "\n",
    "We will use the 2017 Train images. The following cells will download, unzip, and place the *images* in `coco/images/` location and *annotations* in `coco/annotations/` location.\n",
    "\n",
    "**Note - The following cell downloads several gigabytes of data and can take up to 20 minutes to complete.**"
   ]
  },
  {
   "cell_type": "code",
   "execution_count": null,
   "id": "agreed-courage",
   "metadata": {
    "scrolled": true
   },
   "outputs": [],
   "source": [
    "%%bash\n",
    "wget -q -c http://images.cocodataset.org/zips/train2017.zip -P coco/images/\n",
    "wget -q http://images.cocodataset.org/annotations/annotations_trainval2017.zip -P coco/annotations/\n",
    "wget -q http://images.cocodataset.org/annotations/stuff_annotations_trainval2017.zip -P coco/annotations/\n",
    "\n",
    "unzip -q coco/images/train2017.zip\n",
    "unzip -q coco/annotations/annotations_trainval2017.zip\n",
    "unzip -q coco/annotations/stuff_annotations_trainval2017.zip\n",
    "\n",
    "rm coco/images/train2017.zip\n",
    "mv train2017 coco/images/"
   ]
  },
  {
   "cell_type": "markdown",
   "id": "inappropriate-istanbul",
   "metadata": {},
   "source": [
    "#### Analyze data and annotations <a class=\"anchor\" id=\"eda\"></a>\n",
    "\n",
    "Now that you have downloaded the dataset containing people, you can now load the annotations corresponding to images."
   ]
  },
  {
   "cell_type": "code",
   "execution_count": null,
   "id": "satisfied-amazon",
   "metadata": {},
   "outputs": [],
   "source": [
    "# Load metadata json into metadata variable.\n",
    "with open(\"./coco/annotations/instances_train2017.json\", \"r\") as f:\n",
    "    metadata = json.load(f)\n",
    "\n",
    "# Annotations contain specific rectangular segmentation within an image that's been labeled with one of the categories\n",
    "annotations = metadata[\"annotations\"]\n",
    "\n",
    "# images contain metadata about an image (url, size, file name, etc.)\n",
    "images = metadata[\"images\"]\n",
    "\n",
    "dataset_and_label = {}\n",
    "\n",
    "# Aggregate the count of people found in a picture\n",
    "for annotation in annotations:\n",
    "    image_id = annotation[\"image_id\"]\n",
    "    if image_id not in dataset_and_label:\n",
    "        dataset_and_label[image_id] = 0\n",
    "    # catagory_id=1 refers to presence of a unique person in the picture.\n",
    "    if annotation[\"category_id\"] == 1:\n",
    "        dataset_and_label[image_id] += 1\n",
    "\n",
    "# image_ids contains list of images\n",
    "image_ids = list(dataset_and_label.keys())\n",
    "# counts contains the information about number of people found in an image.\n",
    "counts = list(dataset_and_label.values())\n",
    "\n",
    "image_directory = \"./coco/images/train2017/\"\n",
    "\n",
    "df = pd.DataFrame(list(zip(image_ids, counts)), columns=[\"image_id\", \"people_count\"])\n",
    "df[\"file_paths\"] = image_directory + df[\"image_id\"].astype(\"str\").str.zfill(12) + \".jpg\""
   ]
  },
  {
   "cell_type": "code",
   "execution_count": null,
   "id": "unsigned-senegal",
   "metadata": {},
   "outputs": [],
   "source": [
    "# Lets see some sample rows from the dataframe\n",
    "df.head(5)"
   ]
  },
  {
   "cell_type": "code",
   "execution_count": null,
   "id": "pharmaceutical-nudist",
   "metadata": {
    "scrolled": true
   },
   "outputs": [],
   "source": [
    "# following function displays the image based on the id\n",
    "def show_image(image_id):\n",
    "    file_name = df[df[\"image_id\"] == image_id][\"file_paths\"].values[0]\n",
    "    with Image.open(file_name) as im:\n",
    "        plt.imshow(np.asarray(im))\n",
    "        plt.axis(\"off\")\n",
    "\n",
    "\n",
    "show_image(495357)"
   ]
  },
  {
   "cell_type": "code",
   "execution_count": null,
   "id": "actual-deposit",
   "metadata": {},
   "outputs": [],
   "source": [
    "# You can see that the picture has 14 people. The annotations shows us the same.\n",
    "print(\"The image id \" + str(image_ids[2]) + \" has \" + str(counts[2]) + \" people.\")"
   ]
  },
  {
   "cell_type": "markdown",
   "id": "insured-homework",
   "metadata": {},
   "source": [
    "Next, you can see general statistics about the dataframe, including the distribution of number of people in all the images. This insight will be helpful when comparing the two models later. As you can see from the histogram below, there aren't many images with a lot of people (with max being 15)."
   ]
  },
  {
   "cell_type": "code",
   "execution_count": null,
   "id": "confidential-confidence",
   "metadata": {},
   "outputs": [],
   "source": [
    "def plot_count_summary(df):\n",
    "    print(\"The most number of people in an image is: \", df[\"people_count\"].max())\n",
    "    print(\n",
    "        \"There are on average \" + str(round(df[\"people_count\"].mean(), 2)) + \" people in an image.\"\n",
    "    )\n",
    "\n",
    "    df.hist(column=\"people_count\", bins=list(range(0, df[\"people_count\"].max())))\n",
    "\n",
    "\n",
    "plot_count_summary(df)"
   ]
  },
  {
   "cell_type": "markdown",
   "id": "brutal-approach",
   "metadata": {},
   "source": [
    "### Deploy SageMaker endpoints <a class=\"anchor\" id=\"endpoints\"></a>\n",
    "\n",
    "Having already subscribed to the endpoints in previous steps, we can proceed to deploying both the models for real-time inference and batch transform. \n",
    "\n",
    "**Notes:** \n",
    "\n",
    "1. The endpoint deployment will take about *15 minutes* to finish.\n",
    "2. We are making use of 4 instances per endpoint. Due to the size of the samples, using 1 instance will take batch transform over **70 minutes** to finish, whereas 4 instances will take no more than **35 minutes**. "
   ]
  },
  {
   "cell_type": "code",
   "execution_count": null,
   "id": "frank-watson",
   "metadata": {},
   "outputs": [],
   "source": [
    "instance_count = 4\n",
    "yolo_name = \"yolov3-endpoint\"\n",
    "gluoncvssd_name = \"gluoncvssd-endpoint\"\n",
    "\n",
    "gluoncvssd_model_package_arn = ModelPackageArnProvider.get_ssd_model_package_arn(region)\n",
    "yolov3_model_package_arn = ModelPackageArnProvider.get_yolov3_model_package_arn(region)"
   ]
  },
  {
   "cell_type": "code",
   "execution_count": null,
   "id": "moderate-burst",
   "metadata": {},
   "outputs": [],
   "source": [
    "%%time\n",
    "def deploy_model(num_instances, model_arn, instance_type, model_name):\n",
    "    model = ModelPackage(\n",
    "        role=role, model_package_arn=model_arn, sagemaker_session=sagemaker_session\n",
    "    )\n",
    "    model.deploy(num_instances, instance_type, endpoint_name=model_name)\n",
    "    transformer = model.transformer(num_instances, instance_type, max_concurrent_transforms=2)\n",
    "\n",
    "    return model, transformer\n",
    "\n",
    "\n",
    "# Deploy Gluon SSD object detector ML model\n",
    "ssd_model, ssd_batch = deploy_model(\n",
    "    instance_count, gluoncvssd_model_package_arn, instance_type, gluoncvssd_name\n",
    ")\n",
    "\n",
    "# Deploy Gluon YoloV3 object detector ML model\n",
    "yolov3_model, yolov3_batch = deploy_model(\n",
    "    instance_count, yolov3_model_package_arn, instance_type, yolo_name\n",
    ")"
   ]
  },
  {
   "cell_type": "markdown",
   "id": "included-absolute",
   "metadata": {},
   "source": [
    "### Perform inferences <a class=\"anchor\" id=\"inferences\"></a>\n",
    "\n",
    "Since there are more than 100k images in the COCO dataset, we will sample 5000 of them for endpoint inference analysis."
   ]
  },
  {
   "cell_type": "code",
   "execution_count": null,
   "id": "verified-speed",
   "metadata": {},
   "outputs": [],
   "source": [
    "df_sample = df.sample(n=5000)\n",
    "df_sample[\"file_name_id\"] = df_sample[\"image_id\"].astype(\"str\").str.zfill(12)"
   ]
  },
  {
   "cell_type": "markdown",
   "id": "metallic-clock",
   "metadata": {},
   "source": [
    "In a 5000 sample from the dataset, we would expect the mean and the distribution to be similar, assuming sampling was done randomly."
   ]
  },
  {
   "cell_type": "code",
   "execution_count": null,
   "id": "classical-bobby",
   "metadata": {},
   "outputs": [],
   "source": [
    "plot_count_summary(df_sample)"
   ]
  },
  {
   "cell_type": "code",
   "execution_count": null,
   "id": "hungarian-brooklyn",
   "metadata": {},
   "outputs": [],
   "source": [
    "# This function loops through the array and counts number of person occurrences\n",
    "# and collects rectangular coordinates needed for drawing bounding boxes\n",
    "def count_people(data, bounding_box=\"no\"):\n",
    "    counter = 0\n",
    "    coordinates = []\n",
    "    for item in data:\n",
    "        if item[\"id\"] == \"person\" and item[\"score\"] >= 0.2:\n",
    "            counter += 1\n",
    "            if bounding_box == \"yes\":\n",
    "                coordinates.append(\n",
    "                    [\n",
    "                        item[\"left\"],\n",
    "                        item[\"top\"],\n",
    "                        item[\"right\"] - item[\"left\"],\n",
    "                        item[\"bottom\"] - item[\"top\"],\n",
    "                    ]\n",
    "                )\n",
    "    return counter, coordinates\n",
    "\n",
    "\n",
    "# This function performs real time inference on payload and returns people count\n",
    "def invoke_DL_endpoint_and_count_people(image_path, runtime, endpoint_name, bounding_box=\"no\"):\n",
    "    img = open(image_path, \"rb\").read()\n",
    "\n",
    "    response = runtime.invoke_endpoint(\n",
    "        EndpointName=endpoint_name,\n",
    "        Body=bytearray(img),\n",
    "        ContentType=content_type,\n",
    "        CustomAttributes='{\"threshold\": 0.2}',\n",
    "        Accept=\"json\",\n",
    "    )\n",
    "    result = json.loads(response[\"Body\"].read().decode(\"utf-8\"))\n",
    "\n",
    "    return count_people(result, bounding_box)\n",
    "\n",
    "\n",
    "# This function performs batch transform on payload and returns the output path\n",
    "def batch_transform(data, transformer, content_type):\n",
    "    transformer.transform(data=data, data_type=\"S3Prefix\", content_type=content_type)\n",
    "    transformer.wait()\n",
    "\n",
    "    output = transformer.output_path\n",
    "\n",
    "    return output\n",
    "\n",
    "\n",
    "# This function returns people count on batch transform output\n",
    "def batch_count_people(file_name_id, output_path, s3_client):\n",
    "    parsed_url = urlparse(output_path)\n",
    "    bucket_name = parsed_url.netloc\n",
    "\n",
    "    file_key = \"{}/{}.out\".format(parsed_url.path[1:], file_name_id + \".jpg\")\n",
    "\n",
    "    response = s3_client.get_object(Bucket=sagemaker_session.default_bucket(), Key=file_key)\n",
    "    response_bytes = json.loads(response[\"Body\"].read().decode(\"utf-8\"))\n",
    "\n",
    "    return count_people(response_bytes)"
   ]
  },
  {
   "cell_type": "code",
   "execution_count": null,
   "id": "computational-seller",
   "metadata": {},
   "outputs": [],
   "source": [
    "df_sample.head(5)"
   ]
  },
  {
   "cell_type": "markdown",
   "id": "affiliated-emission",
   "metadata": {},
   "source": [
    "To make inferences from the sample dataset, we will use batch transform. Here are the steps:\n",
    "\n",
    "1. Upload the data to S3. (This will take about **10 minutes** to finish)\n",
    "2. Use the transformer and call the transform function.\n",
    "3. Output is sent to another S3 location in batch, whose path we will retrieve.\n",
    "4. Using the path, we can determine how many people appear in each image and add the result to our dataframe."
   ]
  },
  {
   "cell_type": "code",
   "execution_count": null,
   "id": "brave-dealer",
   "metadata": {},
   "outputs": [],
   "source": [
    "%%time\n",
    "# This uploads all the images to an S3 bucket you have previously created.\n",
    "sample_image_list = df_sample.file_paths.tolist()\n",
    "input_list = []\n",
    "for item in sample_image_list:\n",
    "    input_list.append(sagemaker_session.upload_data(item, bucket=bucket))"
   ]
  },
  {
   "cell_type": "code",
   "execution_count": null,
   "id": "clean-fifty",
   "metadata": {},
   "outputs": [],
   "source": [
    "%%time\n",
    "ssd_output_path = batch_transform(\"s3://{}/data\".format(bucket), ssd_batch, content_type)"
   ]
  },
  {
   "cell_type": "code",
   "execution_count": null,
   "id": "adverse-coupon",
   "metadata": {},
   "outputs": [],
   "source": [
    "df_sample[\"ssd\"] = df_sample[\"file_name_id\"].apply(\n",
    "    batch_count_people, output_path=ssd_output_path, s3_client=s3_client\n",
    ")"
   ]
  },
  {
   "cell_type": "code",
   "execution_count": null,
   "id": "complimentary-simple",
   "metadata": {},
   "outputs": [],
   "source": [
    "%%time\n",
    "yolov3_output_path = batch_transform(\"s3://{}/data\".format(bucket), yolov3_batch, content_type)"
   ]
  },
  {
   "cell_type": "code",
   "execution_count": null,
   "id": "phantom-resistance",
   "metadata": {},
   "outputs": [],
   "source": [
    "df_sample[\"yolov3\"] = df_sample[\"file_name_id\"].apply(\n",
    "    batch_count_people, output_path=yolov3_output_path, s3_client=s3_client\n",
    ")"
   ]
  },
  {
   "cell_type": "markdown",
   "id": "dirty-victory",
   "metadata": {},
   "source": [
    "Note the difference in batch transform job duration between *GluonCV SSD (20 minutes)* and *YoloV3 (35 minutes)*.\n",
    "\n",
    "We see that the columns have been added on our 5000-sample dataframe to show the number of people counted using both endpoints."
   ]
  },
  {
   "cell_type": "code",
   "execution_count": null,
   "id": "subtle-builder",
   "metadata": {},
   "outputs": [],
   "source": [
    "df_sample.head(5)"
   ]
  },
  {
   "cell_type": "markdown",
   "id": "affecting-cheat",
   "metadata": {},
   "source": [
    "### ML Model evaluation <a class=\"anchor\" id=\"analysis\"></a>"
   ]
  },
  {
   "cell_type": "markdown",
   "id": "forced-bonus",
   "metadata": {},
   "source": [
    "#### Generic data evaluation <a class=\"anchor\" id=\"bulk\"></a>\n",
    "\n",
    "Using the sample dataset from COCO, we can look at how many images each endpoint had incorrectly predicted the number of people, and also calculate the accuracy:"
   ]
  },
  {
   "cell_type": "code",
   "execution_count": null,
   "id": "thirty-compression",
   "metadata": {},
   "outputs": [],
   "source": [
    "df_ssd_bad = df_sample[df_sample[\"people_count\"] != df_sample[\"ssd\"]]\n",
    "df_yolov3_bad = df_sample[df_sample[\"people_count\"] != df_sample[\"yolov3\"]]\n",
    "\n",
    "print(\"Number of incorrectly predicted images using GluonCV SSD: \", df_ssd_bad.shape[0])\n",
    "print(\"Number of incorrectly predicted images using GluonCV YoloV3: \", df_yolov3_bad.shape[0])\n",
    "print(\n",
    "    \"People counting accuracy of YoloV3 endpoint: \",\n",
    "    1 - (df_yolov3_bad.shape[0] / df_sample.shape[0]),\n",
    ")\n",
    "print(\n",
    "    \"People counting accuracy of GluonCV SSD endpoint: \",\n",
    "    1 - (df_ssd_bad.shape[0] / df_sample.shape[0]),\n",
    ")"
   ]
  },
  {
   "cell_type": "markdown",
   "id": "bigger-heather",
   "metadata": {},
   "source": [
    "Another metric we can look at is Mean Absolute Error (MAE)."
   ]
  },
  {
   "cell_type": "code",
   "execution_count": null,
   "id": "applied-extra",
   "metadata": {},
   "outputs": [],
   "source": [
    "def get_MAE(df_in, true_col, pred_col):\n",
    "    total_err = 0\n",
    "    for index, row in df_in.iterrows():\n",
    "        total_err += abs(row[pred_col] - row[true_col])\n",
    "\n",
    "    return total_err / len(df_in.index)"
   ]
  },
  {
   "cell_type": "code",
   "execution_count": null,
   "id": "everyday-domain",
   "metadata": {},
   "outputs": [],
   "source": [
    "print(\"Mean Absolute Error for the GluonCV SSD: \", get_MAE(df_sample, \"people_count\", \"ssd\"))\n",
    "print(\"Mean Absolute Error for the GluonCV YoloV3: \", get_MAE(df_sample, \"people_count\", \"yolov3\"))"
   ]
  },
  {
   "cell_type": "markdown",
   "id": "promising-offering",
   "metadata": {},
   "source": [
    "#### Few people in the frame evaluation: <a class=\"anchor\" id=\"fewpeople\"></a>\n",
    "\n",
    "How do the models perform on crowds of 2 to 5 people? "
   ]
  },
  {
   "cell_type": "code",
   "execution_count": null,
   "id": "allied-pontiac",
   "metadata": {},
   "outputs": [],
   "source": [
    "df_2_5 = df_sample[(df_sample[\"people_count\"] >= 2) & (df_sample[\"people_count\"] <= 5)]\n",
    "df_ssd_bad_2_5 = df_2_5[df_2_5[\"people_count\"] != df_2_5[\"ssd\"]]\n",
    "df_yolov3_bad_2_5 = df_2_5[df_2_5[\"people_count\"] != df_2_5[\"yolov3\"]]\n",
    "\n",
    "print(\"Number of incorrectly predicted images using GluonCV SSD: \", df_ssd_bad_2_5.shape[0])\n",
    "print(\"Number of incorrectly predicted images using GluonCV YoloV3: \", df_yolov3_bad_2_5.shape[0])\n",
    "print(\n",
    "    \"People counting accuracy of YoloV3 endpoint: \",\n",
    "    1 - (df_yolov3_bad_2_5.shape[0] / df_2_5.shape[0]),\n",
    ")\n",
    "print(\n",
    "    \"People counting accuracy of GluonCV SSD endpoint: \",\n",
    "    1 - (df_ssd_bad_2_5.shape[0] / df_2_5.shape[0]),\n",
    ")"
   ]
  },
  {
   "cell_type": "markdown",
   "id": "talented-oxygen",
   "metadata": {},
   "source": [
    "Let's calculate MAE for 2-5 people range."
   ]
  },
  {
   "cell_type": "code",
   "execution_count": null,
   "id": "american-april",
   "metadata": {},
   "outputs": [],
   "source": [
    "print(\"Mean Absolute Error for the GluonCV SSD: \", get_MAE(df_2_5, \"people_count\", \"ssd\"))\n",
    "print(\"Mean Absolute Error for the GluonCV YoloV3: \", get_MAE(df_2_5, \"people_count\", \"yolov3\"))"
   ]
  },
  {
   "cell_type": "markdown",
   "id": "opening-faith",
   "metadata": {},
   "source": [
    "#### Medium crowd evaluation: <a class=\"anchor\" id=\"crowd\"></a>\n",
    "\n",
    "How do the models perform on crowds of 10 to 14 people? (The COCO dataset has a max of about 14 people in a photo, with a few that have 15)"
   ]
  },
  {
   "cell_type": "code",
   "execution_count": null,
   "id": "alternative-presence",
   "metadata": {},
   "outputs": [],
   "source": [
    "df_med = df_sample[df_sample[\"people_count\"] >= 10]"
   ]
  },
  {
   "cell_type": "code",
   "execution_count": null,
   "id": "spare-practitioner",
   "metadata": {},
   "outputs": [],
   "source": [
    "df_ssd_bad_med = df_med[df_med[\"people_count\"] != df_med[\"ssd\"]]\n",
    "df_yolov3_bad_med = df_med[df_med[\"people_count\"] != df_med[\"yolov3\"]]\n",
    "\n",
    "print(\"Number of incorrectly predicted images using GluonCV SSD: \", df_ssd_bad_med.shape[0])\n",
    "print(\"Number of incorrectly predicted images using GluonCV YoloV3: \", df_yolov3_bad_med.shape[0])\n",
    "print(\n",
    "    \"People counting accuracy of YoloV3 endpoint: \",\n",
    "    1 - (df_yolov3_bad_med.shape[0] / df_med.shape[0]),\n",
    ")\n",
    "print(\n",
    "    \"People counting accuracy of GluonCV SSD endpoint: \",\n",
    "    1 - (df_ssd_bad_med.shape[0] / df_med.shape[0]),\n",
    ")"
   ]
  },
  {
   "cell_type": "code",
   "execution_count": null,
   "id": "announced-suspect",
   "metadata": {},
   "outputs": [],
   "source": [
    "print(\"Mean Absolute Error for the GluonCV SSD in crowds: \", get_MAE(df_med, \"people_count\", \"ssd\"))\n",
    "print(\n",
    "    \"Mean Absolute Error for the GluonCV YoloV3 in crowds: \",\n",
    "    get_MAE(df_med, \"people_count\", \"yolov3\"),\n",
    ")"
   ]
  },
  {
   "cell_type": "markdown",
   "id": "pursuant-decline",
   "metadata": {},
   "source": [
    "**CONCLUSION** : We can see from the bulk model evaluation that the **YoloV3 performs significantly better than SSD in images with less amount of people (< 20)**, as see with higher accuracy and lower mean absolute error. Let's see what happens when we look at some images with a larger crowd (over 30). \n",
    "\n",
    "Since the COCO dataset does not contain any images with a crowd of more than 20, we will have to use other image resources to dive into the edge case."
   ]
  },
  {
   "cell_type": "markdown",
   "id": "tracked-system",
   "metadata": {},
   "source": [
    "#### Edge Cases <a class=\"anchor\" id=\"edgecases\"></a>\n",
    "\n",
    "The following are individual images from Pexels ([pexels.com](pexels.com)) that are used to look at special edge cases. These edge cases can give us a more specific analysis around how the models perform (rather than using a metric like MAE or accuracy). Here are some of the examples of these special edge cases:\n",
    "\n",
    "1. Large crowd \n",
    "2. People in special costumes\n",
    "3. People with pets\n",
    "4. People wearing masks\n",
    "5. Harder to identify photos (people's back showing, smaller representations, etc.)"
   ]
  },
  {
   "cell_type": "markdown",
   "id": "figured-design",
   "metadata": {},
   "source": [
    "If you wish to view a larger version of the image, the image links will be provided for each use case. \n",
    "\n",
    "As a side-by-side comparison, the following functions will be used to display images that show:\n",
    "- The original image\n",
    "- Image with bounding boxes from GluonCV SSD inferences **(in red)**\n",
    "- Image with bounding boxes from YoloV3 inferences **(in blue)**"
   ]
  },
  {
   "cell_type": "code",
   "execution_count": null,
   "id": "declared-export",
   "metadata": {},
   "outputs": [],
   "source": [
    "# This function helps us display bounding boxes of each recognized person from the inferences\n",
    "def draw_bounding_boxes(image, title=\"None\", coordinates=[], box_color=\"bl\"):\n",
    "    plt.imshow(image)\n",
    "    if title != \"None\":\n",
    "        for item in coordinates:\n",
    "            plt.gca().add_patch(\n",
    "                patches.Rectangle(\n",
    "                    (item[0], item[1]),\n",
    "                    item[2],\n",
    "                    item[3],\n",
    "                    linewidth=1,\n",
    "                    edgecolor=box_color,\n",
    "                    facecolor=\"none\",\n",
    "                )\n",
    "            )\n",
    "    plt.title(title, fontsize=6)\n",
    "    plt.axis(\"off\")\n",
    "\n",
    "\n",
    "# This function will invoke real time inference of both endpoints and display the following:\n",
    "# regular image, image w/ GluonCV SSD bounding boxes, and image w/ YoloV3 bounding boxes\n",
    "# last two are displayed only if bounding_box='yes'\n",
    "def compare_models_against_ground_truth(image_path, bounding_box=\"no\"):\n",
    "    image = Image.open(image_path)\n",
    "\n",
    "    gluon_count, gluon_coordinates = invoke_DL_endpoint_and_count_people(\n",
    "        image_path, runtime, gluoncvssd_name, bounding_box\n",
    "    )\n",
    "    yolo_count, yolo_coordinates = invoke_DL_endpoint_and_count_people(\n",
    "        image_path, runtime, yolo_name, bounding_box\n",
    "    )\n",
    "\n",
    "    fig = plt.figure(figsize=(8, 6), dpi=300)\n",
    "    fig.add_subplot(1, 3, 1)\n",
    "    draw_bounding_boxes(image)\n",
    "\n",
    "    if bounding_box == \"yes\":\n",
    "        # Display bounding boxes for GluonCV SSD\n",
    "        fig.add_subplot(1, 3, 2)\n",
    "        draw_bounding_boxes(image, \"GluonCV SSD Bounding Boxes\", gluon_coordinates, \"r\")\n",
    "\n",
    "        # Display bounding boxes for YoloV3\n",
    "        fig.add_subplot(1, 3, 3)\n",
    "        draw_bounding_boxes(image, \"YoloV3 Bounding Boxes\", yolo_coordinates, \"b\")\n",
    "\n",
    "    print(\"Count from GluonCV SSD: \" + str(gluon_count) + \" people\")\n",
    "    print(\"Count from GluonCV YOLOv3: \" + str(yolo_count) + \" people\")"
   ]
  },
  {
   "cell_type": "markdown",
   "id": "apparent-precipitation",
   "metadata": {},
   "source": [
    "**a. Large crowd** <a class=\"anchor\" id=\"largecrowd\"></a>"
   ]
  },
  {
   "cell_type": "markdown",
   "id": "artistic-duration",
   "metadata": {},
   "source": [
    "In this section, you will evaluate how the ml model performs when there are a large number of people in the picture. As you can see, the following picture is an outdoor picture taken during the day.\n",
    "\n",
    "*Image 1*: https://www.flickr.com/photos/ajay_g/9134506074/\n",
    "\n",
    "We chose this image to see how the endpoints perform using an image where most of the crowd is far from the camera."
   ]
  },
  {
   "cell_type": "code",
   "execution_count": null,
   "id": "delayed-characteristic",
   "metadata": {},
   "outputs": [],
   "source": [
    "compare_models_against_ground_truth(\"img/Crowd_01.jpg\", \"yes\")"
   ]
  },
  {
   "cell_type": "markdown",
   "id": "sweet-duplicate",
   "metadata": {},
   "source": [
    "Manual count: 42 people\n",
    "\n",
    "**OBSERVATION**: As we can see, GluonCV SSD performed better by the numbers; however, as indicated by the bounding boxes, GluonCV SSD tends to overcount by including duplicates (i.e. there is a bounding box for upper body of the bride *AND* the full body of the bride). "
   ]
  },
  {
   "cell_type": "markdown",
   "id": "median-chicken",
   "metadata": {},
   "source": [
    "*Image 2*: https://www.flickr.com/photos/weltbild-schweiz/5201818898/\n",
    "\n",
    "We chose this image to see how the endpoints perform using an image that is not well lit and at an angle. "
   ]
  },
  {
   "cell_type": "code",
   "execution_count": null,
   "id": "public-veteran",
   "metadata": {},
   "outputs": [],
   "source": [
    "compare_models_against_ground_truth(\"img/Crowd_02.jpg\", \"yes\")"
   ]
  },
  {
   "cell_type": "markdown",
   "id": "modular-salvation",
   "metadata": {},
   "source": [
    "Manual Count: 175\n",
    "\n",
    "**OBSERVATION**: Similar to Image 1, GluonCV SSD did a much better job recognizing despite the darker images; however, it also recognized several with larger bounding boxes that included a group of people rather than individuals. Overall, both failed to recognize many individuals in the middle of the crowd where the lighting was at the dimmest."
   ]
  },
  {
   "cell_type": "markdown",
   "id": "finite-porcelain",
   "metadata": {},
   "source": [
    "*Image 3*: https://www.pexels.com/photo/people-inside-terminal-983959/\n",
    "\n",
    "We chose this image to see how the endpoints perform using an image that is frontal view rather than at an angle."
   ]
  },
  {
   "cell_type": "code",
   "execution_count": null,
   "id": "random-enlargement",
   "metadata": {},
   "outputs": [],
   "source": [
    "compare_models_against_ground_truth(\"img/Crowd_03.jpg\", \"yes\")"
   ]
  },
  {
   "cell_type": "markdown",
   "id": "shaped-devon",
   "metadata": {},
   "source": [
    "Manual Count: 209 people\n",
    "\n",
    "**OBSERVATION**: Similar to other images, GluonCV SSD did a much better job recognizing than YOLOv3; notice the difference in how far GluonCV SSD is able to recognize versus YOLOv3. Despite bigger bounding boxes again appearing on GluonCV SSD, we can definitively say that GluonCV SSD performed a lot better than YOLOv3 in terms of identifying more people amongst the crowds and further away from where the image was taken.\n",
    "\n",
    "In a mass public area (such as train stations, airports, malls, etc.), it may make more sense to deploy a surveillance system with GluonCV SSD rather than YOLOv3 for the purposes of people counting.\n",
    "\n",
    "Let's explore some other edge cases that may give us other interesting insights."
   ]
  },
  {
   "cell_type": "markdown",
   "id": "remarkable-shore",
   "metadata": {},
   "source": [
    "**b. People wearing costumes** <a class=\"anchor\" id=\"costumes\"></a>"
   ]
  },
  {
   "cell_type": "markdown",
   "id": "preceding-sociology",
   "metadata": {},
   "source": [
    "In this section, you will evaluate how the ml model performs when humans in the picture are wearing costumes."
   ]
  },
  {
   "cell_type": "markdown",
   "id": "hundred-guide",
   "metadata": {},
   "source": [
    "*Image 1*: https://www.pexels.com/photo/ghosts-holding-a-carved-pumpkin-5435309/\n",
    "\n",
    "We chose this image to see if we can confuse the algorithms to misrecognize or fail to recognize people. "
   ]
  },
  {
   "cell_type": "code",
   "execution_count": null,
   "id": "engaging-tactics",
   "metadata": {},
   "outputs": [],
   "source": [
    "compare_models_against_ground_truth(\"img/Halloween_Party_01.jpg\", \"yes\")"
   ]
  },
  {
   "cell_type": "markdown",
   "id": "leading-discussion",
   "metadata": {},
   "source": [
    "Manual Count: 3 people\n",
    "\n",
    "**OBSERVATION**: With an overall or costume that covers all body parts, we can see that both models fail to recognize the individuals inside the costume."
   ]
  },
  {
   "cell_type": "markdown",
   "id": "regular-lambda",
   "metadata": {},
   "source": [
    "*Image 2*: https://www.flickr.com/photos/presidioofmonterey/31751061088\n",
    "\n",
    "We chose this image to add different depths and angles of people in addition to them wearing different costumes. "
   ]
  },
  {
   "cell_type": "code",
   "execution_count": null,
   "id": "disabled-madison",
   "metadata": {},
   "outputs": [],
   "source": [
    "compare_models_against_ground_truth(\"img/Halloween_Party_02.jpg\", \"yes\")"
   ]
  },
  {
   "cell_type": "markdown",
   "id": "bronze-victory",
   "metadata": {},
   "source": [
    "Manual Count: 14 people\n",
    "\n",
    "**OBSERVATION:** Both models performed well on this particular image, especially being able to recognize different face paints and depth (i.e. the DJ in the booth)."
   ]
  },
  {
   "cell_type": "markdown",
   "id": "transsexual-boxing",
   "metadata": {},
   "source": [
    "**c. People with pets** <a class=\"anchor\" id=\"pets\"></a>"
   ]
  },
  {
   "cell_type": "markdown",
   "id": "artificial-mason",
   "metadata": {},
   "source": [
    "In this section, you will evaluate how the ml model performs when both pets and humans are in the picture."
   ]
  },
  {
   "cell_type": "markdown",
   "id": "acute-language",
   "metadata": {},
   "source": [
    "*Image 1*: https://www.pexels.com/photo/man-in-maroon-t-shirt-playing-with-his-large-short-coated-black-and-brown-dog-1172060/\n",
    "\n",
    "We chose this image to see how the endpoints perform in an image of mostly empty area."
   ]
  },
  {
   "cell_type": "code",
   "execution_count": null,
   "id": "great-daniel",
   "metadata": {},
   "outputs": [],
   "source": [
    "compare_models_against_ground_truth(\"img/Pet_Image_01.jpg\", \"yes\")"
   ]
  },
  {
   "cell_type": "markdown",
   "id": "handy-savannah",
   "metadata": {},
   "source": [
    "Manual Count: 1 person\n",
    "\n",
    "**OBSERVATION:** Both models recognized correctly."
   ]
  },
  {
   "cell_type": "markdown",
   "id": "varying-division",
   "metadata": {},
   "source": [
    "*Image 2*: https://www.flickr.com/photos/ajay_g/9076102094/\n",
    "\n",
    "We chose this image to see how the endpoints perform in an image of a busy street - lots of pets AND people."
   ]
  },
  {
   "cell_type": "code",
   "execution_count": null,
   "id": "structured-johnson",
   "metadata": {},
   "outputs": [],
   "source": [
    "compare_models_against_ground_truth(\"img/Pet_Image_02.jpg\", \"yes\")"
   ]
  },
  {
   "cell_type": "markdown",
   "id": "complete-oxford",
   "metadata": {},
   "source": [
    "Manual Count: 20 people\n",
    "\n",
    "**OBSERVATION:** GlounCV SSD was able to successfully recognize more people at the back of the street, behind the person on the scooter, making it more accurate than YOLOv3. Both models performed well, especially as they both were able to recognize the person on the very left, whose body was cut off on the edge of the image."
   ]
  },
  {
   "cell_type": "markdown",
   "id": "sharp-latex",
   "metadata": {},
   "source": [
    "**d. People wearing masks** <a class=\"anchor\" id=\"masks\"></a>"
   ]
  },
  {
   "cell_type": "markdown",
   "id": "naughty-disabled",
   "metadata": {},
   "source": [
    "In this section, you will evaluate how the ml model performs when people are wearing masks."
   ]
  },
  {
   "cell_type": "markdown",
   "id": "logical-aruba",
   "metadata": {},
   "source": [
    "*Image 1*: https://www.flickr.com/photos/sbanfield/50915718208/"
   ]
  },
  {
   "cell_type": "code",
   "execution_count": null,
   "id": "universal-shoulder",
   "metadata": {},
   "outputs": [],
   "source": [
    "compare_models_against_ground_truth(\"img/Mask_01.jpg\", \"yes\")"
   ]
  },
  {
   "cell_type": "markdown",
   "id": "stainless-briefing",
   "metadata": {},
   "source": [
    "Manual Count: 3 people\n",
    "\n",
    "**OBSERVATION:** Masks did not affect the models' abilities to recognize people with masks. Both successfully identified people with masks in the image."
   ]
  },
  {
   "cell_type": "markdown",
   "id": "major-place",
   "metadata": {},
   "source": [
    "*Image 2*: https://www.pexels.com/photo/people-wearing-face-mask-for-protection-3957986/\n",
    "\n",
    "We chose this image to see how the endpoints perform when there are manufactured images of humans (i.e. drawings)"
   ]
  },
  {
   "cell_type": "code",
   "execution_count": null,
   "id": "amber-british",
   "metadata": {
    "scrolled": false
   },
   "outputs": [],
   "source": [
    "compare_models_against_ground_truth(\"img/Mask_02.jpg\", \"yes\")"
   ]
  },
  {
   "cell_type": "markdown",
   "id": "fourth-smell",
   "metadata": {},
   "source": [
    "Manual Count: 4 people\n",
    "\n",
    "**OBSERVATION:** Both were susceptible to any images of human, as Mona Lisa in a picture was incorrectly recognized on both models! Other than that, GlounCV SSD had one individual identified as 2 different individuals. This is in line with the pattern of duplicates on GluonCV SSD."
   ]
  },
  {
   "cell_type": "markdown",
   "id": "animal-spotlight",
   "metadata": {},
   "source": [
    "*Image 3*: https://www.flickr.com/photos/gauthierdelecroix/50595262743/\n",
    "\n",
    "We chose this image to see how the endpoints perform when there are reflections of humans (against a window or mirror)"
   ]
  },
  {
   "cell_type": "code",
   "execution_count": null,
   "id": "norman-webster",
   "metadata": {},
   "outputs": [],
   "source": [
    "compare_models_against_ground_truth(\"img/Mask_03.jpg\", \"yes\")"
   ]
  },
  {
   "cell_type": "markdown",
   "id": "delayed-rochester",
   "metadata": {},
   "source": [
    "Manual Count: 3 people\n",
    "\n",
    "**OBSERVATION:** Both endpoints will identify a reflected person (against a window or a mirror) as an additional person. This is a limitation shown in other edge cases as well."
   ]
  },
  {
   "cell_type": "markdown",
   "id": "adequate-arctic",
   "metadata": {},
   "source": [
    "**e. People far away from camera** <a class=\"anchor\" id=\"faraway\"></a>"
   ]
  },
  {
   "cell_type": "markdown",
   "id": "military-square",
   "metadata": {},
   "source": [
    "In this section, you will evaluate how the ml model performs when people are very far away from the camera."
   ]
  },
  {
   "cell_type": "markdown",
   "id": "ultimate-replication",
   "metadata": {},
   "source": [
    "*Image 1:* https://www.pexels.com/photo/group-of-tourists-walking-on-snowy-hilly-terrain-6805855/\n",
    "\n",
    "We chose this image to see how the endpoints perform when looking at an image with people very far away."
   ]
  },
  {
   "cell_type": "code",
   "execution_count": null,
   "id": "absent-period",
   "metadata": {},
   "outputs": [],
   "source": [
    "compare_models_against_ground_truth(\"img/Snow_01.jpg\", \"yes\")"
   ]
  },
  {
   "cell_type": "markdown",
   "id": "stupid-express",
   "metadata": {},
   "source": [
    "Manual Count: 5 people\n",
    "\n",
    "**OBSERVATION:** Note how well YOLOv3 performs on this particular image. It can identify the 3 rightmost individuals correctly, and can also identify the 2 leftmost individuals (albeit as a single individual). It clearly performed better than GluonCV SSD."
   ]
  },
  {
   "cell_type": "markdown",
   "id": "weekly-cinema",
   "metadata": {},
   "source": [
    "*Image 2:* https://www.pexels.com/photo/photo-of-camels-on-dessert-3889891/\n",
    "\n",
    "We chose this image to see how deserts and people riding on camels may affect the performance."
   ]
  },
  {
   "cell_type": "code",
   "execution_count": null,
   "id": "animated-truth",
   "metadata": {},
   "outputs": [],
   "source": [
    "compare_models_against_ground_truth(\"img/Desert_01.jpg\", \"yes\")"
   ]
  },
  {
   "cell_type": "markdown",
   "id": "standing-values",
   "metadata": {},
   "source": [
    "Manual Count: 7 people\n",
    "\n",
    "**OBSERVATION:** As seen in this image (and the previous one), YOLOv3 is now able to recognize more people in the images where people are very far away and sparse. In fact, YOLOv3 is the model that's overcounting in this specific example."
   ]
  },
  {
   "cell_type": "markdown",
   "id": "thrown-favorite",
   "metadata": {},
   "source": [
    "**f. People facing away from camera** <a class=\"anchor\" id=\"facingaway\"></a>"
   ]
  },
  {
   "cell_type": "markdown",
   "id": "prerequisite-kinase",
   "metadata": {},
   "source": [
    "In this section, you will see how the ML model performs when the humans in the picture are looking away from the camera."
   ]
  },
  {
   "cell_type": "markdown",
   "id": "female-impact",
   "metadata": {},
   "source": [
    "*Image 1:* https://www.pexels.com/photo/women-standing-near-river-1140854/\n",
    "\n",
    "We chose this image for colors and the fact that everyone is raising their hands and how that may affect the performance."
   ]
  },
  {
   "cell_type": "code",
   "execution_count": null,
   "id": "affiliated-registration",
   "metadata": {
    "scrolled": true
   },
   "outputs": [],
   "source": [
    "compare_models_against_ground_truth(\"img/Facing_Away_01.jpg\", \"yes\")"
   ]
  },
  {
   "cell_type": "markdown",
   "id": "upset-soldier",
   "metadata": {},
   "source": [
    "Manual Count: 6 people\n",
    "\n",
    "**OBSERVATION:** The hands raised had minor affect, as YOLOv3 counted one of the hands as another person. However, for the most part both models were able to correctly recognize all individuals in the image."
   ]
  },
  {
   "cell_type": "markdown",
   "id": "presidential-continent",
   "metadata": {},
   "source": [
    "*Image 2:* https://www.pexels.com/photo/group-of-children-walking-near-body-of-water-silhouette-photography-939700/\n",
    "\n",
    "We chose this image to see how the reflections may have an effect."
   ]
  },
  {
   "cell_type": "code",
   "execution_count": null,
   "id": "third-source",
   "metadata": {},
   "outputs": [],
   "source": [
    "compare_models_against_ground_truth(\"img/Silhouette_01.jpg\", \"yes\")"
   ]
  },
  {
   "cell_type": "markdown",
   "id": "communist-legislature",
   "metadata": {},
   "source": [
    "Manual Count: 7 people\n",
    "\n",
    "**OBSERVATION:** The reflections here did not have an effect on either model, and we can attribute that to the wavy reflections of people on the water (versus cleaner reflections we saw against a window or a mirror)."
   ]
  },
  {
   "cell_type": "markdown",
   "id": "informal-official",
   "metadata": {},
   "source": [
    "*Image 3:* https://www.pexels.com/photo/crowd-in-front-of-people-playing-musical-instrument-during-nighttime-196652/\n",
    "\n",
    "We chose this image for lighting effects."
   ]
  },
  {
   "cell_type": "code",
   "execution_count": null,
   "id": "twelve-stockholm",
   "metadata": {},
   "outputs": [],
   "source": [
    "compare_models_against_ground_truth(\"img/Audience_01.jpg\", \"yes\")"
   ]
  },
  {
   "cell_type": "markdown",
   "id": "close-contemporary",
   "metadata": {},
   "source": [
    "Manual Count: 33 people\n",
    "\n",
    "**OBSERVATION:** As we saw in the mass crowd examples, neither were able to pick up all of the individuals in the crowds, and anyone at a very far distance from where the image was taken."
   ]
  },
  {
   "cell_type": "markdown",
   "id": "blank-divorce",
   "metadata": {},
   "source": [
    "### ML model evaluation summary <a class=\"anchor\" id=\"summary\"></a>\n",
    "\n",
    "See below for a summary of our entire evaluation in a table, comparing the two ML models."
   ]
  },
  {
   "cell_type": "markdown",
   "id": "loaded-appeal",
   "metadata": {},
   "source": [
    "|   Use Case    |   GluonCV YoloV3   | GluonCV SSD    |\n",
    "| - |:-:|  :-: |\n",
    "| Sample Batch transform time   |   35 min  | **20 min** |\n",
    "| Sample accuracy   |   **0.7608**  | 0.704 |\n",
    "| Sample MAE | **0.4776** | 1.317 |\n",
    "| Small crowd (2-5)  accuracy   |   **0.6022**      |0.5379|\n",
    "| Small crowd (2-5)  MAE   |     **0.5254**     |0.7557|\n",
    "| Medium crowd (10-14) |   **0.1236**  | 0.0915  |\n",
    "| Medium crowd (10-14)  MAE   |     **2.7574**     |10.7872|\n",
    "| Large crowd (20+)   |   &nbsp;  | **better** |\n",
    "| People in Costumes      |        same              |\n",
    "| People with pets          |       same      | &nbsp;|\n",
    "| People wearing masks         |        same      | &nbsp;|\n",
    "| Monochromatic pictures |        same      | &nbsp;|\n",
    "| People far away from camera      | **slightly better**      | &nbsp;|\n",
    "| People facing away from camera   |    same      | &nbsp;| "
   ]
  },
  {
   "cell_type": "markdown",
   "id": "intended-wheat",
   "metadata": {},
   "source": [
    "Consider using GluonCV SSD for:\n",
    "- Large mass transit area (i.e. Airports, Train Stations), where there will be a lot of people at every depth of your camera\n",
    "- Low-latency inference use cases, as GluonCV SSD inference time is shorter than that of YOLOv3\n",
    "    \n",
    "Consider using YOLOv3 for:\n",
    "- Aerial view that captures people sparse and far away\n",
    "- Images with fewer people\n",
    "    \n",
    "This is conclusion based on our sample images; It is highly recommended that you explore other images to see if one endpoint is better than the other for your particular use case."
   ]
  },
  {
   "cell_type": "markdown",
   "id": "spare-mechanism",
   "metadata": {},
   "source": [
    "### Cleanup <a class=\"anchor\" id=\"cleanup\"></a>\n",
    "\n",
    "Now that we've learned how to use AWS Marketplace ML endpoints for an analysis of its performances, it is time to clean up. Here are the resources to delete:\n",
    "\n",
    "1. Model, endpoint configurations, and the endpoints,\n",
    "2. S3 buckets and bucket items, and\n",
    "3. This notebook instance"
   ]
  },
  {
   "cell_type": "code",
   "execution_count": null,
   "id": "educational-hollywood",
   "metadata": {},
   "outputs": [],
   "source": [
    "sagemaker_session.delete_model(yolov3_model.name)\n",
    "sagemaker_session.delete_model(ssd_model.name)\n",
    "sagemaker_session.delete_model(yolov3_batch.model_name)\n",
    "sagemaker_session.delete_model(ssd_batch.model_name)\n",
    "\n",
    "sagemaker_session.delete_endpoint(yolo_name)\n",
    "sagemaker_session.delete_endpoint(gluoncvssd_name)\n",
    "\n",
    "sagemaker_session.delete_endpoint_config(yolo_name)\n",
    "sagemaker_session.delete_endpoint_config(gluoncvssd_name)"
   ]
  },
  {
   "cell_type": "markdown",
   "id": "configured-giving",
   "metadata": {},
   "source": [
    "To delete the S3 buckets and the items from the batch transform:\n",
    "1. Sign in to the [S3 console](https://s3.console.aws.amazon.com/s3/home).\n",
    "2. In the **Buckets** list, select the bucket and select **Empty**.\n",
    "3. Type *permanently delete* and select **Empty** to empty the bucket.\n",
    "3. Once completed, select the bucket again and this time select **Delete**.\n",
    "4. Type the *name of the bucket* and select **Delete bucket** to delete the bucket.\n",
    "\n",
    "**Note: Once you delete a bucket, it cannot be undone; since the bucket names are unique, another AWS user can use the name once your bucket is deleted.**\n"
   ]
  },
  {
   "cell_type": "markdown",
   "id": "compressed-width",
   "metadata": {},
   "source": [
    "Finally, if the AWS Marketplace subscription was created just for the experiment, and you would like to unsubscribe to the product, here are the steps that can be followed.\n",
    "Before you cancel the subscription, ensure that you do not have any [deployable model](https://console.aws.amazon.com/sagemaker/home#/models) created from the model package or using the algorithm. Note - You can find this information by looking at the container name associated with the model. \n",
    "\n",
    "**Steps to un-subscribe to product from AWS Marketplace**:\n",
    "1. Navigate to __Machine Learning__ tab on [__Your Software subscriptions page__](https://aws.amazon.com/marketplace/ai/library?productType=ml&ref_=mlmp_content_yj_tw)\n",
    "2. Locate the listing that you would need to cancel subscription for, and then __Cancel Subscription__ can be clicked to cancel the subscription."
   ]
  },
  {
   "cell_type": "code",
   "execution_count": null,
   "id": "narrative-consortium",
   "metadata": {},
   "outputs": [],
   "source": []
  }
 ],
 "metadata": {
  "kernelspec": {
   "display_name": "conda_amazonei_mxnet_p36",
   "language": "python",
   "name": "conda_amazonei_mxnet_p36"
  },
  "language_info": {
   "codemirror_mode": {
    "name": "ipython",
    "version": 3
   },
   "file_extension": ".py",
   "mimetype": "text/x-python",
   "name": "python",
   "nbconvert_exporter": "python",
   "pygments_lexer": "ipython3",
   "version": "3.6.13"
  }
 },
 "nbformat": 4,
 "nbformat_minor": 5
}