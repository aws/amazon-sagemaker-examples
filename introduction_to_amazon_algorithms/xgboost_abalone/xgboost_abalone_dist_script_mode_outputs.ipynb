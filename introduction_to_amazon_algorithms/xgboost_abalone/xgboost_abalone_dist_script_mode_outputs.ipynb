{
 "cells": [
  {
   "cell_type": "code",
   "execution_count": 1,
   "id": "d80ee098",
   "metadata": {
    "execution": {
     "iopub.execute_input": "2022-03-24T00:13:27.682169Z",
     "iopub.status.busy": "2022-03-24T00:13:27.681474Z",
     "iopub.status.idle": "2022-03-24T00:13:27.683880Z",
     "shell.execute_reply": "2022-03-24T00:13:27.683446Z"
    },
    "papermill": {
     "duration": 0.015936,
     "end_time": "2022-03-24T00:13:27.684021",
     "exception": false,
     "start_time": "2022-03-24T00:13:27.668085",
     "status": "completed"
    },
    "tags": [
     "injected-parameters"
    ]
   },
   "outputs": [],
   "source": [
    "# Parameters\n",
    "kms_key = \"arn:aws:kms:us-west-2:000000000000:1234abcd-12ab-34cd-56ef-1234567890ab\"\n"
   ]
  },
  {
   "cell_type": "markdown",
   "id": "42824ba3",
   "metadata": {
    "papermill": {
     "duration": 0.009593,
     "end_time": "2022-03-24T00:13:27.703838",
     "exception": false,
     "start_time": "2022-03-24T00:13:27.694245",
     "status": "completed"
    },
    "tags": []
   },
   "source": [
    "# Regression with Amazon SageMaker XGBoost algorithm\n",
    "_**Distributed training for regression with Amazon SageMaker XGBoost script mode**_\n",
    "\n",
    "---\n",
    "\n",
    "## Contents\n",
    "1. [Introduction](#Introduction)\n",
    "2. [Setup](#Setup)\n",
    "  1. [Fetching the dataset](#Fetching-the-dataset)\n",
    "  2. [Data Ingestion](#Data-ingestion)\n",
    "3. [Training the XGBoost model](#Training-the-XGBoost-model)\n",
    "3. [Deploying the XGBoost model](#Deploying-the-XGBoost-model)\n",
    "\n",
    "---"
   ]
  },
  {
   "cell_type": "markdown",
   "id": "9fed1156",
   "metadata": {
    "papermill": {
     "duration": 0.009413,
     "end_time": "2022-03-24T00:13:27.722752",
     "exception": false,
     "start_time": "2022-03-24T00:13:27.713339",
     "status": "completed"
    },
    "tags": []
   },
   "source": [
    "## Introduction\n",
    "\n",
    "This notebook demonstrates the use of Amazon SageMaker XGBoost to train and host a regression model. [XGBoost (eXtreme Gradient Boosting)](https://xgboost.readthedocs.io) is a popular and efficient machine learning algorithm used for regression and classification tasks on tabular datasets. It implements a technique know as gradient boosting on trees, and performs remarkably well in machine learning competitions, and gets a lot of attention from customers. \n",
    "\n",
    "We use the [Abalone data](https://www.csie.ntu.edu.tw/~cjlin/libsvmtools/datasets/regression.html), originally from the [UCI data repository](https://archive.ics.uci.edu/ml/datasets/abalone). More details about the original dataset can be found [here](https://archive.ics.uci.edu/ml/machine-learning-databases/abalone/abalone.names).  In this libsvm converted version, the nominal feature (Male/Female/Infant) has been converted into a real valued feature as required by XGBoost. Age of abalone is to be predicted from eight physical measurements.  \n",
    "\n",
    "---\n",
    "## Setup\n",
    "\n",
    "\n",
    "This notebook was created and tested on an ml.m5.2xlarge notebook instance.  This notebook was run with the Python 3 (Data Science) kernel.\n",
    "\n",
    "Let's start by specifying:\n",
    "1. The S3 bucket and prefix that you want to use for training and model data. This should be within the same region as the Notebook Instance, training, and hosting.\n",
    "1. The IAM role arn used to give training and hosting access to your data. See the documentation for how to create these. Note, if more than one role is required for notebook instances, training, and/or hosting, please replace the boto regexp with a the appropriate full IAM role arn string(s)."
   ]
  },
  {
   "cell_type": "code",
   "execution_count": 2,
   "id": "eb5f1f06",
   "metadata": {
    "execution": {
     "iopub.execute_input": "2022-03-24T00:13:27.745376Z",
     "iopub.status.busy": "2022-03-24T00:13:27.744695Z",
     "iopub.status.idle": "2022-03-24T00:13:29.126834Z",
     "shell.execute_reply": "2022-03-24T00:13:29.127242Z"
    },
    "papermill": {
     "duration": 1.39509,
     "end_time": "2022-03-24T00:13:29.127377",
     "exception": false,
     "start_time": "2022-03-24T00:13:27.732287",
     "status": "completed"
    },
    "tags": []
   },
   "outputs": [
    {
     "name": "stdout",
     "output_type": "stream",
     "text": [
      "Name: sagemaker\r\n",
      "Version: 2.69.1.dev0\r\n",
      "Summary: Open source library for training and deploying models on Amazon SageMaker.\r\n",
      "Home-page: https://github.com/aws/sagemaker-python-sdk/\r\n",
      "Author: Amazon Web Services\r\n",
      "Author-email: None\r\n",
      "License: Apache License 2.0\r\n",
      "Location: /opt/conda/lib/python3.7/site-packages\r\n",
      "Requires: pathos, boto3, protobuf3-to-dict, importlib-metadata, packaging, google-pasta, smdebug-rulesconfig, attrs, pandas, protobuf, numpy\r\n",
      "Required-by: \r\n"
     ]
    }
   ],
   "source": [
    "# ensure sagemaker version >= 2.00.0\n",
    "!pip show sagemaker"
   ]
  },
  {
   "cell_type": "code",
   "execution_count": 3,
   "id": "b3e7fe88",
   "metadata": {
    "execution": {
     "iopub.execute_input": "2022-03-24T00:13:29.152947Z",
     "iopub.status.busy": "2022-03-24T00:13:29.152460Z",
     "iopub.status.idle": "2022-03-24T00:13:30.319253Z",
     "shell.execute_reply": "2022-03-24T00:13:30.319637Z"
    },
    "isConfigCell": true,
    "papermill": {
     "duration": 1.181978,
     "end_time": "2022-03-24T00:13:30.319774",
     "exception": false,
     "start_time": "2022-03-24T00:13:29.137796",
     "status": "completed"
    },
    "tags": []
   },
   "outputs": [
    {
     "name": "stdout",
     "output_type": "stream",
     "text": [
      "us-west-2\n",
      "CPU times: user 752 ms, sys: 307 ms, total: 1.06 s\n",
      "Wall time: 1.16 s\n"
     ]
    }
   ],
   "source": [
    "%%time\n",
    "\n",
    "import os\n",
    "import boto3\n",
    "import re\n",
    "import sagemaker\n",
    "\n",
    "# Get a SageMaker-compatible role used by this Notebook Instance.\n",
    "role = sagemaker.get_execution_role()\n",
    "region = boto3.Session().region_name\n",
    "\n",
    "### update below values appropriately ###\n",
    "bucket = sagemaker.Session().default_bucket()\n",
    "prefix = \"sagemaker/DEMO-xgboost-dist-script\"\n",
    "####\n",
    "\n",
    "print(region)"
   ]
  },
  {
   "cell_type": "markdown",
   "id": "24694ffd",
   "metadata": {
    "papermill": {
     "duration": 0.010386,
     "end_time": "2022-03-24T00:13:30.340683",
     "exception": false,
     "start_time": "2022-03-24T00:13:30.330297",
     "status": "completed"
    },
    "tags": []
   },
   "source": [
    "### Fetching the dataset\n",
    "\n",
    "Following methods split the data into train/test/validation datasets and upload files to S3."
   ]
  },
  {
   "cell_type": "code",
   "execution_count": 4,
   "id": "dc699fb4",
   "metadata": {
    "execution": {
     "iopub.execute_input": "2022-03-24T00:13:30.368350Z",
     "iopub.status.busy": "2022-03-24T00:13:30.364345Z",
     "iopub.status.idle": "2022-03-24T00:13:30.370707Z",
     "shell.execute_reply": "2022-03-24T00:13:30.371115Z"
    },
    "papermill": {
     "duration": 0.020309,
     "end_time": "2022-03-24T00:13:30.371243",
     "exception": false,
     "start_time": "2022-03-24T00:13:30.350934",
     "status": "completed"
    },
    "tags": []
   },
   "outputs": [
    {
     "name": "stdout",
     "output_type": "stream",
     "text": [
      "CPU times: user 8 µs, sys: 0 ns, total: 8 µs\n",
      "Wall time: 11.4 µs\n"
     ]
    }
   ],
   "source": [
    "%%time\n",
    "\n",
    "import io\n",
    "import boto3\n",
    "import random\n",
    "\n",
    "\n",
    "def data_split(\n",
    "    FILE_DATA,\n",
    "    DATA_DIR,\n",
    "    FILE_TRAIN_BASE,\n",
    "    FILE_TRAIN_1,\n",
    "    FILE_VALIDATION,\n",
    "    FILE_TEST,\n",
    "    PERCENT_TRAIN_0,\n",
    "    PERCENT_TRAIN_1,\n",
    "    PERCENT_VALIDATION,\n",
    "    PERCENT_TEST,\n",
    "):\n",
    "    data = [l for l in open(FILE_DATA, \"r\")]\n",
    "    train_file_0 = open(DATA_DIR + \"/\" + FILE_TRAIN_0, \"w\")\n",
    "    train_file_1 = open(DATA_DIR + \"/\" + FILE_TRAIN_1, \"w\")\n",
    "    valid_file = open(DATA_DIR + \"/\" + FILE_VALIDATION, \"w\")\n",
    "    tests_file = open(DATA_DIR + \"/\" + FILE_TEST, \"w\")\n",
    "\n",
    "    num_of_data = len(data)\n",
    "    num_train_0 = int((PERCENT_TRAIN_0 / 100.0) * num_of_data)\n",
    "    num_train_1 = int((PERCENT_TRAIN_1 / 100.0) * num_of_data)\n",
    "    num_valid = int((PERCENT_VALIDATION / 100.0) * num_of_data)\n",
    "    num_tests = int((PERCENT_TEST / 100.0) * num_of_data)\n",
    "\n",
    "    data_fractions = [num_train_0, num_train_1, num_valid, num_tests]\n",
    "    split_data = [[], [], [], []]\n",
    "\n",
    "    rand_data_ind = 0\n",
    "\n",
    "    for split_ind, fraction in enumerate(data_fractions):\n",
    "        for i in range(fraction):\n",
    "            rand_data_ind = random.randint(0, len(data) - 1)\n",
    "            split_data[split_ind].append(data[rand_data_ind])\n",
    "            data.pop(rand_data_ind)\n",
    "\n",
    "    for l in split_data[0]:\n",
    "        train_file_0.write(l)\n",
    "\n",
    "    for l in split_data[1]:\n",
    "        train_file_1.write(l)\n",
    "\n",
    "    for l in split_data[2]:\n",
    "        valid_file.write(l)\n",
    "\n",
    "    for l in split_data[3]:\n",
    "        tests_file.write(l)\n",
    "\n",
    "    train_file_0.close()\n",
    "    train_file_1.close()\n",
    "    valid_file.close()\n",
    "    tests_file.close()\n",
    "\n",
    "\n",
    "def write_to_s3(fobj, bucket, key):\n",
    "    return (\n",
    "        boto3.Session(region_name=region)\n",
    "        .resource(\"s3\")\n",
    "        .Bucket(bucket)\n",
    "        .Object(key)\n",
    "        .upload_fileobj(fobj)\n",
    "    )\n",
    "\n",
    "\n",
    "def upload_to_s3(bucket, channel, filename):\n",
    "    fobj = open(filename, \"rb\")\n",
    "    key = prefix + \"/\" + channel\n",
    "    url = \"s3://{}/{}/{}\".format(bucket, key, filename)\n",
    "    print(\"Writing to {}\".format(url))\n",
    "    write_to_s3(fobj, bucket, key)"
   ]
  },
  {
   "cell_type": "markdown",
   "id": "2ed7a701",
   "metadata": {
    "papermill": {
     "duration": 0.010489,
     "end_time": "2022-03-24T00:13:30.392281",
     "exception": false,
     "start_time": "2022-03-24T00:13:30.381792",
     "status": "completed"
    },
    "tags": []
   },
   "source": [
    "### Data ingestion\n",
    "\n",
    "Next, we read the dataset from the existing repository into memory, for preprocessing prior to training. This processing could be done *in situ* by Amazon Athena, Apache Spark in Amazon EMR, Amazon Redshift, etc., assuming the dataset is present in the appropriate location. Then, the next step would be to transfer the data to S3 for use in training. For small datasets, such as this one, reading into memory isn't onerous, though it would be for larger datasets."
   ]
  },
  {
   "cell_type": "code",
   "execution_count": 5,
   "id": "38fb511b",
   "metadata": {
    "execution": {
     "iopub.execute_input": "2022-03-24T00:13:30.425763Z",
     "iopub.status.busy": "2022-03-24T00:13:30.424864Z",
     "iopub.status.idle": "2022-03-24T00:13:31.126484Z",
     "shell.execute_reply": "2022-03-24T00:13:31.126899Z"
    },
    "papermill": {
     "duration": 0.724087,
     "end_time": "2022-03-24T00:13:31.127037",
     "exception": false,
     "start_time": "2022-03-24T00:13:30.402950",
     "status": "completed"
    },
    "tags": []
   },
   "outputs": [
    {
     "name": "stdout",
     "output_type": "stream",
     "text": [
      "CPU times: user 57.1 ms, sys: 20.1 ms, total: 77.1 ms\n",
      "Wall time: 707 ms\n"
     ]
    }
   ],
   "source": [
    "%%time\n",
    "import boto3\n",
    "\n",
    "# Load the dataset\n",
    "FILE_DATA = \"abalone\"\n",
    "s3 = boto3.client(\"s3\")\n",
    "s3.download_file(\n",
    "    f\"sagemaker-sample-files\", \"datasets/tabular/uci_abalone/abalone.libsvm\", FILE_DATA\n",
    ")\n",
    "\n",
    "# split the downloaded data into train/test/validation files\n",
    "FILE_TRAIN_0 = \"abalone.train_0\"\n",
    "FILE_TRAIN_1 = \"abalone.train_1\"\n",
    "FILE_VALIDATION = \"abalone.validation\"\n",
    "FILE_TEST = \"abalone.test\"\n",
    "PERCENT_TRAIN_0 = 35\n",
    "PERCENT_TRAIN_1 = 35\n",
    "PERCENT_VALIDATION = 15\n",
    "PERCENT_TEST = 15\n",
    "\n",
    "DATA_DIR = \"data\"\n",
    "\n",
    "if not os.path.exists(DATA_DIR):\n",
    "    os.mkdir(DATA_DIR)\n",
    "\n",
    "data_split(\n",
    "    FILE_DATA,\n",
    "    DATA_DIR,\n",
    "    FILE_TRAIN_0,\n",
    "    FILE_TRAIN_1,\n",
    "    FILE_VALIDATION,\n",
    "    FILE_TEST,\n",
    "    PERCENT_TRAIN_0,\n",
    "    PERCENT_TRAIN_1,\n",
    "    PERCENT_VALIDATION,\n",
    "    PERCENT_TEST,\n",
    ")"
   ]
  },
  {
   "cell_type": "code",
   "execution_count": 6,
   "id": "224dbda7",
   "metadata": {
    "execution": {
     "iopub.execute_input": "2022-03-24T00:13:31.160146Z",
     "iopub.status.busy": "2022-03-24T00:13:31.152127Z",
     "iopub.status.idle": "2022-03-24T00:13:31.734733Z",
     "shell.execute_reply": "2022-03-24T00:13:31.735123Z"
    },
    "papermill": {
     "duration": 0.597311,
     "end_time": "2022-03-24T00:13:31.735260",
     "exception": false,
     "start_time": "2022-03-24T00:13:31.137949",
     "status": "completed"
    },
    "tags": []
   },
   "outputs": [
    {
     "name": "stdout",
     "output_type": "stream",
     "text": [
      "Writing to s3://sagemaker-us-west-2-000000000000/sagemaker/DEMO-xgboost-dist-script/train/train_0.libsvm/data/abalone.train_0\n"
     ]
    },
    {
     "name": "stdout",
     "output_type": "stream",
     "text": [
      "Writing to s3://sagemaker-us-west-2-000000000000/sagemaker/DEMO-xgboost-dist-script/train/train_1.libsvm/data/abalone.train_1\n"
     ]
    },
    {
     "name": "stdout",
     "output_type": "stream",
     "text": [
      "Writing to s3://sagemaker-us-west-2-000000000000/sagemaker/DEMO-xgboost-dist-script/validation/validation.libsvm/data/abalone.validation\n"
     ]
    },
    {
     "name": "stdout",
     "output_type": "stream",
     "text": [
      "Writing to s3://sagemaker-us-west-2-000000000000/sagemaker/DEMO-xgboost-dist-script/test/test.libsvm/data/abalone.test\n"
     ]
    }
   ],
   "source": [
    "# upload the files to the S3 bucket\n",
    "upload_to_s3(bucket, \"train/train_0.libsvm\", DATA_DIR + \"/\" + FILE_TRAIN_0)\n",
    "upload_to_s3(bucket, \"train/train_1.libsvm\", DATA_DIR + \"/\" + FILE_TRAIN_1)\n",
    "upload_to_s3(bucket, \"validation/validation.libsvm\", DATA_DIR + \"/\" + FILE_VALIDATION)\n",
    "upload_to_s3(bucket, \"test/test.libsvm\", DATA_DIR + \"/\" + FILE_TEST)"
   ]
  },
  {
   "cell_type": "markdown",
   "id": "600c8ba0",
   "metadata": {
    "papermill": {
     "duration": 0.011636,
     "end_time": "2022-03-24T00:13:31.758659",
     "exception": false,
     "start_time": "2022-03-24T00:13:31.747023",
     "status": "completed"
    },
    "tags": []
   },
   "source": [
    "## Create a XGBoost script to train with \n",
    "\n",
    "SageMaker can now run an XGboost script using the XGBoost estimator. When executed on SageMaker a number of helpful environment variables are available to access properties of the training environment, such as:\n",
    "\n",
    "- `SM_MODEL_DIR`: A string representing the path to the directory to write model artifacts to. Any artifacts saved in this folder are uploaded to S3 for model hosting after the training job completes.\n",
    "- `SM_OUTPUT_DIR`: A string representing the filesystem path to write output artifacts to. Output artifacts may include checkpoints, graphs, and other files to save, not including model artifacts. These artifacts are compressed and uploaded to S3 to the same S3 prefix as the model artifacts.\n",
    "\n",
    "Supposing two input channels, 'train' and 'validation', were used in the call to the XGBoost estimator's fit() method, the following environment variables will be set, following the format `SM_CHANNEL_[channel_name]`:\n",
    "\n",
    "`SM_CHANNEL_TRAIN`: A string representing the path to the directory containing data in the 'train' channel\n",
    "`SM_CHANNEL_VALIDATION`: Same as above, but for the 'validation' channel.\n",
    "\n",
    "A typical training script loads data from the input channels, configures training with hyperparameters, trains a model, and saves a model to model_dir so that it can be hosted later. Hyperparameters are passed to your script as arguments and can be retrieved with an argparse.ArgumentParser instance. For example, the script that we will run in this notebook is provided as the accompanying file (`abalone.py`) and also shown below:\n",
    "\n",
    "```python\n",
    "\n",
    "import argparse\n",
    "import json\n",
    "import logging\n",
    "import os\n",
    "import pandas as pd\n",
    "import pickle as pkl\n",
    "\n",
    "from sagemaker_containers import entry_point\n",
    "from sagemaker_xgboost_container.data_utils import get_dmatrix\n",
    "from sagemaker_xgboost_container import distributed\n",
    "\n",
    "import xgboost as xgb\n",
    "\n",
    "\n",
    "def _xgb_train(params, dtrain, evals, num_boost_round, model_dir, is_master):\n",
    "    \"\"\"Run xgb train on arguments given with rabit initialized.\n",
    "\n",
    "    This is our rabit execution function.\n",
    "\n",
    "    :param args_dict: Argument dictionary used to run xgb.train().\n",
    "    :param is_master: True if current node is master host in distributed training, or is running single node training job. Note that rabit_run will include this argument.\n",
    "    \"\"\"\n",
    "    booster = xgb.train(params=params, dtrain=dtrain, evals=evals, num_boost_round=num_boost_round)\n",
    "\n",
    "    if is_master:\n",
    "        model_location = model_dir + '/xgboost-model'\n",
    "        pkl.dump(booster, open(model_location, 'wb'))\n",
    "        logging.info(\"Stored trained model at {}\".format(model_location))\n",
    "\n",
    "\n",
    "if __name__ == '__main__':\n",
    "    parser = argparse.ArgumentParser()\n",
    "\n",
    "    # Hyperparameters are described here. In this simple example we are just including one hyperparameter.\n",
    "    parser.add_argument('--max_depth', type=int,)\n",
    "    parser.add_argument('--eta', type=float)\n",
    "    parser.add_argument('--gamma', type=int)\n",
    "    parser.add_argument('--min_child_weight', type=int)\n",
    "    parser.add_argument('--subsample', type=float)\n",
    "    parser.add_argument('--verbose', type=int)\n",
    "    parser.add_argument('--objective', type=str)\n",
    "    parser.add_argument('--num_round', type=int)\n",
    "\n",
    "    # Sagemaker specific arguments. Defaults are set in the environment variables.\n",
    "    parser.add_argument('--output_data_dir', type=str, default=os.environ['SM_OUTPUT_DATA_DIR'])\n",
    "    parser.add_argument('--model_dir', type=str, default=os.environ['SM_MODEL_DIR'])\n",
    "    parser.add_argument('--train', type=str, default=os.environ['SM_CHANNEL_TRAIN'])\n",
    "    parser.add_argument('--validation', type=str, default=os.environ['SM_CHANNEL_VALIDATION'])\n",
    "    parser.add_argument('--sm_hosts', type=str, default=os.environ['SM_HOSTS'])\n",
    "    parser.add_argument('--sm_current_host', type=str, default=os.environ['SM_CURRENT_HOST'])\n",
    "\n",
    "    args, _ = parser.parse_known_args()\n",
    "\n",
    "    # Get SageMaker host information from runtime environment variables\n",
    "    sm_hosts = json.loads(os.environ['SM_HOSTS'])\n",
    "    sm_current_host = args.sm_current_host\n",
    "\n",
    "    dtrain = get_dmatrix(args.train, 'libsvm')\n",
    "    dval = get_dmatrix(args.validation, 'libsvm')\n",
    "    watchlist = [(dtrain, 'train'), (dval, 'validation')] if dval is not None else [(dtrain, 'train')]\n",
    "\n",
    "    train_hp = {\n",
    "        'max_depth': args.max_depth,\n",
    "        'eta': args.eta,\n",
    "        'gamma': args.gamma,\n",
    "        'min_child_weight': args.min_child_weight,\n",
    "        'subsample': args.subsample,\n",
    "        'verbose': args.verbose,\n",
    "        'objective': args.objective}\n",
    "\n",
    "    xgb_train_args = dict(\n",
    "        params=train_hp,\n",
    "        dtrain=dtrain,\n",
    "        evals=watchlist,\n",
    "        num_boost_round=args.num_round,\n",
    "        model_dir=args.model_dir)\n",
    "\n",
    "    if len(sm_hosts) > 1:\n",
    "        # Wait until all hosts are able to find each other\n",
    "        entry_point._wait_hostname_resolution()\n",
    "\n",
    "        # Execute training function after initializing rabit.\n",
    "        distributed.rabit_run(\n",
    "            exec_fun=_xgb_train,\n",
    "            args=xgb_train_args,\n",
    "            include_in_training=(dtrain is not None),\n",
    "            hosts=sm_hosts,\n",
    "            current_host=sm_current_host,\n",
    "            update_rabit_args=True\n",
    "        )\n",
    "    else:\n",
    "        # If single node training, call training method directly.\n",
    "        if dtrain:\n",
    "            xgb_train_args['is_master'] = True\n",
    "            _xgb_train(**xgb_train_args)\n",
    "        else:\n",
    "            raise ValueError(\"Training channel must have data to train model.\")\n",
    "\n",
    "\n",
    "def model_fn(model_dir):\n",
    "    \"\"\"Deserialized and return fitted model.\n",
    "\n",
    "    Note that this should have the same name as the serialized model in the _xgb_train method\n",
    "    \"\"\"\n",
    "    model_file = 'xgboost-model'\n",
    "    booster = pkl.load(open(os.path.join(model_dir, model_file), 'rb'))\n",
    "    return booster\n",
    "```\n",
    "\n"
   ]
  },
  {
   "cell_type": "markdown",
   "id": "3613296c",
   "metadata": {
    "papermill": {
     "duration": 0.011401,
     "end_time": "2022-03-24T00:13:31.781608",
     "exception": false,
     "start_time": "2022-03-24T00:13:31.770207",
     "status": "completed"
    },
    "tags": []
   },
   "source": [
    "Because the container imports your training script, always put your training code in a main guard `(if __name__=='__main__':)` so that the container does not inadvertently run your training code at the wrong point in execution.\n",
    "\n",
    "For more information about training environment variables, please visit https://github.com/aws/sagemaker-containers."
   ]
  },
  {
   "cell_type": "markdown",
   "id": "8013b425",
   "metadata": {
    "papermill": {
     "duration": 0.011413,
     "end_time": "2022-03-24T00:13:31.804518",
     "exception": false,
     "start_time": "2022-03-24T00:13:31.793105",
     "status": "completed"
    },
    "tags": []
   },
   "source": [
    "## Training the XGBoost model\n",
    "\n",
    "After setting training parameters, we kick off training, and poll for status until training is completed, which in this example, takes between few minutes.\n",
    "\n",
    "To run our training script on SageMaker, we construct a sagemaker.xgboost.estimator.XGBoost estimator, which accepts several constructor arguments:\n",
    "\n",
    "* __entry_point__: The path to the Python script SageMaker runs for training and prediction.\n",
    "* __role__: Role ARN\n",
    "* __instance_type__ *(optional)*: The type of SageMaker instances for training. __Note__: Because Scikit-learn does not natively support GPU training, Sagemaker Scikit-learn does not currently support training on GPU instance types.\n",
    "* __sagemaker_session__ *(optional)*: The session used to train on Sagemaker.\n",
    "* __hyperparameters__ *(optional)*: A dictionary passed to the train function as hyperparameters."
   ]
  },
  {
   "cell_type": "code",
   "execution_count": 7,
   "id": "33c32ba5",
   "metadata": {
    "execution": {
     "iopub.execute_input": "2022-03-24T00:13:31.832197Z",
     "iopub.status.busy": "2022-03-24T00:13:31.831640Z",
     "iopub.status.idle": "2022-03-24T00:13:31.833328Z",
     "shell.execute_reply": "2022-03-24T00:13:31.833674Z"
    },
    "papermill": {
     "duration": 0.017676,
     "end_time": "2022-03-24T00:13:31.833794",
     "exception": false,
     "start_time": "2022-03-24T00:13:31.816118",
     "status": "completed"
    },
    "tags": []
   },
   "outputs": [],
   "source": [
    "hyperparams = {\n",
    "    \"max_depth\": \"5\",\n",
    "    \"eta\": \"0.2\",\n",
    "    \"gamma\": \"4\",\n",
    "    \"min_child_weight\": \"6\",\n",
    "    \"subsample\": \"0.7\",\n",
    "    \"verbose\": \"1\",\n",
    "    \"objective\": \"reg:linear\",\n",
    "    \"num_round\": \"50\",\n",
    "}\n",
    "\n",
    "instance_type = \"ml.m5.2xlarge\"\n",
    "output_path = \"s3://{}/{}/{}/output\".format(bucket, prefix, \"abalone-dist-xgb\")\n",
    "content_type = \"libsvm\""
   ]
  },
  {
   "cell_type": "code",
   "execution_count": 8,
   "id": "ca6afd52",
   "metadata": {
    "execution": {
     "iopub.execute_input": "2022-03-24T00:13:31.862737Z",
     "iopub.status.busy": "2022-03-24T00:13:31.862186Z",
     "iopub.status.idle": "2022-03-24T00:13:32.044650Z",
     "shell.execute_reply": "2022-03-24T00:13:32.045072Z"
    },
    "papermill": {
     "duration": 0.199625,
     "end_time": "2022-03-24T00:13:32.045212",
     "exception": false,
     "start_time": "2022-03-24T00:13:31.845587",
     "status": "completed"
    },
    "tags": []
   },
   "outputs": [],
   "source": [
    "# Open Source distributed script mode\n",
    "from sagemaker.session import TrainingInput, Session\n",
    "from sagemaker.xgboost.estimator import XGBoost\n",
    "\n",
    "boto_session = boto3.Session(region_name=region)\n",
    "session = Session(boto_session=boto_session)\n",
    "script_path = \"abalone.py\"\n",
    "\n",
    "xgb_script_mode_estimator = XGBoost(\n",
    "    entry_point=script_path,\n",
    "    framework_version=\"0.90-1\",  # Note: framework_version is mandatory\n",
    "    hyperparameters=hyperparams,\n",
    "    role=role,\n",
    "    instance_count=2,\n",
    "    instance_type=instance_type,\n",
    "    output_path=output_path,\n",
    ")\n",
    "\n",
    "train_input = TrainingInput(\n",
    "    \"s3://{}/{}/{}/\".format(bucket, prefix, \"train\"), content_type=content_type\n",
    ")\n",
    "validation_input = TrainingInput(\n",
    "    \"s3://{}/{}/{}/\".format(bucket, prefix, \"validation\"), content_type=content_type\n",
    ")"
   ]
  },
  {
   "cell_type": "markdown",
   "id": "9a9af4a5",
   "metadata": {
    "papermill": {
     "duration": 0.01172,
     "end_time": "2022-03-24T00:13:32.068824",
     "exception": false,
     "start_time": "2022-03-24T00:13:32.057104",
     "status": "completed"
    },
    "tags": []
   },
   "source": [
    "### Train XGBoost Estimator on abalone data \n",
    "\n",
    "\n",
    "Training is as simple as calling `fit` on the Estimator. This will start a SageMaker Training job that will download the data, invoke the entry point code (in the provided script file), and save any model artifacts that the script creates."
   ]
  },
  {
   "cell_type": "code",
   "execution_count": 9,
   "id": "f11ba030",
   "metadata": {
    "execution": {
     "iopub.execute_input": "2022-03-24T00:13:32.096763Z",
     "iopub.status.busy": "2022-03-24T00:13:32.096032Z",
     "iopub.status.idle": "2022-03-24T00:16:59.140881Z",
     "shell.execute_reply": "2022-03-24T00:16:59.140473Z"
    },
    "papermill": {
     "duration": 207.060357,
     "end_time": "2022-03-24T00:16:59.140990",
     "exception": false,
     "start_time": "2022-03-24T00:13:32.080633",
     "status": "completed"
    },
    "scrolled": true,
    "tags": []
   },
   "outputs": [
    {
     "name": "stdout",
     "output_type": "stream",
     "text": [
      "2022-03-24 00:13:32 Starting - Starting the training job"
     ]
    },
    {
     "name": "stdout",
     "output_type": "stream",
     "text": [
      "."
     ]
    },
    {
     "name": "stdout",
     "output_type": "stream",
     "text": [
      "."
     ]
    },
    {
     "name": "stdout",
     "output_type": "stream",
     "text": [
      "."
     ]
    },
    {
     "name": "stdout",
     "output_type": "stream",
     "text": [
      "\n",
      "2022-03-24 00:13:57 Starting - Preparing the instances for trainingProfilerReport-1648080812: InProgress\n"
     ]
    },
    {
     "name": "stdout",
     "output_type": "stream",
     "text": [
      "."
     ]
    },
    {
     "name": "stdout",
     "output_type": "stream",
     "text": [
      "."
     ]
    },
    {
     "name": "stdout",
     "output_type": "stream",
     "text": [
      "."
     ]
    },
    {
     "name": "stdout",
     "output_type": "stream",
     "text": [
      "."
     ]
    },
    {
     "name": "stdout",
     "output_type": "stream",
     "text": [
      "."
     ]
    },
    {
     "name": "stdout",
     "output_type": "stream",
     "text": [
      "."
     ]
    },
    {
     "name": "stdout",
     "output_type": "stream",
     "text": [
      "\n",
      "2022-03-24 00:15:07 Downloading - Downloading input data."
     ]
    },
    {
     "name": "stdout",
     "output_type": "stream",
     "text": [
      "."
     ]
    },
    {
     "name": "stdout",
     "output_type": "stream",
     "text": [
      "."
     ]
    },
    {
     "name": "stdout",
     "output_type": "stream",
     "text": [
      "\n",
      "2022-03-24 00:15:37 Training - Downloading the training image"
     ]
    },
    {
     "name": "stdout",
     "output_type": "stream",
     "text": [
      "."
     ]
    },
    {
     "name": "stdout",
     "output_type": "stream",
     "text": [
      "."
     ]
    },
    {
     "name": "stdout",
     "output_type": "stream",
     "text": [
      "."
     ]
    },
    {
     "name": "stdout",
     "output_type": "stream",
     "text": [
      "\n",
      "2022-03-24 00:15:59 Training - Training image download completed. Training in progress."
     ]
    },
    {
     "name": "stdout",
     "output_type": "stream",
     "text": [
      "\u001b[35mINFO:sagemaker-containers:Imported framework sagemaker_xgboost_container.training\u001b[0m\n",
      "\u001b[35mINFO:sagemaker-containers:No GPUs detected (normal if no gpus installed)\u001b[0m\n",
      "\u001b[35mINFO:sagemaker_xgboost_container.training:Invoking user training script.\u001b[0m\n",
      "\u001b[35mINFO:sagemaker-containers:Module abalone does not provide a setup.py. \u001b[0m\n",
      "\u001b[35mGenerating setup.py\u001b[0m\n",
      "\u001b[35mINFO:sagemaker-containers:Generating setup.cfg\u001b[0m\n",
      "\u001b[35mINFO:sagemaker-containers:Generating MANIFEST.in\u001b[0m\n",
      "\u001b[35mINFO:sagemaker-containers:Installing module with the following command:\u001b[0m\n",
      "\u001b[35m/miniconda3/bin/python3 -m pip install . \u001b[0m\n",
      "\u001b[35mProcessing /opt/ml/code\u001b[0m\n",
      "\u001b[35mBuilding wheels for collected packages: abalone\n",
      "  Building wheel for abalone (setup.py): started\u001b[0m\n",
      "\u001b[34mINFO:sagemaker-containers:Imported framework sagemaker_xgboost_container.training\u001b[0m\n",
      "\u001b[34mINFO:sagemaker-containers:No GPUs detected (normal if no gpus installed)\u001b[0m\n",
      "\u001b[34mINFO:sagemaker_xgboost_container.training:Invoking user training script.\u001b[0m\n",
      "\u001b[34mINFO:sagemaker-containers:Module abalone does not provide a setup.py. \u001b[0m\n",
      "\u001b[34mGenerating setup.py\u001b[0m\n",
      "\u001b[34mINFO:sagemaker-containers:Generating setup.cfg\u001b[0m\n",
      "\u001b[34mINFO:sagemaker-containers:Generating MANIFEST.in\u001b[0m\n",
      "\u001b[34mINFO:sagemaker-containers:Installing module with the following command:\u001b[0m\n",
      "\u001b[34m/miniconda3/bin/python3 -m pip install . \u001b[0m\n",
      "\u001b[34mProcessing /opt/ml/code\u001b[0m\n",
      "\u001b[34mBuilding wheels for collected packages: abalone\n",
      "  Building wheel for abalone (setup.py): started\n",
      "  Building wheel for abalone (setup.py): finished with status 'done'\n",
      "  Created wheel for abalone: filename=abalone-1.0.0-py2.py3-none-any.whl size=6376 sha256=582e8c84a6fe2b51563306edc7d4aba085c0c5a2f978044f869f40a879b96a90\n",
      "  Stored in directory: /tmp/pip-ephem-wheel-cache-9dolvkj5/wheels/3e/0f/51/2f1df833dd0412c1bc2f5ee56baac195b5be563353d111dca6\u001b[0m\n",
      "\u001b[34mSuccessfully built abalone\u001b[0m\n",
      "\u001b[34mInstalling collected packages: abalone\u001b[0m\n",
      "\u001b[35m  Building wheel for abalone (setup.py): finished with status 'done'\n",
      "  Created wheel for abalone: filename=abalone-1.0.0-py2.py3-none-any.whl size=6376 sha256=582e8c84a6fe2b51563306edc7d4aba085c0c5a2f978044f869f40a879b96a90\n",
      "  Stored in directory: /tmp/pip-ephem-wheel-cache-vczpn9w7/wheels/3e/0f/51/2f1df833dd0412c1bc2f5ee56baac195b5be563353d111dca6\u001b[0m\n",
      "\u001b[35mSuccessfully built abalone\u001b[0m\n",
      "\u001b[35mInstalling collected packages: abalone\u001b[0m\n",
      "\u001b[35mSuccessfully installed abalone-1.0.0\u001b[0m\n",
      "\u001b[35mINFO:sagemaker-containers:No GPUs detected (normal if no gpus installed)\u001b[0m\n",
      "\u001b[35mINFO:sagemaker-containers:Invoking user script\u001b[0m\n",
      "\u001b[35mTraining Env:\u001b[0m\n",
      "\u001b[35m{\n",
      "    \"additional_framework_parameters\": {},\n",
      "    \"channel_input_dirs\": {\n",
      "        \"train\": \"/opt/ml/input/data/train\",\n",
      "        \"validation\": \"/opt/ml/input/data/validation\"\n",
      "    },\n",
      "    \"current_host\": \"algo-2\",\n",
      "    \"framework_module\": \"sagemaker_xgboost_container.training:main\",\n",
      "    \"hosts\": [\n",
      "        \"algo-1\",\n",
      "        \"algo-2\"\n",
      "    ],\n",
      "    \"hyperparameters\": {\n",
      "        \"eta\": \"0.2\",\n",
      "        \"gamma\": \"4\",\n",
      "        \"max_depth\": \"5\",\n",
      "        \"min_child_weight\": \"6\",\n",
      "        \"num_round\": \"50\",\n",
      "        \"objective\": \"reg:linear\",\n",
      "        \"subsample\": \"0.7\",\n",
      "        \"verbose\": \"1\"\n",
      "    },\n",
      "    \"input_config_dir\": \"/opt/ml/input/config\",\n",
      "    \"input_data_config\": {\n",
      "        \"train\": {\n",
      "            \"ContentType\": \"libsvm\",\n",
      "            \"TrainingInputMode\": \"File\",\n",
      "            \"S3DistributionType\": \"FullyReplicated\",\n",
      "            \"RecordWrapperType\": \"None\"\n",
      "        },\n",
      "        \"validation\": {\n",
      "            \"ContentType\": \"libsvm\",\n",
      "            \"TrainingInputMode\": \"File\",\n",
      "            \"S3DistributionType\": \"FullyReplicated\",\n",
      "            \"RecordWrapperType\": \"None\"\n",
      "        }\n",
      "    },\n",
      "    \"input_dir\": \"/opt/ml/input\",\n",
      "    \"is_master\": false,\n",
      "    \"job_name\": \"sagemaker-xgboost-2022-03-24-00-13-32-094\",\n",
      "    \"log_level\": 20,\n",
      "    \"master_hostname\": \"algo-1\",\n",
      "    \"model_dir\": \"/opt/ml/model\",\n",
      "    \"module_dir\": \"s3://sagemaker-us-west-2-000000000000/sagemaker-xgboost-2022-03-24-00-13-32-094/source/sourcedir.tar.gz\",\n",
      "    \"module_name\": \"abalone\",\n",
      "    \"network_interface_name\": \"eth0\",\n",
      "    \"num_cpus\": 8,\n",
      "    \"num_gpus\": 0,\n",
      "    \"output_data_dir\": \"/opt/ml/output/data\",\n",
      "    \"output_dir\": \"/opt/ml/output\",\n",
      "    \"output_intermediate_dir\": \"/opt/ml/output/intermediate\",\n",
      "    \"resource_config\": {\n",
      "        \"current_host\": \"algo-2\",\n",
      "        \"current_instance_type\": \"ml.m5.2xlarge\",\n",
      "        \"current_group_name\": \"homogeneousCluster\",\n",
      "        \"hosts\": [\n",
      "            \"algo-1\",\n",
      "            \"algo-2\"\n",
      "        ],\n",
      "        \"instance_groups\": [\n",
      "            {\n",
      "                \"instance_group_name\": \"homogeneousCluster\",\n",
      "                \"instance_type\": \"ml.m5.2xlarge\",\n",
      "                \"hosts\": [\n",
      "                    \"algo-2\",\n",
      "                    \"algo-1\"\n",
      "                ]\n",
      "            }\n",
      "        ],\n",
      "        \"network_interface_name\": \"eth0\"\n",
      "    },\n",
      "    \"user_entry_point\": \"abalone.py\"\u001b[0m\n",
      "\u001b[35m}\u001b[0m\n",
      "\u001b[35mEnvironment variables:\u001b[0m\n",
      "\u001b[35mSM_HOSTS=[\"algo-1\",\"algo-2\"]\u001b[0m\n",
      "\u001b[35mSM_NETWORK_INTERFACE_NAME=eth0\u001b[0m\n",
      "\u001b[35mSM_HPS={\"eta\":\"0.2\",\"gamma\":\"4\",\"max_depth\":\"5\",\"min_child_weight\":\"6\",\"num_round\":\"50\",\"objective\":\"reg:linear\",\"subsample\":\"0.7\",\"verbose\":\"1\"}\u001b[0m\n",
      "\u001b[35mSM_USER_ENTRY_POINT=abalone.py\u001b[0m\n",
      "\u001b[35mSM_FRAMEWORK_PARAMS={}\u001b[0m\n",
      "\u001b[35mSM_RESOURCE_CONFIG={\"current_group_name\":\"homogeneousCluster\",\"current_host\":\"algo-2\",\"current_instance_type\":\"ml.m5.2xlarge\",\"hosts\":[\"algo-1\",\"algo-2\"],\"instance_groups\":[{\"hosts\":[\"algo-2\",\"algo-1\"],\"instance_group_name\":\"homogeneousCluster\",\"instance_type\":\"ml.m5.2xlarge\"}],\"network_interface_name\":\"eth0\"}\u001b[0m\n",
      "\u001b[35mSM_INPUT_DATA_CONFIG={\"train\":{\"ContentType\":\"libsvm\",\"RecordWrapperType\":\"None\",\"S3DistributionType\":\"FullyReplicated\",\"TrainingInputMode\":\"File\"},\"validation\":{\"ContentType\":\"libsvm\",\"RecordWrapperType\":\"None\",\"S3DistributionType\":\"FullyReplicated\",\"TrainingInputMode\":\"File\"}}\u001b[0m\n",
      "\u001b[35mSM_OUTPUT_DATA_DIR=/opt/ml/output/data\u001b[0m\n",
      "\u001b[35mSM_CHANNELS=[\"train\",\"validation\"]\u001b[0m\n",
      "\u001b[35mSM_CURRENT_HOST=algo-2\u001b[0m\n",
      "\u001b[35mSM_MODULE_NAME=abalone\u001b[0m\n",
      "\u001b[35mSM_LOG_LEVEL=20\u001b[0m\n",
      "\u001b[35mSM_FRAMEWORK_MODULE=sagemaker_xgboost_container.training:main\u001b[0m\n",
      "\u001b[35mSM_INPUT_DIR=/opt/ml/input\u001b[0m\n",
      "\u001b[35mSM_INPUT_CONFIG_DIR=/opt/ml/input/config\u001b[0m\n",
      "\u001b[35mSM_OUTPUT_DIR=/opt/ml/output\u001b[0m\n",
      "\u001b[35mSM_NUM_CPUS=8\u001b[0m\n",
      "\u001b[35mSM_NUM_GPUS=0\u001b[0m\n",
      "\u001b[35mSM_MODEL_DIR=/opt/ml/model\u001b[0m\n",
      "\u001b[35mSM_MODULE_DIR=s3://sagemaker-us-west-2-000000000000/sagemaker-xgboost-2022-03-24-00-13-32-094/source/sourcedir.tar.gz\u001b[0m\n",
      "\u001b[35mSM_TRAINING_ENV={\"additional_framework_parameters\":{},\"channel_input_dirs\":{\"train\":\"/opt/ml/input/data/train\",\"validation\":\"/opt/ml/input/data/validation\"},\"current_host\":\"algo-2\",\"framework_module\":\"sagemaker_xgboost_container.training:main\",\"hosts\":[\"algo-1\",\"algo-2\"],\"hyperparameters\":{\"eta\":\"0.2\",\"gamma\":\"4\",\"max_depth\":\"5\",\"min_child_weight\":\"6\",\"num_round\":\"50\",\"objective\":\"reg:linear\",\"subsample\":\"0.7\",\"verbose\":\"1\"},\"input_config_dir\":\"/opt/ml/input/config\",\"input_data_config\":{\"train\":{\"ContentType\":\"libsvm\",\"RecordWrapperType\":\"None\",\"S3DistributionType\":\"FullyReplicated\",\"TrainingInputMode\":\"File\"},\"validation\":{\"ContentType\":\"libsvm\",\"RecordWrapperType\":\"None\",\"S3DistributionType\":\"FullyReplicated\",\"TrainingInputMode\":\"File\"}},\"input_dir\":\"/opt/ml/input\",\"is_master\":false,\"job_name\":\"sagemaker-xgboost-2022-03-24-00-13-32-094\",\"log_level\":20,\"master_hostname\":\"algo-1\",\"model_dir\":\"/opt/ml/model\",\"module_dir\":\"s3://sagemaker-us-west-2-000000000000/sagemaker-xgboost-2022-03-24-00-13-32-094/source/sourcedir.tar.gz\",\"module_name\":\"abalone\",\"network_interface_name\":\"eth0\",\"num_cpus\":8,\"num_gpus\":0,\"output_data_dir\":\"/opt/ml/output/data\",\"output_dir\":\"/opt/ml/output\",\"output_intermediate_dir\":\"/opt/ml/output/intermediate\",\"resource_config\":{\"current_group_name\":\"homogeneousCluster\",\"current_host\":\"algo-2\",\"current_instance_type\":\"ml.m5.2xlarge\",\"hosts\":[\"algo-1\",\"algo-2\"],\"instance_groups\":[{\"hosts\":[\"algo-2\",\"algo-1\"],\"instance_group_name\":\"homogeneousCluster\",\"instance_type\":\"ml.m5.2xlarge\"}],\"network_interface_name\":\"eth0\"},\"user_entry_point\":\"abalone.py\"}\u001b[0m\n",
      "\u001b[35mSM_USER_ARGS=[\"--eta\",\"0.2\",\"--gamma\",\"4\",\"--max_depth\",\"5\",\"--min_child_weight\",\"6\",\"--num_round\",\"50\",\"--objective\",\"reg:linear\",\"--subsample\",\"0.7\",\"--verbose\",\"1\"]\u001b[0m\n",
      "\u001b[35mSM_OUTPUT_INTERMEDIATE_DIR=/opt/ml/output/intermediate\u001b[0m\n",
      "\u001b[35mSM_CHANNEL_TRAIN=/opt/ml/input/data/train\u001b[0m\n",
      "\u001b[35mSM_CHANNEL_VALIDATION=/opt/ml/input/data/validation\u001b[0m\n",
      "\u001b[35mSM_HP_ETA=0.2\u001b[0m\n",
      "\u001b[35mSM_HP_GAMMA=4\u001b[0m\n",
      "\u001b[35mSM_HP_MAX_DEPTH=5\u001b[0m\n",
      "\u001b[35mSM_HP_MIN_CHILD_WEIGHT=6\u001b[0m\n",
      "\u001b[35mSM_HP_NUM_ROUND=50\u001b[0m\n",
      "\u001b[35mSM_HP_OBJECTIVE=reg:linear\u001b[0m\n",
      "\u001b[35mSM_HP_SUBSAMPLE=0.7\u001b[0m\n",
      "\u001b[35mSM_HP_VERBOSE=1\u001b[0m\n",
      "\u001b[35mPYTHONPATH=/miniconda3/bin:/:/usr/local/lib/python3.7/dist-packages/xgboost/dmlc-core/tracker:/miniconda3/lib/python37.zip:/miniconda3/lib/python3.7:/miniconda3/lib/python3.7/lib-dynload:/miniconda3/lib/python3.7/site-packages\u001b[0m\n",
      "\u001b[35mInvoking script with the following command:\u001b[0m\n",
      "\u001b[35m/miniconda3/bin/python3 -m abalone --eta 0.2 --gamma 4 --max_depth 5 --min_child_weight 6 --num_round 50 --objective reg:linear --subsample 0.7 --verbose 1\u001b[0m\n",
      "\u001b[34mSuccessfully installed abalone-1.0.0\u001b[0m\n",
      "\u001b[34mINFO:sagemaker-containers:No GPUs detected (normal if no gpus installed)\u001b[0m\n",
      "\u001b[34mINFO:sagemaker-containers:Invoking user script\u001b[0m\n",
      "\u001b[34mTraining Env:\u001b[0m\n",
      "\u001b[34m{\n",
      "    \"additional_framework_parameters\": {},\n",
      "    \"channel_input_dirs\": {\n",
      "        \"train\": \"/opt/ml/input/data/train\",\n",
      "        \"validation\": \"/opt/ml/input/data/validation\"\n",
      "    },\n",
      "    \"current_host\": \"algo-1\",\n",
      "    \"framework_module\": \"sagemaker_xgboost_container.training:main\",\n",
      "    \"hosts\": [\n",
      "        \"algo-1\",\n",
      "        \"algo-2\"\n",
      "    ],\n",
      "    \"hyperparameters\": {\n",
      "        \"eta\": \"0.2\",\n",
      "        \"gamma\": \"4\",\n",
      "        \"max_depth\": \"5\",\n",
      "        \"min_child_weight\": \"6\",\n",
      "        \"num_round\": \"50\",\n",
      "        \"objective\": \"reg:linear\",\n",
      "        \"subsample\": \"0.7\",\n",
      "        \"verbose\": \"1\"\n",
      "    },\n",
      "    \"input_config_dir\": \"/opt/ml/input/config\",\n",
      "    \"input_data_config\": {\n",
      "        \"train\": {\n",
      "            \"ContentType\": \"libsvm\",\n",
      "            \"TrainingInputMode\": \"File\",\n",
      "            \"S3DistributionType\": \"FullyReplicated\",\n",
      "            \"RecordWrapperType\": \"None\"\n",
      "        },\n",
      "        \"validation\": {\n",
      "            \"ContentType\": \"libsvm\",\n",
      "            \"TrainingInputMode\": \"File\",\n",
      "            \"S3DistributionType\": \"FullyReplicated\",\n",
      "            \"RecordWrapperType\": \"None\"\n",
      "        }\n",
      "    },\n",
      "    \"input_dir\": \"/opt/ml/input\",\n",
      "    \"is_master\": true,\n",
      "    \"job_name\": \"sagemaker-xgboost-2022-03-24-00-13-32-094\",\n",
      "    \"log_level\": 20,\n",
      "    \"master_hostname\": \"algo-1\",\n",
      "    \"model_dir\": \"/opt/ml/model\",\n",
      "    \"module_dir\": \"s3://sagemaker-us-west-2-000000000000/sagemaker-xgboost-2022-03-24-00-13-32-094/source/sourcedir.tar.gz\",\n",
      "    \"module_name\": \"abalone\",\n",
      "    \"network_interface_name\": \"eth0\",\n",
      "    \"num_cpus\": 8,\n",
      "    \"num_gpus\": 0,\n",
      "    \"output_data_dir\": \"/opt/ml/output/data\",\n",
      "    \"output_dir\": \"/opt/ml/output\",\n",
      "    \"output_intermediate_dir\": \"/opt/ml/output/intermediate\",\n",
      "    \"resource_config\": {\n",
      "        \"current_host\": \"algo-1\",\n",
      "        \"current_instance_type\": \"ml.m5.2xlarge\",\n",
      "        \"current_group_name\": \"homogeneousCluster\",\n",
      "        \"hosts\": [\n",
      "            \"algo-1\",\n",
      "            \"algo-2\"\n",
      "        ],\n",
      "        \"instance_groups\": [\n",
      "            {\n",
      "                \"instance_group_name\": \"homogeneousCluster\",\n",
      "                \"instance_type\": \"ml.m5.2xlarge\",\n",
      "                \"hosts\": [\n",
      "                    \"algo-2\",\n",
      "                    \"algo-1\"\n",
      "                ]\n",
      "            }\n",
      "        ],\n",
      "        \"network_interface_name\": \"eth0\"\n",
      "    },\n",
      "    \"user_entry_point\": \"abalone.py\"\u001b[0m\n",
      "\u001b[34m}\u001b[0m\n",
      "\u001b[34mEnvironment variables:\u001b[0m\n",
      "\u001b[34mSM_HOSTS=[\"algo-1\",\"algo-2\"]\u001b[0m\n",
      "\u001b[34mSM_NETWORK_INTERFACE_NAME=eth0\u001b[0m\n",
      "\u001b[34mSM_HPS={\"eta\":\"0.2\",\"gamma\":\"4\",\"max_depth\":\"5\",\"min_child_weight\":\"6\",\"num_round\":\"50\",\"objective\":\"reg:linear\",\"subsample\":\"0.7\",\"verbose\":\"1\"}\u001b[0m\n",
      "\u001b[34mSM_USER_ENTRY_POINT=abalone.py\u001b[0m\n",
      "\u001b[34mSM_FRAMEWORK_PARAMS={}\u001b[0m\n",
      "\u001b[34mSM_RESOURCE_CONFIG={\"current_group_name\":\"homogeneousCluster\",\"current_host\":\"algo-1\",\"current_instance_type\":\"ml.m5.2xlarge\",\"hosts\":[\"algo-1\",\"algo-2\"],\"instance_groups\":[{\"hosts\":[\"algo-2\",\"algo-1\"],\"instance_group_name\":\"homogeneousCluster\",\"instance_type\":\"ml.m5.2xlarge\"}],\"network_interface_name\":\"eth0\"}\u001b[0m\n",
      "\u001b[34mSM_INPUT_DATA_CONFIG={\"train\":{\"ContentType\":\"libsvm\",\"RecordWrapperType\":\"None\",\"S3DistributionType\":\"FullyReplicated\",\"TrainingInputMode\":\"File\"},\"validation\":{\"ContentType\":\"libsvm\",\"RecordWrapperType\":\"None\",\"S3DistributionType\":\"FullyReplicated\",\"TrainingInputMode\":\"File\"}}\u001b[0m\n",
      "\u001b[34mSM_OUTPUT_DATA_DIR=/opt/ml/output/data\u001b[0m\n",
      "\u001b[34mSM_CHANNELS=[\"train\",\"validation\"]\u001b[0m\n",
      "\u001b[34mSM_CURRENT_HOST=algo-1\u001b[0m\n",
      "\u001b[34mSM_MODULE_NAME=abalone\u001b[0m\n",
      "\u001b[34mSM_LOG_LEVEL=20\u001b[0m\n",
      "\u001b[34mSM_FRAMEWORK_MODULE=sagemaker_xgboost_container.training:main\u001b[0m\n",
      "\u001b[34mSM_INPUT_DIR=/opt/ml/input\u001b[0m\n",
      "\u001b[34mSM_INPUT_CONFIG_DIR=/opt/ml/input/config\u001b[0m\n",
      "\u001b[34mSM_OUTPUT_DIR=/opt/ml/output\u001b[0m\n",
      "\u001b[34mSM_NUM_CPUS=8\u001b[0m\n",
      "\u001b[34mSM_NUM_GPUS=0\u001b[0m\n",
      "\u001b[34mSM_MODEL_DIR=/opt/ml/model\u001b[0m\n",
      "\u001b[34mSM_MODULE_DIR=s3://sagemaker-us-west-2-000000000000/sagemaker-xgboost-2022-03-24-00-13-32-094/source/sourcedir.tar.gz\u001b[0m\n",
      "\u001b[34mSM_TRAINING_ENV={\"additional_framework_parameters\":{},\"channel_input_dirs\":{\"train\":\"/opt/ml/input/data/train\",\"validation\":\"/opt/ml/input/data/validation\"},\"current_host\":\"algo-1\",\"framework_module\":\"sagemaker_xgboost_container.training:main\",\"hosts\":[\"algo-1\",\"algo-2\"],\"hyperparameters\":{\"eta\":\"0.2\",\"gamma\":\"4\",\"max_depth\":\"5\",\"min_child_weight\":\"6\",\"num_round\":\"50\",\"objective\":\"reg:linear\",\"subsample\":\"0.7\",\"verbose\":\"1\"},\"input_config_dir\":\"/opt/ml/input/config\",\"input_data_config\":{\"train\":{\"ContentType\":\"libsvm\",\"RecordWrapperType\":\"None\",\"S3DistributionType\":\"FullyReplicated\",\"TrainingInputMode\":\"File\"},\"validation\":{\"ContentType\":\"libsvm\",\"RecordWrapperType\":\"None\",\"S3DistributionType\":\"FullyReplicated\",\"TrainingInputMode\":\"File\"}},\"input_dir\":\"/opt/ml/input\",\"is_master\":true,\"job_name\":\"sagemaker-xgboost-2022-03-24-00-13-32-094\",\"log_level\":20,\"master_hostname\":\"algo-1\",\"model_dir\":\"/opt/ml/model\",\"module_dir\":\"s3://sagemaker-us-west-2-000000000000/sagemaker-xgboost-2022-03-24-00-13-32-094/source/sourcedir.tar.gz\",\"module_name\":\"abalone\",\"network_interface_name\":\"eth0\",\"num_cpus\":8,\"num_gpus\":0,\"output_data_dir\":\"/opt/ml/output/data\",\"output_dir\":\"/opt/ml/output\",\"output_intermediate_dir\":\"/opt/ml/output/intermediate\",\"resource_config\":{\"current_group_name\":\"homogeneousCluster\",\"current_host\":\"algo-1\",\"current_instance_type\":\"ml.m5.2xlarge\",\"hosts\":[\"algo-1\",\"algo-2\"],\"instance_groups\":[{\"hosts\":[\"algo-2\",\"algo-1\"],\"instance_group_name\":\"homogeneousCluster\",\"instance_type\":\"ml.m5.2xlarge\"}],\"network_interface_name\":\"eth0\"},\"user_entry_point\":\"abalone.py\"}\u001b[0m\n",
      "\u001b[34mSM_USER_ARGS=[\"--eta\",\"0.2\",\"--gamma\",\"4\",\"--max_depth\",\"5\",\"--min_child_weight\",\"6\",\"--num_round\",\"50\",\"--objective\",\"reg:linear\",\"--subsample\",\"0.7\",\"--verbose\",\"1\"]\u001b[0m\n",
      "\u001b[34mSM_OUTPUT_INTERMEDIATE_DIR=/opt/ml/output/intermediate\u001b[0m\n",
      "\u001b[34mSM_CHANNEL_TRAIN=/opt/ml/input/data/train\u001b[0m\n",
      "\u001b[34mSM_CHANNEL_VALIDATION=/opt/ml/input/data/validation\u001b[0m\n",
      "\u001b[34mSM_HP_ETA=0.2\u001b[0m\n",
      "\u001b[34mSM_HP_GAMMA=4\u001b[0m\n",
      "\u001b[34mSM_HP_MAX_DEPTH=5\u001b[0m\n",
      "\u001b[34mSM_HP_MIN_CHILD_WEIGHT=6\u001b[0m\n",
      "\u001b[34mSM_HP_NUM_ROUND=50\u001b[0m\n",
      "\u001b[34mSM_HP_OBJECTIVE=reg:linear\u001b[0m\n",
      "\u001b[34mSM_HP_SUBSAMPLE=0.7\u001b[0m\n",
      "\u001b[34mSM_HP_VERBOSE=1\u001b[0m\n",
      "\u001b[34mPYTHONPATH=/miniconda3/bin:/:/usr/local/lib/python3.7/dist-packages/xgboost/dmlc-core/tracker:/miniconda3/lib/python37.zip:/miniconda3/lib/python3.7:/miniconda3/lib/python3.7/lib-dynload:/miniconda3/lib/python3.7/site-packages\u001b[0m\n",
      "\u001b[34mInvoking script with the following command:\u001b[0m\n",
      "\u001b[34m/miniconda3/bin/python3 -m abalone --eta 0.2 --gamma 4 --max_depth 5 --min_child_weight 6 --num_round 50 --objective reg:linear --subsample 0.7 --verbose 1\u001b[0m\n",
      "\u001b[35m[00:16:05] 2922x9 matrix with 23376 entries loaded from /opt/ml/input/data/train\u001b[0m\n",
      "\u001b[35m[00:16:05] 625x9 matrix with 5008 entries loaded from /opt/ml/input/data/validation\u001b[0m\n"
     ]
    },
    {
     "name": "stdout",
     "output_type": "stream",
     "text": [
      "\u001b[34m[00:16:05] 2922x9 matrix with 23376 entries loaded from /opt/ml/input/data/train\u001b[0m\n",
      "\u001b[34m[00:16:05] 625x9 matrix with 5008 entries loaded from /opt/ml/input/data/validation\u001b[0m\n"
     ]
    },
    {
     "name": "stdout",
     "output_type": "stream",
     "text": [
      "\u001b[34m[00:16:11] WARNING: /workspace/src/objective/regression_obj.cu:152: reg:linear is now deprecated in favor of reg:squarederror.\u001b[0m\n",
      "\u001b[34m[00:16:11] WARNING: /workspace/src/learner.cc:622: Tree method is automatically selected to be 'approx' for distributed training.\u001b[0m\n",
      "\u001b[34m[00:16:11] Tree method is automatically selected to be 'approx' for distributed training.\u001b[0m\n",
      "\u001b[35m[00:16:11] WARNING: /workspace/src/objective/regression_obj.cu:152: reg:linear is now deprecated in favor of reg:squarederror.\u001b[0m\n",
      "\u001b[35m[00:16:11] WARNING: /workspace/src/learner.cc:622: Tree method is automatically selected to be 'approx' for distributed training.\u001b[0m\n",
      "\u001b[35m[00:16:11] Tree method is automatically selected to be 'approx' for distributed training.\u001b[0m\n"
     ]
    },
    {
     "name": "stdout",
     "output_type": "stream",
     "text": [
      "\n",
      "2022-03-24 00:16:40 Uploading - Uploading generated training model\n",
      "2022-03-24 00:16:40 Completed - Training job completed\n"
     ]
    },
    {
     "name": "stdout",
     "output_type": "stream",
     "text": [
      "Training seconds: 186\n",
      "Billable seconds: 186\n"
     ]
    }
   ],
   "source": [
    "xgb_script_mode_estimator.fit({\"train\": train_input, \"validation\": validation_input})"
   ]
  },
  {
   "cell_type": "markdown",
   "id": "a64af8ad",
   "metadata": {
    "papermill": {
     "duration": 0.017106,
     "end_time": "2022-03-24T00:16:59.175408",
     "exception": false,
     "start_time": "2022-03-24T00:16:59.158302",
     "status": "completed"
    },
    "tags": []
   },
   "source": [
    "## Deploying the XGBoost model\n",
    "\n",
    "After training, we can use the estimator to create an Amazon SageMaker endpoint – a hosted and managed prediction service that we can use to perform inference.\n",
    "\n",
    "You can also optionally specify other functions to customize the behavior of deserialization of the input request (`input_fn()`), serialization of the predictions (`output_fn()`), and how predictions are made (`predict_fn()`). The defaults work for our current use-case so we don’t need to define them."
   ]
  },
  {
   "cell_type": "code",
   "execution_count": 10,
   "id": "5e529ca2",
   "metadata": {
    "execution": {
     "iopub.execute_input": "2022-03-24T00:16:59.214116Z",
     "iopub.status.busy": "2022-03-24T00:16:59.213615Z",
     "iopub.status.idle": "2022-03-24T00:19:30.685759Z",
     "shell.execute_reply": "2022-03-24T00:19:30.686148Z"
    },
    "papermill": {
     "duration": 151.494007,
     "end_time": "2022-03-24T00:19:30.686281",
     "exception": false,
     "start_time": "2022-03-24T00:16:59.192274",
     "status": "completed"
    },
    "tags": []
   },
   "outputs": [
    {
     "name": "stdout",
     "output_type": "stream",
     "text": [
      "-"
     ]
    },
    {
     "name": "stdout",
     "output_type": "stream",
     "text": [
      "-"
     ]
    },
    {
     "name": "stdout",
     "output_type": "stream",
     "text": [
      "-"
     ]
    },
    {
     "name": "stdout",
     "output_type": "stream",
     "text": [
      "-"
     ]
    },
    {
     "name": "stdout",
     "output_type": "stream",
     "text": [
      "-"
     ]
    },
    {
     "name": "stdout",
     "output_type": "stream",
     "text": [
      "!"
     ]
    }
   ],
   "source": [
    "from sagemaker.serializers import CSVSerializer\n",
    "\n",
    "predictor = xgb_script_mode_estimator.deploy(\n",
    "    initial_instance_count=1, instance_type=\"ml.m5.2xlarge\", serializer=CSVSerializer()\n",
    ")"
   ]
  },
  {
   "cell_type": "code",
   "execution_count": 11,
   "id": "372e14f9",
   "metadata": {
    "execution": {
     "iopub.execute_input": "2022-03-24T00:19:30.726482Z",
     "iopub.status.busy": "2022-03-24T00:19:30.725931Z",
     "iopub.status.idle": "2022-03-24T00:19:30.728062Z",
     "shell.execute_reply": "2022-03-24T00:19:30.728433Z"
    },
    "papermill": {
     "duration": 0.024033,
     "end_time": "2022-03-24T00:19:30.728577",
     "exception": false,
     "start_time": "2022-03-24T00:19:30.704544",
     "status": "completed"
    },
    "tags": []
   },
   "outputs": [],
   "source": [
    "test_file = DATA_DIR + \"/\" + FILE_TEST\n",
    "with open(test_file, \"r\") as f:\n",
    "    payload = f.read()"
   ]
  },
  {
   "cell_type": "code",
   "execution_count": 12,
   "id": "b3eabb97",
   "metadata": {
    "execution": {
     "iopub.execute_input": "2022-03-24T00:19:30.771745Z",
     "iopub.status.busy": "2022-03-24T00:19:30.771241Z",
     "iopub.status.idle": "2022-03-24T00:19:30.972319Z",
     "shell.execute_reply": "2022-03-24T00:19:30.972730Z"
    },
    "papermill": {
     "duration": 0.226091,
     "end_time": "2022-03-24T00:19:30.972866",
     "exception": false,
     "start_time": "2022-03-24T00:19:30.746775",
     "status": "completed"
    },
    "tags": []
   },
   "outputs": [
    {
     "name": "stderr",
     "output_type": "stream",
     "text": [
      "The endpoint attribute has been renamed in sagemaker>=2.\n",
      "See: https://sagemaker.readthedocs.io/en/stable/v2.html for details.\n"
     ]
    },
    {
     "name": "stdout",
     "output_type": "stream",
     "text": [
      "Predicted values are [16.51459312438965, 8.94522476196289, 11.345230102539062, 10.07909107208252, 14.330327987670898, 11.878378868103027, 17.998044967651367, 10.183838844299316, 13.421988487243652, 6.578464508056641, 12.417393684387207, 6.32320499420166, 11.873711585998535, 11.375288963317871, 10.329444885253906, 12.530217170715332, 9.243327140808105, 11.902327537536621, 10.057852745056152, 12.510416984558105, 11.694677352905273, 13.344228744506836, 13.447901725769043, 9.0128173828125, 10.402472496032715, 8.47518539428711, 11.436905860900879, 7.894322395324707, 10.294539451599121, 9.56013298034668, 10.345785140991211, 12.449898719787598, 8.702895164489746, 10.542808532714844, 9.19074821472168, 11.776564598083496, 10.89884090423584, 8.207826614379883, 10.244536399841309, 9.792533874511719, 13.804726600646973, 7.8763203620910645, 7.77767276763916, 11.477153778076172, 11.184721946716309, 10.872374534606934, 9.612945556640625, 11.605744361877441, 8.98073959350586, 14.163334846496582, 10.256519317626953, 9.125629425048828, 10.471531867980957, 8.5376558303833, 7.736250877380371, 9.589780807495117, 10.639991760253906, 9.084699630737305, 9.671013832092285, 9.405352592468262, 7.461956977844238, 9.33615493774414, 9.011924743652344, 8.438404083251953, 11.030647277832031, 8.912210464477539, 13.47881031036377, 7.429405212402344, 9.17772388458252, 12.703058242797852, 7.823543071746826, 11.240129470825195, 7.58980131149292, 10.710020065307617, 4.022804260253906, 7.388794898986816, 10.25441837310791, 12.621997833251953, 11.35215950012207, 7.80542516708374, 8.975077629089355, 17.236604690551758, 11.364889144897461, 12.486352920532227, 9.011829376220703, 5.103671550750732, 17.104772567749023, 8.881521224975586, 9.29959774017334, 9.60850715637207, 9.800860404968262, 7.532059669494629, 10.762481689453125, 6.5571136474609375, 11.090327262878418, 10.437847137451172, 14.253210067749023, 8.78887939453125, 10.637493133544922, 4.4846601486206055, 6.409164905548096, 11.511957168579102, 9.727486610412598, 8.884188652038574, 9.728625297546387, 10.649870872497559, 8.744513511657715, 10.245596885681152, 5.550666332244873, 7.3369903564453125, 4.9954352378845215, 8.743813514709473, 13.616168022155762, 9.206802368164062, 14.428455352783203, 10.47410774230957, 8.597784996032715, 10.664386749267578, 10.46786117553711, 7.194737434387207, 9.120157241821289, 5.274383068084717, 9.908437728881836, 7.572561264038086, 10.248605728149414, 12.049285888671875, 10.262088775634766, 19.420066833496094, 7.316298961639404, 14.403349876403809, 9.73987865447998, 10.058293342590332, 9.371087074279785, 10.279769897460938, 8.891316413879395, 8.192232131958008, 8.924184799194336, 17.628726959228516, 9.765971183776855, 12.20023250579834, 23.985702514648438, 11.223520278930664, 9.859987258911133, 9.954510688781738, 14.87623119354248, 9.07277774810791, 15.72844123840332, 10.18600082397461, 13.365243911743164, 7.49295711517334, 10.81187629699707, 8.363971710205078, 11.94981575012207, 9.026094436645508, 7.582644939422607, 8.310134887695312, 6.46618127822876, 9.531431198120117, 9.456644058227539, 10.427515983581543, 7.581953525543213, 9.90029239654541, 11.762572288513184, 9.40067195892334, 9.287439346313477, 9.242271423339844, 7.896949768066406, 10.391865730285645, 9.015475273132324, 10.3843412399292, 8.75278377532959, 15.291485786437988, 8.640435218811035, 10.548102378845215, 12.498023986816406, 9.650012969970703, 11.075312614440918, 7.8568243980407715, 11.627033233642578, 11.857458114624023, 9.614191055297852, 10.196365356445312, 8.99417781829834, 10.32602310180664, 7.671535968780518, 5.103671550750732, 10.56624984741211, 9.473101615905762, 11.370889663696289, 9.224339485168457, 8.761762619018555, 8.554851531982422, 18.831262588500977, 5.781045436859131, 9.16197681427002, 7.879519462585449, 8.12360668182373, 8.12360668182373, 6.927335739135742, 10.503154754638672, 10.292054176330566, 8.653124809265137, 8.942224502563477, 10.181538581848145, 11.740032196044922, 10.74658203125, 13.361479759216309, 8.208810806274414, 13.832137107849121, 11.763474464416504, 8.20782470703125, 11.003384590148926, 10.350619316101074, 4.875057697296143, 9.985472679138184, 10.81491756439209, 7.888530254364014, 9.407026290893555, 9.79590129852295, 10.25155258178711, 4.273453712463379, 9.699162483215332, 8.119140625, 10.999253273010254, 12.13132381439209, 6.927335739135742, 11.081307411193848, 7.168188571929932, 6.9477996826171875, 9.86645793914795, 9.021371841430664, 13.440879821777344, 8.306452751159668, 10.1318998336792, 11.068700790405273, 10.813183784484863, 7.847599506378174, 10.355841636657715, 8.94239616394043, 20.529394149780273, 9.285112380981445, 9.385470390319824, 7.523237228393555, 9.444509506225586, 9.471724510192871, 9.0167236328125, 10.978580474853516, 10.871533393859863, 5.943328380584717, 6.383387088775635, 6.79489278793335, 10.86840534210205, 8.168384552001953, 5.639047145843506, 6.4865031242370605, 9.57086181640625, 9.321962356567383, 8.785351753234863, 9.494270324707031, 6.9477996826171875, 9.982414245605469, 9.141432762145996, 14.916108131408691, 7.947850704193115, 9.586742401123047, 8.712085723876953, 10.858508110046387, 12.75462818145752, 4.872384071350098, 11.613399505615234, 8.559425354003906, 13.423608779907227, 9.157222747802734, 9.412100791931152, 14.221999168395996, 8.966609001159668, 10.175877571105957, 10.151435852050781, 10.702523231506348, 9.613895416259766, 10.077763557434082, 10.917304039001465, 8.737143516540527, 7.7141218185424805, 9.60692024230957, 11.61349868774414, 9.204026222229004, 4.504741191864014, 8.633843421936035, 9.935110092163086, 6.634276866912842, 9.888721466064453, 6.634276866912842, 5.152181148529053, 15.071239471435547, 10.495326042175293, 9.33287239074707, 10.486080169677734, 8.725564002990723, 7.829014301300049, 9.73928451538086, 10.484065055847168, 8.728002548217773, 7.572561264038086, 8.185491561889648, 11.673914909362793, 7.605774402618408, 11.813119888305664, 9.799436569213867, 11.493733406066895, 9.853282928466797, 9.675081253051758, 7.532059669494629, 10.539119720458984, 6.061132431030273, 5.285933971405029, 7.785395622253418, 8.833098411560059, 6.343526840209961, 8.944958686828613, 7.069300651550293, 7.892583847045898, 8.865141868591309, 8.420158386230469, 6.798890113830566, 5.274383068084717, 9.087061882019043, 11.390585899353027, 10.39002799987793, 14.771280288696289, 6.443796157836914, 4.022804260253906, 9.750207901000977, 7.566372394561768, 14.98470401763916, 7.274627208709717, 5.569377899169922, 15.31724739074707, 4.693890571594238, 11.099481582641602, 9.254544258117676, 9.856881141662598, 7.0044989585876465, 10.341144561767578, 8.40458869934082, 8.042905807495117, 8.552512168884277, 10.64233112335205, 6.179531574249268, 4.873103618621826, 10.107817649841309, 6.759418487548828, 6.399127006530762, 9.943842887878418, 7.485879421234131, 8.609673500061035, 8.413802146911621, 8.175256729125977, 7.0044989585876465, 11.842525482177734, 7.595198154449463, 9.687613487243652, 12.62393856048584, 11.946742057800293, 6.840716361999512, 10.772924423217773, 9.54322624206543, 9.571905136108398, 14.705144882202148, 12.1644868850708, 10.049751281738281, 6.6055450439453125, 13.285972595214844, 8.031310081481934, 8.953449249267578, 9.94594669342041, 11.957221984863281, 10.675552368164062, 10.46827220916748, 19.103836059570312, 9.976130485534668, 11.042564392089844, 10.014005661010742, 8.765579223632812, 9.60595703125, 7.629387855529785, 11.413727760314941, 18.723955154418945, 4.022804260253906, 10.735686302185059, 9.849278450012207, 12.533638000488281, 10.802331924438477, 9.341694831848145, 9.183834075927734, 7.874190807342529, 9.863106727600098, 13.253925323486328, 11.651575088500977, 12.798177719116211, 12.417305946350098, 8.85476303100586, 9.780576705932617, 9.361523628234863, 7.605893611907959, 10.78564453125, 10.356974601745605, 7.327874183654785, 9.132550239562988, 11.262595176696777, 10.040410041809082, 10.408090591430664, 5.274383068084717, 13.691110610961914, 6.588995933532715, 9.002096176147461, 9.036523818969727, 8.706283569335938, 6.741278171539307, 10.403303146362305, 9.48450756072998, 12.369697570800781, 8.329767227172852, 12.68652057647705, 12.24140453338623, 11.155871391296387, 8.084789276123047, 8.753216743469238, 8.837377548217773, 10.236837387084961, 9.208534240722656, 7.84513521194458, 10.831345558166504, 10.818511962890625, 8.552120208740234, 10.533892631530762, 10.284516334533691, 7.921573638916016, 10.135726928710938, 9.816341400146484, 11.799725532531738, 8.60623836517334, 12.172065734863281, 9.12959098815918, 7.429405212402344, 13.584260940551758, 10.709973335266113, 11.658894538879395, 11.168774604797363, 9.807665824890137, 7.63741397857666, 10.280905723571777, 10.105498313903809, 9.258622169494629, 12.42024040222168, 9.826192855834961, 14.222147941589355, 11.04772663116455, 14.386578559875488, 11.723163604736328, 11.86060905456543, 10.42248821258545, 8.294034957885742, 9.872703552246094, 10.19726276397705, 13.159721374511719, 8.152973175048828, 10.132217407226562, 9.407977104187012, 11.040472030639648, 7.794078826904297, 7.2010273933410645, 8.856959342956543, 12.542924880981445, 6.0736894607543945, 9.827856063842773, 10.440821647644043, 12.729836463928223, 12.561651229858398, 10.809928894042969, 11.562174797058105, 9.774480819702148, 11.853279113769531, 7.7141218185424805, 11.844871520996094, 4.273453712463379, 7.2016520500183105, 9.270591735839844, 7.875948905944824, 12.247791290283203, 8.029512405395508, 13.101455688476562, 12.061596870422363, 6.527827262878418, 6.824664115905762, 9.845246315002441, 12.520586967468262, 11.077920913696289, 12.698234558105469, 9.87661361694336, 10.251980781555176, 7.9492621421813965, 7.989977836608887, 9.110950469970703, 11.08594036102295, 13.050983428955078, 12.123175621032715, 10.497435569763184, 9.827220916748047, 8.00135326385498, 13.969683647155762, 9.663814544677734, 6.634276866912842, 10.637299537658691, 10.91551685333252, 6.634276866912842, 11.813082695007324, 9.987598419189453, 8.507779121398926, 8.912210464477539, 8.36715030670166, 6.927335739135742, 10.789191246032715, 10.227683067321777, 10.884650230407715, 10.76140022277832, 8.080717086791992, 8.410805702209473, 9.636954307556152, 11.660441398620605, 11.949063301086426, 14.455138206481934, 12.375128746032715, 9.93407917022705, 4.254091262817383, 12.465163230895996, 18.394336700439453, 9.436251640319824, 7.576605319976807, 9.94679069519043, 13.368961334228516, 15.427165985107422, 10.11069393157959, 10.384980201721191, 12.988994598388672, 11.535078048706055, 6.774073123931885, 10.480233192443848, 10.055970191955566, 10.601369857788086, 12.802082061767578, 10.118474006652832, 9.297528266906738, 7.629441261291504, 6.343526840209961, 14.765861511230469, 5.761524200439453, 7.722628593444824, 8.711808204650879, 10.444388389587402, 11.584053039550781, 12.40575122833252, 11.149824142456055, 4.022804260253906, 14.65353012084961, 7.492543697357178, 10.19405746459961, 9.839820861816406, 12.105382919311523, 11.66660213470459, 10.752934455871582, 10.1517972946167, 10.925919532775879, 8.631296157836914, 7.469606876373291, 12.81561279296875, 9.450671195983887, 5.468336582183838, 10.456701278686523, 8.824772834777832, 9.652310371398926, 7.318022727966309, 10.095173835754395, 9.710553169250488, 6.927335739135742, 11.117006301879883, 7.558807849884033, 15.349481582641602, 8.967867851257324, 13.394444465637207, 6.666159152984619, 13.518403053283691, 14.47726821899414, 18.61005973815918, 9.71158218383789, 9.380023956298828, 12.933445930480957, 9.997468948364258, 13.13290786743164, 11.50183391571045, 12.734640121459961, 11.728647232055664, 9.529895782470703, 9.846373558044434, 9.789909362792969, 11.941250801086426, 12.575423240661621, 6.9477996826171875, 9.070572853088379, 10.958582878112793, 17.44873809814453, 10.704010009765625, 6.634276866912842, 6.297780990600586, 5.715848445892334, 7.885663032531738, 12.50670051574707, 5.978802680969238, 4.505568981170654, 10.557696342468262, 11.171418190002441, 10.805448532104492, 11.329744338989258, 11.122418403625488, 13.419011116027832, 6.588995933532715].\n"
     ]
    }
   ],
   "source": [
    "runtime_client = boto3.client(\"runtime.sagemaker\", region_name=region)\n",
    "response = runtime_client.invoke_endpoint(\n",
    "    EndpointName=predictor.endpoint, ContentType=\"text/x-libsvm\", Body=payload\n",
    ")\n",
    "result = response[\"Body\"].read().decode(\"ascii\")\n",
    "print(\"Predicted values are {}.\".format(result))"
   ]
  },
  {
   "cell_type": "markdown",
   "id": "92fb9d6b",
   "metadata": {
    "papermill": {
     "duration": 0.019053,
     "end_time": "2022-03-24T00:19:31.011063",
     "exception": false,
     "start_time": "2022-03-24T00:19:30.992010",
     "status": "completed"
    },
    "tags": []
   },
   "source": [
    "### (Optional) Delete the Endpoint\n",
    "\n",
    "If you're done with this exercise, please run the delete_endpoint line in the cell below.  This will remove the hosted endpoint and avoid any charges from a stray instance being left on."
   ]
  },
  {
   "cell_type": "code",
   "execution_count": 13,
   "id": "ea3362f7",
   "metadata": {
    "execution": {
     "iopub.execute_input": "2022-03-24T00:19:31.053253Z",
     "iopub.status.busy": "2022-03-24T00:19:31.052744Z",
     "iopub.status.idle": "2022-03-24T00:19:31.378500Z",
     "shell.execute_reply": "2022-03-24T00:19:31.377955Z"
    },
    "papermill": {
     "duration": 0.34874,
     "end_time": "2022-03-24T00:19:31.378611",
     "exception": false,
     "start_time": "2022-03-24T00:19:31.029871",
     "status": "completed"
    },
    "tags": []
   },
   "outputs": [],
   "source": [
    "predictor.delete_model()\n",
    "predictor.delete_endpoint()"
   ]
  },
  {
   "cell_type": "code",
   "execution_count": null,
   "id": "a001fcd8",
   "metadata": {
    "papermill": {
     "duration": 0.018954,
     "end_time": "2022-03-24T00:19:31.416914",
     "exception": false,
     "start_time": "2022-03-24T00:19:31.397960",
     "status": "completed"
    },
    "tags": []
   },
   "outputs": [],
   "source": []
  }
 ],
 "metadata": {
  "anaconda-cloud": {},
  "instance_type": "ml.t3.medium",
  "kernelspec": {
   "display_name": "Python 3 (Data Science)",
   "language": "python",
   "name": "python3__SAGEMAKER_INTERNAL__arn:aws:sagemaker:us-east-1:000000000000:image/datascience-1.0"
  },
  "language_info": {
   "codemirror_mode": {
    "name": "ipython",
    "version": 3
   },
   "file_extension": ".py",
   "mimetype": "text/x-python",
   "name": "python",
   "nbconvert_exporter": "python",
   "pygments_lexer": "ipython3",
   "version": "3.7.10"
  },
  "papermill": {
   "default_parameters": {},
   "duration": 364.819975,
   "end_time": "2022-03-24T00:19:31.851784",
   "environment_variables": {},
   "exception": null,
   "input_path": "xgboost_abalone_dist_script_mode.ipynb",
   "output_path": "/opt/ml/processing/output/xgboost_abalone_dist_script_mode-2022-03-24-00-08-44.ipynb",
   "parameters": {
    "kms_key": "arn:aws:kms:us-west-2:000000000000:1234abcd-12ab-34cd-56ef-1234567890ab"
   },
   "start_time": "2022-03-24T00:13:27.031809",
   "version": "2.3.4"
  }
 },
 "nbformat": 4,
 "nbformat_minor": 5
}