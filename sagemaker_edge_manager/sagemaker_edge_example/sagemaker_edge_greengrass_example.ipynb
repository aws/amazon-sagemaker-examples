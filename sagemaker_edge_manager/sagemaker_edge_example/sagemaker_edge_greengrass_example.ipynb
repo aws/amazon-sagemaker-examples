{
 "cells": [
  {
   "cell_type": "markdown",
   "source": [
    "# SageMaker Edge Manager Example"
   ],
   "metadata": {}
  },
  {
   "cell_type": "markdown",
   "source": [
    "## Introduction\n",
    "\n",
    "SageMaker Edge Manager is a service from Amazon SageMaker that lets you:\n",
    "\n",
    "+ prepare custom models for edge device hardware\n",
    "+ include a runtime for running machine learning inference efficiently on edge devices\n",
    "+ enable the device to send samples of data from each model securely to SageMaker for relabeling and retraining.\n",
    "\n",
    "There are two main components to this service:\n",
    "+ SageMaker Edge Manager in the Cloud \n",
    "+ SageMaker Edge Agent on the Edge device\n",
    "\n",
    "This notebook demonstrates the end-to-end workflow for getting a running SageMaker Edge on the edge device. This will involve the following steps:\n",
    "\n",
    "+ Compile the model using SageMaker Neo\n",
    "+ Package the compiled model with SageMaker Edge Manager\n",
    "+ Deploy with SageMaker Edge Manager Agent\n",
    "+ Run inference with the model\n",
    "+ Capture model's input and output data to S3\n",
    "\n",
    "**Note**:\n",
    "Typically, the SageMaker Edge Agent is run on an Edge device. For the sake of this notebook, we will run the Agent on an EC2 instance. We show how to package the compiled model and then load it to the Agent on the Edge Device to make predictions with. Finally, we show how to capture model's input and output to S3 via the Agent.\n",
    "\n",
    " When you run this notebook, choose the kernel: `conda_tensorflow_p36` if you are using a notebook instance or `Python 3 (TensorFlow 1.15 Python 3.6 CPU Optimized)` if you are using SageMaker Studio."
   ],
   "metadata": {}
  },
  {
   "cell_type": "markdown",
   "source": [
    "**Please note**: There are pricing implications to the use of this notebook. Please refer to [Edge Manager](https://aws.amazon.com/sagemaker/edge-manager/pricing) for more information."
   ],
   "metadata": {}
  },
  {
   "cell_type": "markdown",
   "source": [
    "## Demo Setup"
   ],
   "metadata": {}
  },
  {
   "cell_type": "markdown",
   "source": [
    "We need an AWS account role with SageMaker access. This role is used to give SageMaker access to S3, launch an EC2 instance and create components and deployments in Greengrass."
   ],
   "metadata": {}
  },
  {
   "cell_type": "code",
   "execution_count": null,
   "source": [
    "import sagemaker\n",
    "from sagemaker import get_execution_role\n",
    "import boto3\n",
    "import botocore\n",
    "import json\n",
    "\n",
    "role = get_execution_role()\n",
    "sess = sagemaker.Session()\n",
    "region = boto3.Session().region_name"
   ],
   "outputs": [],
   "metadata": {}
  },
  {
   "cell_type": "code",
   "execution_count": null,
   "source": [
    "print(role)"
   ],
   "outputs": [],
   "metadata": {}
  },
  {
   "cell_type": "markdown",
   "source": [
    "Locate the above printed sagemaker role from [IAM console](https://console.aws.amazon.com/iam), find and attach the following policies to role:\n",
    "\n",
    "- AmazonEC2FullAccess \n",
    "- AmazonEC2RoleforSSM \n",
    "- AmazonSSMManagedInstanceCore \n",
    "- AmazonSSMFullAccess \n",
    "- AWSGreengrassFullAccess\n",
    "- AWSIoTFullAccess \n",
    "\n",
    "You can find more information about how to attach policies to role [here](https://docs.aws.amazon.com/IAM/latest/UserGuide/access_policies_manage-attach-detach.html#add-policies-console).\n",
    "\n",
    "**If you try this example with a real device, only attach AWSIoTFullAccess to create certificates on AWS IoT.**"
   ],
   "metadata": {}
  },
  {
   "cell_type": "markdown",
   "source": [
    "We then need an S3 bucket that would be used for storing the model artifacts generated after compilation and packaged artifacts generated after edge packaging job."
   ],
   "metadata": {}
  },
  {
   "cell_type": "code",
   "execution_count": null,
   "source": [
    "# S3 bucket and folders for saving model artifacts.\n",
    "# Feel free to specify different bucket/folders here if you wish.\n",
    "bucket = sess.default_bucket()\n",
    "folder = \"DEMO-Sagemaker-Edge\"\n",
    "compilation_output_sub_folder = folder + \"/compilation-output\"\n",
    "iot_folder = folder + \"/iot\"\n",
    "\n",
    "# S3 Location to save the model artifact after compilation\n",
    "s3_compilation_output_location = \"s3://{}/{}\".format(bucket, compilation_output_sub_folder)"
   ],
   "outputs": [],
   "metadata": {}
  },
  {
   "cell_type": "markdown",
   "source": [
    "Finally, we upload the test image to S3 bucket. This image will be used in inference later."
   ],
   "metadata": {}
  },
  {
   "cell_type": "code",
   "execution_count": null,
   "source": [
    "keras_img_path = sess.upload_data(\"keras.bmp\", bucket, iot_folder)"
   ],
   "outputs": [],
   "metadata": {}
  },
  {
   "cell_type": "markdown",
   "source": [
    "### Launch EC2 Instance"
   ],
   "metadata": {}
  },
  {
   "cell_type": "markdown",
   "source": [
    "As mentioned earlier, this EC2 instance is used in place of an Edge device for running the agent software."
   ],
   "metadata": {}
  },
  {
   "cell_type": "code",
   "execution_count": null,
   "source": [
    "ec2_client = boto3.client(\"ec2\", region_name=region)"
   ],
   "outputs": [],
   "metadata": {}
  },
  {
   "cell_type": "markdown",
   "source": [
    "Generate key pair for EC2 instance, save the key PEM file. We can use this key with SSH to connect to the instance. But in this notebook example, we will not use SSH, instead, we will use AWS Systems Manager to send commands to the instance."
   ],
   "metadata": {}
  },
  {
   "cell_type": "code",
   "execution_count": null,
   "source": [
    "key_pairs = ec2_client.describe_key_pairs()\n",
    "key_names = list(map(lambda x: x[\"KeyName\"], key_pairs[\"KeyPairs\"]))\n",
    "\n",
    "key_name = \"ec2-key-pair\"\n",
    "\n",
    "if key_name in key_names:\n",
    "    ec2_key_pair = ec2_client.delete_key_pair(\n",
    "        KeyName=key_name,\n",
    "    )"
   ],
   "outputs": [],
   "metadata": {}
  },
  {
   "cell_type": "code",
   "execution_count": null,
   "source": [
    "ec2_key_pair = ec2_client.create_key_pair(\n",
    "    KeyName=key_name,\n",
    ")\n",
    "\n",
    "key_pair = str(ec2_key_pair[\"KeyMaterial\"])\n",
    "key_pair_file = open(\"ec2-key-pair.pem\", \"w\")\n",
    "key_pair_file.write(key_pair)\n",
    "key_pair_file.close()"
   ],
   "outputs": [],
   "metadata": {}
  },
  {
   "cell_type": "code",
   "execution_count": null,
   "source": [
    "# specify your role name used by GGv2\n",
    "iot_device_role_name = 'SageMakerTESRole'"
   ],
   "outputs": [],
   "metadata": {}
  },
  {
   "cell_type": "markdown",
   "source": [
    "Create a role for the EC2 instance we are going to use. Read for detailed information about [IAM roles for Amazon EC2](https://docs.aws.amazon.com/AWSEC2/latest/UserGuide/iam-roles-for-amazon-ec2.html).\n",
    "\n",
    "Following steps here to [create an IAM role](https://docs.aws.amazon.com/AWSEC2/latest/UserGuide/iam-roles-for-amazon-ec2.html#create-iam-role). Note down the role name and role ARN, role name will be used when we launch the EC2 instance, and role ARN will be needed to create inline policy.\n",
    "\n",
    "After creation, make sure the following policies are attached to role:\n",
    "\n",
    "- AmazonS3FullAccess \n",
    "- AmazonSSMManagedInstanceCore \n",
    "- CloudWatchAgentAdminPolicy\n",
    "\n",
    "Add an inline policy for this EC2 instance role, choose `Add inline policy` button on the role summary page, choose JSON format and replace the content with below statement ([Minimal IAM policy for installer to provision resources](https://docs.aws.amazon.com/greengrass/v2/developerguide/provision-minimal-iam-policy.html)). Replace account-id with your AWS account ID, and replace SageMakerTESRole with the name of the token exchange role that you specify in the cell above with iot_device_role_name.\n",
    "\n",
    "```\n",
    "{\n",
    "    \"Version\": \"2012-10-17\",\n",
    "    \"Statement\": [\n",
    "        {\n",
    "            \"Sid\": \"CreateTokenExchangeRole\",\n",
    "            \"Effect\": \"Allow\",\n",
    "            \"Action\": [\n",
    "                \"iam:AttachRolePolicy\",\n",
    "                \"iam:CreatePolicy\",\n",
    "                \"iam:CreateRole\",\n",
    "                \"iam:GetPolicy\",\n",
    "                \"iam:GetRole\",\n",
    "                \"iam:PassRole\"\n",
    "            ],\n",
    "            \"Resource\": [\n",
    "                \"arn:aws:iam::<account-id>:role/<SageMakerTESRole>\",\n",
    "                \"arn:aws:iam::<account-id>:policy/<SageMakerTESRole>Access\",\n",
    "                \"arn:aws:iam::aws:policy/<SageMakerTESRole>Access\"\n",
    "            ]\n",
    "        },\n",
    "        {\n",
    "            \"Effect\": \"Allow\",\n",
    "            \"Action\": [\n",
    "                \"iot:AddThingToThingGroup\",\n",
    "                \"iot:AttachPolicy\",\n",
    "                \"iot:AttachThingPrincipal\",\n",
    "                \"iot:CreateKeysAndCertificate\",\n",
    "                \"iot:CreatePolicy\",\n",
    "                \"iot:CreateRoleAlias\",\n",
    "                \"iot:CreateThing\",\n",
    "                \"iot:CreateThingGroup\",\n",
    "                \"iot:DescribeEndpoint\",\n",
    "                \"iot:DescribeRoleAlias\",\n",
    "                \"iot:DescribeThingGroup\",\n",
    "                \"iot:GetPolicy\",\n",
    "                \"sts:GetCallerIdentity\"\n",
    "            ],\n",
    "            \"Resource\": \"*\"\n",
    "        },\n",
    "        {\n",
    "            \"Sid\": \"DeployDevTools\",\n",
    "            \"Effect\": \"Allow\",\n",
    "            \"Action\": [\n",
    "                \"greengrass:CreateDeployment\",\n",
    "                \"iot:CancelJob\",\n",
    "                \"iot:CreateJob\",\n",
    "                \"iot:DeleteThingShadow\",\n",
    "                \"iot:DescribeJob\",\n",
    "                \"iot:DescribeThing\",\n",
    "                \"iot:DescribeThingGroup\",\n",
    "                \"iot:GetThingShadow\",\n",
    "                \"iot:UpdateJob\",\n",
    "                \"iot:UpdateThingShadow\"\n",
    "            ],\n",
    "            \"Resource\": \"*\"\n",
    "        }\n",
    "    ]\n",
    "}\n",
    "```\n",
    "\n",
    "\n",
    "Locate the same sagemaker role used for this notebook in [Demo Setup](#Demo-Setup) in [IAM console](https://console.aws.amazon.com/iam), choose `Add inline policy` button on the role summary page, choose JSON format and replace the content with below statement:\n",
    "\n",
    "Before copy the following content, make sure you use the EC2 role ARN you just created in the `Resource` field for `iam:PassRole` action.\n",
    "\n",
    "```\n",
    "{\n",
    "    \"Version\": \"2012-10-17\",\n",
    "    \"Statement\": [\n",
    "        {\n",
    "            \"Effect\": \"Allow\",\n",
    "            \"Action\": \"iam:PassRole\",\n",
    "            \"Resource\": \"arn:aws:iam::<account>:role/<role-name>\"\n",
    "        }\n",
    "    ]\n",
    "}\n",
    "```"
   ],
   "metadata": {}
  },
  {
   "cell_type": "markdown",
   "source": [
    "Launch an EC2 C5 instance. In this example we will use aws deep learning AMI."
   ],
   "metadata": {}
  },
  {
   "cell_type": "code",
   "execution_count": null,
   "source": [
    "ami = ec2_client.describe_images(\n",
    "    Filters=[{\"Name\": \"name\", \"Values\": [\"Deep Learning AMI (Ubuntu 18.04) Version 36.0\"]}]\n",
    ")[\"Images\"][0][\"ImageId\"]\n",
    "ami"
   ],
   "outputs": [],
   "metadata": {}
  },
  {
   "cell_type": "code",
   "execution_count": null,
   "source": [
    "ec2_profile_name = \"<SMEdgeManageExampleRole>\"  # replace with the name of the role created for EC2\n",
    "\n",
    "ec2_instance = ec2_client.run_instances(\n",
    "    ImageId=ami,\n",
    "    MinCount=1,\n",
    "    MaxCount=1,\n",
    "    InstanceType=\"c5.large\",\n",
    "    KeyName=key_name,\n",
    "    IamInstanceProfile={\"Name\": ec2_profile_name},\n",
    ")"
   ],
   "outputs": [],
   "metadata": {}
  },
  {
   "cell_type": "code",
   "execution_count": null,
   "source": [
    "instance_id = ec2_instance[\"Instances\"][0][\"InstanceId\"]  # will use for running inference later\n",
    "print(instance_id)"
   ],
   "outputs": [],
   "metadata": {}
  },
  {
   "cell_type": "markdown",
   "source": [
    "## Compile Model using SageMaker Neo\n"
   ],
   "metadata": {}
  },
  {
   "cell_type": "code",
   "execution_count": null,
   "source": [
    "sagemaker_client = boto3.client(\"sagemaker\", region_name=region)"
   ],
   "outputs": [],
   "metadata": {}
  },
  {
   "cell_type": "markdown",
   "source": [
    "### Download pretrained Keras model"
   ],
   "metadata": {}
  },
  {
   "cell_type": "code",
   "execution_count": null,
   "source": [
    "import tensorflow as tf\n",
    "\n",
    "model = tf.keras.applications.MobileNetV2()\n",
    "model.save(\"mobilenet_v2.h5\")"
   ],
   "outputs": [],
   "metadata": {}
  },
  {
   "cell_type": "code",
   "execution_count": null,
   "source": [
    "import tarfile\n",
    "\n",
    "with tarfile.open(\"mobilenet_v2.tar.gz\", mode=\"w:gz\") as archive:\n",
    "    archive.add(\"mobilenet_v2.h5\")"
   ],
   "outputs": [],
   "metadata": {}
  },
  {
   "cell_type": "code",
   "execution_count": null,
   "source": [
    "keras_model_path = sess.upload_data(\"mobilenet_v2.tar.gz\", bucket, folder)"
   ],
   "outputs": [],
   "metadata": {}
  },
  {
   "cell_type": "markdown",
   "source": [
    "**Note**: When calling ``create_compilation_job()`` user is expected to provide all the correct input shapes required by the model for successful compilation. If we are using a different model, we need to specify the framework and data shape correctly."
   ],
   "metadata": {}
  },
  {
   "cell_type": "code",
   "execution_count": null,
   "source": [
    "keras_model_data_shape = '{\"input_1\":[1,3,224,224]}'\n",
    "keras_model_framework = \"keras\"\n",
    "target_device = \"ml_c5\""
   ],
   "outputs": [],
   "metadata": {
    "scrolled": true
   }
  },
  {
   "cell_type": "code",
   "execution_count": null,
   "source": [
    "import time\n",
    "\n",
    "keras_compilation_job_name = \"Sagemaker-Edge-\" + str(time.time()).split(\".\")[0]\n",
    "print(\"Compilation job for %s started\" % keras_compilation_job_name)\n",
    "\n",
    "response = sagemaker_client.create_compilation_job(\n",
    "    CompilationJobName=keras_compilation_job_name,\n",
    "    RoleArn=role,\n",
    "    InputConfig={\n",
    "        \"S3Uri\": keras_model_path,\n",
    "        \"DataInputConfig\": keras_model_data_shape,\n",
    "        \"Framework\": keras_model_framework.upper(),\n",
    "    },\n",
    "    OutputConfig={\n",
    "        \"S3OutputLocation\": s3_compilation_output_location,\n",
    "        \"TargetDevice\": target_device,\n",
    "    },\n",
    "    StoppingCondition={\"MaxRuntimeInSeconds\": 900},\n",
    ")\n",
    "\n",
    "print(response)\n",
    "\n",
    "# Poll every 30 sec\n",
    "while True:\n",
    "    response = sagemaker_client.describe_compilation_job(\n",
    "        CompilationJobName=keras_compilation_job_name\n",
    "    )\n",
    "    if response[\"CompilationJobStatus\"] == \"COMPLETED\":\n",
    "        break\n",
    "    elif response[\"CompilationJobStatus\"] == \"FAILED\":\n",
    "        raise RuntimeError(\"Compilation failed\")\n",
    "    print(\"Compiling ...\")\n",
    "    time.sleep(30)\n",
    "print(\"Done!\")"
   ],
   "outputs": [],
   "metadata": {}
  },
  {
   "cell_type": "markdown",
   "source": [
    "### Package Keras Model"
   ],
   "metadata": {}
  },
  {
   "cell_type": "code",
   "execution_count": null,
   "source": [
    "keras_packaged_model_name = \"keras-model\"\n",
    "keras_model_version = \"1.0.1\"\n",
    "keras_component_name = \"com.model.keras\"\n",
    "keras_model_package = \"{}-{}.tar.gz\".format(keras_packaged_model_name, keras_model_version)"
   ],
   "outputs": [],
   "metadata": {}
  },
  {
   "cell_type": "code",
   "execution_count": null,
   "source": [
    "keras_packaging_job_name = (\n",
    "    keras_compilation_job_name + \"-packaging-\" + str(time.time()).split(\".\")[0]\n",
    ")\n",
    "response = sagemaker_client.create_edge_packaging_job(\n",
    "    RoleArn=role,\n",
    "    OutputConfig={\n",
    "        \"PresetDeploymentType\": \"GreengrassV2Component\",\n",
    "        \"PresetDeploymentConfig\": json.dumps(\n",
    "            {\"ComponentName\": keras_component_name, \"ComponentVersion\": keras_model_version}\n",
    "        ),\n",
    "        \"S3OutputLocation\": s3_compilation_output_location,\n",
    "    },\n",
    "    ModelName=keras_packaged_model_name,\n",
    "    ModelVersion=keras_model_version,\n",
    "    EdgePackagingJobName=keras_packaging_job_name,\n",
    "    CompilationJobName=keras_compilation_job_name,\n",
    ")\n",
    "\n",
    "print(response)\n",
    "\n",
    "# Poll every 30 sec\n",
    "while True:\n",
    "    job_status = sagemaker_client.describe_edge_packaging_job(\n",
    "        EdgePackagingJobName=keras_packaging_job_name\n",
    "    )\n",
    "    if job_status[\"EdgePackagingJobStatus\"] == \"COMPLETED\":\n",
    "        break\n",
    "    elif job_status[\"EdgePackagingJobStatus\"] == \"FAILED\":\n",
    "        raise RuntimeError(\"Edge Packaging failed\")\n",
    "    print(\"Packaging ...\")\n",
    "    time.sleep(30)\n",
    "\n",
    "if job_status[\"PresetDeploymentOutput\"][\"Status\"] != \"COMPLETED\":\n",
    "    print(\"!!Component packaging failed!!\")\n",
    "    print(job_status[\"PresetDeploymentOutput\"][\"StatusMessage\"])\n",
    "else:\n",
    "    print(\"Done!\")"
   ],
   "outputs": [],
   "metadata": {}
  },
  {
   "cell_type": "markdown",
   "source": [
    "<p style=\"background-color:yellow;color:black;\">If you are getting a <span style=\"font-weight:700;\">Component packaging failed</span> error, it is likely that you have already a component named <span style=\"font-family: courier;background-color:lightGray;\">com.model.keras</span> with the same version in your account. To fix, you can either delete the component from your account or increment the version of the component for the packaging job (see <span style=\"font-family: courier;background-color:lightGray;\">keras_model_version</span> variable above)</p>"
   ],
   "metadata": {}
  },
  {
   "cell_type": "code",
   "execution_count": null,
   "source": [
    "keras_model_data = job_status[\"ModelArtifact\"]"
   ],
   "outputs": [],
   "metadata": {}
  },
  {
   "cell_type": "markdown",
   "source": [
    "\n",
    "### Install Greengrass\n",
    "\n",
    "SageMaker Edge Manager can use AWS IoT Greengrass to deploy the agent, the model and the inference application to the edge device.\n",
    "\n",
    "AWS IoT Greengrass provides all the necessary features to manage applications on remote devices in a secure and scalable way. To learn more about Greengrass, head to the [What is AWS IoT Greengrass?](https://docs.aws.amazon.com/greengrass/v2/developerguide/what-is-iot-greengrass.html). \n",
    "\n",
    "The SageMaker Edge Manager agent leverages the AWS credentials provided by the [Token exchange service](https://docs.aws.amazon.com/greengrass/v2/developerguide/token-exchange-service-component.html) component to securely communicate with the SageMaker Edge Manager backend.\n"
   ],
   "metadata": {}
  },
  {
   "cell_type": "code",
   "execution_count": null,
   "source": [
    "ssm_client = boto3.client(\"ssm\", region_name=region)"
   ],
   "outputs": [],
   "metadata": {}
  },
  {
   "cell_type": "markdown",
   "source": [
    "**Note**: If you are using a real device, connect to the device via SSH, ensure that you have both Java v8 or above and the Unzip command and then run the following commands (replace `<your_region>` with the correct value). To run this command on the device you also need to provide IAM credentials with at least the permissions listed in [Minimal IAM policy for installer to provision resources](https://docs.aws.amazon.com/greengrass/v2/developerguide/provision-minimal-iam-policy.html).\n",
    "\n",
    "```bash\n",
    "curl -s https://d2s8p88vqu9w66.cloudfront.net/releases/greengrass-nucleus-latest.zip > greengrass-nucleus-latest.zip \\\n",
    "               && unzip greengrass-nucleus-latest.zip -d GreengrassCore,\n",
    "sudo -E java -Droot=\"/greengrass/v2\" -Dlog.store=FILE -jar ./GreengrassCore/lib/Greengrass.jar \\\n",
    "    --thing-name GreengrassSMEdgeManagerDevice -trn SageMakerTESRole -tra SageMakerTESRoleAlias \\ \n",
    "    --thing-group-name GreengrassSMEdgeManagerGroup \\ \n",
    "    --component-default-user ggc_user:ggc_group --provision true --setup-system-service true --deploy-dev-tools true \\\n",
    "    --aws-region <your_region>\n",
    "```\n",
    "\n",
    "Otherwise, run the following command to install Greengrass on the EC2 instance. You can find further information about the command to run and their effect in [Install AWS IoT Greengrass Core software with automatic resource provisioning](https://docs.aws.amazon.com/greengrass/v2/developerguide/quick-installation.html)."
   ],
   "metadata": {}
  },
  {
   "cell_type": "code",
   "execution_count": null,
   "source": [
    "response = ssm_client.send_command(\n",
    "    InstanceIds=[instance_id],\n",
    "    DocumentName=\"AWS-RunShellScript\",\n",
    "    OutputS3BucketName=bucket,\n",
    "    OutputS3KeyPrefix=folder,\n",
    "    Parameters={\n",
    "        \"commands\": [\n",
    "            \"#!/bin/bash\",\n",
    "            \"sudo apt update && apt install python3-venv -y\",\n",
    "            \"curl -s https://d2s8p88vqu9w66.cloudfront.net/releases/greengrass-nucleus-latest.zip > greengrass-nucleus-latest.zip && unzip greengrass-nucleus-latest.zip -d GreengrassCore\",\n",
    "            f'sudo -E java -Droot=\"/greengrass/v2\" -Dlog.store=FILE -jar ./GreengrassCore/lib/Greengrass.jar --aws-region {region} --thing-name GreengrassSMEdgeManagerDevice -trn {iot_device_role_name} -tra SageMakerTESRoleAlias --thing-group-name GreengrassSMEdgeManagerGroup --component-default-user ggc_user:ggc_group --provision true --setup-system-service true --deploy-dev-tools true',\n",
    "        ]\n",
    "    },\n",
    ")"
   ],
   "outputs": [],
   "metadata": {}
  },
  {
   "cell_type": "code",
   "execution_count": null,
   "source": [
    "ssm_client.get_command_invocation(\n",
    "    CommandId=response[\"Command\"][\"CommandId\"],\n",
    "    InstanceId=instance_id,\n",
    ")"
   ],
   "outputs": [],
   "metadata": {}
  },
  {
   "cell_type": "code",
   "execution_count": null,
   "source": [
    "print(iot_device_role_name)"
   ],
   "outputs": [],
   "metadata": {}
  },
  {
   "cell_type": "markdown",
   "source": [
    "### Create Device Fleet"
   ],
   "metadata": {}
  },
  {
   "cell_type": "markdown",
   "source": [
    "#### Modify the IAM role for device fleet"
   ],
   "metadata": {}
  },
  {
   "cell_type": "markdown",
   "source": [
    "Configure an IAM role in your AWS account that will be assumed by the credentials' provider on behalf of the devices in your device fleet. \n",
    "\n",
    "\n",
    "Go to [IAM console](https://console.aws.amazon.com/iam/home?#/roles/SageMakerTESRole), and look for the role create role for IoT, which is printed in the cell above \n",
    "\n",
    "1. Attach the following policies:\n",
    "\n",
    "    - AmazonSageMakerEdgeDeviceFleetPolicy\n",
    "\n",
    "\n",
    "2. Add the following permissions to the `SageMakerTESRoleAccess`:\n",
    "\n",
    "```json\n",
    "{\n",
    "    \"Effect\": \"Allow\",\n",
    "    \"Action\": [\n",
    "        \"s3:GetObject\"\n",
    "    ],\n",
    "    \"Resource\": [\n",
    "        \"arn:aws:s3:::*SageMaker*\",\n",
    "        \"arn:aws:s3:::*Sagemaker*\",\n",
    "        \"arn:aws:s3:::*sagemaker*\"\n",
    "    ]\n",
    "}\n",
    "```\n",
    "\n",
    "3. Edit then the [trust relationship](https://console.aws.amazon.com/iam/home?#/roles/SageMakerTESRole?section=trust) as follow:\n",
    "```\n",
    "{\n",
    "  \"Version\": \"2012-10-17\",\n",
    "  \"Statement\": [\n",
    "      {\n",
    "        \"Effect\": \"Allow\",\n",
    "        \"Principal\": {\"Service\": \"credentials.iot.amazonaws.com\"},\n",
    "        \"Action\": \"sts:AssumeRole\"\n",
    "      },\n",
    "      {\n",
    "        \"Effect\": \"Allow\",\n",
    "        \"Principal\": {\"Service\": \"sagemaker.amazonaws.com\"},\n",
    "        \"Action\": \"sts:AssumeRole\"\n",
    "      }\n",
    "  ]\n",
    "}\n",
    "```\n",
    "\n",
    "Note down the role ARN, it will be later used for creating the device fleet."
   ],
   "metadata": {}
  },
  {
   "cell_type": "code",
   "execution_count": null,
   "source": [
    "role_arn = \"<your role arn>\""
   ],
   "outputs": [],
   "metadata": {}
  },
  {
   "cell_type": "code",
   "execution_count": null,
   "source": [
    "device_fleet_name = \"demo-device-fleet\" + str(time.time()).split(\".\")[0]\n",
    "\n",
    "sagemaker_client.create_device_fleet(\n",
    "    DeviceFleetName=device_fleet_name,\n",
    "    RoleArn=role_arn,\n",
    "    OutputConfig={\"S3OutputLocation\": s3_compilation_output_location},\n",
    ")\n",
    "\n",
    "print(device_fleet_name)"
   ],
   "outputs": [],
   "metadata": {}
  },
  {
   "cell_type": "markdown",
   "source": [
    "#### Register device to the fleet"
   ],
   "metadata": {}
  },
  {
   "cell_type": "code",
   "execution_count": null,
   "source": [
    "device_name = \"GreengrassSMEdgeManagerDevice\"\n",
    "\n",
    "sagemaker_client.register_devices(\n",
    "    DeviceFleetName=device_fleet_name,\n",
    "    Devices=[\n",
    "        {\n",
    "            \"DeviceName\": device_name,\n",
    "            \"IotThingName\": device_name,\n",
    "            \"Description\": \"this is a sample virtual device\",\n",
    "        }\n",
    "    ],\n",
    ")"
   ],
   "outputs": [],
   "metadata": {}
  },
  {
   "cell_type": "markdown",
   "source": [
    "## Inference on Edge"
   ],
   "metadata": {}
  },
  {
   "cell_type": "markdown",
   "source": [
    "In this example, we will use [AWS IoT Greengrass](https://docs.aws.amazon.com/) to remotely deploy the agent, the model and the inference application.\n",
    "\n",
    "The [SageMaker Edge Manager component](https://docs.aws.amazon.com/greengrass/v2/developerguide/sagemaker-edge-manager-component.html) is already provided and will be used to deploy and run the agent on the device.\n",
    "\n",
    "The model component has been created for you by the packaging jobs you execute previously and in [your account](https://console.aws.amazon.com/iot/home?#/greengrass/v2/components) you should now have 1 component called `com.model.keras`. \n",
    "\n",
    "In order to be able to use the model, we also need an application component to load the model and invoke it. In the next section we are going to see how to create such component."
   ],
   "metadata": {}
  },
  {
   "cell_type": "markdown",
   "source": [
    "## Create the inference application component"
   ],
   "metadata": {}
  },
  {
   "cell_type": "markdown",
   "source": [
    "We will use a Python application to load the model and perform the inference. The application is provided in the [inference.py](./inference.py) file. In addition to this file, you will also need to generate the Protobuf libraries that can be used with the gRPC API of the agent.\n",
    "\n",
    "First list the available releases from the S3 bucket. It does not matter which OS we are going to use since we only need the protobuf definitions."
   ],
   "metadata": {}
  },
  {
   "cell_type": "code",
   "execution_count": null,
   "source": [
    "!aws s3 ls s3://sagemaker-edge-release-store-us-west-2-linux-x64/Releases/ | sort -r"
   ],
   "outputs": [],
   "metadata": {}
  },
  {
   "cell_type": "markdown",
   "source": [
    "Select the archive corresponding to the first item on the list:"
   ],
   "metadata": {}
  },
  {
   "cell_type": "code",
   "execution_count": null,
   "source": [
    "!aws s3 cp \"s3://sagemaker-edge-release-store-us-west-2-linux-x64/Releases/1.20210512.96da6cc/1.20210512.96da6cc.tgz\" sm_agent.tgz"
   ],
   "outputs": [],
   "metadata": {}
  },
  {
   "cell_type": "markdown",
   "source": [
    "Now we extract the protobuf definition:"
   ],
   "metadata": {}
  },
  {
   "cell_type": "code",
   "execution_count": null,
   "source": [
    "!tar tf sm_agent.tgz"
   ],
   "outputs": [],
   "metadata": {}
  },
  {
   "cell_type": "code",
   "execution_count": null,
   "source": [
    "!tar xf sm_agent.tgz ./docs/api/agent.proto"
   ],
   "outputs": [],
   "metadata": {}
  },
  {
   "cell_type": "markdown",
   "source": [
    "Run the following code to generate the Python libraries to use the API:"
   ],
   "metadata": {}
  },
  {
   "cell_type": "code",
   "execution_count": null,
   "source": [
    "%%bash\n",
    "# If you are running this on a personal computer you might want to create a Virtual Environment first. Uncomment the following lines \n",
    "# python3 -m venv venv\n",
    "# . venv/bin/activate\n",
    "pip install pip --upgrade\n",
    "pip install wheel\n",
    "pip install grpcio==1.38.1\n",
    "pip install grpcio-tools==1.38.1\n",
    "python3 -m grpc_tools.protoc --proto_path=./docs/api --python_out=. --grpc_python_out=. agent.proto"
   ],
   "outputs": [],
   "metadata": {}
  },
  {
   "cell_type": "markdown",
   "source": [
    "We also need to download the JSON file containing the ImageNet classes that will be used to print the predictions"
   ],
   "metadata": {}
  },
  {
   "cell_type": "code",
   "execution_count": null,
   "source": [
    "!curl \"https://storage.googleapis.com/download.tensorflow.org/data/imagenet_class_index.json\" -O"
   ],
   "outputs": [],
   "metadata": {}
  },
  {
   "cell_type": "markdown",
   "source": [
    "### Create the AWS IoT Greengrass component\n",
    "\n",
    "Next, upload the `inference.py` and the protobuf libraries to an S3 bucket so that they can be referenced by the component recipe and from where they will be downloaded by Greengrass on the device. We use the SageMaker bucket for this."
   ],
   "metadata": {}
  },
  {
   "cell_type": "code",
   "execution_count": null,
   "source": [
    "bucket"
   ],
   "outputs": [],
   "metadata": {}
  },
  {
   "cell_type": "code",
   "execution_count": null,
   "source": [
    "%%bash\n",
    "# Replace <bucket> with the bucket name printed above\n",
    "export BUCKET='<bucket>'\n",
    "aws s3 cp inference.py s3://$BUCKET/com.sagemaker.edgePythonExample/1.0.0/inference.py\n",
    "aws s3 cp agent_pb2.py s3://$BUCKET/com.sagemaker.edgePythonExample/1.0.0/agent_pb2.py\n",
    "aws s3 cp agent_pb2_grpc.py s3://$BUCKET/com.sagemaker.edgePythonExample/1.0.0/agent_pb2_grpc.py\n",
    "aws s3 cp keras.bmp s3://$BUCKET/com.sagemaker.edgePythonExample/1.0.0/keras.bmp\n",
    "aws s3 cp imagenet_class_index.json s3://$BUCKET/com.sagemaker.edgePythonExample/1.0.0/imagenet_class_index.json"
   ],
   "outputs": [],
   "metadata": {}
  },
  {
   "cell_type": "markdown",
   "source": [
    "As a final step, create the component. You can use the [AWS Greengrass Console](https://console.aws.amazon.com/iot/home?#/greengrass/v2/components/create) to create a new component. Go to **Component>Create component**, select `Enter recipe as YAML` and copy and paste the following YAML. Before choosing `Create component`, make sure you have replaced the `_BUCKET_` placeholder with the name of the bucket to which you have uploaded the artifacts.\n",
    "\n",
    "```yaml\n",
    "---\n",
    "RecipeFormatVersion: 2020-01-25\n",
    "ComponentName: com.sagemaker.edgePythonExample\n",
    "ComponentVersion: 1.0.0\n",
    "ComponentDescription: Sagemaker Edge Manager Python example\n",
    "ComponentPublisher: Amazon Web Services, Inc.\n",
    "ComponentDependencies:\n",
    "  aws.greengrass.SageMakerEdgeManager:\n",
    "    VersionRequirement: '>=1.0.0'\n",
    "    DependencyType: HARD\n",
    "  com.model.keras:\n",
    "    VersionRequirement: '~1.0.0'\n",
    "    DependencyType: HARD\n",
    "ComponentConfiguration:\n",
    "  DefaultConfiguration:\n",
    "    Demo: \"true\"\n",
    "    MLModel: keras\n",
    "    ImagePath: /absolute/path\n",
    "    CaptureData: \"true\"\n",
    "Manifests:\n",
    "  - Platform:\n",
    "      os: linux\n",
    "      architecture: \"/amd64|x86/\"\n",
    "    Lifecycle:\n",
    "      Install: |-\n",
    "        python3 -m venv venv\n",
    "        . venv/bin/activate\n",
    "        pip install pip --upgrade\n",
    "        pip install wheel      \n",
    "        pip3 install grpcio==1.38.1\n",
    "        pip3 install grpcio-tools==1.38.1\n",
    "        pip3 install protobuf\n",
    "        pip3 install Pillow\n",
    "        pip3 install numpy\n",
    "      Run:\n",
    "        Setenv:\n",
    "          DEMO: \"{configuration:/Demo}\"\n",
    "          ML_MODEL: \"{configuration:/MLModel}\"\n",
    "          CAPTURE_DATA: \"{configuration:/CaptureData}\"\n",
    "        Script: |- \n",
    "          export MODEL_PATH=\"{com.model.keras:work:path}\"\n",
    "          export IMAGE_PATH=\"{artifacts:path}/keras.bmp\"\n",
    "          export IMAGENET_CLASS_INDEX_PATH=\"{artifacts:path}/imagenet_class_index.json\"\n",
    "          if [ $DEMO != 'true' ]; then\n",
    "            export IMAGE_PATH=\"{configuration:/ImagePath}\"\n",
    "          fi\n",
    "          . venv/bin/activate  \n",
    "          python3 -u {artifacts:path}/inference.py \n",
    "    Artifacts:\n",
    "      - URI: s3://_BUCKET_/com.sagemaker.edgePythonExample/1.0.0/inference.py\n",
    "      - URI: s3://_BUCKET_/com.sagemaker.edgePythonExample/1.0.0/agent_pb2.py\n",
    "      - URI: s3://_BUCKET_/com.sagemaker.edgePythonExample/1.0.0/agent_pb2_grpc.py\n",
    "      - URI: s3://_BUCKET_/com.sagemaker.edgePythonExample/1.0.0/keras.bmp \n",
    "      - URI: s3://_BUCKET_/com.sagemaker.edgePythonExample/1.0.0/imagenet_class_index.json\n",
    "```\n",
    "\n",
    "> Note: instead of uploading each singe file and specify them as artifacts in the component recipe, you can also create a ZIP archive and modify the recipe as follow:\n",
    "\n",
    "```yaml\n",
    "    Lifecycle:\n",
    "      Run:\n",
    "        ...\n",
    "        Script:\n",
    "          ...\n",
    "          python3 -u {artifacts:decompressedPath}/app/inference.py\n",
    "    Artifacts:\n",
    "      - URI: s3://_BUCKET_/com.sagemaker.edgePythonExample/1.0.0/app.zip\n",
    "        Archive: ZIP\n",
    "```"
   ],
   "metadata": {}
  },
  {
   "cell_type": "markdown",
   "source": [
    "# Deploy the application\n",
    "\n",
    "Once the application component has been created, it can be deployed to the device. \n",
    "\n",
    "1. In the [AWS Console](https://console.aws.amazon.com/iot/home#/greengrass/v2/components/private) select the `com.sagemaker.edgePythonExample` component, and choose **Deploy**.\n",
    "2. Select the deployment named `Deployment for GreengrassSMEdgeManagerGroup` and choose `Next`\n",
    "3. Toggle the selector on the `Public components` pane, search for `SageMakerEdgeManager`, and selct it\n",
    "4. Choose **Next**\n",
    "5. Select the `aws.greengrass.SageMakerEdgeManager` component and choose **Configure component**\n",
    "6. Replace the **Configuration to merge** content with the following json. Don't forget to change the placeholder to the actual values.\n",
    "```json\n",
    "{\n",
    "\t\"DeviceFleetName\": <device-fleet-name>,\n",
    "\t\"BucketName\": <bucket-name>\n",
    "}\n",
    "```\n",
    "7. Choose **Confirm**\n",
    "3. Choose **Next** until you reach the last screen. \n",
    "4. Choose **Deploy**.\n",
    "\n",
    "You can check the status of the deployment by clicking on the device name `GreengrassSMEdgeManagerDevice` in the Target core devices pane and then selecting Deployments tab.\n",
    "\n",
    "After few seconds the components will have been deployed to the EC2 instance and you should be able to see the results of the inference in the Greengrass logs by executing:\n",
    "```bash\n",
    "sudo cat /greengrass/v2/logs/com.sagemaker.edgePythonExample.log\n",
    "```\n",
    "\n",
    "If you are using another device, it might take longer depending on the network speed.\n",
    "\n",
    "As you noticed there is no need to install the agent separately or download the model: these tasks are performed by Greengrass based on the fact that the application recipe defined the dependencies on SageMagerEdge manager component and the model component created by the packaging job.\n",
    "\n"
   ],
   "metadata": {}
  },
  {
   "cell_type": "code",
   "execution_count": null,
   "source": [
    "cat_log_out = ssm_client.send_command(\n",
    "    InstanceIds=[instance_id],\n",
    "    DocumentName=\"AWS-RunShellScript\",\n",
    "    OutputS3BucketName=bucket,\n",
    "    OutputS3KeyPrefix=folder,\n",
    "    Parameters={\n",
    "        \"commands\": [\n",
    "            \"sudo tail -30 /greengrass/v2/logs/com.sagemaker.edgePythonExample.log\",\n",
    "        ]\n",
    "    },\n",
    ")"
   ],
   "outputs": [],
   "metadata": {}
  },
  {
   "cell_type": "code",
   "execution_count": null,
   "source": [
    "output = ssm_client.get_command_invocation(\n",
    "    CommandId=cat_log_out[\"Command\"][\"CommandId\"],\n",
    "    InstanceId=instance_id,\n",
    ")[\"StandardOutputContent\"]\n",
    "print(output)"
   ],
   "outputs": [],
   "metadata": {}
  },
  {
   "cell_type": "markdown",
   "source": [
    "## Customizing the application\n",
    "\n",
    "The application component is configured to run in demo mode by default, meaning it will use a pre-loaded image to perform the prediction. In case you want to provide your own image, you can change the component configuration during the deployment passing the following values:\n",
    "```json\n",
    "{\n",
    "    \"Demo\": \"false\",\n",
    "    \"ImagePath\": \"/absolute/host/path/to/the/image.bmp\"\n",
    "}\n",
    "```\n",
    "\n",
    "Note that the image must be in BMP format and 224x224 pixels. If you want to provide images in other format and sizes you need to preprocess the image to obtain the above format and encoding.\n",
    "\n",
    "The code will:\n",
    "\n",
    "1. Load the model in SageMager Edge Manager agent\n",
    "2. List the models\n",
    "3. Perform the prediction\n",
    "4. Unload the model\n"
   ],
   "metadata": {}
  },
  {
   "cell_type": "markdown",
   "source": [
    "## Clean Up"
   ],
   "metadata": {}
  },
  {
   "cell_type": "markdown",
   "source": [
    "Undeploy the application"
   ],
   "metadata": {}
  },
  {
   "cell_type": "code",
   "execution_count": null,
   "source": [
    "ssm_client.cancel_command(CommandId=agent_out[\"Command\"][\"CommandId\"], InstanceIds=[instance_id])"
   ],
   "outputs": [],
   "metadata": {}
  },
  {
   "cell_type": "markdown",
   "source": [
    "Stop the EC2 instance"
   ],
   "metadata": {}
  },
  {
   "cell_type": "code",
   "execution_count": null,
   "source": [
    "ec2_client.stop_instances(InstanceIds=[instance_id])"
   ],
   "outputs": [],
   "metadata": {}
  },
  {
   "cell_type": "markdown",
   "source": [
    "Detach and delete policy"
   ],
   "metadata": {}
  },
  {
   "cell_type": "code",
   "execution_count": null,
   "source": [
    "iot_client.detach_policy(policyName=policy_name, target=iot_cert[\"certificateArn\"])\n",
    "\n",
    "iot_client.delete_policy(policyName=policy_name)"
   ],
   "outputs": [],
   "metadata": {}
  },
  {
   "cell_type": "markdown",
   "source": [
    "Deregister device and delete device fleet"
   ],
   "metadata": {}
  },
  {
   "cell_type": "code",
   "execution_count": null,
   "source": [
    "sagemaker_client.deregister_devices(DeviceFleetName=device_fleet_name, DeviceNames=[device_name])\n",
    "\n",
    "sagemaker_client.delete_device_fleet(DeviceFleetName=device_fleet_name)"
   ],
   "outputs": [],
   "metadata": {}
  },
  {
   "cell_type": "markdown",
   "source": [
    "## Appendix"
   ],
   "metadata": {}
  },
  {
   "cell_type": "markdown",
   "source": [
    "### (Optional) Use LogManager component to upload logs to CloudWatch"
   ],
   "metadata": {}
  },
  {
   "cell_type": "markdown",
   "source": [
    "If you want to be able to access the logs generated by the component fom the cloud, you can add `aws.greengrass.LogManager` component to the deployment. \n",
    "\n",
    "1. Open the AWS Console and navigate to IoT Core > Greengrass > Components\n",
    "2. Choose the `aws.greengrass.LogManager` component in the Public components tab \n",
    "3. Choose `Deploy`\n",
    "4. Select **Add to existing deployment** and select the same deployment you used earlier\n",
    "5. Choose **Next**\n",
    "6. Choose **Next**\n",
    "7. Choose **Next**\n",
    "7. On the **Component configuration** screen select the `aws.greengrass.LogManager` component and choose **Configure component**\n",
    "8. In the **Configuration to merge** pane enter the following\n",
    "```json\n",
    "{\n",
    "    \"logsUploaderConfiguration\": {\n",
    "        \"componentLogsConfiguration\": [\n",
    "            {\n",
    "              \"componentName\": \"com.sagemaker.edgePythonExample\"\n",
    "            }\n",
    "        ]\n",
    "    }\n",
    "}\n",
    "```\n",
    "9. Choose **Confirm**\n",
    "10. Choose **Next** until the last page and then **Deploy**\n",
    "\n",
    "Once the deployment is completed on the device, you will find the logs uploaded to the Amazon CloudWatch console."
   ],
   "metadata": {}
  }
 ],
 "metadata": {
  "instance_type": "ml.t3.medium",
  "interpreter": {
   "hash": "aee8b7b246df8f9039afb4144a1f6fd8d2ca17a180786b69acc140d282b71a49"
  },
  "kernelspec": {
   "display_name": "Python 3",
   "language": "python",
   "name": "python3"
  },
  "language_info": {
   "codemirror_mode": {
    "name": "ipython",
    "version": 3
   },
   "file_extension": ".py",
   "mimetype": "text/x-python",
   "name": "python",
   "nbconvert_exporter": "python",
   "pygments_lexer": "ipython3",
   "version": "3.9.5"
  }
 },
 "nbformat": 4,
 "nbformat_minor": 4
}