{
 "cells": [
  {
   "cell_type": "markdown",
   "metadata": {
    "collapsed": false
   },
   "source": [
    "# Introduction\n",
    "\n",
    "We're introducing a new capability in AWS SageMaker Python SDK that allows data scientists to run their Python functions as SageMaker Jobs to take advantage of the compute power offered by SageMaker. This sample notebook is a quick introduction to this new capability with dummy Python functions.\n",
    "\n",
    "Before running the samples here, please follow the quick start guide to set up the environment properly, including downloading and installing the private version of SageMaker Python SDK.\n"
   ]
  },
  {
   "cell_type": "markdown",
   "metadata": {},
   "source": [
    "## Install the dependencies"
   ]
  },
  {
   "cell_type": "code",
   "execution_count": null,
   "metadata": {},
   "outputs": [],
   "source": [
    "%pip install -r ./requirements.txt"
   ]
  },
  {
   "cell_type": "markdown",
   "metadata": {
    "collapsed": false
   },
   "source": [
    "## Invoke Python function as a SageMaker job\n",
    "\n",
    "There are two ways users could invoke a function as a job.\n",
    "\n",
    "* Using the decorator. When the decorated function is invoked, it executes synchronously"
   ]
  },
  {
   "cell_type": "code",
   "execution_count": null,
   "metadata": {
    "collapsed": false
   },
   "outputs": [],
   "source": [
    "from sagemaker.remote_function import remote\n",
    "\n",
    "@remote\n",
    "def divide(x, y):\n",
    "    print(f\"Calculating {x}/{y}\")\n",
    "    return x / y\n",
    "\n",
    "divide(3, 2)"
   ]
  },
  {
   "cell_type": "markdown",
   "metadata": {
    "collapsed": false
   },
   "source": [
    "* Using the RemoteExecutor APIs. They follow the pattern of the Python [concurrent.futures](https://docs.python.org/3/library/concurrent.futures.html) APIs."
   ]
  },
  {
   "cell_type": "code",
   "execution_count": null,
   "metadata": {
    "collapsed": false
   },
   "outputs": [],
   "source": [
    "def divide(x, y):\n",
    "    print(f\"Calculating {x}/{y}\")\n",
    "    return x / y\n",
    "\n",
    "from sagemaker.remote_function import RemoteExecutor\n",
    "\n",
    "with RemoteExecutor(max_parallel_job=1, keep_alive_period_in_seconds=30) as executor:\n",
    "    futures = [executor.submit(divide, x, 2) for x  in [1, 2, 3]]"
   ]
  },
  {
   "cell_type": "code",
   "execution_count": null,
   "metadata": {
    "collapsed": false
   },
   "outputs": [],
   "source": [
    "[future.result() for future in futures]"
   ]
  },
  {
   "cell_type": "markdown",
   "metadata": {
    "collapsed": false
   },
   "source": [
    "## Customize the decorator settings\n",
    "\n",
    "In the example above, the @remote decorator and RemoteExecutor look for configurations in the following places\n",
    "\n",
    "* The global configuration file at `<user’s home folder>.sagemaker/defaults/sdk-default-config.yaml`\n",
    "* The local configuration file at the current directory where the decorated function is invoked, specifically `./config.yaml`\n",
    "\n",
    "Configurations in the local configuration file take high precedence over those in the global one.\n",
    "\n",
    "You can override the configurations by specifying the decorator arguments directly. In the following example, instead of launching the job with `ml.m5.xlarge`,\n",
    "as specified in the `./config.yaml`, run the function with a more powerful instance"
   ]
  },
  {
   "cell_type": "code",
   "execution_count": null,
   "metadata": {
    "collapsed": false
   },
   "outputs": [],
   "source": [
    "@remote(instance_type='ml.m5.4xlarge')\n",
    "def divide(x, y):\n",
    "    print(f\"Calculating {x}/{y}\")\n",
    "    return x / y\n",
    "\n",
    "divide(3, 2)"
   ]
  },
  {
   "cell_type": "markdown",
   "metadata": {
    "collapsed": false
   },
   "source": [
    "## Add extra dependencies using conda environment yml file\n",
    "\n",
    "In the example below, the function will run in a new conda environment where pandas and sagemaker will be installed.\n",
    "(Note that the cell will not run if executed in SageMaker Studio.)"
   ]
  },
  {
   "cell_type": "code",
   "execution_count": null,
   "metadata": {
    "collapsed": false
   },
   "outputs": [],
   "source": [
    "import pandas as pd\n",
    "\n",
    "@remote(dependencies='./environment.yml')\n",
    "def multiply(dataframe: pd.DataFrame, factor: float):\n",
    "    return dataframe * factor\n",
    "\n",
    "df = pd.DataFrame(\n",
    "    {\n",
    "        \"A\": [14, 4, 5, 4, 1],\n",
    "        \"B\": [5, 2, 54, 3, 2],\n",
    "        \"C\": [20, 20, 7, 3, 8],\n",
    "        \"D\": [14, 3, 6, 2, 6],\n",
    "    }\n",
    ")\n",
    "\n",
    "multiply(df, 10.0)"
   ]
  },
  {
   "cell_type": "markdown",
   "metadata": {
    "collapsed": false
   },
   "source": [
    "## Common errors"
   ]
  },
  {
   "cell_type": "markdown",
   "metadata": {
    "collapsed": false
   },
   "source": [
    "### SerializationError and DeserializationError\n",
    "\n",
    "Behind the scenes, the function and function arguments and returns are serialized and deserialized using Pickle.\n",
    "\n",
    "While SerializationError occurs when passing an unpickle-able object as function argument, such as XGBoost DMatrix, open file object. DeserializationError typically happens when there is discrepancy between the dependencies in the local environments and dependencies in\n",
    "the job environments. In the following example, the latest pandas is used to declare a dataframe. The dataframe is passed to the function\n",
    "call. On the job side, an older version of pandas is installed. The dataframe can't be deserialized."
   ]
  },
  {
   "cell_type": "code",
   "execution_count": null,
   "metadata": {
    "collapsed": false
   },
   "outputs": [],
   "source": [
    "import pandas as pd\n",
    "\n",
    "@remote(dependencies='./incompatible_requirements.txt')\n",
    "def multiply(dataframe: pd.DataFrame, factor: float):\n",
    "    return dataframe * factor\n",
    "\n",
    "\n",
    "df = pd.DataFrame(\n",
    "    {\n",
    "        \"A\": [14, 4, 5, 4, 1],\n",
    "        \"B\": [5, 2, 54, 3, 2],\n",
    "        \"C\": [20, 20, 7, 3, 8],\n",
    "        \"D\": [14, 3, 6, 2, 6],\n",
    "    }\n",
    ")\n",
    "\n",
    "multiply(df, 10.0)"
   ]
  },
  {
   "cell_type": "code",
   "execution_count": null,
   "metadata": {
    "collapsed": false
   },
   "outputs": [],
   "source": []
  }
 ],
 "metadata": {
  "kernelspec": {
   "display_name": "Python 3",
   "language": "python",
   "name": "python3"
  },
  "language_info": {
   "codemirror_mode": {
    "name": "ipython",
    "version": 2
   },
   "file_extension": ".py",
   "mimetype": "text/x-python",
   "name": "python",
   "nbconvert_exporter": "python",
   "pygments_lexer": "ipython2",
   "version": "2.7.6"
  },
  "pycharm": {
   "stem_cell": {
    "cell_type": "raw",
    "metadata": {
     "collapsed": false
    },
    "source": []
   }
  }
 },
 "nbformat": 4,
 "nbformat_minor": 0
}
