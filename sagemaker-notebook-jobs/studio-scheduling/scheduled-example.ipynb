{
 "cells": [
  {
   "cell_type": "markdown",
   "id": "7d21dcbf",
   "metadata": {},
   "source": [
    "# Scale interactive experimentation to scheduled jobs on SageMaker Studio Notebooks without changing code.\n"
   ]
  },
  {
   "cell_type": "markdown",
   "id": "eeeb0d65",
   "metadata": {},
   "source": [
    "---\n",
    "\n",
    "This notebook's CI test result for us-west-2 is as follows. CI test results in other regions can be found at the end of the notebook. \n",
    "\n",
    "![This us-west-2 badge failed to load. Check your device's internet connectivity, otherwise the service is currently unavailable](https://prod.us-west-2.tcx-beacon.docs.aws.dev/sagemaker-nb/us-west-2/sagemaker-notebook-jobs|studio-scheduling|scheduled-example.ipynb)\n",
    "\n",
    "---"
   ]
  },
  {
   "cell_type": "markdown",
   "id": "f35cecaf",
   "metadata": {},
   "source": [
    "\n",
    "In addition to the the interactive ML experience that [Amazon SageMaker Studio](https://docs.aws.amazon.com/sagemaker/latest/dg/studio.html) provides, data workers also seek solutions to execute notebooks as batch jobs without the need to refactor code as python modules and without having to learn DevOps tools and best practices to automate and manage their deployment infrastructure. Some common usecases for doing this include:\n",
    "\n",
    "* Executing model inference regularly to generate reports\n",
    "* Scaling up a feature engineering step after having tested in Studio against a small subset of data on a small instance\n",
    "* Re-training and deploying models on events of new data arrivals\n",
    "\n",
    "SageMaker Studio provides an built-in extension for you to run your notebooks as-is or in a parameterized fashion. You can run these notebooks on a schedule or immedietely with the run-now capability. There's no need for the end user to modify their existing notebook code. \n",
    "\n",
    "![arch](https://sagemaker-example-files-prod-us-east-1.s3.amazonaws.com/images/sagemaker-studio-scheduling/overview.png)"
   ]
  },
  {
   "cell_type": "markdown",
   "id": "7c13c091",
   "metadata": {},
   "source": [
    "## Prerequisites\n",
    "In order to utilize the SageMaker Job Scheduling extension you'll need to have JupyterLab3 enabled for your Studio IDE. More information on this process can be found [in the documentation](https://docs.aws.amazon.com/sagemaker/latest/dg/studio-jl.html#studio-jl-view)\n"
   ]
  },
  {
   "cell_type": "markdown",
   "id": "27a5cfa9",
   "metadata": {},
   "source": [
    "## Example Background\n",
    "\n",
    "### Customer Churn Use Case\n",
    "Losing customers is costly for any business. For our scheduled notebook workflow, we're going to use a familiar example of customer churn: leaving a mobile phone operator. If a provider knows that a customer is thinking of leaving, it can offer timely incentives and the customer may stick around. Incentives are often much more cost-effective than losing and reacquiring a customer.\n",
    "\n",
    "\n",
    "### Solution Overview\n",
    "We're going to build an end to end workflow which will train a refreshed machine learning model on recent data and then generate a daily report. The process will be as follows:\n",
    "\n",
    "1. Gather \"the last two weeks\" of carrier data. In production, this may be from a data lake or feature store.\n",
    "2. Process that data in order to train a refreshed machine learning model. \n",
    "3. Train a scikit-learn RandomForest model on the previous data\n",
    "4. Plot the Confusion matrix and F1 score of our refreshed model so that we can understand it's effectiveness on known data\n",
    "5. Run inference using our refreshed model on \"todays\" recent data to determine which accounts are at risk of leaving the carrier\n",
    "6. Schedule this notebook to execute every day.\n",
    "\n",
    "\n"
   ]
  },
  {
   "cell_type": "markdown",
   "id": "8bbc9a1a",
   "metadata": {},
   "source": [
    "## Install or Upgrade Packages"
   ]
  },
  {
   "cell_type": "code",
   "execution_count": null,
   "id": "92d9a67c",
   "metadata": {},
   "outputs": [],
   "source": [
    "# Install Reinvent Wheels\n",
    "! pip install --upgrade sagemaker"
   ]
  },
  {
   "cell_type": "markdown",
   "id": "b33fa497",
   "metadata": {},
   "source": [
    "## Parameterize Notebook\n",
    "Using notebook cell metadata, we can mark a cell with the tag \"parameters\" if we want to modify any variables during automated execution. For this example, we'll specify default hyperparamter values which can be modified for our notebook job. To mark a cell as parameter inputs, simply select the wheel icon on the right panel and add a \"parameters\" tag:\n",
    "\n",
    "![params](https://sagemaker-example-files-prod-us-east-1.s3.amazonaws.com/images/sagemaker-studio-scheduling/parameters.png)\n",
    "\n"
   ]
  },
  {
   "cell_type": "code",
   "execution_count": null,
   "id": "c3b99a5c",
   "metadata": {
    "tags": [
     "parameters"
    ]
   },
   "outputs": [],
   "source": [
    "# These parameters can be modified when executing this notebook as a job\n",
    "number_rf_estimators = 100"
   ]
  },
  {
   "cell_type": "markdown",
   "id": "07ca4215",
   "metadata": {},
   "source": [
    "## Prepare Data\n",
    "In this example we'll use a synthetic dataset from a Telecommunications company that we'll use to predict whether or not a particular customer will leave or churn. For a more in-depth exploratory data analysis, [view this example ](https://github.com/aws/amazon-sagemaker-examples/blob/main/introduction_to_applying_machine_learning/xgboost_customer_churn/xgboost_customer_churn.ipynb)"
   ]
  },
  {
   "cell_type": "code",
   "execution_count": null,
   "id": "bfd74ff3",
   "metadata": {},
   "outputs": [],
   "source": [
    "# You can download additional assets for your use in your notebook jobs\n",
    "import boto3\n",
    "\n",
    "s3 = boto3.client(\"s3\")\n",
    "s3.download_file(\n",
    "    f\"sagemaker-example-files-prod-{boto3.session.Session().region_name}\",\n",
    "    \"datasets/scripts/sagemaker-studio-scheduling/synthetic_data.py\",\n",
    "    \"synthetic_data.py\",\n",
    ")"
   ]
  },
  {
   "cell_type": "code",
   "execution_count": null,
   "id": "0c638d3a",
   "metadata": {},
   "outputs": [],
   "source": [
    "import pandas as pd\n",
    "from synthetic_data import generate_data\n",
    "\n",
    "\n",
    "previous_two_weeks_data = generate_data(5000, label_known=True)\n",
    "todays_data = generate_data(300, label_known=False)\n",
    "\n",
    "previous_two_weeks_data.head()"
   ]
  },
  {
   "cell_type": "code",
   "execution_count": null,
   "id": "9166a7f9",
   "metadata": {},
   "outputs": [],
   "source": [
    "def process_data(df, label_known):\n",
    "    \"\"\"\n",
    "    This function represents typical data munging that needs to be performed for machine learning workflows.\n",
    "    We'll cast data types, drop columns that are irrelevant as features to the model, and convert categorical\n",
    "    features into indicator variables. If the data is not from the ground truth dataset, we'll drop it's churn label.\n",
    "    \"\"\"\n",
    "    df = df.drop(\"Phone\", axis=1)\n",
    "    df[\"Area Code\"] = df[\"Area Code\"].astype(object)\n",
    "    df = df.drop([\"Day Charge\", \"Eve Charge\", \"Night Charge\", \"Intl Charge\"], axis=1)\n",
    "    model_data = pd.get_dummies(df)\n",
    "\n",
    "    if label_known:\n",
    "        model_data = pd.concat(\n",
    "            [\n",
    "                model_data[\"Churn?_True.\"],\n",
    "                model_data.drop([\"Churn?_False.\", \"Churn?_True.\"], axis=1),\n",
    "            ],\n",
    "            axis=1,\n",
    "        )\n",
    "        model_data = model_data.rename(columns={\"Churn?_True.\": \"Churn\"})\n",
    "\n",
    "    return model_data"
   ]
  },
  {
   "cell_type": "code",
   "execution_count": null,
   "id": "14e6c9e1",
   "metadata": {},
   "outputs": [],
   "source": [
    "processed_prior_data = process_data(previous_two_weeks_data, label_known=True)\n",
    "processed_todays_data = process_data(todays_data, label_known=False)"
   ]
  },
  {
   "cell_type": "markdown",
   "id": "482194c0",
   "metadata": {},
   "source": [
    "## Train a refreshed model \n",
    "\n",
    "In our example, we're going to train a refreshed model on the previous 2 weeks of data. In production, you may wish to train a refreshed model or even fine-tune an existing one"
   ]
  },
  {
   "cell_type": "code",
   "execution_count": null,
   "id": "7fb3ab32",
   "metadata": {},
   "outputs": [],
   "source": [
    "import numpy as np\n",
    "import matplotlib.pyplot as plt\n",
    "from sklearn.model_selection import train_test_split\n",
    "from sklearn.ensemble import RandomForestClassifier\n",
    "from sklearn.metrics import f1_score, confusion_matrix, ConfusionMatrixDisplay\n",
    "\n",
    "y = np.ravel(processed_prior_data[[\"Churn\"]])\n",
    "x = processed_prior_data.drop([\"Churn\"], axis=1)\n",
    "\n",
    "x_train, x_test, y_train, y_test = train_test_split(x, y, test_size=0.25)\n",
    "\n",
    "clf = RandomForestClassifier(n_estimators=int(number_rf_estimators), criterion=\"gini\")\n",
    "clf.fit(x_train, y_train)"
   ]
  },
  {
   "cell_type": "markdown",
   "id": "d9c66985",
   "metadata": {},
   "source": [
    "## Generate predictions from the refreshed model on our validation dataset"
   ]
  },
  {
   "cell_type": "code",
   "execution_count": null,
   "id": "870025d9",
   "metadata": {},
   "outputs": [],
   "source": [
    "# Run Inference on test set\n",
    "from IPython.display import Markdown as md\n",
    "\n",
    "y_pred = clf.predict(x_test)\n",
    "f1 = f1_score(y_test, y_pred)\n",
    "md(\"## Refreshed Model's F1 Score on validation data: {:.2f}\".format(f1))"
   ]
  },
  {
   "cell_type": "code",
   "execution_count": null,
   "id": "2de56933",
   "metadata": {},
   "outputs": [],
   "source": [
    "# Plot test set results\n",
    "cm = confusion_matrix(y_test, y_pred)\n",
    "disp = ConfusionMatrixDisplay(confusion_matrix=cm, display_labels=[\"Churn\", \"Didn't Churn\"])\n",
    "disp.plot()\n",
    "plt.show()"
   ]
  },
  {
   "cell_type": "markdown",
   "id": "3224f8bf",
   "metadata": {},
   "source": [
    "## Run inference on today's data"
   ]
  },
  {
   "cell_type": "code",
   "execution_count": null,
   "id": "b4bf6e20",
   "metadata": {},
   "outputs": [],
   "source": [
    "todays_predictions = clf.predict(processed_todays_data)\n",
    "accounts_likely_to_churn = pd.concat(\n",
    "    [pd.DataFrame(todays_predictions, columns=[\"Predicted Churn\"]), processed_todays_data], axis=1\n",
    ")\n",
    "accounts_likely_to_churn = accounts_likely_to_churn[\n",
    "    accounts_likely_to_churn[\"Predicted Churn\"] == 1\n",
    "]\n",
    "\n",
    "accounts_likely_to_churn.head()"
   ]
  },
  {
   "cell_type": "markdown",
   "id": "65fa4b58",
   "metadata": {},
   "source": [
    "## Store predictions\n",
    "\n",
    "In a production setting, you may want to store these predictions into a database such as DynamoDB or trigger a corresponding action based on the account-ids. Alternatively, you may want to register this particular model into SageMaker Model Registry.\n"
   ]
  },
  {
   "cell_type": "markdown",
   "id": "61debeb0",
   "metadata": {},
   "source": [
    "## Run the Notebook as a job to visualize how the daily report will look\n",
    "\n",
    "1. Right click your notebook and select \"Create Notebook Job\"\n",
    "\n",
    "![create job](https://sagemaker-example-files-prod-us-east-1.s3.amazonaws.com/images/sagemaker-studio-scheduling/create_job.png)\n",
    "\n",
    "1. Alternatively you can select the \"Notebook job\" icon on your notebook bar\n",
    "\n",
    "![job_icon](https://sagemaker-example-files-prod-us-east-1.s3.amazonaws.com/images/sagemaker-studio-scheduling/job_icon.png)\n",
    "\n",
    "2. Choose the right instance type for your scheduled job based on your workload - Standard Instances, Compute Optimized Instances or Accelerated computing instances that contain GPUs. You can choose any of the instances available for SageMaker training jobs. See here for the complete list of instances available: https://aws.amazon.com/sagemaker/pricing/\n",
    "\n",
    "3. You can expand the \"Additional Options\" to modify any other settings. SageMaker Studio will automatically detect the Image/Kernel you are using in your notebook and will pre-select it for you. Ensure that you have validated this selection.\n",
    "\n",
    "4. You can enter a new value for the `number_rf_estimators` if you'd like\n",
    "\n",
    "![options](https://sagemaker-example-files-prod-us-east-1.s3.amazonaws.com/images/sagemaker-studio-scheduling/options.png)\n",
    "\n"
   ]
  },
  {
   "cell_type": "markdown",
   "id": "4944876f",
   "metadata": {},
   "source": [
    "## Schedule Notebook as a Job for Daily Reports\n",
    "\n",
    "To run this self contained notebook as a daily scheduled job, we can simply use the built-in functionality available in SageMaker Studio. You may need to add permissions to your SageMaker execution role. More information can be found [in the documentation](https://docs.aws.amazon.com/sagemaker/latest/dg/scheduled-notebook-policies.html).\n",
    "\n",
    "\n",
    "1. Simply click the \"Run on a schedule\" button and set your desired schedule\n",
    "\n",
    "![schedule](https://sagemaker-example-files-prod-us-east-1.s3.amazonaws.com/images/sagemaker-studio-scheduling/schedule.png)"
   ]
  },
  {
   "cell_type": "markdown",
   "id": "295290c2",
   "metadata": {},
   "source": [
    "## Clean Up\n",
    "If you scheduled this notebook, be sure to delete your schedule job definition once your experimentation is complete.\n",
    "\n",
    "![definitions](https://sagemaker-example-files-prod-us-east-1.s3.amazonaws.com/images/sagemaker-studio-scheduling/job_definitions.png)"
   ]
  },
  {
   "cell_type": "markdown",
   "id": "90d756be",
   "metadata": {},
   "source": [
    "## Notebook CI Test Results\n",
    "\n",
    "This notebook was tested in multiple regions. The test results are as follows, except for us-west-2 which is shown at the top of the notebook.\n",
    "\n",
    "![This us-east-1 badge failed to load. Check your device's internet connectivity, otherwise the service is currently unavailable](https://prod.us-west-2.tcx-beacon.docs.aws.dev/sagemaker-nb/us-east-1/sagemaker-notebook-jobs|studio-scheduling|scheduled-example.ipynb)\n",
    "\n",
    "![This us-east-2 badge failed to load. Check your device's internet connectivity, otherwise the service is currently unavailable](https://prod.us-west-2.tcx-beacon.docs.aws.dev/sagemaker-nb/us-east-2/sagemaker-notebook-jobs|studio-scheduling|scheduled-example.ipynb)\n",
    "\n",
    "![This us-west-1 badge failed to load. Check your device's internet connectivity, otherwise the service is currently unavailable](https://prod.us-west-2.tcx-beacon.docs.aws.dev/sagemaker-nb/us-west-1/sagemaker-notebook-jobs|studio-scheduling|scheduled-example.ipynb)\n",
    "\n",
    "![This ca-central-1 badge failed to load. Check your device's internet connectivity, otherwise the service is currently unavailable](https://prod.us-west-2.tcx-beacon.docs.aws.dev/sagemaker-nb/ca-central-1/sagemaker-notebook-jobs|studio-scheduling|scheduled-example.ipynb)\n",
    "\n",
    "![This sa-east-1 badge failed to load. Check your device's internet connectivity, otherwise the service is currently unavailable](https://prod.us-west-2.tcx-beacon.docs.aws.dev/sagemaker-nb/sa-east-1/sagemaker-notebook-jobs|studio-scheduling|scheduled-example.ipynb)\n",
    "\n",
    "![This eu-west-1 badge failed to load. Check your device's internet connectivity, otherwise the service is currently unavailable](https://prod.us-west-2.tcx-beacon.docs.aws.dev/sagemaker-nb/eu-west-1/sagemaker-notebook-jobs|studio-scheduling|scheduled-example.ipynb)\n",
    "\n",
    "![This eu-west-2 badge failed to load. Check your device's internet connectivity, otherwise the service is currently unavailable](https://prod.us-west-2.tcx-beacon.docs.aws.dev/sagemaker-nb/eu-west-2/sagemaker-notebook-jobs|studio-scheduling|scheduled-example.ipynb)\n",
    "\n",
    "![This eu-west-3 badge failed to load. Check your device's internet connectivity, otherwise the service is currently unavailable](https://prod.us-west-2.tcx-beacon.docs.aws.dev/sagemaker-nb/eu-west-3/sagemaker-notebook-jobs|studio-scheduling|scheduled-example.ipynb)\n",
    "\n",
    "![This eu-central-1 badge failed to load. Check your device's internet connectivity, otherwise the service is currently unavailable](https://prod.us-west-2.tcx-beacon.docs.aws.dev/sagemaker-nb/eu-central-1/sagemaker-notebook-jobs|studio-scheduling|scheduled-example.ipynb)\n",
    "\n",
    "![This eu-north-1 badge failed to load. Check your device's internet connectivity, otherwise the service is currently unavailable](https://prod.us-west-2.tcx-beacon.docs.aws.dev/sagemaker-nb/eu-north-1/sagemaker-notebook-jobs|studio-scheduling|scheduled-example.ipynb)\n",
    "\n",
    "![This ap-southeast-1 badge failed to load. Check your device's internet connectivity, otherwise the service is currently unavailable](https://prod.us-west-2.tcx-beacon.docs.aws.dev/sagemaker-nb/ap-southeast-1/sagemaker-notebook-jobs|studio-scheduling|scheduled-example.ipynb)\n",
    "\n",
    "![This ap-southeast-2 badge failed to load. Check your device's internet connectivity, otherwise the service is currently unavailable](https://prod.us-west-2.tcx-beacon.docs.aws.dev/sagemaker-nb/ap-southeast-2/sagemaker-notebook-jobs|studio-scheduling|scheduled-example.ipynb)\n",
    "\n",
    "![This ap-northeast-1 badge failed to load. Check your device's internet connectivity, otherwise the service is currently unavailable](https://prod.us-west-2.tcx-beacon.docs.aws.dev/sagemaker-nb/ap-northeast-1/sagemaker-notebook-jobs|studio-scheduling|scheduled-example.ipynb)\n",
    "\n",
    "![This ap-northeast-2 badge failed to load. Check your device's internet connectivity, otherwise the service is currently unavailable](https://prod.us-west-2.tcx-beacon.docs.aws.dev/sagemaker-nb/ap-northeast-2/sagemaker-notebook-jobs|studio-scheduling|scheduled-example.ipynb)\n",
    "\n",
    "![This ap-south-1 badge failed to load. Check your device's internet connectivity, otherwise the service is currently unavailable](https://prod.us-west-2.tcx-beacon.docs.aws.dev/sagemaker-nb/ap-south-1/sagemaker-notebook-jobs|studio-scheduling|scheduled-example.ipynb)\n"
   ]
  }
 ],
 "metadata": {
  "instance_type": "ml.t3.medium",
  "kernelspec": {
   "display_name": "Python 3 (Data Science 3.0)",
   "language": "python",
   "name": "python3__SAGEMAKER_INTERNAL__arn:aws:sagemaker:us-east-1:081325390199:image/sagemaker-data-science-310-v1"
  },
  "language_info": {
   "codemirror_mode": {
    "name": "ipython",
    "version": 3
   },
   "file_extension": ".py",
   "mimetype": "text/x-python",
   "name": "python",
   "nbconvert_exporter": "python",
   "pygments_lexer": "ipython3",
   "version": "3.10.6"
  }
 },
 "nbformat": 4,
 "nbformat_minor": 5
}
