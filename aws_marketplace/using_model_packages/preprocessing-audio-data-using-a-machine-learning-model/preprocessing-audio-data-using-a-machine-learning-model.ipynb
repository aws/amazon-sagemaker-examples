{
 "cells": [
  {
   "cell_type": "markdown",
   "metadata": {},
   "source": [
    "# Supplement your data with synthetic features from a pre-trained model to train a better downstream audio classification model"
   ]
  },
  {
   "cell_type": "markdown",
   "metadata": {},
   "source": [
    "Training models on real life audio datasets can be challenging. Often, these datasets have noise from the environment that distorts the signal in the audio and this can affect the quality of the models that are trained on such datasets. Cleaning the dataset using traditional methods like filtering based on signal's characteristics like spectral energy, amplitude, frequency, etc is complicated and consumes a lot of time that often involves a lot of trial and error.\n",
    "\n",
    "Sometimes machine learning models that are trained to identify and separate the different components (like background and foreground, vocals and accompaniment) in an audio file can be used to generate synthetic features or to clean the original audio dataset. The [Quantiphi Source Separation Model](https://aws.amazon.com/marketplace/pp/prodview-23n4vi2zw67we?ref_=sa_campaign_pinaksaurabh) is one such model that performs source separation in the time domain of the input source audio. It uses a convolutional neural network like a U-Net in the time domain to separate the background noise and the main signal in an input audio.\n",
    "\n",
    "In this sample notebook, you will see how to use this model to process original audio files and then use the output of the model to train other downstream models. The performance of the downstream models is often better than one that has been trained on the original audio data."
   ]
  },
  {
   "cell_type": "markdown",
   "metadata": {},
   "source": [
    "#### Overview:\n",
    "\n",
    "Industrial machinery is often categorized as critical equipment in manufacturing processes. This equipment is prone to failure or breakdown, resulting in significant expenses for companies. There is a lot of value in monitoring these machines using different sensors including microphones. Advancements in acoustic detection methods as well as algorithms that aid in classification of scenes and events can now be used to monitor them. In this notebook, you will use an existing dataset of industrial machine sounds that contains sounds of normal and malfunctioning industrial machines.\n",
    "\n",
    "The methodology can be applied to various real-life scenarios where anomalous sounds are recorded (e.g., contamination, leakage, rotating unbalance, and rail damage). The purpose of this notebook is to use a pre-trained machine learning model and show if it can contribute to achieve better performance in acoustic classification based models.\n",
    "\n",
    "In [step 1](#-Step-1-Download-the-MIMII-dataset) of this notebook, you will download the dataset that is used in the notebook. In [step 2](#Step-2:-Use-an-ML-model-to-preprocess-the-audio-data), you will create the model from an AWS Marketplace subscription, deploy to an Amazon SageMaker endpoint and use it to preprocess the original audio files. In [step 3](#Step-3:-Explore-the-output-from-the-source-separation-model), you will explore the output of the model and see some examples. In [step 4](#Step-4:-Build-a-classification-model-to-identify-anomalous-samples), you will build classification models to identify anomalous samples. In [Step 5](#Step-5-Compare-the-performance-of-the-models) you will compare the performance of the models.\n"
   ]
  },
  {
   "cell_type": "markdown",
   "metadata": {},
   "source": [
    "#### Contents:\n",
    "* [Prerequisites](#Prerequisites)\n",
    "* [Step 1: Data collection and preparation](#-Step-1:-Data-collection-and-preparation)\n",
    "    * [Step 1.1: Download the dataset](Step-1.1:-Download-the-dataset)\n",
    "    * [Step 1.2: Upload the input data to a S3 bucket](#-Step-1.2-Upload-the-input-data-to-a-S3-bucket)\n",
    "* [Step 2: Use an ML model to preprocess the audio data](#Step-2:-Use-an-ML-model-to-preprocess-the-audio-data)\n",
    "    * [Step 2.1: Specify model ARN from AWS Marketplace subscription](#Step-2.1:-Specify-model-ARN-from-AWS-Marketplace-subscription)\n",
    "    * [Step 2.2: Run a batch transform job](Step-2.2:-Run-a-batch-transform-job)\n",
    "    * [Step 2.3: Download the output of the batch transform job](Step-2.3:-Download-the-output-of-the-batch-transform-job)\n",
    "* [Step 3: Explore the output from the source separation model](#Step-3:-Explore-the-output-from-the-source-separation-model)\n",
    "* [Step 4: Build a classification model to identify anomalous samples](#Step-4:-Build-a-classification-model-to-identify-anomalous-samples)\n",
    "    * [Step 4.1: Introduction to Audio Feature Extraction](#Step-4.1-Introduction-to-Audio-Feature-Extraction)\n",
    "    * [Step 4.2: Compute Mel-frequency cepstral coefficients (MFCCs)](#Step-4.2-Compute-Mel-frequency-cepstral-coefficients-(MFCCs))\n",
    "    * [Step 4.3: Split the samples into 'training' and 'test' datasets](#Step-4.3-Split-the-samples-into-'training'-and-'test'-datasets.)\n",
    "    * [Step 4.4: Train a classifier on the raw audio data](#Step-4.4-Train-a-classifier-on-the-raw-audio-data.)\n",
    "    * [Step 4.5: Train a classifier on the 'source-separated' audio data](#Step-4.5-Train-a-classifier-on-the-'source-separated'-audio-data.)\n",
    "* [Step 5: Compare the performance of the models](#Step-5-Compare-the-performance-of-the-models)\n",
    "    * [Step 5.1: Compute Accuracy, Recall and F2 Score](#Step-5.1-Compute-Accuracy,-Recall-and-F2-Score)\n",
    "* [Step 6: Conclusion and next steps](#Step6-Conclusion-and-next-steps)\n",
    "    * [Step 6.1: Cancel AWS Marketplace subscription](#Step-6.1:-Cancel-AWS-Marketplace-subscription)\n",
    "\n",
    "#### Usage instructions\n",
    "You can run this notebook one cell at a time (By using Shift+Enter for running a cell)."
   ]
  },
  {
   "cell_type": "markdown",
   "metadata": {},
   "source": [
    "**Prerequisites**\n",
    "\n",
    "\n",
    "1. This notebook requires the IAM role associated with this notebook to have *AmazonSageMakerFullAccess* IAM permission.\n",
    "\n",
    "2. Pick instance type **'ml.t3.large'** or larger. Set kernel to **'conda_python3' in a SageMaker Notebook instance** and to **'Python 3 Data Science' in SageMaker Studio**.\n",
    "3. This sample notebook requires a subscription to **[Source Separation by Quantiphi](https://aws.amazon.com/marketplace/pp/prodview-23n4vi2zw67we?ref_=sa_campaign_pinak)**, a pre-trained machine learning model package from AWS Marketplace. If your AWS account has not been subscribed to this listing, here is the process you can follow: \n",
    "    1. Open the [listing](https://aws.amazon.com/marketplace/pp/prodview-23n4vi2zw67we?ref_=sa_campaign_pinak) from AWS Marketplace.\n",
    "    2. Read the **Highlights** section and then **product overview** section of the listing.\n",
    "    3. View **usage information** and then **additional resources.**\n",
    "    4. Note the supported instance types.\n",
    "    5. Next, click on **Continue to subscribe.**\n",
    "    6. Review **End-user license agreement, support terms**, as well as **pricing information.**\n",
    "    7. **\"Accept Offer\"** button needs to be clicked if your organization agrees with EULA, pricing information as well as support terms.  If **Continue to configuration** button is active, it means your account already has a subscription to this listing. Once you click on **Continue to configuration** button and then choose region, you will see that a Product ARN will appear. Specify the value in the following cell.\n",
    "\n",
    "The below ARN is the version on which the notebook was tested. Please use this as a fallback if a newer version does not work. Additionally, you can refer this [file](https://gitlab.qdatalabs.com/quantiphi-sagemaker-marketplace-examples/source-separation/-/blob/master/src/source_separation_arns.py) for a list of ARNs corresponding to different regions. "
   ]
  },
  {
   "cell_type": "code",
   "execution_count": null,
   "metadata": {},
   "outputs": [],
   "source": [
    "# This is the ARN obtained in the above step\n",
    "model_package_arn = \"arn:aws:sagemaker:us-east-2:057799348421:model-package/source-sep11618586387-e73722215b88850c22e59b7564075da5\""
   ]
  },
  {
   "cell_type": "markdown",
   "metadata": {},
   "source": [
    "**Installing Dependencies**\n",
    " \n",
    "Install the [librosa](https://librosa.org/) package. This is a useful python library for audio analysis."
   ]
  },
  {
   "cell_type": "code",
   "execution_count": null,
   "metadata": {
    "scrolled": true
   },
   "outputs": [],
   "source": [
    "# Install librosa for audio analysis\n",
    "!conda install -y -c conda-forge librosa"
   ]
  },
  {
   "cell_type": "code",
   "execution_count": null,
   "metadata": {},
   "outputs": [],
   "source": [
    "import glob\n",
    "import pandas as pd\n",
    "import sagemaker as sm\n",
    "import zipfile\n",
    "import os\n",
    "import shutil\n",
    "import json\n",
    "import uuid\n",
    "import librosa\n",
    "import librosa.display\n",
    "import soundfile as sf\n",
    "import boto3\n",
    "import numpy as np\n",
    "import matplotlib.pyplot as plt\n",
    "from sklearn.model_selection import train_test_split\n",
    "from sklearn.ensemble import GradientBoostingClassifier\n",
    "from sklearn.model_selection import RandomizedSearchCV\n",
    "from sklearn.metrics import (\n",
    "    confusion_matrix,\n",
    "    f1_score,\n",
    "    recall_score,\n",
    "    precision_score,\n",
    "    plot_confusion_matrix,\n",
    "    fbeta_score,\n",
    ")\n",
    "from sagemaker import ModelPackage\n",
    "from IPython.display import Audio"
   ]
  },
  {
   "cell_type": "code",
   "execution_count": null,
   "metadata": {},
   "outputs": [],
   "source": [
    "role = sm.get_execution_role()\n",
    "sagemaker_session = sm.Session()\n",
    "s3 = boto3.resource(\"s3\")"
   ]
  },
  {
   "cell_type": "markdown",
   "metadata": {},
   "source": [
    "### Step 1: Data collection and preparation\n",
    "In this notebook, you will apply the above idea to the [Malfunctioning Industrial Machine Investigation and Inspection (MIMII) dataset](https://zenodo.org/record/3678171#.YLHjCWYzbeo). \n",
    "This dataset consists of normal and anomalous sounds of industrial machines like pumps, fans, valves and slide rails. The goal is to train a model to identify the anomalous sounds.\n",
    "\n",
    "The notebook uses the 'pump' dataset and you can experiment with other datasets in the family as an exercise. This consists of 4 different kinds (models) of pumps. Overall, there are around 3700 'normal' samples and around 450 'anomalous' samples. These have been split into 'train' and 'test', with 'train' consisting of only 'normal' samples. Since you will be building a classification model to identify anomalous samples, all the audio files are merged and then randomly split to a training and test set in a stratified fashion. "
   ]
  },
  {
   "cell_type": "markdown",
   "metadata": {},
   "source": [
    "#### Step 1.1: Download the dataset\n",
    "The first step is to download the dataset from its source and unzip the contents into a directory."
   ]
  },
  {
   "cell_type": "code",
   "execution_count": null,
   "metadata": {},
   "outputs": [],
   "source": [
    "os.environ[\"RAW_DATA\"] = \"DEMO-midii-audio\"\n",
    "os.environ[\"RAW_DATA_PUMP\"] = \"DEMO-midii-audio/pump\""
   ]
  },
  {
   "cell_type": "code",
   "execution_count": null,
   "metadata": {},
   "outputs": [],
   "source": [
    "!wget -O dev_data_pump.zip https://zenodo.org/record/3678171/files/dev_data_pump.zip?download=1\n",
    "!rm -rf $RAW_DATA\n",
    "!mkdir $RAW_DATA\n",
    "!unzip dev_data_pump.zip -d $RAW_DATA/\n",
    "!rm dev_data_pump.zip"
   ]
  },
  {
   "cell_type": "markdown",
   "metadata": {},
   "source": [
    "Let's also create a dataframe to store the details of each audio sample in the dataset, and the location of the source file. "
   ]
  },
  {
   "cell_type": "code",
   "execution_count": null,
   "metadata": {},
   "outputs": [],
   "source": [
    "# Get a list of files that have been downloaded across the different folders\n",
    "# data/pump\n",
    "# ________/train/\n",
    "# ________/test/\n",
    "dirs = glob.glob(os.environ[\"RAW_DATA_PUMP\"] + \"/*/*\")\n",
    "\n",
    "samples = []\n",
    "\n",
    "# Parse through the list and record metadata about the sample\n",
    "for idx, path in enumerate(dirs):\n",
    "    samples.append(\n",
    "        (\n",
    "            idx,\n",
    "            path.split(\"/\")[1],\n",
    "            path.split(\"/\")[2],\n",
    "            path.split(\"/\")[3].split(\"_\")[0],\n",
    "            path.split(\"/\")[3].split(\"_\")[1] + path.split(\"/\")[3].split(\"_\")[2],\n",
    "            path,\n",
    "        )\n",
    "    )\n",
    "audio_samples = pd.DataFrame(\n",
    "    samples, columns=[\"ID\", \"machine\", \"set\", \"sample_type\", \"model\", \"file_path\"]\n",
    ")\n",
    "\n",
    "# Move all the files into a single folder - data/pump\n",
    "samples = []\n",
    "for i, row in audio_samples.iterrows():\n",
    "    destination = \"%s/%s_%s\" % (\n",
    "        os.environ[\"RAW_DATA_PUMP\"],\n",
    "        row[\"set\"],\n",
    "        row[\"file_path\"].split(\"/\")[-1],\n",
    "    )\n",
    "    shutil.move(row[\"file_path\"], destination)\n",
    "    row[\"file_path\"] = destination\n",
    "    samples.append(row)\n",
    "audio_samples = pd.DataFrame(\n",
    "    samples, columns=[\"ID\", \"machine\", \"model\", \"sample_type\", \"file_path\"]\n",
    ")"
   ]
  },
  {
   "cell_type": "code",
   "execution_count": null,
   "metadata": {},
   "outputs": [],
   "source": [
    "!rm -r $RAW_DATA_PUMP/train $RAW_DATA_PUMP/test"
   ]
  },
  {
   "cell_type": "code",
   "execution_count": null,
   "metadata": {},
   "outputs": [],
   "source": [
    "!du -sh $RAW_DATA/pump"
   ]
  },
  {
   "cell_type": "markdown",
   "metadata": {},
   "source": [
    "#### Step 1.2: Upload the input data to s3 bucket\n",
    "Next, you will create a folder and copy all the audio files into this folder in an s3 bucket.\n",
    "\n",
    "The size of the dataset is around 1.3G and since you are uploading such a large dataset, the following step takes around 3-4 minutes."
   ]
  },
  {
   "cell_type": "code",
   "execution_count": null,
   "metadata": {},
   "outputs": [],
   "source": [
    "bucket = sagemaker_session.default_bucket()"
   ]
  },
  {
   "cell_type": "code",
   "execution_count": null,
   "metadata": {},
   "outputs": [],
   "source": [
    "# Upload all the orignal files to s3\n",
    "\n",
    "transform_input = sagemaker_session.upload_data(\n",
    "    os.environ[\"RAW_DATA_PUMP\"], bucket=bucket, key_prefix=\"pump\"\n",
    ")  # no trailing '/'\n",
    "print(\"Transform input uploaded to \" + transform_input)"
   ]
  },
  {
   "cell_type": "markdown",
   "metadata": {},
   "source": [
    "### Step 2: Use an ML model to clean the audio data\n",
    "\n",
    "You will now use the Quantiphi source-separation model that was introduced earlier in the notebook. The prediction is in the form of two audio files comprising of the vocals and accompaniment (signal/noise). The output is a zipped folder containing the above two audio files. "
   ]
  },
  {
   "cell_type": "markdown",
   "metadata": {},
   "source": [
    "#### Step 2.1: Specify model arn from AWS Marketplace subscription and create model from model package\n",
    "\n",
    "You will use ModelPackageArnProvider class to make sure you get the correct ARN in every supported region and then use the ModelPackage class to create the model.\n"
   ]
  },
  {
   "cell_type": "code",
   "execution_count": null,
   "metadata": {},
   "outputs": [],
   "source": [
    "print(\"Using model package ARN to create a dynamic model - \" + model_package_arn)\n",
    "\n",
    "model = ModelPackage(\n",
    "    role=role, model_package_arn=model_package_arn, sagemaker_session=sagemaker_session\n",
    ")"
   ]
  },
  {
   "cell_type": "markdown",
   "metadata": {},
   "source": [
    "#### Step 2.2: Run a batch transform job\n",
    "Finally you will run a batch transform job to process all the audio files using the model declared in the earlier step.\n",
    "\n",
    "You are also going to specify an instance type for the batch transformation. You can refer to compatible instance types for this [AWS Marketplace offering](https://aws.amazon.com/marketplace/pp/prodview-23n4vi2zw67we).\n",
    "\n",
    "This step takes around 30 minutes or more with the parameters that are used. You may increase the 'instance_count' to increase the speed. You can also explore changing the 'instance_type' to a more powerful instance."
   ]
  },
  {
   "cell_type": "code",
   "execution_count": null,
   "metadata": {},
   "outputs": [],
   "source": [
    "# Define a variable that is used as a prefix to create a folder in the s3 bucket.\n",
    "prefix = \"pump-source-separated/\""
   ]
  },
  {
   "cell_type": "markdown",
   "metadata": {},
   "source": [
    "Create a folder in the S3 bucket. The S3 URI of this folder is passed as the 'output_path' in the next step."
   ]
  },
  {
   "cell_type": "code",
   "execution_count": null,
   "metadata": {},
   "outputs": [],
   "source": [
    "source_separated_output = sagemaker_session.upload_string_as_file_body(\n",
    "    body=\"\", bucket=bucket, key=prefix\n",
    ")"
   ]
  },
  {
   "cell_type": "code",
   "execution_count": null,
   "metadata": {},
   "outputs": [],
   "source": [
    "# run a batch transform job to score all the audio files\n",
    "transformer = model.transformer(\n",
    "    instance_count=32,\n",
    "    instance_type=\"ml.m4.2xlarge\",\n",
    "    strategy=\"SingleRecord\",\n",
    "    output_path=source_separated_output,\n",
    ")\n",
    "transformer.transform(transform_input, content_type=\"application/x-recordio-protobuf\")\n",
    "transformer.wait()\n",
    "\n",
    "print(\"Batch Transform output saved to \" + transformer.output_path)"
   ]
  },
  {
   "cell_type": "markdown",
   "metadata": {},
   "source": [
    "#### Step 2.3: Download the output of the batch transform job\n",
    "You will now download the output from the batch transform job. The model outputs a single zip for every audio file in the input. The zip contains two files, a vocals file and an accompaniment file."
   ]
  },
  {
   "cell_type": "markdown",
   "metadata": {},
   "source": [
    "Create a folder to store the downloaded data."
   ]
  },
  {
   "cell_type": "code",
   "execution_count": null,
   "metadata": {},
   "outputs": [],
   "source": [
    "os.environ[\"SOURCE_SEPARATED_DATA\"] = os.environ[\"RAW_DATA\"] + \"/pump-source-separated/\""
   ]
  },
  {
   "cell_type": "code",
   "execution_count": null,
   "metadata": {},
   "outputs": [],
   "source": [
    "!rm -rf $SOURCE_SEPARATED_DATA\n",
    "!mkdir $SOURCE_SEPARATED_DATA"
   ]
  },
  {
   "cell_type": "markdown",
   "metadata": {},
   "source": [
    "Download the files from the s3 bucket."
   ]
  },
  {
   "cell_type": "code",
   "execution_count": null,
   "metadata": {},
   "outputs": [],
   "source": [
    "my_bucket = s3.Bucket(bucket)\n",
    "count = 0\n",
    "\n",
    "# Download the .zip files(output from the source separation model) from the s3 bucket\n",
    "for object_summary in my_bucket.objects.filter(Prefix=prefix):\n",
    "    count += 1\n",
    "    file_name = object_summary.key.split(\"/\")[-1]\n",
    "\n",
    "    if file_name == prefix.split(\"/\")[-1]:\n",
    "        continue\n",
    "    # print(prefix+file_name)\n",
    "    my_bucket.download_file(\n",
    "        object_summary.key, \"{}/{}.zip\".format(os.environ[\"SOURCE_SEPARATED_DATA\"], file_name)\n",
    "    )"
   ]
  },
  {
   "cell_type": "markdown",
   "metadata": {},
   "source": [
    "Unzip all the downloaded files. You will find that every folder has two files: '*_accompaniment.wav' and '*_vocals.wav'. These are the new source-separated audio files."
   ]
  },
  {
   "cell_type": "code",
   "execution_count": null,
   "metadata": {},
   "outputs": [],
   "source": [
    "!find $SOURCE_SEPARATED_DATA -name '*.zip' -exec sh -c 'unzip -d \"${1%.*}\" \"$1\"' _ {} \\;"
   ]
  },
  {
   "cell_type": "markdown",
   "metadata": {},
   "source": [
    "### Step 3: Explore the source separated audio files"
   ]
  },
  {
   "cell_type": "markdown",
   "metadata": {},
   "source": [
    "You can use the below function to explore the output of the source separation model. This is done in the next step.\n",
    "\n",
    "The function loads the audio file using the librosa package and plots them using the 'waveplot' function from the library. The input to the function is the path to the original audio sample. The function plots that and then loads the corresponding source-separated files for plotting."
   ]
  },
  {
   "cell_type": "code",
   "execution_count": null,
   "metadata": {},
   "outputs": [],
   "source": [
    "def plot_waveform(file):\n",
    "    \"\"\"\n",
    "    Function to plot the waveform of the original sample and the corresponding source-separated signals\n",
    "\n",
    "    file: path of a original audio sample\n",
    "\n",
    "    \"\"\"\n",
    "    print(\"--- Original Audio sample ---\")\n",
    "    display(Audio(file))\n",
    "\n",
    "    # Load the original audio file and plot the amplitude of the signal\n",
    "    x, sr = librosa.load(file, sr=16000, mono=False)\n",
    "    librosa.display.waveplot(x, sr, label=\"original audio\")\n",
    "    plt.legend()\n",
    "    plt.title(\"Original Audio - waveplot\")\n",
    "    plt.show()\n",
    "\n",
    "    # Find the corresponding source separated files for the original audio file selected above\n",
    "    file_id = file.split(\"/\")[-1]\n",
    "    accompaniment_file = glob.glob(\n",
    "        f'{os.environ[\"SOURCE_SEPARATED_DATA\"]}/{file_id}.out/output/*_accompaniment.wav'\n",
    "    )\n",
    "    vocal_file = glob.glob(\n",
    "        f'{os.environ[\"SOURCE_SEPARATED_DATA\"]}/{file_id}.out/output/*_vocals.wav'\n",
    "    )\n",
    "\n",
    "    print(\"--- Source separated: Accompaniment ---\")\n",
    "    display(Audio(accompaniment_file[0]))\n",
    "    print(\"--- Source separated: Vocal ---\")\n",
    "    display(Audio(vocal_file[0]))\n",
    "\n",
    "    # Load the accompaniment and vocal file and plot the amplitudes of the two waveforms\n",
    "    x, sr = librosa.load(accompaniment_file[0], sr=16000, mono=False)\n",
    "    librosa.display.waveplot(x, sr, color=\"grey\", label=\"accompaniment\")\n",
    "\n",
    "    x, sr = librosa.load(vocal_file[0], sr=16000, mono=False)\n",
    "    librosa.display.waveplot(x, sr, color=\"teal\", alpha=0.8, label=\"vocals\")\n",
    "    plt.legend()\n",
    "    plt.title(\"Source Separated Audio - waveplots\")\n",
    "    plt.show()"
   ]
  },
  {
   "cell_type": "markdown",
   "metadata": {},
   "source": [
    "Plot the waveform of an anomalous sample and the corresponding source-separated audio files. Note the difference in the waveforms. The source-separation model has separated the original into two distinct signals.\n",
    "\n",
    "For the purpose of illustration, a specific example is selected. You can modify the input to 'plot_waveform' and take a look at other samples of your choice. "
   ]
  },
  {
   "cell_type": "code",
   "execution_count": null,
   "metadata": {},
   "outputs": [],
   "source": [
    "plot_waveform(os.environ[\"RAW_DATA_PUMP\"] + \"/test_anomaly_id_00_00000133.wav\")"
   ]
  },
  {
   "cell_type": "markdown",
   "metadata": {},
   "source": [
    "In this example, you look at a normal sample. The 'vocals' file has a signal with a much smaller amplitude than the original audio except towards the very end. While the 'accompaniment' more or less retains the properties of the original audio file."
   ]
  },
  {
   "cell_type": "code",
   "execution_count": null,
   "metadata": {},
   "outputs": [],
   "source": [
    "plot_waveform(os.environ[\"RAW_DATA_PUMP\"] + \"/train_normal_id_00_00000131.wav\")"
   ]
  },
  {
   "cell_type": "markdown",
   "metadata": {},
   "source": [
    "### Step 4: Build a classification model to identify anomalous samples"
   ]
  },
  {
   "cell_type": "markdown",
   "metadata": {},
   "source": [
    "The next step is to build a classification model to identify those samples that are anomalous. Since the primary goal of this notebook is to demonstrate the effectiveness of using a pre-trained model to clean the audio data, this notebook uses a [Gradient Boosting Classifier](https://scikit-learn.org/stable/modules/generated/sklearn.ensemble.GradientBoostingClassifier.html). You can however try other approaches such as convolutional neural networks, autoencoders, etc.\n",
    "\n",
    "You will train a Gradient Boosting Classifier using the raw audio files and the source separated audio files respectively, and then compare the performance of models on the test data."
   ]
  },
  {
   "cell_type": "markdown",
   "metadata": {},
   "source": [
    "#### Step 4.1: Introduction to Audio Feature Extraction"
   ]
  },
  {
   "cell_type": "markdown",
   "metadata": {},
   "source": [
    "An audio file or a signal is generally a sequence of samples at a particular \"sampling\" frequency and a \"sampling\" resolution. The audio files in the [MIMII dataset](https://zenodo.org/record/3678171#.YLHjCWYzbeo) have a sampling frequency of 16kHz.\n",
    "\n",
    "The first step to build a model on audio data is to convert the original audio signal into a higher representation that captures all its properties. This is done by splitting the input signal into short term windows and extracting features from it. \n",
    "\n",
    "There are different kinds of features that can be extracted:\n",
    "- **Time domain features**: These are directly extracted from the audio sample.\n",
    "- **Frequency domain features**: These features are extracted from the [Discrete Fourier Transform](https://en.wikipedia.org/wiki/Discrete_Fourier_transform) of the audio signal.\n",
    "- **Cepstral features**: These features are obtained by applying the [Inverse Fourier Transform](https://en.wikipedia.org/wiki/Fourier_inversion_theorem) of the logarithm of the estimated signal.\n",
    "\n",
    "**Optional reading**\n",
    "\n",
    "You can learn more about the different kinds of features and the various libraries that can be used to compute them in this [paper](https://journals.plos.org/plosone/article?id=10.1371/journal.pone.0144610).\n"
   ]
  },
  {
   "cell_type": "markdown",
   "metadata": {},
   "source": [
    "#### Step 4.2: Compute Mel-frequency cepstral coefficients (MFCCs)\n",
    "You will use a well known python library for audio analysis called [librosa](https://librosa.org/doc/latest/index.html) to compute Mel-frequency cepstral coefficients (MFCCs). These fall into the category of cepstral features.\n",
    "\n",
    "MFCCs are computed for every window (or frame) in the audio signal. Hence, you will compute a statistic to aggregate this over all the windows in the audio signal. In this case, the mean is computed. However, you can compute different percentiles and use them as features.\n",
    "\n",
    "You are going to do the following in this step:\n",
    "- Compute MFCCs for every audio sample in the dataset (i.e. for both the raw audio file and the source separated files - accompaniment.wav and vocals.wav).\n",
    "- Compute the mean of the MFCCs across the different windows.\n",
    "- Record the label of the audio sample. Anomalous samples are considered as 'positive' samples (class = 1)."
   ]
  },
  {
   "cell_type": "code",
   "execution_count": null,
   "metadata": {},
   "outputs": [],
   "source": [
    "mfcc_raw = []\n",
    "mfcc_accompaniment = []\n",
    "mfcc_vocal = []\n",
    "labels = []\n",
    "\n",
    "# set the sampling rate equal to that defined in the dataset\n",
    "sampling_rate = 16000\n",
    "\n",
    "# set the number of MFCCs that you want to use.\n",
    "# There are 128 of them and you should use all of them\n",
    "num_mfccs = 128\n",
    "\n",
    "for i, row in audio_samples.iterrows():\n",
    "\n",
    "    # raw audio\n",
    "    x, rate = librosa.load(row[\"file_path\"], sr=sampling_rate)\n",
    "    features = np.mean(librosa.feature.mfcc(x, sr=rate, n_mfcc=num_mfccs), axis=1)\n",
    "    mfcc_raw.append(features)\n",
    "\n",
    "    file_id = row[\"file_path\"].split(\"/\")[-1]\n",
    "    accompaniment_file = glob.glob(\n",
    "        f'{os.environ[\"SOURCE_SEPARATED_DATA\"]}/{file_id}.out/output/*_accompaniment.wav'\n",
    "    )\n",
    "    vocal_file = glob.glob(\n",
    "        f'{os.environ[\"SOURCE_SEPARATED_DATA\"]}/{file_id}.out/output/*_vocals.wav'\n",
    "    )\n",
    "\n",
    "    # accompaniment\n",
    "    x, rate = librosa.load(accompaniment_file[0])\n",
    "    features = np.mean(librosa.feature.mfcc(x, sr=rate, n_mfcc=num_mfccs), axis=1)\n",
    "    mfcc_accompaniment.append(features)\n",
    "\n",
    "    # vocals\n",
    "    x, rate = librosa.load(vocal_file[0])\n",
    "    features = np.mean(librosa.feature.mfcc(x, sr=rate, n_mfcc=num_mfccs), axis=1)\n",
    "    mfcc_vocal.append(features)\n",
    "\n",
    "    labels.append(1 if row[\"sample_type\"] == \"anomaly\" else 0)"
   ]
  },
  {
   "cell_type": "markdown",
   "metadata": {},
   "source": [
    "To make it easy to access the features, you will now concatenate all the features into a single dataframe and name the columns appropriately."
   ]
  },
  {
   "cell_type": "code",
   "execution_count": null,
   "metadata": {},
   "outputs": [],
   "source": [
    "# Concatenate dataframes into a single pandas dataframe.\n",
    "mfcc_features = pd.concat(\n",
    "    [\n",
    "        pd.DataFrame(mfcc_raw, columns=[f\"mfcc_{i}_raw\" for i in range(mfcc_raw[0].shape[0])]),\n",
    "        pd.DataFrame(\n",
    "            mfcc_accompaniment,\n",
    "            columns=[f\"mfcc_{i}_accompaniment\" for i in range(mfcc_accompaniment[0].shape[0])],\n",
    "        ),\n",
    "        pd.DataFrame(mfcc_raw, columns=[f\"mfcc_{i}_vocals\" for i in range(mfcc_vocal[0].shape[0])]),\n",
    "    ],\n",
    "    axis=1,\n",
    ")\n",
    "\n",
    "# store the column names for the features from the raw(original) audio\n",
    "mfcc_raw = [col for col in mfcc_features.columns if col.endswith(\"raw\")]\n",
    "\n",
    "# store the column names for the features from the source separated files: accompaniment and vocal\n",
    "mfcc_accompaniment = [col for col in mfcc_features.columns if col.endswith(\"accompaniment\")]\n",
    "mfcc_vocals = [col for col in mfcc_features.columns if col.endswith(\"vocals\")]"
   ]
  },
  {
   "cell_type": "markdown",
   "metadata": {},
   "source": [
    "#### Step 4.3: Split the samples into 'training' and 'test' datasets.\n",
    "\n",
    "You will now create a 'training' and a 'test' dataset by splitting all the samples in a stratified fashion. Use 'test_size' to decide the percentage of samples in your test data (20% in this case). Stratification is done by passing the labels as an argument to 'stratify'. This ensures that the split is done such that the proportion of anomalous samples is the same in the training and test datasets. "
   ]
  },
  {
   "cell_type": "code",
   "execution_count": null,
   "metadata": {},
   "outputs": [],
   "source": [
    "X_train, X_test, y_train, y_test = train_test_split(\n",
    "    mfcc_features, labels, test_size=0.2, shuffle=True, stratify=labels, random_state=1\n",
    ")"
   ]
  },
  {
   "cell_type": "markdown",
   "metadata": {},
   "source": [
    "#### Step 4.4: Train a classifier on the raw audio data.\n",
    "\n",
    "The hyperparameters of the model have been set to reasonable defaults. The number of trees is set to 1000 and the sampling fraction is 0.5. This ensures that variance is reduced. The same hyperparameters are used in all the models for consistency during comparison."
   ]
  },
  {
   "cell_type": "code",
   "execution_count": null,
   "metadata": {},
   "outputs": [],
   "source": [
    "# Train a GradientBoosting Classifier from sklearn. In a production setting, you can use xgboost, lightgbm, etc.\n",
    "clf_raw = GradientBoostingClassifier(\n",
    "    subsample=0.5, n_estimators=1000, max_features=\"log2\", random_state=10\n",
    ")\n",
    "clf_raw.fit(X_train[mfcc_raw], y_train)\n",
    "y_pred_raw = clf_raw.predict(X_test[mfcc_raw])"
   ]
  },
  {
   "cell_type": "markdown",
   "metadata": {},
   "source": [
    "#### Step 4.5: Train a classifier on the 'source-separated' audio data."
   ]
  },
  {
   "cell_type": "markdown",
   "metadata": {},
   "source": [
    "In this step, you will train two ML models, one on vocals and another one on accompaniment."
   ]
  },
  {
   "cell_type": "code",
   "execution_count": null,
   "metadata": {},
   "outputs": [],
   "source": [
    "# Train a GradientBoosting Classifier using only the features from 'accompaniment'\n",
    "clf_accompaniment = GradientBoostingClassifier(\n",
    "    subsample=0.5, n_estimators=1000, max_features=\"log2\", random_state=10\n",
    ")\n",
    "clf_accompaniment.fit(X_train[mfcc_accompaniment], y_train)\n",
    "y_pred_accompaniment = clf_accompaniment.predict(X_test[mfcc_accompaniment])\n",
    "\n",
    "# Train a GradientBoosting Classifier using only the features from 'vocals'\n",
    "clf_vocals = GradientBoostingClassifier(\n",
    "    subsample=0.5, n_estimators=1000, max_features=\"log2\", random_state=10\n",
    ")\n",
    "clf_vocals.fit(X_train[mfcc_vocals], y_train)\n",
    "y_pred_vocals = clf_vocals.predict(X_test[mfcc_vocals])"
   ]
  },
  {
   "cell_type": "markdown",
   "metadata": {},
   "source": [
    "### Step 5: Performance Comparison\n",
    "After training the models, it is time to compare their performance. You will now compute the accuracy, recall, and f2-score on the 'test' dataset.\n",
    "\n",
    "Since this is a binary classification problem with imbalanced classes, [recall](https://en.wikipedia.org/wiki/Precision_and_recall#Recall), and the f2-score are the metrics of importance.\n",
    "\n",
    "\n",
    "F2-score is a variation of the [F-measure](https://en.wikipedia.org/wiki/Precision_and_recall#F-measure) that weights recall higher than precision.\n",
    "\n",
    "In this specific scenario, the goal is to identify pumps that are not functioning properly (anomalous) using their sound. The cost of not identifying anomalous pumps is greater for the business. This makes Recall and F2-score the metrics that we should optimize since they capture the extent to which the positive class is correctly predicted. In this case, it's the anomalous class."
   ]
  },
  {
   "cell_type": "markdown",
   "metadata": {},
   "source": [
    "#### Step 5.1: Compute Accuracy, Recall and F2-Score\n",
    "In this step, you will compute the Recall and F2 Score on the test data using the different models that were trained in the previous step. You will also plot the confusion matrix. "
   ]
  },
  {
   "cell_type": "code",
   "execution_count": null,
   "metadata": {},
   "outputs": [],
   "source": [
    "print(\"----------------- Original Audio Data ---------------------\")\n",
    "print(\"Recall: %.2f\" % (recall_score(y_test, y_pred_raw)))\n",
    "print(\"F2 Score: %.2f\" % (fbeta_score(y_test, y_pred_raw, beta=2.0)))\n",
    "plot_confusion_matrix(clf_raw, X_test[mfcc_raw], y_test)\n",
    "plt.show()\n",
    "\n",
    "print(\"----------------- Source-separated: Accompaniment ---------------------\")\n",
    "print(\"Recall: %.2f\" % (recall_score(y_test, y_pred_accompaniment)))\n",
    "print(\"F2 Score: %.2f\" % (fbeta_score(y_test, y_pred_accompaniment, beta=2.0)))\n",
    "plot_confusion_matrix(clf_accompaniment, X_test[mfcc_accompaniment], y_test)\n",
    "plt.show()\n",
    "\n",
    "print(\"----------------- Source-separated: Vocals ---------------------\")\n",
    "print(\"Recall: %.2f\" % (recall_score(y_test, y_pred_vocals)))\n",
    "print(\"F2 Score: %.2f\" % (fbeta_score(y_test, y_pred_vocals, beta=2.0)))\n",
    "plot_confusion_matrix(clf_vocals, X_test[mfcc_vocals], y_test)\n",
    "plt.show()"
   ]
  },
  {
   "cell_type": "markdown",
   "metadata": {},
   "source": [
    "**Results**\n",
    "\n",
    "From the above results, it is clear that a model that is trained on the output of the source separation model performs better than one trained on the original audio data.\n",
    "\n",
    "The 'F2-Score' and 'Recall' of the model trained on the 'accompaniment audio signal' which is the output of the source separation model is greater than that of the model trained with the original audio. This implies that the model correctly identifies more anomalous signals and is hence better.\n",
    "\n",
    "The metrics that you see might slightly vary because these are tree based models and have a certain level of randomness associated with it. However, we did run the model multiple times and found that the model trained on the 'accompaniment audio files' generally gives a 5% - 10% higher F2 score.\n",
    "\n",
    "![Performance across Multiple runs](img/multiple_runs.png)"
   ]
  },
  {
   "cell_type": "markdown",
   "metadata": {},
   "source": [
    "### Step 6: Conclusion and next steps\n",
    "\n",
    "In this notebook, you have done the following - \n",
    "- used a Machine Learning model to create synthetic features and preprocess the audio data\n",
    "- showed that training a downstream model on the processed data can enhance its performance\n",
    "\n",
    "In terms of the business value of the problem we see more and more use cases around sound-based predictive maintenance and it is considered as the future of predictive maintenance. A majority of the machine components produce sounds and hence these signals can be captured to monitor them.\n",
    "\n",
    "Techniques above show how to improve the models quickly and efficiently using pre-trained models from collective intelligence across industries. \n",
    "\n",
    "SageMaker Marketplace has various similar pre-trained models for other tasks that can increase model accuracy in current models using existing models."
   ]
  },
  {
   "cell_type": "markdown",
   "metadata": {},
   "source": [
    "#### Step 6.1: Cancel AWS Marketplace subscription"
   ]
  },
  {
   "cell_type": "markdown",
   "metadata": {},
   "source": [
    "Finally, if you subscribed to AWS Marketplace model for an experiment and would like to unsubscribe, you can follow the steps below. Before you cancel the subscription, ensure that you do not have any [deployable model](https://console.aws.amazon.com/sagemaker/home#/models) created from the model package or using the algorithm. You can also find this information by looking at the container name associated with the model. In this case, the name follows the following pattern - 'source-sepxxxxxx'.\n",
    "\n",
    "**Steps to unsubscribe from the product on AWS Marketplace:**\n",
    "\n",
    "Navigate to Machine Learning tab on your [Software subscriptions page](https://aws.amazon.com/marketplace/ai/library?productType=ml&ref_=lbr_tab_ml).\n",
    "Locate the listing that you would need to cancel, and click Cancel Subscription."
   ]
  }
 ],
 "metadata": {
  "instance_type": "ml.t3.medium",
  "kernelspec": {
   "display_name": "conda_python3",
   "language": "python",
   "name": "conda_python3"
  },
  "language_info": {
   "codemirror_mode": {
    "name": "ipython",
    "version": 3
   },
   "file_extension": ".py",
   "mimetype": "text/x-python",
   "name": "python",
   "nbconvert_exporter": "python",
   "pygments_lexer": "ipython3",
   "version": "3.6.13"
  }
 },
 "nbformat": 4,
 "nbformat_minor": 4
}
