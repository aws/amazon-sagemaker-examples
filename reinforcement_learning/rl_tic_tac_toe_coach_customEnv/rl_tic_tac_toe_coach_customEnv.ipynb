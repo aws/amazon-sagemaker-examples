{
 "cells": [
  {
   "cell_type": "markdown",
   "metadata": {},
   "source": [
    "# Learning Tic-Tac-Toe with Reinforcement Learning\n",
    "**_Train with SageMaker RL and evaluate interactively within the notebook_**\n",
    "\n",
    "---\n",
    "\n",
    "---\n",
    "\n",
    "\n",
    "## Outline\n",
    "\n",
    "1. [Overview](#Overview)\n",
    "1. [Setup](#Setup)\n",
    "1. [Code](#Code)\n",
    "  1. [Environment](#Environment)\n",
    "  1. [Preset](#Preset)\n",
    "  1. [Launcher](#Launcher)\n",
    "1. [Train](#Train)\n",
    "1. [Deploy](#Deploy)\n",
    "  1. [Inference](#Inference)\n",
    "1. [Play](#Play)\n",
    "1. [Wrap Up](#Wrap-Up)\n",
    "\n",
    "---\n",
    "\n",
    "## Overview\n",
    "\n",
    "Tic-tac-toe is one of the first games children learn to play and was one of the [first computer games ever](https://en.wikipedia.org/wiki/OXO).  Optimal play through exhaustive search is relatively straightforward, however, approaching with a reinforcement learning agent can be educational.\n",
    "\n",
    "This notebook shows how to train a reinforcement learning agent with SageMaker RL and then play locally and interactively within the notebook.  Unlike SageMaker local mode, this method does not require a docker container to run locally, instead using an endpoint and integration with a small Jupyter app (*Note, this app does not work in JupyterLab*).\n",
    "\n",
    "---\n",
    "\n",
    "## Setup\n",
    "\n",
    "Let's start by defining our S3 bucket and and IAM role."
   ]
  },
  {
   "cell_type": "code",
   "execution_count": null,
   "metadata": {
    "collapsed": true
   },
   "outputs": [],
   "source": [
    "import sagemaker\n",
    "\n",
    "bucket = sagemaker.Session().default_bucket()\n",
    "role = sagemaker.get_execution_role()"
   ]
  },
  {
   "cell_type": "markdown",
   "metadata": {},
   "source": [
    "Let's import the libraries we'll use."
   ]
  },
  {
   "cell_type": "code",
   "execution_count": null,
   "metadata": {
    "collapsed": true
   },
   "outputs": [],
   "source": [
    "import os\n",
    "import numpy as np\n",
    "import sagemaker\n",
    "from sagemaker.rl import RLEstimator, RLToolkit, RLFramework\n",
    "from tic_tac_toe_game import TicTacToeGame"
   ]
  },
  {
   "cell_type": "markdown",
   "metadata": {},
   "source": [
    "---\n",
    "\n",
    "## Code\n",
    "\n",
    "Our tic-tac-toe example requires 3 scripts in order to train our agent using SageMaker RL.  The scripts are placed in the `./src` directory which is sent to the container when the SageMaker training job is initiated.\n",
    "\n",
    "### Environment\n",
    "\n",
    "For our tic-tac-toe use case we'll create a custom Gym environment.  This means we'll specify a Python class which inherits from `gym.Env` and has two methods: `reset()` and `step()`.  These will provide the agent its state, actions, and rewards for learning.  In more detail:\n",
    "\n",
    "The `__init__()` method is called at the beginning of the SageMaker training job and:\n",
    "1. Starts the 3x3 tic-tac-toe board as a NumPy array of zeros\n",
    "1. Prepares the state space as a flattened version of the board (length 9)\n",
    "1. Defines a discrete action space with 9 possible options (one for each place on the board)\n",
    "\n",
    "The `reset()` method is called at the beginning of each episode and:\n",
    "1. Clears the 3x3 board (sets all values to 0)\n",
    "1. Does some minor record-keeping for tracking across tic-tac-toe games\n",
    "\n",
    "The `step()` method is called for each iteration in an episode and:\n",
    "1. Adjusts the board based on the action chosen by the agent based on the previous state\n",
    "1. Generates rewards based on performance\n",
    "1. Automatically chooses the move for the agent's opponent if needed\n",
    "\n",
    "Note:\n",
    "* The opponent has not been programmed for perfect play.  If we taught our agent against a perfect opponent, it would not generalize to scenarios where the rules of perfect play were not followed.\n",
    "* If our agent selects an occupied space, it is given a minor penalty (-0.1) and asked to choose again.  Although the state doesn't change across these steps (meaning the agent's network's prediction should stay the same), randomness in the agent should eventually result in different actions.  However, if the agent chooses an occupied space 10 times in a row, the game is forfeit.  Selecting an action only from available spaces would require more substantial modification than was desired for this example.\n",
    "* Other rewards only occur when a game is completed (+1 for win, 0 for draw, -1 for loss).\n",
    "* The board is saved as a NumPy array where a value of +1 represents our agent's moves (`X`s) and a value of -1 represents the opponent's moves (`O`s)."
   ]
  },
  {
   "cell_type": "code",
   "execution_count": null,
   "metadata": {},
   "outputs": [],
   "source": [
    "!pygmentize ./src/tic_tac_toe.py"
   ]
  },
  {
   "cell_type": "markdown",
   "metadata": {},
   "source": [
    "### Preset\n",
    "\n",
    "The preset file specifies Coach parameters used by our reinforcement learning agent.  For this problem we'll use a [Clipped PPO algorithm](https://nervanasystems.github.io/coach/components/agents/policy_optimization/cppo.html).  We have kept the preset file deliberately spartan, deferring to defaults for most parameters, in order to focus on just the key components.  Performance of our agent could likely be improved with increased tuning."
   ]
  },
  {
   "cell_type": "code",
   "execution_count": null,
   "metadata": {},
   "outputs": [],
   "source": [
    "!pygmentize ./src/preset.py"
   ]
  },
  {
   "cell_type": "markdown",
   "metadata": {},
   "source": [
    "### Launcher\n",
    "\n",
    "The launcher is a script used by Amazon SageMaker to drive the training job on the SageMaker RL container.  We have kept it minimal, only specifying the name of the preset file to be used for the training job."
   ]
  },
  {
   "cell_type": "code",
   "execution_count": null,
   "metadata": {},
   "outputs": [],
   "source": [
    "!pygmentize ./src/train-coach.py"
   ]
  },
  {
   "cell_type": "markdown",
   "metadata": {},
   "source": [
    "---\n",
    "\n",
    "## Train\n",
    "\n",
    "Now, let's kick off the training job in Amazon SageMaker.  This call can include hyperparameters that overwrite values in `train-coach.py` or `preset.py`, but in our case, we've limited to defining:\n",
    "1. The location of our agent code `./src` and dependencies in `common`.\n",
    "1. Which RL and DL framework to use (SageMaker also supports [Ray RLlib](https://ray.readthedocs.io/en/latest/rllib.html) and Coach TensorFlow).\n",
    "1. The IAM role granted permissions to our data in S3 and ability to create SageMaker training jobs.\n",
    "1. Training job hardware specifications (in this case just 1 ml.m4.xlarge instance).\n",
    "1. Output path for our checkpoints and saved episodes.\n",
    "1. A single hyperparameter specifying that we would like our agent's network to be output (in this case as an ONNX model)."
   ]
  },
  {
   "cell_type": "code",
   "execution_count": null,
   "metadata": {},
   "outputs": [],
   "source": [
    "estimator = RLEstimator(source_dir='src',\n",
    "                        entry_point=\"train-coach.py\",\n",
    "                        dependencies=[\"common/sagemaker_rl\"],\n",
    "                        toolkit=RLToolkit.COACH,\n",
    "                        toolkit_version='0.11.0',\n",
    "                        framework=RLFramework.MXNET,\n",
    "                        role=role,\n",
    "                        train_instance_count=1,\n",
    "                        train_instance_type='ml.m4.xlarge',\n",
    "                        output_path='s3://{}/'.format(bucket),\n",
    "                        base_job_name='DEMO-rl-tic-tac-toe',\n",
    "                        hyperparameters={'save_model': 1})\n",
    "\n",
    "estimator.fit()"
   ]
  },
  {
   "cell_type": "markdown",
   "metadata": {},
   "source": [
    "---\n",
    "\n",
    "## Deploy\n",
    "\n",
    "Normally we would evaluate our agent by looking for reward convergence or monitoring performance across epsisodes.  Other SageMaker RL example notebooks cover this in detail.  We'll skip that for the more tangible approach of testing the trained agent by playing against it ourselves.  To do that, we'll first deploy the agent to a realtime endpoint to get predictions.\n",
    "\n",
    "### Inference\n",
    "\n",
    "Our deployment code:\n",
    "1. Unpacks the ONNX model output and prepares it for inference in `model_fn`\n",
    "1. Generates predictions from our network, given state (a flattened tic-tac-toe board) in `transform_fn`"
   ]
  },
  {
   "cell_type": "code",
   "execution_count": null,
   "metadata": {},
   "outputs": [],
   "source": [
    "!pygmentize ./src/deploy-coach.py"
   ]
  },
  {
   "cell_type": "markdown",
   "metadata": {},
   "source": [
    "### Endpoint\n",
    "\n",
    "Now we'll actually create a SageMaker endpoint to call for predictions.\n",
    "\n",
    "*Note, this step could be replaced by importing the ONNX model into the notebook environment.*"
   ]
  },
  {
   "cell_type": "code",
   "execution_count": null,
   "metadata": {},
   "outputs": [],
   "source": [
    "predictor = estimator.deploy(initial_instance_count=1, \n",
    "                             instance_type='ml.m4.xlarge', \n",
    "                             entry_point='deploy-coach.py')"
   ]
  },
  {
   "cell_type": "markdown",
   "metadata": {},
   "source": [
    "---\n",
    "\n",
    "## Play \n",
    "\n",
    "Let's play our agent.  After running the cell below, just click on one the boxes to make your move.  To restart the game, simply execute the cell again.\n",
    "\n",
    "*This cell uses the `TicTacToeGame` class from `tic_tac_toe_game.py` script to build an extremely basic tic-tac-toe app within a Jupyter notebook.  The opponents moves are generated by invoking the `predictor` passed at initialization.  Please refer to the code for additional details.*"
   ]
  },
  {
   "cell_type": "code",
   "execution_count": null,
   "metadata": {},
   "outputs": [],
   "source": [
    "t = TicTacToeGame(predictor)\n",
    "t.start()"
   ]
  },
  {
   "cell_type": "markdown",
   "metadata": {},
   "source": [
    "---\n",
    "\n",
    "## Wrap Up\n",
    "\n",
    "In this notebook we trained a reinforcement learning agent to play a simple game of tic-tac-toe, using a custom Gym environment.  It could be built upon to solve other problems or improved by:\n",
    "\n",
    "- Training for more episodes\n",
    "- Using a different reinforcement learning algorithm\n",
    "- Tuning hyperparameters for improved performance\n",
    "- Or how about a nice game of [global thermonuclear war](https://youtu.be/s93KC4AGKnY?t=41)?\n",
    "\n",
    "Let's finish by cleaning up our endpoint to prevent any persistent costs."
   ]
  },
  {
   "cell_type": "code",
   "execution_count": null,
   "metadata": {
    "collapsed": true
   },
   "outputs": [],
   "source": [
    "predictor.delete_endpoint()"
   ]
  }
 ],
 "metadata": {
  "anaconda-cloud": {},
  "kernelspec": {
   "display_name": "conda_python3",
   "language": "python",
   "name": "conda_python3"
  },
  "language_info": {
   "codemirror_mode": {
    "name": "ipython",
    "version": 3
   },
   "file_extension": ".py",
   "mimetype": "text/x-python",
   "name": "python",
   "nbconvert_exporter": "python",
   "pygments_lexer": "ipython3",
   "version": "3.6.2"
  },
  "notice": "Copyright 2019 Amazon.com, Inc. or its affiliates. All Rights Reserved. Licensed under the Apache License, Version 2.0 (the \"License\"). You may not use this file except in compliance with the License. A copy of the License is located at http://aws.amazon.com/apache2.0/ or in the \"license\" file accompanying this file. This file is distributed on an \"AS IS\" BASIS, WITHOUT WARRANTIES OR CONDITIONS OF ANY KIND, either express or implied. See the License for the specific language governing permissions and limitations under the License."
 },
 "nbformat": 4,
 "nbformat_minor": 2
}
