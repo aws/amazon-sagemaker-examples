{
 "cells": [
  {
   "cell_type": "markdown",
   "metadata": {},
   "source": [
    "# A Scientific Deep Dive Into SageMaker LDA\n",
    "\n",
    "1. [Introduction](#Introduction)\n",
    "1. [Setup](#Setup)\n",
    "1. [Data Exploration](#DataExploration)\n",
    "1. [Training](#Training)\n",
    "1. [Inference](#Inference)\n",
    "1. [Epilogue](#Epilogue)"
   ]
  },
  {
   "cell_type": "markdown",
   "metadata": {},
   "source": [
    "# Introduction\n",
    "***\n",
    "\n",
    "Amazon SageMaker LDA is an unsupervised learning algorithm that attempts to describe a set of observations as a mixture of distinct categories. Latent Dirichlet Allocation (LDA) is most commonly used to discover a user-specified number of topics shared by documents within a text corpus. Here each observation is a document, the features are the presence (or occurrence count) of each word, and the categories are the topics. Since the method is unsupervised, the topics are not specified up front, and are not guaranteed to align with how a human may naturally categorize documents. The topics are learned as a probability distribution over the words that occur in each document. Each document, in turn, is described as a mixture of topics.\n",
    "\n",
    "This notebook is similar to **LDA-Introduction.ipynb** but its objective and scope are a different. We will be taking a deeper dive into the theory. The primary goals of this notebook are,\n",
    "\n",
    "* to understand the LDA model and the example dataset,\n",
    "* understand how the Amazon SageMaker LDA algorithm works,\n",
    "* interpret the meaning of the inference output.\n",
    "\n",
    "Former knowledge of LDA is not required. However, we will run through concepts rather quickly and at least a foundational knowledge of mathematics or machine learning is recommended. Suggested references are provided, as appropriate."
   ]
  },
  {
   "cell_type": "code",
   "execution_count": 43,
   "metadata": {},
   "outputs": [],
   "source": [
    "%matplotlib inline\n",
    "\n",
    "import os, re, tarfile\n",
    "\n",
    "import boto3\n",
    "import matplotlib.pyplot as plt\n",
    "import mxnet as mx\n",
    "import numpy as np\n",
    "\n",
    "np.set_printoptions(precision=3, suppress=True)\n",
    "\n",
    "# some helpful utility functions are defined in the Python module\n",
    "# \"generate_example_data\" located in the same directory as this\n",
    "# notebook\n",
    "from generate_example_data import (\n",
    "    generate_griffiths_data,\n",
    "    match_estimated_topics,\n",
    "    plot_lda,\n",
    "    plot_lda_topics,\n",
    ")\n",
    "\n",
    "# accessing the SageMaker Python SDK\n",
    "import sagemaker\n",
    "from sagemaker.amazon.common import RecordSerializer\n",
    "from sagemaker.serializers import CSVSerializer\n",
    "from sagemaker.deserializers import JSONDeserializer"
   ]
  },
  {
   "cell_type": "markdown",
   "metadata": {},
   "source": [
    "# Setup\n",
    "\n",
    "***\n",
    "\n",
    "*This notebook was created and tested on an ml.m4.xlarge notebook instance.*\n",
    "\n",
    "We first need to specify some AWS credentials; specifically data locations and access roles. This is the only cell of this notebook that you will need to edit. In particular, we need the following data:\n",
    "\n",
    "* `bucket` - An S3 bucket accessible by this account.\n",
    "  * Used to store input training data and model data output.\n",
    "  * Should be withing the same region as this notebook instance, training, and hosting.\n",
    "* `prefix` - The location in the bucket where this notebook's input and and output data will be stored. (The default value is sufficient.)\n",
    "* `role` - The IAM Role ARN used to give training and hosting access to your data.\n",
    "  * See documentation on how to create these.\n",
    "  * The script below will try to determine an appropriate Role ARN."
   ]
  },
  {
   "cell_type": "code",
   "execution_count": 5,
   "metadata": {
    "isConfigCell": true,
    "tags": [
     "parameters"
    ]
   },
   "outputs": [
    {
     "name": "stdout",
     "output_type": "stream",
     "text": [
      "Training input/output will be stored in sagemaker-us-west-2-688520471316/sagemaker/DEMO-lda-science\n",
      "\n",
      "IAM Role: arn:aws:iam::688520471316:role/hongshan-sagemaker-experiment\n"
     ]
    }
   ],
   "source": [
    "from sagemaker import get_execution_role\n",
    "\n",
    "role = get_execution_role()\n",
    "\n",
    "bucket = sagemaker.Session().default_bucket()\n",
    "prefix = \"sagemaker/DEMO-lda-science\"\n",
    "\n",
    "\n",
    "print(\"Training input/output will be stored in {}/{}\".format(bucket, prefix))\n",
    "print(\"\\nIAM Role: {}\".format(role))"
   ]
  },
  {
   "cell_type": "markdown",
   "metadata": {},
   "source": [
    "## The LDA Model\n",
    "\n",
    "As mentioned above, LDA is a model for discovering latent topics describing a collection of documents. In this section we will give a brief introduction to the model. Let,\n",
    "\n",
    "* $M$ = the number of *documents* in a corpus\n",
    "* $N$ = the average *length* of a document.\n",
    "* $V$ = the size of the *vocabulary* (the total number of unique words)\n",
    "\n",
    "We denote a *document* by a vector $w \\in \\mathbb{R}^V$ where $w_i$ equals the number of times the $i$th word in the vocabulary occurs within the document. This is called the \"bag-of-words\" format of representing a document.\n",
    "\n",
    "$$\n",
    "\\underbrace{w}_{\\text{document}} = \\overbrace{\\big[ w_1, w_2, \\ldots, w_V \\big] }^{\\text{word counts}},\n",
    "\\quad\n",
    "V = \\text{vocabulary size}\n",
    "$$\n",
    "\n",
    "The *length* of a document is equal to the total number of words in the document: $N_w = \\sum_{i=1}^V w_i$.\n",
    "\n",
    "An LDA model is defined by two parameters: a topic-word distribution matrix $\\beta \\in \\mathbb{R}^{K \\times V}$ and a  Dirichlet topic prior $\\alpha \\in \\mathbb{R}^K$. In particular, let,\n",
    "\n",
    "$$\\beta = \\left[ \\beta_1, \\ldots, \\beta_K \\right]$$\n",
    "\n",
    "be a collection of $K$ *topics* where each topic $\\beta_k \\in \\mathbb{R}^V$ is represented as probability distribution over the vocabulary. One of the utilities of the LDA model is that a given word is allowed to appear in multiple topics with positive probability. The Dirichlet topic prior is a vector $\\alpha \\in \\mathbb{R}^K$ such that $\\alpha_k > 0$ for all $k$."
   ]
  },
  {
   "cell_type": "markdown",
   "metadata": {},
   "source": [
    "# Data Exploration\n",
    "\n",
    "---\n",
    "\n",
    "## An Example Dataset\n",
    "\n",
    "Before explaining further let's get our hands dirty with an example dataset. The following synthetic data comes from [1] and comes with a very useful visual interpretation.\n",
    "\n",
    "> [1] Thomas Griffiths and Mark Steyvers. *Finding Scientific Topics.* Proceedings of the National Academy of Science, 101(suppl 1):5228-5235, 2004."
   ]
  },
  {
   "cell_type": "code",
   "execution_count": 6,
   "metadata": {},
   "outputs": [
    {
     "name": "stdout",
     "output_type": "stream",
     "text": [
      "Generating example data...\n",
      "documents_training.shape = (5400, 25)\n",
      "documents_test.shape = (600, 25)\n"
     ]
    }
   ],
   "source": [
    "print(\"Generating example data...\")\n",
    "num_documents = 6000\n",
    "known_alpha, known_beta, documents, topic_mixtures = generate_griffiths_data(\n",
    "    num_documents=num_documents, num_topics=10\n",
    ")\n",
    "num_topics, vocabulary_size = known_beta.shape\n",
    "\n",
    "\n",
    "# separate the generated data into training and tests subsets\n",
    "num_documents_training = int(0.9 * num_documents)\n",
    "num_documents_test = num_documents - num_documents_training\n",
    "\n",
    "documents_training = documents[:num_documents_training]\n",
    "documents_test = documents[num_documents_training:]\n",
    "\n",
    "topic_mixtures_training = topic_mixtures[:num_documents_training]\n",
    "topic_mixtures_test = topic_mixtures[num_documents_training:]\n",
    "\n",
    "print(\"documents_training.shape = {}\".format(documents_training.shape))\n",
    "print(\"documents_test.shape = {}\".format(documents_test.shape))"
   ]
  },
  {
   "cell_type": "markdown",
   "metadata": {},
   "source": [
    "Let's start by taking a closer look at the documents. Note that the vocabulary size of these data is $V = 25$. The average length of each document in this data set is 150. (See `generate_griffiths_data.py`.)"
   ]
  },
  {
   "cell_type": "code",
   "execution_count": 7,
   "metadata": {},
   "outputs": [
    {
     "name": "stdout",
     "output_type": "stream",
     "text": [
      "First training document =\n",
      "[ 0.  0.  2.  0.  0.  9.  4. 13. 14. 14. 27. 14. 15. 22. 18.  0.  1.  2.\n",
      "  0.  2.  0.  0.  5.  0.  0.]\n",
      "\n",
      "Vocabulary size = 25\n",
      "Length of first document = 162.0\n"
     ]
    }
   ],
   "source": [
    "print(\"First training document =\\n{}\".format(documents_training[0]))\n",
    "print(\"\\nVocabulary size = {}\".format(vocabulary_size))\n",
    "print(\"Length of first document = {}\".format(documents_training[0].sum()))"
   ]
  },
  {
   "cell_type": "code",
   "execution_count": 8,
   "metadata": {},
   "outputs": [
    {
     "name": "stdout",
     "output_type": "stream",
     "text": [
      "Observed average document length = 149.83066666666667\n"
     ]
    }
   ],
   "source": [
    "average_document_length = documents.sum(axis=1).mean()\n",
    "print(\"Observed average document length = {}\".format(average_document_length))"
   ]
  },
  {
   "cell_type": "markdown",
   "metadata": {},
   "source": [
    "The example data set above also returns the LDA parameters,\n",
    "\n",
    "$$(\\alpha, \\beta)$$\n",
    "\n",
    "used to generate the documents. Let's examine the first topic and verify that it is a probability distribution on the vocabulary."
   ]
  },
  {
   "cell_type": "code",
   "execution_count": 9,
   "metadata": {},
   "outputs": [
    {
     "name": "stdout",
     "output_type": "stream",
     "text": [
      "First topic =\n",
      "[0.223 0.    0.    0.    0.    0.196 0.    0.    0.    0.    0.225 0.\n",
      " 0.    0.    0.    0.17  0.    0.    0.    0.    0.186 0.    0.    0.\n",
      " 0.   ]\n",
      "\n",
      "Topic-word probability matrix (beta) shape: (num_topics, vocabulary_size) = (10, 25)\n",
      "\n",
      "Sum of elements of first topic = 0.9999999999999999\n"
     ]
    }
   ],
   "source": [
    "print(\"First topic =\\n{}\".format(known_beta[0]))\n",
    "\n",
    "print(\n",
    "    \"\\nTopic-word probability matrix (beta) shape: (num_topics, vocabulary_size) = {}\".format(\n",
    "        known_beta.shape\n",
    "    )\n",
    ")\n",
    "print(\"\\nSum of elements of first topic = {}\".format(known_beta[0].sum()))"
   ]
  },
  {
   "cell_type": "markdown",
   "metadata": {},
   "source": [
    "Unlike some clustering algorithms, one of the versatilities of the LDA model is that a given word can belong to multiple topics. The probability of that word occurring in each topic may differ, as well. This is reflective of real-world data where, for example, the word *\"rover\"* appears in a *\"dogs\"* topic as well as in a *\"space exploration\"* topic.\n",
    "\n",
    "In our synthetic example dataset, the first word in the vocabulary belongs to both Topic #1 and Topic #6 with non-zero probability."
   ]
  },
  {
   "cell_type": "code",
   "execution_count": 10,
   "metadata": {},
   "outputs": [
    {
     "name": "stdout",
     "output_type": "stream",
     "text": [
      "Topic #1:\n",
      "[0.223 0.    0.    0.    0.    0.196 0.    0.    0.    0.    0.225 0.\n",
      " 0.    0.    0.    0.17  0.    0.    0.    0.    0.186 0.    0.    0.\n",
      " 0.   ]\n",
      "Topic #6:\n",
      "[0.202 0.179 0.207 0.193 0.219 0.    0.    0.    0.    0.    0.    0.\n",
      " 0.    0.    0.    0.    0.    0.    0.    0.    0.    0.    0.    0.\n",
      " 0.   ]\n"
     ]
    }
   ],
   "source": [
    "print(\"Topic #1:\\n{}\".format(known_beta[0]))\n",
    "print(\"Topic #6:\\n{}\".format(known_beta[5]))"
   ]
  },
  {
   "cell_type": "markdown",
   "metadata": {},
   "source": [
    "Human beings are visual creatures, so it might be helpful to come up with a visual representation of these documents.\n",
    "\n",
    "In the below plots, each pixel of a document represents a word. The greyscale intensity is a measure of how frequently that word occurs within the document. Below we plot the first few documents of the training set reshaped into 5x5 pixel grids."
   ]
  },
  {
   "cell_type": "code",
   "execution_count": 11,
   "metadata": {},
   "outputs": [
    {
     "data": {
      "image/png": "[encoded data removed]",
      "text/plain": [
       "<Figure size 640x480 with 13 Axes>"
      ]
     },
     "metadata": {
      "needs_background": "light"
     },
     "output_type": "display_data"
    }
   ],
   "source": [
    "%matplotlib inline\n",
    "\n",
    "fig = plot_lda(documents_training, nrows=3, ncols=4, cmap=\"gray_r\", with_colorbar=True)\n",
    "fig.suptitle(\"$w$ - Document Word Counts\")\n",
    "fig.set_dpi(160)"
   ]
  },
  {
   "cell_type": "markdown",
   "metadata": {},
   "source": [
    "When taking a close look at these documents we can see some patterns in the word distributions suggesting that, perhaps, each topic represents a \"column\" or \"row\" of words with non-zero probability and that each document is composed primarily of a handful of topics.\n",
    "\n",
    "Below we plots the *known* topic-word probability distributions, $\\beta$. Similar to the documents we reshape each probability distribution to a $5 \\times 5$ pixel image where the color represents the probability of that each word occurring in the topic."
   ]
  },
  {
   "cell_type": "code",
   "execution_count": 12,
   "metadata": {},
   "outputs": [
    {
     "data": {
      "image/png": "[encoded data removed]",
      "text/plain": [
       "<Figure size 1600x320 with 11 Axes>"
      ]
     },
     "metadata": {
      "needs_background": "light"
     },
     "output_type": "display_data"
    }
   ],
   "source": [
    "%matplotlib inline\n",
    "\n",
    "fig = plot_lda(known_beta, nrows=1, ncols=10)\n",
    "fig.suptitle(r\"Known $\\beta$ - Topic-Word Probability Distributions\")\n",
    "fig.set_dpi(160)\n",
    "fig.set_figheight(2)"
   ]
  },
  {
   "cell_type": "markdown",
   "metadata": {},
   "source": [
    "These 10 topics were used to generate the document corpus. Next, we will learn about how this is done."
   ]
  },
  {
   "cell_type": "markdown",
   "metadata": {},
   "source": [
    "## Generating Documents\n",
    "\n",
    "LDA is a generative model, meaning that the LDA parameters $(\\alpha, \\beta)$ are used to construct documents word-by-word by drawing from the topic-word distributions. In fact, looking closely at the example documents above you can see that some documents sample more words from some topics than from others.\n",
    "\n",
    "LDA works as follows: given \n",
    "\n",
    "* $M$ documents $w^{(1)}, w^{(2)}, \\ldots, w^{(M)}$,\n",
    "* an average document length of $N$,\n",
    "* and an LDA model $(\\alpha, \\beta)$.\n",
    "\n",
    "**For** each document, $w^{(m)}$:\n",
    "* sample a topic mixture: $\\theta^{(m)} \\sim \\text{Dirichlet}(\\alpha)$\n",
    "* **For** each word $n$ in the document:\n",
    "  * Sample a topic $z_n^{(m)} \\sim \\text{Multinomial}\\big( \\theta^{(m)} \\big)$\n",
    "  * Sample a word from this topic, $w_n^{(m)} \\sim \\text{Multinomial}\\big( \\beta_{z_n^{(m)}} \\; \\big)$\n",
    "  * Add to document\n",
    "\n",
    "The [plate notation](https://en.wikipedia.org/wiki/Plate_notation) for the LDA model, introduced in [2], encapsulates this process pictorially.\n",
    "\n",
    "![](http://scikit-learn.org/stable/_images/lda_model_graph.png)\n",
    "\n",
    "> [2] David M Blei, Andrew Y Ng, and Michael I Jordan. Latent Dirichlet Allocation. Journal of Machine Learning Research, 3(Jan):993–1022, 2003."
   ]
  },
  {
   "cell_type": "markdown",
   "metadata": {},
   "source": [
    "## Topic Mixtures\n",
    "\n",
    "For the documents we generated above lets look at their corresponding topic mixtures, $\\theta \\in \\mathbb{R}^K$. The topic mixtures represent the probablility that a given word of the document is sampled from a particular topic. For example, if the topic mixture of an input document $w$ is,\n",
    "\n",
    "$$\\theta = \\left[ 0.3, 0.2, 0, 0.5, 0, \\ldots, 0 \\right]$$\n",
    "\n",
    "then $w$ is 30% generated from the first topic, 20% from the second topic, and 50% from the fourth topic. In particular, the words contained in the document are sampled from the first topic-word probability distribution 30% of the time, from the second distribution 20% of the time, and the fourth disribution 50% of the time.\n",
    "\n",
    "\n",
    "The objective of inference, also known as scoring, is to determine the most likely topic mixture of a given input document. Colloquially, this means figuring out which topics appear within a given document and at what ratios. We will perform infernece later in the [Inference](#Inference) section.\n",
    "\n",
    "Since we generated these example documents using the LDA model we know the topic mixture generating them. Let's examine these topic mixtures."
   ]
  },
  {
   "cell_type": "code",
   "execution_count": 13,
   "metadata": {},
   "outputs": [
    {
     "name": "stdout",
     "output_type": "stream",
     "text": [
      "First training document =\n",
      "[ 0.  0.  2.  0.  0.  9.  4. 13. 14. 14. 27. 14. 15. 22. 18.  0.  1.  2.\n",
      "  0.  2.  0.  0.  5.  0.  0.]\n",
      "\n",
      "Vocabulary size = 25\n",
      "Length of first document = 162.0\n"
     ]
    }
   ],
   "source": [
    "print(\"First training document =\\n{}\".format(documents_training[0]))\n",
    "print(\"\\nVocabulary size = {}\".format(vocabulary_size))\n",
    "print(\"Length of first document = {}\".format(documents_training[0].sum()))"
   ]
  },
  {
   "cell_type": "code",
   "execution_count": 14,
   "metadata": {},
   "outputs": [
    {
     "name": "stdout",
     "output_type": "stream",
     "text": [
      "First training document topic mixture =\n",
      "[0.    0.021 0.076 0.    0.002 0.    0.299 0.594 0.006 0.003]\n",
      "\n",
      "Number of topics = 10\n",
      "sum(theta) = 0.9999999999999998\n"
     ]
    }
   ],
   "source": [
    "print(\"First training document topic mixture =\\n{}\".format(topic_mixtures_training[0]))\n",
    "print(\"\\nNumber of topics = {}\".format(num_topics))\n",
    "print(\"sum(theta) = {}\".format(topic_mixtures_training[0].sum()))"
   ]
  },
  {
   "cell_type": "markdown",
   "metadata": {},
   "source": [
    "We plot the first document along with its topic mixture. We also plot the topic-word probability distributions again for reference."
   ]
  },
  {
   "cell_type": "code",
   "execution_count": 15,
   "metadata": {},
   "outputs": [
    {
     "data": {
      "image/png": "[encoded data removed]",
      "text/plain": [
       "<Figure size 600x400 with 3 Axes>"
      ]
     },
     "metadata": {
      "needs_background": "light"
     },
     "output_type": "display_data"
    }
   ],
   "source": [
    "%matplotlib inline\n",
    "\n",
    "fig, (ax1, ax2) = plt.subplots(2, 1)\n",
    "\n",
    "ax1.matshow(documents[0].reshape(5, 5), cmap=\"gray_r\")\n",
    "ax1.set_title(r\"$w$ - Document\", fontsize=20)\n",
    "ax1.set_xticks([])\n",
    "ax1.set_yticks([])\n",
    "\n",
    "cax2 = ax2.matshow(topic_mixtures[0].reshape(1, -1), cmap=\"Reds\", vmin=0, vmax=1)\n",
    "cbar = fig.colorbar(cax2, orientation=\"horizontal\")\n",
    "ax2.set_title(r\"$\\theta$ - Topic Mixture\", fontsize=20)\n",
    "ax2.set_xticks([])\n",
    "ax2.set_yticks([])\n",
    "\n",
    "fig.set_dpi(100)"
   ]
  },
  {
   "cell_type": "code",
   "execution_count": 16,
   "metadata": {},
   "outputs": [
    {
     "data": {
      "image/png": "[encoded data removed]",
      "text/plain": [
       "<Figure size 1600x240 with 11 Axes>"
      ]
     },
     "metadata": {
      "needs_background": "light"
     },
     "output_type": "display_data"
    }
   ],
   "source": [
    "%matplotlib inline\n",
    "\n",
    "# pot\n",
    "fig = plot_lda(known_beta, nrows=1, ncols=10)\n",
    "fig.suptitle(r\"Known $\\beta$ - Topic-Word Probability Distributions\")\n",
    "fig.set_dpi(160)\n",
    "fig.set_figheight(1.5)"
   ]
  },
  {
   "cell_type": "markdown",
   "metadata": {},
   "source": [
    "Finally, let's plot several documents with their corresponding topic mixtures. We can see how topics with large weight in the document lead to more words in the document within the corresponding \"row\" or \"column\"."
   ]
  },
  {
   "cell_type": "code",
   "execution_count": 17,
   "metadata": {},
   "outputs": [
    {
     "data": {
      "image/png": "[encoded data removed]",
      "text/plain": [
       "<Figure size 960x640 with 24 Axes>"
      ]
     },
     "metadata": {},
     "output_type": "display_data"
    }
   ],
   "source": [
    "%matplotlib inline\n",
    "\n",
    "fig = plot_lda_topics(documents_training, 3, 4, topic_mixtures=topic_mixtures)\n",
    "fig.suptitle(r\"$(w,\\theta)$ - Documents with Known Topic Mixtures\")\n",
    "fig.set_dpi(160)"
   ]
  },
  {
   "cell_type": "markdown",
   "metadata": {},
   "source": [
    "# Training\n",
    "\n",
    "***\n",
    "\n",
    "In this section we will give some insight into how AWS SageMaker LDA fits an LDA model to a corpus, create an run a SageMaker LDA training job, and examine the output trained model."
   ]
  },
  {
   "cell_type": "markdown",
   "metadata": {},
   "source": [
    "## Topic Estimation using Tensor Decompositions\n",
    "\n",
    "Given a document corpus, Amazon SageMaker LDA uses a spectral tensor decomposition technique to determine the LDA model $(\\alpha, \\beta)$ which most likely describes the corpus. See [1] for a primary reference of the theory behind the algorithm. The spectral decomposition, itself, is computed using the CPDecomp algorithm described in [2].\n",
    "\n",
    "The overall idea is the following: given a corpus of documents $\\mathcal{W} = \\{w^{(1)}, \\ldots, w^{(M)}\\}, \\; w^{(m)} \\in \\mathbb{R}^V,$ we construct a statistic tensor,\n",
    "\n",
    "$$T \\in \\bigotimes^3 \\mathbb{R}^V$$\n",
    "\n",
    "such that the spectral decomposition of the tensor is approximately the LDA parameters $\\alpha \\in \\mathbb{R}^K$ and $\\beta \\in \\mathbb{R}^{K \\times V}$ which maximize the likelihood of observing the corpus for a given number of topics, $K$,\n",
    "\n",
    "$$T \\approx \\sum_{k=1}^K \\alpha_k \\; (\\beta_k \\otimes \\beta_k \\otimes \\beta_k)$$\n",
    "\n",
    "This statistic tensor encapsulates information from the corpus such as the document mean, cross correlation, and higher order statistics. For details, see [1].\n",
    "\n",
    "\n",
    "> [1] Animashree Anandkumar, Rong Ge, Daniel Hsu, Sham Kakade, and Matus Telgarsky. *\"Tensor Decompositions for Learning Latent Variable Models\"*, Journal of Machine Learning Research, 15:2773–2832, 2014.\n",
    ">\n",
    "> [2] Tamara Kolda and Brett Bader. *\"Tensor Decompositions and Applications\"*. SIAM Review, 51(3):455–500, 2009.\n",
    "\n",
    "\n"
   ]
  },
  {
   "cell_type": "markdown",
   "metadata": {},
   "source": [
    "## Store Data on S3\n",
    "\n",
    "Before we run training we need to prepare the data.\n",
    "\n",
    "A SageMaker training job needs access to training data stored in an S3 bucket. Although training can accept data of various formats we convert the documents MXNet RecordIO Protobuf format before uploading to the S3 bucket defined at the beginning of this notebook."
   ]
  },
  {
   "cell_type": "code",
   "execution_count": 28,
   "metadata": {},
   "outputs": [
    {
     "name": "stdout",
     "output_type": "stream",
     "text": [
      "Uploaded data to S3: s3://sagemaker-us-west-2-688520471316/sagemaker/DEMO-lda-science/train/lda.data\n"
     ]
    }
   ],
   "source": [
    "# convert documents_training to Protobuf RecordIO format\n",
    "recordio_protobuf_serializer = RecordSerializer()\n",
    "fbuffer = recordio_protobuf_serializer.serialize(documents_training)\n",
    "\n",
    "# upload to S3 in bucket/prefix/train\n",
    "fname = \"lda.data\"\n",
    "s3_object = os.path.join(prefix, \"train\", fname)\n",
    "boto3.Session().resource(\"s3\").Bucket(bucket).Object(s3_object).upload_fileobj(fbuffer)\n",
    "\n",
    "s3_train_data = \"s3://{}/{}\".format(bucket, s3_object)\n",
    "print(\"Uploaded data to S3: {}\".format(s3_train_data))"
   ]
  },
  {
   "cell_type": "markdown",
   "metadata": {},
   "source": [
    "Next, we specify a Docker container containing the SageMaker LDA algorithm. For your convenience, a region-specific container is automatically chosen for you to minimize cross-region data communication"
   ]
  },
  {
   "cell_type": "code",
   "execution_count": 30,
   "metadata": {},
   "outputs": [
    {
     "name": "stdout",
     "output_type": "stream",
     "text": [
      "Help on function retrieve in module sagemaker.image_uris:\n",
      "\n",
      "retrieve(framework, region, version=None, py_version=None, instance_type=None, accelerator_type=None, image_scope=None, container_version=None)\n",
      "    Retrieves the ECR URI for the Docker image matching the given arguments.\n",
      "    \n",
      "    Args:\n",
      "        framework (str): The name of the framework or algorithm.\n",
      "        region (str): The AWS region.\n",
      "        version (str): The framework or algorithm version. This is required if there is\n",
      "            more than one supported version for the given framework or algorithm.\n",
      "        py_version (str): The Python version. This is required if there is\n",
      "            more than one supported Python version for the given framework version.\n",
      "        instance_type (str): The SageMaker instance type. For supported types, see\n",
      "            https://aws.amazon.com/sagemaker/pricing/instance-types. This is required if\n",
      "            there are different images for different processor types.\n",
      "        accelerator_type (str): Elastic Inference accelerator type. For more, see\n",
      "            https://docs.aws.amazon.com/sagemaker/latest/dg/ei.html.\n",
      "        image_scope (str): The image type, i.e. what it is used for.\n",
      "            Valid values: \"training\", \"inference\", \"eia\". If ``accelerator_type`` is set,\n",
      "            ``image_scope`` is ignored.\n",
      "        container_version (str): the version of docker image\n",
      "    \n",
      "    Returns:\n",
      "        str: the ECR URI for the corresponding SageMaker Docker image.\n",
      "    \n",
      "    Raises:\n",
      "        ValueError: If the combination of arguments specified is not supported.\n",
      "\n"
     ]
    }
   ],
   "source": [
    "help(retrieve)"
   ]
  },
  {
   "cell_type": "code",
   "execution_count": 31,
   "metadata": {},
   "outputs": [
    {
     "name": "stdout",
     "output_type": "stream",
     "text": [
      "Using SageMaker LDA container: 266724342769.dkr.ecr.us-west-2.amazonaws.com/lda:1 (us-west-2)\n"
     ]
    }
   ],
   "source": [
    "from sagemaker.image_uris import retrieve\n",
    "\n",
    "region_name = boto3.Session().region_name\n",
    "container = retrieve('lda', boto3.Session().region_name)\n",
    "\n",
    "print(\"Using SageMaker LDA container: {} ({})\".format(container, region_name))"
   ]
  },
  {
   "cell_type": "markdown",
   "metadata": {},
   "source": [
    "## Training Parameters\n",
    "\n",
    "Particular to a SageMaker LDA training job are the following hyperparameters:\n",
    "\n",
    "* **`num_topics`** - The number of topics or categories in the LDA model.\n",
    "  * Usually, this is not known a priori.\n",
    "  * In this example, howevever, we know that the data is generated by five topics.\n",
    "\n",
    "* **`feature_dim`** - The size of the *\"vocabulary\"*, in LDA parlance.\n",
    "  * In this example, this is equal 25.\n",
    "\n",
    "* **`mini_batch_size`** - The number of input training documents.\n",
    "\n",
    "* **`alpha0`** - *(optional)* a measurement of how \"mixed\" are the topic-mixtures.\n",
    "  * When `alpha0` is small the data tends to be represented by one or few topics.\n",
    "  * When `alpha0` is large the data tends to be an even combination of several or many topics.\n",
    "  * The default value is `alpha0 = 1.0`.\n",
    "\n",
    "In addition to these LDA model hyperparameters, we provide additional parameters defining things like the EC2 instance type on which training will run, the S3 bucket containing the data, and the AWS access role. Note that,\n",
    "\n",
    "* Recommended instance type: `ml.c4`\n",
    "* Current limitations:\n",
    "  * SageMaker LDA *training* can only run on a single instance.\n",
    "  * SageMaker LDA does not take advantage of GPU hardware.\n",
    "  * (The Amazon AI Algorithms team is working hard to provide these capabilities in a future release!)"
   ]
  },
  {
   "cell_type": "markdown",
   "metadata": {},
   "source": [
    "Using the above configuration create a SageMaker client and use the client to create a training job."
   ]
  },
  {
   "cell_type": "code",
   "execution_count": 32,
   "metadata": {
    "collapsed": true,
    "jupyter": {
     "outputs_hidden": true
    }
   },
   "outputs": [
    {
     "name": "stdout",
     "output_type": "stream",
     "text": [
      "2021-05-13 21:10:59 Starting - Starting the training job...\n",
      "2021-05-13 21:11:01 Starting - Launching requested ML instances.........\n",
      "2021-05-13 21:12:31 Starting - Preparing the instances for training...\n",
      "2021-05-13 21:13:25 Downloading - Downloading input data...\n",
      "2021-05-13 21:13:36 Training - Downloading the training image......\n",
      "2021-05-13 21:14:46 Training - Training image download completed. Training in progress.\u001b[34mDocker entrypoint called with argument(s): train\u001b[0m\n",
      "\u001b[34mUsing mxnet backend.\u001b[0m\n",
      "\u001b[34m[05/13/2021 21:14:49 INFO 139817151432512] Reading default configuration from /opt/amazon/lib/python2.7/site-packages/algorithm/resources/default-input.json: {u'alpha0': u'1.0', u'max_restarts': u'10', u'_tuning_objective_metric': u'', u'_num_gpus': u'auto', u'allow_svd_init': u'true', u'epochs': u'1', u'tol': u'1e-8', u'_kvstore': u'local', u'max_iterations': u'1000'}\u001b[0m\n",
      "\u001b[34m[05/13/2021 21:14:49 INFO 139817151432512] Reading provided configuration from /opt/ml/input/config/hyperparameters.json: {u'feature_dim': u'25', u'mini_batch_size': u'5400', u'num_topics': u'10', u'alpha0': u'1.0'}\u001b[0m\n",
      "\u001b[34m[05/13/2021 21:14:49 INFO 139817151432512] Final configuration: {u'alpha0': u'1.0', u'max_restarts': u'10', u'_tuning_objective_metric': u'', u'_num_gpus': u'auto', u'allow_svd_init': u'true', u'epochs': u'1', u'feature_dim': u'25', u'num_topics': u'10', u'tol': u'1e-8', u'_kvstore': u'local', u'mini_batch_size': u'5400', u'max_iterations': u'1000'}\u001b[0m\n",
      "\u001b[34m[05/13/2021 21:14:49 INFO 139817151432512] Using default worker.\u001b[0m\n",
      "\u001b[34m[05/13/2021 21:14:49 INFO 139817151432512] Loaded iterator creator application/x-recordio-protobuf for content type ('application/x-recordio-protobuf', '1.0')\u001b[0m\n",
      "\u001b[34m[05/13/2021 21:14:49 INFO 139817151432512] Running LDA for 13 topics (10 requested)\u001b[0m\n",
      "\u001b[34m#metrics {\"Metrics\": {\"LDA.initialize.time\": {\"count\": 1, \"max\": 0.41294097900390625, \"sum\": 0.41294097900390625, \"min\": 0.41294097900390625}}, \"EndTime\": 1620940489.496635, \"Dimensions\": {\"Host\": \"algo-1\", \"Operation\": \"training\", \"Algorithm\": \"LDA\"}, \"StartTime\": 1620940489.474382}\n",
      "\u001b[0m\n",
      "\u001b[34m#metrics {\"Metrics\": {\"Max Batches Seen Between Resets\": {\"count\": 1, \"max\": 0, \"sum\": 0.0, \"min\": 0}, \"Number of Batches Since Last Reset\": {\"count\": 1, \"max\": 0, \"sum\": 0.0, \"min\": 0}, \"Number of Records Since Last Reset\": {\"count\": 1, \"max\": 0, \"sum\": 0.0, \"min\": 0}, \"Total Batches Seen\": {\"count\": 1, \"max\": 0, \"sum\": 0.0, \"min\": 0}, \"Total Records Seen\": {\"count\": 1, \"max\": 0, \"sum\": 0.0, \"min\": 0}, \"Max Records Seen Between Resets\": {\"count\": 1, \"max\": 0, \"sum\": 0.0, \"min\": 0}, \"Reset Count\": {\"count\": 1, \"max\": 0, \"sum\": 0.0, \"min\": 0}}, \"EndTime\": 1620940489.496781, \"Dimensions\": {\"Host\": \"algo-1\", \"Meta\": \"init_train_data_iter\", \"Operation\": \"training\", \"Algorithm\": \"LDA\"}, \"StartTime\": 1620940489.496753}\n",
      "\u001b[0m\n",
      "\u001b[34m[05/13/2021 21:14:49 INFO 139817151432512] Loaded all data into matrix with shape: (5400, 25)\u001b[0m\n",
      "\u001b[34m#metrics {\"Metrics\": {\"epochs\": {\"count\": 1, \"max\": 1, \"sum\": 1.0, \"min\": 1}, \"get_all_batches_from_iter.time\": {\"count\": 1, \"max\": 9.499788284301758, \"sum\": 9.499788284301758, \"min\": 9.499788284301758}}, \"EndTime\": 1620940489.506501, \"Dimensions\": {\"Host\": \"algo-1\", \"Operation\": \"training\", \"Algorithm\": \"LDA\"}, \"StartTime\": 1620940489.496718}\n",
      "\u001b[0m\n",
      "\u001b[34m#metrics {\"Metrics\": {\"moment1.time\": {\"count\": 1, \"max\": 0.8668899536132812, \"sum\": 0.8668899536132812, \"min\": 0.8668899536132812}}, \"EndTime\": 1620940489.508388, \"Dimensions\": {\"Host\": \"algo-1\", \"Operation\": \"training\", \"Algorithm\": \"LDA\"}, \"StartTime\": 1620940489.506558}\n",
      "\u001b[0m\n",
      "\u001b[34m[05/13/2021 21:14:49 INFO 139817151432512] Number of iterations: 3\u001b[0m\n",
      "\u001b[34m[05/13/2021 21:14:49 INFO 139817151432512] Seed of random SVD : ('MT19937', array([         0,          1, 1812433255, 1900727105, 1208447044,\n",
      "       2481403966, 4042607538,  337614300, 3232553940, 1018809052,\n",
      "       3202401494, 1775180719, 3192392114,  594215549,  184016991,\n",
      "        829906058,  610491522, 3879932251, 3139825610,  297902587,\n",
      "       4075895579, 2943625357, 3530655617, 1423771745, 2135928312,\n",
      "       2891506774, 1066338622,  135451537,  933040465, 2759011858,\n",
      "       2273819758, 3545703099, 2516396728, 1272276355, 3172048492,\n",
      "       3267256201, 2332199830, 1975469449,  392443598, 1132453229,\n",
      "       2900699076, 1998300999, 3847713992,  512669506, 1227792182,\n",
      "       1629110240,  112303347, 2142631694, 3647635483, 1715036585,\n",
      "       2508091258, 1355887243, 1884998310, 3906360088,  952450269,\n",
      "       3647883368, 3962623343, 3077504981, 2023096077, 3791588343,\n",
      "       3937487744, 3455116780, 1218485897, 1374508007, 2815569918,\n",
      "       1367263917,  472908318, 2263147545, 1461547499, 4126813079,\n",
      "       2383504810,   64750479, 2963140275, 1709368606, 4143643781,\n",
      "        835933993, 1881494649,  674663333, 2076403047,  858036109,\n",
      "       1667579889, 1706666497,  607785554, 1995775149, 1941986352,\n",
      "       3448871082, 2109910019, 1474883361, 1623095288, 1831376534,\n",
      "       2612738285,   81681830, 2204289242, 1365038485,  251164610,\n",
      "       4268495337, 1805601714, 1262528768, 1442526919, 1675006593,\n",
      "        965627108,  646339161,  499795587,  840887574,  380522518,\n",
      "       3023789847, 1457635507, 1947093157, 2600365344, 2729853143,\n",
      "       1550618999, 1390905853, 3021294812,  882647559,  838872117,\n",
      "       1663880796, 4222103589, 2754172275, 3844026123, 3199260319,\n",
      "       4176064873, 3591027019, 2690294242, 2978135515, 3172796441,\n",
      "       3263669796, 1451257057, 1427035359, 4174826006, 2171992010,\n",
      "       1537002090, 3122405306, 4162452508, 3271954368, 3794310005,\n",
      "       3240514581, 1270412086, 3030475836, 2281945856, 2644171349,\n",
      "       3109139423, 4253563838, 1289926431, 1396919653,  733220100,\n",
      "       2753316645, 1196225013, 3699575255, 3569440056, 2675979228,\n",
      "       2624079148, 3463113149,  863430286,  623703199, 2113837653,\n",
      "       2656425919,  175981357, 4271478366, 4238022735, 1665483419,\n",
      "         86880610, 2963435083, 1830392943,  847801865, 3237296945,\n",
      "        332143967, 3973606945, 2671879697, 2236330279, 2360127810,\n",
      "       3283955434,  203240344, 4048139172,   13189264, 2263058814,\n",
      "        247241371, 1566765783, 3084408095, 3719371299, 1958375251,\n",
      "       1985924622, 1712739232, 1861691451, 2644502937, 2337807839,\n",
      "        784993770, 2962208780, 2190810177, 1523122731,  714888527,\n",
      "        578678761, 3698481324, 1801168075,  534650483, 3390213921,\n",
      "       3923356461, 3586009066, 2059432114,   52511333, 1969897376,\n",
      "       3630122061,  524661135, 3513619765,  563070233,  501359785,\n",
      "        477489274,  658768624,  938973567, 1548584683, 1345287459,\n",
      "       2488691004, 3441144905, 3849305094, 2430000078,  855172178,\n",
      "        614463281, 2092744749,  176381493, 1655802051, 2273888101,\n",
      "       2474494847, 3471978030, 2138918303,  575352373, 1658230985,\n",
      "       1675972553, 2946663114,  915579339,  284981499,   53939948,\n",
      "       3022598146, 1861218535, 3403620774, 4203516930, 2360471119,\n",
      "       3134536268, 1383448498, 1307602316, 3847663247, 3027225131,\n",
      "       3597251613, 3186237127,  725127595, 1928526954, 1843386923,\n",
      "       3560410503,   54688266, 1791983849, 2519860352, 4256389699,\n",
      "       2328812602,  486464275, 3578698363,  301279829, 1303654791,\n",
      "       4181868765,  971794070, 1933885487, 3996807464, 2144053754,\n",
      "       4079903755, 3775774765, 3481760044, 1212862354, 1067356423,\n",
      "       3764189132, 1609862325, 2209601551, 2565747501,  161962392,\n",
      "       4045451782, 2605574664, 2520953090, 3490240017, 1082791980,\n",
      "         44474324,  101811128, 4268650669, 4171338684,  772375154,\n",
      "       3920460306, 2319139534,  599033750, 2950874441, 3373922995,\n",
      "       1496848525, 4095253594, 1271943484, 1498723121, 3097453329,\n",
      "       3698082465,  281869581, 3148270661, 3591477288,  747441437,\n",
      "       2809508504, 3896107498,  303747862, 2368081624, 1844217645,\n",
      "        886825352,  287949781, 1444561207, 2512101757, 2062331723,\n",
      "        741720931, 1383797313, 3876746355, 2041045348, 2627599118,\n",
      "       1124169970,  200524822, 3484820454,   55883666, 1135054804,\n",
      "        669498692, 2677215504, 3097911127, 1509628615,  617580381,\n",
      "       2229022193,   85601568, 3243896546, 3715672328,  912168347,\n",
      "       2359163500, 1180347564, 4243175048, 2092067103,  880183327,\n",
      "       4000664709, 2045044777, 3500474644, 1515175520, 1862207123,\n",
      "        186628841, 3337252925,  708933575, 4015964629, 3136815297,\n",
      "       3314919747, 2891909013, 3316567785, 3944275369, 3608506218,\n",
      "       2884839110, 3054055598, 2707439927, 1381111877, 3275487281,\n",
      "       4292456216, 2639563270, 3327301876, 3576924628,  721056309,\n",
      "       2002808140,  748967365,   52380958, 2200261692,  763456477,\n",
      "       1708381337, 2038446433, 2682979402, 1526413779, 2211263302,\n",
      "       3879771969,   75966584, 3645059271, 2985763524, 4085690255,\n",
      "         82390958, 1883631385, 1647521260, 1598026998, 3038041577,\n",
      "       2501913134, 3279302868, 1738888524,  805035483,  756399074,\n",
      "       3863810982, 1097797270, 1505792529,  898904527,  583561003,\n",
      "        717152376, 3333867738, 1099456544, 1663473545, 1242141229,\n",
      "       3828627682, 1966201676, 1713552361, 3852160017, 1584965284,\n",
      "         21695908, 1013262144,  145341901, 3995441263, 3462066219,\n",
      "       2239637848, 1214086163, 2428868268, 1650037305, 1545513388,\n",
      "       1621198806, 4232947817, 1823092073,  256414624, 1745018809,\n",
      "       1357102386, 2055139770, 3280958307, 2482431613, 1664870585,\n",
      "        859130423, 4097751123, 3079768369, 2470211009, 2984880786,\n",
      "       2808568948, 2877071923, 1984903163,  302768457, 1866396789,\n",
      "        869566317, 3746415787, 4169433075, 3025005404, 3980733379,\n",
      "       3539207278, 3953071536,  876960847, 2548872156,  800507464,\n",
      "       1865466907, 1273317878, 3754712872, 1757188269, 3229950355,\n",
      "       3731640200, 2283390608, 2204990292,  411873449,  447423849,\n",
      "       1852437802,  472825525, 3044219944, 2913114194, 1859709265,\n",
      "       4053786194,  574820536, 2104496732,  865469814, 2438352724,\n",
      "       4208743605, 4215067542, 1364015250, 4139974345, 3838747005,\n",
      "       1818502786, 2914274940, 1402365828, 1751123528, 2302578077,\n",
      "       2463168652, 1968705496, 1730700144, 3023943273, 1139096844,\n",
      "       2658667767, 2063547264,  705791165, 1444775274, 2415454225,\n",
      "       1575664730,  921044163,  648101324, 1212387162, 4191962054,\n",
      "       1787702169, 1888718041, 1518218010, 3398792842, 4079359729,\n",
      "        149721439,  750400353, 2661036076, 3802767886,  520152586,\n",
      "        951852508, 2939585975, 1375969109,  385733137, 3523607459,\n",
      "       1902438415, 4250996086, 2712727066,  484493674, 3932107461,\n",
      "       1428488210, 1764242548, 3424801055, 4004904451, 2226862072,\n",
      "       2393366939, 3609584727, 3614444319,  317349896, 3826527525,\n",
      "        204023804,  981902443, 3356042039, 3051207045, 1869902661,\n",
      "        561831895, 3706675415, 1527687593, 1227610446, 2596341042,\n",
      "       3191717368, 3269246891,  557877074, 4062070629, 3052520266,\n",
      "       3772487029,  400039836, 3195205275, 4085394797, 1655557239,\n",
      "       1345770144, 2864727192,  449281238,   73189507,  528365765,\n",
      "       2727400656,  247880434, 2408277395,  777039183, 2210179398,\n",
      "       1088433648, 2124356402, 1555630141,  604790219,  195012151,\n",
      "       3312518356,  923728373, 3999251660, 3313059535, 3478133921,\n",
      "       3395026960,  383464614, 3425869222, 2446885186, 4032184426,\n",
      "        157195416, 3158909476, 1663750443, 2046427584, 1658453076,\n",
      "       1784483001, 3146546889, 1238739785, 2297306523, 3472330897,\n",
      "       2953326031, 2421672215, 1221694592, 1588568605, 2546987845,\n",
      "       3375168573, 2137961649, 3056565164,  330165219,  235900365,\n",
      "       1000384800, 2697255904,  579122283, 3050664825,   73426122,\n",
      "       1232986102, 2940571064, 3076486824, 1708182873, 2796363264,\n",
      "        292154131, 4280019913, 1102652157, 1185393592, 1494991690,\n",
      "       4270076389, 2384840717,  425785147, 2385321880,  317514772,\n",
      "       3926962743,  392176856, 3465421709, 1878853468,  122662664,\n",
      "       2958252160, 1858961315, 2244939588, 2361884409, 2860936803,\n",
      "        683833250, 3291277128, 1686857206, 1112632275, 1200680507,\n",
      "       3342928196, 2677058150,  939442136, 3407104669, 2906783932,\n",
      "       3668048733, 2030009470, 1910839172, 1234925283, 3575831445,\n",
      "        123595418, 2362440495, 3048484911, 1796872496], dtype=uint32), 624, 0, 0.0)\u001b[0m\n",
      "\u001b[34m[05/13/2021 21:14:49 INFO 139817151432512] Krylov method iteration: 0.\u001b[0m\n",
      "\u001b[34m[05/13/2021 21:14:49 INFO 139817151432512] Krylov method iteration: 1.\u001b[0m\n",
      "\u001b[34m[05/13/2021 21:14:49 INFO 139817151432512] Krylov method iteration: 2.\u001b[0m\n",
      "\u001b[34m[05/13/2021 21:14:49 INFO 139817151432512] Krylov method iteration: 3.\u001b[0m\n",
      "\u001b[34m[05/13/2021 21:14:49 INFO 139817151432512] Krylov method iteration: 4.\u001b[0m\n",
      "\u001b[34m[05/13/2021 21:14:49 INFO 139817151432512] Krylov method iteration: 5.\u001b[0m\n",
      "\u001b[34m[05/13/2021 21:14:49 INFO 139817151432512] Krylov method iteration: 6.\u001b[0m\n",
      "\u001b[34m[05/13/2021 21:14:49 INFO 139817151432512] Covariance matrix min value: -0.000051\u001b[0m\n",
      "\u001b[34m[05/13/2021 21:14:49 INFO 139817151432512] Covariance matrix max value: 0.001617\u001b[0m\n",
      "\u001b[34m[05/13/2021 21:14:49 INFO 139817151432512] Starting SVD...\u001b[0m\n",
      "\u001b[34m#metrics {\"Metrics\": {\"svd.time\": {\"count\": 1, \"max\": 23.72288703918457, \"sum\": 23.72288703918457, \"min\": 23.72288703918457}}, \"EndTime\": 1620940489.623468, \"Dimensions\": {\"Host\": \"algo-1\", \"Operation\": \"training\", \"Algorithm\": \"LDA\"}, \"StartTime\": 1620940489.508436}\n",
      "\u001b[0m\n",
      "\u001b[34m[05/13/2021 21:14:49 INFO 139817151432512] Finished SVD.\u001b[0m\n",
      "\u001b[34m#metrics {\"Metrics\": {\"rand_svd.time\": {\"count\": 1, \"max\": 115.26799201965332, \"sum\": 115.26799201965332, \"min\": 115.26799201965332}}, \"EndTime\": 1620940489.623722, \"Dimensions\": {\"Host\": \"algo-1\", \"Operation\": \"training\", \"Algorithm\": \"LDA\"}, \"StartTime\": 1620940489.623544}\n",
      "\u001b[0m\n",
      "\u001b[34m#metrics {\"Metrics\": {\"GetMoments.time\": {\"count\": 1, \"max\": 116.42193794250488, \"sum\": 116.42193794250488, \"min\": 116.42193794250488}}, \"EndTime\": 1620940489.623943, \"Dimensions\": {\"Host\": \"algo-1\", \"Operation\": \"training\", \"Algorithm\": \"LDA\"}, \"StartTime\": 1620940489.623768}\n",
      "\u001b[0m\n",
      "\u001b[34m/opt/amazon/lib/python2.7/site-packages/lda/cumulants.py:216: RuntimeWarning: Algorithm assumes alpha0 < 1.0. May return poor results\n",
      "  RuntimeWarning)\u001b[0m\n",
      "\u001b[34m#metrics {\"Metrics\": {\"e3_term1.time\": {\"count\": 1, \"max\": 9.485960006713867, \"sum\": 9.485960006713867, \"min\": 9.485960006713867}}, \"EndTime\": 1620940489.643387, \"Dimensions\": {\"Host\": \"algo-1\", \"Operation\": \"training\", \"Algorithm\": \"LDA\"}, \"StartTime\": 1620940489.623997}\n",
      "\u001b[0m\n",
      "\u001b[34m#metrics {\"Metrics\": {\"e3_term2.time\": {\"count\": 1, \"max\": 0.1678466796875, \"sum\": 0.1678466796875, \"min\": 0.1678466796875}}, \"EndTime\": 1620940489.643684, \"Dimensions\": {\"Host\": \"algo-1\", \"Operation\": \"training\", \"Algorithm\": \"LDA\"}, \"StartTime\": 1620940489.643474}\n",
      "\u001b[0m\n",
      "\u001b[34m#metrics {\"Metrics\": {\"e3_term3.time\": {\"count\": 1, \"max\": 6.1130523681640625, \"sum\": 6.1130523681640625, \"min\": 6.1130523681640625}}, \"EndTime\": 1620940489.650335, \"Dimensions\": {\"Host\": \"algo-1\", \"Operation\": \"training\", \"Algorithm\": \"LDA\"}, \"StartTime\": 1620940489.643727}\n",
      "\u001b[0m\n",
      "\u001b[34m#metrics {\"Metrics\": {\"whitened_m3_contribution_e3.time\": {\"count\": 1, \"max\": 24.600982666015625, \"sum\": 24.600982666015625, \"min\": 24.600982666015625}}, \"EndTime\": 1620940489.652099, \"Dimensions\": {\"Host\": \"algo-1\", \"Operation\": \"training\", \"Algorithm\": \"LDA\"}, \"StartTime\": 1620940489.650376}\n",
      "\u001b[0m\n",
      "\u001b[34m#metrics {\"Metrics\": {\"e2m1_term1.time\": {\"count\": 1, \"max\": 4.467964172363281, \"sum\": 4.467964172363281, \"min\": 4.467964172363281}, \"from_numpy.time\": {\"count\": 3, \"max\": 0.1590251922607422, \"sum\": 0.4298686981201172, \"min\": 0.11992454528808594}}, \"EndTime\": 1620940489.658741, \"Dimensions\": {\"Host\": \"algo-1\", \"Operation\": \"training\", \"Algorithm\": \"LDA\"}, \"StartTime\": 1620940489.652138}\n",
      "\u001b[0m\n",
      "\u001b[34m#metrics {\"Metrics\": {\"e2m1_term2.time\": {\"count\": 1, \"max\": 0.1239776611328125, \"sum\": 0.1239776611328125, \"min\": 0.1239776611328125}}, \"EndTime\": 1620940489.659237, \"Dimensions\": {\"Host\": \"algo-1\", \"Operation\": \"training\", \"Algorithm\": \"LDA\"}, \"StartTime\": 1620940489.658798}\n",
      "\u001b[0m\n",
      "\u001b[34m#metrics {\"Metrics\": {\"whitened_m3_contribution_e2_m1.time\": {\"count\": 1, \"max\": 7.632970809936523, \"sum\": 7.632970809936523, \"min\": 7.632970809936523}}, \"EndTime\": 1620940489.65979, \"Dimensions\": {\"Host\": \"algo-1\", \"Operation\": \"training\", \"Algorithm\": \"LDA\"}, \"StartTime\": 1620940489.659283}\n",
      "\u001b[0m\n",
      "\u001b[34m#metrics {\"Metrics\": {\"whitened_m1_3.time\": {\"count\": 1, \"max\": 0.1010894775390625, \"sum\": 0.1010894775390625, \"min\": 0.1010894775390625}}, \"EndTime\": 1620940489.660089, \"Dimensions\": {\"Host\": \"algo-1\", \"Operation\": \"training\", \"Algorithm\": \"LDA\"}, \"StartTime\": 1620940489.659854}\n",
      "\u001b[0m\n",
      "\u001b[34m#metrics {\"Metrics\": {\"whitened_m3_contribution_m1_3.time\": {\"count\": 1, \"max\": 0.3199577331542969, \"sum\": 0.3199577331542969, \"min\": 0.3199577331542969}}, \"EndTime\": 1620940489.660263, \"Dimensions\": {\"Host\": \"algo-1\", \"Operation\": \"training\", \"Algorithm\": \"LDA\"}, \"StartTime\": 1620940489.660134}\n",
      "\u001b[0m\n",
      "\u001b[34m#metrics {\"Metrics\": {\"whitened_m3.time\": {\"count\": 1, \"max\": 36.56792640686035, \"sum\": 36.56792640686035, \"min\": 36.56792640686035}}, \"EndTime\": 1620940489.660592, \"Dimensions\": {\"Host\": \"algo-1\", \"Operation\": \"training\", \"Algorithm\": \"LDA\"}, \"StartTime\": 1620940489.660306}\n",
      "\u001b[0m\n",
      "\u001b[34m#metrics {\"Metrics\": {\"M3Whitening.time\": {\"count\": 1, \"max\": 36.741018295288086, \"sum\": 36.741018295288086, \"min\": 36.741018295288086}}, \"EndTime\": 1620940489.660759, \"Dimensions\": {\"Host\": \"algo-1\", \"Operation\": \"training\", \"Algorithm\": \"LDA\"}, \"StartTime\": 1620940489.660636}\n",
      "\u001b[0m\n",
      "\u001b[34m[05/13/2021 21:14:49 INFO 139817151432512] Restart 1/10\u001b[0m\n",
      "\u001b[34m[05/13/2021 21:14:49 INFO 139817151432512] [CPDecomp] Starting CPDecomp...\u001b[0m\n",
      "\u001b[34m[05/13/2021 21:14:49 INFO 139817151432512] [CPDecomp] Configuration: num_qr_iterations=5, line_search=True, relaxation_factor=scaled\u001b[0m\n",
      "\u001b[34m[05/13/2021 21:14:49 INFO 139817151432512] [CPDecomp] Using svd initialization.\u001b[0m\n",
      "\u001b[34m[05/13/2021 21:14:49 INFO 139817151432512] [CPDecomp] Using line search: error_diff=0.000243455171585\u001b[0m\n",
      "\u001b[34m[05/13/2021 21:14:49 INFO 139817151432512] [CPDecomp] Using line search: error_diff=0.000152051448822\u001b[0m\n",
      "\u001b[34m[05/13/2021 21:14:49 INFO 139817151432512] [CPDecomp] Using line search: error_diff=2.38418579102e-06\u001b[0m\n",
      "\u001b[34m[05/13/2021 21:14:49 INFO 139817151432512] [CPDecomp] Using line search: error_diff=2.64048576355e-05\u001b[0m\n",
      "\u001b[34m[05/13/2021 21:14:49 INFO 139817151432512] [CPDecomp] Using line search: error_diff=2.22623348236e-05\u001b[0m\n",
      "\u001b[34m[05/13/2021 21:14:49 INFO 139817151432512] [CPDecomp] Using line search: error_diff=9.77516174316e-06\u001b[0m\n",
      "\u001b[34m[05/13/2021 21:14:49 INFO 139817151432512] [CPDecomp] Using line search: error_diff=3.981590271e-05\u001b[0m\n",
      "\u001b[34m[05/13/2021 21:14:49 INFO 139817151432512] [CPDecomp] Using line search: error_diff=2.66134738922e-05\u001b[0m\n",
      "\u001b[34m[05/13/2021 21:14:49 INFO 139817151432512] [CPDecomp] Using line search: error_diff=1.09672546387e-05\u001b[0m\n",
      "\u001b[34m[05/13/2021 21:14:49 INFO 139817151432512] [CPDecomp] Using line search: error_diff=2.31862068176e-05\u001b[0m\n",
      "\u001b[34m[05/13/2021 21:14:49 INFO 139817151432512] [CPDecomp] Using line search: error_diff=1.06692314148e-05\u001b[0m\n",
      "\u001b[34m[05/13/2021 21:14:49 INFO 139817151432512] [CPDecomp] Using line search: error_diff=1.72257423401e-05\u001b[0m\n",
      "\u001b[34m[05/13/2021 21:14:50 INFO 139817151432512] [CPDecomp] Using line search: error_diff=5.27501106262e-06\u001b[0m\n",
      "\u001b[34m[05/13/2021 21:14:50 INFO 139817151432512] [CPDecomp] Using line search: error_diff=1.08182430267e-05\u001b[0m\n",
      "\u001b[34m[05/13/2021 21:14:50 INFO 139817151432512] [CPDecomp] Using line search: error_diff=1.18017196655e-05\u001b[0m\n",
      "\u001b[34m[05/13/2021 21:14:50 INFO 139817151432512] [CPDecomp] Using line search: error_diff=9.23871994019e-07\u001b[0m\n",
      "\u001b[34m[05/13/2021 21:14:50 INFO 139817151432512] [CPDecomp] Using line search: error_diff=2.20537185669e-06\u001b[0m\n",
      "\u001b[34m[05/13/2021 21:14:50 INFO 139817151432512] [CPDecomp] Using line search: error_diff=1.60932540894e-06\u001b[0m\n",
      "\u001b[34m[05/13/2021 21:14:50 INFO 139817151432512] [CPDecomp] Using line search: error_diff=6.25848770142e-07\u001b[0m\n",
      "\u001b[34m[05/13/2021 21:14:50 INFO 139817151432512] [CPDecomp] Using line search: error_diff=7.62939453125e-06\u001b[0m\n",
      "\u001b[34m[05/13/2021 21:14:50 INFO 139817151432512] [CPDecomp] Using line search: error_diff=7.0333480835e-06\u001b[0m\n",
      "\u001b[34m[05/13/2021 21:14:50 INFO 139817151432512] [CPDecomp] Using line search: error_diff=6.52670860291e-06\u001b[0m\n",
      "\u001b[34m[05/13/2021 21:14:50 INFO 139817151432512] [CPDecomp] Using line search: error_diff=5.99026679993e-06\u001b[0m\n",
      "\u001b[34m[05/13/2021 21:14:50 INFO 139817151432512] [CPDecomp] Using line search: error_diff=5.27501106262e-06\u001b[0m\n",
      "\u001b[34m[05/13/2021 21:14:50 INFO 139817151432512] [CPDecomp] Using line search: error_diff=4.1127204895e-06\u001b[0m\n",
      "\u001b[34m[05/13/2021 21:14:50 INFO 139817151432512] [CPDecomp] Using line search: error_diff=2.44379043579e-06\u001b[0m\n",
      "\u001b[34m[05/13/2021 21:14:50 INFO 139817151432512] [CPDecomp] Using line search: error_diff=1.78813934326e-07\u001b[0m\n",
      "\u001b[34m[05/13/2021 21:14:50 INFO 139817151432512] [CPDecomp] Using line search: error_diff=3.42726707458e-06\u001b[0m\n",
      "\u001b[34m[05/13/2021 21:14:50 INFO 139817151432512] [CPDecomp] Using line search: error_diff=2.6524066925e-06\u001b[0m\n",
      "\u001b[34m[05/13/2021 21:14:50 INFO 139817151432512] [CPDecomp] Using line search: error_diff=1.75833702087e-06\u001b[0m\n",
      "\u001b[34m[05/13/2021 21:14:50 INFO 139817151432512] [CPDecomp] Using line search: error_diff=5.06639480591e-07\u001b[0m\n",
      "\u001b[34m[05/13/2021 21:14:50 INFO 139817151432512] [CPDecomp] Using line search: error_diff=2.1755695343e-06\u001b[0m\n",
      "\u001b[34m[05/13/2021 21:14:50 INFO 139817151432512] [CPDecomp] Using line search: error_diff=8.94069671631e-08\u001b[0m\n",
      "\u001b[34m[05/13/2021 21:14:50 INFO 139817151432512] [CPDecomp] Using line search: error_diff=1.84774398804e-06\u001b[0m\n",
      "\u001b[34m[05/13/2021 21:14:50 INFO 139817151432512] [CPDecomp] Using line search: error_diff=5.36441802979e-07\u001b[0m\n",
      "\u001b[34m[05/13/2021 21:14:50 INFO 139817151432512] [CPDecomp] Using line search: error_diff=2.23517417908e-06\u001b[0m\n",
      "\u001b[34m[05/13/2021 21:14:50 INFO 139817151432512] [CPDecomp] Using line search: error_diff=1.31130218506e-06\u001b[0m\n",
      "\u001b[34m[05/13/2021 21:14:50 INFO 139817151432512] [CPDecomp] Using line search: error_diff=1.6987323761e-06\u001b[0m\n",
      "\u001b[34m[05/13/2021 21:14:50 INFO 139817151432512] [CPDecomp] Using line search: error_diff=5.96046447754e-08\u001b[0m\n",
      "\u001b[34m[05/13/2021 21:14:50 INFO 139817151432512] [CPDecomp] Using line search: error_diff=1.16229057312e-06\u001b[0m\n",
      "\u001b[34m[05/13/2021 21:14:50 INFO 139817151432512] [CPDecomp] Using line search: error_diff=1.87754631042e-06\u001b[0m\n",
      "\u001b[34m[05/13/2021 21:14:50 INFO 139817151432512] [CPDecomp] Using line search: error_diff=1.25169754028e-06\u001b[0m\n",
      "\u001b[34m[05/13/2021 21:14:50 INFO 139817151432512] [CPDecomp] Using line search: error_diff=1.37090682983e-06\u001b[0m\n",
      "\u001b[34m[05/13/2021 21:14:50 INFO 139817151432512] [CPDecomp] Using line search: error_diff=1.49011611938e-06\u001b[0m\n",
      "\u001b[34m[05/13/2021 21:14:50 INFO 139817151432512] [CPDecomp] Using line search: error_diff=5.66244125366e-07\u001b[0m\n",
      "\u001b[34m[05/13/2021 21:14:50 INFO 139817151432512] [CPDecomp] Using line search: error_diff=1.16229057312e-06\u001b[0m\n",
      "\u001b[34m[05/13/2021 21:14:50 INFO 139817151432512] [CPDecomp] Using line search: error_diff=4.47034835815e-07\u001b[0m\n",
      "\u001b[34m[05/13/2021 21:14:50 INFO 139817151432512] [CPDecomp] Using line search: error_diff=6.25848770142e-07\u001b[0m\n",
      "\u001b[34m[05/13/2021 21:14:50 INFO 139817151432512] [CPDecomp] Using line search: error_diff=7.15255737305e-07\u001b[0m\n",
      "\u001b[34m[05/13/2021 21:14:50 INFO 139817151432512] [CPDecomp] Using line search: error_diff=9.23871994019e-07\u001b[0m\n",
      "\u001b[34m[05/13/2021 21:14:50 INFO 139817151432512] [CPDecomp] Using line search: error_diff=8.94069671631e-08\u001b[0m\n",
      "\u001b[34m[05/13/2021 21:14:50 INFO 139817151432512] [CPDecomp] Using line search: error_diff=7.15255737305e-07\u001b[0m\n",
      "\u001b[34m[05/13/2021 21:14:50 INFO 139817151432512] [CPDecomp] Using line search: error_diff=5.36441802979e-07\u001b[0m\n",
      "\u001b[34m[05/13/2021 21:14:50 INFO 139817151432512] [CPDecomp] Using line search: error_diff=5.96046447754e-07\u001b[0m\n",
      "\u001b[34m[05/13/2021 21:14:50 INFO 139817151432512] [CPDecomp] Using line search: error_diff=8.94069671631e-07\u001b[0m\n",
      "\u001b[34m[05/13/2021 21:14:51 INFO 139817151432512] [CPDecomp] Using line search: error_diff=8.94069671631e-08\u001b[0m\n",
      "\u001b[34m[05/13/2021 21:14:51 INFO 139817151432512] [CPDecomp] Using line search: error_diff=2.38418579102e-07\u001b[0m\n",
      "\u001b[34m[05/13/2021 21:14:51 INFO 139817151432512] [CPDecomp] Using line search: error_diff=1.19209289551e-07\u001b[0m\n",
      "\u001b[34m[05/13/2021 21:14:51 INFO 139817151432512] [CPDecomp] Using line search: error_diff=1.78813934326e-07\u001b[0m\n",
      "\u001b[34m[05/13/2021 21:14:51 INFO 139817151432512] [CPDecomp] Using line search: error_diff=4.47034835815e-07\u001b[0m\n",
      "\u001b[34m[05/13/2021 21:14:51 INFO 139817151432512] [CPDecomp] Using line search: error_diff=5.66244125366e-07\u001b[0m\n",
      "\u001b[34m[05/13/2021 21:14:51 INFO 139817151432512] [CPDecomp] Using line search: error_diff=4.76837158203e-07\u001b[0m\n",
      "\u001b[34m[05/13/2021 21:14:51 INFO 139817151432512] [CPDecomp] Using line search: error_diff=3.57627868652e-07\u001b[0m\n",
      "\u001b[34m[05/13/2021 21:14:51 INFO 139817151432512] [CPDecomp] Using line search: error_diff=5.06639480591e-07\u001b[0m\n",
      "\u001b[34m[05/13/2021 21:14:51 INFO 139817151432512] [CPDecomp] Using line search: error_diff=5.06639480591e-07\u001b[0m\n",
      "\u001b[34m[05/13/2021 21:14:51 INFO 139817151432512] [CPDecomp] Using line search: error_diff=3.27825546265e-07\u001b[0m\n",
      "\u001b[34m[05/13/2021 21:14:51 INFO 139817151432512] [CPDecomp] Using line search: error_diff=8.94069671631e-08\u001b[0m\n",
      "\u001b[34m[05/13/2021 21:14:51 INFO 139817151432512] [CPDecomp] Using line search: error_diff=2.98023223877e-07\u001b[0m\n",
      "\u001b[34m[05/13/2021 21:14:51 INFO 139817151432512] [CPDecomp] Using line search: error_diff=4.76837158203e-07\u001b[0m\n",
      "\u001b[34m[05/13/2021 21:14:51 INFO 139817151432512] [CPDecomp] Using line search: error_diff=2.68220901489e-07\u001b[0m\n",
      "\u001b[34m[05/13/2021 21:14:51 INFO 139817151432512] [CPDecomp] Using line search: error_diff=1.78813934326e-07\u001b[0m\n",
      "\u001b[34m[05/13/2021 21:14:51 INFO 139817151432512] [CPDecomp] Using line search: error_diff=1.49011611938e-07\u001b[0m\n",
      "\u001b[34m[05/13/2021 21:14:51 INFO 139817151432512] [CPDecomp] Using line search: error_diff=3.8743019104e-07\u001b[0m\n",
      "\u001b[34m[05/13/2021 21:14:51 INFO 139817151432512] [CPDecomp] Using line search: error_diff=2.98023223877e-07\u001b[0m\n",
      "\u001b[34m[05/13/2021 21:14:51 INFO 139817151432512] [CPDecomp] Using line search: error_diff=3.57627868652e-07\u001b[0m\n",
      "\u001b[34m[05/13/2021 21:14:51 INFO 139817151432512] [CPDecomp] Using line search: error_diff=2.68220901489e-07\u001b[0m\n",
      "\u001b[34m[05/13/2021 21:14:51 INFO 139817151432512] [CPDecomp] Using line search: error_diff=2.68220901489e-07\u001b[0m\n",
      "\u001b[34m[05/13/2021 21:14:51 INFO 139817151432512] [CPDecomp] Using line search: error_diff=1.78813934326e-07\u001b[0m\n",
      "\u001b[34m[05/13/2021 21:14:51 INFO 139817151432512] [CPDecomp] Using line search: error_diff=1.49011611938e-07\u001b[0m\n",
      "\u001b[34m[05/13/2021 21:14:51 INFO 139817151432512] [CPDecomp] iter=364, error=0.274742633104, var=0.0\u001b[0m\n",
      "\u001b[34m[05/13/2021 21:14:51 INFO 139817151432512] Converged to local minimum in 364 iterations.\u001b[0m\n",
      "\u001b[34m[05/13/2021 21:14:51 INFO 139817151432512] Restart 2/10\u001b[0m\n",
      "\u001b[34m[05/13/2021 21:14:51 INFO 139817151432512] [CPDecomp] Starting CPDecomp...\u001b[0m\n",
      "\u001b[34m[05/13/2021 21:14:51 INFO 139817151432512] [CPDecomp] Configuration: num_qr_iterations=0, line_search=True, relaxation_factor=scaled\u001b[0m\n",
      "\u001b[34m[05/13/2021 21:14:51 INFO 139817151432512] [CPDecomp] Using svd initialization.\u001b[0m\n",
      "\u001b[34m[05/13/2021 21:14:51 INFO 139817151432512] [CPDecomp] Using line search: error_diff=0.000689953565598\u001b[0m\n",
      "\u001b[34m[05/13/2021 21:14:51 INFO 139817151432512] [CPDecomp] Using line search: error_diff=0.000272989273071\u001b[0m\n",
      "\u001b[34m[05/13/2021 21:14:51 INFO 139817151432512] [CPDecomp] Using line search: error_diff=0.00012743473053\u001b[0m\n",
      "\u001b[34m[05/13/2021 21:14:51 INFO 139817151432512] [CPDecomp] Using line search: error_diff=0.000153213739395\u001b[0m\n",
      "\u001b[34m[05/13/2021 21:14:51 INFO 139817151432512] [CPDecomp] Using line search: error_diff=9.39071178436e-05\u001b[0m\n",
      "\u001b[34m[05/13/2021 21:14:51 INFO 139817151432512] [CPDecomp] Using line search: error_diff=0.000152289867401\u001b[0m\n",
      "\u001b[34m[05/13/2021 21:14:51 INFO 139817151432512] [CPDecomp] Using line search: error_diff=2.15470790863e-05\u001b[0m\n",
      "\u001b[34m[05/13/2021 21:14:51 INFO 139817151432512] [CPDecomp] Using line search: error_diff=0.000167042016983\u001b[0m\n",
      "\u001b[34m[05/13/2021 21:14:51 INFO 139817151432512] [CPDecomp] Using line search: error_diff=0.00040528178215\u001b[0m\n",
      "\u001b[34m[05/13/2021 21:14:51 INFO 139817151432512] [CPDecomp] Using line search: error_diff=6.2882900238e-05\u001b[0m\n",
      "\u001b[34m[05/13/2021 21:14:51 INFO 139817151432512] [CPDecomp] Using line search: error_diff=5.00977039337e-05\u001b[0m\n",
      "\u001b[34m[05/13/2021 21:14:51 INFO 139817151432512] [CPDecomp] Using line search: error_diff=4.01437282562e-05\u001b[0m\n",
      "\u001b[34m[05/13/2021 21:14:51 INFO 139817151432512] [CPDecomp] Using line search: error_diff=3.20076942444e-05\u001b[0m\n",
      "\u001b[34m[05/13/2021 21:14:51 INFO 139817151432512] [CPDecomp] Using line search: error_diff=2.45869159698e-05\u001b[0m\n",
      "\u001b[34m[05/13/2021 21:14:51 INFO 139817151432512] [CPDecomp] Using line search: error_diff=1.65700912476e-05\u001b[0m\n",
      "\u001b[34m[05/13/2021 21:14:51 INFO 139817151432512] [CPDecomp] Using line search: error_diff=5.54323196411e-06\u001b[0m\n",
      "\u001b[34m[05/13/2021 21:14:51 INFO 139817151432512] [CPDecomp] Using line search: error_diff=1.45137310028e-05\u001b[0m\n",
      "\u001b[34m[05/13/2021 21:14:52 INFO 139817151432512] [CPDecomp] Using line search: error_diff=4.64916229248e-06\u001b[0m\n",
      "\u001b[34m[05/13/2021 21:14:52 INFO 139817151432512] [CPDecomp] Using line search: error_diff=8.01682472229e-06\u001b[0m\n",
      "\u001b[34m[05/13/2021 21:14:52 INFO 139817151432512] [CPDecomp] Using line search: error_diff=8.16583633423e-06\u001b[0m\n",
      "\u001b[34m[05/13/2021 21:14:52 INFO 139817151432512] [CPDecomp] Using line search: error_diff=7.80820846558e-06\u001b[0m\n",
      "\u001b[34m[05/13/2021 21:14:52 INFO 139817151432512] [CPDecomp] Using line search: error_diff=7.45058059692e-06\u001b[0m\n",
      "\u001b[34m[05/13/2021 21:14:52 INFO 139817151432512] [CPDecomp] Using line search: error_diff=7.12275505066e-06\u001b[0m\n",
      "\u001b[34m[05/13/2021 21:14:52 INFO 139817151432512] [CPDecomp] Using line search: error_diff=6.76512718201e-06\u001b[0m\n",
      "\u001b[34m[05/13/2021 21:14:52 INFO 139817151432512] [CPDecomp] Using line search: error_diff=6.13927841187e-06\u001b[0m\n",
      "\u001b[34m[05/13/2021 21:14:52 INFO 139817151432512] [CPDecomp] Using line search: error_diff=5.03659248352e-06\u001b[0m\n",
      "\u001b[34m[05/13/2021 21:14:52 INFO 139817151432512] [CPDecomp] Using line search: error_diff=3.36766242981e-06\u001b[0m\n",
      "\u001b[34m[05/13/2021 21:14:52 INFO 139817151432512] [CPDecomp] Using line search: error_diff=1.04308128357e-06\u001b[0m\n",
      "\u001b[34m[05/13/2021 21:14:52 INFO 139817151432512] [CPDecomp] Using line search: error_diff=4.14252281189e-06\u001b[0m\n",
      "\u001b[34m[05/13/2021 21:14:52 INFO 139817151432512] [CPDecomp] Using line search: error_diff=3.21865081787e-06\u001b[0m\n",
      "\u001b[34m[05/13/2021 21:14:52 INFO 139817151432512] [CPDecomp] Using line search: error_diff=2.32458114624e-06\u001b[0m\n",
      "\u001b[34m[05/13/2021 21:14:52 INFO 139817151432512] [CPDecomp] Using line search: error_diff=1.28149986267e-06\u001b[0m\n",
      "\u001b[34m[05/13/2021 21:14:52 INFO 139817151432512] [CPDecomp] Using line search: error_diff=3.21865081787e-06\u001b[0m\n",
      "\u001b[34m[05/13/2021 21:14:52 INFO 139817151432512] [CPDecomp] Using line search: error_diff=1.72853469849e-06\u001b[0m\n",
      "\u001b[34m[05/13/2021 21:14:52 INFO 139817151432512] [CPDecomp] Using line search: error_diff=2.71201133728e-06\u001b[0m\n",
      "\u001b[34m[05/13/2021 21:14:52 INFO 139817151432512] [CPDecomp] Using line search: error_diff=1.57952308655e-06\u001b[0m\n",
      "\u001b[34m[05/13/2021 21:14:52 INFO 139817151432512] [CPDecomp] Using line search: error_diff=2.08616256714e-07\u001b[0m\n",
      "\u001b[34m[05/13/2021 21:14:52 INFO 139817151432512] [CPDecomp] Using line search: error_diff=2.32458114624e-06\u001b[0m\n",
      "\u001b[34m[05/13/2021 21:14:52 INFO 139817151432512] [CPDecomp] Using line search: error_diff=1.01327896118e-06\u001b[0m\n",
      "\u001b[34m[05/13/2021 21:14:52 INFO 139817151432512] [CPDecomp] Using line search: error_diff=1.54972076416e-06\u001b[0m\n",
      "\u001b[34m[05/13/2021 21:14:52 INFO 139817151432512] [CPDecomp] Using line search: error_diff=2.05636024475e-06\u001b[0m\n",
      "\u001b[34m[05/13/2021 21:14:52 INFO 139817151432512] [CPDecomp] Using line search: error_diff=1.16229057312e-06\u001b[0m\n",
      "\u001b[34m[05/13/2021 21:14:52 INFO 139817151432512] [CPDecomp] Using line search: error_diff=1.90734863281e-06\u001b[0m\n",
      "\u001b[34m[05/13/2021 21:14:52 INFO 139817151432512] [CPDecomp] Using line search: error_diff=1.2218952179e-06\u001b[0m\n",
      "\u001b[34m[05/13/2021 21:14:52 INFO 139817151432512] [CPDecomp] Using line search: error_diff=1.40070915222e-06\u001b[0m\n",
      "\u001b[34m[05/13/2021 21:14:52 INFO 139817151432512] [CPDecomp] Using line search: error_diff=1.51991844177e-06\u001b[0m\n",
      "\u001b[34m[05/13/2021 21:14:52 INFO 139817151432512] [CPDecomp] Using line search: error_diff=5.66244125366e-07\u001b[0m\n",
      "\u001b[34m[05/13/2021 21:14:52 INFO 139817151432512] [CPDecomp] Using line search: error_diff=1.34110450745e-06\u001b[0m\n",
      "\u001b[34m[05/13/2021 21:14:52 INFO 139817151432512] [CPDecomp] Using line search: error_diff=3.8743019104e-07\u001b[0m\n",
      "\u001b[34m[05/13/2021 21:14:52 INFO 139817151432512] [CPDecomp] Using line search: error_diff=5.96046447754e-07\u001b[0m\n",
      "\u001b[34m[05/13/2021 21:14:52 INFO 139817151432512] [CPDecomp] Using line search: error_diff=7.45058059692e-07\u001b[0m\n",
      "\u001b[34m[05/13/2021 21:14:52 INFO 139817151432512] [CPDecomp] Using line search: error_diff=1.04308128357e-06\u001b[0m\n",
      "\u001b[34m[05/13/2021 21:14:52 INFO 139817151432512] [CPDecomp] Using line search: error_diff=1.19209289551e-07\u001b[0m\n",
      "\u001b[34m[05/13/2021 21:14:52 INFO 139817151432512] [CPDecomp] Using line search: error_diff=5.36441802979e-07\u001b[0m\n",
      "\u001b[34m[05/13/2021 21:14:52 INFO 139817151432512] [CPDecomp] Using line search: error_diff=4.47034835815e-07\u001b[0m\n",
      "\u001b[34m[05/13/2021 21:14:52 INFO 139817151432512] [CPDecomp] Using line search: error_diff=5.36441802979e-07\u001b[0m\n",
      "\u001b[34m[05/13/2021 21:14:52 INFO 139817151432512] [CPDecomp] Using line search: error_diff=6.85453414917e-07\u001b[0m\n",
      "\u001b[34m[05/13/2021 21:14:52 INFO 139817151432512] [CPDecomp] Using line search: error_diff=6.85453414917e-07\u001b[0m\n",
      "\u001b[34m[05/13/2021 21:14:52 INFO 139817151432512] [CPDecomp] Using line search: error_diff=4.47034835815e-07\u001b[0m\n",
      "\u001b[34m[05/13/2021 21:14:53 INFO 139817151432512] [CPDecomp] Using line search: error_diff=8.94069671631e-08\u001b[0m\n",
      "\u001b[34m[05/13/2021 21:14:53 INFO 139817151432512] [CPDecomp] Using line search: error_diff=5.66244125366e-07\u001b[0m\n",
      "\u001b[34m[05/13/2021 21:14:53 INFO 139817151432512] [CPDecomp] Using line search: error_diff=1.49011611938e-07\u001b[0m\n",
      "\u001b[34m[05/13/2021 21:14:53 INFO 139817151432512] [CPDecomp] Using line search: error_diff=3.27825546265e-07\u001b[0m\n",
      "\u001b[34m[05/13/2021 21:14:53 INFO 139817151432512] [CPDecomp] Using line search: error_diff=4.47034835815e-07\u001b[0m\n",
      "\u001b[34m[05/13/2021 21:14:53 INFO 139817151432512] [CPDecomp] Using line search: error_diff=5.96046447754e-08\u001b[0m\n",
      "\u001b[34m[05/13/2021 21:14:53 INFO 139817151432512] [CPDecomp] Using line search: error_diff=1.78813934326e-07\u001b[0m\n",
      "\u001b[34m[05/13/2021 21:14:53 INFO 139817151432512] [CPDecomp] Using line search: error_diff=2.98023223877e-07\u001b[0m\n",
      "\u001b[34m[05/13/2021 21:14:53 INFO 139817151432512] [CPDecomp] Using line search: error_diff=4.17232513428e-07\u001b[0m\n",
      "\u001b[34m[05/13/2021 21:14:53 INFO 139817151432512] [CPDecomp] Using line search: error_diff=3.57627868652e-07\u001b[0m\n",
      "\u001b[34m[05/13/2021 21:14:53 INFO 139817151432512] [CPDecomp] Using line search: error_diff=4.76837158203e-07\u001b[0m\n",
      "\u001b[34m[05/13/2021 21:14:53 INFO 139817151432512] [CPDecomp] Using line search: error_diff=3.8743019104e-07\u001b[0m\n",
      "\u001b[34m[05/13/2021 21:14:53 INFO 139817151432512] [CPDecomp] Using line search: error_diff=3.27825546265e-07\u001b[0m\n",
      "\u001b[34m[05/13/2021 21:14:53 INFO 139817151432512] [CPDecomp] Using line search: error_diff=3.27825546265e-07\u001b[0m\n",
      "\u001b[34m[05/13/2021 21:14:53 INFO 139817151432512] [CPDecomp] Using line search: error_diff=2.98023223877e-08\u001b[0m\n",
      "\u001b[34m[05/13/2021 21:14:53 INFO 139817151432512] [CPDecomp] Using line search: error_diff=3.8743019104e-07\u001b[0m\n",
      "\u001b[34m[05/13/2021 21:14:53 INFO 139817151432512] [CPDecomp] Using line search: error_diff=3.57627868652e-07\u001b[0m\n",
      "\u001b[34m[05/13/2021 21:14:53 INFO 139817151432512] [CPDecomp] Using line search: error_diff=2.98023223877e-07\u001b[0m\n",
      "\u001b[34m[05/13/2021 21:14:53 INFO 139817151432512] [CPDecomp] Using line search: error_diff=3.27825546265e-07\u001b[0m\n",
      "\u001b[34m[05/13/2021 21:14:53 INFO 139817151432512] [CPDecomp] Using line search: error_diff=2.08616256714e-07\u001b[0m\n",
      "\u001b[34m[05/13/2021 21:14:53 INFO 139817151432512] [CPDecomp] Using line search: error_diff=8.94069671631e-08\u001b[0m\n",
      "\u001b[34m[05/13/2021 21:14:53 INFO 139817151432512] [CPDecomp] iter=370, error=0.274743109941, var=0.0\u001b[0m\n",
      "\u001b[34m[05/13/2021 21:14:53 INFO 139817151432512] Converged to local minimum in 370 iterations.\u001b[0m\n",
      "\u001b[34m[05/13/2021 21:14:53 INFO 139817151432512] Restart 3/10\u001b[0m\n",
      "\u001b[34m[05/13/2021 21:14:53 INFO 139817151432512] [CPDecomp] Starting CPDecomp...\u001b[0m\n",
      "\u001b[34m[05/13/2021 21:14:53 INFO 139817151432512] [CPDecomp] Configuration: num_qr_iterations=5, line_search=True, relaxation_factor=scaled\u001b[0m\n",
      "\u001b[34m[05/13/2021 21:14:53 INFO 139817151432512] [CPDecomp] Using random initialization.\u001b[0m\n",
      "\u001b[34m[05/13/2021 21:14:53 INFO 139817151432512] [CPDecomp] Using line search: error_diff=0.00034162402153\u001b[0m\n",
      "\u001b[34m[05/13/2021 21:14:53 INFO 139817151432512] [CPDecomp] Using line search: error_diff=0.000178098678589\u001b[0m\n",
      "\u001b[34m[05/13/2021 21:14:53 INFO 139817151432512] [CPDecomp] Using line search: error_diff=0.000125706195831\u001b[0m\n",
      "\u001b[34m[05/13/2021 21:14:53 INFO 139817151432512] [CPDecomp] Using line search: error_diff=1.87456607819e-05\u001b[0m\n",
      "\u001b[34m[05/13/2021 21:14:53 INFO 139817151432512] [CPDecomp] Using line search: error_diff=2.2828578949e-05\u001b[0m\n",
      "\u001b[34m[05/13/2021 21:14:53 INFO 139817151432512] [CPDecomp] Using line search: error_diff=1.2993812561e-05\u001b[0m\n",
      "\u001b[34m[05/13/2021 21:14:53 INFO 139817151432512] [CPDecomp] Using line search: error_diff=4.34517860413e-05\u001b[0m\n",
      "\u001b[34m[05/13/2021 21:14:53 INFO 139817151432512] [CPDecomp] Using line search: error_diff=2.9981136322e-05\u001b[0m\n",
      "\u001b[34m[05/13/2021 21:14:53 INFO 139817151432512] [CPDecomp] Using line search: error_diff=1.4990568161e-05\u001b[0m\n",
      "\u001b[34m[05/13/2021 21:14:53 INFO 139817151432512] [CPDecomp] Using line search: error_diff=2.53915786743e-05\u001b[0m\n",
      "\u001b[34m[05/13/2021 21:14:53 INFO 139817151432512] [CPDecomp] Using line search: error_diff=1.34408473969e-05\u001b[0m\n",
      "\u001b[34m[05/13/2021 21:14:53 INFO 139817151432512] [CPDecomp] Using line search: error_diff=1.89542770386e-05\u001b[0m\n",
      "\u001b[34m[05/13/2021 21:14:53 INFO 139817151432512] [CPDecomp] Using line search: error_diff=7.80820846558e-06\u001b[0m\n",
      "\u001b[34m[05/13/2021 21:14:53 INFO 139817151432512] [CPDecomp] Using line search: error_diff=1.27553939819e-05\u001b[0m\n",
      "\u001b[34m[05/13/2021 21:14:53 INFO 139817151432512] [CPDecomp] Using line search: error_diff=1.36494636536e-05\u001b[0m\n",
      "\u001b[34m[05/13/2021 21:14:54 INFO 139817151432512] [CPDecomp] Using line search: error_diff=5.00679016113e-06\u001b[0m\n",
      "\u001b[34m[05/13/2021 21:14:54 INFO 139817151432512] [CPDecomp] Using line search: error_diff=6.55651092529e-06\u001b[0m\n",
      "\u001b[34m[05/13/2021 21:14:54 INFO 139817151432512] [CPDecomp] Using line search: error_diff=6.13927841187e-06\u001b[0m\n",
      "\u001b[34m[05/13/2021 21:14:54 INFO 139817151432512] [CPDecomp] Using line search: error_diff=4.97698783875e-06\u001b[0m\n",
      "\u001b[34m[05/13/2021 21:14:54 INFO 139817151432512] [CPDecomp] Using line search: error_diff=3.84449958801e-06\u001b[0m\n",
      "\u001b[34m[05/13/2021 21:14:54 INFO 139817151432512] [CPDecomp] Using line search: error_diff=2.92062759399e-06\u001b[0m\n",
      "\u001b[34m[05/13/2021 21:14:54 INFO 139817151432512] [CPDecomp] Using line search: error_diff=2.32458114624e-06\u001b[0m\n",
      "\u001b[34m[05/13/2021 21:14:54 INFO 139817151432512] [CPDecomp] Using line search: error_diff=2.08616256714e-06\u001b[0m\n",
      "\u001b[34m[05/13/2021 21:14:54 INFO 139817151432512] [CPDecomp] Using line search: error_diff=1.96695327759e-06\u001b[0m\n",
      "\u001b[34m[05/13/2021 21:14:54 INFO 139817151432512] [CPDecomp] Using line search: error_diff=1.31130218506e-06\u001b[0m\n",
      "\u001b[34m[05/13/2021 21:14:54 INFO 139817151432512] [CPDecomp] Using line search: error_diff=4.38094139099e-06\u001b[0m\n",
      "\u001b[34m[05/13/2021 21:14:54 INFO 139817151432512] [CPDecomp] Using line search: error_diff=2.95042991638e-06\u001b[0m\n",
      "\u001b[34m[05/13/2021 21:14:54 INFO 139817151432512] [CPDecomp] Using line search: error_diff=9.53674316406e-07\u001b[0m\n",
      "\u001b[34m[05/13/2021 21:14:54 INFO 139817151432512] [CPDecomp] Using line search: error_diff=3.51667404175e-06\u001b[0m\n",
      "\u001b[34m[05/13/2021 21:14:54 INFO 139817151432512] [CPDecomp] Using line search: error_diff=2.86102294922e-06\u001b[0m\n",
      "\u001b[34m[05/13/2021 21:14:54 INFO 139817151432512] [CPDecomp] Using line search: error_diff=2.05636024475e-06\u001b[0m\n",
      "\u001b[34m[05/13/2021 21:14:54 INFO 139817151432512] [CPDecomp] Using line search: error_diff=7.7486038208e-07\u001b[0m\n",
      "\u001b[34m[05/13/2021 21:14:54 INFO 139817151432512] [CPDecomp] Using line search: error_diff=2.08616256714e-06\u001b[0m\n",
      "\u001b[34m[05/13/2021 21:14:54 INFO 139817151432512] [CPDecomp] Using line search: error_diff=1.19209289551e-07\u001b[0m\n",
      "\u001b[34m[05/13/2021 21:14:54 INFO 139817151432512] [CPDecomp] Using line search: error_diff=1.78813934326e-06\u001b[0m\n",
      "\u001b[34m[05/13/2021 21:14:54 INFO 139817151432512] [CPDecomp] Using line search: error_diff=6.25848770142e-07\u001b[0m\n",
      "\u001b[34m[05/13/2021 21:14:54 INFO 139817151432512] [CPDecomp] Using line search: error_diff=2.14576721191e-06\u001b[0m\n",
      "\u001b[34m[05/13/2021 21:14:54 INFO 139817151432512] [CPDecomp] Using line search: error_diff=1.13248825073e-06\u001b[0m\n",
      "\u001b[34m[05/13/2021 21:14:54 INFO 139817151432512] [CPDecomp] Using line search: error_diff=1.51991844177e-06\u001b[0m\n",
      "\u001b[34m[05/13/2021 21:14:54 INFO 139817151432512] [CPDecomp] Using line search: error_diff=1.84774398804e-06\u001b[0m\n",
      "\u001b[34m[05/13/2021 21:14:54 INFO 139817151432512] [CPDecomp] Using line search: error_diff=9.83476638794e-07\u001b[0m\n",
      "\u001b[34m[05/13/2021 21:14:54 INFO 139817151432512] [CPDecomp] Using line search: error_diff=1.72853469849e-06\u001b[0m\n",
      "\u001b[34m[05/13/2021 21:14:54 INFO 139817151432512] [CPDecomp] Using line search: error_diff=1.04308128357e-06\u001b[0m\n",
      "\u001b[34m[05/13/2021 21:14:54 INFO 139817151432512] [CPDecomp] Using line search: error_diff=1.13248825073e-06\u001b[0m\n",
      "\u001b[34m[05/13/2021 21:14:54 INFO 139817151432512] [CPDecomp] Using line search: error_diff=1.28149986267e-06\u001b[0m\n",
      "\u001b[34m[05/13/2021 21:14:54 INFO 139817151432512] [CPDecomp] Using line search: error_diff=2.68220901489e-07\u001b[0m\n",
      "\u001b[34m[05/13/2021 21:14:54 INFO 139817151432512] [CPDecomp] Using line search: error_diff=1.07288360596e-06\u001b[0m\n",
      "\u001b[34m[05/13/2021 21:14:54 INFO 139817151432512] [CPDecomp] Using line search: error_diff=2.98023223877e-08\u001b[0m\n",
      "\u001b[34m[05/13/2021 21:14:54 INFO 139817151432512] [CPDecomp] Using line search: error_diff=2.38418579102e-07\u001b[0m\n",
      "\u001b[34m[05/13/2021 21:14:54 INFO 139817151432512] [CPDecomp] Using line search: error_diff=3.8743019104e-07\u001b[0m\n",
      "\u001b[34m[05/13/2021 21:14:54 INFO 139817151432512] [CPDecomp] Using line search: error_diff=7.7486038208e-07\u001b[0m\n",
      "\u001b[34m[05/13/2021 21:14:54 INFO 139817151432512] [CPDecomp] Using line search: error_diff=1.13248825073e-06\u001b[0m\n",
      "\u001b[34m[05/13/2021 21:14:54 INFO 139817151432512] [CPDecomp] Using line search: error_diff=3.57627868652e-07\u001b[0m\n",
      "\u001b[34m[05/13/2021 21:14:54 INFO 139817151432512] [CPDecomp] Using line search: error_diff=2.08616256714e-07\u001b[0m\n",
      "\u001b[34m[05/13/2021 21:14:54 INFO 139817151432512] [CPDecomp] Using line search: error_diff=2.68220901489e-07\u001b[0m\n",
      "\u001b[34m[05/13/2021 21:14:54 INFO 139817151432512] [CPDecomp] Using line search: error_diff=6.25848770142e-07\u001b[0m\n",
      "\u001b[34m[05/13/2021 21:14:54 INFO 139817151432512] [CPDecomp] Using line search: error_diff=7.7486038208e-07\u001b[0m\n",
      "\u001b[34m[05/13/2021 21:14:55 INFO 139817151432512] [CPDecomp] Using line search: error_diff=7.15255737305e-07\u001b[0m\n",
      "\u001b[34m[05/13/2021 21:14:55 INFO 139817151432512] [CPDecomp] Using line search: error_diff=6.55651092529e-07\u001b[0m\n",
      "\u001b[34m[05/13/2021 21:14:55 INFO 139817151432512] [CPDecomp] Using line search: error_diff=8.04662704468e-07\u001b[0m\n",
      "\u001b[34m[05/13/2021 21:14:55 INFO 139817151432512] [CPDecomp] Using line search: error_diff=1.78813934326e-07\u001b[0m\n",
      "\u001b[34m[05/13/2021 21:14:55 INFO 139817151432512] [CPDecomp] Using line search: error_diff=3.8743019104e-07\u001b[0m\n",
      "\u001b[34m[05/13/2021 21:14:55 INFO 139817151432512] [CPDecomp] Using line search: error_diff=8.94069671631e-08\u001b[0m\n",
      "\u001b[34m[05/13/2021 21:14:55 INFO 139817151432512] [CPDecomp] Using line search: error_diff=5.96046447754e-08\u001b[0m\n",
      "\u001b[34m[05/13/2021 21:14:55 INFO 139817151432512] [CPDecomp] Using line search: error_diff=2.38418579102e-07\u001b[0m\n",
      "\u001b[34m[05/13/2021 21:14:55 INFO 139817151432512] [CPDecomp] Using line search: error_diff=1.49011611938e-07\u001b[0m\n",
      "\u001b[34m[05/13/2021 21:14:55 INFO 139817151432512] [CPDecomp] Using line search: error_diff=4.17232513428e-07\u001b[0m\n",
      "\u001b[34m[05/13/2021 21:14:55 INFO 139817151432512] [CPDecomp] Using line search: error_diff=1.78813934326e-07\u001b[0m\n",
      "\u001b[34m[05/13/2021 21:14:55 INFO 139817151432512] [CPDecomp] Using line search: error_diff=1.49011611938e-07\u001b[0m\n",
      "\u001b[34m[05/13/2021 21:14:55 INFO 139817151432512] [CPDecomp] Using line search: error_diff=2.98023223877e-07\u001b[0m\n",
      "\u001b[34m[05/13/2021 21:14:55 INFO 139817151432512] [CPDecomp] Using line search: error_diff=3.57627868652e-07\u001b[0m\n",
      "\u001b[34m[05/13/2021 21:14:55 INFO 139817151432512] [CPDecomp] Using line search: error_diff=2.68220901489e-07\u001b[0m\n",
      "\u001b[34m[05/13/2021 21:14:55 INFO 139817151432512] [CPDecomp] Using line search: error_diff=5.96046447754e-08\u001b[0m\n",
      "\u001b[34m[05/13/2021 21:14:55 INFO 139817151432512] [CPDecomp] Using line search: error_diff=4.17232513428e-07\u001b[0m\n",
      "\u001b[34m[05/13/2021 21:14:55 INFO 139817151432512] [CPDecomp] Using line search: error_diff=3.27825546265e-07\u001b[0m\n",
      "\u001b[34m[05/13/2021 21:14:55 INFO 139817151432512] [CPDecomp] iter=343, error=0.27474591136, var=0.0\u001b[0m\n",
      "\u001b[34m[05/13/2021 21:14:55 INFO 139817151432512] Converged to local minimum in 343 iterations.\u001b[0m\n",
      "\u001b[34m[05/13/2021 21:14:55 INFO 139817151432512] Restart 4/10\u001b[0m\n",
      "\u001b[34m[05/13/2021 21:14:55 INFO 139817151432512] [CPDecomp] Starting CPDecomp...\u001b[0m\n",
      "\u001b[34m[05/13/2021 21:14:55 INFO 139817151432512] [CPDecomp] Configuration: num_qr_iterations=5, line_search=True, relaxation_factor=scaled\u001b[0m\n",
      "\u001b[34m[05/13/2021 21:14:55 INFO 139817151432512] [CPDecomp] Using random initialization.\u001b[0m\n",
      "\u001b[34m[05/13/2021 21:14:55 INFO 139817151432512] [CPDecomp] Using line search: error_diff=0.00018846988678\u001b[0m\n",
      "\u001b[34m[05/13/2021 21:14:55 INFO 139817151432512] [CPDecomp] Using line search: error_diff=0.000113755464554\u001b[0m\n",
      "\u001b[34m[05/13/2021 21:14:55 INFO 139817151432512] [CPDecomp] Using line search: error_diff=9.42349433899e-05\u001b[0m\n",
      "\u001b[34m[05/13/2021 21:14:55 INFO 139817151432512] [CPDecomp] Using line search: error_diff=7.60555267334e-05\u001b[0m\n",
      "\u001b[34m[05/13/2021 21:14:55 INFO 139817151432512] [CPDecomp] Using line search: error_diff=5.77867031097e-05\u001b[0m\n",
      "\u001b[34m[05/13/2021 21:14:55 INFO 139817151432512] [CPDecomp] Using line search: error_diff=4.2051076889e-05\u001b[0m\n",
      "\u001b[34m[05/13/2021 21:14:55 INFO 139817151432512] [CPDecomp] Using line search: error_diff=2.6524066925e-05\u001b[0m\n",
      "\u001b[34m[05/13/2021 21:14:55 INFO 139817151432512] [CPDecomp] Using line search: error_diff=9.65595245361e-06\u001b[0m\n",
      "\u001b[34m[05/13/2021 21:14:55 INFO 139817151432512] [CPDecomp] Using line search: error_diff=2.7596950531e-05\u001b[0m\n",
      "\u001b[34m[05/13/2021 21:14:55 INFO 139817151432512] [CPDecomp] Using line search: error_diff=1.43349170685e-05\u001b[0m\n",
      "\u001b[34m[05/13/2021 21:14:55 INFO 139817151432512] [CPDecomp] Using line search: error_diff=2.15172767639e-05\u001b[0m\n",
      "\u001b[34m[05/13/2021 21:14:55 INFO 139817151432512] [CPDecomp] Using line search: error_diff=1.03116035461e-05\u001b[0m\n",
      "\u001b[34m[05/13/2021 21:14:55 INFO 139817151432512] [CPDecomp] Using line search: error_diff=1.52885913849e-05\u001b[0m\n",
      "\u001b[34m[05/13/2021 21:14:55 INFO 139817151432512] [CPDecomp] Using line search: error_diff=3.3974647522e-06\u001b[0m\n",
      "\u001b[34m[05/13/2021 21:14:55 INFO 139817151432512] [CPDecomp] Using line search: error_diff=8.64267349243e-06\u001b[0m\n",
      "\u001b[34m[05/13/2021 21:14:55 INFO 139817151432512] [CPDecomp] Using line search: error_diff=9.685754776e-06\u001b[0m\n",
      "\u001b[34m[05/13/2021 21:14:55 INFO 139817151432512] [CPDecomp] Using line search: error_diff=9.11951065063e-06\u001b[0m\n",
      "\u001b[34m[05/13/2021 21:14:55 INFO 139817151432512] [CPDecomp] Using line search: error_diff=8.04662704468e-06\u001b[0m\n",
      "\u001b[34m[05/13/2021 21:14:55 INFO 139817151432512] [CPDecomp] Using line search: error_diff=7.0333480835e-06\u001b[0m\n",
      "\u001b[34m[05/13/2021 21:14:56 INFO 139817151432512] [CPDecomp] Using line search: error_diff=6.10947608948e-06\u001b[0m\n",
      "\u001b[34m[05/13/2021 21:14:56 INFO 139817151432512] [CPDecomp] Using line search: error_diff=5.51342964172e-06\u001b[0m\n",
      "\u001b[34m[05/13/2021 21:14:56 INFO 139817151432512] [CPDecomp] Using line search: error_diff=5.15580177307e-06\u001b[0m\n",
      "\u001b[34m[05/13/2021 21:14:56 INFO 139817151432512] [CPDecomp] Using line search: error_diff=4.82797622681e-06\u001b[0m\n",
      "\u001b[34m[05/13/2021 21:14:56 INFO 139817151432512] [CPDecomp] Using line search: error_diff=4.29153442383e-06\u001b[0m\n",
      "\u001b[34m[05/13/2021 21:14:56 INFO 139817151432512] [CPDecomp] Using line search: error_diff=3.27825546265e-06\u001b[0m\n",
      "\u001b[34m[05/13/2021 21:14:56 INFO 139817151432512] [CPDecomp] Using line search: error_diff=1.37090682983e-06\u001b[0m\n",
      "\u001b[34m[05/13/2021 21:14:56 INFO 139817151432512] [CPDecomp] Using line search: error_diff=3.6358833313e-06\u001b[0m\n",
      "\u001b[34m[05/13/2021 21:14:56 INFO 139817151432512] [CPDecomp] Using line search: error_diff=2.4139881134e-06\u001b[0m\n",
      "\u001b[34m[05/13/2021 21:14:56 INFO 139817151432512] [CPDecomp] Using line search: error_diff=1.07288360596e-06\u001b[0m\n",
      "\u001b[34m[05/13/2021 21:14:56 INFO 139817151432512] [CPDecomp] Using line search: error_diff=3.6358833313e-06\u001b[0m\n",
      "\u001b[34m[05/13/2021 21:14:56 INFO 139817151432512] [CPDecomp] Using line search: error_diff=2.95042991638e-06\u001b[0m\n",
      "\u001b[34m[05/13/2021 21:14:56 INFO 139817151432512] [CPDecomp] Using line search: error_diff=1.72853469849e-06\u001b[0m\n",
      "\u001b[34m[05/13/2021 21:14:56 INFO 139817151432512] [CPDecomp] Using line search: error_diff=2.47359275818e-06\u001b[0m\n",
      "\u001b[34m[05/13/2021 21:14:56 INFO 139817151432512] [CPDecomp] Using line search: error_diff=1.04308128357e-06\u001b[0m\n",
      "\u001b[34m[05/13/2021 21:14:56 INFO 139817151432512] [CPDecomp] Using line search: error_diff=2.35438346863e-06\u001b[0m\n",
      "\u001b[34m[05/13/2021 21:14:56 INFO 139817151432512] [CPDecomp] Using line search: error_diff=1.63912773132e-06\u001b[0m\n",
      "\u001b[34m[05/13/2021 21:14:56 INFO 139817151432512] [CPDecomp] Using line search: error_diff=4.47034835815e-07\u001b[0m\n",
      "\u001b[34m[05/13/2021 21:14:56 INFO 139817151432512] [CPDecomp] Using line search: error_diff=1.43051147461e-06\u001b[0m\n",
      "\u001b[34m[05/13/2021 21:14:56 INFO 139817151432512] [CPDecomp] Using line search: error_diff=1.72853469849e-06\u001b[0m\n",
      "\u001b[34m[05/13/2021 21:14:56 INFO 139817151432512] [CPDecomp] Using line search: error_diff=3.8743019104e-07\u001b[0m\n",
      "\u001b[34m[05/13/2021 21:14:56 INFO 139817151432512] [CPDecomp] Using line search: error_diff=1.51991844177e-06\u001b[0m\n",
      "\u001b[34m[05/13/2021 21:14:56 INFO 139817151432512] [CPDecomp] Using line search: error_diff=5.96046447754e-07\u001b[0m\n",
      "\u001b[34m[05/13/2021 21:14:56 INFO 139817151432512] [CPDecomp] Using line search: error_diff=1.25169754028e-06\u001b[0m\n",
      "\u001b[34m[05/13/2021 21:14:56 INFO 139817151432512] [CPDecomp] Using line search: error_diff=1.31130218506e-06\u001b[0m\n",
      "\u001b[34m[05/13/2021 21:14:56 INFO 139817151432512] [CPDecomp] Using line search: error_diff=1.49011611938e-06\u001b[0m\n",
      "\u001b[34m[05/13/2021 21:14:56 INFO 139817151432512] [CPDecomp] Using line search: error_diff=8.94069671631e-07\u001b[0m\n",
      "\u001b[34m[05/13/2021 21:14:56 INFO 139817151432512] [CPDecomp] Using line search: error_diff=1.34110450745e-06\u001b[0m\n",
      "\u001b[34m[05/13/2021 21:14:56 INFO 139817151432512] [CPDecomp] Using line search: error_diff=4.76837158203e-07\u001b[0m\n",
      "\u001b[34m[05/13/2021 21:14:56 INFO 139817151432512] [CPDecomp] Using line search: error_diff=4.17232513428e-07\u001b[0m\n",
      "\u001b[34m[05/13/2021 21:14:56 INFO 139817151432512] [CPDecomp] Using line search: error_diff=5.96046447754e-07\u001b[0m\n",
      "\u001b[34m[05/13/2021 21:14:56 INFO 139817151432512] [CPDecomp] Using line search: error_diff=1.04308128357e-06\u001b[0m\n",
      "\u001b[34m[05/13/2021 21:14:56 INFO 139817151432512] [CPDecomp] Using line search: error_diff=3.57627868652e-07\u001b[0m\n",
      "\u001b[34m[05/13/2021 21:14:56 INFO 139817151432512] [CPDecomp] Using line search: error_diff=4.17232513428e-07\u001b[0m\n",
      "\u001b[34m[05/13/2021 21:14:56 INFO 139817151432512] [CPDecomp] Using line search: error_diff=2.68220901489e-07\u001b[0m\n",
      "\u001b[34m[05/13/2021 21:14:56 INFO 139817151432512] [CPDecomp] Using line search: error_diff=5.66244125366e-07\u001b[0m\n",
      "\u001b[34m[05/13/2021 21:14:56 INFO 139817151432512] [CPDecomp] Using line search: error_diff=8.34465026855e-07\u001b[0m\n",
      "\u001b[34m[05/13/2021 21:14:56 INFO 139817151432512] [CPDecomp] Using line search: error_diff=8.94069671631e-08\u001b[0m\n",
      "\u001b[34m[05/13/2021 21:14:56 INFO 139817151432512] [CPDecomp] Using line search: error_diff=7.7486038208e-07\u001b[0m\n",
      "\u001b[34m[05/13/2021 21:14:56 INFO 139817151432512] [CPDecomp] Using line search: error_diff=7.7486038208e-07\u001b[0m\n",
      "\u001b[34m[05/13/2021 21:14:56 INFO 139817151432512] [CPDecomp] Using line search: error_diff=8.94069671631e-08\u001b[0m\n",
      "\u001b[34m[05/13/2021 21:14:56 INFO 139817151432512] [CPDecomp] Using line search: error_diff=4.47034835815e-07\u001b[0m\n",
      "\u001b[34m[05/13/2021 21:14:57 INFO 139817151432512] [CPDecomp] Using line search: error_diff=2.38418579102e-07\u001b[0m\n",
      "\u001b[34m[05/13/2021 21:14:57 INFO 139817151432512] [CPDecomp] Using line search: error_diff=1.78813934326e-07\u001b[0m\n",
      "\u001b[34m[05/13/2021 21:14:57 INFO 139817151432512] [CPDecomp] Using line search: error_diff=2.08616256714e-07\u001b[0m\n",
      "\u001b[34m[05/13/2021 21:14:57 INFO 139817151432512] [CPDecomp] Using line search: error_diff=3.8743019104e-07\u001b[0m\n",
      "\u001b[34m[05/13/2021 21:14:57 INFO 139817151432512] [CPDecomp] Using line search: error_diff=1.19209289551e-07\u001b[0m\n",
      "\u001b[34m[05/13/2021 21:14:57 INFO 139817151432512] [CPDecomp] Using line search: error_diff=5.06639480591e-07\u001b[0m\n",
      "\u001b[34m[05/13/2021 21:14:57 INFO 139817151432512] [CPDecomp] Using line search: error_diff=1.49011611938e-07\u001b[0m\n",
      "\u001b[34m[05/13/2021 21:14:57 INFO 139817151432512] [CPDecomp] Using line search: error_diff=4.17232513428e-07\u001b[0m\n",
      "\u001b[34m[05/13/2021 21:14:57 INFO 139817151432512] [CPDecomp] Using line search: error_diff=5.96046447754e-08\u001b[0m\n",
      "\u001b[34m[05/13/2021 21:14:57 INFO 139817151432512] [CPDecomp] Using line search: error_diff=8.94069671631e-08\u001b[0m\n",
      "\u001b[34m[05/13/2021 21:14:57 INFO 139817151432512] [CPDecomp] Using line search: error_diff=1.19209289551e-07\u001b[0m\n",
      "\u001b[34m[05/13/2021 21:14:57 INFO 139817151432512] [CPDecomp] Using line search: error_diff=1.19209289551e-07\u001b[0m\n",
      "\u001b[34m[05/13/2021 21:14:57 INFO 139817151432512] [CPDecomp] Using line search: error_diff=2.98023223877e-07\u001b[0m\n",
      "\u001b[34m[05/13/2021 21:14:57 INFO 139817151432512] [CPDecomp] Using line search: error_diff=2.98023223877e-08\u001b[0m\n",
      "\u001b[34m[05/13/2021 21:14:57 INFO 139817151432512] [CPDecomp] Using line search: error_diff=2.98023223877e-07\u001b[0m\n",
      "\u001b[34m[05/13/2021 21:14:57 INFO 139817151432512] [CPDecomp] Using line search: error_diff=2.68220901489e-07\u001b[0m\n",
      "\u001b[34m[05/13/2021 21:14:57 INFO 139817151432512] [CPDecomp] Using line search: error_diff=2.68220901489e-07\u001b[0m\n",
      "\u001b[34m[05/13/2021 21:14:57 INFO 139817151432512] [CPDecomp] Using line search: error_diff=1.49011611938e-07\u001b[0m\n",
      "\u001b[34m[05/13/2021 21:14:57 INFO 139817151432512] [CPDecomp] Using line search: error_diff=2.08616256714e-07\u001b[0m\n",
      "\u001b[34m[05/13/2021 21:14:57 INFO 139817151432512] [CPDecomp] Using line search: error_diff=8.94069671631e-08\u001b[0m\n",
      "\u001b[34m[05/13/2021 21:14:57 INFO 139817151432512] [CPDecomp] iter=382, error=0.274741053581, var=0.0\u001b[0m\n",
      "\u001b[34m[05/13/2021 21:14:57 INFO 139817151432512] Converged to local minimum in 382 iterations.\u001b[0m\n",
      "\u001b[34m[05/13/2021 21:14:57 INFO 139817151432512] Restart 5/10\u001b[0m\n",
      "\u001b[34m[05/13/2021 21:14:57 INFO 139817151432512] [CPDecomp] Starting CPDecomp...\u001b[0m\n",
      "\u001b[34m[05/13/2021 21:14:57 INFO 139817151432512] [CPDecomp] Configuration: num_qr_iterations=5, line_search=True, relaxation_factor=scaled\u001b[0m\n",
      "\u001b[34m[05/13/2021 21:14:57 INFO 139817151432512] [CPDecomp] Using random initialization.\u001b[0m\n",
      "\u001b[34m[05/13/2021 21:14:57 INFO 139817151432512] [CPDecomp] Using line search: error_diff=0.000305503606796\u001b[0m\n",
      "\u001b[34m[05/13/2021 21:14:57 INFO 139817151432512] [CPDecomp] Using line search: error_diff=0.000603377819061\u001b[0m\n",
      "\u001b[34m[05/13/2021 21:14:57 INFO 139817151432512] [CPDecomp] Using line search: error_diff=0.000402301549911\u001b[0m\n",
      "\u001b[34m[05/13/2021 21:14:57 INFO 139817151432512] [CPDecomp] Using line search: error_diff=0.000452756881714\u001b[0m\n",
      "\u001b[34m[05/13/2021 21:14:57 INFO 139817151432512] [CPDecomp] Using line search: error_diff=0.000291019678116\u001b[0m\n",
      "\u001b[34m[05/13/2021 21:14:57 INFO 139817151432512] [CPDecomp] Using line search: error_diff=1.50799751282e-05\u001b[0m\n",
      "\u001b[34m[05/13/2021 21:14:57 INFO 139817151432512] [CPDecomp] Using line search: error_diff=4.58061695099e-05\u001b[0m\n",
      "\u001b[34m[05/13/2021 21:14:57 INFO 139817151432512] [CPDecomp] Using line search: error_diff=4.24087047577e-05\u001b[0m\n",
      "\u001b[34m[05/13/2021 21:14:57 INFO 139817151432512] [CPDecomp] Using line search: error_diff=3.71932983398e-05\u001b[0m\n",
      "\u001b[34m[05/13/2021 21:14:57 INFO 139817151432512] [CPDecomp] Using line search: error_diff=3.1977891922e-05\u001b[0m\n",
      "\u001b[34m[05/13/2021 21:14:57 INFO 139817151432512] [CPDecomp] Using line search: error_diff=2.69711017609e-05\u001b[0m\n",
      "\u001b[34m[05/13/2021 21:14:57 INFO 139817151432512] [CPDecomp] Using line search: error_diff=2.25007534027e-05\u001b[0m\n",
      "\u001b[34m[05/13/2021 21:14:57 INFO 139817151432512] [CPDecomp] Using line search: error_diff=1.76727771759e-05\u001b[0m\n",
      "\u001b[34m[05/13/2021 21:14:57 INFO 139817151432512] [CPDecomp] Using line search: error_diff=1.15931034088e-05\u001b[0m\n",
      "\u001b[34m[05/13/2021 21:14:57 INFO 139817151432512] [CPDecomp] Using line search: error_diff=1.28149986267e-06\u001b[0m\n",
      "\u001b[34m[05/13/2021 21:14:57 INFO 139817151432512] [CPDecomp] Using line search: error_diff=8.79168510437e-06\u001b[0m\n",
      "\u001b[34m[05/13/2021 21:14:58 INFO 139817151432512] [CPDecomp] Using line search: error_diff=1.01923942566e-05\u001b[0m\n",
      "\u001b[34m[05/13/2021 21:14:58 INFO 139817151432512] [CPDecomp] Using line search: error_diff=8.34465026855e-07\u001b[0m\n",
      "\u001b[34m[05/13/2021 21:14:58 INFO 139817151432512] [CPDecomp] Using line search: error_diff=2.59280204773e-06\u001b[0m\n",
      "\u001b[34m[05/13/2021 21:14:58 INFO 139817151432512] [CPDecomp] Using line search: error_diff=2.20537185669e-06\u001b[0m\n",
      "\u001b[34m[05/13/2021 21:14:58 INFO 139817151432512] [CPDecomp] Using line search: error_diff=8.04662704468e-07\u001b[0m\n",
      "\u001b[34m[05/13/2021 21:14:58 INFO 139817151432512] [CPDecomp] Using line search: error_diff=6.34789466858e-06\u001b[0m\n",
      "\u001b[34m[05/13/2021 21:14:58 INFO 139817151432512] [CPDecomp] Using line search: error_diff=5.66244125366e-06\u001b[0m\n",
      "\u001b[34m[05/13/2021 21:14:58 INFO 139817151432512] [CPDecomp] Using line search: error_diff=5.0961971283e-06\u001b[0m\n",
      "\u001b[34m[05/13/2021 21:14:58 INFO 139817151432512] [CPDecomp] Using line search: error_diff=4.67896461487e-06\u001b[0m\n",
      "\u001b[34m[05/13/2021 21:14:58 INFO 139817151432512] [CPDecomp] Using line search: error_diff=3.96370887756e-06\u001b[0m\n",
      "\u001b[34m[05/13/2021 21:14:58 INFO 139817151432512] [CPDecomp] Using line search: error_diff=2.86102294922e-06\u001b[0m\n",
      "\u001b[34m[05/13/2021 21:14:58 INFO 139817151432512] [CPDecomp] Using line search: error_diff=8.94069671631e-07\u001b[0m\n",
      "\u001b[34m[05/13/2021 21:14:58 INFO 139817151432512] [CPDecomp] Using line search: error_diff=3.06963920593e-06\u001b[0m\n",
      "\u001b[34m[05/13/2021 21:14:58 INFO 139817151432512] [CPDecomp] Using line search: error_diff=1.75833702087e-06\u001b[0m\n",
      "\u001b[34m[05/13/2021 21:14:58 INFO 139817151432512] [CPDecomp] Using line search: error_diff=2.68220901489e-07\u001b[0m\n",
      "\u001b[34m[05/13/2021 21:14:58 INFO 139817151432512] [CPDecomp] Using line search: error_diff=3.03983688354e-06\u001b[0m\n",
      "\u001b[34m[05/13/2021 21:14:58 INFO 139817151432512] [CPDecomp] Using line search: error_diff=2.1755695343e-06\u001b[0m\n",
      "\u001b[34m[05/13/2021 21:14:58 INFO 139817151432512] [CPDecomp] Using line search: error_diff=4.76837158203e-07\u001b[0m\n",
      "\u001b[34m[05/13/2021 21:14:58 INFO 139817151432512] [CPDecomp] Using line search: error_diff=1.54972076416e-06\u001b[0m\n",
      "\u001b[34m[05/13/2021 21:14:58 INFO 139817151432512] [CPDecomp] Using line search: error_diff=2.35438346863e-06\u001b[0m\n",
      "\u001b[34m[05/13/2021 21:14:58 INFO 139817151432512] [CPDecomp] Using line search: error_diff=1.57952308655e-06\u001b[0m\n",
      "\u001b[34m[05/13/2021 21:14:58 INFO 139817151432512] [CPDecomp] Using line search: error_diff=4.47034835815e-07\u001b[0m\n",
      "\u001b[34m[05/13/2021 21:14:58 INFO 139817151432512] [CPDecomp] Using line search: error_diff=1.57952308655e-06\u001b[0m\n",
      "\u001b[34m[05/13/2021 21:14:58 INFO 139817151432512] [CPDecomp] Using line search: error_diff=1.78813934326e-06\u001b[0m\n",
      "\u001b[34m[05/13/2021 21:14:58 INFO 139817151432512] [CPDecomp] Using line search: error_diff=5.66244125366e-07\u001b[0m\n",
      "\u001b[34m[05/13/2021 21:14:58 INFO 139817151432512] [CPDecomp] Using line search: error_diff=1.31130218506e-06\u001b[0m\n",
      "\u001b[34m[05/13/2021 21:14:58 INFO 139817151432512] [CPDecomp] Using line search: error_diff=8.94069671631e-08\u001b[0m\n",
      "\u001b[34m[05/13/2021 21:14:58 INFO 139817151432512] [CPDecomp] Using line search: error_diff=8.04662704468e-07\u001b[0m\n",
      "\u001b[34m[05/13/2021 21:14:58 INFO 139817151432512] [CPDecomp] Using line search: error_diff=8.64267349243e-07\u001b[0m\n",
      "\u001b[34m[05/13/2021 21:14:58 INFO 139817151432512] [CPDecomp] Using line search: error_diff=8.34465026855e-07\u001b[0m\n",
      "\u001b[34m[05/13/2021 21:14:58 INFO 139817151432512] [CPDecomp] Using line search: error_diff=8.04662704468e-07\u001b[0m\n",
      "\u001b[34m[05/13/2021 21:14:58 INFO 139817151432512] [CPDecomp] Using line search: error_diff=7.15255737305e-07\u001b[0m\n",
      "\u001b[34m[05/13/2021 21:14:58 INFO 139817151432512] [CPDecomp] Using line search: error_diff=3.8743019104e-07\u001b[0m\n",
      "\u001b[34m[05/13/2021 21:14:58 INFO 139817151432512] [CPDecomp] Using line search: error_diff=2.98023223877e-08\u001b[0m\n",
      "\u001b[34m[05/13/2021 21:14:58 INFO 139817151432512] [CPDecomp] Using line search: error_diff=6.85453414917e-07\u001b[0m\n",
      "\u001b[34m[05/13/2021 21:14:58 INFO 139817151432512] [CPDecomp] Using line search: error_diff=2.38418579102e-07\u001b[0m\n",
      "\u001b[34m[05/13/2021 21:14:58 INFO 139817151432512] [CPDecomp] Using line search: error_diff=6.55651092529e-07\u001b[0m\n",
      "\u001b[34m[05/13/2021 21:14:58 INFO 139817151432512] [CPDecomp] Using line search: error_diff=3.57627868652e-07\u001b[0m\n",
      "\u001b[34m[05/13/2021 21:14:58 INFO 139817151432512] [CPDecomp] Using line search: error_diff=6.55651092529e-07\u001b[0m\n",
      "\u001b[34m[05/13/2021 21:14:58 INFO 139817151432512] [CPDecomp] Using line search: error_diff=2.08616256714e-07\u001b[0m\n",
      "\u001b[34m[05/13/2021 21:14:58 INFO 139817151432512] [CPDecomp] Using line search: error_diff=5.06639480591e-07\u001b[0m\n",
      "\u001b[34m[05/13/2021 21:14:58 INFO 139817151432512] [CPDecomp] Using line search: error_diff=6.85453414917e-07\u001b[0m\n",
      "\u001b[34m[05/13/2021 21:14:59 INFO 139817151432512] [CPDecomp] Using line search: error_diff=2.98023223877e-07\u001b[0m\n",
      "\u001b[34m[05/13/2021 21:14:59 INFO 139817151432512] [CPDecomp] Using line search: error_diff=4.47034835815e-07\u001b[0m\n",
      "\u001b[34m[05/13/2021 21:14:59 INFO 139817151432512] [CPDecomp] Using line search: error_diff=5.36441802979e-07\u001b[0m\n",
      "\u001b[34m[05/13/2021 21:14:59 INFO 139817151432512] [CPDecomp] Using line search: error_diff=1.19209289551e-07\u001b[0m\n",
      "\u001b[34m[05/13/2021 21:14:59 INFO 139817151432512] [CPDecomp] Using line search: error_diff=2.98023223877e-07\u001b[0m\n",
      "\u001b[34m[05/13/2021 21:14:59 INFO 139817151432512] [CPDecomp] Using line search: error_diff=3.57627868652e-07\u001b[0m\n",
      "\u001b[34m[05/13/2021 21:14:59 INFO 139817151432512] [CPDecomp] Using line search: error_diff=4.17232513428e-07\u001b[0m\n",
      "\u001b[34m[05/13/2021 21:14:59 INFO 139817151432512] [CPDecomp] Using line search: error_diff=2.68220901489e-07\u001b[0m\n",
      "\u001b[34m[05/13/2021 21:14:59 INFO 139817151432512] [CPDecomp] Using line search: error_diff=4.76837158203e-07\u001b[0m\n",
      "\u001b[34m[05/13/2021 21:14:59 INFO 139817151432512] [CPDecomp] Using line search: error_diff=5.06639480591e-07\u001b[0m\n",
      "\u001b[34m[05/13/2021 21:14:59 INFO 139817151432512] [CPDecomp] Using line search: error_diff=2.98023223877e-08\u001b[0m\n",
      "\u001b[34m[05/13/2021 21:14:59 INFO 139817151432512] [CPDecomp] Using line search: error_diff=4.17232513428e-07\u001b[0m\n",
      "\u001b[34m[05/13/2021 21:14:59 INFO 139817151432512] [CPDecomp] Using line search: error_diff=5.96046447754e-08\u001b[0m\n",
      "\u001b[34m[05/13/2021 21:14:59 INFO 139817151432512] [CPDecomp] Using line search: error_diff=3.27825546265e-07\u001b[0m\n",
      "\u001b[34m[05/13/2021 21:14:59 INFO 139817151432512] [CPDecomp] Using line search: error_diff=4.17232513428e-07\u001b[0m\n",
      "\u001b[34m[05/13/2021 21:14:59 INFO 139817151432512] [CPDecomp] Using line search: error_diff=3.27825546265e-07\u001b[0m\n",
      "\u001b[34m[05/13/2021 21:14:59 INFO 139817151432512] [CPDecomp] Using line search: error_diff=3.57627868652e-07\u001b[0m\n",
      "\u001b[34m[05/13/2021 21:14:59 INFO 139817151432512] [CPDecomp] Using line search: error_diff=2.38418579102e-07\u001b[0m\n",
      "\u001b[34m[05/13/2021 21:14:59 INFO 139817151432512] [CPDecomp] Using line search: error_diff=1.49011611938e-07\u001b[0m\n",
      "\u001b[34m[05/13/2021 21:14:59 INFO 139817151432512] [CPDecomp] Using line search: error_diff=1.19209289551e-07\u001b[0m\n",
      "\u001b[34m[05/13/2021 21:14:59 INFO 139817151432512] [CPDecomp] Using line search: error_diff=2.98023223877e-07\u001b[0m\n",
      "\u001b[34m[05/13/2021 21:14:59 INFO 139817151432512] [CPDecomp] Using line search: error_diff=2.68220901489e-07\u001b[0m\n",
      "\u001b[34m[05/13/2021 21:14:59 INFO 139817151432512] [CPDecomp] Using line search: error_diff=5.96046447754e-08\u001b[0m\n",
      "\u001b[34m[05/13/2021 21:14:59 INFO 139817151432512] [CPDecomp] Using line search: error_diff=1.19209289551e-07\u001b[0m\n",
      "\u001b[34m[05/13/2021 21:14:59 INFO 139817151432512] [CPDecomp] iter=400, error=0.2747400105, var=0.0\u001b[0m\n",
      "\u001b[34m[05/13/2021 21:14:59 INFO 139817151432512] Converged to local minimum in 400 iterations.\u001b[0m\n",
      "\u001b[34m[05/13/2021 21:14:59 INFO 139817151432512] Restart 6/10\u001b[0m\n",
      "\u001b[34m[05/13/2021 21:14:59 INFO 139817151432512] [CPDecomp] Starting CPDecomp...\u001b[0m\n",
      "\u001b[34m[05/13/2021 21:14:59 INFO 139817151432512] [CPDecomp] Configuration: num_qr_iterations=5, line_search=True, relaxation_factor=scaled\u001b[0m\n",
      "\u001b[34m[05/13/2021 21:14:59 INFO 139817151432512] [CPDecomp] Using random initialization.\u001b[0m\n",
      "\u001b[34m[05/13/2021 21:14:59 INFO 139817151432512] [CPDecomp] Using line search: error_diff=0.00135684013367\u001b[0m\n",
      "\u001b[34m[05/13/2021 21:14:59 INFO 139817151432512] [CPDecomp] Using line search: error_diff=0.000199675559998\u001b[0m\n",
      "\u001b[34m[05/13/2021 21:14:59 INFO 139817151432512] [CPDecomp] Using line search: error_diff=0.000156372785568\u001b[0m\n",
      "\u001b[34m[05/13/2021 21:14:59 INFO 139817151432512] [CPDecomp] Using line search: error_diff=3.67164611816e-05\u001b[0m\n",
      "\u001b[34m[05/13/2021 21:14:59 INFO 139817151432512] [CPDecomp] Using line search: error_diff=7.09891319275e-05\u001b[0m\n",
      "\u001b[34m[05/13/2021 21:14:59 INFO 139817151432512] [CPDecomp] Using line search: error_diff=6.30021095276e-05\u001b[0m\n",
      "\u001b[34m[05/13/2021 21:14:59 INFO 139817151432512] [CPDecomp] Using line search: error_diff=5.0812959671e-05\u001b[0m\n",
      "\u001b[34m[05/13/2021 21:14:59 INFO 139817151432512] [CPDecomp] Using line search: error_diff=4.09781932831e-05\u001b[0m\n",
      "\u001b[34m[05/13/2021 21:14:59 INFO 139817151432512] [CPDecomp] Using line search: error_diff=3.16798686981e-05\u001b[0m\n",
      "\u001b[34m[05/13/2021 21:14:59 INFO 139817151432512] [CPDecomp] Using line search: error_diff=2.21729278564e-05\u001b[0m\n",
      "\u001b[34m[05/13/2021 21:15:00 INFO 139817151432512] [CPDecomp] Using line search: error_diff=9.95397567749e-06\u001b[0m\n",
      "\u001b[34m[05/13/2021 21:15:00 INFO 139817151432512] [CPDecomp] Using line search: error_diff=1.83582305908e-05\u001b[0m\n",
      "\u001b[34m[05/13/2021 21:15:00 INFO 139817151432512] [CPDecomp] Using line search: error_diff=6.85453414917e-06\u001b[0m\n",
      "\u001b[34m[05/13/2021 21:15:00 INFO 139817151432512] [CPDecomp] Using line search: error_diff=1.25765800476e-05\u001b[0m\n",
      "\u001b[34m[05/13/2021 21:15:00 INFO 139817151432512] [CPDecomp] Using line search: error_diff=1.39474868774e-05\u001b[0m\n",
      "\u001b[34m[05/13/2021 21:15:00 INFO 139817151432512] [CPDecomp] Using line search: error_diff=5.42402267456e-06\u001b[0m\n",
      "\u001b[34m[05/13/2021 21:15:00 INFO 139817151432512] [CPDecomp] Using line search: error_diff=7.7486038208e-06\u001b[0m\n",
      "\u001b[34m[05/13/2021 21:15:00 INFO 139817151432512] [CPDecomp] Using line search: error_diff=7.86781311035e-06\u001b[0m\n",
      "\u001b[34m[05/13/2021 21:15:00 INFO 139817151432512] [CPDecomp] Using line search: error_diff=7.06315040588e-06\u001b[0m\n",
      "\u001b[34m[05/13/2021 21:15:00 INFO 139817151432512] [CPDecomp] Using line search: error_diff=5.78165054321e-06\u001b[0m\n",
      "\u001b[34m[05/13/2021 21:15:00 INFO 139817151432512] [CPDecomp] Using line search: error_diff=4.64916229248e-06\u001b[0m\n",
      "\u001b[34m[05/13/2021 21:15:00 INFO 139817151432512] [CPDecomp] Using line search: error_diff=3.69548797607e-06\u001b[0m\n",
      "\u001b[34m[05/13/2021 21:15:00 INFO 139817151432512] [CPDecomp] Using line search: error_diff=3.03983688354e-06\u001b[0m\n",
      "\u001b[34m[05/13/2021 21:15:00 INFO 139817151432512] [CPDecomp] Using line search: error_diff=2.6524066925e-06\u001b[0m\n",
      "\u001b[34m[05/13/2021 21:15:00 INFO 139817151432512] [CPDecomp] Using line search: error_diff=2.29477882385e-06\u001b[0m\n",
      "\u001b[34m[05/13/2021 21:15:00 INFO 139817151432512] [CPDecomp] Using line search: error_diff=1.51991844177e-06\u001b[0m\n",
      "\u001b[34m[05/13/2021 21:15:00 INFO 139817151432512] [CPDecomp] Using line search: error_diff=4.02331352234e-06\u001b[0m\n",
      "\u001b[34m[05/13/2021 21:15:00 INFO 139817151432512] [CPDecomp] Using line search: error_diff=2.53319740295e-06\u001b[0m\n",
      "\u001b[34m[05/13/2021 21:15:00 INFO 139817151432512] [CPDecomp] Using line search: error_diff=6.25848770142e-07\u001b[0m\n",
      "\u001b[34m[05/13/2021 21:15:00 INFO 139817151432512] [CPDecomp] Using line search: error_diff=3.24845314026e-06\u001b[0m\n",
      "\u001b[34m[05/13/2021 21:15:00 INFO 139817151432512] [CPDecomp] Using line search: error_diff=2.56299972534e-06\u001b[0m\n",
      "\u001b[34m[05/13/2021 21:15:00 INFO 139817151432512] [CPDecomp] Using line search: error_diff=1.6987323761e-06\u001b[0m\n",
      "\u001b[34m[05/13/2021 21:15:00 INFO 139817151432512] [CPDecomp] Using line search: error_diff=1.19209289551e-07\u001b[0m\n",
      "\u001b[34m[05/13/2021 21:15:00 INFO 139817151432512] [CPDecomp] Using line search: error_diff=1.51991844177e-06\u001b[0m\n",
      "\u001b[34m[05/13/2021 21:15:00 INFO 139817151432512] [CPDecomp] Using line search: error_diff=2.32458114624e-06\u001b[0m\n",
      "\u001b[34m[05/13/2021 21:15:00 INFO 139817151432512] [CPDecomp] Using line search: error_diff=1.34110450745e-06\u001b[0m\n",
      "\u001b[34m[05/13/2021 21:15:00 INFO 139817151432512] [CPDecomp] Using line search: error_diff=2.44379043579e-06\u001b[0m\n",
      "\u001b[34m[05/13/2021 21:15:00 INFO 139817151432512] [CPDecomp] Using line search: error_diff=1.78813934326e-06\u001b[0m\n",
      "\u001b[34m[05/13/2021 21:15:00 INFO 139817151432512] [CPDecomp] Using line search: error_diff=4.17232513428e-07\u001b[0m\n",
      "\u001b[34m[05/13/2021 21:15:00 INFO 139817151432512] [CPDecomp] Using line search: error_diff=9.83476638794e-07\u001b[0m\n",
      "\u001b[34m[05/13/2021 21:15:00 INFO 139817151432512] [CPDecomp] Using line search: error_diff=1.49011611938e-06\u001b[0m\n",
      "\u001b[34m[05/13/2021 21:15:00 INFO 139817151432512] [CPDecomp] Using line search: error_diff=4.76837158203e-07\u001b[0m\n",
      "\u001b[34m[05/13/2021 21:15:00 INFO 139817151432512] [CPDecomp] Using line search: error_diff=1.460313797e-06\u001b[0m\n",
      "\u001b[34m[05/13/2021 21:15:00 INFO 139817151432512] [CPDecomp] Using line search: error_diff=4.76837158203e-07\u001b[0m\n",
      "\u001b[34m[05/13/2021 21:15:00 INFO 139817151432512] [CPDecomp] Using line search: error_diff=6.85453414917e-07\u001b[0m\n",
      "\u001b[34m[05/13/2021 21:15:00 INFO 139817151432512] [CPDecomp] Using line search: error_diff=1.01327896118e-06\u001b[0m\n",
      "\u001b[34m[05/13/2021 21:15:00 INFO 139817151432512] [CPDecomp] Using line search: error_diff=1.37090682983e-06\u001b[0m\n",
      "\u001b[34m[05/13/2021 21:15:00 INFO 139817151432512] [CPDecomp] Using line search: error_diff=6.85453414917e-07\u001b[0m\n",
      "\u001b[34m[05/13/2021 21:15:00 INFO 139817151432512] [CPDecomp] Using line search: error_diff=9.23871994019e-07\u001b[0m\n",
      "\u001b[34m[05/13/2021 21:15:00 INFO 139817151432512] [CPDecomp] Using line search: error_diff=9.53674316406e-07\u001b[0m\n",
      "\u001b[34m[05/13/2021 21:15:00 INFO 139817151432512] [CPDecomp] Using line search: error_diff=1.01327896118e-06\u001b[0m\n",
      "\u001b[34m[05/13/2021 21:15:00 INFO 139817151432512] [CPDecomp] Using line search: error_diff=2.38418579102e-07\u001b[0m\n",
      "\u001b[34m[05/13/2021 21:15:01 INFO 139817151432512] [CPDecomp] Using line search: error_diff=7.7486038208e-07\u001b[0m\n",
      "\u001b[34m[05/13/2021 21:15:01 INFO 139817151432512] [CPDecomp] Using line search: error_diff=8.04662704468e-07\u001b[0m\n",
      "\u001b[34m[05/13/2021 21:15:01 INFO 139817151432512] [CPDecomp] Using line search: error_diff=7.45058059692e-07\u001b[0m\n",
      "\u001b[34m[05/13/2021 21:15:01 INFO 139817151432512] [CPDecomp] Using line search: error_diff=8.34465026855e-07\u001b[0m\n",
      "\u001b[34m[05/13/2021 21:15:01 INFO 139817151432512] [CPDecomp] Using line search: error_diff=8.94069671631e-08\u001b[0m\n",
      "\u001b[34m[05/13/2021 21:15:01 INFO 139817151432512] [CPDecomp] Using line search: error_diff=3.8743019104e-07\u001b[0m\n",
      "\u001b[34m[05/13/2021 21:15:01 INFO 139817151432512] [CPDecomp] Using line search: error_diff=2.98023223877e-07\u001b[0m\n",
      "\u001b[34m[05/13/2021 21:15:01 INFO 139817151432512] [CPDecomp] Using line search: error_diff=2.98023223877e-07\u001b[0m\n",
      "\u001b[34m[05/13/2021 21:15:01 INFO 139817151432512] [CPDecomp] Using line search: error_diff=3.8743019104e-07\u001b[0m\n",
      "\u001b[34m[05/13/2021 21:15:01 INFO 139817151432512] [CPDecomp] Using line search: error_diff=4.47034835815e-07\u001b[0m\n",
      "\u001b[34m[05/13/2021 21:15:01 INFO 139817151432512] [CPDecomp] Using line search: error_diff=2.08616256714e-07\u001b[0m\n",
      "\u001b[34m[05/13/2021 21:15:01 INFO 139817151432512] [CPDecomp] Using line search: error_diff=5.96046447754e-07\u001b[0m\n",
      "\u001b[34m[05/13/2021 21:15:01 INFO 139817151432512] [CPDecomp] Using line search: error_diff=3.57627868652e-07\u001b[0m\n",
      "\u001b[34m[05/13/2021 21:15:01 INFO 139817151432512] [CPDecomp] Using line search: error_diff=8.94069671631e-08\u001b[0m\n",
      "\u001b[34m[05/13/2021 21:15:01 INFO 139817151432512] [CPDecomp] Using line search: error_diff=2.08616256714e-07\u001b[0m\n",
      "\u001b[34m[05/13/2021 21:15:01 INFO 139817151432512] [CPDecomp] Using line search: error_diff=3.57627868652e-07\u001b[0m\n",
      "\u001b[34m[05/13/2021 21:15:01 INFO 139817151432512] [CPDecomp] Using line search: error_diff=3.27825546265e-07\u001b[0m\n",
      "\u001b[34m[05/13/2021 21:15:01 INFO 139817151432512] [CPDecomp] Using line search: error_diff=2.98023223877e-08\u001b[0m\n",
      "\u001b[34m[05/13/2021 21:15:01 INFO 139817151432512] [CPDecomp] Using line search: error_diff=3.27825546265e-07\u001b[0m\n",
      "\u001b[34m[05/13/2021 21:15:01 INFO 139817151432512] [CPDecomp] Using line search: error_diff=3.27825546265e-07\u001b[0m\n",
      "\u001b[34m[05/13/2021 21:15:01 INFO 139817151432512] [CPDecomp] Using line search: error_diff=2.68220901489e-07\u001b[0m\n",
      "\u001b[34m[05/13/2021 21:15:01 INFO 139817151432512] [CPDecomp] Using line search: error_diff=3.27825546265e-07\u001b[0m\n",
      "\u001b[34m[05/13/2021 21:15:01 INFO 139817151432512] [CPDecomp] Using line search: error_diff=5.96046447754e-08\u001b[0m\n",
      "\u001b[34m[05/13/2021 21:15:01 INFO 139817151432512] [CPDecomp] Using line search: error_diff=1.49011611938e-07\u001b[0m\n",
      "\u001b[34m[05/13/2021 21:15:01 INFO 139817151432512] [CPDecomp] Using line search: error_diff=8.94069671631e-08\u001b[0m\n",
      "\u001b[34m[05/13/2021 21:15:01 INFO 139817151432512] [CPDecomp] Using line search: error_diff=5.96046447754e-08\u001b[0m\n",
      "\u001b[34m[05/13/2021 21:15:01 INFO 139817151432512] [CPDecomp] Using line search: error_diff=5.96046447754e-08\u001b[0m\n",
      "\u001b[34m[05/13/2021 21:15:01 INFO 139817151432512] [CPDecomp] Using line search: error_diff=2.68220901489e-07\u001b[0m\n",
      "\u001b[34m[05/13/2021 21:15:01 INFO 139817151432512] [CPDecomp] iter=376, error=0.274741619825, var=0.0\u001b[0m\n",
      "\u001b[34m[05/13/2021 21:15:01 INFO 139817151432512] Converged to local minimum in 376 iterations.\u001b[0m\n",
      "\u001b[34m[05/13/2021 21:15:01 INFO 139817151432512] Restart 7/10\u001b[0m\n",
      "\u001b[34m[05/13/2021 21:15:01 INFO 139817151432512] [CPDecomp] Starting CPDecomp...\u001b[0m\n",
      "\u001b[34m[05/13/2021 21:15:01 INFO 139817151432512] [CPDecomp] Configuration: num_qr_iterations=5, line_search=True, relaxation_factor=scaled\u001b[0m\n",
      "\u001b[34m[05/13/2021 21:15:01 INFO 139817151432512] [CPDecomp] Using random initialization.\u001b[0m\n",
      "\u001b[34m[05/13/2021 21:15:01 INFO 139817151432512] [CPDecomp] Using line search: error_diff=0.000316262245178\u001b[0m\n",
      "\u001b[34m[05/13/2021 21:15:01 INFO 139817151432512] [CPDecomp] Using line search: error_diff=0.000175833702087\u001b[0m\n",
      "\u001b[34m[05/13/2021 21:15:01 INFO 139817151432512] [CPDecomp] Using line search: error_diff=3.08156013489e-05\u001b[0m\n",
      "\u001b[34m[05/13/2021 21:15:01 INFO 139817151432512] [CPDecomp] Using line search: error_diff=3.74913215637e-05\u001b[0m\n",
      "\u001b[34m[05/13/2021 21:15:01 INFO 139817151432512] [CPDecomp] Using line search: error_diff=2.92956829071e-05\u001b[0m\n",
      "\u001b[34m[05/13/2021 21:15:02 INFO 139817151432512] [CPDecomp] Using line search: error_diff=1.69575214386e-05\u001b[0m\n",
      "\u001b[34m[05/13/2021 21:15:02 INFO 139817151432512] [CPDecomp] Using line search: error_diff=7.15255737305e-07\u001b[0m\n",
      "\u001b[34m[05/13/2021 21:15:02 INFO 139817151432512] [CPDecomp] Using line search: error_diff=2.89082527161e-05\u001b[0m\n",
      "\u001b[34m[05/13/2021 21:15:02 INFO 139817151432512] [CPDecomp] Using line search: error_diff=1.37388706207e-05\u001b[0m\n",
      "\u001b[34m[05/13/2021 21:15:02 INFO 139817151432512] [CPDecomp] Using line search: error_diff=2.34544277191e-05\u001b[0m\n",
      "\u001b[34m[05/13/2021 21:15:02 INFO 139817151432512] [CPDecomp] Using line search: error_diff=1.060962677e-05\u001b[0m\n",
      "\u001b[34m[05/13/2021 21:15:02 INFO 139817151432512] [CPDecomp] Using line search: error_diff=1.67191028595e-05\u001b[0m\n",
      "\u001b[34m[05/13/2021 21:15:02 INFO 139817151432512] [CPDecomp] Using line search: error_diff=3.54647636414e-06\u001b[0m\n",
      "\u001b[34m[05/13/2021 21:15:02 INFO 139817151432512] [CPDecomp] Using line search: error_diff=9.95397567749e-06\u001b[0m\n",
      "\u001b[34m[05/13/2021 21:15:02 INFO 139817151432512] [CPDecomp] Using line search: error_diff=1.21891498566e-05\u001b[0m\n",
      "\u001b[34m[05/13/2021 21:15:02 INFO 139817151432512] [CPDecomp] Using line search: error_diff=1.07288360596e-06\u001b[0m\n",
      "\u001b[34m[05/13/2021 21:15:02 INFO 139817151432512] [CPDecomp] Using line search: error_diff=4.55975532532e-06\u001b[0m\n",
      "\u001b[34m[05/13/2021 21:15:02 INFO 139817151432512] [CPDecomp] Using line search: error_diff=5.15580177307e-06\u001b[0m\n",
      "\u001b[34m[05/13/2021 21:15:02 INFO 139817151432512] [CPDecomp] Using line search: error_diff=4.17232513428e-06\u001b[0m\n",
      "\u001b[34m[05/13/2021 21:15:02 INFO 139817151432512] [CPDecomp] Using line search: error_diff=2.6524066925e-06\u001b[0m\n",
      "\u001b[34m[05/13/2021 21:15:02 INFO 139817151432512] [CPDecomp] Using line search: error_diff=1.10268592834e-06\u001b[0m\n",
      "\u001b[34m[05/13/2021 21:15:02 INFO 139817151432512] [CPDecomp] Using line search: error_diff=6.49690628052e-06\u001b[0m\n",
      "\u001b[34m[05/13/2021 21:15:02 INFO 139817151432512] [CPDecomp] Using line search: error_diff=5.93066215515e-06\u001b[0m\n",
      "\u001b[34m[05/13/2021 21:15:02 INFO 139817151432512] [CPDecomp] Using line search: error_diff=5.45382499695e-06\u001b[0m\n",
      "\u001b[34m[05/13/2021 21:15:02 INFO 139817151432512] [CPDecomp] Using line search: error_diff=4.79817390442e-06\u001b[0m\n",
      "\u001b[34m[05/13/2021 21:15:02 INFO 139817151432512] [CPDecomp] Using line search: error_diff=3.75509262085e-06\u001b[0m\n",
      "\u001b[34m[05/13/2021 21:15:02 INFO 139817151432512] [CPDecomp] Using line search: error_diff=2.05636024475e-06\u001b[0m\n",
      "\u001b[34m[05/13/2021 21:15:02 INFO 139817151432512] [CPDecomp] Using line search: error_diff=3.66568565369e-06\u001b[0m\n",
      "\u001b[34m[05/13/2021 21:15:02 INFO 139817151432512] [CPDecomp] Using line search: error_diff=2.59280204773e-06\u001b[0m\n",
      "\u001b[34m[05/13/2021 21:15:02 INFO 139817151432512] [CPDecomp] Using line search: error_diff=1.43051147461e-06\u001b[0m\n",
      "\u001b[34m[05/13/2021 21:15:02 INFO 139817151432512] [CPDecomp] Using line search: error_diff=2.08616256714e-07\u001b[0m\n",
      "\u001b[34m[05/13/2021 21:15:02 INFO 139817151432512] [CPDecomp] Using line search: error_diff=2.71201133728e-06\u001b[0m\n",
      "\u001b[34m[05/13/2021 21:15:02 INFO 139817151432512] [CPDecomp] Using line search: error_diff=1.40070915222e-06\u001b[0m\n",
      "\u001b[34m[05/13/2021 21:15:02 INFO 139817151432512] [CPDecomp] Using line search: error_diff=2.1755695343e-06\u001b[0m\n",
      "\u001b[34m[05/13/2021 21:15:02 INFO 139817151432512] [CPDecomp] Using line search: error_diff=6.55651092529e-07\u001b[0m\n",
      "\u001b[34m[05/13/2021 21:15:02 INFO 139817151432512] [CPDecomp] Using line search: error_diff=2.14576721191e-06\u001b[0m\n",
      "\u001b[34m[05/13/2021 21:15:02 INFO 139817151432512] [CPDecomp] Using line search: error_diff=1.40070915222e-06\u001b[0m\n",
      "\u001b[34m[05/13/2021 21:15:02 INFO 139817151432512] [CPDecomp] Using line search: error_diff=2.98023223877e-08\u001b[0m\n",
      "\u001b[34m[05/13/2021 21:15:02 INFO 139817151432512] [CPDecomp] Using line search: error_diff=8.64267349243e-07\u001b[0m\n",
      "\u001b[34m[05/13/2021 21:15:02 INFO 139817151432512] [CPDecomp] Using line search: error_diff=1.28149986267e-06\u001b[0m\n",
      "\u001b[34m[05/13/2021 21:15:02 INFO 139817151432512] [CPDecomp] Using line search: error_diff=1.81794166565e-06\u001b[0m\n",
      "\u001b[34m[05/13/2021 21:15:02 INFO 139817151432512] [CPDecomp] Using line search: error_diff=1.16229057312e-06\u001b[0m\n",
      "\u001b[34m[05/13/2021 21:15:02 INFO 139817151432512] [CPDecomp] Using line search: error_diff=8.94069671631e-08\u001b[0m\n",
      "\u001b[34m[05/13/2021 21:15:02 INFO 139817151432512] [CPDecomp] Using line search: error_diff=7.15255737305e-07\u001b[0m\n",
      "\u001b[34m[05/13/2021 21:15:02 INFO 139817151432512] [CPDecomp] Using line search: error_diff=8.64267349243e-07\u001b[0m\n",
      "\u001b[34m[05/13/2021 21:15:02 INFO 139817151432512] [CPDecomp] Using line search: error_diff=1.2218952179e-06\u001b[0m\n",
      "\u001b[34m[05/13/2021 21:15:02 INFO 139817151432512] [CPDecomp] Using line search: error_diff=3.27825546265e-07\u001b[0m\n",
      "\u001b[34m[05/13/2021 21:15:02 INFO 139817151432512] [CPDecomp] Using line search: error_diff=9.53674316406e-07\u001b[0m\n",
      "\u001b[34m[05/13/2021 21:15:03 INFO 139817151432512] [CPDecomp] Using line search: error_diff=9.83476638794e-07\u001b[0m\n",
      "\u001b[34m[05/13/2021 21:15:03 INFO 139817151432512] [CPDecomp] Using line search: error_diff=9.53674316406e-07\u001b[0m\n",
      "\u001b[34m[05/13/2021 21:15:03 INFO 139817151432512] [CPDecomp] Using line search: error_diff=1.13248825073e-06\u001b[0m\n",
      "\u001b[34m[05/13/2021 21:15:03 INFO 139817151432512] [CPDecomp] Using line search: error_diff=7.15255737305e-07\u001b[0m\n",
      "\u001b[34m[05/13/2021 21:15:03 INFO 139817151432512] [CPDecomp] Using line search: error_diff=8.64267349243e-07\u001b[0m\n",
      "\u001b[34m[05/13/2021 21:15:03 INFO 139817151432512] [CPDecomp] Using line search: error_diff=8.04662704468e-07\u001b[0m\n",
      "\u001b[34m[05/13/2021 21:15:03 INFO 139817151432512] [CPDecomp] Using line search: error_diff=6.85453414917e-07\u001b[0m\n",
      "\u001b[34m[05/13/2021 21:15:03 INFO 139817151432512] [CPDecomp] Using line search: error_diff=9.53674316406e-07\u001b[0m\n",
      "\u001b[34m[05/13/2021 21:15:03 INFO 139817151432512] [CPDecomp] Using line search: error_diff=4.47034835815e-07\u001b[0m\n",
      "\u001b[34m[05/13/2021 21:15:03 INFO 139817151432512] [CPDecomp] Using line search: error_diff=3.8743019104e-07\u001b[0m\n",
      "\u001b[34m[05/13/2021 21:15:03 INFO 139817151432512] [CPDecomp] Using line search: error_diff=2.68220901489e-07\u001b[0m\n",
      "\u001b[34m[05/13/2021 21:15:03 INFO 139817151432512] [CPDecomp] Using line search: error_diff=3.8743019104e-07\u001b[0m\n",
      "\u001b[34m[05/13/2021 21:15:03 INFO 139817151432512] [CPDecomp] Using line search: error_diff=4.76837158203e-07\u001b[0m\n",
      "\u001b[34m[05/13/2021 21:15:03 INFO 139817151432512] [CPDecomp] Using line search: error_diff=6.25848770142e-07\u001b[0m\n",
      "\u001b[34m[05/13/2021 21:15:03 INFO 139817151432512] [CPDecomp] Using line search: error_diff=5.06639480591e-07\u001b[0m\n",
      "\u001b[34m[05/13/2021 21:15:03 INFO 139817151432512] [CPDecomp] Using line search: error_diff=4.17232513428e-07\u001b[0m\n",
      "\u001b[34m[05/13/2021 21:15:03 INFO 139817151432512] [CPDecomp] Using line search: error_diff=5.36441802979e-07\u001b[0m\n",
      "\u001b[34m[05/13/2021 21:15:03 INFO 139817151432512] [CPDecomp] Using line search: error_diff=5.96046447754e-07\u001b[0m\n",
      "\u001b[34m[05/13/2021 21:15:03 INFO 139817151432512] [CPDecomp] Using line search: error_diff=3.27825546265e-07\u001b[0m\n",
      "\u001b[34m[05/13/2021 21:15:03 INFO 139817151432512] [CPDecomp] Using line search: error_diff=3.8743019104e-07\u001b[0m\n",
      "\u001b[34m[05/13/2021 21:15:03 INFO 139817151432512] [CPDecomp] Using line search: error_diff=2.38418579102e-07\u001b[0m\n",
      "\u001b[34m[05/13/2021 21:15:03 INFO 139817151432512] [CPDecomp] Using line search: error_diff=5.96046447754e-08\u001b[0m\n",
      "\u001b[34m[05/13/2021 21:15:03 INFO 139817151432512] [CPDecomp] Using line search: error_diff=1.19209289551e-07\u001b[0m\n",
      "\u001b[34m[05/13/2021 21:15:03 INFO 139817151432512] [CPDecomp] Using line search: error_diff=2.68220901489e-07\u001b[0m\n",
      "\u001b[34m[05/13/2021 21:15:03 INFO 139817151432512] [CPDecomp] Using line search: error_diff=2.98023223877e-07\u001b[0m\n",
      "\u001b[34m[05/13/2021 21:15:03 INFO 139817151432512] [CPDecomp] Using line search: error_diff=2.98023223877e-07\u001b[0m\n",
      "\u001b[34m[05/13/2021 21:15:03 INFO 139817151432512] [CPDecomp] Using line search: error_diff=2.68220901489e-07\u001b[0m\n",
      "\u001b[34m[05/13/2021 21:15:03 INFO 139817151432512] [CPDecomp] Using line search: error_diff=2.38418579102e-07\u001b[0m\n",
      "\u001b[34m[05/13/2021 21:15:03 INFO 139817151432512] [CPDecomp] Using line search: error_diff=1.49011611938e-07\u001b[0m\n",
      "\u001b[34m[05/13/2021 21:15:03 INFO 139817151432512] [CPDecomp] Using line search: error_diff=1.78813934326e-07\u001b[0m\n",
      "\u001b[34m[05/13/2021 21:15:03 INFO 139817151432512] [CPDecomp] Using line search: error_diff=8.94069671631e-08\u001b[0m\n",
      "\u001b[34m[05/13/2021 21:15:03 INFO 139817151432512] [CPDecomp] Using line search: error_diff=1.19209289551e-07\u001b[0m\n",
      "\u001b[34m[05/13/2021 21:15:03 INFO 139817151432512] [CPDecomp] Using line search: error_diff=2.98023223877e-07\u001b[0m\n",
      "\u001b[34m[05/13/2021 21:15:03 INFO 139817151432512] [CPDecomp] Using line search: error_diff=2.08616256714e-07\u001b[0m\n",
      "\u001b[34m[05/13/2021 21:15:03 INFO 139817151432512] [CPDecomp] Using line search: error_diff=8.94069671631e-08\u001b[0m\n",
      "\u001b[34m[05/13/2021 21:15:04 INFO 139817151432512] [CPDecomp] Using line search: error_diff=2.08616256714e-07\u001b[0m\n",
      "\u001b[34m[05/13/2021 21:15:04 INFO 139817151432512] [CPDecomp] Using line search: error_diff=2.68220901489e-07\u001b[0m\n",
      "\u001b[34m[05/13/2021 21:15:04 INFO 139817151432512] [CPDecomp] iter=404, error=0.274738579988, var=0.0\u001b[0m\n",
      "\u001b[34m[05/13/2021 21:15:04 INFO 139817151432512] Converged to local minimum in 404 iterations.\u001b[0m\n",
      "\u001b[34m[05/13/2021 21:15:04 INFO 139817151432512] Restart 8/10\u001b[0m\n",
      "\u001b[34m[05/13/2021 21:15:04 INFO 139817151432512] [CPDecomp] Starting CPDecomp...\u001b[0m\n",
      "\u001b[34m[05/13/2021 21:15:04 INFO 139817151432512] [CPDecomp] Configuration: num_qr_iterations=5, line_search=True, relaxation_factor=scaled\u001b[0m\n",
      "\u001b[34m[05/13/2021 21:15:04 INFO 139817151432512] [CPDecomp] Using random initialization.\u001b[0m\n",
      "\u001b[34m[05/13/2021 21:15:04 INFO 139817151432512] [CPDecomp] Using line search: error_diff=0.0002681016922\u001b[0m\n",
      "\u001b[34m[05/13/2021 21:15:04 INFO 139817151432512] [CPDecomp] Using line search: error_diff=9.04202461243e-05\u001b[0m\n",
      "\u001b[34m[05/13/2021 21:15:04 INFO 139817151432512] [CPDecomp] Using line search: error_diff=0.00011619925499\u001b[0m\n",
      "\u001b[34m[05/13/2021 21:15:04 INFO 139817151432512] [CPDecomp] Using line search: error_diff=9.79602336884e-05\u001b[0m\n",
      "\u001b[34m[05/13/2021 21:15:04 INFO 139817151432512] [CPDecomp] Using line search: error_diff=7.75158405304e-05\u001b[0m\n",
      "\u001b[34m[05/13/2021 21:15:04 INFO 139817151432512] [CPDecomp] Using line search: error_diff=5.96344470978e-05\u001b[0m\n",
      "\u001b[34m[05/13/2021 21:15:04 INFO 139817151432512] [CPDecomp] Using line search: error_diff=4.47332859039e-05\u001b[0m\n",
      "\u001b[34m[05/13/2021 21:15:04 INFO 139817151432512] [CPDecomp] Using line search: error_diff=3.11136245728e-05\u001b[0m\n",
      "\u001b[34m[05/13/2021 21:15:04 INFO 139817151432512] [CPDecomp] Using line search: error_diff=1.6987323761e-05\u001b[0m\n",
      "\u001b[34m[05/13/2021 21:15:04 INFO 139817151432512] [CPDecomp] Using line search: error_diff=2.71797180176e-05\u001b[0m\n",
      "\u001b[34m[05/13/2021 21:15:04 INFO 139817151432512] [CPDecomp] Using line search: error_diff=1.53779983521e-05\u001b[0m\n",
      "\u001b[34m[05/13/2021 21:15:04 INFO 139817151432512] [CPDecomp] Using line search: error_diff=1.99973583221e-05\u001b[0m\n",
      "\u001b[34m[05/13/2021 21:15:04 INFO 139817151432512] [CPDecomp] Using line search: error_diff=8.70227813721e-06\u001b[0m\n",
      "\u001b[34m[05/13/2021 21:15:04 INFO 139817151432512] [CPDecomp] Using line search: error_diff=1.32024288177e-05\u001b[0m\n",
      "\u001b[34m[05/13/2021 21:15:04 INFO 139817151432512] [CPDecomp] Using line search: error_diff=1.45137310028e-05\u001b[0m\n",
      "\u001b[34m[05/13/2021 21:15:04 INFO 139817151432512] [CPDecomp] Using line search: error_diff=5.5730342865e-06\u001b[0m\n",
      "\u001b[34m[05/13/2021 21:15:04 INFO 139817151432512] [CPDecomp] Using line search: error_diff=8.49366188049e-06\u001b[0m\n",
      "\u001b[34m[05/13/2021 21:15:04 INFO 139817151432512] [CPDecomp] Using line search: error_diff=9.2089176178e-06\u001b[0m\n",
      "\u001b[34m[05/13/2021 21:15:04 INFO 139817151432512] [CPDecomp] Using line search: error_diff=8.76188278198e-06\u001b[0m\n",
      "\u001b[34m[05/13/2021 21:15:04 INFO 139817151432512] [CPDecomp] Using line search: error_diff=7.71880149841e-06\u001b[0m\n",
      "\u001b[34m[05/13/2021 21:15:04 INFO 139817151432512] [CPDecomp] Using line search: error_diff=6.43730163574e-06\u001b[0m\n",
      "\u001b[34m[05/13/2021 21:15:04 INFO 139817151432512] [CPDecomp] Using line search: error_diff=5.18560409546e-06\u001b[0m\n",
      "\u001b[34m[05/13/2021 21:15:04 INFO 139817151432512] [CPDecomp] Using line search: error_diff=4.14252281189e-06\u001b[0m\n",
      "\u001b[34m[05/13/2021 21:15:04 INFO 139817151432512] [CPDecomp] Using line search: error_diff=3.30805778503e-06\u001b[0m\n",
      "\u001b[34m[05/13/2021 21:15:04 INFO 139817151432512] [CPDecomp] Using line search: error_diff=2.77161598206e-06\u001b[0m\n",
      "\u001b[34m[05/13/2021 21:15:04 INFO 139817151432512] [CPDecomp] Using line search: error_diff=2.29477882385e-06\u001b[0m\n",
      "\u001b[34m[05/13/2021 21:15:04 INFO 139817151432512] [CPDecomp] Using line search: error_diff=1.43051147461e-06\u001b[0m\n",
      "\u001b[34m[05/13/2021 21:15:04 INFO 139817151432512] [CPDecomp] Using line search: error_diff=3.84449958801e-06\u001b[0m\n",
      "\u001b[34m[05/13/2021 21:15:04 INFO 139817151432512] [CPDecomp] Using line search: error_diff=2.38418579102e-06\u001b[0m\n",
      "\u001b[34m[05/13/2021 21:15:04 INFO 139817151432512] [CPDecomp] Using line search: error_diff=1.78813934326e-07\u001b[0m\n",
      "\u001b[34m[05/13/2021 21:15:04 INFO 139817151432512] [CPDecomp] Using line search: error_diff=3.01003456116e-06\u001b[0m\n",
      "\u001b[34m[05/13/2021 21:15:04 INFO 139817151432512] [CPDecomp] Using line search: error_diff=2.20537185669e-06\u001b[0m\n",
      "\u001b[34m[05/13/2021 21:15:04 INFO 139817151432512] [CPDecomp] Using line search: error_diff=1.19209289551e-06\u001b[0m\n",
      "\u001b[34m[05/13/2021 21:15:04 INFO 139817151432512] [CPDecomp] Using line search: error_diff=2.59280204773e-06\u001b[0m\n",
      "\u001b[34m[05/13/2021 21:15:04 INFO 139817151432512] [CPDecomp] Using line search: error_diff=1.10268592834e-06\u001b[0m\n",
      "\u001b[34m[05/13/2021 21:15:04 INFO 139817151432512] [CPDecomp] Using line search: error_diff=1.99675559998e-06\u001b[0m\n",
      "\u001b[34m[05/13/2021 21:15:04 INFO 139817151432512] [CPDecomp] Using line search: error_diff=6.85453414917e-07\u001b[0m\n",
      "\u001b[34m[05/13/2021 21:15:04 INFO 139817151432512] [CPDecomp] Using line search: error_diff=2.08616256714e-06\u001b[0m\n",
      "\u001b[34m[05/13/2021 21:15:04 INFO 139817151432512] [CPDecomp] Using line search: error_diff=1.34110450745e-06\u001b[0m\n",
      "\u001b[34m[05/13/2021 21:15:04 INFO 139817151432512] [CPDecomp] Using line search: error_diff=1.75833702087e-06\u001b[0m\n",
      "\u001b[34m[05/13/2021 21:15:05 INFO 139817151432512] [CPDecomp] Using line search: error_diff=2.68220901489e-07\u001b[0m\n",
      "\u001b[34m[05/13/2021 21:15:05 INFO 139817151432512] [CPDecomp] Using line search: error_diff=1.04308128357e-06\u001b[0m\n",
      "\u001b[34m[05/13/2021 21:15:05 INFO 139817151432512] [CPDecomp] Using line search: error_diff=1.6987323761e-06\u001b[0m\n",
      "\u001b[34m[05/13/2021 21:15:05 INFO 139817151432512] [CPDecomp] Using line search: error_diff=1.01327896118e-06\u001b[0m\n",
      "\u001b[34m[05/13/2021 21:15:05 INFO 139817151432512] [CPDecomp] Using line search: error_diff=1.34110450745e-06\u001b[0m\n",
      "\u001b[34m[05/13/2021 21:15:05 INFO 139817151432512] [CPDecomp] Using line search: error_diff=1.34110450745e-06\u001b[0m\n",
      "\u001b[34m[05/13/2021 21:15:05 INFO 139817151432512] [CPDecomp] Using line search: error_diff=2.38418579102e-07\u001b[0m\n",
      "\u001b[34m[05/13/2021 21:15:05 INFO 139817151432512] [CPDecomp] Using line search: error_diff=9.53674316406e-07\u001b[0m\n",
      "\u001b[34m[05/13/2021 21:15:05 INFO 139817151432512] [CPDecomp] Using line search: error_diff=1.31130218506e-06\u001b[0m\n",
      "\u001b[34m[05/13/2021 21:15:05 INFO 139817151432512] [CPDecomp] Using line search: error_diff=4.47034835815e-07\u001b[0m\n",
      "\u001b[34m[05/13/2021 21:15:05 INFO 139817151432512] [CPDecomp] Using line search: error_diff=4.47034835815e-07\u001b[0m\n",
      "\u001b[34m[05/13/2021 21:15:05 INFO 139817151432512] [CPDecomp] Using line search: error_diff=6.85453414917e-07\u001b[0m\n",
      "\u001b[34m[05/13/2021 21:15:05 INFO 139817151432512] [CPDecomp] Using line search: error_diff=8.94069671631e-07\u001b[0m\n",
      "\u001b[34m[05/13/2021 21:15:05 INFO 139817151432512] [CPDecomp] Using line search: error_diff=1.78813934326e-07\u001b[0m\n",
      "\u001b[34m[05/13/2021 21:15:05 INFO 139817151432512] [CPDecomp] Using line search: error_diff=2.98023223877e-07\u001b[0m\n",
      "\u001b[34m[05/13/2021 21:15:05 INFO 139817151432512] [CPDecomp] Using line search: error_diff=2.68220901489e-07\u001b[0m\n",
      "\u001b[34m[05/13/2021 21:15:05 INFO 139817151432512] [CPDecomp] Using line search: error_diff=4.47034835815e-07\u001b[0m\n",
      "\u001b[34m[05/13/2021 21:15:05 INFO 139817151432512] [CPDecomp] Using line search: error_diff=7.15255737305e-07\u001b[0m\n",
      "\u001b[34m[05/13/2021 21:15:05 INFO 139817151432512] [CPDecomp] Using line search: error_diff=7.45058059692e-07\u001b[0m\n",
      "\u001b[34m[05/13/2021 21:15:05 INFO 139817151432512] [CPDecomp] Using line search: error_diff=5.66244125366e-07\u001b[0m\n",
      "\u001b[34m[05/13/2021 21:15:05 INFO 139817151432512] [CPDecomp] Using line search: error_diff=5.66244125366e-07\u001b[0m\n",
      "\u001b[34m[05/13/2021 21:15:05 INFO 139817151432512] [CPDecomp] Using line search: error_diff=7.45058059692e-07\u001b[0m\n",
      "\u001b[34m[05/13/2021 21:15:05 INFO 139817151432512] [CPDecomp] Using line search: error_diff=1.49011611938e-07\u001b[0m\n",
      "\u001b[34m[05/13/2021 21:15:05 INFO 139817151432512] [CPDecomp] Using line search: error_diff=6.25848770142e-07\u001b[0m\n",
      "\u001b[34m[05/13/2021 21:15:05 INFO 139817151432512] [CPDecomp] Using line search: error_diff=6.25848770142e-07\u001b[0m\n",
      "\u001b[34m[05/13/2021 21:15:05 INFO 139817151432512] [CPDecomp] Using line search: error_diff=5.96046447754e-08\u001b[0m\n",
      "\u001b[34m[05/13/2021 21:15:05 INFO 139817151432512] [CPDecomp] Using line search: error_diff=2.38418579102e-07\u001b[0m\n",
      "\u001b[34m[05/13/2021 21:15:05 INFO 139817151432512] [CPDecomp] Using line search: error_diff=5.96046447754e-08\u001b[0m\n",
      "\u001b[34m[05/13/2021 21:15:05 INFO 139817151432512] [CPDecomp] Using line search: error_diff=3.8743019104e-07\u001b[0m\n",
      "\u001b[34m[05/13/2021 21:15:05 INFO 139817151432512] [CPDecomp] Using line search: error_diff=4.47034835815e-07\u001b[0m\n",
      "\u001b[34m[05/13/2021 21:15:05 INFO 139817151432512] [CPDecomp] Using line search: error_diff=1.49011611938e-07\u001b[0m\n",
      "\u001b[34m[05/13/2021 21:15:05 INFO 139817151432512] [CPDecomp] Using line search: error_diff=2.68220901489e-07\u001b[0m\n",
      "\u001b[34m[05/13/2021 21:15:05 INFO 139817151432512] [CPDecomp] Using line search: error_diff=2.98023223877e-07\u001b[0m\n",
      "\u001b[34m[05/13/2021 21:15:05 INFO 139817151432512] [CPDecomp] Using line search: error_diff=3.57627868652e-07\u001b[0m\n",
      "\u001b[34m[05/13/2021 21:15:05 INFO 139817151432512] [CPDecomp] Using line search: error_diff=2.98023223877e-08\u001b[0m\n",
      "\u001b[34m[05/13/2021 21:15:06 INFO 139817151432512] [CPDecomp] Using line search: error_diff=2.98023223877e-07\u001b[0m\n",
      "\u001b[34m[05/13/2021 21:15:06 INFO 139817151432512] [CPDecomp] Using line search: error_diff=1.19209289551e-07\u001b[0m\n",
      "\u001b[34m[05/13/2021 21:15:06 INFO 139817151432512] [CPDecomp] Using line search: error_diff=1.49011611938e-07\u001b[0m\n",
      "\u001b[34m[05/13/2021 21:15:06 INFO 139817151432512] [CPDecomp] Using line search: error_diff=2.08616256714e-07\u001b[0m\n",
      "\u001b[34m[05/13/2021 21:15:06 INFO 139817151432512] [CPDecomp] Using line search: error_diff=5.96046447754e-08\u001b[0m\n",
      "\u001b[34m[05/13/2021 21:15:06 INFO 139817151432512] [CPDecomp] Using line search: error_diff=8.94069671631e-08\u001b[0m\n",
      "\u001b[34m[05/13/2021 21:15:06 INFO 139817151432512] [CPDecomp] Using line search: error_diff=5.96046447754e-08\u001b[0m\n",
      "\u001b[34m[05/13/2021 21:15:06 INFO 139817151432512] [CPDecomp] Using line search: error_diff=1.49011611938e-07\u001b[0m\n",
      "\u001b[34m[05/13/2021 21:15:06 INFO 139817151432512] [CPDecomp] Using line search: error_diff=5.96046447754e-08\u001b[0m\n",
      "\u001b[34m[05/13/2021 21:15:06 INFO 139817151432512] [CPDecomp] Using line search: error_diff=5.96046447754e-08\u001b[0m\n",
      "\u001b[34m[05/13/2021 21:15:06 INFO 139817151432512] [CPDecomp] Using line search: error_diff=2.98023223877e-07\u001b[0m\n",
      "\u001b[34m[05/13/2021 21:15:06 INFO 139817151432512] [CPDecomp] Using line search: error_diff=1.78813934326e-07\u001b[0m\n",
      "\u001b[34m[05/13/2021 21:15:06 INFO 139817151432512] [CPDecomp] Using line search: error_diff=2.38418579102e-07\u001b[0m\n",
      "\u001b[34m[05/13/2021 21:15:06 INFO 139817151432512] [CPDecomp] Using line search: error_diff=1.78813934326e-07\u001b[0m\n",
      "\u001b[34m[05/13/2021 21:15:06 INFO 139817151432512] [CPDecomp] iter=425, error=0.27473667264, var=0.0\u001b[0m\n",
      "\u001b[34m[05/13/2021 21:15:06 INFO 139817151432512] Converged to local minimum in 425 iterations.\u001b[0m\n",
      "\u001b[34m[05/13/2021 21:15:06 INFO 139817151432512] Restart 9/10\u001b[0m\n",
      "\u001b[34m[05/13/2021 21:15:06 INFO 139817151432512] [CPDecomp] Starting CPDecomp...\u001b[0m\n",
      "\u001b[34m[05/13/2021 21:15:06 INFO 139817151432512] [CPDecomp] Configuration: num_qr_iterations=5, line_search=True, relaxation_factor=scaled\u001b[0m\n",
      "\u001b[34m[05/13/2021 21:15:06 INFO 139817151432512] [CPDecomp] Using random initialization.\u001b[0m\n",
      "\u001b[34m[05/13/2021 21:15:06 INFO 139817151432512] [CPDecomp] Using line search: error_diff=0.000211507081985\u001b[0m\n",
      "\u001b[34m[05/13/2021 21:15:06 INFO 139817151432512] [CPDecomp] Using line search: error_diff=0.000138610601425\u001b[0m\n",
      "\u001b[34m[05/13/2021 21:15:06 INFO 139817151432512] [CPDecomp] Using line search: error_diff=6.25848770142e-07\u001b[0m\n",
      "\u001b[34m[05/13/2021 21:15:06 INFO 139817151432512] [CPDecomp] Using line search: error_diff=2.26199626923e-05\u001b[0m\n",
      "\u001b[34m[05/13/2021 21:15:06 INFO 139817151432512] [CPDecomp] Using line search: error_diff=1.89244747162e-05\u001b[0m\n",
      "\u001b[34m[05/13/2021 21:15:06 INFO 139817151432512] [CPDecomp] Using line search: error_diff=8.04662704468e-06\u001b[0m\n",
      "\u001b[34m[05/13/2021 21:15:06 INFO 139817151432512] [CPDecomp] Using line search: error_diff=3.85940074921e-05\u001b[0m\n",
      "\u001b[34m[05/13/2021 21:15:06 INFO 139817151432512] [CPDecomp] Using line search: error_diff=2.53915786743e-05\u001b[0m\n",
      "\u001b[34m[05/13/2021 21:15:06 INFO 139817151432512] [CPDecomp] Using line search: error_diff=9.9241733551e-06\u001b[0m\n",
      "\u001b[34m[05/13/2021 21:15:06 INFO 139817151432512] [CPDecomp] Using line search: error_diff=2.22623348236e-05\u001b[0m\n",
      "\u001b[34m[05/13/2021 21:15:06 INFO 139817151432512] [CPDecomp] Using line search: error_diff=9.59634780884e-06\u001b[0m\n",
      "\u001b[34m[05/13/2021 21:15:06 INFO 139817151432512] [CPDecomp] Using line search: error_diff=1.65402889252e-05\u001b[0m\n",
      "\u001b[34m[05/13/2021 21:15:06 INFO 139817151432512] [CPDecomp] Using line search: error_diff=4.14252281189e-06\u001b[0m\n",
      "\u001b[34m[05/13/2021 21:15:06 INFO 139817151432512] [CPDecomp] Using line search: error_diff=1.03414058685e-05\u001b[0m\n",
      "\u001b[34m[05/13/2021 21:15:06 INFO 139817151432512] [CPDecomp] Using line search: error_diff=1.18315219879e-05\u001b[0m\n",
      "\u001b[34m[05/13/2021 21:15:06 INFO 139817151432512] [CPDecomp] Using line search: error_diff=1.07288360596e-06\u001b[0m\n",
      "\u001b[34m[05/13/2021 21:15:06 INFO 139817151432512] [CPDecomp] Using line search: error_diff=2.98023223877e-06\u001b[0m\n",
      "\u001b[34m[05/13/2021 21:15:06 INFO 139817151432512] [CPDecomp] Using line search: error_diff=2.56299972534e-06\u001b[0m\n",
      "\u001b[34m[05/13/2021 21:15:06 INFO 139817151432512] [CPDecomp] Using line search: error_diff=1.43051147461e-06\u001b[0m\n",
      "\u001b[34m[05/13/2021 21:15:07 INFO 139817151432512] [CPDecomp] Using line search: error_diff=2.68220901489e-07\u001b[0m\n",
      "\u001b[34m[05/13/2021 21:15:07 INFO 139817151432512] [CPDecomp] Using line search: error_diff=6.91413879395e-06\u001b[0m\n",
      "\u001b[34m[05/13/2021 21:15:07 INFO 139817151432512] [CPDecomp] Using line search: error_diff=6.43730163574e-06\u001b[0m\n",
      "\u001b[34m[05/13/2021 21:15:07 INFO 139817151432512] [CPDecomp] Using line search: error_diff=5.99026679993e-06\u001b[0m\n",
      "\u001b[34m[05/13/2021 21:15:07 INFO 139817151432512] [CPDecomp] Using line search: error_diff=5.3346157074e-06\u001b[0m\n",
      "\u001b[34m[05/13/2021 21:15:07 INFO 139817151432512] [CPDecomp] Using line search: error_diff=4.3511390686e-06\u001b[0m\n",
      "\u001b[34m[05/13/2021 21:15:07 INFO 139817151432512] [CPDecomp] Using line search: error_diff=2.83122062683e-06\u001b[0m\n",
      "\u001b[34m[05/13/2021 21:15:07 INFO 139817151432512] [CPDecomp] Using line search: error_diff=5.66244125366e-07\u001b[0m\n",
      "\u001b[34m[05/13/2021 21:15:07 INFO 139817151432512] [CPDecomp] Using line search: error_diff=3.3974647522e-06\u001b[0m\n",
      "\u001b[34m[05/13/2021 21:15:07 INFO 139817151432512] [CPDecomp] Using line search: error_diff=2.53319740295e-06\u001b[0m\n",
      "\u001b[34m[05/13/2021 21:15:07 INFO 139817151432512] [CPDecomp] Using line search: error_diff=1.57952308655e-06\u001b[0m\n",
      "\u001b[34m[05/13/2021 21:15:07 INFO 139817151432512] [CPDecomp] Using line search: error_diff=4.17232513428e-07\u001b[0m\n",
      "\u001b[34m[05/13/2021 21:15:07 INFO 139817151432512] [CPDecomp] Using line search: error_diff=2.35438346863e-06\u001b[0m\n",
      "\u001b[34m[05/13/2021 21:15:07 INFO 139817151432512] [CPDecomp] Using line search: error_diff=5.06639480591e-07\u001b[0m\n",
      "\u001b[34m[05/13/2021 21:15:07 INFO 139817151432512] [CPDecomp] Using line search: error_diff=1.84774398804e-06\u001b[0m\n",
      "\u001b[34m[05/13/2021 21:15:07 INFO 139817151432512] [CPDecomp] Using line search: error_diff=4.47034835815e-07\u001b[0m\n",
      "\u001b[34m[05/13/2021 21:15:07 INFO 139817151432512] [CPDecomp] Using line search: error_diff=2.20537185669e-06\u001b[0m\n",
      "\u001b[34m[05/13/2021 21:15:07 INFO 139817151432512] [CPDecomp] Using line search: error_diff=1.40070915222e-06\u001b[0m\n",
      "\u001b[34m[05/13/2021 21:15:07 INFO 139817151432512] [CPDecomp] Using line search: error_diff=1.78813934326e-06\u001b[0m\n",
      "\u001b[34m[05/13/2021 21:15:07 INFO 139817151432512] [CPDecomp] Using line search: error_diff=2.98023223877e-07\u001b[0m\n",
      "\u001b[34m[05/13/2021 21:15:07 INFO 139817151432512] [CPDecomp] Using line search: error_diff=1.2218952179e-06\u001b[0m\n",
      "\u001b[34m[05/13/2021 21:15:07 INFO 139817151432512] [CPDecomp] Using line search: error_diff=1.78813934326e-06\u001b[0m\n",
      "\u001b[34m[05/13/2021 21:15:07 INFO 139817151432512] [CPDecomp] Using line search: error_diff=1.19209289551e-06\u001b[0m\n",
      "\u001b[34m[05/13/2021 21:15:07 INFO 139817151432512] [CPDecomp] Using line search: error_diff=1.51991844177e-06\u001b[0m\n",
      "\u001b[34m[05/13/2021 21:15:07 INFO 139817151432512] [CPDecomp] Using line search: error_diff=2.38418579102e-07\u001b[0m\n",
      "\u001b[34m[05/13/2021 21:15:07 INFO 139817151432512] [CPDecomp] Using line search: error_diff=7.15255737305e-07\u001b[0m\n",
      "\u001b[34m[05/13/2021 21:15:07 INFO 139817151432512] [CPDecomp] Using line search: error_diff=1.25169754028e-06\u001b[0m\n",
      "\u001b[34m[05/13/2021 21:15:07 INFO 139817151432512] [CPDecomp] Using line search: error_diff=5.06639480591e-07\u001b[0m\n",
      "\u001b[34m[05/13/2021 21:15:07 INFO 139817151432512] [CPDecomp] Using line search: error_diff=8.04662704468e-07\u001b[0m\n",
      "\u001b[34m[05/13/2021 21:15:07 INFO 139817151432512] [CPDecomp] Using line search: error_diff=7.7486038208e-07\u001b[0m\n",
      "\u001b[34m[05/13/2021 21:15:07 INFO 139817151432512] [CPDecomp] Using line search: error_diff=1.01327896118e-06\u001b[0m\n",
      "\u001b[34m[05/13/2021 21:15:07 INFO 139817151432512] [CPDecomp] Using line search: error_diff=5.96046447754e-08\u001b[0m\n",
      "\u001b[34m[05/13/2021 21:15:07 INFO 139817151432512] [CPDecomp] Using line search: error_diff=7.15255737305e-07\u001b[0m\n",
      "\u001b[34m[05/13/2021 21:15:07 INFO 139817151432512] [CPDecomp] Using line search: error_diff=7.15255737305e-07\u001b[0m\n",
      "\u001b[34m[05/13/2021 21:15:07 INFO 139817151432512] [CPDecomp] Using line search: error_diff=6.25848770142e-07\u001b[0m\n",
      "\u001b[34m[05/13/2021 21:15:07 INFO 139817151432512] [CPDecomp] Using line search: error_diff=7.7486038208e-07\u001b[0m\n",
      "\u001b[34m[05/13/2021 21:15:07 INFO 139817151432512] [CPDecomp] Using line search: error_diff=8.94069671631e-08\u001b[0m\n",
      "\u001b[34m[05/13/2021 21:15:07 INFO 139817151432512] [CPDecomp] Using line search: error_diff=4.17232513428e-07\u001b[0m\n",
      "\u001b[34m[05/13/2021 21:15:08 INFO 139817151432512] [CPDecomp] Using line search: error_diff=2.98023223877e-07\u001b[0m\n",
      "\u001b[34m[05/13/2021 21:15:08 INFO 139817151432512] [CPDecomp] Using line search: error_diff=2.08616256714e-07\u001b[0m\n",
      "\u001b[34m[05/13/2021 21:15:08 INFO 139817151432512] [CPDecomp] Using line search: error_diff=5.06639480591e-07\u001b[0m\n",
      "\u001b[34m[05/13/2021 21:15:08 INFO 139817151432512] [CPDecomp] Using line search: error_diff=6.55651092529e-07\u001b[0m\n",
      "\u001b[34m[05/13/2021 21:15:08 INFO 139817151432512] [CPDecomp] Using line search: error_diff=5.66244125366e-07\u001b[0m\n",
      "\u001b[34m[05/13/2021 21:15:08 INFO 139817151432512] [CPDecomp] Using line search: error_diff=4.76837158203e-07\u001b[0m\n",
      "\u001b[34m[05/13/2021 21:15:08 INFO 139817151432512] [CPDecomp] Using line search: error_diff=4.76837158203e-07\u001b[0m\n",
      "\u001b[34m[05/13/2021 21:15:08 INFO 139817151432512] [CPDecomp] Using line search: error_diff=5.66244125366e-07\u001b[0m\n",
      "\u001b[34m[05/13/2021 21:15:08 INFO 139817151432512] [CPDecomp] Using line search: error_diff=4.17232513428e-07\u001b[0m\n",
      "\u001b[34m[05/13/2021 21:15:08 INFO 139817151432512] [CPDecomp] Using line search: error_diff=3.8743019104e-07\u001b[0m\n",
      "\u001b[34m[05/13/2021 21:15:08 INFO 139817151432512] [CPDecomp] Using line search: error_diff=2.68220901489e-07\u001b[0m\n",
      "\u001b[34m[05/13/2021 21:15:08 INFO 139817151432512] [CPDecomp] Using line search: error_diff=3.57627868652e-07\u001b[0m\n",
      "\u001b[34m[05/13/2021 21:15:08 INFO 139817151432512] [CPDecomp] Using line search: error_diff=3.8743019104e-07\u001b[0m\n",
      "\u001b[34m[05/13/2021 21:15:08 INFO 139817151432512] [CPDecomp] Using line search: error_diff=2.98023223877e-08\u001b[0m\n",
      "\u001b[34m[05/13/2021 21:15:08 INFO 139817151432512] [CPDecomp] Using line search: error_diff=8.94069671631e-08\u001b[0m\n",
      "\u001b[34m[05/13/2021 21:15:08 INFO 139817151432512] [CPDecomp] Using line search: error_diff=2.98023223877e-07\u001b[0m\n",
      "\u001b[34m[05/13/2021 21:15:08 INFO 139817151432512] [CPDecomp] Using line search: error_diff=4.76837158203e-07\u001b[0m\n",
      "\u001b[34m[05/13/2021 21:15:08 INFO 139817151432512] [CPDecomp] Using line search: error_diff=8.94069671631e-08\u001b[0m\n",
      "\u001b[34m[05/13/2021 21:15:08 INFO 139817151432512] [CPDecomp] iter=340, error=0.274745702744, var=0.0\u001b[0m\n",
      "\u001b[34m[05/13/2021 21:15:08 INFO 139817151432512] Converged to local minimum in 340 iterations.\u001b[0m\n",
      "\u001b[34m[05/13/2021 21:15:08 INFO 139817151432512] Restart 10/10\u001b[0m\n",
      "\u001b[34m[05/13/2021 21:15:08 INFO 139817151432512] [CPDecomp] Starting CPDecomp...\u001b[0m\n",
      "\u001b[34m[05/13/2021 21:15:08 INFO 139817151432512] [CPDecomp] Configuration: num_qr_iterations=5, line_search=True, relaxation_factor=scaled\u001b[0m\n",
      "\u001b[34m[05/13/2021 21:15:08 INFO 139817151432512] [CPDecomp] Using random initialization.\u001b[0m\n",
      "\u001b[34m[05/13/2021 21:15:08 INFO 139817151432512] [CPDecomp] Using line search: error_diff=0.000394523143768\u001b[0m\n",
      "\u001b[34m[05/13/2021 21:15:08 INFO 139817151432512] [CPDecomp] Using line search: error_diff=2.08616256714e-06\u001b[0m\n",
      "\u001b[34m[05/13/2021 21:15:08 INFO 139817151432512] [CPDecomp] Using line search: error_diff=7.34925270081e-05\u001b[0m\n",
      "\u001b[34m[05/13/2021 21:15:08 INFO 139817151432512] [CPDecomp] Using line search: error_diff=6.83069229126e-05\u001b[0m\n",
      "\u001b[34m[05/13/2021 21:15:08 INFO 139817151432512] [CPDecomp] Using line search: error_diff=5.4657459259e-05\u001b[0m\n",
      "\u001b[34m[05/13/2021 21:15:08 INFO 139817151432512] [CPDecomp] Using line search: error_diff=3.96370887756e-05\u001b[0m\n",
      "\u001b[34m[05/13/2021 21:15:08 INFO 139817151432512] [CPDecomp] Using line search: error_diff=2.47359275818e-05\u001b[0m\n",
      "\u001b[34m[05/13/2021 21:15:08 INFO 139817151432512] [CPDecomp] Using line search: error_diff=8.13603401184e-06\u001b[0m\n",
      "\u001b[34m[05/13/2021 21:15:08 INFO 139817151432512] [CPDecomp] Using line search: error_diff=2.70903110504e-05\u001b[0m\n",
      "\u001b[34m[05/13/2021 21:15:08 INFO 139817151432512] [CPDecomp] Using line search: error_diff=1.32024288177e-05\u001b[0m\n",
      "\u001b[34m[05/13/2021 21:15:08 INFO 139817151432512] [CPDecomp] Using line search: error_diff=2.11298465729e-05\u001b[0m\n",
      "\u001b[34m[05/13/2021 21:15:08 INFO 139817151432512] [CPDecomp] Using line search: error_diff=8.70227813721e-06\u001b[0m\n",
      "\u001b[34m[05/13/2021 21:15:08 INFO 139817151432512] [CPDecomp] Using line search: error_diff=1.46329402924e-05\u001b[0m\n",
      "\u001b[34m[05/13/2021 21:15:08 INFO 139817151432512] [CPDecomp] Using line search: error_diff=8.64267349243e-07\u001b[0m\n",
      "\u001b[34m[05/13/2021 21:15:08 INFO 139817151432512] [CPDecomp] Using line search: error_diff=7.77840614319e-06\u001b[0m\n",
      "\u001b[34m[05/13/2021 21:15:08 INFO 139817151432512] [CPDecomp] Using line search: error_diff=1.0222196579e-05\u001b[0m\n",
      "\u001b[34m[05/13/2021 21:15:08 INFO 139817151432512] [CPDecomp] Using line search: error_diff=1.04904174805e-05\u001b[0m\n",
      "\u001b[34m[05/13/2021 21:15:08 INFO 139817151432512] [CPDecomp] Using line search: error_diff=1.16229057312e-06\u001b[0m\n",
      "\u001b[34m[05/13/2021 21:15:08 INFO 139817151432512] [CPDecomp] Using line search: error_diff=1.66893005371e-06\u001b[0m\n",
      "\u001b[34m[05/13/2021 21:15:08 INFO 139817151432512] [CPDecomp] Using line search: error_diff=3.8743019104e-07\u001b[0m\n",
      "\u001b[34m[05/13/2021 21:15:08 INFO 139817151432512] [CPDecomp] Using line search: error_diff=6.52670860291e-06\u001b[0m\n",
      "\u001b[34m[05/13/2021 21:15:08 INFO 139817151432512] [CPDecomp] Using line search: error_diff=5.69224357605e-06\u001b[0m\n",
      "\u001b[34m[05/13/2021 21:15:09 INFO 139817151432512] [CPDecomp] Using line search: error_diff=5.0961971283e-06\u001b[0m\n",
      "\u001b[34m[05/13/2021 21:15:09 INFO 139817151432512] [CPDecomp] Using line search: error_diff=4.61935997009e-06\u001b[0m\n",
      "\u001b[34m[05/13/2021 21:15:09 INFO 139817151432512] [CPDecomp] Using line search: error_diff=4.1127204895e-06\u001b[0m\n",
      "\u001b[34m[05/13/2021 21:15:09 INFO 139817151432512] [CPDecomp] Using line search: error_diff=3.24845314026e-06\u001b[0m\n",
      "\u001b[34m[05/13/2021 21:15:09 INFO 139817151432512] [CPDecomp] Using line search: error_diff=1.63912773132e-06\u001b[0m\n",
      "\u001b[34m[05/13/2021 21:15:09 INFO 139817151432512] [CPDecomp] Using line search: error_diff=3.51667404175e-06\u001b[0m\n",
      "\u001b[34m[05/13/2021 21:15:09 INFO 139817151432512] [CPDecomp] Using line search: error_diff=2.11596488953e-06\u001b[0m\n",
      "\u001b[34m[05/13/2021 21:15:09 INFO 139817151432512] [CPDecomp] Using line search: error_diff=4.47034835815e-07\u001b[0m\n",
      "\u001b[34m[05/13/2021 21:15:09 INFO 139817151432512] [CPDecomp] Using line search: error_diff=3.18884849548e-06\u001b[0m\n",
      "\u001b[34m[05/13/2021 21:15:09 INFO 139817151432512] [CPDecomp] Using line search: error_diff=2.56299972534e-06\u001b[0m\n",
      "\u001b[34m[05/13/2021 21:15:09 INFO 139817151432512] [CPDecomp] Using line search: error_diff=1.34110450745e-06\u001b[0m\n",
      "\u001b[34m[05/13/2021 21:15:09 INFO 139817151432512] [CPDecomp] Using line search: error_diff=2.14576721191e-06\u001b[0m\n",
      "\u001b[34m[05/13/2021 21:15:09 INFO 139817151432512] [CPDecomp] Using line search: error_diff=4.47034835815e-07\u001b[0m\n",
      "\u001b[34m[05/13/2021 21:15:09 INFO 139817151432512] [CPDecomp] Using line search: error_diff=1.9371509552e-06\u001b[0m\n",
      "\u001b[34m[05/13/2021 21:15:09 INFO 139817151432512] [CPDecomp] Using line search: error_diff=1.04308128357e-06\u001b[0m\n",
      "\u001b[34m[05/13/2021 21:15:09 INFO 139817151432512] [CPDecomp] Using line search: error_diff=2.14576721191e-06\u001b[0m\n",
      "\u001b[34m[05/13/2021 21:15:09 INFO 139817151432512] [CPDecomp] Using line search: error_diff=1.13248825073e-06\u001b[0m\n",
      "\u001b[34m[05/13/2021 21:15:09 INFO 139817151432512] [CPDecomp] Using line search: error_diff=1.37090682983e-06\u001b[0m\n",
      "\u001b[34m[05/13/2021 21:15:09 INFO 139817151432512] [CPDecomp] Using line search: error_diff=1.78813934326e-06\u001b[0m\n",
      "\u001b[34m[05/13/2021 21:15:09 INFO 139817151432512] [CPDecomp] Using line search: error_diff=1.07288360596e-06\u001b[0m\n",
      "\u001b[34m[05/13/2021 21:15:09 INFO 139817151432512] [CPDecomp] Using line search: error_diff=1.6987323761e-06\u001b[0m\n",
      "\u001b[34m[05/13/2021 21:15:09 INFO 139817151432512] [CPDecomp] Using line search: error_diff=8.64267349243e-07\u001b[0m\n",
      "\u001b[34m[05/13/2021 21:15:09 INFO 139817151432512] [CPDecomp] Using line search: error_diff=9.83476638794e-07\u001b[0m\n",
      "\u001b[34m[05/13/2021 21:15:09 INFO 139817151432512] [CPDecomp] Using line search: error_diff=1.2218952179e-06\u001b[0m\n",
      "\u001b[34m[05/13/2021 21:15:09 INFO 139817151432512] [CPDecomp] Using line search: error_diff=2.08616256714e-07\u001b[0m\n",
      "\u001b[34m[05/13/2021 21:15:09 INFO 139817151432512] [CPDecomp] Using line search: error_diff=1.01327896118e-06\u001b[0m\n",
      "\u001b[34m[05/13/2021 21:15:09 INFO 139817151432512] [CPDecomp] Using line search: error_diff=1.13248825073e-06\u001b[0m\n",
      "\u001b[34m[05/13/2021 21:15:09 INFO 139817151432512] [CPDecomp] Using line search: error_diff=1.16229057312e-06\u001b[0m\n",
      "\u001b[34m[05/13/2021 21:15:09 INFO 139817151432512] [CPDecomp] Using line search: error_diff=8.94069671631e-08\u001b[0m\n",
      "\u001b[34m[05/13/2021 21:15:09 INFO 139817151432512] [CPDecomp] Using line search: error_diff=7.15255737305e-07\u001b[0m\n",
      "\u001b[34m[05/13/2021 21:15:09 INFO 139817151432512] [CPDecomp] Using line search: error_diff=9.53674316406e-07\u001b[0m\n",
      "\u001b[34m[05/13/2021 21:15:09 INFO 139817151432512] [CPDecomp] Using line search: error_diff=9.53674316406e-07\u001b[0m\n",
      "\u001b[34m[05/13/2021 21:15:09 INFO 139817151432512] [CPDecomp] Using line search: error_diff=9.53674316406e-07\u001b[0m\n",
      "\u001b[34m[05/13/2021 21:15:09 INFO 139817151432512] [CPDecomp] Using line search: error_diff=9.23871994019e-07\u001b[0m\n",
      "\u001b[34m[05/13/2021 21:15:09 INFO 139817151432512] [CPDecomp] Using line search: error_diff=3.57627868652e-07\u001b[0m\n",
      "\u001b[34m[05/13/2021 21:15:09 INFO 139817151432512] [CPDecomp] Using line search: error_diff=6.85453414917e-07\u001b[0m\n",
      "\u001b[34m[05/13/2021 21:15:09 INFO 139817151432512] [CPDecomp] Using line search: error_diff=4.47034835815e-07\u001b[0m\n",
      "\u001b[34m[05/13/2021 21:15:09 INFO 139817151432512] [CPDecomp] Using line search: error_diff=4.47034835815e-07\u001b[0m\n",
      "\u001b[34m[05/13/2021 21:15:09 INFO 139817151432512] [CPDecomp] Using line search: error_diff=6.55651092529e-07\u001b[0m\n",
      "\u001b[34m[05/13/2021 21:15:09 INFO 139817151432512] [CPDecomp] Using line search: error_diff=6.85453414917e-07\u001b[0m\n",
      "\u001b[34m[05/13/2021 21:15:10 INFO 139817151432512] [CPDecomp] Using line search: error_diff=5.36441802979e-07\u001b[0m\n",
      "\u001b[34m[05/13/2021 21:15:10 INFO 139817151432512] [CPDecomp] Using line search: error_diff=5.96046447754e-07\u001b[0m\n",
      "\u001b[34m[05/13/2021 21:15:10 INFO 139817151432512] [CPDecomp] Using line search: error_diff=5.66244125366e-07\u001b[0m\n",
      "\u001b[34m[05/13/2021 21:15:10 INFO 139817151432512] [CPDecomp] Using line search: error_diff=5.36441802979e-07\u001b[0m\n",
      "\u001b[34m[05/13/2021 21:15:10 INFO 139817151432512] [CPDecomp] Using line search: error_diff=5.36441802979e-07\u001b[0m\n",
      "\u001b[34m[05/13/2021 21:15:10 INFO 139817151432512] [CPDecomp] Using line search: error_diff=3.57627868652e-07\u001b[0m\n",
      "\u001b[34m[05/13/2021 21:15:10 INFO 139817151432512] [CPDecomp] Using line search: error_diff=3.8743019104e-07\u001b[0m\n",
      "\u001b[34m[05/13/2021 21:15:10 INFO 139817151432512] [CPDecomp] Using line search: error_diff=2.98023223877e-07\u001b[0m\n",
      "\u001b[34m[05/13/2021 21:15:10 INFO 139817151432512] [CPDecomp] Using line search: error_diff=3.57627868652e-07\u001b[0m\n",
      "\u001b[34m[05/13/2021 21:15:10 INFO 139817151432512] [CPDecomp] Using line search: error_diff=1.19209289551e-07\u001b[0m\n",
      "\u001b[34m[05/13/2021 21:15:10 INFO 139817151432512] [CPDecomp] Using line search: error_diff=1.19209289551e-07\u001b[0m\n",
      "\u001b[34m[05/13/2021 21:15:10 INFO 139817151432512] [CPDecomp] Using line search: error_diff=1.49011611938e-07\u001b[0m\n",
      "\u001b[34m[05/13/2021 21:15:10 INFO 139817151432512] [CPDecomp] Using line search: error_diff=3.57627868652e-07\u001b[0m\n",
      "\u001b[34m[05/13/2021 21:15:10 INFO 139817151432512] [CPDecomp] Using line search: error_diff=8.94069671631e-08\u001b[0m\n",
      "\u001b[34m[05/13/2021 21:15:10 INFO 139817151432512] [CPDecomp] Using line search: error_diff=8.94069671631e-08\u001b[0m\n",
      "\u001b[34m[05/13/2021 21:15:10 INFO 139817151432512] [CPDecomp] Using line search: error_diff=5.96046447754e-08\u001b[0m\n",
      "\u001b[34m[05/13/2021 21:15:10 INFO 139817151432512] [CPDecomp] Using line search: error_diff=5.96046447754e-08\u001b[0m\n",
      "\u001b[34m[05/13/2021 21:15:10 INFO 139817151432512] [CPDecomp] Using line search: error_diff=2.38418579102e-07\u001b[0m\n",
      "\u001b[34m[05/13/2021 21:15:10 INFO 139817151432512] [CPDecomp] Using line search: error_diff=2.08616256714e-07\u001b[0m\n",
      "\u001b[34m[05/13/2021 21:15:10 INFO 139817151432512] [CPDecomp] Using line search: error_diff=1.19209289551e-07\u001b[0m\n",
      "\u001b[34m[05/13/2021 21:15:10 INFO 139817151432512] [CPDecomp] Using line search: error_diff=8.94069671631e-08\u001b[0m\n",
      "\u001b[34m[05/13/2021 21:15:10 INFO 139817151432512] [CPDecomp] Using line search: error_diff=2.68220901489e-07\u001b[0m\n",
      "\u001b[34m[05/13/2021 21:15:10 INFO 139817151432512] [CPDecomp] Using line search: error_diff=1.78813934326e-07\u001b[0m\n",
      "\u001b[34m[05/13/2021 21:15:10 INFO 139817151432512] [CPDecomp] Using line search: error_diff=5.96046447754e-08\u001b[0m\n",
      "\u001b[34m[05/13/2021 21:15:10 INFO 139817151432512] [CPDecomp] iter=408, error=0.274738132954, var=0.0\u001b[0m\n",
      "\u001b[34m[05/13/2021 21:15:10 INFO 139817151432512] Converged to local minimum in 408 iterations.\u001b[0m\n",
      "\u001b[34m[05/13/2021 21:15:10 INFO 139817151432512] Best reconstruction error: 0.27473667\u001b[0m\n",
      "\u001b[34m#metrics {\"Metrics\": {\"CPDecomposition.time\": {\"count\": 1, \"max\": 21114.39299583435, \"sum\": 21114.39299583435, \"min\": 21114.39299583435}}, \"EndTime\": 1620940510.77523, \"Dimensions\": {\"Host\": \"algo-1\", \"Operation\": \"training\", \"Algorithm\": \"LDA\"}, \"StartTime\": 1620940489.660802}\n",
      "\u001b[0m\n",
      "\u001b[34m#metrics {\"Metrics\": {\"LDA.update.time\": {\"count\": 1, \"max\": 21280.158042907715, \"sum\": 21280.158042907715, \"min\": 21280.158042907715}, \"to_numpy.time\": {\"count\": 4, \"max\": 0.057220458984375, \"sum\": 0.1804828643798828, \"min\": 0.03409385681152344}}, \"EndTime\": 1620940510.777148, \"Dimensions\": {\"Host\": \"algo-1\", \"Operation\": \"training\", \"Algorithm\": \"LDA\"}, \"StartTime\": 1620940510.775295}\n",
      "\u001b[0m\n",
      "\u001b[34m[05/13/2021 21:15:10 INFO 139817151432512] #progress_metric: host=algo-1, completed 100 % of epochs\u001b[0m\n",
      "\u001b[34m#metrics {\"Metrics\": {\"Max Batches Seen Between Resets\": {\"count\": 1, \"max\": 1, \"sum\": 1.0, \"min\": 1}, \"Number of Batches Since Last Reset\": {\"count\": 1, \"max\": 1, \"sum\": 1.0, \"min\": 1}, \"Number of Records Since Last Reset\": {\"count\": 1, \"max\": 5400, \"sum\": 5400.0, \"min\": 5400}, \"Total Batches Seen\": {\"count\": 1, \"max\": 1, \"sum\": 1.0, \"min\": 1}, \"Total Records Seen\": {\"count\": 1, \"max\": 5400, \"sum\": 5400.0, \"min\": 5400}, \"Max Records Seen Between Resets\": {\"count\": 1, \"max\": 5400, \"sum\": 5400.0, \"min\": 5400}, \"Reset Count\": {\"count\": 1, \"max\": 1, \"sum\": 1.0, \"min\": 1}}, \"EndTime\": 1620940510.777474, \"Dimensions\": {\"Host\": \"algo-1\", \"Meta\": \"training_data_iter\", \"Operation\": \"training\", \"Algorithm\": \"LDA\", \"epoch\": 0}, \"StartTime\": 1620940510.777417}\n",
      "\u001b[0m\n",
      "\u001b[34m[05/13/2021 21:15:10 INFO 139817151432512] #throughput_metric: host=algo-1, train throughput=253.75254149 records/second\u001b[0m\n",
      "\u001b[34m[05/13/2021 21:15:10 WARNING 139817151432512] wait_for_all_workers will not sync workers since the kv store is not running distributed\u001b[0m\n",
      "\u001b[34m#metrics {\"Metrics\": {\"LDA.finalize.time\": {\"count\": 1, \"max\": 0.026941299438476562, \"sum\": 0.026941299438476562, \"min\": 0.026941299438476562}}, \"EndTime\": 1620940510.777835, \"Dimensions\": {\"Host\": \"algo-1\", \"Operation\": \"training\", \"Algorithm\": \"LDA\"}, \"StartTime\": 1620940510.777206}\n",
      "\u001b[0m\n",
      "\u001b[34m[05/13/2021 21:15:10 INFO 139817151432512] Serializing LDA model to /opt/ml/model/model_algo-1\u001b[0m\n",
      "\u001b[34m#metrics {\"Metrics\": {\"LDAModel.serialize.time\": {\"count\": 1, \"max\": 0.3600120544433594, \"sum\": 0.3600120544433594, \"min\": 0.3600120544433594}}, \"EndTime\": 1620940510.7783, \"Dimensions\": {\"Host\": \"algo-1\", \"Operation\": \"training\", \"Algorithm\": \"LDA\"}, \"StartTime\": 1620940510.7779}\n",
      "\u001b[0m\n",
      "\u001b[34m[05/13/2021 21:15:10 INFO 139817151432512] Test data is not provided.\u001b[0m\n",
      "\u001b[34m#metrics {\"Metrics\": {\"totaltime\": {\"count\": 1, \"max\": 21372.41005897522, \"sum\": 21372.41005897522, \"min\": 21372.41005897522}, \"setuptime\": {\"count\": 1, \"max\": 57.630062103271484, \"sum\": 57.630062103271484, \"min\": 57.630062103271484}}, \"EndTime\": 1620940510.779922, \"Dimensions\": {\"Host\": \"algo-1\", \"Operation\": \"training\", \"Algorithm\": \"LDA\"}, \"StartTime\": 1620940510.778352}\n",
      "\u001b[0m\n",
      "\n",
      "2021-05-13 21:15:19 Uploading - Uploading generated training model\n",
      "2021-05-13 21:15:19 Completed - Training job completed\n",
      "Training seconds: 114\n",
      "Billable seconds: 114\n"
     ]
    }
   ],
   "source": [
    "session = sagemaker.Session()\n",
    "\n",
    "# specify general training job information\n",
    "lda = sagemaker.estimator.Estimator(\n",
    "    container,\n",
    "    role,\n",
    "    output_path=\"s3://{}/{}/output\".format(bucket, prefix),\n",
    "    instance_count=1,\n",
    "    instance_type=\"ml.c4.2xlarge\",\n",
    "    sagemaker_session=session,\n",
    ")\n",
    "\n",
    "# set algorithm-specific hyperparameters\n",
    "lda.set_hyperparameters(\n",
    "    num_topics=num_topics,\n",
    "    feature_dim=vocabulary_size,\n",
    "    mini_batch_size=num_documents_training,\n",
    "    alpha0=1.0,\n",
    ")\n",
    "\n",
    "# run the training job on input data stored in S3\n",
    "lda.fit({\"train\": s3_train_data})"
   ]
  },
  {
   "cell_type": "markdown",
   "metadata": {},
   "source": [
    "If you see the message\n",
    "\n",
    "> `===== Job Complete =====`\n",
    "\n",
    "at the bottom of the output logs then that means training sucessfully completed and the output LDA model was stored in the specified output path. You can also view information about and the status of a training job using the AWS SageMaker console. Just click on the \"Jobs\" tab and select training job matching the training job name, below:"
   ]
  },
  {
   "cell_type": "code",
   "execution_count": 33,
   "metadata": {},
   "outputs": [
    {
     "name": "stdout",
     "output_type": "stream",
     "text": [
      "Training job name: lda-2021-05-13-21-10-59-699\n"
     ]
    }
   ],
   "source": [
    "print(\"Training job name: {}\".format(lda.latest_training_job.job_name))"
   ]
  },
  {
   "cell_type": "markdown",
   "metadata": {},
   "source": [
    "## Inspecting the Trained Model\n",
    "\n",
    "We know the LDA parameters $(\\alpha, \\beta)$ used to generate the example data. How does the learned model compare the known one? In this section we will download the model data and measure how well SageMaker LDA did in learning the model.\n",
    "\n",
    "First, we download the model data. SageMaker will output the model in \n",
    "\n",
    "> `s3://<bucket>/<prefix>/output/<training job name>/output/model.tar.gz`.\n",
    "\n",
    "SageMaker LDA stores the model as a two-tuple $(\\alpha, \\beta)$ where each LDA parameter is an MXNet NDArray."
   ]
  },
  {
   "cell_type": "code",
   "execution_count": 34,
   "metadata": {},
   "outputs": [
    {
     "name": "stdout",
     "output_type": "stream",
     "text": [
      "Downloaded and extracted model tarball: sagemaker/DEMO-lda-science/output/lda-2021-05-13-21-10-59-699/output/model.tar.gz\n",
      "Found model file: model_algo-1\n",
      "\n",
      "Learned alpha.shape = (10,)\n",
      "Learned beta.shape = (10, 25)\n"
     ]
    }
   ],
   "source": [
    "# download and extract the model file from S3\n",
    "job_name = lda.latest_training_job.job_name\n",
    "model_fname = \"model.tar.gz\"\n",
    "model_object = os.path.join(prefix, \"output\", job_name, \"output\", model_fname)\n",
    "boto3.Session().resource(\"s3\").Bucket(bucket).Object(model_object).download_file(fname)\n",
    "with tarfile.open(fname) as tar:\n",
    "    tar.extractall()\n",
    "print(\"Downloaded and extracted model tarball: {}\".format(model_object))\n",
    "\n",
    "# obtain the model file\n",
    "model_list = [fname for fname in os.listdir(\".\") if fname.startswith(\"model_\")]\n",
    "model_fname = model_list[0]\n",
    "print(\"Found model file: {}\".format(model_fname))\n",
    "\n",
    "# get the model from the model file and store in Numpy arrays\n",
    "alpha, beta = mx.ndarray.load(model_fname)\n",
    "learned_alpha_permuted = alpha.asnumpy()\n",
    "learned_beta_permuted = beta.asnumpy()\n",
    "\n",
    "print(\"\\nLearned alpha.shape = {}\".format(learned_alpha_permuted.shape))\n",
    "print(\"Learned beta.shape = {}\".format(learned_beta_permuted.shape))"
   ]
  },
  {
   "cell_type": "markdown",
   "metadata": {},
   "source": [
    "Presumably, SageMaker LDA has found the topics most likely used to generate the training corpus. However, even if this is case the topics would not be returned in any particular order. Therefore, we match the found topics to the known topics closest in L1-norm in order to find the topic permutation.\n",
    "\n",
    "Note that we will use the `permutation` later during inference to match known topic mixtures to found topic mixtures.\n",
    "\n",
    "Below plot the known topic-word probability distribution, $\\beta \\in \\mathbb{R}^{K \\times V}$ next to the distributions found by SageMaker LDA as well as the L1-norm errors between the two."
   ]
  },
  {
   "cell_type": "code",
   "execution_count": 35,
   "metadata": {},
   "outputs": [
    {
     "name": "stdout",
     "output_type": "stream",
     "text": [
      "L1-error (beta) = 0.17260464746380463\n",
      "L1-error (alpha) = 0.15227436721324922\n"
     ]
    },
    {
     "data": {
      "image/png": "[encoded data removed]",
      "text/plain": [
       "<Figure size 1600x480 with 21 Axes>"
      ]
     },
     "metadata": {
      "needs_background": "light"
     },
     "output_type": "display_data"
    }
   ],
   "source": [
    "permutation, learned_beta = match_estimated_topics(known_beta, learned_beta_permuted)\n",
    "learned_alpha = learned_alpha_permuted[permutation]\n",
    "\n",
    "fig = plot_lda(np.vstack([known_beta, learned_beta]), 2, 10)\n",
    "fig.set_dpi(160)\n",
    "fig.suptitle(\"Known vs. Found Topic-Word Probability Distributions\")\n",
    "fig.set_figheight(3)\n",
    "\n",
    "beta_error = np.linalg.norm(known_beta - learned_beta, 1)\n",
    "alpha_error = np.linalg.norm(known_alpha - learned_alpha, 1)\n",
    "print(\"L1-error (beta) = {}\".format(beta_error))\n",
    "print(\"L1-error (alpha) = {}\".format(alpha_error))"
   ]
  },
  {
   "cell_type": "markdown",
   "metadata": {},
   "source": [
    "Not bad!\n",
    "\n",
    "In the eyeball-norm the topics match quite well. In fact, the topic-word distribution error is approximately 2%."
   ]
  },
  {
   "cell_type": "markdown",
   "metadata": {},
   "source": [
    "# Inference\n",
    "\n",
    "***\n",
    "\n",
    "A trained model does nothing on its own. We now want to use the model we computed to perform inference on data. For this example, that means predicting the topic mixture representing a given document.\n",
    "\n",
    "We create an inference endpoint using the SageMaker Python SDK `deploy()` function from the job we defined above. We specify the instance type where inference is computed as well as an initial number of instances to spin up."
   ]
  },
  {
   "cell_type": "markdown",
   "metadata": {},
   "source": [
    "With this realtime endpoint at our fingertips we can finally perform inference on our training and test data.\n",
    "\n",
    "We can pass a variety of data formats to our inference endpoint. In this example we will demonstrate passing CSV-formatted data. Other available formats are JSON-formatted, JSON-sparse-formatter, and RecordIO Protobuf. We make use of the SageMaker Python SDK utilities `CSVSerializer` and `JSONDeserializer` when configuring the inference endpoint."
   ]
  },
  {
   "cell_type": "code",
   "execution_count": 44,
   "metadata": {},
   "outputs": [
    {
     "name": "stdout",
     "output_type": "stream",
     "text": [
      "---------------!"
     ]
    }
   ],
   "source": [
    "lda_inference = lda.deploy(\n",
    "    initial_instance_count=1,\n",
    "    instance_type=\"ml.m4.xlarge\", # LDA inference may work better at scale on ml.c4 instances\n",
    "    serializer=CSVSerializer(),\n",
    "    deserializer=JSONDeserializer(),\n",
    ")"
   ]
  },
  {
   "cell_type": "markdown",
   "metadata": {
    "jupyter": {
     "source_hidden": true
    }
   },
   "source": [
    "Congratulations! You now have a functioning SageMaker LDA inference endpoint. You can confirm the endpoint configuration and status by navigating to the \"Endpoints\" tab in the AWS SageMaker console and selecting the endpoint matching the endpoint name, below: "
   ]
  },
  {
   "cell_type": "code",
   "execution_count": 48,
   "metadata": {},
   "outputs": [
    {
     "name": "stdout",
     "output_type": "stream",
     "text": [
      "Endpoint name: lda-2021-05-13-21-21-19-026\n"
     ]
    }
   ],
   "source": [
    "print(\"Endpoint name: {}\".format(lda_inference.endpoint_name))"
   ]
  },
  {
   "cell_type": "markdown",
   "metadata": {},
   "source": [
    "We pass some test documents to the inference endpoint. Note that the serializer and deserializer will atuomatically take care of the datatype conversion."
   ]
  },
  {
   "cell_type": "code",
   "execution_count": 50,
   "metadata": {},
   "outputs": [
    {
     "name": "stdout",
     "output_type": "stream",
     "text": [
      "{'predictions': [{'topic_mixture': [0.0, 0.09566821157932281, 0.0, 0.9043317437171936, 0.0, 0.0, 0.0, 0.0, 0.0, 0.0]}, {'topic_mixture': [0.29417216777801514, 0.0, 0.0, 0.0, 0.0, 0.0, 0.0, 0.21673372387886047, 0.2874864637851715, 0.2016075849533081]}, {'topic_mixture': [1.0, 0.0, 0.0, 0.0, 0.0, 0.0, 0.0, 0.0, 0.0, 0.0]}, {'topic_mixture': [0.062422290444374084, 0.08510737121105194, 0.0, 0.0, 0.0, 0.0, 0.0, 0.852470338344574, 0.0, 0.0]}, {'topic_mixture': [0.0, 0.0, 0.0, 0.0, 0.0, 1.0, 0.0, 0.0, 0.0, 0.0]}, {'topic_mixture': [0.0, 0.6618881225585938, 0.0, 0.12934377789497375, 0.0, 0.0, 0.0, 0.20876812934875488, 0.0, 0.0]}, {'topic_mixture': [0.0, 0.0, 0.0, 0.0, 0.0, 0.0, 0.0, 0.9051477909088135, 0.09485216438770294, 0.0]}, {'topic_mixture': [0.0, 0.0, 0.0, 0.0, 0.0, 0.028457581996917725, 0.4587487280368805, 0.0, 0.512793779373169, 0.0]}, {'topic_mixture': [0.07738880813121796, 0.09227049350738525, 0.0, 0.0, 0.0, 0.0, 0.0, 0.0, 0.8122768402099609, 0.018063843250274658]}, {'topic_mixture': [0.03519381210207939, 0.0, 0.58840012550354, 0.27408117055892944, 0.0, 0.0, 0.0, 0.0, 0.0, 0.1023249551653862]}, {'topic_mixture': [0.0, 0.0, 0.0, 0.0, 0.6814229488372803, 0.0, 0.31857699155807495, 0.0, 0.0, 0.0]}, {'topic_mixture': [0.1420367807149887, 0.0, 0.0, 0.04759185016155243, 0.16579417884349823, 0.16040951013565063, 0.48416775465011597, 0.0, 0.0, 0.0]}]}\n"
     ]
    }
   ],
   "source": [
    "results = lda_inference.predict(documents_test[:12])\n",
    "\n",
    "print(results)"
   ]
  },
  {
   "cell_type": "markdown",
   "metadata": {},
   "source": [
    "It may be hard to see but the output format of SageMaker LDA inference endpoint is a Python dictionary with the following format.\n",
    "\n",
    "```\n",
    "{\n",
    "  'predictions': [\n",
    "    {'topic_mixture': [ ... ] },\n",
    "    {'topic_mixture': [ ... ] },\n",
    "    {'topic_mixture': [ ... ] },\n",
    "    ...\n",
    "  ]\n",
    "}\n",
    "```\n",
    "\n",
    "We extract the topic mixtures, themselves, corresponding to each of the input documents."
   ]
  },
  {
   "cell_type": "code",
   "execution_count": 51,
   "metadata": {},
   "outputs": [
    {
     "name": "stdout",
     "output_type": "stream",
     "text": [
      "Inferred topic mixtures (permuted):\n",
      "\n",
      "[[0.    0.096 0.    0.904 0.    0.    0.    0.    0.    0.   ]\n",
      " [0.294 0.    0.    0.    0.    0.    0.    0.217 0.287 0.202]\n",
      " [1.    0.    0.    0.    0.    0.    0.    0.    0.    0.   ]\n",
      " [0.062 0.085 0.    0.    0.    0.    0.    0.852 0.    0.   ]\n",
      " [0.    0.    0.    0.    0.    1.    0.    0.    0.    0.   ]\n",
      " [0.    0.662 0.    0.129 0.    0.    0.    0.209 0.    0.   ]\n",
      " [0.    0.    0.    0.    0.    0.    0.    0.905 0.095 0.   ]\n",
      " [0.    0.    0.    0.    0.    0.028 0.459 0.    0.513 0.   ]\n",
      " [0.077 0.092 0.    0.    0.    0.    0.    0.    0.812 0.018]\n",
      " [0.035 0.    0.588 0.274 0.    0.    0.    0.    0.    0.102]\n",
      " [0.    0.    0.    0.    0.681 0.    0.319 0.    0.    0.   ]\n",
      " [0.142 0.    0.    0.048 0.166 0.16  0.484 0.    0.    0.   ]]\n"
     ]
    }
   ],
   "source": [
    "inferred_topic_mixtures_permuted = np.array(\n",
    "    [prediction[\"topic_mixture\"] for prediction in results[\"predictions\"]]\n",
    ")\n",
    "\n",
    "print(\"Inferred topic mixtures (permuted):\\n\\n{}\".format(inferred_topic_mixtures_permuted))"
   ]
  },
  {
   "cell_type": "markdown",
   "metadata": {},
   "source": [
    "## Inference Analysis\n",
    "\n",
    "Recall that although SageMaker LDA successfully learned the underlying topics which generated the sample data the topics were in a different order. Before we compare to known topic mixtures $\\theta \\in \\mathbb{R}^K$ we should also permute the inferred topic mixtures\n"
   ]
  },
  {
   "cell_type": "code",
   "execution_count": 52,
   "metadata": {},
   "outputs": [
    {
     "name": "stdout",
     "output_type": "stream",
     "text": [
      "Inferred topic mixtures:\n",
      "\n",
      "[[0.    0.    0.    0.    0.    0.904 0.    0.096 0.    0.   ]\n",
      " [0.    0.202 0.    0.    0.217 0.    0.    0.    0.294 0.287]\n",
      " [0.    0.    0.    0.    0.    0.    0.    0.    1.    0.   ]\n",
      " [0.    0.    0.    0.    0.852 0.    0.    0.085 0.062 0.   ]\n",
      " [0.    0.    1.    0.    0.    0.    0.    0.    0.    0.   ]\n",
      " [0.    0.    0.    0.    0.209 0.129 0.    0.662 0.    0.   ]\n",
      " [0.    0.    0.    0.    0.905 0.    0.    0.    0.    0.095]\n",
      " [0.    0.    0.028 0.    0.    0.    0.459 0.    0.    0.513]\n",
      " [0.    0.018 0.    0.    0.    0.    0.    0.092 0.077 0.812]\n",
      " [0.    0.102 0.    0.588 0.    0.274 0.    0.    0.035 0.   ]\n",
      " [0.681 0.    0.    0.    0.    0.    0.319 0.    0.    0.   ]\n",
      " [0.166 0.    0.16  0.    0.    0.048 0.484 0.    0.142 0.   ]]\n"
     ]
    }
   ],
   "source": [
    "inferred_topic_mixtures = inferred_topic_mixtures_permuted[:, permutation]\n",
    "\n",
    "print(\"Inferred topic mixtures:\\n\\n{}\".format(inferred_topic_mixtures))"
   ]
  },
  {
   "cell_type": "markdown",
   "metadata": {},
   "source": [
    "Let's plot these topic mixture probability distributions alongside the known ones."
   ]
  },
  {
   "cell_type": "code",
   "execution_count": 53,
   "metadata": {},
   "outputs": [
    {
     "data": {
      "image/png": "[encoded data removed]",
      "text/plain": [
       "<Figure size 960x640 with 13 Axes>"
      ]
     },
     "metadata": {
      "needs_background": "light"
     },
     "output_type": "display_data"
    }
   ],
   "source": [
    "%matplotlib inline\n",
    "\n",
    "# create array of bar plots\n",
    "width = 0.4\n",
    "x = np.arange(10)\n",
    "\n",
    "nrows, ncols = 3, 4\n",
    "fig, ax = plt.subplots(nrows, ncols, sharey=True)\n",
    "for i in range(nrows):\n",
    "    for j in range(ncols):\n",
    "        index = i * ncols + j\n",
    "        ax[i, j].bar(x, topic_mixtures_test[index], width, color=\"C0\")\n",
    "        ax[i, j].bar(x + width, inferred_topic_mixtures[index], width, color=\"C1\")\n",
    "        ax[i, j].set_xticks(range(num_topics))\n",
    "        ax[i, j].set_yticks(np.linspace(0, 1, 5))\n",
    "        ax[i, j].grid(which=\"major\", axis=\"y\")\n",
    "        ax[i, j].set_ylim([0, 1])\n",
    "        ax[i, j].set_xticklabels([])\n",
    "        if i == (nrows - 1):\n",
    "            ax[i, j].set_xticklabels(range(num_topics), fontsize=7)\n",
    "        if j == 0:\n",
    "            ax[i, j].set_yticklabels([0, \"\", 0.5, \"\", 1.0], fontsize=7)\n",
    "\n",
    "fig.suptitle(\"Known vs. Inferred Topic Mixtures\")\n",
    "ax_super = fig.add_subplot(111, frameon=False)\n",
    "ax_super.tick_params(labelcolor=\"none\", top=\"off\", bottom=\"off\", left=\"off\", right=\"off\")\n",
    "ax_super.grid(False)\n",
    "ax_super.set_xlabel(\"Topic Index\")\n",
    "ax_super.set_ylabel(\"Topic Probability\")\n",
    "fig.set_dpi(160)"
   ]
  },
  {
   "cell_type": "markdown",
   "metadata": {},
   "source": [
    "In the eyeball-norm these look quite comparable.\n",
    "\n",
    "Let's be more scientific about this. Below we compute and plot the distribution of L1-errors from **all** of the test documents. Note that we send a new payload of test documents to the inference endpoint and apply the appropriate permutation to the output."
   ]
  },
  {
   "cell_type": "code",
   "execution_count": 54,
   "metadata": {},
   "outputs": [
    {
     "name": "stdout",
     "output_type": "stream",
     "text": [
      "Invoking endpoint...\n",
      "\n",
      "known_topics_mixtures.shape = (600, 10)\n",
      "inferred_topics_mixtures_test.shape = (600, 10)\n",
      "\n",
      "CPU times: user 14.4 ms, sys: 12 ms, total: 26.4 ms\n",
      "Wall time: 10.2 s\n"
     ]
    }
   ],
   "source": [
    "%%time\n",
    "\n",
    "# create a payload containing all of the test documents and run inference again\n",
    "#\n",
    "# TRY THIS:\n",
    "#   try switching between the test data set and a subset of the training\n",
    "#   data set. It is likely that LDA inference will perform better against\n",
    "#   the training set than the holdout test set.\n",
    "#\n",
    "payload_documents = documents_test  # Example 1\n",
    "known_topic_mixtures = topic_mixtures_test  # Example 1\n",
    "# payload_documents = documents_training[:600];         # Example 2\n",
    "# known_topic_mixtures = topic_mixtures_training[:600]  # Example 2\n",
    "\n",
    "print(\"Invoking endpoint...\\n\")\n",
    "results = lda_inference.predict(payload_documents)\n",
    "\n",
    "inferred_topic_mixtures_permuted = np.array(\n",
    "    [prediction[\"topic_mixture\"] for prediction in results[\"predictions\"]]\n",
    ")\n",
    "inferred_topic_mixtures = inferred_topic_mixtures_permuted[:, permutation]\n",
    "\n",
    "print(\"known_topics_mixtures.shape = {}\".format(known_topic_mixtures.shape))\n",
    "print(\"inferred_topics_mixtures_test.shape = {}\\n\".format(inferred_topic_mixtures.shape))"
   ]
  },
  {
   "cell_type": "code",
   "execution_count": 61,
   "metadata": {},
   "outputs": [
    {
     "data": {
      "image/png": "[encoded data removed]",
      "text/plain": [
       "<Figure size 660x440 with 2 Axes>"
      ]
     },
     "metadata": {
      "needs_background": "light"
     },
     "output_type": "display_data"
    }
   ],
   "source": [
    "%matplotlib inline\n",
    "\n",
    "l1_errors = np.linalg.norm((inferred_topic_mixtures - known_topic_mixtures), 1, axis=1)\n",
    "\n",
    "# plot the error freqency\n",
    "fig, ax_frequency = plt.subplots()\n",
    "bins = np.linspace(0, 1, 40)\n",
    "weights = np.ones_like(l1_errors) / len(l1_errors)\n",
    "freq, bins, _ = ax_frequency.hist(l1_errors, bins=50, weights=weights, color=\"C0\")\n",
    "ax_frequency.set_xlabel(\"L1-Error\")\n",
    "ax_frequency.set_ylabel(\"Frequency\", color=\"C0\")\n",
    "\n",
    "\n",
    "# plot the cumulative error\n",
    "shift = (bins[1] - bins[0]) / 2\n",
    "x = bins[1:] - shift\n",
    "ax_cumulative = ax_frequency.twinx()\n",
    "cumulative = np.cumsum(freq) / sum(freq)\n",
    "ax_cumulative.plot(x, cumulative, marker=\"o\", color=\"C1\")\n",
    "ax_cumulative.set_ylabel(\"Cumulative Frequency\", color=\"C1\")\n",
    "\n",
    "\n",
    "# align grids and show\n",
    "freq_ticks = np.linspace(0, 1.5 * freq.max(), 5)\n",
    "freq_ticklabels = np.round(100 * freq_ticks) / 100\n",
    "ax_frequency.set_yticks(freq_ticks)\n",
    "ax_frequency.set_yticklabels(freq_ticklabels)\n",
    "ax_cumulative.set_yticks(np.linspace(0, 1, 5))\n",
    "ax_cumulative.grid(which=\"major\", axis=\"y\")\n",
    "ax_cumulative.set_ylim((0, 1))\n",
    "\n",
    "\n",
    "fig.suptitle(\"Topic Mixutre L1-Errors\")\n",
    "fig.set_dpi(110)"
   ]
  },
  {
   "cell_type": "markdown",
   "metadata": {},
   "source": [
    "Machine learning algorithms are not perfect and the data above suggests this is true of SageMaker LDA. With more documents and some hyperparameter tuning we can obtain more accurate results against the known topic-mixtures.\n",
    "\n",
    "For now, let's just investigate the documents-topic mixture pairs that seem to do well as well as those that do not. Below we retreive a document and topic mixture corresponding to a small L1-error as well as one with a large L1-error."
   ]
  },
  {
   "cell_type": "code",
   "execution_count": 56,
   "metadata": {},
   "outputs": [],
   "source": [
    "N = 6\n",
    "\n",
    "good_idx = l1_errors < 0.05\n",
    "good_documents = payload_documents[good_idx][:N]\n",
    "good_topic_mixtures = inferred_topic_mixtures[good_idx][:N]\n",
    "\n",
    "poor_idx = l1_errors > 0.3\n",
    "poor_documents = payload_documents[poor_idx][:N]\n",
    "poor_topic_mixtures = inferred_topic_mixtures[poor_idx][:N]"
   ]
  },
  {
   "cell_type": "code",
   "execution_count": 57,
   "metadata": {},
   "outputs": [
    {
     "data": {
      "image/png": "[encoded data removed]",
      "text/plain": [
       "<Figure size 720x480 with 12 Axes>"
      ]
     },
     "metadata": {},
     "output_type": "display_data"
    }
   ],
   "source": [
    "%matplotlib inline\n",
    "\n",
    "fig = plot_lda_topics(good_documents, 2, 3, topic_mixtures=good_topic_mixtures)\n",
    "fig.suptitle(\"Documents With Accurate Inferred Topic-Mixtures\")\n",
    "fig.set_dpi(120)"
   ]
  },
  {
   "cell_type": "code",
   "execution_count": 58,
   "metadata": {},
   "outputs": [
    {
     "data": {
      "image/png": "[encoded data removed]",
      "text/plain": [
       "<Figure size 720x480 with 12 Axes>"
      ]
     },
     "metadata": {},
     "output_type": "display_data"
    }
   ],
   "source": [
    "%matplotlib inline\n",
    "\n",
    "fig = plot_lda_topics(poor_documents, 2, 3, topic_mixtures=poor_topic_mixtures)\n",
    "fig.suptitle(\"Documents With Inaccurate Inferred Topic-Mixtures\")\n",
    "fig.set_dpi(120)"
   ]
  },
  {
   "cell_type": "markdown",
   "metadata": {},
   "source": [
    "In this example set the documents on which inference was not as accurate tend to have a denser topic-mixture. This makes sense when extrapolated to real-world datasets: it can be difficult to nail down which topics are represented in a document when the document uses words from a large subset of the vocabulary."
   ]
  },
  {
   "cell_type": "markdown",
   "metadata": {},
   "source": [
    "## Stop / Close the Endpoint\n",
    "\n",
    "Finally, we should delete the endpoint before we close the notebook.\n",
    "\n",
    "To do so execute the cell below. Alternately, you can navigate to the \"Endpoints\" tab in the SageMaker console, select the endpoint with the name stored in the variable `endpoint_name`, and select \"Delete\" from the \"Actions\" dropdown menu. "
   ]
  },
  {
   "cell_type": "markdown",
   "metadata": {},
   "source": [
    "# Epilogue\n",
    "\n",
    "---\n",
    "\n",
    "In this notebook we,\n",
    "\n",
    "* learned about the LDA model,\n",
    "* generated some example LDA documents and their corresponding topic-mixtures,\n",
    "* trained a SageMaker LDA model on a training set of documents and compared the learned model to the known model,\n",
    "* created an inference endpoint,\n",
    "* used the endpoint to infer the topic mixtures of a test input and analyzed the inference error.\n",
    "\n",
    "There are several things to keep in mind when applying SageMaker LDA to real-word data such as a corpus of text documents. Note that input documents to the algorithm, both in training and inference, need to be vectors of integers representing word counts. Each index corresponds to a word in the corpus vocabulary. Therefore, one will need to \"tokenize\" their corpus vocabulary.\n",
    "\n",
    "$$\n",
    "\\text{\"cat\"} \\mapsto 0, \\; \\text{\"dog\"} \\mapsto 1 \\; \\text{\"bird\"} \\mapsto 2, \\ldots\n",
    "$$\n",
    "\n",
    "Each text document then needs to be converted to a \"bag-of-words\" format document.\n",
    "\n",
    "$$\n",
    "w = \\text{\"cat bird bird bird cat\"} \\quad \\longmapsto \\quad w = [2, 0, 3, 0, \\ldots, 0]\n",
    "$$\n",
    "\n",
    "Also note that many real-word applications have large vocabulary sizes. It may be necessary to represent the input documents in sparse format. Finally, the use of stemming and lemmatization in data preprocessing provides several benefits. Doing so can improve training and inference compute time since it reduces the effective vocabulary size. More importantly, though, it can improve the quality of learned topic-word probability matrices and inferred topic mixtures. For example, the words *\"parliament\"*, *\"parliaments\"*, *\"parliamentary\"*, *\"parliament's\"*, and *\"parliamentarians\"* are all essentially the same word, *\"parliament\"*, but with different conjugations. For the purposes of detecting topics, such as a *\"politics\"* or *governments\"* topic, the inclusion of all five does not add much additional value as they all essentiall describe the same feature."
   ]
  }
 ],
 "metadata": {
  "celltoolbar": "Tags",
  "kernelspec": {
   "display_name": "Environment (conda_mxnet_p36)",
   "language": "python",
   "name": "conda_mxnet_p36"
  },
  "language_info": {
   "codemirror_mode": {
    "name": "ipython",
    "version": 3
   },
   "file_extension": ".py",
   "mimetype": "text/x-python",
   "name": "python",
   "nbconvert_exporter": "python",
   "pygments_lexer": "ipython3",
   "version": "3.6.10"
  },
  "notice": "Copyright 2017 Amazon.com, Inc. or its affiliates. All Rights Reserved.  Licensed under the Apache License, Version 2.0 (the \"License\"). You may not use this file except in compliance with the License. A copy of the License is located at http://aws.amazon.com/apache2.0/ or in the \"license\" file accompanying this file. This file is distributed on an \"AS IS\" BASIS, WITHOUT WARRANTIES OR CONDITIONS OF ANY KIND, either express or implied. See the License for the specific language governing permissions and limitations under the License."
 },
 "nbformat": 4,
 "nbformat_minor": 4
}
