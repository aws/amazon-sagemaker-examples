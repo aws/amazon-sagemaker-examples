{
 "cells": [
  {
   "cell_type": "markdown",
   "id": "0cbec66a-d1ae-4206-a07f-47cad4d8bd0d",
   "metadata": {},
   "source": [
    "# Automated Model Approval Pipeline with SageMaker Pipelines, Cloudwatch Events and AWS Lambda"
   ]
  },
  {
   "cell_type": "markdown",
   "metadata": {},
   "source": [
    "---\n",
    "\n",
    "This notebook's CI test result for us-east-1 is as follows. CI test results in other regions can be found at the end of the notebook.\n",
    "\n",
    "![This us-east-1 badge failed to load. Check your device's internet connectivity, otherwise the service is currently unavailable](https://prod.us-west-2.tcx-beacon.docs.aws.dev/sagemaker-nb/us-east-1/sagemaker-pipelines|automated-model-approval|sm_pipeline_automated-approval.ipynb)\n",
    "\n",
    "---"
   ]
  },
  {
   "cell_type": "markdown",
   "id": "e7fabd1d-833a-4d7e-aa46-c22f9ce6ad31",
   "metadata": {},
   "source": [
    "This example notebook showcases how you can create an automated model approval pipeline with Amazon SageMaker, Cloudwatch Events and AWS Lambda. This demo is deisnged to run SageMaker Notebook Instances or SageMaker Studio. \n",
    "\n",
    "As an organization with multiple distributed teams of ML practitioners, integrating SageMaker Pipelines with your model approval process is useful for the following reasons:\n",
    "1. Ensures a standardized and repeatable process to approve models for deployment.\n",
    "2. Decouples different processes in your approval process and allows you to visualize these in a Directed Acyclic Graph (DAG).\n",
    "\n",
    "This notebook can be used as a template to start building your own SageMaker Pipelines for automated model approval. Before you start, make sure that your SageMaker Execution Role has the following policy:\n",
    "\n",
    "    AmazonSageMakerFullAccess\n"
   ]
  },
  {
   "cell_type": "markdown",
   "id": "b6782688-36a0-45bd-ba41-87cc97a7eab2",
   "metadata": {},
   "source": [
    "Your SageMaker Execution Role should have access to S3 already. If not you can add an S3 policy. You will also need to the inline policy described below:"
   ]
  },
  {
   "cell_type": "code",
   "execution_count": null,
   "id": "3949bdde-09b9-4eaf-b5f9-9056b888e929",
   "metadata": {
    "tags": []
   },
   "outputs": [],
   "source": [
    "{\n",
    "    \"Version\": \"2012-10-17\",\n",
    "    \"Statement\": [\n",
    "        {\n",
    "            \"Sid\": \"VisualEditor0\",\n",
    "            \"Effect\": \"Allow\",\n",
    "            \"Action\": [\n",
    "                \"iam:GetRole\",\n",
    "                \"s3:*\",\n",
    "                \"iam:CreateRole\",\n",
    "                \"iam:AttachRolePolicy\",\n",
    "            ],\n",
    "            \"Resource\": \"*\",\n",
    "        }\n",
    "    ],\n",
    "}"
   ]
  },
  {
   "cell_type": "markdown",
   "id": "00f3ee70-1395-44da-bb50-7b7d3517ff2d",
   "metadata": {},
   "source": [
    "Finally, you may need the following trust policies."
   ]
  },
  {
   "cell_type": "code",
   "execution_count": null,
   "id": "170edc62-b081-42b9-8ebc-a8eda3204b76",
   "metadata": {},
   "outputs": [],
   "source": [
    "{\n",
    "    \"Version\": \"2012-10-17\",\n",
    "    \"Statement\": [\n",
    "        {\n",
    "            \"Effect\": \"Allow\",\n",
    "            \"Principal\": {\n",
    "                \"Service\": [\"s3.amazonaws.com\", \"sagemaker.amazonaws.com\"]\n",
    "            },\n",
    "            \"Action\": \"sts:AssumeRole\",\n",
    "        }\n",
    "    ],\n",
    "}"
   ]
  },
  {
   "cell_type": "markdown",
   "id": "b87e074a-dcd0-40f2-9143-9823fa98511e",
   "metadata": {},
   "source": [
    "## Prerequisites"
   ]
  },
  {
   "cell_type": "markdown",
   "id": "4b4066f4-e33b-4432-b3ff-450c315b7e6a",
   "metadata": {},
   "source": [
    "To recreate the results in the notebook, you will need to generate the necessary Clarify artifacts for model quality, bias and explainability when registering a new model. You can do this be running the cells in the [SageMaker Pipelines integration with Model Monitor](sagemaker-pipelines/tabular/model-monitor-clarify-pipelines/sagemaker-pipeline-model-monitor-clarify-steps.ipynb) notebook. The checks in `model-approval-checks.py` are meant to serve as an example to be extended depending on the use case and your organisation's internal processes.  \n",
    "\n",
    "First, we are going to import the SageMaker SDK and set some default variables such as the `role` for permissioned execution and the `default_bucket` to store model artifacts."
   ]
  },
  {
   "cell_type": "code",
   "execution_count": null,
   "id": "b0a5a54c-4348-4409-b8ab-01879a8e344c",
   "metadata": {
    "tags": []
   },
   "outputs": [],
   "source": [
    "! pip install sagemaker botocore boto3 awscli --upgrade"
   ]
  },
  {
   "cell_type": "code",
   "execution_count": 274,
   "id": "c22c15a2-1190-43d2-b386-18aff5858597",
   "metadata": {
    "tags": []
   },
   "outputs": [],
   "source": [
    "\n",
    "import boto3\n",
    "import sagemaker\n",
    "import json \n",
    "\n",
    "client = boto3.client(service_name=\"sagemaker\")\n",
    "runtime = boto3.client(service_name=\"sagemaker-runtime\")\n",
    "\n",
    "s3_client = boto3.client('s3')\n",
    "\n",
    "boto_session = boto3.session.Session()\n",
    "region = boto_session.region_name\n",
    "print(region)\n",
    "\n",
    "sagemaker_session = sagemaker.Session()\n",
    "role = sagemaker.get_execution_role()\n",
    "print(role)\n",
    "\n",
    "default_bucket = sagemaker_session.default_bucket()"
   ]
  },
  {
   "cell_type": "markdown",
   "id": "6742c827-b851-499b-9951-8c926dc7dcfb",
   "metadata": {},
   "source": [
    "## Manually run the checks in the Notebook"
   ]
  },
  {
   "cell_type": "markdown",
   "id": "2a6628bd-7aa7-4d34-bb1a-9dbed770d3a0",
   "metadata": {},
   "source": [
    "In this section of the Notebook, the metadata associated with the registered model is used to retrieve Clarify artifacts. These artifacts contain measures of model quality, bias and feature importance, which are used to approve the model for deployment."
   ]
  },
  {
   "cell_type": "code",
   "execution_count": 255,
   "id": "403d6025-d186-45d2-a17a-f0477da0cc81",
   "metadata": {
    "tags": []
   },
   "outputs": [],
   "source": [
    "model_package_group_name = \"<EXISTING_MODEL_PACKAGE_GROUP_NAME>\""
   ]
  },
  {
   "cell_type": "markdown",
   "id": "c9d40fdb-c02f-4d9f-9a8a-9f47cc001ef5",
   "metadata": {},
   "source": [
    "### Retrieve Clarify artifacts based on Model Package "
   ]
  },
  {
   "cell_type": "code",
   "execution_count": 256,
   "id": "be238096-fbd0-4454-aab1-b9df33f6bafa",
   "metadata": {
    "tags": []
   },
   "outputs": [],
   "source": [
    "model_package_arn = client.list_model_packages(ModelPackageGroupName=model_package_group_name)[\n",
    "    \"ModelPackageSummaryList\"\n",
    "][0][\"ModelPackageArn\"]"
   ]
  },
  {
   "cell_type": "code",
   "execution_count": 223,
   "id": "8531fcfd-5250-47b0-8bbf-fa7a4edcdc96",
   "metadata": {
    "tags": []
   },
   "outputs": [],
   "source": [
    "model_package_metrics = client.describe_model_package(ModelPackageName=model_package_arn)[\"ModelMetrics\"]\n",
    "\n",
    "model_quality_s3_key = model_package_metrics[\"ModelQuality\"][\"Statistics\"][\"S3Uri\"].split(f\"{default_bucket}/\")[1]\n",
    "model_quality_bias = model_package_metrics[\"Bias\"]\n",
    "model_quality_pretrain_bias_key = model_quality_bias[\"PreTrainingReport\"][\"S3Uri\"].split(f\"{default_bucket}/\")[1]\n",
    "model_quality__post_train_bias_key = model_quality_bias[\"PostTrainingReport\"][\"S3Uri\"].split(f\"{default_bucket}/\")[1]\n",
    "model_explainability_s3_key = model_package_metrics[\"Explainability\"][\"Report\"][\"S3Uri\"].split(f\"{default_bucket}/\")[1]"
   ]
  },
  {
   "cell_type": "markdown",
   "id": "34db1e7a-2bd3-4b86-b032-3fc5278ac8a3",
   "metadata": {},
   "source": [
    "### Model Quality Check"
   ]
  },
  {
   "cell_type": "code",
   "execution_count": 224,
   "id": "a52fef43-216f-4c77-b4d2-d646513e088c",
   "metadata": {
    "tags": []
   },
   "outputs": [],
   "source": [
    "# MODEL QUALITY (in step 1)\n",
    "mae_threshold = 1.5\n",
    "\n",
    "s3_obj = s3_client.get_object(Bucket=default_bucket, Key=model_quality_s3_key)\n",
    "s3_obj_data = s3_obj['Body'].read().decode('utf-8')\n",
    "model_quality_json = json.loads(s3_obj_data)\n",
    "mae = model_quality_json[\"regression_metrics\"][\"mae\"][\"value\"]\n",
    "\n",
    "mae_check = True if mae < mae_threshold else False\n",
    "mae_check"
   ]
  },
  {
   "cell_type": "markdown",
   "id": "889b1a69-f143-4066-806f-22b172798964",
   "metadata": {},
   "source": [
    "### Model Pre-training Bias Check"
   ]
  },
  {
   "cell_type": "code",
   "execution_count": null,
   "id": "0b537bd6-fecc-4cdf-a790-5aa99355f9d2",
   "metadata": {
    "tags": []
   },
   "outputs": [],
   "source": [
    "# MODEL PRETRAINIG BIAS (in step 1)\n",
    "kullback_liebler_check_threshold = 0.5\n",
    "\n",
    "s3_obj = s3_client.get_object(Bucket=default_bucket, Key=model_quality_pretrain_bias_key)\n",
    "s3_obj_data = s3_obj['Body'].read().decode('utf-8')\n",
    "model_quality_pretrain_bias_json = json.loads(s3_obj_data)\n",
    "kullback_liebler = model_quality_pretrain_bias_json[\"pre_training_bias_metrics\"][\n",
    "    \"facets\"][\"column_8\"][0][\"metrics\"][4][\"value\"]\n",
    "\n",
    "kullback_liebler_check = True if kullback_liebler < kullback_liebler_check_threshold else False \n",
    "kullback_liebler_check"
   ]
  },
  {
   "cell_type": "markdown",
   "id": "829c177d-4919-4201-ba10-e74eea8647d8",
   "metadata": {},
   "source": [
    "### Model Post-training Bias Check"
   ]
  },
  {
   "cell_type": "code",
   "execution_count": null,
   "id": "b7cada95-a911-40ca-80e0-a314b73f6409",
   "metadata": {
    "tags": []
   },
   "outputs": [],
   "source": [
    "# MODEL POSTTRAINING BIAS (in step 1)\n",
    "treatment_equity_check_threshold = 0\n",
    "\n",
    "s3_obj = s3_client.get_object(Bucket=default_bucket, Key=model_quality__post_train_bias_key)\n",
    "s3_obj_data = s3_obj['Body'].read().decode('utf-8')\n",
    "model_quality__post_train_bias_json = json.loads(s3_obj_data)\n",
    "treatment_equity = model_quality__post_train_bias_json[\"post_training_bias_metrics\"][\n",
    "    \"facets\"][\"column_8\"][0][\"metrics\"][-1][\"value\"]\n",
    "\n",
    "treatment_equity_check = True if treatment_equity < treatment_equity_check_threshold else False\n",
    "treatment_equity_check"
   ]
  },
  {
   "cell_type": "markdown",
   "id": "9433e26e-cdd6-4266-9e8a-1700e9380680",
   "metadata": {},
   "source": [
    "### Model Explainability Report Check"
   ]
  },
  {
   "cell_type": "code",
   "execution_count": null,
   "id": "f9157bf2-b525-457f-a2a0-a022ade9fa4e",
   "metadata": {
    "tags": []
   },
   "outputs": [],
   "source": [
    "# MODEL EXPLAINABILITY REPORT (in step 1)\n",
    "age_shap_label_0_threshold = 0.5\n",
    "\n",
    "s3_obj = s3_client.get_object(Bucket=default_bucket, Key=model_explainability_s3_key)\n",
    "s3_obj_data = s3_obj['Body'].read().decode('utf-8')\n",
    "model_explainability_s3_json = json.loads(s3_obj_data)\n",
    "age_shap_label_0 = model_explainability_s3_json[\n",
    "    \"explanations\"][\"kernel_shap\"][\"label0\"][\"global_shap_values\"][\"column_1\"]\n",
    "\n",
    "age_shap_label_0_check = True if age_shap_label_0 < age_shap_label_0_threshold else False\n",
    "age_shap_label_0_check"
   ]
  },
  {
   "cell_type": "markdown",
   "id": "7caf44ff-6279-4cde-a4df-ff81e5bafb56",
   "metadata": {},
   "source": [
    "### Model Approval Based on Previous Checks"
   ]
  },
  {
   "cell_type": "code",
   "execution_count": 100,
   "id": "e15c6129-8143-4b7a-98d5-ba1e728b172a",
   "metadata": {
    "tags": []
   },
   "outputs": [],
   "source": [
    "model_package_update_input_dict = {\n",
    "    \"ModelPackageArn\" : model_package_arn,\n",
    "    \"ModelApprovalStatus\" : \"Approved\" if (mae_check and kullback_liebler_check and treatment_equity_check and age_shap_label_0_check) else \"Rejected\"\n",
    "}"
   ]
  },
  {
   "cell_type": "markdown",
   "id": "21a48a93-d098-4664-97da-ac587a237693",
   "metadata": {},
   "source": [
    "## Automate using SageMaker Pipelines and SageMaker Processors"
   ]
  },
  {
   "cell_type": "markdown",
   "id": "8be90b39-6c12-4e89-a86b-0b53cfee7719",
   "metadata": {},
   "source": [
    "In this section of the Notebook, the previous steps are orchestrated as a SageMaker Pipeline. "
   ]
  },
  {
   "cell_type": "code",
   "execution_count": null,
   "id": "0f56899a-a071-45f9-900e-8a1708b9ba37",
   "metadata": {},
   "outputs": [],
   "source": [
    "pipeline_session = PipelineSession()\n",
    "pipeline_name = \"automated-model-governance\""
   ]
  },
  {
   "cell_type": "markdown",
   "id": "db3aa6f2-6de0-4cb9-a846-80af477dad61",
   "metadata": {},
   "source": [
    "### Define Pipelines and Input Parameters"
   ]
  },
  {
   "cell_type": "code",
   "execution_count": 263,
   "id": "0e91bae8-53a1-41cf-9e6c-4fbf9b6d9249",
   "metadata": {
    "tags": []
   },
   "outputs": [],
   "source": [
    "from sagemaker.workflow.pipeline import Pipeline\n",
    "from sagemaker.workflow.parameters import (ParameterString)\n",
    "\n",
    "model_package_group_name = ParameterString(\n",
    "    name=\"ModelPackageGroupName\",\n",
    "    default_value=\"ModelPackageGroupName is required variable.\"\n",
    ")\n",
    "\n",
    "default_bucket_s3 = ParameterString(\n",
    "    name=\"Bucket\",\n",
    "    default_value=\"Bucket is required variable\"\n",
    ")\n",
    "\n",
    "pipeline = Pipeline(\n",
    "    name=pipeline_name,\n",
    "    parameters=[\n",
    "        model_package_group_name,\n",
    "        default_bucket_s3\n",
    "    ],\n",
    "    steps=[process_step, update_model_status_step]\n",
    ")"
   ]
  },
  {
   "cell_type": "markdown",
   "id": "0d2be502-ea70-4525-aaad-37083c02ddcd",
   "metadata": {},
   "source": [
    "### Processors for Validation and Model Status Update Steps"
   ]
  },
  {
   "cell_type": "code",
   "execution_count": null,
   "id": "4a6119d6-b8cd-4b80-9b7d-c05a0673300b",
   "metadata": {
    "tags": []
   },
   "outputs": [],
   "source": [
    "from sagemaker.processing import ProcessingInput, ProcessingOutput\n",
    "from sagemaker.workflow.pipeline_context import PipelineSession\n",
    "from sagemaker.workflow.steps import ProcessingStep\n",
    "from sagemaker.sklearn.processing import SKLearnProcessor\n",
    "\n",
    "validation_step = SKLearnProcessor(\n",
    "    framework_version=\"1.0-1\",  \n",
    "    role=role, \n",
    "    instance_type=\"ml.t3.medium\", \n",
    "    base_job_name = \"RegisteredModelValidationProcessor\",\n",
    "    instance_count=1,  \n",
    "    sagemaker_session=pipeline_session,\n",
    ")\n",
    "\n",
    "model_status_update_step = SKLearnProcessor(\n",
    "    framework_version=\"1.0-1\",  \n",
    "    role=role, \n",
    "    instance_type=\"ml.t3.medium\", \n",
    "    base_job_name = \"UpdateModelStatusProcessor\",\n",
    "    instance_count=1,  \n",
    "    sagemaker_session=pipeline_session,\n",
    ")"
   ]
  },
  {
   "cell_type": "markdown",
   "id": "91d82d4a-4062-409d-801f-c102c6094fa8",
   "metadata": {},
   "source": [
    "### Model Validation Step"
   ]
  },
  {
   "cell_type": "code",
   "execution_count": 265,
   "id": "33723e8f-bf27-4825-a970-efb4748b4c47",
   "metadata": {
    "tags": []
   },
   "outputs": [],
   "source": [
    "process_step = ProcessingStep(\n",
    "    name=\"RegisteredModelValidationStep\",\n",
    "    step_args=validation_step.run(\n",
    "        code=\"model-approval-checks.py\",\n",
    "        inputs=[],\n",
    "        outputs=[\n",
    "            ProcessingOutput(\n",
    "                output_name=\"checks\",\n",
    "                destination=f\"s3://{default_bucket}/governance-pipeline/processor/\",\n",
    "                source=\"/opt/ml/processing/output\"\n",
    "        )],\n",
    "        arguments=[\n",
    "            \"--default_bucket\", default_bucket_s3, \n",
    "            \"--model_package_group_name\", model_package_group_name\n",
    "        ]\n",
    "    )\n",
    ")"
   ]
  },
  {
   "cell_type": "markdown",
   "id": "aba034af-ab43-4faa-a8eb-92fa22e7e7db",
   "metadata": {},
   "source": [
    "### Update Model Status Step"
   ]
  },
  {
   "cell_type": "code",
   "execution_count": 267,
   "id": "648e840d-aac0-4a93-886a-5e4af0531c48",
   "metadata": {
    "tags": []
   },
   "outputs": [],
   "source": [
    "update_model_status_step = ProcessingStep(\n",
    "    name=\"UpdateModelStatusStep\",\n",
    "    step_args=model_status_update_step.run(\n",
    "        code=\"validate-model.py\",\n",
    "        inputs=[\n",
    "            ProcessingInput(\n",
    "                source=process_step.properties.ProcessingOutputConfig.Outputs[\"checks\"].S3Output.S3Uri, \n",
    "                destination=\"/opt/ml/processing/input\"\n",
    "            ),\n",
    "        ],\n",
    "        outputs=[],\n",
    "        arguments=[\n",
    "            \"--model_package_group_name\", model_package_group_name\n",
    "        ]\n",
    "    )\n",
    ")"
   ]
  },
  {
   "cell_type": "markdown",
   "id": "e29a4692-013a-400f-85e2-3244cf7b2bd1",
   "metadata": {},
   "source": [
    "### Start Pipeline"
   ]
  },
  {
   "cell_type": "markdown",
   "id": "328b472f-c1e0-4e4f-b3c4-32ee14ee9a0d",
   "metadata": {},
   "source": [
    "This step is represented in in the Lambda function launched when a new model is registered."
   ]
  },
  {
   "cell_type": "code",
   "execution_count": null,
   "id": "e51077d2-af34-4e3c-bae6-b4dd0f7d3a17",
   "metadata": {
    "tags": []
   },
   "outputs": [],
   "source": [
    "pipeline.upsert(role_arn=role)\n",
    "execution = pipeline.start(\n",
    "    parameters=dict(\n",
    "            ModelPackageGroupName=model_package_group_name,\n",
    "            Bucket=default_bucket\n",
    "        )\n",
    ")"
   ]
  },
  {
   "cell_type": "markdown",
   "id": "b5ddcb01-faf6-48ec-bed9-a4f096d0eed5",
   "metadata": {},
   "source": [
    "### Wait for the pipeline execution to complete"
   ]
  },
  {
   "cell_type": "code",
   "execution_count": null,
   "id": "288c77e8-f36c-4b97-883a-2509ad63b4ce",
   "metadata": {
    "tags": []
   },
   "outputs": [],
   "source": [
    "execution.wait()"
   ]
  },
  {
   "cell_type": "markdown",
   "id": "70aa0911-8636-4698-bffa-56adfedcada3",
   "metadata": {},
   "source": [
    "## Cleaning up resources"
   ]
  },
  {
   "cell_type": "markdown",
   "id": "ca51f73f-64ed-41cc-9780-b48573ac42c1",
   "metadata": {},
   "source": [
    "Users are responsible for cleaning up resources created when running this notebook. Specify the ModelName, ModelPackageName, and ModelPackageGroupName that need to be deleted. The model names are generated by the CreateModel step of the Pipeline and the property values are available only in the Pipeline context. To delete the models created by this pipeline, navigate to the Model Registry and Console to find the models to delete."
   ]
  },
  {
   "cell_type": "code",
   "execution_count": null,
   "id": "f5ac34ce-6dcb-479d-a84b-c8186dc747e3",
   "metadata": {},
   "outputs": [],
   "source": [
    "# Create a SageMaker client\n",
    "# sm_client = boto3.client(\"sagemaker\")\n",
    "\n",
    "# # Delete SageMaker Models\n",
    "# sm_client.delete_model(ModelName=\"...\")\n",
    "\n",
    "# # Delete Model Packages\n",
    "# sm_client.delete_model_package(ModelPackageName=\"...\")\n",
    "\n",
    "# # Delete the Model Package Group\n",
    "# sm_client.delete_model_package_group(ModelPackageGroupName=\"...\")\n",
    "\n",
    "# # Delete the Pipeline\n",
    "# sm_client.delete_pipeline(PipelineName=\"...\")"
   ]
  }
 ],
 "metadata": {
  "availableInstances": [
   {
    "_defaultOrder": 0,
    "_isFastLaunch": true,
    "category": "General purpose",
    "gpuNum": 0,
    "hideHardwareSpecs": false,
    "memoryGiB": 4,
    "name": "ml.t3.medium",
    "vcpuNum": 2
   },
   {
    "_defaultOrder": 1,
    "_isFastLaunch": false,
    "category": "General purpose",
    "gpuNum": 0,
    "hideHardwareSpecs": false,
    "memoryGiB": 8,
    "name": "ml.t3.large",
    "vcpuNum": 2
   },
   {
    "_defaultOrder": 2,
    "_isFastLaunch": false,
    "category": "General purpose",
    "gpuNum": 0,
    "hideHardwareSpecs": false,
    "memoryGiB": 16,
    "name": "ml.t3.xlarge",
    "vcpuNum": 4
   },
   {
    "_defaultOrder": 3,
    "_isFastLaunch": false,
    "category": "General purpose",
    "gpuNum": 0,
    "hideHardwareSpecs": false,
    "memoryGiB": 32,
    "name": "ml.t3.2xlarge",
    "vcpuNum": 8
   },
   {
    "_defaultOrder": 4,
    "_isFastLaunch": true,
    "category": "General purpose",
    "gpuNum": 0,
    "hideHardwareSpecs": false,
    "memoryGiB": 8,
    "name": "ml.m5.large",
    "vcpuNum": 2
   },
   {
    "_defaultOrder": 5,
    "_isFastLaunch": false,
    "category": "General purpose",
    "gpuNum": 0,
    "hideHardwareSpecs": false,
    "memoryGiB": 16,
    "name": "ml.m5.xlarge",
    "vcpuNum": 4
   },
   {
    "_defaultOrder": 6,
    "_isFastLaunch": false,
    "category": "General purpose",
    "gpuNum": 0,
    "hideHardwareSpecs": false,
    "memoryGiB": 32,
    "name": "ml.m5.2xlarge",
    "vcpuNum": 8
   },
   {
    "_defaultOrder": 7,
    "_isFastLaunch": false,
    "category": "General purpose",
    "gpuNum": 0,
    "hideHardwareSpecs": false,
    "memoryGiB": 64,
    "name": "ml.m5.4xlarge",
    "vcpuNum": 16
   },
   {
    "_defaultOrder": 8,
    "_isFastLaunch": false,
    "category": "General purpose",
    "gpuNum": 0,
    "hideHardwareSpecs": false,
    "memoryGiB": 128,
    "name": "ml.m5.8xlarge",
    "vcpuNum": 32
   },
   {
    "_defaultOrder": 9,
    "_isFastLaunch": false,
    "category": "General purpose",
    "gpuNum": 0,
    "hideHardwareSpecs": false,
    "memoryGiB": 192,
    "name": "ml.m5.12xlarge",
    "vcpuNum": 48
   },
   {
    "_defaultOrder": 10,
    "_isFastLaunch": false,
    "category": "General purpose",
    "gpuNum": 0,
    "hideHardwareSpecs": false,
    "memoryGiB": 256,
    "name": "ml.m5.16xlarge",
    "vcpuNum": 64
   },
   {
    "_defaultOrder": 11,
    "_isFastLaunch": false,
    "category": "General purpose",
    "gpuNum": 0,
    "hideHardwareSpecs": false,
    "memoryGiB": 384,
    "name": "ml.m5.24xlarge",
    "vcpuNum": 96
   },
   {
    "_defaultOrder": 12,
    "_isFastLaunch": false,
    "category": "General purpose",
    "gpuNum": 0,
    "hideHardwareSpecs": false,
    "memoryGiB": 8,
    "name": "ml.m5d.large",
    "vcpuNum": 2
   },
   {
    "_defaultOrder": 13,
    "_isFastLaunch": false,
    "category": "General purpose",
    "gpuNum": 0,
    "hideHardwareSpecs": false,
    "memoryGiB": 16,
    "name": "ml.m5d.xlarge",
    "vcpuNum": 4
   },
   {
    "_defaultOrder": 14,
    "_isFastLaunch": false,
    "category": "General purpose",
    "gpuNum": 0,
    "hideHardwareSpecs": false,
    "memoryGiB": 32,
    "name": "ml.m5d.2xlarge",
    "vcpuNum": 8
   },
   {
    "_defaultOrder": 15,
    "_isFastLaunch": false,
    "category": "General purpose",
    "gpuNum": 0,
    "hideHardwareSpecs": false,
    "memoryGiB": 64,
    "name": "ml.m5d.4xlarge",
    "vcpuNum": 16
   },
   {
    "_defaultOrder": 16,
    "_isFastLaunch": false,
    "category": "General purpose",
    "gpuNum": 0,
    "hideHardwareSpecs": false,
    "memoryGiB": 128,
    "name": "ml.m5d.8xlarge",
    "vcpuNum": 32
   },
   {
    "_defaultOrder": 17,
    "_isFastLaunch": false,
    "category": "General purpose",
    "gpuNum": 0,
    "hideHardwareSpecs": false,
    "memoryGiB": 192,
    "name": "ml.m5d.12xlarge",
    "vcpuNum": 48
   },
   {
    "_defaultOrder": 18,
    "_isFastLaunch": false,
    "category": "General purpose",
    "gpuNum": 0,
    "hideHardwareSpecs": false,
    "memoryGiB": 256,
    "name": "ml.m5d.16xlarge",
    "vcpuNum": 64
   },
   {
    "_defaultOrder": 19,
    "_isFastLaunch": false,
    "category": "General purpose",
    "gpuNum": 0,
    "hideHardwareSpecs": false,
    "memoryGiB": 384,
    "name": "ml.m5d.24xlarge",
    "vcpuNum": 96
   },
   {
    "_defaultOrder": 20,
    "_isFastLaunch": false,
    "category": "General purpose",
    "gpuNum": 0,
    "hideHardwareSpecs": true,
    "memoryGiB": 0,
    "name": "ml.geospatial.interactive",
    "supportedImageNames": [
     "sagemaker-geospatial-v1-0"
    ],
    "vcpuNum": 0
   },
   {
    "_defaultOrder": 21,
    "_isFastLaunch": true,
    "category": "Compute optimized",
    "gpuNum": 0,
    "hideHardwareSpecs": false,
    "memoryGiB": 4,
    "name": "ml.c5.large",
    "vcpuNum": 2
   },
   {
    "_defaultOrder": 22,
    "_isFastLaunch": false,
    "category": "Compute optimized",
    "gpuNum": 0,
    "hideHardwareSpecs": false,
    "memoryGiB": 8,
    "name": "ml.c5.xlarge",
    "vcpuNum": 4
   },
   {
    "_defaultOrder": 23,
    "_isFastLaunch": false,
    "category": "Compute optimized",
    "gpuNum": 0,
    "hideHardwareSpecs": false,
    "memoryGiB": 16,
    "name": "ml.c5.2xlarge",
    "vcpuNum": 8
   },
   {
    "_defaultOrder": 24,
    "_isFastLaunch": false,
    "category": "Compute optimized",
    "gpuNum": 0,
    "hideHardwareSpecs": false,
    "memoryGiB": 32,
    "name": "ml.c5.4xlarge",
    "vcpuNum": 16
   },
   {
    "_defaultOrder": 25,
    "_isFastLaunch": false,
    "category": "Compute optimized",
    "gpuNum": 0,
    "hideHardwareSpecs": false,
    "memoryGiB": 72,
    "name": "ml.c5.9xlarge",
    "vcpuNum": 36
   },
   {
    "_defaultOrder": 26,
    "_isFastLaunch": false,
    "category": "Compute optimized",
    "gpuNum": 0,
    "hideHardwareSpecs": false,
    "memoryGiB": 96,
    "name": "ml.c5.12xlarge",
    "vcpuNum": 48
   },
   {
    "_defaultOrder": 27,
    "_isFastLaunch": false,
    "category": "Compute optimized",
    "gpuNum": 0,
    "hideHardwareSpecs": false,
    "memoryGiB": 144,
    "name": "ml.c5.18xlarge",
    "vcpuNum": 72
   },
   {
    "_defaultOrder": 28,
    "_isFastLaunch": false,
    "category": "Compute optimized",
    "gpuNum": 0,
    "hideHardwareSpecs": false,
    "memoryGiB": 192,
    "name": "ml.c5.24xlarge",
    "vcpuNum": 96
   },
   {
    "_defaultOrder": 29,
    "_isFastLaunch": true,
    "category": "Accelerated computing",
    "gpuNum": 1,
    "hideHardwareSpecs": false,
    "memoryGiB": 16,
    "name": "ml.g4dn.xlarge",
    "vcpuNum": 4
   },
   {
    "_defaultOrder": 30,
    "_isFastLaunch": false,
    "category": "Accelerated computing",
    "gpuNum": 1,
    "hideHardwareSpecs": false,
    "memoryGiB": 32,
    "name": "ml.g4dn.2xlarge",
    "vcpuNum": 8
   },
   {
    "_defaultOrder": 31,
    "_isFastLaunch": false,
    "category": "Accelerated computing",
    "gpuNum": 1,
    "hideHardwareSpecs": false,
    "memoryGiB": 64,
    "name": "ml.g4dn.4xlarge",
    "vcpuNum": 16
   },
   {
    "_defaultOrder": 32,
    "_isFastLaunch": false,
    "category": "Accelerated computing",
    "gpuNum": 1,
    "hideHardwareSpecs": false,
    "memoryGiB": 128,
    "name": "ml.g4dn.8xlarge",
    "vcpuNum": 32
   },
   {
    "_defaultOrder": 33,
    "_isFastLaunch": false,
    "category": "Accelerated computing",
    "gpuNum": 4,
    "hideHardwareSpecs": false,
    "memoryGiB": 192,
    "name": "ml.g4dn.12xlarge",
    "vcpuNum": 48
   },
   {
    "_defaultOrder": 34,
    "_isFastLaunch": false,
    "category": "Accelerated computing",
    "gpuNum": 1,
    "hideHardwareSpecs": false,
    "memoryGiB": 256,
    "name": "ml.g4dn.16xlarge",
    "vcpuNum": 64
   },
   {
    "_defaultOrder": 35,
    "_isFastLaunch": false,
    "category": "Accelerated computing",
    "gpuNum": 1,
    "hideHardwareSpecs": false,
    "memoryGiB": 61,
    "name": "ml.p3.2xlarge",
    "vcpuNum": 8
   },
   {
    "_defaultOrder": 36,
    "_isFastLaunch": false,
    "category": "Accelerated computing",
    "gpuNum": 4,
    "hideHardwareSpecs": false,
    "memoryGiB": 244,
    "name": "ml.p3.8xlarge",
    "vcpuNum": 32
   },
   {
    "_defaultOrder": 37,
    "_isFastLaunch": false,
    "category": "Accelerated computing",
    "gpuNum": 8,
    "hideHardwareSpecs": false,
    "memoryGiB": 488,
    "name": "ml.p3.16xlarge",
    "vcpuNum": 64
   },
   {
    "_defaultOrder": 38,
    "_isFastLaunch": false,
    "category": "Accelerated computing",
    "gpuNum": 8,
    "hideHardwareSpecs": false,
    "memoryGiB": 768,
    "name": "ml.p3dn.24xlarge",
    "vcpuNum": 96
   },
   {
    "_defaultOrder": 39,
    "_isFastLaunch": false,
    "category": "Memory Optimized",
    "gpuNum": 0,
    "hideHardwareSpecs": false,
    "memoryGiB": 16,
    "name": "ml.r5.large",
    "vcpuNum": 2
   },
   {
    "_defaultOrder": 40,
    "_isFastLaunch": false,
    "category": "Memory Optimized",
    "gpuNum": 0,
    "hideHardwareSpecs": false,
    "memoryGiB": 32,
    "name": "ml.r5.xlarge",
    "vcpuNum": 4
   },
   {
    "_defaultOrder": 41,
    "_isFastLaunch": false,
    "category": "Memory Optimized",
    "gpuNum": 0,
    "hideHardwareSpecs": false,
    "memoryGiB": 64,
    "name": "ml.r5.2xlarge",
    "vcpuNum": 8
   },
   {
    "_defaultOrder": 42,
    "_isFastLaunch": false,
    "category": "Memory Optimized",
    "gpuNum": 0,
    "hideHardwareSpecs": false,
    "memoryGiB": 128,
    "name": "ml.r5.4xlarge",
    "vcpuNum": 16
   },
   {
    "_defaultOrder": 43,
    "_isFastLaunch": false,
    "category": "Memory Optimized",
    "gpuNum": 0,
    "hideHardwareSpecs": false,
    "memoryGiB": 256,
    "name": "ml.r5.8xlarge",
    "vcpuNum": 32
   },
   {
    "_defaultOrder": 44,
    "_isFastLaunch": false,
    "category": "Memory Optimized",
    "gpuNum": 0,
    "hideHardwareSpecs": false,
    "memoryGiB": 384,
    "name": "ml.r5.12xlarge",
    "vcpuNum": 48
   },
   {
    "_defaultOrder": 45,
    "_isFastLaunch": false,
    "category": "Memory Optimized",
    "gpuNum": 0,
    "hideHardwareSpecs": false,
    "memoryGiB": 512,
    "name": "ml.r5.16xlarge",
    "vcpuNum": 64
   },
   {
    "_defaultOrder": 46,
    "_isFastLaunch": false,
    "category": "Memory Optimized",
    "gpuNum": 0,
    "hideHardwareSpecs": false,
    "memoryGiB": 768,
    "name": "ml.r5.24xlarge",
    "vcpuNum": 96
   },
   {
    "_defaultOrder": 47,
    "_isFastLaunch": false,
    "category": "Accelerated computing",
    "gpuNum": 1,
    "hideHardwareSpecs": false,
    "memoryGiB": 16,
    "name": "ml.g5.xlarge",
    "vcpuNum": 4
   },
   {
    "_defaultOrder": 48,
    "_isFastLaunch": false,
    "category": "Accelerated computing",
    "gpuNum": 1,
    "hideHardwareSpecs": false,
    "memoryGiB": 32,
    "name": "ml.g5.2xlarge",
    "vcpuNum": 8
   },
   {
    "_defaultOrder": 49,
    "_isFastLaunch": false,
    "category": "Accelerated computing",
    "gpuNum": 1,
    "hideHardwareSpecs": false,
    "memoryGiB": 64,
    "name": "ml.g5.4xlarge",
    "vcpuNum": 16
   },
   {
    "_defaultOrder": 50,
    "_isFastLaunch": false,
    "category": "Accelerated computing",
    "gpuNum": 1,
    "hideHardwareSpecs": false,
    "memoryGiB": 128,
    "name": "ml.g5.8xlarge",
    "vcpuNum": 32
   },
   {
    "_defaultOrder": 51,
    "_isFastLaunch": false,
    "category": "Accelerated computing",
    "gpuNum": 1,
    "hideHardwareSpecs": false,
    "memoryGiB": 256,
    "name": "ml.g5.16xlarge",
    "vcpuNum": 64
   },
   {
    "_defaultOrder": 52,
    "_isFastLaunch": false,
    "category": "Accelerated computing",
    "gpuNum": 4,
    "hideHardwareSpecs": false,
    "memoryGiB": 192,
    "name": "ml.g5.12xlarge",
    "vcpuNum": 48
   },
   {
    "_defaultOrder": 53,
    "_isFastLaunch": false,
    "category": "Accelerated computing",
    "gpuNum": 4,
    "hideHardwareSpecs": false,
    "memoryGiB": 384,
    "name": "ml.g5.24xlarge",
    "vcpuNum": 96
   },
   {
    "_defaultOrder": 54,
    "_isFastLaunch": false,
    "category": "Accelerated computing",
    "gpuNum": 8,
    "hideHardwareSpecs": false,
    "memoryGiB": 768,
    "name": "ml.g5.48xlarge",
    "vcpuNum": 192
   },
   {
    "_defaultOrder": 55,
    "_isFastLaunch": false,
    "category": "Accelerated computing",
    "gpuNum": 8,
    "hideHardwareSpecs": false,
    "memoryGiB": 1152,
    "name": "ml.p4d.24xlarge",
    "vcpuNum": 96
   },
   {
    "_defaultOrder": 56,
    "_isFastLaunch": false,
    "category": "Accelerated computing",
    "gpuNum": 8,
    "hideHardwareSpecs": false,
    "memoryGiB": 1152,
    "name": "ml.p4de.24xlarge",
    "vcpuNum": 96
   },
   {
    "_defaultOrder": 57,
    "_isFastLaunch": false,
    "category": "Accelerated computing",
    "gpuNum": 0,
    "hideHardwareSpecs": false,
    "memoryGiB": 32,
    "name": "ml.trn1.2xlarge",
    "vcpuNum": 8
   },
   {
    "_defaultOrder": 58,
    "_isFastLaunch": false,
    "category": "Accelerated computing",
    "gpuNum": 0,
    "hideHardwareSpecs": false,
    "memoryGiB": 512,
    "name": "ml.trn1.32xlarge",
    "vcpuNum": 128
   },
   {
    "_defaultOrder": 59,
    "_isFastLaunch": false,
    "category": "Accelerated computing",
    "gpuNum": 0,
    "hideHardwareSpecs": false,
    "memoryGiB": 512,
    "name": "ml.trn1n.32xlarge",
    "vcpuNum": 128
   }
  ],
  "instance_type": "ml.t3.medium",
  "kernelspec": {
   "display_name": "Python 3 (Data Science 3.0)",
   "language": "python",
   "name": "python3__SAGEMAKER_INTERNAL__arn:aws:sagemaker:us-east-1:081325390199:image/sagemaker-data-science-310-v1"
  },
  "language_info": {
   "codemirror_mode": {
    "name": "ipython",
    "version": 3
   },
   "file_extension": ".py",
   "mimetype": "text/x-python",
   "name": "python",
   "nbconvert_exporter": "python",
   "pygments_lexer": "ipython3",
   "version": "3.10.6"
  }
 },
 "nbformat": 4,
 "nbformat_minor": 5
}
