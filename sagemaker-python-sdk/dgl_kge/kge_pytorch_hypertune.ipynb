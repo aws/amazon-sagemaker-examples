{
 "cells": [
  {
   "cell_type": "markdown",
   "id": "working-uganda",
   "metadata": {
    "papermill": {
     "duration": 0.007765,
     "end_time": "2021-06-01T00:16:29.689779",
     "exception": false,
     "start_time": "2021-06-01T00:16:29.682014",
     "status": "completed"
    },
    "tags": []
   },
   "source": [
    "# Hyperparameter tuning with Amazon SageMaker and Deep Graph Library with PyTorch backend\n",
    "_**Creating a Hyperparameter tuning job for a DGL network**_\n",
    "___\n",
    "___\n",
    "\n",
    "\n",
    "## Contents\n",
    "1. [Background](#Background)  \n",
    "2. [Setup](#Setup)  \n",
    "3. [Tune](#Train)  \n",
    "4. [Wrap-up](#Wrap-up)  \n",
    "\n",
    "## Background\n",
    "This example notebook shows how to generate knowledge graph embedding using the DMLC DGL API and FB15k dataset. It uses the Amazon SageMaker hyperparameter tuning to start multiple training jobs with different hyperparameter combinations. This helps you find the set with best model performance. This is an important step in the machine learning process as hyperparameter settings can have a large effect on model accuracy. In this example, you use the [Amazon SageMaker Python SDK](https://github.com/aws/sagemaker-python-sdk) to create a hyperparameter tuning job for an Amazon SageMaker estimator."
   ]
  },
  {
   "cell_type": "markdown",
   "id": "martial-homework",
   "metadata": {
    "papermill": {
     "duration": 0.007607,
     "end_time": "2021-06-01T00:16:29.705435",
     "exception": false,
     "start_time": "2021-06-01T00:16:29.697828",
     "status": "completed"
    },
    "tags": []
   },
   "source": [
    "## Setup\n",
    "This notebook was created and tested on an ml.p3.2xlarge notebook instance.\n",
    "\n",
    "Prerequisites\n",
    " * You can successfully run the kge_pytorch example (see kge_pytorch.ipynb).\n",
    " * You have an S3 bucket and prefix that you want to use for training and model data. This should be within the same Region as the notebook instance, training, and hosting.\n",
    " * You have the IAM role ARN used to give training and hosting access to your data. See the documentation for more details on creating these. If a role not associated with the current notebook instance, or more than one role, is required for training or hosting, replace sagemaker.get_execution_role() with the appropriate full IAM role ARN strings.\n"
   ]
  },
  {
   "cell_type": "code",
   "execution_count": 2,
   "id": "vital-senior",
   "metadata": {
    "execution": {
     "iopub.execute_input": "2021-06-01T00:16:29.725276Z",
     "iopub.status.busy": "2021-06-01T00:16:29.724515Z",
     "iopub.status.idle": "2021-06-01T00:16:30.980287Z",
     "shell.execute_reply": "2021-06-01T00:16:30.980771Z"
    },
    "papermill": {
     "duration": 1.267861,
     "end_time": "2021-06-01T00:16:30.980916",
     "exception": false,
     "start_time": "2021-06-01T00:16:29.713055",
     "status": "completed"
    },
    "tags": []
   },
   "outputs": [],
   "source": [
    "import sagemaker\n",
    "from sagemaker import get_execution_role\n",
    "from sagemaker.session import Session\n",
    "\n",
    "# Setup session\n",
    "sess = sagemaker.Session()\n",
    "\n",
    "# S3 bucket for saving code and model artifacts.\n",
    "# Feel free to specify a different bucket here if you wish.\n",
    "bucket = sess.default_bucket()\n",
    "\n",
    "# Location to put your custom code.\n",
    "custom_code_upload_location = \"customcode\"\n",
    "\n",
    "# IAM execution role that gives Amazon SageMaker access to resources in your AWS account.\n",
    "# You can use the Amazon SageMaker Python SDK to get the role from the notebook environment.\n",
    "role = get_execution_role()"
   ]
  },
  {
   "cell_type": "markdown",
   "id": "separated-cleveland",
   "metadata": {
    "papermill": {
     "duration": 0.007797,
     "end_time": "2021-06-01T00:16:30.996817",
     "exception": false,
     "start_time": "2021-06-01T00:16:30.989020",
     "status": "completed"
    },
    "tags": []
   },
   "source": [
    "Now we'll import the Python libraries we'll need."
   ]
  },
  {
   "cell_type": "code",
   "execution_count": 3,
   "id": "registered-edward",
   "metadata": {
    "execution": {
     "iopub.execute_input": "2021-06-01T00:16:31.016776Z",
     "iopub.status.busy": "2021-06-01T00:16:31.016143Z",
     "iopub.status.idle": "2021-06-01T00:16:31.017995Z",
     "shell.execute_reply": "2021-06-01T00:16:31.018361Z"
    },
    "papermill": {
     "duration": 0.013874,
     "end_time": "2021-06-01T00:16:31.018469",
     "exception": false,
     "start_time": "2021-06-01T00:16:31.004595",
     "status": "completed"
    },
    "tags": []
   },
   "outputs": [],
   "source": [
    "import boto3\n",
    "from sagemaker.tuner import (\n",
    "    IntegerParameter,\n",
    "    CategoricalParameter,\n",
    "    ContinuousParameter,\n",
    "    HyperparameterTuner,\n",
    ")"
   ]
  },
  {
   "cell_type": "markdown",
   "id": "wrapped-vienna",
   "metadata": {
    "papermill": {
     "duration": 0.007821,
     "end_time": "2021-06-01T00:16:31.034220",
     "exception": false,
     "start_time": "2021-06-01T00:16:31.026399",
     "status": "completed"
    },
    "tags": []
   },
   "source": [
    "## Tune\n",
    "Similar to training a single training job in Amazon SageMaker, you define the training estimator passing in the code scripts, IAM role, (per job) hardware configuration, and any hyperparameters you're not tuning."
   ]
  },
  {
   "cell_type": "code",
   "execution_count": 4,
   "id": "athletic-warner",
   "metadata": {
    "execution": {
     "iopub.execute_input": "2021-06-01T00:16:31.055300Z",
     "iopub.status.busy": "2021-06-01T00:16:31.054835Z",
     "iopub.status.idle": "2021-06-01T00:16:31.349022Z",
     "shell.execute_reply": "2021-06-01T00:16:31.348540Z"
    },
    "papermill": {
     "duration": 0.307113,
     "end_time": "2021-06-01T00:16:31.349133",
     "exception": false,
     "start_time": "2021-06-01T00:16:31.042020",
     "status": "completed"
    },
    "tags": []
   },
   "outputs": [],
   "source": [
    "from sagemaker.pytorch import PyTorch\n",
    "\n",
    "ENTRY_POINT = \"train.py\"\n",
    "CODE_PATH = \"./\"\n",
    "\n",
    "account = sess.boto_session.client(\"sts\").get_caller_identity()[\"Account\"]\n",
    "region = sess.boto_session.region_name\n",
    "\n",
    "params = {}\n",
    "params[\"dataset\"] = \"FB15k\"\n",
    "params[\"model\"] = \"DistMult\"\n",
    "params[\"batch_size\"] = 1024\n",
    "params[\"neg_sample_size\"] = 256\n",
    "params[\"hidden_dim\"] = 2000\n",
    "params[\"max_step\"] = 1000\n",
    "params[\"batch_size_eval\"] = 16\n",
    "params[\"valid\"] = True\n",
    "params[\"test\"] = True\n",
    "params[\"neg_adversarial_sampling\"] = True\n",
    "\n",
    "estimator = PyTorch(\n",
    "    entry_point=ENTRY_POINT,\n",
    "    source_dir=CODE_PATH,\n",
    "    role=role,\n",
    "    instance_count=1,\n",
    "    instance_type=\"ml.p3.2xlarge\",\n",
    "    framework_version=\"1.3.1\",\n",
    "    py_version=\"py3\",\n",
    "    debugger_hook_config=False,\n",
    "    hyperparameters=params,\n",
    "    sagemaker_session=sess,\n",
    ")"
   ]
  },
  {
   "cell_type": "markdown",
   "id": "hollywood-student",
   "metadata": {
    "papermill": {
     "duration": 0.008288,
     "end_time": "2021-06-01T00:16:31.366229",
     "exception": false,
     "start_time": "2021-06-01T00:16:31.357941",
     "status": "completed"
    },
    "tags": []
   },
   "source": [
    "After you define your estimator, specify the hyperparameters you want to tune and their possible values. You have three different types of hyperparameters.\n",
    "  * Categorical parameters need to take one value from a discrete set. Define this by passing the list of possible values to CategoricalParameter(list)\n",
    "  * Continuous parameters can take any real number value between the minimum and maximum value, defined by ContinuousParameter(min, max)\n",
    "  * Integer parameters can take any integer value between the minimum and maximum value, defined by IntegerParameter(min, max)\n",
    "  \n",
    "If possible, it's almost always best to specify a value as the least restrictive type. For example, tuning threshold as a continuous value between 0.01 and 0.2 is likely to yield a better result than tuning as a categorical parameter with possible values of 0.01, 0.1, 0.15, or 0.2."
   ]
  },
  {
   "cell_type": "code",
   "execution_count": 5,
   "id": "viral-criticism",
   "metadata": {
    "execution": {
     "iopub.execute_input": "2021-06-01T00:16:31.386260Z",
     "iopub.status.busy": "2021-06-01T00:16:31.385744Z",
     "iopub.status.idle": "2021-06-01T00:16:31.387596Z",
     "shell.execute_reply": "2021-06-01T00:16:31.387998Z"
    },
    "papermill": {
     "duration": 0.013551,
     "end_time": "2021-06-01T00:16:31.388113",
     "exception": false,
     "start_time": "2021-06-01T00:16:31.374562",
     "status": "completed"
    },
    "tags": []
   },
   "outputs": [],
   "source": [
    "hyperparameter_ranges = {\n",
    "    \"lr\": ContinuousParameter(0.01, 0.1),\n",
    "    \"gamma\": ContinuousParameter(400, 600),\n",
    "}"
   ]
  },
  {
   "cell_type": "markdown",
   "id": "incident-columbia",
   "metadata": {
    "papermill": {
     "duration": 0.008277,
     "end_time": "2021-06-01T00:16:31.404759",
     "exception": false,
     "start_time": "2021-06-01T00:16:31.396482",
     "status": "completed"
    },
    "tags": []
   },
   "source": [
    "Next, specify the objective metric that you want to tune and its definition. This includes the regular expression needed to extract that metric from the Amazon CloudWatch logs of the training job.\n",
    "\n",
    "You can capture evalution results such as MR, MRR and Hit10."
   ]
  },
  {
   "cell_type": "code",
   "execution_count": 6,
   "id": "public-working",
   "metadata": {
    "execution": {
     "iopub.execute_input": "2021-06-01T00:16:31.425428Z",
     "iopub.status.busy": "2021-06-01T00:16:31.424918Z",
     "iopub.status.idle": "2021-06-01T00:16:31.426898Z",
     "shell.execute_reply": "2021-06-01T00:16:31.427228Z"
    },
    "papermill": {
     "duration": 0.014232,
     "end_time": "2021-06-01T00:16:31.427339",
     "exception": false,
     "start_time": "2021-06-01T00:16:31.413107",
     "status": "completed"
    },
    "tags": []
   },
   "outputs": [],
   "source": [
    "metric = []\n",
    "mr_metric = {\"Name\": \"final_MR\", \"Regex\": \"Test average MR at \\[\\S*\\]: (\\S*)\"}\n",
    "mrr_metric = {\"Name\": \"final_MRR\", \"Regex\": \"Test average MRR at \\[\\S*\\]: (\\S*)\"}\n",
    "hit10_metric = {\"Name\": \"final_Hit10\", \"Regex\": \"Test average HITS@10 at \\[\\S*\\]: (\\S*)\"}\n",
    "metric.append(mr_metric)\n",
    "metric.append(mrr_metric)\n",
    "metric.append(hit10_metric)"
   ]
  },
  {
   "cell_type": "markdown",
   "id": "celtic-technical",
   "metadata": {
    "papermill": {
     "duration": 0.008322,
     "end_time": "2021-06-01T00:16:31.444057",
     "exception": false,
     "start_time": "2021-06-01T00:16:31.435735",
     "status": "completed"
    },
    "tags": []
   },
   "source": [
    "Now, create a HyperparameterTuner object, which you pass.\n",
    "\n",
    " * The training estimator you created above\n",
    " * The hyperparameter ranges\n",
    " * Objective metric name and definition\n",
    " * Number of training jobs to run in-total and how many training jobs should be run simultaneously. More parallel jobs will finish tuning sooner, but may sacrifice accuracy. We recommend that you set the parallel jobs value to less than 10 percent of the total number of training jobs It's set it higher in this example to keep it short.\n",
    " * Whether you should maximize or minimize the objective metric. You choose 'Minimize' in this example, which is what you want for the MR result.\n",
    "\n",
    "You can also add a task_tag with value 'DGL' to help tracking the hyperparameter tuning task."
   ]
  },
  {
   "cell_type": "code",
   "execution_count": 7,
   "id": "agricultural-network",
   "metadata": {
    "execution": {
     "iopub.execute_input": "2021-06-01T00:16:31.464646Z",
     "iopub.status.busy": "2021-06-01T00:16:31.464045Z",
     "iopub.status.idle": "2021-06-01T00:16:31.465907Z",
     "shell.execute_reply": "2021-06-01T00:16:31.466265Z"
    },
    "papermill": {
     "duration": 0.013925,
     "end_time": "2021-06-01T00:16:31.466382",
     "exception": false,
     "start_time": "2021-06-01T00:16:31.452457",
     "status": "completed"
    },
    "tags": []
   },
   "outputs": [],
   "source": [
    "task_tags = [{\"Key\": \"ML Task\", \"Value\": \"DGL\"}]\n",
    "tuner = HyperparameterTuner(\n",
    "    estimator,\n",
    "    objective_metric_name=\"final_MR\",\n",
    "    objective_type=\"Minimize\",\n",
    "    hyperparameter_ranges=hyperparameter_ranges,\n",
    "    metric_definitions=metric,\n",
    "    tags=task_tags,\n",
    "    max_jobs=2,\n",
    "    max_parallel_jobs=2,\n",
    ")"
   ]
  },
  {
   "cell_type": "markdown",
   "id": "ultimate-configuration",
   "metadata": {
    "papermill": {
     "duration": 0.00842,
     "end_time": "2021-06-01T00:16:31.483231",
     "exception": false,
     "start_time": "2021-06-01T00:16:31.474811",
     "status": "completed"
    },
    "tags": []
   },
   "source": [
    "And finally, you can start the tuning job by calling .fit()."
   ]
  },
  {
   "cell_type": "code",
   "execution_count": 8,
   "id": "broke-muslim",
   "metadata": {
    "execution": {
     "iopub.execute_input": "2021-06-01T00:16:31.503799Z",
     "iopub.status.busy": "2021-06-01T00:16:31.503072Z",
     "iopub.status.idle": "2021-06-01T00:33:17.670177Z",
     "shell.execute_reply": "2021-06-01T00:33:17.669318Z"
    },
    "papermill": {
     "duration": 1006.17873,
     "end_time": "2021-06-01T00:33:17.670401",
     "exception": true,
     "start_time": "2021-06-01T00:16:31.491671",
     "status": "failed"
    },
    "tags": []
   },
   "outputs": [
    {
     "name": "stdout",
     "output_type": "stream",
     "text": [
      ".............................................................................*\n"
     ]
    },
    {
     "ename": "UnexpectedStatusException",
     "evalue": "Error for HyperParameterTuning job pytorch-training-210602-1922: Failed. Reason: All training jobs failed. Please take a look at the training jobs failures to get more details.",
     "output_type": "error",
     "traceback": [
      "\u001b[0;31m---------------------------------------------------------------------------\u001b[0m",
      "\u001b[0;31mUnexpectedStatusException\u001b[0m                 Traceback (most recent call last)",
      "\u001b[0;32m<ipython-input-8-7a7c5f4753af>\u001b[0m in \u001b[0;36m<module>\u001b[0;34m\u001b[0m\n\u001b[0;32m----> 1\u001b[0;31m \u001b[0mtuner\u001b[0m\u001b[0;34m.\u001b[0m\u001b[0mfit\u001b[0m\u001b[0;34m(\u001b[0m\u001b[0;34m)\u001b[0m\u001b[0;34m\u001b[0m\u001b[0;34m\u001b[0m\u001b[0m\n\u001b[0m",
      "\u001b[0;32m~/anaconda3/envs/pytorch_p36/lib/python3.6/site-packages/sagemaker/tuner.py\u001b[0m in \u001b[0;36mfit\u001b[0;34m(self, inputs, job_name, include_cls_metadata, estimator_kwargs, wait, **kwargs)\u001b[0m\n\u001b[1;32m    447\u001b[0m \u001b[0;34m\u001b[0m\u001b[0m\n\u001b[1;32m    448\u001b[0m         \u001b[0;32mif\u001b[0m \u001b[0mwait\u001b[0m\u001b[0;34m:\u001b[0m\u001b[0;34m\u001b[0m\u001b[0;34m\u001b[0m\u001b[0m\n\u001b[0;32m--> 449\u001b[0;31m             \u001b[0mself\u001b[0m\u001b[0;34m.\u001b[0m\u001b[0mlatest_tuning_job\u001b[0m\u001b[0;34m.\u001b[0m\u001b[0mwait\u001b[0m\u001b[0;34m(\u001b[0m\u001b[0;34m)\u001b[0m\u001b[0;34m\u001b[0m\u001b[0;34m\u001b[0m\u001b[0m\n\u001b[0m\u001b[1;32m    450\u001b[0m \u001b[0;34m\u001b[0m\u001b[0m\n\u001b[1;32m    451\u001b[0m     \u001b[0;32mdef\u001b[0m \u001b[0m_fit_with_estimator\u001b[0m\u001b[0;34m(\u001b[0m\u001b[0mself\u001b[0m\u001b[0;34m,\u001b[0m \u001b[0minputs\u001b[0m\u001b[0;34m,\u001b[0m \u001b[0mjob_name\u001b[0m\u001b[0;34m,\u001b[0m \u001b[0minclude_cls_metadata\u001b[0m\u001b[0;34m,\u001b[0m \u001b[0;34m**\u001b[0m\u001b[0mkwargs\u001b[0m\u001b[0;34m)\u001b[0m\u001b[0;34m:\u001b[0m\u001b[0;34m\u001b[0m\u001b[0;34m\u001b[0m\u001b[0m\n",
      "\u001b[0;32m~/anaconda3/envs/pytorch_p36/lib/python3.6/site-packages/sagemaker/tuner.py\u001b[0m in \u001b[0;36mwait\u001b[0;34m(self)\u001b[0m\n\u001b[1;32m   1571\u001b[0m     \u001b[0;32mdef\u001b[0m \u001b[0mwait\u001b[0m\u001b[0;34m(\u001b[0m\u001b[0mself\u001b[0m\u001b[0;34m)\u001b[0m\u001b[0;34m:\u001b[0m\u001b[0;34m\u001b[0m\u001b[0;34m\u001b[0m\u001b[0m\n\u001b[1;32m   1572\u001b[0m         \u001b[0;34m\"\"\"Placeholder docstring.\"\"\"\u001b[0m\u001b[0;34m\u001b[0m\u001b[0;34m\u001b[0m\u001b[0m\n\u001b[0;32m-> 1573\u001b[0;31m         \u001b[0mself\u001b[0m\u001b[0;34m.\u001b[0m\u001b[0msagemaker_session\u001b[0m\u001b[0;34m.\u001b[0m\u001b[0mwait_for_tuning_job\u001b[0m\u001b[0;34m(\u001b[0m\u001b[0mself\u001b[0m\u001b[0;34m.\u001b[0m\u001b[0mname\u001b[0m\u001b[0;34m)\u001b[0m\u001b[0;34m\u001b[0m\u001b[0;34m\u001b[0m\u001b[0m\n\u001b[0m\u001b[1;32m   1574\u001b[0m \u001b[0;34m\u001b[0m\u001b[0m\n\u001b[1;32m   1575\u001b[0m \u001b[0;34m\u001b[0m\u001b[0m\n",
      "\u001b[0;32m~/anaconda3/envs/pytorch_p36/lib/python3.6/site-packages/sagemaker/session.py\u001b[0m in \u001b[0;36mwait_for_tuning_job\u001b[0;34m(self, job, poll)\u001b[0m\n\u001b[1;32m   3160\u001b[0m         \"\"\"\n\u001b[1;32m   3161\u001b[0m         \u001b[0mdesc\u001b[0m \u001b[0;34m=\u001b[0m \u001b[0m_wait_until\u001b[0m\u001b[0;34m(\u001b[0m\u001b[0;32mlambda\u001b[0m\u001b[0;34m:\u001b[0m \u001b[0m_tuning_job_status\u001b[0m\u001b[0;34m(\u001b[0m\u001b[0mself\u001b[0m\u001b[0;34m.\u001b[0m\u001b[0msagemaker_client\u001b[0m\u001b[0;34m,\u001b[0m \u001b[0mjob\u001b[0m\u001b[0;34m)\u001b[0m\u001b[0;34m,\u001b[0m \u001b[0mpoll\u001b[0m\u001b[0;34m)\u001b[0m\u001b[0;34m\u001b[0m\u001b[0;34m\u001b[0m\u001b[0m\n\u001b[0;32m-> 3162\u001b[0;31m         \u001b[0mself\u001b[0m\u001b[0;34m.\u001b[0m\u001b[0m_check_job_status\u001b[0m\u001b[0;34m(\u001b[0m\u001b[0mjob\u001b[0m\u001b[0;34m,\u001b[0m \u001b[0mdesc\u001b[0m\u001b[0;34m,\u001b[0m \u001b[0;34m\"HyperParameterTuningJobStatus\"\u001b[0m\u001b[0;34m)\u001b[0m\u001b[0;34m\u001b[0m\u001b[0;34m\u001b[0m\u001b[0m\n\u001b[0m\u001b[1;32m   3163\u001b[0m         \u001b[0;32mreturn\u001b[0m \u001b[0mdesc\u001b[0m\u001b[0;34m\u001b[0m\u001b[0;34m\u001b[0m\u001b[0m\n\u001b[1;32m   3164\u001b[0m \u001b[0;34m\u001b[0m\u001b[0m\n",
      "\u001b[0;32m~/anaconda3/envs/pytorch_p36/lib/python3.6/site-packages/sagemaker/session.py\u001b[0m in \u001b[0;36m_check_job_status\u001b[0;34m(self, job, desc, status_key_name)\u001b[0m\n\u001b[1;32m   3243\u001b[0m                 ),\n\u001b[1;32m   3244\u001b[0m                 \u001b[0mallowed_statuses\u001b[0m\u001b[0;34m=\u001b[0m\u001b[0;34m[\u001b[0m\u001b[0;34m\"Completed\"\u001b[0m\u001b[0;34m,\u001b[0m \u001b[0;34m\"Stopped\"\u001b[0m\u001b[0;34m]\u001b[0m\u001b[0;34m,\u001b[0m\u001b[0;34m\u001b[0m\u001b[0;34m\u001b[0m\u001b[0m\n\u001b[0;32m-> 3245\u001b[0;31m                 \u001b[0mactual_status\u001b[0m\u001b[0;34m=\u001b[0m\u001b[0mstatus\u001b[0m\u001b[0;34m,\u001b[0m\u001b[0;34m\u001b[0m\u001b[0;34m\u001b[0m\u001b[0m\n\u001b[0m\u001b[1;32m   3246\u001b[0m             )\n\u001b[1;32m   3247\u001b[0m \u001b[0;34m\u001b[0m\u001b[0m\n",
      "\u001b[0;31mUnexpectedStatusException\u001b[0m: Error for HyperParameterTuning job pytorch-training-210602-1922: Failed. Reason: All training jobs failed. Please take a look at the training jobs failures to get more details."
     ]
    }
   ],
   "source": [
    "tuner.fit()"
   ]
  },
  {
   "cell_type": "markdown",
   "id": "several-remark",
   "metadata": {},
   "source": [
    "Failure reason\n",
    "AlgorithmError: ExecuteUserScriptError: Command \"/opt/conda/bin/python train.py --batch_size 1024 --batch_size_eval 16 --dataset FB15k --gamma 450.5765246793021 --hidden_dim 2000 --lr 0.040522668643150406 --max_step 1000 --model DistMult --neg_adversarial_sampling True --neg_sample_size 256 --test True --valid True\" Traceback (most recent call last): File \"/opt/ml/code/dataloader/KGDataset.py\", line 15, in _download_and_extract with zipfile.ZipFile(fn) as zf: File \"/opt/conda/lib/python3.6/zipfile.py\", line 1090, in __init__ self.fp = io.open(file, filemode) FileNotFoundError: [Errno 2] No such file or directory: 'data/FB15k.zip' During handling of the above exception, another exception occurred: Traceback (most recent call last): File \"train.py\", line 389, in <module> run(args, logger) File \"train.py\", line 175, in run dataset = get_dataset(args.data_path, args.dataset, args.format) File \"/opt/ml/code/dataloader/KGDataset.py\", line 141, in get_dataset dataset = KGDataset1(data"
   ]
  },
  {
   "cell_type": "markdown",
   "id": "attached-beauty",
   "metadata": {
    "papermill": {
     "duration": null,
     "end_time": null,
     "exception": null,
     "start_time": null,
     "status": "pending"
    },
    "tags": []
   },
   "source": [
    "Run a quick check of the hyperparameter tuning jobs status to make sure it started successfully and is InProgress."
   ]
  },
  {
   "cell_type": "code",
   "execution_count": null,
   "id": "alien-disclosure",
   "metadata": {
    "papermill": {
     "duration": null,
     "end_time": null,
     "exception": null,
     "start_time": null,
     "status": "pending"
    },
    "tags": []
   },
   "outputs": [],
   "source": [
    "boto3.client(\"sagemaker\").describe_hyper_parameter_tuning_job(\n",
    "    HyperParameterTuningJobName=tuner.latest_tuning_job.job_name\n",
    ")[\"HyperParameterTuningJobStatus\"]"
   ]
  },
  {
   "cell_type": "markdown",
   "id": "pleased-irish",
   "metadata": {
    "papermill": {
     "duration": null,
     "end_time": null,
     "exception": null,
     "start_time": null,
     "status": "pending"
    },
    "tags": []
   },
   "source": [
    "## Wrap-up\n",
    "Now that we've started the hyperparameter tuning job, it will run in the background. You can close this notebook. When it's finished, you can go to console to analyze the result.\n",
    "\n",
    "For more information about Amazon SageMaker's Hyperparameter Tuning, see the AWS documentation."
   ]
  }
 ],
 "metadata": {
  "kernelspec": {
   "display_name": "Environment (conda_pytorch_p36)",
   "language": "python",
   "name": "conda_pytorch_p36"
  },
  "language_info": {
   "codemirror_mode": {
    "name": "ipython",
    "version": 3
   },
   "file_extension": ".py",
   "mimetype": "text/x-python",
   "name": "python",
   "nbconvert_exporter": "python",
   "pygments_lexer": "ipython3",
   "version": "3.6.10"
  },
  "papermill": {
   "default_parameters": {},
   "duration": 1010.233212,
   "end_time": "2021-06-01T00:33:18.886386",
   "environment_variables": {},
   "exception": true,
   "input_path": "kge_pytorch_hypertune.ipynb",
   "output_path": "/opt/ml/processing/output/kge_pytorch_hypertune-2021-06-01-00-12-39.ipynb",
   "parameters": {
    "kms_key": "arn:aws:kms:us-west-2:521695447989:key/6e9984db-50cf-4c7e-926c-877ec47a8b25"
   },
   "start_time": "2021-06-01T00:16:28.653174",
   "version": "2.3.3"
  }
 },
 "nbformat": 4,
 "nbformat_minor": 5
}
