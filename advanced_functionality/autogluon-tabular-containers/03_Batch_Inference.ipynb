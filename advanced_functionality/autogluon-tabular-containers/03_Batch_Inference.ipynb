{
 "cells": [
  {
   "cell_type": "code",
   "execution_count": null,
   "id": "ef111229",
   "metadata": {},
   "outputs": [],
   "source": [
    "import sagemaker\n",
    "import pandas as pd\n",
    "import numpy as np\n",
    "from ag_model import AutoGluonInferenceModel, AutoGluonTabularPredictor\n",
    "from sagemaker import utils\n",
    "import os"
   ]
  },
  {
   "cell_type": "markdown",
   "id": "88766262",
   "metadata": {},
   "source": [
    "# Batch Transform"
   ]
  },
  {
   "cell_type": "code",
   "execution_count": null,
   "id": "27403ba5",
   "metadata": {},
   "outputs": [],
   "source": [
    "role = sagemaker.get_execution_role()\n",
    "sagemaker_session = sagemaker.session.Session()"
   ]
  },
  {
   "cell_type": "code",
   "execution_count": null,
   "id": "0aa0a97c",
   "metadata": {},
   "outputs": [],
   "source": [
    "!ls -alF model.tar.gz"
   ]
  },
  {
   "cell_type": "code",
   "execution_count": null,
   "id": "4a790a00",
   "metadata": {},
   "outputs": [],
   "source": [
    "model_dir = '.'\n",
    "endpoint_name = sagemaker.utils.unique_name_from_base(\"sagemaker-autogluon-serving-trained-model\")\n",
    "endpoint_name"
   ]
  },
  {
   "cell_type": "code",
   "execution_count": null,
   "id": "b843817e",
   "metadata": {},
   "outputs": [],
   "source": [
    "model_data = sagemaker_session.upload_data(path=os.path.join(model_dir, 'model.tar.gz'), key_prefix=f'{endpoint_name}/models')\n",
    "model_data"
   ]
  },
  {
   "cell_type": "code",
   "execution_count": null,
   "id": "2bbc62e4",
   "metadata": {},
   "outputs": [],
   "source": [
    "bucket = sagemaker_session.default_bucket()\n",
    "s3_prefix = 'autogluon_sm/{}'.format(utils.sagemaker_timestamp())\n",
    "output_path = f\"s3://{bucket}/{s3_prefix}/output/\""
   ]
  },
  {
   "cell_type": "code",
   "execution_count": null,
   "id": "ea4fa181",
   "metadata": {},
   "outputs": [],
   "source": [
    "model = AutoGluonInferenceModel(\n",
    "    model_data=model_data, \n",
    "    role=role, \n",
    "    entry_point=\"tabular_serve-batch.py\",\n",
    "    source_dir=\"scripts\",\n",
    "    predictor_cls=AutoGluonTabularPredictor,\n",
    ")"
   ]
  },
  {
   "cell_type": "code",
   "execution_count": null,
   "id": "16e9c25d",
   "metadata": {},
   "outputs": [],
   "source": [
    "transformer = model.transformer(\n",
    "    instance_count=1, \n",
    "    instance_type=\"ml.m5.2xlarge\",\n",
    "    strategy=\"MultiRecord\",\n",
    "    max_payload=6,\n",
    "    max_concurrent_transforms=1,\n",
    "    output_path=output_path,\n",
    "    accept='application/json',  \n",
    "    assemble_with='Line',\n",
    "    \n",
    ")"
   ]
  },
  {
   "cell_type": "markdown",
   "id": "a06dae9b",
   "metadata": {},
   "source": [
    "Remove header and index column"
   ]
  },
  {
   "cell_type": "code",
   "execution_count": null,
   "id": "c27b690e",
   "metadata": {},
   "outputs": [],
   "source": [
    "!wget https://autogluon.s3.amazonaws.com/datasets/Inc/test.csv -O data/test.csv"
   ]
  },
  {
   "cell_type": "code",
   "execution_count": null,
   "id": "329543ef",
   "metadata": {},
   "outputs": [],
   "source": [
    "pd.read_csv(f'data/test.csv')[:100].to_csv('data/test_no_header.csv', header=False, index=False)"
   ]
  },
  {
   "cell_type": "markdown",
   "id": "471d9f92",
   "metadata": {},
   "source": [
    "Upload data to sagemaker session"
   ]
  },
  {
   "cell_type": "code",
   "execution_count": null,
   "id": "e00e692a",
   "metadata": {},
   "outputs": [],
   "source": [
    "data_path = os.path.join('data')\n",
    "test_input = transformer.sagemaker_session.upload_data(path=os.path.join(data_path, f'test_no_header.csv'), key_prefix=s3_prefix)\n",
    "test_input"
   ]
  },
  {
   "cell_type": "code",
   "execution_count": null,
   "id": "b822c5b8",
   "metadata": {},
   "outputs": [],
   "source": [
    "transformer.transform(\n",
    "    test_input, \n",
    "    input_filter='$[:13]', \n",
    "    split_type='Line', \n",
    "    content_type='text/csv',  \n",
    "    output_filter=\"$['class']\",\n",
    ")"
   ]
  },
  {
   "cell_type": "code",
   "execution_count": null,
   "id": "d0c8876a",
   "metadata": {},
   "outputs": [],
   "source": [
    "transformer.wait()"
   ]
  },
  {
   "cell_type": "markdown",
   "id": "e6e49888",
   "metadata": {},
   "source": [
    "### Download batch transform outputs"
   ]
  },
  {
   "cell_type": "code",
   "execution_count": null,
   "id": "2bc548fd",
   "metadata": {},
   "outputs": [],
   "source": [
    "!aws s3 cp {transformer.output_path[:-1]}/test_no_header.csv.out ."
   ]
  },
  {
   "cell_type": "code",
   "execution_count": null,
   "id": "873d61f1",
   "metadata": {},
   "outputs": [],
   "source": [
    "p = pd.concat([\n",
    "    pd.read_json('test_no_header.csv.out', orient='index').sort_index().rename(columns={0: 'preds'}),\n",
    "    pd.read_csv('data/test.csv')[['class']].iloc[:100].rename(columns={'class': 'actual'}),\n",
    "], axis=1)\n",
    "p.head()"
   ]
  },
  {
   "cell_type": "code",
   "execution_count": null,
   "id": "567f7ccd",
   "metadata": {},
   "outputs": [],
   "source": [
    "print(f'{(p.preds==p.actual).astype(int).sum()}/{len(p)} are correct')"
   ]
  },
  {
   "cell_type": "code",
   "execution_count": null,
   "id": "66ce0265",
   "metadata": {},
   "outputs": [],
   "source": []
  }
 ],
 "metadata": {
  "instance_type": "ml.t3.medium",
  "kernelspec": {
   "display_name": "Python 3 (SageMaker JumpStart MXNet 1.0)",
   "language": "python",
   "name": "python3__SAGEMAKER_INTERNAL__arn:aws:sagemaker:us-west-2:787968894560:image/sagemaker-jumpstart-mxnet-1.0"
  },
  "language_info": {
   "codemirror_mode": {
    "name": "ipython",
    "version": 3
   },
   "file_extension": ".py",
   "mimetype": "text/x-python",
   "name": "python",
   "nbconvert_exporter": "python",
   "pygments_lexer": "ipython3",
   "version": "3.7.10"
  }
 },
 "nbformat": 4,
 "nbformat_minor": 5
}
