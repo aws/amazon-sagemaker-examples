{
 "cells": [
  {
   "cell_type": "markdown",
   "metadata": {},
   "source": [
    "# Running mlagents-learn on SageMaker"
   ]
  },
  {
   "cell_type": "markdown",
   "metadata": {},
   "source": [
    "## Introduction\n",
    "[The Unity Machine Learning Agents Toolkit (ML-Agents)](https://github.com/Unity-Technologies/ml-agents) is an open-source project that enables games and simulations to serve as environments for training intelligent agents. \n",
    "This notebook contains instructions for setting up SageMaker for using a command-line utility mlagents-learn."
   ]
  },
  {
   "cell_type": "markdown",
   "metadata": {},
   "source": [
    "## Pre-requisites"
   ]
  },
  {
   "cell_type": "markdown",
   "metadata": {},
   "source": [
    "### Build an Environment Executable\n",
    "We need a built environment to use mlagents-learn on SageMaker. Please follow the instruction [here](https://github.com/Unity-Technologies/ml-agents/blob/master/docs/Learning-Environment-Executable.md) to create a built environment for Linux, and upload the executable file and the dependency folder to s3."
   ]
  },
  {
   "cell_type": "code",
   "execution_count": null,
   "metadata": {},
   "outputs": [],
   "source": [
    "data_location = \"<s3 prefix of your executable file and the dependency folder>\""
   ]
  },
  {
   "cell_type": "markdown",
   "metadata": {},
   "source": [
    "### Imports\n",
    "We'll begin with some necessary imports, and get an Amazon SageMaker session to help perform certain tasks, as well as an IAM role with the necessary permissions."
   ]
  },
  {
   "cell_type": "code",
   "execution_count": null,
   "metadata": {},
   "outputs": [],
   "source": [
    "import sagemaker\n",
    "import boto3\n",
    "import re\n",
    "import os\n",
    "import numpy as np\n",
    "import pandas as pd\n",
    "from docker_utils import build_and_push_docker_image\n",
    "\n",
    "role = sagemaker.get_execution_role()"
   ]
  },
  {
   "cell_type": "markdown",
   "metadata": {},
   "source": [
    "### Setup S3 bucket\n",
    "Set up the linkage and authentication to the S3 bucket that you want to use for checkpoint and the metadata."
   ]
  },
  {
   "cell_type": "code",
   "execution_count": null,
   "metadata": {},
   "outputs": [],
   "source": [
    "sage_session = sagemaker.session.Session()\n",
    "local_session = sagemaker.local.LocalSession()\n",
    "s3_bucket = sage_session.default_bucket()  \n",
    "s3_output_path = 's3://{}/'.format(s3_bucket)\n",
    "print(\"S3 bucket path: {}\".format(s3_output_path))"
   ]
  },
  {
   "cell_type": "markdown",
   "metadata": {},
   "source": [
    "### Configure where training happens\n",
    "You can train your training jobs using the SageMaker notebook instance or local notebook instance. In both of these scenarios, you can run the following in either local or SageMaker modes. The local mode uses the SageMaker Python SDK to run your code in a local container before deploying to SageMaker. This can speed up iterative testing and debugging while using the same familiar Python SDK interface. You just need to set local_mode = True."
   ]
  },
  {
   "cell_type": "code",
   "execution_count": null,
   "metadata": {},
   "outputs": [],
   "source": [
    "# run in local_mode on this machine, or as a SageMaker TrainingJob?\n",
    "local_mode = True\n",
    "\n",
    "if local_mode:\n",
    "    instance_type = 'local'\n",
    "    sess = local_session\n",
    "    !/bin/bash ./setup.sh\n",
    "else:\n",
    "    # If on SageMaker, pick the instance type\n",
    "    instance_type = \"ml.c5.2xlarge\"\n",
    "    sess = sage_session"
   ]
  },
  {
   "cell_type": "markdown",
   "metadata": {},
   "source": [
    "## Create an estimator and fit the model\n",
    "We also need a trainer config file which defines the training hyperparameters for each Behavior in the scene, and the set-ups for the environment parameters. Please refer [this doc](https://github.com/Unity-Technologies/ml-agents/blob/2d0eb6147c031c082522eb683e569dd99b4d65fb/docs/Training-ML-Agents.md#training-configurations) for detailed info.\n",
    "As a sample, we are providing src/train.yaml which is [the config file to train the 3D Balance Ball](https://github.com/Unity-Technologies/ml-agents/blob/eedc3f9c052295d89bed0ac40a8e82a8fd17fead/config/ppo/3DBall.yaml) in the [Getting Started guide](https://github.com/Unity-Technologies/ml-agents/blob/2d0eb6147c031c082522eb683e569dd99b4d65fb/docs/Getting-Started.md).\n",
    "Because the config file is version specific. Please replace the file if you want to use another version. You can change the version of ml-agents specifying the version on src/requirements.txt. Tensorflow version can be specified changing the framework_version of the TensorFlow estimator.\n",
    "\n",
    "Note: set env_name as your game execute file e.g. 3DBall.x86_64"
   ]
  },
  {
   "cell_type": "code",
   "execution_count": null,
   "metadata": {},
   "outputs": [],
   "source": [
    "from sagemaker.tensorflow import TensorFlow\n",
    "\n",
    "metric_definitions = [\n",
    "    {'Name': 'train:mean reward', 'Regex': 'Mean Reward: ([0-9]*.[0-9]*)'},\n",
    "    {'Name': 'train:std of reward', 'Regex': 'Std of Reward: ([0-9]*.[0-9]*)'},\n",
    "    {'Name': 'train:step', 'Regex': 'Step: ([0-9]*.)'}\n",
    "]\n",
    "\n",
    "estimator = TensorFlow(entry_point='train.py',\n",
    "                       source_dir='src',\n",
    "                       train_instance_type=instance_type,\n",
    "                       train_instance_count=1,\n",
    "                       hyperparameters={'env_name': '<your env name>','yaml_file':'train.yaml'},\n",
    "                       role=role,\n",
    "                       framework_version='1.15.2',\n",
    "                       py_version='py37',\n",
    "                       metric_definitions=metric_definitions,\n",
    "                       script_mode=True)\n",
    "\n",
    "estimator.fit({\"train\":data_location})"
   ]
  },
  {
   "cell_type": "markdown",
   "metadata": {},
   "source": [
    "## Plot metrics for training job"
   ]
  },
  {
   "cell_type": "code",
   "execution_count": null,
   "metadata": {},
   "outputs": [],
   "source": [
    "%matplotlib inline\n",
    "from sagemaker.analytics import TrainingJobAnalytics\n",
    "\n",
    "job_name = estimator.latest_training_job.job_name\n",
    "\n",
    "if not local_mode:\n",
    "    try:\n",
    "        df = TrainingJobAnalytics(job_name, ['train:mean reward']).dataframe()\n",
    "    except KeyError:\n",
    "        print(\"Training job '{}' is not ready, please check later.\".format(job_name))\n",
    "    num_metrics = len(df)\n",
    "    if num_metrics == 0:\n",
    "        print(\"No algorithm metrics found in CloudWatch\")\n",
    "    else:\n",
    "        plt = df.plot(x='timestamp', y='value', figsize=(12,5), legend=True, style='b-')\n",
    "        plt.set_ylabel('Mean reward')\n",
    "        plt.set_xlabel('Training time (s)')\n",
    "else:\n",
    "    print(\"Can't plot metrics in local mode.\")"
   ]
  }
 ],
 "metadata": {
  "kernelspec": {
   "display_name": "conda_tensorflow_p36",
   "language": "python",
   "name": "conda_tensorflow_p36"
  },
  "language_info": {
   "codemirror_mode": {
    "name": "ipython",
    "version": 3
   },
   "file_extension": ".py",
   "mimetype": "text/x-python",
   "name": "python",
   "nbconvert_exporter": "python",
   "pygments_lexer": "ipython3",
   "version": "3.6.10"
  }
 },
 "nbformat": 4,
 "nbformat_minor": 2
}
