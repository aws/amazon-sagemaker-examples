{
 "cells": [
  {
   "cell_type": "markdown",
   "metadata": {},
   "source": [
    "# Visualizing Debugging Tensors of MXNet training"
   ]
  },
  {
   "cell_type": "markdown",
   "metadata": {},
   "source": [
    "### Overview"
   ]
  },
  {
   "cell_type": "markdown",
   "metadata": {},
   "source": [
    "SageMaker Debugger is a new capability of Amazon SageMaker that allows debugging machine learning models. \n",
    "It lets you go beyond just looking at scalars like losses and accuracies during training and gives \n",
    "you full visibility into all the tensors 'flowing through the graph' during training. SageMaker Debugger helps you to monitor your training in near real time using rules and would provide you alerts, once it has detected an inconsistency in the training flow.\n",
    "\n",
    "Using SageMaker Debugger is a two step process: Saving tensors and Analysis. In this notebook we will run an MXNet training job and configure SageMaker Debugger to store all tensors from this job. Afterwards we will visualize those tensors in our notebook.\n"
   ]
  },
  {
   "cell_type": "markdown",
   "metadata": {},
   "source": [
    "### Dependencies\n",
    "Before we begin, let us install the library plotly if it is not already present in the environment.\n",
    "If the below cell installs the library for the first time, you'll have to restart the kernel and come back to the notebook. In addition to that, in order for our vizualiation to access tensors let's install smdebug - debugger library that provides API access to tensors emitted during training job."
   ]
  },
  {
   "cell_type": "code",
   "execution_count": null,
   "metadata": {},
   "outputs": [],
   "source": [
    "! python -m pip install plotly\n",
    "! python -m pip install smdebug"
   ]
  },
  {
   "cell_type": "markdown",
   "metadata": {},
   "source": [
    "### Configure and run the training job\n",
    "\n",
    "Now we'll call the Sagemaker MXNet Estimator to kick off a training job with Debugger attached to it.\n",
    "\n",
    "The `entry_point_script` points to the MXNet training script."
   ]
  },
  {
   "cell_type": "code",
   "execution_count": null,
   "metadata": {},
   "outputs": [],
   "source": [
    "import os\n",
    "import sagemaker\n",
    "from sagemaker.debugger import DebuggerHookConfig, CollectionConfig\n",
    "from sagemaker.mxnet import MXNet\n",
    "\n",
    "sagemaker_session = sagemaker.Session()\n",
    "\n",
    "entry_point_script = './scripts/mxnet_gluon_save_all_demo.py'\n",
    "hyperparameters = {'batch-size': 256}\n",
    "base_job_name = 'mnist-tensor-plot'\n",
    "\n",
    "# Make sure to set this to your bucket and location\n",
    "BUCKET_NAME = sagemaker_session.default_bucket()\n",
    "LOCATION_IN_BUCKET = 'mnist-tensor-plot'\n",
    "s3_bucket_for_tensors = 's3://{BUCKET_NAME}/{LOCATION_IN_BUCKET}'.format(BUCKET_NAME=BUCKET_NAME, LOCATION_IN_BUCKET=LOCATION_IN_BUCKET)\n",
    "\n",
    "estimator = MXNet(role=sagemaker.get_execution_role(),\n",
    "                  base_job_name=base_job_name,\n",
    "                  train_instance_count=1,\n",
    "                  train_instance_type='ml.m4.xlarge',\n",
    "                  entry_point=entry_point_script,\n",
    "                  framework_version='1.6.0',\n",
    "                  train_max_run=3600,\n",
    "                  sagemaker_session=sagemaker_session,\n",
    "                  py_version='py3',\n",
    "                  debugger_hook_config = DebuggerHookConfig(\n",
    "                      s3_output_path=s3_bucket_for_tensors,  # Required\n",
    "                      collection_configs=[\n",
    "                          CollectionConfig(\n",
    "                              name=\"all_tensors\",\n",
    "                              parameters={\n",
    "                                  \"include_regex\": \".*\",\n",
    "                                  \"save_steps\": \"1, 2, 3\"\n",
    "                              }\n",
    "                          )\n",
    "                      ]\n",
    "                  ))"
   ]
  },
  {
   "cell_type": "markdown",
   "metadata": {},
   "source": [
    "Estimator described above will save all tensors of all layers during steps 1, 2 and 3. Now, let's start the training job:"
   ]
  },
  {
   "cell_type": "code",
   "execution_count": null,
   "metadata": {},
   "outputs": [],
   "source": [
    "estimator.fit()"
   ]
  },
  {
   "cell_type": "markdown",
   "metadata": {},
   "source": [
    "### Get S3 location of tensors"
   ]
  },
  {
   "cell_type": "markdown",
   "metadata": {},
   "source": [
    "Now we can retrieve the S3 location of the tensors:"
   ]
  },
  {
   "cell_type": "code",
   "execution_count": null,
   "metadata": {},
   "outputs": [],
   "source": [
    "tensors_path = estimator.latest_job_debugger_artifacts_path()\n",
    "print('S3 location of tensors is: ', tensors_path)"
   ]
  },
  {
   "cell_type": "markdown",
   "metadata": {},
   "source": [
    "### Download tensors from S3\n",
    "\n",
    "Next we download the tensors from S3, so that we can visualize them in the notebook."
   ]
  },
  {
   "cell_type": "code",
   "execution_count": null,
   "metadata": {},
   "outputs": [],
   "source": [
    "folder_name = tensors_path.split(\"/\")[-1]\n",
    "os.system(\"aws s3 cp --recursive \" + tensors_path + \" \" + folder_name)\n",
    "print('Downloaded tensors into folder: ', folder_name)"
   ]
  },
  {
   "cell_type": "markdown",
   "metadata": {},
   "source": [
    "### Visualize\n",
    "The main purpose of this class (TensorPlot) is to visualise the tensors in your network. This could be to determine dead or saturated activations, or the features maps the network.\n",
    "\n",
    "To use this class (TensorPlot), you will need to supply the argument regex with the tensors you are interested in. e.g., if you are interested in activation outputs, then you need to supply the following regex .*relu|.*tanh|.*sigmoid.\n",
    "\n",
    "Another important argument is the `sample_batch_id`, which allows you to specify the index of the batch size to display. For example, given an input tensor of size (batch_size, channel, width, height), `sample_batch_id = n` will display (n, channel, width, height). If you set sample_batch_id = -1 then the tensors will be summed over the batch dimension (i.e., `np.sum(tensor, axis=0)`). If batch_sample_id is None then each sample will be plotted as separate layer in the figure.\n",
    "\n",
    "Here are some interesting use cases:\n",
    "\n",
    "1) If you want to determine dead or saturated activations for instance ReLus that are always outputting zero, then you would want to sum the batch dimension (sample_batch_id=-1). The sum gives an indication which parts of the network are inactive across a batch.\n",
    "\n",
    "2) If you are interested in the feature maps for the first image in the batch, then you should provide batch_sample_id=0. This can be helpful if your model is not performing well for certain set of samples and you want to understand which activations are leading to misprediction.\n",
    "\n",
    "An example visualization of layer outputs:\n",
    "![](./images/tensorplot.gif)\n",
    "\n",
    "\n",
    "`TensorPlot` normalizes tensor values to the range 0 to 1 which means colorscales are the same across layers. Blue indicates value close to 0 and yellow indicates values close to 1. This class has been designed to plot convolutional networks that take 2D images as input and predict classes or produce output images. You can use this  for other types of networks like RNNs, but you may have to adjust the class as it is currently neglecting tensors that have more than 4 dimensions.\n",
    "\n",
    "Let's plot Relu output activations for the given MNIST training example."
   ]
  },
  {
   "cell_type": "code",
   "execution_count": null,
   "metadata": {},
   "outputs": [],
   "source": [
    "import tensor_plot \n",
    "\n",
    "visualization = tensor_plot.TensorPlot(\n",
    "    regex=\".*relu_output\", \n",
    "    path=folder_name,\n",
    "    steps=10,  \n",
    "    batch_sample_id=0,\n",
    "    color_channel = 1,\n",
    "    title=\"Relu outputs\",\n",
    "    label=\".*sequential0_input_0\",\n",
    "    prediction=\".*sequential0_output_0\"\n",
    ")"
   ]
  },
  {
   "cell_type": "markdown",
   "metadata": {},
   "source": [
    "If we plot too many layers, it can crash the notebook. If you encounter performance or out of memory issues, then either try to reduce the layers to plot by changing the `regex` or run this Notebook in JupyterLab instead of Jupyter. \n",
    "\n",
    "In the below cell we vizualize outputs of all layers, including final classification. Please note that because training job ran only for 1 epoch classification accuracy is not high."
   ]
  },
  {
   "cell_type": "code",
   "execution_count": null,
   "metadata": {},
   "outputs": [],
   "source": [
    "visualization.fig.show(renderer=\"iframe\")"
   ]
  },
  {
   "cell_type": "markdown",
   "metadata": {},
   "source": [
    "For additional example of working with debugging tensors and visualizing them in real time please feel free to try it out at [MXNet realtime analysis](../mxnet_realtime_analysis/mxnet-realtime-analysis.ipynb) example."
   ]
  }
 ],
 "metadata": {
  "hide_input": false,
  "kernelspec": {
   "display_name": "conda_mxnet_p36",
   "language": "python",
   "name": "conda_mxnet_p36"
  },
  "language_info": {
   "codemirror_mode": {
    "name": "ipython",
    "version": 3
   },
   "file_extension": ".py",
   "mimetype": "text/x-python",
   "name": "python",
   "nbconvert_exporter": "python",
   "pygments_lexer": "ipython3",
   "version": "3.6.5"
  }
 },
 "nbformat": 4,
 "nbformat_minor": 4
}
