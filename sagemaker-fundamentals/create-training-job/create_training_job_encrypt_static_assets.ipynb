{
 "cells": [
  {
   "cell_type": "markdown",
   "id": "italian-switch",
   "metadata": {},
   "source": [
    "# Training Job with Encrypted Static Assets\n",
    "\n",
    "In the [notebook about creating a training job in VPC mode](https://github.com/aws/amazon-sagemaker-examples/blob/master/sagemaker-fundamentals/create-training-job/create_training_job_vpc.ipynb) you learnt how to create a SageMaker training job with network isolation. Network isolation enables you to protect your data and model from being intercepted by cyber pirates. \n",
    "\n",
    "![pirate](assets/pirate.jpg)"
   ]
  },
  {
   "cell_type": "markdown",
   "id": "handled-compact",
   "metadata": {},
   "source": [
    "Another way you can protect your static assets is to encrypt them before moving them from location A to location B. In this notebook, you will walk through a few techniques on that with the help of AWS Key Management Service [(AWS KMS)](https://docs.aws.amazon.com/kms/latest/developerguide/overview.html).\n",
    "\n",
    "Encryption is a wildly used technology, in addition to the above introductory material, you can find many free lectures online. "
   ]
  },
  {
   "cell_type": "markdown",
   "id": "ceramic-movement",
   "metadata": {},
   "source": [
    "## Symmetric Ciphers\n",
    "We will focus on symmetric ciphers in this notebook. Quote from the GNU Privacy Handbook\n",
    "\n",
    "> A symmetric cipher is a cipher that uses the same key for both encryption and decryption. Two parties communicating using a symmetric cipher must agree on the key beforehand. Once they agree, the sender encrypts a message using the key, sends it to the receiver, and the receiver decrypts the message using the key. As an example, the German Enigma is a symmetric cipher, and daily keys were distributed as code books. Each day, a sending or receiving radio operator would consult his copy of the code book to find the day's key. Radio traffic for that day was then encrypted and decrypted using the day's key. Modern examples of symmetric ciphers include 3DES, Blowfish, and IDEA."
   ]
  },
  {
   "cell_type": "markdown",
   "id": "extended-culture",
   "metadata": {},
   "source": [
    "## Environment to run this notebook\n",
    "You can run this notebook on your local machine or EC2 instance as an IAM user or you can run it on SageMaker Notebook Instance as a SageMaker service role. To avoid confusion, we will assume you are running it as an IAM user."
   ]
  },
  {
   "cell_type": "markdown",
   "id": "employed-verse",
   "metadata": {},
   "source": [
    "## Permissions\n",
    "You will need to attach the following permissions to the IAM user\n",
    "\n",
    "* IAMFullAccess \n",
    "* AWSKeyManagementServicePowerUser\n",
    "* AmazonEC2ContainerRegistryFullAccess"
   ]
  },
  {
   "cell_type": "markdown",
   "id": "certain-johnson",
   "metadata": {},
   "source": [
    "## Outline of this notebook\n",
    "\n",
    "* Generate a symmetric customer master key (CMK)\n",
    "* Allow your SageMaker service role to use the CMK\n",
    "* Generate a data key from the CMK\n",
    "* Encrypt some data with the data key and upload the encrypted data to S3\n",
    "* Create a SageMaker service role\n",
    "* Build a training image \n",
    "* Create a SageMaker training job using the encrypted data\n",
    "* Verify that data retrieved from S3 is encrypted and SageMaker needs your data key to decrypt\n",
    "\n",
    "The process of using a data key to encrypt your data instead of using master key directly is called [**envelope encryption**](https://docs.aws.amazon.com/kms/latest/developerguide/concepts.html#enveloping)\n",
    "You can directly use the master key to encrypt your data, but by using a data key, you reduced the risk of [man-in-the-middle-attack](https://en.wikipedia.org/wiki/Man-in-the-middle_attack). \n",
    "We will discuss the use of data key in detail later. \n",
    "\n",
    "![envelope-encryption](assets/envelope-encryption.jpg)"
   ]
  },
  {
   "cell_type": "code",
   "execution_count": null,
   "id": "boxed-czech",
   "metadata": {},
   "outputs": [],
   "source": [
    "# set ups\n",
    "import boto3\n",
    "import datetime\n",
    "import json\n",
    "import pprint\n",
    "\n",
    "pp = pprint.PrettyPrinter(indent=1)\n",
    "kms = boto3.client('kms') "
   ]
  },
  {
   "cell_type": "code",
   "execution_count": null,
   "id": "intermediate-receipt",
   "metadata": {},
   "outputs": [],
   "source": [
    "# Some helper functions\n",
    "\n",
    "def current_time():\n",
    "    ct = datetime.datetime.now() \n",
    "    return str(ct.now()).replace(\":\", \"-\").replace(\" \", \"-\")[:19]\n",
    "\n",
    "def account_id():\n",
    "    return boto3.client('sts').get_caller_identity()['Account']"
   ]
  },
  {
   "cell_type": "markdown",
   "id": "aggregate-japanese",
   "metadata": {},
   "source": [
    "### Generate a symmetric customer master key\n",
    "\n",
    "You will use [kms:CreateKey](https://boto3.amazonaws.com/v1/documentation/api/latest/reference/services/kms.html#KMS.Client.create_key) API to generate a **symmetric customer master key** used for **encryption** and **decryption**. You need to use a IAM policy to define who has access (and with what level of access) to the key. \n",
    "If you create the key from AWS console, then by following the default steps you will end up the following key policy:"
   ]
  },
  {
   "cell_type": "code",
   "execution_count": null,
   "id": "horizontal-cookie",
   "metadata": {},
   "outputs": [],
   "source": [
    "root_arn = f\"arn:aws:iam::{account_id()}:root\"\n",
    "user_arn = boto3.client('sts').get_caller_identity()['Arn']\n",
    "\n",
    "key_policy = {\n",
    "    \"Id\": \"key-consolepolicy-3\",\n",
    "    \"Version\": \"2012-10-17\",\n",
    "    \"Statement\": [\n",
    "        {\n",
    "            \"Sid\": \"Enable IAM User Permissions\",\n",
    "            \"Effect\": \"Allow\",\n",
    "            \"Principal\": {\n",
    "                \"AWS\": root_arn # enable root user to perform all actions\n",
    "            },\n",
    "            \"Action\": \"kms:*\",\n",
    "            \"Resource\": \"*\"\n",
    "        },\n",
    "        \n",
    "        {\n",
    "            \"Sid\": \"Allow access for Key Administrators\",\n",
    "            \"Effect\": \"Allow\",\n",
    "            \"Principal\": {\n",
    "                \"AWS\": [user_arn]   # give myself admin permission to this key\n",
    "                                     # you can add more admin users by appending this list\n",
    "            },\n",
    "            \"Action\": [\n",
    "                \"kms:Create*\",\n",
    "                \"kms:Describe*\",\n",
    "                \"kms:Enable*\",\n",
    "                \"kms:List*\",\n",
    "                \"kms:Put*\",\n",
    "                \"kms:Update*\",\n",
    "                \"kms:Revoke*\",\n",
    "                \"kms:Disable*\",\n",
    "                \"kms:Get*\",\n",
    "                \"kms:Delete*\",\n",
    "                \"kms:TagResource\",\n",
    "                \"kms:UntagResource\",\n",
    "                \"kms:ScheduleKeyDeletion\",\n",
    "                \"kms:CancelKeyDeletion\"\n",
    "            ],\n",
    "            \"Resource\": \"*\"\n",
    "        },\n",
    "        {\n",
    "            \"Sid\": \"Allow use of the key\",\n",
    "            \"Effect\": \"Allow\",\n",
    "            \"Principal\": {\n",
    "                \"AWS\": [user_arn]   # allow myself to use the key\n",
    "                                     # you can add more users / roles to this list\n",
    "                                     # for example you can add SageMaker service role \n",
    "                                     # here. But we will allow SageMaker service role\n",
    "                                     # to use this key via grant (see below)\n",
    "\n",
    "            },\n",
    "            \"Action\": [\n",
    "                \"kms:Encrypt\",\n",
    "                \"kms:Decrypt\",\n",
    "                \"kms:ReEncrypt*\",\n",
    "                \"kms:GenerateDataKey*\",\n",
    "                \"kms:DescribeKey\"\n",
    "            ],\n",
    "            \"Resource\": \"*\"\n",
    "        },\n",
    "        {\n",
    "            \"Sid\": \"Allow attachment of persistent resources\",\n",
    "            \"Effect\": \"Allow\",\n",
    "            \"Principal\": {\n",
    "                \"AWS\": [user_arn] # allow myself to create grant for this key\n",
    "                                   # see ref below to understand the diff \n",
    "                                   # between user and grant\n",
    "                                   # https://docs.aws.amazon.com/kms/latest/developerguide/concepts.html#grant\n",
    "            },\n",
    "            \"Action\": [\n",
    "                \"kms:CreateGrant\",\n",
    "                \"kms:ListGrants\",\n",
    "                \"kms:RevokeGrant\"\n",
    "            ],\n",
    "            \"Resource\": \"*\",\n",
    "            \"Condition\": {\n",
    "                \"Bool\": {\n",
    "                    \"kms:GrantIsForAWSResource\": \"true\"\n",
    "                }\n",
    "            }\n",
    "        }\n",
    "    ]\n",
    "}\n",
    "\n",
    "key_policy = json.dumps(key_policy)"
   ]
  },
  {
   "cell_type": "code",
   "execution_count": null,
   "id": "signal-asbestos",
   "metadata": {},
   "outputs": [],
   "source": [
    "# create a key with the above key policy\n",
    "\n",
    "create_new_key = False\n",
    "\n",
    "if create_new_key:\n",
    "    ck_res = kms.create_key(\n",
    "        Policy=key_policy,\n",
    "        Description=\"a symmetric key to demonstrate KMS\",\n",
    "        KeyUsage=\"ENCRYPT_DECRYPT\",                # use this key to encrypt and decrypt\n",
    "        Origin='AWS_KMS',                          # created via AWS KMS\n",
    "        CustomerMasterKeySpec='SYMMETRIC_DEFAULT'  # symmetric key\n",
    "    )\n",
    "\n",
    "\n",
    "    pp.pprint(ck_res)\n",
    "    master_key = ck_res['KeyMetadata']['KeyId']\n",
    "    print(\"The id of the key: \")\n",
    "    print(master_key)\n",
    "else:\n",
    "    print(\"Supply an existing CMK by setting master_key variable to your key id\")\n",
    "    \n",
    "    # replace None by your CMK key id\n",
    "    master_key = None\n",
    "    \n",
    "if master_key is None:\n",
    "    raise ValueError(\"Supply a valid CMK key id or create a new CMK\")"
   ]
  },
  {
   "cell_type": "code",
   "execution_count": null,
   "id": "filled-topic",
   "metadata": {},
   "outputs": [],
   "source": [
    "master_key = ck_res['KeyMetadata']['KeyId']\n",
    "print(\"The id of the key: \")\n",
    "print(master_key)"
   ]
  },
  {
   "cell_type": "markdown",
   "id": "baking-synthetic",
   "metadata": {},
   "source": [
    "You can use this master key to encrypt your data directly. It is not a good practice in production. But it is good to know what you can do."
   ]
  },
  {
   "cell_type": "code",
   "execution_count": null,
   "id": "executive-adoption",
   "metadata": {},
   "outputs": [],
   "source": [
    "my_secret_message = \"1729 is the smallest number expressible \\\n",
    "as the sum of two cubes in two different ways\".encode('utf-8')\n",
    "\n",
    "# 1729 =  1^3 + 12^3 = 9^3 + 10^3 (Srinivasa Ramanujan)\n",
    "\n",
    "# make the above secret a ciphertext\n",
    "enc_res = kms.encrypt(\n",
    "    KeyId=master_key,\n",
    "    Plaintext=my_secret_message)\n",
    "\n",
    "pp.pprint(enc_res)"
   ]
  },
  {
   "cell_type": "code",
   "execution_count": null,
   "id": "alpha-reconstruction",
   "metadata": {},
   "outputs": [],
   "source": [
    "# decrypt your secret message\n",
    "dec_res = kms.decrypt(\n",
    "    KeyId=master_key,\n",
    "    CiphertextBlob=enc_res['CiphertextBlob']\n",
    ")\n",
    "\n",
    "print(\"Decrpyted message:\")\n",
    "print(dec_res['Plaintext'].decode())"
   ]
  },
  {
   "cell_type": "markdown",
   "id": "remarkable-morning",
   "metadata": {},
   "source": [
    "One thing to notice is encryption and decryption should happen at **bytes** level. If you want to encrypt a python object (list, numpy array, pandas data frame, pytorch model or a string) then the first step is to serialize it into bytes. One easy way to do it is to use `pickle.dumps` method. "
   ]
  },
  {
   "cell_type": "markdown",
   "id": "sustained-relay",
   "metadata": {},
   "source": [
    "## Client-side encryption with data key\n",
    "Now let's pretend you are a data engineer and you need to move a chuck of data from location A to location B. Location A is the machine you are using now to run this notebook, location B is an S3 bucket that your data scientist buddy will be using later to create a training job. You want to ensure that while data is on its way from location A to location B, it is not intercepted and stolen by cyber-attacker in the middle. \n",
    "\n",
    "One solution is genereate a data key `DK` from the master key and use `DK` to encrypt your data at location A (client side) and save the encrypted to S3 bucket. \n",
    "\n",
    "You will get a different data key each time you request it from the master key and the plaintext data key is intended to be **short-lived** and you should only save the **encrpyted** data key for later use. \n",
    "\n",
    "Use [kms:GenerateDataKey](https://boto3.amazonaws.com/v1/documentation/api/latest/reference/services/kms.html#KMS.Client.generate_data_key) to generate a data key. "
   ]
  },
  {
   "cell_type": "code",
   "execution_count": null,
   "id": "impressed-court",
   "metadata": {},
   "outputs": [],
   "source": [
    "key_length = 32 # 32 bytes \n",
    "\n",
    "data_key_res = kms.generate_data_key(\n",
    "    KeyId=master_key,\n",
    "    NumberOfBytes= key_length  # your data key is will be 32x8=256-bit long\n",
    "                       # takes 2^256 number of guesses to crack your data key\n",
    "    )\n",
    "\n",
    "pp.pprint(data_key_res)"
   ]
  },
  {
   "cell_type": "code",
   "execution_count": null,
   "id": "still-drove",
   "metadata": {},
   "outputs": [],
   "source": [
    "plaintext, ciphertext = data_key_res['Plaintext'], data_key_res['CiphertextBlob']"
   ]
  },
  {
   "cell_type": "code",
   "execution_count": null,
   "id": "registered-regression",
   "metadata": {},
   "outputs": [],
   "source": [
    "assert len(plaintext) == key_length"
   ]
  },
  {
   "cell_type": "markdown",
   "id": "satellite-joseph",
   "metadata": {},
   "source": [
    "The ciphertext above is the encrypted data key. Of course it is encrypted by the master key. And the ciphtertext is what you should kept for long term. There is nothing preventing you from encrypt your plaintext data key with a different master key. You just need to remember which master you used to encrypted it. "
   ]
  },
  {
   "cell_type": "code",
   "execution_count": null,
   "id": "willing-logan",
   "metadata": {},
   "outputs": [],
   "source": [
    "assert kms.decrypt(KeyId=master_key, CiphertextBlob=ciphertext)['Plaintext'] == plaintext"
   ]
  },
  {
   "cell_type": "markdown",
   "id": "discrete-quarter",
   "metadata": {},
   "source": [
    "Note that the plaintext data key is a byte-like object. It is not a string and in fact it cannot be decoded to a python string."
   ]
  },
  {
   "cell_type": "code",
   "execution_count": null,
   "id": "hairy-symbol",
   "metadata": {},
   "outputs": [],
   "source": [
    "try:\n",
    "    plaintext.decode('utf-8')\n",
    "except Exception as e:\n",
    "    print(e)"
   ]
  },
  {
   "cell_type": "markdown",
   "id": "raising-particular",
   "metadata": {},
   "source": [
    "There are multiple python libraries for cryptography. We will use [cryptography](https://pypi.org/project/cryptography/)"
   ]
  },
  {
   "cell_type": "code",
   "execution_count": null,
   "id": "specified-minutes",
   "metadata": {},
   "outputs": [],
   "source": [
    "!pip install cryptography"
   ]
  },
  {
   "cell_type": "code",
   "execution_count": null,
   "id": "phantom-blade",
   "metadata": {},
   "outputs": [],
   "source": [
    "import base64\n",
    "from cryptography.fernet import Fernet\n",
    "\n",
    "def encrypt(data, plaintext_key):\n",
    "    \"\"\"Encrypt a chunk of bytes on client-side\n",
    "    data: a chunk of bytes\n",
    "    plaintext_key: plaintext data key\n",
    "    \"\"\"\n",
    "    ascii_str = base64.b64encode(plaintext_key)\n",
    "\n",
    "    f = Fernet(key=ascii_str) # Fernet key must be 32 url-safe base64-encoded bytes\n",
    "                              # That's why we generated a 32-byte long data key\n",
    "    return f.encrypt(data)\n",
    "\n",
    "def decrypt(data, ciphertext_key):\n",
    "    \"\"\"Decrypt a chunk of bytes on client-side\n",
    "    data: encypted binary data\n",
    "    ciphertext_key: ciphertext data key\n",
    "    \"\"\"\n",
    "    # decrypt the ciphertext data key\n",
    "    plaintext_key = kms.decrypt(\n",
    "        KeyId=master_key, \n",
    "        CiphertextBlob=ciphertext_key)['Plaintext']\n",
    "    \n",
    "    # to Fernet-friendly key\n",
    "    ascii_str = base64.b64encode(plaintext_key)\n",
    "    \n",
    "    f = Fernet(key=ascii_str)\n",
    "    return f.decrypt(data)"
   ]
  },
  {
   "cell_type": "code",
   "execution_count": null,
   "id": "homeless-immune",
   "metadata": {},
   "outputs": [],
   "source": [
    "import pickle\n",
    "\n",
    "# encrypt\n",
    "data =[i for i in range(1729)]\n",
    "encrypted_data = encrypt(\n",
    "    pickle.dumps(data), # python object -> bytes \n",
    "    plaintext\n",
    ")"
   ]
  },
  {
   "cell_type": "markdown",
   "id": "differential-cancellation",
   "metadata": {},
   "source": [
    "Once you finished encryption, you should delete the plaintext data key as soon as possible. "
   ]
  },
  {
   "cell_type": "code",
   "execution_count": null,
   "id": "trying-technician",
   "metadata": {},
   "outputs": [],
   "source": [
    "del plaintext"
   ]
  },
  {
   "cell_type": "code",
   "execution_count": null,
   "id": "revised-authorization",
   "metadata": {
    "jupyter": {
     "source_hidden": true
    }
   },
   "outputs": [],
   "source": [
    "# decrypt\n",
    "b = decrypt(encrypted_data, ciphertext)\n",
    "data_ = pickle.loads(b) # bytes -> python object\n",
    "\n",
    "for x, y in zip(data, data_):\n",
    "    assert x == y"
   ]
  },
  {
   "cell_type": "markdown",
   "id": "heard-being",
   "metadata": {},
   "source": [
    "## Save encrypted objects on S3 \n",
    "Now you understand how encryption at client-side works. It should be straightforward to you how to save encrypted data on an S3 bucket. "
   ]
  },
  {
   "cell_type": "code",
   "execution_count": null,
   "id": "operating-cartridge",
   "metadata": {},
   "outputs": [],
   "source": [
    "# create a bucket to be shared by SageMaker later\n",
    "\n",
    "def create_bucket():\n",
    "    \"\"\"Create an S3 bucket that is intended to be used for short term\"\"\"\n",
    "    bucket = f\"sagemaker-{current_time()}\"\n",
    "    \n",
    "    region_name = boto3.Session().region_name\n",
    "    create_bucket_config = {}\n",
    "    if region_name != 'us-east-1': \n",
    "        # us-east-1 is the default region for S3 bucket\n",
    "        # specify LocationConstraint if your VPC is not\n",
    "        # in us-east-1\n",
    "        create_bucket_config['LocationConstraint'] = region_name\n",
    "    \n",
    "    boto3.client('s3').create_bucket(\n",
    "        Bucket=bucket,\n",
    "        CreateBucketConfiguration=create_bucket_config\n",
    "    )\n",
    "    return bucket\n",
    "\n",
    "bucket = create_bucket()"
   ]
  },
  {
   "cell_type": "code",
   "execution_count": null,
   "id": "brilliant-booth",
   "metadata": {},
   "outputs": [],
   "source": [
    "# put your encrypted data on the S3 bucket\n",
    "\n",
    "s3 = boto3.client('s3')\n",
    "input_prefix = \"data\" # will be used later as S3Prefix when calling CreateTrainingJob\n",
    "\n",
    "put_obj_res = s3.put_object(\n",
    "    Bucket=bucket, \n",
    "    Key=input_prefix +'/'+'a_chunk_of_secrets',\n",
    "    Body=encrypted_data)\n",
    "\n",
    "pp.pprint(put_obj_res)"
   ]
  },
  {
   "cell_type": "markdown",
   "id": "danish-serial",
   "metadata": {},
   "source": [
    "## Create a SageMaker training job with encrypted data\n",
    "Now you understand how to move your data from location $A$ to location $B$ encrypted. Let's see how this workflow can be merged into a SageMaker training job. What you want to achieve is, the static assets (model and data) need to be encrypted before you traffic them in the Internet. \n",
    "\n",
    "Let $M$ denote the customer master key hosted on KMS, $D$ the plaintext data key and $C$ the ciphertext data key. \n",
    "\n",
    "Suppose your training data is in an S3 bucket encrypted by the data key $D$. In order to use the training data, the SageMaker training job needs to be able to decrypt it. Of course you **would not** want to move $D$ (plaintext) around in the Internet and hand it to a SageMaker training job. Instead you will hand the encrypted data key (ciphertext) $C$ to the SageMaker training job. \n",
    "\n",
    "The SageMaker training job will do the following things with $C$\n",
    "- Decrypt it to plaintext using the master key $M$ and get $D$\n",
    "- Download the encrypted data from the S3 bucket and decrypt the data with $D$\n",
    "- Train the model and encrypt the model with $D$ \n",
    "- Send the encrypted model to an S3 bucket\n",
    "\n",
    "Of course, you could use a different data key to encrypt the model."
   ]
  },
  {
   "cell_type": "markdown",
   "id": "consecutive-format",
   "metadata": {},
   "source": [
    "### How SageMaker uses your master key $M$\n",
    "\n",
    "Remember a managed service like SageMaker *assumes* and IAM role (service role) in your account and it procures the resources in your AWS account based on the permission of the service role. \n",
    "\n",
    "When you created $M$, key policy said that the IAM user (you) and the root user of your account are the only entities entitled to use $M$. So does SageMaker use $M$ then? \n",
    "\n",
    "There are two ways to achieve this:\n",
    "Suppose your SageMaker service role is called `example-role`.\n",
    "\n",
    "1. Update the key policy to allow `example-role` to use $M$\n",
    "2. Allow `example-role` to use $M$ via a **grant**\n",
    "\n",
    "Quote from the [KMS docs](https://docs.aws.amazon.com/kms/latest/developerguide/concepts.html#grant)\n",
    "\n",
    ">A grant is a policy instrument that allows AWS principals to use AWS KMS customer master keys (CMKs) in cryptographic operations. It also can let them view a CMK (DescribeKey) and create and manage grants. When authorizing access to a CMK, grants are considered along with key policies and IAM policies. Grants are often used for temporary permissions because you can create one, use its permissions, and delete it without changing your key policies or IAM policies. Because grants can be very specific, and are easy to create and revoke, they are often used to provide temporary permissions or more granular permissions.\n",
    "\n",
    "We will the grant approach this tutorial as it involves less activities on your key policy. In a prodcution environment, you should think of an activity on your key policy as *a big deal*. "
   ]
  },
  {
   "cell_type": "markdown",
   "id": "transparent-instrument",
   "metadata": {},
   "source": [
    "First, get some helper functions for creating a SageMaker service role. "
   ]
  },
  {
   "cell_type": "code",
   "execution_count": null,
   "id": "massive-empty",
   "metadata": {},
   "outputs": [],
   "source": [
    "%%bash\n",
    "file=$(ls . | grep iam_helpers.py)\n",
    "\n",
    "if [ -f \"$file\" ]\n",
    "then\n",
    "    rm $file\n",
    "fi\n",
    "\n",
    "wget https://raw.githubusercontent.com/aws/amazon-sagemaker-examples/sagemaker-fundamentals/sagemaker-fundamentals/execution-role/iam_helpers.py"
   ]
  },
  {
   "cell_type": "code",
   "execution_count": null,
   "id": "dominican-bennett",
   "metadata": {},
   "outputs": [],
   "source": [
    "# set up service role for SageMaker\n",
    "from iam_helpers import create_execution_role\n",
    "\n",
    "iam = boto3.client('iam')\n",
    "\n",
    "role_name = 'example-role'\n",
    "role_arn = create_execution_role(role_name=role_name)['Role']['Arn']\n",
    "\n",
    "iam.attach_role_policy(\n",
    "    RoleName=role_name,\n",
    "    PolicyArn='arn:aws:iam::aws:policy/AmazonSageMakerFullAccess'\n",
    ")"
   ]
  },
  {
   "cell_type": "code",
   "execution_count": null,
   "id": "continental-vision",
   "metadata": {},
   "outputs": [],
   "source": [
    "# create a boto3 session with example-role\n",
    "import time\n",
    "\n",
    "def create_session(role_arn):\n",
    "    \"\"\"Create a boto3 session with an IAM role\"\"\"\n",
    "    now = str(time.time()).split('.')[0]\n",
    "    obj = boto3.client('sts').assume_role(\n",
    "        RoleArn=role_arn,\n",
    "        RoleSessionName=now\n",
    "    )\n",
    "\n",
    "    cred=obj['Credentials']\n",
    "    sess = boto3.session.Session(\n",
    "        aws_access_key_id=cred['AccessKeyId'],\n",
    "        aws_secret_access_key=cred['SecretAccessKey'],\n",
    "        aws_session_token=cred['SessionToken']\n",
    "        )\n",
    "    return sess\n",
    "\n",
    "sess = create_session(role_arn)\n",
    "\n",
    "try:\n",
    "    sess.client('kms').encrypt(\n",
    "        KeyId=master_key,\n",
    "        Plaintext='it will not go through'.encode('utf-8')\n",
    "    )\n",
    "except Exception as e:\n",
    "    print(e)"
   ]
  },
  {
   "cell_type": "code",
   "execution_count": null,
   "id": "solar-radio",
   "metadata": {},
   "outputs": [],
   "source": [
    "del sess"
   ]
  },
  {
   "cell_type": "code",
   "execution_count": null,
   "id": "minimal-above",
   "metadata": {},
   "outputs": [],
   "source": [
    "grant_res = kms.create_grant(\n",
    "    KeyId=master_key,\n",
    "    GranteePrincipal=role_arn, \n",
    "    Operations=['Decrypt', 'Encrypt'] # allow example-role to use M to encrypt and decrypt\n",
    ")\n",
    "\n",
    "pp.pprint(grant_res)"
   ]
  },
  {
   "cell_type": "code",
   "execution_count": null,
   "id": "shared-worker",
   "metadata": {},
   "outputs": [],
   "source": [
    "# Verify example-role has can use M\n",
    "sess = create_session(role_arn)\n",
    "enc_res = sess.client('kms').encrypt(\n",
    "        KeyId=master_key,\n",
    "        Plaintext='it will not go through'.encode('utf-8')\n",
    "    )\n",
    "\n",
    "pp.pprint(enc_res)"
   ]
  },
  {
   "cell_type": "code",
   "execution_count": null,
   "id": "dominican-heater",
   "metadata": {},
   "outputs": [],
   "source": [
    "del sess"
   ]
  },
  {
   "cell_type": "code",
   "execution_count": null,
   "id": "miniature-footage",
   "metadata": {},
   "outputs": [],
   "source": [
    "# put C to the bucket\n",
    "s3.put_object(\n",
    "    Bucket=bucket,\n",
    "    Key='dont_look',\n",
    "    Body=ciphertext\n",
    ")"
   ]
  },
  {
   "cell_type": "markdown",
   "id": "round-tracy",
   "metadata": {},
   "source": [
    "### Build a training container\n",
    "You will build a training image here like in [the notebook on basics of `CreateTrainingJob`](https://github.com/hsl89/amazon-sagemaker-examples/blob/sagemaker-fundamentals/sagemaker-fundamentals/create-training-job/create_training_job.ipynb)"
   ]
  },
  {
   "cell_type": "code",
   "execution_count": null,
   "id": "thorough-norfolk",
   "metadata": {},
   "outputs": [],
   "source": [
    "# View the Dockerfile\n",
    "!cat container_kms/Dockerfile"
   ]
  },
  {
   "cell_type": "code",
   "execution_count": null,
   "id": "arbitrary-mapping",
   "metadata": {},
   "outputs": [],
   "source": [
    "# View the entrypoint script\n",
    "!pygmentize container_kms/train.py"
   ]
  },
  {
   "cell_type": "markdown",
   "id": "english-barbados",
   "metadata": {},
   "source": [
    "You will need to build your AWS credentials into the container, because you will need to decrypt your ciphertext data key within the container."
   ]
  },
  {
   "cell_type": "code",
   "execution_count": null,
   "id": "executed-disposition",
   "metadata": {},
   "outputs": [],
   "source": [
    "%%bash -s \"$access_key\" \"$secret_key\" \"$region_name\"\n",
    "\n",
    "# build the image\n",
    "cd container_kms/\n",
    "\n",
    "# tag it as example-image:latest\n",
    "docker build -t example-image:latest . --build-arg ACCESS_KEY=$1 \\\n",
    "    --build-arg SECRET_KEY=$2 --build-arg REGION_NAME=$3"
   ]
  },
  {
   "cell_type": "markdown",
   "id": "normal-leadership",
   "metadata": {},
   "source": [
    "## Test your container locally\n",
    "You programmed the entrypoint `container_kms/train.py` so that it gets to know the id of the master key as well as the S3 object key for the data key ciphertext via hyperparameters in `/opt/ml/input/config/hyperparameters.json`. That means you will need to [inject those hyperparamters to the container](https://github.com/aws/amazon-sagemaker-examples/blob/master/sagemaker-fundamentals/create-training-job/create_training_job_hyperparameter_injection.ipynb)\n",
    "\n",
    "You can checkout the [notebook on basics of create a training job](https://github.com/aws/amazon-sagemaker-examples/blob/master/sagemaker-fundamentals/create-training-job/create_training_job.ipynb)(section ## Test your container) for more details. \n",
    "\n",
    "To recap, you will mount `container_kms/local_test/ml` (OS) to `/opt/ml`(container) as a docker volume and exchange training information with the container there. "
   ]
  },
  {
   "cell_type": "markdown",
   "id": "becoming-israeli",
   "metadata": {},
   "source": [
    "Look at what hyperparameters we used in `container_kms/train.py`. The hyperparamters we will use for test is in the following json file:"
   ]
  },
  {
   "cell_type": "code",
   "execution_count": null,
   "id": "specialized-philadelphia",
   "metadata": {},
   "outputs": [],
   "source": [
    "!cat container_kms/local_test/ml/input/config/hyperparameters.json"
   ]
  },
  {
   "cell_type": "markdown",
   "id": "latest-static",
   "metadata": {},
   "source": [
    "Also, you need to have `container_kms/local_test/ml/input/train/a_chunk_of_secrets` available"
   ]
  },
  {
   "cell_type": "code",
   "execution_count": null,
   "id": "entertaining-xerox",
   "metadata": {},
   "outputs": [],
   "source": [
    "import os\n",
    "with open(\n",
    "    os.path.join('container_kms', 'local_test', 'ml', 'input', 'data', 'train', 'a_chunk_of_secrets'), 'wb') as f:\n",
    "    f.write(encrypted_data)"
   ]
  },
  {
   "cell_type": "code",
   "execution_count": null,
   "id": "aggressive-range",
   "metadata": {},
   "outputs": [],
   "source": [
    "!ls -R container_kms/local_test/ml"
   ]
  },
  {
   "cell_type": "markdown",
   "id": "unlikely-logan",
   "metadata": {},
   "source": [
    "!python container_kms/local_test/test_container.py"
   ]
  },
  {
   "cell_type": "code",
   "execution_count": null,
   "id": "brave-rebound",
   "metadata": {},
   "outputs": [],
   "source": [
    "# create a repo in ECR called example-image\n",
    "ecr = boto3.client('ecr')\n",
    "\n",
    "try:\n",
    "    # The repository might already exist\n",
    "    # in your ECR\n",
    "    cr_res = ecr.create_repository(\n",
    "        repositoryName='example-image')\n",
    "    pp.pprint(cr_res)\n",
    "except Exception as e:\n",
    "    print(e)"
   ]
  },
  {
   "cell_type": "code",
   "execution_count": null,
   "id": "purple-scheduling",
   "metadata": {},
   "outputs": [],
   "source": [
    "%%bash\n",
    "account=$(aws sts get-caller-identity --query Account | sed -e 's/^\"//' -e 's/\"$//')\n",
    "region=$(aws configure get region)\n",
    "ecr_account=${account}.dkr.ecr.${region}.amazonaws.com\n",
    "\n",
    "# Give docker your ECR login password\n",
    "aws ecr get-login-password --region $region | docker login --username AWS --password-stdin $ecr_account\n",
    "\n",
    "# Fullname of the repo\n",
    "fullname=$ecr_account/example-image:latest\n",
    "\n",
    "#echo $fullname\n",
    "# Tag the image with the fullname\n",
    "docker tag example-image:latest $fullname\n",
    "\n",
    "# Push to ECR\n",
    "docker push $fullname"
   ]
  },
  {
   "cell_type": "markdown",
   "id": "existing-confirmation",
   "metadata": {},
   "source": [
    "Now you have all the ingredients for a SageMaker training job."
   ]
  },
  {
   "cell_type": "code",
   "execution_count": null,
   "id": "suited-republic",
   "metadata": {},
   "outputs": [],
   "source": [
    "# configure a training job\n",
    "\n",
    "sm_cli = boto3.client('sagemaker')\n",
    "\n",
    "# input\n",
    "data_path = \"s3://\" + bucket + '/' + input_prefix\n",
    "\n",
    "# location that SageMaker saves the model artifacts\n",
    "output_prefix = 'output'\n",
    "output_path = \"s3://\" + bucket + '/' + output_prefix\n",
    "\n",
    "# ECR URI of your image\n",
    "region = boto3.Session().region_name\n",
    "account = account_id()\n",
    "image_uri = \"{}.dkr.ecr.{}.amazonaws.com/example-image:latest\".format(account, region)\n",
    "\n",
    "algorithm_specification = {\n",
    "    'TrainingImage': image_uri,\n",
    "    'TrainingInputMode': 'File',\n",
    "}\n",
    "\n",
    "\n",
    "input_data_config = [\n",
    "    {\n",
    "        'ChannelName': 'train',\n",
    "            'DataSource':{\n",
    "                'S3DataSource':{\n",
    "                    'S3DataType': 'S3Prefix',\n",
    "                    'S3Uri': data_path,\n",
    "                    'S3DataDistributionType': 'FullyReplicated',\n",
    "                }\n",
    "        }\n",
    "        \n",
    "    }\n",
    "]\n",
    "\n",
    "\n",
    "hyperparameters = {\n",
    "    \"ciphertext_s3_key\": \"dont_look\",\n",
    "    \"master_key_id\": master_key,\n",
    "    \"train_channel\": \"train\",\n",
    "    \"train_file\": \"a_chunk_of_secrets\",\n",
    "    \"key_bucket\": bucket\n",
    "}\n",
    "\n",
    "output_data_config = {\n",
    "    'S3OutputPath': output_path\n",
    "}\n",
    "\n",
    "resource_config = {\n",
    "    'InstanceType': 'ml.m5.large',\n",
    "    'InstanceCount':1,\n",
    "    'VolumeSizeInGB':10\n",
    "}\n",
    "\n",
    "stopping_condition={\n",
    "    'MaxRuntimeInSeconds':120,\n",
    "}\n",
    "\n",
    "\n",
    "enable_network_isolation=False"
   ]
  },
  {
   "cell_type": "code",
   "execution_count": null,
   "id": "swedish-rental",
   "metadata": {},
   "outputs": [],
   "source": [
    "# some helper functions to monitor the training job\n",
    "\n",
    "import time\n",
    "\n",
    "def monitor_training_job_status(training_job_name, log_freq=30):\n",
    "    \"\"\"Print out training job status every $log_freq seconds\"\"\"\n",
    "    stopped = False\n",
    "    while not stopped:\n",
    "        tj_state = sm_cli.describe_training_job(\n",
    "            TrainingJobName=training_job_name)\n",
    "        if tj_state['TrainingJobStatus'] in ['Completed', 'Stopped', 'Failed']:\n",
    "            stopped=True\n",
    "        else:\n",
    "            print(\"Training in progress\")\n",
    "            time.sleep(log_freq)\n",
    "\n",
    "    if tj_state['TrainingJobStatus'] == 'Failed':\n",
    "        print(\"Training job failed \")\n",
    "        print(\"Failed Reason: {}\".format(tj_state['FailureReason']))\n",
    "    else:\n",
    "        print(\"Training job completed\")\n",
    "    return\n",
    "\n",
    "\n",
    "def print_logs(training_job_name):\n",
    "    \"\"\"Print out stdout in the container from CloudWatch\"\"\"\n",
    "    logs = boto3.client('logs')\n",
    "\n",
    "    log_res= logs.describe_log_streams(\n",
    "        logGroupName='/aws/sagemaker/TrainingJobs',\n",
    "        logStreamNamePrefix=training_job_name)\n",
    "\n",
    "    for log_stream in log_res['logStreams']:\n",
    "        # get one log event\n",
    "        log_event = logs.get_log_events(\n",
    "            logGroupName='/aws/sagemaker/TrainingJobs',\n",
    "            logStreamName=log_stream['logStreamName'])\n",
    "\n",
    "        # print out messages from the log event\n",
    "        for ev in log_event['events']:\n",
    "            for k, v in ev.items():\n",
    "                if k == 'message':\n",
    "                    print(v)\n",
    "                    \n",
    "    return"
   ]
  },
  {
   "cell_type": "code",
   "execution_count": null,
   "id": "electoral-group",
   "metadata": {},
   "outputs": [],
   "source": [
    "# name training job\n",
    "training_job_name = 'example-training-job-{}'.format(current_time())\n",
    "\n",
    "ct_res = sm_cli.create_training_job(\n",
    "    TrainingJobName=training_job_name,\n",
    "    AlgorithmSpecification=algorithm_specification,\n",
    "    RoleArn=role_arn,\n",
    "    HyperParameters=hyperparameters,\n",
    "    InputDataConfig=input_data_config,\n",
    "    OutputDataConfig=output_data_config,\n",
    "    ResourceConfig=resource_config,\n",
    "    StoppingCondition=stopping_condition,\n",
    "    EnableNetworkIsolation=enable_network_isolation,\n",
    "    EnableManagedSpotTraining=False,\n",
    ")"
   ]
  },
  {
   "cell_type": "code",
   "execution_count": null,
   "id": "linear-configuration",
   "metadata": {},
   "outputs": [],
   "source": [
    "monitor_training_job_status(training_job_name)"
   ]
  },
  {
   "cell_type": "code",
   "execution_count": null,
   "id": "official-neighbor",
   "metadata": {},
   "outputs": [],
   "source": [
    "print_logs(training_job_name)"
   ]
  },
  {
   "cell_type": "markdown",
   "id": "indonesian-rhythm",
   "metadata": {},
   "source": [
    "## Review && Discussion\n",
    "\n",
    "In this notebook, you went through a typical workflow for creating a SageMaker training job with client-side encryption. You have\n",
    "* Generated a data key from a KMS key\n",
    "* Used the data key to encrypt your dataset before putting it to a SageMaker-accessible S3 bucket\n",
    "* Created a SageMaker training job and passed the encrypted data key to the training job\n",
    "* Decrypted the data key within the training container and used the decrypted data key to decrypted training data from the S3 bucket\n",
    "* Encrypted your trained model at the end of the training job"
   ]
  },
  {
   "cell_type": "markdown",
   "id": "brave-multimedia",
   "metadata": {},
   "source": [
    "## Clean up\n",
    "You cannot delete the KMS key with one stroke. In this tutorial we created key for sake of running this tutorial, but in a production environment, deleting a key is a BIG deal, because once you deleled the KMS key, all data encryted under that key becomes unavailable to you. That's why you need to exercise extreme caution when deleting a key. Checkout the [section on deleting a KMS key](https://docs.aws.amazon.com/kms/latest/developerguide/deleting-keys.html) for more detail. \n",
    "\n",
    "You can schedule a key deletion in $X$ days by calling [kms:ScheduleKeyDeletion](https://boto3.amazonaws.com/v1/documentation/api/latest/reference/services/kms.html#KMS.Client.schedule_key_deletion). Once this API is called, you key status will be **Pending Deletion**. This is to remind you that you need to sort out all your data encrypted under this key in $X$ days and encrypted them using a different key. "
   ]
  },
  {
   "cell_type": "code",
   "execution_count": null,
   "id": "south-provider",
   "metadata": {},
   "outputs": [],
   "source": [
    "def schedule_key_deletion(key_id, waiting_period):\n",
    "    \"\"\"Delete a key in $waiting_period days\n",
    "    Args:\n",
    "        key_id: id of the key to be deleted\n",
    "        waiting_period: number of days to wait before key deletion\n",
    "    \"\"\"\n",
    "    dk_res = kms.schedule_key_deletion(\n",
    "        KeyId=key_id,\n",
    "        PendingWindowInDays=waiting_period\n",
    "    )\n",
    "    \n",
    "    pp.pprint(dk_res)\n",
    "    return\n",
    "\n",
    "# call schedule_key_deletion if you want to delete the key"
   ]
  },
  {
   "cell_type": "code",
   "execution_count": null,
   "id": "voluntary-circus",
   "metadata": {},
   "outputs": [],
   "source": [
    "def delete_force(bucket_name):\n",
    "    \"\"\"Helper function to delete a bucket\"\"\"\n",
    "    objs = s3.list_objects_v2(Bucket=bucket_name)['Contents']\n",
    "    for obj in objs:\n",
    "        s3.delete_object(\n",
    "            Bucket=bucket_name,\n",
    "            Key=obj['Key'])\n",
    "    \n",
    "    return s3.delete_bucket(Bucket=bucket_name)\n",
    "\n",
    "\n",
    "def delete_ecr_repo(repo_name):\n",
    "    \"\"\"Helper function to delete an ECR repo\"\"\"\n",
    "    ecr.delete_repository(\n",
    "        repositoryName=repo_name,\n",
    "        force=True\n",
    "    )\n",
    "    return"
   ]
  }
 ],
 "metadata": {
  "kernelspec": {
   "display_name": "Python 3",
   "language": "python",
   "name": "python3"
  },
  "language_info": {
   "codemirror_mode": {
    "name": "ipython",
    "version": 3
   },
   "file_extension": ".py",
   "mimetype": "text/x-python",
   "name": "python",
   "nbconvert_exporter": "python",
   "pygments_lexer": "ipython3",
   "version": "3.6.10"
  }
 },
 "nbformat": 4,
 "nbformat_minor": 5
}
