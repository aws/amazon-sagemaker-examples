{
 "cells": [
  {
   "cell_type": "code",
   "execution_count": 1,
   "id": "9c83e3ea",
   "metadata": {
    "execution": {
     "iopub.execute_input": "2022-03-23T18:52:16.068935Z",
     "iopub.status.busy": "2022-03-23T18:52:16.068216Z",
     "iopub.status.idle": "2022-03-23T18:52:16.071359Z",
     "shell.execute_reply": "2022-03-23T18:52:16.070784Z"
    },
    "papermill": {
     "duration": 0.038662,
     "end_time": "2022-03-23T18:52:16.071476",
     "exception": false,
     "start_time": "2022-03-23T18:52:16.032814",
     "status": "completed"
    },
    "tags": [
     "injected-parameters"
    ]
   },
   "outputs": [],
   "source": [
    "# Parameters\n",
    "kms_key = \"arn:aws:kms:us-west-2:000000000000:1234abcd-12ab-34cd-56ef-1234567890ab\"\n"
   ]
  },
  {
   "cell_type": "markdown",
   "id": "caf6b3d8",
   "metadata": {
    "papermill": {
     "duration": 0.027196,
     "end_time": "2022-03-23T18:52:16.127366",
     "exception": false,
     "start_time": "2022-03-23T18:52:16.100170",
     "status": "completed"
    },
    "tags": []
   },
   "source": [
    "## Amazon SageMaker Multi-hop Lineage Queries\n",
    "\n",
    "Amazon SageMaker Lineage tracks events that happen within SageMaker allowing the relationships between them to be traced via a graph structure. SageMaker Lineage introduces a new API called `LineageQuery` that allows customers to query the lineage graph structure to discover relationship across their Machine Learning entities. \n",
    "\n",
    "Your machine learning workflows can generate deeply nested relationships, the lineage APIs allow you to answer questions about these relationships. For example find all Data Sets that trained the model deployed to a given Endpoint or find all Models trained by a Data Set.\n",
    "\n",
    "The lineage graph is created automatically by SageMaker and you can directly create or modify your own lineage.\n",
    "\n",
    "In addition to the `LineageQuery` API, the SageMaker SDK provides wrapper functions that make it easy to run queries that span across multiple hops of the entity relationship graph. These APIs and helper functions are described in this notebook.\n",
    "\n",
    "\n",
    "### Key Concepts\n",
    "\n",
    "* **Lineage Graph** - A connected graph tracing your machine learning workflow end to end. \n",
    "* **Artifacts** - Represents a URI addressable object or data.  Artifacts are typically inputs or outputs to Actions.  \n",
    "* **Actions**  - Represents an action taken such as a computation, transformation, or job.  \n",
    "* **Contexts** - Provides a method to logically group other entities.\n",
    "* **Associations** - A directed edge in the lineage graph that links two entities.\n",
    "* **Lineage Traversal** - Starting from an arbitrary point trace the lineage graph to discover and analyze relationships between steps in your workflow.\n",
    "* **Experiments** - Experiment entites (Experiments, Trials, and Trial Components) are also part of the lineage graph and can be associated wtih Artifacts, Actions, or Contexts."
   ]
  },
  {
   "cell_type": "markdown",
   "id": "9fa51e31",
   "metadata": {
    "papermill": {
     "duration": 0.027129,
     "end_time": "2022-03-23T18:52:16.181788",
     "exception": false,
     "start_time": "2022-03-23T18:52:16.154659",
     "status": "completed"
    },
    "tags": []
   },
   "source": [
    "#### Prequisites\n",
    "\n",
    "[`sagemaker-experiments`](https://github.com/aws/sagemaker-experiments) and [`pyvis`]((https://pyvis.readthedocs.io/en/latest/)) are two Python libraries that need to be installed as part of this notebook execution. `pyvis` is a library designed for interactive network visualization and `sagemaker-experiments` gives users the ability to use SageMaker's Experiment Tracking capabilities. \n",
    "\n",
    "This notebook should be run with `Python 3.9` using the SageMaker Studio `Python3 (Data Science)` kernel. The `sagemaker` sdk version required for this notebook is `>2.70.0`.\n",
    "\n",
    "If running in SageMaker Classic Notebooks, use the `conda_python3` kernel. \n",
    "\n",
    "The AWS account running this notebook should have access to provision 2 instances of type `ml.m5.xlarge`. These instances are used for training and deploying a model."
   ]
  },
  {
   "cell_type": "markdown",
   "id": "c57514d7",
   "metadata": {
    "papermill": {
     "duration": 0.027498,
     "end_time": "2022-03-23T18:52:16.236694",
     "exception": false,
     "start_time": "2022-03-23T18:52:16.209196",
     "status": "completed"
    },
    "tags": []
   },
   "source": [
    "Let's start by installing preview wheels of the Python SDK, boto and aws cli"
   ]
  },
  {
   "cell_type": "code",
   "execution_count": 2,
   "id": "6f23a30a",
   "metadata": {
    "execution": {
     "iopub.execute_input": "2022-03-23T18:52:16.296905Z",
     "iopub.status.busy": "2022-03-23T18:52:16.296030Z",
     "iopub.status.idle": "2022-03-23T18:52:29.067083Z",
     "shell.execute_reply": "2022-03-23T18:52:29.067506Z"
    },
    "papermill": {
     "duration": 12.803561,
     "end_time": "2022-03-23T18:52:29.067651",
     "exception": false,
     "start_time": "2022-03-23T18:52:16.264090",
     "status": "completed"
    },
    "tags": []
   },
   "outputs": [
    {
     "name": "stdout",
     "output_type": "stream",
     "text": [
      "Requirement already satisfied: sagemaker in /usr/local/lib/python3.7/site-packages (2.69.1.dev0)\r\n"
     ]
    },
    {
     "name": "stdout",
     "output_type": "stream",
     "text": [
      "Collecting sagemaker\r\n"
     ]
    },
    {
     "name": "stdout",
     "output_type": "stream",
     "text": [
      "  Downloading sagemaker-2.80.0.tar.gz (517 kB)\r\n",
      "\u001b[?25l\r",
      "\u001b[K     |▋                               | 10 kB 31.9 MB/s eta 0:00:01\r",
      "\u001b[K     |█▎                              | 20 kB 21.1 MB/s eta 0:00:01\r",
      "\u001b[K     |██                              | 30 kB 11.8 MB/s eta 0:00:01\r",
      "\u001b[K     |██▌                             | 40 kB 7.4 MB/s eta 0:00:01\r",
      "\u001b[K     |███▏                            | 51 kB 7.1 MB/s eta 0:00:01\r",
      "\u001b[K     |███▉                            | 61 kB 8.4 MB/s eta 0:00:01\r",
      "\u001b[K     |████▍                           | 71 kB 8.6 MB/s eta 0:00:01\r",
      "\u001b[K     |█████                           | 81 kB 9.7 MB/s eta 0:00:01\r",
      "\u001b[K     |█████▊                          | 92 kB 10.2 MB/s eta 0:00:01\r",
      "\u001b[K     |██████▎                         | 102 kB 9.3 MB/s eta 0:00:01\r",
      "\u001b[K     |███████                         | 112 kB 9.3 MB/s eta 0:00:01\r",
      "\u001b[K     |███████▋                        | 122 kB 9.3 MB/s eta 0:00:01\r",
      "\u001b[K     |████████▎                       | 133 kB 9.3 MB/s eta 0:00:01\r",
      "\u001b[K     |████████▉                       | 143 kB 9.3 MB/s eta 0:00:01\r",
      "\u001b[K     |█████████▌                      | 153 kB 9.3 MB/s eta 0:00:01\r",
      "\u001b[K     |██████████▏                     | 163 kB 9.3 MB/s eta 0:00:01\r",
      "\u001b[K     |██████████▊                     | 174 kB 9.3 MB/s eta 0:00:01\r",
      "\u001b[K     |███████████▍                    | 184 kB 9.3 MB/s eta 0:00:01\r",
      "\u001b[K     |████████████                    | 194 kB 9.3 MB/s eta 0:00:01\r",
      "\u001b[K     |████████████▋                   | 204 kB 9.3 MB/s eta 0:00:01\r",
      "\u001b[K     |█████████████▎                  | 215 kB 9.3 MB/s eta 0:00:01\r",
      "\u001b[K     |██████████████                  | 225 kB 9.3 MB/s eta 0:00:01\r",
      "\u001b[K     |██████████████▋                 | 235 kB 9.3 MB/s eta 0:00:01\r",
      "\u001b[K     |███████████████▏                | 245 kB 9.3 MB/s eta 0:00:01\r",
      "\u001b[K     |███████████████▉                | 256 kB 9.3 MB/s eta 0:00:01"
     ]
    },
    {
     "name": "stdout",
     "output_type": "stream",
     "text": [
      "\r",
      "\u001b[K     |████████████████▌               | 266 kB 9.3 MB/s eta 0:00:01\r",
      "\u001b[K     |█████████████████               | 276 kB 9.3 MB/s eta 0:00:01\r",
      "\u001b[K     |█████████████████▊              | 286 kB 9.3 MB/s eta 0:00:01\r",
      "\u001b[K     |██████████████████▍             | 296 kB 9.3 MB/s eta 0:00:01\r",
      "\u001b[K     |███████████████████             | 307 kB 9.3 MB/s eta 0:00:01\r",
      "\u001b[K     |███████████████████▋            | 317 kB 9.3 MB/s eta 0:00:01\r",
      "\u001b[K     |████████████████████▎           | 327 kB 9.3 MB/s eta 0:00:01\r",
      "\u001b[K     |█████████████████████           | 337 kB 9.3 MB/s eta 0:00:01\r",
      "\u001b[K     |█████████████████████▌          | 348 kB 9.3 MB/s eta 0:00:01\r",
      "\u001b[K     |██████████████████████▏         | 358 kB 9.3 MB/s eta 0:00:01\r",
      "\u001b[K     |██████████████████████▉         | 368 kB 9.3 MB/s eta 0:00:01\r",
      "\u001b[K     |███████████████████████▍        | 378 kB 9.3 MB/s eta 0:00:01\r",
      "\u001b[K     |████████████████████████        | 389 kB 9.3 MB/s eta 0:00:01\r",
      "\u001b[K     |████████████████████████▊       | 399 kB 9.3 MB/s eta 0:00:01\r",
      "\u001b[K     |█████████████████████████▎      | 409 kB 9.3 MB/s eta 0:00:01\r",
      "\u001b[K     |██████████████████████████      | 419 kB 9.3 MB/s eta 0:00:01\r",
      "\u001b[K     |██████████████████████████▋     | 430 kB 9.3 MB/s eta 0:00:01\r",
      "\u001b[K     |███████████████████████████▎    | 440 kB 9.3 MB/s eta 0:00:01\r",
      "\u001b[K     |███████████████████████████▉    | 450 kB 9.3 MB/s eta 0:00:01\r",
      "\u001b[K     |████████████████████████████▌   | 460 kB 9.3 MB/s eta 0:00:01\r",
      "\u001b[K     |█████████████████████████████▏  | 471 kB 9.3 MB/s eta 0:00:01\r",
      "\u001b[K     |█████████████████████████████▊  | 481 kB 9.3 MB/s eta 0:00:01\r",
      "\u001b[K     |██████████████████████████████▍ | 491 kB 9.3 MB/s eta 0:00:01\r",
      "\u001b[K     |███████████████████████████████ | 501 kB 9.3 MB/s eta 0:00:01\r",
      "\u001b[K     |███████████████████████████████▋| 512 kB 9.3 MB/s eta 0:00:01\r",
      "\u001b[K     |████████████████████████████████| 517 kB 9.3 MB/s \r\n",
      "\u001b[?25h"
     ]
    },
    {
     "name": "stdout",
     "output_type": "stream",
     "text": [
      "Requirement already satisfied: botocore in /usr/local/lib/python3.7/site-packages (1.23.7)\r\n"
     ]
    },
    {
     "name": "stdout",
     "output_type": "stream",
     "text": [
      "Collecting botocore\r\n"
     ]
    },
    {
     "name": "stdout",
     "output_type": "stream",
     "text": [
      "  Downloading botocore-1.24.24-py3-none-any.whl (8.6 MB)\r\n",
      "\u001b[?25l\r",
      "\u001b[K     |                                | 10 kB 40.9 MB/s eta 0:00:01\r",
      "\u001b[K     |                                | 20 kB 47.9 MB/s eta 0:00:01\r",
      "\u001b[K     |▏                               | 30 kB 56.9 MB/s eta 0:00:01\r",
      "\u001b[K     |▏                               | 40 kB 61.3 MB/s eta 0:00:01\r",
      "\u001b[K     |▏                               | 51 kB 65.9 MB/s eta 0:00:01\r",
      "\u001b[K     |▎                               | 61 kB 70.3 MB/s eta 0:00:01\r",
      "\u001b[K     |▎                               | 71 kB 73.4 MB/s eta 0:00:01\r",
      "\u001b[K     |▎                               | 81 kB 75.9 MB/s eta 0:00:01\r",
      "\u001b[K     |▍                               | 92 kB 77.9 MB/s eta 0:00:01\r",
      "\u001b[K     |▍                               | 102 kB 78.3 MB/s eta 0:00:01\r",
      "\u001b[K     |▍                               | 112 kB 78.3 MB/s eta 0:00:01\r",
      "\u001b[K     |▌                               | 122 kB 78.3 MB/s eta 0:00:01\r",
      "\u001b[K     |▌                               | 133 kB 78.3 MB/s eta 0:00:01\r",
      "\u001b[K     |▌                               | 143 kB 78.3 MB/s eta 0:00:01\r",
      "\u001b[K     |▋                               | 153 kB 78.3 MB/s eta 0:00:01\r",
      "\u001b[K     |▋                               | 163 kB 78.3 MB/s eta 0:00:01\r",
      "\u001b[K     |▋                               | 174 kB 78.3 MB/s eta 0:00:01\r",
      "\u001b[K     |▊                               | 184 kB 78.3 MB/s eta 0:00:01\r",
      "\u001b[K     |▊                               | 194 kB 78.3 MB/s eta 0:00:01\r",
      "\u001b[K     |▊                               | 204 kB 78.3 MB/s eta 0:00:01\r",
      "\u001b[K     |▉                               | 215 kB 78.3 MB/s eta 0:00:01\r",
      "\u001b[K     |▉                               | 225 kB 78.3 MB/s eta 0:00:01\r",
      "\u001b[K     |▉                               | 235 kB 78.3 MB/s eta 0:00:01\r",
      "\u001b[K     |█                               | 245 kB 78.3 MB/s eta 0:00:01\r",
      "\u001b[K     |█                               | 256 kB 78.3 MB/s eta 0:00:01\r",
      "\u001b[K     |█                               | 266 kB 78.3 MB/s eta 0:00:01\r",
      "\u001b[K     |█                               | 276 kB 78.3 MB/s eta 0:00:01\r",
      "\u001b[K     |█                               | 286 kB 78.3 MB/s eta 0:00:01\r",
      "\u001b[K     |█                               | 296 kB 78.3 MB/s eta 0:00:01\r",
      "\u001b[K     |█▏                              | 307 kB 78.3 MB/s eta 0:00:01\r",
      "\u001b[K     |█▏                              | 317 kB 78.3 MB/s eta 0:00:01\r",
      "\u001b[K     |█▏                              | 327 kB 78.3 MB/s eta 0:00:01\r",
      "\u001b[K     |█▎                              | 337 kB 78.3 MB/s eta 0:00:01\r",
      "\u001b[K     |█▎                              | 348 kB 78.3 MB/s eta 0:00:01\r",
      "\u001b[K     |█▎                              | 358 kB 78.3 MB/s eta 0:00:01\r",
      "\u001b[K     |█▍                              | 368 kB 78.3 MB/s eta 0:00:01\r",
      "\u001b[K     |█▍                              | 378 kB 78.3 MB/s eta 0:00:01\r",
      "\u001b[K     |█▌                              | 389 kB 78.3 MB/s eta 0:00:01\r",
      "\u001b[K     |█▌                              | 399 kB 78.3 MB/s eta 0:00:01\r",
      "\u001b[K     |█▌                              | 409 kB 78.3 MB/s eta 0:00:01\r",
      "\u001b[K     |█▋                              | 419 kB 78.3 MB/s eta 0:00:01\r",
      "\u001b[K     |█▋                              | 430 kB 78.3 MB/s eta 0:00:01\r",
      "\u001b[K     |█▋                              | 440 kB 78.3 MB/s eta 0:00:01\r",
      "\u001b[K     |█▊                              | 450 kB 78.3 MB/s eta 0:00:01\r",
      "\u001b[K     |█▊                              | 460 kB 78.3 MB/s eta 0:00:01\r",
      "\u001b[K     |█▊                              | 471 kB 78.3 MB/s eta 0:00:01\r",
      "\u001b[K     |█▉                              | 481 kB 78.3 MB/s eta 0:00:01\r",
      "\u001b[K     |█▉                              | 491 kB 78.3 MB/s eta 0:00:01\r",
      "\u001b[K     |█▉                              | 501 kB 78.3 MB/s eta 0:00:01\r",
      "\u001b[K     |██                              | 512 kB 78.3 MB/s eta 0:00:01\r",
      "\u001b[K     |██                              | 522 kB 78.3 MB/s eta 0:00:01\r",
      "\u001b[K     |██                              | 532 kB 78.3 MB/s eta 0:00:01\r",
      "\u001b[K     |██                              | 542 kB 78.3 MB/s eta 0:00:01\r",
      "\u001b[K     |██                              | 552 kB 78.3 MB/s eta 0:00:01\r",
      "\u001b[K     |██                              | 563 kB 78.3 MB/s eta 0:00:01\r",
      "\u001b[K     |██▏                             | 573 kB 78.3 MB/s eta 0:00:01\r",
      "\u001b[K     |██▏                             | 583 kB 78.3 MB/s eta 0:00:01\r",
      "\u001b[K     |██▏                             | 593 kB 78.3 MB/s eta 0:00:01\r",
      "\u001b[K     |██▎                             | 604 kB 78.3 MB/s eta 0:00:01\r",
      "\u001b[K     |██▎                             | 614 kB 78.3 MB/s eta 0:00:01\r",
      "\u001b[K     |██▎                             | 624 kB 78.3 MB/s eta 0:00:01\r",
      "\u001b[K     |██▍                             | 634 kB 78.3 MB/s eta 0:00:01\r",
      "\u001b[K     |██▍                             | 645 kB 78.3 MB/s eta 0:00:01\r",
      "\u001b[K     |██▍                             | 655 kB 78.3 MB/s eta 0:00:01\r",
      "\u001b[K     |██▌                             | 665 kB 78.3 MB/s eta 0:00:01\r",
      "\u001b[K     |██▌                             | 675 kB 78.3 MB/s eta 0:00:01\r",
      "\u001b[K     |██▌                             | 686 kB 78.3 MB/s eta 0:00:01\r",
      "\u001b[K     |██▋                             | 696 kB 78.3 MB/s eta 0:00:01\r",
      "\u001b[K     |██▋                             | 706 kB 78.3 MB/s eta 0:00:01\r",
      "\u001b[K     |██▋                             | 716 kB 78.3 MB/s eta 0:00:01\r",
      "\u001b[K     |██▊                             | 727 kB 78.3 MB/s eta 0:00:01\r",
      "\u001b[K     |██▊                             | 737 kB 78.3 MB/s eta 0:00:01\r",
      "\u001b[K     |██▉                             | 747 kB 78.3 MB/s eta 0:00:01\r",
      "\u001b[K     |██▉                             | 757 kB 78.3 MB/s eta 0:00:01\r",
      "\u001b[K     |██▉                             | 768 kB 78.3 MB/s eta 0:00:01\r",
      "\u001b[K     |███                             | 778 kB 78.3 MB/s eta 0:00:01\r",
      "\u001b[K     |███                             | 788 kB 78.3 MB/s eta 0:00:01\r",
      "\u001b[K     |███                             | 798 kB 78.3 MB/s eta 0:00:01\r",
      "\u001b[K     |███                             | 808 kB 78.3 MB/s eta 0:00:01\r",
      "\u001b[K     |███                             | 819 kB 78.3 MB/s eta 0:00:01\r",
      "\u001b[K     |███                             | 829 kB 78.3 MB/s eta 0:00:01\r",
      "\u001b[K     |███▏                            | 839 kB 78.3 MB/s eta 0:00:01\r",
      "\u001b[K     |███▏                            | 849 kB 78.3 MB/s eta 0:00:01\r",
      "\u001b[K     |███▏                            | 860 kB 78.3 MB/s eta 0:00:01\r",
      "\u001b[K     |███▎                            | 870 kB 78.3 MB/s eta 0:00:01\r",
      "\u001b[K     |███▎                            | 880 kB 78.3 MB/s eta 0:00:01\r",
      "\u001b[K     |███▎                            | 890 kB 78.3 MB/s eta 0:00:01\r",
      "\u001b[K     |███▍                            | 901 kB 78.3 MB/s eta 0:00:01\r",
      "\u001b[K     |███▍                            | 911 kB 78.3 MB/s eta 0:00:01\r",
      "\u001b[K     |███▍                            | 921 kB 78.3 MB/s eta 0:00:01\r",
      "\u001b[K     |███▌                            | 931 kB 78.3 MB/s eta 0:00:01\r",
      "\u001b[K     |███▌                            | 942 kB 78.3 MB/s eta 0:00:01\r",
      "\u001b[K     |███▌                            | 952 kB 78.3 MB/s eta 0:00:01\r",
      "\u001b[K     |███▋                            | 962 kB 78.3 MB/s eta 0:00:01\r",
      "\u001b[K     |███▋                            | 972 kB 78.3 MB/s eta 0:00:01\r",
      "\u001b[K     |███▋                            | 983 kB 78.3 MB/s eta 0:00:01\r",
      "\u001b[K     |███▊                            | 993 kB 78.3 MB/s eta 0:00:01\r",
      "\u001b[K     |███▊                            | 1.0 MB 78.3 MB/s eta 0:00:01\r",
      "\u001b[K     |███▊                            | 1.0 MB 78.3 MB/s eta 0:00:01\r",
      "\u001b[K     |███▉                            | 1.0 MB 78.3 MB/s eta 0:00:01\r",
      "\u001b[K     |███▉                            | 1.0 MB 78.3 MB/s eta 0:00:01\r",
      "\u001b[K     |███▉                            | 1.0 MB 78.3 MB/s eta 0:00:01\r",
      "\u001b[K     |████                            | 1.1 MB 78.3 MB/s eta 0:00:01\r",
      "\u001b[K     |████                            | 1.1 MB 78.3 MB/s eta 0:00:01\r",
      "\u001b[K     |████                            | 1.1 MB 78.3 MB/s eta 0:00:01\r",
      "\u001b[K     |████                            | 1.1 MB 78.3 MB/s eta 0:00:01\r",
      "\u001b[K     |████                            | 1.1 MB 78.3 MB/s eta 0:00:01\r",
      "\u001b[K     |████▏                           | 1.1 MB 78.3 MB/s eta 0:00:01\r",
      "\u001b[K     |████▏                           | 1.1 MB 78.3 MB/s eta 0:00:01\r",
      "\u001b[K     |████▏                           | 1.1 MB 78.3 MB/s eta 0:00:01\r",
      "\u001b[K     |████▎                           | 1.1 MB 78.3 MB/s eta 0:00:01\r",
      "\u001b[K     |████▎                           | 1.1 MB 78.3 MB/s eta 0:00:01\r",
      "\u001b[K     |████▎                           | 1.2 MB 78.3 MB/s eta 0:00:01\r",
      "\u001b[K     |████▍                           | 1.2 MB 78.3 MB/s eta 0:00:01\r",
      "\u001b[K     |████▍                           | 1.2 MB 78.3 MB/s eta 0:00:01\r",
      "\u001b[K     |████▍                           | 1.2 MB 78.3 MB/s eta 0:00:01\r",
      "\u001b[K     |████▌                           | 1.2 MB 78.3 MB/s eta 0:00:01\r",
      "\u001b[K     |████▌                           | 1.2 MB 78.3 MB/s eta 0:00:01\r",
      "\u001b[K     |████▌                           | 1.2 MB 78.3 MB/s eta 0:00:01\r",
      "\u001b[K     |████▋                           | 1.2 MB 78.3 MB/s eta 0:00:01\r",
      "\u001b[K     |████▋                           | 1.2 MB 78.3 MB/s eta 0:00:01\r",
      "\u001b[K     |████▋                           | 1.2 MB 78.3 MB/s eta 0:00:01\r",
      "\u001b[K     |████▊                           | 1.3 MB 78.3 MB/s eta 0:00:01\r",
      "\u001b[K     |████▊                           | 1.3 MB 78.3 MB/s eta 0:00:01\r",
      "\u001b[K     |████▊                           | 1.3 MB 78.3 MB/s eta 0:00:01\r",
      "\u001b[K     |████▉                           | 1.3 MB 78.3 MB/s eta 0:00:01\r",
      "\u001b[K     |████▉                           | 1.3 MB 78.3 MB/s eta 0:00:01\r",
      "\u001b[K     |████▉                           | 1.3 MB 78.3 MB/s eta 0:00:01\r",
      "\u001b[K     |█████                           | 1.3 MB 78.3 MB/s eta 0:00:01\r",
      "\u001b[K     |█████                           | 1.3 MB 78.3 MB/s eta 0:00:01\r",
      "\u001b[K     |█████                           | 1.3 MB 78.3 MB/s eta 0:00:01\r",
      "\u001b[K     |█████                           | 1.4 MB 78.3 MB/s eta 0:00:01\r",
      "\u001b[K     |█████                           | 1.4 MB 78.3 MB/s eta 0:00:01\r",
      "\u001b[K     |█████                           | 1.4 MB 78.3 MB/s eta 0:00:01\r",
      "\u001b[K     |█████▏                          | 1.4 MB 78.3 MB/s eta 0:00:01\r",
      "\u001b[K     |█████▏                          | 1.4 MB 78.3 MB/s eta 0:00:01\r",
      "\u001b[K     |█████▏                          | 1.4 MB 78.3 MB/s eta 0:00:01\r",
      "\u001b[K     |█████▎                          | 1.4 MB 78.3 MB/s eta 0:00:01\r",
      "\u001b[K     |█████▎                          | 1.4 MB 78.3 MB/s eta 0:00:01\r",
      "\u001b[K     |█████▎                          | 1.4 MB 78.3 MB/s eta 0:00:01\r",
      "\u001b[K     |█████▍                          | 1.4 MB 78.3 MB/s eta 0:00:01\r",
      "\u001b[K     |█████▍                          | 1.5 MB 78.3 MB/s eta 0:00:01\r",
      "\u001b[K     |█████▌                          | 1.5 MB 78.3 MB/s eta 0:00:01\r",
      "\u001b[K     |█████▌                          | 1.5 MB 78.3 MB/s eta 0:00:01\r",
      "\u001b[K     |█████▌                          | 1.5 MB 78.3 MB/s eta 0:00:01\r",
      "\u001b[K     |█████▋                          | 1.5 MB 78.3 MB/s eta 0:00:01\r",
      "\u001b[K     |█████▋                          | 1.5 MB 78.3 MB/s eta 0:00:01\r",
      "\u001b[K     |█████▋                          | 1.5 MB 78.3 MB/s eta 0:00:01\r",
      "\u001b[K     |█████▊                          | 1.5 MB 78.3 MB/s eta 0:00:01\r",
      "\u001b[K     |█████▊                          | 1.5 MB 78.3 MB/s eta 0:00:01\r",
      "\u001b[K     |█████▊                          | 1.5 MB 78.3 MB/s eta 0:00:01\r",
      "\u001b[K     |█████▉                          | 1.6 MB 78.3 MB/s eta 0:00:01\r",
      "\u001b[K     |█████▉                          | 1.6 MB 78.3 MB/s eta 0:00:01\r",
      "\u001b[K     |█████▉                          | 1.6 MB 78.3 MB/s eta 0:00:01\r",
      "\u001b[K     |██████                          | 1.6 MB 78.3 MB/s eta 0:00:01\r",
      "\u001b[K     |██████                          | 1.6 MB 78.3 MB/s eta 0:00:01\r",
      "\u001b[K     |██████                          | 1.6 MB 78.3 MB/s eta 0:00:01\r",
      "\u001b[K     |██████                          | 1.6 MB 78.3 MB/s eta 0:00:01\r",
      "\u001b[K     |██████                          | 1.6 MB 78.3 MB/s eta 0:00:01\r",
      "\u001b[K     |██████                          | 1.6 MB 78.3 MB/s eta 0:00:01\r",
      "\u001b[K     |██████▏                         | 1.6 MB 78.3 MB/s eta 0:00:01\r",
      "\u001b[K     |██████▏                         | 1.7 MB 78.3 MB/s eta 0:00:01\r",
      "\u001b[K     |██████▏                         | 1.7 MB 78.3 MB/s eta 0:00:01\r",
      "\u001b[K     |██████▎                         | 1.7 MB 78.3 MB/s eta 0:00:01\r",
      "\u001b[K     |██████▎                         | 1.7 MB 78.3 MB/s eta 0:00:01\r",
      "\u001b[K     |██████▎                         | 1.7 MB 78.3 MB/s eta 0:00:01\r",
      "\u001b[K     |██████▍                         | 1.7 MB 78.3 MB/s eta 0:00:01\r",
      "\u001b[K     |██████▍                         | 1.7 MB 78.3 MB/s eta 0:00:01\r",
      "\u001b[K     |██████▍                         | 1.7 MB 78.3 MB/s eta 0:00:01\r",
      "\u001b[K     |██████▌                         | 1.7 MB 78.3 MB/s eta 0:00:01\r",
      "\u001b[K     |██████▌                         | 1.8 MB 78.3 MB/s eta 0:00:01\r",
      "\u001b[K     |██████▌                         | 1.8 MB 78.3 MB/s eta 0:00:01\r",
      "\u001b[K     |██████▋                         | 1.8 MB 78.3 MB/s eta 0:00:01\r",
      "\u001b[K     |██████▋                         | 1.8 MB 78.3 MB/s eta 0:00:01\r",
      "\u001b[K     |██████▋                         | 1.8 MB 78.3 MB/s eta 0:00:01\r",
      "\u001b[K     |██████▊                         | 1.8 MB 78.3 MB/s eta 0:00:01\r",
      "\u001b[K     |██████▊                         | 1.8 MB 78.3 MB/s eta 0:00:01\r",
      "\u001b[K     |██████▉                         | 1.8 MB 78.3 MB/s eta 0:00:01\r",
      "\u001b[K     |██████▉                         | 1.8 MB 78.3 MB/s eta 0:00:01\r",
      "\u001b[K     |██████▉                         | 1.8 MB 78.3 MB/s eta 0:00:01\r",
      "\u001b[K     |███████                         | 1.9 MB 78.3 MB/s eta 0:00:01\r",
      "\u001b[K     |███████                         | 1.9 MB 78.3 MB/s eta 0:00:01\r",
      "\u001b[K     |███████                         | 1.9 MB 78.3 MB/s eta 0:00:01\r",
      "\u001b[K     |███████                         | 1.9 MB 78.3 MB/s eta 0:00:01\r",
      "\u001b[K     |███████                         | 1.9 MB 78.3 MB/s eta 0:00:01\r",
      "\u001b[K     |███████                         | 1.9 MB 78.3 MB/s eta 0:00:01\r",
      "\u001b[K     |███████▏                        | 1.9 MB 78.3 MB/s eta 0:00:01\r",
      "\u001b[K     |███████▏                        | 1.9 MB 78.3 MB/s eta 0:00:01\r",
      "\u001b[K     |███████▏                        | 1.9 MB 78.3 MB/s eta 0:00:01\r",
      "\u001b[K     |███████▎                        | 1.9 MB 78.3 MB/s eta 0:00:01\r",
      "\u001b[K     |███████▎                        | 2.0 MB 78.3 MB/s eta 0:00:01\r",
      "\u001b[K     |███████▎                        | 2.0 MB 78.3 MB/s eta 0:00:01\r",
      "\u001b[K     |███████▍                        | 2.0 MB 78.3 MB/s eta 0:00:01\r",
      "\u001b[K     |███████▍                        | 2.0 MB 78.3 MB/s eta 0:00:01\r",
      "\u001b[K     |███████▍                        | 2.0 MB 78.3 MB/s eta 0:00:01\r",
      "\u001b[K     |███████▌                        | 2.0 MB 78.3 MB/s eta 0:00:01\r",
      "\u001b[K     |███████▌                        | 2.0 MB 78.3 MB/s eta 0:00:01\r",
      "\u001b[K     |███████▌                        | 2.0 MB 78.3 MB/s eta 0:00:01\r",
      "\u001b[K     |███████▋                        | 2.0 MB 78.3 MB/s eta 0:00:01\r",
      "\u001b[K     |███████▋                        | 2.0 MB 78.3 MB/s eta 0:00:01\r",
      "\u001b[K     |███████▋                        | 2.1 MB 78.3 MB/s eta 0:00:01\r",
      "\u001b[K     |███████▊                        | 2.1 MB 78.3 MB/s eta 0:00:01\r",
      "\u001b[K     |███████▊                        | 2.1 MB 78.3 MB/s eta 0:00:01\r",
      "\u001b[K     |███████▊                        | 2.1 MB 78.3 MB/s eta 0:00:01\r",
      "\u001b[K     |███████▉                        | 2.1 MB 78.3 MB/s eta 0:00:01\r",
      "\u001b[K     |███████▉                        | 2.1 MB 78.3 MB/s eta 0:00:01\r",
      "\u001b[K     |███████▉                        | 2.1 MB 78.3 MB/s eta 0:00:01\r",
      "\u001b[K     |████████                        | 2.1 MB 78.3 MB/s eta 0:00:01\r",
      "\u001b[K     |████████                        | 2.1 MB 78.3 MB/s eta 0:00:01\r",
      "\u001b[K     |████████                        | 2.2 MB 78.3 MB/s eta 0:00:01\r",
      "\u001b[K     |████████                        | 2.2 MB 78.3 MB/s eta 0:00:01\r",
      "\u001b[K     |████████                        | 2.2 MB 78.3 MB/s eta 0:00:01\r",
      "\u001b[K     |████████                        | 2.2 MB 78.3 MB/s eta 0:00:01\r",
      "\u001b[K     |████████▏                       | 2.2 MB 78.3 MB/s eta 0:00:01\r",
      "\u001b[K     |████████▏                       | 2.2 MB 78.3 MB/s eta 0:00:01\r",
      "\u001b[K     |████████▎                       | 2.2 MB 78.3 MB/s eta 0:00:01\r",
      "\u001b[K     |████████▎                       | 2.2 MB 78.3 MB/s eta 0:00:01\r",
      "\u001b[K     |████████▎                       | 2.2 MB 78.3 MB/s eta 0:00:01\r",
      "\u001b[K     |████████▍                       | 2.2 MB 78.3 MB/s eta 0:00:01\r",
      "\u001b[K     |████████▍                       | 2.3 MB 78.3 MB/s eta 0:00:01\r",
      "\u001b[K     |████████▍                       | 2.3 MB 78.3 MB/s eta 0:00:01\r",
      "\u001b[K     |████████▌                       | 2.3 MB 78.3 MB/s eta 0:00:01\r",
      "\u001b[K     |████████▌                       | 2.3 MB 78.3 MB/s eta 0:00:01\r",
      "\u001b[K     |████████▌                       | 2.3 MB 78.3 MB/s eta 0:00:01\r",
      "\u001b[K     |████████▋                       | 2.3 MB 78.3 MB/s eta 0:00:01\r",
      "\u001b[K     |████████▋                       | 2.3 MB 78.3 MB/s eta 0:00:01\r",
      "\u001b[K     |████████▋                       | 2.3 MB 78.3 MB/s eta 0:00:01\r",
      "\u001b[K     |████████▊                       | 2.3 MB 78.3 MB/s eta 0:00:01\r",
      "\u001b[K     |████████▊                       | 2.3 MB 78.3 MB/s eta 0:00:01\r",
      "\u001b[K     |████████▊                       | 2.4 MB 78.3 MB/s eta 0:00:01\r",
      "\u001b[K     |████████▉                       | 2.4 MB 78.3 MB/s eta 0:00:01\r",
      "\u001b[K     |████████▉                       | 2.4 MB 78.3 MB/s eta 0:00:01\r",
      "\u001b[K     |████████▉                       | 2.4 MB 78.3 MB/s eta 0:00:01\r",
      "\u001b[K     |█████████                       | 2.4 MB 78.3 MB/s eta 0:00:01\r",
      "\u001b[K     |█████████                       | 2.4 MB 78.3 MB/s eta 0:00:01\r",
      "\u001b[K     |█████████                       | 2.4 MB 78.3 MB/s eta 0:00:01\r",
      "\u001b[K     |█████████                       | 2.4 MB 78.3 MB/s eta 0:00:01\r",
      "\u001b[K     |█████████                       | 2.4 MB 78.3 MB/s eta 0:00:01\r",
      "\u001b[K     |█████████                       | 2.4 MB 78.3 MB/s eta 0:00:01\r",
      "\u001b[K     |█████████▏                      | 2.5 MB 78.3 MB/s eta 0:00:01\r",
      "\u001b[K     |█████████▏                      | 2.5 MB 78.3 MB/s eta 0:00:01\r",
      "\u001b[K     |█████████▏                      | 2.5 MB 78.3 MB/s eta 0:00:01\r",
      "\u001b[K     |█████████▎                      | 2.5 MB 78.3 MB/s eta 0:00:01\r",
      "\u001b[K     |█████████▎                      | 2.5 MB 78.3 MB/s eta 0:00:01\r",
      "\u001b[K     |█████████▎                      | 2.5 MB 78.3 MB/s eta 0:00:01\r",
      "\u001b[K     |█████████▍                      | 2.5 MB 78.3 MB/s eta 0:00:01\r",
      "\u001b[K     |█████████▍                      | 2.5 MB 78.3 MB/s eta 0:00:01\r",
      "\u001b[K     |█████████▍                      | 2.5 MB 78.3 MB/s eta 0:00:01\r",
      "\u001b[K     |█████████▌                      | 2.5 MB 78.3 MB/s eta 0:00:01\r",
      "\u001b[K     |█████████▌                      | 2.6 MB 78.3 MB/s eta 0:00:01\r",
      "\u001b[K     |█████████▋                      | 2.6 MB 78.3 MB/s eta 0:00:01\r",
      "\u001b[K     |█████████▋                      | 2.6 MB 78.3 MB/s eta 0:00:01\r",
      "\u001b[K     |█████████▋                      | 2.6 MB 78.3 MB/s eta 0:00:01\r",
      "\u001b[K     |█████████▊                      | 2.6 MB 78.3 MB/s eta 0:00:01\r",
      "\u001b[K     |█████████▊                      | 2.6 MB 78.3 MB/s eta 0:00:01\r",
      "\u001b[K     |█████████▊                      | 2.6 MB 78.3 MB/s eta 0:00:01\r",
      "\u001b[K     |█████████▉                      | 2.6 MB 78.3 MB/s eta 0:00:01\r",
      "\u001b[K     |█████████▉                      | 2.6 MB 78.3 MB/s eta 0:00:01\r",
      "\u001b[K     |█████████▉                      | 2.7 MB 78.3 MB/s eta 0:00:01\r",
      "\u001b[K     |██████████                      | 2.7 MB 78.3 MB/s eta 0:00:01\r",
      "\u001b[K     |██████████                      | 2.7 MB 78.3 MB/s eta 0:00:01\r",
      "\u001b[K     |██████████                      | 2.7 MB 78.3 MB/s eta 0:00:01\r",
      "\u001b[K     |██████████                      | 2.7 MB 78.3 MB/s eta 0:00:01\r",
      "\u001b[K     |██████████                      | 2.7 MB 78.3 MB/s eta 0:00:01\r",
      "\u001b[K     |██████████                      | 2.7 MB 78.3 MB/s eta 0:00:01\r",
      "\u001b[K     |██████████▏                     | 2.7 MB 78.3 MB/s eta 0:00:01\r",
      "\u001b[K     |██████████▏                     | 2.7 MB 78.3 MB/s eta 0:00:01\r",
      "\u001b[K     |██████████▏                     | 2.7 MB 78.3 MB/s eta 0:00:01\r",
      "\u001b[K     |██████████▎                     | 2.8 MB 78.3 MB/s eta 0:00:01\r",
      "\u001b[K     |██████████▎                     | 2.8 MB 78.3 MB/s eta 0:00:01\r",
      "\u001b[K     |██████████▎                     | 2.8 MB 78.3 MB/s eta 0:00:01\r",
      "\u001b[K     |██████████▍                     | 2.8 MB 78.3 MB/s eta 0:00:01\r",
      "\u001b[K     |██████████▍                     | 2.8 MB 78.3 MB/s eta 0:00:01\r",
      "\u001b[K     |██████████▍                     | 2.8 MB 78.3 MB/s eta 0:00:01\r",
      "\u001b[K     |██████████▌                     | 2.8 MB 78.3 MB/s eta 0:00:01\r",
      "\u001b[K     |██████████▌                     | 2.8 MB 78.3 MB/s eta 0:00:01\r",
      "\u001b[K     |██████████▌                     | 2.8 MB 78.3 MB/s eta 0:00:01\r",
      "\u001b[K     |██████████▋                     | 2.8 MB 78.3 MB/s eta 0:00:01\r",
      "\u001b[K     |██████████▋                     | 2.9 MB 78.3 MB/s eta 0:00:01\r",
      "\u001b[K     |██████████▋                     | 2.9 MB 78.3 MB/s eta 0:00:01\r",
      "\u001b[K     |██████████▊                     | 2.9 MB 78.3 MB/s eta 0:00:01\r",
      "\u001b[K     |██████████▊                     | 2.9 MB 78.3 MB/s eta 0:00:01\r",
      "\u001b[K     |██████████▊                     | 2.9 MB 78.3 MB/s eta 0:00:01\r",
      "\u001b[K     |██████████▉                     | 2.9 MB 78.3 MB/s eta 0:00:01\r",
      "\u001b[K     |██████████▉                     | 2.9 MB 78.3 MB/s eta 0:00:01\r",
      "\u001b[K     |███████████                     | 2.9 MB 78.3 MB/s eta 0:00:01\r",
      "\u001b[K     |███████████                     | 2.9 MB 78.3 MB/s eta 0:00:01\r",
      "\u001b[K     |███████████                     | 2.9 MB 78.3 MB/s eta 0:00:01\r",
      "\u001b[K     |███████████                     | 3.0 MB 78.3 MB/s eta 0:00:01\r",
      "\u001b[K     |███████████                     | 3.0 MB 78.3 MB/s eta 0:00:01\r",
      "\u001b[K     |███████████                     | 3.0 MB 78.3 MB/s eta 0:00:01\r",
      "\u001b[K     |███████████▏                    | 3.0 MB 78.3 MB/s eta 0:00:01\r",
      "\u001b[K     |███████████▏                    | 3.0 MB 78.3 MB/s eta 0:00:01\r",
      "\u001b[K     |███████████▏                    | 3.0 MB 78.3 MB/s eta 0:00:01\r",
      "\u001b[K     |███████████▎                    | 3.0 MB 78.3 MB/s eta 0:00:01\r",
      "\u001b[K     |███████████▎                    | 3.0 MB 78.3 MB/s eta 0:00:01\r",
      "\u001b[K     |███████████▎                    | 3.0 MB 78.3 MB/s eta 0:00:01\r",
      "\u001b[K     |███████████▍                    | 3.1 MB 78.3 MB/s eta 0:00:01\r",
      "\u001b[K     |███████████▍                    | 3.1 MB 78.3 MB/s eta 0:00:01\r",
      "\u001b[K     |███████████▍                    | 3.1 MB 78.3 MB/s eta 0:00:01\r",
      "\u001b[K     |███████████▌                    | 3.1 MB 78.3 MB/s eta 0:00:01\r",
      "\u001b[K     |███████████▌                    | 3.1 MB 78.3 MB/s eta 0:00:01\r",
      "\u001b[K     |███████████▌                    | 3.1 MB 78.3 MB/s eta 0:00:01\r",
      "\u001b[K     |███████████▋                    | 3.1 MB 78.3 MB/s eta 0:00:01\r",
      "\u001b[K     |███████████▋                    | 3.1 MB 78.3 MB/s eta 0:00:01\r",
      "\u001b[K     |███████████▋                    | 3.1 MB 78.3 MB/s eta 0:00:01\r",
      "\u001b[K     |███████████▊                    | 3.1 MB 78.3 MB/s eta 0:00:01\r",
      "\u001b[K     |███████████▊                    | 3.2 MB 78.3 MB/s eta 0:00:01\r",
      "\u001b[K     |███████████▊                    | 3.2 MB 78.3 MB/s eta 0:00:01\r",
      "\u001b[K     |███████████▉                    | 3.2 MB 78.3 MB/s eta 0:00:01\r",
      "\u001b[K     |███████████▉                    | 3.2 MB 78.3 MB/s eta 0:00:01\r",
      "\u001b[K     |███████████▉                    | 3.2 MB 78.3 MB/s eta 0:00:01\r",
      "\u001b[K     |████████████                    | 3.2 MB 78.3 MB/s eta 0:00:01\r",
      "\u001b[K     |████████████                    | 3.2 MB 78.3 MB/s eta 0:00:01\r",
      "\u001b[K     |████████████                    | 3.2 MB 78.3 MB/s eta 0:00:01\r",
      "\u001b[K     |████████████                    | 3.2 MB 78.3 MB/s eta 0:00:01\r",
      "\u001b[K     |████████████                    | 3.2 MB 78.3 MB/s eta 0:00:01\r",
      "\u001b[K     |████████████                    | 3.3 MB 78.3 MB/s eta 0:00:01\r",
      "\u001b[K     |████████████▏                   | 3.3 MB 78.3 MB/s eta 0:00:01\r",
      "\u001b[K     |████████████▏                   | 3.3 MB 78.3 MB/s eta 0:00:01\r",
      "\u001b[K     |████████████▎                   | 3.3 MB 78.3 MB/s eta 0:00:01\r",
      "\u001b[K     |████████████▎                   | 3.3 MB 78.3 MB/s eta 0:00:01\r",
      "\u001b[K     |████████████▎                   | 3.3 MB 78.3 MB/s eta 0:00:01\r",
      "\u001b[K     |████████████▍                   | 3.3 MB 78.3 MB/s eta 0:00:01\r",
      "\u001b[K     |████████████▍                   | 3.3 MB 78.3 MB/s eta 0:00:01\r",
      "\u001b[K     |████████████▍                   | 3.3 MB 78.3 MB/s eta 0:00:01\r",
      "\u001b[K     |████████████▌                   | 3.3 MB 78.3 MB/s eta 0:00:01\r",
      "\u001b[K     |████████████▌                   | 3.4 MB 78.3 MB/s eta 0:00:01\r",
      "\u001b[K     |████████████▌                   | 3.4 MB 78.3 MB/s eta 0:00:01\r",
      "\u001b[K     |████████████▋                   | 3.4 MB 78.3 MB/s eta 0:00:01\r",
      "\u001b[K     |████████████▋                   | 3.4 MB 78.3 MB/s eta 0:00:01\r",
      "\u001b[K     |████████████▋                   | 3.4 MB 78.3 MB/s eta 0:00:01\r",
      "\u001b[K     |████████████▊                   | 3.4 MB 78.3 MB/s eta 0:00:01\r",
      "\u001b[K     |████████████▊                   | 3.4 MB 78.3 MB/s eta 0:00:01\r",
      "\u001b[K     |████████████▊                   | 3.4 MB 78.3 MB/s eta 0:00:01\r",
      "\u001b[K     |████████████▉                   | 3.4 MB 78.3 MB/s eta 0:00:01\r",
      "\u001b[K     |████████████▉                   | 3.5 MB 78.3 MB/s eta 0:00:01\r",
      "\u001b[K     |████████████▉                   | 3.5 MB 78.3 MB/s eta 0:00:01\r",
      "\u001b[K     |█████████████                   | 3.5 MB 78.3 MB/s eta 0:00:01\r",
      "\u001b[K     |█████████████                   | 3.5 MB 78.3 MB/s eta 0:00:01\r",
      "\u001b[K     |█████████████                   | 3.5 MB 78.3 MB/s eta 0:00:01\r",
      "\u001b[K     |█████████████                   | 3.5 MB 78.3 MB/s eta 0:00:01\r",
      "\u001b[K     |█████████████                   | 3.5 MB 78.3 MB/s eta 0:00:01\r",
      "\u001b[K     |█████████████                   | 3.5 MB 78.3 MB/s eta 0:00:01\r",
      "\u001b[K     |█████████████▏                  | 3.5 MB 78.3 MB/s eta 0:00:01\r",
      "\u001b[K     |█████████████▏                  | 3.5 MB 78.3 MB/s eta 0:00:01\r",
      "\u001b[K     |█████████████▏                  | 3.6 MB 78.3 MB/s eta 0:00:01\r",
      "\u001b[K     |█████████████▎                  | 3.6 MB 78.3 MB/s eta 0:00:01\r",
      "\u001b[K     |█████████████▎                  | 3.6 MB 78.3 MB/s eta 0:00:01\r",
      "\u001b[K     |█████████████▎                  | 3.6 MB 78.3 MB/s eta 0:00:01\r",
      "\u001b[K     |█████████████▍                  | 3.6 MB 78.3 MB/s eta 0:00:01\r",
      "\u001b[K     |█████████████▍                  | 3.6 MB 78.3 MB/s eta 0:00:01\r",
      "\u001b[K     |█████████████▍                  | 3.6 MB 78.3 MB/s eta 0:00:01\r",
      "\u001b[K     |█████████████▌                  | 3.6 MB 78.3 MB/s eta 0:00:01\r",
      "\u001b[K     |█████████████▌                  | 3.6 MB 78.3 MB/s eta 0:00:01\r",
      "\u001b[K     |█████████████▋                  | 3.6 MB 78.3 MB/s eta 0:00:01\r",
      "\u001b[K     |█████████████▋                  | 3.7 MB 78.3 MB/s eta 0:00:01\r",
      "\u001b[K     |█████████████▋                  | 3.7 MB 78.3 MB/s eta 0:00:01\r",
      "\u001b[K     |█████████████▊                  | 3.7 MB 78.3 MB/s eta 0:00:01\r",
      "\u001b[K     |█████████████▊                  | 3.7 MB 78.3 MB/s eta 0:00:01\r",
      "\u001b[K     |█████████████▊                  | 3.7 MB 78.3 MB/s eta 0:00:01\r",
      "\u001b[K     |█████████████▉                  | 3.7 MB 78.3 MB/s eta 0:00:01\r",
      "\u001b[K     |█████████████▉                  | 3.7 MB 78.3 MB/s eta 0:00:01\r",
      "\u001b[K     |█████████████▉                  | 3.7 MB 78.3 MB/s eta 0:00:01\r",
      "\u001b[K     |██████████████                  | 3.7 MB 78.3 MB/s eta 0:00:01\r",
      "\u001b[K     |██████████████                  | 3.7 MB 78.3 MB/s eta 0:00:01\r",
      "\u001b[K     |██████████████                  | 3.8 MB 78.3 MB/s eta 0:00:01\r",
      "\u001b[K     |██████████████                  | 3.8 MB 78.3 MB/s eta 0:00:01\r",
      "\u001b[K     |██████████████                  | 3.8 MB 78.3 MB/s eta 0:00:01\r",
      "\u001b[K     |██████████████                  | 3.8 MB 78.3 MB/s eta 0:00:01\r",
      "\u001b[K     |██████████████▏                 | 3.8 MB 78.3 MB/s eta 0:00:01\r",
      "\u001b[K     |██████████████▏                 | 3.8 MB 78.3 MB/s eta 0:00:01\r",
      "\u001b[K     |██████████████▏                 | 3.8 MB 78.3 MB/s eta 0:00:01\r",
      "\u001b[K     |██████████████▎                 | 3.8 MB 78.3 MB/s eta 0:00:01\r",
      "\u001b[K     |██████████████▎                 | 3.8 MB 78.3 MB/s eta 0:00:01\r",
      "\u001b[K     |██████████████▎                 | 3.9 MB 78.3 MB/s eta 0:00:01\r",
      "\u001b[K     |██████████████▍                 | 3.9 MB 78.3 MB/s eta 0:00:01\r",
      "\u001b[K     |██████████████▍                 | 3.9 MB 78.3 MB/s eta 0:00:01\r",
      "\u001b[K     |██████████████▍                 | 3.9 MB 78.3 MB/s eta 0:00:01\r",
      "\u001b[K     |██████████████▌                 | 3.9 MB 78.3 MB/s eta 0:00:01\r",
      "\u001b[K     |██████████████▌                 | 3.9 MB 78.3 MB/s eta 0:00:01\r",
      "\u001b[K     |██████████████▌                 | 3.9 MB 78.3 MB/s eta 0:00:01\r",
      "\u001b[K     |██████████████▋                 | 3.9 MB 78.3 MB/s eta 0:00:01\r",
      "\u001b[K     |██████████████▋                 | 3.9 MB 78.3 MB/s eta 0:00:01\r",
      "\u001b[K     |██████████████▋                 | 3.9 MB 78.3 MB/s eta 0:00:01\r",
      "\u001b[K     |██████████████▊                 | 4.0 MB 78.3 MB/s eta 0:00:01\r",
      "\u001b[K     |██████████████▊                 | 4.0 MB 78.3 MB/s eta 0:00:01\r",
      "\u001b[K     |██████████████▊                 | 4.0 MB 78.3 MB/s eta 0:00:01\r",
      "\u001b[K     |██████████████▉                 | 4.0 MB 78.3 MB/s eta 0:00:01\r",
      "\u001b[K     |██████████████▉                 | 4.0 MB 78.3 MB/s eta 0:00:01\r",
      "\u001b[K     |██████████████▉                 | 4.0 MB 78.3 MB/s eta 0:00:01\r",
      "\u001b[K     |███████████████                 | 4.0 MB 78.3 MB/s eta 0:00:01\r",
      "\u001b[K     |███████████████                 | 4.0 MB 78.3 MB/s eta 0:00:01\r",
      "\u001b[K     |███████████████                 | 4.0 MB 78.3 MB/s eta 0:00:01\r",
      "\u001b[K     |███████████████                 | 4.0 MB 78.3 MB/s eta 0:00:01\r",
      "\u001b[K     |███████████████                 | 4.1 MB 78.3 MB/s eta 0:00:01\r",
      "\u001b[K     |███████████████▏                | 4.1 MB 78.3 MB/s eta 0:00:01\r",
      "\u001b[K     |███████████████▏                | 4.1 MB 78.3 MB/s eta 0:00:01\r",
      "\u001b[K     |███████████████▏                | 4.1 MB 78.3 MB/s eta 0:00:01\r",
      "\u001b[K     |███████████████▎                | 4.1 MB 78.3 MB/s eta 0:00:01\r",
      "\u001b[K     |███████████████▎                | 4.1 MB 78.3 MB/s eta 0:00:01\r",
      "\u001b[K     |███████████████▎                | 4.1 MB 78.3 MB/s eta 0:00:01\r",
      "\u001b[K     |███████████████▍                | 4.1 MB 78.3 MB/s eta 0:00:01\r",
      "\u001b[K     |███████████████▍                | 4.1 MB 78.3 MB/s eta 0:00:01\r",
      "\u001b[K     |███████████████▍                | 4.1 MB 78.3 MB/s eta 0:00:01\r",
      "\u001b[K     |███████████████▌                | 4.2 MB 78.3 MB/s eta 0:00:01\r",
      "\u001b[K     |███████████████▌                | 4.2 MB 78.3 MB/s eta 0:00:01\r",
      "\u001b[K     |███████████████▌                | 4.2 MB 78.3 MB/s eta 0:00:01\r",
      "\u001b[K     |███████████████▋                | 4.2 MB 78.3 MB/s eta 0:00:01\r",
      "\u001b[K     |███████████████▋                | 4.2 MB 78.3 MB/s eta 0:00:01\r",
      "\u001b[K     |███████████████▋                | 4.2 MB 78.3 MB/s eta 0:00:01\r",
      "\u001b[K     |███████████████▊                | 4.2 MB 78.3 MB/s eta 0:00:01\r",
      "\u001b[K     |███████████████▊                | 4.2 MB 78.3 MB/s eta 0:00:01\r",
      "\u001b[K     |███████████████▊                | 4.2 MB 78.3 MB/s eta 0:00:01\r",
      "\u001b[K     |███████████████▉                | 4.2 MB 78.3 MB/s eta 0:00:01\r",
      "\u001b[K     |███████████████▉                | 4.3 MB 78.3 MB/s eta 0:00:01\r",
      "\u001b[K     |███████████████▉                | 4.3 MB 78.3 MB/s eta 0:00:01\r",
      "\u001b[K     |████████████████                | 4.3 MB 78.3 MB/s eta 0:00:01\r",
      "\u001b[K     |████████████████                | 4.3 MB 78.3 MB/s eta 0:00:01\r",
      "\u001b[K     |████████████████                | 4.3 MB 78.3 MB/s eta 0:00:01\r",
      "\u001b[K     |████████████████                | 4.3 MB 78.3 MB/s eta 0:00:01\r",
      "\u001b[K     |████████████████                | 4.3 MB 78.3 MB/s eta 0:00:01\r",
      "\u001b[K     |████████████████                | 4.3 MB 78.3 MB/s eta 0:00:01\r",
      "\u001b[K     |████████████████▏               | 4.3 MB 78.3 MB/s eta 0:00:01\r",
      "\u001b[K     |████████████████▏               | 4.4 MB 78.3 MB/s eta 0:00:01\r",
      "\u001b[K     |████████████████▏               | 4.4 MB 78.3 MB/s eta 0:00:01\r",
      "\u001b[K     |████████████████▎               | 4.4 MB 78.3 MB/s eta 0:00:01\r",
      "\u001b[K     |████████████████▎               | 4.4 MB 78.3 MB/s eta 0:00:01\r",
      "\u001b[K     |████████████████▍               | 4.4 MB 78.3 MB/s eta 0:00:01\r",
      "\u001b[K     |████████████████▍               | 4.4 MB 78.3 MB/s eta 0:00:01\r",
      "\u001b[K     |████████████████▍               | 4.4 MB 78.3 MB/s eta 0:00:01\r",
      "\u001b[K     |████████████████▌               | 4.4 MB 78.3 MB/s eta 0:00:01\r",
      "\u001b[K     |████████████████▌               | 4.4 MB 78.3 MB/s eta 0:00:01\r",
      "\u001b[K     |████████████████▌               | 4.4 MB 78.3 MB/s eta 0:00:01\r",
      "\u001b[K     |████████████████▋               | 4.5 MB 78.3 MB/s eta 0:00:01\r",
      "\u001b[K     |████████████████▋               | 4.5 MB 78.3 MB/s eta 0:00:01"
     ]
    },
    {
     "name": "stdout",
     "output_type": "stream",
     "text": [
      "\r",
      "\u001b[K     |████████████████▋               | 4.5 MB 78.3 MB/s eta 0:00:01\r",
      "\u001b[K     |████████████████▊               | 4.5 MB 78.3 MB/s eta 0:00:01\r",
      "\u001b[K     |████████████████▊               | 4.5 MB 78.3 MB/s eta 0:00:01\r",
      "\u001b[K     |████████████████▊               | 4.5 MB 78.3 MB/s eta 0:00:01\r",
      "\u001b[K     |████████████████▉               | 4.5 MB 78.3 MB/s eta 0:00:01\r",
      "\u001b[K     |████████████████▉               | 4.5 MB 78.3 MB/s eta 0:00:01\r",
      "\u001b[K     |████████████████▉               | 4.5 MB 78.3 MB/s eta 0:00:01\r",
      "\u001b[K     |█████████████████               | 4.5 MB 78.3 MB/s eta 0:00:01\r",
      "\u001b[K     |█████████████████               | 4.6 MB 78.3 MB/s eta 0:00:01\r",
      "\u001b[K     |█████████████████               | 4.6 MB 78.3 MB/s eta 0:00:01\r",
      "\u001b[K     |█████████████████               | 4.6 MB 78.3 MB/s eta 0:00:01\r",
      "\u001b[K     |█████████████████               | 4.6 MB 78.3 MB/s eta 0:00:01\r",
      "\u001b[K     |█████████████████               | 4.6 MB 78.3 MB/s eta 0:00:01\r",
      "\u001b[K     |█████████████████▏              | 4.6 MB 78.3 MB/s eta 0:00:01\r",
      "\u001b[K     |█████████████████▏              | 4.6 MB 78.3 MB/s eta 0:00:01\r",
      "\u001b[K     |█████████████████▏              | 4.6 MB 78.3 MB/s eta 0:00:01\r",
      "\u001b[K     |█████████████████▎              | 4.6 MB 78.3 MB/s eta 0:00:01\r",
      "\u001b[K     |█████████████████▎              | 4.6 MB 78.3 MB/s eta 0:00:01\r",
      "\u001b[K     |█████████████████▎              | 4.7 MB 78.3 MB/s eta 0:00:01\r",
      "\u001b[K     |█████████████████▍              | 4.7 MB 78.3 MB/s eta 0:00:01\r",
      "\u001b[K     |█████████████████▍              | 4.7 MB 78.3 MB/s eta 0:00:01\r",
      "\u001b[K     |█████████████████▍              | 4.7 MB 78.3 MB/s eta 0:00:01\r",
      "\u001b[K     |█████████████████▌              | 4.7 MB 78.3 MB/s eta 0:00:01\r",
      "\u001b[K     |█████████████████▌              | 4.7 MB 78.3 MB/s eta 0:00:01\r",
      "\u001b[K     |█████████████████▌              | 4.7 MB 78.3 MB/s eta 0:00:01\r",
      "\u001b[K     |█████████████████▋              | 4.7 MB 78.3 MB/s eta 0:00:01\r",
      "\u001b[K     |█████████████████▋              | 4.7 MB 78.3 MB/s eta 0:00:01\r",
      "\u001b[K     |█████████████████▊              | 4.8 MB 78.3 MB/s eta 0:00:01\r",
      "\u001b[K     |█████████████████▊              | 4.8 MB 78.3 MB/s eta 0:00:01\r",
      "\u001b[K     |█████████████████▊              | 4.8 MB 78.3 MB/s eta 0:00:01\r",
      "\u001b[K     |█████████████████▉              | 4.8 MB 78.3 MB/s eta 0:00:01\r",
      "\u001b[K     |█████████████████▉              | 4.8 MB 78.3 MB/s eta 0:00:01\r",
      "\u001b[K     |█████████████████▉              | 4.8 MB 78.3 MB/s eta 0:00:01\r",
      "\u001b[K     |██████████████████              | 4.8 MB 78.3 MB/s eta 0:00:01\r",
      "\u001b[K     |██████████████████              | 4.8 MB 78.3 MB/s eta 0:00:01\r",
      "\u001b[K     |██████████████████              | 4.8 MB 78.3 MB/s eta 0:00:01\r",
      "\u001b[K     |██████████████████              | 4.8 MB 78.3 MB/s eta 0:00:01\r",
      "\u001b[K     |██████████████████              | 4.9 MB 78.3 MB/s eta 0:00:01\r",
      "\u001b[K     |██████████████████              | 4.9 MB 78.3 MB/s eta 0:00:01\r",
      "\u001b[K     |██████████████████▏             | 4.9 MB 78.3 MB/s eta 0:00:01\r",
      "\u001b[K     |██████████████████▏             | 4.9 MB 78.3 MB/s eta 0:00:01\r",
      "\u001b[K     |██████████████████▏             | 4.9 MB 78.3 MB/s eta 0:00:01\r",
      "\u001b[K     |██████████████████▎             | 4.9 MB 78.3 MB/s eta 0:00:01\r",
      "\u001b[K     |██████████████████▎             | 4.9 MB 78.3 MB/s eta 0:00:01\r",
      "\u001b[K     |██████████████████▎             | 4.9 MB 78.3 MB/s eta 0:00:01\r",
      "\u001b[K     |██████████████████▍             | 4.9 MB 78.3 MB/s eta 0:00:01\r",
      "\u001b[K     |██████████████████▍             | 4.9 MB 78.3 MB/s eta 0:00:01\r",
      "\u001b[K     |██████████████████▍             | 5.0 MB 78.3 MB/s eta 0:00:01\r",
      "\u001b[K     |██████████████████▌             | 5.0 MB 78.3 MB/s eta 0:00:01\r",
      "\u001b[K     |██████████████████▌             | 5.0 MB 78.3 MB/s eta 0:00:01\r",
      "\u001b[K     |██████████████████▌             | 5.0 MB 78.3 MB/s eta 0:00:01\r",
      "\u001b[K     |██████████████████▋             | 5.0 MB 78.3 MB/s eta 0:00:01\r",
      "\u001b[K     |██████████████████▋             | 5.0 MB 78.3 MB/s eta 0:00:01\r",
      "\u001b[K     |██████████████████▋             | 5.0 MB 78.3 MB/s eta 0:00:01\r",
      "\u001b[K     |██████████████████▊             | 5.0 MB 78.3 MB/s eta 0:00:01\r",
      "\u001b[K     |██████████████████▊             | 5.0 MB 78.3 MB/s eta 0:00:01\r",
      "\u001b[K     |██████████████████▊             | 5.0 MB 78.3 MB/s eta 0:00:01\r",
      "\u001b[K     |██████████████████▉             | 5.1 MB 78.3 MB/s eta 0:00:01\r",
      "\u001b[K     |██████████████████▉             | 5.1 MB 78.3 MB/s eta 0:00:01\r",
      "\u001b[K     |██████████████████▉             | 5.1 MB 78.3 MB/s eta 0:00:01\r",
      "\u001b[K     |███████████████████             | 5.1 MB 78.3 MB/s eta 0:00:01\r",
      "\u001b[K     |███████████████████             | 5.1 MB 78.3 MB/s eta 0:00:01\r",
      "\u001b[K     |███████████████████             | 5.1 MB 78.3 MB/s eta 0:00:01\r",
      "\u001b[K     |███████████████████             | 5.1 MB 78.3 MB/s eta 0:00:01\r",
      "\u001b[K     |███████████████████             | 5.1 MB 78.3 MB/s eta 0:00:01\r",
      "\u001b[K     |███████████████████▏            | 5.1 MB 78.3 MB/s eta 0:00:01\r",
      "\u001b[K     |███████████████████▏            | 5.2 MB 78.3 MB/s eta 0:00:01\r",
      "\u001b[K     |███████████████████▏            | 5.2 MB 78.3 MB/s eta 0:00:01\r",
      "\u001b[K     |███████████████████▎            | 5.2 MB 78.3 MB/s eta 0:00:01\r",
      "\u001b[K     |███████████████████▎            | 5.2 MB 78.3 MB/s eta 0:00:01\r",
      "\u001b[K     |███████████████████▎            | 5.2 MB 78.3 MB/s eta 0:00:01\r",
      "\u001b[K     |███████████████████▍            | 5.2 MB 78.3 MB/s eta 0:00:01\r",
      "\u001b[K     |███████████████████▍            | 5.2 MB 78.3 MB/s eta 0:00:01\r",
      "\u001b[K     |███████████████████▍            | 5.2 MB 78.3 MB/s eta 0:00:01\r",
      "\u001b[K     |███████████████████▌            | 5.2 MB 78.3 MB/s eta 0:00:01\r",
      "\u001b[K     |███████████████████▌            | 5.2 MB 78.3 MB/s eta 0:00:01\r",
      "\u001b[K     |███████████████████▌            | 5.3 MB 78.3 MB/s eta 0:00:01\r",
      "\u001b[K     |███████████████████▋            | 5.3 MB 78.3 MB/s eta 0:00:01\r",
      "\u001b[K     |███████████████████▋            | 5.3 MB 78.3 MB/s eta 0:00:01\r",
      "\u001b[K     |███████████████████▋            | 5.3 MB 78.3 MB/s eta 0:00:01\r",
      "\u001b[K     |███████████████████▊            | 5.3 MB 78.3 MB/s eta 0:00:01\r",
      "\u001b[K     |███████████████████▊            | 5.3 MB 78.3 MB/s eta 0:00:01\r",
      "\u001b[K     |███████████████████▊            | 5.3 MB 78.3 MB/s eta 0:00:01\r",
      "\u001b[K     |███████████████████▉            | 5.3 MB 78.3 MB/s eta 0:00:01\r",
      "\u001b[K     |███████████████████▉            | 5.3 MB 78.3 MB/s eta 0:00:01\r",
      "\u001b[K     |███████████████████▉            | 5.3 MB 78.3 MB/s eta 0:00:01\r",
      "\u001b[K     |████████████████████            | 5.4 MB 78.3 MB/s eta 0:00:01\r",
      "\u001b[K     |████████████████████            | 5.4 MB 78.3 MB/s eta 0:00:01\r",
      "\u001b[K     |████████████████████            | 5.4 MB 78.3 MB/s eta 0:00:01\r",
      "\u001b[K     |████████████████████            | 5.4 MB 78.3 MB/s eta 0:00:01\r",
      "\u001b[K     |████████████████████            | 5.4 MB 78.3 MB/s eta 0:00:01\r",
      "\u001b[K     |████████████████████            | 5.4 MB 78.3 MB/s eta 0:00:01\r",
      "\u001b[K     |████████████████████▏           | 5.4 MB 78.3 MB/s eta 0:00:01\r",
      "\u001b[K     |████████████████████▏           | 5.4 MB 78.3 MB/s eta 0:00:01\r",
      "\u001b[K     |████████████████████▏           | 5.4 MB 78.3 MB/s eta 0:00:01\r",
      "\u001b[K     |████████████████████▎           | 5.4 MB 78.3 MB/s eta 0:00:01\r",
      "\u001b[K     |████████████████████▎           | 5.5 MB 78.3 MB/s eta 0:00:01\r",
      "\u001b[K     |████████████████████▍           | 5.5 MB 78.3 MB/s eta 0:00:01\r",
      "\u001b[K     |████████████████████▍           | 5.5 MB 78.3 MB/s eta 0:00:01\r",
      "\u001b[K     |████████████████████▍           | 5.5 MB 78.3 MB/s eta 0:00:01\r",
      "\u001b[K     |████████████████████▌           | 5.5 MB 78.3 MB/s eta 0:00:01\r",
      "\u001b[K     |████████████████████▌           | 5.5 MB 78.3 MB/s eta 0:00:01\r",
      "\u001b[K     |████████████████████▌           | 5.5 MB 78.3 MB/s eta 0:00:01\r",
      "\u001b[K     |████████████████████▋           | 5.5 MB 78.3 MB/s eta 0:00:01\r",
      "\u001b[K     |████████████████████▋           | 5.5 MB 78.3 MB/s eta 0:00:01\r",
      "\u001b[K     |████████████████████▋           | 5.6 MB 78.3 MB/s eta 0:00:01\r",
      "\u001b[K     |████████████████████▊           | 5.6 MB 78.3 MB/s eta 0:00:01\r",
      "\u001b[K     |████████████████████▊           | 5.6 MB 78.3 MB/s eta 0:00:01\r",
      "\u001b[K     |████████████████████▊           | 5.6 MB 78.3 MB/s eta 0:00:01\r",
      "\u001b[K     |████████████████████▉           | 5.6 MB 78.3 MB/s eta 0:00:01\r",
      "\u001b[K     |████████████████████▉           | 5.6 MB 78.3 MB/s eta 0:00:01\r",
      "\u001b[K     |████████████████████▉           | 5.6 MB 78.3 MB/s eta 0:00:01\r",
      "\u001b[K     |█████████████████████           | 5.6 MB 78.3 MB/s eta 0:00:01\r",
      "\u001b[K     |█████████████████████           | 5.6 MB 78.3 MB/s eta 0:00:01\r",
      "\u001b[K     |█████████████████████           | 5.6 MB 78.3 MB/s eta 0:00:01\r",
      "\u001b[K     |█████████████████████           | 5.7 MB 78.3 MB/s eta 0:00:01\r",
      "\u001b[K     |█████████████████████           | 5.7 MB 78.3 MB/s eta 0:00:01\r",
      "\u001b[K     |█████████████████████           | 5.7 MB 78.3 MB/s eta 0:00:01\r",
      "\u001b[K     |█████████████████████▏          | 5.7 MB 78.3 MB/s eta 0:00:01\r",
      "\u001b[K     |█████████████████████▏          | 5.7 MB 78.3 MB/s eta 0:00:01\r",
      "\u001b[K     |█████████████████████▏          | 5.7 MB 78.3 MB/s eta 0:00:01\r",
      "\u001b[K     |█████████████████████▎          | 5.7 MB 78.3 MB/s eta 0:00:01\r",
      "\u001b[K     |█████████████████████▎          | 5.7 MB 78.3 MB/s eta 0:00:01\r",
      "\u001b[K     |█████████████████████▎          | 5.7 MB 78.3 MB/s eta 0:00:01\r",
      "\u001b[K     |█████████████████████▍          | 5.7 MB 78.3 MB/s eta 0:00:01\r",
      "\u001b[K     |█████████████████████▍          | 5.8 MB 78.3 MB/s eta 0:00:01\r",
      "\u001b[K     |█████████████████████▍          | 5.8 MB 78.3 MB/s eta 0:00:01\r",
      "\u001b[K     |█████████████████████▌          | 5.8 MB 78.3 MB/s eta 0:00:01\r",
      "\u001b[K     |█████████████████████▌          | 5.8 MB 78.3 MB/s eta 0:00:01\r",
      "\u001b[K     |█████████████████████▌          | 5.8 MB 78.3 MB/s eta 0:00:01\r",
      "\u001b[K     |█████████████████████▋          | 5.8 MB 78.3 MB/s eta 0:00:01\r",
      "\u001b[K     |█████████████████████▋          | 5.8 MB 78.3 MB/s eta 0:00:01\r",
      "\u001b[K     |█████████████████████▊          | 5.8 MB 78.3 MB/s eta 0:00:01\r",
      "\u001b[K     |█████████████████████▊          | 5.8 MB 78.3 MB/s eta 0:00:01\r",
      "\u001b[K     |█████████████████████▊          | 5.8 MB 78.3 MB/s eta 0:00:01\r",
      "\u001b[K     |█████████████████████▉          | 5.9 MB 78.3 MB/s eta 0:00:01\r",
      "\u001b[K     |█████████████████████▉          | 5.9 MB 78.3 MB/s eta 0:00:01\r",
      "\u001b[K     |█████████████████████▉          | 5.9 MB 78.3 MB/s eta 0:00:01\r",
      "\u001b[K     |██████████████████████          | 5.9 MB 78.3 MB/s eta 0:00:01\r",
      "\u001b[K     |██████████████████████          | 5.9 MB 78.3 MB/s eta 0:00:01\r",
      "\u001b[K     |██████████████████████          | 5.9 MB 78.3 MB/s eta 0:00:01\r",
      "\u001b[K     |██████████████████████          | 5.9 MB 78.3 MB/s eta 0:00:01\r",
      "\u001b[K     |██████████████████████          | 5.9 MB 78.3 MB/s eta 0:00:01\r",
      "\u001b[K     |██████████████████████          | 5.9 MB 78.3 MB/s eta 0:00:01\r",
      "\u001b[K     |██████████████████████▏         | 5.9 MB 78.3 MB/s eta 0:00:01\r",
      "\u001b[K     |██████████████████████▏         | 6.0 MB 78.3 MB/s eta 0:00:01\r",
      "\u001b[K     |██████████████████████▏         | 6.0 MB 78.3 MB/s eta 0:00:01\r",
      "\u001b[K     |██████████████████████▎         | 6.0 MB 78.3 MB/s eta 0:00:01\r",
      "\u001b[K     |██████████████████████▎         | 6.0 MB 78.3 MB/s eta 0:00:01\r",
      "\u001b[K     |██████████████████████▎         | 6.0 MB 78.3 MB/s eta 0:00:01\r",
      "\u001b[K     |██████████████████████▍         | 6.0 MB 78.3 MB/s eta 0:00:01\r",
      "\u001b[K     |██████████████████████▍         | 6.0 MB 78.3 MB/s eta 0:00:01\r",
      "\u001b[K     |██████████████████████▍         | 6.0 MB 78.3 MB/s eta 0:00:01\r",
      "\u001b[K     |██████████████████████▌         | 6.0 MB 78.3 MB/s eta 0:00:01\r",
      "\u001b[K     |██████████████████████▌         | 6.1 MB 78.3 MB/s eta 0:00:01\r",
      "\u001b[K     |██████████████████████▌         | 6.1 MB 78.3 MB/s eta 0:00:01\r",
      "\u001b[K     |██████████████████████▋         | 6.1 MB 78.3 MB/s eta 0:00:01\r",
      "\u001b[K     |██████████████████████▋         | 6.1 MB 78.3 MB/s eta 0:00:01\r",
      "\u001b[K     |██████████████████████▋         | 6.1 MB 78.3 MB/s eta 0:00:01\r",
      "\u001b[K     |██████████████████████▊         | 6.1 MB 78.3 MB/s eta 0:00:01\r",
      "\u001b[K     |██████████████████████▊         | 6.1 MB 78.3 MB/s eta 0:00:01\r",
      "\u001b[K     |██████████████████████▊         | 6.1 MB 78.3 MB/s eta 0:00:01\r",
      "\u001b[K     |██████████████████████▉         | 6.1 MB 78.3 MB/s eta 0:00:01\r",
      "\u001b[K     |██████████████████████▉         | 6.1 MB 78.3 MB/s eta 0:00:01\r",
      "\u001b[K     |██████████████████████▉         | 6.2 MB 78.3 MB/s eta 0:00:01\r",
      "\u001b[K     |███████████████████████         | 6.2 MB 78.3 MB/s eta 0:00:01\r",
      "\u001b[K     |███████████████████████         | 6.2 MB 78.3 MB/s eta 0:00:01\r",
      "\u001b[K     |███████████████████████         | 6.2 MB 78.3 MB/s eta 0:00:01\r",
      "\u001b[K     |███████████████████████         | 6.2 MB 78.3 MB/s eta 0:00:01\r",
      "\u001b[K     |███████████████████████         | 6.2 MB 78.3 MB/s eta 0:00:01\r",
      "\u001b[K     |███████████████████████▏        | 6.2 MB 78.3 MB/s eta 0:00:01\r",
      "\u001b[K     |███████████████████████▏        | 6.2 MB 78.3 MB/s eta 0:00:01\r",
      "\u001b[K     |███████████████████████▏        | 6.2 MB 78.3 MB/s eta 0:00:01\r",
      "\u001b[K     |███████████████████████▎        | 6.2 MB 78.3 MB/s eta 0:00:01\r",
      "\u001b[K     |███████████████████████▎        | 6.3 MB 78.3 MB/s eta 0:00:01\r",
      "\u001b[K     |███████████████████████▎        | 6.3 MB 78.3 MB/s eta 0:00:01\r",
      "\u001b[K     |███████████████████████▍        | 6.3 MB 78.3 MB/s eta 0:00:01\r",
      "\u001b[K     |███████████████████████▍        | 6.3 MB 78.3 MB/s eta 0:00:01\r",
      "\u001b[K     |███████████████████████▍        | 6.3 MB 78.3 MB/s eta 0:00:01\r",
      "\u001b[K     |███████████████████████▌        | 6.3 MB 78.3 MB/s eta 0:00:01\r",
      "\u001b[K     |███████████████████████▌        | 6.3 MB 78.3 MB/s eta 0:00:01\r",
      "\u001b[K     |███████████████████████▌        | 6.3 MB 78.3 MB/s eta 0:00:01\r",
      "\u001b[K     |███████████████████████▋        | 6.3 MB 78.3 MB/s eta 0:00:01\r",
      "\u001b[K     |███████████████████████▋        | 6.3 MB 78.3 MB/s eta 0:00:01\r",
      "\u001b[K     |███████████████████████▋        | 6.4 MB 78.3 MB/s eta 0:00:01\r",
      "\u001b[K     |███████████████████████▊        | 6.4 MB 78.3 MB/s eta 0:00:01\r",
      "\u001b[K     |███████████████████████▊        | 6.4 MB 78.3 MB/s eta 0:00:01\r",
      "\u001b[K     |███████████████████████▊        | 6.4 MB 78.3 MB/s eta 0:00:01\r",
      "\u001b[K     |███████████████████████▉        | 6.4 MB 78.3 MB/s eta 0:00:01\r",
      "\u001b[K     |███████████████████████▉        | 6.4 MB 78.3 MB/s eta 0:00:01\r",
      "\u001b[K     |███████████████████████▉        | 6.4 MB 78.3 MB/s eta 0:00:01\r",
      "\u001b[K     |████████████████████████        | 6.4 MB 78.3 MB/s eta 0:00:01\r",
      "\u001b[K     |████████████████████████        | 6.4 MB 78.3 MB/s eta 0:00:01\r",
      "\u001b[K     |████████████████████████        | 6.5 MB 78.3 MB/s eta 0:00:01\r",
      "\u001b[K     |████████████████████████        | 6.5 MB 78.3 MB/s eta 0:00:01\r",
      "\u001b[K     |████████████████████████        | 6.5 MB 78.3 MB/s eta 0:00:01\r",
      "\u001b[K     |████████████████████████        | 6.5 MB 78.3 MB/s eta 0:00:01\r",
      "\u001b[K     |████████████████████████▏       | 6.5 MB 78.3 MB/s eta 0:00:01\r",
      "\u001b[K     |████████████████████████▏       | 6.5 MB 78.3 MB/s eta 0:00:01\r",
      "\u001b[K     |████████████████████████▏       | 6.5 MB 78.3 MB/s eta 0:00:01\r",
      "\u001b[K     |████████████████████████▎       | 6.5 MB 78.3 MB/s eta 0:00:01\r",
      "\u001b[K     |████████████████████████▎       | 6.5 MB 78.3 MB/s eta 0:00:01\r",
      "\u001b[K     |████████████████████████▎       | 6.5 MB 78.3 MB/s eta 0:00:01\r",
      "\u001b[K     |████████████████████████▍       | 6.6 MB 78.3 MB/s eta 0:00:01\r",
      "\u001b[K     |████████████████████████▍       | 6.6 MB 78.3 MB/s eta 0:00:01\r",
      "\u001b[K     |████████████████████████▌       | 6.6 MB 78.3 MB/s eta 0:00:01\r",
      "\u001b[K     |████████████████████████▌       | 6.6 MB 78.3 MB/s eta 0:00:01\r",
      "\u001b[K     |████████████████████████▌       | 6.6 MB 78.3 MB/s eta 0:00:01\r",
      "\u001b[K     |████████████████████████▋       | 6.6 MB 78.3 MB/s eta 0:00:01\r",
      "\u001b[K     |████████████████████████▋       | 6.6 MB 78.3 MB/s eta 0:00:01\r",
      "\u001b[K     |████████████████████████▋       | 6.6 MB 78.3 MB/s eta 0:00:01\r",
      "\u001b[K     |████████████████████████▊       | 6.6 MB 78.3 MB/s eta 0:00:01\r",
      "\u001b[K     |████████████████████████▊       | 6.6 MB 78.3 MB/s eta 0:00:01\r",
      "\u001b[K     |████████████████████████▊       | 6.7 MB 78.3 MB/s eta 0:00:01\r",
      "\u001b[K     |████████████████████████▉       | 6.7 MB 78.3 MB/s eta 0:00:01\r",
      "\u001b[K     |████████████████████████▉       | 6.7 MB 78.3 MB/s eta 0:00:01\r",
      "\u001b[K     |████████████████████████▉       | 6.7 MB 78.3 MB/s eta 0:00:01\r",
      "\u001b[K     |█████████████████████████       | 6.7 MB 78.3 MB/s eta 0:00:01\r",
      "\u001b[K     |█████████████████████████       | 6.7 MB 78.3 MB/s eta 0:00:01\r",
      "\u001b[K     |█████████████████████████       | 6.7 MB 78.3 MB/s eta 0:00:01\r",
      "\u001b[K     |█████████████████████████       | 6.7 MB 78.3 MB/s eta 0:00:01\r",
      "\u001b[K     |█████████████████████████       | 6.7 MB 78.3 MB/s eta 0:00:01\r",
      "\u001b[K     |█████████████████████████       | 6.7 MB 78.3 MB/s eta 0:00:01\r",
      "\u001b[K     |█████████████████████████▏      | 6.8 MB 78.3 MB/s eta 0:00:01\r",
      "\u001b[K     |█████████████████████████▏      | 6.8 MB 78.3 MB/s eta 0:00:01\r",
      "\u001b[K     |█████████████████████████▏      | 6.8 MB 78.3 MB/s eta 0:00:01\r",
      "\u001b[K     |█████████████████████████▎      | 6.8 MB 78.3 MB/s eta 0:00:01\r",
      "\u001b[K     |█████████████████████████▎      | 6.8 MB 78.3 MB/s eta 0:00:01\r",
      "\u001b[K     |█████████████████████████▎      | 6.8 MB 78.3 MB/s eta 0:00:01\r",
      "\u001b[K     |█████████████████████████▍      | 6.8 MB 78.3 MB/s eta 0:00:01\r",
      "\u001b[K     |█████████████████████████▍      | 6.8 MB 78.3 MB/s eta 0:00:01\r",
      "\u001b[K     |█████████████████████████▍      | 6.8 MB 78.3 MB/s eta 0:00:01\r",
      "\u001b[K     |█████████████████████████▌      | 6.9 MB 78.3 MB/s eta 0:00:01\r",
      "\u001b[K     |█████████████████████████▌      | 6.9 MB 78.3 MB/s eta 0:00:01\r",
      "\u001b[K     |█████████████████████████▌      | 6.9 MB 78.3 MB/s eta 0:00:01\r",
      "\u001b[K     |█████████████████████████▋      | 6.9 MB 78.3 MB/s eta 0:00:01\r",
      "\u001b[K     |█████████████████████████▋      | 6.9 MB 78.3 MB/s eta 0:00:01\r",
      "\u001b[K     |█████████████████████████▋      | 6.9 MB 78.3 MB/s eta 0:00:01\r",
      "\u001b[K     |█████████████████████████▊      | 6.9 MB 78.3 MB/s eta 0:00:01\r",
      "\u001b[K     |█████████████████████████▊      | 6.9 MB 78.3 MB/s eta 0:00:01\r",
      "\u001b[K     |█████████████████████████▉      | 6.9 MB 78.3 MB/s eta 0:00:01\r",
      "\u001b[K     |█████████████████████████▉      | 6.9 MB 78.3 MB/s eta 0:00:01\r",
      "\u001b[K     |█████████████████████████▉      | 7.0 MB 78.3 MB/s eta 0:00:01\r",
      "\u001b[K     |██████████████████████████      | 7.0 MB 78.3 MB/s eta 0:00:01\r",
      "\u001b[K     |██████████████████████████      | 7.0 MB 78.3 MB/s eta 0:00:01\r",
      "\u001b[K     |██████████████████████████      | 7.0 MB 78.3 MB/s eta 0:00:01\r",
      "\u001b[K     |██████████████████████████      | 7.0 MB 78.3 MB/s eta 0:00:01\r",
      "\u001b[K     |██████████████████████████      | 7.0 MB 78.3 MB/s eta 0:00:01\r",
      "\u001b[K     |██████████████████████████      | 7.0 MB 78.3 MB/s eta 0:00:01\r",
      "\u001b[K     |██████████████████████████▏     | 7.0 MB 78.3 MB/s eta 0:00:01\r",
      "\u001b[K     |██████████████████████████▏     | 7.0 MB 78.3 MB/s eta 0:00:01\r",
      "\u001b[K     |██████████████████████████▏     | 7.0 MB 78.3 MB/s eta 0:00:01\r",
      "\u001b[K     |██████████████████████████▎     | 7.1 MB 78.3 MB/s eta 0:00:01\r",
      "\u001b[K     |██████████████████████████▎     | 7.1 MB 78.3 MB/s eta 0:00:01\r",
      "\u001b[K     |██████████████████████████▎     | 7.1 MB 78.3 MB/s eta 0:00:01\r",
      "\u001b[K     |██████████████████████████▍     | 7.1 MB 78.3 MB/s eta 0:00:01\r",
      "\u001b[K     |██████████████████████████▍     | 7.1 MB 78.3 MB/s eta 0:00:01\r",
      "\u001b[K     |██████████████████████████▍     | 7.1 MB 78.3 MB/s eta 0:00:01\r",
      "\u001b[K     |██████████████████████████▌     | 7.1 MB 78.3 MB/s eta 0:00:01\r",
      "\u001b[K     |██████████████████████████▌     | 7.1 MB 78.3 MB/s eta 0:00:01\r",
      "\u001b[K     |██████████████████████████▌     | 7.1 MB 78.3 MB/s eta 0:00:01\r",
      "\u001b[K     |██████████████████████████▋     | 7.1 MB 78.3 MB/s eta 0:00:01\r",
      "\u001b[K     |██████████████████████████▋     | 7.2 MB 78.3 MB/s eta 0:00:01\r",
      "\u001b[K     |██████████████████████████▋     | 7.2 MB 78.3 MB/s eta 0:00:01\r",
      "\u001b[K     |██████████████████████████▊     | 7.2 MB 78.3 MB/s eta 0:00:01\r",
      "\u001b[K     |██████████████████████████▊     | 7.2 MB 78.3 MB/s eta 0:00:01\r",
      "\u001b[K     |██████████████████████████▊     | 7.2 MB 78.3 MB/s eta 0:00:01\r",
      "\u001b[K     |██████████████████████████▉     | 7.2 MB 78.3 MB/s eta 0:00:01\r",
      "\u001b[K     |██████████████████████████▉     | 7.2 MB 78.3 MB/s eta 0:00:01\r",
      "\u001b[K     |██████████████████████████▉     | 7.2 MB 78.3 MB/s eta 0:00:01\r",
      "\u001b[K     |███████████████████████████     | 7.2 MB 78.3 MB/s eta 0:00:01\r",
      "\u001b[K     |███████████████████████████     | 7.2 MB 78.3 MB/s eta 0:00:01\r",
      "\u001b[K     |███████████████████████████     | 7.3 MB 78.3 MB/s eta 0:00:01\r",
      "\u001b[K     |███████████████████████████     | 7.3 MB 78.3 MB/s eta 0:00:01\r",
      "\u001b[K     |███████████████████████████     | 7.3 MB 78.3 MB/s eta 0:00:01\r",
      "\u001b[K     |███████████████████████████▏    | 7.3 MB 78.3 MB/s eta 0:00:01\r",
      "\u001b[K     |███████████████████████████▏    | 7.3 MB 78.3 MB/s eta 0:00:01\r",
      "\u001b[K     |███████████████████████████▏    | 7.3 MB 78.3 MB/s eta 0:00:01\r",
      "\u001b[K     |███████████████████████████▎    | 7.3 MB 78.3 MB/s eta 0:00:01\r",
      "\u001b[K     |███████████████████████████▎    | 7.3 MB 78.3 MB/s eta 0:00:01\r",
      "\u001b[K     |███████████████████████████▎    | 7.3 MB 78.3 MB/s eta 0:00:01\r",
      "\u001b[K     |███████████████████████████▍    | 7.4 MB 78.3 MB/s eta 0:00:01\r",
      "\u001b[K     |███████████████████████████▍    | 7.4 MB 78.3 MB/s eta 0:00:01\r",
      "\u001b[K     |███████████████████████████▍    | 7.4 MB 78.3 MB/s eta 0:00:01\r",
      "\u001b[K     |███████████████████████████▌    | 7.4 MB 78.3 MB/s eta 0:00:01\r",
      "\u001b[K     |███████████████████████████▌    | 7.4 MB 78.3 MB/s eta 0:00:01\r",
      "\u001b[K     |███████████████████████████▌    | 7.4 MB 78.3 MB/s eta 0:00:01\r",
      "\u001b[K     |███████████████████████████▋    | 7.4 MB 78.3 MB/s eta 0:00:01\r",
      "\u001b[K     |███████████████████████████▋    | 7.4 MB 78.3 MB/s eta 0:00:01\r",
      "\u001b[K     |███████████████████████████▋    | 7.4 MB 78.3 MB/s eta 0:00:01\r",
      "\u001b[K     |███████████████████████████▊    | 7.4 MB 78.3 MB/s eta 0:00:01\r",
      "\u001b[K     |███████████████████████████▊    | 7.5 MB 78.3 MB/s eta 0:00:01\r",
      "\u001b[K     |███████████████████████████▊    | 7.5 MB 78.3 MB/s eta 0:00:01\r",
      "\u001b[K     |███████████████████████████▉    | 7.5 MB 78.3 MB/s eta 0:00:01\r",
      "\u001b[K     |███████████████████████████▉    | 7.5 MB 78.3 MB/s eta 0:00:01\r",
      "\u001b[K     |███████████████████████████▉    | 7.5 MB 78.3 MB/s eta 0:00:01\r",
      "\u001b[K     |████████████████████████████    | 7.5 MB 78.3 MB/s eta 0:00:01\r",
      "\u001b[K     |████████████████████████████    | 7.5 MB 78.3 MB/s eta 0:00:01\r",
      "\u001b[K     |████████████████████████████    | 7.5 MB 78.3 MB/s eta 0:00:01\r",
      "\u001b[K     |████████████████████████████    | 7.5 MB 78.3 MB/s eta 0:00:01\r",
      "\u001b[K     |████████████████████████████    | 7.5 MB 78.3 MB/s eta 0:00:01\r",
      "\u001b[K     |████████████████████████████    | 7.6 MB 78.3 MB/s eta 0:00:01\r",
      "\u001b[K     |████████████████████████████▏   | 7.6 MB 78.3 MB/s eta 0:00:01\r",
      "\u001b[K     |████████████████████████████▏   | 7.6 MB 78.3 MB/s eta 0:00:01\r",
      "\u001b[K     |████████████████████████████▏   | 7.6 MB 78.3 MB/s eta 0:00:01\r",
      "\u001b[K     |████████████████████████████▎   | 7.6 MB 78.3 MB/s eta 0:00:01\r",
      "\u001b[K     |████████████████████████████▎   | 7.6 MB 78.3 MB/s eta 0:00:01\r",
      "\u001b[K     |████████████████████████████▎   | 7.6 MB 78.3 MB/s eta 0:00:01\r",
      "\u001b[K     |████████████████████████████▍   | 7.6 MB 78.3 MB/s eta 0:00:01\r",
      "\u001b[K     |████████████████████████████▍   | 7.6 MB 78.3 MB/s eta 0:00:01\r",
      "\u001b[K     |████████████████████████████▌   | 7.6 MB 78.3 MB/s eta 0:00:01\r",
      "\u001b[K     |████████████████████████████▌   | 7.7 MB 78.3 MB/s eta 0:00:01\r",
      "\u001b[K     |████████████████████████████▌   | 7.7 MB 78.3 MB/s eta 0:00:01\r",
      "\u001b[K     |████████████████████████████▋   | 7.7 MB 78.3 MB/s eta 0:00:01\r",
      "\u001b[K     |████████████████████████████▋   | 7.7 MB 78.3 MB/s eta 0:00:01\r",
      "\u001b[K     |████████████████████████████▋   | 7.7 MB 78.3 MB/s eta 0:00:01\r",
      "\u001b[K     |████████████████████████████▊   | 7.7 MB 78.3 MB/s eta 0:00:01\r",
      "\u001b[K     |████████████████████████████▊   | 7.7 MB 78.3 MB/s eta 0:00:01\r",
      "\u001b[K     |████████████████████████████▊   | 7.7 MB 78.3 MB/s eta 0:00:01\r",
      "\u001b[K     |████████████████████████████▉   | 7.7 MB 78.3 MB/s eta 0:00:01\r",
      "\u001b[K     |████████████████████████████▉   | 7.8 MB 78.3 MB/s eta 0:00:01\r",
      "\u001b[K     |████████████████████████████▉   | 7.8 MB 78.3 MB/s eta 0:00:01\r",
      "\u001b[K     |█████████████████████████████   | 7.8 MB 78.3 MB/s eta 0:00:01\r",
      "\u001b[K     |█████████████████████████████   | 7.8 MB 78.3 MB/s eta 0:00:01\r",
      "\u001b[K     |█████████████████████████████   | 7.8 MB 78.3 MB/s eta 0:00:01\r",
      "\u001b[K     |█████████████████████████████   | 7.8 MB 78.3 MB/s eta 0:00:01\r",
      "\u001b[K     |█████████████████████████████   | 7.8 MB 78.3 MB/s eta 0:00:01\r",
      "\u001b[K     |█████████████████████████████   | 7.8 MB 78.3 MB/s eta 0:00:01\r",
      "\u001b[K     |█████████████████████████████▏  | 7.8 MB 78.3 MB/s eta 0:00:01\r",
      "\u001b[K     |█████████████████████████████▏  | 7.8 MB 78.3 MB/s eta 0:00:01\r",
      "\u001b[K     |█████████████████████████████▏  | 7.9 MB 78.3 MB/s eta 0:00:01\r",
      "\u001b[K     |█████████████████████████████▎  | 7.9 MB 78.3 MB/s eta 0:00:01\r",
      "\u001b[K     |█████████████████████████████▎  | 7.9 MB 78.3 MB/s eta 0:00:01\r",
      "\u001b[K     |█████████████████████████████▎  | 7.9 MB 78.3 MB/s eta 0:00:01\r",
      "\u001b[K     |█████████████████████████████▍  | 7.9 MB 78.3 MB/s eta 0:00:01\r",
      "\u001b[K     |█████████████████████████████▍  | 7.9 MB 78.3 MB/s eta 0:00:01\r",
      "\u001b[K     |█████████████████████████████▍  | 7.9 MB 78.3 MB/s eta 0:00:01\r",
      "\u001b[K     |█████████████████████████████▌  | 7.9 MB 78.3 MB/s eta 0:00:01\r",
      "\u001b[K     |█████████████████████████████▌  | 7.9 MB 78.3 MB/s eta 0:00:01\r",
      "\u001b[K     |█████████████████████████████▌  | 7.9 MB 78.3 MB/s eta 0:00:01\r",
      "\u001b[K     |█████████████████████████████▋  | 8.0 MB 78.3 MB/s eta 0:00:01\r",
      "\u001b[K     |█████████████████████████████▋  | 8.0 MB 78.3 MB/s eta 0:00:01\r",
      "\u001b[K     |█████████████████████████████▋  | 8.0 MB 78.3 MB/s eta 0:00:01\r",
      "\u001b[K     |█████████████████████████████▊  | 8.0 MB 78.3 MB/s eta 0:00:01\r",
      "\u001b[K     |█████████████████████████████▊  | 8.0 MB 78.3 MB/s eta 0:00:01\r",
      "\u001b[K     |█████████████████████████████▊  | 8.0 MB 78.3 MB/s eta 0:00:01\r",
      "\u001b[K     |█████████████████████████████▉  | 8.0 MB 78.3 MB/s eta 0:00:01\r",
      "\u001b[K     |█████████████████████████████▉  | 8.0 MB 78.3 MB/s eta 0:00:01\r",
      "\u001b[K     |██████████████████████████████  | 8.0 MB 78.3 MB/s eta 0:00:01\r",
      "\u001b[K     |██████████████████████████████  | 8.0 MB 78.3 MB/s eta 0:00:01\r",
      "\u001b[K     |██████████████████████████████  | 8.1 MB 78.3 MB/s eta 0:00:01\r",
      "\u001b[K     |██████████████████████████████  | 8.1 MB 78.3 MB/s eta 0:00:01\r",
      "\u001b[K     |██████████████████████████████  | 8.1 MB 78.3 MB/s eta 0:00:01\r",
      "\u001b[K     |██████████████████████████████  | 8.1 MB 78.3 MB/s eta 0:00:01\r",
      "\u001b[K     |██████████████████████████████▏ | 8.1 MB 78.3 MB/s eta 0:00:01\r",
      "\u001b[K     |██████████████████████████████▏ | 8.1 MB 78.3 MB/s eta 0:00:01\r",
      "\u001b[K     |██████████████████████████████▏ | 8.1 MB 78.3 MB/s eta 0:00:01\r",
      "\u001b[K     |██████████████████████████████▎ | 8.1 MB 78.3 MB/s eta 0:00:01\r",
      "\u001b[K     |██████████████████████████████▎ | 8.1 MB 78.3 MB/s eta 0:00:01\r",
      "\u001b[K     |██████████████████████████████▎ | 8.2 MB 78.3 MB/s eta 0:00:01\r",
      "\u001b[K     |██████████████████████████████▍ | 8.2 MB 78.3 MB/s eta 0:00:01\r",
      "\u001b[K     |██████████████████████████████▍ | 8.2 MB 78.3 MB/s eta 0:00:01\r",
      "\u001b[K     |██████████████████████████████▍ | 8.2 MB 78.3 MB/s eta 0:00:01\r",
      "\u001b[K     |██████████████████████████████▌ | 8.2 MB 78.3 MB/s eta 0:00:01\r",
      "\u001b[K     |██████████████████████████████▌ | 8.2 MB 78.3 MB/s eta 0:00:01\r",
      "\u001b[K     |██████████████████████████████▌ | 8.2 MB 78.3 MB/s eta 0:00:01\r",
      "\u001b[K     |██████████████████████████████▋ | 8.2 MB 78.3 MB/s eta 0:00:01\r",
      "\u001b[K     |██████████████████████████████▋ | 8.2 MB 78.3 MB/s eta 0:00:01\r",
      "\u001b[K     |██████████████████████████████▋ | 8.2 MB 78.3 MB/s eta 0:00:01\r",
      "\u001b[K     |██████████████████████████████▊ | 8.3 MB 78.3 MB/s eta 0:00:01\r",
      "\u001b[K     |██████████████████████████████▊ | 8.3 MB 78.3 MB/s eta 0:00:01\r",
      "\u001b[K     |██████████████████████████████▊ | 8.3 MB 78.3 MB/s eta 0:00:01\r",
      "\u001b[K     |██████████████████████████████▉ | 8.3 MB 78.3 MB/s eta 0:00:01\r",
      "\u001b[K     |██████████████████████████████▉ | 8.3 MB 78.3 MB/s eta 0:00:01\r",
      "\u001b[K     |██████████████████████████████▉ | 8.3 MB 78.3 MB/s eta 0:00:01\r",
      "\u001b[K     |███████████████████████████████ | 8.3 MB 78.3 MB/s eta 0:00:01\r",
      "\u001b[K     |███████████████████████████████ | 8.3 MB 78.3 MB/s eta 0:00:01\r",
      "\u001b[K     |███████████████████████████████ | 8.3 MB 78.3 MB/s eta 0:00:01\r",
      "\u001b[K     |███████████████████████████████ | 8.3 MB 78.3 MB/s eta 0:00:01\r",
      "\u001b[K     |███████████████████████████████ | 8.4 MB 78.3 MB/s eta 0:00:01\r",
      "\u001b[K     |███████████████████████████████ | 8.4 MB 78.3 MB/s eta 0:00:01\r",
      "\u001b[K     |███████████████████████████████▏| 8.4 MB 78.3 MB/s eta 0:00:01\r",
      "\u001b[K     |███████████████████████████████▏| 8.4 MB 78.3 MB/s eta 0:00:01\r",
      "\u001b[K     |███████████████████████████████▎| 8.4 MB 78.3 MB/s eta 0:00:01\r",
      "\u001b[K     |███████████████████████████████▎| 8.4 MB 78.3 MB/s eta 0:00:01\r",
      "\u001b[K     |███████████████████████████████▎| 8.4 MB 78.3 MB/s eta 0:00:01\r",
      "\u001b[K     |███████████████████████████████▍| 8.4 MB 78.3 MB/s eta 0:00:01\r",
      "\u001b[K     |███████████████████████████████▍| 8.4 MB 78.3 MB/s eta 0:00:01\r",
      "\u001b[K     |███████████████████████████████▍| 8.4 MB 78.3 MB/s eta 0:00:01\r",
      "\u001b[K     |███████████████████████████████▌| 8.5 MB 78.3 MB/s eta 0:00:01\r",
      "\u001b[K     |███████████████████████████████▌| 8.5 MB 78.3 MB/s eta 0:00:01\r",
      "\u001b[K     |███████████████████████████████▌| 8.5 MB 78.3 MB/s eta 0:00:01\r",
      "\u001b[K     |███████████████████████████████▋| 8.5 MB 78.3 MB/s eta 0:00:01\r",
      "\u001b[K     |███████████████████████████████▋| 8.5 MB 78.3 MB/s eta 0:00:01\r",
      "\u001b[K     |███████████████████████████████▋| 8.5 MB 78.3 MB/s eta 0:00:01\r",
      "\u001b[K     |███████████████████████████████▊| 8.5 MB 78.3 MB/s eta 0:00:01\r",
      "\u001b[K     |███████████████████████████████▊| 8.5 MB 78.3 MB/s eta 0:00:01\r",
      "\u001b[K     |███████████████████████████████▊| 8.5 MB 78.3 MB/s eta 0:00:01\r",
      "\u001b[K     |███████████████████████████████▉| 8.6 MB 78.3 MB/s eta 0:00:01\r",
      "\u001b[K     |███████████████████████████████▉| 8.6 MB 78.3 MB/s eta 0:00:01\r",
      "\u001b[K     |███████████████████████████████▉| 8.6 MB 78.3 MB/s eta 0:00:01\r",
      "\u001b[K     |████████████████████████████████| 8.6 MB 78.3 MB/s eta 0:00:01\r",
      "\u001b[K     |████████████████████████████████| 8.6 MB 78.3 MB/s eta 0:00:01\r",
      "\u001b[K     |████████████████████████████████| 8.6 MB 78.3 MB/s eta 0:00:01"
     ]
    },
    {
     "name": "stdout",
     "output_type": "stream",
     "text": [
      "\r",
      "\u001b[K     |████████████████████████████████| 8.6 MB 78.3 MB/s \r\n",
      "\u001b[?25h"
     ]
    },
    {
     "name": "stdout",
     "output_type": "stream",
     "text": [
      "Requirement already satisfied: boto3 in /usr/local/lib/python3.7/site-packages (1.20.7)\r\n"
     ]
    },
    {
     "name": "stdout",
     "output_type": "stream",
     "text": [
      "Collecting boto3\r\n",
      "  Downloading boto3-1.21.24-py3-none-any.whl (132 kB)\r\n",
      "\u001b[?25l\r",
      "\u001b[K     |██▌                             | 10 kB 51.0 MB/s eta 0:00:01\r",
      "\u001b[K     |█████                           | 20 kB 58.2 MB/s eta 0:00:01\r",
      "\u001b[K     |███████▍                        | 30 kB 69.7 MB/s eta 0:00:01\r",
      "\u001b[K     |██████████                      | 40 kB 76.3 MB/s eta 0:00:01\r",
      "\u001b[K     |████████████▍                   | 51 kB 81.1 MB/s eta 0:00:01\r",
      "\u001b[K     |██████████████▉                 | 61 kB 87.3 MB/s eta 0:00:01\r",
      "\u001b[K     |█████████████████▍              | 71 kB 90.9 MB/s eta 0:00:01\r",
      "\u001b[K     |███████████████████▉            | 81 kB 93.7 MB/s eta 0:00:01\r",
      "\u001b[K     |██████████████████████▎         | 92 kB 97.2 MB/s eta 0:00:01\r",
      "\u001b[K     |████████████████████████▊       | 102 kB 99.4 MB/s eta 0:00:01\r",
      "\u001b[K     |███████████████████████████▎    | 112 kB 99.4 MB/s eta 0:00:01\r",
      "\u001b[K     |█████████████████████████████▊  | 122 kB 99.4 MB/s eta 0:00:01"
     ]
    },
    {
     "name": "stdout",
     "output_type": "stream",
     "text": [
      "\r",
      "\u001b[K     |████████████████████████████████| 132 kB 99.4 MB/s \r\n",
      "\u001b[?25hRequirement already satisfied: awscli in /usr/local/lib/python3.7/site-packages (1.22.7)\r\n"
     ]
    },
    {
     "name": "stdout",
     "output_type": "stream",
     "text": [
      "Collecting awscli\r\n",
      "  Downloading awscli-1.22.79-py3-none-any.whl (3.8 MB)\r\n",
      "\u001b[?25l\r",
      "\u001b[K     |                                | 10 kB 27.6 MB/s eta 0:00:01\r",
      "\u001b[K     |▏                               | 20 kB 30.9 MB/s eta 0:00:01\r",
      "\u001b[K     |▎                               | 30 kB 35.7 MB/s eta 0:00:01\r",
      "\u001b[K     |▍                               | 40 kB 39.1 MB/s eta 0:00:01\r",
      "\u001b[K     |▍                               | 51 kB 40.5 MB/s eta 0:00:01\r",
      "\u001b[K     |▌                               | 61 kB 44.5 MB/s eta 0:00:01\r",
      "\u001b[K     |▋                               | 71 kB 45.1 MB/s eta 0:00:01\r",
      "\u001b[K     |▊                               | 81 kB 45.7 MB/s eta 0:00:01\r",
      "\u001b[K     |▊                               | 92 kB 47.1 MB/s eta 0:00:01\r",
      "\u001b[K     |▉                               | 102 kB 48.9 MB/s eta 0:00:01\r",
      "\u001b[K     |█                               | 112 kB 48.9 MB/s eta 0:00:01\r",
      "\u001b[K     |█                               | 122 kB 48.9 MB/s eta 0:00:01\r",
      "\u001b[K     |█▏                              | 133 kB 48.9 MB/s eta 0:00:01\r",
      "\u001b[K     |█▏                              | 143 kB 48.9 MB/s eta 0:00:01\r",
      "\u001b[K     |█▎                              | 153 kB 48.9 MB/s eta 0:00:01\r",
      "\u001b[K     |█▍                              | 163 kB 48.9 MB/s eta 0:00:01\r",
      "\u001b[K     |█▌                              | 174 kB 48.9 MB/s eta 0:00:01\r",
      "\u001b[K     |█▌                              | 184 kB 48.9 MB/s eta 0:00:01\r",
      "\u001b[K     |█▋                              | 194 kB 48.9 MB/s eta 0:00:01\r",
      "\u001b[K     |█▊                              | 204 kB 48.9 MB/s eta 0:00:01\r",
      "\u001b[K     |█▉                              | 215 kB 48.9 MB/s eta 0:00:01\r",
      "\u001b[K     |█▉                              | 225 kB 48.9 MB/s eta 0:00:01\r",
      "\u001b[K     |██                              | 235 kB 48.9 MB/s eta 0:00:01\r",
      "\u001b[K     |██                              | 245 kB 48.9 MB/s eta 0:00:01\r",
      "\u001b[K     |██▏                             | 256 kB 48.9 MB/s eta 0:00:01\r",
      "\u001b[K     |██▎                             | 266 kB 48.9 MB/s eta 0:00:01\r",
      "\u001b[K     |██▎                             | 276 kB 48.9 MB/s eta 0:00:01\r",
      "\u001b[K     |██▍                             | 286 kB 48.9 MB/s eta 0:00:01\r",
      "\u001b[K     |██▌                             | 296 kB 48.9 MB/s eta 0:00:01\r",
      "\u001b[K     |██▋                             | 307 kB 48.9 MB/s eta 0:00:01\r",
      "\u001b[K     |██▋                             | 317 kB 48.9 MB/s eta 0:00:01\r",
      "\u001b[K     |██▊                             | 327 kB 48.9 MB/s eta 0:00:01\r",
      "\u001b[K     |██▉                             | 337 kB 48.9 MB/s eta 0:00:01\r",
      "\u001b[K     |███                             | 348 kB 48.9 MB/s eta 0:00:01\r",
      "\u001b[K     |███                             | 358 kB 48.9 MB/s eta 0:00:01\r",
      "\u001b[K     |███                             | 368 kB 48.9 MB/s eta 0:00:01\r",
      "\u001b[K     |███▏                            | 378 kB 48.9 MB/s eta 0:00:01\r",
      "\u001b[K     |███▎                            | 389 kB 48.9 MB/s eta 0:00:01\r",
      "\u001b[K     |███▍                            | 399 kB 48.9 MB/s eta 0:00:01\r",
      "\u001b[K     |███▍                            | 409 kB 48.9 MB/s eta 0:00:01\r",
      "\u001b[K     |███▌                            | 419 kB 48.9 MB/s eta 0:00:01\r",
      "\u001b[K     |███▋                            | 430 kB 48.9 MB/s eta 0:00:01\r",
      "\u001b[K     |███▊                            | 440 kB 48.9 MB/s eta 0:00:01\r",
      "\u001b[K     |███▊                            | 450 kB 48.9 MB/s eta 0:00:01\r",
      "\u001b[K     |███▉                            | 460 kB 48.9 MB/s eta 0:00:01\r",
      "\u001b[K     |████                            | 471 kB 48.9 MB/s eta 0:00:01\r",
      "\u001b[K     |████                            | 481 kB 48.9 MB/s eta 0:00:01\r",
      "\u001b[K     |████                            | 491 kB 48.9 MB/s eta 0:00:01\r",
      "\u001b[K     |████▏                           | 501 kB 48.9 MB/s eta 0:00:01\r",
      "\u001b[K     |████▎                           | 512 kB 48.9 MB/s eta 0:00:01\r",
      "\u001b[K     |████▍                           | 522 kB 48.9 MB/s eta 0:00:01\r",
      "\u001b[K     |████▌                           | 532 kB 48.9 MB/s eta 0:00:01\r",
      "\u001b[K     |████▌                           | 542 kB 48.9 MB/s eta 0:00:01\r",
      "\u001b[K     |████▋                           | 552 kB 48.9 MB/s eta 0:00:01\r",
      "\u001b[K     |████▊                           | 563 kB 48.9 MB/s eta 0:00:01\r",
      "\u001b[K     |████▉                           | 573 kB 48.9 MB/s eta 0:00:01\r",
      "\u001b[K     |████▉                           | 583 kB 48.9 MB/s eta 0:00:01\r",
      "\u001b[K     |█████                           | 593 kB 48.9 MB/s eta 0:00:01\r",
      "\u001b[K     |█████                           | 604 kB 48.9 MB/s eta 0:00:01\r",
      "\u001b[K     |█████▏                          | 614 kB 48.9 MB/s eta 0:00:01\r",
      "\u001b[K     |█████▏                          | 624 kB 48.9 MB/s eta 0:00:01\r",
      "\u001b[K     |█████▎                          | 634 kB 48.9 MB/s eta 0:00:01\r",
      "\u001b[K     |█████▍                          | 645 kB 48.9 MB/s eta 0:00:01\r",
      "\u001b[K     |█████▌                          | 655 kB 48.9 MB/s eta 0:00:01\r",
      "\u001b[K     |█████▋                          | 665 kB 48.9 MB/s eta 0:00:01\r",
      "\u001b[K     |█████▋                          | 675 kB 48.9 MB/s eta 0:00:01\r",
      "\u001b[K     |█████▊                          | 686 kB 48.9 MB/s eta 0:00:01\r",
      "\u001b[K     |█████▉                          | 696 kB 48.9 MB/s eta 0:00:01\r",
      "\u001b[K     |██████                          | 706 kB 48.9 MB/s eta 0:00:01\r",
      "\u001b[K     |██████                          | 716 kB 48.9 MB/s eta 0:00:01\r",
      "\u001b[K     |██████                          | 727 kB 48.9 MB/s eta 0:00:01\r",
      "\u001b[K     |██████▏                         | 737 kB 48.9 MB/s eta 0:00:01\r",
      "\u001b[K     |██████▎                         | 747 kB 48.9 MB/s eta 0:00:01\r",
      "\u001b[K     |██████▎                         | 757 kB 48.9 MB/s eta 0:00:01\r",
      "\u001b[K     |██████▍                         | 768 kB 48.9 MB/s eta 0:00:01\r",
      "\u001b[K     |██████▌                         | 778 kB 48.9 MB/s eta 0:00:01\r",
      "\u001b[K     |██████▋                         | 788 kB 48.9 MB/s eta 0:00:01\r",
      "\u001b[K     |██████▊                         | 798 kB 48.9 MB/s eta 0:00:01\r",
      "\u001b[K     |██████▊                         | 808 kB 48.9 MB/s eta 0:00:01\r",
      "\u001b[K     |██████▉                         | 819 kB 48.9 MB/s eta 0:00:01\r",
      "\u001b[K     |███████                         | 829 kB 48.9 MB/s eta 0:00:01\r",
      "\u001b[K     |███████                         | 839 kB 48.9 MB/s eta 0:00:01\r",
      "\u001b[K     |███████                         | 849 kB 48.9 MB/s eta 0:00:01\r",
      "\u001b[K     |███████▏                        | 860 kB 48.9 MB/s eta 0:00:01\r",
      "\u001b[K     |███████▎                        | 870 kB 48.9 MB/s eta 0:00:01\r",
      "\u001b[K     |███████▍                        | 880 kB 48.9 MB/s eta 0:00:01\r",
      "\u001b[K     |███████▍                        | 890 kB 48.9 MB/s eta 0:00:01\r",
      "\u001b[K     |███████▌                        | 901 kB 48.9 MB/s eta 0:00:01\r",
      "\u001b[K     |███████▋                        | 911 kB 48.9 MB/s eta 0:00:01\r",
      "\u001b[K     |███████▊                        | 921 kB 48.9 MB/s eta 0:00:01\r",
      "\u001b[K     |███████▉                        | 931 kB 48.9 MB/s eta 0:00:01\r",
      "\u001b[K     |███████▉                        | 942 kB 48.9 MB/s eta 0:00:01\r",
      "\u001b[K     |████████                        | 952 kB 48.9 MB/s eta 0:00:01\r",
      "\u001b[K     |████████                        | 962 kB 48.9 MB/s eta 0:00:01\r",
      "\u001b[K     |████████▏                       | 972 kB 48.9 MB/s eta 0:00:01\r",
      "\u001b[K     |████████▏                       | 983 kB 48.9 MB/s eta 0:00:01\r",
      "\u001b[K     |████████▎                       | 993 kB 48.9 MB/s eta 0:00:01\r",
      "\u001b[K     |████████▍                       | 1.0 MB 48.9 MB/s eta 0:00:01\r",
      "\u001b[K     |████████▌                       | 1.0 MB 48.9 MB/s eta 0:00:01\r",
      "\u001b[K     |████████▌                       | 1.0 MB 48.9 MB/s eta 0:00:01\r",
      "\u001b[K     |████████▋                       | 1.0 MB 48.9 MB/s eta 0:00:01\r",
      "\u001b[K     |████████▊                       | 1.0 MB 48.9 MB/s eta 0:00:01\r",
      "\u001b[K     |████████▉                       | 1.1 MB 48.9 MB/s eta 0:00:01\r",
      "\u001b[K     |█████████                       | 1.1 MB 48.9 MB/s eta 0:00:01\r",
      "\u001b[K     |█████████                       | 1.1 MB 48.9 MB/s eta 0:00:01\r",
      "\u001b[K     |█████████                       | 1.1 MB 48.9 MB/s eta 0:00:01\r",
      "\u001b[K     |█████████▏                      | 1.1 MB 48.9 MB/s eta 0:00:01\r",
      "\u001b[K     |█████████▎                      | 1.1 MB 48.9 MB/s eta 0:00:01\r",
      "\u001b[K     |█████████▎                      | 1.1 MB 48.9 MB/s eta 0:00:01\r",
      "\u001b[K     |█████████▍                      | 1.1 MB 48.9 MB/s eta 0:00:01\r",
      "\u001b[K     |█████████▌                      | 1.1 MB 48.9 MB/s eta 0:00:01\r",
      "\u001b[K     |█████████▋                      | 1.1 MB 48.9 MB/s eta 0:00:01\r",
      "\u001b[K     |█████████▋                      | 1.2 MB 48.9 MB/s eta 0:00:01\r",
      "\u001b[K     |█████████▊                      | 1.2 MB 48.9 MB/s eta 0:00:01\r",
      "\u001b[K     |█████████▉                      | 1.2 MB 48.9 MB/s eta 0:00:01\r",
      "\u001b[K     |██████████                      | 1.2 MB 48.9 MB/s eta 0:00:01\r",
      "\u001b[K     |██████████                      | 1.2 MB 48.9 MB/s eta 0:00:01\r",
      "\u001b[K     |██████████                      | 1.2 MB 48.9 MB/s eta 0:00:01\r",
      "\u001b[K     |██████████▏                     | 1.2 MB 48.9 MB/s eta 0:00:01\r",
      "\u001b[K     |██████████▎                     | 1.2 MB 48.9 MB/s eta 0:00:01\r",
      "\u001b[K     |██████████▍                     | 1.2 MB 48.9 MB/s eta 0:00:01\r",
      "\u001b[K     |██████████▍                     | 1.2 MB 48.9 MB/s eta 0:00:01\r",
      "\u001b[K     |██████████▌                     | 1.3 MB 48.9 MB/s eta 0:00:01\r",
      "\u001b[K     |██████████▋                     | 1.3 MB 48.9 MB/s eta 0:00:01\r",
      "\u001b[K     |██████████▊                     | 1.3 MB 48.9 MB/s eta 0:00:01\r",
      "\u001b[K     |██████████▊                     | 1.3 MB 48.9 MB/s eta 0:00:01\r",
      "\u001b[K     |██████████▉                     | 1.3 MB 48.9 MB/s eta 0:00:01\r",
      "\u001b[K     |███████████                     | 1.3 MB 48.9 MB/s eta 0:00:01\r",
      "\u001b[K     |███████████                     | 1.3 MB 48.9 MB/s eta 0:00:01\r",
      "\u001b[K     |███████████▏                    | 1.3 MB 48.9 MB/s eta 0:00:01\r",
      "\u001b[K     |███████████▏                    | 1.3 MB 48.9 MB/s eta 0:00:01\r",
      "\u001b[K     |███████████▎                    | 1.4 MB 48.9 MB/s eta 0:00:01\r",
      "\u001b[K     |███████████▍                    | 1.4 MB 48.9 MB/s eta 0:00:01\r",
      "\u001b[K     |███████████▌                    | 1.4 MB 48.9 MB/s eta 0:00:01\r",
      "\u001b[K     |███████████▌                    | 1.4 MB 48.9 MB/s eta 0:00:01\r",
      "\u001b[K     |███████████▋                    | 1.4 MB 48.9 MB/s eta 0:00:01\r",
      "\u001b[K     |███████████▊                    | 1.4 MB 48.9 MB/s eta 0:00:01\r",
      "\u001b[K     |███████████▉                    | 1.4 MB 48.9 MB/s eta 0:00:01\r",
      "\u001b[K     |███████████▉                    | 1.4 MB 48.9 MB/s eta 0:00:01\r",
      "\u001b[K     |████████████                    | 1.4 MB 48.9 MB/s eta 0:00:01\r",
      "\u001b[K     |████████████                    | 1.4 MB 48.9 MB/s eta 0:00:01\r",
      "\u001b[K     |████████████▏                   | 1.5 MB 48.9 MB/s eta 0:00:01\r",
      "\u001b[K     |████████████▎                   | 1.5 MB 48.9 MB/s eta 0:00:01\r",
      "\u001b[K     |████████████▎                   | 1.5 MB 48.9 MB/s eta 0:00:01\r",
      "\u001b[K     |████████████▍                   | 1.5 MB 48.9 MB/s eta 0:00:01\r",
      "\u001b[K     |████████████▌                   | 1.5 MB 48.9 MB/s eta 0:00:01\r",
      "\u001b[K     |████████████▋                   | 1.5 MB 48.9 MB/s eta 0:00:01\r",
      "\u001b[K     |████████████▋                   | 1.5 MB 48.9 MB/s eta 0:00:01\r",
      "\u001b[K     |████████████▊                   | 1.5 MB 48.9 MB/s eta 0:00:01\r",
      "\u001b[K     |████████████▉                   | 1.5 MB 48.9 MB/s eta 0:00:01\r",
      "\u001b[K     |█████████████                   | 1.5 MB 48.9 MB/s eta 0:00:01\r",
      "\u001b[K     |█████████████                   | 1.6 MB 48.9 MB/s eta 0:00:01\r",
      "\u001b[K     |█████████████                   | 1.6 MB 48.9 MB/s eta 0:00:01\r",
      "\u001b[K     |█████████████▏                  | 1.6 MB 48.9 MB/s eta 0:00:01\r",
      "\u001b[K     |█████████████▎                  | 1.6 MB 48.9 MB/s eta 0:00:01\r",
      "\u001b[K     |█████████████▍                  | 1.6 MB 48.9 MB/s eta 0:00:01\r",
      "\u001b[K     |█████████████▍                  | 1.6 MB 48.9 MB/s eta 0:00:01\r",
      "\u001b[K     |█████████████▌                  | 1.6 MB 48.9 MB/s eta 0:00:01\r",
      "\u001b[K     |█████████████▋                  | 1.6 MB 48.9 MB/s eta 0:00:01\r",
      "\u001b[K     |█████████████▊                  | 1.6 MB 48.9 MB/s eta 0:00:01\r",
      "\u001b[K     |█████████████▊                  | 1.6 MB 48.9 MB/s eta 0:00:01\r",
      "\u001b[K     |█████████████▉                  | 1.7 MB 48.9 MB/s eta 0:00:01\r",
      "\u001b[K     |██████████████                  | 1.7 MB 48.9 MB/s eta 0:00:01\r",
      "\u001b[K     |██████████████                  | 1.7 MB 48.9 MB/s eta 0:00:01\r",
      "\u001b[K     |██████████████                  | 1.7 MB 48.9 MB/s eta 0:00:01\r",
      "\u001b[K     |██████████████▏                 | 1.7 MB 48.9 MB/s eta 0:00:01\r",
      "\u001b[K     |██████████████▎                 | 1.7 MB 48.9 MB/s eta 0:00:01\r",
      "\u001b[K     |██████████████▍                 | 1.7 MB 48.9 MB/s eta 0:00:01\r",
      "\u001b[K     |██████████████▌                 | 1.7 MB 48.9 MB/s eta 0:00:01\r",
      "\u001b[K     |██████████████▌                 | 1.7 MB 48.9 MB/s eta 0:00:01\r",
      "\u001b[K     |██████████████▋                 | 1.8 MB 48.9 MB/s eta 0:00:01\r",
      "\u001b[K     |██████████████▊                 | 1.8 MB 48.9 MB/s eta 0:00:01\r",
      "\u001b[K     |██████████████▉                 | 1.8 MB 48.9 MB/s eta 0:00:01\r",
      "\u001b[K     |██████████████▉                 | 1.8 MB 48.9 MB/s eta 0:00:01\r",
      "\u001b[K     |███████████████                 | 1.8 MB 48.9 MB/s eta 0:00:01\r",
      "\u001b[K     |███████████████                 | 1.8 MB 48.9 MB/s eta 0:00:01\r",
      "\u001b[K     |███████████████▏                | 1.8 MB 48.9 MB/s eta 0:00:01\r",
      "\u001b[K     |███████████████▏                | 1.8 MB 48.9 MB/s eta 0:00:01\r",
      "\u001b[K     |███████████████▎                | 1.8 MB 48.9 MB/s eta 0:00:01\r",
      "\u001b[K     |███████████████▍                | 1.8 MB 48.9 MB/s eta 0:00:01\r",
      "\u001b[K     |███████████████▌                | 1.9 MB 48.9 MB/s eta 0:00:01\r",
      "\u001b[K     |███████████████▋                | 1.9 MB 48.9 MB/s eta 0:00:01\r",
      "\u001b[K     |███████████████▋                | 1.9 MB 48.9 MB/s eta 0:00:01\r",
      "\u001b[K     |███████████████▊                | 1.9 MB 48.9 MB/s eta 0:00:01\r",
      "\u001b[K     |███████████████▉                | 1.9 MB 48.9 MB/s eta 0:00:01\r",
      "\u001b[K     |████████████████                | 1.9 MB 48.9 MB/s eta 0:00:01\r",
      "\u001b[K     |████████████████                | 1.9 MB 48.9 MB/s eta 0:00:01\r",
      "\u001b[K     |████████████████                | 1.9 MB 48.9 MB/s eta 0:00:01\r",
      "\u001b[K     |████████████████▏               | 1.9 MB 48.9 MB/s eta 0:00:01\r",
      "\u001b[K     |████████████████▎               | 1.9 MB 48.9 MB/s eta 0:00:01\r",
      "\u001b[K     |████████████████▎               | 2.0 MB 48.9 MB/s eta 0:00:01\r",
      "\u001b[K     |████████████████▍               | 2.0 MB 48.9 MB/s eta 0:00:01\r",
      "\u001b[K     |████████████████▌               | 2.0 MB 48.9 MB/s eta 0:00:01\r",
      "\u001b[K     |████████████████▋               | 2.0 MB 48.9 MB/s eta 0:00:01\r",
      "\u001b[K     |████████████████▊               | 2.0 MB 48.9 MB/s eta 0:00:01\r",
      "\u001b[K     |████████████████▊               | 2.0 MB 48.9 MB/s eta 0:00:01\r",
      "\u001b[K     |████████████████▉               | 2.0 MB 48.9 MB/s eta 0:00:01\r",
      "\u001b[K     |█████████████████               | 2.0 MB 48.9 MB/s eta 0:00:01\r",
      "\u001b[K     |█████████████████               | 2.0 MB 48.9 MB/s eta 0:00:01\r",
      "\u001b[K     |█████████████████               | 2.0 MB 48.9 MB/s eta 0:00:01\r",
      "\u001b[K     |█████████████████▏              | 2.1 MB 48.9 MB/s eta 0:00:01\r",
      "\u001b[K     |█████████████████▎              | 2.1 MB 48.9 MB/s eta 0:00:01\r",
      "\u001b[K     |█████████████████▍              | 2.1 MB 48.9 MB/s eta 0:00:01\r",
      "\u001b[K     |█████████████████▍              | 2.1 MB 48.9 MB/s eta 0:00:01\r",
      "\u001b[K     |█████████████████▌              | 2.1 MB 48.9 MB/s eta 0:00:01\r",
      "\u001b[K     |█████████████████▋              | 2.1 MB 48.9 MB/s eta 0:00:01\r",
      "\u001b[K     |█████████████████▊              | 2.1 MB 48.9 MB/s eta 0:00:01\r",
      "\u001b[K     |█████████████████▉              | 2.1 MB 48.9 MB/s eta 0:00:01\r",
      "\u001b[K     |█████████████████▉              | 2.1 MB 48.9 MB/s eta 0:00:01\r",
      "\u001b[K     |██████████████████              | 2.2 MB 48.9 MB/s eta 0:00:01\r",
      "\u001b[K     |██████████████████              | 2.2 MB 48.9 MB/s eta 0:00:01\r",
      "\u001b[K     |██████████████████▏             | 2.2 MB 48.9 MB/s eta 0:00:01\r",
      "\u001b[K     |██████████████████▏             | 2.2 MB 48.9 MB/s eta 0:00:01\r",
      "\u001b[K     |██████████████████▎             | 2.2 MB 48.9 MB/s eta 0:00:01\r",
      "\u001b[K     |██████████████████▍             | 2.2 MB 48.9 MB/s eta 0:00:01\r",
      "\u001b[K     |██████████████████▌             | 2.2 MB 48.9 MB/s eta 0:00:01\r",
      "\u001b[K     |██████████████████▌             | 2.2 MB 48.9 MB/s eta 0:00:01\r",
      "\u001b[K     |██████████████████▋             | 2.2 MB 48.9 MB/s eta 0:00:01\r",
      "\u001b[K     |██████████████████▊             | 2.2 MB 48.9 MB/s eta 0:00:01\r",
      "\u001b[K     |██████████████████▉             | 2.3 MB 48.9 MB/s eta 0:00:01\r",
      "\u001b[K     |███████████████████             | 2.3 MB 48.9 MB/s eta 0:00:01\r",
      "\u001b[K     |███████████████████             | 2.3 MB 48.9 MB/s eta 0:00:01\r",
      "\u001b[K     |███████████████████             | 2.3 MB 48.9 MB/s eta 0:00:01\r",
      "\u001b[K     |███████████████████▏            | 2.3 MB 48.9 MB/s eta 0:00:01\r",
      "\u001b[K     |███████████████████▎            | 2.3 MB 48.9 MB/s eta 0:00:01\r",
      "\u001b[K     |███████████████████▎            | 2.3 MB 48.9 MB/s eta 0:00:01\r",
      "\u001b[K     |███████████████████▍            | 2.3 MB 48.9 MB/s eta 0:00:01\r",
      "\u001b[K     |███████████████████▌            | 2.3 MB 48.9 MB/s eta 0:00:01\r",
      "\u001b[K     |███████████████████▋            | 2.3 MB 48.9 MB/s eta 0:00:01\r",
      "\u001b[K     |███████████████████▋            | 2.4 MB 48.9 MB/s eta 0:00:01\r",
      "\u001b[K     |███████████████████▊            | 2.4 MB 48.9 MB/s eta 0:00:01\r",
      "\u001b[K     |███████████████████▉            | 2.4 MB 48.9 MB/s eta 0:00:01\r",
      "\u001b[K     |████████████████████            | 2.4 MB 48.9 MB/s eta 0:00:01\r",
      "\u001b[K     |████████████████████            | 2.4 MB 48.9 MB/s eta 0:00:01\r",
      "\u001b[K     |████████████████████            | 2.4 MB 48.9 MB/s eta 0:00:01\r",
      "\u001b[K     |████████████████████▏           | 2.4 MB 48.9 MB/s eta 0:00:01\r",
      "\u001b[K     |████████████████████▎           | 2.4 MB 48.9 MB/s eta 0:00:01\r",
      "\u001b[K     |████████████████████▍           | 2.4 MB 48.9 MB/s eta 0:00:01\r",
      "\u001b[K     |████████████████████▍           | 2.4 MB 48.9 MB/s eta 0:00:01\r",
      "\u001b[K     |████████████████████▌           | 2.5 MB 48.9 MB/s eta 0:00:01\r",
      "\u001b[K     |████████████████████▋           | 2.5 MB 48.9 MB/s eta 0:00:01\r",
      "\u001b[K     |████████████████████▊           | 2.5 MB 48.9 MB/s eta 0:00:01\r",
      "\u001b[K     |████████████████████▊           | 2.5 MB 48.9 MB/s eta 0:00:01\r",
      "\u001b[K     |████████████████████▉           | 2.5 MB 48.9 MB/s eta 0:00:01\r",
      "\u001b[K     |█████████████████████           | 2.5 MB 48.9 MB/s eta 0:00:01\r",
      "\u001b[K     |█████████████████████           | 2.5 MB 48.9 MB/s eta 0:00:01\r",
      "\u001b[K     |█████████████████████▏          | 2.5 MB 48.9 MB/s eta 0:00:01\r",
      "\u001b[K     |█████████████████████▏          | 2.5 MB 48.9 MB/s eta 0:00:01\r",
      "\u001b[K     |█████████████████████▎          | 2.5 MB 48.9 MB/s eta 0:00:01\r",
      "\u001b[K     |█████████████████████▍          | 2.6 MB 48.9 MB/s eta 0:00:01\r",
      "\u001b[K     |█████████████████████▌          | 2.6 MB 48.9 MB/s eta 0:00:01\r",
      "\u001b[K     |█████████████████████▌          | 2.6 MB 48.9 MB/s eta 0:00:01\r",
      "\u001b[K     |█████████████████████▋          | 2.6 MB 48.9 MB/s eta 0:00:01\r",
      "\u001b[K     |█████████████████████▊          | 2.6 MB 48.9 MB/s eta 0:00:01\r",
      "\u001b[K     |█████████████████████▉          | 2.6 MB 48.9 MB/s eta 0:00:01\r",
      "\u001b[K     |█████████████████████▉          | 2.6 MB 48.9 MB/s eta 0:00:01\r",
      "\u001b[K     |██████████████████████          | 2.6 MB 48.9 MB/s eta 0:00:01\r",
      "\u001b[K     |██████████████████████          | 2.6 MB 48.9 MB/s eta 0:00:01\r",
      "\u001b[K     |██████████████████████▏         | 2.7 MB 48.9 MB/s eta 0:00:01\r",
      "\u001b[K     |██████████████████████▎         | 2.7 MB 48.9 MB/s eta 0:00:01\r",
      "\u001b[K     |██████████████████████▎         | 2.7 MB 48.9 MB/s eta 0:00:01\r",
      "\u001b[K     |██████████████████████▍         | 2.7 MB 48.9 MB/s eta 0:00:01\r",
      "\u001b[K     |██████████████████████▌         | 2.7 MB 48.9 MB/s eta 0:00:01\r",
      "\u001b[K     |██████████████████████▋         | 2.7 MB 48.9 MB/s eta 0:00:01\r",
      "\u001b[K     |██████████████████████▋         | 2.7 MB 48.9 MB/s eta 0:00:01\r",
      "\u001b[K     |██████████████████████▊         | 2.7 MB 48.9 MB/s eta 0:00:01\r",
      "\u001b[K     |██████████████████████▉         | 2.7 MB 48.9 MB/s eta 0:00:01\r",
      "\u001b[K     |███████████████████████         | 2.7 MB 48.9 MB/s eta 0:00:01\r",
      "\u001b[K     |███████████████████████         | 2.8 MB 48.9 MB/s eta 0:00:01\r",
      "\u001b[K     |███████████████████████         | 2.8 MB 48.9 MB/s eta 0:00:01\r",
      "\u001b[K     |███████████████████████▏        | 2.8 MB 48.9 MB/s eta 0:00:01\r",
      "\u001b[K     |███████████████████████▎        | 2.8 MB 48.9 MB/s eta 0:00:01\r",
      "\u001b[K     |███████████████████████▍        | 2.8 MB 48.9 MB/s eta 0:00:01\r",
      "\u001b[K     |███████████████████████▍        | 2.8 MB 48.9 MB/s eta 0:00:01\r",
      "\u001b[K     |███████████████████████▌        | 2.8 MB 48.9 MB/s eta 0:00:01\r",
      "\u001b[K     |███████████████████████▋        | 2.8 MB 48.9 MB/s eta 0:00:01\r",
      "\u001b[K     |███████████████████████▊        | 2.8 MB 48.9 MB/s eta 0:00:01\r",
      "\u001b[K     |███████████████████████▊        | 2.8 MB 48.9 MB/s eta 0:00:01\r",
      "\u001b[K     |███████████████████████▉        | 2.9 MB 48.9 MB/s eta 0:00:01\r",
      "\u001b[K     |████████████████████████        | 2.9 MB 48.9 MB/s eta 0:00:01\r",
      "\u001b[K     |████████████████████████        | 2.9 MB 48.9 MB/s eta 0:00:01\r",
      "\u001b[K     |████████████████████████        | 2.9 MB 48.9 MB/s eta 0:00:01\r",
      "\u001b[K     |████████████████████████▏       | 2.9 MB 48.9 MB/s eta 0:00:01\r",
      "\u001b[K     |████████████████████████▎       | 2.9 MB 48.9 MB/s eta 0:00:01\r",
      "\u001b[K     |████████████████████████▍       | 2.9 MB 48.9 MB/s eta 0:00:01\r",
      "\u001b[K     |████████████████████████▌       | 2.9 MB 48.9 MB/s eta 0:00:01\r",
      "\u001b[K     |████████████████████████▌       | 2.9 MB 48.9 MB/s eta 0:00:01\r",
      "\u001b[K     |████████████████████████▋       | 2.9 MB 48.9 MB/s eta 0:00:01\r",
      "\u001b[K     |████████████████████████▊       | 3.0 MB 48.9 MB/s eta 0:00:01\r",
      "\u001b[K     |████████████████████████▉       | 3.0 MB 48.9 MB/s eta 0:00:01\r",
      "\u001b[K     |████████████████████████▉       | 3.0 MB 48.9 MB/s eta 0:00:01\r",
      "\u001b[K     |█████████████████████████       | 3.0 MB 48.9 MB/s eta 0:00:01\r",
      "\u001b[K     |█████████████████████████       | 3.0 MB 48.9 MB/s eta 0:00:01"
     ]
    },
    {
     "name": "stdout",
     "output_type": "stream",
     "text": [
      "\r",
      "\u001b[K     |█████████████████████████▏      | 3.0 MB 48.9 MB/s eta 0:00:01\r",
      "\u001b[K     |█████████████████████████▏      | 3.0 MB 48.9 MB/s eta 0:00:01\r",
      "\u001b[K     |█████████████████████████▎      | 3.0 MB 48.9 MB/s eta 0:00:01\r",
      "\u001b[K     |█████████████████████████▍      | 3.0 MB 48.9 MB/s eta 0:00:01\r",
      "\u001b[K     |█████████████████████████▌      | 3.1 MB 48.9 MB/s eta 0:00:01\r",
      "\u001b[K     |█████████████████████████▋      | 3.1 MB 48.9 MB/s eta 0:00:01\r",
      "\u001b[K     |█████████████████████████▋      | 3.1 MB 48.9 MB/s eta 0:00:01\r",
      "\u001b[K     |█████████████████████████▊      | 3.1 MB 48.9 MB/s eta 0:00:01\r",
      "\u001b[K     |█████████████████████████▉      | 3.1 MB 48.9 MB/s eta 0:00:01\r",
      "\u001b[K     |██████████████████████████      | 3.1 MB 48.9 MB/s eta 0:00:01\r",
      "\u001b[K     |██████████████████████████      | 3.1 MB 48.9 MB/s eta 0:00:01\r",
      "\u001b[K     |██████████████████████████      | 3.1 MB 48.9 MB/s eta 0:00:01\r",
      "\u001b[K     |██████████████████████████▏     | 3.1 MB 48.9 MB/s eta 0:00:01\r",
      "\u001b[K     |██████████████████████████▎     | 3.1 MB 48.9 MB/s eta 0:00:01\r",
      "\u001b[K     |██████████████████████████▎     | 3.2 MB 48.9 MB/s eta 0:00:01\r",
      "\u001b[K     |██████████████████████████▍     | 3.2 MB 48.9 MB/s eta 0:00:01\r",
      "\u001b[K     |██████████████████████████▌     | 3.2 MB 48.9 MB/s eta 0:00:01\r",
      "\u001b[K     |██████████████████████████▋     | 3.2 MB 48.9 MB/s eta 0:00:01\r",
      "\u001b[K     |██████████████████████████▊     | 3.2 MB 48.9 MB/s eta 0:00:01\r",
      "\u001b[K     |██████████████████████████▊     | 3.2 MB 48.9 MB/s eta 0:00:01\r",
      "\u001b[K     |██████████████████████████▉     | 3.2 MB 48.9 MB/s eta 0:00:01\r",
      "\u001b[K     |███████████████████████████     | 3.2 MB 48.9 MB/s eta 0:00:01\r",
      "\u001b[K     |███████████████████████████     | 3.2 MB 48.9 MB/s eta 0:00:01\r",
      "\u001b[K     |███████████████████████████     | 3.2 MB 48.9 MB/s eta 0:00:01\r",
      "\u001b[K     |███████████████████████████▏    | 3.3 MB 48.9 MB/s eta 0:00:01\r",
      "\u001b[K     |███████████████████████████▎    | 3.3 MB 48.9 MB/s eta 0:00:01\r",
      "\u001b[K     |███████████████████████████▍    | 3.3 MB 48.9 MB/s eta 0:00:01\r",
      "\u001b[K     |███████████████████████████▍    | 3.3 MB 48.9 MB/s eta 0:00:01\r",
      "\u001b[K     |███████████████████████████▌    | 3.3 MB 48.9 MB/s eta 0:00:01\r",
      "\u001b[K     |███████████████████████████▋    | 3.3 MB 48.9 MB/s eta 0:00:01\r",
      "\u001b[K     |███████████████████████████▊    | 3.3 MB 48.9 MB/s eta 0:00:01\r",
      "\u001b[K     |███████████████████████████▉    | 3.3 MB 48.9 MB/s eta 0:00:01\r",
      "\u001b[K     |███████████████████████████▉    | 3.3 MB 48.9 MB/s eta 0:00:01\r",
      "\u001b[K     |████████████████████████████    | 3.3 MB 48.9 MB/s eta 0:00:01\r",
      "\u001b[K     |████████████████████████████    | 3.4 MB 48.9 MB/s eta 0:00:01\r",
      "\u001b[K     |████████████████████████████▏   | 3.4 MB 48.9 MB/s eta 0:00:01\r",
      "\u001b[K     |████████████████████████████▏   | 3.4 MB 48.9 MB/s eta 0:00:01\r",
      "\u001b[K     |████████████████████████████▎   | 3.4 MB 48.9 MB/s eta 0:00:01\r",
      "\u001b[K     |████████████████████████████▍   | 3.4 MB 48.9 MB/s eta 0:00:01\r",
      "\u001b[K     |████████████████████████████▌   | 3.4 MB 48.9 MB/s eta 0:00:01\r",
      "\u001b[K     |████████████████████████████▌   | 3.4 MB 48.9 MB/s eta 0:00:01\r",
      "\u001b[K     |████████████████████████████▋   | 3.4 MB 48.9 MB/s eta 0:00:01\r",
      "\u001b[K     |████████████████████████████▊   | 3.4 MB 48.9 MB/s eta 0:00:01\r",
      "\u001b[K     |████████████████████████████▉   | 3.5 MB 48.9 MB/s eta 0:00:01\r",
      "\u001b[K     |█████████████████████████████   | 3.5 MB 48.9 MB/s eta 0:00:01\r",
      "\u001b[K     |█████████████████████████████   | 3.5 MB 48.9 MB/s eta 0:00:01\r",
      "\u001b[K     |█████████████████████████████   | 3.5 MB 48.9 MB/s eta 0:00:01\r",
      "\u001b[K     |█████████████████████████████▏  | 3.5 MB 48.9 MB/s eta 0:00:01\r",
      "\u001b[K     |█████████████████████████████▎  | 3.5 MB 48.9 MB/s eta 0:00:01\r",
      "\u001b[K     |█████████████████████████████▎  | 3.5 MB 48.9 MB/s eta 0:00:01\r",
      "\u001b[K     |█████████████████████████████▍  | 3.5 MB 48.9 MB/s eta 0:00:01\r",
      "\u001b[K     |█████████████████████████████▌  | 3.5 MB 48.9 MB/s eta 0:00:01\r",
      "\u001b[K     |█████████████████████████████▋  | 3.5 MB 48.9 MB/s eta 0:00:01\r",
      "\u001b[K     |█████████████████████████████▋  | 3.6 MB 48.9 MB/s eta 0:00:01\r",
      "\u001b[K     |█████████████████████████████▊  | 3.6 MB 48.9 MB/s eta 0:00:01\r",
      "\u001b[K     |█████████████████████████████▉  | 3.6 MB 48.9 MB/s eta 0:00:01\r",
      "\u001b[K     |██████████████████████████████  | 3.6 MB 48.9 MB/s eta 0:00:01\r",
      "\u001b[K     |██████████████████████████████  | 3.6 MB 48.9 MB/s eta 0:00:01\r",
      "\u001b[K     |██████████████████████████████  | 3.6 MB 48.9 MB/s eta 0:00:01\r",
      "\u001b[K     |██████████████████████████████▏ | 3.6 MB 48.9 MB/s eta 0:00:01\r",
      "\u001b[K     |██████████████████████████████▎ | 3.6 MB 48.9 MB/s eta 0:00:01\r",
      "\u001b[K     |██████████████████████████████▍ | 3.6 MB 48.9 MB/s eta 0:00:01\r",
      "\u001b[K     |██████████████████████████████▍ | 3.6 MB 48.9 MB/s eta 0:00:01\r",
      "\u001b[K     |██████████████████████████████▌ | 3.7 MB 48.9 MB/s eta 0:00:01\r",
      "\u001b[K     |██████████████████████████████▋ | 3.7 MB 48.9 MB/s eta 0:00:01\r",
      "\u001b[K     |██████████████████████████████▊ | 3.7 MB 48.9 MB/s eta 0:00:01\r",
      "\u001b[K     |██████████████████████████████▊ | 3.7 MB 48.9 MB/s eta 0:00:01\r",
      "\u001b[K     |██████████████████████████████▉ | 3.7 MB 48.9 MB/s eta 0:00:01\r",
      "\u001b[K     |███████████████████████████████ | 3.7 MB 48.9 MB/s eta 0:00:01\r",
      "\u001b[K     |███████████████████████████████ | 3.7 MB 48.9 MB/s eta 0:00:01\r",
      "\u001b[K     |███████████████████████████████▏| 3.7 MB 48.9 MB/s eta 0:00:01\r",
      "\u001b[K     |███████████████████████████████▏| 3.7 MB 48.9 MB/s eta 0:00:01\r",
      "\u001b[K     |███████████████████████████████▎| 3.7 MB 48.9 MB/s eta 0:00:01\r",
      "\u001b[K     |███████████████████████████████▍| 3.8 MB 48.9 MB/s eta 0:00:01\r",
      "\u001b[K     |███████████████████████████████▌| 3.8 MB 48.9 MB/s eta 0:00:01\r",
      "\u001b[K     |███████████████████████████████▌| 3.8 MB 48.9 MB/s eta 0:00:01\r",
      "\u001b[K     |███████████████████████████████▋| 3.8 MB 48.9 MB/s eta 0:00:01\r",
      "\u001b[K     |███████████████████████████████▊| 3.8 MB 48.9 MB/s eta 0:00:01\r",
      "\u001b[K     |███████████████████████████████▉| 3.8 MB 48.9 MB/s eta 0:00:01\r",
      "\u001b[K     |███████████████████████████████▉| 3.8 MB 48.9 MB/s eta 0:00:01\r",
      "\u001b[K     |████████████████████████████████| 3.8 MB 48.9 MB/s eta 0:00:01\r",
      "\u001b[K     |████████████████████████████████| 3.8 MB 48.9 MB/s \r\n",
      "\u001b[?25h"
     ]
    },
    {
     "name": "stdout",
     "output_type": "stream",
     "text": [
      "Requirement already satisfied: colorama<0.4.4,>=0.2.5 in /usr/local/lib/python3.7/site-packages (from awscli) (0.4.3)\r\n",
      "Requirement already satisfied: PyYAML<5.5,>=3.10 in /usr/local/lib/python3.7/site-packages (from awscli) (5.3.1)\r\n",
      "Requirement already satisfied: docutils<0.16,>=0.10 in /usr/local/lib/python3.7/site-packages (from awscli) (0.15.2)\r\n",
      "Requirement already satisfied: rsa<4.8,>=3.1.2 in /usr/local/lib/python3.7/site-packages (from awscli) (4.5)\r\n",
      "Requirement already satisfied: s3transfer<0.6.0,>=0.5.0 in /usr/local/lib/python3.7/site-packages (from awscli) (0.5.1)\r\n"
     ]
    },
    {
     "name": "stdout",
     "output_type": "stream",
     "text": [
      "Requirement already satisfied: python-dateutil<3.0.0,>=2.1 in /usr/local/lib/python3.7/site-packages (from botocore) (2.8.1)\r\n",
      "Requirement already satisfied: jmespath<2.0.0,>=0.7.1 in /usr/local/lib/python3.7/site-packages (from botocore) (0.10.0)\r\n",
      "Requirement already satisfied: urllib3<1.27,>=1.25.4 in /usr/local/lib/python3.7/site-packages (from botocore) (1.25.11)\r\n",
      "Requirement already satisfied: six>=1.5 in /usr/local/lib/python3.7/site-packages (from python-dateutil<3.0.0,>=2.1->botocore) (1.15.0)\r\n",
      "Requirement already satisfied: pyasn1>=0.1.3 in /usr/local/lib/python3.7/site-packages (from rsa<4.8,>=3.1.2->awscli) (0.4.8)\r\n"
     ]
    },
    {
     "name": "stdout",
     "output_type": "stream",
     "text": [
      "Requirement already satisfied: attrs==20.3.0 in /usr/local/lib/python3.7/site-packages (from sagemaker) (20.3.0)\r\n"
     ]
    },
    {
     "name": "stdout",
     "output_type": "stream",
     "text": [
      "Requirement already satisfied: google-pasta in /usr/local/lib/python3.7/site-packages (from sagemaker) (0.2.0)\r\n",
      "Requirement already satisfied: numpy>=1.9.0 in /usr/local/lib/python3.7/site-packages (from sagemaker) (1.18.5)\r\n",
      "Requirement already satisfied: protobuf>=3.1 in /usr/local/lib/python3.7/site-packages (from sagemaker) (3.14.0)\r\n",
      "Requirement already satisfied: protobuf3-to-dict>=0.1.5 in /usr/local/lib/python3.7/site-packages (from sagemaker) (0.1.5)\r\n",
      "Requirement already satisfied: smdebug_rulesconfig==1.0.1 in /usr/local/lib/python3.7/site-packages (from sagemaker) (1.0.1)\r\n",
      "Requirement already satisfied: importlib-metadata>=1.4.0 in /usr/local/lib/python3.7/site-packages (from sagemaker) (3.4.0)\r\n",
      "Requirement already satisfied: packaging>=20.0 in /usr/local/lib/python3.7/site-packages (from sagemaker) (20.9)\r\n",
      "Requirement already satisfied: pandas in /usr/local/lib/python3.7/site-packages (from sagemaker) (0.24.2)\r\n",
      "Requirement already satisfied: pathos in /usr/local/lib/python3.7/site-packages (from sagemaker) (0.2.8)\r\n"
     ]
    },
    {
     "name": "stdout",
     "output_type": "stream",
     "text": [
      "Requirement already satisfied: zipp>=0.5 in /usr/local/lib/python3.7/site-packages (from importlib-metadata>=1.4.0->sagemaker) (3.4.0)\r\n",
      "Requirement already satisfied: typing-extensions>=3.6.4 in /usr/local/lib/python3.7/site-packages (from importlib-metadata>=1.4.0->sagemaker) (3.7.4.3)\r\n",
      "Requirement already satisfied: pyparsing>=2.0.2 in /usr/local/lib/python3.7/site-packages (from packaging>=20.0->sagemaker) (2.4.7)\r\n"
     ]
    },
    {
     "name": "stdout",
     "output_type": "stream",
     "text": [
      "Requirement already satisfied: pytz>=2011k in /usr/local/lib/python3.7/site-packages (from pandas->sagemaker) (2021.1)\r\n",
      "Requirement already satisfied: multiprocess>=0.70.12 in /usr/local/lib/python3.7/site-packages (from pathos->sagemaker) (0.70.12.2)\r\n",
      "Requirement already satisfied: pox>=0.3.0 in /usr/local/lib/python3.7/site-packages (from pathos->sagemaker) (0.3.0)\r\n",
      "Requirement already satisfied: ppft>=1.6.6.4 in /usr/local/lib/python3.7/site-packages (from pathos->sagemaker) (1.6.6.4)\r\n",
      "Requirement already satisfied: dill>=0.3.4 in /usr/local/lib/python3.7/site-packages (from pathos->sagemaker) (0.3.4)\r\n",
      "Building wheels for collected packages: sagemaker\r\n",
      "  Building wheel for sagemaker (setup.py) ... \u001b[?25l"
     ]
    },
    {
     "name": "stdout",
     "output_type": "stream",
     "text": [
      "-"
     ]
    },
    {
     "name": "stdout",
     "output_type": "stream",
     "text": [
      "\b \b\\"
     ]
    },
    {
     "name": "stdout",
     "output_type": "stream",
     "text": [
      "\b \b|\b \bdone\r\n",
      "\u001b[?25h  Created wheel for sagemaker: filename=sagemaker-2.80.0-py2.py3-none-any.whl size=716377 sha256=88a1de14dfe99336435b0ad92716cbf281d519f94305ec420149451c3cda3554\r\n",
      "  Stored in directory: /root/.cache/pip/wheels/b9/1f/23/a7c818b46ba5d43c94faf5e19b177962152f4d939a91ab220d\r\n"
     ]
    },
    {
     "name": "stdout",
     "output_type": "stream",
     "text": [
      "Successfully built sagemaker\r\n"
     ]
    },
    {
     "name": "stdout",
     "output_type": "stream",
     "text": [
      "Installing collected packages: botocore, boto3, sagemaker, awscli\r\n",
      "  Attempting uninstall: botocore\r\n",
      "    Found existing installation: botocore 1.23.7\r\n"
     ]
    },
    {
     "name": "stdout",
     "output_type": "stream",
     "text": [
      "    Uninstalling botocore-1.23.7:\r\n",
      "      Successfully uninstalled botocore-1.23.7\r\n"
     ]
    },
    {
     "name": "stdout",
     "output_type": "stream",
     "text": [
      "  Attempting uninstall: boto3\r\n",
      "    Found existing installation: boto3 1.20.7\r\n",
      "    Uninstalling boto3-1.20.7:\r\n",
      "      Successfully uninstalled boto3-1.20.7\r\n"
     ]
    },
    {
     "name": "stdout",
     "output_type": "stream",
     "text": [
      "  Attempting uninstall: sagemaker\r\n",
      "    Found existing installation: sagemaker 2.69.1.dev0\r\n"
     ]
    },
    {
     "name": "stdout",
     "output_type": "stream",
     "text": [
      "    Uninstalling sagemaker-2.69.1.dev0:\r\n",
      "      Successfully uninstalled sagemaker-2.69.1.dev0\r\n"
     ]
    },
    {
     "name": "stdout",
     "output_type": "stream",
     "text": [
      "  Attempting uninstall: awscli\r\n",
      "    Found existing installation: awscli 1.22.7\r\n"
     ]
    },
    {
     "name": "stdout",
     "output_type": "stream",
     "text": [
      "    Uninstalling awscli-1.22.7:\r\n"
     ]
    },
    {
     "name": "stdout",
     "output_type": "stream",
     "text": [
      "      Successfully uninstalled awscli-1.22.7\r\n"
     ]
    },
    {
     "name": "stdout",
     "output_type": "stream",
     "text": [
      "Successfully installed awscli-1.22.79 boto3-1.21.24 botocore-1.24.24 sagemaker-2.80.0\r\n"
     ]
    },
    {
     "name": "stdout",
     "output_type": "stream",
     "text": [
      "\u001b[33mWARNING: You are using pip version 21.0.1; however, version 22.0.4 is available.\r\n",
      "You should consider upgrading via the '/usr/local/bin/python3.7 -m pip install --upgrade pip' command.\u001b[0m\r\n"
     ]
    }
   ],
   "source": [
    "# Fallback in case wheels are unavailable\n",
    "! pip install sagemaker botocore boto3 awscli --upgrade"
   ]
  },
  {
   "cell_type": "code",
   "execution_count": 3,
   "id": "05dd9cb4",
   "metadata": {
    "execution": {
     "iopub.execute_input": "2022-03-23T18:52:29.158865Z",
     "iopub.status.busy": "2022-03-23T18:52:29.157008Z",
     "iopub.status.idle": "2022-03-23T18:53:06.432409Z",
     "shell.execute_reply": "2022-03-23T18:53:06.432823Z"
    },
    "papermill": {
     "duration": 37.324697,
     "end_time": "2022-03-23T18:53:06.433001",
     "exception": false,
     "start_time": "2022-03-23T18:52:29.108304",
     "status": "completed"
    },
    "tags": []
   },
   "outputs": [
    {
     "name": "stdout",
     "output_type": "stream",
     "text": [
      "Path is s3://reinvent21-sm-rc-wheels/boto3/botocore.tar.gz\n",
      "aws s3 ls s3://reinvent21-sm-rc-wheels/boto3/botocore.tar.gz\n"
     ]
    },
    {
     "name": "stdout",
     "output_type": "stream",
     "text": [
      "(0, '2021-11-21 00:00:13    8392784 botocore.tar.gz')\n",
      "Downloading:  aws s3 cp s3://reinvent21-sm-rc-wheels/boto3/botocore.tar.gz /tmp/\n",
      "aws s3 cp s3://reinvent21-sm-rc-wheels/boto3/botocore.tar.gz /tmp/\n"
     ]
    },
    {
     "name": "stdout",
     "output_type": "stream",
     "text": [
      "pip install --no-deps --log /tmp/output3.log /tmp/botocore.tar.gz --force-reinstall\n"
     ]
    },
    {
     "name": "stdout",
     "output_type": "stream",
     "text": [
      "python -c 'import botocore; print(botocore.__version__)'\n",
      "python -c 'import botocore; print(botocore.__version__)'\n",
      "(0, '1.23.7')\n",
      "python -c 'import sagemaker; print(sagemaker.__version__)'\n"
     ]
    },
    {
     "name": "stdout",
     "output_type": "stream",
     "text": [
      "(0, '2.80.0')\n",
      "python -c 'import boto3; print(boto3.__version__)'\n",
      "(0, '1.21.24')\n",
      "python -c 'import awscli; print(awscli.__version__)'\n",
      "(0, '1.22.79')\n",
      "Installed botocore:1.23.7\n",
      "Path is s3://reinvent21-sm-rc-wheels/boto3/boto3.tar.gz\n",
      "aws s3 ls s3://reinvent21-sm-rc-wheels/boto3/boto3.tar.gz\n"
     ]
    },
    {
     "name": "stdout",
     "output_type": "stream",
     "text": [
      "(0, '2021-11-20 23:59:52     103300 boto3.tar.gz')\n",
      "Downloading:  aws s3 cp s3://reinvent21-sm-rc-wheels/boto3/boto3.tar.gz /tmp/\n",
      "aws s3 cp s3://reinvent21-sm-rc-wheels/boto3/boto3.tar.gz /tmp/\n"
     ]
    },
    {
     "name": "stdout",
     "output_type": "stream",
     "text": [
      "pip install --no-deps --log /tmp/output3.log /tmp/boto3.tar.gz --force-reinstall\n"
     ]
    },
    {
     "name": "stdout",
     "output_type": "stream",
     "text": [
      "python -c 'import boto3; print(boto3.__version__)'\n",
      "python -c 'import botocore; print(botocore.__version__)'\n",
      "(0, '1.23.7')\n",
      "python -c 'import sagemaker; print(sagemaker.__version__)'\n"
     ]
    },
    {
     "name": "stdout",
     "output_type": "stream",
     "text": [
      "(0, '2.80.0')\n",
      "python -c 'import boto3; print(boto3.__version__)'\n",
      "(0, '1.20.7')\n",
      "python -c 'import awscli; print(awscli.__version__)'\n",
      "(0, '1.22.79')\n",
      "Installed boto3:1.20.7\n",
      "Path is s3://reinvent21-sm-rc-wheels/boto3/awscli.tar.gz\n",
      "aws s3 ls s3://reinvent21-sm-rc-wheels/boto3/awscli.tar.gz\n"
     ]
    },
    {
     "name": "stdout",
     "output_type": "stream",
     "text": [
      "(0, '2021-11-20 23:59:43    1537951 awscli.tar.gz')\n",
      "Downloading:  aws s3 cp s3://reinvent21-sm-rc-wheels/boto3/awscli.tar.gz /tmp/\n",
      "aws s3 cp s3://reinvent21-sm-rc-wheels/boto3/awscli.tar.gz /tmp/\n"
     ]
    },
    {
     "name": "stdout",
     "output_type": "stream",
     "text": [
      "pip install --no-deps --log /tmp/output3.log /tmp/awscli.tar.gz --force-reinstall\n"
     ]
    },
    {
     "name": "stdout",
     "output_type": "stream",
     "text": [
      "python -c 'import awscli; print(awscli.__version__)'\n",
      "python -c 'import botocore; print(botocore.__version__)'\n",
      "(0, '1.23.7')\n",
      "python -c 'import sagemaker; print(sagemaker.__version__)'\n"
     ]
    },
    {
     "name": "stdout",
     "output_type": "stream",
     "text": [
      "(0, '2.80.0')\n",
      "python -c 'import boto3; print(boto3.__version__)'\n",
      "(0, '1.20.7')\n",
      "python -c 'import awscli; print(awscli.__version__)'\n",
      "(0, '1.22.7')\n",
      "Installed awscli:1.22.7\n",
      "Path is s3://reinvent21-sm-rc-wheels/dist/sagemaker.tar.gz\n",
      "aws s3 ls s3://reinvent21-sm-rc-wheels/dist/sagemaker.tar.gz\n"
     ]
    },
    {
     "name": "stdout",
     "output_type": "stream",
     "text": [
      "(0, '2021-11-20 23:59:27     471448 sagemaker.tar.gz')\n",
      "Downloading:  aws s3 cp s3://reinvent21-sm-rc-wheels/dist/sagemaker.tar.gz /tmp/\n",
      "aws s3 cp s3://reinvent21-sm-rc-wheels/dist/sagemaker.tar.gz /tmp/\n"
     ]
    },
    {
     "name": "stdout",
     "output_type": "stream",
     "text": [
      "pip install --no-deps --log /tmp/output3.log /tmp/sagemaker.tar.gz --force-reinstall\n"
     ]
    },
    {
     "name": "stdout",
     "output_type": "stream",
     "text": [
      "python -c 'import sagemaker; print(sagemaker.__version__)'\n"
     ]
    },
    {
     "name": "stdout",
     "output_type": "stream",
     "text": [
      "python -c 'import botocore; print(botocore.__version__)'\n",
      "(0, '1.23.7')\n",
      "python -c 'import sagemaker; print(sagemaker.__version__)'\n"
     ]
    },
    {
     "name": "stdout",
     "output_type": "stream",
     "text": [
      "(0, '2.69.1.dev0')\n",
      "python -c 'import boto3; print(boto3.__version__)'\n",
      "(0, '1.20.7')\n",
      "python -c 'import awscli; print(awscli.__version__)'\n",
      "(0, '1.22.7')\n",
      "Installed sagemaker:2.69.1.dev0\n"
     ]
    }
   ],
   "source": [
    "import subprocess\n",
    "\n",
    "\n",
    "def execute_cmd(cmd):\n",
    "    print(cmd)\n",
    "    output = subprocess.getstatusoutput(cmd)\n",
    "    return output\n",
    "\n",
    "\n",
    "def _download_from_s3(_file_path):\n",
    "    _path = f\"s3://reinvent21-sm-rc-wheels/{_file_path}\"\n",
    "    print(f\"Path is {_path}\")\n",
    "    ls_cmd = f\"aws s3 ls {_path}\"\n",
    "    print(execute_cmd(ls_cmd))\n",
    "\n",
    "    cmd = f\"aws s3 cp {_path} /tmp/\"\n",
    "    print(\"Downloading: \", cmd)\n",
    "    return execute_cmd(cmd)\n",
    "\n",
    "\n",
    "def _install_wheel(wheel_name):\n",
    "    cmd = f\"pip install --no-deps --log /tmp/output3.log /tmp/{wheel_name} --force-reinstall\"\n",
    "\n",
    "    ret = execute_cmd(cmd)\n",
    "\n",
    "    _name = wheel_name.split(\".\")[0]\n",
    "    _, _version = execute_cmd(f\"python -c 'import {_name}; print({_name}.__version__)'\")\n",
    "\n",
    "    for package in [\"botocore\", \"sagemaker\", \"boto3\", \"awscli\"]:\n",
    "        print(execute_cmd(f\"python -c 'import {package}; print({package}.__version__)'\"))\n",
    "\n",
    "    print(f\"Installed {_name}:{_version}\")\n",
    "\n",
    "    return ret\n",
    "\n",
    "\n",
    "def install_sm_py_sdk():\n",
    "    pySDK_name = \"sagemaker.tar.gz\"\n",
    "\n",
    "    exit_code, _ = _download_from_s3(\"dist/sagemaker.tar.gz\")\n",
    "\n",
    "    if not exit_code:\n",
    "        _install_wheel(pySDK_name)\n",
    "    else:\n",
    "        print(f\"'{pySDK_name}' is not present in S3 Bucket. Installing from public PyPi...\")\n",
    "        execute_cmd(\"pip install sagemaker\")\n",
    "\n",
    "\n",
    "def install_boto_wheels():\n",
    "    WHEELS = [\"botocore.tar.gz\", \"boto3.tar.gz\", \"awscli.tar.gz\"]\n",
    "\n",
    "    for wheel_name in WHEELS:\n",
    "        _path = f\"boto3/{wheel_name}\"\n",
    "        exit_code, _ = _download_from_s3(_path)\n",
    "\n",
    "        if not exit_code:\n",
    "            _install_wheel(wheel_name)\n",
    "        else:\n",
    "            print(f\"'{wheel_name}' is not present in S3 Bucket. Ignoring...\")\n",
    "\n",
    "\n",
    "install_boto_wheels()\n",
    "install_sm_py_sdk()"
   ]
  },
  {
   "cell_type": "code",
   "execution_count": 4,
   "id": "ef3ac87c",
   "metadata": {
    "execution": {
     "iopub.execute_input": "2022-03-23T18:53:06.527041Z",
     "iopub.status.busy": "2022-03-23T18:53:06.526529Z",
     "iopub.status.idle": "2022-03-23T18:53:09.390644Z",
     "shell.execute_reply": "2022-03-23T18:53:09.391032Z"
    },
    "papermill": {
     "duration": 2.913158,
     "end_time": "2022-03-23T18:53:09.391179",
     "exception": false,
     "start_time": "2022-03-23T18:53:06.478021",
     "status": "completed"
    },
    "tags": []
   },
   "outputs": [
    {
     "name": "stdout",
     "output_type": "stream",
     "text": [
      "Requirement already satisfied: sagemaker-experiments in /usr/local/lib/python3.7/site-packages (0.1.28)\r\n"
     ]
    },
    {
     "name": "stdout",
     "output_type": "stream",
     "text": [
      "Collecting pyvis\r\n"
     ]
    },
    {
     "name": "stdout",
     "output_type": "stream",
     "text": [
      "  Downloading pyvis-0.1.9-py3-none-any.whl (23 kB)\r\n",
      "Requirement already satisfied: jinja2>=2.9.6 in /usr/local/lib/python3.7/site-packages (from pyvis) (3.0.3)\r\n"
     ]
    },
    {
     "name": "stdout",
     "output_type": "stream",
     "text": [
      "Collecting jsonpickle>=1.4.1\r\n",
      "  Downloading jsonpickle-2.1.0-py2.py3-none-any.whl (38 kB)\r\n"
     ]
    },
    {
     "name": "stdout",
     "output_type": "stream",
     "text": [
      "Collecting networkx>=1.11\r\n",
      "  Downloading networkx-2.6.3-py3-none-any.whl (1.9 MB)\r\n",
      "\u001b[?25l\r",
      "\u001b[K     |▏                               | 10 kB 50.7 MB/s eta 0:00:01\r",
      "\u001b[K     |▍                               | 20 kB 57.3 MB/s eta 0:00:01\r",
      "\u001b[K     |▌                               | 30 kB 68.2 MB/s eta 0:00:01\r",
      "\u001b[K     |▊                               | 40 kB 69.0 MB/s eta 0:00:01\r",
      "\u001b[K     |▉                               | 51 kB 34.1 MB/s eta 0:00:01\r",
      "\u001b[K     |█                               | 61 kB 38.3 MB/s eta 0:00:01\r",
      "\u001b[K     |█▏                              | 71 kB 42.1 MB/s eta 0:00:01\r",
      "\u001b[K     |█▍                              | 81 kB 14.0 MB/s eta 0:00:01\r",
      "\u001b[K     |█▌                              | 92 kB 15.4 MB/s eta 0:00:01\r",
      "\u001b[K     |█▊                              | 102 kB 16.8 MB/s eta 0:00:01\r",
      "\u001b[K     |█▉                              | 112 kB 16.8 MB/s eta 0:00:01\r",
      "\u001b[K     |██                              | 122 kB 16.8 MB/s eta 0:00:01\r",
      "\u001b[K     |██▏                             | 133 kB 16.8 MB/s eta 0:00:01\r",
      "\u001b[K     |██▍                             | 143 kB 16.8 MB/s eta 0:00:01\r",
      "\u001b[K     |██▌                             | 153 kB 16.8 MB/s eta 0:00:01\r",
      "\u001b[K     |██▊                             | 163 kB 16.8 MB/s eta 0:00:01\r",
      "\u001b[K     |███                             | 174 kB 16.8 MB/s eta 0:00:01\r",
      "\u001b[K     |███                             | 184 kB 16.8 MB/s eta 0:00:01\r",
      "\u001b[K     |███▎                            | 194 kB 16.8 MB/s eta 0:00:01\r",
      "\u001b[K     |███▍                            | 204 kB 16.8 MB/s eta 0:00:01\r",
      "\u001b[K     |███▋                            | 215 kB 16.8 MB/s eta 0:00:01\r",
      "\u001b[K     |███▊                            | 225 kB 16.8 MB/s eta 0:00:01\r",
      "\u001b[K     |████                            | 235 kB 16.8 MB/s eta 0:00:01\r",
      "\u001b[K     |████                            | 245 kB 16.8 MB/s eta 0:00:01\r",
      "\u001b[K     |████▎                           | 256 kB 16.8 MB/s eta 0:00:01\r",
      "\u001b[K     |████▍                           | 266 kB 16.8 MB/s eta 0:00:01\r",
      "\u001b[K     |████▋                           | 276 kB 16.8 MB/s eta 0:00:01\r",
      "\u001b[K     |████▊                           | 286 kB 16.8 MB/s eta 0:00:01\r",
      "\u001b[K     |█████                           | 296 kB 16.8 MB/s eta 0:00:01\r",
      "\u001b[K     |█████                           | 307 kB 16.8 MB/s eta 0:00:01\r",
      "\u001b[K     |█████▎                          | 317 kB 16.8 MB/s eta 0:00:01\r",
      "\u001b[K     |█████▍                          | 327 kB 16.8 MB/s eta 0:00:01\r",
      "\u001b[K     |█████▋                          | 337 kB 16.8 MB/s eta 0:00:01\r",
      "\u001b[K     |█████▉                          | 348 kB 16.8 MB/s eta 0:00:01\r",
      "\u001b[K     |██████                          | 358 kB 16.8 MB/s eta 0:00:01\r",
      "\u001b[K     |██████▏                         | 368 kB 16.8 MB/s eta 0:00:01\r",
      "\u001b[K     |██████▎                         | 378 kB 16.8 MB/s eta 0:00:01\r",
      "\u001b[K     |██████▌                         | 389 kB 16.8 MB/s eta 0:00:01\r",
      "\u001b[K     |██████▋                         | 399 kB 16.8 MB/s eta 0:00:01\r",
      "\u001b[K     |██████▉                         | 409 kB 16.8 MB/s eta 0:00:01\r",
      "\u001b[K     |███████                         | 419 kB 16.8 MB/s eta 0:00:01\r",
      "\u001b[K     |███████▏                        | 430 kB 16.8 MB/s eta 0:00:01\r",
      "\u001b[K     |███████▎                        | 440 kB 16.8 MB/s eta 0:00:01\r",
      "\u001b[K     |███████▌                        | 450 kB 16.8 MB/s eta 0:00:01\r",
      "\u001b[K     |███████▋                        | 460 kB 16.8 MB/s eta 0:00:01\r",
      "\u001b[K     |███████▉                        | 471 kB 16.8 MB/s eta 0:00:01\r",
      "\u001b[K     |████████                        | 481 kB 16.8 MB/s eta 0:00:01\r",
      "\u001b[K     |████████▏                       | 491 kB 16.8 MB/s eta 0:00:01\r",
      "\u001b[K     |████████▎                       | 501 kB 16.8 MB/s eta 0:00:01\r",
      "\u001b[K     |████████▌                       | 512 kB 16.8 MB/s eta 0:00:01\r",
      "\u001b[K     |████████▊                       | 522 kB 16.8 MB/s eta 0:00:01\r",
      "\u001b[K     |████████▉                       | 532 kB 16.8 MB/s eta 0:00:01\r",
      "\u001b[K     |█████████                       | 542 kB 16.8 MB/s eta 0:00:01\r",
      "\u001b[K     |█████████▏                      | 552 kB 16.8 MB/s eta 0:00:01\r",
      "\u001b[K     |█████████▍                      | 563 kB 16.8 MB/s eta 0:00:01\r",
      "\u001b[K     |█████████▌                      | 573 kB 16.8 MB/s eta 0:00:01\r",
      "\u001b[K     |█████████▊                      | 583 kB 16.8 MB/s eta 0:00:01\r",
      "\u001b[K     |█████████▉                      | 593 kB 16.8 MB/s eta 0:00:01\r",
      "\u001b[K     |██████████                      | 604 kB 16.8 MB/s eta 0:00:01\r",
      "\u001b[K     |██████████▏                     | 614 kB 16.8 MB/s eta 0:00:01\r",
      "\u001b[K     |██████████▍                     | 624 kB 16.8 MB/s eta 0:00:01\r",
      "\u001b[K     |██████████▌                     | 634 kB 16.8 MB/s eta 0:00:01\r",
      "\u001b[K     |██████████▊                     | 645 kB 16.8 MB/s eta 0:00:01\r",
      "\u001b[K     |██████████▉                     | 655 kB 16.8 MB/s eta 0:00:01\r",
      "\u001b[K     |███████████                     | 665 kB 16.8 MB/s eta 0:00:01\r",
      "\u001b[K     |███████████▏                    | 675 kB 16.8 MB/s eta 0:00:01\r",
      "\u001b[K     |███████████▍                    | 686 kB 16.8 MB/s eta 0:00:01\r",
      "\u001b[K     |███████████▋                    | 696 kB 16.8 MB/s eta 0:00:01\r",
      "\u001b[K     |███████████▊                    | 706 kB 16.8 MB/s eta 0:00:01\r",
      "\u001b[K     |████████████                    | 716 kB 16.8 MB/s eta 0:00:01\r",
      "\u001b[K     |████████████                    | 727 kB 16.8 MB/s eta 0:00:01\r",
      "\u001b[K     |████████████▎                   | 737 kB 16.8 MB/s eta 0:00:01\r",
      "\u001b[K     |████████████▍                   | 747 kB 16.8 MB/s eta 0:00:01\r",
      "\u001b[K     |████████████▋                   | 757 kB 16.8 MB/s eta 0:00:01\r",
      "\u001b[K     |████████████▊                   | 768 kB 16.8 MB/s eta 0:00:01\r",
      "\u001b[K     |█████████████                   | 778 kB 16.8 MB/s eta 0:00:01\r",
      "\u001b[K     |█████████████                   | 788 kB 16.8 MB/s eta 0:00:01\r",
      "\u001b[K     |█████████████▎                  | 798 kB 16.8 MB/s eta 0:00:01\r",
      "\u001b[K     |█████████████▍                  | 808 kB 16.8 MB/s eta 0:00:01\r",
      "\u001b[K     |█████████████▋                  | 819 kB 16.8 MB/s eta 0:00:01\r",
      "\u001b[K     |█████████████▊                  | 829 kB 16.8 MB/s eta 0:00:01\r",
      "\u001b[K     |██████████████                  | 839 kB 16.8 MB/s eta 0:00:01\r",
      "\u001b[K     |██████████████▏                 | 849 kB 16.8 MB/s eta 0:00:01\r",
      "\u001b[K     |██████████████▎                 | 860 kB 16.8 MB/s eta 0:00:01\r",
      "\u001b[K     |██████████████▌                 | 870 kB 16.8 MB/s eta 0:00:01\r",
      "\u001b[K     |██████████████▋                 | 880 kB 16.8 MB/s eta 0:00:01\r",
      "\u001b[K     |██████████████▉                 | 890 kB 16.8 MB/s eta 0:00:01\r",
      "\u001b[K     |███████████████                 | 901 kB 16.8 MB/s eta 0:00:01\r",
      "\u001b[K     |███████████████▏                | 911 kB 16.8 MB/s eta 0:00:01\r",
      "\u001b[K     |███████████████▎                | 921 kB 16.8 MB/s eta 0:00:01\r",
      "\u001b[K     |███████████████▌                | 931 kB 16.8 MB/s eta 0:00:01\r",
      "\u001b[K     |███████████████▋                | 942 kB 16.8 MB/s eta 0:00:01\r",
      "\u001b[K     |███████████████▉                | 952 kB 16.8 MB/s eta 0:00:01\r",
      "\u001b[K     |████████████████                | 962 kB 16.8 MB/s eta 0:00:01\r",
      "\u001b[K     |████████████████▏               | 972 kB 16.8 MB/s eta 0:00:01\r",
      "\u001b[K     |████████████████▎               | 983 kB 16.8 MB/s eta 0:00:01\r",
      "\u001b[K     |████████████████▌               | 993 kB 16.8 MB/s eta 0:00:01\r",
      "\u001b[K     |████████████████▋               | 1.0 MB 16.8 MB/s eta 0:00:01\r",
      "\u001b[K     |████████████████▉               | 1.0 MB 16.8 MB/s eta 0:00:01\r",
      "\u001b[K     |█████████████████               | 1.0 MB 16.8 MB/s eta 0:00:01\r",
      "\u001b[K     |█████████████████▏              | 1.0 MB 16.8 MB/s eta 0:00:01\r",
      "\u001b[K     |█████████████████▍              | 1.0 MB 16.8 MB/s eta 0:00:01\r",
      "\u001b[K     |█████████████████▌              | 1.1 MB 16.8 MB/s eta 0:00:01\r",
      "\u001b[K     |█████████████████▊              | 1.1 MB 16.8 MB/s eta 0:00:01\r",
      "\u001b[K     |█████████████████▉              | 1.1 MB 16.8 MB/s eta 0:00:01\r",
      "\u001b[K     |██████████████████              | 1.1 MB 16.8 MB/s eta 0:00:01\r",
      "\u001b[K     |██████████████████▏             | 1.1 MB 16.8 MB/s eta 0:00:01\r",
      "\u001b[K     |██████████████████▍             | 1.1 MB 16.8 MB/s eta 0:00:01\r",
      "\u001b[K     |██████████████████▌             | 1.1 MB 16.8 MB/s eta 0:00:01\r",
      "\u001b[K     |██████████████████▊             | 1.1 MB 16.8 MB/s eta 0:00:01\r",
      "\u001b[K     |██████████████████▉             | 1.1 MB 16.8 MB/s eta 0:00:01\r",
      "\u001b[K     |███████████████████             | 1.1 MB 16.8 MB/s eta 0:00:01\r",
      "\u001b[K     |███████████████████▏            | 1.2 MB 16.8 MB/s eta 0:00:01\r",
      "\u001b[K     |███████████████████▍            | 1.2 MB 16.8 MB/s eta 0:00:01\r",
      "\u001b[K     |███████████████████▌            | 1.2 MB 16.8 MB/s eta 0:00:01\r",
      "\u001b[K     |███████████████████▊            | 1.2 MB 16.8 MB/s eta 0:00:01\r",
      "\u001b[K     |████████████████████            | 1.2 MB 16.8 MB/s eta 0:00:01\r",
      "\u001b[K     |████████████████████            | 1.2 MB 16.8 MB/s eta 0:00:01\r",
      "\u001b[K     |████████████████████▎           | 1.2 MB 16.8 MB/s eta 0:00:01\r",
      "\u001b[K     |████████████████████▍           | 1.2 MB 16.8 MB/s eta 0:00:01\r",
      "\u001b[K     |████████████████████▋           | 1.2 MB 16.8 MB/s eta 0:00:01\r",
      "\u001b[K     |████████████████████▊           | 1.2 MB 16.8 MB/s eta 0:00:01\r",
      "\u001b[K     |█████████████████████           | 1.3 MB 16.8 MB/s eta 0:00:01\r",
      "\u001b[K     |█████████████████████           | 1.3 MB 16.8 MB/s eta 0:00:01\r",
      "\u001b[K     |█████████████████████▎          | 1.3 MB 16.8 MB/s eta 0:00:01\r",
      "\u001b[K     |█████████████████████▍          | 1.3 MB 16.8 MB/s eta 0:00:01\r",
      "\u001b[K     |█████████████████████▋          | 1.3 MB 16.8 MB/s eta 0:00:01\r",
      "\u001b[K     |█████████████████████▊          | 1.3 MB 16.8 MB/s eta 0:00:01\r",
      "\u001b[K     |██████████████████████          | 1.3 MB 16.8 MB/s eta 0:00:01\r",
      "\u001b[K     |██████████████████████          | 1.3 MB 16.8 MB/s eta 0:00:01\r",
      "\u001b[K     |██████████████████████▎         | 1.3 MB 16.8 MB/s eta 0:00:01\r",
      "\u001b[K     |██████████████████████▍         | 1.4 MB 16.8 MB/s eta 0:00:01\r",
      "\u001b[K     |██████████████████████▋         | 1.4 MB 16.8 MB/s eta 0:00:01\r",
      "\u001b[K     |██████████████████████▉         | 1.4 MB 16.8 MB/s eta 0:00:01\r",
      "\u001b[K     |███████████████████████         | 1.4 MB 16.8 MB/s eta 0:00:01\r",
      "\u001b[K     |███████████████████████▏        | 1.4 MB 16.8 MB/s eta 0:00:01\r",
      "\u001b[K     |███████████████████████▎        | 1.4 MB 16.8 MB/s eta 0:00:01\r",
      "\u001b[K     |███████████████████████▌        | 1.4 MB 16.8 MB/s eta 0:00:01\r",
      "\u001b[K     |███████████████████████▋        | 1.4 MB 16.8 MB/s eta 0:00:01\r",
      "\u001b[K     |███████████████████████▉        | 1.4 MB 16.8 MB/s eta 0:00:01\r",
      "\u001b[K     |████████████████████████        | 1.4 MB 16.8 MB/s eta 0:00:01\r",
      "\u001b[K     |████████████████████████▏       | 1.5 MB 16.8 MB/s eta 0:00:01\r",
      "\u001b[K     |████████████████████████▎       | 1.5 MB 16.8 MB/s eta 0:00:01\r",
      "\u001b[K     |████████████████████████▌       | 1.5 MB 16.8 MB/s eta 0:00:01\r",
      "\u001b[K     |████████████████████████▋       | 1.5 MB 16.8 MB/s eta 0:00:01\r",
      "\u001b[K     |████████████████████████▉       | 1.5 MB 16.8 MB/s eta 0:00:01\r",
      "\u001b[K     |█████████████████████████       | 1.5 MB 16.8 MB/s eta 0:00:01\r",
      "\u001b[K     |█████████████████████████▏      | 1.5 MB 16.8 MB/s eta 0:00:01\r",
      "\u001b[K     |█████████████████████████▎      | 1.5 MB 16.8 MB/s eta 0:00:01\r",
      "\u001b[K     |█████████████████████████▌      | 1.5 MB 16.8 MB/s eta 0:00:01\r",
      "\u001b[K     |█████████████████████████▊      | 1.5 MB 16.8 MB/s eta 0:00:01\r",
      "\u001b[K     |█████████████████████████▉      | 1.6 MB 16.8 MB/s eta 0:00:01\r",
      "\u001b[K     |██████████████████████████      | 1.6 MB 16.8 MB/s eta 0:00:01\r",
      "\u001b[K     |██████████████████████████▏     | 1.6 MB 16.8 MB/s eta 0:00:01\r",
      "\u001b[K     |██████████████████████████▍     | 1.6 MB 16.8 MB/s eta 0:00:01\r",
      "\u001b[K     |██████████████████████████▌     | 1.6 MB 16.8 MB/s eta 0:00:01\r",
      "\u001b[K     |██████████████████████████▊     | 1.6 MB 16.8 MB/s eta 0:00:01\r",
      "\u001b[K     |██████████████████████████▉     | 1.6 MB 16.8 MB/s eta 0:00:01\r",
      "\u001b[K     |███████████████████████████     | 1.6 MB 16.8 MB/s eta 0:00:01\r",
      "\u001b[K     |███████████████████████████▏    | 1.6 MB 16.8 MB/s eta 0:00:01\r",
      "\u001b[K     |███████████████████████████▍    | 1.6 MB 16.8 MB/s eta 0:00:01\r",
      "\u001b[K     |███████████████████████████▌    | 1.7 MB 16.8 MB/s eta 0:00:01\r",
      "\u001b[K     |███████████████████████████▊    | 1.7 MB 16.8 MB/s eta 0:00:01\r",
      "\u001b[K     |███████████████████████████▉    | 1.7 MB 16.8 MB/s eta 0:00:01\r",
      "\u001b[K     |████████████████████████████    | 1.7 MB 16.8 MB/s eta 0:00:01\r",
      "\u001b[K     |████████████████████████████▎   | 1.7 MB 16.8 MB/s eta 0:00:01\r",
      "\u001b[K     |████████████████████████████▍   | 1.7 MB 16.8 MB/s eta 0:00:01\r",
      "\u001b[K     |████████████████████████████▋   | 1.7 MB 16.8 MB/s eta 0:00:01\r",
      "\u001b[K     |████████████████████████████▊   | 1.7 MB 16.8 MB/s eta 0:00:01\r",
      "\u001b[K     |█████████████████████████████   | 1.7 MB 16.8 MB/s eta 0:00:01\r",
      "\u001b[K     |█████████████████████████████   | 1.8 MB 16.8 MB/s eta 0:00:01\r",
      "\u001b[K     |█████████████████████████████▎  | 1.8 MB 16.8 MB/s eta 0:00:01\r",
      "\u001b[K     |█████████████████████████████▍  | 1.8 MB 16.8 MB/s eta 0:00:01\r",
      "\u001b[K     |█████████████████████████████▋  | 1.8 MB 16.8 MB/s eta 0:00:01\r",
      "\u001b[K     |█████████████████████████████▊  | 1.8 MB 16.8 MB/s eta 0:00:01\r",
      "\u001b[K     |██████████████████████████████  | 1.8 MB 16.8 MB/s eta 0:00:01\r",
      "\u001b[K     |██████████████████████████████  | 1.8 MB 16.8 MB/s eta 0:00:01\r",
      "\u001b[K     |██████████████████████████████▎ | 1.8 MB 16.8 MB/s eta 0:00:01\r",
      "\u001b[K     |██████████████████████████████▍ | 1.8 MB 16.8 MB/s eta 0:00:01\r",
      "\u001b[K     |██████████████████████████████▋ | 1.8 MB 16.8 MB/s eta 0:00:01\r",
      "\u001b[K     |██████████████████████████████▊ | 1.9 MB 16.8 MB/s eta 0:00:01\r",
      "\u001b[K     |███████████████████████████████ | 1.9 MB 16.8 MB/s eta 0:00:01\r",
      "\u001b[K     |███████████████████████████████▏| 1.9 MB 16.8 MB/s eta 0:00:01\r",
      "\u001b[K     |███████████████████████████████▎| 1.9 MB 16.8 MB/s eta 0:00:01\r",
      "\u001b[K     |███████████████████████████████▌| 1.9 MB 16.8 MB/s eta 0:00:01\r",
      "\u001b[K     |███████████████████████████████▋| 1.9 MB 16.8 MB/s eta 0:00:01\r",
      "\u001b[K     |███████████████████████████████▉| 1.9 MB 16.8 MB/s eta 0:00:01\r",
      "\u001b[K     |████████████████████████████████| 1.9 MB 16.8 MB/s eta 0:00:01"
     ]
    },
    {
     "name": "stdout",
     "output_type": "stream",
     "text": [
      "\r",
      "\u001b[K     |████████████████████████████████| 1.9 MB 16.8 MB/s \r\n",
      "\u001b[?25hRequirement already satisfied: ipython>=5.3.0 in /usr/local/lib/python3.7/site-packages (from pyvis) (7.31.1)\r\n"
     ]
    },
    {
     "name": "stdout",
     "output_type": "stream",
     "text": [
      "Requirement already satisfied: pickleshare in /usr/local/lib/python3.7/site-packages (from ipython>=5.3.0->pyvis) (0.7.5)\r\n",
      "Requirement already satisfied: prompt-toolkit!=3.0.0,!=3.0.1,<3.1.0,>=2.0.0 in /usr/local/lib/python3.7/site-packages (from ipython>=5.3.0->pyvis) (3.0.26)\r\n",
      "Requirement already satisfied: traitlets>=4.2 in /usr/local/lib/python3.7/site-packages (from ipython>=5.3.0->pyvis) (5.1.1)\r\n",
      "Requirement already satisfied: setuptools>=18.5 in /usr/local/lib/python3.7/site-packages (from ipython>=5.3.0->pyvis) (53.0.0)\r\n",
      "Requirement already satisfied: jedi>=0.16 in /usr/local/lib/python3.7/site-packages (from ipython>=5.3.0->pyvis) (0.18.1)\r\n",
      "Requirement already satisfied: pygments in /usr/local/lib/python3.7/site-packages (from ipython>=5.3.0->pyvis) (2.11.2)\r\n",
      "Requirement already satisfied: matplotlib-inline in /usr/local/lib/python3.7/site-packages (from ipython>=5.3.0->pyvis) (0.1.3)\r\n",
      "Requirement already satisfied: decorator in /usr/local/lib/python3.7/site-packages (from ipython>=5.3.0->pyvis) (5.1.1)\r\n",
      "Requirement already satisfied: pexpect>4.3 in /usr/local/lib/python3.7/site-packages (from ipython>=5.3.0->pyvis) (4.8.0)\r\n",
      "Requirement already satisfied: backcall in /usr/local/lib/python3.7/site-packages (from ipython>=5.3.0->pyvis) (0.2.0)\r\n",
      "Requirement already satisfied: parso<0.9.0,>=0.8.0 in /usr/local/lib/python3.7/site-packages (from jedi>=0.16->ipython>=5.3.0->pyvis) (0.8.3)\r\n",
      "Requirement already satisfied: MarkupSafe>=2.0 in /usr/local/lib/python3.7/site-packages (from jinja2>=2.9.6->pyvis) (2.0.1)\r\n"
     ]
    },
    {
     "name": "stdout",
     "output_type": "stream",
     "text": [
      "Requirement already satisfied: importlib-metadata in /usr/local/lib/python3.7/site-packages (from jsonpickle>=1.4.1->pyvis) (3.4.0)\r\n",
      "Requirement already satisfied: ptyprocess>=0.5 in /usr/local/lib/python3.7/site-packages (from pexpect>4.3->ipython>=5.3.0->pyvis) (0.7.0)\r\n",
      "Requirement already satisfied: wcwidth in /usr/local/lib/python3.7/site-packages (from prompt-toolkit!=3.0.0,!=3.0.1,<3.1.0,>=2.0.0->ipython>=5.3.0->pyvis) (0.2.5)\r\n",
      "Requirement already satisfied: boto3>=1.16.27 in /usr/local/lib/python3.7/site-packages (from sagemaker-experiments) (1.20.7)\r\n"
     ]
    },
    {
     "name": "stdout",
     "output_type": "stream",
     "text": [
      "Requirement already satisfied: jmespath<1.0.0,>=0.7.1 in /usr/local/lib/python3.7/site-packages (from boto3>=1.16.27->sagemaker-experiments) (0.10.0)\r\n",
      "Requirement already satisfied: s3transfer<0.6.0,>=0.5.0 in /usr/local/lib/python3.7/site-packages (from boto3>=1.16.27->sagemaker-experiments) (0.5.1)\r\n",
      "Requirement already satisfied: botocore<1.24.0,>=1.23.7 in /usr/local/lib/python3.7/site-packages (from boto3>=1.16.27->sagemaker-experiments) (1.23.7)\r\n",
      "Requirement already satisfied: urllib3<1.27,>=1.25.4 in /usr/local/lib/python3.7/site-packages (from botocore<1.24.0,>=1.23.7->boto3>=1.16.27->sagemaker-experiments) (1.25.11)\r\n",
      "Requirement already satisfied: python-dateutil<3.0.0,>=2.1 in /usr/local/lib/python3.7/site-packages (from botocore<1.24.0,>=1.23.7->boto3>=1.16.27->sagemaker-experiments) (2.8.1)\r\n",
      "Requirement already satisfied: six>=1.5 in /usr/local/lib/python3.7/site-packages (from python-dateutil<3.0.0,>=2.1->botocore<1.24.0,>=1.23.7->boto3>=1.16.27->sagemaker-experiments) (1.15.0)\r\n",
      "Requirement already satisfied: typing-extensions>=3.6.4 in /usr/local/lib/python3.7/site-packages (from importlib-metadata->jsonpickle>=1.4.1->pyvis) (3.7.4.3)\r\n",
      "Requirement already satisfied: zipp>=0.5 in /usr/local/lib/python3.7/site-packages (from importlib-metadata->jsonpickle>=1.4.1->pyvis) (3.4.0)\r\n"
     ]
    },
    {
     "name": "stdout",
     "output_type": "stream",
     "text": [
      "Installing collected packages: networkx, jsonpickle, pyvis\r\n"
     ]
    },
    {
     "name": "stdout",
     "output_type": "stream",
     "text": [
      "Successfully installed jsonpickle-2.1.0 networkx-2.6.3 pyvis-0.1.9\r\n",
      "\u001b[33mWARNING: You are using pip version 21.0.1; however, version 22.0.4 is available.\r\n",
      "You should consider upgrading via the '/usr/local/bin/python3.7 -m pip install --upgrade pip' command.\u001b[0m\r\n"
     ]
    }
   ],
   "source": [
    "!pip install sagemaker-experiments pyvis"
   ]
  },
  {
   "cell_type": "markdown",
   "id": "a046048c",
   "metadata": {
    "papermill": {
     "duration": 0.047777,
     "end_time": "2022-03-23T18:53:09.487341",
     "exception": false,
     "start_time": "2022-03-23T18:53:09.439564",
     "status": "completed"
    },
    "tags": []
   },
   "source": [
    "### Notebook Overview\n",
    "\n",
    "This notebook demonstrates how to use SageMaker Lineage APIs to query multi-hop relationships across the lineage graph. Multi-hop relationships are those that span beyond single entity relationships, e.g. Model -> Endpoint, Training Job -> Model. Multi-hop queries allow users to search for distant relationships across the Lineage Graph such as Endpoint -> Data Set.\n",
    "\n",
    "To demonstrate these capabilities, in this notebook we create a training job, register a model to the Model Registry, and deploy the model to an Endpoint. "
   ]
  },
  {
   "cell_type": "code",
   "execution_count": 5,
   "id": "05f6194b",
   "metadata": {
    "execution": {
     "iopub.execute_input": "2022-03-23T18:53:09.589432Z",
     "iopub.status.busy": "2022-03-23T18:53:09.588791Z",
     "iopub.status.idle": "2022-03-23T18:53:10.840506Z",
     "shell.execute_reply": "2022-03-23T18:53:10.840066Z"
    },
    "papermill": {
     "duration": 1.305134,
     "end_time": "2022-03-23T18:53:10.840621",
     "exception": false,
     "start_time": "2022-03-23T18:53:09.535487",
     "status": "completed"
    },
    "tags": []
   },
   "outputs": [
    {
     "name": "stderr",
     "output_type": "stream",
     "text": [
      "Couldn't call 'get_role' to get Role ARN from role name SageMakerRole to get Role path.\n"
     ]
    }
   ],
   "source": [
    "import os\n",
    "import boto3\n",
    "import sagemaker\n",
    "import pprint\n",
    "from botocore.config import Config\n",
    "\n",
    "config = Config(retries={\"max_attempts\": 50, \"mode\": \"adaptive\"})\n",
    "\n",
    "sagemaker_session = sagemaker.Session()\n",
    "sm_client = sagemaker_session.sagemaker_client\n",
    "\n",
    "region = sagemaker_session.boto_region_name\n",
    "\n",
    "default_bucket = sagemaker_session.default_bucket()\n",
    "role = sagemaker.get_execution_role()\n",
    "\n",
    "# Helper function to print query outputs\n",
    "pp = pprint.PrettyPrinter()"
   ]
  },
  {
   "cell_type": "code",
   "execution_count": 6,
   "id": "984b420d",
   "metadata": {
    "execution": {
     "iopub.execute_input": "2022-03-23T18:53:10.942713Z",
     "iopub.status.busy": "2022-03-23T18:53:10.942178Z",
     "iopub.status.idle": "2022-03-23T18:53:10.944549Z",
     "shell.execute_reply": "2022-03-23T18:53:10.944136Z"
    },
    "papermill": {
     "duration": 0.05501,
     "end_time": "2022-03-23T18:53:10.944649",
     "exception": false,
     "start_time": "2022-03-23T18:53:10.889639",
     "status": "completed"
    },
    "tags": []
   },
   "outputs": [],
   "source": [
    "from datetime import datetime\n",
    "\n",
    "training_instance_type = \"ml.m5.xlarge\"\n",
    "inference_instance_type = \"ml.m5.xlarge\"\n",
    "s3_prefix = \"multihop-example\"\n",
    "\n",
    "unique_id = str(datetime.now().timestamp()).split(\".\")[0]"
   ]
  },
  {
   "cell_type": "markdown",
   "id": "d59d66cf",
   "metadata": {
    "papermill": {
     "duration": 0.048447,
     "end_time": "2022-03-23T18:53:11.041676",
     "exception": false,
     "start_time": "2022-03-23T18:53:10.993229",
     "status": "completed"
    },
    "tags": []
   },
   "source": [
    "### Create an Experiment and Trial for a training job"
   ]
  },
  {
   "cell_type": "code",
   "execution_count": 7,
   "id": "f70de58e",
   "metadata": {
    "execution": {
     "iopub.execute_input": "2022-03-23T18:53:11.143677Z",
     "iopub.status.busy": "2022-03-23T18:53:11.143085Z",
     "iopub.status.idle": "2022-03-23T18:53:11.289645Z",
     "shell.execute_reply": "2022-03-23T18:53:11.289203Z"
    },
    "papermill": {
     "duration": 0.199576,
     "end_time": "2022-03-23T18:53:11.289755",
     "exception": false,
     "start_time": "2022-03-23T18:53:11.090179",
     "status": "completed"
    },
    "tags": []
   },
   "outputs": [
    {
     "name": "stdout",
     "output_type": "stream",
     "text": [
      "MultihopQueryExperiment-1648061590\n",
      "MultihopQueryTrial-1648061590\n"
     ]
    }
   ],
   "source": [
    "from smexperiments.experiment import Experiment\n",
    "from smexperiments.trial import Trial\n",
    "from smexperiments.trial_component import TrialComponent\n",
    "\n",
    "experiment_name = f\"MultihopQueryExperiment-{unique_id}\"\n",
    "exp = Experiment.create(experiment_name=experiment_name, sagemaker_boto_client=sm_client)\n",
    "\n",
    "trial = Trial.create(\n",
    "    experiment_name=exp.experiment_name,\n",
    "    trial_name=f\"MultihopQueryTrial-{unique_id}\",\n",
    "    sagemaker_boto_client=sm_client,\n",
    ")\n",
    "\n",
    "print(exp.experiment_name)\n",
    "print(trial.trial_name)"
   ]
  },
  {
   "cell_type": "markdown",
   "id": "6847ab32",
   "metadata": {
    "papermill": {
     "duration": 0.048859,
     "end_time": "2022-03-23T18:53:11.388107",
     "exception": false,
     "start_time": "2022-03-23T18:53:11.339248",
     "status": "completed"
    },
    "tags": []
   },
   "source": [
    "### Training Data\n",
    "\n",
    "Creating a `data/` directory to store the preprocessed [UCI Abalone](https://archive.ics.uci.edu/ml/datasets/abalone) dataset. The preprocessing is done using the preprocessing script defined in [this](https://github.com/aws/amazon-sagemaker-examples/blob/master/sagemaker-pipelines/tabular/abalone_build_train_deploy/sagemaker-pipelines-preprocess-train-evaluate-batch-transform.ipynb) notebook. Then training and validation data is uploaded to S3 so that it can be used in the training and inference job."
   ]
  },
  {
   "cell_type": "code",
   "execution_count": 8,
   "id": "440703d3",
   "metadata": {
    "execution": {
     "iopub.execute_input": "2022-03-23T18:53:11.496476Z",
     "iopub.status.busy": "2022-03-23T18:53:11.495832Z",
     "iopub.status.idle": "2022-03-23T18:53:11.498531Z",
     "shell.execute_reply": "2022-03-23T18:53:11.498937Z"
    },
    "papermill": {
     "duration": 0.0614,
     "end_time": "2022-03-23T18:53:11.499088",
     "exception": false,
     "start_time": "2022-03-23T18:53:11.437688",
     "status": "completed"
    },
    "tags": []
   },
   "outputs": [
    {
     "data": {
      "text/plain": [
       "'sagemaker-us-west-2-521695447989'"
      ]
     },
     "execution_count": 8,
     "metadata": {},
     "output_type": "execute_result"
    }
   ],
   "source": [
    "default_bucket"
   ]
  },
  {
   "cell_type": "code",
   "execution_count": 9,
   "id": "ba3364ff",
   "metadata": {
    "execution": {
     "iopub.execute_input": "2022-03-23T18:53:11.613543Z",
     "iopub.status.busy": "2022-03-23T18:53:11.612923Z",
     "iopub.status.idle": "2022-03-23T18:53:13.129609Z",
     "shell.execute_reply": "2022-03-23T18:53:13.130037Z"
    },
    "papermill": {
     "duration": 1.581484,
     "end_time": "2022-03-23T18:53:13.130179",
     "exception": false,
     "start_time": "2022-03-23T18:53:11.548695",
     "status": "completed"
    },
    "tags": []
   },
   "outputs": [
    {
     "name": "stdout",
     "output_type": "stream",
     "text": [
      "Directory Created \n"
     ]
    }
   ],
   "source": [
    "if not os.path.exists(\"./data/\"):\n",
    "    os.makedirs(\"./data/\")\n",
    "    print(\"Directory Created \")\n",
    "else:\n",
    "    print(\"Directory already exists\")\n",
    "\n",
    "# Download the processed abalone dataset files\n",
    "s3 = boto3.client(\"s3\")\n",
    "s3.download_file(\n",
    "    f\"sagemaker-sample-files\",\n",
    "    \"datasets/tabular/uci_abalone/preprocessed/test.csv\",\n",
    "    \"./data/test.csv\",\n",
    ")\n",
    "s3.download_file(\n",
    "    f\"sagemaker-sample-files\",\n",
    "    \"datasets/tabular/uci_abalone/preprocessed/train.csv\",\n",
    "    \"./data/train.csv\",\n",
    ")\n",
    "s3.download_file(\n",
    "    f\"sagemaker-sample-files\",\n",
    "    \"datasets/tabular/uci_abalone/preprocessed/validation.csv\",\n",
    "    \"./data/validation.csv\",\n",
    ")\n",
    "\n",
    "# Upload the datasets to the SageMaker session default bucket\n",
    "boto3.Session().resource(\"s3\").Bucket(default_bucket).Object(\n",
    "    \"experiments-demo/train.csv\"\n",
    ").upload_file(\"data/train.csv\")\n",
    "boto3.Session().resource(\"s3\").Bucket(default_bucket).Object(\n",
    "    \"experiments-demo/validation.csv\"\n",
    ").upload_file(\"data/validation.csv\")\n",
    "\n",
    "training_data = f\"s3://{default_bucket}/experiments-demo/train.csv\"\n",
    "validation_data = f\"s3://{default_bucket}/experiments-demo/validation.csv\""
   ]
  },
  {
   "cell_type": "markdown",
   "id": "803a9a1b",
   "metadata": {
    "papermill": {
     "duration": 0.050252,
     "end_time": "2022-03-23T18:53:13.230582",
     "exception": false,
     "start_time": "2022-03-23T18:53:13.180330",
     "status": "completed"
    },
    "tags": []
   },
   "source": [
    "### Create a training job\n",
    "\n",
    "We train a simple XGBoost model on the [Abalone dataset](https://www.google.com/search?client=firefox-b-1-d&q=abalone+dataset). \n",
    "`sagemaker.image_uris.retrieve()` is used to get the sagemaker container for XGBoost so that it can be used in the Estimator. \n",
    "\n",
    "In the `.fit()` function, we pass in a training and validation dataset along with an `experiment_config`. The `experiment_config` ensures that the metrics, parameters, and artifats associated with this training job are logged to the experiment and trial created above. \n"
   ]
  },
  {
   "cell_type": "code",
   "execution_count": 10,
   "id": "31212ae2",
   "metadata": {
    "execution": {
     "iopub.execute_input": "2022-03-23T18:53:13.337219Z",
     "iopub.status.busy": "2022-03-23T18:53:13.336494Z",
     "iopub.status.idle": "2022-03-23T18:53:13.351477Z",
     "shell.execute_reply": "2022-03-23T18:53:13.351041Z"
    },
    "papermill": {
     "duration": 0.071177,
     "end_time": "2022-03-23T18:53:13.351586",
     "exception": false,
     "start_time": "2022-03-23T18:53:13.280409",
     "status": "completed"
    },
    "tags": []
   },
   "outputs": [
    {
     "name": "stderr",
     "output_type": "stream",
     "text": [
      "INFO:sagemaker.image_uris:Same images used for training and inference. Defaulting to image scope: inference.\n"
     ]
    }
   ],
   "source": [
    "from sagemaker.estimator import Estimator\n",
    "\n",
    "model_path = f\"s3://{default_bucket}/{s3_prefix}/xgb_model\"\n",
    "training_instance_type = \"ml.m5.large\"\n",
    "\n",
    "image_uri = sagemaker.image_uris.retrieve(\n",
    "    framework=\"xgboost\",\n",
    "    region=region,\n",
    "    version=\"1.0-1\",\n",
    "    py_version=\"py3\",\n",
    "    instance_type=training_instance_type,\n",
    ")\n",
    "\n",
    "xgb_train = Estimator(\n",
    "    image_uri=image_uri,\n",
    "    instance_type=training_instance_type,\n",
    "    instance_count=1,\n",
    "    output_path=model_path,\n",
    "    sagemaker_session=sagemaker_session,\n",
    "    role=role,\n",
    ")\n",
    "\n",
    "xgb_train.set_hyperparameters(\n",
    "    objective=\"reg:linear\",\n",
    "    num_round=50,\n",
    "    max_depth=5,\n",
    "    eta=0.2,\n",
    "    gamma=4,\n",
    "    min_child_weight=6,\n",
    "    subsample=0.7,\n",
    "    silent=0,\n",
    ")"
   ]
  },
  {
   "cell_type": "code",
   "execution_count": 11,
   "id": "56176b2c",
   "metadata": {
    "execution": {
     "iopub.execute_input": "2022-03-23T18:53:13.458775Z",
     "iopub.status.busy": "2022-03-23T18:53:13.457937Z",
     "iopub.status.idle": "2022-03-23T18:57:25.787576Z",
     "shell.execute_reply": "2022-03-23T18:57:25.787125Z"
    },
    "papermill": {
     "duration": 252.385583,
     "end_time": "2022-03-23T18:57:25.787699",
     "exception": false,
     "start_time": "2022-03-23T18:53:13.402116",
     "status": "completed"
    },
    "tags": []
   },
   "outputs": [
    {
     "name": "stderr",
     "output_type": "stream",
     "text": [
      "INFO:sagemaker.image_uris:Defaulting to the only supported framework/algorithm version: latest.\n"
     ]
    },
    {
     "name": "stderr",
     "output_type": "stream",
     "text": [
      "INFO:sagemaker.image_uris:Ignoring unnecessary instance type: None.\n"
     ]
    },
    {
     "name": "stderr",
     "output_type": "stream",
     "text": [
      "INFO:sagemaker:Creating training-job with name: sagemaker-xgboost-2022-03-23-18-53-13-456\n"
     ]
    },
    {
     "name": "stdout",
     "output_type": "stream",
     "text": [
      "2022-03-23 18:53:13 Starting - Starting the training job."
     ]
    },
    {
     "name": "stdout",
     "output_type": "stream",
     "text": [
      "."
     ]
    },
    {
     "name": "stdout",
     "output_type": "stream",
     "text": [
      "."
     ]
    },
    {
     "name": "stdout",
     "output_type": "stream",
     "text": [
      "\n",
      "2022-03-23 18:53:15 Starting - Launching requested ML instancesProfilerReport-1648061593: InProgress\n",
      "."
     ]
    },
    {
     "name": "stdout",
     "output_type": "stream",
     "text": [
      "."
     ]
    },
    {
     "name": "stdout",
     "output_type": "stream",
     "text": [
      "."
     ]
    },
    {
     "name": "stdout",
     "output_type": "stream",
     "text": [
      "."
     ]
    },
    {
     "name": "stdout",
     "output_type": "stream",
     "text": [
      "."
     ]
    },
    {
     "name": "stdout",
     "output_type": "stream",
     "text": [
      "."
     ]
    },
    {
     "name": "stdout",
     "output_type": "stream",
     "text": [
      "."
     ]
    },
    {
     "name": "stdout",
     "output_type": "stream",
     "text": [
      "."
     ]
    },
    {
     "name": "stdout",
     "output_type": "stream",
     "text": [
      "."
     ]
    },
    {
     "name": "stdout",
     "output_type": "stream",
     "text": [
      "\n",
      "2022-03-23 18:55:01 Starting - Preparing the instances for training."
     ]
    },
    {
     "name": "stdout",
     "output_type": "stream",
     "text": [
      "."
     ]
    },
    {
     "name": "stdout",
     "output_type": "stream",
     "text": [
      "."
     ]
    },
    {
     "name": "stdout",
     "output_type": "stream",
     "text": [
      "\n",
      "2022-03-23 18:55:44 Downloading - Downloading input data."
     ]
    },
    {
     "name": "stdout",
     "output_type": "stream",
     "text": [
      "."
     ]
    },
    {
     "name": "stdout",
     "output_type": "stream",
     "text": [
      "."
     ]
    },
    {
     "name": "stdout",
     "output_type": "stream",
     "text": [
      "\n",
      "2022-03-23 18:56:06 Training - Downloading the training image."
     ]
    },
    {
     "name": "stdout",
     "output_type": "stream",
     "text": [
      "."
     ]
    },
    {
     "name": "stdout",
     "output_type": "stream",
     "text": [
      "."
     ]
    },
    {
     "name": "stdout",
     "output_type": "stream",
     "text": [
      "\n",
      "2022-03-23 18:56:42 Training - Training image download completed. Training in progress.."
     ]
    },
    {
     "name": "stdout",
     "output_type": "stream",
     "text": [
      "\u001b[34mINFO:sagemaker-containers:Imported framework sagemaker_xgboost_container.training\u001b[0m\n",
      "\u001b[34mINFO:sagemaker-containers:Failed to parse hyperparameter objective value reg:linear to Json.\u001b[0m\n",
      "\u001b[34mReturning the value itself\u001b[0m\n",
      "\u001b[34mINFO:sagemaker-containers:No GPUs detected (normal if no gpus installed)\u001b[0m\n",
      "\u001b[34mINFO:sagemaker_xgboost_container.training:Running XGBoost Sagemaker in algorithm mode\u001b[0m\n",
      "\u001b[34mINFO:root:Determined delimiter of CSV input is ','\u001b[0m\n",
      "\u001b[34mINFO:root:Determined delimiter of CSV input is ','\u001b[0m\n",
      "\u001b[34mINFO:root:Determined delimiter of CSV input is ','\u001b[0m\n",
      "\u001b[34m[18:56:43] 2923x10 matrix with 29230 entries loaded from /opt/ml/input/data/train?format=csv&label_column=0&delimiter=,\u001b[0m\n",
      "\u001b[34mINFO:root:Determined delimiter of CSV input is ','\u001b[0m\n",
      "\u001b[34m[18:56:43] 627x10 matrix with 6270 entries loaded from /opt/ml/input/data/validation?format=csv&label_column=0&delimiter=,\u001b[0m\n",
      "\u001b[34mINFO:root:Single node training.\u001b[0m\n",
      "\u001b[34mINFO:root:Train matrix has 2923 rows\u001b[0m\n",
      "\u001b[34mINFO:root:Validation matrix has 627 rows\u001b[0m\n",
      "\u001b[34m[18:56:43] WARNING: /workspace/src/objective/regression_obj.cu:167: reg:linear is now deprecated in favor of reg:squarederror.\u001b[0m\n",
      "\u001b[34m[18:56:43] WARNING: /workspace/src/learner.cc:328: \u001b[0m\n",
      "\u001b[34mParameters: { num_round, silent } might not be used.\n",
      "  This may not be accurate due to some parameters are only used in language bindings but\n",
      "  passed down to XGBoost core.  Or some parameters are not used but slip through this\n",
      "  verification. Please open an issue if you find above cases.\u001b[0m\n",
      "\u001b[34m[0]#011train-rmse:8.09483#011validation-rmse:8.33559\u001b[0m\n",
      "\u001b[34m[1]#011train-rmse:6.62617#011validation-rmse:6.86867\u001b[0m\n",
      "\u001b[34m[2]#011train-rmse:5.47384#011validation-rmse:5.71510\u001b[0m\n",
      "\u001b[34m[3]#011train-rmse:4.56593#011validation-rmse:4.80989\u001b[0m\n",
      "\u001b[34m[4]#011train-rmse:3.87283#011validation-rmse:4.13381\u001b[0m\n",
      "\u001b[34m[5]#011train-rmse:3.34117#011validation-rmse:3.60401\u001b[0m\n",
      "\u001b[34m[6]#011train-rmse:2.94611#011validation-rmse:3.22161\u001b[0m\n",
      "\u001b[34m[7]#011train-rmse:2.65142#011validation-rmse:2.91350\u001b[0m\n",
      "\u001b[34m[8]#011train-rmse:2.43912#011validation-rmse:2.71088\u001b[0m\n",
      "\u001b[34m[9]#011train-rmse:2.28429#011validation-rmse:2.56262\u001b[0m\n",
      "\u001b[34m[10]#011train-rmse:2.17619#011validation-rmse:2.46501\u001b[0m\n",
      "\u001b[34m[11]#011train-rmse:2.10069#011validation-rmse:2.39678\u001b[0m\n",
      "\u001b[34m[12]#011train-rmse:2.03541#011validation-rmse:2.35187\u001b[0m\n",
      "\u001b[34m[13]#011train-rmse:1.99775#011validation-rmse:2.31802\u001b[0m\n",
      "\u001b[34m[14]#011train-rmse:1.95787#011validation-rmse:2.30118\u001b[0m\n",
      "\u001b[34m[15]#011train-rmse:1.93027#011validation-rmse:2.28703\u001b[0m\n",
      "\u001b[34m[16]#011train-rmse:1.90745#011validation-rmse:2.27673\u001b[0m\n",
      "\u001b[34m[17]#011train-rmse:1.89317#011validation-rmse:2.28023\u001b[0m\n",
      "\u001b[34m[18]#011train-rmse:1.86939#011validation-rmse:2.27143\u001b[0m\n",
      "\u001b[34m[19]#011train-rmse:1.85007#011validation-rmse:2.26374\u001b[0m\n",
      "\u001b[34m[20]#011train-rmse:1.83256#011validation-rmse:2.26897\u001b[0m\n",
      "\u001b[34m[21]#011train-rmse:1.82095#011validation-rmse:2.27035\u001b[0m\n",
      "\u001b[34m[22]#011train-rmse:1.81574#011validation-rmse:2.26190\u001b[0m\n",
      "\u001b[34m[23]#011train-rmse:1.80797#011validation-rmse:2.26231\u001b[0m\n",
      "\u001b[34m[24]#011train-rmse:1.78942#011validation-rmse:2.26233\u001b[0m\n",
      "\u001b[34m[25]#011train-rmse:1.78354#011validation-rmse:2.26086\u001b[0m\n",
      "\u001b[34m[26]#011train-rmse:1.77177#011validation-rmse:2.26747\u001b[0m\n",
      "\u001b[34m[27]#011train-rmse:1.76730#011validation-rmse:2.26610\u001b[0m\n",
      "\u001b[34m[28]#011train-rmse:1.75690#011validation-rmse:2.26657\u001b[0m\n",
      "\u001b[34m[29]#011train-rmse:1.75205#011validation-rmse:2.26914\u001b[0m\n",
      "\u001b[34m[30]#011train-rmse:1.75068#011validation-rmse:2.26550\u001b[0m\n",
      "\u001b[34m[31]#011train-rmse:1.74036#011validation-rmse:2.26121\u001b[0m\n",
      "\u001b[34m[32]#011train-rmse:1.72941#011validation-rmse:2.26256\u001b[0m\n",
      "\u001b[34m[33]#011train-rmse:1.71468#011validation-rmse:2.25891\u001b[0m\n",
      "\u001b[34m[34]#011train-rmse:1.71255#011validation-rmse:2.25856\u001b[0m\n",
      "\u001b[34m[35]#011train-rmse:1.71040#011validation-rmse:2.26029\u001b[0m\n",
      "\u001b[34m[36]#011train-rmse:1.70669#011validation-rmse:2.26590\u001b[0m\n",
      "\u001b[34m[37]#011train-rmse:1.70319#011validation-rmse:2.26375\u001b[0m\n",
      "\u001b[34m[38]#011train-rmse:1.69704#011validation-rmse:2.26592\u001b[0m\n",
      "\u001b[34m[39]#011train-rmse:1.69448#011validation-rmse:2.26439\u001b[0m\n",
      "\u001b[34m[40]#011train-rmse:1.68990#011validation-rmse:2.26771\u001b[0m\n",
      "\u001b[34m[41]#011train-rmse:1.67904#011validation-rmse:2.26990\u001b[0m\n",
      "\u001b[34m[42]#011train-rmse:1.67131#011validation-rmse:2.26866\u001b[0m\n",
      "\u001b[34m[43]#011train-rmse:1.66305#011validation-rmse:2.26504\u001b[0m\n",
      "\u001b[34m[44]#011train-rmse:1.65370#011validation-rmse:2.27383\u001b[0m\n",
      "\u001b[34m[45]#011train-rmse:1.64502#011validation-rmse:2.27462\u001b[0m\n",
      "\u001b[34m[46]#011train-rmse:1.63533#011validation-rmse:2.27985\u001b[0m\n",
      "\u001b[34m[47]#011train-rmse:1.62758#011validation-rmse:2.28381\u001b[0m\n",
      "\u001b[34m[48]#011train-rmse:1.61885#011validation-rmse:2.28484\u001b[0m\n",
      "\u001b[34m[49]#011train-rmse:1.61356#011validation-rmse:2.28200\u001b[0m\n"
     ]
    },
    {
     "name": "stdout",
     "output_type": "stream",
     "text": [
      "\n",
      "2022-03-23 18:57:02 Uploading - Uploading generated training model\n",
      "2022-03-23 18:57:02 Completed - Training job completed\n"
     ]
    },
    {
     "name": "stdout",
     "output_type": "stream",
     "text": [
      "Training seconds: 71\n",
      "Billable seconds: 71\n"
     ]
    }
   ],
   "source": [
    "from sagemaker.inputs import TrainingInput\n",
    "\n",
    "xgb_train.fit(\n",
    "    inputs={\n",
    "        \"train\": TrainingInput(\n",
    "            s3_data=training_data,\n",
    "            content_type=\"text/csv\",\n",
    "        ),\n",
    "        \"validation\": TrainingInput(\n",
    "            s3_data=validation_data,\n",
    "            content_type=\"text/csv\",\n",
    "        ),\n",
    "    },\n",
    "    experiment_config={\n",
    "        \"ExperimentName\": experiment_name,\n",
    "        \"TrialName\": trial.trial_name,\n",
    "        \"TrialComponentDisplayName\": \"MultiHopQueryTrialComponent\",\n",
    "    },\n",
    ")"
   ]
  },
  {
   "cell_type": "markdown",
   "id": "1411b69d",
   "metadata": {
    "papermill": {
     "duration": 0.058603,
     "end_time": "2022-03-23T18:57:25.905562",
     "exception": false,
     "start_time": "2022-03-23T18:57:25.846959",
     "status": "completed"
    },
    "tags": []
   },
   "source": [
    "### Create a Model Package Group for the trained model to be registered\n",
    "\n",
    "Create a new Model Package Group or use an existing one to register the model"
   ]
  },
  {
   "cell_type": "code",
   "execution_count": 12,
   "id": "6ed64792",
   "metadata": {
    "execution": {
     "iopub.execute_input": "2022-03-23T18:57:26.058677Z",
     "iopub.status.busy": "2022-03-23T18:57:26.058179Z",
     "iopub.status.idle": "2022-03-23T18:57:26.110809Z",
     "shell.execute_reply": "2022-03-23T18:57:26.111241Z"
    },
    "papermill": {
     "duration": 0.117057,
     "end_time": "2022-03-23T18:57:26.111384",
     "exception": false,
     "start_time": "2022-03-23T18:57:25.994327",
     "status": "completed"
    },
    "tags": []
   },
   "outputs": [],
   "source": [
    "model_package_group_name = \"lineage-test-\" + unique_id\n",
    "mpg = sm_client.create_model_package_group(ModelPackageGroupName=model_package_group_name)\n",
    "mpg_arn = mpg[\"ModelPackageGroupArn\"]"
   ]
  },
  {
   "cell_type": "markdown",
   "id": "7069bb27",
   "metadata": {
    "papermill": {
     "duration": 0.058499,
     "end_time": "2022-03-23T18:57:26.228620",
     "exception": false,
     "start_time": "2022-03-23T18:57:26.170121",
     "status": "completed"
    },
    "tags": []
   },
   "source": [
    "### Register the model in the Model Registry\n",
    "Once the model is registered, you will see it in the Model Registry tab of the SageMaker Studio UI. The model is registered with the `approval_status` set to \"Approved\". By default, the model is registered with the `approval_status` set to \"PendingManualApproval\". Users can then navigate to the Model Registry to manually approve the model based on any criteria set for model evaluation or this can be done via API. "
   ]
  },
  {
   "cell_type": "code",
   "execution_count": 13,
   "id": "2e81c2e1",
   "metadata": {
    "execution": {
     "iopub.execute_input": "2022-03-23T18:57:26.352724Z",
     "iopub.status.busy": "2022-03-23T18:57:26.352115Z",
     "iopub.status.idle": "2022-03-23T18:57:26.562613Z",
     "shell.execute_reply": "2022-03-23T18:57:26.562165Z"
    },
    "papermill": {
     "duration": 0.275397,
     "end_time": "2022-03-23T18:57:26.562733",
     "exception": false,
     "start_time": "2022-03-23T18:57:26.287336",
     "status": "completed"
    },
    "tags": []
   },
   "outputs": [
    {
     "name": "stdout",
     "output_type": "stream",
     "text": [
      "Model Package ARN :  arn:aws:sagemaker:us-west-2:000000000000:model-package/lineage-test-1648061590/1\n"
     ]
    }
   ],
   "source": [
    "inference_instance_type = \"ml.m5.xlarge\"\n",
    "model_package = xgb_train.register(\n",
    "    model_package_group_name=mpg_arn,\n",
    "    inference_instances=[inference_instance_type],\n",
    "    transform_instances=[inference_instance_type],\n",
    "    content_types=[\"text/csv\"],\n",
    "    response_types=[\"text/csv\"],\n",
    "    approval_status=\"Approved\",\n",
    ")\n",
    "\n",
    "model_package_arn = model_package.model_package_arn\n",
    "print(\"Model Package ARN : \", model_package_arn)"
   ]
  },
  {
   "cell_type": "markdown",
   "id": "3e0df65b",
   "metadata": {
    "papermill": {
     "duration": 0.059093,
     "end_time": "2022-03-23T18:57:26.681366",
     "exception": false,
     "start_time": "2022-03-23T18:57:26.622273",
     "status": "completed"
    },
    "tags": []
   },
   "source": [
    "### Deploy the model to a SageMaker Endpoint\n",
    "\n",
    "A SageMaker Endpoint is used to host a model that can be used for inference. The type of endpoint deployed in this notebook is a real time inference endpoint. This is ideal for inference workloads where you have real-time, interactive, low latency requirements."
   ]
  },
  {
   "cell_type": "code",
   "execution_count": 14,
   "id": "d55f221c",
   "metadata": {
    "execution": {
     "iopub.execute_input": "2022-03-23T18:57:26.804931Z",
     "iopub.status.busy": "2022-03-23T18:57:26.804236Z",
     "iopub.status.idle": "2022-03-23T18:59:28.197378Z",
     "shell.execute_reply": "2022-03-23T18:59:28.197813Z"
    },
    "papermill": {
     "duration": 121.457428,
     "end_time": "2022-03-23T18:59:28.197955",
     "exception": false,
     "start_time": "2022-03-23T18:57:26.740527",
     "status": "completed"
    },
    "tags": []
   },
   "outputs": [
    {
     "name": "stderr",
     "output_type": "stream",
     "text": [
      "INFO:sagemaker:Creating model with name: 1-2022-03-23-18-57-26-827\n"
     ]
    },
    {
     "name": "stderr",
     "output_type": "stream",
     "text": [
      "INFO:sagemaker:Creating endpoint with name lineage-test-endpoint-1648061590\n"
     ]
    },
    {
     "name": "stdout",
     "output_type": "stream",
     "text": [
      "-"
     ]
    },
    {
     "name": "stdout",
     "output_type": "stream",
     "text": [
      "-"
     ]
    },
    {
     "name": "stdout",
     "output_type": "stream",
     "text": [
      "-"
     ]
    },
    {
     "name": "stdout",
     "output_type": "stream",
     "text": [
      "-"
     ]
    },
    {
     "name": "stdout",
     "output_type": "stream",
     "text": [
      "!"
     ]
    }
   ],
   "source": [
    "endpoint_name = \"lineage-test-endpoint-\" + unique_id\n",
    "model_package.deploy(\n",
    "    endpoint_name=endpoint_name,\n",
    "    initial_instance_count=1,\n",
    "    instance_type=inference_instance_type,\n",
    ")"
   ]
  },
  {
   "cell_type": "code",
   "execution_count": 15,
   "id": "a34553d6",
   "metadata": {
    "execution": {
     "iopub.execute_input": "2022-03-23T18:59:28.324506Z",
     "iopub.status.busy": "2022-03-23T18:59:28.323961Z",
     "iopub.status.idle": "2022-03-23T18:59:28.412774Z",
     "shell.execute_reply": "2022-03-23T18:59:28.413322Z"
    },
    "papermill": {
     "duration": 0.154864,
     "end_time": "2022-03-23T18:59:28.413467",
     "exception": false,
     "start_time": "2022-03-23T18:59:28.258603",
     "status": "completed"
    },
    "tags": []
   },
   "outputs": [
    {
     "name": "stdout",
     "output_type": "stream",
     "text": [
      "arn:aws:sagemaker:us-west-2:000000000000:endpoint/lineage-test-endpoint-1648061590\n"
     ]
    }
   ],
   "source": [
    "# Get the endpoint ARN\n",
    "endpoint_arn = sm_client.describe_endpoint(EndpointName=endpoint_name)[\"EndpointArn\"]\n",
    "print(endpoint_arn)"
   ]
  },
  {
   "cell_type": "markdown",
   "id": "a83be170",
   "metadata": {
    "papermill": {
     "duration": 0.063373,
     "end_time": "2022-03-23T18:59:28.538374",
     "exception": false,
     "start_time": "2022-03-23T18:59:28.475001",
     "status": "completed"
    },
    "tags": []
   },
   "source": [
    "### SageMaker Lineage Queries\n",
    "\n",
    "We explore SageMaker's lineage capabilities to traverse the relationships between the entities created in this notebook - datasets, model, endpoint, and training job. "
   ]
  },
  {
   "cell_type": "code",
   "execution_count": 16,
   "id": "912a56d0",
   "metadata": {
    "execution": {
     "iopub.execute_input": "2022-03-23T18:59:28.668886Z",
     "iopub.status.busy": "2022-03-23T18:59:28.668202Z",
     "iopub.status.idle": "2022-03-23T18:59:28.670609Z",
     "shell.execute_reply": "2022-03-23T18:59:28.671012Z"
    },
    "papermill": {
     "duration": 0.070661,
     "end_time": "2022-03-23T18:59:28.671144",
     "exception": false,
     "start_time": "2022-03-23T18:59:28.600483",
     "status": "completed"
    },
    "tags": []
   },
   "outputs": [],
   "source": [
    "from sagemaker.lineage.context import Context, EndpointContext\n",
    "from sagemaker.lineage.action import Action\n",
    "from sagemaker.lineage.association import Association\n",
    "from sagemaker.lineage.artifact import Artifact, ModelArtifact, DatasetArtifact\n",
    "\n",
    "from sagemaker.lineage.query import (\n",
    "    LineageQuery,\n",
    "    LineageFilter,\n",
    "    LineageSourceEnum,\n",
    "    LineageEntityEnum,\n",
    "    LineageQueryDirectionEnum,\n",
    ")"
   ]
  },
  {
   "cell_type": "markdown",
   "id": "bcdb5a52",
   "metadata": {
    "papermill": {
     "duration": 0.061133,
     "end_time": "2022-03-23T18:59:28.793920",
     "exception": false,
     "start_time": "2022-03-23T18:59:28.732787",
     "status": "completed"
    },
    "tags": []
   },
   "source": [
    "### Using the LineageQuery API to find entity associations\n",
    "\n",
    "In this section we use two APIs, `LineageQuery` and `LineageFilter` to construct queries to answer questions about the Lineage Graph and extract entity relationships. \n",
    "\n",
    "LineageQuery parameters:\n",
    "* `start_arns`: A list of ARNs that will be used as the starting point for the query.\n",
    "* `direction`: The direction of the query.\n",
    "* `include_edges`: If true, return edges in addition to vertices.\n",
    "* `query_filter`: The query filter.\n",
    "\n",
    "LineageFilter paramters:\n",
    "* `entities`: A list of entity types (Artifact, Association, Action) to filter for when returning the results on LineageQuery\n",
    "* `sources`: A list of source types (Endpoint, Model, Dataset) to filter for when returning the results of LineageQuery\n",
    "\n",
    "A `Context` is automatically created when a SageMaker Endpoint is created, an `Artifact` is automatically created when a Model is created in SageMaker. "
   ]
  },
  {
   "cell_type": "code",
   "execution_count": 17,
   "id": "1500691e",
   "metadata": {
    "execution": {
     "iopub.execute_input": "2022-03-23T18:59:28.929152Z",
     "iopub.status.busy": "2022-03-23T18:59:28.927545Z",
     "iopub.status.idle": "2022-03-23T18:59:29.064016Z",
     "shell.execute_reply": "2022-03-23T18:59:29.063548Z"
    },
    "papermill": {
     "duration": 0.208792,
     "end_time": "2022-03-23T18:59:29.064129",
     "exception": false,
     "start_time": "2022-03-23T18:59:28.855337",
     "status": "completed"
    },
    "tags": []
   },
   "outputs": [],
   "source": [
    "# Find the endpoint context and model artifact that should be used for the lineage queries.\n",
    "\n",
    "contexts = Context.list(source_uri=endpoint_arn)\n",
    "context_name = list(contexts)[0].context_name\n",
    "endpoint_context = EndpointContext.load(context_name=context_name)"
   ]
  },
  {
   "cell_type": "markdown",
   "id": "850206ad",
   "metadata": {
    "papermill": {
     "duration": 0.061325,
     "end_time": "2022-03-23T18:59:29.187144",
     "exception": false,
     "start_time": "2022-03-23T18:59:29.125819",
     "status": "completed"
    },
    "tags": []
   },
   "source": [
    "#### Find all datasets associated with an Endpoint"
   ]
  },
  {
   "cell_type": "code",
   "execution_count": 18,
   "id": "77b0114a",
   "metadata": {
    "execution": {
     "iopub.execute_input": "2022-03-23T18:59:29.317213Z",
     "iopub.status.busy": "2022-03-23T18:59:29.316619Z",
     "iopub.status.idle": "2022-03-23T18:59:29.625578Z",
     "shell.execute_reply": "2022-03-23T18:59:29.625104Z"
    },
    "papermill": {
     "duration": 0.377354,
     "end_time": "2022-03-23T18:59:29.625695",
     "exception": false,
     "start_time": "2022-03-23T18:59:29.248341",
     "status": "completed"
    },
    "tags": []
   },
   "outputs": [
    {
     "name": "stdout",
     "output_type": "stream",
     "text": [
      "['s3://sagemaker-us-west-2--000000000000/experiments-demo/train.csv',\n",
      " 's3://sagemaker-us-west-2--000000000000/experiments-demo/validation.csv']\n"
     ]
    }
   ],
   "source": [
    "# Define the LineageFilter to look for entities of type `ARTIFACT` and the source of type `DATASET`.\n",
    "\n",
    "query_filter = LineageFilter(\n",
    "    entities=[LineageEntityEnum.ARTIFACT], sources=[LineageSourceEnum.DATASET]\n",
    ")\n",
    "\n",
    "# Providing this `LineageFilter` to the `LineageQuery` will construct a query that traverses through the given context `endpoint_context`\n",
    "# and find all datasets.\n",
    "\n",
    "query_result = LineageQuery(sagemaker_session).query(\n",
    "    start_arns=[endpoint_context.context_arn],\n",
    "    query_filter=query_filter,\n",
    "    direction=LineageQueryDirectionEnum.ASCENDANTS,\n",
    "    include_edges=False,\n",
    ")\n",
    "\n",
    "# Parse through the query results to get the lineage objects corresponding to the datasets\n",
    "dataset_artifacts = []\n",
    "for vertex in query_result.vertices:\n",
    "    dataset_artifacts.append(vertex.to_lineage_object().source.source_uri)\n",
    "\n",
    "pp.pprint(dataset_artifacts)"
   ]
  },
  {
   "cell_type": "markdown",
   "id": "9d2c2ea9",
   "metadata": {
    "papermill": {
     "duration": 0.061934,
     "end_time": "2022-03-23T18:59:29.749999",
     "exception": false,
     "start_time": "2022-03-23T18:59:29.688065",
     "status": "completed"
    },
    "tags": []
   },
   "source": [
    "#### Find the models associated with an Endpoint"
   ]
  },
  {
   "cell_type": "code",
   "execution_count": 19,
   "id": "77f7af26",
   "metadata": {
    "execution": {
     "iopub.execute_input": "2022-03-23T18:59:29.880073Z",
     "iopub.status.busy": "2022-03-23T18:59:29.879504Z",
     "iopub.status.idle": "2022-03-23T18:59:30.158040Z",
     "shell.execute_reply": "2022-03-23T18:59:30.157595Z"
    },
    "papermill": {
     "duration": 0.346476,
     "end_time": "2022-03-23T18:59:30.158154",
     "exception": false,
     "start_time": "2022-03-23T18:59:29.811678",
     "status": "completed"
    },
    "tags": []
   },
   "outputs": [
    {
     "name": "stdout",
     "output_type": "stream",
     "text": [
      "['arn:aws:sagemaker:us-west-2:000000000000:model-package/lineage-test-1648061590/1',\n",
      " 's3://sagemaker-us-west-2--000000000000/multihop-example/xgb_model/sagemaker-xgboost-2022-03-23-18-53-13-456/output/model.tar.gz']\n"
     ]
    }
   ],
   "source": [
    "# Define the LineageFilter to look for entities of type `ARTIFACT` and the source of type `MODEL`.\n",
    "\n",
    "query_filter = LineageFilter(\n",
    "    entities=[LineageEntityEnum.ARTIFACT], sources=[LineageSourceEnum.MODEL]\n",
    ")\n",
    "\n",
    "# Providing this `LineageFilter` to the `LineageQuery` will construct a query that traverses through the given context `endpoint_context`\n",
    "# and find all datasets.\n",
    "\n",
    "query_result = LineageQuery(sagemaker_session).query(\n",
    "    start_arns=[endpoint_context.context_arn],\n",
    "    query_filter=query_filter,\n",
    "    direction=LineageQueryDirectionEnum.ASCENDANTS,\n",
    "    include_edges=False,\n",
    ")\n",
    "\n",
    "# Parse through the query results to get the lineage objects corresponding to the model\n",
    "model_artifacts = []\n",
    "for vertex in query_result.vertices:\n",
    "    model_artifacts.append(vertex.to_lineage_object().source.source_uri)\n",
    "\n",
    "# The results of the `LineageQuery` API call return the ARN of the model deployed to the endpoint along with\n",
    "# the S3 URI to the model.tar.gz file associated with the model\n",
    "pp.pprint(model_artifacts)"
   ]
  },
  {
   "cell_type": "markdown",
   "id": "be699be4",
   "metadata": {
    "papermill": {
     "duration": 0.063683,
     "end_time": "2022-03-23T18:59:30.287408",
     "exception": false,
     "start_time": "2022-03-23T18:59:30.223725",
     "status": "completed"
    },
    "tags": []
   },
   "source": [
    "#### Find the trial components associated with the endpoint"
   ]
  },
  {
   "cell_type": "code",
   "execution_count": 20,
   "id": "b9824e2c",
   "metadata": {
    "execution": {
     "iopub.execute_input": "2022-03-23T18:59:30.419651Z",
     "iopub.status.busy": "2022-03-23T18:59:30.419099Z",
     "iopub.status.idle": "2022-03-23T18:59:30.544761Z",
     "shell.execute_reply": "2022-03-23T18:59:30.544332Z"
    },
    "papermill": {
     "duration": 0.194965,
     "end_time": "2022-03-23T18:59:30.544906",
     "exception": false,
     "start_time": "2022-03-23T18:59:30.349941",
     "status": "completed"
    },
    "tags": []
   },
   "outputs": [
    {
     "name": "stdout",
     "output_type": "stream",
     "text": [
      "['arn:aws:sagemaker:us-west-2:000000000000:experiment-trial-component/sagemaker-xgboost-2022-03-23-18-53-13-456-aws-training-job']\n"
     ]
    }
   ],
   "source": [
    "# Define the LineageFilter to look for entities of type `TRIAL_COMPONENT` and the source of type `TRAINING_JOB`.\n",
    "\n",
    "query_filter = LineageFilter(\n",
    "    entities=[LineageEntityEnum.TRIAL_COMPONENT],\n",
    "    sources=[LineageSourceEnum.TRAINING_JOB],\n",
    ")\n",
    "\n",
    "# Providing this `LineageFilter` to the `LineageQuery` will construct a query that traverses through the given context `endpoint_context`\n",
    "# and find all datasets.\n",
    "\n",
    "query_result = LineageQuery(sagemaker_session).query(\n",
    "    start_arns=[endpoint_context.context_arn],\n",
    "    query_filter=query_filter,\n",
    "    direction=LineageQueryDirectionEnum.ASCENDANTS,\n",
    "    include_edges=False,\n",
    ")\n",
    "\n",
    "# Parse through the query results to get the ARNs of the training jobs associated with this Endpoint\n",
    "trial_components = []\n",
    "for vertex in query_result.vertices:\n",
    "    trial_components.append(vertex.arn)\n",
    "\n",
    "pp.pprint(trial_components)"
   ]
  },
  {
   "cell_type": "markdown",
   "id": "2cfce179",
   "metadata": {
    "papermill": {
     "duration": 0.062563,
     "end_time": "2022-03-23T18:59:30.670463",
     "exception": false,
     "start_time": "2022-03-23T18:59:30.607900",
     "status": "completed"
    },
    "tags": []
   },
   "source": [
    "#### Changing the focal point of lineage\n",
    "\n",
    "The `LineageQuery` can be modified to have different `start_arns` which will change the focal point of lineage. In addition, the `LineageFilter` can take multiple sources and entities to expand the scope of the query. \n",
    "\n",
    "**Here we use the model as the lineage focal point and find the Endpoints and Datasets associated with it.**"
   ]
  },
  {
   "cell_type": "code",
   "execution_count": 21,
   "id": "1e47393c",
   "metadata": {
    "execution": {
     "iopub.execute_input": "2022-03-23T18:59:30.803993Z",
     "iopub.status.busy": "2022-03-23T18:59:30.803450Z",
     "iopub.status.idle": "2022-03-23T18:59:30.981216Z",
     "shell.execute_reply": "2022-03-23T18:59:30.981656Z"
    },
    "papermill": {
     "duration": 0.248848,
     "end_time": "2022-03-23T18:59:30.981801",
     "exception": false,
     "start_time": "2022-03-23T18:59:30.732953",
     "status": "completed"
    },
    "tags": []
   },
   "outputs": [],
   "source": [
    "# Get the ModelArtifact\n",
    "\n",
    "model_artifact_summary = list(Artifact.list(source_uri=model_package_arn))[0]\n",
    "model_artifact = ModelArtifact.load(artifact_arn=model_artifact_summary.artifact_arn)"
   ]
  },
  {
   "cell_type": "code",
   "execution_count": 22,
   "id": "ef0ee6af",
   "metadata": {
    "execution": {
     "iopub.execute_input": "2022-03-23T18:59:31.116362Z",
     "iopub.status.busy": "2022-03-23T18:59:31.115850Z",
     "iopub.status.idle": "2022-03-23T18:59:31.499135Z",
     "shell.execute_reply": "2022-03-23T18:59:31.499601Z"
    },
    "papermill": {
     "duration": 0.453947,
     "end_time": "2022-03-23T18:59:31.499749",
     "exception": false,
     "start_time": "2022-03-23T18:59:31.045802",
     "status": "completed"
    },
    "tags": []
   },
   "outputs": [
    {
     "name": "stdout",
     "output_type": "stream",
     "text": [
      "['s3://sagemaker-us-west-2--000000000000/experiments-demo/train.csv',\n",
      " 's3://sagemaker-us-west-2--000000000000/experiments-demo/validation.csv']\n"
     ]
    }
   ],
   "source": [
    "query_filter = LineageFilter(\n",
    "    entities=[LineageEntityEnum.ARTIFACT],\n",
    "    sources=[LineageSourceEnum.ENDPOINT, LineageSourceEnum.DATASET],\n",
    ")\n",
    "\n",
    "query_result = LineageQuery(sagemaker_session).query(\n",
    "    start_arns=[model_artifact.artifact_arn],  # Model is the starting artifact\n",
    "    query_filter=query_filter,\n",
    "    # Find all the entities that descend from the model, i.e. the endpoint\n",
    "    direction=LineageQueryDirectionEnum.DESCENDANTS,\n",
    "    include_edges=False,\n",
    ")\n",
    "\n",
    "associations = []\n",
    "for vertex in query_result.vertices:\n",
    "    associations.append(vertex.to_lineage_object().source.source_uri)\n",
    "\n",
    "query_result = LineageQuery(sagemaker_session).query(\n",
    "    start_arns=[model_artifact.artifact_arn],  # Model is the starting artifact\n",
    "    query_filter=query_filter,\n",
    "    # Find all the entities that ascend from the model, i.e. the datasets\n",
    "    direction=LineageQueryDirectionEnum.ASCENDANTS,\n",
    "    include_edges=False,\n",
    ")\n",
    "\n",
    "for vertex in query_result.vertices:\n",
    "    associations.append(vertex.to_lineage_object().source.source_uri)\n",
    "\n",
    "pp.pprint(associations)"
   ]
  },
  {
   "cell_type": "markdown",
   "id": "2743a732",
   "metadata": {
    "papermill": {
     "duration": 0.065992,
     "end_time": "2022-03-23T18:59:31.629217",
     "exception": false,
     "start_time": "2022-03-23T18:59:31.563225",
     "status": "completed"
    },
    "tags": []
   },
   "source": [
    "#### Using LineageQueryDirectionEnum.BOTH\n",
    "\n",
    "When the direction is set to `BOTH`, when the query traverses the graph to find ascendant and descendant relationships, the traversal will take place not only from the starting node, but from each node that is visited. \n",
    "\n",
    "e.g. If the training job is run twice and both models generated by the training job are deployed to endpoints, this result of the query with direction set to `BOTH` will show both endpoints. This is because the same image is used for training and deploying the model. Since the image is common to the model (`start_arn`) and both the endpoints, it will appear in the query result. "
   ]
  },
  {
   "cell_type": "code",
   "execution_count": 23,
   "id": "cf00313a",
   "metadata": {
    "execution": {
     "iopub.execute_input": "2022-03-23T18:59:31.762345Z",
     "iopub.status.busy": "2022-03-23T18:59:31.761835Z",
     "iopub.status.idle": "2022-03-23T18:59:31.972163Z",
     "shell.execute_reply": "2022-03-23T18:59:31.972570Z"
    },
    "papermill": {
     "duration": 0.280546,
     "end_time": "2022-03-23T18:59:31.972709",
     "exception": false,
     "start_time": "2022-03-23T18:59:31.692163",
     "status": "completed"
    },
    "tags": []
   },
   "outputs": [
    {
     "name": "stdout",
     "output_type": "stream",
     "text": [
      "['s3://sagemaker-us-west-2--000000000000/experiments-demo/train.csv',\n",
      " 's3://sagemaker-us-west-2--000000000000/experiments-demo/validation.csv']\n"
     ]
    }
   ],
   "source": [
    "query_filter = LineageFilter(\n",
    "    entities=[LineageEntityEnum.ARTIFACT],\n",
    "    sources=[LineageSourceEnum.ENDPOINT, LineageSourceEnum.DATASET],\n",
    ")\n",
    "\n",
    "query_result = LineageQuery(sagemaker_session).query(\n",
    "    start_arns=[model_artifact.artifact_arn],  # Model is the starting artifact\n",
    "    query_filter=query_filter,\n",
    "    # This specifies that the query should look for associations both ascending and descending for the start\n",
    "    direction=LineageQueryDirectionEnum.BOTH,\n",
    "    include_edges=False,\n",
    ")\n",
    "\n",
    "associations = []\n",
    "for vertex in query_result.vertices:\n",
    "    associations.append(vertex.to_lineage_object().source.source_uri)\n",
    "\n",
    "pp.pprint(associations)"
   ]
  },
  {
   "cell_type": "markdown",
   "id": "597a7f57",
   "metadata": {
    "papermill": {
     "duration": 0.063887,
     "end_time": "2022-03-23T18:59:32.100658",
     "exception": false,
     "start_time": "2022-03-23T18:59:32.036771",
     "status": "completed"
    },
    "tags": []
   },
   "source": [
    "### Directions in `LineageQuery` - `ASCENDANTS` vs. `DESCENDANTS`\n",
    "\n",
    "To understand the direction in the Lineage Graph, take the following entity relationship graph - \n",
    "Dataset -> Training Job -> Model -> Endpoint\n",
    "\n",
    "The endpoint is a **descendant** of the model, and the model is a **descendant** of the dataset. Similarly, the model is an **ascendant** of the endpoint The `direction` parameter can be used to specify whether the query should return entities that are descendants or ascendants of the entity in start_arns. If `start_arns` contains a model and the direction is `DESCENDANTS`, the query will return the endpoint. If the direction is `ASCENDANTS`, the query will return the dataset.\""
   ]
  },
  {
   "cell_type": "code",
   "execution_count": 24,
   "id": "c3eccf34",
   "metadata": {
    "execution": {
     "iopub.execute_input": "2022-03-23T18:59:32.237163Z",
     "iopub.status.busy": "2022-03-23T18:59:32.236557Z",
     "iopub.status.idle": "2022-03-23T18:59:32.569722Z",
     "shell.execute_reply": "2022-03-23T18:59:32.570143Z"
    },
    "papermill": {
     "duration": 0.406408,
     "end_time": "2022-03-23T18:59:32.570285",
     "exception": false,
     "start_time": "2022-03-23T18:59:32.163877",
     "status": "completed"
    },
    "tags": []
   },
   "outputs": [
    {
     "name": "stdout",
     "output_type": "stream",
     "text": [
      "Ascendant artifacts : \n",
      "['s3://sagemaker-us-west-2--000000000000/experiments-demo/train.csv',\n",
      " 's3://sagemaker-us-west-2--000000000000/experiments-demo/validation.csv',\n",
      " 's3://sagemaker-us-west-2--000000000000/multihop-example/xgb_model/sagemaker-xgboost-2022-03-23-18-53-13-456/output/model.tar.gz']\n",
      "Descendant artifacts : \n",
      "[]\n"
     ]
    }
   ],
   "source": [
    "# In this example, we'll look at the impact of specifying the direction as ASCENDANT or DESCENDANT in a `LineageQuery`.\n",
    "\n",
    "query_filter = LineageFilter(\n",
    "    entities=[LineageEntityEnum.ARTIFACT],\n",
    "    sources=[\n",
    "        LineageSourceEnum.ENDPOINT,\n",
    "        LineageSourceEnum.MODEL,\n",
    "        LineageSourceEnum.DATASET,\n",
    "        LineageSourceEnum.TRAINING_JOB,\n",
    "    ],\n",
    ")\n",
    "\n",
    "query_result = LineageQuery(sagemaker_session).query(\n",
    "    start_arns=[model_artifact.artifact_arn],\n",
    "    query_filter=query_filter,\n",
    "    direction=LineageQueryDirectionEnum.ASCENDANTS,\n",
    "    include_edges=False,\n",
    ")\n",
    "\n",
    "ascendant_artifacts = []\n",
    "\n",
    "# The lineage entity returned for the Training Job is a TrialComponent which can't be converted to a\n",
    "# lineage object using the method `to_lineage_object()` so we extract the TrialComponent ARN.\n",
    "for vertex in query_result.vertices:\n",
    "    try:\n",
    "        ascendant_artifacts.append(vertex.to_lineage_object().source.source_uri)\n",
    "    except:\n",
    "        ascendant_artifacts.append(vertex.arn)\n",
    "\n",
    "print(\"Ascendant artifacts : \")\n",
    "pp.pprint(ascendant_artifacts)\n",
    "\n",
    "query_result = LineageQuery(sagemaker_session).query(\n",
    "    start_arns=[model_artifact.artifact_arn],\n",
    "    query_filter=query_filter,\n",
    "    direction=LineageQueryDirectionEnum.DESCENDANTS,\n",
    "    include_edges=False,\n",
    ")\n",
    "\n",
    "descendant_artifacts = []\n",
    "for vertex in query_result.vertices:\n",
    "    try:\n",
    "        descendant_artifacts.append(vertex.to_lineage_object().source.source_uri)\n",
    "    except:\n",
    "        # Handling TrialComponents.\n",
    "        descendant_artifacts.append(vertex.arn)\n",
    "\n",
    "print(\"Descendant artifacts : \")\n",
    "pp.pprint(descendant_artifacts)"
   ]
  },
  {
   "cell_type": "markdown",
   "id": "6d1f3d18",
   "metadata": {
    "papermill": {
     "duration": 0.063492,
     "end_time": "2022-03-23T18:59:32.697887",
     "exception": false,
     "start_time": "2022-03-23T18:59:32.634395",
     "status": "completed"
    },
    "tags": []
   },
   "source": [
    "### SDK helper Functions\n",
    "\n",
    "The classes `EndpointContext`, `ModelArtifact`, and `DatasetArtifact`have helper functions that are wrappers over the `LineageQuery` API to make \n",
    "certain lineage queries easier to leverage. "
   ]
  },
  {
   "cell_type": "code",
   "execution_count": 25,
   "id": "47fdd9a8",
   "metadata": {
    "execution": {
     "iopub.execute_input": "2022-03-23T18:59:32.832615Z",
     "iopub.status.busy": "2022-03-23T18:59:32.832051Z",
     "iopub.status.idle": "2022-03-23T18:59:33.368564Z",
     "shell.execute_reply": "2022-03-23T18:59:33.369017Z"
    },
    "papermill": {
     "duration": 0.607728,
     "end_time": "2022-03-23T18:59:33.369166",
     "exception": false,
     "start_time": "2022-03-23T18:59:32.761438",
     "status": "completed"
    },
    "tags": []
   },
   "outputs": [
    {
     "name": "stdout",
     "output_type": "stream",
     "text": [
      "Datasets :  ['s3://sagemaker-us-west-2--000000000000/experiments-demo/train.csv', 's3://sagemaker-us-west-2--000000000000/experiments-demo/validation.csv']\n",
      "Training Jobs :  ['arn:aws:sagemaker:us-west-2:000000000000:training-job/sagemaker-xgboost-2022-03-23-18-53-13-456']\n"
     ]
    }
   ],
   "source": [
    "# Find all the datasets associated with this endpoint\n",
    "\n",
    "datasets = []\n",
    "dataset_artifacts = endpoint_context.dataset_artifacts()\n",
    "for dataset in dataset_artifacts:\n",
    "    datasets.append(dataset.source.source_uri)\n",
    "print(\"Datasets : \", datasets)\n",
    "\n",
    "# Find the training jobs associated with the endpoint\n",
    "training_job_artifacts = endpoint_context.training_job_arns()\n",
    "training_jobs = []\n",
    "for training_job in training_job_artifacts:\n",
    "    training_jobs.append(training_job)\n",
    "print(\"Training Jobs : \", training_jobs)\n",
    "\n",
    "# Get the ARN for the pipeline execution associated with this endpoint (if any)\n",
    "pipeline_executions = endpoint_context.pipeline_execution_arn()\n",
    "if pipeline_executions:\n",
    "    for pipeline in pipelines_executions:\n",
    "        print(pipeline)"
   ]
  },
  {
   "cell_type": "code",
   "execution_count": 26,
   "id": "153457ae",
   "metadata": {
    "execution": {
     "iopub.execute_input": "2022-03-23T18:59:33.506411Z",
     "iopub.status.busy": "2022-03-23T18:59:33.505889Z",
     "iopub.status.idle": "2022-03-23T18:59:33.835792Z",
     "shell.execute_reply": "2022-03-23T18:59:33.836194Z"
    },
    "papermill": {
     "duration": 0.401856,
     "end_time": "2022-03-23T18:59:33.836339",
     "exception": false,
     "start_time": "2022-03-23T18:59:33.434483",
     "status": "completed"
    },
    "tags": []
   },
   "outputs": [
    {
     "name": "stdout",
     "output_type": "stream",
     "text": [
      "Datasets associated with this model : \n",
      "['s3://sagemaker-us-west-2--000000000000/experiments-demo/train.csv',\n",
      " 's3://sagemaker-us-west-2--000000000000/experiments-demo/validation.csv']\n",
      "Endpoints associated with this model : \n",
      "['arn:aws:sagemaker:us-west-2:000000000000:endpoint/lineage-test-endpoint-1648061590']\n"
     ]
    }
   ],
   "source": [
    "# Here we use the `ModelArtifact` class to find all the datasets and endpoints associated with the model\n",
    "\n",
    "dataset_artifacts = model_artifact.dataset_artifacts()\n",
    "endpoint_contexts = model_artifact.endpoint_contexts()\n",
    "\n",
    "datasets = [dataset.source.source_uri for dataset in dataset_artifacts]\n",
    "endpoints = [endpoint.source.source_uri for endpoint in endpoint_contexts]\n",
    "\n",
    "print(\"Datasets associated with this model : \")\n",
    "pp.pprint(datasets)\n",
    "\n",
    "print(\"Endpoints associated with this model : \")\n",
    "pp.pprint(endpoints)"
   ]
  },
  {
   "cell_type": "code",
   "execution_count": 27,
   "id": "4503ed68",
   "metadata": {
    "execution": {
     "iopub.execute_input": "2022-03-23T18:59:33.977094Z",
     "iopub.status.busy": "2022-03-23T18:59:33.976263Z",
     "iopub.status.idle": "2022-03-23T18:59:34.526591Z",
     "shell.execute_reply": "2022-03-23T18:59:34.526071Z"
    },
    "papermill": {
     "duration": 0.624689,
     "end_time": "2022-03-23T18:59:34.526708",
     "exception": false,
     "start_time": "2022-03-23T18:59:33.902019",
     "status": "completed"
    },
    "tags": []
   },
   "outputs": [
    {
     "name": "stdout",
     "output_type": "stream",
     "text": [
      "Endpoints associated with the training dataset s3://sagemaker-us-west-2--000000000000/experiments-demo/train.csv\n",
      "['arn:aws:sagemaker:us-west-2:000000000000:endpoint/lineage-test-endpoint-1638836105',\n",
      " 'arn:aws:sagemaker:us-west-2:000000000000:endpoint/lineage-test-endpoint-1639181910',\n",
      " 'arn:aws:sagemaker:us-west-2:000000000000:endpoint/lineage-test-endpoint-1648061590',\n",
      " 'arn:aws:sagemaker:us-west-2:000000000000:endpoint/lineage-test-endpoint-1638576916',\n",
      " 'arn:aws:sagemaker:us-west-2:000000000000:endpoint/lineage-test-endpoint-1638749736',\n",
      " 'arn:aws:sagemaker:us-west-2:000000000000:endpoint/lineage-test-endpoint-1639008846']\n"
     ]
    }
   ],
   "source": [
    "# Here we use the `DatasetArtifact` class to find all the endpoints hosting models that were trained with a particular dataset\n",
    "# Find the artifact associated with the dataset\n",
    "\n",
    "dataset_artifact_arn = list(Artifact.list(source_uri=training_data))[0].artifact_arn\n",
    "dataset_artifact = DatasetArtifact.load(artifact_arn=dataset_artifact_arn)\n",
    "\n",
    "# Find the endpoints that used this training dataset\n",
    "endpoint_contexts = dataset_artifact.endpoint_contexts()\n",
    "endpoints = [endpoint.source.source_uri for endpoint in endpoint_contexts]\n",
    "\n",
    "print(\"Endpoints associated with the training dataset {}\".format(training_data))\n",
    "pp.pprint(endpoints)"
   ]
  },
  {
   "cell_type": "markdown",
   "id": "02b3d7ba",
   "metadata": {
    "papermill": {
     "duration": 0.06755,
     "end_time": "2022-03-23T18:59:34.660116",
     "exception": false,
     "start_time": "2022-03-23T18:59:34.592566",
     "status": "completed"
    },
    "tags": []
   },
   "source": [
    "### Lineage Graph Visualization\n",
    "\n",
    "A helper class `Visualizer()` is provided in `visualizer.py` to help plot the lineage graph. When the query response is rendered, a graph with the lineage relationships from the `StartArns` will be displayed. From the `StartArns` the visualization will show the relationships with the other lineage entities returned in the `query_lineage` API call. "
   ]
  },
  {
   "cell_type": "code",
   "execution_count": 28,
   "id": "f4887a75",
   "metadata": {
    "execution": {
     "iopub.execute_input": "2022-03-23T18:59:34.795557Z",
     "iopub.status.busy": "2022-03-23T18:59:34.795025Z",
     "iopub.status.idle": "2022-03-23T18:59:35.134607Z",
     "shell.execute_reply": "2022-03-23T18:59:35.135035Z"
    },
    "papermill": {
     "duration": 0.409727,
     "end_time": "2022-03-23T18:59:35.135180",
     "exception": false,
     "start_time": "2022-03-23T18:59:34.725453",
     "status": "completed"
    },
    "tags": []
   },
   "outputs": [
    {
     "data": {
      "text/html": [
       "\n",
       "        <iframe\n",
       "            width=\"800px\"\n",
       "            height=\"400px\"\n",
       "            src=\"generated/Endpoint.html\"\n",
       "            frameborder=\"0\"\n",
       "            allowfullscreen\n",
       "            \n",
       "        ></iframe>\n",
       "        "
      ],
      "text/plain": [
       "<IPython.lib.display.IFrame at 0x7f7cbe865b90>"
      ]
     },
     "execution_count": 28,
     "metadata": {},
     "output_type": "execute_result"
    }
   ],
   "source": [
    "# Graph APIs\n",
    "# Here we use the boto3 `query_lineage` API to generate the query response to plot.\n",
    "\n",
    "from visualizer import Visualizer\n",
    "\n",
    "query_response = sm_client.query_lineage(\n",
    "    StartArns=[endpoint_context.context_arn], Direction=\"Ascendants\", IncludeEdges=True\n",
    ")\n",
    "\n",
    "viz = Visualizer()\n",
    "viz.render(query_response, \"Endpoint\")"
   ]
  },
  {
   "cell_type": "code",
   "execution_count": 29,
   "id": "e17ae7d4",
   "metadata": {
    "execution": {
     "iopub.execute_input": "2022-03-23T18:59:35.274548Z",
     "iopub.status.busy": "2022-03-23T18:59:35.273774Z",
     "iopub.status.idle": "2022-03-23T18:59:35.428430Z",
     "shell.execute_reply": "2022-03-23T18:59:35.427927Z"
    },
    "papermill": {
     "duration": 0.227583,
     "end_time": "2022-03-23T18:59:35.428538",
     "exception": false,
     "start_time": "2022-03-23T18:59:35.200955",
     "status": "completed"
    },
    "tags": []
   },
   "outputs": [
    {
     "data": {
      "text/html": [
       "\n",
       "        <iframe\n",
       "            width=\"800px\"\n",
       "            height=\"400px\"\n",
       "            src=\"generated/Model.html\"\n",
       "            frameborder=\"0\"\n",
       "            allowfullscreen\n",
       "            \n",
       "        ></iframe>\n",
       "        "
      ],
      "text/plain": [
       "<IPython.lib.display.IFrame at 0x7f7cbe7f4510>"
      ]
     },
     "execution_count": 29,
     "metadata": {},
     "output_type": "execute_result"
    }
   ],
   "source": [
    "query_response = sm_client.query_lineage(\n",
    "    StartArns=[model_artifact.artifact_arn], Direction=\"Ascendants\", IncludeEdges=True\n",
    ")\n",
    "viz.render(query_response, \"Model\")"
   ]
  },
  {
   "cell_type": "markdown",
   "id": "edb1fdbf",
   "metadata": {
    "papermill": {
     "duration": 0.065826,
     "end_time": "2022-03-23T18:59:35.560236",
     "exception": false,
     "start_time": "2022-03-23T18:59:35.494410",
     "status": "completed"
    },
    "tags": []
   },
   "source": [
    "#### Conclusion\n",
    "\n",
    "This notebook demostrated the capabilities of SageMaker Lineage that make it easy for users to keep track of their complex ML workflows. Users can construct their own lineage queries using the `LineageQuery` API and `LineageFilter` or they can use the functions provided on the `EndpointContext`, `ModelArtifact`, and `DatasetArtifact` classes. \n",
    "\n",
    "In addition, the responses from lineage queries can be plotting using the helper class `Visualizer()` to better understand the relationship between the lineage entities. \n",
    "\n",
    "When using SageMaker Pipelines as part of their ML workflows, users can find Pipeline execution ARNs using the lineage APIs described in this notebook.\n",
    "\n",
    "### Cleanup\n",
    "In this section we will cleanup the resources created in this notebook."
   ]
  },
  {
   "cell_type": "code",
   "execution_count": 30,
   "id": "eaae5e03",
   "metadata": {
    "execution": {
     "iopub.execute_input": "2022-03-23T18:59:35.698533Z",
     "iopub.status.busy": "2022-03-23T18:59:35.697897Z",
     "iopub.status.idle": "2022-03-23T18:59:35.907006Z",
     "shell.execute_reply": "2022-03-23T18:59:35.907400Z"
    },
    "papermill": {
     "duration": 0.281107,
     "end_time": "2022-03-23T18:59:35.907538",
     "exception": false,
     "start_time": "2022-03-23T18:59:35.626431",
     "status": "completed"
    },
    "tags": []
   },
   "outputs": [
    {
     "data": {
      "text/plain": [
       "{'ResponseMetadata': {'RequestId': 'dd5f5c0a-ba56-4295-8f60-8f7af23530a9',\n",
       "  'HTTPStatusCode': 200,\n",
       "  'HTTPHeaders': {'x-amzn-requestid': 'dd5f5c0a-ba56-4295-8f60-8f7af23530a9',\n",
       "   'content-type': 'application/x-amz-json-1.1',\n",
       "   'content-length': '0',\n",
       "   'date': 'Wed, 23 Mar 2022 18:59:35 GMT'},\n",
       "  'RetryAttempts': 0}}"
      ]
     },
     "execution_count": 30,
     "metadata": {},
     "output_type": "execute_result"
    }
   ],
   "source": [
    "# Delete endpoint\n",
    "\n",
    "sm_client.delete_endpoint(EndpointName=endpoint_name)\n",
    "\n",
    "# # Delete the model package\n",
    "sm_client.delete_model_package(ModelPackageName=model_package.model_package_arn)\n",
    "\n",
    "# Delete the model package group\n",
    "sm_client.delete_model_package_group(ModelPackageGroupName=model_package_group_name)"
   ]
  },
  {
   "cell_type": "code",
   "execution_count": 31,
   "id": "00216b8e",
   "metadata": {
    "execution": {
     "iopub.execute_input": "2022-03-23T18:59:36.056505Z",
     "iopub.status.busy": "2022-03-23T18:59:36.055736Z",
     "iopub.status.idle": "2022-03-23T18:59:37.133158Z",
     "shell.execute_reply": "2022-03-23T18:59:37.133580Z"
    },
    "papermill": {
     "duration": 1.159349,
     "end_time": "2022-03-23T18:59:37.133724",
     "exception": false,
     "start_time": "2022-03-23T18:59:35.974375",
     "status": "completed"
    },
    "tags": []
   },
   "outputs": [
    {
     "name": "stdout",
     "output_type": "stream",
     "text": [
      "\n",
      "Experiment MultihopQueryExperiment-1648061590 deleted\n"
     ]
    }
   ],
   "source": [
    "# Delete the experiment and trial within it\n",
    "\n",
    "import time\n",
    "\n",
    "\n",
    "def delete_experiment(experiment):\n",
    "    for trial_summary in experiment.list_trials():\n",
    "        trial = Trial.load(trial_name=trial_summary.trial_name)\n",
    "        for trial_component_summary in trial.list_trial_components():\n",
    "            tc = TrialComponent.load(\n",
    "                trial_component_name=trial_component_summary.trial_component_name\n",
    "            )\n",
    "            trial.remove_trial_component(tc)\n",
    "            try:\n",
    "                # comment out to keep trial components\n",
    "                tc.delete()\n",
    "            except:\n",
    "                # tc is associated with another trial\n",
    "                continue\n",
    "            # to prevent throttling\n",
    "            time.sleep(0.5)\n",
    "        trial.delete()\n",
    "        experiment_name = experiment.experiment_name\n",
    "    experiment.delete()\n",
    "    print(f\"\\nExperiment {experiment_name} deleted\")\n",
    "\n",
    "\n",
    "# Delete the Experiment and Trials within it\n",
    "experiment = Experiment.load(experiment_name=exp.experiment_name)\n",
    "delete_experiment(experiment)"
   ]
  }
 ],
 "metadata": {
  "instance_type": "ml.t3.medium",
  "interpreter": {
   "hash": "ac2eaa0ea0ebeafcc7822e65e46aa9d4f966f30b695406963e145ea4a91cd4fc"
  },
  "kernelspec": {
   "display_name": "conda_amazonei_tensorflow_p36",
   "language": "python",
   "name": "conda_amazonei_tensorflow_p36"
  },
  "language_info": {
   "codemirror_mode": {
    "name": "ipython",
    "version": 3
   },
   "file_extension": ".py",
   "mimetype": "text/x-python",
   "name": "python",
   "nbconvert_exporter": "python",
   "pygments_lexer": "ipython3",
   "version": "3.7.10"
  },
  "papermill": {
   "default_parameters": {},
   "duration": 442.48921,
   "end_time": "2022-03-23T18:59:37.617608",
   "environment_variables": {},
   "exception": null,
   "input_path": "sagemaker-lineage-multihop-queries.ipynb",
   "output_path": "/opt/ml/processing/output/sagemaker-lineage-multihop-queries-2022-03-23-18-47-51.ipynb",
   "parameters": {
    "kms_key": "arn:aws:kms:us-west-2:000000000000:1234abcd-12ab-34cd-56ef-1234567890ab"
   },
   "start_time": "2022-03-23T18:52:15.128398",
   "version": "2.3.4"
  }
 },
 "nbformat": 4,
 "nbformat_minor": 5
}