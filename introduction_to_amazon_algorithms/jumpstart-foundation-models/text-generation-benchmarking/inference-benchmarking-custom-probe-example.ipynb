{
 "cells": [
  {
   "cell_type": "code",
   "execution_count": null,
   "metadata": {},
   "outputs": [],
   "source": [
    "%load_ext autoreload\n",
    "%autoreload 2"
   ]
  },
  {
   "cell_type": "code",
   "execution_count": null,
   "metadata": {},
   "outputs": [],
   "source": [
    "from benchmarking.payload import create_test_payload\n",
    "\n",
    "\n",
    "PAYLOADS = {\n",
    "    \"input_128_output_128\": create_test_payload(input_words=128, output_tokens=128),\n",
    "}\n",
    "\n",
    "MODELS = {\n",
    "    \"falcon-7b-jumpstart\": {\n",
    "        \"jumpstart_model_specs\": {\"model_args\": {\"model_id\": \"huggingface-llm-falcon-7b-bf16\"}},\n",
    "        \"huggingface_model_id\": \"tiiuae/falcon-7b\",\n",
    "    },\n",
    "}"
   ]
  },
  {
   "cell_type": "code",
   "execution_count": null,
   "metadata": {},
   "outputs": [],
   "source": [
    "from benchmarking.concurrency_probe import ConcurrentProbeIteratorBase\n",
    "\n",
    "\n",
    "class ConcurrentProbeExponentialScalingIterator(ConcurrentProbeIteratorBase):\n",
    "    \"\"\"A custom concurrency probe iterator to explore concurrent request multiples of 25.\"\"\"\n",
    "\n",
    "    def __iter__(self):\n",
    "        self.concurrent_requests = 25\n",
    "        self.increment_value = 25\n",
    "        self.max_latency_seconds = 25.\n",
    "        return self\n",
    "    \n",
    "    def __next__(self) -> int:\n",
    "        if self.exception is not None:\n",
    "            self.stop_reason = f\"Error occured: {self.exception}\"\n",
    "            raise StopIteration\n",
    "\n",
    "        if self.result is None:\n",
    "            return self.concurrent_requests\n",
    "        \n",
    "        last_latency_seconds = self.result[\"Latency\"][\"p90\"] / 1e3\n",
    "        if (last_latency_seconds > self.max_latency_seconds):\n",
    "            self.stop_reason = f\"Last p90 latency = {last_latency_seconds} > {self.max_latency_seconds}.\"\n",
    "            raise StopIteration\n",
    "        \n",
    "        self.concurrent_requests = self.concurrent_requests + self.increment_value\n",
    "        return self.concurrent_requests\n",
    "\n",
    "\n",
    "def num_invocation_scaler_with_minimum(concurrent_requests: int) -> int:\n",
    "    return min(concurrent_requests * 3, 200)\n",
    "\n",
    "def num_invocation_time_estimate(concurrent_requests: int) -> int:\n",
    "    time_per_request_seconds = 10\n",
    "    total_time_seconds = 300\n",
    "    return int(total_time_seconds / time_per_request_seconds * concurrent_requests)\n"
   ]
  },
  {
   "cell_type": "code",
   "execution_count": null,
   "metadata": {},
   "outputs": [],
   "source": [
    "from benchmarking.runner import Benchmarker\n",
    "\n",
    "\n",
    "benchmarker = Benchmarker(\n",
    "    payloads=PAYLOADS,\n",
    "    run_concurrency_probe=True,\n",
    "    concurrency_probe_concurrent_request_iterator_cls=ConcurrentProbeExponentialScalingIterator,\n",
    "    concurrency_probe_num_invocation_hook=num_invocation_scaler_with_minimum,\n",
    ")\n",
    "metrics = benchmarker.run_multiple_models(models=MODELS)"
   ]
  },
  {
   "cell_type": "code",
   "execution_count": null,
   "metadata": {},
   "outputs": [],
   "source": [
    "import pandas as pd\n",
    "from benchmarking.runner import Benchmarker\n",
    "\n",
    "\n",
    "df = Benchmarker.load_metrics_pandas()\n",
    "df_pivot = Benchmarker.create_concurrency_probe_pivot_table(df)\n",
    "\n",
    "pd.set_option('display.max_columns', None)\n",
    "pd.set_option(\"display.max_colwidth\", 0)\n",
    "pd.set_option(\"display.max_rows\", 500)\n",
    "display(df_pivot)"
   ]
  }
 ],
 "metadata": {
  "kernelspec": {
   "display_name": "sagemaker-model-hub",
   "language": "python",
   "name": "python3"
  },
  "language_info": {
   "codemirror_mode": {
    "name": "ipython",
    "version": 3
   },
   "file_extension": ".py",
   "mimetype": "text/x-python",
   "name": "python",
   "nbconvert_exporter": "python",
   "pygments_lexer": "ipython3",
   "version": "3.9.13"
  },
  "orig_nbformat": 4
 },
 "nbformat": 4,
 "nbformat_minor": 2
}
