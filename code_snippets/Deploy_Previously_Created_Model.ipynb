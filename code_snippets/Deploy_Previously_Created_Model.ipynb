{
 "cells": [
  {
   "cell_type": "markdown",
   "id": "threatened-lewis",
   "metadata": {
    "tags": [
     "papermill-error-cell-tag"
    ]
   },
   "source": [
    "<span style=\"color:red; font-family:Helvetica Neue, Helvetica, Arial, sans-serif; font-size:2em;\">An Exception was encountered at '<a href=\"#papermill-error-cell\">In [5]</a>'.</span>"
   ]
  },
  {
   "cell_type": "code",
   "execution_count": 1,
   "id": "accomplished-agreement",
   "metadata": {
    "execution": {
     "iopub.execute_input": "2021-05-27T00:06:10.966272Z",
     "iopub.status.busy": "2021-05-27T00:06:10.965808Z",
     "iopub.status.idle": "2021-05-27T00:06:10.967598Z",
     "shell.execute_reply": "2021-05-27T00:06:10.967949Z"
    },
    "papermill": {
     "duration": 0.01094,
     "end_time": "2021-05-27T00:06:10.968094",
     "exception": false,
     "start_time": "2021-05-27T00:06:10.957154",
     "status": "completed"
    },
    "tags": [
     "injected-parameters"
    ]
   },
   "outputs": [],
   "source": [
    "# Parameters\n",
    "kms_key = \"arn:aws:kms:us-west-2:521695447989:key/6e9984db-50cf-4c7e-926c-877ec47a8b25\"\n"
   ]
  },
  {
   "cell_type": "markdown",
   "id": "frozen-merchandise",
   "metadata": {
    "papermill": {
     "duration": 0.005028,
     "end_time": "2021-05-27T00:06:10.978386",
     "exception": false,
     "start_time": "2021-05-27T00:06:10.973358",
     "status": "completed"
    },
    "tags": []
   },
   "source": [
    "# Deploy a previously created model in SageMaker"
   ]
  },
  {
   "cell_type": "markdown",
   "id": "revolutionary-armstrong",
   "metadata": {
    "papermill": {
     "duration": 0.004853,
     "end_time": "2021-05-27T00:06:10.988215",
     "exception": false,
     "start_time": "2021-05-27T00:06:10.983362",
     "status": "completed"
    },
    "tags": []
   },
   "source": [
    "Sagemaker decouples model creation/fitting and model deployment. **This short notebook shows how you can deploy a model that you have already created**. It is assumed that you have already created the model and it appears in the `Models` section of the SageMaker console. Obviously, before you deploy a model the model must exist, so please go back and make sure you have already fit/created the model before proceeding. \n",
    "For more information about deploying models, see https://docs.aws.amazon.com/sagemaker/latest/dg/ex1-deploy-model.html "
   ]
  },
  {
   "cell_type": "code",
   "execution_count": 2,
   "id": "earned-catalog",
   "metadata": {
    "execution": {
     "iopub.execute_input": "2021-05-27T00:06:11.001292Z",
     "iopub.status.busy": "2021-05-27T00:06:11.000827Z",
     "iopub.status.idle": "2021-05-27T00:06:11.091564Z",
     "shell.execute_reply": "2021-05-27T00:06:11.091158Z"
    },
    "papermill": {
     "duration": 0.09856,
     "end_time": "2021-05-27T00:06:11.091669",
     "exception": false,
     "start_time": "2021-05-27T00:06:10.993109",
     "status": "completed"
    },
    "tags": []
   },
   "outputs": [],
   "source": [
    "import boto3\n",
    "from time import gmtime, strftime"
   ]
  },
  {
   "cell_type": "code",
   "execution_count": 3,
   "id": "second-reduction",
   "metadata": {
    "execution": {
     "iopub.execute_input": "2021-05-27T00:06:11.112801Z",
     "iopub.status.busy": "2021-05-27T00:06:11.111786Z",
     "iopub.status.idle": "2021-05-27T00:06:11.151724Z",
     "shell.execute_reply": "2021-05-27T00:06:11.151324Z"
    },
    "papermill": {
     "duration": 0.054973,
     "end_time": "2021-05-27T00:06:11.151829",
     "exception": false,
     "start_time": "2021-05-27T00:06:11.096856",
     "status": "completed"
    },
    "tags": []
   },
   "outputs": [],
   "source": [
    "# configs for model, endpoint and batch transform\n",
    "model_name = (\n",
    "    \"ENTER MODEL NAME\"  # enter name of a model from the 'Model panel' in the AWS SageMaker console.\n",
    ")\n",
    "sm = boto3.client(\"sagemaker\")"
   ]
  },
  {
   "cell_type": "markdown",
   "id": "difficult-destiny",
   "metadata": {
    "papermill": {
     "duration": 0.005031,
     "end_time": "2021-05-27T00:06:11.162030",
     "exception": false,
     "start_time": "2021-05-27T00:06:11.156999",
     "status": "completed"
    },
    "tags": []
   },
   "source": [
    "## Deploy using an inference endpoint"
   ]
  },
  {
   "cell_type": "code",
   "execution_count": 4,
   "id": "proved-bosnia",
   "metadata": {
    "execution": {
     "iopub.execute_input": "2021-05-27T00:06:11.175270Z",
     "iopub.status.busy": "2021-05-27T00:06:11.174742Z",
     "iopub.status.idle": "2021-05-27T00:06:11.176854Z",
     "shell.execute_reply": "2021-05-27T00:06:11.176480Z"
    },
    "papermill": {
     "duration": 0.009972,
     "end_time": "2021-05-27T00:06:11.176947",
     "exception": false,
     "start_time": "2021-05-27T00:06:11.166975",
     "status": "completed"
    },
    "tags": []
   },
   "outputs": [],
   "source": [
    "# set endpoint name/config.\n",
    "endpoint_config_name = \"DEMO-model-config-\" + strftime(\"%Y-%m-%d-%H-%M-%S\", gmtime())\n",
    "endpoint_name = \"DEMO-model-config-\" + strftime(\"%Y-%m-%d-%H-%M-%S\", gmtime())"
   ]
  },
  {
   "cell_type": "markdown",
   "id": "prompt-pattern",
   "metadata": {
    "tags": [
     "papermill-error-cell-tag"
    ]
   },
   "source": [
    "<span id=\"papermill-error-cell\" style=\"color:red; font-family:Helvetica Neue, Helvetica, Arial, sans-serif; font-size:2em;\">Execution using papermill encountered an exception here and stopped:</span>"
   ]
  },
  {
   "cell_type": "code",
   "execution_count": 5,
   "id": "primary-globe",
   "metadata": {
    "execution": {
     "iopub.execute_input": "2021-05-27T00:06:11.193170Z",
     "iopub.status.busy": "2021-05-27T00:06:11.192697Z",
     "iopub.status.idle": "2021-05-27T00:06:11.270478Z",
     "shell.execute_reply": "2021-05-27T00:06:11.269750Z"
    },
    "papermill": {
     "duration": 0.088795,
     "end_time": "2021-05-27T00:06:11.270677",
     "exception": true,
     "start_time": "2021-05-27T00:06:11.181882",
     "status": "failed"
    },
    "tags": []
   },
   "outputs": [
    {
     "ename": "ClientError",
     "evalue": "An error occurred (ValidationException) when calling the CreateEndpointConfig operation: 1 validation error detected: Value 'ENTER MODEL NAME' at 'productionVariants.1.member.modelName' failed to satisfy constraint: Member must satisfy regular expression pattern: ^[a-zA-Z0-9](-*[a-zA-Z0-9])*",
     "output_type": "error",
     "traceback": [
      "\u001b[0;31m---------------------------------------------------------------------------\u001b[0m",
      "\u001b[0;31mClientError\u001b[0m                               Traceback (most recent call last)",
      "\u001b[0;32m<ipython-input-5-ae5fa6a7ec19>\u001b[0m in \u001b[0;36m<module>\u001b[0;34m\u001b[0m\n\u001b[1;32m      7\u001b[0m             \u001b[0;34m\"InitialInstanceCount\"\u001b[0m\u001b[0;34m:\u001b[0m \u001b[0;36m1\u001b[0m\u001b[0;34m,\u001b[0m\u001b[0;34m\u001b[0m\u001b[0;34m\u001b[0m\u001b[0m\n\u001b[1;32m      8\u001b[0m             \u001b[0;34m\"ModelName\"\u001b[0m\u001b[0;34m:\u001b[0m \u001b[0mmodel_name\u001b[0m\u001b[0;34m,\u001b[0m\u001b[0;34m\u001b[0m\u001b[0;34m\u001b[0m\u001b[0m\n\u001b[0;32m----> 9\u001b[0;31m             \u001b[0;34m\"VariantName\"\u001b[0m\u001b[0;34m:\u001b[0m \u001b[0;34m\"AllTraffic\"\u001b[0m\u001b[0;34m,\u001b[0m\u001b[0;34m\u001b[0m\u001b[0;34m\u001b[0m\u001b[0m\n\u001b[0m\u001b[1;32m     10\u001b[0m         }\n\u001b[1;32m     11\u001b[0m     ],\n",
      "\u001b[0;32m/opt/conda/lib/python3.7/site-packages/botocore/client.py\u001b[0m in \u001b[0;36m_api_call\u001b[0;34m(self, *args, **kwargs)\u001b[0m\n\u001b[1;32m    355\u001b[0m                     \"%s() only accepts keyword arguments.\" % py_operation_name)\n\u001b[1;32m    356\u001b[0m             \u001b[0;31m# The \"self\" in this scope is referring to the BaseClient.\u001b[0m\u001b[0;34m\u001b[0m\u001b[0;34m\u001b[0m\u001b[0;34m\u001b[0m\u001b[0m\n\u001b[0;32m--> 357\u001b[0;31m             \u001b[0;32mreturn\u001b[0m \u001b[0mself\u001b[0m\u001b[0;34m.\u001b[0m\u001b[0m_make_api_call\u001b[0m\u001b[0;34m(\u001b[0m\u001b[0moperation_name\u001b[0m\u001b[0;34m,\u001b[0m \u001b[0mkwargs\u001b[0m\u001b[0;34m)\u001b[0m\u001b[0;34m\u001b[0m\u001b[0;34m\u001b[0m\u001b[0m\n\u001b[0m\u001b[1;32m    358\u001b[0m \u001b[0;34m\u001b[0m\u001b[0m\n\u001b[1;32m    359\u001b[0m         \u001b[0m_api_call\u001b[0m\u001b[0;34m.\u001b[0m\u001b[0m__name__\u001b[0m \u001b[0;34m=\u001b[0m \u001b[0mstr\u001b[0m\u001b[0;34m(\u001b[0m\u001b[0mpy_operation_name\u001b[0m\u001b[0;34m)\u001b[0m\u001b[0;34m\u001b[0m\u001b[0;34m\u001b[0m\u001b[0m\n",
      "\u001b[0;32m/opt/conda/lib/python3.7/site-packages/botocore/client.py\u001b[0m in \u001b[0;36m_make_api_call\u001b[0;34m(self, operation_name, api_params)\u001b[0m\n\u001b[1;32m    674\u001b[0m             \u001b[0merror_code\u001b[0m \u001b[0;34m=\u001b[0m \u001b[0mparsed_response\u001b[0m\u001b[0;34m.\u001b[0m\u001b[0mget\u001b[0m\u001b[0;34m(\u001b[0m\u001b[0;34m\"Error\"\u001b[0m\u001b[0;34m,\u001b[0m \u001b[0;34m{\u001b[0m\u001b[0;34m}\u001b[0m\u001b[0;34m)\u001b[0m\u001b[0;34m.\u001b[0m\u001b[0mget\u001b[0m\u001b[0;34m(\u001b[0m\u001b[0;34m\"Code\"\u001b[0m\u001b[0;34m)\u001b[0m\u001b[0;34m\u001b[0m\u001b[0;34m\u001b[0m\u001b[0m\n\u001b[1;32m    675\u001b[0m             \u001b[0merror_class\u001b[0m \u001b[0;34m=\u001b[0m \u001b[0mself\u001b[0m\u001b[0;34m.\u001b[0m\u001b[0mexceptions\u001b[0m\u001b[0;34m.\u001b[0m\u001b[0mfrom_code\u001b[0m\u001b[0;34m(\u001b[0m\u001b[0merror_code\u001b[0m\u001b[0;34m)\u001b[0m\u001b[0;34m\u001b[0m\u001b[0;34m\u001b[0m\u001b[0m\n\u001b[0;32m--> 676\u001b[0;31m             \u001b[0;32mraise\u001b[0m \u001b[0merror_class\u001b[0m\u001b[0;34m(\u001b[0m\u001b[0mparsed_response\u001b[0m\u001b[0;34m,\u001b[0m \u001b[0moperation_name\u001b[0m\u001b[0;34m)\u001b[0m\u001b[0;34m\u001b[0m\u001b[0;34m\u001b[0m\u001b[0m\n\u001b[0m\u001b[1;32m    677\u001b[0m         \u001b[0;32melse\u001b[0m\u001b[0;34m:\u001b[0m\u001b[0;34m\u001b[0m\u001b[0;34m\u001b[0m\u001b[0m\n\u001b[1;32m    678\u001b[0m             \u001b[0;32mreturn\u001b[0m \u001b[0mparsed_response\u001b[0m\u001b[0;34m\u001b[0m\u001b[0;34m\u001b[0m\u001b[0m\n",
      "\u001b[0;31mClientError\u001b[0m: An error occurred (ValidationException) when calling the CreateEndpointConfig operation: 1 validation error detected: Value 'ENTER MODEL NAME' at 'productionVariants.1.member.modelName' failed to satisfy constraint: Member must satisfy regular expression pattern: ^[a-zA-Z0-9](-*[a-zA-Z0-9])*"
     ]
    }
   ],
   "source": [
    "create_endpoint_config_response = sm.create_endpoint_config(\n",
    "    EndpointConfigName=endpoint_config_name,\n",
    "    ProductionVariants=[\n",
    "        {\n",
    "            \"InstanceType\": \"ml.m4.xlarge\",\n",
    "            \"InitialVariantWeight\": 1,\n",
    "            \"InitialInstanceCount\": 1,\n",
    "            \"ModelName\": model_name,\n",
    "            \"VariantName\": \"AllTraffic\",\n",
    "        }\n",
    "    ],\n",
    ")\n",
    "\n",
    "print(\"Endpoint Config Arn: \" + create_endpoint_config_response[\"EndpointConfigArn\"])\n",
    "\n",
    "\n",
    "create_endpoint_response = sm.create_endpoint(\n",
    "    EndpointName=endpoint_name, EndpointConfigName=endpoint_config_name\n",
    ")\n",
    "print(create_endpoint_response[\"EndpointArn\"])\n",
    "\n",
    "resp = sm.describe_endpoint(EndpointName=endpoint_name)\n",
    "status = resp[\"EndpointStatus\"]\n",
    "print(\"Status: \" + status)"
   ]
  },
  {
   "cell_type": "markdown",
   "id": "genuine-pitch",
   "metadata": {
    "papermill": {
     "duration": null,
     "end_time": null,
     "exception": null,
     "start_time": null,
     "status": "pending"
    },
    "tags": []
   },
   "source": [
    "If you go to the AWS SageMaker service console now, you should see that the endpoint creation is in progress."
   ]
  },
  {
   "cell_type": "markdown",
   "id": "clinical-algorithm",
   "metadata": {
    "papermill": {
     "duration": null,
     "end_time": null,
     "exception": null,
     "start_time": null,
     "status": "pending"
    },
    "tags": []
   },
   "source": [
    "## Deploy using a batch transform job\n",
    "\n",
    "A batch transform job should be used for when you want to create inferences on a dateset and then shut down the resources when inference is finished.  "
   ]
  },
  {
   "cell_type": "code",
   "execution_count": null,
   "id": "civic-pattern",
   "metadata": {
    "papermill": {
     "duration": null,
     "end_time": null,
     "exception": null,
     "start_time": null,
     "status": "pending"
    },
    "tags": []
   },
   "outputs": [],
   "source": [
    "# config for batch transform\n",
    "batch_job_name = \"ENTER_JOB_NAME\"\n",
    "output_location = \"ENDER_OUTPUT_LOCATION\"  # S3 bucket/location\n",
    "input_location = \"ENTER_INPUT_LOCATION\"  # S3 bucket/location"
   ]
  },
  {
   "cell_type": "code",
   "execution_count": null,
   "id": "white-movie",
   "metadata": {
    "papermill": {
     "duration": null,
     "end_time": null,
     "exception": null,
     "start_time": null,
     "status": "pending"
    },
    "tags": []
   },
   "outputs": [],
   "source": [
    "request = {\n",
    "    \"TransformJobName\": batch_job_name,\n",
    "    \"ModelName\": model_name,\n",
    "    \"TransformOutput\": {\n",
    "        \"S3OutputPath\": output_location,\n",
    "        \"Accept\": \"text/csv\",\n",
    "        \"AssembleWith\": \"Line\",\n",
    "    },\n",
    "    \"TransformInput\": {\n",
    "        \"DataSource\": {\"S3DataSource\": {\"S3DataType\": \"S3Prefix\", \"S3Uri\": input_location}},\n",
    "        \"ContentType\": \"text/csv\",\n",
    "        \"SplitType\": \"Line\",\n",
    "        \"CompressionType\": \"None\",\n",
    "    },\n",
    "    \"TransformResources\": {\n",
    "        \"InstanceType\": \"ml.m4.xlarge\",  # change this based on what resources you want to request\n",
    "        \"InstanceCount\": 1,\n",
    "    },\n",
    "}\n",
    "sm.create_transform_job(**request)"
   ]
  }
 ],
 "metadata": {
  "kernelspec": {
   "display_name": "Python 3",
   "language": "python",
   "name": "python3"
  },
  "language_info": {
   "codemirror_mode": {
    "name": "ipython",
    "version": 3
   },
   "file_extension": ".py",
   "mimetype": "text/x-python",
   "name": "python",
   "nbconvert_exporter": "python",
   "pygments_lexer": "ipython3",
   "version": "3.6.10"
  },
  "papermill": {
   "default_parameters": {},
   "duration": 1.5256,
   "end_time": "2021-05-27T00:06:11.676850",
   "environment_variables": {},
   "exception": true,
   "input_path": "Deploy_Previously_Created_Model.ipynb",
   "output_path": "/opt/ml/processing/output/Deploy_Previously_Created_Model-2021-05-27-00-02-10.ipynb",
   "parameters": {
    "kms_key": "arn:aws:kms:us-west-2:521695447989:key/6e9984db-50cf-4c7e-926c-877ec47a8b25"
   },
   "start_time": "2021-05-27T00:06:10.151250",
   "version": "2.3.3"
  }
 },
 "nbformat": 4,
 "nbformat_minor": 5
}
