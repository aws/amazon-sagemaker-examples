{
 "cells": [
  {
   "cell_type": "markdown",
   "id": "74cd3ea9",
   "metadata": {
    "papermill": {
     "duration": 0.008283,
     "end_time": "2021-06-03T00:15:02.024834",
     "exception": false,
     "start_time": "2021-06-03T00:15:02.016551",
     "status": "completed"
    },
    "tags": []
   },
   "source": [
    "# Hosting and Deployment of Pre-Trained Text Models using SageMaker Endpoint and BlazingText\n",
    "\n",
    "In this notebook, we demonstrate how BlazingText supports hosting of pre-trained Text Classification and Word2Vec models [FastText models](https://fasttext.cc/docs/en/english-vectors.html). BlazingText is a GPU accelerated version of FastText. FastText is a shallow Neural Network model used to perform both word embedding generation (unsupervised) and text classification (supervised). BlazingText uses custom CUDA kernels to accelerate the training process of FastText but the underlying algorithm is same for both the algorithms. Therefore, if you have a model trained with FastText or if one of the pre-trained models made available by FastText team is sufficient for your use case, then you can take advantage of Hosting support for BlazingText to setup SageMaker endpoints for realtime predictions using FastText models. It can help you avoid to train with BlazingText algorithm if your use-case is covered by the pre-trained models available from FastText."
   ]
  },
  {
   "cell_type": "markdown",
   "id": "753d08e4",
   "metadata": {
    "papermill": {
     "duration": 0.008171,
     "end_time": "2021-06-03T00:15:02.041173",
     "exception": false,
     "start_time": "2021-06-03T00:15:02.033002",
     "status": "completed"
    },
    "tags": []
   },
   "source": [
    "To start the proceedings, we will specify few of the important parameter like IAM Role and S3 bucket location which is required for SageMaker to facilitate model hosting. SageMaker Python SDK helps us to retrieve the IAM role and also helps you to operate easily with S3 resources. "
   ]
  },
  {
   "cell_type": "code",
   "execution_count": 1,
   "id": "ddfc6e8b",
   "metadata": {
    "execution": {
     "iopub.execute_input": "2021-06-03T00:15:02.061346Z",
     "iopub.status.busy": "2021-06-03T00:15:02.060859Z",
     "iopub.status.idle": "2021-06-03T00:15:03.231847Z",
     "shell.execute_reply": "2021-06-03T00:15:03.232245Z"
    },
    "papermill": {
     "duration": 1.183161,
     "end_time": "2021-06-03T00:15:03.232385",
     "exception": false,
     "start_time": "2021-06-03T00:15:02.049224",
     "status": "completed"
    },
    "tags": []
   },
   "outputs": [
    {
     "name": "stdout",
     "output_type": "stream",
     "text": [
      "arn:aws:iam::688520471316:role/hongshan-sagemaker-experiment\n",
      "sagemaker-us-west-2-688520471316\n"
     ]
    }
   ],
   "source": [
    "import sagemaker\n",
    "from sagemaker import get_execution_role\n",
    "import boto3\n",
    "import json\n",
    "\n",
    "sess = sagemaker.Session()\n",
    "\n",
    "role = get_execution_role()\n",
    "print(\n",
    "    role\n",
    ")  # This is the role that SageMaker would use to leverage AWS resources (S3, CloudWatch) on your behalf\n",
    "\n",
    "bucket = sess.default_bucket()  # Replace with your own bucket name if needed\n",
    "print(bucket)\n",
    "prefix = \"fasttext/pretrained\"  # Replace with the prefix under which you want to store the data if needed"
   ]
  },
  {
   "cell_type": "code",
   "execution_count": 2,
   "id": "1440f9bd",
   "metadata": {
    "execution": {
     "iopub.execute_input": "2021-06-03T00:15:03.260540Z",
     "iopub.status.busy": "2021-06-03T00:15:03.259933Z",
     "iopub.status.idle": "2021-06-03T00:15:03.261710Z",
     "shell.execute_reply": "2021-06-03T00:15:03.262057Z"
    },
    "papermill": {
     "duration": 0.020913,
     "end_time": "2021-06-03T00:15:03.262175",
     "exception": false,
     "start_time": "2021-06-03T00:15:03.241262",
     "status": "completed"
    },
    "tags": []
   },
   "outputs": [],
   "source": [
    "region_name = boto3.Session().region_name"
   ]
  },
  {
   "cell_type": "code",
   "execution_count": 3,
   "id": "06506a0d",
   "metadata": {
    "execution": {
     "iopub.execute_input": "2021-06-03T00:15:03.282145Z",
     "iopub.status.busy": "2021-06-03T00:15:03.281711Z",
     "iopub.status.idle": "2021-06-03T00:15:03.290850Z",
     "shell.execute_reply": "2021-06-03T00:15:03.291193Z"
    },
    "papermill": {
     "duration": 0.020691,
     "end_time": "2021-06-03T00:15:03.291312",
     "exception": false,
     "start_time": "2021-06-03T00:15:03.270621",
     "status": "completed"
    },
    "tags": []
   },
   "outputs": [
    {
     "name": "stdout",
     "output_type": "stream",
     "text": [
      "Using SageMaker BlazingText container: 433757028032.dkr.ecr.us-west-2.amazonaws.com/blazingtext:1 (us-west-2)\n"
     ]
    }
   ],
   "source": [
    "container = sagemaker.amazon.amazon_estimator.image_uris.retrieve(\"blazingtext\", region_name, \"1\")\n",
    "print(\"Using SageMaker BlazingText container: {} ({})\".format(container, region_name))"
   ]
  },
  {
   "cell_type": "markdown",
   "id": "b5774b11",
   "metadata": {
    "papermill": {
     "duration": 0.008723,
     "end_time": "2021-06-03T00:15:03.308738",
     "exception": false,
     "start_time": "2021-06-03T00:15:03.300015",
     "status": "completed"
    },
    "tags": []
   },
   "source": [
    "### Hosting the [Language Idenfication model](https://fasttext.cc/docs/en/language-identification.html) by FastText\n",
    "\n",
    "For the example, we will leverage the pre-trained model available by FastText for Language Identification. Language Identification is the first step of many NLP applications where after the language of the input text is identified, specific models for that language needs to be applied for various other downstream tasks. Language Identification underneath is a Text Classification model which uses the language IDs as the class labels and hence FastText can be directly used for the training. FastText pretrained language model supports identification of 176 different languages. "
   ]
  },
  {
   "cell_type": "markdown",
   "id": "27ea5a86",
   "metadata": {
    "papermill": {
     "duration": 0.008652,
     "end_time": "2021-06-03T00:15:03.326023",
     "exception": false,
     "start_time": "2021-06-03T00:15:03.317371",
     "status": "completed"
    },
    "tags": []
   },
   "source": [
    "Here we will download the Language Identification (Text Classification) model [1] from [FastText website](https://fasttext.cc/docs/en/language-identification.html).  \n",
    "\n",
    "[1] A. Joulin, E. Grave, P. Bojanowski, T. Mikolov, Bag of Tricks for Efficient Text Classification"
   ]
  },
  {
   "cell_type": "code",
   "execution_count": 4,
   "id": "ad9ca233",
   "metadata": {
    "execution": {
     "iopub.execute_input": "2021-06-03T00:15:03.347130Z",
     "iopub.status.busy": "2021-06-03T00:15:03.346515Z",
     "iopub.status.idle": "2021-06-03T00:15:05.292694Z",
     "shell.execute_reply": "2021-06-03T00:15:05.292266Z"
    },
    "papermill": {
     "duration": 1.958103,
     "end_time": "2021-06-03T00:15:05.292803",
     "exception": false,
     "start_time": "2021-06-03T00:15:03.334700",
     "status": "completed"
    },
    "tags": []
   },
   "outputs": [
    {
     "name": "stdout",
     "output_type": "stream",
     "text": [
      "--2021-06-03 18:17:00--  https://dl.fbaipublicfiles.com/fasttext/supervised-models/lid.176.bin\n",
      "Resolving dl.fbaipublicfiles.com (dl.fbaipublicfiles.com)... 172.67.9.4, 104.22.75.142, 104.22.74.142, ...\n",
      "Connecting to dl.fbaipublicfiles.com (dl.fbaipublicfiles.com)|172.67.9.4|:443... connected.\n",
      "HTTP request sent, awaiting response... 200 OK\n",
      "Length: 131266198 (125M) [application/octet-stream]\n",
      "Saving to: ‘model.bin’\n",
      "\n",
      "model.bin           100%[===================>] 125.18M  39.9MB/s    in 3.3s    \n",
      "\n",
      "2021-06-03 18:17:04 (38.4 MB/s) - ‘model.bin’ saved [131266198/131266198]\n",
      "\n"
     ]
    }
   ],
   "source": [
    "!wget -O model.bin https://dl.fbaipublicfiles.com/fasttext/supervised-models/lid.176.bin"
   ]
  },
  {
   "cell_type": "markdown",
   "id": "a45ce5b7",
   "metadata": {
    "papermill": {
     "duration": 0.011146,
     "end_time": "2021-06-03T00:15:05.315322",
     "exception": false,
     "start_time": "2021-06-03T00:15:05.304176",
     "status": "completed"
    },
    "tags": []
   },
   "source": [
    "Next we will `tar` the model and upload it to S3 with the help of utilities available from Python SDK. We'll delete the local copies of the data as it's not required anymore."
   ]
  },
  {
   "cell_type": "code",
   "execution_count": 5,
   "id": "5bd274dc",
   "metadata": {
    "execution": {
     "iopub.execute_input": "2021-06-03T00:15:05.342791Z",
     "iopub.status.busy": "2021-06-03T00:15:05.342351Z",
     "iopub.status.idle": "2021-06-03T00:15:14.115721Z",
     "shell.execute_reply": "2021-06-03T00:15:14.115285Z"
    },
    "papermill": {
     "duration": 8.789275,
     "end_time": "2021-06-03T00:15:14.115832",
     "exception": false,
     "start_time": "2021-06-03T00:15:05.326557",
     "status": "completed"
    },
    "tags": []
   },
   "outputs": [
    {
     "name": "stdout",
     "output_type": "stream",
     "text": [
      "model.bin\n"
     ]
    }
   ],
   "source": [
    "!tar -czvf langid.tar.gz model.bin\n",
    "model_location = sess.upload_data(\"langid.tar.gz\", bucket=bucket, key_prefix=prefix)\n",
    "!rm langid.tar.gz model.bin"
   ]
  },
  {
   "cell_type": "markdown",
   "id": "03dc86d1",
   "metadata": {
    "papermill": {
     "duration": 0.011522,
     "end_time": "2021-06-03T00:15:14.139068",
     "exception": false,
     "start_time": "2021-06-03T00:15:14.127546",
     "status": "completed"
    },
    "tags": []
   },
   "source": [
    "### Creating SageMaker Inference Endpoint\n",
    "\n",
    "Next we'll create a SageMaker inference endpoint with the BlazingText container. This endpoint will be compatible with the pre-trained models available from FastText and can be used for inference directly without any modification. The inference endpoint works with content-type of `application/json`."
   ]
  },
  {
   "cell_type": "code",
   "execution_count": 6,
   "id": "d706f181",
   "metadata": {
    "execution": {
     "iopub.execute_input": "2021-06-03T00:15:14.167375Z",
     "iopub.status.busy": "2021-06-03T00:15:14.166931Z",
     "iopub.status.idle": "2021-06-03T00:18:15.510179Z",
     "shell.execute_reply": "2021-06-03T00:18:15.509410Z"
    },
    "papermill": {
     "duration": 181.35985,
     "end_time": "2021-06-03T00:18:15.510371",
     "exception": true,
     "start_time": "2021-06-03T00:15:14.150521",
     "status": "failed"
    },
    "tags": []
   },
   "outputs": [
    {
     "name": "stdout",
     "output_type": "stream",
     "text": [
      "----!"
     ]
    }
   ],
   "source": [
    "lang_id = sagemaker.Model(\n",
    "    image_uri=container, model_data=model_location, role=role, sagemaker_session=sess\n",
    ")\n",
    "lang_id.deploy(initial_instance_count=1, instance_type=\"ml.m5.xlarge\")\n",
    "\n",
    "from sagemaker.deserializers import JSONDeserializer\n",
    "from sagemaker.serializers import JSONSerializer\n",
    "\n",
    "predictor = sagemaker.Predictor(\n",
    "    endpoint_name=lang_id.endpoint_name,\n",
    "    sagemaker_session=sess,\n",
    "    serializer=JSONSerializer(),\n",
    "    deserializer=JSONDeserializer(),\n",
    ")"
   ]
  },
  {
   "cell_type": "markdown",
   "id": "7ee9fff3",
   "metadata": {
    "papermill": {
     "duration": null,
     "end_time": null,
     "exception": null,
     "start_time": null,
     "status": "pending"
    },
    "tags": []
   },
   "source": [
    "Next we'll pass few sentences from various languages to the endpoint to verify that the language identification works as expected."
   ]
  },
  {
   "cell_type": "code",
   "execution_count": 7,
   "id": "a36e838c",
   "metadata": {
    "papermill": {
     "duration": null,
     "end_time": null,
     "exception": null,
     "start_time": null,
     "status": "pending"
    },
    "tags": []
   },
   "outputs": [],
   "source": [
    "sentences = [\n",
    "    \"hi which language is this?\",\n",
    "    \"mon nom est Pierre\",\n",
    "    \"Dem Jungen gab ich einen Ball.\",\n",
    "    \"আমি বাড়ি যাবো.\",\n",
    "]\n",
    "payload = {\"instances\": sentences}"
   ]
  },
  {
   "cell_type": "code",
   "execution_count": 8,
   "id": "d294b310",
   "metadata": {
    "papermill": {
     "duration": null,
     "end_time": null,
     "exception": null,
     "start_time": null,
     "status": "pending"
    },
    "tags": []
   },
   "outputs": [
    {
     "name": "stdout",
     "output_type": "stream",
     "text": [
      "[{'label': ['__label__en'], 'prob': [0.9948582053184509]}, {'label': ['__label__fr'], 'prob': [0.9984669089317322]}, {'label': ['__label__de'], 'prob': [0.9946573972702026]}, {'label': ['__label__bn'], 'prob': [0.9997219443321228]}]\n"
     ]
    }
   ],
   "source": [
    "predictions = predictor.predict(payload)\n",
    "print(predictions)"
   ]
  },
  {
   "cell_type": "markdown",
   "id": "165bc8e1",
   "metadata": {
    "papermill": {
     "duration": null,
     "end_time": null,
     "exception": null,
     "start_time": null,
     "status": "pending"
    },
    "tags": []
   },
   "source": [
    "FastText expects the class label to be prefixed by `__label__` and that's why when we are performing inference with pre-trained model provided by FastText, we can see that the output label is prefixed with `__label__`. With a little preprocessing, we can strip the `__label__` prefix from the response."
   ]
  },
  {
   "cell_type": "code",
   "execution_count": 9,
   "id": "ab6aaab6",
   "metadata": {
    "papermill": {
     "duration": null,
     "end_time": null,
     "exception": null,
     "start_time": null,
     "status": "pending"
    },
    "tags": []
   },
   "outputs": [
    {
     "name": "stdout",
     "output_type": "stream",
     "text": [
      "[{'label': 'EN', 'prob': [0.9948582053184509]}, {'label': 'FR', 'prob': [0.9984669089317322]}, {'label': 'DE', 'prob': [0.9946573972702026]}, {'label': 'BN', 'prob': [0.9997219443321228]}]\n"
     ]
    }
   ],
   "source": [
    "import copy\n",
    "\n",
    "predictions_copy = copy.deepcopy(\n",
    "    predictions\n",
    ")  # Copying predictions object because we want to change the labels in-place\n",
    "for output in predictions_copy:\n",
    "    output[\"label\"] = output[\"label\"][0][9:].upper()  # __label__ has length of 9\n",
    "\n",
    "print(predictions_copy)"
   ]
  },
  {
   "cell_type": "markdown",
   "id": "8ee099c1",
   "metadata": {
    "papermill": {
     "duration": null,
     "end_time": null,
     "exception": null,
     "start_time": null,
     "status": "pending"
    },
    "tags": []
   },
   "source": [
    "### Stop / Close the Endpoint (Optional)\n",
    "Finally, we should delete the endpoint before we close the notebook if we don't need to keep the endpoint running for serving realtime predictions."
   ]
  },
  {
   "cell_type": "code",
   "execution_count": 10,
   "id": "6aa4cc70",
   "metadata": {
    "papermill": {
     "duration": null,
     "end_time": null,
     "exception": null,
     "start_time": null,
     "status": "pending"
    },
    "tags": []
   },
   "outputs": [],
   "source": [
    "predictor.delete_endpoint()"
   ]
  },
  {
   "cell_type": "markdown",
   "id": "3a645cc5",
   "metadata": {
    "papermill": {
     "duration": null,
     "end_time": null,
     "exception": null,
     "start_time": null,
     "status": "pending"
    },
    "tags": []
   },
   "source": [
    "Similarly, we can host any pre-trained [FastText word2vec model](https://fasttext.cc/docs/en/pretrained-vectors.html) using SageMaker BlazingText hosting."
   ]
  }
 ],
 "metadata": {
  "kernelspec": {
   "display_name": "Environment (conda_python3)",
   "language": "python",
   "name": "conda_python3"
  },
  "language_info": {
   "codemirror_mode": {
    "name": "ipython",
    "version": 3
   },
   "file_extension": ".py",
   "mimetype": "text/x-python",
   "name": "python",
   "nbconvert_exporter": "python",
   "pygments_lexer": "ipython3",
   "version": "3.6.10"
  },
  "notice": "Copyright 2018 Amazon.com, Inc. or its affiliates. All Rights Reserved.  Licensed under the Apache License, Version 2.0 (the \"License\"). You may not use this file except in compliance with the License. A copy of the License is located at http://aws.amazon.com/apache2.0/ or in the \"license\" file accompanying this file. This file is distributed on an \"AS IS\" BASIS, WITHOUT WARRANTIES OR CONDITIONS OF ANY KIND, either express or implied. See the License for the specific language governing permissions and limitations under the License.",
  "papermill": {
   "default_parameters": {},
   "duration": 194.826751,
   "end_time": "2021-06-03T00:18:16.015524",
   "environment_variables": {},
   "exception": true,
   "input_path": "blazingtext_hosting_pretrained_fasttext.ipynb",
   "output_path": "/opt/ml/processing/output/blazingtext_hosting_pretrained_fasttext-2021-06-03-00-11-02.ipynb",
   "parameters": {
    "kms_key": "arn:aws:kms:us-west-2:521695447989:key/6e9984db-50cf-4c7e-926c-877ec47a8b25"
   },
   "start_time": "2021-06-03T00:15:01.188773",
   "version": "2.3.3"
  }
 },
 "nbformat": 4,
 "nbformat_minor": 5
}
