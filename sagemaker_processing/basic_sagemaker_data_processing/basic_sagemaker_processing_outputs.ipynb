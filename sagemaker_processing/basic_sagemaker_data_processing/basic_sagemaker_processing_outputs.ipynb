{
 "cells": [
  {
   "cell_type": "code",
   "execution_count": 1,
   "id": "5da77825",
   "metadata": {
    "execution": {
     "iopub.execute_input": "2022-03-23T00:09:40.812133Z",
     "iopub.status.busy": "2022-03-23T00:09:40.811365Z",
     "iopub.status.idle": "2022-03-23T00:09:40.813110Z",
     "shell.execute_reply": "2022-03-23T00:09:40.813475Z"
    },
    "papermill": {
     "duration": 0.010758,
     "end_time": "2022-03-23T00:09:40.813632",
     "exception": false,
     "start_time": "2022-03-23T00:09:40.802874",
     "status": "completed"
    },
    "tags": [
     "injected-parameters"
    ]
   },
   "outputs": [],
   "source": [
    "# Parameters\n",
    "kms_key = \"arn:aws:kms:us-west-2:000000000000:1234abcd-12ab-34cd-56ef-1234567890ab\"\n"
   ]
  },
  {
   "cell_type": "markdown",
   "id": "995dbfc9",
   "metadata": {
    "papermill": {
     "duration": 0.004678,
     "end_time": "2022-03-23T00:09:40.823374",
     "exception": false,
     "start_time": "2022-03-23T00:09:40.818696",
     "status": "completed"
    },
    "tags": []
   },
   "source": [
    "# Basic SageMaker Processing Script\n",
    "\n",
    "This notebook corresponds to the section \"Preprocessing Data With The Built-In Scikit-Learn Container\" in [this](https://aws.amazon.com/blogs/aws/amazon-sagemaker-processing-fully-managed-data-processing-and-model-evaluation/) blog post. \n",
    "It shows a very basic example of using SageMaker Processing to create train, test and validation datasets. SageMaker Processing is used to create these datasets, which then are written back to S3.\n",
    "\n",
    "First, let’s create an SKLearnProcessor object, passing the scikit-learn version we want to use, as well as our managed infrastructure requirements."
   ]
  },
  {
   "cell_type": "code",
   "execution_count": 2,
   "id": "d044b2fd",
   "metadata": {
    "execution": {
     "iopub.execute_input": "2022-03-23T00:09:40.836979Z",
     "iopub.status.busy": "2022-03-23T00:09:40.836252Z",
     "iopub.status.idle": "2022-03-23T00:09:41.865493Z",
     "shell.execute_reply": "2022-03-23T00:09:41.865058Z"
    },
    "papermill": {
     "duration": 1.037555,
     "end_time": "2022-03-23T00:09:41.865603",
     "exception": false,
     "start_time": "2022-03-23T00:09:40.828048",
     "status": "completed"
    },
    "tags": []
   },
   "outputs": [],
   "source": [
    "import boto3\n",
    "import sagemaker\n",
    "from sagemaker import get_execution_role\n",
    "from sagemaker.sklearn.processing import SKLearnProcessor\n",
    "\n",
    "region = sagemaker.Session().boto_region_name\n",
    "\n",
    "role = get_execution_role()\n",
    "sklearn_processor = SKLearnProcessor(\n",
    "    framework_version=\"0.20.0\", role=role, instance_type=\"ml.m5.xlarge\", instance_count=1\n",
    ")"
   ]
  },
  {
   "cell_type": "markdown",
   "id": "f7f173f2",
   "metadata": {
    "papermill": {
     "duration": 0.004784,
     "end_time": "2022-03-23T00:09:41.875393",
     "exception": false,
     "start_time": "2022-03-23T00:09:41.870609",
     "status": "completed"
    },
    "tags": []
   },
   "source": [
    "Read in the raw data from a public S3 bucket"
   ]
  },
  {
   "cell_type": "code",
   "execution_count": 3,
   "id": "e7ae15ff",
   "metadata": {
    "execution": {
     "iopub.execute_input": "2022-03-23T00:09:41.896603Z",
     "iopub.status.busy": "2022-03-23T00:09:41.896138Z",
     "iopub.status.idle": "2022-03-23T00:09:42.784752Z",
     "shell.execute_reply": "2022-03-23T00:09:42.785144Z"
    },
    "papermill": {
     "duration": 0.905156,
     "end_time": "2022-03-23T00:09:42.785285",
     "exception": false,
     "start_time": "2022-03-23T00:09:41.880129",
     "status": "completed"
    },
    "tags": []
   },
   "outputs": [],
   "source": [
    "import pandas as pd\n",
    "\n",
    "s3 = boto3.client(\"s3\")\n",
    "s3.download_file(\n",
    "    \"sagemaker-sample-data-{}\".format(region),\n",
    "    \"processing/census/census-income.csv\",\n",
    "    \"census-income.csv\",\n",
    ")\n",
    "df = pd.read_csv(\"census-income.csv\", nrows=10)\n",
    "df.to_csv(\"dataset.csv\")\n",
    "# df.head(n=10)"
   ]
  },
  {
   "cell_type": "markdown",
   "id": "b06b99d9",
   "metadata": {
    "papermill": {
     "duration": 0.00485,
     "end_time": "2022-03-23T00:09:42.795159",
     "exception": false,
     "start_time": "2022-03-23T00:09:42.790309",
     "status": "completed"
    },
    "tags": []
   },
   "source": [
    "write the processing script that will be used by SageMaker Processing"
   ]
  },
  {
   "cell_type": "code",
   "execution_count": 4,
   "id": "f50dff8d",
   "metadata": {
    "execution": {
     "iopub.execute_input": "2022-03-23T00:09:42.809014Z",
     "iopub.status.busy": "2022-03-23T00:09:42.808290Z",
     "iopub.status.idle": "2022-03-23T00:09:42.811230Z",
     "shell.execute_reply": "2022-03-23T00:09:42.810827Z"
    },
    "papermill": {
     "duration": 0.011313,
     "end_time": "2022-03-23T00:09:42.811330",
     "exception": false,
     "start_time": "2022-03-23T00:09:42.800017",
     "status": "completed"
    },
    "tags": []
   },
   "outputs": [
    {
     "name": "stdout",
     "output_type": "stream",
     "text": [
      "Writing preprocessing.py\n"
     ]
    }
   ],
   "source": [
    "%%writefile preprocessing.py\n",
    "import pandas as pd\n",
    "import os\n",
    "from sklearn.model_selection import train_test_split\n",
    "\n",
    "# Read data locally\n",
    "input_data_path = os.path.join(\"/opt/ml/processing/input\", \"dataset.csv\")\n",
    "# Preprocess the data set\n",
    "df = pd.read_csv(input_data_path)\n",
    "downsampled = df\n",
    "print(\"shape of data is:\")\n",
    "print(downsampled.shape)\n",
    "# Split data set into training, validation, and test\n",
    "train, test = train_test_split(downsampled, test_size=0.2)\n",
    "train, validation = train_test_split(train, test_size=0.2)\n",
    "# Create local output directories\n",
    "try:\n",
    "    os.makedirs(\"/opt/ml/processing/output/train\")\n",
    "    os.makedirs(\"/opt/ml/processing/output/validation\")\n",
    "    os.makedirs(\"/opt/ml/processing/output/test\")\n",
    "    print(\"Successfully created directories\")\n",
    "except Exception as e:\n",
    "    # if the Processing call already creates these directories (or directory otherwise cannot be created)\n",
    "    print(e)\n",
    "    print(\"Could Not Make Directories\")\n",
    "    pass\n",
    "\n",
    "# Save data locally\n",
    "try:\n",
    "    train.to_csv(\"/opt/ml/processing/output/train/train.csv\")\n",
    "    validation.to_csv(\"/opt/ml/processing/output/validation/validation.csv\")\n",
    "    test.to_csv(\"/opt/ml/processing/output/test/test.csv\")\n",
    "    print(\"Files Successfully Written\")\n",
    "except Exception as e:\n",
    "    print(\"Could Not Write the Files\")\n",
    "    print(e)\n",
    "    pass\n",
    "\n",
    "print(\"Finished running processing job\")"
   ]
  },
  {
   "cell_type": "markdown",
   "id": "cb0b9d30",
   "metadata": {
    "papermill": {
     "duration": 0.00516,
     "end_time": "2022-03-23T00:09:42.821995",
     "exception": false,
     "start_time": "2022-03-23T00:09:42.816835",
     "status": "completed"
    },
    "tags": []
   },
   "source": [
    "Now Execute the Processing Job"
   ]
  },
  {
   "cell_type": "code",
   "execution_count": 5,
   "id": "f43eae82",
   "metadata": {
    "execution": {
     "iopub.execute_input": "2022-03-23T00:09:42.837830Z",
     "iopub.status.busy": "2022-03-23T00:09:42.837098Z",
     "iopub.status.idle": "2022-03-23T00:14:30.749842Z",
     "shell.execute_reply": "2022-03-23T00:14:30.749406Z"
    },
    "papermill": {
     "duration": 287.922774,
     "end_time": "2022-03-23T00:14:30.749954",
     "exception": false,
     "start_time": "2022-03-23T00:09:42.827180",
     "status": "completed"
    },
    "tags": []
   },
   "outputs": [
    {
     "name": "stdout",
     "output_type": "stream",
     "text": [
      "\n",
      "Job Name:  sagemaker-scikit-learn-2022-03-23-00-09-42-835\n",
      "Inputs:  [{'InputName': 'input-1', 'AppManaged': False, 'S3Input': {'S3Uri': 's3://sagemaker-us-west-2--000000000000/sagemaker-scikit-learn-2022-03-23-00-09-42-835/input/input-1/dataset.csv', 'LocalPath': '/opt/ml/processing/input', 'S3DataType': 'S3Prefix', 'S3InputMode': 'File', 'S3DataDistributionType': 'FullyReplicated', 'S3CompressionType': 'None'}}, {'InputName': 'code', 'AppManaged': False, 'S3Input': {'S3Uri': 's3://sagemaker-us-west-2--000000000000/sagemaker-scikit-learn-2022-03-23-00-09-42-835/input/code/preprocessing.py', 'LocalPath': '/opt/ml/processing/input/code', 'S3DataType': 'S3Prefix', 'S3InputMode': 'File', 'S3DataDistributionType': 'FullyReplicated', 'S3CompressionType': 'None'}}]\n",
      "Outputs:  [{'OutputName': 'output-1', 'AppManaged': False, 'S3Output': {'S3Uri': 's3://sagemaker-us-west-2--000000000000/sagemaker-scikit-learn-2022-03-23-00-09-42-835/output/output-1', 'LocalPath': '/opt/ml/processing/output/train', 'S3UploadMode': 'EndOfJob'}}, {'OutputName': 'output-2', 'AppManaged': False, 'S3Output': {'S3Uri': 's3://sagemaker-us-west-2--000000000000/sagemaker-scikit-learn-2022-03-23-00-09-42-835/output/output-2', 'LocalPath': '/opt/ml/processing/output/validation', 'S3UploadMode': 'EndOfJob'}}, {'OutputName': 'output-3', 'AppManaged': False, 'S3Output': {'S3Uri': 's3://sagemaker-us-west-2--000000000000/sagemaker-scikit-learn-2022-03-23-00-09-42-835/output/output-3', 'LocalPath': '/opt/ml/processing/output/test', 'S3UploadMode': 'EndOfJob'}}]\n"
     ]
    },
    {
     "name": "stdout",
     "output_type": "stream",
     "text": [
      "."
     ]
    },
    {
     "name": "stdout",
     "output_type": "stream",
     "text": [
      "."
     ]
    },
    {
     "name": "stdout",
     "output_type": "stream",
     "text": [
      "."
     ]
    },
    {
     "name": "stdout",
     "output_type": "stream",
     "text": [
      "."
     ]
    },
    {
     "name": "stdout",
     "output_type": "stream",
     "text": [
      "."
     ]
    },
    {
     "name": "stdout",
     "output_type": "stream",
     "text": [
      "."
     ]
    },
    {
     "name": "stdout",
     "output_type": "stream",
     "text": [
      "."
     ]
    },
    {
     "name": "stdout",
     "output_type": "stream",
     "text": [
      "."
     ]
    },
    {
     "name": "stdout",
     "output_type": "stream",
     "text": [
      "."
     ]
    },
    {
     "name": "stdout",
     "output_type": "stream",
     "text": [
      "."
     ]
    },
    {
     "name": "stdout",
     "output_type": "stream",
     "text": [
      "."
     ]
    },
    {
     "name": "stdout",
     "output_type": "stream",
     "text": [
      "."
     ]
    },
    {
     "name": "stdout",
     "output_type": "stream",
     "text": [
      "."
     ]
    },
    {
     "name": "stdout",
     "output_type": "stream",
     "text": [
      "."
     ]
    },
    {
     "name": "stdout",
     "output_type": "stream",
     "text": [
      "."
     ]
    },
    {
     "name": "stdout",
     "output_type": "stream",
     "text": [
      "."
     ]
    },
    {
     "name": "stdout",
     "output_type": "stream",
     "text": [
      "."
     ]
    },
    {
     "name": "stdout",
     "output_type": "stream",
     "text": [
      "."
     ]
    },
    {
     "name": "stdout",
     "output_type": "stream",
     "text": [
      "."
     ]
    },
    {
     "name": "stdout",
     "output_type": "stream",
     "text": [
      "."
     ]
    },
    {
     "name": "stdout",
     "output_type": "stream",
     "text": [
      "."
     ]
    },
    {
     "name": "stdout",
     "output_type": "stream",
     "text": [
      "."
     ]
    },
    {
     "name": "stdout",
     "output_type": "stream",
     "text": [
      "."
     ]
    },
    {
     "name": "stdout",
     "output_type": "stream",
     "text": [
      "."
     ]
    },
    {
     "name": "stdout",
     "output_type": "stream",
     "text": [
      "."
     ]
    },
    {
     "name": "stdout",
     "output_type": "stream",
     "text": [
      "."
     ]
    },
    {
     "name": "stdout",
     "output_type": "stream",
     "text": [
      "."
     ]
    },
    {
     "name": "stdout",
     "output_type": "stream",
     "text": [
      "\n",
      "\u001b[34m/miniconda3/lib/python3.7/site-packages/sklearn/externals/joblib/externals/cloudpickle/cloudpickle.py:47: DeprecationWarning: the imp module is deprecated in favour of importlib; see the module's documentation for alternative uses\n",
      "  import imp\u001b[0m\n",
      "\u001b[34mshape of data is:\u001b[0m\n",
      "\u001b[34m(10, 43)\u001b[0m\n",
      "\u001b[34m[Errno 17] File exists: '/opt/ml/processing/output/train'\u001b[0m\n",
      "\u001b[34mCould Not Make Directories\u001b[0m\n",
      "\u001b[34mFiles Successfully Written\u001b[0m\n",
      "\u001b[34mFinished running processing job\u001b[0m\n"
     ]
    }
   ],
   "source": [
    "from sagemaker.processing import ProcessingInput, ProcessingOutput\n",
    "\n",
    "sklearn_processor.run(\n",
    "    code=\"preprocessing.py\",\n",
    "    # arguments = ['arg1', 'arg2'],\n",
    "    inputs=[ProcessingInput(source=\"dataset.csv\", destination=\"/opt/ml/processing/input\")],\n",
    "    outputs=[\n",
    "        ProcessingOutput(source=\"/opt/ml/processing/output/train\"),\n",
    "        ProcessingOutput(source=\"/opt/ml/processing/output/validation\"),\n",
    "        ProcessingOutput(source=\"/opt/ml/processing/output/test\"),\n",
    "    ],\n",
    ")"
   ]
  },
  {
   "cell_type": "code",
   "execution_count": null,
   "id": "47951b54",
   "metadata": {
    "papermill": {
     "duration": 0.011297,
     "end_time": "2022-03-23T00:14:30.772746",
     "exception": false,
     "start_time": "2022-03-23T00:14:30.761449",
     "status": "completed"
    },
    "tags": []
   },
   "outputs": [],
   "source": []
  }
 ],
 "metadata": {
  "kernelspec": {
   "display_name": "Python 3",
   "language": "python",
   "name": "python3"
  },
  "language_info": {
   "codemirror_mode": {
    "name": "ipython",
    "version": 3
   },
   "file_extension": ".py",
   "mimetype": "text/x-python",
   "name": "python",
   "nbconvert_exporter": "python",
   "pygments_lexer": "ipython3",
   "version": "3.7.10"
  },
  "papermill": {
   "default_parameters": {},
   "duration": 291.215169,
   "end_time": "2022-03-23T00:14:31.200987",
   "environment_variables": {},
   "exception": null,
   "input_path": "basic_sagemaker_processing.ipynb",
   "output_path": "/opt/ml/processing/output/basic_sagemaker_processing-2022-03-23-00-04-54.ipynb",
   "parameters": {
    "kms_key": "arn:aws:kms:us-west-2:000000000000:1234abcd-12ab-34cd-56ef-1234567890ab"
   },
   "start_time": "2022-03-23T00:09:39.985818",
   "version": "2.3.4"
  }
 },
 "nbformat": 4,
 "nbformat_minor": 5
}