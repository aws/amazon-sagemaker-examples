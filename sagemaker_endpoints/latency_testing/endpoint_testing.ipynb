{
 "cells": [
  {
   "cell_type": "markdown",
   "id": "9373624e-e98e-4647-adfe-909c807c88e6",
   "metadata": {},
   "source": [
    "# Measuring and comparing the response latencies of models served by custom and Amazon SageMaker pre-built frameworks"
   ]
  },
  {
   "cell_type": "markdown",
   "id": "b8d01eb0",
   "metadata": {},
   "source": [
    "---\n",
    "\n",
    "This notebook's CI test result for us-west-2 is as follows. CI test results in other regions can be found at the end of the notebook.\n",
    "\n",
    "![This us-west-2 badge failed to load. Check your device's internet connectivity, otherwise the service is currently unavailable](https://prod.us-west-2.tcx-beacon.docs.aws.dev/sagemaker-nb/us-west-2/sagemaker_endpoints|latency_testing|endpoint_testing.ipynb)\n",
    "\n",
    "---"
   ]
  },
  {
   "cell_type": "markdown",
   "id": "c1ec9835-9d01-4752-a320-1a766e81bfe5",
   "metadata": {},
   "source": [
    "## Background\n",
    "\n",
    "This notebook will demonstrate how the inference latency of the same model varies when one model is served with [Python Flask](https://flask.palletsprojects.com/en/2.3.x/), [FastAPI](https://fastapi.tiangolo.com/) and [SageMaker pre-built container](https://docs.aws.amazon.com/sagemaker/latest/dg/pre-built-containers-frameworks-deep-learning.html). In all cases, we use a [decision tree](https://scikit-learn.org/stable/modules/tree.html) algorithm from [scikit-learn](https://scikit-learn.org/stable/) package which is trained on the famous [iris dataset](https://en.wikipedia.org/wiki/Iris_flower_data_set). \n",
    "\n",
    "The scripts and this notebook can be used to load test and compare latency for any endpoint that you deploy on SageMaker. You can either test a [pre-built SageMaker container](https://docs.aws.amazon.com/sagemaker/latest/dg/docker-containers-prebuilt.html) or [bring your own container](https://docs.aws.amazon.com/sagemaker/latest/dg/model-monitor-byoc-containers.html). [This GitHub repo](https://github.com/aws/amazon-sagemaker-examples/tree/main/advanced_functionality/scikit_bring_your_own) provides a more detailed example on how to bring your own container to SageMaker"
   ]
  },
  {
   "cell_type": "markdown",
   "id": "a841ed5e-bd78-4972-92da-9d821b7da453",
   "metadata": {},
   "source": [
    "## Pre-requisities\n",
    "\n",
    "### Permissions\n",
    "\n",
    "Running this notebook requires `SageMakerFullAccess` permissions. Additionally, you will need permissions to publish to Amazon ECR. You can achieve this by adding the managed policy `AmazonEC2ContainerRegistryFullAccess` to the role that you used to start your notebook instance. There's no need to restart your notebook instance when you do this, the new permissions will be available immediately.\n",
    "\n",
    "### Python Version\n",
    "This notebook example was run using python 3.10. If you are using SageMaker notebook instance to execute this notebook, please use `Amazon Linux 2, Jupyter Lab 3(notebook-al2-v2)` platform identifier.\n",
    "\n",
    "### Docker\n",
    "\n",
    "Docker is required to build and push model images to Amazon ECR"
   ]
  },
  {
   "cell_type": "markdown",
   "id": "3d86868f-fe43-44f4-a462-1bfe2f0e4234",
   "metadata": {},
   "source": [
    "## The experiment\n",
    "\n",
    "Load testing is carried out on `ml.c5d.18xlarge` SageMaker Notebook Instance type. It is recommended to use a large instance type for load testing in order to be able to provide the adequate load on the Inference Endpoints"
   ]
  },
  {
   "cell_type": "markdown",
   "id": "36526e88",
   "metadata": {},
   "source": [
    "![Diagram](img/diagram.png)"
   ]
  },
  {
   "cell_type": "markdown",
   "id": "87961e89-de75-4db5-8e44-428d759dbcfd",
   "metadata": {},
   "source": [
    "# Part 1: Bundling and Pushing Models to Amazon ECR\n",
    "\n",
    "There is a script inside each model folder to build and push a model image to ECR. The script logs in to ECR, builds and tags an image and pushes the image to ECR"
   ]
  },
  {
   "cell_type": "code",
   "execution_count": null,
   "id": "10f314fd-accb-4b0b-8bd6-9f40c2ac1f99",
   "metadata": {
    "tags": []
   },
   "outputs": [],
   "source": [
    "import concurrent.futures\n",
    "import subprocess\n",
    "import re\n",
    "import os\n",
    "import pandas as pd\n",
    "\n",
    "import boto3\n",
    "\n",
    "from sagemaker import get_execution_role\n",
    "import sagemaker as sage\n",
    "from sagemaker.serializers import CSVSerializer\n",
    "from sagemaker.sklearn.estimator import SKLearn"
   ]
  },
  {
   "cell_type": "code",
   "execution_count": null,
   "id": "f2ff01fb",
   "metadata": {
    "tags": []
   },
   "outputs": [],
   "source": [
    "models = [\"flask-model\", \"fastapi-model\"]"
   ]
  },
  {
   "cell_type": "code",
   "execution_count": null,
   "id": "592759d7-2fc4-4a2f-b12b-e803d92d9642",
   "metadata": {
    "tags": []
   },
   "outputs": [],
   "source": [
    "!chmod +x ./build_and_push.sh"
   ]
  },
  {
   "cell_type": "code",
   "execution_count": null,
   "id": "07aa763f-e8c2-4ad7-bd50-b7991b8a4421",
   "metadata": {
    "tags": []
   },
   "outputs": [],
   "source": [
    "def build_and_push(model):\n",
    "    try:\n",
    "        result = subprocess.run([\"./build_and_push.sh\", f\"{model}\"], capture_output=True, text=True)\n",
    "        if result.returncode == 0:\n",
    "            print(f\"Successfully built and pushed {model} to Amazon ECR\")\n",
    "        else:\n",
    "            print(f\"Error building and pushing {model}\")\n",
    "            print(f\"stdout: {result.stdout}\")\n",
    "            print(f\"stderr: {result.stderr}\")\n",
    "    except Exception as e:\n",
    "        print(\"Exception:\", str(e))"
   ]
  },
  {
   "cell_type": "markdown",
   "id": "8e80afbf-4861-438e-8b19-51e196cce703",
   "metadata": {},
   "source": [
    "Below is the script for building and pushing our custom algorithm containers. It looks for an ECR repository in the account you're using and the current default region (if you're using a SageMaker notebook instance, this will be the region where the notebook instance was created). If the repository doesn't exist, the script will create it, build the image and push to the repository"
   ]
  },
  {
   "cell_type": "code",
   "execution_count": null,
   "id": "832b273a-cd68-4549-bbcf-d6fba485a36b",
   "metadata": {
    "tags": []
   },
   "outputs": [],
   "source": [
    "!cat ./build_and_push.sh"
   ]
  },
  {
   "cell_type": "markdown",
   "id": "0469ea96-eb94-4be6-8ef7-3a1a4d30a23b",
   "metadata": {},
   "source": [
    "The cell below executes the scrip and may take a few minutes to run (docker images are building here)"
   ]
  },
  {
   "cell_type": "code",
   "execution_count": null,
   "id": "d3dd5e29-3796-48b3-98d4-1fbfe71e4f73",
   "metadata": {
    "tags": []
   },
   "outputs": [],
   "source": [
    "with concurrent.futures.ThreadPoolExecutor() as executor:\n",
    "    futures = []\n",
    "    for model in models:\n",
    "        futures.append(executor.submit(build_and_push, model=model))\n",
    "\n",
    "    for future in concurrent.futures.as_completed(futures):\n",
    "        print(future.result())"
   ]
  },
  {
   "cell_type": "markdown",
   "id": "3495029f",
   "metadata": {},
   "source": [
    "# Part 2: Training and Deploying models to SageMaker Inference Endpoints"
   ]
  },
  {
   "cell_type": "markdown",
   "id": "2c24aaf1",
   "metadata": {},
   "source": [
    "## Notebook CI Test Results\n",
    "\n",
    "This notebook was tested in multiple regions. The test results are as follows, except for us-west-2 which is shown at the top of the notebook.\n",
    "\n",
    "\n",
    "![This us-east-1 badge failed to load. Check your device's internet connectivity, otherwise the service is currently unavailable](https://prod.us-west-2.tcx-beacon.docs.aws.dev/sagemaker-nb/us-east-1/sagemaker_endpoints|latency_testing|endpoint_testing.ipynb)\n",
    "\n",
    "![This us-east-2 badge failed to load. Check your device's internet connectivity, otherwise the service is currently unavailable](https://prod.us-west-2.tcx-beacon.docs.aws.dev/sagemaker-nb/us-east-2/sagemaker_endpoints|latency_testing|endpoint_testing.ipynb)\n",
    "\n",
    "![This us-west-1 badge failed to load. Check your device's internet connectivity, otherwise the service is currently unavailable](https://prod.us-west-2.tcx-beacon.docs.aws.dev/sagemaker-nb/us-west-1/sagemaker_endpoints|latency_testing|endpoint_testing.ipynb)\n",
    "\n",
    "![This ca-central-1 badge failed to load. Check your device's internet connectivity, otherwise the service is currently unavailable](https://prod.us-west-2.tcx-beacon.docs.aws.dev/sagemaker-nb/ca-central-1/sagemaker_endpoints|latency_testing|endpoint_testing.ipynb)\n",
    "\n",
    "![This sa-east-1 badge failed to load. Check your device's internet connectivity, otherwise the service is currently unavailable](https://prod.us-west-2.tcx-beacon.docs.aws.dev/sagemaker-nb/sa-east-1/sagemaker_endpoints|latency_testing|endpoint_testing.ipynb)\n",
    "\n",
    "![This eu-west-1 badge failed to load. Check your device's internet connectivity, otherwise the service is currently unavailable](https://prod.us-west-2.tcx-beacon.docs.aws.dev/sagemaker-nb/eu-west-1/sagemaker_endpoints|latency_testing|endpoint_testing.ipynb)\n",
    "\n",
    "![This eu-west-2 badge failed to load. Check your device's internet connectivity, otherwise the service is currently unavailable](https://prod.us-west-2.tcx-beacon.docs.aws.dev/sagemaker-nb/eu-west-2/sagemaker_endpoints|latency_testing|endpoint_testing.ipynb)\n",
    "\n",
    "![This eu-west-3 badge failed to load. Check your device's internet connectivity, otherwise the service is currently unavailable](https://prod.us-west-2.tcx-beacon.docs.aws.dev/sagemaker-nb/eu-west-3/sagemaker_endpoints|latency_testing|endpoint_testing.ipynb)\n",
    "\n",
    "![This eu-central-1 badge failed to load. Check your device's internet connectivity, otherwise the service is currently unavailable](https://prod.us-west-2.tcx-beacon.docs.aws.dev/sagemaker-nb/eu-central-1/sagemaker_endpoints|latency_testing|endpoint_testing.ipynb)\n",
    "\n",
    "![This eu-north-1 badge failed to load. Check your device's internet connectivity, otherwise the service is currently unavailable](https://prod.us-west-2.tcx-beacon.docs.aws.dev/sagemaker-nb/eu-north-1/sagemaker_endpoints|latency_testing|endpoint_testing.ipynb)\n",
    "\n",
    "![This ap-southeast-1 badge failed to load. Check your device's internet connectivity, otherwise the service is currently unavailable](https://prod.us-west-2.tcx-beacon.docs.aws.dev/sagemaker-nb/ap-southeast-1/sagemaker_endpoints|latency_testing|endpoint_testing.ipynb)\n",
    "\n",
    "![This ap-southeast-2 badge failed to load. Check your device's internet connectivity, otherwise the service is currently unavailable](https://prod.us-west-2.tcx-beacon.docs.aws.dev/sagemaker-nb/ap-southeast-2/sagemaker_endpoints|latency_testing|endpoint_testing.ipynb)\n",
    "\n",
    "![This ap-northeast-1 badge failed to load. Check your device's internet connectivity, otherwise the service is currently unavailable](https://prod.us-west-2.tcx-beacon.docs.aws.dev/sagemaker-nb/ap-northeast-1/sagemaker_endpoints|latency_testing|endpoint_testing.ipynb)\n",
    "\n",
    "![This ap-northeast-2 badge failed to load. Check your device's internet connectivity, otherwise the service is currently unavailable](https://prod.us-west-2.tcx-beacon.docs.aws.dev/sagemaker-nb/ap-northeast-2/sagemaker_endpoints|latency_testing|endpoint_testing.ipynb)\n",
    "\n",
    "![This ap-south-1 badge failed to load. Check your device's internet connectivity, otherwise the service is currently unavailable](https://prod.us-west-2.tcx-beacon.docs.aws.dev/sagemaker-nb/ap-south-1/sagemaker_endpoints|latency_testing|endpoint_testing.ipynb)\n"
   ]
  }
 ],
 "metadata": {
  "kernelspec": {
   "display_name": "conda_python3",
   "language": "python",
   "name": "conda_python3"
  },
  "language_info": {
   "codemirror_mode": {
    "name": "ipython",
    "version": 3
   },
   "file_extension": ".py",
   "mimetype": "text/x-python",
   "name": "python",
   "nbconvert_exporter": "python",
   "pygments_lexer": "ipython3",
   "version": "3.10.13"
  }
 },
 "nbformat": 4,
 "nbformat_minor": 5
}
