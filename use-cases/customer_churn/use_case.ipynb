{
 "cells": [
  {
   "cell_type": "markdown",
   "metadata": {},
   "source": [
    "# Build a Customer Churn Model for Music Streaming App Users\n",
    "\n",
    "In this demo, you are going to learn how to use various SageMaker functionalities to build, train, and deploy the model from end to end, including data pre-processing steps like ingestion, cleaning and processing, feature engineering, training and hyperparameter tuning, model explainability, and eventually deploy the model. There are two parts of the demo: in part 1: Prepare Data, you will process the data with the help of Data Wrangler, then create features from the cleaned data. By the end of part 1, you will have a complete feature data set that contains all attributes built for each user, and it is ready for modeling. Then in part 2: Modeling and Reference, you will use the data set built from part 1 to find an optimal model for the use case, then test the model predictability with the test data. To start with Part 2, you can either read in data from the output of your Part 1 results, or use the provided 'data/full_feature_data.csv' as the input for the next steps.\n",
    "\n",
    "\n",
    "For how to set up the SageMaker Studio Notebook environment, please check the [onboarding video]( https://www.youtube.com/watch?v=wiDHCWVrjCU&feature=youtu.be). And for a list of services covered in the use case demo, please check the documentation linked in each section.\n",
    "\n",
    "\n",
    "## Content\n",
    "* [Overview](#Overview)\n",
    "* [Data Selection](#2)\n",
    "* [Ingest Data](#4)\n",
    "* [Data Cleaning and Data Exploration](#5)\n",
    "* [Pre-processing with SageMaker Data Wrangler](#7)\n",
    "* [Feature Engineering with SageMaker Processing](#6)\n",
    "* [Data Splitting](#8)\n",
    "* [Model Selection](#9)\n",
    "* [Training with SageMaker Estimator and Experiment](#10)\n",
    "* [Hyperparameter Tuning with SageMaker Hyperparameter Tuning Job](#11)\n",
    "* [Deploy the model with SageMaker Batch-transform](#12)\n",
    "* [Model Explainability with SageMaker Clarify](#15)\n",
    "* [Optional: Automate your training and model selection with SageMaker Autopilot (Console)](#13)"
   ]
  },
  {
   "cell_type": "markdown",
   "metadata": {},
   "source": [
    "## Overview\n",
    "### What is Customer Churn and why is it important for businesses?\n",
    "Customer churn, or customer retention/attrition, means a customer has the tendency to leave and stop paying for a business. It is one of the primary metrics companies want to track to get a sense of their customer satisfaction, especially for a subscription-based business model. The company can track churn rate (defined as the percentage of customers churned during a period) as a health indicator for the business, but we would love to identify the at-risk customers before they churn and offer appropriate treatment to keep them with the business, and this is where machine learning comes into play.\n",
    "### Use Cases for Customer Churn\n",
    "Any subscription-based business would track customer churn as one of the most critical Key Performance Indicators (KPIs). Such companies and industries include Telecom companies (cable, cell phone, internet, etc.), digital subscriptions of media (news, forums, blogposts platforms, etc.), music and video streaming services, and other Software as a Service (SaaS) providers (e-commerce, CRM, Mar-Tech, cloud computing, video conference provider, and visualization and data science tools, etc.)\n",
    "### Define Business problem\n",
    "To start with, here are some common business problems to consider depending on your specific use cases and your focus:\n",
    " * Will this customer churn (cancel the plan, cancel the subscription)?\n",
    " * Will this customer downgrade a pricing plan?\n",
    " * For a subscription business model, will a customer renew his/her subscription?\n",
    "\n",
    "### Machine learning problem formulation\n",
    "#### Classification: will this customer churn?\n",
    "To goal of classification is to identify the at-risk customers and sometimes their unusual behavior, such as: will this customer churn or downgrade their plan? Is there any unusual behavior for a customer? The latter question can be formulated as an anomaly detection problem.\n",
    "#### Time Series: will this customer churn in the next X months? When will this customer churn?\n",
    "You can further explore your users by formulating the problem as a time series one and detect when will the customer churn.\n",
    "\n",
    "### Data Requirements\n",
    "#### Data collection Sources\n",
    "Some most common data sources used to construct a data set for churn analysis are:\n",
    "* Customer Relationship Management platform (CRM), \n",
    "* engagement and usage data (analytics services), \n",
    "* passive feedback (ratings based on your request), and active feedback (customer support request, feedback on social media and review platforms).\n",
    "\n",
    "#### Construct a Data Set for Churn Analysis\n",
    "Most raw data collected from the sources mentioned above are huge and often needs a lot of cleaning and pre-processing. For example, usage data is usually event-based log data and can be more than a few gigabytes every day; you can aggregate the data to user-level daily for further analysis. Feedback and review data are mostly text data, so you would need to clean and pre-process the natural language data to be normalized, machine-readable data. If you are joining multiple data sources (especially from different platforms) together, you would want to make sure all data points are consistent, and the user identity can be matched across different platforms.\n",
    "           \n",
    "#### Challenges with Customer Churn\n",
    "* Business related\n",
    "    * Importance of domain knowledge: this is critical when you start building features for the machine learning model. It is important to understand the business enough to decide which features would trigger retention.\n",
    "* Data issues\n",
    "    * fewer churn data available (imbalanced classes): data for churn analysis is often very imbalanced as most of the customers of a business are happy customers (usually).\n",
    "    * User identity mapping problem: if you are joining data from different platforms (CRM, email, feedback, mobile app, and website usage data), you would want to make sure user A is recognized as the same user across multiple platforms. There are third-party solutions that help you tackle this problem.\n",
    "    * Not collecting the right data for the use case or Lacking enough data"
   ]
  },
  {
   "cell_type": "markdown",
   "metadata": {},
   "source": [
    "# Use Case Study - Music Streaming User Churn Prediction\n",
    "<a id='2'></a>\n",
    "## Data Selection\n",
    "You will use generated music streaming data that is simulated to imitate music streaming user behaviors. The data simulated contains 1100 users and their user behavior for one year (2019/10/28 - 2020/10/28). Data is simulated using the [EventSim](https://github.com/Interana/eventsim) and does not contain any real user data.\n",
    "* Observation window: you will use 1 year of data to generate predictions.\n",
    "* Explanation of fields:\n",
    "    * `ts`: event UNIX timestamp\n",
    "    * `userId`: a randomly assigned unique user id\n",
    "    * `sessionId`: a randomly assigned session id unique to each user\n",
    "    * `page`: event taken by the user, e.g. \"next song\", \"upgrade\", \"cancel\"\n",
    "    * `auth`: whether the user is a logged-in user\n",
    "    * `method`: request method, GET or PUT\n",
    "    * `status`: request status\n",
    "    * `level`: if the user is a free or paid user\n",
    "    * `itemInSession`: event happened in the session\n",
    "    * `location`: location of the user's IP address\n",
    "    * `userAgent`: agent of the user's device\n",
    "    * `lastName`: user's last name\n",
    "    * `firstName`: user's first name\n",
    "    * `registration`: user's time of registration\n",
    "    * `gender`: gender of the user\n",
    "    * `artist`: artist of the song the user is playing at the event\n",
    "    * `song`: song title the user is playing at the event\n",
    "    * `length`: length of the session\n",
    " \n",
    " \n",
    " * the data will be downloaded from Github and contained in an [_Amazon Simple Storage Service_](https://aws.amazon.com/s3/) (Amazon S3) bucket."
   ]
  },
  {
   "cell_type": "markdown",
   "metadata": {},
   "source": [
    "For this specific use case, you will focus on a solution to predict whether a customer will cancel the subscription. Some possible expansion of the work includes:\n",
    "* predict plan downgrading\n",
    "* when a user will churn\n",
    "* add song attributes (genre, playlist, charts) and user attributes (demographics) to the data\n",
    "* add user feedback and customer service requests to the data\n"
   ]
  },
  {
   "cell_type": "markdown",
   "metadata": {},
   "source": [
    "## Architecture Diagram\n",
    "\n",
    "The services covered in the use case and an architecture diagram is shown below.\n",
    "\n",
    "<div>\n",
    "    <img src=\"image/use_case_diagram_v2.png\" width=\"800\"/>\n",
    "\n",
    "</div>"
   ]
  },
  {
   "cell_type": "markdown",
   "metadata": {},
   "source": [
    "# PART 1: Prepare Data"
   ]
  },
  {
   "cell_type": "markdown",
   "metadata": {},
   "source": [
    "## Set Up Notebook"
   ]
  },
  {
   "cell_type": "code",
   "execution_count": 53,
   "metadata": {},
   "outputs": [
    {
     "name": "stdout",
     "output_type": "stream",
     "text": [
      "Note: you may need to restart the kernel to use updated packages.\n"
     ]
    }
   ],
   "source": [
    "%pip install -q 'sagemaker==2.19.0' 'botocore == 1.19.33' 's3fs==0.4.2' 'sagemaker-experiments'\n",
    "#s3fs is needed for pandas to read files from S3"
   ]
  },
  {
   "cell_type": "code",
   "execution_count": 4,
   "metadata": {},
   "outputs": [],
   "source": [
    "import sagemaker\n",
    "import json\n",
    "import pandas as pd\n",
    "import glob \n",
    "import s3fs\n",
    "import boto3"
   ]
  },
  {
   "cell_type": "markdown",
   "metadata": {},
   "source": [
    "## Parameters \n",
    "The following lists configurable parameters that are used throughout the whole notebook."
   ]
  },
  {
   "cell_type": "code",
   "execution_count": 5,
   "metadata": {},
   "outputs": [],
   "source": [
    "sagemaker_session = sagemaker.Session()\n",
    "bucket = sagemaker_session.default_bucket() #replace with your own bucket name if you have one\n",
    "s3 = sagemaker_session.boto_session.resource('s3')\n",
    "\n",
    "region = boto3.Session().region_name\n",
    "role = sagemaker.get_execution_role()\n",
    "smclient = boto3.Session().client('sagemaker')\n",
    "\n",
    "\n",
    "prefix = 'music-streaming'"
   ]
  },
  {
   "cell_type": "markdown",
   "metadata": {},
   "source": [
    "<a id='4'></a>\n",
    "## Ingest Data\n",
    "We will ingest the simulated data from GitHub (currently in GitHub, can host the data somewhere else if necessary). You can follow the Getting Start Guide[link to the guide] to clone the repository, or open a terminal from **Launcher**, then run the following code:\n",
    "\n",
    "`git clone https://github.com/ZoeMa/music-streaming.git`\n",
    "\n",
    "The data is located in the data/folder as zip files. You will unzip the files and upload the files to our S3 bucket."
   ]
  },
  {
   "cell_type": "code",
   "execution_count": 3,
   "metadata": {},
   "outputs": [
    {
     "name": "stdout",
     "output_type": "stream",
     "text": [
      "Archive:  data/simu-1.zip\n",
      "  inflating: data/simu-1.json        \n",
      "Archive:  data/simu-2.zip\n",
      "  inflating: data/simu-2.json        \n",
      "Archive:  data/simu-3.zip\n",
      "  inflating: data/simu-3.json        \n"
     ]
    }
   ],
   "source": [
    "# unzip the partitioned data files into the same folder\n",
    "!unzip -o data/simu-1.zip -d data/raw\n",
    "!unzip -o data/simu-2.zip -d data/raw\n",
    "!unzip -o data/simu-3.zip -d data/raw\n",
    "!unzip -o data/simu-4.zip -d data/raw"
   ]
  },
  {
   "cell_type": "code",
   "execution_count": 56,
   "metadata": {},
   "outputs": [
    {
     "name": "stdout",
     "output_type": "stream",
     "text": [
      "Archive:  data/sample.zip\n",
      "  inflating: data/raw/sample.json    \n"
     ]
    }
   ],
   "source": [
    "!unzip -o data/sample.zip -d data/raw"
   ]
  },
  {
   "cell_type": "code",
   "execution_count": 58,
   "metadata": {},
   "outputs": [
    {
     "name": "stdout",
     "output_type": "stream",
     "text": [
      "upload: data/raw/sample.json to s3://sagemaker-us-east-2-060356833389/music-streaming/data/json/sample.json\n"
     ]
    }
   ],
   "source": [
    "!aws s3 cp  ./data/raw s3://$bucket/$prefix/data/json/  --recursive"
   ]
  },
  {
   "cell_type": "markdown",
   "metadata": {},
   "source": [
    "<a id='5'></a>\n",
    "## Data Cleaning\n",
    "Due to the size of the data (~2GB), you will start exploring our data starting with a smaller sample, decide which pre-processing steps are necessary, and apply them to the whole dataset."
   ]
  },
  {
   "cell_type": "code",
   "execution_count": 6,
   "metadata": {},
   "outputs": [],
   "source": [
    "import os\n",
    "# if your SageMaker Studio notebook's memory is getting full, you can run the following command to remove the raw data files from the instance and free up some memory. \n",
    "# You will read data from your S3 bucket onwards and will not need the raw data stored in the instance.\n",
    "#os.remove(\"data/raw/simu-1.json\")\n",
    "#os.remove(\"data/raw/simu-2.json\")\n",
    "#os.remove(\"data/raw/simu-3.json\")\n",
    "#os.remove(\"data/raw/simu-4.json\")\n",
    "#os.remove(\"data/simu-1.zip\")"
   ]
  },
  {
   "cell_type": "code",
   "execution_count": 59,
   "metadata": {},
   "outputs": [],
   "source": [
    "sample_file_name = \"data/raw/sample.json\"\n",
    "#s3_sample_file_name =  \"data/json/sample.json\"\n",
    "#sample_path = \"s3://{}/{}/{}\".format(bucket, prefix, s3_sample_file_name)\n",
    "sample = pd.read_json(sample_file_name, lines = True)"
   ]
  },
  {
   "cell_type": "code",
   "execution_count": 8,
   "metadata": {},
   "outputs": [
    {
     "data": {
      "text/html": [
       "<div>\n",
       "<style scoped>\n",
       "    .dataframe tbody tr th:only-of-type {\n",
       "        vertical-align: middle;\n",
       "    }\n",
       "\n",
       "    .dataframe tbody tr th {\n",
       "        vertical-align: top;\n",
       "    }\n",
       "\n",
       "    .dataframe thead th {\n",
       "        text-align: right;\n",
       "    }\n",
       "</style>\n",
       "<table border=\"1\" class=\"dataframe\">\n",
       "  <thead>\n",
       "    <tr style=\"text-align: right;\">\n",
       "      <th></th>\n",
       "      <th>ts</th>\n",
       "      <th>userId</th>\n",
       "      <th>sessionId</th>\n",
       "      <th>page</th>\n",
       "      <th>auth</th>\n",
       "      <th>method</th>\n",
       "      <th>status</th>\n",
       "      <th>level</th>\n",
       "      <th>itemInSession</th>\n",
       "      <th>location</th>\n",
       "      <th>userAgent</th>\n",
       "      <th>lastName</th>\n",
       "      <th>firstName</th>\n",
       "      <th>registration</th>\n",
       "      <th>gender</th>\n",
       "      <th>artist</th>\n",
       "      <th>song</th>\n",
       "      <th>length</th>\n",
       "    </tr>\n",
       "  </thead>\n",
       "  <tbody>\n",
       "    <tr>\n",
       "      <th>0</th>\n",
       "      <td>1592146267731</td>\n",
       "      <td>12065</td>\n",
       "      <td>118</td>\n",
       "      <td>NextSong</td>\n",
       "      <td>Logged In</td>\n",
       "      <td>PUT</td>\n",
       "      <td>200</td>\n",
       "      <td>paid</td>\n",
       "      <td>0</td>\n",
       "      <td>Richmond, VA</td>\n",
       "      <td>\"Mozilla/5.0 (Windows NT 6.1; WOW64) AppleWebK...</td>\n",
       "      <td>Davis</td>\n",
       "      <td>Bristol</td>\n",
       "      <td>1.591971e+12</td>\n",
       "      <td>M</td>\n",
       "      <td>Peter Tosh</td>\n",
       "      <td>Wanted Dread And Alive (2002 Digital Remaster)</td>\n",
       "      <td>267.85914</td>\n",
       "    </tr>\n",
       "    <tr>\n",
       "      <th>1</th>\n",
       "      <td>1592146268731</td>\n",
       "      <td>12065</td>\n",
       "      <td>118</td>\n",
       "      <td>Thumbs Down</td>\n",
       "      <td>Logged In</td>\n",
       "      <td>PUT</td>\n",
       "      <td>307</td>\n",
       "      <td>paid</td>\n",
       "      <td>1</td>\n",
       "      <td>Richmond, VA</td>\n",
       "      <td>\"Mozilla/5.0 (Windows NT 6.1; WOW64) AppleWebK...</td>\n",
       "      <td>Davis</td>\n",
       "      <td>Bristol</td>\n",
       "      <td>1.591971e+12</td>\n",
       "      <td>M</td>\n",
       "      <td>NaN</td>\n",
       "      <td>NaN</td>\n",
       "      <td>NaN</td>\n",
       "    </tr>\n",
       "  </tbody>\n",
       "</table>\n",
       "</div>"
      ],
      "text/plain": [
       "              ts userId  sessionId         page       auth method  status  \\\n",
       "0  1592146267731  12065        118     NextSong  Logged In    PUT     200   \n",
       "1  1592146268731  12065        118  Thumbs Down  Logged In    PUT     307   \n",
       "\n",
       "  level  itemInSession      location  \\\n",
       "0  paid              0  Richmond, VA   \n",
       "1  paid              1  Richmond, VA   \n",
       "\n",
       "                                           userAgent lastName firstName  \\\n",
       "0  \"Mozilla/5.0 (Windows NT 6.1; WOW64) AppleWebK...    Davis   Bristol   \n",
       "1  \"Mozilla/5.0 (Windows NT 6.1; WOW64) AppleWebK...    Davis   Bristol   \n",
       "\n",
       "   registration gender      artist  \\\n",
       "0  1.591971e+12      M  Peter Tosh   \n",
       "1  1.591971e+12      M         NaN   \n",
       "\n",
       "                                             song     length  \n",
       "0  Wanted Dread And Alive (2002 Digital Remaster)  267.85914  \n",
       "1                                             NaN        NaN  "
      ]
     },
     "execution_count": 8,
     "metadata": {},
     "output_type": "execute_result"
    }
   ],
   "source": [
    "sample.head(2)"
   ]
  },
  {
   "cell_type": "markdown",
   "metadata": {},
   "source": [
    "#### Remove irrelevant columns\n",
    "From the first look of data, you can notice that columns `lastName`, `firstName`, `method` and `status` are not relevant features. These will be dropped from the data."
   ]
  },
  {
   "cell_type": "code",
   "execution_count": 9,
   "metadata": {},
   "outputs": [],
   "source": [
    "columns_to_remove = ['method', 'status', 'lastName', 'firstName']\n",
    "sample = sample.drop(columns = columns_to_remove)"
   ]
  },
  {
   "cell_type": "markdown",
   "metadata": {},
   "source": [
    "#### Check for null values\n",
    "You are going to remove all events without an `userId` assigned since you are predicting which recognized user will churn from our service. In this case, all the rows(events) have a `userId` and `sessionId` assigned, but you will still run this step for the full dataset. For other columns, there are ~3% of data that are missing some demographic information of the users, and ~20% missing the song attributes, which is because the events contain not only playing a song, but also other actions including login and log out, downgrade, cancellation, etc. There are ~3% of users that do not have a registration time, so you will remove these anonymous users from the record."
   ]
  },
  {
   "cell_type": "code",
   "execution_count": 10,
   "metadata": {},
   "outputs": [
    {
     "name": "stdout",
     "output_type": "stream",
     "text": [
      "percentage of the value missing in each column is: \n"
     ]
    },
    {
     "data": {
      "text/plain": [
       "ts               0.000000\n",
       "userId           0.000000\n",
       "sessionId        0.000000\n",
       "page             0.000000\n",
       "auth             0.000000\n",
       "level            0.000000\n",
       "itemInSession    0.000000\n",
       "location         0.025447\n",
       "userAgent        0.025447\n",
       "registration     0.025447\n",
       "gender           0.025447\n",
       "artist           0.210330\n",
       "song             0.210330\n",
       "length           0.210330\n",
       "dtype: float64"
      ]
     },
     "execution_count": 10,
     "metadata": {},
     "output_type": "execute_result"
    }
   ],
   "source": [
    "print ('percentage of the value missing in each column is: ')\n",
    "sample.isnull().sum() / len(sample)"
   ]
  },
  {
   "cell_type": "code",
   "execution_count": 11,
   "metadata": {},
   "outputs": [],
   "source": [
    "sample = sample[~sample['userId'].isnull()]\n",
    "sample = sample[~sample['registration'].isnull()]"
   ]
  },
  {
   "cell_type": "markdown",
   "metadata": {},
   "source": [
    "## Data Exploration\n",
    "Let's take a look at our categorical columns first: `page`, `auth`, `level`, `location`, `userAgent`, `gender`, `artist`, and `song`, and start with looking at unique values for `page`, `auth`, `level`, and `gender` since the other three have many unique values and you will take a different approach."
   ]
  },
  {
   "cell_type": "code",
   "execution_count": 12,
   "metadata": {},
   "outputs": [
    {
     "name": "stdout",
     "output_type": "stream",
     "text": [
      "The unique values in column page are: ['NextSong' 'Thumbs Down' 'Home' 'Settings' 'Thumbs Up' 'Add to Playlist'\n",
      " 'Roll Advert' 'Save Settings' 'Help' 'Logout' 'Add Friend' 'Downgrade'\n",
      " 'About' 'Upgrade' 'Error' 'Submit Upgrade' 'Submit Downgrade' 'Cancel'\n",
      " 'Cancellation Confirmation']\n",
      "The unique values in column auth are: ['Logged In' 'Cancelled']\n",
      "The unique values in column level are: ['paid' 'free']\n",
      "The unique values in column gender are: ['M' 'F']\n",
      "There are 72 unique values  in column location\n",
      "There are 37 unique values  in column userAgent\n",
      "There are 16207 unique values  in column artist\n",
      "There are 51447 unique values  in column song\n",
      "There are 101 unique values  in column userId\n"
     ]
    }
   ],
   "source": [
    "cat_columns = ['page', 'auth', 'level',  'gender']\n",
    "cat_columns_long = ['location', 'userAgent', 'artist', 'song', 'userId']\n",
    "for col in cat_columns:\n",
    "    print( \"The unique values in column {} are: {}\".format(col, sample[col].unique()))\n",
    "for col in cat_columns_long:\n",
    "    print ( \"There are {} unique values  in column {}\".format(sample[col].nunique(), col))"
   ]
  },
  {
   "cell_type": "markdown",
   "metadata": {},
   "source": [
    "#### Key observations from the above information\n",
    "* There are 101 unique users with 72 unique locations, this information may not be useful as a categorical feature. You can parse this field and only keep State information, but even that will give us 50 unique values in this category, so you can either remove this column or bucket it to a higher level (NY --> Northeast).\n",
    "* Artist and song details might not be helpful as categorical features as there are too many categories; you can quantify these to a user level, i.e. how many artists this user has listened to in total, how many songs this user has played in the last week, last month, in 180 days, in 365 days. You can also bring in external data to get song genres and other artist attributes to enrich this feature.\n",
    "* In the column `page`,  'Thumbs Down', 'Thumbs Up', 'Add to Playlist', 'Roll Advert','Help', 'Add Friend', 'Downgrade', 'Upgrade', and 'Error' can all be great features to churn analysis. You will aggregate them to user-level later. There is a \"cancellation confirmation\" value that can be used for the churn indicator.\n",
    "\n",
    "* Let's take a look at the column `userAgent`:\n"
   ]
  },
  {
   "cell_type": "markdown",
   "metadata": {},
   "source": [
    "UserAgent contains little useful information, but if you care about the browser type and mac/windows difference, you can parse the text and extract the information. Sometimes businesses would love to analyze user behavior based on their App version and device type (iOS v.s. Android), so these could be useful information. In this use case, for modeling purpose, we will remove this column. but you can keep it as a filter for data visualization."
   ]
  },
  {
   "cell_type": "code",
   "execution_count": 13,
   "metadata": {},
   "outputs": [],
   "source": [
    "columns_to_remove = ['location', 'userAgent']\n",
    "sample = sample.drop(columns = columns_to_remove)"
   ]
  },
  {
   "cell_type": "markdown",
   "metadata": {},
   "source": [
    "Let's take a closer look at the timestamp columns `ts` and `registration`. We can convert the event timestamp `ts` to year, month, week, day, day of the week, and hour of the day. The registration time should be the same for the same user, so we can aggregate this value to user-level and create a time delta column to calculate the time between registration and the newest event."
   ]
  },
  {
   "cell_type": "code",
   "execution_count": 14,
   "metadata": {},
   "outputs": [],
   "source": [
    "sample['date'] = pd.to_datetime(sample['ts'],unit='ms')\n",
    "sample['ts_year'] = sample['date'].dt.year\n",
    "sample['ts_month'] = sample['date'].dt.month\n",
    "sample['ts_week'] = sample['date'].dt.week\n",
    "sample['ts_day'] = sample['date'].dt.day\n",
    "sample['ts_dow'] = sample['date'].dt.weekday\n",
    "sample['ts_hour'] = sample['date'].dt.hour\n",
    "sample['ts_date_day'] = sample['date'].dt.date\n",
    "sample['ts_is_weekday'] = [1  if x in [0,1,2,3,4] else 0 for x in sample['ts_dow']]\n",
    "sample['registration_ts'] = pd.to_datetime(sample['registration'],unit='ms').dt.date"
   ]
  },
  {
   "cell_type": "markdown",
   "metadata": {},
   "source": [
    "#### Define Churn\n",
    "In this use case, you will use `page == \"Cancellation Confirmation\"` as the indicator of a user churn. You can also use `page == 'downgrade` if you are interested in users downgrading their payment plan. There are ~13% users churned, so you will need to up-sample or down-sample the full dataset to deal with the imbalanced class, or carefully choose your algorithms."
   ]
  },
  {
   "cell_type": "code",
   "execution_count": 15,
   "metadata": {},
   "outputs": [
    {
     "name": "stdout",
     "output_type": "stream",
     "text": [
      "There are 12.87% of users churned in this dataset\n"
     ]
    }
   ],
   "source": [
    "print ('There are {:.2f}% of users churned in this dataset'.format(((sample[sample['page'] == 'Cancellation Confirmation']['userId'].nunique())/sample['userId'].nunique())*100))"
   ]
  },
  {
   "cell_type": "markdown",
   "metadata": {},
   "source": [
    "You can label a user by adding a churn label at a event level then aggregate this value to user level. "
   ]
  },
  {
   "cell_type": "code",
   "execution_count": 16,
   "metadata": {},
   "outputs": [],
   "source": [
    "sample['churned_event'] = [1 if x == 'Cancellation Confirmation' else 0 for x in sample['page']]\n",
    "sample['user_churned'] = sample.groupby('userId')['churned_event'].transform('max')"
   ]
  },
  {
   "cell_type": "markdown",
   "metadata": {},
   "source": [
    "#### Imbalanced Class\n",
    "Imbalanced class (much more positive cases than negative cases) is very common in churn analysis. It can be misleading for some machine learning model as the accuracy will be biased towards the majority class. Some useful tactics to deal with imbalanced class are [SMOTE](https://imbalanced-learn.readthedocs.io/en/stable/generated/imblearn.over_sampling.SMOTE.html), use algorithms that are less sensitive to imbalanced class like a tree-based algorithm or use a cost-sensitive algorithm that penalizes wrongly classified minority class."
   ]
  },
  {
   "cell_type": "markdown",
   "metadata": {},
   "source": [
    "To Summarize every pre-processing steps you have covered:\n",
    "* null removals\n",
    "* drop irrelevant columns\n",
    "* convert event timestamps to features used for analysis and modeling: year, month, week, day, day of week, hour, date, if the day is weekday or weekend, and convert registration timestamp to UTC.\n",
    "* create labels (whether the user churned eventually), which is calculated by if one churn event happened in the user's history, you can label the user as a churned user (1). "
   ]
  },
  {
   "cell_type": "markdown",
   "metadata": {},
   "source": [
    "#### Exploring Data\n",
    "Based on the available data, look at every column, and decide if you can create a feature from it. For all the columns, here are some directions to explore:\n",
    "\n",
    "    * `ts`: distribution of activity time: time of the day, day of the week\n",
    "    * `sessionId`: average number of sessions per user\n",
    "    * `page`:  number of thumbs up/thumbs down, added to the playlist, ads, add friend, if the user has downgrade or upgrade the plan, how many errors the user has encountered.\n",
    "    * `level`: if the user is a free or paid user\n",
    "    * `registration`: days the user being active, time the user joined the service\n",
    "    * `gender`: gender of the user\n",
    "    * `artist`: average number of artists the user listened to\n",
    "    * `song`: average number of songs listened per user\n",
    "    * `length`: average time spent per day per user\n",
    "   \n",
    "**Activity Time**\n",
    "\n",
    "1. Weekday v.s. weekend trends for churned users and active users. It seems like churned users are more active on weekdays than weekends whereas active users do not show a strong difference between weekday v.s. weekends. You can create some features from here: for each user, average events per day -- weekends, average events per day -- weekdays. You can also create features - average events per day of the week, but that will be converted to 7 features after one-hot-encoding, which may be less informative than the previous method.\n",
    "2. In terms of hours active during a day, our simulated data did not show a significant difference between day and night for both sets of users. You can have it on your checklist for your analysis, and similarly for the day of the month, the month of the year when you have more than a year of data."
   ]
  },
  {
   "cell_type": "code",
   "execution_count": 19,
   "metadata": {},
   "outputs": [
    {
     "data": {
      "image/png": "[encoded data removed]",
      "text/plain": [
       "<Figure size 864x216 with 1 Axes>"
      ]
     },
     "metadata": {},
     "output_type": "display_data"
    }
   ],
   "source": [
    "import seaborn as sns\n",
    "import matplotlib.pyplot as plt\n",
    "\n",
    "events_per_day_per_user = sample.groupby(['userId', 'ts_date_day', 'ts_is_weekday', 'user_churned']).agg({'page': 'count'}).reset_index()\n",
    "events_dist = events_per_day_per_user.groupby(['userId','ts_is_weekday', 'user_churned']).agg({'page': 'mean'}).reset_index()\n",
    "\n",
    "def trend_plot(df, plot_type, x, y,hue = None, title =None, x_axis = None, y_axis = None, xticks = None, yticks = None):\n",
    "    if plot_type == 'box':\n",
    "        fig =  sns.boxplot(x= 'page', y = y, data = df, hue = hue, orient=\"h\")\n",
    "    elif plot_type == 'bar':\n",
    "        fig = sns.barplot(x= x, y = y, data = df, hue = hue)\n",
    "        \n",
    "    sns.set(rc={'figure.figsize':(12,3)})\n",
    "    sns.set_palette(\"Set2\")\n",
    "    sns.set_style(\"darkgrid\")\n",
    "    plt.title(title)\n",
    "    plt.xlabel(x_axis)\n",
    "    plt.ylabel(y_axis)\n",
    "    plt.yticks([0,1],yticks)\n",
    "    return plt.show(fig)\n",
    "\n",
    "trend_plot(events_dist, 'box', 'page', 'user_churned', 'ts_is_weekday',\n",
    "         'Weekday V.S. Weekends - Average events per day per user', 'average events per user per day', \n",
    "        yticks = ['active users', 'churned users'])"
   ]
  },
  {
   "cell_type": "code",
   "execution_count": 20,
   "metadata": {},
   "outputs": [
    {
     "data": {
      "image/png": "[encoded data removed]",
      "text/plain": [
       "<Figure size 864x216 with 1 Axes>"
      ]
     },
     "metadata": {},
     "output_type": "display_data"
    }
   ],
   "source": [
    "events_per_hour_per_user = sample.groupby(['userId', 'ts_date_day','ts_hour',  'user_churned']).agg({'page': 'count'}).reset_index()\n",
    "events_dist = events_per_hour_per_user.groupby(['userId','ts_hour', 'user_churned']).agg({'page': 'mean'}).reset_index().groupby(['ts_hour', 'user_churned']).agg({'page': 'mean'}).reset_index()\n",
    "trend_plot(events_dist, 'bar', 'ts_hour', 'page', 'user_churned',\n",
    "         'Hourly activity - Average events per hour of day per user', 'hour of the day', 'average events per user per hour')"
   ]
  },
  {
   "cell_type": "markdown",
   "metadata": {},
   "source": [
    "**Listening Behavior**\n",
    "\n",
    "You can look at some basic stats for a user's listening habits. Churned users generally listen to a wider variety of songs and artists and spend more time on the App/be with the App longer.\n",
    "* Average total: number of sessions, App usage length, number of songs listened, number of artists listened per user, number of ad days active\n",
    "* Average daily: number of sessions, App usage length, number of songs listened, number of artists listened per user\n"
   ]
  },
  {
   "cell_type": "code",
   "execution_count": 21,
   "metadata": {},
   "outputs": [
    {
     "name": "stdout",
     "output_type": "stream",
     "text": [
      "Average total: number of sessions, App usage length, number of songs listened, number of artists listened per user, days active: \n"
     ]
    },
    {
     "data": {
      "text/html": [
       "<div>\n",
       "<style scoped>\n",
       "    .dataframe tbody tr th:only-of-type {\n",
       "        vertical-align: middle;\n",
       "    }\n",
       "\n",
       "    .dataframe tbody tr th {\n",
       "        vertical-align: top;\n",
       "    }\n",
       "\n",
       "    .dataframe thead th {\n",
       "        text-align: right;\n",
       "    }\n",
       "</style>\n",
       "<table border=\"1\" class=\"dataframe\">\n",
       "  <thead>\n",
       "    <tr style=\"text-align: right;\">\n",
       "      <th></th>\n",
       "      <th>user_churned</th>\n",
       "      <th>sessionId</th>\n",
       "      <th>song</th>\n",
       "      <th>artist</th>\n",
       "      <th>length</th>\n",
       "      <th>ts_date_day</th>\n",
       "    </tr>\n",
       "  </thead>\n",
       "  <tbody>\n",
       "    <tr>\n",
       "      <th>0</th>\n",
       "      <td>0</td>\n",
       "      <td>2044.636364</td>\n",
       "      <td>1434.102273</td>\n",
       "      <td>1067.602273</td>\n",
       "      <td>412310.642096</td>\n",
       "      <td>2044.636364</td>\n",
       "    </tr>\n",
       "    <tr>\n",
       "      <th>1</th>\n",
       "      <td>1</td>\n",
       "      <td>3260.384615</td>\n",
       "      <td>2173.153846</td>\n",
       "      <td>1493.230769</td>\n",
       "      <td>656340.586522</td>\n",
       "      <td>3260.384615</td>\n",
       "    </tr>\n",
       "  </tbody>\n",
       "</table>\n",
       "</div>"
      ],
      "text/plain": [
       "   user_churned    sessionId         song       artist         length  \\\n",
       "0             0  2044.636364  1434.102273  1067.602273  412310.642096   \n",
       "1             1  3260.384615  2173.153846  1493.230769  656340.586522   \n",
       "\n",
       "   ts_date_day  \n",
       "0  2044.636364  \n",
       "1  3260.384615  "
      ]
     },
     "execution_count": 21,
     "metadata": {},
     "output_type": "execute_result"
    }
   ],
   "source": [
    "stats_per_user = sample.groupby(['userId', 'user_churned']).agg({\"sessionId\": 'count',\n",
    "                                                                  'song':'nunique',\n",
    "                                                                  'artist': 'nunique',\n",
    "                                                                  'length': 'sum',\n",
    "                                                                'ts_date_day': 'count'}).reset_index()\n",
    "avg_stats_group = stats_per_user.groupby(['user_churned']).agg({\"sessionId\": 'mean',\n",
    "                                                                   'song':'mean',\n",
    "                                                                  'artist': 'mean',\n",
    "                                                                  'length': 'mean',\n",
    "                                                                'ts_date_day': 'mean'\n",
    "                                                               }).reset_index()\n",
    "\n",
    "print('Average total: number of sessions, App usage length, number of songs listened, number of artists listened per user, days active: ')\n",
    "avg_stats_group"
   ]
  },
  {
   "cell_type": "code",
   "execution_count": 22,
   "metadata": {},
   "outputs": [
    {
     "name": "stdout",
     "output_type": "stream",
     "text": [
      "Average daily: number of sessions, App usage length, number of songs listened, number of artists listened per user: \n"
     ]
    },
    {
     "data": {
      "text/html": [
       "<div>\n",
       "<style scoped>\n",
       "    .dataframe tbody tr th:only-of-type {\n",
       "        vertical-align: middle;\n",
       "    }\n",
       "\n",
       "    .dataframe tbody tr th {\n",
       "        vertical-align: top;\n",
       "    }\n",
       "\n",
       "    .dataframe thead th {\n",
       "        text-align: right;\n",
       "    }\n",
       "</style>\n",
       "<table border=\"1\" class=\"dataframe\">\n",
       "  <thead>\n",
       "    <tr style=\"text-align: right;\">\n",
       "      <th></th>\n",
       "      <th>user_churned</th>\n",
       "      <th>sessionId</th>\n",
       "      <th>song</th>\n",
       "      <th>artist</th>\n",
       "      <th>length</th>\n",
       "    </tr>\n",
       "  </thead>\n",
       "  <tbody>\n",
       "    <tr>\n",
       "      <th>0</th>\n",
       "      <td>0</td>\n",
       "      <td>76.597701</td>\n",
       "      <td>61.301831</td>\n",
       "      <td>59.323116</td>\n",
       "      <td>15446.290551</td>\n",
       "    </tr>\n",
       "    <tr>\n",
       "      <th>1</th>\n",
       "      <td>1</td>\n",
       "      <td>92.746171</td>\n",
       "      <td>74.291028</td>\n",
       "      <td>71.501094</td>\n",
       "      <td>18670.519967</td>\n",
       "    </tr>\n",
       "  </tbody>\n",
       "</table>\n",
       "</div>"
      ],
      "text/plain": [
       "   user_churned  sessionId       song     artist        length\n",
       "0             0  76.597701  61.301831  59.323116  15446.290551\n",
       "1             1  92.746171  74.291028  71.501094  18670.519967"
      ]
     },
     "execution_count": 22,
     "metadata": {},
     "output_type": "execute_result"
    }
   ],
   "source": [
    "stats_per_user = sample.groupby(['userId','ts_date_day', 'user_churned']).agg({\"sessionId\": 'count',\n",
    "                                                                  'song':'nunique',\n",
    "                                                                  'artist': 'nunique',\n",
    "                                                                  'length': 'sum'}).reset_index()\n",
    "avg_stats_group = stats_per_user.groupby(['user_churned']).agg({\"sessionId\": 'mean',\n",
    "                                                                   'song':'mean',\n",
    "                                                                  'artist': 'mean',\n",
    "                                                                  'length': 'mean'}).reset_index()\n",
    "print('Average daily: number of sessions, App usage length, number of songs listened, number of artists listened per user: ')\n",
    "avg_stats_group"
   ]
  },
  {
   "cell_type": "markdown",
   "metadata": {},
   "source": [
    "**App Usage Behavior**\n",
    "\n",
    "You can further explore how the users are using the App besides just listening: number of thumbs up/thumbs down, added to playlist, ads, add friend, if the user has downgrade or upgrade the plan, how many errors the user has encountered. Churned users are slightly more active than other users, and also encounter more errors, listened to more ads, and more downgrade and upgrade. These can be numerical features (number of total events per type per user), or more advanced time series numerical features (errors in last 7 days, errors in last month, etc.)."
   ]
  },
  {
   "cell_type": "code",
   "execution_count": 23,
   "metadata": {},
   "outputs": [],
   "source": [
    "events_list = [ 'NextSong', 'Thumbs Down', 'Thumbs Up', 'Add to Playlist', 'Roll Advert','Add Friend', 'Downgrade',\n",
    "               'Upgrade', 'Error']\n",
    "usage_column_name = []\n",
    "for event in events_list:\n",
    "    event_name = \"_\".join(event.split()).lower()\n",
    "    usage_column_name.append(event_name)\n",
    "    sample[event_name] =  [1 if x == event else 0 for x in sample['page']]"
   ]
  },
  {
   "cell_type": "code",
   "execution_count": 24,
   "metadata": {},
   "outputs": [],
   "source": [
    "app_use_per_user =  sample.groupby(['userId','user_churned'])[usage_column_name].sum().reset_index()"
   ]
  },
  {
   "cell_type": "code",
   "execution_count": 25,
   "metadata": {},
   "outputs": [
    {
     "data": {
      "text/html": [
       "<div>\n",
       "<style scoped>\n",
       "    .dataframe tbody tr th:only-of-type {\n",
       "        vertical-align: middle;\n",
       "    }\n",
       "\n",
       "    .dataframe tbody tr th {\n",
       "        vertical-align: top;\n",
       "    }\n",
       "\n",
       "    .dataframe thead th {\n",
       "        text-align: right;\n",
       "    }\n",
       "</style>\n",
       "<table border=\"1\" class=\"dataframe\">\n",
       "  <thead>\n",
       "    <tr style=\"text-align: right;\">\n",
       "      <th></th>\n",
       "      <th>user_churned</th>\n",
       "      <th>nextsong</th>\n",
       "      <th>thumbs_down</th>\n",
       "      <th>thumbs_up</th>\n",
       "      <th>add_to_playlist</th>\n",
       "      <th>roll_advert</th>\n",
       "      <th>add_friend</th>\n",
       "      <th>downgrade</th>\n",
       "      <th>upgrade</th>\n",
       "      <th>error</th>\n",
       "    </tr>\n",
       "  </thead>\n",
       "  <tbody>\n",
       "    <tr>\n",
       "      <th>0</th>\n",
       "      <td>0</td>\n",
       "      <td>1656.204545</td>\n",
       "      <td>16.988636</td>\n",
       "      <td>150.477273</td>\n",
       "      <td>50.863636</td>\n",
       "      <td>7.613636</td>\n",
       "      <td>29.181818</td>\n",
       "      <td>9.568182</td>\n",
       "      <td>1.954545</td>\n",
       "      <td>2.193182</td>\n",
       "    </tr>\n",
       "    <tr>\n",
       "      <th>1</th>\n",
       "      <td>1</td>\n",
       "      <td>2645.538462</td>\n",
       "      <td>28.076923</td>\n",
       "      <td>239.615385</td>\n",
       "      <td>80.846154</td>\n",
       "      <td>10.923077</td>\n",
       "      <td>48.923077</td>\n",
       "      <td>12.615385</td>\n",
       "      <td>2.461538</td>\n",
       "      <td>3.461538</td>\n",
       "    </tr>\n",
       "  </tbody>\n",
       "</table>\n",
       "</div>"
      ],
      "text/plain": [
       "   user_churned     nextsong  thumbs_down   thumbs_up  add_to_playlist  \\\n",
       "0             0  1656.204545    16.988636  150.477273        50.863636   \n",
       "1             1  2645.538462    28.076923  239.615385        80.846154   \n",
       "\n",
       "   roll_advert  add_friend  downgrade   upgrade     error  \n",
       "0     7.613636   29.181818   9.568182  1.954545  2.193182  \n",
       "1    10.923077   48.923077  12.615385  2.461538  3.461538  "
      ]
     },
     "execution_count": 25,
     "metadata": {},
     "output_type": "execute_result"
    }
   ],
   "source": [
    "app_use_group = app_use_per_user.groupby(['user_churned'])[usage_column_name].mean().reset_index()\n",
    "app_use_group"
   ]
  },
  {
   "cell_type": "markdown",
   "metadata": {},
   "source": [
    "<a id='7'></a>\n",
    "## Pre-processing with SageMaker Data Wrangler\n",
    "\n",
    "Now that you have a good understanding of your data and decided which steps are needed to pre-process your data, you can utilize the new Amazon SageMaker GUI tool **Data Wrangler**, without writing all the code for the SageMaker Processing Job.\n",
    "\n",
    "* Here we used a Processing Job to convert the raw streaming data files downloaded from the github repo (`simu-*.zip` files) to a full, CSV formatted file for Data Wrangler Ingestion purpose.\n",
    "you are importing the raw streaming data files downloaded from the github repo (`simu-*.zip` files). The raw JSON files were converted to CSV format and combined to one file for Data Wrangler Ingestion purpose."
   ]
  },
  {
   "cell_type": "code",
   "execution_count": null,
   "metadata": {},
   "outputs": [],
   "source": [
    "%%writefile preprocessing_predw.py\n",
    "\n",
    "import argparse\n",
    "import os\n",
    "import warnings\n",
    "import glob\n",
    "import time\n",
    "import pandas as pd\n",
    "import json\n",
    "\n",
    "from sklearn.exceptions import DataConversionWarning\n",
    "warnings.filterwarnings(action='ignore', category=DataConversionWarning)\n",
    "start_time = time.time()\n",
    "\n",
    "if __name__=='__main__':\n",
    "    parser = argparse.ArgumentParser()\n",
    "    df_all = pd.DataFrame() \n",
    "    for name in glob.glob('/opt/ml/processing/input/[!code]*'):\n",
    "        print('\\nstarting file: {}'.format(name))\n",
    "        df = pd.read_json(name, lines = True)\n",
    "        df_all = df_all.append(df)\n",
    "    final_features_output_path = os.path.join('/opt/ml/processing/output', 'full_data.csv')    \n",
    "    print('Saving processed data to {}'.format(final_features_output_path))\n",
    "    df_all.to_csv(final_features_output_path, header=True, index=False)"
   ]
  },
  {
   "cell_type": "code",
   "execution_count": null,
   "metadata": {},
   "outputs": [],
   "source": [
    "input_data_raw = 's3://sagemaker-us-east-2-060356833389/music-streaming/data/json'"
   ]
  },
  {
   "cell_type": "code",
   "execution_count": null,
   "metadata": {},
   "outputs": [],
   "source": [
    "from sagemaker.processing import ProcessingInput, ProcessingOutput\n",
    "\n",
    "sklearn_processor.run(code='preprocessing_predw.py',\n",
    "                      inputs=[ProcessingInput(\n",
    "                        source=input_data_raw,\n",
    "                          s3_data_type = \"S3Prefix\",\n",
    "                         # s3_input_mode = \"Pipe\",\n",
    "                        #  s3_compression_type = \"Gzip\",\n",
    "                        destination='/opt/ml/processing/input')],\n",
    "                      outputs=[ProcessingOutput(output_name='processed_data',\n",
    "                                                source='/opt/ml/processing/output')]\n",
    "                     )\n",
    "\n",
    "preprocessing_job_description = sklearn_processor.jobs[-1].describe()"
   ]
  },
  {
   "cell_type": "markdown",
   "metadata": {},
   "source": [
    "Now you can initiate a Data Wrangler flow. An example flow (`dw_example.flow`) is provided in the github repo. \n",
    "\n",
    "From the SageMaker Studio launcher page, choose **New data flow**, then choose **import from S3**. \n",
    "\n",
    "<div>\n",
    "<img src=\"image/mo1.PNG\" width=\"600\"/>\n",
    "   </div>\n",
    "   \n",
    "You can import any .csv format file with SageMaker Data Wrangler, preview your data, and decide what pre-processing steps are needed.\n",
    "  <div>\n",
    "<img src=\"image/mo2.PNG\" width=\"600\"/>\n",
    "   </div> \n",
    "You can choose your pre-processing steps, including drop columns and rename columns from the pre-built solutions, also customize processing and feature engineering code in the custom Pandas code block.\n",
    "<div>\n",
    "<img src=\"image/mo3.PNG\" width=\"600\"/>\n",
    "\n",
    "</div>\n",
    "After everything run through, it will create a Processing job notebook for you. You can run through the notebook to kick off the Processing Job and check the status in the console.\n",
    "\n",
    "<div>\n",
    "<img src=\"image/mo4.PNG\" width=\"600\"/>\n",
    "\n",
    "</div>"
   ]
  },
  {
   "cell_type": "markdown",
   "metadata": {},
   "source": [
    "#### Find the data path of the SageMaker Data Wrangler Job\n",
    "You can get the results from your Data Wrangler Job, check the results, and use it as input for your feature engineering processing job."
   ]
  },
  {
   "cell_type": "code",
   "execution_count": 7,
   "metadata": {},
   "outputs": [
    {
     "data": {
      "text/plain": [
       "'export-flow-02-19-27-21-72a11d3c/output'"
      ]
     },
     "execution_count": 7,
     "metadata": {},
     "output_type": "execute_result"
    }
   ],
   "source": [
    "### if you see an \"not exist\" error running this cell, go back to the Data Wrangler Job and run the storemagic cell to save the output variable. \n",
    "#%store -r\n",
    "#output_prefix"
   ]
  },
  {
   "cell_type": "code",
   "execution_count": 26,
   "metadata": {},
   "outputs": [],
   "source": [
    "s3_client = boto3.client(\"s3\")\n",
    "list_response = s3_client.list_objects_v2(Bucket=bucket, Prefix = 'export-flow')\n",
    "\n",
    "data_wrangler_output_path = None"
   ]
  },
  {
   "cell_type": "code",
   "execution_count": 27,
   "metadata": {},
   "outputs": [
    {
     "name": "stdout",
     "output_type": "stream",
     "text": [
      "export-flow-02-19-27-21-72a11d3c/output/data-wrangler-flow-processing-02-19-27-21-72a11d3c/7b74dbbc-6f7e-4656-8f78-25272604bc45/default/part-00000-db6f32ff-8081-4a57-b790-45670cf904ea-c000.csv\n"
     ]
    }
   ],
   "source": [
    "for content in list_response[\"Contents\"]:\n",
    "    if \"_SUCCESS\" not in content[\"Key\"]:\n",
    "        data_wrangler_output_path = content[\"Key\"]\n",
    "\n",
    "print(data_wrangler_output_path)"
   ]
  },
  {
   "cell_type": "code",
   "execution_count": 28,
   "metadata": {},
   "outputs": [
    {
     "data": {
      "text/html": [
       "<div>\n",
       "<style scoped>\n",
       "    .dataframe tbody tr th:only-of-type {\n",
       "        vertical-align: middle;\n",
       "    }\n",
       "\n",
       "    .dataframe tbody tr th {\n",
       "        vertical-align: top;\n",
       "    }\n",
       "\n",
       "    .dataframe thead th {\n",
       "        text-align: right;\n",
       "    }\n",
       "</style>\n",
       "<table border=\"1\" class=\"dataframe\">\n",
       "  <thead>\n",
       "    <tr style=\"text-align: right;\">\n",
       "      <th></th>\n",
       "      <th>ts</th>\n",
       "      <th>userId</th>\n",
       "      <th>sessionId</th>\n",
       "      <th>page</th>\n",
       "      <th>auth</th>\n",
       "      <th>level</th>\n",
       "      <th>itemInSession</th>\n",
       "      <th>registration</th>\n",
       "      <th>gender</th>\n",
       "      <th>artist</th>\n",
       "      <th>song</th>\n",
       "      <th>length</th>\n",
       "    </tr>\n",
       "  </thead>\n",
       "  <tbody>\n",
       "    <tr>\n",
       "      <th>0</th>\n",
       "      <td>1592146267731</td>\n",
       "      <td>12065</td>\n",
       "      <td>118</td>\n",
       "      <td>NextSong</td>\n",
       "      <td>Logged In</td>\n",
       "      <td>paid</td>\n",
       "      <td>0</td>\n",
       "      <td>1.591971e+12</td>\n",
       "      <td>M</td>\n",
       "      <td>Peter Tosh</td>\n",
       "      <td>Wanted Dread And Alive (2002 Digital Remaster)</td>\n",
       "      <td>267.0</td>\n",
       "    </tr>\n",
       "    <tr>\n",
       "      <th>1</th>\n",
       "      <td>1592146268731</td>\n",
       "      <td>12065</td>\n",
       "      <td>118</td>\n",
       "      <td>Thumbs Down</td>\n",
       "      <td>Logged In</td>\n",
       "      <td>paid</td>\n",
       "      <td>1</td>\n",
       "      <td>1.591971e+12</td>\n",
       "      <td>M</td>\n",
       "      <td>NaN</td>\n",
       "      <td>NaN</td>\n",
       "      <td>NaN</td>\n",
       "    </tr>\n",
       "    <tr>\n",
       "      <th>2</th>\n",
       "      <td>1592146534731</td>\n",
       "      <td>12065</td>\n",
       "      <td>118</td>\n",
       "      <td>NextSong</td>\n",
       "      <td>Logged In</td>\n",
       "      <td>paid</td>\n",
       "      <td>2</td>\n",
       "      <td>1.591971e+12</td>\n",
       "      <td>M</td>\n",
       "      <td>Jimmy Eat World</td>\n",
       "      <td>The Middle</td>\n",
       "      <td>166.0</td>\n",
       "    </tr>\n",
       "  </tbody>\n",
       "</table>\n",
       "</div>"
      ],
      "text/plain": [
       "              ts  userId  sessionId         page       auth level  \\\n",
       "0  1592146267731   12065        118     NextSong  Logged In  paid   \n",
       "1  1592146268731   12065        118  Thumbs Down  Logged In  paid   \n",
       "2  1592146534731   12065        118     NextSong  Logged In  paid   \n",
       "\n",
       "   itemInSession  registration gender           artist  \\\n",
       "0              0  1.591971e+12      M       Peter Tosh   \n",
       "1              1  1.591971e+12      M              NaN   \n",
       "2              2  1.591971e+12      M  Jimmy Eat World   \n",
       "\n",
       "                                             song  length  \n",
       "0  Wanted Dread And Alive (2002 Digital Remaster)   267.0  \n",
       "1                                             NaN     NaN  \n",
       "2                                      The Middle   166.0  "
      ]
     },
     "execution_count": 28,
     "metadata": {},
     "output_type": "execute_result"
    }
   ],
   "source": [
    "s3_data_wrangler_output_path = 's3://{}/{}'.format(bucket, data_wrangler_output_path)\n",
    "pd.read_csv(s3_data_wrangler_output_path, nrows = 3)"
   ]
  },
  {
   "cell_type": "code",
   "execution_count": 213,
   "metadata": {},
   "outputs": [],
   "source": [
    "## The output from Data Wrangler is also provided in the github repo (data/data_wrangler_output.csv). \n",
    "## You can also read the provided csv directly."
   ]
  },
  {
   "cell_type": "markdown",
   "metadata": {},
   "source": [
    "<a id='6'></a>\n",
    "## Feature engineering with SageMaker Processing Job\n",
    "\n",
    "\n",
    "For user churn analysis, usually, you can consider build features from the following aspects:\n",
    "\n",
    "* Generate base features:\n",
    "     * user behavior features (listening behavior, app behavior).\n",
    "     * customer demographic features.\n",
    "     * customer support features (interactions, ratings, etc.)\n",
    "* Formulate time series as features:\n",
    "    * construct streaming time as time series.\n",
    "    * build features in the different time windows (e.g. total songs listened in the last 7 days, 30 days, 180 days, etc.)\n",
    "   \n",
    "For this use case, after exploring the data and with all the findings you gathered, now is the time to create features used for your model. Since the data set is time series, you can enrich your features by adding a time factor to it: e.g., for the total number of songs listened, you can create features like total songs listened in the last 7 days, last 30 days, last 90 days, last 180 days, etc. The features built for these use cases will be at the user level - each row represents one user, and will include the following:\n",
    "\n",
    "* daily features:\n",
    "     * average_events_weekday (numerical): average number of events per day during weekday\n",
    "     * average_events_weekend (numerical): average number of events per day during the weekend\n",
    "     * num_ads_7d: number of ads in last 7 days\n",
    "     * num_error_7d: total errors encountered in last 7 days\n",
    "     * num_songs_played_7d: total songs played in last 7 days\n",
    "     * num_songs_played_30d: total songs played in last 30 days\n",
    "     * num_songs_played_90d: total songs played in last 90 days\n",
    "* user features:\n",
    "     * num_artists (numerical): number of artists the user has listened to\n",
    "     * num_songs (numerical): number of songs played\n",
    "     * num_ads (numerical): number of ads played\n",
    "     * num_thumbsup (numerical): number of times the user likes a song\n",
    "     * num_thumbsdown (numerical): number of times the user dislikes a song\n",
    "     * num_playlist (numerical): number of times user adds a song to a playlist\n",
    "     * num_addfriend (numerical): number of times user adds a friend\n",
    "     * num_error (numerical): number of times user encountered an error\n",
    "     * user_downgrade (binary): user has downgraded plan\n",
    "     * user_upgrade (binary): user has upgraded plan\n",
    "     * percentage_song: percentage of the user's action is 'NextSong' (only listens to songs) \n",
    "     * percentage_ad: percentage of the user's action is 'Roll Advert'\n",
    "     * repeats_ratio: percentage of total songs that are repeats\n",
    "     * days_since_active: days since the user registered and leave (if the user cancels)\n",
    "* Session features:\n",
    "     * num_sessions: number of total sessions\n",
    "     * avg_time_per_session: average time spent per session\n",
    "     * avg_events_per_session: average number of events per session\n",
    "     * avg_gap_between_session: average time between sessions\n",
    "   \n",
    "The following function will create the processing job with SageMaker Processing, a new Python SDK that lets data scientists and ML engineers easily run preprocessing, postprocessing and model evaluation workloads on Amazon SageMaker. This SDK uses SageMaker’s built-in container for scikit-learn, possibly the most popular library for data set transformation.\n",
    "You can find a complete guide to the SageMaker Processing job in [this blog](https://aws.amazon.com/blogs/aws/amazon-sagemaker-processing-fully-managed-data-processing-and-model-evaluation/)."
   ]
  },
  {
   "cell_type": "code",
   "execution_count": 29,
   "metadata": {},
   "outputs": [],
   "source": [
    "from sagemaker.sklearn.processing import SKLearnProcessor\n",
    "sklearn_processor = SKLearnProcessor(framework_version='0.20.0',\n",
    "                                     role=role,\n",
    "                                     instance_type='ml.m5.xlarge',\n",
    "                                     instance_count=1)"
   ]
  },
  {
   "cell_type": "markdown",
   "metadata": {},
   "source": [
    "#### Replace the data path file name with your data wrangler output name as below"
   ]
  },
  {
   "cell_type": "code",
   "execution_count": 30,
   "metadata": {},
   "outputs": [],
   "source": [
    "data_wrangler_output_name = s3_data_wrangler_output_path.split('/')[-1]"
   ]
  },
  {
   "cell_type": "code",
   "execution_count": 31,
   "metadata": {},
   "outputs": [
    {
     "data": {
      "text/plain": [
       "'part-00000-db6f32ff-8081-4a57-b790-45670cf904ea-c000.csv'"
      ]
     },
     "execution_count": 31,
     "metadata": {},
     "output_type": "execute_result"
    }
   ],
   "source": [
    "### REPLACE THE INPUT FILE NAME WITH THE FOLLOWING NAME\n",
    "data_wrangler_output_name"
   ]
  },
  {
   "cell_type": "code",
   "execution_count": 32,
   "metadata": {},
   "outputs": [
    {
     "name": "stdout",
     "output_type": "stream",
     "text": [
      "Stored 'processing_job_output_name' (str)\n"
     ]
    }
   ],
   "source": [
    "### SAVE THE OUTPUT FILE NAME FROM PROCESSING JOB \n",
    "processing_job_output_name = 'processing_job_output.csv'\n",
    "%store processing_job_output_name"
   ]
  },
  {
   "cell_type": "code",
   "execution_count": 37,
   "metadata": {},
   "outputs": [
    {
     "name": "stdout",
     "output_type": "stream",
     "text": [
      "Overwriting preprocessing.py\n"
     ]
    }
   ],
   "source": [
    "%%writefile preprocessing.py\n",
    "\n",
    "import os\n",
    "import warnings\n",
    "import time\n",
    "import pandas as pd\n",
    "import argparse\n",
    "#from sklearn.exceptions import DataConversionWarning\n",
    "#warnings.filterwarnings(action='ignore', category=DataConversionWarning)\n",
    "start_time = time.time()\n",
    "\n",
    "if __name__=='__main__':\n",
    "    parser = argparse.ArgumentParser()\n",
    "    parser.add_argument('--dw-output-path')\n",
    "    \n",
    "    args, _ = parser.parse_known_args()\n",
    "    print('Received arguments {}'.format(args))\n",
    "\n",
    "    dw_output_name = args.dw_output_path\n",
    "    data_path = os.path.join('/opt/ml/processing/input', dw_output_name)\n",
    "    df = pd.read_csv(data_path)\n",
    "    ## convert to time\n",
    "    df['date'] = pd.to_datetime(df['ts'],unit='ms')\n",
    "    df['ts_dow'] = df['date'].dt.weekday\n",
    "    df['ts_date_day'] = df['date'].dt.date\n",
    "    df['ts_is_weekday'] = [1  if x in [0,1,2,3,4] else 0 for x in df['ts_dow']]\n",
    "    df['registration_ts'] = pd.to_datetime(df['registration'],unit='ms').dt.date\n",
    "    ## add labels\n",
    "    df['churned_event'] = [1 if x == 'Cancellation Confirmation' else 0 for x in df['page']]\n",
    "    df['user_churned'] = df.groupby('userId')['churned_event'].transform('max') \n",
    "\n",
    "    ## convert pages categorical variables to numerical\n",
    "    events_list = [ 'NextSong', 'Thumbs Down', 'Thumbs Up', 'Add to Playlist', 'Roll Advert','Add Friend', 'Downgrade',\n",
    "               'Upgrade', 'Error']\n",
    "    usage_column_name = []\n",
    "    for event in events_list:\n",
    "        event_name = \"_\".join(event.split()).lower()\n",
    "        usage_column_name.append(event_name)\n",
    "        df[event_name] =  [1 if x == event else 0 for x in df['page']]\n",
    "    ## feature engineering\n",
    "    # average_events_weekday (numerical): average number of events per day during weekday\n",
    "    # average_events_weekend (numerical): average number of events per day during the weekend\n",
    "    base_df = df.groupby(['userId',\n",
    "            'ts_date_day', \n",
    "            'ts_is_weekday']).agg({'page': 'count'}).groupby(['userId', \n",
    "                                                     'ts_is_weekday'])['page'].mean().unstack(fill_value=0).reset_index().rename(\n",
    "    columns={0:'average_events_weekend', 1: 'average_events_weekday'})\n",
    "\n",
    "    #num_ads_7d, num_songs_played_7d, num_songs_played_30d, num_songs_played_90d, num_ads_7d, num_error_7d\n",
    "    base_df_daily = df.groupby(['userId','ts_date_day']).agg({\n",
    "        'page': 'count',\n",
    "        'nextsong':'sum',\n",
    "        'roll_advert': 'sum', \n",
    "        'error': 'sum'\n",
    "    }).reset_index()\n",
    "    feature34 = base_df_daily.groupby(['userId', 'ts_date_day']).tail(7).groupby(['userId']).agg({'nextsong':'sum',  'roll_advert': 'sum', 'error': 'sum' }).reset_index().rename(\n",
    "        columns={'nextsong':'num_songs_played_7d', 'roll_advert': 'num_ads_7d', 'error': 'num_error_7d'})\n",
    "    feature5 = base_df_daily.groupby(['userId', 'ts_date_day']).tail(30).groupby(['userId']).agg({'nextsong':'sum'}).reset_index().rename(\n",
    "        columns={'nextsong':'num_songs_played_30d'})\n",
    "    feature6 = base_df_daily.groupby(['userId', 'ts_date_day']).tail(90).groupby(['userId']).agg({'nextsong':'sum' }).reset_index().rename(\n",
    "        columns={'nextsong':'num_songs_played_90d'})\n",
    "    # num_artists, num_songs, num_ads, num_thumbsup, num_thumbsdown, num_playlist, num_addfriend, num_error, user_downgrade, \n",
    "    # user_upgrade, percentage_ad, days_since_active\n",
    "    base_df_user = df.groupby(['userId']).agg({\n",
    "        'page': 'count',\n",
    "        'nextsong':'sum',\n",
    "        'artist': 'nunique',\n",
    "        'song': 'nunique',\n",
    "        'thumbs_down': 'sum',\n",
    "        'thumbs_up': 'sum',\n",
    "        'add_to_playlist': 'sum',\n",
    "        'roll_advert': 'sum',\n",
    "        'add_friend' : 'sum',\n",
    "        'downgrade': 'max',\n",
    "        'upgrade': 'max',\n",
    "        'error': 'sum',\n",
    "        'ts_date_day': 'max',\n",
    "        'registration_ts': 'min',\n",
    "        'user_churned': 'max'\n",
    "    }).reset_index()\n",
    "    base_df_user['percentage_ad'] = base_df_user['roll_advert']/base_df_user['page'] \n",
    "    base_df_user['days_since_active'] = (base_df_user['ts_date_day'] - base_df_user['registration_ts']).dt.days\n",
    "    # repeats ratio\n",
    "    base_df_user['repeats_ratio'] = 1 - base_df_user['song'] /base_df_user['nextsong']     \n",
    "\n",
    "    #num_sessions, avg_time_per_session, avg_events_per_session, \n",
    "    base_df_session = df.groupby(['userId', 'sessionId']).agg({\n",
    "         'length': 'sum',\n",
    "        'page':'count',\n",
    "        'date': 'min'\n",
    "    }).reset_index()\n",
    "    base_df_session['prev_session_ts'] = base_df_session.groupby(['userId'])['date'].shift(1)\n",
    "    base_df_session['gap_session'] = (base_df_session['date'] -  base_df_session['prev_session_ts']).dt.days\n",
    "    user_sessions = base_df_session.groupby('userId').agg({\n",
    "        'sessionId': 'count',\n",
    "         'length': 'mean',\n",
    "        'page':'mean',\n",
    "        'gap_session': 'mean'\n",
    "    }).reset_index().rename(\n",
    "        columns={'sessionId':'num_sessions', 'length': 'avg_time_per_session', \n",
    "                 'page': 'avg_events_per_session', 'gap_session': 'avg_gap_between_session'})\n",
    "\n",
    "    #merge features together\n",
    "    base_df['userId'] = base_df['userId'].astype('int')\n",
    "    final_feature_df = base_df.merge(feature34, how = 'left', on = 'userId')\n",
    "    final_feature_df = final_feature_df.merge(feature5, how = 'left', on = 'userId')\n",
    "    final_feature_df = final_feature_df.merge(feature6, how = 'left', on = 'userId')\n",
    "    final_feature_df = final_feature_df.merge(user_sessions, how = 'left', on = 'userId')\n",
    "    final_feature_df = final_feature_df.merge(base_df_user, how = 'left', on = 'userId')\n",
    "\n",
    "    final_feature_df = final_feature_df.fillna(0)\n",
    "    #renaming columns\n",
    "    final_feature_df.columns = ['userId', 'average_events_weekend', 'average_events_weekday',\n",
    "       'num_songs_played_7d', 'num_ads_7d', 'num_error_7d',\n",
    "       'num_songs_played_30d', 'num_songs_played_90d', 'num_sessions',\n",
    "       'avg_time_per_session', 'avg_events_per_session',\n",
    "       'avg_gap_between_session', 'num_events', 'num_songs', 'num_artists', 'num_unique_songs',\n",
    "       'num_thumbs_down', 'num_thumbs_up', 'num_add_to_playlist', 'num_ads',\n",
    "       'num_add_friend', 'num_downgrade', 'num_upgrade', 'num_error', 'ts_date_day',\n",
    "       'registration_ts', 'user_churned', 'percentage_ad', 'days_since_active',\n",
    "       'repeats_ratio']\n",
    "    #only keep created feature columns\n",
    "    final_feature_df = final_feature_df[['userId', 'user_churned', 'average_events_weekend', 'average_events_weekday',\n",
    "       'num_songs_played_7d', 'num_ads_7d', 'num_error_7d',\n",
    "       'num_songs_played_30d', 'num_songs_played_90d', 'num_sessions',\n",
    "       'avg_time_per_session', 'avg_events_per_session',\n",
    "       'avg_gap_between_session', 'num_events', 'num_songs', 'num_artists', \n",
    "       'num_thumbs_down', 'num_thumbs_up', 'num_add_to_playlist', 'num_ads',\n",
    "       'num_add_friend', 'num_downgrade', 'num_upgrade', 'num_error', 'percentage_ad', 'days_since_active',\n",
    "       'repeats_ratio']]\n",
    "\n",
    "    print('shape of file to append:\\t\\t{}'.format(final_feature_df.shape))\n",
    "    iter_end_time = time.time()\n",
    "    end_time = time.time()\n",
    "    print('minutes elapsed: {}'.format(str((end_time-start_time)/60)))\n",
    "    ### CHANGE THE OUTPUT FILE NAME WITH YOUR OWN NAME ABOVE\n",
    "    final_features_output_path = os.path.join('/opt/ml/processing/output', 'processing_job_output.csv')    \n",
    "    print('Saving processed data to {}'.format(final_features_output_path))\n",
    "    final_feature_df.to_csv(final_features_output_path, header=True, index=False)"
   ]
  },
  {
   "cell_type": "code",
   "execution_count": 38,
   "metadata": {},
   "outputs": [
    {
     "name": "stdout",
     "output_type": "stream",
     "text": [
      "\n",
      "Job Name:  sagemaker-scikit-learn-2021-01-19-14-59-14-275\n",
      "Inputs:  [{'InputName': 'input-1', 'S3Input': {'S3Uri': 's3://sagemaker-us-east-2-060356833389/export-flow-02-19-27-21-72a11d3c/output/data-wrangler-flow-processing-02-19-27-21-72a11d3c/7b74dbbc-6f7e-4656-8f78-25272604bc45/default/part-00000-db6f32ff-8081-4a57-b790-45670cf904ea-c000.csv', 'LocalPath': '/opt/ml/processing/input', 'S3DataType': 'S3Prefix', 'S3InputMode': 'File', 'S3DataDistributionType': 'FullyReplicated', 'S3CompressionType': 'None'}}, {'InputName': 'code', 'S3Input': {'S3Uri': 's3://sagemaker-us-east-2-060356833389/sagemaker-scikit-learn-2021-01-19-14-59-14-275/input/code/preprocessing.py', 'LocalPath': '/opt/ml/processing/input/code', 'S3DataType': 'S3Prefix', 'S3InputMode': 'File', 'S3DataDistributionType': 'FullyReplicated', 'S3CompressionType': 'None'}}]\n",
      "Outputs:  [{'OutputName': 'processed_data', 'S3Output': {'S3Uri': 's3://sagemaker-us-east-2-060356833389/sagemaker-scikit-learn-2021-01-19-14-59-14-275/output/processed_data', 'LocalPath': '/opt/ml/processing/output', 'S3UploadMode': 'EndOfJob'}}]\n",
      ".........................\u001b[34mReceived arguments Namespace(dw_output_path='part-00000-db6f32ff-8081-4a57-b790-45670cf904ea-c000.csv')\u001b[0m\n",
      "\u001b[34mshape of file to append:#011#011(1014, 27)\u001b[0m\n",
      "\u001b[34mminutes elapsed: 0.7971602996190389\u001b[0m\n",
      "\u001b[34mSaving processed data to /opt/ml/processing/output/processing_job_output.csv\u001b[0m\n",
      "\n"
     ]
    }
   ],
   "source": [
    "from sagemaker.processing import ProcessingInput, ProcessingOutput\n",
    "\n",
    "input_data = s3_data_wrangler_output_path\n",
    "\n",
    "sklearn_processor.run(code='preprocessing.py',\n",
    "                      inputs=[ProcessingInput(\n",
    "                        source=input_data,\n",
    "                          s3_data_type = \"S3Prefix\",\n",
    "                         # s3_input_mode = \"Pipe\",\n",
    "                        #  s3_compression_type = \"Gzip\",\n",
    "                        destination='/opt/ml/processing/input')],\n",
    "                      outputs=[ProcessingOutput(output_name='processed_data',\n",
    "                                                source='/opt/ml/processing/output')],\n",
    "                      arguments=[\"--dw-output-path\", data_wrangler_output_name]\n",
    "                     )\n",
    "\n",
    "preprocessing_job_description = sklearn_processor.jobs[-1].describe()"
   ]
  },
  {
   "cell_type": "markdown",
   "metadata": {},
   "source": [
    "Congratulations! You have completed Part1: Prepare the data, and now you should have created the complete feature set that is ready for modeling. You can proceed to Part2: modeling and Reference."
   ]
  },
  {
   "cell_type": "markdown",
   "metadata": {},
   "source": [
    "# PART 2: Modeling and Reference\n",
    "now that you have created the complete feature set, you can start to explore and find a best-working model for your churn use case. By the end of part 2, you will select an algorithm, find the best sets of hyperparameter for the model, examine how well the model performs, and finally find the top influential features.\n",
    "\n",
    "To start with Part 2, you can either read in data from the output of your Part 1 results, or use the provided 'data/full_feature_data.csv' as the input (variable dataframe `processed_data`) for the next steps. "
   ]
  },
  {
   "cell_type": "markdown",
   "metadata": {},
   "source": [
    "<a id='8'></a>\n",
    "## Data Splitting\n",
    "\n",
    "You formulated the use case as a classification problem on user level, so you can randomly split your data from last step into train/validation/test. If you want to predict \"will user X churn in the next Y days\" on per user per day level, you should think about spliting data in chronological order instead of random. \n",
    "\n",
    "You should split the data and make sure that data of both classes exist in your train, validation and test sets, to make sure both classes are represented in your data. "
   ]
  },
  {
   "cell_type": "markdown",
   "metadata": {},
   "source": [
    "#### Find the output of Processing Job"
   ]
  },
  {
   "cell_type": "code",
   "execution_count": 46,
   "metadata": {},
   "outputs": [
    {
     "data": {
      "text/plain": [
       "'processing_job_output.csv'"
      ]
     },
     "execution_count": 46,
     "metadata": {},
     "output_type": "execute_result"
    }
   ],
   "source": [
    "%store -r\n",
    "processing_job_output_name"
   ]
  },
  {
   "cell_type": "code",
   "execution_count": 47,
   "metadata": {},
   "outputs": [],
   "source": [
    "s3_client = boto3.client(\"s3\")\n",
    "list_object = s3_client.list_objects_v2(Bucket=bucket, Prefix = 'sagemaker-scikit-learn')\n",
    "\n",
    "processing_job_output_path = None\n",
    "\n",
    "for content in list_object[\"Contents\"]:\n",
    "    if processing_job_output_name  in content[\"Key\"]:\n",
    "        processing_job_output_path = 's3://{}/{}'.format(bucket, content[\"Key\"])"
   ]
  },
  {
   "cell_type": "code",
   "execution_count": 48,
   "metadata": {},
   "outputs": [],
   "source": [
    "processed_data = pd.read_csv(processing_job_output_path)"
   ]
  },
  {
   "cell_type": "code",
   "execution_count": null,
   "metadata": {},
   "outputs": [],
   "source": [
    "# Optional: you can also load the processed data from the provided feature set\n",
    "#processed_data = pd.read_csv('full_feature_data.csv')"
   ]
  },
  {
   "cell_type": "markdown",
   "metadata": {},
   "source": [
    "#### Split data to train/validation/test by 7/2/1"
   ]
  },
  {
   "cell_type": "code",
   "execution_count": 49,
   "metadata": {},
   "outputs": [],
   "source": [
    "import numpy as np\n",
    "data = processed_data.sample(frac=1, random_state=1729)\n",
    "grouped_df = data.groupby('user_churned')\n",
    "arr_list = [np.split(g, [int(.7 * len(g)), int(.9 * len(g))]) for i, g in grouped_df]\n",
    "\n",
    "train_data = pd.concat([t[0] for t in arr_list])\n",
    "validation_data = pd.concat([t[1] for t in arr_list])\n",
    "test_data  = pd.concat([v[2] for v in arr_list])"
   ]
  },
  {
   "cell_type": "code",
   "execution_count": 50,
   "metadata": {},
   "outputs": [],
   "source": [
    "def process_data(data, name):\n",
    "    data = data.drop(columns = ['userId'])\n",
    "    data = pd.concat([data['user_churned'], data.drop(['user_churned'], axis=1)], axis=1) \n",
    "    data.to_csv(name, header=False, index=False)"
   ]
  },
  {
   "cell_type": "code",
   "execution_count": 51,
   "metadata": {},
   "outputs": [],
   "source": [
    "process_data(train_data, 'data/train_updated.csv')\n",
    "process_data(validation_data, 'data/validation_updated.csv')\n",
    "process_data(validation_data, 'data/test_updated.csv')"
   ]
  },
  {
   "cell_type": "markdown",
   "metadata": {},
   "source": [
    "#### Save splitted data to S3\n",
    "The splitted data is provided in the /data folder. You can also upload the provided files (`data/train_updated.csv`,`data/validation_updated.csv`, `data/test_updated.csv`) and proceed to the next step. "
   ]
  },
  {
   "cell_type": "code",
   "execution_count": 154,
   "metadata": {},
   "outputs": [],
   "source": [
    "import os\n",
    "s3_input_train = boto3.Session().resource('s3').Bucket(bucket).Object(os.path.join(prefix, 'train/train.csv')).upload_file('data/train_updated.csv')\n",
    "s3_input_validation = boto3.Session().resource('s3').Bucket(bucket).Object(os.path.join(prefix, 'validation/validation.csv')).upload_file('data/validation_updated.csv')\n",
    "s3_input_validation = boto3.Session().resource('s3').Bucket(bucket).Object(os.path.join(prefix, 'test/test_labeled.csv')).upload_file('data/test_updated.csv')"
   ]
  },
  {
   "cell_type": "markdown",
   "metadata": {},
   "source": [
    "<a id='9'></a>\n",
    "\n",
    "## Model Selection\n",
    "\n",
    "You can experiment with all your model choices and see which one gives better results. A few things to note when you choose algorithms:\n",
    "* **Start with simple ones**: Usually for tabular data classification that does not contain complex unstructured data (text, audio, image, etc.), you can start with logistic regression to see how your data performs, as sometimes the simplest model gives great results if your data have a strong linear pattern.\n",
    "\n",
    "* **Think about your data structure**: For imbalanced class data like churn analysis, you can experiment with tree-based models like the random forest, gradient boosting, or XGboost since they are less sensitive to class imbalance.\n",
    "\n",
    "* **Interpretability**: logistic regression model generally has better interpretability because of its linearity. You can also use feature importance from tree-based models or Support Vector Machines as an overall observation, but not to your predicting instance level. Instead, you can utilize tools like SHAP or the SageMaker new feature SageMaker Clarify to better visualize which feature contributing more to your prediction results.\n",
    "\n",
    "In this use case, a tree-based model XGBoost is chosen due to consideration of imbalanced class, and in the family of tree based models, XGBoost usually gives best results as its built for model performance and computational speed. "
   ]
  },
  {
   "cell_type": "markdown",
   "metadata": {},
   "source": [
    "<a id='10'></a>\n",
    "\n",
    "## Training with SageMaker Estimator and Experiment\n",
    "Once you decide on a range of models you want to experiment with, you can start training and comparing model results to choose the best one. A few things left for you to make a decision:\n",
    "* SageMaker estimator configuration\n",
    "  * to initialize your training job, you would need to config your SageMaker estimator and SageMaker training image by specifying the model choice, instance size, and type.\n",
    "* Choose evaluation methods\n",
    "    * You can check the [model parameter documentation page](https://github.com/dmlc/xgboost/blob/master/doc/parameter.rst#learning-task-parameters) for all the evaluation metrics you can choose for a model. For a imbalanced classification problem, you can choose F1 as your evaluation especially for comparing different models;  area under curve (auc) is also a good choice when your output is probability.\n",
    "* Hyper-parameters\n",
    "    * You can look at the [documentation](https://docs.aws.amazon.com/sagemaker/latest/dg/xgboost_hyperparameters.html) for a complete list of hyper-parameters tunable for the model (The XGBoost model here was given as an example). For best performances, you can experiment with a range of combinations for the hyper-parameters and compare the validation results.\n",
    "   \n",
    "### How to create a training job as a trial in SageMaker Experiment    \n",
    "#### Get ECR image URIs for pre-built SageMaker Docker images"
   ]
  },
  {
   "cell_type": "code",
   "execution_count": 35,
   "metadata": {},
   "outputs": [
    {
     "name": "stderr",
     "output_type": "stream",
     "text": [
      "INFO:sagemaker.image_uris:Same images used for training and inference. Defaulting to image scope: inference.\n",
      "INFO:sagemaker.image_uris:Defaulting to only available Python version: py3\n"
     ]
    }
   ],
   "source": [
    "container = sagemaker.image_uris.retrieve('xgboost',\n",
    "                              region, \n",
    "                              version='1.0-1', \n",
    "                              instance_type='ml.m4.xlarge')"
   ]
  },
  {
   "cell_type": "markdown",
   "metadata": {},
   "source": [
    "#### Initialize Model Hyperparameters"
   ]
  },
  {
   "cell_type": "code",
   "execution_count": 36,
   "metadata": {},
   "outputs": [],
   "source": [
    "hyperparameters = {\n",
    "        \"max_depth\":\"12\",\n",
    "        \"eta\":\"0.08\",\n",
    "        \"gamma\":\"4\",\n",
    "        \"min_child_weight\":\"7\",\n",
    "        \"subsample\":\"0.7\",\n",
    "    \"eval_metric\": \"auc\",\n",
    "        \"objective\":\"binary:logistic\",\n",
    "        \"num_round\":\"800\",\n",
    "         \"early_stopping_rounds\": \"50\"\n",
    "    }"
   ]
  },
  {
   "cell_type": "markdown",
   "metadata": {},
   "source": [
    "#### Define SageMaker estimator"
   ]
  },
  {
   "cell_type": "code",
   "execution_count": 37,
   "metadata": {},
   "outputs": [
    {
     "name": "stdout",
     "output_type": "stream",
     "text": [
      "CPU times: user 59 µs, sys: 0 ns, total: 59 µs\n",
      "Wall time: 62.9 µs\n"
     ]
    }
   ],
   "source": [
    "%%time\n",
    "from time import gmtime, strftime\n",
    "\n",
    "xgb = sagemaker.estimator.Estimator(container,\n",
    "                                    role, \n",
    "                                    instance_count=1, \n",
    "                                    instance_type='ml.m4.xlarge',\n",
    "                                    output_path='s3://{}/{}/output'.format(bucket, prefix),\n",
    "                                    sagemaker_session=sagemaker_session)\n",
    "xgb.set_hyperparameters(**hyperparameters)"
   ]
  },
  {
   "cell_type": "code",
   "execution_count": 160,
   "metadata": {},
   "outputs": [],
   "source": [
    "from sagemaker.inputs import TrainingInput\n",
    "\n",
    "content_type = \"csv\"\n",
    "train_input = TrainingInput(\"s3://{}/{}/{}/\".format(bucket, prefix, 'train'), content_type=content_type)\n",
    "validation_input = TrainingInput(\"s3://{}/{}/{}/\".format(bucket, prefix, 'validation'), content_type=content_type)"
   ]
  },
  {
   "cell_type": "code",
   "execution_count": 161,
   "metadata": {
    "collapsed": true,
    "jupyter": {
     "outputs_hidden": true
    }
   },
   "outputs": [
    {
     "name": "stdout",
     "output_type": "stream",
     "text": [
      "2020-12-10 19:04:47 Starting - Starting the training job...\n",
      "2020-12-10 19:04:49 Starting - Launching requested ML instances......\n",
      "2020-12-10 19:05:55 Starting - Preparing the instances for training.........\n",
      "2020-12-10 19:07:42 Downloading - Downloading input data......\n",
      "2020-12-10 19:08:28 Training - Downloading the training image..\u001b[34mINFO:sagemaker-containers:Imported framework sagemaker_xgboost_container.training\u001b[0m\n",
      "\u001b[34mINFO:sagemaker-containers:Failed to parse hyperparameter eval_metric value auc to Json.\u001b[0m\n",
      "\u001b[34mReturning the value itself\u001b[0m\n",
      "\u001b[34mINFO:sagemaker-containers:Failed to parse hyperparameter objective value binary:logistic to Json.\u001b[0m\n",
      "\u001b[34mReturning the value itself\u001b[0m\n",
      "\u001b[34mINFO:sagemaker-containers:No GPUs detected (normal if no gpus installed)\u001b[0m\n",
      "\u001b[34mINFO:sagemaker_xgboost_container.training:Running XGBoost Sagemaker in algorithm mode\u001b[0m\n",
      "\u001b[34mINFO:root:Determined delimiter of CSV input is ','\u001b[0m\n",
      "\u001b[34mINFO:root:Determined delimiter of CSV input is ','\u001b[0m\n",
      "\u001b[34mINFO:root:Determined delimiter of CSV input is ','\u001b[0m\n",
      "\u001b[34m[19:08:53] 708x25 matrix with 17700 entries loaded from /opt/ml/input/data/train?format=csv&label_column=0&delimiter=,\u001b[0m\n",
      "\u001b[34mINFO:root:Determined delimiter of CSV input is ','\u001b[0m\n",
      "\u001b[34m[19:08:53] 204x25 matrix with 5100 entries loaded from /opt/ml/input/data/validation?format=csv&label_column=0&delimiter=,\u001b[0m\n",
      "\u001b[34mINFO:root:Single node training.\u001b[0m\n",
      "\u001b[34mINFO:root:Train matrix has 708 rows\u001b[0m\n",
      "\u001b[34mINFO:root:Validation matrix has 204 rows\u001b[0m\n",
      "\u001b[34m[0]#011train-auc:0.91768#011validation-auc:0.94514\u001b[0m\n",
      "\u001b[34m[1]#011train-auc:0.92026#011validation-auc:0.95180\u001b[0m\n",
      "\u001b[34m[2]#011train-auc:0.93830#011validation-auc:0.95534\u001b[0m\n",
      "\u001b[34m[3]#011train-auc:0.93852#011validation-auc:0.95507\u001b[0m\n",
      "\u001b[34m[4]#011train-auc:0.95391#011validation-auc:0.96667\u001b[0m\n",
      "\u001b[34m[5]#011train-auc:0.95654#011validation-auc:0.96758\u001b[0m\n",
      "\u001b[34m[6]#011train-auc:0.95694#011validation-auc:0.96468\u001b[0m\n",
      "\u001b[34m[7]#011train-auc:0.96200#011validation-auc:0.96473\u001b[0m\n",
      "\u001b[34m[8]#011train-auc:0.96468#011validation-auc:0.96720\u001b[0m\n",
      "\u001b[34m[9]#011train-auc:0.96311#011validation-auc:0.96699\u001b[0m\n",
      "\u001b[34m[10]#011train-auc:0.96290#011validation-auc:0.96871\u001b[0m\n",
      "\u001b[34m[11]#011train-auc:0.96521#011validation-auc:0.97434\u001b[0m\n",
      "\u001b[34m[12]#011train-auc:0.96481#011validation-auc:0.97182\u001b[0m\n",
      "\u001b[34m[13]#011train-auc:0.96483#011validation-auc:0.97386\u001b[0m\n",
      "\u001b[34m[14]#011train-auc:0.96442#011validation-auc:0.97375\u001b[0m\n",
      "\u001b[34m[15]#011train-auc:0.96458#011validation-auc:0.97418\u001b[0m\n",
      "\u001b[34m[16]#011train-auc:0.96498#011validation-auc:0.97563\u001b[0m\n",
      "\u001b[34m[17]#011train-auc:0.96619#011validation-auc:0.97724\u001b[0m\n",
      "\u001b[34m[18]#011train-auc:0.96492#011validation-auc:0.97681\u001b[0m\n",
      "\u001b[34m[19]#011train-auc:0.96406#011validation-auc:0.97584\u001b[0m\n",
      "\u001b[34m[20]#011train-auc:0.96365#011validation-auc:0.97584\u001b[0m\n",
      "\u001b[34m[21]#011train-auc:0.96428#011validation-auc:0.97381\u001b[0m\n",
      "\u001b[34m[22]#011train-auc:0.96540#011validation-auc:0.97348\u001b[0m\n",
      "\u001b[34m[23]#011train-auc:0.96511#011validation-auc:0.97445\u001b[0m\n",
      "\u001b[34m[24]#011train-auc:0.96481#011validation-auc:0.97450\u001b[0m\n",
      "\u001b[34m[25]#011train-auc:0.96465#011validation-auc:0.97504\u001b[0m\n",
      "\u001b[34m[26]#011train-auc:0.96503#011validation-auc:0.97461\u001b[0m\n",
      "\u001b[34m[27]#011train-auc:0.96627#011validation-auc:0.97364\u001b[0m\n",
      "\u001b[34m[28]#011train-auc:0.96733#011validation-auc:0.97289\u001b[0m\n",
      "\u001b[34m[29]#011train-auc:0.96781#011validation-auc:0.97354\u001b[0m\n",
      "\u001b[34m[30]#011train-auc:0.96757#011validation-auc:0.97300\u001b[0m\n",
      "\u001b[34m[31]#011train-auc:0.96827#011validation-auc:0.97300\u001b[0m\n",
      "\u001b[34m[32]#011train-auc:0.96887#011validation-auc:0.97332\u001b[0m\n",
      "\u001b[34m[33]#011train-auc:0.96900#011validation-auc:0.97354\u001b[0m\n",
      "\u001b[34m[34]#011train-auc:0.96905#011validation-auc:0.97332\u001b[0m\n",
      "\u001b[34m[35]#011train-auc:0.96980#011validation-auc:0.97440\u001b[0m\n",
      "\u001b[34m[36]#011train-auc:0.96945#011validation-auc:0.97354\u001b[0m\n",
      "\u001b[34m[37]#011train-auc:0.96924#011validation-auc:0.97354\u001b[0m\n",
      "\u001b[34m[38]#011train-auc:0.96936#011validation-auc:0.97418\u001b[0m\n",
      "\u001b[34m[39]#011train-auc:0.96936#011validation-auc:0.97418\u001b[0m\n",
      "\u001b[34m[40]#011train-auc:0.96933#011validation-auc:0.97407\u001b[0m\n",
      "\u001b[34m[41]#011train-auc:0.96896#011validation-auc:0.97343\u001b[0m\n",
      "\u001b[34m[42]#011train-auc:0.96899#011validation-auc:0.97348\u001b[0m\n",
      "\u001b[34m[43]#011train-auc:0.96945#011validation-auc:0.97359\u001b[0m\n",
      "\u001b[34m[44]#011train-auc:0.96924#011validation-auc:0.97391\u001b[0m\n",
      "\u001b[34m[45]#011train-auc:0.96974#011validation-auc:0.97423\u001b[0m\n",
      "\u001b[34m[46]#011train-auc:0.97061#011validation-auc:0.97477\u001b[0m\n",
      "\u001b[34m[47]#011train-auc:0.97083#011validation-auc:0.97467\u001b[0m\n",
      "\u001b[34m[48]#011train-auc:0.97080#011validation-auc:0.97467\u001b[0m\n",
      "\u001b[34m[49]#011train-auc:0.97067#011validation-auc:0.97456\u001b[0m\n",
      "\u001b[34m[50]#011train-auc:0.97121#011validation-auc:0.97456\u001b[0m\n",
      "\u001b[34m[51]#011train-auc:0.97121#011validation-auc:0.97456\u001b[0m\n",
      "\u001b[34m[52]#011train-auc:0.97181#011validation-auc:0.97461\u001b[0m\n",
      "\u001b[34m[53]#011train-auc:0.97159#011validation-auc:0.97461\u001b[0m\n",
      "\u001b[34m[54]#011train-auc:0.97159#011validation-auc:0.97461\u001b[0m\n",
      "\u001b[34m[55]#011train-auc:0.97246#011validation-auc:0.97504\u001b[0m\n",
      "\u001b[34m[56]#011train-auc:0.97246#011validation-auc:0.97504\u001b[0m\n",
      "\u001b[34m[57]#011train-auc:0.97246#011validation-auc:0.97504\u001b[0m\n",
      "\u001b[34m[58]#011train-auc:0.97323#011validation-auc:0.97493\u001b[0m\n",
      "\u001b[34m[59]#011train-auc:0.97323#011validation-auc:0.97493\u001b[0m\n",
      "\u001b[34m[60]#011train-auc:0.97323#011validation-auc:0.97493\u001b[0m\n",
      "\u001b[34m[61]#011train-auc:0.97323#011validation-auc:0.97493\u001b[0m\n",
      "\u001b[34m[62]#011train-auc:0.97333#011validation-auc:0.97515\u001b[0m\n",
      "\u001b[34m[63]#011train-auc:0.97349#011validation-auc:0.97515\u001b[0m\n",
      "\u001b[34m[64]#011train-auc:0.97359#011validation-auc:0.97515\u001b[0m\n",
      "\u001b[34m[65]#011train-auc:0.97353#011validation-auc:0.97525\u001b[0m\n",
      "\u001b[34m[66]#011train-auc:0.97353#011validation-auc:0.97525\u001b[0m\n",
      "\u001b[34m[67]#011train-auc:0.97353#011validation-auc:0.97525\u001b[0m\n",
      "\n",
      "2020-12-10 19:09:04 Uploading - Uploading generated training model\n",
      "2020-12-10 19:09:04 Completed - Training job completed\n",
      "Training seconds: 82\n",
      "Billable seconds: 82\n"
     ]
    }
   ],
   "source": [
    "xgb.fit(inputs={'train': train_input, 'validation': validation_input}, wait=True)"
   ]
  },
  {
   "cell_type": "markdown",
   "metadata": {},
   "source": [
    "#### Define SageMaker Experiment and Trial"
   ]
  },
  {
   "cell_type": "code",
   "execution_count": 33,
   "metadata": {},
   "outputs": [],
   "source": [
    "# custom trial name \n",
    "experiment_name = 'music-streaming-churn-e'\n",
    "trial_name_xgb = 'xgboost'"
   ]
  },
  {
   "cell_type": "code",
   "execution_count": 52,
   "metadata": {},
   "outputs": [
    {
     "name": "stdout",
     "output_type": "stream",
     "text": [
      "Experiment loaded music-streaming-churn-e: SUCCESS\n",
      "Trial loaded xgboost: SUCCESS\n"
     ]
    },
    {
     "data": {
      "text/html": [
       "<div>\n",
       "<style scoped>\n",
       "    .dataframe tbody tr th:only-of-type {\n",
       "        vertical-align: middle;\n",
       "    }\n",
       "\n",
       "    .dataframe tbody tr th {\n",
       "        vertical-align: top;\n",
       "    }\n",
       "\n",
       "    .dataframe thead th {\n",
       "        text-align: right;\n",
       "    }\n",
       "</style>\n",
       "<table border=\"1\" class=\"dataframe\">\n",
       "  <thead>\n",
       "    <tr style=\"text-align: right;\">\n",
       "      <th></th>\n",
       "      <th>TrialComponentName</th>\n",
       "      <th>DisplayName</th>\n",
       "      <th>SourceArn</th>\n",
       "      <th>SageMaker.ImageUri</th>\n",
       "      <th>SageMaker.InstanceCount</th>\n",
       "      <th>SageMaker.InstanceType</th>\n",
       "      <th>SageMaker.VolumeSizeInGB</th>\n",
       "      <th>early_stopping_rounds</th>\n",
       "      <th>eta</th>\n",
       "      <th>eval_metric</th>\n",
       "      <th>...</th>\n",
       "      <th>validation:auc - Last</th>\n",
       "      <th>validation:auc - Count</th>\n",
       "      <th>train - MediaType</th>\n",
       "      <th>train - Value</th>\n",
       "      <th>validation - MediaType</th>\n",
       "      <th>validation - Value</th>\n",
       "      <th>SageMaker.ModelArtifact - MediaType</th>\n",
       "      <th>SageMaker.ModelArtifact - Value</th>\n",
       "      <th>Trials</th>\n",
       "      <th>Experiments</th>\n",
       "    </tr>\n",
       "  </thead>\n",
       "  <tbody>\n",
       "    <tr>\n",
       "      <th>0</th>\n",
       "      <td>sagemaker-xgboost-2020-11-18-20-53-00-354-aws-...</td>\n",
       "      <td>churn-xgboost</td>\n",
       "      <td>arn:aws:sagemaker:us-east-2:060356833389:train...</td>\n",
       "      <td>257758044811.dkr.ecr.us-east-2.amazonaws.com/s...</td>\n",
       "      <td>1.0</td>\n",
       "      <td>ml.m4.xlarge</td>\n",
       "      <td>30.0</td>\n",
       "      <td>50.0</td>\n",
       "      <td>0.08</td>\n",
       "      <td>auc</td>\n",
       "      <td>...</td>\n",
       "      <td>0.96123</td>\n",
       "      <td>53</td>\n",
       "      <td>csv</td>\n",
       "      <td>s3://sagemaker-us-east-2-060356833389/music_st...</td>\n",
       "      <td>csv</td>\n",
       "      <td>s3://sagemaker-us-east-2-060356833389/music_st...</td>\n",
       "      <td>None</td>\n",
       "      <td>s3://sagemaker-us-east-2-060356833389/music_st...</td>\n",
       "      <td>[xgboost]</td>\n",
       "      <td>[music-streaming-churn-e]</td>\n",
       "    </tr>\n",
       "  </tbody>\n",
       "</table>\n",
       "<p>1 rows × 36 columns</p>\n",
       "</div>"
      ],
      "text/plain": [
       "                                  TrialComponentName    DisplayName  \\\n",
       "0  sagemaker-xgboost-2020-11-18-20-53-00-354-aws-...  churn-xgboost   \n",
       "\n",
       "                                           SourceArn  \\\n",
       "0  arn:aws:sagemaker:us-east-2:060356833389:train...   \n",
       "\n",
       "                                  SageMaker.ImageUri  SageMaker.InstanceCount  \\\n",
       "0  257758044811.dkr.ecr.us-east-2.amazonaws.com/s...                      1.0   \n",
       "\n",
       "  SageMaker.InstanceType  SageMaker.VolumeSizeInGB  early_stopping_rounds  \\\n",
       "0           ml.m4.xlarge                      30.0                   50.0   \n",
       "\n",
       "    eta eval_metric  ...  validation:auc - Last  validation:auc - Count  \\\n",
       "0  0.08         auc  ...                0.96123                      53   \n",
       "\n",
       "   train - MediaType                                      train - Value  \\\n",
       "0                csv  s3://sagemaker-us-east-2-060356833389/music_st...   \n",
       "\n",
       "  validation - MediaType                                 validation - Value  \\\n",
       "0                    csv  s3://sagemaker-us-east-2-060356833389/music_st...   \n",
       "\n",
       "   SageMaker.ModelArtifact - MediaType  \\\n",
       "0                                 None   \n",
       "\n",
       "                     SageMaker.ModelArtifact - Value     Trials  \\\n",
       "0  s3://sagemaker-us-east-2-060356833389/music_st...  [xgboost]   \n",
       "\n",
       "                 Experiments  \n",
       "0  [music-streaming-churn-e]  \n",
       "\n",
       "[1 rows x 36 columns]"
      ]
     },
     "execution_count": 52,
     "metadata": {},
     "output_type": "execute_result"
    }
   ],
   "source": [
    "from smexperiments import experiment, trial\n",
    "from sagemaker import analytics\n",
    "#create experiment if it doesn't exist\n",
    "try:\n",
    "    my_experiment = experiment.Experiment.load(experiment_name=experiment_name)\n",
    "    print(f'Experiment loaded {experiment_name}: SUCCESS')\n",
    "except Exception as ex:\n",
    "    if \"ResourceNotFound\" in str(ex):\n",
    "        my_experiment = experiment.Experiment.create(experiment_name=experiment_name)\n",
    "        print(f'Experiment creation {experiment_name}: SUCCESS')\n",
    "\n",
    "# create the trial if it doesn't exist\n",
    "try:\n",
    "    my_trial = trial.Trial.load(trial_name=trial_name_xgb)\n",
    "    print(f'Trial loaded {trial_name_xgb}: SUCCESS')\n",
    "except Exception as ex:\n",
    "    if \"ResourceNotFound\" in str(ex):\n",
    "        my_trial = trial.Trial.create(experiment_name=experiment_name, trial_name=trial_name_xgb)\n",
    "        print(f'Create trial {my_trial.trial_name}: SUCCESSFUL')\n",
    "\n",
    "\n",
    "xgb.fit(inputs={'train': train_input, 'validation': validation_input}, \n",
    "        wait=True,\n",
    "        experiment_config={\n",
    "            \"ExperimentName\": my_experiment.experiment_name,\n",
    "            \"TrialName\": my_trial.trial_name,\n",
    "            \"TrialComponentDisplayName\": \"churn-xgboost\",\n",
    "        },logs = True)\n",
    "trial_component_analytics = analytics.ExperimentAnalytics(experiment_name=my_experiment.experiment_name)\n",
    "\n",
    "analytic_table = trial_component_analytics.dataframe()\n",
    "analytic_table"
   ]
  },
  {
   "cell_type": "markdown",
   "metadata": {},
   "source": [
    "<a id='11'></a>\n",
    "\n",
    "## Hyperparameter Tuning with SageMaker Hyperparameter Tuning Job\n",
    "Now that you understand how training one model works and how to create a SageMaker experiment, and selected the XGBoost model as the final model, you will need to fine-tune the hyperparameters for the best model performances. For a xgboost model, you can start with defining ranges for the eta, alpha, min_child_weight, and max_depth. You can check the [documentation when considering what haperparameter to tune](https://docs.aws.amazon.com/sagemaker/latest/dg/automatic-model-tuning-considerations.html)."
   ]
  },
  {
   "cell_type": "markdown",
   "metadata": {},
   "source": [
    "### Specify the Hyperparameter Tuning Job Settings\n",
    "To specify settings for the hyperparameter tuning job, you define a JSON object. You pass the object as the value of the HyperParameterTuningJobConfig parameter to CreateHyperParameterTuningJob when you create the tuning job."
   ]
  },
  {
   "cell_type": "code",
   "execution_count": 20,
   "metadata": {},
   "outputs": [],
   "source": [
    "container = sagemaker.image_uris.retrieve('xgboost',\n",
    "                              region, \n",
    "                              version='1.0-1', \n",
    "                              instance_type='ml.m4.xlarge')"
   ]
  },
  {
   "cell_type": "code",
   "execution_count": 21,
   "metadata": {},
   "outputs": [],
   "source": [
    "tuning_job_config = {\n",
    "    \"ParameterRanges\": {\n",
    "      \"CategoricalParameterRanges\": [],\n",
    "      \"ContinuousParameterRanges\": [\n",
    "        {\n",
    "          \"MaxValue\": \"1\",\n",
    "          \"MinValue\": \"0\",\n",
    "          \"Name\": \"eta\"\n",
    "        },\n",
    "        {\n",
    "          \"MaxValue\": \"2\",\n",
    "          \"MinValue\": \"0\",\n",
    "          \"Name\": \"alpha\"\n",
    "        },\n",
    "        {\n",
    "          \"MaxValue\": \"10\",\n",
    "          \"MinValue\": \"1\",\n",
    "          \"Name\": \"min_child_weight\"\n",
    "        }\n",
    "      ],\n",
    "      \"IntegerParameterRanges\": [\n",
    "        {\n",
    "          \"MaxValue\": \"10\",\n",
    "          \"MinValue\": \"1\",\n",
    "          \"Name\": \"max_depth\"\n",
    "        }\n",
    "      ]\n",
    "    },\n",
    "    \"ResourceLimits\": {\n",
    "      \"MaxNumberOfTrainingJobs\": 20,\n",
    "      \"MaxParallelTrainingJobs\": 3\n",
    "    },\n",
    "    \"Strategy\": \"Bayesian\",\n",
    "    \"TrainingJobEarlyStoppingType\": \"Auto\",\n",
    "    \"HyperParameterTuningJobObjective\": {\n",
    "      \"MetricName\": \"validation:auc\",\n",
    "      \"Type\": \"Maximize\"\n",
    "    }\n",
    "  }"
   ]
  },
  {
   "cell_type": "markdown",
   "metadata": {},
   "source": [
    "### Configure the Training Jobs\n",
    "To configure the training jobs that the tuning job launches, define a JSON object that you pass as the value of the TrainingJobDefinition parameter of the CreateHyperParameterTuningJob call."
   ]
  },
  {
   "cell_type": "code",
   "execution_count": 22,
   "metadata": {},
   "outputs": [],
   "source": [
    "s3_input_train = 's3://{}/{}/train'.format(bucket, prefix)\n",
    "s3_input_validation ='s3://{}/{}/validation'.format(bucket, prefix)\n",
    "\n",
    "training_job_definition = {\n",
    "    \"AlgorithmSpecification\": {\n",
    "      \"TrainingImage\": container,\n",
    "      \"TrainingInputMode\": \"File\"\n",
    "    },\n",
    "    \"InputDataConfig\": [\n",
    "      {\n",
    "        \"ChannelName\": \"train\",\n",
    "        \"CompressionType\": \"None\",\n",
    "        \"ContentType\": \"csv\",\n",
    "        \"DataSource\": {\n",
    "          \"S3DataSource\": {\n",
    "            \"S3DataDistributionType\": \"FullyReplicated\",\n",
    "            \"S3DataType\": \"S3Prefix\",\n",
    "            \"S3Uri\": s3_input_train\n",
    "          }\n",
    "        }\n",
    "      },\n",
    "      {\n",
    "        \"ChannelName\": \"validation\",\n",
    "        \"CompressionType\": \"None\",\n",
    "        \"ContentType\": \"csv\",\n",
    "        \"DataSource\": {\n",
    "          \"S3DataSource\": {\n",
    "            \"S3DataDistributionType\": \"FullyReplicated\",\n",
    "            \"S3DataType\": \"S3Prefix\",\n",
    "            \"S3Uri\": s3_input_validation\n",
    "          }\n",
    "        }\n",
    "      }\n",
    "    ],\n",
    "    \"OutputDataConfig\": {\n",
    "      \"S3OutputPath\": \"s3://{}/{}/output\".format(bucket,prefix)\n",
    "    },\n",
    "    \"ResourceConfig\": {\n",
    "      \"InstanceCount\": 2,\n",
    "      \"InstanceType\": \"ml.c4.2xlarge\",\n",
    "      \"VolumeSizeInGB\": 10\n",
    "    },\n",
    "    \"RoleArn\": role,\n",
    "    \"StaticHyperParameters\": {\n",
    "      \"eval_metric\": \"auc\",\n",
    "      \"num_round\": \"100\",\n",
    "      \"objective\": \"binary:logistic\",\n",
    "      \"rate_drop\": \"0.3\",\n",
    "      \"tweedie_variance_power\": \"1.4\"\n",
    "    },\n",
    "    \"StoppingCondition\": {\n",
    "      \"MaxRuntimeInSeconds\": 43200\n",
    "    }\n",
    "}"
   ]
  },
  {
   "cell_type": "markdown",
   "metadata": {},
   "source": [
    "### Name and Launch the Hyperparameter Tuning Job\n",
    "Now you can provide a name for the hyperparameter tuning job and then launch it by calling the CreateHyperParameterTuningJob API. Pass tuning_job_config, and training_job_definition that you created in previous steps as the values of the parameters."
   ]
  },
  {
   "cell_type": "code",
   "execution_count": 26,
   "metadata": {},
   "outputs": [
    {
     "name": "stdout",
     "output_type": "stream",
     "text": [
      "Stored 'tuning_job_name' (str)\n"
     ]
    }
   ],
   "source": [
    "#custom a tuner job name\n",
    "tuning_job_name = \"ChurnPrediction-Tuning-Job\"\n",
    "%store tuning_job_name"
   ]
  },
  {
   "cell_type": "code",
   "execution_count": 27,
   "metadata": {},
   "outputs": [],
   "source": [
    "#check if tuner job has been created\n",
    "list_tuning_job = smclient.list_hyper_parameter_tuning_jobs(NameContains=tuning_job_name)\n",
    "job_results = [[i for i in list_tuning_job[x]] for x in list_tuning_job.keys()]"
   ]
  },
  {
   "cell_type": "code",
   "execution_count": 28,
   "metadata": {},
   "outputs": [],
   "source": [
    "from sagemaker.tuner import HyperparameterTuner\n",
    "# create the tuning job if it doesn't exist\n",
    "try:\n",
    "    if tuning_job_name == job_results[0][0]['HyperParameterTuningJobName']:\n",
    "        print(f'Tuning job exists')\n",
    "except Exception as ex:   \n",
    "    # create hyperparameter tuning job\n",
    "    smclient.create_hyper_parameter_tuning_job(HyperParameterTuningJobName = tuning_job_name,\n",
    "                                           HyperParameterTuningJobConfig = tuning_job_config,\n",
    "                                           TrainingJobDefinition = training_job_definition)\n",
    "    print(f'Create tuning job {tuning_job_name}: SUCCESSFUL')"
   ]
  },
  {
   "cell_type": "markdown",
   "metadata": {},
   "source": [
    "### Monitor the Progress of a Hyperparameter Tuning Job\n",
    "\n",
    "To monitor the progress of a hyperparameter tuning job and the training jobs that it launches, you can use the Amazon SageMaker console.\n",
    "\n",
    "<div>\n",
    "<img src=\"image/hp1.PNG\" width=\"600\"/>\n",
    "   </div>\n",
    "   \n"
   ]
  },
  {
   "cell_type": "markdown",
   "metadata": {},
   "source": [
    "<a id='12'></a>\n",
    "## Deploy the model with SageMaker Batch-transform\n",
    "You can directly deploy the best model from your hyperparameter tuning job by getting the best training job from your tuner."
   ]
  },
  {
   "cell_type": "code",
   "execution_count": 29,
   "metadata": {},
   "outputs": [
    {
     "data": {
      "text/plain": [
       "'Completed'"
      ]
     },
     "execution_count": 29,
     "metadata": {},
     "output_type": "execute_result"
    }
   ],
   "source": [
    "# check status\n",
    "boto3.client('sagemaker').describe_hyper_parameter_tuning_job(\n",
    "    HyperParameterTuningJobName = tuning_job_name )['HyperParameterTuningJobStatus']"
   ]
  },
  {
   "cell_type": "code",
   "execution_count": 30,
   "metadata": {},
   "outputs": [
    {
     "name": "stdout",
     "output_type": "stream",
     "text": [
      "ChurnPrediction-Tuning-Job-014-9e0904d9\n",
      "\n",
      "2021-01-19 15:39:16 Starting - Preparing the instances for training\n",
      "2021-01-19 15:39:16 Downloading - Downloading input data\n",
      "2021-01-19 15:39:16 Training - Training image download completed. Training in progress.\n",
      "2021-01-19 15:39:16 Uploading - Uploading generated training model\n",
      "2021-01-19 15:39:16 Completed - Training job completed\n"
     ]
    }
   ],
   "source": [
    "# Attach to an existing hyperparameter tuning job.\n",
    "tuning_job_details = smclient.describe_hyper_parameter_tuning_job(HyperParameterTuningJobName = tuning_job_name)\n",
    "xgb_tuner = HyperparameterTuner.attach(tuning_job_name, job_details = tuning_job_details ,\n",
    "                                               sagemaker_session = sagemaker_session, estimator_cls = None)\n",
    "# Get the best XGBoost training job name from the HPO job\n",
    "xgb_best_training_job = xgb_tuner.best_training_job()\n",
    "print(xgb_best_training_job)\n",
    "# Attach estimator to the best training job name\n",
    "best_estimator = sagemaker.estimator.Estimator.attach(xgb_best_training_job)\n",
    "\n",
    "# Create model to be passed to the inference pipeline\n",
    "best_model = sagemaker.model.Model(model_data=best_estimator.model_data,\n",
    "                  role=sagemaker.get_execution_role(),\n",
    "                  image_uri =best_estimator.image_uri)"
   ]
  },
  {
   "cell_type": "markdown",
   "metadata": {},
   "source": [
    "You can also use the following code to find and deploy the best model. Replace with your best model output path. Go to SageMaker Console $\\rightarrow$ Hyperparameter Tuning Job $\\rightarrow$ [Your hyperparameter Tuning Job] $\\rightarrow$ Best model $\\rightarrow$ Output. You can also choose to **create a model** from the console under **best training job**."
   ]
  },
  {
   "cell_type": "code",
   "execution_count": 168,
   "metadata": {},
   "outputs": [],
   "source": [
    "#replace with your best model output path\n",
    "#model_artifacts = 's3://{}/{}/output/ChurnPrediction-TuningJob-020-20eee831/output/model.tar.gz'.format(bucket, prefix)\n",
    "#best_model = sagemaker.model.Model(\n",
    "#    model_data= model_artifacts,\n",
    "#    image_uri =container,\n",
    "#    role=role)  "
   ]
  },
  {
   "cell_type": "code",
   "execution_count": 92,
   "metadata": {},
   "outputs": [],
   "source": [
    "# The location of the test dataset\n",
    "prefix = 'music-streaming'\n",
    "test_set = test_data.drop(columns = ['userId', 'user_churned'])\n",
    "test_set.to_csv('data/test.csv', index = False, header = False)\n",
    "s3_input_validation = boto3.Session().resource('s3').Bucket(bucket).Object(os.path.join(prefix, 'test/testdata/test.csv')).upload_file('data/test.csv')\n",
    "\n",
    "batch_input = 's3://{}/{}/test/testdata'.format(bucket, prefix)\n",
    "\n",
    "batch_output = 's3://{}/{}/batch-inference'.format(bucket, prefix)"
   ]
  },
  {
   "cell_type": "code",
   "execution_count": 93,
   "metadata": {
    "collapsed": true,
    "jupyter": {
     "outputs_hidden": true
    }
   },
   "outputs": [
    {
     "name": "stdout",
     "output_type": "stream",
     "text": [
      "................................\u001b[32m2021-01-19T16:03:44.208:[sagemaker logs]: MaxConcurrentTransforms=4, MaxPayloadInMB=6, BatchStrategy=MULTI_RECORD\u001b[0m\n",
      "\u001b[34m[2021-01-19:16:03:41:INFO] No GPUs detected (normal if no gpus installed)\u001b[0m\n",
      "\u001b[34m[2021-01-19:16:03:41:INFO] No GPUs detected (normal if no gpus installed)\u001b[0m\n",
      "\u001b[34m[2021-01-19:16:03:41:INFO] nginx config: \u001b[0m\n",
      "\u001b[34mworker_processes auto;\u001b[0m\n",
      "\u001b[34mdaemon off;\u001b[0m\n",
      "\u001b[34mpid /tmp/nginx.pid;\u001b[0m\n",
      "\u001b[34merror_log  /dev/stderr;\n",
      "\u001b[0m\n",
      "\u001b[34mworker_rlimit_nofile 4096;\n",
      "\u001b[0m\n",
      "\u001b[34mevents {\n",
      "  worker_connections 2048;\u001b[0m\n",
      "\u001b[34m}\n",
      "\u001b[0m\n",
      "\u001b[34mhttp {\n",
      "  include /etc/nginx/mime.types;\n",
      "  default_type application/octet-stream;\n",
      "  access_log /dev/stdout combined;\n",
      "\n",
      "  upstream gunicorn {\n",
      "    server unix:/tmp/gunicorn.sock;\n",
      "  }\n",
      "\n",
      "  server {\n",
      "    listen 8080 deferred;\n",
      "    client_max_body_size 0;\n",
      "\n",
      "    keepalive_timeout 3;\n",
      "\n",
      "    location ~ ^/(ping|invocations|execution-parameters) {\n",
      "      proxy_set_header X-Forwarded-For $proxy_add_x_forwarded_for;\n",
      "      proxy_set_header Host $http_host;\n",
      "      proxy_redirect off;\n",
      "      proxy_read_timeout 60s;\n",
      "      proxy_pass http://gunicorn;\n",
      "    }\n",
      "\n",
      "    location / {\n",
      "      return 404 \"{}\";\n",
      "    }\n",
      "\n",
      "  }\u001b[0m\n",
      "\u001b[35m[2021-01-19:16:03:41:INFO] No GPUs detected (normal if no gpus installed)\u001b[0m\n",
      "\u001b[35m[2021-01-19:16:03:41:INFO] No GPUs detected (normal if no gpus installed)\u001b[0m\n",
      "\u001b[35m[2021-01-19:16:03:41:INFO] nginx config: \u001b[0m\n",
      "\u001b[35mworker_processes auto;\u001b[0m\n",
      "\u001b[35mdaemon off;\u001b[0m\n",
      "\u001b[35mpid /tmp/nginx.pid;\u001b[0m\n",
      "\u001b[35merror_log  /dev/stderr;\n",
      "\u001b[0m\n",
      "\u001b[35mworker_rlimit_nofile 4096;\n",
      "\u001b[0m\n",
      "\u001b[35mevents {\n",
      "  worker_connections 2048;\u001b[0m\n",
      "\u001b[35m}\n",
      "\u001b[0m\n",
      "\u001b[35mhttp {\n",
      "  include /etc/nginx/mime.types;\n",
      "  default_type application/octet-stream;\n",
      "  access_log /dev/stdout combined;\n",
      "\n",
      "  upstream gunicorn {\n",
      "    server unix:/tmp/gunicorn.sock;\n",
      "  }\n",
      "\n",
      "  server {\n",
      "    listen 8080 deferred;\n",
      "    client_max_body_size 0;\n",
      "\n",
      "    keepalive_timeout 3;\n",
      "\n",
      "    location ~ ^/(ping|invocations|execution-parameters) {\n",
      "      proxy_set_header X-Forwarded-For $proxy_add_x_forwarded_for;\n",
      "      proxy_set_header Host $http_host;\n",
      "      proxy_redirect off;\n",
      "      proxy_read_timeout 60s;\n",
      "      proxy_pass http://gunicorn;\n",
      "    }\n",
      "\n",
      "    location / {\n",
      "      return 404 \"{}\";\n",
      "    }\n",
      "\n",
      "  }\u001b[0m\n",
      "\u001b[34m}\n",
      "\n",
      "\u001b[0m\n",
      "\u001b[34m2021/01/19 16:03:41 [crit] 19#19: *1 connect() to unix:/tmp/gunicorn.sock failed (2: No such file or directory) while connecting to upstream, client: 169.254.255.130, server: , request: \"GET /ping HTTP/1.1\", upstream: \"http://unix:/tmp/gunicorn.sock:/ping\", host: \"169.254.255.131:8080\"\u001b[0m\n",
      "\u001b[34m169.254.255.130 - - [19/Jan/2021:16:03:41 +0000] \"GET /ping HTTP/1.1\" 502 182 \"-\" \"Go-http-client/1.1\"\u001b[0m\n",
      "\u001b[34m2021/01/19 16:03:41 [crit] 19#19: *3 connect() to unix:/tmp/gunicorn.sock failed (2: No such file or directory) while connecting to upstream, client: 169.254.255.130, server: , request: \"GET /ping HTTP/1.1\", upstream: \"http://unix:/tmp/gunicorn.sock:/ping\", host: \"169.254.255.131:8080\"\u001b[0m\n",
      "\u001b[34m169.254.255.130 - - [19/Jan/2021:16:03:41 +0000] \"GET /ping HTTP/1.1\" 502 182 \"-\" \"Go-http-client/1.1\"\u001b[0m\n",
      "\u001b[34m[2021-01-19 16:03:41 +0000] [18] [INFO] Starting gunicorn 19.10.0\u001b[0m\n",
      "\u001b[34m[2021-01-19 16:03:41 +0000] [18] [INFO] Listening at: unix:/tmp/gunicorn.sock (18)\u001b[0m\n",
      "\u001b[34m[2021-01-19 16:03:41 +0000] [18] [INFO] Using worker: gevent\u001b[0m\n",
      "\u001b[34m[2021-01-19 16:03:41 +0000] [25] [INFO] Booting worker with pid: 25\u001b[0m\n",
      "\u001b[34m[2021-01-19 16:03:41 +0000] [26] [INFO] Booting worker with pid: 26\u001b[0m\n",
      "\u001b[34m[2021-01-19 16:03:42 +0000] [27] [INFO] Booting worker with pid: 27\u001b[0m\n",
      "\u001b[34m[2021-01-19 16:03:42 +0000] [28] [INFO] Booting worker with pid: 28\u001b[0m\n",
      "\u001b[34m[2021-01-19:16:03:44:INFO] No GPUs detected (normal if no gpus installed)\u001b[0m\n",
      "\u001b[34m169.254.255.130 - - [19/Jan/2021:16:03:44 +0000] \"GET /ping HTTP/1.1\" 200 0 \"-\" \"Go-http-client/1.1\"\u001b[0m\n",
      "\u001b[34m169.254.255.130 - - [19/Jan/2021:16:03:44 +0000] \"GET /execution-parameters HTTP/1.1\" 200 84 \"-\" \"Go-http-client/1.1\"\u001b[0m\n",
      "\u001b[34m[2021-01-19:16:03:44:INFO] Determined delimiter of CSV input is ','\u001b[0m\n",
      "\u001b[34m169.254.255.130 - - [19/Jan/2021:16:03:44 +0000] \"POST /invocations HTTP/1.1\" 200 2034 \"-\" \"Go-http-client/1.1\"\u001b[0m\n",
      "\u001b[35m}\n",
      "\n",
      "\u001b[0m\n",
      "\u001b[35m2021/01/19 16:03:41 [crit] 19#19: *1 connect() to unix:/tmp/gunicorn.sock failed (2: No such file or directory) while connecting to upstream, client: 169.254.255.130, server: , request: \"GET /ping HTTP/1.1\", upstream: \"http://unix:/tmp/gunicorn.sock:/ping\", host: \"169.254.255.131:8080\"\u001b[0m\n",
      "\u001b[35m169.254.255.130 - - [19/Jan/2021:16:03:41 +0000] \"GET /ping HTTP/1.1\" 502 182 \"-\" \"Go-http-client/1.1\"\u001b[0m\n",
      "\u001b[35m2021/01/19 16:03:41 [crit] 19#19: *3 connect() to unix:/tmp/gunicorn.sock failed (2: No such file or directory) while connecting to upstream, client: 169.254.255.130, server: , request: \"GET /ping HTTP/1.1\", upstream: \"http://unix:/tmp/gunicorn.sock:/ping\", host: \"169.254.255.131:8080\"\u001b[0m\n",
      "\u001b[35m169.254.255.130 - - [19/Jan/2021:16:03:41 +0000] \"GET /ping HTTP/1.1\" 502 182 \"-\" \"Go-http-client/1.1\"\u001b[0m\n",
      "\u001b[35m[2021-01-19 16:03:41 +0000] [18] [INFO] Starting gunicorn 19.10.0\u001b[0m\n",
      "\u001b[35m[2021-01-19 16:03:41 +0000] [18] [INFO] Listening at: unix:/tmp/gunicorn.sock (18)\u001b[0m\n",
      "\u001b[35m[2021-01-19 16:03:41 +0000] [18] [INFO] Using worker: gevent\u001b[0m\n",
      "\u001b[35m[2021-01-19 16:03:41 +0000] [25] [INFO] Booting worker with pid: 25\u001b[0m\n",
      "\u001b[35m[2021-01-19 16:03:41 +0000] [26] [INFO] Booting worker with pid: 26\u001b[0m\n",
      "\u001b[35m[2021-01-19 16:03:42 +0000] [27] [INFO] Booting worker with pid: 27\u001b[0m\n",
      "\u001b[35m[2021-01-19 16:03:42 +0000] [28] [INFO] Booting worker with pid: 28\u001b[0m\n",
      "\u001b[35m[2021-01-19:16:03:44:INFO] No GPUs detected (normal if no gpus installed)\u001b[0m\n",
      "\u001b[35m169.254.255.130 - - [19/Jan/2021:16:03:44 +0000] \"GET /ping HTTP/1.1\" 200 0 \"-\" \"Go-http-client/1.1\"\u001b[0m\n",
      "\u001b[35m169.254.255.130 - - [19/Jan/2021:16:03:44 +0000] \"GET /execution-parameters HTTP/1.1\" 200 84 \"-\" \"Go-http-client/1.1\"\u001b[0m\n",
      "\u001b[35m[2021-01-19:16:03:44:INFO] Determined delimiter of CSV input is ','\u001b[0m\n",
      "\u001b[35m169.254.255.130 - - [19/Jan/2021:16:03:44 +0000] \"POST /invocations HTTP/1.1\" 200 2034 \"-\" \"Go-http-client/1.1\"\u001b[0m\n",
      "\n",
      "\u001b[32m2021-01-19T16:03:44.208:[sagemaker logs]: MaxConcurrentTransforms=4, MaxPayloadInMB=6, BatchStrategy=MULTI_RECORD\u001b[0m\n",
      "\u001b[34m[2021-01-19:16:03:41:INFO] No GPUs detected (normal if no gpus installed)\u001b[0m\n",
      "\u001b[34m[2021-01-19:16:03:41:INFO] No GPUs detected (normal if no gpus installed)\u001b[0m\n",
      "\u001b[34m[2021-01-19:16:03:41:INFO] nginx config: \u001b[0m\n",
      "\u001b[34mworker_processes auto;\u001b[0m\n",
      "\u001b[34mdaemon off;\u001b[0m\n",
      "\u001b[34mpid /tmp/nginx.pid;\u001b[0m\n",
      "\u001b[34merror_log  /dev/stderr;\n",
      "\u001b[0m\n",
      "\u001b[34mworker_rlimit_nofile 4096;\n",
      "\u001b[0m\n",
      "\u001b[34mevents {\n",
      "  worker_connections 2048;\u001b[0m\n",
      "\u001b[34m}\n",
      "\u001b[0m\n",
      "\u001b[34mhttp {\n",
      "  include /etc/nginx/mime.types;\n",
      "  default_type application/octet-stream;\n",
      "  access_log /dev/stdout combined;\n",
      "\n",
      "  upstream gunicorn {\n",
      "    server unix:/tmp/gunicorn.sock;\n",
      "  }\n",
      "\n",
      "  server {\n",
      "    listen 8080 deferred;\n",
      "    client_max_body_size 0;\n",
      "\n",
      "    keepalive_timeout 3;\n",
      "\n",
      "    location ~ ^/(ping|invocations|execution-parameters) {\n",
      "      proxy_set_header X-Forwarded-For $proxy_add_x_forwarded_for;\n",
      "      proxy_set_header Host $http_host;\n",
      "      proxy_redirect off;\n",
      "      proxy_read_timeout 60s;\n",
      "      proxy_pass http://gunicorn;\n",
      "    }\n",
      "\n",
      "    location / {\n",
      "      return 404 \"{}\";\n",
      "    }\n",
      "\n",
      "  }\u001b[0m\n",
      "\u001b[35m[2021-01-19:16:03:41:INFO] No GPUs detected (normal if no gpus installed)\u001b[0m\n",
      "\u001b[35m[2021-01-19:16:03:41:INFO] No GPUs detected (normal if no gpus installed)\u001b[0m\n",
      "\u001b[35m[2021-01-19:16:03:41:INFO] nginx config: \u001b[0m\n",
      "\u001b[35mworker_processes auto;\u001b[0m\n",
      "\u001b[35mdaemon off;\u001b[0m\n",
      "\u001b[35mpid /tmp/nginx.pid;\u001b[0m\n",
      "\u001b[35merror_log  /dev/stderr;\n",
      "\u001b[0m\n",
      "\u001b[35mworker_rlimit_nofile 4096;\n",
      "\u001b[0m\n",
      "\u001b[35mevents {\n",
      "  worker_connections 2048;\u001b[0m\n",
      "\u001b[35m}\n",
      "\u001b[0m\n",
      "\u001b[35mhttp {\n",
      "  include /etc/nginx/mime.types;\n",
      "  default_type application/octet-stream;\n",
      "  access_log /dev/stdout combined;\n",
      "\n",
      "  upstream gunicorn {\n",
      "    server unix:/tmp/gunicorn.sock;\n",
      "  }\n",
      "\n",
      "  server {\n",
      "    listen 8080 deferred;\n",
      "    client_max_body_size 0;\n",
      "\n",
      "    keepalive_timeout 3;\n",
      "\n",
      "    location ~ ^/(ping|invocations|execution-parameters) {\n",
      "      proxy_set_header X-Forwarded-For $proxy_add_x_forwarded_for;\n",
      "      proxy_set_header Host $http_host;\n",
      "      proxy_redirect off;\n",
      "      proxy_read_timeout 60s;\n",
      "      proxy_pass http://gunicorn;\n",
      "    }\n",
      "\n",
      "    location / {\n",
      "      return 404 \"{}\";\n",
      "    }\n",
      "\n",
      "  }\u001b[0m\n",
      "\u001b[34m}\n",
      "\n",
      "\u001b[0m\n",
      "\u001b[34m2021/01/19 16:03:41 [crit] 19#19: *1 connect() to unix:/tmp/gunicorn.sock failed (2: No such file or directory) while connecting to upstream, client: 169.254.255.130, server: , request: \"GET /ping HTTP/1.1\", upstream: \"http://unix:/tmp/gunicorn.sock:/ping\", host: \"169.254.255.131:8080\"\u001b[0m\n",
      "\u001b[34m169.254.255.130 - - [19/Jan/2021:16:03:41 +0000] \"GET /ping HTTP/1.1\" 502 182 \"-\" \"Go-http-client/1.1\"\u001b[0m\n",
      "\u001b[34m2021/01/19 16:03:41 [crit] 19#19: *3 connect() to unix:/tmp/gunicorn.sock failed (2: No such file or directory) while connecting to upstream, client: 169.254.255.130, server: , request: \"GET /ping HTTP/1.1\", upstream: \"http://unix:/tmp/gunicorn.sock:/ping\", host: \"169.254.255.131:8080\"\u001b[0m\n",
      "\u001b[34m169.254.255.130 - - [19/Jan/2021:16:03:41 +0000] \"GET /ping HTTP/1.1\" 502 182 \"-\" \"Go-http-client/1.1\"\u001b[0m\n",
      "\u001b[34m[2021-01-19 16:03:41 +0000] [18] [INFO] Starting gunicorn 19.10.0\u001b[0m\n",
      "\u001b[34m[2021-01-19 16:03:41 +0000] [18] [INFO] Listening at: unix:/tmp/gunicorn.sock (18)\u001b[0m\n",
      "\u001b[34m[2021-01-19 16:03:41 +0000] [18] [INFO] Using worker: gevent\u001b[0m\n",
      "\u001b[34m[2021-01-19 16:03:41 +0000] [25] [INFO] Booting worker with pid: 25\u001b[0m\n",
      "\u001b[34m[2021-01-19 16:03:41 +0000] [26] [INFO] Booting worker with pid: 26\u001b[0m\n",
      "\u001b[34m[2021-01-19 16:03:42 +0000] [27] [INFO] Booting worker with pid: 27\u001b[0m\n",
      "\u001b[34m[2021-01-19 16:03:42 +0000] [28] [INFO] Booting worker with pid: 28\u001b[0m\n",
      "\u001b[34m[2021-01-19:16:03:44:INFO] No GPUs detected (normal if no gpus installed)\u001b[0m\n",
      "\u001b[34m169.254.255.130 - - [19/Jan/2021:16:03:44 +0000] \"GET /ping HTTP/1.1\" 200 0 \"-\" \"Go-http-client/1.1\"\u001b[0m\n",
      "\u001b[34m169.254.255.130 - - [19/Jan/2021:16:03:44 +0000] \"GET /execution-parameters HTTP/1.1\" 200 84 \"-\" \"Go-http-client/1.1\"\u001b[0m\n",
      "\u001b[34m[2021-01-19:16:03:44:INFO] Determined delimiter of CSV input is ','\u001b[0m\n",
      "\u001b[34m169.254.255.130 - - [19/Jan/2021:16:03:44 +0000] \"POST /invocations HTTP/1.1\" 200 2034 \"-\" \"Go-http-client/1.1\"\u001b[0m\n",
      "\u001b[35m}\n",
      "\n",
      "\u001b[0m\n",
      "\u001b[35m2021/01/19 16:03:41 [crit] 19#19: *1 connect() to unix:/tmp/gunicorn.sock failed (2: No such file or directory) while connecting to upstream, client: 169.254.255.130, server: , request: \"GET /ping HTTP/1.1\", upstream: \"http://unix:/tmp/gunicorn.sock:/ping\", host: \"169.254.255.131:8080\"\u001b[0m\n",
      "\u001b[35m169.254.255.130 - - [19/Jan/2021:16:03:41 +0000] \"GET /ping HTTP/1.1\" 502 182 \"-\" \"Go-http-client/1.1\"\u001b[0m\n",
      "\u001b[35m2021/01/19 16:03:41 [crit] 19#19: *3 connect() to unix:/tmp/gunicorn.sock failed (2: No such file or directory) while connecting to upstream, client: 169.254.255.130, server: , request: \"GET /ping HTTP/1.1\", upstream: \"http://unix:/tmp/gunicorn.sock:/ping\", host: \"169.254.255.131:8080\"\u001b[0m\n",
      "\u001b[35m169.254.255.130 - - [19/Jan/2021:16:03:41 +0000] \"GET /ping HTTP/1.1\" 502 182 \"-\" \"Go-http-client/1.1\"\u001b[0m\n",
      "\u001b[35m[2021-01-19 16:03:41 +0000] [18] [INFO] Starting gunicorn 19.10.0\u001b[0m\n",
      "\u001b[35m[2021-01-19 16:03:41 +0000] [18] [INFO] Listening at: unix:/tmp/gunicorn.sock (18)\u001b[0m\n",
      "\u001b[35m[2021-01-19 16:03:41 +0000] [18] [INFO] Using worker: gevent\u001b[0m\n",
      "\u001b[35m[2021-01-19 16:03:41 +0000] [25] [INFO] Booting worker with pid: 25\u001b[0m\n",
      "\u001b[35m[2021-01-19 16:03:41 +0000] [26] [INFO] Booting worker with pid: 26\u001b[0m\n",
      "\u001b[35m[2021-01-19 16:03:42 +0000] [27] [INFO] Booting worker with pid: 27\u001b[0m\n",
      "\u001b[35m[2021-01-19 16:03:42 +0000] [28] [INFO] Booting worker with pid: 28\u001b[0m\n",
      "\u001b[35m[2021-01-19:16:03:44:INFO] No GPUs detected (normal if no gpus installed)\u001b[0m\n",
      "\u001b[35m169.254.255.130 - - [19/Jan/2021:16:03:44 +0000] \"GET /ping HTTP/1.1\" 200 0 \"-\" \"Go-http-client/1.1\"\u001b[0m\n",
      "\u001b[35m169.254.255.130 - - [19/Jan/2021:16:03:44 +0000] \"GET /execution-parameters HTTP/1.1\" 200 84 \"-\" \"Go-http-client/1.1\"\u001b[0m\n",
      "\u001b[35m[2021-01-19:16:03:44:INFO] Determined delimiter of CSV input is ','\u001b[0m\n",
      "\u001b[35m169.254.255.130 - - [19/Jan/2021:16:03:44 +0000] \"POST /invocations HTTP/1.1\" 200 2034 \"-\" \"Go-http-client/1.1\"\u001b[0m\n"
     ]
    }
   ],
   "source": [
    "transformer = best_model.transformer(instance_count=1, instance_type='ml.m4.xlarge', output_path=batch_output)\n",
    "transformer.transform(data=batch_input, data_type='S3Prefix', content_type='text/csv', split_type='Line')\n",
    "transformer.wait()"
   ]
  },
  {
   "cell_type": "markdown",
   "metadata": {},
   "source": [
    "Wait for the previous step to be completed. Once done, you can download the prediction results to your instance for further analysis."
   ]
  },
  {
   "cell_type": "code",
   "execution_count": 94,
   "metadata": {},
   "outputs": [],
   "source": [
    "s3.Bucket(bucket).download_file(prefix + '/batch-inference/test.csv.out',  'batch_results')"
   ]
  },
  {
   "cell_type": "code",
   "execution_count": 95,
   "metadata": {},
   "outputs": [],
   "source": [
    "with open('batch_results') as f:\n",
    "    results = f.readlines()"
   ]
  },
  {
   "cell_type": "markdown",
   "metadata": {},
   "source": [
    "## Compare model results to actual\n",
    "\n",
    "You can evaluate your model results with the test data you left out earlier and check the precision and recall. In customer churn problem, precision and recall means:\n",
    "\n",
    "* Precision – Of all the users that the algorithm predicts will churn, how many of them do actually churn?\n",
    "* Recall – What percentage of users that end up churning does the algorithm successfully find?"
   ]
  },
  {
   "cell_type": "code",
   "execution_count": 96,
   "metadata": {},
   "outputs": [
    {
     "data": {
      "text/html": [
       "<div>\n",
       "<style scoped>\n",
       "    .dataframe tbody tr th:only-of-type {\n",
       "        vertical-align: middle;\n",
       "    }\n",
       "\n",
       "    .dataframe tbody tr th {\n",
       "        vertical-align: top;\n",
       "    }\n",
       "\n",
       "    .dataframe thead th {\n",
       "        text-align: right;\n",
       "    }\n",
       "</style>\n",
       "<table border=\"1\" class=\"dataframe\">\n",
       "  <thead>\n",
       "    <tr style=\"text-align: right;\">\n",
       "      <th></th>\n",
       "      <th>user_churned</th>\n",
       "      <th>predicted_results</th>\n",
       "      <th>predicted_binary</th>\n",
       "    </tr>\n",
       "  </thead>\n",
       "  <tbody>\n",
       "    <tr>\n",
       "      <th>636</th>\n",
       "      <td>0</td>\n",
       "      <td>0.024584</td>\n",
       "      <td>0</td>\n",
       "    </tr>\n",
       "    <tr>\n",
       "      <th>845</th>\n",
       "      <td>0</td>\n",
       "      <td>0.003359</td>\n",
       "      <td>0</td>\n",
       "    </tr>\n",
       "    <tr>\n",
       "      <th>79</th>\n",
       "      <td>0</td>\n",
       "      <td>0.016026</td>\n",
       "      <td>0</td>\n",
       "    </tr>\n",
       "    <tr>\n",
       "      <th>780</th>\n",
       "      <td>0</td>\n",
       "      <td>0.045925</td>\n",
       "      <td>0</td>\n",
       "    </tr>\n",
       "    <tr>\n",
       "      <th>104</th>\n",
       "      <td>0</td>\n",
       "      <td>0.020015</td>\n",
       "      <td>0</td>\n",
       "    </tr>\n",
       "    <tr>\n",
       "      <th>...</th>\n",
       "      <td>...</td>\n",
       "      <td>...</td>\n",
       "      <td>...</td>\n",
       "    </tr>\n",
       "    <tr>\n",
       "      <th>193</th>\n",
       "      <td>1</td>\n",
       "      <td>0.994653</td>\n",
       "      <td>1</td>\n",
       "    </tr>\n",
       "    <tr>\n",
       "      <th>67</th>\n",
       "      <td>1</td>\n",
       "      <td>0.991932</td>\n",
       "      <td>1</td>\n",
       "    </tr>\n",
       "    <tr>\n",
       "      <th>382</th>\n",
       "      <td>1</td>\n",
       "      <td>0.313690</td>\n",
       "      <td>0</td>\n",
       "    </tr>\n",
       "    <tr>\n",
       "      <th>533</th>\n",
       "      <td>1</td>\n",
       "      <td>0.615574</td>\n",
       "      <td>1</td>\n",
       "    </tr>\n",
       "    <tr>\n",
       "      <th>102</th>\n",
       "      <td>1</td>\n",
       "      <td>0.981519</td>\n",
       "      <td>1</td>\n",
       "    </tr>\n",
       "  </tbody>\n",
       "</table>\n",
       "<p>102 rows × 3 columns</p>\n",
       "</div>"
      ],
      "text/plain": [
       "     user_churned  predicted_results  predicted_binary\n",
       "636             0           0.024584                 0\n",
       "845             0           0.003359                 0\n",
       "79              0           0.016026                 0\n",
       "780             0           0.045925                 0\n",
       "104             0           0.020015                 0\n",
       "..            ...                ...               ...\n",
       "193             1           0.994653                 1\n",
       "67              1           0.991932                 1\n",
       "382             1           0.313690                 0\n",
       "533             1           0.615574                 1\n",
       "102             1           0.981519                 1\n",
       "\n",
       "[102 rows x 3 columns]"
      ]
     },
     "execution_count": 96,
     "metadata": {},
     "output_type": "execute_result"
    }
   ],
   "source": [
    "test_data['predicted_results'] = pd.to_numeric(results)\n",
    "#define a threshold to convert probability to class, you can set as 0.5 by default\n",
    "test_data['predicted_binary'] = [1 if x >= 0.5 else 0 for x in test_data['predicted_results']]\n",
    "test_data[['user_churned', 'predicted_results', 'predicted_binary']]"
   ]
  },
  {
   "cell_type": "markdown",
   "metadata": {},
   "source": [
    "You did a good job and your model can detect 85% of the users who are going to churn. "
   ]
  },
  {
   "cell_type": "code",
   "execution_count": 97,
   "metadata": {},
   "outputs": [
    {
     "name": "stdout",
     "output_type": "stream",
     "text": [
      "Test Evaluation: \n",
      "Average F1 Score:  0.8861607142857144\n",
      "Precision Score:  0.9310344827586207\n",
      "Recall Score:  0.7714285714285715\n"
     ]
    }
   ],
   "source": [
    "from sklearn import metrics\n",
    "\n",
    "test_labels = test_data['user_churned']\n",
    "test_pred = test_data['predicted_binary']\n",
    "\n",
    "test_f1 = metrics.f1_score(test_labels, test_pred, average=None)\n",
    "# fbeta_test= metrics.f1_score(mtest_labels, mpreds_test_xgb, average=None)\n",
    "prec, rec, fbeta_test, support = metrics.precision_recall_fscore_support(test_labels, test_pred, average = None)\n",
    "metrics.precision_recall_fscore_support(test_labels, test_pred, average = None)\n",
    "print (\"Test Evaluation: \")\n",
    "print (\"Average F1 Score: \",(test_f1[0]+test_f1[1])/2 )\n",
    "print (\"Precision Score: \", (prec[1]) )\n",
    "print (\"Recall Score: \", (rec[1]))"
   ]
  },
  {
   "cell_type": "markdown",
   "metadata": {},
   "source": [
    "<a id='15'></a>\n",
    "## Model Explainability with SageMaker Clarify\n",
    "You can visualize which feature contributes most to your prediction results by using the new SageMaker feature SageMaker Clarify. It  will provide SHAP values which measures the importance of a feature by replacing it with a dummy and seeing how it affects the prediciton. (In reality, SHAP is smart about the choice of dummy and also takes into account feature interactions.)  For a more general overview of model interpretability, see [this post](https://towardsdatascience.com/guide-to-interpretable-machine-learning-d40e8a64b6cf). For other capabilities of SageMaker Clarify, please see the [documentation](https://docs.aws.amazon.com/sagemaker/latest/dg/clarify-fairness-and-explainability.html) and the [example notebook](https://github.com/aws/amazon-sagemaker-examples/blob/master/sagemaker_processing/fairness_and_explainability/fairness_and_explainability.ipynb)."
   ]
  },
  {
   "cell_type": "code",
   "execution_count": 74,
   "metadata": {},
   "outputs": [],
   "source": [
    "from sagemaker import clarify\n",
    "clarify_processor = clarify.SageMakerClarifyProcessor(role=role,\n",
    "                                                      instance_count=1,\n",
    "                                                      instance_type='ml.c4.xlarge',\n",
    "                                                      sagemaker_session=sagemaker_session)"
   ]
  },
  {
   "cell_type": "code",
   "execution_count": 189,
   "metadata": {},
   "outputs": [],
   "source": [
    "from sagemaker.s3 import S3Uploader\n",
    "from sagemaker.inputs import TrainingInput\n",
    "\n",
    "train_uri =  's3://{}/{}/train/train.csv'.format(bucket, prefix).format(bucket, prefix)\n",
    "train_input = TrainingInput(train_uri, content_type='csv')"
   ]
  },
  {
   "cell_type": "code",
   "execution_count": 191,
   "metadata": {},
   "outputs": [],
   "source": [
    "# variables used for parameterizing the notebook run\n",
    "xgb_endpoint_name = smclient.list_endpoints()['Endpoints'][0]['EndpointName']\n",
    "xgb_model_name = smclient.list_models()['Models'][0]['ModelName']"
   ]
  },
  {
   "cell_type": "code",
   "execution_count": 198,
   "metadata": {},
   "outputs": [],
   "source": [
    "shap_config = clarify.SHAPConfig(baseline=[test_set.iloc[0].values.tolist()],\n",
    "                                 num_samples=100,\n",
    "                                 agg_method='mean_abs')\n",
    "\n",
    "explainability_output_path = 's3://{}/{}/clarify-explainability'.format(bucket, prefix)\n",
    "explainability_data_config = clarify.DataConfig(s3_data_input_path=train_uri,\n",
    "                                s3_output_path=explainability_output_path,\n",
    "                                label='user_churned',\n",
    "                                headers=training_data.columns.to_list(),\n",
    "                                dataset_type='text/csv')\n",
    "model_config = clarify.ModelConfig(model_name=xgb_model_name,\n",
    "                                   instance_type='ml.c5.xlarge',\n",
    "                                   instance_count=1,\n",
    "                                   accept_type='text/csv')"
   ]
  },
  {
   "cell_type": "code",
   "execution_count": 199,
   "metadata": {},
   "outputs": [
    {
     "name": "stdout",
     "output_type": "stream",
     "text": [
      "\n",
      "Job Name:  Clarify-Explainability-2020-12-10-20-29-42-425\n",
      "Inputs:  [{'InputName': 'dataset', 'S3Input': {'S3Uri': 's3://sagemaker-us-east-2-060356833389/music-streaming/train/train.csv', 'LocalPath': '/opt/ml/processing/input/data', 'S3DataType': 'S3Prefix', 'S3InputMode': 'File', 'S3DataDistributionType': 'FullyReplicated', 'S3CompressionType': 'None'}}, {'InputName': 'analysis_config', 'S3Input': {'S3Uri': 's3://sagemaker-us-east-2-060356833389/Clarify-Explainability-2020-12-10-20-29-42-425/input/analysis_config/analysis_config.json', 'LocalPath': '/opt/ml/processing/input/config', 'S3DataType': 'S3Prefix', 'S3InputMode': 'File', 'S3DataDistributionType': 'FullyReplicated', 'S3CompressionType': 'None'}}]\n",
      "Outputs:  [{'OutputName': 'analysis_result', 'S3Output': {'S3Uri': 's3://sagemaker-us-east-2-060356833389/music-streaming/clarify-explainability', 'LocalPath': '/opt/ml/processing/output', 'S3UploadMode': 'EndOfJob'}}]\n",
      "..............................\u001b[34mINFO:sagemaker-clarify-processing:Starting SageMaker Clarify Processing job\u001b[0m\n",
      "\u001b[34mINFO:analyzer.data_loading.data_loader_util:Analysis config path: /opt/ml/processing/input/config\u001b[0m\n",
      "\u001b[34mINFO:analyzer.data_loading.data_loader_util:Analysis result path: /opt/ml/processing/output\u001b[0m\n",
      "\u001b[34mINFO:analyzer.data_loading.data_loader_util:This host is algo-1.\u001b[0m\n",
      "\u001b[34mINFO:analyzer.data_loading.data_loader_util:This host is the leader.\u001b[0m\n",
      "\u001b[34mINFO:analyzer.data_loading.data_loader_util:Number of hosts in the cluster is 1.\u001b[0m\n",
      "\u001b[34mINFO:sagemaker-clarify-processing:Running Python / Pandas based analyzer.\u001b[0m\n",
      "\u001b[34mINFO:analyzer.data_loading.data_loader_util:Dataset uri: /opt/ml/processing/input/data\u001b[0m\n",
      "\u001b[34mINFO:analyzer.predictor:Spinning up shadow endpoint\u001b[0m\n",
      "\u001b[34mINFO:sagemaker:Creating endpoint-config with name sagemaker-clarify-endpoint-config-1607632469-4786\u001b[0m\n",
      "\u001b[34mINFO:analyzer.predictor:Creating endpoint sagemaker-clarify-endpoint-1607632469-00dc\u001b[0m\n",
      "\u001b[34mWARNING:explainers.kernel_shap:The number of requested samples 15 is too small given the number of features 25\u001b[0m\n",
      "\u001b[34mINFO:explainers.kernel_shap:n_samples 15\u001b[0m\n",
      "\u001b[34mINFO:analyzer.predictor:Checking endpoint status\u001b[0m\n",
      "\u001b[34mINFO:analyzer.predictor:Endpoint is in service\u001b[0m\n",
      "\u001b[34mINFO:analyzer.shap_analyzer:=====================================================\u001b[0m\n",
      "\u001b[34mINFO:analyzer.shap_analyzer:Shap analyzer: explaining 708 rows, 25 columns...\u001b[0m\n",
      "\u001b[34mINFO:analyzer.shap_analyzer:=====================================================\u001b[0m\n",
      "\u001b[34mINFO:analyzer.predictor:Prediction batch size is initialized with 27001\u001b[0m\n",
      "\u001b[34mN/A% (0 of 708) |                        | Elapsed Time: 0:00:00 ETA:  --:--:--\u001b[0m\n",
      "\n",
      "\u001b[34m100% (708 of 708) |######################| Elapsed Time: 0:00:13 Time:  0:00:13\u001b[0m\n",
      "\u001b[34mINFO:analyzer.shap_analyzer:getting explanations took 13.43 seconds.\u001b[0m\n",
      "\u001b[34mINFO:analyzer.shap_analyzer:===================================================\u001b[0m\n",
      "\u001b[34mINFO:analyzer.shap_analyzer:converting explanations to tabular took 0.07 seconds.\u001b[0m\n",
      "\u001b[34mINFO:analyzer.shap_analyzer:===================================================\u001b[0m\n",
      "\u001b[34mINFO:analyzer.shap_analyzer:Wrote 708 local explanations to: /opt/ml/processing/output/explanations_shap/out.csv\u001b[0m\n",
      "\u001b[34mINFO:analyzer.shap_analyzer:writing local explanations took 0.03 seconds.\u001b[0m\n",
      "\u001b[34mINFO:analyzer.shap_analyzer:===================================================\u001b[0m\n",
      "\u001b[34mINFO:analyzer.shap_analyzer:aggregating local explanations took 0.00 seconds.\u001b[0m\n",
      "\u001b[34mINFO:analyzer.shap_analyzer:===================================================\u001b[0m\n",
      "\u001b[34mINFO:analyzer.shap_analyzer:Shap analysis finished.\u001b[0m\n",
      "\u001b[34mINFO:analyzer.predictor:Stop using endpoint: sagemaker-clarify-endpoint-1607632469-00dc\u001b[0m\n",
      "\u001b[34mINFO:sagemaker:Deleting endpoint configuration with name: sagemaker-clarify-endpoint-config-1607632469-4786\u001b[0m\n",
      "\u001b[34mINFO:sagemaker:Deleting endpoint with name: sagemaker-clarify-endpoint-1607632469-00dc\u001b[0m\n",
      "\u001b[34mINFO:analyzer.predictor:Model endpoint delivered 0.00964 requests per second and a total of 1417 requests over 14 seconds\u001b[0m\n",
      "\u001b[34m[NbConvertApp] Converting notebook /opt/ml/processing/output/report.ipynb to html\u001b[0m\n",
      "\u001b[34m[NbConvertApp] Writing 326244 bytes to /opt/ml/processing/output/report.html\u001b[0m\n",
      "\u001b[34mINFO:analyzer.report:HTML report '/opt/ml/processing/output/report.html' generated successfully.\u001b[0m\n",
      "\u001b[34mLoading pages (1/6)\u001b[0m\n",
      "\u001b[34m[>                                                           ] 0%#015[======>                                                     ] 10%#015[===========================>                                ] 45%#015[============================>                               ] 47%#015[==============================================>             ] 78%#015[======================================================>     ] 90%#015[======================================================>     ] 90%#015[============================================================] 100%#015Counting pages (2/6)                                               \u001b[0m\n",
      "\u001b[34m[============================================================] Object 1 of 1#015Resolving links (4/6)                                                       \u001b[0m\n",
      "\u001b[34m[============================================================] Object 1 of 1#015Loading headers and footers (5/6)                                           \u001b[0m\n",
      "\u001b[34mPrinting pages (6/6)\u001b[0m\n",
      "\u001b[34m[>                                                           ] Preparing#015[============================================================] Page 1 of 1#015Done                                                                      \u001b[0m\n",
      "\u001b[34mINFO:analyzer.report:PDF report '/opt/ml/processing/output/report.pdf' generated successfully.\u001b[0m\n",
      "\u001b[34mINFO:sagemaker-clarify-processing:Collected analyses: \u001b[0m\n",
      "\u001b[34m{\n",
      "    \"version\": \"1.0\",\n",
      "    \"explanations\": {\n",
      "        \"kernel_shap\": {\n",
      "            \"label0\": {\n",
      "                \"global_shap_values\": {\n",
      "                    \"average_events_weekend\": 0.03473370586891734,\n",
      "                    \"average_events_weekday\": 0.03408583887690494,\n",
      "                    \"num_songs_played_7d\": 0.028371422804388244,\n",
      "                    \"num_ads_7d\": 0.03614739016528012,\n",
      "                    \"num_error_7d\": 0.028991365719422908,\n",
      "                    \"num_songs_played_30d\": 0.026014246764723987,\n",
      "                    \"num_songs_played_90d\": 0.026098746530026095,\n",
      "                    \"num_sessions\": 0.03105745685606745,\n",
      "                    \"avg_time_per_session\": 0.02944467559985928,\n",
      "                    \"avg_events_per_session\": 0.0286588820752621,\n",
      "                    \"avg_gap_between_session\": 0.03770285538902901,\n",
      "                    \"num_events\": 0.030523092325111925,\n",
      "                    \"num_songs\": 0.030038889892905523,\n",
      "                    \"num_artists\": 0.031094603226629887,\n",
      "                    \"num_thumbs_down\": 0.028104593239203085,\n",
      "                    \"num_thumbs_up\": 0.028889523254289777,\n",
      "                    \"num_add_to_playlist\": 0.030845212973980674,\n",
      "                    \"num_ads\": 0.028086904391597254,\n",
      "                    \"num_add_friend\": 0.028878770610616094,\n",
      "                    \"num_downgrade\": 0.025666734294533027,\n",
      "                    \"num_upgrade\": 0.028850325199864323,\n",
      "                    \"num_error\": 0.027368324821776896,\n",
      "                    \"percentage_ad\": 0.02727888618359557,\n",
      "                    \"days_since_active\": 0.1829995402344307,\n",
      "                    \"repeats_ratio\": 0.05762117832704025\n",
      "                },\n",
      "                \"expected_value\": 0.006107036489993334\n",
      "            }\n",
      "        }\n",
      "    }\u001b[0m\n",
      "\u001b[34m}\u001b[0m\n",
      "\u001b[34mINFO:analyzer.data_loading.data_loader_util:exit_message: Completed: SageMaker XAI Analyzer ran successfully\u001b[0m\n",
      "\u001b[34m-------!\u001b[0m\n"
     ]
    }
   ],
   "source": [
    "clarify_processor.run_explainability(data_config=explainability_data_config,\n",
    "                                     model_config=model_config,\n",
    "                                     explainability_config=shap_config)"
   ]
  },
  {
   "cell_type": "markdown",
   "metadata": {},
   "source": [
    "<a id='13'></a>\n",
    "## Optional: Automate your training and model selection with SageMaker Autopilot (Console)\n",
    "With [SageMaker Autopilot](https://aws.amazon.com/blogs/aws/amazon-sagemaker-autopilot-fully-managed-automatic-machine-learning/), you can skip all the steps above and let it automatically tracks the inputs, parameters, configurations, and results of your iterations as trials. Go to SageMaker Experiments List on the left navigation pane, then choose **Create Experiment**. You will be directed to the experiment creating page. All you need to do is do give the Experiment job a name, specify your input and output data location, specify your target variable, and choose your ML problem type (classification or regression), or leave it as auto.\n",
    "\n",
    "<div>\n",
    "<img src=\"image/sm1.PNG\" width=\"400\"/>\n",
    "   </div>\n",
    "<div>\n",
    "<img src=\"image/sm2.PNG\" width=\"400\"/>\n",
    "\n",
    "</div>"
   ]
  },
  {
   "cell_type": "code",
   "execution_count": 452,
   "metadata": {},
   "outputs": [],
   "source": [
    "data_for_experiment = pd.concat([train_data, validation_data])\n",
    "data_for_experiment = data_for_experiment.drop(columns = ['userId'])\n",
    "data_for_experiment.to_csv('full_feature_data.csv', index = False)\n",
    "s3_input_full_set = boto3.Session().resource('s3').Bucket(bucket).Object(os.path.join(prefix, 'full/fullset.csv')).upload_file('full_feature_data.csv')"
   ]
  },
  {
   "cell_type": "markdown",
   "metadata": {},
   "source": [
    "The experiment job will take some time to run (for the default 250 trials). It will go through data exploration, feature engineering, model selection and hyperparameter tuning. It will create a **data exploration notebook** that describes the data (missing values, numerical feature distributions, etc.), and a **candidate generation notebook** that describes the AutoML job. At the end of the Experiment job, the best model chosen is highlighted, and you can directly deploy the model for real-time prediction from the SageMaker Experiment Console. \n",
    "<div>\n",
    "<img src=\"image/sm3.PNG\" width=\"800\"/>\n",
    "\n",
    "</div>"
   ]
  },
  {
   "cell_type": "markdown",
   "metadata": {},
   "source": [
    "## Optional: deploy model created from SageMaker Autopilot\n",
    "#### From Console\n",
    "You can navigate to the SageMaker Hyperparameter Tuning Job from the console to find the best model by go to **SageMaker  $\\rightarrow$ Hyperparameter tuning jobs  $\\rightarrow$ \\<your most recent job name marked as complete\\> $\\rightarrow$ Best training job** then choose **Create model**.\n",
    "<div>\n",
    "<img src=\"image/sm4.PNG\" width=\"800\"/>\n",
    "\n",
    "</div>\n",
    "\n",
    "#### With Code\n",
    "Alternatively, you can take look at the candidate generation notebook that describes the AutoML job. As part of the job, the input dataset has been randomly split into two pieces, one for training and one for validation. The notebook helps you inspect and modify the data transformation approaches proposed by Amazon SageMaker Autopilot. You can interactively train the data transformation models and use them to transform the data. Finally, you can execute a multiple algorithm hyperparameter optimization (multi-algo HPO) job that helps you find the best model for your dataset by jointly optimizing the data transformations and machine learning algorithms. Note that with the data transformation pipeline created by the AutoML job, the final model may contain more features than what you already created in this notebook, hence it would be better to test the models created by the AutoML job in the **Candidate generation notebook** to make sure your test data is also processed by the data transformation pipeline and has all the feature needed.\n"
   ]
  },
  {
   "cell_type": "markdown",
   "metadata": {},
   "source": [
    "# Disclaimer\n",
    "\n",
    "The data used in this notebook is synthetic and does not contain real user data. The results (all the names, emails, IP addresses, and browser information) of this simulation are fake."
   ]
  },
  {
   "cell_type": "markdown",
   "metadata": {},
   "source": [
    "# Citation\n",
    "The data used in this notebook is simulated using the [EventSim](https://github.com/Interana/eventsim)."
   ]
  },
  {
   "cell_type": "code",
   "execution_count": null,
   "metadata": {},
   "outputs": [],
   "source": []
  }
 ],
 "metadata": {
  "instance_type": "ml.t3.medium",
  "kernelspec": {
   "display_name": "Python 3 (Data Science)",
   "language": "python",
   "name": "python3__SAGEMAKER_INTERNAL__arn:aws:sagemaker:us-east-2:429704687514:image/datascience-1.0"
  },
  "language_info": {
   "codemirror_mode": {
    "name": "ipython",
    "version": 3
   },
   "file_extension": ".py",
   "mimetype": "text/x-python",
   "name": "python",
   "nbconvert_exporter": "python",
   "pygments_lexer": "ipython3",
   "version": "3.7.6"
  }
 },
 "nbformat": 4,
 "nbformat_minor": 4
}
