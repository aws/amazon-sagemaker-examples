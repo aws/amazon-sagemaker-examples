{
 "cells": [
  {
   "cell_type": "markdown",
   "id": "44bfd493-be33-4868-91ed-fcd635d5c456",
   "metadata": {
    "tags": []
   },
   "source": [
    "# Monitoring of methane (CH4) emission point sources using Amazon SageMaker geospatial capabilities"
   ]
  },
  {
   "cell_type": "markdown",
   "id": "b4d47fc2-3381-4f2c-9f7d-7c7c94fbb80a",
   "metadata": {},
   "source": [
    "---\n",
    "\n",
    "This notebook's CI test result for us-west-2 is as follows. CI test results in other regions can be found at the end of the notebook. \n",
    "\n",
    "![This us-west-2 badge failed to load. Check your device's internet connectivity, otherwise the service is currently unavailable](https://prod.us-west-2.tcx-beacon.docs.aws.dev/sagemaker-nb/us-west-2/sagemaker-geospatial|methane-emission-monitoring|monitor_methane_ch4_emission_point_sources.ipynb)\n",
    "\n",
    "---"
   ]
  },
  {
   "cell_type": "markdown",
   "id": "e734ee35-ce84-4e59-b6e9-64f4cf4c2a7c",
   "metadata": {},
   "source": [
    "## Introduction\n",
    "\n",
    "In this notebook, we will demonstrate how to detect and monitor methane (CH₄) emissions from point sources. The approach utilizes Sentinel-2 satellite imagery to compute changes in reflectance values within the short-wave infrared (SWIR) bands. Drawing upon [recent findings from the earth observation literature](https://amt.copernicus.org/articles/14/2771/2021/), you will learn to implement a custom methane detection algorithm, enabling you to identify and track methane leakages at various sites globally.\n",
    "\n",
    "#### Why monitor Methane (CH4)?\n",
    "\n",
    "Methane (CH4) is a major anthropogenic greenhouse gas that is a by-product of oil & gas extraction, coal mining, large-scale animal farming, or waste disposal among other sources. The global warming potential of CH4 is [86 times that of CO2](https://amt.copernicus.org/articles/16/89/2023/) and the Intergovernmental Panel on Climate Change (IPCC) estimates that [methane is responsible for 30% of observed global warming to date](https://www.iea.org/reports/global-methane-tracker-2022/overview). Rapidly reducing leakage of CH4 into the atmosphere represents a critical component in the fight against climate change, an issue which is a key focus for policy makers around the world. At the 2021 United Nations Climate Change Conference (COP26), [The Global Methane Pledge](https://www.globalmethanepledge.org/) was initiated with the stated goal of “fast action on methane to keep a 1.5°C future within reach”. As of mid-2023, the Pledge has [150 signatories](https://www.globalmethanepledge.org/#pledges), including the US, the EU and many other nations.\n",
    "\n",
    "#### Remote sensing of methane point sources using multispectral satellite imagery\n",
    "\n",
    "Satellite-based methane sensing approaches typically rely on the unique transmittance characteristics of CH4. In the visible spectrum, CH4 has transmittance values equal or close to 1, meaning it is undetectable by the naked eye. Across certain wavelengths, however, methane does absorb light (transmittance <1), a property which can be exploited for detection purposes. In this notebook we will be using [Sentinel 2](https://sentinel.esa.int/web/sentinel/missions/sentinel-2) imagery, which strikes a strong balance between revisit rate (5days), spatial resolution (20m) and open access (hosted on the [AWS Registry of Open Data](https://registry.opendata.aws/sentinel-2/))."
   ]
  },
  {
   "cell_type": "markdown",
   "id": "9c76c7e5-57d4-4e0a-8041-d57c33a71d7e",
   "metadata": {},
   "source": [
    "## Prerequisites\n",
    "\n",
    "This notebook runs with the Geospatial 1.0 kernel with a `ml.geospatial.interactive` instance. Note that the following policies need to be attached to the execution role that you used to run this notebook:\n",
    "\n",
    "- AmazonSageMakerFullAccess\n",
    "- AmazonSageMakerGeospatialFullAccess\n",
    "\n",
    "You can see the policies attached to the role in the IAM console under the permissions tab. If required, add the roles using the 'Add Permissions' button. \n",
    "\n",
    "In addition to these policies, ensure that the execution role's trust policy allows the SageMaker-GeoSpatial service to assume the role. This can be done by adding the following trust policy using the 'Trust relationships' tab:\n",
    "```\n",
    "{\n",
    "    \"Version\": \"2012-10-17\",\n",
    "    \"Statement\": [\n",
    "        {\n",
    "            \"Effect\": \"Allow\",\n",
    "            \"Principal\": {\n",
    "                \"Service\": [\n",
    "                    \"sagemaker.amazonaws.com\",\n",
    "                    \"sagemaker-geospatial.amazonaws.com\"\n",
    "                ]\n",
    "            },\n",
    "            \"Action\": \"sts:AssumeRole\"\n",
    "        }\n",
    "    ]\n",
    "}\n",
    "```"
   ]
  },
  {
   "cell_type": "markdown",
   "id": "772c4d18-da25-48e6-9f0a-03759fa3879a",
   "metadata": {},
   "source": [
    "## Setup SageMaker geospatial capabilities and imports"
   ]
  },
  {
   "cell_type": "code",
   "execution_count": null,
   "id": "b4ec6b8d-33f7-4472-bc75-cd6c2531ee23",
   "metadata": {
    "tags": []
   },
   "outputs": [],
   "source": [
    "import os\n",
    "import boto3\n",
    "import json\n",
    "import rioxarray\n",
    "import numpy as np\n",
    "import pandas as pd\n",
    "import geopandas as gpd\n",
    "import math\n",
    "import warnings\n",
    "from shapely import wkt, geometry\n",
    "from datetime import datetime, timedelta\n",
    "import matplotlib.pyplot as plt\n",
    "import matplotlib.patches as patches\n",
    "import IPython.display\n",
    "import rasterio\n",
    "from rasterio.plot import show\n",
    "\n",
    "session = boto3.Session()\n",
    "geospatial_client = session.client(service_name=\"sagemaker-geospatial\")"
   ]
  },
  {
   "cell_type": "markdown",
   "id": "2774b943-fd13-42e6-9094-4a9462c97602",
   "metadata": {},
   "source": [
    "## Define input variables"
   ]
  },
  {
   "cell_type": "markdown",
   "id": "06d12e2f-ad24-41b2-bd38-495444583ee0",
   "metadata": {},
   "source": [
    "In this example, we'll monitor a known methane leak originating from an oil field in Northern Africa. This case is a standard validation scenario in remote sensing literature and is referenced, for instance, in the following [study](https://amt.copernicus.org/articles/14/2771/2021/).\n",
    "\n",
    "The following variables define the precise location and date that we aim to monitor for emissions. Additionally, we specify a distance in meters to establish the size of a bounding box extending in each direction from the point location. Only data within this boundary will be considered for detection purposes."
   ]
  },
  {
   "cell_type": "code",
   "execution_count": null,
   "id": "6df1a4ab-aab3-43e4-ac01-8a7ce09079e1",
   "metadata": {
    "tags": []
   },
   "outputs": [],
   "source": [
    "# coordinates and date for North Africa oil field (common reference in earth observation literature)\n",
    "# see here for details: https://doi.org/10.5194/amt-14-2771-2021\n",
    "point_longitude = 5.9053\n",
    "point_latitude = 31.6585\n",
    "date_to_monitor = \"2019-11-20\"\n",
    "\n",
    "# size of bounding box in each direction around point\n",
    "distance_offset_meters = 1500"
   ]
  },
  {
   "cell_type": "markdown",
   "id": "f0ab0bdd-4a05-4fd1-ad02-905cc2bc15a6",
   "metadata": {},
   "source": [
    "## Search matching Sentinel-2 satellite imagery"
   ]
  },
  {
   "cell_type": "markdown",
   "id": "7276fb82-24bb-4d77-9ce4-8209944ca738",
   "metadata": {},
   "source": [
    "The following cells create a bounding box using the specified point coordinates, and then searches for available Sentinel-2 imagery based on that bounding box and the designated monitoring date.\n",
    "\n",
    "It utilizes the [SearchRasterDataCollection API](https://docs.aws.amazon.com/sagemaker/latest/APIReference/API_geospatial_SearchRasterDataCollection.html) to retrieve satellite imagery corresponding to both the time range and the established bounding box, which delineates our area of interest."
   ]
  },
  {
   "cell_type": "code",
   "execution_count": null,
   "id": "2e360f06-fb01-43f3-9555-2971bb464543",
   "metadata": {
    "tags": []
   },
   "outputs": [],
   "source": [
    "def bbox_around_point(lon, lat, distance_offset=1500, output_projection=\"EPSG:4326\"):\n",
    "    \"\"\"\n",
    "    Create a square bounding box of size distance_offset*2 by distance_offset*2\n",
    "    with the provided coordinates as centroid\n",
    "    \"\"\"\n",
    "\n",
    "    gs = gpd.GeoSeries(wkt.loads(f\"POINT ({lon} {lat})\"))\n",
    "    gdf = gpd.GeoDataFrame(geometry=gs)\n",
    "    gdf.crs = \"EPSG:4326\"\n",
    "    gdf = gdf.to_crs(\"EPSG:3857\")  # <-- change crs to a projection crs, e.g., Web Mercator\n",
    "    res = gdf.buffer(\n",
    "        distance=distance_offset,\n",
    "        cap_style=3,  # <-- ensure sharp edges\n",
    "    )\n",
    "\n",
    "    if output_projection != \"EPSG:3857\":\n",
    "        res = res.to_crs(output_projection)\n",
    "\n",
    "    return res.iloc[0]"
   ]
  },
  {
   "cell_type": "code",
   "execution_count": null,
   "id": "3fcb233a-78d0-4f31-ab96-9e20fd7fa06d",
   "metadata": {
    "tags": []
   },
   "outputs": [],
   "source": [
    "# generate bounding box and extract polygon coordinates\n",
    "aoi_geometry = bbox_around_point(point_longitude, point_latitude, distance_offset_meters)\n",
    "geometry.mapping(aoi_geometry)"
   ]
  },
  {
   "cell_type": "code",
   "execution_count": null,
   "id": "afeb602b-dd4b-4ce9-9439-d2b0bf878b7c",
   "metadata": {
    "tags": []
   },
   "outputs": [],
   "source": [
    "def as_iso_date(date_str):\n",
    "    # convert to datetime to validate format\n",
    "    \"\"\"\n",
    "    Convert time string to datetime\n",
    "    \"\"\"\n",
    "    return datetime.strptime(date_str, \"%Y-%m-%d\").strftime(\"%Y-%m-%d\")\n",
    "\n",
    "\n",
    "def get_sentinel2_meta_data(target_date, aoi_geometry):\n",
    "    \"\"\"\n",
    "    Search Sentinel 2 data collection for target_date\n",
    "    and collect results including meta data in a dictionary\n",
    "    \"\"\"\n",
    "\n",
    "    search_params = {\n",
    "        \"Arn\": \"arn:aws:sagemaker-geospatial:us-west-2:378778860802:raster-data-collection/public/nmqj48dcu3g7ayw8\",  # reference to Sentinel 2 L2A data product\n",
    "        \"RasterDataCollectionQuery\": {\n",
    "            \"AreaOfInterest\": {\n",
    "                \"AreaOfInterestGeometry\": {\n",
    "                    \"PolygonGeometry\": {\n",
    "                        \"Coordinates\": geometry.mapping(aoi_geometry)[\"coordinates\"]\n",
    "                    }\n",
    "                }\n",
    "            },\n",
    "            \"TimeRangeFilter\": {\n",
    "                \"StartTime\": \"{}T00:00:00Z\".format(as_iso_date(target_date)),\n",
    "                \"EndTime\": \"{}T23:59:59Z\".format(as_iso_date(target_date)),\n",
    "            },\n",
    "        },\n",
    "    }\n",
    "\n",
    "    s2_items = []\n",
    "    next_token = True\n",
    "    while next_token:\n",
    "        search_result = geospatial_client.search_raster_data_collection(**search_params)\n",
    "        for item in search_result[\"Items\"]:\n",
    "            s2_items.append(item)\n",
    "        next_token = search_result.get(\"NextToken\")\n",
    "        search_params[\"NextToken\"] = next_token\n",
    "    return s2_items"
   ]
  },
  {
   "cell_type": "code",
   "execution_count": null,
   "id": "48109c84-a76e-4989-b478-56ab02e6ef22",
   "metadata": {
    "tags": []
   },
   "outputs": [],
   "source": [
    "# query raster data using SageMaker geospatial capabilities\n",
    "sentinel2_items = get_sentinel2_meta_data(date_to_monitor, aoi_geometry)"
   ]
  },
  {
   "cell_type": "markdown",
   "id": "f9433e36-4e2f-4d8c-ba23-f0c178212b7c",
   "metadata": {},
   "source": [
    "### Inspect a single Sentinel-2 tile"
   ]
  },
  {
   "cell_type": "markdown",
   "id": "8af69dd0-ec3a-44fd-a265-90d92261e199",
   "metadata": {},
   "source": [
    "We will now inspect one of the items returned from our query. Each item offers a list of assets for all the Sentinel-2 bands, along with additional metadata. For instance, we can view the thumbnail, which gives an overview of the area covered by this specific Sentinel-2 tile."
   ]
  },
  {
   "cell_type": "code",
   "execution_count": null,
   "id": "cb805d70-af80-4045-8cd7-46154f621a6b",
   "metadata": {
    "tags": []
   },
   "outputs": [],
   "source": [
    "IPython.display.JSON(sentinel2_items[0])"
   ]
  },
  {
   "cell_type": "code",
   "execution_count": null,
   "id": "f4329b69-8575-455c-b25a-6741e40c5a06",
   "metadata": {
    "tags": []
   },
   "outputs": [],
   "source": [
    "with warnings.catch_warnings():\n",
    "    warnings.filterwarnings(\"ignore\", category=rasterio.errors.NotGeoreferencedWarning)\n",
    "    src_thumbnail = rasterio.open(sentinel2_items[-1][\"Assets\"][\"thumbnail\"][\"Href\"])\n",
    "\n",
    "fig = plt.figure(figsize=(5, 5))\n",
    "ax = fig.add_subplot(1, 1, 1)\n",
    "show(src_thumbnail, ax=ax)\n",
    "plt.show()"
   ]
  },
  {
   "cell_type": "markdown",
   "id": "60b05234-59a6-478e-aefb-1023d821f975",
   "metadata": {},
   "source": [
    "We can also visualize a True Color Image (TCI) that is included in the dataset.\n",
    "\n",
    "The Sentinel-2 mission defines a TCI as follows (more details [here](https://sentinels.copernicus.eu/web/sentinel/user-guides/sentinel-2-msi/definitions)):\n",
    "> The TCI is an RGB image created using the B02 (Blue), B03 (Green), and B04 (Red) bands. Reflectances are encoded in a range between 1 and 255, with 0 being reserved for 'No Data'. A saturation level of 255 digital counts corresponds to a level of 3558 for L1C products and 2000 for L2A products (reflectance values of 0.3558 and 0.2, respectively).\n",
    "\n",
    "Mapping to fixed saturation values can result in over-saturated images in locations with substantial sun exposure, a situation evident in this desert region.\n",
    "\n",
    "Nevertheless, we can utilize the TCI to obtain a general view of the data coverage and to zoom in closer to the area where the point source is situated."
   ]
  },
  {
   "cell_type": "code",
   "execution_count": null,
   "id": "63a41206-a307-4db9-8b1c-f14d37c54ae3",
   "metadata": {
    "tags": []
   },
   "outputs": [],
   "source": [
    "src_visual = rasterio.open(sentinel2_items[-1][\"Assets\"][\"visual\"][\"Href\"])\n",
    "data_visual = src_visual.read()\n",
    "\n",
    "fig = plt.figure(figsize=(10, 10))\n",
    "ax = fig.add_subplot(1, 1, 1)\n",
    "show(data_visual[:, 8000:10000, 500:2500], ax=ax)\n",
    "plt.show()"
   ]
  },
  {
   "cell_type": "markdown",
   "id": "f8cef362-bc61-4352-827d-f06480dbda6d",
   "metadata": {},
   "source": [
    "### Visualize the area of interest"
   ]
  },
  {
   "cell_type": "markdown",
   "id": "329ae12c-aa07-41ec-94b4-22e3ab087f78",
   "metadata": {},
   "source": [
    "Since the TCI is slightly oversaturated, we will now use the individual red, green, and blue bands to create a true color image by combining these bands. In this process, we will normalize the reflectance values to prevent oversaturation.\n",
    "\n",
    "Next, we will zoom in directly to the actual point source location to display only the surrounding area."
   ]
  },
  {
   "cell_type": "code",
   "execution_count": null,
   "id": "06e016d4-199f-463a-a10b-6040f97d678d",
   "metadata": {
    "tags": []
   },
   "outputs": [],
   "source": [
    "def s2_tile_id_to_cog_path(tile_id):\n",
    "    \"\"\"\n",
    "    Generate s3 URL for S2 L2A product (i.e., the cloud-optimized GeoTiff) from tile ID\n",
    "    \"\"\"\n",
    "    parts = tile_id.split(\"_\")\n",
    "    s2_qualifier = \"{}/{}/{}/{}/{}/{}\".format(\n",
    "        parts[1][0:2],\n",
    "        parts[1][2],\n",
    "        parts[1][3:5],\n",
    "        parts[2][0:4],\n",
    "        str(int(parts[2][4:6])),\n",
    "        \"_\".join(parts),\n",
    "    )\n",
    "    return f\"https://sentinel-cogs.s3.us-west-2.amazonaws.com/sentinel-s2-l2a-cogs/{s2_qualifier}/\"\n",
    "\n",
    "\n",
    "def get_rgb_bands(lon, lat, s2_tile_id, distance_offset=1500, output_projection=\"EPSG:4326\"):\n",
    "    \"\"\"\n",
    "    Extract red, green, blue (RGB) bands from GeoTiff,\n",
    "    reproject to desired CRS and collect in array\n",
    "    \"\"\"\n",
    "    aoi_geometry = bbox_around_point(lon, lat, distance_offset, output_projection)\n",
    "    s2_cog_prefix = s2_tile_id_to_cog_path(s2_tile_id)\n",
    "    blue = rioxarray.open_rasterio(f\"{s2_cog_prefix}/B02.tif\", masked=True)\n",
    "    green = rioxarray.open_rasterio(f\"{s2_cog_prefix}/B03.tif\", masked=True)\n",
    "    red = rioxarray.open_rasterio(f\"{s2_cog_prefix}/B04.tif\", masked=True)\n",
    "\n",
    "    bands = []\n",
    "    for band in [red, green, blue]:\n",
    "        kwargs = {\"nodata\": np.nan}\n",
    "        band_reprojected = band.rio.reproject(output_projection, **kwargs)\n",
    "        bands.append(band_reprojected.rio.clip(geometries=[geometry.mapping(aoi_geometry)]))\n",
    "    return bands\n",
    "\n",
    "\n",
    "def normalize_rgb_bands(rgb_bands):\n",
    "    \"\"\"\n",
    "    Re-scale/normalize rgb bands to range [0,255]\n",
    "    \"\"\"\n",
    "    bands = []\n",
    "    for band in rgb_bands:\n",
    "        img_arr = band.to_numpy()\n",
    "        normalized = img_arr / np.amax(img_arr)\n",
    "        normalized = normalized * 255\n",
    "        bands.append(normalized.astype(np.uint8)[0])\n",
    "    return np.array(bands)"
   ]
  },
  {
   "cell_type": "code",
   "execution_count": null,
   "id": "b5f49a1f-7d1c-4d29-8e75-31def4e413e6",
   "metadata": {
    "tags": []
   },
   "outputs": [],
   "source": [
    "sentinel2_tile_id = sentinel2_items[-1][\"Id\"]\n",
    "\n",
    "preview_distance_offset = 3000\n",
    "\n",
    "visual_bands = get_rgb_bands(\n",
    "    point_longitude, point_latitude, sentinel2_tile_id, distance_offset=preview_distance_offset\n",
    ")\n",
    "rgb = normalize_rgb_bands(visual_bands).transpose(1, 2, 0)\n",
    "\n",
    "fig = plt.figure(figsize=(10, 10))\n",
    "ax = fig.add_subplot(1, 1, 1)\n",
    "plt.imshow(rgb)\n",
    "\n",
    "height = rgb.shape[0]\n",
    "width = rgb.shape[1]\n",
    "y_m_per_pixel = preview_distance_offset * 2 / height\n",
    "x_m_per_pixel = preview_distance_offset * 2 / width\n",
    "\n",
    "y_distance_offset = distance_offset_meters / y_m_per_pixel\n",
    "x_distance_offset = distance_offset_meters / x_m_per_pixel\n",
    "\n",
    "p = patches.Circle(\n",
    "    (width / 2, height / 2), radius=3, linewidth=2, edgecolor=\"black\", facecolor=\"none\"\n",
    ")\n",
    "\n",
    "rect = patches.Rectangle(\n",
    "    (width / 2 - x_distance_offset, height / 2 - y_distance_offset),\n",
    "    x_distance_offset * 2,\n",
    "    y_distance_offset * 2,\n",
    "    linewidth=1,\n",
    "    edgecolor=\"y\",\n",
    "    facecolor=\"none\",\n",
    ")\n",
    "ax.add_patch(p)\n",
    "ax.add_patch(rect)\n",
    "\n",
    "ax.annotate(\n",
    "    \"Monitored $CH_4$\\n Point Source\",\n",
    "    xy=(width / 2 + 5, height / 2 - 5),\n",
    "    xytext=(width / 2 + 25, height / 2 - 25),\n",
    "    arrowprops=dict(facecolor=\"black\", shrink=0.05),\n",
    "    ha=\"left\",\n",
    ")\n",
    "\n",
    "plt.show()"
   ]
  },
  {
   "cell_type": "markdown",
   "id": "44890000-f430-4bd3-bce0-eee2bc7127ba",
   "metadata": {},
   "source": [
    "## Approximate representative baseline date and corresponding Sentinel-2 tile"
   ]
  },
  {
   "cell_type": "markdown",
   "id": "b5cd32bd-39d4-4548-aaf7-b2f3e133a086",
   "metadata": {},
   "source": [
    "Our detection approach relies on observing fractional changes in the [top-of-the-atmosphere (TOA)](https://www.un-spider.org/node/10958) [short-wave infrared (SWIR)](https://sentinels.copernicus.eu/web/sentinel/user-guides/sentinel-2-msi/resolutions/spatial) reflectance. To facilitate this, it is critical to identify a reliable baseline where the methane presence is minimal or non-existent. Establishing such a baseline can rapidly devolve into a tedious search process filled with trial and error. Fortunately, employing adept heuristics can significantly automate this process. \n",
    "\n",
    "One heuristic that has worked well in the investigated cases operates as follows: for the predetermined number of past days specified as `day_offset=n`, retrieve all available satellite imagery, eliminate any cloud cover, and clip the imagery to match the area of interest (AOI) in focus. Subsequently, calculate the average band-12 reflectance across the AOI and identify the Sentinel tile ID of the image showcasing the highest average reflectance in the band-12. The following functions are used to implement this approach."
   ]
  },
  {
   "cell_type": "code",
   "execution_count": null,
   "id": "70a9ee0d-ccd5-45ec-8b34-aa11eb045204",
   "metadata": {
    "tags": []
   },
   "outputs": [],
   "source": [
    "def download_from_s3(s3_obj_url, local_dir, local_file_fn=None, requester_pays=False):\n",
    "    \"\"\"\n",
    "    Download Sentinel 2 L1C product (as identified by s3_obj_url)\n",
    "    to local file share\n",
    "    \"\"\"\n",
    "    os.makedirs(local_dir, exist_ok=True)\n",
    "    if local_file_fn is None:\n",
    "        local_file_path = os.path.join(local_dir, s3_obj_url.split(\"/\")[-1])\n",
    "    else:\n",
    "        local_file_path = local_file_fn(local_dir, s3_obj_url)\n",
    "\n",
    "    target_bucket_name = s3_obj_url.split(\"/\")[2]\n",
    "    target_bucket_ob_key = \"/\".join(s3_obj_url.split(\"/\")[3:])\n",
    "\n",
    "    s3_bucket = session.resource(\"s3\").Bucket(target_bucket_name)\n",
    "    if requester_pays:\n",
    "        s3_bucket.download_file(\n",
    "            target_bucket_ob_key, local_file_path, ExtraArgs={\"RequestPayer\": \"requester\"}\n",
    "        )\n",
    "    else:\n",
    "        s3_bucket.download_file(target_bucket_ob_key, local_file_path)\n",
    "    return local_file_path\n",
    "\n",
    "\n",
    "def s2_tile_id_to_s2l1c_s3_url(tile_id):\n",
    "    \"\"\"\n",
    "    Generate s3 URL for S2 L1C product from tile ID\n",
    "    \"\"\"\n",
    "    parts = tile_id.split(\"_\")\n",
    "    s2l1c_qualifier = \"{}/{}/{}/{}/{}/{}/0\".format(\n",
    "        parts[1][0:2],\n",
    "        parts[1][2],\n",
    "        parts[1][3:5],\n",
    "        parts[2][0:4],\n",
    "        str(int(parts[2][4:6])),\n",
    "        str(int(parts[2][6:8])),\n",
    "    )\n",
    "    return f\"s3://sentinel-s2-l1c/tiles/{s2l1c_qualifier}/\"\n",
    "\n",
    "\n",
    "def get_s2l1c_band_data_xarray(s2_tile_id, band_id, clip_geometry=None, cloud_mask=True):\n",
    "    \"\"\"\n",
    "    Download S2 L1C data for given tile ID, optionally apply cloud mask and clip to AOI (clip geometry),\n",
    "    reproject to target WGS84 (EPSG:4326) coordinate reference system (CRSs)\n",
    "    \"\"\"\n",
    "\n",
    "    data_dir = \"data/s2l1c/\"\n",
    "    s3_prefix = s2_tile_id_to_s2l1c_s3_url(s2_tile_id)\n",
    "\n",
    "    local_tile_path = download_from_s3(\n",
    "        f\"{s3_prefix}{band_id}.jp2\",\n",
    "        data_dir,\n",
    "        local_file_fn=lambda local_dir, s3_obj_url: os.path.join(\n",
    "            data_dir, f\"{s2_tile_id}_{band_id}.jp2\"\n",
    "        ),\n",
    "        requester_pays=True,\n",
    "    )\n",
    "\n",
    "    band_data_epsg_32631 = rioxarray.open_rasterio(local_tile_path, masked=True)\n",
    "\n",
    "    if cloud_mask:\n",
    "        s2_cog_prefix = s2_tile_id_to_cog_path(s2_tile_id)\n",
    "        scl_mask = rioxarray.open_rasterio(f\"{s2_cog_prefix}/SCL.tif\", masked=True)\n",
    "\n",
    "        # no interpolation needed, as long as target band and scl mask have identical spatial resolution\n",
    "        band_data_epsg_32631 = band_data_epsg_32631.where(\n",
    "            (scl_mask != 8) & (scl_mask != 9) & (scl_mask != 10)\n",
    "        )\n",
    "\n",
    "    kwargs = {\"nodata\": np.nan}\n",
    "    band_data_epsg_4326 = band_data_epsg_32631.rio.reproject(\"EPSG:4326\", **kwargs)\n",
    "    if clip_geometry is None:\n",
    "        return band_data_epsg_4326\n",
    "    return band_data_epsg_4326.rio.clip(geometries=[geometry.mapping(clip_geometry)])"
   ]
  },
  {
   "cell_type": "code",
   "execution_count": null,
   "id": "3af0a656-342f-44ac-91f0-3b3eb709c748",
   "metadata": {
    "tags": []
   },
   "outputs": [],
   "source": [
    "def approximate_best_baseline_date(\n",
    "    lon, lat, date_to_monitor, distance_offset=1500, cloud_mask=True, day_offset=30\n",
    "):\n",
    "    \"\"\"\n",
    "    For the past n=day_offset days, do: retrive Sentinel 2 image,\n",
    "    remove clouds, compute mean reflectance of SWIR band (b-12) across scene,\n",
    "    return Sentinel 2 tile id (and acquisition data) of image\n",
    "    with highest mean SWIR values\n",
    "    \"\"\"\n",
    "    # initialize AOI and other parameters\n",
    "    aoi_geometry = bbox_around_point(lon, lat, distance_offset)\n",
    "\n",
    "    BAND_12_SWIR22 = \"B12\"\n",
    "\n",
    "    max_mean_swir = None\n",
    "    ref_s2_tile_id = None\n",
    "    ref_target_date = date_to_monitor\n",
    "\n",
    "    # loop over n=day_offset previous days\n",
    "    for day_delta in range(-1 * day_offset, 0):\n",
    "        date_time_obj = datetime.strptime(date_to_monitor, \"%Y-%m-%d\")\n",
    "        target_date = (date_time_obj + timedelta(days=day_delta)).strftime(\"%Y-%m-%d\")\n",
    "\n",
    "        # get Sentinel-2 tiles for current date\n",
    "        s2_tiles_for_target_date = get_sentinel2_meta_data(target_date, aoi_geometry)\n",
    "\n",
    "        # loop over available tiles for current date\n",
    "        for s2_tile_meta in s2_tiles_for_target_date:\n",
    "            s2_tile_id_to_test = s2_tile_meta[\"Id\"]\n",
    "            target_band_data = get_s2l1c_band_data_xarray(\n",
    "                s2_tile_id_to_test,\n",
    "                BAND_12_SWIR22,\n",
    "                clip_geometry=aoi_geometry,\n",
    "                cloud_mask=cloud_mask,\n",
    "            )\n",
    "\n",
    "            # compute mean reflectance of SWIR band\n",
    "            mean_swir = target_band_data.sum() / target_band_data.count()\n",
    "            visible_area_ratio = target_band_data.count() / (\n",
    "                target_band_data.shape[1] * target_band_data.shape[2]\n",
    "            )\n",
    "\n",
    "            # ensure the visible/non-clouded area is adequately large\n",
    "            if visible_area_ratio <= 0.7:\n",
    "                continue\n",
    "\n",
    "            # update maximum ref_s2_tile_id and ref_target_date if applicable\n",
    "            if max_mean_swir is None or mean_swir > max_mean_swir:\n",
    "                max_mean_swir = mean_swir\n",
    "                ref_s2_tile_id = s2_tile_id_to_test\n",
    "                ref_target_date = target_date\n",
    "\n",
    "    return (ref_s2_tile_id, ref_target_date)"
   ]
  },
  {
   "cell_type": "markdown",
   "id": "4a9609c4-57a3-45a6-a7d8-352722f46fd5",
   "metadata": {},
   "source": [
    "We can now use the `approximate_best_baseline_date` function to identify a suitable baseline candidate. We'll utilize the identified baseline for the computation of the change in fractional reflectances in the next steps."
   ]
  },
  {
   "cell_type": "code",
   "execution_count": null,
   "id": "bb8ba455-7a3f-4e2a-9c1a-fe875cd7c44c",
   "metadata": {
    "tags": []
   },
   "outputs": [],
   "source": [
    "baseline_s2_tile_id, baseline_date = approximate_best_baseline_date(\n",
    "    point_longitude,\n",
    "    point_latitude,\n",
    "    date_to_monitor,\n",
    "    day_offset=45,\n",
    "    distance_offset=distance_offset_meters,\n",
    ")\n",
    "\n",
    "print(baseline_date)\n",
    "print(baseline_s2_tile_id)"
   ]
  },
  {
   "cell_type": "markdown",
   "id": "9032e817-86ea-4034-87ec-daf36debf552",
   "metadata": {},
   "source": [
    "## Compute change in fractional reflectance"
   ]
  },
  {
   "cell_type": "markdown",
   "id": "ccc5ef56-fded-45a6-ac49-9d68e845611d",
   "metadata": {},
   "source": [
    "The detection method we are implementing involves calculating the fractional change in top-of-the-atmosphere (TOA) reflectance, denoted as $\\Pi \\rho$. This measure encompasses the reflectance recorded by the Sentinel-2 mission across two distinct satellite passes and two SWIR bands. These passes include a baseline, where no methane is presumed present (referred to as `base`), and a monitoring pass where there is suspicion of an active methane point source (referred to as `monitor`). Mathematically, we can express this as follows:\n",
    "\n",
    "$$ \\Delta \\rho = {c^{monitor} \\rho^{monitor}_{b12} - \\rho^{monitor}_{b11} \\over \\rho^{monitor}_{b11}}-{c^{base} \\rho^{base}_{b12} - \\rho^{base}_{b11} \\over \\rho^{base}_{b11}}$$\n",
    "\n",
    "where $\\rho$ represents the TOA reflectance as measured by Sentinel-2. The correction factors $c^{monitor}$ and $c^{base}$ are determined by regressing TOA reflectance values of band-12 against those of band-11 across the entire scene, denoted mathematically as $\\rho_{b11} = c × \\rho_{b12}$\n",
    "\n",
    "The following functions implement the described approach."
   ]
  },
  {
   "cell_type": "code",
   "execution_count": null,
   "id": "893457a8-43b2-4857-a5d4-338c5820d60b",
   "metadata": {
    "tags": []
   },
   "outputs": [],
   "source": [
    "BAND_11_SWIR16 = \"B11\"\n",
    "BAND_12_SWIR22 = \"B12\"\n",
    "\n",
    "\n",
    "def compute_correction_factor(tif_y, tif_x):\n",
    "    \"\"\"\n",
    "    Compute a correction factor c via linera regression\n",
    "    with the following equation: tif_y = c*tif_x\n",
    "    \"\"\"\n",
    "\n",
    "    # get flattened arrays for regression\n",
    "    y = np.array(tif_y.values.flatten())\n",
    "    x = np.array(tif_x.values.flatten())\n",
    "\n",
    "    np.nan_to_num(y, copy=False)\n",
    "    np.nan_to_num(x, copy=False)\n",
    "\n",
    "    assert y.shape == x.shape, \"Shapes of two provided TIFs are incompatible!\"\n",
    "\n",
    "    # fit linear model using least squares regression\n",
    "    x = x[:, np.newaxis]\n",
    "    c, _, _, _ = np.linalg.lstsq(x, y, rcond=None)\n",
    "\n",
    "    return c[0]\n",
    "\n",
    "\n",
    "def compute_corrected_fractional_reflectance_change(\n",
    "    l1_b11_base, l1_b12_base, l1_b11_monitor, l1_b12_monitor, correction=True\n",
    "):\n",
    "    \"\"\"\n",
    "    Compute multi-band-multi-pass fractional reflectance change\n",
    "    between base and monitoring scene\n",
    "    \"\"\"\n",
    "    # get correction factor\n",
    "    c_monitor = compute_correction_factor(tif_y=l1_b11_monitor, tif_x=l1_b12_monitor)\n",
    "    c_base = compute_correction_factor(tif_y=l1_b11_base, tif_x=l1_b12_base)\n",
    "\n",
    "    # get corrected fractional reflectance change\n",
    "    if correction:\n",
    "        frac_change = ((c_monitor * l1_b12_monitor - l1_b11_monitor) / l1_b11_monitor) - (\n",
    "            (c_base * l1_b12_base - l1_b11_base) / l1_b11_base\n",
    "        )\n",
    "    else:\n",
    "        frac_change = ((l1_b12_monitor - l1_b11_monitor) / l1_b11_monitor) - (\n",
    "            (l1_b12_base - l1_b11_base) / l1_b11_base\n",
    "        )\n",
    "    return frac_change\n",
    "\n",
    "\n",
    "def run_full_fractional_reflectance_change_routine(\n",
    "    lon, lat, date_monitor, baseline_s2_tile_id, distance_offset=1500, cloud_mask=True\n",
    "):\n",
    "    \"\"\"\n",
    "    End-to-end routine for computing corrected fractional reflectance change (SWIR spectrum)\n",
    "    given a date to monitor and a baseline Sentinel 2 tile ID\n",
    "    \"\"\"\n",
    "\n",
    "    s2_tile_id_base = baseline_s2_tile_id\n",
    "    aoi_geometry = bbox_around_point(lon, lat, distance_offset)\n",
    "\n",
    "    s2_meta_monitor = get_sentinel2_meta_data(date_monitor, aoi_geometry)\n",
    "    grid_id = s2_tile_id_base.split(\"_\")[1]\n",
    "    s2_tile_id_monitor = list(filter(lambda x: f\"_{grid_id}_\" in x[\"Id\"], s2_meta_monitor))[0][\"Id\"]\n",
    "\n",
    "    l1_swir16_b11_base = get_s2l1c_band_data_xarray(\n",
    "        s2_tile_id_base, BAND_11_SWIR16, clip_geometry=aoi_geometry, cloud_mask=cloud_mask\n",
    "    )\n",
    "    l1_swir22_b12_base = get_s2l1c_band_data_xarray(\n",
    "        s2_tile_id_base, BAND_12_SWIR22, clip_geometry=aoi_geometry, cloud_mask=cloud_mask\n",
    "    )\n",
    "    l1_swir16_b11_monitor = get_s2l1c_band_data_xarray(\n",
    "        s2_tile_id_monitor, BAND_11_SWIR16, clip_geometry=aoi_geometry, cloud_mask=cloud_mask\n",
    "    )\n",
    "    l1_swir22_b12_monitor = get_s2l1c_band_data_xarray(\n",
    "        s2_tile_id_monitor, BAND_12_SWIR22, clip_geometry=aoi_geometry, cloud_mask=cloud_mask\n",
    "    )\n",
    "\n",
    "    mb_mp = compute_corrected_fractional_reflectance_change(\n",
    "        l1_swir16_b11_base, l1_swir22_b12_base, l1_swir16_b11_monitor, l1_swir22_b12_monitor\n",
    "    )\n",
    "    return mb_mp.rio.set_attrs(\n",
    "        {\n",
    "            \"s2_tile_id_baseline\": s2_tile_id_base,\n",
    "            \"s2_tile_id_monitor\": s2_tile_id_monitor,\n",
    "        }\n",
    "    )"
   ]
  },
  {
   "cell_type": "markdown",
   "id": "cef26adb-6a46-4dd3-bbbf-5d4690475b42",
   "metadata": {},
   "source": [
    "Executing the `run_full_fractional_reflectance_change_routine` with the parameters we determined earlier generates the fractional change in SWIR TOA reflectance, represented as an xarray.DataArray. To initially inspect the results visually, we can execute a simple plot() function on this DataArray. Our method reveals a sizable methane plume at the center of the AOI, a detail that was not visible in the RGB plot."
   ]
  },
  {
   "cell_type": "code",
   "execution_count": null,
   "id": "6c0a5d05-69d4-4221-be11-6f1960bb0340",
   "metadata": {
    "tags": []
   },
   "outputs": [],
   "source": [
    "change_reflectance = run_full_fractional_reflectance_change_routine(\n",
    "    point_longitude,\n",
    "    point_latitude,\n",
    "    date_to_monitor,\n",
    "    baseline_s2_tile_id,\n",
    "    distance_offset=distance_offset_meters,\n",
    ")"
   ]
  },
  {
   "cell_type": "code",
   "execution_count": null,
   "id": "20e5fda2-5865-4c66-a0c9-15455537a3ed",
   "metadata": {
    "tags": []
   },
   "outputs": [],
   "source": [
    "plot = change_reflectance.plot(cmap=\"RdBu\")"
   ]
  },
  {
   "cell_type": "markdown",
   "id": "85c46c32-b48f-4e37-b327-8455ee9f2ce3",
   "metadata": {},
   "source": [
    "## Compare visual imagery with detected plume mask"
   ]
  },
  {
   "cell_type": "markdown",
   "id": "8f985dd6-c4ab-4d85-88af-0055144cdd12",
   "metadata": {},
   "source": [
    "As a final step, we will extract the identified methane plume and overlay it on a raw RGB satellite image to contextualize it geographically. This is achievable through thresholding.\n",
    "\n",
    "In our instance, applying a threshold of -0.025 to the fractional change in reflectance yields good results for the observed scene. Nevertheless, it is important to note that the optimal threshold may vary from scene to scene, requiring calibration tailored to your specific use case. The following cell creates a visualization that incorporates the original RGB image, the computed plume mask, and a composite image that shows the methane plume within its geographical context."
   ]
  },
  {
   "cell_type": "code",
   "execution_count": null,
   "id": "aa24a4df-f8ee-4be9-8d8c-c1d333af2277",
   "metadata": {
    "tags": []
   },
   "outputs": [],
   "source": [
    "output_projection = \"EPSG:3857\"  # Web Mercator projection (EPSG:3857) for visualization\n",
    "treshold_value = -0.025\n",
    "\n",
    "visual_bands = get_rgb_bands(\n",
    "    point_longitude,\n",
    "    point_latitude,\n",
    "    change_reflectance.attrs[\"s2_tile_id_monitor\"],\n",
    "    distance_offset=distance_offset_meters,\n",
    "    output_projection=output_projection,\n",
    ")\n",
    "\n",
    "rgb = normalize_rgb_bands(visual_bands).transpose(1, 2, 0)\n",
    "\n",
    "change_reflectance_reprojected = change_reflectance.rio.reproject(output_projection)\n",
    "\n",
    "with warnings.catch_warnings():\n",
    "    warnings.simplefilter(action=\"ignore\", category=FutureWarning)\n",
    "\n",
    "    cr_interp = change_reflectance_reprojected.interp(\n",
    "        x=visual_bands[0][\"x\"], y=visual_bands[0][\"y\"]\n",
    "    )\n",
    "    cr = cr_interp.to_numpy()[0]\n",
    "\n",
    "cr_masked = cr.copy()\n",
    "cr_masked[cr_masked > treshold_value] = np.nan\n",
    "\n",
    "m = np.ma.array(cr_masked, mask=cr_masked == np.nan)\n",
    "\n",
    "fig, axes = plt.subplots(nrows=1, ncols=3, figsize=(16, 10), sharex=True, sharey=True)\n",
    "\n",
    "ax = axes[0]\n",
    "ax.imshow(rgb)\n",
    "ax.set_title(\"Raw Satellite Image\\n (Visible Spectrum)\", fontsize=14)\n",
    "\n",
    "ax = axes[1]\n",
    "ax.imshow(cr, cmap=\"RdBu\")  # <-- uses interpolated data\n",
    "ax.set_title(\"Fractional Change in TOA Reflectance\\n (SWIR Spectrum)\", fontsize=14)\n",
    "\n",
    "ax = axes[2]\n",
    "ax.imshow(rgb)\n",
    "ax.imshow(m, alpha=0.8, cmap=\"RdBu\")\n",
    "ax.set_title(\"Relative $CH_4$ Plume Intensity overlaid\\n on Raw Satellite Image\", fontsize=14)\n",
    "\n",
    "for ax in axes:\n",
    "    ax.grid(True)\n",
    "    ax.set_xticklabels([])\n",
    "    ax.set_yticklabels([])\n",
    "\n",
    "txt = f\"Location: (lon: {point_longitude}, lat: {point_latitude}); Reference Tile Id: {change_reflectance.attrs['s2_tile_id_baseline']}; Monitoring Tile Id: {change_reflectance.attrs['s2_tile_id_monitor']}; Scale: {distance_offset_meters*2}x{distance_offset_meters*2}m\"\n",
    "# plt.figtext(0.015, 0.25, txt, wrap=False, horizontalalignment=\"left\", fontsize=11)\n",
    "plt.figtext(0.015, 0.225, txt, wrap=False, horizontalalignment=\"left\", fontsize=11)\n",
    "\n",
    "plt.tight_layout()\n",
    "\n",
    "plt.show()"
   ]
  },
  {
   "cell_type": "markdown",
   "id": "c52a4c5a-3a01-47e3-98a6-d77bc5f2134b",
   "metadata": {},
   "source": [
    "## Notebook CI Test Results\n",
    "\n",
    "This notebook was tested in multiple regions. The test results are as follows, except for us-west-2 which is shown at the top of the notebook.\n",
    "\n",
    "![This us-east-1 badge failed to load. Check your device's internet connectivity, otherwise the service is currently unavailable](https://prod.us-west-2.tcx-beacon.docs.aws.dev/sagemaker-nb/us-east-1/sagemaker-geospatial|methane-emission-monitoring|monitor_methane_ch4_emission_point_sources.ipynb)\n",
    "\n",
    "![This us-east-2 badge failed to load. Check your device's internet connectivity, otherwise the service is currently unavailable](https://prod.us-west-2.tcx-beacon.docs.aws.dev/sagemaker-nb/us-east-2/sagemaker-geospatial|methane-emission-monitoring|monitor_methane_ch4_emission_point_sources.ipynb)\n",
    "\n",
    "![This us-west-1 badge failed to load. Check your device's internet connectivity, otherwise the service is currently unavailable](https://prod.us-west-2.tcx-beacon.docs.aws.dev/sagemaker-nb/us-west-1/sagemaker-geospatial|methane-emission-monitoring|monitor_methane_ch4_emission_point_sources.ipynb)\n",
    "\n",
    "![This ca-central-1 badge failed to load. Check your device's internet connectivity, otherwise the service is currently unavailable](https://prod.us-west-2.tcx-beacon.docs.aws.dev/sagemaker-nb/ca-central-1/sagemaker-geospatial|methane-emission-monitoring|monitor_methane_ch4_emission_point_sources.ipynb)\n",
    "\n",
    "![This sa-east-1 badge failed to load. Check your device's internet connectivity, otherwise the service is currently unavailable](https://prod.us-west-2.tcx-beacon.docs.aws.dev/sagemaker-nb/sa-east-1/sagemaker-geospatial|methane-emission-monitoring|monitor_methane_ch4_emission_point_sources.ipynb)\n",
    "\n",
    "![This eu-west-1 badge failed to load. Check your device's internet connectivity, otherwise the service is currently unavailable](https://prod.us-west-2.tcx-beacon.docs.aws.dev/sagemaker-nb/eu-west-1/sagemaker-geospatial|methane-emission-monitoring|monitor_methane_ch4_emission_point_sources.ipynb)\n",
    "\n",
    "![This eu-west-2 badge failed to load. Check your device's internet connectivity, otherwise the service is currently unavailable](https://prod.us-west-2.tcx-beacon.docs.aws.dev/sagemaker-nb/eu-west-2/sagemaker-geospatial|methane-emission-monitoring|monitor_methane_ch4_emission_point_sources.ipynb)\n",
    "\n",
    "![This eu-west-3 badge failed to load. Check your device's internet connectivity, otherwise the service is currently unavailable](https://prod.us-west-2.tcx-beacon.docs.aws.dev/sagemaker-nb/eu-west-3/sagemaker-geospatial|methane-emission-monitoring|monitor_methane_ch4_emission_point_sources.ipynb)\n",
    "\n",
    "![This eu-central-1 badge failed to load. Check your device's internet connectivity, otherwise the service is currently unavailable](https://prod.us-west-2.tcx-beacon.docs.aws.dev/sagemaker-nb/eu-central-1/sagemaker-geospatial|methane-emission-monitoring|monitor_methane_ch4_emission_point_sources.ipynb)\n",
    "\n",
    "![This eu-north-1 badge failed to load. Check your device's internet connectivity, otherwise the service is currently unavailable](https://prod.us-west-2.tcx-beacon.docs.aws.dev/sagemaker-nb/eu-north-1/sagemaker-geospatial|methane-emission-monitoring|monitor_methane_ch4_emission_point_sources.ipynb)\n",
    "\n",
    "![This ap-southeast-1 badge failed to load. Check your device's internet connectivity, otherwise the service is currently unavailable](https://prod.us-west-2.tcx-beacon.docs.aws.dev/sagemaker-nb/ap-southeast-1/sagemaker-geospatial|methane-emission-monitoring|monitor_methane_ch4_emission_point_sources.ipynb)\n",
    "\n",
    "![This ap-southeast-2 badge failed to load. Check your device's internet connectivity, otherwise the service is currently unavailable](https://prod.us-west-2.tcx-beacon.docs.aws.dev/sagemaker-nb/ap-southeast-2/sagemaker-geospatial|methane-emission-monitoring|monitor_methane_ch4_emission_point_sources.ipynb)\n",
    "\n",
    "![This ap-northeast-1 badge failed to load. Check your device's internet connectivity, otherwise the service is currently unavailable](https://prod.us-west-2.tcx-beacon.docs.aws.dev/sagemaker-nb/ap-northeast-1/sagemaker-geospatial|methane-emission-monitoring|monitor_methane_ch4_emission_point_sources.ipynb)\n",
    "\n",
    "![This ap-northeast-2 badge failed to load. Check your device's internet connectivity, otherwise the service is currently unavailable](https://prod.us-west-2.tcx-beacon.docs.aws.dev/sagemaker-nb/ap-northeast-2/sagemaker-geospatial|methane-emission-monitoring|monitor_methane_ch4_emission_point_sources.ipynb)\n",
    "\n",
    "![This ap-south-1 badge failed to load. Check your device's internet connectivity, otherwise the service is currently unavailable](https://prod.us-west-2.tcx-beacon.docs.aws.dev/sagemaker-nb/ap-south-1/sagemaker-geospatial|methane-emission-monitoring|monitor_methane_ch4_emission_point_sources.ipynb)\n"
   ]
  },
  {
   "cell_type": "code",
   "execution_count": null,
   "id": "9ebd089d-9873-43bc-8179-dbb3ac90a63a",
   "metadata": {},
   "outputs": [],
   "source": []
  }
 ],
 "metadata": {
  "availableInstances": [
   {
    "_defaultOrder": 0,
    "_isFastLaunch": true,
    "category": "General purpose",
    "gpuNum": 0,
    "hideHardwareSpecs": false,
    "memoryGiB": 4,
    "name": "ml.t3.medium",
    "vcpuNum": 2
   },
   {
    "_defaultOrder": 1,
    "_isFastLaunch": false,
    "category": "General purpose",
    "gpuNum": 0,
    "hideHardwareSpecs": false,
    "memoryGiB": 8,
    "name": "ml.t3.large",
    "vcpuNum": 2
   },
   {
    "_defaultOrder": 2,
    "_isFastLaunch": false,
    "category": "General purpose",
    "gpuNum": 0,
    "hideHardwareSpecs": false,
    "memoryGiB": 16,
    "name": "ml.t3.xlarge",
    "vcpuNum": 4
   },
   {
    "_defaultOrder": 3,
    "_isFastLaunch": false,
    "category": "General purpose",
    "gpuNum": 0,
    "hideHardwareSpecs": false,
    "memoryGiB": 32,
    "name": "ml.t3.2xlarge",
    "vcpuNum": 8
   },
   {
    "_defaultOrder": 4,
    "_isFastLaunch": true,
    "category": "General purpose",
    "gpuNum": 0,
    "hideHardwareSpecs": false,
    "memoryGiB": 8,
    "name": "ml.m5.large",
    "vcpuNum": 2
   },
   {
    "_defaultOrder": 5,
    "_isFastLaunch": false,
    "category": "General purpose",
    "gpuNum": 0,
    "hideHardwareSpecs": false,
    "memoryGiB": 16,
    "name": "ml.m5.xlarge",
    "vcpuNum": 4
   },
   {
    "_defaultOrder": 6,
    "_isFastLaunch": false,
    "category": "General purpose",
    "gpuNum": 0,
    "hideHardwareSpecs": false,
    "memoryGiB": 32,
    "name": "ml.m5.2xlarge",
    "vcpuNum": 8
   },
   {
    "_defaultOrder": 7,
    "_isFastLaunch": false,
    "category": "General purpose",
    "gpuNum": 0,
    "hideHardwareSpecs": false,
    "memoryGiB": 64,
    "name": "ml.m5.4xlarge",
    "vcpuNum": 16
   },
   {
    "_defaultOrder": 8,
    "_isFastLaunch": false,
    "category": "General purpose",
    "gpuNum": 0,
    "hideHardwareSpecs": false,
    "memoryGiB": 128,
    "name": "ml.m5.8xlarge",
    "vcpuNum": 32
   },
   {
    "_defaultOrder": 9,
    "_isFastLaunch": false,
    "category": "General purpose",
    "gpuNum": 0,
    "hideHardwareSpecs": false,
    "memoryGiB": 192,
    "name": "ml.m5.12xlarge",
    "vcpuNum": 48
   },
   {
    "_defaultOrder": 10,
    "_isFastLaunch": false,
    "category": "General purpose",
    "gpuNum": 0,
    "hideHardwareSpecs": false,
    "memoryGiB": 256,
    "name": "ml.m5.16xlarge",
    "vcpuNum": 64
   },
   {
    "_defaultOrder": 11,
    "_isFastLaunch": false,
    "category": "General purpose",
    "gpuNum": 0,
    "hideHardwareSpecs": false,
    "memoryGiB": 384,
    "name": "ml.m5.24xlarge",
    "vcpuNum": 96
   },
   {
    "_defaultOrder": 12,
    "_isFastLaunch": false,
    "category": "General purpose",
    "gpuNum": 0,
    "hideHardwareSpecs": false,
    "memoryGiB": 8,
    "name": "ml.m5d.large",
    "vcpuNum": 2
   },
   {
    "_defaultOrder": 13,
    "_isFastLaunch": false,
    "category": "General purpose",
    "gpuNum": 0,
    "hideHardwareSpecs": false,
    "memoryGiB": 16,
    "name": "ml.m5d.xlarge",
    "vcpuNum": 4
   },
   {
    "_defaultOrder": 14,
    "_isFastLaunch": false,
    "category": "General purpose",
    "gpuNum": 0,
    "hideHardwareSpecs": false,
    "memoryGiB": 32,
    "name": "ml.m5d.2xlarge",
    "vcpuNum": 8
   },
   {
    "_defaultOrder": 15,
    "_isFastLaunch": false,
    "category": "General purpose",
    "gpuNum": 0,
    "hideHardwareSpecs": false,
    "memoryGiB": 64,
    "name": "ml.m5d.4xlarge",
    "vcpuNum": 16
   },
   {
    "_defaultOrder": 16,
    "_isFastLaunch": false,
    "category": "General purpose",
    "gpuNum": 0,
    "hideHardwareSpecs": false,
    "memoryGiB": 128,
    "name": "ml.m5d.8xlarge",
    "vcpuNum": 32
   },
   {
    "_defaultOrder": 17,
    "_isFastLaunch": false,
    "category": "General purpose",
    "gpuNum": 0,
    "hideHardwareSpecs": false,
    "memoryGiB": 192,
    "name": "ml.m5d.12xlarge",
    "vcpuNum": 48
   },
   {
    "_defaultOrder": 18,
    "_isFastLaunch": false,
    "category": "General purpose",
    "gpuNum": 0,
    "hideHardwareSpecs": false,
    "memoryGiB": 256,
    "name": "ml.m5d.16xlarge",
    "vcpuNum": 64
   },
   {
    "_defaultOrder": 19,
    "_isFastLaunch": false,
    "category": "General purpose",
    "gpuNum": 0,
    "hideHardwareSpecs": false,
    "memoryGiB": 384,
    "name": "ml.m5d.24xlarge",
    "vcpuNum": 96
   },
   {
    "_defaultOrder": 20,
    "_isFastLaunch": false,
    "category": "General purpose",
    "gpuNum": 0,
    "hideHardwareSpecs": true,
    "memoryGiB": 0,
    "name": "ml.geospatial.interactive",
    "supportedImageNames": [
     "sagemaker-geospatial-v1-0"
    ],
    "vcpuNum": 0
   },
   {
    "_defaultOrder": 21,
    "_isFastLaunch": true,
    "category": "Compute optimized",
    "gpuNum": 0,
    "hideHardwareSpecs": false,
    "memoryGiB": 4,
    "name": "ml.c5.large",
    "vcpuNum": 2
   },
   {
    "_defaultOrder": 22,
    "_isFastLaunch": false,
    "category": "Compute optimized",
    "gpuNum": 0,
    "hideHardwareSpecs": false,
    "memoryGiB": 8,
    "name": "ml.c5.xlarge",
    "vcpuNum": 4
   },
   {
    "_defaultOrder": 23,
    "_isFastLaunch": false,
    "category": "Compute optimized",
    "gpuNum": 0,
    "hideHardwareSpecs": false,
    "memoryGiB": 16,
    "name": "ml.c5.2xlarge",
    "vcpuNum": 8
   },
   {
    "_defaultOrder": 24,
    "_isFastLaunch": false,
    "category": "Compute optimized",
    "gpuNum": 0,
    "hideHardwareSpecs": false,
    "memoryGiB": 32,
    "name": "ml.c5.4xlarge",
    "vcpuNum": 16
   },
   {
    "_defaultOrder": 25,
    "_isFastLaunch": false,
    "category": "Compute optimized",
    "gpuNum": 0,
    "hideHardwareSpecs": false,
    "memoryGiB": 72,
    "name": "ml.c5.9xlarge",
    "vcpuNum": 36
   },
   {
    "_defaultOrder": 26,
    "_isFastLaunch": false,
    "category": "Compute optimized",
    "gpuNum": 0,
    "hideHardwareSpecs": false,
    "memoryGiB": 96,
    "name": "ml.c5.12xlarge",
    "vcpuNum": 48
   },
   {
    "_defaultOrder": 27,
    "_isFastLaunch": false,
    "category": "Compute optimized",
    "gpuNum": 0,
    "hideHardwareSpecs": false,
    "memoryGiB": 144,
    "name": "ml.c5.18xlarge",
    "vcpuNum": 72
   },
   {
    "_defaultOrder": 28,
    "_isFastLaunch": false,
    "category": "Compute optimized",
    "gpuNum": 0,
    "hideHardwareSpecs": false,
    "memoryGiB": 192,
    "name": "ml.c5.24xlarge",
    "vcpuNum": 96
   },
   {
    "_defaultOrder": 29,
    "_isFastLaunch": true,
    "category": "Accelerated computing",
    "gpuNum": 1,
    "hideHardwareSpecs": false,
    "memoryGiB": 16,
    "name": "ml.g4dn.xlarge",
    "vcpuNum": 4
   },
   {
    "_defaultOrder": 30,
    "_isFastLaunch": false,
    "category": "Accelerated computing",
    "gpuNum": 1,
    "hideHardwareSpecs": false,
    "memoryGiB": 32,
    "name": "ml.g4dn.2xlarge",
    "vcpuNum": 8
   },
   {
    "_defaultOrder": 31,
    "_isFastLaunch": false,
    "category": "Accelerated computing",
    "gpuNum": 1,
    "hideHardwareSpecs": false,
    "memoryGiB": 64,
    "name": "ml.g4dn.4xlarge",
    "vcpuNum": 16
   },
   {
    "_defaultOrder": 32,
    "_isFastLaunch": false,
    "category": "Accelerated computing",
    "gpuNum": 1,
    "hideHardwareSpecs": false,
    "memoryGiB": 128,
    "name": "ml.g4dn.8xlarge",
    "vcpuNum": 32
   },
   {
    "_defaultOrder": 33,
    "_isFastLaunch": false,
    "category": "Accelerated computing",
    "gpuNum": 4,
    "hideHardwareSpecs": false,
    "memoryGiB": 192,
    "name": "ml.g4dn.12xlarge",
    "vcpuNum": 48
   },
   {
    "_defaultOrder": 34,
    "_isFastLaunch": false,
    "category": "Accelerated computing",
    "gpuNum": 1,
    "hideHardwareSpecs": false,
    "memoryGiB": 256,
    "name": "ml.g4dn.16xlarge",
    "vcpuNum": 64
   },
   {
    "_defaultOrder": 35,
    "_isFastLaunch": false,
    "category": "Accelerated computing",
    "gpuNum": 1,
    "hideHardwareSpecs": false,
    "memoryGiB": 61,
    "name": "ml.p3.2xlarge",
    "vcpuNum": 8
   },
   {
    "_defaultOrder": 36,
    "_isFastLaunch": false,
    "category": "Accelerated computing",
    "gpuNum": 4,
    "hideHardwareSpecs": false,
    "memoryGiB": 244,
    "name": "ml.p3.8xlarge",
    "vcpuNum": 32
   },
   {
    "_defaultOrder": 37,
    "_isFastLaunch": false,
    "category": "Accelerated computing",
    "gpuNum": 8,
    "hideHardwareSpecs": false,
    "memoryGiB": 488,
    "name": "ml.p3.16xlarge",
    "vcpuNum": 64
   },
   {
    "_defaultOrder": 38,
    "_isFastLaunch": false,
    "category": "Accelerated computing",
    "gpuNum": 8,
    "hideHardwareSpecs": false,
    "memoryGiB": 768,
    "name": "ml.p3dn.24xlarge",
    "vcpuNum": 96
   },
   {
    "_defaultOrder": 39,
    "_isFastLaunch": false,
    "category": "Memory Optimized",
    "gpuNum": 0,
    "hideHardwareSpecs": false,
    "memoryGiB": 16,
    "name": "ml.r5.large",
    "vcpuNum": 2
   },
   {
    "_defaultOrder": 40,
    "_isFastLaunch": false,
    "category": "Memory Optimized",
    "gpuNum": 0,
    "hideHardwareSpecs": false,
    "memoryGiB": 32,
    "name": "ml.r5.xlarge",
    "vcpuNum": 4
   },
   {
    "_defaultOrder": 41,
    "_isFastLaunch": false,
    "category": "Memory Optimized",
    "gpuNum": 0,
    "hideHardwareSpecs": false,
    "memoryGiB": 64,
    "name": "ml.r5.2xlarge",
    "vcpuNum": 8
   },
   {
    "_defaultOrder": 42,
    "_isFastLaunch": false,
    "category": "Memory Optimized",
    "gpuNum": 0,
    "hideHardwareSpecs": false,
    "memoryGiB": 128,
    "name": "ml.r5.4xlarge",
    "vcpuNum": 16
   },
   {
    "_defaultOrder": 43,
    "_isFastLaunch": false,
    "category": "Memory Optimized",
    "gpuNum": 0,
    "hideHardwareSpecs": false,
    "memoryGiB": 256,
    "name": "ml.r5.8xlarge",
    "vcpuNum": 32
   },
   {
    "_defaultOrder": 44,
    "_isFastLaunch": false,
    "category": "Memory Optimized",
    "gpuNum": 0,
    "hideHardwareSpecs": false,
    "memoryGiB": 384,
    "name": "ml.r5.12xlarge",
    "vcpuNum": 48
   },
   {
    "_defaultOrder": 45,
    "_isFastLaunch": false,
    "category": "Memory Optimized",
    "gpuNum": 0,
    "hideHardwareSpecs": false,
    "memoryGiB": 512,
    "name": "ml.r5.16xlarge",
    "vcpuNum": 64
   },
   {
    "_defaultOrder": 46,
    "_isFastLaunch": false,
    "category": "Memory Optimized",
    "gpuNum": 0,
    "hideHardwareSpecs": false,
    "memoryGiB": 768,
    "name": "ml.r5.24xlarge",
    "vcpuNum": 96
   },
   {
    "_defaultOrder": 47,
    "_isFastLaunch": false,
    "category": "Accelerated computing",
    "gpuNum": 1,
    "hideHardwareSpecs": false,
    "memoryGiB": 16,
    "name": "ml.g5.xlarge",
    "vcpuNum": 4
   },
   {
    "_defaultOrder": 48,
    "_isFastLaunch": false,
    "category": "Accelerated computing",
    "gpuNum": 1,
    "hideHardwareSpecs": false,
    "memoryGiB": 32,
    "name": "ml.g5.2xlarge",
    "vcpuNum": 8
   },
   {
    "_defaultOrder": 49,
    "_isFastLaunch": false,
    "category": "Accelerated computing",
    "gpuNum": 1,
    "hideHardwareSpecs": false,
    "memoryGiB": 64,
    "name": "ml.g5.4xlarge",
    "vcpuNum": 16
   },
   {
    "_defaultOrder": 50,
    "_isFastLaunch": false,
    "category": "Accelerated computing",
    "gpuNum": 1,
    "hideHardwareSpecs": false,
    "memoryGiB": 128,
    "name": "ml.g5.8xlarge",
    "vcpuNum": 32
   },
   {
    "_defaultOrder": 51,
    "_isFastLaunch": false,
    "category": "Accelerated computing",
    "gpuNum": 1,
    "hideHardwareSpecs": false,
    "memoryGiB": 256,
    "name": "ml.g5.16xlarge",
    "vcpuNum": 64
   },
   {
    "_defaultOrder": 52,
    "_isFastLaunch": false,
    "category": "Accelerated computing",
    "gpuNum": 4,
    "hideHardwareSpecs": false,
    "memoryGiB": 192,
    "name": "ml.g5.12xlarge",
    "vcpuNum": 48
   },
   {
    "_defaultOrder": 53,
    "_isFastLaunch": false,
    "category": "Accelerated computing",
    "gpuNum": 4,
    "hideHardwareSpecs": false,
    "memoryGiB": 384,
    "name": "ml.g5.24xlarge",
    "vcpuNum": 96
   },
   {
    "_defaultOrder": 54,
    "_isFastLaunch": false,
    "category": "Accelerated computing",
    "gpuNum": 8,
    "hideHardwareSpecs": false,
    "memoryGiB": 768,
    "name": "ml.g5.48xlarge",
    "vcpuNum": 192
   },
   {
    "_defaultOrder": 55,
    "_isFastLaunch": false,
    "category": "Accelerated computing",
    "gpuNum": 8,
    "hideHardwareSpecs": false,
    "memoryGiB": 1152,
    "name": "ml.p4d.24xlarge",
    "vcpuNum": 96
   },
   {
    "_defaultOrder": 56,
    "_isFastLaunch": false,
    "category": "Accelerated computing",
    "gpuNum": 8,
    "hideHardwareSpecs": false,
    "memoryGiB": 1152,
    "name": "ml.p4de.24xlarge",
    "vcpuNum": 96
   }
  ],
  "instance_type": "ml.geospatial.interactive",
  "kernelspec": {
   "display_name": "Python 3 (Geospatial 1.0)",
   "language": "python",
   "name": "python3__SAGEMAKER_INTERNAL__arn:aws:sagemaker:us-west-2:081189585635:image/sagemaker-geospatial-v1-0"
  },
  "language_info": {
   "codemirror_mode": {
    "name": "ipython",
    "version": 3
   },
   "file_extension": ".py",
   "mimetype": "text/x-python",
   "name": "python",
   "nbconvert_exporter": "python",
   "pygments_lexer": "ipython3",
   "version": "3.10.4"
  }
 },
 "nbformat": 4,
 "nbformat_minor": 5
}
