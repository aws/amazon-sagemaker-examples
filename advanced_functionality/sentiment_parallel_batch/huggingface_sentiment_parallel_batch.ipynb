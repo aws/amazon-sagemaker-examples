{
 "cells": [
  {
   "cell_type": "markdown",
   "metadata": {},
   "source": [
    "# Distributed Training with Hugging Face Sentiment Classification and Batch Transform\n",
    "__Binary Classification with `Trainer` and `sst2` dataset, using Distributed Training and Batch Transform__"
   ]
  },
  {
   "cell_type": "markdown",
   "metadata": {},
   "source": [
    "---\n",
    "\n",
    "This notebook's CI test result for us-west-2 is as follows. CI test results in other regions can be found at the end of the notebook.\n",
    "\n",
    "![This us-west-2 badge failed to load. Check your device's internet connectivity, otherwise the service is currently unavailable](https://h75twx4l60.execute-api.us-west-2.amazonaws.com/sagemaker-nb/us-west-2/advanced_functionality|sentiment_parallel_batch|huggingface_sentiment_parallel_batch.ipynb)\n",
    "\n",
    "---"
   ]
  },
  {
   "cell_type": "markdown",
   "metadata": {
    "tags": []
   },
   "source": [
    "## Runtime\n",
    "\n",
    "This notebook takes approximately 60 minutes to run."
   ]
  },
  {
   "cell_type": "markdown",
   "metadata": {},
   "source": [
    "## Contents\n",
    "\n",
    "1. [Introduction](#Introduction)  \n",
    "2. [Development environment and permissions](#Development-environment-and-permissions)\n",
    "    1. [Installation](#Installation)  \n",
    "    2. [Development environment](#Development-environment)  \n",
    "    3. [Permissions](#Permissions)\n",
    "3. [Pre-processing](#Pre-processing)\n",
    "    1. [Download the dataset](#Download-the-dataset)\n",
    "    1. [Tokenize sentences](#Tokenize-sentences)  \n",
    "    2. [Upload data to sagemaker_session_bucket](#Upload-data-to-sagemaker_session_bucket)  \n",
    "4. [Fine-tune the model and start a SageMaker training job](#Fine-tune-the-model-and-start-a-SageMaker-training-job)\n",
    "    1. [Enabling Debugger in Estimator object](#Enabling-Debugger-in-Estimator-object)\n",
    "    1. [Create an Estimator and start a training job](#Create-an-Estimator-and-start-a-training-job)  \n",
    "5. [Run Batch Transform after training a model](#Run-Batch-Transform-after-training-a-model)\n",
    "    1. [Generate dummy data](#Generate-dummy-data)\n",
    "    2. [Run the Batch Transform job](#Run-the-Batch-Transform-job)\n",
    "    3. [Compare the dummy data to the predicted sentiments](#Compare-the-dummy-data-to-the-predicted-sentiments)"
   ]
  },
  {
   "cell_type": "markdown",
   "metadata": {},
   "source": [
    "## Introduction\n",
    "\n",
    "This notebook walks you through an end-to-end binary text classification example, whilst using [SageMaker Distributed Training](https://docs.aws.amazon.com/sagemaker/latest/dg/distributed-training.html) for the training step, and [SageMaker Batch Transform](https://docs.aws.amazon.com/sagemaker/latest/dg/batch-transform.html) for inference. If you are looking for an example notebook that trains on a single instances and uses a real-time model endpoint, please visit [Hugging Face Sentiment Classification](https://github.com/aws/amazon-sagemaker-examples/blob/b07198857bbfcf5b85c8a59357e12c49ccb91f5c/introduction_to_applying_machine_learning/huggingface_sentiment_classification/huggingface_sentiment.ipynb).\n",
    "\n",
    "This notebook uses Hugging Face's `transformers` library with a custom Amazon sagemaker-sdk extension to fine-tune using data parallelism and a pre-trained transformer on binary text classification. The pre-trained model is fine-tuned using the `sst2` dataset. The notebook then runs batch inference on generated dummy data, before analyzing the results. To get started, we need to set up the environment with a few prerequisite steps for permissions, configurations, and a few others.\n",
    "\n",
    "This notebook is adapted from two of Hugging Face's notebooks: [HuggingFace Sagemaker-sdk - Getting Started Demo](https://github.com/huggingface/notebooks/blob/main/sagemaker/01_getting_started_pytorch/sagemaker-notebook.ipynb) and [HuggingFace Sagemaker-sdk - training with custom metrics](https://github.com/huggingface/notebooks/blob/main/sagemaker/06_sagemaker_metrics/sagemaker-notebook.ipynb). These are provided here courtesy of Hugging Face.\n",
    "\n",
    "<i>NOTE: You can run this notebook in SageMaker Studio, a SageMaker notebook instance, or your local machine. This notebook was tested in a notebook instance using the `conda\\_pytorch\\_p39`\n",
    "    kernel.</i>\n"
   ]
  },
  {
   "cell_type": "markdown",
   "metadata": {},
   "source": [
    "## Development environment and permissions "
   ]
  },
  {
   "cell_type": "markdown",
   "metadata": {},
   "source": [
    "### Installation\n",
    "\n",
    "_*Note:* We install the required libraries from Hugging Face and AWS. You also need PyTorch, if you haven't installed it already._"
   ]
  },
  {
   "cell_type": "code",
   "execution_count": null,
   "metadata": {
    "tags": []
   },
   "outputs": [],
   "source": [
    "!pip install \"sagemaker==2.187.0\" \"transformers==4.33.2\" \"datasets==2.14.5\" \"s3fs==2023.6.0\" \"awscli==1.29.17\" \"accelerate==0.23.0\" \"ipywidgets==7.1.1\" --upgrade"
   ]
  },
  {
   "cell_type": "markdown",
   "metadata": {},
   "source": [
    "### Development environment "
   ]
  },
  {
   "cell_type": "code",
   "execution_count": null,
   "metadata": {
    "tags": []
   },
   "outputs": [],
   "source": [
    "import sagemaker.huggingface"
   ]
  },
  {
   "cell_type": "markdown",
   "metadata": {},
   "source": [
    "### Permissions"
   ]
  },
  {
   "cell_type": "markdown",
   "metadata": {},
   "source": [
    "_If you are going to use SageMaker in a local environment, you need access to an IAM Role with the required permissions for SageMaker. You can read more at [SageMaker Roles](https://docs.aws.amazon.com/sagemaker/latest/dg/sagemaker-roles.html)._"
   ]
  },
  {
   "cell_type": "code",
   "execution_count": 4,
   "metadata": {},
   "outputs": [
    {
     "name": "stdout",
     "output_type": "stream",
     "text": [
      "sagemaker.config INFO - Not applying SDK defaults from location: /etc/xdg/sagemaker/config.yaml\n",
      "sagemaker.config INFO - Not applying SDK defaults from location: /root/.config/sagemaker/config.yaml\n",
      "sagemaker.config INFO - Not applying SDK defaults from location: /etc/xdg/sagemaker/config.yaml\n",
      "sagemaker.config INFO - Not applying SDK defaults from location: /root/.config/sagemaker/config.yaml\n",
      "sagemaker.config INFO - Not applying SDK defaults from location: /etc/xdg/sagemaker/config.yaml\n",
      "sagemaker.config INFO - Not applying SDK defaults from location: /root/.config/sagemaker/config.yaml\n",
      "Role arn: arn:aws:iam::000000000000:role/sam2userprofilesagemakerrole\n",
      "Bucket: sagemaker-us-east-1-000000000000\n",
      "Region: us-east-1\n"
     ]
    }
   ],
   "source": [
    "import sagemaker\n",
    "\n",
    "sess = sagemaker.Session()\n",
    "# The SageMaker session bucket is used for uploading data, models and logs\n",
    "# SageMaker will automatically create this bucket if it doesn't exist\n",
    "sagemaker_session_bucket = None\n",
    "if sagemaker_session_bucket is None and sess is not None:\n",
    "    # Set to default bucket if a bucket name is not given\n",
    "    sagemaker_session_bucket = sess.default_bucket()\n",
    "\n",
    "role = sagemaker.get_execution_role()\n",
    "sess = sagemaker.Session(default_bucket=sagemaker_session_bucket)\n",
    "\n",
    "print(f\"Role arn: {role}\")\n",
    "print(f\"Bucket: {sess.default_bucket()}\")\n",
    "print(f\"Region: {sess.boto_region_name}\")"
   ]
  },
  {
   "cell_type": "markdown",
   "metadata": {},
   "source": [
    "## Pre-processing\n",
    "\n",
    "We use the `datasets` library to pre-process the `sst2` dataset (Stanford Sentiment `Treebank`). After pre-processing, the dataset is uploaded to the `sagemaker_session_bucket` for use within the training job. The [sst2](https://nlp.stanford.edu/sentiment/index.html) dataset consists of 67349 training samples and _ testing samples of highly polar movie reviews."
   ]
  },
  {
   "cell_type": "markdown",
   "metadata": {},
   "source": [
    "### Download the dataset"
   ]
  },
  {
   "cell_type": "code",
   "execution_count": 5,
   "metadata": {},
   "outputs": [
    {
     "name": "stdout",
     "output_type": "stream",
     "text": [
      "curl: /opt/conda/lib/libcurl.so.4: no version information available (required by curl)\n",
      "  % Total    % Received % Xferd  Average Speed   Time    Time     Time  Current\n",
      "                                 Dload  Upload   Total   Spent    Left  Speed\n",
      "100  189k  100  189k    0     0  2536k      0 --:--:-- --:--:-- --:--:-- 2554k\n",
      "curl: /opt/conda/lib/libcurl.so.4: no version information available (required by curl)\n",
      "  % Total    % Received % Xferd  Average Speed   Time    Time     Time  Current\n",
      "                                 Dload  Upload   Total   Spent    Left  Speed\n",
      "100 3716k  100 3716k    0     0  10.2M      0 --:--:-- --:--:-- --:--:-- 10.1M\n",
      "curl: /opt/conda/lib/libcurl.so.4: no version information available (required by curl)\n",
      "  % Total    % Received % Xferd  Average Speed   Time    Time     Time  Current\n",
      "                                 Dload  Upload   Total   Spent    Left  Speed\n",
      "100 94916  100 94916    0     0   297k      0 --:--:-- --:--:-- --:--:--  299k\n"
     ]
    }
   ],
   "source": [
    "from datasets import Dataset\n",
    "from transformers import AutoTokenizer\n",
    "import pandas as pd\n",
    "\n",
    "# Tokenizer used in pre-processing\n",
    "tokenizer_name = \"distilbert-base-uncased\"\n",
    "\n",
    "# S3 key prefix for the data\n",
    "s3_prefix = \"DEMO-sentiment/datasets/sst2\"\n",
    "\n",
    "# Download the SST2 data from s3\n",
    "!curl https://sagemaker-example-files-prod-us-east-1.s3.amazonaws.com/datasets/text/SST2/sst2.test > ./sst2.test\n",
    "!curl https://sagemaker-example-files-prod-us-east-1.s3.amazonaws.com/datasets/text/SST2/sst2.train > ./sst2.train\n",
    "!curl https://sagemaker-example-files-prod-us-east-1.s3.amazonaws.com/datasets/text/SST2/sst2.val > ./sst2.val"
   ]
  },
  {
   "cell_type": "markdown",
   "metadata": {},
   "source": [
    "### Tokenize sentences"
   ]
  },
  {
   "cell_type": "code",
   "execution_count": null,
   "metadata": {},
   "outputs": [],
   "source": [
    "# Download tokenizer\n",
    "tokenizer = AutoTokenizer.from_pretrained(tokenizer_name)\n",
    "\n",
    "\n",
    "# Tokenizer helper function\n",
    "def tokenize(batch):\n",
    "    return tokenizer(batch[\"text\"], padding=\"max_length\", truncation=True)\n",
    "\n",
    "\n",
    "# Load dataset\n",
    "test_df = pd.read_csv(\"sst2.test\", sep=\"delimiter\", header=None, engine=\"python\", names=[\"line\"])\n",
    "train_df = pd.read_csv(\"sst2.train\", sep=\"delimiter\", header=None, engine=\"python\", names=[\"line\"])\n",
    "\n",
    "test_df[[\"label\", \"text\"]] = test_df[\"line\"].str.split(\" \", n=1, expand=True)\n",
    "train_df[[\"label\", \"text\"]] = train_df[\"line\"].str.split(\" \", n=1, expand=True)\n",
    "\n",
    "test_df.drop(\"line\", axis=1, inplace=True)\n",
    "train_df.drop(\"line\", axis=1, inplace=True)\n",
    "\n",
    "test_df[\"label\"] = pd.to_numeric(test_df[\"label\"], downcast=\"integer\")\n",
    "train_df[\"label\"] = pd.to_numeric(train_df[\"label\"], downcast=\"integer\")\n",
    "\n",
    "train_dataset = Dataset.from_pandas(train_df)\n",
    "test_dataset = Dataset.from_pandas(test_df)\n",
    "\n",
    "# Tokenize dataset\n",
    "train_dataset = train_dataset.map(tokenize, batched=True)\n",
    "test_dataset = test_dataset.map(tokenize, batched=True)\n",
    "\n",
    "# Set format for pytorch\n",
    "train_dataset = train_dataset.rename_column(\"label\", \"labels\")\n",
    "train_dataset.set_format(\"torch\", columns=[\"input_ids\", \"attention_mask\", \"labels\"])\n",
    "\n",
    "test_dataset = test_dataset.rename_column(\"label\", \"labels\")\n",
    "test_dataset.set_format(\"torch\", columns=[\"input_ids\", \"attention_mask\", \"labels\"])"
   ]
  },
  {
   "cell_type": "code",
   "execution_count": 7,
   "metadata": {
    "tags": []
   },
   "outputs": [
    {
     "data": {
      "text/html": [
       "<div>\n",
       "<style scoped>\n",
       "    .dataframe tbody tr th:only-of-type {\n",
       "        vertical-align: middle;\n",
       "    }\n",
       "\n",
       "    .dataframe tbody tr th {\n",
       "        vertical-align: top;\n",
       "    }\n",
       "\n",
       "    .dataframe thead th {\n",
       "        text-align: right;\n",
       "    }\n",
       "</style>\n",
       "<table border=\"1\" class=\"dataframe\">\n",
       "  <thead>\n",
       "    <tr style=\"text-align: right;\">\n",
       "      <th></th>\n",
       "      <th>label</th>\n",
       "      <th>text</th>\n",
       "    </tr>\n",
       "  </thead>\n",
       "  <tbody>\n",
       "    <tr>\n",
       "      <th>0</th>\n",
       "      <td>0</td>\n",
       "      <td>hide new secretions from the parental units</td>\n",
       "    </tr>\n",
       "    <tr>\n",
       "      <th>1</th>\n",
       "      <td>0</td>\n",
       "      <td>contains no wit , only labored gags</td>\n",
       "    </tr>\n",
       "    <tr>\n",
       "      <th>2</th>\n",
       "      <td>1</td>\n",
       "      <td>that loves its characters and communicates som...</td>\n",
       "    </tr>\n",
       "    <tr>\n",
       "      <th>3</th>\n",
       "      <td>0</td>\n",
       "      <td>remains utterly satisfied to remain the same t...</td>\n",
       "    </tr>\n",
       "    <tr>\n",
       "      <th>4</th>\n",
       "      <td>0</td>\n",
       "      <td>on the worst revenge-of-the-nerds clichés the ...</td>\n",
       "    </tr>\n",
       "    <tr>\n",
       "      <th>...</th>\n",
       "      <td>...</td>\n",
       "      <td>...</td>\n",
       "    </tr>\n",
       "    <tr>\n",
       "      <th>67344</th>\n",
       "      <td>1</td>\n",
       "      <td>a delightful comedy</td>\n",
       "    </tr>\n",
       "    <tr>\n",
       "      <th>67345</th>\n",
       "      <td>0</td>\n",
       "      <td>anguish , anger and frustration</td>\n",
       "    </tr>\n",
       "    <tr>\n",
       "      <th>67346</th>\n",
       "      <td>1</td>\n",
       "      <td>at achieving the modest , crowd-pleasing goals...</td>\n",
       "    </tr>\n",
       "    <tr>\n",
       "      <th>67347</th>\n",
       "      <td>1</td>\n",
       "      <td>a patient viewer</td>\n",
       "    </tr>\n",
       "    <tr>\n",
       "      <th>67348</th>\n",
       "      <td>0</td>\n",
       "      <td>this new jangle of noise , mayhem and stupidit...</td>\n",
       "    </tr>\n",
       "  </tbody>\n",
       "</table>\n",
       "<p>67349 rows × 2 columns</p>\n",
       "</div>"
      ],
      "text/plain": [
       "       label                                               text\n",
       "0          0        hide new secretions from the parental units\n",
       "1          0                contains no wit , only labored gags\n",
       "2          1  that loves its characters and communicates som...\n",
       "3          0  remains utterly satisfied to remain the same t...\n",
       "4          0  on the worst revenge-of-the-nerds clichés the ...\n",
       "...      ...                                                ...\n",
       "67344      1                                a delightful comedy\n",
       "67345      0                    anguish , anger and frustration\n",
       "67346      1  at achieving the modest , crowd-pleasing goals...\n",
       "67347      1                                   a patient viewer\n",
       "67348      0  this new jangle of noise , mayhem and stupidit...\n",
       "\n",
       "[67349 rows x 2 columns]"
      ]
     },
     "execution_count": 7,
     "metadata": {},
     "output_type": "execute_result"
    }
   ],
   "source": [
    "train_df"
   ]
  },
  {
   "cell_type": "markdown",
   "metadata": {},
   "source": [
    "### Upload data to `sagemaker_session_bucket`\n",
    "\n",
    "After processing the `datasets`, we upload the dataset to S3."
   ]
  },
  {
   "cell_type": "code",
   "execution_count": null,
   "metadata": {},
   "outputs": [],
   "source": [
    "from s3fs import S3FileSystem\n",
    "\n",
    "s3 = S3FileSystem(storage_options=\"s3\")\n",
    "\n",
    "# save train_dataset to s3\n",
    "training_input_path = f\"s3://{sess.default_bucket()}/{s3_prefix}/train/input\"\n",
    "train_dataset.save_to_disk(training_input_path)\n",
    "\n",
    "# save test_dataset to s3\n",
    "test_input_path = f\"s3://{sess.default_bucket()}/{s3_prefix}/test/input\"\n",
    "test_dataset.save_to_disk(test_input_path)"
   ]
  },
  {
   "cell_type": "markdown",
   "metadata": {},
   "source": [
    "## Fine-tune the model and start a SageMaker training job\n",
    "\n",
    "In order to create a SageMaker training job, we need a `HuggingFace` Estimator. The Estimator handles end-to-end Amazon SageMaker training and deployment tasks. In an Estimator, we define which fine-tuning script should be used as `entry_point`, which `instance_type` should be used, which `hyperparameters` are passed in, as well as the following:\n",
    "\n",
    "\n",
    "\n",
    "```python\n",
    "hf_estimator = HuggingFace(entry_point=\"train.py\",\n",
    "                            source_dir=\"./scripts\",\n",
    "                            base_job_name=\"huggingface-sdk-extension\",\n",
    "                            instance_type=\"ml.p3.2xlarge\",\n",
    "                            instance_count=1,\n",
    "                            transformers_version=\"4.4\",\n",
    "                            pytorch_version=\"1.6\",\n",
    "                            py_version=\"py36\",\n",
    "                            role=role,\n",
    "                            hyperparameters = {\"epochs\": 1,\n",
    "                                               \"train_batch_size\": 32,\n",
    "                                               \"model_name\":\"distilbert-base-uncased\"\n",
    "                                                })\n",
    "```\n",
    "\n",
    "When we create a SageMaker training job, SageMaker takes care of starting and managing all the required EC2 instances for us with the `huggingface` container, uploads the provided fine-tuning script `train.py`, and downloads the data from the `sagemaker_session_bucket` into the container at `/opt/ml/input/data`. Then, it starts the training job by running:\n",
    "\n",
    "```python\n",
    "/opt/conda/bin/python train.py --epochs 1 --model_name distilbert-base-uncased --train_batch_size 32\n",
    "```\n",
    "\n",
    "The `hyperparameters` defined in the `HuggingFace` estimator are passed in as named arguments. \n",
    "\n",
    "SageMaker provides useful properties about the training environment through various environment variables, including the following:\n",
    "\n",
    "* `SM_MODEL_DIR`: A string representing the path where the training job writes the model artifacts to. After training, artifacts in this directory are uploaded to S3 for model hosting.\n",
    "\n",
    "* `SM_NUM_GPUS`: An integer representing the number of GPUs available to the host.\n",
    "\n",
    "* `SM_CHANNEL_XXXX:` A string representing the path to the directory that contains the input data for the specified channel. For example, if you specify two input channels in the Hugging Face estimator's `fit()` call, named `train` and `test`, the environment variables `SM_CHANNEL_TRAIN` and `SM_CHANNEL_TEST` are set.\n",
    "\n",
    "\n",
    "To run the training job locally, you can define `instance_type=\"local\"` or `instance_type=\"local_gpu\"` for GPU usage.\n",
    "\n",
    "_Note: local mode is not supported in SageMaker Studio._\n"
   ]
  },
  {
   "cell_type": "code",
   "execution_count": null,
   "metadata": {},
   "outputs": [],
   "source": [
    "!pygmentize ./scripts/train.py"
   ]
  },
  {
   "cell_type": "markdown",
   "metadata": {},
   "source": [
    "### Enabling Debugger in Estimator object\n",
    "\n",
    "\n",
    "#### DebuggerHookConfig\n",
    "\n",
    "Enabling Amazon SageMaker Debugger in training job can be accomplished by adding its configuration into Estimator object constructor:\n",
    "\n",
    "```python\n",
    "from sagemaker.debugger import DebuggerHookConfig, CollectionConfig\n",
    "\n",
    "estimator = Estimator(\n",
    "    ...,\n",
    "    debugger_hook_config = DebuggerHookConfig(\n",
    "        s3_output_path=\"s3://{bucket_name}/{location_in_bucket}\",  # Required\n",
    "        collection_configs=[\n",
    "            CollectionConfig(\n",
    "                name=\"weights\",\n",
    "                parameters={\n",
    "                    \"save_interval\": \"10\"\n",
    "                }\n",
    "            )\n",
    "        ]\n",
    "    )\n",
    ")\n",
    "```\n",
    "Here, the `DebuggerHookConfig` object instructs `Estimator` what data we are interested in.\n",
    "Two parameters are provided in the example:\n",
    "\n",
    "- `s3_output_path`: it points to S3 bucket/path where we intend to store our debugging tensors.\n",
    "  Amount of data saved depends on multiple factors, major ones are: training job / data set / model / frequency of saving tensors.\n",
    "  This bucket should be in your AWS account, and you should have full access control over it.\n",
    "  **Important Note**: this s3 bucket should be originally created in the same region where your training job will be running, otherwise you might run into problems with cross region access.\n",
    "\n",
    "- `collection_configs`: it enumerates named collections of tensors we want to save.\n",
    "  Collections are a convenient way to organize relevant tensors under same umbrella to make it easy to navigate them during analysis.\n",
    "  In this particular example, you are instructing Amazon SageMaker Debugger that you are interested in a single collection named `metrics`.\n",
    "  We also instructed Amazon SageMaker Debugger to save metrics every 10 iteration.\n",
    "  See [Collection](https://github.com/awslabs/sagemaker-debugger/blob/master/docs/api.md#collection) documentation for all parameters that are supported by Collections and `DebuggerConfig` documentation for more details about all parameters `DebuggerConfig` supports.\n",
    "  \n",
    "#### Training Script\n",
    "  \n",
    "You may have noticed that the training script has been adapted to work with SageMaker Debugger. We have done so here, but note that this not is required for certain versions of PyTorch and TensorFlow. See [Supported Frameworks and Algorithms](https://docs.aws.amazon.com/sagemaker/latest/dg/debugger-supported-frameworks.html) for more information. \n",
    "\n",
    "In the above training script we have defined a class for Debugger. This allows us to pass a Debugger hook in the Trainer as part of the training process. To do this, we are using the [`SMDebug` client library](https://docs.aws.amazon.com/sagemaker/latest/dg/debugger-bring-your-own-container.html). For more information, please see the associated page for [PyTorch](https://github.com/awslabs/sagemaker-debugger/blob/master/docs/pytorch.md). Further instructions can also be found in [Adapt Your PyTorch Training Script](https://docs.aws.amazon.com/sagemaker/latest/dg/debugger-modify-script-pytorch.html).\n",
    "  \n",
    "#### Rules\n",
    "\n",
    "Enabling Rules in training job can be accomplished by adding the `rules` configuration into the Estimator object constructor.\n",
    "\n",
    "- `rules`: This parameter will accept a list of rules you wish to evaluate against the tensors output by this training job.\n",
    "  For rules, Amazon SageMaker Debugger supports two types:\n",
    "  - SageMaker Rules: These are rules specially curated by the data science and engineering teams in Amazon SageMaker which you can opt to evaluate against your training job.\n",
    "  - Custom Rules: You can optionally choose to write your own rule as a Python source file and have it evaluated against your training job.\n",
    "    To provide Amazon SageMaker Debugger to evaluate this rule, you would have to provide the S3 location of the rule source and the evaluator image.\n",
    "\n",
    "In this example, you will use an Amazon SageMaker's LossNotDecreasing rule, which helps you identify if you are running into a situation where the training loss is not going down.\n",
    "\n",
    "```python\n",
    "from sagemaker.debugger import rule_configs, Rule\n",
    "\n",
    "estimator = Estimator(\n",
    "    ...,\n",
    "    rules=[\n",
    "        Rule.sagemaker(\n",
    "            rule_configs.loss_not_decreasing(),\n",
    "            rule_parameters={\n",
    "                \"collection_names\": \"losses\",\n",
    "                \"num_steps\": \"10\",\n",
    "            },\n",
    "        ),\n",
    "    ],\n",
    ")\n",
    "```\n",
    "\n",
    "- `rule_parameters`: In this parameter, you provide the runtime values of the parameter in your constructor.\n",
    "  You can still choose to pass in other values which may be necessary for your rule to be evaluated.\n",
    "  In this example, you will use Amazon SageMaker's LossNotDecreasing rule to monitor the `metircs` collection.\n",
    "  The rule will alert you if the tensors in `metrics` has not decreased for more than 10 steps."
   ]
  },
  {
   "cell_type": "markdown",
   "metadata": {
    "tags": []
   },
   "source": [
    "### Use SageMaker Distributed Training Data Parallelism\n",
    "\n",
    "[Amazon SageMaker's distributed library](https://docs.aws.amazon.com/sagemaker/latest/dg/distributed-training.html) supports various distributed training options for deep learning tasks such as computer vision (CV) and natural language processing (NLP). With SageMaker’s distributed training libraries, you can run highly scalable and cost-effective custom data parallel and model parallel deep learning training jobs. Here, we will be using the distributed library for NLP [data parallelism](https://docs.aws.amazon.com/sagemaker/latest/dg/data-parallel.html). The SageMaker data parallelism library extends SageMaker training capabilities on deep learning models with near-linear scaling efficiency, achieving fast time-to-train with minimal code changes. It is available through the AWS deep learning containers for the TensorFlow, PyTorch, and HuggingFace frameworks within the SageMaker training platform.\n",
    "\n",
    "As per the [Hugging Face documentation](https://huggingface.co/docs/sagemaker/train#data-parallelism), The Hugging Face [Trainer](https://huggingface.co/docs/transformers/main_classes/trainer) supports SageMaker’s data parallelism library. If your training script uses the Trainer API, you only need to define the distribution parameter in the Hugging Face Estimator:\n",
    "\n",
    "```python\n",
    "distribution = {'smdistributed':{'dataparallel':{ 'enabled': True }}}\n",
    "```\n",
    "\n",
    "Please see further information in [Launch a Training job](https://docs.aws.amazon.com/sagemaker/latest/dg/data-parallel-use-api.html).\n",
    "\n",
    "**Instance types**\n",
    "\n",
    "`SMDataParallel` supports larger compute instances that have 8 GPUs per node:\n",
    "1. ml.p3.16xlarge\n",
    "1. ml.p3dn.24xlarge\n",
    "1. ml.p4d.24xlarge\n",
    "1. ml.p4de.24xlarge\n",
    "\n",
    "For specs of the instance types, see the Accelerated Computing section in the [Amazon EC2 Instance Types page](https://aws.amazon.com/ec2/instance-types/). For information about instance pricing, see [Amazon SageMaker Pricing](https://aws.amazon.com/sagemaker/pricing/). In this example, we will be using a ml.p3.16xlarge.\n",
    "\n",
    "Note, if when training you encounter a `ResourceLimitExceeded` error message, it is possible that you may need to [request a service quota increase for SageMaker resources](https://docs.aws.amazon.com/sagemaker/latest/dg/regions-quotas.html#service-limit-increase-request-procedure).\n",
    "\n",
    "**Instance count**\n",
    "\n",
    "To get the best performance and the most out of `SMDataParallel`, you should use at least 2 instances, but you can also use 1 for testing this example."
   ]
  },
  {
   "cell_type": "markdown",
   "metadata": {},
   "source": [
    "### Create an Estimator and start a training job"
   ]
  },
  {
   "cell_type": "markdown",
   "metadata": {},
   "source": [
    "Now we'll create the estimator. For this we will include:\n",
    "1. The IAM role to use\n",
    "1. The Training instance type and count\n",
    "1. The `HuggingFace` algorithm container and script\n",
    "1. The hyperparameters which are passed to the training job\n",
    "1. The Distribution strategy that allows us to perform data parallelism\n",
    "1. The `DebuggerHookConfig` object which saves the specific tensors for debugging\n",
    "1. The `LossNotDecreasing` rule which detects when the loss is not decreasing in value at an adequate rate\n",
    "\n",
    "And then we set the algorithm hyperparameters, as well as specify the `.fit()` function which specifies the S3 location for output data.  In this case we have both a training and validation set which are passed in. Note that in the `DebuggerHookConfig` we are specifying weights, biases, and gradients. A fourth collection, losses, is also saved by default when using SageMaker Debugger with PyTorch.\n",
    "\n",
    "We also specify and pass to the Estimator metric definitions, with associated regex patterns. This will be used to parse the job logs and extract metrics, which will be used for visualization after the job completes."
   ]
  },
  {
   "cell_type": "code",
   "execution_count": 10,
   "metadata": {},
   "outputs": [],
   "source": [
    "from sagemaker.huggingface import HuggingFace\n",
    "from sagemaker.pytorch import PyTorch\n",
    "\n",
    "# Hyperparameters which are passed into the training job\n",
    "hyperparameters = {\n",
    "    \"epochs\": 2,\n",
    "    \"train_batch_size\": 32,\n",
    "    \"model_name\": \"distilbert-base-uncased\",\n",
    "}"
   ]
  },
  {
   "cell_type": "code",
   "execution_count": 11,
   "metadata": {
    "tags": []
   },
   "outputs": [],
   "source": [
    "metric_definitions = [\n",
    "    {\"Name\": \"loss\", \"Regex\": \"'loss': ([0-9]+(.|e\\-)[0-9]+),?\"},\n",
    "    {\"Name\": \"learning_rate\", \"Regex\": \"'learning_rate': ([0-9]+(.|e\\-)[0-9]+),?\"},\n",
    "    {\"Name\": \"train_loss\", \"Regex\": \"'train_loss': ([0-9\\\\.]+)\"},\n",
    "    {\"Name\": \"eval_loss\", \"Regex\": \"'eval_loss': ([0-9]+(.|e\\-)[0-9]+),?\"},\n",
    "    {\"Name\": \"eval_accuracy\", \"Regex\": \"'eval_accuracy': ([0-9]+(.|e\\-)[0-9]+),?\"},\n",
    "    {\"Name\": \"eval_f1\", \"Regex\": \"'eval_f1': ([0-9]+(.|e\\-)[0-9]+),?\"},\n",
    "    {\"Name\": \"eval_precision\", \"Regex\": \"'eval_precision': ([0-9]+(.|e\\-)[0-9]+),?\"},\n",
    "    {\"Name\": \"eval_recall\", \"Regex\": \"'eval_recall': ([0-9]+(.|e\\-)[0-9]+),?\"},\n",
    "    {\"Name\": \"eval_runtime\", \"Regex\": \"'eval_runtime': ([0-9]+(.|e\\-)[0-9]+),?\"},\n",
    "    {\n",
    "        \"Name\": \"eval_samples_per_second\",\n",
    "        \"Regex\": \"'eval_samples_per_second': ([0-9]+(.|e\\-)[0-9]+),?\",\n",
    "    },\n",
    "    {\"Name\": \"epoch\", \"Regex\": \"'epoch': ([0-9]+(.|e\\-)[0-9]+),?\"},\n",
    "]"
   ]
  },
  {
   "cell_type": "code",
   "execution_count": 12,
   "metadata": {},
   "outputs": [
    {
     "name": "stdout",
     "output_type": "stream",
     "text": [
      "sagemaker.config INFO - Not applying SDK defaults from location: /etc/xdg/sagemaker/config.yaml\n",
      "sagemaker.config INFO - Not applying SDK defaults from location: /root/.config/sagemaker/config.yaml\n"
     ]
    }
   ],
   "source": [
    "from sagemaker.debugger import rule_configs, Rule, DebuggerHookConfig, CollectionConfig\n",
    "from sagemaker.estimator import Estimator\n",
    "\n",
    "save_interval = 5\n",
    "\n",
    "hf_estimator = HuggingFace(\n",
    "    entry_point=\"train.py\",\n",
    "    source_dir=\"./scripts\",\n",
    "    instance_type=\"ml.p3.16xlarge\",\n",
    "    instance_count=2,\n",
    "    role=role,\n",
    "    transformers_version=\"4.28.1\",\n",
    "    pytorch_version=\"2.0.0\",\n",
    "    datasets_version=\"2.14.5\",\n",
    "    py_version=\"py310\",\n",
    "    hyperparameters=hyperparameters,\n",
    "    metric_definitions=metric_definitions,\n",
    "    s3_output_path=training_input_path + \"/files\",\n",
    "    enable_sagemaker_metrics=True,\n",
    "    distribution={\n",
    "        \"smdistributed\": {\"dataparallel\": {\"enabled\": True}}\n",
    "    },  # Training using SMDataParallel Distributed Training Framework\n",
    "    debugger_hook_config=DebuggerHookConfig(\n",
    "        s3_output_path=f\"s3://{sess.default_bucket()}/{s3_prefix}/train/debug\",  # Required\n",
    "        collection_configs=[\n",
    "            CollectionConfig(name=\"weights\", parameters={\"save_interval\": str(save_interval)}),\n",
    "            CollectionConfig(name=\"biases\", parameters={\"save_interval\": str(save_interval)}),\n",
    "            CollectionConfig(name=\"gradients\", parameters={\"save_interval\": str(save_interval)}),\n",
    "        ],\n",
    "    ),\n",
    "    rules=[\n",
    "        Rule.sagemaker(\n",
    "            rule_configs.loss_not_decreasing(),\n",
    "            rule_parameters={\n",
    "                \"collection_names\": \"metrics\",\n",
    "                \"num_steps\": str(save_interval * 2),\n",
    "            },\n",
    "        ),\n",
    "    ],\n",
    ")"
   ]
  },
  {
   "cell_type": "code",
   "execution_count": 13,
   "metadata": {
    "tags": []
   },
   "outputs": [
    {
     "name": "stderr",
     "output_type": "stream",
     "text": [
      "INFO:sagemaker.image_uris:image_uri is not presented, retrieving image_uri based on instance_type, framework etc.\n"
     ]
    },
    {
     "name": "stdout",
     "output_type": "stream",
     "text": [
      "Using provided s3_resource\n"
     ]
    },
    {
     "name": "stderr",
     "output_type": "stream",
     "text": [
      "INFO:sagemaker:Creating training-job with name: huggingface-pytorch-training-2023-10-13-12-15-16-551\n"
     ]
    }
   ],
   "source": [
    "# Start the training job with the uploaded dataset as input\n",
    "hf_estimator.fit(\n",
    "    {\"train\": training_input_path, \"test\": test_input_path},\n",
    "    # This is a fire and forget event. By setting wait=False, you submit the job to run in the background.\n",
    "    # Amazon SageMaker starts one training job and release control to next cells in the notebook.\n",
    "    # Follow this notebook to see status of the training job.\n",
    "    wait=False,\n",
    ")"
   ]
  },
  {
   "cell_type": "markdown",
   "metadata": {
    "tags": []
   },
   "source": [
    "#### Result"
   ]
  },
  {
   "cell_type": "markdown",
   "metadata": {},
   "source": [
    "As a result of the below command, Amazon SageMaker starts one training job and one rule job for you. The first one is the job that produces the tensors to be analyzed. The second one analyzes the tensors to check if it is not decreasing at any point during training.\n",
    "\n",
    "Check the status of the training job below. After your training job is started, Amazon SageMaker starts a rule-execution job to run the LossNotDecreasing rule.\n",
    "\n",
    "Note that the next cell blocks until the rule execution job ends. You can stop it at any point to proceed to the rest of the notebook. Once it says Rule Evaluation Status is Started, and shows the `RuleEvaluationJobArn`, you can look at the status of the rule being monitored.\n",
    "\n",
    "Note that the execution of the below cell will take around 30 minutes."
   ]
  },
  {
   "cell_type": "code",
   "execution_count": 14,
   "metadata": {
    "tags": []
   },
   "outputs": [
    {
     "name": "stdout",
     "output_type": "stream",
     "text": [
      "Training job name: huggingface-pytorch-training-2023-10-13-12-15-16-551\n",
      "InProgress\n",
      "12:15:17: InProgress, Starting, InProgress\n",
      "12:15:32: InProgress, Starting, InProgress\n",
      "12:15:47: InProgress, Starting, InProgress\n",
      "12:16:02: InProgress, Starting, InProgress\n",
      "12:16:18: InProgress, Starting, InProgress\n",
      "12:16:33: InProgress, Starting, InProgress\n",
      "12:16:48: InProgress, Starting, InProgress\n",
      "12:17:03: InProgress, Starting, InProgress\n",
      "12:17:18: InProgress, Starting, InProgress\n",
      "12:17:33: InProgress, Downloading, InProgress\n",
      "12:17:48: InProgress, Downloading, InProgress\n",
      "12:18:03: InProgress, Downloading, InProgress\n",
      "12:18:18: InProgress, Training, InProgress\n",
      "12:18:33: InProgress, Training, InProgress\n",
      "12:18:48: InProgress, Training, InProgress\n",
      "12:19:03: InProgress, Training, InProgress\n",
      "12:19:19: InProgress, Training, InProgress\n",
      "12:19:34: InProgress, Training, InProgress\n",
      "12:19:49: InProgress, Training, InProgress\n",
      "12:20:04: InProgress, Training, InProgress\n",
      "12:20:19: InProgress, Training, InProgress\n",
      "12:20:34: InProgress, Training, InProgress\n",
      "12:20:49: InProgress, Training, InProgress\n",
      "12:21:04: InProgress, Training, InProgress\n",
      "12:21:19: InProgress, Training, InProgress\n",
      "12:21:34: InProgress, Training, InProgress\n",
      "12:21:50: InProgress, Training, InProgress\n",
      "12:22:05: InProgress, Training, InProgress\n",
      "12:22:20: InProgress, Training, InProgress\n",
      "12:22:35: InProgress, Training, InProgress\n",
      "12:22:50: InProgress, Training, InProgress\n",
      "12:23:05: InProgress, Training, InProgress\n",
      "12:23:20: InProgress, Training, InProgress\n",
      "12:23:35: InProgress, Training, InProgress\n",
      "12:23:50: InProgress, Training, InProgress\n",
      "12:24:05: InProgress, Training, InProgress\n",
      "12:24:21: InProgress, Training, InProgress\n",
      "12:24:36: InProgress, Training, InProgress\n",
      "12:24:51: InProgress, Training, InProgress\n",
      "12:25:06: InProgress, Training, InProgress\n",
      "12:25:21: InProgress, Training, InProgress\n",
      "12:25:36: InProgress, Training, InProgress\n",
      "12:25:51: InProgress, Training, InProgress\n",
      "12:26:06: InProgress, Training, InProgress\n",
      "12:26:21: InProgress, Training, InProgress\n",
      "12:26:36: InProgress, Training, InProgress\n",
      "12:26:51: InProgress, Training, InProgress\n",
      "12:27:07: InProgress, Training, InProgress\n",
      "12:27:22: InProgress, Training, InProgress\n",
      "12:27:37: InProgress, Training, InProgress\n",
      "12:27:52: InProgress, Training, InProgress\n",
      "12:28:07: InProgress, Training, InProgress\n",
      "12:28:22: InProgress, Training, InProgress\n",
      "12:28:37: InProgress, Training, InProgress\n",
      "12:28:52: InProgress, Training, InProgress\n",
      "12:29:07: InProgress, Uploading, InProgress\n",
      "12:29:22: InProgress, Uploading, InProgress\n",
      "12:29:38: InProgress, Uploading, InProgress\n",
      "12:29:53: InProgress, Uploading, InProgress\n",
      "12:30:08: InProgress, Uploading, InProgress\n",
      "12:30:23: InProgress, Uploading, InProgress\n",
      "12:30:38: InProgress, Uploading, InProgress\n",
      "12:30:53: InProgress, Uploading, InProgress\n",
      "12:31:08: InProgress, Uploading, InProgress\n",
      "12:31:23: InProgress, Uploading, InProgress\n",
      "12:31:38: InProgress, Uploading, InProgress\n",
      "12:31:53: InProgress, Uploading, InProgress\n",
      "12:32:08: InProgress, Uploading, InProgress\n",
      "12:32:24: InProgress, Uploading, InProgress\n",
      "12:32:39: InProgress, Uploading, InProgress\n",
      "12:32:54: InProgress, Uploading, InProgress\n",
      "12:33:09: InProgress, Uploading, InProgress\n",
      "12:33:24: InProgress, Uploading, InProgress\n",
      "12:33:39: InProgress, Uploading, InProgress\n",
      "12:33:54: InProgress, Uploading, InProgress\n",
      "12:34:09: InProgress, Uploading, InProgress\n",
      "12:34:24: InProgress, Uploading, InProgress\n",
      "12:34:40: InProgress, Uploading, InProgress\n",
      "12:34:55: InProgress, Uploading, InProgress\n",
      "12:35:10: InProgress, Uploading, InProgress\n",
      "12:35:25: InProgress, Uploading, InProgress\n",
      "12:35:40: InProgress, Uploading, InProgress\n",
      "12:35:55: InProgress, Uploading, InProgress\n",
      "12:36:10: InProgress, Uploading, InProgress\n",
      "12:36:25: InProgress, Uploading, InProgress\n",
      "12:36:40: InProgress, Uploading, InProgress\n",
      "12:36:55: InProgress, Uploading, InProgress\n",
      "12:37:11: InProgress, Uploading, InProgress\n",
      "12:37:26: InProgress, Uploading, InProgress\n",
      "12:37:41: InProgress, Uploading, InProgress\n",
      "12:37:56: InProgress, Uploading, InProgress\n",
      "12:38:11: InProgress, Uploading, InProgress\n",
      "12:38:26: InProgress, Uploading, InProgress\n",
      "12:38:41: InProgress, Uploading, InProgress\n",
      "12:38:56: InProgress, Uploading, InProgress\n",
      "12:39:11: InProgress, Uploading, InProgress\n",
      "12:39:26: InProgress, Uploading, InProgress\n",
      "12:39:42: InProgress, Uploading, InProgress\n",
      "12:39:57: InProgress, Uploading, InProgress\n",
      "12:40:12: InProgress, Uploading, InProgress\n",
      "12:40:27: InProgress, Uploading, InProgress\n",
      "12:40:42: InProgress, Uploading, InProgress\n",
      "12:40:57: InProgress, Uploading, InProgress\n",
      "12:41:12: InProgress, Uploading, InProgress\n",
      "12:41:27: InProgress, Uploading, InProgress\n",
      "12:41:42: InProgress, Uploading, InProgress\n",
      "12:41:57: InProgress, Uploading, InProgress\n",
      "12:42:13: InProgress, Uploading, InProgress\n",
      "12:42:28: InProgress, Uploading, InProgress\n",
      "12:42:43: InProgress, Uploading, InProgress\n",
      "12:42:58: InProgress, Uploading, InProgress\n",
      "12:43:13: InProgress, Uploading, InProgress\n",
      "12:43:28: InProgress, Uploading, InProgress\n",
      "12:43:43: InProgress, Uploading, InProgress\n",
      "12:43:58: InProgress, Uploading, InProgress\n",
      "12:44:13: InProgress, Uploading, InProgress\n",
      "12:44:28: InProgress, Uploading, InProgress\n",
      "12:44:44: InProgress, Uploading, InProgress\n",
      "12:44:59: InProgress, Uploading, InProgress\n",
      "12:45:14: InProgress, Uploading, InProgress\n",
      "12:45:29: InProgress, Uploading, InProgress\n",
      "12:45:44: InProgress, Uploading, InProgress\n",
      "12:45:59: InProgress, Uploading, InProgress\n",
      "12:46:14: InProgress, Uploading, InProgress\n",
      "12:46:29: InProgress, Uploading, InProgress\n",
      "12:46:44: InProgress, Uploading, InProgress\n",
      "12:46:59: InProgress, Uploading, InProgress\n",
      "12:47:15: Completed, Completed, InProgress\n",
      "12:47:30: Completed, Completed, InProgress\n",
      "12:47:45: Completed, Completed, NoIssuesFound\n"
     ]
    }
   ],
   "source": [
    "import time\n",
    "from time import gmtime, strftime\n",
    "\n",
    "# Below command will give the status of training job\n",
    "job_name = hf_estimator.latest_training_job.name\n",
    "client = hf_estimator.sagemaker_session.sagemaker_client\n",
    "description = client.describe_training_job(TrainingJobName=job_name)\n",
    "rule_job_summary = hf_estimator.latest_training_job.rule_job_summary()\n",
    "rule_evaluation_status = rule_job_summary[0][\"RuleEvaluationStatus\"]\n",
    "print(\"Training job name: \" + job_name)\n",
    "print(description[\"TrainingJobStatus\"])\n",
    "\n",
    "if description[\"TrainingJobStatus\"] != \"Completed\" or rule_evaluation_status not in [\n",
    "    \"IssuesFound\",\n",
    "    \"NoIssuesFound\",\n",
    "    \"Failed\",\n",
    "    \"Stopped\",\n",
    "]:\n",
    "    while (\n",
    "        description[\"SecondaryStatus\"] not in [\"Training\", \"Completed\", \"Failed\", \"Stopped\"]\n",
    "    ) or (rule_job_summary[0][\"RuleEvaluationStatus\"] == \"InProgress\"):\n",
    "        description = client.describe_training_job(TrainingJobName=job_name)\n",
    "        primary_status = description[\"TrainingJobStatus\"]\n",
    "        secondary_status = description[\"SecondaryStatus\"]\n",
    "        rule_job_summary = hf_estimator.latest_training_job.rule_job_summary()\n",
    "        rule_evaluation_status = rule_job_summary[0][\"RuleEvaluationStatus\"]\n",
    "        print(\n",
    "            \"{}: {}, {}, {}\".format(\n",
    "                strftime(\"%X\", gmtime()),\n",
    "                primary_status,\n",
    "                secondary_status,\n",
    "                rule_evaluation_status,\n",
    "            )\n",
    "        )\n",
    "        time.sleep(15)"
   ]
  },
  {
   "cell_type": "markdown",
   "metadata": {
    "tags": []
   },
   "source": [
    "### Check the status of the Rule Evaluation Job"
   ]
  },
  {
   "cell_type": "markdown",
   "metadata": {},
   "source": [
    "To get the rule evaluation job that Amazon SageMaker started for you, run the command below. The results show you the `RuleConfigurationName`, `RuleEvaluationJobArn`, `RuleEvaluationStatus`, `StatusDetails`, and `RuleEvaluationJobArn`. If the model parameters meet a rule evaluation condition, the rule execution job throws a client error with `RuleEvaluationConditionMet`.\n",
    "\n",
    "The logs of the rule evaluation job are available in the CloudWatch Log Stream `/aws/sagemaker/ProcessingJobs` with `RuleEvaluationJobArn`."
   ]
  },
  {
   "cell_type": "code",
   "execution_count": 15,
   "metadata": {},
   "outputs": [
    {
     "data": {
      "text/plain": [
       "{'RuleConfigurationName': 'LossNotDecreasing',\n",
       " 'RuleEvaluationJobArn': 'arn:aws:sagemaker:us-east-1:000000000000:processing-job/huggingface-pytorch-traini-LossNotDecreasing-bf572596',\n",
       " 'RuleEvaluationStatus': 'NoIssuesFound',\n",
       " 'LastModifiedTime': datetime.datetime(2023, 10, 13, 12, 47, 35, 970000, tzinfo=tzlocal())}"
      ]
     },
     "execution_count": 15,
     "metadata": {},
     "output_type": "execute_result"
    }
   ],
   "source": [
    "hf_estimator.latest_training_job.rule_job_summary()[0]"
   ]
  },
  {
   "cell_type": "markdown",
   "metadata": {},
   "source": [
    "## Data Analysis - Manual\n",
    "\n",
    "Now that you've trained the system, you can analyze the data. Here, you focus on after-the-fact analysis.\n",
    "\n",
    "You import a basic analysis library, which defines the concept of trial, which represents a single training run."
   ]
  },
  {
   "cell_type": "code",
   "execution_count": 16,
   "metadata": {
    "tags": []
   },
   "outputs": [
    {
     "name": "stdout",
     "output_type": "stream",
     "text": [
      "[2023-10-13 12:48:00.363 pytorch-1-1-ml-t3-medi-auto-shutdo-64985dc1451db92d1184eceef135:354 INFO utils.py:28] RULE_JOB_STOP_SIGNAL_FILENAME: None\n",
      "[2023-10-13 12:48:00.388 pytorch-1-1-ml-t3-medi-auto-shutdo-64985dc1451db92d1184eceef135:354 INFO s3_trial.py:42] Loading trial debug-output at path s3://sagemaker-us-east-1-000000000000/DEMO-sentiment/datasets/sst2/train/debug/huggingface-pytorch-training-2023-10-13-12-15-16-551/debug-output\n"
     ]
    }
   ],
   "source": [
    "from smdebug.trials import create_trial\n",
    "\n",
    "path = hf_estimator.latest_job_debugger_artifacts_path()\n",
    "smdebug_trial = create_trial(path)"
   ]
  },
  {
   "cell_type": "code",
   "execution_count": 17,
   "metadata": {
    "tags": []
   },
   "outputs": [
    {
     "name": "stdout",
     "output_type": "stream",
     "text": [
      "[2023-10-13 12:48:05.137 pytorch-1-1-ml-t3-medi-auto-shutdo-64985dc1451db92d1184eceef135:354 INFO s3_trial.py:42] Loading trial debug-output at path s3://sagemaker-us-east-1-000000000000/DEMO-sentiment/datasets/sst2/train/debug/huggingface-pytorch-training-2023-10-13-12-15-16-551/debug-output\n"
     ]
    }
   ],
   "source": [
    "# cell 18\n",
    "from smdebug.trials import create_trial\n",
    "\n",
    "description = client.describe_training_job(TrainingJobName=job_name)\n",
    "s3_output_path = hf_estimator.latest_job_debugger_artifacts_path()\n",
    "\n",
    "# This is where we create a Trial object that allows access to saved tensors.\n",
    "trial = create_trial(s3_output_path)"
   ]
  },
  {
   "cell_type": "markdown",
   "metadata": {},
   "source": [
    "You can list all the tensors that you know something about. Each one of these names is the name of a tensor. The name is a combination of the feature name, and whether it is a weight, bias, gradient, or loss value."
   ]
  },
  {
   "cell_type": "code",
   "execution_count": 18,
   "metadata": {
    "tags": []
   },
   "outputs": [
    {
     "name": "stdout",
     "output_type": "stream",
     "text": [
      "[2023-10-13 12:48:07.607 pytorch-1-1-ml-t3-medi-auto-shutdo-64985dc1451db92d1184eceef135:354 INFO trial.py:197] Training has ended, will refresh one final time in 1 sec.\n",
      "[2023-10-13 12:48:08.628 pytorch-1-1-ml-t3-medi-auto-shutdo-64985dc1451db92d1184eceef135:354 INFO trial.py:210] Loaded all steps\n"
     ]
    },
    {
     "data": {
      "text/plain": [
       "['DistilBertForSequenceClassification_classifier.bias',\n",
       " 'DistilBertForSequenceClassification_classifier.weight',\n",
       " 'DistilBertForSequenceClassification_distilbert.embeddings.LayerNorm.bias',\n",
       " 'DistilBertForSequenceClassification_distilbert.embeddings.LayerNorm.weight',\n",
       " 'DistilBertForSequenceClassification_distilbert.embeddings.position_embeddings.weight',\n",
       " 'DistilBertForSequenceClassification_distilbert.embeddings.word_embeddings.weight',\n",
       " 'DistilBertForSequenceClassification_distilbert.transformer.layer.0.attention.k_lin.bias',\n",
       " 'DistilBertForSequenceClassification_distilbert.transformer.layer.0.attention.k_lin.weight',\n",
       " 'DistilBertForSequenceClassification_distilbert.transformer.layer.0.attention.out_lin.bias',\n",
       " 'DistilBertForSequenceClassification_distilbert.transformer.layer.0.attention.out_lin.weight',\n",
       " 'DistilBertForSequenceClassification_distilbert.transformer.layer.0.attention.q_lin.bias',\n",
       " 'DistilBertForSequenceClassification_distilbert.transformer.layer.0.attention.q_lin.weight',\n",
       " 'DistilBertForSequenceClassification_distilbert.transformer.layer.0.attention.v_lin.bias',\n",
       " 'DistilBertForSequenceClassification_distilbert.transformer.layer.0.attention.v_lin.weight',\n",
       " 'DistilBertForSequenceClassification_distilbert.transformer.layer.0.ffn.lin1.bias',\n",
       " 'DistilBertForSequenceClassification_distilbert.transformer.layer.0.ffn.lin1.weight',\n",
       " 'DistilBertForSequenceClassification_distilbert.transformer.layer.0.ffn.lin2.bias',\n",
       " 'DistilBertForSequenceClassification_distilbert.transformer.layer.0.ffn.lin2.weight',\n",
       " 'DistilBertForSequenceClassification_distilbert.transformer.layer.0.output_layer_norm.bias',\n",
       " 'DistilBertForSequenceClassification_distilbert.transformer.layer.0.output_layer_norm.weight',\n",
       " 'DistilBertForSequenceClassification_distilbert.transformer.layer.0.sa_layer_norm.bias',\n",
       " 'DistilBertForSequenceClassification_distilbert.transformer.layer.0.sa_layer_norm.weight',\n",
       " 'DistilBertForSequenceClassification_distilbert.transformer.layer.1.attention.k_lin.bias',\n",
       " 'DistilBertForSequenceClassification_distilbert.transformer.layer.1.attention.k_lin.weight',\n",
       " 'DistilBertForSequenceClassification_distilbert.transformer.layer.1.attention.out_lin.bias',\n",
       " 'DistilBertForSequenceClassification_distilbert.transformer.layer.1.attention.out_lin.weight',\n",
       " 'DistilBertForSequenceClassification_distilbert.transformer.layer.1.attention.q_lin.bias',\n",
       " 'DistilBertForSequenceClassification_distilbert.transformer.layer.1.attention.q_lin.weight',\n",
       " 'DistilBertForSequenceClassification_distilbert.transformer.layer.1.attention.v_lin.bias',\n",
       " 'DistilBertForSequenceClassification_distilbert.transformer.layer.1.attention.v_lin.weight',\n",
       " 'DistilBertForSequenceClassification_distilbert.transformer.layer.1.ffn.lin1.bias',\n",
       " 'DistilBertForSequenceClassification_distilbert.transformer.layer.1.ffn.lin1.weight',\n",
       " 'DistilBertForSequenceClassification_distilbert.transformer.layer.1.ffn.lin2.bias',\n",
       " 'DistilBertForSequenceClassification_distilbert.transformer.layer.1.ffn.lin2.weight',\n",
       " 'DistilBertForSequenceClassification_distilbert.transformer.layer.1.output_layer_norm.bias',\n",
       " 'DistilBertForSequenceClassification_distilbert.transformer.layer.1.output_layer_norm.weight',\n",
       " 'DistilBertForSequenceClassification_distilbert.transformer.layer.1.sa_layer_norm.bias',\n",
       " 'DistilBertForSequenceClassification_distilbert.transformer.layer.1.sa_layer_norm.weight',\n",
       " 'DistilBertForSequenceClassification_distilbert.transformer.layer.2.attention.k_lin.bias',\n",
       " 'DistilBertForSequenceClassification_distilbert.transformer.layer.2.attention.k_lin.weight',\n",
       " 'DistilBertForSequenceClassification_distilbert.transformer.layer.2.attention.out_lin.bias',\n",
       " 'DistilBertForSequenceClassification_distilbert.transformer.layer.2.attention.out_lin.weight',\n",
       " 'DistilBertForSequenceClassification_distilbert.transformer.layer.2.attention.q_lin.bias',\n",
       " 'DistilBertForSequenceClassification_distilbert.transformer.layer.2.attention.q_lin.weight',\n",
       " 'DistilBertForSequenceClassification_distilbert.transformer.layer.2.attention.v_lin.bias',\n",
       " 'DistilBertForSequenceClassification_distilbert.transformer.layer.2.attention.v_lin.weight',\n",
       " 'DistilBertForSequenceClassification_distilbert.transformer.layer.2.ffn.lin1.bias',\n",
       " 'DistilBertForSequenceClassification_distilbert.transformer.layer.2.ffn.lin1.weight',\n",
       " 'DistilBertForSequenceClassification_distilbert.transformer.layer.2.ffn.lin2.bias',\n",
       " 'DistilBertForSequenceClassification_distilbert.transformer.layer.2.ffn.lin2.weight',\n",
       " 'DistilBertForSequenceClassification_distilbert.transformer.layer.2.output_layer_norm.bias',\n",
       " 'DistilBertForSequenceClassification_distilbert.transformer.layer.2.output_layer_norm.weight',\n",
       " 'DistilBertForSequenceClassification_distilbert.transformer.layer.2.sa_layer_norm.bias',\n",
       " 'DistilBertForSequenceClassification_distilbert.transformer.layer.2.sa_layer_norm.weight',\n",
       " 'DistilBertForSequenceClassification_distilbert.transformer.layer.3.attention.k_lin.bias',\n",
       " 'DistilBertForSequenceClassification_distilbert.transformer.layer.3.attention.k_lin.weight',\n",
       " 'DistilBertForSequenceClassification_distilbert.transformer.layer.3.attention.out_lin.bias',\n",
       " 'DistilBertForSequenceClassification_distilbert.transformer.layer.3.attention.out_lin.weight',\n",
       " 'DistilBertForSequenceClassification_distilbert.transformer.layer.3.attention.q_lin.bias',\n",
       " 'DistilBertForSequenceClassification_distilbert.transformer.layer.3.attention.q_lin.weight',\n",
       " 'DistilBertForSequenceClassification_distilbert.transformer.layer.3.attention.v_lin.bias',\n",
       " 'DistilBertForSequenceClassification_distilbert.transformer.layer.3.attention.v_lin.weight',\n",
       " 'DistilBertForSequenceClassification_distilbert.transformer.layer.3.ffn.lin1.bias',\n",
       " 'DistilBertForSequenceClassification_distilbert.transformer.layer.3.ffn.lin1.weight',\n",
       " 'DistilBertForSequenceClassification_distilbert.transformer.layer.3.ffn.lin2.bias',\n",
       " 'DistilBertForSequenceClassification_distilbert.transformer.layer.3.ffn.lin2.weight',\n",
       " 'DistilBertForSequenceClassification_distilbert.transformer.layer.3.output_layer_norm.bias',\n",
       " 'DistilBertForSequenceClassification_distilbert.transformer.layer.3.output_layer_norm.weight',\n",
       " 'DistilBertForSequenceClassification_distilbert.transformer.layer.3.sa_layer_norm.bias',\n",
       " 'DistilBertForSequenceClassification_distilbert.transformer.layer.3.sa_layer_norm.weight',\n",
       " 'DistilBertForSequenceClassification_distilbert.transformer.layer.4.attention.k_lin.bias',\n",
       " 'DistilBertForSequenceClassification_distilbert.transformer.layer.4.attention.k_lin.weight',\n",
       " 'DistilBertForSequenceClassification_distilbert.transformer.layer.4.attention.out_lin.bias',\n",
       " 'DistilBertForSequenceClassification_distilbert.transformer.layer.4.attention.out_lin.weight',\n",
       " 'DistilBertForSequenceClassification_distilbert.transformer.layer.4.attention.q_lin.bias',\n",
       " 'DistilBertForSequenceClassification_distilbert.transformer.layer.4.attention.q_lin.weight',\n",
       " 'DistilBertForSequenceClassification_distilbert.transformer.layer.4.attention.v_lin.bias',\n",
       " 'DistilBertForSequenceClassification_distilbert.transformer.layer.4.attention.v_lin.weight',\n",
       " 'DistilBertForSequenceClassification_distilbert.transformer.layer.4.ffn.lin1.bias',\n",
       " 'DistilBertForSequenceClassification_distilbert.transformer.layer.4.ffn.lin1.weight',\n",
       " 'DistilBertForSequenceClassification_distilbert.transformer.layer.4.ffn.lin2.bias',\n",
       " 'DistilBertForSequenceClassification_distilbert.transformer.layer.4.ffn.lin2.weight',\n",
       " 'DistilBertForSequenceClassification_distilbert.transformer.layer.4.output_layer_norm.bias',\n",
       " 'DistilBertForSequenceClassification_distilbert.transformer.layer.4.output_layer_norm.weight',\n",
       " 'DistilBertForSequenceClassification_distilbert.transformer.layer.4.sa_layer_norm.bias',\n",
       " 'DistilBertForSequenceClassification_distilbert.transformer.layer.4.sa_layer_norm.weight',\n",
       " 'DistilBertForSequenceClassification_distilbert.transformer.layer.5.attention.k_lin.bias',\n",
       " 'DistilBertForSequenceClassification_distilbert.transformer.layer.5.attention.k_lin.weight',\n",
       " 'DistilBertForSequenceClassification_distilbert.transformer.layer.5.attention.out_lin.bias',\n",
       " 'DistilBertForSequenceClassification_distilbert.transformer.layer.5.attention.out_lin.weight',\n",
       " 'DistilBertForSequenceClassification_distilbert.transformer.layer.5.attention.q_lin.bias',\n",
       " 'DistilBertForSequenceClassification_distilbert.transformer.layer.5.attention.q_lin.weight',\n",
       " 'DistilBertForSequenceClassification_distilbert.transformer.layer.5.attention.v_lin.bias',\n",
       " 'DistilBertForSequenceClassification_distilbert.transformer.layer.5.attention.v_lin.weight',\n",
       " 'DistilBertForSequenceClassification_distilbert.transformer.layer.5.ffn.lin1.bias',\n",
       " 'DistilBertForSequenceClassification_distilbert.transformer.layer.5.ffn.lin1.weight',\n",
       " 'DistilBertForSequenceClassification_distilbert.transformer.layer.5.ffn.lin2.bias',\n",
       " 'DistilBertForSequenceClassification_distilbert.transformer.layer.5.ffn.lin2.weight',\n",
       " 'DistilBertForSequenceClassification_distilbert.transformer.layer.5.output_layer_norm.bias',\n",
       " 'DistilBertForSequenceClassification_distilbert.transformer.layer.5.output_layer_norm.weight',\n",
       " 'DistilBertForSequenceClassification_distilbert.transformer.layer.5.sa_layer_norm.bias',\n",
       " 'DistilBertForSequenceClassification_distilbert.transformer.layer.5.sa_layer_norm.weight',\n",
       " 'DistilBertForSequenceClassification_pre_classifier.bias',\n",
       " 'DistilBertForSequenceClassification_pre_classifier.weight',\n",
       " 'gradient/DistilBertForSequenceClassification_classifier.bias',\n",
       " 'gradient/DistilBertForSequenceClassification_classifier.weight',\n",
       " 'gradient/DistilBertForSequenceClassification_distilbert.embeddings.LayerNorm.bias',\n",
       " 'gradient/DistilBertForSequenceClassification_distilbert.embeddings.LayerNorm.weight',\n",
       " 'gradient/DistilBertForSequenceClassification_distilbert.embeddings.position_embeddings.weight',\n",
       " 'gradient/DistilBertForSequenceClassification_distilbert.embeddings.word_embeddings.weight',\n",
       " 'gradient/DistilBertForSequenceClassification_distilbert.transformer.layer.0.attention.k_lin.bias',\n",
       " 'gradient/DistilBertForSequenceClassification_distilbert.transformer.layer.0.attention.k_lin.weight',\n",
       " 'gradient/DistilBertForSequenceClassification_distilbert.transformer.layer.0.attention.out_lin.bias',\n",
       " 'gradient/DistilBertForSequenceClassification_distilbert.transformer.layer.0.attention.out_lin.weight',\n",
       " 'gradient/DistilBertForSequenceClassification_distilbert.transformer.layer.0.attention.q_lin.bias',\n",
       " 'gradient/DistilBertForSequenceClassification_distilbert.transformer.layer.0.attention.q_lin.weight',\n",
       " 'gradient/DistilBertForSequenceClassification_distilbert.transformer.layer.0.attention.v_lin.bias',\n",
       " 'gradient/DistilBertForSequenceClassification_distilbert.transformer.layer.0.attention.v_lin.weight',\n",
       " 'gradient/DistilBertForSequenceClassification_distilbert.transformer.layer.0.ffn.lin1.bias',\n",
       " 'gradient/DistilBertForSequenceClassification_distilbert.transformer.layer.0.ffn.lin1.weight',\n",
       " 'gradient/DistilBertForSequenceClassification_distilbert.transformer.layer.0.ffn.lin2.bias',\n",
       " 'gradient/DistilBertForSequenceClassification_distilbert.transformer.layer.0.ffn.lin2.weight',\n",
       " 'gradient/DistilBertForSequenceClassification_distilbert.transformer.layer.0.output_layer_norm.bias',\n",
       " 'gradient/DistilBertForSequenceClassification_distilbert.transformer.layer.0.output_layer_norm.weight',\n",
       " 'gradient/DistilBertForSequenceClassification_distilbert.transformer.layer.0.sa_layer_norm.bias',\n",
       " 'gradient/DistilBertForSequenceClassification_distilbert.transformer.layer.0.sa_layer_norm.weight',\n",
       " 'gradient/DistilBertForSequenceClassification_distilbert.transformer.layer.1.attention.k_lin.bias',\n",
       " 'gradient/DistilBertForSequenceClassification_distilbert.transformer.layer.1.attention.k_lin.weight',\n",
       " 'gradient/DistilBertForSequenceClassification_distilbert.transformer.layer.1.attention.out_lin.bias',\n",
       " 'gradient/DistilBertForSequenceClassification_distilbert.transformer.layer.1.attention.out_lin.weight',\n",
       " 'gradient/DistilBertForSequenceClassification_distilbert.transformer.layer.1.attention.q_lin.bias',\n",
       " 'gradient/DistilBertForSequenceClassification_distilbert.transformer.layer.1.attention.q_lin.weight',\n",
       " 'gradient/DistilBertForSequenceClassification_distilbert.transformer.layer.1.attention.v_lin.bias',\n",
       " 'gradient/DistilBertForSequenceClassification_distilbert.transformer.layer.1.attention.v_lin.weight',\n",
       " 'gradient/DistilBertForSequenceClassification_distilbert.transformer.layer.1.ffn.lin1.bias',\n",
       " 'gradient/DistilBertForSequenceClassification_distilbert.transformer.layer.1.ffn.lin1.weight',\n",
       " 'gradient/DistilBertForSequenceClassification_distilbert.transformer.layer.1.ffn.lin2.bias',\n",
       " 'gradient/DistilBertForSequenceClassification_distilbert.transformer.layer.1.ffn.lin2.weight',\n",
       " 'gradient/DistilBertForSequenceClassification_distilbert.transformer.layer.1.output_layer_norm.bias',\n",
       " 'gradient/DistilBertForSequenceClassification_distilbert.transformer.layer.1.output_layer_norm.weight',\n",
       " 'gradient/DistilBertForSequenceClassification_distilbert.transformer.layer.1.sa_layer_norm.bias',\n",
       " 'gradient/DistilBertForSequenceClassification_distilbert.transformer.layer.1.sa_layer_norm.weight',\n",
       " 'gradient/DistilBertForSequenceClassification_distilbert.transformer.layer.2.attention.k_lin.bias',\n",
       " 'gradient/DistilBertForSequenceClassification_distilbert.transformer.layer.2.attention.k_lin.weight',\n",
       " 'gradient/DistilBertForSequenceClassification_distilbert.transformer.layer.2.attention.out_lin.bias',\n",
       " 'gradient/DistilBertForSequenceClassification_distilbert.transformer.layer.2.attention.out_lin.weight',\n",
       " 'gradient/DistilBertForSequenceClassification_distilbert.transformer.layer.2.attention.q_lin.bias',\n",
       " 'gradient/DistilBertForSequenceClassification_distilbert.transformer.layer.2.attention.q_lin.weight',\n",
       " 'gradient/DistilBertForSequenceClassification_distilbert.transformer.layer.2.attention.v_lin.bias',\n",
       " 'gradient/DistilBertForSequenceClassification_distilbert.transformer.layer.2.attention.v_lin.weight',\n",
       " 'gradient/DistilBertForSequenceClassification_distilbert.transformer.layer.2.ffn.lin1.bias',\n",
       " 'gradient/DistilBertForSequenceClassification_distilbert.transformer.layer.2.ffn.lin1.weight',\n",
       " 'gradient/DistilBertForSequenceClassification_distilbert.transformer.layer.2.ffn.lin2.bias',\n",
       " 'gradient/DistilBertForSequenceClassification_distilbert.transformer.layer.2.ffn.lin2.weight',\n",
       " 'gradient/DistilBertForSequenceClassification_distilbert.transformer.layer.2.output_layer_norm.bias',\n",
       " 'gradient/DistilBertForSequenceClassification_distilbert.transformer.layer.2.output_layer_norm.weight',\n",
       " 'gradient/DistilBertForSequenceClassification_distilbert.transformer.layer.2.sa_layer_norm.bias',\n",
       " 'gradient/DistilBertForSequenceClassification_distilbert.transformer.layer.2.sa_layer_norm.weight',\n",
       " 'gradient/DistilBertForSequenceClassification_distilbert.transformer.layer.3.attention.k_lin.bias',\n",
       " 'gradient/DistilBertForSequenceClassification_distilbert.transformer.layer.3.attention.k_lin.weight',\n",
       " 'gradient/DistilBertForSequenceClassification_distilbert.transformer.layer.3.attention.out_lin.bias',\n",
       " 'gradient/DistilBertForSequenceClassification_distilbert.transformer.layer.3.attention.out_lin.weight',\n",
       " 'gradient/DistilBertForSequenceClassification_distilbert.transformer.layer.3.attention.q_lin.bias',\n",
       " 'gradient/DistilBertForSequenceClassification_distilbert.transformer.layer.3.attention.q_lin.weight',\n",
       " 'gradient/DistilBertForSequenceClassification_distilbert.transformer.layer.3.attention.v_lin.bias',\n",
       " 'gradient/DistilBertForSequenceClassification_distilbert.transformer.layer.3.attention.v_lin.weight',\n",
       " 'gradient/DistilBertForSequenceClassification_distilbert.transformer.layer.3.ffn.lin1.bias',\n",
       " 'gradient/DistilBertForSequenceClassification_distilbert.transformer.layer.3.ffn.lin1.weight',\n",
       " 'gradient/DistilBertForSequenceClassification_distilbert.transformer.layer.3.ffn.lin2.bias',\n",
       " 'gradient/DistilBertForSequenceClassification_distilbert.transformer.layer.3.ffn.lin2.weight',\n",
       " 'gradient/DistilBertForSequenceClassification_distilbert.transformer.layer.3.output_layer_norm.bias',\n",
       " 'gradient/DistilBertForSequenceClassification_distilbert.transformer.layer.3.output_layer_norm.weight',\n",
       " 'gradient/DistilBertForSequenceClassification_distilbert.transformer.layer.3.sa_layer_norm.bias',\n",
       " 'gradient/DistilBertForSequenceClassification_distilbert.transformer.layer.3.sa_layer_norm.weight',\n",
       " 'gradient/DistilBertForSequenceClassification_distilbert.transformer.layer.4.attention.k_lin.bias',\n",
       " 'gradient/DistilBertForSequenceClassification_distilbert.transformer.layer.4.attention.k_lin.weight',\n",
       " 'gradient/DistilBertForSequenceClassification_distilbert.transformer.layer.4.attention.out_lin.bias',\n",
       " 'gradient/DistilBertForSequenceClassification_distilbert.transformer.layer.4.attention.out_lin.weight',\n",
       " 'gradient/DistilBertForSequenceClassification_distilbert.transformer.layer.4.attention.q_lin.bias',\n",
       " 'gradient/DistilBertForSequenceClassification_distilbert.transformer.layer.4.attention.q_lin.weight',\n",
       " 'gradient/DistilBertForSequenceClassification_distilbert.transformer.layer.4.attention.v_lin.bias',\n",
       " 'gradient/DistilBertForSequenceClassification_distilbert.transformer.layer.4.attention.v_lin.weight',\n",
       " 'gradient/DistilBertForSequenceClassification_distilbert.transformer.layer.4.ffn.lin1.bias',\n",
       " 'gradient/DistilBertForSequenceClassification_distilbert.transformer.layer.4.ffn.lin1.weight',\n",
       " 'gradient/DistilBertForSequenceClassification_distilbert.transformer.layer.4.ffn.lin2.bias',\n",
       " 'gradient/DistilBertForSequenceClassification_distilbert.transformer.layer.4.ffn.lin2.weight',\n",
       " 'gradient/DistilBertForSequenceClassification_distilbert.transformer.layer.4.output_layer_norm.bias',\n",
       " 'gradient/DistilBertForSequenceClassification_distilbert.transformer.layer.4.output_layer_norm.weight',\n",
       " 'gradient/DistilBertForSequenceClassification_distilbert.transformer.layer.4.sa_layer_norm.bias',\n",
       " 'gradient/DistilBertForSequenceClassification_distilbert.transformer.layer.4.sa_layer_norm.weight',\n",
       " 'gradient/DistilBertForSequenceClassification_distilbert.transformer.layer.5.attention.k_lin.bias',\n",
       " 'gradient/DistilBertForSequenceClassification_distilbert.transformer.layer.5.attention.k_lin.weight',\n",
       " 'gradient/DistilBertForSequenceClassification_distilbert.transformer.layer.5.attention.out_lin.bias',\n",
       " 'gradient/DistilBertForSequenceClassification_distilbert.transformer.layer.5.attention.out_lin.weight',\n",
       " 'gradient/DistilBertForSequenceClassification_distilbert.transformer.layer.5.attention.q_lin.bias',\n",
       " 'gradient/DistilBertForSequenceClassification_distilbert.transformer.layer.5.attention.q_lin.weight',\n",
       " 'gradient/DistilBertForSequenceClassification_distilbert.transformer.layer.5.attention.v_lin.bias',\n",
       " 'gradient/DistilBertForSequenceClassification_distilbert.transformer.layer.5.attention.v_lin.weight',\n",
       " 'gradient/DistilBertForSequenceClassification_distilbert.transformer.layer.5.ffn.lin1.bias',\n",
       " 'gradient/DistilBertForSequenceClassification_distilbert.transformer.layer.5.ffn.lin1.weight',\n",
       " 'gradient/DistilBertForSequenceClassification_distilbert.transformer.layer.5.ffn.lin2.bias',\n",
       " 'gradient/DistilBertForSequenceClassification_distilbert.transformer.layer.5.ffn.lin2.weight',\n",
       " 'gradient/DistilBertForSequenceClassification_distilbert.transformer.layer.5.output_layer_norm.bias',\n",
       " 'gradient/DistilBertForSequenceClassification_distilbert.transformer.layer.5.output_layer_norm.weight',\n",
       " 'gradient/DistilBertForSequenceClassification_distilbert.transformer.layer.5.sa_layer_norm.bias',\n",
       " 'gradient/DistilBertForSequenceClassification_distilbert.transformer.layer.5.sa_layer_norm.weight',\n",
       " 'gradient/DistilBertForSequenceClassification_pre_classifier.bias',\n",
       " 'gradient/DistilBertForSequenceClassification_pre_classifier.weight']"
      ]
     },
     "execution_count": 18,
     "metadata": {},
     "output_type": "execute_result"
    }
   ],
   "source": [
    "trial.tensor_names()"
   ]
  },
  {
   "cell_type": "markdown",
   "metadata": {},
   "source": [
    "For each tensor, ask for the steps where you have data. In this case, every five steps"
   ]
  },
  {
   "cell_type": "code",
   "execution_count": 19,
   "metadata": {
    "tags": []
   },
   "outputs": [
    {
     "data": {
      "text/plain": [
       "{0: array([[-0.02830256, -0.0265185 , -0.01370953, ...,  0.0072067 ,\n",
       "          0.04160934, -0.02341137],\n",
       "        [-0.00357319, -0.00753774, -0.00013769, ...,  0.01535792,\n",
       "          0.01157053,  0.00667914]], dtype=float32),\n",
       " 5: array([[-0.02830195, -0.02651859, -0.01371048, ...,  0.00720627,\n",
       "          0.04160879, -0.02341189],\n",
       "        [-0.00357379, -0.00753766, -0.00013674, ...,  0.01535836,\n",
       "          0.01157108,  0.00667966]], dtype=float32),\n",
       " 10: array([[-0.02829978, -0.02651711, -0.0137126 , ...,  0.00720387,\n",
       "          0.04160659, -0.0234125 ],\n",
       "        [-0.00357597, -0.00753913, -0.00013463, ...,  0.01536076,\n",
       "          0.01157328,  0.00668027]], dtype=float32),\n",
       " 15: array([[-0.02829562, -0.02651677, -0.01371575, ...,  0.00719948,\n",
       "          0.04160358, -0.02341062],\n",
       "        [-0.00358013, -0.00753947, -0.00013148, ...,  0.01536515,\n",
       "          0.0115763 ,  0.0066784 ]], dtype=float32),\n",
       " 20: array([[-0.02829102, -0.0265165 , -0.01372071, ...,  0.00719336,\n",
       "          0.04159779, -0.02341359],\n",
       "        [-0.00358473, -0.00753974, -0.00012651, ...,  0.01537127,\n",
       "          0.01158208,  0.00668137]], dtype=float32),\n",
       " 25: array([[-0.02828442, -0.02651451, -0.01372672, ...,  0.00718548,\n",
       "          0.04159126, -0.02341498],\n",
       "        [-0.00359133, -0.00754173, -0.0001205 , ...,  0.01537915,\n",
       "          0.01158862,  0.00668276]], dtype=float32),\n",
       " 30: array([[-0.02827766, -0.02650827, -0.01373466, ...,  0.00717412,\n",
       "          0.04158311, -0.02341475],\n",
       "        [-0.00359809, -0.00754797, -0.00011257, ...,  0.01539051,\n",
       "          0.01159676,  0.00668253]], dtype=float32),\n",
       " 35: array([[-0.02826986, -0.02649725, -0.01374384, ...,  0.00716277,\n",
       "          0.04156974, -0.02340723],\n",
       "        [-0.00360589, -0.00755899, -0.00010339, ...,  0.01540186,\n",
       "          0.01161013,  0.00667501]], dtype=float32),\n",
       " 40: array([[-2.8258463e-02, -2.6480576e-02, -1.3753190e-02, ...,\n",
       "          7.1516982e-03,  4.1557513e-02, -2.3393311e-02],\n",
       "        [-3.6172902e-03, -7.5756665e-03, -9.4033792e-05, ...,\n",
       "          1.5412928e-02,  1.1622357e-02,  6.6610924e-03]], dtype=float32),\n",
       " 45: array([[-2.8246408e-02, -2.6457895e-02, -1.3765284e-02, ...,\n",
       "          7.1405796e-03,  4.1548852e-02, -2.3371888e-02],\n",
       "        [-3.6293457e-03, -7.5983484e-03, -8.1940052e-05, ...,\n",
       "          1.5424047e-02,  1.1631019e-02,  6.6396701e-03]], dtype=float32),\n",
       " 50: array([[-2.8242299e-02, -2.6427904e-02, -1.3785705e-02, ...,\n",
       "          7.1262522e-03,  4.1542288e-02, -2.3343045e-02],\n",
       "        [-3.6334537e-03, -7.6283421e-03, -6.1519808e-05, ...,\n",
       "          1.5438374e-02,  1.1637582e-02,  6.6108257e-03]], dtype=float32),\n",
       " 55: array([[-2.8239202e-02, -2.6390376e-02, -1.3811142e-02, ...,\n",
       "          7.1124788e-03,  4.1546248e-02, -2.3304094e-02],\n",
       "        [-3.6365492e-03, -7.6658684e-03, -3.6082951e-05, ...,\n",
       "          1.5452147e-02,  1.1633624e-02,  6.5718750e-03]], dtype=float32),\n",
       " 60: array([[-2.8236004e-02, -2.6344413e-02, -1.3835684e-02, ...,\n",
       "          7.1025295e-03,  4.1572098e-02, -2.3260178e-02],\n",
       "        [-3.6397490e-03, -7.7118315e-03, -1.1540288e-05, ...,\n",
       "          1.5462097e-02,  1.1607776e-02,  6.5279589e-03]], dtype=float32),\n",
       " 65: array([[-2.8243471e-02, -2.6299484e-02, -1.3870865e-02, ...,\n",
       "          7.0935721e-03,  4.1611321e-02, -2.3216605e-02],\n",
       "        [-3.6322793e-03, -7.7567599e-03,  2.3641111e-05, ...,\n",
       "          1.5471053e-02,  1.1568549e-02,  6.4843860e-03]], dtype=float32),\n",
       " 70: array([[-2.82564349e-02, -2.62518711e-02, -1.39030935e-02, ...,\n",
       "          7.08927121e-03,  4.16613184e-02, -2.31674705e-02],\n",
       "        [-3.61931277e-03, -7.80437421e-03,  5.58693173e-05, ...,\n",
       "          1.54753542e-02,  1.15185548e-02,  6.43525319e-03]], dtype=float32),\n",
       " 75: array([[-2.8282624e-02, -2.6208399e-02, -1.3943051e-02, ...,\n",
       "          7.0855995e-03,  4.1712601e-02, -2.3125118e-02],\n",
       "        [-3.5931242e-03, -7.8478446e-03,  9.5826741e-05, ...,\n",
       "          1.5479025e-02,  1.1467272e-02,  6.3928980e-03]], dtype=float32),\n",
       " 80: array([[-0.02831508, -0.02616789, -0.01398097, ...,  0.00708424,\n",
       "          0.04176285, -0.02308672],\n",
       "        [-0.00356067, -0.00788836,  0.00013375, ...,  0.01548039,\n",
       "          0.01141702,  0.00635449]], dtype=float32),\n",
       " 85: array([[-0.02834273, -0.02613564, -0.0140137 , ...,  0.00708392,\n",
       "          0.04181075, -0.02306368],\n",
       "        [-0.00353302, -0.00792061,  0.00016647, ...,  0.0154807 ,\n",
       "          0.01136912,  0.00633145]], dtype=float32),\n",
       " 90: array([[-0.0283689 , -0.02611035, -0.01404213, ...,  0.0070831 ,\n",
       "          0.04184946, -0.02304928],\n",
       "        [-0.00350685, -0.0079459 ,  0.0001949 , ...,  0.01548153,\n",
       "          0.01133041,  0.00631705]], dtype=float32),\n",
       " 95: array([[-0.02838941, -0.02608962, -0.01404998, ...,  0.0070822 ,\n",
       "          0.04189015, -0.02303557],\n",
       "        [-0.00348634, -0.00796662,  0.00020275, ...,  0.01548242,\n",
       "          0.01128972,  0.00630335]], dtype=float32),\n",
       " 100: array([[-0.02840745, -0.02607432, -0.01406194, ...,  0.00708043,\n",
       "          0.04191452, -0.02302992],\n",
       "        [-0.0034683 , -0.00798192,  0.00021471, ...,  0.0154842 ,\n",
       "          0.01126535,  0.0062977 ]], dtype=float32),\n",
       " 105: array([[-0.02842024, -0.02605785, -0.01406442, ...,  0.00707982,\n",
       "          0.04194264, -0.02301951],\n",
       "        [-0.00345551, -0.00799839,  0.00021719, ...,  0.01548481,\n",
       "          0.01123723,  0.00628729]], dtype=float32),\n",
       " 110: array([[-0.02843769, -0.02604907, -0.01407469, ...,  0.00707866,\n",
       "          0.04196285, -0.0230096 ],\n",
       "        [-0.00343807, -0.00800717,  0.00022746, ...,  0.01548597,\n",
       "          0.01121702,  0.00627738]], dtype=float32),\n",
       " 115: array([[-0.02845344, -0.02604518, -0.01407808, ...,  0.00707582,\n",
       "          0.0419874 , -0.02300036],\n",
       "        [-0.00342231, -0.00801106,  0.00023085, ...,  0.01548881,\n",
       "          0.01119247,  0.00626813]], dtype=float32),\n",
       " 120: array([[-0.02847474, -0.02603782, -0.0140862 , ...,  0.00707135,\n",
       "          0.04200728, -0.02299364],\n",
       "        [-0.00340101, -0.00801841,  0.00023897, ...,  0.01549328,\n",
       "          0.01117258,  0.00626142]], dtype=float32),\n",
       " 125: array([[-0.02849489, -0.02602887, -0.01408256, ...,  0.007069  ,\n",
       "          0.04202611, -0.02298979],\n",
       "        [-0.00338086, -0.00802737,  0.00023533, ...,  0.01549563,\n",
       "          0.01115376,  0.00625756]], dtype=float32),\n",
       " 130: array([[-0.02851237, -0.02602268, -0.01407476, ...,  0.00706732,\n",
       "          0.04204002, -0.02298416],\n",
       "        [-0.00336338, -0.00803355,  0.00022754, ...,  0.0154973 ,\n",
       "          0.01113984,  0.00625194]], dtype=float32),\n",
       " 133: array([[-0.0285192 , -0.02602223, -0.01407488, ...,  0.00706653,\n",
       "          0.04203986, -0.02298314],\n",
       "        [-0.00335655, -0.008034  ,  0.00022765, ...,  0.0154981 ,\n",
       "          0.01114   ,  0.00625092]], dtype=float32),\n",
       " 138: array([[-0.0285256 , -0.02602012, -0.0140663 , ...,  0.00706586,\n",
       "          0.04204733, -0.02297714],\n",
       "        [-0.00335015, -0.00803611,  0.00021907, ...,  0.01549877,\n",
       "          0.01113254,  0.00624491]], dtype=float32),\n",
       " 143: array([[-0.02853444, -0.0260199 , -0.01406104, ...,  0.007064  ,\n",
       "          0.04205234, -0.0229656 ],\n",
       "        [-0.00334131, -0.00803633,  0.00021381, ...,  0.01550062,\n",
       "          0.01112752,  0.00623337]], dtype=float32),\n",
       " 148: array([[-0.02854756, -0.02601508, -0.0140556 , ...,  0.00706143,\n",
       "          0.04206303, -0.02295534],\n",
       "        [-0.00332819, -0.00804116,  0.00020837, ...,  0.0155032 ,\n",
       "          0.01111684,  0.00622311]], dtype=float32),\n",
       " 153: array([[-0.02856224, -0.02600467, -0.01404072, ...,  0.0070587 ,\n",
       "          0.04207961, -0.02294559],\n",
       "        [-0.00331351, -0.00805156,  0.00019349, ...,  0.01550593,\n",
       "          0.01110025,  0.00621337]], dtype=float32),\n",
       " 158: array([[-0.02856599, -0.02599469, -0.01401989, ...,  0.00705763,\n",
       "          0.04210237, -0.02293389],\n",
       "        [-0.00330976, -0.00806154,  0.00017266, ...,  0.015507  ,\n",
       "          0.01107749,  0.00620167]], dtype=float32),\n",
       " 163: array([[-0.02857272, -0.02599201, -0.01400848, ...,  0.00705576,\n",
       "          0.04210769, -0.02292872],\n",
       "        [-0.00330303, -0.00806423,  0.00016125, ...,  0.01550886,\n",
       "          0.01107217,  0.0061965 ]], dtype=float32),\n",
       " 168: array([[-0.02858918, -0.02598651, -0.01399958, ...,  0.00705355,\n",
       "          0.0421134 , -0.02292607],\n",
       "        [-0.00328658, -0.00806973,  0.00015235, ...,  0.01551108,\n",
       "          0.01106646,  0.00619384]], dtype=float32),\n",
       " 173: array([[-0.02861233, -0.02597935, -0.01399507, ...,  0.00705255,\n",
       "          0.04213222, -0.02291725],\n",
       "        [-0.00326342, -0.00807689,  0.00014784, ...,  0.01551208,\n",
       "          0.01104765,  0.00618503]], dtype=float32),\n",
       " 178: array([[-0.02863655, -0.02597354, -0.01400132, ...,  0.00705091,\n",
       "          0.04215661, -0.02290934],\n",
       "        [-0.0032392 , -0.0080827 ,  0.00015409, ...,  0.01551372,\n",
       "          0.01102326,  0.00617712]], dtype=float32),\n",
       " 183: array([[-0.02865354, -0.02596941, -0.01400683, ...,  0.00704956,\n",
       "          0.04218792, -0.02290189],\n",
       "        [-0.00322222, -0.00808683,  0.00015961, ...,  0.01551507,\n",
       "          0.01099194,  0.00616967]], dtype=float32),\n",
       " 188: array([[-0.02867341, -0.0259647 , -0.01401511, ...,  0.00704904,\n",
       "          0.04221107, -0.02289729],\n",
       "        [-0.00320234, -0.00809153,  0.00016788, ...,  0.01551559,\n",
       "          0.01096879,  0.00616507]], dtype=float32),\n",
       " 193: array([[-0.02867635, -0.02595565, -0.01401066, ...,  0.00705201,\n",
       "          0.04223377, -0.02289179],\n",
       "        [-0.00319941, -0.00810059,  0.00016343, ...,  0.01551262,\n",
       "          0.01094609,  0.00615957]], dtype=float32),\n",
       " 198: array([[-0.02868295, -0.02594654, -0.0140157 , ...,  0.00705393,\n",
       "          0.04224052, -0.02288656],\n",
       "        [-0.00319281, -0.0081097 ,  0.00016847, ...,  0.0155107 ,\n",
       "          0.01093934,  0.00615434]], dtype=float32),\n",
       " 203: array([[-0.02869629, -0.02594378, -0.01402415, ...,  0.00705349,\n",
       "          0.04225346, -0.02288288],\n",
       "        [-0.00317946, -0.00811246,  0.00017692, ...,  0.01551114,\n",
       "          0.0109264 ,  0.00615066]], dtype=float32),\n",
       " 208: array([[-0.0287097 , -0.02594495, -0.01403324, ...,  0.00705016,\n",
       "          0.04225594, -0.022884  ],\n",
       "        [-0.00316605, -0.00811128,  0.00018601, ...,  0.01551447,\n",
       "          0.01092392,  0.00615178]], dtype=float32),\n",
       " 213: array([[-0.02871933, -0.02593718, -0.01403209, ...,  0.00704755,\n",
       "          0.04225735, -0.02288047],\n",
       "        [-0.00315642, -0.00811906,  0.00018487, ...,  0.01551708,\n",
       "          0.01092251,  0.00614825]], dtype=float32),\n",
       " 218: array([[-0.02872739, -0.02593051, -0.01402393, ...,  0.00704772,\n",
       "          0.04227375, -0.02287837],\n",
       "        [-0.00314836, -0.00812572,  0.0001767 , ...,  0.01551691,\n",
       "          0.0109061 ,  0.00614615]], dtype=float32),\n",
       " 223: array([[-0.02873997, -0.0259281 , -0.01401314, ...,  0.00704818,\n",
       "          0.04229606, -0.02287427],\n",
       "        [-0.00313578, -0.00812814,  0.00016591, ...,  0.01551644,\n",
       "          0.01088379,  0.00614205]], dtype=float32),\n",
       " 228: array([[-0.02875931, -0.02593011, -0.01400796, ...,  0.00704465,\n",
       "          0.04231292, -0.02286942],\n",
       "        [-0.00311644, -0.00812613,  0.00016073, ...,  0.01551998,\n",
       "          0.01086694,  0.0061372 ]], dtype=float32),\n",
       " 233: array([[-0.02876583, -0.02593462, -0.01400215, ...,  0.00704177,\n",
       "          0.04231741, -0.02286513],\n",
       "        [-0.00310992, -0.00812162,  0.00015492, ...,  0.01552286,\n",
       "          0.01086245,  0.00613291]], dtype=float32),\n",
       " 238: array([[-0.02878086, -0.025954  , -0.01400897, ...,  0.00703626,\n",
       "          0.04230765, -0.02286634],\n",
       "        [-0.00309489, -0.00810224,  0.00016174, ...,  0.01552837,\n",
       "          0.0108722 ,  0.00613412]], dtype=float32),\n",
       " 243: array([[-0.02878607, -0.02596157, -0.0140046 , ...,  0.0070335 ,\n",
       "          0.04232063, -0.02286232],\n",
       "        [-0.00308968, -0.00809467,  0.00015737, ...,  0.01553113,\n",
       "          0.01085922,  0.0061301 ]], dtype=float32),\n",
       " 248: array([[-0.0287865 , -0.02597137, -0.01400545, ...,  0.00702853,\n",
       "          0.04233904, -0.02286091],\n",
       "        [-0.00308925, -0.00808487,  0.00015822, ...,  0.0155361 ,\n",
       "          0.01084081,  0.00612869]], dtype=float32),\n",
       " 253: array([[-0.02878446, -0.02596973, -0.01399607, ...,  0.00702538,\n",
       "          0.04236811, -0.0228531 ],\n",
       "        [-0.00309129, -0.00808651,  0.00014884, ...,  0.01553924,\n",
       "          0.01081173,  0.00612087]], dtype=float32),\n",
       " 258: array([[-0.02877512, -0.02596643, -0.01400241, ...,  0.00702359,\n",
       "          0.04236539, -0.02285043],\n",
       "        [-0.00310063, -0.0080898 ,  0.00015518, ...,  0.01554104,\n",
       "          0.01081446,  0.00611821]], dtype=float32),\n",
       " 263: array([[-0.02876903, -0.02596973, -0.01401041, ...,  0.00701756,\n",
       "          0.04237023, -0.02285611],\n",
       "        [-0.00310672, -0.0080865 ,  0.00016318, ...,  0.01554707,\n",
       "          0.01080961,  0.00612389]], dtype=float32),\n",
       " 268: array([[-0.02877368, -0.02597016, -0.01400751, ...,  0.00701567,\n",
       "          0.04236562, -0.02286424],\n",
       "        [-0.00310207, -0.00808607,  0.00016028, ...,  0.01554895,\n",
       "          0.01081423,  0.00613202]], dtype=float32)}"
      ]
     },
     "execution_count": 19,
     "metadata": {},
     "output_type": "execute_result"
    }
   ],
   "source": [
    "trial.tensor(\"DistilBertForSequenceClassification_classifier.weight\").values()"
   ]
  },
  {
   "cell_type": "markdown",
   "metadata": {},
   "source": [
    "These saved collections of weights, biases, gradients and losses into S3 allow us to analyze these over the course of the training job, allowing us to refine the model where necessary.\n",
    "\n",
    "Additionally, we can produce a table that produces the metrics recorded from the `metrics_definitions` dictionary we created earlier, as well as visualize them over time. Here, we visualize the loss, as well as the evaluation loss, accuracy, and precision."
   ]
  },
  {
   "cell_type": "code",
   "execution_count": 20,
   "metadata": {
    "tags": []
   },
   "outputs": [
    {
     "name": "stdout",
     "output_type": "stream",
     "text": [
      "sagemaker.config INFO - Not applying SDK defaults from location: /etc/xdg/sagemaker/config.yaml\n",
      "sagemaker.config INFO - Not applying SDK defaults from location: /root/.config/sagemaker/config.yaml\n"
     ]
    },
    {
     "data": {
      "text/html": [
       "<div>\n",
       "<style scoped>\n",
       "    .dataframe tbody tr th:only-of-type {\n",
       "        vertical-align: middle;\n",
       "    }\n",
       "\n",
       "    .dataframe tbody tr th {\n",
       "        vertical-align: top;\n",
       "    }\n",
       "\n",
       "    .dataframe thead th {\n",
       "        text-align: right;\n",
       "    }\n",
       "</style>\n",
       "<table border=\"1\" class=\"dataframe\">\n",
       "  <thead>\n",
       "    <tr style=\"text-align: right;\">\n",
       "      <th></th>\n",
       "      <th>timestamp</th>\n",
       "      <th>metric_name</th>\n",
       "      <th>value</th>\n",
       "    </tr>\n",
       "  </thead>\n",
       "  <tbody>\n",
       "    <tr>\n",
       "      <th>0</th>\n",
       "      <td>0.0</td>\n",
       "      <td>loss</td>\n",
       "      <td>0.656600</td>\n",
       "    </tr>\n",
       "    <tr>\n",
       "      <th>1</th>\n",
       "      <td>60.0</td>\n",
       "      <td>loss</td>\n",
       "      <td>0.348333</td>\n",
       "    </tr>\n",
       "    <tr>\n",
       "      <th>2</th>\n",
       "      <td>120.0</td>\n",
       "      <td>loss</td>\n",
       "      <td>0.240250</td>\n",
       "    </tr>\n",
       "    <tr>\n",
       "      <th>3</th>\n",
       "      <td>180.0</td>\n",
       "      <td>loss</td>\n",
       "      <td>0.196567</td>\n",
       "    </tr>\n",
       "    <tr>\n",
       "      <th>4</th>\n",
       "      <td>0.0</td>\n",
       "      <td>learning_rate</td>\n",
       "      <td>2.000002</td>\n",
       "    </tr>\n",
       "    <tr>\n",
       "      <th>5</th>\n",
       "      <td>60.0</td>\n",
       "      <td>learning_rate</td>\n",
       "      <td>3.066670</td>\n",
       "    </tr>\n",
       "    <tr>\n",
       "      <th>6</th>\n",
       "      <td>120.0</td>\n",
       "      <td>learning_rate</td>\n",
       "      <td>1.200005</td>\n",
       "    </tr>\n",
       "    <tr>\n",
       "      <th>7</th>\n",
       "      <td>180.0</td>\n",
       "      <td>learning_rate</td>\n",
       "      <td>2.400000</td>\n",
       "    </tr>\n",
       "    <tr>\n",
       "      <th>8</th>\n",
       "      <td>0.0</td>\n",
       "      <td>train_loss</td>\n",
       "      <td>0.347536</td>\n",
       "    </tr>\n",
       "    <tr>\n",
       "      <th>9</th>\n",
       "      <td>0.0</td>\n",
       "      <td>eval_loss</td>\n",
       "      <td>0.279655</td>\n",
       "    </tr>\n",
       "    <tr>\n",
       "      <th>10</th>\n",
       "      <td>60.0</td>\n",
       "      <td>eval_loss</td>\n",
       "      <td>0.215215</td>\n",
       "    </tr>\n",
       "    <tr>\n",
       "      <th>11</th>\n",
       "      <td>0.0</td>\n",
       "      <td>eval_accuracy</td>\n",
       "      <td>0.876991</td>\n",
       "    </tr>\n",
       "    <tr>\n",
       "      <th>12</th>\n",
       "      <td>60.0</td>\n",
       "      <td>eval_accuracy</td>\n",
       "      <td>0.909940</td>\n",
       "    </tr>\n",
       "    <tr>\n",
       "      <th>13</th>\n",
       "      <td>0.0</td>\n",
       "      <td>eval_f1</td>\n",
       "      <td>0.881607</td>\n",
       "    </tr>\n",
       "    <tr>\n",
       "      <th>14</th>\n",
       "      <td>60.0</td>\n",
       "      <td>eval_f1</td>\n",
       "      <td>0.911828</td>\n",
       "    </tr>\n",
       "  </tbody>\n",
       "</table>\n",
       "</div>"
      ],
      "text/plain": [
       "    timestamp    metric_name     value\n",
       "0         0.0           loss  0.656600\n",
       "1        60.0           loss  0.348333\n",
       "2       120.0           loss  0.240250\n",
       "3       180.0           loss  0.196567\n",
       "4         0.0  learning_rate  2.000002\n",
       "5        60.0  learning_rate  3.066670\n",
       "6       120.0  learning_rate  1.200005\n",
       "7       180.0  learning_rate  2.400000\n",
       "8         0.0     train_loss  0.347536\n",
       "9         0.0      eval_loss  0.279655\n",
       "10       60.0      eval_loss  0.215215\n",
       "11        0.0  eval_accuracy  0.876991\n",
       "12       60.0  eval_accuracy  0.909940\n",
       "13        0.0        eval_f1  0.881607\n",
       "14       60.0        eval_f1  0.911828"
      ]
     },
     "execution_count": 20,
     "metadata": {},
     "output_type": "execute_result"
    }
   ],
   "source": [
    "from sagemaker import TrainingJobAnalytics\n",
    "\n",
    "# Captured metrics can be accessed as a Pandas dataframe\n",
    "df = TrainingJobAnalytics(training_job_name=hf_estimator.latest_training_job.name).dataframe()\n",
    "df.head(15)"
   ]
  },
  {
   "cell_type": "code",
   "execution_count": 21,
   "metadata": {},
   "outputs": [],
   "source": [
    "from matplotlib import pyplot as plt\n",
    "import seaborn as sns\n",
    "\n",
    "plt.rcParams[\"figure.figsize\"] = [20, 5]"
   ]
  },
  {
   "cell_type": "code",
   "execution_count": 22,
   "metadata": {},
   "outputs": [
    {
     "data": {
      "text/plain": [
       "<matplotlib.legend.Legend at 0x7f51c16211f0>"
      ]
     },
     "execution_count": 22,
     "metadata": {},
     "output_type": "execute_result"
    },
    {
     "data": {
      "image/png": "[encoded data removed]",
      "text/plain": [
       "<Figure size 432x288 with 2 Axes>"
      ]
     },
     "metadata": {
      "needs_background": "light"
     },
     "output_type": "display_data"
    }
   ],
   "source": [
    "evals = df[df.metric_name.isin([\"eval_accuracy\", \"eval_precision\"])]\n",
    "losses = df[df.metric_name.isin([\"loss\", \"eval_loss\"])]\n",
    "\n",
    "ax = sns.lineplot(\n",
    "    x=\"timestamp\", y=\"value\", data=evals, hue=\"metric_name\", palette=[\"green\", \"purple\"]\n",
    ")\n",
    "\n",
    "ax2 = plt.twinx()\n",
    "\n",
    "sns.lineplot(\n",
    "    x=\"timestamp\",\n",
    "    y=\"value\",\n",
    "    data=losses,\n",
    "    hue=\"metric_name\",\n",
    "    palette=[\"red\", \"blue\"],\n",
    "    ax=ax2,\n",
    ")\n",
    "\n",
    "ax.legend(bbox_to_anchor=(1, 1))\n",
    "ax2.legend(bbox_to_anchor=(1, 0.8))"
   ]
  },
  {
   "cell_type": "markdown",
   "metadata": {},
   "source": [
    "## Run Batch Transform after training a model \n",
    "\n",
    "After you've trained the model, you can use [Amazon SageMaker Batch Transform](https://docs.aws.amazon.com/sagemaker/latest/dg/batch-transform.html) to perform inferences with the model. In Batch Transform you provide your inference data as a S3 URI and SageMaker will care of downloading it, running the prediction and uploading the results afterwards to S3 again.\n",
    "\n",
    "If you've trained the model using the **HuggingFace estimator**, you can invoke `transformer()` method to create a transform job for a model based on the training job.\n",
    "\n",
    "```python\n",
    "batch_job = huggingface_estimator.transformer(\n",
    "    instance_count=1,\n",
    "    instance_type='ml.c5.2xlarge',\n",
    "    strategy='SingleRecord')\n",
    "\n",
    "\n",
    "batch_job.transform(\n",
    "    data='s3://s3-uri-to-batch-data',\n",
    "    content_type='application/json',    \n",
    "    split_type='Line')\n",
    "```\n",
    "For more details about what can be specified here, see [API docs](https://sagemaker.readthedocs.io/en/stable/overview.html#sagemaker-batch-transform)."
   ]
  },
  {
   "cell_type": "markdown",
   "metadata": {
    "tags": []
   },
   "source": [
    "### Generate dummy data"
   ]
  },
  {
   "cell_type": "markdown",
   "metadata": {},
   "source": [
    "We generate 5000 dummy reviews and upload them to S3 as a json lines file. We are creating this over two files, as we will specify two instances for our batch transform job."
   ]
  },
  {
   "cell_type": "code",
   "execution_count": 23,
   "metadata": {
    "tags": []
   },
   "outputs": [],
   "source": [
    "# Making dummy data\n",
    "from sagemaker.s3 import S3Uploader, s3_path_join\n",
    "import random\n",
    "import csv\n",
    "import json\n",
    "\n",
    "batch_reviews_path = f\"s3://{sess.default_bucket()}/{s3_prefix}/batch_transform\"\n",
    "\n",
    "\n",
    "def make_dummy_data(file_id, review_count):\n",
    "    outputs = []\n",
    "    file_name = f\"batch_reviews{file_id}.jsonl\"\n",
    "\n",
    "    # Generating 5000 dummy movie reviews\n",
    "    for i in range(review_count):\n",
    "        # Generating a fake review text\n",
    "        review = \"\"\n",
    "        review += random.choice(\n",
    "            [\n",
    "                \"This movie was \",\n",
    "                \"I thought that the movie was \",\n",
    "                \"In my opinion, this was \",\n",
    "                \"Overall, this movie was \",\n",
    "            ]\n",
    "        )\n",
    "        review += random.choice(\n",
    "            [\n",
    "                \"great\",\n",
    "                \"terrible\",\n",
    "                \"good\",\n",
    "                \"bad\",\n",
    "                \"excellent\",\n",
    "                \"awful\",\n",
    "                \"amazing\",\n",
    "                \"horrible\",\n",
    "            ]\n",
    "        )\n",
    "        review += random.choice([\".\", \"!\", \"...\", \"?\", \"!!\", \"??\"]) + \" \"\n",
    "        review += \"This is \"\n",
    "        review += random.choice(\n",
    "            [\n",
    "                \"because of the \",\n",
    "                \"as a reslt of the \",\n",
    "                \"in consequence of the \",\n",
    "                \"as a direct result of the \",\n",
    "                \"for the following reason: The \",\n",
    "            ]\n",
    "        )\n",
    "        review += random.choice(\n",
    "            [\n",
    "                \"storyline.\",\n",
    "                \"plot.\",\n",
    "                \"cast.\",\n",
    "                \"characters.\",\n",
    "                \"movie quality.\",\n",
    "                \"director.\",\n",
    "                \"atmosphere.\",\n",
    "            ]\n",
    "        )\n",
    "        outputs.append({\"inputs\": review})\n",
    "\n",
    "    # Write the review to a jsonl file\n",
    "    with open(file_name, \"w\", encoding=\"utf-8\") as f:\n",
    "        for output in outputs:\n",
    "            f.write(json.dumps(output) + \"\\n\")\n",
    "\n",
    "    # uploads a given file to S3.\n",
    "    s3_file_uri = S3Uploader.upload(file_name, batch_reviews_path)"
   ]
  },
  {
   "cell_type": "code",
   "execution_count": 24,
   "metadata": {
    "tags": []
   },
   "outputs": [
    {
     "name": "stdout",
     "output_type": "stream",
     "text": [
      "sagemaker.config INFO - Not applying SDK defaults from location: /etc/xdg/sagemaker/config.yaml\n",
      "sagemaker.config INFO - Not applying SDK defaults from location: /root/.config/sagemaker/config.yaml\n",
      "sagemaker.config INFO - Not applying SDK defaults from location: /etc/xdg/sagemaker/config.yaml\n",
      "sagemaker.config INFO - Not applying SDK defaults from location: /root/.config/sagemaker/config.yaml\n"
     ]
    }
   ],
   "source": [
    "make_dummy_data(1, 2500)\n",
    "make_dummy_data(2, 2500)"
   ]
  },
  {
   "cell_type": "markdown",
   "metadata": {},
   "source": [
    "### Run the Batch Transform job"
   ]
  },
  {
   "cell_type": "markdown",
   "metadata": {},
   "source": [
    "We now run the batch transform job, specifying the model data from the estimator, and the IAM Role, as well as the instance count, type, and output path. The `Strategy` parameter refers to the number of records to include in a mini-batch for an HTTP inference request. A record is a single unit of input data that inference can be made on. For example, a single line in a JSON lines file is a record, which is what we are using here. Setting Strategy to `SingleRecord` means that one line in the JSON lines file is used when making an HTTP invocation request to a container.\n",
    "\n",
    "Note, if when running the below two cells you encounter a `ResourceLimitExceeded` error message, it is possible that you may need to [request a service quota increase for SageMaker resources](https://docs.aws.amazon.com/sagemaker/latest/dg/regions-quotas.html#service-limit-increase-request-procedure)."
   ]
  },
  {
   "cell_type": "code",
   "execution_count": 25,
   "metadata": {
    "tags": []
   },
   "outputs": [
    {
     "name": "stdout",
     "output_type": "stream",
     "text": [
      "sagemaker.config INFO - Not applying SDK defaults from location: /etc/xdg/sagemaker/config.yaml\n",
      "sagemaker.config INFO - Not applying SDK defaults from location: /root/.config/sagemaker/config.yaml\n",
      "sagemaker.config INFO - Not applying SDK defaults from location: /etc/xdg/sagemaker/config.yaml\n",
      "sagemaker.config INFO - Not applying SDK defaults from location: /root/.config/sagemaker/config.yaml\n"
     ]
    }
   ],
   "source": [
    "from sagemaker.huggingface.model import HuggingFaceModel\n",
    "\n",
    "huggingface_model = HuggingFaceModel(\n",
    "    model_data=hf_estimator.model_data,\n",
    "    role=role,  # iam role with permissions to create an Endpoint\n",
    "    transformers_version=\"4.26\",  # transformers version used\n",
    "    pytorch_version=\"1.13\",  # pytorch version used\n",
    "    py_version=\"py39\",  # python version used\n",
    ")"
   ]
  },
  {
   "cell_type": "code",
   "execution_count": 26,
   "metadata": {
    "tags": []
   },
   "outputs": [
    {
     "name": "stderr",
     "output_type": "stream",
     "text": [
      "INFO:sagemaker:Creating model with name: huggingface-pytorch-inference-2023-10-13-12-48-21-674\n",
      "INFO:sagemaker:Creating transform job with name: huggingface-pytorch-inference-2023-10-13-12-48-22-496\n"
     ]
    },
    {
     "name": "stdout",
     "output_type": "stream",
     "text": [
      "..............................................................................................................................................!\n"
     ]
    }
   ],
   "source": [
    "# create Transformer to run our batch job\n",
    "\n",
    "batch_job = huggingface_model.transformer(\n",
    "    instance_count=2,\n",
    "    instance_type=\"ml.p3.2xlarge\",\n",
    "    output_path=batch_reviews_path,  # we are using the same s3 path to save the output with the input\n",
    "    strategy=\"SingleRecord\",\n",
    ")\n",
    "\n",
    "# starts batch transform job and uses s3 data as input\n",
    "batch_job.transform(\n",
    "    data=f\"{batch_reviews_path}\",\n",
    "    content_type=\"application/json\",\n",
    "    split_type=\"Line\",\n",
    "    logs=False,\n",
    ")"
   ]
  },
  {
   "cell_type": "markdown",
   "metadata": {},
   "source": [
    "### Compare the dummy data to the predicted sentiments"
   ]
  },
  {
   "cell_type": "markdown",
   "metadata": {},
   "source": [
    "We then print 10 sentences and compare them to the labels from the batch transform job."
   ]
  },
  {
   "cell_type": "code",
   "execution_count": 27,
   "metadata": {
    "tags": []
   },
   "outputs": [
    {
     "name": "stdout",
     "output_type": "stream",
     "text": [
      "sagemaker.config INFO - Not applying SDK defaults from location: /etc/xdg/sagemaker/config.yaml\n",
      "sagemaker.config INFO - Not applying SDK defaults from location: /root/.config/sagemaker/config.yaml\n",
      "sagemaker.config INFO - Not applying SDK defaults from location: /etc/xdg/sagemaker/config.yaml\n",
      "sagemaker.config INFO - Not applying SDK defaults from location: /root/.config/sagemaker/config.yaml\n",
      "[\n",
      "    {\n",
      "        \"label\": \"Positive\",\n",
      "        \"score\": 0.9912720322608948,\n",
      "        \"text\": \"Overall, this movie was good!! This is as a reslt of the movie quality.\"\n",
      "    },\n",
      "    {\n",
      "        \"label\": \"Positive\",\n",
      "        \"score\": 0.9834914803504944,\n",
      "        \"text\": \"This movie was excellent! This is in consequence of the plot.\"\n",
      "    },\n",
      "    {\n",
      "        \"label\": \"Positive\",\n",
      "        \"score\": 0.9931867122650146,\n",
      "        \"text\": \"Overall, this movie was great. This is because of the director.\"\n",
      "    },\n",
      "    {\n",
      "        \"label\": \"Positive\",\n",
      "        \"score\": 0.988024890422821,\n",
      "        \"text\": \"In my opinion, this was excellent. This is as a direct result of the characters.\"\n",
      "    },\n",
      "    {\n",
      "        \"label\": \"Negative\",\n",
      "        \"score\": 0.9826233983039856,\n",
      "        \"text\": \"This movie was bad? This is in consequence of the storyline.\"\n",
      "    },\n",
      "    {\n",
      "        \"label\": \"Negative\",\n",
      "        \"score\": 0.9293754696846008,\n",
      "        \"text\": \"This movie was terrible?? This is as a reslt of the plot.\"\n",
      "    },\n",
      "    {\n",
      "        \"label\": \"Negative\",\n",
      "        \"score\": 0.9849682450294495,\n",
      "        \"text\": \"Overall, this movie was awful... This is in consequence of the atmosphere.\"\n",
      "    },\n",
      "    {\n",
      "        \"label\": \"Positive\",\n",
      "        \"score\": 0.9883868098258972,\n",
      "        \"text\": \"This movie was good! This is as a reslt of the movie quality.\"\n",
      "    },\n",
      "    {\n",
      "        \"label\": \"Positive\",\n",
      "        \"score\": 0.9821058511734009,\n",
      "        \"text\": \"I thought that the movie was excellent! This is in consequence of the director.\"\n",
      "    },\n",
      "    {\n",
      "        \"label\": \"Positive\",\n",
      "        \"score\": 0.9890183210372925,\n",
      "        \"text\": \"Overall, this movie was great... This is as a direct result of the atmosphere.\"\n",
      "    }\n",
      "]\n"
     ]
    }
   ],
   "source": [
    "import json\n",
    "from sagemaker.s3 import S3Downloader\n",
    "from ast import literal_eval\n",
    "\n",
    "\n",
    "def create_results(input_file):\n",
    "    # creating s3 uri for result file -> input file + .out\n",
    "    input_file = input_file\n",
    "    output_file = input_file + \".out\"\n",
    "    output_path = s3_path_join(batch_reviews_path, output_file)\n",
    "\n",
    "    # download file\n",
    "    S3Downloader.download(output_path, \".\")\n",
    "\n",
    "    temp_batch_transform_result = []\n",
    "    with open(output_file) as f:\n",
    "        for line in f:\n",
    "            # converts jsonline array to normal array\n",
    "            line = \"[\" + line.replace(\"[\", \"\").replace(\"]\", \",\") + \"]\"\n",
    "            temp_batch_transform_result = literal_eval(line)\n",
    "\n",
    "    data_temp = []\n",
    "    with open(input_file) as f:\n",
    "        for line in f:\n",
    "            data_temp.append(json.loads(line))\n",
    "\n",
    "    for i, line in enumerate(data_temp):\n",
    "        temp_batch_transform_result[i][\"text\"] = line[\"inputs\"]\n",
    "        temp_batch_transform_result[i][\"label\"] = (\n",
    "            \"Positive\" if temp_batch_transform_result[i][\"label\"] == \"LABEL_1\" else \"Negative\"\n",
    "        )\n",
    "\n",
    "    # print results\n",
    "    return temp_batch_transform_result\n",
    "\n",
    "\n",
    "batch_transform_result = create_results(\"batch_reviews1.jsonl\")\n",
    "batch_transform_result.extend(create_results(\"batch_reviews2.jsonl\"))\n",
    "\n",
    "print(json.dumps(batch_transform_result[:10], indent=4))"
   ]
  },
  {
   "cell_type": "markdown",
   "metadata": {
    "tags": []
   },
   "source": [
    "We can see that the model appears fairly confident in classifying most of the above examples correctly. But is this true for all the generated test data? Let's find out by converting the data into a Pandas dataframe, and seeing the most and least confident inputs for both labels."
   ]
  },
  {
   "cell_type": "code",
   "execution_count": 28,
   "metadata": {
    "tags": []
   },
   "outputs": [
    {
     "data": {
      "text/html": [
       "<div>\n",
       "<style scoped>\n",
       "    .dataframe tbody tr th:only-of-type {\n",
       "        vertical-align: middle;\n",
       "    }\n",
       "\n",
       "    .dataframe tbody tr th {\n",
       "        vertical-align: top;\n",
       "    }\n",
       "\n",
       "    .dataframe thead th {\n",
       "        text-align: right;\n",
       "    }\n",
       "</style>\n",
       "<table border=\"1\" class=\"dataframe\">\n",
       "  <thead>\n",
       "    <tr style=\"text-align: right;\">\n",
       "      <th></th>\n",
       "      <th>label</th>\n",
       "      <th>score</th>\n",
       "      <th>text</th>\n",
       "    </tr>\n",
       "  </thead>\n",
       "  <tbody>\n",
       "    <tr>\n",
       "      <th>812</th>\n",
       "      <td>Positive</td>\n",
       "      <td>0.995237</td>\n",
       "      <td>Overall, this movie was amazing... This is as a reslt of the characters.</td>\n",
       "    </tr>\n",
       "    <tr>\n",
       "      <th>177</th>\n",
       "      <td>Positive</td>\n",
       "      <td>0.995105</td>\n",
       "      <td>Overall, this movie was amazing... This is as a reslt of the director.</td>\n",
       "    </tr>\n",
       "    <tr>\n",
       "      <th>1352</th>\n",
       "      <td>Positive</td>\n",
       "      <td>0.995096</td>\n",
       "      <td>Overall, this movie was amazing. This is as a reslt of the atmosphere.</td>\n",
       "    </tr>\n",
       "    <tr>\n",
       "      <th>1402</th>\n",
       "      <td>Positive</td>\n",
       "      <td>0.995032</td>\n",
       "      <td>Overall, this movie was amazing... This is as a reslt of the cast.</td>\n",
       "    </tr>\n",
       "    <tr>\n",
       "      <th>4055</th>\n",
       "      <td>Positive</td>\n",
       "      <td>0.994958</td>\n",
       "      <td>Overall, this movie was amazing. This is as a reslt of the characters.</td>\n",
       "    </tr>\n",
       "    <tr>\n",
       "      <th>...</th>\n",
       "      <td>...</td>\n",
       "      <td>...</td>\n",
       "      <td>...</td>\n",
       "    </tr>\n",
       "    <tr>\n",
       "      <th>3364</th>\n",
       "      <td>Positive</td>\n",
       "      <td>0.517768</td>\n",
       "      <td>I thought that the movie was good? This is in consequence of the director.</td>\n",
       "    </tr>\n",
       "    <tr>\n",
       "      <th>1484</th>\n",
       "      <td>Positive</td>\n",
       "      <td>0.517662</td>\n",
       "      <td>I thought that the movie was great? This is in consequence of the cast.</td>\n",
       "    </tr>\n",
       "    <tr>\n",
       "      <th>1662</th>\n",
       "      <td>Positive</td>\n",
       "      <td>0.512529</td>\n",
       "      <td>This movie was good?? This is as a direct result of the atmosphere.</td>\n",
       "    </tr>\n",
       "    <tr>\n",
       "      <th>3520</th>\n",
       "      <td>Positive</td>\n",
       "      <td>0.504030</td>\n",
       "      <td>Overall, this movie was good?? This is in consequence of the cast.</td>\n",
       "    </tr>\n",
       "    <tr>\n",
       "      <th>2232</th>\n",
       "      <td>Positive</td>\n",
       "      <td>0.501439</td>\n",
       "      <td>I thought that the movie was excellent? This is as a direct result of the plot.</td>\n",
       "    </tr>\n",
       "  </tbody>\n",
       "</table>\n",
       "<p>1688 rows × 3 columns</p>\n",
       "</div>"
      ],
      "text/plain": [
       "         label     score  \\\n",
       "812   Positive  0.995237   \n",
       "177   Positive  0.995105   \n",
       "1352  Positive  0.995096   \n",
       "1402  Positive  0.995032   \n",
       "4055  Positive  0.994958   \n",
       "...        ...       ...   \n",
       "3364  Positive  0.517768   \n",
       "1484  Positive  0.517662   \n",
       "1662  Positive  0.512529   \n",
       "3520  Positive  0.504030   \n",
       "2232  Positive  0.501439   \n",
       "\n",
       "                                                                                 text  \n",
       "812          Overall, this movie was amazing... This is as a reslt of the characters.  \n",
       "177            Overall, this movie was amazing... This is as a reslt of the director.  \n",
       "1352           Overall, this movie was amazing. This is as a reslt of the atmosphere.  \n",
       "1402               Overall, this movie was amazing... This is as a reslt of the cast.  \n",
       "4055           Overall, this movie was amazing. This is as a reslt of the characters.  \n",
       "...                                                                               ...  \n",
       "3364       I thought that the movie was good? This is in consequence of the director.  \n",
       "1484          I thought that the movie was great? This is in consequence of the cast.  \n",
       "1662              This movie was good?? This is as a direct result of the atmosphere.  \n",
       "3520               Overall, this movie was good?? This is in consequence of the cast.  \n",
       "2232  I thought that the movie was excellent? This is as a direct result of the plot.  \n",
       "\n",
       "[1688 rows x 3 columns]"
      ]
     },
     "execution_count": 28,
     "metadata": {},
     "output_type": "execute_result"
    }
   ],
   "source": [
    "# df_results.sort_values('score', ascending=False)\n",
    "df_results = pd.DataFrame(batch_transform_result)\n",
    "pd.set_option(\"display.max_colwidth\", None)\n",
    "\n",
    "df_results[df_results[\"label\"] == \"Positive\"].sort_values(\n",
    "    \"score\", ascending=False\n",
    ").drop_duplicates()"
   ]
  },
  {
   "cell_type": "code",
   "execution_count": 29,
   "metadata": {
    "tags": []
   },
   "outputs": [
    {
     "data": {
      "text/html": [
       "<div>\n",
       "<style scoped>\n",
       "    .dataframe tbody tr th:only-of-type {\n",
       "        vertical-align: middle;\n",
       "    }\n",
       "\n",
       "    .dataframe tbody tr th {\n",
       "        vertical-align: top;\n",
       "    }\n",
       "\n",
       "    .dataframe thead th {\n",
       "        text-align: right;\n",
       "    }\n",
       "</style>\n",
       "<table border=\"1\" class=\"dataframe\">\n",
       "  <thead>\n",
       "    <tr style=\"text-align: right;\">\n",
       "      <th></th>\n",
       "      <th>label</th>\n",
       "      <th>score</th>\n",
       "      <th>text</th>\n",
       "    </tr>\n",
       "  </thead>\n",
       "  <tbody>\n",
       "    <tr>\n",
       "      <th>856</th>\n",
       "      <td>Negative</td>\n",
       "      <td>0.986685</td>\n",
       "      <td>Overall, this movie was awful? This is in consequence of the plot.</td>\n",
       "    </tr>\n",
       "    <tr>\n",
       "      <th>4669</th>\n",
       "      <td>Negative</td>\n",
       "      <td>0.986495</td>\n",
       "      <td>This movie was horrible... This is for the following reason: The plot.</td>\n",
       "    </tr>\n",
       "    <tr>\n",
       "      <th>2452</th>\n",
       "      <td>Negative</td>\n",
       "      <td>0.986352</td>\n",
       "      <td>Overall, this movie was awful. This is in consequence of the plot.</td>\n",
       "    </tr>\n",
       "    <tr>\n",
       "      <th>2450</th>\n",
       "      <td>Negative</td>\n",
       "      <td>0.986351</td>\n",
       "      <td>Overall, this movie was awful. This is for the following reason: The plot.</td>\n",
       "    </tr>\n",
       "    <tr>\n",
       "      <th>4704</th>\n",
       "      <td>Negative</td>\n",
       "      <td>0.986324</td>\n",
       "      <td>This movie was awful. This is for the following reason: The plot.</td>\n",
       "    </tr>\n",
       "    <tr>\n",
       "      <th>...</th>\n",
       "      <td>...</td>\n",
       "      <td>...</td>\n",
       "      <td>...</td>\n",
       "    </tr>\n",
       "    <tr>\n",
       "      <th>2870</th>\n",
       "      <td>Negative</td>\n",
       "      <td>0.509259</td>\n",
       "      <td>This movie was amazing? This is in consequence of the plot.</td>\n",
       "    </tr>\n",
       "    <tr>\n",
       "      <th>4628</th>\n",
       "      <td>Negative</td>\n",
       "      <td>0.505962</td>\n",
       "      <td>In my opinion, this was amazing?? This is for the following reason: The storyline.</td>\n",
       "    </tr>\n",
       "    <tr>\n",
       "      <th>3948</th>\n",
       "      <td>Negative</td>\n",
       "      <td>0.504660</td>\n",
       "      <td>This movie was great?? This is as a direct result of the director.</td>\n",
       "    </tr>\n",
       "    <tr>\n",
       "      <th>611</th>\n",
       "      <td>Negative</td>\n",
       "      <td>0.504233</td>\n",
       "      <td>In my opinion, this was great?? This is for the following reason: The storyline.</td>\n",
       "    </tr>\n",
       "    <tr>\n",
       "      <th>3887</th>\n",
       "      <td>Negative</td>\n",
       "      <td>0.500902</td>\n",
       "      <td>In my opinion, this was good? This is in consequence of the plot.</td>\n",
       "    </tr>\n",
       "  </tbody>\n",
       "</table>\n",
       "<p>1869 rows × 3 columns</p>\n",
       "</div>"
      ],
      "text/plain": [
       "         label     score  \\\n",
       "856   Negative  0.986685   \n",
       "4669  Negative  0.986495   \n",
       "2452  Negative  0.986352   \n",
       "2450  Negative  0.986351   \n",
       "4704  Negative  0.986324   \n",
       "...        ...       ...   \n",
       "2870  Negative  0.509259   \n",
       "4628  Negative  0.505962   \n",
       "3948  Negative  0.504660   \n",
       "611   Negative  0.504233   \n",
       "3887  Negative  0.500902   \n",
       "\n",
       "                                                                                    text  \n",
       "856                   Overall, this movie was awful? This is in consequence of the plot.  \n",
       "4669              This movie was horrible... This is for the following reason: The plot.  \n",
       "2452                  Overall, this movie was awful. This is in consequence of the plot.  \n",
       "2450          Overall, this movie was awful. This is for the following reason: The plot.  \n",
       "4704                   This movie was awful. This is for the following reason: The plot.  \n",
       "...                                                                                  ...  \n",
       "2870                         This movie was amazing? This is in consequence of the plot.  \n",
       "4628  In my opinion, this was amazing?? This is for the following reason: The storyline.  \n",
       "3948                  This movie was great?? This is as a direct result of the director.  \n",
       "611     In my opinion, this was great?? This is for the following reason: The storyline.  \n",
       "3887                   In my opinion, this was good? This is in consequence of the plot.  \n",
       "\n",
       "[1869 rows x 3 columns]"
      ]
     },
     "execution_count": 29,
     "metadata": {},
     "output_type": "execute_result"
    }
   ],
   "source": [
    "df_results[df_results[\"label\"] == \"Negative\"].sort_values(\n",
    "    \"score\", ascending=False\n",
    ").drop_duplicates()"
   ]
  },
  {
   "cell_type": "markdown",
   "metadata": {},
   "source": [
    "We can see in fact that the model is struggling with a few examples, particularly where the text is punctuated with question marks. \n",
    "Finally, we create a box plot to visualize the distribution of the predictions for each label."
   ]
  },
  {
   "cell_type": "code",
   "execution_count": 30,
   "metadata": {
    "tags": []
   },
   "outputs": [
    {
     "data": {
      "text/plain": [
       "<AxesSubplot: xlabel='label', ylabel='score'>"
      ]
     },
     "execution_count": 30,
     "metadata": {},
     "output_type": "execute_result"
    },
    {
     "data": {
      "image/png": "[encoded data removed]",
      "text/plain": [
       "<Figure size 432x288 with 1 Axes>"
      ]
     },
     "metadata": {
      "needs_background": "light"
     },
     "output_type": "display_data"
    }
   ],
   "source": [
    "sns.boxplot(\n",
    "    x=\"label\",\n",
    "    y=\"score\",\n",
    "    data=df_results,\n",
    ")"
   ]
  },
  {
   "cell_type": "markdown",
   "metadata": {},
   "source": [
    "We can see that the ranges and interquartile ranges for the positive label are fairly larger than for the negative label. This shows a larger variance in predictions for positive, which may need refining upon further training and hyperparameter optimization. Note though that because this test data is randomly generated, the box plot may differ in your case. One interesting exercise is to determine whether the positive label interquartile range is consistently larger than the negative label upon further generations of test data, and sending these to the model. This may help to determine whether the model is in general more consistently confident for negative label predictions."
   ]
  },
  {
   "cell_type": "markdown",
   "metadata": {},
   "source": [
    "## Extras"
   ]
  },
  {
   "cell_type": "markdown",
   "metadata": {},
   "source": [
    "### Deploy an endpoint\n",
    "\n",
    "To deploy the endpoint, call `deploy()` on the HuggingFace estimator object, passing in the desired number of instances and instance type."
   ]
  },
  {
   "cell_type": "code",
   "execution_count": 31,
   "metadata": {},
   "outputs": [
    {
     "name": "stderr",
     "output_type": "stream",
     "text": [
      "INFO:sagemaker:Creating model with name: huggingface-pytorch-training-2023-10-13-13-00-23-422\n",
      "INFO:sagemaker:Creating endpoint-config with name huggingface-pytorch-training-2023-10-13-13-00-23-422\n",
      "INFO:sagemaker:Creating endpoint with name huggingface-pytorch-training-2023-10-13-13-00-23-422\n"
     ]
    },
    {
     "name": "stdout",
     "output_type": "stream",
     "text": [
      "------------!"
     ]
    }
   ],
   "source": [
    "predictor = hf_estimator.deploy(1, \"ml.p3.2xlarge\")"
   ]
  },
  {
   "cell_type": "markdown",
   "metadata": {},
   "source": [
    "Then use the returned predictor object to perform inference."
   ]
  },
  {
   "cell_type": "code",
   "execution_count": 32,
   "metadata": {},
   "outputs": [
    {
     "data": {
      "text/plain": [
       "[{'label': 'LABEL_1', 'score': 0.9790288209915161}]"
      ]
     },
     "execution_count": 32,
     "metadata": {},
     "output_type": "execute_result"
    }
   ],
   "source": [
    "sentiment_input = {\"inputs\": \"I love using the new Inference DLC.\"}\n",
    "\n",
    "predictor.predict(sentiment_input)"
   ]
  },
  {
   "cell_type": "markdown",
   "metadata": {},
   "source": [
    "We see that the fine-tuned model classifies the test sentence \"I love using the new Inference DLC.\" as having positive sentiment with 98% probability!"
   ]
  },
  {
   "cell_type": "markdown",
   "metadata": {},
   "source": [
    "Finally, delete the endpoint."
   ]
  },
  {
   "cell_type": "code",
   "execution_count": 33,
   "metadata": {},
   "outputs": [
    {
     "name": "stderr",
     "output_type": "stream",
     "text": [
      "INFO:sagemaker:Deleting endpoint configuration with name: huggingface-pytorch-training-2023-10-13-13-00-23-422\n",
      "INFO:sagemaker:Deleting endpoint with name: huggingface-pytorch-training-2023-10-13-13-00-23-422\n"
     ]
    }
   ],
   "source": [
    "predictor.delete_endpoint()"
   ]
  },
  {
   "cell_type": "markdown",
   "metadata": {},
   "source": [
    "### Estimator Parameters"
   ]
  },
  {
   "cell_type": "code",
   "execution_count": 34,
   "metadata": {
    "scrolled": true
   },
   "outputs": [
    {
     "name": "stdout",
     "output_type": "stream",
     "text": [
      "Container image used for training job: \n",
      "None\n",
      "\n",
      "S3 URI where the trained model is located: \n",
      "s3://sagemaker-us-east-1-000000000000/huggingface-pytorch-training-2023-10-13-12-15-16-551/output/model.tar.gz\n",
      "\n",
      "Latest training job name for this estimator: \n",
      "huggingface-pytorch-training-2023-10-13-12-15-16-551\n",
      "\n"
     ]
    }
   ],
   "source": [
    "print(f\"Container image used for training job: \\n{hf_estimator.image_uri}\\n\")\n",
    "print(f\"S3 URI where the trained model is located: \\n{hf_estimator.model_data}\\n\")\n",
    "print(f\"Latest training job name for this estimator: \\n{hf_estimator.latest_training_job.name}\\n\")"
   ]
  },
  {
   "cell_type": "code",
   "execution_count": null,
   "metadata": {},
   "outputs": [],
   "source": [
    "hf_estimator.sagemaker_session.logs_for_job(hf_estimator.latest_training_job.name)"
   ]
  },
  {
   "cell_type": "markdown",
   "metadata": {},
   "source": [
    "### Attach a previous training job to an estimator\n",
    "\n",
    "In SageMaker, you can attach a previous training job to an estimator to continue training, get results, etc."
   ]
  },
  {
   "cell_type": "code",
   "execution_count": 36,
   "metadata": {},
   "outputs": [],
   "source": [
    "from sagemaker.estimator import Estimator\n",
    "\n",
    "# Uncomment the following lines and supply your training job name\n",
    "\n",
    "# old_training_job_name = \"<your-training-job-name>\"\n",
    "# hf_estimator_loaded = Estimator.attach(old_training_job_name)\n",
    "# hf_estimator_loaded.model_data"
   ]
  },
  {
   "cell_type": "markdown",
   "metadata": {},
   "source": [
    "## Notebook CI Test Results\n",
    "\n",
    "This notebook was tested in multiple regions. The test results are as follows, except for us-west-2 which is shown at the top of the notebook.\n",
    "\n",
    "\n",
    "![This us-east-1 badge failed to load. Check your device's internet connectivity, otherwise the service is currently unavailable](https://h75twx4l60.execute-api.us-west-2.amazonaws.com/sagemaker-nb/us-east-1/advanced_functionality|sentiment_parallel_batch|huggingface_sentiment_parallel_batch.ipynb)\n",
    "\n",
    "![This us-east-2 badge failed to load. Check your device's internet connectivity, otherwise the service is currently unavailable](https://h75twx4l60.execute-api.us-west-2.amazonaws.com/sagemaker-nb/us-east-2/advanced_functionality|sentiment_parallel_batch|huggingface_sentiment_parallel_batch.ipynb)\n",
    "\n",
    "![This us-west-1 badge failed to load. Check your device's internet connectivity, otherwise the service is currently unavailable](https://h75twx4l60.execute-api.us-west-2.amazonaws.com/sagemaker-nb/us-west-1/advanced_functionality|sentiment_parallel_batch|huggingface_sentiment_parallel_batch.ipynb)\n",
    "\n",
    "![This ca-central-1 badge failed to load. Check your device's internet connectivity, otherwise the service is currently unavailable](https://h75twx4l60.execute-api.us-west-2.amazonaws.com/sagemaker-nb/ca-central-1/advanced_functionality|sentiment_parallel_batch|huggingface_sentiment_parallel_batch.ipynb)\n",
    "\n",
    "![This sa-east-1 badge failed to load. Check your device's internet connectivity, otherwise the service is currently unavailable](https://h75twx4l60.execute-api.us-west-2.amazonaws.com/sagemaker-nb/sa-east-1/advanced_functionality|sentiment_parallel_batch|huggingface_sentiment_parallel_batch.ipynb)\n",
    "\n",
    "![This eu-west-1 badge failed to load. Check your device's internet connectivity, otherwise the service is currently unavailable](https://h75twx4l60.execute-api.us-west-2.amazonaws.com/sagemaker-nb/eu-west-1/advanced_functionality|sentiment_parallel_batch|huggingface_sentiment_parallel_batch.ipynb)\n",
    "\n",
    "![This eu-west-2 badge failed to load. Check your device's internet connectivity, otherwise the service is currently unavailable](https://h75twx4l60.execute-api.us-west-2.amazonaws.com/sagemaker-nb/eu-west-2/advanced_functionality|sentiment_parallel_batch|huggingface_sentiment_parallel_batch.ipynb)\n",
    "\n",
    "![This eu-west-3 badge failed to load. Check your device's internet connectivity, otherwise the service is currently unavailable](https://h75twx4l60.execute-api.us-west-2.amazonaws.com/sagemaker-nb/eu-west-3/advanced_functionality|sentiment_parallel_batch|huggingface_sentiment_parallel_batch.ipynb)\n",
    "\n",
    "![This eu-central-1 badge failed to load. Check your device's internet connectivity, otherwise the service is currently unavailable](https://h75twx4l60.execute-api.us-west-2.amazonaws.com/sagemaker-nb/eu-central-1/advanced_functionality|sentiment_parallel_batch|huggingface_sentiment_parallel_batch.ipynb)\n",
    "\n",
    "![This eu-north-1 badge failed to load. Check your device's internet connectivity, otherwise the service is currently unavailable](https://h75twx4l60.execute-api.us-west-2.amazonaws.com/sagemaker-nb/eu-north-1/advanced_functionality|sentiment_parallel_batch|huggingface_sentiment_parallel_batch.ipynb)\n",
    "\n",
    "![This ap-southeast-1 badge failed to load. Check your device's internet connectivity, otherwise the service is currently unavailable](https://h75twx4l60.execute-api.us-west-2.amazonaws.com/sagemaker-nb/ap-southeast-1/advanced_functionality|sentiment_parallel_batch|huggingface_sentiment_parallel_batch.ipynb)\n",
    "\n",
    "![This ap-southeast-2 badge failed to load. Check your device's internet connectivity, otherwise the service is currently unavailable](https://h75twx4l60.execute-api.us-west-2.amazonaws.com/sagemaker-nb/ap-southeast-2/advanced_functionality|sentiment_parallel_batch|huggingface_sentiment_parallel_batch.ipynb)\n",
    "\n",
    "![This ap-northeast-1 badge failed to load. Check your device's internet connectivity, otherwise the service is currently unavailable](https://h75twx4l60.execute-api.us-west-2.amazonaws.com/sagemaker-nb/ap-northeast-1/advanced_functionality|sentiment_parallel_batch|huggingface_sentiment_parallel_batch.ipynb)\n",
    "\n",
    "![This ap-northeast-2 badge failed to load. Check your device's internet connectivity, otherwise the service is currently unavailable](https://h75twx4l60.execute-api.us-west-2.amazonaws.com/sagemaker-nb/ap-northeast-2/advanced_functionality|sentiment_parallel_batch|huggingface_sentiment_parallel_batch.ipynb)\n",
    "\n",
    "![This ap-south-1 badge failed to load. Check your device's internet connectivity, otherwise the service is currently unavailable](https://h75twx4l60.execute-api.us-west-2.amazonaws.com/sagemaker-nb/ap-south-1/advanced_functionality|sentiment_parallel_batch|huggingface_sentiment_parallel_batch.ipynb)\n",
    "\n"
   ]
  }
 ],
 "metadata": {
  "availableInstances": [
   {
    "_defaultOrder": 0,
    "_isFastLaunch": true,
    "category": "General purpose",
    "gpuNum": 0,
    "hideHardwareSpecs": false,
    "memoryGiB": 4,
    "name": "ml.t3.medium",
    "vcpuNum": 2
   },
   {
    "_defaultOrder": 1,
    "_isFastLaunch": false,
    "category": "General purpose",
    "gpuNum": 0,
    "hideHardwareSpecs": false,
    "memoryGiB": 8,
    "name": "ml.t3.large",
    "vcpuNum": 2
   },
   {
    "_defaultOrder": 2,
    "_isFastLaunch": false,
    "category": "General purpose",
    "gpuNum": 0,
    "hideHardwareSpecs": false,
    "memoryGiB": 16,
    "name": "ml.t3.xlarge",
    "vcpuNum": 4
   },
   {
    "_defaultOrder": 3,
    "_isFastLaunch": false,
    "category": "General purpose",
    "gpuNum": 0,
    "hideHardwareSpecs": false,
    "memoryGiB": 32,
    "name": "ml.t3.2xlarge",
    "vcpuNum": 8
   },
   {
    "_defaultOrder": 4,
    "_isFastLaunch": true,
    "category": "General purpose",
    "gpuNum": 0,
    "hideHardwareSpecs": false,
    "memoryGiB": 8,
    "name": "ml.m5.large",
    "vcpuNum": 2
   },
   {
    "_defaultOrder": 5,
    "_isFastLaunch": false,
    "category": "General purpose",
    "gpuNum": 0,
    "hideHardwareSpecs": false,
    "memoryGiB": 16,
    "name": "ml.m5.xlarge",
    "vcpuNum": 4
   },
   {
    "_defaultOrder": 6,
    "_isFastLaunch": false,
    "category": "General purpose",
    "gpuNum": 0,
    "hideHardwareSpecs": false,
    "memoryGiB": 32,
    "name": "ml.m5.2xlarge",
    "vcpuNum": 8
   },
   {
    "_defaultOrder": 7,
    "_isFastLaunch": false,
    "category": "General purpose",
    "gpuNum": 0,
    "hideHardwareSpecs": false,
    "memoryGiB": 64,
    "name": "ml.m5.4xlarge",
    "vcpuNum": 16
   },
   {
    "_defaultOrder": 8,
    "_isFastLaunch": false,
    "category": "General purpose",
    "gpuNum": 0,
    "hideHardwareSpecs": false,
    "memoryGiB": 128,
    "name": "ml.m5.8xlarge",
    "vcpuNum": 32
   },
   {
    "_defaultOrder": 9,
    "_isFastLaunch": false,
    "category": "General purpose",
    "gpuNum": 0,
    "hideHardwareSpecs": false,
    "memoryGiB": 192,
    "name": "ml.m5.12xlarge",
    "vcpuNum": 48
   },
   {
    "_defaultOrder": 10,
    "_isFastLaunch": false,
    "category": "General purpose",
    "gpuNum": 0,
    "hideHardwareSpecs": false,
    "memoryGiB": 256,
    "name": "ml.m5.16xlarge",
    "vcpuNum": 64
   },
   {
    "_defaultOrder": 11,
    "_isFastLaunch": false,
    "category": "General purpose",
    "gpuNum": 0,
    "hideHardwareSpecs": false,
    "memoryGiB": 384,
    "name": "ml.m5.24xlarge",
    "vcpuNum": 96
   },
   {
    "_defaultOrder": 12,
    "_isFastLaunch": false,
    "category": "General purpose",
    "gpuNum": 0,
    "hideHardwareSpecs": false,
    "memoryGiB": 8,
    "name": "ml.m5d.large",
    "vcpuNum": 2
   },
   {
    "_defaultOrder": 13,
    "_isFastLaunch": false,
    "category": "General purpose",
    "gpuNum": 0,
    "hideHardwareSpecs": false,
    "memoryGiB": 16,
    "name": "ml.m5d.xlarge",
    "vcpuNum": 4
   },
   {
    "_defaultOrder": 14,
    "_isFastLaunch": false,
    "category": "General purpose",
    "gpuNum": 0,
    "hideHardwareSpecs": false,
    "memoryGiB": 32,
    "name": "ml.m5d.2xlarge",
    "vcpuNum": 8
   },
   {
    "_defaultOrder": 15,
    "_isFastLaunch": false,
    "category": "General purpose",
    "gpuNum": 0,
    "hideHardwareSpecs": false,
    "memoryGiB": 64,
    "name": "ml.m5d.4xlarge",
    "vcpuNum": 16
   },
   {
    "_defaultOrder": 16,
    "_isFastLaunch": false,
    "category": "General purpose",
    "gpuNum": 0,
    "hideHardwareSpecs": false,
    "memoryGiB": 128,
    "name": "ml.m5d.8xlarge",
    "vcpuNum": 32
   },
   {
    "_defaultOrder": 17,
    "_isFastLaunch": false,
    "category": "General purpose",
    "gpuNum": 0,
    "hideHardwareSpecs": false,
    "memoryGiB": 192,
    "name": "ml.m5d.12xlarge",
    "vcpuNum": 48
   },
   {
    "_defaultOrder": 18,
    "_isFastLaunch": false,
    "category": "General purpose",
    "gpuNum": 0,
    "hideHardwareSpecs": false,
    "memoryGiB": 256,
    "name": "ml.m5d.16xlarge",
    "vcpuNum": 64
   },
   {
    "_defaultOrder": 19,
    "_isFastLaunch": false,
    "category": "General purpose",
    "gpuNum": 0,
    "hideHardwareSpecs": false,
    "memoryGiB": 384,
    "name": "ml.m5d.24xlarge",
    "vcpuNum": 96
   },
   {
    "_defaultOrder": 20,
    "_isFastLaunch": false,
    "category": "General purpose",
    "gpuNum": 0,
    "hideHardwareSpecs": true,
    "memoryGiB": 0,
    "name": "ml.geospatial.interactive",
    "supportedImageNames": [
     "sagemaker-geospatial-v1-0"
    ],
    "vcpuNum": 0
   },
   {
    "_defaultOrder": 21,
    "_isFastLaunch": true,
    "category": "Compute optimized",
    "gpuNum": 0,
    "hideHardwareSpecs": false,
    "memoryGiB": 4,
    "name": "ml.c5.large",
    "vcpuNum": 2
   },
   {
    "_defaultOrder": 22,
    "_isFastLaunch": false,
    "category": "Compute optimized",
    "gpuNum": 0,
    "hideHardwareSpecs": false,
    "memoryGiB": 8,
    "name": "ml.c5.xlarge",
    "vcpuNum": 4
   },
   {
    "_defaultOrder": 23,
    "_isFastLaunch": false,
    "category": "Compute optimized",
    "gpuNum": 0,
    "hideHardwareSpecs": false,
    "memoryGiB": 16,
    "name": "ml.c5.2xlarge",
    "vcpuNum": 8
   },
   {
    "_defaultOrder": 24,
    "_isFastLaunch": false,
    "category": "Compute optimized",
    "gpuNum": 0,
    "hideHardwareSpecs": false,
    "memoryGiB": 32,
    "name": "ml.c5.4xlarge",
    "vcpuNum": 16
   },
   {
    "_defaultOrder": 25,
    "_isFastLaunch": false,
    "category": "Compute optimized",
    "gpuNum": 0,
    "hideHardwareSpecs": false,
    "memoryGiB": 72,
    "name": "ml.c5.9xlarge",
    "vcpuNum": 36
   },
   {
    "_defaultOrder": 26,
    "_isFastLaunch": false,
    "category": "Compute optimized",
    "gpuNum": 0,
    "hideHardwareSpecs": false,
    "memoryGiB": 96,
    "name": "ml.c5.12xlarge",
    "vcpuNum": 48
   },
   {
    "_defaultOrder": 27,
    "_isFastLaunch": false,
    "category": "Compute optimized",
    "gpuNum": 0,
    "hideHardwareSpecs": false,
    "memoryGiB": 144,
    "name": "ml.c5.18xlarge",
    "vcpuNum": 72
   },
   {
    "_defaultOrder": 28,
    "_isFastLaunch": false,
    "category": "Compute optimized",
    "gpuNum": 0,
    "hideHardwareSpecs": false,
    "memoryGiB": 192,
    "name": "ml.c5.24xlarge",
    "vcpuNum": 96
   },
   {
    "_defaultOrder": 29,
    "_isFastLaunch": true,
    "category": "Accelerated computing",
    "gpuNum": 1,
    "hideHardwareSpecs": false,
    "memoryGiB": 16,
    "name": "ml.g4dn.xlarge",
    "vcpuNum": 4
   },
   {
    "_defaultOrder": 30,
    "_isFastLaunch": false,
    "category": "Accelerated computing",
    "gpuNum": 1,
    "hideHardwareSpecs": false,
    "memoryGiB": 32,
    "name": "ml.g4dn.2xlarge",
    "vcpuNum": 8
   },
   {
    "_defaultOrder": 31,
    "_isFastLaunch": false,
    "category": "Accelerated computing",
    "gpuNum": 1,
    "hideHardwareSpecs": false,
    "memoryGiB": 64,
    "name": "ml.g4dn.4xlarge",
    "vcpuNum": 16
   },
   {
    "_defaultOrder": 32,
    "_isFastLaunch": false,
    "category": "Accelerated computing",
    "gpuNum": 1,
    "hideHardwareSpecs": false,
    "memoryGiB": 128,
    "name": "ml.g4dn.8xlarge",
    "vcpuNum": 32
   },
   {
    "_defaultOrder": 33,
    "_isFastLaunch": false,
    "category": "Accelerated computing",
    "gpuNum": 4,
    "hideHardwareSpecs": false,
    "memoryGiB": 192,
    "name": "ml.g4dn.12xlarge",
    "vcpuNum": 48
   },
   {
    "_defaultOrder": 34,
    "_isFastLaunch": false,
    "category": "Accelerated computing",
    "gpuNum": 1,
    "hideHardwareSpecs": false,
    "memoryGiB": 256,
    "name": "ml.g4dn.16xlarge",
    "vcpuNum": 64
   },
   {
    "_defaultOrder": 35,
    "_isFastLaunch": false,
    "category": "Accelerated computing",
    "gpuNum": 1,
    "hideHardwareSpecs": false,
    "memoryGiB": 61,
    "name": "ml.p3.2xlarge",
    "vcpuNum": 8
   },
   {
    "_defaultOrder": 36,
    "_isFastLaunch": false,
    "category": "Accelerated computing",
    "gpuNum": 4,
    "hideHardwareSpecs": false,
    "memoryGiB": 244,
    "name": "ml.p3.8xlarge",
    "vcpuNum": 32
   },
   {
    "_defaultOrder": 37,
    "_isFastLaunch": false,
    "category": "Accelerated computing",
    "gpuNum": 8,
    "hideHardwareSpecs": false,
    "memoryGiB": 488,
    "name": "ml.p3.16xlarge",
    "vcpuNum": 64
   },
   {
    "_defaultOrder": 38,
    "_isFastLaunch": false,
    "category": "Accelerated computing",
    "gpuNum": 8,
    "hideHardwareSpecs": false,
    "memoryGiB": 768,
    "name": "ml.p3dn.24xlarge",
    "vcpuNum": 96
   },
   {
    "_defaultOrder": 39,
    "_isFastLaunch": false,
    "category": "Memory Optimized",
    "gpuNum": 0,
    "hideHardwareSpecs": false,
    "memoryGiB": 16,
    "name": "ml.r5.large",
    "vcpuNum": 2
   },
   {
    "_defaultOrder": 40,
    "_isFastLaunch": false,
    "category": "Memory Optimized",
    "gpuNum": 0,
    "hideHardwareSpecs": false,
    "memoryGiB": 32,
    "name": "ml.r5.xlarge",
    "vcpuNum": 4
   },
   {
    "_defaultOrder": 41,
    "_isFastLaunch": false,
    "category": "Memory Optimized",
    "gpuNum": 0,
    "hideHardwareSpecs": false,
    "memoryGiB": 64,
    "name": "ml.r5.2xlarge",
    "vcpuNum": 8
   },
   {
    "_defaultOrder": 42,
    "_isFastLaunch": false,
    "category": "Memory Optimized",
    "gpuNum": 0,
    "hideHardwareSpecs": false,
    "memoryGiB": 128,
    "name": "ml.r5.4xlarge",
    "vcpuNum": 16
   },
   {
    "_defaultOrder": 43,
    "_isFastLaunch": false,
    "category": "Memory Optimized",
    "gpuNum": 0,
    "hideHardwareSpecs": false,
    "memoryGiB": 256,
    "name": "ml.r5.8xlarge",
    "vcpuNum": 32
   },
   {
    "_defaultOrder": 44,
    "_isFastLaunch": false,
    "category": "Memory Optimized",
    "gpuNum": 0,
    "hideHardwareSpecs": false,
    "memoryGiB": 384,
    "name": "ml.r5.12xlarge",
    "vcpuNum": 48
   },
   {
    "_defaultOrder": 45,
    "_isFastLaunch": false,
    "category": "Memory Optimized",
    "gpuNum": 0,
    "hideHardwareSpecs": false,
    "memoryGiB": 512,
    "name": "ml.r5.16xlarge",
    "vcpuNum": 64
   },
   {
    "_defaultOrder": 46,
    "_isFastLaunch": false,
    "category": "Memory Optimized",
    "gpuNum": 0,
    "hideHardwareSpecs": false,
    "memoryGiB": 768,
    "name": "ml.r5.24xlarge",
    "vcpuNum": 96
   },
   {
    "_defaultOrder": 47,
    "_isFastLaunch": false,
    "category": "Accelerated computing",
    "gpuNum": 1,
    "hideHardwareSpecs": false,
    "memoryGiB": 16,
    "name": "ml.g5.xlarge",
    "vcpuNum": 4
   },
   {
    "_defaultOrder": 48,
    "_isFastLaunch": false,
    "category": "Accelerated computing",
    "gpuNum": 1,
    "hideHardwareSpecs": false,
    "memoryGiB": 32,
    "name": "ml.g5.2xlarge",
    "vcpuNum": 8
   },
   {
    "_defaultOrder": 49,
    "_isFastLaunch": false,
    "category": "Accelerated computing",
    "gpuNum": 1,
    "hideHardwareSpecs": false,
    "memoryGiB": 64,
    "name": "ml.g5.4xlarge",
    "vcpuNum": 16
   },
   {
    "_defaultOrder": 50,
    "_isFastLaunch": false,
    "category": "Accelerated computing",
    "gpuNum": 1,
    "hideHardwareSpecs": false,
    "memoryGiB": 128,
    "name": "ml.g5.8xlarge",
    "vcpuNum": 32
   },
   {
    "_defaultOrder": 51,
    "_isFastLaunch": false,
    "category": "Accelerated computing",
    "gpuNum": 1,
    "hideHardwareSpecs": false,
    "memoryGiB": 256,
    "name": "ml.g5.16xlarge",
    "vcpuNum": 64
   },
   {
    "_defaultOrder": 52,
    "_isFastLaunch": false,
    "category": "Accelerated computing",
    "gpuNum": 4,
    "hideHardwareSpecs": false,
    "memoryGiB": 192,
    "name": "ml.g5.12xlarge",
    "vcpuNum": 48
   },
   {
    "_defaultOrder": 53,
    "_isFastLaunch": false,
    "category": "Accelerated computing",
    "gpuNum": 4,
    "hideHardwareSpecs": false,
    "memoryGiB": 384,
    "name": "ml.g5.24xlarge",
    "vcpuNum": 96
   },
   {
    "_defaultOrder": 54,
    "_isFastLaunch": false,
    "category": "Accelerated computing",
    "gpuNum": 8,
    "hideHardwareSpecs": false,
    "memoryGiB": 768,
    "name": "ml.g5.48xlarge",
    "vcpuNum": 192
   },
   {
    "_defaultOrder": 55,
    "_isFastLaunch": false,
    "category": "Accelerated computing",
    "gpuNum": 8,
    "hideHardwareSpecs": false,
    "memoryGiB": 1152,
    "name": "ml.p4d.24xlarge",
    "vcpuNum": 96
   },
   {
    "_defaultOrder": 56,
    "_isFastLaunch": false,
    "category": "Accelerated computing",
    "gpuNum": 8,
    "hideHardwareSpecs": false,
    "memoryGiB": 1152,
    "name": "ml.p4de.24xlarge",
    "vcpuNum": 96
   }
  ],
  "instance_type": "ml.t3.medium",
  "interpreter": {
   "hash": "c281c456f1b8161c8906f4af2c08ed2c40c50136979eaae69688b01f70e9f4a9"
  },
  "kernelspec": {
   "display_name": "Python 3 (PyTorch 1.13 Python 3.9 CPU Optimized)",
   "language": "python",
   "name": "python3__SAGEMAKER_INTERNAL__arn:aws:sagemaker:us-east-1:081325390199:image/pytorch-1.13-cpu-py39"
  },
  "language_info": {
   "codemirror_mode": {
    "name": "ipython",
    "version": 3
   },
   "file_extension": ".py",
   "mimetype": "text/x-python",
   "name": "python",
   "nbconvert_exporter": "python",
   "pygments_lexer": "ipython3",
   "version": "3.9.16"
  },
  "lcc_arn": "arn:aws:sagemaker:us-east-1:000000000000:studio-lifecycle-config/auto-shutdown"
 },
 "nbformat": 4,
 "nbformat_minor": 4
}
