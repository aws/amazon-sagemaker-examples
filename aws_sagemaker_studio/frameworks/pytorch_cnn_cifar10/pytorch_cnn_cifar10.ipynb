{
 "cells": [
  {
   "cell_type": "markdown",
   "id": "396caecb",
   "metadata": {
    "papermill": {
     "duration": 0.010006,
     "end_time": "2021-06-03T00:09:43.604098",
     "exception": false,
     "start_time": "2021-06-03T00:09:43.594092",
     "status": "completed"
    },
    "tags": []
   },
   "source": [
    "# Training and Hosting a PyTorch model in Amazon SageMaker\n",
    "\n",
    "*(This notebook was tested with the \"Python 3 (PyTorch CPU Optimized)\" kernel.)*\n",
    "\n",
    "Amazon SageMaker is a fully managed service that provides developers and data scientists with the ability to build, train, and deploy machine learning (ML) models quickly. Amazon SageMaker removes the heavy lifting from each step of the machine learning process to make it easier to develop high-quality models. The SageMaker Python SDK makes it easy to train and deploy models in Amazon SageMaker with several different machine learning and deep learning frameworks, including PyTorch.\n",
    "\n",
    "In this notebook, we use Amazon SageMaker to train a convolutional neural network using PyTorch and the [CIFAR-10 dataset](https://www.cs.toronto.edu/~kriz/cifar.html), and then we host the model in Amazon SageMaker for inference."
   ]
  },
  {
   "cell_type": "markdown",
   "id": "6194c955",
   "metadata": {
    "papermill": {
     "duration": 0.010028,
     "end_time": "2021-06-03T00:09:43.624145",
     "exception": false,
     "start_time": "2021-06-03T00:09:43.614117",
     "status": "completed"
    },
    "tags": []
   },
   "source": [
    "## Setup\n",
    "\n",
    "Let's start by specifying:\n",
    "\n",
    "- An Amazon S3 bucket and prefix for training and model data. This should be in the same region used for SageMaker Studio, training, and hosting.\n",
    "- An IAM role for SageMaker to access to your training and model data. If you wish to use a different role than the one set up for SageMaker Studio, replace `sagemaker.get_execution_role()` with the appropriate IAM role or ARN. For more about using IAM roles with SageMaker, see [the AWS documentation](https://docs.aws.amazon.com/sagemaker/latest/dg/sagemaker-roles.html)."
   ]
  },
  {
   "cell_type": "code",
   "execution_count": null,
   "id": "87b8e32b",
   "metadata": {
    "execution": {
     "iopub.execute_input": "2021-06-03T00:09:43.648180Z",
     "iopub.status.busy": "2021-06-03T00:09:43.647463Z",
     "iopub.status.idle": "2021-06-03T00:09:44.867680Z",
     "shell.execute_reply": "2021-06-03T00:09:44.868050Z"
    },
    "papermill": {
     "duration": 1.233937,
     "end_time": "2021-06-03T00:09:44.868186",
     "exception": false,
     "start_time": "2021-06-03T00:09:43.634249",
     "status": "completed"
    },
    "tags": []
   },
   "outputs": [],
   "source": [
    "import sagemaker\n",
    "\n",
    "sagemaker_session = sagemaker.Session()\n",
    "\n",
    "bucket = sagemaker_session.default_bucket()\n",
    "prefix = \"pytorch-cnn-cifar10-example\"\n",
    "\n",
    "role = sagemaker.get_execution_role()"
   ]
  },
  {
   "cell_type": "markdown",
   "id": "256887f3",
   "metadata": {
    "papermill": {
     "duration": 0.010276,
     "end_time": "2021-06-03T00:09:44.888982",
     "exception": false,
     "start_time": "2021-06-03T00:09:44.878706",
     "status": "completed"
    },
    "tags": []
   },
   "source": [
    "## Prepare the training data\n",
    "\n",
    "The [CIFAR-10 dataset](https://www.cs.toronto.edu/~kriz/cifar.html) is a subset of the [80 million tiny images dataset](https://people.csail.mit.edu/torralba/tinyimages). It consists of 60,000 32x32 color images in 10 classes, with 6,000 images per class."
   ]
  },
  {
   "cell_type": "markdown",
   "id": "841c1580",
   "metadata": {
    "papermill": {
     "duration": 0.010117,
     "end_time": "2021-06-03T00:09:44.909449",
     "exception": false,
     "start_time": "2021-06-03T00:09:44.899332",
     "status": "completed"
    },
    "tags": []
   },
   "source": [
    "### Download the data\n",
    "\n",
    "First we download the dataset:"
   ]
  },
  {
   "cell_type": "code",
   "execution_count": null,
   "id": "31d6c14c",
   "metadata": {
    "execution": {
     "iopub.execute_input": "2021-06-03T00:09:44.934038Z",
     "iopub.status.busy": "2021-06-03T00:09:44.933576Z",
     "iopub.status.idle": "2021-06-03T00:09:53.644170Z",
     "shell.execute_reply": "2021-06-03T00:09:53.644717Z"
    },
    "papermill": {
     "duration": 8.725248,
     "end_time": "2021-06-03T00:09:53.644896",
     "exception": false,
     "start_time": "2021-06-03T00:09:44.919648",
     "status": "completed"
    },
    "tags": []
   },
   "outputs": [],
   "source": [
    "%%bash\n",
    "\n",
    "wget http://www.cs.toronto.edu/~kriz/cifar-10-python.tar.gz\n",
    "tar xfvz cifar-10-python.tar.gz\n",
    "\n",
    "mkdir data\n",
    "mv cifar-10-batches-py data/.\n",
    "\n",
    "rm cifar-10-python.tar.gz"
   ]
  },
  {
   "cell_type": "markdown",
   "id": "efb7b39b",
   "metadata": {
    "papermill": {
     "duration": 0.017264,
     "end_time": "2021-06-03T00:09:53.690619",
     "exception": false,
     "start_time": "2021-06-03T00:09:53.673355",
     "status": "completed"
    },
    "tags": []
   },
   "source": [
    "After downloading the dataset, we use the [`torchvision.datasets` module](https://pytorch.org/docs/stable/torchvision/datasets.html) to load the CIFAR-10 dataset, utilizing the [`torchvision.transforms` module](https://pytorch.org/docs/stable/torchvision/transforms.html) to convert the data into normalized tensor images:"
   ]
  },
  {
   "cell_type": "code",
   "execution_count": null,
   "id": "444f595a",
   "metadata": {
    "execution": {
     "iopub.execute_input": "2021-06-03T00:09:53.727141Z",
     "iopub.status.busy": "2021-06-03T00:09:53.726631Z",
     "iopub.status.idle": "2021-06-03T00:09:55.708260Z",
     "shell.execute_reply": "2021-06-03T00:09:55.708674Z"
    },
    "papermill": {
     "duration": 2.001889,
     "end_time": "2021-06-03T00:09:55.708807",
     "exception": false,
     "start_time": "2021-06-03T00:09:53.706918",
     "status": "completed"
    },
    "tags": []
   },
   "outputs": [],
   "source": [
    "from cifar_utils import classes, show_img, train_data_loader, test_data_loader\n",
    "\n",
    "train_loader = train_data_loader()\n",
    "test_loader = test_data_loader()"
   ]
  },
  {
   "cell_type": "markdown",
   "id": "345e021c",
   "metadata": {
    "papermill": {
     "duration": 0.016706,
     "end_time": "2021-06-03T00:09:55.742596",
     "exception": false,
     "start_time": "2021-06-03T00:09:55.725890",
     "status": "completed"
    },
    "tags": []
   },
   "source": [
    "### Preview the data\n",
    "\n",
    "Now we can view some of data we have prepared:"
   ]
  },
  {
   "cell_type": "code",
   "execution_count": null,
   "id": "fb31124a",
   "metadata": {
    "execution": {
     "iopub.execute_input": "2021-06-03T00:09:55.781158Z",
     "iopub.status.busy": "2021-06-03T00:09:55.780382Z",
     "iopub.status.idle": "2021-06-03T00:09:56.117352Z",
     "shell.execute_reply": "2021-06-03T00:09:56.117737Z"
    },
    "papermill": {
     "duration": 0.358628,
     "end_time": "2021-06-03T00:09:56.117889",
     "exception": false,
     "start_time": "2021-06-03T00:09:55.759261",
     "status": "completed"
    },
    "tags": []
   },
   "outputs": [],
   "source": [
    "import numpy as np\n",
    "import torchvision, torch\n",
    "\n",
    "# get some random training images\n",
    "dataiter = iter(train_loader)\n",
    "images, labels = dataiter.next()\n",
    "\n",
    "# show images\n",
    "show_img(torchvision.utils.make_grid(images))\n",
    "\n",
    "# print labels\n",
    "print(\" \".join(\"%9s\" % classes[labels[j]] for j in range(4)))"
   ]
  },
  {
   "cell_type": "markdown",
   "id": "3b212411",
   "metadata": {
    "papermill": {
     "duration": 0.018795,
     "end_time": "2021-06-03T00:09:56.155912",
     "exception": false,
     "start_time": "2021-06-03T00:09:56.137117",
     "status": "completed"
    },
    "tags": []
   },
   "source": [
    "### Upload the data\n",
    "We use the `sagemaker.s3.S3Uploader` to upload our dataset to Amazon S3. The return value `inputs` identifies the location -- we use this later for the training job."
   ]
  },
  {
   "cell_type": "code",
   "execution_count": null,
   "id": "d7928544",
   "metadata": {
    "execution": {
     "iopub.execute_input": "2021-06-03T00:09:56.206394Z",
     "iopub.status.busy": "2021-06-03T00:09:56.205832Z",
     "iopub.status.idle": "2021-06-03T00:10:01.282947Z",
     "shell.execute_reply": "2021-06-03T00:10:01.283357Z"
    },
    "papermill": {
     "duration": 5.109122,
     "end_time": "2021-06-03T00:10:01.283490",
     "exception": false,
     "start_time": "2021-06-03T00:09:56.174368",
     "status": "completed"
    },
    "tags": []
   },
   "outputs": [],
   "source": [
    "from sagemaker.s3 import S3Uploader\n",
    "\n",
    "inputs = S3Uploader.upload(\"data\", \"s3://{}/{}/data\".format(bucket, prefix))"
   ]
  },
  {
   "cell_type": "markdown",
   "id": "b4f655bf",
   "metadata": {
    "papermill": {
     "duration": 0.018788,
     "end_time": "2021-06-03T00:10:01.321435",
     "exception": false,
     "start_time": "2021-06-03T00:10:01.302647",
     "status": "completed"
    },
    "tags": []
   },
   "source": [
    "## Prepare the entry-point script\n",
    "\n",
    "When SageMaker trains and hosts our model, it runs a Python script that we provide. (This is run as the entry point of a Docker container.) For training, this script contains the PyTorch code needed for the model to learn from our dataset. For inference, the code is for loading the model and processing the prediction input. For convenience, we put both the training and inference code in the same file."
   ]
  },
  {
   "cell_type": "markdown",
   "id": "a470adff",
   "metadata": {
    "papermill": {
     "duration": 0.018532,
     "end_time": "2021-06-03T00:10:01.358640",
     "exception": false,
     "start_time": "2021-06-03T00:10:01.340108",
     "status": "completed"
    },
    "tags": []
   },
   "source": [
    "### Training\n",
    "\n",
    "The training code is very similar to a training script we might run outside of Amazon SageMaker, but we can access useful properties about the training environment through various environment variables. For this notebook, our script retrieves the following environment variable values:\n",
    "\n",
    "* `SM_HOSTS`: a list of hosts on the container network.\n",
    "* `SM_CURRENT_HOST`: the name of the current container on the container network.\n",
    "* `SM_MODEL_DIR`: the location for model artifacts. This directory is uploaded to Amazon S3 at the end of the training job.\n",
    "* `SM_CHANNEL_TRAINING`: the location of our training data.\n",
    "* `SM_NUM_GPUS`: the number of GPUs available to the current container.\n",
    "\n",
    "We also use a main guard (`if __name__=='__main__':`) to ensure that our training code is executed only for training, as SageMaker imports the entry-point script.\n",
    "\n",
    "For more about writing a PyTorch training script with SageMaker, please see the [SageMaker documentation](https://sagemaker.readthedocs.io/en/stable/using_pytorch.html#prepare-a-pytorch-training-script)."
   ]
  },
  {
   "cell_type": "markdown",
   "id": "66051bb8",
   "metadata": {
    "papermill": {
     "duration": 0.01844,
     "end_time": "2021-06-03T00:10:01.395461",
     "exception": false,
     "start_time": "2021-06-03T00:10:01.377021",
     "status": "completed"
    },
    "tags": []
   },
   "source": [
    "### Inference\n",
    "\n",
    "For inference, we need to implement a few specific functions to tell SageMaker how to load our model and handle prediction input.\n",
    "\n",
    "* `model_fn(model_dir)`: loads the model from disk. This function must be implemented.\n",
    "* `input_fn(serialized_input_data, content_type)`: deserializes the prediction input.\n",
    "* `predict_fn(input_data, model)`: calls the model on the deserialized data.\n",
    "* `output_fn(prediction_output, accept)`: serializes the prediction output.\n",
    "\n",
    "The last three functions - `input_fn`, `predict_fn`, and `output_fn` - are optional because SageMaker has default implementations to handle common content types. However, there is no default implementation of `model_fn` for PyTorch models on SageMaker, so our script has to implement `model_fn`.\n",
    "\n",
    "For more about PyTorch inference with SageMaker, please see the [SageMaker documentation](https://sagemaker.readthedocs.io/en/stable/using_pytorch.html#id3)."
   ]
  },
  {
   "cell_type": "markdown",
   "id": "70f54e44",
   "metadata": {
    "papermill": {
     "duration": 0.018422,
     "end_time": "2021-06-03T00:10:01.432398",
     "exception": false,
     "start_time": "2021-06-03T00:10:01.413976",
     "status": "completed"
    },
    "tags": []
   },
   "source": [
    "### Put it all together\n",
    "\n",
    "Here is the full script for both training and hosting our convolutional neural network:"
   ]
  },
  {
   "cell_type": "code",
   "execution_count": null,
   "id": "d8f6b47d",
   "metadata": {
    "execution": {
     "iopub.execute_input": "2021-06-03T00:10:01.474288Z",
     "iopub.status.busy": "2021-06-03T00:10:01.473477Z",
     "iopub.status.idle": "2021-06-03T00:10:02.303195Z",
     "shell.execute_reply": "2021-06-03T00:10:02.302758Z"
    },
    "papermill": {
     "duration": 0.852241,
     "end_time": "2021-06-03T00:10:02.303309",
     "exception": false,
     "start_time": "2021-06-03T00:10:01.451068",
     "status": "completed"
    },
    "tags": []
   },
   "outputs": [],
   "source": [
    "!pygmentize source/cifar10.py"
   ]
  },
  {
   "cell_type": "markdown",
   "id": "99a565b3",
   "metadata": {
    "papermill": {
     "duration": 0.019986,
     "end_time": "2021-06-03T00:10:02.343439",
     "exception": false,
     "start_time": "2021-06-03T00:10:02.323453",
     "status": "completed"
    },
    "tags": []
   },
   "source": [
    "## Run a SageMaker training job\n",
    "\n",
    "The SageMaker Python SDK makes it easy for us to interact with SageMaker. Here, we use the `PyTorch` estimator class to start a training job. We configure it with the following parameters:\n",
    "\n",
    "* `entry_point`: our training script.\n",
    "* `role`: an IAM role that SageMaker uses to access training and model data.\n",
    "* `framework_version`: the PyTorch version we wish to use. For a list of supported versions, see [here](https://github.com/aws/sagemaker-python-sdk#pytorch-sagemaker-estimators).\n",
    "* `instance_count`: the number of training instances.\n",
    "* `instance_type`: the training instance type. For a list of supported instance types, see [the AWS Documentation](https://aws.amazon.com/sagemaker/pricing/instance-types/).\n",
    "\n",
    "Once we our `PyTorch` estimator, we start a training job by calling `fit()` and passing the training data we uploaded to S3 earlier."
   ]
  },
  {
   "cell_type": "code",
   "execution_count": null,
   "id": "7c189dd0",
   "metadata": {
    "execution": {
     "iopub.execute_input": "2021-06-03T00:10:02.388414Z",
     "iopub.status.busy": "2021-06-03T00:10:02.387912Z",
     "iopub.status.idle": "2021-06-03T00:10:02.525917Z",
     "shell.execute_reply": "2021-06-03T00:10:02.524940Z"
    },
    "papermill": {
     "duration": 0.162796,
     "end_time": "2021-06-03T00:10:02.526136",
     "exception": true,
     "start_time": "2021-06-03T00:10:02.363340",
     "status": "failed"
    },
    "tags": []
   },
   "outputs": [],
   "source": [
    "from sagemaker.pytorch import PyTorch\n",
    "\n",
    "estimator = PyTorch(\n",
    "    entry_point=\"source/cifar10.py\",\n",
    "    role=role,\n",
    "    framework_version=\"1.4.0\",\n",
    "    py_version=\"py3\",\n",
    "    instance_count=1,\n",
    "    instance_type=\"ml.c5.xlarge\",\n",
    ")\n",
    "\n",
    "estimator.fit(inputs)"
   ]
  },
  {
   "cell_type": "markdown",
   "id": "70c5db4e",
   "metadata": {
    "papermill": {
     "duration": null,
     "end_time": null,
     "exception": null,
     "start_time": null,
     "status": "pending"
    },
    "tags": []
   },
   "source": [
    "## Deploy the model for inference\n",
    "\n",
    "After we train our model, we can deploy it to a SageMaker Endpoint, which serves prediction requests in real-time. To do so, we simply call `deploy()` on our estimator, passing in the desired number of instances and instance type for the endpoint:"
   ]
  },
  {
   "cell_type": "code",
   "execution_count": null,
   "id": "e9a81fba",
   "metadata": {
    "papermill": {
     "duration": null,
     "end_time": null,
     "exception": null,
     "start_time": null,
     "status": "pending"
    },
    "tags": []
   },
   "outputs": [],
   "source": [
    "predictor = estimator.deploy(initial_instance_count=1, instance_type=\"ml.c5.xlarge\")"
   ]
  },
  {
   "cell_type": "markdown",
   "id": "c1a5f0d7",
   "metadata": {
    "papermill": {
     "duration": null,
     "end_time": null,
     "exception": null,
     "start_time": null,
     "status": "pending"
    },
    "tags": []
   },
   "source": [
    "### Invoke the endpoint\n",
    "\n",
    "We then use the returned `predictor` object to invoke our endpoint. For demonstration purposes, we also print out the image, its original label, and its predicted label."
   ]
  },
  {
   "cell_type": "code",
   "execution_count": null,
   "id": "38fa8f5d",
   "metadata": {
    "papermill": {
     "duration": null,
     "end_time": null,
     "exception": null,
     "start_time": null,
     "status": "pending"
    },
    "tags": []
   },
   "outputs": [],
   "source": [
    "# get some test images\n",
    "dataiter = iter(test_loader)\n",
    "images, labels = dataiter.next()\n",
    "\n",
    "# print images, labels, and predictions\n",
    "show_img(torchvision.utils.make_grid(images))\n",
    "print(\"GroundTruth: \", \" \".join(\"%4s\" % classes[labels[j]] for j in range(4)))\n",
    "\n",
    "outputs = predictor.predict(images.numpy())\n",
    "\n",
    "_, predicted = torch.max(torch.from_numpy(np.array(outputs)), 1)\n",
    "\n",
    "print(\"Predicted:   \", \" \".join(\"%4s\" % classes[predicted[j]] for j in range(4)))"
   ]
  },
  {
   "cell_type": "markdown",
   "id": "63b1ee27",
   "metadata": {
    "papermill": {
     "duration": null,
     "end_time": null,
     "exception": null,
     "start_time": null,
     "status": "pending"
    },
    "tags": []
   },
   "source": [
    "## Cleanup\n",
    "\n",
    "Once finished, we delete our endpoint to release the instances (and avoid incurring extra costs)."
   ]
  },
  {
   "cell_type": "code",
   "execution_count": null,
   "id": "a607c490",
   "metadata": {
    "papermill": {
     "duration": null,
     "end_time": null,
     "exception": null,
     "start_time": null,
     "status": "pending"
    },
    "tags": []
   },
   "outputs": [],
   "source": [
    "predictor.delete_endpoint()"
   ]
  }
 ],
 "metadata": {
  "kernelspec": {
   "display_name": "Environment (conda_pytorch_p36)",
   "language": "python",
   "name": "conda_pytorch_p36"
  },
  "language_info": {
   "codemirror_mode": {
    "name": "ipython",
    "version": 3
   },
   "file_extension": ".py",
   "mimetype": "text/x-python",
   "name": "python",
   "nbconvert_exporter": "python",
   "pygments_lexer": "ipython3",
   "version": "3.6.10"
  },
  "notice": "Copyright 2018 Amazon.com, Inc. or its affiliates. All Rights Reserved.  Licensed under the Apache License, Version 2.0 (the \"License\"). You may not use this file except in compliance with the License. A copy of the License is located at http://aws.amazon.com/apache2.0/ or in the \"license\" file accompanying this file. This file is distributed on an \"AS IS\" BASIS, WITHOUT WARRANTIES OR CONDITIONS OF ANY KIND, either express or implied. See the License for the specific language governing permissions and limitations under the License.",
  "papermill": {
   "default_parameters": {},
   "duration": 21.049102,
   "end_time": "2021-06-03T00:10:03.807533",
   "environment_variables": {},
   "exception": true,
   "input_path": "pytorch_cnn_cifar10.ipynb",
   "output_path": "/opt/ml/processing/output/pytorch_cnn_cifar10-2021-06-03-00-05-20.ipynb",
   "parameters": {
    "kms_key": "arn:aws:kms:us-west-2:521695447989:key/6e9984db-50cf-4c7e-926c-877ec47a8b25"
   },
   "start_time": "2021-06-03T00:09:42.758431",
   "version": "2.3.3"
  }
 },
 "nbformat": 4,
 "nbformat_minor": 5
}
