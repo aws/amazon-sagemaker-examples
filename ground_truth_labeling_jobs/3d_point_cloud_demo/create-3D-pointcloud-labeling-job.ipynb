{
 "cells": [
  {
   "cell_type": "markdown",
   "metadata": {},
   "source": [
    "# Create a 3D Point Cloud Labeling Job with Amazon SageMaker Ground Truth\n",
    "\n",
    "\n",
    "This sample notebook takes you through an end-to-end workflow to demonstrate the functionality of SageMaker Ground Truth 3D point cloud built-in task types. \n",
    "\n",
    "### What is a Point Cloud\n",
    "\n",
    "A point cloud frame is defined as a collection of 3D points describing a 3D scene. Each point is described using three coordinates, x, y, and z. To add color and/or variations in point intensity to the point cloud, points may have additional attributes, such as i for intensity or values for the red (r), green (g), and blue (b) color channels (8-bit). All of the positional coordinates (x, y, z) are in meters. Point clouds are most commonly created from data that was collected by scanning the real world through various scanning methods, such as laser scanning and photogrammetry. Ground Truth currently also supports sensor fusion with video camera data. \n",
    "\n",
    "\n",
    "### 3D Point Cloud Built in Task Types\n",
    "\n",
    "You can use Ground Truth 3D point cloud labeling built-in task types to annotate 3D point cloud data. The following list briefly describes each task type. See [3D Point Cloud Task types](https://docs.aws.amazon.com/sagemaker/latest/dg/sms-point-cloud-task-types.html) for more information.\n",
    "\n",
    "* 3D point cloud object detection – Use this task type when you want workers to indentify the location of and classify objects in a 3D point cloud by drawing 3D cuboids around objects. You can include one or more attributes for each class (label) you provide.\n",
    "\n",
    "\n",
    "* 3D point cloud object tracking – Use this task type when you want workers to track the trajectory of an object across a sequence of 3D point cloud frames. For example, you can use this task type to ask workers to track the movement of vehicles across a sequence of point cloud frames.\n",
    "\n",
    "\n",
    "* 3D point cloud semantic segmentation – Use this task type when you want workers to create a point-level semantic segmentation mask by painting objects in a 3D point cloud using different colors where each color is assigned to one of the classes you specify.\n",
    "\n",
    "You can use the Adjustment task types to verify and adjust annotations created for the three task types above.\n",
    "\n",
    "### Sensor Fusion\n",
    "\n",
    "One of the important features of this product is sensor fusion, which fuses the inputs of multiple sensors to provide labelers with a better understanding of the 3D scene. \n",
    "\n",
    "When you create a 3D point cloud labeling job, you can optionally provide camera data for sensor fusion. Ground Truth uses your camera data to include images in the worker UI. These images give workers more visual information about scenes in the 3D point cloud visualization and can be used to annotate (draw 3D cuboids or paint) objects. When a worker adjusts annotation around an object in either the 2D image or the 3D point cloud, the adjustments shows up in the other medium. This tutorial will demonstrate how you can include image data in your input manifest file for sensor fusion. \n",
    "\n",
    "## This Demo\n",
    "\n",
    "In this demo, you'll start by inspecting the input data and manifest files used to in the demo. Then, you will specifying resources needed to create a labeling job. In this step, you'll have the option to make yourself a worker on a private work team that you send the labeling job tasks to. This will allow you can preview and interact with the worker UI. Finally, you'll configure and send your CreateLabelingJob request.\n",
    "\n",
    "After your labeling job has been created, you can check your labeling job status. When the job is completed, you can view the output in Amazon S3. \n",
    "\n",
    "## Prerequisites\n",
    "\n",
    "To run this notebook, you can simply execute each cell in order. To understand what's happening, you'll need:\n",
    "\n",
    "* An S3 bucket you can write to -- please provide its name in `BUCKET`. The bucket must be in the same region as this SageMaker Notebook instance. You can also change the `EXP_NAME` to any valid S3 prefix. All the files related to this experiment will be stored in that prefix of your bucket. **Important: you must attach the CORS policy to this bucket. See the next section for more information**.\n",
    "* Familiarity with the [Ground Truth 3D Point Cloud Labeling Job](https://docs.aws.amazon.com/sagemaker/latest/dg/sms-point-cloud.html).\n",
    "* Familiarity with Python and [numpy](http://www.numpy.org/).\n",
    "* Basic familiarity with [AWS S3](https://docs.aws.amazon.com/s3/index.html).\n",
    "* Basic understanding of [AWS Sagemaker](https://aws.amazon.com/sagemaker/).\n",
    "* Basic familiarity with [AWS Command Line Interface (CLI)](https://aws.amazon.com/cli/) -- ideally, you should have it set up with credentials to access the AWS account you're running this notebook from.\n",
    "\n",
    "This notebook has only been tested on a SageMaker notebook instance. The runtimes given are approximate. We used an `ml.t2.medium` instance in our tests. However, you can likely run it on a local instance by first executing the cell below on SageMaker and then copying the `role` string to your local copy of the notebook."
   ]
  },
  {
   "cell_type": "markdown",
   "metadata": {},
   "source": [
    "### IMPORTANT: Attach CORS policy to your bucket\n",
    "\n",
    "You must attach the following CORS policy to your S3 bucket for the labeling task to render. To learn how to add a CORS policy to your S3 bucket, follow the instructions in [How do I add cross-domain resource sharing with CORS?](https://docs.aws.amazon.com/AmazonS3/latest/user-guide/add-cors-configuration.html). Paste the following policy in the CORS configuration editor:\n",
    "\n",
    "```\n",
    "<?xml version=\"1.0\" encoding=\"UTF-8\"?>\n",
    "<CORSConfiguration xmlns=\"http://s3.amazonaws.com/doc/2006-03-01/\">\n",
    "<CORSRule>\n",
    "    <AllowedOrigin>*</AllowedOrigin>\n",
    "    <AllowedMethod>GET</AllowedMethod>\n",
    "    <AllowedMethod>HEAD</AllowedMethod>\n",
    "    <AllowedMethod>PUT</AllowedMethod>\n",
    "    <MaxAgeSeconds>3000</MaxAgeSeconds>\n",
    "    <ExposeHeader>Access-Control-Allow-Origin</ExposeHeader>\n",
    "    <AllowedHeader>*</AllowedHeader>\n",
    "</CORSRule>\n",
    "<CORSRule>\n",
    "    <AllowedOrigin>*</AllowedOrigin>\n",
    "    <AllowedMethod>GET</AllowedMethod>\n",
    "</CORSRule>\n",
    "</CORSConfiguration>\n",
    "```\n",
    "\n"
   ]
  },
  {
   "cell_type": "code",
   "execution_count": null,
   "metadata": {},
   "outputs": [],
   "source": [
    "import boto3\n",
    "import botocore\n",
    "import time\n",
    "import pprint\n",
    "import json\n",
    "import sagemaker\n",
    "from sagemaker import get_execution_role\n",
    "from datetime import datetime, timezone\n",
    "\n",
    "pp = pprint.PrettyPrinter(indent=4)\n",
    "\n",
    "sess = sagemaker.session.Session()\n",
    "role = sagemaker.get_execution_role()\n",
    "region = boto3.session.Session().region_name\n",
    "\n",
    "sagemaker_client = boto3.client('sagemaker')\n",
    "s3 = boto3.client('s3')\n",
    "iam = boto3.client('iam')"
   ]
  },
  {
   "cell_type": "code",
   "execution_count": null,
   "metadata": {},
   "outputs": [],
   "source": [
    "### The following cell will set up your S3 bucket and execution role"
   ]
  },
  {
   "cell_type": "code",
   "execution_count": null,
   "metadata": {},
   "outputs": [],
   "source": [
    "BUCKET = ''\n",
    "EXP_NAME = '' # Any valid S3 prefix."
   ]
  },
  {
   "cell_type": "code",
   "execution_count": null,
   "metadata": {},
   "outputs": [],
   "source": [
    "# Make sure the bucket is in the same region as this notebook.\n",
    "bucket_region = s3.head_bucket(Bucket=BUCKET)['ResponseMetadata']['HTTPHeaders']['x-amz-bucket-region']\n",
    "assert bucket_region == region, \"Your S3 bucket {} and this notebook need to be in the same region.\".format(BUCKET)"
   ]
  },
  {
   "cell_type": "markdown",
   "metadata": {},
   "source": [
    "## Copy and modify files from the sample bucket\n",
    "\n",
    "The sample files for this demo are in a public bucket to provide you with the inputs to try this demo. In order for this demo to work, we will need to copy these files to the bucket you specified in `BUCKET` so that there are in a place where you have read/write access. Additionally, we will have to update the file paths that refer to our public demo bucket to the bucket you specified above."
   ]
  },
  {
   "cell_type": "code",
   "execution_count": null,
   "metadata": {},
   "outputs": [],
   "source": [
    "%%bash -s \"$BUCKET\"\n",
    "mkdir -p sample_files\n",
    "\n",
    "aws s3 cp s3://aws-ml-blog/artifacts/gt-point-cloud-demos/manifests sample_files/manifests --quiet --recursive\n",
    "aws s3 cp s3://aws-ml-blog/artifacts/gt-point-cloud-demos/label-category-config sample_files/label-category-config --quiet --recursive\n",
    "aws s3 cp s3://aws-ml-blog/artifacts/gt-point-cloud-demos/output sample_files/output --quiet --recursive\n",
    "aws s3 cp s3://aws-ml-blog/artifacts/gt-point-cloud-demos/sequences sample_files/sequences --quiet --recursive\n",
    "aws s3 cp s3://aws-ml-blog/artifacts/gt-point-cloud-demos/frames/0.txt sample_files/frames/0.txt --quiet\n",
    "aws s3 cp s3://aws-ml-blog/artifacts/gt-point-cloud-demos/frames/images/frame_0_camera_0.jpg sample_files/frames/images/frame_0_camera_0.jpg --quiet\n",
    "aws s3 cp s3://aws-ml-blog/artifacts/gt-point-cloud-demos/frames/images/frame_1_camera_0.jpg sample_files/frames/images/frame_1_camera_0.jpg --quiet\n",
    "aws s3 cp s3://aws-ml-blog/artifacts/gt-point-cloud-demos/frames/images/frame_2_camera_0.jpg sample_files/frames/images/frame_2_camera_0.jpg --quiet\n",
    "aws s3 cp s3://aws-ml-blog/artifacts/gt-point-cloud-demos/frames/images/frame_3_camera_0.jpg sample_files/frames/images/frame_3_camera_0.jpg --quiet\n",
    "aws s3 cp s3://aws-ml-blog/artifacts/gt-point-cloud-demos/frames/images/frame_4_camera_0.jpg sample_files/frames/images/frame_4_camera_0.jpg --quiet\n",
    "aws s3 cp s3://aws-ml-blog/artifacts/gt-point-cloud-demos/frames/images/frame_5_camera_0.jpg sample_files/frames/images/frame_5_camera_0.jpg --quiet\n",
    "aws s3 cp s3://aws-ml-blog/artifacts/gt-point-cloud-demos/frames/images/frame_6_camera_0.jpg sample_files/frames/images/frame_6_camera_0.jpg --quiet\n",
    "aws s3 cp s3://aws-ml-blog/artifacts/gt-point-cloud-demos/frames/images/frame_7_camera_0.jpg sample_files/frames/images/frame_7_camera_0.jpg --quiet\n",
    "aws s3 cp s3://aws-ml-blog/artifacts/gt-point-cloud-demos/frames/images/frame_8_camera_0.jpg sample_files/frames/images/frame_8_camera_0.jpg --quiet\n",
    "aws s3 cp s3://aws-ml-blog/artifacts/gt-point-cloud-demos/frames/images/frame_9_camera_0.jpg sample_files/frames/images/frame_9_camera_0.jpg --quiet\n",
    "    \n",
    "find ./sample_files/ -type f -name \"*.json\" -print0 | xargs -0 sed -i -e \"s/aws-ml-blog/$1/g\"\n",
    "\n",
    "aws s3 cp ./sample_files/ s3://$1/artifacts/gt-point-cloud-demos/ --quiet --recursive"
   ]
  },
  {
   "cell_type": "markdown",
   "metadata": {},
   "source": [
    "## The Dataset and Input Manifest Files"
   ]
  },
  {
   "cell_type": "markdown",
   "metadata": {},
   "source": [
    "The dataset and resources used in this notebook are located in the following Amazon S3 bucket. s3://aws-ml-blog/artifacts/gt-point-cloud-demos.\n",
    "\n",
    "This bucket contains our input manifest files and our input data: 3D point cloud frame files and images for sensor fusion. First, we'll inspect the input data and input manifest files. In the next section, you will select your labeling job type, and identify resources required to create a labeling job. "
   ]
  },
  {
   "cell_type": "code",
   "execution_count": null,
   "metadata": {},
   "outputs": [],
   "source": [
    "!aws s3 ls s3://$BUCKET/artifacts/gt-point-cloud-demos/"
   ]
  },
  {
   "cell_type": "markdown",
   "metadata": {},
   "source": [
    "Depending on the task type that you choose in the following section, you will use a **manifest with single-frame per task**, or *frame input manifest* or **manifest with multi-frame sequence per task**, or a *sequence input manifest*. To learn more about the types of 3D Point Cloud input manfiest files, see [3D Point Cloud Input Data](https://docs.aws.amazon.com/sagemaker/latest/dg/sms-point-cloud-input-data.html).\n",
    "\n",
    "### Input Manifest File With Single Frame Per Task\n",
    "\n",
    "When you use a frame input manifest for 3D point cloud object detection and semantic segmentation task types, each line in the input manifest will identify the location of a single point cloud file in Amazon S3. When a task is created, workers will be asked to classify or add a segmentation mask to objects in that frame (depending on the task type). \n",
    "\n",
    "Let's look at the single-frame input manfiest. You'll see that this manifest file contains the location of a point cloud file in `source-ref`, as well as the pose of the vehicle used to collect the data (ego-vehicle), image pose information and other image data used for sensor fusion. See [Create a Point Cloud Frame Input Manifest File](https://docs.aws.amazon.com/sagemaker/latest/dg/sms-point-cloud-single-frame-input-data.html) to learn more about these parameters.  "
   ]
  },
  {
   "cell_type": "code",
   "execution_count": null,
   "metadata": {},
   "outputs": [],
   "source": [
    "!wget https://s3.amazonaws.com/aws-ml-blog/artifacts/gt-point-cloud-demos/manifests/SingleFrame-manifest.json -O SingleFrame-manifest.json"
   ]
  },
  {
   "cell_type": "code",
   "execution_count": null,
   "metadata": {},
   "outputs": [],
   "source": [
    "print(\"\\nThe single-frame input manifest file:\")\n",
    "with open('SingleFrame-manifest.json', 'r') as j:\n",
    "    json_data = json.load(j)\n",
    "    print(\"\\n\",json.dumps(json_data, indent=4, sort_keys=True))"
   ]
  },
  {
   "cell_type": "markdown",
   "metadata": {},
   "source": [
    "The point cloud data in the file, `0.txt`, identified in the manfiest above is in ASCII format. Each line in the point cloud file contains information about a single point. The first three values are x, y, and z location coordinates, and the last element is the pixel intensity. To learn more about this raw data format, see [ASCII Format](https://docs.aws.amazon.com/sagemaker/latest/dg/sms-point-cloud-raw-data-types.html#sms-point-cloud-raw-data-ascii-format)."
   ]
  },
  {
   "cell_type": "code",
   "execution_count": null,
   "metadata": {},
   "outputs": [],
   "source": [
    "!wget https://s3.amazonaws.com/aws-ml-blog/artifacts/gt-point-cloud-demos/frames/0.txt -O 0.txt"
   ]
  },
  {
   "cell_type": "code",
   "execution_count": null,
   "metadata": {},
   "outputs": [],
   "source": [
    "frame = open('0.txt')\n",
    "print(\"\\nA single line from the point cloud file with x, y, z and pixel intensity values: \\n\")\n",
    "frame.readline()"
   ]
  },
  {
   "cell_type": "markdown",
   "metadata": {},
   "source": [
    "### Input Manifest File With Multi-Frame Sequence Per Task\n",
    "\n",
    "When you chooose a sequence input manifest file, each line in the input manifest will point to a *sequence file* in Amazon S3. A sequence specifies a temporal series of point cloud frames. When a task is created using a sequence file, all point cloud frames in the sequence are sent to a worker to label. Workers can navigate back and forth between and annotate (with 3D cuboids) the sequence of frames to track the trajectory of objects across frames. \n",
    "\n",
    "Let's look at the sequence input manifest file. You'll see that this input manifest contains the location of a single sequence file. "
   ]
  },
  {
   "cell_type": "code",
   "execution_count": null,
   "metadata": {},
   "outputs": [],
   "source": [
    "!wget https://s3.amazonaws.com/aws-ml-blog/artifacts/gt-point-cloud-demos/manifests/OT-manifest-10-frame.json -O OT-manifest-10-frame.json"
   ]
  },
  {
   "cell_type": "code",
   "execution_count": null,
   "metadata": {},
   "outputs": [],
   "source": [
    "print(\"\\nThe multi-frame input manifest file:\")\n",
    "with open('OT-manifest-10-frame.json', 'r') as j:\n",
    "    json_data = json.load(j)\n",
    "    print(\"\\n\",json.dumps(json_data, indent=4, sort_keys=True))"
   ]
  },
  {
   "cell_type": "markdown",
   "metadata": {},
   "source": [
    "Let's look at the sequence file, seq1.json. You will see that this single sequence file contains the location of 10 frames, as well as pose information on the vehicle (ego-vehicle) and camera. See [Create a Point Cloud Frame Sequence Input Manifest](http://docs.aws.amazon.com/sagemaker/latest/dg/sms-point-cloud-multi-frame-input-data.html) to learn more about these parameters."
   ]
  },
  {
   "cell_type": "code",
   "execution_count": null,
   "metadata": {},
   "outputs": [],
   "source": [
    "!wget https://s3.amazonaws.com/aws-ml-blog/artifacts/gt-point-cloud-demos/sequences/seq2.json -O seq1.json"
   ]
  },
  {
   "cell_type": "code",
   "execution_count": null,
   "metadata": {},
   "outputs": [],
   "source": [
    "with open('seq1.json', 'r') as j:\n",
    "    json_data = json.load(j)\n",
    "    print(\"\\nA single sequence file: \\n\\n\",json.dumps(json_data, indent=4, sort_keys=True))"
   ]
  },
  {
   "cell_type": "markdown",
   "metadata": {},
   "source": [
    "## Select a 3D Point Cloud Labeling Job Task Type"
   ]
  },
  {
   "cell_type": "markdown",
   "metadata": {},
   "source": [
    "In the following cell, select a [3D Point Cloud Task Type](https://docs.aws.amazon.com/sagemaker/latest/dg/sms-point-cloud-task-types.html) by sepcifying a value for `task_type`."
   ]
  },
  {
   "cell_type": "code",
   "execution_count": null,
   "metadata": {},
   "outputs": [],
   "source": [
    "## Choose from following:\n",
    "## 3DPointCloudObjectDetection\n",
    "## 3DPointCloudObjectTracking\n",
    "## 3DPointCloudSemanticSegmentation\n",
    "## Adjustment3DPointCloudObjectDetection\n",
    "## Adjustment3DPointCloudObjectTracking\n",
    "## Adjustment3DPointCloudSemanticSegmentation\n",
    "\n",
    "task_type = \"3DPointCloudObjectTracking\""
   ]
  },
  {
   "cell_type": "markdown",
   "metadata": {},
   "source": [
    "## Identify Resources for Labeling Job"
   ]
  },
  {
   "cell_type": "markdown",
   "metadata": {},
   "source": [
    "The following will be used to select the HumanTaskUiArn. When you create a 3D point cloud labeling job, Ground Truth provides the worker task UI. The following cell identifies the correct HumanTaskUiArn to use a worker UI that is specific to your task type. You can see examples of the worker UIs on the [3D Point Cloud Task Type](https://docs.aws.amazon.com/sagemaker/latest/dg/sms-point-cloud-task-types.html) pages.  "
   ]
  },
  {
   "cell_type": "code",
   "execution_count": null,
   "metadata": {},
   "outputs": [],
   "source": [
    "## Set up human_task_ui_arn map\n",
    "\n",
    "human_task_ui_arn_map = {'3DPointCloudObjectDetection': f'arn:aws:sagemaker:{region}:394669845002:human-task-ui/PointCloudObjectDetection',\n",
    "              '3DPointCloudObjectTracking': f'arn:aws:sagemaker:{region}:394669845002:human-task-ui/PointCloudObjectTracking',\n",
    "              '3DPointCloudSemanticSegmentation': f'arn:aws:sagemaker:{region}:394669845002:human-task-ui/PointCloudSemanticSegmentation',\n",
    "              'Adjustment3DPointCloudObjectDetection': f'arn:aws:sagemaker:{region}:394669845002:human-task-ui/PointCloudObjectDetection',\n",
    "              'Adjustment3DPointCloudObjectTracking': f'arn:aws:sagemaker:{region}:394669845002:human-task-ui/PointCloudObjectTracking',\n",
    "              'Adjustment3DPointCloudSemanticSegmentation': f'arn:aws:sagemaker:{region}:394669845002:human-task-ui/PointCloudSemanticSegmentation'}"
   ]
  },
  {
   "cell_type": "markdown",
   "metadata": {},
   "source": [
    "### Input Data and Input Manifest File\n",
    "\n",
    "The following task types (and associated adjustment labeling jobs) require the following types of input manifest files. \n",
    "\n",
    "* 3D point cloud object detection – frame input manifest\n",
    "* 3D point cloud semantic segmentation – frame input manifest\n",
    "* 3D point cloud object tracking – sequence frame input manifest \n",
    "\n",
    "Run the following to identify an input manifest file for the task type you selected in the previous section. "
   ]
  },
  {
   "cell_type": "code",
   "execution_count": null,
   "metadata": {},
   "outputs": [],
   "source": [
    "## Set up manifest_s3_uri_map, to be used to set up Input ManifestS3Uri\n",
    "\n",
    "manifest_s3_uri_map = {'3DPointCloudObjectDetection': f's3://{BUCKET}/artifacts/gt-point-cloud-demos/manifests/SingleFrame-manifest.json',\n",
    "              '3DPointCloudObjectTracking': f's3://{BUCKET}/artifacts/gt-point-cloud-demos/manifests/OT-manifest-10-frame.json',\n",
    "              '3DPointCloudSemanticSegmentation': f's3://{BUCKET}/artifacts/gt-point-cloud-demos/manifests/SS-manifest.json',\n",
    "              'Adjustment3DPointCloudObjectDetection': f's3://{BUCKET}/artifacts/gt-point-cloud-demos/manifests/OD-adjustment-manifest.json',\n",
    "              'Adjustment3DPointCloudObjectTracking': f's3://{BUCKET}/artifacts/gt-point-cloud-demos/manifests/OT-adjustment-manifest.json',\n",
    "              'Adjustment3DPointCloudSemanticSegmentation': f's3://{BUCKET}/artifacts/gt-point-cloud-demos/manifests/SS-audit-manifest-5-17.json'}"
   ]
  },
  {
   "cell_type": "markdown",
   "metadata": {},
   "source": [
    "### Label Category Configuration File\n",
    "\n",
    "Your label category configuration file is used to specify labels, or classes, for your labeling job.\n",
    "\n",
    "When you use the object detection or object tracking task types, you can also include **label attributes** in your label category configuration file. Workers can assign one or more attributes you provide to annotations to give more information about that object. For example, you may want to use the attribute *occluded* to have workers identify when an object is partially obstructed. \n",
    "\n",
    "Let's look at an example of the label category configuration file for an object detection or object tracking labeling job. "
   ]
  },
  {
   "cell_type": "code",
   "execution_count": null,
   "metadata": {},
   "outputs": [],
   "source": [
    "!wget https://s3.amazonaws.com/aws-ml-blog/artifacts/gt-point-cloud-demos/label-category-config/label-category.json -O label-category.json"
   ]
  },
  {
   "cell_type": "code",
   "execution_count": null,
   "metadata": {},
   "outputs": [],
   "source": [
    "with open('label-category.json', 'r') as j:\n",
    "    json_data = json.load(j)\n",
    "    print(\"\\nA label category configuration file: \\n\\n\",json.dumps(json_data, indent=4, sort_keys=True))"
   ]
  },
  {
   "cell_type": "markdown",
   "metadata": {},
   "source": [
    "To learn more about the label category configuration file, see [Create a Label Category Configuration File](https://docs.aws.amazon.com/sagemaker/latest/dg/sms-point-cloud-label-category-config.html)\n",
    "\n",
    "Run the following cell to identify the labeling category configuration file."
   ]
  },
  {
   "cell_type": "code",
   "execution_count": null,
   "metadata": {},
   "outputs": [],
   "source": [
    "label_category_file_s3_uri_map = {\n",
    "    '3DPointCloudObjectDetection': f's3://{BUCKET}/artifacts/gt-point-cloud-demos/label-category-config/label-category.json',\n",
    "      '3DPointCloudObjectTracking': f's3://{BUCKET}/artifacts/gt-point-cloud-demos/label-category-config/label-category.json',\n",
    "      '3DPointCloudSemanticSegmentation': f's3://{BUCKET}/artifacts/gt-point-cloud-demos/label-category-config/label-category.json',\n",
    "      'Adjustment3DPointCloudObjectDetection': f's3://{BUCKET}/artifacts/gt-point-cloud-demos/label-category-config/od-adjustment-label-categories-file.json',\n",
    "      'Adjustment3DPointCloudObjectTracking': f's3://{BUCKET}/artifacts/gt-point-cloud-demos/label-category-config/ot-adjustment-label-categories-file.json',\n",
    "      'Adjustment3DPointCloudSemanticSegmentation': f's3://{BUCKET}/artifacts/gt-point-cloud-demos/label-category-config/SS-audit-5-17-updated-manually-created-label-categories-file.json'\n",
    "}"
   ]
  },
  {
   "cell_type": "code",
   "execution_count": null,
   "metadata": {},
   "outputs": [],
   "source": [
    "#You can use this to identify your labeling job by appending these abbreviations to your lableing job name. \n",
    "name_abbreviation_map = {\n",
    "     '3DPointCloudObjectDetection': 'OD',\n",
    "      '3DPointCloudObjectTracking': 'OT',\n",
    "      '3DPointCloudSemanticSegmentation': 'SS',\n",
    "      'Adjustment3DPointCloudObjectDetection': 'OD-ADJ',\n",
    "      'Adjustment3DPointCloudObjectTracking': 'OT-ADJ',\n",
    "      'Adjustment3DPointCloudSemanticSegmentation': \"SS-ADJ\"\n",
    "}"
   ]
  },
  {
   "cell_type": "markdown",
   "metadata": {},
   "source": [
    "### Set up Human Task Configuration\n",
    "\n",
    "`HumanTaskConfig` is used to specify your work team, and configure your labeling job tasks. \n",
    "\n",
    "If you want to preview the worker task UI, create a private work team and add yourself as a worker. \n",
    "\n",
    "If you have already created a private workforce, follow the instructions in [Add or Remove Workers](https://docs.aws.amazon.com/sagemaker/latest/dg/sms-workforce-management-private-console.html#add-remove-workers-sm) to add yourself to the work team you use to create a lableing job. "
   ]
  },
  {
   "cell_type": "markdown",
   "metadata": {},
   "source": [
    "#### Create a Private Workforce and Add Yourself as a Worker\n",
    "\n",
    "To create and manage your private workforce, you can use the **Labeling workforces** page in the Amazon SageMaker console. When following the instructions below, you will have the option to create a private workforce by entering worker emails or importing a pre-existing workforce from an Amazon Cognito user pool. To import a workforce, see [Create a Private Workforce (Amazon Cognito Console)](https://docs.aws.amazon.com/sagemaker/latest/dg/sms-workforce-create-private-cognito.html).\n",
    "\n",
    "To create a private workforce using worker emails:\n",
    "\n",
    "* Open the Amazon SageMaker console at https://console.aws.amazon.com/sagemaker/.\n",
    "\n",
    "* In the navigation pane, choose **Labeling workforces**.\n",
    "\n",
    "* Choose Private, then choose **Create private team**.\n",
    "\n",
    "* Choose **Invite new workers by email**.\n",
    "\n",
    "* Paste or type a list of up to 50 email addresses, separated by commas, into the email addresses box.\n",
    "\n",
    "* Enter an organization name and contact email.\n",
    "\n",
    "* Optionally choose an SNS topic to subscribe the team to so workers are notified by email when new Ground Truth labeling jobs become available. \n",
    "\n",
    "* Click the **Create private team** button.\n",
    "\n",
    "After you import your private workforce, refresh the page. On the Private workforce summary page, you'll see your work team ARN. Enter this ARN in the following cell. "
   ]
  },
  {
   "cell_type": "code",
   "execution_count": null,
   "metadata": {},
   "outputs": [],
   "source": [
    "workteam_arn = ''"
   ]
  },
  {
   "cell_type": "markdown",
   "metadata": {},
   "source": [
    "#### Task Time Limits\n",
    "\n",
    "3D point cloud annotation jobs can take workers hours or days to complete. Workers will be able to start your labeling task, save their work as they go, and complete the task in multiple sittings. Ground Truth will also automatically save workers' annotations periodically as they work. \n",
    "\n",
    "When you configure your task, you can set the total amount of time that workers can work on each task when you create a labeling job using `TaskTimeLimitInSeconds`. The maximum time you can set for workers to work on tasks is 7 days. The default value is 3 days.  \n",
    "\n",
    "If you set `TaskTimeLimitInSeconds` to be greater than 8 hours, you must set `MaxSessionDuration` for your IAM execution to at least 8 hours. To update your execution role's `MaxSessionDuration`, use [UpdateRole](https://docs.aws.amazon.com/IAM/latest/APIReference/API_UpdateRole.html) or in the [IAM console](https://docs.aws.amazon.com/IAM/latest/UserGuide/roles-managingrole-editing-console.html#roles-modify_max-session-duration). "
   ]
  },
  {
   "cell_type": "code",
   "execution_count": null,
   "metadata": {},
   "outputs": [],
   "source": [
    "#See your execution role ARN. The role name is located at the end of the ARN. \n",
    "print(role)"
   ]
  },
  {
   "cell_type": "code",
   "execution_count": null,
   "metadata": {},
   "outputs": [],
   "source": [
    "ac_arn_map = {'us-west-2': '081040173940',\n",
    "              'us-east-1': '432418664414',\n",
    "              'us-east-2': '266458841044',\n",
    "              'eu-west-1': '568282634449',\n",
    "              'ap-northeast-1': '477331159723'}\n",
    "\n",
    "prehuman_arn = 'arn:aws:lambda:{}:{}:function:PRE-{}'.format(region, ac_arn_map[region],task_type)\n",
    "acs_arn = 'arn:aws:lambda:{}:{}:function:ACS-{}'.format(region, ac_arn_map[region],task_type) "
   ]
  },
  {
   "cell_type": "code",
   "execution_count": null,
   "metadata": {},
   "outputs": [],
   "source": [
    "## Set up Human Task Config\n",
    "\n",
    "## Modify the following\n",
    "task_description = 'add a task description here'\n",
    "#example keywords\n",
    "task_keywords = ['lidar', 'pointcloud']\n",
    "#add a task title\n",
    "task_title = 'Add a Task Title Here - This is Displayed to Workers'\n",
    "#add a job name to identify your labeling job\n",
    "job_name = 'add-job-name'\n",
    "\n",
    "\n",
    "human_task_config = {\n",
    "      \"AnnotationConsolidationConfig\": {\n",
    "        \"AnnotationConsolidationLambdaArn\": acs_arn,\n",
    "      },\n",
    "      \"WorkteamArn\": workteam_arn,\n",
    "      \"PreHumanTaskLambdaArn\": prehuman_arn,\n",
    "      \"MaxConcurrentTaskCount\": 200, # 200 images will be sent at a time to the workteam.\n",
    "      \"NumberOfHumanWorkersPerDataObject\": 1, # One worker will work on each task\n",
    "      \"TaskAvailabilityLifetimeInSeconds\": 18000, # Your workteam has 5 hours to complete all pending tasks.\n",
    "      \"TaskDescription\": task_description,\n",
    "      \"TaskKeywords\": task_keywords,\n",
    "      \"TaskTimeLimitInSeconds\": 3600, # Each seq/frame must be labeled within 1 hour.\n",
    "      \"TaskTitle\": task_title\n",
    "    }\n",
    "\n",
    "\n",
    "human_task_config['UiConfig'] = {\n",
    "    \"HumanTaskUiArn\":\"{}\".format(human_task_ui_arn_map[task_type])\n",
    "}"
   ]
  },
  {
   "cell_type": "code",
   "execution_count": null,
   "metadata": {},
   "outputs": [],
   "source": [
    "print(json.dumps(human_task_config, indent=4, sort_keys=True))"
   ]
  },
  {
   "cell_type": "markdown",
   "metadata": {},
   "source": [
    "### Set up Create Labeling Request"
   ]
  },
  {
   "cell_type": "markdown",
   "metadata": {},
   "source": [
    "The following formats your labeling job request. For Object Tracking task types, the `LabelAttributeName` must end in `-ref`."
   ]
  },
  {
   "cell_type": "code",
   "execution_count": null,
   "metadata": {},
   "outputs": [],
   "source": [
    "## Set up Create Labeling Request\n",
    "\n",
    "labelAttributeName = job_name + \"-ref\"\n",
    "\n",
    "if task_type == \"3DPointCloudObjectDetection\" or task_type == \"Adjustment3DPointCloudObjectDetection\":\n",
    "    labelAttributeName = job_name\n",
    "\n",
    "\n",
    "ground_truth_request = {\n",
    "        \"InputConfig\" : {\n",
    "          \"DataSource\": {\n",
    "            \"S3DataSource\": {\n",
    "              \"ManifestS3Uri\": '{}'.format(manifest_s3_uri_map[task_type]),\n",
    "            }\n",
    "          },\n",
    "          \"DataAttributes\": {\n",
    "            \"ContentClassifiers\": [\n",
    "              \"FreeOfPersonallyIdentifiableInformation\",\n",
    "              \"FreeOfAdultContent\"\n",
    "            ]\n",
    "          },  \n",
    "        },\n",
    "        \"OutputConfig\" : {\n",
    "          \"S3OutputPath\": f's3://{BUCKET}/{EXP_NAME}/output/',\n",
    "        },\n",
    "        \"HumanTaskConfig\" : human_task_config,\n",
    "        \"LabelingJobName\": job_name,\n",
    "        \"RoleArn\": role, \n",
    "        \"LabelAttributeName\": labelAttributeName,\n",
    "        \"LabelCategoryConfigS3Uri\": label_category_file_s3_uri_map[task_type]\n",
    "    }\n",
    "\n",
    "print(json.dumps(ground_truth_request, indent=4, sort_keys=True))"
   ]
  },
  {
   "cell_type": "markdown",
   "metadata": {},
   "source": [
    "### Call CreateLabelingJob"
   ]
  },
  {
   "cell_type": "code",
   "execution_count": null,
   "metadata": {},
   "outputs": [],
   "source": [
    "sagemaker_client.create_labeling_job(**ground_truth_request)\n",
    "print(f'Labeling Job Name: {job_name}')"
   ]
  },
  {
   "cell_type": "markdown",
   "metadata": {},
   "source": [
    "## Check Status of Labeling Job"
   ]
  },
  {
   "cell_type": "code",
   "execution_count": null,
   "metadata": {},
   "outputs": [],
   "source": [
    "## call describeLabelingJob\n",
    "describeLabelingJob = sagemaker_client.describe_labeling_job(\n",
    "    LabelingJobName=job_name\n",
    ")\n",
    "print(describeLabelingJob)"
   ]
  },
  {
   "cell_type": "markdown",
   "metadata": {},
   "source": [
    "### Start Working on tasks\n",
    "\n",
    "When you add yourself to a private work team, you recieve an email invitation to access the worker portal. Use this invitation to sign in to the protal and view your 3D point cloud annotation tasks. Tasks may take up to 10 minutes to show up the worker portal. \n",
    "\n",
    "Once you are done working on the tasks, click **Submit**. "
   ]
  },
  {
   "cell_type": "markdown",
   "metadata": {},
   "source": [
    "### View Output Data\n",
    "\n",
    "Once you have completed all of the tasks, you can view your output data in the S3 location you specified in `OutputConfig`. \n",
    "\n",
    "To read more about Ground Truth output data format for your task type, see [Output Data](https://docs.aws.amazon.com/sagemaker/latest/dg/sms-data-output.html)."
   ]
  }
 ],
 "metadata": {
  "kernelspec": {
   "display_name": "conda_python3",
   "language": "python",
   "name": "conda_python3"
  },
  "language_info": {
   "codemirror_mode": {
    "name": "ipython",
    "version": 3
   },
   "file_extension": ".py",
   "mimetype": "text/x-python",
   "name": "python",
   "nbconvert_exporter": "python",
   "pygments_lexer": "ipython3",
   "version": "3.6.10"
  }
 },
 "nbformat": 4,
 "nbformat_minor": 4
}