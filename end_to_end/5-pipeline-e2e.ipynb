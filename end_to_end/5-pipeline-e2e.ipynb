{
 "cells": [
  {
   "cell_type": "markdown",
   "metadata": {},
   "source": [
    "# Part 5 : Create an End to End Pipeline"
   ]
  },
  {
   "cell_type": "markdown",
   "metadata": {},
   "source": [
    "<a id='overview-5'></a>\n",
    "\n",
    "## [Overview](./0-AutoClaimFraudDetection.ipynb)\n",
    "* [Notebook 0 : Overview, Architecture and Data Exploration](./0-AutoClaimFraudDetection.ipynb)\n",
    "* [Notebook 1: Data Prep, Process, Store Features](./1-data-prep-e2e.ipynb)\n",
    "* [Notebook 2: Train, Check Bias, Tune, Record Lineage, and Register a Model](./2-lineage-train-assess-bias-tune-registry-e2e.ipynb)\n",
    "* [Notebook 3: Mitigate Bias, Train New Model, Store in Registry](./3-mitigate-bias-train-model2-registry-e2e.ipynb)\n",
    "* [Notebook 4: Deploy Model, Run Predictions](./4-deploy-run-inference-e2e.ipynb)\n",
    "* **[Notebook 5 : Create and Run an End-to-End Pipeline to Deploy the Model](./5-pipeline-e2e.ipynb)**\n",
    "  * **[Architecture](#arch-5)**\n",
    "  * **[Create an Automated Pipeline](#pipelines)**\n",
    "  * **[Clean up](#cleanup)**"
   ]
  },
  {
   "cell_type": "markdown",
   "metadata": {},
   "source": [
    "In this notebook, we will build a SageMaker Pipeline that automates the entire end to end process. Recall that we initially did all the steps in a manual way, and experimented as a data scientist: testing each segment, hands on, and determine for example, which transformations should be applied to the features, which algorithm should be selected, which hyperparamneters, etc.  Now we will automate these steps, and perhaps pass on the responsibility to an ML Engineer or MLOps role."
   ]
  },
  {
   "cell_type": "markdown",
   "metadata": {},
   "source": [
    "### Install required and/or update third-party libraries"
   ]
  },
  {
   "cell_type": "code",
   "execution_count": null,
   "metadata": {},
   "outputs": [],
   "source": [
    "!python -m pip install -Uq pip\n",
    "!python -m pip install -q awswrangler==2.2.0 imbalanced-learn==0.7.0 sagemaker==2.23.1 boto3==1.16.48"
   ]
  },
  {
   "cell_type": "markdown",
   "metadata": {},
   "source": [
    "### Load stored variables\n",
    "Run the cell below to load any prevously created variables. You should see a print-out of the existing variables. If you don't see anything you may need to create them again or it may be your first time running this notebook."
   ]
  },
  {
   "cell_type": "code",
   "execution_count": null,
   "metadata": {},
   "outputs": [],
   "source": [
    "%store -r\n",
    "%store"
   ]
  },
  {
   "cell_type": "markdown",
   "metadata": {},
   "source": [
    "**<font color='red'>Important</font>: You must have run the previous sequential notebooks to retrieve variables using the StoreMagic command.**"
   ]
  },
  {
   "cell_type": "markdown",
   "metadata": {},
   "source": [
    "### Import libraries"
   ]
  },
  {
   "cell_type": "code",
   "execution_count": null,
   "metadata": {},
   "outputs": [],
   "source": [
    "import json\n",
    "import boto3\n",
    "import pathlib\n",
    "import sagemaker\n",
    "import numpy as np\n",
    "import pandas as pd\n",
    "import awswrangler as wr\n",
    "\n",
    "import demo_helpers\n",
    "\n",
    "from sagemaker.xgboost.estimator import XGBoost\n",
    "from sagemaker.workflow.pipeline import Pipeline\n",
    "from sagemaker.workflow.steps import CreateModelStep\n",
    "from sagemaker.sklearn.processing import SKLearnProcessor\n",
    "from sagemaker.workflow.step_collections import RegisterModel\n",
    "from sagemaker.workflow.steps import ProcessingStep, TrainingStep\n",
    "from sagemaker.workflow.parameters import ParameterInteger, ParameterFloat, ParameterString"
   ]
  },
  {
   "cell_type": "markdown",
   "metadata": {},
   "source": [
    "### Set region and boto3 config"
   ]
  },
  {
   "cell_type": "code",
   "execution_count": null,
   "metadata": {},
   "outputs": [],
   "source": [
    "#You can change this to a region of your choice\n",
    "import sagemaker\n",
    "region = sagemaker.Session().boto_region_name\n",
    "print(\"Using AWS Region: {}\".format(region))\n",
    "\n",
    "boto3.setup_default_session(region_name=region)\n",
    "boto_session = boto3.Session(region_name=region)\n",
    "\n",
    "s3_client = boto3.client('s3', region_name=region)\n",
    "\n",
    "sagemaker_boto_client = boto_session.client('sagemaker')\n",
    "sagemaker_session = sagemaker.session.Session(\n",
    "    boto_session=boto_session,\n",
    "    sagemaker_client=sagemaker_boto_client)\n",
    "sagemaker_role = sagemaker.get_execution_role()\n",
    "\n",
    "account_id = boto3.client('sts').get_caller_identity()[\"Account\"]"
   ]
  },
  {
   "cell_type": "code",
   "execution_count": null,
   "metadata": {},
   "outputs": [],
   "source": [
    "#======> Tons of output_paths\n",
    "\n",
    "training_job_output_path = f's3://{bucket}/{prefix}/training_jobs'\n",
    "bias_report_output_path = f's3://{bucket}/{prefix}/clarify-bias'\n",
    "explainability_output_path = f's3://{bucket}/{prefix}/clarify-explainability'\n",
    "\n",
    "train_data_uri = f's3://{bucket}/{prefix}/data/train/train.csv'\n",
    "test_data_uri = f's3://{bucket}/{prefix}/data/test/test.csv'\n",
    "train_data_upsampled_s3_path = f's3://{bucket}/{prefix}/data/train/upsampled/train.csv'\n",
    "processing_dir = \"/opt/ml/processing\"\n",
    "create_dataset_script_uri = f's3://{bucket}/{prefix}/code/create_dataset.py'\n",
    "pipeline_bias_output_path = f's3://{bucket}/{prefix}/clarify-output/pipeline/bias'\n",
    "deploy_model_script_uri = f's3://{bucket}/{prefix}/code/deploy_model.py'\n",
    "\n",
    "#======> variables used for parameterizing the notebook run\n",
    "flow_instance_count = 1\n",
    "flow_instance_type = \"ml.m5.4xlarge\"\n",
    "\n",
    "train_instance_count = 1\n",
    "train_instance_type = \"ml.m4.xlarge\"\n",
    "\n",
    "deploy_model_instance_type = \"ml.m4.xlarge\""
   ]
  },
  {
   "cell_type": "markdown",
   "metadata": {},
   "source": [
    "<a id ='arch-5'> </a>\n",
    "### Architecture : Create a SageMaker Pipeline to Automate All the Steps from Data Prep to Model Deployment\n",
    "[overview](#overview-5)\n",
    "\n",
    "![End to end pipeline architecture](./images/e2e-5-pipeline-v3b.png)"
   ]
  },
  {
   "cell_type": "markdown",
   "metadata": {},
   "source": [
    "<a id='pipelines'></a>\n",
    "\n",
    "## SageMaker Pipeline\n",
    "\n",
    "- [Step 1: Claims Data Wrangler Preprocessing Step](#claims-data-wrangler)\n",
    "- [Step 2: Customers Data Wrangler Preprocessing step](#data-wrangler)\n",
    "- [Step 3: Dataset and train test split](#dataset-train-test)\n",
    "- [Step 4: Train XGboost Model](#pipe-train-xgb)\n",
    "- [Step 5: Model Pre-deployment](#pipe-pre-deploy)\n",
    "- [Step 6: Use Clarify to Detect Bias](#pipe-detect-bias)\n",
    "- [Step 7: Register Model](#pipe-Register-Model)\n",
    "- [Step 8: Combine the Pipeline Steps and Run](#define-pipeline)\n",
    "\n",
    "\n",
    "[back to overview](#overview-5)\n",
    "\n"
   ]
  },
  {
   "cell_type": "markdown",
   "metadata": {},
   "source": [
    "\n",
    "___\n",
    "Now that youve manually done each step in our machine learning workflow, you can certain steps to allow for faster model experimentation without sacrificing transparncy and model tracking. In this section you will create a pipeline which trains a new model, persists the model in SageMaker and then adds the model to the registry."
   ]
  },
  {
   "cell_type": "markdown",
   "metadata": {},
   "source": [
    "### Pipeline parameters\n",
    "An important feature of SageMaker Pipelines is the ability to define the steps ahead of time, but be able to change the parameters to those steps at execution without having to re-define the pipeline. This can be achieved by using ParameterInteger, ParameterFloat or ParameterString to define a value upfront which can be modified when you call `pipeline.start(parameters=parameters)` later. Only certain parameters can be defined this way."
   ]
  },
  {
   "cell_type": "code",
   "execution_count": null,
   "metadata": {},
   "outputs": [],
   "source": [
    "train_instance_param = ParameterString(\n",
    "    name=\"TrainingInstance\",\n",
    "    default_value=\"ml.m4.xlarge\",\n",
    ")\n",
    "\n",
    "model_approval_status = ParameterString(\n",
    "    name=\"ModelApprovalStatus\",\n",
    "    default_value=\"PendingManualApproval\"\n",
    ")"
   ]
  },
  {
   "cell_type": "markdown",
   "metadata": {},
   "source": [
    "<a id='claims-data-wrangler'></a>\n",
    "### Step 1: Claims Data Wranger Preprocessing Step\n",
    "[pipeline](#pipelines)"
   ]
  },
  {
   "cell_type": "markdown",
   "metadata": {},
   "source": [
    "#### Upload flow to S3\n",
    "This will become an input to the first step and, as such, needs to be in S3."
   ]
  },
  {
   "cell_type": "code",
   "execution_count": null,
   "metadata": {},
   "outputs": [],
   "source": [
    "s3_client.upload_file(Filename='claims.flow', Bucket=bucket, Key=f'{prefix}/dataprep-notebooks/claims.flow')\n",
    "claims_flow_uri = f's3://{bucket}/{prefix}/dataprep-notebooks/claims.flow'\n",
    "print(f\"Claims flow file uploaded to S3\")"
   ]
  },
  {
   "cell_type": "markdown",
   "metadata": {},
   "source": [
    "#### Define the first Data Wrangler step's inputs"
   ]
  },
  {
   "cell_type": "code",
   "execution_count": null,
   "metadata": {},
   "outputs": [],
   "source": [
    "with open('claims.flow', 'r') as f:\n",
    "    claims_flow = json.load(f)\n",
    "\n",
    "flow_step_inputs = []\n",
    "\n",
    "# flow file contains the code for each transformation\n",
    "flow_file_input = sagemaker.processing.ProcessingInput(\n",
    "    source=claims_flow_uri,            \n",
    "    destination=f\"{processing_dir}/flow\", \n",
    "    input_name='flow')\n",
    "\n",
    "flow_step_inputs.append(flow_file_input)\n",
    "\n",
    "# parse the flow file for S3 inputs to Data Wranger job\n",
    "for node in claims_flow[\"nodes\"]:\n",
    "    if \"dataset_definition\" in node[\"parameters\"]:\n",
    "        data_def = node[\"parameters\"][\"dataset_definition\"]\n",
    "        name = data_def[\"name\"]\n",
    "        s3_input = sagemaker.processing.ProcessingInput(\n",
    "            source=data_def[\"s3ExecutionContext\"][\"s3Uri\"], \n",
    "            destination=f'{processing_dir}/{name}', \n",
    "            input_name=name)\n",
    "        flow_step_inputs.append(s3_input)"
   ]
  },
  {
   "cell_type": "markdown",
   "metadata": {},
   "source": [
    "#### Define outputs for first Data Wranger step"
   ]
  },
  {
   "cell_type": "code",
   "execution_count": null,
   "metadata": {},
   "outputs": [],
   "source": [
    "claims_output_name = f\"{claims_flow['nodes'][-1]['node_id']}.{claims_flow['nodes'][-1]['outputs'][0]['name']}\"\n",
    "\n",
    "flow_step_outputs = []\n",
    "\n",
    "flow_output = sagemaker.processing.ProcessingOutput(\n",
    "    output_name=claims_output_name,\n",
    "    feature_store_output=sagemaker.processing.FeatureStoreOutput(\n",
    "        feature_group_name=claims_fg_name), \n",
    "    app_managed=True)\n",
    "\n",
    "flow_step_outputs.append(flow_output)"
   ]
  },
  {
   "cell_type": "markdown",
   "metadata": {},
   "source": [
    "#### Define processor and processing step"
   ]
  },
  {
   "cell_type": "code",
   "execution_count": null,
   "metadata": {},
   "outputs": [],
   "source": [
    "# You can find the proper image uri by exporting your Data Wrangler flow to a pipeline notebook\n",
    "# =================================\n",
    "image_uri = \"415577184552.dkr.ecr.us-east-2.amazonaws.com/sagemaker-data-wrangler-container:1.0.2\"\n",
    "\n",
    "flow_processor = sagemaker.processing.Processor(\n",
    "    role=sagemaker_role, \n",
    "    image_uri=image_uri, \n",
    "    instance_count=flow_instance_count, \n",
    "    instance_type=flow_instance_type, \n",
    "    max_runtime_in_seconds=86400)\n",
    "\n",
    "claims_flow_step = ProcessingStep(\n",
    "    name='ClaimsDataWranglerProcessingStep', \n",
    "    processor=flow_processor, \n",
    "    inputs=flow_step_inputs, \n",
    "    outputs=flow_step_outputs)"
   ]
  },
  {
   "cell_type": "markdown",
   "metadata": {},
   "source": [
    "<a id='data-wrangler'></a>\n",
    "### Step 2: Customers Data Wrangler preprocessing step\n",
    "\n",
    "[pipeline](#pipelines)"
   ]
  },
  {
   "cell_type": "code",
   "execution_count": null,
   "metadata": {},
   "outputs": [],
   "source": [
    "s3_client.upload_file(Filename='customers.flow', Bucket=bucket, Key=f'{prefix}/dataprep-notebooks/customers.flow')\n",
    "claims_flow_uri = f's3://{bucket}/{prefix}/dataprep-notebooks/customers.flow'\n",
    "print(f\"Customers flow file uploaded to S3\")"
   ]
  },
  {
   "cell_type": "code",
   "execution_count": null,
   "metadata": {},
   "outputs": [],
   "source": [
    "with open('customers.flow', 'r') as f:\n",
    "    customers_flow = json.load(f)\n",
    "    \n",
    "flow_step_inputs = []\n",
    "\n",
    "# flow file contains the code for each transformation\n",
    "flow_file_input = sagemaker.processing.ProcessingInput(\n",
    "    source=claims_flow_uri,            \n",
    "    destination=f\"{processing_dir}/flow\", \n",
    "    input_name='flow')\n",
    "\n",
    "flow_step_inputs.append(flow_file_input)\n",
    "\n",
    "# parse the flow file for S3 inputs to Data Wranger job\n",
    "for node in customers_flow[\"nodes\"]:\n",
    "    if \"dataset_definition\" in node[\"parameters\"]:\n",
    "        data_def = node[\"parameters\"][\"dataset_definition\"]\n",
    "        name = data_def[\"name\"]\n",
    "        s3_input = sagemaker.processing.ProcessingInput(\n",
    "            source=data_def[\"s3ExecutionContext\"][\"s3Uri\"], \n",
    "            destination=f'{processing_dir}/{name}', \n",
    "            input_name=name)\n",
    "        flow_step_inputs.append(s3_input)"
   ]
  },
  {
   "cell_type": "code",
   "execution_count": null,
   "metadata": {},
   "outputs": [],
   "source": [
    "customers_output_name = f\"{customers_flow['nodes'][-1]['node_id']}.{customers_flow['nodes'][-1]['outputs'][0]['name']}\"\n",
    "\n",
    "flow_step_outputs = []\n",
    "\n",
    "flow_output = sagemaker.processing.ProcessingOutput(\n",
    "    output_name=customers_output_name,\n",
    "    feature_store_output=sagemaker.processing.FeatureStoreOutput(\n",
    "        feature_group_name=customers_fg_name), \n",
    "    app_managed=True)\n",
    "\n",
    "flow_step_outputs.append(flow_output)\n",
    "\n",
    "customers_flow_step = ProcessingStep(\n",
    "    name='CustomersDataWranglerProcessingStep', \n",
    "    processor=flow_processor, \n",
    "    inputs=flow_step_inputs, \n",
    "    outputs=flow_step_outputs)"
   ]
  },
  {
   "cell_type": "markdown",
   "metadata": {},
   "source": [
    "<a id='dataset-train-test'></a>\n",
    "### Step 3: Create Dataset and Train/Test Split\n",
    "\n",
    "[pipeline](#pipelines)"
   ]
  },
  {
   "cell_type": "code",
   "execution_count": null,
   "metadata": {},
   "outputs": [],
   "source": [
    "s3_client.upload_file(Filename='create_dataset.py', Bucket=bucket, Key=f'{prefix}/code/create_dataset.py')\n",
    "\n",
    "create_dataset_processor = SKLearnProcessor(\n",
    "    framework_version='0.23-1',\n",
    "    role=sagemaker_role,\n",
    "    instance_type=\"ml.m5.xlarge\",\n",
    "    instance_count=1,\n",
    "    base_job_name='fraud-detection-demo-create-dataset',\n",
    "    sagemaker_session=sagemaker_session)\n",
    "\n",
    "create_dataset_step = ProcessingStep(\n",
    "    name='CreateDataset',\n",
    "    processor=create_dataset_processor,\n",
    "    outputs=[sagemaker.processing.ProcessingOutput(output_name='train_data', source='/opt/ml/processing/output/train'),\n",
    "             sagemaker.processing.ProcessingOutput(output_name='test_data',  source='/opt/ml/processing/output/test')],\n",
    "    job_arguments=[\"--claims-feature-group-name\", claims_fg_name,\n",
    "                   \"--customers-feature-group-name\", customers_fg_name,\n",
    "                   \"--bucket-name\", bucket,\n",
    "                   \"--bucket-prefix\", prefix,\n",
    "                   \"--athena-database-name\", database_name, \n",
    "                   \"--claims-table-name\", claims_table, \n",
    "                   \"--customers-table-name\", customers_table],\n",
    "    code=create_dataset_script_uri)"
   ]
  },
  {
   "cell_type": "markdown",
   "metadata": {},
   "source": [
    "<a id='pipe-train-xgb'></a>\n",
    "### Step 4: Train XGBoost Model\n",
    "In this step we use the ParameterString `train_instance_param` defined at the beginning of the pipeline.\n",
    "\n",
    "[pipeline](#pipelines)"
   ]
  },
  {
   "cell_type": "code",
   "execution_count": null,
   "metadata": {},
   "outputs": [],
   "source": [
    "hyperparameters = {\n",
    "    \"max_depth\": \"3\",\n",
    "    \"eta\": \"0.2\",\n",
    "    \"objective\": \"binary:logistic\",\n",
    "    \"num_round\": \"100\"\n",
    "}\n",
    "\n",
    "xgb_estimator = XGBoost(\n",
    "    entry_point = \"xgboost_starter_script.py\",\n",
    "    output_path = training_job_output_path,\n",
    "    code_location = training_job_output_path,\n",
    "    hyperparameters = hyperparameters,\n",
    "    role = sagemaker_role,\n",
    "    instance_count = train_instance_count,\n",
    "    instance_type = train_instance_param,\n",
    "    framework_version = \"1.0-1\")\n",
    "\n",
    "train_step = TrainingStep(\n",
    "    name='XgboostTrain',\n",
    "    estimator=xgb_estimator,\n",
    "    inputs={\n",
    "        'train': sagemaker.inputs.TrainingInput(\n",
    "            s3_data=create_dataset_step.properties.ProcessingOutputConfig.Outputs['train_data'].S3Output.S3Uri)}\n",
    ")"
   ]
  },
  {
   "cell_type": "markdown",
   "metadata": {},
   "source": [
    "<a id='pipe-pre-deploy'></a>\n",
    "### Step 5: Model Pre-Deployment Step\n",
    "\n",
    "[pipeline](#pipelines)"
   ]
  },
  {
   "cell_type": "code",
   "execution_count": null,
   "metadata": {},
   "outputs": [],
   "source": [
    "model = sagemaker.model.Model(\n",
    "    name='fraud-detection-demo-pipeline-xgboost',\n",
    "    image_uri=train_step.properties.AlgorithmSpecification.TrainingImage,\n",
    "    model_data=train_step.properties.ModelArtifacts.S3ModelArtifacts,\n",
    "    sagemaker_session=sagemaker_session,\n",
    "    role=sagemaker_role\n",
    ")\n",
    "\n",
    "inputs = sagemaker.inputs.CreateModelInput(\n",
    "    instance_type=\"ml.m4.xlarge\"\n",
    ")\n",
    "\n",
    "create_model_step = CreateModelStep(\n",
    "    name=\"ModelPreDeployment\",\n",
    "    model=model,\n",
    "    inputs=inputs\n",
    ")"
   ]
  },
  {
   "cell_type": "markdown",
   "metadata": {},
   "source": [
    "<a id='pipe-detect-bias'></a>\n",
    "\n",
    "### Step 6: Run Bias Metrics with Clarify\n",
    "[pipeline](#pipelines)"
   ]
  },
  {
   "cell_type": "markdown",
   "metadata": {},
   "source": [
    "#### Clarify configuration"
   ]
  },
  {
   "cell_type": "code",
   "execution_count": null,
   "metadata": {},
   "outputs": [],
   "source": [
    "bias_data_config = sagemaker.clarify.DataConfig(\n",
    "    s3_data_input_path=create_dataset_step.properties.ProcessingOutputConfig.Outputs['train_data'].S3Output.S3Uri,\n",
    "    s3_output_path=pipeline_bias_output_path,\n",
    "    label='fraud',\n",
    "    dataset_type='text/csv')\n",
    "\n",
    "bias_config = sagemaker.clarify.BiasConfig(\n",
    "    label_values_or_threshold=[0],\n",
    "    facet_name='customer_gender_female',\n",
    "    facet_values_or_threshold=[1])\n",
    "\n",
    "analysis_config = bias_data_config.get_config()\n",
    "analysis_config.update(bias_config.get_config())\n",
    "analysis_config[\"methods\"] = {\"pre_training_bias\": {\"methods\": \"all\"}}\n",
    "\n",
    "clarify_config_dir = pathlib.Path('config')\n",
    "clarify_config_dir.mkdir(exist_ok=True)\n",
    "with open(clarify_config_dir / 'analysis_config.json', 'w') as f:\n",
    "    json.dump(analysis_config, f)\n",
    "    \n",
    "s3_client.upload_file(Filename='config/analysis_config.json', Bucket=bucket, Key=f'{prefix}/clarify-config/analysis_config.json')"
   ]
  },
  {
   "cell_type": "markdown",
   "metadata": {},
   "source": [
    "#### Clarify processing step"
   ]
  },
  {
   "cell_type": "code",
   "execution_count": null,
   "metadata": {},
   "outputs": [],
   "source": [
    "clarify_processor = sagemaker.processing.Processor(\n",
    "    base_job_name='fraud-detection-demo-clarify-processor',\n",
    "    image_uri=sagemaker.clarify.image_uris.retrieve(framework='clarify', region=region),\n",
    "    role=sagemaker.get_execution_role(),\n",
    "    instance_count=1,\n",
    "    instance_type='ml.c5.xlarge')\n",
    "\n",
    "clarify_step = ProcessingStep(\n",
    "    name=\"ClarifyProcessor\",\n",
    "    processor=clarify_processor,\n",
    "    inputs=[\n",
    "        sagemaker.processing.ProcessingInput(\n",
    "            input_name=\"analysis_config\",\n",
    "            source=f's3://{bucket}/{prefix}/clarify-config/analysis_config.json',\n",
    "            destination=\"/opt/ml/processing/input/config\"),\n",
    "        sagemaker.processing.ProcessingInput(\n",
    "            input_name=\"dataset\",\n",
    "            source=create_dataset_step.properties.ProcessingOutputConfig.Outputs['train_data'].S3Output.S3Uri,\n",
    "            destination=\"/opt/ml/processing/input/data\")  \n",
    "    ],\n",
    "    outputs=[\n",
    "        sagemaker.processing.ProcessingOutput(\n",
    "            source=\"/opt/ml/processing/output/analysis.json\",\n",
    "            destination=pipeline_bias_output_path,\n",
    "            output_name=\"analysis_result\")\n",
    "    ]\n",
    ")"
   ]
  },
  {
   "cell_type": "markdown",
   "metadata": {},
   "source": [
    "<a id='pipe-Register-Model'></a>\n",
    "### Step 7: Register Model\n",
    "In this step you will use the ParameterString `model_approval_status` defined at the outset of the pipeline code.\n",
    "\n",
    "\n",
    "[pipeline](#pipelines)"
   ]
  },
  {
   "cell_type": "code",
   "execution_count": null,
   "metadata": {},
   "outputs": [],
   "source": [
    "model_metrics = demo_helpers.ModelMetrics(\n",
    "    bias=sagemaker.model_metrics.MetricsSource(\n",
    "        s3_uri=clarify_step.properties.ProcessingOutputConfig.Outputs['analysis_result'].S3Output.S3Uri,\n",
    "        content_type=\"application/json\"\n",
    "    )\n",
    ")\n",
    "\n",
    "register_step = RegisterModel(\n",
    "    name=\"XgboostRegisterModel\",\n",
    "    estimator=xgb_estimator,\n",
    "    model_data=train_step.properties.ModelArtifacts.S3ModelArtifacts,\n",
    "    content_types=[\"text/csv\"],\n",
    "    response_types=[\"text/csv\"],\n",
    "    inference_instances=[\"ml.t2.medium\", \"ml.m5.xlarge\"],\n",
    "    transform_instances=[\"ml.m5.xlarge\"],\n",
    "    model_package_group_name=mpg_name,\n",
    "    approval_status=model_approval_status,\n",
    "    model_metrics=model_metrics\n",
    ")"
   ]
  },
  {
   "cell_type": "markdown",
   "metadata": {},
   "source": [
    "<a id='pipe-Register-Model'></a>\n",
    "### Step 8: Deploy Model\n",
    "\n",
    "\n",
    "[pipeline](#pipelines)"
   ]
  },
  {
   "cell_type": "code",
   "execution_count": null,
   "metadata": {},
   "outputs": [],
   "source": [
    "s3_client.upload_file(Filename='deploy_model.py', Bucket=bucket, Key=f'{prefix}/code/deploy_model.py')\n",
    "\n",
    "deploy_model_processor = SKLearnProcessor(\n",
    "    framework_version='0.23-1',\n",
    "    role=sagemaker_role,\n",
    "    instance_type=\"ml.t3.medium\",\n",
    "    instance_count=1,\n",
    "    base_job_name='fraud-detection-demo-deploy-model',\n",
    "    sagemaker_session=sagemaker_session)\n",
    "\n",
    "deploy_step = ProcessingStep(\n",
    "    name='DeployModel',\n",
    "    processor=deploy_model_processor,\n",
    "    job_arguments=[\n",
    "        \"--model-name\", create_model_step.properties.ModelName, \n",
    "        \"--region\", region,\n",
    "        \"--endpoint-instance-type\", deploy_model_instance_type,\n",
    "        \"--endpoint-name\", \"xgboost-model-pipeline-0120\"],\n",
    "    code=deploy_model_script_uri)"
   ]
  },
  {
   "cell_type": "markdown",
   "metadata": {},
   "source": [
    "<a id='define-pipeline'></a>\n",
    "\n",
    "### Combine the Pipeline Steps and Run\n",
    "[pipeline](#overview-5)\n",
    "\n",
    "Though easier to reason with, the parameters and steps don't need to be in order. The pipeline DAG will parse it out properly."
   ]
  },
  {
   "cell_type": "code",
   "execution_count": null,
   "metadata": {},
   "outputs": [],
   "source": [
    "pipeline_name = f'FraudDetectDemo'\n",
    "%store pipeline_name\n",
    "\n",
    "pipeline = Pipeline(\n",
    "    name=pipeline_name,\n",
    "    parameters=[\n",
    "        train_instance_param, \n",
    "        model_approval_status],\n",
    "    steps=[\n",
    "        claims_flow_step,\n",
    "        customers_flow_step,\n",
    "        create_dataset_step,\n",
    "        train_step, \n",
    "        create_model_step, \n",
    "        clarify_step, \n",
    "        register_step,\n",
    "        deploy_step\n",
    "    ])"
   ]
  },
  {
   "cell_type": "markdown",
   "metadata": {},
   "source": [
    "### Submit the pipeline definition to the SageMaker Pipeline service\n",
    "Note: If an existing pipeline has the same name it will be overwritten."
   ]
  },
  {
   "cell_type": "code",
   "execution_count": null,
   "metadata": {},
   "outputs": [],
   "source": [
    "pipeline.upsert(role_arn=sagemaker_role)"
   ]
  },
  {
   "cell_type": "markdown",
   "metadata": {},
   "source": [
    "### View the entire pipeline definition\n",
    "Viewing the pipeline definition will all the string variables interpolated may help debug pipeline bugs. It is commented out here due to length."
   ]
  },
  {
   "cell_type": "code",
   "execution_count": null,
   "metadata": {
    "scrolled": true
   },
   "outputs": [],
   "source": [
    "#json.loads(pipeline.describe()['PipelineDefinition'])"
   ]
  },
  {
   "cell_type": "markdown",
   "metadata": {},
   "source": [
    "### Run the pipeline\n",
    "Note this will take about 23 minutes to complete. You can watch the progress of the Pipeline Job on your SageMaker Studio Components panel"
   ]
  },
  {
   "attachments": {
    "image.png": {
     "image/png": "[encoded data removed]"
    }
   },
   "cell_type": "markdown",
   "metadata": {},
   "source": [
    "![image.png](attachment:image.png)"
   ]
  },
  {
   "cell_type": "code",
   "execution_count": null,
   "metadata": {},
   "outputs": [],
   "source": [
    "# Special pipeline parameters can be defined or changed here\n",
    "parameters = {'TrainingInstance': 'ml.m5.xlarge'}"
   ]
  },
  {
   "cell_type": "code",
   "execution_count": null,
   "metadata": {},
   "outputs": [],
   "source": [
    "start_response = pipeline.start(parameters=parameters)"
   ]
  },
  {
   "cell_type": "code",
   "execution_count": null,
   "metadata": {},
   "outputs": [],
   "source": [
    "start_response.wait()\n",
    "start_response.describe()"
   ]
  },
  {
   "cell_type": "markdown",
   "metadata": {},
   "source": [
    "<pre>\n",
    "</pre>"
   ]
  },
  {
   "attachments": {
    "image.png": {
     "image/png": "[encoded data removed]"
    }
   },
   "cell_type": "markdown",
   "metadata": {},
   "source": [
    "###after completion it will look something like this\n",
    "![image.png](attachment:image.png)"
   ]
  },
  {
   "attachments": {
    "image.png": {
     "image/png": "[encoded data removed]"
    }
   },
   "cell_type": "markdown",
   "metadata": {},
   "source": [
    "![image.png](attachment:image.png)"
   ]
  },
  {
   "cell_type": "markdown",
   "metadata": {},
   "source": [
    "<a id='cleanup'></a>\n",
    "## Clean up\n",
    "\n",
    "[overview](#overview-5)\n",
    "___\n",
    "After running the demo, you should remove the resources which were created. You can also delete all the objects in the project's S3 directory by passing the keyword argument `delete_s3_objects=True`."
   ]
  },
  {
   "cell_type": "code",
   "execution_count": null,
   "metadata": {},
   "outputs": [],
   "source": [
    "from demo_helpers import delete_project_resources"
   ]
  },
  {
   "cell_type": "code",
   "execution_count": null,
   "metadata": {},
   "outputs": [],
   "source": [
    "\"\"\"\n",
    "delete_project_resources(\n",
    "    sagemaker_boto_client=sagemaker_boto_client,\n",
    "    endpoint_name=endpoint_name, \n",
    "    pipeline_name=pipeline_name, \n",
    "    mpg_name=mpg_name, \n",
    "    prefix=prefix,\n",
    "    delete_s3_objects=False,\n",
    "    bucket_name=bucket)\n",
    "\"\"\""
   ]
  }
 ],
 "metadata": {
  "instance_type": "ml.t3.medium",
  "kernelspec": {
   "display_name": "Python 3 (Data Science)",
   "language": "python",
   "name": "python3__SAGEMAKER_INTERNAL__arn:aws:sagemaker:us-east-1:081325390199:image/datascience-1.0"
  },
  "language_info": {
   "codemirror_mode": {
    "name": "ipython",
    "version": 3
   },
   "file_extension": ".py",
   "mimetype": "text/x-python",
   "name": "python",
   "nbconvert_exporter": "python",
   "pygments_lexer": "ipython3",
   "version": "3.7.10"
  }
 },
 "nbformat": 4,
 "nbformat_minor": 4
}
