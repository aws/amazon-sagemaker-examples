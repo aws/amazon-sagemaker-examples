{
 "cells": [
  {
   "cell_type": "markdown",
   "metadata": {},
   "source": [
    "## Amazon SageMaker Feature Store: Introduction to Feature Store"
   ]
  },
  {
   "cell_type": "markdown",
   "metadata": {},
   "source": [
    "This notebook demonstrates how to get started with Feature Store, create feature groups, and ingest data into them. These feature groups are stored in your Feature Store.\n",
    "\n",
    "Feature groups are resources that contain metadata for all data stored in your Feature Store. A feature group is a logical grouping of features, defined in the feature store to describe records. A feature group’s definition is composed of a list of feature definitions, a record identifier name, and configurations for its online and offline store. \n",
    "\n",
    "### Overview\n",
    "1. Set up\n",
    "2. Creating a feature group\n",
    "3. Ingest data into a feature group\n",
    "\n",
    "### Prerequisites\n",
    "This notebook uses sagemaker_core SDK and `Python 3 (Data Science)` kernel. This notebook works with Studio, Jupyter, and JupyterLab. \n",
    "\n",
    "#### Library dependencies:\n",
    "* `sagemaker_core`\n",
    "* `numpy`\n",
    "* `pandas`\n",
    "\n",
    "#### Role requirements:\n",
    "**IMPORTANT**: You must attach the following policies to your execution role:\n",
    "* `AmazonS3FullAccess`\n",
    "* `AmazonSageMakerFeatureStoreAccess`"
   ]
  },
  {
   "cell_type": "markdown",
   "metadata": {},
   "source": [
    "### Set up"
   ]
  },
  {
   "cell_type": "code",
   "execution_count": null,
   "metadata": {
    "scrolled": true
   },
   "outputs": [],
   "source": [
    "!pip uninstall sagemaker-core -y\n",
    "!pip install pip --upgrade --quiet\n",
    "!pip install sagemaker-core --upgrade"
   ]
  },
  {
   "cell_type": "code",
   "execution_count": null,
   "metadata": {},
   "outputs": [],
   "source": [
    "import pandas as pd\n",
    "import numpy as np\n",
    "import io\n",
    "from sagemaker_core.helper.session_helper import get_execution_role, Session\n",
    "\n",
    "sagemaker_session = Session()\n",
    "REGION_NAME = sagemaker_session._region_name\n",
    "role = get_execution_role()\n",
    "s3_bucket_name = sagemaker_session.default_bucket()\n",
    "prefix = \"sagemaker-featurestore-introduction\"\n",
    "default_bucket_prefix = sagemaker_session.default_bucket_prefix\n",
    "\n",
    "# If a default bucket prefix is specified, append it to the s3 path\n",
    "if default_bucket_prefix:\n",
    "    prefix = f\"{default_bucket_prefix}/{prefix}\""
   ]
  },
  {
   "cell_type": "markdown",
   "metadata": {},
   "source": [
    "### Inspect your data\n",
    "In this notebook example we ingest synthetic data. We read from `./data/feature_store_introduction_customer.csv` and `./data/feature_store_introduction_orders.csv`."
   ]
  },
  {
   "cell_type": "code",
   "execution_count": null,
   "metadata": {},
   "outputs": [],
   "source": [
    "customer_data = pd.read_csv(\"data/feature_store_introduction_customer.csv\")\n",
    "orders_data = pd.read_csv(\"data/feature_store_introduction_orders.csv\")"
   ]
  },
  {
   "cell_type": "code",
   "execution_count": null,
   "metadata": {},
   "outputs": [],
   "source": [
    "customer_data.head()"
   ]
  },
  {
   "cell_type": "code",
   "execution_count": null,
   "metadata": {},
   "outputs": [],
   "source": [
    "orders_data.head()"
   ]
  },
  {
   "cell_type": "markdown",
   "metadata": {},
   "source": [
    "Below is an illustration on the steps the data goes through before it is ingested into a Feature Store. In this notebook, we illustrate the use-case where you have data from multiple sources and want to store them independently in a feature store. Our example considers data from a data warehouse (customer data), and data from a real-time streaming service (order data). "
   ]
  },
  {
   "cell_type": "markdown",
   "metadata": {},
   "source": [
    "![data flow](images/feature_store_data_ingest.svg)"
   ]
  },
  {
   "cell_type": "markdown",
   "metadata": {},
   "source": [
    "### Create a feature group\n",
    "\n",
    "We first start by creating feature group names for customer_data and orders_data. Following this, we create two Feature Groups, one for `customer_data` and another for `orders_data`"
   ]
  },
  {
   "cell_type": "code",
   "execution_count": null,
   "metadata": {},
   "outputs": [],
   "source": [
    "from time import gmtime, strftime, sleep\n",
    "\n",
    "customers_feature_group_name = \"customers-feature-group-\" + strftime(\"%d-%H-%M-%S\", gmtime())\n",
    "orders_feature_group_name = \"orders-feature-group-\" + strftime(\"%d-%H-%M-%S\", gmtime())"
   ]
  },
  {
   "cell_type": "code",
   "execution_count": null,
   "metadata": {},
   "outputs": [],
   "source": [
    "customers_feature_group_name"
   ]
  },
  {
   "cell_type": "markdown",
   "metadata": {},
   "source": [
    "Instantiate a FeatureGroup object for customers_data and orders_data. "
   ]
  },
  {
   "cell_type": "code",
   "execution_count": null,
   "metadata": {
    "scrolled": true
   },
   "outputs": [],
   "source": [
    "from sagemaker_core.shapes import FeatureDefinition\n",
    "\n",
    "CustomerFeatureDefinitions = [\n",
    "    FeatureDefinition(feature_name=\"customer_id\", feature_type=\"Integral\"),\n",
    "    FeatureDefinition(feature_name=\"city_code\", feature_type=\"Integral\"),\n",
    "    FeatureDefinition(feature_name=\"state_code\", feature_type=\"Integral\"),\n",
    "    FeatureDefinition(feature_name=\"country_code\", feature_type=\"Integral\"),\n",
    "    FeatureDefinition(feature_name=\"EventTime\", feature_type=\"Fractional\"),\n",
    "]\n",
    "\n",
    "OrderFeatureDefinitions = [\n",
    "    FeatureDefinition(feature_name=\"customer_id\", feature_type=\"Integral\"),\n",
    "    FeatureDefinition(feature_name=\"order_id\", feature_type=\"Integral\"),\n",
    "    FeatureDefinition(feature_name=\"order_status\", feature_type=\"Integral\"),\n",
    "    FeatureDefinition(feature_name=\"store_id\", feature_type=\"Integral\"),\n",
    "    FeatureDefinition(feature_name=\"EventTime\", feature_type=\"Fractional\"),\n",
    "]"
   ]
  },
  {
   "cell_type": "code",
   "execution_count": null,
   "metadata": {},
   "outputs": [],
   "source": [
    "import time\n",
    "\n",
    "current_time_sec = int(round(time.time()))\n",
    "\n",
    "record_identifier_feature_name = \"customer_id\""
   ]
  },
  {
   "cell_type": "markdown",
   "metadata": {},
   "source": [
    "Append `EventTime` feature to your data frame. This parameter is required, and time stamps each data point."
   ]
  },
  {
   "cell_type": "code",
   "execution_count": null,
   "metadata": {},
   "outputs": [],
   "source": [
    "customer_data[\"EventTime\"] = pd.Series([current_time_sec] * len(customer_data), dtype=\"float64\")\n",
    "orders_data[\"EventTime\"] = pd.Series([current_time_sec] * len(orders_data), dtype=\"float64\")"
   ]
  },
  {
   "cell_type": "markdown",
   "metadata": {},
   "source": [
    "Load feature definitions to your feature group. "
   ]
  },
  {
   "cell_type": "markdown",
   "metadata": {},
   "source": [
    "Below we call create to create two feature groups, customers_feature_group and orders_feature_group respectively"
   ]
  },
  {
   "cell_type": "code",
   "execution_count": null,
   "metadata": {},
   "outputs": [],
   "source": [
    "from sagemaker_core.shapes import OnlineStoreConfig, OfflineStoreConfig, S3StorageConfig\n",
    "from sagemaker_core.resources import FeatureGroup\n",
    "\n",
    "customers_feature_group = FeatureGroup.create(\n",
    "    feature_group_name=customers_feature_group_name,\n",
    "    record_identifier_feature_name=record_identifier_feature_name,\n",
    "    event_time_feature_name=\"EventTime\",\n",
    "    role_arn=role,\n",
    "    online_store_config=OnlineStoreConfig(enable_online_store=True),\n",
    "    feature_definitions=CustomerFeatureDefinitions,\n",
    "    offline_store_config=OfflineStoreConfig(\n",
    "        s3_storage_config=S3StorageConfig(s3_uri=f\"s3://{s3_bucket_name}/{prefix}\")\n",
    "    ),\n",
    ")"
   ]
  },
  {
   "cell_type": "code",
   "execution_count": null,
   "metadata": {},
   "outputs": [],
   "source": [
    "from sagemaker_core.resources import FeatureGroup\n",
    "\n",
    "orders_feature_group = FeatureGroup.create(\n",
    "    feature_group_name=orders_feature_group_name,\n",
    "    record_identifier_feature_name=record_identifier_feature_name,\n",
    "    event_time_feature_name=\"EventTime\",\n",
    "    role_arn=role,\n",
    "    online_store_config=OnlineStoreConfig(enable_online_store=True),\n",
    "    feature_definitions=OrderFeatureDefinitions,\n",
    "    offline_store_config=OfflineStoreConfig(\n",
    "        s3_storage_config=S3StorageConfig(s3_uri=f\"s3://{s3_bucket_name}/{prefix}\")\n",
    "    ),\n",
    ")"
   ]
  },
  {
   "cell_type": "markdown",
   "metadata": {},
   "source": [
    "To confirm that your FeatureGroup has been created we use `wait_for_status` functions to wait for the feature group to be created successfully."
   ]
  },
  {
   "cell_type": "code",
   "execution_count": null,
   "metadata": {},
   "outputs": [],
   "source": [
    "def check_feature_group_status(feature_group):\n",
    "    status = feature_group.wait_for_status(target_status=\"Created\")\n",
    "    print(f\"FeatureGroup {feature_group.get_name()} successfully created.\")\n",
    "\n",
    "\n",
    "check_feature_group_status(customers_feature_group)\n",
    "check_feature_group_status(orders_feature_group)"
   ]
  },
  {
   "cell_type": "markdown",
   "metadata": {},
   "source": [
    "### Add metadata to a feature\n",
    "\n",
    "We can add searchable metadata fields to FeatureGroup features by using the `FeatureMetadata` class. The currently supported metadata fields are `description` and `parameters`."
   ]
  },
  {
   "cell_type": "code",
   "execution_count": null,
   "metadata": {},
   "outputs": [],
   "source": [
    "from sagemaker_core.resources import FeatureMetadata\n",
    "from sagemaker_core.shapes import FeatureParameter\n",
    "\n",
    "customers_feature_metadata = FeatureMetadata(\n",
    "    feature_group_name=customers_feature_group_name, feature_name=\"customer_id\"\n",
    ")"
   ]
  },
  {
   "cell_type": "code",
   "execution_count": null,
   "metadata": {},
   "outputs": [],
   "source": [
    "customers_feature_metadata.update(\n",
    "    description=\"The ID of a customer. It is also used in orders_feature_group.\",\n",
    "    parameter_additions=[FeatureParameter(key=\"idType\", value=\"primaryKey\")],\n",
    ")"
   ]
  },
  {
   "cell_type": "markdown",
   "metadata": {},
   "source": [
    "To view feature metadata, we can use `get` method to display that feature."
   ]
  },
  {
   "cell_type": "code",
   "execution_count": null,
   "metadata": {},
   "outputs": [],
   "source": [
    "customers_feature_metadata.get(\n",
    "    feature_group_name=customers_feature_group_name, feature_name=\"customer_id\"\n",
    ")"
   ]
  },
  {
   "cell_type": "markdown",
   "metadata": {},
   "source": [
    "Feature metadata fields are searchable. We use `search` API to find features with metadata that matches some search criteria."
   ]
  },
  {
   "cell_type": "code",
   "execution_count": null,
   "metadata": {
    "scrolled": true
   },
   "outputs": [],
   "source": [
    "sagemaker_session.boto_session.client(\"sagemaker\", region_name=region).search(\n",
    "    Resource=\"FeatureMetadata\",\n",
    "    SearchExpression={\n",
    "        \"Filters\": [\n",
    "            {\n",
    "                \"Name\": \"FeatureGroupName\",\n",
    "                \"Operator\": \"Contains\",\n",
    "                \"Value\": \"customers-feature-group-\",\n",
    "            },\n",
    "            {\"Name\": \"Parameters.idType\", \"Operator\": \"Equals\", \"Value\": \"primaryKey\"},\n",
    "        ]\n",
    "    },\n",
    ")  # We use the boto client to search"
   ]
  },
  {
   "cell_type": "markdown",
   "metadata": {},
   "source": [
    "### Ingest data into a feature group\n",
    "\n",
    "We can put data into the FeatureGroup by using the `PutRecord` API. It will take < 1 minute to ingest data."
   ]
  },
  {
   "cell_type": "code",
   "execution_count": null,
   "metadata": {},
   "outputs": [],
   "source": [
    "# converting all columns to integral 64 type for further processing\n",
    "customer_data[\"customer_id\"] = pd.to_numeric(customer_data[\"customer_id\"]).astype(\"Int64\")\n",
    "customer_data[\"city_code\"] = pd.to_numeric(customer_data[\"city_code\"]).astype(\"Int64\")\n",
    "customer_data[\"state_code\"] = pd.to_numeric(customer_data[\"state_code\"]).astype(\"Int64\")\n",
    "customer_data[\"country_code\"] = pd.to_numeric(customer_data[\"country_code\"]).astype(\"Int64\")\n",
    "\n",
    "orders_data[\"customer_id\"] = pd.to_numeric(orders_data[\"customer_id\"]).astype(\"Int64\")\n",
    "orders_data[\"order_id\"] = pd.to_numeric(orders_data[\"order_id\"]).astype(\"Int64\")\n",
    "orders_data[\"order_status\"] = pd.to_numeric(orders_data[\"order_status\"]).astype(\"Int64\")\n",
    "orders_data[\"store_id\"] = pd.to_numeric(orders_data[\"store_id\"]).astype(\"Int64\")"
   ]
  },
  {
   "cell_type": "markdown",
   "metadata": {},
   "source": [
    "Creating `IngestData` function to ingest all dataframe records using `PutRecord` API call."
   ]
  },
  {
   "cell_type": "code",
   "execution_count": null,
   "metadata": {
    "scrolled": true
   },
   "outputs": [],
   "source": [
    "from sagemaker_core.shapes import FeatureValue\n",
    "\n",
    "\n",
    "def IngestData(df, feature_group):\n",
    "    try:\n",
    "        feature_values_list = list()\n",
    "        for index, row in df.iterrows():\n",
    "            # Iterate through each column for the current row\n",
    "            for column in df.columns:\n",
    "                feature_values = FeatureValue(\n",
    "                    feature_name=str(column), value_as_string=str(row[column])\n",
    "                )\n",
    "                feature_values_list.append(feature_values)\n",
    "            feature_group.put_record(record=feature_values_list)\n",
    "            feature_values_list.clear()\n",
    "        SuccessString = f\"The dataframe with {len(df)} rows has been ingested successfully for feature group {feature_group.get_name()}\"\n",
    "        return SuccessString\n",
    "    except Exception as e:\n",
    "        # Handle any other exceptions\n",
    "        print(f\"An unexpected error occurred: {e}\")\n",
    "        return None"
   ]
  },
  {
   "cell_type": "code",
   "execution_count": null,
   "metadata": {},
   "outputs": [],
   "source": [
    "IngestData(customer_data, customers_feature_group)"
   ]
  },
  {
   "cell_type": "code",
   "execution_count": null,
   "metadata": {},
   "outputs": [],
   "source": [
    "IngestData(orders_data, orders_feature_group)"
   ]
  },
  {
   "cell_type": "markdown",
   "metadata": {},
   "source": [
    "Using an arbitrary customer record ID, 573291 we use `get_record` to check that the data has been ingested into the feature group."
   ]
  },
  {
   "cell_type": "code",
   "execution_count": null,
   "metadata": {},
   "outputs": [],
   "source": [
    "customer_id = 573291\n",
    "sample_record = customers_feature_group.get_record(\n",
    "    record_identifier_value_as_string=str(customer_id)\n",
    ")"
   ]
  },
  {
   "cell_type": "code",
   "execution_count": null,
   "metadata": {},
   "outputs": [],
   "source": [
    "sample_record"
   ]
  },
  {
   "cell_type": "markdown",
   "metadata": {},
   "source": [
    "We use `batch_get_record` to check that all data has been ingested into two feature groups by providing customer IDs."
   ]
  },
  {
   "cell_type": "code",
   "execution_count": null,
   "metadata": {},
   "outputs": [],
   "source": [
    "from sagemaker_core.shapes import BatchGetRecordIdentifier\n",
    "\n",
    "all_records_customers = customers_feature_group.batch_get_record(\n",
    "    identifiers=[\n",
    "        BatchGetRecordIdentifier(\n",
    "            feature_group_name=customers_feature_group_name,\n",
    "            record_identifiers_value_as_string=[\"573291\", \"109382\", \"828400\", \"124013\"],\n",
    "        )\n",
    "    ]\n",
    ")"
   ]
  },
  {
   "cell_type": "code",
   "execution_count": null,
   "metadata": {
    "scrolled": true
   },
   "outputs": [],
   "source": [
    "all_records_customers"
   ]
  },
  {
   "cell_type": "code",
   "execution_count": null,
   "metadata": {},
   "outputs": [],
   "source": [
    "all_records_orders = orders_feature_group.batch_get_record(\n",
    "    identifiers=[\n",
    "        BatchGetRecordIdentifier(\n",
    "            feature_group_name=orders_feature_group_name,\n",
    "            record_identifiers_value_as_string=[\"573291\", \"109382\", \"828400\", \"124013\"],\n",
    "        )\n",
    "    ]\n",
    ")"
   ]
  },
  {
   "cell_type": "code",
   "execution_count": null,
   "metadata": {},
   "outputs": [],
   "source": [
    "all_records_orders"
   ]
  },
  {
   "cell_type": "markdown",
   "metadata": {},
   "source": [
    "### Add features to a feature group\n",
    "\n",
    "If we want to update a FeatureGroup that has done the data ingestion, we can use the `Update` function and then re-ingest data by using the updated dataset."
   ]
  },
  {
   "cell_type": "code",
   "execution_count": null,
   "metadata": {},
   "outputs": [],
   "source": [
    "customers_feature_group.update(\n",
    "    feature_additions=[\n",
    "        FeatureDefinition(feature_name=\"email\", feature_type=\"String\"),\n",
    "        FeatureDefinition(feature_name=\"name\", feature_type=\"String\"),\n",
    "    ]\n",
    ")\n",
    "time.sleep(120)  # waiting for 120 seconds for the update process to get completed"
   ]
  },
  {
   "cell_type": "markdown",
   "metadata": {},
   "source": [
    "Inspect the new dataset."
   ]
  },
  {
   "cell_type": "code",
   "execution_count": null,
   "metadata": {},
   "outputs": [],
   "source": [
    "customer_data_updated = pd.read_csv(\"data/feature_store_introduction_customer_updated.csv\")"
   ]
  },
  {
   "cell_type": "code",
   "execution_count": null,
   "metadata": {},
   "outputs": [],
   "source": [
    "customer_data_updated.head()"
   ]
  },
  {
   "cell_type": "markdown",
   "metadata": {},
   "source": [
    "Append `EventTime` feature to your data frame again."
   ]
  },
  {
   "cell_type": "code",
   "execution_count": null,
   "metadata": {},
   "outputs": [],
   "source": [
    "customer_data_updated[\"EventTime\"] = pd.Series(\n",
    "    [current_time_sec] * len(customer_data), dtype=\"float64\"\n",
    ")"
   ]
  },
  {
   "cell_type": "markdown",
   "metadata": {},
   "source": [
    "Ingest the new dataset."
   ]
  },
  {
   "cell_type": "code",
   "execution_count": null,
   "metadata": {},
   "outputs": [],
   "source": [
    "## need to see how to ingest data in new SDK\n",
    "IngestData(customer_data_updated, customers_feature_group)"
   ]
  },
  {
   "cell_type": "markdown",
   "metadata": {},
   "source": [
    "Use `batch_get_record` again to check that all updated data has been ingested into `customers_feature_group` by providing customer IDs."
   ]
  },
  {
   "cell_type": "code",
   "execution_count": null,
   "metadata": {},
   "outputs": [],
   "source": [
    "updated_records_customers = customers_feature_group.batch_get_record(\n",
    "    identifiers=[\n",
    "        BatchGetRecordIdentifier(\n",
    "            feature_group_name=customers_feature_group_name,\n",
    "            record_identifiers_value_as_string=[\"573291\", \"109382\", \"828400\", \"124013\"],\n",
    "        )\n",
    "    ]\n",
    ")"
   ]
  },
  {
   "cell_type": "code",
   "execution_count": null,
   "metadata": {},
   "outputs": [],
   "source": [
    "updated_records_customers"
   ]
  },
  {
   "cell_type": "markdown",
   "metadata": {},
   "source": [
    "### Clean up\n",
    "Here we remove the Feature Groups we created. "
   ]
  },
  {
   "cell_type": "code",
   "execution_count": null,
   "metadata": {},
   "outputs": [],
   "source": [
    "customers_feature_group.delete()\n",
    "orders_feature_group.delete()"
   ]
  },
  {
   "cell_type": "code",
   "execution_count": null,
   "metadata": {},
   "outputs": [],
   "source": []
  }
 ],
 "metadata": {
  "instance_type": "ml.t3.medium",
  "kernelspec": {
   "display_name": "Python 3 (ipykernel)",
   "language": "python",
   "name": "python3"
  },
  "language_info": {
   "codemirror_mode": {
    "name": "ipython",
    "version": 3
   },
   "file_extension": ".py",
   "mimetype": "text/x-python",
   "name": "python",
   "nbconvert_exporter": "python",
   "pygments_lexer": "ipython3",
   "version": "3.10.14"
  }
 },
 "nbformat": 4,
 "nbformat_minor": 4
}
