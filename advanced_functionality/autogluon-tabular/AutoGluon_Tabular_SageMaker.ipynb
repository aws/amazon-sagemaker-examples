{
 "cells": [
  {
   "cell_type": "markdown",
   "metadata": {
    "Collapsed": "false"
   },
   "source": [
    "# AutoGluon Tabular with SageMaker\n",
    "\n",
    "[AutoGluon](https://github.com/awslabs/autogluon) automates machine learning tasks enabling you to easily achieve strong predictive performance in your applications. With just a few lines of code, you can train and deploy high-accuracy deep learning models on tabular, image, and text data.\n",
    "This notebook shows how to use AutoGluon-Tabular with Amazon SageMaker by creating custom containers."
   ]
  },
  {
   "cell_type": "markdown",
   "metadata": {
    "Collapsed": "false"
   },
   "source": [
    "## Prerequisites\n",
    "\n",
    "If using a SageMaker hosted notebook, select kernel `conda_mxnet_p36`."
   ]
  },
  {
   "cell_type": "code",
   "execution_count": 2,
   "metadata": {
    "Collapsed": "false"
   },
   "outputs": [
    {
     "name": "stdout",
     "output_type": "stream",
     "text": [
      "The user has root access.\n",
      "SageMaker instance route table setup is ok. We are good to go.\n",
      "SageMaker instance routing for Docker is ok. We are good to go!\n"
     ]
    }
   ],
   "source": [
    "# Make sure docker compose is set up properly for local mode\n",
    "!./setup.sh"
   ]
  },
  {
   "cell_type": "code",
   "execution_count": 3,
   "metadata": {
    "Collapsed": "false"
   },
   "outputs": [],
   "source": [
    "# Imports\n",
    "import os\n",
    "import boto3\n",
    "import sagemaker\n",
    "from time import sleep\n",
    "from collections import Counter\n",
    "import pandas as pd\n",
    "from sagemaker import get_execution_role, local, Model\n",
    "from sagemaker.estimator import Estimator\n",
    "from sagemaker.predictor import RealTimePredictor, csv_serializer, StringDeserializer\n",
    "from sklearn.metrics import accuracy_score, classification_report\n",
    "from IPython.core.display import display, HTML\n",
    "from IPython.core.interactiveshell import InteractiveShell\n",
    "\n",
    "# Print settings\n",
    "InteractiveShell.ast_node_interactivity = \"all\"\n",
    "pd.set_option('display.max_columns', 500)\n",
    "pd.set_option('display.max_rows', 10)\n",
    "\n",
    "# Account/s3 setup\n",
    "session = sagemaker.Session()\n",
    "local_session = local.LocalSession()\n",
    "bucket = session.default_bucket()\n",
    "prefix = 'sagemaker/autogluon-tabular'\n",
    "region = session.boto_region_name\n",
    "role = get_execution_role()\n",
    "client = boto3.client('sts')\n",
    "account = client.get_caller_identity()['Account']"
   ]
  },
  {
   "cell_type": "markdown",
   "metadata": {
    "Collapsed": "false"
   },
   "source": [
    "### Build docker images"
   ]
  },
  {
   "cell_type": "markdown",
   "metadata": {
    "Collapsed": "false"
   },
   "source": [
    "First, build autogluon package to copy into docker image."
   ]
  },
  {
   "cell_type": "code",
   "execution_count": 4,
   "metadata": {
    "Collapsed": "false"
   },
   "outputs": [],
   "source": [
    "if not os.path.exists('package'):\n",
    "    !pip install PrettyTable -t package\n",
    "    !pip install bokeh -t package\n",
    "    !pip install --pre autogluon==0.0.6 -t package\n",
    "    !pip install numpy==1.16.1 -t package    \n",
    "    !pip install --upgrade boto3 -t package\n",
    "    !pip install bokeh -t package\n",
    "    !pip install --upgrade matplotlib -t package"
   ]
  },
  {
   "cell_type": "markdown",
   "metadata": {
    "Collapsed": "false"
   },
   "source": [
    "Now build the training/inference image and push to ECR"
   ]
  },
  {
   "cell_type": "code",
   "execution_count": 5,
   "metadata": {
    "Collapsed": "false"
   },
   "outputs": [],
   "source": [
    "training_algorithm_name = 'autogluon-sagemaker-training'\n",
    "inference_algorithm_name = 'autogluon-sagemaker-inference'"
   ]
  },
  {
   "cell_type": "code",
   "execution_count": 6,
   "metadata": {
    "Collapsed": "false"
   },
   "outputs": [
    {
     "name": "stdout",
     "output_type": "stream",
     "text": [
      "WARNING! Using --password via the CLI is insecure. Use --password-stdin.\n",
      "WARNING! Your password will be stored unencrypted in /home/ec2-user/.docker/config.json.\n",
      "Configure a credential helper to remove this warning. See\n",
      "https://docs.docker.com/engine/reference/commandline/login/#credentials-store\n",
      "\n",
      "Login Succeeded\n",
      "WARNING! Using --password via the CLI is insecure. Use --password-stdin.\n",
      "WARNING! Your password will be stored unencrypted in /home/ec2-user/.docker/config.json.\n",
      "Configure a credential helper to remove this warning. See\n",
      "https://docs.docker.com/engine/reference/commandline/login/#credentials-store\n",
      "\n",
      "Login Succeeded\n",
      "Sending build context to Docker daemon    701MB\n",
      "Step 1/9 : ARG REGION=us-east-1\n",
      "Step 2/9 : FROM 763104351884.dkr.ecr.${REGION}.amazonaws.com/mxnet-training:1.6.0-cpu-py3\n",
      " ---> 6eb60fab1b5a\n",
      "Step 3/9 : RUN pip install --upgrade pip\n",
      " ---> Using cache\n",
      " ---> 6d38331d1216\n",
      "Step 4/9 : ENV PATH=\"/opt/ml/code:${PATH}\"\n",
      " ---> Using cache\n",
      " ---> 55363446fae1\n",
      "Step 5/9 : COPY package/ /opt/ml/code/package/\n",
      " ---> Using cache\n",
      " ---> 2ebe36106a59\n",
      "Step 6/9 : COPY container-training/train.py /opt/ml/code/train.py\n",
      " ---> Using cache\n",
      " ---> 16e1cb1e8c95\n",
      "Step 7/9 : COPY container-training/inference.py /opt/ml/code/inference.py\n",
      " ---> Using cache\n",
      " ---> 8e41b56aef26\n",
      "Step 8/9 : ENV SAGEMAKER_SUBMIT_DIRECTORY /opt/ml/code\n",
      " ---> Using cache\n",
      " ---> 7f5f83acd75e\n",
      "Step 9/9 : ENV SAGEMAKER_PROGRAM train.py\n",
      " ---> Using cache\n",
      " ---> f428925e43bc\n",
      "Successfully built f428925e43bc\n",
      "Successfully tagged autogluon-sagemaker-training:latest\n",
      "The push refers to repository [332270294944.dkr.ecr.us-east-2.amazonaws.com/autogluon-sagemaker-training]\n",
      "\n",
      "\u001b[1Bd4c0342c: Preparing \n",
      "\u001b[1B51427087: Preparing \n",
      "\u001b[1Bb98bf9a9: Preparing \n",
      "\u001b[1B327bd596: Preparing \n",
      "\u001b[1B2264246d: Preparing \n",
      "\u001b[1B8ac7daf4: Preparing \n",
      "\u001b[1B92b1a341: Preparing \n",
      "\u001b[1B97d2b7d2: Preparing \n",
      "\u001b[1Ba19e0cea: Preparing \n",
      "\u001b[1B13d928f3: Preparing \n",
      "\u001b[1Bf89adece: Preparing \n",
      "\u001b[1Be184e6f5: Preparing \n",
      "\u001b[1B9f0d343c: Preparing \n",
      "\u001b[1B8a0c3320: Preparing \n",
      "\u001b[1B2c46cefc: Preparing \n",
      "\u001b[9B97d2b7d2: Waiting g \n",
      "\u001b[1B0dbddd6c: Preparing \n",
      "\u001b[7Be184e6f5: Waiting g \n",
      "\u001b[10B3d928f3: Waiting g \n",
      "\u001b[8B9f0d343c: Waiting g \n",
      "\u001b[1B810a2aab: Layer already exists K\u001b[14A\u001b[1K\u001b[K\u001b[11A\u001b[1K\u001b[K\u001b[2A\u001b[1K\u001b[Klatest: digest: sha256:a7cba53d4e61c9e3c31127492b430e5e5e2cfd8a55b64d18e22b090142c2bc1b size: 4713\n",
      "WARNING! Using --password via the CLI is insecure. Use --password-stdin.\n",
      "WARNING! Your password will be stored unencrypted in /home/ec2-user/.docker/config.json.\n",
      "Configure a credential helper to remove this warning. See\n",
      "https://docs.docker.com/engine/reference/commandline/login/#credentials-store\n",
      "\n",
      "Login Succeeded\n",
      "WARNING! Using --password via the CLI is insecure. Use --password-stdin.\n",
      "WARNING! Your password will be stored unencrypted in /home/ec2-user/.docker/config.json.\n",
      "Configure a credential helper to remove this warning. See\n",
      "https://docs.docker.com/engine/reference/commandline/login/#credentials-store\n",
      "\n",
      "Login Succeeded\n",
      "Sending build context to Docker daemon    701MB\n",
      "Step 1/4 : FROM 763104351884.dkr.ecr.us-east-2.amazonaws.com/mxnet-inference:1.6.0-cpu-py3\n",
      " ---> 82eab56e0ef7\n",
      "Step 2/4 : RUN pip install --upgrade pip\n",
      " ---> Using cache\n",
      " ---> ac47bcca8178\n",
      "Step 3/4 : COPY package/ /opt/ml/code/package/\n",
      " ---> Using cache\n",
      " ---> 23d84a46778a\n",
      "Step 4/4 : ENV SAGEMAKER_PROGRAM inference.py\n",
      " ---> Using cache\n",
      " ---> adb9887147dd\n",
      "Successfully built adb9887147dd\n",
      "Successfully tagged autogluon-sagemaker-inference:latest\n",
      "The push refers to repository [332270294944.dkr.ecr.us-east-2.amazonaws.com/autogluon-sagemaker-inference]\n",
      "\n",
      "\u001b[1B05429367: Preparing \n",
      "\u001b[1Bef27b298: Preparing \n",
      "\u001b[1Ba0b72d1e: Preparing \n",
      "\u001b[1Bd18a9dc0: Preparing \n",
      "\u001b[1Bba431931: Preparing \n",
      "\u001b[1B93cc68cd: Preparing \n",
      "\u001b[1Bc6c534f5: Preparing \n",
      "\u001b[1B6a798441: Preparing \n",
      "\u001b[1Becbcd3e2: Preparing \n",
      "\u001b[1Ba8959e39: Preparing \n",
      "\u001b[1Be33c885d: Preparing \n",
      "\u001b[1Bef8b2515: Preparing \n",
      "\u001b[1Badcb66cb: Preparing \n",
      "\u001b[1B85385151: Preparing \n",
      "\u001b[8B6a798441: Waiting g \n",
      "\u001b[1B810a2aab: Layer already exists K\u001b[10A\u001b[1K\u001b[K\u001b[2A\u001b[1K\u001b[Klatest: digest: sha256:52e2c909f4baeeb3af87ab27971731d49eccbf9162785af990f22b650c730122 size: 3666\n"
     ]
    }
   ],
   "source": [
    "!./container-training/build_push_training.sh {training_algorithm_name}\n",
    "!./container-inference/build_push_inference.sh {inference_algorithm_name}"
   ]
  },
  {
   "cell_type": "markdown",
   "metadata": {
    "Collapsed": "false"
   },
   "source": [
    "### Get the data"
   ]
  },
  {
   "cell_type": "markdown",
   "metadata": {
    "Collapsed": "false"
   },
   "source": [
    "In this example we'll use the direct-marketing dataset to build a binary classification model that predicts whether customers will accept or decline a marketing offer.  \n",
    "First we'll download the data and split it into train and test sets. AutoGluon does not require a separate validation set (it uses bagged k-fold cross-validation)."
   ]
  },
  {
   "cell_type": "code",
   "execution_count": 7,
   "metadata": {
    "Collapsed": "false"
   },
   "outputs": [],
   "source": [
    "# Download and unzip the data\n",
    "!wget -N https://sagemaker-sample-data-us-west-2.s3-us-west-2.amazonaws.com/autopilot/direct_marketing/bank-additional.zip --quiet\n",
    "!unzip -qq -o bank-additional.zip\n",
    "!rm bank-additional.zip\n",
    "\n",
    "local_data_path = './bank-additional/bank-additional-full.csv'\n",
    "data = pd.read_csv(local_data_path)\n",
    "\n",
    "# Split train/test data\n",
    "train = data.sample(frac=0.7, random_state=42)\n",
    "test = data.drop(train.index)\n",
    "\n",
    "# Split test X/y\n",
    "label = 'y'\n",
    "y_test = test[label]\n",
    "X_test = test.drop(columns=[label])"
   ]
  },
  {
   "cell_type": "markdown",
   "metadata": {
    "Collapsed": "false"
   },
   "source": [
    "##### Check the data"
   ]
  },
  {
   "cell_type": "code",
   "execution_count": 8,
   "metadata": {
    "Collapsed": "false"
   },
   "outputs": [
    {
     "data": {
      "text/html": [
       "<div>\n",
       "<style scoped>\n",
       "    .dataframe tbody tr th:only-of-type {\n",
       "        vertical-align: middle;\n",
       "    }\n",
       "\n",
       "    .dataframe tbody tr th {\n",
       "        vertical-align: top;\n",
       "    }\n",
       "\n",
       "    .dataframe thead th {\n",
       "        text-align: right;\n",
       "    }\n",
       "</style>\n",
       "<table border=\"1\" class=\"dataframe\">\n",
       "  <thead>\n",
       "    <tr style=\"text-align: right;\">\n",
       "      <th></th>\n",
       "      <th>age</th>\n",
       "      <th>job</th>\n",
       "      <th>marital</th>\n",
       "      <th>education</th>\n",
       "      <th>default</th>\n",
       "      <th>housing</th>\n",
       "      <th>loan</th>\n",
       "      <th>contact</th>\n",
       "      <th>month</th>\n",
       "      <th>day_of_week</th>\n",
       "      <th>duration</th>\n",
       "      <th>campaign</th>\n",
       "      <th>pdays</th>\n",
       "      <th>previous</th>\n",
       "      <th>poutcome</th>\n",
       "      <th>emp.var.rate</th>\n",
       "      <th>cons.price.idx</th>\n",
       "      <th>cons.conf.idx</th>\n",
       "      <th>euribor3m</th>\n",
       "      <th>nr.employed</th>\n",
       "      <th>y</th>\n",
       "    </tr>\n",
       "  </thead>\n",
       "  <tbody>\n",
       "    <tr>\n",
       "      <th>32884</th>\n",
       "      <td>57</td>\n",
       "      <td>technician</td>\n",
       "      <td>married</td>\n",
       "      <td>high.school</td>\n",
       "      <td>no</td>\n",
       "      <td>no</td>\n",
       "      <td>yes</td>\n",
       "      <td>cellular</td>\n",
       "      <td>may</td>\n",
       "      <td>mon</td>\n",
       "      <td>371</td>\n",
       "      <td>1</td>\n",
       "      <td>999</td>\n",
       "      <td>1</td>\n",
       "      <td>failure</td>\n",
       "      <td>-1.8</td>\n",
       "      <td>92.893</td>\n",
       "      <td>-46.2</td>\n",
       "      <td>1.299</td>\n",
       "      <td>5099.1</td>\n",
       "      <td>no</td>\n",
       "    </tr>\n",
       "    <tr>\n",
       "      <th>3169</th>\n",
       "      <td>55</td>\n",
       "      <td>unknown</td>\n",
       "      <td>married</td>\n",
       "      <td>unknown</td>\n",
       "      <td>unknown</td>\n",
       "      <td>yes</td>\n",
       "      <td>no</td>\n",
       "      <td>telephone</td>\n",
       "      <td>may</td>\n",
       "      <td>thu</td>\n",
       "      <td>285</td>\n",
       "      <td>2</td>\n",
       "      <td>999</td>\n",
       "      <td>0</td>\n",
       "      <td>nonexistent</td>\n",
       "      <td>1.1</td>\n",
       "      <td>93.994</td>\n",
       "      <td>-36.4</td>\n",
       "      <td>4.860</td>\n",
       "      <td>5191.0</td>\n",
       "      <td>no</td>\n",
       "    </tr>\n",
       "    <tr>\n",
       "      <th>32206</th>\n",
       "      <td>33</td>\n",
       "      <td>blue-collar</td>\n",
       "      <td>married</td>\n",
       "      <td>basic.9y</td>\n",
       "      <td>no</td>\n",
       "      <td>no</td>\n",
       "      <td>no</td>\n",
       "      <td>cellular</td>\n",
       "      <td>may</td>\n",
       "      <td>fri</td>\n",
       "      <td>52</td>\n",
       "      <td>1</td>\n",
       "      <td>999</td>\n",
       "      <td>1</td>\n",
       "      <td>failure</td>\n",
       "      <td>-1.8</td>\n",
       "      <td>92.893</td>\n",
       "      <td>-46.2</td>\n",
       "      <td>1.313</td>\n",
       "      <td>5099.1</td>\n",
       "      <td>no</td>\n",
       "    </tr>\n",
       "  </tbody>\n",
       "</table>\n",
       "</div>"
      ],
      "text/plain": [
       "       age          job  marital    education  default housing loan  \\\n",
       "32884   57   technician  married  high.school       no      no  yes   \n",
       "3169    55      unknown  married      unknown  unknown     yes   no   \n",
       "32206   33  blue-collar  married     basic.9y       no      no   no   \n",
       "\n",
       "         contact month day_of_week  duration  campaign  pdays  previous  \\\n",
       "32884   cellular   may         mon       371         1    999         1   \n",
       "3169   telephone   may         thu       285         2    999         0   \n",
       "32206   cellular   may         fri        52         1    999         1   \n",
       "\n",
       "          poutcome  emp.var.rate  cons.price.idx  cons.conf.idx  euribor3m  \\\n",
       "32884      failure          -1.8          92.893          -46.2      1.299   \n",
       "3169   nonexistent           1.1          93.994          -36.4      4.860   \n",
       "32206      failure          -1.8          92.893          -46.2      1.313   \n",
       "\n",
       "       nr.employed   y  \n",
       "32884       5099.1  no  \n",
       "3169        5191.0  no  \n",
       "32206       5099.1  no  "
      ]
     },
     "execution_count": 8,
     "metadata": {},
     "output_type": "execute_result"
    },
    {
     "data": {
      "text/plain": [
       "(28832, 21)"
      ]
     },
     "execution_count": 8,
     "metadata": {},
     "output_type": "execute_result"
    },
    {
     "data": {
      "text/html": [
       "<div>\n",
       "<style scoped>\n",
       "    .dataframe tbody tr th:only-of-type {\n",
       "        vertical-align: middle;\n",
       "    }\n",
       "\n",
       "    .dataframe tbody tr th {\n",
       "        vertical-align: top;\n",
       "    }\n",
       "\n",
       "    .dataframe thead th {\n",
       "        text-align: right;\n",
       "    }\n",
       "</style>\n",
       "<table border=\"1\" class=\"dataframe\">\n",
       "  <thead>\n",
       "    <tr style=\"text-align: right;\">\n",
       "      <th></th>\n",
       "      <th>age</th>\n",
       "      <th>job</th>\n",
       "      <th>marital</th>\n",
       "      <th>education</th>\n",
       "      <th>default</th>\n",
       "      <th>housing</th>\n",
       "      <th>loan</th>\n",
       "      <th>contact</th>\n",
       "      <th>month</th>\n",
       "      <th>day_of_week</th>\n",
       "      <th>duration</th>\n",
       "      <th>campaign</th>\n",
       "      <th>pdays</th>\n",
       "      <th>previous</th>\n",
       "      <th>poutcome</th>\n",
       "      <th>emp.var.rate</th>\n",
       "      <th>cons.price.idx</th>\n",
       "      <th>cons.conf.idx</th>\n",
       "      <th>euribor3m</th>\n",
       "      <th>nr.employed</th>\n",
       "      <th>y</th>\n",
       "    </tr>\n",
       "  </thead>\n",
       "  <tbody>\n",
       "    <tr>\n",
       "      <th>2</th>\n",
       "      <td>37</td>\n",
       "      <td>services</td>\n",
       "      <td>married</td>\n",
       "      <td>high.school</td>\n",
       "      <td>no</td>\n",
       "      <td>yes</td>\n",
       "      <td>no</td>\n",
       "      <td>telephone</td>\n",
       "      <td>may</td>\n",
       "      <td>mon</td>\n",
       "      <td>226</td>\n",
       "      <td>1</td>\n",
       "      <td>999</td>\n",
       "      <td>0</td>\n",
       "      <td>nonexistent</td>\n",
       "      <td>1.1</td>\n",
       "      <td>93.994</td>\n",
       "      <td>-36.4</td>\n",
       "      <td>4.857</td>\n",
       "      <td>5191.0</td>\n",
       "      <td>no</td>\n",
       "    </tr>\n",
       "    <tr>\n",
       "      <th>9</th>\n",
       "      <td>25</td>\n",
       "      <td>services</td>\n",
       "      <td>single</td>\n",
       "      <td>high.school</td>\n",
       "      <td>no</td>\n",
       "      <td>yes</td>\n",
       "      <td>no</td>\n",
       "      <td>telephone</td>\n",
       "      <td>may</td>\n",
       "      <td>mon</td>\n",
       "      <td>50</td>\n",
       "      <td>1</td>\n",
       "      <td>999</td>\n",
       "      <td>0</td>\n",
       "      <td>nonexistent</td>\n",
       "      <td>1.1</td>\n",
       "      <td>93.994</td>\n",
       "      <td>-36.4</td>\n",
       "      <td>4.857</td>\n",
       "      <td>5191.0</td>\n",
       "      <td>no</td>\n",
       "    </tr>\n",
       "    <tr>\n",
       "      <th>10</th>\n",
       "      <td>41</td>\n",
       "      <td>blue-collar</td>\n",
       "      <td>married</td>\n",
       "      <td>unknown</td>\n",
       "      <td>unknown</td>\n",
       "      <td>no</td>\n",
       "      <td>no</td>\n",
       "      <td>telephone</td>\n",
       "      <td>may</td>\n",
       "      <td>mon</td>\n",
       "      <td>55</td>\n",
       "      <td>1</td>\n",
       "      <td>999</td>\n",
       "      <td>0</td>\n",
       "      <td>nonexistent</td>\n",
       "      <td>1.1</td>\n",
       "      <td>93.994</td>\n",
       "      <td>-36.4</td>\n",
       "      <td>4.857</td>\n",
       "      <td>5191.0</td>\n",
       "      <td>no</td>\n",
       "    </tr>\n",
       "  </tbody>\n",
       "</table>\n",
       "</div>"
      ],
      "text/plain": [
       "    age          job  marital    education  default housing loan    contact  \\\n",
       "2    37     services  married  high.school       no     yes   no  telephone   \n",
       "9    25     services   single  high.school       no     yes   no  telephone   \n",
       "10   41  blue-collar  married      unknown  unknown      no   no  telephone   \n",
       "\n",
       "   month day_of_week  duration  campaign  pdays  previous     poutcome  \\\n",
       "2    may         mon       226         1    999         0  nonexistent   \n",
       "9    may         mon        50         1    999         0  nonexistent   \n",
       "10   may         mon        55         1    999         0  nonexistent   \n",
       "\n",
       "    emp.var.rate  cons.price.idx  cons.conf.idx  euribor3m  nr.employed   y  \n",
       "2            1.1          93.994          -36.4      4.857       5191.0  no  \n",
       "9            1.1          93.994          -36.4      4.857       5191.0  no  \n",
       "10           1.1          93.994          -36.4      4.857       5191.0  no  "
      ]
     },
     "execution_count": 8,
     "metadata": {},
     "output_type": "execute_result"
    },
    {
     "data": {
      "text/plain": [
       "(12356, 21)"
      ]
     },
     "execution_count": 8,
     "metadata": {},
     "output_type": "execute_result"
    },
    {
     "data": {
      "text/html": [
       "<div>\n",
       "<style scoped>\n",
       "    .dataframe tbody tr th:only-of-type {\n",
       "        vertical-align: middle;\n",
       "    }\n",
       "\n",
       "    .dataframe tbody tr th {\n",
       "        vertical-align: top;\n",
       "    }\n",
       "\n",
       "    .dataframe thead th {\n",
       "        text-align: right;\n",
       "    }\n",
       "</style>\n",
       "<table border=\"1\" class=\"dataframe\">\n",
       "  <thead>\n",
       "    <tr style=\"text-align: right;\">\n",
       "      <th></th>\n",
       "      <th>age</th>\n",
       "      <th>job</th>\n",
       "      <th>marital</th>\n",
       "      <th>education</th>\n",
       "      <th>default</th>\n",
       "      <th>housing</th>\n",
       "      <th>loan</th>\n",
       "      <th>contact</th>\n",
       "      <th>month</th>\n",
       "      <th>day_of_week</th>\n",
       "      <th>duration</th>\n",
       "      <th>campaign</th>\n",
       "      <th>pdays</th>\n",
       "      <th>previous</th>\n",
       "      <th>poutcome</th>\n",
       "      <th>emp.var.rate</th>\n",
       "      <th>cons.price.idx</th>\n",
       "      <th>cons.conf.idx</th>\n",
       "      <th>euribor3m</th>\n",
       "      <th>nr.employed</th>\n",
       "    </tr>\n",
       "  </thead>\n",
       "  <tbody>\n",
       "    <tr>\n",
       "      <th>2</th>\n",
       "      <td>37</td>\n",
       "      <td>services</td>\n",
       "      <td>married</td>\n",
       "      <td>high.school</td>\n",
       "      <td>no</td>\n",
       "      <td>yes</td>\n",
       "      <td>no</td>\n",
       "      <td>telephone</td>\n",
       "      <td>may</td>\n",
       "      <td>mon</td>\n",
       "      <td>226</td>\n",
       "      <td>1</td>\n",
       "      <td>999</td>\n",
       "      <td>0</td>\n",
       "      <td>nonexistent</td>\n",
       "      <td>1.1</td>\n",
       "      <td>93.994</td>\n",
       "      <td>-36.4</td>\n",
       "      <td>4.857</td>\n",
       "      <td>5191.0</td>\n",
       "    </tr>\n",
       "    <tr>\n",
       "      <th>9</th>\n",
       "      <td>25</td>\n",
       "      <td>services</td>\n",
       "      <td>single</td>\n",
       "      <td>high.school</td>\n",
       "      <td>no</td>\n",
       "      <td>yes</td>\n",
       "      <td>no</td>\n",
       "      <td>telephone</td>\n",
       "      <td>may</td>\n",
       "      <td>mon</td>\n",
       "      <td>50</td>\n",
       "      <td>1</td>\n",
       "      <td>999</td>\n",
       "      <td>0</td>\n",
       "      <td>nonexistent</td>\n",
       "      <td>1.1</td>\n",
       "      <td>93.994</td>\n",
       "      <td>-36.4</td>\n",
       "      <td>4.857</td>\n",
       "      <td>5191.0</td>\n",
       "    </tr>\n",
       "    <tr>\n",
       "      <th>10</th>\n",
       "      <td>41</td>\n",
       "      <td>blue-collar</td>\n",
       "      <td>married</td>\n",
       "      <td>unknown</td>\n",
       "      <td>unknown</td>\n",
       "      <td>no</td>\n",
       "      <td>no</td>\n",
       "      <td>telephone</td>\n",
       "      <td>may</td>\n",
       "      <td>mon</td>\n",
       "      <td>55</td>\n",
       "      <td>1</td>\n",
       "      <td>999</td>\n",
       "      <td>0</td>\n",
       "      <td>nonexistent</td>\n",
       "      <td>1.1</td>\n",
       "      <td>93.994</td>\n",
       "      <td>-36.4</td>\n",
       "      <td>4.857</td>\n",
       "      <td>5191.0</td>\n",
       "    </tr>\n",
       "  </tbody>\n",
       "</table>\n",
       "</div>"
      ],
      "text/plain": [
       "    age          job  marital    education  default housing loan    contact  \\\n",
       "2    37     services  married  high.school       no     yes   no  telephone   \n",
       "9    25     services   single  high.school       no     yes   no  telephone   \n",
       "10   41  blue-collar  married      unknown  unknown      no   no  telephone   \n",
       "\n",
       "   month day_of_week  duration  campaign  pdays  previous     poutcome  \\\n",
       "2    may         mon       226         1    999         0  nonexistent   \n",
       "9    may         mon        50         1    999         0  nonexistent   \n",
       "10   may         mon        55         1    999         0  nonexistent   \n",
       "\n",
       "    emp.var.rate  cons.price.idx  cons.conf.idx  euribor3m  nr.employed  \n",
       "2            1.1          93.994          -36.4      4.857       5191.0  \n",
       "9            1.1          93.994          -36.4      4.857       5191.0  \n",
       "10           1.1          93.994          -36.4      4.857       5191.0  "
      ]
     },
     "execution_count": 8,
     "metadata": {},
     "output_type": "execute_result"
    },
    {
     "data": {
      "text/plain": [
       "(12356, 20)"
      ]
     },
     "execution_count": 8,
     "metadata": {},
     "output_type": "execute_result"
    }
   ],
   "source": [
    "train.head(3)\n",
    "train.shape\n",
    "\n",
    "test.head(3)\n",
    "test.shape\n",
    "\n",
    "X_test.head(3)\n",
    "X_test.shape"
   ]
  },
  {
   "cell_type": "markdown",
   "metadata": {
    "Collapsed": "false"
   },
   "source": [
    "Upload the data to s3"
   ]
  },
  {
   "cell_type": "code",
   "execution_count": 9,
   "metadata": {
    "Collapsed": "false"
   },
   "outputs": [],
   "source": [
    "train_file = 'train.csv'\n",
    "train.to_csv(train_file,index=False)\n",
    "train_s3_path = session.upload_data(train_file, key_prefix='{}/data'.format(prefix))\n",
    "\n",
    "test_file = 'test.csv'\n",
    "test.to_csv(test_file,index=False)\n",
    "test_s3_path = session.upload_data(test_file, key_prefix='{}/data'.format(prefix))\n",
    "\n",
    "X_test_file = 'X_test.csv'\n",
    "X_test.to_csv(X_test_file,index=False)\n",
    "X_test_s3_path = session.upload_data(X_test_file, key_prefix='{}/data'.format(prefix))"
   ]
  },
  {
   "cell_type": "markdown",
   "metadata": {
    "Collapsed": "false"
   },
   "source": [
    "## Train"
   ]
  },
  {
   "cell_type": "markdown",
   "metadata": {
    "Collapsed": "false"
   },
   "source": [
    "The minimum requirement for hyperparameters is a target label."
   ]
  },
  {
   "cell_type": "code",
   "execution_count": 10,
   "metadata": {
    "Collapsed": "false"
   },
   "outputs": [],
   "source": [
    "hyperparameters = {'label': 'y'}"
   ]
  },
  {
   "cell_type": "markdown",
   "metadata": {
    "Collapsed": "false"
   },
   "source": [
    "##### (Optional) hyperparameters can be passed to the `autogluon.task.TabularPrediction.fit` function.  \n",
    "\n",
    "Below shows AutoGluon hyperparameters from the example [Predicting Columns in a Table - In Depth](https://autogluon.mxnet.io/tutorials/tabular_prediction/tabular-indepth.html#model-ensembling-with-stacking-bagging). Please see [fit parameters](https://autogluon.mxnet.io/api/autogluon.task.html?highlight=eval_metric#autogluon.task.TabularPrediction.fit) for further information.\n",
    "\n",
    "\n",
    "Here's a more in depth example from the above tutorial that shows how to provide hyperparameter ranges and additional settings:\n",
    "\n",
    "```python\n",
    "nn_options = {\n",
    "    'num_epochs': '10',\n",
    "    'learning_rate': \"ag.space.Real(1e-4, 1e-2, default=5e-4, log=True)\",\n",
    "    'activation': \"ag.space.Categorical('relu', 'softrelu', 'tanh')\",\n",
    "    'layers': \"ag.space.Categorical([100],[1000],[200,100],[300,200,100])\",\n",
    "    'dropout_prob': \"ag.space.Real(0.0, 0.5, default=0.1)\"\n",
    "}\n",
    "\n",
    "gbm_options = {\n",
    "    'num_boost_round': '100',\n",
    "    'num_leaves': \"ag.space.Int(lower=26, upper=66, default=36)\"\n",
    "}\n",
    "\n",
    "model_hps = {'NN': nn_options, 'GBM': gbm_options} \n",
    "\n",
    "hyperparameters = {\n",
    "    'label': 'y',\n",
    "    'time_limits': 2*60,\n",
    "    'hyperparameters': model_hps,\n",
    "    'auto_stack': False,    \n",
    "    'hyperparameter_tune': True,\n",
    "    'search_strategy': 'skopt'\n",
    "}\n",
    "```\n",
    "**Note:** Your hyperparameter choices may affect the size of the model package, which could result in additional time taken to upload your model and complete training.\n",
    "\n",
    "<br>"
   ]
  },
  {
   "cell_type": "markdown",
   "metadata": {
    "Collapsed": "false"
   },
   "source": [
    "For local training set `train_instance_type` to `local` .  \n",
    "For non-local training the recommended instance type is `ml.m5.2xlarge` ."
   ]
  },
  {
   "cell_type": "code",
   "execution_count": 11,
   "metadata": {
    "Collapsed": "false"
   },
   "outputs": [
    {
     "name": "stdout",
     "output_type": "stream",
     "text": [
      "2020-04-08 03:57:43 Starting - Starting the training job...\n",
      "2020-04-08 03:57:44 Starting - Launching requested ML instances...\n",
      "2020-04-08 03:58:39 Starting - Preparing the instances for training......\n",
      "2020-04-08 03:59:31 Downloading - Downloading input data\n",
      "2020-04-08 03:59:31 Training - Downloading the training image......\n",
      "2020-04-08 04:00:34 Training - Training image download completed. Training in progress.\u001b[34m2020-04-08 04:00:34,785 sagemaker-containers INFO     Imported framework sagemaker_mxnet_container.training\u001b[0m\n",
      "\u001b[34m2020-04-08 04:00:34,786 sagemaker-containers INFO     Failed to parse hyperparameter label value y to Json.\u001b[0m\n",
      "\u001b[34mReturning the value itself\u001b[0m\n",
      "\u001b[34m2020-04-08 04:00:34,788 sagemaker-containers INFO     No GPUs detected (normal if no gpus installed)\u001b[0m\n",
      "\u001b[34m2020-04-08 04:00:34,802 sagemaker_mxnet_container.training INFO     MXNet training environment: {'SM_HOSTS': '[\"algo-1\"]', 'SM_NETWORK_INTERFACE_NAME': 'eth0', 'SM_HPS': '{\"label\":\"y\"}', 'SM_USER_ENTRY_POINT': 'train.py', 'SM_FRAMEWORK_PARAMS': '{}', 'SM_RESOURCE_CONFIG': '{\"current_host\":\"algo-1\",\"hosts\":[\"algo-1\"],\"network_interface_name\":\"eth0\"}', 'SM_INPUT_DATA_CONFIG': '{\"training\":{\"RecordWrapperType\":\"None\",\"S3DistributionType\":\"FullyReplicated\",\"TrainingInputMode\":\"File\"}}', 'SM_OUTPUT_DATA_DIR': '/opt/ml/output/data', 'SM_CHANNELS': '[\"training\"]', 'SM_CURRENT_HOST': 'algo-1', 'SM_MODULE_NAME': 'train', 'SM_LOG_LEVEL': '20', 'SM_FRAMEWORK_MODULE': 'sagemaker_mxnet_container.training:main', 'SM_INPUT_DIR': '/opt/ml/input', 'SM_INPUT_CONFIG_DIR': '/opt/ml/input/config', 'SM_OUTPUT_DIR': '/opt/ml/output', 'SM_NUM_CPUS': '8', 'SM_NUM_GPUS': '0', 'SM_MODEL_DIR': '/opt/ml/model', 'SM_MODULE_DIR': '/opt/ml/code', 'SM_TRAINING_ENV': '{\"additional_framework_parameters\":{},\"channel_input_dirs\":{\"training\":\"/opt/ml/input/data/training\"},\"current_host\":\"algo-1\",\"framework_module\":\"sagemaker_mxnet_container.training:main\",\"hosts\":[\"algo-1\"],\"hyperparameters\":{\"label\":\"y\"},\"input_config_dir\":\"/opt/ml/input/config\",\"input_data_config\":{\"training\":{\"RecordWrapperType\":\"None\",\"S3DistributionType\":\"FullyReplicated\",\"TrainingInputMode\":\"File\"}},\"input_dir\":\"/opt/ml/input\",\"is_master\":true,\"job_name\":\"autogluon-sagemaker-training-2020-04-08-03-57-42-793\",\"log_level\":20,\"master_hostname\":\"algo-1\",\"model_dir\":\"/opt/ml/model\",\"module_dir\":\"/opt/ml/code\",\"module_name\":\"train\",\"network_interface_name\":\"eth0\",\"num_cpus\":8,\"num_gpus\":0,\"output_data_dir\":\"/opt/ml/output/data\",\"output_dir\":\"/opt/ml/output\",\"output_intermediate_dir\":\"/opt/ml/output/intermediate\",\"resource_config\":{\"current_host\":\"algo-1\",\"hosts\":[\"algo-1\"],\"network_interface_name\":\"eth0\"},\"user_entry_point\":\"train.py\"}', 'SM_USER_ARGS': '[\"--label\",\"y\"]', 'SM_OUTPUT_INTERMEDIATE_DIR': '/opt/ml/output/intermediate', 'SM_CHANNEL_TRAINING': '/opt/ml/input/data/training', 'SM_HP_LABEL': 'y'}\u001b[0m\n",
      "\u001b[34m2020-04-08 04:00:43,640 sagemaker-containers INFO     Module default_user_module_name does not provide a setup.py. \u001b[0m\n",
      "\u001b[34mGenerating setup.py\u001b[0m\n",
      "\u001b[34m2020-04-08 04:00:43,640 sagemaker-containers INFO     Generating setup.cfg\u001b[0m\n",
      "\u001b[34m2020-04-08 04:00:43,640 sagemaker-containers INFO     Generating MANIFEST.in\u001b[0m\n",
      "\u001b[34m2020-04-08 04:00:43,640 sagemaker-containers INFO     Installing module with the following command:\u001b[0m\n",
      "\u001b[34m/usr/local/bin/python3.6 -m pip install . \u001b[0m\n",
      "\u001b[34mProcessing /tmp/tmps7vmgdjw/module_dir\u001b[0m\n",
      "\u001b[34mInstalling collected packages: default-user-module-name\n",
      "    Running setup.py install for default-user-module-name: started\u001b[0m\n",
      "\u001b[34m    Running setup.py install for default-user-module-name: finished with status 'done'\u001b[0m\n",
      "\u001b[34mSuccessfully installed default-user-module-name-1.0.0\u001b[0m\n",
      "\u001b[34m2020-04-08 04:00:55,315 sagemaker-containers INFO     No GPUs detected (normal if no gpus installed)\u001b[0m\n",
      "\u001b[34m2020-04-08 04:00:55,316 sagemaker-containers INFO     Failed to parse hyperparameter label value y to Json.\u001b[0m\n",
      "\u001b[34mReturning the value itself\u001b[0m\n",
      "\u001b[34m2020-04-08 04:00:55,353 sagemaker-containers INFO     Failed to parse hyperparameter label value y to Json.\u001b[0m\n",
      "\u001b[34mReturning the value itself\u001b[0m\n",
      "\u001b[34m2020-04-08 04:00:55,356 sagemaker-containers INFO     No GPUs detected (normal if no gpus installed)\u001b[0m\n",
      "\u001b[34m2020-04-08 04:00:55,368 sagemaker-containers INFO     Failed to parse hyperparameter label value y to Json.\u001b[0m\n",
      "\u001b[34mReturning the value itself\u001b[0m\n",
      "\u001b[34m2020-04-08 04:00:55,370 sagemaker-containers INFO     No GPUs detected (normal if no gpus installed)\u001b[0m\n",
      "\u001b[34m2020-04-08 04:00:55,382 sagemaker-containers INFO     Invoking user script\n",
      "\u001b[0m\n",
      "\u001b[34mTraining Env:\n",
      "\u001b[0m\n",
      "\u001b[34m{\n",
      "    \"additional_framework_parameters\": {},\n",
      "    \"channel_input_dirs\": {\n",
      "        \"training\": \"/opt/ml/input/data/training\"\n",
      "    },\n",
      "    \"current_host\": \"algo-1\",\n",
      "    \"framework_module\": \"sagemaker_mxnet_container.training:main\",\n",
      "    \"hosts\": [\n",
      "        \"algo-1\"\n",
      "    ],\n",
      "    \"hyperparameters\": {\n",
      "        \"label\": \"y\"\n",
      "    },\n",
      "    \"input_config_dir\": \"/opt/ml/input/config\",\n",
      "    \"input_data_config\": {\n",
      "        \"training\": {\n",
      "            \"TrainingInputMode\": \"File\",\n",
      "            \"S3DistributionType\": \"FullyReplicated\",\n",
      "            \"RecordWrapperType\": \"None\"\n",
      "        }\n",
      "    },\n",
      "    \"input_dir\": \"/opt/ml/input\",\n",
      "    \"is_master\": true,\n",
      "    \"job_name\": \"autogluon-sagemaker-training-2020-04-08-03-57-42-793\",\n",
      "    \"log_level\": 20,\n",
      "    \"master_hostname\": \"algo-1\",\n",
      "    \"model_dir\": \"/opt/ml/model\",\n",
      "    \"module_dir\": \"/opt/ml/code\",\n",
      "    \"module_name\": \"train\",\n",
      "    \"network_interface_name\": \"eth0\",\n",
      "    \"num_cpus\": 8,\n",
      "    \"num_gpus\": 0,\n",
      "    \"output_data_dir\": \"/opt/ml/output/data\",\n",
      "    \"output_dir\": \"/opt/ml/output\",\n",
      "    \"output_intermediate_dir\": \"/opt/ml/output/intermediate\",\n",
      "    \"resource_config\": {\n",
      "        \"current_host\": \"algo-1\",\n",
      "        \"hosts\": [\n",
      "            \"algo-1\"\n",
      "        ],\n",
      "        \"network_interface_name\": \"eth0\"\n",
      "    },\n",
      "    \"user_entry_point\": \"train.py\"\u001b[0m\n",
      "\u001b[34m}\n",
      "\u001b[0m\n",
      "\u001b[34mEnvironment variables:\n",
      "\u001b[0m\n",
      "\u001b[34mSM_HOSTS=[\"algo-1\"]\u001b[0m\n",
      "\u001b[34mSM_NETWORK_INTERFACE_NAME=eth0\u001b[0m\n",
      "\u001b[34mSM_HPS={\"label\":\"y\"}\u001b[0m\n",
      "\u001b[34mSM_USER_ENTRY_POINT=train.py\u001b[0m\n",
      "\u001b[34mSM_FRAMEWORK_PARAMS={}\u001b[0m\n",
      "\u001b[34mSM_RESOURCE_CONFIG={\"current_host\":\"algo-1\",\"hosts\":[\"algo-1\"],\"network_interface_name\":\"eth0\"}\u001b[0m\n",
      "\u001b[34mSM_INPUT_DATA_CONFIG={\"training\":{\"RecordWrapperType\":\"None\",\"S3DistributionType\":\"FullyReplicated\",\"TrainingInputMode\":\"File\"}}\u001b[0m\n",
      "\u001b[34mSM_OUTPUT_DATA_DIR=/opt/ml/output/data\u001b[0m\n",
      "\u001b[34mSM_CHANNELS=[\"training\"]\u001b[0m\n",
      "\u001b[34mSM_CURRENT_HOST=algo-1\u001b[0m\n",
      "\u001b[34mSM_MODULE_NAME=train\u001b[0m\n",
      "\u001b[34mSM_LOG_LEVEL=20\u001b[0m\n",
      "\u001b[34mSM_FRAMEWORK_MODULE=sagemaker_mxnet_container.training:main\u001b[0m\n",
      "\u001b[34mSM_INPUT_DIR=/opt/ml/input\u001b[0m\n",
      "\u001b[34mSM_INPUT_CONFIG_DIR=/opt/ml/input/config\u001b[0m\n",
      "\u001b[34mSM_OUTPUT_DIR=/opt/ml/output\u001b[0m\n",
      "\u001b[34mSM_NUM_CPUS=8\u001b[0m\n",
      "\u001b[34mSM_NUM_GPUS=0\u001b[0m\n",
      "\u001b[34mSM_MODEL_DIR=/opt/ml/model\u001b[0m\n",
      "\u001b[34mSM_MODULE_DIR=/opt/ml/code\u001b[0m\n",
      "\u001b[34mSM_TRAINING_ENV={\"additional_framework_parameters\":{},\"channel_input_dirs\":{\"training\":\"/opt/ml/input/data/training\"},\"current_host\":\"algo-1\",\"framework_module\":\"sagemaker_mxnet_container.training:main\",\"hosts\":[\"algo-1\"],\"hyperparameters\":{\"label\":\"y\"},\"input_config_dir\":\"/opt/ml/input/config\",\"input_data_config\":{\"training\":{\"RecordWrapperType\":\"None\",\"S3DistributionType\":\"FullyReplicated\",\"TrainingInputMode\":\"File\"}},\"input_dir\":\"/opt/ml/input\",\"is_master\":true,\"job_name\":\"autogluon-sagemaker-training-2020-04-08-03-57-42-793\",\"log_level\":20,\"master_hostname\":\"algo-1\",\"model_dir\":\"/opt/ml/model\",\"module_dir\":\"/opt/ml/code\",\"module_name\":\"train\",\"network_interface_name\":\"eth0\",\"num_cpus\":8,\"num_gpus\":0,\"output_data_dir\":\"/opt/ml/output/data\",\"output_dir\":\"/opt/ml/output\",\"output_intermediate_dir\":\"/opt/ml/output/intermediate\",\"resource_config\":{\"current_host\":\"algo-1\",\"hosts\":[\"algo-1\"],\"network_interface_name\":\"eth0\"},\"user_entry_point\":\"train.py\"}\u001b[0m\n",
      "\u001b[34mSM_USER_ARGS=[\"--label\",\"y\"]\u001b[0m\n",
      "\u001b[34mSM_OUTPUT_INTERMEDIATE_DIR=/opt/ml/output/intermediate\u001b[0m\n",
      "\u001b[34mSM_CHANNEL_TRAINING=/opt/ml/input/data/training\u001b[0m\n",
      "\u001b[34mSM_HP_LABEL=y\u001b[0m\n",
      "\u001b[34mPYTHONPATH=/opt/ml/code:/usr/local/bin:/usr/local/lib/python36.zip:/usr/local/lib/python3.6:/usr/local/lib/python3.6/lib-dynload:/usr/local/lib/python3.6/site-packages\n",
      "\u001b[0m\n",
      "\u001b[34mInvoking script with the following command:\n",
      "\u001b[0m\n",
      "\u001b[34m/usr/local/bin/python3.6 train.py --label y\n",
      "\n",
      "\u001b[0m\n",
      "\u001b[34m/usr/local/lib/python3.6/site-packages/mxnet/optimizer/optimizer.py:167: UserWarning: WARNING: New optimizer gluonnlp.optimizer.lamb.LAMB is overriding existing optimizer mxnet.optimizer.optimizer.LAMB\n",
      "  Optimizer.opt_registry[name].__name__))\u001b[0m\n",
      "\u001b[34mpackage/sklearn/utils/deprecation.py:144: FutureWarning: The sklearn.metrics.classification module is  deprecated in version 0.22 and will be removed in version 0.24. The corresponding classes / functions should instead be imported from sklearn.metrics. Anything that cannot be imported from sklearn.metrics is now part of the private API.\n",
      "  warnings.warn(message, FutureWarning)\n",
      "\u001b[0m\n",
      "\u001b[34m====== args ======\u001b[0m\n",
      "\u001b[34mhosts,  type: <class 'list'>,  value: ['algo-1']\u001b[0m\n",
      "\u001b[34mcurrent_host,  type: <class 'str'>,  value: algo-1\u001b[0m\n",
      "\u001b[34mnum_gpus,  type: <class 'int'>,  value: 0\u001b[0m\n",
      "\u001b[34mmodel_dir,  type: <class 'str'>,  value: /opt/ml/model\u001b[0m\n",
      "\u001b[34mtrain,  type: <class 'str'>,  value: /opt/ml/input/data/training\u001b[0m\n",
      "\u001b[34mtest,  type: <class 'str'>,  value: \u001b[0m\n",
      "\u001b[34mlabel,  type: <class 'str'>,  value: y\u001b[0m\n",
      "\u001b[34mproblem_type,  type: <class 'NoneType'>,  value: None\u001b[0m\n",
      "\u001b[34meval_metric,  type: <class 'NoneType'>,  value: None\u001b[0m\n",
      "\u001b[34mstopping_metric,  type: <class 'NoneType'>,  value: None\u001b[0m\n",
      "\u001b[34mauto_stack,  type: <class 'bool'>,  value: False\u001b[0m\n",
      "\u001b[34mhyperparameter_tune,  type: <class 'bool'>,  value: False\u001b[0m\n",
      "\u001b[34mfeature_prune,  type: <class 'bool'>,  value: False\u001b[0m\n",
      "\u001b[34mholdout_frac,  type: <class 'NoneType'>,  value: None\u001b[0m\n",
      "\u001b[34mnum_bagging_folds,  type: <class 'int'>,  value: 0\u001b[0m\n",
      "\u001b[34mnum_bagging_sets,  type: <class 'NoneType'>,  value: None\u001b[0m\n",
      "\u001b[34mstack_ensemble_levels,  type: <class 'int'>,  value: 0\u001b[0m\n",
      "\u001b[34mhyperparameters,  type: <class 'NoneType'>,  value: None\u001b[0m\n",
      "\u001b[34mcache_data,  type: <class 'bool'>,  value: True\u001b[0m\n",
      "\u001b[34mtime_limits,  type: <class 'NoneType'>,  value: None\u001b[0m\n",
      "\u001b[34mnum_trials,  type: <class 'NoneType'>,  value: None\u001b[0m\n",
      "\u001b[34msearch_strategy,  type: <class 'str'>,  value: random\u001b[0m\n",
      "\u001b[34msearch_options,  type: <class 'NoneType'>,  value: None\u001b[0m\n",
      "\u001b[34mnthreads_per_trial,  type: <class 'NoneType'>,  value: None\u001b[0m\n",
      "\u001b[34mngpus_per_trial,  type: <class 'NoneType'>,  value: None\u001b[0m\n",
      "\u001b[34mdist_ip_addrs,  type: <class 'NoneType'>,  value: None\u001b[0m\n",
      "\u001b[34mvisualizer,  type: <class 'str'>,  value: none\u001b[0m\n",
      "\u001b[34mverbosity,  type: <class 'int'>,  value: 2\u001b[0m\n",
      "\u001b[34mdebug,  type: <class 'bool'>,  value: False\n",
      "\u001b[0m\n",
      "\u001b[34mTrain files: ['train.csv']\u001b[0m\n",
      "\u001b[34mLabel counts: {'no': 25588, 'yes': 3244}\u001b[0m\n",
      "\u001b[34mhp: None\u001b[0m\n",
      "\u001b[34mBeginning AutoGluon training ...\u001b[0m\n",
      "\u001b[34mAutoGluon will save models to /opt/ml/model/\u001b[0m\n",
      "\u001b[34mTrain Data Rows:    28832\u001b[0m\n",
      "\u001b[34mTrain Data Columns: 21\u001b[0m\n",
      "\u001b[34mPreprocessing data ...\u001b[0m\n",
      "\u001b[34mHere are the first 10 unique label values in your data:  ['no' 'yes']\u001b[0m\n",
      "\u001b[34mAutoGluon infers your prediction problem is: binary  (because only two unique label-values observed)\u001b[0m\n",
      "\u001b[34mIf this is wrong, please specify `problem_type` argument in fit() instead (You may specify problem_type as one of: ['binary', 'multiclass', 'regression'])\n",
      "\u001b[0m\n",
      "\u001b[34mWarning: Updated label_count_threshold from 10 to 12 to avoid cutting too many classes.\u001b[0m\n",
      "\u001b[34mSelected class <--> label mapping:  class 1 = yes, class 0 = no\u001b[0m\n",
      "\u001b[34mFeature Generator processed 28832 data points with 20 features\u001b[0m\n",
      "\u001b[34mOriginal Features:\u001b[0m\n",
      "\u001b[34m#011int features: 5\u001b[0m\n",
      "\u001b[34m#011object features: 10\u001b[0m\n",
      "\u001b[34m#011float features: 5\u001b[0m\n",
      "\u001b[34mGenerated Features:\u001b[0m\n",
      "\u001b[34m#011int features: 0\u001b[0m\n",
      "\u001b[34mAll Features:\u001b[0m\n",
      "\u001b[34m#011int features: 5\u001b[0m\n",
      "\u001b[34m#011object features: 10\u001b[0m\n",
      "\u001b[34m#011float features: 5\u001b[0m\n",
      "\u001b[34m#011Data preprocessing and feature engineering runtime = 0.18s ...\u001b[0m\n",
      "\u001b[34mAutoGluon will gauge predictive performance using evaluation metric: accuracy\u001b[0m\n",
      "\u001b[34mTo change this, specify the eval_metric argument of fit()\u001b[0m\n",
      "\u001b[34mAutoGluon will early stop models using evaluation metric: accuracy\u001b[0m\n",
      "\u001b[34mFitting model: RandomForestClassifierGini ...\u001b[0m\n",
      "\u001b[34m#0110.9208#011 = Validation accuracy score\u001b[0m\n",
      "\u001b[34m#0111.65s#011 = Training runtime\u001b[0m\n",
      "\u001b[34m#0110.12s#011 = Validation runtime\u001b[0m\n",
      "\u001b[34mFitting model: RandomForestClassifierEntr ...\u001b[0m\n",
      "\u001b[34m#0110.9224#011 = Validation accuracy score\u001b[0m\n",
      "\u001b[34m#0111.75s#011 = Training runtime\u001b[0m\n",
      "\u001b[34m#0110.12s#011 = Validation runtime\u001b[0m\n",
      "\u001b[34mFitting model: ExtraTreesClassifierGini ...\u001b[0m\n",
      "\u001b[34m#0110.9092#011 = Validation accuracy score\u001b[0m\n",
      "\u001b[34m#0111.34s#011 = Training runtime\u001b[0m\n",
      "\u001b[34m#0110.12s#011 = Validation runtime\u001b[0m\n",
      "\u001b[34mFitting model: ExtraTreesClassifierEntr ...\u001b[0m\n",
      "\u001b[34m#0110.912#011 = Validation accuracy score\u001b[0m\n",
      "\u001b[34m#0111.44s#011 = Training runtime\u001b[0m\n",
      "\u001b[34m#0110.12s#011 = Validation runtime\u001b[0m\n",
      "\u001b[34mFitting model: KNeighborsClassifierUnif ...\u001b[0m\n",
      "\u001b[34m#0110.8984#011 = Validation accuracy score\u001b[0m\n",
      "\u001b[34m#0110.21s#011 = Training runtime\u001b[0m\n",
      "\u001b[34m#0110.11s#011 = Validation runtime\u001b[0m\n",
      "\u001b[34mFitting model: KNeighborsClassifierDist ...\u001b[0m\n",
      "\u001b[34m#0110.8948#011 = Validation accuracy score\u001b[0m\n",
      "\u001b[34m#0110.21s#011 = Training runtime\u001b[0m\n",
      "\u001b[34m#0110.11s#011 = Validation runtime\u001b[0m\n",
      "\u001b[34mFitting model: LightGBMClassifier ...\u001b[0m\n",
      "\u001b[34m#0110.9232#011 = Validation accuracy score\u001b[0m\n",
      "\u001b[34m#0111.46s#011 = Training runtime\u001b[0m\n",
      "\u001b[34m#0110.02s#011 = Validation runtime\u001b[0m\n",
      "\u001b[34mFitting model: CatboostClassifier ...\u001b[0m\n",
      "\u001b[34m#0110.9164#011 = Validation accuracy score\u001b[0m\n",
      "\u001b[34m#0112.85s#011 = Training runtime\u001b[0m\n",
      "\u001b[34m#0110.02s#011 = Validation runtime\u001b[0m\n",
      "\u001b[34mFitting model: NeuralNetClassifier ...\u001b[0m\n",
      "\u001b[34m#0110.9168#011 = Validation accuracy score\u001b[0m\n",
      "\u001b[34m#01169.15s#011 = Training runtime\u001b[0m\n",
      "\u001b[34m#0110.31s#011 = Validation runtime\u001b[0m\n",
      "\u001b[34mFitting model: LightGBMClassifierCustom ...\u001b[0m\n",
      "\u001b[34m#0110.9192#011 = Validation accuracy score\u001b[0m\n",
      "\u001b[34m#0112.86s#011 = Training runtime\u001b[0m\n",
      "\u001b[34m#0110.03s#011 = Validation runtime\u001b[0m\n",
      "\n",
      "2020-04-08 04:02:37 Uploading - Uploading generated training model\u001b[34mFitting model: weighted_ensemble_k0_l1 ...\u001b[0m\n",
      "\u001b[34m#0110.9256#011 = Validation accuracy score\u001b[0m\n",
      "\u001b[34m#0111.16s#011 = Training runtime\u001b[0m\n",
      "\u001b[34m#0110.0s#011 = Validation runtime\u001b[0m\n",
      "\u001b[34mAutoGluon training complete, total runtime = 88.64s ...\u001b[0m\n",
      "\u001b[34m*** Summary of fit() ***\u001b[0m\n",
      "\u001b[34mEstimated performance of each model:\n",
      "                         model  score_val   fit_time  pred_time_val  stack_level\u001b[0m\n",
      "\u001b[34m10     weighted_ensemble_k0_l1     0.9256   1.156727       0.001678            1\u001b[0m\n",
      "\u001b[34m6           LightGBMClassifier     0.9232   1.464899       0.020828            0\u001b[0m\n",
      "\u001b[34m1   RandomForestClassifierEntr     0.9224   1.753132       0.116901            0\u001b[0m\n",
      "\u001b[34m0   RandomForestClassifierGini     0.9208   1.648469       0.117489            0\u001b[0m\n",
      "\u001b[34m9     LightGBMClassifierCustom     0.9192   2.863066       0.026573            0\u001b[0m\n",
      "\u001b[34m8          NeuralNetClassifier     0.9168  69.145895       0.307061            0\u001b[0m\n",
      "\u001b[34m7           CatboostClassifier     0.9164   2.853749       0.018971            0\u001b[0m\n",
      "\u001b[34m3     ExtraTreesClassifierEntr     0.9120   1.439195       0.116579            0\u001b[0m\n",
      "\u001b[34m2     ExtraTreesClassifierGini     0.9092   1.337389       0.116438            0\u001b[0m\n",
      "\u001b[34m4     KNeighborsClassifierUnif     0.8984   0.207607       0.114074            0\u001b[0m\n",
      "\u001b[34m5     KNeighborsClassifierDist     0.8948   0.210366       0.114665            0\u001b[0m\n",
      "\u001b[34mNumber of models trained: 11\u001b[0m\n",
      "\u001b[34mTypes of models trained:\u001b[0m\n",
      "\u001b[34m{'TabularNeuralNetModel', 'LGBModel', 'WeightedEnsembleModel', 'KNNModel', 'RFModel', 'CatboostModel'}\u001b[0m\n",
      "\u001b[34mBagging used: False \u001b[0m\n",
      "\u001b[34mStack-ensembling used: False \u001b[0m\n",
      "\u001b[34mHyperparameter-tuning used: False \u001b[0m\n",
      "\u001b[34mUser-specified hyperparameters:\u001b[0m\n",
      "\u001b[34m{'NN': {'num_epochs': 500}, 'GBM': {'num_boost_round': 10000}, 'CAT': {'iterations': 10000}, 'RF': {'n_estimators': 300}, 'XT': {'n_estimators': 300}, 'KNN': {}, 'custom': ['GBM']}\u001b[0m\n",
      "\u001b[34m*** End of fit() summary ***\u001b[0m\n",
      "\u001b[34mModel export summary:\u001b[0m\n",
      "\u001b[34m/opt/ml/model/: ['utils', 'models', 'learner.pkl']\u001b[0m\n",
      "\u001b[34m/opt/ml/model/models: ['RandomForestClassifierEntr', 'NeuralNetClassifier', 'weighted_ensemble_k0_l1', 'ExtraTreesClassifierGini', 'CatboostClassifier', 'LightGBMClassifier', 'ExtraTreesClassifierEntr', 'LightGBMClassifierCustom', 'trainer.pkl', 'KNeighborsClassifierUnif', 'RandomForestClassifierGini', 'KNeighborsClassifierDist']\u001b[0m\n",
      "\u001b[34m/opt/ml/model directory size: 643M\n",
      "\u001b[0m\n",
      "\u001b[34mElapsed time: 92.834 seconds\u001b[0m\n",
      "\u001b[34m===== Training Completed =====\u001b[0m\n",
      "\u001b[34m2020-04-08 04:02:33,499 sagemaker-containers INFO     Reporting training SUCCESS\u001b[0m\n",
      "\n",
      "2020-04-08 04:03:28 Completed - Training job completed\n",
      "Training seconds: 242\n",
      "Billable seconds: 242\n",
      "CPU times: user 743 ms, sys: 56 ms, total: 799 ms\n",
      "Wall time: 6min 13s\n"
     ]
    }
   ],
   "source": [
    "%%time\n",
    "\n",
    "instance_type = 'ml.m5.2xlarge'\n",
    "#instance_type = 'local'\n",
    "\n",
    "ecr_image = f'{account}.dkr.ecr.{region}.amazonaws.com/{training_algorithm_name}:latest'\n",
    "\n",
    "estimator = Estimator(image_name=ecr_image,\n",
    "                      role=role,\n",
    "                      train_instance_count=1,\n",
    "                      train_instance_type=instance_type,\n",
    "                      hyperparameters=hyperparameters)\n",
    "\n",
    "estimator.fit(train_s3_path)"
   ]
  },
  {
   "cell_type": "markdown",
   "metadata": {
    "Collapsed": "false"
   },
   "source": [
    "### Create Model"
   ]
  },
  {
   "cell_type": "code",
   "execution_count": 12,
   "metadata": {
    "Collapsed": "false"
   },
   "outputs": [],
   "source": [
    "# Create predictor object\n",
    "class AutoGluonTabularPredictor(RealTimePredictor):\n",
    "    def __init__(self, *args, **kwargs):\n",
    "        super().__init__(*args, content_type='text/csv', \n",
    "                         serializer=csv_serializer, \n",
    "                         deserializer=StringDeserializer(), **kwargs)"
   ]
  },
  {
   "cell_type": "code",
   "execution_count": 13,
   "metadata": {
    "Collapsed": "false"
   },
   "outputs": [],
   "source": [
    "ecr_image = f'{account}.dkr.ecr.{region}.amazonaws.com/{inference_algorithm_name}:latest'\n",
    "\n",
    "if instance_type == 'local':\n",
    "    model = estimator.create_model(image=ecr_image, role=role)\n",
    "else:\n",
    "    model_uri = os.path.join(estimator.output_path, estimator._current_job_name, \"output\", \"model.tar.gz\")\n",
    "    model = Model(model_uri, ecr_image, role=role, sagemaker_session=session, predictor_cls=AutoGluonTabularPredictor)"
   ]
  },
  {
   "cell_type": "markdown",
   "metadata": {
    "Collapsed": "false"
   },
   "source": [
    "### Batch Transform"
   ]
  },
  {
   "cell_type": "markdown",
   "metadata": {
    "Collapsed": "false"
   },
   "source": [
    "For local mode, either `s3://<bucket>/<prefix>/output/` or `file:///<absolute_local_path>` can be used as outputs.\n",
    "\n",
    "By including the label column in the test data, you can also evaluate prediction performance (In this case, passing `test_s3_path` instead of `X_test_s3_path`)."
   ]
  },
  {
   "cell_type": "code",
   "execution_count": 14,
   "metadata": {
    "Collapsed": "false"
   },
   "outputs": [
    {
     "name": "stdout",
     "output_type": "stream",
     "text": [
      "..................\n",
      "\u001b[34m2020-04-08 04:06:39,356 [INFO ] main com.amazonaws.ml.mms.ModelServer - \u001b[0m\n",
      "\u001b[34mMMS Home: /usr/local/lib/python3.6/site-packages\u001b[0m\n",
      "\u001b[34mCurrent directory: /\u001b[0m\n",
      "\u001b[34mTemp directory: /home/model-server/tmp\u001b[0m\n",
      "\u001b[34mNumber of GPUs: 0\u001b[0m\n",
      "\u001b[34mNumber of CPUs: 8\u001b[0m\n",
      "\u001b[34mMax heap size: 6295 M\u001b[0m\n",
      "\u001b[34mPython executable: /usr/local/bin/python3.6\u001b[0m\n",
      "\u001b[34mConfig file: /etc/sagemaker-mms.properties\u001b[0m\n",
      "\u001b[34mInference address: http://0.0.0.0:8080\u001b[0m\n",
      "\u001b[34mManagement address: http://0.0.0.0:8080\u001b[0m\n",
      "\u001b[34mModel Store: /.sagemaker/mms/models\u001b[0m\n",
      "\u001b[34mInitial Models: ALL\u001b[0m\n",
      "\u001b[34mLog dir: /logs\u001b[0m\n",
      "\u001b[34mMetrics dir: /logs\u001b[0m\n",
      "\u001b[34mNetty threads: 0\u001b[0m\n",
      "\u001b[34mNetty client threads: 0\u001b[0m\n",
      "\u001b[34mDefault workers per model: 8\u001b[0m\n",
      "\u001b[34mBlacklist Regex: N/A\u001b[0m\n",
      "\u001b[34mMaximum Response Size: 6553500\u001b[0m\n",
      "\u001b[34mMaximum Request Size: 6553500\u001b[0m\n",
      "\u001b[34m2020-04-08 04:06:39,399 [INFO ] main com.amazonaws.ml.mms.wlm.ModelManager - Model model loaded.\u001b[0m\n",
      "\u001b[34m2020-04-08 04:06:39,414 [INFO ] main com.amazonaws.ml.mms.ModelServer - Initialize Inference server with: EpollServerSocketChannel.\u001b[0m\n",
      "\u001b[34m2020-04-08 04:06:39,637 [INFO ] W-9005-model-stdout com.amazonaws.ml.mms.wlm.WorkerLifeCycle - Listening on port: /home/model-server/tmp/.mms.sock.9005\u001b[0m\n",
      "\u001b[34m2020-04-08 04:06:39,637 [INFO ] W-9005-model-stdout com.amazonaws.ml.mms.wlm.WorkerLifeCycle - [PID]72\u001b[0m\n",
      "\u001b[34m2020-04-08 04:06:39,644 [INFO ] W-9005-model-stdout com.amazonaws.ml.mms.wlm.WorkerLifeCycle - MXNet worker started.\u001b[0m\n",
      "\u001b[34m2020-04-08 04:06:39,644 [INFO ] W-9005-model-stdout com.amazonaws.ml.mms.wlm.WorkerLifeCycle - Python runtime: 3.6.8\u001b[0m\n",
      "\u001b[34m2020-04-08 04:06:39,647 [INFO ] W-9005-model com.amazonaws.ml.mms.wlm.WorkerThread - Connecting to: /home/model-server/tmp/.mms.sock.9005\u001b[0m\n",
      "\u001b[34m2020-04-08 04:06:39,649 [INFO ] W-9007-model-stdout com.amazonaws.ml.mms.wlm.WorkerLifeCycle - Listening on port: /home/model-server/tmp/.mms.sock.9007\u001b[0m\n",
      "\u001b[34m2020-04-08 04:06:39,649 [INFO ] W-9007-model-stdout com.amazonaws.ml.mms.wlm.WorkerLifeCycle - [PID]77\u001b[0m\n",
      "\u001b[34m2020-04-08 04:06:39,650 [INFO ] W-9007-model-stdout com.amazonaws.ml.mms.wlm.WorkerLifeCycle - MXNet worker started.\u001b[0m\n",
      "\u001b[34m2020-04-08 04:06:39,650 [INFO ] W-9007-model com.amazonaws.ml.mms.wlm.WorkerThread - Connecting to: /home/model-server/tmp/.mms.sock.9007\u001b[0m\n",
      "\u001b[34m2020-04-08 04:06:39,653 [INFO ] W-9004-model-stdout com.amazonaws.ml.mms.wlm.WorkerLifeCycle - Listening on port: /home/model-server/tmp/.mms.sock.9004\u001b[0m\n",
      "\u001b[34m2020-04-08 04:06:39,653 [INFO ] W-9004-model-stdout com.amazonaws.ml.mms.wlm.WorkerLifeCycle - [PID]73\u001b[0m\n",
      "\u001b[34m2020-04-08 04:06:39,654 [INFO ] W-9004-model-stdout com.amazonaws.ml.mms.wlm.WorkerLifeCycle - MXNet worker started.\u001b[0m\n",
      "\u001b[34m2020-04-08 04:06:39,654 [INFO ] W-9004-model com.amazonaws.ml.mms.wlm.WorkerThread - Connecting to: /home/model-server/tmp/.mms.sock.9004\u001b[0m\n",
      "\u001b[34m2020-04-08 04:06:39,654 [INFO ] W-9004-model-stdout com.amazonaws.ml.mms.wlm.WorkerLifeCycle - Python runtime: 3.6.8\u001b[0m\n",
      "\u001b[34m2020-04-08 04:06:39,660 [INFO ] W-9001-model-stdout com.amazonaws.ml.mms.wlm.WorkerLifeCycle - Listening on port: /home/model-server/tmp/.mms.sock.9001\u001b[0m\n",
      "\u001b[34m2020-04-08 04:06:39,661 [INFO ] W-9001-model-stdout com.amazonaws.ml.mms.wlm.WorkerLifeCycle - [PID]74\u001b[0m\n",
      "\u001b[34m2020-04-08 04:06:39,661 [INFO ] W-9001-model-stdout com.amazonaws.ml.mms.wlm.WorkerLifeCycle - MXNet worker started.\u001b[0m\n",
      "\u001b[34m2020-04-08 04:06:39,661 [INFO ] W-9001-model com.amazonaws.ml.mms.wlm.WorkerThread - Connecting to: /home/model-server/tmp/.mms.sock.9001\u001b[0m\n",
      "\u001b[34m2020-04-08 04:06:39,662 [INFO ] W-9000-model-stdout com.amazonaws.ml.mms.wlm.WorkerLifeCycle - Listening on port: /home/model-server/tmp/.mms.sock.9000\u001b[0m\n",
      "\u001b[34m2020-04-08 04:06:39,650 [INFO ] W-9007-model-stdout com.amazonaws.ml.mms.wlm.WorkerLifeCycle - Python runtime: 3.6.8\u001b[0m\n",
      "\u001b[34m2020-04-08 04:06:39,676 [INFO ] W-9007-model-stdout com.amazonaws.ml.mms.wlm.WorkerLifeCycle - Connection accepted: /home/model-server/tmp/.mms.sock.9007.\u001b[0m\n",
      "\u001b[34m2020-04-08 04:06:39,666 [INFO ] W-9001-model-stdout com.amazonaws.ml.mms.wlm.WorkerLifeCycle - Python runtime: 3.6.8\u001b[0m\n",
      "\u001b[34m2020-04-08 04:06:39,684 [INFO ] W-9004-model-stdout com.amazonaws.ml.mms.wlm.WorkerLifeCycle - Connection accepted: /home/model-server/tmp/.mms.sock.9004.\u001b[0m\n",
      "\u001b[34m2020-04-08 04:06:39,667 [INFO ] W-9000-model-stdout com.amazonaws.ml.mms.wlm.WorkerLifeCycle - [PID]71\u001b[0m\n",
      "\u001b[34m2020-04-08 04:06:39,667 [INFO ] main com.amazonaws.ml.mms.ModelServer - Inference API bind to: http://0.0.0.0:8080\u001b[0m\n",
      "\u001b[34m2020-04-08 04:06:39,708 [INFO ] W-9000-model-stdout com.amazonaws.ml.mms.wlm.WorkerLifeCycle - MXNet worker started.\u001b[0m\n",
      "\u001b[34m2020-04-08 04:06:39,708 [INFO ] W-9000-model-stdout com.amazonaws.ml.mms.wlm.WorkerLifeCycle - Python runtime: 3.6.8\u001b[0m\n",
      "\u001b[34m2020-04-08 04:06:39,708 [INFO ] W-9000-model com.amazonaws.ml.mms.wlm.WorkerThread - Connecting to: /home/model-server/tmp/.mms.sock.9000\u001b[0m\n",
      "\u001b[34m2020-04-08 04:06:39,710 [INFO ] W-9001-model-stdout com.amazonaws.ml.mms.wlm.WorkerLifeCycle - Connection accepted: /home/model-server/tmp/.mms.sock.9001.\u001b[0m\n",
      "\u001b[34m2020-04-08 04:06:39,717 [INFO ] W-9005-model-stdout com.amazonaws.ml.mms.wlm.WorkerLifeCycle - Connection accepted: /home/model-server/tmp/.mms.sock.9005.\u001b[0m\n",
      "\u001b[34m2020-04-08 04:06:39,718 [INFO ] W-9000-model-stdout com.amazonaws.ml.mms.wlm.WorkerLifeCycle - Connection accepted: /home/model-server/tmp/.mms.sock.9000.\u001b[0m\n",
      "\u001b[34mModel server started.\u001b[0m\n",
      "\u001b[34m2020-04-08 04:06:39,720 [INFO ] W-9006-model-stdout com.amazonaws.ml.mms.wlm.WorkerLifeCycle - Listening on port: /home/model-server/tmp/.mms.sock.9006\u001b[0m\n",
      "\u001b[34m2020-04-08 04:06:39,720 [INFO ] W-9006-model-stdout com.amazonaws.ml.mms.wlm.WorkerLifeCycle - [PID]76\u001b[0m\n",
      "\u001b[34m2020-04-08 04:06:39,721 [INFO ] W-9006-model-stdout com.amazonaws.ml.mms.wlm.WorkerLifeCycle - MXNet worker started.\u001b[0m\n",
      "\u001b[34m2020-04-08 04:06:39,721 [INFO ] W-9006-model-stdout com.amazonaws.ml.mms.wlm.WorkerLifeCycle - Python runtime: 3.6.8\u001b[0m\n",
      "\u001b[34m2020-04-08 04:06:39,721 [INFO ] W-9006-model com.amazonaws.ml.mms.wlm.WorkerThread - Connecting to: /home/model-server/tmp/.mms.sock.9006\u001b[0m\n",
      "\u001b[34m2020-04-08 04:06:39,722 [INFO ] W-9006-model-stdout com.amazonaws.ml.mms.wlm.WorkerLifeCycle - Connection accepted: /home/model-server/tmp/.mms.sock.9006.\u001b[0m\n",
      "\u001b[34m2020-04-08 04:06:39,723 [INFO ] W-9002-model-stdout com.amazonaws.ml.mms.wlm.WorkerLifeCycle - Listening on port: /home/model-server/tmp/.mms.sock.9002\u001b[0m\n",
      "\u001b[34m2020-04-08 04:06:39,724 [INFO ] W-9002-model-stdout com.amazonaws.ml.mms.wlm.WorkerLifeCycle - [PID]75\u001b[0m\n",
      "\u001b[34m2020-04-08 04:06:39,744 [WARN ] pool-2-thread-1 com.amazonaws.ml.mms.metrics.MetricCollector - worker pid is not available yet.\u001b[0m\n",
      "\u001b[34m2020-04-08 04:06:39,776 [INFO ] W-9002-model-stdout com.amazonaws.ml.mms.wlm.WorkerLifeCycle - MXNet worker started.\u001b[0m\n",
      "\u001b[34m2020-04-08 04:06:39,776 [INFO ] W-9002-model-stdout com.amazonaws.ml.mms.wlm.WorkerLifeCycle - Python runtime: 3.6.8\u001b[0m\n",
      "\u001b[34m2020-04-08 04:06:39,780 [INFO ] W-9002-model com.amazonaws.ml.mms.wlm.WorkerThread - Connecting to: /home/model-server/tmp/.mms.sock.9002\u001b[0m\n",
      "\u001b[34m2020-04-08 04:06:39,809 [INFO ] W-9002-model-stdout com.amazonaws.ml.mms.wlm.WorkerLifeCycle - Connection accepted: /home/model-server/tmp/.mms.sock.9002.\u001b[0m\n",
      "\u001b[34m2020-04-08 04:06:39,736 [INFO ] W-9003-model-stdout com.amazonaws.ml.mms.wlm.WorkerLifeCycle - Listening on port: /home/model-server/tmp/.mms.sock.9003\u001b[0m\n",
      "\u001b[34m2020-04-08 04:06:39,824 [INFO ] W-9003-model-stdout com.amazonaws.ml.mms.wlm.WorkerLifeCycle - [PID]70\u001b[0m\n",
      "\u001b[34m2020-04-08 04:06:39,824 [INFO ] W-9003-model-stdout com.amazonaws.ml.mms.wlm.WorkerLifeCycle - MXNet worker started.\u001b[0m\n",
      "\u001b[34m2020-04-08 04:06:39,825 [INFO ] W-9003-model com.amazonaws.ml.mms.wlm.WorkerThread - Connecting to: /home/model-server/tmp/.mms.sock.9003\u001b[0m\n",
      "\u001b[34m2020-04-08 04:06:39,825 [INFO ] W-9003-model-stdout com.amazonaws.ml.mms.wlm.WorkerLifeCycle - Python runtime: 3.6.8\u001b[0m\n",
      "\u001b[34m2020-04-08 04:06:39,896 [INFO ] W-9003-model-stdout com.amazonaws.ml.mms.wlm.WorkerLifeCycle - Connection accepted: /home/model-server/tmp/.mms.sock.9003.\u001b[0m\n",
      "\u001b[34m2020-04-08 04:06:47,107 [INFO ] W-9004-model-stdout com.amazonaws.ml.mms.wlm.WorkerLifeCycle - generated new fontManager\u001b[0m\n",
      "\u001b[34m2020-04-08 04:06:47,144 [INFO ] W-9000-model-stdout com.amazonaws.ml.mms.wlm.WorkerLifeCycle - generated new fontManager\u001b[0m\n",
      "\u001b[34m2020-04-08 04:06:47,166 [INFO ] W-9003-model-stdout com.amazonaws.ml.mms.wlm.WorkerLifeCycle - generated new fontManager\u001b[0m\n",
      "\u001b[34m2020-04-08 04:06:47,178 [INFO ] W-9002-model-stdout com.amazonaws.ml.mms.wlm.WorkerLifeCycle - generated new fontManager\u001b[0m\n",
      "\u001b[34m2020-04-08 04:06:47,197 [INFO ] W-9006-model-stdout com.amazonaws.ml.mms.wlm.WorkerLifeCycle - generated new fontManager\u001b[0m\n",
      "\u001b[34m2020-04-08 04:06:47,215 [INFO ] W-9001-model-stdout com.amazonaws.ml.mms.wlm.WorkerLifeCycle - generated new fontManager\u001b[0m\n",
      "\u001b[34m2020-04-08 04:06:47,268 [INFO ] W-9007-model-stdout com.amazonaws.ml.mms.wlm.WorkerLifeCycle - generated new fontManager\u001b[0m\n",
      "\u001b[34m2020-04-08 04:06:47,375 [INFO ] W-9005-model-stdout com.amazonaws.ml.mms.wlm.WorkerLifeCycle - generated new fontManager\u001b[0m\n",
      "\u001b[34m2020-04-08 04:06:48,811 [WARN ] W-9004-model-stderr com.amazonaws.ml.mms.wlm.WorkerLifeCycle - /opt/ml/code/package/sklearn/utils/deprecation.py:144: FutureWarning: The sklearn.metrics.classification module is  deprecated in version 0.22 and will be removed in version 0.24. The corresponding classes / functions should instead be imported from sklearn.metrics. Anything that cannot be imported from sklearn.metrics is now part of the private API.\u001b[0m\n",
      "\u001b[34m2020-04-08 04:06:48,813 [WARN ] W-9004-model-stderr com.amazonaws.ml.mms.wlm.WorkerLifeCycle -   warnings.warn(message, FutureWarning)\u001b[0m\n",
      "\u001b[34m2020-04-08 04:06:48,841 [INFO ] W-9004-model-stdout com.amazonaws.ml.mms.wlm.WorkerLifeCycle - Loading model from /.sagemaker/mms/models/model with contents ['MAR-INF', 'learner.pkl', 'models', 'utils', 'code', 'dask-worker-space']\u001b[0m\n",
      "\u001b[34m2020-04-08 04:06:48,847 [INFO ] W-9004-model com.amazonaws.ml.mms.wlm.WorkerThread - Backend response time: 9112\u001b[0m\n",
      "\u001b[34m2020-04-08 04:06:48,851 [WARN ] W-9003-model-stderr com.amazonaws.ml.mms.wlm.WorkerLifeCycle - /opt/ml/code/package/sklearn/utils/deprecation.py:144: FutureWarning: The sklearn.metrics.classification module is  deprecated in version 0.22 and will be removed in version 0.24. The corresponding classes / functions should instead be imported from sklearn.metrics. Anything that cannot be imported from sklearn.metrics is now part of the private API.\u001b[0m\n",
      "\u001b[34m2020-04-08 04:06:48,851 [WARN ] W-9003-model-stderr com.amazonaws.ml.mms.wlm.WorkerLifeCycle -   warnings.warn(message, FutureWarning)\u001b[0m\n",
      "\u001b[34m2020-04-08 04:06:48,881 [INFO ] W-9003-model-stdout com.amazonaws.ml.mms.wlm.WorkerLifeCycle - Loading model from /.sagemaker/mms/models/model with contents ['MAR-INF', 'learner.pkl', 'models', 'utils', 'code', 'dask-worker-space']\u001b[0m\n",
      "\u001b[34m2020-04-08 04:06:48,883 [INFO ] W-9003-model com.amazonaws.ml.mms.wlm.WorkerThread - Backend response time: 8984\u001b[0m\n",
      "\u001b[34m2020-04-08 04:06:48,918 [WARN ] W-9000-model-stderr com.amazonaws.ml.mms.wlm.WorkerLifeCycle - /opt/ml/code/package/sklearn/utils/deprecation.py:144: FutureWarning: The sklearn.metrics.classification module is  deprecated in version 0.22 and will be removed in version 0.24. The corresponding classes / functions should instead be imported from sklearn.metrics. Anything that cannot be imported from sklearn.metrics is now part of the private API.\u001b[0m\n",
      "\u001b[34m2020-04-08 04:06:48,918 [WARN ] W-9000-model-stderr com.amazonaws.ml.mms.wlm.WorkerLifeCycle -   warnings.warn(message, FutureWarning)\u001b[0m\n",
      "\u001b[34m2020-04-08 04:06:48,919 [WARN ] W-9006-model-stderr com.amazonaws.ml.mms.wlm.WorkerLifeCycle - /opt/ml/code/package/sklearn/utils/deprecation.py:144: FutureWarning: The sklearn.metrics.classification module is  deprecated in version 0.22 and will be removed in version 0.24. The corresponding classes / functions should instead be imported from sklearn.metrics. Anything that cannot be imported from sklearn.metrics is now part of the private API.\u001b[0m\n",
      "\u001b[34m2020-04-08 04:06:48,919 [WARN ] W-9006-model-stderr com.amazonaws.ml.mms.wlm.WorkerLifeCycle -   warnings.warn(message, FutureWarning)\u001b[0m\n",
      "\u001b[34m2020-04-08 04:06:48,943 [WARN ] W-9002-model-stderr com.amazonaws.ml.mms.wlm.WorkerLifeCycle - /opt/ml/code/package/sklearn/utils/deprecation.py:144: FutureWarning: The sklearn.metrics.classification module is  deprecated in version 0.22 and will be removed in version 0.24. The corresponding classes / functions should instead be imported from sklearn.metrics. Anything that cannot be imported from sklearn.metrics is now part of the private API.\u001b[0m\n",
      "\u001b[34m2020-04-08 04:06:48,943 [WARN ] W-9002-model-stderr com.amazonaws.ml.mms.wlm.WorkerLifeCycle -   warnings.warn(message, FutureWarning)\u001b[0m\n",
      "\u001b[34m2020-04-08 04:06:48,946 [INFO ] W-9000-model-stdout com.amazonaws.ml.mms.wlm.WorkerLifeCycle - Loading model from /.sagemaker/mms/models/model with contents ['MAR-INF', 'learner.pkl', 'models', 'utils', 'code', 'dask-worker-space']\u001b[0m\n",
      "\u001b[34m2020-04-08 04:06:48,948 [INFO ] W-9000-model com.amazonaws.ml.mms.wlm.WorkerThread - Backend response time: 9219\u001b[0m\n",
      "\u001b[34m2020-04-08 04:06:48,952 [INFO ] W-9006-model-stdout com.amazonaws.ml.mms.wlm.WorkerLifeCycle - Loading model from /.sagemaker/mms/models/model with contents ['MAR-INF', 'learner.pkl', 'models', 'utils', 'code', 'dask-worker-space']\u001b[0m\n",
      "\u001b[34m2020-04-08 04:06:48,954 [INFO ] W-9006-model com.amazonaws.ml.mms.wlm.WorkerThread - Backend response time: 9188\u001b[0m\n",
      "\u001b[34m2020-04-08 04:06:48,965 [INFO ] W-9002-model-stdout com.amazonaws.ml.mms.wlm.WorkerLifeCycle - Loading model from /.sagemaker/mms/models/model with contents ['MAR-INF', 'learner.pkl', 'models', 'utils', 'code', 'dask-worker-space']\u001b[0m\n",
      "\u001b[34m2020-04-08 04:06:48,966 [INFO ] W-9002-model com.amazonaws.ml.mms.wlm.WorkerThread - Backend response time: 9145\u001b[0m\n",
      "\u001b[34m2020-04-08 04:06:48,977 [WARN ] W-9001-model-stderr com.amazonaws.ml.mms.wlm.WorkerLifeCycle - /opt/ml/code/package/sklearn/utils/deprecation.py:144: FutureWarning: The sklearn.metrics.classification module is  deprecated in version 0.22 and will be removed in version 0.24. The corresponding classes / functions should instead be imported from sklearn.metrics. Anything that cannot be imported from sklearn.metrics is now part of the private API.\u001b[0m\n",
      "\u001b[34m2020-04-08 04:06:48,977 [WARN ] W-9001-model-stderr com.amazonaws.ml.mms.wlm.WorkerLifeCycle -   warnings.warn(message, FutureWarning)\u001b[0m\n",
      "\u001b[34m2020-04-08 04:06:49,000 [INFO ] W-9001-model-stdout com.amazonaws.ml.mms.wlm.WorkerLifeCycle - Loading model from /.sagemaker/mms/models/model with contents ['MAR-INF', 'learner.pkl', 'models', 'utils', 'code', 'dask-worker-space']\u001b[0m\n",
      "\u001b[34m2020-04-08 04:06:49,001 [INFO ] W-9001-model com.amazonaws.ml.mms.wlm.WorkerThread - Backend response time: 9086\u001b[0m\n",
      "\u001b[34m2020-04-08 04:06:49,019 [WARN ] W-9007-model-stderr com.amazonaws.ml.mms.wlm.WorkerLifeCycle - /opt/ml/code/package/sklearn/utils/deprecation.py:144: FutureWarning: The sklearn.metrics.classification module is  deprecated in version 0.22 and will be removed in version 0.24. The corresponding classes / functions should instead be imported from sklearn.metrics. Anything that cannot be imported from sklearn.metrics is now part of the private API.\u001b[0m\n",
      "\u001b[34m2020-04-08 04:06:49,019 [WARN ] W-9007-model-stderr com.amazonaws.ml.mms.wlm.WorkerLifeCycle -   warnings.warn(message, FutureWarning)\u001b[0m\n",
      "\u001b[34m2020-04-08 04:06:49,037 [INFO ] W-9007-model-stdout com.amazonaws.ml.mms.wlm.WorkerLifeCycle - Loading model from /.sagemaker/mms/models/model with contents ['MAR-INF', 'learner.pkl', 'models', 'utils', 'code', 'dask-worker-space']\u001b[0m\n",
      "\u001b[34m2020-04-08 04:06:49,038 [INFO ] W-9007-model com.amazonaws.ml.mms.wlm.WorkerThread - Backend response time: 9303\u001b[0m\n",
      "\u001b[34m2020-04-08 04:06:49,085 [WARN ] W-9005-model-stderr com.amazonaws.ml.mms.wlm.WorkerLifeCycle - /opt/ml/code/package/sklearn/utils/deprecation.py:144: FutureWarning: The sklearn.metrics.classification module is  deprecated in version 0.22 and will be removed in version 0.24. The corresponding classes / functions should instead be imported from sklearn.metrics. Anything that cannot be imported from sklearn.metrics is now part of the private API.\u001b[0m\n",
      "\u001b[34m2020-04-08 04:06:49,085 [WARN ] W-9005-model-stderr com.amazonaws.ml.mms.wlm.WorkerLifeCycle -   warnings.warn(message, FutureWarning)\u001b[0m\n",
      "\u001b[34m2020-04-08 04:06:49,102 [INFO ] W-9005-model-stdout com.amazonaws.ml.mms.wlm.WorkerLifeCycle - Loading model from /.sagemaker/mms/models/model with contents ['MAR-INF', 'learner.pkl', 'models', 'utils', 'code', 'dask-worker-space']\u001b[0m\n",
      "\u001b[34m2020-04-08 04:06:49,104 [INFO ] W-9005-model com.amazonaws.ml.mms.wlm.WorkerThread - Backend response time: 9353\u001b[0m\n",
      "\u001b[34m2020-04-08 04:06:51,916 [INFO ] pool-1-thread-9 ACCESS_LOG - /169.254.255.130:50746 \"GET /ping HTTP/1.1\" 200 9\u001b[0m\n",
      "\u001b[34m2020-04-08 04:06:51,922 [INFO ] epollEventLoopGroup-3-2 ACCESS_LOG - /169.254.255.130:50750 \"GET /execution-parameters HTTP/1.1\" 404 0\u001b[0m\n",
      "\u001b[35m2020-04-08 04:06:51,916 [INFO ] pool-1-thread-9 ACCESS_LOG - /169.254.255.130:50746 \"GET /ping HTTP/1.1\" 200 9\u001b[0m\n",
      "\u001b[35m2020-04-08 04:06:51,922 [INFO ] epollEventLoopGroup-3-2 ACCESS_LOG - /169.254.255.130:50750 \"GET /execution-parameters HTTP/1.1\" 404 0\u001b[0m\n",
      "\u001b[34m2020-04-08 04:06:54,012 [INFO ] W-9004-model-stdout com.amazonaws.ml.mms.wlm.WorkerLifeCycle - Prediction counts: Counter({'no': 11285, 'yes': 1071})\u001b[0m\n",
      "\u001b[34m2020-04-08 04:06:54,022 [INFO ] W-9004-model-stdout com.amazonaws.ml.mms.wlm.WorkerLifeCycle - Label column (y) found in input data. Therefore, evaluating prediction performance...\u001b[0m\n",
      "\u001b[34m2020-04-08 04:06:54,498 [INFO ] W-9004-model-stdout com.amazonaws.ml.mms.wlm.WorkerLifeCycle - {\u001b[0m\n",
      "\u001b[34m2020-04-08 04:06:54,498 [INFO ] W-9004-model-stdout com.amazonaws.ml.mms.wlm.WorkerLifeCycle -     \"accuracy\": 0.9191485917772741,\u001b[0m\n",
      "\u001b[34m2020-04-08 04:06:54,498 [INFO ] W-9004-model-stdout com.amazonaws.ml.mms.wlm.WorkerLifeCycle -     \"accuracy_score\": 0.9191485917772741,\u001b[0m\n",
      "\u001b[34m2020-04-08 04:06:54,498 [INFO ] W-9004-model-stdout com.amazonaws.ml.mms.wlm.WorkerLifeCycle -     \"balanced_accuracy_score\": 0.7475198952167821,\u001b[0m\n",
      "\u001b[34m2020-04-08 04:06:54,498 [INFO ] W-9004-model-stdout com.amazonaws.ml.mms.wlm.WorkerLifeCycle -     \"matthews_corrcoef\": 0.5569838172615065,\u001b[0m\n",
      "\u001b[34m2020-04-08 04:06:54,498 [INFO ] W-9004-model-stdout com.amazonaws.ml.mms.wlm.WorkerLifeCycle -     \"f1_score\": 0.9191485917772741,\u001b[0m\n",
      "\u001b[35m2020-04-08 04:06:54,012 [INFO ] W-9004-model-stdout com.amazonaws.ml.mms.wlm.WorkerLifeCycle - Prediction counts: Counter({'no': 11285, 'yes': 1071})\u001b[0m\n",
      "\u001b[35m2020-04-08 04:06:54,022 [INFO ] W-9004-model-stdout com.amazonaws.ml.mms.wlm.WorkerLifeCycle - Label column (y) found in input data. Therefore, evaluating prediction performance...\u001b[0m\n",
      "\u001b[35m2020-04-08 04:06:54,498 [INFO ] W-9004-model-stdout com.amazonaws.ml.mms.wlm.WorkerLifeCycle - {\u001b[0m\n",
      "\u001b[35m2020-04-08 04:06:54,498 [INFO ] W-9004-model-stdout com.amazonaws.ml.mms.wlm.WorkerLifeCycle -     \"accuracy\": 0.9191485917772741,\u001b[0m\n",
      "\u001b[35m2020-04-08 04:06:54,498 [INFO ] W-9004-model-stdout com.amazonaws.ml.mms.wlm.WorkerLifeCycle -     \"accuracy_score\": 0.9191485917772741,\u001b[0m\n",
      "\u001b[35m2020-04-08 04:06:54,498 [INFO ] W-9004-model-stdout com.amazonaws.ml.mms.wlm.WorkerLifeCycle -     \"balanced_accuracy_score\": 0.7475198952167821,\u001b[0m\n",
      "\u001b[35m2020-04-08 04:06:54,498 [INFO ] W-9004-model-stdout com.amazonaws.ml.mms.wlm.WorkerLifeCycle -     \"matthews_corrcoef\": 0.5569838172615065,\u001b[0m\n",
      "\u001b[35m2020-04-08 04:06:54,498 [INFO ] W-9004-model-stdout com.amazonaws.ml.mms.wlm.WorkerLifeCycle -     \"f1_score\": 0.9191485917772741,\u001b[0m\n",
      "\u001b[34m2020-04-08 04:06:54,498 [INFO ] W-9004-model-stdout com.amazonaws.ml.mms.wlm.WorkerLifeCycle -     \"<lambda>\": {\u001b[0m\n",
      "\u001b[34m2020-04-08 04:06:54,498 [INFO ] W-9004-model-stdout com.amazonaws.ml.mms.wlm.WorkerLifeCycle -         \"no\": {\u001b[0m\n",
      "\u001b[34m2020-04-08 04:06:54,498 [INFO ] W-9004-model-stdout com.amazonaws.ml.mms.wlm.WorkerLifeCycle -             \"precision\": 0.9413380593708462,\u001b[0m\n",
      "\u001b[34m2020-04-08 04:06:54,499 [INFO ] W-9004-model-stdout com.amazonaws.ml.mms.wlm.WorkerLifeCycle -             \"recall\": 0.9692518248175183,\u001b[0m\n",
      "\u001b[34m2020-04-08 04:06:54,499 [INFO ] W-9004-model-stdout com.amazonaws.ml.mms.wlm.WorkerLifeCycle -             \"f1-score\": 0.9550910316925151,\u001b[0m\n",
      "\u001b[34m2020-04-08 04:06:54,499 [INFO ] W-9004-model-stdout com.amazonaws.ml.mms.wlm.WorkerLifeCycle -             \"support\": 10960\u001b[0m\n",
      "\u001b[34m2020-04-08 04:06:54,499 [INFO ] W-9004-model-stdout com.amazonaws.ml.mms.wlm.WorkerLifeCycle -         },\u001b[0m\n",
      "\u001b[34m2020-04-08 04:06:54,499 [INFO ] W-9004-model-stdout com.amazonaws.ml.mms.wlm.WorkerLifeCycle -         \"yes\": {\u001b[0m\n",
      "\u001b[34m2020-04-08 04:06:54,499 [INFO ] W-9004-model-stdout com.amazonaws.ml.mms.wlm.WorkerLifeCycle -             \"precision\": 0.6853408029878618,\u001b[0m\n",
      "\u001b[34m2020-04-08 04:06:54,499 [INFO ] W-9004-model-stdout com.amazonaws.ml.mms.wlm.WorkerLifeCycle -             \"recall\": 0.5257879656160458,\u001b[0m\n",
      "\u001b[34m2020-04-08 04:06:54,499 [INFO ] W-9004-model-stdout com.amazonaws.ml.mms.wlm.WorkerLifeCycle -             \"f1-score\": 0.5950547223348196,\u001b[0m\n",
      "\u001b[34m2020-04-08 04:06:54,499 [INFO ] W-9004-model-stdout com.amazonaws.ml.mms.wlm.WorkerLifeCycle -             \"support\": 1396\u001b[0m\n",
      "\u001b[34m2020-04-08 04:06:54,499 [INFO ] W-9004-model-stdout com.amazonaws.ml.mms.wlm.WorkerLifeCycle -         },\u001b[0m\n",
      "\u001b[34m2020-04-08 04:06:54,499 [INFO ] W-9004-model-stdout com.amazonaws.ml.mms.wlm.WorkerLifeCycle -         \"accuracy\": 0.9191485917772741,\u001b[0m\n",
      "\u001b[34m2020-04-08 04:06:54,499 [INFO ] W-9004-model-stdout com.amazonaws.ml.mms.wlm.WorkerLifeCycle -         \"macro avg\": {\u001b[0m\n",
      "\u001b[34m2020-04-08 04:06:54,499 [INFO ] W-9004-model-stdout com.amazonaws.ml.mms.wlm.WorkerLifeCycle -             \"precision\": 0.813339431179354,\u001b[0m\n",
      "\u001b[34m2020-04-08 04:06:54,499 [INFO ] W-9004-model-stdout com.amazonaws.ml.mms.wlm.WorkerLifeCycle -             \"recall\": 0.7475198952167821,\u001b[0m\n",
      "\u001b[34m2020-04-08 04:06:54,499 [INFO ] W-9004-model-stdout com.amazonaws.ml.mms.wlm.WorkerLifeCycle -             \"f1-score\": 0.7750728770136673,\u001b[0m\n",
      "\u001b[34m2020-04-08 04:06:54,499 [INFO ] W-9004-model-stdout com.amazonaws.ml.mms.wlm.WorkerLifeCycle -             \"support\": 12356\u001b[0m\n",
      "\u001b[34m2020-04-08 04:06:54,499 [INFO ] W-9004-model-stdout com.amazonaws.ml.mms.wlm.WorkerLifeCycle -         },\u001b[0m\n",
      "\u001b[34m2020-04-08 04:06:54,499 [INFO ] W-9004-model-stdout com.amazonaws.ml.mms.wlm.WorkerLifeCycle -         \"weighted avg\": {\u001b[0m\n",
      "\u001b[34m2020-04-08 04:06:54,500 [INFO ] W-9004-model-stdout com.amazonaws.ml.mms.wlm.WorkerLifeCycle -             \"precision\": 0.9124150932077962,\u001b[0m\n",
      "\u001b[34m2020-04-08 04:06:54,500 [INFO ] W-9004-model-stdout com.amazonaws.ml.mms.wlm.WorkerLifeCycle -             \"recall\": 0.9191485917772741,\u001b[0m\n",
      "\u001b[34m2020-04-08 04:06:54,500 [INFO ] W-9004-model-stdout com.amazonaws.ml.mms.wlm.WorkerLifeCycle -             \"f1-score\": 0.9144135723316101,\u001b[0m\n",
      "\u001b[34m2020-04-08 04:06:54,500 [INFO ] W-9004-model-stdout com.amazonaws.ml.mms.wlm.WorkerLifeCycle -             \"support\": 12356\u001b[0m\n",
      "\u001b[34m2020-04-08 04:06:54,500 [INFO ] W-9004-model-stdout com.amazonaws.ml.mms.wlm.WorkerLifeCycle -         }\u001b[0m\n",
      "\u001b[34m2020-04-08 04:06:54,500 [INFO ] W-9004-model-stdout com.amazonaws.ml.mms.wlm.WorkerLifeCycle -     }\u001b[0m\n",
      "\u001b[34m2020-04-08 04:06:54,500 [INFO ] W-9004-model-stdout com.amazonaws.ml.mms.wlm.WorkerLifeCycle - }\u001b[0m\n",
      "\u001b[34m2020-04-08 04:06:54,500 [INFO ] W-9004-model-stdout com.amazonaws.ml.mms.wlm.WorkerLifeCycle - Elapsed time: 2.442 seconds\u001b[0m\n",
      "\u001b[34m2020-04-08 04:06:54,501 [INFO ] W-9004-model com.amazonaws.ml.mms.wlm.WorkerThread - Backend response time: 2446\u001b[0m\n",
      "\u001b[34m2020-04-08 04:06:54,501 [INFO ] W-9004-model ACCESS_LOG - /169.254.255.130:50754 \"POST /invocations HTTP/1.1\" 200 2453\u001b[0m\n",
      "\u001b[35m2020-04-08 04:06:54,498 [INFO ] W-9004-model-stdout com.amazonaws.ml.mms.wlm.WorkerLifeCycle -     \"<lambda>\": {\u001b[0m\n",
      "\u001b[35m2020-04-08 04:06:54,498 [INFO ] W-9004-model-stdout com.amazonaws.ml.mms.wlm.WorkerLifeCycle -         \"no\": {\u001b[0m\n",
      "\u001b[35m2020-04-08 04:06:54,498 [INFO ] W-9004-model-stdout com.amazonaws.ml.mms.wlm.WorkerLifeCycle -             \"precision\": 0.9413380593708462,\u001b[0m\n",
      "\u001b[35m2020-04-08 04:06:54,499 [INFO ] W-9004-model-stdout com.amazonaws.ml.mms.wlm.WorkerLifeCycle -             \"recall\": 0.9692518248175183,\u001b[0m\n",
      "\u001b[35m2020-04-08 04:06:54,499 [INFO ] W-9004-model-stdout com.amazonaws.ml.mms.wlm.WorkerLifeCycle -             \"f1-score\": 0.9550910316925151,\u001b[0m\n",
      "\u001b[35m2020-04-08 04:06:54,499 [INFO ] W-9004-model-stdout com.amazonaws.ml.mms.wlm.WorkerLifeCycle -             \"support\": 10960\u001b[0m\n",
      "\u001b[35m2020-04-08 04:06:54,499 [INFO ] W-9004-model-stdout com.amazonaws.ml.mms.wlm.WorkerLifeCycle -         },\u001b[0m\n",
      "\u001b[35m2020-04-08 04:06:54,499 [INFO ] W-9004-model-stdout com.amazonaws.ml.mms.wlm.WorkerLifeCycle -         \"yes\": {\u001b[0m\n",
      "\u001b[35m2020-04-08 04:06:54,499 [INFO ] W-9004-model-stdout com.amazonaws.ml.mms.wlm.WorkerLifeCycle -             \"precision\": 0.6853408029878618,\u001b[0m\n",
      "\u001b[35m2020-04-08 04:06:54,499 [INFO ] W-9004-model-stdout com.amazonaws.ml.mms.wlm.WorkerLifeCycle -             \"recall\": 0.5257879656160458,\u001b[0m\n",
      "\u001b[35m2020-04-08 04:06:54,499 [INFO ] W-9004-model-stdout com.amazonaws.ml.mms.wlm.WorkerLifeCycle -             \"f1-score\": 0.5950547223348196,\u001b[0m\n",
      "\u001b[35m2020-04-08 04:06:54,499 [INFO ] W-9004-model-stdout com.amazonaws.ml.mms.wlm.WorkerLifeCycle -             \"support\": 1396\u001b[0m\n",
      "\u001b[35m2020-04-08 04:06:54,499 [INFO ] W-9004-model-stdout com.amazonaws.ml.mms.wlm.WorkerLifeCycle -         },\u001b[0m\n",
      "\u001b[35m2020-04-08 04:06:54,499 [INFO ] W-9004-model-stdout com.amazonaws.ml.mms.wlm.WorkerLifeCycle -         \"accuracy\": 0.9191485917772741,\u001b[0m\n",
      "\u001b[35m2020-04-08 04:06:54,499 [INFO ] W-9004-model-stdout com.amazonaws.ml.mms.wlm.WorkerLifeCycle -         \"macro avg\": {\u001b[0m\n",
      "\u001b[35m2020-04-08 04:06:54,499 [INFO ] W-9004-model-stdout com.amazonaws.ml.mms.wlm.WorkerLifeCycle -             \"precision\": 0.813339431179354,\u001b[0m\n",
      "\u001b[35m2020-04-08 04:06:54,499 [INFO ] W-9004-model-stdout com.amazonaws.ml.mms.wlm.WorkerLifeCycle -             \"recall\": 0.7475198952167821,\u001b[0m\n",
      "\u001b[35m2020-04-08 04:06:54,499 [INFO ] W-9004-model-stdout com.amazonaws.ml.mms.wlm.WorkerLifeCycle -             \"f1-score\": 0.7750728770136673,\u001b[0m\n",
      "\u001b[35m2020-04-08 04:06:54,499 [INFO ] W-9004-model-stdout com.amazonaws.ml.mms.wlm.WorkerLifeCycle -             \"support\": 12356\u001b[0m\n",
      "\u001b[35m2020-04-08 04:06:54,499 [INFO ] W-9004-model-stdout com.amazonaws.ml.mms.wlm.WorkerLifeCycle -         },\u001b[0m\n",
      "\u001b[35m2020-04-08 04:06:54,499 [INFO ] W-9004-model-stdout com.amazonaws.ml.mms.wlm.WorkerLifeCycle -         \"weighted avg\": {\u001b[0m\n",
      "\u001b[35m2020-04-08 04:06:54,500 [INFO ] W-9004-model-stdout com.amazonaws.ml.mms.wlm.WorkerLifeCycle -             \"precision\": 0.9124150932077962,\u001b[0m\n",
      "\u001b[35m2020-04-08 04:06:54,500 [INFO ] W-9004-model-stdout com.amazonaws.ml.mms.wlm.WorkerLifeCycle -             \"recall\": 0.9191485917772741,\u001b[0m\n",
      "\u001b[35m2020-04-08 04:06:54,500 [INFO ] W-9004-model-stdout com.amazonaws.ml.mms.wlm.WorkerLifeCycle -             \"f1-score\": 0.9144135723316101,\u001b[0m\n",
      "\u001b[35m2020-04-08 04:06:54,500 [INFO ] W-9004-model-stdout com.amazonaws.ml.mms.wlm.WorkerLifeCycle -             \"support\": 12356\u001b[0m\n",
      "\u001b[35m2020-04-08 04:06:54,500 [INFO ] W-9004-model-stdout com.amazonaws.ml.mms.wlm.WorkerLifeCycle -         }\u001b[0m\n",
      "\u001b[35m2020-04-08 04:06:54,500 [INFO ] W-9004-model-stdout com.amazonaws.ml.mms.wlm.WorkerLifeCycle -     }\u001b[0m\n",
      "\u001b[35m2020-04-08 04:06:54,500 [INFO ] W-9004-model-stdout com.amazonaws.ml.mms.wlm.WorkerLifeCycle - }\u001b[0m\n",
      "\u001b[35m2020-04-08 04:06:54,500 [INFO ] W-9004-model-stdout com.amazonaws.ml.mms.wlm.WorkerLifeCycle - Elapsed time: 2.442 seconds\u001b[0m\n",
      "\u001b[35m2020-04-08 04:06:54,501 [INFO ] W-9004-model com.amazonaws.ml.mms.wlm.WorkerThread - Backend response time: 2446\u001b[0m\n",
      "\u001b[35m2020-04-08 04:06:54,501 [INFO ] W-9004-model ACCESS_LOG - /169.254.255.130:50754 \"POST /invocations HTTP/1.1\" 200 2453\u001b[0m\n",
      "\u001b[32m2020-04-08T04:06:51.927:[sagemaker logs]: MaxConcurrentTransforms=1, MaxPayloadInMB=100, BatchStrategy=SINGLE_RECORD\u001b[0m\n"
     ]
    }
   ],
   "source": [
    "output_path = f's3://{bucket}/{prefix}/output/'\n",
    "# output_path = f'file://{os.getcwd()}'\n",
    "\n",
    "transformer = model.transformer(instance_count=1, \n",
    "                                instance_type=instance_type,\n",
    "                                strategy='SingleRecord',\n",
    "                                max_payload=100,\n",
    "                                max_concurrent_transforms=1,                              \n",
    "                                output_path=output_path)\n",
    "\n",
    "transformer.transform(test_s3_path, content_type='text/csv')\n",
    "transformer.wait()"
   ]
  },
  {
   "cell_type": "code",
   "execution_count": 15,
   "metadata": {
    "Collapsed": "false"
   },
   "outputs": [
    {
     "name": "stdout",
     "output_type": "stream",
     "text": [
      "2020-03-22 16:01:23   28303280 sagemaker/autogluon-tabular/output/AlgorithmValidation-1fb5ca16-1f58-4114-8d91-de4022244914-1/output/model.tar.gz\n",
      "2020-03-22 16:11:08   59329494 sagemaker/autogluon-tabular/output/AlgorithmValidation-282ccc17-0718-4cdc-8b91-3dbb0b5de269-1/output/model.tar.gz\n",
      "2020-03-22 16:43:50   59345824 sagemaker/autogluon-tabular/output/AlgorithmValidation-8ef7d77b-f1e9-4c42-8828-7380f713a8a8-1/output/model.tar.gz\n",
      "2020-03-22 15:51:53   16887662 sagemaker/autogluon-tabular/output/AlgorithmValidation-b83b0cc1-2a04-4238-be24-da2725747229-1/output/model.tar.gz\n",
      "2020-03-22 15:37:26   13670151 sagemaker/autogluon-tabular/output/AlgorithmValidation-ea0955ba-b3d2-4f30-9dec-9108674ac407-1/output/model.tar.gz\n",
      "2020-03-25 06:59:18      12744 sagemaker/autogluon-tabular/output/X_test.csv.out\n",
      "2020-03-19 23:24:55      25123 sagemaker/autogluon-tabular/output/autogluon-sagemaker-inference-2020-03-1-2020-03-19-23-24-37-181/test.csv.out\n",
      "2020-03-24 07:24:19         33 sagemaker/autogluon-tabular/output/autogluon-sagemaker-inference-2020-03-2-2020-03-24-07-23-58-805/test.csv.out\n",
      "2020-03-24 07:55:52         33 sagemaker/autogluon-tabular/output/autogluon-sagemaker-inference-2020-03-2-2020-03-24-07-55-32-820/test.csv.out\n",
      "2020-03-25 04:49:35         68 sagemaker/autogluon-tabular/output/autogluon-sagemaker-inference-2020-03-2-2020-03-25-04-49-12-812/test.csv.out\n",
      "2020-03-25 05:00:51         68 sagemaker/autogluon-tabular/output/autogluon-sagemaker-inference-2020-03-2-2020-03-25-05-00-28-865/test.csv.out\n",
      "2020-03-25 05:08:06      12774 sagemaker/autogluon-tabular/output/autogluon-sagemaker-inference-2020-03-2-2020-03-25-05-07-45-569/X_test.csv.out\n",
      "2020-03-25 06:26:08         68 sagemaker/autogluon-tabular/output/autogluon-sagemaker-inference-2020-03-2-2020-03-25-06-25-46-419/test.csv.out\n",
      "2020-03-25 06:37:31      12755 sagemaker/autogluon-tabular/output/autogluon-sagemaker-inference-2020-03-2-2020-03-25-06-37-24-386/test.csv.out\n",
      "2020-03-25 06:38:49      12755 sagemaker/autogluon-tabular/output/autogluon-sagemaker-inference-2020-03-2-2020-03-25-06-38-41-586/X_test.csv.out\n",
      "2020-03-25 06:43:16      12755 sagemaker/autogluon-tabular/output/autogluon-sagemaker-inference-2020-03-2-2020-03-25-06-43-09-206/X_test.csv.out\n",
      "2020-03-25 14:44:40         68 sagemaker/autogluon-tabular/output/autogluon-sagemaker-inference-2020-03-2-2020-03-25-14-44-18-648/test.csv.out\n",
      "2020-03-25 14:51:27      12744 sagemaker/autogluon-tabular/output/autogluon-sagemaker-inference-2020-03-2-2020-03-25-14-51-07-148/test.csv.out\n",
      "2020-03-25 15:09:39         68 sagemaker/autogluon-tabular/output/autogluon-sagemaker-inference-2020-03-2-2020-03-25-15-09-16-790/test.csv.out\n",
      "2020-03-25 20:11:54         68 sagemaker/autogluon-tabular/output/autogluon-sagemaker-inference-2020-03-2-2020-03-25-20-11-41-971/test.csv.out\n",
      "2020-03-25 20:50:37      12753 sagemaker/autogluon-tabular/output/autogluon-sagemaker-inference-2020-03-2-2020-03-25-20-50-17-353/test.csv.out\n",
      "2020-03-25 20:57:46      12753 sagemaker/autogluon-tabular/output/autogluon-sagemaker-inference-2020-03-2-2020-03-25-20-57-27-216/test.csv.out\n",
      "2020-03-25 21:06:25      12746 sagemaker/autogluon-tabular/output/autogluon-sagemaker-inference-2020-03-2-2020-03-25-21-06-04-782/test.csv.out\n",
      "2020-04-08 01:38:15      38163 sagemaker/autogluon-tabular/output/autogluon-sagemaker-inference-2020-04-0-2020-04-08-01-37-53-780/test.csv.out\n",
      "2020-04-08 01:52:02      38161 sagemaker/autogluon-tabular/output/autogluon-sagemaker-inference-2020-04-0-2020-04-08-01-51-51-756/test.csv.out\n",
      "2020-04-08 04:06:55      38139 sagemaker/autogluon-tabular/output/test.csv.out\n"
     ]
    }
   ],
   "source": [
    "# Check s3 for <filename>.csv.out file\n",
    "if instance_type != 'local':\n",
    "    !aws s3 ls {transformer.output_path} --recursive\n",
    "elif 's3' in output_path:\n",
    "    !aws s3 ls {output_path+transformer.latest_transform_job.job_name} --recursive"
   ]
  },
  {
   "cell_type": "markdown",
   "metadata": {
    "Collapsed": "false"
   },
   "source": [
    "### Endpoint"
   ]
  },
  {
   "cell_type": "markdown",
   "metadata": {
    "Collapsed": "false"
   },
   "source": [
    "##### Deploy remote or local endpoint"
   ]
  },
  {
   "cell_type": "code",
   "execution_count": 16,
   "metadata": {
    "Collapsed": "false"
   },
   "outputs": [
    {
     "name": "stderr",
     "output_type": "stream",
     "text": [
      "Using already existing model: autogluon-sagemaker-inference-2020-04-08-04-03-56-043\n"
     ]
    },
    {
     "name": "stdout",
     "output_type": "stream",
     "text": [
      "-------------!"
     ]
    }
   ],
   "source": [
    "instance_type = 'ml.m5.2xlarge'\n",
    "#instance_type = 'local'\n",
    "\n",
    "predictor = model.deploy(initial_instance_count=1, \n",
    "                         instance_type=instance_type)"
   ]
  },
  {
   "cell_type": "markdown",
   "metadata": {
    "Collapsed": "false"
   },
   "source": [
    "##### Attach to endpoint (or reattach if kernel was restarted)"
   ]
  },
  {
   "cell_type": "code",
   "execution_count": 17,
   "metadata": {
    "Collapsed": "false"
   },
   "outputs": [],
   "source": [
    "# Select standard or local session based on instance_type\n",
    "if instance_type == 'local': sess = local_session\n",
    "else: sess = session\n",
    "\n",
    "# Attach to endpoint\n",
    "predictor = AutoGluonTabularPredictor(predictor.endpoint, sagemaker_session=sess)"
   ]
  },
  {
   "cell_type": "markdown",
   "metadata": {
    "Collapsed": "false"
   },
   "source": [
    "##### Predict on unlabeled test data"
   ]
  },
  {
   "cell_type": "code",
   "execution_count": 18,
   "metadata": {
    "Collapsed": "false"
   },
   "outputs": [
    {
     "name": "stdout",
     "output_type": "stream",
     "text": [
      "Counter({'no': 11285, 'yes': 1071})\n"
     ]
    }
   ],
   "source": [
    "results = predictor.predict(X_test.to_csv())\n",
    "\n",
    "# Check output\n",
    "print(Counter(results.splitlines()))"
   ]
  },
  {
   "cell_type": "markdown",
   "metadata": {
    "Collapsed": "false"
   },
   "source": [
    "##### Predict on data that includes label column  \n",
    "Prediction performance metrics will be printed to endpoint logs."
   ]
  },
  {
   "cell_type": "code",
   "execution_count": 19,
   "metadata": {
    "Collapsed": "false"
   },
   "outputs": [
    {
     "name": "stdout",
     "output_type": "stream",
     "text": [
      "Counter({'no': 11285, 'yes': 1071})\n"
     ]
    }
   ],
   "source": [
    "results = predictor.predict(test.to_csv())\n",
    "\n",
    "# Check output\n",
    "sleep(0.1); print(Counter(results.splitlines()))"
   ]
  },
  {
   "cell_type": "markdown",
   "metadata": {
    "Collapsed": "false"
   },
   "source": [
    "##### Check that performance metrics match evaluation printed to endpoint logs as expected"
   ]
  },
  {
   "cell_type": "code",
   "execution_count": 20,
   "metadata": {
    "Collapsed": "false"
   },
   "outputs": [
    {
     "name": "stdout",
     "output_type": "stream",
     "text": [
      "accuracy: 0.9191485917772741\n",
      "              precision    recall  f1-score   support\n",
      "\n",
      "          no   0.941338  0.969252  0.955091     10960\n",
      "         yes   0.685341  0.525788  0.595055      1396\n",
      "\n",
      "   micro avg   0.919149  0.919149  0.919149     12356\n",
      "   macro avg   0.813339  0.747520  0.775073     12356\n",
      "weighted avg   0.912415  0.919149  0.914414     12356\n",
      "\n"
     ]
    }
   ],
   "source": [
    "import numpy as np\n",
    "y_results = np.array(results.splitlines())\n",
    "\n",
    "print(\"accuracy: {}\".format(accuracy_score(y_true=y_test, y_pred=y_results)))\n",
    "print(classification_report(y_true=y_test, y_pred=y_results, digits=6))"
   ]
  },
  {
   "cell_type": "markdown",
   "metadata": {
    "Collapsed": "false"
   },
   "source": [
    "##### Clean up endpoint"
   ]
  },
  {
   "cell_type": "code",
   "execution_count": 21,
   "metadata": {
    "Collapsed": "false"
   },
   "outputs": [],
   "source": [
    "predictor.delete_endpoint()"
   ]
  }
 ],
 "metadata": {
  "kernelspec": {
   "display_name": "conda_mxnet_p36",
   "language": "python",
   "name": "conda_mxnet_p36"
  },
  "language_info": {
   "codemirror_mode": {
    "name": "ipython",
    "version": 3
   },
   "file_extension": ".py",
   "mimetype": "text/x-python",
   "name": "python",
   "nbconvert_exporter": "python",
   "pygments_lexer": "ipython3",
   "version": "3.6.5"
  }
 },
 "nbformat": 4,
 "nbformat_minor": 4
}
