{
 "cells": [
  {
   "cell_type": "markdown",
   "metadata": {},
   "source": [
    "*This notebook serves as a rough skeleton for new example notebook additions, giving guidance on standards and best practices.  It does not need to be adhered to exactly.  The actual content of the notebook should determine the appropriate way to present that information, so deviate as needed.  Indeed, there are several example notebooks that couldn't follow this template because they do not use some components of SageMaker's functionality (e.g. [SageMaker and Redshift](https://github.com/awslabs/amazon-sagemaker-examples/blob/master/advanced_functionality/working_with_redshift_data/working_with_redshift_data.ipynb), [TensorFlow BYOM](https://github.com/awslabs/amazon-sagemaker-examples/blob/master/advanced_functionality/tensorflow_iris_byom/tensorflow_BYOM_iris.ipynb), etc.).  However, there are several elements which are mandatory for inclusion.  These are marked explicitly below.*\n",
    "\n",
    "*NOTE: There are several best practices included in this notebook (Amazon copyright included in the notebook metadata, notebook opens in a SageMaker env (conda_python3 should be the default)).  So, even if the content is expected to deviate drammatically, starting from this notebook will help you conform to standards.*"
   ]
  },
  {
   "cell_type": "markdown",
   "metadata": {},
   "source": [
    "# Title\n",
    "_**Subtitle**_\n",
    "\n",
    "---\n",
    "\n",
    "---\n",
    "\n",
    "\n",
    "## Contents\n",
    "\n",
    "1. [Background](#Background)\n",
    "1. [Setup](#Setup)\n",
    "1. [Data](#Data)\n",
    "1. [Train](#Train)\n",
    "1. [Host](#Host)\n",
    "  1. [Evaluate](#Evaluate)\n",
    "1. [Extensions](#Extensions)\n",
    "\n",
    "---\n",
    "\n",
    "## Background\n",
    "\n",
    "_This section should contain several paragraphs describing the topic at a high level, data source, algorithms, and/or any specific libraries or engineering used._\n",
    "\n",
    "---\n",
    "\n",
    "## Setup\n",
    "\n",
    "_This notebook was created and tested on an ml.< instance type > notebook instance._\n",
    "\n",
    "Let's start by specifying:\n",
    "\n",
    "- The S3 bucket and prefix that you want to use for training and model data.  This should be within the same region as the notebook instance, training, and hosting.\n",
    "- The IAM role arn used to give training and hosting access to your data. See the documentation for how to create these.  Note, if more than one role is required for notebook instances, training, and/or hosting, please replace `sagemaker.get_execution_role()` with the appropriate full IAM role arn string(s)."
   ]
  },
  {
   "cell_type": "code",
   "execution_count": 1,
   "metadata": {
    "collapsed": true,
    "isConfigCell": true
   },
   "outputs": [],
   "source": [
    "import sagemaker\n",
    "\n",
    "sess = sagemaker.Session()\n",
    "bucket = sess.default_bucket()\n",
    "base = 'DEMO-<notebook_name_here>' # notebook auther to input a short descriptive name\n",
    "prefix = 'sagemaker/' + base\n",
    "\n",
    "role = sagemaker.get_execution_role()"
   ]
  },
  {
   "cell_type": "markdown",
   "metadata": {},
   "source": [
    "Now we'll import the Python libraries we'll need."
   ]
  },
  {
   "cell_type": "code",
   "execution_count": 2,
   "metadata": {
    "collapsed": true
   },
   "outputs": [],
   "source": [
    "#import sagemaker\n",
    "#import boto3\n",
    "#import pandas as pd\n",
    "#import numpy as np\n",
    "#import matplotlib.pyplot as plt"
   ]
  },
  {
   "cell_type": "markdown",
   "metadata": {},
   "source": [
    "---\n",
    "\n",
    "## Data\n",
    "\n",
    "*This section should describe the dataset at a high level.  Typically the dataset will be downloaded with a `wget` or taken from S3.  If so, make sure to have the dataset blessed ([example ticket](https://tt.amazon.com/0132482232)).  Often times this requires we properly attribute the dataset source.*\n",
    "\n",
    "*Then we should open and explore the data briefly or deeply depending on the depth of understanding the customer will need to contextualize the remainder of the example notebook.*\n",
    "\n",
    "*Finally, if using SageMaker built-in algorithms from a protobuf dataset, please ensure conversion is in the appropriate format (and ideally uses the SageMaker Python SDK).  Also ensure this final dataset is uploaded to the appropriate bucket + prefix S3 location.*"
   ]
  },
  {
   "cell_type": "code",
   "execution_count": null,
   "metadata": {
    "collapsed": true
   },
   "outputs": [],
   "source": []
  },
  {
   "cell_type": "markdown",
   "metadata": {},
   "source": [
    "---\n",
    "\n",
    "## Train\n",
    "\n",
    "*This section mainly includes the transactional aspects of training your algorithm with SageMaker.  All notes below may be handled to a greater or lesser extent depending on whether training is done using boto3 and the AWS SDK, a generic estimator from the Python SDK, or a custom estimator from the Python SDK.*\n",
    "\n",
    "*Regardless, the algorithm should train dynamically using the right container by region (in all regions), along the lines of:*"
   ]
  },
  {
   "cell_type": "code",
   "execution_count": null,
   "metadata": {
    "collapsed": true
   },
   "outputs": [],
   "source": [
    "container = sagemaker.amazon.amazon_estimator.get_image_uri(boto3.Session().region_name, \n",
    "                                                            'factorization-machines', \n",
    "                                                            'latest')"
   ]
  },
  {
   "cell_type": "markdown",
   "metadata": {},
   "source": [
    "*It should train on the appropriate instance type with a bias toward ml.m4.xlarge (since that's free tier eligible), and should have a reasonable value for MaxRuntimeInSeconds.*\n",
    "\n",
    "*Both input data and output locations should be set to the appropriate S3 bucket + prefix.*\n",
    "\n",
    "*Descriptions of hyperparameters, their usage (e.g. increasing this hyperparameter will lead to more X), potentially with a link to the documentation for further information is highly preferred.*\n",
    "\n",
    "*If using boto3 and the AWS SDK, make sure to use the appropriate try: finally: logic on the waiter.*"
   ]
  },
  {
   "cell_type": "code",
   "execution_count": null,
   "metadata": {
    "collapsed": true
   },
   "outputs": [],
   "source": [
    "# Example logic for waiter\n",
    "client = boto3.client('sagemaker')\n",
    "\n",
    "client.create_training_job(**create_training_params)\n",
    "\n",
    "status = client.describe_training_job(TrainingJobName=job_name)['TrainingJobStatus']\n",
    "print(status)\n",
    "\n",
    "try:\n",
    "    client.get_waiter('training_job_completed_or_stopped').wait(TrainingJobName=job_name)\n",
    "finally:\n",
    "    status = client.describe_training_job(TrainingJobName=job_name)['TrainingJobStatus']\n",
    "    print(\"Training job ended with status: \" + status)\n",
    "    if status == 'Failed':\n",
    "        message = client.describe_training_job(TrainingJobName=job_name)['FailureReason']\n",
    "        print('Training failed with the following error: {}'.format(message))\n",
    "        raise Exception('Training job failed')"
   ]
  },
  {
   "cell_type": "markdown",
   "metadata": {},
   "source": [
    "---\n",
    "\n",
    "## Host\n",
    "\n",
    "*This section mainly includes the transaction aspects of hosting your algorithm with SageMaker.  Notes below may be handled to a greater or lesser extent depending on whether hosting is done using boto3 and the AWS SDK or the Python SDK.*\n",
    "\n",
    "*The algorithm needs to host using the right container by region, similar to training above.*\n",
    "\n",
    "*Unless there is an explicit reason not to, all hosting should be done on a single ml.m4.xlarge instance as they are eligible for the free tier.*\n",
    "\n",
    "*Endpoints should always be named with a prefix of \"DEMO\" so that they can be properly distinguished from production endpoints.*\n",
    "\n",
    "*If using boto3 and the AWS SDK, make sure to use the appropriate try: finally: logic in the waiter.*"
   ]
  },
  {
   "cell_type": "code",
   "execution_count": null,
   "metadata": {
    "collapsed": true
   },
   "outputs": [],
   "source": [
    "# Example logic for waiter\n",
    "endpoint_name = 'DEMO-' + strftime(\"%Y-%m-%d-%H-%M-%S\", gmtime())\n",
    "print(endpoint_name)\n",
    "create_endpoint_response = client.create_endpoint(\n",
    "    EndpointName=endpoint_name,\n",
    "    EndpointConfigName=endpoint_config_name)\n",
    "print(create_endpoint_response['EndpointArn'])\n",
    "\n",
    "resp = client.describe_endpoint(EndpointName=endpoint_name)\n",
    "status = resp['EndpointStatus']\n",
    "print(\"Status: \" + status)\n",
    "\n",
    "try:\n",
    "    client.get_waiter('endpoint_in_service').wait(EndpointName=endpoint_name)\n",
    "finally:\n",
    "    resp = client.describe_endpoint(EndpointName=endpoint_name)\n",
    "    status = resp['EndpointStatus']\n",
    "    print(\"Arn: \" + resp['EndpointArn'])\n",
    "    print(\"Create endpoint ended with status: \" + status)\n",
    "\n",
    "    if status != 'InService':\n",
    "        message = client.describe_endpoint(EndpointName=endpoint_name)['FailureReason']\n",
    "        print('Training failed with the following error: {}'.format(message))\n",
    "        raise Exception('Endpoint creation did not succeed')"
   ]
  },
  {
   "cell_type": "markdown",
   "metadata": {},
   "source": [
    "### Evaluate\n",
    "\n",
    "*This section should included details on how to serialize data in preparation for invoking the endpoint, deserializing the response, and understanding the model's outputs.*"
   ]
  },
  {
   "cell_type": "code",
   "execution_count": null,
   "metadata": {
    "collapsed": true
   },
   "outputs": [],
   "source": []
  },
  {
   "cell_type": "markdown",
   "metadata": {},
   "source": [
    "---\n",
    "\n",
    "## Extensions\n",
    "\n",
    "*This section can be a simple paragraph on what could be done to improve upon or extend the existing example.  Examples would be to spend more time tuning hyperparameters, scale to a larger dataset, go through the next example notebook in a sequence, etc.*\n",
    "\n",
    "### (Optional) Clean-up\n",
    "\n",
    "*At the end of the example notebook make sure to have a cell that deletes the endpoint(s) you created.  Optionally, you may delete the S3 data, models, endpoints, or any other artifacts created during the example.*\n",
    "\n",
    "_Prior to publishing the notebook, we typically clear all cell outputs using Cell -> All Output -> Clear in the Jupyter menu above._\n",
    "\n",
    "*Confirm that the notebook runs end-to-end in a SageMaker Notebook Instance in multiple regions.  Review with your SDK and PM in advance if you have any questions.  Otherwise, submit a pull request to the [GitHub repo](https://github.com/awslabs/amazon-sagemaker-examples).*"
   ]
  },
  {
   "cell_type": "code",
   "execution_count": null,
   "metadata": {
    "collapsed": true
   },
   "outputs": [],
   "source": [
    "sm.delete_endpoint(EndpointName=endpoint_name)"
   ]
  }
 ],
 "metadata": {
  "kernelspec": {
   "display_name": "Python 3",
   "language": "python",
   "name": "python3"
  },
  "language_info": {
   "codemirror_mode": {
    "name": "ipython",
    "version": 3
   },
   "file_extension": ".py",
   "mimetype": "text/x-python",
   "name": "python",
   "nbconvert_exporter": "python",
   "pygments_lexer": "ipython3",
   "version": "3.7.6"
  },
  "notice": "Copyright 2018 Amazon.com, Inc. or its affiliates. All Rights Reserved.  Licensed under the Apache License, Version 2.0 (the \"License\"). You may not use this file except in compliance with the License. A copy of the License is located at http://aws.amazon.com/apache2.0/ or in the \"license\" file accompanying this file. This file is distributed on an \"AS IS\" BASIS, WITHOUT WARRANTIES OR CONDITIONS OF ANY KIND, either express or implied. See the License for the specific language governing permissions and limitations under the License."
 },
 "nbformat": 4,
 "nbformat_minor": 2
}
