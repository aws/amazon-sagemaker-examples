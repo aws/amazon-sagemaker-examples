{
 "cells": [
  {
   "cell_type": "code",
   "execution_count": 1,
   "id": "28c40249",
   "metadata": {
    "execution": {
     "iopub.execute_input": "2022-03-23T18:04:36.237318Z",
     "iopub.status.busy": "2022-03-23T18:04:36.236689Z",
     "iopub.status.idle": "2022-03-23T18:04:36.238700Z",
     "shell.execute_reply": "2022-03-23T18:04:36.239066Z"
    },
    "papermill": {
     "duration": 0.013642,
     "end_time": "2022-03-23T18:04:36.239232",
     "exception": false,
     "start_time": "2022-03-23T18:04:36.225590",
     "status": "completed"
    },
    "tags": [
     "injected-parameters"
    ]
   },
   "outputs": [],
   "source": [
    "# Parameters\n",
    "kms_key = \"arn:aws:kms:us-west-2:000000000000:1234abcd-12ab-34cd-56ef-1234567890ab\"\n"
   ]
  },
  {
   "cell_type": "markdown",
   "id": "ee5abd3d",
   "metadata": {
    "papermill": {
     "duration": 0.007165,
     "end_time": "2022-03-23T18:04:36.253870",
     "exception": false,
     "start_time": "2022-03-23T18:04:36.246705",
     "status": "completed"
    },
    "tags": []
   },
   "source": [
    "# SKLearn Script Mode + Bring Your Own Model\n",
    "\n",
    "- [Documentation](https://sagemaker.readthedocs.io/en/stable/frameworks/sklearn/using_sklearn.html)\n",
    "- Dataset: [Iris](https://archive.ics.uci.edu/ml/datasets/iris)"
   ]
  },
  {
   "cell_type": "markdown",
   "id": "04fb9160",
   "metadata": {
    "papermill": {
     "duration": 0.007092,
     "end_time": "2022-03-23T18:04:36.268126",
     "exception": false,
     "start_time": "2022-03-23T18:04:36.261034",
     "status": "completed"
    },
    "tags": []
   },
   "source": [
    "## Read Data"
   ]
  },
  {
   "cell_type": "code",
   "execution_count": 2,
   "id": "1de023a4",
   "metadata": {
    "execution": {
     "iopub.execute_input": "2022-03-23T18:04:36.286413Z",
     "iopub.status.busy": "2022-03-23T18:04:36.285937Z",
     "iopub.status.idle": "2022-03-23T18:04:37.155733Z",
     "shell.execute_reply": "2022-03-23T18:04:37.156196Z"
    },
    "papermill": {
     "duration": 0.881099,
     "end_time": "2022-03-23T18:04:37.156353",
     "exception": false,
     "start_time": "2022-03-23T18:04:36.275254",
     "status": "completed"
    },
    "tags": []
   },
   "outputs": [
    {
     "data": {
      "text/html": [
       "<div>\n",
       "<style scoped>\n",
       "    .dataframe tbody tr th:only-of-type {\n",
       "        vertical-align: middle;\n",
       "    }\n",
       "\n",
       "    .dataframe tbody tr th {\n",
       "        vertical-align: top;\n",
       "    }\n",
       "\n",
       "    .dataframe thead th {\n",
       "        text-align: right;\n",
       "    }\n",
       "</style>\n",
       "<table border=\"1\" class=\"dataframe\">\n",
       "  <thead>\n",
       "    <tr style=\"text-align: right;\">\n",
       "      <th></th>\n",
       "      <th>sepal_len</th>\n",
       "      <th>sepal_wid</th>\n",
       "      <th>petal_len</th>\n",
       "      <th>petal_wid</th>\n",
       "      <th>class</th>\n",
       "    </tr>\n",
       "  </thead>\n",
       "  <tbody>\n",
       "    <tr>\n",
       "      <th>0</th>\n",
       "      <td>5.1</td>\n",
       "      <td>3.5</td>\n",
       "      <td>1.4</td>\n",
       "      <td>0.2</td>\n",
       "      <td>Iris-setosa</td>\n",
       "    </tr>\n",
       "    <tr>\n",
       "      <th>1</th>\n",
       "      <td>4.9</td>\n",
       "      <td>3.0</td>\n",
       "      <td>1.4</td>\n",
       "      <td>0.2</td>\n",
       "      <td>Iris-setosa</td>\n",
       "    </tr>\n",
       "    <tr>\n",
       "      <th>2</th>\n",
       "      <td>4.7</td>\n",
       "      <td>3.2</td>\n",
       "      <td>1.3</td>\n",
       "      <td>0.2</td>\n",
       "      <td>Iris-setosa</td>\n",
       "    </tr>\n",
       "    <tr>\n",
       "      <th>3</th>\n",
       "      <td>4.6</td>\n",
       "      <td>3.1</td>\n",
       "      <td>1.5</td>\n",
       "      <td>0.2</td>\n",
       "      <td>Iris-setosa</td>\n",
       "    </tr>\n",
       "    <tr>\n",
       "      <th>4</th>\n",
       "      <td>5.0</td>\n",
       "      <td>3.6</td>\n",
       "      <td>1.4</td>\n",
       "      <td>0.2</td>\n",
       "      <td>Iris-setosa</td>\n",
       "    </tr>\n",
       "  </tbody>\n",
       "</table>\n",
       "</div>"
      ],
      "text/plain": [
       "   sepal_len  sepal_wid  petal_len  petal_wid        class\n",
       "0        5.1        3.5        1.4        0.2  Iris-setosa\n",
       "1        4.9        3.0        1.4        0.2  Iris-setosa\n",
       "2        4.7        3.2        1.3        0.2  Iris-setosa\n",
       "3        4.6        3.1        1.5        0.2  Iris-setosa\n",
       "4        5.0        3.6        1.4        0.2  Iris-setosa"
      ]
     },
     "execution_count": 2,
     "metadata": {},
     "output_type": "execute_result"
    }
   ],
   "source": [
    "import boto3\n",
    "import pandas as pd\n",
    "import numpy as np\n",
    "\n",
    "s3 = boto3.client(\"s3\")\n",
    "s3.download_file(f\"sagemaker-sample-files\", \"datasets/tabular/iris/iris.data\", \"iris.data\")\n",
    "\n",
    "df = pd.read_csv(\n",
    "    \"iris.data\", header=None, names=[\"sepal_len\", \"sepal_wid\", \"petal_len\", \"petal_wid\", \"class\"]\n",
    ")\n",
    "df.head()"
   ]
  },
  {
   "cell_type": "code",
   "execution_count": 3,
   "id": "3eb3ab67",
   "metadata": {
    "execution": {
     "iopub.execute_input": "2022-03-23T18:04:37.186313Z",
     "iopub.status.busy": "2022-03-23T18:04:37.178791Z",
     "iopub.status.idle": "2022-03-23T18:04:37.189655Z",
     "shell.execute_reply": "2022-03-23T18:04:37.190116Z"
    },
    "papermill": {
     "duration": 0.024859,
     "end_time": "2022-03-23T18:04:37.190270",
     "exception": false,
     "start_time": "2022-03-23T18:04:37.165411",
     "status": "completed"
    },
    "tags": []
   },
   "outputs": [
    {
     "name": "stdout",
     "output_type": "stream",
     "text": [
      "{0: 'Iris-setosa', 1: 'Iris-versicolor', 2: 'Iris-virginica'}\n"
     ]
    },
    {
     "data": {
      "text/html": [
       "<div>\n",
       "<style scoped>\n",
       "    .dataframe tbody tr th:only-of-type {\n",
       "        vertical-align: middle;\n",
       "    }\n",
       "\n",
       "    .dataframe tbody tr th {\n",
       "        vertical-align: top;\n",
       "    }\n",
       "\n",
       "    .dataframe thead th {\n",
       "        text-align: right;\n",
       "    }\n",
       "</style>\n",
       "<table border=\"1\" class=\"dataframe\">\n",
       "  <thead>\n",
       "    <tr style=\"text-align: right;\">\n",
       "      <th></th>\n",
       "      <th>sepal_len</th>\n",
       "      <th>sepal_wid</th>\n",
       "      <th>petal_len</th>\n",
       "      <th>petal_wid</th>\n",
       "      <th>class</th>\n",
       "      <th>class_cat</th>\n",
       "    </tr>\n",
       "  </thead>\n",
       "  <tbody>\n",
       "    <tr>\n",
       "      <th>0</th>\n",
       "      <td>5.1</td>\n",
       "      <td>3.5</td>\n",
       "      <td>1.4</td>\n",
       "      <td>0.2</td>\n",
       "      <td>Iris-setosa</td>\n",
       "      <td>0</td>\n",
       "    </tr>\n",
       "    <tr>\n",
       "      <th>1</th>\n",
       "      <td>4.9</td>\n",
       "      <td>3.0</td>\n",
       "      <td>1.4</td>\n",
       "      <td>0.2</td>\n",
       "      <td>Iris-setosa</td>\n",
       "      <td>0</td>\n",
       "    </tr>\n",
       "    <tr>\n",
       "      <th>2</th>\n",
       "      <td>4.7</td>\n",
       "      <td>3.2</td>\n",
       "      <td>1.3</td>\n",
       "      <td>0.2</td>\n",
       "      <td>Iris-setosa</td>\n",
       "      <td>0</td>\n",
       "    </tr>\n",
       "    <tr>\n",
       "      <th>3</th>\n",
       "      <td>4.6</td>\n",
       "      <td>3.1</td>\n",
       "      <td>1.5</td>\n",
       "      <td>0.2</td>\n",
       "      <td>Iris-setosa</td>\n",
       "      <td>0</td>\n",
       "    </tr>\n",
       "    <tr>\n",
       "      <th>4</th>\n",
       "      <td>5.0</td>\n",
       "      <td>3.6</td>\n",
       "      <td>1.4</td>\n",
       "      <td>0.2</td>\n",
       "      <td>Iris-setosa</td>\n",
       "      <td>0</td>\n",
       "    </tr>\n",
       "  </tbody>\n",
       "</table>\n",
       "</div>"
      ],
      "text/plain": [
       "   sepal_len  sepal_wid  petal_len  petal_wid        class  class_cat\n",
       "0        5.1        3.5        1.4        0.2  Iris-setosa          0\n",
       "1        4.9        3.0        1.4        0.2  Iris-setosa          0\n",
       "2        4.7        3.2        1.3        0.2  Iris-setosa          0\n",
       "3        4.6        3.1        1.5        0.2  Iris-setosa          0\n",
       "4        5.0        3.6        1.4        0.2  Iris-setosa          0"
      ]
     },
     "execution_count": 3,
     "metadata": {},
     "output_type": "execute_result"
    }
   ],
   "source": [
    "# Convert the three classes from strings to integers in {0,1,2}\n",
    "df[\"class_cat\"] = df[\"class\"].astype(\"category\").cat.codes\n",
    "categories_map = dict(enumerate(df[\"class\"].astype(\"category\").cat.categories))\n",
    "print(categories_map)\n",
    "df.head()"
   ]
  },
  {
   "cell_type": "code",
   "execution_count": 4,
   "id": "e75f4bc4",
   "metadata": {
    "execution": {
     "iopub.execute_input": "2022-03-23T18:04:37.213024Z",
     "iopub.status.busy": "2022-03-23T18:04:37.212449Z",
     "iopub.status.idle": "2022-03-23T18:04:37.214787Z",
     "shell.execute_reply": "2022-03-23T18:04:37.215154Z"
    },
    "papermill": {
     "duration": 0.015534,
     "end_time": "2022-03-23T18:04:37.215298",
     "exception": false,
     "start_time": "2022-03-23T18:04:37.199764",
     "status": "completed"
    },
    "tags": []
   },
   "outputs": [
    {
     "name": "stdout",
     "output_type": "stream",
     "text": [
      "120 train, 30 test\n"
     ]
    }
   ],
   "source": [
    "# Split the data into 80-20 train-test split\n",
    "num_samples = df.shape[0]\n",
    "split = round(num_samples * 0.8)\n",
    "train = df.iloc[:split, :]\n",
    "test = df.iloc[split:, :]\n",
    "print(\"{} train, {} test\".format(split, num_samples - split))"
   ]
  },
  {
   "cell_type": "code",
   "execution_count": 5,
   "id": "61c07854",
   "metadata": {
    "execution": {
     "iopub.execute_input": "2022-03-23T18:04:37.235613Z",
     "iopub.status.busy": "2022-03-23T18:04:37.235050Z",
     "iopub.status.idle": "2022-03-23T18:04:37.376855Z",
     "shell.execute_reply": "2022-03-23T18:04:37.376357Z"
    },
    "papermill": {
     "duration": 0.153298,
     "end_time": "2022-03-23T18:04:37.376976",
     "exception": false,
     "start_time": "2022-03-23T18:04:37.223678",
     "status": "completed"
    },
    "tags": []
   },
   "outputs": [],
   "source": [
    "# Write train and test CSV files\n",
    "train.to_csv(\"train.csv\", index=False)\n",
    "test.to_csv(\"test.csv\", index=False)"
   ]
  },
  {
   "cell_type": "markdown",
   "id": "90842a0d",
   "metadata": {
    "papermill": {
     "duration": 0.023845,
     "end_time": "2022-03-23T18:04:37.411085",
     "exception": false,
     "start_time": "2022-03-23T18:04:37.387240",
     "status": "completed"
    },
    "tags": []
   },
   "source": [
    "## Upload Data to S3"
   ]
  },
  {
   "cell_type": "code",
   "execution_count": 6,
   "id": "f79c8e43",
   "metadata": {
    "execution": {
     "iopub.execute_input": "2022-03-23T18:04:37.432294Z",
     "iopub.status.busy": "2022-03-23T18:04:37.431802Z",
     "iopub.status.idle": "2022-03-23T18:04:37.906645Z",
     "shell.execute_reply": "2022-03-23T18:04:37.906131Z"
    },
    "papermill": {
     "duration": 0.486956,
     "end_time": "2022-03-23T18:04:37.906756",
     "exception": false,
     "start_time": "2022-03-23T18:04:37.419800",
     "status": "completed"
    },
    "tags": []
   },
   "outputs": [],
   "source": [
    "# Create a sagemaker session to upload data to S3\n",
    "import sagemaker\n",
    "\n",
    "sagemaker_session = sagemaker.Session()\n",
    "\n",
    "# Upload data to default S3 bucket\n",
    "prefix = \"DEMO-sklearn-iris\"\n",
    "training_input_path = sagemaker_session.upload_data(\"train.csv\", key_prefix=prefix + \"/training\")"
   ]
  },
  {
   "cell_type": "markdown",
   "id": "40d87112",
   "metadata": {
    "papermill": {
     "duration": 0.008672,
     "end_time": "2022-03-23T18:04:37.924399",
     "exception": false,
     "start_time": "2022-03-23T18:04:37.915727",
     "status": "completed"
    },
    "tags": []
   },
   "source": [
    "## Train Estimator"
   ]
  },
  {
   "cell_type": "code",
   "execution_count": 7,
   "id": "98d6eb28",
   "metadata": {
    "execution": {
     "iopub.execute_input": "2022-03-23T18:04:37.953069Z",
     "iopub.status.busy": "2022-03-23T18:04:37.950357Z",
     "iopub.status.idle": "2022-03-23T18:04:38.311252Z",
     "shell.execute_reply": "2022-03-23T18:04:38.310826Z"
    },
    "papermill": {
     "duration": 0.37838,
     "end_time": "2022-03-23T18:04:38.311364",
     "exception": false,
     "start_time": "2022-03-23T18:04:37.932984",
     "status": "completed"
    },
    "tags": []
   },
   "outputs": [
    {
     "name": "stderr",
     "output_type": "stream",
     "text": [
      "Couldn't call 'get_role' to get Role ARN from role name SageMakerRole to get Role path.\n"
     ]
    },
    {
     "name": "stdout",
     "output_type": "stream",
     "text": [
      "arn:aws:iam::000000000000:role/SageMakerRole\n"
     ]
    }
   ],
   "source": [
    "# Use the current execution role for training. It needs access to S3\n",
    "role = sagemaker.get_execution_role()\n",
    "print(role)"
   ]
  },
  {
   "cell_type": "code",
   "execution_count": 8,
   "id": "df113b51",
   "metadata": {
    "execution": {
     "iopub.execute_input": "2022-03-23T18:04:38.334121Z",
     "iopub.status.busy": "2022-03-23T18:04:38.333559Z",
     "iopub.status.idle": "2022-03-23T18:07:52.387235Z",
     "shell.execute_reply": "2022-03-23T18:07:52.386757Z"
    },
    "papermill": {
     "duration": 194.066579,
     "end_time": "2022-03-23T18:07:52.387344",
     "exception": false,
     "start_time": "2022-03-23T18:04:38.320765",
     "status": "completed"
    },
    "tags": []
   },
   "outputs": [
    {
     "name": "stdout",
     "output_type": "stream",
     "text": [
      "2022-03-23 18:04:38 Starting - Starting the training job."
     ]
    },
    {
     "name": "stdout",
     "output_type": "stream",
     "text": [
      "."
     ]
    },
    {
     "name": "stdout",
     "output_type": "stream",
     "text": [
      "."
     ]
    },
    {
     "name": "stdout",
     "output_type": "stream",
     "text": [
      "\n",
      "2022-03-23 18:05:05 Starting - Preparing the instances for trainingProfilerReport-1648058678: InProgress\n",
      "."
     ]
    },
    {
     "name": "stdout",
     "output_type": "stream",
     "text": [
      "."
     ]
    },
    {
     "name": "stdout",
     "output_type": "stream",
     "text": [
      "."
     ]
    },
    {
     "name": "stdout",
     "output_type": "stream",
     "text": [
      "."
     ]
    },
    {
     "name": "stdout",
     "output_type": "stream",
     "text": [
      "."
     ]
    },
    {
     "name": "stdout",
     "output_type": "stream",
     "text": [
      "."
     ]
    },
    {
     "name": "stdout",
     "output_type": "stream",
     "text": [
      "\n",
      "2022-03-23 18:06:07 Downloading - Downloading input data."
     ]
    },
    {
     "name": "stdout",
     "output_type": "stream",
     "text": [
      "."
     ]
    },
    {
     "name": "stdout",
     "output_type": "stream",
     "text": [
      "."
     ]
    },
    {
     "name": "stdout",
     "output_type": "stream",
     "text": [
      "\n",
      "2022-03-23 18:06:25 Training - Downloading the training image."
     ]
    },
    {
     "name": "stdout",
     "output_type": "stream",
     "text": [
      "."
     ]
    },
    {
     "name": "stdout",
     "output_type": "stream",
     "text": [
      "."
     ]
    },
    {
     "name": "stdout",
     "output_type": "stream",
     "text": [
      "\n",
      "2022-03-23 18:07:06 Training - Training image download completed. Training in progress.."
     ]
    },
    {
     "name": "stdout",
     "output_type": "stream",
     "text": [
      "\u001b[34m2022-03-23 18:07:05,310 sagemaker-containers INFO     Imported framework sagemaker_sklearn_container.training\u001b[0m\n",
      "\u001b[34m2022-03-23 18:07:05,315 sagemaker-training-toolkit INFO     No GPUs detected (normal if no gpus installed)\u001b[0m\n",
      "\u001b[34m2022-03-23 18:07:05,324 sagemaker_sklearn_container.training INFO     Invoking user training script.\u001b[0m\n",
      "\u001b[34m2022-03-23 18:07:05,623 sagemaker-training-toolkit INFO     No GPUs detected (normal if no gpus installed)\u001b[0m\n",
      "\u001b[34m2022-03-23 18:07:05,642 sagemaker-training-toolkit INFO     No GPUs detected (normal if no gpus installed)\u001b[0m\n",
      "\u001b[34m2022-03-23 18:07:05,656 sagemaker-training-toolkit INFO     No GPUs detected (normal if no gpus installed)\u001b[0m\n",
      "\u001b[34m2022-03-23 18:07:05,667 sagemaker-training-toolkit INFO     Invoking user script\u001b[0m\n",
      "\u001b[34mTraining Env:\u001b[0m\n",
      "\u001b[34m{\n",
      "    \"additional_framework_parameters\": {},\n",
      "    \"channel_input_dirs\": {\n",
      "        \"train\": \"/opt/ml/input/data/train\"\n",
      "    },\n",
      "    \"current_host\": \"algo-1\",\n",
      "    \"framework_module\": \"sagemaker_sklearn_container.training:main\",\n",
      "    \"hosts\": [\n",
      "        \"algo-1\"\n",
      "    ],\n",
      "    \"hyperparameters\": {\n",
      "        \"estimators\": 20\n",
      "    },\n",
      "    \"input_config_dir\": \"/opt/ml/input/config\",\n",
      "    \"input_data_config\": {\n",
      "        \"train\": {\n",
      "            \"TrainingInputMode\": \"File\",\n",
      "            \"S3DistributionType\": \"FullyReplicated\",\n",
      "            \"RecordWrapperType\": \"None\"\n",
      "        }\n",
      "    },\n",
      "    \"input_dir\": \"/opt/ml/input\",\n",
      "    \"is_master\": true,\n",
      "    \"job_name\": \"sagemaker-scikit-learn-2022-03-23-18-04-38-355\",\n",
      "    \"log_level\": 20,\n",
      "    \"master_hostname\": \"algo-1\",\n",
      "    \"model_dir\": \"/opt/ml/model\",\n",
      "    \"module_dir\": \"s3://sagemaker-us-west-2--000000000000/sagemaker-scikit-learn-2022-03-23-18-04-38-355/source/sourcedir.tar.gz\",\n",
      "    \"module_name\": \"train\",\n",
      "    \"network_interface_name\": \"eth0\",\n",
      "    \"num_cpus\": 4,\n",
      "    \"num_gpus\": 0,\n",
      "    \"output_data_dir\": \"/opt/ml/output/data\",\n",
      "    \"output_dir\": \"/opt/ml/output\",\n",
      "    \"output_intermediate_dir\": \"/opt/ml/output/intermediate\",\n",
      "    \"resource_config\": {\n",
      "        \"current_host\": \"algo-1\",\n",
      "        \"current_instance_type\": \"ml.c5.xlarge\",\n",
      "        \"current_group_name\": \"homogeneousCluster\",\n",
      "        \"hosts\": [\n",
      "            \"algo-1\"\n",
      "        ],\n",
      "        \"instance_groups\": [\n",
      "            {\n",
      "                \"instance_group_name\": \"homogeneousCluster\",\n",
      "                \"instance_type\": \"ml.c5.xlarge\",\n",
      "                \"hosts\": [\n",
      "                    \"algo-1\"\n",
      "                ]\n",
      "            }\n",
      "        ],\n",
      "        \"network_interface_name\": \"eth0\"\n",
      "    },\n",
      "    \"user_entry_point\": \"train.py\"\u001b[0m\n",
      "\u001b[34m}\u001b[0m\n",
      "\u001b[34mEnvironment variables:\u001b[0m\n",
      "\u001b[34mSM_HOSTS=[\"algo-1\"]\u001b[0m\n",
      "\u001b[34mSM_NETWORK_INTERFACE_NAME=eth0\u001b[0m\n",
      "\u001b[34mSM_HPS={\"estimators\":20}\u001b[0m\n",
      "\u001b[34mSM_USER_ENTRY_POINT=train.py\u001b[0m\n",
      "\u001b[34mSM_FRAMEWORK_PARAMS={}\u001b[0m\n",
      "\u001b[34mSM_RESOURCE_CONFIG={\"current_group_name\":\"homogeneousCluster\",\"current_host\":\"algo-1\",\"current_instance_type\":\"ml.c5.xlarge\",\"hosts\":[\"algo-1\"],\"instance_groups\":[{\"hosts\":[\"algo-1\"],\"instance_group_name\":\"homogeneousCluster\",\"instance_type\":\"ml.c5.xlarge\"}],\"network_interface_name\":\"eth0\"}\u001b[0m\n",
      "\u001b[34mSM_INPUT_DATA_CONFIG={\"train\":{\"RecordWrapperType\":\"None\",\"S3DistributionType\":\"FullyReplicated\",\"TrainingInputMode\":\"File\"}}\u001b[0m\n",
      "\u001b[34mSM_OUTPUT_DATA_DIR=/opt/ml/output/data\u001b[0m\n",
      "\u001b[34mSM_CHANNELS=[\"train\"]\u001b[0m\n",
      "\u001b[34mSM_CURRENT_HOST=algo-1\u001b[0m\n",
      "\u001b[34mSM_MODULE_NAME=train\u001b[0m\n",
      "\u001b[34mSM_LOG_LEVEL=20\u001b[0m\n",
      "\u001b[34mSM_FRAMEWORK_MODULE=sagemaker_sklearn_container.training:main\u001b[0m\n",
      "\u001b[34mSM_INPUT_DIR=/opt/ml/input\u001b[0m\n",
      "\u001b[34mSM_INPUT_CONFIG_DIR=/opt/ml/input/config\u001b[0m\n",
      "\u001b[34mSM_OUTPUT_DIR=/opt/ml/output\u001b[0m\n",
      "\u001b[34mSM_NUM_CPUS=4\u001b[0m\n",
      "\u001b[34mSM_NUM_GPUS=0\u001b[0m\n",
      "\u001b[34mSM_MODEL_DIR=/opt/ml/model\u001b[0m\n",
      "\u001b[34mSM_MODULE_DIR=s3://sagemaker-us-west-2--000000000000/sagemaker-scikit-learn-2022-03-23-18-04-38-355/source/sourcedir.tar.gz\u001b[0m\n",
      "\u001b[34mSM_TRAINING_ENV={\"additional_framework_parameters\":{},\"channel_input_dirs\":{\"train\":\"/opt/ml/input/data/train\"},\"current_host\":\"algo-1\",\"framework_module\":\"sagemaker_sklearn_container.training:main\",\"hosts\":[\"algo-1\"],\"hyperparameters\":{\"estimators\":20},\"input_config_dir\":\"/opt/ml/input/config\",\"input_data_config\":{\"train\":{\"RecordWrapperType\":\"None\",\"S3DistributionType\":\"FullyReplicated\",\"TrainingInputMode\":\"File\"}},\"input_dir\":\"/opt/ml/input\",\"is_master\":true,\"job_name\":\"sagemaker-scikit-learn-2022-03-23-18-04-38-355\",\"log_level\":20,\"master_hostname\":\"algo-1\",\"model_dir\":\"/opt/ml/model\",\"module_dir\":\"s3://sagemaker-us-west-2--000000000000/sagemaker-scikit-learn-2022-03-23-18-04-38-355/source/sourcedir.tar.gz\",\"module_name\":\"train\",\"network_interface_name\":\"eth0\",\"num_cpus\":4,\"num_gpus\":0,\"output_data_dir\":\"/opt/ml/output/data\",\"output_dir\":\"/opt/ml/output\",\"output_intermediate_dir\":\"/opt/ml/output/intermediate\",\"resource_config\":{\"current_group_name\":\"homogeneousCluster\",\"current_host\":\"algo-1\",\"current_instance_type\":\"ml.c5.xlarge\",\"hosts\":[\"algo-1\"],\"instance_groups\":[{\"hosts\":[\"algo-1\"],\"instance_group_name\":\"homogeneousCluster\",\"instance_type\":\"ml.c5.xlarge\"}],\"network_interface_name\":\"eth0\"},\"user_entry_point\":\"train.py\"}\u001b[0m\n",
      "\u001b[34mSM_USER_ARGS=[\"--estimators\",\"20\"]\u001b[0m\n",
      "\u001b[34mSM_OUTPUT_INTERMEDIATE_DIR=/opt/ml/output/intermediate\u001b[0m\n",
      "\u001b[34mSM_CHANNEL_TRAIN=/opt/ml/input/data/train\u001b[0m\n",
      "\u001b[34mSM_HP_ESTIMATORS=20\u001b[0m\n",
      "\u001b[34mPYTHONPATH=/opt/ml/code:/miniconda3/bin:/miniconda3/lib/python37.zip:/miniconda3/lib/python3.7:/miniconda3/lib/python3.7/lib-dynload:/miniconda3/lib/python3.7/site-packages\u001b[0m\n",
      "\u001b[34mInvoking script with the following command:\u001b[0m\n",
      "\u001b[34m/miniconda3/bin/python train.py --estimators 20\u001b[0m\n",
      "\u001b[34m2022-03-23 18:07:07,136 sagemaker-containers INFO     Reporting training SUCCESS\u001b[0m\n"
     ]
    },
    {
     "name": "stdout",
     "output_type": "stream",
     "text": [
      "\n",
      "2022-03-23 18:07:26 Uploading - Uploading generated training model\n",
      "2022-03-23 18:07:26 Completed - Training job completed\n"
     ]
    },
    {
     "name": "stdout",
     "output_type": "stream",
     "text": [
      "Training seconds: 77\n",
      "Billable seconds: 77\n"
     ]
    }
   ],
   "source": [
    "# Docs: https://sagemaker.readthedocs.io/en/stable/frameworks/sklearn/sagemaker.sklearn.html\n",
    "\n",
    "from sagemaker.sklearn import SKLearn\n",
    "\n",
    "sk_estimator = SKLearn(\n",
    "    entry_point=\"train.py\",\n",
    "    role=role,\n",
    "    instance_count=1,\n",
    "    instance_type=\"ml.c5.xlarge\",\n",
    "    py_version=\"py3\",\n",
    "    framework_version=\"0.23-1\",\n",
    "    script_mode=True,\n",
    "    hyperparameters={\"estimators\": 20},\n",
    ")\n",
    "\n",
    "# Train the estimator\n",
    "sk_estimator.fit({\"train\": training_input_path})"
   ]
  },
  {
   "cell_type": "markdown",
   "id": "5a8762c7",
   "metadata": {
    "papermill": {
     "duration": 0.013065,
     "end_time": "2022-03-23T18:07:52.413721",
     "exception": false,
     "start_time": "2022-03-23T18:07:52.400656",
     "status": "completed"
    },
    "tags": []
   },
   "source": [
    "## Deploy Endpoint"
   ]
  },
  {
   "cell_type": "code",
   "execution_count": 9,
   "id": "9d39a7af",
   "metadata": {
    "execution": {
     "iopub.execute_input": "2022-03-23T18:07:52.445405Z",
     "iopub.status.busy": "2022-03-23T18:07:52.444880Z",
     "iopub.status.idle": "2022-03-23T18:10:53.806580Z",
     "shell.execute_reply": "2022-03-23T18:10:53.806946Z"
    },
    "papermill": {
     "duration": 181.380057,
     "end_time": "2022-03-23T18:10:53.807081",
     "exception": false,
     "start_time": "2022-03-23T18:07:52.427024",
     "status": "completed"
    },
    "tags": []
   },
   "outputs": [
    {
     "name": "stdout",
     "output_type": "stream",
     "text": [
      "-"
     ]
    },
    {
     "name": "stdout",
     "output_type": "stream",
     "text": [
      "-"
     ]
    },
    {
     "name": "stdout",
     "output_type": "stream",
     "text": [
      "-"
     ]
    },
    {
     "name": "stdout",
     "output_type": "stream",
     "text": [
      "-"
     ]
    },
    {
     "name": "stdout",
     "output_type": "stream",
     "text": [
      "-"
     ]
    },
    {
     "name": "stdout",
     "output_type": "stream",
     "text": [
      "-"
     ]
    },
    {
     "name": "stdout",
     "output_type": "stream",
     "text": [
      "!"
     ]
    }
   ],
   "source": [
    "import time\n",
    "\n",
    "sk_endpoint_name = \"sklearn-rf-model\" + time.strftime(\"%Y-%m-%d-%H-%M-%S\", time.gmtime())\n",
    "sk_predictor = sk_estimator.deploy(\n",
    "    initial_instance_count=1, instance_type=\"ml.m5.large\", endpoint_name=sk_endpoint_name\n",
    ")"
   ]
  },
  {
   "cell_type": "markdown",
   "id": "6e1c4ac0",
   "metadata": {
    "papermill": {
     "duration": 0.014369,
     "end_time": "2022-03-23T18:10:53.835833",
     "exception": false,
     "start_time": "2022-03-23T18:10:53.821464",
     "status": "completed"
    },
    "tags": []
   },
   "source": [
    "## Test Endpoint\n",
    "- Can use [invoke endpoint](https://boto3.amazonaws.com/v1/documentation/api/latest/reference/services/sagemaker-runtime.html) or [predictor](https://sagemaker.readthedocs.io/en/stable/frameworks/sklearn/sagemaker.sklearn.html#scikit-learn-predictor), using invoke endpoint for this example. \n",
    "- For predictor make sure to [serialize](https://sagemaker.readthedocs.io/en/stable/api/inference/serializers.html) properly."
   ]
  },
  {
   "cell_type": "code",
   "execution_count": 10,
   "id": "02bb9960",
   "metadata": {
    "execution": {
     "iopub.execute_input": "2022-03-23T18:10:53.871194Z",
     "iopub.status.busy": "2022-03-23T18:10:53.870662Z",
     "iopub.status.idle": "2022-03-23T18:10:54.005356Z",
     "shell.execute_reply": "2022-03-23T18:10:54.004883Z"
    },
    "papermill": {
     "duration": 0.15537,
     "end_time": "2022-03-23T18:10:54.005468",
     "exception": false,
     "start_time": "2022-03-23T18:10:53.850098",
     "status": "completed"
    },
    "tags": []
   },
   "outputs": [
    {
     "name": "stdout",
     "output_type": "stream",
     "text": [
      "Predicted class category 1 (Iris-versicolor)\n"
     ]
    }
   ],
   "source": [
    "import json\n",
    "\n",
    "client = sagemaker_session.sagemaker_runtime_client\n",
    "\n",
    "request_body = {\"Input\": [[9.0, 3571, 1976, 0.525]]}\n",
    "data = json.loads(json.dumps(request_body))\n",
    "payload = json.dumps(data)\n",
    "\n",
    "response = client.invoke_endpoint(\n",
    "    EndpointName=sk_endpoint_name, ContentType=\"application/json\", Body=payload\n",
    ")\n",
    "\n",
    "result = json.loads(response[\"Body\"].read().decode())[\"Output\"]\n",
    "print(\"Predicted class category {} ({})\".format(result, categories_map[result]))"
   ]
  },
  {
   "cell_type": "markdown",
   "id": "8bae026f",
   "metadata": {
    "papermill": {
     "duration": 0.01475,
     "end_time": "2022-03-23T18:10:54.035216",
     "exception": false,
     "start_time": "2022-03-23T18:10:54.020466",
     "status": "completed"
    },
    "tags": []
   },
   "source": [
    "## Cleanup"
   ]
  },
  {
   "cell_type": "code",
   "execution_count": 11,
   "id": "15f90752",
   "metadata": {
    "execution": {
     "iopub.execute_input": "2022-03-23T18:10:54.068792Z",
     "iopub.status.busy": "2022-03-23T18:10:54.068338Z",
     "iopub.status.idle": "2022-03-23T18:10:54.405076Z",
     "shell.execute_reply": "2022-03-23T18:10:54.405478Z"
    },
    "papermill": {
     "duration": 0.355642,
     "end_time": "2022-03-23T18:10:54.405618",
     "exception": false,
     "start_time": "2022-03-23T18:10:54.049976",
     "status": "completed"
    },
    "tags": []
   },
   "outputs": [],
   "source": [
    "sk_predictor.delete_model()\n",
    "sk_predictor.delete_endpoint()"
   ]
  }
 ],
 "metadata": {
  "kernelspec": {
   "display_name": "conda_python3",
   "language": "python",
   "name": "conda_python3"
  },
  "language_info": {
   "codemirror_mode": {
    "name": "ipython",
    "version": 3
   },
   "file_extension": ".py",
   "mimetype": "text/x-python",
   "name": "python",
   "nbconvert_exporter": "python",
   "pygments_lexer": "ipython3",
   "version": "3.7.10"
  },
  "papermill": {
   "default_parameters": {},
   "duration": 379.431421,
   "end_time": "2022-03-23T18:10:54.836639",
   "environment_variables": {},
   "exception": null,
   "input_path": "sklearn_byom.ipynb",
   "output_path": "/opt/ml/processing/output/sklearn_byom-2022-03-23-17-59-55.ipynb",
   "parameters": {
    "kms_key": "arn:aws:kms:us-west-2:000000000000:1234abcd-12ab-34cd-56ef-1234567890ab"
   },
   "start_time": "2022-03-23T18:04:35.405218",
   "version": "2.3.4"
  }
 },
 "nbformat": 4,
 "nbformat_minor": 5
}