{
 "cells": [
  {
   "cell_type": "code",
   "execution_count": 1,
   "id": "bc0f90b0",
   "metadata": {
    "execution": {
     "iopub.execute_input": "2022-03-24T00:09:04.533312Z",
     "iopub.status.busy": "2022-03-24T00:09:04.532579Z",
     "iopub.status.idle": "2022-03-24T00:09:04.534431Z",
     "shell.execute_reply": "2022-03-24T00:09:04.534806Z"
    },
    "papermill": {
     "duration": 0.01097,
     "end_time": "2022-03-24T00:09:04.534968",
     "exception": false,
     "start_time": "2022-03-24T00:09:04.523998",
     "status": "completed"
    },
    "tags": [
     "injected-parameters"
    ]
   },
   "outputs": [],
   "source": [
    "# Parameters\n",
    "kms_key = \"arn:aws:kms:us-west-2:000000000000:1234abcd-12ab-34cd-56ef-1234567890ab\"\n"
   ]
  },
  {
   "cell_type": "markdown",
   "id": "a9cbcca1",
   "metadata": {
    "papermill": {
     "duration": 0.004834,
     "end_time": "2022-03-24T00:09:04.544934",
     "exception": false,
     "start_time": "2022-03-24T00:09:04.540100",
     "status": "completed"
    },
    "tags": []
   },
   "source": [
    "# Basic SageMaker Processing Script\n",
    "\n",
    "This notebook corresponds to the section \"Preprocessing Data With The Built-In Scikit-Learn Container\" in [this](https://aws.amazon.com/blogs/aws/amazon-sagemaker-processing-fully-managed-data-processing-and-model-evaluation/) blog post. \n",
    "It shows a very basic example of using SageMaker Processing to create train, test and validation datasets. SageMaker Processing is used to create these datasets, which then are written back to S3.\n",
    "\n",
    "First, let’s create an SKLearnProcessor object, passing the scikit-learn version we want to use, as well as our managed infrastructure requirements."
   ]
  },
  {
   "cell_type": "code",
   "execution_count": 2,
   "id": "e8832270",
   "metadata": {
    "execution": {
     "iopub.execute_input": "2022-03-24T00:09:04.558909Z",
     "iopub.status.busy": "2022-03-24T00:09:04.558437Z",
     "iopub.status.idle": "2022-03-24T00:09:05.651338Z",
     "shell.execute_reply": "2022-03-24T00:09:05.650862Z"
    },
    "papermill": {
     "duration": 1.101765,
     "end_time": "2022-03-24T00:09:05.651461",
     "exception": false,
     "start_time": "2022-03-24T00:09:04.549696",
     "status": "completed"
    },
    "tags": []
   },
   "outputs": [],
   "source": [
    "import boto3\n",
    "import sagemaker\n",
    "from sagemaker import get_execution_role\n",
    "from sagemaker.sklearn.processing import SKLearnProcessor\n",
    "\n",
    "region = sagemaker.Session().boto_region_name\n",
    "\n",
    "role = get_execution_role()\n",
    "sklearn_processor = SKLearnProcessor(\n",
    "    framework_version=\"0.20.0\", role=role, instance_type=\"ml.m5.xlarge\", instance_count=1\n",
    ")"
   ]
  },
  {
   "cell_type": "markdown",
   "id": "032f3de9",
   "metadata": {
    "papermill": {
     "duration": 0.00497,
     "end_time": "2022-03-24T00:09:05.661515",
     "exception": false,
     "start_time": "2022-03-24T00:09:05.656545",
     "status": "completed"
    },
    "tags": []
   },
   "source": [
    "Read in the raw data from a public S3 bucket"
   ]
  },
  {
   "cell_type": "code",
   "execution_count": 3,
   "id": "47e7c653",
   "metadata": {
    "execution": {
     "iopub.execute_input": "2022-03-24T00:09:05.683552Z",
     "iopub.status.busy": "2022-03-24T00:09:05.683070Z",
     "iopub.status.idle": "2022-03-24T00:09:06.563598Z",
     "shell.execute_reply": "2022-03-24T00:09:06.563144Z"
    },
    "papermill": {
     "duration": 0.896974,
     "end_time": "2022-03-24T00:09:06.563712",
     "exception": false,
     "start_time": "2022-03-24T00:09:05.666738",
     "status": "completed"
    },
    "tags": []
   },
   "outputs": [],
   "source": [
    "import pandas as pd\n",
    "\n",
    "s3 = boto3.client(\"s3\")\n",
    "s3.download_file(\n",
    "    \"sagemaker-sample-data-{}\".format(region),\n",
    "    \"processing/census/census-income.csv\",\n",
    "    \"census-income.csv\",\n",
    ")\n",
    "df = pd.read_csv(\"census-income.csv\", nrows=10)\n",
    "df.to_csv(\"dataset.csv\")\n",
    "# df.head(n=10)"
   ]
  },
  {
   "cell_type": "markdown",
   "id": "bb28c528",
   "metadata": {
    "papermill": {
     "duration": 0.004949,
     "end_time": "2022-03-24T00:09:06.573800",
     "exception": false,
     "start_time": "2022-03-24T00:09:06.568851",
     "status": "completed"
    },
    "tags": []
   },
   "source": [
    "write the processing script that will be used by SageMaker Processing"
   ]
  },
  {
   "cell_type": "code",
   "execution_count": 4,
   "id": "59637f04",
   "metadata": {
    "execution": {
     "iopub.execute_input": "2022-03-24T00:09:06.588621Z",
     "iopub.status.busy": "2022-03-24T00:09:06.587887Z",
     "iopub.status.idle": "2022-03-24T00:09:06.591056Z",
     "shell.execute_reply": "2022-03-24T00:09:06.590656Z"
    },
    "papermill": {
     "duration": 0.01241,
     "end_time": "2022-03-24T00:09:06.591165",
     "exception": false,
     "start_time": "2022-03-24T00:09:06.578755",
     "status": "completed"
    },
    "tags": []
   },
   "outputs": [
    {
     "name": "stdout",
     "output_type": "stream",
     "text": [
      "Writing preprocessing.py\n"
     ]
    }
   ],
   "source": [
    "%%writefile preprocessing.py\n",
    "import pandas as pd\n",
    "import os\n",
    "from sklearn.model_selection import train_test_split\n",
    "\n",
    "# Read data locally\n",
    "input_data_path = os.path.join(\"/opt/ml/processing/input\", \"dataset.csv\")\n",
    "# Preprocess the data set\n",
    "df = pd.read_csv(input_data_path)\n",
    "downsampled = df\n",
    "print(\"shape of data is:\")\n",
    "print(downsampled.shape)\n",
    "# Split data set into training, validation, and test\n",
    "train, test = train_test_split(downsampled, test_size=0.2)\n",
    "train, validation = train_test_split(train, test_size=0.2)\n",
    "# Create local output directories\n",
    "try:\n",
    "    os.makedirs(\"/opt/ml/processing/output/train\")\n",
    "    os.makedirs(\"/opt/ml/processing/output/validation\")\n",
    "    os.makedirs(\"/opt/ml/processing/output/test\")\n",
    "    print(\"Successfully created directories\")\n",
    "except Exception as e:\n",
    "    # if the Processing call already creates these directories (or directory otherwise cannot be created)\n",
    "    print(e)\n",
    "    print(\"Could Not Make Directories\")\n",
    "    pass\n",
    "\n",
    "# Save data locally\n",
    "try:\n",
    "    train.to_csv(\"/opt/ml/processing/output/train/train.csv\")\n",
    "    validation.to_csv(\"/opt/ml/processing/output/validation/validation.csv\")\n",
    "    test.to_csv(\"/opt/ml/processing/output/test/test.csv\")\n",
    "    print(\"Files Successfully Written\")\n",
    "except Exception as e:\n",
    "    print(\"Could Not Write the Files\")\n",
    "    print(e)\n",
    "    pass\n",
    "\n",
    "print(\"Finished running processing job\")"
   ]
  },
  {
   "cell_type": "markdown",
   "id": "96009371",
   "metadata": {
    "papermill": {
     "duration": 0.00529,
     "end_time": "2022-03-24T00:09:06.602072",
     "exception": false,
     "start_time": "2022-03-24T00:09:06.596782",
     "status": "completed"
    },
    "tags": []
   },
   "source": [
    "Now Execute the Processing Job"
   ]
  },
  {
   "cell_type": "code",
   "execution_count": 5,
   "id": "253832c3",
   "metadata": {
    "execution": {
     "iopub.execute_input": "2022-03-24T00:09:06.617539Z",
     "iopub.status.busy": "2022-03-24T00:09:06.617063Z",
     "iopub.status.idle": "2022-03-24T00:13:49.165881Z",
     "shell.execute_reply": "2022-03-24T00:13:49.165360Z"
    },
    "papermill": {
     "duration": 282.558634,
     "end_time": "2022-03-24T00:13:49.165996",
     "exception": false,
     "start_time": "2022-03-24T00:09:06.607362",
     "status": "completed"
    },
    "tags": []
   },
   "outputs": [
    {
     "name": "stdout",
     "output_type": "stream",
     "text": [
      "\n",
      "Job Name:  sagemaker-scikit-learn-2022-03-24-00-09-06-616\n",
      "Inputs:  [{'InputName': 'input-1', 'AppManaged': False, 'S3Input': {'S3Uri': 's3://sagemaker-us-west-2-000000000000/sagemaker-scikit-learn-2022-03-24-00-09-06-616/input/input-1/dataset.csv', 'LocalPath': '/opt/ml/processing/input', 'S3DataType': 'S3Prefix', 'S3InputMode': 'File', 'S3DataDistributionType': 'FullyReplicated', 'S3CompressionType': 'None'}}, {'InputName': 'code', 'AppManaged': False, 'S3Input': {'S3Uri': 's3://sagemaker-us-west-2-000000000000/sagemaker-scikit-learn-2022-03-24-00-09-06-616/input/code/preprocessing.py', 'LocalPath': '/opt/ml/processing/input/code', 'S3DataType': 'S3Prefix', 'S3InputMode': 'File', 'S3DataDistributionType': 'FullyReplicated', 'S3CompressionType': 'None'}}]\n",
      "Outputs:  [{'OutputName': 'output-1', 'AppManaged': False, 'S3Output': {'S3Uri': 's3://sagemaker-us-west-2-000000000000/sagemaker-scikit-learn-2022-03-24-00-09-06-616/output/output-1', 'LocalPath': '/opt/ml/processing/output/train', 'S3UploadMode': 'EndOfJob'}}, {'OutputName': 'output-2', 'AppManaged': False, 'S3Output': {'S3Uri': 's3://sagemaker-us-west-2-000000000000/sagemaker-scikit-learn-2022-03-24-00-09-06-616/output/output-2', 'LocalPath': '/opt/ml/processing/output/validation', 'S3UploadMode': 'EndOfJob'}}, {'OutputName': 'output-3', 'AppManaged': False, 'S3Output': {'S3Uri': 's3://sagemaker-us-west-2-000000000000/sagemaker-scikit-learn-2022-03-24-00-09-06-616/output/output-3', 'LocalPath': '/opt/ml/processing/output/test', 'S3UploadMode': 'EndOfJob'}}]\n"
     ]
    },
    {
     "name": "stdout",
     "output_type": "stream",
     "text": [
      "."
     ]
    },
    {
     "name": "stdout",
     "output_type": "stream",
     "text": [
      "."
     ]
    },
    {
     "name": "stdout",
     "output_type": "stream",
     "text": [
      "."
     ]
    },
    {
     "name": "stdout",
     "output_type": "stream",
     "text": [
      "."
     ]
    },
    {
     "name": "stdout",
     "output_type": "stream",
     "text": [
      "."
     ]
    },
    {
     "name": "stdout",
     "output_type": "stream",
     "text": [
      "."
     ]
    },
    {
     "name": "stdout",
     "output_type": "stream",
     "text": [
      "."
     ]
    },
    {
     "name": "stdout",
     "output_type": "stream",
     "text": [
      "."
     ]
    },
    {
     "name": "stdout",
     "output_type": "stream",
     "text": [
      "."
     ]
    },
    {
     "name": "stdout",
     "output_type": "stream",
     "text": [
      "."
     ]
    },
    {
     "name": "stdout",
     "output_type": "stream",
     "text": [
      "."
     ]
    },
    {
     "name": "stdout",
     "output_type": "stream",
     "text": [
      "."
     ]
    },
    {
     "name": "stdout",
     "output_type": "stream",
     "text": [
      "."
     ]
    },
    {
     "name": "stdout",
     "output_type": "stream",
     "text": [
      "."
     ]
    },
    {
     "name": "stdout",
     "output_type": "stream",
     "text": [
      "."
     ]
    },
    {
     "name": "stdout",
     "output_type": "stream",
     "text": [
      "."
     ]
    },
    {
     "name": "stdout",
     "output_type": "stream",
     "text": [
      "."
     ]
    },
    {
     "name": "stdout",
     "output_type": "stream",
     "text": [
      "."
     ]
    },
    {
     "name": "stdout",
     "output_type": "stream",
     "text": [
      "."
     ]
    },
    {
     "name": "stdout",
     "output_type": "stream",
     "text": [
      "."
     ]
    },
    {
     "name": "stdout",
     "output_type": "stream",
     "text": [
      "."
     ]
    },
    {
     "name": "stdout",
     "output_type": "stream",
     "text": [
      "."
     ]
    },
    {
     "name": "stdout",
     "output_type": "stream",
     "text": [
      "."
     ]
    },
    {
     "name": "stdout",
     "output_type": "stream",
     "text": [
      "."
     ]
    },
    {
     "name": "stdout",
     "output_type": "stream",
     "text": [
      "."
     ]
    },
    {
     "name": "stdout",
     "output_type": "stream",
     "text": [
      "."
     ]
    },
    {
     "name": "stdout",
     "output_type": "stream",
     "text": [
      "."
     ]
    },
    {
     "name": "stdout",
     "output_type": "stream",
     "text": [
      "\n",
      "\u001b[34m/miniconda3/lib/python3.7/site-packages/sklearn/externals/joblib/externals/cloudpickle/cloudpickle.py:47: DeprecationWarning: the imp module is deprecated in favour of importlib; see the module's documentation for alternative uses\n",
      "  import imp\u001b[0m\n",
      "\u001b[34mshape of data is:\u001b[0m\n",
      "\u001b[34m(10, 43)\u001b[0m\n",
      "\u001b[34m[Errno 17] File exists: '/opt/ml/processing/output/train'\u001b[0m\n",
      "\u001b[34mCould Not Make Directories\u001b[0m\n",
      "\u001b[34mFiles Successfully Written\u001b[0m\n",
      "\u001b[34mFinished running processing job\u001b[0m\n"
     ]
    }
   ],
   "source": [
    "from sagemaker.processing import ProcessingInput, ProcessingOutput\n",
    "\n",
    "sklearn_processor.run(\n",
    "    code=\"preprocessing.py\",\n",
    "    # arguments = ['arg1', 'arg2'],\n",
    "    inputs=[ProcessingInput(source=\"dataset.csv\", destination=\"/opt/ml/processing/input\")],\n",
    "    outputs=[\n",
    "        ProcessingOutput(source=\"/opt/ml/processing/output/train\"),\n",
    "        ProcessingOutput(source=\"/opt/ml/processing/output/validation\"),\n",
    "        ProcessingOutput(source=\"/opt/ml/processing/output/test\"),\n",
    "    ],\n",
    ")"
   ]
  },
  {
   "cell_type": "code",
   "execution_count": null,
   "id": "6a3f9140",
   "metadata": {
    "papermill": {
     "duration": 0.011395,
     "end_time": "2022-03-24T00:13:49.188879",
     "exception": false,
     "start_time": "2022-03-24T00:13:49.177484",
     "status": "completed"
    },
    "tags": []
   },
   "outputs": [],
   "source": []
  }
 ],
 "metadata": {
  "kernelspec": {
   "display_name": "Python 3",
   "language": "python",
   "name": "python3"
  },
  "language_info": {
   "codemirror_mode": {
    "name": "ipython",
    "version": 3
   },
   "file_extension": ".py",
   "mimetype": "text/x-python",
   "name": "python",
   "nbconvert_exporter": "python",
   "pygments_lexer": "ipython3",
   "version": "3.7.10"
  },
  "papermill": {
   "default_parameters": {},
   "duration": 285.900907,
   "end_time": "2022-03-24T00:13:49.617707",
   "environment_variables": {},
   "exception": null,
   "input_path": "basic_sagemaker_processing.ipynb",
   "output_path": "/opt/ml/processing/output/basic_sagemaker_processing-2022-03-24-00-04-16.ipynb",
   "parameters": {
    "kms_key": "arn:aws:kms:us-west-2:000000000000:1234abcd-12ab-34cd-56ef-1234567890ab"
   },
   "start_time": "2022-03-24T00:09:03.716800",
   "version": "2.3.4"
  }
 },
 "nbformat": 4,
 "nbformat_minor": 5
}