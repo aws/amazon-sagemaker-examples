{
 "cells": [
  {
   "cell_type": "markdown",
   "id": "da30579c",
   "metadata": {},
   "source": [
    "# Distributed data parallel RNN-T training with PyTorch and SageMaker distributed\n",
    "\n",
    "[Amazon SageMaker's distributed library](https://docs.aws.amazon.com/sagemaker/latest/dg/distributed-training.html) can be used to train deep learning models faster and cheaper. The [data parallel](https://docs.aws.amazon.com/sagemaker/latest/dg/data-parallel.html) feature in this library (`smdistributed.dataparallel`) is a distributed data parallel training framework for PyTorch, TensorFlow, and MXNet.\n",
    "\n",
    "This notebook demonstrates how to use `smdistributed.dataparallel` with PyTorch(version 1.10.2) on [Amazon SageMaker](https://aws.amazon.com/sagemaker/) to train an RNN-T model on [`LibriSpeech`](http://www.openslr.org/12) (License: [CC BY 4.0](https://creativecommons.org/licenses/by/4.0/)) using [Amazon FSx for Lustre file-system](https://aws.amazon.com/fsx/lustre/) as data source.\n",
    "\n",
    "The outline of steps is as follows:\n",
    "\n",
    "1. Stage the `LibriSpeech` dataset on [Amazon S3](https://aws.amazon.com/s3/)\n",
    "2. Create Amazon FSx Lustre file-system and import data into the file-system from S3\n",
    "3. Build Docker training image and push it to [Amazon ECR](https://aws.amazon.com/ecr/)\n",
    "4. Configure data input channels for SageMaker\n",
    "5. Configure hyper-prarameters\n",
    "6. Define training metrics\n",
    "7. Define training job, set distribution strategy to `SMDataParallel` and start training\n",
    "\n",
    "**NOTE:** With large training dataset, we recommend using [Amazon FSx](https://aws.amazon.com/fsx/) as the input file system for the SageMaker training job. FSx file input to SageMaker significantly cuts down training start up time on SageMaker because it avoids downloading the training data each time you start the training job (as done with S3 input for SageMaker training job) and provides good data read throughput.\n",
    "\n",
    "\n",
    "**NOTE:** This example requires `SageMaker Python SDK v2.X`."
   ]
  },
  {
   "cell_type": "markdown",
   "id": "62f99a96",
   "metadata": {},
   "source": [
    "## Amazon SageMaker Initialization\n",
    "\n",
    "Initialize the notebook instance. Get the AWS Region and a SageMaker execution role.\n",
    "\n",
    "### SageMaker role\n",
    "\n",
    "The following code cell defines `role` which is the IAM role ARN used to create and run SageMaker training and hosting jobs. This is the same IAM role used to create this SageMaker Notebook instance. \n",
    "\n",
    "`role` must have permission to create a SageMaker training job and host a model. For granular policies you can use to grant these permissions, see [Amazon SageMaker Roles](https://docs.aws.amazon.com/sagemaker/latest/dg/sagemaker-roles.html). If you do not require fine-tuned permissions for this demo, you can use the IAM managed policy `AmazonSageMakerFullAccess` to complete this demo. \n",
    "\n",
    "As described above, since we will be using FSx, please make sure to attach `FSx Access` permission to this IAM role."
   ]
  },
  {
   "cell_type": "code",
   "execution_count": null,
   "id": "458ee12e",
   "metadata": {},
   "outputs": [],
   "source": [
    "%%time\n",
    "! python3 -m pip install --upgrade sagemaker\n",
    "import sagemaker\n",
    "from sagemaker import get_execution_role\n",
    "from sagemaker.estimator import Estimator\n",
    "import boto3\n",
    "\n",
    "sagemaker_session = sagemaker.Session()\n",
    "bucket = sagemaker_session.default_bucket()\n",
    "\n",
    "role = (\n",
    "    get_execution_role()\n",
    ")  # provide a pre-existing role ARN as an alternative to creating a new role\n",
    "role_name = role.split([\"/\"][-1])\n",
    "print(f\"SageMaker Execution Role:{role}\")\n",
    "print(f\"The name of the Execution role: {role_name[-1]}\")\n",
    "\n",
    "client = boto3.client(\"sts\")\n",
    "account = client.get_caller_identity()[\"Account\"]\n",
    "print(f\"AWS account:{account}\")\n",
    "\n",
    "session = boto3.session.Session()\n",
    "region = session.region_name\n",
    "print(f\"AWS region:{region}\")"
   ]
  },
  {
   "cell_type": "markdown",
   "id": "df1ac155",
   "metadata": {},
   "source": [
    "To verify that the role above has required permissions:\n",
    "\n",
    "1. Go to the IAM console: https://console.aws.amazon.com/iam/home.\n",
    "2. Select **Roles**.\n",
    "3. Enter the role name in the search box to search for that role. \n",
    "4. Select the role.\n",
    "5. Use the **Permissions** tab to verify this role has required permissions attached."
   ]
  },
  {
   "cell_type": "markdown",
   "id": "40310447",
   "metadata": {},
   "source": [
    "## Prepare SageMaker Training Images\n",
    "\n",
    "1. SageMaker by default uses the latest [Amazon Deep Learning Container Images (DLC)](https://github.com/aws/deep-learning-containers/blob/master/available_images.md) PyTorch training image. In this step, we use it as a base image and install additional dependencies required for training the RNN-T model.\n",
    "2. In the GitHub repository https://github.com/HerringForks/SMDDP-Examples/tree/main/pytorch/rnnt we have forked an RNN-T example from [ml commons/training_results_v1.0](https://github.com/mlcommons/training_results_v1.0/tree/master/NVIDIA/benchmarks/rnnt/implementations/pytorch) and adapted the training script to work with `smdistributed.dataparallel`. We will use the `Dockerfile` provided there."
   ]
  },
  {
   "cell_type": "code",
   "execution_count": null,
   "id": "c2470ba3",
   "metadata": {},
   "outputs": [],
   "source": [
    "# login to ecr\n",
    "! aws ecr get-login-password --region {region} | docker login --username AWS --password-stdin 763104351884.dkr.ecr.{region}.amazonaws.com"
   ]
  },
  {
   "cell_type": "code",
   "execution_count": null,
   "id": "47b97f90",
   "metadata": {},
   "outputs": [],
   "source": [
    "# clone the SMDDP-example repo\n",
    "! rm -rf SMDDP-Examples && git clone https://github.com/HerringForks/SMDDP-Examples && cd SMDDP-Examples/pytorch/rnnt"
   ]
  },
  {
   "cell_type": "code",
   "execution_count": null,
   "id": "3eb2d3e5",
   "metadata": {},
   "outputs": [],
   "source": [
    "# build the image\n",
    "! cd SMDDP-Examples/pytorch/rnnt && bash scripts/docker/build.sh {region}"
   ]
  },
  {
   "cell_type": "code",
   "execution_count": null,
   "id": "ed65e9b7",
   "metadata": {},
   "outputs": [],
   "source": [
    "# name the image\n",
    "image = \"rnnt-smdataparallel-sagemaker\"  # Example: rnnt-smdataparallel-sagemaker\n",
    "tag = \"pt1.10.2\"  # Example: pt1.10.2"
   ]
  },
  {
   "cell_type": "code",
   "execution_count": null,
   "id": "ba3f3865",
   "metadata": {},
   "outputs": [],
   "source": [
    "# tag the image we just built and push it to ecr\n",
    "! chmod +x tag_and_push.sh; bash tag_and_push.sh {region} {image} {tag}"
   ]
  },
  {
   "cell_type": "markdown",
   "id": "3c4f0f3d",
   "metadata": {},
   "source": [
    "## Preparing FSx Input for SageMaker\n",
    "\n",
    "1. Download and prepare your training dataset on S3, please refer to the [instructions](https://github.com/mlcommons/training_results_v1.0/tree/master/NVIDIA/benchmarks/rnnt/implementations/pytorch#steps-to-download-data). \n",
    "2. Follow the [steps](https://docs.aws.amazon.com/fsx/latest/LustreGuide/create-fs-linked-data-repo.html) to create a FSx linked with your S3 bucket with training data. Make sure to add an endpoint to your VPC allowing S3 access.\n",
    "3. Follow the [steps](https://aws.amazon.com/blogs/machine-learning/speed-up-training-on-amazon-sagemaker-using-amazon-efs-or-amazon-fsx-for-lustre-file-systems/) to configure your SageMaker training job to use FSx.\n",
    "\n",
    "### Important Caveats\n",
    "\n",
    "1. You need to use the same `subnet` and `vpc` and `security group` used with FSx when launching the SageMaker notebook instance. The same configurations will be used by your SageMaker training job.\n",
    "2. Make sure you set [appropriate inbound/output rules](https://docs.aws.amazon.com/fsx/latest/LustreGuide/limit-access-security-groups.html) in the `security group`. Specifically, opening up these ports is necessary for SageMaker to access the FSx file system in the training job. \n",
    "3. Make sure `SageMaker IAM Role` used to launch this SageMaker training job has access to `AmazonFSx`."
   ]
  },
  {
   "cell_type": "markdown",
   "id": "76f9e422",
   "metadata": {},
   "source": [
    "## SageMaker PyTorch Estimator function options\n",
    "\n",
    "In the following code block, you can update the estimator function to use a different instance type, instance count, and distribution strategy. You're also passing in the training script you reviewed in the previous cell.\n",
    "\n",
    "**Instance types**\n",
    "\n",
    "`SMDataParallel` supports model training on SageMaker with the following instance types only. For best performance, it is recommended you use an instance type that supports Amazon Elastic Fabric Adapter (ml.p3dn.24xlarge and ml.p4d.24xlarge).\n",
    "\n",
    "1. ml.p3.16xlarge\n",
    "1. ml.p3dn.24xlarge [Recommended]\n",
    "1. ml.p4d.24xlarge [Recommended]\n",
    "\n",
    "**Instance count**\n",
    "\n",
    "To get the best performance and the most out of `SMDataParallel`, you should use at least 2 instances, but you can also use 1 for testing this example.\n",
    "\n",
    "**Distribution strategy**\n",
    "\n",
    "Note that to use DDP mode, you need to update the `distribution` strategy, and set it to use `smdistributed dataparallel`. "
   ]
  },
  {
   "cell_type": "code",
   "execution_count": null,
   "id": "7f29e5f9",
   "metadata": {},
   "outputs": [],
   "source": [
    "import os\n",
    "from sagemaker.pytorch import PyTorch"
   ]
  },
  {
   "cell_type": "code",
   "execution_count": null,
   "id": "06c048ef",
   "metadata": {},
   "outputs": [],
   "source": [
    "instance_type = \"ml.p4d.24xlarge\"  # \"ml.p3dn.24xlarge\"  # Other supported instance type: ml.p3.16xlarge, ml.p4d.24xlarge\n",
    "instance_count = 2  # You can use 2, 4, 8 etc.\n",
    "docker_image = f\"{account}.dkr.ecr.{region}.amazonaws.com/{image}:{tag}\"  # YOUR_ECR_IMAGE_BUILT_WITH_ABOVE_DOCKER_FILE\n",
    "username = \"AWS\"\n",
    "subnets = [\"<subnet_id>\"]  # Should be same as Subnet used for FSx. Example: subnet-0f9XXXX\n",
    "security_group_ids = [\n",
    "    \"<security_group_id>\"\n",
    "]  # Should be same as Security group used for FSx. sg-03ZZZZZZ\n",
    "job_name = \"pytorch-smdataparallel-rnnt\"  # This job name is used as prefix to the sagemaker training job. Makes it easy for your look for your training job in SageMaker Training job console.\n",
    "file_system_id = \"<fsx_id>\"  # FSx file system ID with your training dataset. Example: 'fs-0bYYYYYY'"
   ]
  },
  {
   "cell_type": "code",
   "execution_count": null,
   "id": "c5cb8d24",
   "metadata": {},
   "outputs": [],
   "source": [
    "# Configure the RNN-T hyper-parameters\n",
    "hyperparameters = {\n",
    "    \"batch_size\": 48,\n",
    "    \"beta1\": 0.9,\n",
    "    \"beta2\": 0.999,\n",
    "    \"max_duration\": 16.7,\n",
    "    \"val_batch_size\": 44,\n",
    "    \"target\": 0.058,\n",
    "    \"lr\": 0.007,\n",
    "    \"min_lr\": 1e-5,\n",
    "    \"lr_exp_gamma\": 0.939,\n",
    "    \"epochs\": 80,\n",
    "    \"warmup_epochs\": 6,\n",
    "    \"hold_epochs\": 33,\n",
    "    \"epochs_this_job\": 0,\n",
    "    \"ema\": 0.995,\n",
    "    \"model_config\": \"/workspace/rnnt/configs/baseline_v3-1023sp.yaml\",\n",
    "    \"seed\": 28400,\n",
    "    \"cudnn_benchmark\": \"\",\n",
    "    \"dali_device\": \"gpu\",\n",
    "    \"weight_decay\": 1e-3,\n",
    "    \"log_frequency\": 1,  #!!\n",
    "    \"val_frequency\": 1,\n",
    "    \"grad_accumulation_steps\": 1,\n",
    "    \"prediction_frequency\": 100000000,\n",
    "    \"weights_init_scale\": 0.5,\n",
    "    \"save_at_the_end\": \"\",\n",
    "    \"max_symbol_per_sample\": 300,\n",
    "    \"apex_transducer_loss\": \"fp16\",\n",
    "    \"fuse_relu_dropout\": \"\",\n",
    "    \"multi_tensor_ema\": \"\",\n",
    "    \"batch_eval_mode\": \"cg_unroll_pipeline\",\n",
    "    \"apex_transducer_joint\": \"pack\",\n",
    "    \"buffer_pre_alloc\": \"\",\n",
    "    \"ema_update_type\": \"fp16\",\n",
    "    \"amp_level\": 2,\n",
    "    \"data_cpu_threads\": 8,\n",
    "    \"batch_split_factor\": 1,\n",
    "    \"min_seq_split_len\": 20,\n",
    "    \"vectorized_sa\": \"\",\n",
    "    \"multilayer_lstm\": \"\",\n",
    "    \"enable_prefetch\": \"\",\n",
    "    \"tokenized_transcript\": \"\",\n",
    "    \"vectorized_sampler\": \"\",\n",
    "    \"dist_sampler\": \"\",\n",
    "    \"apex_mlp\": \"\",\n",
    "    \"pre_sort_for_seq_split\": \"\",\n",
    "    \"jit_tensor_formation\": \"\",\n",
    "}"
   ]
  },
  {
   "cell_type": "code",
   "execution_count": null,
   "id": "eb851f8d",
   "metadata": {},
   "outputs": [],
   "source": [
    "estimator = PyTorch(\n",
    "    entry_point=\"entry_point.py\",\n",
    "    role=role,\n",
    "    image_uri=docker_image,\n",
    "    source_dir=\".\",\n",
    "    instance_count=instance_count,\n",
    "    instance_type=instance_type,\n",
    "    py_version=\"py38\",\n",
    "    sagemaker_session=sagemaker_session,\n",
    "    hyperparameters=hyperparameters,\n",
    "    subnets=subnets,\n",
    "    security_group_ids=security_group_ids,\n",
    "    debugger_hook_config=False,\n",
    "    # Training using SageMaker distributed dataparallel Distributed Training Framework\n",
    "    distribution={\"smdistributed\": {\"dataparallel\": {\"enabled\": True}}},\n",
    ")"
   ]
  },
  {
   "cell_type": "code",
   "execution_count": null,
   "id": "65793fb7",
   "metadata": {},
   "outputs": [],
   "source": [
    "# Configure FSx Input for your SageMaker Training job\n",
    "\n",
    "from sagemaker.inputs import FileSystemInput\n",
    "\n",
    "file_system_directory_path = \"/<mount_name>/<path_to_dataset>\"  # NOTE: '/fsx/' will be the root mount path. Example: '/fsx/rnnt/PyTorch'\n",
    "file_system_access_mode = \"ro\"\n",
    "file_system_type = \"FSxLustre\"\n",
    "train_fs = FileSystemInput(\n",
    "    file_system_id=file_system_id,\n",
    "    file_system_type=file_system_type,\n",
    "    directory_path=file_system_directory_path,\n",
    "    file_system_access_mode=file_system_access_mode,\n",
    ")\n",
    "data_channels = {\"train\": train_fs}"
   ]
  },
  {
   "cell_type": "code",
   "execution_count": null,
   "id": "aa66fdcb",
   "metadata": {},
   "outputs": [],
   "source": [
    "# Submit SageMaker training job\n",
    "estimator.fit(inputs=data_channels, job_name=job_name)"
   ]
  },
  {
   "cell_type": "code",
   "execution_count": null,
   "id": "fca0ffd2",
   "metadata": {},
   "outputs": [],
   "source": []
  }
 ],
 "metadata": {
  "kernelspec": {
   "display_name": "conda_python3",
   "language": "python",
   "name": "conda_python3"
  },
  "language_info": {
   "codemirror_mode": {
    "name": "ipython",
    "version": 3
   },
   "file_extension": ".py",
   "mimetype": "text/x-python",
   "name": "python",
   "nbconvert_exporter": "python",
   "pygments_lexer": "ipython3",
   "version": "3.6.13"
  }
 },
 "nbformat": 4,
 "nbformat_minor": 5
}
