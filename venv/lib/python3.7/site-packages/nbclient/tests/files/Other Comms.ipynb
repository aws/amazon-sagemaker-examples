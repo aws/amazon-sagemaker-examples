{
 "cells": [
  {
   "cell_type": "code",
   "execution_count": 1,
   "metadata": {
    "ExecuteTime": {
     "end_time": "2020-05-29T11:16:26.365338Z",
     "start_time": "2020-05-29T11:16:26.362047Z"
    }
   },
   "outputs": [],
   "source": [
    "from ipykernel.comm import Comm"
   ]
  },
  {
   "cell_type": "code",
   "execution_count": 2,
   "metadata": {
    "ExecuteTime": {
     "end_time": "2020-05-29T11:16:26.377700Z",
     "start_time": "2020-05-29T11:16:26.371603Z"
    }
   },
   "outputs": [],
   "source": [
    "comm = Comm('this-comm-tests-a-missing-handler', data={'id': 'foo'})"
   ]
  },
  {
   "cell_type": "code",
   "execution_count": 3,
   "metadata": {
    "ExecuteTime": {
     "end_time": "2020-05-29T11:16:26.584520Z",
     "start_time": "2020-05-29T11:16:26.581213Z"
    }
   },
   "outputs": [],
   "source": [
    "comm.send(data={'id': 'bar'})"
   ]
  }
 ],
 "metadata": {
  "kernelspec": {
   "display_name": "Python 3",
   "language": "python",
   "name": "python3"
  },
  "language_info": {
   "codemirror_mode": {
    "name": "ipython",
    "version": 3
   },
   "file_extension": ".py",
   "mimetype": "text/x-python",
   "name": "python",
   "nbconvert_exporter": "python",
   "pygments_lexer": "ipython3",
   "version": "3.7.3"
  }
 },
 "nbformat": 4,
 "nbformat_minor": 2
}
