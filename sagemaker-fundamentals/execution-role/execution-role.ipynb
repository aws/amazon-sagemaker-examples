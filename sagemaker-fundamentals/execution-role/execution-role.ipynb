{
 "cells": [
  {
   "cell_type": "markdown",
   "metadata": {},
   "source": [
    "# IAM Role\n",
    "\n",
    "In this notebook we will go over IAM Roles and set up a role that you will use in throughout notebooks found in '/sagemaker-fundamentals'. An IAM role is an identity associated with your AWS account that has pre-configured permission policies that determine what this role can do and with respect to your AWS resources. For example, you can define a role that can do *everything* to your S3 resource but nothing else. Such a role is useful if it is *assumed* by a program that synchronize your data from your local machine to an S3 bucket. You can be certain that this program would not accidently create EC2 instances that incur higher costs. \n",
    "\n",
    "\n",
    "IAM Roles are used to grant permissions to AWS services to procure resources on your behalf. When you use an AWS service(e.g. SageMaker), you can define a role that the service can assume on your behalf to access the AWS resources. For example, SageMaker service needs to access S3 buckets, EC2 instances, Elastic Container Registries etc. To avoid incurring too much compute cost, you can define a role that is able to create only low cost EC2 instances. When SageMaker assumes this role and runs your ML workflow, you can estimate the upper bound of the compute cost based on the EC2 policy of the role. \n",
    "\n",
    "For more extensive readings on IAM role, refer to the [AWS documentation](https://docs.aws.amazon.com/IAM/latest/UserGuide/id_roles_terms-and-concepts.html#iam-term-role-chaining)"
   ]
  },
  {
   "cell_type": "markdown",
   "metadata": {},
   "source": [
    "## Environments to run this notebook\n",
    "\n",
    "1. If you are running this notebook from an EC2 instance, then you need to make sure `AWS_PROFILE` environment variable is set to `default`. \n",
    "\n",
    "2. If you are running this notebook on your local machine, you will need to install and configure aws command line interface. Follow [this link](https://docs.aws.amazon.com/cli/latest/userguide/cli-chap-configure.html) to do so. \n",
    "\n",
    "I do not recommend to run it on an SageMaker Notebook Instance or Studio, because the role you used to spin up them is intended to be the same one to pass to SageMaker service for model training and hosting and the purpose of this notebook is to showcase how you can create an IAM role as an IAM user via AWS Python SDK (boto3). "
   ]
  },
  {
   "cell_type": "code",
   "execution_count": null,
   "metadata": {},
   "outputs": [],
   "source": [
    "!pip install -Uq boto3 "
   ]
  },
  {
   "cell_type": "markdown",
   "metadata": {},
   "source": [
    "## Create an IAM Role\n",
    "\n",
    "When you create an IAM role you need to specify\n",
    "1. Which AWS entities (users or services) you trust to assume this role \n",
    "2. What permissions this role has\n",
    "\n",
    "1 is determined by a *trust policy* and 2 is determined by a *permission* policy. For more details see the section [Creating a role to delegate permissions to an AWS service](https://docs.aws.amazon.com/IAM/latest/UserGuide/id_roles_create_for-service.html) from the official doc. \n",
    "\n",
    "The entity that you entrust to assume the role are refered as *Principal* "
   ]
  },
  {
   "cell_type": "code",
   "execution_count": null,
   "metadata": {},
   "outputs": [],
   "source": [
    "import boto3  # your python gate way to all aws services\n",
    "import pprint # print readable dictionary\n",
    "import json\n",
    "import time\n",
    "\n",
    "pp = pprint.PrettyPrinter(indent=1)\n",
    "iam = boto3.client('iam')"
   ]
  },
  {
   "cell_type": "code",
   "execution_count": null,
   "metadata": {},
   "outputs": [],
   "source": [
    "# get the ARN of the user\n",
    "user_arn = boto3.client('sts').get_caller_identity()['Arn']\n",
    "\n",
    "def create_execution_role(role_name=\"basic-role\"):\n",
    "    \"\"\"Create an service role to procure services on your behalf\n",
    "    \n",
    "    Args:\n",
    "        role_name (str): name of the role\n",
    "    \n",
    "    Return:\n",
    "        dict\n",
    "    \"\"\"    \n",
    "    # if the role already exists, delete it\n",
    "    \n",
    "    # Note: you need to make sure the role is not\n",
    "    # used in production, because the code below\n",
    "    # will delete the role and create a new one\n",
    "    role = None\n",
    "    for rol in iam.list_roles()['Roles']:\n",
    "        if rol['RoleName'] == role_name:\n",
    "            # detach policy from the role before deleting it\n",
    "            role = boto3.resource('iam').Role(role_name)\n",
    "            \n",
    "            for p in role.attached_policies.all():\n",
    "                role.detach_policy(PolicyArn=p.arn)\n",
    "            break\n",
    "    \n",
    "    # Trust policy document\n",
    "    trust_relation_policy_doc = {\n",
    "      \"Version\": \"2012-10-17\",\n",
    "      \"Statement\": [\n",
    "        {\n",
    "          \"Effect\": \"Allow\",\n",
    "          \"Principal\": {\n",
    "            \"AWS\": user_arn, # Allow user to take this role\n",
    "            \"Service\": [\n",
    "              \"sagemaker.amazonaws.com\" # Allow SageMaker to take the role\n",
    "            ],\n",
    "          },\n",
    "          \"Action\": \"sts:AssumeRole\",\n",
    "        }\n",
    "      ]\n",
    "    }\n",
    "    \n",
    "    if role is not None:\n",
    "        iam.delete_role(RoleName=role.name)\n",
    "    \n",
    "    res = iam.create_role(\n",
    "        RoleName=role_name,\n",
    "        AssumeRolePolicyDocument=json.dumps(trust_relation_policy_doc)\n",
    "    )\n",
    "    return res"
   ]
  },
  {
   "cell_type": "markdown",
   "metadata": {},
   "source": [
    "The trust policy above says we entrust the user of current boto3 session (most likely yourself) and SageMaker to assume this role. "
   ]
  },
  {
   "cell_type": "code",
   "execution_count": null,
   "metadata": {},
   "outputs": [],
   "source": [
    "role_res = create_execution_role()\n",
    "pp.pprint(role_res)"
   ]
  },
  {
   "cell_type": "markdown",
   "metadata": {},
   "source": [
    "Now, let's give the role some permissions. The dictionary below is an example of policy permission. It says: allow the role to list buckets under the AWS account."
   ]
  },
  {
   "cell_type": "code",
   "execution_count": null,
   "metadata": {},
   "outputs": [],
   "source": [
    "basic_s3_permission = {\n",
    "    \"Version\": \"2012-10-17\",\n",
    "        \"Statement\": [\n",
    "            {\n",
    "                \"Effect\": \"Allow\",\n",
    "                \"Action\": [\n",
    "                    \"s3:List*\" # Allow the role to perform list related actions, i.e read access\n",
    "                    #\"s3:*\" \n",
    "                ],\n",
    "                \"Resource\": [\n",
    "                    \"arn:aws:s3:::*\" \n",
    "                ]\n",
    "            }\n",
    "        ]\n",
    "    }"
   ]
  },
  {
   "cell_type": "code",
   "execution_count": null,
   "metadata": {},
   "outputs": [],
   "source": [
    "def attach_permission(role_name, policy_name, policy_doc):\n",
    "    \"\"\"Attach a basic permission policy to the role\"\"\"\n",
    "\n",
    "    # Create the policy\n",
    "    # If the policy with policy name $policy_name already exists,\n",
    "    # then we need to delete it first\n",
    "    \n",
    "    # Note: you need to make sure that you do not have a policy \n",
    "    # with $policy_name in production, because we will delete it\n",
    "    # and create a new one with the policy document given by \n",
    "    # $policy_doc\n",
    "    \n",
    "    policy = None\n",
    "    for p in iam.list_policies()['Policies']:\n",
    "        if p['PolicyName']==policy_name:\n",
    "            # Before we delete the policy, we need to detach it\n",
    "            # from all IAM entities \n",
    "            policy = boto3.resource('iam').Policy(p['Arn'])\n",
    "            \n",
    "            # 1. detach from all groups\n",
    "            for grp in policy.attached_groups.all():\n",
    "                policy.detach_group(GroupName=grp.name)\n",
    "                \n",
    "            # 2. detach from all users\n",
    "            for usr in policy.attached_users.all():\n",
    "                policy.detach_user(UserName=usr.name)\n",
    "            \n",
    "            # 3. detach from all roles\n",
    "            for rol in policy.attached_roles.all():\n",
    "                policy.detach_role(RoleName=rol.name)\n",
    "                \n",
    "            break\n",
    "    \n",
    "    if policy is not None:\n",
    "        iam.delete_policy(PolicyArn=policy.arn)   \n",
    "    \n",
    "    # create a new policy\n",
    "    policy = iam.create_policy(\n",
    "        PolicyName=policy_name,\n",
    "        PolicyDocument=json.dumps(policy_doc))['Policy']\n",
    "    \n",
    "    # attach the policy to the role\n",
    "    res = iam.attach_role_policy(\n",
    "        RoleName=role_name,\n",
    "        PolicyArn=policy['Arn']\n",
    "        )\n",
    "    return res"
   ]
  },
  {
   "cell_type": "code",
   "execution_count": null,
   "metadata": {},
   "outputs": [],
   "source": [
    "perm_res = attach_permission(\n",
    "    role_name=role_res['Role']['RoleName'],\n",
    "    policy_name='BasicS3Policy',\n",
    "    policy_doc=basic_s3_permission\n",
    "    )\n",
    "\n",
    "pp.pprint(perm_res)\n",
    "\n",
    "# Allow 15 seconds for the update to propagate\n",
    "time.sleep(15)"
   ]
  },
  {
   "cell_type": "markdown",
   "metadata": {},
   "source": [
    "## Test your role\n",
    "\n",
    "You can verify now that the role we just created (`basic-role`) is allowed to list all S3 buckets under your account and it is not allowed to do anything else with your AWS resource. "
   ]
  },
  {
   "cell_type": "code",
   "execution_count": null,
   "metadata": {},
   "outputs": [],
   "source": [
    "# Create a boto3 session with credentials of basic-role\n",
    "import time\n",
    "\n",
    "now = str(time.time()).split('.')[0]\n",
    "\n",
    "obj = boto3.client('sts').assume_role(\n",
    "    RoleArn=role_res['Role']['Arn'],\n",
    "    RoleSessionName=now\n",
    ")\n",
    "\n",
    "cred=obj['Credentials']\n",
    "\n",
    "sess = boto3.session.Session(\n",
    "    aws_access_key_id=cred['AccessKeyId'],\n",
    "    aws_secret_access_key=cred['SecretAccessKey'],\n",
    "    aws_session_token=cred['SessionToken']\n",
    "    )\n",
    "\n",
    "# initiate an S3 client from the session\n",
    "s3 = sess.client('s3')\n",
    "\n",
    "# list buckets \n",
    "pp.pprint(s3.list_buckets())"
   ]
  },
  {
   "cell_type": "code",
   "execution_count": null,
   "metadata": {},
   "outputs": [],
   "source": [
    "# Try to create a bucket with the S3 client\n",
    "# It is expected to fail, because basic-role \n",
    "# has no permission to create bucket \n",
    "\n",
    "import time\n",
    "\n",
    "def create_bucket(s3_client):\n",
    "    try:\n",
    "        now = str(time.time()).split(\".\")[0]\n",
    "        res = s3_client.create_bucket(\n",
    "            Bucket='bucket-{}'.format(now), # bucket name, needs to be globally unique \n",
    "            CreateBucketConfiguration={\n",
    "                \"LocationConstraint\": sess.region_name\n",
    "            }\n",
    "        )\n",
    "        \n",
    "        return res\n",
    "    except Exception as e:\n",
    "        print(e)\n",
    "        return e\n",
    "\n",
    "# expect to fail\n",
    "create_bucket(s3)"
   ]
  },
  {
   "cell_type": "markdown",
   "metadata": {},
   "source": [
    "Now, let's promote the role `basic-role` to allow it to create bucket. "
   ]
  },
  {
   "cell_type": "code",
   "execution_count": null,
   "metadata": {},
   "outputs": [],
   "source": [
    "create_bucket_permission = {\n",
    "    \"Version\": \"2012-10-17\",\n",
    "        \"Statement\": [\n",
    "            {\n",
    "                \"Effect\": \"Allow\",\n",
    "                \"Action\": [\n",
    "                    \"s3:CreateBucket\" \n",
    "                ],\n",
    "                \"Resource\": [\n",
    "                    \"arn:aws:s3:::*\" \n",
    "                ]\n",
    "            }\n",
    "        ]\n",
    "    }"
   ]
  },
  {
   "cell_type": "markdown",
   "metadata": {},
   "source": [
    "Note: attached policies are incremental, this means if we attach `create_bucket_permission` to `basic-role`, the effect of `basic_s3_permission` is still in place. So `basic-role` is still able to perform `List*` actions. "
   ]
  },
  {
   "cell_type": "code",
   "execution_count": null,
   "metadata": {},
   "outputs": [],
   "source": [
    "perm_res = attach_permission(\n",
    "    role_name=role_res['Role']['RoleName'],\n",
    "    policy_name='CreateBucket',\n",
    "    policy_doc=create_bucket_permission\n",
    "    )\n",
    "\n",
    "pp.pprint(perm_res)\n",
    "time.sleep(15)"
   ]
  },
  {
   "cell_type": "code",
   "execution_count": null,
   "metadata": {},
   "outputs": [],
   "source": [
    "# You don't even need to create a new session\n",
    "res = create_bucket(s3)\n",
    "location = res['Location']\n",
    "bucket_name = location.split('//')[1].split('.')[0]"
   ]
  },
  {
   "cell_type": "markdown",
   "metadata": {},
   "source": [
    "Now, let's delete the bucket we just created. First, you will need to grant `basic-role` the permission to delete bucket. "
   ]
  },
  {
   "cell_type": "code",
   "execution_count": null,
   "metadata": {},
   "outputs": [],
   "source": [
    "delete_bucket_permission = {\n",
    "    \"Version\": \"2012-10-17\",\n",
    "        \"Statement\": [\n",
    "            {\n",
    "                \"Effect\": \"Allow\",\n",
    "                \"Action\": [\n",
    "                    \"s3:DeleteBucket\" \n",
    "                ],\n",
    "                \"Resource\": [\n",
    "                    \"arn:aws:s3:::*\" \n",
    "                ]\n",
    "            }\n",
    "        ]\n",
    "    }\n",
    "\n",
    "perm_res = attach_permission(\n",
    "    role_name=role_res['Role']['RoleName'],\n",
    "    policy_name='DeleteBucket',\n",
    "    policy_doc=delete_bucket_permission\n",
    "    )\n",
    "\n",
    "pp.pprint(perm_res)\n",
    "time.sleep(15)"
   ]
  },
  {
   "cell_type": "code",
   "execution_count": null,
   "metadata": {},
   "outputs": [],
   "source": [
    "res = s3.delete_bucket(Bucket=bucket_name)\n",
    "pp.pprint(res)"
   ]
  },
  {
   "cell_type": "markdown",
   "metadata": {},
   "source": [
    "## Amazon Managed Policies\n",
    "\n",
    "So far you have learned how to create an IAM role and how to grant it permissions on your AWS resources via IAM polices. The example you went through above uses S3 buckets as an example service, but the same idea can be generalized when you need to define more complicated policies on more services. \n",
    "\n",
    "You do not always need to define your own policies. Amazon maintains a list of commonly used policies. You can view them through the [console](https://console.aws.amazon.com/iam/home?region=us-west-2#/policies) or you within this notebook by calling `ListPolicies` API of IAM service. "
   ]
  },
  {
   "cell_type": "code",
   "execution_count": null,
   "metadata": {},
   "outputs": [],
   "source": [
    "# List all S3 related policies\n",
    "for p in iam.list_policies(Scope='AWS')['Policies']:\n",
    "    if 'S3' in p['PolicyName']:\n",
    "        pp.pprint(p)\n",
    "        print(\"=\"*80)"
   ]
  },
  {
   "cell_type": "markdown",
   "metadata": {},
   "source": [
    "One S3 policy maintained by Amazon is called `AmazonS3FullAccess`. As you expect, this policy grants the role to perform all actions on your S3 resources. Analogously, `AmazonEC2FullAccess` policy grants the role to perform all actions on your EC2 resources and `AmazonSageMakerFullAccess`\n",
    "provides full access to Amazon SageMaker via the AWS Management Console and SDK. Also provides select access to related services\n",
    "\n",
    "Policies are versioned. This gives you the abilitity to iteratively adjust the permissions to an execution role without changing the name of the policy. "
   ]
  },
  {
   "cell_type": "code",
   "execution_count": null,
   "metadata": {},
   "outputs": [],
   "source": [
    "# View AmazonSageMakerFullAccess policy\n",
    "sagemaker_full = iam.get_policy(\n",
    "    PolicyArn='arn:aws:iam::aws:policy/AmazonSageMakerFullAccess')"
   ]
  },
  {
   "cell_type": "code",
   "execution_count": null,
   "metadata": {},
   "outputs": [],
   "source": [
    "versions = iam.list_policy_versions(\n",
    "    PolicyArn='arn:aws:iam::aws:policy/AmazonSageMakerFullAccess')\n",
    "pp.pprint(versions['Versions'][0])"
   ]
  },
  {
   "cell_type": "markdown",
   "metadata": {},
   "source": [
    "The latest version for `AmazonSageMakerFullAccess` policy is `v19`. "
   ]
  },
  {
   "cell_type": "code",
   "execution_count": null,
   "metadata": {},
   "outputs": [],
   "source": [
    "# view the latest version of AmazonSageMakerFullAccess policy\n",
    "pp.pprint(\n",
    "    iam.get_policy_version(\n",
    "        PolicyArn='arn:aws:iam::aws:policy/AmazonSageMakerFullAccess',\n",
    "        VersionId='v19'\n",
    "    )\n",
    ")"
   ]
  },
  {
   "cell_type": "markdown",
   "metadata": {},
   "source": [
    "For most use cases of Amazon SageMaker, the `AmazonSageMakerFullAccess` policy would be sufficient. "
   ]
  },
  {
   "cell_type": "code",
   "execution_count": null,
   "metadata": {},
   "outputs": [],
   "source": [
    "# Attach AmazonSageMakerFullAccess to basic-role\n",
    "\n",
    "res = iam.attach_role_policy(\n",
    "    RoleName=role_res['Role']['RoleName'],\n",
    "    PolicyArn='arn:aws:iam::aws:policy/AmazonSageMakerFullAccess',\n",
    ")\n",
    "\n",
    "pp.pprint(res)"
   ]
  },
  {
   "cell_type": "markdown",
   "metadata": {},
   "source": [
    "## Clean up\n",
    "\n",
    "If you only plan to use the role to run certain application once, then it is a good practice to delete the role. If you plan to delete a role, make sure **you have detached all policies associated with it** and you **do not** have any Amazon EC2 instances running with the role you are about to delete. Deleting a role or instance profile that is associated with a running instance will break any applications running on the instance.\n",
    "\n"
   ]
  },
  {
   "cell_type": "code",
   "execution_count": null,
   "metadata": {},
   "outputs": [],
   "source": [
    "# detach attached policies\n",
    "attached_policies = iam.list_attached_role_policies(RoleName='basic-role')['AttachedPolicies']\n",
    "for p in attached_policies:\n",
    "    iam.detach_role_policy(\n",
    "        RoleName=role_res['Role']['RoleName'],\n",
    "        PolicyArn=p['PolicyArn']\n",
    "    )\n",
    "\n",
    "# delete the role\n",
    "res = iam.delete_role(\n",
    "   RoleName=role_res['Role']['RoleName']\n",
    ")\n",
    "\n",
    "pp.pprint(res)"
   ]
  }
 ],
 "metadata": {
  "kernelspec": {
   "display_name": "Python 3",
   "language": "python",
   "name": "python3"
  },
  "language_info": {
   "codemirror_mode": {
    "name": "ipython",
    "version": 3
   },
   "file_extension": ".py",
   "mimetype": "text/x-python",
   "name": "python",
   "nbconvert_exporter": "python",
   "pygments_lexer": "ipython3",
   "version": "3.6.10"
  }
 },
 "nbformat": 4,
 "nbformat_minor": 4
}
