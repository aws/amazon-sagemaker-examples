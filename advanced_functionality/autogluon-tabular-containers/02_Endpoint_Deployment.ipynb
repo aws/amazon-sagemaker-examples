{
 "cells": [
  {
   "cell_type": "code",
   "execution_count": null,
   "id": "9fd6ae5f",
   "metadata": {},
   "outputs": [],
   "source": [
    "import sagemaker\n",
    "import pandas as pd\n",
    "import numpy as np\n",
    "from ag_model import AutoGluonInferenceModel\n",
    "from sagemaker.serializers import CSVSerializer\n",
    "import os"
   ]
  },
  {
   "cell_type": "markdown",
   "id": "d9c7bcb8",
   "metadata": {},
   "source": [
    "# Deploy Endpoint"
   ]
  },
  {
   "cell_type": "code",
   "execution_count": null,
   "id": "b43cccb0",
   "metadata": {},
   "outputs": [],
   "source": [
    "role = sagemaker.get_execution_role()\n",
    "sagemaker_session = sagemaker.session.Session()"
   ]
  },
  {
   "cell_type": "code",
   "execution_count": null,
   "id": "5e2e600c",
   "metadata": {},
   "outputs": [],
   "source": [
    "model_dir = '.'\n",
    "endpoint_name = sagemaker.utils.unique_name_from_base(\"sagemaker-autogluon-serving-trained-model\")\n",
    "endpoint_name"
   ]
  },
  {
   "cell_type": "markdown",
   "id": "dde8b7c7",
   "metadata": {},
   "source": [
    "Upload the model we trained earlier"
   ]
  },
  {
   "cell_type": "code",
   "execution_count": null,
   "id": "68dd2d6d",
   "metadata": {},
   "outputs": [],
   "source": [
    "model_data = sagemaker_session.upload_data(path=os.path.join(model_dir, 'model.tar.gz'), key_prefix=f'{endpoint_name}/models')\n",
    "model_data"
   ]
  },
  {
   "cell_type": "code",
   "execution_count": null,
   "id": "861d4f01",
   "metadata": {},
   "outputs": [],
   "source": [
    "model = AutoGluonInferenceModel(\n",
    "    model_data=model_data, \n",
    "    role=role, \n",
    "    source_dir=\"scripts\",\n",
    "    entry_point=\"tabular_serve.py\",\n",
    ")"
   ]
  },
  {
   "cell_type": "markdown",
   "id": "997dd59e",
   "metadata": {},
   "source": [
    "Deploy SageMaker inference endpoint (this might take a while)"
   ]
  },
  {
   "cell_type": "code",
   "execution_count": null,
   "id": "73ab85e7",
   "metadata": {},
   "outputs": [],
   "source": [
    "predictor = model.deploy(initial_instance_count=1, serializer = CSVSerializer(), instance_type=\"ml.m5.2xlarge\")"
   ]
  },
  {
   "cell_type": "markdown",
   "id": "340c6693",
   "metadata": {},
   "source": [
    "# Using Endpoint for Inference"
   ]
  },
  {
   "cell_type": "code",
   "execution_count": null,
   "id": "a83aa4c0",
   "metadata": {},
   "outputs": [],
   "source": [
    "!wget https://autogluon.s3.amazonaws.com/datasets/Inc/test.csv -O data/test.csv"
   ]
  },
  {
   "cell_type": "code",
   "execution_count": null,
   "id": "0063eb18",
   "metadata": {},
   "outputs": [],
   "source": [
    "df = pd.read_csv(\"data/test.csv\")\n",
    "df.head()"
   ]
  },
  {
   "cell_type": "code",
   "execution_count": null,
   "id": "3547188d",
   "metadata": {},
   "outputs": [],
   "source": [
    "data = df.drop(columns='class')[:100].values\n",
    "preds = predictor.predict(data) # test inference with SDK"
   ]
  },
  {
   "cell_type": "code",
   "execution_count": null,
   "id": "bffac428",
   "metadata": {},
   "outputs": [],
   "source": [
    "preds[:10]"
   ]
  },
  {
   "cell_type": "code",
   "execution_count": null,
   "id": "68093203",
   "metadata": {},
   "outputs": [],
   "source": [
    "p = pd.DataFrame({'preds': pd.DataFrame(preds)[0], 'actual': df['class'][:len(preds)]})\n",
    "p.head()"
   ]
  },
  {
   "cell_type": "code",
   "execution_count": null,
   "id": "510ad246",
   "metadata": {},
   "outputs": [],
   "source": [
    "print(f'{(p.preds==p.actual).astype(int).sum()}/{len(p)} are correct')"
   ]
  },
  {
   "cell_type": "markdown",
   "id": "05882820",
   "metadata": {},
   "source": [
    "# Cleanup"
   ]
  },
  {
   "cell_type": "code",
   "execution_count": null,
   "id": "f7bc4cc9",
   "metadata": {},
   "outputs": [],
   "source": [
    "# predictor.delete_model()\n",
    "# predictor.delete_endpoint()"
   ]
  },
  {
   "cell_type": "code",
   "execution_count": null,
   "id": "0dd436d6",
   "metadata": {},
   "outputs": [],
   "source": []
  }
 ],
 "metadata": {
  "instance_type": "ml.t3.medium",
  "kernelspec": {
   "display_name": "Python 3 (SageMaker JumpStart MXNet 1.0)",
   "language": "python",
   "name": "python3__SAGEMAKER_INTERNAL__arn:aws:sagemaker:us-west-2:787968894560:image/sagemaker-jumpstart-mxnet-1.0"
  },
  "language_info": {
   "codemirror_mode": {
    "name": "ipython",
    "version": 3
   },
   "file_extension": ".py",
   "mimetype": "text/x-python",
   "name": "python",
   "nbconvert_exporter": "python",
   "pygments_lexer": "ipython3",
   "version": "3.7.10"
  }
 },
 "nbformat": 4,
 "nbformat_minor": 5
}
