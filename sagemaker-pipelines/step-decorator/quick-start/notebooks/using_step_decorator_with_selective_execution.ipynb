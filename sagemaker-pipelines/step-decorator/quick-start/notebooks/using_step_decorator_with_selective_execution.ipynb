{
 "cells": [
  {
   "cell_type": "markdown",
   "id": "323d0ce6",
   "metadata": {
    "collapsed": false
   },
   "source": [
    "# Quick Start - Using @step Decorated Steps with Selective Execution"
   ]
  },
  {
   "cell_type": "markdown",
   "id": "e53b1daf",
   "metadata": {
    "collapsed": false
   },
   "source": [
    "---\n",
    "\n",
    "This notebook's CI test result for us-west-2 is as follows. CI test results in other regions can be found at the end of the notebook.\n",
    "\n",
    "![This us-west-2 badge failed to load. Check your device's internet connectivity, otherwise the service is currently unavailable](https://prod.us-west-2.tcx-beacon.docs.aws.dev/sagemaker-nb/us-west-2/sagemaker-pipelines|step-decorator|quick-start|notebooks|using_step_decorator_with_selective_execution.ipynb)\n",
    "\n",
    "---"
   ]
  },
  {
   "cell_type": "markdown",
   "id": "e28e7c03",
   "metadata": {
    "collapsed": false
   },
   "source": [
    "We’re introducing a low-code experience for data scientists to convert the Machine Learning (ML) development code into repeatable and reusable workflow steps of Amazon SageMaker Pipelines.\n",
    "This sample notebook is a quick introduction to this capability with dummy Python functions wrapped as pipeline steps. It demonstrates how this capability works with the [selective execution of pipeline steps](https://docs.aws.amazon.com/sagemaker/latest/dg/pipelines-selective-ex.html). The pipeline in this notebook contains the following steps:\n",
    "* A dummy preprocess data step to return two integers as the \"train_data\" and \"test_data\" correspondingly.\n",
    "* A dummy train model step to simply multiply the \"train_data\" with an input \"train_param\" to get the dummy \"model\" data.\n",
    "* A dummy evaluate model step, which calculates the absolute value of the difference between the \"model\" data and the \"test_data\" as the dummy RMSE (Root Mean Square Error) value.\n",
    "* A ConditionStep to compare this RMSE value with a baseline.\n",
    "* A dummy register model step to be conditionally invoked if the RMSE is lower than the baseline.\n",
    "* A FailStep to end up the pipeline execution in the failed status if the RMSE is higher than or equal to the baseline."
   ]
  },
  {
   "cell_type": "markdown",
   "id": "7047834d",
   "metadata": {
    "collapsed": false
   },
   "source": [
    "Note this notebook can only run on either Python 3.8 or Python 3.10. Otherwise, you will get an error message prompting you to provide an `image_uri` when defining a step."
   ]
  },
  {
   "cell_type": "markdown",
   "id": "cb0aecb0",
   "metadata": {
    "collapsed": false
   },
   "source": [
    "## Install the dependencies and setup configuration file path\n",
    "\n",
    "If you run the notebook from a local IDE outside SageMaker, please follow the \"AWS CLI Prerequisites\" section of the [Set Up Amazon SageMaker Prerequisites](https://docs.aws.amazon.com/sagemaker/latest/dg/gs-set-up.html#gs-cli-prereq) to set up AWS credentials."
   ]
  },
  {
   "cell_type": "code",
   "execution_count": null,
   "id": "d2389a9a-9ae5-4600-9eae-a551e836b094",
   "metadata": {
    "ExecuteTime": {
     "end_time": "2024-03-20T10:52:46.697995Z",
     "start_time": "2024-03-20T10:52:44.309149Z"
    },
    "collapsed": true,
    "jupyter": {
     "outputs_hidden": true
    },
    "tags": []
   },
   "outputs": [],
   "source": [
    "!pip install -r ./requirements.txt"
   ]
  },
  {
   "cell_type": "code",
   "execution_count": null,
   "id": "b22a49fb-3fc7-46fe-89cc-3d4186016a73",
   "metadata": {
    "ExecuteTime": {
     "end_time": "2024-03-20T10:53:01.725729Z",
     "start_time": "2024-03-20T10:53:01.716075Z"
    },
    "tags": []
   },
   "outputs": [],
   "source": [
    "import os\n",
    "\n",
    "# Set path to config file\n",
    "os.environ[\"SAGEMAKER_USER_CONFIG_OVERRIDE\"] = os.getcwd()"
   ]
  },
  {
   "cell_type": "markdown",
   "execution_count": 10,
   "id": "c2e488ba-455b-42d5-92af-f8c63b254028",
   "metadata": {
    "ExecuteTime": {
     "end_time": "2023-09-22T17:07:04.101715Z",
     "start_time": "2023-09-22T17:07:04.092727Z"
    }
   },
   "outputs": [],
   "source": [
    "## Define pipeline steps"
   ]
  },
  {
   "cell_type": "code",
   "execution_count": null,
   "id": "f90eaa1a",
   "metadata": {
    "ExecuteTime": {
     "end_time": "2024-03-20T10:53:39.192978Z",
     "start_time": "2024-03-20T10:53:21.653171Z"
    },
    "collapsed": false
   },
   "outputs": [],
   "source": [
    "from sagemaker.workflow.function_step import step\n",
    "\n",
    "\n",
    "@step(name=\"PreProcess\", keep_alive_period_in_seconds=300)\n",
    "def my_preprocess_data():\n",
    "    return 1, 2"
   ]
  },
  {
   "cell_type": "code",
   "execution_count": null,
   "id": "bd8b561f",
   "metadata": {
    "ExecuteTime": {
     "end_time": "2024-03-20T10:53:54.459987Z",
     "start_time": "2024-03-20T10:53:54.457564Z"
    },
    "collapsed": false
   },
   "outputs": [],
   "source": [
    "train_func_step_name = \"Train\"\n",
    "\n",
    "\n",
    "@step(name=train_func_step_name, keep_alive_period_in_seconds=300)\n",
    "def my_train_model(train_param, train_data):\n",
    "    return train_data * train_param"
   ]
  },
  {
   "cell_type": "code",
   "execution_count": null,
   "id": "be6a3a6a-599e-4572-b7ff-9cfa19c8b5fd",
   "metadata": {
    "ExecuteTime": {
     "end_time": "2024-03-20T10:53:55.824262Z",
     "start_time": "2024-03-20T10:53:55.816107Z"
    },
    "tags": []
   },
   "outputs": [],
   "source": [
    "evaluate_func_step_name = \"Evaluate\"\n",
    "\n",
    "\n",
    "@step(name=evaluate_func_step_name, keep_alive_period_in_seconds=300)\n",
    "def my_evaluate_model(model, test_data):\n",
    "    return {\"rmse\": abs(model - test_data)}"
   ]
  },
  {
   "cell_type": "code",
   "execution_count": null,
   "id": "36ac4334-3443-46ef-9967-a4cea1f36a6d",
   "metadata": {
    "ExecuteTime": {
     "end_time": "2024-03-20T10:53:56.487314Z",
     "start_time": "2024-03-20T10:53:56.478381Z"
    },
    "tags": []
   },
   "outputs": [],
   "source": [
    "register_func_step_name = \"Register\"\n",
    "\n",
    "\n",
    "@step(name=register_func_step_name, keep_alive_period_in_seconds=300)\n",
    "def my_register_model():\n",
    "    print(\"Registered!\")"
   ]
  },
  {
   "cell_type": "markdown",
   "id": "912d3966",
   "metadata": {
    "collapsed": false
   },
   "source": [
    "After defining the above functions decorated by `@step`, we chain them together as the following and create a pipeline object accordingly.\n",
    "\n",
    "Notes:\n",
    "1. There's no need to put all the steps into the pipeline's `steps` list. As we've defined the step dependencies via function dependencies, we only need to put the end step into the list and the pipeline object can automatically retrieve all its upstream steps.\n",
    "2. As for the \"train_param\" in `my_train_model` function, we assign a `ParameterFloat` object (i.e. \"TrainParameter\") to it, so that we can adjust it across different executions."
   ]
  },
  {
   "cell_type": "code",
   "execution_count": null,
   "id": "a87fc583-4406-4e68-8443-42f06672da0d",
   "metadata": {
    "ExecuteTime": {
     "end_time": "2024-03-20T11:09:13.988385Z",
     "start_time": "2024-03-20T11:09:12.694135Z"
    },
    "tags": []
   },
   "outputs": [],
   "source": [
    "from sagemaker.workflow.pipeline import Pipeline\n",
    "from sagemaker.workflow.condition_step import ConditionStep\n",
    "from sagemaker.workflow.conditions import ConditionLessThan\n",
    "from sagemaker.workflow.fail_step import FailStep\n",
    "from sagemaker.workflow.parameters import ParameterFloat\n",
    "\n",
    "param = ParameterFloat(name=\"TrainParameter\", default_value=20.5)\n",
    "\n",
    "delayed_data = my_preprocess_data()\n",
    "delayed_model = my_train_model(train_param=param, train_data=delayed_data[0])\n",
    "delayed_evaluation = my_evaluate_model(model=delayed_model, test_data=delayed_data[1])\n",
    "\n",
    "condition_step_name = \"ConditionallyRegister\"\n",
    "conditionally_register = ConditionStep(\n",
    "    name=condition_step_name,\n",
    "    conditions=[\n",
    "        ConditionLessThan(\n",
    "            # Output of the evaluate step must be json serializable\n",
    "            # to be consumed in the condition evaluation\n",
    "            left=delayed_evaluation[\"rmse\"],\n",
    "            right=5,\n",
    "        )\n",
    "    ],\n",
    "    if_steps=[my_register_model()],\n",
    "    else_steps=[FailStep(name=\"Fail\", error_message=\"Model performance is not good enough\")],\n",
    ")\n",
    "\n",
    "pipeline_name = \"Dummy-ML-Pipeline-with-Selective-Execution\"\n",
    "pipeline = Pipeline(name=pipeline_name, steps=[conditionally_register], parameters=[param])"
   ]
  },
  {
   "cell_type": "markdown",
   "id": "d2692971",
   "metadata": {
    "collapsed": false
   },
   "source": [
    "## Create the pipeline and run pipeline execution"
   ]
  },
  {
   "cell_type": "code",
   "execution_count": null,
   "id": "7f5ec951-9cd9-427b-b371-41f0aa231858",
   "metadata": {
    "ExecuteTime": {
     "end_time": "2024-03-20T11:10:32.660780Z",
     "start_time": "2024-03-20T11:10:10.393042Z"
    },
    "collapsed": true,
    "jupyter": {
     "outputs_hidden": true
    },
    "tags": []
   },
   "outputs": [],
   "source": [
    "import sagemaker\n",
    "\n",
    "# Note: sagemaker.get_execution_role does not work outside sagemaker\n",
    "role = sagemaker.get_execution_role()\n",
    "pipeline.upsert(role_arn=role)"
   ]
  },
  {
   "cell_type": "code",
   "execution_count": null,
   "id": "189e3dd3-661f-4db3-a8aa-df4d7253a0f4",
   "metadata": {
    "ExecuteTime": {
     "end_time": "2024-03-20T11:10:42.114719Z",
     "start_time": "2024-03-20T11:10:41.857928Z"
    },
    "tags": []
   },
   "outputs": [],
   "source": [
    "execution1 = pipeline.start(parallelism_config=dict(MaxParallelExecutionSteps=10))"
   ]
  },
  {
   "cell_type": "code",
   "execution_count": null,
   "id": "d627d74e-f4d6-43c7-a618-af56db9cd192",
   "metadata": {
    "ExecuteTime": {
     "end_time": "2024-03-20T11:16:35.351385Z",
     "start_time": "2024-03-20T11:11:03.343475Z"
    },
    "collapsed": true,
    "jupyter": {
     "outputs_hidden": true
    },
    "tags": []
   },
   "outputs": [],
   "source": [
    "try:\n",
    "    execution1.wait()\n",
    "except Exception as e:\n",
    "    print(e)"
   ]
  },
  {
   "cell_type": "markdown",
   "id": "55bce003",
   "metadata": {
    "collapsed": false
   },
   "source": [
    "Note: this pipeline execution1 will enter the `FailStep` and be marked as failed. This is because the default value of \"TrainParameter\" is quite large (i.e. 20.5), causing the RMSE value in the evaluation report to be higher than the baseline (i.e. 5). We can inspect the evaluation report by `execution1.result(step_name=evaluate_func_step_name)` to check."
   ]
  },
  {
   "cell_type": "code",
   "execution_count": null,
   "id": "b966e141-07ec-438e-b96c-e14551e911ac",
   "metadata": {
    "ExecuteTime": {
     "end_time": "2024-03-20T11:39:44.819436Z",
     "start_time": "2024-03-20T11:39:44.395820Z"
    },
    "collapsed": true,
    "jupyter": {
     "outputs_hidden": true
    },
    "tags": []
   },
   "outputs": [],
   "source": [
    "execution1.list_steps()"
   ]
  },
  {
   "cell_type": "code",
   "execution_count": null,
   "id": "bef188bf",
   "metadata": {
    "ExecuteTime": {
     "end_time": "2024-03-20T11:39:52.638128Z",
     "start_time": "2024-03-20T11:39:51.484052Z"
    },
    "collapsed": false
   },
   "outputs": [],
   "source": [
    "print(f'Execution 1 - status: {execution1.describe()[\"PipelineExecutionStatus\"]}')\n",
    "print(f\"Execution 1 - evaluation report: {execution1.result(step_name=evaluate_func_step_name)}\")"
   ]
  },
  {
   "cell_type": "markdown",
   "id": "b10d753d",
   "metadata": {
    "collapsed": false
   },
   "source": [
    "## Run Selective Execution"
   ]
  },
  {
   "cell_type": "markdown",
   "id": "18ed6161",
   "metadata": {
    "collapsed": false
   },
   "source": [
    "In this section, we aim to \"retrain\" the model to get a better performant model with a smaller \"TrainParameter\" value, but without rerunning the entire pipeline workflow.\n",
    "Hence, we define a `SelectiveExecutionConfig` object by 1) specifying the ARN of the execution1, and 2) selecting the train model step and evaluate model step. Then the precedent step (i.e. the preprocess data step) won't be rerun in the execution2 and its result should be auto retrieved from the execution1."
   ]
  },
  {
   "cell_type": "code",
   "execution_count": null,
   "id": "6762f859",
   "metadata": {
    "ExecuteTime": {
     "end_time": "2024-03-20T11:58:17.836698Z",
     "start_time": "2024-03-20T11:58:17.233553Z"
    },
    "collapsed": false
   },
   "outputs": [],
   "source": [
    "from sagemaker.workflow.selective_execution_config import SelectiveExecutionConfig\n",
    "\n",
    "selective_execution_config1 = SelectiveExecutionConfig(\n",
    "    source_pipeline_execution_arn=execution1.arn,\n",
    "    selected_steps=[train_func_step_name, evaluate_func_step_name],\n",
    ")\n",
    "\n",
    "execution2 = pipeline.start(\n",
    "    selective_execution_config=selective_execution_config1,\n",
    "    parameters={\n",
    "        \"TrainParameter\": 5,\n",
    "    },\n",
    "    parallelism_config=dict(MaxParallelExecutionSteps=10),\n",
    ")"
   ]
  },
  {
   "cell_type": "markdown",
   "id": "40030bb7",
   "metadata": {
    "collapsed": false
   },
   "source": [
    "We can check the evaluation report generated in execution2 to make sure it does not go beyond the baseline."
   ]
  },
  {
   "cell_type": "code",
   "execution_count": null,
   "id": "abb428ed",
   "metadata": {
    "ExecuteTime": {
     "end_time": "2024-03-20T12:02:23.745043Z",
     "start_time": "2024-03-20T11:58:21.219667Z"
    },
    "collapsed": false
   },
   "outputs": [],
   "source": [
    "print(f\"Execution 2 - Evaluation Report: {execution2.result(step_name=evaluate_func_step_name)}\")"
   ]
  },
  {
   "cell_type": "markdown",
   "id": "89c1fa67",
   "metadata": {
    "collapsed": false
   },
   "source": [
    "Note: only the two selected steps were actually executed in execution2."
   ]
  },
  {
   "cell_type": "code",
   "execution_count": null,
   "id": "2123c439",
   "metadata": {
    "ExecuteTime": {
     "end_time": "2024-03-20T12:02:23.904631Z",
     "start_time": "2024-03-20T12:02:23.750214Z"
    },
    "collapsed": false
   },
   "outputs": [],
   "source": [
    "execution2.list_steps()"
   ]
  },
  {
   "cell_type": "markdown",
   "id": "216a89ca",
   "metadata": {
    "collapsed": false
   },
   "source": [
    "As the evaluation report is satisfying, we can complete the rest of the pipeline to \"register\" the dummy model. We define a new `SelectiveExecutionConfig` object, which specifies the ARN of execution2 and selects the condition step and the register model step. The result of their precedent step (i.e. evaluate model step) should be auto fetched from the execution2."
   ]
  },
  {
   "cell_type": "code",
   "execution_count": null,
   "id": "b8edac56",
   "metadata": {
    "ExecuteTime": {
     "end_time": "2024-03-20T12:13:24.041454Z",
     "start_time": "2024-03-20T12:13:23.474996Z"
    },
    "collapsed": false
   },
   "outputs": [],
   "source": [
    "selective_execution_config2 = SelectiveExecutionConfig(\n",
    "    source_pipeline_execution_arn=execution2.arn,\n",
    "    selected_steps=[condition_step_name, register_func_step_name],\n",
    ")\n",
    "\n",
    "execution3 = pipeline.start(\n",
    "    selective_execution_config=selective_execution_config2,\n",
    "    parallelism_config=dict(MaxParallelExecutionSteps=10),\n",
    ")"
   ]
  },
  {
   "cell_type": "markdown",
   "id": "a527fc91",
   "metadata": {
    "collapsed": false
   },
   "source": [
    "In this run, the condition step should return true, and the register model step should be successfully executed."
   ]
  },
  {
   "cell_type": "code",
   "execution_count": null,
   "id": "bef5990a",
   "metadata": {
    "ExecuteTime": {
     "end_time": "2024-03-20T12:15:55.807370Z",
     "start_time": "2024-03-20T12:13:24.678410Z"
    },
    "collapsed": false
   },
   "outputs": [],
   "source": [
    "execution3.wait()\n",
    "execution3.list_steps()"
   ]
  },
  {
   "cell_type": "markdown",
   "id": "a0edff3a",
   "metadata": {
    "collapsed": false
   },
   "source": [
    "## Clean up resources"
   ]
  },
  {
   "cell_type": "code",
   "execution_count": null,
   "id": "cd1df243",
   "metadata": {
    "ExecuteTime": {
     "end_time": "2024-03-20T12:32:37.162657Z",
     "start_time": "2024-03-20T12:32:36.651224Z"
    },
    "collapsed": false
   },
   "outputs": [],
   "source": [
    "pipeline.delete()"
   ]
  },
  {
   "cell_type": "markdown",
   "id": "ec560a81",
   "metadata": {
    "collapsed": false
   },
   "source": [
    "## Notebook CI Test Results\n",
    "\n",
    "This notebook was tested in multiple regions. The test results are as follows, except for us-west-2 which is shown at the top of the notebook.\n",
    "\n",
    "\n",
    "![This us-east-1 badge failed to load. Check your device's internet connectivity, otherwise the service is currently unavailable](https://prod.us-west-2.tcx-beacon.docs.aws.dev/sagemaker-nb/us-east-1/sagemaker-pipelines|step-decorator|quick-start|notebooks|using_step_decorator_with_selective_execution.ipynb)\n",
    "\n",
    "![This us-east-2 badge failed to load. Check your device's internet connectivity, otherwise the service is currently unavailable](https://prod.us-west-2.tcx-beacon.docs.aws.dev/sagemaker-nb/us-east-2/sagemaker-pipelines|step-decorator|quick-start|notebooks|using_step_decorator_with_selective_execution.ipynb)\n",
    "\n",
    "![This us-west-1 badge failed to load. Check your device's internet connectivity, otherwise the service is currently unavailable](https://prod.us-west-2.tcx-beacon.docs.aws.dev/sagemaker-nb/us-west-1/sagemaker-pipelines|step-decorator|quick-start|notebooks|using_step_decorator_with_selective_execution.ipynb)\n",
    "\n",
    "![This ca-central-1 badge failed to load. Check your device's internet connectivity, otherwise the service is currently unavailable](https://prod.us-west-2.tcx-beacon.docs.aws.dev/sagemaker-nb/ca-central-1/sagemaker-pipelines|step-decorator|quick-start|notebooks|using_step_decorator_with_selective_execution.ipynb)\n",
    "\n",
    "![This sa-east-1 badge failed to load. Check your device's internet connectivity, otherwise the service is currently unavailable](https://prod.us-west-2.tcx-beacon.docs.aws.dev/sagemaker-nb/sa-east-1/sagemaker-pipelines|step-decorator|quick-start|notebooks|using_step_decorator_with_selective_execution.ipynb)\n",
    "\n",
    "![This eu-west-1 badge failed to load. Check your device's internet connectivity, otherwise the service is currently unavailable](https://prod.us-west-2.tcx-beacon.docs.aws.dev/sagemaker-nb/eu-west-1/sagemaker-pipelines|step-decorator|quick-start|notebooks|using_step_decorator_with_selective_execution.ipynb)\n",
    "\n",
    "![This eu-west-2 badge failed to load. Check your device's internet connectivity, otherwise the service is currently unavailable](https://prod.us-west-2.tcx-beacon.docs.aws.dev/sagemaker-nb/eu-west-2/sagemaker-pipelines|step-decorator|quick-start|notebooks|using_step_decorator_with_selective_execution.ipynb)\n",
    "\n",
    "![This eu-west-3 badge failed to load. Check your device's internet connectivity, otherwise the service is currently unavailable](https://prod.us-west-2.tcx-beacon.docs.aws.dev/sagemaker-nb/eu-west-3/sagemaker-pipelines|step-decorator|quick-start|notebooks|using_step_decorator_with_selective_execution.ipynb)\n",
    "\n",
    "![This eu-central-1 badge failed to load. Check your device's internet connectivity, otherwise the service is currently unavailable](https://prod.us-west-2.tcx-beacon.docs.aws.dev/sagemaker-nb/eu-central-1/sagemaker-pipelines|step-decorator|quick-start|notebooks|using_step_decorator_with_selective_execution.ipynb)\n",
    "\n",
    "![This eu-north-1 badge failed to load. Check your device's internet connectivity, otherwise the service is currently unavailable](https://prod.us-west-2.tcx-beacon.docs.aws.dev/sagemaker-nb/eu-north-1/sagemaker-pipelines|step-decorator|quick-start|notebooks|using_step_decorator_with_selective_execution.ipynb)\n",
    "\n",
    "![This ap-southeast-1 badge failed to load. Check your device's internet connectivity, otherwise the service is currently unavailable](https://prod.us-west-2.tcx-beacon.docs.aws.dev/sagemaker-nb/ap-southeast-1/sagemaker-pipelines|step-decorator|quick-start|notebooks|using_step_decorator_with_selective_execution.ipynb)\n",
    "\n",
    "![This ap-southeast-2 badge failed to load. Check your device's internet connectivity, otherwise the service is currently unavailable](https://prod.us-west-2.tcx-beacon.docs.aws.dev/sagemaker-nb/ap-southeast-2/sagemaker-pipelines|step-decorator|quick-start|notebooks|using_step_decorator_with_selective_execution.ipynb)\n",
    "\n",
    "![This ap-northeast-1 badge failed to load. Check your device's internet connectivity, otherwise the service is currently unavailable](https://prod.us-west-2.tcx-beacon.docs.aws.dev/sagemaker-nb/ap-northeast-1/sagemaker-pipelines|step-decorator|quick-start|notebooks|using_step_decorator_with_selective_execution.ipynb)\n",
    "\n",
    "![This ap-northeast-2 badge failed to load. Check your device's internet connectivity, otherwise the service is currently unavailable](https://prod.us-west-2.tcx-beacon.docs.aws.dev/sagemaker-nb/ap-northeast-2/sagemaker-pipelines|step-decorator|quick-start|notebooks|using_step_decorator_with_selective_execution.ipynb)\n",
    "\n",
    "![This ap-south-1 badge failed to load. Check your device's internet connectivity, otherwise the service is currently unavailable](https://prod.us-west-2.tcx-beacon.docs.aws.dev/sagemaker-nb/ap-south-1/sagemaker-pipelines|step-decorator|quick-start|notebooks|using_step_decorator_with_selective_execution.ipynb)\n"
   ]
  },
  {
   "cell_type": "code",
   "execution_count": null,
   "id": "8ab81f68",
   "metadata": {
    "collapsed": false
   },
   "outputs": [],
   "source": []
  }
 ],
 "metadata": {
  "availableInstances": [
   {
    "_defaultOrder": 0,
    "_isFastLaunch": true,
    "category": "General purpose",
    "gpuNum": 0,
    "hideHardwareSpecs": false,
    "memoryGiB": 4,
    "name": "ml.t3.medium",
    "vcpuNum": 2
   },
   {
    "_defaultOrder": 1,
    "_isFastLaunch": false,
    "category": "General purpose",
    "gpuNum": 0,
    "hideHardwareSpecs": false,
    "memoryGiB": 8,
    "name": "ml.t3.large",
    "vcpuNum": 2
   },
   {
    "_defaultOrder": 2,
    "_isFastLaunch": false,
    "category": "General purpose",
    "gpuNum": 0,
    "hideHardwareSpecs": false,
    "memoryGiB": 16,
    "name": "ml.t3.xlarge",
    "vcpuNum": 4
   },
   {
    "_defaultOrder": 3,
    "_isFastLaunch": false,
    "category": "General purpose",
    "gpuNum": 0,
    "hideHardwareSpecs": false,
    "memoryGiB": 32,
    "name": "ml.t3.2xlarge",
    "vcpuNum": 8
   },
   {
    "_defaultOrder": 4,
    "_isFastLaunch": true,
    "category": "General purpose",
    "gpuNum": 0,
    "hideHardwareSpecs": false,
    "memoryGiB": 8,
    "name": "ml.m5.large",
    "vcpuNum": 2
   },
   {
    "_defaultOrder": 5,
    "_isFastLaunch": false,
    "category": "General purpose",
    "gpuNum": 0,
    "hideHardwareSpecs": false,
    "memoryGiB": 16,
    "name": "ml.m5.xlarge",
    "vcpuNum": 4
   },
   {
    "_defaultOrder": 6,
    "_isFastLaunch": false,
    "category": "General purpose",
    "gpuNum": 0,
    "hideHardwareSpecs": false,
    "memoryGiB": 32,
    "name": "ml.m5.2xlarge",
    "vcpuNum": 8
   },
   {
    "_defaultOrder": 7,
    "_isFastLaunch": false,
    "category": "General purpose",
    "gpuNum": 0,
    "hideHardwareSpecs": false,
    "memoryGiB": 64,
    "name": "ml.m5.4xlarge",
    "vcpuNum": 16
   },
   {
    "_defaultOrder": 8,
    "_isFastLaunch": false,
    "category": "General purpose",
    "gpuNum": 0,
    "hideHardwareSpecs": false,
    "memoryGiB": 128,
    "name": "ml.m5.8xlarge",
    "vcpuNum": 32
   },
   {
    "_defaultOrder": 9,
    "_isFastLaunch": false,
    "category": "General purpose",
    "gpuNum": 0,
    "hideHardwareSpecs": false,
    "memoryGiB": 192,
    "name": "ml.m5.12xlarge",
    "vcpuNum": 48
   },
   {
    "_defaultOrder": 10,
    "_isFastLaunch": false,
    "category": "General purpose",
    "gpuNum": 0,
    "hideHardwareSpecs": false,
    "memoryGiB": 256,
    "name": "ml.m5.16xlarge",
    "vcpuNum": 64
   },
   {
    "_defaultOrder": 11,
    "_isFastLaunch": false,
    "category": "General purpose",
    "gpuNum": 0,
    "hideHardwareSpecs": false,
    "memoryGiB": 384,
    "name": "ml.m5.24xlarge",
    "vcpuNum": 96
   },
   {
    "_defaultOrder": 12,
    "_isFastLaunch": false,
    "category": "General purpose",
    "gpuNum": 0,
    "hideHardwareSpecs": false,
    "memoryGiB": 8,
    "name": "ml.m5d.large",
    "vcpuNum": 2
   },
   {
    "_defaultOrder": 13,
    "_isFastLaunch": false,
    "category": "General purpose",
    "gpuNum": 0,
    "hideHardwareSpecs": false,
    "memoryGiB": 16,
    "name": "ml.m5d.xlarge",
    "vcpuNum": 4
   },
   {
    "_defaultOrder": 14,
    "_isFastLaunch": false,
    "category": "General purpose",
    "gpuNum": 0,
    "hideHardwareSpecs": false,
    "memoryGiB": 32,
    "name": "ml.m5d.2xlarge",
    "vcpuNum": 8
   },
   {
    "_defaultOrder": 15,
    "_isFastLaunch": false,
    "category": "General purpose",
    "gpuNum": 0,
    "hideHardwareSpecs": false,
    "memoryGiB": 64,
    "name": "ml.m5d.4xlarge",
    "vcpuNum": 16
   },
   {
    "_defaultOrder": 16,
    "_isFastLaunch": false,
    "category": "General purpose",
    "gpuNum": 0,
    "hideHardwareSpecs": false,
    "memoryGiB": 128,
    "name": "ml.m5d.8xlarge",
    "vcpuNum": 32
   },
   {
    "_defaultOrder": 17,
    "_isFastLaunch": false,
    "category": "General purpose",
    "gpuNum": 0,
    "hideHardwareSpecs": false,
    "memoryGiB": 192,
    "name": "ml.m5d.12xlarge",
    "vcpuNum": 48
   },
   {
    "_defaultOrder": 18,
    "_isFastLaunch": false,
    "category": "General purpose",
    "gpuNum": 0,
    "hideHardwareSpecs": false,
    "memoryGiB": 256,
    "name": "ml.m5d.16xlarge",
    "vcpuNum": 64
   },
   {
    "_defaultOrder": 19,
    "_isFastLaunch": false,
    "category": "General purpose",
    "gpuNum": 0,
    "hideHardwareSpecs": false,
    "memoryGiB": 384,
    "name": "ml.m5d.24xlarge",
    "vcpuNum": 96
   },
   {
    "_defaultOrder": 20,
    "_isFastLaunch": false,
    "category": "General purpose",
    "gpuNum": 0,
    "hideHardwareSpecs": true,
    "memoryGiB": 0,
    "name": "ml.geospatial.interactive",
    "supportedImageNames": [
     "sagemaker-geospatial-v1-0"
    ],
    "vcpuNum": 0
   },
   {
    "_defaultOrder": 21,
    "_isFastLaunch": true,
    "category": "Compute optimized",
    "gpuNum": 0,
    "hideHardwareSpecs": false,
    "memoryGiB": 4,
    "name": "ml.c5.large",
    "vcpuNum": 2
   },
   {
    "_defaultOrder": 22,
    "_isFastLaunch": false,
    "category": "Compute optimized",
    "gpuNum": 0,
    "hideHardwareSpecs": false,
    "memoryGiB": 8,
    "name": "ml.c5.xlarge",
    "vcpuNum": 4
   },
   {
    "_defaultOrder": 23,
    "_isFastLaunch": false,
    "category": "Compute optimized",
    "gpuNum": 0,
    "hideHardwareSpecs": false,
    "memoryGiB": 16,
    "name": "ml.c5.2xlarge",
    "vcpuNum": 8
   },
   {
    "_defaultOrder": 24,
    "_isFastLaunch": false,
    "category": "Compute optimized",
    "gpuNum": 0,
    "hideHardwareSpecs": false,
    "memoryGiB": 32,
    "name": "ml.c5.4xlarge",
    "vcpuNum": 16
   },
   {
    "_defaultOrder": 25,
    "_isFastLaunch": false,
    "category": "Compute optimized",
    "gpuNum": 0,
    "hideHardwareSpecs": false,
    "memoryGiB": 72,
    "name": "ml.c5.9xlarge",
    "vcpuNum": 36
   },
   {
    "_defaultOrder": 26,
    "_isFastLaunch": false,
    "category": "Compute optimized",
    "gpuNum": 0,
    "hideHardwareSpecs": false,
    "memoryGiB": 96,
    "name": "ml.c5.12xlarge",
    "vcpuNum": 48
   },
   {
    "_defaultOrder": 27,
    "_isFastLaunch": false,
    "category": "Compute optimized",
    "gpuNum": 0,
    "hideHardwareSpecs": false,
    "memoryGiB": 144,
    "name": "ml.c5.18xlarge",
    "vcpuNum": 72
   },
   {
    "_defaultOrder": 28,
    "_isFastLaunch": false,
    "category": "Compute optimized",
    "gpuNum": 0,
    "hideHardwareSpecs": false,
    "memoryGiB": 192,
    "name": "ml.c5.24xlarge",
    "vcpuNum": 96
   },
   {
    "_defaultOrder": 29,
    "_isFastLaunch": true,
    "category": "Accelerated computing",
    "gpuNum": 1,
    "hideHardwareSpecs": false,
    "memoryGiB": 16,
    "name": "ml.g4dn.xlarge",
    "vcpuNum": 4
   },
   {
    "_defaultOrder": 30,
    "_isFastLaunch": false,
    "category": "Accelerated computing",
    "gpuNum": 1,
    "hideHardwareSpecs": false,
    "memoryGiB": 32,
    "name": "ml.g4dn.2xlarge",
    "vcpuNum": 8
   },
   {
    "_defaultOrder": 31,
    "_isFastLaunch": false,
    "category": "Accelerated computing",
    "gpuNum": 1,
    "hideHardwareSpecs": false,
    "memoryGiB": 64,
    "name": "ml.g4dn.4xlarge",
    "vcpuNum": 16
   },
   {
    "_defaultOrder": 32,
    "_isFastLaunch": false,
    "category": "Accelerated computing",
    "gpuNum": 1,
    "hideHardwareSpecs": false,
    "memoryGiB": 128,
    "name": "ml.g4dn.8xlarge",
    "vcpuNum": 32
   },
   {
    "_defaultOrder": 33,
    "_isFastLaunch": false,
    "category": "Accelerated computing",
    "gpuNum": 4,
    "hideHardwareSpecs": false,
    "memoryGiB": 192,
    "name": "ml.g4dn.12xlarge",
    "vcpuNum": 48
   },
   {
    "_defaultOrder": 34,
    "_isFastLaunch": false,
    "category": "Accelerated computing",
    "gpuNum": 1,
    "hideHardwareSpecs": false,
    "memoryGiB": 256,
    "name": "ml.g4dn.16xlarge",
    "vcpuNum": 64
   },
   {
    "_defaultOrder": 35,
    "_isFastLaunch": false,
    "category": "Accelerated computing",
    "gpuNum": 1,
    "hideHardwareSpecs": false,
    "memoryGiB": 61,
    "name": "ml.p3.2xlarge",
    "vcpuNum": 8
   },
   {
    "_defaultOrder": 36,
    "_isFastLaunch": false,
    "category": "Accelerated computing",
    "gpuNum": 4,
    "hideHardwareSpecs": false,
    "memoryGiB": 244,
    "name": "ml.p3.8xlarge",
    "vcpuNum": 32
   },
   {
    "_defaultOrder": 37,
    "_isFastLaunch": false,
    "category": "Accelerated computing",
    "gpuNum": 8,
    "hideHardwareSpecs": false,
    "memoryGiB": 488,
    "name": "ml.p3.16xlarge",
    "vcpuNum": 64
   },
   {
    "_defaultOrder": 38,
    "_isFastLaunch": false,
    "category": "Accelerated computing",
    "gpuNum": 8,
    "hideHardwareSpecs": false,
    "memoryGiB": 768,
    "name": "ml.p3dn.24xlarge",
    "vcpuNum": 96
   },
   {
    "_defaultOrder": 39,
    "_isFastLaunch": false,
    "category": "Memory Optimized",
    "gpuNum": 0,
    "hideHardwareSpecs": false,
    "memoryGiB": 16,
    "name": "ml.r5.large",
    "vcpuNum": 2
   },
   {
    "_defaultOrder": 40,
    "_isFastLaunch": false,
    "category": "Memory Optimized",
    "gpuNum": 0,
    "hideHardwareSpecs": false,
    "memoryGiB": 32,
    "name": "ml.r5.xlarge",
    "vcpuNum": 4
   },
   {
    "_defaultOrder": 41,
    "_isFastLaunch": false,
    "category": "Memory Optimized",
    "gpuNum": 0,
    "hideHardwareSpecs": false,
    "memoryGiB": 64,
    "name": "ml.r5.2xlarge",
    "vcpuNum": 8
   },
   {
    "_defaultOrder": 42,
    "_isFastLaunch": false,
    "category": "Memory Optimized",
    "gpuNum": 0,
    "hideHardwareSpecs": false,
    "memoryGiB": 128,
    "name": "ml.r5.4xlarge",
    "vcpuNum": 16
   },
   {
    "_defaultOrder": 43,
    "_isFastLaunch": false,
    "category": "Memory Optimized",
    "gpuNum": 0,
    "hideHardwareSpecs": false,
    "memoryGiB": 256,
    "name": "ml.r5.8xlarge",
    "vcpuNum": 32
   },
   {
    "_defaultOrder": 44,
    "_isFastLaunch": false,
    "category": "Memory Optimized",
    "gpuNum": 0,
    "hideHardwareSpecs": false,
    "memoryGiB": 384,
    "name": "ml.r5.12xlarge",
    "vcpuNum": 48
   },
   {
    "_defaultOrder": 45,
    "_isFastLaunch": false,
    "category": "Memory Optimized",
    "gpuNum": 0,
    "hideHardwareSpecs": false,
    "memoryGiB": 512,
    "name": "ml.r5.16xlarge",
    "vcpuNum": 64
   },
   {
    "_defaultOrder": 46,
    "_isFastLaunch": false,
    "category": "Memory Optimized",
    "gpuNum": 0,
    "hideHardwareSpecs": false,
    "memoryGiB": 768,
    "name": "ml.r5.24xlarge",
    "vcpuNum": 96
   },
   {
    "_defaultOrder": 47,
    "_isFastLaunch": false,
    "category": "Accelerated computing",
    "gpuNum": 1,
    "hideHardwareSpecs": false,
    "memoryGiB": 16,
    "name": "ml.g5.xlarge",
    "vcpuNum": 4
   },
   {
    "_defaultOrder": 48,
    "_isFastLaunch": false,
    "category": "Accelerated computing",
    "gpuNum": 1,
    "hideHardwareSpecs": false,
    "memoryGiB": 32,
    "name": "ml.g5.2xlarge",
    "vcpuNum": 8
   },
   {
    "_defaultOrder": 49,
    "_isFastLaunch": false,
    "category": "Accelerated computing",
    "gpuNum": 1,
    "hideHardwareSpecs": false,
    "memoryGiB": 64,
    "name": "ml.g5.4xlarge",
    "vcpuNum": 16
   },
   {
    "_defaultOrder": 50,
    "_isFastLaunch": false,
    "category": "Accelerated computing",
    "gpuNum": 1,
    "hideHardwareSpecs": false,
    "memoryGiB": 128,
    "name": "ml.g5.8xlarge",
    "vcpuNum": 32
   },
   {
    "_defaultOrder": 51,
    "_isFastLaunch": false,
    "category": "Accelerated computing",
    "gpuNum": 1,
    "hideHardwareSpecs": false,
    "memoryGiB": 256,
    "name": "ml.g5.16xlarge",
    "vcpuNum": 64
   },
   {
    "_defaultOrder": 52,
    "_isFastLaunch": false,
    "category": "Accelerated computing",
    "gpuNum": 4,
    "hideHardwareSpecs": false,
    "memoryGiB": 192,
    "name": "ml.g5.12xlarge",
    "vcpuNum": 48
   },
   {
    "_defaultOrder": 53,
    "_isFastLaunch": false,
    "category": "Accelerated computing",
    "gpuNum": 4,
    "hideHardwareSpecs": false,
    "memoryGiB": 384,
    "name": "ml.g5.24xlarge",
    "vcpuNum": 96
   },
   {
    "_defaultOrder": 54,
    "_isFastLaunch": false,
    "category": "Accelerated computing",
    "gpuNum": 8,
    "hideHardwareSpecs": false,
    "memoryGiB": 768,
    "name": "ml.g5.48xlarge",
    "vcpuNum": 192
   },
   {
    "_defaultOrder": 55,
    "_isFastLaunch": false,
    "category": "Accelerated computing",
    "gpuNum": 8,
    "hideHardwareSpecs": false,
    "memoryGiB": 1152,
    "name": "ml.p4d.24xlarge",
    "vcpuNum": 96
   },
   {
    "_defaultOrder": 56,
    "_isFastLaunch": false,
    "category": "Accelerated computing",
    "gpuNum": 8,
    "hideHardwareSpecs": false,
    "memoryGiB": 1152,
    "name": "ml.p4de.24xlarge",
    "vcpuNum": 96
   }
  ],
  "instance_type": "ml.t3.medium",
  "kernelspec": {
   "display_name": "Python 3 (ipykernel)",
   "language": "python",
   "name": "python3"
  },
  "language_info": {
   "codemirror_mode": {
    "name": "ipython",
    "version": 3
   },
   "file_extension": ".py",
   "mimetype": "text/x-python",
   "name": "python",
   "nbconvert_exporter": "python",
   "pygments_lexer": "ipython3",
   "version": "3.10.6"
  }
 },
 "nbformat": 4,
 "nbformat_minor": 5
}
