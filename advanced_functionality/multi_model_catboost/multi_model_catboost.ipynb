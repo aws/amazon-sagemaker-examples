{
 "cells": [
  {
   "cell_type": "markdown",
   "id": "36903cfb",
   "metadata": {},
   "source": [
    "# Multi-Model Endpoint - CatBoost\n",
    "\n",
    "This example notebook showcases how to use a custom container to host multiple CatBoost models on a SageMaker Multi Model Endpoint. The model this notebook deploys is taken from this [CatBoost tutorial](https://github.com/catboost/tutorials/blob/master/python_tutorial_with_tasks.ipynb). "
   ]
  },
  {
   "cell_type": "markdown",
   "id": "945d753e",
   "metadata": {},
   "source": [
    "## Prerequisites\n",
    "### Packages and Permissions\n",
    "The SageMaker SDK uses the SageMaker default S3 bucket when needed. If the get_execution_role does not return a role with the appropriate permissions, you'll need to specify an IAM role ARN that does. Please make sure the `SageMakerFullAccess` policy is attached to the execution role you are using."
   ]
  },
  {
   "cell_type": "markdown",
   "id": "5b47fb23",
   "metadata": {},
   "source": [
    "## Load model and test local inference\n",
    "Here, install `catboost` to test we can load up the model locally and make inference. \n",
    "\n",
    "We load up the model locally using `CatBoostClassifier()`. `test_data.csv` contains a single row of test inference data."
   ]
  },
  {
   "cell_type": "code",
   "execution_count": null,
   "id": "d98cb82e",
   "metadata": {},
   "outputs": [],
   "source": [
    "!pip install catboost"
   ]
  },
  {
   "cell_type": "code",
   "execution_count": 2,
   "id": "2028083a",
   "metadata": {},
   "outputs": [],
   "source": [
    "from catboost import CatBoostClassifier, Pool as CatboostPool, cv\n",
    "import os\n",
    "import pandas\n",
    "\n",
    "model_file = CatBoostClassifier()\n",
    "model_file = model_file.load_model(\"catboost_model.bin\")\n",
    "df = pandas.read_csv(\"test_data.csv\")"
   ]
  },
  {
   "cell_type": "code",
   "execution_count": 3,
   "id": "01b2528e",
   "metadata": {},
   "outputs": [
    {
     "name": "stdout",
     "output_type": "stream",
     "text": [
      "[[0.0203764 0.9796236]]\n"
     ]
    }
   ],
   "source": [
    "import pandas as pd\n",
    "import io\n",
    "import json\n",
    "\n",
    "out = model_file.predict_proba(df)\n",
    "print(out)"
   ]
  },
  {
   "cell_type": "markdown",
   "id": "f53457c6",
   "metadata": {},
   "source": [
    "## Upload tar ball to s3\n"
   ]
  },
  {
   "cell_type": "markdown",
   "id": "5a1e0beb",
   "metadata": {},
   "source": [
    "### Create a model tar ball\n",
    "\n",
    "SageMaker requires our model to be packaged in a tar.gz file."
   ]
  },
  {
   "cell_type": "code",
   "execution_count": 4,
   "id": "5e5dcfbd",
   "metadata": {},
   "outputs": [
    {
     "name": "stdout",
     "output_type": "stream",
     "text": [
      "catboost_model.bin\n"
     ]
    }
   ],
   "source": [
    "! tar -czvf catboost-model.tar.gz catboost_model.bin"
   ]
  },
  {
   "cell_type": "markdown",
   "id": "608a8e21",
   "metadata": {},
   "source": [
    "### Upload 100 copies of the model to S3\n",
    "\n",
    "Multi-Model Endpoints require all our models to be in a specific S3 prefix. Here we upload 100 of them to our default bucket. "
   ]
  },
  {
   "cell_type": "code",
   "execution_count": 5,
   "id": "25587da3",
   "metadata": {},
   "outputs": [
    {
     "name": "stdout",
     "output_type": "stream",
     "text": [
      "sagemaker-us-east-1-171503325295\n"
     ]
    }
   ],
   "source": [
    "import sagemaker\n",
    "\n",
    "sess = sagemaker.Session()\n",
    "s3_bucket = sess.default_bucket()  # Replace with your own bucket name if needed\n",
    "print(s3_bucket)"
   ]
  },
  {
   "cell_type": "markdown",
   "id": "ab086b57",
   "metadata": {},
   "source": [
    "### Upload the model tar balls using boto3 with a unique name"
   ]
  },
  {
   "cell_type": "code",
   "execution_count": 6,
   "id": "6142ca9a",
   "metadata": {},
   "outputs": [
    {
     "name": "stderr",
     "output_type": "stream",
     "text": [
      "/home/ec2-user/anaconda3/envs/pytorch_p36/lib/python3.6/site-packages/boto3/compat.py:88: PythonDeprecationWarning: Boto3 will no longer support Python 3.6 starting May 30, 2022. To continue receiving service updates, bug fixes, and security updates please upgrade to Python 3.7 or later. More information can be found here: https://aws.amazon.com/blogs/developer/python-support-policy-updates-for-aws-sdks-and-tools/\n",
      "  warnings.warn(warning, PythonDeprecationWarning)\n"
     ]
    }
   ],
   "source": [
    "import boto3\n",
    "\n",
    "s3 = boto3.client(\"s3\")\n",
    "for i in range(0, 100):\n",
    "    with open(\"catboost-model.tar.gz\", \"rb\") as f:\n",
    "        s3.upload_fileobj(f, s3_bucket, \"catboost/catboost-model-{}.tar.gz\".format(i))"
   ]
  },
  {
   "cell_type": "markdown",
   "id": "aea1e2f1",
   "metadata": {},
   "source": [
    "### List all models in s3 prefix we will use for our Multi-Model Endpoint"
   ]
  },
  {
   "cell_type": "code",
   "execution_count": 7,
   "id": "0857af02",
   "metadata": {},
   "outputs": [
    {
     "name": "stdout",
     "output_type": "stream",
     "text": [
      "2022-06-29 06:15:17     184487 catboost-model-0.tar.gz\n",
      "2022-06-29 06:15:17     184487 catboost-model-1.tar.gz\n",
      "2022-06-29 06:15:18     184487 catboost-model-10.tar.gz\n",
      "2022-06-29 06:15:18     184487 catboost-model-11.tar.gz\n",
      "2022-06-29 06:15:18     184487 catboost-model-12.tar.gz\n",
      "2022-06-29 06:15:19     184487 catboost-model-13.tar.gz\n",
      "2022-06-29 06:15:19     184487 catboost-model-14.tar.gz\n",
      "2022-06-29 06:15:19     184487 catboost-model-15.tar.gz\n",
      "2022-06-29 06:15:19     184487 catboost-model-16.tar.gz\n",
      "2022-06-29 06:15:19     184487 catboost-model-17.tar.gz\n",
      "2022-06-29 06:15:19     184487 catboost-model-18.tar.gz\n",
      "2022-06-29 06:15:19     184487 catboost-model-19.tar.gz\n",
      "2022-06-29 06:15:18     184487 catboost-model-2.tar.gz\n",
      "2022-06-29 06:15:19     184487 catboost-model-20.tar.gz\n",
      "2022-06-29 06:15:19     184487 catboost-model-21.tar.gz\n",
      "2022-06-29 06:15:19     184487 catboost-model-22.tar.gz\n",
      "2022-06-29 06:15:20     184487 catboost-model-23.tar.gz\n",
      "2022-06-29 06:15:20     184487 catboost-model-24.tar.gz\n",
      "2022-06-29 06:15:20     184487 catboost-model-25.tar.gz\n",
      "2022-06-29 06:15:20     184487 catboost-model-26.tar.gz\n",
      "2022-06-29 06:15:20     184487 catboost-model-27.tar.gz\n",
      "2022-06-29 06:15:20     184487 catboost-model-28.tar.gz\n",
      "2022-06-29 06:15:20     184487 catboost-model-29.tar.gz\n",
      "2022-06-29 06:15:18     184487 catboost-model-3.tar.gz\n",
      "2022-06-29 06:15:20     184487 catboost-model-30.tar.gz\n",
      "2022-06-29 06:15:20     184487 catboost-model-31.tar.gz\n",
      "2022-06-29 06:15:20     184487 catboost-model-32.tar.gz\n",
      "2022-06-29 06:15:20     184487 catboost-model-33.tar.gz\n",
      "2022-06-29 06:15:21     184487 catboost-model-34.tar.gz\n",
      "2022-06-29 06:15:21     184487 catboost-model-35.tar.gz\n",
      "2022-06-29 06:15:21     184487 catboost-model-36.tar.gz\n",
      "2022-06-29 06:15:21     184487 catboost-model-37.tar.gz\n",
      "2022-06-29 06:15:21     184487 catboost-model-38.tar.gz\n",
      "2022-06-29 06:15:21     184487 catboost-model-39.tar.gz\n",
      "2022-06-29 06:15:18     184487 catboost-model-4.tar.gz\n",
      "2022-06-29 06:15:21     184487 catboost-model-40.tar.gz\n",
      "2022-06-29 06:15:21     184487 catboost-model-41.tar.gz\n",
      "2022-06-29 06:15:21     184487 catboost-model-42.tar.gz\n",
      "2022-06-29 06:15:21     184487 catboost-model-43.tar.gz\n",
      "2022-06-29 06:15:22     184487 catboost-model-44.tar.gz\n",
      "2022-06-29 06:15:22     184487 catboost-model-45.tar.gz\n",
      "2022-06-29 06:15:22     184487 catboost-model-46.tar.gz\n",
      "2022-06-29 06:15:22     184487 catboost-model-47.tar.gz\n",
      "2022-06-29 06:15:22     184487 catboost-model-48.tar.gz\n",
      "2022-06-29 06:15:22     184487 catboost-model-49.tar.gz\n",
      "2022-06-29 06:15:18     184487 catboost-model-5.tar.gz\n",
      "2022-06-29 06:15:22     184487 catboost-model-50.tar.gz\n",
      "2022-06-29 06:15:22     184487 catboost-model-51.tar.gz\n",
      "2022-06-29 06:15:22     184487 catboost-model-52.tar.gz\n",
      "2022-06-29 06:15:22     184487 catboost-model-53.tar.gz\n",
      "2022-06-29 06:15:22     184487 catboost-model-54.tar.gz\n",
      "2022-06-29 06:15:23     184487 catboost-model-55.tar.gz\n",
      "2022-06-29 06:15:23     184487 catboost-model-56.tar.gz\n",
      "2022-06-29 06:15:23     184487 catboost-model-57.tar.gz\n",
      "2022-06-29 06:15:23     184487 catboost-model-58.tar.gz\n",
      "2022-06-29 06:15:23     184487 catboost-model-59.tar.gz\n",
      "2022-06-29 06:15:18     184487 catboost-model-6.tar.gz\n",
      "2022-06-29 06:15:23     184487 catboost-model-60.tar.gz\n",
      "2022-06-29 06:15:23     184487 catboost-model-61.tar.gz\n",
      "2022-06-29 06:15:23     184487 catboost-model-62.tar.gz\n",
      "2022-06-29 06:15:23     184487 catboost-model-63.tar.gz\n",
      "2022-06-29 06:15:23     184487 catboost-model-64.tar.gz\n",
      "2022-06-29 06:15:23     184487 catboost-model-65.tar.gz\n",
      "2022-06-29 06:15:23     184487 catboost-model-66.tar.gz\n",
      "2022-06-29 06:15:24     184487 catboost-model-67.tar.gz\n",
      "2022-06-29 06:15:24     184487 catboost-model-68.tar.gz\n",
      "2022-06-29 06:15:24     184487 catboost-model-69.tar.gz\n",
      "2022-06-29 06:15:18     184487 catboost-model-7.tar.gz\n",
      "2022-06-29 06:15:24     184487 catboost-model-70.tar.gz\n",
      "2022-06-29 06:15:24     184487 catboost-model-71.tar.gz\n",
      "2022-06-29 06:15:24     184487 catboost-model-72.tar.gz\n",
      "2022-06-29 06:15:24     184487 catboost-model-73.tar.gz\n",
      "2022-06-29 06:15:24     184487 catboost-model-74.tar.gz\n",
      "2022-06-29 06:15:24     184487 catboost-model-75.tar.gz\n",
      "2022-06-29 06:15:24     184487 catboost-model-76.tar.gz\n",
      "2022-06-29 06:15:24     184487 catboost-model-77.tar.gz\n",
      "2022-06-29 06:15:25     184487 catboost-model-78.tar.gz\n",
      "2022-06-29 06:15:25     184487 catboost-model-79.tar.gz\n",
      "2022-06-29 06:15:18     184487 catboost-model-8.tar.gz\n",
      "2022-06-29 06:15:25     184487 catboost-model-80.tar.gz\n",
      "2022-06-29 06:15:25     184487 catboost-model-81.tar.gz\n",
      "2022-06-29 06:15:25     184487 catboost-model-82.tar.gz\n",
      "2022-06-29 06:15:25     184487 catboost-model-83.tar.gz\n",
      "2022-06-29 06:15:25     184487 catboost-model-84.tar.gz\n",
      "2022-06-29 06:15:25     184487 catboost-model-85.tar.gz\n",
      "2022-06-29 06:15:25     184487 catboost-model-86.tar.gz\n",
      "2022-06-29 06:15:25     184487 catboost-model-87.tar.gz\n",
      "2022-06-29 06:15:26     184487 catboost-model-88.tar.gz\n",
      "2022-06-29 06:15:26     184487 catboost-model-89.tar.gz\n",
      "2022-06-29 06:15:18     184487 catboost-model-9.tar.gz\n",
      "2022-06-29 06:15:26     184487 catboost-model-90.tar.gz\n",
      "2022-06-29 06:15:26     184487 catboost-model-91.tar.gz\n",
      "2022-06-29 06:15:26     184487 catboost-model-92.tar.gz\n",
      "2022-06-29 06:15:26     184487 catboost-model-93.tar.gz\n",
      "2022-06-29 06:15:26     184487 catboost-model-94.tar.gz\n",
      "2022-06-29 06:15:26     184487 catboost-model-95.tar.gz\n",
      "2022-06-29 06:15:26     184487 catboost-model-96.tar.gz\n",
      "2022-06-29 06:15:26     184487 catboost-model-97.tar.gz\n",
      "2022-06-29 06:15:27     184487 catboost-model-98.tar.gz\n",
      "2022-06-29 06:15:27     184487 catboost-model-99.tar.gz\n",
      "2022-06-26 23:42:00    9623121 catboost-model-big-0.tar.gz\n",
      "2022-06-26 23:42:01    9623121 catboost-model-big-1.tar.gz\n",
      "2022-06-26 23:42:03    9623121 catboost-model-big-10.tar.gz\n",
      "2022-06-26 23:42:04    9623121 catboost-model-big-11.tar.gz\n",
      "2022-06-26 23:42:04    9623121 catboost-model-big-12.tar.gz\n",
      "2022-06-26 23:42:04    9623121 catboost-model-big-13.tar.gz\n",
      "2022-06-26 23:42:04    9623121 catboost-model-big-14.tar.gz\n",
      "2022-06-26 23:42:05    9623121 catboost-model-big-15.tar.gz\n",
      "2022-06-26 23:42:05    9623121 catboost-model-big-16.tar.gz\n",
      "2022-06-26 23:42:05    9623121 catboost-model-big-17.tar.gz\n",
      "2022-06-26 23:42:06    9623121 catboost-model-big-18.tar.gz\n",
      "2022-06-26 23:42:06    9623121 catboost-model-big-19.tar.gz\n",
      "2022-06-26 23:42:01    9623121 catboost-model-big-2.tar.gz\n",
      "2022-06-26 23:42:06    9623121 catboost-model-big-20.tar.gz\n",
      "2022-06-26 23:42:06    9623121 catboost-model-big-21.tar.gz\n",
      "2022-06-26 23:42:07    9623121 catboost-model-big-22.tar.gz\n",
      "2022-06-26 23:42:07    9623121 catboost-model-big-23.tar.gz\n",
      "2022-06-26 23:42:07    9623121 catboost-model-big-24.tar.gz\n",
      "2022-06-26 23:42:08    9623121 catboost-model-big-25.tar.gz\n",
      "2022-06-26 23:42:08    9623121 catboost-model-big-26.tar.gz\n",
      "2022-06-26 23:42:08    9623121 catboost-model-big-27.tar.gz\n",
      "2022-06-26 23:42:08    9623121 catboost-model-big-28.tar.gz\n",
      "2022-06-26 23:42:09    9623121 catboost-model-big-29.tar.gz\n",
      "2022-06-26 23:42:01    9623121 catboost-model-big-3.tar.gz\n",
      "2022-06-26 23:42:09    9623121 catboost-model-big-30.tar.gz\n",
      "2022-06-26 23:42:09    9623121 catboost-model-big-31.tar.gz\n",
      "2022-06-26 23:42:09    9623121 catboost-model-big-32.tar.gz\n",
      "2022-06-26 23:42:10    9623121 catboost-model-big-33.tar.gz\n",
      "2022-06-26 23:42:10    9623121 catboost-model-big-34.tar.gz\n",
      "2022-06-26 23:42:10    9623121 catboost-model-big-35.tar.gz\n",
      "2022-06-26 23:42:11    9623121 catboost-model-big-36.tar.gz\n",
      "2022-06-26 23:42:11    9623121 catboost-model-big-37.tar.gz\n",
      "2022-06-26 23:42:11    9623121 catboost-model-big-38.tar.gz\n",
      "2022-06-26 23:42:12    9623121 catboost-model-big-39.tar.gz\n",
      "2022-06-26 23:42:02    9623121 catboost-model-big-4.tar.gz\n",
      "2022-06-26 23:42:12    9623121 catboost-model-big-40.tar.gz\n",
      "2022-06-26 23:42:12    9623121 catboost-model-big-41.tar.gz\n",
      "2022-06-26 23:42:12    9623121 catboost-model-big-42.tar.gz\n",
      "2022-06-26 23:42:13    9623121 catboost-model-big-43.tar.gz\n",
      "2022-06-26 23:42:13    9623121 catboost-model-big-44.tar.gz\n",
      "2022-06-26 23:42:13    9623121 catboost-model-big-45.tar.gz\n",
      "2022-06-26 23:42:14    9623121 catboost-model-big-46.tar.gz\n",
      "2022-06-26 23:42:14    9623121 catboost-model-big-47.tar.gz\n",
      "2022-06-26 23:42:14    9623121 catboost-model-big-48.tar.gz\n",
      "2022-06-26 23:42:14    9623121 catboost-model-big-49.tar.gz\n",
      "2022-06-26 23:42:02    9623121 catboost-model-big-5.tar.gz\n",
      "2022-06-26 23:42:15    9623121 catboost-model-big-50.tar.gz\n",
      "2022-06-26 23:42:15    9623121 catboost-model-big-51.tar.gz\n",
      "2022-06-26 23:42:15    9623121 catboost-model-big-52.tar.gz\n",
      "2022-06-26 23:42:16    9623121 catboost-model-big-53.tar.gz\n",
      "2022-06-26 23:42:16    9623121 catboost-model-big-54.tar.gz\n",
      "2022-06-26 23:42:16    9623121 catboost-model-big-55.tar.gz\n",
      "2022-06-26 23:42:17    9623121 catboost-model-big-56.tar.gz\n",
      "2022-06-26 23:42:17    9623121 catboost-model-big-57.tar.gz\n",
      "2022-06-26 23:42:17    9623121 catboost-model-big-58.tar.gz\n",
      "2022-06-26 23:42:17    9623121 catboost-model-big-59.tar.gz\n",
      "2022-06-26 23:42:02    9623121 catboost-model-big-6.tar.gz\n",
      "2022-06-26 23:42:18    9623121 catboost-model-big-60.tar.gz\n",
      "2022-06-26 23:42:18    9623121 catboost-model-big-61.tar.gz\n",
      "2022-06-26 23:42:18    9623121 catboost-model-big-62.tar.gz\n",
      "2022-06-26 23:42:19    9623121 catboost-model-big-63.tar.gz\n",
      "2022-06-26 23:42:19    9623121 catboost-model-big-64.tar.gz\n",
      "2022-06-26 23:42:19    9623121 catboost-model-big-65.tar.gz\n",
      "2022-06-26 23:42:19    9623121 catboost-model-big-66.tar.gz\n",
      "2022-06-26 23:42:20    9623121 catboost-model-big-67.tar.gz\n",
      "2022-06-26 23:42:20    9623121 catboost-model-big-68.tar.gz\n",
      "2022-06-26 23:42:20    9623121 catboost-model-big-69.tar.gz\n",
      "2022-06-26 23:42:02    9623121 catboost-model-big-7.tar.gz\n",
      "2022-06-26 23:42:21    9623121 catboost-model-big-70.tar.gz\n",
      "2022-06-26 23:42:21    9623121 catboost-model-big-71.tar.gz\n",
      "2022-06-26 23:42:21    9623121 catboost-model-big-72.tar.gz\n",
      "2022-06-26 23:42:21    9623121 catboost-model-big-73.tar.gz\n",
      "2022-06-26 23:42:22    9623121 catboost-model-big-74.tar.gz\n",
      "2022-06-26 23:42:22    9623121 catboost-model-big-75.tar.gz\n",
      "2022-06-26 23:42:23    9623121 catboost-model-big-76.tar.gz\n",
      "2022-06-26 23:42:23    9623121 catboost-model-big-77.tar.gz\n",
      "2022-06-26 23:42:23    9623121 catboost-model-big-78.tar.gz\n",
      "2022-06-26 23:42:27    9623121 catboost-model-big-79.tar.gz\n",
      "2022-06-26 23:42:03    9623121 catboost-model-big-8.tar.gz\n",
      "2022-06-26 23:42:27    9623121 catboost-model-big-80.tar.gz\n",
      "2022-06-26 23:42:28    9623121 catboost-model-big-81.tar.gz\n",
      "2022-06-26 23:42:28    9623121 catboost-model-big-82.tar.gz\n",
      "2022-06-26 23:42:28    9623121 catboost-model-big-83.tar.gz\n",
      "2022-06-26 23:42:28    9623121 catboost-model-big-84.tar.gz\n",
      "2022-06-26 23:42:29    9623121 catboost-model-big-85.tar.gz\n",
      "2022-06-26 23:42:29    9623121 catboost-model-big-86.tar.gz\n",
      "2022-06-26 23:42:29    9623121 catboost-model-big-87.tar.gz\n",
      "2022-06-26 23:42:30    9623121 catboost-model-big-88.tar.gz\n",
      "2022-06-26 23:42:30    9623121 catboost-model-big-89.tar.gz\n",
      "2022-06-26 23:42:03    9623121 catboost-model-big-9.tar.gz\n",
      "2022-06-26 23:42:30    9623121 catboost-model-big-90.tar.gz\n",
      "2022-06-26 23:42:31    9623121 catboost-model-big-91.tar.gz\n",
      "2022-06-26 23:42:31    9623121 catboost-model-big-92.tar.gz\n",
      "2022-06-26 23:42:31    9623121 catboost-model-big-93.tar.gz\n",
      "2022-06-26 23:42:31    9623121 catboost-model-big-94.tar.gz\n",
      "2022-06-26 23:42:32    9623121 catboost-model-big-95.tar.gz\n",
      "2022-06-26 23:42:33    9623121 catboost-model-big-96.tar.gz\n",
      "2022-06-26 23:42:33    9623121 catboost-model-big-97.tar.gz\n",
      "2022-06-26 23:42:33    9623121 catboost-model-big-98.tar.gz\n",
      "2022-06-26 23:42:33    9623121 catboost-model-big-99.tar.gz\n",
      "2022-05-25 20:48:57    6628029 catboost-model-v2.tar.gz\n"
     ]
    }
   ],
   "source": [
    "!aws s3 ls s3://$s3_bucket/catboost/"
   ]
  },
  {
   "cell_type": "markdown",
   "id": "90edb9cb",
   "metadata": {},
   "source": [
    "## Building the custom container"
   ]
  },
  {
   "cell_type": "markdown",
   "id": "ae49eb03",
   "metadata": {},
   "source": [
    "The container folder in this example contains 3 files:\n",
    "```\n",
    "├── container\n",
    "│   ├── dockerd-entrypoint.py\n",
    "│   ├── Dockerfile\n",
    "│   └── model_handler.py\n",
    "```\n",
    "\n",
    "- `dockerd-entrypoint.py` is the entry point script that will start the multi model server.\n",
    "- `Dockerfile` contains the container definition that will be used to assemble the image. This include the packages that need to be installed.\n",
    "- `model_handler.py` is the script that will contain the logic to load up the model and make inference.\n",
    "\n",
    "Take a look through the files to see if there is any customization that you would like to do.\n",
    "Below cells highlight the main part of the files. \n"
   ]
  },
  {
   "cell_type": "markdown",
   "id": "d00e4e18",
   "metadata": {},
   "source": [
    "### Install catboost in the `Dockerfile`"
   ]
  },
  {
   "cell_type": "code",
   "execution_count": 8,
   "id": "be0f7d6f",
   "metadata": {},
   "outputs": [
    {
     "name": "stdout",
     "output_type": "stream",
     "text": [
      "sed: can't read container/Dockerfile: No such file or directory\n"
     ]
    }
   ],
   "source": [
    "! sed -n '26,30p' container/Dockerfile"
   ]
  },
  {
   "cell_type": "markdown",
   "id": "b919b88e",
   "metadata": {},
   "source": [
    "### Update `initialize` function in `model_handler.py` with logic to load up the model\n",
    "In this case we are using `CatBoostClassifier()`. Feel free to update the loading logic in this function to your needs."
   ]
  },
  {
   "cell_type": "code",
   "execution_count": 9,
   "id": "725ba60b",
   "metadata": {},
   "outputs": [
    {
     "name": "stdout",
     "output_type": "stream",
     "text": [
      "sed: can't read container/model_handler.py: No such file or directory\n"
     ]
    }
   ],
   "source": [
    "! sed -n '22,40p' container/model_handler.py"
   ]
  },
  {
   "cell_type": "markdown",
   "id": "bb70309c",
   "metadata": {},
   "source": [
    "### Update `handle` function in `model_handler.py` with logic to load up the model"
   ]
  },
  {
   "cell_type": "code",
   "execution_count": 10,
   "id": "15ef72f2",
   "metadata": {},
   "outputs": [
    {
     "name": "stdout",
     "output_type": "stream",
     "text": [
      "sed: can't read container/model_handler.py: No such file or directory\n"
     ]
    }
   ],
   "source": [
    "! sed -n '70,85p' container/model_handler.py"
   ]
  },
  {
   "cell_type": "markdown",
   "id": "cdea518f",
   "metadata": {},
   "source": [
    "### Build and Push the custom image to ECR"
   ]
  },
  {
   "cell_type": "code",
   "execution_count": null,
   "id": "a7d525d8",
   "metadata": {},
   "outputs": [],
   "source": [
    "%%sh\n",
    "\n",
    "# The name of our algorithm\n",
    "algorithm_name=catboost-sagemaker-multimodel\n",
    "\n",
    "cd container\n",
    "\n",
    "account=$(aws sts get-caller-identity --query Account --output text)\n",
    "\n",
    "# Get the region defined in the current configuration (default to us-west-2 if none defined)\n",
    "region=$(aws configure get region)\n",
    "region=${region:-us-east-1}\n",
    "\n",
    "fullname=\"${account}.dkr.ecr.${region}.amazonaws.com/${algorithm_name}:latest\"\n",
    "\n",
    "# If the repository doesn't exist in ECR, create it.\n",
    "aws ecr describe-repositories --repository-names \"${algorithm_name}\" > /dev/null 2>&1\n",
    "\n",
    "if [ $? -ne 0 ]\n",
    "then\n",
    "    aws ecr create-repository --repository-name \"${algorithm_name}\" > /dev/null\n",
    "fi\n",
    "\n",
    "# Get the login command from ECR and execute it directly\n",
    "$(aws ecr get-login --region ${region} --no-include-email)\n",
    "\n",
    "# Build the docker image locally with the image name and then push it to ECR\n",
    "# with the full name.\n",
    "\n",
    "docker build -q -t ${algorithm_name} .\n",
    "docker tag ${algorithm_name} ${fullname}\n",
    "\n",
    "docker push ${fullname}"
   ]
  },
  {
   "cell_type": "markdown",
   "id": "fa62be9d",
   "metadata": {},
   "source": [
    "### Deploy Multi Model Endpoint"
   ]
  },
  {
   "cell_type": "code",
   "execution_count": null,
   "id": "4fdec42a",
   "metadata": {},
   "outputs": [],
   "source": [
    "from sagemaker import get_execution_role\n",
    "\n",
    "sm_client = boto3.client(service_name=\"sagemaker\")\n",
    "runtime_sm_client = boto3.client(service_name=\"sagemaker-runtime\")\n",
    "\n",
    "account_id = boto3.client(\"sts\").get_caller_identity()[\"Account\"]\n",
    "region = boto3.Session().region_name\n",
    "\n",
    "role = get_execution_role()"
   ]
  },
  {
   "cell_type": "markdown",
   "id": "91e873e5",
   "metadata": {},
   "source": [
    "### Create the SageMaker Multi-Model"
   ]
  },
  {
   "cell_type": "code",
   "execution_count": null,
   "id": "e5591edb",
   "metadata": {},
   "outputs": [],
   "source": [
    "from time import gmtime, strftime\n",
    "\n",
    "model_name = \"catboost-multimodel-\" + strftime(\"%Y-%m-%d-%H-%M-%S\", gmtime())\n",
    "model_url = \"s3://{}/catboost/\".format(s3_bucket)  ## MODEL S3 URL\n",
    "container = \"{}.dkr.ecr.{}.amazonaws.com/catboost-sagemaker-multimodel:latest\".format(\n",
    "    account_id, region\n",
    ")\n",
    "instance_type = \"ml.m5.xlarge\"\n",
    "\n",
    "print(\"Model name: \" + model_name)\n",
    "print(\"Model data Url: \" + model_url)\n",
    "print(\"Container image: \" + container)\n",
    "\n",
    "container = {\"Image\": container, \"ModelDataUrl\": model_url, \"Mode\": \"MultiModel\"}\n",
    "\n",
    "create_model_response = sm_client.create_model(\n",
    "    ModelName=model_name, ExecutionRoleArn=role, Containers=[container]\n",
    ")\n",
    "\n",
    "print(\"Model ARN: \" + create_model_response[\"ModelArn\"])"
   ]
  },
  {
   "cell_type": "markdown",
   "id": "e0c53160",
   "metadata": {},
   "source": [
    "### Create the SageMaker Endpoint Configuration\n"
   ]
  },
  {
   "cell_type": "code",
   "execution_count": null,
   "id": "ee8a2fa4",
   "metadata": {},
   "outputs": [],
   "source": [
    "endpoint_config_name = \"catboost-multimodel-config\" + strftime(\"%Y-%m-%d-%H-%M-%S\", gmtime())\n",
    "print(\"Endpoint config name: \" + endpoint_config_name)\n",
    "\n",
    "create_endpoint_config_response = sm_client.create_endpoint_config(\n",
    "    EndpointConfigName=endpoint_config_name,\n",
    "    ProductionVariants=[\n",
    "        {\n",
    "            \"InstanceType\": instance_type,\n",
    "            \"InitialInstanceCount\": 1,\n",
    "            \"InitialVariantWeight\": 1,\n",
    "            \"ModelName\": model_name,\n",
    "            \"VariantName\": \"AllTraffic\",\n",
    "        }\n",
    "    ],\n",
    ")\n",
    "\n",
    "print(\"Endpoint config ARN: \" + create_endpoint_config_response[\"EndpointConfigArn\"])"
   ]
  },
  {
   "cell_type": "markdown",
   "id": "0fed64e2",
   "metadata": {},
   "source": [
    "### Create the SageMaker Multi-Model Endpoint"
   ]
  },
  {
   "cell_type": "code",
   "execution_count": null,
   "id": "08e5f94d",
   "metadata": {},
   "outputs": [],
   "source": [
    "%%time\n",
    "\n",
    "import time\n",
    "\n",
    "endpoint_name = \"catboost-multimodel-endpoint-\" + strftime(\"%Y-%m-%d-%H-%M-%S\", gmtime())\n",
    "print(\"Endpoint name: \" + endpoint_name)\n",
    "\n",
    "create_endpoint_response = sm_client.create_endpoint(\n",
    "    EndpointName=endpoint_name, EndpointConfigName=endpoint_config_name\n",
    ")\n",
    "print(\"Endpoint Arn: \" + create_endpoint_response[\"EndpointArn\"])\n",
    "\n",
    "resp = sm_client.describe_endpoint(EndpointName=endpoint_name)\n",
    "status = resp[\"EndpointStatus\"]\n",
    "print(\"Endpoint Status: \" + status)\n",
    "\n",
    "print(\"Waiting for {} endpoint to be in service...\".format(endpoint_name))\n",
    "waiter = sm_client.get_waiter(\"endpoint_in_service\")\n",
    "waiter.wait(EndpointName=endpoint_name)"
   ]
  },
  {
   "cell_type": "markdown",
   "id": "28d42787",
   "metadata": {},
   "source": [
    "### Invoke each of the smaller 100 models"
   ]
  },
  {
   "cell_type": "code",
   "execution_count": null,
   "id": "a23ff03c",
   "metadata": {},
   "outputs": [],
   "source": [
    "for i in range(0, 100):\n",
    "    response = runtime_sm_client.invoke_endpoint(\n",
    "        EndpointName=endpoint_name,\n",
    "        TargetModel=\"catboost-model-{}.tar.gz\".format(i),\n",
    "        Body=df.to_csv(index=False),\n",
    "    )\n",
    "    print(json.loads(response[\"Body\"].read().decode(\"utf-8\")))"
   ]
  },
  {
   "cell_type": "markdown",
   "id": "751e2881",
   "metadata": {},
   "source": [
    "### Invoke one of the smaller models 1000 times \n"
   ]
  },
  {
   "cell_type": "code",
   "execution_count": null,
   "id": "dd5f1670",
   "metadata": {},
   "outputs": [],
   "source": [
    "import numpy as np\n",
    "\n",
    "results = []\n",
    "for i in range(0, 1000):\n",
    "    start = time.time()\n",
    "    response = runtime_sm_client.invoke_endpoint(\n",
    "        EndpointName=endpoint_name,\n",
    "        TargetModel=\"catboost-model-1.tar.gz\",\n",
    "        Body=df.to_csv(index=False),\n",
    "    )\n",
    "    results.append((time.time() - start) * 1000)\n",
    "print(\"\\nPredictions for model latency: \\n\")\n",
    "print(\"\\nP95: \" + str(np.percentile(results, 95)) + \" ms\\n\")\n",
    "print(\"P90: \" + str(np.percentile(results, 90)) + \" ms\\n\")\n",
    "print(\"Average: \" + str(np.average(results)) + \" ms\\n\")"
   ]
  }
 ],
 "metadata": {
  "kernelspec": {
   "display_name": "conda_pytorch_p36",
   "language": "python",
   "name": "conda_pytorch_p36"
  },
  "language_info": {
   "codemirror_mode": {
    "name": "ipython",
    "version": 3
   },
   "file_extension": ".py",
   "mimetype": "text/x-python",
   "name": "python",
   "nbconvert_exporter": "python",
   "pygments_lexer": "ipython3",
   "version": "3.6.13"
  }
 },
 "nbformat": 4,
 "nbformat_minor": 5
}
