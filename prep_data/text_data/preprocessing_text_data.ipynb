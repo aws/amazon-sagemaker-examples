{
 "cells": [
  {
   "cell_type": "markdown",
   "metadata": {},
   "source": [
    "# Preprocessing Text Data\n",
    "\n",
    "The purpose of this notebook is to demonstrate how to preprocessing text data for next-step feature engineering and training a machine learning model via Amazon SageMaker. In this notebook we will focus on preprocessing our text data. We are going to discuss many possible methods to clean and enrich your text, but you do not need to run through every single step below. Usually, a rule of thumb is: if you are dealing with very noisy text, like social media text data, or nurse notes, then medium to heavy preprocessing effort might be needed, and if it's domain-specific corpus, text enrichment is helpful as well; if you are dealing with long and well-written documents such as news articles and papers, very light preprocessing is needed; you can add some enrichment to the data to better capture the sentence to sentence relationship and overall meaning. \n"
   ]
  },
  {
   "cell_type": "markdown",
   "metadata": {},
   "source": [
    "## Overview\n",
    "### Input Format  \n",
    "Labeled text data sometimes are in a structured data format. You might come across this when working on reviews for sentiment analysis, news headlines for topic modeling, or documents for text classification. One column of the dataset could be dedicated for the label, one column for the text, and sometimes other columns as attributes. You can process this dataset format similar to how you would process tabular data (see [Preprocessing Tabular Data](https://github.com/aws/amazon-sagemaker-examples/blob/main/prep_data/tabular_data/01_preprocessing_tabular_data.ipynb) for an example). Sometimes text data, especially raw text data, comes as unstructured data and is often in .json or .txt format. To work with this type of formatting, you will need to first extract useful information from the original dataset.  \n",
    "\n",
    "### Use Cases\n",
    "Text data contains rich information and it's everywhere. Applicable use cases include Voice of Customer (VOC), fraud detection, warranty analysis, chatbot and customer service routing, audience analysis, and much more. \n",
    "\n",
    "### What's the difference between preprocessing and feature engineering for text data?\n",
    "In the preprocessing stage, you want to clean and transfer the text data from human language to standard, machine-analyzable format for further processing. For feature engineering, you extract predictive factors (features) from the text. For example, for a matching equivalent question pairs task, the features you can extract include words overlap, cosine similarity, inter-word relationships, parse tree structure similarity, TF-IDF (frequency-inverse document frequency) scores, etc.; for some language model like topic modeling, words embeddings themselves can also be features.\n",
    "\n",
    "### When is my text data ready for feature engineering?\n",
    "When the data is ready to be vectorized and fit your specific use case."
   ]
  },
  {
   "cell_type": "markdown",
   "metadata": {},
   "source": [
    "## Set Up Notebook\n",
    "There are several python packages designed specifically for natural language processing (NLP) tasks. In this notebook, you will use the following packages:\n",
    "\n",
    "* [nltk (natrual language toolkit)](https://www.nltk.org/), a leading platform includes multiple text processing libraries, which covers almost all aspects of preprocessing we will discuss in this section: tokenization, stemming, lemmatization, parsing, chunking, POS tagging, stop words, etc.\n",
    "\n",
    "* [SpaCy](https://spacy.io/), offers most functionality provided by `nltk`, and provides pre-trained word vectors and models. It is scalable and designed for production usage.\n",
    "\n",
    "* [Gensim (Generate Similar)](https://radimrehurek.com/gensim/about.html), \"designed specifically for topic modeling, document indexing, and similarity retrieval with large corpora\". \n",
    "\n",
    "* [TextBlo`](https://textblob.readthedocs.io/en/dev/), offers POS tagging, noun phrases extraction, sentiment analysis, classification, parsing, n-grams, word inflation, all offered as an API to perform more advanced NLP tasks. It is an easy-to-use wrapper for libraries like `nltk` and `Pattern`. We will use this package for our enrichment tasks."
   ]
  },
  {
   "cell_type": "code",
   "execution_count": null,
   "metadata": {},
   "outputs": [],
   "source": [
    "! python -m pip install --upgrade pip\n",
    "! pip install -U  'sagemaker>=2.15.0' spacy gensim==4.0.0 textblob emot==2.1 autocorrect"
   ]
  },
  {
   "cell_type": "code",
   "execution_count": null,
   "metadata": {},
   "outputs": [],
   "source": [
    "import nltk\n",
    "import spacy\n",
    "import gensim\n",
    "from textblob import TextBlob\n",
    "import re\n",
    "import string\n",
    "import glob\n",
    "import sagemaker"
   ]
  },
  {
   "cell_type": "code",
   "execution_count": null,
   "metadata": {},
   "outputs": [],
   "source": [
    "# Get SageMaker session & default S3 bucket\n",
    "sagemaker_session = sagemaker.Session()\n",
    "bucket = sagemaker_session.default_bucket()  # replace with your own bucket if you have one\n",
    "s3 = sagemaker_session.boto_session.resource(\"s3\")\n",
    "\n",
    "prefix = \"text_sentiment140/sentiment140\"\n",
    "filename = \"training.1600000.processed.noemoticon.csv\""
   ]
  },
  {
   "cell_type": "markdown",
   "metadata": {},
   "source": [
    "### Downloading data from Online Sources"
   ]
  },
  {
   "cell_type": "markdown",
   "metadata": {},
   "source": [
    "### Text Data Sets: Twitter -- sentiment140\n",
    " **Sentiment140** The sentiment140 dataset contains 1.6M tweets that were extracted using the [Twitter API](https://developer.twitter.com/en/products/twitter-api) . The tweets have been annotated with sentiment (0 = negative, 4 = positive) and topics (hashtags used to retrieve tweets). The dataset contains the following columns:\n",
    "* `target`: the polarity of the tweet (0 = negative, 4 = positive)\n",
    "* `ids`: The id of the tweet ( 2087)\n",
    "* `date`: the date of the tweet (Sat May 16 23:58:44 UTC 2009)\n",
    "* `flag`: The query (lyx). If there is no query, then this value is NO_QUERY.\n",
    "* `user`: the user that tweeted (robotickilldozr)\n",
    "* `text`: the text of the tweet (Lyx is cool)\n"
   ]
  },
  {
   "cell_type": "code",
   "execution_count": null,
   "metadata": {},
   "outputs": [],
   "source": [
    "# helper functions to upload data to s3\n",
    "def write_to_s3(filename, bucket, prefix):\n",
    "    # put one file in a separate folder. This is helpful if you read and prepare data with Athena\n",
    "    filename_key = filename.split(\".\")[0]\n",
    "    key = \"{}/{}/{}\".format(prefix, filename_key, filename)\n",
    "    return s3.Bucket(bucket).upload_file(filename, key)\n",
    "\n",
    "\n",
    "def upload_to_s3(bucket, prefix, filename):\n",
    "    url = \"s3://{}/{}/{}\".format(bucket, prefix, filename)\n",
    "    print(\"Writing to {}\".format(url))\n",
    "    write_to_s3(filename, bucket, prefix)"
   ]
  },
  {
   "cell_type": "code",
   "execution_count": null,
   "metadata": {},
   "outputs": [],
   "source": [
    "# run this cell if you are in SageMaker Studio notebook\n",
    "#!apt-get install unzip"
   ]
  },
  {
   "cell_type": "code",
   "execution_count": null,
   "metadata": {},
   "outputs": [],
   "source": [
    "!wget http://cs.stanford.edu/people/alecmgo/trainingandtestdata.zip -O sentimen140.zip\n",
    "# Uncompressing\n",
    "!unzip -o sentimen140.zip -d sentiment140"
   ]
  },
  {
   "cell_type": "code",
   "execution_count": null,
   "metadata": {},
   "outputs": [],
   "source": [
    "# upload the files to the S3 bucket\n",
    "csv_files = glob.glob(\"sentiment140/*.csv\")\n",
    "for filename in csv_files:\n",
    "    upload_to_s3(bucket, \"text_sentiment140\", filename)"
   ]
  },
  {
   "cell_type": "markdown",
   "metadata": {},
   "source": [
    "## Read in Data\n",
    "We will read the data in as .csv format since the text is embedded in a structured table.  \n",
    "\n",
    "<b>Note:</b> A frequent error when reading in text data is the encoding error. You can try different encoding options with pandas read_csv when \"encoding as UTF-8\" does not work; see [python encoding documentation](https://docs.python.org/3/library/codecs.html#standard-encodings) for more encodings you may encounter."
   ]
  },
  {
   "cell_type": "code",
   "execution_count": null,
   "metadata": {},
   "outputs": [],
   "source": [
    "import pandas as pd\n",
    "import boto3\n",
    "\n",
    "prefix = \"text_sentiment140/sentiment140\"\n",
    "filename = \"training.1600000.processed.noemoticon.csv\"\n",
    "s3.Bucket(bucket).download_file(prefix + \"/\" + filename, filename)\n",
    "# we will showcase with a smaller subset of data for demonstration purpose\n",
    "text_data = pd.read_csv(filename, header=None, encoding=\"ISO-8859-1\", low_memory=False, nrows=10000)\n",
    "text_data.columns = [\"target\", \"tw_id\", \"date\", \"flag\", \"user\", \"text\"]"
   ]
  },
  {
   "cell_type": "markdown",
   "metadata": {},
   "source": [
    "## Examine Your Text Data \n",
    "Here you will explore common methods and steps for text preprocessing. Text preprocessing is highly specific to each individual corpus and different tasks, so it is important to examine your text data first and decide what steps are necessary. \n",
    "\n",
    "First, look at your text data. Seems like there are whitespaces to trim, URLs, smiley faces, numbers, abbreviations, spelling, names, etc. Tweets are less than 140 characters so there is less need for document segmentation and sentence dependencies."
   ]
  },
  {
   "cell_type": "code",
   "execution_count": null,
   "metadata": {},
   "outputs": [],
   "source": [
    "pd.set_option(\"display.max_colwidth\", None)  # show full content in a column\n",
    "text_data[\"text\"][:5]"
   ]
  },
  {
   "cell_type": "markdown",
   "metadata": {},
   "source": [
    "## Preprocessing\n",
    "\n",
    "### Step 1: Noise Removal\n",
    "\n",
    "Start by removing noise from the text data. Removing noise is very task-specific, so you will usually pick and choose from the following to process your text data based on your needs:\n",
    "* Remove formatting (HTML, markup, metadata) -- e.g. emails, web-scrapped data\n",
    "* Extract text data from full dataset -- e.g. reviews, comments, labeled data from a nested JSON file or from structured data\n",
    "* Remove special characters \n",
    "* Remove emojis or convert emoji to words -- e.g. reviews, tweets, Instagram and Facebook comments, SMS text with sales\n",
    "* Remove URLs -- reviews, web content, emails\n",
    "* Convert accented characters to ASCII characters -- e.g. tweets, contents that may contain foreign language\n",
    "\n",
    "Note that preprocessing is an iterative process, so it is common to revisit any of these steps after you have cleaned and normalized your data.\n",
    "\n",
    "Here you will look at tweets and decide how you are going to process URL, emojis and emoticons.\n",
    "\n",
    "Working with text will often means dealing with regular expression. To freshen up on your regex or if you are new, [Pythex](https://pythex.org/) is a good helper page for you to find cheatsheet and test your functions."
   ]
  },
  {
   "cell_type": "markdown",
   "metadata": {},
   "source": [
    "#### Noise Removal - Remove URLs"
   ]
  },
  {
   "cell_type": "code",
   "execution_count": null,
   "metadata": {},
   "outputs": [],
   "source": [
    "def remove_urls(text):\n",
    "    url = re.compile(r\"https?://\\S+|www\\.\\S+\")\n",
    "    return url.sub(r\"\", text)"
   ]
  },
  {
   "cell_type": "markdown",
   "metadata": {},
   "source": [
    "Let's check if our code works with one example:"
   ]
  },
  {
   "cell_type": "code",
   "execution_count": null,
   "metadata": {},
   "outputs": [],
   "source": [
    "print(text_data[\"text\"][0])\n",
    "print(\"Removed URL:\" + remove_urls(text_data[\"text\"][0]))"
   ]
  },
  {
   "cell_type": "markdown",
   "metadata": {},
   "source": [
    "#### Noise Removal - Remove emoticons, or convert emoticons to words"
   ]
  },
  {
   "cell_type": "code",
   "execution_count": null,
   "metadata": {},
   "outputs": [],
   "source": [
    "from emot.emo_unicode import UNICODE_EMO, EMOTICONS"
   ]
  },
  {
   "cell_type": "code",
   "execution_count": null,
   "metadata": {},
   "outputs": [],
   "source": [
    "def remove_emoticons(text):\n",
    "    \"\"\"\n",
    "    This function takes strings containing emoticons and returns strings with emoticons removed.\n",
    "    Input(string): one tweet, contains emoticons\n",
    "    Output(string): one tweet, emoticons removed, everything else unchanged\n",
    "    \"\"\"\n",
    "    emoticon = re.compile(\"(\" + \"|\".join(k for k in EMOTICONS) + \")\")\n",
    "    return emoticon.sub(r\"\", text)"
   ]
  },
  {
   "cell_type": "code",
   "execution_count": null,
   "metadata": {},
   "outputs": [],
   "source": [
    "def convert_emoticons(text):\n",
    "    \"\"\"\n",
    "    This function takes strings containing emoticons and convert the emoticons to words that describe the emoticon.\n",
    "    Input(string): one tweet, contains emoticons\n",
    "    Output(string): one tweet, emoticons replaced with words describing the emoticon\n",
    "    \"\"\"\n",
    "    for emot in EMOTICONS:\n",
    "        text = re.sub(\"(\" + emot + \")\", \" \".join(EMOTICONS[emot].replace(\",\", \"\").split()), text)\n",
    "    return text"
   ]
  },
  {
   "cell_type": "markdown",
   "metadata": {},
   "source": [
    "Let's check the results with one example and decide if we should keep the emoticon:"
   ]
  },
  {
   "cell_type": "code",
   "execution_count": null,
   "metadata": {},
   "outputs": [],
   "source": [
    "print(\"original text: \" + remove_emoticons(text_data[\"text\"][0]))\n",
    "print(\"removed emoticons: \" + convert_emoticons(text_data[\"text\"][0]))"
   ]
  },
  {
   "cell_type": "markdown",
   "metadata": {},
   "source": [
    "Assuming our task is sentiment analysis, then converting emoticons to words will be helpful. \n",
    "We will apply our remove_URL and convert_emoticons functions to the full dataset:"
   ]
  },
  {
   "cell_type": "code",
   "execution_count": null,
   "metadata": {},
   "outputs": [],
   "source": [
    "text_data[\"cleaned_text\"] = text_data[\"text\"].apply(remove_urls).apply(convert_emoticons)"
   ]
  },
  {
   "cell_type": "code",
   "execution_count": null,
   "metadata": {},
   "outputs": [],
   "source": [
    "text_data[[\"text\", \"cleaned_text\"]][:1]"
   ]
  },
  {
   "cell_type": "markdown",
   "metadata": {},
   "source": [
    "## Step 2: Normalization\n",
    "\n",
    "In the next step, we will further process the text so that all text/words will be put on the same level playing field: all the words should be in the same case, numbers should be also treated as strings, abbreviations and chat words should be recognizable and replaced with the full words, etc. This is important because we do not want two elements in our word list (dictionary) with the same meaning are taken as two non-related different words by machine, and when we eventually convert all words to numbers (vectors), these words will be noises to our model, such as \"3\" and \"three\", \"Our\" and \"our\", or \"urs\" and \"yours\". This process often includes the following steps: \n",
    "### Step 2.1 General Normalization\n",
    "* Convert all text to the same case\n",
    "* Remove punctuation\n",
    "* Convert numbers to word or remove numbers depending on your task \n",
    "* Remove white spaces\n",
    "* Convert abbreviations/slangs/chat words to word\n",
    "* Remove stop words (task specific and general English words); you can also create your own list of stop words\n",
    "* Remove rare words\n",
    "* Spelling correction\n",
    "\n",
    "**Note:** some normalization processes are better to perform at sentence and document level, and some processes are word-level and should happen after tokenization and segmentation, which we will cover right after normalization.\n",
    "\n",
    "Here you will convert the text to lower case, remove punctuation, remove numbers, remove white spaces, and complete other word-level processing steps after tokenizing the sentences.\n",
    "\n",
    "#### Normalization - Convert all text to lower case\n",
    "Usually, this is a must for all language preprocessing. Since \"Word\" and \"word\" will essentially be considered two different elements in word representation, and we want words that have the same meaning to be represented the same in numbers (vectors), we want to convert all text into the same case. "
   ]
  },
  {
   "cell_type": "code",
   "execution_count": null,
   "metadata": {},
   "outputs": [],
   "source": [
    "text_data[\"text_lower\"] = text_data[\"cleaned_text\"].str.lower()\n",
    "text_data[[\"cleaned_text\", \"text_lower\"]][:1]"
   ]
  },
  {
   "cell_type": "markdown",
   "metadata": {},
   "source": [
    "#### Normalization -  Remove numbers\n",
    "Depending on your use cases, you can either remove numbers or convert numbers into strings. If numbers are not important in your task (e.g. sentiment analysis) you can remove those, and in some cases, numbers are useful (e.g. date), and you can tag these numbers differently. In most pre-trained embeddings, numbers are treated as strings.\n",
    "\n",
    "In this example, we are using Twitter data (tweets) and typically, numbers are not that important for understanding the meaning or content of a tweet. Therefore, we will remove the numbers."
   ]
  },
  {
   "cell_type": "code",
   "execution_count": null,
   "metadata": {},
   "outputs": [],
   "source": [
    "def remove_numbers(text):\n",
    "    \"\"\"\n",
    "    This function takes strings containing numbers and returns strings with numbers removed.\n",
    "    Input(string): one tweet, contains numbers\n",
    "    Output(string): one tweet, numbers removed\n",
    "    \"\"\"\n",
    "    return re.sub(r\"\\d+\", \"\", text)"
   ]
  },
  {
   "cell_type": "code",
   "execution_count": null,
   "metadata": {},
   "outputs": [],
   "source": [
    "# let's check the results of our function\n",
    "remove_numbers(text_data[\"text_lower\"][2])"
   ]
  },
  {
   "cell_type": "code",
   "execution_count": null,
   "metadata": {},
   "outputs": [],
   "source": [
    "text_data[\"normalized_text\"] = text_data[\"text_lower\"].apply(remove_numbers)"
   ]
  },
  {
   "cell_type": "markdown",
   "metadata": {},
   "source": [
    "#### Twitter data specific: Remove mentions or extract mentions into a different column\n",
    "We can remove the mentions in the tweets, but if our task is to monitor VOC, it is helpful to extract the mentions data. "
   ]
  },
  {
   "cell_type": "code",
   "execution_count": null,
   "metadata": {},
   "outputs": [],
   "source": [
    "def remove_mentions(text):\n",
    "    \"\"\"\n",
    "    This function takes strings containing mentions and returns strings with\n",
    "    mentions (@ and the account name) removed.\n",
    "    Input(string): one tweet, contains mentions\n",
    "    Output(string): one tweet, mentions (@ and the account name mentioned) removed\n",
    "    \"\"\"\n",
    "    mentions = re.compile(r\"@\\w+ ?\")\n",
    "    return mentions.sub(r\"\", text)"
   ]
  },
  {
   "cell_type": "code",
   "execution_count": null,
   "metadata": {},
   "outputs": [],
   "source": [
    "print(\"original text: \" + text_data[\"text_lower\"][0])\n",
    "print(\"removed mentions: \" + remove_mentions(text_data[\"text_lower\"][0]))"
   ]
  },
  {
   "cell_type": "code",
   "execution_count": null,
   "metadata": {},
   "outputs": [],
   "source": [
    "def extract_mentions(text):\n",
    "    \"\"\"\n",
    "    This function takes strings containing mentions and returns strings with\n",
    "    mentions (@ and the account name) extracted into a different element,\n",
    "    and removes the mentions in the original sentence.\n",
    "    Input(string): one sentence, contains mentions\n",
    "    Output:\n",
    "    one tweet (string): mentions (@ and the account name mentioned) removed\n",
    "    mentions (string): (only the account name mentioned) extracted\n",
    "    \"\"\"\n",
    "    mentions = [i[1:] for i in text.split() if i.startswith(\"@\")]\n",
    "    sentence = re.compile(r\"@\\w+ ?\").sub(r\"\", text)\n",
    "    return sentence, mentions"
   ]
  },
  {
   "cell_type": "code",
   "execution_count": null,
   "metadata": {},
   "outputs": [],
   "source": [
    "text_data[\"normalized_text\"], text_data[\"mentions\"] = zip(\n",
    "    *text_data[\"normalized_text\"].apply(extract_mentions)\n",
    ")"
   ]
  },
  {
   "cell_type": "code",
   "execution_count": null,
   "metadata": {},
   "outputs": [],
   "source": [
    "text_data[[\"text\", \"normalized_text\", \"mentions\"]].head(1)"
   ]
  },
  {
   "cell_type": "markdown",
   "metadata": {},
   "source": [
    "#### Remove Punctuation\n",
    "We will use the `string.punctuation` in python to remove punctuations, which contains the following punctuation symbols`!\"#$%&\\'()*+,-./:;<=>?@[\\\\]^_{|}~`\n",
    ", you can add or remove more as needed."
   ]
  },
  {
   "cell_type": "code",
   "execution_count": null,
   "metadata": {},
   "outputs": [],
   "source": [
    "punc_list = string.punctuation  # you can self define list of punctuation to remove here\n",
    "\n",
    "\n",
    "def remove_punctuation(text):\n",
    "    \"\"\"\n",
    "    This function takes strings containing self defined punctuations and returns\n",
    "    strings with punctuations removed.\n",
    "    Input(string): one tweet, contains punctuations in the self-defined list\n",
    "    Output(string): one tweet, self-defined punctuations removed\n",
    "    \"\"\"\n",
    "    translator = str.maketrans(\"\", \"\", punc_list)\n",
    "    return text.translate(translator)"
   ]
  },
  {
   "cell_type": "code",
   "execution_count": null,
   "metadata": {},
   "outputs": [],
   "source": [
    "remove_punctuation(text_data[\"normalized_text\"][2])"
   ]
  },
  {
   "cell_type": "code",
   "execution_count": null,
   "metadata": {},
   "outputs": [],
   "source": [
    "text_data[\"normalized_text\"] = text_data[\"normalized_text\"].apply(remove_punctuation)"
   ]
  },
  {
   "cell_type": "markdown",
   "metadata": {},
   "source": [
    "#### Remove Whitespaces\n",
    "You can also use `trim` functions to trim whitespaces from left and right or in the middle. Here we will just simply utilize the `split` function to extract all words from our text since we already removed all special characters, and combine them with a single whitespace."
   ]
  },
  {
   "cell_type": "code",
   "execution_count": null,
   "metadata": {},
   "outputs": [],
   "source": [
    "def remove_whitespace(text):\n",
    "    \"\"\"\n",
    "    This function takes strings containing mentions and returns strings with\n",
    "    whitespaces removed.\n",
    "    Input(string): one tweet, contains whitespaces\n",
    "    Output(string): one tweet, white spaces removed\n",
    "    \"\"\"\n",
    "    return \" \".join(text.split())"
   ]
  },
  {
   "cell_type": "code",
   "execution_count": null,
   "metadata": {},
   "outputs": [],
   "source": [
    "print(\"original text: \" + text_data[\"normalized_text\"][2])\n",
    "print(\"removed whitespaces: \" + remove_whitespace(text_data[\"normalized_text\"][2]))"
   ]
  },
  {
   "cell_type": "code",
   "execution_count": null,
   "metadata": {},
   "outputs": [],
   "source": [
    "text_data[\"normalized_text\"] = text_data[\"normalized_text\"].apply(remove_whitespace)"
   ]
  },
  {
   "cell_type": "markdown",
   "metadata": {},
   "source": [
    "## Step 3: Tokenization and Segmentation\n",
    "\n",
    "After we extracted useful text data from the full dataset, we will split large chunks of text (documents) into sentences, and sentences into words. Most of the times we will use sentence-ending punctuation to split documents into sentences, but it can be ambiguous especially when we are dealing with character conversations (\"Are you alright?\" said Ron), abbreviations (Dr. Fay would like to see Mr. Smith now.) and other special use cases. There are Python libraries designed for this task (check [textsplit](https://github.com/chschock/textsplit)), but you can take your own approach depending on your context. \n",
    "\n",
    "Here for Twitter data, we are only dealing with sentences shorter than 140 characters, so we will just tokenize sentences into words. We do want to normalize the sentence before tokenizing sentences into words, so we will introduce normalization, and tokenize our tweets into words after normalizing sentences."
   ]
  },
  {
   "cell_type": "markdown",
   "metadata": {},
   "source": [
    "### Tokenizing Sentences into Words"
   ]
  },
  {
   "cell_type": "code",
   "execution_count": null,
   "metadata": {},
   "outputs": [],
   "source": [
    "nltk.download(\"punkt\")"
   ]
  },
  {
   "cell_type": "code",
   "execution_count": null,
   "metadata": {},
   "outputs": [],
   "source": [
    "from nltk.tokenize import word_tokenize\n",
    "\n",
    "\n",
    "def tokenize_sent(text):\n",
    "    \"\"\"\n",
    "    This function takes strings (a tweet) and returns tokenized words.\n",
    "    Input(string): one tweet\n",
    "    Output(list): list of words tokenized from the tweet\n",
    "    \"\"\"\n",
    "    word_tokens = word_tokenize(text)\n",
    "    return word_tokens"
   ]
  },
  {
   "cell_type": "code",
   "execution_count": null,
   "metadata": {},
   "outputs": [],
   "source": [
    "text_data[\"tokenized_text\"] = text_data[\"normalized_text\"].apply(tokenize_sent)"
   ]
  },
  {
   "cell_type": "code",
   "execution_count": null,
   "metadata": {},
   "outputs": [],
   "source": [
    "text_data[[\"normalized_text\", \"tokenized_text\"]][:1]"
   ]
  },
  {
   "cell_type": "markdown",
   "metadata": {},
   "source": [
    "### Continuing Word-level Normalization\n",
    "#### Remove Stop Words\n",
    "Stop words are common words that does not contribute to the meaning of a sentence, such as 'the', 'a', 'his'. Most of the time we can remove these words without harming further analysis, but if you want to apply Part-of-Speech (POS) tagging later, be careful with what you removed in this step as they can provide valuable information. You can also add stop words to the list based on your use cases. "
   ]
  },
  {
   "cell_type": "code",
   "execution_count": null,
   "metadata": {},
   "outputs": [],
   "source": [
    "nltk.download(\"stopwords\")\n",
    "from nltk.corpus import stopwords"
   ]
  },
  {
   "cell_type": "code",
   "execution_count": null,
   "metadata": {},
   "outputs": [],
   "source": [
    "stopwords_list = set(stopwords.words(\"english\"))"
   ]
  },
  {
   "cell_type": "markdown",
   "metadata": {},
   "source": [
    "One way to add words to your stopwords list is to check for most frequent words, especially if you are working with a domain-specific corpus and those words sometimes are not covered by general English stop words. You can also remove rare words from your text data. \n",
    "\n",
    "Let's check for the most common words in our data. All the words we see in the following example are covered in general English stop words, so we will not add any additional stop words."
   ]
  },
  {
   "cell_type": "code",
   "execution_count": null,
   "metadata": {},
   "outputs": [],
   "source": [
    "from collections import Counter\n",
    "\n",
    "counter = Counter()\n",
    "for word in [w for sent in text_data[\"tokenized_text\"] for w in sent]:\n",
    "    counter[word] += 1\n",
    "counter.most_common(10)"
   ]
  },
  {
   "cell_type": "markdown",
   "metadata": {},
   "source": [
    "Let's check for the rarest words now. In this example, infrequently used words mostly consist of misspelled words, which we will later correct, but we can add them to our stop words list as well."
   ]
  },
  {
   "cell_type": "code",
   "execution_count": null,
   "metadata": {},
   "outputs": [],
   "source": [
    "# least frequent words\n",
    "counter.most_common()[:-10:-1]"
   ]
  },
  {
   "cell_type": "code",
   "execution_count": null,
   "metadata": {},
   "outputs": [],
   "source": [
    "top_n = 10\n",
    "bottom_n = 10\n",
    "stopwords_list |= set([word for (word, count) in counter.most_common(top_n)])\n",
    "stopwords_list |= set([word for (word, count) in counter.most_common()[:-bottom_n:-1]])\n",
    "stopwords_list |= {\"thats\"}\n",
    "\n",
    "\n",
    "def remove_stopwords(tokenized_text):\n",
    "    \"\"\"\n",
    "    This function takes a list of tokenized words from a tweet, removes self-defined stop words from the list,\n",
    "    and returns the list of words with stop words removed\n",
    "    Input(list): a list of tokenized words from a tweet, contains stop words\n",
    "    Output(list): a list of words with stop words removed\n",
    "    \"\"\"\n",
    "    filtered_text = [word for word in tokenized_text if word not in stopwords_list]\n",
    "    return filtered_text"
   ]
  },
  {
   "cell_type": "code",
   "execution_count": null,
   "metadata": {},
   "outputs": [],
   "source": [
    "print(text_data[\"tokenized_text\"][2])\n",
    "print(remove_stopwords(text_data[\"tokenized_text\"][2]))"
   ]
  },
  {
   "cell_type": "code",
   "execution_count": null,
   "metadata": {},
   "outputs": [],
   "source": [
    "text_data[\"tokenized_text\"] = text_data[\"tokenized_text\"].apply(remove_stopwords)"
   ]
  },
  {
   "cell_type": "markdown",
   "metadata": {},
   "source": [
    "#### Convert Abbreviations, slangs and chat words into words\n",
    "Sometimes you will need to develop your own mapping for abbreviations/slangs <-> words, for chat data, or for domain-specific data where abbreviations often have different meanings from what is commonly used."
   ]
  },
  {
   "cell_type": "code",
   "execution_count": null,
   "metadata": {},
   "outputs": [],
   "source": [
    "chat_words_map = {\n",
    "    \"idk\": \"i do not know\",\n",
    "    \"btw\": \"by the way\",\n",
    "    \"imo\": \"in my opinion\",\n",
    "    \"u\": \"you\",\n",
    "    \"oic\": \"oh i see\",\n",
    "}\n",
    "chat_words_list = set(chat_words_map)"
   ]
  },
  {
   "cell_type": "code",
   "execution_count": null,
   "metadata": {},
   "outputs": [],
   "source": [
    "def translator(text):\n",
    "    \"\"\"\n",
    "    This function takes a list of tokenized words, finds the chat words in the self-defined chat words list,\n",
    "    and replace the chat words with the mapped full expressions. It returns the list of tokenized words with\n",
    "    chat words replaced.\n",
    "    Input(list): a list of tokenized words from a tweet, contains chat words\n",
    "    Output(list): a list of words with chat words replaced by full expressions\n",
    "    \"\"\"\n",
    "    new_text = []\n",
    "    for w in text:\n",
    "        if w in set(chat_words_map):\n",
    "            new_text = new_text + chat_words_map[w].split()\n",
    "        else:\n",
    "            new_text.append(w)\n",
    "    return new_text"
   ]
  },
  {
   "cell_type": "code",
   "execution_count": null,
   "metadata": {},
   "outputs": [],
   "source": [
    "print(text_data[\"tokenized_text\"][13])\n",
    "print(translator(text_data[\"tokenized_text\"][13]))"
   ]
  },
  {
   "cell_type": "code",
   "execution_count": null,
   "metadata": {},
   "outputs": [],
   "source": [
    "text_data[\"tokenized_text\"] = text_data[\"tokenized_text\"].apply(translator)"
   ]
  },
  {
   "cell_type": "markdown",
   "metadata": {},
   "source": [
    "#### Spelling Correction\n",
    "Some common spelling correction packages include `SpellChecker` and `autocorrect`. It might take some time to spell check every sentence of the text, so you can decide if a spell check is absolutely necessary. If you are dealing with documents (news, papers, articles) generally it is not necessary; but if you are dealing with chat data, reviews, notes, it might be a good idea to spell check your text."
   ]
  },
  {
   "cell_type": "code",
   "execution_count": null,
   "metadata": {},
   "outputs": [],
   "source": [
    "from autocorrect import Speller"
   ]
  },
  {
   "cell_type": "code",
   "execution_count": null,
   "metadata": {},
   "outputs": [],
   "source": [
    "spell = Speller(lang=\"en\", fast=True)\n",
    "\n",
    "\n",
    "def spelling_correct(tokenized_text):\n",
    "    \"\"\"\n",
    "    This function takes a list of tokenized words from a tweet, spell check every words and returns the\n",
    "    corrected words if applicable. Note that not every wrong spelling words will be identified especially\n",
    "    for tweets.\n",
    "    Input(list): a list of tokenized words from a tweet, contains wrong-spelling words\n",
    "    Output(list): a list of corrected words\n",
    "    \"\"\"\n",
    "    corrected = [spell(word) for word in tokenized_text]\n",
    "    return corrected"
   ]
  },
  {
   "cell_type": "code",
   "execution_count": null,
   "metadata": {},
   "outputs": [],
   "source": [
    "print(text_data[\"tokenized_text\"][0])\n",
    "print(spelling_correct(text_data[\"tokenized_text\"][0]))"
   ]
  },
  {
   "cell_type": "code",
   "execution_count": null,
   "metadata": {},
   "outputs": [],
   "source": [
    "text_data[\"tokenized_text\"] = text_data[\"tokenized_text\"].apply(spelling_correct)"
   ]
  },
  {
   "cell_type": "markdown",
   "metadata": {},
   "source": [
    "### Step 3.2  [Stemming and Lemmatization](https://en.wikipedia.org/wiki/Lemmatisation)\n",
    "**Stemming** is the process of removing affixes from a word to get a word stem, and **lemmatization** can in principle select the appropriate lemma depending on the context. The difference is that a stemmer operates on a single word without knowledge of the context, and therefore cannot discriminate between words that have different meanings depending on part of speech. However, stemmers are typically easier to implement and run faster, and the reduced accuracy may not matter for some applications."
   ]
  },
  {
   "cell_type": "markdown",
   "metadata": {},
   "source": [
    "#### Stemming\n",
    "There are several stemming algorithms available, and the most popular ones are Porter, Lancaster, and Snowball. Porter is the most common one, Snowball is an improvement over Porter, and Lancaster is more aggressive. You can check for more algorithms provided by `nltk` [here](https://www.nltk.org/api/nltk.stem.html)."
   ]
  },
  {
   "cell_type": "code",
   "execution_count": null,
   "metadata": {},
   "outputs": [],
   "source": [
    "from nltk.stem import SnowballStemmer\n",
    "from nltk.tokenize import word_tokenize\n",
    "\n",
    "stemmer = SnowballStemmer(\"english\")\n",
    "\n",
    "\n",
    "def stem_text(tokenized_text):\n",
    "    \"\"\"\n",
    "    This function takes a list of tokenized words from a tweet, and returns the stemmed words by your\n",
    "    defined stemmer.\n",
    "    Input(list): a list of tokenized words from a tweet\n",
    "    Output(list): a list of stemmed words in its root form\n",
    "    \"\"\"\n",
    "    stems = [stemmer.stem(word) for word in tokenized_text]\n",
    "    return stems"
   ]
  },
  {
   "cell_type": "markdown",
   "metadata": {},
   "source": [
    "#### Lemmatization"
   ]
  },
  {
   "cell_type": "code",
   "execution_count": null,
   "metadata": {},
   "outputs": [],
   "source": [
    "nltk.download(\"wordnet\")"
   ]
  },
  {
   "cell_type": "code",
   "execution_count": null,
   "metadata": {},
   "outputs": [],
   "source": [
    "from nltk.stem import WordNetLemmatizer\n",
    "from nltk.tokenize import word_tokenize\n",
    "\n",
    "lemmatizer = WordNetLemmatizer()\n",
    "\n",
    "\n",
    "def lemmatize_text(tokenized_text):\n",
    "    \"\"\"\n",
    "    This function takes a list of tokenized words from a tweet, and returns the lemmatized words.\n",
    "    you can also provide context for lemmatization, i.e. part-of-speech.\n",
    "    Input(list): a list of tokenized words from a tweet\n",
    "    Output(list): a list of lemmatized words in its base form\n",
    "    \"\"\"\n",
    "    lemmas = [lemmatizer.lemmatize(word, pos=\"v\") for word in tokenized_text]\n",
    "    return lemmas"
   ]
  },
  {
   "cell_type": "markdown",
   "metadata": {},
   "source": [
    "#### Let's compare our stemming and lemmatization results:\n",
    "It seems like both processes returned similar results besides some verb being trimmed differently, so it is okay to go with stemming in this case if you are dealing with a lot of data and want a better performance. You can also keep both and experiment with further feature engineering and modeling to see which one produces better results."
   ]
  },
  {
   "cell_type": "code",
   "execution_count": null,
   "metadata": {},
   "outputs": [],
   "source": [
    "print(text_data[\"tokenized_text\"][2])\n",
    "print(stem_text(text_data[\"tokenized_text\"][2]))\n",
    "print(lemmatize_text(text_data[\"tokenized_text\"][2]))"
   ]
  },
  {
   "cell_type": "markdown",
   "metadata": {},
   "source": [
    "It seems that a stemmer can do the work for our tweets data. You can keep both and decide which one you want to use for feature engineering and modeling."
   ]
  },
  {
   "cell_type": "code",
   "execution_count": null,
   "metadata": {},
   "outputs": [],
   "source": [
    "text_data[\"stem_text\"] = text_data[\"tokenized_text\"].apply(stem_text)\n",
    "text_data[\"lemma_text\"] = text_data[\"tokenized_text\"].apply(lemmatize_text)"
   ]
  },
  {
   "cell_type": "markdown",
   "metadata": {},
   "source": [
    "## Step 3.5: Re-examine the results\n",
    "Take a pause here and examine the results from previous steps to decide if more noise removal/normalization is needed. In this case, you might want to add more words to the stop words list, spell-check more aggressively, or add more mappings to the abbreviation/slang to words list."
   ]
  },
  {
   "cell_type": "code",
   "execution_count": null,
   "metadata": {},
   "outputs": [],
   "source": [
    "text_data.sample(5)[[\"text\", \"stem_text\", \"lemma_text\"]]"
   ]
  },
  {
   "cell_type": "markdown",
   "metadata": {},
   "source": [
    "## Step 4: Enrichment and Augmentation\n",
    "After you have cleaned and tokenized your text data into a standard form, you might want to enrich it with more useful information that was not provided directly in the original text or its single-word form. For example: \n",
    "* Part-of-speech tagging\n",
    "* Extracting phrases\n",
    "* Name entity recognition\n",
    "* Dependency parsing\n",
    "* Word level embeddings\n",
    "\n",
    "Many Python Packages including `nltk`, `SpaCy`, `CoreNLP`, and here we will use `TextBlob` to illustrate some enrichment methods. \n",
    "\n",
    "#### Part-of-Speech (POS) Tagging\n",
    "Part-of-Speech tagging can assign each word in accordance with its syntactic functions (noun, verb, adjectives, etc.).  "
   ]
  },
  {
   "cell_type": "code",
   "execution_count": null,
   "metadata": {},
   "outputs": [],
   "source": [
    "nltk.download(\"averaged_perceptron_tagger\")"
   ]
  },
  {
   "cell_type": "code",
   "execution_count": null,
   "metadata": {},
   "outputs": [],
   "source": [
    "text_example = text_data.sample()[\"lemma_text\"]\n",
    "text_example"
   ]
  },
  {
   "cell_type": "code",
   "execution_count": null,
   "metadata": {},
   "outputs": [],
   "source": [
    "from textblob import TextBlob\n",
    "\n",
    "result = TextBlob(\" \".join(text_example.values[0]))\n",
    "print(result.tags)"
   ]
  },
  {
   "cell_type": "markdown",
   "metadata": {},
   "source": [
    "#### Extracting Phrases\n",
    "Sometimes words come in as phrases (noun group phrases, verb group phrases, etc.) and often have discrete grammatical meanings. Extract those words as phrases rather than separate words in this case."
   ]
  },
  {
   "cell_type": "code",
   "execution_count": null,
   "metadata": {},
   "outputs": [],
   "source": [
    "nltk.download(\"brown\")"
   ]
  },
  {
   "cell_type": "code",
   "execution_count": null,
   "metadata": {},
   "outputs": [],
   "source": [
    "# orginal text:\n",
    "text_example = text_data.sample()[\"lemma_text\"]\n",
    "\" \".join(text_example.values[0])"
   ]
  },
  {
   "cell_type": "code",
   "execution_count": null,
   "metadata": {},
   "outputs": [],
   "source": [
    "# noun phrases that can be extracted from this sentence\n",
    "result = TextBlob(\" \".join(text_example.values[0]))\n",
    "for nouns in result.noun_phrases:\n",
    "    print(nouns)"
   ]
  },
  {
   "cell_type": "markdown",
   "metadata": {},
   "source": [
    "#### Name Entity Recognition (NER)\n",
    "You can use pre-trained/pre-defined name entity recognition models to find named entities in text and classify them into pre-defined categories. You can also train your own NER model, especially if you are dealing with domain specific context."
   ]
  },
  {
   "cell_type": "code",
   "execution_count": null,
   "metadata": {},
   "outputs": [],
   "source": [
    "nltk.download(\"maxent_ne_chunker\")\n",
    "nltk.download(\"words\")"
   ]
  },
  {
   "cell_type": "code",
   "execution_count": null,
   "metadata": {},
   "outputs": [],
   "source": [
    "text_example_enr = text_data.sample()[\"lemma_text\"].values[0]\n",
    "print(\"original text: \" + \" \".join(text_example_enr))"
   ]
  },
  {
   "cell_type": "code",
   "execution_count": null,
   "metadata": {},
   "outputs": [],
   "source": [
    "from nltk import pos_tag, ne_chunk\n",
    "\n",
    "print(ne_chunk(pos_tag(text_example_enr)))"
   ]
  },
  {
   "cell_type": "markdown",
   "metadata": {},
   "source": [
    "## Final Dataset ready for feature engineering and modeling\n",
    "For this notebook you cleaned and normalized the data, kept mentions as a separate column, and stemmed and lemmatized the tokenized words. You can experiment with these two results to see which one gives you a better model performance.  \n",
    "\n",
    "Twitter data is short and often does not have complex syntax structures, so no enrichment (POS tagging, parsing, etc.) was done at this time; but you can experiment with those when you have more complicated text data."
   ]
  },
  {
   "cell_type": "code",
   "execution_count": null,
   "metadata": {},
   "outputs": [],
   "source": [
    "text_data.head(2)"
   ]
  },
  {
   "cell_type": "markdown",
   "metadata": {},
   "source": [
    "### Save our final dataset to S3 for further process"
   ]
  },
  {
   "cell_type": "code",
   "execution_count": null,
   "metadata": {},
   "outputs": [],
   "source": [
    "filename_write_to = \"processed_sentiment_140.csv\"\n",
    "text_data.to_csv(filename_write_to, index=False)\n",
    "upload_to_s3(bucket, \"text_sentiment140_processed\", filename_write_to)"
   ]
  },
  {
   "cell_type": "markdown",
   "metadata": {},
   "source": [
    "## Conclusion\n",
    "\n",
    "Congratulations! You cleaned and prepared your text data and it is now ready to be vectorized or used for feature engineering. "
   ]
  },
  {
   "cell_type": "code",
   "execution_count": null,
   "metadata": {},
   "outputs": [],
   "source": []
  }
 ],
 "metadata": {
  "kernelspec": {
   "display_name": "conda_python3",
   "language": "python",
   "name": "conda_python3"
  },
  "language_info": {
   "codemirror_mode": {
    "name": "ipython",
    "version": 3
   },
   "file_extension": ".py",
   "mimetype": "text/x-python",
   "name": "python",
   "nbconvert_exporter": "python",
   "pygments_lexer": "ipython3",
   "version": "3.6.13"
  }
 },
 "nbformat": 4,
 "nbformat_minor": 4
}
