{
 "cells": [
  {
   "cell_type": "markdown",
   "metadata": {},
   "source": [
    "# Taking Full Advantage of Parallelism With Data Distribution\n",
    "_**Using Amazon SageMaker's Managed, Distributed Training with Different Data Distribution Methods**_\n",
    "\n",
    "---\n",
    "\n",
    "---\n",
    "\n",
    "## Contents\n",
    "\n",
    "1. [Background](#Background)\n",
    "1. [Setup](#Setup)\n",
    "1. [Data](#Data)\n",
    "  1. [Scaling](#Scaling)\n",
    "1. [Train](#Train)\n",
    "  1. [Timing](#Timing)\n",
    "1. [Host](#Host)\n",
    "  1. [Evaluate](#Evaluate)\n",
    "1. [Extensions](#Extensions)\n",
    "\n",
    "\n",
    "## Background\n",
    "\n",
    "Amazon SageMaker makes it easy to train machine learning models across a large number of machines.  This a non-trivial process, but Amazon SageMaker Algorithms and pre-built MXNet and TensorFlow containers hide most of the complexity from you.  Nevertheless, there are decisions on how a user structures their data which will have an implication on how the distributed training is carried out.  This notebook will walk through details on setting up your data to take full advantage of distributed processing.\n",
    "\n",
    "---\n",
    "# Setup\n",
    "\n",
    "_This notebook was created and tested on an ml.m4.xlarge notebook instance._\n",
    "\n",
    "Let's start by specifying:\n",
    "\n",
    "- The S3 bucket and prefix that you want to use for training and model data.  This should be within the same region as the Notebook Instance, training, and hosting.\n",
    "- The IAM role arn used to give training and hosting access to your data. See the documentation for how to create these.  Note, if more than one role is required for notebook instances, training, and/or hosting, please replace the boto regexp with a the appropriate full IAM role arn string(s)."
   ]
  },
  {
   "cell_type": "code",
   "execution_count": 37,
   "metadata": {
    "collapsed": true,
    "jupyter": {
     "outputs_hidden": true
    }
   },
   "outputs": [
    {
     "name": "stdout",
     "output_type": "stream",
     "text": [
      "/opt/conda/lib/python3.7/site-packages/secretstorage/dhcrypto.py:16: CryptographyDeprecationWarning: int_from_bytes is deprecated, use int.from_bytes instead\n",
      "  from cryptography.utils import int_from_bytes\n",
      "/opt/conda/lib/python3.7/site-packages/secretstorage/util.py:25: CryptographyDeprecationWarning: int_from_bytes is deprecated, use int.from_bytes instead\n",
      "  from cryptography.utils import int_from_bytes\n",
      "Collecting pandas==1.0.5\n",
      "  Downloading pandas-1.0.5-cp37-cp37m-manylinux1_x86_64.whl (10.1 MB)\n",
      "     |████████████████████████████████| 10.1 MB 28.9 MB/s            \n",
      "\u001b[?25hRequirement already satisfied: numpy>=1.13.3 in /opt/conda/lib/python3.7/site-packages (from pandas==1.0.5) (1.20.3)\n",
      "Requirement already satisfied: pytz>=2017.2 in /opt/conda/lib/python3.7/site-packages (from pandas==1.0.5) (2019.3)\n",
      "Requirement already satisfied: python-dateutil>=2.6.1 in /opt/conda/lib/python3.7/site-packages (from pandas==1.0.5) (2.8.1)\n",
      "Requirement already satisfied: six>=1.5 in /opt/conda/lib/python3.7/site-packages (from python-dateutil>=2.6.1->pandas==1.0.5) (1.14.0)\n",
      "Installing collected packages: pandas\n",
      "  Attempting uninstall: pandas\n",
      "    Found existing installation: pandas 1.0.1\n",
      "    Uninstalling pandas-1.0.1:\n",
      "      Successfully uninstalled pandas-1.0.1\n",
      "Successfully installed pandas-1.0.5\n",
      "\u001b[33mWARNING: Running pip as the 'root' user can result in broken permissions and conflicting behaviour with the system package manager. It is recommended to use a virtual environment instead: https://pip.pypa.io/warnings/venv\u001b[0m\n"
     ]
    }
   ],
   "source": [
    "!pip install pandas==1.0.5"
   ]
  },
  {
   "cell_type": "code",
   "execution_count": 1,
   "metadata": {
    "isConfigCell": true,
    "tags": [
     "parameters"
    ]
   },
   "outputs": [],
   "source": [
    "import sagemaker\n",
    "\n",
    "sess = sagemaker.Session()\n",
    "\n",
    "bucket = sess.default_bucket()\n",
    "\n",
    "# S3 bucket and prefix\n",
    "# bucket = \"<your_s3_bucket_name_here>\"\n",
    "prefix = \"sagemaker/DEMO-data-distribution-types\"\n",
    "\n",
    "# Define IAM role\n",
    "import boto3\n",
    "import re\n",
    "from sagemaker import get_execution_role\n",
    "\n",
    "role = get_execution_role()"
   ]
  },
  {
   "cell_type": "markdown",
   "metadata": {},
   "source": [
    "Next, we'll import the Python libraries we'll need for the remainder of the exercise."
   ]
  },
  {
   "cell_type": "code",
   "execution_count": 2,
   "metadata": {},
   "outputs": [],
   "source": [
    "import boto3\n",
    "import pandas as pd\n",
    "import numpy as np\n",
    "import matplotlib.pyplot as plt\n",
    "from IPython.display import display\n",
    "import io\n",
    "import time\n",
    "import copy\n",
    "import json\n",
    "import sys\n",
    "import sagemaker.amazon.common as smac\n",
    "import os"
   ]
  },
  {
   "cell_type": "markdown",
   "metadata": {},
   "source": [
    "---\n",
    "\n",
    "## Data\n",
    "\n",
    "The [dataset](https://aws.amazon.com/public-datasets/gdelt/) we'll use for this notebook is from the [Global Database of Events, Language and Tone (GDELT) Project](https://www.gdeltproject.org/).  This information is freely available on S3 as part of the [AWS Public Datasets](https://aws.amazon.com/public-datasets/) program.\n",
    "\n",
    "The data are stored as multiples files on S3, with two different formats: historical, which covers from 1979 to 2013, and daily updates which covers from 2013 on.  For this example, we'll stick to historical.  Let's bring in 1979 data for the purpose of interactive exploration.  We'll write a simple function so that later we can use it to download multiple files."
   ]
  },
  {
   "cell_type": "code",
   "execution_count": 3,
   "metadata": {},
   "outputs": [],
   "source": [
    "def get_gdelt(filename):\n",
    "    s3 = boto3.resource(\"s3\")\n",
    "    s3.Bucket(\"gdelt-open-data\").download_file(\"events/\" + filename, \".gdelt.csv\")\n",
    "    df = pd.read_csv(\".gdelt.csv\", sep=\"\\t\")\n",
    "    header = pd.read_csv(\n",
    "        \"https://www.gdeltproject.org/data/lookups/CSV.header.historical.txt\", sep=\"\\t\"\n",
    "    )\n",
    "    df.columns = header.columns\n",
    "    return df"
   ]
  },
  {
   "cell_type": "code",
   "execution_count": 4,
   "metadata": {},
   "outputs": [
    {
     "name": "stderr",
     "output_type": "stream",
     "text": [
      "/opt/conda/lib/python3.7/site-packages/IPython/core/interactiveshell.py:3254: DtypeWarning: Columns (24) have mixed types.Specify dtype option on import or set low_memory=False.\n",
      "  if (await self.run_code(code, result,  async_=asy)):\n"
     ]
    },
    {
     "data": {
      "text/html": [
       "<div>\n",
       "<style scoped>\n",
       "    .dataframe tbody tr th:only-of-type {\n",
       "        vertical-align: middle;\n",
       "    }\n",
       "\n",
       "    .dataframe tbody tr th {\n",
       "        vertical-align: top;\n",
       "    }\n",
       "\n",
       "    .dataframe thead th {\n",
       "        text-align: right;\n",
       "    }\n",
       "</style>\n",
       "<table border=\"1\" class=\"dataframe\">\n",
       "  <thead>\n",
       "    <tr style=\"text-align: right;\">\n",
       "      <th></th>\n",
       "      <th>GLOBALEVENTID</th>\n",
       "      <th>SQLDATE</th>\n",
       "      <th>MonthYear</th>\n",
       "      <th>Year</th>\n",
       "      <th>FractionDate</th>\n",
       "      <th>Actor1Code</th>\n",
       "      <th>Actor1Name</th>\n",
       "      <th>Actor1CountryCode</th>\n",
       "      <th>Actor1KnownGroupCode</th>\n",
       "      <th>Actor1EthnicCode</th>\n",
       "      <th>...</th>\n",
       "      <th>Actor2Geo_Long</th>\n",
       "      <th>Actor2Geo_FeatureID</th>\n",
       "      <th>ActionGeo_Type</th>\n",
       "      <th>ActionGeo_FullName</th>\n",
       "      <th>ActionGeo_CountryCode</th>\n",
       "      <th>ActionGeo_ADM1Code</th>\n",
       "      <th>ActionGeo_Lat</th>\n",
       "      <th>ActionGeo_Long</th>\n",
       "      <th>ActionGeo_FeatureID</th>\n",
       "      <th>DATEADDED</th>\n",
       "    </tr>\n",
       "  </thead>\n",
       "  <tbody>\n",
       "    <tr>\n",
       "      <th>0</th>\n",
       "      <td>1</td>\n",
       "      <td>19790101</td>\n",
       "      <td>197901</td>\n",
       "      <td>1979</td>\n",
       "      <td>1979.0027</td>\n",
       "      <td>NaN</td>\n",
       "      <td>NaN</td>\n",
       "      <td>NaN</td>\n",
       "      <td>NaN</td>\n",
       "      <td>NaN</td>\n",
       "      <td>...</td>\n",
       "      <td>8.0000</td>\n",
       "      <td>0</td>\n",
       "      <td>1.0</td>\n",
       "      <td>Nigeria</td>\n",
       "      <td>NI</td>\n",
       "      <td>NI</td>\n",
       "      <td>10.0000</td>\n",
       "      <td>8.0000</td>\n",
       "      <td>0.0</td>\n",
       "      <td>20130203</td>\n",
       "    </tr>\n",
       "    <tr>\n",
       "      <th>1</th>\n",
       "      <td>2</td>\n",
       "      <td>19790101</td>\n",
       "      <td>197901</td>\n",
       "      <td>1979</td>\n",
       "      <td>1979.0027</td>\n",
       "      <td>NaN</td>\n",
       "      <td>NaN</td>\n",
       "      <td>NaN</td>\n",
       "      <td>NaN</td>\n",
       "      <td>NaN</td>\n",
       "      <td>...</td>\n",
       "      <td>8.0000</td>\n",
       "      <td>0</td>\n",
       "      <td>1.0</td>\n",
       "      <td>Nigeria</td>\n",
       "      <td>NI</td>\n",
       "      <td>NI</td>\n",
       "      <td>10.0000</td>\n",
       "      <td>8.0000</td>\n",
       "      <td>0.0</td>\n",
       "      <td>20130203</td>\n",
       "    </tr>\n",
       "    <tr>\n",
       "      <th>2</th>\n",
       "      <td>3</td>\n",
       "      <td>19790101</td>\n",
       "      <td>197901</td>\n",
       "      <td>1979</td>\n",
       "      <td>1979.0027</td>\n",
       "      <td>NaN</td>\n",
       "      <td>NaN</td>\n",
       "      <td>NaN</td>\n",
       "      <td>NaN</td>\n",
       "      <td>NaN</td>\n",
       "      <td>...</td>\n",
       "      <td>106.3590</td>\n",
       "      <td>-1903584</td>\n",
       "      <td>4.0</td>\n",
       "      <td>Dizhou, Guangxi, China</td>\n",
       "      <td>CH</td>\n",
       "      <td>CH16</td>\n",
       "      <td>23.0036</td>\n",
       "      <td>106.3590</td>\n",
       "      <td>-1903584.0</td>\n",
       "      <td>20130203</td>\n",
       "    </tr>\n",
       "    <tr>\n",
       "      <th>3</th>\n",
       "      <td>4</td>\n",
       "      <td>19790101</td>\n",
       "      <td>197901</td>\n",
       "      <td>1979</td>\n",
       "      <td>1979.0027</td>\n",
       "      <td>NaN</td>\n",
       "      <td>NaN</td>\n",
       "      <td>NaN</td>\n",
       "      <td>NaN</td>\n",
       "      <td>NaN</td>\n",
       "      <td>...</td>\n",
       "      <td>-96.8067</td>\n",
       "      <td>1380944</td>\n",
       "      <td>3.0</td>\n",
       "      <td>Dallas, Texas, United States</td>\n",
       "      <td>US</td>\n",
       "      <td>USTX</td>\n",
       "      <td>32.7831</td>\n",
       "      <td>-96.8067</td>\n",
       "      <td>1380944.0</td>\n",
       "      <td>20130203</td>\n",
       "    </tr>\n",
       "    <tr>\n",
       "      <th>4</th>\n",
       "      <td>5</td>\n",
       "      <td>19790101</td>\n",
       "      <td>197901</td>\n",
       "      <td>1979</td>\n",
       "      <td>1979.0027</td>\n",
       "      <td>NaN</td>\n",
       "      <td>NaN</td>\n",
       "      <td>NaN</td>\n",
       "      <td>NaN</td>\n",
       "      <td>NaN</td>\n",
       "      <td>...</td>\n",
       "      <td>34.6809</td>\n",
       "      <td>-779676</td>\n",
       "      <td>4.0</td>\n",
       "      <td>Emunim, HaDarom, Israel</td>\n",
       "      <td>IS</td>\n",
       "      <td>IS01</td>\n",
       "      <td>31.7444</td>\n",
       "      <td>34.6809</td>\n",
       "      <td>-779676.0</td>\n",
       "      <td>20130203</td>\n",
       "    </tr>\n",
       "    <tr>\n",
       "      <th>...</th>\n",
       "      <td>...</td>\n",
       "      <td>...</td>\n",
       "      <td>...</td>\n",
       "      <td>...</td>\n",
       "      <td>...</td>\n",
       "      <td>...</td>\n",
       "      <td>...</td>\n",
       "      <td>...</td>\n",
       "      <td>...</td>\n",
       "      <td>...</td>\n",
       "      <td>...</td>\n",
       "      <td>...</td>\n",
       "      <td>...</td>\n",
       "      <td>...</td>\n",
       "      <td>...</td>\n",
       "      <td>...</td>\n",
       "      <td>...</td>\n",
       "      <td>...</td>\n",
       "      <td>...</td>\n",
       "      <td>...</td>\n",
       "      <td>...</td>\n",
       "    </tr>\n",
       "    <tr>\n",
       "      <th>430935</th>\n",
       "      <td>230397975</td>\n",
       "      <td>19791231</td>\n",
       "      <td>197912</td>\n",
       "      <td>1979</td>\n",
       "      <td>1979.9890</td>\n",
       "      <td>USA</td>\n",
       "      <td>UNITED STATES</td>\n",
       "      <td>USA</td>\n",
       "      <td>NaN</td>\n",
       "      <td>NaN</td>\n",
       "      <td>...</td>\n",
       "      <td>51.5148</td>\n",
       "      <td>10074674</td>\n",
       "      <td>4.0</td>\n",
       "      <td>Tehran, Tehran, Iran</td>\n",
       "      <td>IR</td>\n",
       "      <td>IR26</td>\n",
       "      <td>35.7500</td>\n",
       "      <td>51.5148</td>\n",
       "      <td>10074674.0</td>\n",
       "      <td>20130206</td>\n",
       "    </tr>\n",
       "    <tr>\n",
       "      <th>430936</th>\n",
       "      <td>230397976</td>\n",
       "      <td>19791231</td>\n",
       "      <td>197912</td>\n",
       "      <td>1979</td>\n",
       "      <td>1979.9890</td>\n",
       "      <td>USA</td>\n",
       "      <td>UNITED STATES</td>\n",
       "      <td>USA</td>\n",
       "      <td>NaN</td>\n",
       "      <td>NaN</td>\n",
       "      <td>...</td>\n",
       "      <td>51.5148</td>\n",
       "      <td>10074674</td>\n",
       "      <td>4.0</td>\n",
       "      <td>Tehran, Tehran, Iran</td>\n",
       "      <td>IR</td>\n",
       "      <td>IR26</td>\n",
       "      <td>35.7500</td>\n",
       "      <td>51.5148</td>\n",
       "      <td>10074674.0</td>\n",
       "      <td>20130206</td>\n",
       "    </tr>\n",
       "    <tr>\n",
       "      <th>430937</th>\n",
       "      <td>230397977</td>\n",
       "      <td>19791231</td>\n",
       "      <td>197912</td>\n",
       "      <td>1979</td>\n",
       "      <td>1979.9890</td>\n",
       "      <td>USA</td>\n",
       "      <td>WASHINGTON</td>\n",
       "      <td>USA</td>\n",
       "      <td>NaN</td>\n",
       "      <td>NaN</td>\n",
       "      <td>...</td>\n",
       "      <td>65.0000</td>\n",
       "      <td>-2089022</td>\n",
       "      <td>4.0</td>\n",
       "      <td>Moscow, Moskva, Russia</td>\n",
       "      <td>RS</td>\n",
       "      <td>RS48</td>\n",
       "      <td>55.7522</td>\n",
       "      <td>37.6156</td>\n",
       "      <td>-2960561.0</td>\n",
       "      <td>20130206</td>\n",
       "    </tr>\n",
       "    <tr>\n",
       "      <th>430938</th>\n",
       "      <td>230397978</td>\n",
       "      <td>19791231</td>\n",
       "      <td>197912</td>\n",
       "      <td>1979</td>\n",
       "      <td>1979.9890</td>\n",
       "      <td>VNM</td>\n",
       "      <td>VIETNAM</td>\n",
       "      <td>VNM</td>\n",
       "      <td>NaN</td>\n",
       "      <td>NaN</td>\n",
       "      <td>...</td>\n",
       "      <td>0.0000</td>\n",
       "      <td>0</td>\n",
       "      <td>1.0</td>\n",
       "      <td>France</td>\n",
       "      <td>FR</td>\n",
       "      <td>FR</td>\n",
       "      <td>46.0000</td>\n",
       "      <td>2.0000</td>\n",
       "      <td>0.0</td>\n",
       "      <td>20130206</td>\n",
       "    </tr>\n",
       "    <tr>\n",
       "      <th>430939</th>\n",
       "      <td>230397979</td>\n",
       "      <td>19791231</td>\n",
       "      <td>197912</td>\n",
       "      <td>1979</td>\n",
       "      <td>1979.9890</td>\n",
       "      <td>VNM</td>\n",
       "      <td>VIETNAMESE</td>\n",
       "      <td>VNM</td>\n",
       "      <td>NaN</td>\n",
       "      <td>NaN</td>\n",
       "      <td>...</td>\n",
       "      <td>0.0000</td>\n",
       "      <td>0</td>\n",
       "      <td>1.0</td>\n",
       "      <td>Vietnam, Republic Of</td>\n",
       "      <td>VM</td>\n",
       "      <td>VM</td>\n",
       "      <td>16.0000</td>\n",
       "      <td>106.0000</td>\n",
       "      <td>0.0</td>\n",
       "      <td>20130206</td>\n",
       "    </tr>\n",
       "  </tbody>\n",
       "</table>\n",
       "<p>430940 rows × 57 columns</p>\n",
       "</div>"
      ],
      "text/plain": [
       "        GLOBALEVENTID   SQLDATE  MonthYear  Year  FractionDate Actor1Code  \\\n",
       "0                   1  19790101     197901  1979     1979.0027        NaN   \n",
       "1                   2  19790101     197901  1979     1979.0027        NaN   \n",
       "2                   3  19790101     197901  1979     1979.0027        NaN   \n",
       "3                   4  19790101     197901  1979     1979.0027        NaN   \n",
       "4                   5  19790101     197901  1979     1979.0027        NaN   \n",
       "...               ...       ...        ...   ...           ...        ...   \n",
       "430935      230397975  19791231     197912  1979     1979.9890        USA   \n",
       "430936      230397976  19791231     197912  1979     1979.9890        USA   \n",
       "430937      230397977  19791231     197912  1979     1979.9890        USA   \n",
       "430938      230397978  19791231     197912  1979     1979.9890        VNM   \n",
       "430939      230397979  19791231     197912  1979     1979.9890        VNM   \n",
       "\n",
       "           Actor1Name Actor1CountryCode Actor1KnownGroupCode Actor1EthnicCode  \\\n",
       "0                 NaN               NaN                  NaN              NaN   \n",
       "1                 NaN               NaN                  NaN              NaN   \n",
       "2                 NaN               NaN                  NaN              NaN   \n",
       "3                 NaN               NaN                  NaN              NaN   \n",
       "4                 NaN               NaN                  NaN              NaN   \n",
       "...               ...               ...                  ...              ...   \n",
       "430935  UNITED STATES               USA                  NaN              NaN   \n",
       "430936  UNITED STATES               USA                  NaN              NaN   \n",
       "430937     WASHINGTON               USA                  NaN              NaN   \n",
       "430938        VIETNAM               VNM                  NaN              NaN   \n",
       "430939     VIETNAMESE               VNM                  NaN              NaN   \n",
       "\n",
       "        ... Actor2Geo_Long Actor2Geo_FeatureID ActionGeo_Type  \\\n",
       "0       ...         8.0000                   0            1.0   \n",
       "1       ...         8.0000                   0            1.0   \n",
       "2       ...       106.3590            -1903584            4.0   \n",
       "3       ...       -96.8067             1380944            3.0   \n",
       "4       ...        34.6809             -779676            4.0   \n",
       "...     ...            ...                 ...            ...   \n",
       "430935  ...        51.5148            10074674            4.0   \n",
       "430936  ...        51.5148            10074674            4.0   \n",
       "430937  ...        65.0000            -2089022            4.0   \n",
       "430938  ...         0.0000                   0            1.0   \n",
       "430939  ...         0.0000                   0            1.0   \n",
       "\n",
       "                  ActionGeo_FullName ActionGeo_CountryCode ActionGeo_ADM1Code  \\\n",
       "0                            Nigeria                    NI                 NI   \n",
       "1                            Nigeria                    NI                 NI   \n",
       "2             Dizhou, Guangxi, China                    CH               CH16   \n",
       "3       Dallas, Texas, United States                    US               USTX   \n",
       "4            Emunim, HaDarom, Israel                    IS               IS01   \n",
       "...                              ...                   ...                ...   \n",
       "430935          Tehran, Tehran, Iran                    IR               IR26   \n",
       "430936          Tehran, Tehran, Iran                    IR               IR26   \n",
       "430937        Moscow, Moskva, Russia                    RS               RS48   \n",
       "430938                        France                    FR                 FR   \n",
       "430939          Vietnam, Republic Of                    VM                 VM   \n",
       "\n",
       "       ActionGeo_Lat ActionGeo_Long ActionGeo_FeatureID DATEADDED  \n",
       "0            10.0000         8.0000                 0.0  20130203  \n",
       "1            10.0000         8.0000                 0.0  20130203  \n",
       "2            23.0036       106.3590          -1903584.0  20130203  \n",
       "3            32.7831       -96.8067           1380944.0  20130203  \n",
       "4            31.7444        34.6809           -779676.0  20130203  \n",
       "...              ...            ...                 ...       ...  \n",
       "430935       35.7500        51.5148          10074674.0  20130206  \n",
       "430936       35.7500        51.5148          10074674.0  20130206  \n",
       "430937       55.7522        37.6156          -2960561.0  20130206  \n",
       "430938       46.0000         2.0000                 0.0  20130206  \n",
       "430939       16.0000       106.0000                 0.0  20130206  \n",
       "\n",
       "[430940 rows x 57 columns]"
      ]
     },
     "execution_count": 4,
     "metadata": {},
     "output_type": "execute_result"
    }
   ],
   "source": [
    "data = get_gdelt(\"1979.csv\")\n",
    "data"
   ]
  },
  {
   "cell_type": "markdown",
   "metadata": {},
   "source": [
    "As we can see, there are 57 columns, some of which are sparsely populated, cryptically named, and in a format that's not particularly friendly for machine learning.  So, for our use case, we'll strip down to a few core attributes.  We'll use:\n",
    "\n",
    "- `EventCode`: This is the raw CAMEO action code describing the action that Actor1 performed upon Actor2.  More detail can be found [here](https://www.gdeltproject.org/data/documentation/CAMEO.Manual.1.1b3.pdf)\n",
    "- `NumArticles`:  This is the total number of source documents containing one or more mentions of this event. This can be used as a method of assessing the “importance” of an event; the more discussion of that event, the more likely it is to be significant\n",
    "- `AvgTone`: This is the average “tone” of all documents containing one or more mentions of this event. The score ranges from -100 (extremely negative) to +100 (extremely positive). Common values range between -10 and +10, with 0 indicating neutral.\n",
    "- `Actor1Geo_Lat`: This is the centroid latitude of the Actor1 landmark for mapping.\n",
    "- `Actor1Geo_Long`: This is the centroid longitude of the Actor1 landmark for mapping.\n",
    "- `Actor2Geo_Lat`: This is the centroid latitude of the Actor2 landmark for mapping.\n",
    "- `Actor2Geo_Long`: This is the centroid longitude of the Actor2 landmark for mapping."
   ]
  },
  {
   "cell_type": "code",
   "execution_count": 5,
   "metadata": {},
   "outputs": [
    {
     "name": "stderr",
     "output_type": "stream",
     "text": [
      "/opt/conda/lib/python3.7/site-packages/ipykernel_launcher.py:13: SettingWithCopyWarning: \n",
      "A value is trying to be set on a copy of a slice from a DataFrame.\n",
      "Try using .loc[row_indexer,col_indexer] = value instead\n",
      "\n",
      "See the caveats in the documentation: https://pandas.pydata.org/pandas-docs/stable/user_guide/indexing.html#returning-a-view-versus-a-copy\n",
      "  del sys.path[0]\n"
     ]
    }
   ],
   "source": [
    "data = data[\n",
    "    [\n",
    "        \"EventCode\",\n",
    "        \"NumArticles\",\n",
    "        \"AvgTone\",\n",
    "        \"Actor1Geo_Lat\",\n",
    "        \"Actor1Geo_Long\",\n",
    "        \"Actor2Geo_Lat\",\n",
    "        \"Actor2Geo_Long\",\n",
    "    ]\n",
    "]\n",
    "\n",
    "data[\"EventCode\"] = data[\"EventCode\"].astype(int)\n"
   ]
  },
  {
   "cell_type": "code",
   "execution_count": 6,
   "metadata": {},
   "outputs": [
    {
     "data": {
      "text/html": [
       "<div>\n",
       "<style scoped>\n",
       "    .dataframe tbody tr th:only-of-type {\n",
       "        vertical-align: middle;\n",
       "    }\n",
       "\n",
       "    .dataframe tbody tr th {\n",
       "        vertical-align: top;\n",
       "    }\n",
       "\n",
       "    .dataframe thead th {\n",
       "        text-align: right;\n",
       "    }\n",
       "</style>\n",
       "<table border=\"1\" class=\"dataframe\">\n",
       "  <thead>\n",
       "    <tr style=\"text-align: right;\">\n",
       "      <th></th>\n",
       "      <th>EventCode</th>\n",
       "      <th>NumArticles</th>\n",
       "      <th>AvgTone</th>\n",
       "      <th>Actor1Geo_Lat</th>\n",
       "      <th>Actor1Geo_Long</th>\n",
       "      <th>Actor2Geo_Lat</th>\n",
       "      <th>Actor2Geo_Long</th>\n",
       "    </tr>\n",
       "  </thead>\n",
       "  <tbody>\n",
       "    <tr>\n",
       "      <th>count</th>\n",
       "      <td>430940.000000</td>\n",
       "      <td>430940.000000</td>\n",
       "      <td>430940.000000</td>\n",
       "      <td>430940.000000</td>\n",
       "      <td>430940.000000</td>\n",
       "      <td>430940.000000</td>\n",
       "      <td>430940.000000</td>\n",
       "    </tr>\n",
       "    <tr>\n",
       "      <th>mean</th>\n",
       "      <td>92.385571</td>\n",
       "      <td>4.369694</td>\n",
       "      <td>5.127215</td>\n",
       "      <td>26.311911</td>\n",
       "      <td>26.111038</td>\n",
       "      <td>23.109048</td>\n",
       "      <td>23.637813</td>\n",
       "    </tr>\n",
       "    <tr>\n",
       "      <th>std</th>\n",
       "      <td>172.919307</td>\n",
       "      <td>3.121310</td>\n",
       "      <td>2.637798</td>\n",
       "      <td>21.865323</td>\n",
       "      <td>61.125843</td>\n",
       "      <td>22.136466</td>\n",
       "      <td>57.693612</td>\n",
       "    </tr>\n",
       "    <tr>\n",
       "      <th>min</th>\n",
       "      <td>10.000000</td>\n",
       "      <td>1.000000</td>\n",
       "      <td>0.000000</td>\n",
       "      <td>-85.622100</td>\n",
       "      <td>-179.050000</td>\n",
       "      <td>-85.622100</td>\n",
       "      <td>-179.050000</td>\n",
       "    </tr>\n",
       "    <tr>\n",
       "      <th>25%</th>\n",
       "      <td>40.000000</td>\n",
       "      <td>2.000000</td>\n",
       "      <td>3.333333</td>\n",
       "      <td>10.000000</td>\n",
       "      <td>0.000000</td>\n",
       "      <td>0.000000</td>\n",
       "      <td>0.000000</td>\n",
       "    </tr>\n",
       "    <tr>\n",
       "      <th>50%</th>\n",
       "      <td>43.000000</td>\n",
       "      <td>4.000000</td>\n",
       "      <td>5.000000</td>\n",
       "      <td>32.000000</td>\n",
       "      <td>28.229400</td>\n",
       "      <td>30.044500</td>\n",
       "      <td>19.500000</td>\n",
       "    </tr>\n",
       "    <tr>\n",
       "      <th>75%</th>\n",
       "      <td>100.000000</td>\n",
       "      <td>6.000000</td>\n",
       "      <td>6.666667</td>\n",
       "      <td>40.400000</td>\n",
       "      <td>53.000000</td>\n",
       "      <td>39.928900</td>\n",
       "      <td>50.093800</td>\n",
       "    </tr>\n",
       "    <tr>\n",
       "      <th>max</th>\n",
       "      <td>1832.000000</td>\n",
       "      <td>54.000000</td>\n",
       "      <td>28.571429</td>\n",
       "      <td>85.000000</td>\n",
       "      <td>180.000000</td>\n",
       "      <td>85.000000</td>\n",
       "      <td>180.000000</td>\n",
       "    </tr>\n",
       "  </tbody>\n",
       "</table>\n",
       "</div>"
      ],
      "text/plain": [
       "           EventCode    NumArticles        AvgTone  Actor1Geo_Lat  \\\n",
       "count  430940.000000  430940.000000  430940.000000  430940.000000   \n",
       "mean       92.385571       4.369694       5.127215      26.311911   \n",
       "std       172.919307       3.121310       2.637798      21.865323   \n",
       "min        10.000000       1.000000       0.000000     -85.622100   \n",
       "25%        40.000000       2.000000       3.333333      10.000000   \n",
       "50%        43.000000       4.000000       5.000000      32.000000   \n",
       "75%       100.000000       6.000000       6.666667      40.400000   \n",
       "max      1832.000000      54.000000      28.571429      85.000000   \n",
       "\n",
       "       Actor1Geo_Long  Actor2Geo_Lat  Actor2Geo_Long  \n",
       "count   430940.000000  430940.000000   430940.000000  \n",
       "mean        26.111038      23.109048       23.637813  \n",
       "std         61.125843      22.136466       57.693612  \n",
       "min       -179.050000     -85.622100     -179.050000  \n",
       "25%          0.000000       0.000000        0.000000  \n",
       "50%         28.229400      30.044500       19.500000  \n",
       "75%         53.000000      39.928900       50.093800  \n",
       "max        180.000000      85.000000      180.000000  "
      ]
     },
     "metadata": {},
     "output_type": "display_data"
    },
    {
     "data": {
      "image/png": "[encoded data removed]",
      "text/plain": [
       "<Figure size 720x720 with 9 Axes>"
      ]
     },
     "metadata": {
      "needs_background": "light"
     },
     "output_type": "display_data"
    }
   ],
   "source": [
    "for column in data.select_dtypes(include=[\"object\"]).columns:\n",
    "    display(pd.crosstab(index=data[column], columns=\"% observations\", normalize=\"columns\"))\n",
    "\n",
    "display(data.describe())\n",
    "hist = data.hist(bins=30, sharey=True, figsize=(10, 10))\n",
    "plt.show()"
   ]
  },
  {
   "cell_type": "markdown",
   "metadata": {},
   "source": [
    "We can see:\n",
    "- `EventCode` is pretty unevenly distributed, with some events making up 7%+ of the observations and others being a thousandth of a percent.\n",
    "- `AvgTone` seems to be reasonably smoothly distributed, while `NumArticles` has a long tail, and `Actor` geo features have suspiciously large spikes near 0.\n",
    "\n",
    "Let's remove the (0, 0) lat-longs, one hot encode `EventCode`, and prepare our data for a machine learning model.  For this example we'll keep things straightforward and try to predict `AvgTone`, using the other variables in our dataset as features.\n",
    "\n",
    "One more issue remains.  As we noticed above, some occurrences of `EventCode` are very rare, and may be unlikely to occur in every single year.  This means if we one hot encode individual years at a time, our feature matrix may change shape over the years, which will not work.  Therefore, we'll limit all years to the most common `EventCodes` from the year we current have.  Let's get this list."
   ]
  },
  {
   "cell_type": "code",
   "execution_count": 7,
   "metadata": {},
   "outputs": [],
   "source": [
    "events = (\n",
    "    pd.crosstab(index=data[\"EventCode\"], columns=\"count\")\n",
    "    .sort_values(by=\"count\", ascending=False)\n",
    "    .index[:20]\n",
    ")"
   ]
  },
  {
   "cell_type": "markdown",
   "metadata": {},
   "source": [
    "### Scaling\n",
    "\n",
    "Now that we've explored our data and are ready to prepare for modeling, we can start developing a few simple functions to help us scale this to GDELT datasets from other years."
   ]
  },
  {
   "cell_type": "code",
   "execution_count": 8,
   "metadata": {},
   "outputs": [],
   "source": [
    "def write_to_s3(bucket, prefix, channel, file_prefix, X, y):\n",
    "    buf = io.BytesIO()\n",
    "    smac.write_numpy_to_dense_tensor(buf, X.astype(\"float32\"), y.astype(\"float32\"))\n",
    "    buf.seek(0)\n",
    "    boto3.Session().resource(\"s3\").Bucket(bucket).Object(\n",
    "        os.path.join(prefix, channel, file_prefix + \".data\")\n",
    "    ).upload_fileobj(buf)\n",
    "\n",
    "\n",
    "def transform_gdelt(df, events=None):\n",
    "    df = df[\n",
    "        [\n",
    "            \"AvgTone\",\n",
    "            \"EventCode\",\n",
    "            \"NumArticles\",\n",
    "            \"Actor1Geo_Lat\",\n",
    "            \"Actor1Geo_Long\",\n",
    "            \"Actor2Geo_Lat\",\n",
    "            \"Actor2Geo_Long\",\n",
    "        ]\n",
    "    ]\n",
    "    df[\"EventCode\"] = df[\"EventCode\"].astype(object)\n",
    "    if events is not None:\n",
    "        df = df[np.in1d(df[\"EventCode\"], events)]\n",
    "    return pd.get_dummies(\n",
    "        df[\n",
    "            ((df[\"Actor1Geo_Lat\"] == 0) & (df[\"Actor1Geo_Long\"] == 0) != True)\n",
    "            & ((df[\"Actor2Geo_Lat\"] == 0) & (df[\"Actor2Geo_Long\"] == 0) != True)\n",
    "        ]\n",
    "    )\n",
    "\n",
    "\n",
    "def prepare_gdelt(bucket, prefix, file_prefix, events=None, random_state=1729):\n",
    "    df = get_gdelt(file_prefix + \".csv\")\n",
    "    model_data = transform_gdelt(df, events)\n",
    "    train_data, validation_data = np.split(\n",
    "        model_data.sample(frac=1, random_state=random_state).to_numpy(),\n",
    "        [int(0.9 * len(model_data))],\n",
    "    )\n",
    "    write_to_s3(bucket, prefix, \"train\", file_prefix, train_data[:, 1:], train_data[:, 0])\n",
    "    write_to_s3(\n",
    "        bucket, prefix, \"validation\", file_prefix, validation_data[:, 1:], validation_data[:, 0]\n",
    "    )"
   ]
  },
  {
   "cell_type": "code",
   "execution_count": 9,
   "metadata": {},
   "outputs": [
    {
     "name": "stderr",
     "output_type": "stream",
     "text": [
      "/opt/conda/lib/python3.7/site-packages/IPython/core/interactiveshell.py:3331: DtypeWarning: Columns (24) have mixed types.Specify dtype option on import or set low_memory=False.\n",
      "  exec(code_obj, self.user_global_ns, self.user_ns)\n",
      "/opt/conda/lib/python3.7/site-packages/ipykernel_launcher.py:22: SettingWithCopyWarning: \n",
      "A value is trying to be set on a copy of a slice from a DataFrame.\n",
      "Try using .loc[row_indexer,col_indexer] = value instead\n",
      "\n",
      "See the caveats in the documentation: https://pandas.pydata.org/pandas-docs/stable/user_guide/indexing.html#returning-a-view-versus-a-copy\n"
     ]
    }
   ],
   "source": [
    "for year in range(1979, 1984):\n",
    "    prepare_gdelt(bucket, prefix, str(year), events)"
   ]
  },
  {
   "cell_type": "markdown",
   "metadata": {},
   "source": [
    "---\n",
    "\n",
    "## Train\n",
    "\n",
    "Now that we have our data in S3, we can begin training.  We'll use Amazon SageMaker's linear regression algorithm, and will actually fit two models in order to properly compare data distribution types:\n",
    "1. In the first job, we'll use FullyReplicated for our `train` channel.  This will pass every file in our input S3 location to every machine (in this case we're using 5 machines). \n",
    "1. While in the second job, we'll use ShardedByS3Key for the `train` channel (note that we'll keep `FullyReplicated` for the validation channel.  So, for the training data, we'll pass each S3 object to a separate machine.  Since we have 5 files (one for each year), we'll train on 5 machines, meaning each machine will get a year's worth of records.\n",
    "\n",
    "First let's setup a list of training parameters which are common across the two jobs."
   ]
  },
  {
   "cell_type": "code",
   "execution_count": 10,
   "metadata": {},
   "outputs": [
    {
     "name": "stderr",
     "output_type": "stream",
     "text": [
      "The method get_image_uri has been renamed in sagemaker>=2.\n",
      "See: https://sagemaker.readthedocs.io/en/stable/v2.html for details.\n",
      "Defaulting to the only supported framework/algorithm version: 1. Ignoring framework/algorithm version: 1.\n"
     ]
    }
   ],
   "source": [
    "from sagemaker.amazon.amazon_estimator import get_image_uri\n",
    "\n",
    "container = get_image_uri(boto3.Session().region_name, \"linear-learner\")"
   ]
  },
  {
   "cell_type": "code",
   "execution_count": 11,
   "metadata": {},
   "outputs": [],
   "source": [
    "common_training_params = {\n",
    "    \"RoleArn\": role,\n",
    "    \"AlgorithmSpecification\": {\"TrainingImage\": container, \"TrainingInputMode\": \"File\"},\n",
    "    \"ResourceConfig\": {\"InstanceCount\": 5, \"InstanceType\": \"ml.c4.2xlarge\", \"VolumeSizeInGB\": 10},\n",
    "    \"InputDataConfig\": [\n",
    "        {\n",
    "            \"ChannelName\": \"train\",\n",
    "            \"DataSource\": {\n",
    "                \"S3DataSource\": {\n",
    "                    \"S3DataType\": \"S3Prefix\",\n",
    "                    \"S3Uri\": \"s3://{}/{}/train/\".format(bucket, prefix),\n",
    "                }\n",
    "            },\n",
    "            \"CompressionType\": \"None\",\n",
    "            \"RecordWrapperType\": \"None\",\n",
    "        },\n",
    "        {\n",
    "            \"ChannelName\": \"validation\",\n",
    "            \"DataSource\": {\n",
    "                \"S3DataSource\": {\n",
    "                    \"S3DataType\": \"S3Prefix\",\n",
    "                    \"S3Uri\": \"s3://{}/{}/validation/\".format(bucket, prefix),\n",
    "                    \"S3DataDistributionType\": \"FullyReplicated\",\n",
    "                }\n",
    "            },\n",
    "            \"CompressionType\": \"None\",\n",
    "            \"RecordWrapperType\": \"None\",\n",
    "        },\n",
    "    ],\n",
    "    \"OutputDataConfig\": {\"S3OutputPath\": \"s3://{}/{}/\".format(bucket, prefix)},\n",
    "    \"HyperParameters\": {\n",
    "        \"feature_dim\": \"25\",\n",
    "        \"mini_batch_size\": \"500\",\n",
    "        \"predictor_type\": \"regressor\",\n",
    "        \"epochs\": \"2\",\n",
    "        \"num_models\": \"32\",\n",
    "        \"loss\": \"absolute_loss\",\n",
    "    },\n",
    "    \"StoppingCondition\": {\"MaxRuntimeInSeconds\": 60 * 60},\n",
    "}"
   ]
  },
  {
   "cell_type": "markdown",
   "metadata": {},
   "source": [
    "Now we'll create two separate jobs, updating the parameters that are unique to each."
   ]
  },
  {
   "cell_type": "code",
   "execution_count": 20,
   "metadata": {},
   "outputs": [
    {
     "name": "stdout",
     "output_type": "stream",
     "text": [
      "Job name is: DEMO-linear-sharded-2022-04-04-19-57-45\n"
     ]
    }
   ],
   "source": [
    "sharded_job = \"DEMO-linear-sharded-\" + time.strftime(\"%Y-%m-%d-%H-%M-%S\", time.gmtime())\n",
    "\n",
    "print(\"Job name is:\", sharded_job)\n",
    "\n",
    "sharded_training_params = copy.deepcopy(common_training_params)\n",
    "sharded_training_params[\"TrainingJobName\"] = sharded_job\n",
    "sharded_training_params[\"InputDataConfig\"][0][\"DataSource\"][\"S3DataSource\"][\n",
    "    \"S3DataDistributionType\"\n",
    "] = \"ShardedByS3Key\""
   ]
  },
  {
   "cell_type": "code",
   "execution_count": 21,
   "metadata": {},
   "outputs": [
    {
     "name": "stdout",
     "output_type": "stream",
     "text": [
      "Job name is: DEMO-linear-replicated-2022-04-04-19-57-47\n"
     ]
    }
   ],
   "source": [
    "replicated_job = \"DEMO-linear-replicated-\" + time.strftime(\"%Y-%m-%d-%H-%M-%S\", time.gmtime())\n",
    "\n",
    "print(\"Job name is:\", replicated_job)\n",
    "\n",
    "replicated_training_params = copy.deepcopy(common_training_params)\n",
    "replicated_training_params[\"TrainingJobName\"] = replicated_job\n",
    "replicated_training_params[\"InputDataConfig\"][0][\"DataSource\"][\"S3DataSource\"][\n",
    "    \"S3DataDistributionType\"\n",
    "] = \"FullyReplicated\""
   ]
  },
  {
   "cell_type": "markdown",
   "metadata": {},
   "source": [
    "Let's submit these jobs, taking note that the first will be submitted to run in the background so that we can immediately run the second in parallel.  We'll need to place the waiter on the FullyReplicated jobs as we expect this to finish second because of the additional data loading time."
   ]
  },
  {
   "cell_type": "code",
   "execution_count": 22,
   "metadata": {},
   "outputs": [
    {
     "name": "stdout",
     "output_type": "stream",
     "text": [
      "InProgress\n",
      "Training job ended with status: Completed\n",
      "CPU times: user 291 ms, sys: 39 ms, total: 330 ms\n",
      "Wall time: 8min 6s\n"
     ]
    }
   ],
   "source": [
    "%%time\n",
    "\n",
    "region = boto3.Session().region_name\n",
    "sm = boto3.Session().client(\"sagemaker\")\n",
    "\n",
    "sm.create_training_job(**sharded_training_params)\n",
    "sm.create_training_job(**replicated_training_params)\n",
    "\n",
    "status = sm.describe_training_job(TrainingJobName=replicated_job)[\"TrainingJobStatus\"]\n",
    "print(status)\n",
    "\n",
    "time.sleep(5)\n",
    "\n",
    "sm.get_waiter(\"training_job_completed_or_stopped\").wait(TrainingJobName=replicated_job)\n",
    "status = sm.describe_training_job(TrainingJobName=replicated_job)[\"TrainingJobStatus\"]\n",
    "print(\"Training job ended with status: \" + status)\n",
    "if status == \"Failed\":\n",
    "    message = sm.describe_training_job(TrainingJobName=replicated_job)[\"FailureReason\"]\n",
    "    print(\"Training failed with the following error: {}\".format(message))\n",
    "    raise Exception(\"Training job failed\")"
   ]
  },
  {
   "cell_type": "markdown",
   "metadata": {},
   "source": [
    "Let's confirm both jobs have finished."
   ]
  },
  {
   "cell_type": "code",
   "execution_count": 23,
   "metadata": {},
   "outputs": [
    {
     "name": "stdout",
     "output_type": "stream",
     "text": [
      "Sharded: Completed\n",
      "Replicated: Completed\n"
     ]
    }
   ],
   "source": [
    "print(\"Sharded:\", sm.describe_training_job(TrainingJobName=sharded_job)[\"TrainingJobStatus\"])\n",
    "print(\"Replicated:\", sm.describe_training_job(TrainingJobName=replicated_job)[\"TrainingJobStatus\"])"
   ]
  },
  {
   "cell_type": "markdown",
   "metadata": {},
   "source": [
    "### Timing\n",
    "\n",
    "Let's compare how long it took to train a model with the two different distribution types.  To do this, we'll compare take the information from CloudWatch logs using the following function.\n",
    "\n",
    "_Notice, that these will exclude the time it took to setup hardware and load containers._"
   ]
  },
  {
   "cell_type": "code",
   "execution_count": 24,
   "metadata": {},
   "outputs": [],
   "source": [
    "def get_train_timing(job):\n",
    "    client = boto3.client(\"logs\")\n",
    "    streams = client.describe_log_streams(\n",
    "        logGroupName=\"/aws/sagemaker/TrainingJobs\", logStreamNamePrefix=job\n",
    "    )\n",
    "    streams = [s[\"logStreamName\"] for s in streams[\"logStreams\"]]\n",
    "    times = []\n",
    "    for stream in streams:\n",
    "        events = client.get_log_events(\n",
    "            logGroupName=\"/aws/sagemaker/TrainingJobs\", logStreamName=stream\n",
    "        )[\"events\"]\n",
    "        times += [e[\"timestamp\"] for e in events]\n",
    "    return (max(times) - min(times)) / 60000.0"
   ]
  },
  {
   "cell_type": "code",
   "execution_count": 25,
   "metadata": {},
   "outputs": [
    {
     "name": "stdout",
     "output_type": "stream",
     "text": [
      "Sharded: 1.2965666666666666 minutes\n",
      "Replicated: 4.40105 minutes\n"
     ]
    }
   ],
   "source": [
    "print(\"Sharded:\", get_train_timing(sharded_job), \"minutes\")\n",
    "print(\"Replicated:\", get_train_timing(replicated_job), \"minutes\")"
   ]
  },
  {
   "cell_type": "markdown",
   "metadata": {},
   "source": [
    "As we can see, and might expect, the sharded distribution type trained almost 4 times as fast.  This is a key differentiator to consider when preparing data and picking the distribution type."
   ]
  },
  {
   "cell_type": "markdown",
   "metadata": {},
   "source": [
    "---\n",
    "\n",
    "## Host\n",
    "\n",
    "Now that we've trained our machine learning models, we'll want to make predictions.  So, we'll setup a hosted endpoint for them.  The first step in doing that is to point our hosting service to the model.  We will:\n",
    "1. Point to the model.tar.gz that came from training\n",
    "1. Create the hosting model\n",
    "\n",
    "_Note, we'll do these twice, once for the model on replicated data and once for the model on distributed data._"
   ]
  },
  {
   "cell_type": "code",
   "execution_count": null,
   "metadata": {
    "collapsed": true,
    "jupyter": {
     "outputs_hidden": true
    }
   },
   "outputs": [],
   "source": [
    "sharded_model_response = sm.create_model(\n",
    "    ModelName=sharded_job,\n",
    "    ExecutionRoleArn=role,\n",
    "    PrimaryContainer={\n",
    "        \"Image\": container,\n",
    "        \"ModelDataUrl\": sm.describe_training_job(TrainingJobName=sharded_job)[\"ModelArtifacts\"][\n",
    "            \"S3ModelArtifacts\"\n",
    "        ],\n",
    "    },\n",
    ")\n",
    "\n",
    "print(sharded_model_response[\"ModelArn\"])"
   ]
  },
  {
   "cell_type": "code",
   "execution_count": null,
   "metadata": {
    "collapsed": true,
    "jupyter": {
     "outputs_hidden": true
    }
   },
   "outputs": [],
   "source": [
    "replicated_model_response = sm.create_model(\n",
    "    ModelName=replicated_job,\n",
    "    ExecutionRoleArn=role,\n",
    "    PrimaryContainer={\n",
    "        \"Image\": container,\n",
    "        \"ModelDataUrl\": sm.describe_training_job(TrainingJobName=replicated_job)[\"ModelArtifacts\"][\n",
    "            \"S3ModelArtifacts\"\n",
    "        ],\n",
    "    },\n",
    ")\n",
    "\n",
    "print(replicated_model_response[\"ModelArn\"])"
   ]
  },
  {
   "cell_type": "markdown",
   "metadata": {},
   "source": [
    "Once we've setup our models, we can configure what our hosting endpoints should be.  Here we specify:\n",
    "1. EC2 instance type to use for hosting\n",
    "1. Initial number of instances\n",
    "1. Our hosting model name\n",
    "\n",
    "Again, we'll do this twice, once for each model."
   ]
  },
  {
   "cell_type": "code",
   "execution_count": null,
   "metadata": {
    "collapsed": true,
    "jupyter": {
     "outputs_hidden": true
    }
   },
   "outputs": [],
   "source": [
    "sharded_endpoint_config = \"DEMO-sharded-endpoint-config-\" + time.strftime(\n",
    "    \"%Y-%m-%d-%H-%M-%S\", time.gmtime()\n",
    ")\n",
    "print(sharded_endpoint_config)\n",
    "sharded_endpoint_config_response = sm.create_endpoint_config(\n",
    "    EndpointConfigName=sharded_endpoint_config,\n",
    "    ProductionVariants=[\n",
    "        {\n",
    "            \"InstanceType\": \"ml.m4.xlarge\",\n",
    "            \"InitialInstanceCount\": 1,\n",
    "            \"ModelName\": sharded_job,\n",
    "            \"VariantName\": \"AllTraffic\",\n",
    "        }\n",
    "    ],\n",
    ")\n",
    "\n",
    "print(\"Endpoint Config Arn: \" + sharded_endpoint_config_response[\"EndpointConfigArn\"])"
   ]
  },
  {
   "cell_type": "code",
   "execution_count": null,
   "metadata": {
    "collapsed": true,
    "jupyter": {
     "outputs_hidden": true
    }
   },
   "outputs": [],
   "source": [
    "replicated_endpoint_config = \"DEMO-replicated-endpoint-config-\" + time.strftime(\n",
    "    \"%Y-%m-%d-%H-%M-%S\", time.gmtime()\n",
    ")\n",
    "print(replicated_endpoint_config)\n",
    "replicated_endpoint_config_response = sm.create_endpoint_config(\n",
    "    EndpointConfigName=replicated_endpoint_config,\n",
    "    ProductionVariants=[\n",
    "        {\n",
    "            \"InstanceType\": \"ml.m4.xlarge\",\n",
    "            \"InitialInstanceCount\": 1,\n",
    "            \"ModelName\": replicated_job,\n",
    "            \"VariantName\": \"AllTraffic\",\n",
    "        }\n",
    "    ],\n",
    ")\n",
    "\n",
    "print(\"Endpoint Config Arn: \" + replicated_endpoint_config_response[\"EndpointConfigArn\"])"
   ]
  },
  {
   "cell_type": "markdown",
   "metadata": {},
   "source": [
    "Now that we've specified how our endpoints should be configured, we can create them.  This can be done in the background, so, we'll kick off one in the background but setup a waiter on the second endpoint creation so that we know when they are ready for use."
   ]
  },
  {
   "cell_type": "code",
   "execution_count": null,
   "metadata": {
    "collapsed": true,
    "jupyter": {
     "outputs_hidden": true
    }
   },
   "outputs": [],
   "source": [
    "%%time\n",
    "\n",
    "sharded_endpoint = \"DEMO-sharded-endpoint-\" + time.strftime(\"%Y%m%d%H%M\", time.gmtime())\n",
    "print(sharded_endpoint)\n",
    "sharded_endpoint_response = sm.create_endpoint(\n",
    "    EndpointName=sharded_endpoint, EndpointConfigName=sharded_endpoint_config\n",
    ")\n",
    "print(sharded_endpoint_response[\"EndpointArn\"])\n",
    "\n",
    "replicated_endpoint = \"DEMO-replicated-endpoint-\" + time.strftime(\"%Y%m%d%H%M\", time.gmtime())\n",
    "print(replicated_endpoint)\n",
    "replicated_endpoint_response = sm.create_endpoint(\n",
    "    EndpointName=replicated_endpoint, EndpointConfigName=replicated_endpoint_config\n",
    ")\n",
    "print(replicated_endpoint_response[\"EndpointArn\"])\n",
    "\n",
    "resp = sm.describe_endpoint(EndpointName=replicated_endpoint)\n",
    "status = resp[\"EndpointStatus\"]\n",
    "print(\"Status: \" + status)\n",
    "\n",
    "sm.get_waiter(\"endpoint_in_service\").wait(EndpointName=replicated_endpoint)\n",
    "\n",
    "resp = sm.describe_endpoint(EndpointName=replicated_endpoint)\n",
    "status = resp[\"EndpointStatus\"]\n",
    "print(\"Arn: \" + resp[\"EndpointArn\"])\n",
    "print(\"Status: \" + status)\n",
    "\n",
    "if status != \"InService\":\n",
    "    raise Exception(\"Endpoint creation did not succeed\")"
   ]
  },
  {
   "cell_type": "markdown",
   "metadata": {},
   "source": [
    "Let's confirm both are ready for use."
   ]
  },
  {
   "cell_type": "code",
   "execution_count": null,
   "metadata": {
    "collapsed": true,
    "jupyter": {
     "outputs_hidden": true
    }
   },
   "outputs": [],
   "source": [
    "print(\"Sharded:\", sm.describe_endpoint(EndpointName=sharded_endpoint)[\"EndpointStatus\"])\n",
    "print(\"Replicated:\", sm.describe_endpoint(EndpointName=replicated_endpoint)[\"EndpointStatus\"])"
   ]
  },
  {
   "cell_type": "markdown",
   "metadata": {},
   "source": [
    "### Evaluate\n",
    "\n",
    "To compare predictions from our two models, let's bring in some new data from a year the model was not trained or validated on."
   ]
  },
  {
   "cell_type": "code",
   "execution_count": null,
   "metadata": {
    "collapsed": true,
    "jupyter": {
     "outputs_hidden": true
    }
   },
   "outputs": [],
   "source": [
    "test_data = transform_gdelt(get_gdelt(\"1984.csv\"), events).to_numpy()\n",
    "test_X = test_data[:, 1:]\n",
    "test_y = test_data[:, 0]"
   ]
  },
  {
   "cell_type": "markdown",
   "metadata": {},
   "source": [
    "Now we'll need a function to convert these numpy matrices to CSVs so they can be passed to our endpoint as an HTTP POST request."
   ]
  },
  {
   "cell_type": "code",
   "execution_count": null,
   "metadata": {
    "collapsed": true,
    "jupyter": {
     "outputs_hidden": true
    }
   },
   "outputs": [],
   "source": [
    "def np2csv(arr):\n",
    "    csv = io.BytesIO()\n",
    "    np.savetxt(csv, arr, delimiter=\",\", fmt=\"%g\")\n",
    "    return csv.getvalue().decode().rstrip()"
   ]
  },
  {
   "cell_type": "markdown",
   "metadata": {},
   "source": [
    "Next, because POST requests to our endpoint are limited to ~6MB, we'll setup a small function to split our test data up into mini-batches that are each about 5MB, loop through and invoke our endpoint to get predictions for those mini-batches, and gather them into a single array."
   ]
  },
  {
   "cell_type": "code",
   "execution_count": null,
   "metadata": {
    "collapsed": true,
    "jupyter": {
     "outputs_hidden": true
    }
   },
   "outputs": [],
   "source": [
    "def predict_batches(data, endpoint):\n",
    "    rows = 5.0 * 1024.0 * 1024.0 / sys.getsizeof(np2csv(data[0, :]))\n",
    "    split_array = np.array_split(data, int(data.shape[0] / float(rows) + 1))\n",
    "    predictions = []\n",
    "    runtime = boto3.Session().client(\"runtime.sagemaker\")\n",
    "    for array in split_array:\n",
    "        payload = np2csv(array)\n",
    "        response = runtime.invoke_endpoint(\n",
    "            EndpointName=endpoint, ContentType=\"text/csv\", Body=payload\n",
    "        )\n",
    "        result = json.loads(response[\"Body\"].read().decode())\n",
    "        predictions += [r[\"score\"] for r in result[\"predictions\"]]\n",
    "    return np.array(predictions)"
   ]
  },
  {
   "cell_type": "markdown",
   "metadata": {},
   "source": [
    "Now we'll compare accuracy in mean squared error (MSE)."
   ]
  },
  {
   "cell_type": "code",
   "execution_count": null,
   "metadata": {
    "collapsed": true,
    "jupyter": {
     "outputs_hidden": true
    }
   },
   "outputs": [],
   "source": [
    "sharded_predictions = predict_batches(test_X, sharded_endpoint)\n",
    "replicated_predictions = predict_batches(test_X, replicated_endpoint)\n",
    "\n",
    "print(\"Sharded MSE =\", np.mean((test_y - sharded_predictions) ** 2))\n",
    "print(\"Replicated MSE =\", np.mean((test_y - replicated_predictions) ** 2))"
   ]
  },
  {
   "cell_type": "markdown",
   "metadata": {},
   "source": [
    "We can see that the fully replicated distribution type performs just slightly better in terms of fit.  However, this difference is small compared to the overall speedup that providing multiple S3 objects and distributing them across machines provides."
   ]
  },
  {
   "cell_type": "markdown",
   "metadata": {},
   "source": [
    "---\n",
    "\n",
    "## Extensions\n",
    "\n",
    "This notebook ran a regression on a relatively artificial example, and we skipped some pre-processing steps along the way (like potentially transforming or winsorizing our target variable, looking for interations in our features, etc.).  But the main point was to highlight the difference in training time and accuracy of a linear model trained through two different distribution methods.\n",
    "\n",
    "Overall, sharding data into separate files and sending them to separate training nodes will run faster, but may produce lower accuracy than a model that replicates the data across all nodes.  Naturally, this can be influenced by training the sharded model longer, with more epochs.  And it should be noted that we trained with a very small number of epochs to highlight this difference.\n",
    "\n",
    "Different algorithms can be expected to show variation in which distribution mechanism is most effective at achieving optimal compute spend per point of model accuracy.  The message remains the same though, that the process of finding the right distribution type is another experiment in optimizing model training times."
   ]
  },
  {
   "cell_type": "markdown",
   "metadata": {},
   "source": [
    "### (Optional) Clean-up\n",
    "\n",
    "If you're ready to be done with this notebook, please run the cell below.  This will remove the hosted endpoints you created and avoid any charges from a stray instance being left on."
   ]
  },
  {
   "cell_type": "code",
   "execution_count": null,
   "metadata": {
    "collapsed": true,
    "jupyter": {
     "outputs_hidden": true
    }
   },
   "outputs": [],
   "source": [
    "sm.delete_endpoint(EndpointName=sharded_endpoint)\n",
    "sm.delete_endpoint(EndpointName=replicated_endpoint)"
   ]
  }
 ],
 "metadata": {
  "celltoolbar": "Tags",
  "instance_type": "ml.t3.medium",
  "kernelspec": {
   "display_name": "Python 3 (Data Science)",
   "language": "python",
   "name": "python3__SAGEMAKER_INTERNAL__arn:aws:sagemaker:us-east-1:081325390199:image/datascience-1.0"
  },
  "language_info": {
   "codemirror_mode": {
    "name": "ipython",
    "version": 3
   },
   "file_extension": ".py",
   "mimetype": "text/x-python",
   "name": "python",
   "nbconvert_exporter": "python",
   "pygments_lexer": "ipython3",
   "version": "3.7.10"
  },
  "notice": "Copyright 2017 Amazon.com, Inc. or its affiliates. All Rights Reserved.  Licensed under the Apache License, Version 2.0 (the \"License\"). You may not use this file except in compliance with the License. A copy of the License is located at http://aws.amazon.com/apache2.0/ or in the \"license\" file accompanying this file. This file is distributed on an \"AS IS\" BASIS, WITHOUT WARRANTIES OR CONDITIONS OF ANY KIND, either express or implied. See the License for the specific language governing permissions and limitations under the License."
 },
 "nbformat": 4,
 "nbformat_minor": 4
}
