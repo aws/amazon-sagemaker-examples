{
 "cells": [
  {
   "cell_type": "markdown",
   "metadata": {},
   "source": [
    "# SageMaker Endpoint\n",
    "To deploy the model you [previously trained](01_train_pytorch.ipynb), you need to create a SageMaker Endpoint. This is hosted prediction\n",
    "service that you can use to perform inference.\n",
    "\n",
    "## Finding the model\n",
    "This notebook uses a stored model. If you recently ran a training example uses %store% magic, it will be restored in the next cell.\n",
    "\n",
    "Otherwise, you can pass the URI to the model file (a .tar.gz file) in the `model_data` variable.\n",
    "\n",
    "You can find your model file through [SageMaker Console](https://us-west-2.console.aws.amazon.com/sagemaker/home?region=us-west-2#/dashboard)\n",
    "by choosing **Training > Training jobs** in the left navigation pane. Find your current training job, choose it and then look for the s3:// link in the **Output** pane. If you have not run the [training notebook](01_train_pytorch.ipynb) you can still run this notebook by using a model artifact we have pretrained. To do so, uncomment the `model_data` line in the next cell that manually sets the model's URI. "
   ]
  },
  {
   "cell_type": "code",
   "execution_count": null,
   "metadata": {},
   "outputs": [],
   "source": [
    "# Retrieve a saved model from a previous notebook run's stored variable\n",
    "%store -r model_data\n",
    "\n",
    "# If no model was found, set it manually here.\n",
    "# model_data = 's3://sagemaker-us-west-2-688520471316/pytorch-herring-mnist-2020-10-16-17-15-16-419/output/model.tar.gz'\n",
    "\n",
    "print(\"Using this model: {}\".format(model_data))"
   ]
  },
  {
   "cell_type": "markdown",
   "metadata": {},
   "source": [
    "## Create a model object\n",
    "You define the model object by using SageMaker SDK's `PyTorchModel` and pass in the model from the `model_data` and `entry_point`. \n",
    "The endpoint's entry point for inference is defined by `model_fn` as seen in the following code block that prints out `inference.py`. \n",
    "The function loads the model and sets it to use GPU, if available."
   ]
  },
  {
   "cell_type": "code",
   "execution_count": null,
   "metadata": {},
   "outputs": [],
   "source": [
    "!pygmentize code/inference.py"
   ]
  },
  {
   "cell_type": "code",
   "execution_count": null,
   "metadata": {},
   "outputs": [],
   "source": [
    "import sagemaker\n",
    "\n",
    "role = sagemaker.get_execution_role()\n",
    "\n",
    "from sagemaker.pytorch import PyTorchModel\n",
    "model = PyTorchModel(\n",
    "    model_data=model_data,\n",
    "    source_dir='code',\n",
    "    entry_point='inference.py',\n",
    "    role=role,\n",
    "    framework_version='1.6.0',\n",
    "    py_version='py3')\n"
   ]
  },
  {
   "cell_type": "markdown",
   "metadata": {},
   "source": [
    "## Deploy the model on an endpoint\n",
    "You create a `predictor` by using the `model.deploy` function. You can optionally change both the instance count and instance type."
   ]
  },
  {
   "cell_type": "code",
   "execution_count": null,
   "metadata": {},
   "outputs": [],
   "source": [
    "predictor = model.deploy(\n",
    "    initial_instance_count=1,\n",
    "    instance_type='local'\n",
    ")"
   ]
  },
  {
   "cell_type": "code",
   "execution_count": null,
   "metadata": {},
   "outputs": [],
   "source": [
    "# Download the test set\n",
    "import numpy as np\n",
    "import random\n",
    "import matplotlib.pyplot as plt\n",
    "%matplotlib inline\n",
    "\n",
    "from code.utils import mnist_to_numpy\n",
    "\n",
    "data_dir = './data'\n",
    "X, Y = mnist_to_numpy(data) # test images and labels\n",
    "\n",
    "# randomly sample 16 images from the test set\n",
    "mask = random.sample(range(X.shape[0]), 16)\n",
    "samples = X[mask]\n",
    "\n",
    "# plot the images for inspect\n",
    "fig, axs = plt.subplots(nrows=1, ncols=16, figsize=(16, 1))\n",
    "\n",
    "for i, splt in enumerate(axs):\n",
    "    splt.imshow(samples[i])"
   ]
  },
  {
   "cell_type": "code",
   "execution_count": null,
   "metadata": {},
   "outputs": [],
   "source": [
    "from code.utils import adjust_to_framework, normalize\n",
    "\n",
    "# Send the sampled images to the endpoint for inference\n",
    "samples = adjust_to_framework(\n",
    "    normalize(samples, axis=(1, 2)), framework='pytorch')\n",
    "\n",
    "# depolyed model only accept 32-bit floating pt as input\n",
    "outputs = predictor.predict(samples.astype(np.float32))\n",
    "\n",
    "predictions = np.argmax(np.array(outputs, np.float32), axis=1)\n",
    "print(\"Predictions: \\n\", predictions)"
   ]
  },
  {
   "cell_type": "markdown",
   "metadata": {},
   "source": [
    "### Clean-up\n",
    "If you don't intend to do anything else with the endpoint you should delete it. You can also\n",
    "free some disk space by deleting the MNIST data."
   ]
  },
  {
   "cell_type": "code",
   "execution_count": null,
   "metadata": {},
   "outputs": [],
   "source": [
    "import shutil\n",
    "predictor.delete_endpoint()\n",
    "shutil.rmtree(data_dir)"
   ]
  }
 ],
 "metadata": {
  "kernelspec": {
   "display_name": "Python 3",
   "language": "python",
   "name": "python3"
  },
  "language_info": {
   "codemirror_mode": {
    "name": "ipython",
    "version": 3
   },
   "file_extension": ".py",
   "mimetype": "text/x-python",
   "name": "python",
   "nbconvert_exporter": "python",
   "pygments_lexer": "ipython3",
   "version": "3.8.3"
  }
 },
 "nbformat": 4,
 "nbformat_minor": 4
}
