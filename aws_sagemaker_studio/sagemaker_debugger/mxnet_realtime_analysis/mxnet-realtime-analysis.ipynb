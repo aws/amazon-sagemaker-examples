{
 "cells": [
  {
   "cell_type": "markdown",
   "id": "sound-sunday",
   "metadata": {
    "papermill": {
     "duration": 0.012011,
     "end_time": "2021-06-07T00:11:11.700746",
     "exception": false,
     "start_time": "2021-06-07T00:11:11.688735",
     "status": "completed"
    },
    "tags": []
   },
   "source": [
    "# Debugging Amazon SageMaker training jobs in real time with Debugger"
   ]
  },
  {
   "cell_type": "markdown",
   "id": "fantastic-flavor",
   "metadata": {
    "papermill": {
     "duration": 0.011838,
     "end_time": "2021-06-07T00:11:11.724434",
     "exception": false,
     "start_time": "2021-06-07T00:11:11.712596",
     "status": "completed"
    },
    "tags": []
   },
   "source": [
    "## Overview"
   ]
  },
  {
   "cell_type": "markdown",
   "id": "separate-longer",
   "metadata": {
    "papermill": {
     "duration": 0.011719,
     "end_time": "2021-06-07T00:11:11.748038",
     "exception": false,
     "start_time": "2021-06-07T00:11:11.736319",
     "status": "completed"
    },
    "tags": []
   },
   "source": [
    "Debugger is a new capability of Amazon SageMaker that allows debugging machine learning training. \n",
    "It lets you go beyond just looking at scalars like losses and accuracies during training and gives you full visibility into all tensors 'flowing through the graph' during training. Debugger helps you to monitor your training in near real time using rules and would provide you alerts, once it has detected inconsistency in training flow.\n",
    "\n",
    "Using Debugger is a two step process: Saving tensors and Analysis. Let's look at each one of them closely.\n",
    "\n",
    "### Saving tensors\n",
    "\n",
    "Tensors define the state of the training job at any particular instant in its lifecycle. Debugger exposes a library which allows you to capture these tensors and save them for analysis.\n",
    "\n",
    "### Analysis\n",
    "\n",
    "There are two ways to get to tensors and run analysis on them. One way is to use concept called ***Rules***. For more information about a rules-based approach to analysis, see [Rules](https://github.com/awslabs/sagemaker-debugger/blob/master/docs/analysis.md#Rules). The focus of this notebook is on another way of analysis: **Manual**.\n",
    "\n",
    "Manual analysis is what you use when there are no rules available to detect type of an issue you are running into and you need to get to raw tensors in order to understand what data is travelling through your model duing training and, hopefully, root cause a problem or two with your training job.\n",
    "\n",
    "Manual analysis is powered by Debugger API - a framework that allows to retrieve tensors and scalas (e.g. debugging data) saved during training job via few lines of code. One of the most powerful features provided by it is real time access to data - you can get tensors and scalars ***while your training job is running***.\n",
    "\n",
    "This example guides you through installing required components for emitting tensors in an Amazon SageMaker training job and using Debugger API to access those tensors while training is running. Use a small gluon CNN model and train it on the FashionMNIST dataset. While the job is running, you retrieve activations of the first convolutional layer from each of 100 batches and visualize them. Also we will visualize weights of that level after the job is done.\n",
    "\n",
    "Before we proceed let us install the smdebug binary which allows us to perform interactive analysis in this notebook. After installing it, please restart the kernel, and when you come back skip this cell.\n",
    "\n",
    "### Installing smdebug\n"
   ]
  },
  {
   "cell_type": "code",
   "execution_count": 1,
   "id": "opened-miller",
   "metadata": {
    "execution": {
     "iopub.execute_input": "2021-06-07T00:11:11.776388Z",
     "iopub.status.busy": "2021-06-07T00:11:11.775540Z",
     "iopub.status.idle": "2021-06-07T00:11:13.482778Z",
     "shell.execute_reply": "2021-06-07T00:11:13.483240Z"
    },
    "papermill": {
     "duration": 1.723504,
     "end_time": "2021-06-07T00:11:13.483396",
     "exception": false,
     "start_time": "2021-06-07T00:11:11.759892",
     "status": "completed"
    },
    "tags": []
   },
   "outputs": [
    {
     "name": "stdout",
     "output_type": "stream",
     "text": [
      "Requirement already satisfied: smdebug in /home/ubuntu/anaconda3/envs/mxnet_p36/lib/python3.6/site-packages (1.0.9)\n",
      "Requirement already satisfied: protobuf>=3.6.0 in /home/ubuntu/anaconda3/envs/mxnet_p36/lib/python3.6/site-packages (from smdebug) (3.11.4)\n",
      "Requirement already satisfied: pyinstrument>=3.1.3 in /home/ubuntu/anaconda3/envs/mxnet_p36/lib/python3.6/site-packages (from smdebug) (3.4.2)\n",
      "Requirement already satisfied: numpy>=1.16.0 in /home/ubuntu/anaconda3/envs/mxnet_p36/lib/python3.6/site-packages (from smdebug) (1.18.1)\n",
      "Requirement already satisfied: packaging in /home/ubuntu/anaconda3/envs/mxnet_p36/lib/python3.6/site-packages (from smdebug) (20.1)\n",
      "Requirement already satisfied: boto3>=1.10.32 in /home/ubuntu/.local/lib/python3.6/site-packages (from smdebug) (1.16.36)\n",
      "Requirement already satisfied: six>=1.9 in /home/ubuntu/anaconda3/envs/mxnet_p36/lib/python3.6/site-packages (from protobuf>=3.6.0->smdebug) (1.14.0)\n",
      "Requirement already satisfied: setuptools in /home/ubuntu/anaconda3/envs/mxnet_p36/lib/python3.6/site-packages (from protobuf>=3.6.0->smdebug) (45.2.0.post20200210)\n",
      "Requirement already satisfied: pyinstrument-cext>=0.2.2 in /home/ubuntu/anaconda3/envs/mxnet_p36/lib/python3.6/site-packages (from pyinstrument>=3.1.3->smdebug) (0.2.4)\n",
      "Requirement already satisfied: pyparsing>=2.0.2 in /home/ubuntu/anaconda3/envs/mxnet_p36/lib/python3.6/site-packages (from packaging->smdebug) (2.4.6)\n",
      "Collecting botocore<1.20.0,>=1.19.36\n",
      "  Using cached botocore-1.19.63-py2.py3-none-any.whl (7.2 MB)\n",
      "Requirement already satisfied: jmespath<1.0.0,>=0.7.1 in /home/ubuntu/anaconda3/envs/mxnet_p36/lib/python3.6/site-packages (from boto3>=1.10.32->smdebug) (0.10.0)\n",
      "Requirement already satisfied: s3transfer<0.4.0,>=0.3.0 in /home/ubuntu/anaconda3/envs/mxnet_p36/lib/python3.6/site-packages (from boto3>=1.10.32->smdebug) (0.3.3)\n",
      "Requirement already satisfied: python-dateutil<3.0.0,>=2.1 in /home/ubuntu/anaconda3/envs/mxnet_p36/lib/python3.6/site-packages (from botocore<1.20.0,>=1.19.36->boto3>=1.10.32->smdebug) (2.8.1)\n",
      "Requirement already satisfied: urllib3<1.27,>=1.25.4; python_version != \"3.4\" in /home/ubuntu/anaconda3/envs/mxnet_p36/lib/python3.6/site-packages (from botocore<1.20.0,>=1.19.36->boto3>=1.10.32->smdebug) (1.25.10)\n",
      "Installing collected packages: botocore\n",
      "  Attempting uninstall: botocore\n",
      "    Found existing installation: botocore 1.19.9\n",
      "    Uninstalling botocore-1.19.9:\n",
      "      Successfully uninstalled botocore-1.19.9\n",
      "Successfully installed botocore-1.19.63\n"
     ]
    }
   ],
   "source": [
    "!python -m pip install smdebug"
   ]
  },
  {
   "cell_type": "markdown",
   "id": "valid-table",
   "metadata": {
    "papermill": {
     "duration": 0.012822,
     "end_time": "2021-06-07T00:11:13.509520",
     "exception": false,
     "start_time": "2021-06-07T00:11:13.496698",
     "status": "completed"
    },
    "tags": []
   },
   "source": [
    "## Training MXNet models in Amazon SageMaker with Debugger\n",
    "\n",
    "Train a small MXNet CNN model with the FashonMNIST dataset in this notebook, with Debugger enabled. This is done using an Amazon SageMaker MXNet 1.6.0 container with script mode. Debugger currently works with Python3, so be sure to set `py_version='py3'` when creating the Amazon SageMaker Estimator.\n",
    "\n",
    "First, train a simple training script mnist_gluon_realtime_visualize_demo.py with Debugger enabled in Amazon SageMaker using the Amazon SageMaker Estimator API. In this example, for simplicity sake, Debugger  captures all tensors as specified in its configuration every 100 steps (one step is one batch). While training job is running, use Debugger API to access saved tensors in real time and visualize them. Rely on Debugger to take care of downloading fresh set of tensors every time you query for them.\n",
    "\n",
    "## Enable Debugger in Estimator object\n",
    "\n",
    "Enabling Debugger in training job can be accomplished by adding its configuration into Estimator object constructor:\n",
    "\n",
    "```\n",
    "sagemaker_simple_estimator = MXNet(...,\n",
    "    debugger_hook_config = DebuggerHookConfig(\n",
    "        s3_output_path=\"s3://{bucket_name}/{location_in_bucket}\",  # Required\n",
    "        collection_configs=[\n",
    "            CollectionConfig(\n",
    "                name=\"conv0_tensors\",\n",
    "                parameters={\n",
    "                    \"include_regex\": \"conv0.*\",\n",
    "                    \"save_interval\": \"100\"\n",
    "                }\n",
    "            )\n",
    "        ]\n",
    "    )\n",
    ")\n",
    "```\n",
    "Consider this almost \"magical\" config object. Its purpose is to instruct Estimator (and CreateTrainingJob API method that is called) with what debugging data you are interested in for the debugging and visualization exercise. Here are two parameters: \n",
    "- `s3_output_path`: it points to S3 bucket where you intend to store the debugging tensors. The amount of data saved depends on multiple factors. Major ones are training job, dataset, model, and frequency of saving tensors. This bucket should be in your AWS account and you have full access control over it. **Important**: This S3 bucket should be originally created in the same Region where your training job will be running, otherwise you might run into problems with cross-Region access.\n",
    "- `collection_configs` enumerates named collections of tensors to save. Collections are a convenient way to organize relevant tensors under same umbrella to make it easy to navigate them during analysis. In this particular case create a single collection with name 'conv0_tensors' and ask it to save all tensors whose name matches 'conv0.\\*' regex. You know this name based on the structure of the model defined in [model training script](./scripts/mnist_gluon_realtime_visualize_demo.py). You also instructed Debugger to save tensors every 100 steps, where one step is one batch during a training job. Also, see [Collection](https://github.com/awslabs/sagemaker-debugger/blob/master/docs/API.md#collection) documentation for all parameters that are supported by Collections and DebuggerConfig"
   ]
  },
  {
   "cell_type": "markdown",
   "id": "quick-float",
   "metadata": {
    "papermill": {
     "duration": 0.01279,
     "end_time": "2021-06-07T00:11:13.535226",
     "exception": false,
     "start_time": "2021-06-07T00:11:13.522436",
     "status": "completed"
    },
    "tags": []
   },
   "source": [
    "### Configuring the inputs for the training job\n",
    "\n",
    "Now call the Amazon SageMaker MXNet Estimator to kick off a training job along with enabling Debugger functionality.\n",
    "\n",
    "- `entry_point_script` points to the simple MXNet training script that is ran by training job\n",
    "- `hyperparameters` are the parameters that will be passed to the training script\n",
    "- `train_volume_size` with value *400* ensures enough EBS volume is provisioned to collect tensors emitted by the training job"
   ]
  },
  {
   "cell_type": "code",
   "execution_count": 2,
   "id": "relative-communications",
   "metadata": {
    "execution": {
     "iopub.execute_input": "2021-06-07T00:11:13.570459Z",
     "iopub.status.busy": "2021-06-07T00:11:13.569535Z",
     "iopub.status.idle": "2021-06-07T00:11:16.199240Z",
     "shell.execute_reply": "2021-06-07T00:11:16.199716Z"
    },
    "papermill": {
     "duration": 2.651912,
     "end_time": "2021-06-07T00:11:16.199893",
     "exception": false,
     "start_time": "2021-06-07T00:11:13.547981",
     "status": "completed"
    },
    "tags": []
   },
   "outputs": [
    {
     "name": "stdout",
     "output_type": "stream",
     "text": [
      "[2021-06-08 19:08:25.654 ip-172-31-33-148:7221 INFO utils.py:27] RULE_JOB_STOP_SIGNAL_FILENAME: None\n"
     ]
    }
   ],
   "source": [
    "%load_ext autoreload\n",
    "%autoreload 2\n",
    "\n",
    "import sagemaker\n",
    "import boto3\n",
    "import os\n",
    "import sagemaker\n",
    "\n",
    "from sagemaker.mxnet import MXNet\n",
    "from sagemaker.debugger import rule_configs, DebuggerHookConfig, CollectionConfig\n",
    "from smdebug.mxnet import modes\n",
    "\n",
    "sagemaker_session = sagemaker.Session()\n",
    "\n",
    "entry_point_script = \"./scripts/mnist_gluon_realtime_visualize_demo.py\"\n",
    "hyperparameters = {\"batch-size\": 256, \"learning_rate\": 0.1, \"epochs\": 10}\n",
    "base_job_name = \"mxnet-realtime-analysis-example\"\n",
    "\n",
    "# Make sure to set this to your bucket and location\n",
    "BUCKET_NAME = sagemaker_session.default_bucket()\n",
    "LOCATION_IN_BUCKET = \"smdebug-real-time-demo\"\n",
    "\n",
    "s3_bucket_for_tensors = \"s3://{BUCKET_NAME}/{LOCATION_IN_BUCKET}\".format(\n",
    "    BUCKET_NAME=BUCKET_NAME, LOCATION_IN_BUCKET=LOCATION_IN_BUCKET\n",
    ")"
   ]
  },
  {
   "cell_type": "code",
   "execution_count": 6,
   "id": "answering-anderson",
   "metadata": {
    "execution": {
     "iopub.execute_input": "2021-06-07T00:11:16.231132Z",
     "iopub.status.busy": "2021-06-07T00:11:16.230584Z",
     "iopub.status.idle": "2021-06-07T00:11:16.685543Z",
     "shell.execute_reply": "2021-06-07T00:11:16.685971Z"
    },
    "papermill": {
     "duration": 0.472981,
     "end_time": "2021-06-07T00:11:16.686125",
     "exception": false,
     "start_time": "2021-06-07T00:11:16.213144",
     "status": "completed"
    },
    "tags": []
   },
   "outputs": [],
   "source": [
    "sagemaker_simple_estimator = MXNet(\n",
    "    role=sagemaker.get_execution_role(),\n",
    "    base_job_name=base_job_name,\n",
    "    instance_count=1,\n",
    "    instance_type=\"ml.c5.xlarge\",\n",
    "    volume_size=400,\n",
    "    entry_point=entry_point_script,\n",
    "    hyperparameters=hyperparameters,\n",
    "    framework_version=\"1.6.0\",\n",
    "    py_version=\"py3\",\n",
    "    max_run=3600,\n",
    "    sagemaker_session=sagemaker_session,\n",
    "    debugger_hook_config=DebuggerHookConfig(\n",
    "        s3_output_path=s3_bucket_for_tensors,  # Required\n",
    "        collection_configs=[\n",
    "            CollectionConfig(\n",
    "                name=\"conv0_tensors\",\n",
    "                parameters={\"include_regex\": \"conv0.*\", \"save_interval\": \"100\"},\n",
    "            )\n",
    "        ],\n",
    "    ),\n",
    ")"
   ]
  },
  {
   "cell_type": "markdown",
   "id": "contemporary-office",
   "metadata": {
    "papermill": {
     "duration": 0.014436,
     "end_time": "2021-06-07T00:11:16.715237",
     "exception": false,
     "start_time": "2021-06-07T00:11:16.700801",
     "status": "completed"
    },
    "tags": []
   },
   "source": [
    "With the next step, start a training job using the Estimator object you created above. This job is started in an asynchronous, non-blocking way. This means that control is passed back to notebook and further commands are run while training job is progressing."
   ]
  },
  {
   "cell_type": "code",
   "execution_count": 7,
   "id": "medieval-thursday",
   "metadata": {
    "execution": {
     "iopub.execute_input": "2021-06-07T00:11:16.748088Z",
     "iopub.status.busy": "2021-06-07T00:11:16.747214Z",
     "iopub.status.idle": "2021-06-07T00:11:17.185505Z",
     "shell.execute_reply": "2021-06-07T00:11:17.185974Z"
    },
    "papermill": {
     "duration": 0.456532,
     "end_time": "2021-06-07T00:11:17.186135",
     "exception": false,
     "start_time": "2021-06-07T00:11:16.729603",
     "status": "completed"
    },
    "tags": []
   },
   "outputs": [
    {
     "name": "stdout",
     "output_type": "stream",
     "text": [
      "2021-06-08 19:09:41 Starting - Starting the training job...\n",
      "2021-06-08 19:09:43 Starting - Launching requested ML instances......\n",
      "2021-06-08 19:10:52 Starting - Preparing the instances for training......\n",
      "2021-06-08 19:12:06 Downloading - Downloading input data\n",
      "2021-06-08 19:12:06 Training - Downloading the training image..\u001b[34m2021-06-08 19:12:21,995 sagemaker-training-toolkit INFO     Imported framework sagemaker_mxnet_container.training\u001b[0m\n",
      "\u001b[34m2021-06-08 19:12:21,998 sagemaker-training-toolkit INFO     No GPUs detected (normal if no gpus installed)\u001b[0m\n",
      "\u001b[34m2021-06-08 19:12:22,016 sagemaker_mxnet_container.training INFO     MXNet training environment: {'SM_HOSTS': '[\"algo-1\"]', 'SM_NETWORK_INTERFACE_NAME': 'eth0', 'SM_HPS': '{\"batch-size\":256,\"epochs\":10,\"learning_rate\":0.1}', 'SM_USER_ENTRY_POINT': 'mnist_gluon_realtime_visualize_demo.py', 'SM_FRAMEWORK_PARAMS': '{}', 'SM_RESOURCE_CONFIG': '{\"current_host\":\"algo-1\",\"hosts\":[\"algo-1\"],\"network_interface_name\":\"eth0\"}', 'SM_INPUT_DATA_CONFIG': '{}', 'SM_OUTPUT_DATA_DIR': '/opt/ml/output/data', 'SM_CHANNELS': '[]', 'SM_CURRENT_HOST': 'algo-1', 'SM_MODULE_NAME': 'mnist_gluon_realtime_visualize_demo', 'SM_LOG_LEVEL': '20', 'SM_FRAMEWORK_MODULE': 'sagemaker_mxnet_container.training:main', 'SM_INPUT_DIR': '/opt/ml/input', 'SM_INPUT_CONFIG_DIR': '/opt/ml/input/config', 'SM_OUTPUT_DIR': '/opt/ml/output', 'SM_NUM_CPUS': '4', 'SM_NUM_GPUS': '0', 'SM_MODEL_DIR': '/opt/ml/model', 'SM_MODULE_DIR': 's3://sagemaker-us-west-2-688520471316/mxnet-realtime-analysis-example-2021-06-08-19-09-41-105/source/sourcedir.tar.gz', 'SM_TRAINING_ENV': '{\"additional_framework_parameters\":{},\"channel_input_dirs\":{},\"current_host\":\"algo-1\",\"framework_module\":\"sagemaker_mxnet_container.training:main\",\"hosts\":[\"algo-1\"],\"hyperparameters\":{\"batch-size\":256,\"epochs\":10,\"learning_rate\":0.1},\"input_config_dir\":\"/opt/ml/input/config\",\"input_data_config\":{},\"input_dir\":\"/opt/ml/input\",\"is_master\":true,\"job_name\":\"mxnet-realtime-analysis-example-2021-06-08-19-09-41-105\",\"log_level\":20,\"master_hostname\":\"algo-1\",\"model_dir\":\"/opt/ml/model\",\"module_dir\":\"s3://sagemaker-us-west-2-688520471316/mxnet-realtime-analysis-example-2021-06-08-19-09-41-105/source/sourcedir.tar.gz\",\"module_name\":\"mnist_gluon_realtime_visualize_demo\",\"network_interface_name\":\"eth0\",\"num_cpus\":4,\"num_gpus\":0,\"output_data_dir\":\"/opt/ml/output/data\",\"output_dir\":\"/opt/ml/output\",\"output_intermediate_dir\":\"/opt/ml/output/intermediate\",\"resource_config\":{\"current_host\":\"algo-1\",\"hosts\":[\"algo-1\"],\"network_interface_name\":\"eth0\"},\"user_entry_point\":\"mnist_gluon_realtime_visualize_demo.py\"}', 'SM_USER_ARGS': '[\"--batch-size\",\"256\",\"--epochs\",\"10\",\"--learning_rate\",\"0.1\"]', 'SM_OUTPUT_INTERMEDIATE_DIR': '/opt/ml/output/intermediate', 'SM_HP_BATCH-SIZE': '256', 'SM_HP_EPOCHS': '10', 'SM_HP_LEARNING_RATE': '0.1'}\u001b[0m\n",
      "\u001b[34m2021-06-08 19:12:22,345 sagemaker-training-toolkit INFO     No GPUs detected (normal if no gpus installed)\u001b[0m\n",
      "\u001b[34m2021-06-08 19:12:22,358 sagemaker-training-toolkit INFO     No GPUs detected (normal if no gpus installed)\u001b[0m\n",
      "\u001b[34m2021-06-08 19:12:22,374 sagemaker-training-toolkit INFO     No GPUs detected (normal if no gpus installed)\u001b[0m\n",
      "\u001b[34m2021-06-08 19:12:22,388 sagemaker-training-toolkit INFO     Invoking user script\n",
      "\u001b[0m\n",
      "\u001b[34mTraining Env:\n",
      "\u001b[0m\n",
      "\u001b[34m{\n",
      "    \"additional_framework_parameters\": {},\n",
      "    \"channel_input_dirs\": {},\n",
      "    \"current_host\": \"algo-1\",\n",
      "    \"framework_module\": \"sagemaker_mxnet_container.training:main\",\n",
      "    \"hosts\": [\n",
      "        \"algo-1\"\n",
      "    ],\n",
      "    \"hyperparameters\": {\n",
      "        \"batch-size\": 256,\n",
      "        \"epochs\": 10,\n",
      "        \"learning_rate\": 0.1\n",
      "    },\n",
      "    \"input_config_dir\": \"/opt/ml/input/config\",\n",
      "    \"input_data_config\": {},\n",
      "    \"input_dir\": \"/opt/ml/input\",\n",
      "    \"is_master\": true,\n",
      "    \"job_name\": \"mxnet-realtime-analysis-example-2021-06-08-19-09-41-105\",\n",
      "    \"log_level\": 20,\n",
      "    \"master_hostname\": \"algo-1\",\n",
      "    \"model_dir\": \"/opt/ml/model\",\n",
      "    \"module_dir\": \"s3://sagemaker-us-west-2-688520471316/mxnet-realtime-analysis-example-2021-06-08-19-09-41-105/source/sourcedir.tar.gz\",\n",
      "    \"module_name\": \"mnist_gluon_realtime_visualize_demo\",\n",
      "    \"network_interface_name\": \"eth0\",\n",
      "    \"num_cpus\": 4,\n",
      "    \"num_gpus\": 0,\n",
      "    \"output_data_dir\": \"/opt/ml/output/data\",\n",
      "    \"output_dir\": \"/opt/ml/output\",\n",
      "    \"output_intermediate_dir\": \"/opt/ml/output/intermediate\",\n",
      "    \"resource_config\": {\n",
      "        \"current_host\": \"algo-1\",\n",
      "        \"hosts\": [\n",
      "            \"algo-1\"\n",
      "        ],\n",
      "        \"network_interface_name\": \"eth0\"\n",
      "    },\n",
      "    \"user_entry_point\": \"mnist_gluon_realtime_visualize_demo.py\"\u001b[0m\n",
      "\u001b[34m}\n",
      "\u001b[0m\n",
      "\u001b[34mEnvironment variables:\n",
      "\u001b[0m\n",
      "\u001b[34mSM_HOSTS=[\"algo-1\"]\u001b[0m\n",
      "\u001b[34mSM_NETWORK_INTERFACE_NAME=eth0\u001b[0m\n",
      "\u001b[34mSM_HPS={\"batch-size\":256,\"epochs\":10,\"learning_rate\":0.1}\u001b[0m\n",
      "\u001b[34mSM_USER_ENTRY_POINT=mnist_gluon_realtime_visualize_demo.py\u001b[0m\n",
      "\u001b[34mSM_FRAMEWORK_PARAMS={}\u001b[0m\n",
      "\u001b[34mSM_RESOURCE_CONFIG={\"current_host\":\"algo-1\",\"hosts\":[\"algo-1\"],\"network_interface_name\":\"eth0\"}\u001b[0m\n",
      "\u001b[34mSM_INPUT_DATA_CONFIG={}\u001b[0m\n",
      "\u001b[34mSM_OUTPUT_DATA_DIR=/opt/ml/output/data\u001b[0m\n",
      "\u001b[34mSM_CHANNELS=[]\u001b[0m\n",
      "\u001b[34mSM_CURRENT_HOST=algo-1\u001b[0m\n",
      "\u001b[34mSM_MODULE_NAME=mnist_gluon_realtime_visualize_demo\u001b[0m\n",
      "\u001b[34mSM_LOG_LEVEL=20\u001b[0m\n",
      "\u001b[34mSM_FRAMEWORK_MODULE=sagemaker_mxnet_container.training:main\u001b[0m\n",
      "\u001b[34mSM_INPUT_DIR=/opt/ml/input\u001b[0m\n",
      "\u001b[34mSM_INPUT_CONFIG_DIR=/opt/ml/input/config\u001b[0m\n",
      "\u001b[34mSM_OUTPUT_DIR=/opt/ml/output\u001b[0m\n",
      "\u001b[34mSM_NUM_CPUS=4\u001b[0m\n",
      "\u001b[34mSM_NUM_GPUS=0\u001b[0m\n",
      "\u001b[34mSM_MODEL_DIR=/opt/ml/model\u001b[0m\n",
      "\u001b[34mSM_MODULE_DIR=s3://sagemaker-us-west-2-688520471316/mxnet-realtime-analysis-example-2021-06-08-19-09-41-105/source/sourcedir.tar.gz\u001b[0m\n",
      "\u001b[34mSM_TRAINING_ENV={\"additional_framework_parameters\":{},\"channel_input_dirs\":{},\"current_host\":\"algo-1\",\"framework_module\":\"sagemaker_mxnet_container.training:main\",\"hosts\":[\"algo-1\"],\"hyperparameters\":{\"batch-size\":256,\"epochs\":10,\"learning_rate\":0.1},\"input_config_dir\":\"/opt/ml/input/config\",\"input_data_config\":{},\"input_dir\":\"/opt/ml/input\",\"is_master\":true,\"job_name\":\"mxnet-realtime-analysis-example-2021-06-08-19-09-41-105\",\"log_level\":20,\"master_hostname\":\"algo-1\",\"model_dir\":\"/opt/ml/model\",\"module_dir\":\"s3://sagemaker-us-west-2-688520471316/mxnet-realtime-analysis-example-2021-06-08-19-09-41-105/source/sourcedir.tar.gz\",\"module_name\":\"mnist_gluon_realtime_visualize_demo\",\"network_interface_name\":\"eth0\",\"num_cpus\":4,\"num_gpus\":0,\"output_data_dir\":\"/opt/ml/output/data\",\"output_dir\":\"/opt/ml/output\",\"output_intermediate_dir\":\"/opt/ml/output/intermediate\",\"resource_config\":{\"current_host\":\"algo-1\",\"hosts\":[\"algo-1\"],\"network_interface_name\":\"eth0\"},\"user_entry_point\":\"mnist_gluon_realtime_visualize_demo.py\"}\u001b[0m\n",
      "\u001b[34mSM_USER_ARGS=[\"--batch-size\",\"256\",\"--epochs\",\"10\",\"--learning_rate\",\"0.1\"]\u001b[0m\n",
      "\u001b[34mSM_OUTPUT_INTERMEDIATE_DIR=/opt/ml/output/intermediate\u001b[0m\n",
      "\u001b[34mSM_HP_BATCH-SIZE=256\u001b[0m\n",
      "\u001b[34mSM_HP_EPOCHS=10\u001b[0m\n",
      "\u001b[34mSM_HP_LEARNING_RATE=0.1\u001b[0m\n",
      "\u001b[34mPYTHONPATH=/opt/ml/code:/usr/local/bin:/usr/local/lib/python36.zip:/usr/local/lib/python3.6:/usr/local/lib/python3.6/lib-dynload:/usr/local/lib/python3.6/site-packages\n",
      "\u001b[0m\n",
      "\u001b[34mInvoking script with the following command:\n",
      "\u001b[0m\n",
      "\u001b[34m/usr/local/bin/python3.6 mnist_gluon_realtime_visualize_demo.py --batch-size 256 --epochs 10 --learning_rate 0.1\n",
      "\n",
      "\u001b[0m\n",
      "\u001b[34mDownloading /root/.mxnet/datasets/fashion-mnist/train-images-idx3-ubyte.gz from https://apache-mxnet.s3-accelerate.dualstack.amazonaws.com/gluon/dataset/fashion-mnist/train-images-idx3-ubyte.gz...\u001b[0m\n",
      "\u001b[34mDownloading /root/.mxnet/datasets/fashion-mnist/train-labels-idx1-ubyte.gz from https://apache-mxnet.s3-accelerate.dualstack.amazonaws.com/gluon/dataset/fashion-mnist/train-labels-idx1-ubyte.gz...\u001b[0m\n",
      "\u001b[34mDownloading /root/.mxnet/datasets/fashion-mnist/t10k-images-idx3-ubyte.gz from https://apache-mxnet.s3-accelerate.dualstack.amazonaws.com/gluon/dataset/fashion-mnist/t10k-images-idx3-ubyte.gz...\u001b[0m\n",
      "\u001b[34mDownloading /root/.mxnet/datasets/fashion-mnist/t10k-labels-idx1-ubyte.gz from https://apache-mxnet.s3-accelerate.dualstack.amazonaws.com/gluon/dataset/fashion-mnist/t10k-labels-idx1-ubyte.gz...\u001b[0m\n",
      "\u001b[34m[2021-06-08 19:12:26.883 ip-10-0-166-215.us-west-2.compute.internal:16 INFO json_config.py:90] Creating hook from json_config at /opt/ml/input/config/debughookconfig.json.\u001b[0m\n",
      "\u001b[34m[2021-06-08 19:12:26.883 ip-10-0-166-215.us-west-2.compute.internal:16 INFO hook.py:193] tensorboard_dir has not been set for the hook. SMDebug will not be exporting tensorboard summaries.\u001b[0m\n",
      "\u001b[34m[2021-06-08 19:12:26.883 ip-10-0-166-215.us-west-2.compute.internal:16 INFO hook.py:238] Saving to /opt/ml/output/tensors\u001b[0m\n",
      "\u001b[34m[2021-06-08 19:12:26.883 ip-10-0-166-215.us-west-2.compute.internal:16 INFO state_store.py:67] The checkpoint config file /opt/ml/input/config/checkpointconfig.json does not exist.\u001b[0m\n",
      "\u001b[34m[2021-06-08 19:12:26.904 ip-10-0-166-215.us-west-2.compute.internal:16 INFO hook.py:398] Monitoring the collections: conv0_tensors, losses\u001b[0m\n",
      "\u001b[34m[2021-06-08 19:12:26.904 ip-10-0-166-215.us-west-2.compute.internal:16 INFO hook.py:461] Hook is writing from the hook with pid: 16\n",
      "\u001b[0m\n",
      "\u001b[34m[2021-06-08 19:12:26.906 ip-10-0-166-215.us-west-2.compute.internal:16 WARNING hook.py:978] var is not NDArray or list or tuple of NDArrays, module_name:conv0_relu Symbol\u001b[0m\n",
      "\u001b[34m[2021-06-08 19:12:26.906 ip-10-0-166-215.us-west-2.compute.internal:16 WARNING hook.py:978] var is not NDArray or list or tuple of NDArrays, module_name:conv0_relu Symbol\u001b[0m\n",
      "\u001b[34m[2021-06-08 19:12:27.021 ip-10-0-166-215.us-west-2.compute.internal:16 WARNING hook.py:978] var is not NDArray or list or tuple of NDArrays, module_name:conv1_relu Symbol\u001b[0m\n",
      "\u001b[34m[2021-06-08 19:12:27.021 ip-10-0-166-215.us-west-2.compute.internal:16 WARNING hook.py:978] var is not NDArray or list or tuple of NDArrays, module_name:conv1_relu Symbol\u001b[0m\n",
      "\u001b[34m[2021-06-08 19:12:27.024 ip-10-0-166-215.us-west-2.compute.internal:16 WARNING hook.py:978] var is not NDArray or list or tuple of NDArrays, module_name:dense0_relu Symbol\u001b[0m\n",
      "\u001b[34m[2021-06-08 19:12:27.024 ip-10-0-166-215.us-west-2.compute.internal:16 WARNING hook.py:978] var is not NDArray or list or tuple of NDArrays, module_name:dense0_relu Symbol\u001b[0m\n",
      "\u001b[34m[2021-06-08 19:12:27.027 ip-10-0-166-215.us-west-2.compute.internal:16 WARNING hook.py:978] var is not NDArray or list or tuple of NDArrays, module_name:dense1_relu Symbol\u001b[0m\n",
      "\u001b[34m[2021-06-08 19:12:27.028 ip-10-0-166-215.us-west-2.compute.internal:16 WARNING hook.py:978] var is not NDArray or list or tuple of NDArrays, module_name:dense1_relu Symbol\u001b[0m\n",
      "\u001b[34m[2021-06-08 19:12:27.030 ip-10-0-166-215.us-west-2.compute.internal:16 INFO hook.py:236] Registering hook for block softmaxcrossentropyloss0\u001b[0m\n",
      "\n",
      "2021-06-08 19:12:22 Training - Training image download completed. Training in progress.\u001b[34mEpoch 0: loss 0.837, train acc 0.690, test acc 0.822, in 13.1 sec\u001b[0m\n",
      "\u001b[34mEpoch 1: loss 0.471, train acc 0.822, test acc 0.839, in 11.8 sec\u001b[0m\n",
      "\u001b[34mEpoch 2: loss 0.410, train acc 0.848, test acc 0.858, in 12.0 sec\u001b[0m\n",
      "\u001b[34mEpoch 3: loss 0.369, train acc 0.864, test acc 0.872, in 12.3 sec\u001b[0m\n",
      "\u001b[34mEpoch 4: loss 0.342, train acc 0.873, test acc 0.879, in 11.8 sec\u001b[0m\n",
      "\u001b[34mEpoch 5: loss 0.322, train acc 0.879, test acc 0.887, in 11.7 sec\u001b[0m\n",
      "\u001b[34mEpoch 6: loss 0.306, train acc 0.887, test acc 0.890, in 11.7 sec\u001b[0m\n",
      "\u001b[34mEpoch 7: loss 0.290, train acc 0.894, test acc 0.891, in 12.0 sec\u001b[0m\n",
      "\u001b[34mEpoch 8: loss 0.279, train acc 0.897, test acc 0.893, in 12.3 sec\u001b[0m\n",
      "\u001b[34mEpoch 9: loss 0.269, train acc 0.900, test acc 0.897, in 11.8 sec\u001b[0m\n",
      "\u001b[34m2021-06-08 19:14:27,063 sagemaker-training-toolkit INFO     Reporting training SUCCESS\u001b[0m\n",
      "\n",
      "2021-06-08 19:14:39 Uploading - Uploading generated training model\n",
      "2021-06-08 19:14:39 Completed - Training job completed\n",
      "Training seconds: 175\n",
      "Billable seconds: 175\n"
     ]
    }
   ],
   "source": [
    "# This is a fire and forget event. By setting wait=False, we just submit the job to run in the background.\n",
    "# SageMaker will spin off one training job and release control to next cells in the notebook.\n",
    "# Please follow this notebook to see status of the training job.\n",
    "sagemaker_simple_estimator.fit(wait=True)"
   ]
  },
  {
   "cell_type": "markdown",
   "id": "equipped-thanksgiving",
   "metadata": {
    "papermill": {
     "duration": 0.015385,
     "end_time": "2021-06-07T00:11:17.217119",
     "exception": false,
     "start_time": "2021-06-07T00:11:17.201734",
     "status": "completed"
    },
    "tags": []
   },
   "source": [
    "\n",
    "### Result\n",
    "\n",
    "As a result of the above command, Amazon SageMaker starts one training job for you and it produces the tensors to be analyzed. This job runs in a background without you having to wait for it to complete in order to continue with the rest of the notebook. Because of this asynchronous nature of the training job, monitor its status so that you don't start to request debugging tensors too early. Tensors are only produced during training phase of the Amazon SageMaker training job, so wait until that begins.\n",
    "\n",
    "## Analysis and Visualization\n",
    "\n",
    "### Checking on the training job status\n",
    "\n",
    "Check the status of the training job by running the following code. It checks on the status of an Amazon SageMaker training job every 15 seconds. After a job has started its training cycle, control is released to the next cells in the notebook. That means a training job started to tune the model and, in parallel, emit debugging tensors."
   ]
  },
  {
   "cell_type": "code",
   "execution_count": 8,
   "id": "offensive-teens",
   "metadata": {
    "execution": {
     "iopub.execute_input": "2021-06-07T00:11:17.254021Z",
     "iopub.status.busy": "2021-06-07T00:11:17.253449Z",
     "iopub.status.idle": "2021-06-07T00:15:03.152242Z",
     "shell.execute_reply": "2021-06-07T00:15:03.152792Z"
    },
    "papermill": {
     "duration": 225.920335,
     "end_time": "2021-06-07T00:15:03.152959",
     "exception": false,
     "start_time": "2021-06-07T00:11:17.232624",
     "status": "completed"
    },
    "tags": []
   },
   "outputs": [
    {
     "name": "stdout",
     "output_type": "stream",
     "text": [
      "Training job name: mxnet-realtime-analysis-example-2021-06-08-19-09-41-105\n"
     ]
    }
   ],
   "source": [
    "# some helper method first, to render status status updates\n",
    "import time\n",
    "import sys\n",
    "from time import gmtime, strftime\n",
    "\n",
    "\n",
    "def print_same_line(s):\n",
    "    sys.stdout.write(\"\\r{}: {}\".format(strftime(\"%X\", gmtime()), s))\n",
    "    sys.stdout.flush()\n",
    "\n",
    "\n",
    "# Below command will give the status of training job\n",
    "# Note: In the output of below command you will see DebugConfig parameter\n",
    "# which describes what, where and how debugging data is to be collected\n",
    "job_name = sagemaker_simple_estimator.latest_training_job.name\n",
    "print(\"Training job name: \" + job_name)\n",
    "\n",
    "client = sagemaker_simple_estimator.sagemaker_session.sagemaker_client\n",
    "\n",
    "description = client.describe_training_job(TrainingJobName=job_name)\n",
    "\n",
    "if description[\"TrainingJobStatus\"] != \"Completed\":\n",
    "    while description[\"SecondaryStatus\"] not in {\"Training\", \"Completed\"}:\n",
    "        description = client.describe_training_job(TrainingJobName=job_name)\n",
    "        primary_status = description[\"TrainingJobStatus\"]\n",
    "        secondary_status = description[\"SecondaryStatus\"]\n",
    "        print_same_line(\n",
    "            \"Current job status: [PrimaryStatus: {}, SecondaryStatus: {}]\".format(\n",
    "                primary_status, secondary_status\n",
    "            )\n",
    "        )\n",
    "        time.sleep(15)"
   ]
  },
  {
   "cell_type": "markdown",
   "id": "sudden-sally",
   "metadata": {
    "papermill": {
     "duration": 0.019577,
     "end_time": "2021-06-07T00:15:03.192263",
     "exception": false,
     "start_time": "2021-06-07T00:15:03.172686",
     "status": "completed"
    },
    "tags": []
   },
   "source": [
    "### Retrieving and Analyzing tensors\n",
    "\n",
    "Before getting to analysis, here are some notes on concepts being used in Debugger that help with analysis.\n",
    "- ***Trial*** - object that is a center piece of Debugger API when it comes to getting access to tensors. It is a top level abstract that represents a single run of a training job. All tensors emitted by training job are associated with its *trial*.\n",
    "- ***Step*** - object that represents next level of abstraction. In Debugger - *step* is a representation of a single batch of a training job. Each trial has multiple steps. Each tensor is associated with multiple steps - having a particular value at each of the steps.\n",
    "- ***Tensor*** - object that represent actual *tensor* saved during training job. *Note* - it could be a scalar as well (for example, losses are saved as scalars).\n",
    "\n",
    "For more details on aforementioned concepts as well as on Debugger API in general (including examples) please refer to [Debugger Analysis API](https://github.com/awslabs/sagemaker-debugger/blob/master/docs/analysis.md) documentation.\n",
    "\n",
    "Below, you can find several methods to help with retrieving and plotting tensors. In *get_data* you use concepts described above to retrieve data. You can expect to get steps_range that has one or more steps (batches) for which you want to get tensors. Two other methods are helpers to plot tensors."
   ]
  },
  {
   "cell_type": "code",
   "execution_count": 9,
   "id": "complimentary-expression",
   "metadata": {
    "execution": {
     "iopub.execute_input": "2021-06-07T00:15:03.241171Z",
     "iopub.status.busy": "2021-06-07T00:15:03.240596Z",
     "iopub.status.idle": "2021-06-07T00:15:03.356794Z",
     "shell.execute_reply": "2021-06-07T00:15:03.357219Z"
    },
    "papermill": {
     "duration": 0.145569,
     "end_time": "2021-06-07T00:15:03.357389",
     "exception": false,
     "start_time": "2021-06-07T00:15:03.211820",
     "status": "completed"
    },
    "tags": []
   },
   "outputs": [],
   "source": [
    "import numpy as np\n",
    "import matplotlib.pyplot as plt\n",
    "\n",
    "\n",
    "def get_data(trial, tname, batch_index, steps_range, mode=modes.GLOBAL):\n",
    "    tensor = trial.tensor(tname)\n",
    "    vals = []\n",
    "    for s in steps_range:\n",
    "        val = tensor.value(step_num=s, mode=mode)[batch_index][0]\n",
    "        vals.append(val)\n",
    "    return vals\n",
    "\n",
    "\n",
    "def create_plots(steps_range):\n",
    "    fig, axs = plt.subplots(\n",
    "        nrows=1,\n",
    "        ncols=len(steps_range),\n",
    "        constrained_layout=True,\n",
    "        figsize=(2 * len(steps_range), 2),\n",
    "        subplot_kw={\"xticks\": [], \"yticks\": []},\n",
    "    )\n",
    "    return fig, axs\n",
    "\n",
    "\n",
    "def plot_tensors(trial, layer, batch_index, steps_range):\n",
    "    if len(steps_range) > 0:\n",
    "        fig, axs = create_plots(steps_range)\n",
    "        vals = get_data(trial, layer, batch_index, steps_range)\n",
    "\n",
    "        for ax, image, step in zip(\n",
    "            axs.flat if isinstance(axs, np.ndarray) else np.array([axs]), vals, steps_range\n",
    "        ):\n",
    "            ax.imshow(image, cmap=\"gray\")\n",
    "            ax.set_title(str(step))\n",
    "        plt.show()"
   ]
  },
  {
   "cell_type": "markdown",
   "id": "diverse-substance",
   "metadata": {
    "papermill": {
     "duration": 0.019485,
     "end_time": "2021-06-07T00:15:03.396719",
     "exception": false,
     "start_time": "2021-06-07T00:15:03.377234",
     "status": "completed"
    },
    "tags": []
   },
   "source": [
    "Now that you are prepared with methods to get data and plot it, get to it. The goal of the next block is to instantiate a ***Trial***, a central access point for all Debugger API calls to get tensors. Do that by inspecting currently running training job and extracting necessary parameters from its debug config to instruct Debugger where the data you are looking for is located. Note:\n",
    "- Tensors are being stored in your own S3 bucket to which you can navigate and manually inspect its content if desired.\n",
    "- You might notice a slight delay before trial object is created. It is normal as Debugger will monitor corresponding bucket with tensors and wait until tensors appear in it. The delay is introduced by less than instantaneous upload of tensors from training container to your S3 bucket. "
   ]
  },
  {
   "cell_type": "code",
   "execution_count": 10,
   "id": "disciplinary-journalism",
   "metadata": {
    "execution": {
     "iopub.execute_input": "2021-06-07T00:15:03.439669Z",
     "iopub.status.busy": "2021-06-07T00:15:03.439088Z",
     "iopub.status.idle": "2021-06-07T00:15:09.769096Z",
     "shell.execute_reply": "2021-06-07T00:15:09.769563Z"
    },
    "papermill": {
     "duration": 6.353377,
     "end_time": "2021-06-07T00:15:09.769719",
     "exception": false,
     "start_time": "2021-06-07T00:15:03.416342",
     "status": "completed"
    },
    "tags": []
   },
   "outputs": [
    {
     "name": "stdout",
     "output_type": "stream",
     "text": [
      "[2021-06-08 19:24:48.685 ip-172-31-33-148:7221 INFO s3_trial.py:42] Loading trial debug-output at path s3://sagemaker-us-west-2-688520471316/smdebug-real-time-demo/mxnet-realtime-analysis-example-2021-06-08-19-09-41-105/debug-output\n"
     ]
    }
   ],
   "source": [
    "import os\n",
    "from urllib.parse import urlparse\n",
    "from smdebug.trials import create_trial\n",
    "\n",
    "# this is where we create a Trial object that allows access to saved tensors\n",
    "trial = create_trial(sagemaker_simple_estimator.latest_job_debugger_artifacts_path())"
   ]
  },
  {
   "cell_type": "markdown",
   "id": "matched-chick",
   "metadata": {
    "papermill": {
     "duration": 0.019935,
     "end_time": "2021-06-07T00:15:09.810689",
     "exception": false,
     "start_time": "2021-06-07T00:15:09.790754",
     "status": "completed"
    },
    "tags": []
   },
   "source": [
    "Using the next command you can conveniently inspect all tensors that are produced by a model and saved by Debugger. You can do that easily because you put them under the umbrella of one single collection."
   ]
  },
  {
   "cell_type": "code",
   "execution_count": 11,
   "id": "prime-colleague",
   "metadata": {
    "execution": {
     "iopub.execute_input": "2021-06-07T00:15:09.854038Z",
     "iopub.status.busy": "2021-06-07T00:15:09.853513Z",
     "iopub.status.idle": "2021-06-07T00:15:09.920358Z",
     "shell.execute_reply": "2021-06-07T00:15:09.920836Z"
    },
    "papermill": {
     "duration": 0.090316,
     "end_time": "2021-06-07T00:15:09.920990",
     "exception": false,
     "start_time": "2021-06-07T00:15:09.830674",
     "status": "completed"
    },
    "tags": []
   },
   "outputs": [
    {
     "name": "stdout",
     "output_type": "stream",
     "text": [
      "[2021-06-08 19:24:51.226 ip-172-31-33-148:7221 INFO trial.py:198] Training has ended, will refresh one final time in 1 sec.\n",
      "[2021-06-08 19:24:52.247 ip-172-31-33-148:7221 INFO trial.py:210] Loaded all steps\n"
     ]
    },
    {
     "data": {
      "text/plain": [
       "['conv0_bias',\n",
       " 'conv0_input_0',\n",
       " 'conv0_output_0',\n",
       " 'conv0_relu_input_0',\n",
       " 'conv0_relu_output_0',\n",
       " 'conv0_weight',\n",
       " 'gradient/conv0_bias',\n",
       " 'gradient/conv0_weight']"
      ]
     },
     "execution_count": 11,
     "metadata": {},
     "output_type": "execute_result"
    }
   ],
   "source": [
    "# inspect tensors saved in conv0_tensors collection (for conv0 layer of our model)\n",
    "trial.tensor_names(collection=\"conv0_tensors\")"
   ]
  },
  {
   "cell_type": "markdown",
   "id": "material-blood",
   "metadata": {
    "papermill": {
     "duration": 0.020708,
     "end_time": "2021-06-07T00:15:09.962206",
     "exception": false,
     "start_time": "2021-06-07T00:15:09.941498",
     "status": "completed"
    },
    "tags": []
   },
   "source": [
    "### Visualize tensors of a running training job\n",
    "Below you wait until Debugger has downloaded initial chunk of tensors to look at. Once that first chunk is ready, you get new chunks every 5 seconds, and can plot their tensors correspondingly one under another."
   ]
  },
  {
   "cell_type": "code",
   "execution_count": 12,
   "id": "powerful-doubt",
   "metadata": {
    "execution": {
     "iopub.execute_input": "2021-06-07T00:15:10.009198Z",
     "iopub.status.busy": "2021-06-07T00:15:10.008269Z",
     "iopub.status.idle": "2021-06-07T00:16:58.696177Z",
     "shell.execute_reply": "2021-06-07T00:16:58.693667Z"
    },
    "papermill": {
     "duration": 108.713972,
     "end_time": "2021-06-07T00:16:58.696613",
     "exception": true,
     "start_time": "2021-06-07T00:15:09.982641",
     "status": "failed"
    },
    "tags": []
   },
   "outputs": [
    {
     "name": "stdout",
     "output_type": "stream",
     "text": [
      "19:25:10: Waiting for tensors to become available...\n",
      "Done\n",
      "Getting tensors and plotting...\n"
     ]
    },
    {
     "data": {
      "image/png": "[encoded data removed]",
      "text/plain": [
       "<Figure size 4032x144 with 28 Axes>"
      ]
     },
     "metadata": {},
     "output_type": "display_data"
    },
    {
     "name": "stdout",
     "output_type": "stream",
     "text": [
      "\n",
      "Done\n"
     ]
    }
   ],
   "source": [
    "# Below we select the very first tensor from every batch.\n",
    "# Feel free to modify this and select another tensor from the batch.\n",
    "batch_index = 0\n",
    "\n",
    "# This is a name of a tensor to retrieve data of.\n",
    "# Variable is called `layer` as this tensor happens to be output of first convolutional layer.\n",
    "layer = \"conv0_output_0\"\n",
    "\n",
    "steps = 0\n",
    "while steps == 0:\n",
    "    # trial.steps return all steps that have been downloaded by Debugger to date.\n",
    "    # It doesn't represent all steps that are to be available once training job is complete -\n",
    "    # it is a snapshot of a current state of the training job. If you call it after training job is done\n",
    "    # you will get all tensors available at once.\n",
    "    steps = trial.steps()\n",
    "    print_same_line(\"Waiting for tensors to become available...\")\n",
    "    time.sleep(5)\n",
    "print(\"\\nDone\")\n",
    "\n",
    "print(\"Getting tensors and plotting...\")\n",
    "rendered_steps = []\n",
    "\n",
    "# trial.loaded_all_steps is a way to keep monitoring for a state of a training job as seen by Debugger.\n",
    "# When SageMaker completes training job Debugger, and trial, becomes aware of it.\n",
    "\n",
    "loaded_all_steps = False\n",
    "while not loaded_all_steps:\n",
    "    loaded_all_steps = trial.loaded_all_steps\n",
    "    steps = trial.steps()\n",
    "    # quick way to get diff between two lists\n",
    "    steps_to_render = list(set(steps).symmetric_difference(set(rendered_steps)))\n",
    "    # plot only tensors from newer chunk\n",
    "    plot_tensors(trial, layer, batch_index, steps_to_render)\n",
    "    rendered_steps.extend(steps_to_render)\n",
    "    time.sleep(5)\n",
    "print(\"\\nDone\")"
   ]
  },
  {
   "cell_type": "markdown",
   "id": "improving-perspective",
   "metadata": {
    "papermill": {
     "duration": null,
     "end_time": null,
     "exception": null,
     "start_time": null,
     "status": "pending"
    },
    "tags": []
   },
   "source": [
    "### Additional visualizations\n",
    "\n",
    "Now that you completed plotting tensors showing output of first layer of the model during training job run, plot more tensors! This time you get all of them at once as a training job has finished and Debugger is aware of all tensors emitted by it. You can visualize tensors representing weights of first convolutional layer (e.g., its kernels). By inspecting each row of plotted tensors from left to right you can notice progression in how each kernel was \"learning\" its values. You will most likely notice that most changes in kernels are happening closer to the first steps of training. Closer toward finish of training job updates to kernels become less and less noticeable. This suggests training job is converging. *Note*: convergence doesn't necessarily mean increase in accuracy but it often accommodates that."
   ]
  },
  {
   "cell_type": "code",
   "execution_count": 13,
   "id": "coastal-momentum",
   "metadata": {
    "papermill": {
     "duration": null,
     "end_time": null,
     "exception": null,
     "start_time": null,
     "status": "pending"
    },
    "tags": []
   },
   "outputs": [
    {
     "data": {
      "image/png": "[encoded data removed]",
      "text/plain": [
       "<Figure size 4032x144 with 28 Axes>"
      ]
     },
     "metadata": {},
     "output_type": "display_data"
    },
    {
     "data": {
      "image/png": "[encoded data removed]",
      "text/plain": [
       "<Figure size 4032x144 with 28 Axes>"
      ]
     },
     "metadata": {},
     "output_type": "display_data"
    },
    {
     "data": {
      "image/png": "[encoded data removed]",
      "text/plain": [
       "<Figure size 4032x144 with 28 Axes>"
      ]
     },
     "metadata": {},
     "output_type": "display_data"
    },
    {
     "data": {
      "image/png": "[encoded data removed]",
      "text/plain": [
       "<Figure size 4032x144 with 28 Axes>"
      ]
     },
     "metadata": {},
     "output_type": "display_data"
    },
    {
     "data": {
      "image/png": "[encoded data removed]",
      "text/plain": [
       "<Figure size 4032x144 with 28 Axes>"
      ]
     },
     "metadata": {},
     "output_type": "display_data"
    },
    {
     "data": {
      "image/png": "[encoded data removed]",
      "text/plain": [
       "<Figure size 4032x144 with 28 Axes>"
      ]
     },
     "metadata": {},
     "output_type": "display_data"
    }
   ],
   "source": [
    "# Let's visualize weights of the first convolutional layer as they progressively change through training.\n",
    "layer = \"conv0_weight\"\n",
    "\n",
    "steps = trial.tensor(layer).steps()\n",
    "for i in range(0, trial.tensor(layer).value(step_num=steps[0]).shape[0]):\n",
    "    plot_tensors(trial, layer, i, trial.tensor(layer).steps())"
   ]
  },
  {
   "cell_type": "markdown",
   "id": "realistic-providence",
   "metadata": {
    "papermill": {
     "duration": null,
     "end_time": null,
     "exception": null,
     "start_time": null,
     "status": "pending"
    },
    "tags": []
   },
   "source": [
    "For additional example of working with debugging tensors and visualizing them please feel free to try it out at [MNIST tensor plot](../mnist-tensor-plot/mnist-tensor-plot.ipynb) example."
   ]
  }
 ],
 "metadata": {
  "instance_type": "ml.t3.medium",
  "kernelspec": {
   "display_name": "Environment (conda_mxnet_p36)",
   "language": "python",
   "name": "conda_mxnet_p36"
  },
  "language_info": {
   "codemirror_mode": {
    "name": "ipython",
    "version": 3
   },
   "file_extension": ".py",
   "mimetype": "text/x-python",
   "name": "python",
   "nbconvert_exporter": "python",
   "pygments_lexer": "ipython3",
   "version": "3.6.10"
  },
  "papermill": {
   "default_parameters": {},
   "duration": 349.136991,
   "end_time": "2021-06-07T00:16:59.985908",
   "environment_variables": {},
   "exception": true,
   "input_path": "mxnet-realtime-analysis.ipynb",
   "output_path": "/opt/ml/processing/output/mxnet-realtime-analysis-2021-06-07-00-07-25.ipynb",
   "parameters": {
    "kms_key": "arn:aws:kms:us-west-2:521695447989:key/6e9984db-50cf-4c7e-926c-877ec47a8b25"
   },
   "start_time": "2021-06-07T00:11:10.848917",
   "version": "2.3.3"
  }
 },
 "nbformat": 4,
 "nbformat_minor": 5
}
