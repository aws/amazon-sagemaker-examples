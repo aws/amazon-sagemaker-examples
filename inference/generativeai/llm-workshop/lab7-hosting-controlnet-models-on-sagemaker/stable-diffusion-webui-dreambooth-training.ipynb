{
 "cells": [
  {
   "attachments": {},
   "cell_type": "markdown",
   "id": "a9f43a79",
   "metadata": {},
   "source": [
    "Here we will show you how to use stable-diffusion-webui to train image with Lora support. The stable-diffusion-webui will be hosted at Amazon SageMaker training job."
   ]
  },
  {
   "cell_type": "code",
   "execution_count": null,
   "id": "812f6135",
   "metadata": {},
   "outputs": [],
   "source": [
    "import sagemaker\n",
    "sagemaker_session = sagemaker.Session()\n",
    "bucket = sagemaker_session.default_bucket()\n",
    "role = sagemaker.get_execution_role()\n",
    "\n",
    "import boto3\n",
    "account_id = boto3.client('sts').get_caller_identity().get('Account')\n",
    "region_name = boto3.session.Session().region_name"
   ]
  },
  {
   "cell_type": "markdown",
   "id": "e2afbb91",
   "metadata": {},
   "source": [
    "Prepare models directory and organize the structure as following."
   ]
  },
  {
   "cell_type": "code",
   "execution_count": null,
   "id": "95481c68-3b3c-4138-b794-ff2d9583b977",
   "metadata": {
    "tags": []
   },
   "outputs": [],
   "source": [
    "!mkdir -p models\n",
    "!mkdir -p models/Stable-diffusion"
   ]
  },
  {
   "cell_type": "markdown",
   "id": "4246b642",
   "metadata": {},
   "source": [
    "Logout from AWS public ECR to avoid the authentication token is expired."
   ]
  },
  {
   "cell_type": "code",
   "execution_count": null,
   "id": "d9c4eb0a",
   "metadata": {},
   "outputs": [],
   "source": [
    "!docker logout public.ecr.aws"
   ]
  },
  {
   "cell_type": "markdown",
   "id": "9a615bee",
   "metadata": {},
   "source": [
    "Build Docker image and push to ECR."
   ]
  },
  {
   "cell_type": "code",
   "execution_count": null,
   "id": "4788db8d-3b69-4807-b83e-eaff32195190",
   "metadata": {
    "tags": []
   },
   "outputs": [],
   "source": [
    "!./build_and_push.sh.lite $region_name"
   ]
  },
  {
   "cell_type": "markdown",
   "id": "3dcdc938",
   "metadata": {},
   "source": [
    "Install Huggingface Hub toolkit and login with your Huggingface access token."
   ]
  },
  {
   "cell_type": "code",
   "execution_count": null,
   "id": "ae5f1a33-f2b3-41a5-a5ad-fcfb2d90e2ef",
   "metadata": {
    "tags": []
   },
   "outputs": [],
   "source": [
    "%pip install huggingface_hub\n",
    "!huggingface-cli login --token [Your-huggingface-access-token]"
   ]
  },
  {
   "cell_type": "markdown",
   "id": "a7577b6e",
   "metadata": {},
   "source": [
    "Download Stable-diffuion models."
   ]
  },
  {
   "cell_type": "code",
   "execution_count": null,
   "id": "053e6085-3a8b-452d-87f8-6f820ffd75d7",
   "metadata": {
    "tags": []
   },
   "outputs": [],
   "source": [
    "from huggingface_hub import hf_hub_download\n",
    "hf_hub_download(\n",
    "    repo_id=\"stabilityai/stable-diffusion-2-1\", \n",
    "    filename=\"v2-1_768-ema-pruned.ckpt\", \n",
    "    local_dir=\"models/Stable-diffusion/\"\n",
    ")\n",
    "hf_hub_download(\n",
    "    repo_id=\"runwayml/stable-diffusion-v1-5\", \n",
    "    filename=\"v1-5-pruned.ckpt\", \n",
    "    local_dir=\"models/Stable-diffusion/\"\n",
    ")\n",
    "!wget \"https://raw.githubusercontent.com/Stability-AI/stablediffusion/main/configs/stable-diffusion/v2-inference-v.yaml\" -O models/Stable-diffusion/v2-1_768-ema-pruned.yaml"
   ]
  },
  {
   "cell_type": "markdown",
   "id": "1b13f13b",
   "metadata": {},
   "source": [
    "Download s5cmd which is a very fast S3 and local filesystem execution tool and place it under directory - tools/."
   ]
  },
  {
   "cell_type": "code",
   "execution_count": null,
   "id": "4d286b5c-a500-4010-b8ae-b6fd8fc1338f",
   "metadata": {
    "tags": []
   },
   "outputs": [],
   "source": [
    "!wget https://github.com/peak/s5cmd/releases/download/v2.0.0/s5cmd_2.0.0_Linux-64bit.tar.gz -O tools/s5cmd_2.0.0_Linux-64bit.tar.gz\n",
    "!tar xzvf tools/s5cmd_2.0.0_Linux-64bit.tar.gz -C tools/"
   ]
  },
  {
   "attachments": {},
   "cell_type": "markdown",
   "id": "790c2023",
   "metadata": {},
   "source": [
    "Upload Stable-diffusion models to S3."
   ]
  },
  {
   "cell_type": "code",
   "execution_count": 3,
   "id": "cd21e8a1-86c4-4f83-98a4-cdb5204aa9cf",
   "metadata": {
    "tags": []
   },
   "outputs": [],
   "source": [
    "model_data = \"s3://{0}/stable-diffusion-webui/models\".format(bucket)"
   ]
  },
  {
   "cell_type": "code",
   "execution_count": null,
   "id": "e9ce51bd-2c29-4494-ab81-e96cfb9ba712",
   "metadata": {},
   "outputs": [],
   "source": [
    "!tools/s5cmd cp models/Stable-diffusion $model_data"
   ]
  },
  {
   "cell_type": "code",
   "execution_count": null,
   "id": "fba43428-a1f9-4dbd-84d6-d8f33ce6ec04",
   "metadata": {
    "tags": []
   },
   "outputs": [],
   "source": [
    "images_s3uri = 's3://{0}/stable-diffusion-webui/images/'.format(bucket)"
   ]
  },
  {
   "cell_type": "code",
   "execution_count": null,
   "id": "04042fe5-92f7-4c49-a59a-78d280869dcb",
   "metadata": {
    "tags": []
   },
   "outputs": [],
   "source": [
    "!aws s3 cp images/training/Dreambooth $images_s3uri --recursive"
   ]
  },
  {
   "cell_type": "code",
   "execution_count": null,
   "id": "2c1533c9-5522-4df8-ad1f-46057d9606fe",
   "metadata": {
    "tags": []
   },
   "outputs": [],
   "source": [
    "db_params = {\n",
    "  \"db_model_name\": [],\n",
    "  \"db_attention\": \"xformers\",\n",
    "  \"db_cache_latents\": True,\n",
    "  \"db_center_crop\": False,\n",
    "  \"db_freeze_clip_normalization\": False,\n",
    "  \"db_clip_skip\": 1,\n",
    "  \"db_concepts_path\": \"\",\n",
    "  \"db_custom_model_name\": \"\",\n",
    "  \"db_epochs\": \"\",\n",
    "  \"db_epoch_pause_frequency\": 0.0,\n",
    "  \"db_epoch_pause_time\": 0.0,\n",
    "  \"db_gradient_accumulation_steps\": 1,\n",
    "  \"db_gradient_checkpointing\": True,\n",
    "  \"db_gradient_set_to_none\": True,\n",
    "  \"db_graph_smoothing\": 50.0,\n",
    "  \"db_half_model\": False,\n",
    "  \"db_hflip\": False,\n",
    "  \"db_learning_rate\": 2e-06,\n",
    "  \"db_learning_rate_min\": 1e-06,\n",
    "  \"db_lora_learning_rate\": 0.0002,\n",
    "  \"db_lora_model_name\": [],\n",
    "  \"db_lora_rank\": 4,\n",
    "  \"db_lora_txt_learning_rate\": 0.0002,\n",
    "  \"db_lora_txt_weight\": 1,\n",
    "  \"db_lora_weight\": 1,\n",
    "  \"db_lr_cycles\": 1,\n",
    "  \"db_lr_factor\": 0.5,\n",
    "  \"db_lr_power\": 1,\n",
    "  \"db_lr_scale_pos\": 0.5,\n",
    "  \"db_lr_scheduler\": \"constant_with_warmup\",\n",
    "  \"db_lr_warmup_steps\": 0,\n",
    "  \"db_max_token_length\": 75,\n",
    "  \"db_mixed_precision\": \"fp16\",\n",
    "  \"db_adamw_weight_decay\": 0.01,\n",
    "  \"db_model_path\": \"\",\n",
    "  \"db_num_train_epochs\": 100,\n",
    "  \"db_pad_tokens\": True,\n",
    "  \"db_pretrained_vae_name_or_path\": \"\",\n",
    "  \"db_prior_loss_scale\": False,\n",
    "  \"db_prior_loss_target\": 100.0,\n",
    "  \"db_prior_loss_weight\": 0.75,\n",
    "  \"db_prior_loss_weight_min\": 0.1,\n",
    "  \"db_resolution\": 768,\n",
    "  \"db_revision\": \"\",\n",
    "  \"db_sample_batch_size\": 1,\n",
    "  \"db_sanity_prompt\": \"\",\n",
    "  \"db_sanity_seed\": 420420.0,\n",
    "  \"db_save_ckpt_after\": True,\n",
    "  \"db_save_ckpt_cancel\": False,\n",
    "  \"db_save_ckpt_during\": False,\n",
    "  \"db_save_embedding_every\": 0,\n",
    "  \"db_save_lora_after\": True,\n",
    "  \"db_save_lora_cancel\": False,\n",
    "  \"db_save_lora_during\": False,\n",
    "  \"db_save_preview_every\": 0,\n",
    "  \"db_save_safetensors\": False,\n",
    "  \"db_save_state_after\": False,\n",
    "  \"db_save_state_cancel\": False,\n",
    "  \"db_save_state_during\": False,\n",
    "  \"db_scheduler\": \"\",\n",
    "  \"db_src\": \"\",\n",
    "  \"db_shuffle_tags\": True,\n",
    "  \"db_snapshot\": [],\n",
    "  \"db_train_batch_size\": 1,\n",
    "  \"db_train_imagic_only\": False,\n",
    "  \"db_train_unet\": True,\n",
    "  \"db_stop_text_encoder\": 1,\n",
    "  \"db_use_8bit_adam\": True,\n",
    "  \"db_use_concepts\": False,\n",
    "  \"db_train_unfrozen\": False,\n",
    "  \"db_use_ema\": False,\n",
    "  \"db_use_lora\": True,\n",
    "  \"db_use_subdir\": True,\n",
    "  \"c1_class_data_dir\": \"\",\n",
    "  \"c1_class_guidance_scale\": 7.5,\n",
    "  \"c1_class_infer_steps\": 40,\n",
    "  \"c1_class_negative_prompt\": \"\",\n",
    "  \"c1_class_prompt\": \"dog\",\n",
    "  \"c1_class_token\": \"dog\",\n",
    "  \"c1_instance_data_dir\": \"/opt/ml/input/data/concepts\",\n",
    "  \"c1_instance_prompt\": \"jp-style-girl\",\n",
    "  \"c1_instance_token\": \"jp-style-girl\",\n",
    "  \"c1_n_save_sample\": 1,\n",
    "  \"c1_num_class_images\": 0,\n",
    "  \"c1_num_class_images_per\": 10,\n",
    "  \"c1_sample_seed\": -1,\n",
    "  \"c1_save_guidance_scale\": 7.5,\n",
    "  \"c1_save_infer_steps\": 40,\n",
    "  \"c1_save_sample_negative_prompt\": \"broke a finger, ugly, duplicate, morbid, mutilated, tranny, trans, trannsexual, hermaphrodite, extra fingers, fused fingers, too many fingers, long neck, mutated hands, poorly drawn hands, poorly drawn face, mutation, deformed, blurry, bad anatomy, bad proportions, malformed limbs, extra limbs, cloned face, disfigured, gross proportions, missing arms, missing legs, extra arms, extra legs, artist name, jpeg artifacts\",\n",
    "  \"c1_save_sample_prompt\": \"jp-style-girl\",\n",
    "  \"c1_save_sample_template\": \"\",\n",
    "  \"c2_class_data_dir\": \"\",\n",
    "  \"c2_class_guidance_scale\": 7.5,\n",
    "  \"c2_class_infer_steps\": 40,\n",
    "  \"c2_class_negative_prompt\": \"\",\n",
    "  \"c2_class_prompt\": \"\",\n",
    "  \"c2_class_token\": \"\",\n",
    "  \"c2_instance_data_dir\": \"\",\n",
    "  \"c2_instance_prompt\": \"\",\n",
    "  \"c2_instance_token\": \"\",\n",
    "  \"c2_n_save_sample\": 1,\n",
    "  \"c2_num_class_images\": 0,\n",
    "  \"c2_num_class_images_per\": 0,\n",
    "  \"c2_sample_seed\": -1,\n",
    "  \"c2_save_guidance_scale\": 7.5,\n",
    "  \"c2_save_infer_steps\": 40,\n",
    "  \"c2_save_sample_negative_prompt\": \"\",\n",
    "  \"c2_save_sample_prompt\": \"\",\n",
    "  \"c2_save_sample_template\": \"\",\n",
    "  \"c3_class_data_dir\": \"\",\n",
    "  \"c3_class_guidance_scale\": 7.5,\n",
    "  \"c3_class_infer_steps\": 40,\n",
    "  \"c3_class_negative_prompt\": \"\",\n",
    "  \"c3_class_prompt\": \"\",\n",
    "  \"c3_class_token\": \"\",\n",
    "  \"c3_instance_data_dir\": \"\",\n",
    "  \"c3_instance_prompt\": \"\",\n",
    "  \"c3_instance_token\": \"\",\n",
    "  \"c3_n_save_sample\": 1,\n",
    "  \"c3_num_class_images\": 0,\n",
    "  \"c3_num_class_images_per\": 0,\n",
    "  \"c3_sample_seed\": -1,\n",
    "  \"c3_save_guidance_scale\": 7.5,\n",
    "  \"c3_save_infer_steps\": 40,\n",
    "  \"c3_save_sample_negative_prompt\": \"\",\n",
    "  \"c3_save_sample_prompt\": \"\",\n",
    "  \"c3_save_sample_template\": \"\",\n",
    "  \"c4_class_data_dir\": \"\",\n",
    "  \"c4_class_guidance_scale\": 7.5,\n",
    "  \"c4_class_infer_steps\": 40,\n",
    "  \"c4_class_negative_prompt\": \"\",\n",
    "  \"c4_class_prompt\": \"\",\n",
    "  \"c4_class_token\": \"\",\n",
    "  \"c4_instance_data_dir\": \"\",\n",
    "  \"c4_instance_prompt\": \"\",\n",
    "  \"c4_instance_token\": \"\",\n",
    "  \"c4_n_save_sample\": 1,\n",
    "  \"c4_num_class_images\": 0,\n",
    "  \"c4_num_class_images_per\": 0,\n",
    "  \"c4_sample_seed\": -1,\n",
    "  \"c4_save_guidance_scale\": 7.5,\n",
    "  \"c4_save_infer_steps\": 40,\n",
    "  \"c4_save_sample_negative_prompt\": \"\",\n",
    "  \"c4_save_sample_prompt\": \"\",\n",
    "  \"c4_save_sample_template\": \"\"\n",
    "}"
   ]
  },
  {
   "cell_type": "code",
   "execution_count": null,
   "id": "d4d7e2b5-f91d-4e11-b825-962dc5a24a2d",
   "metadata": {
    "tags": []
   },
   "outputs": [],
   "source": [
    "import uuid, json\n",
    "db_config_id = str(uuid.uuid4())\n",
    "db_config_file =f'{db_config_id}.json'\n",
    "json.dump(db_params, open(db_config_file,'w'), indent=6)"
   ]
  },
  {
   "cell_type": "code",
   "execution_count": null,
   "id": "e44b5d60-897b-419e-87dd-dbea8c789978",
   "metadata": {
    "tags": []
   },
   "outputs": [],
   "source": [
    "image_uri = '{0}.dkr.ecr.{1}.amazonaws.com/all-in-one-ai-stable-diffusion-webui-training-api'.format(account_id, region_name)\n",
    "sd_models_s3uri = 's3://{0}/stable-diffusion-webui/models/768-v-ema'.format(bucket)\n",
    "db_models_s3uri = 's3://{0}/stable-diffusion-webui/dreambooth/'.format(bucket)\n",
    "lora_models_s3uri = 's3://{0}/stable-diffusion-webui/lora/'.format(bucket)\n",
    "db_config_s3uri = 's3://{0}/stable-diffusion-webui/dreambooth-config/'.format(bucket)"
   ]
  },
  {
   "cell_type": "code",
   "execution_count": null,
   "id": "eb6e3098-651f-4539-a3c0-75652eeb109a",
   "metadata": {
    "tags": []
   },
   "outputs": [],
   "source": [
    "print(db_config_file)\n",
    "print(db_config_s3uri)\n",
    "!aws s3 cp $db_config_file $db_config_s3uri"
   ]
  },
  {
   "cell_type": "code",
   "execution_count": null,
   "id": "bf60e953-1201-408b-91b4-b110119e95b8",
   "metadata": {
    "tags": []
   },
   "outputs": [],
   "source": [
    "def json_encode_hyperparameters(hyperparameters):\n",
    "    for (k, v) in hyperparameters.items():\n",
    "        print(k, v)\n",
    "    \n",
    "    return {str(k): json.dumps(v) for (k, v) in hyperparameters.items()}\n",
    "\n",
    "train_args = {\n",
    "    'train_dreambooth_settings': {\n",
    "        'db_create_new_db_model': True, \n",
    "        'db_use_txt2img': True,\n",
    "        'db_new_model_name': 'new-dreambooth-model-001', \n",
    "        'db_new_model_src': '768-v-ema.ckpt', \n",
    "        'db_new_model_scheduler': 'ddim', \n",
    "        'db_create_from_hub': False, \n",
    "        'db_new_model_url': '', \n",
    "        'db_new_model_token': '', \n",
    "        'db_new_model_extract_ema': False, \n",
    "        'db_train_unfrozen': False,\n",
    "        'db_512_model': False,\n",
    "        'db_model_name': [], \n",
    "        'db_train_wizard_person': False,\n",
    "        'db_train_wizard_object': False,\n",
    "        'db_performance_wizard': False,\n",
    "        'db_lora_model_name': [],\n",
    "        'db_save_safetensors': False\n",
    "    }\n",
    "}"
   ]
  },
  {
   "cell_type": "code",
   "execution_count": null,
   "id": "88a806be-6c69-49ce-833d-cbdcd85978f0",
   "metadata": {
    "tags": []
   },
   "outputs": [],
   "source": [
    "hyperparameters = {\n",
    "    'train-args': json.dumps(train_args),\n",
    "    'sd-models-s3uri': sd_models_s3uri,\n",
    "    'db-models-s3uri': db_models_s3uri,\n",
    "    'lora-models-s3uri': lora_models_s3uri,\n",
    "    'dreambooth-config-id': db_config_id\n",
    "}\n",
    "\n",
    "hyperparameters = json_encode_hyperparameters(hyperparameters)\n",
    "\n",
    "instance_type = 'ml.g4dn.2xlarge'"
   ]
  },
  {
   "cell_type": "code",
   "execution_count": null,
   "id": "a8e87192-2520-43ae-9dc3-44064c295126",
   "metadata": {
    "tags": []
   },
   "outputs": [],
   "source": [
    "inputs = {\n",
    "    'concepts': images_s3uri,\n",
    "    'models': sd_models_s3uri,\n",
    "    'config': db_config_s3uri\n",
    "}"
   ]
  },
  {
   "cell_type": "code",
   "execution_count": null,
   "id": "46259c22-14fd-45ed-b264-a1349483c265",
   "metadata": {
    "tags": []
   },
   "outputs": [],
   "source": [
    "from sagemaker.estimator import Estimator\n",
    "\n",
    "estimator = Estimator(\n",
    "    role = role,\n",
    "    instance_count=1,\n",
    "    instance_type = instance_type,\n",
    "    image_uri = image_uri,\n",
    "    hyperparameters = hyperparameters\n",
    ")\n",
    "\n",
    "estimator.fit(inputs)"
   ]
  }
 ],
 "metadata": {
  "kernelspec": {
   "display_name": "conda_pytorch_p39",
   "language": "python",
   "name": "conda_pytorch_p39"
  },
  "language_info": {
   "codemirror_mode": {
    "name": "ipython",
    "version": 3
   },
   "file_extension": ".py",
   "mimetype": "text/x-python",
   "name": "python",
   "nbconvert_exporter": "python",
   "pygments_lexer": "ipython3",
   "version": "3.9.15"
  },
  "vscode": {
   "interpreter": {
    "hash": "949777d72b0d2535278d3dc13498b2535136f6dfe0678499012e853ee9abcab1"
   }
  }
 },
 "nbformat": 4,
 "nbformat_minor": 5
}
