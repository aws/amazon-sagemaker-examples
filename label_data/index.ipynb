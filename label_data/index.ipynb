{
 "cells": [
  {
   "cell_type": "markdown",
   "metadata": {},
   "source": [
    "# Ground Truth\n",
    "\n",
    "Amazon SageMaker Ground Truth is a fully managed data labeling service that makes it easy to build highly accurate training datasets for machine learning."
   ]
  },
  {
   "cell_type": "markdown",
   "metadata": {},
   "source": [
    "## Get started with Ground Truth\n",
    "---\n",
    "\n",
    "[This video](https://www.youtube.com/embed/_FPI6KjDlCI) shows you how to setup and use Amazon SageMaker Ground Truth. (Length: 9:37)\n",
    "\n",
    "### End-to-end demo: from unlabeled data to a deployed ML model\n",
    "\n",
    "[From Unlabeled Data to a Deployed Machine Learning Model: A SageMaker Ground Truth Demonstration for Image Classification](../ground_truth_labeling_jobs/from_unlabeled_data_to_deployed_machine_learning_model_ground_truth_demo_image_classification/from_unlabeled_data_to_deployed_machine_learning_model_ground_truth_demo_image_classification.ipynb)\n"
   ]
  },
  {
   "cell_type": "markdown",
   "metadata": {},
   "source": [
    "## Task types\n",
    "---\n",
    "\n",
    "### 3D point clouds\n",
    "* [Create a 3D Point Cloud Labeling Job with Amazon SageMaker Ground Truth](../ground_truth_labeling_jobs/3d_point_cloud_demo/create-3D-pointcloud-labeling-job.ipynb)\n",
    "* [Create a 3D Point Cloud Labeling Job for Object Tracking with Amazon SageMaker Ground Truth](../ground_truth_labeling_jobs/3d_point_cloud_input_data_processing/3D-point-cloud-input-data-processing.ipynb)   \n",
    "\n",
    "\n",
    "### Annotation consolidation\n",
    "* [Understanding Annotation Consolidation: A SageMaker Ground Truth Demonstration for Image Classification](../ground_truth_labeling_jobs/annotation_consolidation/ACSBlogPost.ipynb)\n",
    "\n",
    "\n",
    "### Object detection\n",
    "* [From Unlabeled Data to a Deployed Machine Learning Model: A SageMaker Ground Truth Demonstration for Object Detection](../ground_truth_labeling_jobs/ground_truth_object_detection_tutorial/object_detection_tutorial.ipynb)\n",
    "\n",
    "\n",
    "### Pretrained model labeling\n",
    "* [Using a Pre-Trained Model for Cost Effective Data Labeling](../ground_truth_labeling_jobs/pretrained_model/pretrained_model_labeling_tutorial.ipynb)"
   ]
  },
  {
   "cell_type": "markdown",
   "metadata": {},
   "source": [
    "## Bring your own model\n",
    "---\n",
    "\n",
    "* [Create an Active Learning Workflow using Amazon SageMaker Ground Truth](../ground_truth_labeling_jobs/bring_your_own_model_for_sagemaker_labeling_workflows_with_active_learning/bring_your_own_model_for_sagemaker_labeling_workflows_with_active_learning.ipynb)\n"
   ]
  },
  {
   "cell_type": "markdown",
   "metadata": {},
   "source": [
    "## Analysis tasks\n",
    "---\n",
    "\n",
    "### Data analysis of image classification\n",
    "* [Data Analysis Using a Ground Truth Image Classification Output Manifest](../ground_truth_labeling_jobs/data_analysis_of_ground_truth_image_classification_output/data_analysis_of_ground_truth_image_classification_output.ipynb)\n"
   ]
  }
 ],
 "metadata": {
  "instance_type": "ml.t3.medium",
  "kernelspec": {
   "display_name": "Python 3 (Data Science)",
   "language": "python",
   "name": "python3__SAGEMAKER_INTERNAL__arn:aws:sagemaker:us-west-2:236514542706:image/datascience-1.0"
  },
  "language_info": {
   "codemirror_mode": {
    "name": "ipython",
    "version": 3
   },
   "file_extension": ".py",
   "mimetype": "text/x-python",
   "name": "python",
   "nbconvert_exporter": "python",
   "pygments_lexer": "ipython3",
   "version": "3.7.10"
  }
 },
 "nbformat": 4,
 "nbformat_minor": 4
}
