{
 "cells": [
  {
   "cell_type": "markdown",
   "metadata": {},
   "source": [
    "# Training and Deploying ML Models using JAX on SageMaker\n",
    "Amazon SageMaker provides you the flexibility to train models using any framework that can work in a Docker container. In this example we'll show how to utilize the bring your own container paradigm to train machine learning models using the increasingly popular [JAX library from Google](https://github.com/google/jax). We'll train a fashion mnist classification model using vanilla JAX and another model using the [higher level Trax library from Google](https://github.com/google/trax).\n",
    "\n",
    "For both of these demos, we'll show how both JAX and Trax can serialize models using the TensorFlow standard [SavedModel format](https://www.tensorflow.org/guide/saved_model). This enables us to train these models in a custom container, but then deploy them using the managed and optimized SageMaker TensorFlow inference containers.\n"
   ]
  },
  {
   "cell_type": "code",
   "execution_count": 1,
   "metadata": {},
   "outputs": [],
   "source": [
    "import os\n",
    "import json\n",
    "\n",
    "import boto3\n",
    "import sagemaker\n",
    "from sagemaker import get_execution_role\n",
    "\n",
    "from sagemaker_jax import JaxEstimator\n",
    "\n",
    "client = boto3.client('sts')\n",
    "account = client.get_caller_identity()['Account']\n",
    "role = get_execution_role()\n",
    "my_session = boto3.session.Session()\n",
    "region = my_session.region_name\n",
    "\n",
    "container_name = 'sagemaker-jax'\n",
    "ecr_image = '{}.dkr.ecr.{}.amazonaws.com/{}'.format(account, region, container_name)"
   ]
  },
  {
   "cell_type": "markdown",
   "metadata": {},
   "source": [
    "## Custom Framework Estimator\n",
    "Since we'll be saving our JAX and Trax models as SavedModel format, we can create a subclass of the base [SageMaker Framework estimator](https://sagemaker.readthedocs.io/en/stable/api/training/estimators.html?highlight=Framework#sagemaker.estimator.Framework). This will enable us to specify a custom `create_model` method which leverages the existing TensorFlowModel class to launch inference containers"
   ]
  },
  {
   "cell_type": "code",
   "execution_count": 2,
   "metadata": {},
   "outputs": [
    {
     "name": "stdout",
     "output_type": "stream",
     "text": [
      "\u001b[37m# Copyright 2021 Amazon.com, Inc. or its affiliates. All Rights Reserved.\u001b[39;49;00m\n",
      "\u001b[37m#\u001b[39;49;00m\n",
      "\u001b[37m# Licensed under the Apache License, Version 2.0 (the \"License\"). You\u001b[39;49;00m\n",
      "\u001b[37m# may not use this file except in compliance with the License. A copy of\u001b[39;49;00m\n",
      "\u001b[37m# the License is located at\u001b[39;49;00m\n",
      "\u001b[37m#\u001b[39;49;00m\n",
      "\u001b[37m#     http://aws.amazon.com/apache2.0/\u001b[39;49;00m\n",
      "\u001b[37m#\u001b[39;49;00m\n",
      "\u001b[37m# or in the \"license\" file accompanying this file. This file is\u001b[39;49;00m\n",
      "\u001b[37m# distributed on an \"AS IS\" BASIS, WITHOUT WARRANTIES OR CONDITIONS OF\u001b[39;49;00m\n",
      "\u001b[37m# ANY KIND, either express or implied. See the License for the specific\u001b[39;49;00m\n",
      "\u001b[37m# language governing permissions and limitations under the License.\u001b[39;49;00m\n",
      "\u001b[33m\"\"\"\u001b[39;49;00m\n",
      "\u001b[33mCustom Framework Estimator for JAX\u001b[39;49;00m\n",
      "\u001b[33m\"\"\"\u001b[39;49;00m\n",
      "\u001b[34mfrom\u001b[39;49;00m \u001b[04m\u001b[36msagemaker\u001b[39;49;00m\u001b[04m\u001b[36m.\u001b[39;49;00m\u001b[04m\u001b[36mestimator\u001b[39;49;00m \u001b[34mimport\u001b[39;49;00m Framework\n",
      "\u001b[34mfrom\u001b[39;49;00m \u001b[04m\u001b[36msagemaker\u001b[39;49;00m\u001b[04m\u001b[36m.\u001b[39;49;00m\u001b[04m\u001b[36mvpc_utils\u001b[39;49;00m \u001b[34mimport\u001b[39;49;00m VPC_CONFIG_DEFAULT\n",
      "\u001b[34mfrom\u001b[39;49;00m \u001b[04m\u001b[36msagemaker\u001b[39;49;00m\u001b[04m\u001b[36m.\u001b[39;49;00m\u001b[04m\u001b[36mtensorflow\u001b[39;49;00m\u001b[04m\u001b[36m.\u001b[39;49;00m\u001b[04m\u001b[36mmodel\u001b[39;49;00m \u001b[34mimport\u001b[39;49;00m TensorFlowModel\n",
      "\n",
      "\n",
      "\u001b[34mclass\u001b[39;49;00m \u001b[04m\u001b[32mJaxEstimator\u001b[39;49;00m(Framework):\n",
      "    \u001b[34mdef\u001b[39;49;00m \u001b[32m__init__\u001b[39;49;00m(\n",
      "        \u001b[36mself\u001b[39;49;00m,\n",
      "        entry_point,\n",
      "        source_dir=\u001b[34mNone\u001b[39;49;00m,\n",
      "        hyperparameters=\u001b[34mNone\u001b[39;49;00m,\n",
      "        image_name=\u001b[34mNone\u001b[39;49;00m,\n",
      "        **kwargs\n",
      "    ):\n",
      "        \u001b[36msuper\u001b[39;49;00m(JaxEstimator, \u001b[36mself\u001b[39;49;00m).\u001b[32m__init__\u001b[39;49;00m(\n",
      "            entry_point, source_dir, hyperparameters, image_name=image_name, **kwargs\n",
      "        )\n",
      "\n",
      "    \u001b[34mdef\u001b[39;49;00m \u001b[32mcreate_model\u001b[39;49;00m(\n",
      "            \u001b[36mself\u001b[39;49;00m,\n",
      "            role=\u001b[34mNone\u001b[39;49;00m,\n",
      "            vpc_config_override=VPC_CONFIG_DEFAULT,\n",
      "            entry_point=\u001b[34mNone\u001b[39;49;00m,\n",
      "            source_dir=\u001b[34mNone\u001b[39;49;00m,\n",
      "            dependencies=\u001b[34mNone\u001b[39;49;00m,\n",
      "            **kwargs\n",
      "    ):\n",
      "        \u001b[33m\"\"\"Creates ``TensorFlowModel`` object to be used for creating SageMaker model entities\u001b[39;49;00m\n",
      "\u001b[33m        \"\"\"\u001b[39;49;00m\n",
      "        kwargs[\u001b[33m\"\u001b[39;49;00m\u001b[33mname\u001b[39;49;00m\u001b[33m\"\u001b[39;49;00m] = \u001b[36mself\u001b[39;49;00m._get_or_create_name(kwargs.get(\u001b[33m\"\u001b[39;49;00m\u001b[33mname\u001b[39;49;00m\u001b[33m\"\u001b[39;49;00m))\n",
      "\n",
      "        \u001b[34mif\u001b[39;49;00m \u001b[33m\"\u001b[39;49;00m\u001b[33menable_network_isolation\u001b[39;49;00m\u001b[33m\"\u001b[39;49;00m \u001b[35mnot\u001b[39;49;00m \u001b[35min\u001b[39;49;00m kwargs:\n",
      "            kwargs[\u001b[33m\"\u001b[39;49;00m\u001b[33menable_network_isolation\u001b[39;49;00m\u001b[33m\"\u001b[39;49;00m] = \u001b[36mself\u001b[39;49;00m.enable_network_isolation()\n",
      "\n",
      "        \u001b[34mreturn\u001b[39;49;00m TensorFlowModel(\n",
      "            model_data=\u001b[36mself\u001b[39;49;00m.model_data,\n",
      "            role=role \u001b[35mor\u001b[39;49;00m \u001b[36mself\u001b[39;49;00m.role,\n",
      "            container_log_level=\u001b[36mself\u001b[39;49;00m.container_log_level,\n",
      "            framework_version=\u001b[33m'\u001b[39;49;00m\u001b[33m2.3.1\u001b[39;49;00m\u001b[33m'\u001b[39;49;00m,\n",
      "            sagemaker_session=\u001b[36mself\u001b[39;49;00m.sagemaker_session,\n",
      "            vpc_config=\u001b[36mself\u001b[39;49;00m.get_vpc_config(vpc_config_override),\n",
      "            entry_point=entry_point,\n",
      "            source_dir=source_dir,\n",
      "            dependencies=dependencies,\n",
      "            **kwargs\n",
      "        )\n"
     ]
    }
   ],
   "source": [
    "!pygmentize sagemaker_jax.py"
   ]
  },
  {
   "cell_type": "markdown",
   "metadata": {},
   "source": [
    "## Training Docker Container\n",
    "Our custom training container is straight forward, though there are a few things worth mentioning that can be seen in the comments"
   ]
  },
  {
   "cell_type": "code",
   "execution_count": 3,
   "metadata": {},
   "outputs": [
    {
     "name": "stdout",
     "output_type": "stream",
     "text": [
      "# Dockerfile for training models using JAX\n",
      "\n",
      "# We build from NVIDIA container so that CUDA is available for GPU acceleration should the AWS instance support it\n",
      "FROM nvidia/cuda:11.0-cudnn8-devel-ubuntu18.04\n",
      "\n",
      "# Install python3\n",
      "RUN apt update && apt install -y python3-pip\n",
      "\n",
      "RUN ln -sf /usr/bin/python3 /usr/bin/python && \\\n",
      "    ln -sf /usr/bin/pip3 /usr/bin/pip\n",
      "\n",
      "# Install the SageMaker Training Toolkit\n",
      "# This provides entry points for the training script\n",
      "RUN pip --no-cache-dir install sagemaker-training\n",
      "\n",
      "# Install JAX built with CUDA11 support\n",
      "RUN pip --no-cache-dir install --upgrade pip\n",
      "RUN pip --no-cache-dir install --upgrade jax jaxlib==0.1.57+cuda110 -f https://storage.googleapis.com/jax-releases/jax_releases.html\n",
      "\n",
      "# Install Trax\n",
      "RUN pip --no-cache-dir install matplotlib trax\n",
      "\n",
      "# Setting some environment variables related to logging\n",
      "ENV PYTHONDONTWRITEBYTECODE=1 \\\n",
      "    PYTHONUNBUFFERED=1\n"
     ]
    }
   ],
   "source": [
    "!cat docker/Dockerfile"
   ]
  },
  {
   "cell_type": "markdown",
   "metadata": {},
   "source": [
    "## Building and Publishing the Image\n",
    "The below shell script must only be ran if the docker image has not already been pushed to the Elastic Container Registry. \n",
    "\n",
    "**NOTE: Since SageMaker studio is already running inside of a Docker container, this script cannot be ran inside of SageMaker Studio. Please push your container using awscli or use this toolkit: https://github.com/aws-samples/sagemaker-studio-image-build-cli**"
   ]
  },
  {
   "cell_type": "code",
   "execution_count": null,
   "metadata": {},
   "outputs": [],
   "source": [
    "%%sh\n",
    "\n",
    "container_name=sagemaker-jax\n",
    "account=$(aws sts get-caller-identity --query Account --output text)\n",
    "\n",
    "# Get the region defined in the current configuration (default to us-west-2 if none defined)\n",
    "region=$(aws configure get region)\n",
    "region=${region:-us-west-2}\n",
    "\n",
    "fullname=\"${account}.dkr.ecr.${region}.amazonaws.com/${container_name}\"\n",
    "\n",
    "# If the repository doesn't exist in ECR, create it.\n",
    "aws ecr describe-repositories --repository-names \"${container_name}\" > /dev/null 2>&1\n",
    "if [ $? -ne 0 ]\n",
    "then\n",
    "    aws ecr create-repository --repository-name \"${container_name}\" > /dev/null\n",
    "fi\n",
    "\n",
    "# Get the login command from ECR and execute it directly\n",
    "$(aws ecr get-login --region ${region} --no-include-email)\n",
    "\n",
    "# Build the docker image locally with the image name and then push it to ECR\n",
    "# with the full name.\n",
    "docker build  -t ${container_name} docker/\n",
    "docker tag ${container_name} ${fullname}\n",
    "\n",
    "docker push ${fullname}"
   ]
  },
  {
   "cell_type": "markdown",
   "metadata": {},
   "source": [
    "## Serializing models as SavedModel format\n",
    "In the upcoming training jobs we'll be training a vanilla JAX model and a Trax model on the [fashion mnist dataset](https://github.com/zalandoresearch/fashion-mnist). The full details of the model can be seen in the `training_scripts/` directory, but it is worth calling out the methods for serialization. \n",
    "\n",
    "The JAX model utilizes the new experimental jax2tf converter: https://github.com/google/jax/tree/master/jax/experimental/jax2tf\n",
    "\n",
    "The Trax model utilizes the new trax2keras functionality: https://github.com/google/trax/blob/master/trax/trax2keras.py"
   ]
  },
  {
   "cell_type": "markdown",
   "metadata": {},
   "source": [
    "## Train using Vanilla JAX"
   ]
  },
  {
   "cell_type": "code",
   "execution_count": 4,
   "metadata": {},
   "outputs": [
    {
     "name": "stdout",
     "output_type": "stream",
     "text": [
      "\n",
      "2021-01-11 23:22:59 Starting - Starting the training job\n",
      "2021-01-11 23:23:00 Starting - Launching requested ML instances.............\n",
      "2021-01-11 23:24:10 Starting - Preparing the instances for training............\n",
      "2021-01-11 23:25:18 Downloading - Downloading input data.\n",
      "2021-01-11 23:25:25 Training - Downloading the training image...........................................................\n",
      "2021-01-11 23:30:27 Training - Training image download completed. Training in progress.............\n",
      "2021-01-11 23:31:33 Uploading - Uploading generated training model\n",
      "2021-01-11 23:31:41 Completed - Training job completed\n"
     ]
    }
   ],
   "source": [
    "vanilla_jax_estimator = JaxEstimator(\n",
    "        image_uri=ecr_image,\n",
    "        role=role,\n",
    "        instance_count=1,\n",
    "        base_job_name = container_name + \"-jax\",\n",
    "        source_dir=\"training_scripts\",\n",
    "        entry_point=\"train_jax.py\",\n",
    "        instance_type=\"ml.p2.xlarge\",\n",
    "        hyperparameters={'num_epochs': 3}\n",
    "    )\n",
    "\n",
    "vanilla_jax_estimator.fit(logs=False)"
   ]
  },
  {
   "cell_type": "markdown",
   "metadata": {},
   "source": [
    "## Train Using JAX High level API Trax"
   ]
  },
  {
   "cell_type": "code",
   "execution_count": 8,
   "metadata": {},
   "outputs": [
    {
     "name": "stdout",
     "output_type": "stream",
     "text": [
      "\n",
      "2021-01-11 23:41:39 Starting - Starting the training job\n",
      "2021-01-11 23:41:43 Starting - Launching requested ML instances.............\n",
      "2021-01-11 23:42:54 Starting - Preparing the instances for training..............\n",
      "2021-01-11 23:44:07 Downloading - Downloading input data\n",
      "2021-01-11 23:44:14 Training - Downloading the training image...........................................................\n",
      "2021-01-11 23:49:16 Training - Training image download completed. Training in progress..................\n",
      "2021-01-11 23:50:43 Uploading - Uploading generated training model\n",
      "2021-01-11 23:50:50 Completed - Training job completed\n"
     ]
    }
   ],
   "source": [
    "trax_estimator = JaxEstimator(\n",
    "        image_uri=ecr_image,\n",
    "        role=role,\n",
    "        instance_count=1,\n",
    "        base_job_name = container_name + \"-trax\",\n",
    "        source_dir=\"training_scripts\",\n",
    "        entry_point=\"train_trax.py\",\n",
    "        instance_type=\"ml.p2.xlarge\",\n",
    "        hyperparameters={'train_steps': 1000}\n",
    "    )\n",
    "\n",
    "trax_estimator.fit(logs=False)"
   ]
  },
  {
   "cell_type": "markdown",
   "metadata": {},
   "source": [
    "## Deploy Both Models to prebuilt TF Containers\n",
    "Since we've our customer Framework Estimator knows the models are to be served using TensorFlowModel, deploying these endpoints is just a trivial call to the `estimator.deploy()` method"
   ]
  },
  {
   "cell_type": "code",
   "execution_count": 9,
   "metadata": {},
   "outputs": [
    {
     "name": "stderr",
     "output_type": "stream",
     "text": [
      "update_endpoint is a no-op in sagemaker>=2.\n",
      "See: https://sagemaker.readthedocs.io/en/stable/v2.html for details.\n"
     ]
    },
    {
     "name": "stdout",
     "output_type": "stream",
     "text": [
      "-------------!"
     ]
    }
   ],
   "source": [
    "vanilla_jax_predictor = vanilla_jax_estimator.deploy(initial_instance_count=1, instance_type=\"ml.m4.xlarge\")"
   ]
  },
  {
   "cell_type": "code",
   "execution_count": 10,
   "metadata": {},
   "outputs": [
    {
     "name": "stderr",
     "output_type": "stream",
     "text": [
      "update_endpoint is a no-op in sagemaker>=2.\n",
      "See: https://sagemaker.readthedocs.io/en/stable/v2.html for details.\n"
     ]
    },
    {
     "name": "stdout",
     "output_type": "stream",
     "text": [
      "---------------!"
     ]
    }
   ],
   "source": [
    "trax_predictor = trax_estimator.deploy(initial_instance_count=1, instance_type=\"ml.m4.xlarge\")"
   ]
  },
  {
   "cell_type": "markdown",
   "metadata": {},
   "source": [
    "## Test Inference Endpoints\n",
    "This requires TF to be installed on your notebook's kernel as it is used to load testing data"
   ]
  },
  {
   "cell_type": "code",
   "execution_count": 11,
   "metadata": {},
   "outputs": [],
   "source": [
    "import tensorflow as tf\n",
    "import numpy as np\n",
    "from matplotlib import pyplot as plt\n",
    "(x_train, y_train), (x_test, y_test) = tf.keras.datasets.fashion_mnist.load_data()"
   ]
  },
  {
   "cell_type": "code",
   "execution_count": 12,
   "metadata": {},
   "outputs": [],
   "source": [
    "def test_image(predictor, test_images, test_labels, image_number):\n",
    "    np_img = np.expand_dims(np.expand_dims(test_images[image_number], axis=-1), axis=0)\n",
    "    \n",
    "    result = predictor.predict(np_img)\n",
    "    pred_y = np.argmax(result['predictions'])\n",
    "    \n",
    "    print(\"True Label:\", test_labels[image_number])\n",
    "    print(\"Predicted Label:\", pred_y)\n",
    "    plt.imshow(test_images[image_number])"
   ]
  },
  {
   "cell_type": "code",
   "execution_count": 13,
   "metadata": {},
   "outputs": [
    {
     "name": "stdout",
     "output_type": "stream",
     "text": [
      "True Label: 9\n",
      "Predicted Label: 9\n"
     ]
    },
    {
     "data": {
      "image/png": "[encoded data removed]",
      "text/plain": [
       "<Figure size 432x288 with 1 Axes>"
      ]
     },
     "metadata": {
      "needs_background": "light"
     },
     "output_type": "display_data"
    }
   ],
   "source": [
    "test_image(trax_predictor, x_test, y_test, 0)"
   ]
  },
  {
   "cell_type": "code",
   "execution_count": 14,
   "metadata": {},
   "outputs": [
    {
     "name": "stdout",
     "output_type": "stream",
     "text": [
      "True Label: 9\n",
      "Predicted Label: 9\n"
     ]
    },
    {
     "data": {
      "image/png": "[encoded data removed]",
      "text/plain": [
       "<Figure size 432x288 with 1 Axes>"
      ]
     },
     "metadata": {
      "needs_background": "light"
     },
     "output_type": "display_data"
    }
   ],
   "source": [
    "test_image(vanilla_jax_predictor, x_test, y_test, 0)"
   ]
  },
  {
   "cell_type": "markdown",
   "metadata": {},
   "source": [
    "## Optionally Clean up the running endpoints"
   ]
  },
  {
   "cell_type": "code",
   "execution_count": null,
   "metadata": {},
   "outputs": [],
   "source": [
    "# Clean-Up\n",
    "vanilla_jax_predictor.delete_endpoint()\n",
    "trax_predictor.delete_endpoint()"
   ]
  }
 ],
 "metadata": {
  "kernelspec": {
   "display_name": "conda_tensorflow2_p36",
   "language": "python",
   "name": "conda_tensorflow2_p36"
  },
  "language_info": {
   "codemirror_mode": {
    "name": "ipython",
    "version": 3
   },
   "file_extension": ".py",
   "mimetype": "text/x-python",
   "name": "python",
   "nbconvert_exporter": "python",
   "pygments_lexer": "ipython3",
   "version": "3.6.10"
  }
 },
 "nbformat": 4,
 "nbformat_minor": 4
}
