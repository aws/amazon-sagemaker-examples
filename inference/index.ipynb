{
 "cells": [
  {
   "cell_type": "markdown",
   "metadata": {},
   "source": [
    "# Deploy Models with SageMaker\n",
    "\n",
    "Examples on how to host models for predictions, inference, and transformations with SageMaker."
   ]
  },
  {
   "cell_type": "markdown",
   "metadata": {},
   "source": [
    "## Bring your own container\n",
    "---\n",
    "\n",
    "* [Bring Your Own Container (BYOC)](bring_your_own_container.ipynb)\n",
    "\n"
   ]
  },
  {
   "cell_type": "markdown",
   "metadata": {},
   "source": [
    "## Data types\n",
    "---\n",
    "\n",
    "* [Data Types](data_types.ipynb)\n",
    "\n"
   ]
  },
  {
   "cell_type": "markdown",
   "metadata": {},
   "source": [
    "## Model deployment\n",
    "---\n",
    "\n",
    "* [Use Your Own Inference Code with Amazon SageMaker XGBoost Algorithm](../introduction_to_amazon_algorithms/xgboost_abalone/xgboost_inferenece_script_mode.ipynb)\n",
    "* [TensorFlow BYOM: Train locally and deploy on SageMaker.](../advanced_functionality/tensorflow_iris_byom/tensorflow_BYOM_iris.ipynb)\n",
    "* [Bring Your Own Model (k-means)](../advanced_functionality/kmeans_bring_your_own_model/kmeans_bring_your_own_model.ipynb)\n",
    "* [Amazon SageMaker XGBoost Bring Your Own Model](../advanced_functionality/xgboost_bring_your_own_model/xgboost_bring_your_own_model.ipynb)\n",
    "\n",
    "### Elastic inference\n",
    "\n",
    "* [Using Amazon Elastic Inference with MXNet on Amazon SageMaker](../sagemaker-python-sdk/mxnet_mnist/mxnet_mnist_elastic_inference.ipynb)\n",
    "* [Using Amazon Elastic Inference with MXNet on an Amazon SageMaker Notebook Instance](../sagemaker-python-sdk/mxnet_mnist/mxnet_mnist_elastic_inference_local.ipynb)\n",
    "* [Hosting ONNX models with Amazon Elastic Inference](../sagemaker-python-sdk/mxnet_onnx_eia/mxnet_onnx_eia.ipynb)\n",
    "\n",
    "\n",
    "### Endpoints\n",
    "\n",
    "* [Endpoints](endpoints.ipynb)\n",
    "\n"
   ]
  },
  {
   "cell_type": "markdown",
   "metadata": {},
   "source": [
    "## Multi-Model Deployment\n",
    "---\n",
    "\n",
    "* [Amazon SageMaker Multi-Model Endpoints using Scikit Learn](../advanced_functionality/multi_model_sklearn_home_value/sklearn_multi_model_endpoint_home_value.ipynb)\n",
    "\n"
   ]
  },
  {
   "cell_type": "markdown",
   "metadata": {},
   "source": [
    "## Nvidia Triton Inference\n",
    "---\n",
    "\n",
    "* [Triton on SageMaker - Deploying a PyTorch Resnet50 model](../sagemaker-triton/resnet50/triton_resnet50.ipynb)\n",
    "* [Triton on SageMaker - NLP Bert](../sagemaker-triton/nlp_bert/triton_nlp_bert.ipynb)\n",
    "\n"
   ]
  }
 ],
 "metadata": {
  "kernelspec": {
   "display_name": "Python 3 (Data Science)",
   "language": "python",
   "name": "python3__SAGEMAKER_INTERNAL__arn:aws:sagemaker:us-west-2:236514542706:image/datascience-1.0"
  },
  "language_info": {
   "codemirror_mode": {
    "name": "ipython",
    "version": 3
   },
   "file_extension": ".py",
   "mimetype": "text/x-python",
   "name": "python",
   "nbconvert_exporter": "python",
   "pygments_lexer": "ipython3",
   "version": "3.7.10"
  }
 },
 "nbformat": 4,
 "nbformat_minor": 4
}
