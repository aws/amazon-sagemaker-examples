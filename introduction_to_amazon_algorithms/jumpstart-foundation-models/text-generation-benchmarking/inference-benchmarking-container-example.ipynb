{
 "cells": [
  {
   "cell_type": "code",
   "execution_count": null,
   "metadata": {},
   "outputs": [],
   "source": [
    "%load_ext autoreload\n",
    "%autoreload 2"
   ]
  },
  {
   "cell_type": "code",
   "execution_count": null,
   "metadata": {},
   "outputs": [],
   "source": [
    "from benchmarking.payload import create_test_payload\n",
    "\n",
    "\n",
    "PAYLOADS = {\n",
    "    \"input_128_output_128\": create_test_payload(input_words=128, output_tokens=128),\n",
    "    \"input_512_output_128\": create_test_payload(input_words=512, output_tokens=128),\n",
    "}\n",
    "\n",
    "MODELS = {\n",
    "    \"falcon-7b-jumpstart\": {\n",
    "        \"jumpstart_model_specs\": {\"model_args\": {\"model_id\": \"huggingface-llm-falcon-7b-bf16\"}},\n",
    "        \"huggingface_model_id\": \"tiiuae/falcon-7b\",\n",
    "    },\n",
    "    # \"falcon-7b-jumpstart-2\": {\n",
    "    #     \"jumpstart_model_specs\": {\n",
    "    #         \"model_args\": {\"model_id\": \"huggingface-llm-falcon-7b-bf16\"},\n",
    "    #         \"deploy_args\": {\"initial_instance_count\": 2},\n",
    "    #     },\n",
    "    #     \"huggingface_model_id\": \"tiiuae/falcon-7b\",\n",
    "    # },\n",
    "    \"falcon-7b-lmi\": {\n",
    "        \"model_specs\": {\n",
    "            \"image_uri_args\": {\n",
    "                \"framework\": \"djl-deepspeed\",\n",
    "                \"version\": \"0.23.0\",\n",
    "            },\n",
    "            \"model_args\": {\n",
    "                \"env\": {\n",
    "                    \"SERVING_LOAD_MODELS\": \"test::MPI=/opt/ml/model\",\n",
    "                    \"OPTION_MODEL_ID\": \"tiiuae/falcon-7b\",\n",
    "                    \"OPTION_TASK\": \"text-generation\",\n",
    "                    \"OPTION_TRUST_REMOTE_CODE\": \"true\",\n",
    "                    \"OPTION_TENSOR_PARALLEL_DEGREE\": \"1\",\n",
    "                    \"OPTION_MAX_ROLLING_BATCH_SIZE\": \"32\",\n",
    "                    \"OPTION_ROLLING_BATCH\": \"lmi-dist\",\n",
    "                    \"OPTION_MAX_ROLLING_BATCH_PREFILL_TOKENS\": \"1560\",\n",
    "                    \"OPTION_DTYPE\": \"fp16\"\n",
    "                },\n",
    "            },\n",
    "            \"deploy_args\": {\n",
    "                \"initial_instance_count\": 1,\n",
    "                \"instance_type\": \"ml.g5.2xlarge\",\n",
    "                \"container_startup_health_check_timeout\": 600,\n",
    "            }\n",
    "        },\n",
    "        \"huggingface_model_id\": \"tiiuae/falcon-7b\",\n",
    "    },\n",
    "    \"falcon-7b-tgi\": {\n",
    "        \"model_specs\": {\n",
    "            \"image_uri_args\": {\n",
    "                \"framework\": \"huggingface-llm\",\n",
    "                \"version\": \"1.1.0\",\n",
    "            },\n",
    "            \"model_args\": {\n",
    "                \"env\": {\n",
    "                    \"HF_MODEL_ID\": \"tiiuae/falcon-7b\",\n",
    "                    \"SM_NUM_GPUS\": \"1\"\n",
    "                },\n",
    "            },\n",
    "            \"deploy_args\": {\n",
    "                \"initial_instance_count\": 1,\n",
    "                \"instance_type\": \"ml.g5.2xlarge\",\n",
    "                \"container_startup_health_check_timeout\": 600,\n",
    "            }\n",
    "        },\n",
    "        \"huggingface_model_id\": \"tiiuae/falcon-7b\",\n",
    "    },\n",
    "}"
   ]
  },
  {
   "cell_type": "code",
   "execution_count": null,
   "metadata": {},
   "outputs": [],
   "source": [
    "from benchmarking.runner import Benchmarker\n",
    "\n",
    "\n",
    "benchmarker = Benchmarker(payloads=PAYLOADS, run_concurrency_probe=True)\n",
    "metrics = benchmarker.run_multiple_models(models=MODELS)"
   ]
  },
  {
   "cell_type": "code",
   "execution_count": null,
   "metadata": {},
   "outputs": [],
   "source": [
    "import pandas as pd\n",
    "from benchmarking.runner import Benchmarker\n",
    "\n",
    "\n",
    "df = Benchmarker.load_metrics_pandas()\n",
    "df_pivot = Benchmarker.create_concurrency_probe_pivot_table(df)\n",
    "\n",
    "pd.set_option('display.max_columns', None)\n",
    "pd.set_option(\"display.max_colwidth\", 0)\n",
    "pd.set_option(\"display.max_rows\", 500)\n",
    "display(df_pivot)"
   ]
  },
  {
   "cell_type": "code",
   "execution_count": null,
   "metadata": {},
   "outputs": [],
   "source": [
    "benchmarker.clean_up_resources()"
   ]
  }
 ],
 "metadata": {
  "kernelspec": {
   "display_name": "sagemaker-model-hub",
   "language": "python",
   "name": "python3"
  },
  "language_info": {
   "codemirror_mode": {
    "name": "ipython",
    "version": 3
   },
   "file_extension": ".py",
   "mimetype": "text/x-python",
   "name": "python",
   "nbconvert_exporter": "python",
   "pygments_lexer": "ipython3",
   "version": "3.9.13"
  },
  "orig_nbformat": 4
 },
 "nbformat": 4,
 "nbformat_minor": 2
}
