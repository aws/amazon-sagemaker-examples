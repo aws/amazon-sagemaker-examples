{
 "cells": [
  {
   "cell_type": "markdown",
   "id": "mighty-single",
   "metadata": {},
   "source": [
    "# Training Job with Encrypted Static Assets\n",
    "\n",
    "In the [notebook about creating a training job in VPC mode](https://github.com/aws/amazon-sagemaker-examples/blob/master/sagemaker-fundamentals/create-training-job/create_training_job_vpc.ipynb) you learnt how to create a SageMaker training job with network isolation. Network isolation enables you to protect your data and model from being intercepted by cyber pirates. "
   ]
  },
  {
   "cell_type": "markdown",
   "id": "french-lindsay",
   "metadata": {},
   "source": [
    "Another way you can protect your static assets is to encrypt them before moving them from location A to location B. In this notebook, you will walk through a few techniques on that with the help of AWS Key Management Service [(AWS KMS)](https://docs.aws.amazon.com/kms/latest/developerguide/overview.html).\n",
    "\n",
    "The following materials are helpful to get you started if you are not familiar with cryptography:\n",
    "\n",
    "* [AWS KMS Crytography Details](https://docs.aws.amazon.com/kms/latest/cryptographic-details/intro.html)\n",
    "* [Wikipedia page](https://en.wikipedia.org/wiki/Encryption)\n",
    "* [Chapter 2 of GNU Privacy Handbook](https://www.gnupg.org/gph/en/manual.html)\n",
    "\n",
    "You are strongly encouraged to go through the [overview](https://docs.aws.amazon.com/kms/latest/developerguide/overview.html), [concepts](https://docs.aws.amazon.com/kms/latest/developerguide/concepts.html) and [get started](https://docs.aws.amazon.com/kms/latest/developerguide/getting-started.html) sections from the KMS documentations before going through this notebook. This will help you getting familiar with some terminologies we will be using later. \n",
    "\n",
    "Encryption is a wildly used technology, in addition to the above introductory material, you can find many free lectures online. "
   ]
  },
  {
   "cell_type": "markdown",
   "id": "improved-trance",
   "metadata": {},
   "source": [
    "## Symmetric Ciphers\n",
    "We will focus on symmetric ciphers in this notebook. Quote from the GNU Privacy Handbook\n",
    "\n",
    "> A symmetric cipher is a cipher that uses the same key for both encryption and decryption. Two parties communicating using a symmetric cipher must agree on the key beforehand. Once they agree, the sender encrypts a message using the key, sends it to the receiver, and the receiver decrypts the message using the key. As an example, the German Enigma is a symmetric cipher, and daily keys were distributed as code books. Each day, a sending or receiving radio operator would consult his copy of the code book to find the day's key. Radio traffic for that day was then encrypted and decrypted using the day's key. Modern examples of symmetric ciphers include 3DES, Blowfish, and IDEA."
   ]
  },
  {
   "cell_type": "markdown",
   "id": "hawaiian-promotion",
   "metadata": {},
   "source": [
    "## Environment to run this notebook\n",
    "You can run this notebook on your local machine or EC2 instance as an IAM user or you can run it on SageMaker Notebook Instance as a SageMaker service role. To avoid confusion, we will assume you are running it as an IAM user."
   ]
  },
  {
   "cell_type": "markdown",
   "id": "alert-cannon",
   "metadata": {},
   "source": [
    "## Permissions\n",
    "You will need to attach the following permissions to the IAM user\n",
    "\n",
    "* IAMFullAccess \n",
    "* AWSKeyManagementServicePowerUser\n",
    "* AmazonEC2ContainerRegistryFullAccess"
   ]
  },
  {
   "cell_type": "markdown",
   "id": "consecutive-cleaner",
   "metadata": {},
   "source": [
    "## Outline of this notebook\n",
    "\n",
    "* Generate a symmetric KMS key\n",
    "* Allow your SageMaker service role to use the KMS key\n",
    "* Generate a data key from the KMS key\n",
    "* Encrypt some data with the data key and upload the encrypted data to S3\n",
    "* Create a SageMaker service role\n",
    "* Build a training image \n",
    "* Create a SageMaker training job using the encrypted data\n",
    "* Verify that data retrieved from S3 is encrypted and SageMaker needs your data key to decrypt\n",
    "\n",
    "The process of using a data key to encrypt your data instead of using the KMS key directly is called [**envelope encryption**](https://docs.aws.amazon.com/kms/latest/developerguide/concepts.html#enveloping).\n",
    "You can directly use the KMS key to encrypt your data, but by using a data key, you reduced the risk of [man-in-the-middle-attack](https://en.wikipedia.org/wiki/Man-in-the-middle_attack). \n",
    "We will discuss the use of data key in detail later. \n",
    "\n",
    "![envelope-encryption](assets/key-hierarchy-cmk.png)"
   ]
  },
  {
   "cell_type": "code",
   "execution_count": 9,
   "id": "satisfied-confidentiality",
   "metadata": {},
   "outputs": [],
   "source": [
    "# set ups\n",
    "import boto3\n",
    "import datetime\n",
    "import json\n",
    "import pprint\n",
    "\n",
    "pp = pprint.PrettyPrinter(indent=1)\n",
    "kms = boto3.client('kms') "
   ]
  },
  {
   "cell_type": "code",
   "execution_count": 41,
   "id": "competitive-patient",
   "metadata": {},
   "outputs": [],
   "source": [
    "# Some helper functions\n",
    "\n",
    "def current_time():\n",
    "    ct = datetime.datetime.now() \n",
    "    return str(ct.now()).replace(\":\", \"-\").replace(\" \", \"-\")[:19]\n",
    "\n",
    "def account_id():\n",
    "    return boto3.client('sts').get_caller_identity()['Account']"
   ]
  },
  {
   "cell_type": "markdown",
   "id": "eleven-indication",
   "metadata": {},
   "source": [
    "### Generate a symmetric KMS key\n",
    "\n",
    "You will use [kms:CreateKey](https://boto3.amazonaws.com/v1/documentation/api/latest/reference/services/kms.html#KMS.Client.create_key) API to generate a **symmetric key** used for **encryption** and **decryption**. You need to use a IAM policy to define who has access (and with what level of access) to the key. \n",
    "If you create the key from AWS console, then by following the default steps you will end up the following key policy:"
   ]
  },
  {
   "cell_type": "code",
   "execution_count": null,
   "id": "august-venue",
   "metadata": {},
   "outputs": [],
   "source": [
    "root_arn = f\"arn:aws:iam::{account_id()}:root\"\n",
    "user_arn = boto3.client('sts').get_caller_identity()['Arn']\n",
    "\n",
    "key_policy = {\n",
    "    \"Id\": \"key-consolepolicy-3\",\n",
    "    \"Version\": \"2012-10-17\",\n",
    "    \"Statement\": [\n",
    "        {\n",
    "            \"Sid\": \"Enable IAM User Permissions\",\n",
    "            \"Effect\": \"Allow\",\n",
    "            \"Principal\": {\n",
    "                \"AWS\": root_arn # enable root user to perform all actions\n",
    "            },\n",
    "            \"Action\": \"kms:*\",\n",
    "            \"Resource\": \"*\"\n",
    "        },\n",
    "        \n",
    "        {\n",
    "            \"Sid\": \"Allow access for Key Administrators\",\n",
    "            \"Effect\": \"Allow\",\n",
    "            \"Principal\": {\n",
    "                \"AWS\": [user_arn]   # give myself admin permission to this key\n",
    "                                     # you can add more admin users by appending this list\n",
    "            },\n",
    "            \"Action\": [\n",
    "                \"kms:Create*\",\n",
    "                \"kms:Describe*\",\n",
    "                \"kms:Enable*\",\n",
    "                \"kms:List*\",\n",
    "                \"kms:Put*\",\n",
    "                \"kms:Update*\",\n",
    "                \"kms:Revoke*\",\n",
    "                \"kms:Disable*\",\n",
    "                \"kms:Get*\",\n",
    "                \"kms:Delete*\",\n",
    "                \"kms:TagResource\",\n",
    "                \"kms:UntagResource\",\n",
    "                \"kms:ScheduleKeyDeletion\",\n",
    "                \"kms:CancelKeyDeletion\"\n",
    "            ],\n",
    "            \"Resource\": \"*\"\n",
    "        },\n",
    "        {\n",
    "            \"Sid\": \"Allow use of the key\",\n",
    "            \"Effect\": \"Allow\",\n",
    "            \"Principal\": {\n",
    "                \"AWS\": [user_arn]   # allow myself to use the key\n",
    "                                     # you can add more users / roles to this list\n",
    "                                     # for example you can add SageMaker service role \n",
    "                                     # here. But we will allow SageMaker service role\n",
    "                                     # to use this key via grant (see below)\n",
    "\n",
    "            },\n",
    "            \"Action\": [\n",
    "                \"kms:Encrypt\",\n",
    "                \"kms:Decrypt\",\n",
    "                \"kms:ReEncrypt*\",\n",
    "                \"kms:GenerateDataKey*\",\n",
    "                \"kms:DescribeKey\"\n",
    "            ],\n",
    "            \"Resource\": \"*\"\n",
    "        },\n",
    "        {\n",
    "            \"Sid\": \"Allow attachment of persistent resources\",\n",
    "            \"Effect\": \"Allow\",\n",
    "            \"Principal\": {\n",
    "                \"AWS\": [user_arn] # allow myself to create grant for this key\n",
    "                                   # see ref below to understand the diff \n",
    "                                   # between user and grant\n",
    "                                   # https://docs.aws.amazon.com/kms/latest/developerguide/concepts.html#grant\n",
    "            },\n",
    "            \"Action\": [\n",
    "                \"kms:CreateGrant\",\n",
    "                \"kms:ListGrants\",\n",
    "                \"kms:RevokeGrant\"\n",
    "            ],\n",
    "            \"Resource\": \"*\",\n",
    "            \"Condition\": {\n",
    "                \"Bool\": {\n",
    "                    \"kms:GrantIsForAWSResource\": \"true\"\n",
    "                }\n",
    "            }\n",
    "        }\n",
    "    ]\n",
    "}\n",
    "\n",
    "key_policy = json.dumps(key_policy)"
   ]
  },
  {
   "cell_type": "markdown",
   "id": "chemical-roulette",
   "metadata": {},
   "source": [
    "You can either create a new key or use an existing key. If you want to use an existing key, set `create_new_key` variable to `False` and replace `None` in line 23 by your key id. Note that in order to run this notebook, the key policy of your existing key should grant you AT LEAST the same level of access as the above key policy. "
   ]
  },
  {
   "cell_type": "code",
   "execution_count": null,
   "id": "activated-marina",
   "metadata": {},
   "outputs": [],
   "source": [
    "# create a key with the above key policy\n",
    "\n",
    "create_new_key = False \n",
    "\n",
    "if create_new_key:\n",
    "    ck_res = kms.create_key(\n",
    "        Policy=key_policy,\n",
    "        Description=\"a symmetric key to demonstrate KMS\",\n",
    "        KeyUsage=\"ENCRYPT_DECRYPT\",                # use this key to encrypt and decrypt\n",
    "        Origin='AWS_KMS',                          # created via AWS KMS\n",
    "        CustomerMasterKeySpec='SYMMETRIC_DEFAULT'  # symmetric key\n",
    "    )\n",
    "\n",
    "\n",
    "    pp.pprint(ck_res)\n",
    "    kms_key = ck_res['KeyMetadata']['KeyId']\n",
    "    print(\"The id of the key: \")\n",
    "    print(kms_key)\n",
    "else:\n",
    "    print(\"Supply an existing KMS key by setting kms_key variable to your key id\")\n",
    "    \n",
    "    # replace None by your CMK key id\n",
    "    kms_key = None\n",
    "    \n",
    "if kms_key is None:\n",
    "    raise ValueError(\"Supply a valid KMS key id or create a new one\")"
   ]
  },
  {
   "cell_type": "code",
   "execution_count": null,
   "id": "encouraging-nebraska",
   "metadata": {},
   "outputs": [],
   "source": [
    "kms_key = ck_res['KeyMetadata']['KeyId']\n",
    "print(\"The id of the key: \")\n",
    "print(kms_key)"
   ]
  },
  {
   "cell_type": "markdown",
   "id": "smart-retro",
   "metadata": {},
   "source": [
    "You can use this KMS key to encrypt your data directly. It is not a good practice in production. But it is good to know what you can do."
   ]
  },
  {
   "cell_type": "code",
   "execution_count": null,
   "id": "consolidated-donna",
   "metadata": {},
   "outputs": [],
   "source": [
    "my_secret_message = \"1729 is the smallest number expressible \\\n",
    "as the sum of two cubes in two different ways\".encode('utf-8')\n",
    "\n",
    "# 1729 =  1^3 + 12^3 = 9^3 + 10^3 (Srinivasa Ramanujan)\n",
    "\n",
    "# make the above secret a ciphertext\n",
    "enc_res = kms.encrypt(\n",
    "    KeyId=kms_key,\n",
    "    Plaintext=my_secret_message)\n",
    "\n",
    "pp.pprint(enc_res)"
   ]
  },
  {
   "cell_type": "code",
   "execution_count": null,
   "id": "brave-senate",
   "metadata": {},
   "outputs": [],
   "source": [
    "# decrypt your secret message\n",
    "dec_res = kms.decrypt(\n",
    "    KeyId=kms_key,\n",
    "    CiphertextBlob=enc_res['CiphertextBlob']\n",
    ")\n",
    "\n",
    "print(\"Decrpyted message:\")\n",
    "print(dec_res['Plaintext'].decode())"
   ]
  },
  {
   "cell_type": "markdown",
   "id": "municipal-jewelry",
   "metadata": {},
   "source": [
    "One thing to notice is encryption and decryption should happen at **bytes** level. If you want to encrypt a python object (list, numpy array, pandas data frame, pytorch model or a string) then the first step is to serialize it into bytes. One easy way to do it is to use `pickle.dumps` method. "
   ]
  },
  {
   "cell_type": "markdown",
   "id": "rising-macedonia",
   "metadata": {},
   "source": [
    "## Client-side encryption with data key\n",
    "Now let's pretend you are a data engineer and you need to move a chuck of data from location A to location B. Location A is the machine you are using now to run this notebook, location B is an S3 bucket that your data scientist buddy will be using later to create a training job. You want to ensure that while data is on its way from location A to location B, it is not intercepted and stolen by cyber-attacker in the middle. \n",
    "\n",
    "One solution is genereate a data key `DK` from the KMS key and use `DK` to encrypt your data at location A (client side) and save the encrypted to S3 bucket. \n",
    "\n",
    "You will get a different data key each time you request it from the KMS key and the plaintext data key is intended to be **short-lived** and you should only save the **encrypted** data key for later use. \n",
    "\n",
    "Use [kms:GenerateDataKey](https://boto3.amazonaws.com/v1/documentation/api/latest/reference/services/kms.html#KMS.Client.generate_data_key) to generate a data key. "
   ]
  },
  {
   "cell_type": "code",
   "execution_count": 23,
   "id": "celtic-massachusetts",
   "metadata": {},
   "outputs": [
    {
     "name": "stdout",
     "output_type": "stream",
     "text": [
      "{'CiphertextBlob': b'\\x01\\x02\\x01\\x00x]\\x12%\\xfc,\\xc3\\t+d\\x0fmm\\xb3h!n6\\xd6\\t'\n",
      "                   b'}\\x95\"\\x84\\xa2\\xe9E\\x05\\x8b\\xc28\\xe3\\xe1\\x01b\\x99'\n",
      "                   b'\\xde!\\xfdl\\x95C\\x8c\\xdf\\x9c\\x91\\x82}\\xe3\\x07\\x00\\x00'\n",
      "                   b'\\x00~0|\\x06\\t*\\x86H\\x86\\xf7\\r\\x01\\x07\\x06\\xa0o0m\\x02'\n",
      "                   b'\\x01\\x000h\\x06\\t*\\x86H\\x86\\xf7\\r\\x01\\x07\\x010\\x1e\\x06\\t`'\n",
      "                   b'\\x86H\\x01e\\x03\\x04\\x01.0\\x11\\x04\\x0c]\\xe2?K$\\xae\\xc4\\xd5'\n",
      "                   b'\\x8b\\xaa\\xfe\\xc2\\x02\\x01\\x10\\x80;\\x1c\\x8b\\xecXp\\x92DwaL5'\n",
      "                   b'W\\x0b\\x0eXEn8\\xfdY\\xf5S\\xa8*~!\\xf4\\x99\\xa3\\xd9/'\n",
      "                   b'?\\xdf\\xb5\\xcc\\xef\\xbe\\xf4Bx\\xfc\\x18\\xcb\\tw[\\x11'\n",
      "                   b'\\xe7\\x7f\\x97\\xc3\\xd5\\xa8\\xfa\\xe5O\\x95\\xf2K',\n",
      " 'KeyId': 'arn:aws:kms:us-west-2:688520471316:key/0c8582da-46d4-4be6-af1c-5f3c1d41166b',\n",
      " 'Plaintext': b'dX\\x8cleY\\xce\\\\b\\xae\\x8d{\\x91\\xe7\\x99\\x15\\x1dJ\\xb9\\xc0'\n",
      "              b'z\\x82!\\xb5\\xa5\\xe8\\xf9\\xe32L\\xd1\\t',\n",
      " 'ResponseMetadata': {'HTTPHeaders': {'cache-control': 'no-cache, no-store, '\n",
      "                                                       'must-revalidate, '\n",
      "                                                       'private',\n",
      "                                      'content-length': '414',\n",
      "                                      'content-type': 'application/x-amz-json-1.1',\n",
      "                                      'date': 'Tue, 06 Apr 2021 19:14:10 GMT',\n",
      "                                      'expires': '0',\n",
      "                                      'pragma': 'no-cache',\n",
      "                                      'x-amzn-requestid': '35f35a99-cc7e-456d-ac49-abcf4487c950'},\n",
      "                      'HTTPStatusCode': 200,\n",
      "                      'RequestId': '35f35a99-cc7e-456d-ac49-abcf4487c950',\n",
      "                      'RetryAttempts': 0}}\n"
     ]
    }
   ],
   "source": [
    "key_length = 32 # 32 bytes \n",
    "\n",
    "data_key_res = kms.generate_data_key(\n",
    "    KeyId=kms_key,\n",
    "    NumberOfBytes= key_length  # your data key is will be 32x8=256-bit long\n",
    "                       # takes 2^256 number of guesses to crack your data key\n",
    "    )\n",
    "\n",
    "pp.pprint(data_key_res)"
   ]
  },
  {
   "cell_type": "code",
   "execution_count": 24,
   "id": "sonic-storage",
   "metadata": {},
   "outputs": [],
   "source": [
    "plaintext, ciphertext = data_key_res['Plaintext'], data_key_res['CiphertextBlob']"
   ]
  },
  {
   "cell_type": "code",
   "execution_count": 25,
   "id": "infectious-worthy",
   "metadata": {},
   "outputs": [],
   "source": [
    "assert len(plaintext) == key_length"
   ]
  },
  {
   "cell_type": "markdown",
   "id": "mental-antique",
   "metadata": {},
   "source": [
    "The ciphertext above is the encrypted data key. Of course it is encrypted by the KMS key. And the ciphtertext is what you should keep for long term. There is nothing preventing you from encrypting your plaintext data key with a different KMS key. You just need to remember which KMS you used to encrypt it. "
   ]
  },
  {
   "cell_type": "code",
   "execution_count": 26,
   "id": "biological-piece",
   "metadata": {},
   "outputs": [],
   "source": [
    "assert kms.decrypt(KeyId=kms_key, CiphertextBlob=ciphertext)['Plaintext'] == plaintext"
   ]
  },
  {
   "cell_type": "markdown",
   "id": "exciting-conditions",
   "metadata": {},
   "source": [
    "Note that the plaintext data key is a byte-like object. It is not a string and in fact it cannot be decoded to a python string."
   ]
  },
  {
   "cell_type": "code",
   "execution_count": null,
   "id": "compound-habitat",
   "metadata": {},
   "outputs": [],
   "source": [
    "try:\n",
    "    plaintext.decode('utf-8')\n",
    "except Exception as e:\n",
    "    print(e)"
   ]
  },
  {
   "cell_type": "markdown",
   "id": "passing-authorization",
   "metadata": {},
   "source": [
    "There are multiple python libraries for cryptography. We will use [cryptography](https://pypi.org/project/cryptography/)"
   ]
  },
  {
   "cell_type": "code",
   "execution_count": null,
   "id": "contemporary-price",
   "metadata": {},
   "outputs": [],
   "source": [
    "!pip install cryptography"
   ]
  },
  {
   "cell_type": "code",
   "execution_count": 27,
   "id": "recent-eleven",
   "metadata": {},
   "outputs": [],
   "source": [
    "import base64\n",
    "from cryptography.fernet import Fernet\n",
    "\n",
    "def encrypt(data, plaintext_key):\n",
    "    \"\"\"Encrypt a chunk of bytes on client-side\n",
    "    data: a chunk of bytes\n",
    "    plaintext_key: plaintext data key\n",
    "    \"\"\"\n",
    "    ascii_str = base64.b64encode(plaintext_key)\n",
    "\n",
    "    f = Fernet(key=ascii_str) # Fernet key must be 32 url-safe base64-encoded bytes\n",
    "                              # That's why we generated a 32-byte long data key\n",
    "    return f.encrypt(data)\n",
    "\n",
    "def decrypt(data, ciphertext_key):\n",
    "    \"\"\"Decrypt a chunk of bytes on client-side\n",
    "    data: encypted binary data\n",
    "    ciphertext_key: ciphertext data key\n",
    "    \"\"\"\n",
    "    # decrypt the ciphertext data key\n",
    "    plaintext_key = kms.decrypt(\n",
    "        KeyId=kms_key, \n",
    "        CiphertextBlob=ciphertext_key)['Plaintext']\n",
    "    \n",
    "    # to Fernet-friendly key\n",
    "    ascii_str = base64.b64encode(plaintext_key)\n",
    "    \n",
    "    f = Fernet(key=ascii_str)\n",
    "    return f.decrypt(data)"
   ]
  },
  {
   "cell_type": "code",
   "execution_count": 28,
   "id": "turkish-crowd",
   "metadata": {},
   "outputs": [],
   "source": [
    "import pickle\n",
    "\n",
    "# encrypt\n",
    "data =[i for i in range(1729)]\n",
    "encrypted_data = encrypt(\n",
    "    pickle.dumps(data), # python object -> bytes \n",
    "    plaintext\n",
    ")"
   ]
  },
  {
   "cell_type": "markdown",
   "id": "native-mercury",
   "metadata": {},
   "source": [
    "Once you finished encryption, you should delete the plaintext data key as soon as possible. "
   ]
  },
  {
   "cell_type": "code",
   "execution_count": null,
   "id": "formal-invite",
   "metadata": {},
   "outputs": [],
   "source": [
    "del plaintext"
   ]
  },
  {
   "cell_type": "code",
   "execution_count": null,
   "id": "brief-enterprise",
   "metadata": {},
   "outputs": [],
   "source": [
    "# decrypt\n",
    "b = decrypt(encrypted_data, ciphertext)\n",
    "data_ = pickle.loads(b) # bytes -> python object\n",
    "\n",
    "for x, y in zip(data, data_):\n",
    "    assert x == y"
   ]
  },
  {
   "cell_type": "markdown",
   "id": "minor-issue",
   "metadata": {},
   "source": [
    "## Save encrypted objects on S3 \n",
    "Now you understand how encryption at client-side works. It should be straightforward to you how to save encrypted data on an S3 bucket. "
   ]
  },
  {
   "cell_type": "code",
   "execution_count": null,
   "id": "rising-reasoning",
   "metadata": {},
   "outputs": [],
   "source": [
    "# create a bucket to be shared by SageMaker later\n",
    "\n",
    "def create_bucket():\n",
    "    \"\"\"Create an S3 bucket that is intended to be used for short term\"\"\"\n",
    "    bucket = f\"sagemaker-{current_time()}\"\n",
    "    \n",
    "    region_name = boto3.Session().region_name\n",
    "    create_bucket_config = {}\n",
    "    if region_name != 'us-east-1': \n",
    "        # us-east-1 is the default region for S3 bucket\n",
    "        # specify LocationConstraint if your VPC is not\n",
    "        # in us-east-1\n",
    "        create_bucket_config['LocationConstraint'] = region_name\n",
    "    \n",
    "    boto3.client('s3').create_bucket(\n",
    "        Bucket=bucket,\n",
    "        CreateBucketConfiguration=create_bucket_config\n",
    "    )\n",
    "    return bucket\n",
    "\n",
    "bucket = create_bucket()"
   ]
  },
  {
   "cell_type": "code",
   "execution_count": 29,
   "id": "solid-establishment",
   "metadata": {},
   "outputs": [
    {
     "name": "stdout",
     "output_type": "stream",
     "text": [
      "{'ETag': '\"28cc539ba7a441d436433f68c66924ff\"',\n",
      " 'ResponseMetadata': {'HTTPHeaders': {'content-length': '0',\n",
      "                                      'date': 'Tue, 06 Apr 2021 19:14:33 GMT',\n",
      "                                      'etag': '\"28cc539ba7a441d436433f68c66924ff\"',\n",
      "                                      'server': 'AmazonS3',\n",
      "                                      'x-amz-id-2': 'UiBfqVQTeqHjjEEkEdYpmsVdwJ3BvZzGVLPaGqIqxtN1Yv8sUvUlobWhrQuHMN8Ktcp8gRlb1SU=',\n",
      "                                      'x-amz-request-id': '1XV2YFFFXQZ3AG82'},\n",
      "                      'HTTPStatusCode': 200,\n",
      "                      'HostId': 'UiBfqVQTeqHjjEEkEdYpmsVdwJ3BvZzGVLPaGqIqxtN1Yv8sUvUlobWhrQuHMN8Ktcp8gRlb1SU=',\n",
      "                      'RequestId': '1XV2YFFFXQZ3AG82',\n",
      "                      'RetryAttempts': 0}}\n"
     ]
    }
   ],
   "source": [
    "# put your encrypted data on the S3 bucket\n",
    "\n",
    "s3 = boto3.client('s3')\n",
    "input_prefix = \"data\" # will be used later as S3Prefix when calling CreateTrainingJob\n",
    "\n",
    "put_obj_res = s3.put_object(\n",
    "    Bucket=bucket, \n",
    "    Key=input_prefix +'/'+'a_chunk_of_secrets',\n",
    "    Body=encrypted_data)\n",
    "\n",
    "pp.pprint(put_obj_res)"
   ]
  },
  {
   "cell_type": "markdown",
   "id": "advised-newport",
   "metadata": {},
   "source": [
    "## Create a SageMaker training job with encrypted data\n",
    "Now you understand how to move your data from location $A$ to location $B$ encrypted. Let's see how this workflow can be merged into a SageMaker training job. What you want to achieve is, the static assets (model and data) need to be encrypted before you traffic them in the Internet. \n",
    "\n",
    "Let $M$ denote the customer KMS key hosted on KMS, $D$ the plaintext data key and $C$ the ciphertext data key. \n",
    "\n",
    "Suppose your training data is in an S3 bucket encrypted by the data key $D$. In order to use the training data, the SageMaker training job needs to be able to decrypt it. Of course you **would not** want to move $D$ (plaintext) around in the Internet and hand it to a SageMaker training job. Instead you will hand the encrypted data key (ciphertext) $C$ to the SageMaker training job. \n",
    "\n",
    "The SageMaker training job will do the following things with $C$\n",
    "- Decrypt it to plaintext using the KMS key $M$ and get $D$\n",
    "- Download the encrypted data from the S3 bucket and decrypt the data with $D$\n",
    "- Train the model and encrypt the model with $D$ \n",
    "- Send the encrypted model to an S3 bucket\n",
    "\n",
    "Of course, you could use a different data key to encrypt the model."
   ]
  },
  {
   "cell_type": "markdown",
   "id": "decreased-bennett",
   "metadata": {},
   "source": [
    "### How SageMaker uses your KMS key $M$\n",
    "\n",
    "Remember a managed service like SageMaker *assumes* an IAM role (service role) in your account and it procures the resources in your AWS account based on the permission of the service role. \n",
    "\n",
    "When you created $M$, key policy said that the IAM user (you) and the root user of your account are the only entities entitled to use $M$. So does SageMaker use $M$ then? \n",
    "\n",
    "There are two ways to achieve this:\n",
    "Suppose your SageMaker service role is called `example-role`.\n",
    "\n",
    "1. Update the key policy to allow `example-role` to use $M$\n",
    "2. Allow `example-role` to use $M$ via a **grant**\n",
    "\n",
    "Quote from the [KMS docs](https://docs.aws.amazon.com/kms/latest/developerguide/concepts.html#grant)\n",
    "\n",
    ">A grant is a policy instrument that allows AWS principals to use AWS KMS key in cryptographic operations. It also can let them view a CMK (DescribeKey) and create and manage grants. When authorizing access to a CMK, grants are considered along with key policies and IAM policies. Grants are often used for temporary permissions because you can create one, use its permissions, and delete it without changing your key policies or IAM policies. Because grants can be very specific, and are easy to create and revoke, they are often used to provide temporary permissions or more granular permissions.\n",
    "\n",
    "We will the grant approach this tutorial as it involves less activities on your key policy. In a prodcution environment, you should think of an activity on your key policy as *a big deal*. "
   ]
  },
  {
   "cell_type": "markdown",
   "id": "stable-montreal",
   "metadata": {},
   "source": [
    "First, get some helper functions for creating a SageMaker service role. "
   ]
  },
  {
   "cell_type": "code",
   "execution_count": null,
   "id": "conservative-bradford",
   "metadata": {},
   "outputs": [],
   "source": [
    "%%bash\n",
    "file=$(ls . | grep iam_helpers.py)\n",
    "\n",
    "if [ -f \"$file\" ]\n",
    "then\n",
    "    rm $file\n",
    "fi\n",
    "\n",
    "wget https://raw.githubusercontent.com/aws/amazon-sagemaker-examples/sagemaker-fundamentals/execution-role/iam_helpers.py"
   ]
  },
  {
   "cell_type": "code",
   "execution_count": null,
   "id": "occupied-occurrence",
   "metadata": {},
   "outputs": [],
   "source": [
    "# set up service role for SageMaker\n",
    "from iam_helpers import create_execution_role\n",
    "\n",
    "iam = boto3.client('iam')\n",
    "\n",
    "role_name = 'example-role'\n",
    "role_arn = create_execution_role(role_name=role_name)['Role']['Arn']\n",
    "\n",
    "iam.attach_role_policy(\n",
    "    RoleName=role_name,\n",
    "    PolicyArn='arn:aws:iam::aws:policy/AmazonSageMakerFullAccess'\n",
    ")"
   ]
  },
  {
   "cell_type": "markdown",
   "id": "emotional-cincinnati",
   "metadata": {},
   "source": [
    "Now, you will verify that `example-role` cannot use your master key $M$ at this point. The cell below is expected to raise an exception. "
   ]
  },
  {
   "cell_type": "code",
   "execution_count": null,
   "id": "anticipated-philippines",
   "metadata": {},
   "outputs": [],
   "source": [
    "# create a boto3 session with example-role\n",
    "import time\n",
    "\n",
    "def create_session(role_arn):\n",
    "    \"\"\"Create a boto3 session with an IAM role\"\"\"\n",
    "    now = str(time.time()).split('.')[0]\n",
    "    obj = boto3.client('sts').assume_role(\n",
    "        RoleArn=role_arn,\n",
    "        RoleSessionName=now\n",
    "    )\n",
    "\n",
    "    cred=obj['Credentials']\n",
    "    sess = boto3.session.Session(\n",
    "        aws_access_key_id=cred['AccessKeyId'],\n",
    "        aws_secret_access_key=cred['SecretAccessKey'],\n",
    "        aws_session_token=cred['SessionToken']\n",
    "        )\n",
    "    return sess\n",
    "\n",
    "sess = create_session(role_arn)\n",
    "\n",
    "try:\n",
    "    sess.client('kms').encrypt(\n",
    "        KeyId=kms_key,\n",
    "        Plaintext='it will not go through'.encode('utf-8')\n",
    "    )\n",
    "except Exception as e:\n",
    "    print(e)"
   ]
  },
  {
   "cell_type": "code",
   "execution_count": null,
   "id": "killing-speed",
   "metadata": {},
   "outputs": [],
   "source": [
    "del sess"
   ]
  },
  {
   "cell_type": "code",
   "execution_count": 30,
   "id": "final-feature",
   "metadata": {},
   "outputs": [
    {
     "ename": "NameError",
     "evalue": "name 'role_arn' is not defined",
     "output_type": "error",
     "traceback": [
      "\u001b[0;31m---------------------------------------------------------------------------\u001b[0m",
      "\u001b[0;31mNameError\u001b[0m                                 Traceback (most recent call last)",
      "\u001b[0;32m<ipython-input-30-1a0a0de49205>\u001b[0m in \u001b[0;36m<module>\u001b[0;34m\u001b[0m\n\u001b[1;32m      1\u001b[0m grant_res = kms.create_grant(\n\u001b[1;32m      2\u001b[0m     \u001b[0mKeyId\u001b[0m\u001b[0;34m=\u001b[0m\u001b[0mkms_key\u001b[0m\u001b[0;34m,\u001b[0m\u001b[0;34m\u001b[0m\u001b[0;34m\u001b[0m\u001b[0m\n\u001b[0;32m----> 3\u001b[0;31m     \u001b[0mGranteePrincipal\u001b[0m\u001b[0;34m=\u001b[0m\u001b[0mrole_arn\u001b[0m\u001b[0;34m,\u001b[0m\u001b[0;34m\u001b[0m\u001b[0;34m\u001b[0m\u001b[0m\n\u001b[0m\u001b[1;32m      4\u001b[0m     \u001b[0mOperations\u001b[0m\u001b[0;34m=\u001b[0m\u001b[0;34m[\u001b[0m\u001b[0;34m'Decrypt'\u001b[0m\u001b[0;34m,\u001b[0m \u001b[0;34m'Encrypt'\u001b[0m\u001b[0;34m]\u001b[0m \u001b[0;31m# allow example-role to use M to encrypt and decrypt\u001b[0m\u001b[0;34m\u001b[0m\u001b[0;34m\u001b[0m\u001b[0m\n\u001b[1;32m      5\u001b[0m )\n",
      "\u001b[0;31mNameError\u001b[0m: name 'role_arn' is not defined"
     ]
    }
   ],
   "source": [
    "grant_res = kms.create_grant(\n",
    "    KeyId=kms_key,\n",
    "    GranteePrincipal=role_arn, \n",
    "    Operations=['Decrypt', 'Encrypt'] # allow example-role to use M to encrypt and decrypt\n",
    ")\n",
    "\n",
    "pp.pprint(grant_res)"
   ]
  },
  {
   "cell_type": "code",
   "execution_count": null,
   "id": "endangered-season",
   "metadata": {},
   "outputs": [],
   "source": [
    "# Verify example-role has can use M\n",
    "sess = create_session(role_arn)\n",
    "enc_res = sess.client('kms').encrypt(\n",
    "        KeyId=kms_key,\n",
    "        Plaintext='it will go through this time'.encode('utf-8')\n",
    "    )\n",
    "\n",
    "pp.pprint(enc_res)"
   ]
  },
  {
   "cell_type": "code",
   "execution_count": null,
   "id": "duplicate-brave",
   "metadata": {},
   "outputs": [],
   "source": [
    "del sess"
   ]
  },
  {
   "cell_type": "code",
   "execution_count": 31,
   "id": "experienced-gregory",
   "metadata": {},
   "outputs": [
    {
     "data": {
      "text/plain": [
       "{'ResponseMetadata': {'RequestId': 'PF578V1B7N0WMPRG',\n",
       "  'HostId': 'vqyTUQq1qqpMFX5U8/VojN2EF7F2ZZauEG8SGYPuobiU+/7090ULz62BGUBinUSjAqCCSd+seok=',\n",
       "  'HTTPStatusCode': 200,\n",
       "  'HTTPHeaders': {'x-amz-id-2': 'vqyTUQq1qqpMFX5U8/VojN2EF7F2ZZauEG8SGYPuobiU+/7090ULz62BGUBinUSjAqCCSd+seok=',\n",
       "   'x-amz-request-id': 'PF578V1B7N0WMPRG',\n",
       "   'date': 'Tue, 06 Apr 2021 19:15:06 GMT',\n",
       "   'etag': '\"3428f69a48df1ce99d45ef13f11fb41e\"',\n",
       "   'content-length': '0',\n",
       "   'server': 'AmazonS3'},\n",
       "  'RetryAttempts': 0},\n",
       " 'ETag': '\"3428f69a48df1ce99d45ef13f11fb41e\"'}"
      ]
     },
     "execution_count": 31,
     "metadata": {},
     "output_type": "execute_result"
    }
   ],
   "source": [
    "# put C to the bucket\n",
    "s3.put_object(\n",
    "    Bucket=bucket,\n",
    "    Key='dont_look',\n",
    "    Body=ciphertext\n",
    ")"
   ]
  },
  {
   "cell_type": "markdown",
   "id": "answering-parks",
   "metadata": {},
   "source": [
    "### Build a training container\n",
    "You will build a training image here like in [the notebook on basics of `CreateTrainingJob`](https://github.com/hsl89/amazon-sagemaker-examples/blob/sagemaker-fundamentals/sagemaker-fundamentals/create-training-job/create_training_job.ipynb)"
   ]
  },
  {
   "cell_type": "code",
   "execution_count": null,
   "id": "statistical-module",
   "metadata": {},
   "outputs": [],
   "source": [
    "# View the Dockerfile\n",
    "!cat container_kms/Dockerfile"
   ]
  },
  {
   "cell_type": "code",
   "execution_count": null,
   "id": "encouraging-sailing",
   "metadata": {},
   "outputs": [],
   "source": [
    "# View the entrypoint script\n",
    "!pygmentize container_kms/train.py"
   ]
  },
  {
   "cell_type": "markdown",
   "id": "owned-adams",
   "metadata": {},
   "source": [
    "You will need to build your AWS credentials into the container, because you will need to decrypt your ciphertext data key within the container."
   ]
  },
  {
   "cell_type": "code",
   "execution_count": 14,
   "id": "fleet-group",
   "metadata": {},
   "outputs": [],
   "source": [
    "cred = boto3.Session().get_credentials()\n",
    "access_key, secret_key = cred.access_key, cred.secret_key\n",
    "region_name = boto3.Session().region_name"
   ]
  },
  {
   "cell_type": "code",
   "execution_count": 35,
   "id": "regional-young",
   "metadata": {},
   "outputs": [
    {
     "name": "stdout",
     "output_type": "stream",
     "text": [
      "Sending build context to Docker daemon  35.84kB\n",
      "Step 1/12 : FROM continuumio/miniconda3:latest\n",
      " ---> 52daacd3dd5d\n",
      "Step 2/12 : ARG ACCESS_KEY\n",
      " ---> Using cache\n",
      " ---> c87cbd2d2385\n",
      "Step 3/12 : ARG SECRET_KEY\n",
      " ---> Using cache\n",
      " ---> 02dd377a1a3a\n",
      "Step 4/12 : ARG REGION_NAME\n",
      " ---> Using cache\n",
      " ---> 7cd6c49d9440\n",
      "Step 5/12 : RUN mkdir -p /opt/ml\n",
      " ---> Using cache\n",
      " ---> b66a62e92adf\n",
      "Step 6/12 : ENV ACCESS_KEY=$ACCESS_KEY\n",
      " ---> Using cache\n",
      " ---> 44380a0bbf28\n",
      "Step 7/12 : ENV SECRET_KEY=$SECRET_KEY\n",
      " ---> Using cache\n",
      " ---> c03aaa930cfd\n",
      "Step 8/12 : ENV REGION_NAME=$REGION_NAME\n",
      " ---> Using cache\n",
      " ---> 1dc9bd190d33\n",
      "Step 9/12 : RUN pip install cryptography\n",
      " ---> Using cache\n",
      " ---> 60654dfca0aa\n",
      "Step 10/12 : RUN pip install boto3\n",
      " ---> Using cache\n",
      " ---> 4af00ca6e2d2\n",
      "Step 11/12 : COPY train.py /usr/bin/train\n",
      " ---> 0d9b2cdc2b81\n",
      "Step 12/12 : RUN chmod +x /usr/bin/train\n",
      " ---> Running in fef21e229ed6\n",
      "Removing intermediate container fef21e229ed6\n",
      " ---> 272fc7002d3a\n",
      "Successfully built 272fc7002d3a\n",
      "Successfully tagged example-image:latest\n"
     ]
    }
   ],
   "source": [
    "%%bash -s \"$access_key\" \"$secret_key\" \"$region_name\"\n",
    "\n",
    "# build the image\n",
    "cd container_kms/\n",
    "\n",
    "# tag it as example-image:latest\n",
    "docker build -t example-image:latest . --build-arg ACCESS_KEY=$1 \\\n",
    "    --build-arg SECRET_KEY=$2 --build-arg REGION_NAME=$3"
   ]
  },
  {
   "cell_type": "markdown",
   "id": "promising-subscription",
   "metadata": {},
   "source": [
    "## Test your container locally\n",
    "You programmed the entrypoint `container_kms/train.py` so that it gets to know the id of the master key as well as the S3 object key for the data key ciphertext via hyperparameters in `/opt/ml/input/config/hyperparameters.json`. That means you will need to [inject those hyperparamters to the container](https://github.com/aws/amazon-sagemaker-examples/blob/master/sagemaker-fundamentals/create-training-job/create_training_job_hyperparameter_injection.ipynb)\n",
    "\n",
    "You can checkout the [notebook on basics of create a training job](https://github.com/aws/amazon-sagemaker-examples/blob/master/sagemaker-fundamentals/create-training-job/create_training_job.ipynb)(section Test your container) for more details. \n",
    "\n",
    "To recap, you will mount `container_kms/local_test/ml` (OS) to `/opt/ml`(container) as a docker volume and exchange training information with the container there. "
   ]
  },
  {
   "cell_type": "markdown",
   "id": "grand-pendant",
   "metadata": {},
   "source": [
    "Look at what hyperparameters we used in `container_kms/train.py`. The hyperparameters are:"
   ]
  },
  {
   "cell_type": "code",
   "execution_count": 17,
   "id": "killing-eight",
   "metadata": {},
   "outputs": [
    {
     "name": "stdout",
     "output_type": "stream",
     "text": [
      "{'ciphertext_s3_key': 'dont_look',\n",
      " 'key_bucket': 'sagemaker-2021-04-01-00-17-41',\n",
      " 'kms_key_id': '0c8582da-46d4-4be6-af1c-5f3c1d41166b',\n",
      " 'train_channel': 'train',\n",
      " 'train_file': 'a_chunk_of_secrets'}\n"
     ]
    }
   ],
   "source": [
    "hyperparameters = {\n",
    "    \"ciphertext_s3_key\": \"dont_look\",\n",
    "    \"kms_key_id\": kms_key,\n",
    "    \"train_channel\": \"train\",\n",
    "    \"train_file\": \"a_chunk_of_secrets\",\n",
    "    \"key_bucket\": bucket\n",
    "}\n",
    "\n",
    "pp.pprint(hyperparameters)"
   ]
  },
  {
   "cell_type": "markdown",
   "id": "educated-vacation",
   "metadata": {},
   "source": [
    "The hyperparameters are made available to the training container at `/opt/ml/input/config/hyperparameter.json`, so you will write the hyperparameters to `container_kms/local_test/ml/input/config/hyperparameters.json` for local testing."
   ]
  },
  {
   "cell_type": "code",
   "execution_count": 18,
   "id": "operating-great",
   "metadata": {},
   "outputs": [],
   "source": [
    "import json\n",
    "\n",
    "with open(\"container_kms/local_test/ml/input/config/hyperparameters.json\", \"w\") as f:\n",
    "    json.dump(hyperparameters, f)"
   ]
  },
  {
   "cell_type": "code",
   "execution_count": null,
   "id": "romantic-geneva",
   "metadata": {},
   "outputs": [],
   "source": [
    "!cat container_kms/local_test/ml/input/config/hyperparameters.json"
   ]
  },
  {
   "cell_type": "markdown",
   "id": "toxic-atmosphere",
   "metadata": {},
   "source": [
    "Also, you need to have `container_kms/local_test/ml/input/train/a_chunk_of_secrets` available"
   ]
  },
  {
   "cell_type": "code",
   "execution_count": 32,
   "id": "finite-netherlands",
   "metadata": {},
   "outputs": [],
   "source": [
    "import os\n",
    "with open(\n",
    "    os.path.join('container_kms', 'local_test', 'ml', 'input', 'data', 'train', 'a_chunk_of_secrets'), 'wb') as f:\n",
    "    f.write(encrypted_data)"
   ]
  },
  {
   "cell_type": "code",
   "execution_count": null,
   "id": "convertible-palestinian",
   "metadata": {},
   "outputs": [],
   "source": [
    "!ls -R container_kms/local_test/ml"
   ]
  },
  {
   "cell_type": "code",
   "execution_count": null,
   "id": "fixed-property",
   "metadata": {},
   "outputs": [],
   "source": [
    "!python container_kms/local_test/test_container.py"
   ]
  },
  {
   "cell_type": "code",
   "execution_count": 33,
   "id": "individual-reality",
   "metadata": {},
   "outputs": [
    {
     "name": "stdout",
     "output_type": "stream",
     "text": [
      "An error occurred (RepositoryAlreadyExistsException) when calling the CreateRepository operation: The repository with name 'example-image' already exists in the registry with id '688520471316'\n"
     ]
    }
   ],
   "source": [
    "# create a repo in ECR called example-image\n",
    "ecr = boto3.client('ecr')\n",
    "\n",
    "try:\n",
    "    # The repository might already exist\n",
    "    # in your ECR\n",
    "    cr_res = ecr.create_repository(\n",
    "        repositoryName='example-image')\n",
    "    pp.pprint(cr_res)\n",
    "except Exception as e:\n",
    "    print(e)"
   ]
  },
  {
   "cell_type": "code",
   "execution_count": 37,
   "id": "practical-resistance",
   "metadata": {},
   "outputs": [
    {
     "name": "stdout",
     "output_type": "stream",
     "text": [
      "Login Succeeded\n",
      "The push refers to repository [688520471316.dkr.ecr.us-west-2.amazonaws.com/example-image]\n",
      "de7086155d0f: Preparing\n",
      "449fac52d6a6: Preparing\n",
      "6d038293e0e8: Preparing\n",
      "19c0b14789a7: Preparing\n",
      "e9d8037ebe1e: Preparing\n",
      "dfef8986f350: Preparing\n",
      "0553ab4c463e: Preparing\n",
      "f5600c6330da: Preparing\n",
      "f5600c6330da: Waiting\n",
      "0553ab4c463e: Waiting\n",
      "dfef8986f350: Waiting\n",
      "19c0b14789a7: Layer already exists\n",
      "e9d8037ebe1e: Layer already exists\n",
      "6d038293e0e8: Layer already exists\n",
      "dfef8986f350: Layer already exists\n",
      "0553ab4c463e: Layer already exists\n",
      "f5600c6330da: Layer already exists\n",
      "449fac52d6a6: Pushed\n",
      "de7086155d0f: Pushed\n",
      "latest: digest: sha256:4db8346101a2265a7b492b08ad20f31acf85a9d00b5b08acacaef8e8eb98f13f size: 1997\n"
     ]
    },
    {
     "name": "stderr",
     "output_type": "stream",
     "text": [
      "WARNING! Your password will be stored unencrypted in /home/ubuntu/.docker/config.json.\n",
      "Configure a credential helper to remove this warning. See\n",
      "https://docs.docker.com/engine/reference/commandline/login/#credentials-store\n",
      "\n"
     ]
    }
   ],
   "source": [
    "%%bash\n",
    "account=$(aws sts get-caller-identity --query Account | sed -e 's/^\"//' -e 's/\"$//')\n",
    "region=$(aws configure get region)\n",
    "ecr_account=${account}.dkr.ecr.${region}.amazonaws.com\n",
    "\n",
    "# Give docker your ECR login password\n",
    "aws ecr get-login-password --region $region | docker login --username AWS --password-stdin $ecr_account\n",
    "\n",
    "# Fullname of the repo\n",
    "fullname=$ecr_account/example-image:latest\n",
    "\n",
    "#echo $fullname\n",
    "# Tag the image with the fullname\n",
    "docker tag example-image:latest $fullname\n",
    "\n",
    "# Push to ECR\n",
    "docker push $fullname"
   ]
  },
  {
   "cell_type": "markdown",
   "id": "dutch-bacteria",
   "metadata": {},
   "source": [
    "Now you have all the ingredients for a SageMaker training job."
   ]
  },
  {
   "cell_type": "code",
   "execution_count": 42,
   "id": "centered-secret",
   "metadata": {},
   "outputs": [],
   "source": [
    "# configure a training job\n",
    "\n",
    "sm_cli = boto3.client('sagemaker')\n",
    "\n",
    "# input\n",
    "data_path = \"s3://\" + bucket + '/' + input_prefix\n",
    "\n",
    "# location that SageMaker saves the model artifacts\n",
    "output_prefix = 'output'\n",
    "output_path = \"s3://\" + bucket + '/' + output_prefix\n",
    "\n",
    "# ECR URI of your image\n",
    "region = boto3.Session().region_name\n",
    "account = account_id()\n",
    "image_uri = \"{}.dkr.ecr.{}.amazonaws.com/example-image:latest\".format(account, region)\n",
    "\n",
    "algorithm_specification = {\n",
    "    'TrainingImage': image_uri,\n",
    "    'TrainingInputMode': 'File',\n",
    "}\n",
    "\n",
    "\n",
    "input_data_config = [\n",
    "    {\n",
    "        'ChannelName': 'train',\n",
    "            'DataSource':{\n",
    "                'S3DataSource':{\n",
    "                    'S3DataType': 'S3Prefix',\n",
    "                    'S3Uri': data_path,\n",
    "                    'S3DataDistributionType': 'FullyReplicated',\n",
    "                }\n",
    "        }\n",
    "        \n",
    "    }\n",
    "]\n",
    "\n",
    "\n",
    "output_data_config = {\n",
    "    'S3OutputPath': output_path\n",
    "}\n",
    "\n",
    "resource_config = {\n",
    "    'InstanceType': 'ml.m5.large',\n",
    "    'InstanceCount':1,\n",
    "    'VolumeSizeInGB':10\n",
    "}\n",
    "\n",
    "stopping_condition={\n",
    "    'MaxRuntimeInSeconds':120,\n",
    "}\n",
    "\n",
    "\n",
    "enable_network_isolation=False"
   ]
  },
  {
   "cell_type": "code",
   "execution_count": 43,
   "id": "associate-polls",
   "metadata": {},
   "outputs": [],
   "source": [
    "# some helper functions to monitor the training job\n",
    "\n",
    "import time\n",
    "\n",
    "def monitor_training_job_status(training_job_name, log_freq=30):\n",
    "    \"\"\"Print out training job status every $log_freq seconds\"\"\"\n",
    "    stopped = False\n",
    "    while not stopped:\n",
    "        tj_state = sm_cli.describe_training_job(\n",
    "            TrainingJobName=training_job_name)\n",
    "        if tj_state['TrainingJobStatus'] in ['Completed', 'Stopped', 'Failed']:\n",
    "            stopped=True\n",
    "        else:\n",
    "            print(\"Training in progress\")\n",
    "            time.sleep(log_freq)\n",
    "\n",
    "    if tj_state['TrainingJobStatus'] == 'Failed':\n",
    "        print(\"Training job failed \")\n",
    "        print(\"Failed Reason: {}\".format(tj_state['FailureReason']))\n",
    "    else:\n",
    "        print(\"Training job completed\")\n",
    "    return\n",
    "\n",
    "\n",
    "def print_logs(training_job_name):\n",
    "    \"\"\"Print out stdout in the container from CloudWatch\"\"\"\n",
    "    logs = boto3.client('logs')\n",
    "\n",
    "    log_res= logs.describe_log_streams(\n",
    "        logGroupName='/aws/sagemaker/TrainingJobs',\n",
    "        logStreamNamePrefix=training_job_name)\n",
    "\n",
    "    for log_stream in log_res['logStreams']:\n",
    "        # get one log event\n",
    "        log_event = logs.get_log_events(\n",
    "            logGroupName='/aws/sagemaker/TrainingJobs',\n",
    "            logStreamName=log_stream['logStreamName'])\n",
    "\n",
    "        # print out messages from the log event\n",
    "        for ev in log_event['events']:\n",
    "            for k, v in ev.items():\n",
    "                if k == 'message':\n",
    "                    print(v)\n",
    "                    \n",
    "    return"
   ]
  },
  {
   "cell_type": "code",
   "execution_count": 44,
   "id": "accredited-liability",
   "metadata": {},
   "outputs": [],
   "source": [
    "# name training job\n",
    "training_job_name = 'example-training-job-{}'.format(current_time())\n",
    "\n",
    "ct_res = sm_cli.create_training_job(\n",
    "    TrainingJobName=training_job_name,\n",
    "    AlgorithmSpecification=algorithm_specification,\n",
    "    RoleArn=role_arn,\n",
    "    HyperParameters=hyperparameters, # use the same hyperparameters for local testing\n",
    "    InputDataConfig=input_data_config,\n",
    "    OutputDataConfig=output_data_config,\n",
    "    ResourceConfig=resource_config,\n",
    "    StoppingCondition=stopping_condition,\n",
    "    EnableNetworkIsolation=enable_network_isolation,\n",
    "    EnableManagedSpotTraining=False,\n",
    ")"
   ]
  },
  {
   "cell_type": "code",
   "execution_count": 45,
   "id": "cosmetic-genesis",
   "metadata": {},
   "outputs": [
    {
     "name": "stdout",
     "output_type": "stream",
     "text": [
      "Training in progress\n",
      "Training in progress\n",
      "Training in progress\n",
      "Training in progress\n",
      "Training in progress\n",
      "Training in progress\n",
      "Training job completed\n"
     ]
    }
   ],
   "source": [
    "monitor_training_job_status(training_job_name)"
   ]
  },
  {
   "cell_type": "code",
   "execution_count": null,
   "id": "industrial-antigua",
   "metadata": {},
   "outputs": [],
   "source": [
    "print_logs(training_job_name)"
   ]
  },
  {
   "cell_type": "markdown",
   "id": "photographic-documentation",
   "metadata": {},
   "source": [
    "## Review && Discussion\n",
    "\n",
    "In this notebook, you went through a typical workflow for creating a SageMaker training job with client-side encryption. You have\n",
    "* Generated a data key from a KMS key\n",
    "* Used the data key to encrypt your dataset before putting it to a SageMaker-accessible S3 bucket\n",
    "* Created a SageMaker training job and passed the encrypted data key to the training job\n",
    "* Decrypted the data key within the training container and used the decrypted data key to decrypted training data from the S3 bucket\n",
    "* Encrypted your trained model at the end of the training job\n",
    "\n",
    "\n",
    "A few things to keep in mind:\n",
    "* Encryption and decryption should happen at bytes level. There are numerous way to serialize a python objects, you used pickle module in this tutorial. But pickle might not be your best option in your production env (thanks to @seebees). Checkout the following content:\n",
    "    * https://nedbatchelder.com/blog/202006/pickles_nine_flaws.html\n",
    "    * https://lwn.net/Articles/595352/\n",
    "    * https://intoli.com/blog/dangerous-pickles/\n",
    "    \n",
    "* There are many technical details to take care of when doing client-side encryption. The purpose of this tutorial is to show you the basic concepts involved in client-side encryption. [AWS Encryption SDK](https://docs.aws.amazon.com/encryption-sdk/latest/developer-guide/introduction.html) is a library for client-side encryption and it can take care much of nuts and bolts for you. You are highly encouraged to explore it. "
   ]
  },
  {
   "cell_type": "markdown",
   "id": "architectural-funds",
   "metadata": {},
   "source": [
    "## Clean up\n",
    "You cannot delete the KMS key with one stroke. In this tutorial we created key for sake of running this tutorial, but in a production environment, deleting a key is a BIG deal, because once you deleled the KMS key, all data encryted under that key becomes unavailable to you. That's why you need to exercise extreme caution when deleting a key. Checkout the [section on deleting a KMS key](https://docs.aws.amazon.com/kms/latest/developerguide/deleting-keys.html) for more detail. \n",
    "\n",
    "You can schedule a key deletion in $X$ days by calling [kms:ScheduleKeyDeletion](https://boto3.amazonaws.com/v1/documentation/api/latest/reference/services/kms.html#KMS.Client.schedule_key_deletion).\n",
    "Once this API is called, you key status will be **Pending Deletion**. This is to remind you that you need to sort out all your data encrypted under this key in $X$ days and encrypted them using a different key. \n",
    "\n",
    "During those $X$ days, if you changed your mind and decided not to delete the key, you can call [kms:CancelKeyDeletion](https://boto3.amazonaws.com/v1/documentation/api/latest/reference/services/kms.html#KMS.Client.cancel_key_deletion) API. "
   ]
  },
  {
   "cell_type": "code",
   "execution_count": null,
   "id": "figured-scope",
   "metadata": {},
   "outputs": [],
   "source": [
    "def schedule_key_deletion(key_id, waiting_period):\n",
    "    \"\"\"Delete a key in $waiting_period days\n",
    "    Args:\n",
    "        key_id: id of the key to be deleted\n",
    "        waiting_period: number of days to wait before key deletion\n",
    "    \"\"\"\n",
    "    dk_res = kms.schedule_key_deletion(\n",
    "        KeyId=key_id,\n",
    "        PendingWindowInDays=waiting_period\n",
    "    )\n",
    "    \n",
    "    pp.pprint(dk_res)\n",
    "    return\n",
    "\n",
    "# call schedule_key_deletion if you want to delete the key\n",
    "# schedule_key_deletion(key_id=kms_key, waiting_period=7)"
   ]
  },
  {
   "cell_type": "code",
   "execution_count": null,
   "id": "distant-popularity",
   "metadata": {},
   "outputs": [],
   "source": [
    "def delete_force(bucket_name):\n",
    "    \"\"\"Helper function to delete a bucket\"\"\"\n",
    "    objs = s3.list_objects_v2(Bucket=bucket_name)['Contents']\n",
    "    for obj in objs:\n",
    "        s3.delete_object(\n",
    "            Bucket=bucket_name,\n",
    "            Key=obj['Key'])\n",
    "    \n",
    "    return s3.delete_bucket(Bucket=bucket_name)\n",
    "\n",
    "\n",
    "def delete_ecr_repo(repo_name):\n",
    "    \"\"\"Helper function to delete an ECR repo\"\"\"\n",
    "    ecr.delete_repository(\n",
    "        repositoryName=repo_name,\n",
    "        force=True\n",
    "    )\n",
    "    return"
   ]
  }
 ],
 "metadata": {
  "kernelspec": {
   "display_name": "Python 3",
   "language": "python",
   "name": "python3"
  },
  "language_info": {
   "codemirror_mode": {
    "name": "ipython",
    "version": 3
   },
   "file_extension": ".py",
   "mimetype": "text/x-python",
   "name": "python",
   "nbconvert_exporter": "python",
   "pygments_lexer": "ipython3",
   "version": "3.6.10"
  }
 },
 "nbformat": 4,
 "nbformat_minor": 5
}
