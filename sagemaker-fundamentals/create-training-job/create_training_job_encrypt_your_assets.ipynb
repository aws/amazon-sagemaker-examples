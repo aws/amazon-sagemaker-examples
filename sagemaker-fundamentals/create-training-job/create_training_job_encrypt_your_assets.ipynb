{
 "cells": [
  {
   "cell_type": "markdown",
   "metadata": {},
   "source": [
    "# Training Job with Encrypted Static Assets\n",
    "\n",
    "In the [notebook about creating a training job in VPC mode](https://github.com/aws/amazon-sagemaker-examples/blob/master/sagemaker-fundamentals/create-training-job/create_training_job_vpc.ipynb) you learnt how to create a SageMaker training job with network isolation. Network isolation enables you to protect your data and model from being intercepted by cyber pirates. \n",
    "\n",
    "![pirate](assets/pirate.jpg)"
   ]
  },
  {
   "cell_type": "markdown",
   "metadata": {},
   "source": [
    "Another way you can protect your static assets is to *encrypt* them before moving them from location A to location B. In this notebook, you will walk through a few techniques on that with the help of AWS Key Management Service [(AWS KMS)](https://docs.aws.amazon.com/kms/latest/developerguide/overview.html)."
   ]
  },
  {
   "cell_type": "markdown",
   "metadata": {},
   "source": [
    "The following materials are helpful to get you started if you are not familiar with cryptography:\n",
    "\n",
    "[Wikipedia page](https://en.wikipedia.org/wiki/Encryption)\n",
    "\n",
    "[Chapter 2 of GNU Privacy Handbook](https://www.gnupg.org/gph/en/manual.html)\n",
    "\n",
    "You are strongly encouraged to go through the [overview](https://docs.aws.amazon.com/kms/latest/developerguide/overview.html), [concepts](https://docs.aws.amazon.com/kms/latest/developerguide/concepts.html) and [get started](https://docs.aws.amazon.com/kms/latest/developerguide/getting-started.html) sections before going through this notebook. This will help you getting familiar with some terminologies we will be using later. \n",
    "\n",
    "Encryption is a wildly used and well-understood technology, in addition to the above introductory material, you can find many free lectures online. "
   ]
  },
  {
   "cell_type": "markdown",
   "metadata": {},
   "source": [
    "## Symmetric Ciphers\n",
    "We will focus on symmetric ciphers in this notebook. Quote from the GNU Privacy Handbook\n",
    "\n",
    "> A symmetric cipher is a cipher that uses the same key for both encryption and decryption. Two parties communicating using a symmetric cipher must agree on the key beforehand. Once they agree, the sender encrypts a message using the key, sends it to the receiver, and the receiver decrypts the message using the key. As an example, the German Enigma is a symmetric cipher, and daily keys were distributed as code books. Each day, a sending or receiving radio operator would consult his copy of the code book to find the day's key. Radio traffic for that day was then encrypted and decrypted using the day's key. Modern examples of symmetric ciphers include 3DES, Blowfish, and IDEA.\n",
    "\n"
   ]
  },
  {
   "cell_type": "markdown",
   "metadata": {},
   "source": [
    "## Environment to run this notebook\n",
    "There are many ways to "
   ]
  },
  {
   "cell_type": "markdown",
   "metadata": {},
   "source": [
    "## Outline of this notebook\n",
    "\n",
    "* Generate a symmetric customer master key (CMK)\n",
    "* Allow your SageMaker service role to use the CMK\n",
    "* Generate a data key from the CMK\n",
    "* Encrypt some data with the data key and upload the encrypted data to S3\n",
    "* Create a SageMaker service role\n",
    "* Build a training image \n",
    "* Create a SageMaker training job using the encrypted data\n",
    "* Verify that data retrieved from S3 is encrypted and SageMaker needs your data key to decrypt\n",
    "\n",
    "The process of using a data key to encrypt your data instead of using master key directly is called [**envelope encryption**](https://docs.aws.amazon.com/kms/latest/developerguide/concepts.html#enveloping)\n",
    "You can directly use the master key to encrypt your data, but by using a data key, you reduced the risk of [man-in-the-middle-attack](https://en.wikipedia.org/wiki/Man-in-the-middle_attack). \n",
    "We will discuss the use of data key in detail later. "
   ]
  },
  {
   "cell_type": "markdown",
   "metadata": {},
   "source": [
    "## Permissions\n",
    "The IAM user or IAM role running this notebook should have the following permissions\n",
    "\n",
    "* IAMFullAccess \n",
    "* AWSKeyManagementServicePowerUser\n",
    "* AmazonEC2ContainerRegistryFullAccess\n"
   ]
  },
  {
   "cell_type": "code",
   "execution_count": 2,
   "metadata": {},
   "outputs": [
    {
     "name": "stdout",
     "output_type": "stream",
     "text": [
      "/home/ubuntu/SageMaker/amazon-sagemaker-examples/sagemaker-fundamentals/create-training-job\n"
     ]
    }
   ],
   "source": [
    "!pwd"
   ]
  }
 ],
 "metadata": {
  "kernelspec": {
   "display_name": "Python 3",
   "language": "python",
   "name": "python3"
  },
  "language_info": {
   "codemirror_mode": {
    "name": "ipython",
    "version": 3
   },
   "file_extension": ".py",
   "mimetype": "text/x-python",
   "name": "python",
   "nbconvert_exporter": "python",
   "pygments_lexer": "ipython3",
   "version": "3.6.10"
  }
 },
 "nbformat": 4,
 "nbformat_minor": 4
}
