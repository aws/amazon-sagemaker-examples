{
 "cells": [
  {
   "cell_type": "markdown",
   "metadata": {},
   "source": [
    "<a id='07-nb'></a>\n",
    "\n",
    "# Music Recommender Part 7: Clean Up\n",
    "\n",
    "## Overview\n",
    "\n",
    "----\n",
    "### Clean up : Delete all Resources Created in the past 8 notebooks (nb 00-06)\n",
    "In the past notebooks we have created many Amazon Resources; represented by their ARNs : Amazon Resource Names.\n",
    "In order not to incur any cost in keeping those resources running, such as endpoints etc. We will use this notebook as a reminder to clean up and delete all the resources you have created in this music recommendation example.\n",
    "\n",
    "First we will read in all parameters saved in the 'music-rec' namespace as we went from one notebook to the next,\n",
    "second we will use a little utility under the `./code/demo_helpers.py` script file to actually delete all resources passed\n",
    "----\n",
    "### Contents\n",
    "- [Overview](00_overview_arch_data.ipynb)\n",
    "- [Part 1: Data Prep using Data Wrangler](01_music_dataprep.flow)\n",
    "- [Part 2a: Feature Store Creation - Tracks](02a_export_fg_tracks.ipynb)\n",
    "- [Part 2b: Feature Store Creation - User Preferences](02b_export_fg_5star_features.ipynb)\n",
    "- [Part 2c: Feature Store Creation - Ratings](02c_export_fg_ratings.ipynb)\n",
    "- [Part 3: Train Model with Debugger Hooks. Set Artifacts and Register Model.](03_train_model_lineage_registry_debugger.ipynb)\n",
    "- [Part 4: Deploy Model & Inference using Online Feature Store](04_deploy_infer_explain.ipynb)\n",
    "- [Part 5: Model Monitor](05_model_monitor.ipynb)\n",
    "- [Part 6: SageMaker Pipelines](06_pipeline.ipynb)\n",
    "- [Part 7: Resource Cleanup](07_clean_up.ipynb)"
   ]
  },
  {
   "cell_type": "code",
   "execution_count": null,
   "metadata": {},
   "outputs": [],
   "source": [
    "import json\n",
    "import boto3\n",
    "import pathlib\n",
    "import sagemaker\n",
    "import numpy as np\n",
    "import pandas as pd\n",
    "import awswrangler as wr\n",
    "\n",
    "from sagemaker.estimator import Estimator\n",
    "from sagemaker.workflow.pipeline import Pipeline\n",
    "from sagemaker.workflow.steps import CreateModelStep\n",
    "from sagemaker.sklearn.processing import SKLearnProcessor\n",
    "from sagemaker.workflow.step_collections import RegisterModel\n",
    "from sagemaker.workflow.steps import ProcessingStep, TrainingStep\n",
    "from sagemaker.processing import ProcessingInput, ProcessingOutput\n",
    "from sagemaker.workflow.parameters import ParameterInteger, ParameterFloat, ParameterString\n",
    "from sagemaker.feature_store.feature_group import FeatureGroup"
   ]
  },
  {
   "cell_type": "code",
   "execution_count": null,
   "metadata": {
    "scrolled": true
   },
   "outputs": [],
   "source": [
    "import sys\n",
    "import pprint\n",
    "sys.path.insert(1, './code')\n",
    "from parameter_store import ParameterStore\n",
    "\n",
    "ps = ParameterStore(verbose=False)\n",
    "\n",
    "parameters = ps.read('music-rec')\n",
    "\n",
    "bucket = parameters['bucket']\n",
    "prefix = parameters['prefix']\n",
    "ratings_data_source = parameters['ratings_data_source']\n",
    "tracks_data_source = parameters['tracks_data_source']\n",
    "val_data_uri = f\"s3://{bucket}/{prefix}/data/val/val_data.csv\"\n",
    "\n",
    "pipeline_endpoint_name = parameters['pipeline_endpoint_name']\n",
    "pipeline_name = parameters['pipeline_name']\n",
    "\n",
    "fg_name_tracks = parameters['fg_name_tracks']\n",
    "fg_name_ratings = parameters['fg_name_ratings']\n",
    "fg_name_user_preferences = parameters['fg_name_user_preferences']\n",
    "\n",
    "dw_ecrlist = parameters['dw_ecrlist']\n",
    "\n",
    "pipeline_name = parameters['pipeline_name']\n",
    "dataprep_pipeline_name = parameters['dataprep_pipeline_name']\n",
    "train_deploy_pipeline_name = parameters['train_deploy_pipeline_name']\n",
    "\n",
    "endpoint_name = parameters['endpoint_name']\n",
    "pipeline_endpoint_name = parameters['pipeline_endpoint_name']\n",
    "\n",
    "mpg_name = parameters['mpg_name']"
   ]
  },
  {
   "cell_type": "code",
   "execution_count": null,
   "metadata": {},
   "outputs": [],
   "source": [
    "region = boto3.Session().region_name\n",
    "boto3.setup_default_session(region_name=region)\n",
    "boto_session = boto3.Session(region_name=region)\n",
    "\n",
    "s3_client = boto3.client('s3', region_name=region)\n",
    "\n",
    "sagemaker_boto_client = boto_session.client('sagemaker')\n",
    "sagemaker_session = sagemaker.session.Session(\n",
    "    boto_session=boto_session,\n",
    "    sagemaker_client=sagemaker_boto_client)\n",
    "sagemaker_role = sagemaker.get_execution_role()\n",
    "\n",
    "account_id = boto3.client('sts').get_caller_identity()[\"Account\"]"
   ]
  },
  {
   "cell_type": "code",
   "execution_count": null,
   "metadata": {},
   "outputs": [],
   "source": [
    "# when demo_helpers.delete_project_resources() is ran it will delete all the resources created by this demo\n",
    "sys.path.insert(1, './code')\n",
    "import demo_helpers  # our custom set of functions\n",
    "\n",
    "\n",
    "def remove_all_resources():\n",
    "    demo_helpers.delete_project_resources(\n",
    "        sagemaker_boto_client=sagemaker_boto_client, \n",
    "        sagemaker_session=sagemaker_session,\n",
    "        endpoint_names=[pipeline_endpoint_name, endpoint_name],\n",
    "        pipeline_names=[pipeline_name, dataprep_pipeline_name, train_deploy_pipeline_name], \n",
    "        mpg_name=mpg_name,\n",
    "        feature_groups=[fg_name_ratings, fg_name_tracks, fg_name_user_preferences], \n",
    "        prefix=prefix,\n",
    "        delete_s3_objects=True,\n",
    "        bucket_name=bucket\n",
    "    )"
   ]
  },
  {
   "cell_type": "code",
   "execution_count": null,
   "metadata": {},
   "outputs": [],
   "source": [
    "# Uncomment the next line and run to delete all resources\n",
    "# remove_all_resources()"
   ]
  },
  {
   "cell_type": "code",
   "execution_count": null,
   "metadata": {},
   "outputs": [],
   "source": []
  }
 ],
 "metadata": {
  "instance_type": "ml.t3.medium",
  "kernelspec": {
   "display_name": "Python 3 (Data Science)",
   "language": "python",
   "name": "python3__SAGEMAKER_INTERNAL__arn:aws:sagemaker:us-east-2:429704687514:image/datascience-1.0"
  },
  "language_info": {
   "codemirror_mode": {
    "name": "ipython",
    "version": 3
   },
   "file_extension": ".py",
   "mimetype": "text/x-python",
   "name": "python",
   "nbconvert_exporter": "python",
   "pygments_lexer": "ipython3",
   "version": "3.7.10"
  }
 },
 "nbformat": 4,
 "nbformat_minor": 4
}
