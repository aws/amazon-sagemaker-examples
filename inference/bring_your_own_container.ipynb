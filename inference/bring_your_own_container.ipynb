{
 "cells": [
  {
   "cell_type": "markdown",
   "metadata": {},
   "source": [
    "# BYOC\n",
    "\n",
    "Examples on how to use your own model serving containers or extend pre-built containers on SageMaker."
   ]
  },
  {
   "cell_type": "markdown",
   "metadata": {},
   "source": [
    "## TensorFlow\n",
    "---\n",
    "\n",
    "### Elastic inference\n",
    "\n",
    "* [Using Amazon Elastic Inference with a pre-trained TensorFlow Serving model on SageMaker](../sagemaker-python-sdk/tensorflow_serving_using_elastic_inference_with_your_own_model/tensorflow_serving_pretrained_model_elastic_inference.ipynb)\n",
    "\n",
    "### TensorFlow Serving container\n",
    "\n",
    "* [Using the SageMaker TensorFlow Serving Container](../sagemaker-python-sdk/tensorflow_serving_container/tensorflow_serving_container.ipynb)\n",
    "\n"
   ]
  }
 ],
 "metadata": {
  "instance_type": "ml.t3.medium",
  "kernelspec": {
   "display_name": "Python 3 (Data Science)",
   "language": "python",
   "name": "python3__SAGEMAKER_INTERNAL__arn:aws:sagemaker:us-west-2:236514542706:image/datascience-1.0"
  },
  "language_info": {
   "codemirror_mode": {
    "name": "ipython",
    "version": 3
   },
   "file_extension": ".py",
   "mimetype": "text/x-python",
   "name": "python",
   "nbconvert_exporter": "python",
   "pygments_lexer": "ipython3",
   "version": "3.7.10"
  }
 },
 "nbformat": 4,
 "nbformat_minor": 4
}
