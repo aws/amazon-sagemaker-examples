{
 "cells": [
  {
   "cell_type": "markdown",
   "source": [
    "# SageMaker Pipeline - Local Mode\n",
    "\n",
    "This notebook demonstrates how to orchestrate SageMaker jobs locally using SageMaker Pipelines.\n",
    "\n",
    "Using a `LocalPipelineSession` object, you can now run your pipelines on your local machine before running them in the cloud.\n",
    "\n",
    "The `LocalPipelineSession` object is used while defining each pipeline step and when defining the complete Pipeline object. To run this pipeline in the cloud, each step along with the Pipeline object must be redefined using `PipelineSession`.\n",
    "\n",
    "Note: This notebook will not run in SageMaker Studio. You can run this on SageMaker Classic Notebook instances OR your local IDE."
   ],
   "metadata": {
    "collapsed": false,
    "pycharm": {
     "name": "#%% md\n"
    }
   }
  },
  {
   "cell_type": "markdown",
   "source": [
    "In this notebook, we will execute in our local enviornment a pipleine that will perform the following steps:\n",
    "\n",
    "* ProcessingStep by using `FrameworkProcessor`\n",
    "* TrainingStep by using an `Estimator` with a custom PyTorch container"
   ],
   "metadata": {
    "collapsed": false,
    "pycharm": {
     "name": "#%% md\n"
    }
   }
  },
  {
   "cell_type": "markdown",
   "source": [
    "## Dataset\n",
    "\n",
    "We are performing a Binary Classification using an anonymized dataset of transactions for classifying frauds:\n",
    "\n",
    "* 1 - Fraud\n",
    "* 0 - No Fraud"
   ],
   "metadata": {
    "collapsed": false,
    "pycharm": {
     "name": "#%% md\n"
    }
   }
  },
  {
   "cell_type": "markdown",
   "source": [
    "***"
   ],
   "metadata": {
    "collapsed": false,
    "pycharm": {
     "name": "#%% md\n"
    }
   }
  },
  {
   "cell_type": "markdown",
   "source": [
    "### Download Dataset"
   ],
   "metadata": {
    "collapsed": false,
    "pycharm": {
     "name": "#%% md\n"
    }
   }
  },
  {
   "cell_type": "code",
   "execution_count": null,
   "outputs": [],
   "source": [
    "! rm -rf ./data && mkdir -p ./data\n",
    "\n",
    "!curl https://s3.us-east-1.amazonaws.com/ee-assets-prod-us-east-1/modules/aab8e619f53f4d79b65d2272f3ee8de1/v1/datasets/fraud/data.zip -o ./data/data.zip"
   ],
   "metadata": {
    "collapsed": false,
    "pycharm": {
     "name": "#%%\n"
    }
   }
  },
  {
   "cell_type": "code",
   "execution_count": null,
   "outputs": [],
   "source": [
    "! unzip ./data/data.zip -d ./data"
   ],
   "metadata": {
    "collapsed": false,
    "pycharm": {
     "name": "#%%\n"
    }
   }
  },
  {
   "cell_type": "markdown",
   "source": [
    "## Install Requirements"
   ],
   "metadata": {
    "collapsed": false,
    "pycharm": {
     "name": "#%% md\n"
    }
   }
  },
  {
   "cell_type": "markdown",
   "source": [
    "## Build Container\n",
    "\n",
    "The Dockerfile defined is creating starting from the public torch 1.12.1 image, and by the usage of [sagemaker-training-toolkit](https://github.com/aws/sagemaker-training-toolkit) we are making our container compatibile for Amazon SageMaker\n",
    "\n",
    "You can use the automation script [build_image.sh](./code/build_image.sh). For more information, please read the [README](./code/README.md)"
   ],
   "metadata": {
    "collapsed": false,
    "pycharm": {
     "name": "#%% md\n"
    }
   }
  },
  {
   "cell_type": "code",
   "execution_count": null,
   "outputs": [],
   "source": [
    "! pygmentize ./code/training/Dockerfile"
   ],
   "metadata": {
    "collapsed": false,
    "pycharm": {
     "name": "#%%\n"
    }
   }
  },
  {
   "cell_type": "markdown",
   "source": [
    "## Part 1/3 - Setup\n",
    "Here we'll import some libraries and define some variables."
   ],
   "metadata": {
    "collapsed": false,
    "pycharm": {
     "name": "#%% md\n"
    }
   }
  },
  {
   "cell_type": "code",
   "execution_count": null,
   "outputs": [],
   "source": [
    "import boto3\n",
    "import json\n",
    "import logging\n",
    "import sagemaker\n",
    "from sagemaker.estimator import Estimator\n",
    "from sagemaker.inputs import TrainingInput\n",
    "from sagemaker.workflow.pipeline_context import LocalPipelineSession\n",
    "from sagemaker.processing import FrameworkProcessor, ProcessingInput, ProcessingOutput\n",
    "from sagemaker.sklearn.estimator import SKLearn\n",
    "from sagemaker.workflow.parameters import ParameterString\n",
    "from sagemaker.workflow.pipeline import Pipeline\n",
    "from sagemaker.workflow.steps import ProcessingStep, TrainingStep"
   ],
   "metadata": {
    "collapsed": false,
    "pycharm": {
     "name": "#%%\n"
    }
   }
  },
  {
   "cell_type": "code",
   "execution_count": null,
   "outputs": [],
   "source": [
    "logging.basicConfig(level=logging.INFO)\n",
    "LOGGER = logging.getLogger(__name__)"
   ],
   "metadata": {
    "collapsed": false,
    "pycharm": {
     "name": "#%%\n"
    }
   }
  },
  {
   "cell_type": "code",
   "execution_count": null,
   "outputs": [],
   "source": [
    "s3_client = boto3.client(\"s3\")"
   ],
   "metadata": {
    "collapsed": false,
    "pycharm": {
     "name": "#%%\n"
    }
   }
  },
  {
   "cell_type": "code",
   "execution_count": null,
   "outputs": [],
   "source": [
    "sagemaker_session = LocalPipelineSession()\n",
    "\n",
    "region = sagemaker_session.boto_region_name\n",
    "\n",
    "default_bucket = sagemaker_session.default_bucket()\n",
    "\n",
    "role = None"
   ],
   "metadata": {
    "collapsed": false,
    "pycharm": {
     "name": "#%%\n"
    }
   }
  },
  {
   "cell_type": "markdown",
   "source": [
    "<div class=\"alert alert-info\"> 💡 <strong> Set Execution Role for Permissions </strong>\n",
    "If you are running this notebook from a local machine, as opposed to within the SageMaker Jupyter environment, you will need to add the code below, after filling in the name for a valid SageMaker Execution Role. <br/>\n",
    "    <strong><a style=\"color: #0397a7\" href=\"https://console.aws.amazon.com/iam/home#/roles\">\n",
    "    <u>Click here to lookup IAM SageMaker Execution Roles</u></a>\n",
    "    The except block below will lookup the ARN from the role name.\n",
    "</strong>\n",
    "</div>"
   ],
   "metadata": {
    "collapsed": false,
    "pycharm": {
     "name": "#%% md\n"
    }
   }
  },
  {
   "cell_type": "code",
   "execution_count": null,
   "outputs": [],
   "source": [
    "if role == None:\n",
    "    role = sagemaker.get_execution_role()"
   ],
   "metadata": {
    "collapsed": false,
    "pycharm": {
     "name": "#%%\n"
    }
   }
  },
  {
   "cell_type": "markdown",
   "source": [
    "### Upload Dataset into an Amazon S3 Bucket"
   ],
   "metadata": {
    "collapsed": false,
    "pycharm": {
     "name": "#%% md\n"
    }
   }
  },
  {
   "cell_type": "code",
   "execution_count": null,
   "outputs": [],
   "source": [
    "s3_client.delete_object(Bucket=default_bucket, Key=\"data/input\")\n",
    "\n",
    "input_data = sagemaker_session.upload_data('./data/data.csv', key_prefix=\"data/input\")\n",
    "\n",
    "print(input_data)"
   ],
   "metadata": {
    "collapsed": false,
    "pycharm": {
     "name": "#%%\n"
    }
   }
  },
  {
   "cell_type": "markdown",
   "source": [
    "***"
   ],
   "metadata": {
    "collapsed": false,
    "pycharm": {
     "name": "#%% md\n"
    }
   }
  },
  {
   "cell_type": "markdown",
   "source": [
    "## Part 2/3 - Create Amazon SageMaker Pipeline"
   ],
   "metadata": {
    "collapsed": false,
    "pycharm": {
     "name": "#%% md\n"
    }
   }
  },
  {
   "cell_type": "markdown",
   "source": [
    "### Compress source code for installing additional python modules"
   ],
   "metadata": {
    "collapsed": false,
    "pycharm": {
     "name": "#%% md\n"
    }
   }
  },
  {
   "cell_type": "code",
   "execution_count": null,
   "outputs": [],
   "source": [
    "! cd ./code/training && \\\n",
    "  rm -rf ./../dist/training && \\\n",
    "  mkdir -p ./../dist/training && \\\n",
    "  tar --exclude='Dockerfile' --exclude='.dockerignore' -czvf ./../dist/training/sourcedir.tar.gz *"
   ],
   "metadata": {
    "collapsed": false,
    "pycharm": {
     "name": "#%%\n"
    }
   }
  },
  {
   "cell_type": "code",
   "execution_count": null,
   "outputs": [],
   "source": [
    "# Download the\n",
    "# clean the buckets first\n",
    "s3_client.delete_object(Bucket=default_bucket, Key=\"artifact/training\")\n",
    "\n",
    "code_path = sagemaker_session.upload_data('./code/dist/training/sourcedir.tar.gz', key_prefix=\"artifact/training\")\n",
    "\n",
    "LOGGER.info(code_path)"
   ],
   "metadata": {
    "collapsed": false,
    "pycharm": {
     "name": "#%%\n"
    }
   }
  },
  {
   "cell_type": "code",
   "execution_count": null,
   "outputs": [],
   "source": [
    "! cd ./code/processing && \\\n",
    "  rm -rf ./../dist/processing && \\\n",
    "  mkdir -p ./../dist/processing && \\\n",
    "  tar -czvf ./../dist/processing/sourcedir.tar.gz *"
   ],
   "metadata": {
    "collapsed": false,
    "pycharm": {
     "name": "#%%\n"
    }
   }
  },
  {
   "cell_type": "code",
   "execution_count": null,
   "outputs": [],
   "source": [
    "# Download the\n",
    "# clean the buckets first\n",
    "s3_client.delete_object(Bucket=default_bucket, Key=\"artifact/processing\")\n",
    "\n",
    "code_path = sagemaker_session.upload_data('./code/dist/processing/sourcedir.tar.gz', key_prefix=\"artifact/processing\")\n",
    "\n",
    "LOGGER.info(code_path)"
   ],
   "metadata": {
    "collapsed": false,
    "pycharm": {
     "name": "#%%\n"
    }
   }
  },
  {
   "cell_type": "markdown",
   "source": [
    "***"
   ],
   "metadata": {
    "collapsed": false,
    "pycharm": {
     "name": "#%% md\n"
    }
   }
  },
  {
   "cell_type": "markdown",
   "source": [
    "### Global Parameters"
   ],
   "metadata": {
    "collapsed": false,
    "pycharm": {
     "name": "#%% md\n"
    }
   }
  },
  {
   "cell_type": "code",
   "execution_count": null,
   "outputs": [],
   "source": [
    "processing_artifact_path = \"artifact/processing\"\n",
    "processing_artifact_name = \"sourcedir.tar.gz\"\n",
    "processing_framework_version = \"0.23-1\"\n",
    "processing_instance_count = 1\n",
    "processing_input_files_path = \"data/input\"\n",
    "processing_output_files_path = \"data/output\"\n",
    "\n",
    "training_image_name = \"torch-1.12.1\"\n",
    "training_image_version = \"latest\"\n",
    "training_artifact_path = \"artifact/training\"\n",
    "training_artifact_name = \"sourcedir.tar.gz\"\n",
    "training_output_files_path = \"models\"\n",
    "training_python_version = \"py37\"\n",
    "training_instance_count = 1\n",
    "training_hyperparameters = {\n",
    "    \"epochs\": 6,\n",
    "    \"learning_rate\": 1.34e-4,\n",
    "    \"batch_size\": 100\n",
    "}"
   ],
   "metadata": {
    "collapsed": false,
    "pycharm": {
     "name": "#%%\n"
    }
   }
  },
  {
   "cell_type": "markdown",
   "source": [
    "### Utility methods"
   ],
   "metadata": {
    "collapsed": false,
    "pycharm": {
     "name": "#%% md\n"
    }
   }
  },
  {
   "cell_type": "code",
   "execution_count": null,
   "outputs": [],
   "source": [
    "def json_encode_hyperparameters(hyperparameters):\n",
    "    return {str(k): json.dumps(v) for (k, v) in hyperparameters.items()}"
   ],
   "metadata": {
    "collapsed": false,
    "pycharm": {
     "name": "#%%\n"
    }
   }
  },
  {
   "cell_type": "markdown",
   "source": [
    "***"
   ],
   "metadata": {
    "collapsed": false,
    "pycharm": {
     "name": "#%% md\n"
    }
   }
  },
  {
   "cell_type": "markdown",
   "source": [
    "### Pipeline Parameters"
   ],
   "metadata": {
    "collapsed": false,
    "pycharm": {
     "name": "#%% md\n"
    }
   }
  },
  {
   "cell_type": "code",
   "execution_count": null,
   "outputs": [],
   "source": [
    "processing_instance_type = ParameterString(\n",
    "    name=\"ProcessingInstanceType\", default_value=\"ml.t3.large\"\n",
    ")\n",
    "\n",
    "training_instance_type = ParameterString(\n",
    "    name=\"TrainingInstanceType\", default_value=\"ml.m5.large\"\n",
    ")"
   ],
   "metadata": {
    "collapsed": false,
    "pycharm": {
     "name": "#%%\n"
    }
   }
  },
  {
   "cell_type": "markdown",
   "source": [
    "#### SageMaker Processing Step"
   ],
   "metadata": {
    "collapsed": false,
    "pycharm": {
     "name": "#%% md\n"
    }
   }
  },
  {
   "cell_type": "code",
   "execution_count": null,
   "outputs": [],
   "source": [
    "processing_inputs = [\n",
    "        ProcessingInput(\n",
    "            source=\"s3://{}/{}\".format(default_bucket, processing_input_files_path),\n",
    "            destination=\"/opt/ml/processing/input\"\n",
    "        )\n",
    "]\n",
    "\n",
    "processing_outputs = [\n",
    "    ProcessingOutput(output_name=\"output\",\n",
    "                     source=\"/opt/ml/processing/output\",\n",
    "                     destination=\"s3://{}/{}\".format(default_bucket, processing_output_files_path))]\n",
    "\n",
    "processing_source_dir = \"s3://{}/{}/{}\".format(\n",
    "        default_bucket,\n",
    "        processing_artifact_path,\n",
    "        processing_artifact_name\n",
    ")"
   ],
   "metadata": {
    "collapsed": false,
    "pycharm": {
     "name": "#%%\n"
    }
   }
  },
  {
   "cell_type": "code",
   "execution_count": null,
   "outputs": [],
   "source": [
    "processor = FrameworkProcessor(\n",
    "        estimator_cls=SKLearn,\n",
    "        framework_version=processing_framework_version,\n",
    "        role=role,\n",
    "        instance_count=processing_instance_count,\n",
    "        instance_type=processing_instance_type,\n",
    "        sagemaker_session=sagemaker_session\n",
    ")\n",
    "\n",
    "run_args = processor.get_run_args(\n",
    "    \"processing.py\",\n",
    "    source_dir=processing_source_dir,\n",
    "    inputs=processing_inputs,\n",
    "    outputs=processing_outputs\n",
    ")"
   ],
   "metadata": {
    "collapsed": false,
    "pycharm": {
     "name": "#%%\n"
    }
   }
  },
  {
   "cell_type": "code",
   "execution_count": null,
   "outputs": [],
   "source": [
    "step_process = ProcessingStep(\n",
    "        name=\"ProcessData\",\n",
    "        code=run_args.code,\n",
    "        processor=processor,\n",
    "        inputs=run_args.inputs,\n",
    "        outputs=run_args.outputs\n",
    ")"
   ],
   "metadata": {
    "collapsed": false,
    "pycharm": {
     "name": "#%%\n"
    }
   }
  },
  {
   "cell_type": "markdown",
   "source": [
    "***"
   ],
   "metadata": {
    "collapsed": false,
    "pycharm": {
     "name": "#%% md\n"
    }
   }
  },
  {
   "cell_type": "markdown",
   "source": [
    "#### SageMaker Training Step"
   ],
   "metadata": {
    "collapsed": false,
    "pycharm": {
     "name": "#%% md\n"
    }
   }
  },
  {
   "cell_type": "code",
   "execution_count": null,
   "outputs": [],
   "source": [
    "source_dir = \"s3://{}/{}/{}\".format(\n",
    "        default_bucket,\n",
    "        training_artifact_path,\n",
    "        training_artifact_name\n",
    ")\n",
    "\n",
    "training_hyperparameters[\"sagemaker_program\"] = \"train.py\"\n",
    "training_hyperparameters[\"sagemaker_submit_directory\"] = source_dir"
   ],
   "metadata": {
    "collapsed": false,
    "pycharm": {
     "name": "#%%\n"
    }
   }
  },
  {
   "cell_type": "code",
   "execution_count": null,
   "outputs": [],
   "source": [
    "training_input = TrainingInput(\n",
    "    s3_data=\"s3://{}/{}/train\".format(default_bucket, processing_output_files_path),\n",
    "    content_type=\"text/csv\"\n",
    ")\n",
    "\n",
    "test_input = TrainingInput(\n",
    "    s3_data=\"s3://{}/{}/test\".format(default_bucket, processing_output_files_path),\n",
    "    content_type=\"text/csv\"\n",
    ")"
   ],
   "metadata": {
    "collapsed": false,
    "pycharm": {
     "name": "#%%\n"
    }
   }
  },
  {
   "cell_type": "code",
   "execution_count": null,
   "outputs": [],
   "source": [
    "output_path = \"s3://{}/{}\".format(\n",
    "        default_bucket,\n",
    "        training_output_files_path\n",
    ")"
   ],
   "metadata": {
    "collapsed": false,
    "pycharm": {
     "name": "#%%\n"
    }
   }
  },
  {
   "cell_type": "markdown",
   "source": [
    "##### Get ECR image uri"
   ],
   "metadata": {
    "collapsed": false,
    "pycharm": {
     "name": "#%% md\n"
    }
   }
  },
  {
   "cell_type": "code",
   "execution_count": null,
   "outputs": [],
   "source": [
    "container = \"{}.dkr.ecr.{}.amazonaws.com/{}:{}\".format(\n",
    "        boto3.client('sts').get_caller_identity().get('Account'),\n",
    "        boto3.session.Session().region_name,\n",
    "        training_image_name,\n",
    "        training_image_version)\n",
    "\n",
    "print(container)"
   ],
   "metadata": {
    "collapsed": false,
    "pycharm": {
     "name": "#%%\n"
    }
   }
  },
  {
   "cell_type": "code",
   "execution_count": null,
   "outputs": [],
   "source": [
    "estimator = Estimator(\n",
    "        image_uri=container,\n",
    "        output_path=output_path,\n",
    "        hyperparameters=json_encode_hyperparameters(training_hyperparameters),\n",
    "        enable_sagemaker_metrics=True,\n",
    "        role=role,\n",
    "        instance_count=training_instance_count,\n",
    "        instance_type=training_instance_type,\n",
    "        disable_profiler=True\n",
    ")"
   ],
   "metadata": {
    "collapsed": false,
    "pycharm": {
     "name": "#%%\n"
    }
   }
  },
  {
   "cell_type": "code",
   "execution_count": null,
   "outputs": [],
   "source": [
    "step_train = TrainingStep(\n",
    "        depends_on=[step_process],\n",
    "        name=\"TrainModel\",\n",
    "        estimator=estimator,\n",
    "        inputs={\n",
    "            \"train\": training_input,\n",
    "            \"test\": test_input\n",
    "        }\n",
    ")"
   ],
   "metadata": {
    "collapsed": false,
    "pycharm": {
     "name": "#%%\n"
    }
   }
  },
  {
   "cell_type": "markdown",
   "source": [
    "***"
   ],
   "metadata": {
    "collapsed": false,
    "pycharm": {
     "name": "#%% md\n"
    }
   }
  },
  {
   "cell_type": "markdown",
   "source": [
    "#### Pipeline definition"
   ],
   "metadata": {
    "collapsed": false,
    "pycharm": {
     "name": "#%% md\n"
    }
   }
  },
  {
   "cell_type": "code",
   "execution_count": null,
   "outputs": [],
   "source": [
    "pipeline = Pipeline(\n",
    "    name=\"FraudTrainingPipeline\",\n",
    "    parameters=[\n",
    "        processing_instance_type,\n",
    "        training_instance_type\n",
    "    ],\n",
    "    steps=[\n",
    "        step_process,\n",
    "        step_train\n",
    "    ],\n",
    "    sagemaker_session=sagemaker_session\n",
    ")"
   ],
   "metadata": {
    "collapsed": false,
    "pycharm": {
     "name": "#%%\n"
    }
   }
  },
  {
   "cell_type": "code",
   "execution_count": null,
   "outputs": [],
   "source": [
    "pipeline.upsert(role_arn=role)"
   ],
   "metadata": {
    "collapsed": false,
    "pycharm": {
     "name": "#%%\n"
    }
   }
  },
  {
   "cell_type": "code",
   "execution_count": null,
   "outputs": [],
   "source": [
    "json.loads(pipeline.definition())"
   ],
   "metadata": {
    "collapsed": false,
    "pycharm": {
     "name": "#%%\n"
    }
   }
  },
  {
   "cell_type": "markdown",
   "source": [
    "***"
   ],
   "metadata": {
    "collapsed": false,
    "pycharm": {
     "name": "#%% md\n"
    }
   }
  },
  {
   "cell_type": "markdown",
   "source": [
    "## Part 3/3 - Run SageMaker Pipeline"
   ],
   "metadata": {
    "collapsed": false,
    "pycharm": {
     "name": "#%% md\n"
    }
   }
  },
  {
   "cell_type": "code",
   "execution_count": null,
   "outputs": [],
   "source": [
    "execution = pipeline.start(\n",
    "    parameters={\n",
    "        \"ProcessingInstanceType\": \"local\",\n",
    "        \"TrainingInstanceType\": \"local\"\n",
    "    }\n",
    ")"
   ],
   "metadata": {
    "collapsed": false,
    "pycharm": {
     "name": "#%%\n"
    }
   }
  },
  {
   "cell_type": "code",
   "execution_count": null,
   "outputs": [],
   "source": [
    "execution.describe()"
   ],
   "metadata": {
    "collapsed": false,
    "pycharm": {
     "name": "#%%\n"
    }
   }
  },
  {
   "cell_type": "code",
   "execution_count": null,
   "outputs": [],
   "source": [
    "execution.list_steps()"
   ],
   "metadata": {
    "collapsed": false,
    "pycharm": {
     "name": "#%%\n"
    }
   }
  }
 ],
 "metadata": {
  "instance_type": "ml.t3.medium",
  "interpreter": {
   "hash": "aee8b7b246df8f9039afb4144a1f6fd8d2ca17a180786b69acc140d282b71a49"
  },
  "kernelspec": {
   "name": "python3",
   "language": "python",
   "display_name": "Python 3 (ipykernel)"
  },
  "language_info": {
   "codemirror_mode": {
    "name": "ipython",
    "version": 3
   },
   "file_extension": ".py",
   "mimetype": "text/x-python",
   "name": "python",
   "nbconvert_exporter": "python",
   "pygments_lexer": "ipython3",
   "version": "3.7.10"
  }
 },
 "nbformat": 4,
 "nbformat_minor": 4
}