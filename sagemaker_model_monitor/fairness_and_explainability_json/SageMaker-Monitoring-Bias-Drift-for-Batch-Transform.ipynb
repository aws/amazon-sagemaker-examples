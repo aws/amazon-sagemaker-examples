{
 "cells": [
  {
   "cell_type": "markdown",
   "id": "c8fed5e9-c09d-4b46-97fb-a4c02a0406f1",
   "metadata": {},
   "source": [
    "# Amazon SageMaker Clarify Model Bias Monitor for Batch Transform - JSON Format"
   ]
  },
  {
   "cell_type": "markdown",
   "id": "2809bd54-e139-4b94-ae51-fb11c3b2fd94",
   "metadata": {},
   "source": [
    "---\n",
    "\n",
    "This notebook's CI test result for us-west-2 is as follows. CI test results in other regions can be found at the end of the notebook.\n",
    "\n",
    "![This us-west-2 badge failed to load. Check your device's internet connectivity, otherwise the service is currently unavailable](https://prod.us-west-2.tcx-beacon.docs.aws.dev/sagemaker-nb/us-west-2/sagemaker_model_monitor|fairness_and_explainability_json|SageMaker-Monitoring-Bias-Drift-for-Batch-Transform.ipynb)\n",
    "\n",
    "---"
   ]
  },
  {
   "cell_type": "markdown",
   "id": "b34e2a6c-85b0-4057-8dc7-e23b7d872f79",
   "metadata": {},
   "source": [
    "## Runtime\n",
    "\n",
    "This notebook takes approximately 60 minutes to run."
   ]
  },
  {
   "cell_type": "markdown",
   "id": "6441b171-4921-4f22-9104-92d59a73da31",
   "metadata": {},
   "source": [
    "## Contents\n",
    "\n",
    "* [Introduction](#Introduction)\n",
    "* [General Setup](#General-Setup)\n",
    "    * [Imports](#Imports)\n",
    "    * [Handful of configuration](#Handful-of-configuration)\n",
    "    * [Data files](#Data-files)\n",
    "    * [SageMaker model](#SageMaker-model)\n",
    "* [Batch Transform Job](#Batch-Transform-Job)\n",
    "    * [Captured data](#Captured-data)\n",
    "    * [Transform output](#Transform-output)\n",
    "* [Ground Truth Data](#Ground-Truth-Data)\n",
    "* [Model Bias Monitor](#Model-Bias-Monitor)\n",
    "    * [Baselining job](#Baselining-job)\n",
    "        * [Configurations](#Configurations)\n",
    "        * [Kick off baselining job](#Kick-off-baselining-job)\n",
    "    * [Monitoring Schedule](#Monitoring-Schedule)\n",
    "        * [Wait for the first execution](#Wait-for-the-first-execution)\n",
    "        * [Wait for the execution to finish](#Wait-for-the-execution-to-finish)\n",
    "        * [Merged data](#Merged-data)\n",
    "        * [Inspect execution results](#Inspect-execution-results)\n",
    "* [Cleanup](#Cleanup)"
   ]
  },
  {
   "cell_type": "markdown",
   "id": "1ea61cef-1e40-4d2f-ba58-7f8bbd55d258",
   "metadata": {},
   "source": [
    "## Introduction"
   ]
  },
  {
   "cell_type": "markdown",
   "id": "b8fd9f7a-f943-4db4-ac5c-22a928312593",
   "metadata": {},
   "source": [
    "[Amazon SageMaker Model Monitor](https://docs.aws.amazon.com/sagemaker/latest/dg/model-monitor.html) continuously monitors the quality of Amazon SageMaker machine learning models in production. It enables developers to set alerts for when there are deviations in the model quality. Early and pro-active detection of these deviations enables corrective actions, such as retraining models, auditing upstream systems, or fixing data quality issues without having to monitor models manually or build additional tooling. \n",
    "\n",
    "[Amazon SageMaker Clarify Model Bias Monitor](https://docs.aws.amazon.com/sagemaker/latest/dg/clarify-model-monitor-bias-drift.html) is a model monitor that helps data scientists and ML engineers monitor predictions for bias on a regular basis. Bias can be introduced or exacerbated in deployed ML models when the training data differs from the data that the model sees during deployment (that is, the live data). These kinds of changes in the live data distribution might be temporary (for example, due to some short-lived, real-world events) or permanent. In either case, it might be important to detect these changes. For example, the outputs of a model for predicting home prices can become biased if the mortgage rates used to train the model differ from current, real-world mortgage rates. With bias drift detection capabilities in model monitor, when SageMaker detects bias beyond a certain threshold, it automatically generates metrics that you can view in SageMaker Studio and through Amazon CloudWatch alerts. \n",
    "\n",
    "This notebook demonstrates the process for setting up a model monitor for continuous monitoring of bias drift of the data and model used by a regularly running [SageMaker Batch Transform](https://docs.aws.amazon.com/sagemaker/latest/dg/batch-transform.html) job. The model input and output are in [SageMaker JSON Lines dense format](https://docs.aws.amazon.com/sagemaker/latest/dg/cdf-inference.html#common-in-formats).\n",
    "\n",
    "In general, you can use the model bias monitor for batch transform in this way,\n",
    "\n",
    "1. Schedule a model bias monitor to monitor a data capture S3 location and a ground truth S3 location\n",
    "1. Regularly run transform jobs with data capture enabled, the jobs save captured data to the data capture S3 URI\n",
    "1. Regularly label the captured data, and then upload the ground truth labels to the ground truth S3 URI\n",
    "\n",
    "The monitor executes processing jobs regularly to merge the captured data and ground truth data, do bias analysis for the merged data, and then generate analysis reports and publish metrics to CloudWatch."
   ]
  },
  {
   "cell_type": "markdown",
   "id": "1a7fd45c-f969-4153-b8d0-c66bbdfc5d2c",
   "metadata": {},
   "source": [
    "## General Setup"
   ]
  },
  {
   "cell_type": "markdown",
   "id": "c982d121-c590-42f9-9e8b-8864e08d4dd6",
   "metadata": {},
   "source": [
    "The notebook uses the [SageMaker Python SDK](https://github.com/aws/sagemaker-python-sdk). The following cell upgrades the SDK and its dependencies. Then you may need to restart the kernel and rerun the notebook to pick up the up-to-date APIs, if the notebook is executed in the SageMaker Studio."
   ]
  },
  {
   "cell_type": "code",
   "execution_count": 1,
   "id": "ec6b97c9-aedd-43f7-9bca-b2dfe9fb0e96",
   "metadata": {
    "tags": []
   },
   "outputs": [
    {
     "name": "stdout",
     "output_type": "stream",
     "text": [
      "\u001b[33mWARNING: Ignoring invalid distribution -otocore (/local/home/zicanl/.virtualenvs/venv/lib/python3.9/site-packages)\u001b[0m\u001b[33m\n",
      "\u001b[0m\u001b[33mWARNING: Ignoring invalid distribution -otocore (/local/home/zicanl/.virtualenvs/venv/lib/python3.9/site-packages)\u001b[0m\u001b[33m\n",
      "\u001b[0mRequirement already satisfied: sagemaker in /local/home/zicanl/.virtualenvs/venv/lib/python3.9/site-packages (2.203.1)\n",
      "Requirement already satisfied: attrs<24,>=23.1.0 in /local/home/zicanl/.virtualenvs/venv/lib/python3.9/site-packages (from sagemaker) (23.1.0)\n",
      "Requirement already satisfied: numpy<2.0,>=1.9.0 in /local/home/zicanl/.virtualenvs/venv/lib/python3.9/site-packages (from sagemaker) (1.24.3)\n",
      "Requirement already satisfied: requests in /local/home/zicanl/.virtualenvs/venv/lib/python3.9/site-packages (from sagemaker) (2.28.2)\n",
      "Requirement already satisfied: fastapi==0.95.2 in /local/home/zicanl/.virtualenvs/venv/lib/python3.9/site-packages (from sagemaker) (0.95.2)\n",
      "Requirement already satisfied: cloudpickle==2.2.1 in /local/home/zicanl/.virtualenvs/venv/lib/python3.9/site-packages (from sagemaker) (2.2.1)\n",
      "Requirement already satisfied: psutil in /local/home/zicanl/.virtualenvs/venv/lib/python3.9/site-packages (from sagemaker) (5.9.4)\n",
      "Requirement already satisfied: jsonschema in /local/home/zicanl/.virtualenvs/venv/lib/python3.9/site-packages (from sagemaker) (4.19.0)\n",
      "Requirement already satisfied: docker in /local/home/zicanl/.virtualenvs/venv/lib/python3.9/site-packages (from sagemaker) (6.1.3)\n",
      "Requirement already satisfied: boto3<2.0,>=1.33.3 in /local/home/zicanl/.virtualenvs/venv/lib/python3.9/site-packages (from sagemaker) (1.34.22)\n",
      "Requirement already satisfied: PyYAML~=6.0 in /local/home/zicanl/.virtualenvs/venv/lib/python3.9/site-packages (from sagemaker) (6.0)\n",
      "Requirement already satisfied: tblib<3,>=1.7.0 in /local/home/zicanl/.virtualenvs/venv/lib/python3.9/site-packages (from sagemaker) (1.7.0)\n",
      "Requirement already satisfied: google-pasta in /local/home/zicanl/.virtualenvs/venv/lib/python3.9/site-packages (from sagemaker) (0.2.0)\n",
      "Requirement already satisfied: pathos in /local/home/zicanl/.virtualenvs/venv/lib/python3.9/site-packages (from sagemaker) (0.3.1)\n",
      "Requirement already satisfied: tqdm in /local/home/zicanl/.virtualenvs/venv/lib/python3.9/site-packages (from sagemaker) (4.66.1)\n",
      "Requirement already satisfied: platformdirs in /local/home/zicanl/.virtualenvs/venv/lib/python3.9/site-packages (from sagemaker) (3.10.0)\n",
      "Requirement already satisfied: pandas in /local/home/zicanl/.virtualenvs/venv/lib/python3.9/site-packages (from sagemaker) (2.1.0)\n",
      "Requirement already satisfied: uvicorn==0.22.0 in /local/home/zicanl/.virtualenvs/venv/lib/python3.9/site-packages (from sagemaker) (0.22.0)\n",
      "Requirement already satisfied: packaging>=20.0 in /local/home/zicanl/.virtualenvs/venv/lib/python3.9/site-packages (from sagemaker) (23.1)\n",
      "Requirement already satisfied: protobuf<5.0,>=3.12 in /local/home/zicanl/.virtualenvs/venv/lib/python3.9/site-packages (from sagemaker) (3.20.3)\n",
      "Requirement already satisfied: smdebug-rulesconfig==1.0.1 in /local/home/zicanl/.virtualenvs/venv/lib/python3.9/site-packages (from sagemaker) (1.0.1)\n",
      "Requirement already satisfied: urllib3<1.27 in /local/home/zicanl/.virtualenvs/venv/lib/python3.9/site-packages (from sagemaker) (1.26.16)\n",
      "Requirement already satisfied: importlib-metadata<7.0,>=1.4.0 in /local/home/zicanl/.virtualenvs/venv/lib/python3.9/site-packages (from sagemaker) (4.13.0)\n",
      "Requirement already satisfied: schema in /local/home/zicanl/.virtualenvs/venv/lib/python3.9/site-packages (from sagemaker) (0.7.5)\n",
      "Requirement already satisfied: pydantic!=1.7,!=1.7.1,!=1.7.2,!=1.7.3,!=1.8,!=1.8.1,<2.0.0,>=1.6.2 in /local/home/zicanl/.virtualenvs/venv/lib/python3.9/site-packages (from fastapi==0.95.2->sagemaker) (1.10.13)\n",
      "Requirement already satisfied: starlette<0.28.0,>=0.27.0 in /local/home/zicanl/.virtualenvs/venv/lib/python3.9/site-packages (from fastapi==0.95.2->sagemaker) (0.27.0)\n",
      "Requirement already satisfied: click>=7.0 in /local/home/zicanl/.virtualenvs/venv/lib/python3.9/site-packages (from uvicorn==0.22.0->sagemaker) (8.1.3)\n",
      "Requirement already satisfied: h11>=0.8 in /local/home/zicanl/.virtualenvs/venv/lib/python3.9/site-packages (from uvicorn==0.22.0->sagemaker) (0.14.0)\n",
      "Requirement already satisfied: s3transfer<0.11.0,>=0.10.0 in /local/home/zicanl/.virtualenvs/venv/lib/python3.9/site-packages (from boto3<2.0,>=1.33.3->sagemaker) (0.10.0)\n",
      "Requirement already satisfied: jmespath<2.0.0,>=0.7.1 in /local/home/zicanl/.virtualenvs/venv/lib/python3.9/site-packages (from boto3<2.0,>=1.33.3->sagemaker) (1.0.1)\n",
      "Requirement already satisfied: botocore<1.35.0,>=1.34.22 in /local/home/zicanl/.virtualenvs/venv/lib/python3.9/site-packages (from boto3<2.0,>=1.33.3->sagemaker) (1.34.22)\n",
      "Requirement already satisfied: zipp>=0.5 in /local/home/zicanl/.virtualenvs/venv/lib/python3.9/site-packages (from importlib-metadata<7.0,>=1.4.0->sagemaker) (3.17.0)\n",
      "Requirement already satisfied: websocket-client>=0.32.0 in /local/home/zicanl/.virtualenvs/venv/lib/python3.9/site-packages (from docker->sagemaker) (1.5.1)\n",
      "Requirement already satisfied: charset-normalizer<4,>=2 in /local/home/zicanl/.virtualenvs/venv/lib/python3.9/site-packages (from requests->sagemaker) (3.0.1)\n",
      "Requirement already satisfied: idna<4,>=2.5 in /local/home/zicanl/.virtualenvs/venv/lib/python3.9/site-packages (from requests->sagemaker) (3.4)\n",
      "Requirement already satisfied: certifi>=2017.4.17 in /local/home/zicanl/.virtualenvs/venv/lib/python3.9/site-packages (from requests->sagemaker) (2022.12.7)\n",
      "Requirement already satisfied: six in /local/home/zicanl/.virtualenvs/venv/lib/python3.9/site-packages (from google-pasta->sagemaker) (1.16.0)\n",
      "Requirement already satisfied: referencing>=0.28.4 in /local/home/zicanl/.virtualenvs/venv/lib/python3.9/site-packages (from jsonschema->sagemaker) (0.30.2)\n",
      "Requirement already satisfied: rpds-py>=0.7.1 in /local/home/zicanl/.virtualenvs/venv/lib/python3.9/site-packages (from jsonschema->sagemaker) (0.10.3)\n",
      "Requirement already satisfied: jsonschema-specifications>=2023.03.6 in /local/home/zicanl/.virtualenvs/venv/lib/python3.9/site-packages (from jsonschema->sagemaker) (2023.7.1)\n",
      "Requirement already satisfied: pytz>=2020.1 in /local/home/zicanl/.virtualenvs/venv/lib/python3.9/site-packages (from pandas->sagemaker) (2023.3.post1)\n",
      "Requirement already satisfied: python-dateutil>=2.8.2 in /local/home/zicanl/.virtualenvs/venv/lib/python3.9/site-packages (from pandas->sagemaker) (2.8.2)\n",
      "Requirement already satisfied: tzdata>=2022.1 in /local/home/zicanl/.virtualenvs/venv/lib/python3.9/site-packages (from pandas->sagemaker) (2023.3)\n",
      "Requirement already satisfied: multiprocess>=0.70.15 in /local/home/zicanl/.virtualenvs/venv/lib/python3.9/site-packages (from pathos->sagemaker) (0.70.15)\n",
      "Requirement already satisfied: dill>=0.3.7 in /local/home/zicanl/.virtualenvs/venv/lib/python3.9/site-packages (from pathos->sagemaker) (0.3.7)\n",
      "Requirement already satisfied: ppft>=1.7.6.7 in /local/home/zicanl/.virtualenvs/venv/lib/python3.9/site-packages (from pathos->sagemaker) (1.7.6.7)\n",
      "Requirement already satisfied: pox>=0.3.3 in /local/home/zicanl/.virtualenvs/venv/lib/python3.9/site-packages (from pathos->sagemaker) (0.3.3)\n",
      "Requirement already satisfied: contextlib2>=0.5.5 in /local/home/zicanl/.virtualenvs/venv/lib/python3.9/site-packages (from schema->sagemaker) (21.6.0)\n",
      "Requirement already satisfied: typing-extensions>=4.2.0 in /local/home/zicanl/.virtualenvs/venv/lib/python3.9/site-packages (from pydantic!=1.7,!=1.7.1,!=1.7.2,!=1.7.3,!=1.8,!=1.8.1,<2.0.0,>=1.6.2->fastapi==0.95.2->sagemaker) (4.8.0)\n",
      "Requirement already satisfied: anyio<5,>=3.4.0 in /local/home/zicanl/.virtualenvs/venv/lib/python3.9/site-packages (from starlette<0.28.0,>=0.27.0->fastapi==0.95.2->sagemaker) (3.7.1)\n",
      "Requirement already satisfied: sniffio>=1.1 in /local/home/zicanl/.virtualenvs/venv/lib/python3.9/site-packages (from anyio<5,>=3.4.0->starlette<0.28.0,>=0.27.0->fastapi==0.95.2->sagemaker) (1.3.0)\n",
      "Requirement already satisfied: exceptiongroup in /local/home/zicanl/.virtualenvs/venv/lib/python3.9/site-packages (from anyio<5,>=3.4.0->starlette<0.28.0,>=0.27.0->fastapi==0.95.2->sagemaker) (1.1.0)\n",
      "\u001b[33mWARNING: Ignoring invalid distribution -otocore (/local/home/zicanl/.virtualenvs/venv/lib/python3.9/site-packages)\u001b[0m\u001b[33m\n"
     ]
    },
    {
     "name": "stdout",
     "output_type": "stream",
     "text": [
      "\u001b[0m\u001b[33mWARNING: Ignoring invalid distribution -otocore (/local/home/zicanl/.virtualenvs/venv/lib/python3.9/site-packages)\u001b[0m\u001b[33m\n",
      "\u001b[0m\u001b[33mWARNING: Ignoring invalid distribution -otocore (/local/home/zicanl/.virtualenvs/venv/lib/python3.9/site-packages)\u001b[0m\u001b[33m\n",
      "\u001b[0m\u001b[33mWARNING: Ignoring invalid distribution -otocore (/local/home/zicanl/.virtualenvs/venv/lib/python3.9/site-packages)\u001b[0m\u001b[33m\n",
      "\u001b[0m\n",
      "\u001b[1m[\u001b[0m\u001b[34;49mnotice\u001b[0m\u001b[1;39;49m]\u001b[0m\u001b[39;49m A new release of pip is available: \u001b[0m\u001b[31;49m23.0.1\u001b[0m\u001b[39;49m -> \u001b[0m\u001b[32;49m23.3.2\u001b[0m\n",
      "\u001b[1m[\u001b[0m\u001b[34;49mnotice\u001b[0m\u001b[1;39;49m]\u001b[0m\u001b[39;49m To update, run: \u001b[0m\u001b[32;49mpip install --upgrade pip\u001b[0m\n",
      "\u001b[33mWARNING: Ignoring invalid distribution -otocore (/local/home/zicanl/.virtualenvs/venv/lib/python3.9/site-packages)\u001b[0m\u001b[33m\n",
      "\u001b[0m\u001b[33mWARNING: Ignoring invalid distribution -otocore (/local/home/zicanl/.virtualenvs/venv/lib/python3.9/site-packages)\u001b[0m\u001b[33m\n",
      "\u001b[0mRequirement already satisfied: boto3 in /local/home/zicanl/.virtualenvs/venv/lib/python3.9/site-packages (1.34.22)\n",
      "Requirement already satisfied: jmespath<2.0.0,>=0.7.1 in /local/home/zicanl/.virtualenvs/venv/lib/python3.9/site-packages (from boto3) (1.0.1)\n",
      "Requirement already satisfied: botocore<1.35.0,>=1.34.22 in /local/home/zicanl/.virtualenvs/venv/lib/python3.9/site-packages (from boto3) (1.34.22)\n",
      "Requirement already satisfied: s3transfer<0.11.0,>=0.10.0 in /local/home/zicanl/.virtualenvs/venv/lib/python3.9/site-packages (from boto3) (0.10.0)\n",
      "Requirement already satisfied: python-dateutil<3.0.0,>=2.1 in /local/home/zicanl/.virtualenvs/venv/lib/python3.9/site-packages (from botocore<1.35.0,>=1.34.22->boto3) (2.8.2)\n",
      "Requirement already satisfied: urllib3<1.27,>=1.25.4 in /local/home/zicanl/.virtualenvs/venv/lib/python3.9/site-packages (from botocore<1.35.0,>=1.34.22->boto3) (1.26.16)\n",
      "Requirement already satisfied: six>=1.5 in /local/home/zicanl/.virtualenvs/venv/lib/python3.9/site-packages (from python-dateutil<3.0.0,>=2.1->botocore<1.35.0,>=1.34.22->boto3) (1.16.0)\n",
      "\u001b[33mWARNING: Ignoring invalid distribution -otocore (/local/home/zicanl/.virtualenvs/venv/lib/python3.9/site-packages)\u001b[0m\u001b[33m\n",
      "\u001b[0m\u001b[33mWARNING: Ignoring invalid distribution -otocore (/local/home/zicanl/.virtualenvs/venv/lib/python3.9/site-packages)\u001b[0m\u001b[33m\n",
      "\u001b[0m\u001b[33mWARNING: Ignoring invalid distribution -otocore (/local/home/zicanl/.virtualenvs/venv/lib/python3.9/site-packages)\u001b[0m\u001b[33m\n",
      "\u001b[0m\u001b[33mWARNING: Ignoring invalid distribution -otocore (/local/home/zicanl/.virtualenvs/venv/lib/python3.9/site-packages)\u001b[0m\u001b[33m\n",
      "\u001b[0m\n",
      "\u001b[1m[\u001b[0m\u001b[34;49mnotice\u001b[0m\u001b[1;39;49m]\u001b[0m\u001b[39;49m A new release of pip is available: \u001b[0m\u001b[31;49m23.0.1\u001b[0m\u001b[39;49m -> \u001b[0m\u001b[32;49m23.3.2\u001b[0m\n",
      "\u001b[1m[\u001b[0m\u001b[34;49mnotice\u001b[0m\u001b[1;39;49m]\u001b[0m\u001b[39;49m To update, run: \u001b[0m\u001b[32;49mpip install --upgrade pip\u001b[0m\n",
      "\u001b[33mWARNING: Ignoring invalid distribution -otocore (/local/home/zicanl/.virtualenvs/venv/lib/python3.9/site-packages)\u001b[0m\u001b[33m\n",
      "\u001b[0m\u001b[33mWARNING: Ignoring invalid distribution -otocore (/local/home/zicanl/.virtualenvs/venv/lib/python3.9/site-packages)\u001b[0m\u001b[33m\n",
      "\u001b[0mRequirement already satisfied: botocore in /local/home/zicanl/.virtualenvs/venv/lib/python3.9/site-packages (1.34.22)\n",
      "Requirement already satisfied: jmespath<2.0.0,>=0.7.1 in /local/home/zicanl/.virtualenvs/venv/lib/python3.9/site-packages (from botocore) (1.0.1)\n",
      "Requirement already satisfied: python-dateutil<3.0.0,>=2.1 in /local/home/zicanl/.virtualenvs/venv/lib/python3.9/site-packages (from botocore) (2.8.2)\n",
      "Requirement already satisfied: urllib3<1.27,>=1.25.4 in /local/home/zicanl/.virtualenvs/venv/lib/python3.9/site-packages (from botocore) (1.26.16)\n",
      "Requirement already satisfied: six>=1.5 in /local/home/zicanl/.virtualenvs/venv/lib/python3.9/site-packages (from python-dateutil<3.0.0,>=2.1->botocore) (1.16.0)\n",
      "\u001b[33mWARNING: Ignoring invalid distribution -otocore (/local/home/zicanl/.virtualenvs/venv/lib/python3.9/site-packages)\u001b[0m\u001b[33m\n",
      "\u001b[0m\u001b[33mWARNING: Ignoring invalid distribution -otocore (/local/home/zicanl/.virtualenvs/venv/lib/python3.9/site-packages)\u001b[0m\u001b[33m\n",
      "\u001b[0m\u001b[33mWARNING: Ignoring invalid distribution -otocore (/local/home/zicanl/.virtualenvs/venv/lib/python3.9/site-packages)\u001b[0m\u001b[33m\n",
      "\u001b[0m\u001b[33mWARNING: Ignoring invalid distribution -otocore (/local/home/zicanl/.virtualenvs/venv/lib/python3.9/site-packages)\u001b[0m\u001b[33m\n",
      "\u001b[0m\n",
      "\u001b[1m[\u001b[0m\u001b[34;49mnotice\u001b[0m\u001b[1;39;49m]\u001b[0m\u001b[39;49m A new release of pip is available: \u001b[0m\u001b[31;49m23.0.1\u001b[0m\u001b[39;49m -> \u001b[0m\u001b[32;49m23.3.2\u001b[0m\n",
      "\u001b[1m[\u001b[0m\u001b[34;49mnotice\u001b[0m\u001b[1;39;49m]\u001b[0m\u001b[39;49m To update, run: \u001b[0m\u001b[32;49mpip install --upgrade pip\u001b[0m\n"
     ]
    }
   ],
   "source": [
    "!pip install -U sagemaker\n",
    "!pip install -U boto3\n",
    "!pip install -U botocore"
   ]
  },
  {
   "cell_type": "markdown",
   "id": "e9ed2158-2412-4c5d-b78e-afbd44b24970",
   "metadata": {},
   "source": [
    "### Imports\n",
    "\n",
    "The following cell imports the APIs to be used by the notebook."
   ]
  },
  {
   "cell_type": "code",
   "execution_count": 2,
   "id": "c417c278-ea72-4718-8b4f-79488a2b3c08",
   "metadata": {
    "tags": []
   },
   "outputs": [
    {
     "name": "stdout",
     "output_type": "stream",
     "text": [
      "sagemaker.config INFO - Not applying SDK defaults from location: /etc/xdg/sagemaker/config.yaml\n",
      "sagemaker.config INFO - Not applying SDK defaults from location: /home/zicanl/.config/sagemaker/config.yaml\n"
     ]
    }
   ],
   "source": [
    "import sagemaker\n",
    "import pandas as pd\n",
    "import datetime\n",
    "import json\n",
    "import os\n",
    "import pprint\n",
    "import random\n",
    "import time"
   ]
  },
  {
   "cell_type": "markdown",
   "id": "4b25ca1f-4fbe-4615-a4a6-7ade8cf7840a",
   "metadata": {},
   "source": [
    "### Handful of configuration\n",
    "\n",
    "To begin, ensure that these prerequisites have been completed.\n",
    "\n",
    "* Specify an AWS Region to host the model.\n",
    "* Specify an IAM role to execute jobs.\n",
    "* Define the S3 URIs that stores the model file, input data and output data. For demonstration purposes, this notebook uses the same bucket for them. In reality, they could be separated with different security policies."
   ]
  },
  {
   "cell_type": "code",
   "execution_count": 3,
   "id": "cdbbc40f-958b-4f14-9340-e746e9cb5b67",
   "metadata": {
    "tags": []
   },
   "outputs": [
    {
     "name": "stdout",
     "output_type": "stream",
     "text": [
      "AWS region: us-west-2\n",
      "RoleArn: arn:aws:iam::678264136642:role/Admin\n",
      "Demo Bucket: sagemaker-us-west-2-678264136642\n",
      "Demo Prefix: sagemaker/DEMO-ClarifyModelMonitor-1705692244-1224\n",
      "Demo S3 key: s3://sagemaker-us-west-2-678264136642/sagemaker/DEMO-ClarifyModelMonitor-1705692244-1224\n",
      "The transform job will save the results to: s3://sagemaker-us-west-2-678264136642/sagemaker/DEMO-ClarifyModelMonitor-1705692244-1224/transform-output\n",
      "The transform job will save the captured data to: s3://sagemaker-us-west-2-678264136642/sagemaker/DEMO-ClarifyModelMonitor-1705692244-1224/data-capture\n",
      "You should upload the ground truth data to: s3://sagemaker-us-west-2-678264136642/sagemaker/DEMO-ClarifyModelMonitor-1705692244-1224/ground-truth\n",
      "The baselining job will save the analysis results to: s3://sagemaker-us-west-2-678264136642/sagemaker/DEMO-ClarifyModelMonitor-1705692244-1224/baselining-output\n",
      "The monitor will save the analysis results to: s3://sagemaker-us-west-2-678264136642/sagemaker/DEMO-ClarifyModelMonitor-1705692244-1224/monitor-output\n"
     ]
    }
   ],
   "source": [
    "sagemaker_session = sagemaker.Session()\n",
    "\n",
    "region = sagemaker_session.boto_region_name\n",
    "print(f\"AWS region: {region}\")\n",
    "\n",
    "role = sagemaker.get_execution_role()\n",
    "print(f\"RoleArn: {role}\")\n",
    "\n",
    "# A different bucket can be used, but make sure the role for this notebook has\n",
    "# the s3:PutObject permissions. This is the bucket into which the data is captured\n",
    "bucket = sagemaker_session.default_bucket()\n",
    "print(f\"Demo Bucket: {bucket}\")\n",
    "prefix = sagemaker.utils.unique_name_from_base(\"sagemaker/DEMO-ClarifyModelMonitor\")\n",
    "print(f\"Demo Prefix: {prefix}\")\n",
    "s3_key = f\"s3://{bucket}/{prefix}\"\n",
    "print(f\"Demo S3 key: {s3_key}\")\n",
    "\n",
    "data_capture_s3_uri = f\"{s3_key}/data-capture\"\n",
    "ground_truth_s3_uri = f\"{s3_key}/ground-truth\"\n",
    "transform_output_s3_uri = f\"{s3_key}/transform-output\"\n",
    "baselining_output_s3_uri = f\"{s3_key}/baselining-output\"\n",
    "monitor_output_s3_uri = f\"{s3_key}/monitor-output\"\n",
    "\n",
    "print(f\"The transform job will save the results to: {transform_output_s3_uri}\")\n",
    "print(f\"The transform job will save the captured data to: {data_capture_s3_uri}\")\n",
    "print(f\"You should upload the ground truth data to: {ground_truth_s3_uri}\")\n",
    "print(f\"The baselining job will save the analysis results to: {baselining_output_s3_uri}\")\n",
    "print(f\"The monitor will save the analysis results to: {monitor_output_s3_uri}\")"
   ]
  },
  {
   "cell_type": "markdown",
   "id": "5941e5e7-c736-42ed-a62f-5753dc2de9a9",
   "metadata": {},
   "source": [
    "### Data files\n",
    "\n",
    "This example includes two dataset files, both in the JSON format."
   ]
  },
  {
   "cell_type": "code",
   "execution_count": 4,
   "id": "0febbeca-5f6d-45c2-a22a-d20fd4421987",
   "metadata": {
    "tags": []
   },
   "outputs": [],
   "source": [
    "train_dataset_path = \"test_data/validation-dataset.json\"\n",
    "test_dataset_path = \"test_data/test-dataset.json\"\n",
    "dataset_type = \"application/json\""
   ]
  },
  {
   "cell_type": "markdown",
   "id": "4bb4a5b0-dc84-4b31-aa35-53f4ad8be13f",
   "metadata": {},
   "source": [
    "The train dataset has the features and the ground truth label (pointed to by the key \"label\"),"
   ]
  },
  {
   "cell_type": "code",
   "execution_count": 5,
   "id": "5680108b-3476-43e6-a83d-b2e1b8e5f012",
   "metadata": {
    "tags": []
   },
   "outputs": [
    {
     "name": "stdout",
     "output_type": "stream",
     "text": [
      "{\"instances\":[{\"features\":[41,2,220531,14,15,2,9,0,4,1,0,0,60,38],\"label\":1},{\"features\":[33,2,35378,9,13,2,11,5,4,0,0,0,45,38],\"label\":1},{\"features\":[36,2,223433,12,14,2,11,0,4,1,7688,0,50,38],\"label\":1},{\"features\":[40,2,220589,7,12,4,0,1,4,0,0,0,40,38],\"label\":0},{\"features\":[30,2,231413,15,10,2,2,0,4,1,0,0,40,38],\"label\":1},{\"features\":[33,4,218164,11,9,2,2,0,4,1,0,0,40,38],\"label\":0},{\"features\":[42,2,213464,15,10,2,2,0,4,1,0,0,40,38],\"label\":0},{\"features\":[20,2,247794,11,9,4,11,1,4,0,0,0,84,38],\"label\":0},{\"features\":[43,2,174575,15,10,0,0,1,4,1,0,0,45,38],\"label\":0},{\"features\":[42,4,54202,14,15,2,9,0,4,1,0,0,50,38],\"label\":1},{\"features\":[27,2,126060,11,9,4,3,1,4,0,0,0,40,38],\"label\":0},{\"features\":[25,2,182866,11,9,4,5,3,4,1,0,0,40,38],\"label\":0},{\"features\":[43,2,302041,11,9,4,0,1,2,0,0,0,40,38],\"label\":0},{\"features\":[30,2,91145,11,9,4,5,4,4,1,0,0,55,38],\"label\":0},{\"features\":[41,2,648223,3,2,3,4,4,4,1,0,0,40,25],\"label\":0},{\"features\":[60,2,101096,10,16,4,9,1,4,0,0,0,65,38],\"label\":1},{\"features\":[45,3,197332,15,10,2,2,0,4,1,0,0,55,38],\"label\":1},{\"features\":[42,2,174112,12,14,4,9,1,4,0,0,0,40,38],\"label\":0},{\"features\":[36,2,183902,9,13,2,9,5,4,0,0,0,4,38],\"label\":1},{\"features\":[76,2,199949,9,13,2,0,0,4,1,20051,0,50,38],\"label\":1},{\"features\":[45,0,71823,15,10,2,0,0,2,1,0,0,20,38],\"label\":0},{\"features\":[37,2,147258,6,5,2,6,0,4,1,0,0,50,38],\"label\":1},{\"features\":[41,2,119079,11,9,2,11,0,4,1,0,0,49,38],\"label\":1},{\"features\":[38,2,193961,15,10,2,2,0,1,1,0,0,40,29],\"label\":1},{\"features\":[76,2,125784,9,13,2,3,0,4,1,0,0,40,38],\"label\":0},{\"features\":[45,2,155659,9,13,2,9,0,4,1,0,0,60,38],\"label\":1},{\"features\":[30,2,345122,14,15,2,9,0,4,1,0,0,50,38],\"label\":0},{\"features\":[30,2,171598,9,13,3,11,1,4,0,0,0,50,38],\"label\":0},{\"features\":[58,3,78104,15,10,2,3,0,4,1,7298,0,60,38],\"label\":1},{\"features\":[37,2,224541,15,10,2,13,0,4,1,0,0,40,38],\"label\":0},{\"features\":[17,2,369909,0,6,4,7,3,4,1,0,0,20,38],\"label\":0},{\"features\":[45,2,204205,5,4,0,6,1,4,1,0,0,48,38],\"label\":0},{\"features\":[64,2,180401,0,6,2,13,0,4,1,0,0,40,38],\"label\":1},{\"features\":[49,2,129513,11,9,2,13,0,4,1,0,0,50,38],\"label\":1},{\"features\":[23,2,125491,15,10,4,7,1,1,0,0,0,35,39],\"label\":0},{\"features\":[20,0,410446,11,9,4,0,2,4,1,0,0,20,38],\"label\":0},{\"features\":[51,2,259323,9,13,2,3,0,4,1,0,0,50,38],\"label\":1},{\"features\":[44,2,206686,15,10,0,0,4,4,0,0,0,40,38],\"label\":0},{\"features\":[22,2,106700,7,12,4,0,3,4,0,0,0,27,38],\"label\":0},{\"features\":[47,2,185041,15,10,2,2,0,4,1,7298,0,40,38],\"label\":1},{\"features\":[30,2,327202,2,8,4,2,1,2,1,0,0,40,38],\"label\":0},{\"features\":[35,2,136343,11,9,4,11,1,4,1,0,0,40,38],\"label\":0},{\"features\":[47,1,287320,12,14,4,9,1,4,1,0,0,40,38],\"label\":0},{\"features\":[27,5,553473,9,13,2,10,5,2,0,0,0,48,38],\"label\":0},{\"features\":[43,2,462180,14,15,2,9,0,4,1,99999,0,60,38],\"label\":1},{\"features\":[49,1,34021,9,13,4,9,3,4,0,0,0,50,38],\"label\":0},{\"features\":[43,2,350379,4,3,0,8,4,4,0,0,0,40,25],\"label\":0},{\"features\":[44,2,174283,11,9,2,2,0,4,1,0,0,40,38],\"label\":1},{\"features\":[39,2,164733,15,10,0,0,1,4,0,0,0,45,38],\"label\":0},{\"features\":[37,2,124293,15,10,2,0,0,4,1,0,0,50,38],\"label\":0},{\"features\":[36,1,110791,7,12,5,0,4,4,0,0,0,40,38],\"label\":0},{\"features\":[26,2,195994,15,10,4,11,1,4,0,0,0,15,38],\"label\":0},{\"features\":[52,4,72257,15,10,2,11,0,4,1,0,0,50,38],\"label\":0},{\"features\":[20,2,231981,15,10,4,13,1,4,1,0,0,32,38],\"label\":0},{\"features\":[43,2,346321,12,14,2,9,0,4,1,0,0,45,38],\"label\":1},{\"features\":[28,2,412149,0,6,4,4,2,4,1,0,0,35,25],\"label\":0},{\"features\":[61,2,128848,11,9,2,6,0,4,1,3471,0,40,38],\"label\":0},{\"features\":[46,3,168796,9,13,2,11,0,4,1,0,0,55,38],\"label\":0},{\"features\":[36,2,185099,14,15,2,9,0,4,1,0,0,55,38],\"label\":1},{\"features\":[40,3,50644,7,12,0,11,4,4,0,1506,0,40,38],\"label\":0},{\"features\":[32,2,340917,11,9,4,5,1,4,1,0,0,40,38],\"label\":0},{\"features\":[46,2,175625,14,15,0,9,4,4,0,0,0,40,38],\"label\":0},{\"features\":[43,2,216697,15,10,2,10,0,3,1,0,0,32,38],\"label\":0},{\"features\":[36,2,389725,15,10,0,0,1,4,1,0,0,45,38],\"label\":0},{\"features\":[28,4,192838,8,11,2,2,0,4,1,0,0,45,38],\"label\":0},{\"features\":[55,0,35723,12,14,2,3,0,4,1,0,0,60,38],\"label\":1},{\"features\":[39,2,270059,15,10,0,0,4,4,0,0,0,35,38],\"label\":0},{\"features\":[44,2,116825,14,15,2,9,0,4,1,15024,0,80,38],\"label\":1},{\"features\":[23,1,324637,15,10,4,0,1,4,1,0,0,30,38],\"label\":0},{\"features\":[28,2,160731,11,9,2,2,0,4,1,0,0,40,30],\"label\":1},{\"features\":[53,1,216931,15,10,2,10,0,4,1,4386,0,40,38],\"label\":1},{\"features\":[59,2,243226,0,6,0,6,1,4,0,0,0,40,38],\"label\":0},{\"features\":[19,2,63918,15,10,4,0,1,4,1,0,0,40,38],\"label\":0},{\"features\":[38,2,52963,9,13,4,0,1,4,0,0,0,50,38],\"label\":0},{\"features\":[17,2,268276,2,8,4,7,3,4,1,0,0,12,38],\"label\":0},{\"features\":[39,2,114079,7,12,4,2,1,4,1,0,0,40,38],\"label\":0},{\"features\":[61,2,130684,15,10,2,9,0,4,1,0,0,42,38],\"label\":0},{\"features\":[37,2,245053,15,10,0,5,3,4,1,0,1504,40,38],\"label\":0},{\"features\":[40,2,53835,9,13,2,11,0,4,1,0,0,50,38],\"label\":1},{\"features\":[41,2,225892,15,10,2,2,0,4,1,0,0,48,38],\"label\":1},{\"features\":[31,2,131425,9,13,2,2,0,4,1,0,0,40,38],\"label\":0},{\"features\":[40,2,71305,11,9,2,7,0,2,1,0,0,40,38],\"label\":0},{\"features\":[46,0,167381,11,9,2,0,5,4,0,0,0,40,38],\"label\":1},{\"features\":[45,2,187730,9,13,4,9,3,4,1,0,0,40,38],\"label\":0},{\"features\":[48,2,95661,15,10,4,0,1,4,0,0,0,43,38],\"label\":0},{\"features\":[39,2,150217,15,10,0,11,1,4,0,0,0,38,38],\"label\":0},{\"features\":[28,5,37250,9,13,4,9,3,4,1,0,0,16,38],\"label\":0},{\"features\":[18,2,27920,1,7,4,3,3,4,0,0,0,25,38],\"label\":0},{\"features\":[22,2,129172,15,10,4,7,3,4,1,0,0,16,38],\"label\":0},{\"features\":[28,2,138054,7,12,4,7,1,3,1,0,0,40,38],\"label\":0},{\"features\":[50,2,33304,11,9,2,2,0,4,1,0,0,40,38],\"label\":1},{\"features\":[52,2,110977,10,16,4,3,1,4,1,0,0,40,38],\"label\":1},{\"features\":[50,2,172175,14,15,2,9,0,4,1,0,0,50,38],\"label\":1},{\"features\":[37,3,107164,0,6,4,13,1,4,1,0,2559,50,38],\"label\":1},{\"features\":[38,2,160808,11,9,2,2,0,2,1,4386,0,48,38],\"label\":0},{\"features\":[57,3,51016,11,9,2,3,0,4,1,0,0,60,38],\"label\":1},{\"features\":[34,2,253438,15,10,2,3,0,4,1,0,0,60,38],\"label\":1},{\"features\":[38,2,185330,15,10,4,2,3,4,0,0,0,25,38],\"label\":0},{\"features\":[33,4,24504,11,9,5,2,2,4,1,0,0,50,38],\"label\":0},{\"features\":[37,2,278632,6,5,2,13,0,4,1,0,0,40,38],\"label\":0},{\"features\":[66,5,102640,11,9,6,9,4,2,0,0,0,35,38],\"label\":0},{\"features\":[35,2,168675,11,9,5,13,3,4,1,0,0,50,38],\"label\":0},{\"features\":[37,3,86459,7,12,5,3,4,4,1,0,0,50,38],\"label\":0},{\"features\":[51,2,138847,9,13,2,3,0,4,1,0,0,40,38],\"label\":1},{\"features\":[36,2,163290,15,10,0,11,4,4,0,0,0,40,38],\"label\":0},{\"features\":[33,2,134886,15,10,4,0,3,4,0,99999,0,30,38],\"label\":1},{\"features\":[50,2,271262,11,9,2,13,0,4,1,0,0,40,38],\"label\":1},{\"features\":[37,2,186191,11,9,2,6,0,4,1,0,0,46,38],\"label\":0},{\"features\":[59,2,261816,15,10,0,3,1,4,0,0,0,52,27],\"label\":0},{\"features\":[63,2,174018,15,10,2,11,0,2,1,0,0,40,38],\"label\":1},{\"features\":[33,2,124827,11,9,2,13,0,4,1,0,0,40,38],\"label\":0},{\"features\":[39,2,318416,0,6,5,7,3,2,0,0,0,12,38],\"label\":0},{\"features\":[36,2,214816,11,9,4,2,1,4,0,0,0,40,38],\"label\":0},{\"features\":[50,2,34832,9,13,2,12,0,4,1,15024,0,40,38],\"label\":1},{\"features\":[29,2,413297,7,12,4,11,1,4,1,0,0,45,25],\"label\":0},{\"features\":[44,2,68748,15,10,2,11,0,4,1,0,0,48,38],\"label\":0},{\"features\":[47,5,156417,15,10,0,9,4,4,1,0,0,20,38],\"label\":0},{\"features\":[26,2,302603,11,9,4,13,3,4,1,0,0,45,38],\"label\":0},{\"features\":[58,4,106942,15,10,0,2,4,4,1,0,0,40,38],\"label\":0},{\"features\":[28,2,203776,0,6,2,2,0,4,1,0,0,50,38],\"label\":0},{\"features\":[17,1,173497,1,7,4,9,3,2,1,0,0,15,38],\"label\":0},{\"features\":[66,0,47358,0,6,2,2,0,4,1,3471,0,40,38],\"label\":0},{\"features\":[50,2,174102,11,9,0,2,3,4,1,0,0,40,32],\"label\":0},{\"features\":[33,2,119176,15,10,6,0,4,4,0,0,0,40,38],\"label\":0},{\"features\":[36,4,219611,9,13,4,11,1,2,0,2174,0,50,38],\"label\":0},{\"features\":[48,2,102102,8,11,2,12,0,4,1,0,0,50,38],\"label\":1},{\"features\":[20,2,157541,15,10,4,2,3,4,1,0,0,40,38],\"label\":0},{\"features\":[68,2,218637,15,10,2,11,0,4,1,0,2377,55,38],\"label\":1},{\"features\":[27,2,198258,9,13,4,11,3,4,1,0,0,35,38],\"label\":0},{\"features\":[29,2,110134,15,10,0,6,1,4,1,0,0,40,38],\"label\":0},{\"features\":[65,5,29276,5,4,6,7,2,4,0,0,0,24,38],\"label\":0},{\"features\":[38,2,33001,9,13,2,3,0,4,1,0,0,55,38],\"label\":1},{\"features\":[43,4,277647,11,9,2,3,0,4,1,0,0,35,38],\"label\":0},{\"features\":[39,2,214816,9,13,2,3,0,4,1,0,0,60,38],\"label\":0},{\"features\":[52,4,237868,15,10,4,0,4,4,1,0,0,5,38],\"label\":0},{\"features\":[52,0,30731,9,13,2,3,0,4,1,0,0,45,38],\"label\":1},{\"features\":[29,2,228346,8,11,4,2,1,4,1,0,0,50,38],\"label\":0},{\"features\":[52,1,199995,12,14,2,3,0,4,1,7298,0,60,38],\"label\":1},{\"features\":[46,0,31141,15,10,0,13,1,4,1,0,0,40,38],\"label\":0},{\"features\":[42,2,231813,1,7,2,13,0,4,1,0,0,40,38],\"label\":0},{\"features\":[39,2,272950,9,13,2,2,0,4,1,0,0,45,38],\"label\":1},{\"features\":[36,2,182074,15,10,0,0,1,4,1,0,0,45,38],\"label\":0},{\"features\":[54,2,118793,11,9,2,0,0,4,1,0,0,45,38],\"label\":0},{\"features\":[28,2,207513,11,9,4,11,3,4,1,0,0,48,38],\"label\":0},{\"features\":[54,2,97778,5,4,2,2,0,4,1,0,0,40,38],\"label\":0},{\"features\":[33,2,217460,11,9,2,11,0,4,1,0,0,60,38],\"label\":1},{\"features\":[90,2,221832,9,13,2,3,0,4,1,0,0,45,38],\"label\":0},{\"features\":[57,5,109015,2,8,0,7,4,4,0,0,0,40,38],\"label\":0},{\"features\":[29,2,40083,10,16,4,9,1,4,1,0,0,40,1],\"label\":0},{\"features\":[25,2,188767,11,9,4,2,3,4,1,0,0,40,38],\"label\":0},{\"features\":[30,2,154568,9,13,2,2,0,1,1,0,0,36,39],\"label\":1},{\"features\":[38,2,161016,15,10,0,9,1,4,0,0,0,32,38],\"label\":0},{\"features\":[22,2,117789,15,10,4,9,3,4,0,0,0,10,38],\"label\":0},{\"features\":[26,5,294400,11,9,2,10,0,4,1,0,0,38,38],\"label\":0},{\"features\":[41,2,168293,12,14,0,3,4,4,0,0,0,45,38],\"label\":0},{\"features\":[29,4,164607,8,11,2,4,0,4,1,0,0,50,38],\"label\":0},{\"features\":[51,5,226885,11,9,4,13,1,4,1,0,0,40,38],\"label\":0},{\"features\":[76,4,117169,5,4,4,4,1,4,1,0,0,30,38],\"label\":0},{\"features\":[22,2,184756,15,10,4,11,3,4,0,0,0,30,38],\"label\":0},{\"features\":[49,2,248895,11,9,2,6,0,4,1,0,0,45,38],\"label\":0},{\"features\":[36,4,257250,8,11,2,4,0,4,1,0,0,99,38],\"label\":0},{\"features\":[61,4,133969,11,9,2,11,0,1,1,0,0,63,34],\"label\":0},{\"features\":[31,2,236599,9,13,2,3,0,4,1,0,0,45,38],\"label\":1},{\"features\":[22,2,150175,15,10,4,0,3,4,0,0,0,20,38],\"label\":0},{\"features\":[25,2,191921,15,10,4,13,3,4,1,0,0,40,38],\"label\":0},{\"features\":[56,2,170324,4,3,2,2,0,2,1,0,0,40,37],\"label\":0},{\"features\":[35,2,107125,9,13,2,9,0,4,1,0,0,16,38],\"label\":1},{\"features\":[62,2,103344,9,13,6,3,1,4,1,10520,0,50,38],\"label\":1},{\"features\":[24,1,317443,9,13,2,9,5,2,0,0,0,40,38],\"label\":0},{\"features\":[22,2,341227,15,10,4,0,1,4,1,0,0,20,38],\"label\":0},{\"features\":[25,2,290528,11,9,2,6,0,4,1,0,0,40,38],\"label\":0},{\"features\":[27,2,198286,15,10,4,7,1,4,0,0,0,34,38],\"label\":0},{\"features\":[64,2,256466,11,9,2,12,0,1,1,0,0,60,29],\"label\":1},{\"features\":[32,1,223267,11,9,2,13,0,4,1,0,0,40,38],\"label\":0},{\"features\":[32,2,388672,15,10,0,5,1,4,1,0,0,16,38],\"label\":0},{\"features\":[24,2,509629,11,9,4,7,3,4,0,0,0,25,38],\"label\":0},{\"features\":[21,2,191460,1,7,4,7,4,2,0,0,0,40,38],\"label\":0},{\"features\":[54,2,90363,7,12,2,3,0,4,1,0,0,40,38],\"label\":1},{\"features\":[49,2,192323,11,9,2,6,0,4,1,0,0,40,38],\"label\":0},{\"features\":[36,2,218490,8,11,2,11,0,4,1,0,0,60,38],\"label\":0},{\"features\":[24,2,159580,9,13,4,7,3,2,0,0,0,75,38],\"label\":0},{\"features\":[56,2,220187,15,10,2,11,0,4,1,0,0,45,38],\"label\":1},{\"features\":[52,2,218550,15,10,3,0,1,4,0,14084,0,16,38],\"label\":1},{\"features\":[68,2,195868,9,13,2,11,0,4,1,20051,0,40,38],\"label\":1},{\"features\":[44,2,151780,15,10,6,3,1,2,0,0,0,40,38],\"label\":0},{\"features\":[58,2,190747,11,9,2,6,0,4,1,0,0,40,38],\"label\":0},{\"features\":[29,4,142519,11,9,2,6,0,4,1,0,0,40,38],\"label\":0},{\"features\":[73,1,205580,4,3,2,9,0,4,1,0,0,6,38],\"label\":0},{\"features\":[58,3,78634,1,7,2,13,0,4,1,0,0,60,38],\"label\":0},{\"features\":[21,2,314182,11,9,4,7,1,4,0,0,0,40,38],\"label\":0},{\"features\":[44,2,297991,7,12,4,3,1,1,0,0,0,50,38],\"label\":0},{\"features\":[36,2,186110,15,10,2,13,0,4,1,0,0,40,38],\"label\":0},{\"features\":[46,4,31267,11,9,2,13,0,4,1,0,0,50,38],\"label\":0},{\"features\":[34,2,57426,9,13,4,11,1,4,1,0,0,45,38],\"label\":0},{\"features\":[21,2,107882,7,12,4,7,3,4,0,0,0,9,38],\"label\":0},{\"features\":[58,5,194068,12,14,2,9,0,4,1,0,1977,50,38],\"label\":1},{\"features\":[22,2,332194,15,10,4,7,3,2,1,0,0,40,38],\"label\":0},{\"features\":[65,3,115922,9,13,2,3,0,4,1,0,0,40,38],\"label\":1},{\"features\":[27,2,302406,15,10,2,11,0,4,1,0,0,40,38],\"label\":1},{\"features\":[37,2,270059,15,10,0,0,4,4,0,25236,0,25,38],\"label\":1},{\"features\":[40,2,375603,11,9,0,0,4,2,1,0,0,40,38],\"label\":0},{\"features\":[24,2,456460,7,12,2,0,5,4,0,0,0,40,38],\"label\":0},{\"features\":[35,2,202397,9,13,2,2,0,1,1,0,0,40,29],\"label\":1},{\"features\":[35,4,120066,15,10,2,2,0,0,1,0,0,60,38],\"label\":0},{\"features\":[33,2,197424,11,9,2,3,0,4,1,5013,0,40,38],\"label\":0},{\"features\":[36,4,67728,9,13,2,11,0,4,1,0,0,50,38],\"label\":1},{\"features\":[23,2,99543,2,8,4,13,1,4,1,0,0,46,38],\"label\":0},{\"features\":[49,3,229737,14,15,2,9,0,4,1,99999,0,37,38],\"label\":1},{\"features\":[62,2,194167,11,9,0,6,1,4,0,2174,0,40,38],\"label\":0},{\"features\":[34,2,188096,11,9,4,0,1,4,0,0,0,36,38],\"label\":0},{\"features\":[40,2,338740,11,9,2,3,0,4,1,0,0,40,38],\"label\":0},{\"features\":[24,2,275691,1,7,4,13,3,4,1,0,0,39,38],\"label\":0},{\"features\":[17,2,220384,1,7,4,0,3,4,1,0,0,15,38],\"label\":0},{\"features\":[51,2,302146,1,7,4,7,1,2,0,0,0,40,38],\"label\":0},{\"features\":[31,0,166626,11,9,2,0,0,4,1,0,0,40,38],\"label\":1},{\"features\":[52,2,145271,9,13,2,2,0,1,1,0,0,40,38],\"label\":0},{\"features\":[30,2,95299,11,9,2,6,0,1,1,0,0,40,39],\"label\":1},{\"features\":[28,2,31801,11,9,4,5,2,4,1,0,0,60,38],\"label\":0},{\"features\":[24,2,228613,1,7,4,6,4,4,0,0,0,40,38],\"label\":0},{\"features\":[40,2,234633,15,10,4,2,1,4,1,0,0,40,38],\"label\":0},{\"features\":[26,2,146343,15,10,2,11,5,2,0,0,0,40,38],\"label\":0},{\"features\":[42,2,331651,12,14,4,9,1,4,0,8614,0,50,38],\"label\":1},{\"features\":[26,2,167106,11,9,4,2,2,1,1,0,0,40,16],\"label\":0},{\"features\":[27,0,196386,7,12,2,0,0,4,1,4064,0,40,7],\"label\":0},{\"features\":[28,1,146949,11,9,2,5,0,4,1,0,0,40,38],\"label\":0},{\"features\":[36,2,47310,11,9,4,7,1,2,0,0,0,40,38],\"label\":0},{\"features\":[45,1,192793,15,10,2,10,0,4,1,0,0,40,38],\"label\":1},{\"features\":[29,2,535978,15,10,2,2,0,4,1,0,0,45,38],\"label\":0},{\"features\":[22,2,324922,11,9,4,6,1,4,1,0,0,50,38],\"label\":0},{\"features\":[47,2,155489,11,9,2,13,0,4,1,7688,0,55,38],\"label\":1},{\"features\":[39,5,85566,9,13,2,9,0,4,1,0,0,40,38],\"label\":0},{\"features\":[24,2,385540,11,9,2,11,0,4,1,0,0,40,25],\"label\":0},{\"features\":[39,2,167140,12,14,2,3,0,4,1,0,0,40,38],\"label\":0},{\"features\":[39,2,347960,14,15,4,9,1,4,0,14084,0,35,38],\"label\":1},{\"features\":[51,2,180807,15,10,0,3,4,4,0,0,0,40,38],\"label\":0},{\"features\":[24,2,310380,15,10,3,0,3,2,0,0,0,45,38],\"label\":0},{\"features\":[55,2,271710,15,10,4,0,1,4,1,0,0,45,38],\"label\":0},{\"features\":[32,0,191385,7,12,0,10,1,4,1,2174,0,40,38],\"label\":0},{\"features\":[22,2,320451,15,10,4,10,3,1,1,0,0,24,18],\"label\":0},{\"features\":[59,2,277034,11,9,0,12,4,4,1,0,0,60,38],\"label\":1},{\"features\":[24,2,403865,15,10,2,2,0,4,1,0,0,56,38],\"label\":0},{\"features\":[41,5,47170,9,13,2,9,5,0,0,0,0,48,38],\"label\":1},{\"features\":[40,2,273308,11,9,0,6,4,4,0,0,0,48,25],\"label\":0},{\"features\":[57,4,152030,15,10,2,11,5,4,0,0,0,25,38],\"label\":1},{\"features\":[36,2,194905,9,13,6,9,4,4,0,0,0,44,38],\"label\":0},{\"features\":[31,4,229946,11,9,2,9,0,4,1,0,0,40,3],\"label\":0},{\"features\":[28,2,119793,8,11,0,3,1,4,1,10520,0,50,38],\"label\":1},{\"features\":[38,2,143538,11,9,4,6,1,4,0,0,0,40,38],\"label\":0},{\"features\":[28,2,108574,15,10,2,0,5,4,0,0,0,15,38],\"label\":0},{\"features\":[32,2,194141,11,9,0,6,3,4,1,0,0,50,38],\"label\":0},{\"features\":[49,4,107597,11,9,0,3,4,4,0,14084,0,30,38],\"label\":1},{\"features\":[37,2,186035,7,12,2,2,0,4,1,0,0,55,38],\"label\":0},{\"features\":[50,2,263200,4,3,3,7,4,4,0,0,0,34,25],\"label\":0},{\"features\":[37,2,70562,3,2,4,7,4,4,0,0,0,48,7],\"label\":0},{\"features\":[38,2,195686,15,10,2,2,0,4,1,0,0,40,38],\"label\":1},{\"features\":[44,1,197919,15,10,0,7,4,4,0,0,0,40,38],\"label\":0},{\"features\":[30,4,261943,1,7,3,2,1,4,1,0,0,30,15],\"label\":0},{\"features\":[20,3,95997,11,9,4,4,3,4,1,0,0,70,38],\"label\":0},{\"features\":[32,2,151773,15,10,2,2,0,4,1,0,0,45,38],\"label\":0},{\"features\":[56,2,177271,8,11,2,12,0,4,1,0,0,40,38],\"label\":1},{\"features\":[24,2,537222,11,9,2,3,0,4,1,0,0,50,38],\"label\":0},{\"features\":[59,2,196482,11,9,6,0,4,4,0,0,0,40,38],\"label\":0},{\"features\":[24,2,43323,11,9,4,7,1,4,0,0,1762,40,38],\"label\":0},{\"features\":[40,2,259307,12,14,2,3,0,4,1,0,0,50,38],\"label\":1},{\"features\":[35,2,167990,6,5,2,6,0,4,1,0,0,40,1],\"label\":0},{\"features\":[32,2,158416,11,9,0,11,1,4,1,0,0,50,38],\"label\":0},{\"features\":[27,2,199903,9,13,4,9,1,4,0,0,0,40,38],\"label\":0},{\"features\":[44,2,210534,4,3,2,5,0,4,1,0,0,40,25],\"label\":0},{\"features\":[50,2,128798,9,13,2,12,0,4,1,0,0,40,38],\"label\":1},{\"features\":[17,2,176467,6,5,4,13,1,4,1,0,0,20,38],\"label\":0},{\"features\":[29,2,153805,11,9,4,6,2,3,1,0,0,40,6],\"label\":0},{\"features\":[23,2,238917,5,4,4,2,2,4,1,0,0,36,38],\"label\":0},{\"features\":[69,5,34339,11,9,2,10,0,4,1,0,0,40,38],\"label\":0},{\"features\":[34,2,205733,11,9,4,0,1,4,0,0,0,40,38],\"label\":0},{\"features\":[29,2,193152,11,9,4,5,1,4,1,0,1408,40,38],\"label\":0},{\"features\":[35,2,191628,15,10,2,9,0,4,1,0,0,40,38],\"label\":0},{\"features\":[17,2,51939,1,7,4,11,3,4,0,0,0,15,38],\"label\":0},{\"features\":[34,3,80249,15,10,2,4,0,4,1,0,0,72,38],\"label\":0},{\"features\":[50,2,162632,11,9,2,3,0,4,1,0,0,45,38],\"label\":0},{\"features\":[21,2,292264,11,9,4,2,1,4,1,0,0,35,38],\"label\":0},{\"features\":[40,2,224799,9,13,2,9,0,4,1,0,0,45,38],\"label\":0},{\"features\":[37,2,194004,1,7,2,2,0,4,1,0,0,25,38],\"label\":0},{\"features\":[32,2,188245,1,7,4,8,4,2,0,0,0,40,38],\"label\":0},{\"features\":[49,3,201498,11,9,2,2,0,4,1,0,0,40,38],\"label\":0},{\"features\":[33,5,313729,12,14,4,9,1,4,1,0,0,60,38],\"label\":0},{\"features\":[19,2,172893,15,10,4,3,3,4,0,0,0,30,38],\"label\":0},{\"features\":[41,2,252058,9,13,4,0,1,4,1,0,0,40,38],\"label\":0},{\"features\":[39,2,188540,11,9,0,3,1,4,1,0,0,45,38],\"label\":0},{\"features\":[47,2,168232,9,13,2,0,0,4,1,7298,0,40,38],\"label\":1},{\"features\":[58,2,199278,9,13,0,3,1,4,1,0,0,38,38],\"label\":0},{\"features\":[41,2,104334,15,10,2,11,0,4,1,0,0,50,38],\"label\":1},{\"features\":[24,2,281221,9,13,4,0,2,1,0,0,0,40,35],\"label\":0},{\"features\":[23,2,197613,15,10,4,0,1,4,0,0,0,40,38],\"label\":0},{\"features\":[33,2,229716,11,9,0,0,1,4,1,0,0,38,38],\"label\":0},{\"features\":[30,2,255279,11,9,0,0,4,4,0,0,0,20,38],\"label\":0},{\"features\":[25,2,282063,5,4,2,5,0,4,1,0,0,40,25],\"label\":0},{\"features\":[40,2,105936,9,13,0,9,1,4,0,0,0,40,38],\"label\":0},{\"features\":[39,2,32146,15,10,4,2,1,4,1,0,0,40,38],\"label\":0},{\"features\":[29,2,118230,11,9,4,11,1,4,0,0,0,35,38],\"label\":0},{\"features\":[43,5,115005,11,9,0,12,1,4,0,0,0,40,38],\"label\":0},{\"features\":[26,2,190469,9,13,4,12,1,4,1,0,0,40,38],\"label\":0},{\"features\":[35,2,347491,8,11,4,2,1,4,1,0,0,40,38],\"label\":0},{\"features\":[23,2,45834,9,13,4,3,1,4,0,0,0,50,38],\"label\":0},{\"features\":[20,2,237305,15,10,4,6,2,2,0,0,0,35,38],\"label\":0},{\"features\":[48,2,160647,15,10,4,3,1,4,0,0,0,40,20],\"label\":1},{\"features\":[31,2,241885,11,9,4,4,4,4,1,0,0,45,38],\"label\":0},{\"features\":[47,2,108510,0,6,2,11,0,4,1,0,0,65,38],\"label\":0},{\"features\":[55,0,189985,15,10,0,0,4,2,0,0,0,40,38],\"label\":0},{\"features\":[23,2,201145,11,9,4,2,1,4,1,0,0,65,38],\"label\":0},{\"features\":[45,2,167187,9,13,4,9,1,4,0,0,0,40,38],\"label\":1},{\"features\":[63,3,272425,8,11,2,3,0,4,1,0,0,40,38],\"label\":1},{\"features\":[41,2,49797,11,9,2,2,0,4,1,0,0,40,38],\"label\":0},{\"features\":[30,2,381153,11,9,4,2,1,4,1,0,0,40,38],\"label\":0},{\"features\":[33,2,170148,11,9,0,0,4,4,0,0,0,45,38],\"label\":0},{\"features\":[27,2,113054,11,9,5,6,1,4,1,0,0,43,38],\"label\":0},{\"features\":[62,2,319582,11,9,6,11,1,4,0,0,0,32,38],\"label\":0},{\"features\":[24,2,289448,8,11,4,0,3,1,0,0,0,40,29],\"label\":0},{\"features\":[44,2,277488,15,10,2,6,0,4,1,3103,0,40,38],\"label\":1},{\"features\":[25,2,371987,11,9,0,0,1,4,0,0,0,40,38],\"label\":0},{\"features\":[39,2,509060,15,10,0,7,1,4,1,0,0,40,38],\"label\":0},{\"features\":[17,2,211870,6,5,4,7,1,4,1,0,0,6,38],\"label\":0},{\"features\":[29,2,131088,11,9,4,5,3,4,1,0,0,25,38],\"label\":0},{\"features\":[42,5,222884,9,13,0,0,1,4,1,0,0,40,38],\"label\":0},{\"features\":[25,2,124590,11,9,4,3,2,4,1,0,0,40,38],\"label\":0},{\"features\":[60,2,88055,0,6,2,13,0,4,1,0,0,40,38],\"label\":0},{\"features\":[23,2,184255,11,9,2,11,5,4,0,0,0,40,38],\"label\":0},{\"features\":[28,2,66434,0,6,4,7,4,4,0,0,0,15,38],\"label\":0},{\"features\":[31,2,118551,6,5,0,0,1,4,0,0,0,40,38],\"label\":0},{\"features\":[41,4,26598,11,9,0,2,1,4,1,0,0,40,38],\"label\":0},{\"features\":[28,2,157391,9,13,4,11,3,4,0,0,0,40,38],\"label\":0},{\"features\":[45,4,275445,9,13,0,3,4,4,1,0,0,50,38],\"label\":0},{\"features\":[19,2,100999,9,13,4,9,3,4,0,0,0,30,38],\"label\":0},{\"features\":[19,4,206599,15,10,4,7,3,4,0,0,0,22,38],\"label\":0},{\"features\":[25,1,197728,9,13,4,3,1,4,0,0,0,20,38],\"label\":0},{\"features\":[48,2,123075,10,16,2,9,0,4,1,0,0,45,38],\"label\":1},{\"features\":[37,1,117760,8,11,4,10,1,4,1,4650,0,40,38],\"label\":0},{\"features\":[44,2,230684,9,13,2,3,0,4,1,7688,0,50,38],\"label\":1},{\"features\":[24,2,22201,11,9,2,10,0,1,1,0,0,40,36],\"label\":0},{\"features\":[62,4,159939,11,9,2,4,0,4,1,0,0,35,38],\"label\":0},{\"features\":[57,1,118481,9,13,2,9,0,4,1,0,1902,40,38],\"label\":1},{\"features\":[51,2,239155,8,11,0,7,1,4,1,0,0,40,38],\"label\":0},{\"features\":[37,2,67125,11,9,0,11,1,4,1,0,0,60,38],\"label\":0},{\"features\":[19,2,255161,11,9,4,11,3,4,1,0,0,25,38],\"label\":0},{\"features\":[30,2,243841,11,9,0,7,2,1,0,0,0,40,34],\"label\":0},{\"features\":[27,2,91501,11,9,2,12,5,4,0,0,0,40,38],\"label\":0},{\"features\":[60,2,232242,11,9,2,11,0,4,1,0,0,40,38],\"label\":0},{\"features\":[26,2,104746,11,9,2,2,0,4,1,5013,0,60,38],\"label\":0},{\"features\":[19,2,72355,15,10,4,7,1,4,1,0,0,20,38],\"label\":0},{\"features\":[22,2,203182,9,13,4,3,4,4,0,0,0,30,38],\"label\":0},{\"features\":[50,5,173020,15,10,2,2,0,4,1,0,0,40,38],\"label\":0},{\"features\":[17,2,276718,11,9,4,0,3,4,1,0,0,20,38],\"label\":0},{\"features\":[61,1,95450,9,13,2,3,0,4,1,5178,0,50,38],\"label\":1},{\"features\":[28,2,312588,0,6,0,7,1,4,0,0,0,40,38],\"label\":0},{\"features\":[22,2,284317,7,12,4,0,1,4,0,0,0,40,38],\"label\":0},{\"features\":[35,2,185325,9,13,2,9,0,4,1,0,0,50,38],\"label\":1},{\"features\":[40,2,149466,11,9,0,5,1,2,1,0,0,35,38],\"label\":0},{\"features\":[32,2,114746,11,9,5,5,4,1,0,0,0,60,34],\"label\":0},{\"features\":[23,4,208503,15,10,0,0,3,4,1,0,0,40,38],\"label\":0},{\"features\":[33,2,290763,15,10,4,11,1,4,0,0,0,40,38],\"label\":0},{\"features\":[34,2,37646,7,12,2,2,0,4,1,0,0,65,38],\"label\":0},{\"features\":[47,2,334039,9,13,2,3,0,4,1,7298,0,44,38],\"label\":1},{\"features\":[51,2,219599,11,9,2,6,5,4,0,0,0,40,38],\"label\":0},{\"features\":[36,2,206521,11,9,4,6,1,4,1,0,0,40,38],\"label\":0},{\"features\":[46,2,45288,9,13,4,7,1,4,1,0,0,40,38],\"label\":0},{\"features\":[17,2,60562,6,5,4,7,3,4,0,0,0,20,38],\"label\":0},{\"features\":[47,3,79627,14,15,0,9,1,4,1,27828,0,50,38],\"label\":1},{\"features\":[31,2,213002,2,8,4,11,1,4,1,4650,0,50,38],\"label\":0},{\"features\":[23,1,210029,15,10,4,0,3,4,0,0,0,20,38],\"label\":0},{\"features\":[53,2,79324,11,9,2,2,0,4,1,0,0,40,38],\"label\":1},{\"features\":[50,2,137815,11,9,2,13,0,4,1,0,0,60,38],\"label\":1},{\"features\":[23,1,157331,9,13,4,9,1,4,0,0,0,40,38],\"label\":0},{\"features\":[45,2,43479,15,10,2,13,0,4,1,0,0,48,38],\"label\":0},{\"features\":[38,2,183279,15,10,2,3,0,4,1,0,0,44,38],\"label\":1},{\"features\":[41,4,150533,14,15,2,9,0,4,1,0,0,50,38],\"label\":1},{\"features\":[32,2,27856,15,10,4,0,1,4,0,0,0,40,38],\"label\":0},{\"features\":[44,2,123983,9,13,0,7,1,1,1,0,0,40,2],\"label\":0},{\"features\":[38,2,198216,15,10,0,3,4,4,0,0,0,40,38],\"label\":0},{\"features\":[42,2,33002,11,9,2,3,0,4,1,0,0,48,38],\"label\":0},{\"features\":[43,2,115562,9,13,2,9,0,4,1,0,0,42,38],\"label\":1},{\"features\":[34,2,300687,11,9,2,2,0,2,1,0,0,40,38],\"label\":0},{\"features\":[48,2,287480,12,14,2,12,0,4,1,0,0,40,38],\"label\":1},{\"features\":[61,2,146788,5,4,2,13,0,4,1,0,0,40,38],\"label\":0},{\"features\":[29,2,452205,11,9,0,7,4,4,0,0,0,36,38],\"label\":0},{\"features\":[23,2,182812,15,10,4,7,3,4,0,0,0,40,5],\"label\":0},{\"features\":[48,2,192791,11,9,2,6,0,4,1,0,0,40,38],\"label\":0},{\"features\":[68,3,182131,15,10,2,3,0,4,1,10605,0,20,38],\"label\":1},{\"features\":[23,2,200973,11,9,4,0,1,4,0,0,0,40,38],\"label\":0},{\"features\":[45,3,271901,11,9,2,11,0,4,1,0,0,32,38],\"label\":1},{\"features\":[22,2,110946,15,10,4,7,1,4,0,0,0,40,38],\"label\":0},{\"features\":[49,2,206947,11,9,0,0,1,4,0,0,0,40,38],\"label\":0},{\"features\":[25,2,154863,11,9,4,0,4,2,1,0,0,35,38],\"label\":0},{\"features\":[56,2,102106,11,9,2,5,0,4,1,0,0,40,38],\"label\":0},{\"features\":[53,2,120839,2,8,0,4,3,4,1,0,0,40,38],\"label\":0},{\"features\":[29,5,106972,12,14,4,9,1,4,0,0,0,35,38],\"label\":0},{\"features\":[60,2,227468,15,10,6,10,1,2,0,0,0,40,38],\"label\":0},{\"features\":[25,2,179462,5,4,4,5,4,4,1,0,0,40,38],\"label\":0},{\"features\":[46,2,201595,11,9,2,13,0,4,1,0,0,70,38],\"label\":0},{\"features\":[17,2,137042,0,6,4,9,3,4,1,0,0,20,38],\"label\":0},{\"features\":[50,4,213654,11,9,2,11,0,2,1,0,0,40,38],\"label\":0},{\"features\":[54,5,119565,9,13,2,3,0,4,1,0,0,40,32],\"label\":1},{\"features\":[28,2,60288,11,9,4,0,3,4,0,0,0,40,38],\"label\":0},{\"features\":[34,2,229732,8,11,2,2,0,4,1,0,0,40,38],\"label\":0},{\"features\":[22,2,133833,15,10,4,7,3,4,0,0,0,25,38],\"label\":0},{\"features\":[29,2,290740,7,12,4,8,1,4,0,0,0,50,38],\"label\":0},{\"features\":[49,2,123584,1,7,2,13,0,4,1,0,0,75,38],\"label\":0},{\"features\":[40,2,206066,11,9,2,2,0,4,1,0,0,50,38],\"label\":0},{\"features\":[38,2,183279,15,10,2,2,0,4,1,0,0,43,38],\"label\":0},{\"features\":[34,2,287737,15,10,2,3,5,4,0,0,1485,40,38],\"label\":1},{\"features\":[52,2,90189,5,4,0,8,3,2,0,0,0,16,38],\"label\":0},{\"features\":[51,2,128143,15,10,2,2,0,4,1,0,0,40,38],\"label\":1},{\"features\":[20,2,184779,15,10,4,12,3,4,0,0,0,20,38],\"label\":0},{\"features\":[28,2,54243,11,9,0,13,1,4,1,0,0,60,38],\"label\":0},{\"features\":[21,2,213015,11,9,4,5,2,2,1,2176,0,40,38],\"label\":0},{\"features\":[43,2,240504,11,9,2,5,0,4,1,0,0,40,38],\"label\":0},{\"features\":[43,2,236985,11,9,2,2,0,2,1,0,0,40,38],\"label\":0},{\"features\":[43,2,154538,7,12,0,2,1,4,1,0,0,40,38],\"label\":0},{\"features\":[33,2,159247,9,13,2,9,0,4,1,0,0,40,38],\"label\":1},{\"features\":[35,2,171327,11,9,2,2,0,4,1,0,0,40,38],\"label\":0},{\"features\":[36,2,342642,12,14,4,3,1,4,1,0,0,15,38],\"label\":0},{\"features\":[50,2,34233,11,9,2,4,0,4,1,0,0,50,38],\"label\":0},{\"features\":[26,2,196805,15,10,2,13,0,2,1,0,0,65,38],\"label\":0},{\"features\":[27,2,262478,11,9,4,4,3,2,1,0,0,30,38],\"label\":0},{\"features\":[34,2,184147,11,9,5,11,4,2,0,0,0,20,38],\"label\":0},{\"features\":[36,2,29984,2,8,2,13,0,4,1,0,0,40,38],\"label\":0},{\"features\":[44,2,210525,9,13,2,9,0,4,1,0,0,40,38],\"label\":1},{\"features\":[51,2,237729,15,10,0,0,4,4,0,0,0,40,38],\"label\":0},{\"features\":[32,4,173854,9,13,0,9,2,4,1,0,0,35,38],\"label\":1},{\"features\":[23,4,184370,11,9,0,7,1,4,0,0,0,40,38],\"label\":0},{\"features\":[49,2,281647,12,14,2,3,0,4,1,0,0,45,38],\"label\":1},{\"features\":[61,2,54373,15,10,2,11,0,4,1,0,0,40,38],\"label\":0},{\"features\":[41,2,154194,11,9,4,11,3,4,0,0,0,40,38],\"label\":0},{\"features\":[30,2,48829,11,9,4,11,1,4,0,0,1602,30,38],\"label\":0},{\"features\":[52,1,255927,15,10,6,0,1,4,0,0,0,24,38],\"label\":0},{\"features\":[41,2,120277,9,13,2,9,0,4,1,0,0,40,38],\"label\":1},{\"features\":[39,2,129495,15,10,5,0,4,2,0,0,0,40,38],\"label\":0},{\"features\":[30,2,310889,15,10,4,5,1,4,1,0,0,55,38],\"label\":0},{\"features\":[72,2,284080,3,2,0,7,1,2,1,0,0,40,38],\"label\":0},{\"features\":[27,2,132191,11,9,4,2,1,4,1,0,0,40,38],\"label\":0},{\"features\":[45,2,49298,9,13,4,12,3,4,1,0,0,40,38],\"label\":0},{\"features\":[42,2,106900,8,11,4,12,1,4,1,0,0,40,38],\"label\":0},{\"features\":[23,2,140462,11,9,4,6,3,4,1,0,0,40,38],\"label\":0},{\"features\":[37,2,272950,11,9,0,2,1,4,1,0,0,40,38],\"label\":0},{\"features\":[43,5,345969,14,15,2,9,0,4,1,0,0,50,38],\"label\":1},{\"features\":[46,2,318259,8,11,0,12,2,4,0,0,0,36,38],\"label\":0},{\"features\":[32,2,296282,9,13,2,11,0,4,1,0,0,40,38],\"label\":0},{\"features\":[20,2,238685,15,10,4,7,1,4,0,0,0,32,38],\"label\":0},{\"features\":[21,2,197583,15,10,4,0,3,4,0,0,0,20,38],\"label\":0},{\"features\":[34,2,342709,12,14,2,3,0,4,1,0,0,40,38],\"label\":0},{\"features\":[27,1,209109,12,14,4,9,3,4,1,0,0,35,38],\"label\":0},{\"features\":[38,2,331395,5,4,2,4,0,4,1,3942,0,84,31],\"label\":0},{\"features\":[41,1,107327,8,11,0,9,4,4,0,0,0,40,38],\"label\":0},{\"features\":[47,4,237731,11,9,2,4,0,4,1,2829,0,65,38],\"label\":0},{\"features\":[43,2,260761,11,9,2,6,0,4,1,0,0,40,25],\"label\":0},{\"features\":[42,2,154374,9,13,2,3,0,4,1,0,2415,60,38],\"label\":1},{\"features\":[27,2,243569,1,7,2,5,0,4,1,3942,0,40,38],\"label\":0},{\"features\":[54,1,31533,12,14,2,0,0,4,1,7298,0,40,38],\"label\":1},{\"features\":[37,2,36425,11,9,4,7,1,4,0,0,0,40,38],\"label\":0},{\"features\":[46,5,192779,9,13,2,3,0,4,1,7688,0,40,38],\"label\":1},{\"features\":[52,5,314627,12,14,0,9,1,1,0,0,0,40,38],\"label\":0},{\"features\":[74,4,146929,11,9,2,11,0,4,1,0,0,55,38],\"label\":0},{\"features\":[55,2,49996,1,7,4,6,1,2,0,0,0,40,38],\"label\":0},{\"features\":[35,1,190964,9,13,2,2,0,4,1,0,0,40,38],\"label\":0},{\"features\":[66,2,185336,11,9,6,11,2,4,0,0,0,35,38],\"label\":0},{\"features\":[51,1,175750,11,9,0,13,4,2,1,0,0,40,38],\"label\":0},{\"features\":[56,2,219762,11,9,2,11,5,4,0,0,0,35,38],\"label\":0},{\"features\":[33,2,155343,11,9,2,11,0,4,1,3103,0,40,38],\"label\":1},{\"features\":[36,1,28996,11,9,2,13,0,4,1,0,0,40,38],\"label\":0},{\"features\":[46,2,98012,8,11,0,0,1,4,0,0,0,40,38],\"label\":0},{\"features\":[50,4,105010,11,9,2,4,0,4,1,0,2051,20,38],\"label\":0},{\"features\":[52,2,29658,11,9,2,0,0,4,1,0,0,40,38],\"label\":0},{\"features\":[56,2,275236,9,13,2,6,0,4,1,0,0,40,38],\"label\":0},{\"features\":[29,2,161155,7,12,2,9,0,4,1,0,0,50,38],\"label\":0},{\"features\":[20,2,235442,15,10,4,7,1,4,1,0,0,35,38],\"label\":0},{\"features\":[30,2,206051,11,9,2,13,0,4,1,0,0,40,38],\"label\":0},{\"features\":[55,2,37438,8,11,2,2,0,4,1,0,0,40,38],\"label\":1},{\"features\":[60,2,162947,4,3,0,6,1,4,0,0,0,40,32],\"label\":0},{\"features\":[39,2,147548,11,9,2,2,0,4,1,0,0,40,38],\"label\":0},{\"features\":[50,2,159650,15,10,2,12,0,4,1,0,0,60,38],\"label\":1},{\"features\":[35,2,86648,14,15,2,9,0,4,1,7688,0,50,38],\"label\":1},{\"features\":[24,5,61737,9,13,4,9,1,4,1,0,0,40,38],\"label\":0},{\"features\":[33,1,70164,9,13,4,9,1,0,1,0,0,60,38],\"label\":0},{\"features\":[39,2,129597,9,13,2,11,0,4,1,3464,0,40,38],\"label\":0},{\"features\":[27,0,47907,9,13,4,0,1,4,0,0,0,40,38],\"label\":0},{\"features\":[39,2,150061,12,14,0,3,4,2,0,15020,0,60,38],\"label\":1},{\"features\":[51,2,55507,11,9,2,2,0,2,1,0,0,40,38],\"label\":0},{\"features\":[53,0,271544,11,9,2,0,0,2,1,0,1977,40,38],\"label\":1},{\"features\":[22,2,188950,15,10,4,12,3,4,1,0,0,40,38],\"label\":0},{\"features\":[44,2,252202,11,9,0,0,1,4,0,0,0,40,38],\"label\":0},{\"features\":[42,2,173590,15,10,2,0,0,4,1,0,1628,40,38],\"label\":0},{\"features\":[33,2,105370,11,9,0,10,1,4,1,0,0,70,38],\"label\":0},{\"features\":[46,2,162030,11,9,6,0,4,4,0,0,0,43,38],\"label\":0},{\"features\":[19,2,86150,1,7,4,11,3,1,0,0,0,19,29],\"label\":0},{\"features\":[18,2,25837,1,7,4,9,3,4,1,0,0,15,38],\"label\":0},{\"features\":[62,4,173631,15,10,2,3,0,4,1,0,0,70,38],\"label\":0},{\"features\":[81,2,100675,3,2,2,9,0,4,1,0,0,15,30],\"label\":0},{\"features\":[24,5,184216,15,10,4,0,3,4,0,0,0,40,38],\"label\":0},{\"features\":[20,2,38001,15,10,4,7,3,4,0,0,0,20,38],\"label\":0},{\"features\":[18,2,123714,1,7,4,5,1,2,1,0,0,40,38],\"label\":0},{\"features\":[21,2,256356,1,7,4,8,2,4,0,0,0,40,25],\"label\":0},{\"features\":[30,2,75573,9,13,4,3,1,4,0,0,0,45,10],\"label\":0},{\"features\":[53,2,31588,9,13,2,9,0,4,1,0,0,52,38],\"label\":1},{\"features\":[45,2,265097,11,9,2,7,0,4,1,0,1902,40,38],\"label\":1},{\"features\":[61,5,159908,1,7,6,7,4,4,0,0,0,32,38],\"label\":1},{\"features\":[24,3,142404,9,13,2,3,0,4,1,0,0,40,38],\"label\":1},{\"features\":[29,2,55390,7,12,4,12,1,4,1,0,0,45,38],\"label\":0},{\"features\":[20,2,49179,15,10,4,9,1,4,1,0,0,35,38],\"label\":0},{\"features\":[31,2,209448,0,6,2,4,0,4,1,2105,0,40,25],\"label\":0},{\"features\":[54,2,138944,11,9,2,11,0,4,1,0,0,44,38],\"label\":0},{\"features\":[24,2,181820,15,10,4,0,3,4,1,0,0,40,38],\"label\":0},{\"features\":[46,2,101430,1,7,0,5,4,2,0,0,0,40,38],\"label\":0},{\"features\":[27,2,238859,8,11,4,2,1,4,1,0,0,40,38],\"label\":0},{\"features\":[19,2,318822,15,10,4,0,2,4,0,0,0,40,38],\"label\":0},{\"features\":[30,2,174789,7,12,2,3,0,4,1,0,1848,50,38],\"label\":1},{\"features\":[17,2,146268,0,6,4,7,3,4,0,0,0,10,38],\"label\":0},{\"features\":[58,2,142158,9,13,0,3,4,4,0,0,0,35,38],\"label\":0},{\"features\":[42,2,510072,11,9,2,2,0,4,1,0,0,40,38],\"label\":1},{\"features\":[32,2,257043,11,9,4,0,1,4,0,0,0,42,38],\"label\":0},{\"features\":[58,2,127264,0,6,2,2,0,4,1,0,0,50,38],\"label\":0},{\"features\":[27,2,93021,11,9,4,0,4,3,0,0,0,40,38],\"label\":0},{\"features\":[56,2,282023,14,15,2,9,0,4,1,0,0,45,38],\"label\":1},{\"features\":[35,2,162601,11,9,0,0,4,4,0,0,0,40,38],\"label\":0},{\"features\":[41,4,147110,11,9,2,6,0,4,1,0,0,25,38],\"label\":0},{\"features\":[45,2,72844,11,9,0,3,1,4,0,0,0,46,38],\"label\":0},{\"features\":[36,3,306156,15,10,2,11,0,4,1,15024,0,60,38],\"label\":1},{\"features\":[32,1,286101,11,9,4,13,4,2,0,0,0,37,38],\"label\":0},{\"features\":[35,3,202027,15,10,0,3,1,4,1,0,0,60,38],\"label\":0},{\"features\":[24,2,174461,9,13,4,11,1,4,0,0,0,50,38],\"label\":0},{\"features\":[39,1,189911,1,7,0,0,4,4,0,0,0,40,38],\"label\":0},{\"features\":[57,4,95280,15,10,2,11,0,4,1,99999,0,45,38],\"label\":1},{\"features\":[24,1,249101,11,9,0,10,4,2,0,0,0,40,38],\"label\":0},{\"features\":[36,2,749636,15,10,0,0,4,4,0,0,0,40,38],\"label\":0},{\"features\":[35,2,187119,15,10,0,3,1,4,0,0,0,70,38],\"label\":0},{\"features\":[19,2,184207,15,10,4,11,1,4,1,0,0,40,38],\"label\":0},{\"features\":[42,2,176286,7,12,2,3,0,4,1,0,0,40,38],\"label\":1},{\"features\":[51,4,35295,11,9,4,4,4,4,1,0,0,45,38],\"label\":0},{\"features\":[44,2,165599,11,9,2,6,0,4,1,0,0,48,38],\"label\":0},{\"features\":[29,2,162312,8,11,4,6,1,3,1,0,0,40,38],\"label\":0},{\"features\":[36,5,137421,8,11,2,12,0,1,1,0,0,37,16],\"label\":0},{\"features\":[41,5,100800,12,14,0,9,1,4,1,0,0,35,38],\"label\":0},{\"features\":[66,2,142723,4,3,3,5,4,4,0,0,0,40,32],\"label\":0},{\"features\":[28,2,199903,9,13,4,0,1,4,0,0,0,20,38],\"label\":0},{\"features\":[38,2,210438,5,4,0,11,4,4,0,0,0,40,38],\"label\":0},{\"features\":[39,2,216149,14,15,0,9,1,4,1,0,0,70,38],\"label\":1},{\"features\":[34,2,355571,11,9,0,6,4,2,0,0,0,40,38],\"label\":0},{\"features\":[52,4,42984,14,15,2,9,0,4,1,0,0,70,38],\"label\":1},{\"features\":[52,2,226084,11,9,6,8,2,4,0,0,0,40,38],\"label\":0},{\"features\":[29,4,229842,11,9,4,13,4,2,1,0,0,45,38],\"label\":0},{\"features\":[40,4,29036,15,10,4,6,1,4,1,0,0,35,38],\"label\":0},{\"features\":[36,2,102864,11,9,4,6,3,4,0,0,0,40,38],\"label\":0},{\"features\":[27,4,334132,7,12,4,9,1,4,0,0,0,78,38],\"label\":0},{\"features\":[65,2,172906,11,9,6,0,4,4,0,0,0,40,38],\"label\":0},{\"features\":[41,2,163287,11,9,2,9,0,4,1,7688,0,43,38],\"label\":1},{\"features\":[41,4,83411,11,9,2,3,0,4,1,0,0,40,38],\"label\":1},{\"features\":[45,3,160440,11,9,0,3,1,4,1,0,0,42,38],\"label\":0},{\"features\":[65,2,143554,15,10,5,0,1,4,0,0,0,38,38],\"label\":0},{\"features\":[49,2,242987,9,13,2,9,0,4,1,0,0,40,3],\"label\":0},{\"features\":[25,2,166971,11,9,2,11,0,4,1,0,0,52,38],\"label\":0},{\"features\":[28,4,204984,9,13,4,12,1,4,1,0,0,45,38],\"label\":0},{\"features\":[24,2,267706,15,10,4,2,3,4,0,0,0,45,38],\"label\":0},{\"features\":[20,0,191878,15,10,4,0,3,2,0,0,0,20,38],\"label\":0},{\"features\":[33,5,175023,11,9,2,10,0,4,1,0,0,37,38],\"label\":0},{\"features\":[23,2,179423,9,13,4,0,1,4,0,0,0,5,38],\"label\":0},{\"features\":[78,3,188044,9,13,2,3,0,4,1,0,2392,40,38],\"label\":1},{\"features\":[30,2,427474,6,5,2,7,0,4,1,0,0,40,25],\"label\":0},{\"features\":[55,4,189933,5,4,2,4,0,4,1,0,0,50,38],\"label\":0},{\"features\":[20,2,219211,15,10,4,7,3,4,1,0,0,20,38],\"label\":0},{\"features\":[30,2,87561,7,12,4,12,1,4,0,0,0,40,38],\"label\":0},{\"features\":[38,2,203836,11,9,2,11,0,4,1,3464,0,40,3],\"label\":0},{\"features\":[34,2,157289,15,10,2,2,0,4,1,0,0,40,38],\"label\":0},{\"features\":[30,2,175856,12,14,2,9,0,4,1,0,0,38,38],\"label\":0},{\"features\":[40,2,240124,11,9,2,3,0,4,1,0,0,40,38],\"label\":1},{\"features\":[39,2,201410,9,13,2,13,0,4,1,0,1977,45,29],\"label\":1},{\"features\":[42,2,190179,9,13,2,9,0,4,1,99999,0,40,38],\"label\":1},{\"features\":[47,2,357848,11,9,2,2,0,4,1,0,0,40,38],\"label\":1},{\"features\":[33,2,120201,11,9,0,0,3,3,0,0,0,65,38],\"label\":0},{\"features\":[29,2,170301,11,9,2,0,5,4,0,2829,0,40,38],\"label\":0},{\"features\":[35,2,183898,8,11,2,3,0,4,1,7298,0,50,38],\"label\":1},{\"features\":[45,2,123681,11,9,2,11,0,4,1,0,0,40,38],\"label\":1},{\"features\":[33,2,169496,9,13,2,3,0,4,1,0,0,50,38],\"label\":1},{\"features\":[34,2,152246,11,9,2,13,0,0,1,0,0,52,38],\"label\":0},{\"features\":[47,3,101926,9,13,0,3,1,4,1,0,0,70,38],\"label\":1},{\"features\":[30,2,142977,15,10,0,2,1,4,1,0,0,65,38],\"label\":0},{\"features\":[34,2,260560,11,9,2,6,0,4,1,0,0,40,38],\"label\":0},{\"features\":[39,2,315291,11,9,4,0,4,2,0,0,0,40,38],\"label\":0},{\"features\":[24,2,306779,8,11,4,3,3,4,1,0,0,35,38],\"label\":0},{\"features\":[47,2,339863,11,9,2,11,0,4,1,0,0,45,38],\"label\":1},{\"features\":[77,4,71676,15,10,6,0,1,4,0,0,1944,1,38],\"label\":0},{\"features\":[53,2,250034,9,13,2,3,0,2,1,0,0,50,38],\"label\":1},{\"features\":[33,2,91666,2,8,0,3,1,4,1,0,0,40,38],\"label\":0},{\"features\":[36,2,113397,11,9,2,5,0,4,1,0,0,40,38],\"label\":0},{\"features\":[51,2,56915,11,9,2,2,0,0,1,0,0,40,38],\"label\":0},{\"features\":[17,2,99462,1,7,4,7,3,0,0,0,0,20,38],\"label\":0},{\"features\":[44,5,167265,12,14,2,9,0,4,1,0,0,60,38],\"label\":1},{\"features\":[43,2,124919,11,9,2,7,0,1,1,0,0,60,23],\"label\":0},{\"features\":[35,2,247750,11,9,6,7,4,2,1,0,0,40,38],\"label\":0},{\"features\":[46,1,36228,11,9,2,2,0,4,1,0,1902,40,38],\"label\":0},{\"features\":[39,0,314822,15,10,2,0,0,2,1,0,0,40,38],\"label\":0},{\"features\":[38,2,168407,15,10,0,0,4,4,0,5721,0,44,38],\"label\":0},{\"features\":[50,2,105010,9,13,2,4,0,4,1,0,0,45,38],\"label\":1},{\"features\":[47,2,72880,12,14,4,9,1,4,0,0,0,40,38],\"label\":0},{\"features\":[47,4,318593,11,9,2,3,0,4,1,0,0,25,38],\"label\":0},{\"features\":[26,2,201481,9,13,4,3,1,4,0,0,0,40,38],\"label\":0},{\"features\":[36,2,139743,15,10,6,9,3,4,0,0,0,40,38],\"label\":0},{\"features\":[46,2,216934,9,13,0,0,1,4,1,0,0,40,31],\"label\":0},{\"features\":[17,1,191910,1,7,4,11,3,4,1,0,0,20,38],\"label\":0},{\"features\":[19,2,229431,15,10,4,9,3,4,1,0,0,11,38],\"label\":0},{\"features\":[36,2,43712,0,6,2,2,0,4,1,0,0,40,38],\"label\":0},{\"features\":[41,2,320984,14,15,2,9,0,4,1,99999,0,65,38],\"label\":1},{\"features\":[51,2,126010,11,9,2,2,0,4,1,0,0,40,38],\"label\":0},{\"features\":[41,0,564135,12,14,2,3,0,4,1,0,0,40,38],\"label\":1},{\"features\":[37,2,305259,7,12,0,3,1,4,0,0,0,48,38],\"label\":0},{\"features\":[41,2,320744,11,9,4,2,1,4,1,3325,0,50,38],\"label\":0},{\"features\":[45,2,166929,1,7,2,2,0,4,1,0,0,40,38],\"label\":0},{\"features\":[57,3,123053,14,15,2,9,0,1,1,15024,0,50,18],\"label\":1},{\"features\":[32,2,154120,11,9,2,13,0,4,1,7298,0,40,38],\"label\":1},{\"features\":[48,2,109832,12,14,2,9,0,4,1,0,1902,40,38],\"label\":1},{\"features\":[45,3,84324,7,12,2,9,0,4,1,0,0,50,38],\"label\":1},{\"features\":[24,2,233280,7,12,4,11,3,4,0,0,0,37,38],\"label\":0},{\"features\":[43,1,174491,11,9,0,12,1,2,0,0,0,40,38],\"label\":0},{\"features\":[26,2,39014,2,8,2,8,5,3,0,0,0,40,5],\"label\":0},{\"features\":[48,2,273828,4,3,4,5,1,4,1,0,0,40,25],\"label\":0},{\"features\":[53,2,53197,12,14,2,9,0,4,1,3103,0,40,38],\"label\":1},{\"features\":[34,2,286020,11,9,2,6,0,4,1,0,0,45,38],\"label\":0},{\"features\":[48,2,235646,15,10,2,11,0,4,1,3103,0,40,38],\"label\":1},{\"features\":[61,2,160942,12,14,2,11,0,4,1,3103,0,50,38],\"label\":0},{\"features\":[42,4,177937,9,13,3,3,1,4,1,0,0,45,30],\"label\":0},{\"features\":[37,2,98941,12,14,4,3,1,4,1,0,0,40,38],\"label\":1},{\"features\":[32,2,169589,8,11,2,5,0,4,1,0,0,40,38],\"label\":1},{\"features\":[35,2,219902,11,9,5,13,4,2,0,0,0,48,38],\"label\":0},{\"features\":[38,2,107125,15,10,4,11,1,4,1,0,0,60,38],\"label\":0},{\"features\":[59,2,453067,15,10,2,9,0,4,1,0,0,36,38],\"label\":1},{\"features\":[43,2,222971,4,3,4,6,4,4,0,0,0,40,25],\"label\":0},{\"features\":[34,2,294064,12,14,2,3,0,4,1,0,0,50,9],\"label\":0},{\"features\":[21,2,56582,1,7,4,7,3,4,1,0,0,50,38],\"label\":0},{\"features\":[61,2,166124,11,9,2,2,0,4,1,0,0,40,38],\"label\":1},{\"features\":[32,2,107218,9,13,4,0,1,1,1,0,0,40,38],\"label\":0},{\"features\":[72,2,56559,11,9,2,11,0,4,1,0,0,12,38],\"label\":0},{\"features\":[45,2,198759,10,16,2,3,0,4,1,0,0,60,38],\"label\":0},{\"features\":[38,2,119741,12,14,2,2,0,2,1,0,0,40,38],\"label\":1},{\"features\":[26,2,117217,9,13,0,7,1,4,0,0,0,45,38],\"label\":0},{\"features\":[48,2,115585,9,13,2,11,0,4,1,0,0,40,38],\"label\":0},{\"features\":[22,5,311512,15,10,2,7,0,2,1,0,0,15,38],\"label\":0},{\"features\":[34,2,164190,15,10,2,9,0,4,1,0,1902,38,38],\"label\":1},{\"features\":[37,2,387430,15,10,2,0,0,4,1,0,0,37,38],\"label\":0},{\"features\":[62,2,214288,11,9,2,6,0,4,1,0,0,40,38],\"label\":0},{\"features\":[28,2,190911,11,9,2,2,0,4,1,0,0,40,38],\"label\":0},{\"features\":[35,2,267798,11,9,0,2,4,4,1,0,0,40,38],\"label\":0},{\"features\":[28,2,204516,0,6,4,13,1,4,1,0,0,45,38],\"label\":0},{\"features\":[19,2,125591,1,7,4,7,1,4,0,0,0,40,38],\"label\":0},{\"features\":[31,2,113364,7,12,2,6,0,4,1,0,0,55,38],\"label\":0},{\"features\":[64,2,133166,11,9,2,3,0,4,1,0,0,5,38],\"label\":0},{\"features\":[21,2,178255,15,10,4,0,1,4,0,0,0,30,3],\"label\":0},{\"features\":[21,2,116788,11,9,4,2,3,4,1,0,0,40,38],\"label\":0},{\"features\":[20,2,141481,1,7,2,11,2,4,0,0,0,50,38],\"label\":0},{\"features\":[33,2,138142,15,10,5,7,4,2,0,0,0,25,38],\"label\":0},{\"features\":[25,2,254613,11,9,4,2,3,4,1,0,0,40,4],\"label\":0},{\"features\":[54,4,200960,9,13,2,11,0,4,1,0,0,50,38],\"label\":1},{\"features\":[24,2,200593,11,9,2,5,0,4,1,0,0,50,38],\"label\":0},{\"features\":[62,2,200332,11,9,2,6,0,4,1,0,0,40,38],\"label\":0},{\"features\":[20,4,197207,11,9,0,11,1,4,0,0,0,30,38],\"label\":0},{\"features\":[53,2,133436,5,4,0,6,1,4,0,0,0,40,38],\"label\":0},{\"features\":[17,4,228786,0,6,4,7,3,4,0,0,0,24,38],\"label\":0},{\"features\":[27,2,404421,15,10,4,5,1,2,1,0,0,40,38],\"label\":0},{\"features\":[55,2,61708,11,9,2,0,0,4,1,6418,0,50,38],\"label\":1},{\"features\":[21,2,147655,11,9,4,0,3,4,0,0,0,40,38],\"label\":0},{\"features\":[35,1,103966,12,14,0,0,4,4,0,0,0,41,38],\"label\":0}]}"
     ]
    }
   ],
   "source": [
    "!head -n 5 $train_dataset_path"
   ]
  },
  {
   "cell_type": "markdown",
   "id": "5a838e40-d2e9-4dd8-907b-76c3220ea7d9",
   "metadata": {},
   "source": [
    "The test dataset only has features."
   ]
  },
  {
   "cell_type": "code",
   "execution_count": 6,
   "id": "b45b03e8-f5c5-4dbd-b1cf-5be4a1c43639",
   "metadata": {
    "tags": []
   },
   "outputs": [
    {
     "name": "stdout",
     "output_type": "stream",
     "text": [
      "{\"instances\":[{\"features\":[28,2,133937,9,13,2,0,0,4,1,15024,0,55,37]},{\"features\":[43,2,72338,12,14,2,12,0,1,1,0,0,40,37]},{\"features\":[34,2,162604,11,9,4,2,2,2,1,0,0,40,37]},{\"features\":[20,2,258509,11,9,4,6,3,2,1,0,0,40,37]},{\"features\":[27,2,446947,9,13,4,0,4,2,0,0,0,55,37]},{\"features\":[20,2,95552,11,9,4,11,3,4,1,0,0,40,37]},{\"features\":[46,2,145636,11,9,2,3,0,4,1,3103,0,50,37]},{\"features\":[18,2,150675,0,6,4,11,3,4,1,0,0,40,37]},{\"features\":[22,2,197050,11,9,4,7,3,4,0,0,0,20,37]},{\"features\":[20,2,246635,15,10,4,11,3,4,0,2597,0,20,37]},{\"features\":[65,0,200764,11,9,6,0,1,4,0,0,0,40,37]},{\"features\":[38,2,175665,15,10,2,9,5,4,0,0,0,40,37]},{\"features\":[34,3,337995,9,13,0,3,4,2,1,15020,0,50,37]},{\"features\":[42,2,86912,9,13,0,7,1,4,1,0,0,40,37]},{\"features\":[40,2,100451,15,10,4,2,1,4,1,0,0,40,37]},{\"features\":[45,2,192360,12,14,2,3,0,4,1,0,1902,50,37]},{\"features\":[55,2,150507,15,10,2,0,0,4,1,0,0,40,37]},{\"features\":[36,2,48976,9,13,2,11,5,4,0,0,0,40,37]},{\"features\":[34,2,111567,15,10,4,3,1,4,1,0,0,40,37]},{\"features\":[26,2,167350,15,10,2,6,0,4,1,3137,0,50,37]},{\"features\":[29,2,485944,9,13,4,11,3,2,1,0,0,40,37]},{\"features\":[44,1,112763,12,14,0,9,4,4,0,0,0,38,37]},{\"features\":[37,5,195843,11,9,2,2,0,4,1,5013,0,40,37]},{\"features\":[22,5,181096,9,13,4,9,3,2,1,0,0,20,37]},{\"features\":[53,2,119170,11,9,2,13,0,2,1,0,1740,40,37]},{\"features\":[61,1,205711,11,9,2,9,0,4,1,0,0,30,37]},{\"features\":[46,0,260549,15,10,2,0,0,4,1,0,0,80,37]},{\"features\":[18,2,129053,1,7,4,7,3,4,1,0,0,28,37]},{\"features\":[22,2,209034,15,10,4,7,1,4,0,0,0,35,37]},{\"features\":[29,2,266583,11,9,2,11,0,2,1,2829,0,38,37]},{\"features\":[30,2,96480,8,11,4,0,3,4,0,0,0,32,37]},{\"features\":[66,4,331960,11,9,2,2,0,4,1,0,0,20,37]},{\"features\":[44,2,83891,9,13,0,0,3,1,1,5455,0,40,37]},{\"features\":[61,5,103575,15,10,0,2,1,4,1,0,0,40,10]},{\"features\":[38,2,589809,9,13,2,0,0,4,1,0,0,45,37]},{\"features\":[33,2,214288,11,9,2,6,0,4,1,0,1848,48,37]},{\"features\":[31,2,280927,9,13,4,3,1,4,0,0,0,40,37]},{\"features\":[49,2,380922,12,14,2,3,0,4,1,15024,0,80,37]},{\"features\":[34,2,361497,1,7,2,13,0,4,1,0,0,40,37]},{\"features\":[37,2,306868,11,9,0,2,4,4,1,0,0,38,37]},{\"features\":[17,2,364952,0,6,3,7,2,4,1,0,0,40,37]},{\"features\":[60,2,338833,11,9,4,0,1,2,0,0,0,38,37]},{\"features\":[30,4,70985,11,9,2,4,0,4,1,0,0,75,37]},{\"features\":[22,2,240229,11,9,4,0,3,4,0,0,0,40,37]},{\"features\":[51,2,173987,11,9,2,2,0,4,1,0,0,40,37]},{\"features\":[29,2,157103,8,11,4,12,3,2,1,0,1974,40,37]},{\"features\":[42,2,205195,11,9,2,2,0,4,1,0,0,40,37]},{\"features\":[25,5,120268,15,10,2,2,3,4,1,0,0,50,37]},{\"features\":[64,2,104973,11,9,2,0,0,4,1,0,0,45,37]},{\"features\":[38,4,248694,15,10,2,2,0,4,1,0,0,36,37]},{\"features\":[54,1,108739,1,7,6,10,4,2,0,0,0,40,37]},{\"features\":[57,2,151874,11,9,2,7,5,2,0,0,0,50,37]},{\"features\":[27,2,150767,15,10,4,6,3,4,1,0,0,48,37]},{\"features\":[53,2,239155,15,10,2,3,0,4,1,0,0,50,37]},{\"features\":[35,2,166497,14,15,2,9,0,4,1,0,1902,60,37]},{\"features\":[22,2,50610,15,10,4,7,1,4,0,0,0,40,37]},{\"features\":[52,2,335997,9,13,2,12,0,4,1,7688,0,38,37]},{\"features\":[27,4,209301,11,9,2,2,0,4,1,0,0,60,37]},{\"features\":[26,2,247196,15,10,4,5,3,4,1,0,0,35,37]},{\"features\":[23,2,213902,15,10,4,7,4,4,0,0,0,20,37]},{\"features\":[25,1,281412,11,9,4,7,3,4,0,0,0,35,37]},{\"features\":[17,2,154337,1,7,4,7,3,4,0,0,0,13,37]},{\"features\":[22,2,95647,1,7,4,13,3,1,1,0,0,40,28]},{\"features\":[32,2,177695,9,13,2,2,0,1,1,0,0,45,17]},{\"features\":[54,2,64421,15,10,6,12,4,4,0,0,0,40,37]},{\"features\":[45,2,176341,11,9,0,7,4,4,0,0,0,32,37]},{\"features\":[20,2,203914,2,8,4,7,3,4,0,0,0,25,37]},{\"features\":[22,2,23940,11,9,4,3,1,1,1,0,0,40,37]},{\"features\":[32,2,169768,9,13,5,12,1,2,1,0,0,40,37]},{\"features\":[36,2,109133,9,13,2,11,0,4,1,0,0,50,37]},{\"features\":[33,2,41610,11,9,5,2,1,4,1,0,0,40,37]},{\"features\":[37,2,33440,11,9,5,7,4,4,0,0,0,40,37]},{\"features\":[46,2,151325,0,6,2,2,0,4,1,0,0,40,37]},{\"features\":[54,1,182429,11,9,6,13,4,4,0,0,0,38,37]},{\"features\":[34,2,195748,7,12,4,0,3,2,0,0,0,38,37]},{\"features\":[22,2,248446,4,3,4,8,1,4,1,0,0,50,12]},{\"features\":[42,2,188789,5,4,6,5,1,4,0,0,0,35,37]},{\"features\":[34,2,185480,7,12,4,0,3,4,0,0,0,40,37]},{\"features\":[39,2,30875,9,13,0,11,4,4,0,0,0,40,37]},{\"features\":[21,2,116489,15,10,4,9,3,4,0,0,0,40,37]},{\"features\":[18,2,99591,1,7,4,7,3,4,0,0,0,16,37]},{\"features\":[43,2,282678,11,9,0,3,1,4,0,0,0,60,37]},{\"features\":[56,1,238405,11,9,6,0,1,4,0,0,0,40,37]},{\"features\":[32,1,247156,11,9,2,7,0,2,1,3103,0,38,37]},{\"features\":[19,2,73461,11,9,4,12,1,2,1,0,0,40,37]},{\"features\":[35,2,98776,11,9,4,3,1,4,1,0,0,60,37]},{\"features\":[30,2,232766,11,9,0,7,4,4,0,0,0,40,37]},{\"features\":[32,2,220333,11,9,2,2,0,4,1,7298,0,46,37]},{\"features\":[27,2,321456,15,10,2,10,0,4,1,0,0,40,37]},{\"features\":[41,2,173307,11,9,2,13,0,4,1,0,0,43,37]},{\"features\":[22,2,351952,15,10,4,0,3,4,0,0,0,38,37]},{\"features\":[33,2,108438,15,10,2,3,0,4,1,0,0,60,37]},{\"features\":[30,2,171483,11,9,4,2,3,4,1,0,0,38,37]},{\"features\":[32,2,453983,11,9,2,5,0,4,1,0,0,44,37]},{\"features\":[37,2,48779,11,9,4,3,1,4,1,0,0,50,37]},{\"features\":[42,2,222756,9,13,0,9,4,4,1,7430,0,40,37]},{\"features\":[49,2,118520,11,9,0,0,1,4,0,0,0,45,37]},{\"features\":[34,2,199539,8,11,2,2,0,4,1,0,0,48,37]},{\"features\":[42,2,201343,11,9,2,2,0,4,1,2885,0,40,37]},{\"features\":[49,2,99340,4,3,5,6,4,4,0,0,0,40,5]},{\"features\":[48,2,163706,9,13,2,3,0,4,1,15024,0,70,37]},{\"features\":[59,2,176118,12,14,2,9,0,4,1,0,0,7,37]},{\"features\":[67,3,147377,11,9,2,3,0,4,1,0,0,45,37]},{\"features\":[36,2,225330,11,9,0,7,4,4,0,0,0,40,37]},{\"features\":[32,2,147921,14,15,4,7,1,4,0,0,0,35,37]},{\"features\":[36,2,110013,12,14,4,11,1,4,0,0,0,40,37]},{\"features\":[76,4,130585,15,10,2,7,5,4,0,0,0,12,37]},{\"features\":[41,4,134724,8,11,2,7,5,4,0,3103,0,40,37]},{\"features\":[44,2,160369,15,10,2,8,0,4,1,0,0,2,37]},{\"features\":[24,2,172169,15,10,4,5,4,4,1,0,0,30,37]},{\"features\":[35,2,106471,9,13,4,2,1,4,1,0,0,35,37]},{\"features\":[25,1,336320,9,13,0,10,1,4,0,0,0,40,37]},{\"features\":[62,2,186446,15,10,0,12,4,4,0,0,0,43,37]},{\"features\":[39,2,183279,9,13,2,11,0,4,1,7298,0,40,37]},{\"features\":[65,4,135517,5,4,2,2,0,4,1,0,0,40,37]},{\"features\":[48,0,72808,1,7,0,0,1,4,0,0,0,42,37]},{\"features\":[56,2,197577,11,9,0,7,1,4,0,0,0,40,37]},{\"features\":[51,3,110327,1,7,2,2,0,4,1,0,0,60,37]},{\"features\":[23,2,237811,15,10,4,0,4,2,0,0,0,40,36]},{\"features\":[18,2,632271,15,10,3,0,2,4,0,0,0,40,27]},{\"features\":[18,2,220754,1,7,4,5,3,4,1,0,0,24,37]},{\"features\":[61,2,29797,11,9,0,11,2,4,0,0,0,40,37]},{\"features\":[32,2,183470,8,11,2,2,0,0,1,0,0,42,37]},{\"features\":[36,2,127388,7,12,2,11,5,4,0,0,0,40,37]},{\"features\":[19,2,78401,11,9,4,7,3,4,1,0,0,40,37]},{\"features\":[37,2,385330,5,4,5,7,4,2,1,0,0,40,37]},{\"features\":[53,2,161691,12,14,0,3,1,4,0,4865,0,40,37]},{\"features\":[31,2,301251,9,13,2,2,0,4,1,0,0,50,37]},{\"features\":[30,2,198660,11,9,2,5,0,4,1,0,0,40,37]},{\"features\":[44,2,105896,9,13,0,9,1,4,0,0,0,36,37]},{\"features\":[23,2,132220,11,9,2,5,0,4,1,0,0,40,37]},{\"features\":[45,1,317846,7,12,0,3,4,4,1,0,0,47,37]},{\"features\":[32,2,33117,8,11,2,7,0,4,1,0,0,40,37]},{\"features\":[41,2,192602,15,10,2,2,0,4,1,0,0,40,37]},{\"features\":[30,2,408328,13,1,3,5,4,4,1,0,0,40,24]},{\"features\":[34,2,233729,7,12,2,9,0,2,1,0,0,50,37]},{\"features\":[21,2,174063,8,11,4,7,3,4,0,0,0,20,37]},{\"features\":[30,2,175323,8,11,2,3,5,4,0,0,0,52,37]},{\"features\":[20,2,460356,2,8,4,7,1,4,1,0,0,30,24]},{\"features\":[33,2,119422,11,9,2,3,0,4,1,0,0,40,37]},{\"features\":[26,2,269168,15,10,2,3,0,1,1,0,0,40,37]},{\"features\":[21,5,173534,15,10,4,9,3,4,0,0,0,40,6]},{\"features\":[48,2,235891,11,9,4,7,1,4,1,0,0,40,31]},{\"features\":[70,3,217801,9,13,2,11,0,4,1,0,0,15,37]},{\"features\":[52,1,251841,12,14,4,9,1,4,0,0,0,50,37]},{\"features\":[24,2,196943,8,11,2,9,0,4,1,0,0,40,37]},{\"features\":[41,2,204415,1,7,0,5,1,4,1,0,0,48,37]},{\"features\":[23,2,130959,9,13,2,9,0,4,1,2407,0,6,1]},{\"features\":[46,2,316271,4,3,2,2,0,4,1,0,0,55,37]},{\"features\":[59,2,124137,11,9,0,11,1,4,1,2202,0,40,37]},{\"features\":[36,4,140676,9,13,4,11,1,4,1,0,0,50,37]},{\"features\":[52,2,91506,11,9,2,5,0,4,1,0,0,45,37]},{\"features\":[40,2,300195,15,10,0,12,4,2,0,0,0,40,37]},{\"features\":[51,3,119570,9,13,2,2,0,4,1,0,0,50,37]},{\"features\":[43,2,303155,9,13,2,3,0,4,1,0,0,50,37]},{\"features\":[30,2,210541,11,9,0,2,1,4,0,0,0,40,37]},{\"features\":[48,2,153312,15,10,2,11,0,2,1,0,0,60,37]},{\"features\":[50,5,137815,9,13,2,2,0,4,1,0,0,40,37]},{\"features\":[38,4,179824,11,9,4,4,1,4,1,0,0,50,37]},{\"features\":[41,2,106159,11,9,4,6,3,4,1,14344,0,48,37]},{\"features\":[69,2,104827,11,9,6,12,4,4,0,0,0,8,37]},{\"features\":[21,2,278254,15,10,4,5,3,2,1,0,0,40,37]},{\"features\":[33,3,287372,15,10,2,3,0,4,1,0,0,50,37]},{\"features\":[51,5,152810,8,11,2,12,0,4,1,0,0,40,37]},{\"features\":[46,2,106662,9,13,5,11,1,4,1,99999,0,55,37]},{\"features\":[35,2,108140,11,9,0,2,1,4,1,0,0,40,37]},{\"features\":[29,2,231507,11,9,4,2,1,4,1,0,0,35,37]},{\"features\":[34,4,114074,8,11,6,3,4,4,0,0,0,40,37]},{\"features\":[52,2,163776,11,9,2,11,0,4,1,0,1902,60,37]},{\"features\":[45,2,123219,4,3,4,6,1,4,1,0,0,40,37]},{\"features\":[25,2,391591,11,9,4,2,1,4,1,0,0,50,37]},{\"features\":[61,1,202384,9,13,2,9,5,4,0,0,0,30,37]},{\"features\":[58,2,282023,9,13,2,3,0,4,1,0,0,50,37]},{\"features\":[51,5,22211,11,9,0,3,1,4,1,0,0,37,37]},{\"features\":[27,2,192936,9,13,4,9,1,4,0,0,0,45,37]},{\"features\":[51,1,106365,7,12,0,0,4,4,0,0,0,40,37]},{\"features\":[51,2,166461,1,7,0,6,4,2,0,5455,0,40,37]},{\"features\":[52,2,251585,0,6,2,13,0,4,1,0,0,55,37]},{\"features\":[61,1,149981,11,9,6,0,1,4,0,0,0,40,37]},{\"features\":[23,2,161092,9,13,4,0,3,4,1,0,0,40,37]},{\"features\":[40,2,21755,15,10,4,2,2,0,1,0,0,30,37]},{\"features\":[20,2,174436,11,9,4,2,3,4,1,0,0,60,37]},{\"features\":[26,4,33016,8,11,0,7,4,4,0,0,0,55,37]},{\"features\":[55,1,134042,12,14,2,3,5,4,0,0,0,40,37]},{\"features\":[32,2,259425,15,10,0,2,1,4,1,0,0,40,37]},{\"features\":[26,2,359854,9,13,4,8,2,4,0,0,0,35,24]},{\"features\":[44,2,217039,14,15,2,9,0,4,1,99999,0,60,37]},{\"features\":[61,2,194804,13,1,5,13,1,2,1,14344,0,40,37]},{\"features\":[34,4,198068,11,9,2,2,0,4,1,0,0,40,37]},{\"features\":[42,4,52131,15,10,4,3,1,4,1,0,0,40,37]},{\"features\":[23,2,239539,11,9,4,6,3,1,1,0,0,40,28]},{\"features\":[25,2,54298,11,9,2,11,0,4,1,0,0,30,37]},{\"features\":[17,2,35603,2,8,4,11,3,4,0,0,0,20,37]},{\"features\":[31,2,241880,8,11,4,0,1,2,1,0,0,45,37]},{\"features\":[35,2,46947,15,10,0,0,1,4,0,0,0,45,37]},{\"features\":[28,2,203171,15,10,0,2,1,4,1,0,0,40,37]},{\"features\":[37,2,199739,15,10,0,2,3,4,1,0,0,40,37]},{\"features\":[23,2,215395,15,10,4,2,1,4,1,0,0,40,37]},{\"features\":[53,2,117932,11,9,0,6,1,4,0,0,0,40,37]},{\"features\":[30,5,107142,9,13,2,9,0,4,1,0,0,37,37]},{\"features\":[33,2,173730,8,11,2,6,0,4,1,0,0,40,37]},{\"features\":[53,3,200400,10,16,0,3,1,4,1,0,0,60,37]},{\"features\":[50,2,158948,11,9,2,9,0,4,1,0,0,84,37]},{\"features\":[39,2,206888,15,10,0,0,1,4,0,0,0,40,37]},{\"features\":[26,2,124483,9,13,4,9,1,1,1,0,0,25,17]},{\"features\":[34,5,62327,9,13,2,9,0,4,1,0,0,40,37]},{\"features\":[26,2,366889,11,9,4,13,1,4,1,0,0,40,37]},{\"features\":[21,2,30796,15,10,4,7,3,4,0,0,0,25,37]},{\"features\":[46,2,130667,11,9,2,13,0,2,1,0,0,40,37]},{\"features\":[67,0,231604,11,9,4,0,1,4,1,0,0,40,37]},{\"features\":[25,2,332409,8,11,2,2,0,4,1,0,0,40,37]},{\"features\":[34,2,51854,11,9,4,6,1,4,1,0,0,40,37]},{\"features\":[50,2,62593,8,11,2,4,0,1,1,0,0,40,37]},{\"features\":[47,2,78954,1,7,0,11,4,4,0,0,0,28,37]},{\"features\":[39,2,205997,15,10,2,11,5,4,0,0,0,21,37]},{\"features\":[51,2,231230,11,9,2,6,0,4,1,0,0,45,37]},{\"features\":[62,2,291904,11,9,0,8,1,2,0,0,0,20,37]},{\"features\":[58,2,49893,12,14,2,3,0,4,1,0,0,50,37]},{\"features\":[36,2,141584,15,10,2,9,0,4,1,0,0,50,37]},{\"features\":[28,2,259609,11,9,4,2,3,4,1,0,0,50,37]},{\"features\":[22,2,125010,9,13,4,0,1,4,0,0,0,20,37]},{\"features\":[59,5,136819,12,14,2,9,0,4,1,0,0,8,37]},{\"features\":[69,4,199829,9,13,2,3,0,4,1,0,1258,40,37]},{\"features\":[33,4,100580,15,10,2,7,5,4,0,0,0,10,37]},{\"features\":[56,2,257555,12,14,2,9,0,4,1,0,0,40,37]},{\"features\":[47,2,100113,5,4,2,13,0,4,1,0,2051,40,37]},{\"features\":[38,0,236648,11,9,2,2,0,4,1,0,0,40,37]},{\"features\":[41,2,99679,0,6,2,2,0,4,1,0,0,40,37]},{\"features\":[32,2,339482,12,14,4,3,1,4,1,0,0,48,37]},{\"features\":[28,2,120475,11,9,4,2,1,4,1,0,0,35,37]},{\"features\":[22,2,137876,15,10,4,10,1,4,1,0,0,20,37]},{\"features\":[36,4,110861,11,9,0,2,3,4,1,0,0,20,37]},{\"features\":[55,4,225623,15,10,2,4,0,4,1,0,0,40,37]},{\"features\":[47,2,323212,11,9,6,7,1,4,0,0,0,40,37]},{\"features\":[59,2,157831,11,9,0,0,1,4,0,0,0,16,37]},{\"features\":[25,2,25497,15,10,4,13,1,4,1,4101,0,40,37]},{\"features\":[42,4,114580,12,14,0,3,4,4,0,0,0,70,37]},{\"features\":[22,2,273675,11,9,3,7,2,2,0,0,0,35,31]},{\"features\":[31,0,40909,15,10,2,12,0,2,1,0,0,40,37]},{\"features\":[42,3,557349,9,13,2,3,0,4,1,0,0,70,37]},{\"features\":[18,2,219256,15,10,4,11,3,4,0,0,0,25,37]},{\"features\":[39,2,126569,11,9,4,2,1,4,1,0,0,40,29]},{\"features\":[37,2,108282,9,13,2,3,0,4,1,0,0,45,37]},{\"features\":[31,2,147270,15,10,4,0,3,4,0,0,0,35,37]},{\"features\":[44,2,90582,9,13,2,2,0,4,1,0,0,50,37]},{\"features\":[51,2,379797,0,6,2,6,0,2,1,0,0,40,37]},{\"features\":[37,1,136749,11,9,4,0,3,4,0,0,0,35,37]},{\"features\":[25,0,198813,9,13,4,0,4,2,0,0,1590,40,37]},{\"features\":[30,2,159123,11,9,2,2,0,4,1,0,0,45,37]},{\"features\":[36,3,196554,11,9,2,2,0,4,1,0,0,46,37]},{\"features\":[31,2,238002,9,13,2,13,0,4,1,0,0,55,24]},{\"features\":[43,2,125577,11,9,5,0,4,2,0,0,0,40,37]},{\"features\":[22,2,97212,11,9,4,7,1,4,0,0,0,15,37]},{\"features\":[19,2,222866,0,6,4,4,2,4,1,0,0,40,37]},{\"features\":[18,2,175752,11,9,4,5,3,4,1,0,0,30,37]},{\"features\":[28,2,77009,15,10,4,11,2,4,0,0,0,40,37]},{\"features\":[54,2,162745,11,9,2,2,0,4,1,0,0,55,37]},{\"features\":[30,2,94235,9,13,2,9,0,4,1,0,1977,50,37]},{\"features\":[19,2,158343,15,10,4,7,3,4,0,0,0,12,37]},{\"features\":[49,2,201127,1,7,2,13,0,4,1,0,1902,70,37]},{\"features\":[39,2,118429,15,10,0,11,1,4,1,0,0,40,37]},{\"features\":[36,2,334365,1,7,2,13,0,4,1,0,0,60,37]},{\"features\":[42,2,89226,8,11,2,13,0,4,1,0,0,45,37]},{\"features\":[33,2,56121,11,9,4,13,1,4,1,0,0,60,37]},{\"features\":[61,5,140851,9,13,2,9,0,4,1,0,0,40,37]},{\"features\":[36,2,86643,2,8,2,6,0,4,1,0,0,48,37]},{\"features\":[20,2,175808,11,9,4,2,3,4,1,0,0,40,37]},{\"features\":[19,2,58471,11,9,4,2,3,4,0,0,0,40,37]},{\"features\":[55,2,118057,11,9,6,2,4,4,1,0,0,51,37]},{\"features\":[30,2,192002,15,10,2,2,0,4,1,0,0,40,37]},{\"features\":[61,2,43904,11,9,0,7,1,2,1,0,0,40,37]},{\"features\":[39,3,31709,15,10,2,0,5,4,0,0,0,20,37]},{\"features\":[39,2,286026,9,13,2,2,0,4,1,0,0,52,37]},{\"features\":[55,4,110844,11,9,2,3,5,4,0,0,0,40,37]},{\"features\":[32,2,200401,11,9,4,3,1,4,1,0,0,40,3]},{\"features\":[44,5,101603,9,13,2,3,0,4,1,0,0,40,37]},{\"features\":[58,2,49159,11,9,2,0,5,4,0,0,0,40,37]},{\"features\":[52,5,168035,15,10,2,12,0,4,1,0,0,45,37]},{\"features\":[18,2,260977,2,8,4,11,3,4,0,0,0,20,37]},{\"features\":[47,2,33794,11,9,2,2,0,4,1,0,0,56,37]},{\"features\":[26,2,242464,8,11,4,3,1,4,1,0,0,50,37]},{\"features\":[35,2,97554,7,12,2,3,0,4,1,0,0,50,37]},{\"features\":[39,4,245361,15,10,4,9,3,4,0,0,0,10,37]},{\"features\":[26,2,178478,15,10,4,11,3,4,0,0,0,40,37]},{\"features\":[31,2,104509,15,10,5,7,4,4,0,0,0,35,37]},{\"features\":[31,2,159187,15,10,2,2,0,4,1,0,0,25,37]},{\"features\":[67,4,167015,9,13,6,11,1,4,1,0,0,30,37]},{\"features\":[40,2,199668,11,9,0,11,3,4,0,0,0,25,37]},{\"features\":[35,2,37778,11,9,2,2,0,4,1,0,0,50,37]},{\"features\":[54,4,139023,15,10,2,11,0,4,1,0,0,40,37]},{\"features\":[45,3,188694,14,15,2,9,0,4,1,0,0,50,37]},{\"features\":[50,2,178251,12,14,2,0,5,4,0,0,0,40,37]},{\"features\":[51,2,81534,1,7,4,7,2,1,1,0,0,35,37]},{\"features\":[37,2,353550,12,14,2,3,0,4,1,15024,0,60,37]},{\"features\":[54,1,231482,11,9,2,2,0,4,1,0,0,40,30]},{\"features\":[22,2,228394,11,9,4,7,1,4,0,0,0,50,37]},{\"features\":[38,1,94529,11,9,2,5,5,4,0,3103,0,50,37]},{\"features\":[35,2,135289,8,11,0,2,1,4,1,0,0,50,37]},{\"features\":[37,0,32950,7,12,0,3,4,2,0,0,0,40,37]},{\"features\":[45,2,165346,15,10,0,3,4,4,0,0,0,64,37]},{\"features\":[57,1,62701,15,10,6,3,1,4,1,6849,0,40,37]},{\"features\":[30,2,49358,2,8,4,11,3,2,0,0,0,40,37]},{\"features\":[52,2,227832,9,13,2,9,0,4,1,0,0,50,37]},{\"features\":[67,2,188903,9,13,2,9,0,4,1,0,0,40,37]},{\"features\":[28,4,183151,11,9,2,2,0,4,1,0,0,40,37]},{\"features\":[42,5,116493,9,13,2,10,0,4,1,0,0,52,37]},{\"features\":[48,1,93449,14,15,2,9,0,1,1,99999,0,40,28]},{\"features\":[18,2,211683,2,8,4,5,3,4,1,0,0,20,37]},{\"features\":[47,2,155107,11,9,2,12,0,4,1,0,0,40,37]},{\"features\":[55,3,150917,15,10,2,3,0,4,1,0,1977,45,37]},{\"features\":[51,2,135388,2,8,6,6,1,4,1,0,1564,40,37]},{\"features\":[38,2,183683,0,6,3,7,1,4,1,0,0,45,37]},{\"features\":[47,4,185859,11,9,2,4,0,4,1,3103,0,60,37]},{\"features\":[44,4,22933,11,9,2,3,0,4,1,0,0,40,37]},{\"features\":[40,2,356934,14,15,2,3,0,4,1,0,0,50,37]},{\"features\":[52,2,94448,8,11,2,9,0,4,1,0,0,40,37]},{\"features\":[59,2,107318,5,4,2,2,0,4,1,5178,0,50,37]},{\"features\":[31,2,83413,11,9,4,11,3,4,1,0,0,40,37]},{\"features\":[34,2,162312,9,13,2,0,0,1,1,0,0,40,28]},{\"features\":[44,2,118212,0,6,2,6,0,4,1,0,0,40,37]},{\"features\":[35,1,132879,11,9,2,13,0,4,1,0,0,40,37]},{\"features\":[25,4,121285,9,13,4,11,1,4,0,0,0,40,37]},{\"features\":[22,2,341760,9,13,4,3,3,4,0,0,0,40,37]},{\"features\":[35,2,216473,11,9,0,2,4,4,1,0,0,40,37]},{\"features\":[25,2,179255,15,10,4,0,3,4,0,0,0,25,37]},{\"features\":[36,2,298635,9,13,2,7,0,3,1,0,0,40,18]},{\"features\":[20,2,204596,15,10,4,11,3,4,0,0,0,32,37]},{\"features\":[27,2,285897,11,9,2,13,0,4,1,0,1887,40,37]},{\"features\":[19,2,386492,15,10,4,5,3,4,1,0,0,16,37]},{\"features\":[29,2,178610,15,10,0,7,4,4,0,0,0,21,37]},{\"features\":[49,2,96854,11,9,0,7,4,4,1,0,0,40,37]},{\"features\":[45,2,293628,15,10,2,9,0,4,1,0,0,50,28]},{\"features\":[67,2,192995,11,9,6,0,4,4,0,6723,0,40,37]},{\"features\":[30,2,235847,9,13,4,7,3,4,0,0,0,24,37]}]}"
     ]
    }
   ],
   "source": [
    "!head -n 5 $test_dataset_path"
   ]
  },
  {
   "cell_type": "markdown",
   "id": "df3caae2-4d31-4ee1-b4ce-0eb7d1c811f8",
   "metadata": {},
   "source": [
    "Here are the headers of the train dataset. \"Target\" is the header of the ground truth label, and the others are the feature headers. They will be used to beautify the analysis report."
   ]
  },
  {
   "cell_type": "code",
   "execution_count": 7,
   "id": "5266e5e7-eb58-4dd7-8fa6-c385acf6b3a6",
   "metadata": {
    "tags": []
   },
   "outputs": [],
   "source": [
    "all_headers = [\n",
    "    \"Age\",\n",
    "    \"Workclass\",\n",
    "    \"fnlwgt\",\n",
    "    \"Education\",\n",
    "    \"Education-Num\",\n",
    "    \"Marital Status\",\n",
    "    \"Occupation\",\n",
    "    \"Relationship\",\n",
    "    \"Ethnic group\",\n",
    "    \"Sex\",\n",
    "    \"Capital Gain\",\n",
    "    \"Capital Loss\",\n",
    "    \"Hours per week\",\n",
    "    \"Country\",\n",
    "    \"Target\",\n",
    "]"
   ]
  },
  {
   "cell_type": "markdown",
   "id": "386e0d4b-4597-466a-bce1-e18278cf93a7",
   "metadata": {},
   "source": [
    "To verify that the execution role for this notebook has the necessary permissions to proceed, put a simple test object into the S3 bucket specified above. If this command fails, update the role to have `s3:PutObject` permission on the bucket and try again."
   ]
  },
  {
   "cell_type": "code",
   "execution_count": 8,
   "id": "1537eaae-d22f-4a5b-bcc6-0b31f323e831",
   "metadata": {
    "tags": []
   },
   "outputs": [
    {
     "name": "stdout",
     "output_type": "stream",
     "text": [
      "Success! We are all set to proceed with uploading to S3.\n"
     ]
    }
   ],
   "source": [
    "sagemaker.s3.S3Uploader.upload_string_as_file_body(\n",
    "    body=\"hello\",\n",
    "    desired_s3_uri=f\"{s3_key}/upload-test-file.txt\",\n",
    "    sagemaker_session=sagemaker_session,\n",
    ")\n",
    "print(\"Success! We are all set to proceed with uploading to S3.\")"
   ]
  },
  {
   "cell_type": "markdown",
   "id": "abce5c2a-6b46-489b-aab2-6f26dc185c8e",
   "metadata": {},
   "source": [
    "Then upload the data files to S3 so that they can be used by SageMaker."
   ]
  },
  {
   "cell_type": "code",
   "execution_count": 9,
   "id": "48a03cdf-6353-4b25-9807-e3bdd3957f6f",
   "metadata": {
    "tags": []
   },
   "outputs": [
    {
     "name": "stdout",
     "output_type": "stream",
     "text": [
      "Train data is uploaded to: s3://sagemaker-us-west-2-678264136642/sagemaker/DEMO-ClarifyModelMonitor-1705692244-1224/validation-dataset.json\n",
      "Test data is uploaded to: s3://sagemaker-us-west-2-678264136642/sagemaker/DEMO-ClarifyModelMonitor-1705692244-1224/test-dataset.json\n"
     ]
    }
   ],
   "source": [
    "train_data_s3_uri = sagemaker.s3.S3Uploader.upload(\n",
    "    local_path=train_dataset_path,\n",
    "    desired_s3_uri=s3_key,\n",
    "    sagemaker_session=sagemaker_session,\n",
    ")\n",
    "print(f\"Train data is uploaded to: {train_data_s3_uri}\")\n",
    "test_data_s3_uri = sagemaker.s3.S3Uploader.upload(\n",
    "    local_path=test_dataset_path,\n",
    "    desired_s3_uri=s3_key,\n",
    "    sagemaker_session=sagemaker_session,\n",
    ")\n",
    "print(f\"Test data is uploaded to: {test_data_s3_uri}\")"
   ]
  },
  {
   "cell_type": "markdown",
   "id": "74ca9cc1-8eb9-491f-a210-b4b383f8b00a",
   "metadata": {},
   "source": [
    "### SageMaker model\n",
    "\n",
    "This example includes a prebuilt [SageMaker Linear Learner](https://docs.aws.amazon.com/sagemaker/latest/dg/linear-learner.html) model trained by [a SageMaker Clarify offline processing example notebook](https://github.com/aws/amazon-sagemaker-examples/blob/main/sagemaker-clarify/fairness_and_explainability/fairness_and_explainability_jsonlines_format.ipynb). The model supports [SageMaker JSON Lines dense format](https://docs.aws.amazon.com/sagemaker/latest/dg/cdf-inference.html#common-in-formats) (MIME type `\"application/jsonlines\"`).\n",
    "\n",
    "* The model input can one or more lines, each line is a JSON object that has a \"features\" key pointing to a list of feature values concerning demographic characteristics of individuals. For example,\n",
    "\n",
    "```\n",
    "{\"features\":[28,2,133937,9,13,2,0,0,4,1,15024,0,55,37]}\n",
    "{\"features\":[43,2,72338,12,14,2,12,0,1,1,0,0,40,37]}\n",
    "```\n",
    "\n",
    "* The model output has the predictions of whether a person has a yearly income that is more than $50,000. Each prediction is a JSON object that has a \"predicted_label\" key pointing to the predicted label, and the \"score\" key pointing to the confidence score. For example,\n",
    "\n",
    "```\n",
    "{\"predicted_label\":1,\"score\":0.989977359771728}\n",
    "{\"predicted_label\":1,\"score\":0.504138827323913}\n",
    "```"
   ]
  },
  {
   "cell_type": "code",
   "execution_count": 10,
   "id": "27f3be02-d05a-4083-aa2a-5828f42e495e",
   "metadata": {
    "tags": []
   },
   "outputs": [
    {
     "name": "stdout",
     "output_type": "stream",
     "text": [
      "Model file has been uploaded to s3://sagemaker-us-west-2-678264136642/sagemaker/DEMO-ClarifyModelMonitor-1705692244-1224/ll-adult-prediction-model.tar.gz\n",
      "SageMaker model name: DEMO-xgb-churn-pred-model-monitor-1705692245-0c05\n",
      "SageMaker Linear Learner image: 174872318107.dkr.ecr.us-west-2.amazonaws.com/linear-learner:1\n",
      "SageMaker model created\n"
     ]
    }
   ],
   "source": [
    "model_file = \"model/ll-adult-prediction-model.tar.gz\"\n",
    "model_url = sagemaker.s3.S3Uploader.upload(\n",
    "    local_path=model_file,\n",
    "    desired_s3_uri=s3_key,\n",
    "    sagemaker_session=sagemaker_session,\n",
    ")\n",
    "print(f\"Model file has been uploaded to {model_url}\")\n",
    "\n",
    "model_name = sagemaker.utils.unique_name_from_base(\"DEMO-xgb-churn-pred-model-monitor\")\n",
    "print(f\"SageMaker model name: {model_name}\")\n",
    "\n",
    "image_uri = sagemaker.image_uris.retrieve(\"linear-learner\", region, \"1\")\n",
    "print(f\"SageMaker Linear Learner image: {image_uri}\")\n",
    "\n",
    "model = sagemaker.model.Model(image_uri=image_uri, model_data=model_url, role=role)\n",
    "container_def = model.prepare_container_def()\n",
    "sagemaker_session.create_model(model_name, role, container_def)\n",
    "print(\"SageMaker model created\")"
   ]
  },
  {
   "cell_type": "markdown",
   "id": "3e472892-aa3c-4d49-b2f1-079cc743a51d",
   "metadata": {},
   "source": [
    "## Batch Transform Job\n",
    "\n",
    "For continuous monitoring, batch transform jobs should be executed regularly with the latest data. But for demonstration purpose, the following cell only executes the job once before the monitor is scheduled, so that the first monitoring execution has captured data to process. \n",
    "\n",
    "See [Transformer](https://sagemaker.readthedocs.io/en/stable/api/inference/transformer.html#sagemaker.transformer.Transformer.transform) for the API reference. Highlights,\n",
    "\n",
    "* `destination_s3_uri` is used to specify the data capture S3 URI which is a key connection between the job and the monitor.\n",
    "* `join_source` must be set to \"Input\" for the transform output to include predictions (model output) as well as features (model input), because model bias monitor requires both.\n",
    "* `generate_inference_id` must be set to True for the transform output to include a unique ID for each record. Model bias monitor requires both predicted labels and ground truth labels, so it needs the ID to join the captured data and the ground truth data.\n",
    "\n",
    "**NOTE**: The following cell takes about 5 minutes to run."
   ]
  },
  {
   "cell_type": "code",
   "execution_count": 11,
   "id": "1550a84a-cc26-4e47-a169-217194896302",
   "metadata": {
    "tags": []
   },
   "outputs": [
    {
     "name": "stderr",
     "output_type": "stream",
     "text": [
      "INFO:sagemaker:Creating transform job with name: linear-learner-2024-01-19-19-24-07-189\n"
     ]
    },
    {
     "name": "stdout",
     "output_type": "stream",
     "text": [
      "................................................................!\n"
     ]
    }
   ],
   "source": [
    "transfomer = model.transformer(\n",
    "    instance_count=1,\n",
    "    instance_type=\"ml.m5.xlarge\",\n",
    "    accept=dataset_type,  # The transform output data format\n",
    "    assemble_with=\"None\",  # JSON records are under a single JSON structure, but this is required if join_source is set\n",
    "    output_path=transform_output_s3_uri,\n",
    ")\n",
    "\n",
    "transfomer.transform(\n",
    "    data=test_data_s3_uri,\n",
    "    content_type=dataset_type,  # The transform input format\n",
    "    split_type=\"None\",  # JSON records are under a single JSON structure, but this is required if join_source is set\n",
    "    join_source=\"Input\",  # Include model input (features) in transform output\n",
    "    batch_data_capture_config=sagemaker.inputs.BatchDataCaptureConfig(\n",
    "        destination_s3_uri=data_capture_s3_uri,\n",
    "        generate_inference_id=True,  # Inference ID is mandatory to join the captured data and the ground truth data\n",
    "    ),\n",
    "    wait=True,  # In real world you don't have to wait, but for demo purpose we wait for the output\n",
    "    logs=False,  # You can change it to True to view job logs inline\n",
    ")"
   ]
  },
  {
   "cell_type": "markdown",
   "id": "3de796d1-3d2d-4224-83a8-4f954572a502",
   "metadata": {},
   "source": [
    "### Captured data"
   ]
  },
  {
   "cell_type": "markdown",
   "id": "cb76e4e6-ef53-4a64-865a-470b25e1b700",
   "metadata": {},
   "source": [
    "Once the transform job completed, an \"output\" folders is created under `data_capture_s3_uri`, to includes the captured data files of transform output. Note that, batch transform data capture is unlike endpoint data capture, it does not capture the data for real as it will create tremendous amount of duplications. Instead, it generates [manifest](https://docs.aws.amazon.com/sagemaker/latest/APIReference/API_S3DataSource.html#sagemaker-Type-S3DataSource-S3Uri) files which refer to the transform output S3 location."
   ]
  },
  {
   "cell_type": "markdown",
   "id": "a5aa5261-8e4a-4c46-bf35-fa1b27e19f6e",
   "metadata": {},
   "source": [
    "Now list the captured data files stored in Amazon S3. There should be different files from different time periods organized based on the hour in which the batch transformation occurred. The format of the Amazon S3 path is:\n",
    "\n",
    "`s3://{data_capture_s3_uri}/output/yyyy/mm/dd/hh/filename.jsonl`"
   ]
  },
  {
   "cell_type": "code",
   "execution_count": 12,
   "id": "b525daed-2a5c-4808-bcfc-0fb33f193e1c",
   "metadata": {
    "tags": []
   },
   "outputs": [
    {
     "name": "stdout",
     "output_type": "stream",
     "text": [
      "Found capture data files:\n",
      "s3://sagemaker-us-west-2-678264136642/sagemaker/DEMO-ClarifyModelMonitor-1705692244-1224/data-capture/output/2024/01/19/19/5ef12a7a-2c09-4d6f-817b-84823cee935f.json\n"
     ]
    }
   ],
   "source": [
    "data_capture_output = f\"{data_capture_s3_uri}/output\"\n",
    "captured_data_files = sorted(\n",
    "    sagemaker.s3.S3Downloader.list(\n",
    "        s3_uri=data_capture_output,\n",
    "        sagemaker_session=sagemaker_session,\n",
    "    )\n",
    ")\n",
    "print(\"Found capture data files:\")\n",
    "print(\"\\n \".join(captured_data_files[-5:]))"
   ]
  },
  {
   "cell_type": "code",
   "execution_count": 13,
   "id": "cc046d8a-976c-4f45-bb3b-73c33ed3857f",
   "metadata": {
    "tags": []
   },
   "outputs": [
    {
     "name": "stdout",
     "output_type": "stream",
     "text": [
      "[\n",
      "    {\n",
      "        \"prefix\": \"s3://sagemaker-us-west-2-678264136642/sagemaker/DEMO-ClarifyModelMonitor-1705692244-1224/transform-output/\"\n",
      "    },\n",
      "    \"test-dataset.json.out\"\n",
      "]\n"
     ]
    }
   ],
   "source": [
    "data_capture_output_dict = json.loads(\n",
    "    sagemaker.s3.S3Downloader.read_file(\n",
    "        s3_uri=captured_data_files[-1],\n",
    "        sagemaker_session=sagemaker_session,\n",
    "    )\n",
    ")\n",
    "print(json.dumps(data_capture_output_dict, indent=4))"
   ]
  },
  {
   "cell_type": "markdown",
   "id": "9d8848e2-18f8-4155-bdac-ffadb6625265",
   "metadata": {},
   "source": [
    "### Transform output\n",
    "\n",
    "The captured data file refers to the transform output `.out` file."
   ]
  },
  {
   "cell_type": "code",
   "execution_count": 14,
   "id": "9d87d37f-4429-4ff8-bf5a-b59dba99e29e",
   "metadata": {
    "tags": []
   },
   "outputs": [
    {
     "data": {
      "text/plain": [
       "'s3://sagemaker-us-west-2-678264136642/sagemaker/DEMO-ClarifyModelMonitor-1705692244-1224/transform-output/test-dataset.json.out'"
      ]
     },
     "execution_count": 14,
     "metadata": {},
     "output_type": "execute_result"
    }
   ],
   "source": [
    "transform_output = os.path.join(data_capture_output_dict[0][\"prefix\"], data_capture_output_dict[1])\n",
    "transform_output"
   ]
  },
  {
   "cell_type": "markdown",
   "id": "d67fd60d-8d94-47f3-85cd-90b3fab1d39c",
   "metadata": {},
   "source": [
    "View the content of the capture file."
   ]
  },
  {
   "cell_type": "code",
   "execution_count": 15,
   "id": "1b4317f7-14b9-42d3-89a4-53a052dd89e2",
   "metadata": {
    "tags": []
   },
   "outputs": [
    {
     "name": "stdout",
     "output_type": "stream",
     "text": [
      "{\"SageMakerInferenceId\":\"94bcc22a-0462-4bd1-92c9-b46a5aaec1aa\",\"SageMakerInferenceTime\":\"2024-01-19T19:25:34Z\",\"SageMakerOutput\":{\"predictions\":[{\"predicted_label\":1,\"score\":0.9899773597717285},{\"predicted_label\":1,\"score\":0.5041388273239136},{\"predicted_label\":0,\"score\":0.06010060757398605},{\"predicted_label\":0,\"score\":0.03134893625974655},{\"predicted_label\":0,\"score\":0.09185617417097092},{\"predicted_label\":0,\"score\":0.03739730641245842},{\"predicted_label\":1,\"score\":0.49729207158088684},{\"predicted_label\":0,\"score\":0.008392381481826305},{\"predicted_label\":0,\"score\":0.00879521481692791},{\"predicted_label\":0,\"score\":0.029289718717336655},{\"predicted_label\":0,\"score\":0.08575712144374847},{\"predicted_label\":0,\"score\":0.06663481891155243},{\"predicted_label\":1,\"score\":0.9876857995986938},{\"predicted_label\":1,\"score\":0.5606499314308167},{\"predicted_label\":0,\"score\":0.1535872220993042},{\"predicted_label\":1,\"score\":0.8834722638130188},{\"predicted_label\":0,\"score\":0.383236825466156},{\"predicted_label\":0,\"score\":0.13311290740966797},{\"predicted_label\":0,\"score\":0.12488266080617905},{\"predicted_label\":0,\"score\":0.4240318238735199},{\"predicted_label\":0,\"score\":0.1475064903497696},{\"predicted_label\":0,\"score\":0.4013078212738037},{\"predicted_label\":0,\"score\":0.3829629719257355},{\"predicted_label\":0,\"score\":0.04401528090238571},{\"predicted_label\":1,\"score\":0.4643583297729492},{\"predicted_label\":0,\"score\":0.27344629168510437},{\"predicted_label\":1,\"score\":0.6847076416015625},{\"predicted_label\":0,\"score\":0.00837914552539587},{\"predicted_label\":0,\"score\":0.029351601377129555},{\"predicted_label\":0,\"score\":0.19715046882629395},{\"predicted_label\":0,\"score\":0.03310207650065422},{\"predicted_label\":0,\"score\":0.18585215508937836},{\"predicted_label\":1,\"score\":0.8259144425392151},{\"predicted_label\":0,\"score\":0.35375386476516724},{\"predicted_label\":1,\"score\":0.46718907356262207},{\"predicted_label\":0,\"score\":0.41002753376960754},{\"predicted_label\":0,\"score\":0.10809026658535004},{\"predicted_label\":1,\"score\":0.9987805485725403},{\"predicted_label\":0,\"score\":0.051950111985206604},{\"predicted_label\":0,\"score\":0.15605126321315765},{\"predicted_label\":0,\"score\":0.01182370726019144},{\"predicted_label\":0,\"score\":0.07119783759117126},{\"predicted_label\":0,\"score\":0.26085367798805237},{\"predicted_label\":0,\"score\":0.017581462860107422},{\"predicted_label\":0,\"score\":0.24335196614265442},{\"predicted_label\":0,\"score\":0.23375076055526733},{\"predicted_label\":0,\"score\":0.1840328574180603},{\"predicted_label\":0,\"score\":0.11400283873081207},{\"predicted_label\":0,\"score\":0.39054346084594727},{\"predicted_label\":0,\"score\":0.17575860023498535},{\"predicted_label\":0,\"score\":0.0103549063205719},{\"predicted_label\":0,\"score\":0.09636618942022324},{\"predicted_label\":0,\"score\":0.10058632493019104},{\"predicted_label\":0,\"score\":0.4429273307323456},{\"predicted_label\":1,\"score\":0.9145528674125671},{\"predicted_label\":0,\"score\":0.034632161259651184},{\"predicted_label\":1,\"score\":0.9298584461212158},{\"predicted_label\":0,\"score\":0.15968790650367737},{\"predicted_label\":0,\"score\":0.0649690330028534},{\"predicted_label\":0,\"score\":0.013313083909451962},{\"predicted_label\":0,\"score\":0.01847083866596222},{\"predicted_label\":0,\"score\":0.001997788669541478},{\"predicted_label\":0,\"score\":0.009390665218234062},{\"predicted_label\":0,\"score\":0.27887240052223206},{\"predicted_label\":0,\"score\":0.04992330074310303},{\"predicted_label\":0,\"score\":0.07680956274271011},{\"predicted_label\":0,\"score\":0.004954500123858452},{\"predicted_label\":0,\"score\":0.03875388205051422},{\"predicted_label\":0,\"score\":0.15849092602729797},{\"predicted_label\":1,\"score\":0.4807833433151245},{\"predicted_label\":0,\"score\":0.06094944104552269},{\"predicted_label\":0,\"score\":0.021259453147649765},{\"predicted_label\":0,\"score\":0.05866096541285515},{\"predicted_label\":0,\"score\":0.032798755913972855},{\"predicted_label\":0,\"score\":0.05232100933790207},{\"predicted_label\":0,\"score\":0.004911097697913647},{\"predicted_label\":0,\"score\":0.003358837915584445},{\"predicted_label\":0,\"score\":0.06727198511362076},{\"predicted_label\":0,\"score\":0.2456117570400238},{\"predicted_label\":0,\"score\":0.026546994224190712},{\"predicted_label\":0,\"score\":0.0023005546536296606},{\"predicted_label\":0,\"score\":0.2199370563030243},{\"predicted_label\":0,\"score\":0.05470501631498337},{\"predicted_label\":0,\"score\":0.25815847516059875},{\"predicted_label\":0,\"score\":0.03682425618171692},{\"predicted_label\":0,\"score\":0.15122851729393005},{\"predicted_label\":0,\"score\":0.05690513923764229},{\"predicted_label\":1,\"score\":0.6544484496116638},{\"predicted_label\":0,\"score\":0.16538883745670319},{\"predicted_label\":0,\"score\":0.18716220557689667},{\"predicted_label\":0,\"score\":0.026623019948601723},{\"predicted_label\":0,\"score\":0.336801677942276},{\"predicted_label\":0,\"score\":0.05271916836500168},{\"predicted_label\":0,\"score\":0.14647753536701202},{\"predicted_label\":0,\"score\":0.12095839530229568},{\"predicted_label\":1,\"score\":0.9051778316497803},{\"predicted_label\":0,\"score\":0.17902401089668274},{\"predicted_label\":0,\"score\":0.28251078724861145},{\"predicted_label\":0,\"score\":0.3606915771961212},{\"predicted_label\":0,\"score\":0.0020914904307574034},{\"predicted_label\":1,\"score\":0.9972004890441895},{\"predicted_label\":0,\"score\":0.4604381322860718},{\"predicted_label\":0,\"score\":0.3853796422481537},{\"predicted_label\":0,\"score\":0.07100393623113632},{\"predicted_label\":0,\"score\":0.2023138701915741},{\"predicted_label\":0,\"score\":0.18491515517234802},{\"predicted_label\":0,\"score\":0.0881379097700119},{\"predicted_label\":0,\"score\":0.15784408152103424},{\"predicted_label\":0,\"score\":0.09769514203071594},{\"predicted_label\":0,\"score\":0.046238500624895096},{\"predicted_label\":0,\"score\":0.2275785207748413},{\"predicted_label\":0,\"score\":0.2304120510816574},{\"predicted_label\":0,\"score\":0.27462446689605713},{\"predicted_label\":1,\"score\":0.8830692768096924},{\"predicted_label\":0,\"score\":0.05651085078716278},{\"predicted_label\":0,\"score\":0.07847493886947632},{\"predicted_label\":0,\"score\":0.1909785121679306},{\"predicted_label\":0,\"score\":0.16216956079006195},{\"predicted_label\":0,\"score\":0.021511700004339218},{\"predicted_label\":0,\"score\":0.030483277514576912},{\"predicted_label\":0,\"score\":0.007374728098511696},{\"predicted_label\":0,\"score\":0.20213986933231354},{\"predicted_label\":0,\"score\":0.16625472903251648},{\"predicted_label\":0,\"score\":0.09129100292921066},{\"predicted_label\":0,\"score\":0.03654198348522186},{\"predicted_label\":0,\"score\":0.005962055176496506},{\"predicted_label\":1,\"score\":0.8583703637123108},{\"predicted_label\":0,\"score\":0.43974924087524414},{\"predicted_label\":0,\"score\":0.1220485270023346},{\"predicted_label\":0,\"score\":0.3286969065666199},{\"predicted_label\":0,\"score\":0.09551864862442017},{\"predicted_label\":1,\"score\":0.49394041299819946},{\"predicted_label\":0,\"score\":0.2145218402147293},{\"predicted_label\":0,\"score\":0.2620493471622467},{\"predicted_label\":0,\"score\":0.0035815106239169836},{\"predicted_label\":0,\"score\":0.3159368932247162},{\"predicted_label\":0,\"score\":0.015340428799390793},{\"predicted_label\":0,\"score\":0.08183091133832932},{\"predicted_label\":0,\"score\":0.014787673018872738},{\"predicted_label\":0,\"score\":0.13629116117954254},{\"predicted_label\":0,\"score\":0.1267249584197998},{\"predicted_label\":0,\"score\":0.011872298084199429},{\"predicted_label\":0,\"score\":0.12029865384101868},{\"predicted_label\":1,\"score\":0.4876486361026764},{\"predicted_label\":0,\"score\":0.40573522448539734},{\"predicted_label\":0,\"score\":0.16484548151493073},{\"predicted_label\":0,\"score\":0.12795452773571014},{\"predicted_label\":0,\"score\":0.14087672531604767},{\"predicted_label\":0,\"score\":0.039490729570388794},{\"predicted_label\":1,\"score\":0.5631105303764343},{\"predicted_label\":0,\"score\":0.275579571723938},{\"predicted_label\":0,\"score\":0.28162240982055664},{\"predicted_label\":0,\"score\":0.10525848716497421},{\"predicted_label\":1,\"score\":0.6034412980079651},{\"predicted_label\":1,\"score\":0.5564203262329102},{\"predicted_label\":0,\"score\":0.07951594144105911},{\"predicted_label\":0,\"score\":0.4213581085205078},{\"predicted_label\":0,\"score\":0.4467999339103699},{\"predicted_label\":0,\"score\":0.09926103800535202},{\"predicted_label\":1,\"score\":0.9188331961631775},{\"predicted_label\":0,\"score\":0.019268235191702843},{\"predicted_label\":0,\"score\":0.052418291568756104},{\"predicted_label\":0,\"score\":0.2412867248058319},{\"predicted_label\":0,\"score\":0.2780775725841522},{\"predicted_label\":1,\"score\":1},{\"predicted_label\":0,\"score\":0.204729825258255},{\"predicted_label\":0,\"score\":0.057125747203826904},{\"predicted_label\":0,\"score\":0.020887531340122223},{\"predicted_label\":1,\"score\":0.6915412545204163},{\"predicted_label\":0,\"score\":0.012329530902206898},{\"predicted_label\":0,\"score\":0.07896052300930023},{\"predicted_label\":0,\"score\":0.25101810693740845},{\"predicted_label\":1,\"score\":0.6937497854232788},{\"predicted_label\":0,\"score\":0.22883720695972443},{\"predicted_label\":0,\"score\":0.10710513591766357},{\"predicted_label\":0,\"score\":0.28821250796318054},{\"predicted_label\":0,\"score\":0.18269820511341095},{\"predicted_label\":0,\"score\":0.11150718480348587},{\"predicted_label\":0,\"score\":0.06589686870574951},{\"predicted_label\":0,\"score\":0.1486397385597229},{\"predicted_label\":0,\"score\":0.07203324884176254},{\"predicted_label\":0,\"score\":0.07314331829547882},{\"predicted_label\":0,\"score\":0.10811476409435272},{\"predicted_label\":0,\"score\":0.375209778547287},{\"predicted_label\":0,\"score\":0.27211615443229675},{\"predicted_label\":0,\"score\":0.057771988213062286},{\"predicted_label\":1,\"score\":1},{\"predicted_label\":1,\"score\":0.48150357604026794},{\"predicted_label\":0,\"score\":0.11301710456609726},{\"predicted_label\":0,\"score\":0.13156749308109283},{\"predicted_label\":0,\"score\":0.028239941224455833},{\"predicted_label\":0,\"score\":0.07386411726474762},{\"predicted_label\":0,\"score\":0.003674812614917755},{\"predicted_label\":0,\"score\":0.1216147243976593},{\"predicted_label\":0,\"score\":0.1707475483417511},{\"predicted_label\":0,\"score\":0.24218270182609558},{\"predicted_label\":0,\"score\":0.2664620280265808},{\"predicted_label\":0,\"score\":0.08488477766513824},{\"predicted_label\":0,\"score\":0.174072727560997},{\"predicted_label\":0,\"score\":0.24438440799713135},{\"predicted_label\":0,\"score\":0.22158057987689972},{\"predicted_label\":1,\"score\":0.9116123914718628},{\"predicted_label\":1,\"score\":0.5710626840591431},{\"predicted_label\":0,\"score\":0.16886350512504578},{\"predicted_label\":0,\"score\":0.07440155744552612},{\"predicted_label\":0,\"score\":0.29539087414741516},{\"predicted_label\":0,\"score\":0.057524606585502625},{\"predicted_label\":0,\"score\":0.016303036361932755},{\"predicted_label\":0,\"score\":0.17193356156349182},{\"predicted_label\":0,\"score\":0.29431816935539246},{\"predicted_label\":0,\"score\":0.17387284338474274},{\"predicted_label\":0,\"score\":0.07938498258590698},{\"predicted_label\":0,\"score\":0.2937418818473816},{\"predicted_label\":0,\"score\":0.026264457032084465},{\"predicted_label\":0,\"score\":0.0373290479183197},{\"predicted_label\":0,\"score\":0.27262192964553833},{\"predicted_label\":0,\"score\":0.11032138764858246},{\"predicted_label\":1,\"score\":0.7822526097297668},{\"predicted_label\":0,\"score\":0.2848871350288391},{\"predicted_label\":0,\"score\":0.07154791802167892},{\"predicted_label\":0,\"score\":0.04200178384780884},{\"predicted_label\":0,\"score\":0.37558189034461975},{\"predicted_label\":1,\"score\":0.8163812756538391},{\"predicted_label\":0,\"score\":0.016344573348760605},{\"predicted_label\":1,\"score\":0.697821319103241},{\"predicted_label\":0,\"score\":0.12457334995269775},{\"predicted_label\":0,\"score\":0.1992201954126358},{\"predicted_label\":0,\"score\":0.04871575906872749},{\"predicted_label\":0,\"score\":0.38946080207824707},{\"predicted_label\":0,\"score\":0.05511372536420822},{\"predicted_label\":0,\"score\":0.04220739006996155},{\"predicted_label\":0,\"score\":0.07758191972970963},{\"predicted_label\":0,\"score\":0.321268230676651},{\"predicted_label\":0,\"score\":0.03358207643032074},{\"predicted_label\":0,\"score\":0.10820607095956802},{\"predicted_label\":0,\"score\":0.262125700712204},{\"predicted_label\":1,\"score\":0.5599093437194824},{\"predicted_label\":0,\"score\":0.015835467725992203},{\"predicted_label\":0,\"score\":0.19644002616405487},{\"predicted_label\":1,\"score\":0.6751620769500732},{\"predicted_label\":0,\"score\":0.014264062978327274},{\"predicted_label\":0,\"score\":0.08692020177841187},{\"predicted_label\":0,\"score\":0.4560856521129608},{\"predicted_label\":0,\"score\":0.03411604091525078},{\"predicted_label\":1,\"score\":0.5677058696746826},{\"predicted_label\":0,\"score\":0.05753086134791374},{\"predicted_label\":0,\"score\":0.030120806768536568},{\"predicted_label\":0,\"score\":0.17313304543495178},{\"predicted_label\":0,\"score\":0.1427762359380722},{\"predicted_label\":0,\"score\":0.1609998643398285},{\"predicted_label\":0,\"score\":0.426408588886261},{\"predicted_label\":0,\"score\":0.022590771317481995},{\"predicted_label\":0,\"score\":0.009322736412286758},{\"predicted_label\":0,\"score\":0.010012947022914886},{\"predicted_label\":0,\"score\":0.02550864964723587},{\"predicted_label\":0,\"score\":0.038416486233472824},{\"predicted_label\":0,\"score\":0.3753334581851959},{\"predicted_label\":1,\"score\":0.7320319414138794},{\"predicted_label\":0,\"score\":0.009761745110154152},{\"predicted_label\":1,\"score\":0.49069342017173767},{\"predicted_label\":0,\"score\":0.32289305329322815},{\"predicted_label\":0,\"score\":0.10438473522663116},{\"predicted_label\":0,\"score\":0.31896185874938965},{\"predicted_label\":0,\"score\":0.1369217336177826},{\"predicted_label\":1,\"score\":0.5481252670288086},{\"predicted_label\":0,\"score\":0.10556997358798981},{\"predicted_label\":0,\"score\":0.03860599175095558},{\"predicted_label\":0,\"score\":0.015571567229926586},{\"predicted_label\":0,\"score\":0.10935700684785843},{\"predicted_label\":0,\"score\":0.18715748190879822},{\"predicted_label\":0,\"score\":0.3657187819480896},{\"predicted_label\":0,\"score\":0.033314306288957596},{\"predicted_label\":1,\"score\":0.535107433795929},{\"predicted_label\":0,\"score\":0.06323137134313583},{\"predicted_label\":0,\"score\":0.047560691833496094},{\"predicted_label\":0,\"score\":0.38858675956726074},{\"predicted_label\":0,\"score\":0.09035445749759674},{\"predicted_label\":0,\"score\":0.2984286844730377},{\"predicted_label\":0,\"score\":0.0038110781461000443},{\"predicted_label\":0,\"score\":0.32088571786880493},{\"predicted_label\":0,\"score\":0.13978582620620728},{\"predicted_label\":0,\"score\":0.37539803981781006},{\"predicted_label\":0,\"score\":0.01530730351805687},{\"predicted_label\":0,\"score\":0.031880687922239304},{\"predicted_label\":0,\"score\":0.023147910833358765},{\"predicted_label\":0,\"score\":0.12614604830741882},{\"predicted_label\":0,\"score\":0.28061947226524353},{\"predicted_label\":0,\"score\":0.05614038184285164},{\"predicted_label\":0,\"score\":0.19386884570121765},{\"predicted_label\":0,\"score\":0.3073050379753113},{\"predicted_label\":1,\"score\":0.7383891344070435},{\"predicted_label\":0,\"score\":0.30489978194236755},{\"predicted_label\":0,\"score\":0.03158663213253021},{\"predicted_label\":1,\"score\":0.9961671233177185},{\"predicted_label\":0,\"score\":0.2714757025241852},{\"predicted_label\":0,\"score\":0.029732858762145042},{\"predicted_label\":0,\"score\":0.1591436266899109},{\"predicted_label\":0,\"score\":0.3971065878868103},{\"predicted_label\":0,\"score\":0.17690302431583405},{\"predicted_label\":0,\"score\":0.2896363139152527},{\"predicted_label\":1,\"score\":0.6779072880744934},{\"predicted_label\":0,\"score\":0.009807982482016087},{\"predicted_label\":1,\"score\":0.636303186416626},{\"predicted_label\":1,\"score\":0.6927167177200317},{\"predicted_label\":0,\"score\":0.09142012149095535},{\"predicted_label\":0,\"score\":0.46173176169395447},{\"predicted_label\":1,\"score\":1},{\"predicted_label\":0,\"score\":0.009480840526521206},{\"predicted_label\":0,\"score\":0.2092321813106537},{\"predicted_label\":1,\"score\":0.7035172581672668},{\"predicted_label\":0,\"score\":0.12638318538665771},{\"predicted_label\":0,\"score\":0.03508545458316803},{\"predicted_label\":1,\"score\":0.5264816284179688},{\"predicted_label\":0,\"score\":0.15869060158729553},{\"predicted_label\":1,\"score\":0.7289481163024902},{\"predicted_label\":0,\"score\":0.37320321798324585},{\"predicted_label\":0,\"score\":0.3075198531150818},{\"predicted_label\":0,\"score\":0.056538213044404984},{\"predicted_label\":0,\"score\":0.29357296228408813},{\"predicted_label\":0,\"score\":0.05370595306158066},{\"predicted_label\":0,\"score\":0.1574016511440277},{\"predicted_label\":0,\"score\":0.06716842204332352},{\"predicted_label\":0,\"score\":0.06344348192214966},{\"predicted_label\":0,\"score\":0.15472890436649323},{\"predicted_label\":0,\"score\":0.019497334957122803},{\"predicted_label\":0,\"score\":0.3168521225452423},{\"predicted_label\":0,\"score\":0.01945059932768345},{\"predicted_label\":0,\"score\":0.2948471009731293},{\"predicted_label\":0,\"score\":0.02696368843317032},{\"predicted_label\":0,\"score\":0.04764571785926819},{\"predicted_label\":0,\"score\":0.23794148862361908},{\"predicted_label\":0,\"score\":0.3331327736377716},{\"predicted_label\":0,\"score\":0.3215182423591614},{\"predicted_label\":0,\"score\":0.05063043162226677}]},\"instances\":[{\"features\":[28,2,133937,9,13,2,0,0,4,1,15024,0,55,37]},{\"features\":[43,2,72338,12,14,2,12,0,1,1,0,0,40,37]},{\"features\":[34,2,162604,11,9,4,2,2,2,1,0,0,40,37]},{\"features\":[20,2,258509,11,9,4,6,3,2,1,0,0,40,37]},{\"features\":[27,2,446947,9,13,4,0,4,2,0,0,0,55,37]},{\"features\":[20,2,95552,11,9,4,11,3,4,1,0,0,40,37]},{\"features\":[46,2,145636,11,9,2,3,0,4,1,3103,0,50,37]},{\"features\":[18,2,150675,0,6,4,11,3,4,1,0,0,40,37]},{\"features\":[22,2,197050,11,9,4,7,3,4,0,0,0,20,37]},{\"features\":[20,2,246635,15,10,4,11,3,4,0,2597,0,20,37]},{\"features\":[65,0,200764,11,9,6,0,1,4,0,0,0,40,37]},{\"features\":[38,2,175665,15,10,2,9,5,4,0,0,0,40,37]},{\"features\":[34,3,337995,9,13,0,3,4,2,1,15020,0,50,37]},{\"features\":[42,2,86912,9,13,0,7,1,4,1,0,0,40,37]},{\"features\":[40,2,100451,15,10,4,2,1,4,1,0,0,40,37]},{\"features\":[45,2,192360,12,14,2,3,0,4,1,0,1902,50,37]},{\"features\":[55,2,150507,15,10,2,0,0,4,1,0,0,40,37]},{\"features\":[36,2,48976,9,13,2,11,5,4,0,0,0,40,37]},{\"features\":[34,2,111567,15,10,4,3,1,4,1,0,0,40,37]},{\"features\":[26,2,167350,15,10,2,6,0,4,1,3137,0,50,37]},{\"features\":[29,2,485944,9,13,4,11,3,2,1,0,0,40,37]},{\"features\":[44,1,112763,12,14,0,9,4,4,0,0,0,38,37]},{\"features\":[37,5,195843,11,9,2,2,0,4,1,5013,0,40,37]},{\"features\":[22,5,181096,9,13,4,9,3,2,1,0,0,20,37]},{\"features\":[53,2,119170,11,9,2,13,0,2,1,0,1740,40,37]},{\"features\":[61,1,205711,11,9,2,9,0,4,1,0,0,30,37]},{\"features\":[46,0,260549,15,10,2,0,0,4,1,0,0,80,37]},{\"features\":[18,2,129053,1,7,4,7,3,4,1,0,0,28,37]},{\"features\":[22,2,209034,15,10,4,7,1,4,0,0,0,35,37]},{\"features\":[29,2,266583,11,9,2,11,0,2,1,2829,0,38,37]},{\"features\":[30,2,96480,8,11,4,0,3,4,0,0,0,32,37]},{\"features\":[66,4,331960,11,9,2,2,0,4,1,0,0,20,37]},{\"features\":[44,2,83891,9,13,0,0,3,1,1,5455,0,40,37]},{\"features\":[61,5,103575,15,10,0,2,1,4,1,0,0,40,10]},{\"features\":[38,2,589809,9,13,2,0,0,4,1,0,0,45,37]},{\"features\":[33,2,214288,11,9,2,6,0,4,1,0,1848,48,37]},{\"features\":[31,2,280927,9,13,4,3,1,4,0,0,0,40,37]},{\"features\":[49,2,380922,12,14,2,3,0,4,1,15024,0,80,37]},{\"features\":[34,2,361497,1,7,2,13,0,4,1,0,0,40,37]},{\"features\":[37,2,306868,11,9,0,2,4,4,1,0,0,38,37]},{\"features\":[17,2,364952,0,6,3,7,2,4,1,0,0,40,37]},{\"features\":[60,2,338833,11,9,4,0,1,2,0,0,0,38,37]},{\"features\":[30,4,70985,11,9,2,4,0,4,1,0,0,75,37]},{\"features\":[22,2,240229,11,9,4,0,3,4,0,0,0,40,37]},{\"features\":[51,2,173987,11,9,2,2,0,4,1,0,0,40,37]},{\"features\":[29,2,157103,8,11,4,12,3,2,1,0,1974,40,37]},{\"features\":[42,2,205195,11,9,2,2,0,4,1,0,0,40,37]},{\"features\":[25,5,120268,15,10,2,2,3,4,1,0,0,50,37]},{\"features\":[64,2,104973,11,9,2,0,0,4,1,0,0,45,37]},{\"features\":[38,4,248694,15,10,2,2,0,4,1,0,0,36,37]},{\"features\":[54,1,108739,1,7,6,10,4,2,0,0,0,40,37]},{\"features\":[57,2,151874,11,9,2,7,5,2,0,0,0,50,37]},{\"features\":[27,2,150767,15,10,4,6,3,4,1,0,0,48,37]},{\"features\":[53,2,239155,15,10,2,3,0,4,1,0,0,50,37]},{\"features\":[35,2,166497,14,15,2,9,0,4,1,0,1902,60,37]},{\"features\":[22,2,50610,15,10,4,7,1,4,0,0,0,40,37]},{\"features\":[52,2,335997,9,13,2,12,0,4,1,7688,0,38,37]},{\"features\":[27,4,209301,11,9,2,2,0,4,1,0,0,60,37]},{\"features\":[26,2,247196,15,10,4,5,3,4,1,0,0,35,37]},{\"features\":[23,2,213902,15,10,4,7,4,4,0,0,0,20,37]},{\"features\":[25,1,281412,11,9,4,7,3,4,0,0,0,35,37]},{\"features\":[17,2,154337,1,7,4,7,3,4,0,0,0,13,37]},{\"features\":[22,2,95647,1,7,4,13,3,1,1,0,0,40,28]},{\"features\":[32,2,177695,9,13,2,2,0,1,1,0,0,45,17]},{\"features\":[54,2,64421,15,10,6,12,4,4,0,0,0,40,37]},{\"features\":[45,2,176341,11,9,0,7,4,4,0,0,0,32,37]},{\"features\":[20,2,203914,2,8,4,7,3,4,0,0,0,25,37]},{\"features\":[22,2,23940,11,9,4,3,1,1,1,0,0,40,37]},{\"features\":[32,2,169768,9,13,5,12,1,2,1,0,0,40,37]},{\"features\":[36,2,109133,9,13,2,11,0,4,1,0,0,50,37]},{\"features\":[33,2,41610,11,9,5,2,1,4,1,0,0,40,37]},{\"features\":[37,2,33440,11,9,5,7,4,4,0,0,0,40,37]},{\"features\":[46,2,151325,0,6,2,2,0,4,1,0,0,40,37]},{\"features\":[54,1,182429,11,9,6,13,4,4,0,0,0,38,37]},{\"features\":[34,2,195748,7,12,4,0,3,2,0,0,0,38,37]},{\"features\":[22,2,248446,4,3,4,8,1,4,1,0,0,50,12]},{\"features\":[42,2,188789,5,4,6,5,1,4,0,0,0,35,37]},{\"features\":[34,2,185480,7,12,4,0,3,4,0,0,0,40,37]},{\"features\":[39,2,30875,9,13,0,11,4,4,0,0,0,40,37]},{\"features\":[21,2,116489,15,10,4,9,3,4,0,0,0,40,37]},{\"features\":[18,2,99591,1,7,4,7,3,4,0,0,0,16,37]},{\"features\":[43,2,282678,11,9,0,3,1,4,0,0,0,60,37]},{\"features\":[56,1,238405,11,9,6,0,1,4,0,0,0,40,37]},{\"features\":[32,1,247156,11,9,2,7,0,2,1,3103,0,38,37]},{\"features\":[19,2,73461,11,9,4,12,1,2,1,0,0,40,37]},{\"features\":[35,2,98776,11,9,4,3,1,4,1,0,0,60,37]},{\"features\":[30,2,232766,11,9,0,7,4,4,0,0,0,40,37]},{\"features\":[32,2,220333,11,9,2,2,0,4,1,7298,0,46,37]},{\"features\":[27,2,321456,15,10,2,10,0,4,1,0,0,40,37]},{\"features\":[41,2,173307,11,9,2,13,0,4,1,0,0,43,37]},{\"features\":[22,2,351952,15,10,4,0,3,4,0,0,0,38,37]},{\"features\":[33,2,108438,15,10,2,3,0,4,1,0,0,60,37]},{\"features\":[30,2,171483,11,9,4,2,3,4,1,0,0,38,37]},{\"features\":[32,2,453983,11,9,2,5,0,4,1,0,0,44,37]},{\"features\":[37,2,48779,11,9,4,3,1,4,1,0,0,50,37]},{\"features\":[42,2,222756,9,13,0,9,4,4,1,7430,0,40,37]},{\"features\":[49,2,118520,11,9,0,0,1,4,0,0,0,45,37]},{\"features\":[34,2,199539,8,11,2,2,0,4,1,0,0,48,37]},{\"features\":[42,2,201343,11,9,2,2,0,4,1,2885,0,40,37]},{\"features\":[49,2,99340,4,3,5,6,4,4,0,0,0,40,5]},{\"features\":[48,2,163706,9,13,2,3,0,4,1,15024,0,70,37]},{\"features\":[59,2,176118,12,14,2,9,0,4,1,0,0,7,37]},{\"features\":[67,3,147377,11,9,2,3,0,4,1,0,0,45,37]},{\"features\":[36,2,225330,11,9,0,7,4,4,0,0,0,40,37]},{\"features\":[32,2,147921,14,15,4,7,1,4,0,0,0,35,37]},{\"features\":[36,2,110013,12,14,4,11,1,4,0,0,0,40,37]},{\"features\":[76,4,130585,15,10,2,7,5,4,0,0,0,12,37]},{\"features\":[41,4,134724,8,11,2,7,5,4,0,3103,0,40,37]},{\"features\":[44,2,160369,15,10,2,8,0,4,1,0,0,2,37]},{\"features\":[24,2,172169,15,10,4,5,4,4,1,0,0,30,37]},{\"features\":[35,2,106471,9,13,4,2,1,4,1,0,0,35,37]},{\"features\":[25,1,336320,9,13,0,10,1,4,0,0,0,40,37]},{\"features\":[62,2,186446,15,10,0,12,4,4,0,0,0,43,37]},{\"features\":[39,2,183279,9,13,2,11,0,4,1,7298,0,40,37]},{\"features\":[65,4,135517,5,4,2,2,0,4,1,0,0,40,37]},{\"features\":[48,0,72808,1,7,0,0,1,4,0,0,0,42,37]},{\"features\":[56,2,197577,11,9,0,7,1,4,0,0,0,40,37]},{\"features\":[51,3,110327,1,7,2,2,0,4,1,0,0,60,37]},{\"features\":[23,2,237811,15,10,4,0,4,2,0,0,0,40,36]},{\"features\":[18,2,632271,15,10,3,0,2,4,0,0,0,40,27]},{\"features\":[18,2,220754,1,7,4,5,3,4,1,0,0,24,37]},{\"features\":[61,2,29797,11,9,0,11,2,4,0,0,0,40,37]},{\"features\":[32,2,183470,8,11,2,2,0,0,1,0,0,42,37]},{\"features\":[36,2,127388,7,12,2,11,5,4,0,0,0,40,37]},{\"features\":[19,2,78401,11,9,4,7,3,4,1,0,0,40,37]},{\"features\":[37,2,385330,5,4,5,7,4,2,1,0,0,40,37]},{\"features\":[53,2,161691,12,14,0,3,1,4,0,4865,0,40,37]},{\"features\":[31,2,301251,9,13,2,2,0,4,1,0,0,50,37]},{\"features\":[30,2,198660,11,9,2,5,0,4,1,0,0,40,37]},{\"features\":[44,2,105896,9,13,0,9,1,4,0,0,0,36,37]},{\"features\":[23,2,132220,11,9,2,5,0,4,1,0,0,40,37]},{\"features\":[45,1,317846,7,12,0,3,4,4,1,0,0,47,37]},{\"features\":[32,2,33117,8,11,2,7,0,4,1,0,0,40,37]},{\"features\":[41,2,192602,15,10,2,2,0,4,1,0,0,40,37]},{\"features\":[30,2,408328,13,1,3,5,4,4,1,0,0,40,24]},{\"features\":[34,2,233729,7,12,2,9,0,2,1,0,0,50,37]},{\"features\":[21,2,174063,8,11,4,7,3,4,0,0,0,20,37]},{\"features\":[30,2,175323,8,11,2,3,5,4,0,0,0,52,37]},{\"features\":[20,2,460356,2,8,4,7,1,4,1,0,0,30,24]},{\"features\":[33,2,119422,11,9,2,3,0,4,1,0,0,40,37]},{\"features\":[26,2,269168,15,10,2,3,0,1,1,0,0,40,37]},{\"features\":[21,5,173534,15,10,4,9,3,4,0,0,0,40,6]},{\"features\":[48,2,235891,11,9,4,7,1,4,1,0,0,40,31]},{\"features\":[70,3,217801,9,13,2,11,0,4,1,0,0,15,37]},{\"features\":[52,1,251841,12,14,4,9,1,4,0,0,0,50,37]},{\"features\":[24,2,196943,8,11,2,9,0,4,1,0,0,40,37]},{\"features\":[41,2,204415,1,7,0,5,1,4,1,0,0,48,37]},{\"features\":[23,2,130959,9,13,2,9,0,4,1,2407,0,6,1]},{\"features\":[46,2,316271,4,3,2,2,0,4,1,0,0,55,37]},{\"features\":[59,2,124137,11,9,0,11,1,4,1,2202,0,40,37]},{\"features\":[36,4,140676,9,13,4,11,1,4,1,0,0,50,37]},{\"features\":[52,2,91506,11,9,2,5,0,4,1,0,0,45,37]},{\"features\":[40,2,300195,15,10,0,12,4,2,0,0,0,40,37]},{\"features\":[51,3,119570,9,13,2,2,0,4,1,0,0,50,37]},{\"features\":[43,2,303155,9,13,2,3,0,4,1,0,0,50,37]},{\"features\":[30,2,210541,11,9,0,2,1,4,0,0,0,40,37]},{\"features\":[48,2,153312,15,10,2,11,0,2,1,0,0,60,37]},{\"features\":[50,5,137815,9,13,2,2,0,4,1,0,0,40,37]},{\"features\":[38,4,179824,11,9,4,4,1,4,1,0,0,50,37]},{\"features\":[41,2,106159,11,9,4,6,3,4,1,14344,0,48,37]},{\"features\":[69,2,104827,11,9,6,12,4,4,0,0,0,8,37]},{\"features\":[21,2,278254,15,10,4,5,3,2,1,0,0,40,37]},{\"features\":[33,3,287372,15,10,2,3,0,4,1,0,0,50,37]},{\"features\":[51,5,152810,8,11,2,12,0,4,1,0,0,40,37]},{\"features\":[46,2,106662,9,13,5,11,1,4,1,99999,0,55,37]},{\"features\":[35,2,108140,11,9,0,2,1,4,1,0,0,40,37]},{\"features\":[29,2,231507,11,9,4,2,1,4,1,0,0,35,37]},{\"features\":[34,4,114074,8,11,6,3,4,4,0,0,0,40,37]},{\"features\":[52,2,163776,11,9,2,11,0,4,1,0,1902,60,37]},{\"features\":[45,2,123219,4,3,4,6,1,4,1,0,0,40,37]},{\"features\":[25,2,391591,11,9,4,2,1,4,1,0,0,50,37]},{\"features\":[61,1,202384,9,13,2,9,5,4,0,0,0,30,37]},{\"features\":[58,2,282023,9,13,2,3,0,4,1,0,0,50,37]},{\"features\":[51,5,22211,11,9,0,3,1,4,1,0,0,37,37]},{\"features\":[27,2,192936,9,13,4,9,1,4,0,0,0,45,37]},{\"features\":[51,1,106365,7,12,0,0,4,4,0,0,0,40,37]},{\"features\":[51,2,166461,1,7,0,6,4,2,0,5455,0,40,37]},{\"features\":[52,2,251585,0,6,2,13,0,4,1,0,0,55,37]},{\"features\":[61,1,149981,11,9,6,0,1,4,0,0,0,40,37]},{\"features\":[23,2,161092,9,13,4,0,3,4,1,0,0,40,37]},{\"features\":[40,2,21755,15,10,4,2,2,0,1,0,0,30,37]},{\"features\":[20,2,174436,11,9,4,2,3,4,1,0,0,60,37]},{\"features\":[26,4,33016,8,11,0,7,4,4,0,0,0,55,37]},{\"features\":[55,1,134042,12,14,2,3,5,4,0,0,0,40,37]},{\"features\":[32,2,259425,15,10,0,2,1,4,1,0,0,40,37]},{\"features\":[26,2,359854,9,13,4,8,2,4,0,0,0,35,24]},{\"features\":[44,2,217039,14,15,2,9,0,4,1,99999,0,60,37]},{\"features\":[61,2,194804,13,1,5,13,1,2,1,14344,0,40,37]},{\"features\":[34,4,198068,11,9,2,2,0,4,1,0,0,40,37]},{\"features\":[42,4,52131,15,10,4,3,1,4,1,0,0,40,37]},{\"features\":[23,2,239539,11,9,4,6,3,1,1,0,0,40,28]},{\"features\":[25,2,54298,11,9,2,11,0,4,1,0,0,30,37]},{\"features\":[17,2,35603,2,8,4,11,3,4,0,0,0,20,37]},{\"features\":[31,2,241880,8,11,4,0,1,2,1,0,0,45,37]},{\"features\":[35,2,46947,15,10,0,0,1,4,0,0,0,45,37]},{\"features\":[28,2,203171,15,10,0,2,1,4,1,0,0,40,37]},{\"features\":[37,2,199739,15,10,0,2,3,4,1,0,0,40,37]},{\"features\":[23,2,215395,15,10,4,2,1,4,1,0,0,40,37]},{\"features\":[53,2,117932,11,9,0,6,1,4,0,0,0,40,37]},{\"features\":[30,5,107142,9,13,2,9,0,4,1,0,0,37,37]},{\"features\":[33,2,173730,8,11,2,6,0,4,1,0,0,40,37]},{\"features\":[53,3,200400,10,16,0,3,1,4,1,0,0,60,37]},{\"features\":[50,2,158948,11,9,2,9,0,4,1,0,0,84,37]},{\"features\":[39,2,206888,15,10,0,0,1,4,0,0,0,40,37]},{\"features\":[26,2,124483,9,13,4,9,1,1,1,0,0,25,17]},{\"features\":[34,5,62327,9,13,2,9,0,4,1,0,0,40,37]},{\"features\":[26,2,366889,11,9,4,13,1,4,1,0,0,40,37]},{\"features\":[21,2,30796,15,10,4,7,3,4,0,0,0,25,37]},{\"features\":[46,2,130667,11,9,2,13,0,2,1,0,0,40,37]},{\"features\":[67,0,231604,11,9,4,0,1,4,1,0,0,40,37]},{\"features\":[25,2,332409,8,11,2,2,0,4,1,0,0,40,37]},{\"features\":[34,2,51854,11,9,4,6,1,4,1,0,0,40,37]},{\"features\":[50,2,62593,8,11,2,4,0,1,1,0,0,40,37]},{\"features\":[47,2,78954,1,7,0,11,4,4,0,0,0,28,37]},{\"features\":[39,2,205997,15,10,2,11,5,4,0,0,0,21,37]},{\"features\":[51,2,231230,11,9,2,6,0,4,1,0,0,45,37]},{\"features\":[62,2,291904,11,9,0,8,1,2,0,0,0,20,37]},{\"features\":[58,2,49893,12,14,2,3,0,4,1,0,0,50,37]},{\"features\":[36,2,141584,15,10,2,9,0,4,1,0,0,50,37]},{\"features\":[28,2,259609,11,9,4,2,3,4,1,0,0,50,37]},{\"features\":[22,2,125010,9,13,4,0,1,4,0,0,0,20,37]},{\"features\":[59,5,136819,12,14,2,9,0,4,1,0,0,8,37]},{\"features\":[69,4,199829,9,13,2,3,0,4,1,0,1258,40,37]},{\"features\":[33,4,100580,15,10,2,7,5,4,0,0,0,10,37]},{\"features\":[56,2,257555,12,14,2,9,0,4,1,0,0,40,37]},{\"features\":[47,2,100113,5,4,2,13,0,4,1,0,2051,40,37]},{\"features\":[38,0,236648,11,9,2,2,0,4,1,0,0,40,37]},{\"features\":[41,2,99679,0,6,2,2,0,4,1,0,0,40,37]},{\"features\":[32,2,339482,12,14,4,3,1,4,1,0,0,48,37]},{\"features\":[28,2,120475,11,9,4,2,1,4,1,0,0,35,37]},{\"features\":[22,2,137876,15,10,4,10,1,4,1,0,0,20,37]},{\"features\":[36,4,110861,11,9,0,2,3,4,1,0,0,20,37]},{\"features\":[55,4,225623,15,10,2,4,0,4,1,0,0,40,37]},{\"features\":[47,2,323212,11,9,6,7,1,4,0,0,0,40,37]},{\"features\":[59,2,157831,11,9,0,0,1,4,0,0,0,16,37]},{\"features\":[25,2,25497,15,10,4,13,1,4,1,4101,0,40,37]},{\"features\":[42,4,114580,12,14,0,3,4,4,0,0,0,70,37]},{\"features\":[22,2,273675,11,9,3,7,2,2,0,0,0,35,31]},{\"features\":[31,0,40909,15,10,2,12,0,2,1,0,0,40,37]},{\"features\":[42,3,557349,9,13,2,3,0,4,1,0,0,70,37]},{\"features\":[18,2,219256,15,10,4,11,3,4,0,0,0,25,37]},{\"features\":[39,2,126569,11,9,4,2,1,4,1,0,0,40,29]},{\"features\":[37,2,108282,9,13,2,3,0,4,1,0,0,45,37]},{\"features\":[31,2,147270,15,10,4,0,3,4,0,0,0,35,37]},{\"features\":[44,2,90582,9,13,2,2,0,4,1,0,0,50,37]},{\"features\":[51,2,379797,0,6,2,6,0,2,1,0,0,40,37]},{\"features\":[37,1,136749,11,9,4,0,3,4,0,0,0,35,37]},{\"features\":[25,0,198813,9,13,4,0,4,2,0,0,1590,40,37]},{\"features\":[30,2,159123,11,9,2,2,0,4,1,0,0,45,37]},{\"features\":[36,3,196554,11,9,2,2,0,4,1,0,0,46,37]},{\"features\":[31,2,238002,9,13,2,13,0,4,1,0,0,55,24]},{\"features\":[43,2,125577,11,9,5,0,4,2,0,0,0,40,37]},{\"features\":[22,2,97212,11,9,4,7,1,4,0,0,0,15,37]},{\"features\":[19,2,222866,0,6,4,4,2,4,1,0,0,40,37]},{\"features\":[18,2,175752,11,9,4,5,3,4,1,0,0,30,37]},{\"features\":[28,2,77009,15,10,4,11,2,4,0,0,0,40,37]},{\"features\":[54,2,162745,11,9,2,2,0,4,1,0,0,55,37]},{\"features\":[30,2,94235,9,13,2,9,0,4,1,0,1977,50,37]},{\"features\":[19,2,158343,15,10,4,7,3,4,0,0,0,12,37]},{\"features\":[49,2,201127,1,7,2,13,0,4,1,0,1902,70,37]},{\"features\":[39,2,118429,15,10,0,11,1,4,1,0,0,40,37]},{\"features\":[36,2,334365,1,7,2,13,0,4,1,0,0,60,37]},{\"features\":[42,2,89226,8,11,2,13,0,4,1,0,0,45,37]},{\"features\":[33,2,56121,11,9,4,13,1,4,1,0,0,60,37]},{\"features\":[61,5,140851,9,13,2,9,0,4,1,0,0,40,37]},{\"features\":[36,2,86643,2,8,2,6,0,4,1,0,0,48,37]},{\"features\":[20,2,175808,11,9,4,2,3,4,1,0,0,40,37]},{\"features\":[19,2,58471,11,9,4,2,3,4,0,0,0,40,37]},{\"features\":[55,2,118057,11,9,6,2,4,4,1,0,0,51,37]},{\"features\":[30,2,192002,15,10,2,2,0,4,1,0,0,40,37]},{\"features\":[61,2,43904,11,9,0,7,1,2,1,0,0,40,37]},{\"features\":[39,3,31709,15,10,2,0,5,4,0,0,0,20,37]},{\"features\":[39,2,286026,9,13,2,2,0,4,1,0,0,52,37]},{\"features\":[55,4,110844,11,9,2,3,5,4,0,0,0,40,37]},{\"features\":[32,2,200401,11,9,4,3,1,4,1,0,0,40,3]},{\"features\":[44,5,101603,9,13,2,3,0,4,1,0,0,40,37]},{\"features\":[58,2,49159,11,9,2,0,5,4,0,0,0,40,37]},{\"features\":[52,5,168035,15,10,2,12,0,4,1,0,0,45,37]},{\"features\":[18,2,260977,2,8,4,11,3,4,0,0,0,20,37]},{\"features\":[47,2,33794,11,9,2,2,0,4,1,0,0,56,37]},{\"features\":[26,2,242464,8,11,4,3,1,4,1,0,0,50,37]},{\"features\":[35,2,97554,7,12,2,3,0,4,1,0,0,50,37]},{\"features\":[39,4,245361,15,10,4,9,3,4,0,0,0,10,37]},{\"features\":[26,2,178478,15,10,4,11,3,4,0,0,0,40,37]},{\"features\":[31,2,104509,15,10,5,7,4,4,0,0,0,35,37]},{\"features\":[31,2,159187,15,10,2,2,0,4,1,0,0,25,37]},{\"features\":[67,4,167015,9,13,6,11,1,4,1,0,0,30,37]},{\"features\":[40,2,199668,11,9,0,11,3,4,0,0,0,25,37]},{\"features\":[35,2,37778,11,9,2,2,0,4,1,0,0,50,37]},{\"features\":[54,4,139023,15,10,2,11,0,4,1,0,0,40,37]},{\"features\":[45,3,188694,14,15,2,9,0,4,1,0,0,50,37]},{\"features\":[50,2,178251,12,14,2,0,5,4,0,0,0,40,37]},{\"features\":[51,2,81534,1,7,4,7,2,1,1,0,0,35,37]},{\"features\":[37,2,353550,12,14,2,3,0,4,1,15024,0,60,37]},{\"features\":[54,1,231482,11,9,2,2,0,4,1,0,0,40,30]},{\"features\":[22,2,228394,11,9,4,7,1,4,0,0,0,50,37]},{\"features\":[38,1,94529,11,9,2,5,5,4,0,3103,0,50,37]},{\"features\":[35,2,135289,8,11,0,2,1,4,1,0,0,50,37]},{\"features\":[37,0,32950,7,12,0,3,4,2,0,0,0,40,37]},{\"features\":[45,2,165346,15,10,0,3,4,4,0,0,0,64,37]},{\"features\":[57,1,62701,15,10,6,3,1,4,1,6849,0,40,37]},{\"features\":[30,2,49358,2,8,4,11,3,2,0,0,0,40,37]},{\"features\":[52,2,227832,9,13,2,9,0,4,1,0,0,50,37]},{\"features\":[67,2,188903,9,13,2,9,0,4,1,0,0,40,37]},{\"features\":[28,4,183151,11,9,2,2,0,4,1,0,0,40,37]},{\"features\":[42,5,116493,9,13,2,10,0,4,1,0,0,52,37]},{\"features\":[48,1,93449,14,15,2,9,0,1,1,99999,0,40,28]},{\"features\":[18,2,211683,2,8,4,5,3,4,1,0,0,20,37]},{\"features\":[47,2,155107,11,9,2,12,0,4,1,0,0,40,37]},{\"features\":[55,3,150917,15,10,2,3,0,4,1,0,1977,45,37]},{\"features\":[51,2,135388,2,8,6,6,1,4,1,0,1564,40,37]},{\"features\":[38,2,183683,0,6,3,7,1,4,1,0,0,45,37]},{\"features\":[47,4,185859,11,9,2,4,0,4,1,3103,0,60,37]},{\"features\":[44,4,22933,11,9,2,3,0,4,1,0,0,40,37]},{\"features\":[40,2,356934,14,15,2,3,0,4,1,0,0,50,37]},{\"features\":[52,2,94448,8,11,2,9,0,4,1,0,0,40,37]},{\"features\":[59,2,107318,5,4,2,2,0,4,1,5178,0,50,37]},{\"features\":[31,2,83413,11,9,4,11,3,4,1,0,0,40,37]},{\"features\":[34,2,162312,9,13,2,0,0,1,1,0,0,40,28]},{\"features\":[44,2,118212,0,6,2,6,0,4,1,0,0,40,37]},{\"features\":[35,1,132879,11,9,2,13,0,4,1,0,0,40,37]},{\"features\":[25,4,121285,9,13,4,11,1,4,0,0,0,40,37]},{\"features\":[22,2,341760,9,13,4,3,3,4,0,0,0,40,37]},{\"features\":[35,2,216473,11,9,0,2,4,4,1,0,0,40,37]},{\"features\":[25,2,179255,15,10,4,0,3,4,0,0,0,25,37]},{\"features\":[36,2,298635,9,13,2,7,0,3,1,0,0,40,18]},{\"features\":[20,2,204596,15,10,4,11,3,4,0,0,0,32,37]},{\"features\":[27,2,285897,11,9,2,13,0,4,1,0,1887,40,37]},{\"features\":[19,2,386492,15,10,4,5,3,4,1,0,0,16,37]},{\"features\":[29,2,178610,15,10,0,7,4,4,0,0,0,21,37]},{\"features\":[49,2,96854,11,9,0,7,4,4,1,0,0,40,37]},{\"features\":[45,2,293628,15,10,2,9,0,4,1,0,0,50,28]},{\"features\":[67,2,192995,11,9,6,0,4,4,0,6723,0,40,37]},{\"features\":[30,2,235847,9,13,4,7,3,4,0,0,0,24,37]}]}\n"
     ]
    }
   ],
   "source": [
    "transform_output_content = sagemaker.s3.S3Downloader.read_file(\n",
    "    s3_uri=transform_output,\n",
    "    sagemaker_session=sagemaker_session,\n",
    ")\n",
    "print(transform_output_content, sep=\"\\n\")"
   ]
  },
  {
   "cell_type": "markdown",
   "id": "d5af2f1d-f52a-4267-9019-81c62545d722",
   "metadata": {},
   "source": [
    "The contents of a single line is present below in formatted JSON to observe a little better.\n",
    "\n",
    "* The features are captured because the `join_source` parameter is set to \"Input\".\n",
    "* The predictions are captured into the `\"SageMakerOutput\"` field.\n",
    "* The inference ID and inference time (the start time of the transform job) are also captured because the `generate_inference_id` parameter is set to True."
   ]
  },
  {
   "cell_type": "code",
   "execution_count": 16,
   "id": "b18ee7c8-b430-4653-b4a4-c5e29c8d2d7d",
   "metadata": {
    "tags": []
   },
   "outputs": [],
   "source": [
    "# To pretty print the Transform output, uncomment below.  Warning: this could result in a very long log!\n",
    "# print(json.dumps(json.loads(transform_output_content), indent=4))"
   ]
  },
  {
   "cell_type": "markdown",
   "id": "a71d2671-f7eb-468d-aeb7-dd0af89f1edd",
   "metadata": {},
   "source": [
    "## Ground Truth Data\n",
    "\n",
    "Besides captured data, bias drift monitoring execution also requires ground truth data. In real use cases, you should regularly label the captured data, then upload the ground truth data (labels) to designated S3 location. For demonstration purpose, this example notebook generates fake ground truth data following [this schema](https://docs.aws.amazon.com/sagemaker/latest/dg/model-monitor-model-quality-merge.html), and then uploads it to `ground_truth_s3_uri` which is another key input to the monitor. The bias drift monitoring execution will first merge the captured data and the ground truth data, and then do bias analysis for the merged data.\n",
    "\n",
    "Notice the value of the `data` field in `groundTruthData` **must be in the same format as how the ground truth labels are stored in the input dataset**."
   ]
  },
  {
   "cell_type": "code",
   "execution_count": 17,
   "id": "2884c0f9-6ccf-4555-8132-438d66619975",
   "metadata": {
    "tags": []
   },
   "outputs": [],
   "source": [
    "def ground_truth_with_id(seeds, inference_id):\n",
    "    instances = []\n",
    "    for seed in seeds:\n",
    "        random.seed(seed)  # to get consistent results\n",
    "        label = (\n",
    "            1 if random.random() < 0.7 else 0\n",
    "        )  # randomly generate positive labels 70% of the time\n",
    "        instances.append(\n",
    "            {\"label\": label}\n",
    "        )  # Also use the \"label\" key, the same as in the input dataset.\n",
    "    # format required by the merge job and bias monitoring job\n",
    "    return {\n",
    "        \"groundTruthData\": {\n",
    "            \"data\": json.dumps({\"instances\": instances}),\n",
    "            \"encoding\": \"JSON\",\n",
    "        },\n",
    "        \"eventMetadata\": {\n",
    "            \"eventId\": str(inference_id),\n",
    "        },\n",
    "        \"eventVersion\": \"0\",\n",
    "    }\n",
    "\n",
    "\n",
    "def upload_ground_truth(upload_time, upload_path, seeds, inference_id):\n",
    "    # Single JSON object, containing all records\n",
    "    fake_data = [ground_truth_with_id(seeds, inference_id)]\n",
    "    data_to_upload = json.dumps(fake_data)\n",
    "    target_s3_uri = f\"{upload_path}/{upload_time:%Y/%m/%d/%H/%M%S}.jsonl\"\n",
    "    print(f\"Uploading {len(seeds)} records to\", target_s3_uri)\n",
    "    sagemaker.s3.S3Uploader.upload_string_as_file_body(\n",
    "        body=data_to_upload,\n",
    "        desired_s3_uri=target_s3_uri,\n",
    "        sagemaker_session=sagemaker_session,\n",
    "    )"
   ]
  },
  {
   "cell_type": "code",
   "execution_count": 18,
   "id": "b405cafc-3300-4291-923c-78800630c505",
   "metadata": {
    "tags": []
   },
   "outputs": [
    {
     "name": "stdout",
     "output_type": "stream",
     "text": [
      "94bcc22a-0462-4bd1-92c9-b46a5aaec1aa\n",
      "[0, 1, 2, 3, 4, 5, 6, 7, 8, 9, 10, 11, 12, 13, 14, 15, 16, 17, 18, 19, 20, 21, 22, 23, 24, 25, 26, 27, 28, 29, 30, 31, 32, 33, 34, 35, 36, 37, 38, 39, 40, 41, 42, 43, 44, 45, 46, 47, 48, 49, 50, 51, 52, 53, 54, 55, 56, 57, 58, 59, 60, 61, 62, 63, 64, 65, 66, 67, 68, 69, 70, 71, 72, 73, 74, 75, 76, 77, 78, 79, 80, 81, 82, 83, 84, 85, 86, 87, 88, 89, 90, 91, 92, 93, 94, 95, 96, 97, 98, 99, 100, 101, 102, 103, 104, 105, 106, 107, 108, 109, 110, 111, 112, 113, 114, 115, 116, 117, 118, 119, 120, 121, 122, 123, 124, 125, 126, 127, 128, 129, 130, 131, 132, 133, 134, 135, 136, 137, 138, 139, 140, 141, 142, 143, 144, 145, 146, 147, 148, 149, 150, 151, 152, 153, 154, 155, 156, 157, 158, 159, 160, 161, 162, 163, 164, 165, 166, 167, 168, 169, 170, 171, 172, 173, 174, 175, 176, 177, 178, 179, 180, 181, 182, 183, 184, 185, 186, 187, 188, 189, 190, 191, 192, 193, 194, 195, 196, 197, 198, 199, 200, 201, 202, 203, 204, 205, 206, 207, 208, 209, 210, 211, 212, 213, 214, 215, 216, 217, 218, 219, 220, 221, 222, 223, 224, 225, 226, 227, 228, 229, 230, 231, 232, 233, 234, 235, 236, 237, 238, 239, 240, 241, 242, 243, 244, 245, 246, 247, 248, 249, 250, 251, 252, 253, 254, 255, 256, 257, 258, 259, 260, 261, 262, 263, 264, 265, 266, 267, 268, 269, 270, 271, 272, 273, 274, 275, 276, 277, 278, 279, 280, 281, 282, 283, 284, 285, 286, 287, 288, 289, 290, 291, 292, 293, 294, 295, 296, 297, 298, 299, 300, 301, 302, 303, 304, 305, 306, 307, 308, 309, 310, 311, 312, 313, 314, 315, 316, 317, 318, 319, 320, 321, 322, 323, 324, 325, 326, 327, 328, 329, 330, 331, 332, 333]\n",
      "Uploading 334 records to s3://sagemaker-us-west-2-678264136642/sagemaker/DEMO-ClarifyModelMonitor-1705692244-1224/ground-truth/2024/01/19/18/2934.jsonl\n",
      "Uploading 334 records to s3://sagemaker-us-west-2-678264136642/sagemaker/DEMO-ClarifyModelMonitor-1705692244-1224/ground-truth/2024/01/19/19/2934.jsonl\n"
     ]
    }
   ],
   "source": [
    "now = datetime.datetime.utcnow()\n",
    "# Use unique IDs for each record.  JSON differs from JSONLines in that a single InferenceId can have multiple records,\n",
    "# so we use arbitrary IDs so we can generate the ground truth labels consistently for each inference ID.\n",
    "inference_id = json.loads(transform_output_content)[\"SageMakerInferenceId\"]\n",
    "seeds = [i for i, _record in enumerate(json.loads(transform_output_content)[\"instances\"])]\n",
    "print(inference_id)\n",
    "print(seeds)\n",
    "# Generate data for the last hour, in case the first monitoring execution is in this hour\n",
    "upload_ground_truth(\n",
    "    upload_time=now - datetime.timedelta(hours=1),\n",
    "    upload_path=ground_truth_s3_uri,\n",
    "    seeds=seeds,\n",
    "    inference_id=inference_id,\n",
    ")\n",
    "# Generate data for this hour, in case the first monitoring execution will be in the next hour\n",
    "upload_ground_truth(\n",
    "    upload_time=now,\n",
    "    upload_path=ground_truth_s3_uri,\n",
    "    seeds=seeds,\n",
    "    inference_id=inference_id,\n",
    ")"
   ]
  },
  {
   "cell_type": "markdown",
   "id": "fad6a33c-3a10-4550-86df-dd8fc2f61099",
   "metadata": {},
   "source": [
    "## Model Bias Monitor\n",
    "\n",
    "Similar to the other monitoring types, the standard procedure of creating a [bias drift monitor](https://docs.aws.amazon.com/sagemaker/latest/dg/clarify-model-monitor-bias-drift.html) is first run a baselining job, and then schedule the monitor.\n",
    "\n",
    "A bias drift monitoring execution starts a merge job that joins the captured data and ground truth data together using the inference ID. Then a SageMaker Clarify bias analysis job is started to compute all the [pre-training bias metrics](https://docs.aws.amazon.com/sagemaker/latest/dg/clarify-measure-data-bias.html) and [post-training bias metrics](https://docs.aws.amazon.com/sagemaker/latest/dg/clarify-measure-post-training-bias.html). on the merged data. The max execution time is divided equally between two jobs, the notebook is scheduling an hourly model bias monitor, so the `max_runtime_in_seconds` parameter should not exceed 1800 seconds."
   ]
  },
  {
   "cell_type": "code",
   "execution_count": 19,
   "id": "a0241193-a6ae-4156-b6df-abfa032f46dd",
   "metadata": {
    "tags": []
   },
   "outputs": [
    {
     "name": "stderr",
     "output_type": "stream",
     "text": [
      "INFO:sagemaker.image_uris:Defaulting to the only supported framework/algorithm version: 1.0.\n",
      "INFO:sagemaker.image_uris:Ignoring unnecessary instance type: None.\n"
     ]
    }
   ],
   "source": [
    "model_bias_monitor = sagemaker.model_monitor.ModelBiasMonitor(\n",
    "    role=role,\n",
    "    sagemaker_session=sagemaker_session,\n",
    "    max_runtime_in_seconds=1800,\n",
    ")"
   ]
  },
  {
   "cell_type": "markdown",
   "id": "c0983548-2835-404d-bd79-c3bb90e426e4",
   "metadata": {},
   "source": [
    "### Baselining job\n",
    "\n",
    "A baselining job runs predictions on training dataset and suggests constraints. The `suggest_baseline()` method of `ModelBiasMonitor` starts a SageMaker Clarify processing job to generate the constraints.\n",
    "\n",
    "The step is not mandatory, but providing constraints file to the monitor can enable violations file generation."
   ]
  },
  {
   "cell_type": "markdown",
   "id": "5334db36-ac02-464f-9d10-f1fd8ce62b19",
   "metadata": {},
   "source": [
    "#### Configurations\n",
    "\n",
    "Information about the input data need to be provided to the processor."
   ]
  },
  {
   "cell_type": "markdown",
   "id": "b763238a-8ce1-4619-9721-8f1b1b9ac804",
   "metadata": {},
   "source": [
    "`DataConfig` stores information about the dataset to be analyzed. For example, the dataset file and its format (like JSON Lines), where to store the analysis results. Some special things to note about this configuration for the JSON Lines dataset,\n",
    "\n",
    "* The parameter value `\"features\"` or `\"label\"` is **NOT** a header string. Instead, it is a `JMESPath` expression ([refer to its specification](https://jmespath.org/specification.html)) that is used to locate the features list or the ground truth label in the dataset. In this example notebook they happen to be the same as the keys in the dataset. But for example, if the dataset has records like below, then the `features` parameter should use value `\"data.features.values\"`, and the `label` parameter should use value `\"data.label\"`.\n",
    "\n",
    "  ```\n",
    "  {\"data\": {\"features\": {\"values\": [25, 2, 226802, 1, 7, 4, 6, 3, 2, 1, 0, 0, 40, 37]}, \"label\": 0}}\n",
    "  ```\n",
    "\n",
    "* SageMaker Clarify processing job will load the JSON Lines dataset into tabular representation for further analysis, and the parameter `headers` is the list of column names. **The label header shall be the last one in the headers list**, and the order of feature headers shall be the same as the order of features in a record."
   ]
  },
  {
   "cell_type": "code",
   "execution_count": 20,
   "id": "6f97cdf8-53ec-4f9b-9168-69279ab4a80b",
   "metadata": {
    "tags": []
   },
   "outputs": [],
   "source": [
    "features_jmespath = \"instances[*].features\"\n",
    "ground_truth_label_jmespath = \"instances[*].label\"\n",
    "data_config = sagemaker.clarify.DataConfig(\n",
    "    s3_data_input_path=train_data_s3_uri,\n",
    "    s3_output_path=baselining_output_s3_uri,\n",
    "    features=features_jmespath,\n",
    "    label=ground_truth_label_jmespath,\n",
    "    headers=all_headers,\n",
    "    dataset_type=dataset_type,\n",
    ")"
   ]
  },
  {
   "cell_type": "markdown",
   "id": "d43b2ecd-5c9a-40cc-9b4f-3699976d4cdd",
   "metadata": {},
   "source": [
    "`ModelConfig` is configuration related to model to be used for inferencing. In order to compute post-training bias metrics, the computation needs to get inferences for the SageMaker model. To accomplish this, the processing job will use the model to create an ephemeral endpoint (also known as \"shadow endpoint\"). The processing job will delete the shadow endpoint after the computations are completed. One special thing to note about this configuration for the JSON Lines model input and output,\n",
    "\n",
    "* `content_template` is used by SageMaker Clarify processing job to convert the tabular data to the request payload acceptable to the shadow endpoint. To be more specific, the placeholder `$features` will be replaced by **the features list** from records. The request payload of a record from the testing dataset happens to be similar to the record itself, like `{\"features\":[28,2,133937,9,13,2,0,0,4,1,15024,0,55,37]}`, because both the dataset and the model input conform to the same format."
   ]
  },
  {
   "cell_type": "code",
   "execution_count": 21,
   "id": "167fa7ab-d910-47da-8d3a-85a5e12860ef",
   "metadata": {
    "tags": []
   },
   "outputs": [],
   "source": [
    "model_config = sagemaker.clarify.ModelConfig(\n",
    "    model_name=model_name,  # The name of the SageMaker model\n",
    "    instance_type=\"ml.m5.xlarge\",  # The instance type of the shadow endpoint\n",
    "    instance_count=1,  # The instance count of the shadow endpoint\n",
    "    content_type=dataset_type,  # The data format of the model input\n",
    "    accept_type=dataset_type,  # The data format of the model output\n",
    "    content_template='{\"instances\":$records}',\n",
    "    record_template='{\"features\":$features}',\n",
    ")"
   ]
  },
  {
   "cell_type": "markdown",
   "id": "108cd499-e794-4357-ade8-072af816ff60",
   "metadata": {},
   "source": [
    "`ModelPredictedLabelConfig` specifies how to extract predicted label from the model output. The example model returns the predicted label as well as the confidence score, so there are two ways to define this configuration,\n",
    "\n",
    "* Set the `label` parameter to \"predicted_label\" which is the `JMESPath` expression to locate the predicted label in the model output. This is the way used in this example.\n",
    "* Alternatively, you can set the `probability` parameter to \"score\" which is the `JMESPath` expression to locate the confidence score in the model output. And set the `probability_threshold` parameter to a floating number in between 0 and 1. The post-training analysis will use it to convert a score to binary predicted label (`0` or `1`). The default value is 0.5, which means a probability value > 0.5 indicates predicted label `1`."
   ]
  },
  {
   "cell_type": "code",
   "execution_count": 22,
   "id": "fdf0b399-785c-4982-92a8-5c84d481bc5f",
   "metadata": {
    "tags": []
   },
   "outputs": [],
   "source": [
    "predicted_label_jmespath = \"predictions[*].predicted_label\"\n",
    "probability_jmespath = \"predictions[*].score\"\n",
    "model_predicted_label_config = sagemaker.clarify.ModelPredictedLabelConfig(\n",
    "    label=predicted_label_jmespath,\n",
    "    probability=probability_jmespath,\n",
    ")"
   ]
  },
  {
   "cell_type": "markdown",
   "id": "91c30fa7-7d07-4273-a6e3-3a3761f3861f",
   "metadata": {},
   "source": [
    "`BiasConfig` is the configuration of the sensitive groups in the dataset. Typically, bias is measured by computing a metric and comparing it across groups.\n",
    "\n",
    "  * The group of interest is specified using the facet parameters. With the following configuration, the baselining job will check for bias in the model's predictions with respect to gender and income. Specifically, it is checking if the model is more likely to predict that males have an annual income of over $50,000 compared to females. Although not demonstrated in this example, a bias monitor can measure bias against multiple sensitive attributes, if you provide a list of facets.\n",
    "  * The `group_name` parameter is used to form subgroups for the measurement of [Conditional Demographic Disparity in Labels](https://docs.aws.amazon.com/sagemaker/latest/dg/clarify-data-bias-metric-cddl.html) (CDDL) and [Conditional Demographic Disparity in Predicted Labels](https://docs.aws.amazon.com/sagemaker/latest/dg/clarify-post-training-bias-metric-cddpl.html) (CDDPL) with regard to [Simpson’s paradox](https://en.wikipedia.org/wiki/Simpson%27s_paradox)."
   ]
  },
  {
   "cell_type": "code",
   "execution_count": 23,
   "id": "3a5da68b-bda0-44f1-8f20-7c68dbced478",
   "metadata": {
    "tags": []
   },
   "outputs": [],
   "source": [
    "bias_config = sagemaker.clarify.BiasConfig(\n",
    "    label_values_or_threshold=[1],  # the positive outcome is earning >$50,000\n",
    "    facet_name=\"Sex\",  # the sensitive attribute is the gender\n",
    "    facet_values_or_threshold=[0],  # the disadvantaged group is female\n",
    "    group_name=\"Age\",\n",
    ")"
   ]
  },
  {
   "cell_type": "markdown",
   "id": "cb9c591f-8c18-4979-8991-15e5ca43c803",
   "metadata": {},
   "source": [
    "#### Kick off baselining job\n",
    "\n",
    "Call the `suggest_baseline()` method to start the baselining job. The job computes all the [pre-training bias metrics](https://docs.aws.amazon.com/sagemaker/latest/dg/clarify-measure-data-bias.html) and [post-training bias metrics](https://docs.aws.amazon.com/sagemaker/latest/dg/clarify-measure-post-training-bias.html)."
   ]
  },
  {
   "cell_type": "code",
   "execution_count": 24,
   "id": "97b89496-d6c3-44a6-b590-79368253d7dc",
   "metadata": {
    "tags": []
   },
   "outputs": [
    {
     "name": "stderr",
     "output_type": "stream",
     "text": [
      "INFO:sagemaker.image_uris:Defaulting to the only supported framework/algorithm version: 1.0.\n",
      "INFO:sagemaker.image_uris:Ignoring unnecessary instance type: None.\n",
      "INFO:sagemaker.clarify:Analysis Config: {'dataset_type': 'application/json', 'features': 'instances[*].features', 'headers': ['Age', 'Workclass', 'fnlwgt', 'Education', 'Education-Num', 'Marital Status', 'Occupation', 'Relationship', 'Ethnic group', 'Sex', 'Capital Gain', 'Capital Loss', 'Hours per week', 'Country', 'Target'], 'label': 'instances[*].label', 'label_values_or_threshold': [1], 'facet': [{'name_or_index': 'Sex', 'value_or_threshold': [0]}], 'group_variable': 'Age', 'methods': {'report': {'name': 'report', 'title': 'Analysis Report'}, 'pre_training_bias': {'methods': 'all'}, 'post_training_bias': {'methods': 'all'}}, 'predictor': {'model_name': 'DEMO-xgb-churn-pred-model-monitor-1705692245-0c05', 'instance_type': 'ml.m5.xlarge', 'initial_instance_count': 1, 'accept_type': 'application/json', 'content_type': 'application/json', 'content_template': '{\"instances\":$records}', 'record_template': '{\"features\":$features}', 'label': 'predictions[*].predicted_label', 'probability': 'predictions[*].score'}}\n",
      "INFO:sagemaker:Creating processing-job with name baseline-suggestion-job-2024-01-19-19-29-35-080\n"
     ]
    },
    {
     "data": {
      "text/plain": [
       "<sagemaker.processing.ProcessingJob at 0x7fcd730a1af0>"
      ]
     },
     "execution_count": 24,
     "metadata": {},
     "output_type": "execute_result"
    }
   ],
   "source": [
    "model_bias_monitor.suggest_baseline(\n",
    "    bias_config=bias_config,\n",
    "    data_config=data_config,\n",
    "    model_config=model_config,\n",
    "    model_predicted_label_config=model_predicted_label_config,\n",
    ")"
   ]
  },
  {
   "cell_type": "markdown",
   "id": "6260e81a-a1b9-4370-a270-50aea5a795e1",
   "metadata": {},
   "source": [
    "**NOTE**: The following cell waits until the baselining job is completed (in about 10 minutes). It then inspects the suggested constraints. This step can be skipped, because the monitor to be scheduled will automatically pick up baselining job name and wait for it before monitoring execution."
   ]
  },
  {
   "cell_type": "code",
   "execution_count": 25,
   "id": "c274495b-c8ef-4f09-bc69-e7634279b6c1",
   "metadata": {
    "tags": []
   },
   "outputs": [
    {
     "name": "stdout",
     "output_type": "stream",
     "text": [
      ".......................................................................................................................!\n",
      "Suggested constraints: s3://sagemaker-us-west-2-678264136642/sagemaker/DEMO-ClarifyModelMonitor-1705692244-1224/baselining-output/analysis.json\n",
      "{\n",
      "    \"version\": \"1.0\",\n",
      "    \"post_training_bias_metrics\": {\n",
      "        \"label\": \"Target\",\n",
      "        \"facets\": {\n",
      "            \"Sex\": [\n",
      "                {\n",
      "                    \"value_or_threshold\": \"0\",\n",
      "                    \"metrics\": [\n",
      "                        {\n",
      "                            \"name\": \"AD\",\n",
      "                            \"description\": \"Accuracy Difference (AD)\",\n",
      "                            \"value\": -0.15156641604010024\n",
      "                        },\n",
      "                        {\n",
      "                            \"name\": \"CDDPL\",\n",
      "                            \"description\": \"Conditional Demographic Disparity in Predicted Labels (CDDPL)\",\n",
      "                            \"value\": 0.28176563733194276\n",
      "                        },\n",
      "                        {\n",
      "                            \"name\": \"DAR\",\n",
      "                            \"description\": \"Difference in Acceptance Rates (DAR)\",\n",
      "                            \"value\": -0.09508196721311479\n",
      "                        },\n",
      "                        {\n",
      "                            \"name\": \"DCA\",\n",
      "                            \"description\": \"Difference in Conditional Acceptance (DCA)\",\n",
      "                            \"value\": -0.5278688524590163\n",
      "                        },\n",
      "                        {\n",
      "                            \"name\": \"DCR\",\n",
      "                            \"description\": \"Difference in Conditional Rejection (DCR)\",\n",
      "                            \"value\": 0.027874251497005953\n",
      "                        },\n",
      "                        {\n",
      "                            \"name\": \"DI\",\n",
      "                            \"description\": \"Disparate Impact (DI)\",\n",
      "                            \"value\": 0.17798594847775176\n",
      "                        },\n",
      "                        {\n",
      "                            \"name\": \"DPPL\",\n",
      "                            \"description\": \"Difference in Positive Proportions in Predicted Labels (DPPL)\",\n",
      "                            \"value\": 0.2199248120300752\n",
      "                        },\n",
      "                        {\n",
      "                            \"name\": \"DRR\",\n",
      "                            \"description\": \"Difference in Rejection Rates (DRR)\",\n",
      "                            \"value\": 0.12565868263473046\n",
      "                        },\n",
      "                        {\n",
      "                            \"name\": \"FT\",\n",
      "                            \"description\": \"Flip Test (FT)\",\n",
      "                            \"value\": -0.03333333333333333\n",
      "                        },\n",
      "                        {\n",
      "                            \"name\": \"GE\",\n",
      "                            \"description\": \"Generalized Entropy (GE)\",\n",
      "                            \"value\": 0.0841186702174704\n",
      "                        },\n",
      "                        {\n",
      "                            \"name\": \"RD\",\n",
      "                            \"description\": \"Recall Difference (RD)\",\n",
      "                            \"value\": 0.1308103661044837\n",
      "                        },\n",
      "                        {\n",
      "                            \"name\": \"SD\",\n",
      "                            \"description\": \"Specificity Difference (SD)\",\n",
      "                            \"value\": 0.10465328014037645\n",
      "                        },\n",
      "                        {\n",
      "                            \"name\": \"TE\",\n",
      "                            \"description\": \"Treatment Equality (TE)\",\n",
      "                            \"value\": 2.916666666666667\n",
      "                        }\n",
      "                    ]\n",
      "                }\n",
      "            ]\n",
      "        },\n",
      "        \"label_value_or_threshold\": \"1\"\n",
      "    },\n",
      "    \"pre_training_bias_metrics\": {\n",
      "        \"label\": \"Target\",\n",
      "        \"facets\": {\n",
      "            \"Sex\": [\n",
      "                {\n",
      "                    \"value_or_threshold\": \"0\",\n",
      "                    \"metrics\": [\n",
      "                        {\n",
      "                            \"name\": \"CDDL\",\n",
      "                            \"description\": \"Conditional Demographic Disparity in Labels (CDDL)\",\n",
      "                            \"value\": 0.27459074287718793\n",
      "                        },\n",
      "                        {\n",
      "                            \"name\": \"CI\",\n",
      "                            \"description\": \"Class Imbalance (CI)\",\n",
      "                            \"value\": 0.36936936936936937\n",
      "                        },\n",
      "                        {\n",
      "                            \"name\": \"DPL\",\n",
      "                            \"description\": \"Difference in Positive Proportions in Labels (DPL)\",\n",
      "                            \"value\": 0.2326441102756892\n",
      "                        },\n",
      "                        {\n",
      "                            \"name\": \"JS\",\n",
      "                            \"description\": \"Jensen-Shannon Divergence (JS)\",\n",
      "                            \"value\": 0.04508199943437752\n",
      "                        },\n",
      "                        {\n",
      "                            \"name\": \"KL\",\n",
      "                            \"description\": \"Kullback-Liebler Divergence (KL)\",\n",
      "                            \"value\": 0.22434464102537785\n",
      "                        },\n",
      "                        {\n",
      "                            \"name\": \"KS\",\n",
      "                            \"description\": \"Kolmogorov-Smirnov Distance (KS)\",\n",
      "                            \"value\": 0.2326441102756892\n",
      "                        },\n",
      "                        {\n",
      "                            \"name\": \"LP\",\n",
      "                            \"description\": \"L-p Norm (LP)\",\n",
      "                            \"value\": 0.32900845595810163\n",
      "                        },\n",
      "                        {\n",
      "                            \"name\": \"TVD\",\n",
      "                            \"description\": \"Total Variation Distance (TVD)\",\n",
      "                            \"value\": 0.2326441102756892\n",
      "                        }\n",
      "                    ]\n",
      "                }\n",
      "            ]\n",
      "        },\n",
      "        \"label_value_or_threshold\": \"1\"\n",
      "    }\n",
      "}\n"
     ]
    }
   ],
   "source": [
    "model_bias_monitor.latest_baselining_job.wait(logs=False)\n",
    "print()\n",
    "model_bias_constraints = model_bias_monitor.suggested_constraints()\n",
    "print(f\"Suggested constraints: {model_bias_constraints.file_s3_uri}\")\n",
    "print(\n",
    "    sagemaker.s3.S3Downloader.read_file(\n",
    "        s3_uri=model_bias_constraints.file_s3_uri,\n",
    "        sagemaker_session=sagemaker_session,\n",
    "    )\n",
    ")"
   ]
  },
  {
   "cell_type": "markdown",
   "id": "02ec0da8-68db-4a08-a0f2-2c31b931112d",
   "metadata": {},
   "source": [
    "### Monitoring Schedule\n",
    "\n",
    "With above constraints collected, now call `create_monitoring_schedule()` method to schedule an hourly model bias monitor."
   ]
  },
  {
   "cell_type": "markdown",
   "id": "c73e6f33-6c9b-4317-9c44-265e0efdcd9b",
   "metadata": {},
   "source": [
    "If a baselining job has been submitted, then the monitor object will automatically pick up the analysis configuration from the baselining job. But if the baselining step is skipped, or if the capture dataset has different nature than the training dataset, then analysis configuration has to be provided.\n",
    "\n",
    "`BiasAnalysisConfig` is a subset of the configuration of the baselining job, many options are not needed because,\n",
    "\n",
    "* Model bias monitor will merge the captured data and the ground truth data, and then use the merged data as the input dataset.\n",
    "* Capture data already includes predictions, so there is no need to create shadow endpoint.\n",
    "* Attributes like probability threshold are provided as part of `BatchTransformInput`.\n",
    "\n",
    "Highlights,\n",
    "\n",
    "* `data_capture_s3_uri` is the location of data captured by the batch transform job\n",
    "* `ground_truth_s3_uri` is the location of ground truth data\n",
    "* `features_attribute` is the `JMESPath` expression to locate the features in model input, similar to the `features` parameter of `DataConfig`.\n",
    "* `inference_attribute` is the `JMESPath` expression to locate the predicted label in model output, similar to the `label` parameter of `ModelPredictedLabelConfig`."
   ]
  },
  {
   "cell_type": "code",
   "execution_count": 26,
   "id": "2574e21f-02ee-40b4-8015-625a7e7bc403",
   "metadata": {
    "tags": []
   },
   "outputs": [],
   "source": [
    "schedule_expression = sagemaker.model_monitor.CronExpressionGenerator.hourly()"
   ]
  },
  {
   "cell_type": "code",
   "execution_count": 27,
   "id": "0cd1eec4-0e46-4b78-9b9c-1e0c6700e329",
   "metadata": {
    "tags": []
   },
   "outputs": [
    {
     "name": "stderr",
     "output_type": "stream",
     "text": [
      "INFO:sagemaker.model_monitor.clarify_model_monitoring:Uploading analysis config to {s3_uri}.\n",
      "INFO:sagemaker.model_monitor.model_monitoring:Creating Monitoring Schedule with name: monitoring-schedule-2024-01-19-19-39-39-971\n"
     ]
    },
    {
     "name": "stdout",
     "output_type": "stream",
     "text": [
      "Model bias monitoring schedule: monitoring-schedule-2024-01-19-19-39-39-971\n"
     ]
    }
   ],
   "source": [
    "model_bias_analysis_config = None\n",
    "\n",
    "model_bias_analysis_config = sagemaker.model_monitor.BiasAnalysisConfig(\n",
    "    bias_config,\n",
    "    headers=all_headers,\n",
    "    label=ground_truth_label_jmespath,\n",
    ")\n",
    "model_bias_monitor.create_monitoring_schedule(\n",
    "    analysis_config=model_bias_analysis_config,\n",
    "    batch_transform_input=sagemaker.model_monitor.BatchTransformInput(\n",
    "        data_captured_destination_s3_uri=data_capture_s3_uri,\n",
    "        destination=\"/opt/ml/processing/transform\",\n",
    "        dataset_format=sagemaker.model_monitor.MonitoringDatasetFormat.json(lines=False),\n",
    "        features_attribute=features_jmespath,  # mandatory if no baselining job\n",
    "        inference_attribute=predicted_label_jmespath,  # mandatory if no baselining job\n",
    "        # look back 6 hour for transform job output.\n",
    "        start_time_offset=\"-PT6H\",\n",
    "        end_time_offset=\"-PT0H\",\n",
    "    ),\n",
    "    ground_truth_input=ground_truth_s3_uri,\n",
    "    output_s3_uri=monitor_output_s3_uri,\n",
    "    schedule_cron_expression=schedule_expression,\n",
    ")\n",
    "print(f\"Model bias monitoring schedule: {model_bias_monitor.monitoring_schedule_name}\")"
   ]
  },
  {
   "cell_type": "markdown",
   "id": "c194c1c2-ef1e-4592-98af-ccd8a55b111f",
   "metadata": {},
   "source": [
    "#### Wait for the first execution\n",
    "\n",
    "The schedule starts jobs at the previously specified intervals. Code below waits until time crosses the hour boundary (in UTC) to see executions kick off.\n",
    "\n",
    "Note: Even for an hourly schedule, Amazon SageMaker has a buffer period of 20 minutes to schedule executions. The execution might start in anywhere from zero to ~20 minutes from the hour boundary. This is expected and done for load balancing in the backend."
   ]
  },
  {
   "cell_type": "code",
   "execution_count": 28,
   "id": "bbec575c-acde-436f-a74e-dd3013ff4f2b",
   "metadata": {
    "tags": []
   },
   "outputs": [],
   "source": [
    "def wait_for_execution_to_start(model_monitor):\n",
    "    print(\n",
    "        \"An hourly schedule was created above and it will kick off executions ON the hour (plus 0 - 20 min buffer).\"\n",
    "    )\n",
    "\n",
    "    print(\"Waiting for the first execution to happen\", end=\"\")\n",
    "    schedule_desc = model_monitor.describe_schedule()\n",
    "    while \"LastMonitoringExecutionSummary\" not in schedule_desc:\n",
    "        schedule_desc = model_monitor.describe_schedule()\n",
    "        print(\".\", end=\"\", flush=True)\n",
    "        time.sleep(60)\n",
    "    print()\n",
    "    print(\"Done! Execution has been created\")\n",
    "\n",
    "    print(\"Now waiting for execution to start\", end=\"\")\n",
    "    while schedule_desc[\"LastMonitoringExecutionSummary\"][\"MonitoringExecutionStatus\"] in \"Pending\":\n",
    "        schedule_desc = model_monitor.describe_schedule()\n",
    "        print(\".\", end=\"\", flush=True)\n",
    "        time.sleep(10)\n",
    "\n",
    "    print()\n",
    "    print(\"Done! Execution has started\")"
   ]
  },
  {
   "cell_type": "markdown",
   "id": "944a9edf-05c1-4ff7-b817-7c95baff3206",
   "metadata": {},
   "source": [
    "**NOTE**: The following cell waits until the first monitoring execution is started. As explained above, the wait could take more than 60 minutes."
   ]
  },
  {
   "cell_type": "code",
   "execution_count": 29,
   "id": "d7332096-d521-4caa-9b11-307252a0d857",
   "metadata": {
    "scrolled": true,
    "tags": []
   },
   "outputs": [
    {
     "name": "stdout",
     "output_type": "stream",
     "text": [
      "An hourly schedule was created above and it will kick off executions ON the hour (plus 0 - 20 min buffer).\n",
      "Waiting for the first execution to happen............................\n",
      "Done! Execution has been created\n",
      "Now waiting for execution to start....\n",
      "Done! Execution has started\n"
     ]
    }
   ],
   "source": [
    "wait_for_execution_to_start(model_bias_monitor)"
   ]
  },
  {
   "cell_type": "markdown",
   "id": "3f7665fd-098a-46ef-b32a-07c098d5a362",
   "metadata": {},
   "source": [
    "In real world, a monitoring schedule is supposed to be active all the time. But in this example, it can be stopped to avoid incurring extra charges. A stopped schedule will not trigger further executions, but the ongoing execution will continue. And if needed, the schedule can be restarted by `start_monitoring_schedule()`."
   ]
  },
  {
   "cell_type": "code",
   "execution_count": 30,
   "id": "6eee4204-b662-4a85-ad53-cb945d287a15",
   "metadata": {
    "tags": []
   },
   "outputs": [
    {
     "name": "stderr",
     "output_type": "stream",
     "text": [
      "INFO:sagemaker:Stopping Monitoring Schedule with name: monitoring-schedule-2024-01-19-19-39-39-971\n"
     ]
    }
   ],
   "source": [
    "model_bias_monitor.stop_monitoring_schedule()"
   ]
  },
  {
   "cell_type": "markdown",
   "id": "3fa797ec-938e-4f7b-a028-3414384ef774",
   "metadata": {},
   "source": [
    "#### Wait for the execution to finish\n",
    "\n",
    "In the previous cell, the first execution has started. This section waits for the execution to finish so that its analysis results are available. Here are the possible terminal states and what each of them mean:\n",
    "\n",
    "* `Completed` - This means the monitoring execution completed, and no issues were found in the violations report.\n",
    "* `CompletedWithViolations` - This means the execution completed, but constraint violations were detected.\n",
    "* `Failed` - The monitoring execution failed, maybe due to client error (perhaps incorrect role permissions) or infrastructure issues. Further examination of `FailureReason` and `ExitMessage` is necessary to identify what exactly happened.\n",
    "* `Stopped` - job exceeded max runtime or was manually stopped."
   ]
  },
  {
   "cell_type": "code",
   "execution_count": 31,
   "id": "35cacb92-8337-4bbf-b84a-cbd2fe52b188",
   "metadata": {
    "tags": []
   },
   "outputs": [],
   "source": [
    "# Waits for the schedule to have last execution in a terminal status.\n",
    "def wait_for_execution_to_finish(model_monitor):\n",
    "    schedule_desc = model_monitor.describe_schedule()\n",
    "    execution_summary = schedule_desc.get(\"LastMonitoringExecutionSummary\")\n",
    "    if execution_summary is not None:\n",
    "        print(\"Waiting for execution to finish\", end=\"\")\n",
    "        while execution_summary[\"MonitoringExecutionStatus\"] not in [\n",
    "            \"Completed\",\n",
    "            \"CompletedWithViolations\",\n",
    "            \"Failed\",\n",
    "            \"Stopped\",\n",
    "        ]:\n",
    "            print(\".\", end=\"\", flush=True)\n",
    "            time.sleep(60)\n",
    "            schedule_desc = model_monitor.describe_schedule()\n",
    "            execution_summary = schedule_desc[\"LastMonitoringExecutionSummary\"]\n",
    "        print()\n",
    "        print(f\"Done! Execution Status: {execution_summary['MonitoringExecutionStatus']}\")\n",
    "    else:\n",
    "        print(\"Last execution not found\")"
   ]
  },
  {
   "cell_type": "markdown",
   "id": "2fa71d56-71d6-4a98-b86c-ca1ec3d2cc36",
   "metadata": {},
   "source": [
    "**NOTE**: The following cell takes about 10 minutes."
   ]
  },
  {
   "cell_type": "code",
   "execution_count": 32,
   "id": "58a6d1e1-ca5a-4da3-a32b-60af41f73253",
   "metadata": {
    "tags": []
   },
   "outputs": [
    {
     "name": "stdout",
     "output_type": "stream",
     "text": [
      "Waiting for execution to finish...........\n",
      "Done! Execution Status: CompletedWithViolations\n"
     ]
    }
   ],
   "source": [
    "wait_for_execution_to_finish(model_bias_monitor)"
   ]
  },
  {
   "cell_type": "markdown",
   "id": "95a0e9a8-7ea9-4d4e-a599-ffbc5da194a8",
   "metadata": {},
   "source": [
    "#### Merged data\n",
    "\n",
    "Merged data is the intermediate results of bias drift monitoring execution. It is saved to JSON Lines files under the \"merge\" folder of `monitor_output_s3_uri`. Each line is a valid JSON object which combines the captured data and the ground truth data."
   ]
  },
  {
   "cell_type": "code",
   "execution_count": 33,
   "id": "7ac45f26-e538-4a27-b626-cb882699fd39",
   "metadata": {
    "tags": []
   },
   "outputs": [
    {
     "name": "stdout",
     "output_type": "stream",
     "text": [
      "s3://sagemaker-us-west-2-678264136642/sagemaker/DEMO-ClarifyModelMonitor-1705692244-1224/monitor-output/merge\n",
      "Found merged data files:\n",
      "s3://sagemaker-us-west-2-678264136642/sagemaker/DEMO-ClarifyModelMonitor-1705692244-1224/monitor-output/merge/monitoring-schedule-2024-01-19-19-39-39-971/2024/01/19/19/part-00000-8cf95ad5-2469-48d9-a3dc-dd5a17fc8823.c000.jsonl\n"
     ]
    }
   ],
   "source": [
    "merged_data_s3_uri = f\"{monitor_output_s3_uri}/merge\"\n",
    "print(merged_data_s3_uri)\n",
    "merged_data_files = sorted(\n",
    "    sagemaker.s3.S3Downloader.list(\n",
    "        s3_uri=merged_data_s3_uri,\n",
    "        sagemaker_session=sagemaker_session,\n",
    "    )\n",
    ")\n",
    "print(\"Found merged data files:\")\n",
    "print(\"\\n \".join(merged_data_files[-5:]))"
   ]
  },
  {
   "cell_type": "markdown",
   "id": "2eab9902-d42f-4d7c-ae4e-502f6fe99e86",
   "metadata": {},
   "source": [
    "The following cell prints a single line of a merged data file.\n",
    "\n",
    "* `eventId` is the inference ID from the captured data and the ground truth data\n",
    "* `groundTruthData` is from the ground truth data\n",
    "* `captureData` is from the captured data. In this case, the `data` of `batchTransformOutput` is from the transform output."
   ]
  },
  {
   "cell_type": "code",
   "execution_count": 34,
   "id": "d999738d-0dcc-4275-8e0e-18330f11ee9f",
   "metadata": {
    "tags": []
   },
   "outputs": [
    {
     "name": "stdout",
     "output_type": "stream",
     "text": [
      "{\n",
      "    \"eventMetadata\": {\n",
      "        \"eventId\": \"94bcc22a-0462-4bd1-92c9-b46a5aaec1aa\"\n",
      "    },\n",
      "    \"eventVersion\": \"0\",\n",
      "    \"groundTruthData\": {\n",
      "        \"data\": \"{\\\"instances\\\": [{\\\"label\\\": 0}, {\\\"label\\\": 1}, {\\\"label\\\": 0}, {\\\"label\\\": 1}, {\\\"label\\\": 1}, {\\\"label\\\": 1}, {\\\"label\\\": 0}, {\\\"label\\\": 1}, {\\\"label\\\": 1}, {\\\"label\\\": 1}, {\\\"label\\\": 1}, {\\\"label\\\": 1}, {\\\"label\\\": 1}, {\\\"label\\\": 1}, {\\\"label\\\": 1}, {\\\"label\\\": 0}, {\\\"label\\\": 1}, {\\\"label\\\": 1}, {\\\"label\\\": 1}, {\\\"label\\\": 1}, {\\\"label\\\": 0}, {\\\"label\\\": 1}, {\\\"label\\\": 0}, {\\\"label\\\": 0}, {\\\"label\\\": 0}, {\\\"label\\\": 1}, {\\\"label\\\": 0}, {\\\"label\\\": 1}, {\\\"label\\\": 1}, {\\\"label\\\": 1}, {\\\"label\\\": 1}, {\\\"label\\\": 1}, {\\\"label\\\": 1}, {\\\"label\\\": 1}, {\\\"label\\\": 1}, {\\\"label\\\": 1}, {\\\"label\\\": 1}, {\\\"label\\\": 1}, {\\\"label\\\": 1}, {\\\"label\\\": 1}, {\\\"label\\\": 1}, {\\\"label\\\": 1}, {\\\"label\\\": 1}, {\\\"label\\\": 1}, {\\\"label\\\": 1}, {\\\"label\\\": 1}, {\\\"label\\\": 0}, {\\\"label\\\": 1}, {\\\"label\\\": 1}, {\\\"label\\\": 1}, {\\\"label\\\": 1}, {\\\"label\\\": 1}, {\\\"label\\\": 0}, {\\\"label\\\": 1}, {\\\"label\\\": 0}, {\\\"label\\\": 1}, {\\\"label\\\": 0}, {\\\"label\\\": 1}, {\\\"label\\\": 1}, {\\\"label\\\": 1}, {\\\"label\\\": 1}, {\\\"label\\\": 1}, {\\\"label\\\": 0}, {\\\"label\\\": 1}, {\\\"label\\\": 1}, {\\\"label\\\": 1}, {\\\"label\\\": 1}, {\\\"label\\\": 1}, {\\\"label\\\": 0}, {\\\"label\\\": 1}, {\\\"label\\\": 0}, {\\\"label\\\": 1}, {\\\"label\\\": 1}, {\\\"label\\\": 1}, {\\\"label\\\": 0}, {\\\"label\\\": 1}, {\\\"label\\\": 1}, {\\\"label\\\": 0}, {\\\"label\\\": 0}, {\\\"label\\\": 1}, {\\\"label\\\": 1}, {\\\"label\\\": 1}, {\\\"label\\\": 1}, {\\\"label\\\": 1}, {\\\"label\\\": 0}, {\\\"label\\\": 1}, {\\\"label\\\": 0}, {\\\"label\\\": 1}, {\\\"label\\\": 1}, {\\\"label\\\": 1}, {\\\"label\\\": 1}, {\\\"label\\\": 1}, {\\\"label\\\": 1}, {\\\"label\\\": 0}, {\\\"label\\\": 1}, {\\\"label\\\": 0}, {\\\"label\\\": 1}, {\\\"label\\\": 1}, {\\\"label\\\": 1}, {\\\"label\\\": 1}, {\\\"label\\\": 1}, {\\\"label\\\": 1}, {\\\"label\\\": 1}, {\\\"label\\\": 0}, {\\\"label\\\": 0}, {\\\"label\\\": 0}, {\\\"label\\\": 0}, {\\\"label\\\": 1}, {\\\"label\\\": 1}, {\\\"label\\\": 1}, {\\\"label\\\": 0}, {\\\"label\\\": 0}, {\\\"label\\\": 1}, {\\\"label\\\": 1}, {\\\"label\\\": 1}, {\\\"label\\\": 0}, {\\\"label\\\": 0}, {\\\"label\\\": 1}, {\\\"label\\\": 0}, {\\\"label\\\": 0}, {\\\"label\\\": 1}, {\\\"label\\\": 1}, {\\\"label\\\": 1}, {\\\"label\\\": 1}, {\\\"label\\\": 0}, {\\\"label\\\": 0}, {\\\"label\\\": 1}, {\\\"label\\\": 1}, {\\\"label\\\": 0}, {\\\"label\\\": 1}, {\\\"label\\\": 1}, {\\\"label\\\": 1}, {\\\"label\\\": 1}, {\\\"label\\\": 1}, {\\\"label\\\": 1}, {\\\"label\\\": 1}, {\\\"label\\\": 1}, {\\\"label\\\": 1}, {\\\"label\\\": 1}, {\\\"label\\\": 1}, {\\\"label\\\": 0}, {\\\"label\\\": 1}, {\\\"label\\\": 1}, {\\\"label\\\": 0}, {\\\"label\\\": 1}, {\\\"label\\\": 0}, {\\\"label\\\": 1}, {\\\"label\\\": 1}, {\\\"label\\\": 1}, {\\\"label\\\": 1}, {\\\"label\\\": 0}, {\\\"label\\\": 0}, {\\\"label\\\": 0}, {\\\"label\\\": 0}, {\\\"label\\\": 1}, {\\\"label\\\": 1}, {\\\"label\\\": 1}, {\\\"label\\\": 1}, {\\\"label\\\": 1}, {\\\"label\\\": 1}, {\\\"label\\\": 1}, {\\\"label\\\": 1}, {\\\"label\\\": 1}, {\\\"label\\\": 1}, {\\\"label\\\": 1}, {\\\"label\\\": 1}, {\\\"label\\\": 1}, {\\\"label\\\": 1}, {\\\"label\\\": 0}, {\\\"label\\\": 1}, {\\\"label\\\": 0}, {\\\"label\\\": 0}, {\\\"label\\\": 1}, {\\\"label\\\": 1}, {\\\"label\\\": 0}, {\\\"label\\\": 1}, {\\\"label\\\": 1}, {\\\"label\\\": 0}, {\\\"label\\\": 0}, {\\\"label\\\": 0}, {\\\"label\\\": 1}, {\\\"label\\\": 1}, {\\\"label\\\": 1}, {\\\"label\\\": 1}, {\\\"label\\\": 1}, {\\\"label\\\": 0}, {\\\"label\\\": 1}, {\\\"label\\\": 1}, {\\\"label\\\": 0}, {\\\"label\\\": 1}, {\\\"label\\\": 1}, {\\\"label\\\": 0}, {\\\"label\\\": 1}, {\\\"label\\\": 1}, {\\\"label\\\": 0}, {\\\"label\\\": 1}, {\\\"label\\\": 1}, {\\\"label\\\": 1}, {\\\"label\\\": 1}, {\\\"label\\\": 1}, {\\\"label\\\": 1}, {\\\"label\\\": 1}, {\\\"label\\\": 0}, {\\\"label\\\": 1}, {\\\"label\\\": 1}, {\\\"label\\\": 1}, {\\\"label\\\": 1}, {\\\"label\\\": 1}, {\\\"label\\\": 1}, {\\\"label\\\": 1}, {\\\"label\\\": 1}, {\\\"label\\\": 1}, {\\\"label\\\": 1}, {\\\"label\\\": 1}, {\\\"label\\\": 1}, {\\\"label\\\": 1}, {\\\"label\\\": 0}, {\\\"label\\\": 0}, {\\\"label\\\": 1}, {\\\"label\\\": 1}, {\\\"label\\\": 0}, {\\\"label\\\": 1}, {\\\"label\\\": 0}, {\\\"label\\\": 1}, {\\\"label\\\": 1}, {\\\"label\\\": 0}, {\\\"label\\\": 1}, {\\\"label\\\": 1}, {\\\"label\\\": 0}, {\\\"label\\\": 1}, {\\\"label\\\": 0}, {\\\"label\\\": 0}, {\\\"label\\\": 1}, {\\\"label\\\": 1}, {\\\"label\\\": 1}, {\\\"label\\\": 1}, {\\\"label\\\": 1}, {\\\"label\\\": 1}, {\\\"label\\\": 0}, {\\\"label\\\": 1}, {\\\"label\\\": 0}, {\\\"label\\\": 1}, {\\\"label\\\": 1}, {\\\"label\\\": 0}, {\\\"label\\\": 0}, {\\\"label\\\": 1}, {\\\"label\\\": 0}, {\\\"label\\\": 1}, {\\\"label\\\": 0}, {\\\"label\\\": 1}, {\\\"label\\\": 1}, {\\\"label\\\": 1}, {\\\"label\\\": 0}, {\\\"label\\\": 1}, {\\\"label\\\": 1}, {\\\"label\\\": 1}, {\\\"label\\\": 1}, {\\\"label\\\": 1}, {\\\"label\\\": 1}, {\\\"label\\\": 1}, {\\\"label\\\": 1}, {\\\"label\\\": 1}, {\\\"label\\\": 1}, {\\\"label\\\": 0}, {\\\"label\\\": 1}, {\\\"label\\\": 0}, {\\\"label\\\": 0}, {\\\"label\\\": 1}, {\\\"label\\\": 0}, {\\\"label\\\": 1}, {\\\"label\\\": 0}, {\\\"label\\\": 1}, {\\\"label\\\": 0}, {\\\"label\\\": 1}, {\\\"label\\\": 1}, {\\\"label\\\": 0}, {\\\"label\\\": 1}, {\\\"label\\\": 0}, {\\\"label\\\": 0}, {\\\"label\\\": 1}, {\\\"label\\\": 1}, {\\\"label\\\": 1}, {\\\"label\\\": 1}, {\\\"label\\\": 0}, {\\\"label\\\": 1}, {\\\"label\\\": 1}, {\\\"label\\\": 1}, {\\\"label\\\": 1}, {\\\"label\\\": 0}, {\\\"label\\\": 0}, {\\\"label\\\": 1}, {\\\"label\\\": 1}, {\\\"label\\\": 0}, {\\\"label\\\": 1}, {\\\"label\\\": 1}, {\\\"label\\\": 0}, {\\\"label\\\": 1}, {\\\"label\\\": 1}, {\\\"label\\\": 1}, {\\\"label\\\": 1}, {\\\"label\\\": 1}, {\\\"label\\\": 1}, {\\\"label\\\": 0}, {\\\"label\\\": 1}, {\\\"label\\\": 1}, {\\\"label\\\": 1}, {\\\"label\\\": 1}, {\\\"label\\\": 1}, {\\\"label\\\": 1}, {\\\"label\\\": 1}, {\\\"label\\\": 1}, {\\\"label\\\": 0}, {\\\"label\\\": 1}, {\\\"label\\\": 1}, {\\\"label\\\": 1}, {\\\"label\\\": 1}, {\\\"label\\\": 1}, {\\\"label\\\": 1}, {\\\"label\\\": 1}, {\\\"label\\\": 1}, {\\\"label\\\": 1}, {\\\"label\\\": 1}, {\\\"label\\\": 0}, {\\\"label\\\": 0}, {\\\"label\\\": 1}, {\\\"label\\\": 1}, {\\\"label\\\": 1}, {\\\"label\\\": 0}, {\\\"label\\\": 1}, {\\\"label\\\": 0}, {\\\"label\\\": 0}, {\\\"label\\\": 0}, {\\\"label\\\": 1}, {\\\"label\\\": 1}]}\",\n",
      "        \"encoding\": \"JSON\"\n",
      "    },\n",
      "    \"captureData\": {\n",
      "        \"batchTransformOutput\": {\n",
      "            \"data\": \"{\\\"SageMakerOutput\\\":{\\\"predictions\\\":[{\\\"predicted_label\\\":1,\\\"score\\\":0.9899773597717285},{\\\"predicted_label\\\":1,\\\"score\\\":0.5041388273239136},{\\\"predicted_label\\\":0,\\\"score\\\":0.06010060757398605},{\\\"predicted_label\\\":0,\\\"score\\\":0.03134893625974655},{\\\"predicted_label\\\":0,\\\"score\\\":0.09185617417097092},{\\\"predicted_label\\\":0,\\\"score\\\":0.03739730641245842},{\\\"predicted_label\\\":1,\\\"score\\\":0.49729207158088684},{\\\"predicted_label\\\":0,\\\"score\\\":0.008392381481826305},{\\\"predicted_label\\\":0,\\\"score\\\":0.00879521481692791},{\\\"predicted_label\\\":0,\\\"score\\\":0.029289718717336655},{\\\"predicted_label\\\":0,\\\"score\\\":0.08575712144374847},{\\\"predicted_label\\\":0,\\\"score\\\":0.06663481891155243},{\\\"predicted_label\\\":1,\\\"score\\\":0.9876857995986938},{\\\"predicted_label\\\":1,\\\"score\\\":0.5606499314308167},{\\\"predicted_label\\\":0,\\\"score\\\":0.1535872220993042},{\\\"predicted_label\\\":1,\\\"score\\\":0.8834722638130188},{\\\"predicted_label\\\":0,\\\"score\\\":0.383236825466156},{\\\"predicted_label\\\":0,\\\"score\\\":0.13311290740966797},{\\\"predicted_label\\\":0,\\\"score\\\":0.12488266080617905},{\\\"predicted_label\\\":0,\\\"score\\\":0.4240318238735199},{\\\"predicted_label\\\":0,\\\"score\\\":0.1475064903497696},{\\\"predicted_label\\\":0,\\\"score\\\":0.4013078212738037},{\\\"predicted_label\\\":0,\\\"score\\\":0.3829629719257355},{\\\"predicted_label\\\":0,\\\"score\\\":0.04401528090238571},{\\\"predicted_label\\\":1,\\\"score\\\":0.4643583297729492},{\\\"predicted_label\\\":0,\\\"score\\\":0.27344629168510437},{\\\"predicted_label\\\":1,\\\"score\\\":0.6847076416015625},{\\\"predicted_label\\\":0,\\\"score\\\":0.00837914552539587},{\\\"predicted_label\\\":0,\\\"score\\\":0.029351601377129555},{\\\"predicted_label\\\":0,\\\"score\\\":0.19715046882629395},{\\\"predicted_label\\\":0,\\\"score\\\":0.03310207650065422},{\\\"predicted_label\\\":0,\\\"score\\\":0.18585215508937836},{\\\"predicted_label\\\":1,\\\"score\\\":0.8259144425392151},{\\\"predicted_label\\\":0,\\\"score\\\":0.35375386476516724},{\\\"predicted_label\\\":1,\\\"score\\\":0.46718907356262207},{\\\"predicted_label\\\":0,\\\"score\\\":0.41002753376960754},{\\\"predicted_label\\\":0,\\\"score\\\":0.10809026658535004},{\\\"predicted_label\\\":1,\\\"score\\\":0.9987805485725403},{\\\"predicted_label\\\":0,\\\"score\\\":0.051950111985206604},{\\\"predicted_label\\\":0,\\\"score\\\":0.15605126321315765},{\\\"predicted_label\\\":0,\\\"score\\\":0.01182370726019144},{\\\"predicted_label\\\":0,\\\"score\\\":0.07119783759117126},{\\\"predicted_label\\\":0,\\\"score\\\":0.26085367798805237},{\\\"predicted_label\\\":0,\\\"score\\\":0.017581462860107422},{\\\"predicted_label\\\":0,\\\"score\\\":0.24335196614265442},{\\\"predicted_label\\\":0,\\\"score\\\":0.23375076055526733},{\\\"predicted_label\\\":0,\\\"score\\\":0.1840328574180603},{\\\"predicted_label\\\":0,\\\"score\\\":0.11400283873081207},{\\\"predicted_label\\\":0,\\\"score\\\":0.39054346084594727},{\\\"predicted_label\\\":0,\\\"score\\\":0.17575860023498535},{\\\"predicted_label\\\":0,\\\"score\\\":0.0103549063205719},{\\\"predicted_label\\\":0,\\\"score\\\":0.09636618942022324},{\\\"predicted_label\\\":0,\\\"score\\\":0.10058632493019104},{\\\"predicted_label\\\":0,\\\"score\\\":0.4429273307323456},{\\\"predicted_label\\\":1,\\\"score\\\":0.9145528674125671},{\\\"predicted_label\\\":0,\\\"score\\\":0.034632161259651184},{\\\"predicted_label\\\":1,\\\"score\\\":0.9298584461212158},{\\\"predicted_label\\\":0,\\\"score\\\":0.15968790650367737},{\\\"predicted_label\\\":0,\\\"score\\\":0.0649690330028534},{\\\"predicted_label\\\":0,\\\"score\\\":0.013313083909451962},{\\\"predicted_label\\\":0,\\\"score\\\":0.01847083866596222},{\\\"predicted_label\\\":0,\\\"score\\\":0.001997788669541478},{\\\"predicted_label\\\":0,\\\"score\\\":0.009390665218234062},{\\\"predicted_label\\\":0,\\\"score\\\":0.27887240052223206},{\\\"predicted_label\\\":0,\\\"score\\\":0.04992330074310303},{\\\"predicted_label\\\":0,\\\"score\\\":0.07680956274271011},{\\\"predicted_label\\\":0,\\\"score\\\":0.004954500123858452},{\\\"predicted_label\\\":0,\\\"score\\\":0.03875388205051422},{\\\"predicted_label\\\":0,\\\"score\\\":0.15849092602729797},{\\\"predicted_label\\\":1,\\\"score\\\":0.4807833433151245},{\\\"predicted_label\\\":0,\\\"score\\\":0.06094944104552269},{\\\"predicted_label\\\":0,\\\"score\\\":0.021259453147649765},{\\\"predicted_label\\\":0,\\\"score\\\":0.05866096541285515},{\\\"predicted_label\\\":0,\\\"score\\\":0.032798755913972855},{\\\"predicted_label\\\":0,\\\"score\\\":0.05232100933790207},{\\\"predicted_label\\\":0,\\\"score\\\":0.004911097697913647},{\\\"predicted_label\\\":0,\\\"score\\\":0.003358837915584445},{\\\"predicted_label\\\":0,\\\"score\\\":0.06727198511362076},{\\\"predicted_label\\\":0,\\\"score\\\":0.2456117570400238},{\\\"predicted_label\\\":0,\\\"score\\\":0.026546994224190712},{\\\"predicted_label\\\":0,\\\"score\\\":0.0023005546536296606},{\\\"predicted_label\\\":0,\\\"score\\\":0.2199370563030243},{\\\"predicted_label\\\":0,\\\"score\\\":0.05470501631498337},{\\\"predicted_label\\\":0,\\\"score\\\":0.25815847516059875},{\\\"predicted_label\\\":0,\\\"score\\\":0.03682425618171692},{\\\"predicted_label\\\":0,\\\"score\\\":0.15122851729393005},{\\\"predicted_label\\\":0,\\\"score\\\":0.05690513923764229},{\\\"predicted_label\\\":1,\\\"score\\\":0.6544484496116638},{\\\"predicted_label\\\":0,\\\"score\\\":0.16538883745670319},{\\\"predicted_label\\\":0,\\\"score\\\":0.18716220557689667},{\\\"predicted_label\\\":0,\\\"score\\\":0.026623019948601723},{\\\"predicted_label\\\":0,\\\"score\\\":0.336801677942276},{\\\"predicted_label\\\":0,\\\"score\\\":0.05271916836500168},{\\\"predicted_label\\\":0,\\\"score\\\":0.14647753536701202},{\\\"predicted_label\\\":0,\\\"score\\\":0.12095839530229568},{\\\"predicted_label\\\":1,\\\"score\\\":0.9051778316497803},{\\\"predicted_label\\\":0,\\\"score\\\":0.17902401089668274},{\\\"predicted_label\\\":0,\\\"score\\\":0.28251078724861145},{\\\"predicted_label\\\":0,\\\"score\\\":0.3606915771961212},{\\\"predicted_label\\\":0,\\\"score\\\":0.0020914904307574034},{\\\"predicted_label\\\":1,\\\"score\\\":0.9972004890441895},{\\\"predicted_label\\\":0,\\\"score\\\":0.4604381322860718},{\\\"predicted_label\\\":0,\\\"score\\\":0.3853796422481537},{\\\"predicted_label\\\":0,\\\"score\\\":0.07100393623113632},{\\\"predicted_label\\\":0,\\\"score\\\":0.2023138701915741},{\\\"predicted_label\\\":0,\\\"score\\\":0.18491515517234802},{\\\"predicted_label\\\":0,\\\"score\\\":0.0881379097700119},{\\\"predicted_label\\\":0,\\\"score\\\":0.15784408152103424},{\\\"predicted_label\\\":0,\\\"score\\\":0.09769514203071594},{\\\"predicted_label\\\":0,\\\"score\\\":0.046238500624895096},{\\\"predicted_label\\\":0,\\\"score\\\":0.2275785207748413},{\\\"predicted_label\\\":0,\\\"score\\\":0.2304120510816574},{\\\"predicted_label\\\":0,\\\"score\\\":0.27462446689605713},{\\\"predicted_label\\\":1,\\\"score\\\":0.8830692768096924},{\\\"predicted_label\\\":0,\\\"score\\\":0.05651085078716278},{\\\"predicted_label\\\":0,\\\"score\\\":0.07847493886947632},{\\\"predicted_label\\\":0,\\\"score\\\":0.1909785121679306},{\\\"predicted_label\\\":0,\\\"score\\\":0.16216956079006195},{\\\"predicted_label\\\":0,\\\"score\\\":0.021511700004339218},{\\\"predicted_label\\\":0,\\\"score\\\":0.030483277514576912},{\\\"predicted_label\\\":0,\\\"score\\\":0.007374728098511696},{\\\"predicted_label\\\":0,\\\"score\\\":0.20213986933231354},{\\\"predicted_label\\\":0,\\\"score\\\":0.16625472903251648},{\\\"predicted_label\\\":0,\\\"score\\\":0.09129100292921066},{\\\"predicted_label\\\":0,\\\"score\\\":0.03654198348522186},{\\\"predicted_label\\\":0,\\\"score\\\":0.005962055176496506},{\\\"predicted_label\\\":1,\\\"score\\\":0.8583703637123108},{\\\"predicted_label\\\":0,\\\"score\\\":0.43974924087524414},{\\\"predicted_label\\\":0,\\\"score\\\":0.1220485270023346},{\\\"predicted_label\\\":0,\\\"score\\\":0.3286969065666199},{\\\"predicted_label\\\":0,\\\"score\\\":0.09551864862442017},{\\\"predicted_label\\\":1,\\\"score\\\":0.49394041299819946},{\\\"predicted_label\\\":0,\\\"score\\\":0.2145218402147293},{\\\"predicted_label\\\":0,\\\"score\\\":0.2620493471622467},{\\\"predicted_label\\\":0,\\\"score\\\":0.0035815106239169836},{\\\"predicted_label\\\":0,\\\"score\\\":0.3159368932247162},{\\\"predicted_label\\\":0,\\\"score\\\":0.015340428799390793},{\\\"predicted_label\\\":0,\\\"score\\\":0.08183091133832932},{\\\"predicted_label\\\":0,\\\"score\\\":0.014787673018872738},{\\\"predicted_label\\\":0,\\\"score\\\":0.13629116117954254},{\\\"predicted_label\\\":0,\\\"score\\\":0.1267249584197998},{\\\"predicted_label\\\":0,\\\"score\\\":0.011872298084199429},{\\\"predicted_label\\\":0,\\\"score\\\":0.12029865384101868},{\\\"predicted_label\\\":1,\\\"score\\\":0.4876486361026764},{\\\"predicted_label\\\":0,\\\"score\\\":0.40573522448539734},{\\\"predicted_label\\\":0,\\\"score\\\":0.16484548151493073},{\\\"predicted_label\\\":0,\\\"score\\\":0.12795452773571014},{\\\"predicted_label\\\":0,\\\"score\\\":0.14087672531604767},{\\\"predicted_label\\\":0,\\\"score\\\":0.039490729570388794},{\\\"predicted_label\\\":1,\\\"score\\\":0.5631105303764343},{\\\"predicted_label\\\":0,\\\"score\\\":0.275579571723938},{\\\"predicted_label\\\":0,\\\"score\\\":0.28162240982055664},{\\\"predicted_label\\\":0,\\\"score\\\":0.10525848716497421},{\\\"predicted_label\\\":1,\\\"score\\\":0.6034412980079651},{\\\"predicted_label\\\":1,\\\"score\\\":0.5564203262329102},{\\\"predicted_label\\\":0,\\\"score\\\":0.07951594144105911},{\\\"predicted_label\\\":0,\\\"score\\\":0.4213581085205078},{\\\"predicted_label\\\":0,\\\"score\\\":0.4467999339103699},{\\\"predicted_label\\\":0,\\\"score\\\":0.09926103800535202},{\\\"predicted_label\\\":1,\\\"score\\\":0.9188331961631775},{\\\"predicted_label\\\":0,\\\"score\\\":0.019268235191702843},{\\\"predicted_label\\\":0,\\\"score\\\":0.052418291568756104},{\\\"predicted_label\\\":0,\\\"score\\\":0.2412867248058319},{\\\"predicted_label\\\":0,\\\"score\\\":0.2780775725841522},{\\\"predicted_label\\\":1,\\\"score\\\":1.0},{\\\"predicted_label\\\":0,\\\"score\\\":0.204729825258255},{\\\"predicted_label\\\":0,\\\"score\\\":0.057125747203826904},{\\\"predicted_label\\\":0,\\\"score\\\":0.020887531340122223},{\\\"predicted_label\\\":1,\\\"score\\\":0.6915412545204163},{\\\"predicted_label\\\":0,\\\"score\\\":0.012329530902206898},{\\\"predicted_label\\\":0,\\\"score\\\":0.07896052300930023},{\\\"predicted_label\\\":0,\\\"score\\\":0.25101810693740845},{\\\"predicted_label\\\":1,\\\"score\\\":0.6937497854232788},{\\\"predicted_label\\\":0,\\\"score\\\":0.22883720695972443},{\\\"predicted_label\\\":0,\\\"score\\\":0.10710513591766357},{\\\"predicted_label\\\":0,\\\"score\\\":0.28821250796318054},{\\\"predicted_label\\\":0,\\\"score\\\":0.18269820511341095},{\\\"predicted_label\\\":0,\\\"score\\\":0.11150718480348587},{\\\"predicted_label\\\":0,\\\"score\\\":0.06589686870574951},{\\\"predicted_label\\\":0,\\\"score\\\":0.1486397385597229},{\\\"predicted_label\\\":0,\\\"score\\\":0.07203324884176254},{\\\"predicted_label\\\":0,\\\"score\\\":0.07314331829547882},{\\\"predicted_label\\\":0,\\\"score\\\":0.10811476409435272},{\\\"predicted_label\\\":0,\\\"score\\\":0.375209778547287},{\\\"predicted_label\\\":0,\\\"score\\\":0.27211615443229675},{\\\"predicted_label\\\":0,\\\"score\\\":0.057771988213062286},{\\\"predicted_label\\\":1,\\\"score\\\":1.0},{\\\"predicted_label\\\":1,\\\"score\\\":0.48150357604026794},{\\\"predicted_label\\\":0,\\\"score\\\":0.11301710456609726},{\\\"predicted_label\\\":0,\\\"score\\\":0.13156749308109283},{\\\"predicted_label\\\":0,\\\"score\\\":0.028239941224455833},{\\\"predicted_label\\\":0,\\\"score\\\":0.07386411726474762},{\\\"predicted_label\\\":0,\\\"score\\\":0.003674812614917755},{\\\"predicted_label\\\":0,\\\"score\\\":0.1216147243976593},{\\\"predicted_label\\\":0,\\\"score\\\":0.1707475483417511},{\\\"predicted_label\\\":0,\\\"score\\\":0.24218270182609558},{\\\"predicted_label\\\":0,\\\"score\\\":0.2664620280265808},{\\\"predicted_label\\\":0,\\\"score\\\":0.08488477766513824},{\\\"predicted_label\\\":0,\\\"score\\\":0.174072727560997},{\\\"predicted_label\\\":0,\\\"score\\\":0.24438440799713135},{\\\"predicted_label\\\":0,\\\"score\\\":0.22158057987689972},{\\\"predicted_label\\\":1,\\\"score\\\":0.9116123914718628},{\\\"predicted_label\\\":1,\\\"score\\\":0.5710626840591431},{\\\"predicted_label\\\":0,\\\"score\\\":0.16886350512504578},{\\\"predicted_label\\\":0,\\\"score\\\":0.07440155744552612},{\\\"predicted_label\\\":0,\\\"score\\\":0.29539087414741516},{\\\"predicted_label\\\":0,\\\"score\\\":0.057524606585502625},{\\\"predicted_label\\\":0,\\\"score\\\":0.016303036361932755},{\\\"predicted_label\\\":0,\\\"score\\\":0.17193356156349182},{\\\"predicted_label\\\":0,\\\"score\\\":0.29431816935539246},{\\\"predicted_label\\\":0,\\\"score\\\":0.17387284338474274},{\\\"predicted_label\\\":0,\\\"score\\\":0.07938498258590698},{\\\"predicted_label\\\":0,\\\"score\\\":0.2937418818473816},{\\\"predicted_label\\\":0,\\\"score\\\":0.026264457032084465},{\\\"predicted_label\\\":0,\\\"score\\\":0.0373290479183197},{\\\"predicted_label\\\":0,\\\"score\\\":0.27262192964553833},{\\\"predicted_label\\\":0,\\\"score\\\":0.11032138764858246},{\\\"predicted_label\\\":1,\\\"score\\\":0.7822526097297668},{\\\"predicted_label\\\":0,\\\"score\\\":0.2848871350288391},{\\\"predicted_label\\\":0,\\\"score\\\":0.07154791802167892},{\\\"predicted_label\\\":0,\\\"score\\\":0.04200178384780884},{\\\"predicted_label\\\":0,\\\"score\\\":0.37558189034461975},{\\\"predicted_label\\\":1,\\\"score\\\":0.8163812756538391},{\\\"predicted_label\\\":0,\\\"score\\\":0.016344573348760605},{\\\"predicted_label\\\":1,\\\"score\\\":0.697821319103241},{\\\"predicted_label\\\":0,\\\"score\\\":0.12457334995269775},{\\\"predicted_label\\\":0,\\\"score\\\":0.1992201954126358},{\\\"predicted_label\\\":0,\\\"score\\\":0.04871575906872749},{\\\"predicted_label\\\":0,\\\"score\\\":0.38946080207824707},{\\\"predicted_label\\\":0,\\\"score\\\":0.05511372536420822},{\\\"predicted_label\\\":0,\\\"score\\\":0.04220739006996155},{\\\"predicted_label\\\":0,\\\"score\\\":0.07758191972970963},{\\\"predicted_label\\\":0,\\\"score\\\":0.321268230676651},{\\\"predicted_label\\\":0,\\\"score\\\":0.03358207643032074},{\\\"predicted_label\\\":0,\\\"score\\\":0.10820607095956802},{\\\"predicted_label\\\":0,\\\"score\\\":0.262125700712204},{\\\"predicted_label\\\":1,\\\"score\\\":0.5599093437194824},{\\\"predicted_label\\\":0,\\\"score\\\":0.015835467725992203},{\\\"predicted_label\\\":0,\\\"score\\\":0.19644002616405487},{\\\"predicted_label\\\":1,\\\"score\\\":0.6751620769500732},{\\\"predicted_label\\\":0,\\\"score\\\":0.014264062978327274},{\\\"predicted_label\\\":0,\\\"score\\\":0.08692020177841187},{\\\"predicted_label\\\":0,\\\"score\\\":0.4560856521129608},{\\\"predicted_label\\\":0,\\\"score\\\":0.03411604091525078},{\\\"predicted_label\\\":1,\\\"score\\\":0.5677058696746826},{\\\"predicted_label\\\":0,\\\"score\\\":0.05753086134791374},{\\\"predicted_label\\\":0,\\\"score\\\":0.030120806768536568},{\\\"predicted_label\\\":0,\\\"score\\\":0.17313304543495178},{\\\"predicted_label\\\":0,\\\"score\\\":0.1427762359380722},{\\\"predicted_label\\\":0,\\\"score\\\":0.1609998643398285},{\\\"predicted_label\\\":0,\\\"score\\\":0.426408588886261},{\\\"predicted_label\\\":0,\\\"score\\\":0.022590771317481995},{\\\"predicted_label\\\":0,\\\"score\\\":0.009322736412286758},{\\\"predicted_label\\\":0,\\\"score\\\":0.010012947022914886},{\\\"predicted_label\\\":0,\\\"score\\\":0.02550864964723587},{\\\"predicted_label\\\":0,\\\"score\\\":0.038416486233472824},{\\\"predicted_label\\\":0,\\\"score\\\":0.3753334581851959},{\\\"predicted_label\\\":1,\\\"score\\\":0.7320319414138794},{\\\"predicted_label\\\":0,\\\"score\\\":0.009761745110154152},{\\\"predicted_label\\\":1,\\\"score\\\":0.49069342017173767},{\\\"predicted_label\\\":0,\\\"score\\\":0.32289305329322815},{\\\"predicted_label\\\":0,\\\"score\\\":0.10438473522663116},{\\\"predicted_label\\\":0,\\\"score\\\":0.31896185874938965},{\\\"predicted_label\\\":0,\\\"score\\\":0.1369217336177826},{\\\"predicted_label\\\":1,\\\"score\\\":0.5481252670288086},{\\\"predicted_label\\\":0,\\\"score\\\":0.10556997358798981},{\\\"predicted_label\\\":0,\\\"score\\\":0.03860599175095558},{\\\"predicted_label\\\":0,\\\"score\\\":0.015571567229926586},{\\\"predicted_label\\\":0,\\\"score\\\":0.10935700684785843},{\\\"predicted_label\\\":0,\\\"score\\\":0.18715748190879822},{\\\"predicted_label\\\":0,\\\"score\\\":0.3657187819480896},{\\\"predicted_label\\\":0,\\\"score\\\":0.033314306288957596},{\\\"predicted_label\\\":1,\\\"score\\\":0.535107433795929},{\\\"predicted_label\\\":0,\\\"score\\\":0.06323137134313583},{\\\"predicted_label\\\":0,\\\"score\\\":0.047560691833496094},{\\\"predicted_label\\\":0,\\\"score\\\":0.38858675956726074},{\\\"predicted_label\\\":0,\\\"score\\\":0.09035445749759674},{\\\"predicted_label\\\":0,\\\"score\\\":0.2984286844730377},{\\\"predicted_label\\\":0,\\\"score\\\":0.0038110781461000443},{\\\"predicted_label\\\":0,\\\"score\\\":0.32088571786880493},{\\\"predicted_label\\\":0,\\\"score\\\":0.13978582620620728},{\\\"predicted_label\\\":0,\\\"score\\\":0.37539803981781006},{\\\"predicted_label\\\":0,\\\"score\\\":0.01530730351805687},{\\\"predicted_label\\\":0,\\\"score\\\":0.031880687922239304},{\\\"predicted_label\\\":0,\\\"score\\\":0.023147910833358765},{\\\"predicted_label\\\":0,\\\"score\\\":0.12614604830741882},{\\\"predicted_label\\\":0,\\\"score\\\":0.28061947226524353},{\\\"predicted_label\\\":0,\\\"score\\\":0.05614038184285164},{\\\"predicted_label\\\":0,\\\"score\\\":0.19386884570121765},{\\\"predicted_label\\\":0,\\\"score\\\":0.3073050379753113},{\\\"predicted_label\\\":1,\\\"score\\\":0.7383891344070435},{\\\"predicted_label\\\":0,\\\"score\\\":0.30489978194236755},{\\\"predicted_label\\\":0,\\\"score\\\":0.03158663213253021},{\\\"predicted_label\\\":1,\\\"score\\\":0.9961671233177185},{\\\"predicted_label\\\":0,\\\"score\\\":0.2714757025241852},{\\\"predicted_label\\\":0,\\\"score\\\":0.029732858762145042},{\\\"predicted_label\\\":0,\\\"score\\\":0.1591436266899109},{\\\"predicted_label\\\":0,\\\"score\\\":0.3971065878868103},{\\\"predicted_label\\\":0,\\\"score\\\":0.17690302431583405},{\\\"predicted_label\\\":0,\\\"score\\\":0.2896363139152527},{\\\"predicted_label\\\":1,\\\"score\\\":0.6779072880744934},{\\\"predicted_label\\\":0,\\\"score\\\":0.009807982482016087},{\\\"predicted_label\\\":1,\\\"score\\\":0.636303186416626},{\\\"predicted_label\\\":1,\\\"score\\\":0.6927167177200317},{\\\"predicted_label\\\":0,\\\"score\\\":0.09142012149095535},{\\\"predicted_label\\\":0,\\\"score\\\":0.46173176169395447},{\\\"predicted_label\\\":1,\\\"score\\\":1.0},{\\\"predicted_label\\\":0,\\\"score\\\":0.009480840526521206},{\\\"predicted_label\\\":0,\\\"score\\\":0.2092321813106537},{\\\"predicted_label\\\":1,\\\"score\\\":0.7035172581672668},{\\\"predicted_label\\\":0,\\\"score\\\":0.12638318538665771},{\\\"predicted_label\\\":0,\\\"score\\\":0.03508545458316803},{\\\"predicted_label\\\":1,\\\"score\\\":0.5264816284179688},{\\\"predicted_label\\\":0,\\\"score\\\":0.15869060158729553},{\\\"predicted_label\\\":1,\\\"score\\\":0.7289481163024902},{\\\"predicted_label\\\":0,\\\"score\\\":0.37320321798324585},{\\\"predicted_label\\\":0,\\\"score\\\":0.3075198531150818},{\\\"predicted_label\\\":0,\\\"score\\\":0.056538213044404984},{\\\"predicted_label\\\":0,\\\"score\\\":0.29357296228408813},{\\\"predicted_label\\\":0,\\\"score\\\":0.05370595306158066},{\\\"predicted_label\\\":0,\\\"score\\\":0.1574016511440277},{\\\"predicted_label\\\":0,\\\"score\\\":0.06716842204332352},{\\\"predicted_label\\\":0,\\\"score\\\":0.06344348192214966},{\\\"predicted_label\\\":0,\\\"score\\\":0.15472890436649323},{\\\"predicted_label\\\":0,\\\"score\\\":0.019497334957122803},{\\\"predicted_label\\\":0,\\\"score\\\":0.3168521225452423},{\\\"predicted_label\\\":0,\\\"score\\\":0.01945059932768345},{\\\"predicted_label\\\":0,\\\"score\\\":0.2948471009731293},{\\\"predicted_label\\\":0,\\\"score\\\":0.02696368843317032},{\\\"predicted_label\\\":0,\\\"score\\\":0.04764571785926819},{\\\"predicted_label\\\":0,\\\"score\\\":0.23794148862361908},{\\\"predicted_label\\\":0,\\\"score\\\":0.3331327736377716},{\\\"predicted_label\\\":0,\\\"score\\\":0.3215182423591614},{\\\"predicted_label\\\":0,\\\"score\\\":0.05063043162226677}]},\\\"instances\\\":[{\\\"features\\\":[28,2,133937,9,13,2,0,0,4,1,15024,0,55,37]},{\\\"features\\\":[43,2,72338,12,14,2,12,0,1,1,0,0,40,37]},{\\\"features\\\":[34,2,162604,11,9,4,2,2,2,1,0,0,40,37]},{\\\"features\\\":[20,2,258509,11,9,4,6,3,2,1,0,0,40,37]},{\\\"features\\\":[27,2,446947,9,13,4,0,4,2,0,0,0,55,37]},{\\\"features\\\":[20,2,95552,11,9,4,11,3,4,1,0,0,40,37]},{\\\"features\\\":[46,2,145636,11,9,2,3,0,4,1,3103,0,50,37]},{\\\"features\\\":[18,2,150675,0,6,4,11,3,4,1,0,0,40,37]},{\\\"features\\\":[22,2,197050,11,9,4,7,3,4,0,0,0,20,37]},{\\\"features\\\":[20,2,246635,15,10,4,11,3,4,0,2597,0,20,37]},{\\\"features\\\":[65,0,200764,11,9,6,0,1,4,0,0,0,40,37]},{\\\"features\\\":[38,2,175665,15,10,2,9,5,4,0,0,0,40,37]},{\\\"features\\\":[34,3,337995,9,13,0,3,4,2,1,15020,0,50,37]},{\\\"features\\\":[42,2,86912,9,13,0,7,1,4,1,0,0,40,37]},{\\\"features\\\":[40,2,100451,15,10,4,2,1,4,1,0,0,40,37]},{\\\"features\\\":[45,2,192360,12,14,2,3,0,4,1,0,1902,50,37]},{\\\"features\\\":[55,2,150507,15,10,2,0,0,4,1,0,0,40,37]},{\\\"features\\\":[36,2,48976,9,13,2,11,5,4,0,0,0,40,37]},{\\\"features\\\":[34,2,111567,15,10,4,3,1,4,1,0,0,40,37]},{\\\"features\\\":[26,2,167350,15,10,2,6,0,4,1,3137,0,50,37]},{\\\"features\\\":[29,2,485944,9,13,4,11,3,2,1,0,0,40,37]},{\\\"features\\\":[44,1,112763,12,14,0,9,4,4,0,0,0,38,37]},{\\\"features\\\":[37,5,195843,11,9,2,2,0,4,1,5013,0,40,37]},{\\\"features\\\":[22,5,181096,9,13,4,9,3,2,1,0,0,20,37]},{\\\"features\\\":[53,2,119170,11,9,2,13,0,2,1,0,1740,40,37]},{\\\"features\\\":[61,1,205711,11,9,2,9,0,4,1,0,0,30,37]},{\\\"features\\\":[46,0,260549,15,10,2,0,0,4,1,0,0,80,37]},{\\\"features\\\":[18,2,129053,1,7,4,7,3,4,1,0,0,28,37]},{\\\"features\\\":[22,2,209034,15,10,4,7,1,4,0,0,0,35,37]},{\\\"features\\\":[29,2,266583,11,9,2,11,0,2,1,2829,0,38,37]},{\\\"features\\\":[30,2,96480,8,11,4,0,3,4,0,0,0,32,37]},{\\\"features\\\":[66,4,331960,11,9,2,2,0,4,1,0,0,20,37]},{\\\"features\\\":[44,2,83891,9,13,0,0,3,1,1,5455,0,40,37]},{\\\"features\\\":[61,5,103575,15,10,0,2,1,4,1,0,0,40,10]},{\\\"features\\\":[38,2,589809,9,13,2,0,0,4,1,0,0,45,37]},{\\\"features\\\":[33,2,214288,11,9,2,6,0,4,1,0,1848,48,37]},{\\\"features\\\":[31,2,280927,9,13,4,3,1,4,0,0,0,40,37]},{\\\"features\\\":[49,2,380922,12,14,2,3,0,4,1,15024,0,80,37]},{\\\"features\\\":[34,2,361497,1,7,2,13,0,4,1,0,0,40,37]},{\\\"features\\\":[37,2,306868,11,9,0,2,4,4,1,0,0,38,37]},{\\\"features\\\":[17,2,364952,0,6,3,7,2,4,1,0,0,40,37]},{\\\"features\\\":[60,2,338833,11,9,4,0,1,2,0,0,0,38,37]},{\\\"features\\\":[30,4,70985,11,9,2,4,0,4,1,0,0,75,37]},{\\\"features\\\":[22,2,240229,11,9,4,0,3,4,0,0,0,40,37]},{\\\"features\\\":[51,2,173987,11,9,2,2,0,4,1,0,0,40,37]},{\\\"features\\\":[29,2,157103,8,11,4,12,3,2,1,0,1974,40,37]},{\\\"features\\\":[42,2,205195,11,9,2,2,0,4,1,0,0,40,37]},{\\\"features\\\":[25,5,120268,15,10,2,2,3,4,1,0,0,50,37]},{\\\"features\\\":[64,2,104973,11,9,2,0,0,4,1,0,0,45,37]},{\\\"features\\\":[38,4,248694,15,10,2,2,0,4,1,0,0,36,37]},{\\\"features\\\":[54,1,108739,1,7,6,10,4,2,0,0,0,40,37]},{\\\"features\\\":[57,2,151874,11,9,2,7,5,2,0,0,0,50,37]},{\\\"features\\\":[27,2,150767,15,10,4,6,3,4,1,0,0,48,37]},{\\\"features\\\":[53,2,239155,15,10,2,3,0,4,1,0,0,50,37]},{\\\"features\\\":[35,2,166497,14,15,2,9,0,4,1,0,1902,60,37]},{\\\"features\\\":[22,2,50610,15,10,4,7,1,4,0,0,0,40,37]},{\\\"features\\\":[52,2,335997,9,13,2,12,0,4,1,7688,0,38,37]},{\\\"features\\\":[27,4,209301,11,9,2,2,0,4,1,0,0,60,37]},{\\\"features\\\":[26,2,247196,15,10,4,5,3,4,1,0,0,35,37]},{\\\"features\\\":[23,2,213902,15,10,4,7,4,4,0,0,0,20,37]},{\\\"features\\\":[25,1,281412,11,9,4,7,3,4,0,0,0,35,37]},{\\\"features\\\":[17,2,154337,1,7,4,7,3,4,0,0,0,13,37]},{\\\"features\\\":[22,2,95647,1,7,4,13,3,1,1,0,0,40,28]},{\\\"features\\\":[32,2,177695,9,13,2,2,0,1,1,0,0,45,17]},{\\\"features\\\":[54,2,64421,15,10,6,12,4,4,0,0,0,40,37]},{\\\"features\\\":[45,2,176341,11,9,0,7,4,4,0,0,0,32,37]},{\\\"features\\\":[20,2,203914,2,8,4,7,3,4,0,0,0,25,37]},{\\\"features\\\":[22,2,23940,11,9,4,3,1,1,1,0,0,40,37]},{\\\"features\\\":[32,2,169768,9,13,5,12,1,2,1,0,0,40,37]},{\\\"features\\\":[36,2,109133,9,13,2,11,0,4,1,0,0,50,37]},{\\\"features\\\":[33,2,41610,11,9,5,2,1,4,1,0,0,40,37]},{\\\"features\\\":[37,2,33440,11,9,5,7,4,4,0,0,0,40,37]},{\\\"features\\\":[46,2,151325,0,6,2,2,0,4,1,0,0,40,37]},{\\\"features\\\":[54,1,182429,11,9,6,13,4,4,0,0,0,38,37]},{\\\"features\\\":[34,2,195748,7,12,4,0,3,2,0,0,0,38,37]},{\\\"features\\\":[22,2,248446,4,3,4,8,1,4,1,0,0,50,12]},{\\\"features\\\":[42,2,188789,5,4,6,5,1,4,0,0,0,35,37]},{\\\"features\\\":[34,2,185480,7,12,4,0,3,4,0,0,0,40,37]},{\\\"features\\\":[39,2,30875,9,13,0,11,4,4,0,0,0,40,37]},{\\\"features\\\":[21,2,116489,15,10,4,9,3,4,0,0,0,40,37]},{\\\"features\\\":[18,2,99591,1,7,4,7,3,4,0,0,0,16,37]},{\\\"features\\\":[43,2,282678,11,9,0,3,1,4,0,0,0,60,37]},{\\\"features\\\":[56,1,238405,11,9,6,0,1,4,0,0,0,40,37]},{\\\"features\\\":[32,1,247156,11,9,2,7,0,2,1,3103,0,38,37]},{\\\"features\\\":[19,2,73461,11,9,4,12,1,2,1,0,0,40,37]},{\\\"features\\\":[35,2,98776,11,9,4,3,1,4,1,0,0,60,37]},{\\\"features\\\":[30,2,232766,11,9,0,7,4,4,0,0,0,40,37]},{\\\"features\\\":[32,2,220333,11,9,2,2,0,4,1,7298,0,46,37]},{\\\"features\\\":[27,2,321456,15,10,2,10,0,4,1,0,0,40,37]},{\\\"features\\\":[41,2,173307,11,9,2,13,0,4,1,0,0,43,37]},{\\\"features\\\":[22,2,351952,15,10,4,0,3,4,0,0,0,38,37]},{\\\"features\\\":[33,2,108438,15,10,2,3,0,4,1,0,0,60,37]},{\\\"features\\\":[30,2,171483,11,9,4,2,3,4,1,0,0,38,37]},{\\\"features\\\":[32,2,453983,11,9,2,5,0,4,1,0,0,44,37]},{\\\"features\\\":[37,2,48779,11,9,4,3,1,4,1,0,0,50,37]},{\\\"features\\\":[42,2,222756,9,13,0,9,4,4,1,7430,0,40,37]},{\\\"features\\\":[49,2,118520,11,9,0,0,1,4,0,0,0,45,37]},{\\\"features\\\":[34,2,199539,8,11,2,2,0,4,1,0,0,48,37]},{\\\"features\\\":[42,2,201343,11,9,2,2,0,4,1,2885,0,40,37]},{\\\"features\\\":[49,2,99340,4,3,5,6,4,4,0,0,0,40,5]},{\\\"features\\\":[48,2,163706,9,13,2,3,0,4,1,15024,0,70,37]},{\\\"features\\\":[59,2,176118,12,14,2,9,0,4,1,0,0,7,37]},{\\\"features\\\":[67,3,147377,11,9,2,3,0,4,1,0,0,45,37]},{\\\"features\\\":[36,2,225330,11,9,0,7,4,4,0,0,0,40,37]},{\\\"features\\\":[32,2,147921,14,15,4,7,1,4,0,0,0,35,37]},{\\\"features\\\":[36,2,110013,12,14,4,11,1,4,0,0,0,40,37]},{\\\"features\\\":[76,4,130585,15,10,2,7,5,4,0,0,0,12,37]},{\\\"features\\\":[41,4,134724,8,11,2,7,5,4,0,3103,0,40,37]},{\\\"features\\\":[44,2,160369,15,10,2,8,0,4,1,0,0,2,37]},{\\\"features\\\":[24,2,172169,15,10,4,5,4,4,1,0,0,30,37]},{\\\"features\\\":[35,2,106471,9,13,4,2,1,4,1,0,0,35,37]},{\\\"features\\\":[25,1,336320,9,13,0,10,1,4,0,0,0,40,37]},{\\\"features\\\":[62,2,186446,15,10,0,12,4,4,0,0,0,43,37]},{\\\"features\\\":[39,2,183279,9,13,2,11,0,4,1,7298,0,40,37]},{\\\"features\\\":[65,4,135517,5,4,2,2,0,4,1,0,0,40,37]},{\\\"features\\\":[48,0,72808,1,7,0,0,1,4,0,0,0,42,37]},{\\\"features\\\":[56,2,197577,11,9,0,7,1,4,0,0,0,40,37]},{\\\"features\\\":[51,3,110327,1,7,2,2,0,4,1,0,0,60,37]},{\\\"features\\\":[23,2,237811,15,10,4,0,4,2,0,0,0,40,36]},{\\\"features\\\":[18,2,632271,15,10,3,0,2,4,0,0,0,40,27]},{\\\"features\\\":[18,2,220754,1,7,4,5,3,4,1,0,0,24,37]},{\\\"features\\\":[61,2,29797,11,9,0,11,2,4,0,0,0,40,37]},{\\\"features\\\":[32,2,183470,8,11,2,2,0,0,1,0,0,42,37]},{\\\"features\\\":[36,2,127388,7,12,2,11,5,4,0,0,0,40,37]},{\\\"features\\\":[19,2,78401,11,9,4,7,3,4,1,0,0,40,37]},{\\\"features\\\":[37,2,385330,5,4,5,7,4,2,1,0,0,40,37]},{\\\"features\\\":[53,2,161691,12,14,0,3,1,4,0,4865,0,40,37]},{\\\"features\\\":[31,2,301251,9,13,2,2,0,4,1,0,0,50,37]},{\\\"features\\\":[30,2,198660,11,9,2,5,0,4,1,0,0,40,37]},{\\\"features\\\":[44,2,105896,9,13,0,9,1,4,0,0,0,36,37]},{\\\"features\\\":[23,2,132220,11,9,2,5,0,4,1,0,0,40,37]},{\\\"features\\\":[45,1,317846,7,12,0,3,4,4,1,0,0,47,37]},{\\\"features\\\":[32,2,33117,8,11,2,7,0,4,1,0,0,40,37]},{\\\"features\\\":[41,2,192602,15,10,2,2,0,4,1,0,0,40,37]},{\\\"features\\\":[30,2,408328,13,1,3,5,4,4,1,0,0,40,24]},{\\\"features\\\":[34,2,233729,7,12,2,9,0,2,1,0,0,50,37]},{\\\"features\\\":[21,2,174063,8,11,4,7,3,4,0,0,0,20,37]},{\\\"features\\\":[30,2,175323,8,11,2,3,5,4,0,0,0,52,37]},{\\\"features\\\":[20,2,460356,2,8,4,7,1,4,1,0,0,30,24]},{\\\"features\\\":[33,2,119422,11,9,2,3,0,4,1,0,0,40,37]},{\\\"features\\\":[26,2,269168,15,10,2,3,0,1,1,0,0,40,37]},{\\\"features\\\":[21,5,173534,15,10,4,9,3,4,0,0,0,40,6]},{\\\"features\\\":[48,2,235891,11,9,4,7,1,4,1,0,0,40,31]},{\\\"features\\\":[70,3,217801,9,13,2,11,0,4,1,0,0,15,37]},{\\\"features\\\":[52,1,251841,12,14,4,9,1,4,0,0,0,50,37]},{\\\"features\\\":[24,2,196943,8,11,2,9,0,4,1,0,0,40,37]},{\\\"features\\\":[41,2,204415,1,7,0,5,1,4,1,0,0,48,37]},{\\\"features\\\":[23,2,130959,9,13,2,9,0,4,1,2407,0,6,1]},{\\\"features\\\":[46,2,316271,4,3,2,2,0,4,1,0,0,55,37]},{\\\"features\\\":[59,2,124137,11,9,0,11,1,4,1,2202,0,40,37]},{\\\"features\\\":[36,4,140676,9,13,4,11,1,4,1,0,0,50,37]},{\\\"features\\\":[52,2,91506,11,9,2,5,0,4,1,0,0,45,37]},{\\\"features\\\":[40,2,300195,15,10,0,12,4,2,0,0,0,40,37]},{\\\"features\\\":[51,3,119570,9,13,2,2,0,4,1,0,0,50,37]},{\\\"features\\\":[43,2,303155,9,13,2,3,0,4,1,0,0,50,37]},{\\\"features\\\":[30,2,210541,11,9,0,2,1,4,0,0,0,40,37]},{\\\"features\\\":[48,2,153312,15,10,2,11,0,2,1,0,0,60,37]},{\\\"features\\\":[50,5,137815,9,13,2,2,0,4,1,0,0,40,37]},{\\\"features\\\":[38,4,179824,11,9,4,4,1,4,1,0,0,50,37]},{\\\"features\\\":[41,2,106159,11,9,4,6,3,4,1,14344,0,48,37]},{\\\"features\\\":[69,2,104827,11,9,6,12,4,4,0,0,0,8,37]},{\\\"features\\\":[21,2,278254,15,10,4,5,3,2,1,0,0,40,37]},{\\\"features\\\":[33,3,287372,15,10,2,3,0,4,1,0,0,50,37]},{\\\"features\\\":[51,5,152810,8,11,2,12,0,4,1,0,0,40,37]},{\\\"features\\\":[46,2,106662,9,13,5,11,1,4,1,99999,0,55,37]},{\\\"features\\\":[35,2,108140,11,9,0,2,1,4,1,0,0,40,37]},{\\\"features\\\":[29,2,231507,11,9,4,2,1,4,1,0,0,35,37]},{\\\"features\\\":[34,4,114074,8,11,6,3,4,4,0,0,0,40,37]},{\\\"features\\\":[52,2,163776,11,9,2,11,0,4,1,0,1902,60,37]},{\\\"features\\\":[45,2,123219,4,3,4,6,1,4,1,0,0,40,37]},{\\\"features\\\":[25,2,391591,11,9,4,2,1,4,1,0,0,50,37]},{\\\"features\\\":[61,1,202384,9,13,2,9,5,4,0,0,0,30,37]},{\\\"features\\\":[58,2,282023,9,13,2,3,0,4,1,0,0,50,37]},{\\\"features\\\":[51,5,22211,11,9,0,3,1,4,1,0,0,37,37]},{\\\"features\\\":[27,2,192936,9,13,4,9,1,4,0,0,0,45,37]},{\\\"features\\\":[51,1,106365,7,12,0,0,4,4,0,0,0,40,37]},{\\\"features\\\":[51,2,166461,1,7,0,6,4,2,0,5455,0,40,37]},{\\\"features\\\":[52,2,251585,0,6,2,13,0,4,1,0,0,55,37]},{\\\"features\\\":[61,1,149981,11,9,6,0,1,4,0,0,0,40,37]},{\\\"features\\\":[23,2,161092,9,13,4,0,3,4,1,0,0,40,37]},{\\\"features\\\":[40,2,21755,15,10,4,2,2,0,1,0,0,30,37]},{\\\"features\\\":[20,2,174436,11,9,4,2,3,4,1,0,0,60,37]},{\\\"features\\\":[26,4,33016,8,11,0,7,4,4,0,0,0,55,37]},{\\\"features\\\":[55,1,134042,12,14,2,3,5,4,0,0,0,40,37]},{\\\"features\\\":[32,2,259425,15,10,0,2,1,4,1,0,0,40,37]},{\\\"features\\\":[26,2,359854,9,13,4,8,2,4,0,0,0,35,24]},{\\\"features\\\":[44,2,217039,14,15,2,9,0,4,1,99999,0,60,37]},{\\\"features\\\":[61,2,194804,13,1,5,13,1,2,1,14344,0,40,37]},{\\\"features\\\":[34,4,198068,11,9,2,2,0,4,1,0,0,40,37]},{\\\"features\\\":[42,4,52131,15,10,4,3,1,4,1,0,0,40,37]},{\\\"features\\\":[23,2,239539,11,9,4,6,3,1,1,0,0,40,28]},{\\\"features\\\":[25,2,54298,11,9,2,11,0,4,1,0,0,30,37]},{\\\"features\\\":[17,2,35603,2,8,4,11,3,4,0,0,0,20,37]},{\\\"features\\\":[31,2,241880,8,11,4,0,1,2,1,0,0,45,37]},{\\\"features\\\":[35,2,46947,15,10,0,0,1,4,0,0,0,45,37]},{\\\"features\\\":[28,2,203171,15,10,0,2,1,4,1,0,0,40,37]},{\\\"features\\\":[37,2,199739,15,10,0,2,3,4,1,0,0,40,37]},{\\\"features\\\":[23,2,215395,15,10,4,2,1,4,1,0,0,40,37]},{\\\"features\\\":[53,2,117932,11,9,0,6,1,4,0,0,0,40,37]},{\\\"features\\\":[30,5,107142,9,13,2,9,0,4,1,0,0,37,37]},{\\\"features\\\":[33,2,173730,8,11,2,6,0,4,1,0,0,40,37]},{\\\"features\\\":[53,3,200400,10,16,0,3,1,4,1,0,0,60,37]},{\\\"features\\\":[50,2,158948,11,9,2,9,0,4,1,0,0,84,37]},{\\\"features\\\":[39,2,206888,15,10,0,0,1,4,0,0,0,40,37]},{\\\"features\\\":[26,2,124483,9,13,4,9,1,1,1,0,0,25,17]},{\\\"features\\\":[34,5,62327,9,13,2,9,0,4,1,0,0,40,37]},{\\\"features\\\":[26,2,366889,11,9,4,13,1,4,1,0,0,40,37]},{\\\"features\\\":[21,2,30796,15,10,4,7,3,4,0,0,0,25,37]},{\\\"features\\\":[46,2,130667,11,9,2,13,0,2,1,0,0,40,37]},{\\\"features\\\":[67,0,231604,11,9,4,0,1,4,1,0,0,40,37]},{\\\"features\\\":[25,2,332409,8,11,2,2,0,4,1,0,0,40,37]},{\\\"features\\\":[34,2,51854,11,9,4,6,1,4,1,0,0,40,37]},{\\\"features\\\":[50,2,62593,8,11,2,4,0,1,1,0,0,40,37]},{\\\"features\\\":[47,2,78954,1,7,0,11,4,4,0,0,0,28,37]},{\\\"features\\\":[39,2,205997,15,10,2,11,5,4,0,0,0,21,37]},{\\\"features\\\":[51,2,231230,11,9,2,6,0,4,1,0,0,45,37]},{\\\"features\\\":[62,2,291904,11,9,0,8,1,2,0,0,0,20,37]},{\\\"features\\\":[58,2,49893,12,14,2,3,0,4,1,0,0,50,37]},{\\\"features\\\":[36,2,141584,15,10,2,9,0,4,1,0,0,50,37]},{\\\"features\\\":[28,2,259609,11,9,4,2,3,4,1,0,0,50,37]},{\\\"features\\\":[22,2,125010,9,13,4,0,1,4,0,0,0,20,37]},{\\\"features\\\":[59,5,136819,12,14,2,9,0,4,1,0,0,8,37]},{\\\"features\\\":[69,4,199829,9,13,2,3,0,4,1,0,1258,40,37]},{\\\"features\\\":[33,4,100580,15,10,2,7,5,4,0,0,0,10,37]},{\\\"features\\\":[56,2,257555,12,14,2,9,0,4,1,0,0,40,37]},{\\\"features\\\":[47,2,100113,5,4,2,13,0,4,1,0,2051,40,37]},{\\\"features\\\":[38,0,236648,11,9,2,2,0,4,1,0,0,40,37]},{\\\"features\\\":[41,2,99679,0,6,2,2,0,4,1,0,0,40,37]},{\\\"features\\\":[32,2,339482,12,14,4,3,1,4,1,0,0,48,37]},{\\\"features\\\":[28,2,120475,11,9,4,2,1,4,1,0,0,35,37]},{\\\"features\\\":[22,2,137876,15,10,4,10,1,4,1,0,0,20,37]},{\\\"features\\\":[36,4,110861,11,9,0,2,3,4,1,0,0,20,37]},{\\\"features\\\":[55,4,225623,15,10,2,4,0,4,1,0,0,40,37]},{\\\"features\\\":[47,2,323212,11,9,6,7,1,4,0,0,0,40,37]},{\\\"features\\\":[59,2,157831,11,9,0,0,1,4,0,0,0,16,37]},{\\\"features\\\":[25,2,25497,15,10,4,13,1,4,1,4101,0,40,37]},{\\\"features\\\":[42,4,114580,12,14,0,3,4,4,0,0,0,70,37]},{\\\"features\\\":[22,2,273675,11,9,3,7,2,2,0,0,0,35,31]},{\\\"features\\\":[31,0,40909,15,10,2,12,0,2,1,0,0,40,37]},{\\\"features\\\":[42,3,557349,9,13,2,3,0,4,1,0,0,70,37]},{\\\"features\\\":[18,2,219256,15,10,4,11,3,4,0,0,0,25,37]},{\\\"features\\\":[39,2,126569,11,9,4,2,1,4,1,0,0,40,29]},{\\\"features\\\":[37,2,108282,9,13,2,3,0,4,1,0,0,45,37]},{\\\"features\\\":[31,2,147270,15,10,4,0,3,4,0,0,0,35,37]},{\\\"features\\\":[44,2,90582,9,13,2,2,0,4,1,0,0,50,37]},{\\\"features\\\":[51,2,379797,0,6,2,6,0,2,1,0,0,40,37]},{\\\"features\\\":[37,1,136749,11,9,4,0,3,4,0,0,0,35,37]},{\\\"features\\\":[25,0,198813,9,13,4,0,4,2,0,0,1590,40,37]},{\\\"features\\\":[30,2,159123,11,9,2,2,0,4,1,0,0,45,37]},{\\\"features\\\":[36,3,196554,11,9,2,2,0,4,1,0,0,46,37]},{\\\"features\\\":[31,2,238002,9,13,2,13,0,4,1,0,0,55,24]},{\\\"features\\\":[43,2,125577,11,9,5,0,4,2,0,0,0,40,37]},{\\\"features\\\":[22,2,97212,11,9,4,7,1,4,0,0,0,15,37]},{\\\"features\\\":[19,2,222866,0,6,4,4,2,4,1,0,0,40,37]},{\\\"features\\\":[18,2,175752,11,9,4,5,3,4,1,0,0,30,37]},{\\\"features\\\":[28,2,77009,15,10,4,11,2,4,0,0,0,40,37]},{\\\"features\\\":[54,2,162745,11,9,2,2,0,4,1,0,0,55,37]},{\\\"features\\\":[30,2,94235,9,13,2,9,0,4,1,0,1977,50,37]},{\\\"features\\\":[19,2,158343,15,10,4,7,3,4,0,0,0,12,37]},{\\\"features\\\":[49,2,201127,1,7,2,13,0,4,1,0,1902,70,37]},{\\\"features\\\":[39,2,118429,15,10,0,11,1,4,1,0,0,40,37]},{\\\"features\\\":[36,2,334365,1,7,2,13,0,4,1,0,0,60,37]},{\\\"features\\\":[42,2,89226,8,11,2,13,0,4,1,0,0,45,37]},{\\\"features\\\":[33,2,56121,11,9,4,13,1,4,1,0,0,60,37]},{\\\"features\\\":[61,5,140851,9,13,2,9,0,4,1,0,0,40,37]},{\\\"features\\\":[36,2,86643,2,8,2,6,0,4,1,0,0,48,37]},{\\\"features\\\":[20,2,175808,11,9,4,2,3,4,1,0,0,40,37]},{\\\"features\\\":[19,2,58471,11,9,4,2,3,4,0,0,0,40,37]},{\\\"features\\\":[55,2,118057,11,9,6,2,4,4,1,0,0,51,37]},{\\\"features\\\":[30,2,192002,15,10,2,2,0,4,1,0,0,40,37]},{\\\"features\\\":[61,2,43904,11,9,0,7,1,2,1,0,0,40,37]},{\\\"features\\\":[39,3,31709,15,10,2,0,5,4,0,0,0,20,37]},{\\\"features\\\":[39,2,286026,9,13,2,2,0,4,1,0,0,52,37]},{\\\"features\\\":[55,4,110844,11,9,2,3,5,4,0,0,0,40,37]},{\\\"features\\\":[32,2,200401,11,9,4,3,1,4,1,0,0,40,3]},{\\\"features\\\":[44,5,101603,9,13,2,3,0,4,1,0,0,40,37]},{\\\"features\\\":[58,2,49159,11,9,2,0,5,4,0,0,0,40,37]},{\\\"features\\\":[52,5,168035,15,10,2,12,0,4,1,0,0,45,37]},{\\\"features\\\":[18,2,260977,2,8,4,11,3,4,0,0,0,20,37]},{\\\"features\\\":[47,2,33794,11,9,2,2,0,4,1,0,0,56,37]},{\\\"features\\\":[26,2,242464,8,11,4,3,1,4,1,0,0,50,37]},{\\\"features\\\":[35,2,97554,7,12,2,3,0,4,1,0,0,50,37]},{\\\"features\\\":[39,4,245361,15,10,4,9,3,4,0,0,0,10,37]},{\\\"features\\\":[26,2,178478,15,10,4,11,3,4,0,0,0,40,37]},{\\\"features\\\":[31,2,104509,15,10,5,7,4,4,0,0,0,35,37]},{\\\"features\\\":[31,2,159187,15,10,2,2,0,4,1,0,0,25,37]},{\\\"features\\\":[67,4,167015,9,13,6,11,1,4,1,0,0,30,37]},{\\\"features\\\":[40,2,199668,11,9,0,11,3,4,0,0,0,25,37]},{\\\"features\\\":[35,2,37778,11,9,2,2,0,4,1,0,0,50,37]},{\\\"features\\\":[54,4,139023,15,10,2,11,0,4,1,0,0,40,37]},{\\\"features\\\":[45,3,188694,14,15,2,9,0,4,1,0,0,50,37]},{\\\"features\\\":[50,2,178251,12,14,2,0,5,4,0,0,0,40,37]},{\\\"features\\\":[51,2,81534,1,7,4,7,2,1,1,0,0,35,37]},{\\\"features\\\":[37,2,353550,12,14,2,3,0,4,1,15024,0,60,37]},{\\\"features\\\":[54,1,231482,11,9,2,2,0,4,1,0,0,40,30]},{\\\"features\\\":[22,2,228394,11,9,4,7,1,4,0,0,0,50,37]},{\\\"features\\\":[38,1,94529,11,9,2,5,5,4,0,3103,0,50,37]},{\\\"features\\\":[35,2,135289,8,11,0,2,1,4,1,0,0,50,37]},{\\\"features\\\":[37,0,32950,7,12,0,3,4,2,0,0,0,40,37]},{\\\"features\\\":[45,2,165346,15,10,0,3,4,4,0,0,0,64,37]},{\\\"features\\\":[57,1,62701,15,10,6,3,1,4,1,6849,0,40,37]},{\\\"features\\\":[30,2,49358,2,8,4,11,3,2,0,0,0,40,37]},{\\\"features\\\":[52,2,227832,9,13,2,9,0,4,1,0,0,50,37]},{\\\"features\\\":[67,2,188903,9,13,2,9,0,4,1,0,0,40,37]},{\\\"features\\\":[28,4,183151,11,9,2,2,0,4,1,0,0,40,37]},{\\\"features\\\":[42,5,116493,9,13,2,10,0,4,1,0,0,52,37]},{\\\"features\\\":[48,1,93449,14,15,2,9,0,1,1,99999,0,40,28]},{\\\"features\\\":[18,2,211683,2,8,4,5,3,4,1,0,0,20,37]},{\\\"features\\\":[47,2,155107,11,9,2,12,0,4,1,0,0,40,37]},{\\\"features\\\":[55,3,150917,15,10,2,3,0,4,1,0,1977,45,37]},{\\\"features\\\":[51,2,135388,2,8,6,6,1,4,1,0,1564,40,37]},{\\\"features\\\":[38,2,183683,0,6,3,7,1,4,1,0,0,45,37]},{\\\"features\\\":[47,4,185859,11,9,2,4,0,4,1,3103,0,60,37]},{\\\"features\\\":[44,4,22933,11,9,2,3,0,4,1,0,0,40,37]},{\\\"features\\\":[40,2,356934,14,15,2,3,0,4,1,0,0,50,37]},{\\\"features\\\":[52,2,94448,8,11,2,9,0,4,1,0,0,40,37]},{\\\"features\\\":[59,2,107318,5,4,2,2,0,4,1,5178,0,50,37]},{\\\"features\\\":[31,2,83413,11,9,4,11,3,4,1,0,0,40,37]},{\\\"features\\\":[34,2,162312,9,13,2,0,0,1,1,0,0,40,28]},{\\\"features\\\":[44,2,118212,0,6,2,6,0,4,1,0,0,40,37]},{\\\"features\\\":[35,1,132879,11,9,2,13,0,4,1,0,0,40,37]},{\\\"features\\\":[25,4,121285,9,13,4,11,1,4,0,0,0,40,37]},{\\\"features\\\":[22,2,341760,9,13,4,3,3,4,0,0,0,40,37]},{\\\"features\\\":[35,2,216473,11,9,0,2,4,4,1,0,0,40,37]},{\\\"features\\\":[25,2,179255,15,10,4,0,3,4,0,0,0,25,37]},{\\\"features\\\":[36,2,298635,9,13,2,7,0,3,1,0,0,40,18]},{\\\"features\\\":[20,2,204596,15,10,4,11,3,4,0,0,0,32,37]},{\\\"features\\\":[27,2,285897,11,9,2,13,0,4,1,0,1887,40,37]},{\\\"features\\\":[19,2,386492,15,10,4,5,3,4,1,0,0,16,37]},{\\\"features\\\":[29,2,178610,15,10,0,7,4,4,0,0,0,21,37]},{\\\"features\\\":[49,2,96854,11,9,0,7,4,4,1,0,0,40,37]},{\\\"features\\\":[45,2,293628,15,10,2,9,0,4,1,0,0,50,28]},{\\\"features\\\":[67,2,192995,11,9,6,0,4,4,0,6723,0,40,37]},{\\\"features\\\":[30,2,235847,9,13,4,7,3,4,0,0,0,24,37]}]}\",\n",
      "            \"encoding\": \"JSON\"\n",
      "        }\n",
      "    }\n",
      "}\n"
     ]
    }
   ],
   "source": [
    "merged_record = sagemaker.s3.S3Downloader.read_file(\n",
    "    s3_uri=merged_data_files[-1],\n",
    "    sagemaker_session=sagemaker_session,\n",
    ").splitlines()[0]\n",
    "print(json.dumps(json.loads(merged_record), indent=4))"
   ]
  },
  {
   "cell_type": "markdown",
   "id": "fd5e4c67-c0a4-44bf-95df-0e7260300295",
   "metadata": {},
   "source": [
    "#### Inspect execution results\n",
    "\n",
    "List the generated reports,\n",
    "\n",
    "* analysis.json includes all the bias metrics.\n",
    "* report.* files are static report files to visualize the bias metrics"
   ]
  },
  {
   "cell_type": "code",
   "execution_count": 35,
   "id": "52e49e74-70fa-48b6-b38b-497116c0b8d6",
   "metadata": {
    "tags": []
   },
   "outputs": [
    {
     "name": "stdout",
     "output_type": "stream",
     "text": [
      "Report URI: s3://sagemaker-us-west-2-678264136642/sagemaker/DEMO-ClarifyModelMonitor-1705692244-1224/monitor-output/monitoring-schedule-2024-01-19-19-39-39-971/2024/01/19/20\n",
      "Found Report Files:\n",
      "s3://sagemaker-us-west-2-678264136642/sagemaker/DEMO-ClarifyModelMonitor-1705692244-1224/monitor-output/monitoring-schedule-2024-01-19-19-39-39-971/2024/01/19/20/analysis.json\n",
      " s3://sagemaker-us-west-2-678264136642/sagemaker/DEMO-ClarifyModelMonitor-1705692244-1224/monitor-output/monitoring-schedule-2024-01-19-19-39-39-971/2024/01/19/20/constraint_violations.json\n",
      " s3://sagemaker-us-west-2-678264136642/sagemaker/DEMO-ClarifyModelMonitor-1705692244-1224/monitor-output/monitoring-schedule-2024-01-19-19-39-39-971/2024/01/19/20/report.html\n",
      " s3://sagemaker-us-west-2-678264136642/sagemaker/DEMO-ClarifyModelMonitor-1705692244-1224/monitor-output/monitoring-schedule-2024-01-19-19-39-39-971/2024/01/19/20/report.ipynb\n",
      " s3://sagemaker-us-west-2-678264136642/sagemaker/DEMO-ClarifyModelMonitor-1705692244-1224/monitor-output/monitoring-schedule-2024-01-19-19-39-39-971/2024/01/19/20/report.pdf\n"
     ]
    }
   ],
   "source": [
    "schedule_desc = model_bias_monitor.describe_schedule()\n",
    "execution_summary = schedule_desc.get(\"LastMonitoringExecutionSummary\")\n",
    "if execution_summary and execution_summary[\"MonitoringExecutionStatus\"] in [\n",
    "    \"Completed\",\n",
    "    \"CompletedWithViolations\",\n",
    "]:\n",
    "    last_model_bias_monitor_execution = model_bias_monitor.list_executions()[-1]\n",
    "    last_model_bias_monitor_execution_report_uri = (\n",
    "        last_model_bias_monitor_execution.output.destination\n",
    "    )\n",
    "    print(f\"Report URI: {last_model_bias_monitor_execution_report_uri}\")\n",
    "    last_model_bias_monitor_execution_report_files = sorted(\n",
    "        sagemaker.s3.S3Downloader.list(\n",
    "            s3_uri=last_model_bias_monitor_execution_report_uri,\n",
    "            sagemaker_session=sagemaker_session,\n",
    "        )\n",
    "    )\n",
    "    print(\"Found Report Files:\")\n",
    "    print(\"\\n \".join(last_model_bias_monitor_execution_report_files))\n",
    "else:\n",
    "    last_model_bias_monitor_execution = None\n",
    "    print(\n",
    "        \"====STOP==== \\n No completed executions to inspect further. Please wait till an execution completes or investigate previously reported failures.\"\n",
    "    )\n",
    "    print(schedule_desc)"
   ]
  },
  {
   "cell_type": "markdown",
   "id": "c1204d4b-ab2f-4a7c-b3c1-78682fefe54a",
   "metadata": {},
   "source": [
    "If there are any violations compared to the baseline, they are listed here. See [Bias Drift Violations](https://docs.aws.amazon.com/sagemaker/latest/dg/clarify-model-monitor-bias-drift-violations.html) for the schema of the file, and how violations are detected."
   ]
  },
  {
   "cell_type": "code",
   "execution_count": 36,
   "id": "a4bf40f9-42dc-4090-b64c-26f6936a9d49",
   "metadata": {
    "tags": []
   },
   "outputs": [
    {
     "name": "stdout",
     "output_type": "stream",
     "text": [
      "{   'version': '1.0',\n",
      "    'violations': [   {   'constraint_check_type': 'bias_drift_check',\n",
      "                          'description': 'Metric value 0.374894782529513 '\n",
      "                                         \"doesn't meet the baseline constraint \"\n",
      "                                         'requirement 0.28176563733194276',\n",
      "                          'facet': 'Sex',\n",
      "                          'facet_value': '0',\n",
      "                          'metric_name': 'CDDPL'},\n",
      "                      {   'constraint_check_type': 'bias_drift_check',\n",
      "                          'description': 'Metric value -0.34693877551020413 '\n",
      "                                         \"doesn't meet the baseline constraint \"\n",
      "                                         'requirement -0.09508196721311479',\n",
      "                          'facet': 'Sex',\n",
      "                          'facet_value': '0',\n",
      "                          'metric_name': 'DAR'},\n",
      "                      {   'constraint_check_type': 'bias_drift_check',\n",
      "                          'description': 'Metric value -36.69387755102041 '\n",
      "                                         \"doesn't meet the baseline constraint \"\n",
      "                                         'requirement -0.5278688524590163',\n",
      "                          'facet': 'Sex',\n",
      "                          'facet_value': '0',\n",
      "                          'metric_name': 'DCA'},\n",
      "                      {   'constraint_check_type': 'bias_drift_check',\n",
      "                          'description': 'Metric value -0.07650793650793647 '\n",
      "                                         \"doesn't meet the baseline constraint \"\n",
      "                                         'requirement 0.027874251497005953',\n",
      "                          'facet': 'Sex',\n",
      "                          'facet_value': '0',\n",
      "                          'metric_name': 'DCR'},\n",
      "                      {   'constraint_check_type': 'bias_drift_check',\n",
      "                          'description': 'Metric value 0.9454985573866695 '\n",
      "                                         \"doesn't meet the baseline constraint \"\n",
      "                                         'requirement 0.0841186702174704',\n",
      "                          'facet': 'Sex',\n",
      "                          'facet_value': '0',\n",
      "                          'metric_name': 'GE'},\n",
      "                      {   'constraint_check_type': 'bias_drift_check',\n",
      "                          'description': 'Metric value 0.17253086419753086 '\n",
      "                                         \"doesn't meet the baseline constraint \"\n",
      "                                         'requirement 0.1308103661044837',\n",
      "                          'facet': 'Sex',\n",
      "                          'facet_value': '0',\n",
      "                          'metric_name': 'RD'},\n",
      "                      {   'constraint_check_type': 'bias_drift_check',\n",
      "                          'description': 'Metric value 0.27419354838709675 '\n",
      "                                         \"doesn't meet the baseline constraint \"\n",
      "                                         'requirement 0.10465328014037645',\n",
      "                          'facet': 'Sex',\n",
      "                          'facet_value': '0',\n",
      "                          'metric_name': 'SD'},\n",
      "                      {   'constraint_check_type': 'bias_drift_check',\n",
      "                          'description': \"Metric value Infinity doesn't meet \"\n",
      "                                         'the baseline constraint requirement '\n",
      "                                         '2.916666666666667',\n",
      "                          'facet': 'Sex',\n",
      "                          'facet_value': '0',\n",
      "                          'metric_name': 'TE'}]}\n"
     ]
    }
   ],
   "source": [
    "violations = model_bias_monitor.latest_monitoring_constraint_violations()\n",
    "if violations is not None:\n",
    "    pprint.PrettyPrinter(indent=4).pprint(violations.body_dict)"
   ]
  },
  {
   "cell_type": "markdown",
   "id": "86787189-5189-4acc-b254-e5e75b2b67d0",
   "metadata": {},
   "source": [
    "By default, the analysis results are also published to CloudWatch, see [CloudWatch Metrics for Bias Drift Analysis](https://docs.aws.amazon.com/sagemaker/latest/dg/clarify-model-monitor-bias-drift-cw.html)."
   ]
  },
  {
   "cell_type": "markdown",
   "id": "ad2f1a28-ae35-4a41-a24d-74a63310c431",
   "metadata": {},
   "source": [
    "## Cleanup\n",
    "\n",
    "If there is no plan to collect more data for bias drift monitoring, then the monitor should be stopped (and deleted) to avoid incurring additional charges. Note that deleting the monitor does not delete the data in S3."
   ]
  },
  {
   "cell_type": "code",
   "execution_count": 37,
   "id": "8f47aa2a-5f16-4be7-9b92-a0a6a68c6d05",
   "metadata": {
    "tags": []
   },
   "outputs": [
    {
     "name": "stderr",
     "output_type": "stream",
     "text": [
      "INFO:sagemaker:Stopping Monitoring Schedule with name: monitoring-schedule-2024-01-19-19-39-39-971\n",
      "INFO:sagemaker:Deleting Monitoring Schedule with name: monitoring-schedule-2024-01-19-19-39-39-971\n"
     ]
    },
    {
     "name": "stdout",
     "output_type": "stream",
     "text": [
      "Waiting for execution to finish\n",
      "Done! Execution Status: CompletedWithViolations\n"
     ]
    },
    {
     "name": "stderr",
     "output_type": "stream",
     "text": [
      "INFO:sagemaker.model_monitor.clarify_model_monitoring:Deleting Model Bias Job Definition with name: model-bias-job-definition-2024-01-19-19-39-39-971\n"
     ]
    }
   ],
   "source": [
    "model_bias_monitor.stop_monitoring_schedule()\n",
    "wait_for_execution_to_finish(model_bias_monitor)\n",
    "model_bias_monitor.delete_monitoring_schedule()"
   ]
  },
  {
   "cell_type": "code",
   "execution_count": 38,
   "id": "dba6514b-b9e3-4924-8c75-e3ec7a1d687f",
   "metadata": {},
   "outputs": [
    {
     "name": "stderr",
     "output_type": "stream",
     "text": [
      "INFO:sagemaker:Deleting model with name: DEMO-xgb-churn-pred-model-monitor-1705692245-0c05\n"
     ]
    }
   ],
   "source": [
    "sagemaker_session.delete_model(model_name)"
   ]
  },
  {
   "cell_type": "markdown",
   "id": "0340d10c-1d01-48b4-9270-0c411f729e93",
   "metadata": {},
   "source": [
    "## Notebook CI Test Results\n",
    "\n",
    "This notebook was tested in multiple regions. The test results are as follows, except for us-west-2 which is shown at the top of the notebook.\n",
    "\n",
    "\n",
    "![This us-east-1 badge failed to load. Check your device's internet connectivity, otherwise the service is currently unavailable](https://prod.us-west-2.tcx-beacon.docs.aws.dev/sagemaker-nb/us-east-1/sagemaker_model_monitor|fairness_and_explainability_json|SageMaker-Monitoring-Bias-Drift-for-Batch-Transform.ipynb)\n",
    "\n",
    "![This us-east-2 badge failed to load. Check your device's internet connectivity, otherwise the service is currently unavailable](https://prod.us-west-2.tcx-beacon.docs.aws.dev/sagemaker-nb/us-east-2/sagemaker_model_monitor|fairness_and_explainability_json|SageMaker-Monitoring-Bias-Drift-for-Batch-Transform.ipynb)\n",
    "\n",
    "![This us-west-1 badge failed to load. Check your device's internet connectivity, otherwise the service is currently unavailable](https://prod.us-west-2.tcx-beacon.docs.aws.dev/sagemaker-nb/us-west-1/sagemaker_model_monitor|fairness_and_explainability_json|SageMaker-Monitoring-Bias-Drift-for-Batch-Transform.ipynb)\n",
    "\n",
    "![This ca-central-1 badge failed to load. Check your device's internet connectivity, otherwise the service is currently unavailable](https://prod.us-west-2.tcx-beacon.docs.aws.dev/sagemaker-nb/ca-central-1/sagemaker_model_monitor|fairness_and_explainability_json|SageMaker-Monitoring-Bias-Drift-for-Batch-Transform.ipynb)\n",
    "\n",
    "![This sa-east-1 badge failed to load. Check your device's internet connectivity, otherwise the service is currently unavailable](https://prod.us-west-2.tcx-beacon.docs.aws.dev/sagemaker-nb/sa-east-1/sagemaker_model_monitor|fairness_and_explainability_json|SageMaker-Monitoring-Bias-Drift-for-Batch-Transform.ipynb)\n",
    "\n",
    "![This eu-west-1 badge failed to load. Check your device's internet connectivity, otherwise the service is currently unavailable](https://prod.us-west-2.tcx-beacon.docs.aws.dev/sagemaker-nb/eu-west-1/sagemaker_model_monitor|fairness_and_explainability_json|SageMaker-Monitoring-Bias-Drift-for-Batch-Transform.ipynb)\n",
    "\n",
    "![This eu-west-2 badge failed to load. Check your device's internet connectivity, otherwise the service is currently unavailable](https://prod.us-west-2.tcx-beacon.docs.aws.dev/sagemaker-nb/eu-west-2/sagemaker_model_monitor|fairness_and_explainability_json|SageMaker-Monitoring-Bias-Drift-for-Batch-Transform.ipynb)\n",
    "\n",
    "![This eu-west-3 badge failed to load. Check your device's internet connectivity, otherwise the service is currently unavailable](https://prod.us-west-2.tcx-beacon.docs.aws.dev/sagemaker-nb/eu-west-3/sagemaker_model_monitor|fairness_and_explainability_json|SageMaker-Monitoring-Bias-Drift-for-Batch-Transform.ipynb)\n",
    "\n",
    "![This eu-central-1 badge failed to load. Check your device's internet connectivity, otherwise the service is currently unavailable](https://prod.us-west-2.tcx-beacon.docs.aws.dev/sagemaker-nb/eu-central-1/sagemaker_model_monitor|fairness_and_explainability_json|SageMaker-Monitoring-Bias-Drift-for-Batch-Transform.ipynb)\n",
    "\n",
    "![This eu-north-1 badge failed to load. Check your device's internet connectivity, otherwise the service is currently unavailable](https://prod.us-west-2.tcx-beacon.docs.aws.dev/sagemaker-nb/eu-north-1/sagemaker_model_monitor|fairness_and_explainability_json|SageMaker-Monitoring-Bias-Drift-for-Batch-Transform.ipynb)\n",
    "\n",
    "![This ap-southeast-1 badge failed to load. Check your device's internet connectivity, otherwise the service is currently unavailable](https://prod.us-west-2.tcx-beacon.docs.aws.dev/sagemaker-nb/ap-southeast-1/sagemaker_model_monitor|fairness_and_explainability_json|SageMaker-Monitoring-Bias-Drift-for-Batch-Transform.ipynb)\n",
    "\n",
    "![This ap-southeast-2 badge failed to load. Check your device's internet connectivity, otherwise the service is currently unavailable](https://prod.us-west-2.tcx-beacon.docs.aws.dev/sagemaker-nb/ap-southeast-2/sagemaker_model_monitor|fairness_and_explainability_json|SageMaker-Monitoring-Bias-Drift-for-Batch-Transform.ipynb)\n",
    "\n",
    "![This ap-northeast-1 badge failed to load. Check your device's internet connectivity, otherwise the service is currently unavailable](https://prod.us-west-2.tcx-beacon.docs.aws.dev/sagemaker-nb/ap-northeast-1/sagemaker_model_monitor|fairness_and_explainability_json|SageMaker-Monitoring-Bias-Drift-for-Batch-Transform.ipynb)\n",
    "\n",
    "![This ap-northeast-2 badge failed to load. Check your device's internet connectivity, otherwise the service is currently unavailable](https://prod.us-west-2.tcx-beacon.docs.aws.dev/sagemaker-nb/ap-northeast-2/sagemaker_model_monitor|fairness_and_explainability_json|SageMaker-Monitoring-Bias-Drift-for-Batch-Transform.ipynb)\n",
    "\n",
    "![This ap-south-1 badge failed to load. Check your device's internet connectivity, otherwise the service is currently unavailable](https://prod.us-west-2.tcx-beacon.docs.aws.dev/sagemaker-nb/ap-south-1/sagemaker_model_monitor|fairness_and_explainability_json|SageMaker-Monitoring-Bias-Drift-for-Batch-Transform.ipynb)\n"
   ]
  }
 ],
 "metadata": {
  "availableInstances": [
   {
    "_defaultOrder": 0,
    "_isFastLaunch": true,
    "category": "General purpose",
    "gpuNum": 0,
    "hideHardwareSpecs": false,
    "memoryGiB": 4,
    "name": "ml.t3.medium",
    "vcpuNum": 2
   },
   {
    "_defaultOrder": 1,
    "_isFastLaunch": false,
    "category": "General purpose",
    "gpuNum": 0,
    "hideHardwareSpecs": false,
    "memoryGiB": 8,
    "name": "ml.t3.large",
    "vcpuNum": 2
   },
   {
    "_defaultOrder": 2,
    "_isFastLaunch": false,
    "category": "General purpose",
    "gpuNum": 0,
    "hideHardwareSpecs": false,
    "memoryGiB": 16,
    "name": "ml.t3.xlarge",
    "vcpuNum": 4
   },
   {
    "_defaultOrder": 3,
    "_isFastLaunch": false,
    "category": "General purpose",
    "gpuNum": 0,
    "hideHardwareSpecs": false,
    "memoryGiB": 32,
    "name": "ml.t3.2xlarge",
    "vcpuNum": 8
   },
   {
    "_defaultOrder": 4,
    "_isFastLaunch": true,
    "category": "General purpose",
    "gpuNum": 0,
    "hideHardwareSpecs": false,
    "memoryGiB": 8,
    "name": "ml.m5.large",
    "vcpuNum": 2
   },
   {
    "_defaultOrder": 5,
    "_isFastLaunch": false,
    "category": "General purpose",
    "gpuNum": 0,
    "hideHardwareSpecs": false,
    "memoryGiB": 16,
    "name": "ml.m5.xlarge",
    "vcpuNum": 4
   },
   {
    "_defaultOrder": 6,
    "_isFastLaunch": false,
    "category": "General purpose",
    "gpuNum": 0,
    "hideHardwareSpecs": false,
    "memoryGiB": 32,
    "name": "ml.m5.2xlarge",
    "vcpuNum": 8
   },
   {
    "_defaultOrder": 7,
    "_isFastLaunch": false,
    "category": "General purpose",
    "gpuNum": 0,
    "hideHardwareSpecs": false,
    "memoryGiB": 64,
    "name": "ml.m5.4xlarge",
    "vcpuNum": 16
   },
   {
    "_defaultOrder": 8,
    "_isFastLaunch": false,
    "category": "General purpose",
    "gpuNum": 0,
    "hideHardwareSpecs": false,
    "memoryGiB": 128,
    "name": "ml.m5.8xlarge",
    "vcpuNum": 32
   },
   {
    "_defaultOrder": 9,
    "_isFastLaunch": false,
    "category": "General purpose",
    "gpuNum": 0,
    "hideHardwareSpecs": false,
    "memoryGiB": 192,
    "name": "ml.m5.12xlarge",
    "vcpuNum": 48
   },
   {
    "_defaultOrder": 10,
    "_isFastLaunch": false,
    "category": "General purpose",
    "gpuNum": 0,
    "hideHardwareSpecs": false,
    "memoryGiB": 256,
    "name": "ml.m5.16xlarge",
    "vcpuNum": 64
   },
   {
    "_defaultOrder": 11,
    "_isFastLaunch": false,
    "category": "General purpose",
    "gpuNum": 0,
    "hideHardwareSpecs": false,
    "memoryGiB": 384,
    "name": "ml.m5.24xlarge",
    "vcpuNum": 96
   },
   {
    "_defaultOrder": 12,
    "_isFastLaunch": false,
    "category": "General purpose",
    "gpuNum": 0,
    "hideHardwareSpecs": false,
    "memoryGiB": 8,
    "name": "ml.m5d.large",
    "vcpuNum": 2
   },
   {
    "_defaultOrder": 13,
    "_isFastLaunch": false,
    "category": "General purpose",
    "gpuNum": 0,
    "hideHardwareSpecs": false,
    "memoryGiB": 16,
    "name": "ml.m5d.xlarge",
    "vcpuNum": 4
   },
   {
    "_defaultOrder": 14,
    "_isFastLaunch": false,
    "category": "General purpose",
    "gpuNum": 0,
    "hideHardwareSpecs": false,
    "memoryGiB": 32,
    "name": "ml.m5d.2xlarge",
    "vcpuNum": 8
   },
   {
    "_defaultOrder": 15,
    "_isFastLaunch": false,
    "category": "General purpose",
    "gpuNum": 0,
    "hideHardwareSpecs": false,
    "memoryGiB": 64,
    "name": "ml.m5d.4xlarge",
    "vcpuNum": 16
   },
   {
    "_defaultOrder": 16,
    "_isFastLaunch": false,
    "category": "General purpose",
    "gpuNum": 0,
    "hideHardwareSpecs": false,
    "memoryGiB": 128,
    "name": "ml.m5d.8xlarge",
    "vcpuNum": 32
   },
   {
    "_defaultOrder": 17,
    "_isFastLaunch": false,
    "category": "General purpose",
    "gpuNum": 0,
    "hideHardwareSpecs": false,
    "memoryGiB": 192,
    "name": "ml.m5d.12xlarge",
    "vcpuNum": 48
   },
   {
    "_defaultOrder": 18,
    "_isFastLaunch": false,
    "category": "General purpose",
    "gpuNum": 0,
    "hideHardwareSpecs": false,
    "memoryGiB": 256,
    "name": "ml.m5d.16xlarge",
    "vcpuNum": 64
   },
   {
    "_defaultOrder": 19,
    "_isFastLaunch": false,
    "category": "General purpose",
    "gpuNum": 0,
    "hideHardwareSpecs": false,
    "memoryGiB": 384,
    "name": "ml.m5d.24xlarge",
    "vcpuNum": 96
   },
   {
    "_defaultOrder": 20,
    "_isFastLaunch": false,
    "category": "General purpose",
    "gpuNum": 0,
    "hideHardwareSpecs": true,
    "memoryGiB": 0,
    "name": "ml.geospatial.interactive",
    "supportedImageNames": [
     "sagemaker-geospatial-v1-0"
    ],
    "vcpuNum": 0
   },
   {
    "_defaultOrder": 21,
    "_isFastLaunch": true,
    "category": "Compute optimized",
    "gpuNum": 0,
    "hideHardwareSpecs": false,
    "memoryGiB": 4,
    "name": "ml.c5.large",
    "vcpuNum": 2
   },
   {
    "_defaultOrder": 22,
    "_isFastLaunch": false,
    "category": "Compute optimized",
    "gpuNum": 0,
    "hideHardwareSpecs": false,
    "memoryGiB": 8,
    "name": "ml.c5.xlarge",
    "vcpuNum": 4
   },
   {
    "_defaultOrder": 23,
    "_isFastLaunch": false,
    "category": "Compute optimized",
    "gpuNum": 0,
    "hideHardwareSpecs": false,
    "memoryGiB": 16,
    "name": "ml.c5.2xlarge",
    "vcpuNum": 8
   },
   {
    "_defaultOrder": 24,
    "_isFastLaunch": false,
    "category": "Compute optimized",
    "gpuNum": 0,
    "hideHardwareSpecs": false,
    "memoryGiB": 32,
    "name": "ml.c5.4xlarge",
    "vcpuNum": 16
   },
   {
    "_defaultOrder": 25,
    "_isFastLaunch": false,
    "category": "Compute optimized",
    "gpuNum": 0,
    "hideHardwareSpecs": false,
    "memoryGiB": 72,
    "name": "ml.c5.9xlarge",
    "vcpuNum": 36
   },
   {
    "_defaultOrder": 26,
    "_isFastLaunch": false,
    "category": "Compute optimized",
    "gpuNum": 0,
    "hideHardwareSpecs": false,
    "memoryGiB": 96,
    "name": "ml.c5.12xlarge",
    "vcpuNum": 48
   },
   {
    "_defaultOrder": 27,
    "_isFastLaunch": false,
    "category": "Compute optimized",
    "gpuNum": 0,
    "hideHardwareSpecs": false,
    "memoryGiB": 144,
    "name": "ml.c5.18xlarge",
    "vcpuNum": 72
   },
   {
    "_defaultOrder": 28,
    "_isFastLaunch": false,
    "category": "Compute optimized",
    "gpuNum": 0,
    "hideHardwareSpecs": false,
    "memoryGiB": 192,
    "name": "ml.c5.24xlarge",
    "vcpuNum": 96
   },
   {
    "_defaultOrder": 29,
    "_isFastLaunch": true,
    "category": "Accelerated computing",
    "gpuNum": 1,
    "hideHardwareSpecs": false,
    "memoryGiB": 16,
    "name": "ml.g4dn.xlarge",
    "vcpuNum": 4
   },
   {
    "_defaultOrder": 30,
    "_isFastLaunch": false,
    "category": "Accelerated computing",
    "gpuNum": 1,
    "hideHardwareSpecs": false,
    "memoryGiB": 32,
    "name": "ml.g4dn.2xlarge",
    "vcpuNum": 8
   },
   {
    "_defaultOrder": 31,
    "_isFastLaunch": false,
    "category": "Accelerated computing",
    "gpuNum": 1,
    "hideHardwareSpecs": false,
    "memoryGiB": 64,
    "name": "ml.g4dn.4xlarge",
    "vcpuNum": 16
   },
   {
    "_defaultOrder": 32,
    "_isFastLaunch": false,
    "category": "Accelerated computing",
    "gpuNum": 1,
    "hideHardwareSpecs": false,
    "memoryGiB": 128,
    "name": "ml.g4dn.8xlarge",
    "vcpuNum": 32
   },
   {
    "_defaultOrder": 33,
    "_isFastLaunch": false,
    "category": "Accelerated computing",
    "gpuNum": 4,
    "hideHardwareSpecs": false,
    "memoryGiB": 192,
    "name": "ml.g4dn.12xlarge",
    "vcpuNum": 48
   },
   {
    "_defaultOrder": 34,
    "_isFastLaunch": false,
    "category": "Accelerated computing",
    "gpuNum": 1,
    "hideHardwareSpecs": false,
    "memoryGiB": 256,
    "name": "ml.g4dn.16xlarge",
    "vcpuNum": 64
   },
   {
    "_defaultOrder": 35,
    "_isFastLaunch": false,
    "category": "Accelerated computing",
    "gpuNum": 1,
    "hideHardwareSpecs": false,
    "memoryGiB": 61,
    "name": "ml.p3.2xlarge",
    "vcpuNum": 8
   },
   {
    "_defaultOrder": 36,
    "_isFastLaunch": false,
    "category": "Accelerated computing",
    "gpuNum": 4,
    "hideHardwareSpecs": false,
    "memoryGiB": 244,
    "name": "ml.p3.8xlarge",
    "vcpuNum": 32
   },
   {
    "_defaultOrder": 37,
    "_isFastLaunch": false,
    "category": "Accelerated computing",
    "gpuNum": 8,
    "hideHardwareSpecs": false,
    "memoryGiB": 488,
    "name": "ml.p3.16xlarge",
    "vcpuNum": 64
   },
   {
    "_defaultOrder": 38,
    "_isFastLaunch": false,
    "category": "Accelerated computing",
    "gpuNum": 8,
    "hideHardwareSpecs": false,
    "memoryGiB": 768,
    "name": "ml.p3dn.24xlarge",
    "vcpuNum": 96
   },
   {
    "_defaultOrder": 39,
    "_isFastLaunch": false,
    "category": "Memory Optimized",
    "gpuNum": 0,
    "hideHardwareSpecs": false,
    "memoryGiB": 16,
    "name": "ml.r5.large",
    "vcpuNum": 2
   },
   {
    "_defaultOrder": 40,
    "_isFastLaunch": false,
    "category": "Memory Optimized",
    "gpuNum": 0,
    "hideHardwareSpecs": false,
    "memoryGiB": 32,
    "name": "ml.r5.xlarge",
    "vcpuNum": 4
   },
   {
    "_defaultOrder": 41,
    "_isFastLaunch": false,
    "category": "Memory Optimized",
    "gpuNum": 0,
    "hideHardwareSpecs": false,
    "memoryGiB": 64,
    "name": "ml.r5.2xlarge",
    "vcpuNum": 8
   },
   {
    "_defaultOrder": 42,
    "_isFastLaunch": false,
    "category": "Memory Optimized",
    "gpuNum": 0,
    "hideHardwareSpecs": false,
    "memoryGiB": 128,
    "name": "ml.r5.4xlarge",
    "vcpuNum": 16
   },
   {
    "_defaultOrder": 43,
    "_isFastLaunch": false,
    "category": "Memory Optimized",
    "gpuNum": 0,
    "hideHardwareSpecs": false,
    "memoryGiB": 256,
    "name": "ml.r5.8xlarge",
    "vcpuNum": 32
   },
   {
    "_defaultOrder": 44,
    "_isFastLaunch": false,
    "category": "Memory Optimized",
    "gpuNum": 0,
    "hideHardwareSpecs": false,
    "memoryGiB": 384,
    "name": "ml.r5.12xlarge",
    "vcpuNum": 48
   },
   {
    "_defaultOrder": 45,
    "_isFastLaunch": false,
    "category": "Memory Optimized",
    "gpuNum": 0,
    "hideHardwareSpecs": false,
    "memoryGiB": 512,
    "name": "ml.r5.16xlarge",
    "vcpuNum": 64
   },
   {
    "_defaultOrder": 46,
    "_isFastLaunch": false,
    "category": "Memory Optimized",
    "gpuNum": 0,
    "hideHardwareSpecs": false,
    "memoryGiB": 768,
    "name": "ml.r5.24xlarge",
    "vcpuNum": 96
   },
   {
    "_defaultOrder": 47,
    "_isFastLaunch": false,
    "category": "Accelerated computing",
    "gpuNum": 1,
    "hideHardwareSpecs": false,
    "memoryGiB": 16,
    "name": "ml.g5.xlarge",
    "vcpuNum": 4
   },
   {
    "_defaultOrder": 48,
    "_isFastLaunch": false,
    "category": "Accelerated computing",
    "gpuNum": 1,
    "hideHardwareSpecs": false,
    "memoryGiB": 32,
    "name": "ml.g5.2xlarge",
    "vcpuNum": 8
   },
   {
    "_defaultOrder": 49,
    "_isFastLaunch": false,
    "category": "Accelerated computing",
    "gpuNum": 1,
    "hideHardwareSpecs": false,
    "memoryGiB": 64,
    "name": "ml.g5.4xlarge",
    "vcpuNum": 16
   },
   {
    "_defaultOrder": 50,
    "_isFastLaunch": false,
    "category": "Accelerated computing",
    "gpuNum": 1,
    "hideHardwareSpecs": false,
    "memoryGiB": 128,
    "name": "ml.g5.8xlarge",
    "vcpuNum": 32
   },
   {
    "_defaultOrder": 51,
    "_isFastLaunch": false,
    "category": "Accelerated computing",
    "gpuNum": 1,
    "hideHardwareSpecs": false,
    "memoryGiB": 256,
    "name": "ml.g5.16xlarge",
    "vcpuNum": 64
   },
   {
    "_defaultOrder": 52,
    "_isFastLaunch": false,
    "category": "Accelerated computing",
    "gpuNum": 4,
    "hideHardwareSpecs": false,
    "memoryGiB": 192,
    "name": "ml.g5.12xlarge",
    "vcpuNum": 48
   },
   {
    "_defaultOrder": 53,
    "_isFastLaunch": false,
    "category": "Accelerated computing",
    "gpuNum": 4,
    "hideHardwareSpecs": false,
    "memoryGiB": 384,
    "name": "ml.g5.24xlarge",
    "vcpuNum": 96
   },
   {
    "_defaultOrder": 54,
    "_isFastLaunch": false,
    "category": "Accelerated computing",
    "gpuNum": 8,
    "hideHardwareSpecs": false,
    "memoryGiB": 768,
    "name": "ml.g5.48xlarge",
    "vcpuNum": 192
   }
  ],
  "instance_type": "ml.t3.medium",
  "kernelspec": {
   "display_name": "Python 3 (ipykernel)",
   "language": "python",
   "name": "python3"
  },
  "language_info": {
   "codemirror_mode": {
    "name": "ipython",
    "version": 3
   },
   "file_extension": ".py",
   "mimetype": "text/x-python",
   "name": "python",
   "nbconvert_exporter": "python",
   "pygments_lexer": "ipython3",
   "version": "3.9.16"
  }
 },
 "nbformat": 4,
 "nbformat_minor": 5
}
