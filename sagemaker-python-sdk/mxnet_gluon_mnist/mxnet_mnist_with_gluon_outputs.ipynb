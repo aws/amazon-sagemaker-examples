{
 "cells": [
  {
   "cell_type": "code",
   "execution_count": 1,
   "id": "056aa092",
   "metadata": {
    "execution": {
     "iopub.execute_input": "2022-03-23T07:54:34.092685Z",
     "iopub.status.busy": "2022-03-23T07:54:34.091879Z",
     "iopub.status.idle": "2022-03-23T07:54:34.094715Z",
     "shell.execute_reply": "2022-03-23T07:54:34.095139Z"
    },
    "papermill": {
     "duration": 0.026283,
     "end_time": "2022-03-23T07:54:34.095360",
     "exception": false,
     "start_time": "2022-03-23T07:54:34.069077",
     "status": "completed"
    },
    "tags": [
     "injected-parameters"
    ]
   },
   "outputs": [],
   "source": [
    "# Parameters\n",
    "kms_key = \"arn:aws:kms:us-west-2:000000000000:1234abcd-12ab-34cd-56ef-1234567890ab\"\n"
   ]
  },
  {
   "cell_type": "markdown",
   "id": "e40b8249",
   "metadata": {
    "papermill": {
     "duration": 0.014292,
     "end_time": "2022-03-23T07:54:34.124428",
     "exception": false,
     "start_time": "2022-03-23T07:54:34.110136",
     "status": "completed"
    },
    "tags": []
   },
   "source": [
    "# MNIST Training with MXNet and Gluon (Testing)\n",
    "\n",
    "MNIST is a widely used dataset for handwritten digit classification. It consists of 70,000 labeled 28x28 pixel grayscale images of hand-written digits. The dataset is split into 60,000 training images and 10,000 test images. There are 10 classes (one for each of the 10 digits). This tutorial will show how to train and test an MNIST model on SageMaker using MXNet and the Gluon API.\n",
    "\n"
   ]
  },
  {
   "cell_type": "code",
   "execution_count": 2,
   "id": "b5375c59",
   "metadata": {
    "execution": {
     "iopub.execute_input": "2022-03-23T07:54:34.157798Z",
     "iopub.status.busy": "2022-03-23T07:54:34.156907Z",
     "iopub.status.idle": "2022-03-23T07:54:36.702871Z",
     "shell.execute_reply": "2022-03-23T07:54:36.703315Z"
    },
    "papermill": {
     "duration": 2.564753,
     "end_time": "2022-03-23T07:54:36.703466",
     "exception": false,
     "start_time": "2022-03-23T07:54:34.138713",
     "status": "completed"
    },
    "tags": []
   },
   "outputs": [
    {
     "name": "stderr",
     "output_type": "stream",
     "text": [
      "Couldn't call 'get_role' to get Role ARN from role name SageMakerRole to get Role path.\n"
     ]
    }
   ],
   "source": [
    "import os\n",
    "import boto3\n",
    "import sagemaker\n",
    "from sagemaker.mxnet import MXNet\n",
    "from mxnet import gluon\n",
    "from sagemaker import get_execution_role\n",
    "\n",
    "sagemaker_session = sagemaker.Session()\n",
    "\n",
    "role = get_execution_role()"
   ]
  },
  {
   "cell_type": "markdown",
   "id": "45ef0849",
   "metadata": {
    "papermill": {
     "duration": 0.017206,
     "end_time": "2022-03-23T07:54:36.736011",
     "exception": false,
     "start_time": "2022-03-23T07:54:36.718805",
     "status": "completed"
    },
    "tags": []
   },
   "source": [
    "## Download training and test data"
   ]
  },
  {
   "cell_type": "code",
   "execution_count": 3,
   "id": "10c03c50",
   "metadata": {
    "execution": {
     "iopub.execute_input": "2022-03-23T07:54:36.773187Z",
     "iopub.status.busy": "2022-03-23T07:54:36.772251Z",
     "iopub.status.idle": "2022-03-23T07:54:38.728072Z",
     "shell.execute_reply": "2022-03-23T07:54:38.728530Z"
    },
    "papermill": {
     "duration": 1.977062,
     "end_time": "2022-03-23T07:54:38.728680",
     "exception": false,
     "start_time": "2022-03-23T07:54:36.751618",
     "status": "completed"
    },
    "tags": []
   },
   "outputs": [],
   "source": [
    "import os\n",
    "\n",
    "for inner_dir in [\"train\", \"test\"]:\n",
    "    data_dir = \"./data/{}/\".format(inner_dir)\n",
    "    if not os.path.exists(data_dir):\n",
    "        os.makedirs(data_dir)\n",
    "\n",
    "s3 = boto3.client(\"s3\")\n",
    "s3.download_file(\n",
    "    \"sagemaker-sample-files\",\n",
    "    \"datasets/image/MNIST/train/train-images-idx3-ubyte.gz\",\n",
    "    \"./data/train/train-images-idx3-ubyte.gz\",\n",
    ")\n",
    "s3.download_file(\n",
    "    \"sagemaker-sample-files\",\n",
    "    \"datasets/image/MNIST/train/train-labels-idx1-ubyte.gz\",\n",
    "    \"./data/train/train-labels-idx1-ubyte.gz\",\n",
    ")\n",
    "s3.download_file(\n",
    "    \"sagemaker-sample-files\",\n",
    "    \"datasets/image/MNIST/test/t10k-images-idx3-ubyte.gz\",\n",
    "    \"./data/test/t10k-images-idx3-ubyte.gz\",\n",
    ")\n",
    "s3.download_file(\n",
    "    \"sagemaker-sample-files\",\n",
    "    \"datasets/image/MNIST/test/t10k-labels-idx1-ubyte.gz\",\n",
    "    \"./data/test/t10k-labels-idx1-ubyte.gz\",\n",
    ")"
   ]
  },
  {
   "cell_type": "markdown",
   "id": "06d0acf4",
   "metadata": {
    "papermill": {
     "duration": 0.015078,
     "end_time": "2022-03-23T07:54:38.758928",
     "exception": false,
     "start_time": "2022-03-23T07:54:38.743850",
     "status": "completed"
    },
    "tags": []
   },
   "source": [
    "## Uploading the data\n",
    "\n",
    "We use the `sagemaker.Session.upload_data` function to upload our datasets to an S3 location. The return value `inputs` identifies the location -- we will use this later when we start the training job."
   ]
  },
  {
   "cell_type": "code",
   "execution_count": 4,
   "id": "b508148c",
   "metadata": {
    "execution": {
     "iopub.execute_input": "2022-03-23T07:54:38.793519Z",
     "iopub.status.busy": "2022-03-23T07:54:38.792778Z",
     "iopub.status.idle": "2022-03-23T07:54:39.523164Z",
     "shell.execute_reply": "2022-03-23T07:54:39.523606Z"
    },
    "papermill": {
     "duration": 0.749763,
     "end_time": "2022-03-23T07:54:39.523772",
     "exception": false,
     "start_time": "2022-03-23T07:54:38.774009",
     "status": "completed"
    },
    "tags": []
   },
   "outputs": [],
   "source": [
    "inputs = sagemaker_session.upload_data(path=\"data\", key_prefix=\"data/DEMO-mnist\")"
   ]
  },
  {
   "cell_type": "markdown",
   "id": "4a6b91f6",
   "metadata": {
    "papermill": {
     "duration": 0.01514,
     "end_time": "2022-03-23T07:54:39.554303",
     "exception": false,
     "start_time": "2022-03-23T07:54:39.539163",
     "status": "completed"
    },
    "tags": []
   },
   "source": [
    "## Implement the training function\n",
    "\n",
    "We need to provide a training script that can run on the SageMaker platform. The training scripts are essentially the same as one you would write for local training, except that you need to provide a `train` function. The `train` function will check for the validation accuracy at the end of every epoch and checkpoints the best model so far, along with the optimizer state, in the folder `/opt/ml/checkpoints` if the folder path exists, else it will skip the checkpointing. When SageMaker calls your function, it will pass in arguments that describe the training environment. Check the script below to see how this works.\n",
    "\n",
    "The script here is an adaptation of the [Gluon MNIST example](https://github.com/apache/incubator-mxnet/blob/master/example/gluon/mnist.py) provided by the [Apache MXNet](https://mxnet.incubator.apache.org/) project. "
   ]
  },
  {
   "cell_type": "code",
   "execution_count": 5,
   "id": "80802131",
   "metadata": {
    "execution": {
     "iopub.execute_input": "2022-03-23T07:54:39.590081Z",
     "iopub.status.busy": "2022-03-23T07:54:39.589463Z",
     "iopub.status.idle": "2022-03-23T07:54:39.744045Z",
     "shell.execute_reply": "2022-03-23T07:54:39.744521Z"
    },
    "papermill": {
     "duration": 0.175109,
     "end_time": "2022-03-23T07:54:39.744675",
     "exception": false,
     "start_time": "2022-03-23T07:54:39.569566",
     "status": "completed"
    },
    "tags": []
   },
   "outputs": [
    {
     "name": "stdout",
     "output_type": "stream",
     "text": [
      "from __future__ import print_function\r\n",
      "\r\n",
      "import argparse\r\n",
      "import json\r\n",
      "import logging\r\n",
      "import os\r\n",
      "import time\r\n",
      "\r\n",
      "import mxnet as mx\r\n",
      "import numpy as np\r\n",
      "from mxnet import autograd, gluon\r\n",
      "from mxnet.gluon import nn\r\n",
      "\r\n",
      "logging.basicConfig(level=logging.DEBUG)\r\n",
      "\r\n",
      "# ------------------------------------------------------------ #\r\n",
      "# Training methods                                             #\r\n",
      "# ------------------------------------------------------------ #\r\n",
      "\r\n",
      "\r\n",
      "def train(args):\r\n",
      "    # SageMaker passes num_cpus, num_gpus and other args we can use to tailor training to\r\n",
      "    # the current container environment, but here we just use simple cpu context.\r\n",
      "    ctx = mx.cpu()\r\n",
      "\r\n",
      "    # retrieve the hyperparameters we set in notebook (with some defaults)\r\n",
      "    batch_size = args.batch_size\r\n",
      "    epochs = args.epochs\r\n",
      "    learning_rate = args.learning_rate\r\n",
      "    momentum = args.momentum\r\n",
      "    log_interval = args.log_interval\r\n",
      "\r\n",
      "    num_gpus = int(os.environ[\"SM_NUM_GPUS\"])\r\n",
      "    current_host = args.current_host\r\n",
      "    hosts = args.hosts\r\n",
      "    model_dir = args.model_dir\r\n",
      "    CHECKPOINTS_DIR = \"/opt/ml/checkpoints\"\r\n",
      "    checkpoints_enabled = os.path.exists(CHECKPOINTS_DIR)\r\n",
      "\r\n",
      "    # load training and validation data\r\n",
      "    # we use the gluon.data.vision.MNIST class because of its built in mnist pre-processing logic,\r\n",
      "    # but point it at the location where SageMaker placed the data files, so it doesn't download them again.\r\n",
      "    training_dir = args.train\r\n",
      "    train_data = get_train_data(training_dir + \"/train\", batch_size)\r\n",
      "    val_data = get_val_data(training_dir + \"/test\", batch_size)\r\n",
      "\r\n",
      "    # define the network\r\n",
      "    net = define_network()\r\n",
      "\r\n",
      "    # Collect all parameters from net and its children, then initialize them.\r\n",
      "    net.initialize(mx.init.Xavier(magnitude=2.24), ctx=ctx)\r\n",
      "    # Trainer is for updating parameters with gradient.\r\n",
      "\r\n",
      "    if len(hosts) == 1:\r\n",
      "        kvstore = \"device\" if num_gpus > 0 else \"local\"\r\n",
      "    else:\r\n",
      "        kvstore = \"dist_device_sync\" if num_gpus > 0 else \"dist_sync\"\r\n",
      "\r\n",
      "    trainer = gluon.Trainer(\r\n",
      "        net.collect_params(),\r\n",
      "        \"sgd\",\r\n",
      "        {\"learning_rate\": learning_rate, \"momentum\": momentum},\r\n",
      "        kvstore=kvstore,\r\n",
      "    )\r\n",
      "    metric = mx.metric.Accuracy()\r\n",
      "    loss = gluon.loss.SoftmaxCrossEntropyLoss()\r\n",
      "\r\n",
      "    # shard the training data in case we are doing distributed training. Alternatively to splitting in memory,\r\n",
      "    # the data could be pre-split in S3 and use ShardedByS3Key to do distributed training.\r\n",
      "    if len(hosts) > 1:\r\n",
      "        train_data = [x for x in train_data]\r\n",
      "        shard_size = len(train_data) // len(hosts)\r\n",
      "        for i, host in enumerate(hosts):\r\n",
      "            if host == current_host:\r\n",
      "                start = shard_size * i\r\n",
      "                end = start + shard_size\r\n",
      "                break\r\n",
      "\r\n",
      "        train_data = train_data[start:end]\r\n",
      "\r\n",
      "    net.hybridize()\r\n",
      "\r\n",
      "    best_val_score = 0.0\r\n",
      "    for epoch in range(epochs):\r\n",
      "        # reset data iterator and metric at begining of epoch.\r\n",
      "        metric.reset()\r\n",
      "        btic = time.time()\r\n",
      "        for i, (data, label) in enumerate(train_data):\r\n",
      "            # Copy data to ctx if necessary\r\n",
      "            data = data.as_in_context(ctx)\r\n",
      "            label = label.as_in_context(ctx)\r\n",
      "            # Start recording computation graph with record() section.\r\n",
      "            # Recorded graphs can then be differentiated with backward.\r\n",
      "            with autograd.record():\r\n",
      "                output = net(data)\r\n",
      "                L = loss(output, label)\r\n",
      "                L.backward()\r\n",
      "            # take a gradient step with batch_size equal to data.shape[0]\r\n",
      "            trainer.step(data.shape[0])\r\n",
      "            # update metric at last.\r\n",
      "            metric.update([label], [output])\r\n",
      "\r\n",
      "            if i % log_interval == 0 and i > 0:\r\n",
      "                name, acc = metric.get()\r\n",
      "                print(\r\n",
      "                    \"[Epoch %d Batch %d] Training: %s=%f, %f samples/s\"\r\n",
      "                    % (epoch, i, name, acc, batch_size / (time.time() - btic))\r\n",
      "                )\r\n",
      "\r\n",
      "            btic = time.time()\r\n",
      "\r\n",
      "        name, acc = metric.get()\r\n",
      "        print(\"[Epoch %d] Training: %s=%f\" % (epoch, name, acc))\r\n",
      "\r\n",
      "        name, val_acc = test(ctx, net, val_data)\r\n",
      "        print(\"[Epoch %d] Validation: %s=%f\" % (epoch, name, val_acc))\r\n",
      "        # checkpoint the model, params and optimizer states in the folder /opt/ml/checkpoints\r\n",
      "        if checkpoints_enabled and val_acc > best_val_score:\r\n",
      "            best_val_score = val_acc\r\n",
      "            logging.info(\"Saving the model, params and optimizer state.\")\r\n",
      "            net.export(CHECKPOINTS_DIR + \"/%.4f-gluon_mnist\" % (best_val_score), epoch)\r\n",
      "            trainer.save_states(\r\n",
      "                CHECKPOINTS_DIR + \"/%.4f-gluon_mnist-%d.states\" % (best_val_score, epoch)\r\n",
      "            )\r\n",
      "\r\n",
      "    if current_host == hosts[0]:\r\n",
      "        save(net, model_dir)\r\n",
      "\r\n",
      "\r\n",
      "def save(net, model_dir):\r\n",
      "    # save the model\r\n",
      "    net.export(\"%s/model\" % model_dir)\r\n",
      "\r\n",
      "\r\n",
      "def define_network():\r\n",
      "    net = nn.HybridSequential()\r\n",
      "    with net.name_scope():\r\n",
      "        net.add(nn.Dense(128, activation=\"relu\"))\r\n",
      "        net.add(nn.Dense(64, activation=\"relu\"))\r\n",
      "        net.add(nn.Dense(10))\r\n",
      "    return net\r\n",
      "\r\n",
      "\r\n",
      "def input_transformer(data, label):\r\n",
      "    data = data.reshape((-1,)).astype(np.float32) / 255.0\r\n",
      "    return data, label\r\n",
      "\r\n",
      "\r\n",
      "def get_train_data(data_dir, batch_size):\r\n",
      "    return gluon.data.DataLoader(\r\n",
      "        gluon.data.vision.MNIST(data_dir, train=True, transform=input_transformer),\r\n",
      "        batch_size=batch_size,\r\n",
      "        shuffle=True,\r\n",
      "        last_batch=\"rollover\",\r\n",
      "    )\r\n",
      "\r\n",
      "\r\n",
      "def get_val_data(data_dir, batch_size):\r\n",
      "    return gluon.data.DataLoader(\r\n",
      "        gluon.data.vision.MNIST(data_dir, train=False, transform=input_transformer),\r\n",
      "        batch_size=batch_size,\r\n",
      "        shuffle=False,\r\n",
      "    )\r\n",
      "\r\n",
      "\r\n",
      "def test(ctx, net, val_data):\r\n",
      "    metric = mx.metric.Accuracy()\r\n",
      "    for data, label in val_data:\r\n",
      "        data = data.as_in_context(ctx)\r\n",
      "        label = label.as_in_context(ctx)\r\n",
      "        output = net(data)\r\n",
      "        metric.update([label], [output])\r\n",
      "    return metric.get()\r\n",
      "\r\n",
      "\r\n",
      "# ------------------------------------------------------------ #\r\n",
      "# Hosting methods                                              #\r\n",
      "# ------------------------------------------------------------ #\r\n",
      "\r\n",
      "\r\n",
      "def model_fn(model_dir):\r\n",
      "    \"\"\"\r\n",
      "    Load the gluon model. Called once when hosting service starts.\r\n",
      "\r\n",
      "    :param: model_dir The directory where model files are stored.\r\n",
      "    :return: a model (in this case a Gluon network)\r\n",
      "    \"\"\"\r\n",
      "    net = gluon.SymbolBlock.imports(\r\n",
      "        \"%s/model-symbol.json\" % model_dir,\r\n",
      "        [\"data\"],\r\n",
      "        \"%s/model-0000.params\" % model_dir,\r\n",
      "    )\r\n",
      "    return net\r\n",
      "\r\n",
      "\r\n",
      "def transform_fn(net, data, input_content_type, output_content_type):\r\n",
      "    \"\"\"\r\n",
      "    Transform a request using the Gluon model. Called once per request.\r\n",
      "\r\n",
      "    :param net: The Gluon model.\r\n",
      "    :param data: The request payload.\r\n",
      "    :param input_content_type: The request content type.\r\n",
      "    :param output_content_type: The (desired) response content type.\r\n",
      "    :return: response payload and content type.\r\n",
      "    \"\"\"\r\n",
      "    # we can use content types to vary input/output handling, but\r\n",
      "    # here we just assume json for both\r\n",
      "    parsed = json.loads(data)\r\n",
      "    nda = mx.nd.array(parsed)\r\n",
      "    output = net(nda)\r\n",
      "    prediction = mx.nd.argmax(output, axis=1)\r\n",
      "    response_body = json.dumps(prediction.asnumpy().tolist()[0])\r\n",
      "    return response_body, output_content_type\r\n",
      "\r\n",
      "\r\n",
      "# ------------------------------------------------------------ #\r\n",
      "# Training execution                                           #\r\n",
      "# ------------------------------------------------------------ #\r\n",
      "\r\n",
      "\r\n",
      "def parse_args():\r\n",
      "    parser = argparse.ArgumentParser()\r\n",
      "\r\n",
      "    parser.add_argument(\"--batch-size\", type=int, default=100)\r\n",
      "    parser.add_argument(\"--epochs\", type=int, default=10)\r\n",
      "    parser.add_argument(\"--learning-rate\", type=float, default=0.1)\r\n",
      "    parser.add_argument(\"--momentum\", type=float, default=0.9)\r\n",
      "    parser.add_argument(\"--log-interval\", type=float, default=100)\r\n",
      "\r\n",
      "    parser.add_argument(\"--model-dir\", type=str, default=os.environ[\"SM_MODEL_DIR\"])\r\n",
      "    parser.add_argument(\"--train\", type=str, default=os.environ[\"SM_CHANNEL_TRAINING\"])\r\n",
      "\r\n",
      "    parser.add_argument(\"--current-host\", type=str, default=os.environ[\"SM_CURRENT_HOST\"])\r\n",
      "    parser.add_argument(\"--hosts\", type=list, default=json.loads(os.environ[\"SM_HOSTS\"]))\r\n",
      "\r\n",
      "    return parser.parse_args()\r\n",
      "\r\n",
      "\r\n",
      "if __name__ == \"__main__\":\r\n",
      "    args = parse_args()\r\n",
      "\r\n",
      "    train(args)\r\n"
     ]
    }
   ],
   "source": [
    "!cat 'mnist.py'"
   ]
  },
  {
   "cell_type": "markdown",
   "id": "d2924a9a",
   "metadata": {
    "papermill": {
     "duration": 0.015886,
     "end_time": "2022-03-23T07:54:39.776578",
     "exception": false,
     "start_time": "2022-03-23T07:54:39.760692",
     "status": "completed"
    },
    "tags": []
   },
   "source": [
    "## Run the training script on SageMaker\n",
    "\n",
    "The ```MXNet``` class allows us to run our training function on SageMaker infrastructure. We need to configure it with our training script, an IAM role, the number of training instances, and the training instance type. In this case we will run our training job on a single c4.xlarge instance. "
   ]
  },
  {
   "cell_type": "code",
   "execution_count": 6,
   "id": "becd0a13",
   "metadata": {
    "execution": {
     "iopub.execute_input": "2022-03-23T07:54:39.814388Z",
     "iopub.status.busy": "2022-03-23T07:54:39.813739Z",
     "iopub.status.idle": "2022-03-23T07:54:39.850217Z",
     "shell.execute_reply": "2022-03-23T07:54:39.849701Z"
    },
    "papermill": {
     "duration": 0.057969,
     "end_time": "2022-03-23T07:54:39.850340",
     "exception": false,
     "start_time": "2022-03-23T07:54:39.792371",
     "status": "completed"
    },
    "tags": []
   },
   "outputs": [],
   "source": [
    "m = MXNet(\n",
    "    \"mnist.py\",\n",
    "    role=role,\n",
    "    instance_count=1,\n",
    "    instance_type=\"ml.c4.xlarge\",\n",
    "    framework_version=\"1.6.0\",\n",
    "    py_version=\"py3\",\n",
    "    hyperparameters={\n",
    "        \"batch-size\": 100,\n",
    "        \"epochs\": 20,\n",
    "        \"learning-rate\": 0.1,\n",
    "        \"momentum\": 0.9,\n",
    "        \"log-interval\": 100,\n",
    "    },\n",
    ")"
   ]
  },
  {
   "cell_type": "markdown",
   "id": "3dc5c28a",
   "metadata": {
    "papermill": {
     "duration": 0.016092,
     "end_time": "2022-03-23T07:54:39.882557",
     "exception": false,
     "start_time": "2022-03-23T07:54:39.866465",
     "status": "completed"
    },
    "tags": []
   },
   "source": [
    "After we've constructed our `MXNet` object, we can fit it using the data we uploaded to S3. SageMaker makes sure our data is available in the local filesystem, so our training script can simply read the data from disk.\n"
   ]
  },
  {
   "cell_type": "code",
   "execution_count": 7,
   "id": "02ebb0e0",
   "metadata": {
    "execution": {
     "iopub.execute_input": "2022-03-23T07:54:39.919363Z",
     "iopub.status.busy": "2022-03-23T07:54:39.918710Z",
     "iopub.status.idle": "2022-03-23T08:04:09.168562Z",
     "shell.execute_reply": "2022-03-23T08:04:09.168068Z"
    },
    "papermill": {
     "duration": 569.270126,
     "end_time": "2022-03-23T08:04:09.168689",
     "exception": false,
     "start_time": "2022-03-23T07:54:39.898563",
     "status": "completed"
    },
    "scrolled": true,
    "tags": []
   },
   "outputs": [
    {
     "name": "stdout",
     "output_type": "stream",
     "text": [
      "2022-03-23 07:54:40 Starting - Starting the training job."
     ]
    },
    {
     "name": "stdout",
     "output_type": "stream",
     "text": [
      "."
     ]
    },
    {
     "name": "stdout",
     "output_type": "stream",
     "text": [
      "."
     ]
    },
    {
     "name": "stdout",
     "output_type": "stream",
     "text": [
      "\n",
      "2022-03-23 07:55:04 Starting - Preparing the instances for trainingProfilerReport-1648022080: InProgress\n",
      "."
     ]
    },
    {
     "name": "stdout",
     "output_type": "stream",
     "text": [
      "."
     ]
    },
    {
     "name": "stdout",
     "output_type": "stream",
     "text": [
      "."
     ]
    },
    {
     "name": "stdout",
     "output_type": "stream",
     "text": [
      "."
     ]
    },
    {
     "name": "stdout",
     "output_type": "stream",
     "text": [
      "."
     ]
    },
    {
     "name": "stdout",
     "output_type": "stream",
     "text": [
      "."
     ]
    },
    {
     "name": "stdout",
     "output_type": "stream",
     "text": [
      "."
     ]
    },
    {
     "name": "stdout",
     "output_type": "stream",
     "text": [
      "."
     ]
    },
    {
     "name": "stdout",
     "output_type": "stream",
     "text": [
      "."
     ]
    },
    {
     "name": "stdout",
     "output_type": "stream",
     "text": [
      "\n",
      "2022-03-23 07:56:37 Downloading - Downloading input data\n",
      "2022-03-23 07:56:37 Training - Downloading the training image."
     ]
    },
    {
     "name": "stdout",
     "output_type": "stream",
     "text": [
      "."
     ]
    },
    {
     "name": "stdout",
     "output_type": "stream",
     "text": [
      "."
     ]
    },
    {
     "name": "stdout",
     "output_type": "stream",
     "text": [
      "\n",
      "2022-03-23 07:57:04 Training - Training image download completed. Training in progress.."
     ]
    },
    {
     "name": "stdout",
     "output_type": "stream",
     "text": [
      "\u001b[34m2022-03-23 07:57:04,853 sagemaker-training-toolkit INFO     Imported framework sagemaker_mxnet_container.training\u001b[0m\n",
      "\u001b[34m2022-03-23 07:57:04,856 sagemaker-training-toolkit INFO     No GPUs detected (normal if no gpus installed)\u001b[0m\n",
      "\u001b[34m2022-03-23 07:57:04,877 sagemaker_mxnet_container.training INFO     MXNet training environment: {'SM_HOSTS': '[\"algo-1\"]', 'SM_NETWORK_INTERFACE_NAME': 'eth0', 'SM_HPS': '{\"batch-size\":100,\"epochs\":20,\"learning-rate\":0.1,\"log-interval\":100,\"momentum\":0.9}', 'SM_USER_ENTRY_POINT': 'mnist.py', 'SM_FRAMEWORK_PARAMS': '{}', 'SM_RESOURCE_CONFIG': '{\"current_group_name\":\"homogeneousCluster\",\"current_host\":\"algo-1\",\"current_instance_type\":\"ml.c4.xlarge\",\"hosts\":[\"algo-1\"],\"instance_groups\":[{\"hosts\":[\"algo-1\"],\"instance_group_name\":\"homogeneousCluster\",\"instance_type\":\"ml.c4.xlarge\"}],\"network_interface_name\":\"eth0\"}', 'SM_INPUT_DATA_CONFIG': '{\"training\":{\"RecordWrapperType\":\"None\",\"S3DistributionType\":\"FullyReplicated\",\"TrainingInputMode\":\"File\"}}', 'SM_OUTPUT_DATA_DIR': '/opt/ml/output/data', 'SM_CHANNELS': '[\"training\"]', 'SM_CURRENT_HOST': 'algo-1', 'SM_MODULE_NAME': 'mnist', 'SM_LOG_LEVEL': '20', 'SM_FRAMEWORK_MODULE': 'sagemaker_mxnet_container.training:main', 'SM_INPUT_DIR': '/opt/ml/input', 'SM_INPUT_CONFIG_DIR': '/opt/ml/input/config', 'SM_OUTPUT_DIR': '/opt/ml/output', 'SM_NUM_CPUS': '4', 'SM_NUM_GPUS': '0', 'SM_MODEL_DIR': '/opt/ml/model', 'SM_MODULE_DIR': 's3://sagemaker-us-west-2--000000000000/mxnet-training-2022-03-23-07-54-39-930/source/sourcedir.tar.gz', 'SM_TRAINING_ENV': '{\"additional_framework_parameters\":{},\"channel_input_dirs\":{\"training\":\"/opt/ml/input/data/training\"},\"current_host\":\"algo-1\",\"framework_module\":\"sagemaker_mxnet_container.training:main\",\"hosts\":[\"algo-1\"],\"hyperparameters\":{\"batch-size\":100,\"epochs\":20,\"learning-rate\":0.1,\"log-interval\":100,\"momentum\":0.9},\"input_config_dir\":\"/opt/ml/input/config\",\"input_data_config\":{\"training\":{\"RecordWrapperType\":\"None\",\"S3DistributionType\":\"FullyReplicated\",\"TrainingInputMode\":\"File\"}},\"input_dir\":\"/opt/ml/input\",\"is_master\":true,\"job_name\":\"mxnet-training-2022-03-23-07-54-39-930\",\"log_level\":20,\"master_hostname\":\"algo-1\",\"model_dir\":\"/opt/ml/model\",\"module_dir\":\"s3://sagemaker-us-west-2--000000000000/mxnet-training-2022-03-23-07-54-39-930/source/sourcedir.tar.gz\",\"module_name\":\"mnist\",\"network_interface_name\":\"eth0\",\"num_cpus\":4,\"num_gpus\":0,\"output_data_dir\":\"/opt/ml/output/data\",\"output_dir\":\"/opt/ml/output\",\"output_intermediate_dir\":\"/opt/ml/output/intermediate\",\"resource_config\":{\"current_group_name\":\"homogeneousCluster\",\"current_host\":\"algo-1\",\"current_instance_type\":\"ml.c4.xlarge\",\"hosts\":[\"algo-1\"],\"instance_groups\":[{\"hosts\":[\"algo-1\"],\"instance_group_name\":\"homogeneousCluster\",\"instance_type\":\"ml.c4.xlarge\"}],\"network_interface_name\":\"eth0\"},\"user_entry_point\":\"mnist.py\"}', 'SM_USER_ARGS': '[\"--batch-size\",\"100\",\"--epochs\",\"20\",\"--learning-rate\",\"0.1\",\"--log-interval\",\"100\",\"--momentum\",\"0.9\"]', 'SM_OUTPUT_INTERMEDIATE_DIR': '/opt/ml/output/intermediate', 'SM_CHANNEL_TRAINING': '/opt/ml/input/data/training', 'SM_HP_BATCH-SIZE': '100', 'SM_HP_EPOCHS': '20', 'SM_HP_LEARNING-RATE': '0.1', 'SM_HP_LOG-INTERVAL': '100', 'SM_HP_MOMENTUM': '0.9'}\u001b[0m\n",
      "\u001b[34m2022-03-23 07:57:05,357 sagemaker-training-toolkit INFO     No GPUs detected (normal if no gpus installed)\u001b[0m\n",
      "\u001b[34m2022-03-23 07:57:05,384 sagemaker-training-toolkit INFO     No GPUs detected (normal if no gpus installed)\u001b[0m\n",
      "\u001b[34m2022-03-23 07:57:05,412 sagemaker-training-toolkit INFO     No GPUs detected (normal if no gpus installed)\u001b[0m\n",
      "\u001b[34m2022-03-23 07:57:05,436 sagemaker-training-toolkit INFO     Invoking user script\u001b[0m\n",
      "\u001b[34mTraining Env:\u001b[0m\n",
      "\u001b[34m{\n",
      "    \"additional_framework_parameters\": {},\n",
      "    \"channel_input_dirs\": {\n",
      "        \"training\": \"/opt/ml/input/data/training\"\n",
      "    },\n",
      "    \"current_host\": \"algo-1\",\n",
      "    \"framework_module\": \"sagemaker_mxnet_container.training:main\",\n",
      "    \"hosts\": [\n",
      "        \"algo-1\"\n",
      "    ],\n",
      "    \"hyperparameters\": {\n",
      "        \"batch-size\": 100,\n",
      "        \"epochs\": 20,\n",
      "        \"learning-rate\": 0.1,\n",
      "        \"log-interval\": 100,\n",
      "        \"momentum\": 0.9\n",
      "    },\n",
      "    \"input_config_dir\": \"/opt/ml/input/config\",\n",
      "    \"input_data_config\": {\n",
      "        \"training\": {\n",
      "            \"TrainingInputMode\": \"File\",\n",
      "            \"S3DistributionType\": \"FullyReplicated\",\n",
      "            \"RecordWrapperType\": \"None\"\n",
      "        }\n",
      "    },\n",
      "    \"input_dir\": \"/opt/ml/input\",\n",
      "    \"is_master\": true,\n",
      "    \"job_name\": \"mxnet-training-2022-03-23-07-54-39-930\",\n",
      "    \"log_level\": 20,\n",
      "    \"master_hostname\": \"algo-1\",\n",
      "    \"model_dir\": \"/opt/ml/model\",\n",
      "    \"module_dir\": \"s3://sagemaker-us-west-2--000000000000/mxnet-training-2022-03-23-07-54-39-930/source/sourcedir.tar.gz\",\n",
      "    \"module_name\": \"mnist\",\n",
      "    \"network_interface_name\": \"eth0\",\n",
      "    \"num_cpus\": 4,\n",
      "    \"num_gpus\": 0,\n",
      "    \"output_data_dir\": \"/opt/ml/output/data\",\n",
      "    \"output_dir\": \"/opt/ml/output\",\n",
      "    \"output_intermediate_dir\": \"/opt/ml/output/intermediate\",\n",
      "    \"resource_config\": {\n",
      "        \"current_host\": \"algo-1\",\n",
      "        \"current_instance_type\": \"ml.c4.xlarge\",\n",
      "        \"current_group_name\": \"homogeneousCluster\",\n",
      "        \"hosts\": [\n",
      "            \"algo-1\"\n",
      "        ],\n",
      "        \"instance_groups\": [\n",
      "            {\n",
      "                \"instance_group_name\": \"homogeneousCluster\",\n",
      "                \"instance_type\": \"ml.c4.xlarge\",\n",
      "                \"hosts\": [\n",
      "                    \"algo-1\"\n",
      "                ]\n",
      "            }\n",
      "        ],\n",
      "        \"network_interface_name\": \"eth0\"\n",
      "    },\n",
      "    \"user_entry_point\": \"mnist.py\"\u001b[0m\n",
      "\u001b[34m}\u001b[0m\n",
      "\u001b[34mEnvironment variables:\u001b[0m\n",
      "\u001b[34mSM_HOSTS=[\"algo-1\"]\u001b[0m\n",
      "\u001b[34mSM_NETWORK_INTERFACE_NAME=eth0\u001b[0m\n",
      "\u001b[34mSM_HPS={\"batch-size\":100,\"epochs\":20,\"learning-rate\":0.1,\"log-interval\":100,\"momentum\":0.9}\u001b[0m\n",
      "\u001b[34mSM_USER_ENTRY_POINT=mnist.py\u001b[0m\n",
      "\u001b[34mSM_FRAMEWORK_PARAMS={}\u001b[0m\n",
      "\u001b[34mSM_RESOURCE_CONFIG={\"current_group_name\":\"homogeneousCluster\",\"current_host\":\"algo-1\",\"current_instance_type\":\"ml.c4.xlarge\",\"hosts\":[\"algo-1\"],\"instance_groups\":[{\"hosts\":[\"algo-1\"],\"instance_group_name\":\"homogeneousCluster\",\"instance_type\":\"ml.c4.xlarge\"}],\"network_interface_name\":\"eth0\"}\u001b[0m\n",
      "\u001b[34mSM_INPUT_DATA_CONFIG={\"training\":{\"RecordWrapperType\":\"None\",\"S3DistributionType\":\"FullyReplicated\",\"TrainingInputMode\":\"File\"}}\u001b[0m\n",
      "\u001b[34mSM_OUTPUT_DATA_DIR=/opt/ml/output/data\u001b[0m\n",
      "\u001b[34mSM_CHANNELS=[\"training\"]\u001b[0m\n",
      "\u001b[34mSM_CURRENT_HOST=algo-1\u001b[0m\n",
      "\u001b[34mSM_MODULE_NAME=mnist\u001b[0m\n",
      "\u001b[34mSM_LOG_LEVEL=20\u001b[0m\n",
      "\u001b[34mSM_FRAMEWORK_MODULE=sagemaker_mxnet_container.training:main\u001b[0m\n",
      "\u001b[34mSM_INPUT_DIR=/opt/ml/input\u001b[0m\n",
      "\u001b[34mSM_INPUT_CONFIG_DIR=/opt/ml/input/config\u001b[0m\n",
      "\u001b[34mSM_OUTPUT_DIR=/opt/ml/output\u001b[0m\n",
      "\u001b[34mSM_NUM_CPUS=4\u001b[0m\n",
      "\u001b[34mSM_NUM_GPUS=0\u001b[0m\n",
      "\u001b[34mSM_MODEL_DIR=/opt/ml/model\u001b[0m\n",
      "\u001b[34mSM_MODULE_DIR=s3://sagemaker-us-west-2--000000000000/mxnet-training-2022-03-23-07-54-39-930/source/sourcedir.tar.gz\u001b[0m\n",
      "\u001b[34mSM_TRAINING_ENV={\"additional_framework_parameters\":{},\"channel_input_dirs\":{\"training\":\"/opt/ml/input/data/training\"},\"current_host\":\"algo-1\",\"framework_module\":\"sagemaker_mxnet_container.training:main\",\"hosts\":[\"algo-1\"],\"hyperparameters\":{\"batch-size\":100,\"epochs\":20,\"learning-rate\":0.1,\"log-interval\":100,\"momentum\":0.9},\"input_config_dir\":\"/opt/ml/input/config\",\"input_data_config\":{\"training\":{\"RecordWrapperType\":\"None\",\"S3DistributionType\":\"FullyReplicated\",\"TrainingInputMode\":\"File\"}},\"input_dir\":\"/opt/ml/input\",\"is_master\":true,\"job_name\":\"mxnet-training-2022-03-23-07-54-39-930\",\"log_level\":20,\"master_hostname\":\"algo-1\",\"model_dir\":\"/opt/ml/model\",\"module_dir\":\"s3://sagemaker-us-west-2--000000000000/mxnet-training-2022-03-23-07-54-39-930/source/sourcedir.tar.gz\",\"module_name\":\"mnist\",\"network_interface_name\":\"eth0\",\"num_cpus\":4,\"num_gpus\":0,\"output_data_dir\":\"/opt/ml/output/data\",\"output_dir\":\"/opt/ml/output\",\"output_intermediate_dir\":\"/opt/ml/output/intermediate\",\"resource_config\":{\"current_group_name\":\"homogeneousCluster\",\"current_host\":\"algo-1\",\"current_instance_type\":\"ml.c4.xlarge\",\"hosts\":[\"algo-1\"],\"instance_groups\":[{\"hosts\":[\"algo-1\"],\"instance_group_name\":\"homogeneousCluster\",\"instance_type\":\"ml.c4.xlarge\"}],\"network_interface_name\":\"eth0\"},\"user_entry_point\":\"mnist.py\"}\u001b[0m\n",
      "\u001b[34mSM_USER_ARGS=[\"--batch-size\",\"100\",\"--epochs\",\"20\",\"--learning-rate\",\"0.1\",\"--log-interval\",\"100\",\"--momentum\",\"0.9\"]\u001b[0m\n",
      "\u001b[34mSM_OUTPUT_INTERMEDIATE_DIR=/opt/ml/output/intermediate\u001b[0m\n",
      "\u001b[34mSM_CHANNEL_TRAINING=/opt/ml/input/data/training\u001b[0m\n",
      "\u001b[34mSM_HP_BATCH-SIZE=100\u001b[0m\n",
      "\u001b[34mSM_HP_EPOCHS=20\u001b[0m\n",
      "\u001b[34mSM_HP_LEARNING-RATE=0.1\u001b[0m\n",
      "\u001b[34mSM_HP_LOG-INTERVAL=100\u001b[0m\n",
      "\u001b[34mSM_HP_MOMENTUM=0.9\u001b[0m\n",
      "\u001b[34mPYTHONPATH=/opt/ml/code:/usr/local/bin:/usr/local/lib/python36.zip:/usr/local/lib/python3.6:/usr/local/lib/python3.6/lib-dynload:/usr/local/lib/python3.6/site-packages\u001b[0m\n",
      "\u001b[34mInvoking script with the following command:\u001b[0m\n",
      "\u001b[34m/usr/local/bin/python3.6 mnist.py --batch-size 100 --epochs 20 --learning-rate 0.1 --log-interval 100 --momentum 0.9\u001b[0m\n",
      "\u001b[34m[2022-03-23 07:57:09.464 ip-10-0-198-189.us-west-2.compute.internal:17 INFO json_config.py:90] Creating hook from json_config at /opt/ml/input/config/debughookconfig.json.\u001b[0m\n",
      "\u001b[34m[2022-03-23 07:57:09.464 ip-10-0-198-189.us-west-2.compute.internal:17 INFO hook.py:193] tensorboard_dir has not been set for the hook. SMDebug will not be exporting tensorboard summaries.\u001b[0m\n",
      "\u001b[34m[2022-03-23 07:57:09.464 ip-10-0-198-189.us-west-2.compute.internal:17 INFO hook.py:238] Saving to /opt/ml/output/tensors\u001b[0m\n",
      "\u001b[34m[2022-03-23 07:57:09.464 ip-10-0-198-189.us-west-2.compute.internal:17 INFO state_store.py:67] The checkpoint config file /opt/ml/input/config/checkpointconfig.json does not exist.\u001b[0m\n",
      "\u001b[34m[2022-03-23 07:57:09.501 ip-10-0-198-189.us-west-2.compute.internal:17 INFO hook.py:398] Monitoring the collections: losses\u001b[0m\n",
      "\u001b[34m[2022-03-23 07:57:09.501 ip-10-0-198-189.us-west-2.compute.internal:17 INFO hook.py:461] Hook is writing from the hook with pid: 17\u001b[0m\n",
      "\u001b[34m[2022-03-23 07:57:09.513 ip-10-0-198-189.us-west-2.compute.internal:17 INFO hook.py:236] Registering hook for block softmaxcrossentropyloss0\u001b[0m\n",
      "\u001b[34mDEBUG:root:Writing metric: _RawMetricData(MetricName='softmaxcrossentropyloss0_output_0_GLOBAL',Value=2.3134372234344482,Timestamp=1648022229.5875843,IterationNumber=0)\u001b[0m\n",
      "\u001b[34mDEBUG:root:metrics_file_path=/opt/ml/output/metrics/sagemaker/17.json\u001b[0m\n",
      "\u001b[34m[Epoch 0 Batch 100] Training: accuracy=0.796238, 4593.125048 samples/s\u001b[0m\n",
      "\u001b[34m[Epoch 0 Batch 200] Training: accuracy=0.853881, 2686.744688 samples/s\u001b[0m\n"
     ]
    },
    {
     "name": "stdout",
     "output_type": "stream",
     "text": [
      "\u001b[34m[Epoch 0 Batch 300] Training: accuracy=0.881362, 3414.667188 samples/s\u001b[0m\n",
      "\u001b[34m[Epoch 0 Batch 400] Training: accuracy=0.896010, 3732.716302 samples/s\u001b[0m\n",
      "\u001b[34m[Epoch 0 Batch 500] Training: accuracy=0.906966, 2920.682139 samples/s\u001b[0m\n",
      "\u001b[34mDEBUG:root:Writing metric: _RawMetricData(MetricName='softmaxcrossentropyloss0_output_0_GLOBAL',Value=0.1377900093793869,Timestamp=1648022243.8896492,IterationNumber=500)\u001b[0m\n",
      "\u001b[34m[Epoch 0] Training: accuracy=0.915117\u001b[0m\n"
     ]
    },
    {
     "name": "stdout",
     "output_type": "stream",
     "text": [
      "\u001b[34m[Epoch 0] Validation: accuracy=0.955900\u001b[0m\n",
      "\u001b[34m[Epoch 1 Batch 100] Training: accuracy=0.964950, 3641.552714 samples/s\u001b[0m\n",
      "\u001b[34m[Epoch 1 Batch 200] Training: accuracy=0.965423, 4003.726613 samples/s\u001b[0m\n",
      "\u001b[34m[Epoch 1 Batch 300] Training: accuracy=0.964086, 2954.713180 samples/s\u001b[0m\n",
      "\u001b[34mDEBUG:root:Writing metric: _RawMetricData(MetricName='softmaxcrossentropyloss0_output_0_GLOBAL',Value=0.19525358080863953,Timestamp=1648022257.3968298,IterationNumber=1000)\u001b[0m\n"
     ]
    },
    {
     "name": "stdout",
     "output_type": "stream",
     "text": [
      "\u001b[34m[Epoch 1 Batch 400] Training: accuracy=0.964663, 3580.346229 samples/s\u001b[0m\n",
      "\u001b[34m[Epoch 1 Batch 500] Training: accuracy=0.964890, 3408.008320 samples/s\u001b[0m\n",
      "\u001b[34m[Epoch 1] Training: accuracy=0.965600\u001b[0m\n",
      "\u001b[34m[Epoch 1] Validation: accuracy=0.965700\u001b[0m\n"
     ]
    },
    {
     "name": "stdout",
     "output_type": "stream",
     "text": [
      "\u001b[34m[Epoch 2 Batch 100] Training: accuracy=0.974158, 3378.035501 samples/s\u001b[0m\n",
      "\u001b[34mDEBUG:root:Writing metric: _RawMetricData(MetricName='softmaxcrossentropyloss0_output_0_GLOBAL',Value=0.0719362199306488,Timestamp=1648022271.0410192,IterationNumber=1500)\u001b[0m\n",
      "\u001b[34m[Epoch 2 Batch 200] Training: accuracy=0.974677, 3375.724553 samples/s\u001b[0m\n",
      "\u001b[34m[Epoch 2 Batch 300] Training: accuracy=0.974684, 4006.250597 samples/s\u001b[0m\n",
      "\u001b[34m[Epoch 2 Batch 400] Training: accuracy=0.974539, 1842.653862 samples/s\u001b[0m\n"
     ]
    },
    {
     "name": "stdout",
     "output_type": "stream",
     "text": [
      "\u001b[34m[Epoch 2 Batch 500] Training: accuracy=0.974052, 1826.342007 samples/s\u001b[0m\n",
      "\u001b[34m[Epoch 2] Training: accuracy=0.973933\u001b[0m\n"
     ]
    },
    {
     "name": "stdout",
     "output_type": "stream",
     "text": [
      "\u001b[34m[Epoch 2] Validation: accuracy=0.971500\u001b[0m\n",
      "\u001b[34m[Epoch 3 Batch 100] Training: accuracy=0.983861, 3744.780544 samples/s\u001b[0m\n"
     ]
    },
    {
     "name": "stdout",
     "output_type": "stream",
     "text": [
      "\u001b[34m[Epoch 3 Batch 200] Training: accuracy=0.982090, 3856.653947 samples/s\u001b[0m\n",
      "\u001b[34m[Epoch 3 Batch 300] Training: accuracy=0.980365, 3236.995076 samples/s\u001b[0m\n"
     ]
    },
    {
     "name": "stdout",
     "output_type": "stream",
     "text": [
      "\u001b[34m[Epoch 3 Batch 400] Training: accuracy=0.980399, 3498.898019 samples/s\u001b[0m\n",
      "\u001b[34mDEBUG:root:Writing metric: _RawMetricData(MetricName='softmaxcrossentropyloss0_output_0_GLOBAL',Value=0.08068408071994781,Timestamp=1648022299.067164,IterationNumber=2500)\u001b[0m\n",
      "\u001b[34m[Epoch 3 Batch 500] Training: accuracy=0.980100, 3414.417011 samples/s\u001b[0m\n",
      "\u001b[34m[Epoch 3] Training: accuracy=0.979567\u001b[0m\n",
      "\u001b[34m[Epoch 3] Validation: accuracy=0.970200\u001b[0m\n"
     ]
    },
    {
     "name": "stdout",
     "output_type": "stream",
     "text": [
      "\u001b[34m[Epoch 4 Batch 100] Training: accuracy=0.986040, 3101.882885 samples/s\u001b[0m\n",
      "\u001b[34m[Epoch 4 Batch 200] Training: accuracy=0.985124, 3376.730107 samples/s\u001b[0m\n",
      "\u001b[34mDEBUG:root:Writing metric: _RawMetricData(MetricName='softmaxcrossentropyloss0_output_0_GLOBAL',Value=0.06839568167924881,Timestamp=1648022312.537904,IterationNumber=3000)\u001b[0m\n",
      "\u001b[34m[Epoch 4 Batch 300] Training: accuracy=0.984784, 3494.874722 samples/s\u001b[0m\n",
      "\u001b[34m[Epoch 4 Batch 400] Training: accuracy=0.982718, 4109.403719 samples/s\u001b[0m\n"
     ]
    },
    {
     "name": "stdout",
     "output_type": "stream",
     "text": [
      "\u001b[34m[Epoch 4 Batch 500] Training: accuracy=0.982954, 3752.754863 samples/s\u001b[0m\n",
      "\u001b[34m[Epoch 4] Training: accuracy=0.982833\u001b[0m\n",
      "\u001b[34m[Epoch 4] Validation: accuracy=0.974800\u001b[0m\n",
      "\u001b[34mDEBUG:root:Writing metric: _RawMetricData(MetricName='softmaxcrossentropyloss0_output_0_GLOBAL',Value=0.0037284144200384617,Timestamp=1648022326.200697,IterationNumber=3500)\u001b[0m\n",
      "\u001b[34m[Epoch 5 Batch 100] Training: accuracy=0.986931, 4160.561843 samples/s\u001b[0m\n"
     ]
    },
    {
     "name": "stdout",
     "output_type": "stream",
     "text": [
      "\u001b[34m[Epoch 5 Batch 200] Training: accuracy=0.986617, 3676.053919 samples/s\u001b[0m\n",
      "\u001b[34m[Epoch 5 Batch 300] Training: accuracy=0.986445, 3653.606739 samples/s\u001b[0m\n",
      "\u001b[34m[Epoch 5 Batch 400] Training: accuracy=0.985935, 3889.052286 samples/s\u001b[0m\n",
      "\u001b[34m[Epoch 5 Batch 500] Training: accuracy=0.985808, 2794.525951 samples/s\u001b[0m\n",
      "\u001b[34mDEBUG:root:Writing metric: _RawMetricData(MetricName='softmaxcrossentropyloss0_output_0_GLOBAL',Value=0.011886941269040108,Timestamp=1648022339.9397879,IterationNumber=4000)\u001b[0m\n"
     ]
    },
    {
     "name": "stdout",
     "output_type": "stream",
     "text": [
      "\u001b[34m[Epoch 5] Training: accuracy=0.985417\u001b[0m\n",
      "\u001b[34m[Epoch 5] Validation: accuracy=0.973300\u001b[0m\n",
      "\u001b[34m[Epoch 6 Batch 100] Training: accuracy=0.988812, 3781.411661 samples/s\u001b[0m\n",
      "\u001b[34m[Epoch 6 Batch 200] Training: accuracy=0.988308, 3706.754571 samples/s\u001b[0m\n"
     ]
    },
    {
     "name": "stdout",
     "output_type": "stream",
     "text": [
      "\u001b[34m[Epoch 6 Batch 300] Training: accuracy=0.987874, 3359.582205 samples/s\u001b[0m\n",
      "\u001b[34mDEBUG:root:Writing metric: _RawMetricData(MetricName='softmaxcrossentropyloss0_output_0_GLOBAL',Value=0.005238096229732037,Timestamp=1648022354.1628425,IterationNumber=4500)\u001b[0m\n",
      "\u001b[34m[Epoch 6 Batch 400] Training: accuracy=0.987157, 3352.251856 samples/s\u001b[0m\n",
      "\u001b[34m[Epoch 6 Batch 500] Training: accuracy=0.986946, 3042.657962 samples/s\u001b[0m\n",
      "\u001b[34m[Epoch 6] Training: accuracy=0.986233\u001b[0m\n"
     ]
    },
    {
     "name": "stdout",
     "output_type": "stream",
     "text": [
      "\u001b[34m[Epoch 6] Validation: accuracy=0.975200\u001b[0m\n",
      "\u001b[34m[Epoch 7 Batch 100] Training: accuracy=0.990594, 3065.048267 samples/s\u001b[0m\n",
      "\u001b[34mDEBUG:root:Writing metric: _RawMetricData(MetricName='softmaxcrossentropyloss0_output_0_GLOBAL',Value=0.026409585028886795,Timestamp=1648022367.8343725,IterationNumber=5000)\u001b[0m\n",
      "\u001b[34m[Epoch 7 Batch 200] Training: accuracy=0.989701, 3880.704287 samples/s\u001b[0m\n",
      "\u001b[34m[Epoch 7 Batch 300] Training: accuracy=0.989734, 4399.496518 samples/s\u001b[0m\n"
     ]
    },
    {
     "name": "stdout",
     "output_type": "stream",
     "text": [
      "\u001b[34m[Epoch 7 Batch 400] Training: accuracy=0.989476, 3178.803450 samples/s\u001b[0m\n",
      "\u001b[34m[Epoch 7 Batch 500] Training: accuracy=0.989222, 3301.145951 samples/s\u001b[0m\n"
     ]
    },
    {
     "name": "stdout",
     "output_type": "stream",
     "text": [
      "\u001b[34m[Epoch 7] Training: accuracy=0.988650\u001b[0m\n",
      "\u001b[34m[Epoch 7] Validation: accuracy=0.974000\u001b[0m\n",
      "\u001b[34m[Epoch 8 Batch 100] Training: accuracy=0.991980, 3548.630653 samples/s\u001b[0m\n",
      "\u001b[34m[Epoch 8 Batch 200] Training: accuracy=0.991045, 4172.689469 samples/s\u001b[0m\n"
     ]
    },
    {
     "name": "stdout",
     "output_type": "stream",
     "text": [
      "\u001b[34m[Epoch 8 Batch 300] Training: accuracy=0.990033, 3914.020959 samples/s\u001b[0m\n",
      "\u001b[34m[Epoch 8 Batch 400] Training: accuracy=0.989776, 3482.599887 samples/s\u001b[0m\n",
      "\u001b[34mDEBUG:root:Writing metric: _RawMetricData(MetricName='softmaxcrossentropyloss0_output_0_GLOBAL',Value=0.03058265894651413,Timestamp=1648022395.1215775,IterationNumber=6000)\u001b[0m\n",
      "\u001b[34m[Epoch 8 Batch 500] Training: accuracy=0.989780, 3883.327161 samples/s\u001b[0m\n",
      "\u001b[34m[Epoch 8] Training: accuracy=0.989767\u001b[0m\n"
     ]
    },
    {
     "name": "stdout",
     "output_type": "stream",
     "text": [
      "\u001b[34m[Epoch 8] Validation: accuracy=0.978000\u001b[0m\n",
      "\u001b[34m[Epoch 9 Batch 100] Training: accuracy=0.993762, 2699.332617 samples/s\u001b[0m\n",
      "\u001b[34m[Epoch 9 Batch 200] Training: accuracy=0.992637, 3815.709321 samples/s\u001b[0m\n",
      "\u001b[34mDEBUG:root:Writing metric: _RawMetricData(MetricName='softmaxcrossentropyloss0_output_0_GLOBAL',Value=0.0024082453455775976,Timestamp=1648022409.4629536,IterationNumber=6500)\u001b[0m\n",
      "\u001b[34m[Epoch 9 Batch 300] Training: accuracy=0.991894, 3673.188717 samples/s\u001b[0m\n"
     ]
    },
    {
     "name": "stdout",
     "output_type": "stream",
     "text": [
      "\u001b[34m[Epoch 9 Batch 400] Training: accuracy=0.991845, 3907.639562 samples/s\u001b[0m\n",
      "\u001b[34m[Epoch 9 Batch 500] Training: accuracy=0.991218, 3070.815457 samples/s\u001b[0m\n",
      "\u001b[34m[Epoch 9] Training: accuracy=0.990683\u001b[0m\n",
      "\u001b[34m[Epoch 9] Validation: accuracy=0.976100\u001b[0m\n",
      "\u001b[34mDEBUG:root:Writing metric: _RawMetricData(MetricName='softmaxcrossentropyloss0_output_0_GLOBAL',Value=0.00801093690097332,Timestamp=1648022423.0977414,IterationNumber=7000)\u001b[0m\n"
     ]
    },
    {
     "name": "stdout",
     "output_type": "stream",
     "text": [
      "\u001b[34m[Epoch 10 Batch 100] Training: accuracy=0.993663, 3864.720625 samples/s\u001b[0m\n",
      "\u001b[34m[Epoch 10 Batch 200] Training: accuracy=0.992587, 3616.995369 samples/s\u001b[0m\n",
      "\u001b[34m[Epoch 10 Batch 300] Training: accuracy=0.992558, 4137.006461 samples/s\u001b[0m\n",
      "\u001b[34m[Epoch 10 Batch 400] Training: accuracy=0.991671, 3603.384909 samples/s\u001b[0m\n"
     ]
    },
    {
     "name": "stdout",
     "output_type": "stream",
     "text": [
      "\u001b[34m[Epoch 10 Batch 500] Training: accuracy=0.991058, 2821.293369 samples/s\u001b[0m\n",
      "\u001b[34mDEBUG:root:Writing metric: _RawMetricData(MetricName='softmaxcrossentropyloss0_output_0_GLOBAL',Value=0.00041416086605750024,Timestamp=1648022437.0411632,IterationNumber=7500)\u001b[0m\n",
      "\u001b[34m[Epoch 10] Training: accuracy=0.990483\u001b[0m\n",
      "\u001b[34m[Epoch 10] Validation: accuracy=0.972200\u001b[0m\n",
      "\u001b[34m[Epoch 11 Batch 100] Training: accuracy=0.993465, 3742.474994 samples/s\u001b[0m\n"
     ]
    },
    {
     "name": "stdout",
     "output_type": "stream",
     "text": [
      "\u001b[34m[Epoch 11 Batch 200] Training: accuracy=0.994279, 3327.069947 samples/s\u001b[0m\n",
      "\u001b[34m[Epoch 11 Batch 300] Training: accuracy=0.994186, 3716.871815 samples/s\u001b[0m\n",
      "\u001b[34mDEBUG:root:Writing metric: _RawMetricData(MetricName='softmaxcrossentropyloss0_output_0_GLOBAL',Value=0.027302701026201248,Timestamp=1648022450.6376607,IterationNumber=8000)\u001b[0m\n"
     ]
    },
    {
     "name": "stdout",
     "output_type": "stream",
     "text": [
      "\u001b[34m[Epoch 11 Batch 400] Training: accuracy=0.994015, 3788.516046 samples/s\u001b[0m\n",
      "\u001b[34m[Epoch 11 Batch 500] Training: accuracy=0.993174, 3661.197092 samples/s\u001b[0m\n",
      "\u001b[34m[Epoch 11] Training: accuracy=0.992983\u001b[0m\n",
      "\u001b[34m[Epoch 11] Validation: accuracy=0.976000\u001b[0m\n"
     ]
    },
    {
     "name": "stdout",
     "output_type": "stream",
     "text": [
      "\u001b[34m[Epoch 12 Batch 100] Training: accuracy=0.994356, 3302.939671 samples/s\u001b[0m\n",
      "\u001b[34mDEBUG:root:Writing metric: _RawMetricData(MetricName='softmaxcrossentropyloss0_output_0_GLOBAL',Value=0.009794153273105621,Timestamp=1648022464.4427505,IterationNumber=8500)\u001b[0m\n",
      "\u001b[34m[Epoch 12 Batch 200] Training: accuracy=0.994129, 3465.221414 samples/s\u001b[0m\n",
      "\u001b[34m[Epoch 12 Batch 300] Training: accuracy=0.994252, 3787.968607 samples/s\u001b[0m\n",
      "\u001b[34m[Epoch 12 Batch 400] Training: accuracy=0.994214, 3853.358812 samples/s\u001b[0m\n"
     ]
    },
    {
     "name": "stdout",
     "output_type": "stream",
     "text": [
      "\u001b[34m[Epoch 12 Batch 500] Training: accuracy=0.993992, 3465.221414 samples/s\u001b[0m\n",
      "\u001b[34m[Epoch 12] Training: accuracy=0.993600\u001b[0m\n",
      "\u001b[34m[Epoch 12] Validation: accuracy=0.975200\u001b[0m\n",
      "\u001b[34m[Epoch 13 Batch 100] Training: accuracy=0.993069, 4021.191697 samples/s\u001b[0m\n"
     ]
    },
    {
     "name": "stdout",
     "output_type": "stream",
     "text": [
      "\u001b[34m[Epoch 13 Batch 200] Training: accuracy=0.993184, 3533.592815 samples/s\u001b[0m\n",
      "\u001b[34m[Epoch 13 Batch 300] Training: accuracy=0.992990, 3987.587466 samples/s\u001b[0m\n",
      "\u001b[34m[Epoch 13 Batch 400] Training: accuracy=0.993167, 3315.812608 samples/s\u001b[0m\n",
      "\u001b[34mDEBUG:root:Writing metric: _RawMetricData(MetricName='softmaxcrossentropyloss0_output_0_GLOBAL',Value=0.015867849811911583,Timestamp=1648022492.3159711,IterationNumber=9500)\u001b[0m\n",
      "\u001b[34m[Epoch 13 Batch 500] Training: accuracy=0.993094, 3835.598800 samples/s\u001b[0m\n"
     ]
    },
    {
     "name": "stdout",
     "output_type": "stream",
     "text": [
      "\u001b[34m[Epoch 13] Training: accuracy=0.992783\u001b[0m\n",
      "\u001b[34m[Epoch 13] Validation: accuracy=0.974300\u001b[0m\n",
      "\u001b[34m[Epoch 14 Batch 100] Training: accuracy=0.995446, 3193.470382 samples/s\u001b[0m\n",
      "\u001b[34m[Epoch 14 Batch 200] Training: accuracy=0.995174, 2992.063118 samples/s\u001b[0m\n",
      "\u001b[34mDEBUG:root:Writing metric: _RawMetricData(MetricName='softmaxcrossentropyloss0_output_0_GLOBAL',Value=0.00028366997139528394,Timestamp=1648022506.0326982,IterationNumber=10000)\u001b[0m\n"
     ]
    },
    {
     "name": "stdout",
     "output_type": "stream",
     "text": [
      "\u001b[34m[Epoch 14 Batch 300] Training: accuracy=0.994252, 3367.296082 samples/s\u001b[0m\n",
      "\u001b[34m[Epoch 14 Batch 400] Training: accuracy=0.992494, 3239.820486 samples/s\u001b[0m\n",
      "\u001b[34m[Epoch 14 Batch 500] Training: accuracy=0.992575, 3722.182386 samples/s\u001b[0m\n",
      "\u001b[34m[Epoch 14] Training: accuracy=0.992500\u001b[0m\n"
     ]
    },
    {
     "name": "stdout",
     "output_type": "stream",
     "text": [
      "\u001b[34m[Epoch 14] Validation: accuracy=0.973600\u001b[0m\n",
      "\u001b[34mDEBUG:root:Writing metric: _RawMetricData(MetricName='softmaxcrossentropyloss0_output_0_GLOBAL',Value=0.004581619519740343,Timestamp=1648022519.7828562,IterationNumber=10500)\u001b[0m\n",
      "\u001b[34m[Epoch 15 Batch 100] Training: accuracy=0.995149, 3022.660383 samples/s\u001b[0m\n",
      "\u001b[34m[Epoch 15 Batch 200] Training: accuracy=0.994279, 3828.351847 samples/s\u001b[0m\n",
      "\u001b[34m[Epoch 15 Batch 300] Training: accuracy=0.993787, 3285.964761 samples/s\u001b[0m\n"
     ]
    },
    {
     "name": "stdout",
     "output_type": "stream",
     "text": [
      "\u001b[34m[Epoch 15 Batch 400] Training: accuracy=0.993342, 4193.633019 samples/s\u001b[0m\n",
      "\u001b[34m[Epoch 15 Batch 500] Training: accuracy=0.993273, 2983.337482 samples/s\u001b[0m\n",
      "\u001b[34mDEBUG:root:Writing metric: _RawMetricData(MetricName='softmaxcrossentropyloss0_output_0_GLOBAL',Value=0.060168810188770294,Timestamp=1648022534.2602084,IterationNumber=11000)\u001b[0m\n",
      "\u001b[34m[Epoch 15] Training: accuracy=0.992850\u001b[0m\n",
      "\u001b[34m[Epoch 15] Validation: accuracy=0.978500\u001b[0m\n"
     ]
    },
    {
     "name": "stdout",
     "output_type": "stream",
     "text": [
      "\u001b[34m[Epoch 16 Batch 100] Training: accuracy=0.993861, 4164.114172 samples/s\u001b[0m\n",
      "\u001b[34m[Epoch 16 Batch 200] Training: accuracy=0.993383, 3074.709888 samples/s\u001b[0m\n",
      "\u001b[34m[Epoch 16 Batch 300] Training: accuracy=0.993821, 2943.247302 samples/s\u001b[0m\n",
      "\u001b[34mDEBUG:root:Writing metric: _RawMetricData(MetricName='softmaxcrossentropyloss0_output_0_GLOBAL',Value=0.040136903524398804,Timestamp=1648022548.0676773,IterationNumber=11500)\u001b[0m\n",
      "\u001b[34m[Epoch 16 Batch 400] Training: accuracy=0.993392, 3901.024945 samples/s\u001b[0m\n"
     ]
    },
    {
     "name": "stdout",
     "output_type": "stream",
     "text": [
      "\u001b[34m[Epoch 16 Batch 500] Training: accuracy=0.993693, 3618.493180 samples/s\u001b[0m\n",
      "\u001b[34m[Epoch 16] Training: accuracy=0.993650\u001b[0m\n",
      "\u001b[34m[Epoch 16] Validation: accuracy=0.976600\u001b[0m\n",
      "\u001b[34m[Epoch 17 Batch 100] Training: accuracy=0.994851, 3351.582177 samples/s\u001b[0m\n",
      "\u001b[34mDEBUG:root:Writing metric: _RawMetricData(MetricName='softmaxcrossentropyloss0_output_0_GLOBAL',Value=0.006299780216068029,Timestamp=1648022561.7970061,IterationNumber=12000)\u001b[0m\n"
     ]
    },
    {
     "name": "stdout",
     "output_type": "stream",
     "text": [
      "\u001b[34m[Epoch 17 Batch 200] Training: accuracy=0.994129, 3180.780198 samples/s\u001b[0m\n",
      "\u001b[34m[Epoch 17 Batch 300] Training: accuracy=0.994186, 3114.990828 samples/s\u001b[0m\n"
     ]
    },
    {
     "name": "stdout",
     "output_type": "stream",
     "text": [
      "\u001b[34m[Epoch 17 Batch 400] Training: accuracy=0.993990, 3512.464409 samples/s\u001b[0m\n",
      "\u001b[34m[Epoch 17 Batch 500] Training: accuracy=0.994351, 3441.564921 samples/s\u001b[0m\n",
      "\u001b[34m[Epoch 17] Training: accuracy=0.994283\u001b[0m\n",
      "\u001b[34m[Epoch 17] Validation: accuracy=0.976300\u001b[0m\n"
     ]
    },
    {
     "name": "stdout",
     "output_type": "stream",
     "text": [
      "\u001b[34m[Epoch 18 Batch 100] Training: accuracy=0.994158, 3588.617191 samples/s\u001b[0m\n",
      "\u001b[34m[Epoch 18 Batch 200] Training: accuracy=0.994478, 3818.836040 samples/s\u001b[0m\n",
      "\u001b[34m[Epoch 18 Batch 300] Training: accuracy=0.994884, 2655.732141 samples/s\u001b[0m\n",
      "\u001b[34m[Epoch 18 Batch 400] Training: accuracy=0.994613, 3155.438863 samples/s\u001b[0m\n",
      "\u001b[34mDEBUG:root:Writing metric: _RawMetricData(MetricName='softmaxcrossentropyloss0_output_0_GLOBAL',Value=0.005062229465693235,Timestamp=1648022589.8933344,IterationNumber=13000)\u001b[0m\n"
     ]
    },
    {
     "name": "stdout",
     "output_type": "stream",
     "text": [
      "\u001b[34m[Epoch 18 Batch 500] Training: accuracy=0.994551, 4058.545648 samples/s\u001b[0m\n",
      "\u001b[34m[Epoch 18] Training: accuracy=0.994583\u001b[0m\n",
      "\u001b[34m[Epoch 18] Validation: accuracy=0.975700\u001b[0m\n",
      "\u001b[34m[Epoch 19 Batch 100] Training: accuracy=0.993762, 3361.143700 samples/s\u001b[0m\n"
     ]
    },
    {
     "name": "stdout",
     "output_type": "stream",
     "text": [
      "\u001b[34m[Epoch 19 Batch 200] Training: accuracy=0.992637, 3635.492455 samples/s\u001b[0m\n",
      "\u001b[34mDEBUG:root:Writing metric: _RawMetricData(MetricName='softmaxcrossentropyloss0_output_0_GLOBAL',Value=0.029170282185077667,Timestamp=1648022603.4832957,IterationNumber=13500)\u001b[0m\n",
      "\u001b[34m[Epoch 19 Batch 300] Training: accuracy=0.992990, 3300.107006 samples/s\u001b[0m\n",
      "\u001b[34m[Epoch 19 Batch 400] Training: accuracy=0.992843, 4220.598328 samples/s\u001b[0m\n",
      "\u001b[34m[Epoch 19 Batch 500] Training: accuracy=0.992774, 4017.840448 samples/s\u001b[0m\n"
     ]
    },
    {
     "name": "stdout",
     "output_type": "stream",
     "text": [
      "\u001b[34m[Epoch 19] Training: accuracy=0.993233\u001b[0m\n",
      "\u001b[34m[Epoch 19] Validation: accuracy=0.974200\u001b[0m\n",
      "\u001b[34m2022-03-23 08:03:37,297 sagemaker-training-toolkit INFO     Reporting training SUCCESS\u001b[0m\n"
     ]
    },
    {
     "name": "stdout",
     "output_type": "stream",
     "text": [
      "\n",
      "2022-03-23 08:03:50 Uploading - Uploading generated training model\n",
      "2022-03-23 08:03:50 Completed - Training job completed\n"
     ]
    },
    {
     "name": "stdout",
     "output_type": "stream",
     "text": [
      "Training seconds: 459\n",
      "Billable seconds: 459\n"
     ]
    }
   ],
   "source": [
    "m.fit(inputs)"
   ]
  },
  {
   "cell_type": "markdown",
   "id": "5993718d",
   "metadata": {
    "papermill": {
     "duration": 0.034744,
     "end_time": "2022-03-23T08:04:09.238637",
     "exception": false,
     "start_time": "2022-03-23T08:04:09.203893",
     "status": "completed"
    },
    "tags": []
   },
   "source": [
    "After training, we use the MXNet object to build and deploy an MXNetPredictor object. This creates a SageMaker endpoint that we can use to perform inference. \n",
    "\n",
    "This allows us to perform inference on json encoded multi-dimensional arrays. "
   ]
  },
  {
   "cell_type": "code",
   "execution_count": 8,
   "id": "9af25c4e",
   "metadata": {
    "execution": {
     "iopub.execute_input": "2022-03-23T08:04:09.312989Z",
     "iopub.status.busy": "2022-03-23T08:04:09.312313Z",
     "iopub.status.idle": "2022-03-23T08:07:11.012209Z",
     "shell.execute_reply": "2022-03-23T08:07:11.012720Z"
    },
    "papermill": {
     "duration": 181.739661,
     "end_time": "2022-03-23T08:07:11.012872",
     "exception": false,
     "start_time": "2022-03-23T08:04:09.273211",
     "status": "completed"
    },
    "scrolled": true,
    "tags": []
   },
   "outputs": [
    {
     "name": "stdout",
     "output_type": "stream",
     "text": [
      "-"
     ]
    },
    {
     "name": "stdout",
     "output_type": "stream",
     "text": [
      "-"
     ]
    },
    {
     "name": "stdout",
     "output_type": "stream",
     "text": [
      "-"
     ]
    },
    {
     "name": "stdout",
     "output_type": "stream",
     "text": [
      "-"
     ]
    },
    {
     "name": "stdout",
     "output_type": "stream",
     "text": [
      "-"
     ]
    },
    {
     "name": "stdout",
     "output_type": "stream",
     "text": [
      "-"
     ]
    },
    {
     "name": "stdout",
     "output_type": "stream",
     "text": [
      "!"
     ]
    }
   ],
   "source": [
    "predictor = m.deploy(initial_instance_count=1, instance_type=\"ml.m4.xlarge\")"
   ]
  },
  {
   "cell_type": "markdown",
   "id": "887e9e46",
   "metadata": {
    "papermill": {
     "duration": 0.0369,
     "end_time": "2022-03-23T08:07:11.086928",
     "exception": false,
     "start_time": "2022-03-23T08:07:11.050028",
     "status": "completed"
    },
    "tags": []
   },
   "source": [
    "We can now use this predictor to classify hand-written digits. Manually drawing into the image box loads the pixel data into a 'data' variable in this notebook, which we can then pass to the MXNet predictor. "
   ]
  },
  {
   "cell_type": "code",
   "execution_count": 9,
   "id": "866c6277",
   "metadata": {
    "execution": {
     "iopub.execute_input": "2022-03-23T08:07:11.172915Z",
     "iopub.status.busy": "2022-03-23T08:07:11.172105Z",
     "iopub.status.idle": "2022-03-23T08:07:11.175186Z",
     "shell.execute_reply": "2022-03-23T08:07:11.175626Z"
    },
    "papermill": {
     "duration": 0.051604,
     "end_time": "2022-03-23T08:07:11.175771",
     "exception": false,
     "start_time": "2022-03-23T08:07:11.124167",
     "status": "completed"
    },
    "tags": []
   },
   "outputs": [
    {
     "data": {
      "text/html": [
       "<script type=\"text/Javascript\">\n",
       "    var pixels = [];\n",
       "    for (var i = 0; i < 28*28; i++) pixels[i] = 0;\n",
       "    var click = 0;\n",
       "\n",
       "    var canvas = document.querySelector(\"canvas\");\n",
       "    canvas.addEventListener(\"mousemove\", function(e){\n",
       "        if (e.buttons == 1) {\n",
       "            click = 1;\n",
       "            canvas.getContext(\"2d\").fillStyle = \"rgb(0,0,0)\";\n",
       "            canvas.getContext(\"2d\").fillRect(e.offsetX, e.offsetY, 8, 8);\n",
       "            x = Math.floor(e.offsetY * 0.2);\n",
       "            y = Math.floor(e.offsetX * 0.2) + 1;\n",
       "            for (var dy = 0; dy < 2; dy++){\n",
       "                for (var dx = 0; dx < 2; dx++){\n",
       "                    if ((x + dx < 28) && (y + dy < 28)){\n",
       "                        pixels[(y+dy)+(x+dx)*28] = 1;\n",
       "                    }\n",
       "                }\n",
       "            }\n",
       "        } else {\n",
       "            if (click == 1) set_value();\n",
       "            click = 0;\n",
       "        }\n",
       "    });\n",
       "    function clear_value(){\n",
       "        canvas.getContext(\"2d\").fillStyle = \"rgb(255,255,255)\";\n",
       "        canvas.getContext(\"2d\").fillRect(0, 0, 140, 140);\n",
       "        for (var i = 0; i < 28*28; i++) pixels[i] = 0;\n",
       "    }\n",
       "    \n",
       "    function set_value(){\n",
       "        var result = \"[[\"\n",
       "        for (var i = 0; i < 28; i++) {\n",
       "            result += \"[\"\n",
       "            for (var j = 0; j < 28; j++) {\n",
       "                result += pixels [i * 28 + j]\n",
       "                if (j < 27) {\n",
       "                    result += \", \"\n",
       "                }\n",
       "            }\n",
       "            result += \"]\"\n",
       "            if (i < 27) {\n",
       "                result += \", \"\n",
       "            }\n",
       "        }\n",
       "        result += \"]]\"\n",
       "        var kernel = IPython.notebook.kernel;\n",
       "        kernel.execute(\"data = \" + result)\n",
       "    }\n",
       "</script>\n",
       "<table>\n",
       "<td style=\"border-style: none;\">\n",
       "<div style=\"border: solid 2px #666; width: 143px; height: 144px;\">\n",
       "<canvas width=\"140\" height=\"140\"></canvas>\n",
       "</div></td>\n",
       "<td style=\"border-style: none;\">\n",
       "<button onclick=\"clear_value()\">Clear</button>\n",
       "</td>\n",
       "</table>\n",
       "\n",
       "<!-- This work has been modified from the original and is licensed under the Apache 2.0 License. -->\n",
       "\n",
       "<!--\n",
       "                                     Apache License\n",
       "                           Version 2.0, January 2004\n",
       "                        http://www.apache.org/licenses/\n",
       "\n",
       "   TERMS AND CONDITIONS FOR USE, REPRODUCTION, AND DISTRIBUTION\n",
       "\n",
       "   1. Definitions.\n",
       "\n",
       "      \"License\" shall mean the terms and conditions for use, reproduction,\n",
       "      and distribution as defined by Sections 1 through 9 of this document.\n",
       "\n",
       "      \"Licensor\" shall mean the copyright owner or entity authorized by\n",
       "      the copyright owner that is granting the License.\n",
       "\n",
       "      \"Legal Entity\" shall mean the union of the acting entity and all\n",
       "      other entities that control, are controlled by, or are under common\n",
       "      control with that entity. For the purposes of this definition,\n",
       "      \"control\" means (i) the power, direct or indirect, to cause the\n",
       "      direction or management of such entity, whether by contract or\n",
       "      otherwise, or (ii) ownership of fifty percent (50%) or more of the\n",
       "      outstanding shares, or (iii) beneficial ownership of such entity.\n",
       "\n",
       "      \"You\" (or \"Your\") shall mean an individual or Legal Entity\n",
       "      exercising permissions granted by this License.\n",
       "\n",
       "      \"Source\" form shall mean the preferred form for making modifications,\n",
       "      including but not limited to software source code, documentation\n",
       "      source, and configuration files.\n",
       "\n",
       "      \"Object\" form shall mean any form resulting from mechanical\n",
       "      transformation or translation of a Source form, including but\n",
       "      not limited to compiled object code, generated documentation,\n",
       "      and conversions to other media types.\n",
       "\n",
       "      \"Work\" shall mean the work of authorship, whether in Source or\n",
       "      Object form, made available under the License, as indicated by a\n",
       "      copyright notice that is included in or attached to the work\n",
       "      (an example is provided in the Appendix below).\n",
       "\n",
       "      \"Derivative Works\" shall mean any work, whether in Source or Object\n",
       "      form, that is based on (or derived from) the Work and for which the\n",
       "      editorial revisions, annotations, elaborations, or other modifications\n",
       "      represent, as a whole, an original work of authorship. For the purposes\n",
       "      of this License, Derivative Works shall not include works that remain\n",
       "      separable from, or merely link (or bind by name) to the interfaces of,\n",
       "      the Work and Derivative Works thereof.\n",
       "\n",
       "      \"Contribution\" shall mean any work of authorship, including\n",
       "      the original version of the Work and any modifications or additions\n",
       "      to that Work or Derivative Works thereof, that is intentionally\n",
       "      submitted to Licensor for inclusion in the Work by the copyright owner\n",
       "      or by an individual or Legal Entity authorized to submit on behalf of\n",
       "      the copyright owner. For the purposes of this definition, \"submitted\"\n",
       "      means any form of electronic, verbal, or written communication sent\n",
       "      to the Licensor or its representatives, including but not limited to\n",
       "      communication on electronic mailing lists, source code control systems,\n",
       "      and issue tracking systems that are managed by, or on behalf of, the\n",
       "      Licensor for the purpose of discussing and improving the Work, but\n",
       "      excluding communication that is conspicuously marked or otherwise\n",
       "      designated in writing by the copyright owner as \"Not a Contribution.\"\n",
       "\n",
       "      \"Contributor\" shall mean Licensor and any individual or Legal Entity\n",
       "      on behalf of whom a Contribution has been received by Licensor and\n",
       "      subsequently incorporated within the Work.\n",
       "\n",
       "   2. Grant of Copyright License. Subject to the terms and conditions of\n",
       "      this License, each Contributor hereby grants to You a perpetual,\n",
       "      worldwide, non-exclusive, no-charge, royalty-free, irrevocable\n",
       "      copyright license to reproduce, prepare Derivative Works of,\n",
       "      publicly display, publicly perform, sublicense, and distribute the\n",
       "      Work and such Derivative Works in Source or Object form.\n",
       "\n",
       "   3. Grant of Patent License. Subject to the terms and conditions of\n",
       "      this License, each Contributor hereby grants to You a perpetual,\n",
       "      worldwide, non-exclusive, no-charge, royalty-free, irrevocable\n",
       "      (except as stated in this section) patent license to make, have made,\n",
       "      use, offer to sell, sell, import, and otherwise transfer the Work,\n",
       "      where such license applies only to those patent claims licensable\n",
       "      by such Contributor that are necessarily infringed by their\n",
       "      Contribution(s) alone or by combination of their Contribution(s)\n",
       "      with the Work to which such Contribution(s) was submitted. If You\n",
       "      institute patent litigation against any entity (including a\n",
       "      cross-claim or counterclaim in a lawsuit) alleging that the Work\n",
       "      or a Contribution incorporated within the Work constitutes direct\n",
       "      or contributory patent infringement, then any patent licenses\n",
       "      granted to You under this License for that Work shall terminate\n",
       "      as of the date such litigation is filed.\n",
       "\n",
       "   4. Redistribution. You may reproduce and distribute copies of the\n",
       "      Work or Derivative Works thereof in any medium, with or without\n",
       "      modifications, and in Source or Object form, provided that You\n",
       "      meet the following conditions:\n",
       "\n",
       "      (a) You must give any other recipients of the Work or\n",
       "          Derivative Works a copy of this License; and\n",
       "\n",
       "      (b) You must cause any modified files to carry prominent notices\n",
       "          stating that You changed the files; and\n",
       "\n",
       "      (c) You must retain, in the Source form of any Derivative Works\n",
       "          that You distribute, all copyright, patent, trademark, and\n",
       "          attribution notices from the Source form of the Work,\n",
       "          excluding those notices that do not pertain to any part of\n",
       "          the Derivative Works; and\n",
       "\n",
       "      (d) If the Work includes a \"NOTICE\" text file as part of its\n",
       "          distribution, then any Derivative Works that You distribute must\n",
       "          include a readable copy of the attribution notices contained\n",
       "          within such NOTICE file, excluding those notices that do not\n",
       "          pertain to any part of the Derivative Works, in at least one\n",
       "          of the following places: within a NOTICE text file distributed\n",
       "          as part of the Derivative Works; within the Source form or\n",
       "          documentation, if provided along with the Derivative Works; or,\n",
       "          within a display generated by the Derivative Works, if and\n",
       "          wherever such third-party notices normally appear. The contents\n",
       "          of the NOTICE file are for informational purposes only and\n",
       "          do not modify the License. You may add Your own attribution\n",
       "          notices within Derivative Works that You distribute, alongside\n",
       "          or as an addendum to the NOTICE text from the Work, provided\n",
       "          that such additional attribution notices cannot be construed\n",
       "          as modifying the License.\n",
       "\n",
       "      You may add Your own copyright statement to Your modifications and\n",
       "      may provide additional or different license terms and conditions\n",
       "      for use, reproduction, or distribution of Your modifications, or\n",
       "      for any such Derivative Works as a whole, provided Your use,\n",
       "      reproduction, and distribution of the Work otherwise complies with\n",
       "      the conditions stated in this License.\n",
       "\n",
       "   5. Submission of Contributions. Unless You explicitly state otherwise,\n",
       "      any Contribution intentionally submitted for inclusion in the Work\n",
       "      by You to the Licensor shall be under the terms and conditions of\n",
       "      this License, without any additional terms or conditions.\n",
       "      Notwithstanding the above, nothing herein shall supersede or modify\n",
       "      the terms of any separate license agreement you may have executed\n",
       "      with Licensor regarding such Contributions.\n",
       "\n",
       "   6. Trademarks. This License does not grant permission to use the trade\n",
       "      names, trademarks, service marks, or product names of the Licensor,\n",
       "      except as required for reasonable and customary use in describing the\n",
       "      origin of the Work and reproducing the content of the NOTICE file.\n",
       "\n",
       "   7. Disclaimer of Warranty. Unless required by applicable law or\n",
       "      agreed to in writing, Licensor provides the Work (and each\n",
       "      Contributor provides its Contributions) on an \"AS IS\" BASIS,\n",
       "      WITHOUT WARRANTIES OR CONDITIONS OF ANY KIND, either express or\n",
       "      implied, including, without limitation, any warranties or conditions\n",
       "      of TITLE, NON-INFRINGEMENT, MERCHANTABILITY, or FITNESS FOR A\n",
       "      PARTICULAR PURPOSE. You are solely responsible for determining the\n",
       "      appropriateness of using or redistributing the Work and assume any\n",
       "      risks associated with Your exercise of permissions under this License.\n",
       "\n",
       "   8. Limitation of Liability. In no event and under no legal theory,\n",
       "      whether in tort (including negligence), contract, or otherwise,\n",
       "      unless required by applicable law (such as deliberate and grossly\n",
       "      negligent acts) or agreed to in writing, shall any Contributor be\n",
       "      liable to You for damages, including any direct, indirect, special,\n",
       "      incidental, or consequential damages of any character arising as a\n",
       "      result of this License or out of the use or inability to use the\n",
       "      Work (including but not limited to damages for loss of goodwill,\n",
       "      work stoppage, computer failure or malfunction, or any and all\n",
       "      other commercial damages or losses), even if such Contributor\n",
       "      has been advised of the possibility of such damages.\n",
       "\n",
       "   9. Accepting Warranty or Additional Liability. While redistributing\n",
       "      the Work or Derivative Works thereof, You may choose to offer,\n",
       "      and charge a fee for, acceptance of support, warranty, indemnity,\n",
       "      or other liability obligations and/or rights consistent with this\n",
       "      License. However, in accepting such obligations, You may act only\n",
       "      on Your own behalf and on Your sole responsibility, not on behalf\n",
       "      of any other Contributor, and only if You agree to indemnify,\n",
       "      defend, and hold each Contributor harmless for any liability\n",
       "      incurred by, or claims asserted against, such Contributor by reason\n",
       "      of your accepting any such warranty or additional liability.\n",
       "\n",
       "   END OF TERMS AND CONDITIONS\n",
       "\n",
       "   APPENDIX: How to apply the Apache License to your work.\n",
       "\n",
       "      To apply the Apache License to your work, attach the following\n",
       "      boilerplate notice, with the fields enclosed by brackets \"{}\"\n",
       "      replaced with your own identifying information. (Don't include\n",
       "      the brackets!)  The text should be enclosed in the appropriate\n",
       "      comment syntax for the file format. We also recommend that a\n",
       "      file or class name and description of purpose be included on the\n",
       "      same \"printed page\" as the copyright notice for easier\n",
       "      identification within third-party archives.\n",
       "\n",
       "   Copyright {yyyy} {name of copyright owner}\n",
       "\n",
       "   Licensed under the Apache License, Version 2.0 (the \"License\");\n",
       "   you may not use this file except in compliance with the License.\n",
       "   You may obtain a copy of the License at\n",
       "\n",
       "       http://www.apache.org/licenses/LICENSE-2.0\n",
       "\n",
       "   Unless required by applicable law or agreed to in writing, software\n",
       "   distributed under the License is distributed on an \"AS IS\" BASIS,\n",
       "   WITHOUT WARRANTIES OR CONDITIONS OF ANY KIND, either express or implied.\n",
       "   See the License for the specific language governing permissions and\n",
       "   limitations under the License.\n",
       "-->\n",
       "\n",
       "\n",
       "\n"
      ],
      "text/plain": [
       "<IPython.core.display.HTML object>"
      ]
     },
     "execution_count": 9,
     "metadata": {},
     "output_type": "execute_result"
    }
   ],
   "source": [
    "from IPython.display import HTML\n",
    "\n",
    "HTML(open(\"input.html\").read())"
   ]
  },
  {
   "cell_type": "markdown",
   "id": "47f2724d",
   "metadata": {
    "papermill": {
     "duration": 0.037719,
     "end_time": "2022-03-23T08:07:11.251808",
     "exception": false,
     "start_time": "2022-03-23T08:07:11.214089",
     "status": "completed"
    },
    "tags": []
   },
   "source": [
    "Fetch the first image from the test dataset and display it."
   ]
  },
  {
   "cell_type": "code",
   "execution_count": 10,
   "id": "29854e83",
   "metadata": {
    "execution": {
     "iopub.execute_input": "2022-03-23T08:07:11.334434Z",
     "iopub.status.busy": "2022-03-23T08:07:11.333524Z",
     "iopub.status.idle": "2022-03-23T08:07:11.548862Z",
     "shell.execute_reply": "2022-03-23T08:07:11.549312Z"
    },
    "papermill": {
     "duration": 0.259728,
     "end_time": "2022-03-23T08:07:11.549469",
     "exception": false,
     "start_time": "2022-03-23T08:07:11.289741",
     "status": "completed"
    },
    "tags": []
   },
   "outputs": [
    {
     "data": {
      "image/png": "[encoded data removed]",
      "text/plain": [
       "<Figure size 432x288 with 1 Axes>"
      ]
     },
     "metadata": {
      "needs_background": "light"
     },
     "output_type": "display_data"
    }
   ],
   "source": [
    "import gzip\n",
    "import numpy as np\n",
    "import matplotlib.pyplot as plt\n",
    "\n",
    "f = gzip.open(\"data/train/train-images-idx3-ubyte.gz\", \"r\")\n",
    "\n",
    "image_size = 28\n",
    "\n",
    "f.read(16)\n",
    "buf = f.read(image_size * image_size)\n",
    "data = np.frombuffer(buf, dtype=np.uint8).astype(np.float32)\n",
    "data = data.reshape(1, image_size, image_size, 1)\n",
    "\n",
    "image = np.asarray(data).squeeze()\n",
    "plt.imshow(image)\n",
    "plt.show()"
   ]
  },
  {
   "cell_type": "markdown",
   "id": "ab9cfcd1",
   "metadata": {
    "papermill": {
     "duration": 0.039764,
     "end_time": "2022-03-23T08:07:11.627963",
     "exception": false,
     "start_time": "2022-03-23T08:07:11.588199",
     "status": "completed"
    },
    "tags": []
   },
   "source": [
    "The predictor runs inference on our input data and returns the predicted digit (as a float value, so we convert to int for display)."
   ]
  },
  {
   "cell_type": "code",
   "execution_count": 11,
   "id": "1e1ab85e",
   "metadata": {
    "execution": {
     "iopub.execute_input": "2022-03-23T08:07:11.712491Z",
     "iopub.status.busy": "2022-03-23T08:07:11.711785Z",
     "iopub.status.idle": "2022-03-23T08:07:11.882773Z",
     "shell.execute_reply": "2022-03-23T08:07:11.883229Z"
    },
    "papermill": {
     "duration": 0.216583,
     "end_time": "2022-03-23T08:07:11.883381",
     "exception": false,
     "start_time": "2022-03-23T08:07:11.666798",
     "status": "completed"
    },
    "scrolled": true,
    "tags": []
   },
   "outputs": [
    {
     "name": "stdout",
     "output_type": "stream",
     "text": [
      "5\n"
     ]
    }
   ],
   "source": [
    "response = predictor.predict(data)\n",
    "print(int(response))"
   ]
  },
  {
   "cell_type": "markdown",
   "id": "5d7be221",
   "metadata": {
    "papermill": {
     "duration": 0.03893,
     "end_time": "2022-03-23T08:07:11.961415",
     "exception": false,
     "start_time": "2022-03-23T08:07:11.922485",
     "status": "completed"
    },
    "tags": []
   },
   "source": [
    "## Cleanup\n",
    "\n",
    "After you have finished with this example, remember to delete the prediction endpoint to release the instance(s) associated with it."
   ]
  },
  {
   "cell_type": "code",
   "execution_count": 12,
   "id": "8b6f805a",
   "metadata": {
    "execution": {
     "iopub.execute_input": "2022-03-23T08:07:12.044613Z",
     "iopub.status.busy": "2022-03-23T08:07:12.043933Z",
     "iopub.status.idle": "2022-03-23T08:07:12.338060Z",
     "shell.execute_reply": "2022-03-23T08:07:12.338531Z"
    },
    "papermill": {
     "duration": 0.338396,
     "end_time": "2022-03-23T08:07:12.338689",
     "exception": false,
     "start_time": "2022-03-23T08:07:12.000293",
     "status": "completed"
    },
    "tags": []
   },
   "outputs": [],
   "source": [
    "predictor.delete_endpoint()"
   ]
  }
 ],
 "metadata": {
  "kernelspec": {
   "display_name": "conda_mxnet_p36",
   "language": "python",
   "name": "conda_mxnet_p36"
  },
  "language_info": {
   "codemirror_mode": {
    "name": "ipython",
    "version": 3
   },
   "file_extension": ".py",
   "mimetype": "text/x-python",
   "name": "python",
   "nbconvert_exporter": "python",
   "pygments_lexer": "ipython3",
   "version": "3.7.10"
  },
  "notice": "Copyright 2017 Amazon.com, Inc. or its affiliates. All Rights Reserved.  Licensed under the Apache License, Version 2.0 (the \"License\"). You may not use this file except in compliance with the License. A copy of the License is located at http://aws.amazon.com/apache2.0/ or in the \"license\" file accompanying this file. This file is distributed on an \"AS IS\" BASIS, WITHOUT WARRANTIES OR CONDITIONS OF ANY KIND, either express or implied. See the License for the specific language governing permissions and limitations under the License.",
  "papermill": {
   "default_parameters": {},
   "duration": 759.725438,
   "end_time": "2022-03-23T08:07:12.897912",
   "environment_variables": {},
   "exception": null,
   "input_path": "mxnet_mnist_with_gluon.ipynb",
   "output_path": "/opt/ml/processing/output/mxnet_mnist_with_gluon-2022-03-23-07-50-04.ipynb",
   "parameters": {
    "kms_key": "arn:aws:kms:us-west-2:000000000000:1234abcd-12ab-34cd-56ef-1234567890ab"
   },
   "start_time": "2022-03-23T07:54:33.172474",
   "version": "2.3.4"
  }
 },
 "nbformat": 4,
 "nbformat_minor": 5
}