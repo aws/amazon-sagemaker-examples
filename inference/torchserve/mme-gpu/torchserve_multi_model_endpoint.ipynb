{
 "cells": [
  {
   "cell_type": "markdown",
   "id": "14a93ca6",
   "metadata": {},
   "source": [
    "# Amazon SageMaker Multi-Model Endpoints using TorchServe\n"
   ]
  },
  {
   "cell_type": "markdown",
   "id": "446701de",
   "metadata": {},
   "source": [
    "## Contents\n",
    "\n",
    "With Amazon SageMaker multi-model endpoints, customers can create an endpoint that seamlessly hosts up to thousands of models. These endpoints are well suited to use cases where any one of a large number of models, which can be served from a common inference container, needs to be invokable on-demand and where it is acceptable for infrequently invoked models to incur some additional latency. For applications which require consistently low inference latency, a traditional endpoint is still the best choice.\n",
    "\n",
    "At a high level, Amazon SageMaker manages the loading and unloading of models for a multi-model endpoint, as they are needed. When an invocation request is made for a particular model, Amazon SageMaker routes the request to an instance assigned to that model, downloads the model artifacts from S3 onto that instance, and initiates loading of the model into the memory of the container. As soon as the loading is complete, Amazon SageMaker performs the requested invocation and returns the result. If the model is already loaded in memory on the selected instance, the downloading and loading steps are skipped and the invocation is performed immediately.\n",
    "\n",
    "This notebook demonstrates how to use TorchServe on SageMaker MME.
   ]
  },
  {
   "cell_type": "code",
   "execution_count": null,
   "id": "fc665186",
   "metadata": {},
   "outputs": [],
   "source": [
    "!pip install numpy\n",
    "!pip install pillow"
   ]
  },
  {
   "cell_type": "code",
   "execution_count": 1,
   "id": "c7c6f24b",
   "metadata": {},
   "outputs": [
    {
     "name": "stdout",
     "output_type": "stream",
     "text": [
      "account=084495728311, region=us-west-2, role=arn:aws:iam::084495728311:role/service-role/AmazonSageMaker-ExecutionRole-20230505T104760\n"
     ]
    }
   ],
   "source": [
    "# Python Built-Ins:\n",
    "from datetime import datetime\n",
    "import os\n",
    "import json\n",
    "import logging\n",
    "import time\n",
    "\n",
    "# External Dependencies:\n",
    "import boto3\n",
    "from botocore.exceptions import ClientError\n",
    "import sagemaker\n",
    "from sagemaker.multidatamodel import MultiDataModel\n",
    "from sagemaker.model import Model\n",
    "\n",
    "sess    = boto3.Session()\n",
    "sm      = sess.client('sagemaker')\n",
    "region  = sess.region_name\n",
    "account = boto3.client('sts').get_caller_identity().get('Account')\n",
    "\n",
    "smsess = sagemaker.Session(boto_session=sess)\n",
    "role = sagemaker.get_execution_role()\n",
    "\n",
    "# Configuration:\n",
    "bucket_name = smsess.default_bucket()\n",
    "prefix = \"torchserve\"\n",
    "output_path = f\"s3://{bucket_name}/{prefix}\"\n",
    "print(f'account={account}, region={region}, role={role}')"
   ]
  },
  {
   "cell_type": "markdown",
   "id": "62863c41",
   "metadata": {},
   "source": [
    "## Build a BYOD TorchServe Docker container and push it to Amazon ECR"
   ]
  },
  {
   "cell_type": "code",
   "execution_count": 13,
   "id": "c20294af",
   "metadata": {},
   "outputs": [
    {
     "name": "stdout",
     "output_type": "stream",
     "text": [
      "763104351884.dkr.ecr.us-west-2.amazonaws.com/pytorch-inference:2.0-gpu-py310\n"
     ]
    }
   ],
   "source": [
    "baseimage = sagemaker.image_uris.retrieve(\n",
    "    framework=\"pytorch\",\n",
    "    region=region,\n",
    "    py_version=\"py310\",\n",
    "    image_scope=\"inference\",\n",
    "    version=\"2.0\",\n",
    "    instance_type=\"ml.g5.16xlarge\",\n",
    ")\n",
    "print(image_uri)"
   ]
  },
  {
   "cell_type": "code",
   "execution_count": null,
   "id": "52c33c1d",
   "metadata": {
    "scrolled": true
   },
   "outputs": [],
   "source": [
    "reponame=\"torchserve-mme-demo\"\n",
    "versiontag=\"genai-0.1\"\n",
    "#baseimage=\"763104351884.dkr.ecr.us-west-2.amazonaws.com/pytorch-inference:2.0.0-gpu-py310-cu118-ubuntu20.04-sagemaker\"\n",
    "\n",
    "!cd workspace/docker && ./build_and_push.sh {reponame} {versiontag} {baseimage} {region} {account} "
   ]
  },
  {
   "cell_type": "markdown",
   "id": "761c4028",
   "metadata": {},
   "source": [
    "## Create Model Artifacts\n",
    "### Install torch-model-archiver"
   ]
  },
  {
   "cell_type": "markdown",
   "id": "1a36bc81",
   "metadata": {
    "scrolled": true
   },
   "source": [
    "!pip install torch-model-archiver"
   ]
  },
  {
   "cell_type": "markdown",
   "id": "a16063ea",
   "metadata": {},
   "source": [
    "### Prepare Segement Anyting Model(SAM)\n",
    "#### Download Segement Anyting Model(SAM)\n",
    "A new AI model from Meta that can segment any object in any image with a single click. No additional training needed. We are downloading one of the checkpoints"
   ]
  },
  {
   "cell_type": "code",
   "execution_count": null,
   "id": "5375cc2d",
   "metadata": {},
   "outputs": [],
   "source": [
    "model_file_name = \"sam_vit_h_4b8939.pth\"\n",
    "download_path = f\"https://huggingface.co/spaces/abhishek/StableSAM/resolve/main/{model_file_name}\"\n",
    "\n",
    "!wget $download_path -P workspace/sam"
   ]
  },
  {
   "cell_type": "markdown",
   "id": "a41318bc",
   "metadata": {},
   "source": [
    "#### Implement customized handler"
   ]
  },
  {
   "cell_type": "code",
   "execution_count": null,
   "id": "5edd0a80",
   "metadata": {},
   "outputs": [],
   "source": [
    "!cat workspace/sam/custom_handler.py"
   ]
  },
  {
   "cell_type": "markdown",
   "id": "042828b0",
   "metadata": {},
   "source": [
    "#### Create sam.tar.gz file"
   ]
  },
  {
   "cell_type": "code",
   "execution_count": null,
   "id": "57652cd5",
   "metadata": {},
   "outputs": [],
   "source": [
    "!torch-model-archiver --model-name sam --version 1.0 --serialized-file workspace/sam/sam_vit_h_4b8939.pth --handler workspace/sam/custom_handler.py --archive-format no-archive\n",
    "!cd sam && tar cvzf sam.tar.gz ."
   ]
  },
  {
   "cell_type": "code",
   "execution_count": null,
   "id": "11924275",
   "metadata": {},
   "outputs": [],
   "source": [
    "!cd sam && aws s3 cp sam.tar.gz {output_path}/sam.tar.gz"
   ]
  },
  {
   "cell_type": "markdown",
   "id": "88840dd0",
   "metadata": {},
   "source": [
    "### Prepare Stable Diffusion Inpaint (SD)\n",
    "#### Import and Save Stable Diffusion Model"
   ]
  },
  {
   "cell_type": "code",
   "execution_count": null,
   "id": "aa1bdc87",
   "metadata": {},
   "outputs": [],
   "source": [
    "!pip install -U torch diffusers==0.13.0 transformers"
   ]
  },
  {
   "cell_type": "code",
   "execution_count": null,
   "id": "d002bc26",
   "metadata": {},
   "outputs": [],
   "source": [
    "import diffusers\n",
    "import torch\n",
    "import transformers\n",
    "\n",
    "pipeline = diffusers.StableDiffusionInpaintPipeline.from_pretrained(\"stabilityai/stable-diffusion-2-inpainting\",\n",
    "                                                                    torch_dtype=torch.float16)"
   ]
  },
  {
   "cell_type": "code",
   "execution_count": null,
   "id": "407d31d1",
   "metadata": {},
   "outputs": [],
   "source": [
    "sd_dir = 'workspace/sd/model'\n",
    "pipeline.save_pretrained(sd_dir)"
   ]
  },
  {
   "cell_type": "markdown",
   "id": "6015e45a",
   "metadata": {},
   "source": [
    "#### Implement customized handler"
   ]
  },
  {
   "cell_type": "code",
   "execution_count": null,
   "id": "af93d51a",
   "metadata": {},
   "outputs": [],
   "source": [
    "!cat workspace/sd/custom_handler.py"
   ]
  },
  {
   "cell_type": "markdown",
   "id": "f1800fed",
   "metadata": {},
   "source": [
    "#### Create sd.tar.gz file"
   ]
  },
  {
   "cell_type": "code",
   "execution_count": null,
   "id": "c1f534a7",
   "metadata": {
    "scrolled": true
   },
   "outputs": [],
   "source": [
    "!torch-model-archiver --model-name sd --version 1.0 --handler workspace/sd/custom_handler.py --extra-files workspace/sd/model --archive-format no-archive\n",
    "!cd sd && tar cvzf sd.tar.gz ."
   ]
  },
  {
   "cell_type": "markdown",
   "id": "b0348351",
   "metadata": {},
   "source": [
    "#### Upload sd.tar.gz to s3"
   ]
  },
  {
   "cell_type": "code",
   "execution_count": null,
   "id": "ae9a72fc",
   "metadata": {},
   "outputs": [],
   "source": [
    "!cd sd && aws s3 cp sd.tar.gz {output_path}/sd.tar.gz"
   ]
  },
  {
   "cell_type": "markdown",
   "id": "b505ed13",
   "metadata": {},
   "source": [
    "### Prepare Large Mask Inpainting Model (LaMa)\n",
    "#### Download Pre-Trained Model"
   ]
  },
  {
   "cell_type": "code",
   "execution_count": null,
   "id": "7baf9342",
   "metadata": {},
   "outputs": [],
   "source": [
    "!pip install wldhx.yadisk-direct --quiet"
   ]
  },
  {
   "cell_type": "code",
   "execution_count": null,
   "id": "8d850797",
   "metadata": {},
   "outputs": [],
   "source": [
    "!cd workspace/lama && curl -L $(yadisk-direct https://disk.yandex.ru/d/ouP6l8VJ0HpMZg) -o big-lama.zip && unzip big-lama.zip -d model"
   ]
  },
  {
   "cell_type": "markdown",
   "id": "010d6868",
   "metadata": {},
   "source": [
    "#### Clone Lama Repo"
   ]
  },
  {
   "cell_type": "code",
   "execution_count": null,
   "id": "4375ae10",
   "metadata": {},
   "outputs": [],
   "source": [
    "!cd workspace/lama && git clone https://github.com/advimman/lama.git lama-repo"
   ]
  },
  {
   "cell_type": "markdown",
   "id": "0cdfdcab",
   "metadata": {},
   "source": [
    "#### Implement customized handler"
   ]
  },
  {
   "cell_type": "code",
   "execution_count": null,
   "id": "c1b0fef6",
   "metadata": {},
   "outputs": [],
   "source": [
    "!cat workspace/lama/custom_handler.py"
   ]
  },
  {
   "cell_type": "markdown",
   "id": "cc342d1c",
   "metadata": {},
   "source": [
    "#### Create lama.tar.gz file"
   ]
  },
  {
   "cell_type": "code",
   "execution_count": null,
   "id": "70af91b6",
   "metadata": {},
   "outputs": [],
   "source": [
    "!torch-model-archiver --model-name lama --version 1.0 --handler workspace/lama/custom_handler.py --extra-files workspace/lama/model,workspace/lama/lama-repo --archive-format no-archive\n",
    "!cd lama && tar cvzf lama.tar.gz ."
   ]
  },
  {
   "cell_type": "markdown",
   "id": "2a820e37",
   "metadata": {},
   "source": [
    "#### Upload lama.tar.gz to s3"
   ]
  },
  {
   "cell_type": "code",
   "execution_count": null,
   "id": "7e8da993",
   "metadata": {},
   "outputs": [],
   "source": [
    "!cd lama/ && aws s3 cp lama.tar.gz {output_path}/lama.tar.gz"
   ]
  },
  {
   "cell_type": "markdown",
   "id": "9acd33e1",
   "metadata": {},
   "source": [
    "## Create the Multi-Model Endpoint with the SageMaker SDK"
   ]
  },
  {
   "cell_type": "markdown",
   "id": "7d7c9f75",
   "metadata": {},
   "source": [
    "### Create the Amazon SageMaker MultiDataModel entity\n",
    "\n",
    "We create the multi-model endpoint using the [```MultiDataModel```](https://sagemaker.readthedocs.io/en/stable/api/inference/multi_data_model.html) class.\n",
    "\n",
    "You can create a MultiDataModel by directly passing in a `sagemaker.model.Model` object - in which case, the Endpoint will inherit information about the image to use, as well as any environmental variables, network isolation, etc., once the MultiDataModel is deployed.\n",
    "\n",
    "In addition, a MultiDataModel can also be created without explicitly passing a `sagemaker.model.Model` object. Please refer to the documentation for additional details."
   ]
  },
  {
   "cell_type": "code",
   "execution_count": 7,
   "id": "f50efe26",
   "metadata": {},
   "outputs": [
    {
     "name": "stdout",
     "output_type": "stream",
     "text": [
      "s3://sagemaker-us-west-2-084495728311/torchserve\n",
      "<sagemaker.multidatamodel.MultiDataModel object at 0x7f105cfabb50>\n"
     ]
    }
   ],
   "source": [
    "# This is where our MME will read models from on S3.\n",
    "multi_model_s3uri = output_path\n",
    "container = baseimage\n",
    "#container = \"084495728311.dkr.ecr.us-west-2.amazonaws.com/torchserve-mme-demo:genai-0.1\"\n",
    "\n",
    "print(multi_model_s3uri)\n",
    "model = Model(\n",
    "    model_data=f\"{multi_model_s3uri}/sam.tar.gz\",\n",
    "    image_uri=container,\n",
    "    role=role,\n",
    "    sagemaker_session=smsess,\n",
    "    env={\"TF_ENABLE_ONEDNN_OPTS\":\"0\"} \n",
    ")\n",
    "\n",
    "mme = MultiDataModel(\n",
    "    name=\"torchserve-mme-genai-\" + datetime.now().strftime(\"%Y-%m-%d-%H-%M-%S\"),\n",
    "    model_data_prefix=multi_model_s3uri,\n",
    "    model=model,\n",
    "    sagemaker_session=smsess\n",
    ")\n",
    "print(mme)"
   ]
  },
  {
   "cell_type": "markdown",
   "id": "f6abb202",
   "metadata": {},
   "source": [
    "### Deploy the Multi-Model Endpoint\n",
    "\n",
    "You need to consider the appropriate instance type and number of instances for the projected prediction workload across all the models you plan to host behind your multi-model endpoint. The number and size of the individual models will also drive memory requirements."
   ]
  },
  {
   "cell_type": "code",
   "execution_count": 8,
   "id": "a86e8be2",
   "metadata": {},
   "outputs": [
    {
     "name": "stdout",
     "output_type": "stream",
     "text": [
      "Deleting previous endpoint...\n",
      "----------------!"
     ]
    }
   ],
   "source": [
    "try:\n",
    "    predictor.delete_endpoint(delete_endpoint_config=True)\n",
    "    print(\"Deleting previous endpoint...\")\n",
    "    time.sleep(10)\n",
    "except (NameError, ClientError):\n",
    "    pass\n",
    "\n",
    "mme.deploy(\n",
    "    initial_instance_count=1,\n",
    "    instance_type=\"ml.g5.16xlarge\",\n",
    "    serializer=sagemaker.serializers.JSONSerializer(),\n",
    "    deserializer=sagemaker.deserializers.JSONDeserializer()\n",
    ")"
   ]
  },
  {
   "cell_type": "markdown",
   "id": "fbe8e6dc",
   "metadata": {},
   "source": [
    "### Our endpoint has launched! Let's look at what models are available to the endpoint!\n",
    "\n",
    "By 'available', what we mean is, what model artifacts are currently stored under the S3 prefix we defined when setting up the `MultiDataModel` above i.e. `model_data_prefix`.\n",
    "\n",
    "Currently, since we have no artifacts (i.e. `tar.gz` files) stored under our defined S3 prefix, our endpoint, will have no models 'available' to serve inference requests.\n",
    "\n",
    "We will demonstrate how to make models 'available' to our endpoint below."
   ]
  },
  {
   "cell_type": "code",
   "execution_count": 9,
   "id": "1a174381",
   "metadata": {},
   "outputs": [
    {
     "data": {
      "text/plain": [
       "['/', '/sam.tar.gz']"
      ]
     },
     "execution_count": 9,
     "metadata": {},
     "output_type": "execute_result"
    }
   ],
   "source": [
    "# No models visible!\n",
    "list(mme.list_models())"
   ]
  },
  {
   "cell_type": "markdown",
   "id": "e42ae3e9",
   "metadata": {},
   "source": [
    "### Dynamically deploying models to the endpoint\n",
    "\n",
    "The `.add_model()` method of the `MultiDataModel` will copy over our model artifacts from where they were initially stored, by training, to where our endpoint will source model artifacts for inference requests.\n",
    "\n",
    "Note that we can continue using this method, as shown below, to dynamically deploy more models to our live endpoint as required!\n",
    "\n",
    "`model_data_source` refers to the location of our model artifact (i.e. where it was deposited on S3 after training completed)\n",
    "\n",
    "`model_data_path` is the **relative** path to the S3 prefix we specified above (i.e. `model_data_prefix`) where our endpoint will source models for inference requests. Since this is a **relative** path, we can simply pass the name of what we wish to call the model artifact at inference time.\n",
    "\n",
    "> **Note:** To directly use training job `model.tar.gz` outputs as we do here, you'll need to make sure your training job produces results that:\n",
    ">\n",
    "> - Already include any required inference code in a `code/` subfolder, and\n",
    "> - (If you're using SageMaker PyTorch containers v1.6+) have been packaged to be compatible with TorchServe.\n",
    ">\n",
    "> See the `enable_sm_oneclick_deploy()` and `enable_torchserve_multi_model()` functions in [src/train.py](src/train.py) for notes on this. Alternatively, you can perform the same steps after the fact - to produce a new, serving-ready `model.tar.gz` from your raw training job result."
   ]
  },
  {
   "cell_type": "code",
   "execution_count": null,
   "id": "52079e38",
   "metadata": {},
   "outputs": [],
   "source": [
    "models = [\"sam/sam.tar.gz\", \"sd/sd.tar.gz\", \"lama/lama.tar.gz\"]\n",
    "for model in models:\n",
    "    mme.add_model(model_data_source=model)"
   ]
  },
  {
   "cell_type": "markdown",
   "id": "4d1470f7",
   "metadata": {},
   "source": [
    "### Our models are ready to invoke!\n",
    "\n",
    "We can see that the S3 prefix we specified when setting up `MultiDataModel` now has model artifacts listed. As such, the endpoint can now serve up inference requests for these models."
   ]
  },
  {
   "cell_type": "code",
   "execution_count": null,
   "id": "26261ce4",
   "metadata": {},
   "outputs": [],
   "source": [
    "list(mme.list_models())"
   ]
  },
  {
   "cell_type": "markdown",
   "id": "289d28e7",
   "metadata": {},
   "source": [
    "## Get predictions from the endpoint\n",
    "\n",
    "Recall that `mme.deploy()` returns a [RealTimePredictor](https://github.com/aws/sagemaker-python-sdk/blob/master/src/sagemaker/predictor.py#L35) that we saved in a variable called `predictor`.\n",
    "\n",
    "That `predictor` can now be used as usual to request inference - but specifying which model to call:"
   ]
  },
  {
   "cell_type": "code",
   "execution_count": 10,
   "id": "f24a0bfb",
   "metadata": {},
   "outputs": [
    {
     "name": "stdout",
     "output_type": "stream",
     "text": [
      "<sagemaker.base_predictor.Predictor object at 0x7f105c183d90>\n"
     ]
    }
   ],
   "source": [
    "predictor = sagemaker.predictor.Predictor(\n",
    "    endpoint_name=mme.endpoint_name,\n",
    "    sagemaker_session=smsess\n",
    ")\n",
    "print(predictor)"
   ]
  },
  {
   "cell_type": "code",
   "execution_count": 12,
   "id": "a3593456",
   "metadata": {},
   "outputs": [
    {
     "data": {
      "image/png": "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\n",
      "text/plain": [
       "<PIL.Image.Image image mode=RGB size=1499x1041>"
      ]
     },
     "metadata": {},
     "output_type": "display_data"
    }
   ],
   "source": [
    "# sam payload\n",
    "import base64\n",
    "import json\n",
    "import io\n",
    "import numpy as np\n",
    "from PIL import Image\n",
    "\n",
    "def encode_image(img):\n",
    "\n",
    "    # Convert the image to bytes\n",
    "    with io.BytesIO() as output:\n",
    "        img.save(output, format=\"JPEG\")\n",
    "        img_bytes = output.getvalue()\n",
    "\n",
    "    return base64.b64encode(img_bytes).decode('utf-8')\n",
    "\n",
    "\n",
    "img_file = 'workspace/test_data/sample1.png'\n",
    "img = Image.open(img_file)\n",
    "img_bytes = encode_image(img)\n",
    "\n",
    "gen_args = json.dumps(dict(point_coords=[750, 500], point_labels=1, dilate_kernel_size=15))\n",
    "\n",
    "payload = json.dumps({\n",
    "    \"image\": img_bytes,\n",
    "    \"gen_args\": gen_args}).encode('utf-8')\n",
    "\n",
    "response = predictor.predict(data=payload) #, target_model='/sam.tar.gz')\n",
    "encoded_masks_string = json.loads(response.decode('utf-8'))['generated_image']\n",
    "base64_bytes_masks = base64.b64decode(encoded_masks_string)\n",
    "generated_image_rgb=Image.open(io.BytesIO(base64_bytes_masks)).convert(\"RGB\")\n",
    "generated_image_rgb.show()"
   ]
  },
  {
   "cell_type": "code",
   "execution_count": null,
   "id": "b8a07f6b",
   "metadata": {},
   "outputs": [],
   "source": [
    "# sd payload\n",
    "import base64\n",
    "import json\n",
    "import io\n",
    "import numpy as np\n",
    "from PIL import Image\n",
    "\n",
    "def encode_image(img):\n",
    "\n",
    "    # Convert the image to bytes\n",
    "    with io.BytesIO() as output:\n",
    "        img.save(output, format=\"JPEG\")\n",
    "        img_bytes = output.getvalue()\n",
    "\n",
    "    return base64.b64encode(img_bytes).decode('utf-8')\n",
    "\n",
    "\n",
    "img_file = 'workspace/test_data/sample1.png'\n",
    "img = Image.open(img_file)\n",
    "img_bytes = encode_image(img)\n",
    "\n",
    "mask_file = 'workspace/test_data/sample1_mask.jpg'\n",
    "mask = Image.open(mask_file)\n",
    "mask_bytes = encode_image(mask)\n",
    "\n",
    "prompt = \"a teddy bear on a bench\"\n",
    "nprompt = \"ugly\"\n",
    "gen_args = json.dumps(dict(num_inference_steps=50, guidance_scale=10, seed=1))\n",
    "\n",
    "payload = json.dumps({\n",
    "    \"image\": img_bytes,\n",
    "    \"mask_image\": mask_bytes,\n",
    "    \"prompt\": prompt,\n",
    "    \"negative_prompt\": nprompt,\n",
    "    \"gen_args\": gen_args}).encode('utf-8')\n",
    "\n",
    "response = predictor.predict(data=payload, target_model='/sd.tar.gz')\n",
    "encoded_masks_string = json.loads(response.decode('utf-8'))['generated_image']\n",
    "base64_bytes_masks = base64.b64decode(encoded_masks_string)\n",
    "generated_image_rgb=Image.open(io.BytesIO(base64_bytes_masks)).convert(\"RGB\")\n",
    "generated_image_rgb.show()"
   ]
  },
  {
   "cell_type": "code",
   "execution_count": null,
   "id": "ac04de2d",
   "metadata": {},
   "outputs": [],
   "source": [
    "# lama payload\n",
    "import base64\n",
    "import json\n",
    "import io\n",
    "import numpy as np\n",
    "from PIL import Image\n",
    "\n",
    "def encode_image(img):\n",
    "\n",
    "    # Convert the image to bytes\n",
    "    with io.BytesIO() as output:\n",
    "        img.save(output, format=\"JPEG\")\n",
    "        img_bytes = output.getvalue()\n",
    "\n",
    "    return base64.b64encode(img_bytes).decode('utf-8')\n",
    "\n",
    "\n",
    "img_file = 'workspace/test_data/sample1.png'\n",
    "img = Image.open(img_file)\n",
    "img_bytes = encode_image(img)\n",
    "\n",
    "mask_file = 'workspace/test_data/sample1_mask.jpg'\n",
    "mask = Image.open(mask_file)\n",
    "mask_bytes = encode_image(mask)\n",
    "\n",
    "payload = json.dumps({\n",
    "    \"image\": img_bytes,\n",
    "    \"mask_image\": mask_bytes,\n",
    "    \"prompt\": prompt,\n",
    "    \"negative_prompt\": nprompt,\n",
    "    \"gen_args\": gen_args}).encode('utf-8')\n",
    "\n",
    "response = predictor.predict(data=payload, target_model='/lama.tar.gz')\n",
    "encoded_masks_string = json.loads(response.decode('utf-8'))['generated_image']\n",
    "base64_bytes_masks = base64.b64decode(encoded_masks_string)\n",
    "generated_image_rgb=Image.open(io.BytesIO(base64_bytes_masks)).convert(\"RGB\")\n",
    "generated_image_rgb.show()"
   ]
  },
  {
   "cell_type": "markdown",
   "id": "2880e078",
   "metadata": {},
   "source": [
    "## Updating a model\n",
    "\n",
    "To update a model, you would follow the same approach as above and add it as a new model. For example, `ModelA-2`.\n",
    "\n",
    "You should avoid overwriting model artifacts in Amazon S3, because the old version of the model might still be loaded in the endpoint's running container(s) or on the storage volume of instances on the endpoint: This would lead invocations to still use the old version of the model.\n",
    "\n",
    "Alternatively, you could stop the endpoint and re-deploy a fresh set of models."
   ]
  },
  {
   "cell_type": "markdown",
   "id": "5bb05ed2",
   "metadata": {},
   "source": [
    "## Clean up\n",
    "\n",
    "Endpoints should be deleted when no longer in use, since (per the [SageMaker pricing page](https://aws.amazon.com/sagemaker/pricing/)) they're billed by time deployed. Here we'll also delete the endpoint configuration - to keep things tidy."
   ]
  },
  {
   "cell_type": "code",
   "execution_count": null,
   "id": "deee6c61",
   "metadata": {},
   "outputs": [],
   "source": [
    "predictor.delete_endpoint(delete_endpoint_config=True)"
   ]
  },
  {
   "cell_type": "markdown",
   "id": "623248bc",
   "metadata": {},
   "source": [
    "## Notebook CI Test Results\n",
    "\n",
    "This notebook was tested in multiple regions. The test results are as follows, except for us-west-2 which is shown at the top of the notebook.\n",
    "\n",
    "![This us-east-1 badge failed to load. Check your device's internet connectivity, otherwise the service is currently unavailable](https://h75twx4l60.execute-api.us-west-2.amazonaws.com/sagemaker-nb/us-east-1/advanced_functionality|multi_model_pytorch|pytorch_multi_model_endpoint.ipynb)\n",
    "\n",
    "![This us-east-2 badge failed to load. Check your device's internet connectivity, otherwise the service is currently unavailable](https://h75twx4l60.execute-api.us-west-2.amazonaws.com/sagemaker-nb/us-east-2/advanced_functionality|multi_model_pytorch|pytorch_multi_model_endpoint.ipynb)\n",
    "\n",
    "![This us-west-1 badge failed to load. Check your device's internet connectivity, otherwise the service is currently unavailable](https://h75twx4l60.execute-api.us-west-2.amazonaws.com/sagemaker-nb/us-west-1/advanced_functionality|multi_model_pytorch|pytorch_multi_model_endpoint.ipynb)\n",
    "\n",
    "![This ca-central-1 badge failed to load. Check your device's internet connectivity, otherwise the service is currently unavailable](https://h75twx4l60.execute-api.us-west-2.amazonaws.com/sagemaker-nb/ca-central-1/advanced_functionality|multi_model_pytorch|pytorch_multi_model_endpoint.ipynb)\n",
    "\n",
    "![This sa-east-1 badge failed to load. Check your device's internet connectivity, otherwise the service is currently unavailable](https://h75twx4l60.execute-api.us-west-2.amazonaws.com/sagemaker-nb/sa-east-1/advanced_functionality|multi_model_pytorch|pytorch_multi_model_endpoint.ipynb)\n",
    "\n",
    "![This eu-west-1 badge failed to load. Check your device's internet connectivity, otherwise the service is currently unavailable](https://h75twx4l60.execute-api.us-west-2.amazonaws.com/sagemaker-nb/eu-west-1/advanced_functionality|multi_model_pytorch|pytorch_multi_model_endpoint.ipynb)\n",
    "\n",
    "![This eu-west-2 badge failed to load. Check your device's internet connectivity, otherwise the service is currently unavailable](https://h75twx4l60.execute-api.us-west-2.amazonaws.com/sagemaker-nb/eu-west-2/advanced_functionality|multi_model_pytorch|pytorch_multi_model_endpoint.ipynb)\n",
    "\n",
    "![This eu-west-3 badge failed to load. Check your device's internet connectivity, otherwise the service is currently unavailable](https://h75twx4l60.execute-api.us-west-2.amazonaws.com/sagemaker-nb/eu-west-3/advanced_functionality|multi_model_pytorch|pytorch_multi_model_endpoint.ipynb)\n",
    "\n",
    "![This eu-central-1 badge failed to load. Check your device's internet connectivity, otherwise the service is currently unavailable](https://h75twx4l60.execute-api.us-west-2.amazonaws.com/sagemaker-nb/eu-central-1/advanced_functionality|multi_model_pytorch|pytorch_multi_model_endpoint.ipynb)\n",
    "\n",
    "![This eu-north-1 badge failed to load. Check your device's internet connectivity, otherwise the service is currently unavailable](https://h75twx4l60.execute-api.us-west-2.amazonaws.com/sagemaker-nb/eu-north-1/advanced_functionality|multi_model_pytorch|pytorch_multi_model_endpoint.ipynb)\n",
    "\n",
    "![This ap-southeast-1 badge failed to load. Check your device's internet connectivity, otherwise the service is currently unavailable](https://h75twx4l60.execute-api.us-west-2.amazonaws.com/sagemaker-nb/ap-southeast-1/advanced_functionality|multi_model_pytorch|pytorch_multi_model_endpoint.ipynb)\n",
    "\n",
    "![This ap-southeast-2 badge failed to load. Check your device's internet connectivity, otherwise the service is currently unavailable](https://h75twx4l60.execute-api.us-west-2.amazonaws.com/sagemaker-nb/ap-southeast-2/advanced_functionality|multi_model_pytorch|pytorch_multi_model_endpoint.ipynb)\n",
    "\n",
    "![This ap-northeast-1 badge failed to load. Check your device's internet connectivity, otherwise the service is currently unavailable](https://h75twx4l60.execute-api.us-west-2.amazonaws.com/sagemaker-nb/ap-northeast-1/advanced_functionality|multi_model_pytorch|pytorch_multi_model_endpoint.ipynb)\n",
    "\n",
    "![This ap-northeast-2 badge failed to load. Check your device's internet connectivity, otherwise the service is currently unavailable](https://h75twx4l60.execute-api.us-west-2.amazonaws.com/sagemaker-nb/ap-northeast-2/advanced_functionality|multi_model_pytorch|pytorch_multi_model_endpoint.ipynb)\n",
    "\n",
    "![This ap-south-1 badge failed to load. Check your device's internet connectivity, otherwise the service is currently unavailable](https://h75twx4l60.execute-api.us-west-2.amazonaws.com/sagemaker-nb/ap-south-1/advanced_functionality|multi_model_pytorch|pytorch_multi_model_endpoint.ipynb)\n"
   ]
  }
 ],
 "metadata": {
  "kernelspec": {
   "display_name": "conda_python3",
   "language": "python",
   "name": "conda_python3"
  },
  "language_info": {
   "codemirror_mode": {
    "name": "ipython",
    "version": 3
   },
   "file_extension": ".py",
   "mimetype": "text/x-python",
   "name": "python",
   "nbconvert_exporter": "python",
   "pygments_lexer": "ipython3",
   "version": "3.10.8"
  }
 },
 "nbformat": 4,
 "nbformat_minor": 5
}
