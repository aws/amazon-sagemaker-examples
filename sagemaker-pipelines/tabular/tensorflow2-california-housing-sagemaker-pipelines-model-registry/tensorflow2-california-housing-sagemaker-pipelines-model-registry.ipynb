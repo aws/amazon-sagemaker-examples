{
 "cells": [
  {
   "cell_type": "markdown",
   "id": "0ec8463a",
   "metadata": {},
   "source": [
    "# SageMaker Pipelines California Housing - Taking different steps based on model performance"
   ]
  },
  {
   "cell_type": "markdown",
   "id": "2a07375d",
   "metadata": {},
   "source": [
    "This notebook illustrates how to take different actions based on model performance in a SageMaker Pipeline.\n",
    "\n",
    "The steps in this pipeline include:\n",
    "* Preprocessing the California Housing dataset\n",
    "* Train a TensorFlow2 ANN Model\n",
    "* Evaluate the model performance\n",
    "* If MSE is lower than threshold, use a Lambda step to send an E-Mail to the Data Science team.\n",
    "* If MSE is higher than threshold, register the model into the Model Registry."
   ]
  },
  {
   "cell_type": "markdown",
   "id": "f69e6834",
   "metadata": {},
   "source": [
    "## Prerequisites\n",
    "\n",
    "#### Add `AmazonSageMakerPipelinesIntegrations` policy\n",
    "\n",
    "The notebook execution role should have policies which enable the notebook to create a Lambda function. The Amazon managed policy `AmazonSageMakerPipelinesIntegrations` can be added to the notebook execution role. \n",
    "\n",
    "The policy description is:\n",
    "\n",
    "```\n",
    "\n",
    "{\n",
    "    \"Version\": \"2012-10-17\",\n",
    "    \"Statement\": [\n",
    "        {\n",
    "            \"Effect\": \"Allow\",\n",
    "            \"Action\": [\n",
    "                \"lambda:CreateFunction\",\n",
    "                \"lambda:DeleteFunction\",\n",
    "                \"lambda:InvokeFunction\",\n",
    "                \"lambda:UpdateFunctionCode\"\n",
    "            ],\n",
    "            \"Resource\": [\n",
    "                \"arn:aws:lambda:*:*:function:*sagemaker*\",\n",
    "                \"arn:aws:lambda:*:*:function:*sageMaker*\",\n",
    "                \"arn:aws:lambda:*:*:function:*SageMaker*\"\n",
    "            ]\n",
    "        },\n",
    "        {\n",
    "            \"Effect\": \"Allow\",\n",
    "            \"Action\": [\n",
    "                \"sqs:CreateQueue\",\n",
    "                \"sqs:SendMessage\"\n",
    "            ],\n",
    "            \"Resource\": [\n",
    "                \"arn:aws:sqs:*:*:*sagemaker*\",\n",
    "                \"arn:aws:sqs:*:*:*sageMaker*\",\n",
    "                \"arn:aws:sqs:*:*:*SageMaker*\"\n",
    "            ]\n",
    "        },\n",
    "        {\n",
    "            \"Effect\": \"Allow\",\n",
    "            \"Action\": [\n",
    "                \"iam:PassRole\"\n",
    "            ],\n",
    "            \"Resource\": \"arn:aws:iam::*:role/*\",\n",
    "            \"Condition\": {\n",
    "                \"StringEquals\": {\n",
    "                    \"iam:PassedToService\": [\n",
    "                        \"lambda.amazonaws.com\"\n",
    "                    ]\n",
    "                }\n",
    "            }\n",
    "        }\n",
    "    ]\n",
    "}\n",
    "    \n",
    "```\n",
    "\n",
    "#### Add inline policy to enable creation of IAM role required for the Lambda Function\n",
    "\n",
    "The notebook execution role should have an inline policy which enable the notebook to create the IAM role required for the Lambda function. An inline policy can be added to the notebook execution role. \n",
    "\n",
    "The policy description is:\n",
    "\n",
    "```\n",
    "{\n",
    "    \"Version\": \"2012-10-17\",\n",
    "    \"Statement\": [\n",
    "        {\n",
    "            \"Effect\": \"Allow\",\n",
    "            \"Action\": [\n",
    "                \"iam:GetRole\",\n",
    "                \"iam:CreateRole\"\n",
    "            ],\n",
    "            \"Resource\": \"*\"\n",
    "        }\n",
    "    ]\n",
    "}\n",
    "```\n"
   ]
  },
  {
   "cell_type": "code",
   "execution_count": null,
   "id": "3ac38269",
   "metadata": {},
   "outputs": [],
   "source": [
    "import sys\n",
    "\n",
    "!{sys.executable} -m pip install \"sagemaker>=2.51.0\""
   ]
  },
  {
   "cell_type": "code",
   "execution_count": null,
   "id": "74de734d",
   "metadata": {},
   "outputs": [],
   "source": [
    "import os\n",
    "import time\n",
    "import boto3\n",
    "import numpy as np\n",
    "import pandas as pd\n",
    "from sklearn.datasets import fetch_california_housing\n",
    "from sklearn.model_selection import train_test_split\n",
    "import sagemaker\n",
    "from sagemaker import get_execution_role"
   ]
  },
  {
   "cell_type": "code",
   "execution_count": null,
   "id": "df213866",
   "metadata": {},
   "outputs": [],
   "source": [
    "sess = boto3.Session()\n",
    "sm = sess.client(\"sagemaker\")\n",
    "role = get_execution_role()\n",
    "sagemaker_session = sagemaker.Session(boto_session=sess)\n",
    "bucket = sagemaker_session.default_bucket()\n",
    "model_package_group_name = \"TF2-California-Housing\"  # Model name in model registry\n",
    "prefix = \"tf2-california-housing-pipelines\"\n",
    "pipeline_name = \"TF2CaliforniaHousingPipeline\"  # SageMaker Pipeline name"
   ]
  },
  {
   "cell_type": "markdown",
   "id": "cb73bf70",
   "metadata": {},
   "source": [
    "## Download California Housing dataset and upload to Amazon S3"
   ]
  },
  {
   "cell_type": "code",
   "execution_count": null,
   "id": "fafbcd30",
   "metadata": {},
   "outputs": [],
   "source": [
    "data_dir = os.path.join(os.getcwd(), \"data\")\n",
    "os.makedirs(data_dir, exist_ok=True)\n",
    "\n",
    "raw_dir = os.path.join(os.getcwd(), \"data/raw\")\n",
    "os.makedirs(raw_dir, exist_ok=True)"
   ]
  },
  {
   "cell_type": "code",
   "execution_count": null,
   "id": "611ae0c8",
   "metadata": {},
   "outputs": [],
   "source": [
    "data_set = fetch_california_housing()\n",
    "\n",
    "X = pd.DataFrame(data_set.data, columns=data_set.feature_names)\n",
    "Y = pd.DataFrame(data_set.target)\n",
    "\n",
    "x_train, x_test, y_train, y_test = train_test_split(X, Y, test_size=0.33)\n",
    "\n",
    "np.save(os.path.join(raw_dir, \"x_train.npy\"), x_train)\n",
    "np.save(os.path.join(raw_dir, \"x_test.npy\"), x_test)\n",
    "np.save(os.path.join(raw_dir, \"y_train.npy\"), y_train)\n",
    "np.save(os.path.join(raw_dir, \"y_test.npy\"), y_test)\n",
    "rawdata_s3_prefix = \"{}/data/raw\".format(prefix)\n",
    "raw_s3 = sagemaker_session.upload_data(path=\"./data/raw/\", key_prefix=rawdata_s3_prefix)\n",
    "print(raw_s3)"
   ]
  },
  {
   "cell_type": "code",
   "execution_count": null,
   "id": "f81757c6",
   "metadata": {},
   "outputs": [],
   "source": [
    "from sagemaker.workflow.parameters import (\n",
    "    ParameterInteger,\n",
    "    ParameterString,\n",
    ")\n",
    "\n",
    "# raw input data\n",
    "input_data = ParameterString(name=\"InputData\", default_value=raw_s3)\n",
    "\n",
    "# processing step parameters\n",
    "processing_instance_type = ParameterString(\n",
    "    name=\"ProcessingInstanceType\", default_value=\"ml.m5.large\"\n",
    ")\n",
    "\n",
    "# training step parameters\n",
    "training_instance_type = ParameterString(name=\"TrainingInstanceType\", default_value=\"ml.m5.large\")\n",
    "training_epochs = ParameterString(name=\"TrainingEpochs\", default_value=\"100\")"
   ]
  },
  {
   "cell_type": "markdown",
   "id": "455ec6bc",
   "metadata": {},
   "source": [
    "## Processing Step \n",
    "\n",
    "The first step in the pipeline will preprocess the data to prepare it for training. We create a `SKLearnProcessor` object similar to the one above, but now parameterized, so we can separately track and change the job configuration as needed, for example to increase the instance type size and count to accommodate a growing dataset."
   ]
  },
  {
   "cell_type": "code",
   "execution_count": null,
   "id": "aa000a27",
   "metadata": {},
   "outputs": [],
   "source": [
    "%%writefile preprocess.py\n",
    "\n",
    "import glob\n",
    "import numpy as np\n",
    "import os\n",
    "from sklearn.preprocessing import StandardScaler\n",
    "\n",
    "if __name__ == \"__main__\":\n",
    "\n",
    "    input_files = glob.glob(\"{}/*.npy\".format(\"/opt/ml/processing/input\"))\n",
    "    print(\"\\nINPUT FILE LIST: \\n{}\\n\".format(input_files))\n",
    "    scaler = StandardScaler()\n",
    "    x_train = np.load(os.path.join(\"/opt/ml/processing/input\", \"x_train.npy\"))\n",
    "    scaler.fit(x_train)\n",
    "    for file in input_files:\n",
    "        raw = np.load(file)\n",
    "        # only transform feature columns\n",
    "        if \"y_\" not in file:\n",
    "            transformed = scaler.transform(raw)\n",
    "        if \"train\" in file:\n",
    "            if \"y_\" in file:\n",
    "                output_path = os.path.join(\"/opt/ml/processing/train\", \"y_train.npy\")\n",
    "                np.save(output_path, raw)\n",
    "                print(\"SAVED LABEL TRAINING DATA FILE\\n\")\n",
    "            else:\n",
    "                output_path = os.path.join(\"/opt/ml/processing/train\", \"x_train.npy\")\n",
    "                np.save(output_path, transformed)\n",
    "                print(\"SAVED TRANSFORMED TRAINING DATA FILE\\n\")\n",
    "        else:\n",
    "            if \"y_\" in file:\n",
    "                output_path = os.path.join(\"/opt/ml/processing/test\", \"y_test.npy\")\n",
    "                np.save(output_path, raw)\n",
    "                print(\"SAVED LABEL TEST DATA FILE\\n\")\n",
    "            else:\n",
    "                output_path = os.path.join(\"/opt/ml/processing/test\", \"x_test.npy\")\n",
    "                np.save(output_path, transformed)\n",
    "                print(\"SAVED TRANSFORMED TEST DATA FILE\\n\")"
   ]
  },
  {
   "cell_type": "code",
   "execution_count": null,
   "id": "c80142ec",
   "metadata": {},
   "outputs": [],
   "source": [
    "from sagemaker.sklearn.processing import SKLearnProcessor\n",
    "from sagemaker.processing import ProcessingInput, ProcessingOutput\n",
    "from sagemaker.workflow.steps import ProcessingStep\n",
    "\n",
    "framework_version = \"0.23-1\"\n",
    "\n",
    "# Create SKlearn processor object,\n",
    "# The object contains information about what instance type to use, the IAM role to use etc.\n",
    "# A managed processor comes with a preconfigured container, so only specifying version is required.\n",
    "sklearn_processor = SKLearnProcessor(\n",
    "    framework_version=framework_version,\n",
    "    role=role,\n",
    "    instance_type=processing_instance_type,\n",
    "    instance_count=1,\n",
    "    base_job_name=\"tf2-california-housing-processing-job\",\n",
    ")\n",
    "\n",
    "# Use the sklearn_processor in a Sagemaker pipelines ProcessingStep\n",
    "step_preprocess_data = ProcessingStep(\n",
    "    name=\"Preprocess-California-Housing-Data\",\n",
    "    processor=sklearn_processor,\n",
    "    inputs=[\n",
    "        ProcessingInput(source=input_data, destination=\"/opt/ml/processing/input\"),\n",
    "    ],\n",
    "    outputs=[\n",
    "        ProcessingOutput(output_name=\"train\", source=\"/opt/ml/processing/train\"),\n",
    "        ProcessingOutput(output_name=\"test\", source=\"/opt/ml/processing/test\"),\n",
    "    ],\n",
    "    code=\"preprocess.py\",\n",
    ")"
   ]
  },
  {
   "cell_type": "markdown",
   "id": "206b8f66",
   "metadata": {},
   "source": [
    "## Train model step\n",
    "In the second step, the train and validation output from the precious processing step are used to train a model. "
   ]
  },
  {
   "cell_type": "code",
   "execution_count": null,
   "id": "1d1bced2",
   "metadata": {},
   "outputs": [],
   "source": [
    "from sagemaker.tensorflow import TensorFlow\n",
    "from sagemaker.inputs import TrainingInput\n",
    "from sagemaker.workflow.steps import TrainingStep\n",
    "from sagemaker.workflow.step_collections import RegisterModel\n",
    "import time\n",
    "\n",
    "# Where to store the trained model\n",
    "model_path = f\"s3://{bucket}/{prefix}/model/\"\n",
    "\n",
    "hyperparameters = {\"epochs\": training_epochs}\n",
    "\n",
    "tf2_estimator = TensorFlow(\n",
    "    source_dir=\"code\",\n",
    "    entry_point=\"train.py\",\n",
    "    instance_type=training_instance_type,\n",
    "    instance_count=1,\n",
    "    framework_version=\"2.4.1\",\n",
    "    role=role,\n",
    "    base_job_name=\"tf2-california-housing-train\",\n",
    "    output_path=model_path,\n",
    "    hyperparameters=hyperparameters,\n",
    "    py_version=\"py37\",\n",
    ")\n",
    "\n",
    "# Use the tf2_estimator in a Sagemaker pipelines ProcessingStep.\n",
    "# NOTE how the input to the training job directly references the output of the previous step.\n",
    "step_train_model = TrainingStep(\n",
    "    name=\"Train-California-Housing-Model\",\n",
    "    estimator=tf2_estimator,\n",
    "    inputs={\n",
    "        \"train\": TrainingInput(\n",
    "            s3_data=step_preprocess_data.properties.ProcessingOutputConfig.Outputs[\n",
    "                \"train\"\n",
    "            ].S3Output.S3Uri,\n",
    "            content_type=\"text/csv\",\n",
    "        ),\n",
    "        \"test\": TrainingInput(\n",
    "            s3_data=step_preprocess_data.properties.ProcessingOutputConfig.Outputs[\n",
    "                \"test\"\n",
    "            ].S3Output.S3Uri,\n",
    "            content_type=\"text/csv\",\n",
    "        ),\n",
    "    },\n",
    ")"
   ]
  },
  {
   "cell_type": "markdown",
   "id": "d468e8da",
   "metadata": {},
   "source": [
    "## Evaluate model step\n",
    "When a model a trained, it's common to evaluate the model on unseen data before registering it with the model registry. This ensures the model registry isn't cluttered with poorly performing model versions. To evaluate the model, create a ScriptProcessor object and use it in a ProcessingStep.\n",
    "\n",
    "**Note** that a separate preprocessed test dataset is used to evaluate the model, and not the output of the processing step. This is only for demo purposes, to ensure the second run of the pipeline creates a model with better performance. In a real-world scenario, the test output of the processing step would be used."
   ]
  },
  {
   "cell_type": "code",
   "execution_count": null,
   "id": "16c33c37",
   "metadata": {},
   "outputs": [],
   "source": [
    "%%writefile evaluate.py\n",
    "\n",
    "import os\n",
    "import json\n",
    "import subprocess\n",
    "import sys\n",
    "import numpy as np\n",
    "import pathlib\n",
    "import tarfile\n",
    "\n",
    "\n",
    "def install(package):\n",
    "    subprocess.check_call([sys.executable, \"-m\", \"pip\", \"install\", package])\n",
    "\n",
    "\n",
    "if __name__ == \"__main__\":\n",
    "\n",
    "    install(\"tensorflow==2.3.1\")\n",
    "    model_path = f\"/opt/ml/processing/model/model.tar.gz\"\n",
    "    with tarfile.open(model_path, \"r:gz\") as tar:\n",
    "        tar.extractall(\"./model\")\n",
    "    import tensorflow as tf\n",
    "\n",
    "    model = tf.keras.models.load_model(\"./model/1\")\n",
    "    test_path = \"/opt/ml/processing/test/\"\n",
    "    x_test = np.load(os.path.join(test_path, \"x_test.npy\"))\n",
    "    y_test = np.load(os.path.join(test_path, \"y_test.npy\"))\n",
    "    scores = model.evaluate(x_test, y_test, verbose=2)\n",
    "    print(\"\\nTest MSE :\", scores)\n",
    "\n",
    "    # Available metrics to add to model: https://docs.aws.amazon.com/sagemaker/latest/dg/model-monitor-model-quality-metrics.html\n",
    "    report_dict = {\n",
    "        \"regression_metrics\": {\n",
    "            \"mse\": {\"value\": scores, \"standard_deviation\": \"NaN\"},\n",
    "        },\n",
    "    }\n",
    "\n",
    "    output_dir = \"/opt/ml/processing/evaluation\"\n",
    "    pathlib.Path(output_dir).mkdir(parents=True, exist_ok=True)\n",
    "\n",
    "    evaluation_path = f\"{output_dir}/evaluation.json\"\n",
    "    with open(evaluation_path, \"w\") as f:\n",
    "        f.write(json.dumps(report_dict))"
   ]
  },
  {
   "cell_type": "code",
   "execution_count": null,
   "id": "b8ea2619",
   "metadata": {},
   "outputs": [],
   "source": [
    "from sagemaker.workflow.properties import PropertyFile\n",
    "\n",
    "# Create SKLearnProcessor object.\n",
    "# The object contains information about what container to use, what instance type etc.\n",
    "evaluate_model_processor = SKLearnProcessor(\n",
    "    framework_version=framework_version,\n",
    "    instance_type=processing_instance_type,\n",
    "    instance_count=1,\n",
    "    base_job_name=\"tf2-california-housing-evaluate\",\n",
    "    role=role,\n",
    ")\n",
    "\n",
    "# Create a PropertyFile\n",
    "# A PropertyFile is used to be able to reference outputs from a processing step, for instance to use in a condition step.\n",
    "# For more information, visit https://docs.aws.amazon.com/sagemaker/latest/dg/build-and-manage-propertyfile.html\n",
    "evaluation_report = PropertyFile(\n",
    "    name=\"EvaluationReport\", output_name=\"evaluation\", path=\"evaluation.json\"\n",
    ")\n",
    "\n",
    "# Use the evaluate_model_processor in a Sagemaker pipelines ProcessingStep.\n",
    "step_evaluate_model = ProcessingStep(\n",
    "    name=\"Evaluate-California-Housing-Model\",\n",
    "    processor=evaluate_model_processor,\n",
    "    inputs=[\n",
    "        ProcessingInput(\n",
    "            source=step_train_model.properties.ModelArtifacts.S3ModelArtifacts,\n",
    "            destination=\"/opt/ml/processing/model\",\n",
    "        ),\n",
    "        ProcessingInput(\n",
    "            source=step_preprocess_data.properties.ProcessingOutputConfig.Outputs[\n",
    "                \"test\"\n",
    "            ].S3Output.S3Uri,\n",
    "            destination=\"/opt/ml/processing/test\",\n",
    "        ),\n",
    "    ],\n",
    "    outputs=[\n",
    "        ProcessingOutput(output_name=\"evaluation\", source=\"/opt/ml/processing/evaluation\"),\n",
    "    ],\n",
    "    code=\"evaluate.py\",\n",
    "    property_files=[evaluation_report],\n",
    ")"
   ]
  },
  {
   "cell_type": "markdown",
   "id": "1a69c8b5",
   "metadata": {},
   "source": [
    "## Register model step\n",
    "If the trained model meets the model performance requirements a new model version is registered with the model registry for further analysis. To attach model metrics to the model version, create a [`ModelMetrics`](https://docs.aws.amazon.com/sagemaker/latest/dg/model-monitor-model-quality-metrics.html) object using the evaluation report created in the evaluation step. Then, create the RegisterModel step."
   ]
  },
  {
   "cell_type": "code",
   "execution_count": null,
   "id": "a18e6d57",
   "metadata": {},
   "outputs": [],
   "source": [
    "from sagemaker.model_metrics import MetricsSource, ModelMetrics\n",
    "from sagemaker.workflow.step_collections import RegisterModel\n",
    "\n",
    "evaluation_s3_uri = \"{}/evaluation.json\".format(\n",
    "    step_evaluate_model.arguments[\"ProcessingOutputConfig\"][\"Outputs\"][0][\"S3Output\"][\"S3Uri\"]\n",
    ")\n",
    "\n",
    "# Create ModelMetrics object using the evaluation report from the evaluation step\n",
    "# A ModelMetrics object contains metrics captured from a model.\n",
    "model_metrics = ModelMetrics(\n",
    "    model_statistics=MetricsSource(\n",
    "        s3_uri=evaluation_s3_uri,\n",
    "        content_type=\"application/json\",\n",
    "    )\n",
    ")\n",
    "\n",
    "# Crete a RegisterModel step, which registers the model with Sagemaker Model Registry.\n",
    "step_register_model = RegisterModel(\n",
    "    name=\"Register-California-Housing-Model\",\n",
    "    estimator=tf2_estimator,\n",
    "    model_data=step_train_model.properties.ModelArtifacts.S3ModelArtifacts,\n",
    "    content_types=[\"text/csv\"],\n",
    "    response_types=[\"text/csv\"],\n",
    "    inference_instances=[\"ml.m5.large\", \"ml.m5.xlarge\"],\n",
    "    transform_instances=[\"ml.m5.xlarge\"],\n",
    "    model_package_group_name=model_package_group_name,\n",
    "    # approval_status=model_approval_status,\n",
    "    model_metrics=model_metrics,\n",
    ")"
   ]
  },
  {
   "cell_type": "markdown",
   "id": "8b770f20",
   "metadata": {},
   "source": [
    "## Lambda Step\n",
    "\n",
    "When defining the `LambdaStep`, the SageMaker Lambda helper class provides helper functions for creating the Lambda function. Users can either use the `lambda_func` argument to provide the function ARN to an already deployed Lambda function OR use the `Lambda` class to create a Lambda function by providing a script, function name and role for the Lambda function.\n",
    "\n",
    "When passing inputs to the Lambda, the `inputs` argument can be used and within the Lambda function's handler, the `event` argument can be used to retrieve the inputs.\n",
    "\n",
    "The dictionary response from the Lambda function is parsed through the `LambdaOutput` objects provided to the `outputs` argument. The `output_name` in `LambdaOutput` corresponds to the dictionary key in the Lambda's return dictionary."
   ]
  },
  {
   "cell_type": "markdown",
   "id": "347e4df3",
   "metadata": {},
   "source": [
    "#### Define the Lambda function\n",
    "\n",
    "Users can choose the leverage the Lambda helper class to create a Lambda function and provide that function object to the `LambdaStep`. Alternatively, users can use a pre-deployed Lambda function and provide the function ARN to the `Lambda` helper class in the lambda step.\n",
    "\n",
    "Here, If the MSE is lower than threshold, an E-Mail will be sent to Data Science team."
   ]
  },
  {
   "cell_type": "code",
   "execution_count": null,
   "id": "2ec1b914",
   "metadata": {},
   "outputs": [],
   "source": [
    "%%writefile send_email_lambda.py\n",
    "\n",
    "\"\"\"\n",
    "This Lambda function sends an E-Mail to the Data Science team with the MSE from model evaluation step. \n",
    "The evaluation.json location in S3 is provided via the `event` argument\n",
    "\"\"\"\n",
    "\n",
    "import json\n",
    "import boto3\n",
    "\n",
    "\n",
    "s3_client = client = boto3.client(\"s3\")\n",
    "\n",
    "\n",
    "def lambda_handler(event, context):\n",
    "\n",
    "    print(f\"Received Event: {event}\")\n",
    "\n",
    "    evaluation_s3_uri = event[\"evaluation_s3_uri\"]\n",
    "    path_parts = evaluation_s3_uri.replace(\"s3://\", \"\").split(\"/\")\n",
    "    bucket = path_parts.pop(0)\n",
    "    key = \"/\".join(path_parts)\n",
    "\n",
    "    content = s3_client.get_object(Bucket=bucket, Key=key)\n",
    "    text = content[\"Body\"].read().decode()\n",
    "    evaluation_json = json.loads(text)\n",
    "    mse = evaluation_json[\"regression_metrics\"][\"mse\"][\"value\"]\n",
    "\n",
    "    print(f\"Sending E-Mail to Data Science Team with low MSE: {mse}\")\n",
    "\n",
    "    # TODO - ADD YOUR CODE TO SEND EMAIL...\n",
    "    # https://docs.aws.amazon.com/ses/latest/DeveloperGuide/send-using-sdk-python.html\n",
    "\n",
    "    return {\"statusCode\": 200, \"body\": json.dumps(\"E-Mail Sent Successfully\")}"
   ]
  },
  {
   "cell_type": "markdown",
   "id": "3a88ea13",
   "metadata": {},
   "source": [
    "#### IAM Role\n",
    "\n",
    "The Lambda function needs an IAM role that will allow it to read the `evaluation.json` from S3. The role ARN must be provided in the `LambdaStep`.\n",
    "\n",
    "The Lambda role should at minimum have policies to allow `s3:Get`, `s3:List` in addition to the based Lambda execution policies. \n",
    "\n",
    "A helper function in `iam_helper.py` is available to create the Lambda function role. Please note that the role uses the Amazon managed policy - `AmazonS3ReadOnlyAccess`. This should be replaced with an IAM policy with the least privileges as per AWS IAM best practices."
   ]
  },
  {
   "cell_type": "code",
   "execution_count": null,
   "id": "e35c88f5",
   "metadata": {},
   "outputs": [],
   "source": [
    "from iam_helper import create_lambda_role\n",
    "\n",
    "lambda_role = create_lambda_role(\"send-email-to-ds-team-lambda-role\")"
   ]
  },
  {
   "cell_type": "code",
   "execution_count": null,
   "id": "246a4d0e",
   "metadata": {},
   "outputs": [],
   "source": [
    "from sagemaker.workflow.lambda_step import LambdaStep\n",
    "from sagemaker.lambda_helper import Lambda\n",
    "\n",
    "lambda_function_name = \"sagemaker-send-email-to-ds-team-lambda\"\n",
    "\n",
    "lambda_function = Lambda(\n",
    "    function_name=lambda_function_name,\n",
    "    execution_role_arn=lambda_role,\n",
    "    script=\"send_email_lambda.py\",\n",
    "    handler=\"send_email_lambda.lambda_handler\",\n",
    ")\n",
    "\n",
    "step_lambda = LambdaStep(\n",
    "    name=\"Send-Email-To-DS-Team\",\n",
    "    lambda_func=lambda_function,\n",
    "    inputs={\"evaluation_s3_uri\": evaluation_s3_uri},\n",
    ")"
   ]
  },
  {
   "cell_type": "markdown",
   "id": "14c5ebc8",
   "metadata": {},
   "source": [
    "## Accuracy condition step\n",
    "Adding conditions to the pipeline is done with a ConditionStep.\n",
    "In this case, we only want to register the new model version with the model registry if the new model meets an accuracy condition."
   ]
  },
  {
   "cell_type": "code",
   "execution_count": null,
   "id": "57db0a8f",
   "metadata": {},
   "outputs": [],
   "source": [
    "from sagemaker.workflow.conditions import ConditionLessThanOrEqualTo\n",
    "from sagemaker.workflow.condition_step import (\n",
    "    ConditionStep,\n",
    "    JsonGet,\n",
    ")\n",
    "\n",
    "# Create accuracy condition to ensure the model meets performance requirements.\n",
    "# Models with a test accuracy lower than the condition will not be registered with the model registry.\n",
    "cond_lte = ConditionLessThanOrEqualTo(\n",
    "    left=JsonGet(\n",
    "        step=step_evaluate_model,\n",
    "        property_file=evaluation_report,\n",
    "        json_path=\"regression_metrics.mse.value\",\n",
    "    ),\n",
    "    right=0.4,\n",
    ")\n",
    "\n",
    "# Create a Sagemaker Pipelines ConditionStep, using the condition above.\n",
    "# Enter the steps to perform if the condition returns True / False.\n",
    "step_cond = ConditionStep(\n",
    "    name=\"MSE-Lower-Than-Threshold-Condition\",\n",
    "    conditions=[cond_lte],\n",
    "    if_steps=[step_register_model],\n",
    "    else_steps=[step_lambda],\n",
    ")"
   ]
  },
  {
   "cell_type": "markdown",
   "id": "41547759",
   "metadata": {},
   "source": [
    "## Pipeline Creation: Orchestrate all steps\n",
    "\n",
    "Now that all pipeline steps are created, a pipeline is created."
   ]
  },
  {
   "cell_type": "code",
   "execution_count": null,
   "id": "07aa4dfe",
   "metadata": {},
   "outputs": [],
   "source": [
    "from sagemaker.workflow.pipeline import Pipeline\n",
    "\n",
    "# Create a Sagemaker Pipeline.\n",
    "# Each parameter for the pipeline must be set as a parameter explicitly when the pipeline is created.\n",
    "# Also pass in each of the steps created above.\n",
    "# Note that the order of execution is determined from each step's dependencies on other steps,\n",
    "# not on the order they are passed in below.\n",
    "pipeline = Pipeline(\n",
    "    name=pipeline_name,\n",
    "    parameters=[processing_instance_type, training_instance_type, input_data, training_epochs],\n",
    "    steps=[step_preprocess_data, step_train_model, step_evaluate_model, step_cond],\n",
    ")"
   ]
  },
  {
   "cell_type": "markdown",
   "id": "3e7585f4",
   "metadata": {},
   "source": [
    "## Execute the Pipeline"
   ]
  },
  {
   "cell_type": "markdown",
   "id": "533f2ea0",
   "metadata": {},
   "source": [
    "### List the execution steps to check out the status and artifacts:"
   ]
  },
  {
   "cell_type": "code",
   "execution_count": null,
   "id": "b633bcf6",
   "metadata": {},
   "outputs": [],
   "source": [
    "import json\n",
    "\n",
    "definition = json.loads(pipeline.definition())\n",
    "definition"
   ]
  },
  {
   "cell_type": "markdown",
   "id": "a3e456fc",
   "metadata": {},
   "source": [
    "### Submit pipeline"
   ]
  },
  {
   "cell_type": "code",
   "execution_count": null,
   "id": "2dc6a632",
   "metadata": {},
   "outputs": [],
   "source": [
    "pipeline.upsert(role_arn=role)"
   ]
  },
  {
   "cell_type": "markdown",
   "id": "dd0b4a4e",
   "metadata": {},
   "source": [
    "### Execute pipeline using the default parameters"
   ]
  },
  {
   "cell_type": "code",
   "execution_count": null,
   "id": "470f3806",
   "metadata": {},
   "outputs": [],
   "source": [
    "execution = pipeline.start()"
   ]
  },
  {
   "cell_type": "markdown",
   "id": "c35452f8",
   "metadata": {},
   "source": [
    "### Wait for pipeline to complete"
   ]
  },
  {
   "cell_type": "code",
   "execution_count": null,
   "id": "e32e2afb",
   "metadata": {},
   "outputs": [],
   "source": [
    "execution.wait()"
   ]
  },
  {
   "cell_type": "markdown",
   "id": "007aeb00",
   "metadata": {},
   "source": [
    "## Start a pipeline with 2 epochs to trigger the `send-email-to-ds-team-lambda` Lambda Function\n",
    "\n",
    "\n",
    "Run the pipeline again, but this time, with only 2 epochs. This will eventually result in higher MSE, and then the `send-email-to-ds-team-lambda` Lambda Function will be triggered. "
   ]
  },
  {
   "cell_type": "code",
   "execution_count": null,
   "id": "53f89df9",
   "metadata": {},
   "outputs": [],
   "source": [
    "# Execute pipeline with explicit parameters\n",
    "execution = pipeline.start(\n",
    "    parameters=dict(\n",
    "        TrainingEpochs=2,\n",
    "    )\n",
    ")\n",
    "\n",
    "execution.wait()"
   ]
  },
  {
   "cell_type": "markdown",
   "id": "5bf3b082",
   "metadata": {},
   "source": [
    "## Clean up (optional)\n",
    "Delete the model registry and the pipeline to keep the studio environment tidy."
   ]
  },
  {
   "cell_type": "code",
   "execution_count": null,
   "id": "e638a740",
   "metadata": {},
   "outputs": [],
   "source": [
    "def delete_model_package_group(sm_client, package_group_name):\n",
    "    try:\n",
    "        model_versions = sm_client.list_model_packages(ModelPackageGroupName=package_group_name)\n",
    "\n",
    "    except Exception as e:\n",
    "        print(\"{} \\n\".format(e))\n",
    "        return\n",
    "\n",
    "    for model_version in model_versions[\"ModelPackageSummaryList\"]:\n",
    "        try:\n",
    "            sm_client.delete_model_package(ModelPackageName=model_version[\"ModelPackageArn\"])\n",
    "        except Exception as e:\n",
    "            print(\"{} \\n\".format(e))\n",
    "        time.sleep(0.5)  # Ensure requests aren't throttled\n",
    "\n",
    "    try:\n",
    "        sm_client.delete_model_package_group(ModelPackageGroupName=package_group_name)\n",
    "        print(\"{} model package group deleted\".format(package_group_name))\n",
    "    except Exception as e:\n",
    "        print(\"{} \\n\".format(e))\n",
    "    return\n",
    "\n",
    "\n",
    "def delete_sagemaker_pipeline(sm_client, pipeline_name):\n",
    "    try:\n",
    "        sm_client.delete_pipeline(\n",
    "            PipelineName=pipeline_name,\n",
    "        )\n",
    "        print(\"{} pipeline deleted\".format(pipeline_name))\n",
    "    except Exception as e:\n",
    "        print(\"{} \\n\".format(e))\n",
    "        return"
   ]
  },
  {
   "cell_type": "code",
   "execution_count": null,
   "id": "11d3d08d",
   "metadata": {},
   "outputs": [],
   "source": [
    "import boto3\n",
    "import time\n",
    "\n",
    "client = boto3.client(\"sagemaker\")\n",
    "\n",
    "delete_model_package_group(client, model_package_group_name)\n",
    "delete_sagemaker_pipeline(client, pipeline_name)"
   ]
  },
  {
   "cell_type": "markdown",
   "id": "2389a39e",
   "metadata": {},
   "source": [
    "Delete the Lambda function"
   ]
  },
  {
   "cell_type": "code",
   "execution_count": null,
   "id": "0bbd93a6",
   "metadata": {},
   "outputs": [],
   "source": [
    "lambda_function.delete()"
   ]
  },
  {
   "cell_type": "code",
   "execution_count": null,
   "id": "e380d4fc",
   "metadata": {},
   "outputs": [],
   "source": []
  }
 ],
 "metadata": {
  "instance_type": "ml.t3.medium",
  "kernelspec": {
   "display_name": "Python 3 (Data Science)",
   "language": "python",
   "name": "python3__SAGEMAKER_INTERNAL__arn:aws:sagemaker:us-east-1:081325390199:image/datascience-1.0"
  },
  "language_info": {
   "codemirror_mode": {
    "name": "ipython",
    "version": 3
   },
   "file_extension": ".py",
   "mimetype": "text/x-python",
   "name": "python",
   "nbconvert_exporter": "python",
   "pygments_lexer": "ipython3",
   "version": "3.7.10"
  }
 },
 "nbformat": 4,
 "nbformat_minor": 5
}
