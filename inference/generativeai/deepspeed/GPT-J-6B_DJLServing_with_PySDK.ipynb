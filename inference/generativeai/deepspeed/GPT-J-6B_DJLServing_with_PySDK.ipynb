{
 "cells": [
  {
   "cell_type": "markdown",
   "id": "6fc8544a",
   "metadata": {},
   "source": [
    "# Serve gpt-j-6B on SageMaker with DJLServing using PySDK"
   ]
  },
  {
   "attachments": {},
   "cell_type": "markdown",
   "metadata": {},
   "source": [
    "---\n",
    "\n",
    "This notebook's CI test result for us-west-2 is as follows. CI test results in other regions can be found at the end of the notebook. \n",
    "\n",
    "![This us-west-2 badge failed to load. Check your device's internet connectivity, otherwise the service is currently unavailable](https://h75twx4l60.execute-api.us-west-2.amazonaws.com/sagemaker-nb/us-west-2/inference|generativeai|deepspeed|GPT-J-6B_DJLServing_with_PySDK.ipynb)\n",
    "\n",
    "---"
   ]
  },
  {
   "cell_type": "markdown",
   "id": "e0932633",
   "metadata": {},
   "source": [
    "### Update pip package to the latest version"
   ]
  },
  {
   "cell_type": "code",
   "execution_count": null,
   "id": "fe5764af",
   "metadata": {},
   "outputs": [],
   "source": [
    "%%bash\n",
    "pip install -U pip --quiet\n",
    "pip install -U sagemaker --quiet\n",
    "pip install -U boto3 --quiet\n",
    "\n",
    "pip install -U transformers --quiet"
   ]
  },
  {
   "cell_type": "markdown",
   "id": "b50f3d34",
   "metadata": {},
   "source": [
    "### Configure instance type, S3 bucket etc"
   ]
  },
  {
   "cell_type": "code",
   "execution_count": null,
   "id": "da2748bb",
   "metadata": {},
   "outputs": [],
   "source": [
    "import sagemaker\n",
    "from sagemaker.s3 import S3Uploader\n",
    "from transformers import AutoModel, AutoTokenizer\n",
    "\n",
    "# Replace with your own settings\n",
    "instance_type = \"ml.g5.12xlarge\"\n",
    "\n",
    "role = sagemaker.get_execution_role()  # execution role for the endpoint\n",
    "session = sagemaker.session.Session()  # sagemaker session for interacting with different AWS APIs\n",
    "region = session._region_name"
   ]
  },
  {
   "cell_type": "markdown",
   "id": "146c74eb",
   "metadata": {},
   "source": [
    "### Download model from Hugging Face\n",
    "\n",
    "Downloading model from Hugging Face hub is time-consuming, it will slow down SageMaker host startup.\n",
    "We recommend you download the model and upload uncompressed artifacts to S3 bucket to speed up SageMaker startup."
   ]
  },
  {
   "cell_type": "code",
   "execution_count": null,
   "id": "cf62b795",
   "metadata": {},
   "outputs": [],
   "source": [
    "# model_id = \"EleutherAI/gpt-j-6B\"\n",
    "\n",
    "# model = AutoModel.from_pretrained(model_id)\n",
    "# model.save_pretrained(\"gpt-j-6B\")\n",
    "\n",
    "# tokenizer = AutoTokenizer.from_pretrained(model_id)\n",
    "# tokenizer.save_pretrained(\"gpt-j-6B\")\n",
    "\n",
    "# bucket = session.default_bucket()      # bucket to house artifacts\n",
    "# s3_location = f\"s3://{bucket}/djl-serving/gpt-j-6B\"\n",
    "# S3Uploader.upload(\"gpt-j-6B\", s3_location)"
   ]
  },
  {
   "cell_type": "markdown",
   "id": "62a81e49",
   "metadata": {},
   "source": [
    "For demo purpose, we use gpt-j-6b-model artifacts from our S3 bucket"
   ]
  },
  {
   "cell_type": "code",
   "execution_count": null,
   "id": "873a1897",
   "metadata": {},
   "outputs": [],
   "source": [
    "pretrained_model_location = f\"s3://sagemaker-examples-files-prod-{region}/models/gpt-j-6b-model/\"\n",
    "print(f\"Pretrained model will be downloaded from ---- > {pretrained_model_location}\")"
   ]
  },
  {
   "cell_type": "markdown",
   "id": "27ebc47f",
   "metadata": {},
   "source": [
    "### Deploy the model to SageMaker"
   ]
  },
  {
   "cell_type": "code",
   "execution_count": null,
   "id": "a681138f",
   "metadata": {},
   "outputs": [],
   "source": [
    "from sagemaker.djl_inference import DJLModel\n",
    "\n",
    "model = DJLModel(\n",
    "    pretrained_model_location,\n",
    "    role,\n",
    "    task=\"text-generation\",\n",
    "    number_of_partitions=2,\n",
    "    data_type=\"fp16\",\n",
    ")\n",
    "\n",
    "predictor = model.deploy(initial_instance_count=1, instance_type=instance_type)"
   ]
  },
  {
   "cell_type": "markdown",
   "id": "9cdf6a90",
   "metadata": {},
   "source": [
    "### Run inference using your endpoint"
   ]
  },
  {
   "cell_type": "code",
   "execution_count": null,
   "id": "748174f2",
   "metadata": {},
   "outputs": [],
   "source": [
    "data = {\n",
    "    \"inputs\": [\n",
    "        \"The ability to spread butter on toast is\",\n",
    "        \"Video games are truly the\",\n",
    "    ],\n",
    "    \"parameters\": {\n",
    "        \"max_length\": 200,\n",
    "        \"temperature\": 0.1,\n",
    "    },\n",
    "}\n",
    "outputs = predictor.predict(data)\n",
    "for output in outputs:\n",
    "    print(output[0][\"generated_text\"])"
   ]
  },
  {
   "cell_type": "markdown",
   "id": "6bcc91a2",
   "metadata": {},
   "source": [
    "### Clean up your resource after testing"
   ]
  },
  {
   "cell_type": "code",
   "execution_count": null,
   "id": "58865f99",
   "metadata": {},
   "outputs": [],
   "source": [
    "# Delete SageMaker endpoint and model\n",
    "predictor.delete_endpoint()\n",
    "model.delete_model()"
   ]
  },
  {
   "attachments": {},
   "cell_type": "markdown",
   "metadata": {},
   "source": [
    "## Notebook CI Test Results\n",
    "\n",
    "This notebook was tested in multiple regions. The test results are as follows, except for us-west-2 which is shown at the top of the notebook.\n",
    "\n",
    "![This us-east-1 badge failed to load. Check your device's internet connectivity, otherwise the service is currently unavailable](https://h75twx4l60.execute-api.us-west-2.amazonaws.com/sagemaker-nb/us-east-1/inference|generativeai|deepspeed|GPT-J-6B_DJLServing_with_PySDK.ipynb)\n",
    "\n",
    "![This us-east-2 badge failed to load. Check your device's internet connectivity, otherwise the service is currently unavailable](https://h75twx4l60.execute-api.us-west-2.amazonaws.com/sagemaker-nb/us-east-2/inference|generativeai|deepspeed|GPT-J-6B_DJLServing_with_PySDK.ipynb)\n",
    "\n",
    "![This us-west-1 badge failed to load. Check your device's internet connectivity, otherwise the service is currently unavailable](https://h75twx4l60.execute-api.us-west-2.amazonaws.com/sagemaker-nb/us-west-1/inference|generativeai|deepspeed|GPT-J-6B_DJLServing_with_PySDK.ipynb)\n",
    "\n",
    "![This ca-central-1 badge failed to load. Check your device's internet connectivity, otherwise the service is currently unavailable](https://h75twx4l60.execute-api.us-west-2.amazonaws.com/sagemaker-nb/ca-central-1/inference|generativeai|deepspeed|GPT-J-6B_DJLServing_with_PySDK.ipynb)\n",
    "\n",
    "![This sa-east-1 badge failed to load. Check your device's internet connectivity, otherwise the service is currently unavailable](https://h75twx4l60.execute-api.us-west-2.amazonaws.com/sagemaker-nb/sa-east-1/inference|generativeai|deepspeed|GPT-J-6B_DJLServing_with_PySDK.ipynb)\n",
    "\n",
    "![This eu-west-1 badge failed to load. Check your device's internet connectivity, otherwise the service is currently unavailable](https://h75twx4l60.execute-api.us-west-2.amazonaws.com/sagemaker-nb/eu-west-1/inference|generativeai|deepspeed|GPT-J-6B_DJLServing_with_PySDK.ipynb)\n",
    "\n",
    "![This eu-west-2 badge failed to load. Check your device's internet connectivity, otherwise the service is currently unavailable](https://h75twx4l60.execute-api.us-west-2.amazonaws.com/sagemaker-nb/eu-west-2/inference|generativeai|deepspeed|GPT-J-6B_DJLServing_with_PySDK.ipynb)\n",
    "\n",
    "![This eu-west-3 badge failed to load. Check your device's internet connectivity, otherwise the service is currently unavailable](https://h75twx4l60.execute-api.us-west-2.amazonaws.com/sagemaker-nb/eu-west-3/inference|generativeai|deepspeed|GPT-J-6B_DJLServing_with_PySDK.ipynb)\n",
    "\n",
    "![This eu-central-1 badge failed to load. Check your device's internet connectivity, otherwise the service is currently unavailable](https://h75twx4l60.execute-api.us-west-2.amazonaws.com/sagemaker-nb/eu-central-1/inference|generativeai|deepspeed|GPT-J-6B_DJLServing_with_PySDK.ipynb)\n",
    "\n",
    "![This eu-north-1 badge failed to load. Check your device's internet connectivity, otherwise the service is currently unavailable](https://h75twx4l60.execute-api.us-west-2.amazonaws.com/sagemaker-nb/eu-north-1/inference|generativeai|deepspeed|GPT-J-6B_DJLServing_with_PySDK.ipynb)\n",
    "\n",
    "![This ap-southeast-1 badge failed to load. Check your device's internet connectivity, otherwise the service is currently unavailable](https://h75twx4l60.execute-api.us-west-2.amazonaws.com/sagemaker-nb/ap-southeast-1/inference|generativeai|deepspeed|GPT-J-6B_DJLServing_with_PySDK.ipynb)\n",
    "\n",
    "![This ap-southeast-2 badge failed to load. Check your device's internet connectivity, otherwise the service is currently unavailable](https://h75twx4l60.execute-api.us-west-2.amazonaws.com/sagemaker-nb/ap-southeast-2/inference|generativeai|deepspeed|GPT-J-6B_DJLServing_with_PySDK.ipynb)\n",
    "\n",
    "![This ap-northeast-1 badge failed to load. Check your device's internet connectivity, otherwise the service is currently unavailable](https://h75twx4l60.execute-api.us-west-2.amazonaws.com/sagemaker-nb/ap-northeast-1/inference|generativeai|deepspeed|GPT-J-6B_DJLServing_with_PySDK.ipynb)\n",
    "\n",
    "![This ap-northeast-2 badge failed to load. Check your device's internet connectivity, otherwise the service is currently unavailable](https://h75twx4l60.execute-api.us-west-2.amazonaws.com/sagemaker-nb/ap-northeast-2/inference|generativeai|deepspeed|GPT-J-6B_DJLServing_with_PySDK.ipynb)\n",
    "\n",
    "![This ap-south-1 badge failed to load. Check your device's internet connectivity, otherwise the service is currently unavailable](https://h75twx4l60.execute-api.us-west-2.amazonaws.com/sagemaker-nb/ap-south-1/inference|generativeai|deepspeed|GPT-J-6B_DJLServing_with_PySDK.ipynb)\n"
   ]
  }
 ],
 "metadata": {
  "kernelspec": {
   "display_name": "conda_pytorch_p39",
   "language": "python",
   "name": "conda_pytorch_p39"
  },
  "language_info": {
   "codemirror_mode": {
    "name": "ipython",
    "version": 3
   },
   "file_extension": ".py",
   "mimetype": "text/x-python",
   "name": "python",
   "nbconvert_exporter": "python",
   "pygments_lexer": "ipython3",
   "version": "3.9.15"
  }
 },
 "nbformat": 4,
 "nbformat_minor": 5
}