{
 "cells": [
  {
   "cell_type": "markdown",
   "id": "000c40b8",
   "metadata": {
    "papermill": {
     "duration": 0.038556,
     "end_time": "2021-06-08T21:05:07.460339",
     "exception": false,
     "start_time": "2021-06-08T21:05:07.421783",
     "status": "completed"
    },
    "tags": []
   },
   "source": [
    "# An Introduction to SageMaker Neural Topic Model\n",
    "\n",
    "***Unsupervised representation learning and topic extraction using Neural Topic Model***\n",
    "\n",
    "1. [Introduction](#Introduction)\n",
    "1. [Data Preparation](#Data-Preparation)\n",
    "1. [Model Training](#Model-Training)\n",
    "1. [Model Hosting and Inference](#Model-Hosting-and-Inference)\n",
    "1. [Model Exploration](#Model-Exploration)\n"
   ]
  },
  {
   "cell_type": "markdown",
   "id": "8f02a2ca",
   "metadata": {
    "papermill": {
     "duration": 0.072845,
     "end_time": "2021-06-08T21:05:07.572045",
     "exception": false,
     "start_time": "2021-06-08T21:05:07.499200",
     "status": "completed"
    },
    "tags": []
   },
   "source": [
    "---\n",
    "## Introduction\n",
    "\n",
    "Amazon SageMaker Neural Topic Model (NTM) is an unsupervised learning algorithm that attempts to describe a set of observations as a mixture of distinct categories. NTM is most commonly used to discover a user-specified number of topics shared by documents within a text corpus. Here each observation is a document, the features are the presence (or occurrence count) of each word, and the categories are the topics. Since the method is unsupervised, the topics are not specified upfront and are not guaranteed to align with how a human may naturally categorize documents. The topics are learned as a probability distribution over the words that occur in each document. Each document, in turn, is described as a mixture of topics. \n",
    "\n",
    "In this notebook, we will use the Amazon SageMaker NTM algorithm to train a model on the [20NewsGroups](https://archive.ics.uci.edu/ml/datasets/Twenty+Newsgroups) data set. This data set has been widely used as a topic modeling benchmark. \n",
    "\n",
    "The main goals of this notebook are as follows:\n",
    "\n",
    "1. learn how to obtain and store data for use in Amazon SageMaker,\n",
    "2. create an AWS SageMaker training job on a data set to produce an NTM model,\n",
    "3. use the model to perform inference with an Amazon SageMaker endpoint.\n",
    "4. explore trained model and visualized learned topics\n",
    "\n",
    "If you would like to know more please check out the [SageMaker Neural Topic Model Documentation](https://docs.aws.amazon.com/sagemaker/latest/dg/ntm.html).\n",
    "\n",
    "### A Brief Overview of SageMaker NTM\n",
    "\n",
    "Topic models are a classical example of probablistic graphical models that involve challenging posterior inference problems. We implement topic modeling under a neural-network based variational inference framework. The difficult inference problem is framed as an optimization problem solved by scalable methods such as stochastic gradient descent. Compared to conventional inference schemes, the neural-network implementation allows for scalable model training as well as low-latency inference. Furthermore, the flexibility of the neural inference framework allows us to more quickly add new functionalities and serve a wider range of customer use cases.\n",
    "\n",
    "The high-level diagram of SageMaker NTM is shown below:\n",
    "\n",
    "<img src=\"ntm_diagram.png\" width=\"600\">\n",
    "\n",
    "$$\n",
    "\\begin{equation}\n",
    "\\begin{split}\n",
    "\\textrm{Encoder} \\ q(z\\vert x): & \\\\\n",
    "& \\pi = f_X^{MLP}(x), \\quad \\mu(x) = l_1(\\pi), \\quad \\log \\sigma(x) = l_2(\\pi)\\\\\n",
    "& h(x, \\epsilon) = \\mu + \\sigma \\epsilon, \\ \\textrm{where} \\ \\epsilon \\sim \\mathcal{N}(0,I),\\quad z=g(h), \\ \\textrm{where} \\ h \\sim \\mathcal{N}(\\mu, \\sigma^2 I) \\\\\n",
    "\\textrm{Decoder} \\ p(x\\vert z): & \\\\\n",
    "& y(z) = \\textrm{softmax}(Wz+b), \\quad \\log p(x\\vert z) = \\sum x \\odot \\log(y(z))\n",
    "\\end{split}\n",
    "\\end{equation}\n",
    "$$\n",
    "\n",
    "where $l_1$ and $l_2$ are linear transformations with bias.\n",
    "\n",
    "### Beyond Text Data\n",
    "\n",
    "In principle, topic models can be applied to types of data beyond text documents. For example, topic modeling has been applied on network traffice data to discover [peer-to-peer applications usage patterns](http://isis.poly.edu/~baris/papers/GangsOfInternet-CNS13.pdf). We would be glad to hear about your novel use cases and are happy to help provide additional information. Please feel free to post questions or feedback at our [GitHub repository](https://github.com/awslabs/amazon-sagemaker-examples) or in the [Amazon SageMaker](https://forums.aws.amazon.com/forum.jspa?forumID=285) section of AWS Developer Forum."
   ]
  },
  {
   "cell_type": "markdown",
   "id": "5833a4a3",
   "metadata": {},
   "source": [
    "## Install Python packages"
   ]
  },
  {
   "cell_type": "code",
   "execution_count": null,
   "id": "bb10078e",
   "metadata": {},
   "outputs": [],
   "source": [
    "import sys\n",
    "\n",
    "!{sys.executable} -m pip install \"scikit_learn==0.20.0\" \"nltk==3.4.4\""
   ]
  },
  {
   "cell_type": "markdown",
   "id": "1ad81a71",
   "metadata": {
    "papermill": {
     "duration": 0.037545,
     "end_time": "2021-06-08T21:05:07.647139",
     "exception": false,
     "start_time": "2021-06-08T21:05:07.609594",
     "status": "completed"
    },
    "tags": []
   },
   "source": [
    "---\n",
    "## Data Preparation\n",
    "\n",
    "The 20Newsgroups data set is a collection of approximately 20,000 newsgroup documents, partitioned (nearly) evenly across 20 different newsgroups. This collection has become a popular data set for experiments in text applications of machine learning techniques, such as text classification and text clustering. Here, we will see what topics we can learn from this set of documents with NTM. The data setis available at the UCI Machine Learning Repository at this [location](https://archive.ics.uci.edu/ml/datasets/Twenty+Newsgroups). Please aware of the following requirements about ackonwledge, copyright and availability, cited from the [data set description page](https://archive.ics.uci.edu/ml/machine-learning-databases/20newsgroups-mld/20newsgroups.data.html).\n",
    "\n",
    "> **Acknowledgements, Copyright Information, and Availability**\n",
    "\n",
    ">You may use this material free of charge for any educational purpose, provided attribution is given in any lectures or publications that make use of this material."
   ]
  },
  {
   "cell_type": "markdown",
   "id": "da015914",
   "metadata": {
    "papermill": {
     "duration": 0.037456,
     "end_time": "2021-06-08T21:05:07.722479",
     "exception": false,
     "start_time": "2021-06-08T21:05:07.685023",
     "status": "completed"
    },
    "tags": []
   },
   "source": [
    "### Fetching Data Set\n",
    "\n",
    "First let's define the folder to hold the data and clean the content in it which might be from previous experiments."
   ]
  },
  {
   "cell_type": "code",
   "execution_count": null,
   "id": "8207a187",
   "metadata": {
    "execution": {
     "iopub.execute_input": "2021-06-08T21:05:07.806750Z",
     "iopub.status.busy": "2021-06-08T21:05:07.805883Z",
     "iopub.status.idle": "2021-06-08T21:05:07.807974Z",
     "shell.execute_reply": "2021-06-08T21:05:07.808396Z"
    },
    "papermill": {
     "duration": 0.048578,
     "end_time": "2021-06-08T21:05:07.808616",
     "exception": false,
     "start_time": "2021-06-08T21:05:07.760038",
     "status": "completed"
    },
    "tags": []
   },
   "outputs": [],
   "source": [
    "import os\n",
    "import shutil\n",
    "\n",
    "data_dir = \"20_newsgroups_bulk\"\n",
    "if os.path.exists(data_dir):  # cleanup existing data folder\n",
    "    shutil.rmtree(data_dir)"
   ]
  },
  {
   "cell_type": "markdown",
   "id": "85509162",
   "metadata": {},
   "source": [
    "Now we can download the data. We download the [`20 newsgroups dataset`](http://qwone.com/~jason/20Newsgroups/). The `20 newsgroups dataset` consists of 20000 messages taken from 20 Usenet newsgroups."
   ]
  },
  {
   "cell_type": "code",
   "execution_count": null,
   "id": "3582587d",
   "metadata": {},
   "outputs": [],
   "source": [
    "!aws s3 cp s3://sagemaker-sample-files/datasets/text/20_newsgroups/20_newsgroups_bulk.tar.gz ."
   ]
  },
  {
   "cell_type": "code",
   "execution_count": null,
   "id": "ae91cb76",
   "metadata": {},
   "outputs": [],
   "source": [
    "!tar xzf 20_newsgroups_bulk.tar.gz\n",
    "!ls 20_newsgroups_bulk"
   ]
  },
  {
   "cell_type": "code",
   "execution_count": null,
   "id": "dcec2989",
   "metadata": {},
   "outputs": [],
   "source": [
    "file_list = [os.path.join(data_dir, f) for f in os.listdir(data_dir)]\n",
    "print(\"Number of files:\", len(file_list))"
   ]
  },
  {
   "cell_type": "code",
   "execution_count": null,
   "id": "c1b44ef4",
   "metadata": {},
   "outputs": [],
   "source": [
    "import pandas as pd\n",
    "\n",
    "\n",
    "documents_count = 0\n",
    "for file in file_list:\n",
    "    df = pd.read_csv(file, header=None, names=[\"text\"])\n",
    "    documents_count = documents_count + df.shape[0]\n",
    "print(\"Number of documents:\", documents_count)"
   ]
  },
  {
   "cell_type": "markdown",
   "id": "95ccaa85",
   "metadata": {},
   "source": [
    "This following function will remove the header, footer and quotes (of earlier messages in each text)."
   ]
  },
  {
   "cell_type": "code",
   "execution_count": null,
   "id": "62348ad5",
   "metadata": {},
   "outputs": [],
   "source": [
    "def strip_newsgroup_item(item):\n",
    "    item = strip_newsgroup_header(item)\n",
    "    item = strip_newsgroup_quoting(item)\n",
    "    item = strip_newsgroup_footer(item)\n",
    "    return item"
   ]
  },
  {
   "cell_type": "code",
   "execution_count": null,
   "id": "ee198539",
   "metadata": {},
   "outputs": [],
   "source": [
    "from sklearn.datasets.twenty_newsgroups import (\n",
    "    strip_newsgroup_header,\n",
    "    strip_newsgroup_quoting,\n",
    "    strip_newsgroup_footer,\n",
    ")\n",
    "\n",
    "data = []\n",
    "\n",
    "for file in file_list:\n",
    "    print(f\"Processing {file}\")\n",
    "    label = file.split(\"/\")[1]\n",
    "    df = pd.read_csv(file, header=None, names=[\"text\"])\n",
    "    df[\"text\"] = df[\"text\"].apply(strip_newsgroup_item)\n",
    "    data.extend(df[\"text\"].tolist())"
   ]
  },
  {
   "cell_type": "markdown",
   "id": "2028ec9a",
   "metadata": {
    "papermill": {
     "duration": 0.039066,
     "end_time": "2021-06-08T21:05:12.936277",
     "exception": false,
     "start_time": "2021-06-08T21:05:12.897211",
     "status": "completed"
    },
    "tags": []
   },
   "source": [
    "As we can see below, the entries in the data set are just plain text paragraphs. We will need to process them into a suitable data format."
   ]
  },
  {
   "cell_type": "code",
   "execution_count": null,
   "id": "6cca6efd",
   "metadata": {
    "execution": {
     "iopub.execute_input": "2021-06-08T21:05:13.025327Z",
     "iopub.status.busy": "2021-06-08T21:05:13.024682Z",
     "iopub.status.idle": "2021-06-08T21:05:13.027987Z",
     "shell.execute_reply": "2021-06-08T21:05:13.027519Z"
    },
    "papermill": {
     "duration": 0.052578,
     "end_time": "2021-06-08T21:05:13.028106",
     "exception": false,
     "start_time": "2021-06-08T21:05:12.975528",
     "status": "completed"
    },
    "tags": []
   },
   "outputs": [],
   "source": [
    "data[10:13]"
   ]
  },
  {
   "cell_type": "markdown",
   "id": "cbdb1fe8",
   "metadata": {
    "papermill": {
     "duration": 0.039457,
     "end_time": "2021-06-08T21:05:13.106935",
     "exception": false,
     "start_time": "2021-06-08T21:05:13.067478",
     "status": "completed"
    },
    "tags": []
   },
   "source": [
    "---\n",
    "### From Plain Text to Bag-of-Words (BOW)\n",
    "\n",
    "The input documents to the algorithm, both in training and inference, need to be vectors of integers representing word counts. This is so-called bag-of-words (BOW) representation. To convert plain text to BOW, we need to first \"tokenize\" our documents, i.e identify words and assign an integer id to each of them.\n",
    "\n",
    "$$\n",
    "\\text{\"cat\"} \\mapsto 0, \\; \\text{\"dog\"} \\mapsto 1 \\; \\text{\"bird\"} \\mapsto 2, \\ldots\n",
    "$$\n",
    "\n",
    "Then, we count the occcurence of each of the tokens in each document and form BOW vectors as illustrated in the following example:\n",
    "\n",
    "$$\n",
    "w = \\text{\"cat bird bird bird cat\"} \\quad \\longmapsto \\quad w = [2, 0, 3, 0, \\ldots, 0]\n",
    "$$\n",
    "\n",
    "Also, note that many real-world applications have large vocabulary sizes. It may be necessary to represent the input documents in sparse format. Finally, the use of stemming and lemmatization in data preprocessing provides several benefits. Doing so can improve training and inference compute time since it reduces the effective vocabulary size. More importantly, though, it can improve the quality of learned topic-word probability matrices and inferred topic mixtures. For example, the words *\"parliament\"*, *\"parliaments\"*, *\"parliamentary\"*, *\"parliament's\"*, and *\"parliamentarians\"* are all essentially the same word, *\"parliament\"*, but with different conjugations. For the purposes of detecting topics, such as a *\"politics\"* or *governments\"* topic, the inclusion of all five does not add much additional value as they all essentially describe the same feature.\n",
    "\n",
    "In this example, we will use a simple lemmatizer from [`nltk`](https://www.nltk.org/) package and use `CountVectorizer` in `scikit-learn` to perform the token counting. For more details please refer to their documentation respectively. Alternatively, [`spaCy`](https://spacy.io/) also offers easy-to-use tokenization and lemmatization functions."
   ]
  },
  {
   "cell_type": "markdown",
   "id": "8ed0ed38",
   "metadata": {
    "papermill": {
     "duration": 0.039099,
     "end_time": "2021-06-08T21:05:13.185145",
     "exception": false,
     "start_time": "2021-06-08T21:05:13.146046",
     "status": "completed"
    },
    "tags": []
   },
   "source": [
    "---\n",
    "In the following cell, we use a tokenizer and a lemmatizer from `nltk`. In the list comprehension, we implement a simple rule: only consider words that are longer than 2 characters, start with a letter and match the `token_pattern`."
   ]
  },
  {
   "cell_type": "code",
   "execution_count": null,
   "id": "ac6fd71a",
   "metadata": {
    "execution": {
     "iopub.execute_input": "2021-06-08T21:05:13.272646Z",
     "iopub.status.busy": "2021-06-08T21:05:13.271847Z",
     "iopub.status.idle": "2021-06-08T21:05:17.724822Z",
     "shell.execute_reply": "2021-06-08T21:05:17.725270Z"
    },
    "papermill": {
     "duration": 4.501067,
     "end_time": "2021-06-08T21:05:17.725426",
     "exception": false,
     "start_time": "2021-06-08T21:05:13.224359",
     "status": "completed"
    },
    "tags": []
   },
   "outputs": [],
   "source": [
    "import nltk\n",
    "\n",
    "nltk.download(\"punkt\")\n",
    "nltk.download(\"wordnet\")\n",
    "from nltk import word_tokenize\n",
    "from nltk.stem import WordNetLemmatizer\n",
    "import re\n",
    "\n",
    "token_pattern = re.compile(r\"(?u)\\b\\w\\w+\\b\")\n",
    "\n",
    "\n",
    "class LemmaTokenizer(object):\n",
    "    def __init__(self):\n",
    "        self.wnl = WordNetLemmatizer()\n",
    "\n",
    "    def __call__(self, doc):\n",
    "        return [\n",
    "            self.wnl.lemmatize(t)\n",
    "            for t in word_tokenize(doc)\n",
    "            if len(t) >= 2 and re.match(\"[a-z].*\", t) and re.match(token_pattern, t)\n",
    "        ]"
   ]
  },
  {
   "cell_type": "markdown",
   "id": "8198b7db",
   "metadata": {
    "papermill": {
     "duration": 0.042907,
     "end_time": "2021-06-08T21:05:17.811772",
     "exception": false,
     "start_time": "2021-06-08T21:05:17.768865",
     "status": "completed"
    },
    "tags": []
   },
   "source": [
    "With the tokenizer defined we perform token counting next while limiting the vocabulary size to `vocab_size`. Use a maximum document frequency of 95% of documents (`max_df=0.95`) and a minimum document frequency of 2 documents (`min_df=2`)."
   ]
  },
  {
   "cell_type": "code",
   "execution_count": null,
   "id": "fd806401",
   "metadata": {
    "execution": {
     "iopub.execute_input": "2021-06-08T21:05:17.904594Z",
     "iopub.status.busy": "2021-06-08T21:05:17.904000Z",
     "iopub.status.idle": "2021-06-08T21:06:22.117823Z",
     "shell.execute_reply": "2021-06-08T21:06:22.118293Z"
    },
    "papermill": {
     "duration": 64.263791,
     "end_time": "2021-06-08T21:06:22.118447",
     "exception": false,
     "start_time": "2021-06-08T21:05:17.854656",
     "status": "completed"
    },
    "tags": []
   },
   "outputs": [],
   "source": [
    "import time\n",
    "import numpy as np\n",
    "from sklearn.feature_extraction.text import CountVectorizer\n",
    "\n",
    "vocab_size = 2000\n",
    "print(\"Tokenizing and counting, this may take a few minutes...\")\n",
    "start_time = time.time()\n",
    "vectorizer = CountVectorizer(\n",
    "    input=\"content\",\n",
    "    analyzer=\"word\",\n",
    "    stop_words=\"english\",\n",
    "    tokenizer=LemmaTokenizer(),\n",
    "    max_features=vocab_size,\n",
    "    max_df=0.95,\n",
    "    min_df=2,\n",
    ")\n",
    "vectors = vectorizer.fit_transform(data)\n",
    "vocab_list = vectorizer.get_feature_names()\n",
    "print(\"vocab size:\", len(vocab_list))\n",
    "\n",
    "# random shuffle\n",
    "idx = np.arange(vectors.shape[0])\n",
    "np.random.shuffle(idx)\n",
    "vectors = vectors[idx]\n",
    "\n",
    "print(\"Done. Time elapsed: {:.2f}s\".format(time.time() - start_time))"
   ]
  },
  {
   "cell_type": "markdown",
   "id": "5eeaf288",
   "metadata": {
    "papermill": {
     "duration": 0.043706,
     "end_time": "2021-06-08T21:06:22.206548",
     "exception": false,
     "start_time": "2021-06-08T21:06:22.162842",
     "status": "completed"
    },
    "tags": []
   },
   "source": [
    "Optionally, we may consider removing very short documents, the following cell removes documents shorter than 25 words. This certainly depends on the application, but there are also some general justifications. It is hard to imagine very short documents express more than one topic. Topic modeling tries to model each document as a mixture of multiple topics, thus it may not be the best choice for modeling short documents."
   ]
  },
  {
   "cell_type": "code",
   "execution_count": null,
   "id": "e1459db7",
   "metadata": {
    "execution": {
     "iopub.execute_input": "2021-06-08T21:06:22.299481Z",
     "iopub.status.busy": "2021-06-08T21:06:22.298583Z",
     "iopub.status.idle": "2021-06-08T21:06:22.307075Z",
     "shell.execute_reply": "2021-06-08T21:06:22.306624Z"
    },
    "papermill": {
     "duration": 0.056633,
     "end_time": "2021-06-08T21:06:22.307192",
     "exception": false,
     "start_time": "2021-06-08T21:06:22.250559",
     "status": "completed"
    },
    "tags": []
   },
   "outputs": [],
   "source": [
    "threshold = 25\n",
    "vectors = vectors[\n",
    "    np.array(vectors.sum(axis=1) > threshold).reshape(\n",
    "        -1,\n",
    "    )\n",
    "]\n",
    "print(\"removed short docs (<{} words)\".format(threshold))\n",
    "print(vectors.shape)"
   ]
  },
  {
   "cell_type": "markdown",
   "id": "1530abcb",
   "metadata": {
    "papermill": {
     "duration": 0.043682,
     "end_time": "2021-06-08T21:06:22.395012",
     "exception": false,
     "start_time": "2021-06-08T21:06:22.351330",
     "status": "completed"
    },
    "tags": []
   },
   "source": [
    "The output from `CountVectorizer` are sparse matrices with their elements being integers. "
   ]
  },
  {
   "cell_type": "code",
   "execution_count": null,
   "id": "c2652ee9",
   "metadata": {
    "execution": {
     "iopub.execute_input": "2021-06-08T21:06:22.487668Z",
     "iopub.status.busy": "2021-06-08T21:06:22.487109Z",
     "iopub.status.idle": "2021-06-08T21:06:22.489713Z",
     "shell.execute_reply": "2021-06-08T21:06:22.490187Z"
    },
    "papermill": {
     "duration": 0.051375,
     "end_time": "2021-06-08T21:06:22.490334",
     "exception": false,
     "start_time": "2021-06-08T21:06:22.438959",
     "status": "completed"
    },
    "tags": []
   },
   "outputs": [],
   "source": [
    "print(type(vectors), vectors.dtype)\n",
    "print(vectors[0])"
   ]
  },
  {
   "cell_type": "markdown",
   "id": "062c066f",
   "metadata": {
    "papermill": {
     "duration": 0.044141,
     "end_time": "2021-06-08T21:06:22.578764",
     "exception": false,
     "start_time": "2021-06-08T21:06:22.534623",
     "status": "completed"
    },
    "tags": []
   },
   "source": [
    "Because all the parameters (weights and biases) in the NTM model are `np.float32` type we'd need the input data to also be in `np.float32`. It is better to do this type-casting upfront rather than repeatedly casting during mini-batch training."
   ]
  },
  {
   "cell_type": "code",
   "execution_count": null,
   "id": "3987a91b",
   "metadata": {
    "execution": {
     "iopub.execute_input": "2021-06-08T21:06:22.671001Z",
     "iopub.status.busy": "2021-06-08T21:06:22.670483Z",
     "iopub.status.idle": "2021-06-08T21:06:22.674206Z",
     "shell.execute_reply": "2021-06-08T21:06:22.674637Z"
    },
    "papermill": {
     "duration": 0.051842,
     "end_time": "2021-06-08T21:06:22.674777",
     "exception": false,
     "start_time": "2021-06-08T21:06:22.622935",
     "status": "completed"
    },
    "tags": []
   },
   "outputs": [],
   "source": [
    "import scipy.sparse as sparse\n",
    "\n",
    "vectors = sparse.csr_matrix(vectors, dtype=np.float32)\n",
    "print(type(vectors), vectors.dtype)"
   ]
  },
  {
   "cell_type": "markdown",
   "id": "f775a26c",
   "metadata": {
    "papermill": {
     "duration": 0.044211,
     "end_time": "2021-06-08T21:06:22.763804",
     "exception": false,
     "start_time": "2021-06-08T21:06:22.719593",
     "status": "completed"
    },
    "tags": []
   },
   "source": [
    "As a common practice in modeling training, we should have a training set, a validation set, and a test set. The training set is the set of data the model is actually being trained on. But what we really care about is not the model's performance on training set but its performance on future, unseen data. Therefore, during training, we periodically calculate scores (or losses) on the validation set to validate the performance of the model on unseen data. By assessing the model's ability to generalize we can stop the training at the optimal point via early stopping to avoid over-training. \n",
    "\n",
    "Note that when we only have a training set and no validation set, the NTM model will rely on scores on the training set to perform early stopping, which could result in over-training. Therefore, we recommend always supply a validation set to the model.\n",
    "\n",
    "Here we use 80% of the data set as the training set and the rest for validation set and test set. We will use the validation set in training and use the test set for demonstrating model inference."
   ]
  },
  {
   "cell_type": "code",
   "execution_count": null,
   "id": "60a187f4",
   "metadata": {
    "execution": {
     "iopub.execute_input": "2021-06-08T21:06:22.856890Z",
     "iopub.status.busy": "2021-06-08T21:06:22.856324Z",
     "iopub.status.idle": "2021-06-08T21:06:22.862187Z",
     "shell.execute_reply": "2021-06-08T21:06:22.862647Z"
    },
    "papermill": {
     "duration": 0.054773,
     "end_time": "2021-06-08T21:06:22.862792",
     "exception": false,
     "start_time": "2021-06-08T21:06:22.808019",
     "status": "completed"
    },
    "tags": []
   },
   "outputs": [],
   "source": [
    "n_train = int(0.8 * vectors.shape[0])\n",
    "\n",
    "# split train and test\n",
    "train_vectors = vectors[:n_train, :]\n",
    "test_vectors = vectors[n_train:, :]\n",
    "\n",
    "# further split test set into validation set (val_vectors) and test  set (test_vectors)\n",
    "n_test = test_vectors.shape[0]\n",
    "val_vectors = test_vectors[: n_test // 2, :]\n",
    "test_vectors = test_vectors[n_test // 2 :, :]"
   ]
  },
  {
   "cell_type": "code",
   "execution_count": null,
   "id": "15ad2043",
   "metadata": {
    "execution": {
     "iopub.execute_input": "2021-06-08T21:06:22.956233Z",
     "iopub.status.busy": "2021-06-08T21:06:22.955658Z",
     "iopub.status.idle": "2021-06-08T21:06:22.958798Z",
     "shell.execute_reply": "2021-06-08T21:06:22.958266Z"
    },
    "papermill": {
     "duration": 0.051582,
     "end_time": "2021-06-08T21:06:22.958914",
     "exception": false,
     "start_time": "2021-06-08T21:06:22.907332",
     "status": "completed"
    },
    "tags": []
   },
   "outputs": [],
   "source": [
    "print(train_vectors.shape, test_vectors.shape, val_vectors.shape)"
   ]
  },
  {
   "cell_type": "markdown",
   "id": "c00cb142",
   "metadata": {
    "papermill": {
     "duration": 0.044527,
     "end_time": "2021-06-08T21:06:23.047946",
     "exception": false,
     "start_time": "2021-06-08T21:06:23.003419",
     "status": "completed"
    },
    "tags": []
   },
   "source": [
    "---\n",
    "### Store Data on S3\n",
    "\n",
    "The NTM algorithm, as well as other first-party SageMaker algorithms, accepts data in [RecordIO](https://mxnet.apache.org/api/python/io/io.html#module-mxnet.recordio) [Protobuf](https://developers.google.com/protocol-buffers/) format. The SageMaker Python API provides helper functions for easily converting your data into this format. Below we convert the from numpy/scipy data and upload it to an Amazon S3 destination for the model to access it during training.\n"
   ]
  },
  {
   "cell_type": "markdown",
   "id": "d655334d",
   "metadata": {
    "papermill": {
     "duration": 0.045019,
     "end_time": "2021-06-08T21:06:23.137580",
     "exception": false,
     "start_time": "2021-06-08T21:06:23.092561",
     "status": "completed"
    },
    "tags": []
   },
   "source": [
    "### Setup AWS Credentials\n",
    "\n",
    "We first need to specify data locations and access roles. In particular, we need the following data:\n",
    "\n",
    "- The S3 `bucket` and `prefix` that you want to use for training and model data.  This should be within the same region as the Notebook Instance, training, and hosting.\n",
    "- The IAM `role` is used to give training and hosting access to your data. See the documentation for how to create these.  Note, if more than one role is required for notebook instances, training, and/or hosting, please replace the boto regexp with a the appropriate full IAM role arn string(s)."
   ]
  },
  {
   "cell_type": "code",
   "execution_count": null,
   "id": "47d50738",
   "metadata": {
    "execution": {
     "iopub.execute_input": "2021-06-08T21:06:23.231174Z",
     "iopub.status.busy": "2021-06-08T21:06:23.230622Z",
     "iopub.status.idle": "2021-06-08T21:06:24.753918Z",
     "shell.execute_reply": "2021-06-08T21:06:24.754431Z"
    },
    "papermill": {
     "duration": 1.572445,
     "end_time": "2021-06-08T21:06:24.754593",
     "exception": false,
     "start_time": "2021-06-08T21:06:23.182148",
     "status": "completed"
    },
    "tags": [
     "parameters"
    ]
   },
   "outputs": [],
   "source": [
    "import os\n",
    "import sagemaker\n",
    "from sagemaker import get_execution_role\n",
    "\n",
    "role = get_execution_role()\n",
    "\n",
    "sess = sagemaker.Session()\n",
    "bucket = sess.default_bucket()"
   ]
  },
  {
   "cell_type": "code",
   "execution_count": null,
   "id": "147c2113",
   "metadata": {
    "execution": {
     "iopub.execute_input": "2021-06-08T21:06:24.948559Z",
     "iopub.status.busy": "2021-06-08T21:06:24.947709Z",
     "iopub.status.idle": "2021-06-08T21:06:24.950617Z",
     "shell.execute_reply": "2021-06-08T21:06:24.951038Z"
    },
    "isConfigCell": true,
    "papermill": {
     "duration": 0.053766,
     "end_time": "2021-06-08T21:06:24.951180",
     "exception": false,
     "start_time": "2021-06-08T21:06:24.897414",
     "status": "completed"
    },
    "tags": []
   },
   "outputs": [],
   "source": [
    "prefix = \"20newsgroups\"\n",
    "\n",
    "train_prefix = os.path.join(prefix, \"train\")\n",
    "val_prefix = os.path.join(prefix, \"val\")\n",
    "output_prefix = os.path.join(prefix, \"output\")\n",
    "\n",
    "s3_train_data = os.path.join(\"s3://\", bucket, train_prefix)\n",
    "s3_val_data = os.path.join(\"s3://\", bucket, val_prefix)\n",
    "output_path = os.path.join(\"s3://\", bucket, output_prefix)\n",
    "print(\"Training set location\", s3_train_data)\n",
    "print(\"Validation set location\", s3_val_data)\n",
    "print(\"Trained model will be saved at\", output_path)"
   ]
  },
  {
   "cell_type": "markdown",
   "id": "37aa22f3",
   "metadata": {
    "papermill": {
     "duration": 0.045114,
     "end_time": "2021-06-08T21:06:25.041364",
     "exception": false,
     "start_time": "2021-06-08T21:06:24.996250",
     "status": "completed"
    },
    "tags": []
   },
   "source": [
    "Here we define a helper function to convert the data to RecordIO Protobuf format and upload it to S3. In addition, we will have the option to split the data into several parts specified by `n_parts`.\n",
    "\n",
    "The algorithm inherently supports multiple files in the training folder (\"channel\"), which could be very helpful for large data set. In addition, when we use distributed training with multiple workers (compute instances), having multiple files allows us to distribute different portions of the training data to different workers conveniently.\n",
    "\n",
    "Inside this helper function we use `write_spmatrix_to_sparse_tensor` function provided by [SageMaker Python SDK](https://github.com/aws/sagemaker-python-sdk) to convert scipy sparse matrix into RecordIO Protobuf format."
   ]
  },
  {
   "cell_type": "code",
   "execution_count": null,
   "id": "9525de29",
   "metadata": {
    "execution": {
     "iopub.execute_input": "2021-06-08T21:06:25.135640Z",
     "iopub.status.busy": "2021-06-08T21:06:25.134821Z",
     "iopub.status.idle": "2021-06-08T21:06:25.136849Z",
     "shell.execute_reply": "2021-06-08T21:06:25.137272Z"
    },
    "papermill": {
     "duration": 0.050974,
     "end_time": "2021-06-08T21:06:25.137422",
     "exception": false,
     "start_time": "2021-06-08T21:06:25.086448",
     "status": "completed"
    },
    "tags": []
   },
   "outputs": [],
   "source": [
    "# update sagemake package, in order to use write_spmatrix_to_sparse_tensor in the next cell\n",
    "# !pip install -U sagemaker"
   ]
  },
  {
   "cell_type": "code",
   "execution_count": null,
   "id": "b39be48d",
   "metadata": {
    "execution": {
     "iopub.execute_input": "2021-06-08T21:06:25.236469Z",
     "iopub.status.busy": "2021-06-08T21:06:25.235931Z",
     "iopub.status.idle": "2021-06-08T21:06:25.238078Z",
     "shell.execute_reply": "2021-06-08T21:06:25.238513Z"
    },
    "papermill": {
     "duration": 0.055845,
     "end_time": "2021-06-08T21:06:25.238656",
     "exception": false,
     "start_time": "2021-06-08T21:06:25.182811",
     "status": "completed"
    },
    "tags": []
   },
   "outputs": [],
   "source": [
    "def split_convert_upload(sparray, bucket, prefix, fname_template=\"data_part{}.pbr\", n_parts=2):\n",
    "    import io\n",
    "    import boto3\n",
    "    import sagemaker.amazon.common as smac\n",
    "\n",
    "    chunk_size = sparray.shape[0] // n_parts\n",
    "    for i in range(n_parts):\n",
    "\n",
    "        # Calculate start and end indices\n",
    "        start = i * chunk_size\n",
    "        end = (i + 1) * chunk_size\n",
    "        if i + 1 == n_parts:\n",
    "            end = sparray.shape[0]\n",
    "\n",
    "        # Convert to record protobuf\n",
    "        buf = io.BytesIO()\n",
    "        smac.write_spmatrix_to_sparse_tensor(array=sparray[start:end], file=buf, labels=None)\n",
    "        buf.seek(0)\n",
    "\n",
    "        # Upload to s3 location specified by bucket and prefix\n",
    "        fname = os.path.join(prefix, fname_template.format(i))\n",
    "        boto3.resource(\"s3\").Bucket(bucket).Object(fname).upload_fileobj(buf)\n",
    "        print(\"Uploaded data to s3://{}\".format(os.path.join(bucket, fname)))"
   ]
  },
  {
   "cell_type": "code",
   "execution_count": null,
   "id": "8c27fc2d",
   "metadata": {
    "execution": {
     "iopub.execute_input": "2021-06-08T21:06:25.334393Z",
     "iopub.status.busy": "2021-06-08T21:06:25.333429Z",
     "iopub.status.idle": "2021-06-08T21:06:27.883727Z",
     "shell.execute_reply": "2021-06-08T21:06:27.884168Z"
    },
    "papermill": {
     "duration": 2.600305,
     "end_time": "2021-06-08T21:06:27.884324",
     "exception": false,
     "start_time": "2021-06-08T21:06:25.284019",
     "status": "completed"
    },
    "tags": []
   },
   "outputs": [],
   "source": [
    "split_convert_upload(\n",
    "    train_vectors, bucket=bucket, prefix=train_prefix, fname_template=\"train_part{}.pbr\", n_parts=8\n",
    ")\n",
    "split_convert_upload(\n",
    "    val_vectors, bucket=bucket, prefix=val_prefix, fname_template=\"val_part{}.pbr\", n_parts=1\n",
    ")"
   ]
  },
  {
   "cell_type": "markdown",
   "id": "ca066694",
   "metadata": {
    "papermill": {
     "duration": 0.048076,
     "end_time": "2021-06-08T21:06:27.982595",
     "exception": false,
     "start_time": "2021-06-08T21:06:27.934519",
     "status": "completed"
    },
    "tags": []
   },
   "source": [
    "---\n",
    "## Model Training\n",
    "\n",
    "We have created the training and validation data sets and uploaded them to S3. Next, we configure a SageMaker training job to use the NTM algorithm on the data we prepared"
   ]
  },
  {
   "cell_type": "markdown",
   "id": "86b297e8",
   "metadata": {
    "papermill": {
     "duration": 0.047668,
     "end_time": "2021-06-08T21:06:28.078012",
     "exception": false,
     "start_time": "2021-06-08T21:06:28.030344",
     "status": "completed"
    },
    "tags": []
   },
   "source": [
    "SageMaker uses Amazon Elastic Container Registry (ECR) docker container to host the NTM training image. The following ECR containers are currently available for SageMaker NTM training in different regions. For the latest Docker container registry please refer to [Amazon SageMaker: Common Parameters](https://docs.aws.amazon.com/sagemaker/latest/dg/sagemaker-algo-docker-registry-paths.html)."
   ]
  },
  {
   "cell_type": "code",
   "execution_count": null,
   "id": "b7e5589e",
   "metadata": {
    "execution": {
     "iopub.execute_input": "2021-06-08T21:06:28.188477Z",
     "iopub.status.busy": "2021-06-08T21:06:28.187942Z",
     "iopub.status.idle": "2021-06-08T21:06:28.198298Z",
     "shell.execute_reply": "2021-06-08T21:06:28.198766Z"
    },
    "papermill": {
     "duration": 0.072903,
     "end_time": "2021-06-08T21:06:28.198924",
     "exception": false,
     "start_time": "2021-06-08T21:06:28.126021",
     "status": "completed"
    },
    "tags": []
   },
   "outputs": [],
   "source": [
    "import boto3\n",
    "from sagemaker.image_uris import retrieve\n",
    "\n",
    "container = retrieve(\"ntm\", boto3.Session().region_name)"
   ]
  },
  {
   "cell_type": "markdown",
   "id": "0eaf3809",
   "metadata": {
    "papermill": {
     "duration": 0.047712,
     "end_time": "2021-06-08T21:06:28.294981",
     "exception": false,
     "start_time": "2021-06-08T21:06:28.247269",
     "status": "completed"
    },
    "tags": []
   },
   "source": [
    "The code in the cell below automatically chooses an algorithm container based on the current region. In the API call to `sagemaker.estimator.Estimator` we also specify the type and count of instances for the training job. Because the 20NewsGroups data set is relatively small, we have chosen a CPU only instance (`ml.c4.xlarge`), but do feel free to change to [other instance types](https://aws.amazon.com/sagemaker/pricing/instance-types/). NTM fully takes advantage of GPU hardware and in general trains roughly an order of magnitude faster on a GPU than on a CPU. Multi-GPU or multi-instance training further improves training speed roughly linearly if communication overhead is low compared to compute time."
   ]
  },
  {
   "cell_type": "code",
   "execution_count": null,
   "id": "db0842c1",
   "metadata": {
    "execution": {
     "iopub.execute_input": "2021-06-08T21:06:28.395130Z",
     "iopub.status.busy": "2021-06-08T21:06:28.394509Z",
     "iopub.status.idle": "2021-06-08T21:06:28.422716Z",
     "shell.execute_reply": "2021-06-08T21:06:28.422198Z"
    },
    "papermill": {
     "duration": 0.080298,
     "end_time": "2021-06-08T21:06:28.422843",
     "exception": false,
     "start_time": "2021-06-08T21:06:28.342545",
     "status": "completed"
    },
    "tags": []
   },
   "outputs": [],
   "source": [
    "import sagemaker\n",
    "\n",
    "sess = sagemaker.Session()\n",
    "ntm = sagemaker.estimator.Estimator(\n",
    "    container,\n",
    "    role,\n",
    "    instance_count=2,\n",
    "    instance_type=\"ml.c4.xlarge\",\n",
    "    output_path=output_path,\n",
    "    sagemaker_session=sess,\n",
    ")"
   ]
  },
  {
   "cell_type": "markdown",
   "id": "95a405f8",
   "metadata": {
    "papermill": {
     "duration": 0.047662,
     "end_time": "2021-06-08T21:06:28.518786",
     "exception": false,
     "start_time": "2021-06-08T21:06:28.471124",
     "status": "completed"
    },
    "tags": []
   },
   "source": [
    "## Hyperparameters\n",
    "\n",
    "Here we highlight a few hyperparameters. For information about the full list of available hyperparameters, please refer to [NTM Hyperparameters](https://docs.aws.amazon.com/sagemaker/latest/dg/ntm_hyperparameters.html).\n",
    "\n",
    "- **feature_dim** - the \"feature dimension\", it should be set to the vocabulary size\n",
    "- **num_topics** - the number of topics to extract\n",
    "- **mini_batch_size** - this is the batch size for each worker instance. Note that in multi-GPU instances, this number will be further divided by the number of GPUs. Therefore, for example, if we plan to train on an 8-GPU machine (such as `ml.p2.8xlarge`) and wish each GPU to have 1024 training examples per batch, `mini_batch_size` should be set to 8196.\n",
    "- **epochs** - the maximal number of epochs to train for, training may stop early\n",
    "- **num_patience_epochs** and **tolerance** controls the early stopping behavior. Roughly speaking, the algorithm will stop training if within the last `num_patience_epochs` epochs there have not been improvements on validation loss. Improvements smaller than `tolerance` will be considered non-improvement.\n",
    "- **optimizer** and **learning_rate** - by default we use `adadelta` optimizer and `learning_rate` does not need to be set. For other optimizers, the choice of an appropriate learning rate may require experimentation.\n",
    "\n"
   ]
  },
  {
   "cell_type": "code",
   "execution_count": null,
   "id": "772f52ed",
   "metadata": {
    "execution": {
     "iopub.execute_input": "2021-06-08T21:06:28.618626Z",
     "iopub.status.busy": "2021-06-08T21:06:28.618073Z",
     "iopub.status.idle": "2021-06-08T21:06:28.619928Z",
     "shell.execute_reply": "2021-06-08T21:06:28.620392Z"
    },
    "papermill": {
     "duration": 0.054033,
     "end_time": "2021-06-08T21:06:28.620535",
     "exception": false,
     "start_time": "2021-06-08T21:06:28.566502",
     "status": "completed"
    },
    "scrolled": true,
    "tags": []
   },
   "outputs": [],
   "source": [
    "num_topics = 20\n",
    "ntm.set_hyperparameters(\n",
    "    num_topics=num_topics,\n",
    "    feature_dim=vocab_size,\n",
    "    mini_batch_size=128,\n",
    "    epochs=100,\n",
    "    num_patience_epochs=5,\n",
    "    tolerance=0.001,\n",
    ")"
   ]
  },
  {
   "cell_type": "markdown",
   "id": "f1aa584b",
   "metadata": {
    "papermill": {
     "duration": 0.04791,
     "end_time": "2021-06-08T21:06:28.716061",
     "exception": false,
     "start_time": "2021-06-08T21:06:28.668151",
     "status": "completed"
    },
    "tags": []
   },
   "source": [
    "Next, we need to specify how the training data and validation data will be distributed to the workers during training. There are two modes for data channels:\n",
    "\n",
    "- `FullyReplicated`: all data files will be copied to all workers\n",
    "- `ShardedByS3Key`: data files will be sharded to different workers, i.e. each worker will receive a different portion of the full data set.\n",
    "\n",
    "At the time of writing, by default, the Python SDK will use `FullyReplicated` mode for all data channels. This is desirable for validation (test) channel but not suitable for training channel. The reason is that when we use multiple workers we would like to go through the full data set by each of them going through a different portion of the data set, so as to provide different gradients within epochs. Using `FullyReplicated` mode on training data not only results in slower training time per epoch (nearly 1.5X in this example), but also defeats the purpose of distributed training. To set the training data channel correctly we specify `distribution` to be `ShardedByS3Key` for the training data channel as follows."
   ]
  },
  {
   "cell_type": "code",
   "execution_count": null,
   "id": "3b50dfa4",
   "metadata": {
    "execution": {
     "iopub.execute_input": "2021-06-08T21:06:28.815330Z",
     "iopub.status.busy": "2021-06-08T21:06:28.814776Z",
     "iopub.status.idle": "2021-06-08T21:06:28.816708Z",
     "shell.execute_reply": "2021-06-08T21:06:28.817129Z"
    },
    "papermill": {
     "duration": 0.053564,
     "end_time": "2021-06-08T21:06:28.817268",
     "exception": false,
     "start_time": "2021-06-08T21:06:28.763704",
     "status": "completed"
    },
    "tags": []
   },
   "outputs": [],
   "source": [
    "from sagemaker.inputs import TrainingInput\n",
    "\n",
    "s3_train = TrainingInput(s3_train_data, distribution=\"ShardedByS3Key\")"
   ]
  },
  {
   "cell_type": "markdown",
   "id": "2e0d6c2f",
   "metadata": {
    "papermill": {
     "duration": 0.047552,
     "end_time": "2021-06-08T21:06:28.912511",
     "exception": false,
     "start_time": "2021-06-08T21:06:28.864959",
     "status": "completed"
    },
    "tags": []
   },
   "source": [
    "Now we are ready to train. The following cell takes a few minutes to run. The command below will first provision the required hardware. You will see a series of dots indicating the progress of the hardware provisioning process. Once the resources are allocated, training logs will be displayed. With multiple workers, the log color and the ID following `INFO` identifies logs emitted by different workers."
   ]
  },
  {
   "cell_type": "code",
   "execution_count": null,
   "id": "c9e4b1e2",
   "metadata": {
    "execution": {
     "iopub.execute_input": "2021-06-08T21:06:29.014408Z",
     "iopub.status.busy": "2021-06-08T21:06:29.013476Z",
     "iopub.status.idle": "2021-06-08T21:23:48.965914Z",
     "shell.execute_reply": "2021-06-08T21:23:48.965291Z"
    },
    "papermill": {
     "duration": 1040.005287,
     "end_time": "2021-06-08T21:23:48.966057",
     "exception": false,
     "start_time": "2021-06-08T21:06:28.960770",
     "status": "completed"
    },
    "scrolled": true,
    "tags": []
   },
   "outputs": [],
   "source": [
    "ntm.fit({\"train\": s3_train, \"validation\": s3_val_data})"
   ]
  },
  {
   "cell_type": "markdown",
   "id": "ca5cc1d9",
   "metadata": {
    "papermill": {
     "duration": 0.081212,
     "end_time": "2021-06-08T21:23:49.129036",
     "exception": false,
     "start_time": "2021-06-08T21:23:49.047824",
     "status": "completed"
    },
    "tags": []
   },
   "source": [
    "If you see the message\n",
    "\n",
    "> `===== Job Complete =====`\n",
    "\n",
    "at the bottom of the output logs then that means training successfully completed and the output NTM model was stored in the specified output path. You can also view information about and the status of a training job using the AWS SageMaker console. Just click on the \"Jobs\" tab and select training job matching the training job name, below:"
   ]
  },
  {
   "cell_type": "code",
   "execution_count": null,
   "id": "2251d7a9",
   "metadata": {
    "execution": {
     "iopub.execute_input": "2021-06-08T21:23:49.296263Z",
     "iopub.status.busy": "2021-06-08T21:23:49.295613Z",
     "iopub.status.idle": "2021-06-08T21:23:49.298025Z",
     "shell.execute_reply": "2021-06-08T21:23:49.298464Z"
    },
    "papermill": {
     "duration": 0.088313,
     "end_time": "2021-06-08T21:23:49.298609",
     "exception": false,
     "start_time": "2021-06-08T21:23:49.210296",
     "status": "completed"
    },
    "tags": []
   },
   "outputs": [],
   "source": [
    "print(\"Training job name: {}\".format(ntm.latest_training_job.job_name))"
   ]
  },
  {
   "cell_type": "markdown",
   "id": "2a8db4fc",
   "metadata": {
    "papermill": {
     "duration": 0.081343,
     "end_time": "2021-06-08T21:23:49.461371",
     "exception": false,
     "start_time": "2021-06-08T21:23:49.380028",
     "status": "completed"
    },
    "tags": []
   },
   "source": [
    "## Model Hosting and Inference\n",
    "\n",
    "A trained NTM model does nothing on its own. We now want to use the model we computed to perform inference on data. For this example, that means predicting the topic mixture representing a given document.\n",
    "\n",
    "We create an inference endpoint using the SageMaker Python SDK `deploy()` function from the job we defined above. We specify the instance type where inference is computed as well as an initial number of instances to spin up."
   ]
  },
  {
   "cell_type": "code",
   "execution_count": null,
   "id": "00a96680",
   "metadata": {
    "execution": {
     "iopub.execute_input": "2021-06-08T21:23:49.630626Z",
     "iopub.status.busy": "2021-06-08T21:23:49.630054Z",
     "iopub.status.idle": "2021-06-08T21:31:21.926921Z",
     "shell.execute_reply": "2021-06-08T21:31:21.927424Z"
    },
    "papermill": {
     "duration": 452.38477,
     "end_time": "2021-06-08T21:31:21.927592",
     "exception": false,
     "start_time": "2021-06-08T21:23:49.542822",
     "status": "completed"
    },
    "tags": []
   },
   "outputs": [],
   "source": [
    "from sagemaker.serializers import CSVSerializer\n",
    "from sagemaker.deserializers import JSONDeserializer\n",
    "\n",
    "ntm_predictor = ntm.deploy(\n",
    "    initial_instance_count=1,\n",
    "    instance_type=\"ml.m4.xlarge\",\n",
    "    serializer=CSVSerializer(),\n",
    "    deserializer=JSONDeserializer(),\n",
    ")"
   ]
  },
  {
   "cell_type": "markdown",
   "id": "540cc2e8",
   "metadata": {
    "papermill": {
     "duration": 0.086504,
     "end_time": "2021-06-08T21:31:22.099768",
     "exception": false,
     "start_time": "2021-06-08T21:31:22.013264",
     "status": "completed"
    },
    "tags": []
   },
   "source": [
    "Congratulations! You now have a functioning SageMaker NTM inference endpoint. You can confirm the endpoint configuration and status by navigating to the \"Endpoints\" tab in the AWS SageMaker console and selecting the endpoint matching the endpoint name, below: "
   ]
  },
  {
   "cell_type": "code",
   "execution_count": null,
   "id": "792f590c",
   "metadata": {
    "execution": {
     "iopub.execute_input": "2021-06-08T21:31:22.275437Z",
     "iopub.status.busy": "2021-06-08T21:31:22.274879Z",
     "iopub.status.idle": "2021-06-08T21:31:22.277404Z",
     "shell.execute_reply": "2021-06-08T21:31:22.277836Z"
    },
    "papermill": {
     "duration": 0.092325,
     "end_time": "2021-06-08T21:31:22.278004",
     "exception": false,
     "start_time": "2021-06-08T21:31:22.185679",
     "status": "completed"
    },
    "tags": []
   },
   "outputs": [],
   "source": [
    "print(\"Endpoint name: {}\".format(ntm_predictor.endpoint_name))"
   ]
  },
  {
   "cell_type": "markdown",
   "id": "5e6ce600",
   "metadata": {
    "papermill": {
     "duration": 0.085727,
     "end_time": "2021-06-08T21:31:22.449680",
     "exception": false,
     "start_time": "2021-06-08T21:31:22.363953",
     "status": "completed"
    },
    "tags": []
   },
   "source": [
    "Let's pass 5 examples from the test set to the inference endpoint"
   ]
  },
  {
   "cell_type": "code",
   "execution_count": null,
   "id": "28794e0f",
   "metadata": {
    "execution": {
     "iopub.execute_input": "2021-06-08T21:31:22.626693Z",
     "iopub.status.busy": "2021-06-08T21:31:22.625737Z",
     "iopub.status.idle": "2021-06-08T21:31:22.850819Z",
     "shell.execute_reply": "2021-06-08T21:31:22.850268Z"
    },
    "papermill": {
     "duration": 0.315038,
     "end_time": "2021-06-08T21:31:22.850943",
     "exception": false,
     "start_time": "2021-06-08T21:31:22.535905",
     "status": "completed"
    },
    "tags": []
   },
   "outputs": [],
   "source": [
    "test_data = np.array(test_vectors.todense())\n",
    "results = ntm_predictor.predict(test_data[:5])\n",
    "print(results)"
   ]
  },
  {
   "cell_type": "markdown",
   "id": "534e5f3f",
   "metadata": {
    "papermill": {
     "duration": 0.086139,
     "end_time": "2021-06-08T21:31:23.023141",
     "exception": false,
     "start_time": "2021-06-08T21:31:22.937002",
     "status": "completed"
    },
    "tags": []
   },
   "source": [
    "We can see the output format of SageMaker NTM inference endpoint is a Python dictionary with the following format.\n",
    "\n",
    "```\n",
    "{\n",
    "  'predictions': [\n",
    "    {'topic_weights': [ ... ] },\n",
    "    {'topic_weights': [ ... ] },\n",
    "    {'topic_weights': [ ... ] },\n",
    "    ...\n",
    "  ]\n",
    "}\n",
    "```\n",
    "\n",
    "We extract the topic weights, themselves, corresponding to each of the input documents."
   ]
  },
  {
   "cell_type": "code",
   "execution_count": null,
   "id": "9d640006",
   "metadata": {
    "execution": {
     "iopub.execute_input": "2021-06-08T21:31:23.201537Z",
     "iopub.status.busy": "2021-06-08T21:31:23.200941Z",
     "iopub.status.idle": "2021-06-08T21:31:23.203914Z",
     "shell.execute_reply": "2021-06-08T21:31:23.203465Z"
    },
    "papermill": {
     "duration": 0.094401,
     "end_time": "2021-06-08T21:31:23.204033",
     "exception": false,
     "start_time": "2021-06-08T21:31:23.109632",
     "status": "completed"
    },
    "tags": []
   },
   "outputs": [],
   "source": [
    "predictions = np.array([prediction[\"topic_weights\"] for prediction in results[\"predictions\"]])\n",
    "print(predictions)"
   ]
  },
  {
   "cell_type": "markdown",
   "id": "ad89bb0d",
   "metadata": {
    "papermill": {
     "duration": 0.086825,
     "end_time": "2021-06-08T21:31:23.377446",
     "exception": false,
     "start_time": "2021-06-08T21:31:23.290621",
     "status": "completed"
    },
    "tags": []
   },
   "source": [
    "---\n",
    "### Inference with RecordIO Protobuf\n",
    "The inference endpoint also supports JSON-formatted and RecordIO Protobuf, see [Common Data Formats—Inference](https://docs.aws.amazon.com/sagemaker/latest/dg/cdf-inference.html) for more information. \n",
    "\n",
    "At the time of writing SageMaker Python SDK does not yet have a RecordIO Protobuf serializer, but it is fairly straightforward to create one as follows."
   ]
  },
  {
   "cell_type": "code",
   "execution_count": null,
   "id": "3d9b0a22",
   "metadata": {
    "execution": {
     "iopub.execute_input": "2021-06-08T21:31:23.556121Z",
     "iopub.status.busy": "2021-06-08T21:31:23.555351Z",
     "iopub.status.idle": "2021-06-08T21:31:23.557561Z",
     "shell.execute_reply": "2021-06-08T21:31:23.558035Z"
    },
    "papermill": {
     "duration": 0.094291,
     "end_time": "2021-06-08T21:31:23.558182",
     "exception": false,
     "start_time": "2021-06-08T21:31:23.463891",
     "status": "completed"
    },
    "tags": []
   },
   "outputs": [],
   "source": [
    "def recordio_protobuf_serializer(spmatrix):\n",
    "    import io\n",
    "    import sagemaker.amazon.common as smac\n",
    "\n",
    "    buf = io.BytesIO()\n",
    "    smac.write_spmatrix_to_sparse_tensor(array=spmatrix, file=buf, labels=None)\n",
    "    buf.seek(0)\n",
    "    return buf"
   ]
  },
  {
   "cell_type": "markdown",
   "id": "92e608ec",
   "metadata": {
    "papermill": {
     "duration": 0.086612,
     "end_time": "2021-06-08T21:31:23.731479",
     "exception": false,
     "start_time": "2021-06-08T21:31:23.644867",
     "status": "completed"
    },
    "tags": []
   },
   "source": [
    "If you decide to compare these results to the known topic weights generated above keep in mind that SageMaker NTM discovers topics in no particular order. That is, the approximate topic mixtures computed above may be (approximate) permutations of the known topic mixtures corresponding to the same documents."
   ]
  },
  {
   "cell_type": "markdown",
   "id": "43c83800",
   "metadata": {
    "papermill": {
     "duration": 0.086791,
     "end_time": "2021-06-08T21:31:23.905311",
     "exception": false,
     "start_time": "2021-06-08T21:31:23.818520",
     "status": "completed"
    },
    "tags": []
   },
   "source": [
    "---\n",
    "Now we can take a look at how the 20 topics are assigned to the 5 test documents with a bar plot."
   ]
  },
  {
   "cell_type": "code",
   "execution_count": null,
   "id": "73ec118f",
   "metadata": {
    "execution": {
     "iopub.execute_input": "2021-06-08T21:31:24.085365Z",
     "iopub.status.busy": "2021-06-08T21:31:24.084813Z",
     "iopub.status.idle": "2021-06-08T21:31:24.724410Z",
     "shell.execute_reply": "2021-06-08T21:31:24.724912Z"
    },
    "papermill": {
     "duration": 0.733062,
     "end_time": "2021-06-08T21:31:24.725080",
     "exception": false,
     "start_time": "2021-06-08T21:31:23.992018",
     "status": "completed"
    },
    "tags": []
   },
   "outputs": [],
   "source": [
    "import pandas as pd\n",
    "import matplotlib.pyplot as plt\n",
    "\n",
    "%matplotlib inline\n",
    "\n",
    "fs = 12\n",
    "df = pd.DataFrame(predictions.T)\n",
    "df.plot(kind=\"bar\", figsize=(16, 4), fontsize=fs)\n",
    "plt.ylabel(\"Topic assignment\", fontsize=fs + 2)\n",
    "plt.xlabel(\"Topic ID\", fontsize=fs + 2)"
   ]
  },
  {
   "cell_type": "markdown",
   "id": "9aee381c",
   "metadata": {
    "papermill": {
     "duration": 0.087339,
     "end_time": "2021-06-08T21:31:24.913438",
     "exception": false,
     "start_time": "2021-06-08T21:31:24.826099",
     "status": "completed"
    },
    "tags": []
   },
   "source": [
    "### Stop / Close the Endpoint\n",
    "\n",
    "Finally, we should delete the endpoint before we close the notebook.\n",
    "\n",
    "To restart the endpoint you can follow the code above using the same `endpoint_name` we created or you can navigate to the \"Endpoints\" tab in the SageMaker console, select the endpoint with the name stored in the variable `endpoint_name`, and select \"Delete\" from the \"Actions\" dropdown menu. "
   ]
  },
  {
   "cell_type": "code",
   "execution_count": null,
   "id": "a56ac4b4",
   "metadata": {
    "execution": {
     "iopub.execute_input": "2021-06-08T21:31:25.100455Z",
     "iopub.status.busy": "2021-06-08T21:31:25.099565Z",
     "iopub.status.idle": "2021-06-08T21:31:25.170396Z",
     "shell.execute_reply": "2021-06-08T21:31:25.169867Z"
    },
    "papermill": {
     "duration": 0.169637,
     "end_time": "2021-06-08T21:31:25.170519",
     "exception": false,
     "start_time": "2021-06-08T21:31:25.000882",
     "status": "completed"
    },
    "tags": []
   },
   "outputs": [],
   "source": [
    "sagemaker.Session().delete_endpoint(ntm_predictor.endpoint_name)"
   ]
  },
  {
   "cell_type": "markdown",
   "id": "7843440a",
   "metadata": {
    "papermill": {
     "duration": 0.088459,
     "end_time": "2021-06-08T21:31:25.347309",
     "exception": false,
     "start_time": "2021-06-08T21:31:25.258850",
     "status": "completed"
    },
    "tags": []
   },
   "source": [
    "## Model Exploration"
   ]
  },
  {
   "cell_type": "markdown",
   "id": "043668a4",
   "metadata": {
    "papermill": {
     "duration": 0.088629,
     "end_time": "2021-06-08T21:31:25.524254",
     "exception": false,
     "start_time": "2021-06-08T21:31:25.435625",
     "status": "completed"
    },
    "tags": []
   },
   "source": [
    "***Note: The following section is meant as a deeper dive into exploring the trained models. The demonstrated functionalities may not be fully supported or guaranteed. For example, the parameter names may change without notice.***\n",
    "\n",
    "\n",
    "The trained model artifact is a compressed package of MXNet models from the two workers. To explore the model, we first need to install mxnet."
   ]
  },
  {
   "cell_type": "code",
   "execution_count": null,
   "id": "c1099b93",
   "metadata": {
    "execution": {
     "iopub.execute_input": "2021-06-08T21:31:25.704815Z",
     "iopub.status.busy": "2021-06-08T21:31:25.704204Z",
     "iopub.status.idle": "2021-06-08T21:31:26.615951Z",
     "shell.execute_reply": "2021-06-08T21:31:26.615363Z"
    },
    "papermill": {
     "duration": 1.003906,
     "end_time": "2021-06-08T21:31:26.616088",
     "exception": false,
     "start_time": "2021-06-08T21:31:25.612182",
     "status": "completed"
    },
    "tags": []
   },
   "outputs": [],
   "source": [
    "# If you use conda_mxnet_p36 kernel, mxnet is already installed, otherwise, uncomment the following line to install.\n",
    "# !pip install mxnet\n",
    "import mxnet as mx"
   ]
  },
  {
   "cell_type": "markdown",
   "id": "849f6492",
   "metadata": {
    "papermill": {
     "duration": 0.089891,
     "end_time": "2021-06-08T21:31:26.794473",
     "exception": false,
     "start_time": "2021-06-08T21:31:26.704582",
     "status": "completed"
    },
    "tags": []
   },
   "source": [
    "Here we download unpack the artifact"
   ]
  },
  {
   "cell_type": "code",
   "execution_count": null,
   "id": "64f2c973",
   "metadata": {
    "execution": {
     "iopub.execute_input": "2021-06-08T21:31:26.978568Z",
     "iopub.status.busy": "2021-06-08T21:31:26.977743Z",
     "iopub.status.idle": "2021-06-08T21:31:26.982316Z",
     "shell.execute_reply": "2021-06-08T21:31:26.981841Z"
    },
    "papermill": {
     "duration": 0.099368,
     "end_time": "2021-06-08T21:31:26.982439",
     "exception": false,
     "start_time": "2021-06-08T21:31:26.883071",
     "status": "completed"
    },
    "tags": []
   },
   "outputs": [],
   "source": [
    "model_path = os.path.join(output_prefix, ntm._current_job_name, \"output/model.tar.gz\")\n",
    "model_path"
   ]
  },
  {
   "cell_type": "code",
   "execution_count": null,
   "id": "536fb075",
   "metadata": {
    "execution": {
     "iopub.execute_input": "2021-06-08T21:31:27.175129Z",
     "iopub.status.busy": "2021-06-08T21:31:27.174559Z",
     "iopub.status.idle": "2021-06-08T21:31:27.334062Z",
     "shell.execute_reply": "2021-06-08T21:31:27.334527Z"
    },
    "papermill": {
     "duration": 0.263875,
     "end_time": "2021-06-08T21:31:27.334684",
     "exception": false,
     "start_time": "2021-06-08T21:31:27.070809",
     "status": "completed"
    },
    "tags": []
   },
   "outputs": [],
   "source": [
    "boto3.resource(\"s3\").Bucket(bucket).download_file(model_path, \"downloaded_model.tar.gz\")"
   ]
  },
  {
   "cell_type": "code",
   "execution_count": null,
   "id": "b91176b2",
   "metadata": {},
   "outputs": [],
   "source": [
    "!pwd"
   ]
  },
  {
   "cell_type": "code",
   "execution_count": null,
   "id": "a93f3f21",
   "metadata": {},
   "outputs": [],
   "source": [
    "import tarfile\n",
    "\n",
    "tarfile.open(\"downloaded_model.tar.gz\").extractall()"
   ]
  },
  {
   "cell_type": "code",
   "execution_count": null,
   "id": "5a946a9b",
   "metadata": {},
   "outputs": [],
   "source": [
    "import zipfile\n",
    "\n",
    "with zipfile.ZipFile(\"model_algo-1\", \"r\") as zip_ref:\n",
    "    zip_ref.extractall(\"./\")"
   ]
  },
  {
   "cell_type": "markdown",
   "id": "d5039948",
   "metadata": {
    "papermill": {
     "duration": 0.089504,
     "end_time": "2021-06-08T21:31:28.204911",
     "exception": false,
     "start_time": "2021-06-08T21:31:28.115407",
     "status": "completed"
    },
    "tags": []
   },
   "source": [
    "We can load the model parameters and extract the weight matrix $W$ in the decoder as follows"
   ]
  },
  {
   "cell_type": "code",
   "execution_count": null,
   "id": "796ed7b8",
   "metadata": {
    "execution": {
     "iopub.execute_input": "2021-06-08T21:31:28.387482Z",
     "iopub.status.busy": "2021-06-08T21:31:28.386935Z",
     "iopub.status.idle": "2021-06-08T21:31:28.564649Z",
     "shell.execute_reply": "2021-06-08T21:31:28.563606Z"
    },
    "papermill": {
     "duration": 0.271149,
     "end_time": "2021-06-08T21:31:28.564887",
     "exception": true,
     "start_time": "2021-06-08T21:31:28.293738",
     "status": "failed"
    },
    "tags": []
   },
   "outputs": [],
   "source": [
    "model = mx.ndarray.load(\"params\")\n",
    "W = model[\"arg:projection_weight\"]"
   ]
  },
  {
   "cell_type": "markdown",
   "id": "85d44999",
   "metadata": {
    "papermill": {
     "duration": null,
     "end_time": null,
     "exception": null,
     "start_time": null,
     "status": "pending"
    },
    "tags": []
   },
   "source": [
    "Matrix $W$ corresponds to the $W$ in the NTM digram at the beginning of this notebook. Each column of $W$ corresponds to a learned topic. The elements in the columns of $W$ corresponds to the pseudo-probability of a word within a topic. We can visualize each topic as a word cloud with the size of each word be proportional to the pseudo-probability of the words appearing under each topic."
   ]
  },
  {
   "cell_type": "code",
   "execution_count": null,
   "id": "4004ffeb",
   "metadata": {
    "papermill": {
     "duration": null,
     "end_time": null,
     "exception": null,
     "start_time": null,
     "status": "pending"
    },
    "tags": []
   },
   "outputs": [],
   "source": [
    "import sys\n",
    "\n",
    "!{sys.executable} -m pip install wordcloud\n",
    "\n",
    "import wordcloud as wc"
   ]
  },
  {
   "cell_type": "code",
   "execution_count": null,
   "id": "f4684f18",
   "metadata": {
    "papermill": {
     "duration": null,
     "end_time": null,
     "exception": null,
     "start_time": null,
     "status": "pending"
    },
    "tags": []
   },
   "outputs": [],
   "source": [
    "import matplotlib.pyplot as plt\n",
    "\n",
    "word_to_id = dict()\n",
    "for i, v in enumerate(vocab_list):\n",
    "    word_to_id[v] = i\n",
    "\n",
    "limit = 24\n",
    "n_col = 4\n",
    "counter = 0\n",
    "\n",
    "plt.figure(figsize=(20, 16))\n",
    "for ind in range(num_topics):\n",
    "\n",
    "    if counter >= limit:\n",
    "        break\n",
    "\n",
    "    title_str = \"Topic{}\".format(ind)\n",
    "\n",
    "    # pvals = mx.nd.softmax(W[:, ind]).asnumpy()\n",
    "    pvals = mx.nd.softmax(mx.nd.array(W[:, ind])).asnumpy()\n",
    "\n",
    "    word_freq = dict()\n",
    "    for k in word_to_id.keys():\n",
    "        i = word_to_id[k]\n",
    "        word_freq[k] = pvals[i]\n",
    "\n",
    "    wordcloud = wc.WordCloud(background_color=\"white\").fit_words(word_freq)\n",
    "\n",
    "    plt.subplot(limit // n_col, n_col, counter + 1)\n",
    "    plt.imshow(wordcloud, interpolation=\"bilinear\")\n",
    "    plt.axis(\"off\")\n",
    "    plt.title(title_str)\n",
    "    # plt.close()\n",
    "\n",
    "    counter += 1"
   ]
  },
  {
   "cell_type": "code",
   "execution_count": null,
   "id": "b38e42ec",
   "metadata": {},
   "outputs": [],
   "source": []
  }
 ],
 "metadata": {
  "celltoolbar": "Tags",
  "instance_type": "ml.t3.medium",
  "kernelspec": {
   "display_name": "Python 3 (MXNet 1.6 Python 3.6 CPU Optimized)",
   "language": "python",
   "name": "python3__SAGEMAKER_INTERNAL__arn:aws:sagemaker:us-east-1:081325390199:image/mxnet-1.6-cpu-py36"
  },
  "language_info": {
   "codemirror_mode": {
    "name": "ipython",
    "version": 3
   },
   "file_extension": ".py",
   "mimetype": "text/x-python",
   "name": "python",
   "nbconvert_exporter": "python",
   "pygments_lexer": "ipython3",
   "version": "3.6.13"
  },
  "notice": "Copyright 2018 Amazon.com, Inc. or its affiliates. All Rights Reserved.  Licensed under the Apache License, Version 2.0 (the \"License\"). You may not use this file except in compliance with the License. A copy of the License is located at http://aws.amazon.com/apache2.0/ or in the \"license\" file accompanying this file. This file is distributed on an \"AS IS\" BASIS, WITHOUT WARRANTIES OR CONDITIONS OF ANY KIND, either express or implied. See the License for the specific language governing permissions and limitations under the License.",
  "papermill": {
   "default_parameters": {},
   "duration": 1583.519637,
   "end_time": "2021-06-08T21:31:30.108935",
   "environment_variables": {},
   "exception": true,
   "input_path": "ntm_20newsgroups_topic_model.ipynb",
   "output_path": "/opt/ml/processing/output/ntm_20newsgroups_topic_model-2021-06-08-21-01-20.ipynb",
   "parameters": {
    "kms_key": "arn:aws:kms:us-west-2:521695447989:key/6e9984db-50cf-4c7e-926c-877ec47a8b25"
   },
   "start_time": "2021-06-08T21:05:06.589298",
   "version": "2.3.3"
  }
 },
 "nbformat": 4,
 "nbformat_minor": 5
}
