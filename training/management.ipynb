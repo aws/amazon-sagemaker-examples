{
 "cells": [
  {
   "cell_type": "markdown",
   "metadata": {},
   "source": [
    "# Management Features\n",
    "\n",
    "Examples on how to use SageMaker's training management features.\n",
    "\n"
   ]
  },
  {
   "cell_type": "markdown",
   "metadata": {},
   "source": [
    "## Early stopping\n",
    "---\n",
    "\n",
    "* [Automatic Model Tuning : Automatic training job early stopping](../hyperparameter_tuning/image_classification_early_stopping/hpo_image_classification_early_stopping.ipynb)"
   ]
  },
  {
   "cell_type": "markdown",
   "metadata": {},
   "source": [
    "## Spot training\n",
    "---\n",
    "\n",
    "* [Managed Spot Training for XGBoost](../introduction_to_amazon_algorithms/xgboost_abalone/xgboost_managed_spot_training.ipynb)\n",
    "* [Training using SageMaker Estimators on SageMaker Managed Spot Training](../sagemaker-python-sdk/managed_spot_training_tensorflow_estimator/managed_spot_training_tensorflow_estimator.ipynb)\n",
    "* [Training SageMaker Models using the Apache MXNet Module API on SageMaker Managed Spot Training](../sagemaker-python-sdk/managed_spot_training_mxnet/managed_spot_training_mxnet.ipynb)\n",
    "\n"
   ]
  },
  {
   "cell_type": "markdown",
   "metadata": {},
   "source": [
    "## Warm start\n",
    "---\n",
    "\n",
    "* [Automatic Model Tuning : Warm Starting Tuning Jobs](../hyperparameter_tuning/image_classification_warmstart/hpo_image_classification_warmstart.ipynb)"
   ]
  }
 ],
 "metadata": {
  "instance_type": "ml.t3.medium",
  "kernelspec": {
   "display_name": "Python 3 (Data Science)",
   "language": "python",
   "name": "python3__SAGEMAKER_INTERNAL__arn:aws:sagemaker:us-west-2:236514542706:image/datascience-1.0"
  },
  "language_info": {
   "codemirror_mode": {
    "name": "ipython",
    "version": 3
   },
   "file_extension": ".py",
   "mimetype": "text/x-python",
   "name": "python",
   "nbconvert_exporter": "python",
   "pygments_lexer": "ipython3",
   "version": "3.7.10"
  }
 },
 "nbformat": 4,
 "nbformat_minor": 4
}
