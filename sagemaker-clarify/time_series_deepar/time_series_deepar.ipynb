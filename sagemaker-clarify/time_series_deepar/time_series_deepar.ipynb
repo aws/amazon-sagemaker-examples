{
 "cells": [
  {
   "cell_type": "markdown",
   "id": "9627be2f-a5b9-4e27-8e3b-f60e24bc70b7",
   "metadata": {
    "tags": []
   },
   "source": [
    "# Time Series Explainability DeepAR notebook"
   ]
  },
  {
   "cell_type": "markdown",
   "id": "49e519a8",
   "metadata": {},
   "source": [
    "---\n",
    "\n",
    "This notebook's CI test result for us-west-2 is as follows. CI test results in other regions can be found at the end of the notebook. \n",
    "\n",
    "![This us-west-2 badge failed to load. Check your device's internet connectivity, otherwise the service is currently unavailable](https://prod.us-west-2.tcx-beacon.docs.aws.dev/sagemaker-nb/us-west-2/sagemaker-clarify|time_series_deepar|time_series_deepar.ipynb)\n",
    "\n",
    "---"
   ]
  },
  {
   "cell_type": "markdown",
   "id": "3ee22a23-5ea7-4a9f-a486-36a79bb83394",
   "metadata": {
    "jp-MarkdownHeadingCollapsed": true,
    "tags": []
   },
   "source": [
    "## Runtime\n",
    "\n",
    "This notebook takes approximately 30 minutes to run.\n",
    "\n",
    "### Contents\n",
    "\n",
    "1. [Summary](#Summary)\n",
    "\n",
    "2. [Prerequisites](#Prerequisites)    \n",
    "\n",
    "    a. [Install Mercury](#Install-Mercury)\n",
    "\n",
    "    b. [Install Development SDK](#Install-Development-SDK)\n",
    "    \n",
    "    c. [Loading the data: Everlane Dataset](#Loading-the-data:-Everlane-Dataset)\n",
    "    \n",
    "    d. [Train TimeSeries Model](#Train-TimeSeries-Model)\n",
    "    \n",
    "    e. [Create an Endpoint from Training Job](#Create-an-Endpoint-from-Training-Job)\n",
    "\n",
    "4. [Time Series Explainability](#Time-Series-Explainability)\n",
    "\n",
    "    a. [Create `TimeSeriesDataConfig`](#Create-TimeSeriesDataConfig)\n",
    "     \n",
    "    b. [Create `TimeSeriesModelConfig`](#Create-TimeSeriesModelConfig)\n",
    "     \n",
    "    c. [Create `AsymmetricShapleyValueConfig`](#Create-AsymmetricShapleyValueConfig)\n",
    "    \n",
    "    d. [Create `DataConfig`](#Create-DataConfig)\n",
    "    \n",
    "    e. [Create `ModelConfig`](#Create-ModelConfig)\n",
    "     \n",
    "    f. [Setup Processor](#Setup-Processor)\n",
    "    \n",
    "    g. [Run Explainability Call](#Run-Explainability-Call)\n",
    "\n",
    "5. [Analysis Config](#Analysis-Config)\n",
    "\n",
    "    a. [Retrieve Config From s3](#Retrieve-Config-From-s3)\n",
    "        \n",
    "    b. [Display Config](#Display-Config)\n",
    "\n",
    "6. [Explainability Results](#Explainability-Results)\n",
    "\n",
    "    a. [Retrieve Results From s3](#Retrieve-Results-From-s3)\n",
    "    \n",
    "    b. [Display Results](#Display-Results)\n",
    "\n",
    "7. [Clean Up](#Clean-Up)"
   ]
  },
  {
   "cell_type": "markdown",
   "id": "1985cfd8-7425-4008-bd30-0d11220f186f",
   "metadata": {
    "tags": []
   },
   "source": [
    "## Summary\n",
    "\n",
    "This notebook is created to demonstrate the invocation of a SageMaker Clarify explainability job for a time series DeepAR forecasting model. Given a real model and a training dataset, a processingJob will be create to analyze the SHAP score for each feature attribute."
   ]
  },
  {
   "cell_type": "markdown",
   "id": "75aeddef-bdba-4e57-bccb-e08172703bcc",
   "metadata": {
    "tags": []
   },
   "source": [
    "## Prerequisites"
   ]
  },
  {
   "cell_type": "markdown",
   "id": "0e87fc8d-d827-495f-8a32-4c4b93ab1ba7",
   "metadata": {
    "tags": []
   },
   "source": [
    "### Install Mercury\n",
    "\n",
    "If not already installed, the following cell will install the `mercury` package in order to display the `analysis_config.json` and explainability job output within the notebook."
   ]
  },
  {
   "cell_type": "code",
   "execution_count": 1,
   "id": "c32654dc-cd02-4be8-9e7b-e38d16bb44dc",
   "metadata": {
    "tags": []
   },
   "outputs": [
    {
     "name": "stdout",
     "output_type": "stream",
     "text": [
      "\u001b[33mWARNING: Ignoring invalid distribution -otocore (/local/home/zicanl/.virtualenvs/venv/lib/python3.9/site-packages)\u001b[0m\u001b[33m\n",
      "\u001b[0m\u001b[33mWARNING: dj-rest-auth 3.0.0 does not provide the extra 'with-social'\u001b[0m\u001b[33m\n",
      "\u001b[0m\u001b[33mWARNING: Ignoring invalid distribution -otocore (/local/home/zicanl/.virtualenvs/venv/lib/python3.9/site-packages)\u001b[0m\u001b[33m\n",
      "\u001b[0m\u001b[31mERROR: pip's dependency resolver does not currently take into account all the packages that are installed. This behaviour is the source of the following dependency conflicts.\n",
      "awscli 1.31.7 requires botocore==1.33.7, but you have botocore 1.29.165 which is incompatible.\n",
      "awscli 1.31.7 requires s3transfer<0.9.0,>=0.8.0, but you have s3transfer 0.6.2 which is incompatible.\n",
      "sagemaker 2.214.3 requires boto3<2.0,>=1.33.3, but you have boto3 1.26.83 which is incompatible.\u001b[0m\u001b[31m\n",
      "\u001b[0m"
     ]
    }
   ],
   "source": [
    "!pip install mercury -q"
   ]
  },
  {
   "cell_type": "markdown",
   "id": "af541390-8a5c-4a5f-9cf0-d7a2b27d11b6",
   "metadata": {},
   "source": [
    "## Install Development SDK\n",
    "\n",
    "As of 13-12-23, time series explainability (TSX) is in closed beta. The changes to the SDK to support it are not merged into the `sagemaker-python-sdk` repository. Instead, we install a version of the PySDK that does support these changes directly via a wheel file. "
   ]
  },
  {
   "cell_type": "code",
   "execution_count": 2,
   "id": "edad7356-526c-4860-9fa7-359fa26a6d67",
   "metadata": {
    "tags": []
   },
   "outputs": [
    {
     "name": "stdout",
     "output_type": "stream",
     "text": [
      "\u001b[33mWARNING: Ignoring invalid distribution -otocore (/local/home/zicanl/.virtualenvs/venv/lib/python3.9/site-packages)\u001b[0m\u001b[33m\n",
      "\u001b[0m\u001b[33mWARNING: Skipping c as it is not installed.\u001b[0m\u001b[33m\n",
      "\u001b[0m\u001b[33mWARNING: Ignoring invalid distribution -otocore (/local/home/zicanl/.virtualenvs/venv/lib/python3.9/site-packages)\u001b[0m\u001b[33m\n",
      "\u001b[0mCollecting sagemaker\n",
      "  Using cached sagemaker-2.214.3-py3-none-any.whl.metadata (14 kB)\n",
      "Requirement already satisfied: attrs<24,>=23.1.0 in /local/home/zicanl/.virtualenvs/venv/lib/python3.9/site-packages (from sagemaker) (23.2.0)\n",
      "Collecting boto3<2.0,>=1.33.3 (from sagemaker)\n",
      "  Using cached boto3-1.34.80-py3-none-any.whl.metadata (6.6 kB)\n",
      "Requirement already satisfied: cloudpickle==2.2.1 in /local/home/zicanl/.virtualenvs/venv/lib/python3.9/site-packages (from sagemaker) (2.2.1)\n",
      "Requirement already satisfied: google-pasta in /local/home/zicanl/.virtualenvs/venv/lib/python3.9/site-packages (from sagemaker) (0.2.0)\n",
      "Requirement already satisfied: numpy<2.0,>=1.9.0 in /local/home/zicanl/.virtualenvs/venv/lib/python3.9/site-packages (from sagemaker) (1.26.4)\n",
      "Requirement already satisfied: protobuf<5.0,>=3.12 in /local/home/zicanl/.virtualenvs/venv/lib/python3.9/site-packages (from sagemaker) (4.25.3)\n",
      "Requirement already satisfied: smdebug-rulesconfig==1.0.1 in /local/home/zicanl/.virtualenvs/venv/lib/python3.9/site-packages (from sagemaker) (1.0.1)\n",
      "Requirement already satisfied: importlib-metadata<7.0,>=1.4.0 in /local/home/zicanl/.virtualenvs/venv/lib/python3.9/site-packages (from sagemaker) (6.11.0)\n",
      "Requirement already satisfied: packaging>=20.0 in /local/home/zicanl/.virtualenvs/venv/lib/python3.9/site-packages (from sagemaker) (24.0)\n",
      "Requirement already satisfied: pandas in /local/home/zicanl/.virtualenvs/venv/lib/python3.9/site-packages (from sagemaker) (2.2.1)\n",
      "Requirement already satisfied: pathos in /local/home/zicanl/.virtualenvs/venv/lib/python3.9/site-packages (from sagemaker) (0.3.2)\n",
      "Requirement already satisfied: schema in /local/home/zicanl/.virtualenvs/venv/lib/python3.9/site-packages (from sagemaker) (0.7.5)\n",
      "Requirement already satisfied: PyYAML~=6.0 in /local/home/zicanl/.virtualenvs/venv/lib/python3.9/site-packages (from sagemaker) (6.0)\n",
      "Requirement already satisfied: jsonschema in /local/home/zicanl/.virtualenvs/venv/lib/python3.9/site-packages (from sagemaker) (4.21.1)\n",
      "Requirement already satisfied: platformdirs in /local/home/zicanl/.virtualenvs/venv/lib/python3.9/site-packages (from sagemaker) (4.2.0)\n",
      "Requirement already satisfied: tblib<4,>=1.7.0 in /local/home/zicanl/.virtualenvs/venv/lib/python3.9/site-packages (from sagemaker) (3.0.0)\n",
      "Requirement already satisfied: urllib3<3.0.0,>=1.26.8 in /local/home/zicanl/.virtualenvs/venv/lib/python3.9/site-packages (from sagemaker) (1.26.18)\n",
      "Requirement already satisfied: requests in /local/home/zicanl/.virtualenvs/venv/lib/python3.9/site-packages (from sagemaker) (2.31.0)\n",
      "Requirement already satisfied: docker in /local/home/zicanl/.virtualenvs/venv/lib/python3.9/site-packages (from sagemaker) (7.0.0)\n",
      "Requirement already satisfied: tqdm in /local/home/zicanl/.virtualenvs/venv/lib/python3.9/site-packages (from sagemaker) (4.66.2)\n",
      "Requirement already satisfied: psutil in /local/home/zicanl/.virtualenvs/venv/lib/python3.9/site-packages (from sagemaker) (5.9.8)\n",
      "Collecting botocore<1.35.0,>=1.34.80 (from boto3<2.0,>=1.33.3->sagemaker)\n",
      "  Using cached botocore-1.34.80-py3-none-any.whl.metadata (5.7 kB)\n",
      "Requirement already satisfied: jmespath<2.0.0,>=0.7.1 in /local/home/zicanl/.virtualenvs/venv/lib/python3.9/site-packages (from boto3<2.0,>=1.33.3->sagemaker) (1.0.1)\n",
      "Collecting s3transfer<0.11.0,>=0.10.0 (from boto3<2.0,>=1.33.3->sagemaker)\n",
      "  Using cached s3transfer-0.10.1-py3-none-any.whl.metadata (1.7 kB)\n",
      "Requirement already satisfied: zipp>=0.5 in /local/home/zicanl/.virtualenvs/venv/lib/python3.9/site-packages (from importlib-metadata<7.0,>=1.4.0->sagemaker) (3.18.1)\n",
      "Requirement already satisfied: charset-normalizer<4,>=2 in /local/home/zicanl/.virtualenvs/venv/lib/python3.9/site-packages (from requests->sagemaker) (3.3.2)\n",
      "Requirement already satisfied: idna<4,>=2.5 in /local/home/zicanl/.virtualenvs/venv/lib/python3.9/site-packages (from requests->sagemaker) (3.6)\n",
      "Requirement already satisfied: certifi>=2017.4.17 in /local/home/zicanl/.virtualenvs/venv/lib/python3.9/site-packages (from requests->sagemaker) (2024.2.2)\n",
      "Requirement already satisfied: six in /local/home/zicanl/.virtualenvs/venv/lib/python3.9/site-packages (from google-pasta->sagemaker) (1.16.0)\n",
      "Requirement already satisfied: jsonschema-specifications>=2023.03.6 in /local/home/zicanl/.virtualenvs/venv/lib/python3.9/site-packages (from jsonschema->sagemaker) (2023.12.1)\n",
      "Requirement already satisfied: referencing>=0.28.4 in /local/home/zicanl/.virtualenvs/venv/lib/python3.9/site-packages (from jsonschema->sagemaker) (0.34.0)\n",
      "Requirement already satisfied: rpds-py>=0.7.1 in /local/home/zicanl/.virtualenvs/venv/lib/python3.9/site-packages (from jsonschema->sagemaker) (0.18.0)\n",
      "Requirement already satisfied: python-dateutil>=2.8.2 in /local/home/zicanl/.virtualenvs/venv/lib/python3.9/site-packages (from pandas->sagemaker) (2.9.0.post0)\n",
      "Requirement already satisfied: pytz>=2020.1 in /local/home/zicanl/.virtualenvs/venv/lib/python3.9/site-packages (from pandas->sagemaker) (2024.1)\n",
      "Requirement already satisfied: tzdata>=2022.7 in /local/home/zicanl/.virtualenvs/venv/lib/python3.9/site-packages (from pandas->sagemaker) (2024.1)\n",
      "Requirement already satisfied: ppft>=1.7.6.8 in /local/home/zicanl/.virtualenvs/venv/lib/python3.9/site-packages (from pathos->sagemaker) (1.7.6.8)\n",
      "Requirement already satisfied: dill>=0.3.8 in /local/home/zicanl/.virtualenvs/venv/lib/python3.9/site-packages (from pathos->sagemaker) (0.3.8)\n",
      "Requirement already satisfied: pox>=0.3.4 in /local/home/zicanl/.virtualenvs/venv/lib/python3.9/site-packages (from pathos->sagemaker) (0.3.4)\n",
      "Requirement already satisfied: multiprocess>=0.70.16 in /local/home/zicanl/.virtualenvs/venv/lib/python3.9/site-packages (from pathos->sagemaker) (0.70.16)\n",
      "Requirement already satisfied: contextlib2>=0.5.5 in /local/home/zicanl/.virtualenvs/venv/lib/python3.9/site-packages (from schema->sagemaker) (21.6.0)\n",
      "Using cached sagemaker-2.214.3-py3-none-any.whl (1.4 MB)\n",
      "Using cached boto3-1.34.80-py3-none-any.whl (139 kB)\n",
      "Using cached botocore-1.34.80-py3-none-any.whl (12.1 MB)\n",
      "Using cached s3transfer-0.10.1-py3-none-any.whl (82 kB)\n",
      "\u001b[33mWARNING: Ignoring invalid distribution -otocore (/local/home/zicanl/.virtualenvs/venv/lib/python3.9/site-packages)\u001b[0m\u001b[33m\n",
      "\u001b[0mInstalling collected packages: botocore, s3transfer, boto3, sagemaker\n",
      "  Attempting uninstall: botocore\n",
      "    Found existing installation: botocore 1.29.165\n",
      "    Uninstalling botocore-1.29.165:\n",
      "      Successfully uninstalled botocore-1.29.165\n",
      "  Attempting uninstall: s3transfer\n",
      "    Found existing installation: s3transfer 0.6.2\n",
      "    Uninstalling s3transfer-0.6.2:\n",
      "      Successfully uninstalled s3transfer-0.6.2\n",
      "  Attempting uninstall: boto3\n",
      "    Found existing installation: boto3 1.26.83\n",
      "    Uninstalling boto3-1.26.83:\n",
      "      Successfully uninstalled boto3-1.26.83\n",
      "\u001b[31mERROR: pip's dependency resolver does not currently take into account all the packages that are installed. This behaviour is the source of the following dependency conflicts.\n",
      "awscli 1.31.7 requires botocore==1.33.7, but you have botocore 1.34.80 which is incompatible.\n",
      "awscli 1.31.7 requires s3transfer<0.9.0,>=0.8.0, but you have s3transfer 0.10.1 which is incompatible.\n",
      "mercury 2.3.7 requires boto3==1.26.83, but you have boto3 1.34.80 which is incompatible.\u001b[0m\u001b[31m\n",
      "\u001b[0mSuccessfully installed boto3-1.34.80 botocore-1.34.80 s3transfer-0.10.1 sagemaker-2.214.3\n",
      "\u001b[33mWARNING: Ignoring invalid distribution -otocore (/local/home/zicanl/.virtualenvs/venv/lib/python3.9/site-packages)\u001b[0m\u001b[33m\n",
      "\u001b[0mName: sagemaker\n",
      "Version: 2.214.3\n",
      "Summary: Open source library for training and deploying models on Amazon SageMaker.\n",
      "Home-page: https://github.com/aws/sagemaker-python-sdk/\n",
      "Author: Amazon Web Services\n",
      "Author-email: \n",
      "License: Apache License 2.0\n",
      "Location: /local/home/zicanl/.virtualenvs/venv/lib/python3.9/site-packages\n",
      "Requires: attrs, boto3, cloudpickle, docker, google-pasta, importlib-metadata, jsonschema, numpy, packaging, pandas, pathos, platformdirs, protobuf, psutil, PyYAML, requests, schema, smdebug-rulesconfig, tblib, tqdm, urllib3\n",
      "Required-by: \n"
     ]
    }
   ],
   "source": [
    "!pip uninstall sagemaker -y -q c\n",
    "!pip install sagemaker\n",
    "!pip show sagemaker"
   ]
  },
  {
   "cell_type": "markdown",
   "id": "f184f728",
   "metadata": {},
   "source": [
    "### Import Libraries\n",
    "\n",
    "The model used in this example notebook is DeepAr forecasting model in AWS. For more information, please check https://docs.aws.amazon.com/sagemaker/latest/dg/deepar.html\n",
    "\n",
    "Besides, a separate notebook will introduce how to bring your own time series model into TSX."
   ]
  },
  {
   "cell_type": "code",
   "execution_count": 3,
   "id": "c7805689",
   "metadata": {},
   "outputs": [
    {
     "name": "stdout",
     "output_type": "stream",
     "text": [
      "sagemaker.config INFO - Not applying SDK defaults from location: /etc/xdg/sagemaker/config.yaml\n",
      "sagemaker.config INFO - Not applying SDK defaults from location: /home/zicanl/.config/sagemaker/config.yaml\n"
     ]
    }
   ],
   "source": [
    "import yaml\n",
    "import pandas as pd\n",
    "import numpy as np\n",
    "import sagemaker\n",
    "import boto3\n",
    "import json\n",
    "import mercury\n",
    "import pprint\n",
    "\n",
    "from sagemaker import get_execution_role, session\n",
    "\n",
    "session = boto3.Session()\n",
    "s3_client = session.client(\"s3\")\n",
    "sagemaker_session = sagemaker.Session()\n",
    "sm_client = boto3.client(\"sagemaker\")\n",
    "region = session.region_name\n",
    "role = get_execution_role()\n",
    "bucket = sagemaker.Session().default_bucket()\n",
    "image_uri = sagemaker.image_uris.retrieve(\"forecasting-deepar\", region)\n",
    "training_job_name = \"DeepArTest\""
   ]
  },
  {
   "cell_type": "markdown",
   "id": "25d49109",
   "metadata": {},
   "source": [
    "### Loading the data: Everlane Dataset\n",
    "\n",
    "In the example dataset below, here are the corresponding variable name for TimeSeries model attributes. Same column names will be applied to `time_series_mock_data.json` as well.\n",
    "\n",
    "- `item_id`: unique identifier for the object to be analyzed\n",
    "- `target_value`: The univariate TimeSeries instance which the residuals will be computed for, also named as `series` in some open source model\n",
    "- `dynamic_feature_x`: several past-observed or future-known covariate time series, also named as `past_covariates` or `future_covariates`\n",
    "- `static_feature`: characteristics of a time series / constants which do not change over time, also named as `static_covariates`"
   ]
  },
  {
   "cell_type": "code",
   "execution_count": 4,
   "id": "717c6843",
   "metadata": {},
   "outputs": [
    {
     "data": {
      "text/html": [
       "<div>\n",
       "<style scoped>\n",
       "    .dataframe tbody tr th:only-of-type {\n",
       "        vertical-align: middle;\n",
       "    }\n",
       "\n",
       "    .dataframe tbody tr th {\n",
       "        vertical-align: top;\n",
       "    }\n",
       "\n",
       "    .dataframe thead th {\n",
       "        text-align: right;\n",
       "    }\n",
       "</style>\n",
       "<table border=\"1\" class=\"dataframe\">\n",
       "  <thead>\n",
       "    <tr style=\"text-align: right;\">\n",
       "      <th></th>\n",
       "      <th>item_id</th>\n",
       "      <th>timestamp</th>\n",
       "      <th>target_value</th>\n",
       "      <th>dynamic_feature_1</th>\n",
       "      <th>dynamic_feature_2</th>\n",
       "      <th>dynamic_feature_3</th>\n",
       "      <th>static_feature_1</th>\n",
       "      <th>static_feature_2</th>\n",
       "    </tr>\n",
       "  </thead>\n",
       "  <tbody>\n",
       "    <tr>\n",
       "      <th>0</th>\n",
       "      <td>mosfets</td>\n",
       "      <td>2019-09-11</td>\n",
       "      <td>47650.3</td>\n",
       "      <td>0.4576</td>\n",
       "      <td>0.2164</td>\n",
       "      <td>0.1906</td>\n",
       "      <td>1</td>\n",
       "      <td>1</td>\n",
       "    </tr>\n",
       "    <tr>\n",
       "      <th>1</th>\n",
       "      <td>mosfets</td>\n",
       "      <td>2019-09-12</td>\n",
       "      <td>47380.3</td>\n",
       "      <td>0.4839</td>\n",
       "      <td>0.2274</td>\n",
       "      <td>0.1889</td>\n",
       "      <td>1</td>\n",
       "      <td>1</td>\n",
       "    </tr>\n",
       "    <tr>\n",
       "      <th>2</th>\n",
       "      <td>mosfets</td>\n",
       "      <td>2019-09-13</td>\n",
       "      <td>50905.9</td>\n",
       "      <td>0.5047</td>\n",
       "      <td>0.2391</td>\n",
       "      <td>0.1877</td>\n",
       "      <td>1</td>\n",
       "      <td>1</td>\n",
       "    </tr>\n",
       "    <tr>\n",
       "      <th>3</th>\n",
       "      <td>mosfets</td>\n",
       "      <td>2019-09-14</td>\n",
       "      <td>52401.3</td>\n",
       "      <td>0.5189</td>\n",
       "      <td>0.2516</td>\n",
       "      <td>0.1871</td>\n",
       "      <td>1</td>\n",
       "      <td>1</td>\n",
       "    </tr>\n",
       "    <tr>\n",
       "      <th>4</th>\n",
       "      <td>mosfets</td>\n",
       "      <td>2019-09-15</td>\n",
       "      <td>68734.1</td>\n",
       "      <td>0.5258</td>\n",
       "      <td>0.2647</td>\n",
       "      <td>0.1870</td>\n",
       "      <td>1</td>\n",
       "      <td>1</td>\n",
       "    </tr>\n",
       "  </tbody>\n",
       "</table>\n",
       "</div>"
      ],
      "text/plain": [
       "   item_id  timestamp  target_value  dynamic_feature_1  dynamic_feature_2  \\\n",
       "0  mosfets 2019-09-11       47650.3             0.4576             0.2164   \n",
       "1  mosfets 2019-09-12       47380.3             0.4839             0.2274   \n",
       "2  mosfets 2019-09-13       50905.9             0.5047             0.2391   \n",
       "3  mosfets 2019-09-14       52401.3             0.5189             0.2516   \n",
       "4  mosfets 2019-09-15       68734.1             0.5258             0.2647   \n",
       "\n",
       "   dynamic_feature_3  static_feature_1  static_feature_2  \n",
       "0             0.1906                 1                 1  \n",
       "1             0.1889                 1                 1  \n",
       "2             0.1877                 1                 1  \n",
       "3             0.1871                 1                 1  \n",
       "4             0.1870                 1                 1  "
      ]
     },
     "execution_count": 4,
     "metadata": {},
     "output_type": "execute_result"
    }
   ],
   "source": [
    "data_tts = pd.read_json(\"training_dataset_lines.json\", orient=\"records\", lines=True)\n",
    "data_tts.head()"
   ]
  },
  {
   "cell_type": "markdown",
   "id": "92e3dee9",
   "metadata": {},
   "source": [
    "Group the data into the format that can be accepted by the DeepAR model"
   ]
  },
  {
   "cell_type": "code",
   "execution_count": 5,
   "id": "9aa37803",
   "metadata": {},
   "outputs": [],
   "source": [
    "grouped_data = data_tts.groupby(\"item_id\")\n",
    "prediction_length = 14\n",
    "dynamic_feat_list = [\"dynamic_feature_1\", \"dynamic_feature_2\", \"dynamic_feature_3\"]\n",
    "deepar_training = []\n",
    "deepar_test = []\n",
    "\n",
    "for item_id, group in grouped_data:\n",
    "    deepar_training.append(\n",
    "        {\n",
    "            \"start\": str(group[\"timestamp\"].min()),\n",
    "            \"target\": group[\"target_value\"].fillna(\"NaN\").tolist()[:-prediction_length],\n",
    "            \"dynamic_feat\": [\n",
    "                group[feature_name].tolist()[:-prediction_length]\n",
    "                for feature_name in dynamic_feat_list\n",
    "            ],\n",
    "            \"cat\": [int(group.iloc[0][\"static_feature_1\"]), int(group.iloc[0][\"static_feature_2\"])],\n",
    "        }\n",
    "    )\n",
    "\n",
    "    deepar_test.append(\n",
    "        {\n",
    "            \"start\": str(group[\"timestamp\"].min()),\n",
    "            \"target\": group[\"target_value\"].fillna(\"NaN\").tolist()[:-prediction_length],\n",
    "            \"dynamic_feat\": [\n",
    "                group[feature_name].tolist()[:-prediction_length]\n",
    "                for feature_name in dynamic_feat_list\n",
    "            ],\n",
    "            \"cat\": [int(group.iloc[0][\"static_feature_1\"]), int(group.iloc[0][\"static_feature_2\"])],\n",
    "        }\n",
    "    )"
   ]
  },
  {
   "cell_type": "markdown",
   "id": "dc03ba8c",
   "metadata": {},
   "source": [
    "Upload training and testing file"
   ]
  },
  {
   "cell_type": "code",
   "execution_count": 6,
   "id": "9f12f77e",
   "metadata": {},
   "outputs": [],
   "source": [
    "def write_dicts_to_json(path, data):\n",
    "    with open(path, \"wb\") as file_path:\n",
    "        for ts in data:\n",
    "            file_path.write(json.dumps(ts).encode(\"utf-8\"))\n",
    "            file_path.write(\"\\n\".encode(\"utf-8\"))\n",
    "\n",
    "\n",
    "deepar_training_path = \"train.json\"\n",
    "deepar_test_path = \"test.json\"\n",
    "write_dicts_to_json(deepar_training_path, deepar_training)\n",
    "write_dicts_to_json(deepar_test_path, deepar_test)\n",
    "\n",
    "# upload the training and test file to S3\n",
    "deepar_s3_training_path = \"sagemaker/endpoint_test/train.json\"\n",
    "deepar_s3_test_path = \"sagemaker/endpoint_test/test.json\"\n",
    "\n",
    "s3_client.upload_file(deepar_training_path, bucket, deepar_s3_training_path)\n",
    "s3_client.upload_file(deepar_test_path, bucket, deepar_s3_test_path)"
   ]
  },
  {
   "cell_type": "markdown",
   "id": "d474de7e",
   "metadata": {},
   "source": [
    "### Train TimeSeries Model\n",
    "\n",
    "The example time series model is the built in [Deep-Ar forecasting model](https://docs.aws.amazon.com/sagemaker/latest/dg/algorithms-time-series.html) in SageMaker."
   ]
  },
  {
   "cell_type": "code",
   "execution_count": 7,
   "id": "0da588e8",
   "metadata": {},
   "outputs": [
    {
     "name": "stderr",
     "output_type": "stream",
     "text": [
      "INFO:sagemaker:Creating training-job with name: DeepArTest-2024-04-09-17-56-24-856\n"
     ]
    },
    {
     "name": "stdout",
     "output_type": "stream",
     "text": [
      "2024-04-09 17:56:24 Starting - Starting the training job...\n",
      "2024-04-09 17:56:41 Starting - Preparing the instances for training...\n",
      "2024-04-09 17:57:14 Downloading - Downloading input data...\n",
      "2024-04-09 17:57:29 Downloading - Downloading the training image...............\n",
      "2024-04-09 18:00:24 Training - Training image download completed. Training in progress....Docker entrypoint called with argument(s): train\n",
      "Running default environment configuration script\n",
      "Running custom environment configuration script\n",
      "/opt/amazon/lib/python3.8/site-packages/mxnet/model.py:97: SyntaxWarning: \"is\" with a literal. Did you mean \"==\"?\n",
      "  if num_device is 1 and 'dist' not in kvstore:\n",
      "[04/09/2024 18:00:44 INFO 139861130520384] Reading default configuration from /opt/amazon/lib/python3.8/site-packages/algorithm/resources/default-input.json: {'_kvstore': 'auto', '_num_gpus': 'auto', '_num_kv_servers': 'auto', '_tuning_objective_metric': '', 'cardinality': 'auto', 'dropout_rate': '0.10', 'early_stopping_patience': '', 'embedding_dimension': '10', 'learning_rate': '0.001', 'likelihood': 'student-t', 'mini_batch_size': '128', 'num_cells': '40', 'num_dynamic_feat': 'auto', 'num_eval_samples': '100', 'num_layers': '2', 'test_quantiles': '[0.1, 0.2, 0.3, 0.4, 0.5, 0.6, 0.7, 0.8, 0.9]'}\n",
      "[04/09/2024 18:00:44 INFO 139861130520384] Merging with provided configuration from /opt/ml/input/config/hyperparameters.json: {'context_length': '14', 'epochs': '10', 'prediction_length': '14', 'time_freq': 'H'}\n",
      "[04/09/2024 18:00:44 INFO 139861130520384] Final configuration: {'_kvstore': 'auto', '_num_gpus': 'auto', '_num_kv_servers': 'auto', '_tuning_objective_metric': '', 'cardinality': 'auto', 'dropout_rate': '0.10', 'early_stopping_patience': '', 'embedding_dimension': '10', 'learning_rate': '0.001', 'likelihood': 'student-t', 'mini_batch_size': '128', 'num_cells': '40', 'num_dynamic_feat': 'auto', 'num_eval_samples': '100', 'num_layers': '2', 'test_quantiles': '[0.1, 0.2, 0.3, 0.4, 0.5, 0.6, 0.7, 0.8, 0.9]', 'context_length': '14', 'epochs': '10', 'prediction_length': '14', 'time_freq': 'H'}\n",
      "Process 7 is a worker.\n",
      "[04/09/2024 18:00:44 INFO 139861130520384] Detected entry point for worker worker\n",
      "[04/09/2024 18:00:44 INFO 139861130520384] random_seed is None\n",
      "[04/09/2024 18:00:44 INFO 139861130520384] [cardinality=auto] `cat` field was found in the file `/opt/ml/input/data/train/train.json` and will be used for training.\n",
      "[04/09/2024 18:00:44 INFO 139861130520384] [num_dynamic_feat=auto] `dynamic_feat` field was found in the file `/opt/ml/input/data/train/train.json` and will be used for training.\n",
      "[04/09/2024 18:00:44 INFO 139861130520384] [cardinality=auto] Inferred value of cardinality=[2, 2] from dataset.\n",
      "[04/09/2024 18:00:44 INFO 139861130520384] [num_dynamic_feat=auto] Inferred value of num_dynamic_feat=3 from dataset.\n",
      "[04/09/2024 18:00:44 INFO 139861130520384] Training set statistics:\n",
      "[04/09/2024 18:00:44 INFO 139861130520384] Real time series\n",
      "[04/09/2024 18:00:44 INFO 139861130520384] number of time series: 156\n",
      "[04/09/2024 18:00:44 INFO 139861130520384] number of observations: 33228\n",
      "[04/09/2024 18:00:44 INFO 139861130520384] mean target length: 213.0\n",
      "[04/09/2024 18:00:44 INFO 139861130520384] min/mean/max target: 602.2999877929688/168752.38084691376/2109581.5\n",
      "[04/09/2024 18:00:44 INFO 139861130520384] mean abs(target): 168752.38084691376\n",
      "[04/09/2024 18:00:44 INFO 139861130520384] contains missing values: no\n",
      "[04/09/2024 18:00:44 INFO 139861130520384] Small number of time series. Doing 9 passes over dataset with prob 0.9116809116809116 per epoch.\n",
      "[04/09/2024 18:00:44 INFO 139861130520384] Test set statistics:\n",
      "[04/09/2024 18:00:44 INFO 139861130520384] Real time series\n",
      "[04/09/2024 18:00:44 INFO 139861130520384] number of time series: 156\n",
      "[04/09/2024 18:00:44 INFO 139861130520384] number of observations: 33228\n",
      "[04/09/2024 18:00:44 INFO 139861130520384] mean target length: 213.0\n",
      "[04/09/2024 18:00:44 INFO 139861130520384] min/mean/max target: 602.2999877929688/168752.38084691376/2109581.5\n",
      "[04/09/2024 18:00:44 INFO 139861130520384] mean abs(target): 168752.38084691376\n",
      "[04/09/2024 18:00:44 INFO 139861130520384] contains missing values: no\n",
      "[04/09/2024 18:00:44 INFO 139861130520384] #memory_usage::<batchbuffer> = 8.5986328125 mb\n",
      "/opt/amazon/python3.8/lib/python3.8/subprocess.py:848: RuntimeWarning: line buffering (buffering=1) isn't supported in binary mode, the default buffer size will be used\n",
      "  self.stdout = io.open(c2pread, 'rb', bufsize)\n",
      "[04/09/2024 18:00:44 INFO 139861130520384] nvidia-smi: took 0.030 seconds to run.\n",
      "[04/09/2024 18:00:44 INFO 139861130520384] nvidia-smi identified 0 GPUs.\n",
      "[04/09/2024 18:00:44 INFO 139861130520384] Number of GPUs being used: 0\n",
      "[04/09/2024 18:00:44 INFO 139861130520384] Create Store: local\n",
      "#metrics {\"StartTime\": 1712685644.299254, \"EndTime\": 1712685644.35383, \"Dimensions\": {\"Algorithm\": \"AWS/DeepAR\", \"Host\": \"algo-1\", \"Operation\": \"training\"}, \"Metrics\": {\"get_graph.time\": {\"sum\": 53.68661880493164, \"count\": 1, \"min\": 53.68661880493164, \"max\": 53.68661880493164}}}\n",
      "[04/09/2024 18:00:44 INFO 139861130520384] Number of GPUs being used: 0\n",
      "[04/09/2024 18:00:44 INFO 139861130520384] #memory_usage::<model> = 25 mb\n",
      "#metrics {\"StartTime\": 1712685644.3539002, \"EndTime\": 1712685644.4440606, \"Dimensions\": {\"Algorithm\": \"AWS/DeepAR\", \"Host\": \"algo-1\", \"Operation\": \"training\"}, \"Metrics\": {\"initialize.time\": {\"sum\": 144.70911026000977, \"count\": 1, \"min\": 144.70911026000977, \"max\": 144.70911026000977}}}\n",
      "[18:00:44] /opt/brazil-pkg-cache/packages/AIAlgorithmsMXNet/AIAlgorithmsMXNet-1.3.x_Cuda_11.1.x.406.0/AL2_x86_64/generic-flavor/src/src/operator/nn/mkldnn/mkldnn_base.cc:74: Allocate 20480 bytes with malloc directly\n",
      "[04/09/2024 18:00:44 INFO 139861130520384] Epoch[0] Batch[0] avg_epoch_loss=13.293550\n",
      "[04/09/2024 18:00:44 INFO 139861130520384] #quality_metric: host=algo-1, epoch=0, batch=0 train loss <loss>=13.293550491333008\n",
      "[04/09/2024 18:00:45 INFO 139861130520384] Epoch[0] Batch[5] avg_epoch_loss=12.357089\n",
      "[04/09/2024 18:00:45 INFO 139861130520384] #quality_metric: host=algo-1, epoch=0, batch=5 train loss <loss>=12.357088724772135\n",
      "[04/09/2024 18:00:45 INFO 139861130520384] Epoch[0] Batch [5]#011Speed: 1681.10 samples/sec#011loss=12.357089\n",
      "[04/09/2024 18:00:45 INFO 139861130520384] Epoch[0] Batch[10] avg_epoch_loss=12.227430\n",
      "[04/09/2024 18:00:45 INFO 139861130520384] #quality_metric: host=algo-1, epoch=0, batch=10 train loss <loss>=12.071839141845704\n",
      "[04/09/2024 18:00:45 INFO 139861130520384] Epoch[0] Batch [10]#011Speed: 1581.90 samples/sec#011loss=12.071839\n",
      "[04/09/2024 18:00:45 INFO 139861130520384] processed a total of 1326 examples\n",
      "#metrics {\"StartTime\": 1712685644.4441173, \"EndTime\": 1712685645.7164893, \"Dimensions\": {\"Algorithm\": \"AWS/DeepAR\", \"Host\": \"algo-1\", \"Operation\": \"training\"}, \"Metrics\": {\"epochs\": {\"sum\": 10.0, \"count\": 1, \"min\": 10, \"max\": 10}, \"update.time\": {\"sum\": 1272.3050117492676, \"count\": 1, \"min\": 1272.3050117492676, \"max\": 1272.3050117492676}}}\n",
      "[04/09/2024 18:00:45 INFO 139861130520384] #throughput_metric: host=algo-1, train throughput=1042.1318371053205 records/second\n",
      "[04/09/2024 18:00:45 INFO 139861130520384] #progress_metric: host=algo-1, completed 10.0 % of epochs\n",
      "[04/09/2024 18:00:45 INFO 139861130520384] #quality_metric: host=algo-1, epoch=0, train loss <loss>=12.22742982344194\n",
      "[04/09/2024 18:00:46 INFO 139861130520384] Epoch[1] Batch[0] avg_epoch_loss=11.531233\n",
      "[04/09/2024 18:00:46 INFO 139861130520384] #quality_metric: host=algo-1, epoch=1, batch=0 train loss <loss>=11.531232833862305\n",
      "[04/09/2024 18:00:46 INFO 139861130520384] Epoch[1] Batch[5] avg_epoch_loss=11.503583\n",
      "[04/09/2024 18:00:46 INFO 139861130520384] #quality_metric: host=algo-1, epoch=1, batch=5 train loss <loss>=11.503582954406738\n",
      "[04/09/2024 18:00:46 INFO 139861130520384] Epoch[1] Batch [5]#011Speed: 1713.78 samples/sec#011loss=11.503583\n",
      "[04/09/2024 18:00:46 INFO 139861130520384] Epoch[1] Batch[10] avg_epoch_loss=11.426260\n",
      "[04/09/2024 18:00:46 INFO 139861130520384] #quality_metric: host=algo-1, epoch=1, batch=10 train loss <loss>=11.33347282409668\n",
      "[04/09/2024 18:00:46 INFO 139861130520384] Epoch[1] Batch [10]#011Speed: 1537.09 samples/sec#011loss=11.333473\n"
     ]
    },
    {
     "name": "stdout",
     "output_type": "stream",
     "text": [
      "[04/09/2024 18:00:46 INFO 139861130520384] processed a total of 1313 examples\n",
      "#metrics {\"StartTime\": 1712685645.7165518, \"EndTime\": 1712685646.928788, \"Dimensions\": {\"Algorithm\": \"AWS/DeepAR\", \"Host\": \"algo-1\", \"Operation\": \"training\"}, \"Metrics\": {\"update.time\": {\"sum\": 1211.9834423065186, \"count\": 1, \"min\": 1211.9834423065186, \"max\": 1211.9834423065186}}}\n",
      "[04/09/2024 18:00:46 INFO 139861130520384] #throughput_metric: host=algo-1, train throughput=1083.283137663433 records/second\n",
      "[04/09/2024 18:00:46 INFO 139861130520384] #progress_metric: host=algo-1, completed 20.0 % of epochs\n",
      "[04/09/2024 18:00:46 INFO 139861130520384] #quality_metric: host=algo-1, epoch=1, train loss <loss>=11.426260167902166\n",
      "[04/09/2024 18:00:47 INFO 139861130520384] Epoch[2] Batch[0] avg_epoch_loss=11.216604\n",
      "[04/09/2024 18:00:47 INFO 139861130520384] #quality_metric: host=algo-1, epoch=2, batch=0 train loss <loss>=11.216604232788086\n",
      "[04/09/2024 18:00:47 INFO 139861130520384] Epoch[2] Batch[5] avg_epoch_loss=11.120801\n",
      "[04/09/2024 18:00:47 INFO 139861130520384] #quality_metric: host=algo-1, epoch=2, batch=5 train loss <loss>=11.120800813039144\n",
      "[04/09/2024 18:00:47 INFO 139861130520384] Epoch[2] Batch [5]#011Speed: 1299.63 samples/sec#011loss=11.120801\n",
      "[04/09/2024 18:00:48 INFO 139861130520384] processed a total of 1234 examples\n",
      "#metrics {\"StartTime\": 1712685646.9288352, \"EndTime\": 1712685648.2798753, \"Dimensions\": {\"Algorithm\": \"AWS/DeepAR\", \"Host\": \"algo-1\", \"Operation\": \"training\"}, \"Metrics\": {\"update.time\": {\"sum\": 1350.8434295654297, \"count\": 1, \"min\": 1350.8434295654297, \"max\": 1350.8434295654297}}}\n",
      "[04/09/2024 18:00:48 INFO 139861130520384] #throughput_metric: host=algo-1, train throughput=913.4338665639302 records/second\n",
      "[04/09/2024 18:00:48 INFO 139861130520384] #progress_metric: host=algo-1, completed 30.0 % of epochs\n",
      "[04/09/2024 18:00:48 INFO 139861130520384] #quality_metric: host=algo-1, epoch=2, train loss <loss>=11.126538276672363\n",
      "[04/09/2024 18:00:48 INFO 139861130520384] Epoch[3] Batch[0] avg_epoch_loss=10.713216\n",
      "[04/09/2024 18:00:48 INFO 139861130520384] #quality_metric: host=algo-1, epoch=3, batch=0 train loss <loss>=10.713215827941895\n",
      "[04/09/2024 18:00:49 INFO 139861130520384] Epoch[3] Batch[5] avg_epoch_loss=10.834905\n",
      "[04/09/2024 18:00:49 INFO 139861130520384] #quality_metric: host=algo-1, epoch=3, batch=5 train loss <loss>=10.83490546544393\n",
      "[04/09/2024 18:00:49 INFO 139861130520384] Epoch[3] Batch [5]#011Speed: 1676.48 samples/sec#011loss=10.834905\n",
      "[04/09/2024 18:00:49 INFO 139861130520384] Epoch[3] Batch[10] avg_epoch_loss=10.969647\n",
      "[04/09/2024 18:00:49 INFO 139861130520384] #quality_metric: host=algo-1, epoch=3, batch=10 train loss <loss>=11.131337738037109\n",
      "[04/09/2024 18:00:49 INFO 139861130520384] Epoch[3] Batch [10]#011Speed: 1608.03 samples/sec#011loss=11.131338\n",
      "[04/09/2024 18:00:49 INFO 139861130520384] processed a total of 1323 examples\n",
      "#metrics {\"StartTime\": 1712685648.2799454, \"EndTime\": 1712685649.515944, \"Dimensions\": {\"Algorithm\": \"AWS/DeepAR\", \"Host\": \"algo-1\", \"Operation\": \"training\"}, \"Metrics\": {\"update.time\": {\"sum\": 1235.673189163208, \"count\": 1, \"min\": 1235.673189163208, \"max\": 1235.673189163208}}}\n",
      "[04/09/2024 18:00:49 INFO 139861130520384] #throughput_metric: host=algo-1, train throughput=1070.6016256209814 records/second\n",
      "[04/09/2024 18:00:49 INFO 139861130520384] #progress_metric: host=algo-1, completed 40.0 % of epochs\n",
      "[04/09/2024 18:00:49 INFO 139861130520384] #quality_metric: host=algo-1, epoch=3, train loss <loss>=10.969647407531738\n",
      "[04/09/2024 18:00:49 INFO 139861130520384] Epoch[4] Batch[0] avg_epoch_loss=11.084157\n",
      "[04/09/2024 18:00:49 INFO 139861130520384] #quality_metric: host=algo-1, epoch=4, batch=0 train loss <loss>=11.08415699005127\n",
      "[04/09/2024 18:00:50 INFO 139861130520384] Epoch[4] Batch[5] avg_epoch_loss=10.913568\n",
      "[04/09/2024 18:00:50 INFO 139861130520384] #quality_metric: host=algo-1, epoch=4, batch=5 train loss <loss>=10.913568496704102\n",
      "[04/09/2024 18:00:50 INFO 139861130520384] Epoch[4] Batch [5]#011Speed: 1724.35 samples/sec#011loss=10.913568\n",
      "[04/09/2024 18:00:50 INFO 139861130520384] Epoch[4] Batch[10] avg_epoch_loss=10.870267\n",
      "[04/09/2024 18:00:50 INFO 139861130520384] #quality_metric: host=algo-1, epoch=4, batch=10 train loss <loss>=10.818304634094238\n",
      "[04/09/2024 18:00:50 INFO 139861130520384] Epoch[4] Batch [10]#011Speed: 1645.95 samples/sec#011loss=10.818305\n",
      "[04/09/2024 18:00:50 INFO 139861130520384] processed a total of 1310 examples\n",
      "#metrics {\"StartTime\": 1712685649.515998, \"EndTime\": 1712685650.6946445, \"Dimensions\": {\"Algorithm\": \"AWS/DeepAR\", \"Host\": \"algo-1\", \"Operation\": \"training\"}, \"Metrics\": {\"update.time\": {\"sum\": 1178.4336566925049, \"count\": 1, \"min\": 1178.4336566925049, \"max\": 1178.4336566925049}}}\n",
      "[04/09/2024 18:00:50 INFO 139861130520384] #throughput_metric: host=algo-1, train throughput=1111.5684122151304 records/second\n",
      "[04/09/2024 18:00:50 INFO 139861130520384] #progress_metric: host=algo-1, completed 50.0 % of epochs\n",
      "[04/09/2024 18:00:50 INFO 139861130520384] #quality_metric: host=algo-1, epoch=4, train loss <loss>=10.870266740972346\n",
      "[04/09/2024 18:00:51 INFO 139861130520384] Epoch[5] Batch[0] avg_epoch_loss=10.730589\n",
      "[04/09/2024 18:00:51 INFO 139861130520384] #quality_metric: host=algo-1, epoch=5, batch=0 train loss <loss>=10.730588912963867\n",
      "[04/09/2024 18:00:51 INFO 139861130520384] Epoch[5] Batch[5] avg_epoch_loss=10.680882\n",
      "[04/09/2024 18:00:51 INFO 139861130520384] #quality_metric: host=algo-1, epoch=5, batch=5 train loss <loss>=10.68088165918986\n",
      "[04/09/2024 18:00:51 INFO 139861130520384] Epoch[5] Batch [5]#011Speed: 1732.45 samples/sec#011loss=10.680882\n",
      "[04/09/2024 18:00:51 INFO 139861130520384] Epoch[5] Batch[10] avg_epoch_loss=10.701239\n",
      "[04/09/2024 18:00:51 INFO 139861130520384] #quality_metric: host=algo-1, epoch=5, batch=10 train loss <loss>=10.725667572021484\n",
      "[04/09/2024 18:00:51 INFO 139861130520384] Epoch[5] Batch [10]#011Speed: 1607.99 samples/sec#011loss=10.725668\n",
      "[04/09/2024 18:00:51 INFO 139861130520384] processed a total of 1353 examples\n",
      "#metrics {\"StartTime\": 1712685650.694699, \"EndTime\": 1712685651.8853874, \"Dimensions\": {\"Algorithm\": \"AWS/DeepAR\", \"Host\": \"algo-1\", \"Operation\": \"training\"}, \"Metrics\": {\"update.time\": {\"sum\": 1190.4776096343994, \"count\": 1, \"min\": 1190.4776096343994, \"max\": 1190.4776096343994}}}\n",
      "[04/09/2024 18:00:51 INFO 139861130520384] #throughput_metric: host=algo-1, train throughput=1136.4285179031408 records/second\n",
      "[04/09/2024 18:00:51 INFO 139861130520384] #progress_metric: host=algo-1, completed 60.0 % of epochs\n",
      "[04/09/2024 18:00:51 INFO 139861130520384] #quality_metric: host=algo-1, epoch=5, train loss <loss>=10.701238892295144\n",
      "[04/09/2024 18:00:52 INFO 139861130520384] Epoch[6] Batch[0] avg_epoch_loss=10.836687\n",
      "[04/09/2024 18:00:52 INFO 139861130520384] #quality_metric: host=algo-1, epoch=6, batch=0 train loss <loss>=10.836687088012695\n",
      "[04/09/2024 18:00:52 INFO 139861130520384] Epoch[6] Batch[5] avg_epoch_loss=10.682848\n",
      "[04/09/2024 18:00:52 INFO 139861130520384] #quality_metric: host=algo-1, epoch=6, batch=5 train loss <loss>=10.682848453521729\n",
      "[04/09/2024 18:00:52 INFO 139861130520384] Epoch[6] Batch [5]#011Speed: 1694.46 samples/sec#011loss=10.682848\n",
      "[04/09/2024 18:00:52 INFO 139861130520384] processed a total of 1271 examples\n",
      "#metrics {\"StartTime\": 1712685651.885455, \"EndTime\": 1712685652.9992208, \"Dimensions\": {\"Algorithm\": \"AWS/DeepAR\", \"Host\": \"algo-1\", \"Operation\": \"training\"}, \"Metrics\": {\"update.time\": {\"sum\": 1113.5475635528564, \"count\": 1, \"min\": 1113.5475635528564, \"max\": 1113.5475635528564}}}\n",
      "[04/09/2024 18:00:52 INFO 139861130520384] #throughput_metric: host=algo-1, train throughput=1141.303057070715 records/second\n",
      "[04/09/2024 18:00:52 INFO 139861130520384] #progress_metric: host=algo-1, completed 70.0 % of epochs\n",
      "[04/09/2024 18:00:52 INFO 139861130520384] #quality_metric: host=algo-1, epoch=6, train loss <loss>=10.660768127441406\n",
      "[04/09/2024 18:00:53 INFO 139861130520384] Epoch[7] Batch[0] avg_epoch_loss=10.795821\n",
      "[04/09/2024 18:00:53 INFO 139861130520384] #quality_metric: host=algo-1, epoch=7, batch=0 train loss <loss>=10.795821189880371\n",
      "[04/09/2024 18:00:53 INFO 139861130520384] Epoch[7] Batch[5] avg_epoch_loss=10.710832\n"
     ]
    },
    {
     "name": "stdout",
     "output_type": "stream",
     "text": [
      "[04/09/2024 18:00:53 INFO 139861130520384] #quality_metric: host=algo-1, epoch=7, batch=5 train loss <loss>=10.710832436879477\n",
      "[04/09/2024 18:00:53 INFO 139861130520384] Epoch[7] Batch [5]#011Speed: 1553.05 samples/sec#011loss=10.710832\n",
      "[04/09/2024 18:00:54 INFO 139861130520384] processed a total of 1238 examples\n",
      "#metrics {\"StartTime\": 1712685652.9992828, \"EndTime\": 1712685654.128487, \"Dimensions\": {\"Algorithm\": \"AWS/DeepAR\", \"Host\": \"algo-1\", \"Operation\": \"training\"}, \"Metrics\": {\"update.time\": {\"sum\": 1128.94868850708, \"count\": 1, \"min\": 1128.94868850708, \"max\": 1128.94868850708}}}\n",
      "[04/09/2024 18:00:54 INFO 139861130520384] #throughput_metric: host=algo-1, train throughput=1096.5100057586037 records/second\n",
      "[04/09/2024 18:00:54 INFO 139861130520384] #progress_metric: host=algo-1, completed 80.0 % of epochs\n",
      "[04/09/2024 18:00:54 INFO 139861130520384] #quality_metric: host=algo-1, epoch=7, train loss <loss>=10.693192481994629\n",
      "[04/09/2024 18:00:54 INFO 139861130520384] Epoch[8] Batch[0] avg_epoch_loss=10.487427\n",
      "[04/09/2024 18:00:54 INFO 139861130520384] #quality_metric: host=algo-1, epoch=8, batch=0 train loss <loss>=10.4874267578125\n",
      "[04/09/2024 18:00:54 INFO 139861130520384] Epoch[8] Batch[5] avg_epoch_loss=10.411303\n",
      "[04/09/2024 18:00:54 INFO 139861130520384] #quality_metric: host=algo-1, epoch=8, batch=5 train loss <loss>=10.411303202311197\n",
      "[04/09/2024 18:00:54 INFO 139861130520384] Epoch[8] Batch [5]#011Speed: 1694.79 samples/sec#011loss=10.411303\n",
      "[04/09/2024 18:00:55 INFO 139861130520384] Epoch[8] Batch[10] avg_epoch_loss=10.159727\n",
      "[04/09/2024 18:00:55 INFO 139861130520384] #quality_metric: host=algo-1, epoch=8, batch=10 train loss <loss>=9.857835388183593\n",
      "[04/09/2024 18:00:55 INFO 139861130520384] Epoch[8] Batch [10]#011Speed: 1611.58 samples/sec#011loss=9.857835\n",
      "[04/09/2024 18:00:55 INFO 139861130520384] processed a total of 1299 examples\n",
      "#metrics {\"StartTime\": 1712685654.1285455, \"EndTime\": 1712685655.3203266, \"Dimensions\": {\"Algorithm\": \"AWS/DeepAR\", \"Host\": \"algo-1\", \"Operation\": \"training\"}, \"Metrics\": {\"update.time\": {\"sum\": 1191.5087699890137, \"count\": 1, \"min\": 1191.5087699890137, \"max\": 1191.5087699890137}}}\n",
      "[04/09/2024 18:00:55 INFO 139861130520384] #throughput_metric: host=algo-1, train throughput=1090.1391277727923 records/second\n",
      "[04/09/2024 18:00:55 INFO 139861130520384] #progress_metric: host=algo-1, completed 90.0 % of epochs\n",
      "[04/09/2024 18:00:55 INFO 139861130520384] #quality_metric: host=algo-1, epoch=8, train loss <loss>=10.159726923162287\n",
      "[04/09/2024 18:00:55 INFO 139861130520384] Epoch[9] Batch[0] avg_epoch_loss=10.413827\n",
      "[04/09/2024 18:00:55 INFO 139861130520384] #quality_metric: host=algo-1, epoch=9, batch=0 train loss <loss>=10.413826942443848\n",
      "[04/09/2024 18:00:56 INFO 139861130520384] Epoch[9] Batch[5] avg_epoch_loss=10.418330\n",
      "[04/09/2024 18:00:56 INFO 139861130520384] #quality_metric: host=algo-1, epoch=9, batch=5 train loss <loss>=10.418330192565918\n",
      "[04/09/2024 18:00:56 INFO 139861130520384] Epoch[9] Batch [5]#011Speed: 1685.21 samples/sec#011loss=10.418330\n",
      "[04/09/2024 18:00:56 INFO 139861130520384] processed a total of 1259 examples\n",
      "#metrics {\"StartTime\": 1712685655.3203824, \"EndTime\": 1712685656.4145257, \"Dimensions\": {\"Algorithm\": \"AWS/DeepAR\", \"Host\": \"algo-1\", \"Operation\": \"training\"}, \"Metrics\": {\"update.time\": {\"sum\": 1093.9314365386963, \"count\": 1, \"min\": 1093.9314365386963, \"max\": 1093.9314365386963}}}\n",
      "[04/09/2024 18:00:56 INFO 139861130520384] #throughput_metric: host=algo-1, train throughput=1150.799238645165 records/second\n",
      "[04/09/2024 18:00:56 INFO 139861130520384] #progress_metric: host=algo-1, completed 100.0 % of epochs\n",
      "[04/09/2024 18:00:56 INFO 139861130520384] #quality_metric: host=algo-1, epoch=9, train loss <loss>=10.475590896606445\n",
      "[04/09/2024 18:00:56 INFO 139861130520384] Final loss: 10.475590896606445 (occurred at epoch 9)\n",
      "[04/09/2024 18:00:56 INFO 139861130520384] #quality_metric: host=algo-1, train final_loss <loss>=10.475590896606445\n",
      "[04/09/2024 18:00:56 INFO 139861130520384] Worker algo-1 finished training.\n",
      "[04/09/2024 18:00:56 WARNING 139861130520384] wait_for_all_workers will not sync workers since the kv store is not running distributed\n",
      "[04/09/2024 18:00:56 INFO 139861130520384] All workers finished. Serializing model for prediction.\n",
      "#metrics {\"StartTime\": 1712685656.4145877, \"EndTime\": 1712685656.486822, \"Dimensions\": {\"Algorithm\": \"AWS/DeepAR\", \"Host\": \"algo-1\", \"Operation\": \"training\"}, \"Metrics\": {\"get_graph.time\": {\"sum\": 71.74181938171387, \"count\": 1, \"min\": 71.74181938171387, \"max\": 71.74181938171387}}}\n",
      "[04/09/2024 18:00:56 INFO 139861130520384] Number of GPUs being used: 0\n",
      "#metrics {\"StartTime\": 1712685656.486887, \"EndTime\": 1712685656.5205648, \"Dimensions\": {\"Algorithm\": \"AWS/DeepAR\", \"Host\": \"algo-1\", \"Operation\": \"training\"}, \"Metrics\": {\"finalize.time\": {\"sum\": 105.51810264587402, \"count\": 1, \"min\": 105.51810264587402, \"max\": 105.51810264587402}}}\n",
      "[04/09/2024 18:00:56 INFO 139861130520384] Serializing to /opt/ml/model/model_algo-1\n",
      "[04/09/2024 18:00:56 INFO 139861130520384] Saved checkpoint to \"/opt/ml/model/model_algo-1-0000.params\"\n",
      "#metrics {\"StartTime\": 1712685656.520612, \"EndTime\": 1712685656.5257802, \"Dimensions\": {\"Algorithm\": \"AWS/DeepAR\", \"Host\": \"algo-1\", \"Operation\": \"training\"}, \"Metrics\": {\"model.serialize.time\": {\"sum\": 5.13911247253418, \"count\": 1, \"min\": 5.13911247253418, \"max\": 5.13911247253418}}}\n",
      "[04/09/2024 18:00:56 INFO 139861130520384] Successfully serialized the model for prediction.\n",
      "[04/09/2024 18:00:56 INFO 139861130520384] #memory_usage::<batchbuffer> = 8.5986328125 mb\n",
      "[04/09/2024 18:00:56 INFO 139861130520384] Evaluating model accuracy on testset using 100 samples\n",
      "#metrics {\"StartTime\": 1712685656.5258183, \"EndTime\": 1712685656.5282397, \"Dimensions\": {\"Algorithm\": \"AWS/DeepAR\", \"Host\": \"algo-1\", \"Operation\": \"training\"}, \"Metrics\": {\"model.bind.time\": {\"sum\": 0.023603439331054688, \"count\": 1, \"min\": 0.023603439331054688, \"max\": 0.023603439331054688}}}\n",
      "#metrics {\"StartTime\": 1712685656.528277, \"EndTime\": 1712685657.3266444, \"Dimensions\": {\"Algorithm\": \"AWS/DeepAR\", \"Host\": \"algo-1\", \"Operation\": \"training\"}, \"Metrics\": {\"model.score.time\": {\"sum\": 798.426628112793, \"count\": 1, \"min\": 798.426628112793, \"max\": 798.426628112793}}}\n",
      "[04/09/2024 18:00:57 INFO 139861130520384] #test_score (algo-1, RMSE): 57678.511204693445\n",
      "[04/09/2024 18:00:57 INFO 139861130520384] #test_score (algo-1, mean_absolute_QuantileLoss): 53254798.29980062\n",
      "[04/09/2024 18:00:57 INFO 139861130520384] #test_score (algo-1, mean_wQuantileLoss): 0.1650468173156806\n",
      "[04/09/2024 18:00:57 INFO 139861130520384] #test_score (algo-1, wQuantileLoss[0.1]): 0.07562178559452258\n",
      "[04/09/2024 18:00:57 INFO 139861130520384] #test_score (algo-1, wQuantileLoss[0.2]): 0.12021141145853631\n",
      "[04/09/2024 18:00:57 INFO 139861130520384] #test_score (algo-1, wQuantileLoss[0.3]): 0.15316814498178588\n",
      "[04/09/2024 18:00:57 INFO 139861130520384] #test_score (algo-1, wQuantileLoss[0.4]): 0.17869392066611922\n",
      "[04/09/2024 18:00:57 INFO 139861130520384] #test_score (algo-1, wQuantileLoss[0.5]): 0.19647282737016286\n",
      "[04/09/2024 18:00:57 INFO 139861130520384] #test_score (algo-1, wQuantileLoss[0.6]): 0.20578992718501668\n",
      "[04/09/2024 18:00:57 INFO 139861130520384] #test_score (algo-1, wQuantileLoss[0.7]): 0.20531088439110162\n",
      "[04/09/2024 18:00:57 INFO 139861130520384] #test_score (algo-1, wQuantileLoss[0.8]): 0.19231159550792676\n",
      "[04/09/2024 18:00:57 INFO 139861130520384] #test_score (algo-1, wQuantileLoss[0.9]): 0.1578408586859535\n",
      "[04/09/2024 18:00:57 INFO 139861130520384] #quality_metric: host=algo-1, test RMSE <loss>=57678.511204693445\n",
      "[04/09/2024 18:00:57 INFO 139861130520384] #quality_metric: host=algo-1, test mean_wQuantileLoss <loss>=0.1650468173156806\n",
      "#metrics {\"StartTime\": 1712685657.3267097, \"EndTime\": 1712685657.3373494, \"Dimensions\": {\"Algorithm\": \"AWS/DeepAR\", \"Host\": \"algo-1\", \"Operation\": \"training\"}, \"Metrics\": {\"setuptime\": {\"sum\": 3.8547515869140625, \"count\": 1, \"min\": 3.8547515869140625, \"max\": 3.8547515869140625}, \"totaltime\": {\"sum\": 13234.435319900513, \"count\": 1, \"min\": 13234.435319900513, \"max\": 13234.435319900513}}}\n",
      "\n",
      "2024-04-09 18:01:16 Uploading - Uploading generated training model\n"
     ]
    },
    {
     "name": "stdout",
     "output_type": "stream",
     "text": [
      "2024-04-09 18:01:16 Completed - Training job completed\n",
      "Training seconds: 242\n",
      "Billable seconds: 242\n"
     ]
    }
   ],
   "source": [
    "estimator = sagemaker.estimator.Estimator(\n",
    "    sagemaker_session=sagemaker_session,\n",
    "    image_uri=image_uri,\n",
    "    role=role,\n",
    "    instance_count=1,\n",
    "    instance_type=\"ml.c5.2xlarge\",\n",
    "    base_job_name=training_job_name,\n",
    "    use_spot_instances=False,\n",
    "    output_path=f\"s3://{bucket}/deepar/endpoint_test/model_output\",  # specify a model output path in S3\n",
    ")\n",
    "\n",
    "hyperparameters = {\n",
    "    \"epochs\": \"10\",\n",
    "    \"time_freq\": \"H\",  # the intersection of the time in provided dataset\n",
    "    \"prediction_length\": prediction_length,\n",
    "    \"context_length\": prediction_length,\n",
    "}\n",
    "\n",
    "estimator.set_hyperparameters(**hyperparameters)\n",
    "\n",
    "estimator.fit(\n",
    "    inputs={\n",
    "        \"train\": \"s3://{}/{}\".format(bucket, deepar_s3_training_path),\n",
    "        \"test\": \"s3://{}/{}\".format(bucket, deepar_s3_test_path),\n",
    "    }\n",
    ")"
   ]
  },
  {
   "cell_type": "markdown",
   "id": "cb2ef3b5",
   "metadata": {},
   "source": [
    "### Create an Endpoint from Training Job"
   ]
  },
  {
   "cell_type": "code",
   "execution_count": 8,
   "id": "cc5b65b8",
   "metadata": {},
   "outputs": [
    {
     "name": "stderr",
     "output_type": "stream",
     "text": [
      "INFO:sagemaker:Creating model with name: DeepArTest-2024-04-09-17-56-24-856\n",
      "INFO:sagemaker:Creating endpoint-config with name DeepArTest-2024-04-09-17-56-24-856\n",
      "INFO:sagemaker:Creating endpoint with name DeepArTest-2024-04-09-17-56-24-856\n"
     ]
    },
    {
     "name": "stdout",
     "output_type": "stream",
     "text": [
      "---------------!DeepArTest-2024-04-09-17-56-24-856\n"
     ]
    }
   ],
   "source": [
    "job_name = estimator.latest_training_job.name\n",
    "\n",
    "# Deploy the endpoint from a training job\n",
    "endpoint_name = sagemaker_session.endpoint_from_job(\n",
    "    job_name=job_name,\n",
    "    initial_instance_count=1,\n",
    "    instance_type=\"ml.c5.large\",\n",
    "    image_uri=image_uri,\n",
    "    role=role,\n",
    ")\n",
    "print(endpoint_name)"
   ]
  },
  {
   "cell_type": "code",
   "execution_count": 9,
   "id": "dcfc1179",
   "metadata": {},
   "outputs": [
    {
     "data": {
      "text/plain": [
       "{'EndpointName': 'DeepArTest-2024-04-09-17-56-24-856',\n",
       " 'EndpointArn': 'arn:aws:sagemaker:us-west-2:678264136642:endpoint/DeepArTest-2024-04-09-17-56-24-856',\n",
       " 'EndpointConfigName': 'DeepArTest-2024-04-09-17-56-24-856',\n",
       " 'ProductionVariants': [{'VariantName': 'AllTraffic',\n",
       "   'DeployedImages': [{'SpecifiedImage': '156387875391.dkr.ecr.us-west-2.amazonaws.com/forecasting-deepar:1',\n",
       "     'ResolvedImage': '156387875391.dkr.ecr.us-west-2.amazonaws.com/forecasting-deepar@sha256:9c75ecae00a74a32c9a2471b2a171bceabf8f09adb1188068a66e3541f0cdefe',\n",
       "     'ResolutionTime': datetime.datetime(2024, 4, 9, 18, 1, 40, 59000, tzinfo=tzlocal())}],\n",
       "   'CurrentWeight': 1.0,\n",
       "   'DesiredWeight': 1.0,\n",
       "   'CurrentInstanceCount': 1,\n",
       "   'DesiredInstanceCount': 1}],\n",
       " 'EndpointStatus': 'InService',\n",
       " 'CreationTime': datetime.datetime(2024, 4, 9, 18, 1, 39, 188000, tzinfo=tzlocal()),\n",
       " 'LastModifiedTime': datetime.datetime(2024, 4, 9, 18, 9, 23, 704000, tzinfo=tzlocal()),\n",
       " 'ResponseMetadata': {'RequestId': 'f119680c-3379-4135-8258-986b46eb753a',\n",
       "  'HTTPStatusCode': 200,\n",
       "  'HTTPHeaders': {'x-amzn-requestid': 'f119680c-3379-4135-8258-986b46eb753a',\n",
       "   'content-type': 'application/x-amz-json-1.1',\n",
       "   'content-length': '745',\n",
       "   'date': 'Tue, 09 Apr 2024 18:09:41 GMT'},\n",
       "  'RetryAttempts': 0}}"
      ]
     },
     "execution_count": 9,
     "metadata": {},
     "output_type": "execute_result"
    }
   ],
   "source": [
    "boto3.client(\"sagemaker\").describe_endpoint(EndpointName=endpoint_name)"
   ]
  },
  {
   "cell_type": "markdown",
   "id": "defa4f8c",
   "metadata": {},
   "source": [
    "### Verify the endpoint"
   ]
  },
  {
   "cell_type": "code",
   "execution_count": 10,
   "id": "4dd56a04",
   "metadata": {},
   "outputs": [],
   "source": [
    "request = {\n",
    "    \"target\": [33.1595, 30.1788, 28.5022, 27.5708, 27.7571],\n",
    "    \"start\": \"2014-05-30 01:00:00\",\n",
    "    \"dynamic_feat\": [\n",
    "        [\n",
    "            1.0,\n",
    "            2.0,\n",
    "            3.0,\n",
    "            4.0,\n",
    "            5.0,\n",
    "            1.0,\n",
    "            2.0,\n",
    "            3.0,\n",
    "            4.0,\n",
    "            5.0,\n",
    "            1.0,\n",
    "            2.0,\n",
    "            3.0,\n",
    "            4.0,\n",
    "            1.0,\n",
    "            2.0,\n",
    "            3.0,\n",
    "            4.0,\n",
    "            5.0,\n",
    "        ],\n",
    "        [\n",
    "            1.0,\n",
    "            2.0,\n",
    "            3.0,\n",
    "            4.0,\n",
    "            5.0,\n",
    "            1.0,\n",
    "            2.0,\n",
    "            3.0,\n",
    "            4.0,\n",
    "            5.0,\n",
    "            1.0,\n",
    "            2.0,\n",
    "            3.0,\n",
    "            4.0,\n",
    "            1.0,\n",
    "            2.0,\n",
    "            3.0,\n",
    "            4.0,\n",
    "            5.0,\n",
    "        ],\n",
    "        [\n",
    "            1.0,\n",
    "            2.0,\n",
    "            3.0,\n",
    "            4.0,\n",
    "            5.0,\n",
    "            1.0,\n",
    "            2.0,\n",
    "            3.0,\n",
    "            4.0,\n",
    "            5.0,\n",
    "            1.0,\n",
    "            2.0,\n",
    "            3.0,\n",
    "            4.0,\n",
    "            1.0,\n",
    "            2.0,\n",
    "            3.0,\n",
    "            4.0,\n",
    "            5.0,\n",
    "        ],\n",
    "    ],\n",
    "    \"cat\": [0, 1],\n",
    "}\n",
    "\n",
    "input_instances = [request]\n",
    "predictor_input = {\n",
    "    \"instances\": input_instances,\n",
    "}"
   ]
  },
  {
   "cell_type": "code",
   "execution_count": 11,
   "id": "5696537d",
   "metadata": {},
   "outputs": [
    {
     "name": "stdout",
     "output_type": "stream",
     "text": [
      "{'predictions': [{'mean': [28.5425510406, 24.647687912, 22.2436542511, 18.3880290985, 15.5038976669, 22.9397029877, 20.5245018005, 17.0487174988, 15.3083105087, 21.5579490662, 19.5475158691, 15.5444173813, 13.7278432846, 12.3198976517]}]}\n"
     ]
    }
   ],
   "source": [
    "from sagemaker.serializers import JSONSerializer\n",
    "\n",
    "predictor = sagemaker.predictor.Predictor(\n",
    "    endpoint_name=endpoint_name, sagemaker_session=sagemaker_session, serializer=JSONSerializer()\n",
    ")\n",
    "prediction = predictor.predict(predictor_input)\n",
    "print(json.loads(prediction))"
   ]
  },
  {
   "cell_type": "markdown",
   "id": "14a0ba5e",
   "metadata": {},
   "source": [
    "## Time Series Explainability"
   ]
  },
  {
   "cell_type": "markdown",
   "id": "9ac0cf5d-3bba-4332-b0d6-df27b4e94e72",
   "metadata": {},
   "source": [
    "### Import Components\n",
    "\n",
    "Import the components needed to make a TSX call."
   ]
  },
  {
   "cell_type": "code",
   "execution_count": 12,
   "id": "9fda4683-f678-4167-9fb9-380e114ccdd4",
   "metadata": {
    "tags": []
   },
   "outputs": [],
   "source": [
    "from sagemaker.clarify import (\n",
    "    AsymmetricShapleyValueConfig,  # config for the explainability algorithm\n",
    "    DataConfig,  # general-purpose DataConfig. time series-specific data config object is provided to this\n",
    "    ModelConfig,  # general-purpose ModelConfig. time series-specific data config object is provided to this\n",
    "    SageMakerClarifyProcessor,  # processor object, the job call is made via this\n",
    "    TimeSeriesDataConfig,  # time series-specific data config object\n",
    "    TimeSeriesModelConfig,  # time series-specific predictor config object\n",
    "    TimeSeriesJSONDatasetFormat,  # time series-specific dataset format\n",
    ")"
   ]
  },
  {
   "cell_type": "markdown",
   "id": "e5297987",
   "metadata": {},
   "source": [
    "### Set Configurations"
   ]
  },
  {
   "cell_type": "code",
   "execution_count": 13,
   "id": "0b4b5201",
   "metadata": {},
   "outputs": [],
   "source": [
    "dataset_name = \"time_series_mock_data.json\"\n",
    "\n",
    "# Content template\n",
    "c_template = '{\"instances\": $records}'\n",
    "# Record template\n",
    "r_template = '{\"start\": $start_time, \"target\": $target_time_series, \"dynamic_feat\": $related_time_series, \"cat\": $static_covariates}'\n",
    "\n",
    "s3 = boto3.client(\"s3\")  # s3 client\n",
    "bucket_name = sagemaker.Session().default_bucket()\n",
    "bucket_uri = \"s3://\" + bucket_name + \"/deepar/\"\n",
    "\n",
    "s3_client.upload_file(dataset_name, bucket_name, f\"deepar/data/{dataset_name}\")"
   ]
  },
  {
   "cell_type": "markdown",
   "id": "d2a7f025-f00b-4169-9de9-610bdd5b3e53",
   "metadata": {},
   "source": [
    "### Asymmetric Shapley value\n",
    "\n",
    "Our time series forecasting explainability algorithm hinges on the application of the asymmetric Shapley values (ASV) from the theory of cooperative games. The ASV is a modification of the well-known Shapley value (e.g SHAP) that discards the symmetry axiom, but retains the efficiency exioms (i.e. attributions sum up to the predictions). Coalitions of features are generated based on a given probability distribution over feature *permutations* (rather than over *subsets* in the case of the Shapley value). In the case of time series, the distributions we use puts zero probability on permutations of features that do not respect the temporal dependencies, i.e. that have \"holes\". \n",
    "\n",
    "**References:**\n",
    "- Our main scientific reference is https://arxiv.org/abs/1910.06358. We scale the approach of the paper to include also static covariates, related time series and implement a stochastic estimator for efficiency.\n",
    "- A very useful math reference is [Probabilistic values by RJ Weber](http://www.library.fa.ru/files/Roth2.pdf#page=109);  specifically, section 8 about random-order values (these are the same mathematical construction of ASV). "
   ]
  },
  {
   "cell_type": "markdown",
   "id": "50515669-f353-4c3e-82fa-02cb199ccc2a",
   "metadata": {},
   "source": [
    "### Create `AsymmetricShapleyValueConfig`\n",
    "\n",
    "An `AsymmetricShapleyValueConfig` is used to configure the algorithm Clarify uses for time series explainability. It takes the following arguments:\n",
    "\n",
    "- `direction`: direction of explanation to be used. Available explanation types are `\"chronological\"`, `\"anti_chronological\"`, `\"bidirectional\"`. The cronological direction highlights the effect of older timesteps over more recent one, while the anti-chronological direction higlights the effect of timesteps closer to the forecasting. Bidirectional is a combination of the previous two modes. \n",
    "- `granularity`: Granularity of explanation to be used. Available granularities are `\"timewise\"` and `\"fine_grained\"`. The first granularity is fast and computes the attribution of individual timesteps toward the forecast, not making distinctions of related time series. The fine-grained mode is slower, but computes an attribution for every timestep and every feature dynamic, distinguishing between related and target TS.\n",
    "- `num_samples`: Number of samples to be used in the Asymmetric Shapley Value forecasting algorithm. Only applicable when using `\"fine_grained\"`  explanations. This represents the number of permutations sampled for computing the ASV. "
   ]
  },
  {
   "cell_type": "markdown",
   "id": "33dcc050-e8de-4a3e-93a3-c28fdb00a2d9",
   "metadata": {},
   "source": [
    "The notebook sets `explanation_direction` and `granularity` as variables for later reference."
   ]
  },
  {
   "cell_type": "code",
   "execution_count": 14,
   "id": "36a1f3a2-3d42-463c-b7a0-beabd4928d3b",
   "metadata": {},
   "outputs": [],
   "source": [
    "direction = \"chronological\"\n",
    "granularity = \"fine_grained\""
   ]
  },
  {
   "cell_type": "markdown",
   "id": "1b3f5d52-c120-44af-928c-e1278c68a4fd",
   "metadata": {},
   "source": [
    "Only then does the notebook create the `AsymmetricShapleyValueConfig` object."
   ]
  },
  {
   "cell_type": "code",
   "execution_count": 15,
   "id": "0ee5a376-57eb-4879-bcd4-60d0c2aa6787",
   "metadata": {
    "tags": []
   },
   "outputs": [],
   "source": [
    "asym_shap_val_config = AsymmetricShapleyValueConfig(\n",
    "    direction=direction,\n",
    "    granularity=granularity,\n",
    "    num_samples=9,  # (dimension of target_time_series + dimension of related_time_series) ^ 2\n",
    "    baseline={\n",
    "        \"target_time_series\": \"zero\",\n",
    "        \"related_time_series\": \"zero\",\n",
    "        \"static_covariates\": {\n",
    "            \"mosfets\": [0, 1],\n",
    "            \"interpol\": [1, 1],\n",
    "        },\n",
    "    },\n",
    ")"
   ]
  },
  {
   "cell_type": "markdown",
   "id": "bb43796f-c631-4e83-8020-3b7ecd28b4ad",
   "metadata": {
    "tags": []
   },
   "source": [
    "### Create `TimeSeriesDataConfig`\n",
    "\n",
    "A `TimeSeriesDataConfig` object is used to configure data I/O settings specific to TSX. It takes the following arguments:\n",
    "\n",
    "- `target_time_series`: A string or a zero-based integer index. Used to locate the target time series in the shared input dataset. If this parameter is a string, then all other parameters must also be strings or lists of strings. If this parameter is an int, then all others must be ints or lists of ints.\n",
    "- `item_id`: A string or a zero-based integer index. Used to locate item id in the shared input dataset.\n",
    "- `timestamp`: A string or a zero-based integer index. Used to locate timestamp in the shared input dataset.\n",
    "- `related_time_series`: Optional. An array of strings or array of zero-based integer indices. Used to locate all related time series in the shared input dataset (if present).\n",
    "- `static_covariates`: Optional. An array of strings or array of zero-based integer indices. Used to locate all item metadata fields in the shared input dataset (if present).\n",
    "- `dataset_format`: Optional. A string which describes the format of the data files provided for analysis. Should only be provided when dataset is in JSON format. Currently, we support `columns` and `timestamp_records` where example mock data files `ts_cols.json` and `time_series_mock_data.json` are provided respectively.\n",
    "\n",
    "This `TimeSeriesDataConfig` helps the container to parse the data needed for the analysis. Any additional data columns will be excluded if not providing corresponding Jmes_path to locate them."
   ]
  },
  {
   "cell_type": "code",
   "execution_count": 16,
   "id": "6199ab83-531e-4b8b-a843-855cddb85300",
   "metadata": {},
   "outputs": [],
   "source": [
    "ts_data_config = TimeSeriesDataConfig(\n",
    "    target_time_series=\"[].target_value\",\n",
    "    item_id=\"[].item_id\",\n",
    "    timestamp=\"[].timestamp\",\n",
    "    related_time_series=[f\"[].dynamic_feature_{x+1}\" for x in range(3)],\n",
    "    static_covariates=[\"[].static_feature_1\", \"[].static_feature_2\"],\n",
    "    dataset_format=TimeSeriesJSONDatasetFormat.TIMESTAMP_RECORDS,\n",
    ")"
   ]
  },
  {
   "cell_type": "markdown",
   "id": "f488d8f1-2b84-4e14-8bf6-3d1035843696",
   "metadata": {
    "tags": []
   },
   "source": [
    "### Create `TimeSeriesModelConfig`\n",
    "\n",
    "A `TimeSeriesModelConfig` is used to configure model settings specific to TSX. At the moment it has only one argument:\n",
    "\n",
    "- `forecast`: JMESPath expression to extract the forecast result."
   ]
  },
  {
   "cell_type": "code",
   "execution_count": 17,
   "id": "a2aeca6d-0023-4f70-afe2-64de4a497034",
   "metadata": {
    "tags": []
   },
   "outputs": [],
   "source": [
    "ts_model_config = TimeSeriesModelConfig(\n",
    "    forecast=\"predictions[*].mean\",\n",
    ")"
   ]
  },
  {
   "cell_type": "markdown",
   "id": "a57b892a-c170-4d72-8d7b-338ea2180196",
   "metadata": {},
   "source": [
    "### Create DataConfig\n",
    "\n",
    "General information about the dataset the TimeSeries model uses is provided to `DataConfig`. Here, we are providing where to retrieve the dataset, where to output the explainability job results, what format the dataset is in, and our TSX specific data settings."
   ]
  },
  {
   "cell_type": "code",
   "execution_count": 18,
   "id": "1a05d0fa-aa4a-4e79-9c22-9e296b3e61a1",
   "metadata": {},
   "outputs": [],
   "source": [
    "input_uri = bucket_uri + \"data/\" + dataset_name\n",
    "output_path = bucket_uri + \"output\"\n",
    "\n",
    "data_config = DataConfig(\n",
    "    s3_data_input_path=input_uri,\n",
    "    s3_output_path=output_path,\n",
    "    dataset_type=\"application/json\",\n",
    "    time_series_data_config=ts_data_config,\n",
    "    headers=[\n",
    "        \"item_id\",\n",
    "        \"timestamp\",\n",
    "        \"target_value\",\n",
    "        \"dynamic_feature_1\",\n",
    "        \"dynamic_feature_2\",\n",
    "        \"dynamic_feature_3\",\n",
    "        \"static_feature_1\",\n",
    "        \"static_feature_2\",\n",
    "    ],\n",
    ")"
   ]
  },
  {
   "cell_type": "markdown",
   "id": "08cd8b47-a66d-474e-b6ac-fbe3ecef4196",
   "metadata": {},
   "source": [
    "### Create ModelConfig\n",
    "\n",
    "With `ModelConfig` is configured here, Clarify will deploy the specified model to a new endpoint."
   ]
  },
  {
   "cell_type": "code",
   "execution_count": 19,
   "id": "8a3fa4fe-e20d-42a5-af35-aca7d5fb5c38",
   "metadata": {},
   "outputs": [],
   "source": [
    "model_config = ModelConfig(\n",
    "    endpoint_name=endpoint_name,\n",
    "    content_type=\"application/json\",\n",
    "    accept_type=\"application/json\",\n",
    "    content_template=c_template,\n",
    "    record_template=r_template,\n",
    "    time_series_model_config=ts_model_config,\n",
    ")"
   ]
  },
  {
   "cell_type": "markdown",
   "id": "396876da-1bef-4100-8ae5-16fd8f080eaf",
   "metadata": {},
   "source": [
    "It is also possible to specify an existing endpoint for Clarify to use with the following modifications to the `ModifyConfig` call:\n",
    "\n",
    "1. Omitting `model_name`, `instance_count`, `instance_type`, and `endpoint_name_prefix`.\n",
    "2. Provided `endpoint_name`."
   ]
  },
  {
   "cell_type": "markdown",
   "id": "89b8155a-78bf-4da1-a555-a43c24021dee",
   "metadata": {},
   "source": [
    "### Setup Processor"
   ]
  },
  {
   "cell_type": "markdown",
   "id": "9c487d31-9f7b-4625-9bda-ddb2ed906f74",
   "metadata": {},
   "source": [
    "Create the `Processor` object that will setup the explainability job."
   ]
  },
  {
   "cell_type": "code",
   "execution_count": 20,
   "id": "946c23f8-a5ab-4820-b4aa-12b4dab14895",
   "metadata": {
    "tags": []
   },
   "outputs": [
    {
     "name": "stderr",
     "output_type": "stream",
     "text": [
      "INFO:sagemaker.image_uris:Defaulting to the only supported framework/algorithm version: 1.0.\n",
      "INFO:sagemaker.image_uris:Ignoring unnecessary instance type: None.\n"
     ]
    }
   ],
   "source": [
    "instance_count = 1\n",
    "instance_type = \"ml.c5.2xlarge\"\n",
    "\n",
    "clarify_processor = SageMakerClarifyProcessor(\n",
    "    role=role,\n",
    "    sagemaker_session=sagemaker_session,\n",
    "    instance_count=instance_count,\n",
    "    instance_type=instance_type,\n",
    "    job_name_prefix=\"clarify-tsx-job-demo\",\n",
    ")"
   ]
  },
  {
   "cell_type": "markdown",
   "id": "41167880-e57a-4703-8c39-4a0f95375d9e",
   "metadata": {},
   "source": [
    "### Run Explainability Call"
   ]
  },
  {
   "cell_type": "code",
   "execution_count": 21,
   "id": "fb669c67-6ae0-4199-9cb3-218423e4f8e5",
   "metadata": {
    "tags": []
   },
   "outputs": [
    {
     "name": "stderr",
     "output_type": "stream",
     "text": [
      "INFO:sagemaker.clarify:Analysis Config: {'dataset_type': 'application/json', 'headers': ['item_id', 'timestamp', 'target_value', 'dynamic_feature_1', 'dynamic_feature_2', 'dynamic_feature_3', 'static_feature_1', 'static_feature_2'], 'time_series_data_config': {'target_time_series': '[].target_value', 'item_id': '[].item_id', 'timestamp': '[].timestamp', 'related_time_series': ['[].dynamic_feature_1', '[].dynamic_feature_2', '[].dynamic_feature_3'], 'static_covariates': ['[].static_feature_1', '[].static_feature_2'], 'dataset_format': 'timestamp_records'}, 'predictor': {'endpoint_name': 'DeepArTest-2024-04-09-17-56-24-856', 'accept_type': 'application/json', 'content_type': 'application/json', 'content_template': '{\"instances\": $records}', 'record_template': '{\"start\": $start_time, \"target\": $target_time_series, \"dynamic_feat\": $related_time_series, \"cat\": $static_covariates}', 'time_series_predictor_config': {'forecast': 'predictions[*].mean'}}, 'methods': {'report': {'name': 'report', 'title': 'Analysis Report'}, 'asymmetric_shapley_value': {'direction': 'chronological', 'granularity': 'fine_grained', 'num_samples': 9, 'baseline': {'target_time_series': 'zero', 'related_time_series': 'zero', 'static_covariates': {'mosfets': [0, 1], 'interpol': [1, 1]}}}}}\n",
      "INFO:sagemaker:Creating processing-job with name clarify-tsx-job-demo-2024-04-09-18-09-41-821\n"
     ]
    },
    {
     "name": "stdout",
     "output_type": "stream",
     "text": [
      ".................................WARNING:root:logging.conf not found when configuring logging, using default logging configuration.\n",
      "INFO:sagemaker-clarify-processing:Starting SageMaker Clarify Processing job\n",
      "INFO:analyzer.data_loading.data_loader_util:Analysis config path: /opt/ml/processing/input/config/analysis_config.json\n",
      "INFO:analyzer.data_loading.data_loader_util:Analysis result path: /opt/ml/processing/output\n",
      "INFO:analyzer.data_loading.data_loader_util:This host is algo-1.\n",
      "INFO:analyzer.data_loading.data_loader_util:This host is the leader.\n",
      "INFO:analyzer.data_loading.data_loader_util:Number of hosts in the cluster is 1.\n",
      "Setting default log level to \"WARN\".\n",
      "To adjust logging level use sc.setLogLevel(newLevel). For SparkR, use setLogLevel(newLevel).\n",
      "24/04/09 18:15:10 WARN NativeCodeLoader: Unable to load native-hadoop library for your platform... using builtin-java classes where applicable\n",
      "#015[Stage 0:>                                                          (0 + 8) / 8]#015#015                                                                                #015#015[Stage 4:===================================================>       (7 + 1) / 8]#015#015                                                                                #015INFO:analyzer.predictor.managed_endpoint:Using endpoint DeepArTest-2024-04-09-17-56-24-856\n",
      "INFO:analyzer.predictor.managed_endpoint:Checking endpoint status:\n",
      "Legend:\n",
      "(OutOfService: x, Creating: -, Updating: -, InService: !, RollingBack: <, Deleting: o, Failed: *)\n",
      "INFO:analyzer.predictor.managed_endpoint:Endpoint is in service after 0 seconds\n",
      "INFO:analyzer.predictor.predictor:Stop using endpoint: DeepArTest-2024-04-09-17-56-24-856\n",
      "INFO:analyzer.predictor.managed_endpoint:Model endpoint delivered 11.59692 requests per second and a total of 1 requests over 0 seconds\n",
      "#015[Stage 12:>                                                         (0 + 1) / 1]#015#015                                                                                #015INFO:sagemaker-clarify-processing:Wrote 2 lines to /opt/ml/processing/output/asymmetric_shapley_value/fine_grained_chronological/out.jsonl\n",
      "INFO:sagemaker-clarify-processing:Collected analyses: \n",
      "{'version': '1.0', 'explanations': {'asymmetric_shapley_value': {'direction': 'chronological', 'granularity': 'fine_grained', 'explanation_results_path': 's3://sagemaker-us-west-2-678264136642/deepar/output/asymmetric_shapley_value/fine_grained_chronological/out.jsonl'}}}\n",
      "INFO:analyzer.utils.system_util:exit_message: Completed: SageMaker XAI Analyzer ran successfully\n",
      "INFO:py4j.clientserver:Closing down clientserver connection\n",
      "\n"
     ]
    }
   ],
   "source": [
    "clarify_processor.run_explainability(\n",
    "    data_config=data_config,\n",
    "    model_config=model_config,\n",
    "    explainability_config=asym_shap_val_config,\n",
    ")"
   ]
  },
  {
   "cell_type": "markdown",
   "id": "f2f2ba8b-03c9-410a-88f0-3d24d0f6515d",
   "metadata": {},
   "source": [
    "## Analysis Config"
   ]
  },
  {
   "cell_type": "markdown",
   "id": "20cca631-6c48-4936-bc07-fc09da3a2945",
   "metadata": {},
   "source": [
    "### Retrieve Config From s3"
   ]
  },
  {
   "cell_type": "code",
   "execution_count": 22,
   "id": "b55628e8-c7ca-4630-ac95-7f6c779dfd01",
   "metadata": {
    "tags": []
   },
   "outputs": [],
   "source": [
    "s3.download_file(bucket_name, \"deepar/output/analysis_config.json\", \"analysis_config.json\")"
   ]
  },
  {
   "cell_type": "markdown",
   "id": "7171e6eb-5438-4660-9104-149f502ea5e8",
   "metadata": {},
   "source": [
    "### Display Config"
   ]
  },
  {
   "cell_type": "code",
   "execution_count": 23,
   "id": "e9dcec4e-7891-4703-a150-5a9d11d0748e",
   "metadata": {
    "tags": []
   },
   "outputs": [
    {
     "name": "stdout",
     "output_type": "stream",
     "text": [
      "{'dataset_type': 'application/json',\n",
      " 'headers': ['item_id', 'timestamp', 'target_value', 'dynamic_feature_1', 'dynamic_feature_2', 'dynamic_feature_3', 'static_feature_1', 'static_feature_2'],\n",
      " 'methods': {'asymmetric_shapley_value': {'baseline': {'related_time_series': 'zero', 'static_covariates': {'interpol': [1, 1], 'mosfets': [0, 1]}, 'target_time_series': 'zero'},\n",
      "                                          'direction': 'chronological',\n",
      "                                          'granularity': 'fine_grained',\n",
      "                                          'num_samples': 9},\n",
      "             'report': {'name': 'report', 'title': 'Analysis Report'}},\n",
      " 'predictor': {'accept_type': 'application/json',\n",
      "               'content_template': '{\"instances\": $records}',\n",
      "               'content_type': 'application/json',\n",
      "               'endpoint_name': 'DeepArTest-2024-04-09-17-56-24-856',\n",
      "               'record_template': '{\"start\": $start_time, \"target\": $target_time_series, \"dynamic_feat\": $related_time_series, \"cat\": $static_covariates}',\n",
      "               'time_series_predictor_config': {'forecast': 'predictions[*].mean'}},\n",
      " 'time_series_data_config': {'dataset_format': 'timestamp_records',\n",
      "                             'item_id': '[].item_id',\n",
      "                             'related_time_series': ['[].dynamic_feature_1', '[].dynamic_feature_2', '[].dynamic_feature_3'],\n",
      "                             'static_covariates': ['[].static_feature_1', '[].static_feature_2'],\n",
      "                             'target_time_series': '[].target_value',\n",
      "                             'timestamp': '[].timestamp'}}\n"
     ]
    }
   ],
   "source": [
    "with open(\"./analysis_config.json\", \"r\") as analyis_config_file:\n",
    "    analysis_config = json.load(analyis_config_file)\n",
    "    # mercury.JSON(analysis_config, level = 3)\n",
    "    config_printer = pprint.PrettyPrinter(width=200, compact=False)\n",
    "    config_printer.pprint(analysis_config)"
   ]
  },
  {
   "cell_type": "markdown",
   "id": "8bba3978-17c9-4685-ae72-04b61c9510a7",
   "metadata": {},
   "source": [
    "## Explainability Results"
   ]
  },
  {
   "cell_type": "markdown",
   "id": "4bfc1be6-9de4-4c62-8cea-4f070b52754b",
   "metadata": {},
   "source": [
    "### Retrieve Results From s3"
   ]
  },
  {
   "cell_type": "code",
   "execution_count": 24,
   "id": "b083a9df-17f6-4e0e-bccc-2f8585880744",
   "metadata": {},
   "outputs": [],
   "source": [
    "full_result_path = f\"deepar/output/asymmetric_shapley_value/{granularity}_{direction}/out.jsonl\"\n",
    "\n",
    "s3.download_file(bucket_name, full_result_path, \"results.jsonl\")"
   ]
  },
  {
   "cell_type": "markdown",
   "id": "ee194253-17db-45c2-b6c9-721d1ca1336a",
   "metadata": {},
   "source": [
    "### Display Results"
   ]
  },
  {
   "cell_type": "code",
   "execution_count": 25,
   "id": "ad0142ad-f709-4cb6-9b79-4ffa482341ca",
   "metadata": {},
   "outputs": [
    {
     "data": {
      "text/html": [
       "<style>.renderjson a              { text-decoration: none; }\n",
       ".renderjson .disclosure    { color: grey; font-size: 125%; }\n",
       ".renderjson .syntax        { color: grey; }\n",
       ".renderjson .string        { color: #fe46a5; }\n",
       ".renderjson .number        { color: #0f9b8e; }\n",
       ".renderjson .boolean       { color: black; }\n",
       ".renderjson .key           { color: #2684ff; }\n",
       ".renderjson .keyword       { color: gray; }\n",
       ".renderjson .object.syntax { color: gray; }\n",
       ".renderjson .array.syntax  { color: gray; }</style><div id=\"6a8bea35-44fd-4dae-b6d6-cadc76cb44c0\"></div>"
      ],
      "text/plain": [
       "<IPython.core.display.HTML object>"
      ]
     },
     "metadata": {},
     "output_type": "display_data"
    },
    {
     "data": {
      "text/html": [
       "<script>var renderjson=function(){var t=function(){for(var t=[];arguments.length;)t.push(n(s(Array.prototype.shift.call(arguments)),o(Array.prototype.shift.call(arguments))));return t},n=function(){for(var t=Array.prototype.shift.call(arguments),e=0;e<arguments.length;e++)arguments[e].constructor==Array?n.apply(this,[t].concat(arguments[e])):t.appendChild(arguments[e]);return t},e=function(t,n){return t.insertBefore(n,t.firstChild),t},r=function(t,n){var e=n||Object.keys(t);for(var r in e)if(Object.hasOwnProperty.call(t,e[r]))return!1;return!0},o=function(t){return document.createTextNode(t)},s=function(t){var n=document.createElement(\"span\");return t&&(n.className=t),n},l=function(t,n,e){var r=document.createElement(\"a\");return n&&(r.className=n),r.appendChild(o(t)),r.href=\"#\",r.onclick=function(t){return e(),t&&t.stopPropagation(),!1},r};function a(i,c,u,p,y){var _=u?\"\":c,f=function(r,a,i,c,u){var f,g=s(c),h=function(){f||n(g.parentNode,f=e(u(),l(y.hide,\"disclosure\",(function(){f.style.display=\"none\",g.style.display=\"inline\"})))),f.style.display=\"inline\",g.style.display=\"none\"};n(g,l(y.show,\"disclosure\",h),t(c+\" syntax\",r),l(a,null,h),t(c+\" syntax\",i));var d=n(s(),o(_.slice(0,-1)),g);return p>0&&\"string\"!=c&&h(),d};return null===i?t(null,_,\"keyword\",\"null\"):void 0===i?t(null,_,\"keyword\",\"undefined\"):\"string\"==typeof i&&i.length>y.max_string_length?f('\"',i.substr(0,y.max_string_length)+\" ...\",'\"',\"string\",(function(){return n(s(\"string\"),t(null,_,\"string\",JSON.stringify(i)))})):\"object\"!=typeof i||[Number,String,Boolean,Date].indexOf(i.constructor)>=0?t(null,_,typeof i,JSON.stringify(i)):i.constructor==Array?0==i.length?t(null,_,\"array syntax\",\"[]\"):f(\"[\",y.collapse_msg(i.length),\"]\",\"array\",(function(){for(var e=n(s(\"array\"),t(\"array syntax\",\"[\",null,\"\\n\")),r=0;r<i.length;r++)n(e,a(y.replacer.call(i,r,i[r]),c+\"    \",!1,p-1,y),r!=i.length-1?t(\"syntax\",\",\"):[],o(\"\\n\"));return n(e,t(null,c,\"array syntax\",\"]\")),e})):r(i,y.property_list)?t(null,_,\"object syntax\",\"{}\"):f(\"{\",y.collapse_msg(Object.keys(i).length),\"}\",\"object\",(function(){var e=n(s(\"object\"),t(\"object syntax\",\"{\",null,\"\\n\"));for(var r in i)var l=r;var u=y.property_list||Object.keys(i);for(var _ in y.sort_objects&&(u=u.sort()),u){(r=u[_])in i&&n(e,t(null,c+\"    \",\"key\",'\"'+r+'\"',\"object syntax\",\": \"),a(y.replacer.call(i,r,i[r]),c+\"    \",!0,p-1,y),r!=l?t(\"syntax\",\",\"):[],o(\"\\n\"))}return n(e,t(null,c,\"object syntax\",\"}\")),e}))}var i=function t(e){var r=new Object(t.options);r.replacer=\"function\"==typeof r.replacer?r.replacer:function(t,n){return n};var o=n(document.createElement(\"pre\"),a(e,\"\",!1,r.show_to_level,r));return o.className=\"renderjson\",o};return i.set_icons=function(t,n){return i.options.show=t,i.options.hide=n,i},i.set_show_to_level=function(t){return i.options.show_to_level=\"string\"==typeof t&&\"all\"===t.toLowerCase()?Number.MAX_VALUE:t,i},i.set_max_string_length=function(t){return i.options.max_string_length=\"string\"==typeof t&&\"none\"===t.toLowerCase()?Number.MAX_VALUE:t,i},i.set_sort_objects=function(t){return i.options.sort_objects=t,i},i.set_replacer=function(t){return i.options.replacer=t,i},i.set_collapse_msg=function(t){return i.options.collapse_msg=t,i},i.set_property_list=function(t){return i.options.property_list=t,i},i.set_show_by_default=function(t){return i.options.show_to_level=t?Number.MAX_VALUE:0,i},i.options={},i.set_icons(\"⊕\",\"⊖\"),i.set_show_by_default(!1),i.set_sort_objects(!1),i.set_max_string_length(\"none\"),i.set_replacer(void 0),i.set_property_list(void 0),i.set_collapse_msg((function(t){return t+\" item\"+(1==t?\"\":\"s\")})),i}(); renderjson.set_show_to_level(5); document.getElementById(\"6a8bea35-44fd-4dae-b6d6-cadc76cb44c0\").appendChild(renderjson([{'item_id': 'mosfets', 'offset': [90696.109375, 102653.6171875, 108481.859375, 112522.5390625, 124149.890625, 125434.3203125, 138654.8125, 143042.09375, 149887.09375, 145198.171875, 150910.34375, 153957.125, 157478.546875, 159005.453125], 'explanations': [{'feature_name': 'target_value', 'timestamp': '2019-09-11', 'scores': [-93524.64740668403, -91773.42209201389, -102859.3380533854, -110271.91737196181, -114450.95008680558, -121313.28190104167, -125708.35286458333, -130245.25607638886, -132522.9472113715, -135748.8325737847, -139957.76209852434, -140784.7216796875, -144654.63324652778, -143010.30957031247]}, {'feature_name': 'target_value', 'timestamp': '2019-09-12', 'scores': [7205.256239149321, 6298.976942274311, 7311.684190538167, 5667.660210503478, 6001.293185763889, 6267.577256944433, 6582.921278211811, 7128.4482421875, 7255.0675998264, 7261.029405381955, 7468.087131076377, 7558.5355902777765, 7534.167371961799, 7627.118598090266]}, {'feature_name': 'target_value', 'timestamp': '2019-09-13', 'scores': [7905.6376953125, 8127.390733506944, 7929.263020833333, 9210.059027777777, 7086.153428819444, 7281.899305555555, 7561.211588541666, 8133.508463541666, 8279.218532986111, 7747.412543402777, 8221.773654513889, 7979.189995659722, 8001.1240234375, 8173.921440972222]}, {'feature_name': 'target_value', 'timestamp': '2019-09-14', 'scores': [11065.187934027777, 8997.651258680557, 9761.220052083334, 9426.74435763889, 11170.521267361111, 8652.741970486111, 8341.997178819443, 9110.646484375, 8781.157552083332, 8572.773654513889, 8457.908637152777, 8535.666883680555, 8582.587890625, 8306.801432291668]}, {'feature_name': 'target_value', 'timestamp': '2019-09-15', 'scores': [13445.461154513887, 15347.25, 13871.834418402777, 14240.674913194445, 13969.52495659722, 14904.598958333332, 12294.901258680555, 12576.061414930555, 12605.703993055555, 11886.072699652777, 11903.112196180555, 11402.62261284722, 10697.111328125, 10835.382161458334]}, {'feature_name': 'target_value', 'timestamp': '2019-09-16', 'scores': [11545.50347222222, 13906.89626736111, 16034.739149305557, 13708.792968749998, 14902.976128472219, 15714.960937499998, 15577.90755208333, 12848.305555555553, 12317.037326388887, 12660.274739583336, 12548.3203125, 11786.78298611111, 11273.3359375, 11115.702256944445]}, {'feature_name': 'dynamic_feature_1', 'timestamp': '2019-09-11', 'scores': [-644.0484483506999, 188.96652560764446, 45.085232204877755, 765.0831705729221, -489.2826605902778, 83.38753255206669, 1992.5005425347222, -1771.7431640625, 639.6681857638779, 607.1205512152667, -2079.6611328125005, -1390.3365885416556, 729.5138888888888, 505.9045138888888]}, {'feature_name': 'dynamic_feature_1', 'timestamp': '2019-09-12', 'scores': [153.7560221354111, -104.77501085069999, 251.58268229166669, 118.86013454859999, -58.638617621522236, 114.28743489583331, 16.083821614577786, 150.81076388887777, -269.04025607638886, -49.11979166666667, -302.12966579861114, -127.91438802083334, -226.69335937499997, -126.44037543402223]}, {'feature_name': 'dynamic_feature_1', 'timestamp': '2019-09-13', 'scores': [48.29459635416667, -83.36056857638889, -51.45974392361111, 403.76280381944446, 26.192057291666654, 263.9009331597223, 153.16232638888889, -269.2014973958333, -53.01714409722222, 64.96245659722223, -234.35579427083331, -136.28016493055557, 111.96755642361113, -291.9645182291667]}, {'feature_name': 'dynamic_feature_1', 'timestamp': '2019-09-14', 'scores': [83.82921006944446, 33.46723090277777, -16.901258680555557, -485.76953124999994, -201.71050347222226, 260.5896267361111, -152.00368923611111, -78.04622395833333, -225.83723958333334, 119.87543402777771, -6.5377604166667, 98.70681423611107, -361.76106770833326, -133.26909722222226]}, {'feature_name': 'dynamic_feature_1', 'timestamp': '2019-09-15', 'scores': [-267.2992621527777, -743.8098958333333, -18.276909722222207, 317.5310329861111, -205.28949652777777, 339.2621527777777, 142.74045138888883, 215.52669270833323, 568.9898003472222, -22.94704861111111, -158.15581597222223, 134.60221354166663, 203.751953125, 153.44574652777777]}, {'feature_name': 'dynamic_feature_1', 'timestamp': '2019-09-16', 'scores': [262.33984375, -12.119791666666657, 63.96788194444446, -285.7417534722222, 289.6388888888889, -664.2960069444443, -339.734375, -58.29991319444443, -123.87673611111114, -3.881510416666657, -243.1436631944444, -213.18229166666663, -120.0998263888888, -0.80859375]}, {'feature_name': 'dynamic_feature_1', 'timestamp': '2019-09-17', 'scores': [1516.5164930555557, -356.18880208333337, -68.20225694444446, 443.7404513888889, 575.1184895833333, 59.036892361111086, 694.2829861111111, 6.93619791666665, -140.13324652777777, 52.71701388888887, -323.68315972222223, 492.5043402777777, 688.1536458333333, -406.08897569444446]}, {'feature_name': 'dynamic_feature_1', 'timestamp': '2019-09-18', 'scores': [180.23741319444446, 950.34375, 735.8333333333334, -83.81857638888896, 164.58159722222229, 98.09505208333331, 170.14496527777783, -370.01519097222223, -119.0091145833333, 171.89019097222223, 611.7894965277777, 637.625, 279.68098958333337, 294.3363715277777]}, {'feature_name': 'dynamic_feature_1', 'timestamp': '2019-09-19', 'scores': [244.4088541666666, -99.96875, -100.265625, 249.1453993055555, -202.48524305555551, -262.6197916666667, -309.5698784722223, -22.207899305555546, -261.8489583333333, 714.3671875, 9.972222222222186, -949.0794270833334, -913.5056423611112, -71.66623263888894]}, {'feature_name': 'dynamic_feature_1', 'timestamp': '2019-09-20', 'scores': [-342.5963541666667, 392.5694444444445, 474.42057291666663, 706.5846354166665, -380.2682291666667, 150.39279513888889, -115.32638888888889, 205.22005208333331, 306.97916666666663, 346.74826388888886, -594.0672743055555, -80.30859374999996, 4.106770833333329, 718.9552951388889]}, {'feature_name': 'dynamic_feature_1', 'timestamp': '2019-09-21', 'scores': [344.66536458333337, -83.54383680555551, -828.1809895833333, 298.2999131944444, 520.26171875, 265.4631076388888, 87.16276041666664, 228.0655381944444, -363.92274305555554, 313.35807291666663, 557.1844618055555, 473.98697916666663, -3.4127604166666288, -65.05338541666667]}, {'feature_name': 'dynamic_feature_1', 'timestamp': '2019-09-22', 'scores': [-115.57855902777774, -253.6618923611111, -359.46831597222223, 510.88107638888886, 119.81987847222221, 21.116319444444443, -382.2413194444445, 468.9166666666666, -539.96484375, 319.7044270833333, -980.2816840277776, -543.5828993055555, 658.8706597222222, -1104.8133680555552]}, {'feature_name': 'dynamic_feature_1', 'timestamp': '2019-09-23', 'scores': [-287.6792534722222, 230.4474826388888, 191.64930555555554, 51.00086805555557, -83.91276041666669, 170.42621527777777, 287.0759548611111, -197.45225694444443, -277.95963541666663, 13.513454861111114, 1049.1380208333333, -353.58940972222234, 153.29817708333326, 1.440538194444457]}, {'feature_name': 'dynamic_feature_1', 'timestamp': '2019-09-24', 'scores': [224.7265625, 515.6202256944445, -647.2756076388888, -458.0529513888888, -286.3723958333333, 115.61154513888887, 181.58680555555551, 179.55121527777777, 87.66536458333337, 242.6957465277778, 386.3138020833333, 674.3454861111113, -404.693142361111, 251.65798611111114]}, {'feature_name': 'dynamic_feature_1', 'timestamp': '2019-09-25', 'scores': [-1009.2174479166666, -342.91232638888886, -680.4318576388888, 450.2118055555556, -101.69835069444446, -696.7400173611111, -53.724826388888836, 498.34939236111103, 701.6545138888889, 124.52517361111114, 13.096788194444429, 214.09114583333337, 534.0264756944443, -455.4552951388888]}, {'feature_name': 'dynamic_feature_1', 'timestamp': '2019-09-26', 'scores': [-96.8055555555556, 454.76128472222223, 117.70095486111111, 107.9197048611111, -76.70572916666669, 3.356336805555486, -71.5464409722222, -16.30902777777778, 98.91840277777774, 648.5959201388888, 1060.9357638888887, 512.1788194444445, 332.19574652777777, 791.4110243055554]}, {'feature_name': 'dynamic_feature_1', 'timestamp': '2019-09-27', 'scores': [40.8289930555556, 20.7964409722222, 278.45616319444446, 797.9661458333333, -231.52256944444446, 349.9427083333333, 372.83333333333337, 96.6705729166668, -369.0230034722222, -1140.8042534722222, 255.19270833333337, -256.16579861111114, -407.04427083333337, -255.39670138888886]}, {'feature_name': 'dynamic_feature_1', 'timestamp': '2019-09-28', 'scores': [-728.7395833333333, -1112.6341145833333, -154.99999999999994, 433.89496527777777, -468.8368055555555, 680.8072916666666, 217.55121527777777, 364.44140625, 71.88281249999997, -664.2573784722221, 667.4097222222222, 615.9066840277777, 292.04817708333326, 134.46223958333334]}, {'feature_name': 'dynamic_feature_1', 'timestamp': '2019-09-29', 'scores': [21.59288194444445, 52.184895833333314, 314.4982638888888, -184.4587673611111, -114.37977430555557, 342.3480902777778, -267.2764756944444, -936.6753472222221, -150.74869791666666, 695.9930555555554, -317.4166666666667, -257.56901041666674, 348.83463541666663, -574.1879340277777]}, {'feature_name': 'dynamic_feature_1', 'timestamp': '2019-09-30', 'scores': [-95.30468749999997, -371.1115451388889, -632.6671006944443, 167.39800347222217, 130.62022569444437, -75.12673611111111, 551.5590277777777, 403.1957465277777, 507.45572916666663, 121.19487847222229, 882.7417534722223, 1143.9131944444443, 516.7309027777778, 573.8641493055554]}, {'feature_name': 'dynamic_feature_2', 'timestamp': '2019-09-11', 'scores': [514.2798394097334, -1819.0045572916665, -1606.4243706597333, -697.8113606770887, 369.3312174479332, 492.5325520833444, -529.2386610243, -1032.3496636284888, -1725.626573350689, -1521.6629774305666, -543.0250108506777, -537.1098632812557, 766.242187500011, -1781.427137586811]}, {'feature_name': 'dynamic_feature_2', 'timestamp': '2019-09-12', 'scores': [25.77560763887778, 92.74641927084443, -131.11002604166663, -58.02077907986667, 89.57269965277779, 1.4069010416666572, 172.86952039931109, 30.505154079877776, 20.97998046874443, 158.95784505207777, 182.82383897569997, 51.62977430555556, 265.47938368055554, 187.55615234375557]}, {'feature_name': 'dynamic_feature_2', 'timestamp': '2019-09-13', 'scores': [267.64008246527777, 98.02669270833334, -75.59928385416667, -120.25303819444444, -114.78938802083334, -250.62152777777774, 206.91297743055554, -209.07128906249994, -154.39322916666663, 131.50607638888889, -121.04405381944443, -86.19270833333331, 12.138454861111086, 205.84244791666669]}, {'feature_name': 'dynamic_feature_2', 'timestamp': '2019-09-14', 'scores': [156.08159722222223, 384.18771701388886, -108.65755208333334, 146.55403645833334, -26.48263888888889, -416.2615017361111, -58.991753472222236, 192.50347222222223, 75.15039062499994, 306.9060329861111, 301.7523871527777, 428.5913628472221, 489.0707465277777, 438.66362847222223]}, {'feature_name': 'dynamic_feature_2', 'timestamp': '2019-09-15', 'scores': [3.3990885416666856, 957.9578993055555, 600.958767361111, 1040.921657986111, -89.21050347222219, 460.1855468750001, 282.4021267361111, -415.32421875, -138.8452690972222, 145.85807291666666, 117.2211371527778, 7.3107638888888715, 361.0855034722222, 203.21723090277777]}, {'feature_name': 'dynamic_feature_2', 'timestamp': '2019-09-16', 'scores': [321.7942708333333, 891.0598958333331, -499.43967013888886, 337.9340277777777, -136.40190972222223, 520.5455729166666, 860.3945312499999, 56.62717013888887, 527.78125, 792.9709201388888, 454.31206597222223, -143.9765625, -176.90104166666669, 447.24175347222223]}, {'feature_name': 'dynamic_feature_2', 'timestamp': '2019-09-17', 'scores': [-677.5789930555554, -681.8697916666666, 384.64409722222223, 557.8498263888889, -223.7886284722222, 40.4726562499998, -456.11328125, 349.51432291666663, 230.18055555555554, -481.76215277777777, -267.27213541666663, 381.7990451388889, 150.01736111111114, -98.84809027777781]}, {'feature_name': 'dynamic_feature_2', 'timestamp': '2019-09-18', 'scores': [425.73220486111103, -133.53211805555551, 424.33680555555543, -4.193576388888914, 822.6436631944442, -301.76562499999994, 195.39670138888886, 72.07725694444443, -231.54470486111103, -33.881510416666686, 74.60156249999997, 28.78168402777779, 71.42144097222223, -184.69444444444443]}, {'feature_name': 'dynamic_feature_2', 'timestamp': '2019-09-19', 'scores': [-517.3567708333334, -135.94921875, -40.85112847222217, -33.81249999999997, 498.0720486111111, 223.8328993055555, -130.3133680555555, 80.00303819444446, 718.8754340277777, -1022.1801215277777, 258.5056423611111, 800.2443576388889, -34.62109375000006, -218.1158854166667]}, {'feature_name': 'dynamic_feature_2', 'timestamp': '2019-09-20', 'scores': [-305.7686631944444, 132.87760416666663, -851.5225694444443, -367.76041666666663, -177.08029513888886, -158.1453993055556, -404.6028645833334, 103.34939236111116, 5.50390625, -445.49218749999994, -167.1796875, -472.62196180555566, -58.23524305555557, -1000.3185763888888]}, {'feature_name': 'dynamic_feature_2', 'timestamp': '2019-09-21', 'scores': [-1098.5616319444443, 589.3324652777777, 485.21267361111103, -203.23828124999994, 15.172743055555586, 374.1384548611111, 422.17578125, -594.9730902777778, 442.90668402777777, 574.25390625, 201.7209201388889, 781.9900173611111, -283.3862847222222, 616.2868923611111]}, {'feature_name': 'dynamic_feature_2', 'timestamp': '2019-09-22', 'scores': [358.734375, -57.05989583333334, -181.6297743055555, -335.7309027777777, -349.4626736111111, -687.3111979166667, 478.23394097222223, 15.114149305555515, 117.3667534722222, 416.0737847222222, 266.3025173611111, -233.02734374999997, -806.4965277777777, 727.8884548611111]}, {'feature_name': 'dynamic_feature_2', 'timestamp': '2019-09-23', 'scores': [778.7339409722222, -308.72612847222223, -368.9027777777777, -388.9236111111111, 28.119791666666664, 250.19574652777777, -624.3953993055554, -6.238715277777743, -627.2747395833333, 184.74218750000006, -522.5820312499999, 319.9188368055555, 257.50086805555554, -38.9322916666667]}, {'feature_name': 'dynamic_feature_2', 'timestamp': '2019-09-24', 'scores': [-56.74348958333334, 450.81423611111114, 1693.0924479166667, 599.8689236111111, 89.33680555555557, 882.4926215277776, 159.35720486111111, -403.4735243055555, 893.0763888888888, 532.7365451388889, -219.44878472222223, 317.1688368055555, -63.392795138888836, 2.9279513888888786]}, {'feature_name': 'dynamic_feature_2', 'timestamp': '2019-09-25', 'scores': [-61.24305555555556, -215.12456597222217, 375.4131944444444, -45.63281249999996, 285.96180555555554, 266.8541666666667, -635.6571180555554, -199.32465277777777, -1414.4466145833335, -437.7374131944443, -126.27821180555556, -149.78081597222223, 208.1640625, -321.72829861111114]}, {'feature_name': 'dynamic_feature_2', 'timestamp': '2019-09-26', 'scores': [-162.07638888888889, -34.19444444444444, -266.1723090277777, -461.6631944444444, 545.6041666666666, -708.9487847222222, 698.8598090277778, -43.58029513888886, -1365.4717881944443, -384.9626736111111, -771.2309027777777, -60.663628472222214, -11.297743055555543, -464.16883680555554]}, {'feature_name': 'dynamic_feature_2', 'timestamp': '2019-09-27', 'scores': [-169.18402777777783, 37.58246527777772, -618.1258680555557, -198.0264756944444, -208.88715277777777, -230.86414930555554, 367.6449652777777, 14.416232638888872, 712.7417534722222, 637.1180555555555, -857.5846354166666, 529.0499131944445, 326.06336805555554, 541.4596354166666]}, {'feature_name': 'dynamic_feature_2', 'timestamp': '2019-09-28', 'scores': [-408.8506944444444, -76.64019097222223, 282.1927083333333, -608.8893229166667, -371.7530381944444, -338.0403645833333, -868.5629340277778, -138.15277777777777, -736.7421875000001, -112.16970486111111, -884.4756944444446, -406.9717881944444, 428.97526041666663, 239.20920138888886]}, {'feature_name': 'dynamic_feature_2', 'timestamp': '2019-09-29', 'scores': [432.71354166666663, 352.5468749999999, 164.37500000000003, 337.42968749999994, 233.84722222222226, -80.27126736111111, 1086.4427083333335, 1013.83984375, 268.2669270833333, 550.0776909722222, 276.28168402777777, 455.125, -742.3129340277778, 337.27647569444446]}, {'feature_name': 'dynamic_feature_2', 'timestamp': '2019-09-30', 'scores': [-411.0776909722222, -293.38888888888886, -733.6853298611111, 99.60416666666663, -335.77039930555554, -749.6675347222222, -258.8537326388889, 86.14887152777777, -357.00477430555554, -433.9066840277777, -583.3515625, -419.3272569444444, -326.0104166666665, 133.90407986111111]}, {'feature_name': 'dynamic_feature_3', 'timestamp': '2019-09-11', 'scores': [257.4142795139, 348.91384548608886, 1088.2201605902778, -167.8232421875, 869.9833441840111, 437.37803819445554, -174.48529730904446, 378.09613715276663, -501.11952039931106, 781.4721679687443, 431.8358832465444, 160.52430555553332, -372.25857204859994, 644.2355143229111]}, {'feature_name': 'dynamic_feature_3', 'timestamp': '2019-09-12', 'scores': [-78.76030815973333, 35.679199218766676, -166.9153103298333, -80.28293185762223, -8.529242621522222, -63.2079535590111, -107.49365234374443, -205.28884548609997, 50.67610677083333, -60.32736545137777, -63.72189670138888, 32.55029296876668, 8.570475260411111, -83.48763020833331]}, {'feature_name': 'dynamic_feature_3', 'timestamp': '2019-09-13', 'scores': [-302.89680989583326, 143.84342447916666, 91.62196180555554, -71.98849826388889, 126.5173611111111, -78.51681857638887, -195.51605902777777, 201.22840711805554, 210.40397135416669, -40.890733506944436, 198.22102864583334, 175.58615451388889, -254.3831380208333, -50.906901041666664]}, {'feature_name': 'dynamic_feature_3', 'timestamp': '2019-09-14', 'scores': [29.834201388888893, -27.348958333333336, -181.95095486111111, 149.52473958333331, 22.575520833333336, -369.9607204861111, 23.898871527777786, 47.67382812500004, -305.12174479166663, -396.9299045138889, -177.6258680555556, -465.07421875, -195.5067274305556, -430.8904079861112]}, {'feature_name': 'dynamic_feature_3', 'timestamp': '2019-09-15', 'scores': [357.1592881944444, -102.76519097222223, -114.12348090277777, -303.0128038194444, 272.619140625, -215.0518663194444, 219.8003472222222, 282.7068142361111, -635.9533420138888, -40.06727430555554, -45.39171006944443, -160.44140625, 655.9557291666666, 197.54730902777777]}, {'feature_name': 'dynamic_feature_3', 'timestamp': '2019-09-16', 'scores': [62.707031250000014, 252.43142361111106, 197.4444444444444, 852.2955729166667, 330.99479166666674, -22.951388888888896, -597.7335069444445, -127.95138888888889, 84.20833333333336, -965.2144097222222, -846.2039930555554, -501.3415798611109, -677.1280381944443, -722.7834201388889]}, {'feature_name': 'dynamic_feature_3', 'timestamp': '2019-09-17', 'scores': [-533.0, 128.07508680555554, -183.73046874999994, -667.7161458333333, -175.49435763888889, -285.0308159722222, 185.17187500000003, -137.8480902777778, 526.1631944444443, 118.33463541666667, 510.5742187499999, -189.62630208333331, -517.3927951388888, -99.18923611111109]}, {'feature_name': 'dynamic_feature_3', 'timestamp': '2019-09-18', 'scores': [-392.74609375, 507.5750868055555, -167.28211805555554, -198.35720486111114, -331.25694444444446, 407.16970486111114, -571.1341145833333, 849.8146701388889, -112.26388888888887, 254.06380208333331, -563.2612847222222, -1262.4049479166665, -105.4149305555556, -405.7239583333333]}, {'feature_name': 'dynamic_feature_3', 'timestamp': '2019-09-19', 'scores': [722.0546875, -279.72526041666663, 682.5980902777777, 194.97265624999997, -487.9379340277777, 7.939236111111096, 649.2725694444443, -661.2261284722222, -429.9561631944443, 327.4592013888889, -136.46701388888883, 447.7916666666666, 320.31380208333326, 1106.35546875]}, {'feature_name': 'dynamic_feature_3', 'timestamp': '2019-09-20', 'scores': [474.89583333333337, -43.4813368055556, 239.8181423611111, 116.64626736111111, 621.5920138888888, 820.7530381944445, 736.8619791666665, 88.27560763888893, 489.33854166666663, 194.69010416666666, 474.85807291666663, 662.3793402777777, 291.81380208333326, 146.19965277777783]}, {'feature_name': 'dynamic_feature_3', 'timestamp': '2019-09-21', 'scores': [718.0672743055557, -587.2886284722222, 206.35677083333334, -581.9496527777777, 62.937934027777786, -740.6072048611111, -168.84505208333331, 306.98046875, -453.765625, -821.8524305555555, 584.0008680555555, -515.0247395833333, 475.4782986111111, 74.96614583333334]}, {'feature_name': 'dynamic_feature_3', 'timestamp': '2019-09-22', 'scores': [-147.60026041666674, 530.8146701388889, 450.0060763888889, 455.03211805555554, -276.5959201388889, 715.1792534722222, 406.71657986111103, -80.41319444444446, 1002.1644965277778, -396.46397569444446, 221.53255208333331, 579.5464409722222, 401.34982638888897, 433.57899305555554]}, {'feature_name': 'dynamic_feature_3', 'timestamp': '2019-09-23', 'scores': [-624.5251736111112, -35.303385416666735, 556.1215277777778, 380.9809027777778, 76.81076388888886, -252.12065972222223, 50.55295138888887, 401.98784722222223, 428.47699652777777, 53.256944444444436, -150.02821180555557, 75.75824652777776, 114.21006944444446, 200.23654513888886]}, {'feature_name': 'dynamic_feature_3', 'timestamp': '2019-09-24', 'scores': [-401.0698784722222, -921.4136284722222, -1240.1393229166667, -626.1727430555554, -69.01822916666669, -1204.1089409722222, -258.8537326388889, 194.9118923611111, 108.64800347222223, -797.7204861111111, -1200.8129340277776, -799.5972222222222, -296.0885416666667, -89.46440972222226]}, {'feature_name': 'dynamic_feature_3', 'timestamp': '2019-09-25', 'scores': [910.5638020833333, 468.2595486111111, 159.43663194444449, -177.76215277777777, 379.43663194444446, 732.6328125, 32.627604166666686, -337.44227430555554, 316.6584201388889, -394.87326388888886, 382.58463541666663, -239.6740451388889, -415.69010416666663, -614.3576388888889]}, {'feature_name': 'dynamic_feature_3', 'timestamp': '2019-09-26', 'scores': [-270.0707465277778, -566.4370659722222, -133.14019097222223, -262.1775173611111, -627.3797743055554, 671.2122395833333, 110.93923611111107, 77.28819444444444, 999.75, 1006.2543402777776, 782.5512152777776, 3.9414062499999893, -631.5143229166666, 792.8020833333334]}, {'feature_name': 'dynamic_feature_3', 'timestamp': '2019-09-27', 'scores': [932.5247395833333, 355.79687499999994, 679.3528645833333, 804.9305555555557, 82.24782986111111, 499.82899305555554, -249.85503472222229, 584.3828125, 140.15234374999994, 554.0264756944445, 616.3055555555555, -1.2999131944444997, 961.0034722222222, -478.3055555555556]}, {'feature_name': 'dynamic_feature_3', 'timestamp': '2019-09-28', 'scores': [515.7547743055555, -246.95703125000003, -273.98871527777766, -962.7795138888889, 983.6957465277776, -1159.688802083333, -99.28949652777773, -961.017361111111, -158.95876736111111, 307.3007812499999, -157.73220486111114, -355.42100694444446, -128.69444444444443, 53.31293402777775]}, {'feature_name': 'dynamic_feature_3', 'timestamp': '2019-09-29', 'scores': [393.3615451388888, 898.5941840277776, 50.3125, 77.68229166666666, 57.21440972222224, -199.79427083333331, -714.8580729166667, 1.006510416666682, 309.720486111111, -964.6432291666666, 39.794704861111086, -18.34765625, 135.62847222222229, 383.1714409722223]}, {'feature_name': 'dynamic_feature_3', 'timestamp': '2019-09-30', 'scores': [-102.5833333333333, 286.36328125, 289.5625, -81.3020833333333, -276.7673611111111, 152.9118923611111, -434.43359374999994, -569.9049479166665, -73.59852430555549, 204.19401041666669, -506.6206597222222, -361.25694444444446, -162.54600694444446, -334.98480902777777]}, {'feature_name': 'static_feature_1', 'scores': [4348.335069444444, 178.2630208333336, -593.8680555555555, 2590.751736111111, -1554.8046874999995, -481.7204861111111, -4342.171006944444, -3613.2100694444443, -3620.6788194444443, -3065.0138888888887, -2164.0104166666665, -1698.7569444444443, -6675.847222222221, -4492.855902777777]}, {'feature_name': 'static_feature_2', 'scores': [4750.529513888888, -2690.9505208333335, 666.8211805555554, 942.6345486111111, -2890.991319444445, 1856.3402777777778, -3079.7890625, 512.0260416666665, -4726.164930555557, 1346.7517361111113, 1109.7760416666665, -1836.017361111111, 699.326388888889, -2822.947916666666]}]}, {'item_id': 'interpol', 'offset': [91929.8984375, 84848.9296875, 97912.8515625, 102317.0703125, 108373.15625, 114059.59375, 118449.65625, 124800.84375, 123654.140625, 128443.4921875, 122308.78125, 132534.890625, 137879.625, 132699.40625], 'explanations': [{'feature_name': 'target_value', 'timestamp': '2020-04-05', 'scores': [-40545.79730902777, -37233.008246527774, -59912.4900173611, -62909.80512152778, -64111.51562499999, -70313.02039930556, -70088.81944444444, -74229.23177083333, -72707.79470486111, -76631.22656249999, -77799.84331597222, -78046.76215277778, -79384.7769097222, -79653.76128472222]}, {'feature_name': 'target_value', 'timestamp': '2020-04-06', 'scores': [58242.242621527774, 51188.133680555555, 59297.79687499999, 45593.7126736111, 47021.79253472222, 51444.68576388888, 52498.96006944444, 54393.691840277774, 55279.319444444445, 54094.69053819444, 53616.653211805555, 55696.08984375, 56330.68272569444, 55478.32595486111]}, {'feature_name': 'target_value', 'timestamp': '2020-04-07', 'scores': [66148.83680555555, 63360.203125, 58435.27951388888, 66921.890625, 55471.86545138888, 54883.02517361111, 55480.81510416666, 60610.26041666667, 58711.40798611111, 59112.07118055555, 59049.828125, 57673.87152777778, 57460.17361111111, 57002.28124999999]}, {'feature_name': 'target_value', 'timestamp': '2020-04-08', 'scores': [87816.79687499999, 72014.390625, 69970.8125, 71858.41319444444, 84122.69270833333, 61303.77256944444, 66319.83854166666, 63399.24652777778, 63665.118055555555, 60873.19791666666, 63928.05902777778, 59301.489583333336, 54533.03125, 57342.635416666664]}, {'feature_name': 'target_value', 'timestamp': '2020-04-09', 'scores': [82173.40972222222, 94146.56770833333, 79106.91840277777, 83828.85069444444, 77506.58506944445, 88785.64062499999, 69224.86805555555, 76247.171875, 67410.38888888889, 66700.96354166666, 63054.22048611112, 64513.21527777778, 58206.914930555555, 55946.26736111111]}, {'feature_name': 'target_value', 'timestamp': '2020-04-10', 'scores': [63660.993055555555, 84856.71875, 91667.86458333333, 96894.26041666666, 94812.01041666666, 90835.7673611111, 99513.9861111111, 74396.73611111111, 81327.38888888889, 73426.97222222222, 74660.80208333333, 61109.055555555555, 64132.64583333333, 65298.038194444445]}, {'feature_name': 'dynamic_feature_1', 'timestamp': '2020-04-05', 'scores': [154.97743055555563, 840.4752604166667, -259.25303819444457, -1835.5976562499998, -937.0737847222222, -742.7126736111112, -502.671875, 781.1844618055555, -2768.3302951388887, -779.1085069444443, -241.30121527777777, -313.4301215277777, 662.6093749999999, -1271.2838541666665]}, {'feature_name': 'dynamic_feature_1', 'timestamp': '2020-04-06', 'scores': [47.4457465277778, -2737.4153645833326, 545.282986111111, -102.69661458333333, 634.3381076388889, 838.046875, -1169.169704861111, -856.1297743055555, 151.0625000000001, 107.13020833333324, 361.7521701388889, -568.9240451388888, -451.29036458333326, 1022.1197916666665]}, {'feature_name': 'dynamic_feature_1', 'timestamp': '2020-04-07', 'scores': [-1390.349826388889, 4046.4904513888882, 138.7951388888889, 1708.1345486111109, 1380.671875, 3246.6189236111113, -397.3576388888888, 1169.4609374999998, 2425.9522569444443, 1916.0503472222222, 202.12760416666674, 621.5824652777778, 2935.5798611111104, -1569.6562499999998]}, {'feature_name': 'dynamic_feature_1', 'timestamp': '2020-04-08', 'scores': [1875.1579861111109, 525.5069444444443, 395.8385416666672, -816.0225694444447, -1282.3611111111109, -1539.4843750000002, -2321.8975694444443, -3152.8697916666665, -2430.0972222222226, -3535.262152777778, -4410.265624999999, -5786.567708333333, 3096.439236111111, -2366.0607638888887]}, {'feature_name': 'dynamic_feature_1', 'timestamp': '2020-04-09', 'scores': [7533.930555555554, 2445.4045138888887, 6719.130208333332, 1949.4756944444446, 9909.586805555557, 7813.246527777777, 3640.741319444444, 4286.277777777777, 702.7673611111113, 3900.765625, 5822.828125, 1629.0225694444443, 3113.598958333333, 8859.07986111111]}, {'feature_name': 'dynamic_feature_1', 'timestamp': '2020-04-10', 'scores': [-845.5069444444447, 639.7534722222222, -1290.9930555555543, -512.7048611111106, -2039.6944444444443, -4153.965277777777, -3046.5243055555557, 1880.534722222222, -3026.753472222222, 2225.3923611111113, 2368.0347222222217, 3259.319444444444, 3483.9166666666665, -2568.6909722222226]}, {'feature_name': 'dynamic_feature_1', 'timestamp': '2020-04-11', 'scores': [7086.642361111112, -2454.819444444444, 14473.180555555555, 1123.496527777778, 564.9722222222222, 3105.4270833333335, 2859.520833333334, 5069.368055555555, -1341.6805555555557, 5425.868055555555, -7820.413194444444, -1455.3194444444446, -1271.5486111111106, -1230.5659722222217]}, {'feature_name': 'dynamic_feature_1', 'timestamp': '2020-04-12', 'scores': [-553.5590277777776, 4768.364583333334, -568.5000000000003, 6817.690972222223, 7080.8125, 2450.902777777778, -8214.01388888889, -896.0416666666667, 4338.184027777777, -3621.822916666666, 312.60416666666686, -2334.892361111111, -4019.260416666667, -3349.204861111111]}, {'feature_name': 'dynamic_feature_1', 'timestamp': '2020-04-13', 'scores': [-2428.4583333333344, -3682.6666666666665, 4949.017361111111, 4963.444444444444, 4880.729166666667, -1530.2395833333335, 4025.756944444444, -2528.2118055555557, -993.9861111111109, 1370.5972222222217, 6371.788194444443, -4034.4131944444443, -3832.3923611111113, -2045.524305555556]}, {'feature_name': 'dynamic_feature_1', 'timestamp': '2020-04-14', 'scores': [5206.270833333333, -3772.8715277777774, 105.56944444444406, 4597.788194444443, 2213.5659722222217, -2946.5312499999995, -756.2222222222222, -2231.0104166666665, -166.31597222222217, 1296.6180555555557, -1971.4722222222217, -5816.795138888888, -187.88194444444468, -4423.857638888889]}, {'feature_name': 'dynamic_feature_1', 'timestamp': '2020-04-15', 'scores': [2916.1631944444443, 1793.4756944444448, -3324.298611111111, 1468.756944444444, 3848.3298611111113, -3883.763888888889, -671.6527777777778, -3584.9652777777774, 2291.7430555555557, 305.5034722222226, -6468.5381944444425, 1010.847222222222, -1688.979166666666, -2590.0312500000005]}, {'feature_name': 'dynamic_feature_1', 'timestamp': '2020-04-16', 'scores': [4150.371527777777, 3113.5763888888882, 1555.3402777777774, 2206.1319444444443, 2839.524305555556, 6099.059027777777, -2347.8402777777774, 1760.0833333333333, -2428.805555555555, -3316.944444444444, -1450.03125, 2707.340277777777, 372.42013888888846, -7697.868055555555]}, {'feature_name': 'dynamic_feature_1', 'timestamp': '2020-04-17', 'scores': [1723.2361111111109, -676.4583333333335, -3140.1249999999995, 4566.416666666667, -2480.3194444444443, 3153.163194444444, 6554.621527777777, 2099.9236111111113, 4590.760416666666, -280.1875, -8798.711805555555, 6188.9027777777765, -4561.281249999999, 2429.8784722222226]}, {'feature_name': 'dynamic_feature_1', 'timestamp': '2020-04-18', 'scores': [-5851.979166666666, 9018.149305555555, 2969.368055555556, 1733.3715277777778, 3547.934027777778, 3069.6874999999995, 5876.940972222221, 8250.545138888889, -5161.458333333332, 1234.0173611111109, 801.4861111111111, 3891.7083333333326, 2061.2951388888887, 792.0312499999999]}, {'feature_name': 'dynamic_feature_1', 'timestamp': '2020-04-19', 'scores': [-163.64930555555523, -3215.954861111111, 4277.305555555556, -3856.1423611111113, -4370.874999999999, 928.1006944444443, 1627.8194444444443, 1482.0486111111115, 7593.878472222222, 7383.288194444443, 2487.045138888889, 6403.434027777777, 1082.6215277777776, 5992.059027777777]}, {'feature_name': 'dynamic_feature_1', 'timestamp': '2020-04-20', 'scores': [4480.684027777777, 1713.767361111111, 3618.972222222221, -2465.8090277777774, -2218.4236111111113, -3575.947916666666, 1868.350694444445, 4240.065972222222, 3475.510416666666, 4085.6666666666674, 6267.0486111111095, -1744.8645833333335, 6185.836805555554, 1923.2604166666665]}, {'feature_name': 'dynamic_feature_1', 'timestamp': '2020-04-21', 'scores': [-6638.309027777777, -1696.53125, 6482.673611111112, 2135.2534722222217, 962.0173611111112, 1303.4062500000002, 893.0972222222224, 3260.364583333333, -459.48958333333337, 882.7500000000008, 6291.243055555555, -2510.9027777777774, -6338.100694444443, 1884.5624999999995]}, {'feature_name': 'dynamic_feature_1', 'timestamp': '2020-04-22', 'scores': [3892.774305555555, -594.552083333333, 7468.190972222223, 4432.819444444443, 1228.8854166666667, -4676.520833333334, 8217.65625, 3213.3506944444443, -28.229166666666515, 6086.836805555556, 4872.961805555556, 8397.243055555555, 6907.538194444444, 512.4548611111113]}, {'feature_name': 'dynamic_feature_1', 'timestamp': '2020-04-23', 'scores': [-6900.541666666666, -4686.795138888889, -4610.659722222222, 1461.3541666666663, -2887.09375, -4760.111111111111, -4762.055555555556, -8115.795138888889, 616.0347222222223, 6839.732638888887, -5397.583333333332, 114.67708333333343, 10470.149305555555, 2641.8819444444443]}, {'feature_name': 'dynamic_feature_1', 'timestamp': '2020-04-24', 'scores': [-5076.256944444443, -3176.0625, -2748.2291666666665, 3318.5451388888887, -1059.5277777777776, 1432.3784722222229, 661.7499999999998, -2969.302083333333, 2979.944444444444, -216.18055555555577, -2888.958333333334, 1364.9305555555554, 1775.8194444444446, 2917.7986111111113]}, {'feature_name': 'dynamic_feature_2', 'timestamp': '2020-04-05', 'scores': [-969.6510416666667, -1622.583767361111, -2193.4908854166665, 737.716579861111, 1378.8615451388887, 1435.1710069444446, 209.94227430555577, -776.954861111111, -1986.2682291666667, -1413.437934027778, -1371.0946180555557, -1787.0173611111109, -4106.425347222223, 654.0069444444445]}, {'feature_name': 'dynamic_feature_2', 'timestamp': '2020-04-06', 'scores': [259.0334201388889, -995.8932291666664, -560.7048611111113, 1128.3233506944448, -943.6501736111109, -1659.7274305555554, -2876.2330729166665, -1204.1879340277776, -509.84461805555554, -837.2057291666665, 23.431857638888914, -1199.1276041666665, -728.0876736111112, -607.5850694444443]}, {'feature_name': 'dynamic_feature_2', 'timestamp': '2020-04-07', 'scores': [1482.418402777778, 131.69010416666674, 1707.361111111111, -830.5564236111111, -54.33333333333337, 1487.060763888889, -34.604166666666686, -16.657986111111086, -1165.2144097222222, 2046.956597222222, 2292.0859375, 692.8914930555555, -1071.4262152777778, 2417.7890625]}, {'feature_name': 'dynamic_feature_2', 'timestamp': '2020-04-08', 'scores': [780.7274305555553, -516.1753472222222, 800.0677083333333, 1388.359375, -2065.1822916666665, 989.3975694444443, 713.2170138888887, -169.2048611111111, -544.776041666667, -503.2291666666662, -744.3437500000002, -1796.2690972222217, 1281.4774305555557, 3066.100694444445]}, {'feature_name': 'dynamic_feature_2', 'timestamp': '2020-04-09', 'scores': [393.40798611111154, 1323.4079861111109, -136.2482638888889, -2450.8836805555557, -646.2274305555557, -637.4288194444446, -1746.6736111111113, -5604.185763888888, 1326.6180555555554, -4348.010416666666, -4799.803819444444, -1163.5069444444448, -403.5902777777777, 7135.092013888889]}, {'feature_name': 'dynamic_feature_2', 'timestamp': '2020-04-10', 'scores': [2871.399305555555, 3332.2430555555557, 413.2777777777775, -2072.024305555555, 1824.7013888888891, -380.6875000000001, -650.0173611111117, -2698.663194444444, -2179.8263888888887, -10172.00347222222, -5044.732638888889, -3832.9444444444453, 204.88541666666697, -4844.145833333334]}, {'feature_name': 'dynamic_feature_2', 'timestamp': '2020-04-11', 'scores': [-705.6562499999995, 7390.701388888888, 3463.142361111111, 7223.993055555556, -103.11111111111124, 1746.5659722222222, 7583.197916666668, -533.5729166666665, 1180.9097222222222, 4270.913194444443, 6070.61111111111, 10149.45486111111, 4751.673611111111, -1503.2604166666663]}, {'feature_name': 'dynamic_feature_2', 'timestamp': '2020-04-12', 'scores': [-6033.305555555555, -6224.552083333332, 2532.3368055555557, 3374.1701388888882, -2129.232638888889, -9318.531249999998, 3121.6979166666656, 1624.8993055555554, -5494.680555555555, 758.989583333333, -245.41319444444457, -6277.291666666666, -7086.868055555555, 1736.2673611111106]}, {'feature_name': 'dynamic_feature_2', 'timestamp': '2020-04-13', 'scores': [4984.15625, 5031.930555555555, -997.9131944444443, -5813.333333333333, -3773.788194444444, 3945.0763888888887, 729.4131944444446, 1776.6874999999995, -6208.121527777777, 4587.673611111111, 2943.0868055555557, 2210.524305555555, 2604.701388888889, 134.70138888888914]}, {'feature_name': 'dynamic_feature_2', 'timestamp': '2020-04-14', 'scores': [-1619.0208333333333, -1732.940972222222, 3909.451388888888, 3225.1701388888882, -564.6666666666665, 5431.760416666667, 1363.5173611111113, 1469.5659722222226, 3385.666666666666, 904.1076388888878, 1805.3576388888878, -4295.197916666667, 4176.67361111111, -1814.9722222222226]}, {'feature_name': 'dynamic_feature_2', 'timestamp': '2020-04-15', 'scores': [-6805.170138888889, -1490.753472222222, -2527.8715277777774, -1731.0902777777778, -4948.923611111112, -3803.756944444444, -2462.25, 5072.0625, 2799.1979166666674, -106.12499999999989, -701.8611111111109, 3866.7638888888896, 2140.0243055555557, 4161.253472222222]}, {'feature_name': 'dynamic_feature_2', 'timestamp': '2020-04-16', 'scores': [-6524.777777777777, -3673.006944444444, -2799.7499999999995, -2007.4479166666667, -442.6076388888888, -3161.7604166666665, -2022.7986111111109, -1799.3090277777776, -2297.166666666667, -4819.506944444444, 1409.0034722222224, -2628.006944444444, -1445.4027777777774, 9250.079861111111]}, {'feature_name': 'dynamic_feature_2', 'timestamp': '2020-04-17', 'scores': [3039.937499999999, 1844.6006944444446, -2625.9583333333326, 854.5902777777777, 4635.687499999999, 1178.7743055555554, -5645.472222222221, 1923.5277777777774, -2478.854166666666, 3534.506944444444, 3352.638888888889, 324.11805555555543, 2502.340277777778, -6681.760416666666]}, {'feature_name': 'dynamic_feature_2', 'timestamp': '2020-04-18', 'scores': [3706.802083333333, -2140.2881944444443, 825.4826388888885, -2740.7499999999995, -4624.46875, -3093.2534722222217, -1009.4756944444443, -1326.2777777777778, 8008.072916666664, 3081.8437499999995, 3783.2673611111104, 4403.263888888889, 8528.163194444443, 6760.434027777777]}, {'feature_name': 'dynamic_feature_2', 'timestamp': '2020-04-19', 'scores': [-2066.142361111111, 292.1597222222224, -7997.197916666666, 4832.784722222222, 3211.0937500000005, -3018.6284722222217, -1545.3090277777776, 4855.666666666667, -1860.7708333333335, 22.20486111111154, 786.6909722222217, -4032.1805555555557, -5221.520833333334, -2979.4861111111104]}, {'feature_name': 'dynamic_feature_2', 'timestamp': '2020-04-20', 'scores': [1234.7118055555557, 2875.4999999999995, -1495.8055555555552, 2540.8298611111113, 1388.854166666666, -1616.5729166666667, 722.791666666667, -3947.78125, -6520.569444444443, -8493.055555555557, 1776.375, -5172.795138888889, -6711.586805555555, 3953.28125]}, {'feature_name': 'dynamic_feature_2', 'timestamp': '2020-04-21', 'scores': [-3989.208333333333, 55.87500000000023, -33.46874999999994, -1431.0868055555547, 512.9444444444443, 3117.246527777778, -4079.78125, -5873.229166666665, -1504.8541666666667, 2695.496527777777, -1809.7881944444441, 4745.541666666666, 4895.083333333334, 2228.107638888889]}, {'feature_name': 'dynamic_feature_2', 'timestamp': '2020-04-22', 'scores': [-552.5729166666667, -2694.2361111111113, -1269.75, -4.534722222221717, -6587.541666666666, 2794.2951388888887, -4791.854166666666, -5447.104166666666, -427.8437500000001, -312.27083333333394, 4460.322916666666, -415.2326388888886, -4332.756944444444, 1577.9270833333335]}, {'feature_name': 'dynamic_feature_2', 'timestamp': '2020-04-23', 'scores': [203.7395833333332, 3038.0590277777774, -1342.340277777778, 4831.760416666666, 5937.746527777777, 4141.451388888889, -1031.958333333333, 7042.041666666666, 3451.552083333334, -2035.2951388888885, 2059.385416666667, -562.4687499999991, -4920.444444444444, 4572.829861111111]}, {'feature_name': 'dynamic_feature_2', 'timestamp': '2020-04-24', 'scores': [-1723.7395833333333, 6193.100694444444, 5093.875, -3343.729166666666, 2596.46875, -6271.496527777777, 1746.6284722222222, -3323.5972222222226, 4177.201388888889, -3397.7326388888887, 7307.659722222223, -3015.2569444444443, 3294.072916666667, 884.6979166666664]}, {'feature_name': 'dynamic_feature_3', 'timestamp': '2020-04-05', 'scores': [-2446.3203125, 1020.9973958333333, 2219.2921006944443, 991.5538194444445, -875.0407986111112, 169.0664062499999, 1109.4127604166665, 233.37065972222217, 1715.54296875, 1359.6540798611109, 1094.0672743055557, 1701.9713541666665, 1144.0889756944443, 2299.128472222222]}, {'feature_name': 'dynamic_feature_3', 'timestamp': '2020-04-06', 'scores': [-633.1397569444443, 132.17708333333331, -219.71180555555543, 246.41970486111117, -950.1362847222223, -1042.4019097222226, 1162.4366319444443, 2554.9361979166665, 507.93272569444434, 2168.584635416666, 132.86154513888897, 198.69487847222217, 471.68967013888874, 36.053385416666686]}, {'feature_name': 'dynamic_feature_3', 'timestamp': '2020-04-07', 'scores': [-1326.7274305555559, -1194.3098958333333, 1041.1866319444443, -693.5364583333333, -907.1345486111109, -2122.5512152777774, 1609.2526041666667, -2063.522569444445, -1162.1788194444443, -1023.5694444444442, -98.84982638888913, 760.2057291666666, -1865.223958333333, -260.0868055555556]}, {'feature_name': 'dynamic_feature_3', 'timestamp': '2020-04-08', 'scores': [144.0069444444444, -1953.1597222222226, 2927.9097222222226, 3601.2222222222217, -752.1579861111112, 655.8020833333335, -530.3368055555559, 2182.467013888889, 1149.7760416666667, 3437.9045138888887, 1038.8784722222222, 4190.345486111111, 1579.5277777777774, -314.5954861111113]}, {'feature_name': 'dynamic_feature_3', 'timestamp': '2020-04-09', 'scores': [-4595.54861111111, 279.9826388888887, -125.06944444444446, -952.9357638888889, -2201.5659722222217, -5105.866319444443, 4360.249999999999, -2870.3819444444443, -1443.7326388888885, 3175.1892361111104, 1689.4079861111109, 3010.039930555555, 844.1961805555553, -3463.8784722222217]}, {'feature_name': 'dynamic_feature_3', 'timestamp': '2020-04-10', 'scores': [2581.961805555555, 2373.0659722222226, 6187.23611111111, 5567.437499999998, -1713.243055555556, 4489.888888888889, -2678.0972222222217, 1435.4965277777776, 912.5208333333335, 800.8819444444446, 1974.5243055555557, 2346.211805555555, -909.2916666666667, 691.2951388888887]}, {'feature_name': 'dynamic_feature_3', 'timestamp': '2020-04-11', 'scores': [3083.958333333333, 3700.7638888888887, -5238.954861111111, -4232.003472222222, -206.57291666666663, -298.10069444444406, -4473.777777777777, -107.91319444444434, -2306.1249999999995, -7033.75, -3019.8923611111104, 2038.4548611111106, -848.8125, -388.26736111111086]}, {'feature_name': 'dynamic_feature_3', 'timestamp': '2020-04-12', 'scores': [1320.8993055555557, 5106.284722222222, -2591.2777777777787, 1129.2291666666663, 1309.5451388888887, 2490.892361111111, 1783.409722222222, 3382.166666666666, 7963.263888888888, 1604.2638888888887, 1058.885416666667, 2034.3090277777778, 2822.993055555555, 4833.739583333333]}, {'feature_name': 'dynamic_feature_3', 'timestamp': '2020-04-13', 'scores': [-2194.972222222222, 3110.5486111111104, 8783.40625, -4913.934027777778, 5970.552083333333, 6496.704861111111, 89.84375000000045, 2995.572916666667, 7201.496527777777, 187.3263888888887, -7519.2465277777765, 7955.312499999998, 4388.965277777777, 6539.7465277777765]}, {'feature_name': 'dynamic_feature_3', 'timestamp': '2020-04-14', 'scores': [-5229.499999999999, -1818.4965277777783, -5347.701388888888, 7840.413194444444, 4559.475694444444, -1327.2499999999993, -832.0034722222226, 5453.239583333332, -667.1076388888895, -2889.9097222222217, -271.5868055555552, 6262.11111111111, -2382.579861111111, -1957.4583333333335]}, {'feature_name': 'dynamic_feature_3', 'timestamp': '2020-04-15', 'scores': [2244.71875, 3203.3888888888887, 7535.9375, -6193.739583333333, 9340.788194444443, 15384.395833333334, 12703.295138888887, 256.31944444444366, 1735.8923611111109, 2371.4826388888887, 6959.579861111111, -5486.684027777777, 5411.552083333332, 876.7048611111107]}, {'feature_name': 'dynamic_feature_3', 'timestamp': '2020-04-16', 'scores': [3131.5347222222217, -815.4375, -488.3263888888887, -4239.743055555555, -3533.4375, 5521.267361111111, 5725.996527777777, 3766.3125, 6237.694444444445, 10891.930555555555, 3558.6527777777774, -658.0868055555555, 493.13888888888846, 2674.239583333333]}, {'feature_name': 'dynamic_feature_3', 'timestamp': '2020-04-17', 'scores': [1381.6215277777774, -2548.611111111111, 5365.614583333334, 1475.4409722222224, 180.98958333333314, -1959.0902777777778, 6626.756944444445, -9.513888888888914, 3986.9965277777765, 2895.2048611111104, 5652.916666666666, -1379.0972222222226, -697.8680555555557, 5364.666666666666]}, {'feature_name': 'dynamic_feature_3', 'timestamp': '2020-04-18', 'scores': [-1437.145833333333, 1263.9965277777774, -3445.2708333333335, -573.1423611111111, -2380.4340277777774, -6464.552083333332, -732.4999999999995, 288.74652777777743, -1622.7951388888882, -7890.659722222223, 591.7638888888885, -2604.552083333333, -1072.8437500000005, -4970.770833333333]}, {'feature_name': 'dynamic_feature_3', 'timestamp': '2020-04-19', 'scores': [1058.1562499999998, -2887.885416666667, 4696.527777777778, -873.3645833333333, -2266.0486111111113, 8194.774305555555, -1440.2638888888891, -1116.0902777777774, 7831.430555555555, 5333.996527777777, 6121.767361111111, -368.14583333333326, 2547.8576388888887, -1774.3645833333333]}, {'feature_name': 'dynamic_feature_3', 'timestamp': '2020-04-20', 'scores': [-1005.7569444444439, -2129.854166666667, -1749.4270833333333, -2122.7048611111118, -562.4652777777777, 3935.180555555555, -764.4618055555554, -1900.2430555555554, 2859.7152777777774, 11392.482638888889, -5864.375, 5050.079861111111, -1162.7152777777774, -7750.0]}, {'feature_name': 'dynamic_feature_3', 'timestamp': '2020-04-21', 'scores': [4235.944444444444, -690.4444444444443, -3295.923611111111, -274.71875, 2795.4409722222217, -3643.302083333334, 997.722222222222, 5897.361111111111, -4891.760416666666, -3383.2743055555557, 2049.027777777778, 4821.25, 2750.1076388888887, -2718.6041666666665]}, {'feature_name': 'dynamic_feature_3', 'timestamp': '2020-04-22', 'scores': [5110.847222222222, 4391.836805555556, -4947.659722222222, -2824.9062500000005, 2362.402777777778, 4054.8090277777774, 2302.8784722222217, 1984.9930555555566, 2904.659722222222, -6273.854166666667, -3424.472222222222, 3191.2951388888887, 1891.479166666666, 565.6249999999998]}, {'feature_name': 'dynamic_feature_3', 'timestamp': '2020-04-23', 'scores': [5589.75, -659.6909722222221, -2688.3159722222217, -6188.909722222222, -486.5833333333337, -780.3888888888889, -1484.5937499999995, -2551.6354166666665, -6088.840277777777, -4780.975694444444, -1691.979166666667, 2130.46875, 8652.399305555555, 98.42013888888869]}, {'feature_name': 'dynamic_feature_3', 'timestamp': '2020-04-24', 'scores': [4832.447916666667, -3997.4687499999995, 2135.6562499999995, -2637.9652777777774, 1801.0277777777778, 7210.475694444443, 703.4444444444441, 4300.298611111111, 2960.763888888888, 4923.440972222222, -1128.7916666666667, 5122.809027777777, -2189.7777777777774, 4964.114583333333]}, {'feature_name': 'static_feature_1', 'scores': [-829.46875, 5943.912326388889, -1830.900173611111, 2456.610243055555, 1765.1041666666667, 1527.643229166667, 1446.9557291666667, 385.1597222222222, 2902.6362847222217, 2119.3107638888887, 7006.042534722222, 1286.2300347222224, -2180.4991319444443, -132.83333333333323]}, {'feature_name': 'static_feature_2', 'scores': [1169.8828125, 1921.3177083333335, 3157.2552083333335, 794.6979166666666, 106.62413194444446, 1089.7760416666665, -415.2977430555556, 761.4053819444446, 2475.125868055555, 429.1614583333332, 3770.8064236111113, 110.89409722222223, 1803.0633680555557, 2586.899305555555]}]}]))</script>"
      ],
      "text/plain": [
       "<IPython.core.display.HTML object>"
      ]
     },
     "metadata": {},
     "output_type": "display_data"
    }
   ],
   "source": [
    "with open(\"./results.jsonl\", \"r\") as results_file:\n",
    "    results_lines = results_file.readlines()\n",
    "    explainability_results = [json.loads(jsonline) for jsonline in results_lines]\n",
    "    mercury.JSON(explainability_results, level=5)\n",
    "    # results_printer = pprint.PrettyPrinter(width = 200, depth = 5, compact = False)\n",
    "    # results_printer.pprint(explainability_results)"
   ]
  },
  {
   "cell_type": "markdown",
   "id": "c4b30c39-44bb-4851-abcf-3e734020d79a",
   "metadata": {},
   "source": [
    "## Clean Up\n",
    "\n",
    "Remove downloaded/installed files and deployed resources as necessary."
   ]
  },
  {
   "cell_type": "code",
   "execution_count": 26,
   "id": "d79f242f",
   "metadata": {},
   "outputs": [
    {
     "data": {
      "text/plain": [
       "{'ResponseMetadata': {'RequestId': '1408e236-27a2-4e5f-916f-b80c51e1d522',\n",
       "  'HTTPStatusCode': 200,\n",
       "  'HTTPHeaders': {'x-amzn-requestid': '1408e236-27a2-4e5f-916f-b80c51e1d522',\n",
       "   'content-type': 'application/x-amz-json-1.1',\n",
       "   'date': 'Tue, 09 Apr 2024 18:16:35 GMT',\n",
       "   'content-length': '0'},\n",
       "  'RetryAttempts': 0}}"
      ]
     },
     "execution_count": 26,
     "metadata": {},
     "output_type": "execute_result"
    }
   ],
   "source": [
    "# remove the model, endpoint_config and endpoint from sagemaker\n",
    "boto3.client(\"sagemaker\").delete_model(ModelName=endpoint_name)\n",
    "boto3.client(\"sagemaker\").delete_endpoint_config(EndpointConfigName=endpoint_name)\n",
    "boto3.client(\"sagemaker\").delete_endpoint(EndpointName=endpoint_name)"
   ]
  },
  {
   "cell_type": "code",
   "execution_count": 27,
   "id": "aadd9bf1-acf7-4273-82f6-d6d475e464b6",
   "metadata": {
    "tags": []
   },
   "outputs": [],
   "source": [
    "# remove the results and analysis config files\n",
    "# !rm -r ./sagemaker-python-sdk -f\n",
    "# !rm analysis_config.json\n",
    "# !rm results.jsonl"
   ]
  },
  {
   "cell_type": "markdown",
   "id": "9fea1b15",
   "metadata": {},
   "source": [
    "## Notebook CI Test Results\n",
    "\n",
    "This notebook was tested in multiple regions. The test results are as follows, except for us-west-2 which is shown at the top of the notebook.\n",
    "\n",
    "![This us-east-1 badge failed to load. Check your device's internet connectivity, otherwise the service is currently unavailable](https://prod.us-west-2.tcx-beacon.docs.aws.dev/sagemaker-nb/us-east-1/sagemaker-clarify|time_series_deepar|time_series_deepar.ipynb)\n",
    "\n",
    "![This us-east-2 badge failed to load. Check your device's internet connectivity, otherwise the service is currently unavailable](https://prod.us-west-2.tcx-beacon.docs.aws.dev/sagemaker-nb/us-east-2/sagemaker-clarify|time_series_deepar|time_series_deepar.ipynb)\n",
    "\n",
    "![This us-west-1 badge failed to load. Check your device's internet connectivity, otherwise the service is currently unavailable](https://prod.us-west-2.tcx-beacon.docs.aws.dev/sagemaker-nb/us-west-1/sagemaker-clarify|time_series_deepar|time_series_deepar.ipynb)\n",
    "\n",
    "![This ca-central-1 badge failed to load. Check your device's internet connectivity, otherwise the service is currently unavailable](https://prod.us-west-2.tcx-beacon.docs.aws.dev/sagemaker-nb/ca-central-1/sagemaker-clarify|time_series_deepar|time_series_deepar.ipynb)\n",
    "\n",
    "![This sa-east-1 badge failed to load. Check your device's internet connectivity, otherwise the service is currently unavailable](https://prod.us-west-2.tcx-beacon.docs.aws.dev/sagemaker-nb/sa-east-1/sagemaker-clarify|time_series_deepar|time_series_deepar.ipynb)\n",
    "\n",
    "![This eu-west-1 badge failed to load. Check your device's internet connectivity, otherwise the service is currently unavailable](https://prod.us-west-2.tcx-beacon.docs.aws.dev/sagemaker-nb/eu-west-1/sagemaker-clarify|time_series_deepar|time_series_deepar.ipynb)\n",
    "\n",
    "![This eu-west-2 badge failed to load. Check your device's internet connectivity, otherwise the service is currently unavailable](https://prod.us-west-2.tcx-beacon.docs.aws.dev/sagemaker-nb/eu-west-2/sagemaker-clarify|time_series_deepar|time_series_deepar.ipynb)\n",
    "\n",
    "![This eu-west-3 badge failed to load. Check your device's internet connectivity, otherwise the service is currently unavailable](https://prod.us-west-2.tcx-beacon.docs.aws.dev/sagemaker-nb/eu-west-3/sagemaker-clarify|time_series_deepar|time_series_deepar.ipynb)\n",
    "\n",
    "![This eu-central-1 badge failed to load. Check your device's internet connectivity, otherwise the service is currently unavailable](https://prod.us-west-2.tcx-beacon.docs.aws.dev/sagemaker-nb/eu-central-1/sagemaker-clarify|time_series_deepar|time_series_deepar.ipynb)\n",
    "\n",
    "![This eu-north-1 badge failed to load. Check your device's internet connectivity, otherwise the service is currently unavailable](https://prod.us-west-2.tcx-beacon.docs.aws.dev/sagemaker-nb/eu-north-1/sagemaker-clarify|time_series_deepar|time_series_deepar.ipynb)\n",
    "\n",
    "![This ap-southeast-1 badge failed to load. Check your device's internet connectivity, otherwise the service is currently unavailable](https://prod.us-west-2.tcx-beacon.docs.aws.dev/sagemaker-nb/ap-southeast-1/sagemaker-clarify|time_series_deepar|time_series_deepar.ipynb)\n",
    "\n",
    "![This ap-southeast-2 badge failed to load. Check your device's internet connectivity, otherwise the service is currently unavailable](https://prod.us-west-2.tcx-beacon.docs.aws.dev/sagemaker-nb/ap-southeast-2/sagemaker-clarify|time_series_deepar|time_series_deepar.ipynb)\n",
    "\n",
    "![This ap-northeast-1 badge failed to load. Check your device's internet connectivity, otherwise the service is currently unavailable](https://prod.us-west-2.tcx-beacon.docs.aws.dev/sagemaker-nb/ap-northeast-1/sagemaker-clarify|fairness_and_explainability|fairness_and_explainability.ipynb)\n",
    "\n",
    "![This ap-northeast-2 badge failed to load. Check your device's internet connectivity, otherwise the service is currently unavailable](https://prod.us-west-2.tcx-beacon.docs.aws.dev/sagemaker-nb/ap-northeast-2/sagemaker-clarify|fairness_and_explainability|fairness_and_explainability.ipynb)\n",
    "\n",
    "![This ap-south-1 badge failed to load. Check your device's internet connectivity, otherwise the service is currently unavailable](https://prod.us-west-2.tcx-beacon.docs.aws.dev/sagemaker-nb/ap-south-1/sagemaker-clarify|fairness_and_explainability|fairness_and_explainability.ipynb)\n"
   ]
  }
 ],
 "metadata": {
  "availableInstances": [
   {
    "_defaultOrder": 0,
    "_isFastLaunch": true,
    "category": "General purpose",
    "gpuNum": 0,
    "hideHardwareSpecs": false,
    "memoryGiB": 4,
    "name": "ml.t3.medium",
    "vcpuNum": 2
   },
   {
    "_defaultOrder": 1,
    "_isFastLaunch": false,
    "category": "General purpose",
    "gpuNum": 0,
    "hideHardwareSpecs": false,
    "memoryGiB": 8,
    "name": "ml.t3.large",
    "vcpuNum": 2
   },
   {
    "_defaultOrder": 2,
    "_isFastLaunch": false,
    "category": "General purpose",
    "gpuNum": 0,
    "hideHardwareSpecs": false,
    "memoryGiB": 16,
    "name": "ml.t3.xlarge",
    "vcpuNum": 4
   },
   {
    "_defaultOrder": 3,
    "_isFastLaunch": false,
    "category": "General purpose",
    "gpuNum": 0,
    "hideHardwareSpecs": false,
    "memoryGiB": 32,
    "name": "ml.t3.2xlarge",
    "vcpuNum": 8
   },
   {
    "_defaultOrder": 4,
    "_isFastLaunch": true,
    "category": "General purpose",
    "gpuNum": 0,
    "hideHardwareSpecs": false,
    "memoryGiB": 8,
    "name": "ml.m5.large",
    "vcpuNum": 2
   },
   {
    "_defaultOrder": 5,
    "_isFastLaunch": false,
    "category": "General purpose",
    "gpuNum": 0,
    "hideHardwareSpecs": false,
    "memoryGiB": 16,
    "name": "ml.m5.xlarge",
    "vcpuNum": 4
   },
   {
    "_defaultOrder": 6,
    "_isFastLaunch": false,
    "category": "General purpose",
    "gpuNum": 0,
    "hideHardwareSpecs": false,
    "memoryGiB": 32,
    "name": "ml.m5.2xlarge",
    "vcpuNum": 8
   },
   {
    "_defaultOrder": 7,
    "_isFastLaunch": false,
    "category": "General purpose",
    "gpuNum": 0,
    "hideHardwareSpecs": false,
    "memoryGiB": 64,
    "name": "ml.m5.4xlarge",
    "vcpuNum": 16
   },
   {
    "_defaultOrder": 8,
    "_isFastLaunch": false,
    "category": "General purpose",
    "gpuNum": 0,
    "hideHardwareSpecs": false,
    "memoryGiB": 128,
    "name": "ml.m5.8xlarge",
    "vcpuNum": 32
   },
   {
    "_defaultOrder": 9,
    "_isFastLaunch": false,
    "category": "General purpose",
    "gpuNum": 0,
    "hideHardwareSpecs": false,
    "memoryGiB": 192,
    "name": "ml.m5.12xlarge",
    "vcpuNum": 48
   },
   {
    "_defaultOrder": 10,
    "_isFastLaunch": false,
    "category": "General purpose",
    "gpuNum": 0,
    "hideHardwareSpecs": false,
    "memoryGiB": 256,
    "name": "ml.m5.16xlarge",
    "vcpuNum": 64
   },
   {
    "_defaultOrder": 11,
    "_isFastLaunch": false,
    "category": "General purpose",
    "gpuNum": 0,
    "hideHardwareSpecs": false,
    "memoryGiB": 384,
    "name": "ml.m5.24xlarge",
    "vcpuNum": 96
   },
   {
    "_defaultOrder": 12,
    "_isFastLaunch": false,
    "category": "General purpose",
    "gpuNum": 0,
    "hideHardwareSpecs": false,
    "memoryGiB": 8,
    "name": "ml.m5d.large",
    "vcpuNum": 2
   },
   {
    "_defaultOrder": 13,
    "_isFastLaunch": false,
    "category": "General purpose",
    "gpuNum": 0,
    "hideHardwareSpecs": false,
    "memoryGiB": 16,
    "name": "ml.m5d.xlarge",
    "vcpuNum": 4
   },
   {
    "_defaultOrder": 14,
    "_isFastLaunch": false,
    "category": "General purpose",
    "gpuNum": 0,
    "hideHardwareSpecs": false,
    "memoryGiB": 32,
    "name": "ml.m5d.2xlarge",
    "vcpuNum": 8
   },
   {
    "_defaultOrder": 15,
    "_isFastLaunch": false,
    "category": "General purpose",
    "gpuNum": 0,
    "hideHardwareSpecs": false,
    "memoryGiB": 64,
    "name": "ml.m5d.4xlarge",
    "vcpuNum": 16
   },
   {
    "_defaultOrder": 16,
    "_isFastLaunch": false,
    "category": "General purpose",
    "gpuNum": 0,
    "hideHardwareSpecs": false,
    "memoryGiB": 128,
    "name": "ml.m5d.8xlarge",
    "vcpuNum": 32
   },
   {
    "_defaultOrder": 17,
    "_isFastLaunch": false,
    "category": "General purpose",
    "gpuNum": 0,
    "hideHardwareSpecs": false,
    "memoryGiB": 192,
    "name": "ml.m5d.12xlarge",
    "vcpuNum": 48
   },
   {
    "_defaultOrder": 18,
    "_isFastLaunch": false,
    "category": "General purpose",
    "gpuNum": 0,
    "hideHardwareSpecs": false,
    "memoryGiB": 256,
    "name": "ml.m5d.16xlarge",
    "vcpuNum": 64
   },
   {
    "_defaultOrder": 19,
    "_isFastLaunch": false,
    "category": "General purpose",
    "gpuNum": 0,
    "hideHardwareSpecs": false,
    "memoryGiB": 384,
    "name": "ml.m5d.24xlarge",
    "vcpuNum": 96
   },
   {
    "_defaultOrder": 20,
    "_isFastLaunch": false,
    "category": "General purpose",
    "gpuNum": 0,
    "hideHardwareSpecs": true,
    "memoryGiB": 0,
    "name": "ml.geospatial.interactive",
    "supportedImageNames": [
     "sagemaker-geospatial-v1-0"
    ],
    "vcpuNum": 0
   },
   {
    "_defaultOrder": 21,
    "_isFastLaunch": true,
    "category": "Compute optimized",
    "gpuNum": 0,
    "hideHardwareSpecs": false,
    "memoryGiB": 4,
    "name": "ml.c5.large",
    "vcpuNum": 2
   },
   {
    "_defaultOrder": 22,
    "_isFastLaunch": false,
    "category": "Compute optimized",
    "gpuNum": 0,
    "hideHardwareSpecs": false,
    "memoryGiB": 8,
    "name": "ml.c5.xlarge",
    "vcpuNum": 4
   },
   {
    "_defaultOrder": 23,
    "_isFastLaunch": false,
    "category": "Compute optimized",
    "gpuNum": 0,
    "hideHardwareSpecs": false,
    "memoryGiB": 16,
    "name": "ml.c5.2xlarge",
    "vcpuNum": 8
   },
   {
    "_defaultOrder": 24,
    "_isFastLaunch": false,
    "category": "Compute optimized",
    "gpuNum": 0,
    "hideHardwareSpecs": false,
    "memoryGiB": 32,
    "name": "ml.c5.4xlarge",
    "vcpuNum": 16
   },
   {
    "_defaultOrder": 25,
    "_isFastLaunch": false,
    "category": "Compute optimized",
    "gpuNum": 0,
    "hideHardwareSpecs": false,
    "memoryGiB": 72,
    "name": "ml.c5.9xlarge",
    "vcpuNum": 36
   },
   {
    "_defaultOrder": 26,
    "_isFastLaunch": false,
    "category": "Compute optimized",
    "gpuNum": 0,
    "hideHardwareSpecs": false,
    "memoryGiB": 96,
    "name": "ml.c5.12xlarge",
    "vcpuNum": 48
   },
   {
    "_defaultOrder": 27,
    "_isFastLaunch": false,
    "category": "Compute optimized",
    "gpuNum": 0,
    "hideHardwareSpecs": false,
    "memoryGiB": 144,
    "name": "ml.c5.18xlarge",
    "vcpuNum": 72
   },
   {
    "_defaultOrder": 28,
    "_isFastLaunch": false,
    "category": "Compute optimized",
    "gpuNum": 0,
    "hideHardwareSpecs": false,
    "memoryGiB": 192,
    "name": "ml.c5.24xlarge",
    "vcpuNum": 96
   },
   {
    "_defaultOrder": 29,
    "_isFastLaunch": true,
    "category": "Accelerated computing",
    "gpuNum": 1,
    "hideHardwareSpecs": false,
    "memoryGiB": 16,
    "name": "ml.g4dn.xlarge",
    "vcpuNum": 4
   },
   {
    "_defaultOrder": 30,
    "_isFastLaunch": false,
    "category": "Accelerated computing",
    "gpuNum": 1,
    "hideHardwareSpecs": false,
    "memoryGiB": 32,
    "name": "ml.g4dn.2xlarge",
    "vcpuNum": 8
   },
   {
    "_defaultOrder": 31,
    "_isFastLaunch": false,
    "category": "Accelerated computing",
    "gpuNum": 1,
    "hideHardwareSpecs": false,
    "memoryGiB": 64,
    "name": "ml.g4dn.4xlarge",
    "vcpuNum": 16
   },
   {
    "_defaultOrder": 32,
    "_isFastLaunch": false,
    "category": "Accelerated computing",
    "gpuNum": 1,
    "hideHardwareSpecs": false,
    "memoryGiB": 128,
    "name": "ml.g4dn.8xlarge",
    "vcpuNum": 32
   },
   {
    "_defaultOrder": 33,
    "_isFastLaunch": false,
    "category": "Accelerated computing",
    "gpuNum": 4,
    "hideHardwareSpecs": false,
    "memoryGiB": 192,
    "name": "ml.g4dn.12xlarge",
    "vcpuNum": 48
   },
   {
    "_defaultOrder": 34,
    "_isFastLaunch": false,
    "category": "Accelerated computing",
    "gpuNum": 1,
    "hideHardwareSpecs": false,
    "memoryGiB": 256,
    "name": "ml.g4dn.16xlarge",
    "vcpuNum": 64
   },
   {
    "_defaultOrder": 35,
    "_isFastLaunch": false,
    "category": "Accelerated computing",
    "gpuNum": 1,
    "hideHardwareSpecs": false,
    "memoryGiB": 61,
    "name": "ml.p3.2xlarge",
    "vcpuNum": 8
   },
   {
    "_defaultOrder": 36,
    "_isFastLaunch": false,
    "category": "Accelerated computing",
    "gpuNum": 4,
    "hideHardwareSpecs": false,
    "memoryGiB": 244,
    "name": "ml.p3.8xlarge",
    "vcpuNum": 32
   },
   {
    "_defaultOrder": 37,
    "_isFastLaunch": false,
    "category": "Accelerated computing",
    "gpuNum": 8,
    "hideHardwareSpecs": false,
    "memoryGiB": 488,
    "name": "ml.p3.16xlarge",
    "vcpuNum": 64
   },
   {
    "_defaultOrder": 38,
    "_isFastLaunch": false,
    "category": "Accelerated computing",
    "gpuNum": 8,
    "hideHardwareSpecs": false,
    "memoryGiB": 768,
    "name": "ml.p3dn.24xlarge",
    "vcpuNum": 96
   },
   {
    "_defaultOrder": 39,
    "_isFastLaunch": false,
    "category": "Memory Optimized",
    "gpuNum": 0,
    "hideHardwareSpecs": false,
    "memoryGiB": 16,
    "name": "ml.r5.large",
    "vcpuNum": 2
   },
   {
    "_defaultOrder": 40,
    "_isFastLaunch": false,
    "category": "Memory Optimized",
    "gpuNum": 0,
    "hideHardwareSpecs": false,
    "memoryGiB": 32,
    "name": "ml.r5.xlarge",
    "vcpuNum": 4
   },
   {
    "_defaultOrder": 41,
    "_isFastLaunch": false,
    "category": "Memory Optimized",
    "gpuNum": 0,
    "hideHardwareSpecs": false,
    "memoryGiB": 64,
    "name": "ml.r5.2xlarge",
    "vcpuNum": 8
   },
   {
    "_defaultOrder": 42,
    "_isFastLaunch": false,
    "category": "Memory Optimized",
    "gpuNum": 0,
    "hideHardwareSpecs": false,
    "memoryGiB": 128,
    "name": "ml.r5.4xlarge",
    "vcpuNum": 16
   },
   {
    "_defaultOrder": 43,
    "_isFastLaunch": false,
    "category": "Memory Optimized",
    "gpuNum": 0,
    "hideHardwareSpecs": false,
    "memoryGiB": 256,
    "name": "ml.r5.8xlarge",
    "vcpuNum": 32
   },
   {
    "_defaultOrder": 44,
    "_isFastLaunch": false,
    "category": "Memory Optimized",
    "gpuNum": 0,
    "hideHardwareSpecs": false,
    "memoryGiB": 384,
    "name": "ml.r5.12xlarge",
    "vcpuNum": 48
   },
   {
    "_defaultOrder": 45,
    "_isFastLaunch": false,
    "category": "Memory Optimized",
    "gpuNum": 0,
    "hideHardwareSpecs": false,
    "memoryGiB": 512,
    "name": "ml.r5.16xlarge",
    "vcpuNum": 64
   },
   {
    "_defaultOrder": 46,
    "_isFastLaunch": false,
    "category": "Memory Optimized",
    "gpuNum": 0,
    "hideHardwareSpecs": false,
    "memoryGiB": 768,
    "name": "ml.r5.24xlarge",
    "vcpuNum": 96
   },
   {
    "_defaultOrder": 47,
    "_isFastLaunch": false,
    "category": "Accelerated computing",
    "gpuNum": 1,
    "hideHardwareSpecs": false,
    "memoryGiB": 16,
    "name": "ml.g5.xlarge",
    "vcpuNum": 4
   },
   {
    "_defaultOrder": 48,
    "_isFastLaunch": false,
    "category": "Accelerated computing",
    "gpuNum": 1,
    "hideHardwareSpecs": false,
    "memoryGiB": 32,
    "name": "ml.g5.2xlarge",
    "vcpuNum": 8
   },
   {
    "_defaultOrder": 49,
    "_isFastLaunch": false,
    "category": "Accelerated computing",
    "gpuNum": 1,
    "hideHardwareSpecs": false,
    "memoryGiB": 64,
    "name": "ml.g5.4xlarge",
    "vcpuNum": 16
   },
   {
    "_defaultOrder": 50,
    "_isFastLaunch": false,
    "category": "Accelerated computing",
    "gpuNum": 1,
    "hideHardwareSpecs": false,
    "memoryGiB": 128,
    "name": "ml.g5.8xlarge",
    "vcpuNum": 32
   },
   {
    "_defaultOrder": 51,
    "_isFastLaunch": false,
    "category": "Accelerated computing",
    "gpuNum": 1,
    "hideHardwareSpecs": false,
    "memoryGiB": 256,
    "name": "ml.g5.16xlarge",
    "vcpuNum": 64
   },
   {
    "_defaultOrder": 52,
    "_isFastLaunch": false,
    "category": "Accelerated computing",
    "gpuNum": 4,
    "hideHardwareSpecs": false,
    "memoryGiB": 192,
    "name": "ml.g5.12xlarge",
    "vcpuNum": 48
   },
   {
    "_defaultOrder": 53,
    "_isFastLaunch": false,
    "category": "Accelerated computing",
    "gpuNum": 4,
    "hideHardwareSpecs": false,
    "memoryGiB": 384,
    "name": "ml.g5.24xlarge",
    "vcpuNum": 96
   },
   {
    "_defaultOrder": 54,
    "_isFastLaunch": false,
    "category": "Accelerated computing",
    "gpuNum": 8,
    "hideHardwareSpecs": false,
    "memoryGiB": 768,
    "name": "ml.g5.48xlarge",
    "vcpuNum": 192
   },
   {
    "_defaultOrder": 55,
    "_isFastLaunch": false,
    "category": "Accelerated computing",
    "gpuNum": 8,
    "hideHardwareSpecs": false,
    "memoryGiB": 1152,
    "name": "ml.p4d.24xlarge",
    "vcpuNum": 96
   },
   {
    "_defaultOrder": 56,
    "_isFastLaunch": false,
    "category": "Accelerated computing",
    "gpuNum": 8,
    "hideHardwareSpecs": false,
    "memoryGiB": 1152,
    "name": "ml.p4de.24xlarge",
    "vcpuNum": 96
   },
   {
    "_defaultOrder": 57,
    "_isFastLaunch": false,
    "category": "Accelerated computing",
    "gpuNum": 0,
    "hideHardwareSpecs": false,
    "memoryGiB": 32,
    "name": "ml.trn1.2xlarge",
    "vcpuNum": 8
   },
   {
    "_defaultOrder": 58,
    "_isFastLaunch": false,
    "category": "Accelerated computing",
    "gpuNum": 0,
    "hideHardwareSpecs": false,
    "memoryGiB": 512,
    "name": "ml.trn1.32xlarge",
    "vcpuNum": 128
   },
   {
    "_defaultOrder": 59,
    "_isFastLaunch": false,
    "category": "Accelerated computing",
    "gpuNum": 0,
    "hideHardwareSpecs": false,
    "memoryGiB": 512,
    "name": "ml.trn1n.32xlarge",
    "vcpuNum": 128
   }
  ],
  "instance_type": "ml.t3.medium",
  "kernelspec": {
   "display_name": "Python 3 (ipykernel)",
   "language": "python",
   "name": "python3"
  },
  "language_info": {
   "codemirror_mode": {
    "name": "ipython",
    "version": 3
   },
   "file_extension": ".py",
   "mimetype": "text/x-python",
   "name": "python",
   "nbconvert_exporter": "python",
   "pygments_lexer": "ipython3",
   "version": "3.9.16"
  }
 },
 "nbformat": 4,
 "nbformat_minor": 5
}
