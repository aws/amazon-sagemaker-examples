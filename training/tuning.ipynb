{
 "cells": [
  {
   "cell_type": "markdown",
   "metadata": {},
   "source": [
    "# Tuning\n",
    "\n",
    "Examples on how to use hyperparameter tuning on SageMaker."
   ]
  },
  {
   "cell_type": "markdown",
   "metadata": {},
   "source": [
    "## Apache MXNet\n",
    "---\n",
    "\n",
    "* [Hyperparameter Tuning with Amazon SageMaker and MXNet](../hyperparameter_tuning/mxnet_mnist/hpo_mxnet_mnist.ipynb)\n",
    "* [Gluon CIFAR-10 Hyperparameter Tuning](../hyperparameter_tuning/mxnet_gluon_cifar10_random_search/hyperparameter_tuning_mxnet_gluon_cifar10_random_search.ipynb)\n",
    "\n"
   ]
  },
  {
   "cell_type": "markdown",
   "metadata": {},
   "source": [
    "## PyTorch\n",
    "---\n",
    "\n",
    "* [Hyperparameter Tuning using SageMaker PyTorch Container](../hyperparameter_tuning/pytorch_mnist/hpo_pytorch_mnist.ipynb)\n",
    "\n"
   ]
  },
  {
   "cell_type": "markdown",
   "metadata": {},
   "source": [
    "## R\n",
    "---\n",
    "\n",
    "* [Hyperparameter Tuning with Your Own Container in Amazon SageMaker](../hyperparameter_tuning/r_bring_your_own/tune_r_bring_your_own.ipynb)"
   ]
  },
  {
   "cell_type": "markdown",
   "metadata": {},
   "source": [
    "## TensorFlow\n",
    "---\n",
    "\n",
    "* [Hyperparameter Tuning using SageMaker Tensorflow Container](../hyperparameter_tuning/tensorflow_mnist/hpo_tensorflow_mnist.ipynb)\n",
    "* [Hyperparameter Tuning using Your Own Keras/Tensorflow Container](../hyperparameter_tuning/keras_bring_your_own/hpo_bring_your_own_keras_container.ipynb)\n",
    "\n"
   ]
  },
  {
   "cell_type": "markdown",
   "metadata": {},
   "source": [
    "## XGBoost\n",
    "---\n",
    "\n",
    "* [Direct Marketing with Amazon SageMaker XGBoost and Hyperparameter Tuning (SageMaker API)](../hyperparameter_tuning/xgboost_direct_marketing/hpo_xgboost_direct_marketing_sagemaker_APIs.ipynb)\n",
    "* [Direct Marketing with Amazon SageMaker XGBoost and Hyperparameter Tuning (SageMaker SDK)](../hyperparameter_tuning/xgboost_direct_marketing/hpo_xgboost_direct_marketing_sagemaker_python_sdk.ipynb)\n",
    "* [Random search and hyperparameter scaling with SageMaker XGBoost and Automatic Model Tuning](../hyperparameter_tuning/xgboost_random_log/hpo_xgboost_random_log.ipynb)\n",
    "\n"
   ]
  },
  {
   "cell_type": "markdown",
   "metadata": {},
   "source": [
    "## Use cases\n",
    "---\n",
    "\n",
    "### Analyze results\n",
    "\n",
    "* [Analyze Results of a Hyperparameter Tuning job](../hyperparameter_tuning/analyze_results/HPO_Analyze_TuningJob_Results.ipynb)\n",
    "\n",
    "### Early stopping\n",
    "\n",
    "* [Automatic Model Tuning : Automatic training job early stopping](../hyperparameter_tuning/image_classification_early_stopping/hpo_image_classification_early_stopping.ipynb)\n",
    "\n",
    "\n",
    "### Warm start\n",
    "\n",
    "* [Automatic Model Tuning : Warm Starting Tuning Jobs](../hyperparameter_tuning/image_classification_warmstart/hpo_image_classification_warmstart.ipynb)"
   ]
  }
 ],
 "metadata": {
  "kernelspec": {
   "display_name": "Python 3 (Data Science)",
   "language": "python",
   "name": "python3__SAGEMAKER_INTERNAL__arn:aws:sagemaker:us-west-2:236514542706:image/datascience-1.0"
  },
  "language_info": {
   "codemirror_mode": {
    "name": "ipython",
    "version": 3
   },
   "file_extension": ".py",
   "mimetype": "text/x-python",
   "name": "python",
   "nbconvert_exporter": "python",
   "pygments_lexer": "ipython3",
   "version": "3.7.10"
  }
 },
 "nbformat": 4,
 "nbformat_minor": 4
}
