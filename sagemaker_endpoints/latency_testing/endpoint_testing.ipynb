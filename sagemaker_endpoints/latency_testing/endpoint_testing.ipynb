{
 "cells": [
  {
   "cell_type": "markdown",
   "id": "9373624e-e98e-4647-adfe-909c807c88e6",
   "metadata": {},
   "source": [
    "# Comparing Inference Latency of Models Served with Flask and FastAPI on SageMaker Endpoints"
   ]
  },
  {
   "cell_type": "markdown",
   "id": "7fe11afb",
   "metadata": {},
   "source": [
    "---\n",
    "\n",
    "This notebook's CI test result for us-west-2 is as follows. CI test results in other regions can be found at the end of the notebook.\n",
    "\n",
    "![This us-west-2 badge failed to load. Check your device's internet connectivity, otherwise the service is currently unavailable](https://h75twx4l60.execute-api.us-west-2.amazonaws.com/sagemaker-nb/us-west-2/sagemaker_endpoints_latency_testing|endpoint_testing.ipynb)\n",
    "\n",
    "---"
   ]
  },
  {
   "cell_type": "markdown",
   "id": "c1ec9835-9d01-4752-a320-1a766e81bfe5",
   "metadata": {},
   "source": [
    "## Background\n",
    "\n",
    "This notebook will demontrate how the inference latency of the same model varies when one model is served with [Python Flask](https://flask.palletsprojects.com/en/2.3.x/), [FastAPI](https://fastapi.tiangolo.com/) and [SageMaker pre-built container](https://docs.aws.amazon.com/sagemaker/latest/dg/pre-built-containers-frameworks-deep-learning.html). In all cases, we use a [decision tree](https://scikit-learn.org/stable/modules/tree.html) algorithm from [scikit-learn](https://scikit-learn.org/stable/) package which is trained on the famous [iris dataset](https://en.wikipedia.org/wiki/Iris_flower_data_set). \n",
    "\n",
    "The scripts and this notebook can be used to load test and compare latency for any endpoint that you deploy on SageMaker. You can either test a [pre-built SageMaker container](https://docs.aws.amazon.com/sagemaker/latest/dg/docker-containers-prebuilt.html) or [bring your own container](https://docs.aws.amazon.com/sagemaker/latest/dg/model-monitor-byoc-containers.html). [This GitHub repo](https://github.com/aws/amazon-sagemaker-examples/tree/main/advanced_functionality/scikit_bring_your_own) provides a more detailed example on how to bring your own container to SageMaker"
   ]
  },
  {
   "cell_type": "markdown",
   "id": "a841ed5e-bd78-4972-92da-9d821b7da453",
   "metadata": {},
   "source": [
    "## Permissions\n",
    "\n",
    "Running this notebook requires `SageMakerFullAccess` permissions. Additionally you will need permissions to publish to Amazon ECR. You can achieve this by adding the managed policy `AmazonEC2ContainerRegistryFullAccess` to the role that you used to start your notebook instance. There's no need to restart your notebook instance when you do this, the new permissions will be available immediately."
   ]
  },
  {
   "cell_type": "markdown",
   "id": "3d86868f-fe43-44f4-a462-1bfe2f0e4234",
   "metadata": {},
   "source": [
    "## The experiment\n",
    "\n",
    "Load testing is carried out on `ml.c5d.18xlarge` SageMaker Notebook Instance type. It is recommended to use a large instance type for load testing in order to be able to provide the adeqate load on the Inference Endpoints"
   ]
  },
  {
   "cell_type": "markdown",
   "id": "36526e88",
   "metadata": {},
   "source": [
    "![Diagram](img/diagram.png)"
   ]
  },
  {
   "cell_type": "markdown",
   "id": "87961e89-de75-4db5-8e44-428d759dbcfd",
   "metadata": {},
   "source": [
    "# Part 1: Bundling and Pushing Models to Amazon ECR\n",
    "\n",
    "There is a script inside each model folder to build and push a model image to ECR. The script logs in to ECR, builds and tags an image and pushes the image to ECR"
   ]
  },
  {
   "cell_type": "code",
   "execution_count": 7,
   "id": "10f314fd-accb-4b0b-8bd6-9f40c2ac1f99",
   "metadata": {
    "tags": []
   },
   "outputs": [],
   "source": [
    "import concurrent.futures\n",
    "import subprocess\n",
    "import re\n",
    "import os\n",
    "import pandas as pd\n",
    "\n",
    "import boto3\n",
    "\n",
    "from sagemaker import get_execution_role\n",
    "import sagemaker as sage\n",
    "from sagemaker.serializers import CSVSerializer\n",
    "from sagemaker.sklearn.estimator import SKLearn"
   ]
  },
  {
   "cell_type": "code",
   "execution_count": 2,
   "id": "f2ff01fb",
   "metadata": {
    "tags": []
   },
   "outputs": [],
   "source": [
    "models = [\"flask-model\", \"fastapi-model\"]"
   ]
  },
  {
   "cell_type": "code",
   "execution_count": 3,
   "id": "592759d7-2fc4-4a2f-b12b-e803d92d9642",
   "metadata": {
    "tags": []
   },
   "outputs": [],
   "source": [
    "!chmod +x ./build_and_push.sh"
   ]
  },
  {
   "cell_type": "code",
   "execution_count": 4,
   "id": "07aa763f-e8c2-4ad7-bd50-b7991b8a4421",
   "metadata": {
    "tags": []
   },
   "outputs": [],
   "source": [
    "def build_and_push(model):\n",
    "    try:\n",
    "        result = subprocess.run([\"./build_and_push.sh\", f\"{model}\"],\n",
    "                                    capture_output=True, text=True)\n",
    "        if result.returncode == 0:\n",
    "            print(f\"Successfully built and pushed {model} to Amazon ECR\")\n",
    "        else:\n",
    "            print(f\"Error building and pushing {model}:\", result.stderr)\n",
    "    except Exception as e:\n",
    "        print(\"Exception:\", str(e))"
   ]
  },
  {
   "cell_type": "markdown",
   "id": "8e80afbf-4861-438e-8b19-51e196cce703",
   "metadata": {},
   "source": [
    "Below is the script for building and pushing our custom algorithm containers. It looks for an ECR repository in the account you're using and the current default region (if you're using a SageMaker notebook instance, this will be the region where the notebook instance was created). If the repository doesn't exist, the script will create it, build the image and push to the repository"
   ]
  },
  {
   "cell_type": "code",
   "execution_count": 6,
   "id": "832b273a-cd68-4549-bbcf-d6fba485a36b",
   "metadata": {
    "tags": []
   },
   "outputs": [
    {
     "name": "stdout",
     "output_type": "stream",
     "text": [
      "#!/usr/bin/env bash\n",
      "\n",
      "# This script shows how to build the Docker image and push it to ECR to be ready for use\n",
      "# by SageMaker.\n",
      "\n",
      "# The argument to this script is the image name. This will be used as the image on the local\n",
      "# machine and combined with the account and region to form the repository name for ECR.\n",
      "model=$1\n",
      "\n",
      "# parent_path=$( cd \"$(dirname \"${BASH_SOURCE[0]}\")\" ; pwd -P )\n",
      "\n",
      "# cd \"$parent_path\"\n",
      "\n",
      "\n",
      "if [ \"$model\" == \"\" ]\n",
      "then\n",
      "    echo \"Usage: $0 <model-name>\"\n",
      "    exit 1\n",
      "fi\n",
      "\n",
      "# Get the account number associated with the current IAM credentials\n",
      "account=$(aws sts get-caller-identity --query Account --output text)\n",
      "\n",
      "if [ $? -ne 0 ]\n",
      "then\n",
      "    exit 255\n",
      "fi\n",
      "\n",
      "\n",
      "# Get the region defined in the current configuration (default to us-west-2 if none defined)\n",
      "region=$(aws configure get region)\n",
      "region=${region:-us-west-2}\n",
      "\n",
      "\n",
      "fullname=\"${account}.dkr.ecr.${region}.amazonaws.com/${model}:latest\"\n",
      "\n",
      "# If the repository doesn't exist in ECR, create it.\n",
      "\n",
      "aws ecr describe-repositories --repository-names \"${model}\" > /dev/null 2>&1\n",
      "\n",
      "if [ $? -ne 0 ]\n",
      "then\n",
      "    aws ecr create-repository --repository-name \"${model}\" > /dev/null\n",
      "fi\n",
      "\n",
      "# Get the login command from ECR and execute it directly\n",
      "aws ecr get-login-password --region \"${region}\" | docker login --username AWS --password-stdin \"${account}\".dkr.ecr.\"${region}\".amazonaws.com\n",
      "\n",
      "# Build the docker image locally with the image name and then push it to ECR\n",
      "# with the full name.\n",
      "\n",
      "cd ${model}\n",
      "\n",
      "chmod +x decision_trees/train\n",
      "chmod +x decision_trees/serve\n",
      "\n",
      "docker build  -t ${model} .\n",
      "docker tag ${model} ${fullname}\n",
      "\n",
      "docker push ${fullname}\n"
     ]
    }
   ],
   "source": [
    "!cat ./build_and_push.sh"
   ]
  },
  {
   "cell_type": "markdown",
   "id": "0469ea96-eb94-4be6-8ef7-3a1a4d30a23b",
   "metadata": {},
   "source": [
    "The cell below executes the scrip and may take a few minutes to run (docker images are building here)"
   ]
  },
  {
   "cell_type": "code",
   "execution_count": 5,
   "id": "d3dd5e29-3796-48b3-98d4-1fbfe71e4f73",
   "metadata": {
    "tags": []
   },
   "outputs": [
    {
     "name": "stdout",
     "output_type": "stream",
     "text": [
      "Successfully built and pushed flask-model to Amazon ECR\n",
      "None\n",
      "Successfully built and pushed fastapi-model to Amazon ECR\n",
      "None\n"
     ]
    }
   ],
   "source": [
    "with concurrent.futures.ThreadPoolExecutor() as executor:\n",
    "    futures = []\n",
    "    for model in models:\n",
    "        futures.append(executor.submit(build_and_push, model=model))\n",
    "\n",
    "    for future in concurrent.futures.as_completed(futures):\n",
    "        print(future.result())"
   ]
  },
  {
   "cell_type": "markdown",
   "id": "3495029f",
   "metadata": {},
   "source": [
    "# Part 2: Training and Deploying models to SageMaker Inference Endpoints"
   ]
  },
  {
   "cell_type": "code",
   "execution_count": 8,
   "id": "b072c5ea",
   "metadata": {
    "tags": []
   },
   "outputs": [],
   "source": [
    "# S3 prefix\n",
    "prefix = \"sagemaker-endpoint-testing-example\"\n",
    "\n",
    "# Define IAM role\n",
    "role = get_execution_role()\n",
    "sess = sage.Session()\n",
    "account = sess.boto_session.client(\"sts\").get_caller_identity()[\"Account\"]\n",
    "region = sess.boto_session.region_name"
   ]
  },
  {
   "cell_type": "code",
   "execution_count": 9,
   "id": "1ae1ddc7",
   "metadata": {
    "tags": []
   },
   "outputs": [],
   "source": [
    "# Define data location\n",
    "WORK_DIRECTORY = \"data\"\n",
    "data_location = sess.upload_data(WORK_DIRECTORY, key_prefix=prefix)"
   ]
  },
  {
   "cell_type": "markdown",
   "id": "41828ef5",
   "metadata": {},
   "source": [
    "## Train and deploy models in paralled"
   ]
  },
  {
   "cell_type": "markdown",
   "id": "eed3aa06",
   "metadata": {},
   "source": [
    "### Define train and deploy code for custom containers"
   ]
  },
  {
   "cell_type": "code",
   "execution_count": 10,
   "id": "266f494e",
   "metadata": {
    "tags": []
   },
   "outputs": [],
   "source": [
    "def train_and_deploy_custom_container_models(endpoint):\n",
    "    image = f\"{account}.dkr.ecr.{region}.amazonaws.com/{endpoint}:latest\"\n",
    "    tree = sage.estimator.Estimator(\n",
    "        image,\n",
    "        role,\n",
    "        1,\n",
    "        \"ml.c4.2xlarge\",\n",
    "        output_path=f\"s3://{sess.default_bucket()}/output\",\n",
    "        sagemaker_session=sess,\n",
    "    )\n",
    "\n",
    "    tree.fit(data_location)\n",
    "\n",
    "    tree.deploy(1, \"ml.m4.xlarge\", serializer=CSVSerializer(),\n",
    "                endpoint_name=endpoint)"
   ]
  },
  {
   "cell_type": "markdown",
   "id": "88fd2ef2",
   "metadata": {},
   "source": [
    "### Define train and deploy code for SageMaker pre-built container"
   ]
  },
  {
   "cell_type": "code",
   "execution_count": 11,
   "id": "7fd8d376",
   "metadata": {
    "tags": []
   },
   "outputs": [
    {
     "name": "stdout",
     "output_type": "stream",
     "text": [
      "Writing script.py\n"
     ]
    }
   ],
   "source": [
    "%%writefile script.py\n",
    "\n",
    "#!/usr/bin/env python\n",
    "\n",
    "# A sample training component that trains a simple scikit-learn decision tree model.\n",
    "# This implementation works in File mode and makes no assumptions about the input file names.\n",
    "# Input is specified as CSV with a data point in each row and the labels in the first column.\n",
    "\n",
    "from __future__ import print_function\n",
    "\n",
    "import json\n",
    "import os\n",
    "import pickle\n",
    "import sys\n",
    "import traceback\n",
    "import pickle\n",
    "\n",
    "\n",
    "import pandas as pd\n",
    "from sklearn import tree\n",
    "\n",
    "# These are the paths to where SageMaker mounts interesting things in your container.\n",
    "\n",
    "prefix = '/opt/ml/'\n",
    "\n",
    "input_path = prefix + 'input/data'\n",
    "output_path = os.path.join(prefix, 'output')\n",
    "model_path = os.path.join(prefix, 'model')\n",
    "param_path = os.path.join(prefix, 'input/config/hyperparameters.json')\n",
    "\n",
    "# This algorithm has a single channel of input data called 'training'. Since we run in\n",
    "# File mode, the input files are copied to the directory specified here.\n",
    "channel_name='training'\n",
    "training_path = os.path.join(input_path, channel_name)\n",
    "\n",
    "\n",
    "def model_fn(model_dir):\n",
    "    #Load Model\n",
    "    with open(os.path.join(model_dir, \"decision-tree-model.pkl\"), \"rb\") as inp:\n",
    "        clf = pickle.load(inp)\n",
    "    return clf\n",
    "\n",
    "\n",
    "# The function to execute the training.\n",
    "def train():\n",
    "    print('Starting the training.')\n",
    "    try:\n",
    "        # Read in any hyperparameters that the user passed with the training job\n",
    "        with open(param_path, 'r') as tc:\n",
    "            trainingParams = json.load(tc)\n",
    "\n",
    "        # Take the set of files and read them all into a single pandas dataframe\n",
    "        input_files = [ os.path.join(training_path, file) for file in os.listdir(training_path) ]\n",
    "        if len(input_files) == 0:\n",
    "            raise ValueError(('There are no files in {}.\\n' +\n",
    "                              'This usually indicates that the channel ({}) was incorrectly specified,\\n' +\n",
    "                              'the data specification in S3 was incorrectly specified or the role specified\\n' +\n",
    "                              'does not have permission to access the data.').format(training_path, channel_name))\n",
    "        raw_data = [ pd.read_csv(file, header=None) for file in input_files if file.endswith(\".csv\")]\n",
    "        train_data = pd.concat(raw_data)\n",
    "\n",
    "        # labels are in the first column\n",
    "        train_y = train_data.iloc[:,0]\n",
    "        train_X = train_data.iloc[:,1:]\n",
    "\n",
    "        # Here we only support a single hyperparameter. Note that hyperparameters are always passed in as\n",
    "        # strings, so we need to do any necessary conversions.\n",
    "        max_leaf_nodes = trainingParams.get('max_leaf_nodes', None)\n",
    "        if max_leaf_nodes is not None:\n",
    "            max_leaf_nodes = int(max_leaf_nodes)\n",
    "\n",
    "        # Now use scikit-learn's decision tree classifier to train the model.\n",
    "        clf = tree.DecisionTreeClassifier(max_leaf_nodes=max_leaf_nodes)\n",
    "        clf = clf.fit(train_X, train_y)\n",
    "        \n",
    "        model_dir = os.environ['SM_MODEL_DIR']\n",
    "\n",
    "        # save the model\n",
    "        with open(os.path.join(model_dir, 'decision-tree-model.pkl'), 'wb') as out:\n",
    "            pickle.dump(clf, out)\n",
    "        print('Training complete.')\n",
    "    except Exception as e:\n",
    "        # Write out an error file. This will be returned as the failureReason in the\n",
    "        # DescribeTrainingJob result.\n",
    "        trc = traceback.format_exc()\n",
    "        with open(os.path.join(model_dir, 'failure'), 'w') as s:\n",
    "            s.write('Exception during training: ' + str(e) + '\\n' + trc)\n",
    "        # Printing this causes the exception to be in the training job logs, as well.\n",
    "        print('Exception during training: ' + str(e) + '\\n' + trc, file=sys.stderr)\n",
    "        # A non-zero exit code causes the training job to be marked as Failed.\n",
    "        sys.exit(255)\n",
    "\n",
    "if __name__ == '__main__':\n",
    "    train()\n",
    "\n",
    "    # A zero exit code causes the job to be marked a Succeeded.\n",
    "    sys.exit(0)"
   ]
  },
  {
   "cell_type": "code",
   "execution_count": 12,
   "id": "d434b720",
   "metadata": {
    "tags": []
   },
   "outputs": [],
   "source": [
    "def train_and_deploy_prebuilt_container_model(model_name):\n",
    "    FRAMEWORK_VERSION = \"0.23-1\"\n",
    "\n",
    "    sklearn_estimator = SKLearn(\n",
    "        entry_point=\"script.py\",\n",
    "        role=get_execution_role(),\n",
    "        instance_count=1,\n",
    "        instance_type=\"ml.c5.xlarge\",\n",
    "        framework_version=FRAMEWORK_VERSION,\n",
    "        base_job_name=\"sagemaker-scikit-tree\",\n",
    "    )\n",
    "\n",
    "    sklearn_estimator.fit(data_location)\n",
    "\n",
    "    sklearn_estimator.deploy(1, \"ml.m4.xlarge\", serializer=CSVSerializer(),\n",
    "                endpoint_name=model_name)"
   ]
  },
  {
   "cell_type": "markdown",
   "id": "141d7d97",
   "metadata": {},
   "source": [
    "## Kick off parallel training and deployment"
   ]
  },
  {
   "cell_type": "code",
   "execution_count": 13,
   "id": "ffa16e6a",
   "metadata": {
    "tags": []
   },
   "outputs": [],
   "source": [
    "pre_built_enpoint_name = 'sagemaker-scikit-pre-built'"
   ]
  },
  {
   "cell_type": "code",
   "execution_count": null,
   "id": "2fef4504",
   "metadata": {
    "tags": []
   },
   "outputs": [
    {
     "name": "stderr",
     "output_type": "stream",
     "text": [
      "NOTEBOOK_METADATA_FILE detected but failed to get valid domain and user from it.\n",
      "NOTEBOOK_METADATA_FILE detected but failed to get valid domain and user from it.\n",
      "INFO:sagemaker:Creating training-job with name: flask-model-2023-11-01-18-39-17-903\n",
      "INFO:sagemaker:Creating training-job with name: fastapi-model-2023-11-01-18-39-17-902\n",
      "WARNING:sagemaker.interactive_apps.base_interactive_app:NOTEBOOK_METADATA_FILE detected but failed to get valid domain and user from it.\n",
      "INFO:sagemaker:Creating training-job with name: sagemaker-scikit-tree-2023-11-01-18-39-18-137\n"
     ]
    },
    {
     "name": "stdout",
     "output_type": "stream",
     "text": [
      "Using provided s3_resource\n",
      "2023-11-01 18:39:18 Starting - Starting the training job2023-11-01 18:39:18 Starting - Starting the training job..2023-11-01 18:39:20 Starting - Starting the training job.......\n",
      "2023-11-01 18:39:42 Starting - Preparing the instances for training..\n",
      "2023-11-01 18:39:36 Starting - Preparing the instances for training.......\n",
      "2023-11-01 18:39:49 Starting - Preparing the instances for training.........\n",
      "2023-11-01 18:40:34 Downloading - Downloading input data\n",
      "2023-11-01 18:40:30 Downloading - Downloading input data..\n",
      "2023-11-01 18:40:24 Downloading - Downloading input data....\u001b[34mStarting the training.\u001b[0m\n",
      "\u001b[34mTraining complete.\u001b[0m\n",
      "\u001b[34mStarting the training.\u001b[0m\n",
      "\u001b[34mTraining complete.\u001b[0m\n",
      "\n",
      "2023-11-01 18:41:15 Training - Training image download completed. Training in progress.\n",
      "2023-11-01 18:41:15 Uploading - Uploading generated training model\n",
      "2023-11-01 18:41:15 Completed - Training job completed\n",
      "\n",
      "2023-11-01 18:41:11 Training - Training image download completed. Training in progress.\n",
      "2023-11-01 18:41:11 Uploading - Uploading generated training model\n",
      "2023-11-01 18:41:11 Completed - Training job completed\n",
      "\n",
      "2023-11-01 18:41:20 Training - Training image download completed. Training in progress.\n",
      "2023-11-01 18:41:20 Uploading - Uploading generated training model\n",
      "2023-11-01 18:41:20 Completed - Training job completed\n",
      "\u001b[34m2023-11-01 18:41:05,377 sagemaker-containers INFO     Imported framework sagemaker_sklearn_container.training\u001b[0m\n",
      "\u001b[34m2023-11-01 18:41:05,380 sagemaker-training-toolkit INFO     No GPUs detected (normal if no gpus installed)\u001b[0m\n",
      "\u001b[34m2023-11-01 18:41:05,418 sagemaker_sklearn_container.training INFO     Invoking user training script.\u001b[0m\n",
      "\u001b[34m2023-11-01 18:41:05,577 sagemaker-training-toolkit INFO     No GPUs detected (normal if no gpus installed)\u001b[0m\n",
      "\u001b[34m2023-11-01 18:41:05,588 sagemaker-training-toolkit INFO     No GPUs detected (normal if no gpus installed)\u001b[0m\n",
      "\u001b[34m2023-11-01 18:41:05,598 sagemaker-training-toolkit INFO     No GPUs detected (normal if no gpus installed)\u001b[0m\n",
      "\u001b[34m2023-11-01 18:41:05,606 sagemaker-training-toolkit INFO     Invoking user script\u001b[0m\n",
      "\u001b[34mTraining Env:\u001b[0m\n",
      "\u001b[34m{\n",
      "    \"additional_framework_parameters\": {},\n",
      "    \"channel_input_dirs\": {\n",
      "        \"training\": \"/opt/ml/input/data/training\"\n",
      "    },\n",
      "    \"current_host\": \"algo-1\",\n",
      "    \"framework_module\": \"sagemaker_sklearn_container.training:main\",\n",
      "    \"hosts\": [\n",
      "        \"algo-1\"\n",
      "    ],\n",
      "    \"hyperparameters\": {},\n",
      "    \"input_config_dir\": \"/opt/ml/input/config\",\n",
      "    \"input_data_config\": {\n",
      "        \"training\": {\n",
      "            \"TrainingInputMode\": \"File\",\n",
      "            \"S3DistributionType\": \"FullyReplicated\",\n",
      "            \"RecordWrapperType\": \"None\"\n",
      "        }\n",
      "    },\n",
      "    \"input_dir\": \"/opt/ml/input\",\n",
      "    \"is_master\": true,\n",
      "    \"job_name\": \"sagemaker-scikit-tree-2023-11-01-18-39-18-137\",\n",
      "    \"log_level\": 20,\n",
      "    \"master_hostname\": \"algo-1\",\n",
      "    \"model_dir\": \"/opt/ml/model\",\n",
      "    \"module_dir\": \"s3://sagemaker-eu-west-2-146237606022/sagemaker-scikit-tree-2023-11-01-18-39-18-137/source/sourcedir.tar.gz\",\n",
      "    \"module_name\": \"script\",\n",
      "    \"network_interface_name\": \"eth0\",\n",
      "    \"num_cpus\": 4,\n",
      "    \"num_gpus\": 0,\n",
      "    \"output_data_dir\": \"/opt/ml/output/data\",\n",
      "    \"output_dir\": \"/opt/ml/output\",\n",
      "    \"output_intermediate_dir\": \"/opt/ml/output/intermediate\",\n",
      "    \"resource_config\": {\n",
      "        \"current_host\": \"algo-1\",\n",
      "        \"current_instance_type\": \"ml.c5.xlarge\",\n",
      "        \"current_group_name\": \"homogeneousCluster\",\n",
      "        \"hosts\": [\n",
      "            \"algo-1\"\n",
      "        ],\n",
      "        \"instance_groups\": [\n",
      "            {\n",
      "                \"instance_group_name\": \"homogeneousCluster\",\n",
      "                \"instance_type\": \"ml.c5.xlarge\",\n",
      "                \"hosts\": [\n",
      "                    \"algo-1\"\n",
      "                ]\n",
      "            }\n",
      "        ],\n",
      "        \"network_interface_name\": \"eth0\"\n",
      "    },\n",
      "    \"user_entry_point\": \"script.py\"\u001b[0m\n",
      "\u001b[34m}\u001b[0m\n",
      "\u001b[34mEnvironment variables:\u001b[0m\n",
      "\u001b[34mSM_HOSTS=[\"algo-1\"]\u001b[0m\n",
      "\u001b[34mSM_NETWORK_INTERFACE_NAME=eth0\u001b[0m\n",
      "\u001b[34mSM_HPS={}\u001b[0m\n",
      "\u001b[34mSM_USER_ENTRY_POINT=script.py\u001b[0m\n",
      "\u001b[34mSM_FRAMEWORK_PARAMS={}\u001b[0m\n",
      "\u001b[34mSM_RESOURCE_CONFIG={\"current_group_name\":\"homogeneousCluster\",\"current_host\":\"algo-1\",\"current_instance_type\":\"ml.c5.xlarge\",\"hosts\":[\"algo-1\"],\"instance_groups\":[{\"hosts\":[\"algo-1\"],\"instance_group_name\":\"homogeneousCluster\",\"instance_type\":\"ml.c5.xlarge\"}],\"network_interface_name\":\"eth0\"}\u001b[0m\n",
      "\u001b[34mSM_INPUT_DATA_CONFIG={\"training\":{\"RecordWrapperType\":\"None\",\"S3DistributionType\":\"FullyReplicated\",\"TrainingInputMode\":\"File\"}}\u001b[0m\n",
      "\u001b[34mSM_OUTPUT_DATA_DIR=/opt/ml/output/data\u001b[0m\n",
      "\u001b[34mSM_CHANNELS=[\"training\"]\u001b[0m\n",
      "\u001b[34mSM_CURRENT_HOST=algo-1\u001b[0m\n",
      "\u001b[34mSM_MODULE_NAME=script\u001b[0m\n",
      "\u001b[34mSM_LOG_LEVEL=20\u001b[0m\n",
      "\u001b[34mSM_FRAMEWORK_MODULE=sagemaker_sklearn_container.training:main\u001b[0m\n",
      "\u001b[34mSM_INPUT_DIR=/opt/ml/input\u001b[0m\n",
      "\u001b[34mSM_INPUT_CONFIG_DIR=/opt/ml/input/config\u001b[0m\n",
      "\u001b[34mSM_OUTPUT_DIR=/opt/ml/output\u001b[0m\n",
      "\u001b[34mSM_NUM_CPUS=4\u001b[0m\n",
      "\u001b[34mSM_NUM_GPUS=0\u001b[0m\n",
      "\u001b[34mSM_MODEL_DIR=/opt/ml/model\u001b[0m\n",
      "\u001b[34mSM_MODULE_DIR=s3://sagemaker-eu-west-2-146237606022/sagemaker-scikit-tree-2023-11-01-18-39-18-137/source/sourcedir.tar.gz\u001b[0m\n",
      "\u001b[34mSM_TRAINING_ENV={\"additional_framework_parameters\":{},\"channel_input_dirs\":{\"training\":\"/opt/ml/input/data/training\"},\"current_host\":\"algo-1\",\"framework_module\":\"sagemaker_sklearn_container.training:main\",\"hosts\":[\"algo-1\"],\"hyperparameters\":{},\"input_config_dir\":\"/opt/ml/input/config\",\"input_data_config\":{\"training\":{\"RecordWrapperType\":\"None\",\"S3DistributionType\":\"FullyReplicated\",\"TrainingInputMode\":\"File\"}},\"input_dir\":\"/opt/ml/input\",\"is_master\":true,\"job_name\":\"sagemaker-scikit-tree-2023-11-01-18-39-18-137\",\"log_level\":20,\"master_hostname\":\"algo-1\",\"model_dir\":\"/opt/ml/model\",\"module_dir\":\"s3://sagemaker-eu-west-2-146237606022/sagemaker-scikit-tree-2023-11-01-18-39-18-137/source/sourcedir.tar.gz\",\"module_name\":\"script\",\"network_interface_name\":\"eth0\",\"num_cpus\":4,\"num_gpus\":0,\"output_data_dir\":\"/opt/ml/output/data\",\"output_dir\":\"/opt/ml/output\",\"output_intermediate_dir\":\"/opt/ml/output/intermediate\",\"resource_config\":{\"current_group_name\":\"homogeneousCluster\",\"current_host\":\"algo-1\",\"current_instance_type\":\"ml.c5.xlarge\",\"hosts\":[\"algo-1\"],\"instance_groups\":[{\"hosts\":[\"algo-1\"],\"instance_group_name\":\"homogeneousCluster\",\"instance_type\":\"ml.c5.xlarge\"}],\"network_interface_name\":\"eth0\"},\"user_entry_point\":\"script.py\"}\u001b[0m\n",
      "\u001b[34mSM_USER_ARGS=[]\u001b[0m\n",
      "\u001b[34mSM_OUTPUT_INTERMEDIATE_DIR=/opt/ml/output/intermediate\u001b[0m\n",
      "\u001b[34mSM_CHANNEL_TRAINING=/opt/ml/input/data/training\u001b[0m\n",
      "\u001b[34mPYTHONPATH=/opt/ml/code:/miniconda3/bin:/miniconda3/lib/python37.zip:/miniconda3/lib/python3.7:/miniconda3/lib/python3.7/lib-dynload:/miniconda3/lib/python3.7/site-packages\u001b[0m\n",
      "\u001b[34mInvoking script with the following command:\u001b[0m\n",
      "\u001b[34m/miniconda3/bin/python script.py\u001b[0m\n",
      "\u001b[34mStarting the training.\u001b[0m\n",
      "\u001b[34mTraining complete.\u001b[0m\n",
      "\u001b[34m2023-11-01 18:41:06,419 sagemaker-containers INFO     Reporting training SUCCESS\u001b[0m\n"
     ]
    },
    {
     "name": "stderr",
     "output_type": "stream",
     "text": [
      "INFO:sagemaker:Creating model with name: fastapi-model-2023-11-01-18-41-29-532\n",
      "INFO:sagemaker:Creating model with name: flask-model-2023-11-01-18-41-29-565\n"
     ]
    },
    {
     "name": "stdout",
     "output_type": "stream",
     "text": [
      "Training seconds: 42\n",
      "Billable seconds: 42\n",
      "Training seconds: 42\n",
      "Billable seconds: 42\n"
     ]
    },
    {
     "name": "stderr",
     "output_type": "stream",
     "text": [
      "INFO:sagemaker:Creating endpoint-config with name fastapi-model\n",
      "INFO:sagemaker:Creating endpoint-config with name flask-model\n",
      "INFO:sagemaker:Creating endpoint with name fastapi-model\n",
      "INFO:sagemaker:Creating endpoint with name flask-model\n",
      "INFO:sagemaker:Creating model with name: sagemaker-scikit-tree-2023-11-01-18-41-32-106\n"
     ]
    },
    {
     "name": "stdout",
     "output_type": "stream",
     "text": [
      "Training seconds: 56\n",
      "Billable seconds: 56\n"
     ]
    },
    {
     "name": "stderr",
     "output_type": "stream",
     "text": [
      "INFO:sagemaker:Creating endpoint-config with name sagemaker-scikit-pre-built\n",
      "INFO:sagemaker:Creating endpoint with name sagemaker-scikit-pre-built\n"
     ]
    }
   ],
   "source": [
    "with concurrent.futures.ThreadPoolExecutor() as executor:\n",
    "    futures = []\n",
    "    for model in models:\n",
    "        futures.append(executor.submit(train_and_deploy_custom_container_models, endpoint=model))\n",
    "\n",
    "    futures.append(executor.submit(train_and_deploy_prebuilt_container_model, model_name=pre_built_enpoint_name))\n",
    "\n",
    "    for future in concurrent.futures.as_completed(futures):\n",
    "        print(future.result())"
   ]
  },
  {
   "cell_type": "code",
   "execution_count": 21,
   "id": "7b34d7f8",
   "metadata": {
    "tags": []
   },
   "outputs": [],
   "source": [
    "models.append(pre_built_enpoint_name)"
   ]
  },
  {
   "cell_type": "markdown",
   "id": "d2ee4d3a-fc48-4a8d-b2b0-8a0bd95eaf83",
   "metadata": {},
   "source": [
    "# Part 3: Load Testing and Measuring Latency of Each Endpoint"
   ]
  },
  {
   "cell_type": "code",
   "execution_count": 22,
   "id": "4ec71076-79eb-48fc-a329-625ea9985cfa",
   "metadata": {
    "tags": []
   },
   "outputs": [
    {
     "name": "stdout",
     "output_type": "stream",
     "text": [
      "Requirement already satisfied: locust in /home/ec2-user/anaconda3/envs/python3/lib/python3.10/site-packages (2.18.1)\n",
      "Requirement already satisfied: gevent>=20.12.1 in /home/ec2-user/anaconda3/envs/python3/lib/python3.10/site-packages (from locust) (22.10.2)\n",
      "Requirement already satisfied: flask>=2.0.0 in /home/ec2-user/anaconda3/envs/python3/lib/python3.10/site-packages (from locust) (2.3.2)\n",
      "Requirement already satisfied: Werkzeug>=2.0.0 in /home/ec2-user/anaconda3/envs/python3/lib/python3.10/site-packages (from locust) (2.3.6)\n",
      "Requirement already satisfied: requests>=2.23.0 in /home/ec2-user/anaconda3/envs/python3/lib/python3.10/site-packages (from locust) (2.31.0)\n",
      "Requirement already satisfied: msgpack>=0.6.2 in /home/ec2-user/anaconda3/envs/python3/lib/python3.10/site-packages (from locust) (1.0.5)\n",
      "Requirement already satisfied: pyzmq!=23.0.0,>=22.2.1 in /home/ec2-user/anaconda3/envs/python3/lib/python3.10/site-packages (from locust) (25.1.0)\n",
      "Requirement already satisfied: geventhttpclient>=2.0.2 in /home/ec2-user/anaconda3/envs/python3/lib/python3.10/site-packages (from locust) (2.0.11)\n",
      "Requirement already satisfied: ConfigArgParse>=1.0 in /home/ec2-user/anaconda3/envs/python3/lib/python3.10/site-packages (from locust) (1.7)\n",
      "Requirement already satisfied: psutil>=5.6.7 in /home/ec2-user/anaconda3/envs/python3/lib/python3.10/site-packages (from locust) (5.9.5)\n",
      "Requirement already satisfied: Flask-BasicAuth>=0.2.0 in /home/ec2-user/anaconda3/envs/python3/lib/python3.10/site-packages (from locust) (0.2.0)\n",
      "Requirement already satisfied: Flask-Cors>=3.0.10 in /home/ec2-user/anaconda3/envs/python3/lib/python3.10/site-packages (from locust) (4.0.0)\n",
      "Requirement already satisfied: roundrobin>=0.0.2 in /home/ec2-user/anaconda3/envs/python3/lib/python3.10/site-packages (from locust) (0.0.4)\n",
      "Requirement already satisfied: Jinja2>=3.1.2 in /home/ec2-user/anaconda3/envs/python3/lib/python3.10/site-packages (from flask>=2.0.0->locust) (3.1.2)\n",
      "Requirement already satisfied: itsdangerous>=2.1.2 in /home/ec2-user/anaconda3/envs/python3/lib/python3.10/site-packages (from flask>=2.0.0->locust) (2.1.2)\n",
      "Requirement already satisfied: click>=8.1.3 in /home/ec2-user/anaconda3/envs/python3/lib/python3.10/site-packages (from flask>=2.0.0->locust) (8.1.6)\n",
      "Requirement already satisfied: blinker>=1.6.2 in /home/ec2-user/anaconda3/envs/python3/lib/python3.10/site-packages (from flask>=2.0.0->locust) (1.6.2)\n",
      "Requirement already satisfied: zope.event in /home/ec2-user/anaconda3/envs/python3/lib/python3.10/site-packages (from gevent>=20.12.1->locust) (5.0)\n",
      "Requirement already satisfied: zope.interface in /home/ec2-user/anaconda3/envs/python3/lib/python3.10/site-packages (from gevent>=20.12.1->locust) (6.0)\n",
      "Requirement already satisfied: setuptools in /home/ec2-user/anaconda3/envs/python3/lib/python3.10/site-packages (from gevent>=20.12.1->locust) (68.0.0)\n",
      "Requirement already satisfied: greenlet>=2.0.0 in /home/ec2-user/anaconda3/envs/python3/lib/python3.10/site-packages (from gevent>=20.12.1->locust) (2.0.2)\n",
      "Requirement already satisfied: certifi in /home/ec2-user/anaconda3/envs/python3/lib/python3.10/site-packages (from geventhttpclient>=2.0.2->locust) (2023.5.7)\n",
      "Requirement already satisfied: six in /home/ec2-user/anaconda3/envs/python3/lib/python3.10/site-packages (from geventhttpclient>=2.0.2->locust) (1.16.0)\n",
      "Requirement already satisfied: brotli in /home/ec2-user/anaconda3/envs/python3/lib/python3.10/site-packages (from geventhttpclient>=2.0.2->locust) (1.1.0)\n",
      "Requirement already satisfied: charset-normalizer<4,>=2 in /home/ec2-user/anaconda3/envs/python3/lib/python3.10/site-packages (from requests>=2.23.0->locust) (3.2.0)\n",
      "Requirement already satisfied: idna<4,>=2.5 in /home/ec2-user/anaconda3/envs/python3/lib/python3.10/site-packages (from requests>=2.23.0->locust) (3.4)\n",
      "Requirement already satisfied: urllib3<3,>=1.21.1 in /home/ec2-user/anaconda3/envs/python3/lib/python3.10/site-packages (from requests>=2.23.0->locust) (1.26.14)\n",
      "Requirement already satisfied: MarkupSafe>=2.1.1 in /home/ec2-user/anaconda3/envs/python3/lib/python3.10/site-packages (from Werkzeug>=2.0.0->locust) (2.1.3)\n",
      "Note: you may need to restart the kernel to use updated packages.\n"
     ]
    }
   ],
   "source": [
    "%pip install locust"
   ]
  },
  {
   "cell_type": "markdown",
   "id": "4f7ab561-4c23-42d1-9f04-0c049f13b416",
   "metadata": {},
   "source": [
    "## Launch"
   ]
  },
  {
   "cell_type": "markdown",
   "id": "bddd3e04",
   "metadata": {},
   "source": [
    "### Locust Configuration"
   ]
  },
  {
   "cell_type": "markdown",
   "id": "2ead84ee",
   "metadata": {},
   "source": [
    "In our experiment, Locust was configured to simulate the behaviour of 200 users, with each user represented by a worker. We ran 30 workers concurrently to generate realistic traffic levels. Each load test point was executed for a duration of 5 minutes, providing sufficient time to capture latency metrics under varying levels of load. "
   ]
  },
  {
   "cell_type": "code",
   "execution_count": 23,
   "id": "d95e6866",
   "metadata": {
    "tags": []
   },
   "outputs": [
    {
     "name": "stdout",
     "output_type": "stream",
     "text": [
      "#!/bin/bash\n",
      "\n",
      "#replace with your endpoint name in format https://<<endpoint-name>>\n",
      "export ENDPOINT_NAME=https://$1\n",
      "\n",
      "export REGION=eu-west-2\n",
      "export CONTENT_TYPE=text/csv\n",
      "# export PAYLOAD='{\"inputs\": \"I am super happy right now.\"}'\n",
      "export USERS=120\n",
      "export WORKERS=30\n",
      "export RUN_TIME=5mg\n",
      "export LOCUST_UI=false # Use Locust UI\n",
      "\n",
      "parent_path=$( cd \"$(dirname \"${BASH_SOURCE[0]}\")\" ; pwd -P )\n",
      "\n",
      "cd \"$parent_path\"\n",
      "\n",
      "#replace with the locust script that you are testing, this is the locust_script that will be used to make the InvokeEndpoint API calls. \n",
      "export SCRIPT=locust_script.py\n",
      "\n",
      "#make sure you are in a virtual environment\n",
      "#. ./venv/bin/activate\n",
      "\n",
      "if $LOCUST_UI ; then\n",
      "    locust -f $SCRIPT -H $ENDPOINT_NAME --master --expect-workers $WORKERS -u $USERS -t $RUN_TIME --csv results_$1 &\n",
      "else\n",
      "    locust -f $SCRIPT -H $ENDPOINT_NAME --master --expect-workers $WORKERS -u $USERS -t $RUN_TIME --csv results_$1 --headless &\n",
      "fi\n",
      "\n",
      "for (( c=1; c<=$WORKERS; c++ ))\n",
      "do \n",
      "    locust -f $SCRIPT -H $ENDPOINT_NAME --worker --master-host=localhost &\n",
      "done"
     ]
    }
   ],
   "source": [
    "!cat ./load-testing/run_locust.sh"
   ]
  },
  {
   "cell_type": "markdown",
   "id": "87809a8e",
   "metadata": {},
   "source": [
    "The locust script iteself is then cofigured to hit the SageMaker invoke endpoint API for each request thatis being made by locust"
   ]
  },
  {
   "cell_type": "code",
   "execution_count": 24,
   "id": "51aa7bc3",
   "metadata": {
    "tags": []
   },
   "outputs": [
    {
     "name": "stdout",
     "output_type": "stream",
     "text": [
      "import json\n",
      "import logging\n",
      "import os\n",
      "import time\n",
      "\n",
      "import boto3\n",
      "from botocore.config import Config\n",
      "from locust.contrib.fasthttp import FastHttpUser\n",
      "\n",
      "from locust import task, events\n",
      "\n",
      "region = os.environ[\"REGION\"]\n",
      "content_type = os.environ[\"CONTENT_TYPE\"]\n",
      "# payload = os.environ[\"PAYLOAD\"]\n",
      "\n",
      "with open(\"payload.csv\", 'r') as f:\n",
      "    payload = f.read()\n",
      "\n",
      "\n",
      "class BotoClient:\n",
      "    def __init__(self, host):\n",
      "        # Consider removing retry logic to get accurate picture of failure in locust\n",
      "        config = Config(\n",
      "            region_name=region, retries={\"max_attempts\": 0, \"mode\": \"standard\"}\n",
      "        )\n",
      "\n",
      "        self.sagemaker_client = boto3.client(\"sagemaker-runtime\", config=config)\n",
      "        self.endpoint_name = host.split(\"/\")[-1]\n",
      "        self.content_type = content_type\n",
      "        self.payload = payload\n",
      "\n",
      "    def send(self):\n",
      "\n",
      "        request_meta = {\n",
      "            \"request_type\": \"InvokeEndpoint\",\n",
      "            \"name\": \"SageMaker\",\n",
      "            \"start_time\": time.time(),\n",
      "            \"response_length\": 0,\n",
      "            \"response\": None,\n",
      "            \"context\": {},\n",
      "            \"exception\": None,\n",
      "        }\n",
      "        start_perf_counter = time.perf_counter()\n",
      "\n",
      "        try:\n",
      "            response = self.sagemaker_client.invoke_endpoint(\n",
      "                EndpointName=self.endpoint_name,\n",
      "                Body=str(self.payload),\n",
      "                ContentType=self.content_type,\n",
      "            )\n",
      "            logging.info(response[\"Body\"].read())\n",
      "        except Exception as e:\n",
      "            request_meta[\"exception\"] = e\n",
      "\n",
      "        request_meta[\"response_time\"] = (\n",
      "            time.perf_counter() - start_perf_counter\n",
      "        ) * 1000\n",
      "\n",
      "        events.request.fire(**request_meta)\n",
      "\n",
      "\n",
      "class BotoUser(FastHttpUser):\n",
      "    abstract = True\n",
      "\n",
      "    def __init__(self, env):\n",
      "        super().__init__(env)\n",
      "        self.client = BotoClient(self.host)\n",
      "\n",
      "\n",
      "class MyUser(BotoUser):\n",
      "    @task\n",
      "    def send_request(self):\n",
      "        self.client.send()"
     ]
    }
   ],
   "source": [
    "!cat ./load-testing/locust_script.py"
   ]
  },
  {
   "cell_type": "code",
   "execution_count": 26,
   "id": "b7908a7d-1276-488e-819e-f2f0d5da701a",
   "metadata": {
    "tags": []
   },
   "outputs": [],
   "source": [
    "!chmod +x ./load-testing/run_locust.sh"
   ]
  },
  {
   "cell_type": "markdown",
   "id": "cfea4143-32a2-4a1c-98d5-b93b066b48cb",
   "metadata": {},
   "source": [
    "A test for each endpoint takes around 5 minutes to run"
   ]
  },
  {
   "cell_type": "code",
   "execution_count": null,
   "id": "98cb987c-92ad-4f3f-8d4d-7c234351388b",
   "metadata": {
    "tags": []
   },
   "outputs": [
    {
     "name": "stdout",
     "output_type": "stream",
     "text": [
      "Finished load testing for flask-model endpoint\n",
      "Finished load testing for fastapi-model endpoint\n",
      "Finished load testing for sagemaker-scikit-pre-built endpoint\n"
     ]
    }
   ],
   "source": [
    "import subprocess\n",
    "\n",
    "for model in models:\n",
    "    try:\n",
    "        result = subprocess.run(\n",
    "            [\"./load-testing/run_locust.sh\", f\"{model}\"], capture_output=True, text=True\n",
    "        )\n",
    "        if result.returncode == 0:\n",
    "            print(f\"Finished load testing for {model} endpoint\")\n",
    "        else:\n",
    "            print(f\"Error load testing {model} endpoint:\", result.stderr)\n",
    "    except Exception as e:\n",
    "        print(\"Exception:\", str(e))"
   ]
  },
  {
   "cell_type": "markdown",
   "id": "f17b620e-e0fa-4c4e-b5ba-68f3980d2c79",
   "metadata": {},
   "source": [
    "# Part 4: Visualising the results"
   ]
  },
  {
   "cell_type": "markdown",
   "id": "4e8dfa1a",
   "metadata": {},
   "source": [
    "Locust results are saved in csv files inside the load-testing folder. We load the cvs for each model into pandas and we are specifically interested in min, max and average response times from our endpoints. We build a dictionary with those values and plot a box-plot to visualise the result"
   ]
  },
  {
   "cell_type": "code",
   "execution_count": 28,
   "id": "c9a90c36-fc36-4dae-b63c-bf2b6967fb29",
   "metadata": {
    "tags": []
   },
   "outputs": [
    {
     "name": "stderr",
     "output_type": "stream",
     "text": [
      "WARNING:matplotlib.font_manager:Matplotlib is building the font cache; this may take a moment.\n",
      "INFO:matplotlib.font_manager:generated new fontManager\n"
     ]
    },
    {
     "data": {
      "image/png": "[encoded data removed]",
      "text/plain": [
       "<Figure size 1200x700 with 1 Axes>"
      ]
     },
     "metadata": {},
     "output_type": "display_data"
    }
   ],
   "source": [
    "latency_dict = {}\n",
    "\n",
    "# for each endpoint get latency from the load test results\n",
    "for model in models:\n",
    "    df = pd.read_csv(f\"./load-testing/results_{model}_stats.csv\")\n",
    "\n",
    "    min_latency = round(df.tail(1)[\"Min Response Time\"].values[0] / 1000, 1)\n",
    "    avg_latency = round(df.tail(1)[\"Average Response Time\"].values[0] / 1000, 1)\n",
    "    max_latency = round(df.tail(1)[\"Max Response Time\"].values[0] / 1000, 1)\n",
    "\n",
    "    latency_dict.update({model: [min_latency, avg_latency, max_latency]})\n",
    "\n",
    "# generate a data frame of the results and plot a box plot\n",
    "results = pd.DataFrame(latency_dict)\n",
    "res_plot = results.plot(\n",
    "    legend=True,\n",
    "    figsize=(12, 7),\n",
    "    kind=\"box\",\n",
    "    title=\"Request Latency Across Model Types\",\n",
    "    xlabel=\"Model Type\",\n",
    "    ylabel=\"Latency in Seconds\",\n",
    ")"
   ]
  },
  {
   "cell_type": "markdown",
   "id": "ea2b1c09",
   "metadata": {},
   "source": [
    "# Part 5: Cleanup Endpoints"
   ]
  },
  {
   "cell_type": "code",
   "execution_count": 29,
   "id": "02a5c5f0",
   "metadata": {
    "tags": []
   },
   "outputs": [],
   "source": [
    "sm_client = boto3.client('sagemaker')"
   ]
  },
  {
   "cell_type": "code",
   "execution_count": 31,
   "id": "bf3df1ff",
   "metadata": {
    "tags": []
   },
   "outputs": [
    {
     "name": "stdout",
     "output_type": "stream",
     "text": [
      "Error deleting endpoint flask-model: An error occurred (ValidationException) when calling the DeleteEndpoint operation: Could not find endpoint \"flask-model\".\n",
      "Error deleting endpoint fastapi-model: An error occurred (ValidationException) when calling the DeleteEndpoint operation: Could not find endpoint \"fastapi-model\".\n",
      "Error deleting endpoint sagemaker-scikit-pre-built: An error occurred (ValidationException) when calling the DeleteEndpoint operation: Could not find endpoint \"sagemaker-scikit-pre-built\".\n",
      "Error deleting endpoint sagemaker-scikit-pre-built: An error occurred (ValidationException) when calling the DeleteEndpoint operation: Could not find endpoint \"sagemaker-scikit-pre-built\".\n"
     ]
    }
   ],
   "source": [
    "for model in models:\n",
    "    try:\n",
    "        sm_client.delete_endpoint(\n",
    "            EndpointName=model\n",
    "        )\n",
    "        sm_client.delete_endpoint_config(\n",
    "            EndpointConfigName=model\n",
    "        )\n",
    "    except Exception as e:\n",
    "        print(f\"Error deleting endpoint {model}: {e}\")"
   ]
  },
  {
   "cell_type": "markdown",
   "id": "2c24aaf1",
   "metadata": {},
   "source": [
    "## Notebook CI Test Results\n",
    "\n",
    "This notebook was tested in multiple regions. The test results are as follows, except for us-west-2 which is shown at the top of the notebook.\n",
    "\n",
    "\n",
    "![This us-east-1 badge failed to load. Check your device's internet connectivity, otherwise the service is currently unavailable](https://h75twx4l60.execute-api.us-west-2.amazonaws.com/sagemaker-nb/us-east-1/sagemaker_endpoints_latency_testing|endpoint_testing.ipynb)\n",
    "\n",
    "![This us-east-2 badge failed to load. Check your device's internet connectivity, otherwise the service is currently unavailable](https://h75twx4l60.execute-api.us-west-2.amazonaws.com/sagemaker-nb/us-east-2/sagemaker_endpoints_latency_testing|endpoint_testing.ipynb)\n",
    "\n",
    "![This us-west-1 badge failed to load. Check your device's internet connectivity, otherwise the service is currently unavailable](https://h75twx4l60.execute-api.us-west-2.amazonaws.com/sagemaker-nb/us-west-1/sagemaker_endpoints_latency_testing|endpoint_testing.ipynb)\n",
    "\n",
    "![This ca-central-1 badge failed to load. Check your device's internet connectivity, otherwise the service is currently unavailable](https://h75twx4l60.execute-api.us-west-2.amazonaws.com/sagemaker-nb/ca-central-1/sagemaker_endpoints_latency_testing|endpoint_testing.ipynb)\n",
    "\n",
    "![This sa-east-1 badge failed to load. Check your device's internet connectivity, otherwise the service is currently unavailable](https://h75twx4l60.execute-api.us-west-2.amazonaws.com/sagemaker-nb/sa-east-1/sagemaker_endpoints_latency_testing|endpoint_testing.ipynb)\n",
    "\n",
    "![This eu-west-1 badge failed to load. Check your device's internet connectivity, otherwise the service is currently unavailable](https://h75twx4l60.execute-api.us-west-2.amazonaws.com/sagemaker-nb/eu-west-1/sagemaker_endpoints_latency_testing|endpoint_testing.ipynb)\n",
    "\n",
    "![This eu-west-2 badge failed to load. Check your device's internet connectivity, otherwise the service is currently unavailable](https://h75twx4l60.execute-api.us-west-2.amazonaws.com/sagemaker-nb/eu-west-2/sagemaker_endpoints_latency_testing|endpoint_testing.ipynb)\n",
    "\n",
    "![This eu-west-3 badge failed to load. Check your device's internet connectivity, otherwise the service is currently unavailable](https://h75twx4l60.execute-api.us-west-2.amazonaws.com/sagemaker-nb/eu-west-3/sagemaker_endpoints_latency_testing|endpoint_testing.ipynb)\n",
    "\n",
    "![This eu-central-1 badge failed to load. Check your device's internet connectivity, otherwise the service is currently unavailable](https://h75twx4l60.execute-api.us-west-2.amazonaws.com/sagemaker-nb/eu-central-1/sagemaker_endpoints_latency_testing|endpoint_testing.ipynb)\n",
    "\n",
    "![This eu-north-1 badge failed to load. Check your device's internet connectivity, otherwise the service is currently unavailable](https://h75twx4l60.execute-api.us-west-2.amazonaws.com/sagemaker-nb/eu-north-1/sagemaker_endpoints_latency_testing|endpoint_testing.ipynb)\n",
    "\n",
    "![This ap-southeast-1 badge failed to load. Check your device's internet connectivity, otherwise the service is currently unavailable](https://h75twx4l60.execute-api.us-west-2.amazonaws.com/sagemaker-nb/ap-southeast-1/sagemaker_endpoints_latency_testing|endpoint_testing.ipynb)\n",
    "\n",
    "![This ap-southeast-2 badge failed to load. Check your device's internet connectivity, otherwise the service is currently unavailable](https://h75twx4l60.execute-api.us-west-2.amazonaws.com/sagemaker-nb/ap-southeast-2/sagemaker_endpoints_latency_testing|endpoint_testing.ipynb)\n",
    "\n",
    "![This ap-northeast-1 badge failed to load. Check your device's internet connectivity, otherwise the service is currently unavailable](https://h75twx4l60.execute-api.us-west-2.amazonaws.com/sagemaker-nb/ap-northeast-1/sagemaker_endpoints_latency_testing|endpoint_testing.ipynb)\n",
    "\n",
    "![This ap-northeast-2 badge failed to load. Check your device's internet connectivity, otherwise the service is currently unavailable](https://h75twx4l60.execute-api.us-west-2.amazonaws.com/sagemaker-nb/ap-northeast-2/sagemaker_endpoints_latency_testing|endpoint_testing.ipynb)\n",
    "\n",
    "![This ap-south-1 badge failed to load. Check your device's internet connectivity, otherwise the service is currently unavailable](https://h75twx4l60.execute-api.us-west-2.amazonaws.com/sagemaker-nb/ap-south-1/sagemaker_endpoints_latency_testing|endpoint_testing.ipynb)\n"
   ]
  }
 ],
 "metadata": {
  "kernelspec": {
   "display_name": "conda_python3",
   "language": "python",
   "name": "conda_python3"
  },
  "language_info": {
   "codemirror_mode": {
    "name": "ipython",
    "version": 3
   },
   "file_extension": ".py",
   "mimetype": "text/x-python",
   "name": "python",
   "nbconvert_exporter": "python",
   "pygments_lexer": "ipython3",
   "version": "3.10.12"
  }
 },
 "nbformat": 4,
 "nbformat_minor": 5
}
