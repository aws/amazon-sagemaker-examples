{
  "cells": [
    {
      "cell_type": "markdown",
      "source": [
        "# Knowledge Graph Embedding using the Wikimedia knowledge graph data.\n",
        "\n",
        "In this notebook, we will show using the Wikimedia knowledge graph data, how you can compute embeddings for your knowledge graph and perform downstream task completion such as node classification and link prediction.\n",
        "\n",
        "\n",
        "\n"
      ],
      "metadata": {}
    },
    {
      "cell_type": "markdown",
      "source": [
        "## Data Preparation\n",
        "First, you can download the data from kaggle using this link [here](https://www.kaggle.com/kenshoresearch/kensho-derived-wikimedia-data). \n",
        "\n",
        "The zip file is 24GB in total. For our example, we only need the property.csv, item.csv and statements.csv.\n"
      ],
      "metadata": {}
    },
    {
      "cell_type": "markdown",
      "source": [
        "Once you have downloaded the file, you can unzip the files in the ./data/wikimedia/ folder."
      ],
      "metadata": {
        "nteract": {
          "transient": {
            "deleting": false
          }
        }
      }
    },
    {
      "cell_type": "code",
      "source": [
        "!unzip file.zip -d ./data/wikimedia"
      ],
      "outputs": [],
      "execution_count": null,
      "metadata": {
        "collapsed": true,
        "jupyter": {
          "source_hidden": false,
          "outputs_hidden": false
        },
        "nteract": {
          "transient": {
            "deleting": false
          }
        }
      }
    },
    {
      "cell_type": "code",
      "source": [
        "!conda install -c dglteam dgl-cuda10.1 -y\n",
        "!pip install rdflib\n",
        "!pip install dglke"
      ],
      "outputs": [],
      "execution_count": null,
      "metadata": {}
    },
    {
      "cell_type": "code",
      "source": [
        "!python3 -m spacy download en_core_web_lg"
      ],
      "outputs": [],
      "execution_count": null,
      "metadata": {}
    },
    {
      "cell_type": "code",
      "source": [
        "%load_ext autoreload\n",
        "%autoreload 2\n",
        "\n",
        "%matplotlib notebook\n",
        "import pandas as pd\n",
        "\n",
        "\n",
        "import numpy as np\n",
        "import pylab as plt\n",
        "import seaborn as sns\n",
        "sns.set_style('ticks')\n",
        "\n",
        "import seaborn as sns\n",
        "import os\n",
        "import json\n",
        "import boto3"
      ],
      "outputs": [],
      "execution_count": 11,
      "metadata": {}
    },
    {
      "cell_type": "markdown",
      "source": [
        "#### Let's load the relation dictionary file."
      ],
      "metadata": {}
    },
    {
      "cell_type": "code",
      "source": [
        "dfRelations = pd.read_csv(\"./data/wikimedia/property.csv\")\n",
        "dfRelations.head()"
      ],
      "outputs": [
        {
          "output_type": "execute_result",
          "execution_count": 12,
          "data": {
            "text/html": [
              "<div>\n",
              "<style scoped>\n",
              "    .dataframe tbody tr th:only-of-type {\n",
              "        vertical-align: middle;\n",
              "    }\n",
              "\n",
              "    .dataframe tbody tr th {\n",
              "        vertical-align: top;\n",
              "    }\n",
              "\n",
              "    .dataframe thead th {\n",
              "        text-align: right;\n",
              "    }\n",
              "</style>\n",
              "<table border=\"1\" class=\"dataframe\">\n",
              "  <thead>\n",
              "    <tr style=\"text-align: right;\">\n",
              "      <th></th>\n",
              "      <th>property_id</th>\n",
              "      <th>en_label</th>\n",
              "      <th>en_description</th>\n",
              "    </tr>\n",
              "  </thead>\n",
              "  <tbody>\n",
              "    <tr>\n",
              "      <th>0</th>\n",
              "      <td>6</td>\n",
              "      <td>head of government</td>\n",
              "      <td>head of the executive power of this town, city...</td>\n",
              "    </tr>\n",
              "    <tr>\n",
              "      <th>1</th>\n",
              "      <td>10</td>\n",
              "      <td>video</td>\n",
              "      <td>relevant video. For images, use the property P...</td>\n",
              "    </tr>\n",
              "    <tr>\n",
              "      <th>2</th>\n",
              "      <td>14</td>\n",
              "      <td>traffic sign</td>\n",
              "      <td>graphic symbol describing the item, used at th...</td>\n",
              "    </tr>\n",
              "    <tr>\n",
              "      <th>3</th>\n",
              "      <td>15</td>\n",
              "      <td>route map</td>\n",
              "      <td>image of route map at Wikimedia Commons</td>\n",
              "    </tr>\n",
              "    <tr>\n",
              "      <th>4</th>\n",
              "      <td>16</td>\n",
              "      <td>highway system</td>\n",
              "      <td>system (or specific country specific road type...</td>\n",
              "    </tr>\n",
              "  </tbody>\n",
              "</table>\n",
              "</div>"
            ],
            "text/plain": [
              "   property_id            en_label  \\\n",
              "0            6  head of government   \n",
              "1           10               video   \n",
              "2           14        traffic sign   \n",
              "3           15           route map   \n",
              "4           16      highway system   \n",
              "\n",
              "                                      en_description  \n",
              "0  head of the executive power of this town, city...  \n",
              "1  relevant video. For images, use the property P...  \n",
              "2  graphic symbol describing the item, used at th...  \n",
              "3            image of route map at Wikimedia Commons  \n",
              "4  system (or specific country specific road type...  "
            ]
          },
          "metadata": {}
        }
      ],
      "execution_count": 12,
      "metadata": {}
    },
    {
      "cell_type": "code",
      "source": [
        "#Total Counts\n",
        "dfRelations.count()"
      ],
      "outputs": [
        {
          "output_type": "execute_result",
          "execution_count": 13,
          "data": {
            "text/plain": [
              "property_id       6985\n",
              "en_label          6985\n",
              "en_description    6905\n",
              "dtype: int64"
            ]
          },
          "metadata": {}
        }
      ],
      "execution_count": 13,
      "metadata": {}
    },
    {
      "cell_type": "markdown",
      "source": [
        "Let's find out if we have any zeros. Looks like some properties do not have descriptions."
      ],
      "metadata": {
        "nteract": {
          "transient": {
            "deleting": false
          }
        }
      }
    },
    {
      "cell_type": "code",
      "source": [
        "dfRelations.isnull().sum()"
      ],
      "outputs": [
        {
          "output_type": "execute_result",
          "execution_count": 14,
          "data": {
            "text/plain": [
              "property_id        0\n",
              "en_label           0\n",
              "en_description    80\n",
              "dtype: int64"
            ]
          },
          "metadata": {}
        }
      ],
      "execution_count": 14,
      "metadata": {}
    },
    {
      "cell_type": "markdown",
      "source": [
        "### Let's load the entity file."
      ],
      "metadata": {}
    },
    {
      "cell_type": "code",
      "source": [
        "dfEntities = pd.read_csv(\"./data/wikimedia/item.csv\")\n",
        "dfEntities.head()"
      ],
      "outputs": [
        {
          "output_type": "execute_result",
          "execution_count": 25,
          "data": {
            "text/html": [
              "<div>\n",
              "<style scoped>\n",
              "    .dataframe tbody tr th:only-of-type {\n",
              "        vertical-align: middle;\n",
              "    }\n",
              "\n",
              "    .dataframe tbody tr th {\n",
              "        vertical-align: top;\n",
              "    }\n",
              "\n",
              "    .dataframe thead th {\n",
              "        text-align: right;\n",
              "    }\n",
              "</style>\n",
              "<table border=\"1\" class=\"dataframe\">\n",
              "  <thead>\n",
              "    <tr style=\"text-align: right;\">\n",
              "      <th></th>\n",
              "      <th>item_id</th>\n",
              "      <th>en_label</th>\n",
              "      <th>en_description</th>\n",
              "    </tr>\n",
              "  </thead>\n",
              "  <tbody>\n",
              "    <tr>\n",
              "      <th>0</th>\n",
              "      <td>1</td>\n",
              "      <td>Universe</td>\n",
              "      <td>totality of space and all contents</td>\n",
              "    </tr>\n",
              "    <tr>\n",
              "      <th>1</th>\n",
              "      <td>2</td>\n",
              "      <td>Earth</td>\n",
              "      <td>third planet from the Sun in the Solar System</td>\n",
              "    </tr>\n",
              "    <tr>\n",
              "      <th>2</th>\n",
              "      <td>3</td>\n",
              "      <td>life</td>\n",
              "      <td>matter capable of extracting energy from the e...</td>\n",
              "    </tr>\n",
              "    <tr>\n",
              "      <th>3</th>\n",
              "      <td>4</td>\n",
              "      <td>death</td>\n",
              "      <td>permanent cessation of vital functions</td>\n",
              "    </tr>\n",
              "    <tr>\n",
              "      <th>4</th>\n",
              "      <td>5</td>\n",
              "      <td>human</td>\n",
              "      <td>common name of Homo sapiens, unique extant spe...</td>\n",
              "    </tr>\n",
              "  </tbody>\n",
              "</table>\n",
              "</div>"
            ],
            "text/plain": [
              "   item_id  en_label                                     en_description\n",
              "0        1  Universe                 totality of space and all contents\n",
              "1        2     Earth      third planet from the Sun in the Solar System\n",
              "2        3      life  matter capable of extracting energy from the e...\n",
              "3        4     death             permanent cessation of vital functions\n",
              "4        5     human  common name of Homo sapiens, unique extant spe..."
            ]
          },
          "metadata": {}
        }
      ],
      "execution_count": 25,
      "metadata": {}
    },
    {
      "cell_type": "code",
      "source": [
        "#Total Counts\n",
        "dfEntities.count()"
      ],
      "outputs": [
        {
          "output_type": "execute_result",
          "execution_count": 26,
          "data": {
            "text/plain": [
              "item_id           51450316\n",
              "en_label          43232907\n",
              "en_description    38507973\n",
              "dtype: int64"
            ]
          },
          "metadata": {}
        }
      ],
      "execution_count": 26,
      "metadata": {}
    },
    {
      "cell_type": "code",
      "source": [
        "#Null Counts\n",
        "dfEntities.isnull().sum()"
      ],
      "outputs": [
        {
          "output_type": "execute_result",
          "execution_count": 27,
          "data": {
            "text/plain": [
              "item_id                  0\n",
              "en_label           8217409\n",
              "en_description    12942343\n",
              "dtype: int64"
            ]
          },
          "metadata": {}
        }
      ],
      "execution_count": 27,
      "metadata": {}
    },
    {
      "cell_type": "code",
      "source": [
        "#Drop description column.\n",
        "dfEntitiesClean = dfEntities.drop('en_description', 1)"
      ],
      "outputs": [],
      "execution_count": 31,
      "metadata": {}
    },
    {
      "cell_type": "code",
      "source": [
        "#drop any null values.\n",
        "dfEntitiesClean = dfEntities.dropna()"
      ],
      "outputs": [],
      "execution_count": 32,
      "metadata": {}
    },
    {
      "cell_type": "code",
      "source": [
        "dfEntitiesClean.count()"
      ],
      "outputs": [
        {
          "output_type": "execute_result",
          "execution_count": 33,
          "data": {
            "text/plain": [
              "item_id           34373175\n",
              "en_label          34373175\n",
              "en_description    34373175\n",
              "dtype: int64"
            ]
          },
          "metadata": {}
        }
      ],
      "execution_count": 33,
      "metadata": {}
    },
    {
      "cell_type": "markdown",
      "source": [
        "### Let's load the statements."
      ],
      "metadata": {}
    },
    {
      "cell_type": "code",
      "source": [
        "dfTriple = pd.read_csv(\"./data/wikimedia/statements.csv\")\n",
        "dfTriple.head()"
      ],
      "outputs": [
        {
          "output_type": "execute_result",
          "execution_count": 34,
          "data": {
            "text/html": [
              "<div>\n",
              "<style scoped>\n",
              "    .dataframe tbody tr th:only-of-type {\n",
              "        vertical-align: middle;\n",
              "    }\n",
              "\n",
              "    .dataframe tbody tr th {\n",
              "        vertical-align: top;\n",
              "    }\n",
              "\n",
              "    .dataframe thead th {\n",
              "        text-align: right;\n",
              "    }\n",
              "</style>\n",
              "<table border=\"1\" class=\"dataframe\">\n",
              "  <thead>\n",
              "    <tr style=\"text-align: right;\">\n",
              "      <th></th>\n",
              "      <th>source_item_id</th>\n",
              "      <th>edge_property_id</th>\n",
              "      <th>target_item_id</th>\n",
              "    </tr>\n",
              "  </thead>\n",
              "  <tbody>\n",
              "    <tr>\n",
              "      <th>0</th>\n",
              "      <td>1</td>\n",
              "      <td>31</td>\n",
              "      <td>36906466</td>\n",
              "    </tr>\n",
              "    <tr>\n",
              "      <th>1</th>\n",
              "      <td>1</td>\n",
              "      <td>279</td>\n",
              "      <td>3695190</td>\n",
              "    </tr>\n",
              "    <tr>\n",
              "      <th>2</th>\n",
              "      <td>1</td>\n",
              "      <td>398</td>\n",
              "      <td>497745</td>\n",
              "    </tr>\n",
              "    <tr>\n",
              "      <th>3</th>\n",
              "      <td>1</td>\n",
              "      <td>398</td>\n",
              "      <td>1133705</td>\n",
              "    </tr>\n",
              "    <tr>\n",
              "      <th>4</th>\n",
              "      <td>1</td>\n",
              "      <td>398</td>\n",
              "      <td>1139177</td>\n",
              "    </tr>\n",
              "  </tbody>\n",
              "</table>\n",
              "</div>"
            ],
            "text/plain": [
              "   source_item_id  edge_property_id  target_item_id\n",
              "0               1                31        36906466\n",
              "1               1               279         3695190\n",
              "2               1               398          497745\n",
              "3               1               398         1133705\n",
              "4               1               398         1139177"
            ]
          },
          "metadata": {}
        }
      ],
      "execution_count": 34,
      "metadata": {}
    },
    {
      "cell_type": "markdown",
      "source": [
        "#### Let's join the properties and the statements file."
      ],
      "metadata": {}
    },
    {
      "cell_type": "code",
      "source": [
        "dfResults=pd.merge(dfTriple, dfRelations, left_on='edge_property_id', right_on='property_id')\n",
        "\n"
      ],
      "outputs": [],
      "execution_count": 36,
      "metadata": {}
    },
    {
      "cell_type": "code",
      "source": [
        "dfResults.head()"
      ],
      "outputs": [
        {
          "output_type": "execute_result",
          "execution_count": 37,
          "data": {
            "text/html": [
              "<div>\n",
              "<style scoped>\n",
              "    .dataframe tbody tr th:only-of-type {\n",
              "        vertical-align: middle;\n",
              "    }\n",
              "\n",
              "    .dataframe tbody tr th {\n",
              "        vertical-align: top;\n",
              "    }\n",
              "\n",
              "    .dataframe thead th {\n",
              "        text-align: right;\n",
              "    }\n",
              "</style>\n",
              "<table border=\"1\" class=\"dataframe\">\n",
              "  <thead>\n",
              "    <tr style=\"text-align: right;\">\n",
              "      <th></th>\n",
              "      <th>source_item_id</th>\n",
              "      <th>edge_property_id</th>\n",
              "      <th>target_item_id</th>\n",
              "      <th>property_id</th>\n",
              "      <th>en_label</th>\n",
              "      <th>en_description</th>\n",
              "    </tr>\n",
              "  </thead>\n",
              "  <tbody>\n",
              "    <tr>\n",
              "      <th>0</th>\n",
              "      <td>1</td>\n",
              "      <td>31</td>\n",
              "      <td>36906466</td>\n",
              "      <td>31</td>\n",
              "      <td>instance of</td>\n",
              "      <td>that class of which this subject is a particul...</td>\n",
              "    </tr>\n",
              "    <tr>\n",
              "      <th>1</th>\n",
              "      <td>2</td>\n",
              "      <td>31</td>\n",
              "      <td>3504248</td>\n",
              "      <td>31</td>\n",
              "      <td>instance of</td>\n",
              "      <td>that class of which this subject is a particul...</td>\n",
              "    </tr>\n",
              "    <tr>\n",
              "      <th>2</th>\n",
              "      <td>3</td>\n",
              "      <td>31</td>\n",
              "      <td>937228</td>\n",
              "      <td>31</td>\n",
              "      <td>instance of</td>\n",
              "      <td>that class of which this subject is a particul...</td>\n",
              "    </tr>\n",
              "    <tr>\n",
              "      <th>3</th>\n",
              "      <td>4</td>\n",
              "      <td>31</td>\n",
              "      <td>2996394</td>\n",
              "      <td>31</td>\n",
              "      <td>instance of</td>\n",
              "      <td>that class of which this subject is a particul...</td>\n",
              "    </tr>\n",
              "    <tr>\n",
              "      <th>4</th>\n",
              "      <td>5</td>\n",
              "      <td>31</td>\n",
              "      <td>55983715</td>\n",
              "      <td>31</td>\n",
              "      <td>instance of</td>\n",
              "      <td>that class of which this subject is a particul...</td>\n",
              "    </tr>\n",
              "  </tbody>\n",
              "</table>\n",
              "</div>"
            ],
            "text/plain": [
              "   source_item_id  edge_property_id  target_item_id  property_id     en_label  \\\n",
              "0               1                31        36906466           31  instance of   \n",
              "1               2                31         3504248           31  instance of   \n",
              "2               3                31          937228           31  instance of   \n",
              "3               4                31         2996394           31  instance of   \n",
              "4               5                31        55983715           31  instance of   \n",
              "\n",
              "                                      en_description  \n",
              "0  that class of which this subject is a particul...  \n",
              "1  that class of which this subject is a particul...  \n",
              "2  that class of which this subject is a particul...  \n",
              "3  that class of which this subject is a particul...  \n",
              "4  that class of which this subject is a particul...  "
            ]
          },
          "metadata": {}
        }
      ],
      "execution_count": 37,
      "metadata": {}
    },
    {
      "cell_type": "markdown",
      "source": [
        "#### Let's join the entity and the head columns."
      ],
      "metadata": {}
    },
    {
      "cell_type": "code",
      "source": [
        "dfResultsHR=pd.merge(dfResults, dfEntities, left_on='source_item_id', right_on='item_id')"
      ],
      "outputs": [],
      "execution_count": 38,
      "metadata": {}
    },
    {
      "cell_type": "code",
      "source": [
        "dfResultsHR.head()"
      ],
      "outputs": [
        {
          "output_type": "execute_result",
          "execution_count": 39,
          "data": {
            "text/html": [
              "<div>\n",
              "<style scoped>\n",
              "    .dataframe tbody tr th:only-of-type {\n",
              "        vertical-align: middle;\n",
              "    }\n",
              "\n",
              "    .dataframe tbody tr th {\n",
              "        vertical-align: top;\n",
              "    }\n",
              "\n",
              "    .dataframe thead th {\n",
              "        text-align: right;\n",
              "    }\n",
              "</style>\n",
              "<table border=\"1\" class=\"dataframe\">\n",
              "  <thead>\n",
              "    <tr style=\"text-align: right;\">\n",
              "      <th></th>\n",
              "      <th>source_item_id</th>\n",
              "      <th>edge_property_id</th>\n",
              "      <th>target_item_id</th>\n",
              "      <th>property_id</th>\n",
              "      <th>en_label_x</th>\n",
              "      <th>en_description_x</th>\n",
              "      <th>item_id</th>\n",
              "      <th>en_label_y</th>\n",
              "      <th>en_description_y</th>\n",
              "    </tr>\n",
              "  </thead>\n",
              "  <tbody>\n",
              "    <tr>\n",
              "      <th>0</th>\n",
              "      <td>1</td>\n",
              "      <td>31</td>\n",
              "      <td>36906466</td>\n",
              "      <td>31</td>\n",
              "      <td>instance of</td>\n",
              "      <td>that class of which this subject is a particul...</td>\n",
              "      <td>1</td>\n",
              "      <td>Universe</td>\n",
              "      <td>totality of space and all contents</td>\n",
              "    </tr>\n",
              "    <tr>\n",
              "      <th>1</th>\n",
              "      <td>1</td>\n",
              "      <td>279</td>\n",
              "      <td>3695190</td>\n",
              "      <td>279</td>\n",
              "      <td>subclass of</td>\n",
              "      <td>all instances of these items are instances of ...</td>\n",
              "      <td>1</td>\n",
              "      <td>Universe</td>\n",
              "      <td>totality of space and all contents</td>\n",
              "    </tr>\n",
              "    <tr>\n",
              "      <th>2</th>\n",
              "      <td>1</td>\n",
              "      <td>398</td>\n",
              "      <td>497745</td>\n",
              "      <td>398</td>\n",
              "      <td>child astronomical body</td>\n",
              "      <td>minor body that belongs to the item</td>\n",
              "      <td>1</td>\n",
              "      <td>Universe</td>\n",
              "      <td>totality of space and all contents</td>\n",
              "    </tr>\n",
              "    <tr>\n",
              "      <th>3</th>\n",
              "      <td>1</td>\n",
              "      <td>398</td>\n",
              "      <td>1133705</td>\n",
              "      <td>398</td>\n",
              "      <td>child astronomical body</td>\n",
              "      <td>minor body that belongs to the item</td>\n",
              "      <td>1</td>\n",
              "      <td>Universe</td>\n",
              "      <td>totality of space and all contents</td>\n",
              "    </tr>\n",
              "    <tr>\n",
              "      <th>4</th>\n",
              "      <td>1</td>\n",
              "      <td>398</td>\n",
              "      <td>1139177</td>\n",
              "      <td>398</td>\n",
              "      <td>child astronomical body</td>\n",
              "      <td>minor body that belongs to the item</td>\n",
              "      <td>1</td>\n",
              "      <td>Universe</td>\n",
              "      <td>totality of space and all contents</td>\n",
              "    </tr>\n",
              "  </tbody>\n",
              "</table>\n",
              "</div>"
            ],
            "text/plain": [
              "   source_item_id  edge_property_id  target_item_id  property_id  \\\n",
              "0               1                31        36906466           31   \n",
              "1               1               279         3695190          279   \n",
              "2               1               398          497745          398   \n",
              "3               1               398         1133705          398   \n",
              "4               1               398         1139177          398   \n",
              "\n",
              "                en_label_x                                   en_description_x  \\\n",
              "0              instance of  that class of which this subject is a particul...   \n",
              "1              subclass of  all instances of these items are instances of ...   \n",
              "2  child astronomical body                minor body that belongs to the item   \n",
              "3  child astronomical body                minor body that belongs to the item   \n",
              "4  child astronomical body                minor body that belongs to the item   \n",
              "\n",
              "   item_id en_label_y                    en_description_y  \n",
              "0        1   Universe  totality of space and all contents  \n",
              "1        1   Universe  totality of space and all contents  \n",
              "2        1   Universe  totality of space and all contents  \n",
              "3        1   Universe  totality of space and all contents  \n",
              "4        1   Universe  totality of space and all contents  "
            ]
          },
          "metadata": {}
        }
      ],
      "execution_count": 39,
      "metadata": {}
    },
    {
      "cell_type": "markdown",
      "source": [
        "#### Let's join the entity and the tail columns."
      ],
      "metadata": {}
    },
    {
      "cell_type": "code",
      "source": [
        "dfResultsHRT=pd.merge(dfResultsHR, dfEntities,how='left', left_on='target_item_id', right_on='item_id')"
      ],
      "outputs": [],
      "execution_count": 40,
      "metadata": {}
    },
    {
      "cell_type": "code",
      "source": [
        "dfResultsHRT.head()"
      ],
      "outputs": [
        {
          "output_type": "execute_result",
          "execution_count": 41,
          "data": {
            "text/html": [
              "<div>\n",
              "<style scoped>\n",
              "    .dataframe tbody tr th:only-of-type {\n",
              "        vertical-align: middle;\n",
              "    }\n",
              "\n",
              "    .dataframe tbody tr th {\n",
              "        vertical-align: top;\n",
              "    }\n",
              "\n",
              "    .dataframe thead th {\n",
              "        text-align: right;\n",
              "    }\n",
              "</style>\n",
              "<table border=\"1\" class=\"dataframe\">\n",
              "  <thead>\n",
              "    <tr style=\"text-align: right;\">\n",
              "      <th></th>\n",
              "      <th>source_item_id</th>\n",
              "      <th>edge_property_id</th>\n",
              "      <th>target_item_id</th>\n",
              "      <th>property_id</th>\n",
              "      <th>en_label_x</th>\n",
              "      <th>en_description_x</th>\n",
              "      <th>item_id_x</th>\n",
              "      <th>en_label_y</th>\n",
              "      <th>en_description_y</th>\n",
              "      <th>item_id_y</th>\n",
              "      <th>en_label</th>\n",
              "      <th>en_description</th>\n",
              "    </tr>\n",
              "  </thead>\n",
              "  <tbody>\n",
              "    <tr>\n",
              "      <th>0</th>\n",
              "      <td>1</td>\n",
              "      <td>31</td>\n",
              "      <td>36906466</td>\n",
              "      <td>31</td>\n",
              "      <td>instance of</td>\n",
              "      <td>that class of which this subject is a particul...</td>\n",
              "      <td>1</td>\n",
              "      <td>Universe</td>\n",
              "      <td>totality of space and all contents</td>\n",
              "      <td>36906466.0</td>\n",
              "      <td>universe</td>\n",
              "      <td>class of which Our Universe is an instance, an...</td>\n",
              "    </tr>\n",
              "    <tr>\n",
              "      <th>1</th>\n",
              "      <td>1</td>\n",
              "      <td>279</td>\n",
              "      <td>3695190</td>\n",
              "      <td>279</td>\n",
              "      <td>subclass of</td>\n",
              "      <td>all instances of these items are instances of ...</td>\n",
              "      <td>1</td>\n",
              "      <td>Universe</td>\n",
              "      <td>totality of space and all contents</td>\n",
              "      <td>3695190.0</td>\n",
              "      <td>cosmology</td>\n",
              "      <td>discipline directed to the philosophical conte...</td>\n",
              "    </tr>\n",
              "    <tr>\n",
              "      <th>2</th>\n",
              "      <td>1</td>\n",
              "      <td>398</td>\n",
              "      <td>497745</td>\n",
              "      <td>398</td>\n",
              "      <td>child astronomical body</td>\n",
              "      <td>minor body that belongs to the item</td>\n",
              "      <td>1</td>\n",
              "      <td>Universe</td>\n",
              "      <td>totality of space and all contents</td>\n",
              "      <td>497745.0</td>\n",
              "      <td>Sloan Great Wall</td>\n",
              "      <td>one of the largest known structures in the uni...</td>\n",
              "    </tr>\n",
              "    <tr>\n",
              "      <th>3</th>\n",
              "      <td>1</td>\n",
              "      <td>398</td>\n",
              "      <td>1133705</td>\n",
              "      <td>398</td>\n",
              "      <td>child astronomical body</td>\n",
              "      <td>minor body that belongs to the item</td>\n",
              "      <td>1</td>\n",
              "      <td>Universe</td>\n",
              "      <td>totality of space and all contents</td>\n",
              "      <td>1133705.0</td>\n",
              "      <td>galaxy filament</td>\n",
              "      <td>thread-like structures that form the boundarie...</td>\n",
              "    </tr>\n",
              "    <tr>\n",
              "      <th>4</th>\n",
              "      <td>1</td>\n",
              "      <td>398</td>\n",
              "      <td>1139177</td>\n",
              "      <td>398</td>\n",
              "      <td>child astronomical body</td>\n",
              "      <td>minor body that belongs to the item</td>\n",
              "      <td>1</td>\n",
              "      <td>Universe</td>\n",
              "      <td>totality of space and all contents</td>\n",
              "      <td>1139177.0</td>\n",
              "      <td>CfA2 Great Wall</td>\n",
              "      <td>one of the largest known superstructures in th...</td>\n",
              "    </tr>\n",
              "  </tbody>\n",
              "</table>\n",
              "</div>"
            ],
            "text/plain": [
              "   source_item_id  edge_property_id  target_item_id  property_id  \\\n",
              "0               1                31        36906466           31   \n",
              "1               1               279         3695190          279   \n",
              "2               1               398          497745          398   \n",
              "3               1               398         1133705          398   \n",
              "4               1               398         1139177          398   \n",
              "\n",
              "                en_label_x                                   en_description_x  \\\n",
              "0              instance of  that class of which this subject is a particul...   \n",
              "1              subclass of  all instances of these items are instances of ...   \n",
              "2  child astronomical body                minor body that belongs to the item   \n",
              "3  child astronomical body                minor body that belongs to the item   \n",
              "4  child astronomical body                minor body that belongs to the item   \n",
              "\n",
              "   item_id_x en_label_y                    en_description_y   item_id_y  \\\n",
              "0          1   Universe  totality of space and all contents  36906466.0   \n",
              "1          1   Universe  totality of space and all contents   3695190.0   \n",
              "2          1   Universe  totality of space and all contents    497745.0   \n",
              "3          1   Universe  totality of space and all contents   1133705.0   \n",
              "4          1   Universe  totality of space and all contents   1139177.0   \n",
              "\n",
              "           en_label                                     en_description  \n",
              "0          universe  class of which Our Universe is an instance, an...  \n",
              "1         cosmology  discipline directed to the philosophical conte...  \n",
              "2  Sloan Great Wall  one of the largest known structures in the uni...  \n",
              "3   galaxy filament  thread-like structures that form the boundarie...  \n",
              "4   CfA2 Great Wall  one of the largest known superstructures in th...  "
            ]
          },
          "metadata": {}
        }
      ],
      "execution_count": 41,
      "metadata": {}
    },
    {
      "cell_type": "markdown",
      "source": [
        "#### Let's select and rename the head, relation and tail to [h,r,t] columns."
      ],
      "metadata": {}
    },
    {
      "cell_type": "code",
      "source": [
        "dfResultsFinal = dfResultsHRT[['en_label_y','en_label_x', 'en_label']].rename(columns={\"en_label_y\": \"head\", \"en_label_x\": \"relation\", \"en_label\":\"tail\"})"
      ],
      "outputs": [],
      "execution_count": 43,
      "metadata": {}
    },
    {
      "cell_type": "code",
      "source": [
        "dfResultsFinal.head()"
      ],
      "outputs": [
        {
          "output_type": "execute_result",
          "execution_count": 44,
          "data": {
            "text/html": [
              "<div>\n",
              "<style scoped>\n",
              "    .dataframe tbody tr th:only-of-type {\n",
              "        vertical-align: middle;\n",
              "    }\n",
              "\n",
              "    .dataframe tbody tr th {\n",
              "        vertical-align: top;\n",
              "    }\n",
              "\n",
              "    .dataframe thead th {\n",
              "        text-align: right;\n",
              "    }\n",
              "</style>\n",
              "<table border=\"1\" class=\"dataframe\">\n",
              "  <thead>\n",
              "    <tr style=\"text-align: right;\">\n",
              "      <th></th>\n",
              "      <th>head</th>\n",
              "      <th>relation</th>\n",
              "      <th>tail</th>\n",
              "    </tr>\n",
              "  </thead>\n",
              "  <tbody>\n",
              "    <tr>\n",
              "      <th>0</th>\n",
              "      <td>Universe</td>\n",
              "      <td>instance of</td>\n",
              "      <td>universe</td>\n",
              "    </tr>\n",
              "    <tr>\n",
              "      <th>1</th>\n",
              "      <td>Universe</td>\n",
              "      <td>subclass of</td>\n",
              "      <td>cosmology</td>\n",
              "    </tr>\n",
              "    <tr>\n",
              "      <th>2</th>\n",
              "      <td>Universe</td>\n",
              "      <td>child astronomical body</td>\n",
              "      <td>Sloan Great Wall</td>\n",
              "    </tr>\n",
              "    <tr>\n",
              "      <th>3</th>\n",
              "      <td>Universe</td>\n",
              "      <td>child astronomical body</td>\n",
              "      <td>galaxy filament</td>\n",
              "    </tr>\n",
              "    <tr>\n",
              "      <th>4</th>\n",
              "      <td>Universe</td>\n",
              "      <td>child astronomical body</td>\n",
              "      <td>CfA2 Great Wall</td>\n",
              "    </tr>\n",
              "  </tbody>\n",
              "</table>\n",
              "</div>"
            ],
            "text/plain": [
              "       head                 relation              tail\n",
              "0  Universe              instance of          universe\n",
              "1  Universe              subclass of         cosmology\n",
              "2  Universe  child astronomical body  Sloan Great Wall\n",
              "3  Universe  child astronomical body   galaxy filament\n",
              "4  Universe  child astronomical body   CfA2 Great Wall"
            ]
          },
          "metadata": {}
        }
      ],
      "execution_count": 44,
      "metadata": {}
    },
    {
      "cell_type": "code",
      "source": [
        "#Count null values\n",
        "dfResultsFinal.isnull().sum()"
      ],
      "outputs": [
        {
          "output_type": "execute_result",
          "execution_count": 45,
          "data": {
            "text/plain": [
              "head        20788004\n",
              "relation           0\n",
              "tail          446828\n",
              "dtype: int64"
            ]
          },
          "metadata": {}
        }
      ],
      "execution_count": 45,
      "metadata": {}
    },
    {
      "cell_type": "code",
      "source": [
        "#Drop null records.\n",
        "dfTrain = dfResultsFinal.dropna()"
      ],
      "outputs": [],
      "execution_count": 46,
      "metadata": {}
    },
    {
      "cell_type": "markdown",
      "source": [
        "#### Our Final dataset contains about 120 mio triples or statements."
      ],
      "metadata": {}
    },
    {
      "cell_type": "code",
      "source": [
        "dfTrain.info()"
      ],
      "outputs": [
        {
          "output_type": "stream",
          "name": "stdout",
          "text": [
            "<class 'pandas.core.frame.DataFrame'>\n",
            "Int64Index: 119976844 entries, 0 to 141206852\n",
            "Data columns (total 3 columns):\n",
            "head        object\n",
            "relation    object\n",
            "tail        object\n",
            "dtypes: object(3)\n",
            "memory usage: 3.6+ GB\n"
          ]
        }
      ],
      "execution_count": 47,
      "metadata": {}
    },
    {
      "cell_type": "markdown",
      "source": [
        "#### Let's split our data into training, test and valid datasets."
      ],
      "metadata": {}
    },
    {
      "cell_type": "code",
      "source": [
        "from sklearn.model_selection import train_test_split\n",
        "\n",
        "trainDF, testDF = train_test_split(dfTrain, test_size=0.1)\n",
        "\n",
        "trainDF, validDF = train_test_split(trainDF, test_size=0.15)"
      ],
      "outputs": [],
      "execution_count": 50,
      "metadata": {}
    },
    {
      "cell_type": "code",
      "source": [
        "trainDF.shape, validDF.shape, testDF.shape"
      ],
      "outputs": [
        {
          "output_type": "execute_result",
          "execution_count": 51,
          "data": {
            "text/plain": [
              "((91782285, 3), (16196874, 3), (11997685, 3))"
            ]
          },
          "metadata": {}
        }
      ],
      "execution_count": 51,
      "metadata": {}
    },
    {
      "cell_type": "markdown",
      "source": [
        "#### Let's save the our files as tabular separated files."
      ],
      "metadata": {}
    },
    {
      "cell_type": "code",
      "source": [
        "trainDF.to_csv(\"./data/wikimedia/train.txt\", header = None, index = None, sep = \"\\t\")"
      ],
      "outputs": [],
      "execution_count": 52,
      "metadata": {}
    },
    {
      "cell_type": "code",
      "source": [
        "validDF.to_csv(\"./data/wikimedia/valid.txt\", header = None, index = None, sep = \"\\t\")"
      ],
      "outputs": [],
      "execution_count": 53,
      "metadata": {}
    },
    {
      "cell_type": "code",
      "source": [
        "testDF.to_csv(\"./data/wikimedia/test.txt\", header = None, index = None, sep = \"\\t\")"
      ],
      "outputs": [],
      "execution_count": 54,
      "metadata": {}
    },
    {
      "cell_type": "markdown",
      "source": [
        "## Knowledge Graph Embeddings "
      ],
      "metadata": {}
    },
    {
      "cell_type": "markdown",
      "source": [
        "Let's run the command line to generage our embeddings. In our case we will mix cpu-gpu as our KG is quite large."
      ],
      "metadata": {
        "nteract": {
          "transient": {
            "deleting": false
          }
        }
      }
    },
    {
      "cell_type": "code",
      "source": [
        "%%time\n",
        "!DGLBACKEND=pytorch dglke_train --dataset wikimedia --model_name TransE_l2 --batch_size 1000 \\\n",
        "--neg_sample_size 200 --hidden_dim 400 --gamma 19.9 --lr 0.25 --max_step 24000 --log_interval 100 \\\n",
        "--batch_size_eval 16 -adv --regularization_coef 1.00E-09 --test --gpu 0 1 2 3 --mix_cpu_gpu  --save_path ./wikimedia \\\n",
        "--data_path ./data/wikimedia/ --format raw_udd_hrt --data_files train.txt valid.txt test.txt --neg_sample_size_eval 10000 "
      ],
      "outputs": [],
      "execution_count": null,
      "metadata": {}
    },
    {
      "cell_type": "markdown",
      "source": [
        "Let's evaluate our model."
      ],
      "metadata": {
        "nteract": {
          "transient": {
            "deleting": false
          }
        }
      }
    },
    {
      "cell_type": "code",
      "source": [
        "%%time\n",
        "!DGLBACKEND=pytorch dglke_eval --dataset wikimedia --model_name TransE_l2 \\\n",
        "--neg_sample_size 200 --hidden_dim 400 --gamma 19.9 \\\n",
        "--batch_size_eval 16 --gpu 0 1 2 3  --model_path ./wikimedia/TransE_l2_wikimedia_0/ \\\n",
        "--data_path ./data/wikimedia/ --format raw_udd_hrt --data_files train.txt valid.txt test.txt --neg_sample_size_eval 10000 --no_eval_filter"
      ],
      "outputs": [
        {
          "output_type": "stream",
          "name": "stdout",
          "text": [
            "Using backend: pytorch\n",
            "Reading train triples....\n",
            "Finished. Read 91782285 train triples.\n",
            "Reading valid triples....\n",
            "Finished. Read 16196874 valid triples.\n",
            "Reading test triples....\n",
            "Finished. Read 11997685 test triples.\n",
            "Logs are being recorded at: ./wikimedia/TransE_l2_wikimedia_0/eval.log\n",
            "/home/ec2-user/anaconda3/envs/pytorch_p36/lib/python3.6/site-packages/dgl/base.py:25: UserWarning: multigraph will be deprecated.DGL will treat all graphs as multigraph in the future.\n",
            "  warnings.warn(msg, warn_type)\n",
            "|valid|: 16196874\n",
            "|test|: 11997685\n",
            "-------------- Test result --------------\n",
            "Test average MRR: 0.4159753346227368\n",
            "Test average MR: 1001.1689418833716\n",
            "Test average HITS@1: 0.3540242971873324\n",
            "Test average HITS@3: 0.45541123141672746\n",
            "Test average HITS@10: 0.5213350742247359\n",
            "-----------------------------------------\n",
            "Test takes 6781.685 seconds\n",
            "CPU times: user 2min 7s, sys: 30 s, total: 2min 37s\n",
            "Wall time: 2h 9min 59s\n"
          ]
        }
      ],
      "execution_count": 1,
      "metadata": {}
    },
    {
      "cell_type": "markdown",
      "source": [
        "Let's run the inference command line. In our case we want to find the Top 5 similar nodes to our \"head.list\" file. Our file contains the following entries:\n",
        "\n",
        "Jeff Bezos\n",
        "Barack Obama"
      ],
      "metadata": {
        "nteract": {
          "transient": {
            "deleting": false
          }
        }
      }
    },
    {
      "cell_type": "code",
      "source": [
        "# Using PyTorch Backend\n",
        "!DGLBACKEND=pytorch dglke_score --data_path ./data/wikimedia/ --model_path ./wikimedia/TransE_l2_wikimedia_0/ \\\n",
        "--format 'h_*_*' --data_files head.list \\\n",
        "--score_func none --topK 5"
      ],
      "outputs": [
        {
          "output_type": "stream",
          "name": "stdout",
          "text": [
            "Traceback (most recent call last):\n",
            "  File \"/usr/local/bin/dglke_score\", line 11, in <module>\n",
            "    load_entry_point('dglke==0.1.0.dev0', 'console_scripts', 'dglke_score')()\n",
            "  File \"/usr/lib/python3.6/dist-packages/pkg_resources/__init__.py\", line 490, in load_entry_point\n",
            "    return get_distribution(dist).load_entry_point(group, name)\n",
            "  File \"/usr/lib/python3.6/dist-packages/pkg_resources/__init__.py\", line 2854, in load_entry_point\n",
            "    return ep.load()\n",
            "  File \"/usr/lib/python3.6/dist-packages/pkg_resources/__init__.py\", line 2445, in load\n",
            "    return self.resolve()\n",
            "  File \"/usr/lib/python3.6/dist-packages/pkg_resources/__init__.py\", line 2451, in resolve\n",
            "    module = __import__(self.module_name, fromlist=['__name__'], level=0)\n",
            "  File \"/usr/local/lib/python3.6/site-packages/dglke-0.1.0.dev0-py3.6.egg/dglke/infer_score.py\", line 25, in <module>\n",
            "  File \"/usr/local/lib/python3.6/site-packages/dglke-0.1.0.dev0-py3.6.egg/dglke/models/__init__.py\", line 20, in <module>\n",
            "  File \"/usr/local/lib/python3.6/site-packages/dglke-0.1.0.dev0-py3.6.egg/dglke/models/general_models.py\", line 30, in <module>\n",
            "ModuleNotFoundError: No module named 'dgl'\n"
          ]
        }
      ],
      "execution_count": 2,
      "metadata": {}
    },
    {
      "cell_type": "code",
      "source": [],
      "outputs": [],
      "execution_count": null,
      "metadata": {}
    }
  ],
  "metadata": {
    "kernelspec": {
      "display_name": "conda_pytorch_p36",
      "language": "python",
      "name": "conda_pytorch_p36"
    },
    "language_info": {
      "codemirror_mode": {
        "name": "ipython",
        "version": 3
      },
      "file_extension": ".py",
      "mimetype": "text/x-python",
      "name": "python",
      "nbconvert_exporter": "python",
      "pygments_lexer": "ipython3",
      "version": "3.6.5"
    },
    "nteract": {
      "version": "0.23.3"
    }
  },
  "nbformat": 4,
  "nbformat_minor": 4
}