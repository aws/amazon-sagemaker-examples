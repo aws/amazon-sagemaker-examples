{
 "cells": [
  {
   "cell_type": "markdown",
   "id": "35ac30ac",
   "metadata": {},
   "source": [
    "# Document Understanding Solution - Document Summarization\n"
   ]
  },
  {
   "cell_type": "markdown",
   "id": "60e32134",
   "metadata": {},
   "source": [
    "---\n",
    "\n",
    "This notebook's CI test result for us-west-2 is as follows. CI test results in other regions can be found at the end of the notebook. \n",
    "\n",
    "![This us-west-2 badge failed to load. Check your device's internet connectivity, otherwise the service is currently unavailable](https://prod.us-west-2.tcx-beacon.docs.aws.dev/sagemaker-nb/us-west-2/introduction_to_applying_machine_learning|identify_key_insights_from_textual_document|document_summarization.ipynb)\n",
    "\n",
    "---"
   ]
  },
  {
   "cell_type": "markdown",
   "id": "f9c41ac0",
   "metadata": {},
   "source": [
    "\n",
    "This solution consists of comphrensive notebooks for five natural language processing tasks Document Summarization, Text Classification, Question and Answering, Name Entity Recognition, and Semantic Relation Extracion. To view each notebook, click [Text Classification](./2_text_classification.ipynb), [Question and Answering](./3_question_answering.ipynb), [Name Entity Recognition](./4_entity_recognition.ipynb), and [Semantic Relation Extraction](./5_relationship_extraction.ipynb).\n",
    "\n",
    "Now let's first look at the Document Summarization. Summarization is useful when you want to distill the information found in\n",
    "a large amount of text down to a few sentences. We use an\n",
    "'extractive' summarization method in this notebook, that extracts the\n",
    "most important sentences from the document verbatim. We don't cover\n",
    "'abstractive' summarization here, because it's a lot more challenging and\n",
    "error prone to generate new sentences that summarize the document.\n",
    "\n",
    "In this notebook, we deploy and use a document summarization model\n",
    "[T5-base](https://huggingface.co/t5-base) from the [transformers](https://huggingface.co/transformers/) library. Next, we send an example article to the deployed endpoints to get a response (summarization result) and run evaluation metric [ROUGE](https://en.wikipedia.org/wiki/ROUGE_(metric)) to compare the input article and summmarization result. \n",
    "\n",
    "\n",
    "**Note**: When running this notebook on SageMaker Studio, you should make\n",
    "sure the `SageMaker JumpStart PyTorch 1.0` image/kernel is used. When\n",
    "running this notebook on SageMaker Notebook Instance, you should make\n",
    "sure the 'sagemaker-soln' kernel is used."
   ]
  },
  {
   "cell_type": "markdown",
   "id": "c3ab9054",
   "metadata": {
    "pycharm": {
     "name": "#%% md\n"
    }
   },
   "source": [
    "Install required packages to run this notebook"
   ]
  },
  {
   "cell_type": "code",
   "execution_count": null,
   "id": "c2cba533",
   "metadata": {
    "collapsed": false,
    "jupyter": {
     "outputs_hidden": false
    },
    "pycharm": {
     "name": "#%%\n"
    },
    "tags": []
   },
   "outputs": [],
   "source": [
    "!pip install -U sagemaker ipywidgets datasets nltk rouge_score"
   ]
  },
  {
   "cell_type": "markdown",
   "id": "f68599ca",
   "metadata": {},
   "source": [
    "We start by importing a variety of packages that are used throughout\n",
    "the notebook. One of the most important packages is the Amazon SageMaker\n",
    "Python SDK (i.e. `import sagemaker`). We also import modules from our own\n",
    "custom (and editable) package that can be found at `../package`."
   ]
  },
  {
   "cell_type": "code",
   "execution_count": null,
   "id": "a41f5a94",
   "metadata": {
    "tags": []
   },
   "outputs": [],
   "source": [
    "import boto3\n",
    "import sagemaker\n",
    "from sagemaker.pytorch import PyTorchModel\n",
    "import sys\n",
    "import config\n",
    "import uuid"
   ]
  },
  {
   "cell_type": "markdown",
   "id": "0f1ac65d",
   "metadata": {},
   "source": [
    "Up next, we define the current folder and create a SageMaker client (from\n",
    "`boto3`). We can use the SageMaker client to call SageMaker APIs\n",
    "directly, as an alternative to using the Amazon SageMaker SDK. We use\n",
    "it at the end of the notebook to delete certain resources that are\n",
    "created in this notebook."
   ]
  },
  {
   "cell_type": "code",
   "execution_count": null,
   "id": "18c15d92",
   "metadata": {
    "tags": []
   },
   "outputs": [],
   "source": [
    "sagemaker_client = boto3.client(\"sagemaker\")\n",
    "sagemaker_session = sagemaker.Session()\n",
    "DEFAULT_BUCKET = sagemaker_session.default_bucket()\n",
    "IAM_ROLE = sagemaker.get_execution_role()"
   ]
  },
  {
   "cell_type": "markdown",
   "id": "9f53a775",
   "metadata": {},
   "source": [
    "Our text summarization system needs a machine learning model. In this\n",
    "section, we deploy a model to an Amazon SageMaker Endpoint and then\n",
    "invoke the endpoint from the notebook. We use a pre-trained model from\n",
    "the [transformers](https://huggingface.co/transformers/) library instead\n",
    "of training a model from scratch, specifically the T5 Base model.\n",
    "\n",
    "We use the unique solution prefix to name the model and endpoint."
   ]
  },
  {
   "cell_type": "code",
   "execution_count": null,
   "id": "1f6fd941",
   "metadata": {
    "tags": []
   },
   "outputs": [],
   "source": [
    "unique_hash = str(uuid.uuid4())[:6]\n",
    "endpoint_name = f\"{config.SOLUTION_PREFIX}-{unique_hash}-summarization-endpoint\""
   ]
  },
  {
   "cell_type": "markdown",
   "id": "ead5c9f2",
   "metadata": {},
   "source": [
    "Up next, we need to define the Amazon SageMaker Model which references\n",
    "the source code and the specifies which container to use. Our pre-trained\n",
    "model is from the transformers library which uses PyTorch. As a result,\n",
    "we should use the PyTorchModel from the Amazon SageMaker Python SDK.\n",
    "Using PyTorchModel and setting the framework_version argument, means that\n",
    "our deployed model runs inside a container that has PyTorch\n",
    "pre-installed. Other requirements can be installed by defining a\n",
    "requirements.txt file at the specified source_dir location. We use the\n",
    "entry_point argument to reference the code (within source_dir) that\n",
    "should be run for model inference: functions called model_fn, input_fn,\n",
    "predict_fn and output_fn are expected to be defined. And lastly, you can\n",
    "pass `model_data` from a training job, but we are going to load the\n",
    "pre-trained model in the source code running on the endpoint. We still\n",
    "need to provide `model_data`, so we pass an empty archive."
   ]
  },
  {
   "cell_type": "code",
   "execution_count": null,
   "id": "9b196f7a",
   "metadata": {
    "tags": []
   },
   "outputs": [],
   "source": [
    "!aws s3 cp --recursive s3://sagemaker-solutions-prod-us-east-2/0.2.0/Document-understanding/3.0.1/artifacts/models/summarization data"
   ]
  },
  {
   "cell_type": "code",
   "execution_count": null,
   "id": "912c375b",
   "metadata": {
    "tags": []
   },
   "outputs": [],
   "source": [
    "!aws s3 cp --recursive data s3://$DEFAULT_BUCKET/document-understanding/summarization"
   ]
  },
  {
   "cell_type": "code",
   "execution_count": null,
   "id": "93b7ede0",
   "metadata": {
    "tags": []
   },
   "outputs": [],
   "source": [
    "!aws s3 cp s3://sagemaker-solutions-prod-us-east-2/0.2.0/Document-understanding/3.0.1/artifacts/models/empty.tar.gz ."
   ]
  },
  {
   "cell_type": "code",
   "execution_count": null,
   "id": "1f6dfeec",
   "metadata": {
    "tags": []
   },
   "outputs": [],
   "source": [
    "!aws s3 cp empty.tar.gz s3://$DEFAULT_BUCKET/document-understanding/models/"
   ]
  },
  {
   "cell_type": "code",
   "execution_count": null,
   "id": "98e39b37",
   "metadata": {
    "tags": []
   },
   "outputs": [],
   "source": [
    "model = PyTorchModel(\n",
    "    model_data=f\"S3://{DEFAULT_BUCKET}/document-understanding/models/empty.tar.gz\",\n",
    "    entry_point=\"entry_point.py\",\n",
    "    source_dir=\"containers/summarization\",\n",
    "    role=IAM_ROLE,\n",
    "    framework_version=\"1.5.0\",\n",
    "    py_version=\"py3\",\n",
    "    code_location=\"s3://\" + DEFAULT_BUCKET + \"/code\",\n",
    "    env={\n",
    "        \"MODEL_ASSETS_S3_BUCKET\": DEFAULT_BUCKET,\n",
    "        \"MODEL_ASSETS_S3_PREFIX\": \"document-understanding/summarization/\",\n",
    "        \"MMS_DEFAULT_RESPONSE_TIMEOUT\": \"3000\",\n",
    "    },\n",
    ")"
   ]
  },
  {
   "cell_type": "markdown",
   "id": "3614d767",
   "metadata": {},
   "source": [
    "Using this Amazon SageMaker Model, we can deploy a HTTPS endpoint on a\n",
    "dedicated instance. We choose to deploy the endpoint on a single\n",
    "ml.p3.2xlarge instance (or ml.g4dn.2xlarge if unavailable in this\n",
    "region). Our summarization model is transfomer that benefits from GPU\n",
    "optimization, and a ml.p3.2xlarge has a high performance NVIDIA V100 GPU\n",
    "that can reduce inference latency on each request. You can expect this\n",
    "deployment step to take around 5 minutes. After approximately 15 dashes,\n",
    "you can expect to see an exclamation mark which indicates a successful\n",
    "deployment."
   ]
  },
  {
   "cell_type": "code",
   "execution_count": null,
   "id": "5a04865e",
   "metadata": {
    "tags": []
   },
   "outputs": [],
   "source": [
    "import time\n",
    "from sagemaker.serializers import JSONSerializer\n",
    "from sagemaker.deserializers import JSONDeserializer\n",
    "\n",
    "predictor = model.deploy(\n",
    "    endpoint_name=endpoint_name,\n",
    "    instance_type=config.HOSTING_INSTANCE_TYPE,\n",
    "    initial_instance_count=1,\n",
    "    serializer=JSONSerializer(),\n",
    "    deserializer=JSONDeserializer(),\n",
    ")\n",
    "\n",
    "time.sleep(10)"
   ]
  },
  {
   "cell_type": "markdown",
   "id": "b436fe5e",
   "metadata": {},
   "source": [
    "When you're trying to update the model for development purposes, but\n",
    "experiencing issues because the model/endpoint-config/endpoint already\n",
    "exists, you can delete the existing model/endpoint-config/endpoint by\n",
    "uncommenting and running the following commands:"
   ]
  },
  {
   "cell_type": "code",
   "execution_count": null,
   "id": "159712c3",
   "metadata": {
    "tags": []
   },
   "outputs": [],
   "source": [
    "# sagemaker_client.delete_endpoint(EndpointName=endpoint_name)\n",
    "# sagemaker_client.delete_endpoint_config(EndpointConfigName=endpoint_name)"
   ]
  },
  {
   "cell_type": "markdown",
   "id": "3967dd00",
   "metadata": {
    "lines_to_next_cell": 2
   },
   "source": [
    "When calling our new endpoint from the notebook, we use a Amazon\n",
    "SageMaker SDK\n",
    "[`Predictor`](https://sagemaker.readthedocs.io/en/stable/predictors.html).\n",
    "A `Predictor` is used to send data to an endpoint (as part of a request),\n",
    "and interpret the response. Our `model.deploy` command returned a\n",
    "`Predictor` but, by default, it send and receive numpy arrays. Our\n",
    "endpoint expects to receive (and also sends) JSON formatted objects, so\n",
    "we modify the `Predictor` to use JSON instead of the PyTorch endpoint\n",
    "default of numpy arrays. JSON is used here because it is a standard\n",
    "endpoint format and the endpoint response can contain nested data\n",
    "structures."
   ]
  },
  {
   "cell_type": "markdown",
   "id": "fc4b887d",
   "metadata": {},
   "source": [
    "With our model successfully deployed and our predictor configured, we can\n",
    "try out the summarizer out on example inputs. All we need to do is\n",
    "construct a dictionary object with a single key called `text` and provide\n",
    "the the input string. We call `predict` on our predictor and we should\n",
    "get a response from the endpoint that contains the summary."
   ]
  },
  {
   "cell_type": "code",
   "execution_count": null,
   "id": "ecf8fd0b",
   "metadata": {
    "tags": []
   },
   "outputs": [],
   "source": [
    "ARTICLE = \"\"\" Documents are a primary tool for communication,\n",
    "collaboration, record keeping, and transactions across industries,\n",
    "including financial, medical, legal, and real estate. The format of data\n",
    "can pose an extra challenge in data extraction, especially if the content\n",
    "is typed, handwritten, or embedded in a form or table. Furthermore,\n",
    "extracting data from your documents is manual, error-prone, time-consuming,\n",
    "expensive, and does not scale. Amazon Textract is a machine learning (ML)\n",
    "service that extracts printed text and other data from documents as well as\n",
    "tables and forms. We’re pleased to announce two new features for Amazon\n",
    "Textract: support for handwriting in English documents, and expanding\n",
    "language support for extracting printed text from documents typed in\n",
    "Spanish, Portuguese, French, German, and Italian. Many documents, such as\n",
    "medical intake forms or employment applications, contain both handwritten\n",
    "and printed text. The ability to extract text and handwriting has been a\n",
    "need our customers have asked us for. Amazon Textract can now extract\n",
    "printed text and handwriting from documents written in English with high\n",
    "confidence scores, whether it’s free-form text or text embedded in tables\n",
    "and forms. Documents can also contain a mix of typed text or handwritten\n",
    "text. The following image shows an example input document containing a mix\n",
    "of typed and handwritten text, and its converted output document. You can\n",
    "log in to the Amazon Textract console to test out the handwriting feature,\n",
    "or check out the new demo by Amazon Machine Learning Hero Mike Chambers.\n",
    "Not only can you upload documents with both printed text and handwriting,\n",
    "you can also use Amazon Augmented AI (Amazon A2I), which makes it easy to\n",
    "build workflows for a human review of the ML predictions. Adding in Amazon\n",
    "A2I can help you get to market faster by having your employees or AWS\n",
    "Marketplace contractors review the Amazon Textract output for sensitive\n",
    "workloads. For more information about implementing a human review, see\n",
    "Using Amazon Textract with Amazon Augmented AI for processing critical\n",
    "documents. If you want to use one of our AWS Partners, take a look at how\n",
    "Quantiphi is using handwriting recognition for their customers.\n",
    "Additionally, we’re pleased to announce our language expansion. Customers\n",
    "can now extract and process documents in more languages. Amazon Textract\n",
    "now supports processing printed documents in Spanish, German, Italian,\n",
    "French, and Portuguese. You can send documents in these languages,\n",
    "including forms and tables, for data and text extraction, and Amazon\n",
    "Textract automatically detects and extracts the information for you. You\n",
    "can simply upload the documents on the Amazon Textract console or send them\n",
    "using either the AWS Command Line Interface (AWS CLI) or AWS SDKs.\"\"\""
   ]
  },
  {
   "cell_type": "code",
   "execution_count": null,
   "id": "413594c5",
   "metadata": {
    "tags": []
   },
   "outputs": [],
   "source": [
    "data = {\"text\": ARTICLE}\n",
    "response = predictor.predict(data=data)"
   ]
  },
  {
   "cell_type": "markdown",
   "id": "c2f130a0",
   "metadata": {},
   "source": [
    "We have the responce and we can print out the summary that has been\n",
    "extracted from the text above."
   ]
  },
  {
   "cell_type": "code",
   "execution_count": null,
   "id": "81086234",
   "metadata": {
    "tags": []
   },
   "outputs": [],
   "source": [
    "print(response[\"summary\"])"
   ]
  },
  {
   "cell_type": "markdown",
   "id": "526be81b",
   "metadata": {},
   "source": [
    "## Evaluate and compare input article and summarization reseult"
   ]
  },
  {
   "cell_type": "code",
   "execution_count": null,
   "id": "4d678fee",
   "metadata": {
    "tags": []
   },
   "outputs": [],
   "source": [
    "from datasets import load_metric"
   ]
  },
  {
   "cell_type": "code",
   "execution_count": null,
   "id": "8d4d2415",
   "metadata": {
    "tags": []
   },
   "outputs": [],
   "source": [
    "rouge = load_metric(\"rouge\")"
   ]
  },
  {
   "cell_type": "code",
   "execution_count": null,
   "id": "bd899ff5",
   "metadata": {
    "tags": []
   },
   "outputs": [],
   "source": [
    "results = rouge.compute(predictions=[response[\"summary\"]], references=[ARTICLE])"
   ]
  },
  {
   "cell_type": "code",
   "execution_count": null,
   "id": "f7b5efaa",
   "metadata": {
    "tags": []
   },
   "outputs": [],
   "source": [
    "for each_rouge in results:\n",
    "    print(f\"{each_rouge}: {results[each_rouge]}\\n\")"
   ]
  },
  {
   "cell_type": "markdown",
   "id": "94b95c0a",
   "metadata": {},
   "source": [
    "`rougeN` measures the number of matching `n-grams` between our model-generated text (summarization result) and a `reference` (input text).\n",
    "\n",
    "An n-gram is simply a grouping of tokens/words. A unigram (1-gram) would consist of a single word. A bigram (2-gram) consists of two consecutive words.\n",
    "\n",
    "The metric `rougeL` and `rougeLsum` measure the longest matching sequences of words by looking for the longest common substrings in the generated and reference summaries. The “sum” in rougeLsum refers to the fact that this metric is computed over a whole summary, while rougeL is computed as the average over individual sentences.\n",
    "\n",
    "\n",
    "\n",
    "For each metric described above, it computes confidence intervals for precision, recall, and F1-score; these are the `low`, `mid`, and `high` attributes you can see here. For each of precision, recall, and F1-score metrics, higher value indicates better results."
   ]
  },
  {
   "cell_type": "markdown",
   "id": "c5dcae3a",
   "metadata": {},
   "source": [
    "You can try more examples above, but note that this model has been\n",
    "pretrained on a news dataset. You may need to fine-tune this model with\n",
    "your own summarizations to obtain better results."
   ]
  },
  {
   "cell_type": "markdown",
   "id": "81179a1c",
   "metadata": {},
   "source": [
    "## Clean Up\n",
    "\n",
    "When you've finished with the summarization endpoint (and associated\n",
    "endpoint-config), make sure that you delete it to avoid accidental\n",
    "charges."
   ]
  },
  {
   "cell_type": "code",
   "execution_count": null,
   "id": "6b05600a",
   "metadata": {
    "tags": []
   },
   "outputs": [],
   "source": [
    "# Delete the SageMaker endpoint and the attached resources\n",
    "predictor.delete_model()\n",
    "predictor.delete_endpoint()"
   ]
  },
  {
   "cell_type": "markdown",
   "id": "63265a83",
   "metadata": {},
   "source": [
    "## Next Stage\n",
    "\n",
    "We've just looked at how to analyse documents from a high level. Up next\n",
    "we look at a technique that can be used to classify each sentence in the document, called Text Classification.\n",
    "\n",
    "[Click here to continue with Text Classification.](./2_text_classification.ipynb)"
   ]
  },
  {
   "cell_type": "markdown",
   "id": "a66f569a",
   "metadata": {},
   "source": [
    "## Notebook CI Test Results\n",
    "\n",
    "This notebook was tested in multiple regions. The test results are as follows, except for us-west-2 which is shown at the top of the notebook.\n",
    "\n",
    "![This us-east-1 badge failed to load. Check your device's internet connectivity, otherwise the service is currently unavailable](https://prod.us-west-2.tcx-beacon.docs.aws.dev/sagemaker-nb/us-east-1/introduction_to_applying_machine_learning|identify_key_insights_from_textual_document|document_summarization.ipynb)\n",
    "\n",
    "![This us-east-2 badge failed to load. Check your device's internet connectivity, otherwise the service is currently unavailable](https://prod.us-west-2.tcx-beacon.docs.aws.dev/sagemaker-nb/us-east-2/introduction_to_applying_machine_learning|identify_key_insights_from_textual_document|document_summarization.ipynb)\n",
    "\n",
    "![This us-west-1 badge failed to load. Check your device's internet connectivity, otherwise the service is currently unavailable](https://prod.us-west-2.tcx-beacon.docs.aws.dev/sagemaker-nb/us-west-1/introduction_to_applying_machine_learning|identify_key_insights_from_textual_document|document_summarization.ipynb)\n",
    "\n",
    "![This ca-central-1 badge failed to load. Check your device's internet connectivity, otherwise the service is currently unavailable](https://prod.us-west-2.tcx-beacon.docs.aws.dev/sagemaker-nb/ca-central-1/introduction_to_applying_machine_learning|identify_key_insights_from_textual_document|document_summarization.ipynb)\n",
    "\n",
    "![This sa-east-1 badge failed to load. Check your device's internet connectivity, otherwise the service is currently unavailable](https://prod.us-west-2.tcx-beacon.docs.aws.dev/sagemaker-nb/sa-east-1/introduction_to_applying_machine_learning|identify_key_insights_from_textual_document|document_summarization.ipynb)\n",
    "\n",
    "![This eu-west-1 badge failed to load. Check your device's internet connectivity, otherwise the service is currently unavailable](https://prod.us-west-2.tcx-beacon.docs.aws.dev/sagemaker-nb/eu-west-1/introduction_to_applying_machine_learning|identify_key_insights_from_textual_document|document_summarization.ipynb)\n",
    "\n",
    "![This eu-west-2 badge failed to load. Check your device's internet connectivity, otherwise the service is currently unavailable](https://prod.us-west-2.tcx-beacon.docs.aws.dev/sagemaker-nb/eu-west-2/introduction_to_applying_machine_learning|identify_key_insights_from_textual_document|document_summarization.ipynb)\n",
    "\n",
    "![This eu-west-3 badge failed to load. Check your device's internet connectivity, otherwise the service is currently unavailable](https://prod.us-west-2.tcx-beacon.docs.aws.dev/sagemaker-nb/eu-west-3/introduction_to_applying_machine_learning|identify_key_insights_from_textual_document|document_summarization.ipynb)\n",
    "\n",
    "![This eu-central-1 badge failed to load. Check your device's internet connectivity, otherwise the service is currently unavailable](https://prod.us-west-2.tcx-beacon.docs.aws.dev/sagemaker-nb/eu-central-1/introduction_to_applying_machine_learning|identify_key_insights_from_textual_document|document_summarization.ipynb)\n",
    "\n",
    "![This eu-north-1 badge failed to load. Check your device's internet connectivity, otherwise the service is currently unavailable](https://prod.us-west-2.tcx-beacon.docs.aws.dev/sagemaker-nb/eu-north-1/introduction_to_applying_machine_learning|identify_key_insights_from_textual_document|document_summarization.ipynb)\n",
    "\n",
    "![This ap-southeast-1 badge failed to load. Check your device's internet connectivity, otherwise the service is currently unavailable](https://prod.us-west-2.tcx-beacon.docs.aws.dev/sagemaker-nb/ap-southeast-1/introduction_to_applying_machine_learning|identify_key_insights_from_textual_document|document_summarization.ipynb)\n",
    "\n",
    "![This ap-southeast-2 badge failed to load. Check your device's internet connectivity, otherwise the service is currently unavailable](https://prod.us-west-2.tcx-beacon.docs.aws.dev/sagemaker-nb/ap-southeast-2/introduction_to_applying_machine_learning|identify_key_insights_from_textual_document|document_summarization.ipynb)\n",
    "\n",
    "![This ap-northeast-1 badge failed to load. Check your device's internet connectivity, otherwise the service is currently unavailable](https://prod.us-west-2.tcx-beacon.docs.aws.dev/sagemaker-nb/ap-northeast-1/introduction_to_applying_machine_learning|identify_key_insights_from_textual_document|document_summarization.ipynb)\n",
    "\n",
    "![This ap-northeast-2 badge failed to load. Check your device's internet connectivity, otherwise the service is currently unavailable](https://prod.us-west-2.tcx-beacon.docs.aws.dev/sagemaker-nb/ap-northeast-2/introduction_to_applying_machine_learning|identify_key_insights_from_textual_document|document_summarization.ipynb)\n",
    "\n",
    "![This ap-south-1 badge failed to load. Check your device's internet connectivity, otherwise the service is currently unavailable](https://prod.us-west-2.tcx-beacon.docs.aws.dev/sagemaker-nb/ap-south-1/introduction_to_applying_machine_learning|identify_key_insights_from_textual_document|document_summarization.ipynb)\n"
   ]
  }
 ],
 "metadata": {
  "availableInstances": [
   {
    "_defaultOrder": 0,
    "_isFastLaunch": true,
    "category": "General purpose",
    "gpuNum": 0,
    "hideHardwareSpecs": false,
    "memoryGiB": 4,
    "name": "ml.t3.medium",
    "vcpuNum": 2
   },
   {
    "_defaultOrder": 1,
    "_isFastLaunch": false,
    "category": "General purpose",
    "gpuNum": 0,
    "hideHardwareSpecs": false,
    "memoryGiB": 8,
    "name": "ml.t3.large",
    "vcpuNum": 2
   },
   {
    "_defaultOrder": 2,
    "_isFastLaunch": false,
    "category": "General purpose",
    "gpuNum": 0,
    "hideHardwareSpecs": false,
    "memoryGiB": 16,
    "name": "ml.t3.xlarge",
    "vcpuNum": 4
   },
   {
    "_defaultOrder": 3,
    "_isFastLaunch": false,
    "category": "General purpose",
    "gpuNum": 0,
    "hideHardwareSpecs": false,
    "memoryGiB": 32,
    "name": "ml.t3.2xlarge",
    "vcpuNum": 8
   },
   {
    "_defaultOrder": 4,
    "_isFastLaunch": true,
    "category": "General purpose",
    "gpuNum": 0,
    "hideHardwareSpecs": false,
    "memoryGiB": 8,
    "name": "ml.m5.large",
    "vcpuNum": 2
   },
   {
    "_defaultOrder": 5,
    "_isFastLaunch": false,
    "category": "General purpose",
    "gpuNum": 0,
    "hideHardwareSpecs": false,
    "memoryGiB": 16,
    "name": "ml.m5.xlarge",
    "vcpuNum": 4
   },
   {
    "_defaultOrder": 6,
    "_isFastLaunch": false,
    "category": "General purpose",
    "gpuNum": 0,
    "hideHardwareSpecs": false,
    "memoryGiB": 32,
    "name": "ml.m5.2xlarge",
    "vcpuNum": 8
   },
   {
    "_defaultOrder": 7,
    "_isFastLaunch": false,
    "category": "General purpose",
    "gpuNum": 0,
    "hideHardwareSpecs": false,
    "memoryGiB": 64,
    "name": "ml.m5.4xlarge",
    "vcpuNum": 16
   },
   {
    "_defaultOrder": 8,
    "_isFastLaunch": false,
    "category": "General purpose",
    "gpuNum": 0,
    "hideHardwareSpecs": false,
    "memoryGiB": 128,
    "name": "ml.m5.8xlarge",
    "vcpuNum": 32
   },
   {
    "_defaultOrder": 9,
    "_isFastLaunch": false,
    "category": "General purpose",
    "gpuNum": 0,
    "hideHardwareSpecs": false,
    "memoryGiB": 192,
    "name": "ml.m5.12xlarge",
    "vcpuNum": 48
   },
   {
    "_defaultOrder": 10,
    "_isFastLaunch": false,
    "category": "General purpose",
    "gpuNum": 0,
    "hideHardwareSpecs": false,
    "memoryGiB": 256,
    "name": "ml.m5.16xlarge",
    "vcpuNum": 64
   },
   {
    "_defaultOrder": 11,
    "_isFastLaunch": false,
    "category": "General purpose",
    "gpuNum": 0,
    "hideHardwareSpecs": false,
    "memoryGiB": 384,
    "name": "ml.m5.24xlarge",
    "vcpuNum": 96
   },
   {
    "_defaultOrder": 12,
    "_isFastLaunch": false,
    "category": "General purpose",
    "gpuNum": 0,
    "hideHardwareSpecs": false,
    "memoryGiB": 8,
    "name": "ml.m5d.large",
    "vcpuNum": 2
   },
   {
    "_defaultOrder": 13,
    "_isFastLaunch": false,
    "category": "General purpose",
    "gpuNum": 0,
    "hideHardwareSpecs": false,
    "memoryGiB": 16,
    "name": "ml.m5d.xlarge",
    "vcpuNum": 4
   },
   {
    "_defaultOrder": 14,
    "_isFastLaunch": false,
    "category": "General purpose",
    "gpuNum": 0,
    "hideHardwareSpecs": false,
    "memoryGiB": 32,
    "name": "ml.m5d.2xlarge",
    "vcpuNum": 8
   },
   {
    "_defaultOrder": 15,
    "_isFastLaunch": false,
    "category": "General purpose",
    "gpuNum": 0,
    "hideHardwareSpecs": false,
    "memoryGiB": 64,
    "name": "ml.m5d.4xlarge",
    "vcpuNum": 16
   },
   {
    "_defaultOrder": 16,
    "_isFastLaunch": false,
    "category": "General purpose",
    "gpuNum": 0,
    "hideHardwareSpecs": false,
    "memoryGiB": 128,
    "name": "ml.m5d.8xlarge",
    "vcpuNum": 32
   },
   {
    "_defaultOrder": 17,
    "_isFastLaunch": false,
    "category": "General purpose",
    "gpuNum": 0,
    "hideHardwareSpecs": false,
    "memoryGiB": 192,
    "name": "ml.m5d.12xlarge",
    "vcpuNum": 48
   },
   {
    "_defaultOrder": 18,
    "_isFastLaunch": false,
    "category": "General purpose",
    "gpuNum": 0,
    "hideHardwareSpecs": false,
    "memoryGiB": 256,
    "name": "ml.m5d.16xlarge",
    "vcpuNum": 64
   },
   {
    "_defaultOrder": 19,
    "_isFastLaunch": false,
    "category": "General purpose",
    "gpuNum": 0,
    "hideHardwareSpecs": false,
    "memoryGiB": 384,
    "name": "ml.m5d.24xlarge",
    "vcpuNum": 96
   },
   {
    "_defaultOrder": 20,
    "_isFastLaunch": false,
    "category": "General purpose",
    "gpuNum": 0,
    "hideHardwareSpecs": true,
    "memoryGiB": 0,
    "name": "ml.geospatial.interactive",
    "supportedImageNames": [
     "sagemaker-geospatial-v1-0"
    ],
    "vcpuNum": 0
   },
   {
    "_defaultOrder": 21,
    "_isFastLaunch": true,
    "category": "Compute optimized",
    "gpuNum": 0,
    "hideHardwareSpecs": false,
    "memoryGiB": 4,
    "name": "ml.c5.large",
    "vcpuNum": 2
   },
   {
    "_defaultOrder": 22,
    "_isFastLaunch": false,
    "category": "Compute optimized",
    "gpuNum": 0,
    "hideHardwareSpecs": false,
    "memoryGiB": 8,
    "name": "ml.c5.xlarge",
    "vcpuNum": 4
   },
   {
    "_defaultOrder": 23,
    "_isFastLaunch": false,
    "category": "Compute optimized",
    "gpuNum": 0,
    "hideHardwareSpecs": false,
    "memoryGiB": 16,
    "name": "ml.c5.2xlarge",
    "vcpuNum": 8
   },
   {
    "_defaultOrder": 24,
    "_isFastLaunch": false,
    "category": "Compute optimized",
    "gpuNum": 0,
    "hideHardwareSpecs": false,
    "memoryGiB": 32,
    "name": "ml.c5.4xlarge",
    "vcpuNum": 16
   },
   {
    "_defaultOrder": 25,
    "_isFastLaunch": false,
    "category": "Compute optimized",
    "gpuNum": 0,
    "hideHardwareSpecs": false,
    "memoryGiB": 72,
    "name": "ml.c5.9xlarge",
    "vcpuNum": 36
   },
   {
    "_defaultOrder": 26,
    "_isFastLaunch": false,
    "category": "Compute optimized",
    "gpuNum": 0,
    "hideHardwareSpecs": false,
    "memoryGiB": 96,
    "name": "ml.c5.12xlarge",
    "vcpuNum": 48
   },
   {
    "_defaultOrder": 27,
    "_isFastLaunch": false,
    "category": "Compute optimized",
    "gpuNum": 0,
    "hideHardwareSpecs": false,
    "memoryGiB": 144,
    "name": "ml.c5.18xlarge",
    "vcpuNum": 72
   },
   {
    "_defaultOrder": 28,
    "_isFastLaunch": false,
    "category": "Compute optimized",
    "gpuNum": 0,
    "hideHardwareSpecs": false,
    "memoryGiB": 192,
    "name": "ml.c5.24xlarge",
    "vcpuNum": 96
   },
   {
    "_defaultOrder": 29,
    "_isFastLaunch": true,
    "category": "Accelerated computing",
    "gpuNum": 1,
    "hideHardwareSpecs": false,
    "memoryGiB": 16,
    "name": "ml.g4dn.xlarge",
    "vcpuNum": 4
   },
   {
    "_defaultOrder": 30,
    "_isFastLaunch": false,
    "category": "Accelerated computing",
    "gpuNum": 1,
    "hideHardwareSpecs": false,
    "memoryGiB": 32,
    "name": "ml.g4dn.2xlarge",
    "vcpuNum": 8
   },
   {
    "_defaultOrder": 31,
    "_isFastLaunch": false,
    "category": "Accelerated computing",
    "gpuNum": 1,
    "hideHardwareSpecs": false,
    "memoryGiB": 64,
    "name": "ml.g4dn.4xlarge",
    "vcpuNum": 16
   },
   {
    "_defaultOrder": 32,
    "_isFastLaunch": false,
    "category": "Accelerated computing",
    "gpuNum": 1,
    "hideHardwareSpecs": false,
    "memoryGiB": 128,
    "name": "ml.g4dn.8xlarge",
    "vcpuNum": 32
   },
   {
    "_defaultOrder": 33,
    "_isFastLaunch": false,
    "category": "Accelerated computing",
    "gpuNum": 4,
    "hideHardwareSpecs": false,
    "memoryGiB": 192,
    "name": "ml.g4dn.12xlarge",
    "vcpuNum": 48
   },
   {
    "_defaultOrder": 34,
    "_isFastLaunch": false,
    "category": "Accelerated computing",
    "gpuNum": 1,
    "hideHardwareSpecs": false,
    "memoryGiB": 256,
    "name": "ml.g4dn.16xlarge",
    "vcpuNum": 64
   },
   {
    "_defaultOrder": 35,
    "_isFastLaunch": false,
    "category": "Accelerated computing",
    "gpuNum": 1,
    "hideHardwareSpecs": false,
    "memoryGiB": 61,
    "name": "ml.p3.2xlarge",
    "vcpuNum": 8
   },
   {
    "_defaultOrder": 36,
    "_isFastLaunch": false,
    "category": "Accelerated computing",
    "gpuNum": 4,
    "hideHardwareSpecs": false,
    "memoryGiB": 244,
    "name": "ml.p3.8xlarge",
    "vcpuNum": 32
   },
   {
    "_defaultOrder": 37,
    "_isFastLaunch": false,
    "category": "Accelerated computing",
    "gpuNum": 8,
    "hideHardwareSpecs": false,
    "memoryGiB": 488,
    "name": "ml.p3.16xlarge",
    "vcpuNum": 64
   },
   {
    "_defaultOrder": 38,
    "_isFastLaunch": false,
    "category": "Accelerated computing",
    "gpuNum": 8,
    "hideHardwareSpecs": false,
    "memoryGiB": 768,
    "name": "ml.p3dn.24xlarge",
    "vcpuNum": 96
   },
   {
    "_defaultOrder": 39,
    "_isFastLaunch": false,
    "category": "Memory Optimized",
    "gpuNum": 0,
    "hideHardwareSpecs": false,
    "memoryGiB": 16,
    "name": "ml.r5.large",
    "vcpuNum": 2
   },
   {
    "_defaultOrder": 40,
    "_isFastLaunch": false,
    "category": "Memory Optimized",
    "gpuNum": 0,
    "hideHardwareSpecs": false,
    "memoryGiB": 32,
    "name": "ml.r5.xlarge",
    "vcpuNum": 4
   },
   {
    "_defaultOrder": 41,
    "_isFastLaunch": false,
    "category": "Memory Optimized",
    "gpuNum": 0,
    "hideHardwareSpecs": false,
    "memoryGiB": 64,
    "name": "ml.r5.2xlarge",
    "vcpuNum": 8
   },
   {
    "_defaultOrder": 42,
    "_isFastLaunch": false,
    "category": "Memory Optimized",
    "gpuNum": 0,
    "hideHardwareSpecs": false,
    "memoryGiB": 128,
    "name": "ml.r5.4xlarge",
    "vcpuNum": 16
   },
   {
    "_defaultOrder": 43,
    "_isFastLaunch": false,
    "category": "Memory Optimized",
    "gpuNum": 0,
    "hideHardwareSpecs": false,
    "memoryGiB": 256,
    "name": "ml.r5.8xlarge",
    "vcpuNum": 32
   },
   {
    "_defaultOrder": 44,
    "_isFastLaunch": false,
    "category": "Memory Optimized",
    "gpuNum": 0,
    "hideHardwareSpecs": false,
    "memoryGiB": 384,
    "name": "ml.r5.12xlarge",
    "vcpuNum": 48
   },
   {
    "_defaultOrder": 45,
    "_isFastLaunch": false,
    "category": "Memory Optimized",
    "gpuNum": 0,
    "hideHardwareSpecs": false,
    "memoryGiB": 512,
    "name": "ml.r5.16xlarge",
    "vcpuNum": 64
   },
   {
    "_defaultOrder": 46,
    "_isFastLaunch": false,
    "category": "Memory Optimized",
    "gpuNum": 0,
    "hideHardwareSpecs": false,
    "memoryGiB": 768,
    "name": "ml.r5.24xlarge",
    "vcpuNum": 96
   },
   {
    "_defaultOrder": 47,
    "_isFastLaunch": false,
    "category": "Accelerated computing",
    "gpuNum": 1,
    "hideHardwareSpecs": false,
    "memoryGiB": 16,
    "name": "ml.g5.xlarge",
    "vcpuNum": 4
   },
   {
    "_defaultOrder": 48,
    "_isFastLaunch": false,
    "category": "Accelerated computing",
    "gpuNum": 1,
    "hideHardwareSpecs": false,
    "memoryGiB": 32,
    "name": "ml.g5.2xlarge",
    "vcpuNum": 8
   },
   {
    "_defaultOrder": 49,
    "_isFastLaunch": false,
    "category": "Accelerated computing",
    "gpuNum": 1,
    "hideHardwareSpecs": false,
    "memoryGiB": 64,
    "name": "ml.g5.4xlarge",
    "vcpuNum": 16
   },
   {
    "_defaultOrder": 50,
    "_isFastLaunch": false,
    "category": "Accelerated computing",
    "gpuNum": 1,
    "hideHardwareSpecs": false,
    "memoryGiB": 128,
    "name": "ml.g5.8xlarge",
    "vcpuNum": 32
   },
   {
    "_defaultOrder": 51,
    "_isFastLaunch": false,
    "category": "Accelerated computing",
    "gpuNum": 1,
    "hideHardwareSpecs": false,
    "memoryGiB": 256,
    "name": "ml.g5.16xlarge",
    "vcpuNum": 64
   },
   {
    "_defaultOrder": 52,
    "_isFastLaunch": false,
    "category": "Accelerated computing",
    "gpuNum": 4,
    "hideHardwareSpecs": false,
    "memoryGiB": 192,
    "name": "ml.g5.12xlarge",
    "vcpuNum": 48
   },
   {
    "_defaultOrder": 53,
    "_isFastLaunch": false,
    "category": "Accelerated computing",
    "gpuNum": 4,
    "hideHardwareSpecs": false,
    "memoryGiB": 384,
    "name": "ml.g5.24xlarge",
    "vcpuNum": 96
   },
   {
    "_defaultOrder": 54,
    "_isFastLaunch": false,
    "category": "Accelerated computing",
    "gpuNum": 8,
    "hideHardwareSpecs": false,
    "memoryGiB": 768,
    "name": "ml.g5.48xlarge",
    "vcpuNum": 192
   }
  ],
  "kernelspec": {
   "display_name": "Python 3 (Data Science 3.0)",
   "language": "python",
   "name": "python3__SAGEMAKER_INTERNAL__arn:aws:sagemaker:us-west-2:236514542706:image/sagemaker-data-science-310-v1"
  },
  "language_info": {
   "codemirror_mode": {
    "name": "ipython",
    "version": 3
   },
   "file_extension": ".py",
   "mimetype": "text/x-python",
   "name": "python",
   "nbconvert_exporter": "python",
   "pygments_lexer": "ipython3",
   "version": "3.10.6"
  }
 },
 "nbformat": 4,
 "nbformat_minor": 5
}
