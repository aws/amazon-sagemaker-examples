{
 "cells": [
  {
   "cell_type": "markdown",
   "id": "4a6b3a4e",
   "metadata": {},
   "source": [
    "# TimeSeries Bing Your Own Model"
   ]
  },
  {
   "cell_type": "markdown",
   "id": "52f85a11",
   "metadata": {},
   "source": [
    "---\n",
    "\n",
    "This notebook's CI test result for us-west-2 is as follows. CI test results in other regions can be found at the end of the notebook. \n",
    "\n",
    "![This us-west-2 badge failed to load. Check your device's internet connectivity, otherwise the service is currently unavailable](https://prod.us-west-2.tcx-beacon.docs.aws.dev/sagemaker-nb/us-west-2/sagemaker-clarify|time_series_byom|time_series_bring_your_own_model.ipynb)\n",
    "\n",
    "---"
   ]
  },
  {
   "cell_type": "markdown",
   "id": "f5967044",
   "metadata": {},
   "source": [
    "## Runtime\n",
    "\n",
    "This notebook takes approximately 30 minutes to run."
   ]
  },
  {
   "cell_type": "markdown",
   "id": "3683bcbd",
   "metadata": {},
   "source": [
    "## Prerequisites"
   ]
  },
  {
   "cell_type": "markdown",
   "id": "7efb226e",
   "metadata": {},
   "source": [
    "### Install Mercury\n",
    "\n",
    "If not already installed, the following cell will install the `mercury` package in order to display the `analysis_config.json` and explainability job output within the notebook."
   ]
  },
  {
   "cell_type": "code",
   "execution_count": 1,
   "id": "bc3ffd45",
   "metadata": {},
   "outputs": [
    {
     "name": "stdout",
     "output_type": "stream",
     "text": [
      "\u001b[33mWARNING: Ignoring invalid distribution -otocore (/local/home/zicanl/.virtualenvs/venv/lib/python3.9/site-packages)\u001b[0m\u001b[33m\n",
      "\u001b[0m\u001b[33mWARNING: dj-rest-auth 3.0.0 does not provide the extra 'with-social'\u001b[0m\u001b[33m\n",
      "\u001b[0m\u001b[33mWARNING: Ignoring invalid distribution -otocore (/local/home/zicanl/.virtualenvs/venv/lib/python3.9/site-packages)\u001b[0m\u001b[33m\n",
      "\u001b[0m\u001b[31mERROR: pip's dependency resolver does not currently take into account all the packages that are installed. This behaviour is the source of the following dependency conflicts.\n",
      "awscli 1.31.7 requires botocore==1.33.7, but you have botocore 1.29.165 which is incompatible.\n",
      "awscli 1.31.7 requires s3transfer<0.9.0,>=0.8.0, but you have s3transfer 0.6.2 which is incompatible.\n",
      "sagemaker 2.214.3 requires boto3<2.0,>=1.33.3, but you have boto3 1.26.83 which is incompatible.\u001b[0m\u001b[31m\n",
      "\u001b[0m"
     ]
    }
   ],
   "source": [
    "!pip install mercury -q"
   ]
  },
  {
   "cell_type": "markdown",
   "id": "1686b70e",
   "metadata": {},
   "source": [
    "## Install Development SDK\n",
    "\n",
    "As of 13-12-23, time series explainability (TSX) is in closed beta. The changes to the SDK to support it are not merged into the `sagemaker-python-sdk` repository. Instead, we install a version of the PySDK that does support these changes directly via a wheel file. "
   ]
  },
  {
   "cell_type": "code",
   "execution_count": 2,
   "id": "d8e7a20a",
   "metadata": {},
   "outputs": [
    {
     "name": "stdout",
     "output_type": "stream",
     "text": [
      "\u001b[33mWARNING: Ignoring invalid distribution -otocore (/local/home/zicanl/.virtualenvs/venv/lib/python3.9/site-packages)\u001b[0m\u001b[33m\n",
      "\u001b[0m\u001b[33mWARNING: Skipping c as it is not installed.\u001b[0m\u001b[33m\n",
      "\u001b[0m\u001b[33mWARNING: Ignoring invalid distribution -otocore (/local/home/zicanl/.virtualenvs/venv/lib/python3.9/site-packages)\u001b[0m\u001b[33m\n",
      "\u001b[0mCollecting sagemaker\n",
      "  Using cached sagemaker-2.214.3-py3-none-any.whl.metadata (14 kB)\n",
      "Requirement already satisfied: attrs<24,>=23.1.0 in /local/home/zicanl/.virtualenvs/venv/lib/python3.9/site-packages (from sagemaker) (23.2.0)\n",
      "Collecting boto3<2.0,>=1.33.3 (from sagemaker)\n",
      "  Downloading boto3-1.34.80-py3-none-any.whl.metadata (6.6 kB)\n",
      "Requirement already satisfied: cloudpickle==2.2.1 in /local/home/zicanl/.virtualenvs/venv/lib/python3.9/site-packages (from sagemaker) (2.2.1)\n",
      "Requirement already satisfied: google-pasta in /local/home/zicanl/.virtualenvs/venv/lib/python3.9/site-packages (from sagemaker) (0.2.0)\n",
      "Requirement already satisfied: numpy<2.0,>=1.9.0 in /local/home/zicanl/.virtualenvs/venv/lib/python3.9/site-packages (from sagemaker) (1.26.4)\n",
      "Requirement already satisfied: protobuf<5.0,>=3.12 in /local/home/zicanl/.virtualenvs/venv/lib/python3.9/site-packages (from sagemaker) (4.25.3)\n",
      "Requirement already satisfied: smdebug-rulesconfig==1.0.1 in /local/home/zicanl/.virtualenvs/venv/lib/python3.9/site-packages (from sagemaker) (1.0.1)\n",
      "Requirement already satisfied: importlib-metadata<7.0,>=1.4.0 in /local/home/zicanl/.virtualenvs/venv/lib/python3.9/site-packages (from sagemaker) (6.11.0)\n",
      "Requirement already satisfied: packaging>=20.0 in /local/home/zicanl/.virtualenvs/venv/lib/python3.9/site-packages (from sagemaker) (24.0)\n",
      "Requirement already satisfied: pandas in /local/home/zicanl/.virtualenvs/venv/lib/python3.9/site-packages (from sagemaker) (2.2.1)\n",
      "Requirement already satisfied: pathos in /local/home/zicanl/.virtualenvs/venv/lib/python3.9/site-packages (from sagemaker) (0.3.2)\n",
      "Requirement already satisfied: schema in /local/home/zicanl/.virtualenvs/venv/lib/python3.9/site-packages (from sagemaker) (0.7.5)\n",
      "Requirement already satisfied: PyYAML~=6.0 in /local/home/zicanl/.virtualenvs/venv/lib/python3.9/site-packages (from sagemaker) (6.0)\n",
      "Requirement already satisfied: jsonschema in /local/home/zicanl/.virtualenvs/venv/lib/python3.9/site-packages (from sagemaker) (4.21.1)\n",
      "Requirement already satisfied: platformdirs in /local/home/zicanl/.virtualenvs/venv/lib/python3.9/site-packages (from sagemaker) (4.2.0)\n",
      "Requirement already satisfied: tblib<4,>=1.7.0 in /local/home/zicanl/.virtualenvs/venv/lib/python3.9/site-packages (from sagemaker) (3.0.0)\n",
      "Requirement already satisfied: urllib3<3.0.0,>=1.26.8 in /local/home/zicanl/.virtualenvs/venv/lib/python3.9/site-packages (from sagemaker) (1.26.18)\n",
      "Requirement already satisfied: requests in /local/home/zicanl/.virtualenvs/venv/lib/python3.9/site-packages (from sagemaker) (2.31.0)\n",
      "Requirement already satisfied: docker in /local/home/zicanl/.virtualenvs/venv/lib/python3.9/site-packages (from sagemaker) (7.0.0)\n",
      "Requirement already satisfied: tqdm in /local/home/zicanl/.virtualenvs/venv/lib/python3.9/site-packages (from sagemaker) (4.66.2)\n",
      "Requirement already satisfied: psutil in /local/home/zicanl/.virtualenvs/venv/lib/python3.9/site-packages (from sagemaker) (5.9.8)\n",
      "Collecting botocore<1.35.0,>=1.34.80 (from boto3<2.0,>=1.33.3->sagemaker)\n",
      "  Downloading botocore-1.34.80-py3-none-any.whl.metadata (5.7 kB)\n",
      "Requirement already satisfied: jmespath<2.0.0,>=0.7.1 in /local/home/zicanl/.virtualenvs/venv/lib/python3.9/site-packages (from boto3<2.0,>=1.33.3->sagemaker) (1.0.1)\n",
      "Collecting s3transfer<0.11.0,>=0.10.0 (from boto3<2.0,>=1.33.3->sagemaker)\n",
      "  Using cached s3transfer-0.10.1-py3-none-any.whl.metadata (1.7 kB)\n",
      "Requirement already satisfied: zipp>=0.5 in /local/home/zicanl/.virtualenvs/venv/lib/python3.9/site-packages (from importlib-metadata<7.0,>=1.4.0->sagemaker) (3.18.1)\n",
      "Requirement already satisfied: charset-normalizer<4,>=2 in /local/home/zicanl/.virtualenvs/venv/lib/python3.9/site-packages (from requests->sagemaker) (3.3.2)\n",
      "Requirement already satisfied: idna<4,>=2.5 in /local/home/zicanl/.virtualenvs/venv/lib/python3.9/site-packages (from requests->sagemaker) (3.6)\n",
      "Requirement already satisfied: certifi>=2017.4.17 in /local/home/zicanl/.virtualenvs/venv/lib/python3.9/site-packages (from requests->sagemaker) (2024.2.2)\n",
      "Requirement already satisfied: six in /local/home/zicanl/.virtualenvs/venv/lib/python3.9/site-packages (from google-pasta->sagemaker) (1.16.0)\n",
      "Requirement already satisfied: jsonschema-specifications>=2023.03.6 in /local/home/zicanl/.virtualenvs/venv/lib/python3.9/site-packages (from jsonschema->sagemaker) (2023.12.1)\n",
      "Requirement already satisfied: referencing>=0.28.4 in /local/home/zicanl/.virtualenvs/venv/lib/python3.9/site-packages (from jsonschema->sagemaker) (0.34.0)\n",
      "Requirement already satisfied: rpds-py>=0.7.1 in /local/home/zicanl/.virtualenvs/venv/lib/python3.9/site-packages (from jsonschema->sagemaker) (0.18.0)\n",
      "Requirement already satisfied: python-dateutil>=2.8.2 in /local/home/zicanl/.virtualenvs/venv/lib/python3.9/site-packages (from pandas->sagemaker) (2.9.0.post0)\n",
      "Requirement already satisfied: pytz>=2020.1 in /local/home/zicanl/.virtualenvs/venv/lib/python3.9/site-packages (from pandas->sagemaker) (2024.1)\n",
      "Requirement already satisfied: tzdata>=2022.7 in /local/home/zicanl/.virtualenvs/venv/lib/python3.9/site-packages (from pandas->sagemaker) (2024.1)\n",
      "Requirement already satisfied: ppft>=1.7.6.8 in /local/home/zicanl/.virtualenvs/venv/lib/python3.9/site-packages (from pathos->sagemaker) (1.7.6.8)\n",
      "Requirement already satisfied: dill>=0.3.8 in /local/home/zicanl/.virtualenvs/venv/lib/python3.9/site-packages (from pathos->sagemaker) (0.3.8)\n",
      "Requirement already satisfied: pox>=0.3.4 in /local/home/zicanl/.virtualenvs/venv/lib/python3.9/site-packages (from pathos->sagemaker) (0.3.4)\n",
      "Requirement already satisfied: multiprocess>=0.70.16 in /local/home/zicanl/.virtualenvs/venv/lib/python3.9/site-packages (from pathos->sagemaker) (0.70.16)\n",
      "Requirement already satisfied: contextlib2>=0.5.5 in /local/home/zicanl/.virtualenvs/venv/lib/python3.9/site-packages (from schema->sagemaker) (21.6.0)\n",
      "Using cached sagemaker-2.214.3-py3-none-any.whl (1.4 MB)\n",
      "Downloading boto3-1.34.80-py3-none-any.whl (139 kB)\n",
      "\u001b[2K   \u001b[38;2;114;156;31m━━━━━━━━━━━━━━━━━━━━━━━━━━━━━━━━━━━━━━━━\u001b[0m \u001b[32m139.3/139.3 kB\u001b[0m \u001b[31m4.1 MB/s\u001b[0m eta \u001b[36m0:00:00\u001b[0m\n",
      "\u001b[?25hDownloading botocore-1.34.80-py3-none-any.whl (12.1 MB)\n",
      "\u001b[2K   \u001b[38;2;114;156;31m━━━━━━━━━━━━━━━━━━━━━━━━━━━━━━━━━━━━━━━━\u001b[0m \u001b[32m12.1/12.1 MB\u001b[0m \u001b[31m105.4 MB/s\u001b[0m eta \u001b[36m0:00:00\u001b[0mm eta \u001b[36m0:00:01\u001b[0m6m0:00:01\u001b[0m\n",
      "\u001b[?25hUsing cached s3transfer-0.10.1-py3-none-any.whl (82 kB)\n",
      "\u001b[33mWARNING: Ignoring invalid distribution -otocore (/local/home/zicanl/.virtualenvs/venv/lib/python3.9/site-packages)\u001b[0m\u001b[33m\n",
      "\u001b[0mInstalling collected packages: botocore, s3transfer, boto3, sagemaker\n",
      "  Attempting uninstall: botocore\n",
      "    Found existing installation: botocore 1.29.165\n",
      "    Uninstalling botocore-1.29.165:\n",
      "      Successfully uninstalled botocore-1.29.165\n",
      "  Attempting uninstall: s3transfer\n",
      "    Found existing installation: s3transfer 0.6.2\n",
      "    Uninstalling s3transfer-0.6.2:\n",
      "      Successfully uninstalled s3transfer-0.6.2\n",
      "  Attempting uninstall: boto3\n",
      "    Found existing installation: boto3 1.26.83\n",
      "    Uninstalling boto3-1.26.83:\n",
      "      Successfully uninstalled boto3-1.26.83\n",
      "\u001b[31mERROR: pip's dependency resolver does not currently take into account all the packages that are installed. This behaviour is the source of the following dependency conflicts.\n",
      "awscli 1.31.7 requires botocore==1.33.7, but you have botocore 1.34.80 which is incompatible.\n",
      "awscli 1.31.7 requires s3transfer<0.9.0,>=0.8.0, but you have s3transfer 0.10.1 which is incompatible.\n",
      "mercury 2.3.7 requires boto3==1.26.83, but you have boto3 1.34.80 which is incompatible.\u001b[0m\u001b[31m\n",
      "\u001b[0mSuccessfully installed boto3-1.34.80 botocore-1.34.80 s3transfer-0.10.1 sagemaker-2.214.3\n",
      "\u001b[33mWARNING: Ignoring invalid distribution -otocore (/local/home/zicanl/.virtualenvs/venv/lib/python3.9/site-packages)\u001b[0m\u001b[33m\n",
      "\u001b[0mName: sagemaker\n",
      "Version: 2.214.3\n",
      "Summary: Open source library for training and deploying models on Amazon SageMaker.\n",
      "Home-page: https://github.com/aws/sagemaker-python-sdk/\n",
      "Author: Amazon Web Services\n",
      "Author-email: \n",
      "License: Apache License 2.0\n",
      "Location: /local/home/zicanl/.virtualenvs/venv/lib/python3.9/site-packages\n",
      "Requires: attrs, boto3, cloudpickle, docker, google-pasta, importlib-metadata, jsonschema, numpy, packaging, pandas, pathos, platformdirs, protobuf, psutil, PyYAML, requests, schema, smdebug-rulesconfig, tblib, tqdm, urllib3\n",
      "Required-by: \n"
     ]
    }
   ],
   "source": [
    "!pip uninstall sagemaker -y -q c\n",
    "!pip install sagemaker\n",
    "!pip show sagemaker"
   ]
  },
  {
   "cell_type": "markdown",
   "id": "b7597402",
   "metadata": {},
   "source": [
    "### Import Libraries\n",
    "\n",
    "The model used in this example notebook is DeepAr forecasting model in AWS. For more information, please check https://docs.aws.amazon.com/sagemaker/latest/dg/deepar.html (TODO, change this)\n",
    "\n",
    "Besides, a separate notebook will introduce how to bring your own time series model into TSX."
   ]
  },
  {
   "cell_type": "code",
   "execution_count": 3,
   "id": "fc63eac2",
   "metadata": {},
   "outputs": [
    {
     "name": "stdout",
     "output_type": "stream",
     "text": [
      "sagemaker.config INFO - Not applying SDK defaults from location: /etc/xdg/sagemaker/config.yaml\n",
      "sagemaker.config INFO - Not applying SDK defaults from location: /home/zicanl/.config/sagemaker/config.yaml\n"
     ]
    }
   ],
   "source": [
    "import yaml\n",
    "import pandas as pd\n",
    "import numpy as np\n",
    "import sagemaker\n",
    "import boto3\n",
    "import json\n",
    "import mercury\n",
    "import pprint\n",
    "\n",
    "from sagemaker import get_execution_role\n",
    "\n",
    "session = boto3.Session()\n",
    "s3_client = session.client(\"s3\")\n",
    "sagemaker_session = sagemaker.Session()\n",
    "s3_bucket = sagemaker.Session().default_bucket()\n",
    "region = session.region_name\n",
    "sagemaker_client = boto3.client(\"sagemaker\", region_name=region)\n",
    "sagemaker_role = get_execution_role()\n",
    "\n",
    "endpoint_name = \"timeseries-byom-endpoint\""
   ]
  },
  {
   "cell_type": "markdown",
   "id": "47f2f679",
   "metadata": {},
   "source": [
    "Compress the model package"
   ]
  },
  {
   "cell_type": "code",
   "execution_count": 4,
   "id": "d3b1341d",
   "metadata": {},
   "outputs": [
    {
     "name": "stdout",
     "output_type": "stream",
     "text": [
      "code/\r\n",
      "code/inference.py\r\n",
      "code/requirements.txt\r\n",
      "model.pth\r\n"
     ]
    }
   ],
   "source": [
    "!cd model && tar -czvf ../model.tar.gz code/ model.pth"
   ]
  },
  {
   "cell_type": "markdown",
   "id": "0f8b6f4f",
   "metadata": {},
   "source": [
    "Upload model to S3. The example model is the linear regression model from [darts](https://unit8co.github.io/darts/generated_api/darts.models.forecasting.linear_regression_model.html#linear-regression-model)"
   ]
  },
  {
   "cell_type": "code",
   "execution_count": 10,
   "id": "a21f88cb",
   "metadata": {},
   "outputs": [],
   "source": [
    "bucket_prefix = \"linear_ts\"\n",
    "model_file_path = \"model.tar.gz\"\n",
    "model_s3_suffix = f\"{bucket_prefix}/\" + model_file_path\n",
    "\n",
    "s3_client.upload_file(model_file_path, s3_bucket, model_s3_suffix)"
   ]
  },
  {
   "cell_type": "code",
   "execution_count": 13,
   "id": "7e4c0deb",
   "metadata": {},
   "outputs": [
    {
     "name": "stdout",
     "output_type": "stream",
     "text": [
      "-----------!"
     ]
    }
   ],
   "source": [
    "from sagemaker.pytorch.model import PyTorchModel\n",
    "\n",
    "sagemaker_model = PyTorchModel(\n",
    "    model_data=f\"s3://{s3_bucket}/{model_s3_suffix}\",  # specify S3 location of model.tar.gz\n",
    "    entry_point=\"inference.py\",  # specify entry point\n",
    "    framework_version=\"1.10.2\",\n",
    "    py_version=\"py38\",\n",
    "    role=sagemaker_role,\n",
    ")\n",
    "\n",
    "# deploy model to SageMaker Inference\n",
    "predictor = sagemaker_model.deploy(\n",
    "    initial_instance_count=1,  # number of instances\n",
    "    instance_type=\"ml.m5.4xlarge\",  # ec2 instance type\n",
    "    endpoint_name=endpoint_name,\n",
    ")"
   ]
  },
  {
   "cell_type": "markdown",
   "id": "8b742fda",
   "metadata": {},
   "source": [
    "### Verify the endpoint"
   ]
  },
  {
   "cell_type": "code",
   "execution_count": 14,
   "id": "f6d8871e",
   "metadata": {},
   "outputs": [
    {
     "data": {
      "text/plain": [
       "{'instances': {'target': [1008.89, 1008.76, 1008.66],\n",
       "  'start': '2020-01-01 16:20:00',\n",
       "  'dynamic_feat': [[0.23, 0.21, 0.19, 0.16, 0.13, 0.08, 0.0, 0.0, 0.0],\n",
       "   [0.71, 0.75, 0.73, 0.37, 0.33, 0.34, 0.19, 0.03, 0.11]]}}"
      ]
     },
     "execution_count": 14,
     "metadata": {},
     "output_type": "execute_result"
    }
   ],
   "source": [
    "input_instances = {\n",
    "    \"target\": [1008.89, 1008.76, 1008.66],\n",
    "    \"start\": \"2020-01-01 16:20:00\",\n",
    "    \"dynamic_feat\": [\n",
    "        [0.23, 0.21, 0.19, 0.16, 0.13, 0.08, 0.0, 0.0, 0.0],\n",
    "        [0.71, 0.75, 0.73, 0.37, 0.33, 0.34, 0.19, 0.03, 0.11],\n",
    "    ],\n",
    "}\n",
    "predictor_input = {\n",
    "    \"instances\": input_instances,\n",
    "}\n",
    "predictor_input"
   ]
  },
  {
   "cell_type": "code",
   "execution_count": 15,
   "id": "45105933",
   "metadata": {},
   "outputs": [
    {
     "name": "stdout",
     "output_type": "stream",
     "text": [
      "{'predictions': {'mean': [1008.5656193655171, 1008.511339974418, 1008.4186285678663, 1008.3432658290359, 1008.2426915722609, 1008.1615810491433, 1008.1274301835906, 1008.0939011448609, 1008.0749872974072, 1008.0284006424769]}}\n"
     ]
    }
   ],
   "source": [
    "from sagemaker.serializers import JSONSerializer\n",
    "\n",
    "predictor = sagemaker.predictor.Predictor(\n",
    "    endpoint_name=endpoint_name, sagemaker_session=sagemaker_session, serializer=JSONSerializer()\n",
    ")\n",
    "prediction = predictor.predict(predictor_input)\n",
    "print(json.loads(prediction))"
   ]
  },
  {
   "cell_type": "markdown",
   "id": "5734a7e8",
   "metadata": {},
   "source": [
    "## Time Series Explainability"
   ]
  },
  {
   "cell_type": "markdown",
   "id": "9f1f08b5",
   "metadata": {},
   "source": [
    "### Import Components\n",
    "\n",
    "Import the components needed to make a TSX call."
   ]
  },
  {
   "cell_type": "code",
   "execution_count": 16,
   "id": "57dfe975",
   "metadata": {},
   "outputs": [],
   "source": [
    "from sagemaker.clarify import (\n",
    "    AsymmetricShapleyValueConfig,  # config for the explainability algorithm\n",
    "    DataConfig,  # general-purpose DataConfig. time series-specific data config object is provided to this\n",
    "    ModelConfig,  # general-purpose ModelConfig. time series-specific data config object is provided to this\n",
    "    SageMakerClarifyProcessor,  # processor object, the job call is made via this\n",
    "    TimeSeriesDataConfig,  # time series-specific data config object\n",
    "    TimeSeriesModelConfig,  # time series-specific predictor config object\n",
    "    TimeSeriesJSONDatasetFormat,  # time series-specific dataset format\n",
    ")"
   ]
  },
  {
   "cell_type": "markdown",
   "id": "579eaf7f",
   "metadata": {},
   "source": [
    "### Set Configurations"
   ]
  },
  {
   "cell_type": "code",
   "execution_count": 17,
   "id": "89a87b2e",
   "metadata": {},
   "outputs": [],
   "source": [
    "dataset_name = \"time_series_byom_mock_data.json\"\n",
    "\n",
    "# Content template\n",
    "c_template = '{\"instances\": $record}'\n",
    "# Record template\n",
    "r_template = (\n",
    "    '{\"start\": $start_time, \"target\": $target_time_series, \"dynamic_feat\": $related_time_series}'\n",
    ")\n",
    "\n",
    "s3 = boto3.client(\"s3\")  # s3 client\n",
    "bucket_name = sagemaker.Session().default_bucket()\n",
    "bucket_uri = \"s3://\" + bucket_name + \"/byom/\"\n",
    "\n",
    "s3_client.upload_file(dataset_name, bucket_name, f\"byom/data/{dataset_name}\")"
   ]
  },
  {
   "cell_type": "markdown",
   "id": "3da63ec1",
   "metadata": {},
   "source": [
    "### Asymmetric Shapley value\n",
    "\n",
    "Our time series forecasting explainability algorithm hinges on the application of the asymmetric Shapley values (ASV) from the theory of cooperative games. The ASV is a modification of the well-known Shapley value (e.g SHAP) that discards the symmetry axiom, but retains the efficiency exioms (i.e. attributions sum up to the predictions). Coalitions of features are generated based on a given probability distribution over feature *permutations* (rather than over *subsets* in the case of the Shapley value). In the case of time series, the distributions we use puts zero probability on permutations of features that do not respect the temporal dependencies, i.e. that have \"holes\". \n",
    "\n",
    "**References:**\n",
    "- Our main scientific reference is https://arxiv.org/abs/1910.06358. We scale the approach of the paper to include also static covariates, related time series and implement a stochastic estimator for efficiency.\n",
    "- A very useful math reference is [Probabilistic values by RJ Weber](http://www.library.fa.ru/files/Roth2.pdf#page=109);  specifically, section 8 about random-order values (these are the same mathematical construction of ASV). "
   ]
  },
  {
   "cell_type": "markdown",
   "id": "91f38cc4",
   "metadata": {},
   "source": [
    "### Create `AsymmetricShapleyValueConfig`\n",
    "\n",
    "An `AsymmetricShapleyValueConfig` is used to configure the algorithm Clarify uses for time series explainability. It takes the following arguments:\n",
    "\n",
    "- `direction`: direction of explanation to be used. Available explanation types are `\"chronological\"`, `\"anti_chronological\"`, `\"bidirectional\"`. The cronological direction highlights the effect of older timesteps over more recent one, while the anti-chronological direction higlights the effect of timesteps closer to the forecasting. Bidirectional is a combination of the previous two modes. \n",
    "- `granularity`: Granularity of explanation to be used. Available granularities are `\"timewise\"` and `\"fine_grained\"`. The first granularity is fast and computes the attribution of individual timesteps toward the forecast, not making distinctions of related time series. The fine-grained mode is slower, but computes an attribution for every timestep and every feature dynamic, distinguishing between related and target TS.\n",
    "- `num_samples`: Number of samples to be used in the Asymmetric Shapley Value forecasting algorithm. Only applicable when using `\"fine_grained\"`  explanations. This represents the number of permutations sampled for computing the ASV. "
   ]
  },
  {
   "cell_type": "markdown",
   "id": "3f0b78d1",
   "metadata": {},
   "source": [
    "The notebook sets `explanation_direction` and `granularity` as variables for later reference."
   ]
  },
  {
   "cell_type": "code",
   "execution_count": 18,
   "id": "d4322e53",
   "metadata": {},
   "outputs": [],
   "source": [
    "direction = \"chronological\"\n",
    "granularity = \"fine_grained\""
   ]
  },
  {
   "cell_type": "markdown",
   "id": "1c9f9665",
   "metadata": {},
   "source": [
    "Only then does the notebook create the `AsymmetricShapleyValueConfig` object."
   ]
  },
  {
   "cell_type": "code",
   "execution_count": 19,
   "id": "6a7ab365",
   "metadata": {},
   "outputs": [],
   "source": [
    "asym_shap_val_config = AsymmetricShapleyValueConfig(\n",
    "    direction=direction,\n",
    "    granularity=granularity,\n",
    "    num_samples=2,  # (dimension of target_time_series + dimension of related_time_series) ^ 2\n",
    "    baseline={\n",
    "        \"target_time_series\": \"zero\",\n",
    "        \"related_time_series\": \"zero\",\n",
    "    },\n",
    ")"
   ]
  },
  {
   "cell_type": "markdown",
   "id": "99216f4e",
   "metadata": {},
   "source": [
    "### Create `TimeSeriesDataConfig`\n",
    "\n",
    "A `TimeSeriesDataConfig` object is used to configure data I/O settings specific to TSX. It takes the following arguments:\n",
    "\n",
    "- `target_time_series`: A string or a zero-based integer index. Used to locate the target time series in the shared input dataset. If this parameter is a string, then all other parameters must also be strings or lists of strings. If this parameter is an int, then all others must be ints or lists of ints.\n",
    "- `item_id`: A string or a zero-based integer index. Used to locate item id in the shared input dataset.\n",
    "- `timestamp`: A string or a zero-based integer index. Used to locate timestamp in the shared input dataset.\n",
    "- `related_time_series`: Optional. An array of strings or array of zero-based integer indices. Used to locate all related time series in the shared input dataset (if present).\n",
    "- `static_covariates`: Optional. An array of strings or array of zero-based integer indices. Used to locate all item metadata fields in the shared input dataset (if present).\n",
    "- `dataset_format`: Optional. A string which describes the format of the data files provided for analysis. Should only be provided when dataset is in JSON format. Currently, we support `columns` and `timestamp_records` where example mock data files `ts_cols.json` and `time_series_mock_data.json` are provided respectively.\n",
    "\n",
    "This `TimeSeriesDataConfig` helps the container to parse the data needed for the analysis. Any additional data columns will be excluded if not providing corresponding Jmes_path to locate them."
   ]
  },
  {
   "cell_type": "code",
   "execution_count": 20,
   "id": "ba8c01fd",
   "metadata": {},
   "outputs": [],
   "source": [
    "ts_data_config = TimeSeriesDataConfig(\n",
    "    target_time_series=\"[].p_mbar\",\n",
    "    item_id=\"[].item_id\",\n",
    "    timestamp=\"[].timestamp\",\n",
    "    related_time_series=[\"[].rain_mm\", \"[].T_degC\"],\n",
    "    dataset_format=TimeSeriesJSONDatasetFormat.TIMESTAMP_RECORDS,\n",
    ")"
   ]
  },
  {
   "cell_type": "markdown",
   "id": "bdfe3c76",
   "metadata": {},
   "source": [
    "### Create `TimeSeriesModelConfig`\n",
    "\n",
    "A `TimeSeriesModelConfig` is used to configure model settings specific to TSX. At the moment it has only one argument:\n",
    "\n",
    "- `forecast`: JMESPath expression to extract the forecast result."
   ]
  },
  {
   "cell_type": "code",
   "execution_count": 21,
   "id": "5293be33",
   "metadata": {},
   "outputs": [],
   "source": [
    "ts_model_config = TimeSeriesModelConfig(\n",
    "    forecast=\"predictions.mean\",\n",
    ")"
   ]
  },
  {
   "cell_type": "markdown",
   "id": "a2db05a3",
   "metadata": {},
   "source": [
    "### Create DataConfig\n",
    "\n",
    "General information about the dataset the TimeSeries model uses is provided to `DataConfig`. Here, we are providing where to retrieve the dataset, where to output the explainability job results, what format the dataset is in, and our TSX specific data settings."
   ]
  },
  {
   "cell_type": "code",
   "execution_count": 22,
   "id": "beb1d787",
   "metadata": {},
   "outputs": [
    {
     "data": {
      "text/plain": [
       "'s3://sagemaker-us-west-2-678264136642/byom/data/time_series_byom_mock_data.json'"
      ]
     },
     "execution_count": 22,
     "metadata": {},
     "output_type": "execute_result"
    }
   ],
   "source": [
    "input_uri = bucket_uri + \"data/\" + dataset_name\n",
    "output_path = bucket_uri + \"output_byom\"\n",
    "\n",
    "data_config = DataConfig(\n",
    "    s3_data_input_path=input_uri,\n",
    "    s3_output_path=output_path,\n",
    "    dataset_type=\"application/json\",\n",
    "    time_series_data_config=ts_data_config,\n",
    "    headers=[\"item_id\", \"timestamp\", \"p_mbar\", \"rain_mm\", \"T_degC\"],\n",
    ")"
   ]
  },
  {
   "cell_type": "markdown",
   "id": "ec79d536",
   "metadata": {},
   "source": [
    "### Create ModelConfig\n",
    "\n",
    "With `ModelConfig` is configured here, Clarify will deploy the specified model to a new endpoint."
   ]
  },
  {
   "cell_type": "code",
   "execution_count": 23,
   "id": "989c3839",
   "metadata": {},
   "outputs": [],
   "source": [
    "model_config = ModelConfig(\n",
    "    endpoint_name=endpoint_name,\n",
    "    content_type=\"application/json\",\n",
    "    accept_type=\"application/json\",\n",
    "    content_template=c_template,\n",
    "    record_template=r_template,\n",
    "    time_series_model_config=ts_model_config,\n",
    ")"
   ]
  },
  {
   "cell_type": "markdown",
   "id": "e6b842dd",
   "metadata": {},
   "source": [
    "It is also possible to specify an existing endpoint for Clarify to use with the following modifications to the `ModifyConfig` call:\n",
    "\n",
    "1. Omitting `model_name`, `instance_count`, `instance_type`, and `endpoint_name_prefix`.\n",
    "2. Provided `endpoint_name`."
   ]
  },
  {
   "cell_type": "markdown",
   "id": "1b51a3d5",
   "metadata": {},
   "source": [
    "### Setup Processor"
   ]
  },
  {
   "cell_type": "markdown",
   "id": "8ff26353",
   "metadata": {},
   "source": [
    "Create the `Processor` object that will setup the explainability job."
   ]
  },
  {
   "cell_type": "code",
   "execution_count": 24,
   "id": "dbb9d71a",
   "metadata": {},
   "outputs": [],
   "source": [
    "instance_count = 1\n",
    "instance_type = \"ml.c5.2xlarge\"\n",
    "\n",
    "clarify_processor = SageMakerClarifyProcessor(\n",
    "    role=sagemaker_role,\n",
    "    sagemaker_session=sagemaker_session,\n",
    "    instance_count=instance_count,\n",
    "    instance_type=instance_type,\n",
    "    job_name_prefix=\"clarify-tsx-byom-job-demo\",\n",
    ")"
   ]
  },
  {
   "cell_type": "markdown",
   "id": "51509d50",
   "metadata": {},
   "source": [
    "### Run Explainability Call"
   ]
  },
  {
   "cell_type": "code",
   "execution_count": 25,
   "id": "217a97a0",
   "metadata": {},
   "outputs": [
    {
     "name": "stderr",
     "output_type": "stream",
     "text": [
      "INFO:sagemaker:Creating processing-job with name clarify-tsx-byom-job-demo-2024-04-09-17-54-47-904\n"
     ]
    },
    {
     "name": "stdout",
     "output_type": "stream",
     "text": [
      ".................................WARNING:root:logging.conf not found when configuring logging, using default logging configuration.\n",
      "INFO:sagemaker-clarify-processing:Starting SageMaker Clarify Processing job\n",
      "INFO:analyzer.data_loading.data_loader_util:Analysis config path: /opt/ml/processing/input/config/analysis_config.json\n",
      "INFO:analyzer.data_loading.data_loader_util:Analysis result path: /opt/ml/processing/output\n",
      "INFO:analyzer.data_loading.data_loader_util:This host is algo-1.\n",
      "INFO:analyzer.data_loading.data_loader_util:This host is the leader.\n",
      "INFO:analyzer.data_loading.data_loader_util:Number of hosts in the cluster is 1.\n",
      "Setting default log level to \"WARN\".\n",
      "To adjust logging level use sc.setLogLevel(newLevel). For SparkR, use setLogLevel(newLevel).\n",
      "24/04/09 18:00:13 WARN NativeCodeLoader: Unable to load native-hadoop library for your platform... using builtin-java classes where applicable\n",
      "#015[Stage 0:>                                                          (0 + 8) / 8]#015#015                                                                                #015#015[Stage 4:===================================================>       (7 + 1) / 8]#015#015                                                                                #015INFO:analyzer.predictor.managed_endpoint:Using endpoint timeseries-byom-endpoint\n",
      "INFO:analyzer.predictor.managed_endpoint:Checking endpoint status:\n",
      "Legend:\n",
      "(OutOfService: x, Creating: -, Updating: -, InService: !, RollingBack: <, Deleting: o, Failed: *)\n",
      "INFO:analyzer.predictor.managed_endpoint:Endpoint is in service after 0 seconds\n",
      "INFO:analyzer.predictor.predictor:Stop using endpoint: timeseries-byom-endpoint\n",
      "INFO:analyzer.predictor.managed_endpoint:Model endpoint delivered 13.08402 requests per second and a total of 1 requests over 0 seconds\n",
      "#015[Stage 12:>                                                         (0 + 1) / 1]#015#015                                                                                #015INFO:sagemaker-clarify-processing:Wrote 2 lines to /opt/ml/processing/output/asymmetric_shapley_value/fine_grained_chronological/out.jsonl\n",
      "INFO:sagemaker-clarify-processing:Collected analyses: \n",
      "{'version': '1.0', 'explanations': {'asymmetric_shapley_value': {'direction': 'chronological', 'granularity': 'fine_grained', 'explanation_results_path': 's3://sagemaker-us-west-2-678264136642/byom/output_byom/asymmetric_shapley_value/fine_grained_chronological/out.jsonl'}}}\n",
      "INFO:analyzer.utils.system_util:exit_message: Completed: SageMaker XAI Analyzer ran successfully\n",
      "INFO:py4j.clientserver:Closing down clientserver connection\n",
      "\n"
     ]
    }
   ],
   "source": [
    "clarify_processor.run_explainability(\n",
    "    data_config=data_config,\n",
    "    model_config=model_config,\n",
    "    explainability_config=asym_shap_val_config,\n",
    ")"
   ]
  },
  {
   "cell_type": "markdown",
   "id": "d2c356dc",
   "metadata": {},
   "source": [
    "## Analysis Config"
   ]
  },
  {
   "cell_type": "markdown",
   "id": "ac331d5b",
   "metadata": {},
   "source": [
    "### Retrieve Config From s3"
   ]
  },
  {
   "cell_type": "code",
   "execution_count": 26,
   "id": "1687d7dd",
   "metadata": {},
   "outputs": [],
   "source": [
    "s3.download_file(bucket_name, \"byom/output_byom/analysis_config.json\", \"analysis_config.json\")"
   ]
  },
  {
   "cell_type": "markdown",
   "id": "14f223ac",
   "metadata": {},
   "source": [
    "### Display Config"
   ]
  },
  {
   "cell_type": "code",
   "execution_count": 27,
   "id": "407a475b",
   "metadata": {},
   "outputs": [
    {
     "name": "stdout",
     "output_type": "stream",
     "text": [
      "{'dataset_type': 'application/json',\n",
      " 'headers': ['item_id', 'timestamp', 'p_mbar', 'rain_mm', 'T_degC'],\n",
      " 'methods': {'asymmetric_shapley_value': {'baseline': {'related_time_series': 'zero', 'target_time_series': 'zero'}, 'direction': 'chronological', 'granularity': 'fine_grained', 'num_samples': 2},\n",
      "             'report': {'name': 'report', 'title': 'Analysis Report'}},\n",
      " 'predictor': {'accept_type': 'application/json',\n",
      "               'content_template': '{\"instances\": $record}',\n",
      "               'content_type': 'application/json',\n",
      "               'endpoint_name': 'timeseries-byom-endpoint',\n",
      "               'record_template': '{\"start\": $start_time, \"target\": $target_time_series, \"dynamic_feat\": $related_time_series}',\n",
      "               'time_series_predictor_config': {'forecast': 'predictions.mean'}},\n",
      " 'time_series_data_config': {'dataset_format': 'timestamp_records',\n",
      "                             'item_id': '[].item_id',\n",
      "                             'related_time_series': ['[].rain_mm', '[].T_degC'],\n",
      "                             'target_time_series': '[].p_mbar',\n",
      "                             'timestamp': '[].timestamp'}}\n"
     ]
    }
   ],
   "source": [
    "with open(\"./analysis_config.json\", \"r\") as analyis_config_file:\n",
    "    analysis_config = json.load(analyis_config_file)\n",
    "    # mercury.JSON(analysis_config, level = 3)\n",
    "    config_printer = pprint.PrettyPrinter(width=200, compact=False)\n",
    "    config_printer.pprint(analysis_config)"
   ]
  },
  {
   "cell_type": "markdown",
   "id": "e1565873",
   "metadata": {},
   "source": [
    "## Explainability Results"
   ]
  },
  {
   "cell_type": "markdown",
   "id": "58809d08",
   "metadata": {},
   "source": [
    "### Retrieve Results From s3"
   ]
  },
  {
   "cell_type": "code",
   "execution_count": 28,
   "id": "b51a4fb2",
   "metadata": {},
   "outputs": [],
   "source": [
    "full_result_path = f\"byom/output_byom/asymmetric_shapley_value/{granularity}_{direction}/out.jsonl\"\n",
    "\n",
    "s3.download_file(bucket_name, full_result_path, \"results.jsonl\")"
   ]
  },
  {
   "cell_type": "markdown",
   "id": "194b1a00",
   "metadata": {},
   "source": [
    "### Display Results"
   ]
  },
  {
   "cell_type": "code",
   "execution_count": 30,
   "id": "abc177c9",
   "metadata": {},
   "outputs": [
    {
     "data": {
      "text/html": [
       "<style>.renderjson a              { text-decoration: none; }\n",
       ".renderjson .disclosure    { color: grey; font-size: 125%; }\n",
       ".renderjson .syntax        { color: grey; }\n",
       ".renderjson .string        { color: #fe46a5; }\n",
       ".renderjson .number        { color: #0f9b8e; }\n",
       ".renderjson .boolean       { color: black; }\n",
       ".renderjson .key           { color: #2684ff; }\n",
       ".renderjson .keyword       { color: gray; }\n",
       ".renderjson .object.syntax { color: gray; }\n",
       ".renderjson .array.syntax  { color: gray; }</style><div id=\"3e089374-ac60-4217-b7a9-14bd937b61ff\"></div>"
      ],
      "text/plain": [
       "<IPython.core.display.HTML object>"
      ]
     },
     "metadata": {},
     "output_type": "display_data"
    },
    {
     "data": {
      "text/html": [
       "<script>var renderjson=function(){var t=function(){for(var t=[];arguments.length;)t.push(n(s(Array.prototype.shift.call(arguments)),o(Array.prototype.shift.call(arguments))));return t},n=function(){for(var t=Array.prototype.shift.call(arguments),e=0;e<arguments.length;e++)arguments[e].constructor==Array?n.apply(this,[t].concat(arguments[e])):t.appendChild(arguments[e]);return t},e=function(t,n){return t.insertBefore(n,t.firstChild),t},r=function(t,n){var e=n||Object.keys(t);for(var r in e)if(Object.hasOwnProperty.call(t,e[r]))return!1;return!0},o=function(t){return document.createTextNode(t)},s=function(t){var n=document.createElement(\"span\");return t&&(n.className=t),n},l=function(t,n,e){var r=document.createElement(\"a\");return n&&(r.className=n),r.appendChild(o(t)),r.href=\"#\",r.onclick=function(t){return e(),t&&t.stopPropagation(),!1},r};function a(i,c,u,p,y){var _=u?\"\":c,f=function(r,a,i,c,u){var f,g=s(c),h=function(){f||n(g.parentNode,f=e(u(),l(y.hide,\"disclosure\",(function(){f.style.display=\"none\",g.style.display=\"inline\"})))),f.style.display=\"inline\",g.style.display=\"none\"};n(g,l(y.show,\"disclosure\",h),t(c+\" syntax\",r),l(a,null,h),t(c+\" syntax\",i));var d=n(s(),o(_.slice(0,-1)),g);return p>0&&\"string\"!=c&&h(),d};return null===i?t(null,_,\"keyword\",\"null\"):void 0===i?t(null,_,\"keyword\",\"undefined\"):\"string\"==typeof i&&i.length>y.max_string_length?f('\"',i.substr(0,y.max_string_length)+\" ...\",'\"',\"string\",(function(){return n(s(\"string\"),t(null,_,\"string\",JSON.stringify(i)))})):\"object\"!=typeof i||[Number,String,Boolean,Date].indexOf(i.constructor)>=0?t(null,_,typeof i,JSON.stringify(i)):i.constructor==Array?0==i.length?t(null,_,\"array syntax\",\"[]\"):f(\"[\",y.collapse_msg(i.length),\"]\",\"array\",(function(){for(var e=n(s(\"array\"),t(\"array syntax\",\"[\",null,\"\\n\")),r=0;r<i.length;r++)n(e,a(y.replacer.call(i,r,i[r]),c+\"    \",!1,p-1,y),r!=i.length-1?t(\"syntax\",\",\"):[],o(\"\\n\"));return n(e,t(null,c,\"array syntax\",\"]\")),e})):r(i,y.property_list)?t(null,_,\"object syntax\",\"{}\"):f(\"{\",y.collapse_msg(Object.keys(i).length),\"}\",\"object\",(function(){var e=n(s(\"object\"),t(\"object syntax\",\"{\",null,\"\\n\"));for(var r in i)var l=r;var u=y.property_list||Object.keys(i);for(var _ in y.sort_objects&&(u=u.sort()),u){(r=u[_])in i&&n(e,t(null,c+\"    \",\"key\",'\"'+r+'\"',\"object syntax\",\": \"),a(y.replacer.call(i,r,i[r]),c+\"    \",!0,p-1,y),r!=l?t(\"syntax\",\",\"):[],o(\"\\n\"))}return n(e,t(null,c,\"object syntax\",\"}\")),e}))}var i=function t(e){var r=new Object(t.options);r.replacer=\"function\"==typeof r.replacer?r.replacer:function(t,n){return n};var o=n(document.createElement(\"pre\"),a(e,\"\",!1,r.show_to_level,r));return o.className=\"renderjson\",o};return i.set_icons=function(t,n){return i.options.show=t,i.options.hide=n,i},i.set_show_to_level=function(t){return i.options.show_to_level=\"string\"==typeof t&&\"all\"===t.toLowerCase()?Number.MAX_VALUE:t,i},i.set_max_string_length=function(t){return i.options.max_string_length=\"string\"==typeof t&&\"none\"===t.toLowerCase()?Number.MAX_VALUE:t,i},i.set_sort_objects=function(t){return i.options.sort_objects=t,i},i.set_replacer=function(t){return i.options.replacer=t,i},i.set_collapse_msg=function(t){return i.options.collapse_msg=t,i},i.set_property_list=function(t){return i.options.property_list=t,i},i.set_show_by_default=function(t){return i.options.show_to_level=t?Number.MAX_VALUE:0,i},i.options={},i.set_icons(\"⊕\",\"⊖\"),i.set_show_by_default(!1),i.set_sort_objects(!1),i.set_max_string_length(\"none\"),i.set_replacer(void 0),i.set_property_list(void 0),i.set_collapse_msg((function(t){return t+\" item\"+(1==t?\"\":\"s\")})),i}(); renderjson.set_show_to_level(5); document.getElementById(\"3e089374-ac60-4217-b7a9-14bd937b61ff\").appendChild(renderjson([{'item_id': 'sanjose', 'offset': [47.44921461578576, 100.62646867069782, 152.21050681227143, 191.15803860751862, 234.3224739726919, 284.7873864453612, 330.3183057947489, 367.38654787214057, 393.2080365560922, 423.5261096178664], 'explanations': [{'feature_name': 'p_mbar', 'timestamp': '2020-01-01 16:20:00', 'scores': [161.99614546052845, 266.016195372142, 171.97547245396632, -171.07476604383538, -313.64334361631256, -239.94510772430738, -85.12952959394124, -57.90547536857713, -207.1411908350123, -379.59127645091314]}, {'feature_name': 'p_mbar', 'timestamp': '2020-01-01 16:30:00', 'scores': [-242.53171819948116, -178.51561960848613, 20.504771980246773, 283.65833398610687, 116.71883538707854, -102.86798765521404, -146.4874269981686, 8.14449669685348, 194.95205623712206, 223.11109391304646]}, {'feature_name': 'p_mbar', 'timestamp': '2020-01-01 16:40:00', 'scores': [1010.1941985733024, 795.0553673348827, 642.8274810307071, 682.7588591520664, 942.0005592421893, 1034.9501875444607, 882.5456028112928, 669.6075075328768, 607.9790225048051, 718.9410031751296]}, {'feature_name': 'rain_mm', 'timestamp': '2020-01-01 16:20:00', 'scores': [0.0, 0.0, 0.0, 0.0, 0.0, 0.0, 0.0, 0.0, 0.0, 0.0]}, {'feature_name': 'rain_mm', 'timestamp': '2020-01-01 16:30:00', 'scores': [0.0, 0.0, 0.0, 0.0, 0.0, 0.0, 0.0, 0.0, 0.0, 0.0]}, {'feature_name': 'rain_mm', 'timestamp': '2020-01-01 16:40:00', 'scores': [0.0, 0.0, 0.0, 0.0, 0.0, 0.0, 0.0, 0.0, 0.0, 0.0]}, {'feature_name': 'rain_mm', 'timestamp': '2020-01-01 16:50:00', 'scores': [0.0, 0.0, 0.0, 0.0, 0.0, 0.0, 0.0, 0.0, 0.0, 0.0]}, {'feature_name': 'rain_mm', 'timestamp': '2020-01-01 17:00:00', 'scores': [0.0, 0.0, 0.0, 0.0, 0.0, 0.0, 0.0, 0.0, 0.0, 0.0]}, {'feature_name': 'rain_mm', 'timestamp': '2020-01-01 17:10:00', 'scores': [0.0, 0.0, 0.0, 0.0, 0.0, 0.0, 0.0, 0.0, 0.0, 0.0]}, {'feature_name': 'rain_mm', 'timestamp': '2020-01-01 17:20:00', 'scores': [0.0, 0.0, 0.0, 0.0, 0.0, 0.0, 0.0, 0.0, 0.0, 0.0]}, {'feature_name': 'rain_mm', 'timestamp': '2020-01-01 17:30:00', 'scores': [0.0, 0.0, 0.0, 0.0, 0.0, 0.0, 0.0, 0.0, 0.0, 0.0]}, {'feature_name': 'rain_mm', 'timestamp': '2020-01-01 17:40:00', 'scores': [0.0, 0.0, 0.0, 0.0, 0.0, 0.0, 0.0, 0.0, 0.0, 0.0]}, {'feature_name': 'T_degC', 'timestamp': '2020-01-01 16:20:00', 'scores': [-0.08714719958849315, 0.0703500467022451, 0.057821527911897874, 0.09521297487265201, 0.23166626729974382, 0.35016081212063455, 0.5944301743015217, 0.7031256598848472, 0.7530252031138502, 0.8773061468182846]}, {'feature_name': 'T_degC', 'timestamp': '2020-01-01 16:30:00', 'scores': [0.25522850377080886, -0.023008325401406182, 0.08935537901513158, 0.07432224632441375, -0.02099284843376381, 0.038080458192425226, -0.12744614800971021, -0.044815576172311467, 0.007387391643177921, -0.07124181014810915]}, {'feature_name': 'T_degC', 'timestamp': '2020-01-01 16:40:00', 'scores': [-0.28369788212489766, 0.0005212027526795282, -0.15772370675017555, -0.0051055361683438605, -0.03238935407966892, -0.21258560003138882, -0.15587474690755698, -0.2650242940226235, -0.12797639289135532, -0.022552261672558416]}, {'feature_name': 'T_degC', 'timestamp': '2020-01-01 16:50:00', 'scores': [0.10025229473171748, -0.20299805713239039, 0.0036295981972216396, -0.15789278404247398, -0.04784570674723909, -0.011186161681962403, -0.16199305896884653, -0.120134946101075, -0.23073982878611332, -0.13886565144207452]}, {'feature_name': 'T_degC', 'timestamp': '2020-01-01 17:00:00', 'scores': [-0.05089328385463432, 0.016269546530566004, -0.18819813736070046, -0.22929538149924156, -0.37628273091195297, -0.4463468139155111, -0.47193314366836603, -0.6292941653790649, -0.7734106313403117, -1.0187577778201558]}, {'feature_name': 'T_degC', 'timestamp': '2020-01-01 17:10:00', 'scores': [0.0, 0.0, 0.0, 0.0, 0.0, 0.0, 0.0, 0.0, 0.0, 0.0]}, {'feature_name': 'T_degC', 'timestamp': '2020-01-01 17:20:00', 'scores': [0.0, 0.0, 0.0, 0.0, 0.0, 0.0, 0.0, 0.0, 0.0, 0.0]}, {'feature_name': 'T_degC', 'timestamp': '2020-01-01 17:30:00', 'scores': [0.0, 0.0, 0.0, 0.0, 0.0, 0.0, 0.0, 0.0, 0.0, 0.0]}, {'feature_name': 'T_degC', 'timestamp': '2020-01-01 17:40:00', 'scores': [0.0, 0.0, 0.0, 0.0, 0.0, 0.0, 0.0, 0.0, 0.0, 0.0]}]}, {'item_id': 'seattle', 'offset': [47.44921461578576, 100.62646867069782, 152.21050681227143, 191.15803860751862, 234.3224739726919, 284.7873864453612, 330.3183057947489, 367.38654787214057, 393.2080365560922, 423.5261096178664], 'explanations': [{'feature_name': 'p_mbar', 'timestamp': '2020-01-01 16:20:00', 'scores': [162.6069955165382, 267.01928101581973, 172.62395224761923, -171.7198494816089, -314.82602023784847, -240.84988531686048, -85.45053339173353, -58.12382354452666, -207.92227243213168, -381.02262749832033]}, {'feature_name': 'p_mbar', 'timestamp': '2020-01-01 16:30:00', 'scores': [-243.41488016208197, -179.16567151154757, 20.57943864570069, 284.6912555883247, 117.14385870567043, -103.24257409916794, -147.02085052101535, 8.174154300982877, 195.66196025247172, 223.92353705673543]}, {'feature_name': 'p_mbar', 'timestamp': '2020-01-01 16:40:00', 'scores': [1041.9487078011975, 820.0471887434583, 663.0341612978905, 704.2207449201605, 971.6114652376747, 1067.4828781174288, 910.2875978931188, 690.6559928706965, 627.0902740916401, 741.5402407790272]}, {'feature_name': 'rain_mm', 'timestamp': '2020-01-01 16:20:00', 'scores': [0.0, 0.0, 0.0, 0.0, 0.0, 0.0, 0.0, 0.0, 0.0, 0.0]}, {'feature_name': 'rain_mm', 'timestamp': '2020-01-01 16:30:00', 'scores': [0.0, 0.0, 0.0, 0.0, 0.0, 0.0, 0.0, 0.0, 0.0, 0.0]}, {'feature_name': 'rain_mm', 'timestamp': '2020-01-01 16:40:00', 'scores': [0.0, 0.0, 0.0, 0.0, 0.0, 0.0, 0.0, 0.0, 0.0, 0.0]}, {'feature_name': 'rain_mm', 'timestamp': '2020-01-01 16:50:00', 'scores': [0.0, 0.0, 0.0, 0.0, 0.0, 0.0, 0.0, 0.0, 0.0, 0.0]}, {'feature_name': 'rain_mm', 'timestamp': '2020-01-01 17:00:00', 'scores': [0.0, 0.0, 0.0, 0.0, 0.0, 0.0, 0.0, 0.0, 0.0, 0.0]}, {'feature_name': 'rain_mm', 'timestamp': '2020-01-01 17:10:00', 'scores': [0.0, 0.0, 0.0, 0.0, 0.0, 0.0, 0.0, 0.0, 0.0, 0.0]}, {'feature_name': 'rain_mm', 'timestamp': '2020-01-01 17:20:00', 'scores': [0.0, 0.0, 0.0, 0.0, 0.0, 0.0, 0.0, 0.0, 0.0, 0.0]}, {'feature_name': 'rain_mm', 'timestamp': '2020-01-01 17:30:00', 'scores': [0.0, 0.0, 0.0, 0.0, 0.0, 0.0, 0.0, 0.0, 0.0, 0.0]}, {'feature_name': 'rain_mm', 'timestamp': '2020-01-01 17:40:00', 'scores': [0.0, 0.0, 0.0, 0.0, 0.0, 0.0, 0.0, 0.0, 0.0, 0.0]}, {'feature_name': 'T_degC', 'timestamp': '2020-01-01 16:20:00', 'scores': [-0.024949399882189027, 0.020140537563975158, 0.016553743877977922, 0.02725855329015303, 0.06632381039628399, 0.10024765185710294, 0.17017960635243412, 0.2012980719831603, 0.21558382831082668, 0.25116425977461176]}, {'feature_name': 'T_degC', 'timestamp': '2020-01-01 16:30:00', 'scores': [0.07942795760502008, -0.007160267241090423, 0.027807690564884524, 0.023129329769005835, -0.006533044118384623, 0.011850764997632268, -0.03966166431837337, -0.013946756070254196, 0.0022989808018110125, -0.022170687805441958]}, {'feature_name': 'T_degC', 'timestamp': '2020-01-01 16:40:00', 'scores': [-0.08738373584442627, 0.00016053924463221847, -0.048581563682574824, -0.0015725913092694555, -0.009976467712306203, -0.06547995275235508, -0.04801205284483956, -0.08163195554277536, -0.03941888894971157, -0.006946477224005321]}, {'feature_name': 'T_degC', 'timestamp': '2020-01-01 16:50:00', 'scores': [0.015455562104534692, -0.03129553380813377, 0.0005595630553898445, -0.02434180420652865, -0.007376213123507114, -0.0017245332592210616, -0.024973929924499316, -0.018520804190529816, -0.03557239027111336, -0.02140845459734919]}, {'feature_name': 'T_degC', 'timestamp': '2020-01-01 17:00:00', 'scores': [-0.006968789905386075, 0.0022277802303278804, -0.0257698694310875, -0.03139729290239757, -0.051524191369708205, -0.061118028461464746, -0.06462155079282184, -0.08616891061205934, -0.10590270055695328, -0.1394979529795819]}, {'feature_name': 'T_degC', 'timestamp': '2020-01-01 17:10:00', 'scores': [0.0, 0.0, 0.0, 0.0, 0.0, 0.0, 0.0, 0.0, 0.0, 0.0]}, {'feature_name': 'T_degC', 'timestamp': '2020-01-01 17:20:00', 'scores': [0.0, 0.0, 0.0, 0.0, 0.0, 0.0, 0.0, 0.0, 0.0, 0.0]}, {'feature_name': 'T_degC', 'timestamp': '2020-01-01 17:30:00', 'scores': [0.0, 0.0, 0.0, 0.0, 0.0, 0.0, 0.0, 0.0, 0.0, 0.0]}, {'feature_name': 'T_degC', 'timestamp': '2020-01-01 17:40:00', 'scores': [0.0, 0.0, 0.0, 0.0, 0.0, 0.0, 0.0, 0.0, 0.0, 0.0]}]}]))</script>"
      ],
      "text/plain": [
       "<IPython.core.display.HTML object>"
      ]
     },
     "metadata": {},
     "output_type": "display_data"
    }
   ],
   "source": [
    "with open(\"./results.jsonl\", \"r\") as results_file:\n",
    "    results_lines = results_file.readlines()\n",
    "    explainability_results = [json.loads(jsonline) for jsonline in results_lines]\n",
    "    mercury.JSON(explainability_results, level=5)\n",
    "    # results_printer = pprint.PrettyPrinter(width = 200, depth = 5, compact = False)\n",
    "    # results_printer.pprint(explainability_results)"
   ]
  },
  {
   "cell_type": "markdown",
   "id": "614fa80c",
   "metadata": {},
   "source": [
    "## Clean Up\n",
    "\n",
    "Remove downloaded/installed files and deployed resources as necessary."
   ]
  },
  {
   "cell_type": "code",
   "execution_count": 31,
   "id": "1319d577",
   "metadata": {},
   "outputs": [
    {
     "data": {
      "text/plain": [
       "{'ResponseMetadata': {'RequestId': 'ee756241-e28a-4dfb-ae34-42ca6f0e270f',\n",
       "  'HTTPStatusCode': 200,\n",
       "  'HTTPHeaders': {'x-amzn-requestid': 'ee756241-e28a-4dfb-ae34-42ca6f0e270f',\n",
       "   'content-type': 'application/x-amz-json-1.1',\n",
       "   'date': 'Tue, 09 Apr 2024 18:01:10 GMT',\n",
       "   'content-length': '0'},\n",
       "  'RetryAttempts': 0}}"
      ]
     },
     "execution_count": 31,
     "metadata": {},
     "output_type": "execute_result"
    }
   ],
   "source": [
    "# remove the model, endpoint_config and endpoint from sagemaker\n",
    "boto3.client(\"sagemaker\").delete_endpoint_config(EndpointConfigName=endpoint_name)\n",
    "boto3.client(\"sagemaker\").delete_endpoint(EndpointName=endpoint_name)"
   ]
  },
  {
   "cell_type": "markdown",
   "id": "437eccbf",
   "metadata": {},
   "source": [
    "## Notebook CI Test Results\n",
    "\n",
    "This notebook was tested in multiple regions. The test results are as follows, except for us-west-2 which is shown at the top of the notebook.\n",
    "\n",
    "![This us-east-1 badge failed to load. Check your device's internet connectivity, otherwise the service is currently unavailable](https://prod.us-west-2.tcx-beacon.docs.aws.dev/sagemaker-nb/us-east-1/sagemaker-clarify|time_series_byom|time_series_bring_your_own_model.ipynb)\n",
    "\n",
    "![This us-east-2 badge failed to load. Check your device's internet connectivity, otherwise the service is currently unavailable](https://prod.us-west-2.tcx-beacon.docs.aws.dev/sagemaker-nb/us-east-2/sagemaker-clarify|time_series_byom|time_series_bring_your_own_model.ipynb)\n",
    "\n",
    "![This us-west-1 badge failed to load. Check your device's internet connectivity, otherwise the service is currently unavailable](https://prod.us-west-2.tcx-beacon.docs.aws.dev/sagemaker-nb/us-west-1/sagemaker-clarify|time_series_byom|time_series_bring_your_own_model.ipynb)\n",
    "\n",
    "![This ca-central-1 badge failed to load. Check your device's internet connectivity, otherwise the service is currently unavailable](https://prod.us-west-2.tcx-beacon.docs.aws.dev/sagemaker-nb/ca-central-1/sagemaker-clarify|time_series_byom|time_series_bring_your_own_model.ipynb)\n",
    "\n",
    "![This sa-east-1 badge failed to load. Check your device's internet connectivity, otherwise the service is currently unavailable](https://prod.us-west-2.tcx-beacon.docs.aws.dev/sagemaker-nb/sa-east-1/sagemaker-clarify|time_series_byom|time_series_bring_your_own_model.ipynb)\n",
    "\n",
    "![This eu-west-1 badge failed to load. Check your device's internet connectivity, otherwise the service is currently unavailable](https://prod.us-west-2.tcx-beacon.docs.aws.dev/sagemaker-nb/eu-west-1/sagemaker-clarify|time_series_byom|time_series_bring_your_own_model.ipynb)\n",
    "\n",
    "![This eu-west-2 badge failed to load. Check your device's internet connectivity, otherwise the service is currently unavailable](https://prod.us-west-2.tcx-beacon.docs.aws.dev/sagemaker-nb/eu-west-2/sagemaker-clarify|time_series_byom|time_series_bring_your_own_model.ipynb)\n",
    "\n",
    "![This eu-west-3 badge failed to load. Check your device's internet connectivity, otherwise the service is currently unavailable](https://prod.us-west-2.tcx-beacon.docs.aws.dev/sagemaker-nb/eu-west-3/sagemaker-clarify|time_series_byom|time_series_bring_your_own_model.ipynb)\n",
    "\n",
    "![This eu-central-1 badge failed to load. Check your device's internet connectivity, otherwise the service is currently unavailable](https://prod.us-west-2.tcx-beacon.docs.aws.dev/sagemaker-nb/eu-central-1/sagemaker-clarify|time_series_byom|time_series_bring_your_own_model.ipynb)\n",
    "\n",
    "![This eu-north-1 badge failed to load. Check your device's internet connectivity, otherwise the service is currently unavailable](https://prod.us-west-2.tcx-beacon.docs.aws.dev/sagemaker-nb/eu-north-1/sagemaker-clarify|time_series_byom|time_series_bring_your_own_model.ipynb)\n",
    "\n",
    "![This ap-southeast-1 badge failed to load. Check your device's internet connectivity, otherwise the service is currently unavailable](https://prod.us-west-2.tcx-beacon.docs.aws.dev/sagemaker-nb/ap-southeast-1/sagemaker-clarify|time_series_byom|time_series_bring_your_own_model.ipynb)\n",
    "\n",
    "![This ap-southeast-2 badge failed to load. Check your device's internet connectivity, otherwise the service is currently unavailable](https://prod.us-west-2.tcx-beacon.docs.aws.dev/sagemaker-nb/ap-southeast-2/sagemaker-clarify|time_series_byom|time_series_bring_your_own_model.ipynb)\n",
    "\n",
    "![This ap-northeast-1 badge failed to load. Check your device's internet connectivity, otherwise the service is currently unavailable](https://prod.us-west-2.tcx-beacon.docs.aws.dev/sagemaker-nb/ap-northeast-1/sagemaker-clarify|time_series_byom|time_series_bring_your_own_model.ipynb)\n",
    "\n",
    "![This ap-northeast-2 badge failed to load. Check your device's internet connectivity, otherwise the service is currently unavailable](https://prod.us-west-2.tcx-beacon.docs.aws.dev/sagemaker-nb/ap-northeast-2/sagemaker-clarify|time_series_byom|time_series_bring_your_own_model.ipynb)\n",
    "\n",
    "![This ap-south-1 badge failed to load. Check your device's internet connectivity, otherwise the service is currently unavailable](https://prod.us-west-2.tcx-beacon.docs.aws.dev/sagemaker-nb/ap-south-1/sagemaker-clarify|time_series_byom|time_series_bring_your_own_model.ipynb)"
   ]
  }
 ],
 "metadata": {
  "kernelspec": {
   "display_name": "Python 3 (ipykernel)",
   "language": "python",
   "name": "python3"
  },
  "language_info": {
   "codemirror_mode": {
    "name": "ipython",
    "version": 3
   },
   "file_extension": ".py",
   "mimetype": "text/x-python",
   "name": "python",
   "nbconvert_exporter": "python",
   "pygments_lexer": "ipython3",
   "version": "3.9.16"
  }
 },
 "nbformat": 4,
 "nbformat_minor": 5
}
