{
 "cells": [
  {
   "cell_type": "markdown",
   "metadata": {},
   "source": [
    "# Training Job in Internet-free Mode\n",
    "\n",
    "If you want to isolate your training data and training container from the rest of the Internet, then you should create the training job in a private subnet. A private subnet is a subnet in your VPC without a route to Internet Gateway. This means, by default, no inbounding calls to your container from the Internet is possible and your container cannot make outbounding calls to the Internet. If you need the training container to access your S3 resource, you need to **explicitly** add a VPC endpoint and attach it to the route table of your private subnet to allow traffic to your data in S3 bucket. \n",
    "\n",
    "In this notebook, we will walk through an example of creating such a training job. We will\n",
    "\n",
    "- Build a simple training image\n",
    "- Set up a VPC\n",
    "- Set up a private subnet in the VPC\n",
    "- Set up a security group in the VPC\n",
    "- Create a training job in your private subnet && security group and watch it to fail (because it cannot access your S3 resource)\n",
    "- Add a VPC endpoint to allow traffic to S3\n",
    "- Create another training job in your private subnet and watch it to succeeed \n",
    "\n",
    "If you are not familiar with VPC security configuration, the following materials can help you\n",
    "- [Security in Amazon Virtual Private Cloud](https://docs.aws.amazon.com/vpc/latest/userguide/security.html)\n",
    "- [Training and Inference Containers in Internet-Free Mode](https://docs.aws.amazon.com/sagemaker/latest/dg/mkt-algo-model-internet-free.html)\n",
    "\n",
    "It's okay if you don't understand everything from the official docs above, the code samples you will see in this notebook will help you grasp those concepts. "
   ]
  },
  {
   "cell_type": "code",
   "execution_count": 1,
   "metadata": {},
   "outputs": [],
   "source": [
    "# import libraries\n",
    "import boto3\n",
    "import pprint\n",
    "import datetime\n",
    "import time\n",
    "\n",
    "pp = pprint.PrettyPrinter(indent=1)"
   ]
  },
  {
   "cell_type": "markdown",
   "metadata": {},
   "source": [
    "## Permissions\n",
    "\n",
    "If you are running this notebook on an EC2 instance with an IAM user (you) as the default profile, then you will need policies to allow you to create VPC / Subnet / Secruity group / VPC endpoint.\n",
    "\n",
    "Likewise, if you are running this notebook on a SageMaker notebook instance or Studio, the service role needs to have those permission as well. \n",
    "\n",
    "First, get some helper functions for creating service role. "
   ]
  },
  {
   "cell_type": "code",
   "execution_count": 17,
   "metadata": {},
   "outputs": [
    {
     "name": "stderr",
     "output_type": "stream",
     "text": [
      "--2021-03-19 03:36:31--  https://raw.githubusercontent.com/hsl89/amazon-sagemaker-examples/sagemaker-fundamentals/sagemaker-fundamentals/execution-role/iam_helpers.py\n",
      "Resolving raw.githubusercontent.com (raw.githubusercontent.com)... 185.199.108.133, 185.199.109.133, 185.199.110.133, ...\n",
      "Connecting to raw.githubusercontent.com (raw.githubusercontent.com)|185.199.108.133|:443... connected.\n",
      "HTTP request sent, awaiting response... 200 OK\n",
      "Length: 3350 (3.3K) [text/plain]\n",
      "Saving to: ‘iam_helpers.py’\n",
      "\n",
      "     0K ...                                                   100% 55.9M=0s\n",
      "\n",
      "2021-03-19 03:36:31 (55.9 MB/s) - ‘iam_helpers.py’ saved [3350/3350]\n",
      "\n"
     ]
    }
   ],
   "source": [
    "%%bash\n",
    "file=$(ls . | grep iam_helpers.py)\n",
    "\n",
    "if [ -f \"$file\" ]\n",
    "then\n",
    "    rm $file\n",
    "fi\n",
    "\n",
    "wget https://raw.githubusercontent.com/hsl89/amazon-sagemaker-examples/sagemaker-fundamentals/sagemaker-fundamentals/execution-role/iam_helpers.py\n"
   ]
  },
  {
   "cell_type": "code",
   "execution_count": 82,
   "metadata": {},
   "outputs": [
    {
     "name": "stdout",
     "output_type": "stream",
     "text": [
      "role deleted\n"
     ]
    },
    {
     "data": {
      "text/plain": [
       "{'Role': {'Path': '/',\n",
       "  'RoleName': 'example-role-to-be-deleted',\n",
       "  'RoleId': 'AROA2ATYEUMKCOZEEXRED',\n",
       "  'Arn': 'arn:aws:iam::688520471316:role/example-role-to-be-deleted',\n",
       "  'CreateDate': datetime.datetime(2021, 3, 19, 20, 34, 4, tzinfo=tzlocal()),\n",
       "  'AssumeRolePolicyDocument': {'Version': '2012-10-17',\n",
       "   'Statement': [{'Effect': 'Allow',\n",
       "     'Principal': {'AWS': 'arn:aws:iam::688520471316:user/hongshan',\n",
       "      'Service': ['sagemaker.amazonaws.com']},\n",
       "     'Action': 'sts:AssumeRole'}]}},\n",
       " 'ResponseMetadata': {'RequestId': 'ce5d3309-9cd4-4334-ad5a-f943cb40e951',\n",
       "  'HTTPStatusCode': 200,\n",
       "  'HTTPHeaders': {'x-amzn-requestid': 'ce5d3309-9cd4-4334-ad5a-f943cb40e951',\n",
       "   'content-type': 'text/xml',\n",
       "   'content-length': '893',\n",
       "   'date': 'Fri, 19 Mar 2021 20:34:03 GMT'},\n",
       "  'RetryAttempts': 0}}"
      ]
     },
     "execution_count": 82,
     "metadata": {},
     "output_type": "execute_result"
    }
   ],
   "source": [
    "iam = boto3.client('iam')\n",
    "# get the ARN of the user\n",
    "caller_arn = boto3.client('sts').get_caller_identity()['Arn']\n",
    "import json\n",
    "\n",
    "def create_execution_role(role_name=\"basic-role\"):\n",
    "    \"\"\"Create an service role to procure services on your behalf\n",
    "\n",
    "    \n",
    "    Args:\n",
    "        role_name (str): name of the role\n",
    "    \n",
    "    Return:\n",
    "        dict\n",
    "    \"\"\"    \n",
    "    # if the role already exists, delete it\n",
    "    # Note: you need to make sure the role is not\n",
    "    # used in production, because the code below\n",
    "    # will delete the role and create a new one\n",
    "    \n",
    "    def find_role(role_res, role_name):\n",
    "        for r in role_res['Roles']:\n",
    "            if r['RoleName'] == role_name:\n",
    "                return True\n",
    "        return False\n",
    "\n",
    "    def delete_role(role_res, role_name):\n",
    "        if find_role(role_res, role_name):\n",
    "            role = boto3.resource('iam').Role(role_name)\n",
    "            for p in role.attached_policies.all():\n",
    "                role.detach_policy(PolicyArn=p.arn)\n",
    "\n",
    "            iam.delete_role(RoleName=role.name)\n",
    "            print('role deleted')\n",
    "            return\n",
    "\n",
    "    role_res = iam.list_roles(MaxItems=10)\n",
    "    find_role(role_res, role_name)\n",
    "\n",
    "    while 'Marker' in role_res:\n",
    "        role_res = iam.list_roles(MaxItems=10, Marker=role_res['Marker'])\n",
    "        delete_role(role_res, role_name)\n",
    "    \n",
    "    # Trust policy document\n",
    "    trust_relation_policy_doc = {\n",
    "      \"Version\": \"2012-10-17\",\n",
    "      \"Statement\": [\n",
    "        {\n",
    "          \"Effect\": \"Allow\",\n",
    "          \"Principal\": {\n",
    "            \"AWS\": caller_arn, # Allow caller to take this role\n",
    "            \"Service\": [\n",
    "              \"sagemaker.amazonaws.com\" # Allow SageMaker to take the role\n",
    "            ],\n",
    "          },\n",
    "          \"Action\": \"sts:AssumeRole\",\n",
    "        }\n",
    "      ]\n",
    "    }\n",
    "    \n",
    "    \n",
    "    res = iam.create_role(\n",
    "        RoleName=role_name,\n",
    "        AssumeRolePolicyDocument=json.dumps(trust_relation_policy_doc)\n",
    "    )\n",
    "    return res\n",
    "\n",
    "\n",
    "\n"
   ]
  },
  {
   "cell_type": "markdown",
   "metadata": {},
   "source": [
    "## Build a training image\n",
    "\n",
    "We follow the same procedure for building a training image as in [this notebook](https://github.com/hsl89/amazon-sagemaker-examples/blob/sagemaker-fundamentals/sagemaker-fundamentals/create-training-job/create-training-job.ipynb). We will refer to this image as `example-image`. Please go through that notebook if you are not familiar with `CreateTrainingJob` API."
   ]
  },
  {
   "cell_type": "code",
   "execution_count": 3,
   "metadata": {},
   "outputs": [
    {
     "name": "stdout",
     "output_type": "stream",
     "text": [
      "An error occurred (RepositoryAlreadyExistsException) when calling the CreateRepository operation: The repository with name 'example-image' already exists in the registry with id '688520471316'\n"
     ]
    }
   ],
   "source": [
    "# create a repo in your ECR \n",
    "\n",
    "ecr = boto3.client('ecr')\n",
    "\n",
    "try:\n",
    "    # The repository might already exist\n",
    "    # in your ECR\n",
    "    cr_res = ecr.create_repository(\n",
    "        repositoryName='example-image')\n",
    "    pp.pprint(cr_res)\n",
    "except Exception as e:\n",
    "    print(e)"
   ]
  },
  {
   "cell_type": "code",
   "execution_count": 86,
   "metadata": {},
   "outputs": [
    {
     "name": "stdout",
     "output_type": "stream",
     "text": [
      "Sending build context to Docker daemon   16.9kB\n",
      "Step 1/4 : FROM continuumio/miniconda:latest\n",
      " ---> b8ea69b5c41c\n",
      "Step 2/4 : RUN mkdir -p /opt/ml\n",
      " ---> Using cache\n",
      " ---> a170cc3fed03\n",
      "Step 3/4 : COPY train.py /usr/bin/train\n",
      " ---> Using cache\n",
      " ---> 4e19c1cb2076\n",
      "Step 4/4 : RUN chmod +x /usr/bin/train\n",
      " ---> Using cache\n",
      " ---> 38609e5aaa0d\n",
      "Successfully built 38609e5aaa0d\n",
      "Successfully tagged example-image:latest\n",
      "== Files in train channel ==\n",
      "== Files in the test channel ==\n",
      "== Saving model checkpoint ==\n",
      "== training completed ==\n",
      "\n",
      "Login Succeeded\n",
      "The push refers to repository [688520471316.dkr.ecr.us-west-2.amazonaws.com/example-image]\n",
      "967579d07803: Preparing\n",
      "5c8c2d1bcfe6: Preparing\n",
      "88674bdc7fd9: Preparing\n",
      "78db50750faa: Preparing\n",
      "805309d6b0e2: Preparing\n",
      "2db44bce66cd: Preparing\n",
      "2db44bce66cd: Waiting\n",
      "805309d6b0e2: Layer already exists\n",
      "5c8c2d1bcfe6: Layer already exists\n",
      "78db50750faa: Layer already exists\n",
      "967579d07803: Layer already exists\n",
      "88674bdc7fd9: Layer already exists\n",
      "2db44bce66cd: Layer already exists\n",
      "latest: digest: sha256:00da6c645b4f0f3595a6e672fe406d4cfa9b1546ab25e698ae8ad17a293e2c9f size: 1574\n"
     ]
    },
    {
     "name": "stderr",
     "output_type": "stream",
     "text": [
      "WARNING! Your password will be stored unencrypted in /home/ubuntu/.docker/config.json.\n",
      "Configure a credential helper to remove this warning. See\n",
      "https://docs.docker.com/engine/reference/commandline/login/#credentials-store\n",
      "\n"
     ]
    }
   ],
   "source": [
    "%%sh\n",
    "# build the image\n",
    "cd container/\n",
    "\n",
    "# tag it as example-image:latest\n",
    "docker build -t example-image:latest .\n",
    "    \n",
    "# test the container\n",
    "python local_test/test_container.py\n",
    "\n",
    "account=$(aws sts get-caller-identity --query Account | sed -e 's/^\"//' -e 's/\"$//')\n",
    "region=$(aws configure get region)\n",
    "ecr_account=${account}.dkr.ecr.${region}.amazonaws.com\n",
    "\n",
    "# Give docker your ECR login password\n",
    "aws ecr get-login-password --region $region | docker login --username AWS --password-stdin $ecr_account\n",
    "\n",
    "# Fullname of the repo\n",
    "fullname=$ecr_account/example-image:latest\n",
    "\n",
    "# Tag the image with the fullname\n",
    "docker tag example-image:latest $fullname\n",
    "\n",
    "# Push to ECR\n",
    "docker push $fullname"
   ]
  },
  {
   "cell_type": "markdown",
   "metadata": {},
   "source": [
    "## Create a VPC\n",
    "\n",
    "You can think of Amazon VPC as the traditional network in a data center in the cloud. \n",
    "\n",
    "The following are the key concepts for VPCs: \n",
    "* Virtual private cloud (VPC) — A virtual network dedicated to your AWS account.\n",
    "* Subnet — A range of IP addresses in your VPC.\n",
    "* Route table — A set of rules, called routes, that are used to determine where network traffic is directed.\n",
    "* Internet gateway — A gateway that you attach to your VPC to enable communication between resources in your VPC and the internet.\n",
    "* VPC endpoint — Enables you to privately connect your VPC to supported AWS services and VPC endpoint services powered by PrivateLink without requiring an internet gateway, NAT device, VPN connection, or AWS Direct Connect connection. Instances in your VPC do not require public IP addresses to communicate with resources in the service. Traffic between your VPC and the other service does not leave the Amazon network. For more information, see AWS PrivateLink and VPC endpoints.\n",
    "* CIDR block —Classless Inter-Domain Routing. An internet protocol address allocation and route aggregation methodology. For more information, see [Classless Inter-Domain Routing](https://en.wikipedia.org/wiki/Classless_Inter-Domain_Routing#CIDR_notation) in Wikipedia.\n",
    "\n",
    "All of these concepts are explained in the [official docs](https://docs.aws.amazon.com/vpc/latest/userguide/what-is-amazon-vpc.html). \n"
   ]
  },
  {
   "cell_type": "code",
   "execution_count": 5,
   "metadata": {},
   "outputs": [
    {
     "name": "stdout",
     "output_type": "stream",
     "text": [
      "{'ResponseMetadata': {'HTTPHeaders': {'cache-control': 'no-cache, no-store',\n",
      "                                      'content-length': '1054',\n",
      "                                      'content-type': 'text/xml;charset=UTF-8',\n",
      "                                      'date': 'Fri, 19 Mar 2021 01:15:46 GMT',\n",
      "                                      'server': 'AmazonEC2',\n",
      "                                      'strict-transport-security': 'max-age=31536000; '\n",
      "                                                                   'includeSubDomains',\n",
      "                                      'x-amzn-requestid': '9fd072ec-01be-4ecb-b9e3-2e9a317d3e67'},\n",
      "                      'HTTPStatusCode': 200,\n",
      "                      'RequestId': '9fd072ec-01be-4ecb-b9e3-2e9a317d3e67',\n",
      "                      'RetryAttempts': 0},\n",
      " 'Vpc': {'CidrBlock': '10.0.0.0/20',\n",
      "         'CidrBlockAssociationSet': [{'AssociationId': 'vpc-cidr-assoc-0b6e7b82620de322c',\n",
      "                                      'CidrBlock': '10.0.0.0/20',\n",
      "                                      'CidrBlockState': {'State': 'associated'}}],\n",
      "         'DhcpOptionsId': 'dopt-8b1f91ef',\n",
      "         'InstanceTenancy': 'default',\n",
      "         'Ipv6CidrBlockAssociationSet': [],\n",
      "         'IsDefault': False,\n",
      "         'OwnerId': '688520471316',\n",
      "         'State': 'pending',\n",
      "         'Tags': [{'Key': 'Name', 'Value': 'hello-world'}],\n",
      "         'VpcId': 'vpc-0b52a6097c86ebdc3'}}\n"
     ]
    }
   ],
   "source": [
    "# Create a VPC in your default region\n",
    "\n",
    "ec2 = boto3.client('ec2')\n",
    "\n",
    "vpc_res = ec2.create_vpc(\n",
    "    CidrBlock='10.0.0.0/20', # 2^(32 - 20) = 4906 private ipv4 addrs\n",
    "    AmazonProvidedIpv6CidrBlock=False,\n",
    "    DryRun=False,\n",
    "    TagSpecifications=[\n",
    "        {\n",
    "            'ResourceType': 'vpc', \n",
    "            'Tags':[\n",
    "                {\n",
    "                    'Key': 'Name',\n",
    "                    'Value': 'hello-world'\n",
    "                },\n",
    "            ]\n",
    "        },\n",
    "    ]\n",
    ")\n",
    "\n",
    "pp.pprint(vpc_res)"
   ]
  },
  {
   "cell_type": "code",
   "execution_count": 6,
   "metadata": {},
   "outputs": [
    {
     "name": "stdout",
     "output_type": "stream",
     "text": [
      "[{'CidrBlock': '10.0.0.0/20',\n",
      "  'CidrBlockAssociationSet': [{'AssociationId': 'vpc-cidr-assoc-0b6e7b82620de322c',\n",
      "                               'CidrBlock': '10.0.0.0/20',\n",
      "                               'CidrBlockState': {'State': 'associated'}}],\n",
      "  'DhcpOptionsId': 'dopt-8b1f91ef',\n",
      "  'InstanceTenancy': 'default',\n",
      "  'IsDefault': False,\n",
      "  'OwnerId': '688520471316',\n",
      "  'State': 'available',\n",
      "  'Tags': [{'Key': 'Name', 'Value': 'hello-world'}],\n",
      "  'VpcId': 'vpc-0b52a6097c86ebdc3'}]\n"
     ]
    }
   ],
   "source": [
    "# inspect this VPC in details\n",
    "\n",
    "vpc_des = ec2.describe_vpcs(\n",
    "    VpcIds=[vpc_res['Vpc']['VpcId']]\n",
    "    )\n",
    "pp.pprint(vpc_des['Vpcs'])"
   ]
  },
  {
   "cell_type": "code",
   "execution_count": 7,
   "metadata": {},
   "outputs": [
    {
     "name": "stdout",
     "output_type": "stream",
     "text": [
      "{'ResponseMetadata': {'HTTPHeaders': {'cache-control': 'no-cache, no-store',\n",
      "                                      'content-length': '927',\n",
      "                                      'content-type': 'text/xml;charset=UTF-8',\n",
      "                                      'date': 'Fri, 19 Mar 2021 01:22:03 GMT',\n",
      "                                      'server': 'AmazonEC2',\n",
      "                                      'strict-transport-security': 'max-age=31536000; '\n",
      "                                                                   'includeSubDomains',\n",
      "                                      'x-amzn-requestid': 'aa405e89-96cc-4a17-9552-9fd19d1a2429'},\n",
      "                      'HTTPStatusCode': 200,\n",
      "                      'RequestId': 'aa405e89-96cc-4a17-9552-9fd19d1a2429',\n",
      "                      'RetryAttempts': 0},\n",
      " 'Subnet': {'AssignIpv6AddressOnCreation': False,\n",
      "            'AvailabilityZone': 'us-west-2a',\n",
      "            'AvailabilityZoneId': 'usw2-az2',\n",
      "            'AvailableIpAddressCount': 11,\n",
      "            'CidrBlock': '10.0.0.0/28',\n",
      "            'DefaultForAz': False,\n",
      "            'Ipv6CidrBlockAssociationSet': [],\n",
      "            'MapPublicIpOnLaunch': False,\n",
      "            'OwnerId': '688520471316',\n",
      "            'State': 'available',\n",
      "            'SubnetArn': 'arn:aws:ec2:us-west-2:688520471316:subnet/subnet-06c7f02c022592663',\n",
      "            'SubnetId': 'subnet-06c7f02c022592663',\n",
      "            'VpcId': 'vpc-0b52a6097c86ebdc3'}}\n"
     ]
    }
   ],
   "source": [
    "# create subnet and associate it with route table\n",
    "\n",
    "def get_first_availability_zone():\n",
    "    region_name = boto3.Session().region_name\n",
    "    avz_res = ec2.describe_availability_zones(\n",
    "        Filters=[\n",
    "            {\n",
    "                \"Name\": \"region-name\",\n",
    "                \"Values\": [region_name]\n",
    "            }\n",
    "        ],\n",
    "        AllAvailabilityZones=True,\n",
    "    )\n",
    "    \n",
    "    for az in avz_res['AvailabilityZones']:\n",
    "        if az['ZoneType']=='availability-zone':\n",
    "            return az\n",
    "    else:\n",
    "        return None\n",
    "    \n",
    "def create_subnet(vpc_id, cidr_block, dry_run):\n",
    "    \"\"\"Create a subnet in the first availability zone in your current region\"\"\"\n",
    "    az = get_first_availability_zone()\n",
    "    if az is not None:\n",
    "        subnet_res = ec2.create_subnet(\n",
    "            AvailabilityZone = az['ZoneName'], #'us-west-2a',\n",
    "            VpcId = vpc_id,                    # vpc_res['Vpc']['VpcId'],\n",
    "            CidrBlock= cidr_block,             #'100.68.0.18/18',\n",
    "            DryRun=dry_run                     # True,\n",
    "        )\n",
    "        return subnet_res\n",
    "    else:\n",
    "        raise \"No availability zone\"\n",
    "        \n",
    "sn_res = create_subnet(\n",
    "    vpc_id=vpc_res['Vpc']['VpcId'],\n",
    "    cidr_block='10.0.0.0/28', # I want 2 ^ (32 - 28) private ipv4 in this subnet\n",
    "    dry_run=False)\n",
    "\n",
    "pp.pprint(sn_res)"
   ]
  },
  {
   "cell_type": "code",
   "execution_count": 10,
   "metadata": {},
   "outputs": [
    {
     "name": "stdout",
     "output_type": "stream",
     "text": [
      "{'GroupId': 'sg-023956e2fa664f5dd',\n",
      " 'ResponseMetadata': {'HTTPHeaders': {'cache-control': 'no-cache, no-store',\n",
      "                                      'content-length': '409',\n",
      "                                      'content-type': 'text/xml;charset=UTF-8',\n",
      "                                      'date': 'Fri, 19 Mar 2021 01:22:38 GMT',\n",
      "                                      'server': 'AmazonEC2',\n",
      "                                      'strict-transport-security': 'max-age=31536000; '\n",
      "                                                                   'includeSubDomains',\n",
      "                                      'x-amzn-requestid': '7a29e519-64c5-42f2-8f4b-b5a9a697b6c5'},\n",
      "                      'HTTPStatusCode': 200,\n",
      "                      'RequestId': '7a29e519-64c5-42f2-8f4b-b5a9a697b6c5',\n",
      "                      'RetryAttempts': 0},\n",
      " 'Tags': [{'Key': 'Service', 'Value': 'SageMaker'}]}\n"
     ]
    }
   ],
   "source": [
    "# create a security group\n",
    "\n",
    "sg_res = ec2.create_security_group(\n",
    "    Description='security group for SageMaker instances',\n",
    "    GroupName='sagemaker-private',\n",
    "    VpcId=vpc_res['Vpc']['VpcId'],\n",
    "    TagSpecifications=[\n",
    "        {\n",
    "            \"ResourceType\": \"security-group\",\n",
    "            \"Tags\" : [\n",
    "                {   \n",
    "                    \"Key\": \"Service\", # Tag the sec gp by service, this can be used to filter sec gps\n",
    "                    \"Value\": \"SageMaker\" \n",
    "                }\n",
    "            ]\n",
    "        }\n",
    "    ]\n",
    "\n",
    ")\n",
    "\n",
    "pp.pprint(sg_res)"
   ]
  },
  {
   "cell_type": "code",
   "execution_count": 11,
   "metadata": {},
   "outputs": [
    {
     "data": {
      "text/plain": [
       "{'SecurityGroups': [{'Description': 'security group for SageMaker instances',\n",
       "   'GroupName': 'sagemaker-private',\n",
       "   'IpPermissions': [],\n",
       "   'OwnerId': '688520471316',\n",
       "   'GroupId': 'sg-023956e2fa664f5dd',\n",
       "   'IpPermissionsEgress': [{'IpProtocol': '-1',\n",
       "     'IpRanges': [{'CidrIp': '0.0.0.0/0'}],\n",
       "     'Ipv6Ranges': [],\n",
       "     'PrefixListIds': [],\n",
       "     'UserIdGroupPairs': []}],\n",
       "   'Tags': [{'Key': 'Service', 'Value': 'SageMaker'}],\n",
       "   'VpcId': 'vpc-0b52a6097c86ebdc3'}],\n",
       " 'ResponseMetadata': {'RequestId': '680b4acb-13b2-4de0-8234-e9b6ef93ce2c',\n",
       "  'HTTPStatusCode': 200,\n",
       "  'HTTPHeaders': {'x-amzn-requestid': '680b4acb-13b2-4de0-8234-e9b6ef93ce2c',\n",
       "   'cache-control': 'no-cache, no-store',\n",
       "   'strict-transport-security': 'max-age=31536000; includeSubDomains',\n",
       "   'content-type': 'text/xml;charset=UTF-8',\n",
       "   'content-length': '1233',\n",
       "   'date': 'Fri, 19 Mar 2021 01:22:40 GMT',\n",
       "   'server': 'AmazonEC2'},\n",
       "  'RetryAttempts': 0}}"
      ]
     },
     "execution_count": 11,
     "metadata": {},
     "output_type": "execute_result"
    }
   ],
   "source": [
    "# inspect the security group in detail\n",
    "\n",
    "ec2.describe_security_groups(\n",
    "    GroupIds=[\n",
    "        sg_res['GroupId']\n",
    "    ]\n",
    ")"
   ]
  },
  {
   "cell_type": "markdown",
   "metadata": {},
   "source": [
    "## Creat a training job\n",
    "Now let's create a training job within your private subnet you just created."
   ]
  },
  {
   "cell_type": "code",
   "execution_count": null,
   "metadata": {},
   "outputs": [],
   "source": [
    "# set up service role for SageMaker\n",
    "\n",
    "sts = boto3.client('sts')\n",
    "caller = sts.get_caller_identity()\n",
    "\n",
    "if ':user/' in caller['Arn']: # as IAM user\n",
    "    # either paste in a role_arn with or create a new one and attach \n",
    "    # AmazonSageMakerFullAccess\n",
    "    role_name = 'example-sm'\n",
    "    role_arn = create_execution_role(role_name=role_name)['Role']['Arn']\n",
    "    iam.attach_role_policy(\n",
    "        RoleName=role_name,\n",
    "        PolicyArn='arn:aws:iam::aws:policy/AmazonSageMakerFullAccess',\n",
    "    )\n",
    "elif 'assumed-role' in caller['Arn']: # on SageMaker infra\n",
    "    role_arn = caller['Arn']\n",
    "else:\n",
    "    print(\"I assume you are on an EC2 instance launched with an IAM role\")\n",
    "    role_arn = caller['Arn']\n",
    "    "
   ]
  },
  {
   "cell_type": "code",
   "execution_count": 89,
   "metadata": {},
   "outputs": [],
   "source": [
    "# some helpers\n",
    "def current_time():\n",
    "    ct = datetime.datetime.now() \n",
    "    return str(ct.now()).replace(\":\", \"-\").replace(\" \", \"-\")[:19]\n",
    "\n",
    "def account_id():\n",
    "    return boto3.client('sts').get_caller_identity()['Account']\n"
   ]
  },
  {
   "cell_type": "markdown",
   "metadata": {},
   "source": [
    "To make this notebook self-contained, we will create a bucket and upload some data there to pass to training container as we did in the [basic create training job notebook](https://github.com/hsl89/amazon-sagemaker-examples/blob/sagemaker-fundamentals/sagemaker-fundamentals/create-training-job/create-training-job.ipynb). But you don't have to do so, if you already have a bucket that SageMaker service can access (i.e. a bucket with bucket name starts with `sagemaker`, see `AmazonSageMakerFullAccessPolicy`), then you can use \n",
    "that bucket as well. \n"
   ]
  },
  {
   "cell_type": "code",
   "execution_count": 91,
   "metadata": {},
   "outputs": [],
   "source": [
    "# create a bucket for SageMaker in your region if it does not exisit\n",
    "\n",
    "def create_bucket():\n",
    "    \"\"\"Create an S3 bucket that is intended to be used for short term\"\"\"\n",
    "    bucket = f\"sagemaker-{current_time()}\"\n",
    "    \n",
    "    region_name = boto3.Session().region_name\n",
    "    boto3.client('s3').create_bucket(\n",
    "        Bucket=bucket,\n",
    "        CreateBucketConfiguration={\n",
    "            'LocationConstraint': region_name\n",
    "        })\n",
    "    return bucket\n",
    "\n",
    "# replace it with your own SageMaker-accessible bucket \n",
    "# if you don't want to create a new one\n",
    "\n",
    "bucket = create_bucket()"
   ]
  },
  {
   "cell_type": "code",
   "execution_count": 95,
   "metadata": {},
   "outputs": [],
   "source": [
    "# upload some mock data to your bucket\n",
    "\n",
    "s3 = boto3.client('s3')\n",
    "input_prefix = 'input_data'\n",
    "\n",
    "for fname in os.listdir('data'):\n",
    "    with open(os.path.join('data', fname), 'rb') as f:\n",
    "        key = input_prefix + fname\n",
    "        s3.upload_fileobj(f, bucket, key)"
   ]
  },
  {
   "cell_type": "code",
   "execution_count": 97,
   "metadata": {},
   "outputs": [],
   "source": [
    "sm_cli = boto3.client('sagemaker')\n",
    "\n",
    "\n",
    "# name training job\n",
    "training_job_name = 'example-training-job-{}'.format(current_time())\n",
    "\n",
    "data_path = \"s3://\" + bucket + '/' + input_prefix\n",
    "\n",
    "# location that SageMaker saves the model artifacts\n",
    "output_prefix = 'output/'\n",
    "output_path = \"s3://\" + bucket + '/' + output_prefix\n",
    "\n",
    "# ECR URI of your image\n",
    "region = boto3.Session().region_name\n",
    "account = account_id()\n",
    "image_uri = \"{}.dkr.ecr.{}.amazonaws.com/example-image:latest\".format(account, region)\n",
    "\n",
    "algorithm_specification = {\n",
    "    'TrainingImage': image_uri,\n",
    "    'TrainingInputMode': 'File',\n",
    "}\n",
    "\n",
    "\n",
    "input_data_config = [\n",
    "    {\n",
    "        'ChannelName': 'train',\n",
    "            'DataSource':{\n",
    "                'S3DataSource':{\n",
    "                    'S3DataType': 'S3Prefix',\n",
    "                    'S3Uri': data_path,\n",
    "                    'S3DataDistributionType': 'FullyReplicated',\n",
    "                }\n",
    "        }\n",
    "        \n",
    "    },\n",
    "    {\n",
    "        'ChannelName': 'test',\n",
    "        'DataSource':{\n",
    "            'S3DataSource': {\n",
    "                'S3DataType': 'S3Prefix',\n",
    "                'S3Uri': data_path,\n",
    "                'S3DataDistributionType': 'FullyReplicated',\n",
    "            }\n",
    "        }\n",
    "    }\n",
    "]\n",
    "\n",
    "\n",
    "    \n",
    "vpc_config = {\n",
    "    # security groups need to be configured to communicate \n",
    "    # with each other for distributed training job\n",
    "    'SecurityGroupIds' : [\n",
    "         sg_res['GroupId']\n",
    "    ],\n",
    "    'Subnets': [\n",
    "        sn_res['Subnet']['SubnetId']\n",
    "    ]\n",
    "}\n",
    "\n",
    "output_data_config = {\n",
    "    'S3OutputPath': output_path\n",
    "}\n",
    "\n",
    "resource_config = {\n",
    "    'InstanceType': 'ml.m5.large',\n",
    "    'InstanceCount':1,\n",
    "    'VolumeSizeInGB':5\n",
    "}\n",
    "\n",
    "stopping_condition={\n",
    "    'MaxRuntimeInSeconds':120,\n",
    "}\n",
    "\n",
    "enable_network_isolation=True"
   ]
  },
  {
   "cell_type": "code",
   "execution_count": 98,
   "metadata": {},
   "outputs": [],
   "source": [
    "ct_res = sm_cli.create_training_job(\n",
    "    TrainingJobName=training_job_name,\n",
    "    AlgorithmSpecification=algorithm_specification,\n",
    "    RoleArn=role_arn,\n",
    "    InputDataConfig=input_data_config,\n",
    "    OutputDataConfig=output_data_config,\n",
    "    VpcConfig=vpc_config,\n",
    "    ResourceConfig=resource_config,\n",
    "    StoppingCondition=stopping_condition,\n",
    "    EnableNetworkIsolation=enable_network_isolation,\n",
    "    EnableManagedSpotTraining=False,\n",
    ")"
   ]
  },
  {
   "cell_type": "code",
   "execution_count": 99,
   "metadata": {},
   "outputs": [
    {
     "name": "stdout",
     "output_type": "stream",
     "text": [
      "Training in progress\n",
      "Training in progress\n",
      "Training in progress\n",
      "Training in progress\n",
      "Training in progress\n",
      "Training job failed \n",
      "Failed Reason: ClientError: Data download failed:Please ensure that the subnet's route table has a route to an S3 VPC endpoint or a NAT device, and both the security groups and the subnet's network ACL allow outbound traffic to S3.\n"
     ]
    }
   ],
   "source": [
    "# see the training job to fail\n",
    "stopped = False\n",
    "while not stopped:\n",
    "    tj_state = sm_cli.describe_training_job(TrainingJobName=training_job_name)\n",
    "    \n",
    "    if tj_state['TrainingJobStatus'] in ['Completed', 'Stopped', 'Failed']:\n",
    "        stopped=True\n",
    "    else:\n",
    "        print(\"Training in progress\")\n",
    "        time.sleep(30)\n",
    "\n",
    "if tj_state['TrainingJobStatus'] == 'Failed':\n",
    "    print(\"Training job failed \")\n",
    "    print(\"Failed Reason: {}\".format(tj_state['FailureReason']))\n",
    "else:\n",
    "    print(\"Training job completed\")"
   ]
  },
  {
   "cell_type": "markdown",
   "metadata": {},
   "source": [
    "This is the failure message we expect to see. The subnet you created is isolated from the Internet and you have not created any mechanism for it to access your S3 resource. Therefore, SageMaker failed to download data from there. The error message also suggested ways to fix it: either add a route to S3 VPC endpoint or add a NAT device. We will explore the first option."
   ]
  },
  {
   "cell_type": "markdown",
   "metadata": {},
   "source": [
    "## Add a VPC endpoint\n",
    "\n",
    "A VPC endpoint enables you to privately connect your VPC to supported AWS services and VPC endpoint services powered by PrivateLink without requiring an internet gateway, NAT device, VPN connection, or AWS Direct Connect connection. Instances in your VPC do not require public IP addresses to communicate with resources in the service. **Traffic between your VPC and the other service does not leave the Amazon network**. For more information, see [AWS PrivateLink and VPC endpoints](https://docs.aws.amazon.com/vpc/latest/userguide/endpoint-services-overview.html). \n",
    "\n",
    "There are three types of VPC endpoints at the time this notebook is published:\n",
    "\n",
    "A **gateway** endpoint serves as a target for a route in your route table for traffic destined for the AWS service. You can specify an endpoint policy to attach to the endpoint, which will control access to the service from your VPC. You can also specify the VPC route tables that use the endpoint.\n",
    "\n",
    "An **interface** endpoint is a network interface in your subnet that serves as an endpoint for communicating with the specified service. You can specify the subnets in which to create an endpoint, and the security groups to associate with the endpoint network interface.\n",
    "\n",
    "A **GatewayLoadBalancer** endpoint is a network interface in your subnet that serves an endpoint for communicating with a Gateway Load Balancer that you've configured as a VPC endpoint service.\n",
    "\n",
    "Both gateway and interface endpoint are viable options here. We will focus on interface endpoint here, because it saves us from additional configuration with route table."
   ]
  },
  {
   "cell_type": "code",
   "execution_count": 100,
   "metadata": {},
   "outputs": [
    {
     "name": "stdout",
     "output_type": "stream",
     "text": [
      "com.amazonaws.us-west-2.s3\n",
      "com.amazonaws.us-west-2.s3\n"
     ]
    }
   ],
   "source": [
    "# Check out service name for S3\n",
    "\n",
    "services = ec2.describe_vpc_endpoint_services()\n",
    "for s in services['ServiceNames']:\n",
    "    if 's3' in s:\n",
    "        print(s)"
   ]
  },
  {
   "cell_type": "code",
   "execution_count": 104,
   "metadata": {},
   "outputs": [
    {
     "name": "stdout",
     "output_type": "stream",
     "text": [
      "{'ResponseMetadata': {'HTTPHeaders': {'cache-control': 'no-cache, no-store',\n",
      "                                      'content-length': '875',\n",
      "                                      'content-type': 'text/xml;charset=UTF-8',\n",
      "                                      'date': 'Fri, 19 Mar 2021 22:51:36 GMT',\n",
      "                                      'server': 'AmazonEC2',\n",
      "                                      'strict-transport-security': 'max-age=31536000; '\n",
      "                                                                   'includeSubDomains',\n",
      "                                      'x-amzn-requestid': '766828ab-8c4e-4fe2-9f77-7d1406f8a52a'},\n",
      "                      'HTTPStatusCode': 200,\n",
      "                      'RequestId': '766828ab-8c4e-4fe2-9f77-7d1406f8a52a',\n",
      "                      'RetryAttempts': 0},\n",
      " 'RouteTable': {'Associations': [],\n",
      "                'OwnerId': '688520471316',\n",
      "                'PropagatingVgws': [],\n",
      "                'RouteTableId': 'rtb-0769dd9a4a1362f38',\n",
      "                'Routes': [{'DestinationCidrBlock': '10.0.0.0/20',\n",
      "                            'GatewayId': 'local',\n",
      "                            'Origin': 'CreateRouteTable',\n",
      "                            'State': 'active'}],\n",
      "                'Tags': [{'Key': 'Service', 'Value': 'SageMaker'}],\n",
      "                'VpcId': 'vpc-0b52a6097c86ebdc3'}}\n"
     ]
    }
   ],
   "source": [
    "# Create a route table\n",
    "rt_res = ec2.create_route_table(\n",
    "    VpcId=vpc_res['Vpc']['VpcId'],\n",
    "    TagSpecifications=[\n",
    "        {\n",
    "            \"ResourceType\": 'route-table',\n",
    "            'Tags': [\n",
    "                {\n",
    "                    'Key': 'Service',\n",
    "                    'Value': 'SageMaker'\n",
    "                }\n",
    "            ]\n",
    "        }\n",
    "    ]\n",
    ")\n",
    "\n",
    "pp.pprint(rt_res)"
   ]
  },
  {
   "cell_type": "code",
   "execution_count": 103,
   "metadata": {},
   "outputs": [
    {
     "ename": "NameError",
     "evalue": "name 'rt_res' is not defined",
     "output_type": "error",
     "traceback": [
      "\u001b[0;31m---------------------------------------------------------------------------\u001b[0m",
      "\u001b[0;31mNameError\u001b[0m                                 Traceback (most recent call last)",
      "\u001b[0;32m<ipython-input-103-bca189b37aba>\u001b[0m in \u001b[0;36m<module>\u001b[0;34m\u001b[0m\n\u001b[1;32m      7\u001b[0m     \u001b[0mVpcId\u001b[0m\u001b[0;34m=\u001b[0m\u001b[0mvpc_res\u001b[0m\u001b[0;34m[\u001b[0m\u001b[0;34m'Vpc'\u001b[0m\u001b[0;34m]\u001b[0m\u001b[0;34m[\u001b[0m\u001b[0;34m'VpcId'\u001b[0m\u001b[0;34m]\u001b[0m\u001b[0;34m,\u001b[0m\u001b[0;34m\u001b[0m\u001b[0;34m\u001b[0m\u001b[0m\n\u001b[1;32m      8\u001b[0m     \u001b[0mServiceName\u001b[0m\u001b[0;34m=\u001b[0m\u001b[0;34mf'com.amazonaws.{region_name}.s3'\u001b[0m\u001b[0;34m,\u001b[0m\u001b[0;34m\u001b[0m\u001b[0;34m\u001b[0m\u001b[0m\n\u001b[0;32m----> 9\u001b[0;31m     \u001b[0mRouteTableIds\u001b[0m\u001b[0;34m=\u001b[0m\u001b[0;34m[\u001b[0m\u001b[0mrt_res\u001b[0m\u001b[0;34m[\u001b[0m\u001b[0;34m'RouteTable'\u001b[0m\u001b[0;34m]\u001b[0m\u001b[0;34m[\u001b[0m\u001b[0;34m'RouteTableId'\u001b[0m\u001b[0;34m]\u001b[0m\u001b[0;34m]\u001b[0m\u001b[0;34m,\u001b[0m\u001b[0;34m\u001b[0m\u001b[0;34m\u001b[0m\u001b[0m\n\u001b[0m\u001b[1;32m     10\u001b[0m \u001b[0;34m\u001b[0m\u001b[0m\n\u001b[1;32m     11\u001b[0m     \u001b[0;31m# you don't need to add a tag, it is only\u001b[0m\u001b[0;34m\u001b[0m\u001b[0;34m\u001b[0m\u001b[0;34m\u001b[0m\u001b[0m\n",
      "\u001b[0;31mNameError\u001b[0m: name 'rt_res' is not defined"
     ]
    }
   ],
   "source": [
    "# Create a gateway endpoint \n",
    "\n",
    "region_name = boto3.Session().region_name\n",
    "\n",
    "iep_res = ec2.create_vpc_endpoint(\n",
    "    VpcEndpointType='Gateway',\n",
    "    VpcId=vpc_res['Vpc']['VpcId'],\n",
    "    ServiceName=f'com.amazonaws.{region_name}.s3',\n",
    "    RouteTableIds=[rt_res['RouteTable']['RouteTableId']],\n",
    "    \n",
    "    # you don't need to add a tag, it is only\n",
    "    # used as a convenient way to filter through your \n",
    "    # endpoints in the future \n",
    "    TagSpecifications=[    \n",
    "        {\n",
    "            'ResourceType': 'vpc-endpoint',\n",
    "            'Tags' : [\n",
    "                {\n",
    "                    'Key' : 'Service',\n",
    "                    'Value': 'SageMaker'\n",
    "                }\n",
    "            ]\n",
    "        }\n",
    "    ]\n",
    "    \n",
    ")\n",
    "\n",
    "pp.pprint(iep_res)"
   ]
  }
 ],
 "metadata": {
  "kernelspec": {
   "display_name": "Python 3",
   "language": "python",
   "name": "python3"
  },
  "language_info": {
   "codemirror_mode": {
    "name": "ipython",
    "version": 3
   },
   "file_extension": ".py",
   "mimetype": "text/x-python",
   "name": "python",
   "nbconvert_exporter": "python",
   "pygments_lexer": "ipython3",
   "version": "3.6.10"
  }
 },
 "nbformat": 4,
 "nbformat_minor": 4
}
