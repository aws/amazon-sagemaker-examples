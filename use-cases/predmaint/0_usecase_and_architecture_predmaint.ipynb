{
 "cells": [
  {
   "cell_type": "markdown",
   "metadata": {},
   "source": [
    "# Fleet Predictive Maintenance: Part 1. Introduction\n",
    "\n",
    "*Using SageMaker Studio to Predict Fault Classification*\n",
    "\n",
    "---\n",
    "\n",
    "## Contents\n",
    "\n",
    "1. [Background](#0_Background)\n",
    "1. [Setup](#0_Setup)\n",
    "1. [Architecure](#0_Architecture)\n",
    "1. [Data Prep: Processing Job from Data Wrangler Output](./1_dataprep_dw_job_predmaint.ipynb)\n",
    "1. [Data Prep: Featurization](./2_dataprep_predmaint.ipynb.ipynb)\n",
    "1. [Train, Tune and Predict using Batch Transform](./3_train_tune_predict_predmaint.ipynb.ipynb)\n",
    "\n",
    "\n",
    "\n",
    "\n",
    "---\n",
    "<a id ='0_Background'> </a>\n",
    "## Background\n",
    "\n",
    "The purpose of this notebook is to demonstrate a Predictive Maintenance (PrM) solution for automible fleet maintenance via Amazon SageMaker Studio so that business users have a quick path towards a PrM POC. In this notebook, we focus on preprocessing engine sensor data before feature engineering and buidling an inital model leveraging SageMaker's algorithms. This notebook will cover the following:\n",
    "\n",
    "* Setup for using SageMaker\n",
    "* Basic data cleaning, analysis and preprocessing\n",
    "* Converting datasets to format used by the Amazon SageMaker algorithms and uploading to S3 \n",
    "* Training SageMaker's linear learner on the dataset\n",
    "* Hyperparamter tuning using SageMaker Automatic Tuning\n",
    "* Deploying and getting predictions using Batch Transform\n",
    "\n",
    "## Important Notes: \n",
    "\n",
    "* Due to cost consideration, the goal of this example is to show you how to use some of SageMaker Studio's features, not necessarily to achieve the best result. \n",
    "* We use the built-in classification algorithm in this example, and a Python 3 (Data Science) Kernel is required.\n",
    "* The nature of predictive maintenace solutions, requires a domain knowledge expert of the system or machinery. With this in mind, we will make assumptions here for certain elements of this solution with the acknowldgement that these assumptions should be informed by a domain expert and a main business stakeholder\n",
    "\n",
    "Please see the README.md for more information about this use case. "
   ]
  },
  {
   "cell_type": "markdown",
   "metadata": {},
   "source": [
    "<a id ='0_Setup'> </a>\n",
    "## Set up\n",
    "\n",
    "Let's start by:\n",
    "\n",
    "* Setting up or refreshing storemagic variables \n",
    "* Install and Import any dependencies\n",
    "* Instatiate SageMaker session\n",
    "* Specifying the S3 bucket and prefix that you want to use for your training and model data. This should be within the same region as SageMaker training\n",
    "* Define the IAM role used to give training access to your data\n",
    " "
   ]
  },
  {
   "cell_type": "markdown",
   "metadata": {},
   "source": [
    "### View stored variables from previous session\n",
    "\n",
    "If you ran this notebook before, you may want to re-use the resources you aready created with AWS. Run the cell below to load any prevously created variables. You should see a print-out of the existing variables. If you don't see anything you may need to create them again or it may be your first time running this notebook."
   ]
  },
  {
   "cell_type": "markdown",
   "metadata": {},
   "source": [
    "After you run the notebooks each in succession you will accrue a set of stored variables, stored gradually as you run each notebook:\n",
    "Stored variables and their in-db values:\n",
    "<font color ='yellow'>\n",
    "\n",
    "- create_date                         -> '2021-03-16-06-42-12'\n",
    "- dw_output_path_prm                  -> 's3://sagemaker-us-east-2-1234567890/export-flow\n",
    "- exp_prefix                          -> 'sagemaker-experiments/linear-learner-2021-03-16-0\n",
    "- experiment_name                     -> 'll-failure-classification-2021-03-16-06-42-12'\n",
    "- features_created_prm                -> True\n",
    "- path_to_test_data_prm               -> 's3://sagemaker-us-east-2-1234567890/test/test.c\n",
    "- path_to_test_x_data_prm             -> 's3://sagemaker-us-east-2-1234567890/test/test_x\n",
    "- path_to_train_data_prm              -> 's3://sagemaker-us-east-2-1234567890/train/train\n",
    "- path_to_valid_data_prm              -> 's3://sagemaker-us-east-2-1234567890/validation/\n",
    "- trial_name_1                        -> 'linear-learner-lr-training-job-2021-03-16-06-42-1\n",
    "- trial_name_2                        -> 'linear-learner-svm-2021-03-16-06-00-37'\n",
    "- trial_name_3                        -> 'linear-learner-svm-thresh-2021-03-16-06-00-37'\n",
    "- trial_name_4                        -> 'linear-learner-svm-balanced-2021-03-16-06-00-37'\n",
    "- tune_trial_name                     -> 'll-svm-tuning-job-trial'\n",
    "- tuning_job_name                     -> 'll-svm-tuning-job'\n",
    "    \n",
    "    \n",
    "</font>"
   ]
  },
  {
   "cell_type": "code",
   "execution_count": null,
   "metadata": {},
   "outputs": [],
   "source": [
    "%store -r\n",
    "%store"
   ]
  },
  {
   "cell_type": "markdown",
   "metadata": {},
   "source": [
    "Note : The above output will be null in the very beginning. On subsequent runs, you will see the stored variables. "
   ]
  },
  {
   "cell_type": "markdown",
   "metadata": {},
   "source": [
    "<a id =\"0_Architecture\"> </a>\n",
    "## Architecture\n",
    "\n",
    "![solution_arch_diagram](./images/solution_arch_diagram.png)"
   ]
  },
  {
   "cell_type": "markdown",
   "metadata": {},
   "source": [
    "---\n",
    "<a id ='0_next_notebook'> </a>\n",
    "## Next Notebook : Data Prep with DataWrangler"
   ]
  },
  {
   "cell_type": "code",
   "execution_count": null,
   "metadata": {},
   "outputs": [],
   "source": []
  }
 ],
 "metadata": {
  "instance_type": "ml.t3.medium",
  "kernelspec": {
   "display_name": "conda_python3",
   "language": "python",
   "name": "conda_python3"
  },
  "language_info": {
   "codemirror_mode": {
    "name": "ipython",
    "version": 3
   },
   "file_extension": ".py",
   "mimetype": "text/x-python",
   "name": "python",
   "nbconvert_exporter": "python",
   "pygments_lexer": "ipython3",
   "version": "3.6.13"
  }
 },
 "nbformat": 4,
 "nbformat_minor": 4
}
