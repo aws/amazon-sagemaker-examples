{
 "cells": [
  {
   "cell_type": "markdown",
   "id": "43440bee",
   "metadata": {
    "papermill": {
     "duration": 0.011427,
     "end_time": "2022-04-18T00:21:57.213452",
     "exception": false,
     "start_time": "2022-04-18T00:21:57.202025",
     "status": "completed"
    },
    "tags": []
   },
   "source": [
    "# Regression with Amazon SageMaker XGBoost algorithm\n",
    "_**Distributed training for regression with Amazon SageMaker XGBoost script mode**_\n",
    "\n",
    "---\n",
    "\n",
    "## Contents\n",
    "1. [Introduction](#Introduction)\n",
    "2. [Setup](#Setup)\n",
    "  1. [Fetching the dataset](#Fetching-the-dataset)\n",
    "  2. [Data Ingestion](#Data-ingestion)\n",
    "3. [Training the XGBoost model](#Training-the-XGBoost-model)\n",
    "3. [Deploying the XGBoost model](#Deploying-the-XGBoost-model)\n",
    "\n",
    "---"
   ]
  },
  {
   "cell_type": "markdown",
   "id": "a7eef5e9",
   "metadata": {
    "papermill": {
     "duration": 0.010518,
     "end_time": "2022-04-18T00:21:57.234674",
     "exception": false,
     "start_time": "2022-04-18T00:21:57.224156",
     "status": "completed"
    },
    "tags": []
   },
   "source": [
    "## Introduction\n",
    "\n",
    "This notebook demonstrates the use of Amazon SageMaker XGBoost to train and host a regression model. [XGBoost (eXtreme Gradient Boosting)](https://xgboost.readthedocs.io) is a popular and efficient machine learning algorithm used for regression and classification tasks on tabular datasets. It implements a technique know as gradient boosting on trees, and performs remarkably well in machine learning competitions, and gets a lot of attention from customers. \n",
    "\n",
    "We use the [Abalone data](https://www.csie.ntu.edu.tw/~cjlin/libsvmtools/datasets/regression.html), originally from the [UCI data repository](https://archive.ics.uci.edu/ml/datasets/abalone). More details about the original dataset can be found [here](https://archive.ics.uci.edu/ml/machine-learning-databases/abalone/abalone.names).  In this libsvm converted version, the nominal feature (Male/Female/Infant) has been converted into a real valued feature as required by XGBoost. Age of abalone is to be predicted from eight physical measurements.  \n",
    "\n",
    "---\n",
    "## Setup\n",
    "\n",
    "\n",
    "This notebook was created and tested on an ml.m5.2xlarge notebook instance.  This notebook was run with the Python 3 (Data Science) kernel.\n",
    "\n",
    "Let's start by specifying:\n",
    "1. The S3 bucket and prefix that you want to use for training and model data. This should be within the same region as the Notebook Instance, training, and hosting.\n",
    "1. The IAM role arn used to give training and hosting access to your data. See the documentation for how to create these. Note, if more than one role is required for notebook instances, training, and/or hosting, please replace the boto regexp with a the appropriate full IAM role arn string(s)."
   ]
  },
  {
   "cell_type": "code",
   "execution_count": 2,
   "id": "d98e6461",
   "metadata": {
    "execution": {
     "iopub.execute_input": "2022-04-18T00:21:57.260984Z",
     "iopub.status.busy": "2022-04-18T00:21:57.260077Z",
     "iopub.status.idle": "2022-04-18T00:21:59.571104Z",
     "shell.execute_reply": "2022-04-18T00:21:59.570085Z"
    },
    "papermill": {
     "duration": 2.325704,
     "end_time": "2022-04-18T00:21:59.571263",
     "exception": false,
     "start_time": "2022-04-18T00:21:57.245559",
     "status": "completed"
    },
    "tags": []
   },
   "outputs": [
    {
     "name": "stdout",
     "output_type": "stream",
     "text": [
      "Name: sagemaker\r\n",
      "Version: 2.69.1.dev0\r\n",
      "Summary: Open source library for training and deploying models on Amazon SageMaker.\r\n",
      "Home-page: https://github.com/aws/sagemaker-python-sdk/\r\n",
      "Author: Amazon Web Services\r\n",
      "Author-email: None\r\n",
      "License: Apache License 2.0\r\n",
      "Location: /opt/conda/lib/python3.7/site-packages\r\n",
      "Requires: smdebug-rulesconfig, protobuf3-to-dict, pandas, attrs, google-pasta, pathos, numpy, importlib-metadata, protobuf, packaging, boto3\r\n",
      "Required-by: \r\n"
     ]
    }
   ],
   "source": [
    "# ensure sagemaker version >= 2.00.0\n",
    "!pip show sagemaker"
   ]
  },
  {
   "cell_type": "code",
   "execution_count": 3,
   "id": "154b6201",
   "metadata": {
    "execution": {
     "iopub.execute_input": "2022-04-18T00:21:59.599146Z",
     "iopub.status.busy": "2022-04-18T00:21:59.598618Z",
     "iopub.status.idle": "2022-04-18T00:22:02.482242Z",
     "shell.execute_reply": "2022-04-18T00:22:02.482595Z"
    },
    "isConfigCell": true,
    "papermill": {
     "duration": 2.900378,
     "end_time": "2022-04-18T00:22:02.482853",
     "exception": false,
     "start_time": "2022-04-18T00:21:59.582475",
     "status": "completed"
    },
    "tags": []
   },
   "outputs": [
    {
     "name": "stdout",
     "output_type": "stream",
     "text": [
      "us-west-2\n",
      "CPU times: user 700 ms, sys: 133 ms, total: 833 ms\n",
      "Wall time: 2.88 s\n"
     ]
    }
   ],
   "source": [
    "%%time\n",
    "\n",
    "import os\n",
    "import boto3\n",
    "import re\n",
    "import sagemaker\n",
    "\n",
    "# Get a SageMaker-compatible role used by this Notebook Instance.\n",
    "role = sagemaker.get_execution_role()\n",
    "region = boto3.Session().region_name\n",
    "\n",
    "### update below values appropriately ###\n",
    "bucket = sagemaker.Session().default_bucket()\n",
    "prefix = \"sagemaker/DEMO-xgboost-dist-script\"\n",
    "####\n",
    "\n",
    "print(region)"
   ]
  },
  {
   "cell_type": "markdown",
   "id": "a06e151c",
   "metadata": {
    "papermill": {
     "duration": 0.013395,
     "end_time": "2022-04-18T00:22:02.508542",
     "exception": false,
     "start_time": "2022-04-18T00:22:02.495147",
     "status": "completed"
    },
    "tags": []
   },
   "source": [
    "### Fetching the dataset\n",
    "\n",
    "Following methods split the data into train/test/validation datasets and upload files to S3."
   ]
  },
  {
   "cell_type": "code",
   "execution_count": 4,
   "id": "9558a487",
   "metadata": {
    "execution": {
     "iopub.execute_input": "2022-04-18T00:22:02.542277Z",
     "iopub.status.busy": "2022-04-18T00:22:02.541297Z",
     "iopub.status.idle": "2022-04-18T00:22:02.544099Z",
     "shell.execute_reply": "2022-04-18T00:22:02.544505Z"
    },
    "papermill": {
     "duration": 0.023997,
     "end_time": "2022-04-18T00:22:02.544703",
     "exception": false,
     "start_time": "2022-04-18T00:22:02.520706",
     "status": "completed"
    },
    "tags": []
   },
   "outputs": [
    {
     "name": "stdout",
     "output_type": "stream",
     "text": [
      "CPU times: user 9 µs, sys: 1e+03 ns, total: 10 µs\n",
      "Wall time: 13.6 µs\n"
     ]
    }
   ],
   "source": [
    "%%time\n",
    "\n",
    "import io\n",
    "import boto3\n",
    "import random\n",
    "\n",
    "\n",
    "def data_split(\n",
    "    FILE_DATA,\n",
    "    DATA_DIR,\n",
    "    FILE_TRAIN_BASE,\n",
    "    FILE_TRAIN_1,\n",
    "    FILE_VALIDATION,\n",
    "    FILE_TEST,\n",
    "    PERCENT_TRAIN_0,\n",
    "    PERCENT_TRAIN_1,\n",
    "    PERCENT_VALIDATION,\n",
    "    PERCENT_TEST,\n",
    "):\n",
    "    data = [l for l in open(FILE_DATA, \"r\")]\n",
    "    train_file_0 = open(DATA_DIR + \"/\" + FILE_TRAIN_0, \"w\")\n",
    "    train_file_1 = open(DATA_DIR + \"/\" + FILE_TRAIN_1, \"w\")\n",
    "    valid_file = open(DATA_DIR + \"/\" + FILE_VALIDATION, \"w\")\n",
    "    tests_file = open(DATA_DIR + \"/\" + FILE_TEST, \"w\")\n",
    "\n",
    "    num_of_data = len(data)\n",
    "    num_train_0 = int((PERCENT_TRAIN_0 / 100.0) * num_of_data)\n",
    "    num_train_1 = int((PERCENT_TRAIN_1 / 100.0) * num_of_data)\n",
    "    num_valid = int((PERCENT_VALIDATION / 100.0) * num_of_data)\n",
    "    num_tests = int((PERCENT_TEST / 100.0) * num_of_data)\n",
    "\n",
    "    data_fractions = [num_train_0, num_train_1, num_valid, num_tests]\n",
    "    split_data = [[], [], [], []]\n",
    "\n",
    "    rand_data_ind = 0\n",
    "\n",
    "    for split_ind, fraction in enumerate(data_fractions):\n",
    "        for i in range(fraction):\n",
    "            rand_data_ind = random.randint(0, len(data) - 1)\n",
    "            split_data[split_ind].append(data[rand_data_ind])\n",
    "            data.pop(rand_data_ind)\n",
    "\n",
    "    for l in split_data[0]:\n",
    "        train_file_0.write(l)\n",
    "\n",
    "    for l in split_data[1]:\n",
    "        train_file_1.write(l)\n",
    "\n",
    "    for l in split_data[2]:\n",
    "        valid_file.write(l)\n",
    "\n",
    "    for l in split_data[3]:\n",
    "        tests_file.write(l)\n",
    "\n",
    "    train_file_0.close()\n",
    "    train_file_1.close()\n",
    "    valid_file.close()\n",
    "    tests_file.close()\n",
    "\n",
    "\n",
    "def write_to_s3(fobj, bucket, key):\n",
    "    return (\n",
    "        boto3.Session(region_name=region)\n",
    "        .resource(\"s3\")\n",
    "        .Bucket(bucket)\n",
    "        .Object(key)\n",
    "        .upload_fileobj(fobj)\n",
    "    )\n",
    "\n",
    "\n",
    "def upload_to_s3(bucket, channel, filename):\n",
    "    fobj = open(filename, \"rb\")\n",
    "    key = prefix + \"/\" + channel\n",
    "    url = \"s3://{}/{}/{}\".format(bucket, key, filename)\n",
    "    print(\"Writing to {}\".format(url))\n",
    "    write_to_s3(fobj, bucket, key)"
   ]
  },
  {
   "cell_type": "markdown",
   "id": "88c7e698",
   "metadata": {
    "papermill": {
     "duration": 0.011818,
     "end_time": "2022-04-18T00:22:02.569097",
     "exception": false,
     "start_time": "2022-04-18T00:22:02.557279",
     "status": "completed"
    },
    "tags": []
   },
   "source": [
    "### Data ingestion\n",
    "\n",
    "Next, we read the dataset from the existing repository into memory, for preprocessing prior to training. This processing could be done *in situ* by Amazon Athena, Apache Spark in Amazon EMR, Amazon Redshift, etc., assuming the dataset is present in the appropriate location. Then, the next step would be to transfer the data to S3 for use in training. For small datasets, such as this one, reading into memory isn't onerous, though it would be for larger datasets."
   ]
  },
  {
   "cell_type": "code",
   "execution_count": 5,
   "id": "44bc505e",
   "metadata": {
    "execution": {
     "iopub.execute_input": "2022-04-18T00:22:02.608975Z",
     "iopub.status.busy": "2022-04-18T00:22:02.607438Z",
     "iopub.status.idle": "2022-04-18T00:22:03.299506Z",
     "shell.execute_reply": "2022-04-18T00:22:03.299868Z"
    },
    "papermill": {
     "duration": 0.718785,
     "end_time": "2022-04-18T00:22:03.300012",
     "exception": false,
     "start_time": "2022-04-18T00:22:02.581227",
     "status": "completed"
    },
    "tags": []
   },
   "outputs": [
    {
     "name": "stdout",
     "output_type": "stream",
     "text": [
      "CPU times: user 79.3 ms, sys: 7.48 ms, total: 86.8 ms\n",
      "Wall time: 693 ms\n"
     ]
    }
   ],
   "source": [
    "%%time\n",
    "import boto3\n",
    "\n",
    "# Load the dataset\n",
    "FILE_DATA = \"abalone\"\n",
    "s3 = boto3.client(\"s3\")\n",
    "s3.download_file(\n",
    "    f\"sagemaker-sample-files\", \"datasets/tabular/uci_abalone/abalone.libsvm\", FILE_DATA\n",
    ")\n",
    "\n",
    "# split the downloaded data into train/test/validation files\n",
    "FILE_TRAIN_0 = \"abalone.train_0\"\n",
    "FILE_TRAIN_1 = \"abalone.train_1\"\n",
    "FILE_VALIDATION = \"abalone.validation\"\n",
    "FILE_TEST = \"abalone.test\"\n",
    "PERCENT_TRAIN_0 = 35\n",
    "PERCENT_TRAIN_1 = 35\n",
    "PERCENT_VALIDATION = 15\n",
    "PERCENT_TEST = 15\n",
    "\n",
    "DATA_DIR = \"data\"\n",
    "\n",
    "if not os.path.exists(DATA_DIR):\n",
    "    os.mkdir(DATA_DIR)\n",
    "\n",
    "data_split(\n",
    "    FILE_DATA,\n",
    "    DATA_DIR,\n",
    "    FILE_TRAIN_0,\n",
    "    FILE_TRAIN_1,\n",
    "    FILE_VALIDATION,\n",
    "    FILE_TEST,\n",
    "    PERCENT_TRAIN_0,\n",
    "    PERCENT_TRAIN_1,\n",
    "    PERCENT_VALIDATION,\n",
    "    PERCENT_TEST,\n",
    ")"
   ]
  },
  {
   "cell_type": "code",
   "execution_count": 6,
   "id": "8c0b094a",
   "metadata": {
    "execution": {
     "iopub.execute_input": "2022-04-18T00:22:03.332976Z",
     "iopub.status.busy": "2022-04-18T00:22:03.332148Z",
     "iopub.status.idle": "2022-04-18T00:22:03.981745Z",
     "shell.execute_reply": "2022-04-18T00:22:03.982093Z"
    },
    "papermill": {
     "duration": 0.667397,
     "end_time": "2022-04-18T00:22:03.982234",
     "exception": false,
     "start_time": "2022-04-18T00:22:03.314837",
     "status": "completed"
    },
    "tags": []
   },
   "outputs": [
    {
     "name": "stdout",
     "output_type": "stream",
     "text": [
      "Writing to s3://sagemaker-us-west-2-000000000000/sagemaker/DEMO-xgboost-dist-script/train/train_0.libsvm/data/abalone.train_0\n",
      "Writing to s3://sagemaker-us-west-2-000000000000/sagemaker/DEMO-xgboost-dist-script/train/train_1.libsvm/data/abalone.train_1\n",
      "Writing to s3://sagemaker-us-west-2-000000000000/sagemaker/DEMO-xgboost-dist-script/validation/validation.libsvm/data/abalone.validation\n",
      "Writing to s3://sagemaker-us-west-2-000000000000/sagemaker/DEMO-xgboost-dist-script/test/test.libsvm/data/abalone.test\n"
     ]
    }
   ],
   "source": [
    "# upload the files to the S3 bucket\n",
    "upload_to_s3(bucket, \"train/train_0.libsvm\", DATA_DIR + \"/\" + FILE_TRAIN_0)\n",
    "upload_to_s3(bucket, \"train/train_1.libsvm\", DATA_DIR + \"/\" + FILE_TRAIN_1)\n",
    "upload_to_s3(bucket, \"validation/validation.libsvm\", DATA_DIR + \"/\" + FILE_VALIDATION)\n",
    "upload_to_s3(bucket, \"test/test.libsvm\", DATA_DIR + \"/\" + FILE_TEST)"
   ]
  },
  {
   "cell_type": "markdown",
   "id": "093ae2f3",
   "metadata": {
    "papermill": {
     "duration": 0.01238,
     "end_time": "2022-04-18T00:22:04.006988",
     "exception": false,
     "start_time": "2022-04-18T00:22:03.994608",
     "status": "completed"
    },
    "tags": []
   },
   "source": [
    "## Create a XGBoost script to train with \n",
    "\n",
    "SageMaker can now run an XGboost script using the XGBoost estimator. When executed on SageMaker a number of helpful environment variables are available to access properties of the training environment, such as:\n",
    "\n",
    "- `SM_MODEL_DIR`: A string representing the path to the directory to write model artifacts to. Any artifacts saved in this folder are uploaded to S3 for model hosting after the training job completes.\n",
    "- `SM_OUTPUT_DIR`: A string representing the filesystem path to write output artifacts to. Output artifacts may include checkpoints, graphs, and other files to save, not including model artifacts. These artifacts are compressed and uploaded to S3 to the same S3 prefix as the model artifacts.\n",
    "\n",
    "Supposing two input channels, 'train' and 'validation', were used in the call to the XGBoost estimator's fit() method, the following environment variables will be set, following the format `SM_CHANNEL_[channel_name]`:\n",
    "\n",
    "`SM_CHANNEL_TRAIN`: A string representing the path to the directory containing data in the 'train' channel\n",
    "`SM_CHANNEL_VALIDATION`: Same as above, but for the 'validation' channel.\n",
    "\n",
    "A typical training script loads data from the input channels, configures training with hyperparameters, trains a model, and saves a model to model_dir so that it can be hosted later. Hyperparameters are passed to your script as arguments and can be retrieved with an argparse.ArgumentParser instance. For example, the script that we will run in this notebook is provided as the accompanying file (`abalone.py`) and also shown below:\n",
    "\n",
    "```python\n",
    "\n",
    "import argparse\n",
    "import json\n",
    "import logging\n",
    "import os\n",
    "import pandas as pd\n",
    "import pickle as pkl\n",
    "\n",
    "from sagemaker_containers import entry_point\n",
    "from sagemaker_xgboost_container.data_utils import get_dmatrix\n",
    "from sagemaker_xgboost_container import distributed\n",
    "\n",
    "import xgboost as xgb\n",
    "\n",
    "\n",
    "def _xgb_train(params, dtrain, evals, num_boost_round, model_dir, is_master):\n",
    "    \"\"\"Run xgb train on arguments given with rabit initialized.\n",
    "\n",
    "    This is our rabit execution function.\n",
    "\n",
    "    :param args_dict: Argument dictionary used to run xgb.train().\n",
    "    :param is_master: True if current node is master host in distributed training, or is running single node training job. Note that rabit_run will include this argument.\n",
    "    \"\"\"\n",
    "    booster = xgb.train(params=params, dtrain=dtrain, evals=evals, num_boost_round=num_boost_round)\n",
    "\n",
    "    if is_master:\n",
    "        model_location = model_dir + '/xgboost-model'\n",
    "        pkl.dump(booster, open(model_location, 'wb'))\n",
    "        logging.info(\"Stored trained model at {}\".format(model_location))\n",
    "\n",
    "\n",
    "if __name__ == '__main__':\n",
    "    parser = argparse.ArgumentParser()\n",
    "\n",
    "    # Hyperparameters are described here. In this simple example we are just including one hyperparameter.\n",
    "    parser.add_argument('--max_depth', type=int,)\n",
    "    parser.add_argument('--eta', type=float)\n",
    "    parser.add_argument('--gamma', type=int)\n",
    "    parser.add_argument('--min_child_weight', type=int)\n",
    "    parser.add_argument('--subsample', type=float)\n",
    "    parser.add_argument('--verbose', type=int)\n",
    "    parser.add_argument('--objective', type=str)\n",
    "    parser.add_argument('--num_round', type=int)\n",
    "\n",
    "    # Sagemaker specific arguments. Defaults are set in the environment variables.\n",
    "    parser.add_argument('--output_data_dir', type=str, default=os.environ['SM_OUTPUT_DATA_DIR'])\n",
    "    parser.add_argument('--model_dir', type=str, default=os.environ['SM_MODEL_DIR'])\n",
    "    parser.add_argument('--train', type=str, default=os.environ['SM_CHANNEL_TRAIN'])\n",
    "    parser.add_argument('--validation', type=str, default=os.environ['SM_CHANNEL_VALIDATION'])\n",
    "    parser.add_argument('--sm_hosts', type=str, default=os.environ['SM_HOSTS'])\n",
    "    parser.add_argument('--sm_current_host', type=str, default=os.environ['SM_CURRENT_HOST'])\n",
    "\n",
    "    args, _ = parser.parse_known_args()\n",
    "\n",
    "    # Get SageMaker host information from runtime environment variables\n",
    "    sm_hosts = json.loads(os.environ['SM_HOSTS'])\n",
    "    sm_current_host = args.sm_current_host\n",
    "\n",
    "    dtrain = get_dmatrix(args.train, 'libsvm')\n",
    "    dval = get_dmatrix(args.validation, 'libsvm')\n",
    "    watchlist = [(dtrain, 'train'), (dval, 'validation')] if dval is not None else [(dtrain, 'train')]\n",
    "\n",
    "    train_hp = {\n",
    "        'max_depth': args.max_depth,\n",
    "        'eta': args.eta,\n",
    "        'gamma': args.gamma,\n",
    "        'min_child_weight': args.min_child_weight,\n",
    "        'subsample': args.subsample,\n",
    "        'verbose': args.verbose,\n",
    "        'objective': args.objective}\n",
    "\n",
    "    xgb_train_args = dict(\n",
    "        params=train_hp,\n",
    "        dtrain=dtrain,\n",
    "        evals=watchlist,\n",
    "        num_boost_round=args.num_round,\n",
    "        model_dir=args.model_dir)\n",
    "\n",
    "    if len(sm_hosts) > 1:\n",
    "        # Wait until all hosts are able to find each other\n",
    "        entry_point._wait_hostname_resolution()\n",
    "\n",
    "        # Execute training function after initializing rabit.\n",
    "        distributed.rabit_run(\n",
    "            exec_fun=_xgb_train,\n",
    "            args=xgb_train_args,\n",
    "            include_in_training=(dtrain is not None),\n",
    "            hosts=sm_hosts,\n",
    "            current_host=sm_current_host,\n",
    "            update_rabit_args=True\n",
    "        )\n",
    "    else:\n",
    "        # If single node training, call training method directly.\n",
    "        if dtrain:\n",
    "            xgb_train_args['is_master'] = True\n",
    "            _xgb_train(**xgb_train_args)\n",
    "        else:\n",
    "            raise ValueError(\"Training channel must have data to train model.\")\n",
    "\n",
    "\n",
    "def model_fn(model_dir):\n",
    "    \"\"\"Deserialized and return fitted model.\n",
    "\n",
    "    Note that this should have the same name as the serialized model in the _xgb_train method\n",
    "    \"\"\"\n",
    "    model_file = 'xgboost-model'\n",
    "    booster = pkl.load(open(os.path.join(model_dir, model_file), 'rb'))\n",
    "    return booster\n",
    "```\n",
    "\n"
   ]
  },
  {
   "cell_type": "markdown",
   "id": "62aee8bc",
   "metadata": {
    "papermill": {
     "duration": 0.012325,
     "end_time": "2022-04-18T00:22:04.031637",
     "exception": false,
     "start_time": "2022-04-18T00:22:04.019312",
     "status": "completed"
    },
    "tags": []
   },
   "source": [
    "Because the container imports your training script, always put your training code in a main guard `(if __name__=='__main__':)` so that the container does not inadvertently run your training code at the wrong point in execution.\n",
    "\n",
    "For more information about training environment variables, please visit https://github.com/aws/sagemaker-containers."
   ]
  },
  {
   "cell_type": "markdown",
   "id": "773ef5db",
   "metadata": {
    "papermill": {
     "duration": 0.014939,
     "end_time": "2022-04-18T00:22:04.092316",
     "exception": false,
     "start_time": "2022-04-18T00:22:04.077377",
     "status": "completed"
    },
    "tags": []
   },
   "source": [
    "## Training the XGBoost model\n",
    "\n",
    "After setting training parameters, we kick off training, and poll for status until training is completed, which in this example, takes between few minutes.\n",
    "\n",
    "To run our training script on SageMaker, we construct a sagemaker.xgboost.estimator.XGBoost estimator, which accepts several constructor arguments:\n",
    "\n",
    "* __entry_point__: The path to the Python script SageMaker runs for training and prediction.\n",
    "* __role__: Role ARN\n",
    "* __instance_type__ *(optional)*: The type of SageMaker instances for training. __Note__: Because Scikit-learn does not natively support GPU training, Sagemaker Scikit-learn does not currently support training on GPU instance types.\n",
    "* __sagemaker_session__ *(optional)*: The session used to train on Sagemaker.\n",
    "* __hyperparameters__ *(optional)*: A dictionary passed to the train function as hyperparameters."
   ]
  },
  {
   "cell_type": "code",
   "execution_count": 7,
   "id": "4d13fc0e",
   "metadata": {
    "execution": {
     "iopub.execute_input": "2022-04-18T00:22:04.269763Z",
     "iopub.status.busy": "2022-04-18T00:22:04.269200Z",
     "iopub.status.idle": "2022-04-18T00:22:04.271701Z",
     "shell.execute_reply": "2022-04-18T00:22:04.271260Z"
    },
    "papermill": {
     "duration": 0.095616,
     "end_time": "2022-04-18T00:22:04.271839",
     "exception": false,
     "start_time": "2022-04-18T00:22:04.176223",
     "status": "completed"
    },
    "tags": []
   },
   "outputs": [],
   "source": [
    "hyperparams = {\n",
    "    \"max_depth\": \"5\",\n",
    "    \"eta\": \"0.2\",\n",
    "    \"gamma\": \"4\",\n",
    "    \"min_child_weight\": \"6\",\n",
    "    \"subsample\": \"0.7\",\n",
    "    \"verbose\": \"1\",\n",
    "    \"objective\": \"reg:linear\",\n",
    "    \"num_round\": \"50\",\n",
    "}\n",
    "\n",
    "instance_type = \"ml.m5.2xlarge\"\n",
    "output_path = \"s3://{}/{}/{}/output\".format(bucket, prefix, \"abalone-dist-xgb\")\n",
    "content_type = \"libsvm\""
   ]
  },
  {
   "cell_type": "code",
   "execution_count": 8,
   "id": "29da4db1",
   "metadata": {
    "execution": {
     "iopub.execute_input": "2022-04-18T00:22:04.368179Z",
     "iopub.status.busy": "2022-04-18T00:22:04.367346Z",
     "iopub.status.idle": "2022-04-18T00:22:04.879783Z",
     "shell.execute_reply": "2022-04-18T00:22:04.879153Z"
    },
    "papermill": {
     "duration": 0.595297,
     "end_time": "2022-04-18T00:22:04.879905",
     "exception": false,
     "start_time": "2022-04-18T00:22:04.284608",
     "status": "completed"
    },
    "tags": []
   },
   "outputs": [],
   "source": [
    "# Open Source distributed script mode\n",
    "from sagemaker.session import TrainingInput, Session\n",
    "from sagemaker.xgboost.estimator import XGBoost\n",
    "\n",
    "boto_session = boto3.Session(region_name=region)\n",
    "session = Session(boto_session=boto_session)\n",
    "script_path = \"abalone.py\"\n",
    "\n",
    "xgb_script_mode_estimator = XGBoost(\n",
    "    entry_point=script_path,\n",
    "    framework_version=\"1.5-1\",  # Note: framework_version is mandatory\n",
    "    hyperparameters=hyperparams,\n",
    "    role=role,\n",
    "    instance_count=2,\n",
    "    instance_type=instance_type,\n",
    "    output_path=output_path,\n",
    ")\n",
    "\n",
    "train_input = TrainingInput(\n",
    "    \"s3://{}/{}/{}/\".format(bucket, prefix, \"train\"), content_type=content_type\n",
    ")\n",
    "validation_input = TrainingInput(\n",
    "    \"s3://{}/{}/{}/\".format(bucket, prefix, \"validation\"), content_type=content_type\n",
    ")"
   ]
  },
  {
   "cell_type": "markdown",
   "id": "17c18487",
   "metadata": {
    "papermill": {
     "duration": 0.07573,
     "end_time": "2022-04-18T00:22:04.968480",
     "exception": false,
     "start_time": "2022-04-18T00:22:04.892750",
     "status": "completed"
    },
    "tags": []
   },
   "source": [
    "### Train XGBoost Estimator on abalone data \n",
    "\n",
    "\n",
    "Training is as simple as calling `fit` on the Estimator. This will start a SageMaker Training job that will download the data, invoke the entry point code (in the provided script file), and save any model artifacts that the script creates."
   ]
  },
  {
   "cell_type": "code",
   "execution_count": 9,
   "id": "40713352",
   "metadata": {
    "execution": {
     "iopub.execute_input": "2022-04-18T00:22:04.998824Z",
     "iopub.status.busy": "2022-04-18T00:22:04.997986Z",
     "iopub.status.idle": "2022-04-18T00:25:28.724667Z",
     "shell.execute_reply": "2022-04-18T00:25:28.724219Z"
    },
    "papermill": {
     "duration": 203.743742,
     "end_time": "2022-04-18T00:25:28.724897",
     "exception": false,
     "start_time": "2022-04-18T00:22:04.981155",
     "status": "completed"
    },
    "scrolled": false,
    "tags": []
   },
   "outputs": [
    {
     "name": "stdout",
     "output_type": "stream",
     "text": [
      "2022-04-18 00:22:05 Starting - Starting the training job...\n",
      "2022-04-18 00:22:23 Starting - Preparing the instances for trainingProfilerReport-1650241324: InProgress\n",
      "......\n",
      "2022-04-18 00:23:27 Downloading - Downloading input data...\n",
      "2022-04-18 00:24:12 Training - Downloading the training image..\u001B[34mINFO:sagemaker-containers:Imported framework sagemaker_xgboost_container.training\u001B[0m\n",
      "\u001B[34mINFO:sagemaker-containers:No GPUs detected (normal if no gpus installed)\u001B[0m\n",
      "\u001B[34mINFO:sagemaker_xgboost_container.training:Invoking user training script.\u001B[0m\n",
      "\u001B[34mINFO:sagemaker-containers:Module abalone does not provide a setup.py. \u001B[0m\n",
      "...\n",
      "2022-04-18 00:24:45 Training - Training image download completed. Training in progress.\u001B[34m[00:24:30] WARNING: /workspace/src/objective/regression_obj.cu:152: reg:linear is now deprecated in favor of reg:squarederror.\u001B[0m\n",
      "\u001B[34m[00:24:30] WARNING: /workspace/src/learner.cc:622: Tree method is automatically selected to be 'approx' for distributed training.\u001B[0m\n",
      "\u001B[34m[00:24:30] Tree method is automatically selected to be 'approx' for distributed training.\u001B[0m\n",
      "\u001B[35m[00:24:30] WARNING: /workspace/src/objective/regression_obj.cu:152: reg:linear is now deprecated in favor of reg:squarederror.\u001B[0m\n",
      "\u001B[35m[00:24:30] WARNING: /workspace/src/learner.cc:622: Tree method is automatically selected to be 'approx' for distributed training.\u001B[0m\n",
      "\u001B[35m[00:24:30] Tree method is automatically selected to be 'approx' for distributed training.\u001B[0m\n",
      "\n",
      "2022-04-18 00:25:05 Uploading - Uploading generated training model\n",
      "2022-04-18 00:25:05 Completed - Training job completed\n",
      "Training seconds: 174\n",
      "Billable seconds: 174\n"
     ]
    }
   ],
   "source": [
    "xgb_script_mode_estimator.fit({\"train\": train_input, \"validation\": validation_input})"
   ]
  },
  {
   "cell_type": "markdown",
   "id": "b6539fda",
   "metadata": {
    "papermill": {
     "duration": 0.02185,
     "end_time": "2022-04-18T00:25:28.765489",
     "exception": false,
     "start_time": "2022-04-18T00:25:28.743639",
     "status": "completed"
    },
    "tags": []
   },
   "source": [
    "## Deploying the XGBoost model\n",
    "\n",
    "After training, we can use the estimator to create an Amazon SageMaker endpoint – a hosted and managed prediction service that we can use to perform inference.\n",
    "\n",
    "You can also optionally specify other functions to customize the behavior of deserialization of the input request (`input_fn()`), serialization of the predictions (`output_fn()`), and how predictions are made (`predict_fn()`). The defaults work for our current use-case so we don’t need to define them."
   ]
  },
  {
   "cell_type": "code",
   "execution_count": 10,
   "id": "1e2b0f3e",
   "metadata": {
    "execution": {
     "iopub.execute_input": "2022-04-18T00:25:28.809835Z",
     "iopub.status.busy": "2022-04-18T00:25:28.809297Z",
     "iopub.status.idle": "2022-04-18T00:28:00.331867Z",
     "shell.execute_reply": "2022-04-18T00:28:00.332365Z"
    },
    "papermill": {
     "duration": 151.547911,
     "end_time": "2022-04-18T00:28:00.332594",
     "exception": false,
     "start_time": "2022-04-18T00:25:28.784683",
     "status": "completed"
    },
    "tags": []
   },
   "outputs": [
    {
     "name": "stdout",
     "output_type": "stream",
     "text": [
      "-----!"
     ]
    }
   ],
   "source": [
    "from sagemaker.serializers import CSVSerializer\n",
    "\n",
    "predictor = xgb_script_mode_estimator.deploy(\n",
    "    initial_instance_count=1, instance_type=\"ml.m5.2xlarge\", serializer=CSVSerializer()\n",
    ")"
   ]
  },
  {
   "cell_type": "code",
   "execution_count": 11,
   "id": "57fe8df0",
   "metadata": {
    "execution": {
     "iopub.execute_input": "2022-04-18T00:28:00.392110Z",
     "iopub.status.busy": "2022-04-18T00:28:00.391115Z",
     "iopub.status.idle": "2022-04-18T00:28:00.394419Z",
     "shell.execute_reply": "2022-04-18T00:28:00.394028Z"
    },
    "papermill": {
     "duration": 0.031909,
     "end_time": "2022-04-18T00:28:00.394558",
     "exception": false,
     "start_time": "2022-04-18T00:28:00.362649",
     "status": "completed"
    },
    "tags": []
   },
   "outputs": [],
   "source": [
    "test_file = DATA_DIR + \"/\" + FILE_TEST\n",
    "with open(test_file, \"r\") as f:\n",
    "    payload = f.read()"
   ]
  },
  {
   "cell_type": "code",
   "execution_count": 12,
   "id": "ed37ca8e",
   "metadata": {
    "execution": {
     "iopub.execute_input": "2022-04-18T00:28:00.445036Z",
     "iopub.status.busy": "2022-04-18T00:28:00.444248Z",
     "iopub.status.idle": "2022-04-18T00:28:00.601359Z",
     "shell.execute_reply": "2022-04-18T00:28:00.601923Z"
    },
    "papermill": {
     "duration": 0.186741,
     "end_time": "2022-04-18T00:28:00.602068",
     "exception": false,
     "start_time": "2022-04-18T00:28:00.415327",
     "status": "completed"
    },
    "scrolled": false,
    "tags": []
   },
   "outputs": [
    {
     "name": "stderr",
     "output_type": "stream",
     "text": [
      "The endpoint attribute has been renamed in sagemaker>=2.\n",
      "See: https://sagemaker.readthedocs.io/en/stable/v2.html for details.\n"
     ]
    },
    {
     "name": "stdout",
     "output_type": "stream",
     "text": [
      "Predicted values are [8.063016891479492, 10.438889503479004, 6.1740403175354, 8.371885299682617, 11.049603462219238, 10.084298133850098, 9.069392204284668, 9.751546859741211, 9.382014274597168, 12.495081901550293, 11.075491905212402, 13.375861167907715, 12.407872200012207, 15.33683967590332, 6.781073570251465, 10.164709091186523, 10.857975959777832, 10.829442024230957, 9.906671524047852, 10.225255966186523, 8.114143371582031, 11.69585132598877, 5.978875160217285, 7.039614200592041, 8.732344627380371, 12.844283103942871, 6.786910057067871, 8.948139190673828, 7.030703067779541, 10.04596996307373, 6.423532962799072, 10.240795135498047, 10.514060020446777, 5.55647611618042, 12.279681205749512, 10.035143852233887, 9.841360092163086, 13.87063980102539, 7.081377029418945, 9.55563735961914, 7.350447177886963, 9.426312446594238, 9.96292495727539, 11.532360076904297, 11.129417419433594, 10.042277336120605, 10.585949897766113, 11.143771171569824, 6.989498138427734, 10.761927604675293, 9.745715141296387, 8.515739440917969, 8.002127647399902, 6.615984916687012, 11.224366188049316, 16.134235382080078, 7.89313268661499, 8.315317153930664, 9.594226837158203, 10.140949249267578, 8.245584487915039, 13.773616790771484, 9.158834457397461, 12.183188438415527, 5.663110733032227, 6.035567283630371, 12.929952621459961, 9.739298820495605, 6.774773597717285, 14.699763298034668, 9.40416145324707, 11.301094055175781, 7.022613525390625, 7.532392978668213, 4.117938041687012, 11.089174270629883, 8.632970809936523, 11.219497680664062, 10.924249649047852, 9.753101348876953, 10.450806617736816, 8.67772388458252, 9.870946884155273, 11.045133590698242, 7.050995826721191, 9.79417610168457, 9.010120391845703, 12.270404815673828, 9.189697265625, 9.042789459228516, 12.495321273803711, 12.25471305847168, 6.380295753479004, 8.9246187210083, 10.592740058898926, 8.694998741149902, 6.824514865875244, 14.914815902709961, 9.202597618103027, 11.225275039672852, 7.174644947052002, 11.234920501708984, 7.095481872558594, 11.873407363891602, 14.651763916015625, 11.102522850036621, 10.09950065612793, 9.8934907913208, 8.547117233276367, 6.79527473449707, 7.909566879272461, 9.74935245513916, 8.868157386779785, 8.986318588256836, 11.245628356933594, 8.154359817504883, 9.239944458007812, 12.51233196258545, 6.64075231552124, 13.426545143127441, 9.73635482788086, 13.944464683532715, 5.49397611618042, 12.404008865356445, 9.191496849060059, 11.760839462280273, 11.890873908996582, 8.366922378540039, 11.499214172363281, 8.144136428833008, 9.382484436035156, 8.492192268371582, 5.6489129066467285, 9.945596694946289, 12.076448440551758, 8.454931259155273, 7.583304405212402, 10.329071998596191, 10.709465980529785, 10.172829627990723, 12.135093688964844, 9.546652793884277, 4.484827518463135, 11.241948127746582, 11.058540344238281, 8.183349609375, 9.00283432006836, 9.0099515914917, 8.874908447265625, 12.733770370483398, 10.011003494262695, 9.590229034423828, 7.173923492431641, 10.318164825439453, 10.995524406433105, 7.459485054016113, 7.187035083770752, 11.99927806854248, 7.518555164337158, 14.552205085754395, 10.327491760253906, 10.56878662109375, 12.469442367553711, 14.02669906616211, 11.210152626037598, 8.5007905960083, 7.7589030265808105, 10.862918853759766, 7.863883972167969, 7.696042537689209, 12.271829605102539, 7.781006813049316, 8.84874153137207, 10.371045112609863, 14.052760124206543, 14.892913818359375, 9.604235649108887, 10.0281982421875, 8.480798721313477, 8.835830688476562, 13.88668155670166, 10.488699913024902, 9.92487907409668, 10.753148078918457, 9.281213760375977, 15.004524230957031, 7.07973575592041, 7.399197101593018, 6.555514335632324, 6.1740403175354, 6.5026679039001465, 10.193535804748535, 9.357040405273438, 11.936071395874023, 10.70513916015625, 8.542267799377441, 9.751358985900879, 10.269253730773926, 12.263097763061523, 6.3423261642456055, 7.753231048583984, 9.018006324768066, 11.498960494995117, 6.732354164123535, 8.540693283081055, 14.096646308898926, 16.056428909301758, 8.524760246276855, 15.808525085449219, 10.097173690795898, 11.65384292602539, 9.072572708129883, 4.117938041687012, 9.199241638183594, 9.679740905761719, 6.3822712898254395, 11.113317489624023, 8.880224227905273, 8.096237182617188, 9.291390419006348, 15.004528045654297, 11.814753532409668, 11.913573265075684, 13.733394622802734, 7.596668720245361, 12.444985389709473, 11.12403392791748, 9.364806175231934, 8.072505950927734, 8.784757614135742, 7.0339202880859375, 8.688467025756836, 9.140508651733398, 5.586028099060059, 9.723135948181152, 11.086764335632324, 12.755581855773926, 12.987617492675781, 10.303361892700195, 6.045413494110107, 7.903841018676758, 4.117938041687012, 10.153764724731445, 10.46005630493164, 12.389753341674805, 9.723465919494629, 9.500880241394043, 10.253254890441895, 10.998323440551758, 14.308422088623047, 6.456822872161865, 11.59368896484375, 9.460546493530273, 8.404848098754883, 11.010995864868164, 10.895479202270508, 6.072296619415283, 9.467292785644531, 11.555971145629883, 16.465133666992188, 11.080005645751953, 13.061975479125977, 20.072452545166016, 11.05415153503418, 13.440261840820312, 16.71207046508789, 11.222114562988281, 12.065777778625488, 11.2694091796875, 9.010836601257324, 10.545158386230469, 8.532905578613281, 10.993553161621094, 9.862527847290039, 7.062344074249268, 8.41615104675293, 7.854365348815918, 5.140805721282959, 6.148009777069092, 11.321369171142578, 8.873530387878418, 10.11912727355957, 12.334075927734375, 11.075106620788574, 7.452330112457275, 10.288738250732422, 12.365009307861328, 15.017890930175781, 9.696612358093262, 6.219885349273682, 6.1740403175354, 11.481541633605957, 15.915145874023438, 11.466157913208008, 10.600894927978516, 8.64537525177002, 9.175716400146484, 9.684892654418945, 9.850567817687988, 11.228875160217285, 10.359424591064453, 10.102375030517578, 16.924640655517578, 10.106062889099121, 14.321371078491211, 9.044625282287598, 7.128268718719482, 11.926409721374512, 8.607636451721191, 13.424081802368164, 7.239046096801758, 15.238197326660156, 6.148009777069092, 10.875346183776855, 4.117938041687012, 10.499982833862305, 4.535098075866699, 13.586174964904785, 11.737010955810547, 7.931083679199219, 6.538401126861572, 11.220239639282227, 9.390645027160645, 11.589286804199219, 9.609946250915527, 4.117938041687012, 8.476835250854492, 11.397176742553711, 7.520018100738525, 11.626015663146973, 11.43248176574707, 9.663286209106445, 8.128213882446289, 9.459115982055664, 9.945690155029297, 13.302573204040527, 10.48061466217041, 4.117938041687012, 11.395362854003906, 9.862617492675781, 8.225422859191895, 4.117938041687012, 10.198273658752441, 13.918722152709961, 9.995863914489746, 8.844172477722168, 8.966053009033203, 10.018585205078125, 10.936345100402832, 7.923613548278809, 6.999919891357422, 6.2166242599487305, 7.851332187652588, 10.456682205200195, 8.473543167114258, 6.612181663513184, 9.6730375289917, 9.212310791015625, 9.349924087524414, 11.038385391235352, 6.427572250366211, 8.683042526245117, 9.841458320617676, 13.964848518371582, 8.904175758361816, 8.950637817382812, 9.279269218444824, 9.792607307434082, 9.465986251831055, 10.671433448791504, 11.216621398925781, 6.9409356117248535, 9.140625, 8.478218078613281, 9.30493450164795, 11.84798526763916, 9.279576301574707, 10.530084609985352, 11.575872421264648, 7.73006534576416, 13.875880241394043, 17.195571899414062, 11.67480182647705, 6.4503655433654785, 10.15144157409668, 8.762996673583984, 10.204008102416992, 10.52857494354248, 10.102055549621582, 6.273810386657715, 7.226541519165039, 6.154597759246826, 4.117938041687012, 12.215506553649902, 8.779489517211914, 13.037405967712402, 6.138574600219727, 15.1199369430542, 11.652289390563965, 10.70907974243164, 10.572137832641602, 9.933788299560547, 12.181629180908203, 12.468267440795898, 6.824514865875244, 8.764432907104492, 10.098713874816895, 11.931327819824219, 10.204731941223145, 12.323630332946777, 13.52906608581543, 6.026451587677002, 6.138400077819824, 11.258152961730957, 11.874274253845215, 11.149863243103027, 10.208761215209961, 9.140264511108398, 10.738848686218262, 12.115829467773438, 9.852434158325195, 9.51395320892334, 9.956198692321777, 6.882466793060303, 9.413514137268066, 8.802258491516113, 7.013034820556641, 7.816734790802002, 9.071981430053711, 6.908943176269531, 7.980376720428467, 5.263695240020752, 9.101048469543457, 15.082796096801758, 7.118495941162109, 9.556840896606445, 9.526772499084473, 13.064257621765137, 10.187237739562988, 7.7343316078186035, 8.884960174560547, 11.149152755737305, 9.430137634277344, 8.955476760864258, 9.889484405517578, 9.141722679138184, 14.6526460647583, 17.349163055419922, 6.851137161254883, 5.55647611618042, 10.856925010681152, 10.965737342834473, 11.641411781311035, 7.040456771850586, 12.426996231079102, 7.222973346710205, 8.375173568725586, 7.490583419799805, 10.988081932067871, 11.727510452270508, 11.177384376525879, 9.89212417602539, 10.697795867919922, 6.378873348236084, 10.357577323913574, 6.427572250366211, 6.148009777069092, 11.436774253845215, 10.877290725708008, 9.082752227783203, 4.971261978149414, 10.32591724395752, 12.45054817199707, 10.134462356567383, 7.230668067932129, 9.475223541259766, 9.973241806030273, 10.861054420471191, 9.879586219787598, 8.683370590209961, 10.169258117675781, 11.615257263183594, 10.764766693115234, 6.4147419929504395, 10.382111549377441, 12.56356143951416, 7.658178329467773, 9.584076881408691, 11.402120590209961, 8.397052764892578, 10.26724910736084, 7.4931135177612305, 10.19301700592041, 14.591090202331543, 14.764459609985352, 10.115142822265625, 5.582685470581055, 11.162683486938477, 8.199602127075195, 13.056012153625488, 10.091251373291016, 7.646489143371582, 8.939685821533203, 6.138400077819824, 7.090069770812988, 11.083005905151367, 10.419485092163086, 9.391403198242188, 9.958845138549805, 9.2947998046875, 13.64826488494873, 4.117938041687012, 6.612181663513184, 10.645061492919922, 8.407515525817871, 11.244586944580078, 7.174644947052002, 8.566573143005371, 9.659124374389648, 4.117938041687012, 9.51004409790039, 6.484622478485107, 9.913026809692383, 15.191429138183594, 8.69068717956543, 9.470619201660156, 11.07400131225586, 8.590487480163574, 9.150383949279785, 6.730114936828613, 11.262123107910156, 8.230934143066406, 11.194662094116211, 8.597860336303711, 8.503024101257324, 9.358973503112793, 13.232948303222656, 8.512981414794922, 5.689141273498535, 10.974189758300781, 10.111406326293945, 10.464471817016602, 13.288963317871094, 6.832557678222656, 10.279561996459961, 10.37851333618164, 10.060518264770508, 8.780135154724121, 4.971261978149414, 11.203303337097168, 10.521145820617676, 9.573633193969727, 6.559453964233398, 10.51102352142334, 10.654223442077637, 6.950674057006836, 13.26242733001709, 4.535098075866699, 9.600385665893555, 12.29769515991211, 12.566164016723633, 9.434051513671875, 13.009868621826172, 9.947110176086426, 8.548983573913574, 9.768838882446289, 12.074323654174805, 5.49397611618042, 9.272241592407227, 10.698640823364258, 7.4177680015563965, 14.548005104064941, 16.199317932128906, 8.375720977783203, 8.294090270996094, 8.839597702026367, 8.323812484741211, 7.266472816467285, 6.313821315765381, 11.136534690856934, 9.508846282958984, 4.971261978149414, 11.89631175994873, 11.554530143737793, 8.466796875, 20.032014846801758, 16.22118377685547, 6.662290573120117, 9.307433128356934, 14.423868179321289, 6.170055866241455, 9.480818748474121, 9.836483001708984, 10.892929077148438, 7.368213176727295, 11.718960762023926, 12.914271354675293, 13.61971378326416, 10.245312690734863, 7.4037861824035645, 9.721541404724121, 6.414444923400879, 9.835824012756348, 13.540081977844238, 9.81538200378418, 8.351278305053711, 8.917333602905273, 7.996159076690674, 10.187237739562988, 12.53823184967041, 9.83699893951416, 7.974833965301514, 8.264122009277344, 6.284408092498779, 9.663968086242676, 8.578543663024902, 11.40102767944336, 12.632070541381836, 12.851704597473145, 8.961801528930664, 10.604676246643066, 10.003499031066895, 15.238868713378906, 9.055582046508789, 10.487271308898926].\n"
     ]
    }
   ],
   "source": [
    "runtime_client = boto3.client(\"runtime.sagemaker\", region_name=region)\n",
    "response = runtime_client.invoke_endpoint(\n",
    "    EndpointName=predictor.endpoint, ContentType=\"text/x-libsvm\", Body=payload\n",
    ")\n",
    "result = response[\"Body\"].read().decode(\"ascii\")\n",
    "print(\"Predicted values are {}.\".format(result))"
   ]
  },
  {
   "cell_type": "markdown",
   "id": "60377404",
   "metadata": {
    "papermill": {
     "duration": 0.036727,
     "end_time": "2022-04-18T00:28:00.662771",
     "exception": false,
     "start_time": "2022-04-18T00:28:00.626044",
     "status": "completed"
    },
    "tags": []
   },
   "source": [
    "### (Optional) Delete the Endpoint\n",
    "\n",
    "If you're done with this exercise, please run the delete_endpoint line in the cell below.  This will remove the hosted endpoint and avoid any charges from a stray instance being left on."
   ]
  },
  {
   "cell_type": "code",
   "execution_count": 13,
   "id": "f6da4def",
   "metadata": {
    "execution": {
     "iopub.execute_input": "2022-04-18T00:28:00.715052Z",
     "iopub.status.busy": "2022-04-18T00:28:00.714328Z",
     "iopub.status.idle": "2022-04-18T00:28:01.204649Z",
     "shell.execute_reply": "2022-04-18T00:28:01.205169Z"
    },
    "papermill": {
     "duration": 0.518666,
     "end_time": "2022-04-18T00:28:01.205344",
     "exception": false,
     "start_time": "2022-04-18T00:28:00.686678",
     "status": "completed"
    },
    "tags": []
   },
   "outputs": [],
   "source": [
    "predictor.delete_model()\n",
    "predictor.delete_endpoint()"
   ]
  },
  {
   "cell_type": "code",
   "execution_count": null,
   "id": "c7d74c6e",
   "metadata": {
    "papermill": {
     "duration": 0.026696,
     "end_time": "2022-04-18T00:28:01.257020",
     "exception": false,
     "start_time": "2022-04-18T00:28:01.230324",
     "status": "completed"
    },
    "tags": []
   },
   "outputs": [],
   "source": []
  }
 ],
 "metadata": {
  "anaconda-cloud": {},
  "instance_type": "ml.t3.medium",
  "kernelspec": {
   "display_name": "Python 3 (ipykernel)",
   "language": "python",
   "name": "python3"
  },
  "language_info": {
   "codemirror_mode": {
    "name": "ipython",
    "version": 3
   },
   "file_extension": ".py",
   "mimetype": "text/x-python",
   "name": "python",
   "nbconvert_exporter": "python",
   "pygments_lexer": "ipython3",
   "version": "3.8.9"
  },
  "papermill": {
   "default_parameters": {},
   "duration": 365.339192,
   "end_time": "2022-04-18T00:28:01.799944",
   "environment_variables": {},
   "exception": null,
   "input_path": "xgboost_abalone_dist_script_mode.ipynb",
   "output_path": "/opt/ml/processing/output/xgboost_abalone_dist_script_mode-2022-04-18-00-08-41.ipynb",
   "parameters": {
    "kms_key": "arn:aws:kms:us-west-2:000000000000:1234abcd-12ab-34cd-56ef-1234567890ab"
   },
   "start_time": "2022-04-18T00:21:56.460752",
   "version": "2.3.4"
  }
 },
 "nbformat": 4,
 "nbformat_minor": 5
}