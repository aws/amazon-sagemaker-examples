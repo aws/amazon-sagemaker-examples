{
 "cells": [
  {
   "cell_type": "markdown",
   "metadata": {},
   "source": [
    "# Algorithms\n",
    "\n",
    "Examples on how to use SageMaker's built-in algorithms."
   ]
  },
  {
   "cell_type": "markdown",
   "metadata": {},
   "source": [
    "## Image Processing\n",
    "---\n",
    "\n",
    "SageMaker provides algorithms that are used for image processing.\n",
    "\n",
    "### Image Classification\n",
    "* [Using SageMaker Image Classification with Amazon Elastic Inference](../introduction_to_amazon_algorithms/imageclassification_caltech/Image-classification-fulltraining-elastic-inference.ipynb)\n",
    "* [Image classification training with image format](../introduction_to_amazon_algorithms/imageclassification_caltech/Image-classification-lst-format.ipynb)\n",
    "* [End-to-End Incremental Training Image Classification Example](../introduction_to_amazon_algorithms/imageclassification_caltech/Image-classification-incremental-training-highlevel.ipynb)\n",
    "* [Image classification training with image format demo](../introduction_to_amazon_algorithms/imageclassification_caltech/Image-classification-lst-format-highlevel.ipynb)\n",
    "* [Image classification transfer learning demo](../introduction_to_amazon_algorithms/imageclassification_caltech/Image-classification-transfer-learning.ipynb)\n",
    "* [Image classification transfer learning demo (SageMaker SDK)](../introduction_to_amazon_algorithms/imageclassification_caltech/Image-classification-transfer-learning-highlevel.ipynb)\n",
    "* [End-to-End Multiclass Image Classification Example](../introduction_to_amazon_algorithms/imageclassification_caltech/Image-classification-fulltraining.ipynb)\n",
    "* [End-to-End Multiclass Image Classification Example with SageMaker SDK and SageMaker Neo](../introduction_to_amazon_algorithms/imageclassification_caltech/Image-classification-fulltraining-highlevel.ipynb)\n",
    "* [Image classification multi-label classification](../introduction_to_amazon_algorithms/imageclassification_mscoco_multi_label/Image-classification-multilabel-lst.ipynb)\n",
    "\n",
    "### Object Detection\n",
    "* [Amazon SageMaker Object Detection for Bird Species](../introduction_to_amazon_algorithms/object_detection_birds/object_detection_birds.ipynb)\n",
    "\n",
    "### Semantic Segmentation\n",
    "* [Amazon SageMaker Semantic Segmentation Algorithm](../introduction_to_amazon_algorithms/semantic_segmentation_pascalvoc/semantic_segmentation_pascalvoc.ipynb)\n",
    "\n"
   ]
  },
  {
   "cell_type": "markdown",
   "metadata": {},
   "source": [
    "## Text Processing\n",
    "---\n",
    "\n",
    "SageMaker provides algorithms that are tailored to the analysis of texts and documents used in natural language processing and translation.\n",
    "\n",
    "### BlazingText\n",
    "\n",
    "* [Text Classification using SageMaker BlazingText](../introduction_to_amazon_algorithms/blazingtext_text_classification_dbpedia/blazingtext_text_classification_dbpedia.ipynb)\n",
    "* [Learning Word2Vec Subword Representations using BlazingText](../introduction_to_amazon_algorithms/blazingtext_word2vec_subwords_text8/blazingtext_word2vec_subwords_text8.ipynb)\n",
    "* [Learning Word2Vec Word Representations using BlazingText](../introduction_to_amazon_algorithms/blazingtext_word2vec_text8/blazingtext_word2vec_text8.ipynb)\n",
    "\n",
    "### Latent Dirichlet Allocation (LDA)   \n",
    "\n",
    "* [An Introduction to SageMaker LDA](../introduction_to_amazon_algorithms/lda_topic_modeling/LDA-Introduction.ipynb)\n",
    "\n",
    "### Neural Topic Model (NTM)\n",
    "\n",
    "* [Amazon SageMaker Neural Topic Model now supports auxiliary vocabulary channel, new topic evaluation metrics, and training subsampling](../scientific_details_of_algorithms/ntm_topic_modeling/ntm_wikitext.ipynb)\n",
    "* [Introduction to Basic Functionality of NTM](../introduction_to_amazon_algorithms/ntm_synthetic/ntm_synthetic.ipynb)\n",
    "* [An Introduction to SageMaker Neural Topic Model](../introduction_to_applying_machine_learning/ntm_20newsgroups_topic_modeling/ntm_20newsgroups_topic_model.ipynb)\n",
    "\n",
    "### Seq2Seq\n",
    "\n",
    "* [Machine Translation English-German Example Using SageMaker Seq2Seq](../introduction_to_amazon_algorithms/seq2seq_translation_en-de/SageMaker-Seq2Seq-Translation-English-German.ipynb)\n",
    "\n"
   ]
  },
  {
   "cell_type": "markdown",
   "metadata": {},
   "source": [
    "## Time Series Processing\n",
    "---\n",
    "\n",
    "SageMaker DeepAR algorithm is useful for processing time series data.\n",
    "\n",
    "### DeepAR\n",
    "\n",
    "* [Time series forecasting with DeepAR - Synthetic data](../introduction_to_amazon_algorithms/deepar_synthetic/deepar_synthetic.ipynb)\n",
    "* [SageMaker/DeepAR demo on electricity dataset](../introduction_to_amazon_algorithms/deepar_electricity/DeepAR-Electricity.ipynb)\n",
    "* [Predicting driving speed violations with the Amazon SageMaker DeepAR algorithm](../introduction_to_applying_machine_learning/deepar_chicago_traffic_violations/deepar_chicago_traffic_violations.ipynb)"
   ]
  },
  {
   "cell_type": "markdown",
   "metadata": {},
   "source": [
    "## Supervised Learning Algorithms\n",
    "---\n",
    "\n",
    "Amazon SageMaker provides several built-in general purpose algorithms that can be used for either classification or regression problems.\n",
    "\n",
    "### Factorization Machines\n",
    "\n",
    "* [An Introduction to Factorization Machines with MNIST](../introduction_to_amazon_algorithms/factorization_machines_mnist/factorization_machines_mnist.ipynb)\n",
    "\n",
    "### k-Nearest Neighbors (kNN)\n",
    "\n",
    "* [Multi-Class Classification using Amazon SageMaker k-Nearest-Neighbors (kNN)](../introduction_to_amazon_algorithms/k_nearest_neighbors_covtype/k_nearest_neighbors_covtype.ipynb)\n",
    "\n",
    "### Linear Learner\n",
    "\n",
    "* [An Introduction to Linear Learner with MNIST](../introduction_to_amazon_algorithms/linear_learner_mnist/linear_learner_mnist.ipynb)\n",
    "* [Train Linear Learner model using File System Data Source](../introduction_to_amazon_algorithms/linear_learner_mnist/linear_learner_mnist_with_file_system_data_source.ipynb)\n",
    "* [Build multiclass classifiers with Amazon SageMaker linear learner](../scientific_details_of_algorithms/linear_learner_multiclass_classification/linear_learner_multiclass_classification.ipynb)\n",
    "* [Fairness Linear Learner in SageMaker](../introduction_to_applying_machine_learning/fair_linear_learner/fair_linear_learner.ipynb)\n",
    "\n",
    "### XGBoost\n",
    "\n",
    "#### Basic\n",
    "* [Multiclass classification with Amazon SageMaker XGBoost algorithm](../introduction_to_amazon_algorithms/xgboost_mnist/xgboost_mnist.ipynb)\n",
    "* [Regression with Amazon SageMaker XGBoost algorithm](../introduction_to_amazon_algorithms/xgboost_abalone/xgboost_abalone.ipynb)\n",
    "* [Customer Churn Prediction with XGBoost](../introduction_to_applying_machine_learning/xgboost_customer_churn/xgboost_customer_churn.ipynb)\n",
    "\n",
    "#### Advanced\n",
    "\n",
    "* [Train and deploy a regression model with the Amazon SageMaker XGBoost Algorithm using Script Mode](../introduction_to_amazon_algorithms/xgboost_abalone/xgboost_abalone_dist_script_mode.ipynb)\n",
    "* [Regression with Amazon SageMaker XGBoost (Parquet input)](../introduction_to_amazon_algorithms/xgboost_abalone/xgboost_parquet_input_training.ipynb)\n",
    "\n"
   ]
  },
  {
   "cell_type": "markdown",
   "metadata": {},
   "source": [
    "## Unsupervised Learning Algorithms\n",
    "---\n",
    "\n",
    "Amazon SageMaker provides several built-in algorithms that can be used for a variety of unsupervised learning tasks such as clustering, dimension reduction, pattern recognition, and anomaly detection.\n",
    "\n",
    "\n",
    "### IP Insights\n",
    "\n",
    "* [An Introduction to the Amazon SageMaker IP Insights Algorithm](../introduction_to_amazon_algorithms/ipinsights_login/ipinsights-tutorial.ipynb)\n",
    "\n",
    "### K-means\n",
    "* [Analyze US census data for population segmentation using Amazon SageMaker](../introduction_to_applying_machine_learning/US-census_population_segmentation_PCA_Kmeans/sagemaker-countycensusclustering.ipynb)\n",
    "* [End-to-End Example with Amazon SageMaker K-Means](../sagemaker-python-sdk/1P_kmeans_highlevel/kmeans_mnist.ipynb)\n",
    "* [End-to-End Example with Amazon SageMaker K-Means using SageMaker API](../sagemaker-python-sdk/1P_kmeans_lowlevel/kmeans_mnist_lowlevel.ipynb)\n",
    "\n",
    "### Principle Component Analysis (PCA)\n",
    "\n",
    "* [An Introduction to PCA with MNIST](../introduction_to_amazon_algorithms/pca_mnist/pca_mnist.ipynb)\n",
    "\n",
    "### Random Cut Forest (RCF)\n",
    "\n",
    "* [An Introduction to SageMaker Random Cut Forests](../introduction_to_amazon_algorithms/random_cut_forest/random_cut_forest.ipynb)\n",
    "\n"
   ]
  },
  {
   "cell_type": "markdown",
   "metadata": {},
   "source": [
    "## Feature Engineering\n",
    "---\n",
    "\n",
    "### Object2Vec\n",
    "\n",
    "* [Document Embedding with Amazon SageMaker Object2Vec](../introduction_to_applying_machine_learning/object2vec_document_embedding/object2vec_document_embedding.ipynb)\n",
    "* [An Introduction to SageMaker ObjectToVec model for MovieLens recommendation](../introduction_to_amazon_algorithms/object2vec_movie_recommendation/object2vec_movie_recommendation.ipynb)\n",
    "* [An Introduction to SageMaker ObjectToVec model for sequence-sequence embedding](../introduction_to_amazon_algorithms/object2vec_sentence_similarity/object2vec_sentence_similarity.ipynb)\n",
    "\n"
   ]
  }
 ],
 "metadata": {
  "instance_type": "ml.t3.medium",
  "kernelspec": {
   "display_name": "Python 3 (Data Science)",
   "language": "python",
   "name": "python3__SAGEMAKER_INTERNAL__arn:aws:sagemaker:us-west-2:236514542706:image/datascience-1.0"
  },
  "language_info": {
   "codemirror_mode": {
    "name": "ipython",
    "version": 3
   },
   "file_extension": ".py",
   "mimetype": "text/x-python",
   "name": "python",
   "nbconvert_exporter": "python",
   "pygments_lexer": "ipython3",
   "version": "3.7.10"
  }
 },
 "nbformat": 4,
 "nbformat_minor": 4
}
