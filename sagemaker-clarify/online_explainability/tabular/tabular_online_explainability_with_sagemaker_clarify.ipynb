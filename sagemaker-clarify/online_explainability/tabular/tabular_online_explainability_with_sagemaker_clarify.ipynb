{
 "cells": [
  {
   "cell_type": "markdown",
   "id": "6a46bd98",
   "metadata": {
    "tags": []
   },
   "source": [
    "# Tabular Online Explainability with SageMaker Clarify"
   ]
  },
  {
   "cell_type": "markdown",
   "id": "e2789005",
   "metadata": {},
   "source": [
    "* [Introduction](#Introduction)\n",
    "* [General Setup](#General-Setup)\n",
    "  * [Install dependencies](#Install-dependencies)\n",
    "  * [Import libraries](#Import-libraries)\n",
    "  * [Set configurations](#Set-configurations)\n",
    "  * [Create serializer and deserializer](#Create-serializer-and-deserializer)\n",
    "  * [For visualization](#For-visualization)\n",
    "* [Prepare data](#Prepare-data)\n",
    "  * [Download data](#Download-data)\n",
    "  * [Loading the data: Adult Dataset](#Loading-the-data:-Adult-Dataset)\n",
    "  * [Data inspection](#Data-inspection)\n",
    "  * [Encode and Upload the Dataset](#Encode-and-Upload-the-Dataset)\n",
    "* [Train XGBoost Model](#Train-XGBoost-Model)\n",
    "* [Create endpoint](#Create-endpoint)\n",
    "  * [Create model](#Create-model)\n",
    "  * [Create endpoint config](#Create-endpoint-config)\n",
    "  * [Create endpoint](#Create-endpoint)\n",
    "* [Invoke endpoint](#Invoke-endpoint)\n",
    "  * [Single record request](#Single-record-request)\n",
    "  * [Single record request, no explanation](#Single-record-request,-no-explanation)\n",
    "  * [Batch request, explain both](#Batch-request,-explain-both)\n",
    "  * [Batch request, explain none](#Batch-request,-explain-none)\n",
    "  * [Batch request with more records, explain some of the records](#Batch-request-with-more-records,-explain-some-of-the-records)\n",
    "* [Cleanup](#Cleanup)"
   ]
  },
  {
   "cell_type": "markdown",
   "id": "2116c025",
   "metadata": {},
   "source": [
    "## Introduction\n",
    "\n",
    "Amazon SageMaker Clarify helps improve your machine learning models by detecting potential bias and helping explain how these models make predictions. The fairness and explainability functionality provided by SageMaker Clarify takes a step towards enabling AWS customers to build trustworthy and understandable machine learning models. \n",
    "\n",
    "SageMaker Clarify currently supports explainability for SageMaker models as an offline processing job. This example notebook showcases a new feature for explainability on a [SageMaker real-time inference](https://docs.aws.amazon.com/sagemaker/latest/dg/realtime-endpoints.html) endpoint, a.k.a. online explainability.\n",
    "\n",
    "This example notebook walks you through:  \n",
    "1. Key terms and concepts needed to understand SageMaker Clarify\n",
    "1. Trained the model on a training dataset.\n",
    "1. Create a model from trained model artifacts, create an endpoint configuration with the new SageMaker Clarify explainer configuration, and create an endpoint using the same explainer configuration.\n",
    "1. Invoke the endpoint with single and batch request with different `EnableExplanations` query.\n",
    "1. Explaining the importance of the various input features on the model's decision.\n",
    "\n",
    "\n",
    "In doing so, the notebook will first train a [SageMaker XGBoost](https://docs.aws.amazon.com/sagemaker/latest/dg/xgboost.html) model using training dataset, then use SageMaker Clarify to analyze a testing dataset in CSV format."
   ]
  },
  {
   "cell_type": "markdown",
   "id": "bf64fc0a",
   "metadata": {},
   "source": [
    "## General Setup\n",
    "\n",
    "We recommend you use `Python 3 (Data Science)` kernel on SageMaker Studio or `conda_python3` kernel on SageMaker Notebook Instance."
   ]
  },
  {
   "cell_type": "markdown",
   "id": "48047964",
   "metadata": {},
   "source": [
    "### Install dependencies\n",
    "\n",
    "Upgrade the SageMaker Python SDK. Install shap and matplotlib which are used to visualize the feature attributions."
   ]
  },
  {
   "cell_type": "code",
   "execution_count": null,
   "id": "ec349708",
   "metadata": {},
   "outputs": [],
   "source": [
    "!pip install sagemaker --upgrade\n",
    "!pip install boto3 --upgrade\n",
    "!pip install botocore --upgrade\n",
    "!pip install shap --upgrade"
   ]
  },
  {
   "cell_type": "markdown",
   "id": "7ec24d29",
   "metadata": {},
   "source": [
    "### Import libraries"
   ]
  },
  {
   "cell_type": "code",
   "execution_count": null,
   "id": "85c9245b",
   "metadata": {},
   "outputs": [],
   "source": [
    "import boto3\n",
    "import io\n",
    "import os\n",
    "import shap\n",
    "import pprint\n",
    "import pandas as pd\n",
    "import numpy as np\n",
    "from collections import OrderedDict\n",
    "from sagemaker import get_execution_role, Session\n",
    "from sagemaker.serializers import CSVSerializer\n",
    "from sagemaker.deserializers import JSONDeserializer\n",
    "from sagemaker.utils import unique_name_from_base"
   ]
  },
  {
   "cell_type": "markdown",
   "id": "b662efac",
   "metadata": {},
   "source": [
    "### Set configurations"
   ]
  },
  {
   "cell_type": "code",
   "execution_count": null,
   "id": "0787380b",
   "metadata": {},
   "outputs": [],
   "source": [
    "boto3_session = boto3.session.Session()\n",
    "sagemaker_client = boto3.client(\"sagemaker\")\n",
    "sagemaker_runtime_client = boto3.client(\"sagemaker-runtime\")\n",
    "\n",
    "# Initialize sagemaker session\n",
    "sagemaker_session = Session(\n",
    "    boto_session=boto3_session,\n",
    "    sagemaker_client=sagemaker_client,\n",
    "    sagemaker_runtime_client=sagemaker_runtime_client,\n",
    ")\n",
    "\n",
    "region = sagemaker_session.boto_region_name\n",
    "print(f\"Region: {region}\")\n",
    "\n",
    "role = get_execution_role()\n",
    "print(f\"Role: {role}\")\n",
    "\n",
    "s3_client = boto3.client(\"s3\")\n",
    "\n",
    "prefix = unique_name_from_base(\"DEMO-Tabular-Adult\")\n",
    "\n",
    "s3_bucket = sagemaker_session.default_bucket()\n",
    "s3_prefix = f\"sagemaker/{prefix}\"\n",
    "s3_key = f\"s3://{s3_bucket}/{s3_prefix}\"\n",
    "print(f\"Demo S3 key: {s3_key}\")\n",
    "\n",
    "model_name = f\"{prefix}-model\"\n",
    "print(f\"Demo model name: {model_name}\")\n",
    "endpoint_config_name = f\"{prefix}-endpoint-config\"\n",
    "print(f\"Demo endpoint config name: {endpoint_config_name}\")\n",
    "endpoint_name = f\"{prefix}-endpoint\"\n",
    "print(f\"Demo endpoint name: {endpoint_name}\")\n",
    "\n",
    "# Instance type for training and hosting\n",
    "instance_type = \"ml.m5.xlarge\""
   ]
  },
  {
   "cell_type": "markdown",
   "id": "7c44c759",
   "metadata": {},
   "source": [
    "### Create serializer and deserializer"
   ]
  },
  {
   "cell_type": "markdown",
   "id": "9f0a7aba",
   "metadata": {},
   "source": [
    "CSV serializer to serialize test data to string"
   ]
  },
  {
   "cell_type": "code",
   "execution_count": null,
   "id": "79569f81",
   "metadata": {},
   "outputs": [],
   "source": [
    "csv_serializer = CSVSerializer()"
   ]
  },
  {
   "cell_type": "markdown",
   "id": "6e64de94",
   "metadata": {},
   "source": [
    "JSON deserializer to deserialize invoke endpoint response"
   ]
  },
  {
   "cell_type": "code",
   "execution_count": null,
   "id": "201230ef",
   "metadata": {},
   "outputs": [],
   "source": [
    "json_deserializer = JSONDeserializer()"
   ]
  },
  {
   "cell_type": "markdown",
   "id": "57480844",
   "metadata": {},
   "source": [
    "### For visualization\n",
    "\n",
    "SHAP plots are useful visualization tools to interpret the explanations. For example, [SHAP additive force layout](https://shap.readthedocs.io/en/latest/generated/shap.plots.force.html) shows how each feature contributes to pushing the base value (also called the expected value which is the mean predictions of the training dataset) to the corresponding prediction. Features that push the prediction higher are in red color, while those push the prediction lower are in blue."
   ]
  },
  {
   "cell_type": "code",
   "execution_count": null,
   "id": "6f780c60",
   "metadata": {},
   "outputs": [],
   "source": [
    "def force_plot(expected_value, shap_values, feature_data, feature_headers):\n",
    "    \"\"\"\n",
    "    Visualize the given SHAP values with an additive force layout.\n",
    "\n",
    "    For more information: https://shap.readthedocs.io/en/latest/example_notebooks/tabular_examples/tree_based_models/Force%20Plot%20Colors.html\n",
    "    \"\"\"\n",
    "    force_plot_display = shap.plots.force(\n",
    "        base_value=expected_value,\n",
    "        shap_values=shap_values,\n",
    "        features=feature_data,\n",
    "        feature_names=feature_headers,\n",
    "        matplotlib=True,\n",
    "    )\n",
    "\n",
    "\n",
    "def display_plots(explanations, expected_value, request_records, predictions):\n",
    "    \"\"\"\n",
    "    Display the Model Explainability plots\n",
    "    \"\"\"\n",
    "    per_request_shap_values = OrderedDict()\n",
    "    feature_headers = []\n",
    "    for i, record_output in enumerate(explanations):\n",
    "        per_record_shap_values = []\n",
    "        if record_output is not None:\n",
    "            feature_headers = []\n",
    "            for feature_attribution in record_output:\n",
    "                per_record_shap_values.append(\n",
    "                    feature_attribution[\"attributions\"][0][\"attribution\"][0]\n",
    "                )\n",
    "                feature_headers.append(feature_attribution[\"feature_header\"])\n",
    "            per_request_shap_values[i] = per_record_shap_values\n",
    "\n",
    "    for record_index, shap_values in per_request_shap_values.items():\n",
    "        print(\n",
    "            f\"Visualize the SHAP values for Record number {record_index + 1} with Model Prediction: {predictions[record_index][0]}\"\n",
    "        )\n",
    "        force_plot(\n",
    "            expected_value,\n",
    "            np.array(shap_values),\n",
    "            request_records.iloc[record_index],\n",
    "            feature_headers,\n",
    "        )\n",
    "\n",
    "\n",
    "def visualize_result(result, request_records, expected_value):\n",
    "    \"\"\"\n",
    "    Visualize the output from the endpoint.\n",
    "    \"\"\"\n",
    "    predictions = pd.read_csv(io.StringIO(result[\"predictions\"][\"data\"]), header=None)\n",
    "    predictions = predictions.values.tolist()\n",
    "    print(f\"Model Inference output: \")\n",
    "    for i, model_output in enumerate(predictions):\n",
    "        print(f\"Record: {i + 1}\\tModel Prediction: {model_output[0]}\")\n",
    "\n",
    "    if \"kernel_shap\" in result[\"explanations\"]:\n",
    "        explanations = result[\"explanations\"][\"kernel_shap\"]\n",
    "        display_plots(explanations, expected_value, request_records, predictions)\n",
    "    else:\n",
    "        print(f\"No Clarify explanations for the record(s)\")"
   ]
  },
  {
   "cell_type": "markdown",
   "id": "aefb875e",
   "metadata": {},
   "source": [
    "## Prepare data\n",
    "\n",
    "### Download data\n",
    "Data Source: [https://archive.ics.uci.edu/ml/machine-learning-databases/adult/](https://archive.ics.uci.edu/ml/machine-learning-databases/adult/)\n",
    "\n",
    "Let's __download__ the data and save it in the local folder with the name adult.data and adult.test from UCI repository$^{[2]}$.\n",
    "\n",
    "$^{[2]}$Dua Dheeru, and Efi Karra Taniskidou. \"[UCI Machine Learning Repository](http://archive.ics.uci.edu/ml)\". Irvine, CA: University of California, School of Information and Computer Science (2017)."
   ]
  },
  {
   "cell_type": "code",
   "execution_count": null,
   "id": "b94940af",
   "metadata": {},
   "outputs": [],
   "source": [
    "adult_columns = [\n",
    "    \"Age\",\n",
    "    \"Workclass\",\n",
    "    \"fnlwgt\",\n",
    "    \"Education\",\n",
    "    \"Education-Num\",\n",
    "    \"Marital Status\",\n",
    "    \"Occupation\",\n",
    "    \"Relationship\",\n",
    "    \"Ethnic group\",\n",
    "    \"Sex\",\n",
    "    \"Capital Gain\",\n",
    "    \"Capital Loss\",\n",
    "    \"Hours per week\",\n",
    "    \"Country\",\n",
    "    \"Target\",\n",
    "]\n",
    "if not os.path.isfile(\"adult.data\"):\n",
    "    s3_client.download_file(\n",
    "        \"sagemaker-sample-files\", \"datasets/tabular/uci_adult/adult.data\", \"adult.data\"\n",
    "    )\n",
    "    print(f\"adult.data saved!\")\n",
    "else:\n",
    "    print(f\"adult.data already on disk.\")\n",
    "\n",
    "if not os.path.isfile(\"adult.test\"):\n",
    "    s3_client.download_file(\n",
    "        \"sagemaker-sample-files\", \"datasets/tabular/uci_adult/adult.test\", \"adult.test\"\n",
    "    )\n",
    "    print(f\"adult.test saved!\")\n",
    "else:\n",
    "    print(f\"adult.test already on disk.\")"
   ]
  },
  {
   "cell_type": "markdown",
   "id": "9b39109e",
   "metadata": {},
   "source": [
    "### Loading the data: Adult Dataset\n",
    "From the UCI repository of machine learning datasets, this database contains 14 features concerning demographic characteristics of 45,222 rows (32,561 for training and 12,661 for testing). The task is to predict whether a person has a yearly income that is more or less than $50,000.\n",
    "\n",
    "Here are the features and their possible values:\n",
    "1. **Age**: continuous.\n",
    "1. **Workclass**: Private, Self-emp-not-inc, Self-emp-inc, Federal-gov, Local-gov, State-gov, Without-pay, Never-worked.\n",
    "1. **Fnlwgt**: continuous (the number of people the census takers believe that observation represents).\n",
    "1. **Education**: Bachelors, Some-college, 11th, HS-grad, Prof-school, Assoc-acdm, Assoc-voc, 9th, 7th-8th, 12th, Masters, 1st-4th, 10th, Doctorate, 5th-6th, Preschool.\n",
    "1. **Education-num**: continuous.\n",
    "1. **Marital-status**: Married-civ-spouse, Divorced, Never-married, Separated, Widowed, Married-spouse-absent, Married-AF-spouse.\n",
    "1. **Occupation**: Tech-support, Craft-repair, Other-service, Sales, Exec-managerial, Prof-specialty, Handlers-cleaners, Machine-op-inspct, Adm-clerical, Farming-fishing, Transport-moving, Priv-house-serv, Protective-serv, Armed-Forces.\n",
    "1. **Relationship**: Wife, Own-child, Husband, Not-in-family, Other-relative, Unmarried.\n",
    "1. **Ethnic group**: White, Asian-Pac-Islander, Amer-Indian-Eskimo, Other, Black.\n",
    "1. **Sex**: Female, Male.\n",
    "    * **Note**: this data is extracted from the 1994 Census and enforces a binary option on Sex\n",
    "1. **Capital-gain**: continuous.\n",
    "1. **Capital-loss**: continuous.\n",
    "1. **Hours-per-week**: continuous.\n",
    "1. **Native-country**: United-States, Cambodia, England, Puerto-Rico, Canada, Germany, Outlying-US(Guam-USVI-etc), India, Japan, Greece, South, China, Cuba, Iran, Honduras, Philippines, Italy, Poland, Jamaica, Vietnam, Mexico, Portugal, Ireland, France, Dominican-Republic, Laos, Ecuador, Taiwan, Haiti, Columbia, Hungary, Guatemala, Nicaragua, Scotland, Thailand, Yugoslavia, El-Salvador, Trinadad&Tobago, Peru, Hong, Holand-Netherlands.\n",
    "\n",
    "Next, we specify our binary prediction task:  \n",
    "15. **Target**: <=50,000, >$50,000."
   ]
  },
  {
   "cell_type": "code",
   "execution_count": null,
   "id": "3f6d7062",
   "metadata": {
    "scrolled": true
   },
   "outputs": [],
   "source": [
    "training_data = pd.read_csv(\n",
    "    \"adult.data\", names=adult_columns, sep=r\"\\s*,\\s*\", engine=\"python\", na_values=\"?\"\n",
    ").dropna()\n",
    "\n",
    "testing_data = pd.read_csv(\n",
    "    \"adult.test\", names=adult_columns, sep=r\"\\s*,\\s*\", engine=\"python\", na_values=\"?\", skiprows=1\n",
    ").dropna()\n",
    "\n",
    "training_data.head()"
   ]
  },
  {
   "cell_type": "markdown",
   "id": "9a74eb9c",
   "metadata": {},
   "source": [
    "### Data inspection\n",
    "Plotting histograms for the distribution of the different features is a good way to visualize the data. Let's plot a few of the features that can be considered _sensitive_.  \n",
    "Let's take a look specifically at the Sex feature of a census respondent. In the first plot we see that there are fewer Female respondents as a whole but especially in the positive outcomes, where they form ~$\\frac{1}{7}$th of respondents."
   ]
  },
  {
   "cell_type": "code",
   "execution_count": null,
   "id": "0fce0b8f",
   "metadata": {
    "scrolled": true
   },
   "outputs": [],
   "source": [
    "training_data[\"Sex\"].value_counts().sort_values().plot(kind=\"bar\", title=\"Counts of Sex\", rot=0)"
   ]
  },
  {
   "cell_type": "code",
   "execution_count": null,
   "id": "e05094f6",
   "metadata": {
    "scrolled": true
   },
   "outputs": [],
   "source": [
    "training_data[\"Sex\"].where(training_data[\"Target\"] == \">50K\").value_counts().sort_values().plot(\n",
    "    kind=\"bar\", title=\"Counts of Sex earning >$50K\", rot=0\n",
    ")"
   ]
  },
  {
   "cell_type": "markdown",
   "id": "2c52d24f",
   "metadata": {},
   "source": [
    "### Encode and Upload the Dataset\n",
    "Here we encode the training and test data. Encoding input data is not necessary for SageMaker Clarify, but is necessary for the model."
   ]
  },
  {
   "cell_type": "code",
   "execution_count": null,
   "id": "e258c0de",
   "metadata": {},
   "outputs": [],
   "source": [
    "from sklearn import preprocessing\n",
    "\n",
    "\n",
    "def number_encode_features(df):\n",
    "    result = df.copy()\n",
    "    encoders = {}\n",
    "    for column in result.columns:\n",
    "        if result.dtypes[column] == np.object:\n",
    "            encoders[column] = preprocessing.LabelEncoder()\n",
    "            #  print('Column:', column, result[column])\n",
    "            result[column] = encoders[column].fit_transform(result[column].fillna(\"None\"))\n",
    "    return result, encoders\n",
    "\n",
    "\n",
    "training_data = pd.concat([training_data[\"Target\"], training_data.drop([\"Target\"], axis=1)], axis=1)\n",
    "training_data, _ = number_encode_features(training_data)\n",
    "training_data.to_csv(\"train_data.csv\", index=False, header=False)\n",
    "\n",
    "testing_data, _ = number_encode_features(testing_data)\n",
    "test_features = testing_data.drop([\"Target\"], axis=1)\n",
    "test_target = testing_data[\"Target\"]\n",
    "test_features.to_csv(\"test_features.csv\", index=False, header=False)"
   ]
  },
  {
   "cell_type": "markdown",
   "id": "f64e24d8",
   "metadata": {},
   "source": [
    "A quick note about our encoding: the \"Female\" Sex value has been encoded as 0 and \"Male\" as 1."
   ]
  },
  {
   "cell_type": "code",
   "execution_count": null,
   "id": "90c3e935",
   "metadata": {},
   "outputs": [],
   "source": [
    "training_data.head()"
   ]
  },
  {
   "cell_type": "markdown",
   "id": "01c8a06b",
   "metadata": {},
   "source": [
    "Get the feature names and the label names from the dataset"
   ]
  },
  {
   "cell_type": "code",
   "execution_count": null,
   "id": "efe526bf",
   "metadata": {},
   "outputs": [],
   "source": [
    "feature_headers = testing_data.columns.to_list()\n",
    "label_header = feature_headers.pop()\n",
    "print(f\"Feature names: {feature_headers}\")\n",
    "print(f\"Label name: {label_header}\")"
   ]
  },
  {
   "cell_type": "markdown",
   "id": "99ec8ebd",
   "metadata": {},
   "source": [
    "Lastly, let's upload the data to S3 so that they can be used by the training job."
   ]
  },
  {
   "cell_type": "code",
   "execution_count": null,
   "id": "637902e4",
   "metadata": {},
   "outputs": [],
   "source": [
    "from sagemaker.s3 import S3Uploader\n",
    "from sagemaker.inputs import TrainingInput\n",
    "\n",
    "train_uri = S3Uploader.upload(\"train_data.csv\", \"s3://{}/{}\".format(s3_bucket, prefix))\n",
    "train_input = TrainingInput(train_uri, content_type=\"csv\")\n",
    "test_uri = S3Uploader.upload(\"test_features.csv\", \"s3://{}/{}\".format(s3_bucket, prefix))"
   ]
  },
  {
   "cell_type": "markdown",
   "id": "a953f7d8",
   "metadata": {},
   "source": [
    "## Train XGBoost Model\n",
    "\n",
    "Since our focus is on understanding how to use SageMaker Clarify, we keep it simple by using a standard XGBoost model."
   ]
  },
  {
   "cell_type": "code",
   "execution_count": null,
   "id": "dc99c39e",
   "metadata": {},
   "outputs": [],
   "source": [
    "from sagemaker.image_uris import retrieve\n",
    "from sagemaker.estimator import Estimator\n",
    "\n",
    "container = retrieve(\"xgboost\", region, version=\"1.3-1\")\n",
    "xgb = Estimator(\n",
    "    container,\n",
    "    role,\n",
    "    instance_count=1,\n",
    "    instance_type=instance_type,\n",
    "    disable_profiler=True,\n",
    "    debugger_hook_config=False,\n",
    ")\n",
    "\n",
    "xgb.set_hyperparameters(\n",
    "    max_depth=5,\n",
    "    eta=0.2,\n",
    "    gamma=4,\n",
    "    min_child_weight=6,\n",
    "    subsample=0.8,\n",
    "    objective=\"binary:logistic\",\n",
    "    num_round=800,\n",
    ")\n",
    "\n",
    "xgb.fit({\"train\": train_input}, logs=False)"
   ]
  },
  {
   "cell_type": "markdown",
   "id": "796a8b78",
   "metadata": {},
   "source": [
    "Create a new model object which will be used to create the SageMaker model."
   ]
  },
  {
   "cell_type": "code",
   "execution_count": null,
   "id": "b4f2e34b",
   "metadata": {},
   "outputs": [],
   "source": [
    "model = xgb.create_model(name=model_name)\n",
    "container_def = model.prepare_container_def()\n",
    "container_def"
   ]
  },
  {
   "cell_type": "markdown",
   "id": "2519d5f9",
   "metadata": {
    "tags": []
   },
   "source": [
    "## Create endpoint"
   ]
  },
  {
   "cell_type": "markdown",
   "id": "12c22d4a",
   "metadata": {},
   "source": [
    "### Create model\n",
    "\n",
    "The following parameters are required to create a SageMaker model:\n",
    "\n",
    "* `ExecutionRoleArn`: The ARN of the IAM role that Amazon SageMaker can assume to access the model artifacts/ docker images for deployment\n",
    "\n",
    "* `ModelName`: name of the SageMaker model.\n",
    "\n",
    "* `PrimaryContainer`: The location of the primary docker image containing inference code, associated artifacts, and custom environment map that the inference code uses when the model is deployed for predictions."
   ]
  },
  {
   "cell_type": "code",
   "execution_count": null,
   "id": "14991a1c",
   "metadata": {},
   "outputs": [],
   "source": [
    "sagemaker_client.create_model(\n",
    "    ExecutionRoleArn=role,\n",
    "    ModelName=model_name,\n",
    "    PrimaryContainer=container_def,\n",
    ")\n",
    "print(f\"Model created: {model_name}\")"
   ]
  },
  {
   "cell_type": "markdown",
   "id": "0c8ce1b6",
   "metadata": {},
   "source": [
    "### Create endpoint config\n",
    "\n",
    "Create an endpoint configuration by calling the `create_endpoint_config` API. Here, supply the same `model_name` used in the `create_model` API call. The `create_endpoint_config` now supports the additional parameter `ClarifyExplainerConfig` to enable the Clarify explainer. The SHAP baseline is mandatory, it can be provided either as inline baseline data (the `ShapBaseline` parameter) or by a S3 baseline file (the `ShapBaselineUri` parameter). Please see the developer guide for the other parameters."
   ]
  },
  {
   "cell_type": "code",
   "execution_count": null,
   "id": "e64aa1c3",
   "metadata": {},
   "outputs": [],
   "source": [
    "baseline = test_features.mean().to_list()  # Inline baseline data\n",
    "print(f\"Use the mean of the test data as the SHAP baseline: {baseline}\")"
   ]
  },
  {
   "cell_type": "code",
   "execution_count": null,
   "id": "d196e917",
   "metadata": {},
   "outputs": [],
   "source": [
    "sagemaker_client.create_endpoint_config(\n",
    "    EndpointConfigName=endpoint_config_name,\n",
    "    ProductionVariants=[\n",
    "        {\n",
    "            \"VariantName\": \"TestVariant\",\n",
    "            \"ModelName\": model_name,\n",
    "            \"InitialInstanceCount\": 1,\n",
    "            \"InstanceType\": instance_type,\n",
    "        }\n",
    "    ],\n",
    "    ExplainerConfig={\n",
    "        \"ClarifyExplainerConfig\": {\n",
    "            # \"EnableExplanations\": \"`false`\",  # By default explanations are enabled, but you can change the condition by this parameter.\n",
    "            \"InferenceConfig\": {\n",
    "                \"FeatureHeaders\": feature_headers,\n",
    "            },\n",
    "            \"ShapConfig\": {\n",
    "                \"ShapBaselineConfig\": {\n",
    "                    \"ShapBaseline\": csv_serializer.serialize(baseline),  # inline baseline data\n",
    "                }\n",
    "            },\n",
    "        }\n",
    "    },\n",
    ")"
   ]
  },
  {
   "cell_type": "markdown",
   "id": "e1a7c19b",
   "metadata": {},
   "source": [
    "### Create endpoint\n",
    "\n",
    "Once you have your model and endpoint configuration ready, use the `create_endpoint` API to create your endpoint. The `endpoint_name` must be unique within an AWS Region in your AWS account. The `create_endpoint` API is synchronous in nature and returns an immediate response with the endpoint status being `Creating` state."
   ]
  },
  {
   "cell_type": "code",
   "execution_count": null,
   "id": "70975b6f",
   "metadata": {},
   "outputs": [],
   "source": [
    "sagemaker_client.create_endpoint(\n",
    "    EndpointName=endpoint_name,\n",
    "    EndpointConfigName=endpoint_config_name,\n",
    ")"
   ]
  },
  {
   "cell_type": "markdown",
   "id": "53fa01f8",
   "metadata": {},
   "source": [
    "Wait for the endpoint to be in \"InService\" state."
   ]
  },
  {
   "cell_type": "code",
   "execution_count": null,
   "id": "6270f18a",
   "metadata": {},
   "outputs": [],
   "source": [
    "sagemaker_session.wait_for_endpoint(endpoint_name)"
   ]
  },
  {
   "cell_type": "markdown",
   "id": "a3742fae",
   "metadata": {
    "tags": []
   },
   "source": [
    "## Invoke endpoint\n",
    "\n",
    "There are expanding business needs and legislative regulations that require explanations of _why_ a model made the decision it did. SageMaker Clarify uses SHAP to explain the contribution that each input feature makes to the final decision.\n",
    "\n",
    "Below are the several different combination of endpoint invocation, call them one by one and visualize the explanations by running the subsequent cell. "
   ]
  },
  {
   "cell_type": "markdown",
   "id": "36419959",
   "metadata": {},
   "source": [
    "### Single record request\n",
    "\n",
    "Put only one record in the request body, and then send the request to the endpoint to get its predictions and explanations."
   ]
  },
  {
   "cell_type": "code",
   "execution_count": null,
   "id": "38a0dc1e",
   "metadata": {},
   "outputs": [],
   "source": [
    "request_records = test_features.iloc[:1, :]\n",
    "response = sagemaker_runtime_client.invoke_endpoint(\n",
    "    EndpointName=endpoint_name,\n",
    "    ContentType=\"text/csv\",\n",
    "    Body=csv_serializer.serialize(request_records.to_numpy()),\n",
    ")\n",
    "pprint.pprint(response)"
   ]
  },
  {
   "cell_type": "markdown",
   "id": "4202f8e2",
   "metadata": {},
   "source": [
    "Print the response body which is JSON. Please see the developer guide for its schema."
   ]
  },
  {
   "cell_type": "code",
   "execution_count": null,
   "id": "a8d231c0",
   "metadata": {},
   "outputs": [],
   "source": [
    "result = json_deserializer.deserialize(response[\"Body\"], content_type=response[\"ContentType\"])\n",
    "pprint.pprint(result)"
   ]
  },
  {
   "cell_type": "markdown",
   "id": "7f6693da",
   "metadata": {},
   "source": [
    "Use SHAP plots to visualize the result. [SHAP additive force layout](https://shap.readthedocs.io/en/latest/generated/shap.plots.force.html) shows how each feature contributes to pushing the base value (also called the expected value which is the mean predictions of the training dataset) to the corresponding prediction. Features that push the prediction higher are in red color, while those push the prediction lower are in blue.\n",
    "\n",
    "The expected value is the average of the model predictions over the baseline. Here we predict the baseline data and then compute the expected value. Only the predictions are needed, so the `EnableExplanations` parameter is used to disable the explanations."
   ]
  },
  {
   "cell_type": "code",
   "execution_count": null,
   "id": "2eaa7ced",
   "metadata": {},
   "outputs": [],
   "source": [
    "response = sagemaker_runtime_client.invoke_endpoint(\n",
    "    EndpointName=endpoint_name,\n",
    "    ContentType=\"text/csv\",\n",
    "    Body=csv_serializer.serialize(baseline),\n",
    "    EnableExplanations=\"`false`\",  # Do not provide explanations\n",
    ")\n",
    "json_object = json_deserializer.deserialize(response[\"Body\"], content_type=response[\"ContentType\"])\n",
    "expected_value = float(\n",
    "    pd.read_csv(io.StringIO(json_object[\"predictions\"][\"data\"]), header=None)\n",
    "    .astype(float)\n",
    "    .mean(axis=1)\n",
    ")\n",
    "print(f\"expected value: {expected_value}\")"
   ]
  },
  {
   "cell_type": "code",
   "execution_count": null,
   "id": "da8a8e1b",
   "metadata": {},
   "outputs": [],
   "source": [
    "visualize_result(result, request_records, expected_value)"
   ]
  },
  {
   "cell_type": "markdown",
   "id": "3430f125",
   "metadata": {},
   "source": [
    "### Single record request, no explanation\n",
    "\n",
    "Use the `EnableExplanations` parameter to disable the explanations for this request."
   ]
  },
  {
   "cell_type": "code",
   "execution_count": null,
   "id": "f4cd5d44",
   "metadata": {},
   "outputs": [],
   "source": [
    "request_records = test_features.iloc[:1, :]\n",
    "response = sagemaker_runtime_client.invoke_endpoint(\n",
    "    EndpointName=endpoint_name,\n",
    "    ContentType=\"text/csv\",\n",
    "    Body=csv_serializer.serialize(request_records.to_numpy()),\n",
    "    EnableExplanations=\"`false`\",  # Do not provide explanations\n",
    ")\n",
    "result = json_deserializer.deserialize(response[\"Body\"], content_type=response[\"ContentType\"])\n",
    "pprint.pprint(result)"
   ]
  },
  {
   "cell_type": "code",
   "execution_count": null,
   "id": "3709a842",
   "metadata": {},
   "outputs": [],
   "source": [
    "visualize_result(result, request_records, expected_value)"
   ]
  },
  {
   "cell_type": "markdown",
   "id": "a8824447",
   "metadata": {},
   "source": [
    "### Batch request, explain both\n",
    "\n",
    "Put two records in the request body, and then send the request to the endpoint to get their predictions and explanations."
   ]
  },
  {
   "cell_type": "code",
   "execution_count": null,
   "id": "61434d42",
   "metadata": {},
   "outputs": [],
   "source": [
    "request_records = test_features.iloc[:2, :]\n",
    "response = sagemaker_runtime_client.invoke_endpoint(\n",
    "    EndpointName=endpoint_name,\n",
    "    ContentType=\"text/csv\",\n",
    "    Body=csv_serializer.serialize(request_records.to_numpy()),\n",
    ")\n",
    "result = json_deserializer.deserialize(response[\"Body\"], content_type=response[\"ContentType\"])\n",
    "pprint.pprint(result)"
   ]
  },
  {
   "cell_type": "code",
   "execution_count": null,
   "id": "ff81310b",
   "metadata": {},
   "outputs": [],
   "source": [
    "visualize_result(result, request_records, expected_value)"
   ]
  },
  {
   "cell_type": "code",
   "execution_count": null,
   "id": "6a4732f0",
   "metadata": {},
   "outputs": [],
   "source": [
    "request_records = test_features.iloc[:2, :]\n",
    "response = sagemaker_runtime_client.invoke_endpoint(\n",
    "    EndpointName=endpoint_name,\n",
    "    ContentType=\"text/csv\",\n",
    "    Body=csv_serializer.serialize(request_records.to_numpy()),\n",
    "    EnableExplanations=\"`false`\",  # Do not provide explanations\n",
    ")\n",
    "result = json_deserializer.deserialize(response[\"Body\"], content_type=response[\"ContentType\"])\n",
    "pprint.pprint(result)"
   ]
  },
  {
   "cell_type": "code",
   "execution_count": null,
   "id": "6caec6c0",
   "metadata": {},
   "outputs": [],
   "source": [
    "visualize_result(result, request_records, expected_value)"
   ]
  },
  {
   "cell_type": "markdown",
   "id": "63eabecd",
   "metadata": {},
   "source": [
    "### Batch request with more records, explain some of the records\n",
    "\n",
    "Put a few more records to the request body, and then use the `EnableExplanations` expression to filter the records to be explained according to their predictions."
   ]
  },
  {
   "cell_type": "code",
   "execution_count": null,
   "id": "5922a2c0",
   "metadata": {},
   "outputs": [],
   "source": [
    "request_records = test_features.iloc[:70, :]\n",
    "response = sagemaker_runtime_client.invoke_endpoint(\n",
    "    EndpointName=endpoint_name,\n",
    "    ContentType=\"text/csv\",\n",
    "    Body=csv_serializer.serialize(request_records.to_numpy()),\n",
    "    EnableExplanations=\"[0]>`0.95`\",  # Explain a record only when its prediction is greater than the threshold\n",
    ")\n",
    "result = json_deserializer.deserialize(response[\"Body\"], content_type=response[\"ContentType\"])\n",
    "pprint.pprint(result)"
   ]
  },
  {
   "cell_type": "code",
   "execution_count": null,
   "id": "d73b9455",
   "metadata": {},
   "outputs": [],
   "source": [
    "visualize_result(result, request_records, expected_value)"
   ]
  },
  {
   "cell_type": "markdown",
   "id": "f50ee663",
   "metadata": {
    "tags": []
   },
   "source": [
    "## Cleanup\n",
    "\n",
    "Finally, don’t forget to clean up the resources we set up and used for this demo!"
   ]
  },
  {
   "cell_type": "code",
   "execution_count": null,
   "id": "ea70e043",
   "metadata": {},
   "outputs": [],
   "source": [
    "sagemaker_client.delete_endpoint(EndpointName=endpoint_name)"
   ]
  },
  {
   "cell_type": "code",
   "execution_count": null,
   "id": "9f7c3f69",
   "metadata": {},
   "outputs": [],
   "source": [
    "sagemaker_client.delete_endpoint_config(EndpointConfigName=endpoint_config_name)"
   ]
  },
  {
   "cell_type": "code",
   "execution_count": null,
   "id": "780e3045",
   "metadata": {},
   "outputs": [],
   "source": [
    "sagemaker_client.delete_model(ModelName=model_name)"
   ]
  }
 ],
 "metadata": {
  "instance_type": "ml.t3.medium",
  "kernelspec": {
   "display_name": "Python 3 (Data Science)",
   "language": "python",
   "name": "python3__SAGEMAKER_INTERNAL__arn:aws:sagemaker:us-west-2:236514542706:image/datascience-1.0"
  },
  "language_info": {
   "codemirror_mode": {
    "name": "ipython",
    "version": 3
   },
   "file_extension": ".py",
   "mimetype": "text/x-python",
   "name": "python",
   "nbconvert_exporter": "python",
   "pygments_lexer": "ipython3",
   "version": "3.7.10"
  }
 },
 "nbformat": 4,
 "nbformat_minor": 5
}
