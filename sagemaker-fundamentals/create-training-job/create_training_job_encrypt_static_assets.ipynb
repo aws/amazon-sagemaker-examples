{
 "cells": [
  {
   "cell_type": "markdown",
   "id": "governmental-cutting",
   "metadata": {},
   "source": [
    "# Training Job with Encrypted Static Assets\n",
    "\n",
    "In the [notebook about creating a training job in VPC mode](https://github.com/aws/amazon-sagemaker-examples/blob/master/sagemaker-fundamentals/create-training-job/create_training_job_vpc.ipynb) you learnt how to create a SageMaker training job with network isolation. Network isolation enables you to protect your data and model from being intercepted by cyber pirates. \n",
    "\n",
    "![pirate](assets/pirate.jpg)"
   ]
  },
  {
   "cell_type": "markdown",
   "id": "front-warrior",
   "metadata": {},
   "source": [
    "Another way you can protect your static assets is to encrypt them before moving them from location A to location B. In this notebook, you will walk through a few techniques on that with the help of AWS Key Management Service [(AWS KMS)](https://docs.aws.amazon.com/kms/latest/developerguide/overview.html).\n",
    "\n",
    "Encryption is a wildly used technology, in addition to the above introductory material, you can find many free lectures online. "
   ]
  },
  {
   "cell_type": "markdown",
   "id": "suspected-tours",
   "metadata": {},
   "source": [
    "## Symmetric Ciphers\n",
    "We will focus on symmetric ciphers in this notebook. Quote from the GNU Privacy Handbook\n",
    "\n",
    "> A symmetric cipher is a cipher that uses the same key for both encryption and decryption. Two parties communicating using a symmetric cipher must agree on the key beforehand. Once they agree, the sender encrypts a message using the key, sends it to the receiver, and the receiver decrypts the message using the key. As an example, the German Enigma is a symmetric cipher, and daily keys were distributed as code books. Each day, a sending or receiving radio operator would consult his copy of the code book to find the day's key. Radio traffic for that day was then encrypted and decrypted using the day's key. Modern examples of symmetric ciphers include 3DES, Blowfish, and IDEA."
   ]
  }
 ],
 "metadata": {
  "kernelspec": {
   "display_name": "Python 3",
   "language": "python",
   "name": "python3"
  },
  "language_info": {
   "codemirror_mode": {
    "name": "ipython",
    "version": 3
   },
   "file_extension": ".py",
   "mimetype": "text/x-python",
   "name": "python",
   "nbconvert_exporter": "python",
   "pygments_lexer": "ipython3",
   "version": "3.6.10"
  }
 },
 "nbformat": 4,
 "nbformat_minor": 5
}
