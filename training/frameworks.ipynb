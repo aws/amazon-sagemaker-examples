{
 "cells": [
  {
   "cell_type": "markdown",
   "metadata": {},
   "source": [
    "# Frameworks and Libraries\n",
    "\n",
    "Examples on how to use different frameworks on SageMaker.\n"
   ]
  },
  {
   "cell_type": "markdown",
   "metadata": {},
   "source": [
    "## Apache MXNet\n",
    "---\n",
    "\n",
    "* [Building an image embedding server with Gluon](../sagemaker-python-sdk/mxnet_gluon_embedding_server/mxnet_embedding_server.ipynb)\n",
    "* [Sentiment Analysis with Apache MXNet and Gluon](../sagemaker-python-sdk/mxnet_gluon_sentiment/mxnet_sentiment_analysis_with_gluon.ipynb)\n",
    "* [Implementing a Recommender System with SageMaker, MXNet, and Gluon](../introduction_to_applying_machine_learning/gluon_recommender_system/gluon_recommender_system.ipynb)\n",
    "* [Importing and hosting an ONNX model with MXNet](../sagemaker-python-sdk/mxnet_onnx_superresolution/mxnet_onnx.ipynb)\n",
    "* [Exporting ONNX Models with MXNet](../sagemaker-python-sdk/mxnet_onnx_export/mxnet_onnx_export.ipynb)\n",
    "* [Using the Apache MXNet Module API with SageMaker Training and Batch Transformation](../sagemaker-python-sdk/mxnet_mnist/mxnet_mnist_with_batch_transform.ipynb)\n",
    "* [Using Amazon Elastic Inference with MXNet on Amazon SageMaker](../sagemaker-python-sdk/mxnet_mnist/mxnet_mnist_elastic_inference.ipynb)\n",
    "\n"
   ]
  },
  {
   "cell_type": "markdown",
   "metadata": {},
   "source": [
    "## Deep Graph Library\n",
    "---\n",
    "\n",
    "* [Graph convolutional matrix completion hyperparameter tuning with Amazon SageMaker and Deep Graph Library with MXNet backend](../sagemaker-python-sdk/dgl_gcmc/mxnet_gcmc_hypertune.ipynb)\n",
    "* [Training Amazon SageMaker models for molecular property prediction by using DGL with PyTorch backend](../sagemaker-python-sdk/dgl_gcn_tox21/pytorch-gcn-tox21.ipynb)\n",
    "* [Hyperparameter tuning with Amazon SageMaker for molecular property prediction](../sagemaker-python-sdk/dgl_gcn_tox21/pytorch-gcn-tox21-hypertune.ipynb)\n",
    "* [Training Amazon SageMaker models by using the Deep Graph Library with MXNet backend](../sagemaker-python-sdk/dgl_gcn/mxnet_gcn.ipynb)\n",
    "* [Hyperparameter tuning with Amazon SageMaker and Deep Graph Library with MXNet backend](../sagemaker-python-sdk/dgl_gcn/mxnet_gcn_hypertune.ipynb)\n",
    "* [Training Amazon SageMaker models by using the Deep Graph Library with PyTorch backend](../sagemaker-python-sdk/dgl_gcn/pytorch_gcn.ipynb)\n",
    "* [Hyperparameter tuning with Amazon SageMaker and Deep Graph Library with PyTorch backend](../sagemaker-python-sdk/dgl_gcn/pytorch_gcn_hypertune.ipynb)\n",
    "\n"
   ]
  },
  {
   "cell_type": "markdown",
   "metadata": {},
   "source": [
    "## PyTorch\n",
    "---\n",
    "\n",
    "* [Train an MNIST model with PyTorch](../frameworks/pytorch/get_started_mnist_train.ipynb)\n",
    "* [Deploy a Trained PyTorch Model](../frameworks/pytorch/get_started_mnist_deploy.ipynb)\n",
    "* [Word-level language modeling using PyTorch](../sagemaker-python-sdk/pytorch_lstm_word_language_model/pytorch_rnn.ipynb)\n",
    "\n",
    "\n",
    "\n",
    "   \n",
    "   \n",
    "   "
   ]
  },
  {
   "cell_type": "markdown",
   "metadata": {},
   "source": [
    "## Scikit-learn\n",
    "---\n",
    "\n",
    "* [Develop, Train, Optimize and Deploy Scikit-Learn Random Forest](../sagemaker-python-sdk/scikit_learn_randomforest/Sklearn_on_SageMaker_end2end.ipynb)\n",
    "* [Develop, Train, Register and Batch Transform Scikit-Learn Random Forest](../sagemaker-python-sdk/scikit_learn_model_registry_batch_transform/scikit_learn_model_registry_batch_transform.ipynb)\n",
    "\n"
   ]
  },
  {
   "cell_type": "markdown",
   "metadata": {},
   "source": [
    "## TensorFlow\n",
    "---\n",
    "\n",
    "* [Train an MNIST model with TensorFlow](../frameworks/tensorflow/get_started_mnist_train.ipynb)\n",
    "* [Deploy a Trained TensorFlow V2 Model](../frameworks/tensorflow/get_started_mnist_deploy.ipynb)\n",
    "* [Migrating scripts from Framework Mode to Script Mode](../sagemaker-python-sdk/tensorflow_moving_from_framework_mode_to_script_mode/tensorflow_moving_from_framework_mode_to_script_mode.ipynb)\n",
    "* [Horovod Distributed Training with SageMaker TensorFlow script mode.](../sagemaker-python-sdk/tensorflow_script_mode_horovod/tensorflow_script_mode_horovod.ipynb)\n",
    "* [TensorFlow Script Mode with Pipe Mode Input](../sagemaker-python-sdk/tensorflow_script_mode_pipe_mode/tensorflow_script_mode_pipe_mode.ipynb)\n",
    "* [Using TensorFlow Scripts in SageMaker - Quickstart](../sagemaker-python-sdk/tensorflow_script_mode_quickstart/tensorflow_script_mode_quickstart.ipynb)\n",
    "* [TensorFlow Script Mode - Using Shell scripts](../sagemaker-python-sdk/tensorflow_script_mode_using_shell_commands/tensorflow_script_mode_using_shell_commands.ipynb)\n",
    "* [TensorFlow Eager Execution with Amazon SageMaker Script Mode and Automatic Model Tuning](../sagemaker-python-sdk/tensorflow-eager-script-mode/tf-eager-sm-scriptmode.ipynb)\n",
    "* [TensorFlow script mode training and serving](../sagemaker-python-sdk/tensorflow_script_mode_training_and_serving/tensorflow_script_mode_training_and_serving.ipynb)\n",
    "* [Visualize Amazon SageMaker Training Jobs with TensorBoard](../sagemaker-python-sdk/tensorboard_keras/tensorboard_keras.ipynb)\n",
    "\n"
   ]
  },
  {
   "cell_type": "markdown",
   "metadata": {},
   "source": [
    "## JAX\n",
    "---\n",
    "\n",
    "* [Training and Deploying ML Models using JAX on SageMaker](../advanced_functionality/jax_bring_your_own/train_deploy_jax.ipynb)"
   ]
  }
 ],
 "metadata": {
  "instance_type": "ml.t3.medium",
  "kernelspec": {
   "display_name": "Python 3 (Data Science)",
   "language": "python",
   "name": "python3__SAGEMAKER_INTERNAL__arn:aws:sagemaker:us-west-2:236514542706:image/datascience-1.0"
  },
  "language_info": {
   "codemirror_mode": {
    "name": "ipython",
    "version": 3
   },
   "file_extension": ".py",
   "mimetype": "text/x-python",
   "name": "python",
   "nbconvert_exporter": "python",
   "pygments_lexer": "ipython3",
   "version": "3.7.10"
  }
 },
 "nbformat": 4,
 "nbformat_minor": 4
}
