{
 "cells": [
  {
   "cell_type": "markdown",
   "metadata": {
    "Collapsed": "false"
   },
   "source": [
    "# AutoGluon Tabular with SageMaker\n",
    "\n",
    "[AutoGluon](https://github.com/awslabs/autogluon) automates machine learning tasks enabling you to easily achieve strong predictive performance in your applications. With just a few lines of code, you can train and deploy high-accuracy deep learning models on tabular, image, and text data.\n",
    "This notebook shows how to use AutoGluon-Tabular with Amazon SageMaker by creating custom containers."
   ]
  },
  {
   "cell_type": "markdown",
   "metadata": {
    "Collapsed": "false"
   },
   "source": [
    "## Prerequisites\n",
    "\n",
    "If using a SageMaker hosted notebook, select kernel `conda_mxnet_p36`."
   ]
  },
  {
   "cell_type": "code",
   "execution_count": 14,
   "metadata": {
    "Collapsed": "false"
   },
   "outputs": [
    {
     "name": "stdout",
     "output_type": "stream",
     "text": [
      "The user has root access.\n",
      "SageMaker instance route table setup is ok. We are good to go.\n",
      "SageMaker instance routing for Docker is ok. We are good to go!\n"
     ]
    }
   ],
   "source": [
    "# Make sure docker compose is set up properly for local mode\n",
    "!./setup.sh"
   ]
  },
  {
   "cell_type": "code",
   "execution_count": 15,
   "metadata": {
    "Collapsed": "false"
   },
   "outputs": [],
   "source": [
    "# Imports\n",
    "import os\n",
    "import boto3\n",
    "import sagemaker\n",
    "from time import sleep\n",
    "from collections import Counter\n",
    "import numpy as np\n",
    "import pandas as pd\n",
    "from sagemaker import get_execution_role, local, Model, utils, fw_utils, s3\n",
    "from sagemaker.estimator import Estimator\n",
    "from sagemaker.predictor import RealTimePredictor, csv_serializer, StringDeserializer\n",
    "from sklearn.metrics import accuracy_score, classification_report\n",
    "from IPython.core.display import display, HTML\n",
    "from IPython.core.interactiveshell import InteractiveShell\n",
    "\n",
    "# Print settings\n",
    "InteractiveShell.ast_node_interactivity = \"all\"\n",
    "pd.set_option('display.max_columns', 500)\n",
    "pd.set_option('display.max_rows', 10)\n",
    "\n",
    "# Account/s3 setup\n",
    "session = sagemaker.Session()\n",
    "local_session = local.LocalSession()\n",
    "bucket = session.default_bucket()\n",
    "prefix = 'sagemaker/autogluon-tabular'\n",
    "region = session.boto_region_name\n",
    "role = get_execution_role()\n",
    "client = session.boto_session.client(\n",
    "    \"sts\", region_name=region, endpoint_url=utils.sts_regional_endpoint(region)\n",
    "    )\n",
    "account = client.get_caller_identity()['Account']\n",
    "ecr_uri_prefix = utils.get_ecr_image_uri_prefix(account, region)\n",
    "registry_id = fw_utils._registry_id(region, 'mxnet', 'py3', account, '1.6.0')\n",
    "registry_uri = utils.get_ecr_image_uri_prefix(registry_id, region)"
   ]
  },
  {
   "cell_type": "markdown",
   "metadata": {
    "Collapsed": "false"
   },
   "source": [
    "### Build docker images"
   ]
  },
  {
   "cell_type": "markdown",
   "metadata": {
    "Collapsed": "false"
   },
   "source": [
    "Build the training/inference image and push to ECR"
   ]
  },
  {
   "cell_type": "code",
   "execution_count": 16,
   "metadata": {
    "Collapsed": "false"
   },
   "outputs": [],
   "source": [
    "training_algorithm_name = 'autogluon-sagemaker-training'\n",
    "inference_algorithm_name = 'autogluon-sagemaker-inference'"
   ]
  },
  {
   "cell_type": "code",
   "execution_count": 17,
   "metadata": {
    "Collapsed": "false"
   },
   "outputs": [
    {
     "name": "stdout",
     "output_type": "stream",
     "text": [
      "WARNING! Using --password via the CLI is insecure. Use --password-stdin.\n",
      "WARNING! Your password will be stored unencrypted in /home/ec2-user/.docker/config.json.\n",
      "Configure a credential helper to remove this warning. See\n",
      "https://docs.docker.com/engine/reference/commandline/login/#credentials-store\n",
      "\n",
      "Login Succeeded\n",
      "WARNING! Using --password via the CLI is insecure. Use --password-stdin.\n",
      "WARNING! Your password will be stored unencrypted in /home/ec2-user/.docker/config.json.\n",
      "Configure a credential helper to remove this warning. See\n",
      "https://docs.docker.com/engine/reference/commandline/login/#credentials-store\n",
      "\n",
      "Login Succeeded\n",
      "Sending build context to Docker daemon   12.3MB\n",
      "Step 1/11 : ARG REGISTRY_URI\n",
      "Step 2/11 : FROM ${REGISTRY_URI}/mxnet-training:1.6.0-cpu-py3\n",
      " ---> 148136370d72\n",
      "Step 3/11 : RUN pip install autogluon\n",
      " ---> Using cache\n",
      " ---> de913affbcc0\n",
      "Step 4/11 : RUN pip install PrettyTable\n",
      " ---> Using cache\n",
      " ---> 23ccb7951640\n",
      "Step 5/11 : RUN pip install bokeh\n",
      " ---> Using cache\n",
      " ---> 4f711826175b\n",
      "Step 6/11 : ENV PATH=\"/opt/ml/code:${PATH}\"\n",
      " ---> Using cache\n",
      " ---> 15892b00712a\n",
      "Step 7/11 : COPY container-training/train.py /opt/ml/code/train.py\n",
      " ---> Using cache\n",
      " ---> 64b69db389e6\n",
      "Step 8/11 : COPY container-training/inference.py /opt/ml/code/inference.py\n",
      " ---> Using cache\n",
      " ---> 2fe365484c38\n",
      "Step 9/11 : RUN pip install seaborn\n",
      " ---> Using cache\n",
      " ---> 11491aade9fa\n",
      "Step 10/11 : ENV SAGEMAKER_SUBMIT_DIRECTORY /opt/ml/code\n",
      " ---> Using cache\n",
      " ---> 7bea5a7c3b5c\n",
      "Step 11/11 : ENV SAGEMAKER_PROGRAM train.py\n",
      " ---> Using cache\n",
      " ---> cd9153434567\n",
      "Successfully built cd9153434567\n",
      "Successfully tagged autogluon-sagemaker-training:latest\n",
      "The push refers to repository [332270294944.dkr.ecr.us-east-1.amazonaws.com/autogluon-sagemaker-training]\n",
      "\n",
      "\u001b[1B1dc992d1: Preparing \n",
      "\u001b[1Bc48712ed: Preparing \n",
      "\u001b[1Bb89d7912: Preparing \n",
      "\u001b[1B45067248: Preparing \n",
      "\u001b[1B95423306: Preparing \n",
      "\u001b[1B17ac9c78: Preparing \n",
      "\u001b[1B6fe3b4fb: Preparing \n",
      "\u001b[1B94763e92: Preparing \n",
      "\u001b[1Bdad077dd: Preparing \n",
      "\u001b[1B8d40f51f: Preparing \n",
      "\u001b[1B91740503: Preparing \n",
      "\u001b[1B06963fdb: Preparing \n",
      "\u001b[1B7c8af503: Preparing \n",
      "\u001b[1Bda04967b: Preparing \n",
      "\u001b[1B4d2f8170: Preparing \n",
      "\u001b[1Bd309bc2e: Preparing \n",
      "\u001b[1B6bab84f0: Preparing \n",
      "\u001b[13B7ac9c78: Waiting g \n",
      "\u001b[1B40a5867e: Preparing \n",
      "\u001b[14Bfe3b4fb: Waiting g \n",
      "\u001b[1B62d5f9b3: Preparing \n",
      "\u001b[15B4763e92: Waiting g \n",
      "\u001b[15Bad077dd: Waiting g \n",
      "\u001b[1Ba71ce233: Preparing \n",
      "\u001b[16Bd40f51f: Waiting g \n",
      "\u001b[16B1740503: Waiting g \n",
      "\u001b[1B7f5e6796: Layer already exists \u001b[21A\u001b[2K\u001b[17A\u001b[2K\u001b[13A\u001b[2K\u001b[11A\u001b[2K\u001b[6A\u001b[2K\u001b[2A\u001b[2Klatest: digest: sha256:12ab59aa2e0321919ae3a43e5dc83abac0e1f3d2f92e03efe9abbd38747451e1 size: 5972\n",
      "WARNING! Using --password via the CLI is insecure. Use --password-stdin.\n",
      "WARNING! Your password will be stored unencrypted in /home/ec2-user/.docker/config.json.\n",
      "Configure a credential helper to remove this warning. See\n",
      "https://docs.docker.com/engine/reference/commandline/login/#credentials-store\n",
      "\n",
      "Login Succeeded\n",
      "WARNING! Using --password via the CLI is insecure. Use --password-stdin.\n",
      "WARNING! Your password will be stored unencrypted in /home/ec2-user/.docker/config.json.\n",
      "Configure a credential helper to remove this warning. See\n",
      "https://docs.docker.com/engine/reference/commandline/login/#credentials-store\n",
      "\n",
      "Login Succeeded\n",
      "Sending build context to Docker daemon   12.3MB\n",
      "Step 1/5 : ARG REGISTRY_URI\n",
      "Step 2/5 : FROM ${REGISTRY_URI}/mxnet-inference:1.6.0-cpu-py3\n",
      " ---> ac9d36e4dca4\n",
      "Step 3/5 : RUN pip install autogluon\n",
      " ---> Using cache\n",
      " ---> df5463842a30\n",
      "Step 4/5 : RUN pip install PrettyTable\n",
      " ---> Using cache\n",
      " ---> 7de24d09592d\n",
      "Step 5/5 : ENV SAGEMAKER_PROGRAM inference.py\n",
      " ---> Using cache\n",
      " ---> c22043790f56\n",
      "Successfully built c22043790f56\n",
      "Successfully tagged autogluon-sagemaker-inference:latest\n",
      "The push refers to repository [332270294944.dkr.ecr.us-east-1.amazonaws.com/autogluon-sagemaker-inference]\n",
      "\n",
      "\u001b[1B0cd220bd: Preparing \n",
      "\u001b[1B50b3507e: Preparing \n",
      "\u001b[1B3ff8312b: Preparing \n",
      "\u001b[1B59ec0d8a: Preparing \n",
      "\u001b[1B12639dc5: Preparing \n",
      "\u001b[1B0e9af77f: Preparing \n",
      "\u001b[1Bbdb96df8: Preparing \n",
      "\u001b[1B34244b0d: Preparing \n",
      "\u001b[1B229eddc1: Preparing \n",
      "\u001b[1Baceca18a: Preparing \n",
      "\u001b[1Beee005c5: Preparing \n",
      "\u001b[1B2cfcc32d: Preparing \n",
      "\u001b[1Bbf2f5ca8: Preparing \n",
      "\u001b[1B1292030a: Preparing \n",
      "\u001b[10Be9af77f: Waiting g \n",
      "\u001b[9B34244b0d: Waiting g \n",
      "\u001b[11Bdb96df8: Waiting g \n",
      "\u001b[1Ba71ce233: Preparing \n",
      "\u001b[1Bddf6a67c: Preparing \n",
      "\u001b[12B29eddc1: Waiting g \n",
      "\u001b[1B7f5e6796: Layer already exists \u001b[15A\u001b[2K\u001b[10A\u001b[2K\u001b[6A\u001b[2K\u001b[2A\u001b[2Klatest: digest: sha256:521144c0a87033a1b23ff18660c73be7d15531300ed67cabf0b26b786716ffe5 size: 4716\n"
     ]
    }
   ],
   "source": [
    "!/bin/bash ./container-training/build_push_training.sh {account} {region} {training_algorithm_name} {ecr_uri_prefix} {registry_id} {registry_uri}\n",
    "!/bin/bash ./container-inference/build_push_inference.sh {account} {region} {inference_algorithm_name} {ecr_uri_prefix} {registry_id} {registry_uri}"
   ]
  },
  {
   "cell_type": "markdown",
   "metadata": {
    "Collapsed": "false"
   },
   "source": [
    "### Get the data"
   ]
  },
  {
   "cell_type": "markdown",
   "metadata": {
    "Collapsed": "false"
   },
   "source": [
    "In this example we'll use the direct-marketing dataset to build a binary classification model that predicts whether customers will accept or decline a marketing offer.  \n",
    "First we'll download the data and split it into train and test sets. AutoGluon does not require a separate validation set (it uses bagged k-fold cross-validation)."
   ]
  },
  {
   "cell_type": "code",
   "execution_count": 18,
   "metadata": {
    "Collapsed": "false"
   },
   "outputs": [
    {
     "name": "stdout",
     "output_type": "stream",
     "text": [
      "download: s3://sagemaker-sample-data-us-east-1/autopilot/direct_marketing/bank-additional.zip to ./bank-additional.zip\n"
     ]
    }
   ],
   "source": [
    "# Download and unzip the data\n",
    "!aws s3 cp --region {region} s3://sagemaker-sample-data-{region}/autopilot/direct_marketing/bank-additional.zip .\n",
    "!unzip -qq -o bank-additional.zip\n",
    "!rm bank-additional.zip\n",
    "\n",
    "local_data_path = './bank-additional/bank-additional-full.csv'\n",
    "data = pd.read_csv(local_data_path)\n",
    "\n",
    "# Split train/test data\n",
    "train = data.sample(frac=0.7, random_state=42)\n",
    "test = data.drop(train.index)\n",
    "\n",
    "# Split test X/y\n",
    "label = 'y'\n",
    "y_test = test[label]\n",
    "X_test = test.drop(columns=[label])"
   ]
  },
  {
   "cell_type": "markdown",
   "metadata": {
    "Collapsed": "false"
   },
   "source": [
    "##### Check the data"
   ]
  },
  {
   "cell_type": "code",
   "execution_count": 19,
   "metadata": {
    "Collapsed": "false"
   },
   "outputs": [
    {
     "data": {
      "text/html": [
       "<div>\n",
       "<style scoped>\n",
       "    .dataframe tbody tr th:only-of-type {\n",
       "        vertical-align: middle;\n",
       "    }\n",
       "\n",
       "    .dataframe tbody tr th {\n",
       "        vertical-align: top;\n",
       "    }\n",
       "\n",
       "    .dataframe thead th {\n",
       "        text-align: right;\n",
       "    }\n",
       "</style>\n",
       "<table border=\"1\" class=\"dataframe\">\n",
       "  <thead>\n",
       "    <tr style=\"text-align: right;\">\n",
       "      <th></th>\n",
       "      <th>age</th>\n",
       "      <th>job</th>\n",
       "      <th>marital</th>\n",
       "      <th>education</th>\n",
       "      <th>default</th>\n",
       "      <th>housing</th>\n",
       "      <th>loan</th>\n",
       "      <th>contact</th>\n",
       "      <th>month</th>\n",
       "      <th>day_of_week</th>\n",
       "      <th>duration</th>\n",
       "      <th>campaign</th>\n",
       "      <th>pdays</th>\n",
       "      <th>previous</th>\n",
       "      <th>poutcome</th>\n",
       "      <th>emp.var.rate</th>\n",
       "      <th>cons.price.idx</th>\n",
       "      <th>cons.conf.idx</th>\n",
       "      <th>euribor3m</th>\n",
       "      <th>nr.employed</th>\n",
       "      <th>y</th>\n",
       "    </tr>\n",
       "  </thead>\n",
       "  <tbody>\n",
       "    <tr>\n",
       "      <th>32884</th>\n",
       "      <td>57</td>\n",
       "      <td>technician</td>\n",
       "      <td>married</td>\n",
       "      <td>high.school</td>\n",
       "      <td>no</td>\n",
       "      <td>no</td>\n",
       "      <td>yes</td>\n",
       "      <td>cellular</td>\n",
       "      <td>may</td>\n",
       "      <td>mon</td>\n",
       "      <td>371</td>\n",
       "      <td>1</td>\n",
       "      <td>999</td>\n",
       "      <td>1</td>\n",
       "      <td>failure</td>\n",
       "      <td>-1.8</td>\n",
       "      <td>92.893</td>\n",
       "      <td>-46.2</td>\n",
       "      <td>1.299</td>\n",
       "      <td>5099.1</td>\n",
       "      <td>no</td>\n",
       "    </tr>\n",
       "    <tr>\n",
       "      <th>3169</th>\n",
       "      <td>55</td>\n",
       "      <td>unknown</td>\n",
       "      <td>married</td>\n",
       "      <td>unknown</td>\n",
       "      <td>unknown</td>\n",
       "      <td>yes</td>\n",
       "      <td>no</td>\n",
       "      <td>telephone</td>\n",
       "      <td>may</td>\n",
       "      <td>thu</td>\n",
       "      <td>285</td>\n",
       "      <td>2</td>\n",
       "      <td>999</td>\n",
       "      <td>0</td>\n",
       "      <td>nonexistent</td>\n",
       "      <td>1.1</td>\n",
       "      <td>93.994</td>\n",
       "      <td>-36.4</td>\n",
       "      <td>4.860</td>\n",
       "      <td>5191.0</td>\n",
       "      <td>no</td>\n",
       "    </tr>\n",
       "    <tr>\n",
       "      <th>32206</th>\n",
       "      <td>33</td>\n",
       "      <td>blue-collar</td>\n",
       "      <td>married</td>\n",
       "      <td>basic.9y</td>\n",
       "      <td>no</td>\n",
       "      <td>no</td>\n",
       "      <td>no</td>\n",
       "      <td>cellular</td>\n",
       "      <td>may</td>\n",
       "      <td>fri</td>\n",
       "      <td>52</td>\n",
       "      <td>1</td>\n",
       "      <td>999</td>\n",
       "      <td>1</td>\n",
       "      <td>failure</td>\n",
       "      <td>-1.8</td>\n",
       "      <td>92.893</td>\n",
       "      <td>-46.2</td>\n",
       "      <td>1.313</td>\n",
       "      <td>5099.1</td>\n",
       "      <td>no</td>\n",
       "    </tr>\n",
       "  </tbody>\n",
       "</table>\n",
       "</div>"
      ],
      "text/plain": [
       "       age          job  marital    education  default housing loan  \\\n",
       "32884   57   technician  married  high.school       no      no  yes   \n",
       "3169    55      unknown  married      unknown  unknown     yes   no   \n",
       "32206   33  blue-collar  married     basic.9y       no      no   no   \n",
       "\n",
       "         contact month day_of_week  duration  campaign  pdays  previous  \\\n",
       "32884   cellular   may         mon       371         1    999         1   \n",
       "3169   telephone   may         thu       285         2    999         0   \n",
       "32206   cellular   may         fri        52         1    999         1   \n",
       "\n",
       "          poutcome  emp.var.rate  cons.price.idx  cons.conf.idx  euribor3m  \\\n",
       "32884      failure          -1.8          92.893          -46.2      1.299   \n",
       "3169   nonexistent           1.1          93.994          -36.4      4.860   \n",
       "32206      failure          -1.8          92.893          -46.2      1.313   \n",
       "\n",
       "       nr.employed   y  \n",
       "32884       5099.1  no  \n",
       "3169        5191.0  no  \n",
       "32206       5099.1  no  "
      ]
     },
     "execution_count": 19,
     "metadata": {},
     "output_type": "execute_result"
    },
    {
     "data": {
      "text/plain": [
       "(28832, 21)"
      ]
     },
     "execution_count": 19,
     "metadata": {},
     "output_type": "execute_result"
    },
    {
     "data": {
      "text/html": [
       "<div>\n",
       "<style scoped>\n",
       "    .dataframe tbody tr th:only-of-type {\n",
       "        vertical-align: middle;\n",
       "    }\n",
       "\n",
       "    .dataframe tbody tr th {\n",
       "        vertical-align: top;\n",
       "    }\n",
       "\n",
       "    .dataframe thead th {\n",
       "        text-align: right;\n",
       "    }\n",
       "</style>\n",
       "<table border=\"1\" class=\"dataframe\">\n",
       "  <thead>\n",
       "    <tr style=\"text-align: right;\">\n",
       "      <th></th>\n",
       "      <th>age</th>\n",
       "      <th>job</th>\n",
       "      <th>marital</th>\n",
       "      <th>education</th>\n",
       "      <th>default</th>\n",
       "      <th>housing</th>\n",
       "      <th>loan</th>\n",
       "      <th>contact</th>\n",
       "      <th>month</th>\n",
       "      <th>day_of_week</th>\n",
       "      <th>duration</th>\n",
       "      <th>campaign</th>\n",
       "      <th>pdays</th>\n",
       "      <th>previous</th>\n",
       "      <th>poutcome</th>\n",
       "      <th>emp.var.rate</th>\n",
       "      <th>cons.price.idx</th>\n",
       "      <th>cons.conf.idx</th>\n",
       "      <th>euribor3m</th>\n",
       "      <th>nr.employed</th>\n",
       "      <th>y</th>\n",
       "    </tr>\n",
       "  </thead>\n",
       "  <tbody>\n",
       "    <tr>\n",
       "      <th>2</th>\n",
       "      <td>37</td>\n",
       "      <td>services</td>\n",
       "      <td>married</td>\n",
       "      <td>high.school</td>\n",
       "      <td>no</td>\n",
       "      <td>yes</td>\n",
       "      <td>no</td>\n",
       "      <td>telephone</td>\n",
       "      <td>may</td>\n",
       "      <td>mon</td>\n",
       "      <td>226</td>\n",
       "      <td>1</td>\n",
       "      <td>999</td>\n",
       "      <td>0</td>\n",
       "      <td>nonexistent</td>\n",
       "      <td>1.1</td>\n",
       "      <td>93.994</td>\n",
       "      <td>-36.4</td>\n",
       "      <td>4.857</td>\n",
       "      <td>5191.0</td>\n",
       "      <td>no</td>\n",
       "    </tr>\n",
       "    <tr>\n",
       "      <th>9</th>\n",
       "      <td>25</td>\n",
       "      <td>services</td>\n",
       "      <td>single</td>\n",
       "      <td>high.school</td>\n",
       "      <td>no</td>\n",
       "      <td>yes</td>\n",
       "      <td>no</td>\n",
       "      <td>telephone</td>\n",
       "      <td>may</td>\n",
       "      <td>mon</td>\n",
       "      <td>50</td>\n",
       "      <td>1</td>\n",
       "      <td>999</td>\n",
       "      <td>0</td>\n",
       "      <td>nonexistent</td>\n",
       "      <td>1.1</td>\n",
       "      <td>93.994</td>\n",
       "      <td>-36.4</td>\n",
       "      <td>4.857</td>\n",
       "      <td>5191.0</td>\n",
       "      <td>no</td>\n",
       "    </tr>\n",
       "    <tr>\n",
       "      <th>10</th>\n",
       "      <td>41</td>\n",
       "      <td>blue-collar</td>\n",
       "      <td>married</td>\n",
       "      <td>unknown</td>\n",
       "      <td>unknown</td>\n",
       "      <td>no</td>\n",
       "      <td>no</td>\n",
       "      <td>telephone</td>\n",
       "      <td>may</td>\n",
       "      <td>mon</td>\n",
       "      <td>55</td>\n",
       "      <td>1</td>\n",
       "      <td>999</td>\n",
       "      <td>0</td>\n",
       "      <td>nonexistent</td>\n",
       "      <td>1.1</td>\n",
       "      <td>93.994</td>\n",
       "      <td>-36.4</td>\n",
       "      <td>4.857</td>\n",
       "      <td>5191.0</td>\n",
       "      <td>no</td>\n",
       "    </tr>\n",
       "  </tbody>\n",
       "</table>\n",
       "</div>"
      ],
      "text/plain": [
       "    age          job  marital    education  default housing loan    contact  \\\n",
       "2    37     services  married  high.school       no     yes   no  telephone   \n",
       "9    25     services   single  high.school       no     yes   no  telephone   \n",
       "10   41  blue-collar  married      unknown  unknown      no   no  telephone   \n",
       "\n",
       "   month day_of_week  duration  campaign  pdays  previous     poutcome  \\\n",
       "2    may         mon       226         1    999         0  nonexistent   \n",
       "9    may         mon        50         1    999         0  nonexistent   \n",
       "10   may         mon        55         1    999         0  nonexistent   \n",
       "\n",
       "    emp.var.rate  cons.price.idx  cons.conf.idx  euribor3m  nr.employed   y  \n",
       "2            1.1          93.994          -36.4      4.857       5191.0  no  \n",
       "9            1.1          93.994          -36.4      4.857       5191.0  no  \n",
       "10           1.1          93.994          -36.4      4.857       5191.0  no  "
      ]
     },
     "execution_count": 19,
     "metadata": {},
     "output_type": "execute_result"
    },
    {
     "data": {
      "text/plain": [
       "(12356, 21)"
      ]
     },
     "execution_count": 19,
     "metadata": {},
     "output_type": "execute_result"
    },
    {
     "data": {
      "text/html": [
       "<div>\n",
       "<style scoped>\n",
       "    .dataframe tbody tr th:only-of-type {\n",
       "        vertical-align: middle;\n",
       "    }\n",
       "\n",
       "    .dataframe tbody tr th {\n",
       "        vertical-align: top;\n",
       "    }\n",
       "\n",
       "    .dataframe thead th {\n",
       "        text-align: right;\n",
       "    }\n",
       "</style>\n",
       "<table border=\"1\" class=\"dataframe\">\n",
       "  <thead>\n",
       "    <tr style=\"text-align: right;\">\n",
       "      <th></th>\n",
       "      <th>age</th>\n",
       "      <th>job</th>\n",
       "      <th>marital</th>\n",
       "      <th>education</th>\n",
       "      <th>default</th>\n",
       "      <th>housing</th>\n",
       "      <th>loan</th>\n",
       "      <th>contact</th>\n",
       "      <th>month</th>\n",
       "      <th>day_of_week</th>\n",
       "      <th>duration</th>\n",
       "      <th>campaign</th>\n",
       "      <th>pdays</th>\n",
       "      <th>previous</th>\n",
       "      <th>poutcome</th>\n",
       "      <th>emp.var.rate</th>\n",
       "      <th>cons.price.idx</th>\n",
       "      <th>cons.conf.idx</th>\n",
       "      <th>euribor3m</th>\n",
       "      <th>nr.employed</th>\n",
       "    </tr>\n",
       "  </thead>\n",
       "  <tbody>\n",
       "    <tr>\n",
       "      <th>2</th>\n",
       "      <td>37</td>\n",
       "      <td>services</td>\n",
       "      <td>married</td>\n",
       "      <td>high.school</td>\n",
       "      <td>no</td>\n",
       "      <td>yes</td>\n",
       "      <td>no</td>\n",
       "      <td>telephone</td>\n",
       "      <td>may</td>\n",
       "      <td>mon</td>\n",
       "      <td>226</td>\n",
       "      <td>1</td>\n",
       "      <td>999</td>\n",
       "      <td>0</td>\n",
       "      <td>nonexistent</td>\n",
       "      <td>1.1</td>\n",
       "      <td>93.994</td>\n",
       "      <td>-36.4</td>\n",
       "      <td>4.857</td>\n",
       "      <td>5191.0</td>\n",
       "    </tr>\n",
       "    <tr>\n",
       "      <th>9</th>\n",
       "      <td>25</td>\n",
       "      <td>services</td>\n",
       "      <td>single</td>\n",
       "      <td>high.school</td>\n",
       "      <td>no</td>\n",
       "      <td>yes</td>\n",
       "      <td>no</td>\n",
       "      <td>telephone</td>\n",
       "      <td>may</td>\n",
       "      <td>mon</td>\n",
       "      <td>50</td>\n",
       "      <td>1</td>\n",
       "      <td>999</td>\n",
       "      <td>0</td>\n",
       "      <td>nonexistent</td>\n",
       "      <td>1.1</td>\n",
       "      <td>93.994</td>\n",
       "      <td>-36.4</td>\n",
       "      <td>4.857</td>\n",
       "      <td>5191.0</td>\n",
       "    </tr>\n",
       "    <tr>\n",
       "      <th>10</th>\n",
       "      <td>41</td>\n",
       "      <td>blue-collar</td>\n",
       "      <td>married</td>\n",
       "      <td>unknown</td>\n",
       "      <td>unknown</td>\n",
       "      <td>no</td>\n",
       "      <td>no</td>\n",
       "      <td>telephone</td>\n",
       "      <td>may</td>\n",
       "      <td>mon</td>\n",
       "      <td>55</td>\n",
       "      <td>1</td>\n",
       "      <td>999</td>\n",
       "      <td>0</td>\n",
       "      <td>nonexistent</td>\n",
       "      <td>1.1</td>\n",
       "      <td>93.994</td>\n",
       "      <td>-36.4</td>\n",
       "      <td>4.857</td>\n",
       "      <td>5191.0</td>\n",
       "    </tr>\n",
       "  </tbody>\n",
       "</table>\n",
       "</div>"
      ],
      "text/plain": [
       "    age          job  marital    education  default housing loan    contact  \\\n",
       "2    37     services  married  high.school       no     yes   no  telephone   \n",
       "9    25     services   single  high.school       no     yes   no  telephone   \n",
       "10   41  blue-collar  married      unknown  unknown      no   no  telephone   \n",
       "\n",
       "   month day_of_week  duration  campaign  pdays  previous     poutcome  \\\n",
       "2    may         mon       226         1    999         0  nonexistent   \n",
       "9    may         mon        50         1    999         0  nonexistent   \n",
       "10   may         mon        55         1    999         0  nonexistent   \n",
       "\n",
       "    emp.var.rate  cons.price.idx  cons.conf.idx  euribor3m  nr.employed  \n",
       "2            1.1          93.994          -36.4      4.857       5191.0  \n",
       "9            1.1          93.994          -36.4      4.857       5191.0  \n",
       "10           1.1          93.994          -36.4      4.857       5191.0  "
      ]
     },
     "execution_count": 19,
     "metadata": {},
     "output_type": "execute_result"
    },
    {
     "data": {
      "text/plain": [
       "(12356, 20)"
      ]
     },
     "execution_count": 19,
     "metadata": {},
     "output_type": "execute_result"
    }
   ],
   "source": [
    "train.head(3)\n",
    "train.shape\n",
    "\n",
    "test.head(3)\n",
    "test.shape\n",
    "\n",
    "X_test.head(3)\n",
    "X_test.shape"
   ]
  },
  {
   "cell_type": "markdown",
   "metadata": {
    "Collapsed": "false"
   },
   "source": [
    "Upload the data to s3"
   ]
  },
  {
   "cell_type": "code",
   "execution_count": 20,
   "metadata": {
    "Collapsed": "false"
   },
   "outputs": [],
   "source": [
    "train_file = 'train.csv'\n",
    "train.to_csv(train_file,index=False)\n",
    "train_s3_path = session.upload_data(train_file, key_prefix='{}/data'.format(prefix))\n",
    "\n",
    "test_file = 'test.csv'\n",
    "test.to_csv(test_file,index=False)\n",
    "test_s3_path = session.upload_data(test_file, key_prefix='{}/data'.format(prefix))\n",
    "\n",
    "X_test_file = 'X_test.csv'\n",
    "X_test.to_csv(X_test_file,index=False)\n",
    "X_test_s3_path = session.upload_data(X_test_file, key_prefix='{}/data'.format(prefix))"
   ]
  },
  {
   "cell_type": "markdown",
   "metadata": {
    "Collapsed": "false"
   },
   "source": [
    "## Hyperparameter Selection\n",
    "\n",
    "The minimum required settings for training is just a target label, `fit_args['label']`.\n",
    "\n",
    "Additional optional hyperparameters can be passed to the `autogluon.task.TabularPrediction.fit` function via `fit_args`.\n",
    "\n",
    "Below shows a more in depth example of AutoGluon-Tabular hyperparameters from the example [Predicting Columns in a Table - In Depth](https://autogluon.mxnet.io/tutorials/tabular_prediction/tabular-indepth.html#model-ensembling-with-stacking-bagging). Please see [fit parameters](https://autogluon.mxnet.io/api/autogluon.task.html?highlight=eval_metric#autogluon.task.TabularPrediction.fit) for further information. Note that in order for hyperparameter ranges to work in SageMaker, values passed to the `fit_args['hyperparameters']` must be represented as strings.\n",
    "\n",
    "```python\n",
    "nn_options = {\n",
    "    'num_epochs': \"10\",\n",
    "    'learning_rate': \"ag.space.Real(1e-4, 1e-2, default=5e-4, log=True)\",\n",
    "    'activation': \"ag.space.Categorical('relu', 'softrelu', 'tanh')\",\n",
    "    'layers': \"ag.space.Categorical([100],[1000],[200,100],[300,200,100])\",\n",
    "    'dropout_prob': \"ag.space.Real(0.0, 0.5, default=0.1)\"\n",
    "}\n",
    "\n",
    "gbm_options = {\n",
    "    'num_boost_round': \"100\",\n",
    "    'num_leaves': \"ag.space.Int(lower=26, upper=66, default=36)\"\n",
    "}\n",
    "\n",
    "model_hps = {'NN': nn_options, 'GBM': gbm_options} \n",
    "\n",
    "fit_args = {\n",
    "  'label': 'y',\n",
    "  'presets': ['best_quality', 'optimize_for_deployment'],\n",
    "  'time_limits': 60*10,\n",
    "  'hyperparameters': model_hps,\n",
    "  'hyperparameter_tune': True,\n",
    "  'search_strategy': 'skopt'\n",
    "}\n",
    "\n",
    "hyperparameters = {\n",
    "  'fit_args': fit_args,\n",
    "  'feature_importance': True\n",
    "}\n",
    "```\n",
    "**Note:** Your hyperparameter choices may affect the size of the model package, which could result in additional time taken to upload your model and complete training. Including `'optimize_for_deployment'` in the list of `fit_args['presets']` is recommended to greatly reduce upload times.\n",
    "\n",
    "<br>"
   ]
  },
  {
   "cell_type": "code",
   "execution_count": 21,
   "metadata": {
    "Collapsed": "false"
   },
   "outputs": [],
   "source": [
    "# Define required label and optional additional parameters\n",
    "fit_args = {\n",
    "  'label': 'y',\n",
    "  # Adding 'best_quality' to presets list will result in better performance (but longer runtime)\n",
    "  'presets': ['optimize_for_deployment'],\n",
    "}\n",
    "\n",
    "# Pass fit_args to SageMaker estimator hyperparameters\n",
    "hyperparameters = {\n",
    "  'fit_args': fit_args,\n",
    "  'feature_importance': True\n",
    "}\n",
    "\n",
    "tags = [{\n",
    "    'Key' : 'AlgorithmName',\n",
    "    'Value' : 'AutoGluon-Tabular'\n",
    "}]"
   ]
  },
  {
   "cell_type": "markdown",
   "metadata": {
    "Collapsed": "false"
   },
   "source": [
    "## Train\n",
    "\n",
    "For local training set `train_instance_type` to `local` .   \n",
    "For non-local training the recommended instance type is `ml.m5.2xlarge`.   \n",
    "\n",
    "**Note:** Depending on how many underlying models are trained, `train_volume_size` may need to be increased so that they all fit on disk."
   ]
  },
  {
   "cell_type": "code",
   "execution_count": 22,
   "metadata": {
    "Collapsed": "false"
   },
   "outputs": [
    {
     "name": "stderr",
     "output_type": "stream",
     "text": [
      "Parameter image_name will be renamed to image_uri in SageMaker Python SDK v2.\n",
      "'s3_input' class will be renamed to 'TrainingInput' in SageMaker Python SDK v2.\n",
      "'s3_input' class will be renamed to 'TrainingInput' in SageMaker Python SDK v2.\n"
     ]
    },
    {
     "name": "stdout",
     "output_type": "stream",
     "text": [
      "2020-11-11 05:56:16 Starting - Starting the training job...\n",
      "2020-11-11 05:56:18 Starting - Launching requested ML instances......\n",
      "2020-11-11 05:57:35 Starting - Preparing the instances for training......\n",
      "2020-11-11 05:58:34 Downloading - Downloading input data\n",
      "2020-11-11 05:58:34 Training - Downloading the training image........\u001b[34m2020-11-11 05:59:56,395 sagemaker-training-toolkit INFO     Imported framework sagemaker_mxnet_container.training\u001b[0m\n",
      "\u001b[34m2020-11-11 05:59:56,398 sagemaker-training-toolkit INFO     No GPUs detected (normal if no gpus installed)\u001b[0m\n",
      "\u001b[34m2020-11-11 05:59:56,398 sagemaker-training-toolkit INFO     Failed to parse hyperparameter fit_args value {'label': 'y', 'presets': ['optimize_for_deployment']} to Json.\u001b[0m\n",
      "\u001b[34mReturning the value itself\u001b[0m\n",
      "\u001b[34m2020-11-11 05:59:56,399 sagemaker-training-toolkit INFO     Failed to parse hyperparameter feature_importance value True to Json.\u001b[0m\n",
      "\u001b[34mReturning the value itself\u001b[0m\n",
      "\u001b[34m2020-11-11 05:59:56,410 sagemaker_mxnet_container.training INFO     MXNet training environment: {'SM_HOSTS': '[\"algo-1\"]', 'SM_NETWORK_INTERFACE_NAME': 'eth0', 'SM_HPS': '{\"feature_importance\":\"True\",\"fit_args\":\"{\\'label\\': \\'y\\', \\'presets\\': [\\'optimize_for_deployment\\']}\"}', 'SM_USER_ENTRY_POINT': 'train.py', 'SM_FRAMEWORK_PARAMS': '{}', 'SM_RESOURCE_CONFIG': '{\"current_host\":\"algo-1\",\"hosts\":[\"algo-1\"],\"network_interface_name\":\"eth0\"}', 'SM_INPUT_DATA_CONFIG': '{\"testing\":{\"RecordWrapperType\":\"None\",\"S3DistributionType\":\"FullyReplicated\",\"TrainingInputMode\":\"File\"},\"training\":{\"RecordWrapperType\":\"None\",\"S3DistributionType\":\"FullyReplicated\",\"TrainingInputMode\":\"File\"}}', 'SM_OUTPUT_DATA_DIR': '/opt/ml/output/data', 'SM_CHANNELS': '[\"testing\",\"training\"]', 'SM_CURRENT_HOST': 'algo-1', 'SM_MODULE_NAME': 'train', 'SM_LOG_LEVEL': '20', 'SM_FRAMEWORK_MODULE': 'sagemaker_mxnet_container.training:main', 'SM_INPUT_DIR': '/opt/ml/input', 'SM_INPUT_CONFIG_DIR': '/opt/ml/input/config', 'SM_OUTPUT_DIR': '/opt/ml/output', 'SM_NUM_CPUS': '8', 'SM_NUM_GPUS': '0', 'SM_MODEL_DIR': '/opt/ml/model', 'SM_MODULE_DIR': '/opt/ml/code', 'SM_TRAINING_ENV': '{\"additional_framework_parameters\":{},\"channel_input_dirs\":{\"testing\":\"/opt/ml/input/data/testing\",\"training\":\"/opt/ml/input/data/training\"},\"current_host\":\"algo-1\",\"framework_module\":\"sagemaker_mxnet_container.training:main\",\"hosts\":[\"algo-1\"],\"hyperparameters\":{\"feature_importance\":\"True\",\"fit_args\":\"{\\'label\\': \\'y\\', \\'presets\\': [\\'optimize_for_deployment\\']}\"},\"input_config_dir\":\"/opt/ml/input/config\",\"input_data_config\":{\"testing\":{\"RecordWrapperType\":\"None\",\"S3DistributionType\":\"FullyReplicated\",\"TrainingInputMode\":\"File\"},\"training\":{\"RecordWrapperType\":\"None\",\"S3DistributionType\":\"FullyReplicated\",\"TrainingInputMode\":\"File\"}},\"input_dir\":\"/opt/ml/input\",\"is_master\":true,\"job_name\":\"autogluon-sagemaker-training-2020-11-11-05-56-16-184\",\"log_level\":20,\"master_hostname\":\"algo-1\",\"model_dir\":\"/opt/ml/model\",\"module_dir\":\"/opt/ml/code\",\"module_name\":\"train\",\"network_interface_name\":\"eth0\",\"num_cpus\":8,\"num_gpus\":0,\"output_data_dir\":\"/opt/ml/output/data\",\"output_dir\":\"/opt/ml/output\",\"output_intermediate_dir\":\"/opt/ml/output/intermediate\",\"resource_config\":{\"current_host\":\"algo-1\",\"hosts\":[\"algo-1\"],\"network_interface_name\":\"eth0\"},\"user_entry_point\":\"train.py\"}', 'SM_USER_ARGS': '[\"--feature_importance\",\"True\",\"--fit_args\",\"{\\'label\\': \\'y\\', \\'presets\\': [\\'optimize_for_deployment\\']}\"]', 'SM_OUTPUT_INTERMEDIATE_DIR': '/opt/ml/output/intermediate', 'SM_CHANNEL_TESTING': '/opt/ml/input/data/testing', 'SM_CHANNEL_TRAINING': '/opt/ml/input/data/training', 'SM_HP_FIT_ARGS': \"{'label': 'y', 'presets': ['optimize_for_deployment']}\", 'SM_HP_FEATURE_IMPORTANCE': 'True'}\u001b[0m\n",
      "\u001b[34m2020-11-11 05:59:56,412 sagemaker-training-toolkit INFO     No GPUs detected (normal if no gpus installed)\u001b[0m\n",
      "\u001b[34m2020-11-11 05:59:56,413 sagemaker-training-toolkit INFO     Failed to parse hyperparameter fit_args value {'label': 'y', 'presets': ['optimize_for_deployment']} to Json.\u001b[0m\n",
      "\u001b[34mReturning the value itself\u001b[0m\n",
      "\u001b[34m2020-11-11 05:59:56,413 sagemaker-training-toolkit INFO     Failed to parse hyperparameter feature_importance value True to Json.\u001b[0m\n",
      "\u001b[34mReturning the value itself\u001b[0m\n",
      "\u001b[34m2020-11-11 05:59:56,665 sagemaker-training-toolkit INFO     No GPUs detected (normal if no gpus installed)\u001b[0m\n",
      "\u001b[34m2020-11-11 05:59:56,665 sagemaker-training-toolkit INFO     Failed to parse hyperparameter fit_args value {'label': 'y', 'presets': ['optimize_for_deployment']} to Json.\u001b[0m\n",
      "\u001b[34mReturning the value itself\u001b[0m\n",
      "\u001b[34m2020-11-11 05:59:56,665 sagemaker-training-toolkit INFO     Failed to parse hyperparameter feature_importance value True to Json.\u001b[0m\n",
      "\u001b[34mReturning the value itself\u001b[0m\n",
      "\u001b[34m2020-11-11 05:59:56,678 sagemaker-training-toolkit INFO     No GPUs detected (normal if no gpus installed)\u001b[0m\n",
      "\u001b[34m2020-11-11 05:59:56,679 sagemaker-training-toolkit INFO     Failed to parse hyperparameter fit_args value {'label': 'y', 'presets': ['optimize_for_deployment']} to Json.\u001b[0m\n",
      "\u001b[34mReturning the value itself\u001b[0m\n",
      "\u001b[34m2020-11-11 05:59:56,679 sagemaker-training-toolkit INFO     Failed to parse hyperparameter feature_importance value True to Json.\u001b[0m\n",
      "\u001b[34mReturning the value itself\u001b[0m\n",
      "\u001b[34m2020-11-11 05:59:56,711 sagemaker-training-toolkit INFO     Invoking user script\n",
      "\u001b[0m\n",
      "\u001b[34mTraining Env:\n",
      "\u001b[0m\n",
      "\u001b[34m{\n",
      "    \"additional_framework_parameters\": {},\n",
      "    \"channel_input_dirs\": {\n",
      "        \"testing\": \"/opt/ml/input/data/testing\",\n",
      "        \"training\": \"/opt/ml/input/data/training\"\n",
      "    },\n",
      "    \"current_host\": \"algo-1\",\n",
      "    \"framework_module\": \"sagemaker_mxnet_container.training:main\",\n",
      "    \"hosts\": [\n",
      "        \"algo-1\"\n",
      "    ],\n",
      "    \"hyperparameters\": {\n",
      "        \"fit_args\": \"{'label': 'y', 'presets': ['optimize_for_deployment']}\",\n",
      "        \"feature_importance\": \"True\"\n",
      "    },\n",
      "    \"input_config_dir\": \"/opt/ml/input/config\",\n",
      "    \"input_data_config\": {\n",
      "        \"testing\": {\n",
      "            \"TrainingInputMode\": \"File\",\n",
      "            \"S3DistributionType\": \"FullyReplicated\",\n",
      "            \"RecordWrapperType\": \"None\"\n",
      "        },\n",
      "        \"training\": {\n",
      "            \"TrainingInputMode\": \"File\",\n",
      "            \"S3DistributionType\": \"FullyReplicated\",\n",
      "            \"RecordWrapperType\": \"None\"\n",
      "        }\n",
      "    },\n",
      "    \"input_dir\": \"/opt/ml/input\",\n",
      "    \"is_master\": true,\n",
      "    \"job_name\": \"autogluon-sagemaker-training-2020-11-11-05-56-16-184\",\n",
      "    \"log_level\": 20,\n",
      "    \"master_hostname\": \"algo-1\",\n",
      "    \"model_dir\": \"/opt/ml/model\",\n",
      "    \"module_dir\": \"/opt/ml/code\",\n",
      "    \"module_name\": \"train\",\n",
      "    \"network_interface_name\": \"eth0\",\n",
      "    \"num_cpus\": 8,\n",
      "    \"num_gpus\": 0,\n",
      "    \"output_data_dir\": \"/opt/ml/output/data\",\n",
      "    \"output_dir\": \"/opt/ml/output\",\n",
      "    \"output_intermediate_dir\": \"/opt/ml/output/intermediate\",\n",
      "    \"resource_config\": {\n",
      "        \"current_host\": \"algo-1\",\n",
      "        \"hosts\": [\n",
      "            \"algo-1\"\n",
      "        ],\n",
      "        \"network_interface_name\": \"eth0\"\n",
      "    },\n",
      "    \"user_entry_point\": \"train.py\"\u001b[0m\n",
      "\u001b[34m}\n",
      "\u001b[0m\n",
      "\u001b[34mEnvironment variables:\n",
      "\u001b[0m\n",
      "\u001b[34mSM_HOSTS=[\"algo-1\"]\u001b[0m\n",
      "\u001b[34mSM_NETWORK_INTERFACE_NAME=eth0\u001b[0m\n",
      "\u001b[34mSM_HPS={\"feature_importance\":\"True\",\"fit_args\":\"{'label': 'y', 'presets': ['optimize_for_deployment']}\"}\u001b[0m\n",
      "\u001b[34mSM_USER_ENTRY_POINT=train.py\u001b[0m\n",
      "\u001b[34mSM_FRAMEWORK_PARAMS={}\u001b[0m\n",
      "\u001b[34mSM_RESOURCE_CONFIG={\"current_host\":\"algo-1\",\"hosts\":[\"algo-1\"],\"network_interface_name\":\"eth0\"}\u001b[0m\n",
      "\u001b[34mSM_INPUT_DATA_CONFIG={\"testing\":{\"RecordWrapperType\":\"None\",\"S3DistributionType\":\"FullyReplicated\",\"TrainingInputMode\":\"File\"},\"training\":{\"RecordWrapperType\":\"None\",\"S3DistributionType\":\"FullyReplicated\",\"TrainingInputMode\":\"File\"}}\u001b[0m\n",
      "\u001b[34mSM_OUTPUT_DATA_DIR=/opt/ml/output/data\u001b[0m\n",
      "\u001b[34mSM_CHANNELS=[\"testing\",\"training\"]\u001b[0m\n",
      "\u001b[34mSM_CURRENT_HOST=algo-1\u001b[0m\n",
      "\u001b[34mSM_MODULE_NAME=train\u001b[0m\n",
      "\u001b[34mSM_LOG_LEVEL=20\u001b[0m\n",
      "\u001b[34mSM_FRAMEWORK_MODULE=sagemaker_mxnet_container.training:main\u001b[0m\n",
      "\u001b[34mSM_INPUT_DIR=/opt/ml/input\u001b[0m\n",
      "\u001b[34mSM_INPUT_CONFIG_DIR=/opt/ml/input/config\u001b[0m\n",
      "\u001b[34mSM_OUTPUT_DIR=/opt/ml/output\u001b[0m\n",
      "\u001b[34mSM_NUM_CPUS=8\u001b[0m\n",
      "\u001b[34mSM_NUM_GPUS=0\u001b[0m\n",
      "\u001b[34mSM_MODEL_DIR=/opt/ml/model\u001b[0m\n",
      "\u001b[34mSM_MODULE_DIR=/opt/ml/code\u001b[0m\n",
      "\u001b[34mSM_TRAINING_ENV={\"additional_framework_parameters\":{},\"channel_input_dirs\":{\"testing\":\"/opt/ml/input/data/testing\",\"training\":\"/opt/ml/input/data/training\"},\"current_host\":\"algo-1\",\"framework_module\":\"sagemaker_mxnet_container.training:main\",\"hosts\":[\"algo-1\"],\"hyperparameters\":{\"feature_importance\":\"True\",\"fit_args\":\"{'label': 'y', 'presets': ['optimize_for_deployment']}\"},\"input_config_dir\":\"/opt/ml/input/config\",\"input_data_config\":{\"testing\":{\"RecordWrapperType\":\"None\",\"S3DistributionType\":\"FullyReplicated\",\"TrainingInputMode\":\"File\"},\"training\":{\"RecordWrapperType\":\"None\",\"S3DistributionType\":\"FullyReplicated\",\"TrainingInputMode\":\"File\"}},\"input_dir\":\"/opt/ml/input\",\"is_master\":true,\"job_name\":\"autogluon-sagemaker-training-2020-11-11-05-56-16-184\",\"log_level\":20,\"master_hostname\":\"algo-1\",\"model_dir\":\"/opt/ml/model\",\"module_dir\":\"/opt/ml/code\",\"module_name\":\"train\",\"network_interface_name\":\"eth0\",\"num_cpus\":8,\"num_gpus\":0,\"output_data_dir\":\"/opt/ml/output/data\",\"output_dir\":\"/opt/ml/output\",\"output_intermediate_dir\":\"/opt/ml/output/intermediate\",\"resource_config\":{\"current_host\":\"algo-1\",\"hosts\":[\"algo-1\"],\"network_interface_name\":\"eth0\"},\"user_entry_point\":\"train.py\"}\u001b[0m\n",
      "\u001b[34mSM_USER_ARGS=[\"--feature_importance\",\"True\",\"--fit_args\",\"{'label': 'y', 'presets': ['optimize_for_deployment']}\"]\u001b[0m\n",
      "\u001b[34mSM_OUTPUT_INTERMEDIATE_DIR=/opt/ml/output/intermediate\u001b[0m\n",
      "\u001b[34mSM_CHANNEL_TESTING=/opt/ml/input/data/testing\u001b[0m\n",
      "\u001b[34mSM_CHANNEL_TRAINING=/opt/ml/input/data/training\u001b[0m\n",
      "\u001b[34mSM_HP_FIT_ARGS={'label': 'y', 'presets': ['optimize_for_deployment']}\u001b[0m\n",
      "\u001b[34mSM_HP_FEATURE_IMPORTANCE=True\u001b[0m\n",
      "\u001b[34mPYTHONPATH=/opt/ml/code:/usr/local/bin:/usr/local/lib/python36.zip:/usr/local/lib/python3.6:/usr/local/lib/python3.6/lib-dynload:/usr/local/lib/python3.6/site-packages\n",
      "\u001b[0m\n",
      "\u001b[34mInvoking script with the following command:\n",
      "\u001b[0m\n",
      "\u001b[34m/usr/local/bin/python3.6 train.py --feature_importance True --fit_args {'label': 'y', 'presets': ['optimize_for_deployment']}\n",
      "\n",
      "\u001b[0m\n",
      "\u001b[34mDEBUG AutoGluon version : 0.0.14\u001b[0m\n",
      "\u001b[34mfit_args:\u001b[0m\n",
      "\u001b[34mlabel,  type: <class 'str'>,  value: y\u001b[0m\n",
      "\u001b[34mpresets,  type: <class 'list'>,  value: ['optimize_for_deployment']\u001b[0m\n",
      "\u001b[34mTrain files: ['train.csv']\u001b[0m\n",
      "\u001b[34mBeginning AutoGluon training ...\u001b[0m\n",
      "\u001b[34mAutoGluon will save models to /opt/ml/model/\u001b[0m\n",
      "\u001b[34mAutoGluon Version:  0.0.14\u001b[0m\n",
      "\u001b[34mTrain Data Rows:    28832\u001b[0m\n",
      "\u001b[34mTrain Data Columns: 20\u001b[0m\n",
      "\u001b[34mPreprocessing data ...\u001b[0m\n",
      "\u001b[34mAutoGluon infers your prediction problem is: 'binary' (because only two unique label-values observed).\u001b[0m\n",
      "\u001b[34m#0112 unique label values:  ['no', 'yes']\u001b[0m\n",
      "\u001b[34m#011If 'binary' is not the correct problem_type, please manually specify the problem_type argument in fit() (You may specify problem_type as one of: ['binary', 'multiclass', 'regression'])\u001b[0m\n",
      "\u001b[34mSelected class <--> label mapping:  class 1 = yes, class 0 = no\u001b[0m\n",
      "\u001b[34mUsing Feature Generators to preprocess the data ...\u001b[0m\n",
      "\u001b[34mFitting AutoMLPipelineFeatureGenerator...\u001b[0m\n",
      "\u001b[34m#011Available Memory:                    31552.56 MB\u001b[0m\n",
      "\u001b[34m#011Train Data (Original)  Memory Usage: 20.51 MB (0.1% of available memory)\u001b[0m\n",
      "\u001b[34m#011Inferring data type of each feature based on column values. Set feature_metadata_in to manually specify special dtypes of the features.\u001b[0m\n",
      "\u001b[34m#011Stage 1 Generators:\u001b[0m\n",
      "\u001b[34m#011#011Fitting AsTypeFeatureGenerator...\u001b[0m\n",
      "\u001b[34m#011Stage 2 Generators:\u001b[0m\n",
      "\u001b[34m#011#011Fitting FillNaFeatureGenerator...\u001b[0m\n",
      "\u001b[34m#011Stage 3 Generators:\u001b[0m\n",
      "\u001b[34m#011#011Fitting IdentityFeatureGenerator...\u001b[0m\n",
      "\u001b[34m#011#011Fitting CategoryFeatureGenerator...\u001b[0m\n",
      "\u001b[34m#011#011#011Fitting CategoryMemoryMinimizeFeatureGenerator...\u001b[0m\n",
      "\u001b[34m#011Stage 4 Generators:\u001b[0m\n",
      "\u001b[34m#011#011Fitting DropUniqueFeatureGenerator...\u001b[0m\n",
      "\u001b[34m#011Types of features in original data (raw dtype, special dtypes):\u001b[0m\n",
      "\u001b[34m#011#011('float', [])  :  5 | ['emp.var.rate', 'cons.price.idx', 'cons.conf.idx', 'euribor3m', 'nr.employed']\u001b[0m\n",
      "\u001b[34m#011#011('int', [])    :  5 | ['age', 'duration', 'campaign', 'pdays', 'previous']\u001b[0m\n",
      "\u001b[34m#011#011('object', []) : 10 | ['job', 'marital', 'education', 'default', 'housing', ...]\u001b[0m\n",
      "\u001b[34m#011Types of features in processed data (raw dtype, special dtypes):\u001b[0m\n",
      "\u001b[34m#011#011('category', []) : 10 | ['job', 'marital', 'education', 'default', 'housing', ...]\u001b[0m\n",
      "\u001b[34m#011#011('float', [])    :  5 | ['emp.var.rate', 'cons.price.idx', 'cons.conf.idx', 'euribor3m', 'nr.employed']\u001b[0m\n",
      "\u001b[34m#011#011('int', [])      :  5 | ['age', 'duration', 'campaign', 'pdays', 'previous']\u001b[0m\n",
      "\u001b[34m#0110.2s = Fit runtime\u001b[0m\n",
      "\u001b[34m#01120 features in original data used to generate 20 features in processed data.\u001b[0m\n",
      "\u001b[34m#011Train Data (Processed) Memory Usage: 2.6 MB (0.0% of available memory)\u001b[0m\n",
      "\u001b[34mData preprocessing and feature engineering runtime = 0.22s ...\u001b[0m\n",
      "\u001b[34mAutoGluon will gauge predictive performance using evaluation metric: 'accuracy'\u001b[0m\n",
      "\u001b[34m#011To change this, specify the eval_metric argument of fit()\u001b[0m\n",
      "\u001b[34mAutoGluon will early stop models using evaluation metric: 'accuracy'\u001b[0m\n",
      "\u001b[34mFitting model: RandomForestClassifierGini ...\u001b[0m\n",
      "\u001b[34m#0110.9172#011 = Validation accuracy score\u001b[0m\n",
      "\u001b[34m#0111.77s#011 = Training runtime\u001b[0m\n",
      "\u001b[34m#0110.22s#011 = Validation runtime\u001b[0m\n",
      "\u001b[34mFitting model: RandomForestClassifierEntr ...\u001b[0m\n",
      "\n",
      "2020-11-11 05:59:56 Training - Training image download completed. Training in progress.\u001b[34m#0110.9208#011 = Validation accuracy score\u001b[0m\n",
      "\u001b[34m#0111.87s#011 = Training runtime\u001b[0m\n",
      "\u001b[34m#0110.22s#011 = Validation runtime\u001b[0m\n",
      "\u001b[34mFitting model: ExtraTreesClassifierGini ...\u001b[0m\n",
      "\u001b[34m#0110.9112#011 = Validation accuracy score\u001b[0m\n",
      "\u001b[34m#0111.46s#011 = Training runtime\u001b[0m\n",
      "\u001b[34m#0110.22s#011 = Validation runtime\u001b[0m\n",
      "\u001b[34mFitting model: ExtraTreesClassifierEntr ...\u001b[0m\n",
      "\u001b[34m#0110.9112#011 = Validation accuracy score\u001b[0m\n",
      "\u001b[34m#0111.56s#011 = Training runtime\u001b[0m\n",
      "\u001b[34m#0110.22s#011 = Validation runtime\u001b[0m\n",
      "\u001b[34mFitting model: KNeighborsClassifierUnif ...\u001b[0m\n",
      "\u001b[34m#0110.9048#011 = Validation accuracy score\u001b[0m\n",
      "\u001b[34m#0110.2s#011 = Training runtime\u001b[0m\n",
      "\u001b[34m#0110.11s#011 = Validation runtime\u001b[0m\n",
      "\u001b[34mFitting model: KNeighborsClassifierDist ...\u001b[0m\n",
      "\u001b[34m#0110.9032#011 = Validation accuracy score\u001b[0m\n",
      "\u001b[34m#0110.19s#011 = Training runtime\u001b[0m\n",
      "\u001b[34m#0110.11s#011 = Validation runtime\u001b[0m\n",
      "\u001b[34mFitting model: LightGBMClassifier ...\u001b[0m\n",
      "\u001b[34m#0110.926#011 = Validation accuracy score\u001b[0m\n",
      "\u001b[34m#0110.38s#011 = Training runtime\u001b[0m\n",
      "\u001b[34m#0110.02s#011 = Validation runtime\u001b[0m\n",
      "\u001b[34mFitting model: LightGBMClassifierXT ...\u001b[0m\n",
      "\u001b[34m#0110.9248#011 = Validation accuracy score\u001b[0m\n",
      "\u001b[34m#0110.38s#011 = Training runtime\u001b[0m\n",
      "\u001b[34m#0110.02s#011 = Validation runtime\u001b[0m\n",
      "\u001b[34mFitting model: CatboostClassifier ...\u001b[0m\n",
      "\u001b[34m#0110.9264#011 = Validation accuracy score\u001b[0m\n",
      "\u001b[34m#0111.92s#011 = Training runtime\u001b[0m\n",
      "\u001b[34m#0110.02s#011 = Validation runtime\u001b[0m\n",
      "\u001b[34mFitting model: NeuralNetClassifier ...\u001b[0m\n",
      "\u001b[34m#0110.9248#011 = Validation accuracy score\u001b[0m\n",
      "\u001b[34m#01146.54s#011 = Training runtime\u001b[0m\n",
      "\u001b[34m#0110.24s#011 = Validation runtime\u001b[0m\n",
      "\u001b[34mFitting model: LightGBMClassifierCustom ...\u001b[0m\n",
      "\u001b[34m#0110.9248#011 = Validation accuracy score\u001b[0m\n",
      "\u001b[34m#0110.96s#011 = Training runtime\u001b[0m\n",
      "\u001b[34m#0110.02s#011 = Validation runtime\u001b[0m\n",
      "\u001b[34mFitting model: weighted_ensemble_k0_l1 ...\u001b[0m\n",
      "\u001b[34m#0110.9304#011 = Validation accuracy score\u001b[0m\n",
      "\u001b[34m#0111.2s#011 = Training runtime\u001b[0m\n",
      "\u001b[34m#0110.01s#011 = Validation runtime\u001b[0m\n",
      "\u001b[34mAutoGluon training complete, total runtime = 63.62s ...\u001b[0m\n",
      "\u001b[34mDeleting model RandomForestClassifierGini. All files under /opt/ml/model/models/RandomForestClassifierGini/ will be removed.\u001b[0m\n",
      "\n",
      "2020-11-11 06:01:38 Uploading - Uploading generated training model\u001b[34mDeleting model RandomForestClassifierEntr. All files under /opt/ml/model/models/RandomForestClassifierEntr/ will be removed.\u001b[0m\n",
      "\u001b[34mDeleting model KNeighborsClassifierDist. All files under /opt/ml/model/models/KNeighborsClassifierDist/ will be removed.\u001b[0m\n",
      "\u001b[34m*** Summary of fit() ***\u001b[0m\n",
      "\u001b[34mEstimated performance of each model:\n",
      "                      model  score_val  pred_time_val   fit_time  pred_time_val_marginal  fit_time_marginal  stack_level  can_infer  fit_order\u001b[0m\n",
      "\u001b[34m0   weighted_ensemble_k0_l1     0.9304       0.878969  54.592258                0.005623           1.195476            1       True          9\u001b[0m\n",
      "\u001b[34m1        CatboostClassifier     0.9264       0.023734   1.920758                0.023734           1.920758            0       True          6\u001b[0m\n",
      "\u001b[34m2        LightGBMClassifier     0.9260       0.022974   0.379189                0.022974           0.379189            0       True          4\u001b[0m\n",
      "\u001b[34m3      LightGBMClassifierXT     0.9248       0.021540   0.384262                0.021540           0.384262            0       True          5\u001b[0m\n",
      "\u001b[34m4  LightGBMClassifierCustom     0.9248       0.024632   0.958519                0.024632           0.958519            0       True          8\u001b[0m\n",
      "\u001b[34m5       NeuralNetClassifier     0.9248       0.238718  46.542659                0.238718          46.542659            0       True          7\u001b[0m\n",
      "\u001b[34m6  ExtraTreesClassifierEntr     0.9112       0.215927   1.558700                0.215927           1.558700            0       True          2\u001b[0m\n",
      "\u001b[34m7  ExtraTreesClassifierGini     0.9112       0.216456   1.457642                0.216456           1.457642            0       True          1\u001b[0m\n",
      "\u001b[34m8  KNeighborsClassifierUnif     0.9048       0.109364   0.195052                0.109364           0.195052            0       True          3\u001b[0m\n",
      "\u001b[34mNumber of models trained: 9\u001b[0m\n",
      "\u001b[34mTypes of models trained:\u001b[0m\n",
      "\u001b[34m{'LGBModel', 'TabularNeuralNetModel', 'WeightedEnsembleModel', 'XTModel', 'CatboostModel', 'KNNModel'}\u001b[0m\n",
      "\u001b[34mBagging used: False \u001b[0m\n",
      "\u001b[34mStack-ensembling used: False \u001b[0m\n",
      "\u001b[34mHyperparameter-tuning used: False \u001b[0m\n",
      "\u001b[34mUser-specified hyperparameters:\u001b[0m\n",
      "\u001b[34m{'default': {'NN': [{}], 'GBM': [{}, {'extra_trees': True, 'AG_args': {'name_suffix': 'XT'}}], 'CAT': [{}], 'RF': [{'criterion': 'gini', 'AG_args': {'name_suffix': 'Gini', 'problem_types': ['binary', 'multiclass']}}, {'criterion': 'entropy', 'AG_args': {'name_suffix': 'Entr', 'problem_types': ['binary', 'multiclass']}}], 'XT': [{'criterion': 'gini', 'AG_args': {'name_suffix': 'Gini', 'problem_types': ['binary', 'multiclass']}}, {'criterion': 'entropy', 'AG_args': {'name_suffix': 'Entr', 'problem_types': ['binary', 'multiclass']}}], 'KNN': [{'weights': 'uniform', 'AG_args': {'name_suffix': 'Unif'}}, {'weights': 'distance', 'AG_args': {'name_suffix': 'Dist'}}], 'custom': [{'num_boost_round': 10000, 'num_threads': -1, 'objective': 'binary', 'verbose': -1, 'boosting_type': 'gbdt', 'learning_rate': 0.03, 'num_leaves': 128, 'feature_fraction': 0.9, 'min_data_in_leaf': 5, 'two_round': True, 'seed_value': 0, 'AG_args': {'model_type': 'GBM', 'name_suffix': 'Custom', 'disable_in_hpo': True}}]}}\u001b[0m\n",
      "\u001b[34mFeature Metadata (Processed):\u001b[0m\n",
      "\u001b[34m(raw dtype, special dtypes):\u001b[0m\n",
      "\u001b[34m('category', []) : 10 | ['job', 'marital', 'education', 'default', 'housing', ...]\u001b[0m\n",
      "\u001b[34m('float', [])    :  5 | ['emp.var.rate', 'cons.price.idx', 'cons.conf.idx', 'euribor3m', 'nr.employed']\u001b[0m\n",
      "\u001b[34m('int', [])      :  5 | ['age', 'duration', 'campaign', 'pdays', 'previous']\u001b[0m\n",
      "\u001b[34mPlot summary of models saved to file: /opt/ml/model/SummaryOfModels.html\u001b[0m\n",
      "\u001b[34m*** End of fit() summary ***\u001b[0m\n",
      "\u001b[34mTest files: ['test.csv']\u001b[0m\n",
      "\u001b[34mRunning model on test data and getting Leaderboard...\u001b[0m\n",
      "\n",
      "2020-11-11 06:02:20 Completed - Training job completed\n",
      "\u001b[34m+--------------------------+--------------------+-----------+----------------------+----------------------+---------------------+-------------------------+------------------------+---------------------+-------------+-----------+-----------+\u001b[0m\n",
      "\u001b[34m|          model           |     score_test     | score_val |    pred_time_test    |    pred_time_val     |       fit_time      | pred_time_test_marginal | pred_time_val_marginal |  fit_time_marginal  | stack_level | can_infer | fit_order |\u001b[0m\n",
      "\u001b[34m+--------------------------+--------------------+-----------+----------------------+----------------------+---------------------+-------------------------+------------------------+---------------------+-------------+-----------+-----------+\u001b[0m\n",
      "\u001b[34m|    LightGBMClassifier    | 0.9193913887989641 |   0.926   | 0.026714563369750977 | 0.022974252700805664 | 0.37918949127197266 |   0.026714563369750977  |  0.022974252700805664  | 0.37918949127197266 |      0      |    True   |     4     |\u001b[0m\n",
      "\u001b[34m| LightGBMClassifierCustom | 0.9193913887989641 |   0.9248  | 0.058737754821777344 | 0.024631977081298828 |  0.9585192203521729 |   0.058737754821777344  |  0.024631977081298828  |  0.9585192203521729 |      0      |    True   |     8     |\u001b[0m\n",
      "\u001b[34m|    CatboostClassifier    | 0.9191485917772741 |   0.9264  | 0.033289432525634766 | 0.023734331130981445 |   1.92075777053833  |   0.033289432525634766  |  0.023734331130981445  |   1.92075777053833  |      0      |    True   |     6     |\u001b[0m\n",
      "\u001b[34m| weighted_ensemble_k0_l1  | 0.918824862415021  |   0.9304  |  2.6781792640686035  |  0.8789687156677246  |   54.5922577381134  |   0.007515907287597656  | 0.0056231021881103516  |  1.1954758167266846 |      1      |    True   |     9     |\u001b[0m\n",
      "\u001b[34m|   LightGBMClassifierXT   | 0.9175299449660084 |   0.9248  | 0.029316186904907227 | 0.021540403366088867 |  0.3842623233795166 |   0.029316186904907227  |  0.021540403366088867  |  0.3842623233795166 |      0      |    True   |     5     |\u001b[0m\n",
      "\u001b[34m|   NeuralNetClassifier    | 0.9142117190029135 |   0.9248  |  1.4371747970581055  | 0.23871779441833496  |  46.542659282684326 |    1.4371747970581055   |  0.23871779441833496   |  46.542659282684326 |      0      |    True   |     7     |\u001b[0m\n",
      "\u001b[34m| ExtraTreesClassifierGini | 0.9105697636775656 |   0.9112  | 0.40576839447021484  | 0.21645593643188477  |  1.4576420783996582 |   0.40576839447021484   |  0.21645593643188477   |  1.4576420783996582 |      0      |    True   |     1     |\u001b[0m\n",
      "\u001b[34m| ExtraTreesClassifierEntr | 0.9103269666558756 |   0.9112  |  0.3664238452911377  |  0.2159271240234375  |  1.5586998462677002 |    0.3664238452911377   |   0.2159271240234375   |  1.5586998462677002 |      0      |    True   |     2     |\u001b[0m\n",
      "\u001b[34m| KNeighborsClassifierUnif | 0.9053091615409518 |   0.9048  | 0.31323838233947754  | 0.10936379432678223  |  0.195051908493042  |   0.31323838233947754   |  0.10936379432678223   |  0.195051908493042  |      0      |    True   |     3     |\u001b[0m\n",
      "\u001b[34m+--------------------------+--------------------+-----------+----------------------+----------------------+---------------------+-------------------------+------------------------+---------------------+-------------+-----------+-----------+\n",
      "\u001b[0m\n",
      "\u001b[34mFeature importance:\u001b[0m\n",
      "\u001b[34mComputing raw permutation importance for 20 features on weighted_ensemble_k0_l1 ...\u001b[0m\n",
      "\u001b[34m#01118.79s#011= Expected runtime\u001b[0m\n",
      "\u001b[34m#01119.08s#011= Actual runtime\n",
      "                Importance score\u001b[0m\n",
      "\u001b[34mFeature                         \u001b[0m\n",
      "\u001b[34mduration                   0.055\u001b[0m\n",
      "\u001b[34meuribor3m                  0.009\u001b[0m\n",
      "\u001b[34mnr.employed                0.008\u001b[0m\n",
      "\u001b[34mpdays                      0.008\u001b[0m\n",
      "\u001b[34memp.var.rate               0.006\u001b[0m\n",
      "\u001b[34mmonth                      0.005\u001b[0m\n",
      "\u001b[34mcontact                    0.002\u001b[0m\n",
      "\u001b[34mdefault                    0.001\u001b[0m\n",
      "\u001b[34mmarital                    0.000\u001b[0m\n",
      "\u001b[34mhousing                    0.000\u001b[0m\n",
      "\u001b[34mage                        0.000\u001b[0m\n",
      "\u001b[34mcampaign                   0.000\u001b[0m\n",
      "\u001b[34mcons.price.idx            -0.001\u001b[0m\n",
      "\u001b[34meducation                 -0.002\u001b[0m\n",
      "\u001b[34mloan                      -0.003\u001b[0m\n",
      "\u001b[34mcons.conf.idx             -0.003\u001b[0m\n",
      "\u001b[34mjob                       -0.003\u001b[0m\n",
      "\u001b[34mpoutcome                  -0.004\u001b[0m\n",
      "\u001b[34mday_of_week               -0.004\u001b[0m\n",
      "\u001b[34mprevious                  -0.007\u001b[0m\n",
      "\u001b[34mDEBUG calling get_roc_auc with binary\u001b[0m\n",
      "\u001b[34m/usr/local/lib/python3.6/site-packages/sklearn/metrics/_ranking.py:813: UndefinedMetricWarning: No positive samples in y_true, true positive value should be meaningless\n",
      "  UndefinedMetricWarning)\u001b[0m\n",
      "\u001b[34mModel export summary:\u001b[0m\n",
      "\u001b[34m/opt/ml/model/: ['SummaryOfModels.html', 'learner.pkl', 'models']\u001b[0m\n",
      "\u001b[34m/opt/ml/model/models: ['weighted_ensemble_k0_l1', 'LightGBMClassifier', 'NeuralNetClassifier', 'CatboostClassifier', 'ExtraTreesClassifierGini', 'KNeighborsClassifierUnif', 'ExtraTreesClassifierEntr', 'LightGBMClassifierCustom', 'trainer.pkl', 'LightGBMClassifierXT']\u001b[0m\n",
      "\u001b[34m/opt/ml/model directory size: 459M\n",
      "\u001b[0m\n",
      "\u001b[34mElapsed time: 94.341 seconds. Training Completed!\u001b[0m\n",
      "\u001b[34m2020-11-11 06:01:36,521 sagemaker-training-toolkit INFO     Reporting training SUCCESS\u001b[0m\n",
      "Training seconds: 242\n",
      "Billable seconds: 242\n",
      "CPU times: user 864 ms, sys: 28.8 ms, total: 893 ms\n",
      "Wall time: 6min 17s\n"
     ]
    }
   ],
   "source": [
    "%%time\n",
    "\n",
    "instance_type = 'ml.m5.2xlarge'\n",
    "#instance_type = 'local'\n",
    "\n",
    "ecr_image = f'{ecr_uri_prefix}/{training_algorithm_name}:latest'\n",
    "\n",
    "estimator = Estimator(image_name=ecr_image,\n",
    "                      role=role,\n",
    "                      train_instance_count=1,\n",
    "                      train_instance_type=instance_type,\n",
    "                      hyperparameters=hyperparameters,\n",
    "                      train_volume_size=100,\n",
    "                      tags=tags)\n",
    "\n",
    "# Set inputs. Test data is optional, but requires a label column.\n",
    "inputs = {'training': train_s3_path, 'testing': test_s3_path}\n",
    "\n",
    "estimator.fit(inputs)"
   ]
  },
  {
   "cell_type": "markdown",
   "metadata": {
    "Collapsed": "false"
   },
   "source": [
    "### Create Model"
   ]
  },
  {
   "cell_type": "code",
   "execution_count": null,
   "metadata": {
    "Collapsed": "false"
   },
   "outputs": [],
   "source": [
    "# Create predictor object\n",
    "class AutoGluonTabularPredictor(RealTimePredictor):\n",
    "    def __init__(self, *args, **kwargs):\n",
    "        super().__init__(*args, content_type='text/csv', \n",
    "                         serializer=csv_serializer, \n",
    "                         deserializer=StringDeserializer(), **kwargs)"
   ]
  },
  {
   "cell_type": "code",
   "execution_count": null,
   "metadata": {
    "Collapsed": "false"
   },
   "outputs": [],
   "source": [
    "ecr_image = f'{ecr_uri_prefix}/{inference_algorithm_name}:latest'\n",
    "\n",
    "if instance_type == 'local':\n",
    "    model = estimator.create_model(image=ecr_image, role=role)\n",
    "else:\n",
    "    model_uri = os.path.join(estimator.output_path, estimator._current_job_name, \"output\", \"model.tar.gz\")\n",
    "    model = Model(model_uri, ecr_image, role=role, sagemaker_session=session, predictor_cls=AutoGluonTabularPredictor)"
   ]
  },
  {
   "cell_type": "markdown",
   "metadata": {
    "Collapsed": "false"
   },
   "source": [
    "### Batch Transform"
   ]
  },
  {
   "cell_type": "markdown",
   "metadata": {
    "Collapsed": "false"
   },
   "source": [
    "For local mode, either `s3://<bucket>/<prefix>/output/` or `file:///<absolute_local_path>` can be used as outputs.\n",
    "\n",
    "By including the label column in the test data, you can also evaluate prediction performance (In this case, passing `test_s3_path` instead of `X_test_s3_path`)."
   ]
  },
  {
   "cell_type": "code",
   "execution_count": null,
   "metadata": {
    "Collapsed": "false"
   },
   "outputs": [],
   "source": [
    "output_path = f's3://{bucket}/{prefix}/output/'\n",
    "# output_path = f'file://{os.getcwd()}'\n",
    "\n",
    "transformer = model.transformer(instance_count=1, \n",
    "                                instance_type=instance_type,\n",
    "                                strategy='MultiRecord',\n",
    "                                max_payload=6,\n",
    "                                max_concurrent_transforms=1,                              \n",
    "                                output_path=output_path)\n",
    "\n",
    "transformer.transform(test_s3_path, content_type='text/csv', split_type='Line')\n",
    "transformer.wait()"
   ]
  },
  {
   "cell_type": "markdown",
   "metadata": {
    "Collapsed": "false"
   },
   "source": [
    "### Endpoint"
   ]
  },
  {
   "cell_type": "markdown",
   "metadata": {
    "Collapsed": "false"
   },
   "source": [
    "##### Deploy remote or local endpoint"
   ]
  },
  {
   "cell_type": "code",
   "execution_count": null,
   "metadata": {
    "Collapsed": "false"
   },
   "outputs": [],
   "source": [
    "instance_type = 'ml.m5.2xlarge'\n",
    "#instance_type = 'local'\n",
    "\n",
    "predictor = model.deploy(initial_instance_count=1, \n",
    "                         instance_type=instance_type)"
   ]
  },
  {
   "cell_type": "markdown",
   "metadata": {
    "Collapsed": "false"
   },
   "source": [
    "##### Attach to endpoint (or reattach if kernel was restarted)"
   ]
  },
  {
   "cell_type": "code",
   "execution_count": null,
   "metadata": {
    "Collapsed": "false"
   },
   "outputs": [],
   "source": [
    "# Select standard or local session based on instance_type\n",
    "if instance_type == 'local': \n",
    "    sess = local_session\n",
    "else: \n",
    "    sess = session\n",
    "\n",
    "# Attach to endpoint\n",
    "predictor = AutoGluonTabularPredictor(predictor.endpoint, sagemaker_session=sess)"
   ]
  },
  {
   "cell_type": "markdown",
   "metadata": {
    "Collapsed": "false"
   },
   "source": [
    "##### Predict on unlabeled test data"
   ]
  },
  {
   "cell_type": "code",
   "execution_count": null,
   "metadata": {
    "Collapsed": "false"
   },
   "outputs": [],
   "source": [
    "results = predictor.predict(X_test.to_csv(index=False)).splitlines()\n",
    "\n",
    "# Check output\n",
    "print(Counter(results))"
   ]
  },
  {
   "cell_type": "markdown",
   "metadata": {
    "Collapsed": "false"
   },
   "source": [
    "##### Predict on data that includes label column  \n",
    "Prediction performance metrics will be printed to endpoint logs."
   ]
  },
  {
   "cell_type": "code",
   "execution_count": null,
   "metadata": {
    "Collapsed": "false"
   },
   "outputs": [],
   "source": [
    "results = predictor.predict(test.to_csv(index=False)).splitlines()\n",
    "\n",
    "# Check output\n",
    "print(Counter(results))"
   ]
  },
  {
   "cell_type": "markdown",
   "metadata": {
    "Collapsed": "false"
   },
   "source": [
    "##### Check that classification performance metrics match evaluation printed to endpoint logs as expected"
   ]
  },
  {
   "cell_type": "code",
   "execution_count": null,
   "metadata": {
    "Collapsed": "false"
   },
   "outputs": [],
   "source": [
    "y_results = np.array(results)\n",
    "\n",
    "print(\"accuracy: {}\".format(accuracy_score(y_true=y_test, y_pred=y_results)))\n",
    "print(classification_report(y_true=y_test, y_pred=y_results, digits=6))"
   ]
  },
  {
   "cell_type": "markdown",
   "metadata": {
    "Collapsed": "false"
   },
   "source": [
    "##### Clean up endpoint"
   ]
  },
  {
   "cell_type": "code",
   "execution_count": null,
   "metadata": {
    "Collapsed": "false"
   },
   "outputs": [],
   "source": [
    "predictor.delete_endpoint()"
   ]
  }
 ],
 "metadata": {
  "kernelspec": {
   "display_name": "conda_mxnet_p36",
   "language": "python",
   "name": "conda_mxnet_p36"
  },
  "language_info": {
   "codemirror_mode": {
    "name": "ipython",
    "version": 3
   },
   "file_extension": ".py",
   "mimetype": "text/x-python",
   "name": "python",
   "nbconvert_exporter": "python",
   "pygments_lexer": "ipython3",
   "version": "3.6.10"
  }
 },
 "nbformat": 4,
 "nbformat_minor": 4
}
