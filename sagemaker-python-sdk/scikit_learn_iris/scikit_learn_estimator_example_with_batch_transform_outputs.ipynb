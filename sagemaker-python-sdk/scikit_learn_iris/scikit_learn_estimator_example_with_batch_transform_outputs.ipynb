{
 "cells": [
  {
   "cell_type": "markdown",
   "id": "9d1a92ce",
   "metadata": {
    "papermill": {
     "duration": 0.013147,
     "end_time": "2022-04-18T00:16:14.030145",
     "exception": false,
     "start_time": "2022-04-18T00:16:14.016998",
     "status": "completed"
    },
    "tags": []
   },
   "source": [
    "# Iris Training and Prediction with Sagemaker Scikit-learn\n",
    "This tutorial shows you how to use [Scikit-learn](https://scikit-learn.org/stable/) with SageMaker by utilizing the pre-built container. Scikit-learn is a popular Python machine learning framework. It includes a number of different algorithms for classification, regression, clustering, dimensionality reduction, and data/feature pre-processing. \n",
    "\n",
    "The [sagemaker-python-sdk](https://github.com/aws/sagemaker-python-sdk) module  makes it easy to take existing scikit-learn code, which we show by training a model on the Iris dataset and generating a set of predictions. For more information about the Scikit-learn container, see the [sagemaker-scikit-learn-containers](https://github.com/aws/sagemaker-scikit-learn-container) repository and the [sagemaker-python-sdk](https://github.com/aws/sagemaker-python-sdk) repository.\n",
    "\n",
    "## Runtime\n",
    "\n",
    "This notebook takes approximately 15 minutes to run.\n",
    "\n",
    "## Contents\n",
    "* [Upload the data for training](#upload_data)\n",
    "* [Create a Scikit-learn script to train with](#create_sklearn_script)\n",
    "* [Create the SageMaker Scikit Estimator](#create_sklearn_estimator)\n",
    "* [Train the SKLearn Estimator on the Iris data](#train_sklearn)\n",
    "* [Use the trained model to make inference requests](#inference)\n",
    " * [Deploy the model](#deploy)\n",
    " * [Choose some data and use it for a prediction](#prediction_request)\n",
    " * [Endpoint cleanup](#endpoint_cleanup)\n",
    "* [Batch Transform](#batch_transform)\n",
    " * [Prepare Input Data](#prepare_input_data)\n",
    " * [Run Transform Job](#run_transform_job)\n",
    " * [Check Output Data](#check_output_data)"
   ]
  },
  {
   "cell_type": "code",
   "execution_count": 2,
   "id": "aa3ea150",
   "metadata": {
    "execution": {
     "iopub.execute_input": "2022-04-18T00:16:14.061522Z",
     "iopub.status.busy": "2022-04-18T00:16:14.060725Z",
     "iopub.status.idle": "2022-04-18T00:16:30.292672Z",
     "shell.execute_reply": "2022-04-18T00:16:30.293065Z"
    },
    "papermill": {
     "duration": 16.249912,
     "end_time": "2022-04-18T00:16:30.293204",
     "exception": false,
     "start_time": "2022-04-18T00:16:14.043292",
     "status": "completed"
    },
    "tags": []
   },
   "outputs": [
    {
     "name": "stdout",
     "output_type": "stream",
     "text": [
      "/opt/conda/lib/python3.7/site-packages/secretstorage/dhcrypto.py:16: CryptographyDeprecationWarning: int_from_bytes is deprecated, use int.from_bytes instead\n",
      "  from cryptography.utils import int_from_bytes\n",
      "/opt/conda/lib/python3.7/site-packages/secretstorage/util.py:25: CryptographyDeprecationWarning: int_from_bytes is deprecated, use int.from_bytes instead\n",
      "  from cryptography.utils import int_from_bytes\n",
      "\u001b[31mERROR: pip's dependency resolver does not currently take into account all the packages that are installed. This behaviour is the source of the following dependency conflicts.\n",
      "pytest-astropy 0.8.0 requires pytest-cov>=2.0, which is not installed.\n",
      "pytest-astropy 0.8.0 requires pytest-filter-subpackage>=0.1, which is not installed.\n",
      "awscli 1.22.7 requires botocore==1.23.7, but you have botocore 1.24.42 which is incompatible.\n",
      "aiobotocore 1.3.3 requires botocore<1.20.107,>=1.20.106, but you have botocore 1.24.42 which is incompatible.\u001b[0m\n",
      "\u001b[33mWARNING: Running pip as the 'root' user can result in broken permissions and conflicting behaviour with the system package manager. It is recommended to use a virtual environment instead: https://pip.pypa.io/warnings/venv\u001b[0m\n",
      "\u001b[33mWARNING: You are using pip version 21.1.3; however, version 22.0.4 is available.\n",
      "You should consider upgrading via the '/opt/conda/bin/python3 -m pip install --upgrade pip' command.\u001b[0m\n",
      "Note: you may need to restart the kernel to use updated packages.\n"
     ]
    }
   ],
   "source": [
    "%pip install -U sagemaker>=2.15"
   ]
  },
  {
   "cell_type": "markdown",
   "id": "f5bf8b3f",
   "metadata": {
    "papermill": {
     "duration": 0.013999,
     "end_time": "2022-04-18T00:16:30.322003",
     "exception": false,
     "start_time": "2022-04-18T00:16:30.308004",
     "status": "completed"
    },
    "tags": []
   },
   "source": [
    "First, let's create our Sagemaker session and role, and create a S3 prefix to use for the notebook example."
   ]
  },
  {
   "cell_type": "code",
   "execution_count": 3,
   "id": "2f2fb2fa",
   "metadata": {
    "execution": {
     "iopub.execute_input": "2022-04-18T00:16:30.389108Z",
     "iopub.status.busy": "2022-04-18T00:16:30.388431Z",
     "iopub.status.idle": "2022-04-18T00:16:32.824006Z",
     "shell.execute_reply": "2022-04-18T00:16:32.823232Z"
    },
    "papermill": {
     "duration": 2.487967,
     "end_time": "2022-04-18T00:16:32.824150",
     "exception": false,
     "start_time": "2022-04-18T00:16:30.336183",
     "status": "completed"
    },
    "tags": []
   },
   "outputs": [],
   "source": [
    "# S3 prefix\n",
    "prefix = \"DEMO-scikit-iris\"\n",
    "\n",
    "import sagemaker\n",
    "from sagemaker import get_execution_role\n",
    "\n",
    "sagemaker_session = sagemaker.Session()\n",
    "role = get_execution_role()"
   ]
  },
  {
   "cell_type": "markdown",
   "id": "5096cc54",
   "metadata": {
    "papermill": {
     "duration": 0.014115,
     "end_time": "2022-04-18T00:16:32.852500",
     "exception": false,
     "start_time": "2022-04-18T00:16:32.838385",
     "status": "completed"
    },
    "tags": []
   },
   "source": [
    "## Upload the data for training <a class=\"anchor\" id=\"upload_data\"></a>\n",
    "\n",
    "When training large models with huge amounts of data, you may use big data tools like Amazon Athena, AWS Glue, or Amazon EMR to process your data backed by S3. For the purposes of this example, we're using a sample of the classic [Iris dataset](https://archive.ics.uci.edu/ml/datasets/iris). We load the dataset, write it locally, then upload it to S3."
   ]
  },
  {
   "cell_type": "code",
   "execution_count": 4,
   "id": "4280075a",
   "metadata": {
    "execution": {
     "iopub.execute_input": "2022-04-18T00:16:32.892832Z",
     "iopub.status.busy": "2022-04-18T00:16:32.891892Z",
     "iopub.status.idle": "2022-04-18T00:16:33.409010Z",
     "shell.execute_reply": "2022-04-18T00:16:33.409712Z"
    },
    "papermill": {
     "duration": 0.543407,
     "end_time": "2022-04-18T00:16:33.409872",
     "exception": false,
     "start_time": "2022-04-18T00:16:32.866465",
     "status": "completed"
    },
    "tags": []
   },
   "outputs": [],
   "source": [
    "import boto3\n",
    "import numpy as np\n",
    "import pandas as pd\n",
    "import os\n",
    "\n",
    "os.makedirs(\"./data\", exist_ok=True)\n",
    "\n",
    "s3_client = boto3.client(\"s3\")\n",
    "s3_client.download_file(\n",
    "    f\"sagemaker-sample-files\", \"datasets/tabular/iris/iris.data\", \"./data/iris.csv\"\n",
    ")\n",
    "\n",
    "df_iris = pd.read_csv(\"./data/iris.csv\", header=None)\n",
    "df_iris[4] = df_iris[4].map({\"Iris-setosa\": 0, \"Iris-versicolor\": 1, \"Iris-virginica\": 2})\n",
    "iris = df_iris[[4, 0, 1, 2, 3]].to_numpy()\n",
    "np.savetxt(\"./data/iris.csv\", iris, delimiter=\",\", fmt=\"%1.1f, %1.3f, %1.3f, %1.3f, %1.3f\")"
   ]
  },
  {
   "cell_type": "markdown",
   "id": "e27084dd",
   "metadata": {
    "papermill": {
     "duration": 0.014048,
     "end_time": "2022-04-18T00:16:33.438252",
     "exception": false,
     "start_time": "2022-04-18T00:16:33.424204",
     "status": "completed"
    },
    "tags": []
   },
   "source": [
    "Once we have the data locally, we can use use the tools provided by the SageMaker Python SDK to upload the data to a default bucket. "
   ]
  },
  {
   "cell_type": "code",
   "execution_count": 5,
   "id": "ff8e65bf",
   "metadata": {
    "execution": {
     "iopub.execute_input": "2022-04-18T00:16:33.471476Z",
     "iopub.status.busy": "2022-04-18T00:16:33.470666Z",
     "iopub.status.idle": "2022-04-18T00:16:33.730047Z",
     "shell.execute_reply": "2022-04-18T00:16:33.729298Z"
    },
    "papermill": {
     "duration": 0.277757,
     "end_time": "2022-04-18T00:16:33.730208",
     "exception": false,
     "start_time": "2022-04-18T00:16:33.452451",
     "status": "completed"
    },
    "tags": []
   },
   "outputs": [],
   "source": [
    "WORK_DIRECTORY = \"data\"\n",
    "\n",
    "train_input = sagemaker_session.upload_data(\n",
    "    WORK_DIRECTORY, key_prefix=\"{}/{}\".format(prefix, WORK_DIRECTORY)\n",
    ")"
   ]
  },
  {
   "cell_type": "markdown",
   "id": "3c6497df",
   "metadata": {
    "papermill": {
     "duration": 0.024057,
     "end_time": "2022-04-18T00:16:33.770216",
     "exception": false,
     "start_time": "2022-04-18T00:16:33.746159",
     "status": "completed"
    },
    "tags": []
   },
   "source": [
    "## Create a Scikit-learn script for training <a class=\"anchor\" id=\"create_sklearn_script\"></a>\n",
    "SageMaker can run a scikit-learn script using the `SKLearn` estimator. When run on SageMaker, a number of helpful environment variables are available to access properties of the training environment, such as:\n",
    "\n",
    "* `SM_MODEL_DIR`: A string representing the path to the directory to write model artifacts to. Any artifacts saved in this folder are uploaded to S3 for model hosting after the training job completes.\n",
    "* `SM_OUTPUT_DIR`: A string representing the file system path to write output artifacts to. Output artifacts may include checkpoints, graphs, and other files to save, not including model artifacts. These artifacts are compressed and uploaded to S3 to the same S3 prefix as the model artifacts.\n",
    "\n",
    "Supposing two input channels, 'train' and 'test', were used in the call to the `SKLearn` estimator's `fit()` method, the following environment variables are set, following the format `SM_CHANNEL_[channel_name]`:\n",
    "\n",
    "* `SM_CHANNEL_TRAIN`: A string representing the path to the directory containing data in the 'train' channel.\n",
    "* `SM_CHANNEL_TEST`: Same as above, but for the 'test' channel.\n",
    "\n",
    "A typical training script loads data from the input channels, configures training with hyperparameters, trains a model, and saves a model to the `model_dir` so that it can be hosted later. Hyperparameters are passed to your script as arguments and can be retrieved with an `argparse.ArgumentParser` instance. For example, the script that we run in this notebook is below:\n",
    "\n",
    "```python\n",
    "from __future__ import print_function\n",
    "\n",
    "import argparse\n",
    "import joblib\n",
    "import os\n",
    "import pandas as pd\n",
    "\n",
    "from sklearn import tree\n",
    "\n",
    "\n",
    "if __name__ == '__main__':\n",
    "    parser = argparse.ArgumentParser()\n",
    "\n",
    "    # Hyperparameters are described here. In this simple example we are just including one hyperparameter.\n",
    "    parser.add_argument('--max_leaf_nodes', type=int, default=-1)\n",
    "\n",
    "    # Sagemaker specific arguments. Defaults are set in the environment variables.\n",
    "    parser.add_argument('--output-data-dir', type=str, default=os.environ['SM_OUTPUT_DATA_DIR'])\n",
    "    parser.add_argument('--model-dir', type=str, default=os.environ['SM_MODEL_DIR'])\n",
    "    parser.add_argument('--train', type=str, default=os.environ['SM_CHANNEL_TRAIN'])\n",
    "\n",
    "    args = parser.parse_args()\n",
    "\n",
    "    # Take the set of files and read them all into a single pandas dataframe\n",
    "    input_files = [ os.path.join(args.train, file) for file in os.listdir(args.train) ]\n",
    "    if len(input_files) == 0:\n",
    "        raise ValueError(('There are no files in {}.\\n' +\n",
    "                          'This usually indicates that the channel ({}) was incorrectly specified,\\n' +\n",
    "                          'the data specification in S3 was incorrectly specified or the role specified\\n' +\n",
    "                          'does not have permission to access the data.').format(args.train, \"train\"))\n",
    "    raw_data = [ pd.read_csv(file, header=None, engine=\"python\") for file in input_files ]\n",
    "    train_data = pd.concat(raw_data)\n",
    "\n",
    "    # labels are in the first column\n",
    "    train_y = train_data.iloc[:, 0]\n",
    "    train_X = train_data.iloc[:, 1:]\n",
    "\n",
    "    # Here we support a single hyperparameter, 'max_leaf_nodes'. Note that you can add as many\n",
    "    # as your training my require in the ArgumentParser above.\n",
    "    max_leaf_nodes = args.max_leaf_nodes\n",
    "\n",
    "    # Now use scikit-learn's decision tree classifier to train the model.\n",
    "    clf = tree.DecisionTreeClassifier(max_leaf_nodes=max_leaf_nodes)\n",
    "    clf = clf.fit(train_X, train_y)\n",
    "\n",
    "    # Print the coefficients of the trained classifier, and save the coefficients\n",
    "    joblib.dump(clf, os.path.join(args.model_dir, \"model.joblib\"))\n",
    "\n",
    "\n",
    "def model_fn(model_dir):\n",
    "    \"\"\"Deserialized and return fitted model\n",
    "    \n",
    "    Note that this should have the same name as the serialized model in the main method\n",
    "    \"\"\"\n",
    "    clf = joblib.load(os.path.join(model_dir, \"model.joblib\"))\n",
    "    return clf\n",
    "```"
   ]
  },
  {
   "cell_type": "markdown",
   "id": "86f653ee",
   "metadata": {
    "papermill": {
     "duration": 0.023824,
     "end_time": "2022-04-18T00:16:33.837474",
     "exception": false,
     "start_time": "2022-04-18T00:16:33.813650",
     "status": "completed"
    },
    "tags": []
   },
   "source": [
    "Because the Scikit-learn container imports your training script, you should always put your training code in a main guard `(if __name__=='__main__':)` so that the container does not inadvertently run your training code at the wrong point in execution.\n",
    "\n",
    "For more information about training environment variables, please visit https://github.com/aws/sagemaker-containers."
   ]
  },
  {
   "cell_type": "markdown",
   "id": "bf3d7032",
   "metadata": {
    "papermill": {
     "duration": 0.019747,
     "end_time": "2022-04-18T00:16:33.882782",
     "exception": false,
     "start_time": "2022-04-18T00:16:33.863035",
     "status": "completed"
    },
    "tags": []
   },
   "source": [
    "## Create a SageMaker SKLearn Estimator <a class=\"anchor\" id=\"create_sklearn_estimator\"></a>\n",
    "\n",
    "To run our Scikit-learn training script on SageMaker, we construct a `sagemaker.sklearn.estimator.sklearn` estimator, which accepts several constructor arguments:\n",
    "\n",
    "* __entry_point__: The path to the Python script SageMaker runs for training and prediction.\n",
    "* __role__: The IAM role ARN.\n",
    "* __instance_type__ *(optional)*: The type of SageMaker instances for training. __Note__: Because Scikit-learn does not natively support GPU training, SageMaker Scikit-learn does not currently support training on GPU instance types.\n",
    "* __sagemaker_session__ *(optional)*: The session used to train on SageMaker.\n",
    "* __hyperparameters__ *(optional)*: A dictionary passed to the train function as hyperparameters.\n",
    "\n",
    "To see the code for the SKLearn Estimator, see: https://github.com/aws/sagemaker-python-sdk/tree/master/src/sagemaker/sklearn"
   ]
  },
  {
   "cell_type": "code",
   "execution_count": 6,
   "id": "e1f48f3f",
   "metadata": {
    "execution": {
     "iopub.execute_input": "2022-04-18T00:16:33.922729Z",
     "iopub.status.busy": "2022-04-18T00:16:33.921849Z",
     "iopub.status.idle": "2022-04-18T00:16:34.105757Z",
     "shell.execute_reply": "2022-04-18T00:16:34.105147Z"
    },
    "papermill": {
     "duration": 0.206229,
     "end_time": "2022-04-18T00:16:34.105880",
     "exception": false,
     "start_time": "2022-04-18T00:16:33.899651",
     "status": "completed"
    },
    "tags": []
   },
   "outputs": [],
   "source": [
    "from sagemaker.sklearn.estimator import SKLearn\n",
    "\n",
    "FRAMEWORK_VERSION = \"1.0-1\"\n",
    "script_path = \"scikit_learn_iris.py\"\n",
    "\n",
    "sklearn = SKLearn(\n",
    "    entry_point=script_path,\n",
    "    framework_version=FRAMEWORK_VERSION,\n",
    "    instance_type=\"ml.c4.xlarge\",\n",
    "    role=role,\n",
    "    sagemaker_session=sagemaker_session,\n",
    "    hyperparameters={\"max_leaf_nodes\": 30},\n",
    ")"
   ]
  },
  {
   "cell_type": "markdown",
   "id": "4c3c3084",
   "metadata": {
    "papermill": {
     "duration": 0.021596,
     "end_time": "2022-04-18T00:16:34.201499",
     "exception": false,
     "start_time": "2022-04-18T00:16:34.179903",
     "status": "completed"
    },
    "tags": []
   },
   "source": [
    "## Train SKLearn Estimator on Iris data <a class=\"anchor\" id=\"train_sklearn\"></a>\n",
    "Training is straightforward, just call `fit()` on the Estimator! This starts a SageMaker training job that downloads the data, invokes our scikit-learn code (in the provided script file), and saves any model artifacts that the script creates."
   ]
  },
  {
   "cell_type": "code",
   "execution_count": 7,
   "id": "97c375a5",
   "metadata": {
    "execution": {
     "iopub.execute_input": "2022-04-18T00:16:34.300086Z",
     "iopub.status.busy": "2022-04-18T00:16:34.299398Z",
     "iopub.status.idle": "2022-04-18T00:20:23.681596Z",
     "shell.execute_reply": "2022-04-18T00:20:23.680913Z"
    },
    "papermill": {
     "duration": 229.451678,
     "end_time": "2022-04-18T00:20:23.681733",
     "exception": false,
     "start_time": "2022-04-18T00:16:34.230055",
     "status": "completed"
    },
    "scrolled": true,
    "tags": []
   },
   "outputs": [
    {
     "name": "stdout",
     "output_type": "stream",
     "text": [
      "2022-04-18 00:16:34 Starting - Starting the training job...\n",
      "2022-04-18 00:16:58 Starting - Preparing the instances for trainingProfilerReport-1650240994: InProgress\n",
      "......\n",
      "2022-04-18 00:18:02 Downloading - Downloading input data...\n",
      "2022-04-18 00:18:32 Training - Downloading the training image......\n",
      "2022-04-18 00:19:33 Training - Training image download completed. Training in progress..\u001b[34m2022-04-18 00:19:35,800 sagemaker-containers INFO     Imported framework sagemaker_sklearn_container.training\u001b[0m\n",
      "\u001b[34m2022-04-18 00:19:35,802 sagemaker-training-toolkit INFO     No GPUs detected (normal if no gpus installed)\u001b[0m\n",
      "\u001b[34m2022-04-18 00:19:35,812 sagemaker_sklearn_container.training INFO     Invoking user training script.\u001b[0m\n",
      "\u001b[34m2022-04-18 00:19:36,304 sagemaker-training-toolkit INFO     No GPUs detected (normal if no gpus installed)\u001b[0m\n",
      "\u001b[34m2022-04-18 00:19:36,325 sagemaker-training-toolkit INFO     No GPUs detected (normal if no gpus installed)\u001b[0m\n",
      "\u001b[34m2022-04-18 00:19:36,345 sagemaker-training-toolkit INFO     No GPUs detected (normal if no gpus installed)\u001b[0m\n",
      "\u001b[34m2022-04-18 00:19:36,357 sagemaker-training-toolkit INFO     Invoking user script\u001b[0m\n",
      "\u001b[34mTraining Env:\u001b[0m\n",
      "\u001b[34m{\n",
      "    \"additional_framework_parameters\": {},\n",
      "    \"channel_input_dirs\": {\n",
      "        \"train\": \"/opt/ml/input/data/train\"\n",
      "    },\n",
      "    \"current_host\": \"algo-1\",\n",
      "    \"framework_module\": \"sagemaker_sklearn_container.training:main\",\n",
      "    \"hosts\": [\n",
      "        \"algo-1\"\n",
      "    ],\n",
      "    \"hyperparameters\": {\n",
      "        \"max_leaf_nodes\": 30\n",
      "    },\n",
      "    \"input_config_dir\": \"/opt/ml/input/config\",\n",
      "    \"input_data_config\": {\n",
      "        \"train\": {\n",
      "            \"TrainingInputMode\": \"File\",\n",
      "            \"S3DistributionType\": \"FullyReplicated\",\n",
      "            \"RecordWrapperType\": \"None\"\n",
      "        }\n",
      "    },\n",
      "    \"input_dir\": \"/opt/ml/input\",\n",
      "    \"is_master\": true,\n",
      "    \"job_name\": \"sagemaker-scikit-learn-2022-04-18-00-16-34-297\",\n",
      "    \"log_level\": 20,\n",
      "    \"master_hostname\": \"algo-1\",\n",
      "    \"model_dir\": \"/opt/ml/model\",\n",
      "    \"module_dir\": \"s3://sagemaker-us-west-2-000000000000/sagemaker-scikit-learn-2022-04-18-00-16-34-297/source/sourcedir.tar.gz\",\n",
      "    \"module_name\": \"scikit_learn_iris\",\n",
      "    \"network_interface_name\": \"eth0\",\n",
      "    \"num_cpus\": 4,\n",
      "    \"num_gpus\": 0,\n",
      "    \"output_data_dir\": \"/opt/ml/output/data\",\n",
      "    \"output_dir\": \"/opt/ml/output\",\n",
      "    \"output_intermediate_dir\": \"/opt/ml/output/intermediate\",\n",
      "    \"resource_config\": {\n",
      "        \"current_host\": \"algo-1\",\n",
      "        \"current_instance_type\": \"ml.c4.xlarge\",\n",
      "        \"current_group_name\": \"homogeneousCluster\",\n",
      "        \"hosts\": [\n",
      "            \"algo-1\"\n",
      "        ],\n",
      "        \"instance_groups\": [\n",
      "            {\n",
      "                \"instance_group_name\": \"homogeneousCluster\",\n",
      "                \"instance_type\": \"ml.c4.xlarge\",\n",
      "                \"hosts\": [\n",
      "                    \"algo-1\"\n",
      "                ]\n",
      "            }\n",
      "        ],\n",
      "        \"network_interface_name\": \"eth0\"\n",
      "    },\n",
      "    \"user_entry_point\": \"scikit_learn_iris.py\"\u001b[0m\n",
      "\u001b[34m}\u001b[0m\n",
      "\u001b[34mEnvironment variables:\u001b[0m\n",
      "\u001b[34mSM_HOSTS=[\"algo-1\"]\u001b[0m\n",
      "\u001b[34mSM_NETWORK_INTERFACE_NAME=eth0\u001b[0m\n",
      "\u001b[34mSM_HPS={\"max_leaf_nodes\":30}\u001b[0m\n",
      "\u001b[34mSM_USER_ENTRY_POINT=scikit_learn_iris.py\u001b[0m\n",
      "\u001b[34mSM_FRAMEWORK_PARAMS={}\u001b[0m\n",
      "\u001b[34mSM_RESOURCE_CONFIG={\"current_group_name\":\"homogeneousCluster\",\"current_host\":\"algo-1\",\"current_instance_type\":\"ml.c4.xlarge\",\"hosts\":[\"algo-1\"],\"instance_groups\":[{\"hosts\":[\"algo-1\"],\"instance_group_name\":\"homogeneousCluster\",\"instance_type\":\"ml.c4.xlarge\"}],\"network_interface_name\":\"eth0\"}\u001b[0m\n",
      "\u001b[34mSM_INPUT_DATA_CONFIG={\"train\":{\"RecordWrapperType\":\"None\",\"S3DistributionType\":\"FullyReplicated\",\"TrainingInputMode\":\"File\"}}\u001b[0m\n",
      "\u001b[34mSM_OUTPUT_DATA_DIR=/opt/ml/output/data\u001b[0m\n",
      "\u001b[34mSM_CHANNELS=[\"train\"]\u001b[0m\n",
      "\u001b[34mSM_CURRENT_HOST=algo-1\u001b[0m\n",
      "\u001b[34mSM_MODULE_NAME=scikit_learn_iris\u001b[0m\n",
      "\u001b[34mSM_LOG_LEVEL=20\u001b[0m\n",
      "\u001b[34mSM_FRAMEWORK_MODULE=sagemaker_sklearn_container.training:main\u001b[0m\n",
      "\u001b[34mSM_INPUT_DIR=/opt/ml/input\u001b[0m\n",
      "\u001b[34mSM_INPUT_CONFIG_DIR=/opt/ml/input/config\u001b[0m\n",
      "\u001b[34mSM_OUTPUT_DIR=/opt/ml/output\u001b[0m\n",
      "\u001b[34mSM_NUM_CPUS=4\u001b[0m\n",
      "\u001b[34mSM_NUM_GPUS=0\u001b[0m\n",
      "\u001b[34mSM_MODEL_DIR=/opt/ml/model\u001b[0m\n",
      "\u001b[34mSM_MODULE_DIR=s3://sagemaker-us-west-2-000000000000/sagemaker-scikit-learn-2022-04-18-00-16-34-297/source/sourcedir.tar.gz\u001b[0m\n",
      "\u001b[34mSM_TRAINING_ENV={\"additional_framework_parameters\":{},\"channel_input_dirs\":{\"train\":\"/opt/ml/input/data/train\"},\"current_host\":\"algo-1\",\"framework_module\":\"sagemaker_sklearn_container.training:main\",\"hosts\":[\"algo-1\"],\"hyperparameters\":{\"max_leaf_nodes\":30},\"input_config_dir\":\"/opt/ml/input/config\",\"input_data_config\":{\"train\":{\"RecordWrapperType\":\"None\",\"S3DistributionType\":\"FullyReplicated\",\"TrainingInputMode\":\"File\"}},\"input_dir\":\"/opt/ml/input\",\"is_master\":true,\"job_name\":\"sagemaker-scikit-learn-2022-04-18-00-16-34-297\",\"log_level\":20,\"master_hostname\":\"algo-1\",\"model_dir\":\"/opt/ml/model\",\"module_dir\":\"s3://sagemaker-us-west-2-000000000000/sagemaker-scikit-learn-2022-04-18-00-16-34-297/source/sourcedir.tar.gz\",\"module_name\":\"scikit_learn_iris\",\"network_interface_name\":\"eth0\",\"num_cpus\":4,\"num_gpus\":0,\"output_data_dir\":\"/opt/ml/output/data\",\"output_dir\":\"/opt/ml/output\",\"output_intermediate_dir\":\"/opt/ml/output/intermediate\",\"resource_config\":{\"current_group_name\":\"homogeneousCluster\",\"current_host\":\"algo-1\",\"current_instance_type\":\"ml.c4.xlarge\",\"hosts\":[\"algo-1\"],\"instance_groups\":[{\"hosts\":[\"algo-1\"],\"instance_group_name\":\"homogeneousCluster\",\"instance_type\":\"ml.c4.xlarge\"}],\"network_interface_name\":\"eth0\"},\"user_entry_point\":\"scikit_learn_iris.py\"}\u001b[0m\n",
      "\u001b[34mSM_USER_ARGS=[\"--max_leaf_nodes\",\"30\"]\u001b[0m\n",
      "\u001b[34mSM_OUTPUT_INTERMEDIATE_DIR=/opt/ml/output/intermediate\u001b[0m\n",
      "\u001b[34mSM_CHANNEL_TRAIN=/opt/ml/input/data/train\u001b[0m\n",
      "\u001b[34mSM_HP_MAX_LEAF_NODES=30\u001b[0m\n",
      "\u001b[34mPYTHONPATH=/opt/ml/code:/miniconda3/bin:/miniconda3/lib/python37.zip:/miniconda3/lib/python3.7:/miniconda3/lib/python3.7/lib-dynload:/miniconda3/lib/python3.7/site-packages\u001b[0m\n",
      "\u001b[34mInvoking script with the following command:\u001b[0m\n",
      "\u001b[34m/miniconda3/bin/python scikit_learn_iris.py --max_leaf_nodes 30\u001b[0m\n",
      "\u001b[34m2022-04-18 00:19:38,160 sagemaker-containers INFO     Reporting training SUCCESS\u001b[0m\n",
      "\n",
      "2022-04-18 00:19:59 Uploading - Uploading generated training model\n",
      "2022-04-18 00:19:59 Completed - Training job completed\n",
      "Training seconds: 107\n",
      "Billable seconds: 107\n"
     ]
    }
   ],
   "source": [
    "sklearn.fit({\"train\": train_input})"
   ]
  },
  {
   "cell_type": "markdown",
   "id": "76ecc873",
   "metadata": {
    "papermill": {
     "duration": 0.053468,
     "end_time": "2022-04-18T00:20:23.759664",
     "exception": false,
     "start_time": "2022-04-18T00:20:23.706196",
     "status": "completed"
    },
    "tags": []
   },
   "source": [
    "## Use the trained model to make inference requests <a class=\"anchor\" id=\"inference\"></a>\n",
    "\n",
    "### Deploy the model <a class=\"anchor\" id=\"deploy\"></a>\n",
    "\n",
    "Deploying the model to SageMaker hosting just requires a `deploy()` call on the fitted model. This call takes an instance count and instance type."
   ]
  },
  {
   "cell_type": "code",
   "execution_count": 8,
   "id": "c8306925",
   "metadata": {
    "execution": {
     "iopub.execute_input": "2022-04-18T00:20:23.816332Z",
     "iopub.status.busy": "2022-04-18T00:20:23.815353Z",
     "iopub.status.idle": "2022-04-18T00:22:55.043543Z",
     "shell.execute_reply": "2022-04-18T00:22:55.043954Z"
    },
    "papermill": {
     "duration": 151.257975,
     "end_time": "2022-04-18T00:22:55.044116",
     "exception": false,
     "start_time": "2022-04-18T00:20:23.786141",
     "status": "completed"
    },
    "tags": []
   },
   "outputs": [
    {
     "name": "stdout",
     "output_type": "stream",
     "text": [
      "-----!"
     ]
    }
   ],
   "source": [
    "predictor = sklearn.deploy(initial_instance_count=1, instance_type=\"ml.m5.xlarge\")"
   ]
  },
  {
   "cell_type": "markdown",
   "id": "e47e81dd",
   "metadata": {
    "papermill": {
     "duration": 0.071721,
     "end_time": "2022-04-18T00:22:55.138187",
     "exception": false,
     "start_time": "2022-04-18T00:22:55.066466",
     "status": "completed"
    },
    "tags": []
   },
   "source": [
    "### Choose some data and use it for a prediction <a class=\"anchor\" id=\"prediction_request\"></a>\n",
    "\n",
    "We extract some data we used for training and make predictions on it. This is not a recommended statistical practice, but it demonstrates how to run inference using the deployed endpoint."
   ]
  },
  {
   "cell_type": "code",
   "execution_count": 9,
   "id": "b26b8add",
   "metadata": {
    "execution": {
     "iopub.execute_input": "2022-04-18T00:22:55.246227Z",
     "iopub.status.busy": "2022-04-18T00:22:55.244403Z",
     "iopub.status.idle": "2022-04-18T00:22:55.259697Z",
     "shell.execute_reply": "2022-04-18T00:22:55.260080Z"
    },
    "papermill": {
     "duration": 0.068505,
     "end_time": "2022-04-18T00:22:55.260234",
     "exception": false,
     "start_time": "2022-04-18T00:22:55.191729",
     "status": "completed"
    },
    "tags": []
   },
   "outputs": [],
   "source": [
    "import itertools\n",
    "import pandas as pd\n",
    "\n",
    "shape = pd.read_csv(\"data/iris.csv\", header=None)\n",
    "\n",
    "a = [50 * i for i in range(3)]\n",
    "b = [40 + i for i in range(10)]\n",
    "indices = [i + j for i, j in itertools.product(a, b)]\n",
    "\n",
    "test_data = shape.iloc[indices[:-1]]\n",
    "test_X = test_data.iloc[:, 1:]\n",
    "test_y = test_data.iloc[:, 0]"
   ]
  },
  {
   "cell_type": "markdown",
   "id": "2dd1001f",
   "metadata": {
    "papermill": {
     "duration": 0.038612,
     "end_time": "2022-04-18T00:22:55.361553",
     "exception": false,
     "start_time": "2022-04-18T00:22:55.322941",
     "status": "completed"
    },
    "tags": []
   },
   "source": [
    "To make a prediction, call `predict()` on the predictor returned from `deploy()`, passing the data to do predictions on. The output from the endpoint returns a numerical representation of the classification prediction; in the original dataset, these are three flower category names, but in this example the labels are numerical. We can compare against the original label that we parsed."
   ]
  },
  {
   "cell_type": "code",
   "execution_count": 10,
   "id": "1b4ed0db",
   "metadata": {
    "execution": {
     "iopub.execute_input": "2022-04-18T00:22:55.423394Z",
     "iopub.status.busy": "2022-04-18T00:22:55.422582Z",
     "iopub.status.idle": "2022-04-18T00:22:55.539298Z",
     "shell.execute_reply": "2022-04-18T00:22:55.539749Z"
    },
    "papermill": {
     "duration": 0.150705,
     "end_time": "2022-04-18T00:22:55.539957",
     "exception": false,
     "start_time": "2022-04-18T00:22:55.389252",
     "status": "completed"
    },
    "tags": []
   },
   "outputs": [
    {
     "name": "stdout",
     "output_type": "stream",
     "text": [
      "[0. 0. 0. 0. 0. 0. 0. 0. 0. 0. 1. 1. 1. 1. 1. 1. 1. 1. 1. 1. 2. 2. 2. 2.\n",
      " 2. 2. 2. 2. 2.]\n",
      "[0. 0. 0. 0. 0. 0. 0. 0. 0. 0. 1. 1. 1. 1. 1. 1. 1. 1. 1. 1. 2. 2. 2. 2.\n",
      " 2. 2. 2. 2. 2.]\n"
     ]
    }
   ],
   "source": [
    "print(predictor.predict(test_X.values))\n",
    "print(test_y.values)"
   ]
  },
  {
   "cell_type": "markdown",
   "id": "90344cc5",
   "metadata": {
    "papermill": {
     "duration": 0.025901,
     "end_time": "2022-04-18T00:22:55.605473",
     "exception": false,
     "start_time": "2022-04-18T00:22:55.579572",
     "status": "completed"
    },
    "tags": []
   },
   "source": [
    "### Endpoint cleanup <a class=\"anchor\" id=\"endpoint_cleanup\"></a>\n",
    "\n",
    "When you're done with the endpoint, delete it to release the resources and avoid incurring additional cost."
   ]
  },
  {
   "cell_type": "code",
   "execution_count": 11,
   "id": "8ceca052",
   "metadata": {
    "execution": {
     "iopub.execute_input": "2022-04-18T00:22:55.672245Z",
     "iopub.status.busy": "2022-04-18T00:22:55.671712Z",
     "iopub.status.idle": "2022-04-18T00:22:55.985735Z",
     "shell.execute_reply": "2022-04-18T00:22:55.985223Z"
    },
    "papermill": {
     "duration": 0.353133,
     "end_time": "2022-04-18T00:22:55.985862",
     "exception": false,
     "start_time": "2022-04-18T00:22:55.632729",
     "status": "completed"
    },
    "tags": []
   },
   "outputs": [],
   "source": [
    "predictor.delete_endpoint()"
   ]
  },
  {
   "cell_type": "markdown",
   "id": "52b712d2",
   "metadata": {
    "papermill": {
     "duration": 0.027955,
     "end_time": "2022-04-18T00:22:56.041200",
     "exception": false,
     "start_time": "2022-04-18T00:22:56.013245",
     "status": "completed"
    },
    "tags": []
   },
   "source": [
    "## Batch Transform <a class=\"anchor\" id=\"batch_transform\"></a>\n",
    "We can also use the trained model for asynchronous batch inference on S3 data using SageMaker Batch Transform."
   ]
  },
  {
   "cell_type": "code",
   "execution_count": 12,
   "id": "4ec0c08b",
   "metadata": {
    "execution": {
     "iopub.execute_input": "2022-04-18T00:22:56.099412Z",
     "iopub.status.busy": "2022-04-18T00:22:56.098673Z",
     "iopub.status.idle": "2022-04-18T00:22:56.480911Z",
     "shell.execute_reply": "2022-04-18T00:22:56.480441Z"
    },
    "papermill": {
     "duration": 0.415736,
     "end_time": "2022-04-18T00:22:56.481025",
     "exception": false,
     "start_time": "2022-04-18T00:22:56.065289",
     "status": "completed"
    },
    "tags": []
   },
   "outputs": [],
   "source": [
    "# Define an SKLearn Transformer from the trained SKLearn Estimator\n",
    "transformer = sklearn.transformer(instance_count=1, instance_type=\"ml.m5.xlarge\")"
   ]
  },
  {
   "cell_type": "markdown",
   "id": "3127ba61",
   "metadata": {
    "papermill": {
     "duration": 0.021732,
     "end_time": "2022-04-18T00:22:56.524871",
     "exception": false,
     "start_time": "2022-04-18T00:22:56.503139",
     "status": "completed"
    },
    "tags": []
   },
   "source": [
    "### Prepare Input Data <a class=\"anchor\" id=\"prepare_input_data\"></a>\n",
    "We extract 10 random samples of 100 rows from the training data, split the features (X) from the labels (Y), and upload the input data to a given location in S3."
   ]
  },
  {
   "cell_type": "code",
   "execution_count": 13,
   "id": "7e9b2a6c",
   "metadata": {
    "execution": {
     "iopub.execute_input": "2022-04-18T00:22:56.572752Z",
     "iopub.status.busy": "2022-04-18T00:22:56.571984Z",
     "iopub.status.idle": "2022-04-18T00:22:56.639476Z",
     "shell.execute_reply": "2022-04-18T00:22:56.639033Z"
    },
    "papermill": {
     "duration": 0.09342,
     "end_time": "2022-04-18T00:22:56.639590",
     "exception": false,
     "start_time": "2022-04-18T00:22:56.546170",
     "status": "completed"
    },
    "tags": []
   },
   "outputs": [],
   "source": [
    "%%bash\n",
    "# Randomly sample the iris dataset 10 times, then split X and Y\n",
    "mkdir -p batch_data/XY batch_data/X batch_data/Y\n",
    "for i in {0..9}; do\n",
    "    cat data/iris.csv | shuf -n 100 > batch_data/XY/iris_sample_${i}.csv\n",
    "    cat batch_data/XY/iris_sample_${i}.csv | cut -d',' -f2- > batch_data/X/iris_sample_X_${i}.csv\n",
    "    cat batch_data/XY/iris_sample_${i}.csv | cut -d',' -f1 > batch_data/Y/iris_sample_Y_${i}.csv\n",
    "done"
   ]
  },
  {
   "cell_type": "code",
   "execution_count": 14,
   "id": "1b463e6c",
   "metadata": {
    "execution": {
     "iopub.execute_input": "2022-04-18T00:22:56.688283Z",
     "iopub.status.busy": "2022-04-18T00:22:56.687426Z",
     "iopub.status.idle": "2022-04-18T00:22:57.051812Z",
     "shell.execute_reply": "2022-04-18T00:22:57.051342Z"
    },
    "papermill": {
     "duration": 0.390381,
     "end_time": "2022-04-18T00:22:57.051927",
     "exception": false,
     "start_time": "2022-04-18T00:22:56.661546",
     "status": "completed"
    },
    "tags": []
   },
   "outputs": [],
   "source": [
    "# Upload input data from local file system to S3\n",
    "batch_input_s3 = sagemaker_session.upload_data(\"batch_data/X\", key_prefix=prefix + \"/batch_input\")"
   ]
  },
  {
   "cell_type": "markdown",
   "id": "54a24fae",
   "metadata": {
    "papermill": {
     "duration": 0.02138,
     "end_time": "2022-04-18T00:22:57.095084",
     "exception": false,
     "start_time": "2022-04-18T00:22:57.073704",
     "status": "completed"
    },
    "tags": []
   },
   "source": [
    "### Run Transform Job <a class=\"anchor\" id=\"run_transform_job\"></a>\n",
    "Using the Transformer, run a transform job on the S3 input data."
   ]
  },
  {
   "cell_type": "code",
   "execution_count": 15,
   "id": "aa73bc4e",
   "metadata": {
    "execution": {
     "iopub.execute_input": "2022-04-18T00:22:57.154310Z",
     "iopub.status.busy": "2022-04-18T00:22:57.153490Z",
     "iopub.status.idle": "2022-04-18T00:27:45.792697Z",
     "shell.execute_reply": "2022-04-18T00:27:45.787958Z"
    },
    "papermill": {
     "duration": 288.67133,
     "end_time": "2022-04-18T00:27:45.792871",
     "exception": false,
     "start_time": "2022-04-18T00:22:57.121541",
     "status": "completed"
    },
    "tags": []
   },
   "outputs": [
    {
     "name": "stdout",
     "output_type": "stream",
     "text": [
      "...........................\n",
      "\u001b[34m2022-04-18 00:27:19,192 INFO - sagemaker-containers - No GPUs detected (normal if no gpus installed)\u001b[0m\n",
      "...\n",
      "\u001b[35m169.254.255.130 - - [18/Apr/2022:00:27:27 +0000] \"POST /invocations HTTP/1.1\" 200 500 \"-\" \"Go-http-client/1.1\"\u001b[0m\n"
     ]
    }
   ],
   "source": [
    "# Start a transform job and wait for it to finish\n",
    "transformer.transform(batch_input_s3, content_type=\"text/csv\")\n",
    "print(\"Waiting for transform job: \" + transformer.latest_transform_job.job_name)\n",
    "transformer.wait()"
   ]
  },
  {
   "cell_type": "markdown",
   "id": "24f1643c",
   "metadata": {
    "papermill": {
     "duration": 0.092566,
     "end_time": "2022-04-18T00:27:45.990557",
     "exception": false,
     "start_time": "2022-04-18T00:27:45.897991",
     "status": "completed"
    },
    "tags": []
   },
   "source": [
    "### Check Output Data  <a class=\"anchor\" id=\"check_output_data\"></a>\n",
    "After the transform job has completed, download the output data from S3. For each file \"f\" in the input data, we have a corresponding file \"f.out\" containing the predicted labels from each input row. We can compare the predicted labels to the true labels saved earlier."
   ]
  },
  {
   "cell_type": "code",
   "execution_count": 16,
   "id": "6435bca4",
   "metadata": {
    "execution": {
     "iopub.execute_input": "2022-04-18T00:27:46.095861Z",
     "iopub.status.busy": "2022-04-18T00:27:46.095032Z",
     "iopub.status.idle": "2022-04-18T00:27:47.336479Z",
     "shell.execute_reply": "2022-04-18T00:27:47.336912Z"
    },
    "papermill": {
     "duration": 1.28648,
     "end_time": "2022-04-18T00:27:47.337065",
     "exception": false,
     "start_time": "2022-04-18T00:27:46.050585",
     "status": "completed"
    },
    "tags": []
   },
   "outputs": [
    {
     "name": "stdout",
     "output_type": "stream",
     "text": [
      "download: s3://sagemaker-us-west-2-000000000000/sagemaker-scikit-learn-2022-04-18-00-22-57-151/iris_sample_X_0.csv.out to batch_data/output/iris_sample_X_0.csv.out\n",
      "download: s3://sagemaker-us-west-2-000000000000/sagemaker-scikit-learn-2022-04-18-00-22-57-151/iris_sample_X_4.csv.out to batch_data/output/iris_sample_X_4.csv.out\n",
      "download: s3://sagemaker-us-west-2-000000000000/sagemaker-scikit-learn-2022-04-18-00-22-57-151/iris_sample_X_2.csv.out to batch_data/output/iris_sample_X_2.csv.out\n",
      "download: s3://sagemaker-us-west-2-000000000000/sagemaker-scikit-learn-2022-04-18-00-22-57-151/iris_sample_X_3.csv.out to batch_data/output/iris_sample_X_3.csv.out\n",
      "download: s3://sagemaker-us-west-2-000000000000/sagemaker-scikit-learn-2022-04-18-00-22-57-151/iris_sample_X_7.csv.out to batch_data/output/iris_sample_X_7.csv.out\n",
      "download: s3://sagemaker-us-west-2-000000000000/sagemaker-scikit-learn-2022-04-18-00-22-57-151/iris_sample_X_8.csv.out to batch_data/output/iris_sample_X_8.csv.out\n",
      "download: s3://sagemaker-us-west-2-000000000000/sagemaker-scikit-learn-2022-04-18-00-22-57-151/iris_sample_X_9.csv.out to batch_data/output/iris_sample_X_9.csv.out\n",
      "download: s3://sagemaker-us-west-2-000000000000/sagemaker-scikit-learn-2022-04-18-00-22-57-151/iris_sample_X_6.csv.out to batch_data/output/iris_sample_X_6.csv.out\n",
      "download: s3://sagemaker-us-west-2-000000000000/sagemaker-scikit-learn-2022-04-18-00-22-57-151/iris_sample_X_5.csv.out to batch_data/output/iris_sample_X_5.csv.out\n",
      "download: s3://sagemaker-us-west-2-000000000000/sagemaker-scikit-learn-2022-04-18-00-22-57-151/iris_sample_X_1.csv.out to batch_data/output/iris_sample_X_1.csv.out\n",
      "==> batch_data/output/iris_sample_X_0.csv.out <==\n",
      "[0.0, 2.0, 0.0, 2.0, 2.0, 2.0, 0.0, 2.0, 2.0, 1.0, 1.0, 0.0, 1.0, 0.0, 2.0, 0.0, 2.0, 0.0, 0.0, 0.0, 0.0, 2.0, 2.0, 1.0, 0.0, 2.0, 1.0, 1.0, 0.0, 2.0, 1.0, 1.0, 1.0, 2.0, 2.0, 1.0, 1.0, 2.0, 1.0, 0.0, 1.0, 2.0, 0.0, 2.0, 0.0, 2.0, 2.0, 2.0, 2.0, 0.0, 2.0, 1.0, 1.0, 1.0, 1.0, 0.0, 0.0, 0.0, 2.0, 2.0, 0.0, 1.0, 2.0, 1.0, 2.0, 0.0, 1.0, 0.0, 1.0, 2.0, 1.0, 2.0, 0.0, 0.0, 1.0, 1.0, 1.0, 0.0, 0.0, 2.0, 2.0, 1.0, 0.0, 0.0, 0.0, 1.0, 1.0, 2.0, 2.0, 2.0, 1.0, 1.0, 2.0, 0.0, 0.0, 0.0, 2.0, 2.0, 2.0, 1.0]\n",
      "==> batch_data/output/iris_sample_X_1.csv.out <==\n",
      "[0.0, 2.0, 1.0, 1.0, 1.0, 2.0, 2.0, 1.0, 0.0, 1.0, 1.0, 0.0, 1.0, 0.0, 0.0, 1.0, 1.0, 0.0, 2.0, 0.0, 1.0, 0.0, 2.0, 2.0, 0.0, 0.0, 2.0, 2.0, 1.0, 0.0, 2.0, 1.0, 2.0, 2.0, 0.0, 2.0, 2.0, 0.0, 2.0, 2.0, 0.0, 1.0, 2.0, 0.0, 0.0, 2.0, 2.0, 0.0, 0.0, 0.0, 1.0, 1.0, 0.0, 1.0, 2.0, 0.0, 2.0, 1.0, 2.0, 2.0, 2.0, 0.0, 1.0, 0.0, 0.0, 0.0, 2.0, 1.0, 0.0, 0.0, 0.0, 1.0, 2.0, 0.0, 2.0, 0.0, 1.0, 1.0, 0.0, 0.0, 0.0, 2.0, 2.0, 0.0, 1.0, 1.0, 0.0, 2.0, 2.0, 2.0, 1.0, 2.0, 1.0, 0.0, 1.0, 1.0, 1.0, 2.0, 1.0, 1.0]\n",
      "==> batch_data/output/iris_sample_X_2.csv.out <==\n",
      "[0.0, 0.0, 2.0, 2.0, 2.0, 0.0, 1.0, 1.0, 2.0, 2.0, 1.0, 2.0, 0.0, 0.0, 0.0, 0.0, 0.0, 0.0, 1.0, 1.0, 1.0, 2.0, 1.0, 2.0, 0.0, 2.0, 1.0, 2.0, 1.0, 1.0, 1.0, 2.0, 2.0, 2.0, 0.0, 2.0, 0.0, 0.0, 0.0, 1.0, 1.0, 1.0, 0.0, 1.0, 1.0, 2.0, 2.0, 0.0, 2.0, 1.0, 1.0, 1.0, 0.0, 1.0, 0.0, 2.0, 2.0, 0.0, 2.0, 2.0, 0.0, 2.0, 1.0, 2.0, 1.0, 0.0, 2.0, 1.0, 1.0, 0.0, 0.0, 2.0, 0.0, 1.0, 2.0, 0.0, 1.0, 1.0, 0.0, 1.0, 0.0, 1.0, 1.0, 1.0, 1.0, 2.0, 2.0, 1.0, 1.0, 0.0, 1.0, 0.0, 0.0, 0.0, 2.0, 0.0, 2.0, 0.0, 1.0, 0.0]\n",
      "==> batch_data/output/iris_sample_X_3.csv.out <==\n",
      "[1.0, 2.0, 0.0, 0.0, 2.0, 2.0, 0.0, 0.0, 2.0, 0.0, 0.0, 0.0, 0.0, 2.0, 0.0, 1.0, 0.0, 0.0, 2.0, 0.0, 0.0, 1.0, 0.0, 0.0, 2.0, 0.0, 2.0, 1.0, 2.0, 0.0, 2.0, 1.0, 0.0, 0.0, 1.0, 1.0, 1.0, 2.0, 0.0, 0.0, 1.0, 2.0, 1.0, 0.0, 0.0, 1.0, 1.0, 2.0, 2.0, 1.0, 2.0, 0.0, 1.0, 2.0, 0.0, 2.0, 1.0, 2.0, 1.0, 0.0, 2.0, 0.0, 2.0, 0.0, 2.0, 2.0, 2.0, 2.0, 1.0, 2.0, 1.0, 2.0, 1.0, 1.0, 0.0, 2.0, 2.0, 1.0, 0.0, 1.0, 1.0, 0.0, 2.0, 1.0, 2.0, 2.0, 1.0, 2.0, 0.0, 1.0, 0.0, 2.0, 0.0, 0.0, 2.0, 2.0, 0.0, 2.0, 0.0, 1.0]\n",
      "==> batch_data/output/iris_sample_X_4.csv.out <==\n",
      "[0.0, 0.0, 1.0, 0.0, 2.0, 0.0, 1.0, 2.0, 2.0, 2.0, 2.0, 0.0, 2.0, 2.0, 1.0, 1.0, 0.0, 1.0, 2.0, 2.0, 0.0, 0.0, 1.0, 1.0, 2.0, 2.0, 0.0, 1.0, 1.0, 1.0, 1.0, 1.0, 1.0, 2.0, 0.0, 1.0, 0.0, 1.0, 1.0, 0.0, 0.0, 0.0, 1.0, 0.0, 2.0, 0.0, 2.0, 2.0, 0.0, 2.0, 1.0, 2.0, 1.0, 1.0, 2.0, 2.0, 0.0, 0.0, 0.0, 0.0, 0.0, 2.0, 2.0, 0.0, 2.0, 2.0, 1.0, 0.0, 2.0, 1.0, 2.0, 1.0, 0.0, 2.0, 0.0, 2.0, 0.0, 1.0, 2.0, 0.0, 0.0, 1.0, 1.0, 0.0, 2.0, 0.0, 1.0, 0.0, 1.0, 1.0, 0.0, 0.0, 0.0, 0.0, 2.0, 1.0, 0.0, 1.0, 2.0, 0.0]\n",
      "==> batch_data/output/iris_sample_X_5.csv.out <==\n",
      "[2.0, 1.0, 1.0, 1.0, 2.0, 2.0, 0.0, 0.0, 1.0, 0.0, 0.0, 2.0, 2.0, 1.0, 1.0, 0.0, 0.0, 1.0, 2.0, 1.0, 1.0, 0.0, 0.0, 2.0, 0.0, 0.0, 1.0, 1.0, 1.0, 2.0, 0.0, 1.0, 1.0, 0.0, 0.0, 2.0, 1.0, 2.0, 2.0, 0.0, 2.0, 0.0, 1.0, 2.0, 1.0, 1.0, 1.0, 2.0, 0.0, 1.0, 0.0, 1.0, 0.0, 0.0, 2.0, 0.0, 1.0, 2.0, 1.0, 1.0, 2.0, 0.0, 2.0, 0.0, 2.0, 0.0, 0.0, 0.0, 2.0, 2.0, 1.0, 0.0, 1.0, 2.0, 2.0, 0.0, 1.0, 1.0, 1.0, 0.0, 0.0, 0.0, 1.0, 1.0, 1.0, 1.0, 2.0, 2.0, 0.0, 2.0, 2.0, 2.0, 0.0, 2.0, 2.0, 0.0, 2.0, 1.0, 0.0, 1.0]\n",
      "==> batch_data/output/iris_sample_X_6.csv.out <==\n",
      "[2.0, 2.0, 1.0, 1.0, 1.0, 2.0, 2.0, 0.0, 0.0, 0.0, 2.0, 2.0, 0.0, 0.0, 0.0, 2.0, 0.0, 1.0, 0.0, 2.0, 2.0, 2.0, 2.0, 1.0, 0.0, 0.0, 1.0, 0.0, 2.0, 0.0, 1.0, 0.0, 2.0, 0.0, 0.0, 1.0, 1.0, 2.0, 1.0, 1.0, 0.0, 1.0, 2.0, 2.0, 2.0, 1.0, 0.0, 1.0, 1.0, 1.0, 2.0, 0.0, 0.0, 0.0, 0.0, 0.0, 0.0, 1.0, 0.0, 0.0, 2.0, 0.0, 1.0, 2.0, 2.0, 0.0, 2.0, 1.0, 2.0, 0.0, 0.0, 0.0, 1.0, 0.0, 0.0, 1.0, 0.0, 0.0, 2.0, 2.0, 1.0, 1.0, 2.0, 0.0, 2.0, 1.0, 2.0, 1.0, 0.0, 0.0, 0.0, 2.0, 1.0, 0.0, 0.0, 2.0, 1.0, 1.0, 2.0, 2.0]\n",
      "==> batch_data/output/iris_sample_X_7.csv.out <==\n",
      "[1.0, 0.0, 2.0, 2.0, 2.0, 1.0, 1.0, 1.0, 1.0, 0.0, 0.0, 0.0, 2.0, 2.0, 0.0, 2.0, 1.0, 2.0, 1.0, 0.0, 2.0, 1.0, 0.0, 2.0, 1.0, 0.0, 2.0, 0.0, 1.0, 0.0, 0.0, 1.0, 1.0, 2.0, 0.0, 1.0, 0.0, 0.0, 0.0, 0.0, 2.0, 1.0, 2.0, 0.0, 0.0, 0.0, 2.0, 0.0, 2.0, 1.0, 1.0, 0.0, 1.0, 2.0, 0.0, 0.0, 1.0, 1.0, 1.0, 2.0, 1.0, 0.0, 2.0, 1.0, 1.0, 2.0, 0.0, 0.0, 1.0, 1.0, 0.0, 1.0, 0.0, 0.0, 2.0, 1.0, 0.0, 0.0, 0.0, 1.0, 2.0, 1.0, 0.0, 0.0, 2.0, 0.0, 1.0, 2.0, 0.0, 2.0, 1.0, 0.0, 0.0, 2.0, 2.0, 2.0, 0.0, 0.0, 1.0, 2.0]\n",
      "==> batch_data/output/iris_sample_X_8.csv.out <==\n",
      "[1.0, 0.0, 2.0, 1.0, 1.0, 0.0, 0.0, 1.0, 1.0, 0.0, 0.0, 0.0, 2.0, 2.0, 1.0, 1.0, 2.0, 0.0, 2.0, 0.0, 2.0, 2.0, 1.0, 1.0, 1.0, 0.0, 2.0, 1.0, 2.0, 0.0, 0.0, 2.0, 1.0, 2.0, 2.0, 1.0, 0.0, 0.0, 1.0, 2.0, 0.0, 1.0, 0.0, 2.0, 1.0, 0.0, 2.0, 2.0, 1.0, 0.0, 2.0, 0.0, 0.0, 1.0, 0.0, 2.0, 1.0, 2.0, 2.0, 1.0, 0.0, 1.0, 1.0, 2.0, 0.0, 2.0, 1.0, 1.0, 0.0, 0.0, 1.0, 1.0, 0.0, 2.0, 0.0, 0.0, 2.0, 1.0, 0.0, 1.0, 2.0, 2.0, 1.0, 0.0, 1.0, 2.0, 1.0, 0.0, 0.0, 1.0, 2.0, 1.0, 2.0, 2.0, 2.0, 2.0, 2.0, 2.0, 2.0, 1.0]\n",
      "==> batch_data/output/iris_sample_X_9.csv.out <==\n",
      "[2.0, 1.0, 0.0, 0.0, 1.0, 2.0, 0.0, 2.0, 0.0, 1.0, 1.0, 0.0, 0.0, 0.0, 2.0, 2.0, 1.0, 1.0, 1.0, 2.0, 1.0, 0.0, 0.0, 0.0, 1.0, 2.0, 2.0, 0.0, 1.0, 0.0, 0.0, 1.0, 2.0, 0.0, 0.0, 2.0, 1.0, 1.0, 2.0, 1.0, 2.0, 0.0, 1.0, 0.0, 1.0, 0.0, 0.0, 2.0, 1.0, 0.0, 0.0, 0.0, 1.0, 2.0, 1.0, 1.0, 1.0, 2.0, 2.0, 1.0, 0.0, 1.0, 2.0, 1.0, 1.0, 1.0, 1.0, 2.0, 1.0, 2.0, 2.0, 1.0, 1.0, 2.0, 0.0, 2.0, 0.0, 2.0, 2.0, 2.0, 2.0, 1.0, 2.0, 2.0, 2.0, 1.0, 0.0, 0.0, 0.0, 0.0, 2.0, 1.0, 0.0, 1.0, 1.0, 2.0, 0.0, 2.0, 2.0, 0.0]"
     ]
    }
   ],
   "source": [
    "# Download the output data from S3 to local file system\n",
    "batch_output = transformer.output_path\n",
    "!mkdir -p batch_data/output\n",
    "!aws s3 cp --recursive $batch_output/ batch_data/output/\n",
    "# Head to see what the batch output looks like\n",
    "!head batch_data/output/*"
   ]
  },
  {
   "cell_type": "code",
   "execution_count": 17,
   "id": "929804e5",
   "metadata": {
    "execution": {
     "iopub.execute_input": "2022-04-18T00:27:47.403518Z",
     "iopub.status.busy": "2022-04-18T00:27:47.402531Z",
     "iopub.status.idle": "2022-04-18T00:27:47.464914Z",
     "shell.execute_reply": "2022-04-18T00:27:47.464376Z"
    },
    "papermill": {
     "duration": 0.097245,
     "end_time": "2022-04-18T00:27:47.465047",
     "exception": false,
     "start_time": "2022-04-18T00:27:47.367802",
     "status": "completed"
    },
    "tags": []
   },
   "outputs": [
    {
     "name": "stdout",
     "output_type": "stream",
     "text": [
      "Files batch_data/Y/iris_sample_Y_1.csv and batch_data/output/iris_sample_X_1.csv.out are identical\n",
      "Files batch_data/Y/iris_sample_Y_2.csv and batch_data/output/iris_sample_X_2.csv.out are identical\n",
      "Files batch_data/Y/iris_sample_Y_3.csv and batch_data/output/iris_sample_X_3.csv.out are identical\n",
      "Files batch_data/Y/iris_sample_Y_4.csv and batch_data/output/iris_sample_X_4.csv.out are identical\n",
      "Files batch_data/Y/iris_sample_Y_5.csv and batch_data/output/iris_sample_X_5.csv.out are identical\n",
      "Files batch_data/Y/iris_sample_Y_6.csv and batch_data/output/iris_sample_X_6.csv.out are identical\n",
      "Files batch_data/Y/iris_sample_Y_7.csv and batch_data/output/iris_sample_X_7.csv.out are identical\n",
      "Files batch_data/Y/iris_sample_Y_8.csv and batch_data/output/iris_sample_X_8.csv.out are identical\n",
      "Files batch_data/Y/iris_sample_Y_9.csv and batch_data/output/iris_sample_X_9.csv.out are identical\n"
     ]
    }
   ],
   "source": [
    "%%bash\n",
    "# For each sample file, compare the predicted labels from batch output to the true labels\n",
    "for i in {1..9}; do\n",
    "    diff -s batch_data/Y/iris_sample_Y_${i}.csv \\\n",
    "        <(cat batch_data/output/iris_sample_X_${i}.csv.out | sed 's/[[\"]//g' | sed 's/, \\|]/\\n/g') \\\n",
    "        | sed \"s/\\/dev\\/fd\\/63/batch_data\\/output\\/iris_sample_X_${i}.csv.out/\"\n",
    "done"
   ]
  }
 ],
 "metadata": {
  "instance_type": "ml.t3.medium",
  "kernelspec": {
   "display_name": "Python 3 (ipykernel)",
   "language": "python",
   "name": "python3"
  },
  "language_info": {
   "codemirror_mode": {
    "name": "ipython",
    "version": 3
   },
   "file_extension": ".py",
   "mimetype": "text/x-python",
   "name": "python",
   "nbconvert_exporter": "python",
   "pygments_lexer": "ipython3",
   "version": "3.8.9"
  },
  "papermill": {
   "default_parameters": {},
   "duration": 695.216727,
   "end_time": "2022-04-18T00:27:48.014920",
   "environment_variables": {},
   "exception": null,
   "input_path": "scikit_learn_estimator_example_with_batch_transform.ipynb",
   "output_path": "/opt/ml/processing/output/scikit_learn_estimator_example_with_batch_transform-2022-04-18-00-02-36.ipynb",
   "parameters": {
    "kms_key": "arn:aws:kms:us-west-2:000000000000:1234abcd-12ab-34cd-56ef-1234567890ab"
   },
   "start_time": "2022-04-18T00:16:12.798193",
   "version": "2.3.4"
  }
 },
 "nbformat": 4,
 "nbformat_minor": 5
}
