{
 "cells": [
  {
   "cell_type": "markdown",
   "id": "cb187715",
   "metadata": {
    "papermill": {
     "duration": 0.024868,
     "end_time": "2022-04-18T00:20:52.987178",
     "exception": false,
     "start_time": "2022-04-18T00:20:52.962310",
     "status": "completed"
    },
    "tags": []
   },
   "source": [
    "# Amazon SageMaker Multi-hop Lineage Queries\n",
    "\n",
    "Amazon SageMaker Lineage tracks events that happen within SageMaker allowing the relationships between them to be traced via a graph structure. SageMaker Lineage introduces a new API called `LineageQuery` that allows customers to query the lineage graph structure to discover relationship across their Machine Learning entities. \n",
    "\n",
    "Your machine learning workflows can generate deeply nested relationships, the lineage APIs allow you to answer questions about these relationships. For example find all Data Sets that trained the model deployed to a given Endpoint or find all Models trained by a Data Set.\n",
    "\n",
    "The lineage graph is created automatically by SageMaker and you can directly create or modify your own lineage.\n",
    "\n",
    "In addition to the `LineageQuery` API, the SageMaker SDK provides wrapper functions that make it easy to run queries that span across multiple hops of the entity relationship graph. These APIs and helper functions are described in this notebook.\n",
    "\n",
    "## Runtime\n",
    "\n",
    "This notebook takes approximately 15 minutes to run.\n",
    "\n",
    "## Contents\n",
    "\n",
    "1. [Key Concepts](#Key-Concepts)\n",
    "1. [Prerequisites](#Prerequisites)\n",
    "1. [Notebook Overview](#Notebook-Overview)\n",
    "1. [Create an Experiment and Trial for a training job](#Create-an-Experiment-and-Trial-for-a-training-job)\n",
    "1. [Training Data](#Training-Data)\n",
    "1. [Create a training job](#Create-a-training-job)\n",
    "1. [Create a Model Package Group for the trained model to be registered](#Create-a-Model-Package-Group-for-the-trained-model-to-be-registered)\n",
    "1. [Register the model in the Model Registry](#Register-the-model-in-the-Model-Registry)\n",
    "1. [Deploy the model to a SageMaker Endpoint](#Deploy-the-model-to-a-SageMaker-Endpoint)\n",
    "1. [SageMaker Lineage Queries](#SageMaker-Lineage-Queries)\n",
    "    1. [Using the LineageQuery API to find entity associations](#Using-the-LineageQuery-API-to-find-entity-associations)\n",
    "        1. [Find all datasets associated with an Endpoint](#Find-all-datasets-associated-with-an-Endpoint)\n",
    "        1. [Find the models associated with an Endpoint](#Find-the-models-associated-with-an-Endpoint)\n",
    "        1. [Find the trial components associated with an Endpoint](#Find-the-trial-components-associated-with-an-Endpoint)\n",
    "    1. [Change the focal point of lineage](#Change-the-focal-point-of-lineage)\n",
    "    1. [Use LineageQueryDirectionEnum.BOTH](#Use-LineageQueryDirectionEnum.BOTH)\n",
    "    1. [Directions in LineageQuery: Ascendants vs. Descendants](#Directions-in-LineageQuery:-Ascendants-vs.-Descendants)\n",
    "    1. [SDK helper functions](#SDK-helper-functions)\n",
    "    1. [Lineage Graph Visualization](#Lineage-Graph-Visualization)\n",
    "1. [Conclusion](#Conclusion)\n",
    "1. [Cleanup](#Cleanup)\n",
    "\n",
    "\n",
    "## Key Concepts\n",
    "\n",
    "* **Lineage Graph** - A connected graph tracing your machine learning workflow end to end. \n",
    "* **Artifacts** - Represents a URI addressable object or data.  Artifacts are typically inputs or outputs to Actions.  \n",
    "* **Actions**  - Represents an action taken such as a computation, transformation, or job.  \n",
    "* **Contexts** - Provides a method to logically group other entities.\n",
    "* **Associations** - A directed edge in the lineage graph that links two entities.\n",
    "* **Lineage Traversal** - Starting from an arbitrary point trace the lineage graph to discover and analyze relationships between steps in your workflow.\n",
    "* **Experiments** - Experiment entites (Experiments, Trials, and Trial Components) are also part of the lineage graph and can be associated wtih Artifacts, Actions, or Contexts."
   ]
  },
  {
   "cell_type": "markdown",
   "id": "25d4a00f",
   "metadata": {
    "papermill": {
     "duration": 0.024683,
     "end_time": "2022-04-18T00:20:53.036514",
     "exception": false,
     "start_time": "2022-04-18T00:20:53.011831",
     "status": "completed"
    },
    "tags": []
   },
   "source": [
    "## Prerequisites\n",
    "\n",
    "[`sagemaker-experiments`](https://github.com/aws/sagemaker-experiments) and [`pyvis`]((https://pyvis.readthedocs.io/en/latest/)) are two Python libraries that need to be installed as part of this notebook execution. `pyvis` is a library designed for interactive network visualization and `sagemaker-experiments` gives users the ability to use SageMaker's Experiment Tracking capabilities. \n",
    "\n",
    "This notebook should be run with `Python 3.9` using the SageMaker Studio `Python3 (Data Science)` kernel. The `sagemaker` sdk version required for this notebook is `>2.70.0`.\n",
    "\n",
    "If running in SageMaker Classic Notebooks, use the `conda_python3` kernel. \n",
    "\n",
    "The AWS account running this notebook should have access to provision two instances of type `ml.m5.xlarge`. These instances are used for training and deploying a model."
   ]
  },
  {
   "cell_type": "markdown",
   "id": "0fee7359",
   "metadata": {
    "papermill": {
     "duration": 0.0244,
     "end_time": "2022-04-18T00:20:53.085482",
     "exception": false,
     "start_time": "2022-04-18T00:20:53.061082",
     "status": "completed"
    },
    "tags": []
   },
   "source": [
    "Let's start by installing the Python SDK, boto and AWS CLI."
   ]
  },
  {
   "cell_type": "code",
   "execution_count": 2,
   "id": "93adbfe7",
   "metadata": {
    "execution": {
     "iopub.execute_input": "2022-04-18T00:20:53.142364Z",
     "iopub.status.busy": "2022-04-18T00:20:53.141366Z",
     "iopub.status.idle": "2022-04-18T00:21:35.518839Z",
     "shell.execute_reply": "2022-04-18T00:21:35.519317Z"
    },
    "papermill": {
     "duration": 42.409595,
     "end_time": "2022-04-18T00:21:35.519466",
     "exception": false,
     "start_time": "2022-04-18T00:20:53.109871",
     "status": "completed"
    },
    "tags": []
   },
   "outputs": [
    {
     "name": "stdout",
     "output_type": "stream",
     "text": [
      "Requirement already satisfied: sagemaker in /usr/local/lib/python3.6/site-packages (2.69.1.dev0)\r\n"
     ]
    },
    {
     "name": "stdout",
     "output_type": "stream",
     "text": [
      "Collecting sagemaker\r\n"
     ]
    },
    {
     "name": "stdout",
     "output_type": "stream",
     "text": [
      "  Downloading sagemaker-2.86.2.tar.gz (521 kB)\r\n",
      "\u001b[?25l\r\n",
      "\u001b[K     |▋                               | 10 kB 19.8 MB/s eta 0:00:01\r\n",
      "\u001b[K     |█▎                              | 20 kB 23.3 MB/s eta 0:00:01\r\n",
      "\u001b[K     |█▉                              | 30 kB 4.7 MB/s eta 0:00:01\r\n",
      "\u001b[K     |██▌                             | 40 kB 5.5 MB/s eta 0:00:01\r\n",
      "\u001b[K     |███▏                            | 51 kB 4.0 MB/s eta 0:00:01\r\n",
      "\u001b[K     |███▊                            | 61 kB 4.7 MB/s eta 0:00:01\r\n",
      "\u001b[K     |████▍                           | 71 kB 5.1 MB/s eta 0:00:01\r\n",
      "\u001b[K     |█████                           | 81 kB 5.7 MB/s eta 0:00:01\r\n",
      "\u001b[K     |█████▋                          | 92 kB 6.4 MB/s eta 0:00:01\r\n",
      "\u001b[K     |██████▎                         | 102 kB 6.8 MB/s eta 0:00:01\r\n",
      "\u001b[K     |███████                         | 112 kB 6.8 MB/s eta 0:00:01\r\n",
      "\u001b[K     |███████▌                        | 122 kB 6.8 MB/s eta 0:00:01\r\n",
      "\u001b[K     |████████▏                       | 133 kB 6.8 MB/s eta 0:00:01\r\n",
      "\u001b[K     |████████▉                       | 143 kB 6.8 MB/s eta 0:00:01\r\n",
      "\u001b[K     |█████████▍                      | 153 kB 6.8 MB/s eta 0:00:01\r\n",
      "\u001b[K     |██████████                      | 163 kB 6.8 MB/s eta 0:00:01\r\n",
      "\u001b[K     |██████████▊                     | 174 kB 6.8 MB/s eta 0:00:01\r\n",
      "\u001b[K     |███████████▎                    | 184 kB 6.8 MB/s eta 0:00:01\r\n",
      "\u001b[K     |████████████                    | 194 kB 6.8 MB/s eta 0:00:01\r\n",
      "\u001b[K     |████████████▋                   | 204 kB 6.8 MB/s eta 0:00:01\r\n",
      "\u001b[K     |█████████████▏                  | 215 kB 6.8 MB/s eta 0:00:01\r\n",
      "\u001b[K     |█████████████▉                  | 225 kB 6.8 MB/s eta 0:00:01\r\n",
      "\u001b[K     |██████████████▌                 | 235 kB 6.8 MB/s eta 0:00:01\r\n",
      "\u001b[K     |███████████████                 | 245 kB 6.8 MB/s eta 0:00:01\r\n",
      "\u001b[K     |███████████████▊                | 256 kB 6.8 MB/s eta 0:00:01\r\n",
      "\u001b[K     |████████████████▎               | 266 kB 6.8 MB/s eta 0:00:01\r\n",
      "\u001b[K     |█████████████████               | 276 kB 6.8 MB/s eta 0:00:01\r\n",
      "\u001b[K     |█████████████████▋              | 286 kB 6.8 MB/s eta 0:00:01\r\n",
      "\u001b[K     |██████████████████▏             | 296 kB 6.8 MB/s eta 0:00:01\r\n",
      "\u001b[K     |██████████████████▉             | 307 kB 6.8 MB/s eta 0:00:01\r\n",
      "\u001b[K     |███████████████████▌            | 317 kB 6.8 MB/s eta 0:00:01\r\n",
      "\u001b[K     |████████████████████            | 327 kB 6.8 MB/s eta 0:00:01\r\n",
      "\u001b[K     |████████████████████▊           | 337 kB 6.8 MB/s eta 0:00:01\r\n",
      "\u001b[K     |█████████████████████▍          | 348 kB 6.8 MB/s eta 0:00:01\r\n",
      "\u001b[K     |██████████████████████          | 358 kB 6.8 MB/s eta 0:00:01\r\n",
      "\u001b[K     |██████████████████████▋         | 368 kB 6.8 MB/s eta 0:00:01\r\n",
      "\u001b[K     |███████████████████████▎        | 378 kB 6.8 MB/s eta 0:00:01\r\n",
      "\u001b[K     |███████████████████████▉        | 389 kB 6.8 MB/s eta 0:00:01\r\n",
      "\u001b[K     |████████████████████████▌       | 399 kB 6.8 MB/s eta 0:00:01\r\n",
      "\u001b[K     |█████████████████████████▏      | 409 kB 6.8 MB/s eta 0:00:01\r\n",
      "\u001b[K     |█████████████████████████▊      | 419 kB 6.8 MB/s eta 0:00:01\r\n",
      "\u001b[K     |██████████████████████████▍     | 430 kB 6.8 MB/s eta 0:00:01\r\n",
      "\u001b[K     |███████████████████████████     | 440 kB 6.8 MB/s eta 0:00:01\r\n",
      "\u001b[K     |███████████████████████████▋    | 450 kB 6.8 MB/s eta 0:00:01\r\n",
      "\u001b[K     |████████████████████████████▎   | 460 kB 6.8 MB/s eta 0:00:01\r\n",
      "\u001b[K     |█████████████████████████████   | 471 kB 6.8 MB/s eta 0:00:01\r\n",
      "\u001b[K     |█████████████████████████████▌  | 481 kB 6.8 MB/s eta 0:00:01\r\n",
      "\u001b[K     |██████████████████████████████▏ | 491 kB 6.8 MB/s eta 0:00:01\r\n",
      "\u001b[K     |██████████████████████████████▉ | 501 kB 6.8 MB/s eta 0:00:01\r\n",
      "\u001b[K     |███████████████████████████████▍| 512 kB 6.8 MB/s eta 0:00:01"
     ]
    },
    {
     "name": "stdout",
     "output_type": "stream",
     "text": [
      "\r\n",
      "\u001b[K     |████████████████████████████████| 521 kB 6.8 MB/s \r\n"
     ]
    },
    {
     "name": "stdout",
     "output_type": "stream",
     "text": [
      "\u001b[?25hRequirement already satisfied: botocore in /usr/local/lib/python3.6/site-packages (1.23.7)\r\n"
     ]
    },
    {
     "name": "stdout",
     "output_type": "stream",
     "text": [
      "Collecting botocore\r\n"
     ]
    },
    {
     "name": "stdout",
     "output_type": "stream",
     "text": [
      "  Downloading botocore-1.24.42-py3-none-any.whl (8.7 MB)\r\n",
      "\u001b[?25l\r\n",
      "\u001b[K     |                                | 10 kB 30.4 MB/s eta 0:00:01\r\n",
      "\u001b[K     |                                | 20 kB 35.1 MB/s eta 0:00:01\r\n",
      "\u001b[K     |▏                               | 30 kB 43.1 MB/s eta 0:00:01\r\n",
      "\u001b[K     |▏                               | 40 kB 47.0 MB/s eta 0:00:01\r\n",
      "\u001b[K     |▏                               | 51 kB 17.1 MB/s eta 0:00:01\r\n",
      "\u001b[K     |▎                               | 61 kB 19.6 MB/s eta 0:00:01\r\n",
      "\u001b[K     |▎                               | 71 kB 21.8 MB/s eta 0:00:01\r\n",
      "\u001b[K     |▎                               | 81 kB 24.0 MB/s eta 0:00:01\r\n",
      "\u001b[K     |▍                               | 92 kB 26.1 MB/s eta 0:00:01\r\n",
      "\u001b[K     |▍                               | 102 kB 28.0 MB/s eta 0:00:01\r\n",
      "\u001b[K     |▍                               | 112 kB 28.0 MB/s eta 0:00:01\r\n",
      "\u001b[K     |▌                               | 122 kB 28.0 MB/s eta 0:00:01\r\n",
      "\u001b[K     |▌                               | 133 kB 28.0 MB/s eta 0:00:01\r\n",
      "\u001b[K     |▌                               | 143 kB 28.0 MB/s eta 0:00:01\r\n",
      "\u001b[K     |▋                               | 153 kB 28.0 MB/s eta 0:00:01\r\n",
      "\u001b[K     |▋                               | 163 kB 28.0 MB/s eta 0:00:01\r\n",
      "\u001b[K     |▋                               | 174 kB 28.0 MB/s eta 0:00:01\r\n",
      "\u001b[K     |▊                               | 184 kB 28.0 MB/s eta 0:00:01\r\n",
      "\u001b[K     |▊                               | 194 kB 28.0 MB/s eta 0:00:01\r\n",
      "\u001b[K     |▊                               | 204 kB 28.0 MB/s eta 0:00:01\r\n",
      "\u001b[K     |▉                               | 215 kB 28.0 MB/s eta 0:00:01\r\n",
      "\u001b[K     |▉                               | 225 kB 28.0 MB/s eta 0:00:01\r\n",
      "\u001b[K     |▉                               | 235 kB 28.0 MB/s eta 0:00:01\r\n",
      "\u001b[K     |█                               | 245 kB 28.0 MB/s eta 0:00:01\r\n",
      "\u001b[K     |█                               | 256 kB 28.0 MB/s eta 0:00:01\r\n",
      "\u001b[K     |█                               | 266 kB 28.0 MB/s eta 0:00:01\r\n",
      "\u001b[K     |█                               | 276 kB 28.0 MB/s eta 0:00:01\r\n",
      "\u001b[K     |█                               | 286 kB 28.0 MB/s eta 0:00:01\r\n",
      "\u001b[K     |█                               | 296 kB 28.0 MB/s eta 0:00:01\r\n",
      "\u001b[K     |█▏                              | 307 kB 28.0 MB/s eta 0:00:01\r\n",
      "\u001b[K     |█▏                              | 317 kB 28.0 MB/s eta 0:00:01\r\n",
      "\u001b[K     |█▏                              | 327 kB 28.0 MB/s eta 0:00:01\r\n",
      "\u001b[K     |█▎                              | 337 kB 28.0 MB/s eta 0:00:01\r\n",
      "\u001b[K     |█▎                              | 348 kB 28.0 MB/s eta 0:00:01\r\n",
      "\u001b[K     |█▎                              | 358 kB 28.0 MB/s eta 0:00:01\r\n",
      "\u001b[K     |█▍                              | 368 kB 28.0 MB/s eta 0:00:01\r\n",
      "\u001b[K     |█▍                              | 378 kB 28.0 MB/s eta 0:00:01\r\n",
      "\u001b[K     |█▍                              | 389 kB 28.0 MB/s eta 0:00:01\r\n",
      "\u001b[K     |█▌                              | 399 kB 28.0 MB/s eta 0:00:01\r\n",
      "\u001b[K     |█▌                              | 409 kB 28.0 MB/s eta 0:00:01\r\n",
      "\u001b[K     |█▌                              | 419 kB 28.0 MB/s eta 0:00:01\r\n",
      "\u001b[K     |█▋                              | 430 kB 28.0 MB/s eta 0:00:01\r\n",
      "\u001b[K     |█▋                              | 440 kB 28.0 MB/s eta 0:00:01\r\n",
      "\u001b[K     |█▋                              | 450 kB 28.0 MB/s eta 0:00:01\r\n",
      "\u001b[K     |█▊                              | 460 kB 28.0 MB/s eta 0:00:01\r\n",
      "\u001b[K     |█▊                              | 471 kB 28.0 MB/s eta 0:00:01\r\n",
      "\u001b[K     |█▊                              | 481 kB 28.0 MB/s eta 0:00:01\r\n",
      "\u001b[K     |█▉                              | 491 kB 28.0 MB/s eta 0:00:01\r\n",
      "\u001b[K     |█▉                              | 501 kB 28.0 MB/s eta 0:00:01\r\n",
      "\u001b[K     |██                              | 512 kB 28.0 MB/s eta 0:00:01\r\n",
      "\u001b[K     |██                              | 522 kB 28.0 MB/s eta 0:00:01\r\n",
      "\u001b[K     |██                              | 532 kB 28.0 MB/s eta 0:00:01\r\n",
      "\u001b[K     |██                              | 542 kB 28.0 MB/s eta 0:00:01\r\n",
      "\u001b[K     |██                              | 552 kB 28.0 MB/s eta 0:00:01\r\n",
      "\u001b[K     |██                              | 563 kB 28.0 MB/s eta 0:00:01\r\n",
      "\u001b[K     |██▏                             | 573 kB 28.0 MB/s eta 0:00:01\r\n",
      "\u001b[K     |██▏                             | 583 kB 28.0 MB/s eta 0:00:01\r\n",
      "\u001b[K     |██▏                             | 593 kB 28.0 MB/s eta 0:00:01\r\n",
      "\u001b[K     |██▎                             | 604 kB 28.0 MB/s eta 0:00:01\r\n",
      "\u001b[K     |██▎                             | 614 kB 28.0 MB/s eta 0:00:01\r\n",
      "\u001b[K     |██▎                             | 624 kB 28.0 MB/s eta 0:00:01\r\n",
      "\u001b[K     |██▍                             | 634 kB 28.0 MB/s eta 0:00:01\r\n",
      "\u001b[K     |██▍                             | 645 kB 28.0 MB/s eta 0:00:01\r\n",
      "\u001b[K     |██▍                             | 655 kB 28.0 MB/s eta 0:00:01\r\n",
      "\u001b[K     |██▌                             | 665 kB 28.0 MB/s eta 0:00:01\r\n",
      "\u001b[K     |██▌                             | 675 kB 28.0 MB/s eta 0:00:01\r\n",
      "\u001b[K     |██▌                             | 686 kB 28.0 MB/s eta 0:00:01\r\n",
      "\u001b[K     |██▋                             | 696 kB 28.0 MB/s eta 0:00:01\r\n",
      "\u001b[K     |██▋                             | 706 kB 28.0 MB/s eta 0:00:01\r\n",
      "\u001b[K     |██▋                             | 716 kB 28.0 MB/s eta 0:00:01\r\n",
      "\u001b[K     |██▊                             | 727 kB 28.0 MB/s eta 0:00:01\r\n",
      "\u001b[K     |██▊                             | 737 kB 28.0 MB/s eta 0:00:01\r\n",
      "\u001b[K     |██▊                             | 747 kB 28.0 MB/s eta 0:00:01\r\n",
      "\u001b[K     |██▉                             | 757 kB 28.0 MB/s eta 0:00:01\r\n",
      "\u001b[K     |██▉                             | 768 kB 28.0 MB/s eta 0:00:01\r\n",
      "\u001b[K     |██▉                             | 778 kB 28.0 MB/s eta 0:00:01\r\n",
      "\u001b[K     |███                             | 788 kB 28.0 MB/s eta 0:00:01\r\n",
      "\u001b[K     |███                             | 798 kB 28.0 MB/s eta 0:00:01\r\n",
      "\u001b[K     |███                             | 808 kB 28.0 MB/s eta 0:00:01\r\n",
      "\u001b[K     |███                             | 819 kB 28.0 MB/s eta 0:00:01\r\n",
      "\u001b[K     |███                             | 829 kB 28.0 MB/s eta 0:00:01\r\n",
      "\u001b[K     |███                             | 839 kB 28.0 MB/s eta 0:00:01\r\n",
      "\u001b[K     |███▏                            | 849 kB 28.0 MB/s eta 0:00:01\r\n",
      "\u001b[K     |███▏                            | 860 kB 28.0 MB/s eta 0:00:01\r\n",
      "\u001b[K     |███▏                            | 870 kB 28.0 MB/s eta 0:00:01\r\n",
      "\u001b[K     |███▎                            | 880 kB 28.0 MB/s eta 0:00:01\r\n",
      "\u001b[K     |███▎                            | 890 kB 28.0 MB/s eta 0:00:01\r\n",
      "\u001b[K     |███▎                            | 901 kB 28.0 MB/s eta 0:00:01\r\n",
      "\u001b[K     |███▍                            | 911 kB 28.0 MB/s eta 0:00:01\r\n",
      "\u001b[K     |███▍                            | 921 kB 28.0 MB/s eta 0:00:01\r\n",
      "\u001b[K     |███▍                            | 931 kB 28.0 MB/s eta 0:00:01\r\n",
      "\u001b[K     |███▌                            | 942 kB 28.0 MB/s eta 0:00:01\r\n",
      "\u001b[K     |███▌                            | 952 kB 28.0 MB/s eta 0:00:01\r\n",
      "\u001b[K     |███▌                            | 962 kB 28.0 MB/s eta 0:00:01\r\n",
      "\u001b[K     |███▋                            | 972 kB 28.0 MB/s eta 0:00:01\r\n",
      "\u001b[K     |███▋                            | 983 kB 28.0 MB/s eta 0:00:01"
     ]
    },
    {
     "name": "stdout",
     "output_type": "stream",
     "text": [
      "\r\n",
      "\u001b[K     |███▊                            | 993 kB 28.0 MB/s eta 0:00:01\r\n",
      "\u001b[K     |███▊                            | 1.0 MB 28.0 MB/s eta 0:00:01\r\n",
      "\u001b[K     |███▊                            | 1.0 MB 28.0 MB/s eta 0:00:01\r\n",
      "\u001b[K     |███▉                            | 1.0 MB 28.0 MB/s eta 0:00:01\r\n",
      "\u001b[K     |███▉                            | 1.0 MB 28.0 MB/s eta 0:00:01\r\n",
      "\u001b[K     |███▉                            | 1.0 MB 28.0 MB/s eta 0:00:01\r\n",
      "\u001b[K     |████                            | 1.1 MB 28.0 MB/s eta 0:00:01\r\n",
      "\u001b[K     |████                            | 1.1 MB 28.0 MB/s eta 0:00:01\r\n",
      "\u001b[K     |████                            | 1.1 MB 28.0 MB/s eta 0:00:01\r\n",
      "\u001b[K     |████                            | 1.1 MB 28.0 MB/s eta 0:00:01\r\n",
      "\u001b[K     |████                            | 1.1 MB 28.0 MB/s eta 0:00:01\r\n",
      "\u001b[K     |████                            | 1.1 MB 28.0 MB/s eta 0:00:01\r\n",
      "\u001b[K     |████▏                           | 1.1 MB 28.0 MB/s eta 0:00:01\r\n",
      "\u001b[K     |████▏                           | 1.1 MB 28.0 MB/s eta 0:00:01\r\n",
      "\u001b[K     |████▏                           | 1.1 MB 28.0 MB/s eta 0:00:01\r\n",
      "\u001b[K     |████▎                           | 1.1 MB 28.0 MB/s eta 0:00:01\r\n",
      "\u001b[K     |████▎                           | 1.2 MB 28.0 MB/s eta 0:00:01\r\n",
      "\u001b[K     |████▎                           | 1.2 MB 28.0 MB/s eta 0:00:01\r\n",
      "\u001b[K     |████▍                           | 1.2 MB 28.0 MB/s eta 0:00:01\r\n",
      "\u001b[K     |████▍                           | 1.2 MB 28.0 MB/s eta 0:00:01\r\n",
      "\u001b[K     |████▍                           | 1.2 MB 28.0 MB/s eta 0:00:01\r\n",
      "\u001b[K     |████▌                           | 1.2 MB 28.0 MB/s eta 0:00:01\r\n",
      "\u001b[K     |████▌                           | 1.2 MB 28.0 MB/s eta 0:00:01\r\n",
      "\u001b[K     |████▌                           | 1.2 MB 28.0 MB/s eta 0:00:01\r\n",
      "\u001b[K     |████▋                           | 1.2 MB 28.0 MB/s eta 0:00:01\r\n",
      "\u001b[K     |████▋                           | 1.2 MB 28.0 MB/s eta 0:00:01\r\n",
      "\u001b[K     |████▋                           | 1.3 MB 28.0 MB/s eta 0:00:01\r\n",
      "\u001b[K     |████▊                           | 1.3 MB 28.0 MB/s eta 0:00:01\r\n",
      "\u001b[K     |████▊                           | 1.3 MB 28.0 MB/s eta 0:00:01\r\n",
      "\u001b[K     |████▊                           | 1.3 MB 28.0 MB/s eta 0:00:01\r\n",
      "\u001b[K     |████▉                           | 1.3 MB 28.0 MB/s eta 0:00:01\r\n",
      "\u001b[K     |████▉                           | 1.3 MB 28.0 MB/s eta 0:00:01\r\n",
      "\u001b[K     |████▉                           | 1.3 MB 28.0 MB/s eta 0:00:01\r\n",
      "\u001b[K     |█████                           | 1.3 MB 28.0 MB/s eta 0:00:01\r\n",
      "\u001b[K     |█████                           | 1.3 MB 28.0 MB/s eta 0:00:01\r\n",
      "\u001b[K     |█████                           | 1.4 MB 28.0 MB/s eta 0:00:01\r\n",
      "\u001b[K     |█████                           | 1.4 MB 28.0 MB/s eta 0:00:01\r\n",
      "\u001b[K     |█████                           | 1.4 MB 28.0 MB/s eta 0:00:01\r\n",
      "\u001b[K     |█████                           | 1.4 MB 28.0 MB/s eta 0:00:01\r\n",
      "\u001b[K     |█████▏                          | 1.4 MB 28.0 MB/s eta 0:00:01\r\n",
      "\u001b[K     |█████▏                          | 1.4 MB 28.0 MB/s eta 0:00:01\r\n",
      "\u001b[K     |█████▏                          | 1.4 MB 28.0 MB/s eta 0:00:01\r\n",
      "\u001b[K     |█████▎                          | 1.4 MB 28.0 MB/s eta 0:00:01\r\n",
      "\u001b[K     |█████▎                          | 1.4 MB 28.0 MB/s eta 0:00:01\r\n",
      "\u001b[K     |█████▎                          | 1.4 MB 28.0 MB/s eta 0:00:01\r\n",
      "\u001b[K     |█████▍                          | 1.5 MB 28.0 MB/s eta 0:00:01\r\n",
      "\u001b[K     |█████▍                          | 1.5 MB 28.0 MB/s eta 0:00:01\r\n",
      "\u001b[K     |█████▌                          | 1.5 MB 28.0 MB/s eta 0:00:01\r\n",
      "\u001b[K     |█████▌                          | 1.5 MB 28.0 MB/s eta 0:00:01\r\n",
      "\u001b[K     |█████▌                          | 1.5 MB 28.0 MB/s eta 0:00:01\r\n",
      "\u001b[K     |█████▋                          | 1.5 MB 28.0 MB/s eta 0:00:01\r\n",
      "\u001b[K     |█████▋                          | 1.5 MB 28.0 MB/s eta 0:00:01\r\n",
      "\u001b[K     |█████▋                          | 1.5 MB 28.0 MB/s eta 0:00:01\r\n",
      "\u001b[K     |█████▊                          | 1.5 MB 28.0 MB/s eta 0:00:01\r\n",
      "\u001b[K     |█████▊                          | 1.5 MB 28.0 MB/s eta 0:00:01\r\n",
      "\u001b[K     |█████▊                          | 1.6 MB 28.0 MB/s eta 0:00:01\r\n",
      "\u001b[K     |█████▉                          | 1.6 MB 28.0 MB/s eta 0:00:01\r\n",
      "\u001b[K     |█████▉                          | 1.6 MB 28.0 MB/s eta 0:00:01\r\n",
      "\u001b[K     |█████▉                          | 1.6 MB 28.0 MB/s eta 0:00:01\r\n",
      "\u001b[K     |██████                          | 1.6 MB 28.0 MB/s eta 0:00:01\r\n",
      "\u001b[K     |██████                          | 1.6 MB 28.0 MB/s eta 0:00:01\r\n",
      "\u001b[K     |██████                          | 1.6 MB 28.0 MB/s eta 0:00:01\r\n",
      "\u001b[K     |██████                          | 1.6 MB 28.0 MB/s eta 0:00:01\r\n",
      "\u001b[K     |██████                          | 1.6 MB 28.0 MB/s eta 0:00:01\r\n",
      "\u001b[K     |██████                          | 1.6 MB 28.0 MB/s eta 0:00:01\r\n",
      "\u001b[K     |██████▏                         | 1.7 MB 28.0 MB/s eta 0:00:01\r\n",
      "\u001b[K     |██████▏                         | 1.7 MB 28.0 MB/s eta 0:00:01\r\n",
      "\u001b[K     |██████▏                         | 1.7 MB 28.0 MB/s eta 0:00:01\r\n",
      "\u001b[K     |██████▎                         | 1.7 MB 28.0 MB/s eta 0:00:01\r\n",
      "\u001b[K     |██████▎                         | 1.7 MB 28.0 MB/s eta 0:00:01\r\n",
      "\u001b[K     |██████▎                         | 1.7 MB 28.0 MB/s eta 0:00:01\r\n",
      "\u001b[K     |██████▍                         | 1.7 MB 28.0 MB/s eta 0:00:01\r\n",
      "\u001b[K     |██████▍                         | 1.7 MB 28.0 MB/s eta 0:00:01\r\n",
      "\u001b[K     |██████▍                         | 1.7 MB 28.0 MB/s eta 0:00:01\r\n",
      "\u001b[K     |██████▌                         | 1.8 MB 28.0 MB/s eta 0:00:01\r\n",
      "\u001b[K     |██████▌                         | 1.8 MB 28.0 MB/s eta 0:00:01\r\n",
      "\u001b[K     |██████▌                         | 1.8 MB 28.0 MB/s eta 0:00:01\r\n",
      "\u001b[K     |██████▋                         | 1.8 MB 28.0 MB/s eta 0:00:01\r\n",
      "\u001b[K     |██████▋                         | 1.8 MB 28.0 MB/s eta 0:00:01\r\n",
      "\u001b[K     |██████▋                         | 1.8 MB 28.0 MB/s eta 0:00:01\r\n",
      "\u001b[K     |██████▊                         | 1.8 MB 28.0 MB/s eta 0:00:01\r\n",
      "\u001b[K     |██████▊                         | 1.8 MB 28.0 MB/s eta 0:00:01\r\n",
      "\u001b[K     |██████▊                         | 1.8 MB 28.0 MB/s eta 0:00:01\r\n",
      "\u001b[K     |██████▉                         | 1.8 MB 28.0 MB/s eta 0:00:01\r\n",
      "\u001b[K     |██████▉                         | 1.9 MB 28.0 MB/s eta 0:00:01\r\n",
      "\u001b[K     |██████▉                         | 1.9 MB 28.0 MB/s eta 0:00:01\r\n",
      "\u001b[K     |███████                         | 1.9 MB 28.0 MB/s eta 0:00:01\r\n",
      "\u001b[K     |███████                         | 1.9 MB 28.0 MB/s eta 0:00:01\r\n",
      "\u001b[K     |███████                         | 1.9 MB 28.0 MB/s eta 0:00:01\r\n",
      "\u001b[K     |███████                         | 1.9 MB 28.0 MB/s eta 0:00:01\r\n",
      "\u001b[K     |███████                         | 1.9 MB 28.0 MB/s eta 0:00:01\r\n",
      "\u001b[K     |███████                         | 1.9 MB 28.0 MB/s eta 0:00:01\r\n",
      "\u001b[K     |███████▏                        | 1.9 MB 28.0 MB/s eta 0:00:01\r\n",
      "\u001b[K     |███████▏                        | 1.9 MB 28.0 MB/s eta 0:00:01\r\n",
      "\u001b[K     |███████▏                        | 2.0 MB 28.0 MB/s eta 0:00:01\r\n",
      "\u001b[K     |███████▎                        | 2.0 MB 28.0 MB/s eta 0:00:01\r\n",
      "\u001b[K     |███████▎                        | 2.0 MB 28.0 MB/s eta 0:00:01\r\n",
      "\u001b[K     |███████▍                        | 2.0 MB 28.0 MB/s eta 0:00:01\r\n",
      "\u001b[K     |███████▍                        | 2.0 MB 28.0 MB/s eta 0:00:01\r\n",
      "\u001b[K     |███████▍                        | 2.0 MB 28.0 MB/s eta 0:00:01\r\n",
      "\u001b[K     |███████▌                        | 2.0 MB 28.0 MB/s eta 0:00:01\r\n",
      "\u001b[K     |███████▌                        | 2.0 MB 28.0 MB/s eta 0:00:01\r\n",
      "\u001b[K     |███████▌                        | 2.0 MB 28.0 MB/s eta 0:00:01\r\n",
      "\u001b[K     |███████▋                        | 2.0 MB 28.0 MB/s eta 0:00:01\r\n",
      "\u001b[K     |███████▋                        | 2.1 MB 28.0 MB/s eta 0:00:01\r\n",
      "\u001b[K     |███████▋                        | 2.1 MB 28.0 MB/s eta 0:00:01\r\n",
      "\u001b[K     |███████▊                        | 2.1 MB 28.0 MB/s eta 0:00:01\r\n",
      "\u001b[K     |███████▊                        | 2.1 MB 28.0 MB/s eta 0:00:01\r\n",
      "\u001b[K     |███████▊                        | 2.1 MB 28.0 MB/s eta 0:00:01\r\n",
      "\u001b[K     |███████▉                        | 2.1 MB 28.0 MB/s eta 0:00:01\r\n",
      "\u001b[K     |███████▉                        | 2.1 MB 28.0 MB/s eta 0:00:01\r\n",
      "\u001b[K     |███████▉                        | 2.1 MB 28.0 MB/s eta 0:00:01\r\n",
      "\u001b[K     |████████                        | 2.1 MB 28.0 MB/s eta 0:00:01\r\n",
      "\u001b[K     |████████                        | 2.2 MB 28.0 MB/s eta 0:00:01\r\n",
      "\u001b[K     |████████                        | 2.2 MB 28.0 MB/s eta 0:00:01\r\n",
      "\u001b[K     |████████                        | 2.2 MB 28.0 MB/s eta 0:00:01\r\n",
      "\u001b[K     |████████                        | 2.2 MB 28.0 MB/s eta 0:00:01\r\n",
      "\u001b[K     |████████                        | 2.2 MB 28.0 MB/s eta 0:00:01\r\n",
      "\u001b[K     |████████▏                       | 2.2 MB 28.0 MB/s eta 0:00:01\r\n",
      "\u001b[K     |████████▏                       | 2.2 MB 28.0 MB/s eta 0:00:01\r\n",
      "\u001b[K     |████████▏                       | 2.2 MB 28.0 MB/s eta 0:00:01\r\n",
      "\u001b[K     |████████▎                       | 2.2 MB 28.0 MB/s eta 0:00:01\r\n",
      "\u001b[K     |████████▎                       | 2.2 MB 28.0 MB/s eta 0:00:01\r\n",
      "\u001b[K     |████████▎                       | 2.3 MB 28.0 MB/s eta 0:00:01\r\n",
      "\u001b[K     |████████▍                       | 2.3 MB 28.0 MB/s eta 0:00:01\r\n",
      "\u001b[K     |████████▍                       | 2.3 MB 28.0 MB/s eta 0:00:01\r\n",
      "\u001b[K     |████████▍                       | 2.3 MB 28.0 MB/s eta 0:00:01\r\n",
      "\u001b[K     |████████▌                       | 2.3 MB 28.0 MB/s eta 0:00:01\r\n",
      "\u001b[K     |████████▌                       | 2.3 MB 28.0 MB/s eta 0:00:01\r\n",
      "\u001b[K     |████████▌                       | 2.3 MB 28.0 MB/s eta 0:00:01\r\n",
      "\u001b[K     |████████▋                       | 2.3 MB 28.0 MB/s eta 0:00:01\r\n",
      "\u001b[K     |████████▋                       | 2.3 MB 28.0 MB/s eta 0:00:01\r\n",
      "\u001b[K     |████████▋                       | 2.3 MB 28.0 MB/s eta 0:00:01\r\n",
      "\u001b[K     |████████▊                       | 2.4 MB 28.0 MB/s eta 0:00:01\r\n",
      "\u001b[K     |████████▊                       | 2.4 MB 28.0 MB/s eta 0:00:01\r\n",
      "\u001b[K     |████████▊                       | 2.4 MB 28.0 MB/s eta 0:00:01\r\n",
      "\u001b[K     |████████▉                       | 2.4 MB 28.0 MB/s eta 0:00:01\r\n",
      "\u001b[K     |████████▉                       | 2.4 MB 28.0 MB/s eta 0:00:01\r\n",
      "\u001b[K     |████████▉                       | 2.4 MB 28.0 MB/s eta 0:00:01\r\n",
      "\u001b[K     |█████████                       | 2.4 MB 28.0 MB/s eta 0:00:01\r\n",
      "\u001b[K     |█████████                       | 2.4 MB 28.0 MB/s eta 0:00:01\r\n",
      "\u001b[K     |█████████                       | 2.4 MB 28.0 MB/s eta 0:00:01\r\n",
      "\u001b[K     |█████████                       | 2.4 MB 28.0 MB/s eta 0:00:01\r\n",
      "\u001b[K     |█████████                       | 2.5 MB 28.0 MB/s eta 0:00:01\r\n",
      "\u001b[K     |█████████▏                      | 2.5 MB 28.0 MB/s eta 0:00:01\r\n",
      "\u001b[K     |█████████▏                      | 2.5 MB 28.0 MB/s eta 0:00:01\r\n",
      "\u001b[K     |█████████▏                      | 2.5 MB 28.0 MB/s eta 0:00:01\r\n",
      "\u001b[K     |█████████▎                      | 2.5 MB 28.0 MB/s eta 0:00:01\r\n",
      "\u001b[K     |█████████▎                      | 2.5 MB 28.0 MB/s eta 0:00:01\r\n",
      "\u001b[K     |█████████▎                      | 2.5 MB 28.0 MB/s eta 0:00:01\r\n",
      "\u001b[K     |█████████▍                      | 2.5 MB 28.0 MB/s eta 0:00:01\r\n",
      "\u001b[K     |█████████▍                      | 2.5 MB 28.0 MB/s eta 0:00:01\r\n",
      "\u001b[K     |█████████▍                      | 2.5 MB 28.0 MB/s eta 0:00:01\r\n",
      "\u001b[K     |█████████▌                      | 2.6 MB 28.0 MB/s eta 0:00:01\r\n",
      "\u001b[K     |█████████▌                      | 2.6 MB 28.0 MB/s eta 0:00:01\r\n",
      "\u001b[K     |█████████▌                      | 2.6 MB 28.0 MB/s eta 0:00:01\r\n",
      "\u001b[K     |█████████▋                      | 2.6 MB 28.0 MB/s eta 0:00:01\r\n",
      "\u001b[K     |█████████▋                      | 2.6 MB 28.0 MB/s eta 0:00:01\r\n",
      "\u001b[K     |█████████▋                      | 2.6 MB 28.0 MB/s eta 0:00:01\r\n",
      "\u001b[K     |█████████▊                      | 2.6 MB 28.0 MB/s eta 0:00:01\r\n",
      "\u001b[K     |█████████▊                      | 2.6 MB 28.0 MB/s eta 0:00:01\r\n",
      "\u001b[K     |█████████▊                      | 2.6 MB 28.0 MB/s eta 0:00:01\r\n",
      "\u001b[K     |█████████▉                      | 2.7 MB 28.0 MB/s eta 0:00:01\r\n",
      "\u001b[K     |█████████▉                      | 2.7 MB 28.0 MB/s eta 0:00:01\r\n",
      "\u001b[K     |█████████▉                      | 2.7 MB 28.0 MB/s eta 0:00:01\r\n",
      "\u001b[K     |██████████                      | 2.7 MB 28.0 MB/s eta 0:00:01\r\n",
      "\u001b[K     |██████████                      | 2.7 MB 28.0 MB/s eta 0:00:01\r\n",
      "\u001b[K     |██████████                      | 2.7 MB 28.0 MB/s eta 0:00:01\r\n",
      "\u001b[K     |██████████                      | 2.7 MB 28.0 MB/s eta 0:00:01\r\n",
      "\u001b[K     |██████████                      | 2.7 MB 28.0 MB/s eta 0:00:01\r\n",
      "\u001b[K     |██████████                      | 2.7 MB 28.0 MB/s eta 0:00:01\r\n",
      "\u001b[K     |██████████▏                     | 2.7 MB 28.0 MB/s eta 0:00:01\r\n",
      "\u001b[K     |██████████▏                     | 2.8 MB 28.0 MB/s eta 0:00:01\r\n",
      "\u001b[K     |██████████▏                     | 2.8 MB 28.0 MB/s eta 0:00:01\r\n",
      "\u001b[K     |██████████▎                     | 2.8 MB 28.0 MB/s eta 0:00:01\r\n",
      "\u001b[K     |██████████▎                     | 2.8 MB 28.0 MB/s eta 0:00:01\r\n",
      "\u001b[K     |██████████▎                     | 2.8 MB 28.0 MB/s eta 0:00:01\r\n",
      "\u001b[K     |██████████▍                     | 2.8 MB 28.0 MB/s eta 0:00:01\r\n",
      "\u001b[K     |██████████▍                     | 2.8 MB 28.0 MB/s eta 0:00:01\r\n",
      "\u001b[K     |██████████▍                     | 2.8 MB 28.0 MB/s eta 0:00:01\r\n",
      "\u001b[K     |██████████▌                     | 2.8 MB 28.0 MB/s eta 0:00:01\r\n",
      "\u001b[K     |██████████▌                     | 2.8 MB 28.0 MB/s eta 0:00:01\r\n",
      "\u001b[K     |██████████▌                     | 2.9 MB 28.0 MB/s eta 0:00:01\r\n",
      "\u001b[K     |██████████▋                     | 2.9 MB 28.0 MB/s eta 0:00:01\r\n",
      "\u001b[K     |██████████▋                     | 2.9 MB 28.0 MB/s eta 0:00:01\r\n",
      "\u001b[K     |██████████▋                     | 2.9 MB 28.0 MB/s eta 0:00:01\r\n",
      "\u001b[K     |██████████▊                     | 2.9 MB 28.0 MB/s eta 0:00:01\r\n",
      "\u001b[K     |██████████▊                     | 2.9 MB 28.0 MB/s eta 0:00:01\r\n",
      "\u001b[K     |██████████▊                     | 2.9 MB 28.0 MB/s eta 0:00:01\r\n",
      "\u001b[K     |██████████▉                     | 2.9 MB 28.0 MB/s eta 0:00:01\r\n",
      "\u001b[K     |██████████▉                     | 2.9 MB 28.0 MB/s eta 0:00:01\r\n",
      "\u001b[K     |███████████                     | 2.9 MB 28.0 MB/s eta 0:00:01\r\n",
      "\u001b[K     |███████████                     | 3.0 MB 28.0 MB/s eta 0:00:01\r\n",
      "\u001b[K     |███████████                     | 3.0 MB 28.0 MB/s eta 0:00:01\r\n",
      "\u001b[K     |███████████                     | 3.0 MB 28.0 MB/s eta 0:00:01\r\n",
      "\u001b[K     |███████████                     | 3.0 MB 28.0 MB/s eta 0:00:01\r\n",
      "\u001b[K     |███████████                     | 3.0 MB 28.0 MB/s eta 0:00:01\r\n",
      "\u001b[K     |███████████▏                    | 3.0 MB 28.0 MB/s eta 0:00:01\r\n",
      "\u001b[K     |███████████▏                    | 3.0 MB 28.0 MB/s eta 0:00:01\r\n",
      "\u001b[K     |███████████▏                    | 3.0 MB 28.0 MB/s eta 0:00:01\r\n",
      "\u001b[K     |███████████▎                    | 3.0 MB 28.0 MB/s eta 0:00:01\r\n",
      "\u001b[K     |███████████▎                    | 3.1 MB 28.0 MB/s eta 0:00:01\r\n",
      "\u001b[K     |███████████▎                    | 3.1 MB 28.0 MB/s eta 0:00:01\r\n",
      "\u001b[K     |███████████▍                    | 3.1 MB 28.0 MB/s eta 0:00:01\r\n",
      "\u001b[K     |███████████▍                    | 3.1 MB 28.0 MB/s eta 0:00:01\r\n",
      "\u001b[K     |███████████▍                    | 3.1 MB 28.0 MB/s eta 0:00:01\r\n",
      "\u001b[K     |███████████▌                    | 3.1 MB 28.0 MB/s eta 0:00:01\r\n",
      "\u001b[K     |███████████▌                    | 3.1 MB 28.0 MB/s eta 0:00:01\r\n",
      "\u001b[K     |███████████▌                    | 3.1 MB 28.0 MB/s eta 0:00:01\r\n",
      "\u001b[K     |███████████▋                    | 3.1 MB 28.0 MB/s eta 0:00:01\r\n",
      "\u001b[K     |███████████▋                    | 3.1 MB 28.0 MB/s eta 0:00:01\r\n",
      "\u001b[K     |███████████▋                    | 3.2 MB 28.0 MB/s eta 0:00:01\r\n",
      "\u001b[K     |███████████▊                    | 3.2 MB 28.0 MB/s eta 0:00:01\r\n",
      "\u001b[K     |███████████▊                    | 3.2 MB 28.0 MB/s eta 0:00:01\r\n",
      "\u001b[K     |███████████▊                    | 3.2 MB 28.0 MB/s eta 0:00:01\r\n",
      "\u001b[K     |███████████▉                    | 3.2 MB 28.0 MB/s eta 0:00:01\r\n",
      "\u001b[K     |███████████▉                    | 3.2 MB 28.0 MB/s eta 0:00:01\r\n",
      "\u001b[K     |███████████▉                    | 3.2 MB 28.0 MB/s eta 0:00:01\r\n",
      "\u001b[K     |████████████                    | 3.2 MB 28.0 MB/s eta 0:00:01\r\n",
      "\u001b[K     |████████████                    | 3.2 MB 28.0 MB/s eta 0:00:01\r\n",
      "\u001b[K     |████████████                    | 3.2 MB 28.0 MB/s eta 0:00:01\r\n",
      "\u001b[K     |████████████                    | 3.3 MB 28.0 MB/s eta 0:00:01\r\n",
      "\u001b[K     |████████████                    | 3.3 MB 28.0 MB/s eta 0:00:01"
     ]
    },
    {
     "name": "stdout",
     "output_type": "stream",
     "text": [
      "\r\n",
      "\u001b[K     |████████████                    | 3.3 MB 28.0 MB/s eta 0:00:01\r\n",
      "\u001b[K     |████████████▏                   | 3.3 MB 28.0 MB/s eta 0:00:01\r\n",
      "\u001b[K     |████████████▏                   | 3.3 MB 28.0 MB/s eta 0:00:01\r\n",
      "\u001b[K     |████████████▏                   | 3.3 MB 28.0 MB/s eta 0:00:01\r\n",
      "\u001b[K     |████████████▎                   | 3.3 MB 28.0 MB/s eta 0:00:01\r\n",
      "\u001b[K     |████████████▎                   | 3.3 MB 28.0 MB/s eta 0:00:01\r\n",
      "\u001b[K     |████████████▎                   | 3.3 MB 28.0 MB/s eta 0:00:01\r\n",
      "\u001b[K     |████████████▍                   | 3.3 MB 28.0 MB/s eta 0:00:01\r\n",
      "\u001b[K     |████████████▍                   | 3.4 MB 28.0 MB/s eta 0:00:01\r\n",
      "\u001b[K     |████████████▍                   | 3.4 MB 28.0 MB/s eta 0:00:01\r\n",
      "\u001b[K     |████████████▌                   | 3.4 MB 28.0 MB/s eta 0:00:01\r\n",
      "\u001b[K     |████████████▌                   | 3.4 MB 28.0 MB/s eta 0:00:01\r\n",
      "\u001b[K     |████████████▌                   | 3.4 MB 28.0 MB/s eta 0:00:01\r\n",
      "\u001b[K     |████████████▋                   | 3.4 MB 28.0 MB/s eta 0:00:01\r\n",
      "\u001b[K     |████████████▋                   | 3.4 MB 28.0 MB/s eta 0:00:01\r\n",
      "\u001b[K     |████████████▋                   | 3.4 MB 28.0 MB/s eta 0:00:01\r\n",
      "\u001b[K     |████████████▊                   | 3.4 MB 28.0 MB/s eta 0:00:01\r\n",
      "\u001b[K     |████████████▊                   | 3.5 MB 28.0 MB/s eta 0:00:01\r\n",
      "\u001b[K     |████████████▉                   | 3.5 MB 28.0 MB/s eta 0:00:01\r\n",
      "\u001b[K     |████████████▉                   | 3.5 MB 28.0 MB/s eta 0:00:01\r\n",
      "\u001b[K     |████████████▉                   | 3.5 MB 28.0 MB/s eta 0:00:01\r\n",
      "\u001b[K     |█████████████                   | 3.5 MB 28.0 MB/s eta 0:00:01\r\n",
      "\u001b[K     |█████████████                   | 3.5 MB 28.0 MB/s eta 0:00:01\r\n",
      "\u001b[K     |█████████████                   | 3.5 MB 28.0 MB/s eta 0:00:01\r\n",
      "\u001b[K     |█████████████                   | 3.5 MB 28.0 MB/s eta 0:00:01\r\n",
      "\u001b[K     |█████████████                   | 3.5 MB 28.0 MB/s eta 0:00:01\r\n",
      "\u001b[K     |█████████████                   | 3.5 MB 28.0 MB/s eta 0:00:01\r\n",
      "\u001b[K     |█████████████▏                  | 3.6 MB 28.0 MB/s eta 0:00:01\r\n",
      "\u001b[K     |█████████████▏                  | 3.6 MB 28.0 MB/s eta 0:00:01\r\n",
      "\u001b[K     |█████████████▏                  | 3.6 MB 28.0 MB/s eta 0:00:01\r\n",
      "\u001b[K     |█████████████▎                  | 3.6 MB 28.0 MB/s eta 0:00:01\r\n",
      "\u001b[K     |█████████████▎                  | 3.6 MB 28.0 MB/s eta 0:00:01\r\n",
      "\u001b[K     |█████████████▎                  | 3.6 MB 28.0 MB/s eta 0:00:01\r\n",
      "\u001b[K     |█████████████▍                  | 3.6 MB 28.0 MB/s eta 0:00:01\r\n",
      "\u001b[K     |█████████████▍                  | 3.6 MB 28.0 MB/s eta 0:00:01\r\n",
      "\u001b[K     |█████████████▍                  | 3.6 MB 28.0 MB/s eta 0:00:01\r\n",
      "\u001b[K     |█████████████▌                  | 3.6 MB 28.0 MB/s eta 0:00:01\r\n",
      "\u001b[K     |█████████████▌                  | 3.7 MB 28.0 MB/s eta 0:00:01\r\n",
      "\u001b[K     |█████████████▌                  | 3.7 MB 28.0 MB/s eta 0:00:01\r\n",
      "\u001b[K     |█████████████▋                  | 3.7 MB 28.0 MB/s eta 0:00:01\r\n",
      "\u001b[K     |█████████████▋                  | 3.7 MB 28.0 MB/s eta 0:00:01\r\n",
      "\u001b[K     |█████████████▋                  | 3.7 MB 28.0 MB/s eta 0:00:01\r\n",
      "\u001b[K     |█████████████▊                  | 3.7 MB 28.0 MB/s eta 0:00:01\r\n",
      "\u001b[K     |█████████████▊                  | 3.7 MB 28.0 MB/s eta 0:00:01\r\n",
      "\u001b[K     |█████████████▊                  | 3.7 MB 28.0 MB/s eta 0:00:01\r\n",
      "\u001b[K     |█████████████▉                  | 3.7 MB 28.0 MB/s eta 0:00:01\r\n",
      "\u001b[K     |█████████████▉                  | 3.7 MB 28.0 MB/s eta 0:00:01\r\n",
      "\u001b[K     |█████████████▉                  | 3.8 MB 28.0 MB/s eta 0:00:01\r\n",
      "\u001b[K     |██████████████                  | 3.8 MB 28.0 MB/s eta 0:00:01\r\n",
      "\u001b[K     |██████████████                  | 3.8 MB 28.0 MB/s eta 0:00:01\r\n",
      "\u001b[K     |██████████████                  | 3.8 MB 28.0 MB/s eta 0:00:01\r\n",
      "\u001b[K     |██████████████                  | 3.8 MB 28.0 MB/s eta 0:00:01\r\n",
      "\u001b[K     |██████████████                  | 3.8 MB 28.0 MB/s eta 0:00:01\r\n",
      "\u001b[K     |██████████████                  | 3.8 MB 28.0 MB/s eta 0:00:01\r\n",
      "\u001b[K     |██████████████▏                 | 3.8 MB 28.0 MB/s eta 0:00:01\r\n",
      "\u001b[K     |██████████████▏                 | 3.8 MB 28.0 MB/s eta 0:00:01\r\n",
      "\u001b[K     |██████████████▏                 | 3.9 MB 28.0 MB/s eta 0:00:01\r\n",
      "\u001b[K     |██████████████▎                 | 3.9 MB 28.0 MB/s eta 0:00:01\r\n",
      "\u001b[K     |██████████████▎                 | 3.9 MB 28.0 MB/s eta 0:00:01\r\n",
      "\u001b[K     |██████████████▎                 | 3.9 MB 28.0 MB/s eta 0:00:01\r\n",
      "\u001b[K     |██████████████▍                 | 3.9 MB 28.0 MB/s eta 0:00:01\r\n",
      "\u001b[K     |██████████████▍                 | 3.9 MB 28.0 MB/s eta 0:00:01\r\n",
      "\u001b[K     |██████████████▍                 | 3.9 MB 28.0 MB/s eta 0:00:01\r\n",
      "\u001b[K     |██████████████▌                 | 3.9 MB 28.0 MB/s eta 0:00:01\r\n",
      "\u001b[K     |██████████████▌                 | 3.9 MB 28.0 MB/s eta 0:00:01\r\n",
      "\u001b[K     |██████████████▋                 | 3.9 MB 28.0 MB/s eta 0:00:01\r\n",
      "\u001b[K     |██████████████▋                 | 4.0 MB 28.0 MB/s eta 0:00:01\r\n",
      "\u001b[K     |██████████████▋                 | 4.0 MB 28.0 MB/s eta 0:00:01\r\n",
      "\u001b[K     |██████████████▊                 | 4.0 MB 28.0 MB/s eta 0:00:01\r\n",
      "\u001b[K     |██████████████▊                 | 4.0 MB 28.0 MB/s eta 0:00:01\r\n",
      "\u001b[K     |██████████████▊                 | 4.0 MB 28.0 MB/s eta 0:00:01\r\n",
      "\u001b[K     |██████████████▉                 | 4.0 MB 28.0 MB/s eta 0:00:01\r\n",
      "\u001b[K     |██████████████▉                 | 4.0 MB 28.0 MB/s eta 0:00:01\r\n",
      "\u001b[K     |██████████████▉                 | 4.0 MB 28.0 MB/s eta 0:00:01\r\n",
      "\u001b[K     |███████████████                 | 4.0 MB 28.0 MB/s eta 0:00:01\r\n",
      "\u001b[K     |███████████████                 | 4.0 MB 28.0 MB/s eta 0:00:01\r\n",
      "\u001b[K     |███████████████                 | 4.1 MB 28.0 MB/s eta 0:00:01\r\n",
      "\u001b[K     |███████████████                 | 4.1 MB 28.0 MB/s eta 0:00:01\r\n",
      "\u001b[K     |███████████████                 | 4.1 MB 28.0 MB/s eta 0:00:01\r\n",
      "\u001b[K     |███████████████                 | 4.1 MB 28.0 MB/s eta 0:00:01\r\n",
      "\u001b[K     |███████████████▏                | 4.1 MB 28.0 MB/s eta 0:00:01\r\n",
      "\u001b[K     |███████████████▏                | 4.1 MB 28.0 MB/s eta 0:00:01\r\n",
      "\u001b[K     |███████████████▏                | 4.1 MB 28.0 MB/s eta 0:00:01\r\n",
      "\u001b[K     |███████████████▎                | 4.1 MB 28.0 MB/s eta 0:00:01\r\n",
      "\u001b[K     |███████████████▎                | 4.1 MB 28.0 MB/s eta 0:00:01\r\n",
      "\u001b[K     |███████████████▎                | 4.1 MB 28.0 MB/s eta 0:00:01\r\n",
      "\u001b[K     |███████████████▍                | 4.2 MB 28.0 MB/s eta 0:00:01\r\n",
      "\u001b[K     |███████████████▍                | 4.2 MB 28.0 MB/s eta 0:00:01\r\n",
      "\u001b[K     |███████████████▍                | 4.2 MB 28.0 MB/s eta 0:00:01\r\n",
      "\u001b[K     |███████████████▌                | 4.2 MB 28.0 MB/s eta 0:00:01\r\n",
      "\u001b[K     |███████████████▌                | 4.2 MB 28.0 MB/s eta 0:00:01\r\n",
      "\u001b[K     |███████████████▌                | 4.2 MB 28.0 MB/s eta 0:00:01\r\n",
      "\u001b[K     |███████████████▋                | 4.2 MB 28.0 MB/s eta 0:00:01\r\n",
      "\u001b[K     |███████████████▋                | 4.2 MB 28.0 MB/s eta 0:00:01\r\n",
      "\u001b[K     |███████████████▋                | 4.2 MB 28.0 MB/s eta 0:00:01\r\n",
      "\u001b[K     |███████████████▊                | 4.2 MB 28.0 MB/s eta 0:00:01\r\n",
      "\u001b[K     |███████████████▊                | 4.3 MB 28.0 MB/s eta 0:00:01\r\n",
      "\u001b[K     |███████████████▊                | 4.3 MB 28.0 MB/s eta 0:00:01\r\n",
      "\u001b[K     |███████████████▉                | 4.3 MB 28.0 MB/s eta 0:00:01\r\n",
      "\u001b[K     |███████████████▉                | 4.3 MB 28.0 MB/s eta 0:00:01\r\n",
      "\u001b[K     |███████████████▉                | 4.3 MB 28.0 MB/s eta 0:00:01\r\n",
      "\u001b[K     |████████████████                | 4.3 MB 28.0 MB/s eta 0:00:01\r\n",
      "\u001b[K     |████████████████                | 4.3 MB 28.0 MB/s eta 0:00:01\r\n",
      "\u001b[K     |████████████████                | 4.3 MB 28.0 MB/s eta 0:00:01\r\n",
      "\u001b[K     |████████████████                | 4.3 MB 28.0 MB/s eta 0:00:01\r\n",
      "\u001b[K     |████████████████                | 4.4 MB 28.0 MB/s eta 0:00:01\r\n",
      "\u001b[K     |████████████████                | 4.4 MB 28.0 MB/s eta 0:00:01\r\n",
      "\u001b[K     |████████████████▏               | 4.4 MB 28.0 MB/s eta 0:00:01\r\n",
      "\u001b[K     |████████████████▏               | 4.4 MB 28.0 MB/s eta 0:00:01\r\n",
      "\u001b[K     |████████████████▏               | 4.4 MB 28.0 MB/s eta 0:00:01\r\n",
      "\u001b[K     |████████████████▎               | 4.4 MB 28.0 MB/s eta 0:00:01\r\n",
      "\u001b[K     |████████████████▎               | 4.4 MB 28.0 MB/s eta 0:00:01\r\n",
      "\u001b[K     |████████████████▍               | 4.4 MB 28.0 MB/s eta 0:00:01\r\n",
      "\u001b[K     |████████████████▍               | 4.4 MB 28.0 MB/s eta 0:00:01\r\n",
      "\u001b[K     |████████████████▍               | 4.4 MB 28.0 MB/s eta 0:00:01\r\n",
      "\u001b[K     |████████████████▌               | 4.5 MB 28.0 MB/s eta 0:00:01\r\n",
      "\u001b[K     |████████████████▌               | 4.5 MB 28.0 MB/s eta 0:00:01\r\n",
      "\u001b[K     |████████████████▌               | 4.5 MB 28.0 MB/s eta 0:00:01\r\n",
      "\u001b[K     |████████████████▋               | 4.5 MB 28.0 MB/s eta 0:00:01\r\n",
      "\u001b[K     |████████████████▋               | 4.5 MB 28.0 MB/s eta 0:00:01\r\n",
      "\u001b[K     |████████████████▋               | 4.5 MB 28.0 MB/s eta 0:00:01\r\n",
      "\u001b[K     |████████████████▊               | 4.5 MB 28.0 MB/s eta 0:00:01\r\n",
      "\u001b[K     |████████████████▊               | 4.5 MB 28.0 MB/s eta 0:00:01\r\n",
      "\u001b[K     |████████████████▊               | 4.5 MB 28.0 MB/s eta 0:00:01\r\n",
      "\u001b[K     |████████████████▉               | 4.5 MB 28.0 MB/s eta 0:00:01\r\n",
      "\u001b[K     |████████████████▉               | 4.6 MB 28.0 MB/s eta 0:00:01\r\n",
      "\u001b[K     |████████████████▉               | 4.6 MB 28.0 MB/s eta 0:00:01\r\n",
      "\u001b[K     |█████████████████               | 4.6 MB 28.0 MB/s eta 0:00:01\r\n",
      "\u001b[K     |█████████████████               | 4.6 MB 28.0 MB/s eta 0:00:01\r\n",
      "\u001b[K     |█████████████████               | 4.6 MB 28.0 MB/s eta 0:00:01\r\n",
      "\u001b[K     |█████████████████               | 4.6 MB 28.0 MB/s eta 0:00:01\r\n",
      "\u001b[K     |█████████████████               | 4.6 MB 28.0 MB/s eta 0:00:01\r\n",
      "\u001b[K     |█████████████████               | 4.6 MB 28.0 MB/s eta 0:00:01\r\n",
      "\u001b[K     |█████████████████▏              | 4.6 MB 28.0 MB/s eta 0:00:01\r\n",
      "\u001b[K     |█████████████████▏              | 4.6 MB 28.0 MB/s eta 0:00:01\r\n",
      "\u001b[K     |█████████████████▏              | 4.7 MB 28.0 MB/s eta 0:00:01\r\n",
      "\u001b[K     |█████████████████▎              | 4.7 MB 28.0 MB/s eta 0:00:01\r\n",
      "\u001b[K     |█████████████████▎              | 4.7 MB 28.0 MB/s eta 0:00:01\r\n",
      "\u001b[K     |█████████████████▎              | 4.7 MB 28.0 MB/s eta 0:00:01\r\n",
      "\u001b[K     |█████████████████▍              | 4.7 MB 28.0 MB/s eta 0:00:01\r\n",
      "\u001b[K     |█████████████████▍              | 4.7 MB 28.0 MB/s eta 0:00:01\r\n",
      "\u001b[K     |█████████████████▍              | 4.7 MB 28.0 MB/s eta 0:00:01\r\n",
      "\u001b[K     |█████████████████▌              | 4.7 MB 28.0 MB/s eta 0:00:01\r\n",
      "\u001b[K     |█████████████████▌              | 4.7 MB 28.0 MB/s eta 0:00:01\r\n",
      "\u001b[K     |█████████████████▌              | 4.8 MB 28.0 MB/s eta 0:00:01\r\n",
      "\u001b[K     |█████████████████▋              | 4.8 MB 28.0 MB/s eta 0:00:01\r\n",
      "\u001b[K     |█████████████████▋              | 4.8 MB 28.0 MB/s eta 0:00:01\r\n",
      "\u001b[K     |█████████████████▋              | 4.8 MB 28.0 MB/s eta 0:00:01\r\n",
      "\u001b[K     |█████████████████▊              | 4.8 MB 28.0 MB/s eta 0:00:01\r\n",
      "\u001b[K     |█████████████████▊              | 4.8 MB 28.0 MB/s eta 0:00:01\r\n",
      "\u001b[K     |█████████████████▊              | 4.8 MB 28.0 MB/s eta 0:00:01\r\n",
      "\u001b[K     |█████████████████▉              | 4.8 MB 28.0 MB/s eta 0:00:01\r\n",
      "\u001b[K     |█████████████████▉              | 4.8 MB 28.0 MB/s eta 0:00:01\r\n",
      "\u001b[K     |█████████████████▉              | 4.8 MB 28.0 MB/s eta 0:00:01\r\n",
      "\u001b[K     |██████████████████              | 4.9 MB 28.0 MB/s eta 0:00:01\r\n",
      "\u001b[K     |██████████████████              | 4.9 MB 28.0 MB/s eta 0:00:01\r\n",
      "\u001b[K     |██████████████████              | 4.9 MB 28.0 MB/s eta 0:00:01\r\n",
      "\u001b[K     |██████████████████              | 4.9 MB 28.0 MB/s eta 0:00:01\r\n",
      "\u001b[K     |██████████████████              | 4.9 MB 28.0 MB/s eta 0:00:01\r\n",
      "\u001b[K     |██████████████████              | 4.9 MB 28.0 MB/s eta 0:00:01\r\n",
      "\u001b[K     |██████████████████▏             | 4.9 MB 28.0 MB/s eta 0:00:01\r\n",
      "\u001b[K     |██████████████████▏             | 4.9 MB 28.0 MB/s eta 0:00:01\r\n",
      "\u001b[K     |██████████████████▎             | 4.9 MB 28.0 MB/s eta 0:00:01\r\n",
      "\u001b[K     |██████████████████▎             | 4.9 MB 28.0 MB/s eta 0:00:01\r\n",
      "\u001b[K     |██████████████████▎             | 5.0 MB 28.0 MB/s eta 0:00:01\r\n",
      "\u001b[K     |██████████████████▍             | 5.0 MB 28.0 MB/s eta 0:00:01\r\n",
      "\u001b[K     |██████████████████▍             | 5.0 MB 28.0 MB/s eta 0:00:01\r\n",
      "\u001b[K     |██████████████████▍             | 5.0 MB 28.0 MB/s eta 0:00:01\r\n",
      "\u001b[K     |██████████████████▌             | 5.0 MB 28.0 MB/s eta 0:00:01\r\n",
      "\u001b[K     |██████████████████▌             | 5.0 MB 28.0 MB/s eta 0:00:01\r\n",
      "\u001b[K     |██████████████████▌             | 5.0 MB 28.0 MB/s eta 0:00:01\r\n",
      "\u001b[K     |██████████████████▋             | 5.0 MB 28.0 MB/s eta 0:00:01\r\n",
      "\u001b[K     |██████████████████▋             | 5.0 MB 28.0 MB/s eta 0:00:01\r\n",
      "\u001b[K     |██████████████████▋             | 5.0 MB 28.0 MB/s eta 0:00:01\r\n",
      "\u001b[K     |██████████████████▊             | 5.1 MB 28.0 MB/s eta 0:00:01\r\n",
      "\u001b[K     |██████████████████▊             | 5.1 MB 28.0 MB/s eta 0:00:01\r\n",
      "\u001b[K     |██████████████████▊             | 5.1 MB 28.0 MB/s eta 0:00:01\r\n",
      "\u001b[K     |██████████████████▉             | 5.1 MB 28.0 MB/s eta 0:00:01\r\n",
      "\u001b[K     |██████████████████▉             | 5.1 MB 28.0 MB/s eta 0:00:01\r\n",
      "\u001b[K     |██████████████████▉             | 5.1 MB 28.0 MB/s eta 0:00:01"
     ]
    },
    {
     "name": "stdout",
     "output_type": "stream",
     "text": [
      "\r\n",
      "\u001b[K     |███████████████████             | 5.1 MB 28.0 MB/s eta 0:00:01\r\n",
      "\u001b[K     |███████████████████             | 5.1 MB 28.0 MB/s eta 0:00:01\r\n",
      "\u001b[K     |███████████████████             | 5.1 MB 28.0 MB/s eta 0:00:01\r\n",
      "\u001b[K     |███████████████████             | 5.2 MB 28.0 MB/s eta 0:00:01\r\n",
      "\u001b[K     |███████████████████             | 5.2 MB 28.0 MB/s eta 0:00:01\r\n",
      "\u001b[K     |███████████████████             | 5.2 MB 28.0 MB/s eta 0:00:01\r\n",
      "\u001b[K     |███████████████████▏            | 5.2 MB 28.0 MB/s eta 0:00:01\r\n",
      "\u001b[K     |███████████████████▏            | 5.2 MB 28.0 MB/s eta 0:00:01\r\n",
      "\u001b[K     |███████████████████▏            | 5.2 MB 28.0 MB/s eta 0:00:01\r\n",
      "\u001b[K     |███████████████████▎            | 5.2 MB 28.0 MB/s eta 0:00:01\r\n",
      "\u001b[K     |███████████████████▎            | 5.2 MB 28.0 MB/s eta 0:00:01\r\n",
      "\u001b[K     |███████████████████▎            | 5.2 MB 28.0 MB/s eta 0:00:01\r\n",
      "\u001b[K     |███████████████████▍            | 5.2 MB 28.0 MB/s eta 0:00:01\r\n",
      "\u001b[K     |███████████████████▍            | 5.3 MB 28.0 MB/s eta 0:00:01\r\n",
      "\u001b[K     |███████████████████▍            | 5.3 MB 28.0 MB/s eta 0:00:01\r\n",
      "\u001b[K     |███████████████████▌            | 5.3 MB 28.0 MB/s eta 0:00:01\r\n",
      "\u001b[K     |███████████████████▌            | 5.3 MB 28.0 MB/s eta 0:00:01\r\n",
      "\u001b[K     |███████████████████▌            | 5.3 MB 28.0 MB/s eta 0:00:01\r\n",
      "\u001b[K     |███████████████████▋            | 5.3 MB 28.0 MB/s eta 0:00:01\r\n",
      "\u001b[K     |███████████████████▋            | 5.3 MB 28.0 MB/s eta 0:00:01\r\n",
      "\u001b[K     |███████████████████▋            | 5.3 MB 28.0 MB/s eta 0:00:01\r\n",
      "\u001b[K     |███████████████████▊            | 5.3 MB 28.0 MB/s eta 0:00:01\r\n",
      "\u001b[K     |███████████████████▊            | 5.3 MB 28.0 MB/s eta 0:00:01\r\n",
      "\u001b[K     |███████████████████▊            | 5.4 MB 28.0 MB/s eta 0:00:01\r\n",
      "\u001b[K     |███████████████████▉            | 5.4 MB 28.0 MB/s eta 0:00:01\r\n",
      "\u001b[K     |███████████████████▉            | 5.4 MB 28.0 MB/s eta 0:00:01\r\n",
      "\u001b[K     |███████████████████▉            | 5.4 MB 28.0 MB/s eta 0:00:01\r\n",
      "\u001b[K     |████████████████████            | 5.4 MB 28.0 MB/s eta 0:00:01\r\n",
      "\u001b[K     |████████████████████            | 5.4 MB 28.0 MB/s eta 0:00:01\r\n",
      "\u001b[K     |████████████████████            | 5.4 MB 28.0 MB/s eta 0:00:01\r\n",
      "\u001b[K     |████████████████████            | 5.4 MB 28.0 MB/s eta 0:00:01\r\n",
      "\u001b[K     |████████████████████            | 5.4 MB 28.0 MB/s eta 0:00:01\r\n",
      "\u001b[K     |████████████████████▏           | 5.4 MB 28.0 MB/s eta 0:00:01\r\n",
      "\u001b[K     |████████████████████▏           | 5.5 MB 28.0 MB/s eta 0:00:01\r\n",
      "\u001b[K     |████████████████████▏           | 5.5 MB 28.0 MB/s eta 0:00:01\r\n",
      "\u001b[K     |████████████████████▎           | 5.5 MB 28.0 MB/s eta 0:00:01\r\n",
      "\u001b[K     |████████████████████▎           | 5.5 MB 28.0 MB/s eta 0:00:01\r\n",
      "\u001b[K     |████████████████████▎           | 5.5 MB 28.0 MB/s eta 0:00:01\r\n",
      "\u001b[K     |████████████████████▍           | 5.5 MB 28.0 MB/s eta 0:00:01\r\n",
      "\u001b[K     |████████████████████▍           | 5.5 MB 28.0 MB/s eta 0:00:01\r\n",
      "\u001b[K     |████████████████████▍           | 5.5 MB 28.0 MB/s eta 0:00:01\r\n",
      "\u001b[K     |████████████████████▌           | 5.5 MB 28.0 MB/s eta 0:00:01\r\n",
      "\u001b[K     |████████████████████▌           | 5.6 MB 28.0 MB/s eta 0:00:01\r\n",
      "\u001b[K     |████████████████████▌           | 5.6 MB 28.0 MB/s eta 0:00:01\r\n",
      "\u001b[K     |████████████████████▋           | 5.6 MB 28.0 MB/s eta 0:00:01\r\n",
      "\u001b[K     |████████████████████▋           | 5.6 MB 28.0 MB/s eta 0:00:01\r\n",
      "\u001b[K     |████████████████████▋           | 5.6 MB 28.0 MB/s eta 0:00:01\r\n",
      "\u001b[K     |████████████████████▊           | 5.6 MB 28.0 MB/s eta 0:00:01\r\n",
      "\u001b[K     |████████████████████▊           | 5.6 MB 28.0 MB/s eta 0:00:01\r\n",
      "\u001b[K     |████████████████████▊           | 5.6 MB 28.0 MB/s eta 0:00:01\r\n",
      "\u001b[K     |████████████████████▉           | 5.6 MB 28.0 MB/s eta 0:00:01\r\n",
      "\u001b[K     |████████████████████▉           | 5.6 MB 28.0 MB/s eta 0:00:01\r\n",
      "\u001b[K     |████████████████████▉           | 5.7 MB 28.0 MB/s eta 0:00:01\r\n",
      "\u001b[K     |█████████████████████           | 5.7 MB 28.0 MB/s eta 0:00:01\r\n",
      "\u001b[K     |█████████████████████           | 5.7 MB 28.0 MB/s eta 0:00:01\r\n",
      "\u001b[K     |█████████████████████           | 5.7 MB 28.0 MB/s eta 0:00:01\r\n",
      "\u001b[K     |█████████████████████           | 5.7 MB 28.0 MB/s eta 0:00:01\r\n",
      "\u001b[K     |█████████████████████           | 5.7 MB 28.0 MB/s eta 0:00:01\r\n",
      "\u001b[K     |█████████████████████           | 5.7 MB 28.0 MB/s eta 0:00:01\r\n",
      "\u001b[K     |█████████████████████▏          | 5.7 MB 28.0 MB/s eta 0:00:01\r\n",
      "\u001b[K     |█████████████████████▏          | 5.7 MB 28.0 MB/s eta 0:00:01\r\n",
      "\u001b[K     |█████████████████████▏          | 5.7 MB 28.0 MB/s eta 0:00:01\r\n",
      "\u001b[K     |█████████████████████▎          | 5.8 MB 28.0 MB/s eta 0:00:01\r\n",
      "\u001b[K     |█████████████████████▎          | 5.8 MB 28.0 MB/s eta 0:00:01\r\n",
      "\u001b[K     |█████████████████████▎          | 5.8 MB 28.0 MB/s eta 0:00:01\r\n",
      "\u001b[K     |█████████████████████▍          | 5.8 MB 28.0 MB/s eta 0:00:01\r\n",
      "\u001b[K     |█████████████████████▍          | 5.8 MB 28.0 MB/s eta 0:00:01\r\n",
      "\u001b[K     |█████████████████████▍          | 5.8 MB 28.0 MB/s eta 0:00:01\r\n",
      "\u001b[K     |█████████████████████▌          | 5.8 MB 28.0 MB/s eta 0:00:01\r\n",
      "\u001b[K     |█████████████████████▌          | 5.8 MB 28.0 MB/s eta 0:00:01\r\n",
      "\u001b[K     |█████████████████████▌          | 5.8 MB 28.0 MB/s eta 0:00:01\r\n",
      "\u001b[K     |█████████████████████▋          | 5.8 MB 28.0 MB/s eta 0:00:01\r\n",
      "\u001b[K     |█████████████████████▋          | 5.9 MB 28.0 MB/s eta 0:00:01\r\n",
      "\u001b[K     |█████████████████████▋          | 5.9 MB 28.0 MB/s eta 0:00:01\r\n",
      "\u001b[K     |█████████████████████▊          | 5.9 MB 28.0 MB/s eta 0:00:01\r\n",
      "\u001b[K     |█████████████████████▊          | 5.9 MB 28.0 MB/s eta 0:00:01\r\n",
      "\u001b[K     |█████████████████████▉          | 5.9 MB 28.0 MB/s eta 0:00:01\r\n",
      "\u001b[K     |█████████████████████▉          | 5.9 MB 28.0 MB/s eta 0:00:01\r\n",
      "\u001b[K     |█████████████████████▉          | 5.9 MB 28.0 MB/s eta 0:00:01\r\n",
      "\u001b[K     |██████████████████████          | 5.9 MB 28.0 MB/s eta 0:00:01\r\n",
      "\u001b[K     |██████████████████████          | 5.9 MB 28.0 MB/s eta 0:00:01\r\n",
      "\u001b[K     |██████████████████████          | 5.9 MB 28.0 MB/s eta 0:00:01\r\n",
      "\u001b[K     |██████████████████████          | 6.0 MB 28.0 MB/s eta 0:00:01\r\n",
      "\u001b[K     |██████████████████████          | 6.0 MB 28.0 MB/s eta 0:00:01\r\n",
      "\u001b[K     |██████████████████████          | 6.0 MB 28.0 MB/s eta 0:00:01\r\n",
      "\u001b[K     |██████████████████████▏         | 6.0 MB 28.0 MB/s eta 0:00:01\r\n",
      "\u001b[K     |██████████████████████▏         | 6.0 MB 28.0 MB/s eta 0:00:01\r\n",
      "\u001b[K     |██████████████████████▏         | 6.0 MB 28.0 MB/s eta 0:00:01\r\n",
      "\u001b[K     |██████████████████████▎         | 6.0 MB 28.0 MB/s eta 0:00:01\r\n",
      "\u001b[K     |██████████████████████▎         | 6.0 MB 28.0 MB/s eta 0:00:01\r\n",
      "\u001b[K     |██████████████████████▎         | 6.0 MB 28.0 MB/s eta 0:00:01\r\n",
      "\u001b[K     |██████████████████████▍         | 6.1 MB 28.0 MB/s eta 0:00:01\r\n",
      "\u001b[K     |██████████████████████▍         | 6.1 MB 28.0 MB/s eta 0:00:01\r\n",
      "\u001b[K     |██████████████████████▍         | 6.1 MB 28.0 MB/s eta 0:00:01\r\n",
      "\u001b[K     |██████████████████████▌         | 6.1 MB 28.0 MB/s eta 0:00:01\r\n",
      "\u001b[K     |██████████████████████▌         | 6.1 MB 28.0 MB/s eta 0:00:01\r\n",
      "\u001b[K     |██████████████████████▌         | 6.1 MB 28.0 MB/s eta 0:00:01\r\n",
      "\u001b[K     |██████████████████████▋         | 6.1 MB 28.0 MB/s eta 0:00:01\r\n",
      "\u001b[K     |██████████████████████▋         | 6.1 MB 28.0 MB/s eta 0:00:01\r\n",
      "\u001b[K     |██████████████████████▋         | 6.1 MB 28.0 MB/s eta 0:00:01\r\n",
      "\u001b[K     |██████████████████████▊         | 6.1 MB 28.0 MB/s eta 0:00:01\r\n",
      "\u001b[K     |██████████████████████▊         | 6.2 MB 28.0 MB/s eta 0:00:01\r\n",
      "\u001b[K     |██████████████████████▊         | 6.2 MB 28.0 MB/s eta 0:00:01\r\n",
      "\u001b[K     |██████████████████████▉         | 6.2 MB 28.0 MB/s eta 0:00:01\r\n",
      "\u001b[K     |██████████████████████▉         | 6.2 MB 28.0 MB/s eta 0:00:01\r\n",
      "\u001b[K     |██████████████████████▉         | 6.2 MB 28.0 MB/s eta 0:00:01\r\n",
      "\u001b[K     |███████████████████████         | 6.2 MB 28.0 MB/s eta 0:00:01\r\n",
      "\u001b[K     |███████████████████████         | 6.2 MB 28.0 MB/s eta 0:00:01\r\n",
      "\u001b[K     |███████████████████████         | 6.2 MB 28.0 MB/s eta 0:00:01\r\n",
      "\u001b[K     |███████████████████████         | 6.2 MB 28.0 MB/s eta 0:00:01\r\n",
      "\u001b[K     |███████████████████████         | 6.2 MB 28.0 MB/s eta 0:00:01\r\n",
      "\u001b[K     |███████████████████████         | 6.3 MB 28.0 MB/s eta 0:00:01\r\n",
      "\u001b[K     |███████████████████████▏        | 6.3 MB 28.0 MB/s eta 0:00:01\r\n",
      "\u001b[K     |███████████████████████▏        | 6.3 MB 28.0 MB/s eta 0:00:01\r\n",
      "\u001b[K     |███████████████████████▏        | 6.3 MB 28.0 MB/s eta 0:00:01\r\n",
      "\u001b[K     |███████████████████████▎        | 6.3 MB 28.0 MB/s eta 0:00:01\r\n",
      "\u001b[K     |███████████████████████▎        | 6.3 MB 28.0 MB/s eta 0:00:01\r\n",
      "\u001b[K     |███████████████████████▎        | 6.3 MB 28.0 MB/s eta 0:00:01\r\n",
      "\u001b[K     |███████████████████████▍        | 6.3 MB 28.0 MB/s eta 0:00:01\r\n",
      "\u001b[K     |███████████████████████▍        | 6.3 MB 28.0 MB/s eta 0:00:01\r\n",
      "\u001b[K     |███████████████████████▍        | 6.3 MB 28.0 MB/s eta 0:00:01\r\n",
      "\u001b[K     |███████████████████████▌        | 6.4 MB 28.0 MB/s eta 0:00:01\r\n",
      "\u001b[K     |███████████████████████▌        | 6.4 MB 28.0 MB/s eta 0:00:01\r\n",
      "\u001b[K     |███████████████████████▌        | 6.4 MB 28.0 MB/s eta 0:00:01\r\n",
      "\u001b[K     |███████████████████████▋        | 6.4 MB 28.0 MB/s eta 0:00:01\r\n",
      "\u001b[K     |███████████████████████▋        | 6.4 MB 28.0 MB/s eta 0:00:01\r\n",
      "\u001b[K     |███████████████████████▊        | 6.4 MB 28.0 MB/s eta 0:00:01\r\n",
      "\u001b[K     |███████████████████████▊        | 6.4 MB 28.0 MB/s eta 0:00:01\r\n",
      "\u001b[K     |███████████████████████▊        | 6.4 MB 28.0 MB/s eta 0:00:01\r\n",
      "\u001b[K     |███████████████████████▉        | 6.4 MB 28.0 MB/s eta 0:00:01\r\n",
      "\u001b[K     |███████████████████████▉        | 6.5 MB 28.0 MB/s eta 0:00:01\r\n",
      "\u001b[K     |███████████████████████▉        | 6.5 MB 28.0 MB/s eta 0:00:01\r\n",
      "\u001b[K     |████████████████████████        | 6.5 MB 28.0 MB/s eta 0:00:01\r\n",
      "\u001b[K     |████████████████████████        | 6.5 MB 28.0 MB/s eta 0:00:01\r\n",
      "\u001b[K     |████████████████████████        | 6.5 MB 28.0 MB/s eta 0:00:01\r\n",
      "\u001b[K     |████████████████████████        | 6.5 MB 28.0 MB/s eta 0:00:01\r\n",
      "\u001b[K     |████████████████████████        | 6.5 MB 28.0 MB/s eta 0:00:01\r\n",
      "\u001b[K     |████████████████████████        | 6.5 MB 28.0 MB/s eta 0:00:01\r\n",
      "\u001b[K     |████████████████████████▏       | 6.5 MB 28.0 MB/s eta 0:00:01\r\n",
      "\u001b[K     |████████████████████████▏       | 6.5 MB 28.0 MB/s eta 0:00:01\r\n",
      "\u001b[K     |████████████████████████▏       | 6.6 MB 28.0 MB/s eta 0:00:01\r\n",
      "\u001b[K     |████████████████████████▎       | 6.6 MB 28.0 MB/s eta 0:00:01\r\n",
      "\u001b[K     |████████████████████████▎       | 6.6 MB 28.0 MB/s eta 0:00:01\r\n",
      "\u001b[K     |████████████████████████▎       | 6.6 MB 28.0 MB/s eta 0:00:01\r\n",
      "\u001b[K     |████████████████████████▍       | 6.6 MB 28.0 MB/s eta 0:00:01\r\n",
      "\u001b[K     |████████████████████████▍       | 6.6 MB 28.0 MB/s eta 0:00:01\r\n",
      "\u001b[K     |████████████████████████▍       | 6.6 MB 28.0 MB/s eta 0:00:01\r\n",
      "\u001b[K     |████████████████████████▌       | 6.6 MB 28.0 MB/s eta 0:00:01\r\n",
      "\u001b[K     |████████████████████████▌       | 6.6 MB 28.0 MB/s eta 0:00:01\r\n",
      "\u001b[K     |████████████████████████▌       | 6.6 MB 28.0 MB/s eta 0:00:01\r\n",
      "\u001b[K     |████████████████████████▋       | 6.7 MB 28.0 MB/s eta 0:00:01\r\n",
      "\u001b[K     |████████████████████████▋       | 6.7 MB 28.0 MB/s eta 0:00:01\r\n",
      "\u001b[K     |████████████████████████▋       | 6.7 MB 28.0 MB/s eta 0:00:01\r\n",
      "\u001b[K     |████████████████████████▊       | 6.7 MB 28.0 MB/s eta 0:00:01\r\n",
      "\u001b[K     |████████████████████████▊       | 6.7 MB 28.0 MB/s eta 0:00:01\r\n",
      "\u001b[K     |████████████████████████▊       | 6.7 MB 28.0 MB/s eta 0:00:01\r\n",
      "\u001b[K     |████████████████████████▉       | 6.7 MB 28.0 MB/s eta 0:00:01\r\n",
      "\u001b[K     |████████████████████████▉       | 6.7 MB 28.0 MB/s eta 0:00:01\r\n",
      "\u001b[K     |████████████████████████▉       | 6.7 MB 28.0 MB/s eta 0:00:01\r\n",
      "\u001b[K     |█████████████████████████       | 6.7 MB 28.0 MB/s eta 0:00:01\r\n",
      "\u001b[K     |█████████████████████████       | 6.8 MB 28.0 MB/s eta 0:00:01\r\n",
      "\u001b[K     |█████████████████████████       | 6.8 MB 28.0 MB/s eta 0:00:01\r\n",
      "\u001b[K     |█████████████████████████       | 6.8 MB 28.0 MB/s eta 0:00:01\r\n",
      "\u001b[K     |█████████████████████████       | 6.8 MB 28.0 MB/s eta 0:00:01\r\n",
      "\u001b[K     |█████████████████████████       | 6.8 MB 28.0 MB/s eta 0:00:01\r\n",
      "\u001b[K     |█████████████████████████▏      | 6.8 MB 28.0 MB/s eta 0:00:01\r\n",
      "\u001b[K     |█████████████████████████▏      | 6.8 MB 28.0 MB/s eta 0:00:01\r\n",
      "\u001b[K     |█████████████████████████▏      | 6.8 MB 28.0 MB/s eta 0:00:01\r\n",
      "\u001b[K     |█████████████████████████▎      | 6.8 MB 28.0 MB/s eta 0:00:01\r\n",
      "\u001b[K     |█████████████████████████▎      | 6.9 MB 28.0 MB/s eta 0:00:01\r\n",
      "\u001b[K     |█████████████████████████▎      | 6.9 MB 28.0 MB/s eta 0:00:01\r\n",
      "\u001b[K     |█████████████████████████▍      | 6.9 MB 28.0 MB/s eta 0:00:01\r\n",
      "\u001b[K     |█████████████████████████▍      | 6.9 MB 28.0 MB/s eta 0:00:01\r\n",
      "\u001b[K     |█████████████████████████▌      | 6.9 MB 28.0 MB/s eta 0:00:01\r\n",
      "\u001b[K     |█████████████████████████▌      | 6.9 MB 28.0 MB/s eta 0:00:01\r\n",
      "\u001b[K     |█████████████████████████▌      | 6.9 MB 28.0 MB/s eta 0:00:01\r\n",
      "\u001b[K     |█████████████████████████▋      | 6.9 MB 28.0 MB/s eta 0:00:01\r\n",
      "\u001b[K     |█████████████████████████▋      | 6.9 MB 28.0 MB/s eta 0:00:01\r\n",
      "\u001b[K     |█████████████████████████▋      | 6.9 MB 28.0 MB/s eta 0:00:01\r\n",
      "\u001b[K     |█████████████████████████▊      | 7.0 MB 28.0 MB/s eta 0:00:01\r\n",
      "\u001b[K     |█████████████████████████▊      | 7.0 MB 28.0 MB/s eta 0:00:01\r\n",
      "\u001b[K     |█████████████████████████▊      | 7.0 MB 28.0 MB/s eta 0:00:01\r\n",
      "\u001b[K     |█████████████████████████▉      | 7.0 MB 28.0 MB/s eta 0:00:01\r\n",
      "\u001b[K     |█████████████████████████▉      | 7.0 MB 28.0 MB/s eta 0:00:01\r\n",
      "\u001b[K     |█████████████████████████▉      | 7.0 MB 28.0 MB/s eta 0:00:01\r\n",
      "\u001b[K     |██████████████████████████      | 7.0 MB 28.0 MB/s eta 0:00:01\r\n",
      "\u001b[K     |██████████████████████████      | 7.0 MB 28.0 MB/s eta 0:00:01\r\n",
      "\u001b[K     |██████████████████████████      | 7.0 MB 28.0 MB/s eta 0:00:01\r\n",
      "\u001b[K     |██████████████████████████      | 7.0 MB 28.0 MB/s eta 0:00:01\r\n",
      "\u001b[K     |██████████████████████████      | 7.1 MB 28.0 MB/s eta 0:00:01\r\n",
      "\u001b[K     |██████████████████████████      | 7.1 MB 28.0 MB/s eta 0:00:01\r\n",
      "\u001b[K     |██████████████████████████▏     | 7.1 MB 28.0 MB/s eta 0:00:01\r\n",
      "\u001b[K     |██████████████████████████▏     | 7.1 MB 28.0 MB/s eta 0:00:01\r\n",
      "\u001b[K     |██████████████████████████▏     | 7.1 MB 28.0 MB/s eta 0:00:01\r\n",
      "\u001b[K     |██████████████████████████▎     | 7.1 MB 28.0 MB/s eta 0:00:01\r\n",
      "\u001b[K     |██████████████████████████▎     | 7.1 MB 28.0 MB/s eta 0:00:01\r\n",
      "\u001b[K     |██████████████████████████▎     | 7.1 MB 28.0 MB/s eta 0:00:01\r\n",
      "\u001b[K     |██████████████████████████▍     | 7.1 MB 28.0 MB/s eta 0:00:01\r\n",
      "\u001b[K     |██████████████████████████▍     | 7.1 MB 28.0 MB/s eta 0:00:01\r\n",
      "\u001b[K     |██████████████████████████▍     | 7.2 MB 28.0 MB/s eta 0:00:01\r\n",
      "\u001b[K     |██████████████████████████▌     | 7.2 MB 28.0 MB/s eta 0:00:01\r\n",
      "\u001b[K     |██████████████████████████▌     | 7.2 MB 28.0 MB/s eta 0:00:01\r\n",
      "\u001b[K     |██████████████████████████▌     | 7.2 MB 28.0 MB/s eta 0:00:01\r\n",
      "\u001b[K     |██████████████████████████▋     | 7.2 MB 28.0 MB/s eta 0:00:01\r\n",
      "\u001b[K     |██████████████████████████▋     | 7.2 MB 28.0 MB/s eta 0:00:01\r\n",
      "\u001b[K     |██████████████████████████▋     | 7.2 MB 28.0 MB/s eta 0:00:01\r\n",
      "\u001b[K     |██████████████████████████▊     | 7.2 MB 28.0 MB/s eta 0:00:01\r\n",
      "\u001b[K     |██████████████████████████▊     | 7.2 MB 28.0 MB/s eta 0:00:01\r\n",
      "\u001b[K     |██████████████████████████▊     | 7.2 MB 28.0 MB/s eta 0:00:01\r\n",
      "\u001b[K     |██████████████████████████▉     | 7.3 MB 28.0 MB/s eta 0:00:01\r\n",
      "\u001b[K     |██████████████████████████▉     | 7.3 MB 28.0 MB/s eta 0:00:01\r\n",
      "\u001b[K     |██████████████████████████▉     | 7.3 MB 28.0 MB/s eta 0:00:01\r\n",
      "\u001b[K     |███████████████████████████     | 7.3 MB 28.0 MB/s eta 0:00:01\r\n",
      "\u001b[K     |███████████████████████████     | 7.3 MB 28.0 MB/s eta 0:00:01\r\n",
      "\u001b[K     |███████████████████████████     | 7.3 MB 28.0 MB/s eta 0:00:01\r\n",
      "\u001b[K     |███████████████████████████     | 7.3 MB 28.0 MB/s eta 0:00:01\r\n",
      "\u001b[K     |███████████████████████████     | 7.3 MB 28.0 MB/s eta 0:00:01\r\n",
      "\u001b[K     |███████████████████████████     | 7.3 MB 28.0 MB/s eta 0:00:01\r\n",
      "\u001b[K     |███████████████████████████▏    | 7.4 MB 28.0 MB/s eta 0:00:01\r\n",
      "\u001b[K     |███████████████████████████▏    | 7.4 MB 28.0 MB/s eta 0:00:01\r\n",
      "\u001b[K     |███████████████████████████▎    | 7.4 MB 28.0 MB/s eta 0:00:01\r\n",
      "\u001b[K     |███████████████████████████▎    | 7.4 MB 28.0 MB/s eta 0:00:01\r\n",
      "\u001b[K     |███████████████████████████▎    | 7.4 MB 28.0 MB/s eta 0:00:01\r\n",
      "\u001b[K     |███████████████████████████▍    | 7.4 MB 28.0 MB/s eta 0:00:01\r\n",
      "\u001b[K     |███████████████████████████▍    | 7.4 MB 28.0 MB/s eta 0:00:01\r\n",
      "\u001b[K     |███████████████████████████▍    | 7.4 MB 28.0 MB/s eta 0:00:01\r\n",
      "\u001b[K     |███████████████████████████▌    | 7.4 MB 28.0 MB/s eta 0:00:01\r\n",
      "\u001b[K     |███████████████████████████▌    | 7.4 MB 28.0 MB/s eta 0:00:01\r\n",
      "\u001b[K     |███████████████████████████▌    | 7.5 MB 28.0 MB/s eta 0:00:01\r\n",
      "\u001b[K     |███████████████████████████▋    | 7.5 MB 28.0 MB/s eta 0:00:01\r\n",
      "\u001b[K     |███████████████████████████▋    | 7.5 MB 28.0 MB/s eta 0:00:01\r\n",
      "\u001b[K     |███████████████████████████▋    | 7.5 MB 28.0 MB/s eta 0:00:01"
     ]
    },
    {
     "name": "stdout",
     "output_type": "stream",
     "text": [
      "\r\n",
      "\u001b[K     |███████████████████████████▊    | 7.5 MB 28.0 MB/s eta 0:00:01\r\n",
      "\u001b[K     |███████████████████████████▊    | 7.5 MB 28.0 MB/s eta 0:00:01\r\n",
      "\u001b[K     |███████████████████████████▊    | 7.5 MB 28.0 MB/s eta 0:00:01\r\n",
      "\u001b[K     |███████████████████████████▉    | 7.5 MB 28.0 MB/s eta 0:00:01\r\n",
      "\u001b[K     |███████████████████████████▉    | 7.5 MB 28.0 MB/s eta 0:00:01\r\n",
      "\u001b[K     |███████████████████████████▉    | 7.5 MB 28.0 MB/s eta 0:00:01\r\n",
      "\u001b[K     |████████████████████████████    | 7.6 MB 28.0 MB/s eta 0:00:01\r\n",
      "\u001b[K     |████████████████████████████    | 7.6 MB 28.0 MB/s eta 0:00:01\r\n",
      "\u001b[K     |████████████████████████████    | 7.6 MB 28.0 MB/s eta 0:00:01\r\n",
      "\u001b[K     |████████████████████████████    | 7.6 MB 28.0 MB/s eta 0:00:01\r\n",
      "\u001b[K     |████████████████████████████    | 7.6 MB 28.0 MB/s eta 0:00:01\r\n",
      "\u001b[K     |████████████████████████████    | 7.6 MB 28.0 MB/s eta 0:00:01\r\n",
      "\u001b[K     |████████████████████████████▏   | 7.6 MB 28.0 MB/s eta 0:00:01\r\n",
      "\u001b[K     |████████████████████████████▏   | 7.6 MB 28.0 MB/s eta 0:00:01\r\n",
      "\u001b[K     |████████████████████████████▏   | 7.6 MB 28.0 MB/s eta 0:00:01\r\n",
      "\u001b[K     |████████████████████████████▎   | 7.6 MB 28.0 MB/s eta 0:00:01\r\n",
      "\u001b[K     |████████████████████████████▎   | 7.7 MB 28.0 MB/s eta 0:00:01\r\n",
      "\u001b[K     |████████████████████████████▎   | 7.7 MB 28.0 MB/s eta 0:00:01\r\n",
      "\u001b[K     |████████████████████████████▍   | 7.7 MB 28.0 MB/s eta 0:00:01\r\n",
      "\u001b[K     |████████████████████████████▍   | 7.7 MB 28.0 MB/s eta 0:00:01\r\n",
      "\u001b[K     |████████████████████████████▍   | 7.7 MB 28.0 MB/s eta 0:00:01\r\n",
      "\u001b[K     |████████████████████████████▌   | 7.7 MB 28.0 MB/s eta 0:00:01\r\n",
      "\u001b[K     |████████████████████████████▌   | 7.7 MB 28.0 MB/s eta 0:00:01\r\n",
      "\u001b[K     |████████████████████████████▌   | 7.7 MB 28.0 MB/s eta 0:00:01\r\n",
      "\u001b[K     |████████████████████████████▋   | 7.7 MB 28.0 MB/s eta 0:00:01\r\n",
      "\u001b[K     |████████████████████████████▋   | 7.8 MB 28.0 MB/s eta 0:00:01\r\n",
      "\u001b[K     |████████████████████████████▋   | 7.8 MB 28.0 MB/s eta 0:00:01\r\n",
      "\u001b[K     |████████████████████████████▊   | 7.8 MB 28.0 MB/s eta 0:00:01\r\n",
      "\u001b[K     |████████████████████████████▊   | 7.8 MB 28.0 MB/s eta 0:00:01\r\n",
      "\u001b[K     |████████████████████████████▊   | 7.8 MB 28.0 MB/s eta 0:00:01\r\n",
      "\u001b[K     |████████████████████████████▉   | 7.8 MB 28.0 MB/s eta 0:00:01\r\n",
      "\u001b[K     |████████████████████████████▉   | 7.8 MB 28.0 MB/s eta 0:00:01\r\n",
      "\u001b[K     |████████████████████████████▉   | 7.8 MB 28.0 MB/s eta 0:00:01\r\n",
      "\u001b[K     |█████████████████████████████   | 7.8 MB 28.0 MB/s eta 0:00:01\r\n",
      "\u001b[K     |█████████████████████████████   | 7.8 MB 28.0 MB/s eta 0:00:01\r\n",
      "\u001b[K     |█████████████████████████████   | 7.9 MB 28.0 MB/s eta 0:00:01\r\n",
      "\u001b[K     |█████████████████████████████   | 7.9 MB 28.0 MB/s eta 0:00:01\r\n",
      "\u001b[K     |█████████████████████████████   | 7.9 MB 28.0 MB/s eta 0:00:01\r\n",
      "\u001b[K     |█████████████████████████████▏  | 7.9 MB 28.0 MB/s eta 0:00:01\r\n",
      "\u001b[K     |█████████████████████████████▏  | 7.9 MB 28.0 MB/s eta 0:00:01\r\n",
      "\u001b[K     |█████████████████████████████▏  | 7.9 MB 28.0 MB/s eta 0:00:01\r\n",
      "\u001b[K     |█████████████████████████████▎  | 7.9 MB 28.0 MB/s eta 0:00:01\r\n",
      "\u001b[K     |█████████████████████████████▎  | 7.9 MB 28.0 MB/s eta 0:00:01\r\n",
      "\u001b[K     |█████████████████████████████▎  | 7.9 MB 28.0 MB/s eta 0:00:01\r\n",
      "\u001b[K     |█████████████████████████████▍  | 7.9 MB 28.0 MB/s eta 0:00:01\r\n",
      "\u001b[K     |█████████████████████████████▍  | 8.0 MB 28.0 MB/s eta 0:00:01\r\n",
      "\u001b[K     |█████████████████████████████▍  | 8.0 MB 28.0 MB/s eta 0:00:01\r\n",
      "\u001b[K     |█████████████████████████████▌  | 8.0 MB 28.0 MB/s eta 0:00:01\r\n",
      "\u001b[K     |█████████████████████████████▌  | 8.0 MB 28.0 MB/s eta 0:00:01\r\n",
      "\u001b[K     |█████████████████████████████▌  | 8.0 MB 28.0 MB/s eta 0:00:01\r\n",
      "\u001b[K     |█████████████████████████████▋  | 8.0 MB 28.0 MB/s eta 0:00:01\r\n",
      "\u001b[K     |█████████████████████████████▋  | 8.0 MB 28.0 MB/s eta 0:00:01\r\n",
      "\u001b[K     |█████████████████████████████▋  | 8.0 MB 28.0 MB/s eta 0:00:01\r\n",
      "\u001b[K     |█████████████████████████████▊  | 8.0 MB 28.0 MB/s eta 0:00:01\r\n",
      "\u001b[K     |█████████████████████████████▊  | 8.0 MB 28.0 MB/s eta 0:00:01\r\n",
      "\u001b[K     |█████████████████████████████▊  | 8.1 MB 28.0 MB/s eta 0:00:01\r\n",
      "\u001b[K     |█████████████████████████████▉  | 8.1 MB 28.0 MB/s eta 0:00:01\r\n",
      "\u001b[K     |█████████████████████████████▉  | 8.1 MB 28.0 MB/s eta 0:00:01\r\n",
      "\u001b[K     |█████████████████████████████▉  | 8.1 MB 28.0 MB/s eta 0:00:01\r\n",
      "\u001b[K     |██████████████████████████████  | 8.1 MB 28.0 MB/s eta 0:00:01\r\n",
      "\u001b[K     |██████████████████████████████  | 8.1 MB 28.0 MB/s eta 0:00:01\r\n",
      "\u001b[K     |██████████████████████████████  | 8.1 MB 28.0 MB/s eta 0:00:01\r\n",
      "\u001b[K     |██████████████████████████████  | 8.1 MB 28.0 MB/s eta 0:00:01\r\n",
      "\u001b[K     |██████████████████████████████  | 8.1 MB 28.0 MB/s eta 0:00:01\r\n",
      "\u001b[K     |██████████████████████████████  | 8.2 MB 28.0 MB/s eta 0:00:01\r\n",
      "\u001b[K     |██████████████████████████████▏ | 8.2 MB 28.0 MB/s eta 0:00:01\r\n",
      "\u001b[K     |██████████████████████████████▏ | 8.2 MB 28.0 MB/s eta 0:00:01\r\n",
      "\u001b[K     |██████████████████████████████▏ | 8.2 MB 28.0 MB/s eta 0:00:01\r\n",
      "\u001b[K     |██████████████████████████████▎ | 8.2 MB 28.0 MB/s eta 0:00:01\r\n",
      "\u001b[K     |██████████████████████████████▎ | 8.2 MB 28.0 MB/s eta 0:00:01\r\n",
      "\u001b[K     |██████████████████████████████▎ | 8.2 MB 28.0 MB/s eta 0:00:01\r\n",
      "\u001b[K     |██████████████████████████████▍ | 8.2 MB 28.0 MB/s eta 0:00:01\r\n",
      "\u001b[K     |██████████████████████████████▍ | 8.2 MB 28.0 MB/s eta 0:00:01\r\n",
      "\u001b[K     |██████████████████████████████▍ | 8.2 MB 28.0 MB/s eta 0:00:01\r\n",
      "\u001b[K     |██████████████████████████████▌ | 8.3 MB 28.0 MB/s eta 0:00:01\r\n",
      "\u001b[K     |██████████████████████████████▌ | 8.3 MB 28.0 MB/s eta 0:00:01\r\n",
      "\u001b[K     |██████████████████████████████▌ | 8.3 MB 28.0 MB/s eta 0:00:01\r\n",
      "\u001b[K     |██████████████████████████████▋ | 8.3 MB 28.0 MB/s eta 0:00:01\r\n",
      "\u001b[K     |██████████████████████████████▋ | 8.3 MB 28.0 MB/s eta 0:00:01\r\n",
      "\u001b[K     |██████████████████████████████▋ | 8.3 MB 28.0 MB/s eta 0:00:01\r\n",
      "\u001b[K     |██████████████████████████████▊ | 8.3 MB 28.0 MB/s eta 0:00:01\r\n",
      "\u001b[K     |██████████████████████████████▊ | 8.3 MB 28.0 MB/s eta 0:00:01\r\n",
      "\u001b[K     |██████████████████████████████▊ | 8.3 MB 28.0 MB/s eta 0:00:01\r\n",
      "\u001b[K     |██████████████████████████████▉ | 8.3 MB 28.0 MB/s eta 0:00:01\r\n",
      "\u001b[K     |██████████████████████████████▉ | 8.4 MB 28.0 MB/s eta 0:00:01\r\n",
      "\u001b[K     |███████████████████████████████ | 8.4 MB 28.0 MB/s eta 0:00:01\r\n",
      "\u001b[K     |███████████████████████████████ | 8.4 MB 28.0 MB/s eta 0:00:01\r\n",
      "\u001b[K     |███████████████████████████████ | 8.4 MB 28.0 MB/s eta 0:00:01\r\n",
      "\u001b[K     |███████████████████████████████ | 8.4 MB 28.0 MB/s eta 0:00:01\r\n",
      "\u001b[K     |███████████████████████████████ | 8.4 MB 28.0 MB/s eta 0:00:01\r\n",
      "\u001b[K     |███████████████████████████████ | 8.4 MB 28.0 MB/s eta 0:00:01\r\n",
      "\u001b[K     |███████████████████████████████▏| 8.4 MB 28.0 MB/s eta 0:00:01\r\n",
      "\u001b[K     |███████████████████████████████▏| 8.4 MB 28.0 MB/s eta 0:00:01\r\n",
      "\u001b[K     |███████████████████████████████▏| 8.4 MB 28.0 MB/s eta 0:00:01\r\n",
      "\u001b[K     |███████████████████████████████▎| 8.5 MB 28.0 MB/s eta 0:00:01\r\n",
      "\u001b[K     |███████████████████████████████▎| 8.5 MB 28.0 MB/s eta 0:00:01\r\n",
      "\u001b[K     |███████████████████████████████▎| 8.5 MB 28.0 MB/s eta 0:00:01\r\n",
      "\u001b[K     |███████████████████████████████▍| 8.5 MB 28.0 MB/s eta 0:00:01\r\n",
      "\u001b[K     |███████████████████████████████▍| 8.5 MB 28.0 MB/s eta 0:00:01\r\n",
      "\u001b[K     |███████████████████████████████▍| 8.5 MB 28.0 MB/s eta 0:00:01\r\n",
      "\u001b[K     |███████████████████████████████▌| 8.5 MB 28.0 MB/s eta 0:00:01\r\n",
      "\u001b[K     |███████████████████████████████▌| 8.5 MB 28.0 MB/s eta 0:00:01\r\n",
      "\u001b[K     |███████████████████████████████▌| 8.5 MB 28.0 MB/s eta 0:00:01\r\n",
      "\u001b[K     |███████████████████████████████▋| 8.6 MB 28.0 MB/s eta 0:00:01\r\n",
      "\u001b[K     |███████████████████████████████▋| 8.6 MB 28.0 MB/s eta 0:00:01\r\n",
      "\u001b[K     |███████████████████████████████▋| 8.6 MB 28.0 MB/s eta 0:00:01\r\n",
      "\u001b[K     |███████████████████████████████▊| 8.6 MB 28.0 MB/s eta 0:00:01\r\n",
      "\u001b[K     |███████████████████████████████▊| 8.6 MB 28.0 MB/s eta 0:00:01\r\n",
      "\u001b[K     |███████████████████████████████▊| 8.6 MB 28.0 MB/s eta 0:00:01\r\n",
      "\u001b[K     |███████████████████████████████▉| 8.6 MB 28.0 MB/s eta 0:00:01\r\n",
      "\u001b[K     |███████████████████████████████▉| 8.6 MB 28.0 MB/s eta 0:00:01\r\n",
      "\u001b[K     |███████████████████████████████▉| 8.6 MB 28.0 MB/s eta 0:00:01\r\n",
      "\u001b[K     |████████████████████████████████| 8.6 MB 28.0 MB/s eta 0:00:01\r\n",
      "\u001b[K     |████████████████████████████████| 8.7 MB 28.0 MB/s eta 0:00:01\r\n",
      "\u001b[K     |████████████████████████████████| 8.7 MB 28.0 MB/s eta 0:00:01"
     ]
    },
    {
     "name": "stdout",
     "output_type": "stream",
     "text": [
      "\r\n",
      "\u001b[K     |████████████████████████████████| 8.7 MB 28.0 MB/s \r\n"
     ]
    },
    {
     "name": "stdout",
     "output_type": "stream",
     "text": [
      "\u001b[?25hRequirement already satisfied: boto3 in /usr/local/lib/python3.6/site-packages (1.20.7)\r\n"
     ]
    },
    {
     "name": "stdout",
     "output_type": "stream",
     "text": [
      "Collecting boto3\r\n",
      "  Downloading boto3-1.21.42-py3-none-any.whl (132 kB)\r\n",
      "\u001b[?25l\r\n",
      "\u001b[K     |██▌                             | 10 kB 32.3 MB/s eta 0:00:01\r\n",
      "\u001b[K     |█████                           | 20 kB 39.1 MB/s eta 0:00:01\r\n",
      "\u001b[K     |███████▍                        | 30 kB 47.5 MB/s eta 0:00:01\r\n",
      "\u001b[K     |██████████                      | 40 kB 52.5 MB/s eta 0:00:01\r\n",
      "\u001b[K     |████████████▍                   | 51 kB 56.0 MB/s eta 0:00:01\r\n",
      "\u001b[K     |██████████████▉                 | 61 kB 60.5 MB/s eta 0:00:01\r\n",
      "\u001b[K     |█████████████████▎              | 71 kB 61.2 MB/s eta 0:00:01\r\n",
      "\u001b[K     |███████████████████▉            | 81 kB 62.8 MB/s eta 0:00:01\r\n",
      "\u001b[K     |██████████████████████▎         | 92 kB 64.9 MB/s eta 0:00:01\r\n",
      "\u001b[K     |████████████████████████▊       | 102 kB 66.1 MB/s eta 0:00:01\r\n",
      "\u001b[K     |███████████████████████████▎    | 112 kB 66.1 MB/s eta 0:00:01\r\n",
      "\u001b[K     |█████████████████████████████▊  | 122 kB 66.1 MB/s eta 0:00:01\r\n",
      "\u001b[K     |████████████████████████████████| 132 kB 66.1 MB/s \r\n",
      "\u001b[?25hRequirement already satisfied: awscli in /usr/local/lib/python3.6/site-packages (1.22.7)\r\n"
     ]
    },
    {
     "name": "stdout",
     "output_type": "stream",
     "text": [
      "Collecting awscli\r\n",
      "  Downloading awscli-1.22.97-py3-none-any.whl (3.8 MB)\r\n",
      "\u001b[?25l\r\n",
      "\u001b[K     |                                | 10 kB 28.2 MB/s eta 0:00:01\r\n",
      "\u001b[K     |▏                               | 20 kB 32.8 MB/s eta 0:00:01\r\n",
      "\u001b[K     |▎                               | 30 kB 37.1 MB/s eta 0:00:01\r\n",
      "\u001b[K     |▍                               | 40 kB 40.6 MB/s eta 0:00:01\r\n",
      "\u001b[K     |▍                               | 51 kB 42.1 MB/s eta 0:00:01\r\n",
      "\u001b[K     |▌                               | 61 kB 44.1 MB/s eta 0:00:01\r\n",
      "\u001b[K     |▋                               | 71 kB 45.6 MB/s eta 0:00:01\r\n",
      "\u001b[K     |▊                               | 81 kB 46.2 MB/s eta 0:00:01\r\n",
      "\u001b[K     |▊                               | 92 kB 47.3 MB/s eta 0:00:01\r\n",
      "\u001b[K     |▉                               | 102 kB 48.1 MB/s eta 0:00:01\r\n",
      "\u001b[K     |█                               | 112 kB 48.1 MB/s eta 0:00:01\r\n",
      "\u001b[K     |█                               | 122 kB 48.1 MB/s eta 0:00:01\r\n",
      "\u001b[K     |█                               | 133 kB 48.1 MB/s eta 0:00:01\r\n",
      "\u001b[K     |█▏                              | 143 kB 48.1 MB/s eta 0:00:01\r\n",
      "\u001b[K     |█▎                              | 153 kB 48.1 MB/s eta 0:00:01\r\n",
      "\u001b[K     |█▍                              | 163 kB 48.1 MB/s eta 0:00:01\r\n",
      "\u001b[K     |█▌                              | 174 kB 48.1 MB/s eta 0:00:01\r\n",
      "\u001b[K     |█▌                              | 184 kB 48.1 MB/s eta 0:00:01\r\n",
      "\u001b[K     |█▋                              | 194 kB 48.1 MB/s eta 0:00:01\r\n",
      "\u001b[K     |█▊                              | 204 kB 48.1 MB/s eta 0:00:01"
     ]
    },
    {
     "name": "stdout",
     "output_type": "stream",
     "text": [
      "\r\n",
      "\u001b[K     |█▉                              | 215 kB 48.1 MB/s eta 0:00:01\r\n",
      "\u001b[K     |█▉                              | 225 kB 48.1 MB/s eta 0:00:01\r\n",
      "\u001b[K     |██                              | 235 kB 48.1 MB/s eta 0:00:01\r\n",
      "\u001b[K     |██                              | 245 kB 48.1 MB/s eta 0:00:01\r\n",
      "\u001b[K     |██▏                             | 256 kB 48.1 MB/s eta 0:00:01\r\n",
      "\u001b[K     |██▏                             | 266 kB 48.1 MB/s eta 0:00:01\r\n",
      "\u001b[K     |██▎                             | 276 kB 48.1 MB/s eta 0:00:01\r\n",
      "\u001b[K     |██▍                             | 286 kB 48.1 MB/s eta 0:00:01\r\n",
      "\u001b[K     |██▌                             | 296 kB 48.1 MB/s eta 0:00:01\r\n",
      "\u001b[K     |██▋                             | 307 kB 48.1 MB/s eta 0:00:01\r\n",
      "\u001b[K     |██▋                             | 317 kB 48.1 MB/s eta 0:00:01\r\n",
      "\u001b[K     |██▊                             | 327 kB 48.1 MB/s eta 0:00:01\r\n",
      "\u001b[K     |██▉                             | 337 kB 48.1 MB/s eta 0:00:01\r\n",
      "\u001b[K     |███                             | 348 kB 48.1 MB/s eta 0:00:01\r\n",
      "\u001b[K     |███                             | 358 kB 48.1 MB/s eta 0:00:01\r\n",
      "\u001b[K     |███                             | 368 kB 48.1 MB/s eta 0:00:01\r\n",
      "\u001b[K     |███▏                            | 378 kB 48.1 MB/s eta 0:00:01\r\n",
      "\u001b[K     |███▎                            | 389 kB 48.1 MB/s eta 0:00:01\r\n",
      "\u001b[K     |███▎                            | 399 kB 48.1 MB/s eta 0:00:01\r\n",
      "\u001b[K     |███▍                            | 409 kB 48.1 MB/s eta 0:00:01\r\n",
      "\u001b[K     |███▌                            | 419 kB 48.1 MB/s eta 0:00:01\r\n",
      "\u001b[K     |███▋                            | 430 kB 48.1 MB/s eta 0:00:01\r\n",
      "\u001b[K     |███▋                            | 440 kB 48.1 MB/s eta 0:00:01\r\n",
      "\u001b[K     |███▊                            | 450 kB 48.1 MB/s eta 0:00:01\r\n",
      "\u001b[K     |███▉                            | 460 kB 48.1 MB/s eta 0:00:01\r\n",
      "\u001b[K     |████                            | 471 kB 48.1 MB/s eta 0:00:01\r\n",
      "\u001b[K     |████                            | 481 kB 48.1 MB/s eta 0:00:01\r\n",
      "\u001b[K     |████                            | 491 kB 48.1 MB/s eta 0:00:01\r\n",
      "\u001b[K     |████▏                           | 501 kB 48.1 MB/s eta 0:00:01\r\n",
      "\u001b[K     |████▎                           | 512 kB 48.1 MB/s eta 0:00:01\r\n",
      "\u001b[K     |████▍                           | 522 kB 48.1 MB/s eta 0:00:01\r\n",
      "\u001b[K     |████▍                           | 532 kB 48.1 MB/s eta 0:00:01\r\n",
      "\u001b[K     |████▌                           | 542 kB 48.1 MB/s eta 0:00:01\r\n",
      "\u001b[K     |████▋                           | 552 kB 48.1 MB/s eta 0:00:01\r\n",
      "\u001b[K     |████▊                           | 563 kB 48.1 MB/s eta 0:00:01\r\n",
      "\u001b[K     |████▊                           | 573 kB 48.1 MB/s eta 0:00:01\r\n",
      "\u001b[K     |████▉                           | 583 kB 48.1 MB/s eta 0:00:01\r\n",
      "\u001b[K     |█████                           | 593 kB 48.1 MB/s eta 0:00:01\r\n",
      "\u001b[K     |█████                           | 604 kB 48.1 MB/s eta 0:00:01\r\n",
      "\u001b[K     |█████▏                          | 614 kB 48.1 MB/s eta 0:00:01\r\n",
      "\u001b[K     |█████▏                          | 624 kB 48.1 MB/s eta 0:00:01\r\n",
      "\u001b[K     |█████▎                          | 634 kB 48.1 MB/s eta 0:00:01\r\n",
      "\u001b[K     |█████▍                          | 645 kB 48.1 MB/s eta 0:00:01\r\n",
      "\u001b[K     |█████▌                          | 655 kB 48.1 MB/s eta 0:00:01\r\n",
      "\u001b[K     |█████▌                          | 665 kB 48.1 MB/s eta 0:00:01\r\n",
      "\u001b[K     |█████▋                          | 675 kB 48.1 MB/s eta 0:00:01\r\n",
      "\u001b[K     |█████▊                          | 686 kB 48.1 MB/s eta 0:00:01\r\n",
      "\u001b[K     |█████▉                          | 696 kB 48.1 MB/s eta 0:00:01\r\n",
      "\u001b[K     |█████▉                          | 706 kB 48.1 MB/s eta 0:00:01\r\n",
      "\u001b[K     |██████                          | 716 kB 48.1 MB/s eta 0:00:01\r\n",
      "\u001b[K     |██████                          | 727 kB 48.1 MB/s eta 0:00:01\r\n",
      "\u001b[K     |██████▏                         | 737 kB 48.1 MB/s eta 0:00:01\r\n",
      "\u001b[K     |██████▏                         | 747 kB 48.1 MB/s eta 0:00:01\r\n",
      "\u001b[K     |██████▎                         | 757 kB 48.1 MB/s eta 0:00:01\r\n",
      "\u001b[K     |██████▍                         | 768 kB 48.1 MB/s eta 0:00:01\r\n",
      "\u001b[K     |██████▌                         | 778 kB 48.1 MB/s eta 0:00:01\r\n",
      "\u001b[K     |██████▋                         | 788 kB 48.1 MB/s eta 0:00:01\r\n",
      "\u001b[K     |██████▋                         | 798 kB 48.1 MB/s eta 0:00:01\r\n",
      "\u001b[K     |██████▊                         | 808 kB 48.1 MB/s eta 0:00:01\r\n",
      "\u001b[K     |██████▉                         | 819 kB 48.1 MB/s eta 0:00:01\r\n",
      "\u001b[K     |███████                         | 829 kB 48.1 MB/s eta 0:00:01\r\n",
      "\u001b[K     |███████                         | 839 kB 48.1 MB/s eta 0:00:01\r\n",
      "\u001b[K     |███████                         | 849 kB 48.1 MB/s eta 0:00:01\r\n",
      "\u001b[K     |███████▏                        | 860 kB 48.1 MB/s eta 0:00:01\r\n",
      "\u001b[K     |███████▎                        | 870 kB 48.1 MB/s eta 0:00:01\r\n",
      "\u001b[K     |███████▎                        | 880 kB 48.1 MB/s eta 0:00:01\r\n",
      "\u001b[K     |███████▍                        | 890 kB 48.1 MB/s eta 0:00:01\r\n",
      "\u001b[K     |███████▌                        | 901 kB 48.1 MB/s eta 0:00:01\r\n",
      "\u001b[K     |███████▋                        | 911 kB 48.1 MB/s eta 0:00:01\r\n",
      "\u001b[K     |███████▊                        | 921 kB 48.1 MB/s eta 0:00:01\r\n",
      "\u001b[K     |███████▊                        | 931 kB 48.1 MB/s eta 0:00:01\r\n",
      "\u001b[K     |███████▉                        | 942 kB 48.1 MB/s eta 0:00:01\r\n",
      "\u001b[K     |████████                        | 952 kB 48.1 MB/s eta 0:00:01\r\n",
      "\u001b[K     |████████                        | 962 kB 48.1 MB/s eta 0:00:01\r\n",
      "\u001b[K     |████████                        | 972 kB 48.1 MB/s eta 0:00:01\r\n",
      "\u001b[K     |████████▏                       | 983 kB 48.1 MB/s eta 0:00:01\r\n",
      "\u001b[K     |████████▎                       | 993 kB 48.1 MB/s eta 0:00:01\r\n",
      "\u001b[K     |████████▍                       | 1.0 MB 48.1 MB/s eta 0:00:01\r\n",
      "\u001b[K     |████████▍                       | 1.0 MB 48.1 MB/s eta 0:00:01\r\n",
      "\u001b[K     |████████▌                       | 1.0 MB 48.1 MB/s eta 0:00:01\r\n",
      "\u001b[K     |████████▋                       | 1.0 MB 48.1 MB/s eta 0:00:01\r\n",
      "\u001b[K     |████████▊                       | 1.0 MB 48.1 MB/s eta 0:00:01\r\n",
      "\u001b[K     |████████▊                       | 1.1 MB 48.1 MB/s eta 0:00:01\r\n",
      "\u001b[K     |████████▉                       | 1.1 MB 48.1 MB/s eta 0:00:01\r\n",
      "\u001b[K     |█████████                       | 1.1 MB 48.1 MB/s eta 0:00:01\r\n",
      "\u001b[K     |█████████                       | 1.1 MB 48.1 MB/s eta 0:00:01\r\n",
      "\u001b[K     |█████████▏                      | 1.1 MB 48.1 MB/s eta 0:00:01\r\n",
      "\u001b[K     |█████████▏                      | 1.1 MB 48.1 MB/s eta 0:00:01\r\n",
      "\u001b[K     |█████████▎                      | 1.1 MB 48.1 MB/s eta 0:00:01\r\n",
      "\u001b[K     |█████████▍                      | 1.1 MB 48.1 MB/s eta 0:00:01\r\n",
      "\u001b[K     |█████████▌                      | 1.1 MB 48.1 MB/s eta 0:00:01\r\n",
      "\u001b[K     |█████████▌                      | 1.1 MB 48.1 MB/s eta 0:00:01\r\n",
      "\u001b[K     |█████████▋                      | 1.2 MB 48.1 MB/s eta 0:00:01\r\n",
      "\u001b[K     |█████████▊                      | 1.2 MB 48.1 MB/s eta 0:00:01\r\n",
      "\u001b[K     |█████████▉                      | 1.2 MB 48.1 MB/s eta 0:00:01\r\n",
      "\u001b[K     |█████████▉                      | 1.2 MB 48.1 MB/s eta 0:00:01\r\n",
      "\u001b[K     |██████████                      | 1.2 MB 48.1 MB/s eta 0:00:01\r\n",
      "\u001b[K     |██████████                      | 1.2 MB 48.1 MB/s eta 0:00:01\r\n",
      "\u001b[K     |██████████▏                     | 1.2 MB 48.1 MB/s eta 0:00:01\r\n",
      "\u001b[K     |██████████▎                     | 1.2 MB 48.1 MB/s eta 0:00:01\r\n",
      "\u001b[K     |██████████▎                     | 1.2 MB 48.1 MB/s eta 0:00:01\r\n",
      "\u001b[K     |██████████▍                     | 1.2 MB 48.1 MB/s eta 0:00:01\r\n",
      "\u001b[K     |██████████▌                     | 1.3 MB 48.1 MB/s eta 0:00:01\r\n",
      "\u001b[K     |██████████▋                     | 1.3 MB 48.1 MB/s eta 0:00:01\r\n",
      "\u001b[K     |██████████▋                     | 1.3 MB 48.1 MB/s eta 0:00:01\r\n",
      "\u001b[K     |██████████▊                     | 1.3 MB 48.1 MB/s eta 0:00:01\r\n",
      "\u001b[K     |██████████▉                     | 1.3 MB 48.1 MB/s eta 0:00:01\r\n",
      "\u001b[K     |███████████                     | 1.3 MB 48.1 MB/s eta 0:00:01\r\n",
      "\u001b[K     |███████████                     | 1.3 MB 48.1 MB/s eta 0:00:01\r\n",
      "\u001b[K     |███████████                     | 1.3 MB 48.1 MB/s eta 0:00:01\r\n",
      "\u001b[K     |███████████▏                    | 1.3 MB 48.1 MB/s eta 0:00:01\r\n",
      "\u001b[K     |███████████▎                    | 1.4 MB 48.1 MB/s eta 0:00:01\r\n",
      "\u001b[K     |███████████▎                    | 1.4 MB 48.1 MB/s eta 0:00:01\r\n",
      "\u001b[K     |███████████▍                    | 1.4 MB 48.1 MB/s eta 0:00:01\r\n",
      "\u001b[K     |███████████▌                    | 1.4 MB 48.1 MB/s eta 0:00:01\r\n",
      "\u001b[K     |███████████▋                    | 1.4 MB 48.1 MB/s eta 0:00:01\r\n",
      "\u001b[K     |███████████▊                    | 1.4 MB 48.1 MB/s eta 0:00:01\r\n",
      "\u001b[K     |███████████▊                    | 1.4 MB 48.1 MB/s eta 0:00:01\r\n",
      "\u001b[K     |███████████▉                    | 1.4 MB 48.1 MB/s eta 0:00:01\r\n",
      "\u001b[K     |████████████                    | 1.4 MB 48.1 MB/s eta 0:00:01\r\n",
      "\u001b[K     |████████████                    | 1.4 MB 48.1 MB/s eta 0:00:01\r\n",
      "\u001b[K     |████████████                    | 1.5 MB 48.1 MB/s eta 0:00:01\r\n",
      "\u001b[K     |████████████▏                   | 1.5 MB 48.1 MB/s eta 0:00:01\r\n",
      "\u001b[K     |████████████▎                   | 1.5 MB 48.1 MB/s eta 0:00:01\r\n",
      "\u001b[K     |████████████▍                   | 1.5 MB 48.1 MB/s eta 0:00:01\r\n",
      "\u001b[K     |████████████▍                   | 1.5 MB 48.1 MB/s eta 0:00:01\r\n",
      "\u001b[K     |████████████▌                   | 1.5 MB 48.1 MB/s eta 0:00:01\r\n",
      "\u001b[K     |████████████▋                   | 1.5 MB 48.1 MB/s eta 0:00:01\r\n",
      "\u001b[K     |████████████▊                   | 1.5 MB 48.1 MB/s eta 0:00:01\r\n",
      "\u001b[K     |████████████▉                   | 1.5 MB 48.1 MB/s eta 0:00:01\r\n",
      "\u001b[K     |████████████▉                   | 1.5 MB 48.1 MB/s eta 0:00:01\r\n",
      "\u001b[K     |█████████████                   | 1.6 MB 48.1 MB/s eta 0:00:01\r\n",
      "\u001b[K     |█████████████                   | 1.6 MB 48.1 MB/s eta 0:00:01\r\n",
      "\u001b[K     |█████████████▏                  | 1.6 MB 48.1 MB/s eta 0:00:01\r\n",
      "\u001b[K     |█████████████▏                  | 1.6 MB 48.1 MB/s eta 0:00:01\r\n",
      "\u001b[K     |█████████████▎                  | 1.6 MB 48.1 MB/s eta 0:00:01\r\n",
      "\u001b[K     |█████████████▍                  | 1.6 MB 48.1 MB/s eta 0:00:01\r\n",
      "\u001b[K     |█████████████▌                  | 1.6 MB 48.1 MB/s eta 0:00:01\r\n",
      "\u001b[K     |█████████████▌                  | 1.6 MB 48.1 MB/s eta 0:00:01\r\n",
      "\u001b[K     |█████████████▋                  | 1.6 MB 48.1 MB/s eta 0:00:01\r\n",
      "\u001b[K     |█████████████▊                  | 1.6 MB 48.1 MB/s eta 0:00:01\r\n",
      "\u001b[K     |█████████████▉                  | 1.7 MB 48.1 MB/s eta 0:00:01\r\n",
      "\u001b[K     |██████████████                  | 1.7 MB 48.1 MB/s eta 0:00:01\r\n",
      "\u001b[K     |██████████████                  | 1.7 MB 48.1 MB/s eta 0:00:01\r\n",
      "\u001b[K     |██████████████                  | 1.7 MB 48.1 MB/s eta 0:00:01\r\n",
      "\u001b[K     |██████████████▏                 | 1.7 MB 48.1 MB/s eta 0:00:01\r\n",
      "\u001b[K     |██████████████▎                 | 1.7 MB 48.1 MB/s eta 0:00:01\r\n",
      "\u001b[K     |██████████████▎                 | 1.7 MB 48.1 MB/s eta 0:00:01\r\n",
      "\u001b[K     |██████████████▍                 | 1.7 MB 48.1 MB/s eta 0:00:01\r\n",
      "\u001b[K     |██████████████▌                 | 1.7 MB 48.1 MB/s eta 0:00:01\r\n",
      "\u001b[K     |██████████████▋                 | 1.8 MB 48.1 MB/s eta 0:00:01\r\n",
      "\u001b[K     |██████████████▋                 | 1.8 MB 48.1 MB/s eta 0:00:01\r\n",
      "\u001b[K     |██████████████▊                 | 1.8 MB 48.1 MB/s eta 0:00:01\r\n",
      "\u001b[K     |██████████████▉                 | 1.8 MB 48.1 MB/s eta 0:00:01\r\n",
      "\u001b[K     |███████████████                 | 1.8 MB 48.1 MB/s eta 0:00:01\r\n",
      "\u001b[K     |███████████████                 | 1.8 MB 48.1 MB/s eta 0:00:01\r\n",
      "\u001b[K     |███████████████                 | 1.8 MB 48.1 MB/s eta 0:00:01\r\n",
      "\u001b[K     |███████████████▏                | 1.8 MB 48.1 MB/s eta 0:00:01\r\n",
      "\u001b[K     |███████████████▎                | 1.8 MB 48.1 MB/s eta 0:00:01\r\n",
      "\u001b[K     |███████████████▍                | 1.8 MB 48.1 MB/s eta 0:00:01\r\n",
      "\u001b[K     |███████████████▍                | 1.9 MB 48.1 MB/s eta 0:00:01\r\n",
      "\u001b[K     |███████████████▌                | 1.9 MB 48.1 MB/s eta 0:00:01\r\n",
      "\u001b[K     |███████████████▋                | 1.9 MB 48.1 MB/s eta 0:00:01\r\n",
      "\u001b[K     |███████████████▊                | 1.9 MB 48.1 MB/s eta 0:00:01\r\n",
      "\u001b[K     |███████████████▊                | 1.9 MB 48.1 MB/s eta 0:00:01\r\n",
      "\u001b[K     |███████████████▉                | 1.9 MB 48.1 MB/s eta 0:00:01\r\n",
      "\u001b[K     |████████████████                | 1.9 MB 48.1 MB/s eta 0:00:01\r\n",
      "\u001b[K     |████████████████                | 1.9 MB 48.1 MB/s eta 0:00:01\r\n",
      "\u001b[K     |████████████████                | 1.9 MB 48.1 MB/s eta 0:00:01\r\n",
      "\u001b[K     |████████████████▏               | 1.9 MB 48.1 MB/s eta 0:00:01\r\n",
      "\u001b[K     |████████████████▎               | 2.0 MB 48.1 MB/s eta 0:00:01\r\n",
      "\u001b[K     |████████████████▍               | 2.0 MB 48.1 MB/s eta 0:00:01\r\n",
      "\u001b[K     |████████████████▌               | 2.0 MB 48.1 MB/s eta 0:00:01\r\n",
      "\u001b[K     |████████████████▌               | 2.0 MB 48.1 MB/s eta 0:00:01\r\n",
      "\u001b[K     |████████████████▋               | 2.0 MB 48.1 MB/s eta 0:00:01\r\n",
      "\u001b[K     |████████████████▊               | 2.0 MB 48.1 MB/s eta 0:00:01\r\n",
      "\u001b[K     |████████████████▉               | 2.0 MB 48.1 MB/s eta 0:00:01\r\n",
      "\u001b[K     |████████████████▉               | 2.0 MB 48.1 MB/s eta 0:00:01\r\n",
      "\u001b[K     |█████████████████               | 2.0 MB 48.1 MB/s eta 0:00:01\r\n",
      "\u001b[K     |█████████████████               | 2.0 MB 48.1 MB/s eta 0:00:01\r\n",
      "\u001b[K     |█████████████████▏              | 2.1 MB 48.1 MB/s eta 0:00:01\r\n",
      "\u001b[K     |█████████████████▏              | 2.1 MB 48.1 MB/s eta 0:00:01\r\n",
      "\u001b[K     |█████████████████▎              | 2.1 MB 48.1 MB/s eta 0:00:01\r\n",
      "\u001b[K     |█████████████████▍              | 2.1 MB 48.1 MB/s eta 0:00:01\r\n",
      "\u001b[K     |█████████████████▌              | 2.1 MB 48.1 MB/s eta 0:00:01\r\n",
      "\u001b[K     |█████████████████▌              | 2.1 MB 48.1 MB/s eta 0:00:01\r\n",
      "\u001b[K     |█████████████████▋              | 2.1 MB 48.1 MB/s eta 0:00:01\r\n",
      "\u001b[K     |█████████████████▊              | 2.1 MB 48.1 MB/s eta 0:00:01\r\n",
      "\u001b[K     |█████████████████▉              | 2.1 MB 48.1 MB/s eta 0:00:01\r\n",
      "\u001b[K     |██████████████████              | 2.2 MB 48.1 MB/s eta 0:00:01\r\n",
      "\u001b[K     |██████████████████              | 2.2 MB 48.1 MB/s eta 0:00:01\r\n",
      "\u001b[K     |██████████████████              | 2.2 MB 48.1 MB/s eta 0:00:01\r\n",
      "\u001b[K     |██████████████████▏             | 2.2 MB 48.1 MB/s eta 0:00:01\r\n",
      "\u001b[K     |██████████████████▎             | 2.2 MB 48.1 MB/s eta 0:00:01\r\n",
      "\u001b[K     |██████████████████▎             | 2.2 MB 48.1 MB/s eta 0:00:01\r\n",
      "\u001b[K     |██████████████████▍             | 2.2 MB 48.1 MB/s eta 0:00:01\r\n",
      "\u001b[K     |██████████████████▌             | 2.2 MB 48.1 MB/s eta 0:00:01\r\n",
      "\u001b[K     |██████████████████▋             | 2.2 MB 48.1 MB/s eta 0:00:01\r\n",
      "\u001b[K     |██████████████████▋             | 2.2 MB 48.1 MB/s eta 0:00:01\r\n",
      "\u001b[K     |██████████████████▊             | 2.3 MB 48.1 MB/s eta 0:00:01\r\n",
      "\u001b[K     |██████████████████▉             | 2.3 MB 48.1 MB/s eta 0:00:01\r\n",
      "\u001b[K     |███████████████████             | 2.3 MB 48.1 MB/s eta 0:00:01\r\n",
      "\u001b[K     |███████████████████             | 2.3 MB 48.1 MB/s eta 0:00:01\r\n",
      "\u001b[K     |███████████████████             | 2.3 MB 48.1 MB/s eta 0:00:01\r\n",
      "\u001b[K     |███████████████████▏            | 2.3 MB 48.1 MB/s eta 0:00:01\r\n",
      "\u001b[K     |███████████████████▎            | 2.3 MB 48.1 MB/s eta 0:00:01\r\n",
      "\u001b[K     |███████████████████▍            | 2.3 MB 48.1 MB/s eta 0:00:01\r\n",
      "\u001b[K     |███████████████████▍            | 2.3 MB 48.1 MB/s eta 0:00:01\r\n",
      "\u001b[K     |███████████████████▌            | 2.3 MB 48.1 MB/s eta 0:00:01\r\n",
      "\u001b[K     |███████████████████▋            | 2.4 MB 48.1 MB/s eta 0:00:01\r\n",
      "\u001b[K     |███████████████████▊            | 2.4 MB 48.1 MB/s eta 0:00:01\r\n",
      "\u001b[K     |███████████████████▊            | 2.4 MB 48.1 MB/s eta 0:00:01\r\n",
      "\u001b[K     |███████████████████▉            | 2.4 MB 48.1 MB/s eta 0:00:01\r\n",
      "\u001b[K     |████████████████████            | 2.4 MB 48.1 MB/s eta 0:00:01\r\n",
      "\u001b[K     |████████████████████            | 2.4 MB 48.1 MB/s eta 0:00:01\r\n",
      "\u001b[K     |████████████████████            | 2.4 MB 48.1 MB/s eta 0:00:01\r\n",
      "\u001b[K     |████████████████████▏           | 2.4 MB 48.1 MB/s eta 0:00:01\r\n",
      "\u001b[K     |████████████████████▎           | 2.4 MB 48.1 MB/s eta 0:00:01\r\n",
      "\u001b[K     |████████████████████▍           | 2.4 MB 48.1 MB/s eta 0:00:01\r\n",
      "\u001b[K     |████████████████████▌           | 2.5 MB 48.1 MB/s eta 0:00:01\r\n",
      "\u001b[K     |████████████████████▌           | 2.5 MB 48.1 MB/s eta 0:00:01\r\n",
      "\u001b[K     |████████████████████▋           | 2.5 MB 48.1 MB/s eta 0:00:01\r\n",
      "\u001b[K     |████████████████████▊           | 2.5 MB 48.1 MB/s eta 0:00:01\r\n",
      "\u001b[K     |████████████████████▉           | 2.5 MB 48.1 MB/s eta 0:00:01\r\n",
      "\u001b[K     |████████████████████▉           | 2.5 MB 48.1 MB/s eta 0:00:01\r\n",
      "\u001b[K     |█████████████████████           | 2.5 MB 48.1 MB/s eta 0:00:01"
     ]
    },
    {
     "name": "stdout",
     "output_type": "stream",
     "text": [
      "\r\n",
      "\u001b[K     |█████████████████████           | 2.5 MB 48.1 MB/s eta 0:00:01\r\n",
      "\u001b[K     |█████████████████████▏          | 2.5 MB 48.1 MB/s eta 0:00:01\r\n",
      "\u001b[K     |█████████████████████▏          | 2.5 MB 48.1 MB/s eta 0:00:01\r\n",
      "\u001b[K     |█████████████████████▎          | 2.6 MB 48.1 MB/s eta 0:00:01\r\n",
      "\u001b[K     |█████████████████████▍          | 2.6 MB 48.1 MB/s eta 0:00:01\r\n",
      "\u001b[K     |█████████████████████▌          | 2.6 MB 48.1 MB/s eta 0:00:01\r\n",
      "\u001b[K     |█████████████████████▋          | 2.6 MB 48.1 MB/s eta 0:00:01\r\n",
      "\u001b[K     |█████████████████████▋          | 2.6 MB 48.1 MB/s eta 0:00:01\r\n",
      "\u001b[K     |█████████████████████▊          | 2.6 MB 48.1 MB/s eta 0:00:01\r\n",
      "\u001b[K     |█████████████████████▉          | 2.6 MB 48.1 MB/s eta 0:00:01\r\n",
      "\u001b[K     |██████████████████████          | 2.6 MB 48.1 MB/s eta 0:00:01\r\n",
      "\u001b[K     |██████████████████████          | 2.6 MB 48.1 MB/s eta 0:00:01\r\n",
      "\u001b[K     |██████████████████████          | 2.7 MB 48.1 MB/s eta 0:00:01\r\n",
      "\u001b[K     |██████████████████████▏         | 2.7 MB 48.1 MB/s eta 0:00:01\r\n",
      "\u001b[K     |██████████████████████▎         | 2.7 MB 48.1 MB/s eta 0:00:01\r\n",
      "\u001b[K     |██████████████████████▎         | 2.7 MB 48.1 MB/s eta 0:00:01\r\n",
      "\u001b[K     |██████████████████████▍         | 2.7 MB 48.1 MB/s eta 0:00:01\r\n",
      "\u001b[K     |██████████████████████▌         | 2.7 MB 48.1 MB/s eta 0:00:01\r\n",
      "\u001b[K     |██████████████████████▋         | 2.7 MB 48.1 MB/s eta 0:00:01\r\n",
      "\u001b[K     |██████████████████████▋         | 2.7 MB 48.1 MB/s eta 0:00:01\r\n",
      "\u001b[K     |██████████████████████▊         | 2.7 MB 48.1 MB/s eta 0:00:01\r\n",
      "\u001b[K     |██████████████████████▉         | 2.7 MB 48.1 MB/s eta 0:00:01\r\n",
      "\u001b[K     |███████████████████████         | 2.8 MB 48.1 MB/s eta 0:00:01\r\n",
      "\u001b[K     |███████████████████████         | 2.8 MB 48.1 MB/s eta 0:00:01\r\n",
      "\u001b[K     |███████████████████████         | 2.8 MB 48.1 MB/s eta 0:00:01\r\n",
      "\u001b[K     |███████████████████████▏        | 2.8 MB 48.1 MB/s eta 0:00:01\r\n",
      "\u001b[K     |███████████████████████▎        | 2.8 MB 48.1 MB/s eta 0:00:01\r\n",
      "\u001b[K     |███████████████████████▍        | 2.8 MB 48.1 MB/s eta 0:00:01\r\n",
      "\u001b[K     |███████████████████████▍        | 2.8 MB 48.1 MB/s eta 0:00:01\r\n",
      "\u001b[K     |███████████████████████▌        | 2.8 MB 48.1 MB/s eta 0:00:01\r\n",
      "\u001b[K     |███████████████████████▋        | 2.8 MB 48.1 MB/s eta 0:00:01\r\n",
      "\u001b[K     |███████████████████████▊        | 2.8 MB 48.1 MB/s eta 0:00:01\r\n",
      "\u001b[K     |███████████████████████▊        | 2.9 MB 48.1 MB/s eta 0:00:01\r\n",
      "\u001b[K     |███████████████████████▉        | 2.9 MB 48.1 MB/s eta 0:00:01\r\n",
      "\u001b[K     |████████████████████████        | 2.9 MB 48.1 MB/s eta 0:00:01\r\n",
      "\u001b[K     |████████████████████████        | 2.9 MB 48.1 MB/s eta 0:00:01\r\n",
      "\u001b[K     |████████████████████████▏       | 2.9 MB 48.1 MB/s eta 0:00:01\r\n",
      "\u001b[K     |████████████████████████▏       | 2.9 MB 48.1 MB/s eta 0:00:01\r\n",
      "\u001b[K     |████████████████████████▎       | 2.9 MB 48.1 MB/s eta 0:00:01\r\n",
      "\u001b[K     |████████████████████████▍       | 2.9 MB 48.1 MB/s eta 0:00:01\r\n",
      "\u001b[K     |████████████████████████▌       | 2.9 MB 48.1 MB/s eta 0:00:01\r\n",
      "\u001b[K     |████████████████████████▌       | 2.9 MB 48.1 MB/s eta 0:00:01\r\n",
      "\u001b[K     |████████████████████████▋       | 3.0 MB 48.1 MB/s eta 0:00:01\r\n",
      "\u001b[K     |████████████████████████▊       | 3.0 MB 48.1 MB/s eta 0:00:01\r\n",
      "\u001b[K     |████████████████████████▉       | 3.0 MB 48.1 MB/s eta 0:00:01\r\n",
      "\u001b[K     |████████████████████████▉       | 3.0 MB 48.1 MB/s eta 0:00:01\r\n",
      "\u001b[K     |█████████████████████████       | 3.0 MB 48.1 MB/s eta 0:00:01\r\n",
      "\u001b[K     |█████████████████████████       | 3.0 MB 48.1 MB/s eta 0:00:01\r\n",
      "\u001b[K     |█████████████████████████▏      | 3.0 MB 48.1 MB/s eta 0:00:01\r\n",
      "\u001b[K     |█████████████████████████▏      | 3.0 MB 48.1 MB/s eta 0:00:01\r\n",
      "\u001b[K     |█████████████████████████▎      | 3.0 MB 48.1 MB/s eta 0:00:01\r\n",
      "\u001b[K     |█████████████████████████▍      | 3.1 MB 48.1 MB/s eta 0:00:01\r\n",
      "\u001b[K     |█████████████████████████▌      | 3.1 MB 48.1 MB/s eta 0:00:01\r\n",
      "\u001b[K     |█████████████████████████▋      | 3.1 MB 48.1 MB/s eta 0:00:01\r\n",
      "\u001b[K     |█████████████████████████▋      | 3.1 MB 48.1 MB/s eta 0:00:01\r\n",
      "\u001b[K     |█████████████████████████▊      | 3.1 MB 48.1 MB/s eta 0:00:01\r\n",
      "\u001b[K     |█████████████████████████▉      | 3.1 MB 48.1 MB/s eta 0:00:01\r\n",
      "\u001b[K     |██████████████████████████      | 3.1 MB 48.1 MB/s eta 0:00:01\r\n",
      "\u001b[K     |██████████████████████████      | 3.1 MB 48.1 MB/s eta 0:00:01\r\n",
      "\u001b[K     |██████████████████████████      | 3.1 MB 48.1 MB/s eta 0:00:01\r\n",
      "\u001b[K     |██████████████████████████▏     | 3.1 MB 48.1 MB/s eta 0:00:01\r\n",
      "\u001b[K     |██████████████████████████▎     | 3.2 MB 48.1 MB/s eta 0:00:01\r\n",
      "\u001b[K     |██████████████████████████▎     | 3.2 MB 48.1 MB/s eta 0:00:01\r\n",
      "\u001b[K     |██████████████████████████▍     | 3.2 MB 48.1 MB/s eta 0:00:01\r\n",
      "\u001b[K     |██████████████████████████▌     | 3.2 MB 48.1 MB/s eta 0:00:01\r\n",
      "\u001b[K     |██████████████████████████▋     | 3.2 MB 48.1 MB/s eta 0:00:01\r\n",
      "\u001b[K     |██████████████████████████▊     | 3.2 MB 48.1 MB/s eta 0:00:01\r\n",
      "\u001b[K     |██████████████████████████▊     | 3.2 MB 48.1 MB/s eta 0:00:01\r\n",
      "\u001b[K     |██████████████████████████▉     | 3.2 MB 48.1 MB/s eta 0:00:01\r\n",
      "\u001b[K     |███████████████████████████     | 3.2 MB 48.1 MB/s eta 0:00:01\r\n",
      "\u001b[K     |███████████████████████████     | 3.2 MB 48.1 MB/s eta 0:00:01\r\n",
      "\u001b[K     |███████████████████████████     | 3.3 MB 48.1 MB/s eta 0:00:01\r\n",
      "\u001b[K     |███████████████████████████▏    | 3.3 MB 48.1 MB/s eta 0:00:01\r\n",
      "\u001b[K     |███████████████████████████▎    | 3.3 MB 48.1 MB/s eta 0:00:01\r\n",
      "\u001b[K     |███████████████████████████▍    | 3.3 MB 48.1 MB/s eta 0:00:01\r\n",
      "\u001b[K     |███████████████████████████▍    | 3.3 MB 48.1 MB/s eta 0:00:01\r\n",
      "\u001b[K     |███████████████████████████▌    | 3.3 MB 48.1 MB/s eta 0:00:01\r\n",
      "\u001b[K     |███████████████████████████▋    | 3.3 MB 48.1 MB/s eta 0:00:01\r\n",
      "\u001b[K     |███████████████████████████▊    | 3.3 MB 48.1 MB/s eta 0:00:01\r\n",
      "\u001b[K     |███████████████████████████▉    | 3.3 MB 48.1 MB/s eta 0:00:01\r\n",
      "\u001b[K     |███████████████████████████▉    | 3.3 MB 48.1 MB/s eta 0:00:01\r\n",
      "\u001b[K     |████████████████████████████    | 3.4 MB 48.1 MB/s eta 0:00:01\r\n",
      "\u001b[K     |████████████████████████████    | 3.4 MB 48.1 MB/s eta 0:00:01\r\n",
      "\u001b[K     |████████████████████████████▏   | 3.4 MB 48.1 MB/s eta 0:00:01\r\n",
      "\u001b[K     |████████████████████████████▏   | 3.4 MB 48.1 MB/s eta 0:00:01\r\n",
      "\u001b[K     |████████████████████████████▎   | 3.4 MB 48.1 MB/s eta 0:00:01\r\n",
      "\u001b[K     |████████████████████████████▍   | 3.4 MB 48.1 MB/s eta 0:00:01\r\n",
      "\u001b[K     |████████████████████████████▌   | 3.4 MB 48.1 MB/s eta 0:00:01\r\n",
      "\u001b[K     |████████████████████████████▌   | 3.4 MB 48.1 MB/s eta 0:00:01\r\n",
      "\u001b[K     |████████████████████████████▋   | 3.4 MB 48.1 MB/s eta 0:00:01\r\n",
      "\u001b[K     |████████████████████████████▊   | 3.5 MB 48.1 MB/s eta 0:00:01\r\n",
      "\u001b[K     |████████████████████████████▉   | 3.5 MB 48.1 MB/s eta 0:00:01\r\n",
      "\u001b[K     |████████████████████████████▉   | 3.5 MB 48.1 MB/s eta 0:00:01\r\n",
      "\u001b[K     |█████████████████████████████   | 3.5 MB 48.1 MB/s eta 0:00:01\r\n",
      "\u001b[K     |█████████████████████████████   | 3.5 MB 48.1 MB/s eta 0:00:01\r\n",
      "\u001b[K     |█████████████████████████████▏  | 3.5 MB 48.1 MB/s eta 0:00:01\r\n",
      "\u001b[K     |█████████████████████████████▎  | 3.5 MB 48.1 MB/s eta 0:00:01\r\n",
      "\u001b[K     |█████████████████████████████▎  | 3.5 MB 48.1 MB/s eta 0:00:01\r\n",
      "\u001b[K     |█████████████████████████████▍  | 3.5 MB 48.1 MB/s eta 0:00:01\r\n",
      "\u001b[K     |█████████████████████████████▌  | 3.5 MB 48.1 MB/s eta 0:00:01\r\n",
      "\u001b[K     |█████████████████████████████▋  | 3.6 MB 48.1 MB/s eta 0:00:01\r\n",
      "\u001b[K     |█████████████████████████████▋  | 3.6 MB 48.1 MB/s eta 0:00:01\r\n",
      "\u001b[K     |█████████████████████████████▊  | 3.6 MB 48.1 MB/s eta 0:00:01\r\n",
      "\u001b[K     |█████████████████████████████▉  | 3.6 MB 48.1 MB/s eta 0:00:01\r\n",
      "\u001b[K     |██████████████████████████████  | 3.6 MB 48.1 MB/s eta 0:00:01\r\n",
      "\u001b[K     |██████████████████████████████  | 3.6 MB 48.1 MB/s eta 0:00:01\r\n",
      "\u001b[K     |██████████████████████████████  | 3.6 MB 48.1 MB/s eta 0:00:01\r\n",
      "\u001b[K     |██████████████████████████████▏ | 3.6 MB 48.1 MB/s eta 0:00:01\r\n",
      "\u001b[K     |██████████████████████████████▎ | 3.6 MB 48.1 MB/s eta 0:00:01\r\n",
      "\u001b[K     |██████████████████████████████▍ | 3.6 MB 48.1 MB/s eta 0:00:01\r\n",
      "\u001b[K     |██████████████████████████████▍ | 3.7 MB 48.1 MB/s eta 0:00:01\r\n",
      "\u001b[K     |██████████████████████████████▌ | 3.7 MB 48.1 MB/s eta 0:00:01\r\n",
      "\u001b[K     |██████████████████████████████▋ | 3.7 MB 48.1 MB/s eta 0:00:01\r\n",
      "\u001b[K     |██████████████████████████████▊ | 3.7 MB 48.1 MB/s eta 0:00:01\r\n",
      "\u001b[K     |██████████████████████████████▊ | 3.7 MB 48.1 MB/s eta 0:00:01\r\n",
      "\u001b[K     |██████████████████████████████▉ | 3.7 MB 48.1 MB/s eta 0:00:01\r\n",
      "\u001b[K     |███████████████████████████████ | 3.7 MB 48.1 MB/s eta 0:00:01\r\n",
      "\u001b[K     |███████████████████████████████ | 3.7 MB 48.1 MB/s eta 0:00:01\r\n",
      "\u001b[K     |███████████████████████████████ | 3.7 MB 48.1 MB/s eta 0:00:01\r\n",
      "\u001b[K     |███████████████████████████████▏| 3.7 MB 48.1 MB/s eta 0:00:01\r\n",
      "\u001b[K     |███████████████████████████████▎| 3.8 MB 48.1 MB/s eta 0:00:01\r\n",
      "\u001b[K     |███████████████████████████████▍| 3.8 MB 48.1 MB/s eta 0:00:01\r\n",
      "\u001b[K     |███████████████████████████████▍| 3.8 MB 48.1 MB/s eta 0:00:01\r\n",
      "\u001b[K     |███████████████████████████████▌| 3.8 MB 48.1 MB/s eta 0:00:01\r\n",
      "\u001b[K     |███████████████████████████████▋| 3.8 MB 48.1 MB/s eta 0:00:01\r\n",
      "\u001b[K     |███████████████████████████████▊| 3.8 MB 48.1 MB/s eta 0:00:01\r\n",
      "\u001b[K     |███████████████████████████████▉| 3.8 MB 48.1 MB/s eta 0:00:01\r\n",
      "\u001b[K     |███████████████████████████████▉| 3.8 MB 48.1 MB/s eta 0:00:01\r\n",
      "\u001b[K     |████████████████████████████████| 3.8 MB 48.1 MB/s eta 0:00:01"
     ]
    },
    {
     "name": "stdout",
     "output_type": "stream",
     "text": [
      "\r\n",
      "\u001b[K     |████████████████████████████████| 3.8 MB 48.1 MB/s \r\n"
     ]
    },
    {
     "name": "stdout",
     "output_type": "stream",
     "text": [
      "\u001b[?25hRequirement already satisfied: docutils<0.16,>=0.10 in /usr/local/lib/python3.6/site-packages (from awscli) (0.15.2)\r\n",
      "Requirement already satisfied: colorama<0.4.4,>=0.2.5 in /usr/local/lib/python3.6/site-packages (from awscli) (0.4.3)\r\n",
      "Requirement already satisfied: s3transfer<0.6.0,>=0.5.0 in /usr/local/lib/python3.6/site-packages (from awscli) (0.5.2)\r\n",
      "Requirement already satisfied: rsa<4.8,>=3.1.2 in /usr/local/lib/python3.6/site-packages (from awscli) (4.7.2)\r\n"
     ]
    },
    {
     "name": "stdout",
     "output_type": "stream",
     "text": [
      "Requirement already satisfied: PyYAML<5.5,>=3.10 in /usr/local/lib/python3.6/site-packages (from awscli) (5.4.1)\r\n",
      "Requirement already satisfied: python-dateutil<3.0.0,>=2.1 in /usr/local/lib/python3.6/site-packages (from botocore) (2.8.1)\r\n",
      "Requirement already satisfied: jmespath<2.0.0,>=0.7.1 in /usr/local/lib/python3.6/site-packages (from botocore) (0.10.0)\r\n",
      "Requirement already satisfied: urllib3<1.27,>=1.25.4 in /usr/local/lib/python3.6/site-packages (from botocore) (1.25.11)\r\n",
      "Requirement already satisfied: six>=1.5 in /usr/local/lib/python3.6/site-packages (from python-dateutil<3.0.0,>=2.1->botocore) (1.15.0)\r\n",
      "Requirement already satisfied: pyasn1>=0.1.3 in /usr/local/lib/python3.6/site-packages (from rsa<4.8,>=3.1.2->awscli) (0.4.8)\r\n"
     ]
    },
    {
     "name": "stdout",
     "output_type": "stream",
     "text": [
      "Requirement already satisfied: attrs==20.3.0 in /usr/local/lib/python3.6/site-packages (from sagemaker) (20.3.0)\r\n"
     ]
    },
    {
     "name": "stdout",
     "output_type": "stream",
     "text": [
      "Requirement already satisfied: google-pasta in /usr/local/lib/python3.6/site-packages (from sagemaker) (0.2.0)\r\n",
      "Requirement already satisfied: numpy>=1.9.0 in /usr/local/lib/python3.6/site-packages (from sagemaker) (1.18.5)\r\n",
      "Requirement already satisfied: protobuf>=3.1 in /usr/local/lib/python3.6/site-packages (from sagemaker) (3.15.3)\r\n",
      "Requirement already satisfied: protobuf3-to-dict>=0.1.5 in /usr/local/lib/python3.6/site-packages (from sagemaker) (0.1.5)\r\n",
      "Requirement already satisfied: smdebug_rulesconfig==1.0.1 in /usr/local/lib/python3.6/site-packages (from sagemaker) (1.0.1)\r\n",
      "Requirement already satisfied: importlib-metadata>=1.4.0 in /usr/local/lib/python3.6/site-packages (from sagemaker) (3.7.0)\r\n",
      "Requirement already satisfied: packaging>=20.0 in /usr/local/lib/python3.6/site-packages (from sagemaker) (20.9)\r\n",
      "Requirement already satisfied: pandas in /usr/local/lib/python3.6/site-packages (from sagemaker) (0.24.2)\r\n",
      "Requirement already satisfied: pathos in /usr/local/lib/python3.6/site-packages (from sagemaker) (0.2.8)\r\n"
     ]
    },
    {
     "name": "stdout",
     "output_type": "stream",
     "text": [
      "Requirement already satisfied: zipp>=0.5 in /usr/local/lib/python3.6/site-packages (from importlib-metadata>=1.4.0->sagemaker) (3.4.0)\r\n",
      "Requirement already satisfied: typing-extensions>=3.6.4 in /usr/local/lib/python3.6/site-packages (from importlib-metadata>=1.4.0->sagemaker) (3.7.4.3)\r\n",
      "Requirement already satisfied: pyparsing>=2.0.2 in /usr/local/lib/python3.6/site-packages (from packaging>=20.0->sagemaker) (2.4.7)\r\n"
     ]
    },
    {
     "name": "stdout",
     "output_type": "stream",
     "text": [
      "Requirement already satisfied: pytz>=2011k in /usr/local/lib/python3.6/site-packages (from pandas->sagemaker) (2021.1)\r\n",
      "Requirement already satisfied: multiprocess>=0.70.12 in /usr/local/lib/python3.6/site-packages (from pathos->sagemaker) (0.70.12.2)\r\n",
      "Requirement already satisfied: pox>=0.3.0 in /usr/local/lib/python3.6/site-packages (from pathos->sagemaker) (0.3.0)\r\n",
      "Requirement already satisfied: ppft>=1.6.6.4 in /usr/local/lib/python3.6/site-packages (from pathos->sagemaker) (1.6.6.4)\r\n",
      "Requirement already satisfied: dill>=0.3.4 in /usr/local/lib/python3.6/site-packages (from pathos->sagemaker) (0.3.4)\r\n",
      "Building wheels for collected packages: sagemaker\r\n"
     ]
    },
    {
     "name": "stdout",
     "output_type": "stream",
     "text": [
      "  Building wheel for sagemaker (setup.py) ... \u001b[?25l-"
     ]
    },
    {
     "name": "stdout",
     "output_type": "stream",
     "text": [
      "\b \b\\"
     ]
    },
    {
     "name": "stdout",
     "output_type": "stream",
     "text": [
      "\b \b|"
     ]
    },
    {
     "name": "stdout",
     "output_type": "stream",
     "text": [
      "\b \b/"
     ]
    },
    {
     "name": "stdout",
     "output_type": "stream",
     "text": [
      "\b \b-"
     ]
    },
    {
     "name": "stdout",
     "output_type": "stream",
     "text": [
      "\b \b\\"
     ]
    },
    {
     "name": "stdout",
     "output_type": "stream",
     "text": [
      "\b \b|"
     ]
    },
    {
     "name": "stdout",
     "output_type": "stream",
     "text": [
      "\b \b/"
     ]
    },
    {
     "name": "stdout",
     "output_type": "stream",
     "text": [
      "\b \bdone\r\n",
      "\u001b[?25h  Created wheel for sagemaker: filename=sagemaker-2.86.2-py2.py3-none-any.whl size=720848 sha256=1da97f32bd534164c5bd8d162be8084b3a9d165d9aa1ff7fab6fbef1dd88ec7c\r\n",
      "  Stored in directory: /root/.cache/pip/wheels/59/43/38/ebab0cc66165586b93249bb62b88af317edd25ecd7885b496b\r\n",
      "Successfully built sagemaker\r\n"
     ]
    },
    {
     "name": "stdout",
     "output_type": "stream",
     "text": [
      "Installing collected packages: botocore, boto3, sagemaker, awscli\r\n",
      "  Attempting uninstall: botocore\r\n",
      "    Found existing installation: botocore 1.23.7\r\n"
     ]
    },
    {
     "name": "stdout",
     "output_type": "stream",
     "text": [
      "    Uninstalling botocore-1.23.7:\r\n",
      "      Successfully uninstalled botocore-1.23.7\r\n"
     ]
    },
    {
     "name": "stdout",
     "output_type": "stream",
     "text": [
      "  Attempting uninstall: boto3\r\n",
      "    Found existing installation: boto3 1.20.7\r\n",
      "    Uninstalling boto3-1.20.7:\r\n",
      "      Successfully uninstalled boto3-1.20.7\r\n"
     ]
    },
    {
     "name": "stdout",
     "output_type": "stream",
     "text": [
      "  Attempting uninstall: sagemaker\r\n",
      "    Found existing installation: sagemaker 2.69.1.dev0\r\n"
     ]
    },
    {
     "name": "stdout",
     "output_type": "stream",
     "text": [
      "    Uninstalling sagemaker-2.69.1.dev0:\r\n",
      "      Successfully uninstalled sagemaker-2.69.1.dev0\r\n"
     ]
    },
    {
     "name": "stdout",
     "output_type": "stream",
     "text": [
      "  Attempting uninstall: awscli\r\n",
      "    Found existing installation: awscli 1.22.7\r\n"
     ]
    },
    {
     "name": "stdout",
     "output_type": "stream",
     "text": [
      "    Uninstalling awscli-1.22.7:\r\n"
     ]
    },
    {
     "name": "stdout",
     "output_type": "stream",
     "text": [
      "      Successfully uninstalled awscli-1.22.7\r\n"
     ]
    },
    {
     "name": "stdout",
     "output_type": "stream",
     "text": [
      "Successfully installed awscli-1.22.97 boto3-1.21.42 botocore-1.24.42 sagemaker-2.86.2\r\n"
     ]
    },
    {
     "name": "stdout",
     "output_type": "stream",
     "text": [
      "\u001b[33mWARNING: You are using pip version 21.0.1; however, version 21.3.1 is available.\r\n",
      "You should consider upgrading via the '/usr/local/bin/python3.6 -m pip install --upgrade pip' command.\u001b[0m\r\n"
     ]
    }
   ],
   "source": [
    "!pip install sagemaker botocore boto3 awscli --upgrade"
   ]
  },
  {
   "cell_type": "code",
   "execution_count": 3,
   "id": "69886125",
   "metadata": {
    "execution": {
     "iopub.execute_input": "2022-04-18T00:21:35.641552Z",
     "iopub.status.busy": "2022-04-18T00:21:35.638662Z",
     "iopub.status.idle": "2022-04-18T00:21:48.123259Z",
     "shell.execute_reply": "2022-04-18T00:21:48.122746Z"
    },
    "papermill": {
     "duration": 12.563328,
     "end_time": "2022-04-18T00:21:48.123383",
     "exception": false,
     "start_time": "2022-04-18T00:21:35.560055",
     "status": "completed"
    },
    "tags": []
   },
   "outputs": [
    {
     "name": "stdout",
     "output_type": "stream",
     "text": [
      "Requirement already satisfied: sagemaker-experiments in /usr/local/lib/python3.6/site-packages (0.1.28)\r\n"
     ]
    },
    {
     "name": "stdout",
     "output_type": "stream",
     "text": [
      "Collecting pyvis\r\n"
     ]
    },
    {
     "name": "stdout",
     "output_type": "stream",
     "text": [
      "  Downloading pyvis-0.2.0.tar.gz (21 kB)\r\n"
     ]
    },
    {
     "name": "stdout",
     "output_type": "stream",
     "text": [
      "Requirement already satisfied: jinja2>=2.9.6 in /usr/local/lib/python3.6/site-packages (from pyvis) (3.0.3)\r\n"
     ]
    },
    {
     "name": "stdout",
     "output_type": "stream",
     "text": [
      "Collecting networkx>=1.11\r\n",
      "  Downloading networkx-2.5.1-py3-none-any.whl (1.6 MB)\r\n",
      "\u001b[?25l\r\n",
      "\u001b[K     |▏                               | 10 kB 26.8 MB/s eta 0:00:01\r\n",
      "\u001b[K     |▍                               | 20 kB 9.3 MB/s eta 0:00:01\r\n",
      "\u001b[K     |▋                               | 30 kB 8.5 MB/s eta 0:00:01\r\n",
      "\u001b[K     |▉                               | 40 kB 6.0 MB/s eta 0:00:01\r\n",
      "\u001b[K     |█                               | 51 kB 5.7 MB/s eta 0:00:01\r\n",
      "\u001b[K     |█▏                              | 61 kB 6.7 MB/s eta 0:00:01\r\n",
      "\u001b[K     |█▍                              | 71 kB 7.2 MB/s eta 0:00:01\r\n",
      "\u001b[K     |█▋                              | 81 kB 7.1 MB/s eta 0:00:01\r\n",
      "\u001b[K     |█▉                              | 92 kB 7.9 MB/s eta 0:00:01\r\n",
      "\u001b[K     |██                              | 102 kB 8.2 MB/s eta 0:00:01\r\n",
      "\u001b[K     |██▎                             | 112 kB 8.2 MB/s eta 0:00:01\r\n",
      "\u001b[K     |██▍                             | 122 kB 8.2 MB/s eta 0:00:01\r\n",
      "\u001b[K     |██▋                             | 133 kB 8.2 MB/s eta 0:00:01\r\n",
      "\u001b[K     |██▉                             | 143 kB 8.2 MB/s eta 0:00:01\r\n",
      "\u001b[K     |███                             | 153 kB 8.2 MB/s eta 0:00:01\r\n",
      "\u001b[K     |███▎                            | 163 kB 8.2 MB/s eta 0:00:01\r\n",
      "\u001b[K     |███▌                            | 174 kB 8.2 MB/s eta 0:00:01"
     ]
    },
    {
     "name": "stdout",
     "output_type": "stream",
     "text": [
      "\r\n",
      "\u001b[K     |███▋                            | 184 kB 8.2 MB/s eta 0:00:01\r\n",
      "\u001b[K     |███▉                            | 194 kB 8.2 MB/s eta 0:00:01\r\n",
      "\u001b[K     |████                            | 204 kB 8.2 MB/s eta 0:00:01\r\n",
      "\u001b[K     |████▎                           | 215 kB 8.2 MB/s eta 0:00:01\r\n",
      "\u001b[K     |████▌                           | 225 kB 8.2 MB/s eta 0:00:01\r\n",
      "\u001b[K     |████▋                           | 235 kB 8.2 MB/s eta 0:00:01\r\n",
      "\u001b[K     |████▉                           | 245 kB 8.2 MB/s eta 0:00:01\r\n",
      "\u001b[K     |█████                           | 256 kB 8.2 MB/s eta 0:00:01\r\n",
      "\u001b[K     |█████▎                          | 266 kB 8.2 MB/s eta 0:00:01\r\n",
      "\u001b[K     |█████▌                          | 276 kB 8.2 MB/s eta 0:00:01\r\n",
      "\u001b[K     |█████▊                          | 286 kB 8.2 MB/s eta 0:00:01\r\n",
      "\u001b[K     |█████▉                          | 296 kB 8.2 MB/s eta 0:00:01\r\n",
      "\u001b[K     |██████                          | 307 kB 8.2 MB/s eta 0:00:01\r\n",
      "\u001b[K     |██████▎                         | 317 kB 8.2 MB/s eta 0:00:01\r\n",
      "\u001b[K     |██████▌                         | 327 kB 8.2 MB/s eta 0:00:01\r\n",
      "\u001b[K     |██████▊                         | 337 kB 8.2 MB/s eta 0:00:01\r\n",
      "\u001b[K     |███████                         | 348 kB 8.2 MB/s eta 0:00:01\r\n",
      "\u001b[K     |███████                         | 358 kB 8.2 MB/s eta 0:00:01\r\n",
      "\u001b[K     |███████▎                        | 368 kB 8.2 MB/s eta 0:00:01\r\n",
      "\u001b[K     |███████▌                        | 378 kB 8.2 MB/s eta 0:00:01\r\n",
      "\u001b[K     |███████▊                        | 389 kB 8.2 MB/s eta 0:00:01\r\n",
      "\u001b[K     |████████                        | 399 kB 8.2 MB/s eta 0:00:01\r\n",
      "\u001b[K     |████████                        | 409 kB 8.2 MB/s eta 0:00:01\r\n",
      "\u001b[K     |████████▎                       | 419 kB 8.2 MB/s eta 0:00:01\r\n",
      "\u001b[K     |████████▌                       | 430 kB 8.2 MB/s eta 0:00:01\r\n",
      "\u001b[K     |████████▊                       | 440 kB 8.2 MB/s eta 0:00:01\r\n",
      "\u001b[K     |█████████                       | 450 kB 8.2 MB/s eta 0:00:01\r\n",
      "\u001b[K     |█████████▏                      | 460 kB 8.2 MB/s eta 0:00:01\r\n",
      "\u001b[K     |█████████▎                      | 471 kB 8.2 MB/s eta 0:00:01\r\n",
      "\u001b[K     |█████████▌                      | 481 kB 8.2 MB/s eta 0:00:01\r\n",
      "\u001b[K     |█████████▊                      | 491 kB 8.2 MB/s eta 0:00:01\r\n",
      "\u001b[K     |██████████                      | 501 kB 8.2 MB/s eta 0:00:01\r\n",
      "\u001b[K     |██████████▏                     | 512 kB 8.2 MB/s eta 0:00:01\r\n",
      "\u001b[K     |██████████▍                     | 522 kB 8.2 MB/s eta 0:00:01\r\n",
      "\u001b[K     |██████████▌                     | 532 kB 8.2 MB/s eta 0:00:01\r\n",
      "\u001b[K     |██████████▊                     | 542 kB 8.2 MB/s eta 0:00:01\r\n",
      "\u001b[K     |███████████                     | 552 kB 8.2 MB/s eta 0:00:01\r\n",
      "\u001b[K     |███████████▏                    | 563 kB 8.2 MB/s eta 0:00:01\r\n",
      "\u001b[K     |███████████▍                    | 573 kB 8.2 MB/s eta 0:00:01\r\n",
      "\u001b[K     |███████████▋                    | 583 kB 8.2 MB/s eta 0:00:01"
     ]
    },
    {
     "name": "stdout",
     "output_type": "stream",
     "text": [
      "\r\n",
      "\u001b[K     |███████████▊                    | 593 kB 8.2 MB/s eta 0:00:01\r\n",
      "\u001b[K     |████████████                    | 604 kB 8.2 MB/s eta 0:00:01\r\n",
      "\u001b[K     |████████████▏                   | 614 kB 8.2 MB/s eta 0:00:01\r\n",
      "\u001b[K     |████████████▍                   | 624 kB 8.2 MB/s eta 0:00:01\r\n",
      "\u001b[K     |████████████▋                   | 634 kB 8.2 MB/s eta 0:00:01\r\n",
      "\u001b[K     |████████████▊                   | 645 kB 8.2 MB/s eta 0:00:01\r\n",
      "\u001b[K     |█████████████                   | 655 kB 8.2 MB/s eta 0:00:01\r\n",
      "\u001b[K     |█████████████▏                  | 665 kB 8.2 MB/s eta 0:00:01\r\n",
      "\u001b[K     |█████████████▍                  | 675 kB 8.2 MB/s eta 0:00:01\r\n",
      "\u001b[K     |█████████████▋                  | 686 kB 8.2 MB/s eta 0:00:01\r\n",
      "\u001b[K     |█████████████▉                  | 696 kB 8.2 MB/s eta 0:00:01\r\n",
      "\u001b[K     |██████████████                  | 706 kB 8.2 MB/s eta 0:00:01\r\n",
      "\u001b[K     |██████████████▏                 | 716 kB 8.2 MB/s eta 0:00:01\r\n",
      "\u001b[K     |██████████████▍                 | 727 kB 8.2 MB/s eta 0:00:01\r\n",
      "\u001b[K     |██████████████▋                 | 737 kB 8.2 MB/s eta 0:00:01\r\n",
      "\u001b[K     |██████████████▉                 | 747 kB 8.2 MB/s eta 0:00:01\r\n",
      "\u001b[K     |███████████████                 | 757 kB 8.2 MB/s eta 0:00:01\r\n",
      "\u001b[K     |███████████████▏                | 768 kB 8.2 MB/s eta 0:00:01\r\n",
      "\u001b[K     |███████████████▍                | 778 kB 8.2 MB/s eta 0:00:01\r\n",
      "\u001b[K     |███████████████▋                | 788 kB 8.2 MB/s eta 0:00:01\r\n",
      "\u001b[K     |███████████████▉                | 798 kB 8.2 MB/s eta 0:00:01\r\n",
      "\u001b[K     |████████████████                | 808 kB 8.2 MB/s eta 0:00:01\r\n",
      "\u001b[K     |████████████████▏               | 819 kB 8.2 MB/s eta 0:00:01\r\n",
      "\u001b[K     |████████████████▍               | 829 kB 8.2 MB/s eta 0:00:01\r\n",
      "\u001b[K     |████████████████▋               | 839 kB 8.2 MB/s eta 0:00:01\r\n",
      "\u001b[K     |████████████████▉               | 849 kB 8.2 MB/s eta 0:00:01\r\n",
      "\u001b[K     |█████████████████               | 860 kB 8.2 MB/s eta 0:00:01\r\n",
      "\u001b[K     |█████████████████▎              | 870 kB 8.2 MB/s eta 0:00:01\r\n",
      "\u001b[K     |█████████████████▍              | 880 kB 8.2 MB/s eta 0:00:01\r\n",
      "\u001b[K     |█████████████████▋              | 890 kB 8.2 MB/s eta 0:00:01\r\n",
      "\u001b[K     |█████████████████▉              | 901 kB 8.2 MB/s eta 0:00:01\r\n",
      "\u001b[K     |██████████████████              | 911 kB 8.2 MB/s eta 0:00:01\r\n",
      "\u001b[K     |██████████████████▎             | 921 kB 8.2 MB/s eta 0:00:01\r\n",
      "\u001b[K     |██████████████████▌             | 931 kB 8.2 MB/s eta 0:00:01\r\n",
      "\u001b[K     |██████████████████▋             | 942 kB 8.2 MB/s eta 0:00:01\r\n",
      "\u001b[K     |██████████████████▉             | 952 kB 8.2 MB/s eta 0:00:01\r\n",
      "\u001b[K     |███████████████████             | 962 kB 8.2 MB/s eta 0:00:01\r\n",
      "\u001b[K     |███████████████████▎            | 972 kB 8.2 MB/s eta 0:00:01\r\n",
      "\u001b[K     |███████████████████▌            | 983 kB 8.2 MB/s eta 0:00:01\r\n",
      "\u001b[K     |███████████████████▊            | 993 kB 8.2 MB/s eta 0:00:01\r\n",
      "\u001b[K     |███████████████████▉            | 1.0 MB 8.2 MB/s eta 0:00:01\r\n",
      "\u001b[K     |████████████████████            | 1.0 MB 8.2 MB/s eta 0:00:01\r\n",
      "\u001b[K     |████████████████████▎           | 1.0 MB 8.2 MB/s eta 0:00:01\r\n",
      "\u001b[K     |████████████████████▌           | 1.0 MB 8.2 MB/s eta 0:00:01\r\n",
      "\u001b[K     |████████████████████▊           | 1.0 MB 8.2 MB/s eta 0:00:01\r\n",
      "\u001b[K     |████████████████████▉           | 1.1 MB 8.2 MB/s eta 0:00:01\r\n",
      "\u001b[K     |█████████████████████           | 1.1 MB 8.2 MB/s eta 0:00:01\r\n",
      "\u001b[K     |█████████████████████▎          | 1.1 MB 8.2 MB/s eta 0:00:01\r\n",
      "\u001b[K     |█████████████████████▌          | 1.1 MB 8.2 MB/s eta 0:00:01\r\n",
      "\u001b[K     |█████████████████████▊          | 1.1 MB 8.2 MB/s eta 0:00:01\r\n",
      "\u001b[K     |██████████████████████          | 1.1 MB 8.2 MB/s eta 0:00:01\r\n",
      "\u001b[K     |██████████████████████          | 1.1 MB 8.2 MB/s eta 0:00:01\r\n",
      "\u001b[K     |██████████████████████▎         | 1.1 MB 8.2 MB/s eta 0:00:01\r\n",
      "\u001b[K     |██████████████████████▌         | 1.1 MB 8.2 MB/s eta 0:00:01\r\n",
      "\u001b[K     |██████████████████████▊         | 1.1 MB 8.2 MB/s eta 0:00:01\r\n",
      "\u001b[K     |███████████████████████         | 1.2 MB 8.2 MB/s eta 0:00:01\r\n",
      "\u001b[K     |███████████████████████▏        | 1.2 MB 8.2 MB/s eta 0:00:01\r\n",
      "\u001b[K     |███████████████████████▎        | 1.2 MB 8.2 MB/s eta 0:00:01\r\n",
      "\u001b[K     |███████████████████████▌        | 1.2 MB 8.2 MB/s eta 0:00:01\r\n",
      "\u001b[K     |███████████████████████▊        | 1.2 MB 8.2 MB/s eta 0:00:01\r\n",
      "\u001b[K     |████████████████████████        | 1.2 MB 8.2 MB/s eta 0:00:01\r\n",
      "\u001b[K     |████████████████████████▏       | 1.2 MB 8.2 MB/s eta 0:00:01\r\n",
      "\u001b[K     |████████████████████████▎       | 1.2 MB 8.2 MB/s eta 0:00:01\r\n",
      "\u001b[K     |████████████████████████▌       | 1.2 MB 8.2 MB/s eta 0:00:01\r\n",
      "\u001b[K     |████████████████████████▊       | 1.2 MB 8.2 MB/s eta 0:00:01\r\n",
      "\u001b[K     |█████████████████████████       | 1.3 MB 8.2 MB/s eta 0:00:01\r\n",
      "\u001b[K     |█████████████████████████▏      | 1.3 MB 8.2 MB/s eta 0:00:01\r\n",
      "\u001b[K     |█████████████████████████▍      | 1.3 MB 8.2 MB/s eta 0:00:01\r\n",
      "\u001b[K     |█████████████████████████▌      | 1.3 MB 8.2 MB/s eta 0:00:01\r\n",
      "\u001b[K     |█████████████████████████▊      | 1.3 MB 8.2 MB/s eta 0:00:01\r\n",
      "\u001b[K     |██████████████████████████      | 1.3 MB 8.2 MB/s eta 0:00:01\r\n",
      "\u001b[K     |██████████████████████████▏     | 1.3 MB 8.2 MB/s eta 0:00:01\r\n",
      "\u001b[K     |██████████████████████████▍     | 1.3 MB 8.2 MB/s eta 0:00:01\r\n",
      "\u001b[K     |██████████████████████████▋     | 1.3 MB 8.2 MB/s eta 0:00:01\r\n",
      "\u001b[K     |██████████████████████████▊     | 1.4 MB 8.2 MB/s eta 0:00:01\r\n",
      "\u001b[K     |███████████████████████████     | 1.4 MB 8.2 MB/s eta 0:00:01\r\n",
      "\u001b[K     |███████████████████████████▏    | 1.4 MB 8.2 MB/s eta 0:00:01\r\n",
      "\u001b[K     |███████████████████████████▍    | 1.4 MB 8.2 MB/s eta 0:00:01\r\n",
      "\u001b[K     |███████████████████████████▋    | 1.4 MB 8.2 MB/s eta 0:00:01\r\n",
      "\u001b[K     |███████████████████████████▉    | 1.4 MB 8.2 MB/s eta 0:00:01\r\n",
      "\u001b[K     |████████████████████████████    | 1.4 MB 8.2 MB/s eta 0:00:01\r\n",
      "\u001b[K     |████████████████████████████▏   | 1.4 MB 8.2 MB/s eta 0:00:01\r\n",
      "\u001b[K     |████████████████████████████▍   | 1.4 MB 8.2 MB/s eta 0:00:01\r\n",
      "\u001b[K     |████████████████████████████▋   | 1.4 MB 8.2 MB/s eta 0:00:01\r\n",
      "\u001b[K     |████████████████████████████▉   | 1.5 MB 8.2 MB/s eta 0:00:01\r\n",
      "\u001b[K     |█████████████████████████████   | 1.5 MB 8.2 MB/s eta 0:00:01\r\n",
      "\u001b[K     |█████████████████████████████▏  | 1.5 MB 8.2 MB/s eta 0:00:01\r\n",
      "\u001b[K     |█████████████████████████████▍  | 1.5 MB 8.2 MB/s eta 0:00:01\r\n",
      "\u001b[K     |█████████████████████████████▋  | 1.5 MB 8.2 MB/s eta 0:00:01\r\n",
      "\u001b[K     |█████████████████████████████▉  | 1.5 MB 8.2 MB/s eta 0:00:01\r\n",
      "\u001b[K     |██████████████████████████████  | 1.5 MB 8.2 MB/s eta 0:00:01\r\n",
      "\u001b[K     |██████████████████████████████▏ | 1.5 MB 8.2 MB/s eta 0:00:01\r\n",
      "\u001b[K     |██████████████████████████████▍ | 1.5 MB 8.2 MB/s eta 0:00:01\r\n",
      "\u001b[K     |██████████████████████████████▋ | 1.5 MB 8.2 MB/s eta 0:00:01\r\n",
      "\u001b[K     |██████████████████████████████▉ | 1.6 MB 8.2 MB/s eta 0:00:01\r\n",
      "\u001b[K     |███████████████████████████████ | 1.6 MB 8.2 MB/s eta 0:00:01\r\n",
      "\u001b[K     |███████████████████████████████▎| 1.6 MB 8.2 MB/s eta 0:00:01\r\n",
      "\u001b[K     |███████████████████████████████▍| 1.6 MB 8.2 MB/s eta 0:00:01\r\n",
      "\u001b[K     |███████████████████████████████▋| 1.6 MB 8.2 MB/s eta 0:00:01\r\n",
      "\u001b[K     |███████████████████████████████▉| 1.6 MB 8.2 MB/s eta 0:00:01"
     ]
    },
    {
     "name": "stdout",
     "output_type": "stream",
     "text": [
      "\r\n",
      "\u001b[K     |████████████████████████████████| 1.6 MB 8.2 MB/s \r\n"
     ]
    },
    {
     "name": "stdout",
     "output_type": "stream",
     "text": [
      "\u001b[?25hRequirement already satisfied: ipython>=5.3.0 in /usr/local/lib/python3.6/site-packages (from pyvis) (7.16.3)\r\n"
     ]
    },
    {
     "name": "stdout",
     "output_type": "stream",
     "text": [
      "Collecting jsonpickle>=1.4.1\r\n",
      "  Downloading jsonpickle-2.1.0-py2.py3-none-any.whl (38 kB)\r\n"
     ]
    },
    {
     "name": "stdout",
     "output_type": "stream",
     "text": [
      "Requirement already satisfied: pygments in /usr/local/lib/python3.6/site-packages (from ipython>=5.3.0->pyvis) (2.11.2)\r\n",
      "Requirement already satisfied: decorator in /usr/local/lib/python3.6/site-packages (from ipython>=5.3.0->pyvis) (5.1.1)\r\n",
      "Requirement already satisfied: pickleshare in /usr/local/lib/python3.6/site-packages (from ipython>=5.3.0->pyvis) (0.7.5)\r\n",
      "Requirement already satisfied: prompt-toolkit!=3.0.0,!=3.0.1,<3.1.0,>=2.0.0 in /usr/local/lib/python3.6/site-packages (from ipython>=5.3.0->pyvis) (3.0.28)\r\n",
      "Requirement already satisfied: jedi<=0.17.2,>=0.10 in /usr/local/lib/python3.6/site-packages (from ipython>=5.3.0->pyvis) (0.17.2)\r\n",
      "Requirement already satisfied: pexpect in /usr/local/lib/python3.6/site-packages (from ipython>=5.3.0->pyvis) (4.8.0)\r\n",
      "Requirement already satisfied: backcall in /usr/local/lib/python3.6/site-packages (from ipython>=5.3.0->pyvis) (0.2.0)\r\n",
      "Requirement already satisfied: traitlets>=4.2 in /usr/local/lib/python3.6/site-packages (from ipython>=5.3.0->pyvis) (4.3.3)\r\n",
      "Requirement already satisfied: setuptools>=18.5 in /usr/local/lib/python3.6/site-packages (from ipython>=5.3.0->pyvis) (54.0.0)\r\n",
      "Requirement already satisfied: parso<0.8.0,>=0.7.0 in /usr/local/lib/python3.6/site-packages (from jedi<=0.17.2,>=0.10->ipython>=5.3.0->pyvis) (0.7.1)\r\n"
     ]
    },
    {
     "name": "stdout",
     "output_type": "stream",
     "text": [
      "Requirement already satisfied: MarkupSafe>=2.0 in /usr/local/lib/python3.6/site-packages (from jinja2>=2.9.6->pyvis) (2.0.1)\r\n",
      "Requirement already satisfied: importlib-metadata in /usr/local/lib/python3.6/site-packages (from jsonpickle>=1.4.1->pyvis) (3.7.0)\r\n"
     ]
    },
    {
     "name": "stdout",
     "output_type": "stream",
     "text": [
      "Collecting decorator\r\n",
      "  Downloading decorator-4.4.2-py2.py3-none-any.whl (9.2 kB)\r\n",
      "Requirement already satisfied: wcwidth in /usr/local/lib/python3.6/site-packages (from prompt-toolkit!=3.0.0,!=3.0.1,<3.1.0,>=2.0.0->ipython>=5.3.0->pyvis) (0.2.5)\r\n"
     ]
    },
    {
     "name": "stdout",
     "output_type": "stream",
     "text": [
      "Requirement already satisfied: ipython-genutils in /usr/local/lib/python3.6/site-packages (from traitlets>=4.2->ipython>=5.3.0->pyvis) (0.2.0)\r\n",
      "Requirement already satisfied: six in /usr/local/lib/python3.6/site-packages (from traitlets>=4.2->ipython>=5.3.0->pyvis) (1.15.0)\r\n",
      "Requirement already satisfied: boto3>=1.16.27 in /usr/local/lib/python3.6/site-packages (from sagemaker-experiments) (1.21.42)\r\n"
     ]
    },
    {
     "name": "stdout",
     "output_type": "stream",
     "text": [
      "Requirement already satisfied: jmespath<2.0.0,>=0.7.1 in /usr/local/lib/python3.6/site-packages (from boto3>=1.16.27->sagemaker-experiments) (0.10.0)\r\n",
      "Requirement already satisfied: s3transfer<0.6.0,>=0.5.0 in /usr/local/lib/python3.6/site-packages (from boto3>=1.16.27->sagemaker-experiments) (0.5.2)\r\n",
      "Requirement already satisfied: botocore<1.25.0,>=1.24.42 in /usr/local/lib/python3.6/site-packages (from boto3>=1.16.27->sagemaker-experiments) (1.24.42)\r\n",
      "Requirement already satisfied: python-dateutil<3.0.0,>=2.1 in /usr/local/lib/python3.6/site-packages (from botocore<1.25.0,>=1.24.42->boto3>=1.16.27->sagemaker-experiments) (2.8.1)\r\n",
      "Requirement already satisfied: urllib3<1.27,>=1.25.4 in /usr/local/lib/python3.6/site-packages (from botocore<1.25.0,>=1.24.42->boto3>=1.16.27->sagemaker-experiments) (1.25.11)\r\n"
     ]
    },
    {
     "name": "stdout",
     "output_type": "stream",
     "text": [
      "Requirement already satisfied: typing-extensions>=3.6.4 in /usr/local/lib/python3.6/site-packages (from importlib-metadata->jsonpickle>=1.4.1->pyvis) (3.7.4.3)\r\n"
     ]
    },
    {
     "name": "stdout",
     "output_type": "stream",
     "text": [
      "Requirement already satisfied: zipp>=0.5 in /usr/local/lib/python3.6/site-packages (from importlib-metadata->jsonpickle>=1.4.1->pyvis) (3.4.0)\r\n",
      "Requirement already satisfied: ptyprocess>=0.5 in /usr/local/lib/python3.6/site-packages (from pexpect->ipython>=5.3.0->pyvis) (0.7.0)\r\n"
     ]
    },
    {
     "name": "stdout",
     "output_type": "stream",
     "text": [
      "Building wheels for collected packages: pyvis\r\n"
     ]
    },
    {
     "name": "stdout",
     "output_type": "stream",
     "text": [
      "  Building wheel for pyvis (setup.py) ... \u001b[?25l-"
     ]
    },
    {
     "name": "stdout",
     "output_type": "stream",
     "text": [
      "\b \b\\"
     ]
    },
    {
     "name": "stdout",
     "output_type": "stream",
     "text": [
      "\b \bdone\r\n",
      "\u001b[?25h  Created wheel for pyvis: filename=pyvis-0.2.0-py3-none-any.whl size=23658 sha256=a904c931b909addad3628838432f513334719931266cce12fd05d792fdb7881f\r\n",
      "  Stored in directory: /root/.cache/pip/wheels/42/2f/c0/cd4dd252b8c8c06f66bc6514528e6cad2d24563e8b537c5fd5\r\n",
      "Successfully built pyvis\r\n"
     ]
    },
    {
     "name": "stdout",
     "output_type": "stream",
     "text": [
      "Installing collected packages: decorator, networkx, jsonpickle, pyvis\r\n",
      "  Attempting uninstall: decorator\r\n",
      "    Found existing installation: decorator 5.1.1\r\n",
      "    Uninstalling decorator-5.1.1:\r\n"
     ]
    },
    {
     "name": "stdout",
     "output_type": "stream",
     "text": [
      "      Successfully uninstalled decorator-5.1.1\r\n"
     ]
    },
    {
     "name": "stdout",
     "output_type": "stream",
     "text": [
      "Successfully installed decorator-4.4.2 jsonpickle-2.1.0 networkx-2.5.1 pyvis-0.2.0\r\n"
     ]
    },
    {
     "name": "stdout",
     "output_type": "stream",
     "text": [
      "\u001b[33mWARNING: You are using pip version 21.0.1; however, version 21.3.1 is available.\r\n",
      "You should consider upgrading via the '/usr/local/bin/python3.6 -m pip install --upgrade pip' command.\u001b[0m\r\n"
     ]
    }
   ],
   "source": [
    "!pip install sagemaker-experiments pyvis"
   ]
  },
  {
   "cell_type": "markdown",
   "id": "c6cf2db5",
   "metadata": {
    "papermill": {
     "duration": 0.144194,
     "end_time": "2022-04-18T00:21:48.314463",
     "exception": false,
     "start_time": "2022-04-18T00:21:48.170269",
     "status": "completed"
    },
    "tags": []
   },
   "source": [
    "## Notebook Overview\n",
    "\n",
    "This notebook demonstrates how to use SageMaker Lineage APIs to query multi-hop relationships across the lineage graph. Multi-hop relationships are those that span beyond single entity relationships, e.g. Model -> Endpoint, Training Job -> Model. Multi-hop queries allow users to search for distant relationships across the Lineage Graph such as Endpoint -> Data Set.\n",
    "\n",
    "To demonstrate these capabilities, in this notebook we create a training job, register a model to the Model Registry, and deploy the model to an Endpoint. "
   ]
  },
  {
   "cell_type": "code",
   "execution_count": 4,
   "id": "26efdda2",
   "metadata": {
    "execution": {
     "iopub.execute_input": "2022-04-18T00:21:48.532654Z",
     "iopub.status.busy": "2022-04-18T00:21:48.531445Z",
     "iopub.status.idle": "2022-04-18T00:21:51.762692Z",
     "shell.execute_reply": "2022-04-18T00:21:51.763131Z"
    },
    "papermill": {
     "duration": 3.348491,
     "end_time": "2022-04-18T00:21:51.763284",
     "exception": false,
     "start_time": "2022-04-18T00:21:48.414793",
     "status": "completed"
    },
    "tags": []
   },
   "outputs": [],
   "source": [
    "import os\n",
    "import boto3\n",
    "import sagemaker\n",
    "import pprint\n",
    "from botocore.config import Config\n",
    "\n",
    "config = Config(retries={\"max_attempts\": 50, \"mode\": \"adaptive\"})\n",
    "\n",
    "sagemaker_session = sagemaker.Session()\n",
    "sm_client = sagemaker_session.sagemaker_client\n",
    "\n",
    "region = sagemaker_session.boto_region_name\n",
    "\n",
    "default_bucket = sagemaker_session.default_bucket()\n",
    "role = sagemaker.get_execution_role()\n",
    "\n",
    "# Helper function to print query outputs\n",
    "pp = pprint.PrettyPrinter()"
   ]
  },
  {
   "cell_type": "code",
   "execution_count": 5,
   "id": "9c40701a",
   "metadata": {
    "execution": {
     "iopub.execute_input": "2022-04-18T00:21:51.918953Z",
     "iopub.status.busy": "2022-04-18T00:21:51.917704Z",
     "iopub.status.idle": "2022-04-18T00:21:51.919884Z",
     "shell.execute_reply": "2022-04-18T00:21:51.920432Z"
    },
    "papermill": {
     "duration": 0.111052,
     "end_time": "2022-04-18T00:21:51.920587",
     "exception": false,
     "start_time": "2022-04-18T00:21:51.809535",
     "status": "completed"
    },
    "tags": []
   },
   "outputs": [],
   "source": [
    "from datetime import datetime\n",
    "\n",
    "training_instance_type = \"ml.m5.xlarge\"\n",
    "inference_instance_type = \"ml.m5.xlarge\"\n",
    "s3_prefix = \"multihop-example\"\n",
    "\n",
    "unique_id = str(datetime.now().timestamp()).split(\".\")[0]"
   ]
  },
  {
   "cell_type": "markdown",
   "id": "6c51f513",
   "metadata": {
    "papermill": {
     "duration": 0.177412,
     "end_time": "2022-04-18T00:21:52.207604",
     "exception": false,
     "start_time": "2022-04-18T00:21:52.030192",
     "status": "completed"
    },
    "tags": []
   },
   "source": [
    "## Create an Experiment and Trial for a training job"
   ]
  },
  {
   "cell_type": "code",
   "execution_count": 6,
   "id": "8718c000",
   "metadata": {
    "execution": {
     "iopub.execute_input": "2022-04-18T00:21:52.513234Z",
     "iopub.status.busy": "2022-04-18T00:21:52.511849Z",
     "iopub.status.idle": "2022-04-18T00:21:53.030768Z",
     "shell.execute_reply": "2022-04-18T00:21:53.030273Z"
    },
    "papermill": {
     "duration": 0.712365,
     "end_time": "2022-04-18T00:21:53.030940",
     "exception": false,
     "start_time": "2022-04-18T00:21:52.318575",
     "status": "completed"
    },
    "tags": []
   },
   "outputs": [
    {
     "name": "stdout",
     "output_type": "stream",
     "text": [
      "MultihopQueryExperiment-1650241311\n",
      "MultihopQueryTrial-1650241311\n"
     ]
    }
   ],
   "source": [
    "from smexperiments.experiment import Experiment\n",
    "from smexperiments.trial import Trial\n",
    "from smexperiments.trial_component import TrialComponent\n",
    "\n",
    "experiment_name = f\"MultihopQueryExperiment-{unique_id}\"\n",
    "exp = Experiment.create(experiment_name=experiment_name, sagemaker_boto_client=sm_client)\n",
    "\n",
    "trial = Trial.create(\n",
    "    experiment_name=exp.experiment_name,\n",
    "    trial_name=f\"MultihopQueryTrial-{unique_id}\",\n",
    "    sagemaker_boto_client=sm_client,\n",
    ")\n",
    "\n",
    "print(exp.experiment_name)\n",
    "print(trial.trial_name)"
   ]
  },
  {
   "cell_type": "markdown",
   "id": "f63f088c",
   "metadata": {
    "papermill": {
     "duration": 0.108382,
     "end_time": "2022-04-18T00:21:53.219040",
     "exception": false,
     "start_time": "2022-04-18T00:21:53.110658",
     "status": "completed"
    },
    "tags": []
   },
   "source": [
    "## Training Data\n",
    "\n",
    "Creating a `data/` directory to store the preprocessed [UCI Abalone](https://archive.ics.uci.edu/ml/datasets/abalone) dataset. The preprocessing is done using the preprocessing script defined in the notebook [Orchestrating Jobs with Amazon SageMaker Model Building Pipelines](https://github.com/aws/amazon-sagemaker-examples/blob/master/sagemaker-pipelines/tabular/abalone_build_train_deploy/sagemaker-pipelines-preprocess-train-evaluate-batch-transform.ipynb) notebook. Then training and validation data is uploaded to S3 so that it can be used in the training and inference job."
   ]
  },
  {
   "cell_type": "code",
   "execution_count": 7,
   "id": "4d020ac3",
   "metadata": {
    "execution": {
     "iopub.execute_input": "2022-04-18T00:21:53.515419Z",
     "iopub.status.busy": "2022-04-18T00:21:53.514379Z",
     "iopub.status.idle": "2022-04-18T00:21:53.520352Z",
     "shell.execute_reply": "2022-04-18T00:21:53.520790Z"
    },
    "papermill": {
     "duration": 0.188205,
     "end_time": "2022-04-18T00:21:53.520927",
     "exception": false,
     "start_time": "2022-04-18T00:21:53.332722",
     "status": "completed"
    },
    "tags": []
   },
   "outputs": [
    {
     "data": {
      "text/plain": [
       "'sagemaker-us-west-2-521695447989'"
      ]
     },
     "execution_count": 7,
     "metadata": {},
     "output_type": "execute_result"
    }
   ],
   "source": [
    "default_bucket"
   ]
  },
  {
   "cell_type": "code",
   "execution_count": 8,
   "id": "c54bdc99",
   "metadata": {
    "execution": {
     "iopub.execute_input": "2022-04-18T00:21:53.813706Z",
     "iopub.status.busy": "2022-04-18T00:21:53.812966Z",
     "iopub.status.idle": "2022-04-18T00:21:55.959336Z",
     "shell.execute_reply": "2022-04-18T00:21:55.958845Z"
    },
    "papermill": {
     "duration": 2.327265,
     "end_time": "2022-04-18T00:21:55.959586",
     "exception": false,
     "start_time": "2022-04-18T00:21:53.632321",
     "status": "completed"
    },
    "tags": []
   },
   "outputs": [
    {
     "name": "stdout",
     "output_type": "stream",
     "text": [
      "Directory Created \n"
     ]
    },
    {
     "name": "stderr",
     "output_type": "stream",
     "text": [
      "/usr/local/lib/python3.6/site-packages/boto3/compat.py:88: PythonDeprecationWarning: Boto3 will no longer support Python 3.6 starting May 30, 2022. To continue receiving service updates, bug fixes, and security updates please upgrade to Python 3.7 or later. More information can be found here: https://aws.amazon.com/blogs/developer/python-support-policy-updates-for-aws-sdks-and-tools/\n",
      "  warnings.warn(warning, PythonDeprecationWarning)\n"
     ]
    }
   ],
   "source": [
    "if not os.path.exists(\"./data/\"):\n",
    "    os.makedirs(\"./data/\")\n",
    "    print(\"Directory Created \")\n",
    "else:\n",
    "    print(\"Directory already exists\")\n",
    "\n",
    "# Download the processed abalone dataset files\n",
    "s3 = boto3.client(\"s3\")\n",
    "s3.download_file(\n",
    "    f\"sagemaker-sample-files\",\n",
    "    \"datasets/tabular/uci_abalone/preprocessed/test.csv\",\n",
    "    \"./data/test.csv\",\n",
    ")\n",
    "s3.download_file(\n",
    "    f\"sagemaker-sample-files\",\n",
    "    \"datasets/tabular/uci_abalone/preprocessed/train.csv\",\n",
    "    \"./data/train.csv\",\n",
    ")\n",
    "s3.download_file(\n",
    "    f\"sagemaker-sample-files\",\n",
    "    \"datasets/tabular/uci_abalone/preprocessed/validation.csv\",\n",
    "    \"./data/validation.csv\",\n",
    ")\n",
    "\n",
    "# Upload the datasets to the SageMaker session default bucket\n",
    "boto3.Session().resource(\"s3\").Bucket(default_bucket).Object(\n",
    "    \"experiments-demo/train.csv\"\n",
    ").upload_file(\"data/train.csv\")\n",
    "boto3.Session().resource(\"s3\").Bucket(default_bucket).Object(\n",
    "    \"experiments-demo/validation.csv\"\n",
    ").upload_file(\"data/validation.csv\")\n",
    "\n",
    "training_data = f\"s3://{default_bucket}/experiments-demo/train.csv\"\n",
    "validation_data = f\"s3://{default_bucket}/experiments-demo/validation.csv\""
   ]
  },
  {
   "cell_type": "markdown",
   "id": "660c9e25",
   "metadata": {
    "papermill": {
     "duration": 0.072894,
     "end_time": "2022-04-18T00:21:56.128168",
     "exception": false,
     "start_time": "2022-04-18T00:21:56.055274",
     "status": "completed"
    },
    "tags": []
   },
   "source": [
    "## Create a training job\n",
    "\n",
    "We train a simple XGBoost model on the Abalone dataset. \n",
    "`sagemaker.image_uris.retrieve()` is used to get the sagemaker container for XGBoost so that it can be used in the Estimator. \n",
    "\n",
    "In the `.fit()` function, we pass in a training and validation dataset along with an `experiment_config`. The `experiment_config` ensures that the metrics, parameters, and artifats associated with this training job are logged to the experiment and trial created above. \n"
   ]
  },
  {
   "cell_type": "code",
   "execution_count": 9,
   "id": "8fed64de",
   "metadata": {
    "execution": {
     "iopub.execute_input": "2022-04-18T00:21:56.238377Z",
     "iopub.status.busy": "2022-04-18T00:21:56.237354Z",
     "iopub.status.idle": "2022-04-18T00:21:56.264467Z",
     "shell.execute_reply": "2022-04-18T00:21:56.263710Z"
    },
    "papermill": {
     "duration": 0.08736,
     "end_time": "2022-04-18T00:21:56.264638",
     "exception": false,
     "start_time": "2022-04-18T00:21:56.177278",
     "status": "completed"
    },
    "tags": []
   },
   "outputs": [
    {
     "name": "stderr",
     "output_type": "stream",
     "text": [
      "INFO:sagemaker.image_uris:Same images used for training and inference. Defaulting to image scope: inference.\n"
     ]
    }
   ],
   "source": [
    "from sagemaker.estimator import Estimator\n",
    "\n",
    "model_path = f\"s3://{default_bucket}/{s3_prefix}/xgb_model\"\n",
    "training_instance_type = \"ml.m5.large\"\n",
    "\n",
    "image_uri = sagemaker.image_uris.retrieve(\n",
    "    framework=\"xgboost\",\n",
    "    region=region,\n",
    "    version=\"1.5-1\",\n",
    "    py_version=\"py3\",\n",
    "    instance_type=training_instance_type,\n",
    ")\n",
    "\n",
    "xgb_train = Estimator(\n",
    "    image_uri=image_uri,\n",
    "    instance_type=training_instance_type,\n",
    "    instance_count=1,\n",
    "    output_path=model_path,\n",
    "    sagemaker_session=sagemaker_session,\n",
    "    role=role,\n",
    ")\n",
    "\n",
    "xgb_train.set_hyperparameters(\n",
    "    objective=\"reg:linear\",\n",
    "    num_round=50,\n",
    "    max_depth=5,\n",
    "    eta=0.2,\n",
    "    gamma=4,\n",
    "    min_child_weight=6,\n",
    "    subsample=0.7,\n",
    "    verbosity=0,\n",
    ")"
   ]
  },
  {
   "cell_type": "code",
   "execution_count": 10,
   "id": "5285ba3d",
   "metadata": {
    "execution": {
     "iopub.execute_input": "2022-04-18T00:21:56.379639Z",
     "iopub.status.busy": "2022-04-18T00:21:56.378511Z",
     "iopub.status.idle": "2022-04-18T00:26:05.399560Z",
     "shell.execute_reply": "2022-04-18T00:26:05.399050Z"
    },
    "papermill": {
     "duration": 249.082849,
     "end_time": "2022-04-18T00:26:05.399691",
     "exception": false,
     "start_time": "2022-04-18T00:21:56.316842",
     "status": "completed"
    },
    "tags": []
   },
   "outputs": [
    {
     "name": "stderr",
     "output_type": "stream",
     "text": [
      "INFO:sagemaker.image_uris:Defaulting to the only supported framework/algorithm version: latest.\n"
     ]
    },
    {
     "name": "stderr",
     "output_type": "stream",
     "text": [
      "INFO:sagemaker.image_uris:Ignoring unnecessary instance type: None.\n"
     ]
    },
    {
     "name": "stderr",
     "output_type": "stream",
     "text": [
      "INFO:sagemaker:Creating training-job with name: sagemaker-xgboost-2022-04-18-00-21-56-371\n"
     ]
    },
    {
     "name": "stdout",
     "output_type": "stream",
     "text": [
      "2022-04-18 00:21:56 Starting - Starting the training job."
     ]
    },
    {
     "name": "stdout",
     "output_type": "stream",
     "text": [
      "."
     ]
    },
    {
     "name": "stdout",
     "output_type": "stream",
     "text": [
      "."
     ]
    },
    {
     "name": "stdout",
     "output_type": "stream",
     "text": [
      "\n",
      "2022-04-18 00:22:12 Starting - Preparing the instances for trainingProfilerReport-1650241316: InProgress\n"
     ]
    },
    {
     "name": "stdout",
     "output_type": "stream",
     "text": [
      "."
     ]
    },
    {
     "name": "stdout",
     "output_type": "stream",
     "text": [
      "."
     ]
    },
    {
     "name": "stdout",
     "output_type": "stream",
     "text": [
      "."
     ]
    },
    {
     "name": "stdout",
     "output_type": "stream",
     "text": [
      "."
     ]
    },
    {
     "name": "stdout",
     "output_type": "stream",
     "text": [
      "."
     ]
    },
    {
     "name": "stdout",
     "output_type": "stream",
     "text": [
      "."
     ]
    },
    {
     "name": "stdout",
     "output_type": "stream",
     "text": [
      "\n",
      "2022-04-18 00:23:27 Downloading - Downloading input data"
     ]
    },
    {
     "name": "stdout",
     "output_type": "stream",
     "text": [
      "."
     ]
    },
    {
     "name": "stdout",
     "output_type": "stream",
     "text": [
      "."
     ]
    },
    {
     "name": "stdout",
     "output_type": "stream",
     "text": [
      "."
     ]
    },
    {
     "name": "stdout",
     "output_type": "stream",
     "text": [
      "."
     ]
    },
    {
     "name": "stdout",
     "output_type": "stream",
     "text": [
      "."
     ]
    },
    {
     "name": "stdout",
     "output_type": "stream",
     "text": [
      "."
     ]
    },
    {
     "name": "stdout",
     "output_type": "stream",
     "text": [
      "\n",
      "2022-04-18 00:24:28 Training - Downloading the training image."
     ]
    },
    {
     "name": "stdout",
     "output_type": "stream",
     "text": [
      "."
     ]
    },
    {
     "name": "stdout",
     "output_type": "stream",
     "text": [
      "."
     ]
    },
    {
     "name": "stdout",
     "output_type": "stream",
     "text": [
      "\n",
      "2022-04-18 00:25:01 Uploading - Uploading generated training model\u001b[34mINFO:sagemaker-containers:Imported framework sagemaker_xgboost_container.training\u001b[0m\n",
      "\u001b[34mINFO:sagemaker-containers:Failed to parse hyperparameter objective value reg:linear to Json.\u001b[0m\n",
      "\u001b[34mReturning the value itself\u001b[0m\n",
      "\u001b[34mINFO:sagemaker-containers:No GPUs detected (normal if no gpus installed)\u001b[0m\n",
      "\u001b[34mINFO:sagemaker_xgboost_container.training:Running XGBoost Sagemaker in algorithm mode\u001b[0m\n",
      "\u001b[34mINFO:root:Determined delimiter of CSV input is ','\u001b[0m\n",
      "\u001b[34mINFO:root:Determined delimiter of CSV input is ','\u001b[0m\n",
      "\u001b[34mINFO:root:Determined delimiter of CSV input is ','\u001b[0m\n",
      "\u001b[34m[00:24:55] 2923x10 matrix with 29230 entries loaded from /opt/ml/input/data/train?format=csv&label_column=0&delimiter=,\u001b[0m\n",
      "\u001b[34mINFO:root:Determined delimiter of CSV input is ','\u001b[0m\n",
      "\u001b[34m[00:24:55] 627x10 matrix with 6270 entries loaded from /opt/ml/input/data/validation?format=csv&label_column=0&delimiter=,\u001b[0m\n",
      "\u001b[34mINFO:root:Single node training.\u001b[0m\n",
      "\u001b[34mINFO:root:Train matrix has 2923 rows\u001b[0m\n",
      "\u001b[34mINFO:root:Validation matrix has 627 rows\u001b[0m\n",
      "\u001b[34m[00:24:55] WARNING: /workspace/src/objective/regression_obj.cu:167: reg:linear is now deprecated in favor of reg:squarederror.\u001b[0m\n",
      "\u001b[34m[00:24:55] WARNING: /workspace/src/learner.cc:328: \u001b[0m\n",
      "\u001b[34mParameters: { num_round, silent } might not be used.\n",
      "  This may not be accurate due to some parameters are only used in language bindings but\n",
      "  passed down to XGBoost core.  Or some parameters are not used but slip through this\n",
      "  verification. Please open an issue if you find above cases.\u001b[0m\n",
      "\u001b[34m[0]#011train-rmse:8.09483#011validation-rmse:8.33559\u001b[0m\n",
      "\u001b[34m[1]#011train-rmse:6.62617#011validation-rmse:6.86867\u001b[0m\n",
      "\u001b[34m[2]#011train-rmse:5.47384#011validation-rmse:5.71510\u001b[0m\n",
      "\u001b[34m[3]#011train-rmse:4.56593#011validation-rmse:4.80989\u001b[0m\n",
      "\u001b[34m[4]#011train-rmse:3.87283#011validation-rmse:4.13381\u001b[0m\n",
      "\u001b[34m[5]#011train-rmse:3.34117#011validation-rmse:3.60401\u001b[0m\n",
      "\u001b[34m[6]#011train-rmse:2.94611#011validation-rmse:3.22161\u001b[0m\n",
      "\u001b[34m[7]#011train-rmse:2.65142#011validation-rmse:2.91350\u001b[0m\n",
      "\u001b[34m[8]#011train-rmse:2.43912#011validation-rmse:2.71088\u001b[0m\n",
      "\u001b[34m[9]#011train-rmse:2.28429#011validation-rmse:2.56262\u001b[0m\n",
      "\u001b[34m[10]#011train-rmse:2.17619#011validation-rmse:2.46501\u001b[0m\n",
      "\u001b[34m[11]#011train-rmse:2.10069#011validation-rmse:2.39678\u001b[0m\n",
      "\u001b[34m[12]#011train-rmse:2.03541#011validation-rmse:2.35187\u001b[0m\n",
      "\u001b[34m[13]#011train-rmse:1.99775#011validation-rmse:2.31802\u001b[0m\n",
      "\u001b[34m[14]#011train-rmse:1.95787#011validation-rmse:2.30118\u001b[0m\n",
      "\u001b[34m[15]#011train-rmse:1.93027#011validation-rmse:2.28703\u001b[0m\n",
      "\u001b[34m[16]#011train-rmse:1.90745#011validation-rmse:2.27673\u001b[0m\n",
      "\u001b[34m[17]#011train-rmse:1.89317#011validation-rmse:2.28023\u001b[0m\n",
      "\u001b[34m[18]#011train-rmse:1.86939#011validation-rmse:2.27143\u001b[0m\n",
      "\u001b[34m[19]#011train-rmse:1.85007#011validation-rmse:2.26374\u001b[0m\n",
      "\u001b[34m[20]#011train-rmse:1.83256#011validation-rmse:2.26897\u001b[0m\n",
      "\u001b[34m[21]#011train-rmse:1.82095#011validation-rmse:2.27035\u001b[0m\n",
      "\u001b[34m[22]#011train-rmse:1.81574#011validation-rmse:2.26190\u001b[0m\n",
      "\u001b[34m[23]#011train-rmse:1.80797#011validation-rmse:2.26231\u001b[0m\n",
      "\u001b[34m[24]#011train-rmse:1.78942#011validation-rmse:2.26233\u001b[0m\n",
      "\u001b[34m[25]#011train-rmse:1.78354#011validation-rmse:2.26086\u001b[0m\n",
      "\u001b[34m[26]#011train-rmse:1.77177#011validation-rmse:2.26747\u001b[0m\n",
      "\u001b[34m[27]#011train-rmse:1.76730#011validation-rmse:2.26610\u001b[0m\n",
      "\u001b[34m[28]#011train-rmse:1.75690#011validation-rmse:2.26657\u001b[0m\n",
      "\u001b[34m[29]#011train-rmse:1.75205#011validation-rmse:2.26914\u001b[0m\n",
      "\u001b[34m[30]#011train-rmse:1.75068#011validation-rmse:2.26550\u001b[0m\n",
      "\u001b[34m[31]#011train-rmse:1.74036#011validation-rmse:2.26121\u001b[0m\n",
      "\u001b[34m[32]#011train-rmse:1.72941#011validation-rmse:2.26256\u001b[0m\n",
      "\u001b[34m[33]#011train-rmse:1.71468#011validation-rmse:2.25891\u001b[0m\n",
      "\u001b[34m[34]#011train-rmse:1.71255#011validation-rmse:2.25856\u001b[0m\n",
      "\u001b[34m[35]#011train-rmse:1.71040#011validation-rmse:2.26029\u001b[0m\n",
      "\u001b[34m[36]#011train-rmse:1.70669#011validation-rmse:2.26590\u001b[0m\n",
      "\u001b[34m[37]#011train-rmse:1.70319#011validation-rmse:2.26375\u001b[0m\n",
      "\u001b[34m[38]#011train-rmse:1.69704#011validation-rmse:2.26592\u001b[0m\n",
      "\u001b[34m[39]#011train-rmse:1.69448#011validation-rmse:2.26439\u001b[0m\n",
      "\u001b[34m[40]#011train-rmse:1.68990#011validation-rmse:2.26771\u001b[0m\n",
      "\u001b[34m[41]#011train-rmse:1.67904#011validation-rmse:2.26990\u001b[0m\n",
      "\u001b[34m[42]#011train-rmse:1.67131#011validation-rmse:2.26866\u001b[0m\n",
      "\u001b[34m[43]#011train-rmse:1.66305#011validation-rmse:2.26504\u001b[0m\n",
      "\u001b[34m[44]#011train-rmse:1.65370#011validation-rmse:2.27383\u001b[0m\n",
      "\u001b[34m[45]#011train-rmse:1.64502#011validation-rmse:2.27462\u001b[0m\n",
      "\u001b[34m[46]#011train-rmse:1.63533#011validation-rmse:2.27985\u001b[0m\n",
      "\u001b[34m[47]#011train-rmse:1.62758#011validation-rmse:2.28381\u001b[0m\n",
      "\u001b[34m[48]#011train-rmse:1.61885#011validation-rmse:2.28484\u001b[0m\n",
      "\u001b[34m[49]#011train-rmse:1.61356#011validation-rmse:2.28200\u001b[0m\n"
     ]
    },
    {
     "name": "stdout",
     "output_type": "stream",
     "text": [
      "\n",
      "2022-04-18 00:25:48 Completed - Training job completed\n"
     ]
    },
    {
     "name": "stdout",
     "output_type": "stream",
     "text": [
      "Training seconds: 108\n",
      "Billable seconds: 108\n"
     ]
    }
   ],
   "source": [
    "from sagemaker.inputs import TrainingInput\n",
    "\n",
    "xgb_train.fit(\n",
    "    inputs={\n",
    "        \"train\": TrainingInput(\n",
    "            s3_data=training_data,\n",
    "            content_type=\"text/csv\",\n",
    "        ),\n",
    "        \"validation\": TrainingInput(\n",
    "            s3_data=validation_data,\n",
    "            content_type=\"text/csv\",\n",
    "        ),\n",
    "    },\n",
    "    experiment_config={\n",
    "        \"ExperimentName\": experiment_name,\n",
    "        \"TrialName\": trial.trial_name,\n",
    "        \"TrialComponentDisplayName\": \"MultiHopQueryTrialComponent\",\n",
    "    },\n",
    ")"
   ]
  },
  {
   "cell_type": "markdown",
   "id": "ce43b815",
   "metadata": {
    "papermill": {
     "duration": 0.231837,
     "end_time": "2022-04-18T00:26:05.932590",
     "exception": false,
     "start_time": "2022-04-18T00:26:05.700753",
     "status": "completed"
    },
    "tags": []
   },
   "source": [
    "## Create a Model Package Group for the trained model to be registered\n",
    "\n",
    "Create a new Model Package Group or use an existing one to register the model."
   ]
  },
  {
   "cell_type": "code",
   "execution_count": 11,
   "id": "17e9f1e0",
   "metadata": {
    "execution": {
     "iopub.execute_input": "2022-04-18T00:26:06.143662Z",
     "iopub.status.busy": "2022-04-18T00:26:06.142740Z",
     "iopub.status.idle": "2022-04-18T00:26:06.211242Z",
     "shell.execute_reply": "2022-04-18T00:26:06.210527Z"
    },
    "papermill": {
     "duration": 0.141459,
     "end_time": "2022-04-18T00:26:06.211386",
     "exception": false,
     "start_time": "2022-04-18T00:26:06.069927",
     "status": "completed"
    },
    "tags": []
   },
   "outputs": [],
   "source": [
    "model_package_group_name = \"lineage-test-\" + unique_id\n",
    "mpg = sm_client.create_model_package_group(ModelPackageGroupName=model_package_group_name)\n",
    "mpg_arn = mpg[\"ModelPackageGroupArn\"]"
   ]
  },
  {
   "cell_type": "markdown",
   "id": "d17d04c0",
   "metadata": {
    "papermill": {
     "duration": 0.164678,
     "end_time": "2022-04-18T00:26:06.478218",
     "exception": false,
     "start_time": "2022-04-18T00:26:06.313540",
     "status": "completed"
    },
    "tags": []
   },
   "source": [
    "## Register the model in the Model Registry\n",
    "Once the model is registered, it appears in the Model Registry tab of the SageMaker Studio UI. The model is registered with the `approval_status` set to \"Approved\". By default, the model is registered with the `approval_status` set to \"PendingManualApproval\". Users can then navigate to the Model Registry to manually approve the model based on any criteria set for model evaluation or this can be done via API. "
   ]
  },
  {
   "cell_type": "code",
   "execution_count": 12,
   "id": "38ab67a1",
   "metadata": {
    "execution": {
     "iopub.execute_input": "2022-04-18T00:26:06.711865Z",
     "iopub.status.busy": "2022-04-18T00:26:06.711126Z",
     "iopub.status.idle": "2022-04-18T00:26:06.997506Z",
     "shell.execute_reply": "2022-04-18T00:26:06.999952Z"
    },
    "papermill": {
     "duration": 0.36442,
     "end_time": "2022-04-18T00:26:07.000558",
     "exception": false,
     "start_time": "2022-04-18T00:26:06.636138",
     "status": "completed"
    },
    "tags": []
   },
   "outputs": [
    {
     "name": "stdout",
     "output_type": "stream",
     "text": [
      "Model Package ARN :  arn:aws:sagemaker:us-west-2:000000000000:model-package/lineage-test-1650241311/1\n"
     ]
    }
   ],
   "source": [
    "inference_instance_type = \"ml.m5.xlarge\"\n",
    "model_package = xgb_train.register(\n",
    "    model_package_group_name=mpg_arn,\n",
    "    inference_instances=[inference_instance_type],\n",
    "    transform_instances=[inference_instance_type],\n",
    "    content_types=[\"text/csv\"],\n",
    "    response_types=[\"text/csv\"],\n",
    "    approval_status=\"Approved\",\n",
    ")\n",
    "\n",
    "model_package_arn = model_package.model_package_arn\n",
    "print(\"Model Package ARN : \", model_package_arn)"
   ]
  },
  {
   "cell_type": "markdown",
   "id": "570f9d6c",
   "metadata": {
    "papermill": {
     "duration": 0.060471,
     "end_time": "2022-04-18T00:26:07.156494",
     "exception": false,
     "start_time": "2022-04-18T00:26:07.096023",
     "status": "completed"
    },
    "tags": []
   },
   "source": [
    "## Deploy the model to a SageMaker Endpoint\n",
    "\n",
    "A SageMaker Endpoint is used to host a model that can be used for inference. The type of endpoint deployed in this notebook is a real time inference endpoint. This is ideal for inference workloads where you have real-time, interactive, low latency requirements."
   ]
  },
  {
   "cell_type": "code",
   "execution_count": 13,
   "id": "8433e1e9",
   "metadata": {
    "execution": {
     "iopub.execute_input": "2022-04-18T00:26:07.290500Z",
     "iopub.status.busy": "2022-04-18T00:26:07.289414Z",
     "iopub.status.idle": "2022-04-18T00:28:08.679128Z",
     "shell.execute_reply": "2022-04-18T00:28:08.680773Z"
    },
    "papermill": {
     "duration": 121.466207,
     "end_time": "2022-04-18T00:28:08.680960",
     "exception": false,
     "start_time": "2022-04-18T00:26:07.214753",
     "status": "completed"
    },
    "tags": []
   },
   "outputs": [
    {
     "name": "stderr",
     "output_type": "stream",
     "text": [
      "INFO:sagemaker:Creating model with name: 1-2022-04-18-00-26-07-325\n"
     ]
    },
    {
     "name": "stderr",
     "output_type": "stream",
     "text": [
      "INFO:sagemaker:Creating endpoint-config with name lineage-test-endpoint-1650241311\n"
     ]
    },
    {
     "name": "stderr",
     "output_type": "stream",
     "text": [
      "INFO:sagemaker:Creating endpoint with name lineage-test-endpoint-1650241311\n"
     ]
    },
    {
     "name": "stdout",
     "output_type": "stream",
     "text": [
      "-"
     ]
    },
    {
     "name": "stdout",
     "output_type": "stream",
     "text": [
      "-"
     ]
    },
    {
     "name": "stdout",
     "output_type": "stream",
     "text": [
      "-"
     ]
    },
    {
     "name": "stdout",
     "output_type": "stream",
     "text": [
      "-"
     ]
    },
    {
     "name": "stdout",
     "output_type": "stream",
     "text": [
      "!"
     ]
    }
   ],
   "source": [
    "endpoint_name = \"lineage-test-endpoint-\" + unique_id\n",
    "model_package.deploy(\n",
    "    endpoint_name=endpoint_name,\n",
    "    initial_instance_count=1,\n",
    "    instance_type=inference_instance_type,\n",
    ")"
   ]
  },
  {
   "cell_type": "code",
   "execution_count": 14,
   "id": "17178ffe",
   "metadata": {
    "execution": {
     "iopub.execute_input": "2022-04-18T00:28:08.865886Z",
     "iopub.status.busy": "2022-04-18T00:28:08.864991Z",
     "iopub.status.idle": "2022-04-18T00:28:08.959717Z",
     "shell.execute_reply": "2022-04-18T00:28:08.960369Z"
    },
    "papermill": {
     "duration": 0.19124,
     "end_time": "2022-04-18T00:28:08.960518",
     "exception": false,
     "start_time": "2022-04-18T00:28:08.769278",
     "status": "completed"
    },
    "tags": []
   },
   "outputs": [
    {
     "name": "stdout",
     "output_type": "stream",
     "text": [
      "arn:aws:sagemaker:us-west-2:000000000000:endpoint/lineage-test-endpoint-1650241311\n"
     ]
    }
   ],
   "source": [
    "# Get the endpoint ARN\n",
    "endpoint_arn = sm_client.describe_endpoint(EndpointName=endpoint_name)[\"EndpointArn\"]\n",
    "print(endpoint_arn)"
   ]
  },
  {
   "cell_type": "markdown",
   "id": "1b73bd20",
   "metadata": {
    "papermill": {
     "duration": 0.186054,
     "end_time": "2022-04-18T00:28:09.242728",
     "exception": false,
     "start_time": "2022-04-18T00:28:09.056674",
     "status": "completed"
    },
    "tags": []
   },
   "source": [
    "## SageMaker Lineage Queries\n",
    "\n",
    "We explore SageMaker's lineage capabilities to traverse the relationships between the entities created in this notebook - datasets, model, endpoint, and training job. "
   ]
  },
  {
   "cell_type": "code",
   "execution_count": 15,
   "id": "fc2b4ef0",
   "metadata": {
    "execution": {
     "iopub.execute_input": "2022-04-18T00:28:09.426915Z",
     "iopub.status.busy": "2022-04-18T00:28:09.424706Z",
     "iopub.status.idle": "2022-04-18T00:28:09.427701Z",
     "shell.execute_reply": "2022-04-18T00:28:09.428139Z"
    },
    "papermill": {
     "duration": 0.099576,
     "end_time": "2022-04-18T00:28:09.428273",
     "exception": false,
     "start_time": "2022-04-18T00:28:09.328697",
     "status": "completed"
    },
    "tags": []
   },
   "outputs": [],
   "source": [
    "from sagemaker.lineage.context import Context, EndpointContext\n",
    "from sagemaker.lineage.action import Action\n",
    "from sagemaker.lineage.association import Association\n",
    "from sagemaker.lineage.artifact import Artifact, ModelArtifact, DatasetArtifact\n",
    "\n",
    "from sagemaker.lineage.query import (\n",
    "    LineageQuery,\n",
    "    LineageFilter,\n",
    "    LineageSourceEnum,\n",
    "    LineageEntityEnum,\n",
    "    LineageQueryDirectionEnum,\n",
    ")"
   ]
  },
  {
   "cell_type": "markdown",
   "id": "093e985e",
   "metadata": {
    "papermill": {
     "duration": 0.060241,
     "end_time": "2022-04-18T00:28:09.549648",
     "exception": false,
     "start_time": "2022-04-18T00:28:09.489407",
     "status": "completed"
    },
    "tags": []
   },
   "source": [
    "### Using the LineageQuery API to find entity associations\n",
    "\n",
    "In this section we use two APIs, `LineageQuery` and `LineageFilter` to construct queries to answer questions about the Lineage Graph and extract entity relationships. \n",
    "\n",
    "LineageQuery parameters:\n",
    "* `start_arns`: A list of ARNs that is used as the starting point for the query.\n",
    "* `direction`: The direction of the query.\n",
    "* `include_edges`: If true, return edges in addition to vertices.\n",
    "* `query_filter`: The query filter.\n",
    "\n",
    "LineageFilter paramters:\n",
    "* `entities`: A list of entity types (Artifact, Association, Action) to filter for when returning the results on LineageQuery\n",
    "* `sources`: A list of source types (Endpoint, Model, Dataset) to filter for when returning the results of LineageQuery\n",
    "\n",
    "A `Context` is automatically created when a SageMaker Endpoint is created, an `Artifact` is automatically created when a Model is created in SageMaker. "
   ]
  },
  {
   "cell_type": "code",
   "execution_count": 16,
   "id": "a30c455b",
   "metadata": {
    "execution": {
     "iopub.execute_input": "2022-04-18T00:28:09.728570Z",
     "iopub.status.busy": "2022-04-18T00:28:09.725785Z",
     "iopub.status.idle": "2022-04-18T00:28:09.885082Z",
     "shell.execute_reply": "2022-04-18T00:28:09.884584Z"
    },
    "papermill": {
     "duration": 0.273637,
     "end_time": "2022-04-18T00:28:09.885212",
     "exception": false,
     "start_time": "2022-04-18T00:28:09.611575",
     "status": "completed"
    },
    "tags": []
   },
   "outputs": [],
   "source": [
    "# Find the endpoint context and model artifact that should be used for the lineage queries.\n",
    "\n",
    "contexts = Context.list(source_uri=endpoint_arn)\n",
    "context_name = list(contexts)[0].context_name\n",
    "endpoint_context = EndpointContext.load(context_name=context_name)"
   ]
  },
  {
   "cell_type": "markdown",
   "id": "9963e76e",
   "metadata": {
    "papermill": {
     "duration": 0.061589,
     "end_time": "2022-04-18T00:28:10.007389",
     "exception": false,
     "start_time": "2022-04-18T00:28:09.945800",
     "status": "completed"
    },
    "tags": []
   },
   "source": [
    "#### Find all datasets associated with an Endpoint"
   ]
  },
  {
   "cell_type": "code",
   "execution_count": 17,
   "id": "dfde258b",
   "metadata": {
    "execution": {
     "iopub.execute_input": "2022-04-18T00:28:10.150292Z",
     "iopub.status.busy": "2022-04-18T00:28:10.149572Z",
     "iopub.status.idle": "2022-04-18T00:28:10.451715Z",
     "shell.execute_reply": "2022-04-18T00:28:10.452487Z"
    },
    "papermill": {
     "duration": 0.385712,
     "end_time": "2022-04-18T00:28:10.452638",
     "exception": false,
     "start_time": "2022-04-18T00:28:10.066926",
     "status": "completed"
    },
    "tags": []
   },
   "outputs": [
    {
     "name": "stdout",
     "output_type": "stream",
     "text": [
      "['s3://sagemaker-us-west-2-000000000000/experiments-demo/train.csv',\n",
      " 's3://sagemaker-us-west-2-000000000000/experiments-demo/validation.csv']\n"
     ]
    }
   ],
   "source": [
    "# Define the LineageFilter to look for entities of type `ARTIFACT` and the source of type `DATASET`.\n",
    "\n",
    "query_filter = LineageFilter(\n",
    "    entities=[LineageEntityEnum.ARTIFACT], sources=[LineageSourceEnum.DATASET]\n",
    ")\n",
    "\n",
    "# Providing this `LineageFilter` to the `LineageQuery` constructs a query that traverses through the given context `endpoint_context`\n",
    "# and find all datasets.\n",
    "\n",
    "query_result = LineageQuery(sagemaker_session).query(\n",
    "    start_arns=[endpoint_context.context_arn],\n",
    "    query_filter=query_filter,\n",
    "    direction=LineageQueryDirectionEnum.ASCENDANTS,\n",
    "    include_edges=False,\n",
    ")\n",
    "\n",
    "# Parse through the query results to get the lineage objects corresponding to the datasets\n",
    "dataset_artifacts = []\n",
    "for vertex in query_result.vertices:\n",
    "    dataset_artifacts.append(vertex.to_lineage_object().source.source_uri)\n",
    "\n",
    "pp.pprint(dataset_artifacts)"
   ]
  },
  {
   "cell_type": "markdown",
   "id": "7dab1c4a",
   "metadata": {
    "papermill": {
     "duration": 0.070208,
     "end_time": "2022-04-18T00:28:10.581996",
     "exception": false,
     "start_time": "2022-04-18T00:28:10.511788",
     "status": "completed"
    },
    "tags": []
   },
   "source": [
    "#### Find the models associated with an Endpoint"
   ]
  },
  {
   "cell_type": "code",
   "execution_count": 18,
   "id": "6294fc97",
   "metadata": {
    "execution": {
     "iopub.execute_input": "2022-04-18T00:28:10.736557Z",
     "iopub.status.busy": "2022-04-18T00:28:10.735846Z",
     "iopub.status.idle": "2022-04-18T00:28:11.056073Z",
     "shell.execute_reply": "2022-04-18T00:28:11.055587Z"
    },
    "papermill": {
     "duration": 0.41345,
     "end_time": "2022-04-18T00:28:11.056192",
     "exception": false,
     "start_time": "2022-04-18T00:28:10.642742",
     "status": "completed"
    },
    "tags": []
   },
   "outputs": [
    {
     "name": "stdout",
     "output_type": "stream",
     "text": [
      "['arn:aws:sagemaker:us-west-2:000000000000:model-package/lineage-test-1650241311/1',\n",
      " 's3://sagemaker-us-west-2-000000000000/multihop-example/xgb_model/sagemaker-xgboost-2022-04-18-00-21-56-371/output/model.tar.gz']\n"
     ]
    }
   ],
   "source": [
    "# Define the LineageFilter to look for entities of type `ARTIFACT` and the source of type `MODEL`.\n",
    "\n",
    "query_filter = LineageFilter(\n",
    "    entities=[LineageEntityEnum.ARTIFACT], sources=[LineageSourceEnum.MODEL]\n",
    ")\n",
    "\n",
    "# Providing this `LineageFilter` to the `LineageQuery` constructs a query that traverses through the given context `endpoint_context`\n",
    "# and find all datasets.\n",
    "\n",
    "query_result = LineageQuery(sagemaker_session).query(\n",
    "    start_arns=[endpoint_context.context_arn],\n",
    "    query_filter=query_filter,\n",
    "    direction=LineageQueryDirectionEnum.ASCENDANTS,\n",
    "    include_edges=False,\n",
    ")\n",
    "\n",
    "# Parse through the query results to get the lineage objects corresponding to the model\n",
    "model_artifacts = []\n",
    "for vertex in query_result.vertices:\n",
    "    model_artifacts.append(vertex.to_lineage_object().source.source_uri)\n",
    "\n",
    "# The results of the `LineageQuery` API call return the ARN of the model deployed to the endpoint along with\n",
    "# the S3 URI to the model.tar.gz file associated with the model\n",
    "pp.pprint(model_artifacts)"
   ]
  },
  {
   "cell_type": "markdown",
   "id": "4fa79344",
   "metadata": {
    "papermill": {
     "duration": 0.058894,
     "end_time": "2022-04-18T00:28:11.177287",
     "exception": false,
     "start_time": "2022-04-18T00:28:11.118393",
     "status": "completed"
    },
    "tags": []
   },
   "source": [
    "#### Find the trial components associated with an Endpoint"
   ]
  },
  {
   "cell_type": "code",
   "execution_count": 19,
   "id": "d417bf3a",
   "metadata": {
    "execution": {
     "iopub.execute_input": "2022-04-18T00:28:11.302796Z",
     "iopub.status.busy": "2022-04-18T00:28:11.302134Z",
     "iopub.status.idle": "2022-04-18T00:28:11.391013Z",
     "shell.execute_reply": "2022-04-18T00:28:11.390532Z"
    },
    "papermill": {
     "duration": 0.155052,
     "end_time": "2022-04-18T00:28:11.391132",
     "exception": false,
     "start_time": "2022-04-18T00:28:11.236080",
     "status": "completed"
    },
    "tags": []
   },
   "outputs": [
    {
     "name": "stdout",
     "output_type": "stream",
     "text": [
      "['arn:aws:sagemaker:us-west-2:000000000000:experiment-trial-component/sagemaker-xgboost-2022-04-18-00-21-56-371-aws-training-job']\n"
     ]
    }
   ],
   "source": [
    "# Define the LineageFilter to look for entities of type `TRIAL_COMPONENT` and the source of type `TRAINING_JOB`.\n",
    "\n",
    "query_filter = LineageFilter(\n",
    "    entities=[LineageEntityEnum.TRIAL_COMPONENT],\n",
    "    sources=[LineageSourceEnum.TRAINING_JOB],\n",
    ")\n",
    "\n",
    "# Providing this `LineageFilter` to the `LineageQuery` constructs a query that traverses through the given context `endpoint_context`\n",
    "# and find all datasets.\n",
    "\n",
    "query_result = LineageQuery(sagemaker_session).query(\n",
    "    start_arns=[endpoint_context.context_arn],\n",
    "    query_filter=query_filter,\n",
    "    direction=LineageQueryDirectionEnum.ASCENDANTS,\n",
    "    include_edges=False,\n",
    ")\n",
    "\n",
    "# Parse through the query results to get the ARNs of the training jobs associated with this Endpoint\n",
    "trial_components = []\n",
    "for vertex in query_result.vertices:\n",
    "    trial_components.append(vertex.arn)\n",
    "\n",
    "pp.pprint(trial_components)"
   ]
  },
  {
   "cell_type": "markdown",
   "id": "9954748f",
   "metadata": {
    "papermill": {
     "duration": 0.069502,
     "end_time": "2022-04-18T00:28:11.531770",
     "exception": false,
     "start_time": "2022-04-18T00:28:11.462268",
     "status": "completed"
    },
    "tags": []
   },
   "source": [
    "#### Change the focal point of lineage\n",
    "\n",
    "The `LineageQuery` can be modified to have different `start_arns` which changes the focal point of lineage. In addition, the `LineageFilter` can take multiple sources and entities to expand the scope of the query. \n",
    "\n",
    "**Here we use the model as the lineage focal point and find the Endpoints and Datasets associated with it.**"
   ]
  },
  {
   "cell_type": "code",
   "execution_count": 20,
   "id": "0c28d8ea",
   "metadata": {
    "execution": {
     "iopub.execute_input": "2022-04-18T00:28:11.702516Z",
     "iopub.status.busy": "2022-04-18T00:28:11.701469Z",
     "iopub.status.idle": "2022-04-18T00:28:11.882451Z",
     "shell.execute_reply": "2022-04-18T00:28:11.883477Z"
    },
    "papermill": {
     "duration": 0.283796,
     "end_time": "2022-04-18T00:28:11.883638",
     "exception": false,
     "start_time": "2022-04-18T00:28:11.599842",
     "status": "completed"
    },
    "tags": []
   },
   "outputs": [],
   "source": [
    "# Get the ModelArtifact\n",
    "\n",
    "model_artifact_summary = list(Artifact.list(source_uri=model_package_arn))[0]\n",
    "model_artifact = ModelArtifact.load(artifact_arn=model_artifact_summary.artifact_arn)"
   ]
  },
  {
   "cell_type": "code",
   "execution_count": 21,
   "id": "ca86919e",
   "metadata": {
    "execution": {
     "iopub.execute_input": "2022-04-18T00:28:12.069067Z",
     "iopub.status.busy": "2022-04-18T00:28:12.068355Z",
     "iopub.status.idle": "2022-04-18T00:28:12.417332Z",
     "shell.execute_reply": "2022-04-18T00:28:12.417909Z"
    },
    "papermill": {
     "duration": 0.459339,
     "end_time": "2022-04-18T00:28:12.418092",
     "exception": false,
     "start_time": "2022-04-18T00:28:11.958753",
     "status": "completed"
    },
    "tags": []
   },
   "outputs": [
    {
     "name": "stdout",
     "output_type": "stream",
     "text": [
      "['s3://sagemaker-us-west-2-000000000000/experiments-demo/train.csv',\n",
      " 's3://sagemaker-us-west-2-000000000000/experiments-demo/validation.csv']\n"
     ]
    }
   ],
   "source": [
    "query_filter = LineageFilter(\n",
    "    entities=[LineageEntityEnum.ARTIFACT],\n",
    "    sources=[LineageSourceEnum.ENDPOINT, LineageSourceEnum.DATASET],\n",
    ")\n",
    "\n",
    "query_result = LineageQuery(sagemaker_session).query(\n",
    "    start_arns=[model_artifact.artifact_arn],  # Model is the starting artifact\n",
    "    query_filter=query_filter,\n",
    "    # Find all the entities that descend from the model, i.e. the endpoint\n",
    "    direction=LineageQueryDirectionEnum.DESCENDANTS,\n",
    "    include_edges=False,\n",
    ")\n",
    "\n",
    "associations = []\n",
    "for vertex in query_result.vertices:\n",
    "    associations.append(vertex.to_lineage_object().source.source_uri)\n",
    "\n",
    "query_result = LineageQuery(sagemaker_session).query(\n",
    "    start_arns=[model_artifact.artifact_arn],  # Model is the starting artifact\n",
    "    query_filter=query_filter,\n",
    "    # Find all the entities that ascend from the model, i.e. the datasets\n",
    "    direction=LineageQueryDirectionEnum.ASCENDANTS,\n",
    "    include_edges=False,\n",
    ")\n",
    "\n",
    "for vertex in query_result.vertices:\n",
    "    associations.append(vertex.to_lineage_object().source.source_uri)\n",
    "\n",
    "pp.pprint(associations)"
   ]
  },
  {
   "cell_type": "markdown",
   "id": "eaa41ff9",
   "metadata": {
    "papermill": {
     "duration": 0.118264,
     "end_time": "2022-04-18T00:28:12.611359",
     "exception": false,
     "start_time": "2022-04-18T00:28:12.493095",
     "status": "completed"
    },
    "tags": []
   },
   "source": [
    "#### Use LineageQueryDirectionEnum.BOTH\n",
    "\n",
    "When the direction is set to `BOTH`, when the query traverses the graph to find ascendant and descendant relationships, the traversal takes place not only from the starting node, but from each node that is visited. \n",
    "\n",
    "e.g. If the training job is run twice and both models generated by the training job are deployed to endpoints, this result of the query with direction set to `BOTH` shows both endpoints. This is because the same image is used for training and deploying the model. Since the image is common to the model (`start_arn`) and both the endpoints, it appears in the query result. "
   ]
  },
  {
   "cell_type": "code",
   "execution_count": 22,
   "id": "f4bee658",
   "metadata": {
    "execution": {
     "iopub.execute_input": "2022-04-18T00:28:12.850164Z",
     "iopub.status.busy": "2022-04-18T00:28:12.841574Z",
     "iopub.status.idle": "2022-04-18T00:28:13.059016Z",
     "shell.execute_reply": "2022-04-18T00:28:13.059534Z"
    },
    "papermill": {
     "duration": 0.366618,
     "end_time": "2022-04-18T00:28:13.059709",
     "exception": false,
     "start_time": "2022-04-18T00:28:12.693091",
     "status": "completed"
    },
    "tags": []
   },
   "outputs": [
    {
     "name": "stdout",
     "output_type": "stream",
     "text": [
      "['s3://sagemaker-us-west-2-000000000000/experiments-demo/train.csv',\n",
      " 's3://sagemaker-us-west-2-000000000000/experiments-demo/validation.csv']\n"
     ]
    }
   ],
   "source": [
    "query_filter = LineageFilter(\n",
    "    entities=[LineageEntityEnum.ARTIFACT],\n",
    "    sources=[LineageSourceEnum.ENDPOINT, LineageSourceEnum.DATASET],\n",
    ")\n",
    "\n",
    "query_result = LineageQuery(sagemaker_session).query(\n",
    "    start_arns=[model_artifact.artifact_arn],  # Model is the starting artifact\n",
    "    query_filter=query_filter,\n",
    "    # This specifies that the query should look for associations both ascending and descending for the start\n",
    "    direction=LineageQueryDirectionEnum.BOTH,\n",
    "    include_edges=False,\n",
    ")\n",
    "\n",
    "associations = []\n",
    "for vertex in query_result.vertices:\n",
    "    associations.append(vertex.to_lineage_object().source.source_uri)\n",
    "\n",
    "pp.pprint(associations)"
   ]
  },
  {
   "cell_type": "markdown",
   "id": "a69aff24",
   "metadata": {
    "papermill": {
     "duration": 0.102007,
     "end_time": "2022-04-18T00:28:13.229104",
     "exception": false,
     "start_time": "2022-04-18T00:28:13.127097",
     "status": "completed"
    },
    "tags": []
   },
   "source": [
    "### Directions in LineageQuery: Ascendants vs. Descendants\n",
    "\n",
    "To understand the direction in the Lineage Graph, take the following entity relationship graph - \n",
    "Dataset -> Training Job -> Model -> Endpoint\n",
    "\n",
    "The endpoint is a **descendant** of the model, and the model is a **descendant** of the dataset. Similarly, the model is an **ascendant** of the endpoint The `direction` parameter can be used to specify whether the query should return entities that are descendants or ascendants of the entity in start_arns. If `start_arns` contains a model and the direction is `DESCENDANTS`, the query returns the endpoint. If the direction is `ASCENDANTS`, the query returns the dataset.\""
   ]
  },
  {
   "cell_type": "code",
   "execution_count": 23,
   "id": "a273b49f",
   "metadata": {
    "execution": {
     "iopub.execute_input": "2022-04-18T00:28:13.397659Z",
     "iopub.status.busy": "2022-04-18T00:28:13.396588Z",
     "iopub.status.idle": "2022-04-18T00:28:13.755563Z",
     "shell.execute_reply": "2022-04-18T00:28:13.755089Z"
    },
    "papermill": {
     "duration": 0.436413,
     "end_time": "2022-04-18T00:28:13.755683",
     "exception": false,
     "start_time": "2022-04-18T00:28:13.319270",
     "status": "completed"
    },
    "tags": []
   },
   "outputs": [
    {
     "name": "stdout",
     "output_type": "stream",
     "text": [
      "Ascendant artifacts:\n",
      "['s3://sagemaker-us-west-2-000000000000/experiments-demo/train.csv',\n",
      " 's3://sagemaker-us-west-2-000000000000/experiments-demo/validation.csv',\n",
      " 's3://sagemaker-us-west-2-000000000000/multihop-example/xgb_model/sagemaker-xgboost-2022-04-18-00-21-56-371/output/model.tar.gz']\n",
      "Descendant artifacts:\n",
      "[]\n"
     ]
    }
   ],
   "source": [
    "# In this example, we'll look at the impact of specifying the direction as ASCENDANT or DESCENDANT in a `LineageQuery`.\n",
    "\n",
    "query_filter = LineageFilter(\n",
    "    entities=[LineageEntityEnum.ARTIFACT],\n",
    "    sources=[\n",
    "        LineageSourceEnum.ENDPOINT,\n",
    "        LineageSourceEnum.MODEL,\n",
    "        LineageSourceEnum.DATASET,\n",
    "        LineageSourceEnum.TRAINING_JOB,\n",
    "    ],\n",
    ")\n",
    "\n",
    "query_result = LineageQuery(sagemaker_session).query(\n",
    "    start_arns=[model_artifact.artifact_arn],\n",
    "    query_filter=query_filter,\n",
    "    direction=LineageQueryDirectionEnum.ASCENDANTS,\n",
    "    include_edges=False,\n",
    ")\n",
    "\n",
    "ascendant_artifacts = []\n",
    "\n",
    "# The lineage entity returned for the Training Job is a TrialComponent which can't be converted to a\n",
    "# lineage object using the method `to_lineage_object()` so we extract the TrialComponent ARN.\n",
    "for vertex in query_result.vertices:\n",
    "    try:\n",
    "        ascendant_artifacts.append(vertex.to_lineage_object().source.source_uri)\n",
    "    except:\n",
    "        ascendant_artifacts.append(vertex.arn)\n",
    "\n",
    "print(\"Ascendant artifacts:\")\n",
    "pp.pprint(ascendant_artifacts)\n",
    "\n",
    "query_result = LineageQuery(sagemaker_session).query(\n",
    "    start_arns=[model_artifact.artifact_arn],\n",
    "    query_filter=query_filter,\n",
    "    direction=LineageQueryDirectionEnum.DESCENDANTS,\n",
    "    include_edges=False,\n",
    ")\n",
    "\n",
    "descendant_artifacts = []\n",
    "for vertex in query_result.vertices:\n",
    "    try:\n",
    "        descendant_artifacts.append(vertex.to_lineage_object().source.source_uri)\n",
    "    except:\n",
    "        # Handling TrialComponents.\n",
    "        descendant_artifacts.append(vertex.arn)\n",
    "\n",
    "print(\"Descendant artifacts:\")\n",
    "pp.pprint(descendant_artifacts)"
   ]
  },
  {
   "cell_type": "markdown",
   "id": "f7ec9d14",
   "metadata": {
    "papermill": {
     "duration": 0.060729,
     "end_time": "2022-04-18T00:28:13.877321",
     "exception": false,
     "start_time": "2022-04-18T00:28:13.816592",
     "status": "completed"
    },
    "tags": []
   },
   "source": [
    "### SDK helper functions\n",
    "\n",
    "The classes `EndpointContext`, `ModelArtifact`, and `DatasetArtifact`have helper functions that are wrappers over the `LineageQuery` API to make \n",
    "certain lineage queries easier to leverage. "
   ]
  },
  {
   "cell_type": "code",
   "execution_count": 24,
   "id": "b5df166d",
   "metadata": {
    "execution": {
     "iopub.execute_input": "2022-04-18T00:28:14.011418Z",
     "iopub.status.busy": "2022-04-18T00:28:14.010699Z",
     "iopub.status.idle": "2022-04-18T00:28:14.541105Z",
     "shell.execute_reply": "2022-04-18T00:28:14.540616Z"
    },
    "papermill": {
     "duration": 0.601608,
     "end_time": "2022-04-18T00:28:14.541224",
     "exception": false,
     "start_time": "2022-04-18T00:28:13.939616",
     "status": "completed"
    },
    "tags": []
   },
   "outputs": [
    {
     "name": "stdout",
     "output_type": "stream",
     "text": [
      "Datasets :  ['s3://sagemaker-us-west-2-000000000000/experiments-demo/train.csv', 's3://sagemaker-us-west-2-000000000000/experiments-demo/validation.csv']\n",
      "Training Jobs :  ['arn:aws:sagemaker:us-west-2:000000000000:training-job/sagemaker-xgboost-2022-04-18-00-21-56-371']\n"
     ]
    }
   ],
   "source": [
    "# Find all the datasets associated with the endpoint\n",
    "\n",
    "datasets = []\n",
    "dataset_artifacts = endpoint_context.dataset_artifacts()\n",
    "for dataset in dataset_artifacts:\n",
    "    datasets.append(dataset.source.source_uri)\n",
    "print(\"Datasets : \", datasets)\n",
    "\n",
    "# Find the training jobs associated with the endpoint\n",
    "training_job_artifacts = endpoint_context.training_job_arns()\n",
    "training_jobs = []\n",
    "for training_job in training_job_artifacts:\n",
    "    training_jobs.append(training_job)\n",
    "print(\"Training Jobs : \", training_jobs)\n",
    "\n",
    "# Get the ARN for the pipeline execution associated with this endpoint (if any)\n",
    "pipeline_executions = endpoint_context.pipeline_execution_arn()\n",
    "if pipeline_executions:\n",
    "    for pipeline in pipelines_executions:\n",
    "        print(pipeline)"
   ]
  },
  {
   "cell_type": "code",
   "execution_count": 25,
   "id": "dfc055f5",
   "metadata": {
    "execution": {
     "iopub.execute_input": "2022-04-18T00:28:14.703807Z",
     "iopub.status.busy": "2022-04-18T00:28:14.703130Z",
     "iopub.status.idle": "2022-04-18T00:28:15.019639Z",
     "shell.execute_reply": "2022-04-18T00:28:15.020598Z"
    },
    "papermill": {
     "duration": 0.401729,
     "end_time": "2022-04-18T00:28:15.020756",
     "exception": false,
     "start_time": "2022-04-18T00:28:14.619027",
     "status": "completed"
    },
    "tags": []
   },
   "outputs": [
    {
     "name": "stdout",
     "output_type": "stream",
     "text": [
      "Datasets associated with this model : \n",
      "['s3://sagemaker-us-west-2-000000000000/experiments-demo/train.csv',\n",
      " 's3://sagemaker-us-west-2-000000000000/experiments-demo/validation.csv']\n",
      "Endpoints associated with this model : \n",
      "['arn:aws:sagemaker:us-west-2:000000000000:endpoint/lineage-test-endpoint-1650241311']\n"
     ]
    }
   ],
   "source": [
    "# Here we use the `ModelArtifact` class to find all the datasets and endpoints associated with the model\n",
    "\n",
    "dataset_artifacts = model_artifact.dataset_artifacts()\n",
    "endpoint_contexts = model_artifact.endpoint_contexts()\n",
    "\n",
    "datasets = [dataset.source.source_uri for dataset in dataset_artifacts]\n",
    "endpoints = [endpoint.source.source_uri for endpoint in endpoint_contexts]\n",
    "\n",
    "print(\"Datasets associated with this model : \")\n",
    "pp.pprint(datasets)\n",
    "\n",
    "print(\"Endpoints associated with this model : \")\n",
    "pp.pprint(endpoints)"
   ]
  },
  {
   "cell_type": "code",
   "execution_count": 26,
   "id": "1fd69a51",
   "metadata": {
    "execution": {
     "iopub.execute_input": "2022-04-18T00:28:15.326795Z",
     "iopub.status.busy": "2022-04-18T00:28:15.325455Z",
     "iopub.status.idle": "2022-04-18T00:28:15.939132Z",
     "shell.execute_reply": "2022-04-18T00:28:15.940082Z"
    },
    "papermill": {
     "duration": 0.803714,
     "end_time": "2022-04-18T00:28:15.940257",
     "exception": false,
     "start_time": "2022-04-18T00:28:15.136543",
     "status": "completed"
    },
    "tags": []
   },
   "outputs": [
    {
     "name": "stdout",
     "output_type": "stream",
     "text": [
      "Endpoints associated with the training dataset s3://sagemaker-us-west-2-000000000000/experiments-demo/train.csv\n",
      "['arn:aws:sagemaker:us-west-2:000000000000:endpoint/lineage-test-endpoint-1638836105',\n",
      " 'arn:aws:sagemaker:us-west-2:000000000000:endpoint/lineage-test-endpoint-1639181910',\n",
      " 'arn:aws:sagemaker:us-west-2:000000000000:endpoint/lineage-test-endpoint-1638576916',\n",
      " 'arn:aws:sagemaker:us-west-2:000000000000:endpoint/lineage-test-endpoint-1638749736',\n",
      " 'arn:aws:sagemaker:us-west-2:000000000000:endpoint/lineage-test-endpoint-1639008846',\n",
      " 'arn:aws:sagemaker:us-west-2:000000000000:endpoint/lineage-test-endpoint-1650241311']\n"
     ]
    }
   ],
   "source": [
    "# Here we use the `DatasetArtifact` class to find all the endpoints hosting models that were trained with a particular dataset\n",
    "# Find the artifact associated with the dataset\n",
    "\n",
    "dataset_artifact_arn = list(Artifact.list(source_uri=training_data))[0].artifact_arn\n",
    "dataset_artifact = DatasetArtifact.load(artifact_arn=dataset_artifact_arn)\n",
    "\n",
    "# Find the endpoints that used this training dataset\n",
    "endpoint_contexts = dataset_artifact.endpoint_contexts()\n",
    "endpoints = [endpoint.source.source_uri for endpoint in endpoint_contexts]\n",
    "\n",
    "print(\"Endpoints associated with the training dataset {}\".format(training_data))\n",
    "pp.pprint(endpoints)"
   ]
  },
  {
   "cell_type": "markdown",
   "id": "2f9fdd40",
   "metadata": {
    "papermill": {
     "duration": 0.243598,
     "end_time": "2022-04-18T00:28:16.363579",
     "exception": false,
     "start_time": "2022-04-18T00:28:16.119981",
     "status": "completed"
    },
    "tags": []
   },
   "source": [
    "### Lineage Graph Visualization\n",
    "\n",
    "A helper class `Visualizer()` is provided in `visualizer.py` to help plot the lineage graph. When the query response is rendered, a graph with the lineage relationships from the `StartArns` is displayed. From the `StartArns` the visualization shows the relationships with the other lineage entities returned in the `query_lineage` API call. "
   ]
  },
  {
   "cell_type": "code",
   "execution_count": 27,
   "id": "106d8d5a",
   "metadata": {
    "execution": {
     "iopub.execute_input": "2022-04-18T00:28:16.568500Z",
     "iopub.status.busy": "2022-04-18T00:28:16.567367Z",
     "iopub.status.idle": "2022-04-18T00:28:17.262765Z",
     "shell.execute_reply": "2022-04-18T00:28:17.263375Z"
    },
    "papermill": {
     "duration": 0.771066,
     "end_time": "2022-04-18T00:28:17.263588",
     "exception": false,
     "start_time": "2022-04-18T00:28:16.492522",
     "status": "completed"
    },
    "tags": []
   },
   "outputs": [],
   "source": [
    "# Graph APIs\n",
    "# Here we use the boto3 `query_lineage` API to generate the query response to plot.\n",
    "\n",
    "from visualizer import Visualizer\n",
    "\n",
    "query_response = sm_client.query_lineage(\n",
    "    StartArns=[endpoint_context.context_arn], Direction=\"Ascendants\", IncludeEdges=True\n",
    ")\n",
    "\n",
    "viz = Visualizer()\n",
    "viz.render(query_response, \"Endpoint\")"
   ]
  },
  {
   "cell_type": "code",
   "execution_count": 28,
   "id": "22436292",
   "metadata": {
    "execution": {
     "iopub.execute_input": "2022-04-18T00:28:17.409805Z",
     "iopub.status.busy": "2022-04-18T00:28:17.409172Z",
     "iopub.status.idle": "2022-04-18T00:28:17.553404Z",
     "shell.execute_reply": "2022-04-18T00:28:17.552973Z"
    },
    "papermill": {
     "duration": 0.218634,
     "end_time": "2022-04-18T00:28:17.553525",
     "exception": false,
     "start_time": "2022-04-18T00:28:17.334891",
     "status": "completed"
    },
    "tags": []
   },
   "outputs": [],
   "source": [
    "query_response = sm_client.query_lineage(\n",
    "    StartArns=[model_artifact.artifact_arn], Direction=\"Ascendants\", IncludeEdges=True\n",
    ")\n",
    "viz.render(query_response, \"Model\")"
   ]
  },
  {
   "cell_type": "markdown",
   "id": "b393afa3",
   "metadata": {
    "papermill": {
     "duration": 0.06462,
     "end_time": "2022-04-18T00:28:17.681467",
     "exception": false,
     "start_time": "2022-04-18T00:28:17.616847",
     "status": "completed"
    },
    "tags": []
   },
   "source": [
    "## Conclusion\n",
    "\n",
    "This notebook demostrated the capabilities of SageMaker Lineage that make it easy for users to keep track of their complex ML workflows. Users can construct their own lineage queries using the `LineageQuery` API and `LineageFilter` or they can use the functions provided on the `EndpointContext`, `ModelArtifact`, and `DatasetArtifact` classes. \n",
    "\n",
    "In addition, the responses from lineage queries can be plotting using the helper class `Visualizer()` to better understand the relationship between the lineage entities. \n",
    "\n",
    "When using SageMaker Pipelines as part of their ML workflows, users can find Pipeline execution ARNs using the lineage APIs described in this notebook.\n",
    "\n",
    "## Cleanup\n",
    "In this section we clean up the resources created in this notebook."
   ]
  },
  {
   "cell_type": "code",
   "execution_count": 29,
   "id": "8f43ef02",
   "metadata": {
    "execution": {
     "iopub.execute_input": "2022-04-18T00:28:17.821277Z",
     "iopub.status.busy": "2022-04-18T00:28:17.820433Z",
     "iopub.status.idle": "2022-04-18T00:28:18.071316Z",
     "shell.execute_reply": "2022-04-18T00:28:18.071797Z"
    },
    "papermill": {
     "duration": 0.325756,
     "end_time": "2022-04-18T00:28:18.071943",
     "exception": false,
     "start_time": "2022-04-18T00:28:17.746187",
     "status": "completed"
    },
    "tags": []
   },
   "outputs": [
    {
     "data": {
      "text/plain": [
       "{'ResponseMetadata': {'RequestId': '4a4ce803-ff77-4112-93e4-9d23826eba8d',\n",
       "  'HTTPStatusCode': 200,\n",
       "  'HTTPHeaders': {'x-amzn-requestid': '4a4ce803-ff77-4112-93e4-9d23826eba8d',\n",
       "   'content-type': 'application/x-amz-json-1.1',\n",
       "   'content-length': '0',\n",
       "   'date': 'Mon, 18 Apr 2022 00:28:17 GMT'},\n",
       "  'RetryAttempts': 0}}"
      ]
     },
     "execution_count": 29,
     "metadata": {},
     "output_type": "execute_result"
    }
   ],
   "source": [
    "# Delete endpoint\n",
    "\n",
    "sm_client.delete_endpoint(EndpointName=endpoint_name)\n",
    "\n",
    "# # Delete the model package\n",
    "sm_client.delete_model_package(ModelPackageName=model_package.model_package_arn)\n",
    "\n",
    "# Delete the model package group\n",
    "sm_client.delete_model_package_group(ModelPackageGroupName=model_package_group_name)"
   ]
  },
  {
   "cell_type": "code",
   "execution_count": 30,
   "id": "2e19fe85",
   "metadata": {
    "execution": {
     "iopub.execute_input": "2022-04-18T00:28:18.240842Z",
     "iopub.status.busy": "2022-04-18T00:28:18.240258Z",
     "iopub.status.idle": "2022-04-18T00:28:19.419313Z",
     "shell.execute_reply": "2022-04-18T00:28:19.414325Z"
    },
    "papermill": {
     "duration": 1.281177,
     "end_time": "2022-04-18T00:28:19.419484",
     "exception": false,
     "start_time": "2022-04-18T00:28:18.138307",
     "status": "completed"
    },
    "tags": []
   },
   "outputs": [
    {
     "name": "stdout",
     "output_type": "stream",
     "text": [
      "\n",
      "Experiment MultihopQueryExperiment-1650241311 deleted\n"
     ]
    }
   ],
   "source": [
    "# Delete the experiment and trial within it\n",
    "\n",
    "import time\n",
    "\n",
    "\n",
    "def delete_experiment(experiment):\n",
    "    for trial_summary in experiment.list_trials():\n",
    "        trial = Trial.load(trial_name=trial_summary.trial_name)\n",
    "        for trial_component_summary in trial.list_trial_components():\n",
    "            tc = TrialComponent.load(\n",
    "                trial_component_name=trial_component_summary.trial_component_name\n",
    "            )\n",
    "            trial.remove_trial_component(tc)\n",
    "            try:\n",
    "                # comment out to keep trial components\n",
    "                tc.delete()\n",
    "            except:\n",
    "                # tc is associated with another trial\n",
    "                continue\n",
    "            # to prevent throttling\n",
    "            time.sleep(0.5)\n",
    "        trial.delete()\n",
    "        experiment_name = experiment.experiment_name\n",
    "    experiment.delete()\n",
    "    print(f\"\\nExperiment {experiment_name} deleted\")\n",
    "\n",
    "\n",
    "# Delete the Experiment and Trials within it\n",
    "experiment = Experiment.load(experiment_name=exp.experiment_name)\n",
    "delete_experiment(experiment)"
   ]
  }
 ],
 "metadata": {
  "instance_type": "ml.t3.medium",
  "interpreter": {
   "hash": "ac2eaa0ea0ebeafcc7822e65e46aa9d4f966f30b695406963e145ea4a91cd4fc"
  },
  "kernelspec": {
   "display_name": "conda_amazonei_tensorflow_p36",
   "language": "python",
   "name": "conda_amazonei_tensorflow_p36"
  },
  "language_info": {
   "codemirror_mode": {
    "name": "ipython",
    "version": 3
   },
   "file_extension": ".py",
   "mimetype": "text/x-python",
   "name": "python",
   "nbconvert_exporter": "python",
   "pygments_lexer": "ipython3",
   "version": "3.6.13"
  },
  "papermill": {
   "default_parameters": {},
   "duration": 448.895438,
   "end_time": "2022-04-18T00:28:20.347889",
   "environment_variables": {},
   "exception": null,
   "input_path": "sagemaker-lineage-multihop-queries.ipynb",
   "output_path": "/opt/ml/processing/output/sagemaker-lineage-multihop-queries-2022-04-18-00-09-29.ipynb",
   "parameters": {
    "kms_key": "arn:aws:kms:us-west-2:000000000000:1234abcd-12ab-34cd-56ef-1234567890ab"
   },
   "start_time": "2022-04-18T00:20:51.452451",
   "version": "2.3.4"
  }
 },
 "nbformat": 4,
 "nbformat_minor": 5
}
