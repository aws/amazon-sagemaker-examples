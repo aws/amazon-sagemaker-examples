{
 "cells": [
  {
   "cell_type": "markdown",
   "id": "dominican-surge",
   "metadata": {},
   "source": [
    "# Training Job with Encrypted Static Assets\n",
    "\n",
    "In the [notebook about creating a training job in VPC mode](https://github.com/aws/amazon-sagemaker-examples/blob/master/sagemaker-fundamentals/create-training-job/create_training_job_vpc.ipynb) you learnt how to create a SageMaker training job with network isolation. Network isolation enables you to protect your data and model from being intercepted by cyber pirates. "
   ]
  },
  {
   "cell_type": "markdown",
   "id": "particular-infrared",
   "metadata": {},
   "source": [
    "Another way you can protect your static assets is to encrypt them before moving them from location A to location B. In this notebook, you will walk through a few techniques on that with the help of AWS Key Management Service [(AWS KMS)](https://docs.aws.amazon.com/kms/latest/developerguide/overview.html).\n",
    "\n",
    "The following materials are helpful to get you started if you are not familiar with cryptography:\n",
    "\n",
    "* [AWS KMS Crytography Details](https://docs.aws.amazon.com/kms/latest/cryptographic-details/intro.html)\n",
    "* [Wikipedia page](https://en.wikipedia.org/wiki/Encryption)\n",
    "* [Chapter 2 of GNU Privacy Handbook](https://www.gnupg.org/gph/en/manual.html)\n",
    "\n",
    "You are strongly encouraged to go through the [overview](https://docs.aws.amazon.com/kms/latest/developerguide/overview.html), [concepts](https://docs.aws.amazon.com/kms/latest/developerguide/concepts.html) and [get started](https://docs.aws.amazon.com/kms/latest/developerguide/getting-started.html) sections from the KMS documentations before going through this notebook. This will help you getting familiar with some terminologies we will be using later. \n",
    "\n",
    "Encryption is a wildly used technology, in addition to the above introductory material, you can find many free lectures online. "
   ]
  },
  {
   "cell_type": "markdown",
   "id": "attractive-accused",
   "metadata": {},
   "source": [
    "## Symmetric Ciphers\n",
    "We will focus on symmetric ciphers in this notebook. Quote from the GNU Privacy Handbook\n",
    "\n",
    "> A symmetric cipher is a cipher that uses the same key for both encryption and decryption. Two parties communicating using a symmetric cipher must agree on the key beforehand. Once they agree, the sender encrypts a message using the key, sends it to the receiver, and the receiver decrypts the message using the key. As an example, the German Enigma is a symmetric cipher, and daily keys were distributed as code books. Each day, a sending or receiving radio operator would consult his copy of the code book to find the day's key. Radio traffic for that day was then encrypted and decrypted using the day's key. Modern examples of symmetric ciphers include 3DES, Blowfish, and IDEA."
   ]
  },
  {
   "cell_type": "markdown",
   "id": "disabled-mills",
   "metadata": {},
   "source": [
    "## Environment to run this notebook\n",
    "You can run this notebook on your local machine or EC2 instance as an IAM user or you can run it on SageMaker Notebook Instance as a SageMaker service role. To avoid confusion, we will assume you are running it as an IAM user."
   ]
  },
  {
   "cell_type": "markdown",
   "id": "united-optimization",
   "metadata": {},
   "source": [
    "## Permissions\n",
    "You will need to attach the following permissions to the IAM user\n",
    "\n",
    "* IAMFullAccess \n",
    "* AWSKeyManagementServicePowerUser\n",
    "* AmazonEC2ContainerRegistryFullAccess"
   ]
  },
  {
   "cell_type": "markdown",
   "id": "thick-editing",
   "metadata": {},
   "source": [
    "## Outline of this notebook\n",
    "\n",
    "* Generate a symmetric KMS key\n",
    "* Allow your SageMaker service role to use the KMS key\n",
    "* Generate a data key from the KMS key\n",
    "* Encrypt some data with the data key and upload the encrypted data to S3\n",
    "* Create a SageMaker service role\n",
    "* Build a training image \n",
    "* Create a SageMaker training job using the encrypted data\n",
    "* Verify that data retrieved from S3 is encrypted and SageMaker needs your data key to decrypt\n",
    "\n",
    "The process of using a data key to encrypt your data instead of using the KMS key directly is called [**envelope encryption**](https://docs.aws.amazon.com/kms/latest/developerguide/concepts.html#enveloping).\n",
    "You can directly use the KMS key to encrypt your data, but by using a data key, you reduced the risk of [man-in-the-middle-attack](https://en.wikipedia.org/wiki/Man-in-the-middle_attack). \n",
    "We will discuss the use of data key in detail later. \n",
    "\n",
    "![envelope-encryption](assets/key-hierarchy-cmk.png)"
   ]
  },
  {
   "cell_type": "code",
   "execution_count": null,
   "id": "dimensional-addiction",
   "metadata": {},
   "outputs": [],
   "source": [
    "# set ups\n",
    "import boto3\n",
    "import datetime\n",
    "import json\n",
    "import pprint\n",
    "\n",
    "pp = pprint.PrettyPrinter(indent=1)\n",
    "kms = boto3.client('kms') "
   ]
  },
  {
   "cell_type": "code",
   "execution_count": null,
   "id": "suspended-treasurer",
   "metadata": {},
   "outputs": [],
   "source": [
    "# Some helper functions\n",
    "\n",
    "def current_time():\n",
    "    ct = datetime.datetime.now() \n",
    "    return str(ct.now()).replace(\":\", \"-\").replace(\" \", \"-\")[:19]\n",
    "\n",
    "def account_id():\n",
    "    return boto3.client('sts').get_caller_identity()['Account']"
   ]
  },
  {
   "cell_type": "markdown",
   "id": "timely-chicago",
   "metadata": {},
   "source": [
    "### Generate a symmetric KMS key\n",
    "\n",
    "You will use [kms:CreateKey](https://boto3.amazonaws.com/v1/documentation/api/latest/reference/services/kms.html#KMS.Client.create_key) API to generate a **symmetric key** used for **encryption** and **decryption**. You need to use a IAM policy to define who has access (and with what level of access) to the key. \n",
    "If you create the key from AWS console, then by following the default steps you will end up the following key policy:"
   ]
  },
  {
   "cell_type": "code",
   "execution_count": null,
   "id": "pretty-silver",
   "metadata": {},
   "outputs": [],
   "source": [
    "root_arn = f\"arn:aws:iam::{account_id()}:root\"\n",
    "user_arn = boto3.client('sts').get_caller_identity()['Arn']\n",
    "\n",
    "key_policy = {\n",
    "    \"Id\": \"key-consolepolicy-3\",\n",
    "    \"Version\": \"2012-10-17\",\n",
    "    \"Statement\": [\n",
    "        {\n",
    "            \"Sid\": \"Enable IAM User Permissions\",\n",
    "            \"Effect\": \"Allow\",\n",
    "            \"Principal\": {\n",
    "                \"AWS\": root_arn # enable root user to perform all actions\n",
    "            },\n",
    "            \"Action\": \"kms:*\",\n",
    "            \"Resource\": \"*\"\n",
    "        },\n",
    "        \n",
    "        {\n",
    "            \"Sid\": \"Allow access for Key Administrators\",\n",
    "            \"Effect\": \"Allow\",\n",
    "            \"Principal\": {\n",
    "                \"AWS\": [user_arn]   # give myself admin permission to this key\n",
    "                                     # you can add more admin users by appending this list\n",
    "            },\n",
    "            \"Action\": [\n",
    "                \"kms:Create*\",\n",
    "                \"kms:Describe*\",\n",
    "                \"kms:Enable*\",\n",
    "                \"kms:List*\",\n",
    "                \"kms:Put*\",\n",
    "                \"kms:Update*\",\n",
    "                \"kms:Revoke*\",\n",
    "                \"kms:Disable*\",\n",
    "                \"kms:Get*\",\n",
    "                \"kms:Delete*\",\n",
    "                \"kms:TagResource\",\n",
    "                \"kms:UntagResource\",\n",
    "                \"kms:ScheduleKeyDeletion\",\n",
    "                \"kms:CancelKeyDeletion\"\n",
    "            ],\n",
    "            \"Resource\": \"*\"\n",
    "        },\n",
    "        {\n",
    "            \"Sid\": \"Allow use of the key\",\n",
    "            \"Effect\": \"Allow\",\n",
    "            \"Principal\": {\n",
    "                \"AWS\": [user_arn]   # allow myself to use the key\n",
    "                                     # you can add more users / roles to this list\n",
    "                                     # for example you can add SageMaker service role \n",
    "                                     # here. But we will allow SageMaker service role\n",
    "                                     # to use this key via grant (see below)\n",
    "\n",
    "            },\n",
    "            \"Action\": [\n",
    "                \"kms:Encrypt\",\n",
    "                \"kms:Decrypt\",\n",
    "                \"kms:ReEncrypt*\",\n",
    "                \"kms:GenerateDataKey*\",\n",
    "                \"kms:DescribeKey\"\n",
    "            ],\n",
    "            \"Resource\": \"*\"\n",
    "        },\n",
    "        {\n",
    "            \"Sid\": \"Allow attachment of persistent resources\",\n",
    "            \"Effect\": \"Allow\",\n",
    "            \"Principal\": {\n",
    "                \"AWS\": [user_arn] # allow myself to create grant for this key\n",
    "                                   # see ref below to understand the diff \n",
    "                                   # between user and grant\n",
    "                                   # https://docs.aws.amazon.com/kms/latest/developerguide/concepts.html#grant\n",
    "            },\n",
    "            \"Action\": [\n",
    "                \"kms:CreateGrant\",\n",
    "                \"kms:ListGrants\",\n",
    "                \"kms:RevokeGrant\"\n",
    "            ],\n",
    "            \"Resource\": \"*\",\n",
    "            \"Condition\": {\n",
    "                \"Bool\": {\n",
    "                    \"kms:GrantIsForAWSResource\": \"true\"\n",
    "                }\n",
    "            }\n",
    "        }\n",
    "    ]\n",
    "}\n",
    "\n",
    "key_policy = json.dumps(key_policy)"
   ]
  },
  {
   "cell_type": "markdown",
   "id": "dried-viking",
   "metadata": {},
   "source": [
    "You can either create a new key or use an existing key. If you want to use an existing key, set `create_new_key` variable to `False` and replace `None` in line 23 by your key id. Note that in order to run this notebook, the key policy of your existing key should grant you AT LEAST the same level of access as the above key policy. "
   ]
  },
  {
   "cell_type": "code",
   "execution_count": null,
   "id": "considered-director",
   "metadata": {},
   "outputs": [],
   "source": [
    "# create a key with the above key policy\n",
    "\n",
    "create_new_key = False \n",
    "\n",
    "if create_new_key:\n",
    "    ck_res = kms.create_key(\n",
    "        Policy=key_policy,\n",
    "        Description=\"a symmetric key to demonstrate KMS\",\n",
    "        KeyUsage=\"ENCRYPT_DECRYPT\",                # use this key to encrypt and decrypt\n",
    "        Origin='AWS_KMS',                          # created via AWS KMS\n",
    "        CustomerMasterKeySpec='SYMMETRIC_DEFAULT'  # symmetric key\n",
    "    )\n",
    "\n",
    "\n",
    "    pp.pprint(ck_res)\n",
    "    kms_key = ck_res['KeyMetadata']['KeyId']\n",
    "    print(\"The id of the key: \")\n",
    "    print(kms_key)\n",
    "else:\n",
    "    print(\"Supply an existing KMS key by setting kms_key variable to your key id\")\n",
    "    \n",
    "    # replace None by your CMK key id\n",
    "    kms_key = None\n",
    "    \n",
    "if kms_key is None:\n",
    "    raise ValueError(\"Supply a valid KMS key id or create a new one\")"
   ]
  },
  {
   "cell_type": "code",
   "execution_count": null,
   "id": "guilty-recruitment",
   "metadata": {},
   "outputs": [],
   "source": [
    "kms_key = ck_res['KeyMetadata']['KeyId']\n",
    "print(\"The id of the key: \")\n",
    "print(kms_key)"
   ]
  },
  {
   "cell_type": "markdown",
   "id": "latest-richardson",
   "metadata": {},
   "source": [
    "You can use this KMS key to encrypt your data directly. It is not a good practice in production. But it is good to know what you can do."
   ]
  },
  {
   "cell_type": "code",
   "execution_count": null,
   "id": "allied-active",
   "metadata": {},
   "outputs": [],
   "source": [
    "my_secret_message = \"1729 is the smallest number expressible \\\n",
    "as the sum of two cubes in two different ways\".encode('utf-8')\n",
    "\n",
    "# 1729 =  1^3 + 12^3 = 9^3 + 10^3 (Srinivasa Ramanujan)\n",
    "\n",
    "# make the above secret a ciphertext\n",
    "enc_res = kms.encrypt(\n",
    "    KeyId=kms_key,\n",
    "    Plaintext=my_secret_message)\n",
    "\n",
    "pp.pprint(enc_res)"
   ]
  },
  {
   "cell_type": "code",
   "execution_count": null,
   "id": "affected-malpractice",
   "metadata": {},
   "outputs": [],
   "source": [
    "# decrypt your secret message\n",
    "dec_res = kms.decrypt(\n",
    "    KeyId=kms_key,\n",
    "    CiphertextBlob=enc_res['CiphertextBlob']\n",
    ")\n",
    "\n",
    "print(\"Decrpyted message:\")\n",
    "print(dec_res['Plaintext'].decode())"
   ]
  },
  {
   "cell_type": "markdown",
   "id": "technical-directory",
   "metadata": {},
   "source": [
    "One thing to notice is encryption and decryption should happen at **bytes** level. If you want to encrypt a python object (list, numpy array, pandas data frame, pytorch model or a string) then the first step is to serialize it into bytes. One easy way to do it is to use `pickle.dumps` method. "
   ]
  },
  {
   "cell_type": "markdown",
   "id": "physical-tracker",
   "metadata": {},
   "source": [
    "## Client-side encryption with data key\n",
    "Now let's pretend you are a data engineer and you need to move a chuck of data from location A to location B. Location A is the machine you are using now to run this notebook, location B is an S3 bucket that your data scientist buddy will be using later to create a training job. You want to ensure that while data is on its way from location A to location B, it is not intercepted and stolen by cyber-attacker in the middle. \n",
    "\n",
    "One solution is genereate a data key `DK` from the KMS key and use `DK` to encrypt your data at location A (client side) and save the encrypted to S3 bucket. \n",
    "\n",
    "You will get a different data key each time you request it from the KMS key and the plaintext data key is intended to be **short-lived** and you should only save the **encrypted** data key for later use. \n",
    "\n",
    "Use [kms:GenerateDataKey](https://boto3.amazonaws.com/v1/documentation/api/latest/reference/services/kms.html#KMS.Client.generate_data_key) to generate a data key. "
   ]
  },
  {
   "cell_type": "code",
   "execution_count": null,
   "id": "frozen-waters",
   "metadata": {},
   "outputs": [],
   "source": [
    "key_length = 32 # 32 bytes \n",
    "\n",
    "data_key_res = kms.generate_data_key(\n",
    "    KeyId=kms_key,\n",
    "    NumberOfBytes= key_length  # your data key is will be 32x8=256-bit long\n",
    "                       # takes 2^256 number of guesses to crack your data key\n",
    "    )\n",
    "\n",
    "pp.pprint(data_key_res)"
   ]
  },
  {
   "cell_type": "code",
   "execution_count": null,
   "id": "widespread-stocks",
   "metadata": {},
   "outputs": [],
   "source": [
    "plaintext, ciphertext = data_key_res['Plaintext'], data_key_res['CiphertextBlob']"
   ]
  },
  {
   "cell_type": "code",
   "execution_count": null,
   "id": "continental-track",
   "metadata": {},
   "outputs": [],
   "source": [
    "assert len(plaintext) == key_length"
   ]
  },
  {
   "cell_type": "markdown",
   "id": "changing-health",
   "metadata": {},
   "source": [
    "The ciphertext above is the encrypted data key. Of course it is encrypted by the KMS key. And the ciphtertext is what you should keep for long term. There is nothing preventing you from encrypting your plaintext data key with a different KMS key. You just need to remember which KMS you used to encrypt it. "
   ]
  },
  {
   "cell_type": "code",
   "execution_count": null,
   "id": "engaging-assault",
   "metadata": {},
   "outputs": [],
   "source": [
    "assert kms.decrypt(KeyId=kms_key, CiphertextBlob=ciphertext)['Plaintext'] == plaintext"
   ]
  },
  {
   "cell_type": "markdown",
   "id": "environmental-building",
   "metadata": {},
   "source": [
    "Note that the plaintext data key is a byte-like object. It is not a string and in fact it cannot be decoded to a python string."
   ]
  },
  {
   "cell_type": "code",
   "execution_count": null,
   "id": "conceptual-roulette",
   "metadata": {},
   "outputs": [],
   "source": [
    "try:\n",
    "    plaintext.decode('utf-8')\n",
    "except Exception as e:\n",
    "    print(e)"
   ]
  },
  {
   "cell_type": "markdown",
   "id": "practical-plymouth",
   "metadata": {},
   "source": [
    "There are multiple python libraries for cryptography. We will use [cryptography](https://pypi.org/project/cryptography/)"
   ]
  },
  {
   "cell_type": "code",
   "execution_count": null,
   "id": "stuck-guidance",
   "metadata": {},
   "outputs": [],
   "source": [
    "!pip install cryptography"
   ]
  },
  {
   "cell_type": "code",
   "execution_count": null,
   "id": "systematic-blink",
   "metadata": {},
   "outputs": [],
   "source": [
    "import base64\n",
    "from cryptography.fernet import Fernet\n",
    "\n",
    "def encrypt(data, plaintext_key):\n",
    "    \"\"\"Encrypt a chunk of bytes on client-side\n",
    "    data: a chunk of bytes\n",
    "    plaintext_key: plaintext data key\n",
    "    \"\"\"\n",
    "    ascii_str = base64.b64encode(plaintext_key)\n",
    "\n",
    "    f = Fernet(key=ascii_str) # Fernet key must be 32 url-safe base64-encoded bytes\n",
    "                              # That's why we generated a 32-byte long data key\n",
    "    return f.encrypt(data)\n",
    "\n",
    "def decrypt(data, ciphertext_key):\n",
    "    \"\"\"Decrypt a chunk of bytes on client-side\n",
    "    data: encypted binary data\n",
    "    ciphertext_key: ciphertext data key\n",
    "    \"\"\"\n",
    "    # decrypt the ciphertext data key\n",
    "    plaintext_key = kms.decrypt(\n",
    "        KeyId=kms_key, \n",
    "        CiphertextBlob=ciphertext_key)['Plaintext']\n",
    "    \n",
    "    # to Fernet-friendly key\n",
    "    ascii_str = base64.b64encode(plaintext_key)\n",
    "    \n",
    "    f = Fernet(key=ascii_str)\n",
    "    return f.decrypt(data)"
   ]
  },
  {
   "cell_type": "code",
   "execution_count": null,
   "id": "exclusive-policy",
   "metadata": {},
   "outputs": [],
   "source": [
    "import pickle\n",
    "\n",
    "# encrypt\n",
    "data =[i for i in range(1729)]\n",
    "encrypted_data = encrypt(\n",
    "    pickle.dumps(data), # python object -> bytes \n",
    "    plaintext\n",
    ")"
   ]
  },
  {
   "cell_type": "markdown",
   "id": "attached-necklace",
   "metadata": {},
   "source": [
    "Once you finished encryption, you should delete the plaintext data key as soon as possible. "
   ]
  },
  {
   "cell_type": "code",
   "execution_count": null,
   "id": "centered-merit",
   "metadata": {},
   "outputs": [],
   "source": [
    "del plaintext"
   ]
  },
  {
   "cell_type": "code",
   "execution_count": null,
   "id": "incident-warner",
   "metadata": {},
   "outputs": [],
   "source": [
    "# decrypt\n",
    "b = decrypt(encrypted_data, ciphertext)\n",
    "data_ = pickle.loads(b) # bytes -> python object\n",
    "\n",
    "for x, y in zip(data, data_):\n",
    "    assert x == y"
   ]
  },
  {
   "cell_type": "markdown",
   "id": "circular-article",
   "metadata": {},
   "source": [
    "## Save encrypted objects on S3 \n",
    "Now you understand how encryption at client-side works. It should be straightforward to you how to save encrypted data on an S3 bucket. "
   ]
  },
  {
   "cell_type": "code",
   "execution_count": null,
   "id": "damaged-utilization",
   "metadata": {},
   "outputs": [],
   "source": [
    "# create a bucket to be shared by SageMaker later\n",
    "\n",
    "def create_bucket():\n",
    "    \"\"\"Create an S3 bucket that is intended to be used for short term\"\"\"\n",
    "    bucket = f\"sagemaker-{current_time()}\"\n",
    "    \n",
    "    region_name = boto3.Session().region_name\n",
    "    create_bucket_config = {}\n",
    "    if region_name != 'us-east-1': \n",
    "        # us-east-1 is the default region for S3 bucket\n",
    "        # specify LocationConstraint if your VPC is not\n",
    "        # in us-east-1\n",
    "        create_bucket_config['LocationConstraint'] = region_name\n",
    "    \n",
    "    boto3.client('s3').create_bucket(\n",
    "        Bucket=bucket,\n",
    "        CreateBucketConfiguration=create_bucket_config\n",
    "    )\n",
    "    return bucket\n",
    "\n",
    "bucket = create_bucket()"
   ]
  },
  {
   "cell_type": "code",
   "execution_count": null,
   "id": "canadian-metro",
   "metadata": {},
   "outputs": [],
   "source": [
    "# put your encrypted data on the S3 bucket\n",
    "\n",
    "s3 = boto3.client('s3')\n",
    "input_prefix = \"data\" # will be used later as S3Prefix when calling CreateTrainingJob\n",
    "\n",
    "put_obj_res = s3.put_object(\n",
    "    Bucket=bucket, \n",
    "    Key=input_prefix +'/'+'a_chunk_of_secrets',\n",
    "    Body=encrypted_data)\n",
    "\n",
    "pp.pprint(put_obj_res)"
   ]
  },
  {
   "cell_type": "markdown",
   "id": "coordinated-olive",
   "metadata": {},
   "source": [
    "## Create a SageMaker training job with encrypted data\n",
    "Now you understand how to move your data from location $A$ to location $B$ encrypted. Let's see how this workflow can be merged into a SageMaker training job. What you want to achieve is, the static assets (model and data) need to be encrypted before you traffic them in the Internet. \n",
    "\n",
    "Let $M$ denote the customer KMS key hosted on KMS, $D$ the plaintext data key and $C$ the ciphertext data key. \n",
    "\n",
    "Suppose your training data is in an S3 bucket encrypted by the data key $D$. In order to use the training data, the SageMaker training job needs to be able to decrypt it. Of course you **would not** want to move $D$ (plaintext) around in the Internet and hand it to a SageMaker training job. Instead you will hand the encrypted data key (ciphertext) $C$ to the SageMaker training job. \n",
    "\n",
    "The SageMaker training job will do the following things with $C$\n",
    "- Decrypt it to plaintext using the KMS key $M$ and get $D$\n",
    "- Download the encrypted data from the S3 bucket and decrypt the data with $D$\n",
    "- Train the model and encrypt the model with $D$ \n",
    "- Send the encrypted model to an S3 bucket\n",
    "\n",
    "Of course, you could use a different data key to encrypt the model."
   ]
  },
  {
   "cell_type": "markdown",
   "id": "actual-blood",
   "metadata": {},
   "source": [
    "### How SageMaker uses your KMS key $M$\n",
    "\n",
    "Remember a managed service like SageMaker *assumes* an IAM role (service role) in your account and it procures the resources in your AWS account based on the permission of the service role. \n",
    "\n",
    "When you created $M$, key policy said that the IAM user (you) and the root user of your account are the only entities entitled to use $M$. So does SageMaker use $M$ then? \n",
    "\n",
    "There are two ways to achieve this:\n",
    "Suppose your SageMaker service role is called `example-role`.\n",
    "\n",
    "1. Update the key policy to allow `example-role` to use $M$\n",
    "2. Allow `example-role` to use $M$ via a **grant**\n",
    "\n",
    "Quote from the [KMS docs](https://docs.aws.amazon.com/kms/latest/developerguide/concepts.html#grant)\n",
    "\n",
    ">A grant is a policy instrument that allows AWS principals to use AWS KMS key in cryptographic operations. It also can let them view a CMK (DescribeKey) and create and manage grants. When authorizing access to a CMK, grants are considered along with key policies and IAM policies. Grants are often used for temporary permissions because you can create one, use its permissions, and delete it without changing your key policies or IAM policies. Because grants can be very specific, and are easy to create and revoke, they are often used to provide temporary permissions or more granular permissions.\n",
    "\n",
    "We will the grant approach this tutorial as it involves less activities on your key policy. In a prodcution environment, you should think of an activity on your key policy as *a big deal*. "
   ]
  },
  {
   "cell_type": "markdown",
   "id": "lasting-siemens",
   "metadata": {},
   "source": [
    "First, get some helper functions for creating a SageMaker service role. "
   ]
  },
  {
   "cell_type": "code",
   "execution_count": null,
   "id": "attractive-moderator",
   "metadata": {},
   "outputs": [],
   "source": [
    "%%bash\n",
    "file=$(ls . | grep iam_helpers.py)\n",
    "\n",
    "if [ -f \"$file\" ]\n",
    "then\n",
    "    rm $file\n",
    "fi\n",
    "\n",
    "wget https://raw.githubusercontent.com/aws/amazon-sagemaker-examples/master/sagemaker-fundamentals/execution-role/iam_helpers.py"
   ]
  },
  {
   "cell_type": "code",
   "execution_count": null,
   "id": "interim-peoples",
   "metadata": {},
   "outputs": [],
   "source": [
    "# set up service role for SageMaker\n",
    "from iam_helpers import create_execution_role\n",
    "\n",
    "iam = boto3.client('iam')\n",
    "\n",
    "role_name = 'example-role'\n",
    "role_arn = create_execution_role(role_name=role_name)['Role']['Arn']\n",
    "\n",
    "iam.attach_role_policy(\n",
    "    RoleName=role_name,\n",
    "    PolicyArn='arn:aws:iam::aws:policy/AmazonSageMakerFullAccess'\n",
    ")"
   ]
  },
  {
   "cell_type": "markdown",
   "id": "classified-panama",
   "metadata": {},
   "source": [
    "Now, you will verify that `example-role` cannot use your master key $M$ at this point. The cell below is expected to raise an exception. "
   ]
  },
  {
   "cell_type": "code",
   "execution_count": null,
   "id": "searching-dispatch",
   "metadata": {},
   "outputs": [],
   "source": [
    "# create a boto3 session with example-role\n",
    "import time\n",
    "\n",
    "def create_session(role_arn):\n",
    "    \"\"\"Create a boto3 session with an IAM role\"\"\"\n",
    "    now = str(time.time()).split('.')[0]\n",
    "    obj = boto3.client('sts').assume_role(\n",
    "        RoleArn=role_arn,\n",
    "        RoleSessionName=now\n",
    "    )\n",
    "\n",
    "    cred=obj['Credentials']\n",
    "    sess = boto3.session.Session(\n",
    "        aws_access_key_id=cred['AccessKeyId'],\n",
    "        aws_secret_access_key=cred['SecretAccessKey'],\n",
    "        aws_session_token=cred['SessionToken']\n",
    "        )\n",
    "    return sess\n",
    "\n",
    "sess = create_session(role_arn)\n",
    "\n",
    "try:\n",
    "    sess.client('kms').encrypt(\n",
    "        KeyId=kms_key,\n",
    "        Plaintext='it will not go through'.encode('utf-8')\n",
    "    )\n",
    "except Exception as e:\n",
    "    print(e)"
   ]
  },
  {
   "cell_type": "code",
   "execution_count": null,
   "id": "healthy-garlic",
   "metadata": {},
   "outputs": [],
   "source": [
    "del sess"
   ]
  },
  {
   "cell_type": "code",
   "execution_count": null,
   "id": "atlantic-hello",
   "metadata": {},
   "outputs": [],
   "source": [
    "grant_res = kms.create_grant(\n",
    "    KeyId=kms_key,\n",
    "    GranteePrincipal=role_arn, \n",
    "    Operations=['Decrypt', 'Encrypt'] # allow example-role to use M to encrypt and decrypt\n",
    ")\n",
    "\n",
    "pp.pprint(grant_res)"
   ]
  },
  {
   "cell_type": "code",
   "execution_count": null,
   "id": "heated-title",
   "metadata": {},
   "outputs": [],
   "source": [
    "# Verify example-role has can use M\n",
    "sess = create_session(role_arn)\n",
    "enc_res = sess.client('kms').encrypt(\n",
    "        KeyId=kms_key,\n",
    "        Plaintext='it will go through this time'.encode('utf-8')\n",
    "    )\n",
    "\n",
    "pp.pprint(enc_res)"
   ]
  },
  {
   "cell_type": "code",
   "execution_count": null,
   "id": "loaded-tobago",
   "metadata": {},
   "outputs": [],
   "source": [
    "del sess"
   ]
  },
  {
   "cell_type": "code",
   "execution_count": null,
   "id": "closed-juice",
   "metadata": {},
   "outputs": [],
   "source": [
    "# put C to the bucket\n",
    "s3.put_object(\n",
    "    Bucket=bucket,\n",
    "    Key='dont_look',\n",
    "    Body=ciphertext\n",
    ")"
   ]
  },
  {
   "cell_type": "markdown",
   "id": "parental-necessity",
   "metadata": {},
   "source": [
    "### Build a training container\n",
    "You will build a training image here like in [the notebook on basics of `CreateTrainingJob`](https://github.com/hsl89/amazon-sagemaker-examples/blob/sagemaker-fundamentals/sagemaker-fundamentals/create-training-job/create_training_job.ipynb)"
   ]
  },
  {
   "cell_type": "code",
   "execution_count": null,
   "id": "derived-cache",
   "metadata": {},
   "outputs": [],
   "source": [
    "# View the Dockerfile\n",
    "!cat container_kms/Dockerfile"
   ]
  },
  {
   "cell_type": "code",
   "execution_count": null,
   "id": "wrapped-republic",
   "metadata": {},
   "outputs": [],
   "source": [
    "# View the entrypoint script\n",
    "!pygmentize container_kms/train.py"
   ]
  },
  {
   "cell_type": "markdown",
   "id": "corrected-surfing",
   "metadata": {},
   "source": [
    "You will need to build your AWS credentials into the container, because you will need to decrypt your ciphertext data key within the container."
   ]
  },
  {
   "cell_type": "code",
   "execution_count": null,
   "id": "adjustable-consideration",
   "metadata": {},
   "outputs": [],
   "source": [
    "cred = boto3.Session().get_credentials()\n",
    "access_key, secret_key = cred.access_key, cred.secret_key\n",
    "region_name = boto3.Session().region_name"
   ]
  },
  {
   "cell_type": "code",
   "execution_count": null,
   "id": "lucky-syria",
   "metadata": {},
   "outputs": [],
   "source": [
    "%%bash -s \"$access_key\" \"$secret_key\" \"$region_name\"\n",
    "\n",
    "# build the image\n",
    "cd container_kms/\n",
    "\n",
    "# tag it as example-image:latest\n",
    "docker build -t example-image:latest . --build-arg ACCESS_KEY=$1 \\\n",
    "    --build-arg SECRET_KEY=$2 --build-arg REGION_NAME=$3"
   ]
  },
  {
   "cell_type": "markdown",
   "id": "controlled-companion",
   "metadata": {},
   "source": [
    "## Test your container locally\n",
    "You programmed the entrypoint `container_kms/train.py` so that it gets to know the id of the master key as well as the S3 object key for the data key ciphertext via hyperparameters in `/opt/ml/input/config/hyperparameters.json`. That means you will need to [inject those hyperparamters to the container](https://github.com/aws/amazon-sagemaker-examples/blob/master/sagemaker-fundamentals/create-training-job/create_training_job_hyperparameter_injection.ipynb)\n",
    "\n",
    "You can checkout the [notebook on basics of create a training job](https://github.com/aws/amazon-sagemaker-examples/blob/master/sagemaker-fundamentals/create-training-job/create_training_job.ipynb)(section Test your container) for more details. \n",
    "\n",
    "To recap, you will mount `container_kms/local_test/ml` (OS) to `/opt/ml`(container) as a docker volume and exchange training information with the container there. "
   ]
  },
  {
   "cell_type": "markdown",
   "id": "material-dryer",
   "metadata": {},
   "source": [
    "Look at what hyperparameters we used in `container_kms/train.py`. The hyperparameters are:"
   ]
  },
  {
   "cell_type": "code",
   "execution_count": null,
   "id": "massive-quilt",
   "metadata": {},
   "outputs": [],
   "source": [
    "hyperparameters = {\n",
    "    \"ciphertext_s3_key\": \"dont_look\",\n",
    "    \"kms_key_id\": kms_key,\n",
    "    \"train_channel\": \"train\",\n",
    "    \"train_file\": \"a_chunk_of_secrets\",\n",
    "    \"key_bucket\": bucket\n",
    "}\n",
    "\n",
    "pp.pprint(hyperparameters)"
   ]
  },
  {
   "cell_type": "markdown",
   "id": "bibliographic-stick",
   "metadata": {},
   "source": [
    "The hyperparameters are made available to the training container at `/opt/ml/input/config/hyperparameter.json`, so you will write the hyperparameters to `container_kms/local_test/ml/input/config/hyperparameters.json` for local testing."
   ]
  },
  {
   "cell_type": "code",
   "execution_count": null,
   "id": "photographic-fleet",
   "metadata": {},
   "outputs": [],
   "source": [
    "import json\n",
    "\n",
    "with open(\"container_kms/local_test/ml/input/config/hyperparameters.json\", \"w\") as f:\n",
    "    json.dump(hyperparameters, f)"
   ]
  },
  {
   "cell_type": "code",
   "execution_count": null,
   "id": "coated-audio",
   "metadata": {},
   "outputs": [],
   "source": [
    "!cat container_kms/local_test/ml/input/config/hyperparameters.json"
   ]
  },
  {
   "cell_type": "markdown",
   "id": "express-costs",
   "metadata": {},
   "source": [
    "Also, you need to have `container_kms/local_test/ml/input/train/a_chunk_of_secrets` available"
   ]
  },
  {
   "cell_type": "code",
   "execution_count": null,
   "id": "fewer-guinea",
   "metadata": {},
   "outputs": [],
   "source": [
    "import os\n",
    "with open(\n",
    "    os.path.join('container_kms', 'local_test', 'ml', 'input', 'data', 'train', 'a_chunk_of_secrets'), 'wb') as f:\n",
    "    f.write(encrypted_data)"
   ]
  },
  {
   "cell_type": "code",
   "execution_count": null,
   "id": "revised-gentleman",
   "metadata": {},
   "outputs": [],
   "source": [
    "!ls -R container_kms/local_test/ml"
   ]
  },
  {
   "cell_type": "code",
   "execution_count": null,
   "id": "minor-surge",
   "metadata": {},
   "outputs": [],
   "source": [
    "!python container_kms/local_test/test_container.py"
   ]
  },
  {
   "cell_type": "code",
   "execution_count": null,
   "id": "sunrise-domestic",
   "metadata": {},
   "outputs": [],
   "source": [
    "# create a repo in ECR called example-image\n",
    "ecr = boto3.client('ecr')\n",
    "\n",
    "try:\n",
    "    # The repository might already exist\n",
    "    # in your ECR\n",
    "    cr_res = ecr.create_repository(\n",
    "        repositoryName='example-image')\n",
    "    pp.pprint(cr_res)\n",
    "except Exception as e:\n",
    "    print(e)"
   ]
  },
  {
   "cell_type": "code",
   "execution_count": null,
   "id": "played-brain",
   "metadata": {},
   "outputs": [],
   "source": [
    "%%bash\n",
    "account=$(aws sts get-caller-identity --query Account | sed -e 's/^\"//' -e 's/\"$//')\n",
    "region=$(aws configure get region)\n",
    "ecr_account=${account}.dkr.ecr.${region}.amazonaws.com\n",
    "\n",
    "# Give docker your ECR login password\n",
    "aws ecr get-login-password --region $region | docker login --username AWS --password-stdin $ecr_account\n",
    "\n",
    "# Fullname of the repo\n",
    "fullname=$ecr_account/example-image:latest\n",
    "\n",
    "#echo $fullname\n",
    "# Tag the image with the fullname\n",
    "docker tag example-image:latest $fullname\n",
    "\n",
    "# Push to ECR\n",
    "docker push $fullname"
   ]
  },
  {
   "cell_type": "markdown",
   "id": "organic-bulletin",
   "metadata": {},
   "source": [
    "Now you have all the ingredients for a SageMaker training job."
   ]
  },
  {
   "cell_type": "code",
   "execution_count": null,
   "id": "embedded-inside",
   "metadata": {},
   "outputs": [],
   "source": [
    "# configure a training job\n",
    "\n",
    "sm_cli = boto3.client('sagemaker')\n",
    "\n",
    "# input\n",
    "data_path = \"s3://\" + bucket + '/' + input_prefix\n",
    "\n",
    "# location that SageMaker saves the model artifacts\n",
    "output_prefix = 'output'\n",
    "output_path = \"s3://\" + bucket + '/' + output_prefix\n",
    "\n",
    "# ECR URI of your image\n",
    "region = boto3.Session().region_name\n",
    "account = account_id()\n",
    "image_uri = \"{}.dkr.ecr.{}.amazonaws.com/example-image:latest\".format(account, region)\n",
    "\n",
    "algorithm_specification = {\n",
    "    'TrainingImage': image_uri,\n",
    "    'TrainingInputMode': 'File',\n",
    "}\n",
    "\n",
    "\n",
    "input_data_config = [\n",
    "    {\n",
    "        'ChannelName': 'train',\n",
    "            'DataSource':{\n",
    "                'S3DataSource':{\n",
    "                    'S3DataType': 'S3Prefix',\n",
    "                    'S3Uri': data_path,\n",
    "                    'S3DataDistributionType': 'FullyReplicated',\n",
    "                }\n",
    "        }\n",
    "        \n",
    "    }\n",
    "]\n",
    "\n",
    "\n",
    "output_data_config = {\n",
    "    'S3OutputPath': output_path\n",
    "}\n",
    "\n",
    "resource_config = {\n",
    "    'InstanceType': 'ml.m5.large',\n",
    "    'InstanceCount':1,\n",
    "    'VolumeSizeInGB':10\n",
    "}\n",
    "\n",
    "stopping_condition={\n",
    "    'MaxRuntimeInSeconds':120,\n",
    "}\n",
    "\n",
    "\n",
    "enable_network_isolation=False"
   ]
  },
  {
   "cell_type": "code",
   "execution_count": null,
   "id": "adjacent-thompson",
   "metadata": {},
   "outputs": [],
   "source": [
    "# some helper functions to monitor the training job\n",
    "\n",
    "import time\n",
    "\n",
    "def monitor_training_job_status(training_job_name, log_freq=30):\n",
    "    \"\"\"Print out training job status every $log_freq seconds\"\"\"\n",
    "    stopped = False\n",
    "    while not stopped:\n",
    "        tj_state = sm_cli.describe_training_job(\n",
    "            TrainingJobName=training_job_name)\n",
    "        if tj_state['TrainingJobStatus'] in ['Completed', 'Stopped', 'Failed']:\n",
    "            stopped=True\n",
    "        else:\n",
    "            print(\"Training in progress\")\n",
    "            time.sleep(log_freq)\n",
    "\n",
    "    if tj_state['TrainingJobStatus'] == 'Failed':\n",
    "        print(\"Training job failed \")\n",
    "        print(\"Failed Reason: {}\".format(tj_state['FailureReason']))\n",
    "    else:\n",
    "        print(\"Training job completed\")\n",
    "    return\n",
    "\n",
    "\n",
    "def print_logs(training_job_name):\n",
    "    \"\"\"Print out stdout in the container from CloudWatch\"\"\"\n",
    "    logs = boto3.client('logs')\n",
    "\n",
    "    log_res= logs.describe_log_streams(\n",
    "        logGroupName='/aws/sagemaker/TrainingJobs',\n",
    "        logStreamNamePrefix=training_job_name)\n",
    "\n",
    "    for log_stream in log_res['logStreams']:\n",
    "        # get one log event\n",
    "        log_event = logs.get_log_events(\n",
    "            logGroupName='/aws/sagemaker/TrainingJobs',\n",
    "            logStreamName=log_stream['logStreamName'])\n",
    "\n",
    "        # print out messages from the log event\n",
    "        for ev in log_event['events']:\n",
    "            for k, v in ev.items():\n",
    "                if k == 'message':\n",
    "                    print(v)\n",
    "                    \n",
    "    return"
   ]
  },
  {
   "cell_type": "code",
   "execution_count": null,
   "id": "valid-weather",
   "metadata": {},
   "outputs": [],
   "source": [
    "# name training job\n",
    "training_job_name = 'example-training-job-{}'.format(current_time())\n",
    "\n",
    "ct_res = sm_cli.create_training_job(\n",
    "    TrainingJobName=training_job_name,\n",
    "    AlgorithmSpecification=algorithm_specification,\n",
    "    RoleArn=role_arn,\n",
    "    HyperParameters=hyperparameters, # use the same hyperparameters for local testing\n",
    "    InputDataConfig=input_data_config,\n",
    "    OutputDataConfig=output_data_config,\n",
    "    ResourceConfig=resource_config,\n",
    "    StoppingCondition=stopping_condition,\n",
    "    EnableNetworkIsolation=enable_network_isolation,\n",
    "    EnableManagedSpotTraining=False,\n",
    ")"
   ]
  },
  {
   "cell_type": "code",
   "execution_count": null,
   "id": "gorgeous-founder",
   "metadata": {},
   "outputs": [],
   "source": [
    "monitor_training_job_status(training_job_name)"
   ]
  },
  {
   "cell_type": "code",
   "execution_count": null,
   "id": "comic-oregon",
   "metadata": {},
   "outputs": [],
   "source": [
    "print_logs(training_job_name)"
   ]
  },
  {
   "cell_type": "markdown",
   "id": "blond-cylinder",
   "metadata": {},
   "source": [
    "## Review && Discussion\n",
    "\n",
    "In this notebook, you went through a typical workflow for creating a SageMaker training job with client-side encryption. You have\n",
    "* Generated a data key from a KMS key\n",
    "* Used the data key to encrypt your dataset before putting it to a SageMaker-accessible S3 bucket\n",
    "* Created a SageMaker training job and passed the encrypted data key to the training job\n",
    "* Decrypted the data key within the training container and used the decrypted data key to decrypted training data from the S3 bucket\n",
    "* Encrypted your trained model at the end of the training job\n",
    "\n",
    "\n",
    "You might have a few questions lingering at this point:\n",
    "\n",
    "* Is pickle my best option to serialize and deserialize python objects?\n",
    "    * A: Pickle might not be your best option in your production env (thanks to @seebees). Checkout the following content:\n",
    "        * https://nedbatchelder.com/blog/202006/pickles_nine_flaws.html\n",
    "        * https://lwn.net/Articles/595352/\n",
    "        * https://intoli.com/blog/dangerous-pickles/\n",
    "  \n",
    "* Client-side encryption seems complicated, can I have a push-button solution?\n",
    "    * A: There are many technical details to take care of when doing client-side encryption. The purpose of this tutorial is to show you the basic concepts involved in client-side encryption. [AWS Encryption SDK](https://docs.aws.amazon.com/encryption-sdk/latest/developer-guide/introduction.html) is a library for client-side encryption and it can take care much of nuts and bolts for you. You are highly encouraged to explore it. \n",
    "\n",
    "* I do not like to build my AWS credentials into an image.\n",
    "    * A: A much better way to access your credentials when running a container service like SageMaker training job is to use [`ContainerProvider`](https://github.com/boto/botocore/blob/develop/botocore/credentials.py#L1819). This class can be used for a wider range of problems, so we will discuss it in an standalone notebook. "
   ]
  },
  {
   "cell_type": "markdown",
   "id": "structural-mountain",
   "metadata": {},
   "source": [
    "## Clean up\n",
    "You cannot delete the KMS key with one stroke. In this tutorial we created key for sake of running this tutorial, but in a production environment, deleting a key is a BIG deal, because once you deleled the KMS key, all data encryted under that key becomes unavailable to you. That's why you need to exercise extreme caution when deleting a key. Checkout the [section on deleting a KMS key](https://docs.aws.amazon.com/kms/latest/developerguide/deleting-keys.html) for more detail. \n",
    "\n",
    "You can schedule a key deletion in $X$ days by calling [kms:ScheduleKeyDeletion](https://boto3.amazonaws.com/v1/documentation/api/latest/reference/services/kms.html#KMS.Client.schedule_key_deletion).\n",
    "Once this API is called, you key status will be **Pending Deletion**. This is to remind you that you need to sort out all your data encrypted under this key in $X$ days and encrypt them using a different key. \n",
    "\n",
    "During those $X$ days, if you changed your mind and decided not to delete the key, you can call [kms:CancelKeyDeletion](https://boto3.amazonaws.com/v1/documentation/api/latest/reference/services/kms.html#KMS.Client.cancel_key_deletion) API. "
   ]
  },
  {
   "cell_type": "code",
   "execution_count": null,
   "id": "brazilian-celebration",
   "metadata": {},
   "outputs": [],
   "source": [
    "def schedule_key_deletion(key_id, waiting_period):\n",
    "    \"\"\"Delete a key in $waiting_period days\n",
    "    Args:\n",
    "        key_id: id of the key to be deleted\n",
    "        waiting_period: number of days to wait before key deletion\n",
    "    \"\"\"\n",
    "    dk_res = kms.schedule_key_deletion(\n",
    "        KeyId=key_id,\n",
    "        PendingWindowInDays=waiting_period\n",
    "    )\n",
    "    \n",
    "    pp.pprint(dk_res)\n",
    "    return\n",
    "\n",
    "# call schedule_key_deletion if you want to delete the key\n",
    "# schedule_key_deletion(key_id=kms_key, waiting_period=7)"
   ]
  },
  {
   "cell_type": "code",
   "execution_count": null,
   "id": "related-pleasure",
   "metadata": {},
   "outputs": [],
   "source": [
    "def delete_force(bucket_name):\n",
    "    \"\"\"Helper function to delete a bucket\"\"\"\n",
    "    objs = s3.list_objects_v2(Bucket=bucket_name)['Contents']\n",
    "    for obj in objs:\n",
    "        s3.delete_object(\n",
    "            Bucket=bucket_name,\n",
    "            Key=obj['Key'])\n",
    "    \n",
    "    return s3.delete_bucket(Bucket=bucket_name)\n",
    "\n",
    "\n",
    "def delete_ecr_repo(repo_name):\n",
    "    \"\"\"Helper function to delete an ECR repo\"\"\"\n",
    "    ecr.delete_repository(\n",
    "        repositoryName=repo_name,\n",
    "        force=True\n",
    "    )\n",
    "    return"
   ]
  }
 ],
 "metadata": {
  "kernelspec": {
   "display_name": "Python 3",
   "language": "python",
   "name": "python3"
  },
  "language_info": {
   "codemirror_mode": {
    "name": "ipython",
    "version": 3
   },
   "file_extension": ".py",
   "mimetype": "text/x-python",
   "name": "python",
   "nbconvert_exporter": "python",
   "pygments_lexer": "ipython3",
   "version": "3.6.10"
  }
 },
 "nbformat": 4,
 "nbformat_minor": 5
}
