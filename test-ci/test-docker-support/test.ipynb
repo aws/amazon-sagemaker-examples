{
 "cells": [
  {
   "cell_type": "code",
   "execution_count": 1,
   "metadata": {},
   "outputs": [
    {
     "name": "stdout",
     "output_type": "stream",
     "text": [
      "Sending build context to Docker daemon  5.632kB\n",
      "Step 1/1 : FROM hello-world:latest\n",
      "latest: Pulling from library/hello-world\n",
      "b8dfde127a29: Pulling fs layer\n",
      "b8dfde127a29: Download complete\n",
      "b8dfde127a29: Pull complete\n",
      "Digest: sha256:308866a43596e83578c7dfa15e27a73011bdd402185a84c5cd7f32a88b501a24\n",
      "Status: Downloaded newer image for hello-world:latest\n",
      " ---> d1165f221234\n",
      "Successfully built d1165f221234\n",
      "Successfully tagged hello-world:latest\n"
     ]
    }
   ],
   "source": [
    "%%sh\n",
    "docker build -t hello-world:latest ."
   ]
  },
  {
   "cell_type": "code",
   "execution_count": null,
   "metadata": {},
   "outputs": [],
   "source": [
    "%%sh\n",
    "cd container/\n",
    "docker build -t hello-world:latest ."
   ]
  }
 ],
 "metadata": {
  "kernelspec": {
   "display_name": "Python 3",
   "language": "python",
   "name": "python3"
  },
  "language_info": {
   "codemirror_mode": {
    "name": "ipython",
    "version": 3
   },
   "file_extension": ".py",
   "mimetype": "text/x-python",
   "name": "python",
   "nbconvert_exporter": "python",
   "pygments_lexer": "ipython3",
   "version": "3.6.10"
  }
 },
 "nbformat": 4,
 "nbformat_minor": 4
}
