{
 "cells": [
  {
   "attachments": {},
   "cell_type": "markdown",
   "id": "a31cc471-7dcc-4d65-be6d-b8bf9c153ee9",
   "metadata": {},
   "source": [
    "# Hosting ControlNet/Lora models on SageMaker using DLC container.\n",
    "\n",
    "In this notebook, we explore how to host ControlNet/Lora models on SageMaker Real-time endpoint using the Large Model Inference container that packages DJC model server.\n",
    "\n",
    "In this notebook, under the hood we use stable-diffusion-webui to generate image with Lora and ControlNet support. \n",
    "\n",
    "Note - Amazon Web Services has no control or authority over the third-party generative AI service referenced in this Workshop, and does not make any representations or warranties that the third-party generative AI service is secure, virus-free, operational, or compatible with your production environment and standards. You are responsible for making your own independent assessment of the content provided in this Workshop, and take measures to ensure that you comply with your own specific quality control practices and standards, and the local rules, laws, regulations, licenses and terms of use that apply to you, your content, and the third-party generative AI service referenced in this Workshop. The content of this Workshop: (a) is for informational purposes only, (b) represents current Amazon Web Services product offerings and practices, which are subject to change without notice, and (c) does not create any commitments or assurances from Beijing Sinnet Technology Co., Ltd. (“Sinnet”), Ningxia Western Cloud Data Technology Co., Ltd. (“NWCD”), Amazon Connect Technology Services (Beijing) Co., Ltd. (“Amazon”), or their respective affiliates, suppliers or licensors.  Amazon Web Services’ content, products or services are provided “as is” without warranties, representations, or conditions of any kind, whether express or implied.  The responsibilities and liabilities of Sinnet, NWCD or Amazon to their respective customers are controlled by the applicable customer agreements. "
   ]
  },
  {
   "cell_type": "markdown",
   "id": "81fa35df-a080-4455-9d4f-3c8a7bdd90d1",
   "metadata": {},
   "source": [
    "---\n",
    "\n",
    "This notebook's CI test result for us-west-2 is as follows. CI test results in other regions can be found at the end of the notebook.\n",
    "\n",
    "![This us-west-2 badge failed to load. Check your device's internet connectivity, otherwise the service is currently unavailable](https://prod.us-west-2.tcx-beacon.docs.aws.dev/sagemaker-nb/us-west-2/inference|generativeai|llm-workshop|lab9-hosting-controlnet-models-on-sagemaker|stable-diffusion-webui-sync-inference.ipynb)\n",
    "\n",
    "---"
   ]
  },
  {
   "cell_type": "markdown",
   "id": "d8f92945-936e-4b5a-9ddb-19d5091da548",
   "metadata": {},
   "source": [
    "## Build Docker image and push to ECR."
   ]
  },
  {
   "cell_type": "markdown",
   "id": "0f3b5739-d5c3-432a-9a7c-406f4178c9b3",
   "metadata": {},
   "source": [
    "Initialize the variables for SageMaker default bucket, role, and AWS account ID, and current AWS region."
   ]
  },
  {
   "cell_type": "code",
   "execution_count": null,
   "id": "641ecb4f-3005-4223-a822-965dea119f02",
   "metadata": {},
   "outputs": [],
   "source": [
    "import sagemaker\n",
    "\n",
    "sagemaker_session = sagemaker.Session()\n",
    "bucket = sagemaker_session.default_bucket()\n",
    "role = sagemaker.get_execution_role()\n",
    "\n",
    "import boto3\n",
    "\n",
    "account_id = boto3.client(\"sts\").get_caller_identity().get(\"Account\")\n",
    "region_name = boto3.session.Session().region_name"
   ]
  },
  {
   "cell_type": "markdown",
   "id": "7ed08b8a-977f-440a-be23-2b172e4c7d05",
   "metadata": {},
   "source": [
    "Execute the script to build Docker images for SageMaker endpoint."
   ]
  },
  {
   "cell_type": "code",
   "execution_count": null,
   "id": "a4694ec2-2933-48a4-b00d-7f1ba9219a3d",
   "metadata": {
    "tags": []
   },
   "outputs": [],
   "source": [
    "%%sh -s \"$region_name\"\n",
    "\n",
    "# This script shows how to build the Docker image and push it to ECR to be ready for use\n",
    "# by SageMaker.\n",
    "\n",
    "region=$1\n",
    "echo \"$region $1\"\n",
    "\n",
    "# Get the login command from ECR and execute it directly\n",
    "docker login -u AWS -p $(aws ecr get-login-password --region $region) 763104351884.dkr.ecr.$region.amazonaws.com\n",
    "\n",
    "# Get the account number associated with the current IAM credentials\n",
    "account=$(aws sts get-caller-identity --query Account --output text)\n",
    "\n",
    "if [ $? -ne 0 ]\n",
    "then\n",
    "    exit 255\n",
    "fi\n",
    "\n",
    "inference_image=all-in-one-ai-stable-diffusion-webui-inference-api\n",
    "inference_fullname=${account}.dkr.ecr.${region}.amazonaws.com/${inference_image}:latest\n",
    "\n",
    "# If the repository doesn't exist in ECR, create it.\n",
    "aws ecr describe-repositories --repository-names \"${inference_image}\" --region ${region} || aws ecr create-repository --repository-name \"${inference_image}\" --region ${region}\n",
    "\n",
    "if [ $? -ne 0 ]\n",
    "then\n",
    "    aws ecr create-repository --repository-name \"${inference_image}\" --region ${region}\n",
    "fi\n",
    "\n",
    "# Get the login command from ECR and execute it directly\n",
    "docker login -u AWS -p $(aws ecr get-login-password --region $region) $account.dkr.ecr.$region.amazonaws.com\n",
    "\n",
    "aws ecr set-repository-policy \\\n",
    "    --repository-name \"${inference_image}\" \\\n",
    "    --policy-text \"file://ecr-policy.json\" \\\n",
    "    --region ${region}\n",
    "\n",
    "# Build the docker image locally with the image name and then push it to ECR\n",
    "# with the full name.\n",
    "\n",
    "docker build -t ${inference_image} -f Dockerfile.inference . --build-arg REGION=${region}\n",
    "\n",
    "docker tag ${inference_image} ${inference_fullname}\n",
    "\n",
    "docker push ${inference_fullname}\n"
   ]
  },
  {
   "cell_type": "markdown",
   "id": "bbfd99e5-66c8-4e7d-a135-5ea5bf971433",
   "metadata": {},
   "source": [
    "Upload the dummy file to S3 to meet the requirement of SageMaker Endpoint for model data."
   ]
  },
  {
   "cell_type": "code",
   "execution_count": null,
   "id": "cd7c20ce-f38f-4b16-af81-8eb90c48471b",
   "metadata": {
    "tags": []
   },
   "outputs": [],
   "source": [
    "model_data = f\"s3://{bucket}/stable-diffusion-webui/data/model.tar.gz\"\n",
    "!touch dummy\n",
    "!tar czvf model.tar.gz dummy\n",
    "!rm dummy\n",
    "!aws s3 cp model.tar.gz $model_data"
   ]
  },
  {
   "cell_type": "markdown",
   "id": "062da549-5c8f-4590-b8ef-f0a518a8dd50",
   "metadata": {},
   "source": [
    "## Deploy to SageMaker Real-time Endpoint"
   ]
  },
  {
   "cell_type": "markdown",
   "id": "b955ef19-b9f6-4046-8f8e-d14e4a70b761",
   "metadata": {},
   "source": [
    "Initialize the variables for SageMaker default bucket, role, and AWS account ID, and current AWS region."
   ]
  },
  {
   "cell_type": "code",
   "execution_count": null,
   "id": "3e2544cd-6f31-455e-a88b-1362b91e1f04",
   "metadata": {
    "tags": []
   },
   "outputs": [],
   "source": [
    "model_name = None\n",
    "image_uri = \"{0}.dkr.ecr.{1}.amazonaws.com/all-in-one-ai-stable-diffusion-webui-inference-api:latest\".format(\n",
    "    account_id, region_name\n",
    ")\n",
    "base_name = sagemaker.utils.base_name_from_image(image_uri)"
   ]
  },
  {
   "cell_type": "markdown",
   "id": "6436ad08-5b4c-47b9-87d9-25d0f71b541b",
   "metadata": {},
   "source": [
    "Define the models configuration in order to download those models from one of source - HTTP, S3 and HuggingFace. Note: Here as an example the Lora model - 2bNierAutomataLora_v2b.safetensors and ControlNet model - control_sd15_canny.pth are going to be downloaded from Civitai and Huggingface directly once the SageMaker endpoint is created."
   ]
  },
  {
   "cell_type": "code",
   "execution_count": null,
   "id": "3e0e4897-3585-4523-ae53-54edb8f15eed",
   "metadata": {
    "tags": []
   },
   "outputs": [],
   "source": [
    "import json\n",
    "\n",
    "huggingface_models = [\n",
    "    {\n",
    "        \"repo_id\": \"runwayml/stable-diffusion-v1-5\",\n",
    "        \"filename\": \"v1-5-pruned.ckpt\",\n",
    "        \"name\": \"Stable-diffusion\",\n",
    "    },\n",
    "    {\n",
    "        \"repo_id\": \"lllyasviel/ControlNet\",\n",
    "        \"filename\": \"models/control_sd15_canny.pth\",\n",
    "        \"name\": \"ControlNet\",\n",
    "    },\n",
    "]\n",
    "\n",
    "http_models = [\n",
    "    {\n",
    "        \"uri\": \"https://civitai.com/api/download/models/7627\",\n",
    "        \"filename\": \"2bNierAutomataLora_v2b.safetensors\",\n",
    "        \"name\": \"Lora\",\n",
    "    }\n",
    "]\n",
    "\n",
    "model_environment = {\n",
    "    \"ckpt\": \"/tmp/models/Stable-diffusion/v1-5-pruned.ckpt\",\n",
    "    \"huggingface_models\": json.dumps(huggingface_models),\n",
    "    \"http_models\": json.dumps(http_models),\n",
    "    \"generated_images_s3uri\": f\"s3://{bucket}/stable-diffusion-webui/generated/\",\n",
    "    \"embeddings_s3uri\": f\"s3://{bucket}/stable-diffusion-webui/embeddings/\",\n",
    "    \"hypernetwork_s3uri\": f\"s3://{bucket}/stable-diffusion-webui/hypernetwork/\",\n",
    "}"
   ]
  },
  {
   "cell_type": "markdown",
   "id": "fa658754-ddaf-42b2-aaeb-37029ed3da7e",
   "metadata": {},
   "source": [
    "Define the model, instance type and instance initial count for SageMaker endpoint."
   ]
  },
  {
   "cell_type": "code",
   "execution_count": null,
   "id": "589c112b-935d-4601-9f16-3d0d992127ed",
   "metadata": {
    "tags": []
   },
   "outputs": [],
   "source": [
    "from sagemaker.model import Model\n",
    "from sagemaker.predictor import Predictor\n",
    "\n",
    "model = Model(\n",
    "    name=model_name,\n",
    "    model_data=model_data,\n",
    "    role=role,\n",
    "    image_uri=image_uri,\n",
    "    env=model_environment,\n",
    "    predictor_cls=Predictor,\n",
    ")\n",
    "\n",
    "instance_type = \"ml.g4dn.2xlarge\"\n",
    "instance_count = 1"
   ]
  },
  {
   "cell_type": "markdown",
   "id": "d7d27ecf-8d85-41e4-a4be-a666c1d48085",
   "metadata": {},
   "source": [
    "Here to be simplified, we use real-time inference. However, it has some limitations by nature. Real-time inference is suitable for workloads where payload sizes are up to 6 MB and need to be processed with low latency requirements in the order of milliseconds or seconds asynchronous inference is more suitable for workloads with large payload sizes and long inference processing times. "
   ]
  },
  {
   "cell_type": "code",
   "execution_count": null,
   "id": "5febc6f2-62e8-44cd-87ab-b884a6319884",
   "metadata": {
    "tags": []
   },
   "outputs": [],
   "source": [
    "predictor = model.deploy(\n",
    "    instance_type=instance_type,\n",
    "    initial_instance_count=instance_count,\n",
    "    volume_size_in_gb=225,\n",
    "    container_startup_health_check_timeout=1800,\n",
    ")"
   ]
  },
  {
   "cell_type": "markdown",
   "id": "343408ff-c930-4398-8c82-3aa9a52905d2",
   "metadata": {},
   "source": [
    "## Generate images using Lora models\n",
    "\n",
    "LoRA (Low-Rank Adaptation of Large Language Models) models have become the standard to extend the Stable Diffusion models. Let's use Lora model to generate images."
   ]
  },
  {
   "cell_type": "code",
   "execution_count": null,
   "id": "84328b40-d085-4d05-bb92-8a44a020e7b6",
   "metadata": {
    "tags": []
   },
   "outputs": [],
   "source": [
    "from sagemaker.serializers import JSONSerializer\n",
    "from sagemaker.deserializers import JSONDeserializer\n",
    "\n",
    "predictor.serializer = JSONSerializer()\n",
    "predictor.deserializer = JSONDeserializer()\n",
    "\n",
    "inputs = {\n",
    "    \"task\": \"text-to-image\",\n",
    "    \"model\": \"v1-5-pruned.ckpt\",\n",
    "    \"txt2img_payload\": {\n",
    "        \"enable_hr\": False,\n",
    "        \"denoising_strength\": 0,\n",
    "        \"firstphase_width\": 0,\n",
    "        \"firstphase_height\": 0,\n",
    "        \"hr_scale\": 2,\n",
    "        \"hr_upscaler\": \"\",\n",
    "        \"hr_second_pass_steps\": 0,\n",
    "        \"hr_resize_x\": 0,\n",
    "        \"hr_resize_y\": 0,\n",
    "        \"prompt\": \"yorha no. 2 type b, 1girl, bangs, black blindfold, black dress, black gloves, black hairband, blindfold, blindfold removed, breasts, cleavage cutout, clothing cutout, commentary request, dress, gloves, hairband, half-closed eyes, hand up, highres, io (sinking=carousel), juliet sleeves, long sleeves, looking at viewer, medium breasts, mole, mole under mouth, nier (series), nier automata, no blindfold, parted lips, puffy sleeves, short hair, solo, thighhighs, turtleneck, upper body, white hair, bokeh <lora:2bNierAutomataLora_v2b:0.5>\",\n",
    "        \"styles\": [\"\"],\n",
    "        \"seed\": 141050431,\n",
    "        \"subseed\": 3557256075,\n",
    "        \"subseed_strength\": 0,\n",
    "        \"seed_resize_from_h\": -1,\n",
    "        \"seed_resize_from_w\": -1,\n",
    "        \"sampler_name\": \"\",\n",
    "        \"batch_size\": 1,\n",
    "        \"n_iter\": 1,\n",
    "        \"steps\": 20,\n",
    "        \"cfg_scale\": 7,\n",
    "        \"width\": 512,\n",
    "        \"height\": 512,\n",
    "        \"restore_faces\": False,\n",
    "        \"tiling\": False,\n",
    "        \"do_not_save_samples\": False,\n",
    "        \"do_not_save_grid\": False,\n",
    "        \"negative_prompt\": \"(worst quality, low quality:1.3)\",\n",
    "        \"eta\": 0,\n",
    "        \"s_churn\": 0,\n",
    "        \"s_tmax\": 0,\n",
    "        \"s_tmin\": 0,\n",
    "        \"s_noise\": 1,\n",
    "        \"override_settings\": {},\n",
    "        \"override_settings_restore_afterwards\": True,\n",
    "        \"script_args\": [],\n",
    "        \"sampler_index\": \"DPM++ SDE Karras\",\n",
    "        \"script_name\": \"\",\n",
    "        \"send_images\": True,\n",
    "        \"save_images\": False,\n",
    "        \"alwayson_scripts\": {},\n",
    "    },\n",
    "}\n",
    "\n",
    "prediction = predictor.predict(inputs)"
   ]
  },
  {
   "cell_type": "markdown",
   "id": "3e288483-8eff-418a-8775-f4d21433db42",
   "metadata": {},
   "source": [
    "Helper function for s3"
   ]
  },
  {
   "cell_type": "code",
   "execution_count": null,
   "id": "349eafd2-3f5e-486b-823a-827c81afee0a",
   "metadata": {},
   "outputs": [],
   "source": [
    "import boto3\n",
    "\n",
    "s3_resource = boto3.resource(\"s3\")\n",
    "\n",
    "\n",
    "def get_bucket_and_key(s3uri):\n",
    "    pos = s3uri.find(\"/\", 5)\n",
    "    bucket = s3uri[5:pos]\n",
    "    key = s3uri[pos + 1 :]\n",
    "    return bucket, key"
   ]
  },
  {
   "cell_type": "markdown",
   "id": "924d6678-c342-48a3-9a98-fb1faa20d517",
   "metadata": {},
   "source": [
    "Process the generated images from Real-Time inference result."
   ]
  },
  {
   "cell_type": "code",
   "execution_count": null,
   "id": "b68fa74a-c1e9-45d5-9cde-91209e6f5b14",
   "metadata": {
    "tags": []
   },
   "outputs": [],
   "source": [
    "from PIL import Image\n",
    "import io\n",
    "import uuid\n",
    "from datetime import datetime\n",
    "\n",
    "for image_uri in prediction[\"images\"]:\n",
    "    image_bucket, image_key = get_bucket_and_key(image_uri)\n",
    "    image_object = s3_resource.Object(image_bucket, image_key)\n",
    "    image = Image.open(io.BytesIO(image_object.get()[\"Body\"].read()))\n",
    "    image.show()\n",
    "    image.save(datetime.now().strftime(f\"%Y%m%d%H%M%S-{uuid.uuid4()}.jpg\"))"
   ]
  },
  {
   "cell_type": "markdown",
   "id": "48aa22d9-46b6-411f-833c-14e8b468c815",
   "metadata": {},
   "source": [
    "## Generate images using ControlNet models\n",
    "\n",
    "ControlNet is a neural network structure to control diffusion models by adding extra conditions."
   ]
  },
  {
   "cell_type": "code",
   "execution_count": null,
   "id": "677aeae0-b09f-4487-bf00-19c7f4f8cc31",
   "metadata": {
    "tags": []
   },
   "outputs": [],
   "source": [
    "from PIL import Image\n",
    "import base64\n",
    "import io\n",
    "\n",
    "\n",
    "def encode_image_to_base64(image):\n",
    "    with io.BytesIO() as output_bytes:\n",
    "        image.save(output_bytes, format=\"JPEG\")\n",
    "        bytes_data = output_bytes.getvalue()\n",
    "\n",
    "    encoded_string = base64.b64encode(bytes_data)\n",
    "\n",
    "    base64_str = str(encoded_string, \"utf-8\")\n",
    "    mimetype = \"image/jpeg\"\n",
    "    image_encoded_in_base64 = (\n",
    "        \"data:\" + (mimetype if mimetype is not None else \"\") + \";base64,\" + base64_str\n",
    "    )\n",
    "    return image_encoded_in_base64\n",
    "\n",
    "\n",
    "def decode_base64_to_image(encoding):\n",
    "    if encoding.startswith(\"data:image/\"):\n",
    "        encoding = encoding.split(\";\")[1].split(\",\")[1]\n",
    "    try:\n",
    "        image = Image.open(io.BytesIO(base64.b64decode(encoding)))\n",
    "        return image\n",
    "    except Exception as e:\n",
    "        print(e)"
   ]
  },
  {
   "cell_type": "code",
   "execution_count": null,
   "id": "921ce3a9-ad7e-4b3d-b7f6-6fda60da989f",
   "metadata": {
    "tags": []
   },
   "outputs": [],
   "source": [
    "from PIL import Image\n",
    "\n",
    "image = Image.open(\"./images/inference/ControlNet/bal-source.png\").convert(\"RGB\")"
   ]
  },
  {
   "cell_type": "code",
   "execution_count": null,
   "id": "aac7ef24-25b6-47b8-9cad-f53f79fc8b71",
   "metadata": {
    "tags": []
   },
   "outputs": [],
   "source": [
    "from sagemaker.serializers import JSONSerializer\n",
    "from sagemaker.deserializers import JSONDeserializer\n",
    "\n",
    "predictor.serializer = JSONSerializer()\n",
    "predictor.deserializer = JSONDeserializer()\n",
    "\n",
    "inputs = {\n",
    "    \"task\": \"text-to-image\",\n",
    "    \"model\": \"v1-5-pruned.ckpt\",\n",
    "    \"txt2img_payload\": {\n",
    "        \"enable_hr\": False,\n",
    "        \"denoising_strength\": 0,\n",
    "        \"firstphase_width\": 0,\n",
    "        \"firstphase_height\": 0,\n",
    "        \"hr_scale\": 2,\n",
    "        \"hr_upscaler\": \"\",\n",
    "        \"hr_second_pass_steps\": 0,\n",
    "        \"hr_resize_x\": 0,\n",
    "        \"hr_resize_y\": 0,\n",
    "        \"prompt\": \"ballon\",\n",
    "        \"styles\": [\"\"],\n",
    "        \"seed\": -1,\n",
    "        \"subseed\": -1,\n",
    "        \"subseed_strength\": 0,\n",
    "        \"seed_resize_from_h\": -1,\n",
    "        \"seed_resize_from_w\": -1,\n",
    "        \"sampler_name\": \"\",\n",
    "        \"batch_size\": 1,\n",
    "        \"n_iter\": 1,\n",
    "        \"steps\": 20,\n",
    "        \"cfg_scale\": 7,\n",
    "        \"width\": 512,\n",
    "        \"height\": 512,\n",
    "        \"restore_faces\": False,\n",
    "        \"tiling\": False,\n",
    "        \"do_not_save_samples\": False,\n",
    "        \"do_not_save_grid\": False,\n",
    "        \"negative_prompt\": \"\",\n",
    "        \"eta\": 0,\n",
    "        \"s_churn\": 0,\n",
    "        \"s_tmax\": 0,\n",
    "        \"s_tmin\": 0,\n",
    "        \"s_noise\": 1,\n",
    "        \"override_settings\": {},\n",
    "        \"override_settings_restore_afterwards\": True,\n",
    "        \"script_args\": [],\n",
    "        \"sampler_index\": \"DPM++ SDE Karras\",\n",
    "        \"script_name\": \"\",\n",
    "        \"send_images\": True,\n",
    "        \"save_images\": False,\n",
    "        \"alwayson_scripts\": {\n",
    "            \"controlnet\": {\n",
    "                \"args\": [\n",
    "                    {\n",
    "                        \"enabled\": True,\n",
    "                        \"module\": \"none\",\n",
    "                        \"model\": \"control_sd15_canny [fef5e48e]\",\n",
    "                        \"weight\": 1,\n",
    "                        \"image\": encode_image_to_base64(image),\n",
    "                        \"low_vram\": False,\n",
    "                        \"processor_res\": 64,\n",
    "                        \"threshold_a\": 64,\n",
    "                        \"threshold_b\": 64,\n",
    "                        \"guidance_start\": 0,\n",
    "                        \"guidance_end\": 1,\n",
    "                        \"guess_mode\": False,\n",
    "                    }\n",
    "                ]\n",
    "            }\n",
    "        },\n",
    "    },\n",
    "}\n",
    "\n",
    "prediction = predictor.predict(inputs)"
   ]
  },
  {
   "cell_type": "markdown",
   "id": "90290a49-42ae-4db7-9dec-f133d055ad2d",
   "metadata": {},
   "source": [
    "Process the generated images from real-time inference result."
   ]
  },
  {
   "cell_type": "code",
   "execution_count": null,
   "id": "55f825e1-81dd-46cb-a2a3-bdc597591013",
   "metadata": {
    "tags": []
   },
   "outputs": [],
   "source": [
    "from PIL import Image\n",
    "import io\n",
    "import uuid\n",
    "from datetime import datetime\n",
    "\n",
    "for image_uri in prediction[\"images\"]:\n",
    "    image_bucket, image_key = get_bucket_and_key(image_uri)\n",
    "    image_object = s3_resource.Object(image_bucket, image_key)\n",
    "    image = Image.open(io.BytesIO(image_object.get()[\"Body\"].read()))\n",
    "    image.show()\n",
    "    image.save(datetime.now().strftime(f\"%Y%m%d%H%M%S-{uuid.uuid4()}.jpg\"))"
   ]
  },
  {
   "cell_type": "markdown",
   "id": "0b31ea04-2e93-4bde-993c-81bd9fa4279e",
   "metadata": {},
   "source": [
    "## [Optional] Create auto-scaling group for SageMaker endpoint in case you want to scale it based on specific metrics automatically."
   ]
  },
  {
   "cell_type": "code",
   "execution_count": null,
   "id": "a25708b8-3076-45c3-be49-0d15a3de4a19",
   "metadata": {},
   "outputs": [],
   "source": [
    "def create_autoscaling_group_for_sagemaker_endpoint(\n",
    "    endpoint_name, min_capcity=1, max_capcity=2, target_value=5\n",
    "):\n",
    "    # application-autoscaling client\n",
    "    asg_client = boto3.client(\"application-autoscaling\")\n",
    "\n",
    "    # This is the format in which application autoscaling references the endpoint\n",
    "    resource_id = f\"endpoint/{endpoint_name}/variant/AllTraffic\"\n",
    "\n",
    "    # Configure Autoscaling on asynchronous endpoint down to zero instances\n",
    "    response = asg_client.register_scalable_target(\n",
    "        ServiceNamespace=\"sagemaker\",\n",
    "        ResourceId=resource_id,\n",
    "        ScalableDimension=\"sagemaker:variant:DesiredInstanceCount\",\n",
    "        MinCapacity=min_capcity,\n",
    "        MaxCapacity=max_capcity,\n",
    "    )\n",
    "\n",
    "    response = asg_client.put_scaling_policy(\n",
    "        PolicyName=f\"Request-ScalingPolicy-{endpoint_name}\",\n",
    "        ServiceNamespace=\"sagemaker\",\n",
    "        ResourceId=resource_id,\n",
    "        ScalableDimension=\"sagemaker:variant:DesiredInstanceCount\",\n",
    "        PolicyType=\"TargetTrackingScaling\",\n",
    "        TargetTrackingScalingPolicyConfiguration={\n",
    "            \"TargetValue\": target_value,\n",
    "            \"CustomizedMetricSpecification\": {\n",
    "                \"MetricName\": \"SageMakerVariantInvocationsPerInstance\",\n",
    "                \"Namespace\": \"AWS/SageMaker\",\n",
    "                \"Dimensions\": [{\"Name\": \"EndpointName\", \"Value\": endpoint_name}],\n",
    "                \"Statistic\": \"Average\",\n",
    "            },\n",
    "            \"ScaleInCooldown\": 600,  # duration until scale in begins (down to zero)\n",
    "            \"ScaleOutCooldown\": 300,  # duration between scale out attempts\n",
    "        },\n",
    "    )\n",
    "\n",
    "\n",
    "create_autoscaling_group_for_sagemaker_endpoint(predictor.endpoint_name)"
   ]
  },
  {
   "cell_type": "markdown",
   "id": "8abc70f8-4c5d-470b-a2ae-6189213eadea",
   "metadata": {},
   "source": [
    "## Resource cleanup."
   ]
  },
  {
   "cell_type": "code",
   "execution_count": null,
   "id": "78a20b2c-ee57-4780-ad3f-5db1c0a10e1d",
   "metadata": {},
   "outputs": [],
   "source": [
    "predictor.delete_endpoint()"
   ]
  },
  {
   "cell_type": "markdown",
   "id": "01dc174b-c82a-4c2f-85fc-8d66e3189ceb",
   "metadata": {},
   "source": [
    "## Notebook CI Test Results\n",
    "\n",
    "This notebook was tested in multiple regions. The test results are as follows, except for us-west-2 which is shown at the top of the notebook.\n",
    "\n",
    "![This us-east-1 badge failed to load. Check your device's internet connectivity, otherwise the service is currently unavailable](https://prod.us-west-2.tcx-beacon.docs.aws.dev/sagemaker-nb/us-east-1/inference|generativeai|llm-workshop|lab9-hosting-controlnet-models-on-sagemaker|stable-diffusion-webui-sync-inference.ipynb)\n",
    "\n",
    "![This us-east-2 badge failed to load. Check your device's internet connectivity, otherwise the service is currently unavailable](https://prod.us-west-2.tcx-beacon.docs.aws.dev/sagemaker-nb/us-east-2/inference|generativeai|llm-workshop|lab9-hosting-controlnet-models-on-sagemaker|stable-diffusion-webui-sync-inference.ipynb)\n",
    "\n",
    "![This us-west-1 badge failed to load. Check your device's internet connectivity, otherwise the service is currently unavailable](https://prod.us-west-2.tcx-beacon.docs.aws.dev/sagemaker-nb/us-west-1/inference|generativeai|llm-workshop|lab9-hosting-controlnet-models-on-sagemaker|stable-diffusion-webui-sync-inference.ipynb)\n",
    "\n",
    "![This ca-central-1 badge failed to load. Check your device's internet connectivity, otherwise the service is currently unavailable](https://prod.us-west-2.tcx-beacon.docs.aws.dev/sagemaker-nb/ca-central-1/inference|generativeai|llm-workshop|lab9-hosting-controlnet-models-on-sagemaker|stable-diffusion-webui-sync-inference.ipynb)\n",
    "\n",
    "![This sa-east-1 badge failed to load. Check your device's internet connectivity, otherwise the service is currently unavailable](https://prod.us-west-2.tcx-beacon.docs.aws.dev/sagemaker-nb/sa-east-1/inference|generativeai|llm-workshop|lab9-hosting-controlnet-models-on-sagemaker|stable-diffusion-webui-sync-inference.ipynb)\n",
    "\n",
    "![This eu-west-1 badge failed to load. Check your device's internet connectivity, otherwise the service is currently unavailable](https://prod.us-west-2.tcx-beacon.docs.aws.dev/sagemaker-nb/eu-west-1/inference|generativeai|llm-workshop|lab9-hosting-controlnet-models-on-sagemaker|stable-diffusion-webui-sync-inference.ipynb)\n",
    "\n",
    "![This eu-west-2 badge failed to load. Check your device's internet connectivity, otherwise the service is currently unavailable](https://prod.us-west-2.tcx-beacon.docs.aws.dev/sagemaker-nb/eu-west-2/inference|generativeai|llm-workshop|lab9-hosting-controlnet-models-on-sagemaker|stable-diffusion-webui-sync-inference.ipynb)\n",
    "\n",
    "![This eu-west-3 badge failed to load. Check your device's internet connectivity, otherwise the service is currently unavailable](https://prod.us-west-2.tcx-beacon.docs.aws.dev/sagemaker-nb/eu-west-3/inference|generativeai|llm-workshop|lab9-hosting-controlnet-models-on-sagemaker|stable-diffusion-webui-sync-inference.ipynb)\n",
    "\n",
    "![This eu-central-1 badge failed to load. Check your device's internet connectivity, otherwise the service is currently unavailable](https://prod.us-west-2.tcx-beacon.docs.aws.dev/sagemaker-nb/eu-central-1/inference|generativeai|llm-workshop|lab9-hosting-controlnet-models-on-sagemaker|stable-diffusion-webui-sync-inference.ipynb)\n",
    "\n",
    "![This eu-north-1 badge failed to load. Check your device's internet connectivity, otherwise the service is currently unavailable](https://prod.us-west-2.tcx-beacon.docs.aws.dev/sagemaker-nb/eu-north-1/inference|generativeai|llm-workshop|lab9-hosting-controlnet-models-on-sagemaker|stable-diffusion-webui-sync-inference.ipynb)\n",
    "\n",
    "![This ap-southeast-1 badge failed to load. Check your device's internet connectivity, otherwise the service is currently unavailable](https://prod.us-west-2.tcx-beacon.docs.aws.dev/sagemaker-nb/ap-southeast-1/inference|generativeai|llm-workshop|lab9-hosting-controlnet-models-on-sagemaker|stable-diffusion-webui-sync-inference.ipynb)\n",
    "\n",
    "![This ap-southeast-2 badge failed to load. Check your device's internet connectivity, otherwise the service is currently unavailable](https://prod.us-west-2.tcx-beacon.docs.aws.dev/sagemaker-nb/ap-southeast-2/inference|generativeai|llm-workshop|lab9-hosting-controlnet-models-on-sagemaker|stable-diffusion-webui-sync-inference.ipynb)\n",
    "\n",
    "![This ap-northeast-1 badge failed to load. Check your device's internet connectivity, otherwise the service is currently unavailable](https://prod.us-west-2.tcx-beacon.docs.aws.dev/sagemaker-nb/ap-northeast-1/inference|generativeai|llm-workshop|lab9-hosting-controlnet-models-on-sagemaker|stable-diffusion-webui-sync-inference.ipynb)\n",
    "\n",
    "![This ap-northeast-2 badge failed to load. Check your device's internet connectivity, otherwise the service is currently unavailable](https://prod.us-west-2.tcx-beacon.docs.aws.dev/sagemaker-nb/ap-northeast-2/inference|generativeai|llm-workshop|lab9-hosting-controlnet-models-on-sagemaker|stable-diffusion-webui-sync-inference.ipynb)\n",
    "\n",
    "![This ap-south-1 badge failed to load. Check your device's internet connectivity, otherwise the service is currently unavailable](https://prod.us-west-2.tcx-beacon.docs.aws.dev/sagemaker-nb/ap-south-1/inference|generativeai|llm-workshop|lab9-hosting-controlnet-models-on-sagemaker|stable-diffusion-webui-sync-inference.ipynb)\n"
   ]
  }
 ],
 "metadata": {
  "kernelspec": {
   "display_name": "conda_python3",
   "language": "python",
   "name": "conda_python3"
  },
  "language_info": {
   "codemirror_mode": {
    "name": "ipython",
    "version": 3
   },
   "file_extension": ".py",
   "mimetype": "text/x-python",
   "name": "python",
   "nbconvert_exporter": "python",
   "pygments_lexer": "ipython3",
   "version": "3.10.8"
  }
 },
 "nbformat": 4,
 "nbformat_minor": 5
}
