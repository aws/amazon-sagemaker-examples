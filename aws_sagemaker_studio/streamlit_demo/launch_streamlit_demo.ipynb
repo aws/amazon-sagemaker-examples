{
 "cells": [
  {
   "cell_type": "markdown",
   "id": "2317d4d3-6cca-43aa-9d9a-c3f29f858f39",
   "metadata": {
    "tags": []
   },
   "source": [
    "# Build Streamlit apps in Amazon SageMaker Studio"
   ]
  },
  {
   "cell_type": "markdown",
   "id": "abf580d3-20dc-4b69-9393-373f11e8c8f3",
   "metadata": {},
   "source": [
    "Developing web interfaces to interact with a Machine Learning (ML) model is a tedious task. With [Streamlit](https://github.com/streamlit/streamlit), developing demo applications for your ML solution is easy. [Streamlit](https://streamlit.io/) is an open-source Python library which makes it easy to create and share web apps for ML and data science.  This notebook outlines how to host Streamlit apps in SageMaker Studio by walking through a demo step-by-step. \n",
    "\n",
    "As an example, we will be using a custom [Amazon Rekognition](https://aws.amazon.com/rekognition/) demo, which will annotate and label an uploaded image. This will serve as as a starting point, and it can be generalized to demo any custom ML model. This code has been tested on the Python 3 (Base Python 3.0) image in SageMaker Studio."
   ]
  },
  {
   "cell_type": "markdown",
   "id": "d0f3f147-2681-4500-8342-87b3f507c5f9",
   "metadata": {
    "jp-MarkdownHeadingCollapsed": true,
    "tags": []
   },
   "source": [
    "## Step 1: Create SageMaker Studio using JupyterLab 3.0\n",
    "\n",
    "This solution has been tested on SageMaker Studio with JupyterLab 3. Older versions might not support features to host the app. By default SageMaker Studio comes with JupyterLab 3.  To check the version and change it if running an older version, use the [AWS management console](https://aws.amazon.com/blogs/machine-learning/amazon-sagemaker-studio-and-sagemaker-notebook-instance-now-come-with-jupyterlab-3-notebooks-to-boost-developer-productivity/) by changing the Domain settings in Amazon SageMaker."
   ]
  },
  {
   "cell_type": "markdown",
   "id": "40b8c5d8-baf1-4c80-b836-ece2e75e4504",
   "metadata": {
    "tags": []
   },
   "source": [
    "## Step 2: Install Dependencies"
   ]
  },
  {
   "cell_type": "code",
   "execution_count": null,
   "id": "cd4ea155-3fa6-4607-a23b-3ac1b54f0330",
   "metadata": {
    "tags": []
   },
   "outputs": [],
   "source": [
    "!pip install --no-cache-dir -r requirements.txt"
   ]
  },
  {
   "cell_type": "markdown",
   "id": "a519e8d0-4f64-467a-8626-ed87d2aac84e",
   "metadata": {
    "tags": []
   },
   "source": [
    "## Step 3: Run Streamlit Demo"
   ]
  },
  {
   "cell_type": "markdown",
   "id": "69c8c153-06fb-4340-bd55-db034b993618",
   "metadata": {},
   "source": [
    "View the Amazon Rekognition demo by running the cell below. The port number hosting the app will be displayed.\n",
    "\n",
    "\n",
    "**Note:** while developing, it might be helpful to automatically rerun the script when app.py is modified on disk. To do so we can modify the [runOnSave configuration option](https://docs.streamlit.io/library/advanced-features/configuration) by adding the `--server.runOnSave true` flag to the streamlit run command. "
   ]
  },
  {
   "cell_type": "code",
   "execution_count": null,
   "id": "4b03438a-84ce-43d7-a09c-16c9a3dad57c",
   "metadata": {
    "tags": []
   },
   "outputs": [
    {
     "name": "stdout",
     "output_type": "stream",
     "text": [
      "\n",
      "Collecting usage statistics. To deactivate, set browser.gatherUsageStats to False.\n",
      "\u001b[0m\n",
      "\u001b[0m\n",
      "\u001b[34m\u001b[1m  You can now view your Streamlit app in your browser.\u001b[0m\n",
      "\u001b[0m\n",
      "\u001b[34m  Network URL: \u001b[0m\u001b[1mhttp://169.255.253.2:8501\u001b[0m\n",
      "\u001b[34m  External URL: \u001b[0m\u001b[1mhttp://54.219.117.109:8501\u001b[0m\n",
      "\u001b[0m\n"
     ]
    }
   ],
   "source": [
    "!streamlit run app.py"
   ]
  },
  {
   "cell_type": "markdown",
   "id": "08550d4c-98cc-45df-bcca-cf87a495410f",
   "metadata": {},
   "source": [
    "## Step 4: Create Shareable Link\n",
    "\n",
    "Next, we can open a new tab and modify the SageMaker Studio URL, replacing `lab?` with `proxy/[PORT NUMBER]/`. The Rekognition Object Detection demo will be displayed. The above URL will not work, we will need to modify the URL pattern and use the [Amazon Jupyter Proxy](https://github.com/aws/aws-jupyter-proxy) to access the app."
   ]
  },
  {
   "cell_type": "markdown",
   "id": "a9dc9451-cca9-4a08-944c-4e6757854f71",
   "metadata": {},
   "source": [
    "## Conclusion\n",
    "This example showed an end-to-end example of hosting a Streamlit demo for an object detection task using Amazon Rekognition. We modified the URL pattern in our web browser to initiate a session through the AWS Jupyter Proxy. This demo allows you to upload any image and visualize the outputs from Amazon Rekognition. The results will also be processed and you can download a CSV file with all the bounding boxes through the app. Extended this work to annotate and label your own dataset, or modify the code to showcase your custom model!"
   ]
  }
 ],
 "metadata": {
  "instance_type": "ml.t3.medium",
  "kernelspec": {
   "display_name": "Python 3 (Base Python 3.0)",
   "language": "python",
   "name": "python3__SAGEMAKER_INTERNAL__arn:aws:sagemaker:us-west-1:742091327244:image/sagemaker-base-python-310-v1"
  },
  "language_info": {
   "codemirror_mode": {
    "name": "ipython",
    "version": 3
   },
   "file_extension": ".py",
   "mimetype": "text/x-python",
   "name": "python",
   "nbconvert_exporter": "python",
   "pygments_lexer": "ipython3",
   "version": "3.10.8"
  }
 },
 "nbformat": 4,
 "nbformat_minor": 5
}
