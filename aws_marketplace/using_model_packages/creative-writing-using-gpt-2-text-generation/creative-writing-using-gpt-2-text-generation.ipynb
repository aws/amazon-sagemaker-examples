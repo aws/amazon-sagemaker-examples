{
 "cells": [
  {
   "cell_type": "markdown",
   "metadata": {},
   "source": [
    "# Creative writing using GPT-2 Text Generation"
   ]
  },
  {
   "cell_type": "markdown",
   "metadata": {},
   "source": [
    "Creative writing can be very fun, yet challenging, especially when you hit that writer's block. In this notebook you will learn how to use AWS Marketplace GPT-2-XL pre-trained model on Amazon SageMaker to generate text based on your prompt to help author prose and poetry.\n",
    "\n",
    "GPT2 ([Generative Pre-trained Transformer 2](https://cdn.openai.com/research-covers/language-unsupervised/language_understanding_paper.pdf)) algorithm is an unsupervised transformer language model. Transformer language models take advantage of transformer blocks. These blocks make it possible to process intra-sequence dependencies for all tokens in a sequence at the same time. GPT2 has been developed by [OpenAI](https://openai.com/) and is a powerful generative NLP model that excels in processing long-range dependencies and it is pre-trained on a diverse corpus of text.\n",
    "\n",
    "For a detailed description of GPT-2 and the theory of transformers, please checkout our video [here](https://www.youtube.com/watch?v=iSztfOOOjPg&list=PLhr1KZpdzukdZgMCwIHzbo_MhaHAXvpRY&index=12)."
   ]
  },
  {
   "cell_type": "markdown",
   "metadata": {},
   "source": [
    "## Overview\n",
    "In [step 1](#Step-1:-Determine-input-prompt-and-visualize-word-dependencies) of this notebook, you will determine an input prompt that will be used to condition the GPT-2 model for text generation. You will also [visualize attention](#Step-1.1-Introduction-to-attention) mechanism of GPT-2 model. In [step 2](#Step-2:-Use-an-ML-model-to-generate-text-based-on-prompt), you will create the model from an AWS Marketplace subscription, and deploy to an Amazon SageMaker endpoint. In [step 3](#Step-3:-Explore-use-cases-and-model-parameters), you will explore text generation use cases with various model parameter settings. In [step 4](#Step-4:-Use-Amazon-SageMaker-batch-transform), you will perform inference asynchronously using SageMaker batch transform instead of the endpoint. In [Step 5](#Step-5:-Next-steps) you will find additional models to explore and experiment with."
   ]
  },
  {
   "cell_type": "markdown",
   "metadata": {},
   "source": [
    "## Contents\n",
    "* [Pre-requisites](#Pre-requisites)\n",
    "* [Step 1: Determine input prompt and visualize word dependencies](#Step-1:-Determine-input-prompt-and-visualize-word-dependencies)\n",
    "    * [Step 1.1 Introduction to attention](#Step-1.1-Introduction-to-attention)\n",
    "    * [Step 1.1: Specify input prompt](#Step-1.2-Specify-input-prompt)\n",
    "    * [Step 1.2: Visualize attention mechanism](#Step-1.3-Visualize-attention-mechanism)\n",
    "* [Step 2: Use an ML model to generate text based on prompt](#Step-2:-Use-an-ML-model-to-generate-text-based-on-prompt)\n",
    "    * [Step 2.1: Specify model arn from AWS Marketplace subscription](#Step-2.1:-Specify-model-arn-from-AWS-Marketplace-subscription)\n",
    "    * [Step 2.2: Create model from model package and deploy to endpoint](#Step-2.2:-Create-model-from-model-package-and-deploy-to-endpoint)\n",
    "* [Step 3: Explore use cases and model parameters](#Step-3:-Explore-use-cases-and-model-parameters)\n",
    "    * [Step 3.1: Use case 1: Assist writing of prose](#Step-3.1:-Use-case-1:-Assist-writing-of-prose)\n",
    "    * [Step 3.2: Use case 2: Autonomous authoring of poem](#Step-3.2:-Use-case-2:-Autonomous-authoring-of-poem)\n",
    "    * [Step 3.3: Additional Use-Cases](#Step-3.3:-Additional-Use-Cases)\n",
    "    * [Step 3.4: Delete Amazon SageMaker endpoint](#Step-3.4:-Delete-Amazon-SageMaker-endpoint)\n",
    "* [Step 4: Use Amazon SageMaker batch transform](#Step-4:-Use-Amazon-SageMaker-batch-transform)\n",
    "    * [Step 4.1: Create input file for batch transform job](#Step-4.1:-Create-input-file-for-batch-transform-job)\n",
    "    * [Step 4.2: Upload file to S3](#Step-4.2:-Upload-file-to-S3)\n",
    "    * [Step 4.3: Execute the batch transform job](#Step-4.3:-Execute-the-batch-transform-job)\n",
    "    * [Step 4.4: Visualize output](#Step-4.4:-Visualize-output)\n",
    "    * [Step 4.5: Delete the model](#Step-4.5:-Delete-the-model)\n",
    "* [Step 5: Next steps](#Step-5:-Next-steps)\n",
    "    * [Step 5.1: Additional resources](#Step-5.1:-Additional-resources)\n",
    "    * [Step 5.2: Cancel AWS Marketplace subscription](#Step-5.2:-Cancel-AWS-Marketplace-subscription)\n",
    "\n",
    "## Usage instructions\n",
    "You can run this notebook one cell at a time (By using Shift+Enter for running a cell)."
   ]
  },
  {
   "cell_type": "markdown",
   "metadata": {},
   "source": [
    "**Pre-requisites**\n",
    "\n",
    "This sample notebook requires a subscription to **[GPT-2 XL - Text generation](https://aws.amazon.com/marketplace/pp/prodview-cdujckyfypprg)**, a pre-trained machine learning model package from AWS Marketplace. \n",
    "If your AWS account has not been subscribed to this listing, here is the process you can follow: \n",
    "1. Open the [listing](https://aws.amazon.com/marketplace/pp/prodview-cdujckyfypprg) from AWS Marketplace\n",
    "1. Read the **Highlights** section and then **product overview** section of the listing.\n",
    "1. View **usage information** and then **additional resources.**\n",
    "1. Note the supported instance types.\n",
    "1. Next, click on **Continue to subscribe.**\n",
    "1. Review **End-user license agreement, support terms**, as well as **pricing information.**\n",
    "1. **\"Accept Offer\"** button needs to be clicked if your organization agrees with EULA, pricing information as well as support terms.  If **Continue to configuration** button is active, it means your account already has a subscription to this listing. Once you click on **Continue to configuration** button and then choose region, you will see that a Product Arn will appear. This is the model package ARN that you need to specify while creating a deployable model. However, for this notebook, the Model Package ARN has been specified in **src/model_package_arns.py** file and you do not need to specify the same explicitly.\n",
    "\n",
    "2. This notebook requires the IAM role associated with this notebook to have *AmazonSageMakerFullAccess* IAM permission.\n",
    "\n",
    "3. Note: If you want to run this notebook on AWS SageMaker Studio - please use Classic Jupyter mode to be able correctly render visualization. Pick instance type **'ml.t3.large'** or larger. Set kernel to **'conda_python3'**.\n",
    "\n",
    "    <img style=\"float: left;\" src=\"images/classicjupyter.png\">"
   ]
  },
  {
   "cell_type": "markdown",
   "metadata": {},
   "source": [
    "**Installing Dependencies**\n",
    "\n",
    "In Step 1 of this notebook, you will use BertViz to visualize Transformer Attention.\n",
    "\n",
    "[BertViz](https://github.com/jessevig/bertviz) is an opensource package for visualizing attention in the Transformer models, including GPT-2. It provides the ability to visualize attention scores and contextual dependencies between tokens. You will take a closer look at the attention mechanism in the next section of the notebook."
   ]
  },
  {
   "cell_type": "code",
   "execution_count": null,
   "metadata": {
    "scrolled": true
   },
   "outputs": [],
   "source": [
    "# Installing BertViz for attention visualization\n",
    "import sys\n",
    "\n",
    "!rm -rf bertviz\n",
    "!git clone https://github.com/jessevig/bertviz.git\n",
    "!cd bertviz && {sys.executable} -m pip install -r requirements.txt"
   ]
  },
  {
   "cell_type": "code",
   "execution_count": null,
   "metadata": {},
   "outputs": [],
   "source": [
    "# Import necessary libraries\n",
    "import base64\n",
    "import json\n",
    "import uuid\n",
    "from sagemaker import ModelPackage\n",
    "import sagemaker as sage\n",
    "from sagemaker import get_execution_role\n",
    "from urllib.parse import urlparse\n",
    "import boto3\n",
    "from IPython.display import Image\n",
    "from PIL import Image as ImageEdit\n",
    "import numpy as np\n",
    "import boto3\n",
    "from pprint import pprint\n",
    "from src.model_package_arns import ModelPackageArnProvider"
   ]
  },
  {
   "cell_type": "code",
   "execution_count": null,
   "metadata": {},
   "outputs": [],
   "source": [
    "# Importing BertViz packages\n",
    "from bertviz.bertviz.transformers_neuron_view import GPT2Model, GPT2Tokenizer\n",
    "from bertviz.bertviz.neuron_view import show"
   ]
  },
  {
   "cell_type": "markdown",
   "metadata": {},
   "source": [
    "Initialize JavaScript dependencies:"
   ]
  },
  {
   "cell_type": "code",
   "execution_count": null,
   "metadata": {},
   "outputs": [],
   "source": [
    "%%javascript\n",
    "require.config(\n",
    "    {\n",
    "        paths: {\n",
    "            d3: \"//cdnjs.cloudflare.com/ajax/libs/d3/5.7.0/d3.min\",\n",
    "            jquery: \"//ajax.googleapis.com/ajax/libs/jquery/2.0.0/jquery.min\",\n",
    "        }\n",
    "    }\n",
    ");"
   ]
  },
  {
   "cell_type": "markdown",
   "metadata": {},
   "source": [
    "## Step 1: Determine input prompt and visualize word dependencies"
   ]
  },
  {
   "cell_type": "markdown",
   "metadata": {},
   "source": [
    "GPT-2 uses input text to set the initial context for further text generation. The length of an input string can range from few words to a maximum sequence length of 1024 tokens. The longer an initial input, the more subject context is provided to a model. Generally, longer inputs produce a more coherent text output.\n",
    "\n",
    "In this example, let's start with a simple sentence: **\"Machine learning is great for humanity. It helps\"**. There is only part of the second sentence provided intentionally to explore what options of continuation GPT-2 can generate for us and understand how a GPT-2 model can expand on this context while generating text."
   ]
  },
  {
   "cell_type": "markdown",
   "metadata": {},
   "source": [
    "### Step 1.1 Introduction to attention\n",
    "\n",
    "[Self-Attention mechanism](https://arxiv.org/abs/1706.03762) is one of the key components for Transformers architectures, including GPT-2. It helps to relate different positions of a specific sequence of tokens in order to compute contextual representation of the sequence.\n",
    "\n",
    "The original paper ([Attention is all you need](https://arxiv.org/abs/1706.03762)) introduces Self-Attention mechanism as follows:\n",
    ">We call our particular attention \"Scaled Dot-Product Attention\". The input consists of queries and keys of dimension 𝑑𝑘, and values of dimension 𝑑𝑣. We compute the dot products of the query with all keys, divide each by 𝑑𝑘⎯⎯⎯⎯√, and apply a softmax function to obtain the weights on the values.\n",
    "\n",
    "$$                                                                         \n",
    "   \\mathrm{Attention}(Q, K, V) = \\mathrm{softmax}(\\frac{QK^T}{\\sqrt{d_k}})V               \n",
    "$$   \n",
    "\n",
    "This notebook uses [BertViz](https://github.com/jessevig/bertviz) tool to quickly gain better understanding of practical meaning in addition to the mathematical definition of attention.\n",
    "\n",
    "\n",
    "For example, this is how it will look for our initial input:\n",
    "\n",
    "<img style=\"float: left;margin:0px 10px\" src=\"images/example-input.png\">\n",
    "\n",
    "\n",
    "BertViz package uses the attention patterns produced by one or more attention heads in a given transformer layer to provide visualization of words (tokens) in a given text sequence.\n",
    "\n",
    "This example specifically uses a neuron view mode which visualizes the individual neurons in the query and key vectors and shows how they are used to compute attention.\n",
    "\n",
    "The darker blue color reflects a higher score and \"stronger\" attention connection between the selected token and other tokens in a sequence.\n",
    "\n",
    "You may notice that word \"helps\" contextually related to \"Machine learning\" which is at the beginning of the previous sentence. It is also noticeable there is a connection to the word \"humanity\" despite it is in separate sentences. \n",
    "This is just one representation of Layer #8 and Head #8 of a model. Other combinations of layers and heads can surface non-obvious relations between positions in a given sequence of tokens."
   ]
  },
  {
   "cell_type": "markdown",
   "metadata": {},
   "source": [
    "### Step 1.2 Specify input prompt \n",
    "\n",
    "You can experiment with different prompts and see what contextual dependencies exist in your own examples. "
   ]
  },
  {
   "cell_type": "code",
   "execution_count": null,
   "metadata": {},
   "outputs": [],
   "source": [
    "payload = {\"input\": \"Machine learning is great for humanity. It helps\"}"
   ]
  },
  {
   "cell_type": "markdown",
   "metadata": {},
   "source": [
    "### Step 1.3 Visualize attention mechanism\n",
    "\n",
    "In this step, let's call BertViz package to produce attention visualization of our input."
   ]
  },
  {
   "cell_type": "markdown",
   "metadata": {},
   "source": [
    "Render neuron view visualization:"
   ]
  },
  {
   "cell_type": "code",
   "execution_count": null,
   "metadata": {},
   "outputs": [],
   "source": [
    "sentence = payload[\"input\"]\n",
    "model_type = \"gpt2\"\n",
    "model_version = \"gpt2\"\n",
    "model = GPT2Model.from_pretrained(model_version)\n",
    "tokenizer = GPT2Tokenizer.from_pretrained(model_version)\n",
    "show(model, model_type, tokenizer, sentence)"
   ]
  },
  {
   "cell_type": "markdown",
   "metadata": {},
   "source": [
    "Point your mouse at the word (token) in your input on the left and it will show you dependencies with other words on the right side."
   ]
  },
  {
   "cell_type": "markdown",
   "metadata": {},
   "source": [
    "Self-attention is one of the most important components of generative NLP models such as GPT, GPT2, GPT3. It makes it possible to achieve  State of The Art performance results in predicting the next word by the given context. \n",
    "\n",
    "Because of the auto-regressive nature of the text generation process, it is possible to generate long stretches of contextually coherent and (many times) close to \"written by human quality\" paragraphs of text.\n",
    "\n",
    "Note that \"words\" and \"tokens\" here are used interchangeably for simplicity. However, one word can consist of several tokens. In this case, attention will be rendered for each part of the word separately. [Byte_Pair Encoding](https://en.wikipedia.org/wiki/Byte_pair_encoding) improves the tokenization process in GPT2. It facilitates proper tokenization based on training dataset specifics.\n",
    "\n",
    "There are multiple layers and multiple attention heads in GPT-2 model architecture. Since the model has been already pre-trained on a large text corpus, different layers and different heads produce attention scores that reflect multiple semantic levels of connections between tokens.\n",
    "\n",
    "**Optional reading**\n",
    "\n",
    "To learn more about GPT architecture, attention, and how these types of visualizations work, please refer to these papers: \n",
    "- [Visualizing Attention in Transformer-Based Language Representation Models](https://arxiv.org/pdf/1904.02679.pdf)\n",
    "\n",
    "- [Improving Language Understanding by Generative Pre-Training](https://cdn.openai.com/better-language-models/language_models_are_unsupervised_multitask_learners.pdf) - Original introduction of GPT architecture paper\n",
    "\n",
    "- [Language Models are Unsupervised Multitask Learners](https://cdn.openai.com/research-covers/language-unsupervised/language_understanding_paper.pdf) - GPT2 architecture paper\n",
    "\n",
    "- [Language Models are Few-Shot Learners](https://arxiv.org/pdf/2005.14165.pdf) - GPT3 architecture paper\n",
    "\n",
    "- [Better Language Models\n",
    "and Their Implications](https://openai.com/blog/better-language-models) - [OpenAI](https://openai.com)'s original blog post about GPT2\n",
    "\n",
    "- [The Illustrated Transformer](http://jalammar.github.io/illustrated-transformer) - More details about Transformers architecture"
   ]
  },
  {
   "cell_type": "markdown",
   "metadata": {},
   "source": [
    "## Step 2: Use an ML model to generate text based on prompt\n",
    "\n",
    "Because you utilize [GPT-2 XL - Text generation](https://aws.amazon.com/marketplace/pp/prodview-cdujckyfypprg) algorithm from AWS Marketplace - all you need to do to start using it - is to deploy it as an inference endpoint in your account. Alternatively, we can use SageMaker Batch Transformation to run inference on batch payloads. \n",
    "\n",
    "To do that, let's set our payload variable as well as endpoint_name:"
   ]
  },
  {
   "cell_type": "code",
   "execution_count": null,
   "metadata": {},
   "outputs": [],
   "source": [
    "# Declare variables\n",
    "role = get_execution_role()\n",
    "sagemaker_session = sage.Session()\n",
    "bucket = sagemaker_session.default_bucket()\n",
    "endpoint_name = \"demo-gpt2-endpoint\"\n",
    "client = boto3.client(\"sagemaker-runtime\")"
   ]
  },
  {
   "cell_type": "markdown",
   "metadata": {},
   "source": [
    "You are going to specify instance types for real-time inference endpoint as well as batch transformation.\n",
    "You can refer to compatible instance types for this AWS Marketplace offering [here](https://aws.amazon.com/marketplace/pp/prodview-cdujckyfypprg)."
   ]
  },
  {
   "cell_type": "code",
   "execution_count": null,
   "metadata": {},
   "outputs": [],
   "source": [
    "real_time_inference_instance_type = \"ml.m4.2xlarge\"\n",
    "batch_transform_inference_instance_type = \"ml.m4.2xlarge\""
   ]
  },
  {
   "cell_type": "code",
   "execution_count": null,
   "metadata": {},
   "outputs": [],
   "source": [
    "content_type = \"application/json\""
   ]
  },
  {
   "cell_type": "markdown",
   "metadata": {},
   "source": [
    "### Step 2.1: Specify model arn from AWS Marketplace subscription"
   ]
  },
  {
   "cell_type": "markdown",
   "metadata": {},
   "source": [
    "You will use ModelPackageArnProvider class to make sure you get the correct ARN in every supported region:"
   ]
  },
  {
   "cell_type": "code",
   "execution_count": null,
   "metadata": {},
   "outputs": [],
   "source": [
    "model_package_arn = ModelPackageArnProvider.get_gpt2_model_package_arn(\n",
    "    sagemaker_session.boto_region_name\n",
    ")"
   ]
  },
  {
   "cell_type": "markdown",
   "metadata": {},
   "source": [
    "### Step 2.2: Create model from model package and deploy to endpoint"
   ]
  },
  {
   "cell_type": "markdown",
   "metadata": {},
   "source": [
    "Finally, you will invoke **model.deploy** API call to create a real-time inference endpoint with GPT2-XL model.\n",
    "\n",
    "This step might take several minutes to run:"
   ]
  },
  {
   "cell_type": "code",
   "execution_count": null,
   "metadata": {},
   "outputs": [],
   "source": [
    "model = ModelPackage(role=role, model_package_arn=model_package_arn)\n",
    "predictor = model.deploy(1, real_time_inference_instance_type, endpoint_name=endpoint_name)"
   ]
  },
  {
   "cell_type": "markdown",
   "metadata": {},
   "source": [
    "## Step 3: Explore use cases and model parameters"
   ]
  },
  {
   "cell_type": "markdown",
   "metadata": {},
   "source": [
    "GPT-2 can be used by AI researchers and practitioners to better understand the behaviors, capabilities, biases, and constraints of large-scale generative language models.\n",
    "\n",
    "Also, it can be used in some non-research settings such as:\n",
    "* Writing assistance: Grammar assistance, autocompletion (for normal prose or code)\n",
    "* Creative writing and art: exploring the generation of creative, fictional texts; aiding the creation of poetry and other literary art.\n",
    "* Entertainment: Creation of games, chatbots, and amusing generations."
   ]
  },
  {
   "cell_type": "markdown",
   "metadata": {},
   "source": [
    "**GPT-2 model parameters:**\n",
    "\n",
    "You can tweak the following model parameters to influence the serving behavior of the model.\n",
    "\n",
    "* **input**: str (required)\n",
    "* **length**: int = 50: The number of words to generate\n",
    "* **stop_token**: str: Stop if it finds this word (token)\n",
    "* **num_return_sequences**: int = 1: Number of different sequences to generate. All sequences start from the same input\n",
    "* **temperature**: float = 1.0: temperature of softmax - higher values increase creativity and decrease output coherence\n",
    "* **k**: int = 50; top-k sampling - model will choose from top k most probable words. Lower values eliminate less coherent words\n",
    "* **p**: float = 1.0 - top-p nucleus sampling. Should be between 0 and 1 to activate. The alternative to top-k to select a minimum number of candidate words in which cumulative probability exceeds p. Values closer to 1.0 generally provide more coherent outputs.\n",
    "* **repetition_penalty**: float = 1.0\n",
    "* **seed**: int = None: Set this random seed before making a prediction. Set seed to reproduce results. Feel free to change the seed to get different results.\n",
    "* **test**: bool = False: If true it will return a sample test response no predictions will be made"
   ]
  },
  {
   "cell_type": "markdown",
   "metadata": {},
   "source": [
    "### Step 3.1: Use case 1: Assisted writing of prose"
   ]
  },
  {
   "cell_type": "markdown",
   "metadata": {},
   "source": [
    "In this first use case, you will see how GPT-2 can assist an author generate ideas for fiction."
   ]
  },
  {
   "cell_type": "markdown",
   "metadata": {},
   "source": [
    "Experiment : Prompt model to speak about specific topic (generating interactive conditional samples)"
   ]
  },
  {
   "cell_type": "code",
   "execution_count": null,
   "metadata": {},
   "outputs": [],
   "source": [
    "# Prompt for fiction\n",
    "payload = '{\"input\": \"Machine learning is great for humanity. It helps\", \"length\": 50,\\\n",
    "\"repetition_penalty\": 10,\"num_return_sequences\": 1}'\n",
    "\n",
    "response = client.invoke_endpoint(\n",
    "    EndpointName=endpoint_name, ContentType=content_type, Body=payload\n",
    ")\n",
    "\n",
    "output = response[\"Body\"].read()\n",
    "\n",
    "pprint(json.loads(output))"
   ]
  },
  {
   "cell_type": "markdown",
   "metadata": {},
   "source": [
    "Change length of output to 100 words/tokens"
   ]
  },
  {
   "cell_type": "code",
   "execution_count": null,
   "metadata": {},
   "outputs": [],
   "source": [
    "# Prompt for fiction\n",
    "payload = '{\"input\": \"Machine learning is great for humanity. It helps\", \"length\": 100,\\\n",
    "\"repetition_penalty\": 10,\"num_return_sequences\": 1}'\n",
    "\n",
    "response = client.invoke_endpoint(\n",
    "    EndpointName=endpoint_name, ContentType=content_type, Body=payload\n",
    ")\n",
    "\n",
    "output = response[\"Body\"].read()\n",
    "\n",
    "pprint(json.loads(output))"
   ]
  },
  {
   "cell_type": "markdown",
   "metadata": {},
   "source": [
    "### Step 3.2: Use case 2: Autonomous authoring of poem"
   ]
  },
  {
   "cell_type": "markdown",
   "metadata": {},
   "source": [
    "In this second use case, you will see how GPT-2 can author a Shakespear-inspired poem."
   ]
  },
  {
   "cell_type": "code",
   "execution_count": null,
   "metadata": {},
   "outputs": [],
   "source": [
    "# Prompt for poetry\n",
    "# Sample from Shakespeare's Macbeth\n",
    "payload = '{\"input\": \"The merciless Macdonwald—Worthy to be a rebel, for to that\\\n",
    "The multiplying villanies of nature\\\n",
    "Do swarm upon him—from the western isles\\\n",
    "Of kerns and gallowglasses is supplied;\\\n",
    "And fortune, on his damned quarrel smiling\", \"length\": 50, \"repetition_penalty\": 1,\\\n",
    "\"num_return_sequences\": 1, \"temperature\": 1, \"p\": 1.0}'\n",
    "\n",
    "response = client.invoke_endpoint(\n",
    "    EndpointName=endpoint_name, ContentType=content_type, Body=payload\n",
    ")\n",
    "\n",
    "output = response[\"Body\"].read()\n",
    "\n",
    "temp1p10_json = json.loads(output)\n",
    "\n",
    "pprint(temp1p10_json)"
   ]
  },
  {
   "cell_type": "markdown",
   "metadata": {},
   "source": [
    "The 'output' depicts a completely different style of writing, conditioned by the 'input'. This shows how GPT-2 adapts to 'input'.\n",
    "\n",
    "Keep the value of 'temperature' at 1, and change 'p' to 0.5. The effect should be more creative use of words and vocabulary."
   ]
  },
  {
   "cell_type": "code",
   "execution_count": null,
   "metadata": {},
   "outputs": [],
   "source": [
    "# Prompt for poetry\n",
    "# Sample from Shakespeare's Macbeth\n",
    "payload = '{\"input\": \"The merciless Macdonwald—Worthy to be a rebel, for to that\\\n",
    "The multiplying villanies of nature\\\n",
    "Do swarm upon him—from the western isles\\\n",
    "Of kerns and gallowglasses is supplied;\\\n",
    "And fortune, on his damned quarrel smiling\", \"length\": 50, \"repetition_penalty\": 1,\\\n",
    "\"num_return_sequences\": 1, \"temperature\": 1, \"p\": 0.5}'\n",
    "\n",
    "response = client.invoke_endpoint(\n",
    "    EndpointName=endpoint_name, ContentType=content_type, Body=payload\n",
    ")\n",
    "\n",
    "output = response[\"Body\"].read()\n",
    "\n",
    "temp1p5_json = json.loads(output)\n",
    "\n",
    "pprint(temp1p5_json)"
   ]
  },
  {
   "cell_type": "markdown",
   "metadata": {},
   "source": [
    "Change the value of 'temperature' to 10 keeping 'p' at 0.5."
   ]
  },
  {
   "cell_type": "code",
   "execution_count": null,
   "metadata": {},
   "outputs": [],
   "source": [
    "# Prompt for poetry\n",
    "# Sample from Shakespeare's Macbeth\n",
    "payload = '{\"input\": \"The merciless Macdonwald—Worthy to be a rebel, for to that\\\n",
    "The multiplying villanies of nature\\\n",
    "Do swarm upon him—from the western isles\\\n",
    "Of kerns and gallowglasses is supplied;\\\n",
    "And fortune, on his damned quarrel smiling\", \"length\": 100, \"repetition_penalty\": 1,\\\n",
    "\"num_return_sequences\": 1, \"temperature\": 10, \"p\": 0.5}'\n",
    "\n",
    "response = client.invoke_endpoint(\n",
    "    EndpointName=endpoint_name, ContentType=content_type, Body=payload\n",
    ")\n",
    "\n",
    "output = response[\"Body\"].read()\n",
    "\n",
    "output_json = json.loads(output)\n",
    "\n",
    "pprint(output_json)"
   ]
  },
  {
   "cell_type": "markdown",
   "metadata": {},
   "source": [
    "### Step 3.3: Additional Use-Cases"
   ]
  },
  {
   "cell_type": "markdown",
   "metadata": {},
   "source": [
    "Experiment: Reading Comprehension - zero-shot"
   ]
  },
  {
   "cell_type": "code",
   "execution_count": null,
   "metadata": {},
   "outputs": [],
   "source": [
    "payload = '{\"input\": \"The 2008 Summer Olympics torch relay was run from March 24 until August 8, 2008, prior to the 2008 Summer Olympics, with the theme of “one world, one dream”. Plans for the relay were announced on April 26, 2007, in Beijing, China. The relay, also called by the organizers as the “Journey of Harmony”, lasted 129 days and carried the torch 137,000 km (85,000 mi) – the longest distance of any Olympic torch relay since the tradition was started ahead of the 1936 Summer Olympics.\\\n",
    "After being lit at the birthplace of the Olympic Games in Olympia, Greece on March 24, the torch traveled to the Panathinaiko Stadium in Athens, and then to Beijing, arriving on March 31. From Beijing, the torch was following a route passing through six continents. The torch has visited cities along the Silk Road, symbolizing ancient links between China and the rest of the world. The relay also included an ascent with the flame to the top of Mount Everest on the border of Nepal and Tibet, China from the Chinese side, which was closed specially for the event.\\\n",
    "Q: Where did the race begin?\"}'\n",
    "\n",
    "response = client.invoke_endpoint(\n",
    "    EndpointName=endpoint_name, ContentType=content_type, Body=payload\n",
    ")\n",
    "\n",
    "output = response[\"Body\"].read()\n",
    "\n",
    "pprint(json.loads(output))"
   ]
  },
  {
   "cell_type": "markdown",
   "metadata": {},
   "source": [
    "Experiment: Reading Comprehension - few-shot"
   ]
  },
  {
   "cell_type": "code",
   "execution_count": null,
   "metadata": {},
   "outputs": [],
   "source": [
    "payload = '{\"input\": \"The 2008 Summer Olympics torch relay was run from March 24 until August 8, 2008, prior to the 2008 Summer Olympics, with the theme of “one world, one dream”. Plans for the relay were announced on April 26, 2007, in Beijing, China. The relay, also called by the organizers as the “Journey of Harmony”, lasted 129 days and carried the torch 137,000 km (85,000 mi) – the longest distance of any Olympic torch relay since the tradition was started ahead of the 1936 Summer Olympics.\\\n",
    "After being lit at the birthplace of the Olympic Games in Olympia, Greece on March 24, the torch traveled to the Panathinaiko Stadium in Athens, and then to Beijing, arriving on March 31. From Beijing, the torch was following a route passing through six continents. The torch has visited cities along the Silk Road, symbolizing ancient links between China and the rest of the world. The relay also included an ascent with the flame to the top of Mount Everest on the border of Nepal and Tibet, China from the Chinese side, which was closed specially for the event.\\\n",
    "Q: What was the theme?\\\n",
    "A: “one world, one dream”.\\\n",
    "Q: What was the length of the race?\\\n",
    "A: 137,000 km\\\n",
    "Q: Was it larger than previous ones?\\\n",
    "A: No\\\n",
    "Q: Where did the race begin?\\\n",
    "A: Olympia, Greece\\\n",
    "Q: Is there anything notable about that place?\\\n",
    "A: birthplace of Olympic Games\\\n",
    "Q: Where did they go after?\\\n",
    "A: \", \"length\": 5}'\n",
    "\n",
    "response = client.invoke_endpoint(\n",
    "    EndpointName=endpoint_name, ContentType=content_type, Body=payload\n",
    ")\n",
    "\n",
    "output = response[\"Body\"].read()\n",
    "\n",
    "pprint(json.loads(output))"
   ]
  },
  {
   "cell_type": "markdown",
   "metadata": {},
   "source": [
    "Experiment: Question Answering"
   ]
  },
  {
   "cell_type": "code",
   "execution_count": null,
   "metadata": {},
   "outputs": [],
   "source": [
    "payload = '{\"input\": \"Who wrote the book the origin of species?\"}'\n",
    "\n",
    "response = client.invoke_endpoint(\n",
    "    EndpointName=endpoint_name, ContentType=content_type, Body=payload\n",
    ")\n",
    "\n",
    "output = response[\"Body\"].read()\n",
    "\n",
    "pprint(json.loads(output))"
   ]
  },
  {
   "cell_type": "markdown",
   "metadata": {},
   "source": [
    "Experiment: Summarization"
   ]
  },
  {
   "cell_type": "code",
   "execution_count": null,
   "metadata": {},
   "outputs": [],
   "source": [
    "payload = '{\"input\": \"If you can find my submarine, it’s yours,’ Russian oil billionaire Roman Abramovich once said.\\\n",
    "And it seems the oligarch and Chelsea FC owner, whose submarine is just one of the extras that came with his\\\n",
    "£300million superyacht Eclipse (perfect for getting to shore undetected), is not the only wealthy businessman\\\n",
    "splashing out on underwater exploration.\\\n",
    "Dubbed Earth’s real ‘final frontier’, the oceans are still so little-explored that billionaires are queuing up to buy\\\n",
    "vessels that give them a glimpse of the dramatic seascapes and incredible wildlife of the world’s oceans.\\\n",
    "So if you have a spare few million in the bank and want some holiday snaps and Instagram posts that will really\\\n",
    "trump everyone else, you may want to snap up one of these...\\\n",
    "Whale of a time: The OrcaSub takes you 2000 feet beneath the surface in two pressurised Perspex viewing domes\\\n",
    "for optimum exploration \\\n",
    "...\"}'\n",
    "\n",
    "response = client.invoke_endpoint(\n",
    "    EndpointName=endpoint_name, ContentType=content_type, Body=payload\n",
    ")\n",
    "\n",
    "output = response[\"Body\"].read()\n",
    "\n",
    "pprint(json.loads(output))"
   ]
  },
  {
   "cell_type": "markdown",
   "metadata": {},
   "source": [
    "Experiment: Machine Translation: Translate French sentences to English"
   ]
  },
  {
   "cell_type": "code",
   "execution_count": null,
   "metadata": {},
   "outputs": [],
   "source": [
    "payload = '{\"input\": \"Un homme expliquait que le fonctionnement de la hernia\\\n",
    "fonctionnelle qu’il avait reconnaˆıt avant de faire, le fonctionnement de la hernia fonctionnelle que j’ai reussi, j’ai ´\\\n",
    "reussi. English\"}'\n",
    "\n",
    "response = client.invoke_endpoint(\n",
    "    EndpointName=endpoint_name, ContentType=content_type, Body=payload\n",
    ")\n",
    "\n",
    "output = response[\"Body\"].read()\n",
    "\n",
    "pprint(json.loads(output))"
   ]
  },
  {
   "cell_type": "markdown",
   "metadata": {},
   "source": [
    "Structure the prompt to include 'English = '"
   ]
  },
  {
   "cell_type": "code",
   "execution_count": null,
   "metadata": {},
   "outputs": [],
   "source": [
    "payload = '{\"input\": \"S’exprimant lors d’une conference intergouvernementale ´\\\n",
    "a Londres par liaison vid ` eo, M. Kerry a d ´ eclar ´ e: ”Il est ´\\\n",
    "indeniable que le Pr ´ esident, moi-m ´ eme et d’autres mem- ˆ\\\n",
    "bres du gouvernement avons pris connaissance de certaines choses en mode pilote automatique parce que nous\\\n",
    "en avions la possibilite, d ´ es la Seconde guerre mondiale et `\\\n",
    "jusqu’aux annees difficiles de la Guerre froide, puis bien ´\\\n",
    "sur le 11 septembre.” English =\"}'\n",
    "\n",
    "response = client.invoke_endpoint(\n",
    "    EndpointName=endpoint_name, ContentType=content_type, Body=payload\n",
    ")\n",
    "\n",
    "output = response[\"Body\"].read()\n",
    "\n",
    "pprint(json.loads(output))"
   ]
  },
  {
   "cell_type": "markdown",
   "metadata": {},
   "source": [
    "Here are a few things you can do to continue experimenting with this model\n",
    "1. Try different prompts representing other genres of writing such as science fiction, non-fiction, essay, novel, etc.\n",
    "2. Play with the parameter settings to see which generates novel, coherent ideas for writing"
   ]
  },
  {
   "cell_type": "markdown",
   "metadata": {},
   "source": [
    "### Step 3.4: Delete Amazon SageMaker endpoint"
   ]
  },
  {
   "cell_type": "markdown",
   "metadata": {},
   "source": [
    "Delete the endpoint when you no longer need it, to avoid getting charged for it."
   ]
  },
  {
   "cell_type": "code",
   "execution_count": null,
   "metadata": {},
   "outputs": [],
   "source": [
    "sagemaker_session.delete_endpoint(endpoint_name)\n",
    "sagemaker_session.delete_endpoint_config(endpoint_name)"
   ]
  },
  {
   "cell_type": "markdown",
   "metadata": {},
   "source": [
    "## Step 4: Use Amazon SageMaker batch transform"
   ]
  },
  {
   "cell_type": "markdown",
   "metadata": {},
   "source": [
    "Use batch transform to run inference when you don't need a persistent endpoint. You would need to specify the following arguments in the job:\n",
    "* Hardware specification (instance count and type).\n",
    "* strategy: determines how records should be batched into each prediction request within the batch transform job. For this job specify 'SingleRecord'. 'MultiRecord' may be used for batching inputs.\n",
    "* assemble_with: Which controls how predictions are output. 'None' does not perform any special processing, 'Line' places each prediction on its own line.\n",
    "* output_path: The S3 location for batch transform to be output. Note, file(s) will be named with '.out' suffixed to the input file(s) names. In this case, the output file will be 'input.json.out'. Note that in this case, multiple batch transform runs will overwrite existing files in the S3 bucket."
   ]
  },
  {
   "cell_type": "markdown",
   "metadata": {},
   "source": [
    "### Step 4.1: Create input file for batch transform job"
   ]
  },
  {
   "cell_type": "code",
   "execution_count": null,
   "metadata": {},
   "outputs": [],
   "source": [
    "file_name = \"input.json\""
   ]
  },
  {
   "cell_type": "code",
   "execution_count": null,
   "metadata": {},
   "outputs": [],
   "source": [
    "%%writefile $file_name\n",
    "\n",
    "{\n",
    "    \"input\": \"The merciless Macdonwald—Worthy to be a rebel, for to that The multiplying villanies of nature Do swarm upon him—from the western isles Of kerns and gallowglasses is supplied; And fortune, on his damned quarrel smiling\",\n",
    "    \"length\": 50,\n",
    "    \"repetition_penalty\": 1,\n",
    "    \"num_return_sequences\": 3,\n",
    "}"
   ]
  },
  {
   "cell_type": "markdown",
   "metadata": {},
   "source": [
    "### Step 4.2: Upload file to S3"
   ]
  },
  {
   "cell_type": "code",
   "execution_count": null,
   "metadata": {},
   "outputs": [],
   "source": [
    "# upload the file to S3\n",
    "transform_input = sagemaker_session.upload_data(file_name, key_prefix=endpoint_name)\n",
    "print(\"Transform input uploaded to \" + transform_input)"
   ]
  },
  {
   "cell_type": "markdown",
   "metadata": {},
   "source": [
    "### Step 4.3: Execute the batch transform job"
   ]
  },
  {
   "cell_type": "markdown",
   "metadata": {},
   "source": [
    "Output from the batch transform job will be saved to S3 bucket in the 'output_path'"
   ]
  },
  {
   "cell_type": "code",
   "execution_count": null,
   "metadata": {
    "scrolled": true
   },
   "outputs": [],
   "source": [
    "# Run a batch-transform job\n",
    "transformer = model.transformer(\n",
    "    instance_count=1,\n",
    "    instance_type=\"ml.m4.2xlarge\",\n",
    "    strategy=\"SingleRecord\",\n",
    "    assemble_with=\"Line\",\n",
    "    output_path=\"s3://{}/{}/output\".format(bucket, endpoint_name),\n",
    ")\n",
    "transformer.transform(transform_input, content_type=content_type)\n",
    "transformer.wait()"
   ]
  },
  {
   "cell_type": "code",
   "execution_count": null,
   "metadata": {},
   "outputs": [],
   "source": [
    "# output is available on following path\n",
    "transformer.output_path"
   ]
  },
  {
   "cell_type": "markdown",
   "metadata": {},
   "source": [
    "### Step 4.4: Visualize output"
   ]
  },
  {
   "cell_type": "code",
   "execution_count": null,
   "metadata": {},
   "outputs": [],
   "source": [
    "from urllib.parse import urlparse\n",
    "\n",
    "parsed_url = urlparse(transformer.output_path)\n",
    "bucket_name = parsed_url.netloc\n",
    "file_key = \"{}/{}.out\".format(parsed_url.path[1:], file_name.split(\"/\")[-1])\n",
    "print(file_key)\n",
    "s3_client = boto3.client(\"s3\")\n",
    "\n",
    "response = s3_client.get_object(Bucket=sagemaker_session.default_bucket(), Key=file_key)"
   ]
  },
  {
   "cell_type": "code",
   "execution_count": null,
   "metadata": {},
   "outputs": [],
   "source": [
    "output = response[\"Body\"].read()\n",
    "\n",
    "pprint(json.loads(output))"
   ]
  },
  {
   "cell_type": "markdown",
   "metadata": {},
   "source": [
    "### Step 4.5: Delete the model"
   ]
  },
  {
   "cell_type": "code",
   "execution_count": null,
   "metadata": {},
   "outputs": [],
   "source": [
    "model.delete_model()"
   ]
  },
  {
   "cell_type": "markdown",
   "metadata": {},
   "source": [
    "## Step 5: Next steps"
   ]
  },
  {
   "cell_type": "markdown",
   "metadata": {},
   "source": [
    "### Step 5.1: Additional resources"
   ]
  },
  {
   "cell_type": "markdown",
   "metadata": {},
   "source": [
    "Here are few other models from AWS Marketplace you can explore to see what generative AI/ML models can do.\n",
    "\n",
    "1. [GluonNLP Sentence Generator](https://aws.amazon.com/marketplace/pp/prodview-vajwpk2u7y5om). Pre-trained sequence sampler for sentence generation, powered by GluonNLP.\n",
    "2. [Mphasis Natural Language Sentence Generator](https://aws.amazon.com/marketplace/pp/prodview-yzp2pki67ipa4). The solution generates new text data from existing data using data augmentation at the sentence level.\n",
    "3. [Mphasis DeepInsights Text Paraphraser](https://aws.amazon.com/marketplace/pp/prodview-jtw7qhzepbjp2). The solution paraphrases textual data using Natural Language Processing techniques.\n",
    "4. [appen Lyrics Generator (CPU)](https://aws.amazon.com/marketplace/pp/prodview-qqzh5iao6si4c). This model will generate lyrics for your next Billboard-topping single."
   ]
  },
  {
   "cell_type": "markdown",
   "metadata": {},
   "source": [
    "### Step 5.2: Cancel AWS Marketplace subscription"
   ]
  },
  {
   "cell_type": "markdown",
   "metadata": {},
   "source": [
    "Finally, if you subscribed to AWS Marketplace model for an experiment and would like to unsubscribe, you can follow the steps below. Before you cancel the subscription, ensure that you do not have any [deployable model](https://console.aws.amazon.com/sagemaker/home#/models) created from the model package or using the algorithm. Note - You can find this information by looking at the container name associated with the model.\n",
    "\n",
    "**Steps to unsubscribe from the product on AWS Marketplace:**\n",
    "\n",
    "Navigate to Machine Learning tab on Your [Software subscriptions page](https://aws.amazon.com/marketplace/ai/library?productType=ml&ref_=lbr_tab_ml).\n",
    "Locate the listing that you would need to cancel, and click Cancel Subscription."
   ]
  },
  {
   "cell_type": "code",
   "execution_count": null,
   "metadata": {},
   "outputs": [],
   "source": []
  }
 ],
 "metadata": {
  "instance_type": "ml.t3.medium",
  "kernelspec": {
   "display_name": "conda_python3",
   "language": "python",
   "name": "conda_python3"
  },
  "language_info": {
   "codemirror_mode": {
    "name": "ipython",
    "version": 3
   },
   "file_extension": ".py",
   "mimetype": "text/x-python",
   "name": "python",
   "nbconvert_exporter": "python",
   "pygments_lexer": "ipython3",
   "version": "3.6.13"
  }
 },
 "nbformat": 4,
 "nbformat_minor": 4
}
