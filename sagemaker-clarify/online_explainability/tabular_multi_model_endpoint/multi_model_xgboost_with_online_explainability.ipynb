{
 "cells": [
  {
   "cell_type": "markdown",
   "id": "ddf1b419",
   "metadata": {
    "tags": []
   },
   "source": [
    "# SageMaker Clarify Online Explainability on Multi-Model Endpoint"
   ]
  },
  {
   "attachments": {},
   "cell_type": "markdown",
   "id": "ffa6140f",
   "metadata": {},
   "source": [
    "---\n",
    "\n",
    "This notebook's CI test result for us-west-2 is as follows. CI test results in other regions can be found at the end of the notebook. \n",
    "\n",
    "![This us-west-2 badge failed to load. Check your device's internet connectivity, otherwise the service is currently unavailable](https://h75twx4l60.execute-api.us-west-2.amazonaws.com/sagemaker-nb/us-west-2/sagemaker-clarify|online_explainability|tabular_multi_model_endpoint|multi_model_xgboost_with_online_explainability.ipynb)\n",
    "\n",
    "---"
   ]
  },
  {
   "cell_type": "markdown",
   "id": "885111e2",
   "metadata": {},
   "source": [
    "## Runtime\n",
    "This notebook takes approximately 20 minutes to run"
   ]
  },
  {
   "cell_type": "markdown",
   "id": "e01c746e",
   "metadata": {},
   "source": [
    "## Contents"
   ]
  },
  {
   "cell_type": "markdown",
   "id": "37b23936",
   "metadata": {},
   "source": [
    "1. [Introduction](#Introduction)\n",
    "1. [General Setup](#General-Setup)\n",
    "    1. [Install dependencies](#Install-dependencies)\n",
    "    1. [Import libraries](#Import-libraries)\n",
    "    1. [Set configurations](#Set-configurations)\n",
    "    1. [Create serializer and deserializer](#Create-serializer-and-deserializer)\n",
    "    1. [For visualization](#For-visualization)\n",
    "1. [Prepare data](#Prepare-data)\n",
    "    1. [Split a given dataset into train, validation, and test](#Split-a-given-dataset-into-train,-validation,-and-test)\n",
    "1. [Train multiple house value prediction models](#Train-multiple-house-value-prediction-models)\n",
    "    1. [Launch a single training job for a given housing location](#Launch-a-single-training-job-for-a-given-housing-location)\n",
    "    1. [Kick off a model training job for each housing location](#Kick-off-a-model-training-job-for-each-housing-location)\n",
    "    1. [Wait for all model training to finish](#Wait-for-all-model-training-to-finish)\n",
    "    1. [Move model artifacts to an S3 location](#Move-model-artifacts-to-an-S3-location)\n",
    "1. [Create Endpoint](#Create-Endpoint)\n",
    "    1. [Create model](#Create-model)\n",
    "    1. [Create endpoint config](#Create-endpoint-config)\n",
    "    1. [Create endpoint](#Create-endpoint)\n",
    "1. [Invoke endpoint](#Invoke-endpoint)\n",
    "    1. [Single record request: First Model](#Single-record-request:-First-Model)\n",
    "    1. [Single record request: Second Model](#Single-record-request:-Second-Model)\n",
    "    1. [Single record request, no explanation](#Single-record-request,-no-explanation)\n",
    "    1. [Batch request](#Batch-request)\n",
    "1. [Cleanup](#Cleanup)"
   ]
  },
  {
   "cell_type": "markdown",
   "id": "ee0f8490",
   "metadata": {},
   "source": [
    "## Introduction\n",
    "\n",
    "Amazon SageMaker Clarify helps improve your machine learning models by detecting potential bias and helping explain how these models make predictions. The fairness and explainability functionality provided by SageMaker Clarify takes a step towards enabling AWS customers to build trustworthy and understandable machine learning models. Customers can now configure [Online Explainability with SageMaker Clarify](https://docs.aws.amazon.com/sagemaker/latest/dg/clarify-online-explainability.html) on [SageMaker real-time inference endpoints](https://docs.aws.amazon.com/sagemaker/latest/dg/realtime-endpoints.html).\n",
    "\n",
    "With [Amazon SageMaker multi-model endpoints](https://docs.aws.amazon.com/sagemaker/latest/dg/multi-model-endpoints.html), customers can create an endpoint that seamlessly hosts up to thousands of models. These endpoints are well suited to use cases where any one of many models is needed, which can be served from a common inference container to save inference costs, needs to be invoked on-demand and where it is acceptable for infrequently invoked models to incur some additional latency. For applications which require consistently low inference latency, an endpoint deploying a single model is still the best choice.\n",
    "\n",
    "This example notebook showcases how to create a multi-model endpoint with online explainability enabled. To demonstrate how multi-model endpoints are created and used, this notebook provides an example using a set of XGBoost models that each predict housing prices for a single location. Then the example notebook walks you through key terms and concepts needed to understand SageMaker Clarify, create an endpoint configuration with the new SageMaker Clarify explainer configuration and create an endpoint using the same explainer configuration."
   ]
  },
  {
   "cell_type": "markdown",
   "id": "58b73600",
   "metadata": {},
   "source": [
    "## General Setup\n",
    "\n",
    "We recommend you use `Python 3 (Data Science)` kernel on SageMaker Studio or `conda_python3` kernel on SageMaker Notebook Instance."
   ]
  },
  {
   "cell_type": "markdown",
   "id": "076d6f6e",
   "metadata": {},
   "source": [
    "### Install dependencies"
   ]
  },
  {
   "cell_type": "code",
   "execution_count": null,
   "id": "a54be615",
   "metadata": {
    "tags": []
   },
   "outputs": [],
   "source": [
    "!pip install sagemaker --upgrade\n",
    "!pip install boto3 --upgrade\n",
    "!pip install shap --upgrade\n",
    "!pip install matplotlib"
   ]
  },
  {
   "cell_type": "markdown",
   "id": "9489be5c",
   "metadata": {},
   "source": [
    "### Import libraries"
   ]
  },
  {
   "cell_type": "code",
   "execution_count": 3,
   "id": "b2053e5b",
   "metadata": {
    "tags": []
   },
   "outputs": [],
   "source": [
    "import boto3\n",
    "import io\n",
    "import os\n",
    "import sagemaker\n",
    "import shap\n",
    "import shutil\n",
    "import time\n",
    "import pprint\n",
    "import pandas as pd\n",
    "import numpy as np\n",
    "from collections import OrderedDict\n",
    "from sagemaker import get_execution_role, image_uris, Session\n",
    "from sagemaker.deserializers import JSONDeserializer\n",
    "from sagemaker.serializers import CSVSerializer\n",
    "from sagemaker.utils import unique_name_from_base\n",
    "from sklearn.model_selection import train_test_split"
   ]
  },
  {
   "cell_type": "markdown",
   "id": "387d2e04",
   "metadata": {},
   "source": [
    "### Set configurations"
   ]
  },
  {
   "cell_type": "code",
   "execution_count": 4,
   "id": "167d14c2",
   "metadata": {
    "tags": []
   },
   "outputs": [
    {
     "name": "stdout",
     "output_type": "stream",
     "text": [
      "Region: us-west-2\n",
      "Role: arn:aws:iam::000000000000:role/service-role/AmazonSageMaker-ExecutionRole-20220304T121686\n",
      "Demo model name: DEMO-MME-OnlineExplainability-1675298295-a04d-model\n",
      "Demo endpoint config name: DEMO-MME-OnlineExplainability-1675298295-a04d-endpoint-config\n",
      "Demo endpoint name: DEMO-MME-OnlineExplainability-1675298295-a04d-endpoint\n"
     ]
    }
   ],
   "source": [
    "boto3_session = boto3.session.Session()\n",
    "sagemaker_client = boto3.client(\"sagemaker\")\n",
    "sagemaker_runtime_client = boto3.client(\"sagemaker-runtime\")\n",
    "\n",
    "# Initialize sagemaker session\n",
    "sagemaker_session = Session(\n",
    "    boto_session=boto3_session,\n",
    "    sagemaker_client=sagemaker_client,\n",
    "    sagemaker_runtime_client=sagemaker_runtime_client,\n",
    ")\n",
    "\n",
    "region = sagemaker_session.boto_region_name\n",
    "print(f\"Region: {region}\")\n",
    "\n",
    "role = get_execution_role()\n",
    "print(f\"Role: {role}\")\n",
    "\n",
    "s3 = boto3.resource(\"s3\")\n",
    "bucket = sagemaker_session.default_bucket()\n",
    "\n",
    "prefix = unique_name_from_base(\"DEMO-MME-OnlineExplainability\")\n",
    "multi_model_artifacts = \"multi_model_artifacts\"\n",
    "\n",
    "model_name = f\"{prefix}-model\"\n",
    "print(f\"Demo model name: {model_name}\")\n",
    "endpoint_config_name = f\"{prefix}-endpoint-config\"\n",
    "print(f\"Demo endpoint config name: {endpoint_config_name}\")\n",
    "endpoint_name = f\"{prefix}-endpoint\"\n",
    "print(f\"Demo endpoint name: {endpoint_name}\")\n",
    "\n",
    "# Instance type for training and hosting\n",
    "instance_type = \"ml.m5.xlarge\""
   ]
  },
  {
   "cell_type": "markdown",
   "id": "d85db0e6",
   "metadata": {},
   "source": [
    "### Create serializer and deserializer"
   ]
  },
  {
   "cell_type": "markdown",
   "id": "f0d72653",
   "metadata": {},
   "source": [
    "CSV serializer to serialize test data to string"
   ]
  },
  {
   "cell_type": "code",
   "execution_count": 5,
   "id": "0abe8239",
   "metadata": {
    "tags": []
   },
   "outputs": [],
   "source": [
    "csv_serializer = CSVSerializer()"
   ]
  },
  {
   "cell_type": "markdown",
   "id": "479b0a9d",
   "metadata": {},
   "source": [
    "JSON deserializer to deserialize invoke endpoint response"
   ]
  },
  {
   "cell_type": "code",
   "execution_count": 6,
   "id": "644eb8f5",
   "metadata": {
    "tags": []
   },
   "outputs": [],
   "source": [
    "json_deserializer = JSONDeserializer()"
   ]
  },
  {
   "cell_type": "markdown",
   "id": "43c6e20a",
   "metadata": {},
   "source": [
    "### For visualization\n",
    "\n",
    "SHAP plots are useful visualization tools to interpret the explanations. For example, [SHAP additive force layout](https://shap.readthedocs.io/en/latest/generated/shap.plots.force.html) shows how each feature contributes to pushing the base value (also called the expected value which is the mean predictions of the training dataset) to the corresponding prediction. Features that push the prediction higher are in red color, while those push the prediction lower are in blue."
   ]
  },
  {
   "cell_type": "code",
   "execution_count": 7,
   "id": "423c778a",
   "metadata": {
    "tags": []
   },
   "outputs": [],
   "source": [
    "def force_plot(expected_value, shap_values, feature_data, feature_headers):\n",
    "    \"\"\"\n",
    "    Visualize the given SHAP values with an additive force layout.\n",
    "\n",
    "    For more information: https://shap.readthedocs.io/en/latest/example_notebooks/tabular_examples/tree_based_models/Force%20Plot%20Colors.html\n",
    "    \"\"\"\n",
    "    force_plot_display = shap.plots.force(\n",
    "        base_value=expected_value,\n",
    "        shap_values=shap_values,\n",
    "        features=feature_data,\n",
    "        feature_names=feature_headers,\n",
    "        matplotlib=True,\n",
    "    )\n",
    "\n",
    "\n",
    "def display_plots(explanations, expected_value, request_records, predictions):\n",
    "    \"\"\"\n",
    "    Display the Model Explainability plots\n",
    "    \"\"\"\n",
    "    per_request_shap_values = OrderedDict()\n",
    "    feature_headers = []\n",
    "    for i, record_output in enumerate(explanations):\n",
    "        per_record_shap_values = []\n",
    "        if record_output is not None:\n",
    "            feature_headers = []\n",
    "            for feature_attribution in record_output:\n",
    "                per_record_shap_values.append(\n",
    "                    feature_attribution[\"attributions\"][0][\"attribution\"][0]\n",
    "                )\n",
    "                feature_headers.append(feature_attribution[\"feature_header\"])\n",
    "            per_request_shap_values[i] = per_record_shap_values\n",
    "\n",
    "    for record_index, shap_values in per_request_shap_values.items():\n",
    "        print(\n",
    "            f\"Visualize the SHAP values for Record number {record_index + 1} with Model Prediction: {predictions[0][record_index]}\"\n",
    "        )\n",
    "        force_plot(\n",
    "            expected_value,\n",
    "            np.array(shap_values),\n",
    "            request_records.iloc[record_index],\n",
    "            feature_headers,\n",
    "        )\n",
    "\n",
    "\n",
    "def visualize_result(result, request_records, expected_value):\n",
    "    \"\"\"\n",
    "    Visualize the output from the endpoint.\n",
    "    \"\"\"\n",
    "    predictions = pd.read_csv(io.StringIO(result[\"predictions\"][\"data\"]), header=None)\n",
    "    predictions = predictions.values.tolist()\n",
    "    print(f\"Model Inference output: \")\n",
    "    for i, model_output in enumerate(predictions):\n",
    "        print(f\"Record: {i + 1}\\tModel Prediction: {model_output[0]}\")\n",
    "\n",
    "    if \"kernel_shap\" in result[\"explanations\"]:\n",
    "        explanations = result[\"explanations\"][\"kernel_shap\"]\n",
    "        display_plots(explanations, expected_value, request_records, predictions)\n",
    "    else:\n",
    "        print(f\"No Clarify explanations for the record(s)\")"
   ]
  },
  {
   "cell_type": "markdown",
   "id": "58320890",
   "metadata": {},
   "source": [
    "## Prepare data\n",
    "The code below contains helper functions to prepare data in the form of a `1x7` NumPy array representing the features of a house.\n",
    "\n",
    "The first entry in the array is the randomly generated price of a house. The remaining entries are the features (i.e. number of bedroom, square feet, number of bathrooms, etc.).\n",
    "\n",
    "These functions will be used to prepare data for training, validation, and testing. It will also allow us to submit payloads for inference to test our multi-model endpoint.\n",
    "\n",
    "Note: The content of this section is referred from an [existing multi-model endpoint example notebook](https://github.com/aws/amazon-sagemaker-examples/blob/main/advanced_functionality/multi_model_sklearn_home_value/sklearn_multi_model_endpoint_home_value.ipynb)."
   ]
  },
  {
   "cell_type": "code",
   "execution_count": 8,
   "id": "56375def",
   "metadata": {
    "tags": []
   },
   "outputs": [],
   "source": [
    "NUM_HOUSES_PER_LOCATION = 1000\n",
    "LOCATIONS = [\n",
    "    \"NewYork_NY\",\n",
    "    \"LosAngeles_CA\",\n",
    "    \"Chicago_IL\",\n",
    "    \"Houston_TX\",\n",
    "    \"Dallas_TX\",\n",
    "    \"Phoenix_AZ\",\n",
    "    \"Philadelphia_PA\",\n",
    "    \"SanAntonio_TX\",\n",
    "    \"SanDiego_CA\",\n",
    "    \"SanFrancisco_CA\",\n",
    "]\n",
    "PARALLEL_TRAINING_JOBS = 4  # len(LOCATIONS) if your account limits can handle it\n",
    "MAX_YEAR = 2022\n",
    "FEATURE_HEADERS = [\n",
    "    \"YEAR_BUILT\",\n",
    "    \"SQUARE_FEET\",\n",
    "    \"NUM_BEDROOMS\",\n",
    "    \"NUM_BATHROOMS\",\n",
    "    \"LOT_ACRES\",\n",
    "    \"GARAGE_SPACES\",\n",
    "]"
   ]
  },
  {
   "cell_type": "code",
   "execution_count": 9,
   "id": "33bacf73",
   "metadata": {
    "scrolled": true,
    "tags": []
   },
   "outputs": [],
   "source": [
    "def gen_price(house):\n",
    "    _base_price = int(house[\"SQUARE_FEET\"] * 150)\n",
    "    _price = int(\n",
    "        _base_price\n",
    "        + (10000 * house[\"NUM_BEDROOMS\"])\n",
    "        + (15000 * house[\"NUM_BATHROOMS\"])\n",
    "        + (15000 * house[\"LOT_ACRES\"])\n",
    "        + (15000 * house[\"GARAGE_SPACES\"])\n",
    "        - (5000 * (MAX_YEAR - house[\"YEAR_BUILT\"]))\n",
    "    )\n",
    "    return _price"
   ]
  },
  {
   "cell_type": "code",
   "execution_count": 10,
   "id": "7577d13b",
   "metadata": {
    "scrolled": true,
    "tags": []
   },
   "outputs": [],
   "source": [
    "def gen_random_house():\n",
    "    _house = {\n",
    "        \"SQUARE_FEET\": int(np.random.normal(3000, 750)),\n",
    "        \"NUM_BEDROOMS\": np.random.randint(2, 7),\n",
    "        \"NUM_BATHROOMS\": np.random.randint(2, 7) / 2,\n",
    "        \"LOT_ACRES\": round(np.random.normal(1.0, 0.25), 2),\n",
    "        \"GARAGE_SPACES\": np.random.randint(0, 4),\n",
    "        \"YEAR_BUILT\": min(MAX_YEAR, int(np.random.normal(1995, 10))),\n",
    "    }\n",
    "    _price = gen_price(_house)\n",
    "    return [\n",
    "        _price,\n",
    "        _house[\"YEAR_BUILT\"],\n",
    "        _house[\"SQUARE_FEET\"],\n",
    "        _house[\"NUM_BEDROOMS\"],\n",
    "        _house[\"NUM_BATHROOMS\"],\n",
    "        _house[\"LOT_ACRES\"],\n",
    "        _house[\"GARAGE_SPACES\"],\n",
    "    ]"
   ]
  },
  {
   "cell_type": "code",
   "execution_count": 11,
   "id": "837618aa",
   "metadata": {
    "scrolled": true,
    "tags": []
   },
   "outputs": [],
   "source": [
    "def gen_houses(num_houses):\n",
    "    _house_list = []\n",
    "    for i in range(num_houses):\n",
    "        _house_list.append(gen_random_house())\n",
    "    _df = pd.DataFrame(\n",
    "        _house_list,\n",
    "        columns=[\n",
    "            \"PRICE\",\n",
    "            \"YEAR_BUILT\",\n",
    "            \"SQUARE_FEET\",\n",
    "            \"NUM_BEDROOMS\",\n",
    "            \"NUM_BATHROOMS\",\n",
    "            \"LOT_ACRES\",\n",
    "            \"GARAGE_SPACES\",\n",
    "        ],\n",
    "    )\n",
    "    return _df"
   ]
  },
  {
   "cell_type": "markdown",
   "id": "f79bb01d",
   "metadata": {},
   "source": [
    "### Split a given dataset into train, validation, and test\n",
    "\n",
    "The code below will generate three sets of data. One set to train, one set for validation and one for testing."
   ]
  },
  {
   "cell_type": "code",
   "execution_count": 12,
   "id": "38bda7b8",
   "metadata": {
    "tags": []
   },
   "outputs": [],
   "source": [
    "SEED = 7\n",
    "SPLIT_RATIOS = [0.6, 0.3, 0.1]\n",
    "\n",
    "\n",
    "def split_data(df):\n",
    "    # split data into train and test sets\n",
    "    seed = SEED\n",
    "    val_size = SPLIT_RATIOS[1]\n",
    "    test_size = SPLIT_RATIOS[2]\n",
    "\n",
    "    num_samples = df.shape[0]\n",
    "    X1 = df.values[:num_samples, 1:]  # keep only the features, skip the target, all rows\n",
    "    Y1 = df.values[:num_samples, :1]  # keep only the target, all rows\n",
    "\n",
    "    # Use split ratios to divide up into train/val/test\n",
    "    X_train, X_val, y_train, y_val = train_test_split(\n",
    "        X1, Y1, test_size=(test_size + val_size), random_state=seed\n",
    "    )\n",
    "    # Of the remaining non-training samples, give proper ratio to validation and to test\n",
    "    X_test, X_test, y_test, y_test = train_test_split(\n",
    "        X_val, y_val, test_size=(test_size / (test_size + val_size)), random_state=seed\n",
    "    )\n",
    "    # reassemble the datasets with target in first column and features after that\n",
    "    _train = np.concatenate([y_train, X_train], axis=1)\n",
    "    _val = np.concatenate([y_val, X_val], axis=1)\n",
    "    _test = np.concatenate([y_test, X_test], axis=1)\n",
    "\n",
    "    return _train, _val, _test"
   ]
  },
  {
   "cell_type": "markdown",
   "id": "e192b00b",
   "metadata": {},
   "source": [
    "## Train multiple house value prediction models\n",
    "\n",
    "In the follow section, we are setting up the code to train a house price prediction model for each of 4 different cities.\n",
    "\n",
    "As such, we will launch multiple training jobs asynchronously, using the XGBoost algorithm.\n",
    "\n",
    "In this notebook, we will be using the AWS Managed XGBoost Image for both training and inference - this image provides native support for launching multi-model endpoints.\n",
    "\n",
    "Note: The content of this section is referred from an [existing multi-model endpoint example notebook](https://github.com/aws/amazon-sagemaker-examples/blob/main/advanced_functionality/multi_model_sklearn_home_value/sklearn_multi_model_endpoint_home_value.ipynb)."
   ]
  },
  {
   "cell_type": "code",
   "execution_count": 13,
   "id": "916b25e6",
   "metadata": {
    "tags": []
   },
   "outputs": [
    {
     "data": {
      "text/plain": [
       "'246618743249.dkr.ecr.us-west-2.amazonaws.com/sagemaker-xgboost:1.5-1'"
      ]
     },
     "execution_count": 13,
     "metadata": {},
     "output_type": "execute_result"
    }
   ],
   "source": [
    "# This is references the AWS managed XGBoost container\n",
    "xgboost_image = image_uris.retrieve(\n",
    "    region=boto3.Session().region_name, framework=\"xgboost\", version=\"1.5-1\"\n",
    ")\n",
    "xgboost_image"
   ]
  },
  {
   "cell_type": "markdown",
   "id": "7bd898fb",
   "metadata": {},
   "source": [
    "### Launch a single training job for a given housing location\n",
    "There is nothing specific to multi-model endpoints in terms of the models it will host. They are trained in the same way as all other SageMaker models. Here we are using the XGBoost estimator and not waiting for the job to complete."
   ]
  },
  {
   "cell_type": "code",
   "execution_count": 14,
   "id": "d262c5db",
   "metadata": {
    "tags": []
   },
   "outputs": [],
   "source": [
    "def launch_training_job(location):\n",
    "    # clear out old versions of the data\n",
    "    s3_bucket = s3.Bucket(bucket)\n",
    "    full_input_prefix = f\"{prefix}/model_prep/{location}\"\n",
    "    s3_bucket.objects.filter(Prefix=full_input_prefix + \"/\").delete()\n",
    "\n",
    "    # upload the entire set of data for all three channels\n",
    "    local_folder = f\"data/{location}\"\n",
    "    inputs = sagemaker_session.upload_data(path=local_folder, key_prefix=full_input_prefix)\n",
    "    print(f\"Training data uploaded: {inputs}\")\n",
    "\n",
    "    _job = \"xgb-{}\".format(location.replace(\"_\", \"-\"))\n",
    "    full_output_prefix = f\"{prefix}/model_artifacts/{location}\"\n",
    "    s3_output_path = f\"s3://{bucket}/{full_output_prefix}\"\n",
    "\n",
    "    xgb = sagemaker.estimator.Estimator(\n",
    "        xgboost_image,\n",
    "        role,\n",
    "        instance_count=1,\n",
    "        instance_type=instance_type,\n",
    "        output_path=s3_output_path,\n",
    "        base_job_name=_job,\n",
    "        sagemaker_session=sagemaker_session,\n",
    "    )\n",
    "\n",
    "    xgb.set_hyperparameters(\n",
    "        max_depth=5,\n",
    "        eta=0.2,\n",
    "        gamma=4,\n",
    "        min_child_weight=6,\n",
    "        subsample=0.8,\n",
    "        verbosity=0,\n",
    "        early_stopping_rounds=5,\n",
    "        objective=\"reg:squarederror\",\n",
    "        num_round=25,\n",
    "    )\n",
    "\n",
    "    DISTRIBUTION_MODE = \"FullyReplicated\"\n",
    "\n",
    "    train_input = sagemaker.inputs.TrainingInput(\n",
    "        s3_data=inputs + \"/train\", distribution=DISTRIBUTION_MODE, content_type=\"csv\"\n",
    "    )\n",
    "\n",
    "    val_input = sagemaker.inputs.TrainingInput(\n",
    "        s3_data=inputs + \"/val\", distribution=DISTRIBUTION_MODE, content_type=\"csv\"\n",
    "    )\n",
    "\n",
    "    remote_inputs = {\"train\": train_input, \"validation\": val_input}\n",
    "\n",
    "    xgb.fit(remote_inputs, wait=False)\n",
    "\n",
    "    # Return the estimator object\n",
    "    return xgb"
   ]
  },
  {
   "cell_type": "markdown",
   "id": "f59f7005",
   "metadata": {},
   "source": [
    "### Kick off a model training job for each housing location"
   ]
  },
  {
   "cell_type": "code",
   "execution_count": 15,
   "id": "8a459f20",
   "metadata": {
    "tags": []
   },
   "outputs": [],
   "source": [
    "def save_data_locally(location, train, val, test):\n",
    "    os.makedirs(f\"data/{location}/train\")\n",
    "    np.savetxt(f\"data/{location}/train/{location}_train.csv\", train, delimiter=\",\", fmt=\"%.2f\")\n",
    "\n",
    "    os.makedirs(f\"data/{location}/val\")\n",
    "    np.savetxt(f\"data/{location}/val/{location}_val.csv\", val, delimiter=\",\", fmt=\"%.2f\")\n",
    "\n",
    "    os.makedirs(f\"data/{location}/test\")\n",
    "    np.savetxt(f\"data/{location}/test/{location}_test.csv\", test, delimiter=\",\", fmt=\"%.2f\")"
   ]
  },
  {
   "cell_type": "code",
   "execution_count": 16,
   "id": "992f640a",
   "metadata": {
    "tags": []
   },
   "outputs": [
    {
     "name": "stderr",
     "output_type": "stream",
     "text": [
      "INFO:sagemaker:Creating training-job with name: xgb-NewYork-NY-2023-02-02-00-38-30-670\n"
     ]
    },
    {
     "name": "stdout",
     "output_type": "stream",
     "text": [
      "Training data uploaded: s3://sagemaker-us-west-2-000000000000/DEMO-MME-OnlineExplainability-1675298295-a04d/model_prep/NewYork_NY\n"
     ]
    },
    {
     "name": "stderr",
     "output_type": "stream",
     "text": [
      "INFO:sagemaker:Creating training-job with name: xgb-LosAngeles-CA-2023-02-02-00-38-31-313\n"
     ]
    },
    {
     "name": "stdout",
     "output_type": "stream",
     "text": [
      "Training data uploaded: s3://sagemaker-us-west-2-000000000000/DEMO-MME-OnlineExplainability-1675298295-a04d/model_prep/LosAngeles_CA\n"
     ]
    },
    {
     "name": "stderr",
     "output_type": "stream",
     "text": [
      "INFO:sagemaker:Creating training-job with name: xgb-Chicago-IL-2023-02-02-00-38-33-998\n"
     ]
    },
    {
     "name": "stdout",
     "output_type": "stream",
     "text": [
      "Training data uploaded: s3://sagemaker-us-west-2-000000000000/DEMO-MME-OnlineExplainability-1675298295-a04d/model_prep/Chicago_IL\n"
     ]
    },
    {
     "name": "stderr",
     "output_type": "stream",
     "text": [
      "INFO:sagemaker:Creating training-job with name: xgb-Houston-TX-2023-02-02-00-38-35-723\n"
     ]
    },
    {
     "name": "stdout",
     "output_type": "stream",
     "text": [
      "Training data uploaded: s3://sagemaker-us-west-2-000000000000/DEMO-MME-OnlineExplainability-1675298295-a04d/model_prep/Houston_TX\n",
      "\n",
      "4 training jobs launched: ['xgb-NewYork-NY-2023-02-02-00-38-30-670', 'xgb-LosAngeles-CA-2023-02-02-00-38-31-313', 'xgb-Chicago-IL-2023-02-02-00-38-33-998', 'xgb-Houston-TX-2023-02-02-00-38-35-723']\n"
     ]
    }
   ],
   "source": [
    "estimators = []\n",
    "\n",
    "shutil.rmtree(\"data\", ignore_errors=True)\n",
    "\n",
    "for loc in LOCATIONS[:PARALLEL_TRAINING_JOBS]:\n",
    "    _houses = gen_houses(NUM_HOUSES_PER_LOCATION)\n",
    "    _train, _val, _test = split_data(_houses)\n",
    "    save_data_locally(loc, _train, _val, _test)\n",
    "    estimator = launch_training_job(loc)\n",
    "    estimators.append(estimator)\n",
    "\n",
    "print()\n",
    "print(\n",
    "    f\"{len(estimators)} training jobs launched: {[x.latest_training_job.job_name for x in estimators]}\"\n",
    ")"
   ]
  },
  {
   "cell_type": "markdown",
   "id": "3d91f320",
   "metadata": {},
   "source": [
    "### Wait for all model training to finish"
   ]
  },
  {
   "cell_type": "code",
   "execution_count": 17,
   "id": "ff913c9f",
   "metadata": {
    "tags": []
   },
   "outputs": [],
   "source": [
    "# The job takes about 10 minutes to run\n",
    "def wait_for_training_job_to_complete(estimator):\n",
    "    job = estimator.latest_training_job.job_name\n",
    "    print(f\"Waiting for job: {job}\")\n",
    "    status = estimator.latest_training_job.describe()[\"TrainingJobStatus\"]\n",
    "    while status == \"InProgress\":\n",
    "        time.sleep(45)\n",
    "        status = estimator.latest_training_job.describe()[\"TrainingJobStatus\"]\n",
    "        if status == \"InProgress\":\n",
    "            print(f\"{job} job status: {status}\")\n",
    "    print(f\"DONE. Status for {job} is {status}\\n\")"
   ]
  },
  {
   "cell_type": "code",
   "execution_count": 18,
   "id": "5e93d639",
   "metadata": {
    "tags": []
   },
   "outputs": [
    {
     "name": "stdout",
     "output_type": "stream",
     "text": [
      "Waiting for job: xgb-NewYork-NY-2023-02-02-00-38-30-670\n",
      "xgb-NewYork-NY-2023-02-02-00-38-30-670 job status: InProgress\n",
      "xgb-NewYork-NY-2023-02-02-00-38-30-670 job status: InProgress\n",
      "DONE. Status for xgb-NewYork-NY-2023-02-02-00-38-30-670 is Completed\n",
      "\n",
      "Waiting for job: xgb-LosAngeles-CA-2023-02-02-00-38-31-313\n",
      "DONE. Status for xgb-LosAngeles-CA-2023-02-02-00-38-31-313 is Completed\n",
      "\n",
      "Waiting for job: xgb-Chicago-IL-2023-02-02-00-38-33-998\n",
      "DONE. Status for xgb-Chicago-IL-2023-02-02-00-38-33-998 is Completed\n",
      "\n",
      "Waiting for job: xgb-Houston-TX-2023-02-02-00-38-35-723\n",
      "DONE. Status for xgb-Houston-TX-2023-02-02-00-38-35-723 is Completed\n",
      "\n"
     ]
    }
   ],
   "source": [
    "for est in estimators:\n",
    "    wait_for_training_job_to_complete(est)"
   ]
  },
  {
   "cell_type": "markdown",
   "id": "1a999823",
   "metadata": {},
   "source": [
    "### Move model artifacts to an S3 location"
   ]
  },
  {
   "cell_type": "code",
   "execution_count": 19,
   "id": "f43bb0a9",
   "metadata": {
    "tags": []
   },
   "outputs": [],
   "source": [
    "# This is where our MME will read models from on S3.\n",
    "model_data_prefix = f\"s3://{bucket}/{prefix}/{multi_model_artifacts}/\"\n",
    "\n",
    "from urllib.parse import urlparse\n",
    "\n",
    "for est in estimators:\n",
    "    artifact_path = est.latest_training_job.describe()[\"ModelArtifacts\"][\"S3ModelArtifacts\"]\n",
    "    model_file_name = artifact_path.split(\"/\")[-4] + \".tar.gz\"\n",
    "    url_object = urlparse(artifact_path, allow_fragments=False)\n",
    "    copy_source = {\"Bucket\": bucket, \"Key\": url_object.path[1:]}\n",
    "    s3.meta.client.copy(copy_source, bucket, f\"{prefix}/{multi_model_artifacts}/{model_file_name}\")"
   ]
  },
  {
   "cell_type": "markdown",
   "id": "4ae4b2df",
   "metadata": {
    "tags": []
   },
   "source": [
    "## Create Endpoint"
   ]
  },
  {
   "cell_type": "markdown",
   "id": "a1950264",
   "metadata": {},
   "source": [
    "### Create model\n",
    "The following parameters are required to create SageMaker model for multi-model use case:\n",
    "\n",
    "* `ExecutionRoleArn`: The ARN of the IAM role that Amazon SageMaker can assume to access the model artifacts/ docker images for deployment\n",
    "\n",
    "* `ModelName`: Name of the SageMaker model.\n",
    "\n",
    "* `Containers`: Array of [ContainerDefinition](https://docs.aws.amazon.com/sagemaker/latest/APIReference/API_ContainerDefinition.html) objects. For multi-model endpoint use case there should be a container with `Mode` as `MultiModel`."
   ]
  },
  {
   "cell_type": "code",
   "execution_count": 20,
   "id": "0d87389a",
   "metadata": {
    "tags": []
   },
   "outputs": [],
   "source": [
    "container = {\"Image\": xgboost_image, \"ModelDataUrl\": model_data_prefix, \"Mode\": \"MultiModel\"}\n",
    "response = sagemaker_client.create_model(\n",
    "    ModelName=model_name, ExecutionRoleArn=role, Containers=[container]\n",
    ")"
   ]
  },
  {
   "cell_type": "markdown",
   "id": "3b73407f",
   "metadata": {},
   "source": [
    "### Create endpoint config\n",
    "\n",
    "Create an endpoint configuration by calling the `create_endpoint_config` API. Here, supply the same `model_name` used in the `create_model` API call. The `create_endpoint_config` now supports the additional parameter `ClarifyExplainerConfig` to enable the Clarify explainer. The SHAP baseline is mandatory, it can be provided either as inline baseline data (the `ShapBaseline` parameter) or by a S3 baseline file (the `ShapBaselineUri` parameter). Baseline dataset type shall be the same as input dataset type, and baseline samples shall only include features. For more details on baseline selection please [refer this documentation](https://docs.aws.amazon.com/en_us/sagemaker/latest/dg/clarify-feature-attribute-shap-baselines.html). \n",
    "\n",
    "Please see [the API documentation](https://docs.aws.amazon.com/sagemaker/latest/APIReference/API_CreateEndpointConfig.html) for details on other config parameters."
   ]
  },
  {
   "cell_type": "code",
   "execution_count": 21,
   "id": "1bf50748",
   "metadata": {
    "tags": []
   },
   "outputs": [],
   "source": [
    "# For our use case here we will choose a baseline, as per the average of the ranges we used, while\n",
    "# generating random house dataset above.\n",
    "baseline = [1995, 3000, 4, 2, 1, 2]"
   ]
  },
  {
   "cell_type": "code",
   "execution_count": 22,
   "id": "6bd4ae57",
   "metadata": {
    "tags": []
   },
   "outputs": [
    {
     "name": "stdout",
     "output_type": "stream",
     "text": [
      "Endpoint config ARN: arn:aws:sagemaker:us-west-2:000000000000:endpoint-config/demo-mme-onlineexplainability-1675298295-a04d-endpoint-config\n"
     ]
    }
   ],
   "source": [
    "create_endpoint_config_response = sagemaker_client.create_endpoint_config(\n",
    "    EndpointConfigName=endpoint_config_name,\n",
    "    ProductionVariants=[\n",
    "        {\n",
    "            \"InstanceType\": instance_type,\n",
    "            \"InitialInstanceCount\": 1,\n",
    "            \"InitialVariantWeight\": 1,\n",
    "            \"ModelName\": model_name,\n",
    "            \"VariantName\": \"AllTraffic\",\n",
    "        }\n",
    "    ],\n",
    "    ExplainerConfig={\n",
    "        \"ClarifyExplainerConfig\": {\n",
    "            \"ShapConfig\": {\n",
    "                \"ShapBaselineConfig\": {\"ShapBaseline\": csv_serializer.serialize(baseline)}\n",
    "            },\n",
    "            \"InferenceConfig\": {\"FeatureHeaders\": FEATURE_HEADERS},\n",
    "        }\n",
    "    },\n",
    ")\n",
    "\n",
    "print(\"Endpoint config ARN: \" + create_endpoint_config_response[\"EndpointConfigArn\"])"
   ]
  },
  {
   "cell_type": "markdown",
   "id": "2ee91718",
   "metadata": {},
   "source": [
    "### Create endpoint\n",
    "\n",
    "Once you have your model and endpoint configuration ready, use the `create_endpoint` API to create your endpoint. The `endpoint_name` must be unique within an AWS Region in your AWS account. The `create_endpoint` API is synchronous in nature and returns an immediate response with the endpoint status being `Creating` state."
   ]
  },
  {
   "cell_type": "code",
   "execution_count": 23,
   "id": "5c851eab",
   "metadata": {
    "tags": []
   },
   "outputs": [
    {
     "data": {
      "text/plain": [
       "{'EndpointArn': 'arn:aws:sagemaker:us-west-2:000000000000:endpoint/demo-mme-onlineexplainability-1675298295-a04d-endpoint',\n",
       " 'ResponseMetadata': {'RequestId': '7a62c613-80bf-49dd-a643-64b593909442',\n",
       "  'HTTPStatusCode': 200,\n",
       "  'HTTPHeaders': {'x-amzn-requestid': '7a62c613-80bf-49dd-a643-64b593909442',\n",
       "   'content-type': 'application/x-amz-json-1.1',\n",
       "   'content-length': '122',\n",
       "   'date': 'Thu, 02 Feb 2023 00:41:44 GMT'},\n",
       "  'RetryAttempts': 0}}"
      ]
     },
     "execution_count": 23,
     "metadata": {},
     "output_type": "execute_result"
    }
   ],
   "source": [
    "sagemaker_client.create_endpoint(\n",
    "    EndpointName=endpoint_name,\n",
    "    EndpointConfigName=endpoint_config_name,\n",
    ")"
   ]
  },
  {
   "cell_type": "markdown",
   "id": "7d384817",
   "metadata": {},
   "source": [
    "Wait for the endpoint to be in \"In-Service\" state."
   ]
  },
  {
   "cell_type": "code",
   "execution_count": 24,
   "id": "081bbdf4",
   "metadata": {
    "tags": []
   },
   "outputs": [
    {
     "name": "stdout",
     "output_type": "stream",
     "text": [
      "-----!"
     ]
    },
    {
     "data": {
      "text/plain": [
       "{'EndpointName': 'DEMO-MME-OnlineExplainability-1675298295-a04d-endpoint',\n",
       " 'EndpointArn': 'arn:aws:sagemaker:us-west-2:000000000000:endpoint/demo-mme-onlineexplainability-1675298295-a04d-endpoint',\n",
       " 'EndpointConfigName': 'DEMO-MME-OnlineExplainability-1675298295-a04d-endpoint-config',\n",
       " 'ProductionVariants': [{'VariantName': 'AllTraffic',\n",
       "   'DeployedImages': [{'SpecifiedImage': '246618743249.dkr.ecr.us-west-2.amazonaws.com/sagemaker-xgboost:1.5-1',\n",
       "     'ResolvedImage': '246618743249.dkr.ecr.us-west-2.amazonaws.com/sagemaker-xgboost@sha256:9558382c25c9bdbe602269e129fb3578dfa6ce6e2a14bae35a9d821dbc51ce74',\n",
       "     'ResolutionTime': datetime.datetime(2023, 2, 2, 0, 41, 46, 81000, tzinfo=tzlocal())}],\n",
       "   'CurrentWeight': 1.0,\n",
       "   'DesiredWeight': 1.0,\n",
       "   'CurrentInstanceCount': 1,\n",
       "   'DesiredInstanceCount': 1}],\n",
       " 'EndpointStatus': 'InService',\n",
       " 'CreationTime': datetime.datetime(2023, 2, 2, 0, 41, 45, 216000, tzinfo=tzlocal()),\n",
       " 'LastModifiedTime': datetime.datetime(2023, 2, 2, 0, 43, 49, 344000, tzinfo=tzlocal()),\n",
       " 'ExplainerConfig': {'ClarifyExplainerConfig': {'InferenceConfig': {'FeatureHeaders': ['YEAR_BUILT',\n",
       "     'SQUARE_FEET',\n",
       "     'NUM_BEDROOMS',\n",
       "     'NUM_BATHROOMS',\n",
       "     'LOT_ACRES',\n",
       "     'GARAGE_SPACES']},\n",
       "   'ShapConfig': {'ShapBaselineConfig': {'ShapBaseline': '1995,3000,4,2,1,2'}}}},\n",
       " 'ResponseMetadata': {'RequestId': '5dfb615e-80cb-4f48-9058-4931db225f7b',\n",
       "  'HTTPStatusCode': 200,\n",
       "  'HTTPHeaders': {'x-amzn-requestid': '5dfb615e-80cb-4f48-9058-4931db225f7b',\n",
       "   'content-type': 'application/x-amz-json-1.1',\n",
       "   'content-length': '1059',\n",
       "   'date': 'Thu, 02 Feb 2023 00:44:15 GMT'},\n",
       "  'RetryAttempts': 0}}"
      ]
     },
     "execution_count": 24,
     "metadata": {},
     "output_type": "execute_result"
    }
   ],
   "source": [
    "# Endpoint creation can take about 5 minutes to complete\n",
    "sagemaker_session.wait_for_endpoint(endpoint_name)"
   ]
  },
  {
   "cell_type": "markdown",
   "id": "1249b831",
   "metadata": {
    "tags": []
   },
   "source": [
    "## Invoke endpoint\n",
    "\n",
    "There are expanding business needs and legislative regulations that require explanations of _why_ a model made the decision it did. SageMaker Clarify uses SHAP to explain the contribution that each input feature makes to the final decision.\n",
    "\n",
    "Below are the several combinations of endpoint invocation, call them one by one and visualize the explanations by running the subsequent cell. "
   ]
  },
  {
   "cell_type": "markdown",
   "id": "ad2e8964",
   "metadata": {},
   "source": [
    "### Single record request: First Model"
   ]
  },
  {
   "cell_type": "markdown",
   "id": "c6fc7cec",
   "metadata": {},
   "source": [
    "Put only one record in the request body, and then send the request to the endpoint to get its predictions and explanations. Invoke for a particular model by specifying `TargetModel` in request object. For this example we will be invoking for model: `Chicago_IL.tar.gz`"
   ]
  },
  {
   "cell_type": "markdown",
   "id": "570642dd",
   "metadata": {},
   "source": [
    "We can use SHAP plots to visualize the result. [SHAP additive force layout](https://shap.readthedocs.io/en/latest/generated/shap.plots.force.html) shows how each feature contributes to pushing the base value (also called the expected value which is the mean predictions of the training dataset) to the corresponding prediction. Features that push the prediction higher are in red color, while those push the prediction lower are in blue.\n",
    "\n",
    "The expected value is the average of the model predictions over the baseline. Here we predict the baseline data and then compute the expected value. Only the predictions are needed, so the `EnableExplanations` parameter is used to disable the explanations."
   ]
  },
  {
   "cell_type": "code",
   "execution_count": 25,
   "id": "ccfb5dda",
   "metadata": {
    "tags": []
   },
   "outputs": [
    {
     "name": "stdout",
     "output_type": "stream",
     "text": [
      "expected value: 438564.40625\n"
     ]
    }
   ],
   "source": [
    "response = sagemaker_runtime_client.invoke_endpoint(\n",
    "    EndpointName=endpoint_name,\n",
    "    ContentType=\"text/csv\",\n",
    "    TargetModel=\"Chicago_IL.tar.gz\",\n",
    "    Accept=\"text/csv\",\n",
    "    Body=csv_serializer.serialize(baseline),\n",
    "    EnableExplanations=\"`false`\",  # Do not provide explanations\n",
    ")\n",
    "json_object = json_deserializer.deserialize(response[\"Body\"], content_type=response[\"ContentType\"])\n",
    "expected_value = float(\n",
    "    pd.read_csv(io.StringIO(json_object[\"predictions\"][\"data\"]), header=None)\n",
    "    .astype(float)\n",
    "    .mean(axis=1)\n",
    ")\n",
    "print(f\"expected value: {expected_value}\")"
   ]
  },
  {
   "cell_type": "markdown",
   "id": "a115d03e",
   "metadata": {},
   "source": [
    "Invoke endpoint with explanations enabled and visualize results."
   ]
  },
  {
   "cell_type": "code",
   "execution_count": 26,
   "id": "494a8a8e",
   "metadata": {
    "tags": []
   },
   "outputs": [],
   "source": [
    "request_records = pd.DataFrame([gen_random_house()[1:]])"
   ]
  },
  {
   "cell_type": "code",
   "execution_count": 27,
   "id": "7ffc95a6",
   "metadata": {
    "tags": []
   },
   "outputs": [
    {
     "name": "stdout",
     "output_type": "stream",
     "text": [
      "{'Body': <botocore.response.StreamingBody object at 0x7f462850bad0>,\n",
      " 'ContentType': 'application/json',\n",
      " 'InvokedProductionVariant': 'AllTraffic',\n",
      " 'ResponseMetadata': {'HTTPHeaders': {'content-length': '636',\n",
      "                                      'content-type': 'application/json',\n",
      "                                      'date': 'Thu, 02 Feb 2023 00:44:18 GMT',\n",
      "                                      'x-amzn-invoked-production-variant': 'AllTraffic',\n",
      "                                      'x-amzn-requestid': 'efa14ebb-f51c-473f-ae4b-df93008a2450'},\n",
      "                      'HTTPStatusCode': 200,\n",
      "                      'RequestId': 'efa14ebb-f51c-473f-ae4b-df93008a2450',\n",
      "                      'RetryAttempts': 0}}\n"
     ]
    }
   ],
   "source": [
    "response = sagemaker_runtime_client.invoke_endpoint(\n",
    "    EndpointName=endpoint_name,\n",
    "    ContentType=\"text/csv\",\n",
    "    TargetModel=\"Chicago_IL.tar.gz\",\n",
    "    Accept=\"text/csv\",\n",
    "    Body=csv_serializer.serialize(request_records.to_numpy()),\n",
    ")\n",
    "pprint.pprint(response)"
   ]
  },
  {
   "cell_type": "markdown",
   "id": "076f8496",
   "metadata": {},
   "source": [
    "Print the response body which is JSON. Please see the [API documentation](https://docs.aws.amazon.com/sagemaker/latest/dg/clarify-online-explainability-invoke-endpoint.html#clarify-online-explainability-response) for its schema."
   ]
  },
  {
   "cell_type": "code",
   "execution_count": 28,
   "id": "84c36eb2",
   "metadata": {
    "tags": []
   },
   "outputs": [
    {
     "name": "stdout",
     "output_type": "stream",
     "text": [
      "{'explanations': {'kernel_shap': [[{'attributions': [{'attribution': [-71374.38842773436]}],\n",
      "                                    'feature_header': 'YEAR_BUILT'},\n",
      "                                   {'attributions': [{'attribution': [-59293.28198242189]}],\n",
      "                                    'feature_header': 'SQUARE_FEET'},\n",
      "                                   {'attributions': [{'attribution': [329.1957194010429]}],\n",
      "                                    'feature_header': 'NUM_BEDROOMS'},\n",
      "                                   {'attributions': [{'attribution': [12335.089274088547]}],\n",
      "                                    'feature_header': 'NUM_BATHROOMS'},\n",
      "                                   {'attributions': [{'attribution': [1766.7894694010465]}],\n",
      "                                    'feature_header': 'LOT_ACRES'},\n",
      "                                   {'attributions': [{'attribution': [6511.00219726561]}],\n",
      "                                    'feature_header': 'GARAGE_SPACES'}]]},\n",
      " 'predictions': {'content_type': 'text/csv', 'data': '328838.8125'},\n",
      " 'version': '1.0'}\n"
     ]
    }
   ],
   "source": [
    "result = json_deserializer.deserialize(response[\"Body\"], content_type=response[\"ContentType\"])\n",
    "pprint.pprint(result)"
   ]
  },
  {
   "cell_type": "code",
   "execution_count": 29,
   "id": "763db1e4",
   "metadata": {
    "tags": []
   },
   "outputs": [
    {
     "name": "stdout",
     "output_type": "stream",
     "text": [
      "Model Inference output: \n",
      "Record: 1\tModel Prediction: 328838.8125\n",
      "Visualize the SHAP values for Record number 1 with Model Prediction: 328838.8125\n"
     ]
    },
    {
     "data": {
      "image/png": "[encoded data removed]",
      "text/plain": [
       "<Figure size 2000x300 with 1 Axes>"
      ]
     },
     "metadata": {},
     "output_type": "display_data"
    }
   ],
   "source": [
    "visualize_result(result, request_records, expected_value)"
   ]
  },
  {
   "cell_type": "markdown",
   "id": "15f3cbc5",
   "metadata": {},
   "source": [
    "### Single record request: Second Model\n",
    "Get inference and explanations for same request record with a different model by changing the `TargetModel`. For this example we will be invoking for model: `Houston_TX.tar.gz`. As we are using a different model, results may change for the same baseline."
   ]
  },
  {
   "cell_type": "code",
   "execution_count": 30,
   "id": "acb92668",
   "metadata": {
    "tags": []
   },
   "outputs": [
    {
     "name": "stdout",
     "output_type": "stream",
     "text": [
      "expected value: 445582.71875\n",
      "{'Body': <botocore.response.StreamingBody object at 0x7f462785fa90>,\n",
      " 'ContentType': 'application/json',\n",
      " 'InvokedProductionVariant': 'AllTraffic',\n",
      " 'ResponseMetadata': {'HTTPHeaders': {'content-length': '636',\n",
      "                                      'content-type': 'application/json',\n",
      "                                      'date': 'Thu, 02 Feb 2023 00:44:20 GMT',\n",
      "                                      'x-amzn-invoked-production-variant': 'AllTraffic',\n",
      "                                      'x-amzn-requestid': 'c4fc0377-42a9-43de-add7-5f26c71b8ab4'},\n",
      "                      'HTTPStatusCode': 200,\n",
      "                      'RequestId': 'c4fc0377-42a9-43de-add7-5f26c71b8ab4',\n",
      "                      'RetryAttempts': 0}}\n",
      "{'explanations': {'kernel_shap': [[{'attributions': [{'attribution': [-59943.16552734379]}],\n",
      "                                    'feature_header': 'YEAR_BUILT'},\n",
      "                                   {'attributions': [{'attribution': [-34355.124023437456]}],\n",
      "                                    'feature_header': 'SQUARE_FEET'},\n",
      "                                   {'attributions': [{'attribution': [238.71223958332848]}],\n",
      "                                    'feature_header': 'NUM_BEDROOMS'},\n",
      "                                   {'attributions': [{'attribution': [10020.557128906257]}],\n",
      "                                    'feature_header': 'NUM_BATHROOMS'},\n",
      "                                   {'attributions': [{'attribution': [2251.6129557291642]}],\n",
      "                                    'feature_header': 'LOT_ACRES'},\n",
      "                                   {'attributions': [{'attribution': [9471.0634765625]}],\n",
      "                                    'feature_header': 'GARAGE_SPACES'}]]},\n",
      " 'predictions': {'content_type': 'text/csv', 'data': '373266.375'},\n",
      " 'version': '1.0'}\n",
      "Model Inference output: \n",
      "Record: 1\tModel Prediction: 373266.375\n",
      "Visualize the SHAP values for Record number 1 with Model Prediction: 373266.375\n"
     ]
    },
    {
     "data": {
      "image/png": "[encoded data removed]",
      "text/plain": [
       "<Figure size 2000x300 with 1 Axes>"
      ]
     },
     "metadata": {},
     "output_type": "display_data"
    }
   ],
   "source": [
    "# Get expected value for the same baseline\n",
    "response = sagemaker_runtime_client.invoke_endpoint(\n",
    "    EndpointName=endpoint_name,\n",
    "    ContentType=\"text/csv\",\n",
    "    TargetModel=\"Houston_TX.tar.gz\",\n",
    "    Accept=\"text/csv\",\n",
    "    Body=csv_serializer.serialize(baseline),\n",
    "    EnableExplanations=\"`false`\",  # Do not provide explanations\n",
    ")\n",
    "json_object = json_deserializer.deserialize(response[\"Body\"], content_type=response[\"ContentType\"])\n",
    "expected_value = float(\n",
    "    pd.read_csv(io.StringIO(json_object[\"predictions\"][\"data\"]), header=None)\n",
    "    .astype(float)\n",
    "    .mean(axis=1)\n",
    ")\n",
    "print(f\"expected value: {expected_value}\")\n",
    "\n",
    "# Invoke endpoint and visualise results\n",
    "response = sagemaker_runtime_client.invoke_endpoint(\n",
    "    EndpointName=endpoint_name,\n",
    "    ContentType=\"text/csv\",\n",
    "    TargetModel=\"Houston_TX.tar.gz\",\n",
    "    Accept=\"text/csv\",\n",
    "    Body=csv_serializer.serialize(request_records.to_numpy()),\n",
    ")\n",
    "pprint.pprint(response)\n",
    "\n",
    "result = json_deserializer.deserialize(response[\"Body\"], content_type=response[\"ContentType\"])\n",
    "pprint.pprint(result)\n",
    "\n",
    "visualize_result(result, request_records, expected_value)"
   ]
  },
  {
   "cell_type": "markdown",
   "id": "6981257f",
   "metadata": {},
   "source": [
    "### Single record request, no explanation\n",
    "\n",
    "Use the `EnableExplanations` parameter to disable the explanations for this request."
   ]
  },
  {
   "cell_type": "code",
   "execution_count": 31,
   "id": "2691d913",
   "metadata": {
    "tags": []
   },
   "outputs": [
    {
     "name": "stdout",
     "output_type": "stream",
     "text": [
      "{'explanations': {},\n",
      " 'predictions': {'content_type': 'text/csv', 'data': '497240.125'},\n",
      " 'version': '1.0'}\n"
     ]
    }
   ],
   "source": [
    "request_records = pd.DataFrame([gen_random_house()[1:]])\n",
    "response = sagemaker_runtime_client.invoke_endpoint(\n",
    "    EndpointName=endpoint_name,\n",
    "    ContentType=\"text/csv\",\n",
    "    TargetModel=\"Houston_TX.tar.gz\",\n",
    "    Accept=\"text/csv\",\n",
    "    Body=csv_serializer.serialize(request_records.to_numpy()),\n",
    "    EnableExplanations=\"`false`\",  # Do not provide explanations\n",
    ")\n",
    "result = json_deserializer.deserialize(response[\"Body\"], content_type=response[\"ContentType\"])\n",
    "pprint.pprint(result)"
   ]
  },
  {
   "cell_type": "code",
   "execution_count": 32,
   "id": "036880cc",
   "metadata": {
    "tags": []
   },
   "outputs": [
    {
     "name": "stdout",
     "output_type": "stream",
     "text": [
      "Model Inference output: \n",
      "Record: 1\tModel Prediction: 497240.125\n",
      "No Clarify explanations for the record(s)\n"
     ]
    }
   ],
   "source": [
    "visualize_result(result, request_records, expected_value)"
   ]
  },
  {
   "cell_type": "markdown",
   "id": "037ef442",
   "metadata": {},
   "source": [
    "### Batch request\n",
    "\n",
    "Put multiple records in a single request and send the request to the endpoint to get their predictions and explanations."
   ]
  },
  {
   "cell_type": "code",
   "execution_count": 33,
   "id": "8094e358",
   "metadata": {
    "tags": []
   },
   "outputs": [
    {
     "name": "stdout",
     "output_type": "stream",
     "text": [
      "{'explanations': {'kernel_shap': [[{'attributions': [{'attribution': [-15391.596516927075]}],\n",
      "                                    'feature_header': 'YEAR_BUILT'},\n",
      "                                   {'attributions': [{'attribution': [41637.43505859372]}],\n",
      "                                    'feature_header': 'SQUARE_FEET'},\n",
      "                                   {'attributions': [{'attribution': [8329.528808593743]}],\n",
      "                                    'feature_header': 'NUM_BEDROOMS'},\n",
      "                                   {'attributions': [{'attribution': [-122.34651692709667]}],\n",
      "                                    'feature_header': 'NUM_BATHROOMS'},\n",
      "                                   {'attributions': [{'attribution': [-289.7680664062609]}],\n",
      "                                    'feature_header': 'LOT_ACRES'},\n",
      "                                   {'attributions': [{'attribution': [-122.34651692703483]}],\n",
      "                                    'feature_header': 'GARAGE_SPACES'}],\n",
      "                                  [{'attributions': [{'attribution': [56767.78694661462]}],\n",
      "                                    'feature_header': 'YEAR_BUILT'},\n",
      "                                   {'attributions': [{'attribution': [99891.13492838538]}],\n",
      "                                    'feature_header': 'SQUARE_FEET'},\n",
      "                                   {'attributions': [{'attribution': [-11047.177083333328]}],\n",
      "                                    'feature_header': 'NUM_BEDROOMS'},\n",
      "                                   {'attributions': [{'attribution': [259.8738606770785]}],\n",
      "                                    'feature_header': 'NUM_BATHROOMS'},\n",
      "                                   {'attributions': [{'attribution': [1764.2338867187573]}],\n",
      "                                    'feature_header': 'LOT_ACRES'},\n",
      "                                   {'attributions': [{'attribution': [13794.3037109375]}],\n",
      "                                    'feature_header': 'GARAGE_SPACES'}],\n",
      "                                  [{'attributions': [{'attribution': [-113058.22526041669]}],\n",
      "                                    'feature_header': 'YEAR_BUILT'},\n",
      "                                   {'attributions': [{'attribution': [-105057.46158854164]}],\n",
      "                                    'feature_header': 'SQUARE_FEET'},\n",
      "                                   {'attributions': [{'attribution': [-11675.21634928383]}],\n",
      "                                    'feature_header': 'NUM_BEDROOMS'},\n",
      "                                   {'attributions': [{'attribution': [13358.254964192718]}],\n",
      "                                    'feature_header': 'NUM_BATHROOMS'},\n",
      "                                   {'attributions': [{'attribution': [618.5897623697965]}],\n",
      "                                    'feature_header': 'LOT_ACRES'},\n",
      "                                   {'attributions': [{'attribution': [-17336.17590332037]}],\n",
      "                                    'feature_header': 'GARAGE_SPACES'}]]},\n",
      " 'predictions': {'content_type': 'text/csv',\n",
      "                 'data': '479623.625,607012.875,212432.484375'},\n",
      " 'version': '1.0'}\n"
     ]
    }
   ],
   "source": [
    "batch_size = 3\n",
    "request_records = gen_houses(batch_size).iloc[:, 1:]\n",
    "response = sagemaker_runtime_client.invoke_endpoint(\n",
    "    EndpointName=endpoint_name,\n",
    "    ContentType=\"text/csv\",\n",
    "    TargetModel=\"Houston_TX.tar.gz\",\n",
    "    Accept=\"text/csv\",\n",
    "    Body=csv_serializer.serialize(request_records.to_numpy()),\n",
    ")\n",
    "result = json_deserializer.deserialize(response[\"Body\"], content_type=response[\"ContentType\"])\n",
    "pprint.pprint(result)"
   ]
  },
  {
   "cell_type": "code",
   "execution_count": 34,
   "id": "63c7fc76",
   "metadata": {
    "tags": []
   },
   "outputs": [
    {
     "name": "stdout",
     "output_type": "stream",
     "text": [
      "Model Inference output: \n",
      "Record: 1\tModel Prediction: 479623.625\n",
      "Visualize the SHAP values for Record number 1 with Model Prediction: 479623.625\n"
     ]
    },
    {
     "data": {
      "image/png": "[encoded data removed]",
      "text/plain": [
       "<Figure size 2000x300 with 1 Axes>"
      ]
     },
     "metadata": {},
     "output_type": "display_data"
    },
    {
     "name": "stdout",
     "output_type": "stream",
     "text": [
      "Visualize the SHAP values for Record number 2 with Model Prediction: 607012.875\n"
     ]
    },
    {
     "data": {
      "image/png": "[encoded data removed]",
      "text/plain": [
       "<Figure size 2000x300 with 1 Axes>"
      ]
     },
     "metadata": {},
     "output_type": "display_data"
    },
    {
     "name": "stdout",
     "output_type": "stream",
     "text": [
      "Visualize the SHAP values for Record number 3 with Model Prediction: 212432.484375\n"
     ]
    },
    {
     "data": {
      "image/png": "[encoded data removed]",
      "text/plain": [
       "<Figure size 2000x300 with 1 Axes>"
      ]
     },
     "metadata": {},
     "output_type": "display_data"
    }
   ],
   "source": [
    "visualize_result(result, request_records, expected_value)"
   ]
  },
  {
   "cell_type": "markdown",
   "id": "611db2db",
   "metadata": {
    "tags": []
   },
   "source": [
    "## Cleanup\n",
    "\n",
    "Finally, don’t forget to clean up the resources we set up and used for this demo!"
   ]
  },
  {
   "cell_type": "code",
   "execution_count": 35,
   "id": "aea2fcc6",
   "metadata": {
    "tags": []
   },
   "outputs": [],
   "source": [
    "sagemaker_client.delete_endpoint(EndpointName=endpoint_name);"
   ]
  },
  {
   "cell_type": "code",
   "execution_count": 36,
   "id": "640f25f0",
   "metadata": {
    "tags": []
   },
   "outputs": [],
   "source": [
    "sagemaker_client.delete_endpoint_config(EndpointConfigName=endpoint_config_name);"
   ]
  },
  {
   "cell_type": "code",
   "execution_count": 37,
   "id": "9bfc7fa7",
   "metadata": {
    "tags": []
   },
   "outputs": [],
   "source": [
    "sagemaker_client.delete_model(ModelName=model_name);"
   ]
  },
  {
   "attachments": {},
   "cell_type": "markdown",
   "id": "90dde51b",
   "metadata": {},
   "source": [
    "## Notebook CI Test Results\n",
    "\n",
    "This notebook was tested in multiple regions. The test results are as follows, except for us-west-2 which is shown at the top of the notebook.\n",
    "\n",
    "![This us-east-1 badge failed to load. Check your device's internet connectivity, otherwise the service is currently unavailable](https://h75twx4l60.execute-api.us-west-2.amazonaws.com/sagemaker-nb/us-east-1/sagemaker-clarify|online_explainability|tabular_multi_model_endpoint|multi_model_xgboost_with_online_explainability.ipynb)\n",
    "\n",
    "![This us-east-2 badge failed to load. Check your device's internet connectivity, otherwise the service is currently unavailable](https://h75twx4l60.execute-api.us-west-2.amazonaws.com/sagemaker-nb/us-east-2/sagemaker-clarify|online_explainability|tabular_multi_model_endpoint|multi_model_xgboost_with_online_explainability.ipynb)\n",
    "\n",
    "![This us-west-1 badge failed to load. Check your device's internet connectivity, otherwise the service is currently unavailable](https://h75twx4l60.execute-api.us-west-2.amazonaws.com/sagemaker-nb/us-west-1/sagemaker-clarify|online_explainability|tabular_multi_model_endpoint|multi_model_xgboost_with_online_explainability.ipynb)\n",
    "\n",
    "![This ca-central-1 badge failed to load. Check your device's internet connectivity, otherwise the service is currently unavailable](https://h75twx4l60.execute-api.us-west-2.amazonaws.com/sagemaker-nb/ca-central-1/sagemaker-clarify|online_explainability|tabular_multi_model_endpoint|multi_model_xgboost_with_online_explainability.ipynb)\n",
    "\n",
    "![This sa-east-1 badge failed to load. Check your device's internet connectivity, otherwise the service is currently unavailable](https://h75twx4l60.execute-api.us-west-2.amazonaws.com/sagemaker-nb/sa-east-1/sagemaker-clarify|online_explainability|tabular_multi_model_endpoint|multi_model_xgboost_with_online_explainability.ipynb)\n",
    "\n",
    "![This eu-west-1 badge failed to load. Check your device's internet connectivity, otherwise the service is currently unavailable](https://h75twx4l60.execute-api.us-west-2.amazonaws.com/sagemaker-nb/eu-west-1/sagemaker-clarify|online_explainability|tabular_multi_model_endpoint|multi_model_xgboost_with_online_explainability.ipynb)\n",
    "\n",
    "![This eu-west-2 badge failed to load. Check your device's internet connectivity, otherwise the service is currently unavailable](https://h75twx4l60.execute-api.us-west-2.amazonaws.com/sagemaker-nb/eu-west-2/sagemaker-clarify|online_explainability|tabular_multi_model_endpoint|multi_model_xgboost_with_online_explainability.ipynb)\n",
    "\n",
    "![This eu-west-3 badge failed to load. Check your device's internet connectivity, otherwise the service is currently unavailable](https://h75twx4l60.execute-api.us-west-2.amazonaws.com/sagemaker-nb/eu-west-3/sagemaker-clarify|online_explainability|tabular_multi_model_endpoint|multi_model_xgboost_with_online_explainability.ipynb)\n",
    "\n",
    "![This eu-central-1 badge failed to load. Check your device's internet connectivity, otherwise the service is currently unavailable](https://h75twx4l60.execute-api.us-west-2.amazonaws.com/sagemaker-nb/eu-central-1/sagemaker-clarify|online_explainability|tabular_multi_model_endpoint|multi_model_xgboost_with_online_explainability.ipynb)\n",
    "\n",
    "![This eu-north-1 badge failed to load. Check your device's internet connectivity, otherwise the service is currently unavailable](https://h75twx4l60.execute-api.us-west-2.amazonaws.com/sagemaker-nb/eu-north-1/sagemaker-clarify|online_explainability|tabular_multi_model_endpoint|multi_model_xgboost_with_online_explainability.ipynb)\n",
    "\n",
    "![This ap-southeast-1 badge failed to load. Check your device's internet connectivity, otherwise the service is currently unavailable](https://h75twx4l60.execute-api.us-west-2.amazonaws.com/sagemaker-nb/ap-southeast-1/sagemaker-clarify|online_explainability|tabular_multi_model_endpoint|multi_model_xgboost_with_online_explainability.ipynb)\n",
    "\n",
    "![This ap-southeast-2 badge failed to load. Check your device's internet connectivity, otherwise the service is currently unavailable](https://h75twx4l60.execute-api.us-west-2.amazonaws.com/sagemaker-nb/ap-southeast-2/sagemaker-clarify|online_explainability|tabular_multi_model_endpoint|multi_model_xgboost_with_online_explainability.ipynb)\n",
    "\n",
    "![This ap-northeast-1 badge failed to load. Check your device's internet connectivity, otherwise the service is currently unavailable](https://h75twx4l60.execute-api.us-west-2.amazonaws.com/sagemaker-nb/ap-northeast-1/sagemaker-clarify|online_explainability|tabular_multi_model_endpoint|multi_model_xgboost_with_online_explainability.ipynb)\n",
    "\n",
    "![This ap-northeast-2 badge failed to load. Check your device's internet connectivity, otherwise the service is currently unavailable](https://h75twx4l60.execute-api.us-west-2.amazonaws.com/sagemaker-nb/ap-northeast-2/sagemaker-clarify|online_explainability|tabular_multi_model_endpoint|multi_model_xgboost_with_online_explainability.ipynb)\n",
    "\n",
    "![This ap-south-1 badge failed to load. Check your device's internet connectivity, otherwise the service is currently unavailable](https://h75twx4l60.execute-api.us-west-2.amazonaws.com/sagemaker-nb/ap-south-1/sagemaker-clarify|online_explainability|tabular_multi_model_endpoint|multi_model_xgboost_with_online_explainability.ipynb)\n"
   ]
  }
 ],
 "metadata": {
  "instance_type": "ml.t3.medium",
  "kernelspec": {
   "display_name": "Python 3 (Data Science 3.0)",
   "language": "python",
   "name": "python3__SAGEMAKER_INTERNAL__arn:aws:sagemaker:us-east-1:081325390199:image/sagemaker-data-science-310-v1"
  },
  "language_info": {
   "codemirror_mode": {
    "name": "ipython",
    "version": 3
   },
   "file_extension": ".py",
   "mimetype": "text/x-python",
   "name": "python",
   "nbconvert_exporter": "python",
   "pygments_lexer": "ipython3",
   "version": "3.10.6"
  },
  "vscode": {
   "interpreter": {
    "hash": "397704579725e15f5c7cb49fe5f0341eb7531c82d19f2c29d197e8b64ab5776b"
   }
  }
 },
 "nbformat": 4,
 "nbformat_minor": 5
}
