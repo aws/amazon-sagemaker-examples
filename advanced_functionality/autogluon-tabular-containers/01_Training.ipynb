{
 "cells": [
  {
   "cell_type": "code",
   "execution_count": null,
   "id": "616fc65a",
   "metadata": {},
   "outputs": [],
   "source": [
    "import sagemaker\n",
    "import pandas as pd\n",
    "import numpy as np\n",
    "from ag_model import AutoGluonTraining\n",
    "from sagemaker import utils\n",
    "import os"
   ]
  },
  {
   "cell_type": "markdown",
   "id": "a3133fba",
   "metadata": {},
   "source": [
    "# Training"
   ]
  },
  {
   "cell_type": "code",
   "execution_count": null,
   "id": "92a1b55f",
   "metadata": {},
   "outputs": [],
   "source": [
    "role = sagemaker.get_execution_role()"
   ]
  },
  {
   "cell_type": "markdown",
   "id": "7055dfa2",
   "metadata": {},
   "source": [
    "We are using [official](https://github.com/aws/deep-learning-containers/blob/master/available_images.md#autogluon-training-containers) 0.3.1 AutoGluon Deep Learning Container images with custom training scripts (see `scripts/` directory)."
   ]
  },
  {
   "cell_type": "code",
   "execution_count": null,
   "id": "c4d3d547",
   "metadata": {},
   "outputs": [],
   "source": [
    "ag = AutoGluonTraining(\n",
    "    role=role,\n",
    "    entry_point=\"scripts/tabular_train.py\",\n",
    "    instance_count=1,\n",
    "    instance_type=\"ml.m5.2xlarge\",\n",
    "    base_job_name=\"autogluon-tabular-train\",\n",
    ")"
   ]
  },
  {
   "cell_type": "markdown",
   "id": "36c4cc1d",
   "metadata": {},
   "source": [
    "### Writing Training Scripts"
   ]
  },
  {
   "cell_type": "markdown",
   "id": "5c273285",
   "metadata": {},
   "source": [
    "Users can create their own training/inference scripts using [SageMaker Python SDK examples](https://sagemaker.readthedocs.io/en/stable/overview.html#prepare-a-training-script).\n",
    "The scripts we created allow to pass AutoGluon configuration as a YAML file (located in `data/config` directory).\n",
    "\n",
    "AutoGluon code can be quickly authored starting with [tutorials](https://auto.gluon.ai/stable/tutorials/tabular_prediction/tabular-quickstart.html) available on our website."
   ]
  },
  {
   "cell_type": "markdown",
   "id": "7bc8ce1a",
   "metadata": {},
   "source": [
    "### Data Pre-processing\n",
    "Let's upload data to S3 ready for SageMaker to use"
   ]
  },
  {
   "cell_type": "code",
   "execution_count": null,
   "id": "958d283e",
   "metadata": {},
   "outputs": [],
   "source": [
    "!wget https://autogluon.s3.amazonaws.com/datasets/Inc/train.csv -O data/train.csv\n",
    "!wget https://autogluon.s3.amazonaws.com/datasets/Inc/test.csv -O data/test.csv"
   ]
  },
  {
   "cell_type": "code",
   "execution_count": null,
   "id": "ee114840",
   "metadata": {},
   "outputs": [],
   "source": [
    "device = \"cpu\"\n",
    "data_path = os.path.join(\"data\")\n",
    "s3_prefix = \"autogluon_sm/{}\".format(utils.sagemaker_timestamp())\n",
    "train_input = ag.sagemaker_session.upload_data(\n",
    "    path=os.path.join(data_path, f\"train.csv\"), key_prefix=s3_prefix\n",
    ")\n",
    "eval_input = ag.sagemaker_session.upload_data(\n",
    "    path=os.path.join(data_path, f\"test.csv\"), key_prefix=s3_prefix\n",
    ")\n",
    "config_input = ag.sagemaker_session.upload_data(\n",
    "    path=os.path.join(data_path, \"config\", f\"config-full.{device}.yaml\"), key_prefix=s3_prefix\n",
    ")"
   ]
  },
  {
   "cell_type": "markdown",
   "id": "e63baefd",
   "metadata": {},
   "source": [
    "### Model Fitting\n",
    "Fit a model using SageMaker Training"
   ]
  },
  {
   "cell_type": "code",
   "execution_count": null,
   "id": "af8eb9b0",
   "metadata": {},
   "outputs": [],
   "source": [
    "job_name = utils.unique_name_from_base(\"test-autogluon-image\")\n",
    "ag.fit({\"config\": config_input, \"train\": train_input, \"test\": eval_input}, job_name=job_name)"
   ]
  },
  {
   "cell_type": "markdown",
   "id": "876ee171",
   "metadata": {},
   "source": [
    "### Model export\n",
    "\n",
    "AutoGluon models are portable: everything you need to deploy a trained model is in the tarball created by SageMaker.\n",
    "\n",
    "The artifact can be used locally, on EC2/ECS/EKS or served via SageMaker Inference."
   ]
  },
  {
   "cell_type": "code",
   "execution_count": null,
   "id": "d07b4a59",
   "metadata": {},
   "outputs": [],
   "source": [
    "!aws s3 cp {ag.model_data} ."
   ]
  },
  {
   "cell_type": "code",
   "execution_count": null,
   "id": "66023c5b",
   "metadata": {},
   "outputs": [],
   "source": [
    "!ls -alF model.tar.gz"
   ]
  }
 ],
 "metadata": {
  "instance_type": "ml.t3.medium",
  "kernelspec": {
   "display_name": "Python 3 (MXNet 1.8 Python 3.7 CPU Optimized)",
   "language": "python",
   "name": "python3__SAGEMAKER_INTERNAL__arn:aws:sagemaker:us-west-2:236514542706:image/mxnet-1.8-cpu-py37-ubuntu16.04-v1"
  },
  "language_info": {
   "codemirror_mode": {
    "name": "ipython",
    "version": 3
   },
   "file_extension": ".py",
   "mimetype": "text/x-python",
   "name": "python",
   "nbconvert_exporter": "python",
   "pygments_lexer": "ipython3",
   "version": "3.7.10"
  }
 },
 "nbformat": 4,
 "nbformat_minor": 5
}