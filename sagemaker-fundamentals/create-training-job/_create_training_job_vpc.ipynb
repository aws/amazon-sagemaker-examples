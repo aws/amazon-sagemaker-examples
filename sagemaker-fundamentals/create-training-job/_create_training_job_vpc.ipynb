{
 "cells": [
  {
   "cell_type": "markdown",
   "metadata": {},
   "source": [
    "# Training Job in Internet-free Mode\n",
    "\n",
    "If you want to isolate your training data and training container from the rest of the Internet, then you should create the training job in a private subnet. A private subnet is a subnet in your VPC without a route to Internet Gateway. This means, by default, no inbounding calls to your container from the Internet is possible and your container cannot make outbounding calls to the Internet. If you need the training container to access your S3 resource, you need to **explicitly** add a VPC endpoint and attach it to the route table of your private subnet to allow traffic to your data in S3 bucket. \n",
    "\n",
    "In this notebook, we will walk through an example of creating such a training job. We will\n",
    "\n",
    "- Build a simple training image\n",
    "- Set up a VPC\n",
    "- Set up a private subnet in the VPC\n",
    "- Set up a security group in the VPC\n",
    "- Create a training job in your private subnet && security group and watch it to fail (because it cannot access your S3 resource)\n",
    "- Add a VPC endpoint to allow traffic to S3\n",
    "- Create another training job in your private subnet and watch it to succeeed \n",
    "\n",
    "If you are not familiar with VPC security configuration, the following materials can help you\n",
    "- [Security in Amazon Virtual Private Cloud](https://docs.aws.amazon.com/vpc/latest/userguide/security.html)\n",
    "- [Training and Inference Containers in Internet-Free Mode](https://docs.aws.amazon.com/sagemaker/latest/dg/mkt-algo-model-internet-free.html)\n",
    "\n",
    "It's okay if you don't understand everything from the official docs above, the code samples you will see in this notebook will help you grasp those concepts. "
   ]
  },
  {
   "cell_type": "code",
   "execution_count": 1,
   "metadata": {},
   "outputs": [],
   "source": [
    "# import libraries\n",
    "import boto3\n",
    "import pprint\n",
    "import datetime\n",
    "import time\n",
    "\n",
    "pp = pprint.PrettyPrinter(indent=1)"
   ]
  },
  {
   "cell_type": "markdown",
   "metadata": {},
   "source": [
    "## Build a training image\n",
    "\n",
    "We follow the same procedure for building a training image as in [this notebook](https://github.com/hsl89/amazon-sagemaker-examples/blob/sagemaker-fundamentals/sagemaker-fundamentals/create-training-job/create-training-job.ipynb). We will refer to this image as `example-image`. Please go through that notebook if you are not familiar with `CreateTrainingJob` API."
   ]
  },
  {
   "cell_type": "code",
   "execution_count": 3,
   "metadata": {},
   "outputs": [
    {
     "name": "stdout",
     "output_type": "stream",
     "text": [
      "An error occurred (RepositoryAlreadyExistsException) when calling the CreateRepository operation: The repository with name 'example-image' already exists in the registry with id '688520471316'\n"
     ]
    }
   ],
   "source": [
    "# create a repo in your ECR \n",
    "\n",
    "ecr = boto3.client('ecr')\n",
    "\n",
    "try:\n",
    "    # The repository might already exist\n",
    "    # in your ECR\n",
    "    cr_res = ecr.create_repository(\n",
    "        repositoryName='example-image')\n",
    "    pp.pprint(cr_res)\n",
    "except Exception as e:\n",
    "    print(e)"
   ]
  },
  {
   "cell_type": "code",
   "execution_count": 4,
   "metadata": {
    "collapsed": true,
    "jupyter": {
     "outputs_hidden": true
    }
   },
   "outputs": [
    {
     "name": "stdout",
     "output_type": "stream",
     "text": [
      "Sending build context to Docker daemon   16.9kB\n",
      "Step 1/4 : FROM continuumio/miniconda:latest\n",
      " ---> b8ea69b5c41c\n",
      "Step 2/4 : RUN mkdir -p /opt/ml\n",
      " ---> Using cache\n",
      " ---> a170cc3fed03\n",
      "Step 3/4 : COPY train.py /usr/bin/train\n",
      " ---> Using cache\n",
      " ---> 4e19c1cb2076\n",
      "Step 4/4 : RUN chmod +x /usr/bin/train\n",
      " ---> Using cache\n",
      " ---> 38609e5aaa0d\n",
      "Successfully built 38609e5aaa0d\n",
      "Successfully tagged example-image:latest\n",
      "== Files in train channel ==\n",
      "== Files in the test channel ==\n",
      "== Saving model checkpoint ==\n",
      "== training completed ==\n",
      "\n",
      "Login Succeeded\n",
      "The push refers to repository [688520471316.dkr.ecr.us-west-2.amazonaws.com/example-image]\n",
      "967579d07803: Preparing\n",
      "5c8c2d1bcfe6: Preparing\n",
      "88674bdc7fd9: Preparing\n",
      "78db50750faa: Preparing\n",
      "805309d6b0e2: Preparing\n",
      "2db44bce66cd: Preparing\n",
      "2db44bce66cd: Waiting\n",
      "805309d6b0e2: Layer already exists\n",
      "967579d07803: Layer already exists\n",
      "5c8c2d1bcfe6: Layer already exists\n",
      "88674bdc7fd9: Layer already exists\n",
      "78db50750faa: Layer already exists\n",
      "2db44bce66cd: Layer already exists\n",
      "latest: digest: sha256:00da6c645b4f0f3595a6e672fe406d4cfa9b1546ab25e698ae8ad17a293e2c9f size: 1574\n"
     ]
    },
    {
     "name": "stderr",
     "output_type": "stream",
     "text": [
      "WARNING! Your password will be stored unencrypted in /home/ubuntu/.docker/config.json.\n",
      "Configure a credential helper to remove this warning. See\n",
      "https://docs.docker.com/engine/reference/commandline/login/#credentials-store\n",
      "\n"
     ]
    }
   ],
   "source": [
    "%%sh\n",
    "# build the image\n",
    "cd container/\n",
    "\n",
    "# tag it as example-image:latest\n",
    "docker build -t example-image:latest .\n",
    "    \n",
    "# test the container\n",
    "python local_test/test_container.py\n",
    "\n",
    "account=$(aws sts get-caller-identity --query Account | sed -e 's/^\"//' -e 's/\"$//')\n",
    "region=$(aws configure get region)\n",
    "ecr_account=${account}.dkr.ecr.${region}.amazonaws.com\n",
    "\n",
    "# Give docker your ECR login password\n",
    "aws ecr get-login-password --region $region | docker login --username AWS --password-stdin $ecr_account\n",
    "\n",
    "# Fullname of the repo\n",
    "fullname=$ecr_account/example-image:latest\n",
    "\n",
    "# Tag the image with the fullname\n",
    "docker tag example-image:latest $fullname\n",
    "\n",
    "# Push to ECR\n",
    "docker push $fullname"
   ]
  },
  {
   "cell_type": "markdown",
   "metadata": {},
   "source": [
    "## Create a VPC\n",
    "\n",
    "You can think of Amazon VPC as the traditional network in a data center in the cloud. \n",
    "\n",
    "The following are the key concepts for VPCs: \n",
    "* Virtual private cloud (VPC) — A virtual network dedicated to your AWS account.\n",
    "* Subnet — A range of IP addresses in your VPC.\n",
    "* Route table — A set of rules, called routes, that are used to determine where network traffic is directed.\n",
    "* Internet gateway — A gateway that you attach to your VPC to enable communication between resources in your VPC and the internet.\n",
    "* VPC endpoint — Enables you to privately connect your VPC to supported AWS services and VPC endpoint services powered by PrivateLink without requiring an internet gateway, NAT device, VPN connection, or AWS Direct Connect connection. Instances in your VPC do not require public IP addresses to communicate with resources in the service. Traffic between your VPC and the other service does not leave the Amazon network. For more information, see AWS PrivateLink and VPC endpoints.\n",
    "* CIDR block —Classless Inter-Domain Routing. An internet protocol address allocation and route aggregation methodology. For more information, see [Classless Inter-Domain Routing](https://en.wikipedia.org/wiki/Classless_Inter-Domain_Routing#CIDR_notation) in Wikipedia.\n",
    "\n",
    "All of these concepts are explained in the [official docs](https://docs.aws.amazon.com/vpc/latest/userguide/what-is-amazon-vpc.html). \n"
   ]
  },
  {
   "cell_type": "code",
   "execution_count": 5,
   "metadata": {},
   "outputs": [
    {
     "name": "stdout",
     "output_type": "stream",
     "text": [
      "{'ResponseMetadata': {'HTTPHeaders': {'cache-control': 'no-cache, no-store',\n",
      "                                      'content-length': '1054',\n",
      "                                      'content-type': 'text/xml;charset=UTF-8',\n",
      "                                      'date': 'Fri, 19 Mar 2021 01:15:46 GMT',\n",
      "                                      'server': 'AmazonEC2',\n",
      "                                      'strict-transport-security': 'max-age=31536000; '\n",
      "                                                                   'includeSubDomains',\n",
      "                                      'x-amzn-requestid': '9fd072ec-01be-4ecb-b9e3-2e9a317d3e67'},\n",
      "                      'HTTPStatusCode': 200,\n",
      "                      'RequestId': '9fd072ec-01be-4ecb-b9e3-2e9a317d3e67',\n",
      "                      'RetryAttempts': 0},\n",
      " 'Vpc': {'CidrBlock': '10.0.0.0/20',\n",
      "         'CidrBlockAssociationSet': [{'AssociationId': 'vpc-cidr-assoc-0b6e7b82620de322c',\n",
      "                                      'CidrBlock': '10.0.0.0/20',\n",
      "                                      'CidrBlockState': {'State': 'associated'}}],\n",
      "         'DhcpOptionsId': 'dopt-8b1f91ef',\n",
      "         'InstanceTenancy': 'default',\n",
      "         'Ipv6CidrBlockAssociationSet': [],\n",
      "         'IsDefault': False,\n",
      "         'OwnerId': '688520471316',\n",
      "         'State': 'pending',\n",
      "         'Tags': [{'Key': 'Name', 'Value': 'hello-world'}],\n",
      "         'VpcId': 'vpc-0b52a6097c86ebdc3'}}\n"
     ]
    }
   ],
   "source": [
    "# Create a VPC in your default region\n",
    "\n",
    "ec2 = boto3.client('ec2')\n",
    "\n",
    "vpc_res = ec2.create_vpc(\n",
    "    CidrBlock='10.0.0.0/20', # 2^(32 - 20) = 4906 private ipv4 addrs\n",
    "    AmazonProvidedIpv6CidrBlock=False,\n",
    "    DryRun=False,\n",
    "    TagSpecifications=[\n",
    "        {\n",
    "            'ResourceType': 'vpc', \n",
    "            'Tags':[\n",
    "                {\n",
    "                    'Key': 'Name',\n",
    "                    'Value': 'hello-world'\n",
    "                },\n",
    "            ]\n",
    "        },\n",
    "    ]\n",
    ")\n",
    "\n",
    "pp.pprint(vpc_res)"
   ]
  },
  {
   "cell_type": "code",
   "execution_count": 6,
   "metadata": {},
   "outputs": [
    {
     "name": "stdout",
     "output_type": "stream",
     "text": [
      "[{'CidrBlock': '10.0.0.0/20',\n",
      "  'CidrBlockAssociationSet': [{'AssociationId': 'vpc-cidr-assoc-0b6e7b82620de322c',\n",
      "                               'CidrBlock': '10.0.0.0/20',\n",
      "                               'CidrBlockState': {'State': 'associated'}}],\n",
      "  'DhcpOptionsId': 'dopt-8b1f91ef',\n",
      "  'InstanceTenancy': 'default',\n",
      "  'IsDefault': False,\n",
      "  'OwnerId': '688520471316',\n",
      "  'State': 'available',\n",
      "  'Tags': [{'Key': 'Name', 'Value': 'hello-world'}],\n",
      "  'VpcId': 'vpc-0b52a6097c86ebdc3'}]\n"
     ]
    }
   ],
   "source": [
    "# inspect this VPC in details\n",
    "\n",
    "vpc_des = ec2.describe_vpcs(\n",
    "    VpcIds=[vpc_res['Vpc']['VpcId']]\n",
    "    )\n",
    "pp.pprint(vpc_des['Vpcs'])"
   ]
  },
  {
   "cell_type": "code",
   "execution_count": 7,
   "metadata": {},
   "outputs": [
    {
     "name": "stdout",
     "output_type": "stream",
     "text": [
      "{'ResponseMetadata': {'HTTPHeaders': {'cache-control': 'no-cache, no-store',\n",
      "                                      'content-length': '927',\n",
      "                                      'content-type': 'text/xml;charset=UTF-8',\n",
      "                                      'date': 'Fri, 19 Mar 2021 01:22:03 GMT',\n",
      "                                      'server': 'AmazonEC2',\n",
      "                                      'strict-transport-security': 'max-age=31536000; '\n",
      "                                                                   'includeSubDomains',\n",
      "                                      'x-amzn-requestid': 'aa405e89-96cc-4a17-9552-9fd19d1a2429'},\n",
      "                      'HTTPStatusCode': 200,\n",
      "                      'RequestId': 'aa405e89-96cc-4a17-9552-9fd19d1a2429',\n",
      "                      'RetryAttempts': 0},\n",
      " 'Subnet': {'AssignIpv6AddressOnCreation': False,\n",
      "            'AvailabilityZone': 'us-west-2a',\n",
      "            'AvailabilityZoneId': 'usw2-az2',\n",
      "            'AvailableIpAddressCount': 11,\n",
      "            'CidrBlock': '10.0.0.0/28',\n",
      "            'DefaultForAz': False,\n",
      "            'Ipv6CidrBlockAssociationSet': [],\n",
      "            'MapPublicIpOnLaunch': False,\n",
      "            'OwnerId': '688520471316',\n",
      "            'State': 'available',\n",
      "            'SubnetArn': 'arn:aws:ec2:us-west-2:688520471316:subnet/subnet-06c7f02c022592663',\n",
      "            'SubnetId': 'subnet-06c7f02c022592663',\n",
      "            'VpcId': 'vpc-0b52a6097c86ebdc3'}}\n"
     ]
    }
   ],
   "source": [
    "# create subnet and associate it with route table\n",
    "\n",
    "def get_first_availability_zone():\n",
    "    region_name = boto3.Session().region_name\n",
    "    avz_res = ec2.describe_availability_zones(\n",
    "        Filters=[\n",
    "            {\n",
    "                \"Name\": \"region-name\",\n",
    "                \"Values\": [region_name]\n",
    "            }\n",
    "        ],\n",
    "        AllAvailabilityZones=True,\n",
    "    )\n",
    "    \n",
    "    for az in avz_res['AvailabilityZones']:\n",
    "        if az['ZoneType']=='availability-zone':\n",
    "            return az\n",
    "    else:\n",
    "        return None\n",
    "    \n",
    "def create_subnet(vpc_id, cidr_block, dry_run):\n",
    "    \"\"\"Create a subnet in the first availability zone in your current region\"\"\"\n",
    "    az = get_first_availability_zone()\n",
    "    if az is not None:\n",
    "        subnet_res = ec2.create_subnet(\n",
    "            AvailabilityZone = az['ZoneName'], #'us-west-2a',\n",
    "            VpcId = vpc_id,                    # vpc_res['Vpc']['VpcId'],\n",
    "            CidrBlock= cidr_block,             #'100.68.0.18/18',\n",
    "            DryRun=dry_run                     # True,\n",
    "        )\n",
    "        return subnet_res\n",
    "    else:\n",
    "        raise \"No availability zone\"\n",
    "        \n",
    "sn_res = create_subnet(\n",
    "    vpc_id=vpc_res['Vpc']['VpcId'],\n",
    "    cidr_block='10.0.0.0/28', # I want 2 ^ (32 - 28) private ipv4 in this subnet\n",
    "    dry_run=False)\n",
    "\n",
    "pp.pprint(sn_res)"
   ]
  },
  {
   "cell_type": "code",
   "execution_count": 10,
   "metadata": {},
   "outputs": [
    {
     "name": "stdout",
     "output_type": "stream",
     "text": [
      "{'GroupId': 'sg-023956e2fa664f5dd',\n",
      " 'ResponseMetadata': {'HTTPHeaders': {'cache-control': 'no-cache, no-store',\n",
      "                                      'content-length': '409',\n",
      "                                      'content-type': 'text/xml;charset=UTF-8',\n",
      "                                      'date': 'Fri, 19 Mar 2021 01:22:38 GMT',\n",
      "                                      'server': 'AmazonEC2',\n",
      "                                      'strict-transport-security': 'max-age=31536000; '\n",
      "                                                                   'includeSubDomains',\n",
      "                                      'x-amzn-requestid': '7a29e519-64c5-42f2-8f4b-b5a9a697b6c5'},\n",
      "                      'HTTPStatusCode': 200,\n",
      "                      'RequestId': '7a29e519-64c5-42f2-8f4b-b5a9a697b6c5',\n",
      "                      'RetryAttempts': 0},\n",
      " 'Tags': [{'Key': 'Service', 'Value': 'SageMaker'}]}\n"
     ]
    }
   ],
   "source": [
    "# create a security group\n",
    "\n",
    "sg_res = ec2.create_security_group(\n",
    "    Description='security group for SageMaker instances',\n",
    "    GroupName='sagemaker-private',\n",
    "    VpcId=vpc_res['Vpc']['VpcId'],\n",
    "    TagSpecifications=[\n",
    "        {\n",
    "            \"ResourceType\": \"security-group\",\n",
    "            \"Tags\" : [\n",
    "                {   \n",
    "                    \"Key\": \"Service\", # Tag the sec gp by service, this can be used to filter sec gps\n",
    "                    \"Value\": \"SageMaker\" \n",
    "                }\n",
    "            ]\n",
    "        }\n",
    "    ]\n",
    "\n",
    ")\n",
    "\n",
    "pp.pprint(sg_res)"
   ]
  },
  {
   "cell_type": "code",
   "execution_count": 11,
   "metadata": {},
   "outputs": [
    {
     "data": {
      "text/plain": [
       "{'SecurityGroups': [{'Description': 'security group for SageMaker instances',\n",
       "   'GroupName': 'sagemaker-private',\n",
       "   'IpPermissions': [],\n",
       "   'OwnerId': '688520471316',\n",
       "   'GroupId': 'sg-023956e2fa664f5dd',\n",
       "   'IpPermissionsEgress': [{'IpProtocol': '-1',\n",
       "     'IpRanges': [{'CidrIp': '0.0.0.0/0'}],\n",
       "     'Ipv6Ranges': [],\n",
       "     'PrefixListIds': [],\n",
       "     'UserIdGroupPairs': []}],\n",
       "   'Tags': [{'Key': 'Service', 'Value': 'SageMaker'}],\n",
       "   'VpcId': 'vpc-0b52a6097c86ebdc3'}],\n",
       " 'ResponseMetadata': {'RequestId': '680b4acb-13b2-4de0-8234-e9b6ef93ce2c',\n",
       "  'HTTPStatusCode': 200,\n",
       "  'HTTPHeaders': {'x-amzn-requestid': '680b4acb-13b2-4de0-8234-e9b6ef93ce2c',\n",
       "   'cache-control': 'no-cache, no-store',\n",
       "   'strict-transport-security': 'max-age=31536000; includeSubDomains',\n",
       "   'content-type': 'text/xml;charset=UTF-8',\n",
       "   'content-length': '1233',\n",
       "   'date': 'Fri, 19 Mar 2021 01:22:40 GMT',\n",
       "   'server': 'AmazonEC2'},\n",
       "  'RetryAttempts': 0}}"
      ]
     },
     "execution_count": 11,
     "metadata": {},
     "output_type": "execute_result"
    }
   ],
   "source": [
    "# inspect the security group in detail\n",
    "\n",
    "ec2.describe_security_groups(\n",
    "    GroupIds=[\n",
    "        sg_res['GroupId']\n",
    "    ]\n",
    ")"
   ]
  },
  {
   "cell_type": "code",
   "execution_count": null,
   "metadata": {},
   "outputs": [],
   "source": []
  }
 ],
 "metadata": {
  "kernelspec": {
   "display_name": "Python 3",
   "language": "python",
   "name": "python3"
  },
  "language_info": {
   "codemirror_mode": {
    "name": "ipython",
    "version": 3
   },
   "file_extension": ".py",
   "mimetype": "text/x-python",
   "name": "python",
   "nbconvert_exporter": "python",
   "pygments_lexer": "ipython3",
   "version": "3.6.10"
  }
 },
 "nbformat": 4,
 "nbformat_minor": 4
}
