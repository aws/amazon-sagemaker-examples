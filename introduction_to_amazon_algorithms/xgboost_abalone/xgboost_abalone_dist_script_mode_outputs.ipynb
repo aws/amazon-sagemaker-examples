{
 "cells": [
  {
   "cell_type": "code",
   "execution_count": 1,
   "id": "cb28f807",
   "metadata": {
    "execution": {
     "iopub.execute_input": "2022-04-07T00:25:47.973926Z",
     "iopub.status.busy": "2022-04-07T00:25:47.972897Z",
     "iopub.status.idle": "2022-04-07T00:25:47.974940Z",
     "shell.execute_reply": "2022-04-07T00:25:47.975424Z"
    },
    "papermill": {
     "duration": 0.018488,
     "end_time": "2022-04-07T00:25:47.975614",
     "exception": false,
     "start_time": "2022-04-07T00:25:47.957126",
     "status": "completed"
    },
    "tags": [
     "injected-parameters"
    ]
   },
   "outputs": [],
   "source": [
    "# Parameters\n",
    "kms_key = \"arn:aws:kms:us-west-2:000000000000:1234abcd-12ab-34cd-56ef-1234567890ab\"\n"
   ]
  },
  {
   "cell_type": "markdown",
   "id": "ac4c0d28",
   "metadata": {
    "papermill": {
     "duration": 0.01089,
     "end_time": "2022-04-07T00:25:47.998736",
     "exception": false,
     "start_time": "2022-04-07T00:25:47.987846",
     "status": "completed"
    },
    "tags": []
   },
   "source": [
    "# Regression with Amazon SageMaker XGBoost algorithm\n",
    "_**Distributed training for regression with Amazon SageMaker XGBoost script mode**_\n",
    "\n",
    "---\n",
    "\n",
    "## Contents\n",
    "1. [Introduction](#Introduction)\n",
    "2. [Setup](#Setup)\n",
    "  1. [Fetching the dataset](#Fetching-the-dataset)\n",
    "  2. [Data Ingestion](#Data-ingestion)\n",
    "3. [Training the XGBoost model](#Training-the-XGBoost-model)\n",
    "3. [Deploying the XGBoost model](#Deploying-the-XGBoost-model)\n",
    "\n",
    "---"
   ]
  },
  {
   "cell_type": "markdown",
   "id": "e54b0ad0",
   "metadata": {
    "papermill": {
     "duration": 0.011163,
     "end_time": "2022-04-07T00:25:48.021781",
     "exception": false,
     "start_time": "2022-04-07T00:25:48.010618",
     "status": "completed"
    },
    "tags": []
   },
   "source": [
    "## Introduction\n",
    "\n",
    "This notebook demonstrates the use of Amazon SageMaker XGBoost to train and host a regression model. [XGBoost (eXtreme Gradient Boosting)](https://xgboost.readthedocs.io) is a popular and efficient machine learning algorithm used for regression and classification tasks on tabular datasets. It implements a technique know as gradient boosting on trees, and performs remarkably well in machine learning competitions, and gets a lot of attention from customers. \n",
    "\n",
    "We use the [Abalone data](https://www.csie.ntu.edu.tw/~cjlin/libsvmtools/datasets/regression.html), originally from the [UCI data repository](https://archive.ics.uci.edu/ml/datasets/abalone). More details about the original dataset can be found [here](https://archive.ics.uci.edu/ml/machine-learning-databases/abalone/abalone.names).  In this libsvm converted version, the nominal feature (Male/Female/Infant) has been converted into a real valued feature as required by XGBoost. Age of abalone is to be predicted from eight physical measurements.  \n",
    "\n",
    "---\n",
    "## Setup\n",
    "\n",
    "\n",
    "This notebook was created and tested on an ml.m5.2xlarge notebook instance.  This notebook was run with the Python 3 (Data Science) kernel.\n",
    "\n",
    "Let's start by specifying:\n",
    "1. The S3 bucket and prefix that you want to use for training and model data. This should be within the same region as the Notebook Instance, training, and hosting.\n",
    "1. The IAM role arn used to give training and hosting access to your data. See the documentation for how to create these. Note, if more than one role is required for notebook instances, training, and/or hosting, please replace the boto regexp with a the appropriate full IAM role arn string(s)."
   ]
  },
  {
   "cell_type": "code",
   "execution_count": 2,
   "id": "e39164a4",
   "metadata": {
    "execution": {
     "iopub.execute_input": "2022-04-07T00:25:48.049346Z",
     "iopub.status.busy": "2022-04-07T00:25:48.048284Z",
     "iopub.status.idle": "2022-04-07T00:25:49.851319Z",
     "shell.execute_reply": "2022-04-07T00:25:49.850877Z"
    },
    "papermill": {
     "duration": 1.818384,
     "end_time": "2022-04-07T00:25:49.851444",
     "exception": false,
     "start_time": "2022-04-07T00:25:48.033060",
     "status": "completed"
    },
    "tags": []
   },
   "outputs": [
    {
     "name": "stdout",
     "output_type": "stream",
     "text": [
      "Name: sagemaker\r\n",
      "Version: 2.69.1.dev0\r\n",
      "Summary: Open source library for training and deploying models on Amazon SageMaker.\r\n",
      "Home-page: https://github.com/aws/sagemaker-python-sdk/\r\n",
      "Author: Amazon Web Services\r\n",
      "Author-email: None\r\n",
      "License: Apache License 2.0\r\n",
      "Location: /opt/conda/lib/python3.7/site-packages\r\n",
      "Requires: protobuf3-to-dict, packaging, numpy, pandas, importlib-metadata, attrs, smdebug-rulesconfig, protobuf, boto3, google-pasta, pathos\r\n",
      "Required-by: \r\n"
     ]
    }
   ],
   "source": [
    "# ensure sagemaker version >= 2.00.0\n",
    "!pip show sagemaker"
   ]
  },
  {
   "cell_type": "code",
   "execution_count": 3,
   "id": "93a4016f",
   "metadata": {
    "execution": {
     "iopub.execute_input": "2022-04-07T00:25:49.880772Z",
     "iopub.status.busy": "2022-04-07T00:25:49.879877Z",
     "iopub.status.idle": "2022-04-07T00:25:51.168013Z",
     "shell.execute_reply": "2022-04-07T00:25:51.168373Z"
    },
    "isConfigCell": true,
    "papermill": {
     "duration": 1.305468,
     "end_time": "2022-04-07T00:25:51.168516",
     "exception": false,
     "start_time": "2022-04-07T00:25:49.863048",
     "status": "completed"
    },
    "tags": []
   },
   "outputs": [
    {
     "name": "stdout",
     "output_type": "stream",
     "text": [
      "us-west-2\n",
      "CPU times: user 761 ms, sys: 173 ms, total: 934 ms\n",
      "Wall time: 1.29 s\n"
     ]
    }
   ],
   "source": [
    "%%time\n",
    "\n",
    "import os\n",
    "import boto3\n",
    "import re\n",
    "import sagemaker\n",
    "\n",
    "# Get a SageMaker-compatible role used by this Notebook Instance.\n",
    "role = sagemaker.get_execution_role()\n",
    "region = boto3.Session().region_name\n",
    "\n",
    "### update below values appropriately ###\n",
    "bucket = sagemaker.Session().default_bucket()\n",
    "prefix = \"sagemaker/DEMO-xgboost-dist-script\"\n",
    "####\n",
    "\n",
    "print(region)"
   ]
  },
  {
   "cell_type": "markdown",
   "id": "990442c7",
   "metadata": {
    "papermill": {
     "duration": 0.01314,
     "end_time": "2022-04-07T00:25:51.193139",
     "exception": false,
     "start_time": "2022-04-07T00:25:51.179999",
     "status": "completed"
    },
    "tags": []
   },
   "source": [
    "### Fetching the dataset\n",
    "\n",
    "Following methods split the data into train/test/validation datasets and upload files to S3."
   ]
  },
  {
   "cell_type": "code",
   "execution_count": 4,
   "id": "982f4c79",
   "metadata": {
    "execution": {
     "iopub.execute_input": "2022-04-07T00:25:51.226549Z",
     "iopub.status.busy": "2022-04-07T00:25:51.225273Z",
     "iopub.status.idle": "2022-04-07T00:25:51.228918Z",
     "shell.execute_reply": "2022-04-07T00:25:51.229511Z"
    },
    "papermill": {
     "duration": 0.025338,
     "end_time": "2022-04-07T00:25:51.229691",
     "exception": false,
     "start_time": "2022-04-07T00:25:51.204353",
     "status": "completed"
    },
    "tags": []
   },
   "outputs": [
    {
     "name": "stdout",
     "output_type": "stream",
     "text": [
      "CPU times: user 9 µs, sys: 1 µs, total: 10 µs\n",
      "Wall time: 13.6 µs\n"
     ]
    }
   ],
   "source": [
    "%%time\n",
    "\n",
    "import io\n",
    "import boto3\n",
    "import random\n",
    "\n",
    "\n",
    "def data_split(\n",
    "    FILE_DATA,\n",
    "    DATA_DIR,\n",
    "    FILE_TRAIN_BASE,\n",
    "    FILE_TRAIN_1,\n",
    "    FILE_VALIDATION,\n",
    "    FILE_TEST,\n",
    "    PERCENT_TRAIN_0,\n",
    "    PERCENT_TRAIN_1,\n",
    "    PERCENT_VALIDATION,\n",
    "    PERCENT_TEST,\n",
    "):\n",
    "    data = [l for l in open(FILE_DATA, \"r\")]\n",
    "    train_file_0 = open(DATA_DIR + \"/\" + FILE_TRAIN_0, \"w\")\n",
    "    train_file_1 = open(DATA_DIR + \"/\" + FILE_TRAIN_1, \"w\")\n",
    "    valid_file = open(DATA_DIR + \"/\" + FILE_VALIDATION, \"w\")\n",
    "    tests_file = open(DATA_DIR + \"/\" + FILE_TEST, \"w\")\n",
    "\n",
    "    num_of_data = len(data)\n",
    "    num_train_0 = int((PERCENT_TRAIN_0 / 100.0) * num_of_data)\n",
    "    num_train_1 = int((PERCENT_TRAIN_1 / 100.0) * num_of_data)\n",
    "    num_valid = int((PERCENT_VALIDATION / 100.0) * num_of_data)\n",
    "    num_tests = int((PERCENT_TEST / 100.0) * num_of_data)\n",
    "\n",
    "    data_fractions = [num_train_0, num_train_1, num_valid, num_tests]\n",
    "    split_data = [[], [], [], []]\n",
    "\n",
    "    rand_data_ind = 0\n",
    "\n",
    "    for split_ind, fraction in enumerate(data_fractions):\n",
    "        for i in range(fraction):\n",
    "            rand_data_ind = random.randint(0, len(data) - 1)\n",
    "            split_data[split_ind].append(data[rand_data_ind])\n",
    "            data.pop(rand_data_ind)\n",
    "\n",
    "    for l in split_data[0]:\n",
    "        train_file_0.write(l)\n",
    "\n",
    "    for l in split_data[1]:\n",
    "        train_file_1.write(l)\n",
    "\n",
    "    for l in split_data[2]:\n",
    "        valid_file.write(l)\n",
    "\n",
    "    for l in split_data[3]:\n",
    "        tests_file.write(l)\n",
    "\n",
    "    train_file_0.close()\n",
    "    train_file_1.close()\n",
    "    valid_file.close()\n",
    "    tests_file.close()\n",
    "\n",
    "\n",
    "def write_to_s3(fobj, bucket, key):\n",
    "    return (\n",
    "        boto3.Session(region_name=region)\n",
    "        .resource(\"s3\")\n",
    "        .Bucket(bucket)\n",
    "        .Object(key)\n",
    "        .upload_fileobj(fobj)\n",
    "    )\n",
    "\n",
    "\n",
    "def upload_to_s3(bucket, channel, filename):\n",
    "    fobj = open(filename, \"rb\")\n",
    "    key = prefix + \"/\" + channel\n",
    "    url = \"s3://{}/{}/{}\".format(bucket, key, filename)\n",
    "    print(\"Writing to {}\".format(url))\n",
    "    write_to_s3(fobj, bucket, key)"
   ]
  },
  {
   "cell_type": "markdown",
   "id": "a5cdf883",
   "metadata": {
    "papermill": {
     "duration": 0.011577,
     "end_time": "2022-04-07T00:25:51.253050",
     "exception": false,
     "start_time": "2022-04-07T00:25:51.241473",
     "status": "completed"
    },
    "tags": []
   },
   "source": [
    "### Data ingestion\n",
    "\n",
    "Next, we read the dataset from the existing repository into memory, for preprocessing prior to training. This processing could be done *in situ* by Amazon Athena, Apache Spark in Amazon EMR, Amazon Redshift, etc., assuming the dataset is present in the appropriate location. Then, the next step would be to transfer the data to S3 for use in training. For small datasets, such as this one, reading into memory isn't onerous, though it would be for larger datasets."
   ]
  },
  {
   "cell_type": "code",
   "execution_count": 5,
   "id": "62537bfe",
   "metadata": {
    "execution": {
     "iopub.execute_input": "2022-04-07T00:25:51.289631Z",
     "iopub.status.busy": "2022-04-07T00:25:51.288983Z",
     "iopub.status.idle": "2022-04-07T00:25:52.024048Z",
     "shell.execute_reply": "2022-04-07T00:25:52.023604Z"
    },
    "papermill": {
     "duration": 0.759583,
     "end_time": "2022-04-07T00:25:52.024184",
     "exception": false,
     "start_time": "2022-04-07T00:25:51.264601",
     "status": "completed"
    },
    "tags": []
   },
   "outputs": [
    {
     "name": "stdout",
     "output_type": "stream",
     "text": [
      "CPU times: user 75.1 ms, sys: 8.56 ms, total: 83.6 ms\n",
      "Wall time: 739 ms\n"
     ]
    }
   ],
   "source": [
    "%%time\n",
    "import boto3\n",
    "\n",
    "# Load the dataset\n",
    "FILE_DATA = \"abalone\"\n",
    "s3 = boto3.client(\"s3\")\n",
    "s3.download_file(\n",
    "    f\"sagemaker-sample-files\", \"datasets/tabular/uci_abalone/abalone.libsvm\", FILE_DATA\n",
    ")\n",
    "\n",
    "# split the downloaded data into train/test/validation files\n",
    "FILE_TRAIN_0 = \"abalone.train_0\"\n",
    "FILE_TRAIN_1 = \"abalone.train_1\"\n",
    "FILE_VALIDATION = \"abalone.validation\"\n",
    "FILE_TEST = \"abalone.test\"\n",
    "PERCENT_TRAIN_0 = 35\n",
    "PERCENT_TRAIN_1 = 35\n",
    "PERCENT_VALIDATION = 15\n",
    "PERCENT_TEST = 15\n",
    "\n",
    "DATA_DIR = \"data\"\n",
    "\n",
    "if not os.path.exists(DATA_DIR):\n",
    "    os.mkdir(DATA_DIR)\n",
    "\n",
    "data_split(\n",
    "    FILE_DATA,\n",
    "    DATA_DIR,\n",
    "    FILE_TRAIN_0,\n",
    "    FILE_TRAIN_1,\n",
    "    FILE_VALIDATION,\n",
    "    FILE_TEST,\n",
    "    PERCENT_TRAIN_0,\n",
    "    PERCENT_TRAIN_1,\n",
    "    PERCENT_VALIDATION,\n",
    "    PERCENT_TEST,\n",
    ")"
   ]
  },
  {
   "cell_type": "code",
   "execution_count": 6,
   "id": "cdce9560",
   "metadata": {
    "execution": {
     "iopub.execute_input": "2022-04-07T00:25:52.067070Z",
     "iopub.status.busy": "2022-04-07T00:25:52.066029Z",
     "iopub.status.idle": "2022-04-07T00:25:52.805590Z",
     "shell.execute_reply": "2022-04-07T00:25:52.805123Z"
    },
    "papermill": {
     "duration": 0.767464,
     "end_time": "2022-04-07T00:25:52.805752",
     "exception": false,
     "start_time": "2022-04-07T00:25:52.038288",
     "status": "completed"
    },
    "tags": []
   },
   "outputs": [
    {
     "name": "stdout",
     "output_type": "stream",
     "text": [
      "Writing to s3://sagemaker-us-west-2-000000000000/sagemaker/DEMO-xgboost-dist-script/train/train_0.libsvm/data/abalone.train_0\n"
     ]
    },
    {
     "name": "stdout",
     "output_type": "stream",
     "text": [
      "Writing to s3://sagemaker-us-west-2-000000000000/sagemaker/DEMO-xgboost-dist-script/train/train_1.libsvm/data/abalone.train_1\n",
      "Writing to s3://sagemaker-us-west-2-000000000000/sagemaker/DEMO-xgboost-dist-script/validation/validation.libsvm/data/abalone.validation\n"
     ]
    },
    {
     "name": "stdout",
     "output_type": "stream",
     "text": [
      "Writing to s3://sagemaker-us-west-2-000000000000/sagemaker/DEMO-xgboost-dist-script/test/test.libsvm/data/abalone.test\n"
     ]
    }
   ],
   "source": [
    "# upload the files to the S3 bucket\n",
    "upload_to_s3(bucket, \"train/train_0.libsvm\", DATA_DIR + \"/\" + FILE_TRAIN_0)\n",
    "upload_to_s3(bucket, \"train/train_1.libsvm\", DATA_DIR + \"/\" + FILE_TRAIN_1)\n",
    "upload_to_s3(bucket, \"validation/validation.libsvm\", DATA_DIR + \"/\" + FILE_VALIDATION)\n",
    "upload_to_s3(bucket, \"test/test.libsvm\", DATA_DIR + \"/\" + FILE_TEST)"
   ]
  },
  {
   "cell_type": "markdown",
   "id": "39481762",
   "metadata": {
    "papermill": {
     "duration": 0.013878,
     "end_time": "2022-04-07T00:25:52.833945",
     "exception": false,
     "start_time": "2022-04-07T00:25:52.820067",
     "status": "completed"
    },
    "tags": []
   },
   "source": [
    "## Create a XGBoost script to train with \n",
    "\n",
    "SageMaker can now run an XGboost script using the XGBoost estimator. When executed on SageMaker a number of helpful environment variables are available to access properties of the training environment, such as:\n",
    "\n",
    "- `SM_MODEL_DIR`: A string representing the path to the directory to write model artifacts to. Any artifacts saved in this folder are uploaded to S3 for model hosting after the training job completes.\n",
    "- `SM_OUTPUT_DIR`: A string representing the filesystem path to write output artifacts to. Output artifacts may include checkpoints, graphs, and other files to save, not including model artifacts. These artifacts are compressed and uploaded to S3 to the same S3 prefix as the model artifacts.\n",
    "\n",
    "Supposing two input channels, 'train' and 'validation', were used in the call to the XGBoost estimator's fit() method, the following environment variables will be set, following the format `SM_CHANNEL_[channel_name]`:\n",
    "\n",
    "`SM_CHANNEL_TRAIN`: A string representing the path to the directory containing data in the 'train' channel\n",
    "`SM_CHANNEL_VALIDATION`: Same as above, but for the 'validation' channel.\n",
    "\n",
    "A typical training script loads data from the input channels, configures training with hyperparameters, trains a model, and saves a model to model_dir so that it can be hosted later. Hyperparameters are passed to your script as arguments and can be retrieved with an argparse.ArgumentParser instance. For example, the script that we will run in this notebook is provided as the accompanying file (`abalone.py`) and also shown below:\n",
    "\n",
    "```python\n",
    "\n",
    "import argparse\n",
    "import json\n",
    "import logging\n",
    "import os\n",
    "import pandas as pd\n",
    "import pickle as pkl\n",
    "\n",
    "from sagemaker_containers import entry_point\n",
    "from sagemaker_xgboost_container.data_utils import get_dmatrix\n",
    "from sagemaker_xgboost_container import distributed\n",
    "\n",
    "import xgboost as xgb\n",
    "\n",
    "\n",
    "def _xgb_train(params, dtrain, evals, num_boost_round, model_dir, is_master):\n",
    "    \"\"\"Run xgb train on arguments given with rabit initialized.\n",
    "\n",
    "    This is our rabit execution function.\n",
    "\n",
    "    :param args_dict: Argument dictionary used to run xgb.train().\n",
    "    :param is_master: True if current node is master host in distributed training, or is running single node training job. Note that rabit_run will include this argument.\n",
    "    \"\"\"\n",
    "    booster = xgb.train(params=params, dtrain=dtrain, evals=evals, num_boost_round=num_boost_round)\n",
    "\n",
    "    if is_master:\n",
    "        model_location = model_dir + '/xgboost-model'\n",
    "        pkl.dump(booster, open(model_location, 'wb'))\n",
    "        logging.info(\"Stored trained model at {}\".format(model_location))\n",
    "\n",
    "\n",
    "if __name__ == '__main__':\n",
    "    parser = argparse.ArgumentParser()\n",
    "\n",
    "    # Hyperparameters are described here. In this simple example we are just including one hyperparameter.\n",
    "    parser.add_argument('--max_depth', type=int,)\n",
    "    parser.add_argument('--eta', type=float)\n",
    "    parser.add_argument('--gamma', type=int)\n",
    "    parser.add_argument('--min_child_weight', type=int)\n",
    "    parser.add_argument('--subsample', type=float)\n",
    "    parser.add_argument('--verbose', type=int)\n",
    "    parser.add_argument('--objective', type=str)\n",
    "    parser.add_argument('--num_round', type=int)\n",
    "\n",
    "    # Sagemaker specific arguments. Defaults are set in the environment variables.\n",
    "    parser.add_argument('--output_data_dir', type=str, default=os.environ['SM_OUTPUT_DATA_DIR'])\n",
    "    parser.add_argument('--model_dir', type=str, default=os.environ['SM_MODEL_DIR'])\n",
    "    parser.add_argument('--train', type=str, default=os.environ['SM_CHANNEL_TRAIN'])\n",
    "    parser.add_argument('--validation', type=str, default=os.environ['SM_CHANNEL_VALIDATION'])\n",
    "    parser.add_argument('--sm_hosts', type=str, default=os.environ['SM_HOSTS'])\n",
    "    parser.add_argument('--sm_current_host', type=str, default=os.environ['SM_CURRENT_HOST'])\n",
    "\n",
    "    args, _ = parser.parse_known_args()\n",
    "\n",
    "    # Get SageMaker host information from runtime environment variables\n",
    "    sm_hosts = json.loads(os.environ['SM_HOSTS'])\n",
    "    sm_current_host = args.sm_current_host\n",
    "\n",
    "    dtrain = get_dmatrix(args.train, 'libsvm')\n",
    "    dval = get_dmatrix(args.validation, 'libsvm')\n",
    "    watchlist = [(dtrain, 'train'), (dval, 'validation')] if dval is not None else [(dtrain, 'train')]\n",
    "\n",
    "    train_hp = {\n",
    "        'max_depth': args.max_depth,\n",
    "        'eta': args.eta,\n",
    "        'gamma': args.gamma,\n",
    "        'min_child_weight': args.min_child_weight,\n",
    "        'subsample': args.subsample,\n",
    "        'verbose': args.verbose,\n",
    "        'objective': args.objective}\n",
    "\n",
    "    xgb_train_args = dict(\n",
    "        params=train_hp,\n",
    "        dtrain=dtrain,\n",
    "        evals=watchlist,\n",
    "        num_boost_round=args.num_round,\n",
    "        model_dir=args.model_dir)\n",
    "\n",
    "    if len(sm_hosts) > 1:\n",
    "        # Wait until all hosts are able to find each other\n",
    "        entry_point._wait_hostname_resolution()\n",
    "\n",
    "        # Execute training function after initializing rabit.\n",
    "        distributed.rabit_run(\n",
    "            exec_fun=_xgb_train,\n",
    "            args=xgb_train_args,\n",
    "            include_in_training=(dtrain is not None),\n",
    "            hosts=sm_hosts,\n",
    "            current_host=sm_current_host,\n",
    "            update_rabit_args=True\n",
    "        )\n",
    "    else:\n",
    "        # If single node training, call training method directly.\n",
    "        if dtrain:\n",
    "            xgb_train_args['is_master'] = True\n",
    "            _xgb_train(**xgb_train_args)\n",
    "        else:\n",
    "            raise ValueError(\"Training channel must have data to train model.\")\n",
    "\n",
    "\n",
    "def model_fn(model_dir):\n",
    "    \"\"\"Deserialized and return fitted model.\n",
    "\n",
    "    Note that this should have the same name as the serialized model in the _xgb_train method\n",
    "    \"\"\"\n",
    "    model_file = 'xgboost-model'\n",
    "    booster = pkl.load(open(os.path.join(model_dir, model_file), 'rb'))\n",
    "    return booster\n",
    "```\n",
    "\n"
   ]
  },
  {
   "cell_type": "markdown",
   "id": "253af398",
   "metadata": {
    "papermill": {
     "duration": 0.018203,
     "end_time": "2022-04-07T00:25:52.865546",
     "exception": false,
     "start_time": "2022-04-07T00:25:52.847343",
     "status": "completed"
    },
    "tags": []
   },
   "source": [
    "Because the container imports your training script, always put your training code in a main guard `(if __name__=='__main__':)` so that the container does not inadvertently run your training code at the wrong point in execution.\n",
    "\n",
    "For more information about training environment variables, please visit https://github.com/aws/sagemaker-containers."
   ]
  },
  {
   "cell_type": "markdown",
   "id": "93edf0b5",
   "metadata": {
    "papermill": {
     "duration": 0.016322,
     "end_time": "2022-04-07T00:25:52.904315",
     "exception": false,
     "start_time": "2022-04-07T00:25:52.887993",
     "status": "completed"
    },
    "tags": []
   },
   "source": [
    "## Training the XGBoost model\n",
    "\n",
    "After setting training parameters, we kick off training, and poll for status until training is completed, which in this example, takes between few minutes.\n",
    "\n",
    "To run our training script on SageMaker, we construct a sagemaker.xgboost.estimator.XGBoost estimator, which accepts several constructor arguments:\n",
    "\n",
    "* __entry_point__: The path to the Python script SageMaker runs for training and prediction.\n",
    "* __role__: Role ARN\n",
    "* __instance_type__ *(optional)*: The type of SageMaker instances for training. __Note__: Because Scikit-learn does not natively support GPU training, Sagemaker Scikit-learn does not currently support training on GPU instance types.\n",
    "* __sagemaker_session__ *(optional)*: The session used to train on Sagemaker.\n",
    "* __hyperparameters__ *(optional)*: A dictionary passed to the train function as hyperparameters."
   ]
  },
  {
   "cell_type": "code",
   "execution_count": 7,
   "id": "3bc7073f",
   "metadata": {
    "execution": {
     "iopub.execute_input": "2022-04-07T00:25:52.941271Z",
     "iopub.status.busy": "2022-04-07T00:25:52.939560Z",
     "iopub.status.idle": "2022-04-07T00:25:52.941979Z",
     "shell.execute_reply": "2022-04-07T00:25:52.942374Z"
    },
    "papermill": {
     "duration": 0.023231,
     "end_time": "2022-04-07T00:25:52.942525",
     "exception": false,
     "start_time": "2022-04-07T00:25:52.919294",
     "status": "completed"
    },
    "tags": []
   },
   "outputs": [],
   "source": [
    "hyperparams = {\n",
    "    \"max_depth\": \"5\",\n",
    "    \"eta\": \"0.2\",\n",
    "    \"gamma\": \"4\",\n",
    "    \"min_child_weight\": \"6\",\n",
    "    \"subsample\": \"0.7\",\n",
    "    \"verbose\": \"1\",\n",
    "    \"objective\": \"reg:linear\",\n",
    "    \"num_round\": \"50\",\n",
    "}\n",
    "\n",
    "instance_type = \"ml.m5.2xlarge\"\n",
    "output_path = \"s3://{}/{}/{}/output\".format(bucket, prefix, \"abalone-dist-xgb\")\n",
    "content_type = \"libsvm\""
   ]
  },
  {
   "cell_type": "code",
   "execution_count": 8,
   "id": "b9558e76",
   "metadata": {
    "execution": {
     "iopub.execute_input": "2022-04-07T00:25:52.984018Z",
     "iopub.status.busy": "2022-04-07T00:25:52.983102Z",
     "iopub.status.idle": "2022-04-07T00:25:53.209081Z",
     "shell.execute_reply": "2022-04-07T00:25:53.210069Z"
    },
    "papermill": {
     "duration": 0.247017,
     "end_time": "2022-04-07T00:25:53.210245",
     "exception": false,
     "start_time": "2022-04-07T00:25:52.963228",
     "status": "completed"
    },
    "tags": []
   },
   "outputs": [],
   "source": [
    "# Open Source distributed script mode\n",
    "from sagemaker.session import TrainingInput, Session\n",
    "from sagemaker.xgboost.estimator import XGBoost\n",
    "\n",
    "boto_session = boto3.Session(region_name=region)\n",
    "session = Session(boto_session=boto_session)\n",
    "script_path = \"abalone.py\"\n",
    "\n",
    "xgb_script_mode_estimator = XGBoost(\n",
    "    entry_point=script_path,\n",
    "    framework_version=\"0.90-1\",  # Note: framework_version is mandatory\n",
    "    hyperparameters=hyperparams,\n",
    "    role=role,\n",
    "    instance_count=2,\n",
    "    instance_type=instance_type,\n",
    "    output_path=output_path,\n",
    ")\n",
    "\n",
    "train_input = TrainingInput(\n",
    "    \"s3://{}/{}/{}/\".format(bucket, prefix, \"train\"), content_type=content_type\n",
    ")\n",
    "validation_input = TrainingInput(\n",
    "    \"s3://{}/{}/{}/\".format(bucket, prefix, \"validation\"), content_type=content_type\n",
    ")"
   ]
  },
  {
   "cell_type": "markdown",
   "id": "7b5bd030",
   "metadata": {
    "papermill": {
     "duration": 0.012977,
     "end_time": "2022-04-07T00:25:53.237360",
     "exception": false,
     "start_time": "2022-04-07T00:25:53.224383",
     "status": "completed"
    },
    "tags": []
   },
   "source": [
    "### Train XGBoost Estimator on abalone data \n",
    "\n",
    "\n",
    "Training is as simple as calling `fit` on the Estimator. This will start a SageMaker Training job that will download the data, invoke the entry point code (in the provided script file), and save any model artifacts that the script creates."
   ]
  },
  {
   "cell_type": "code",
   "execution_count": 9,
   "id": "202c5a21",
   "metadata": {
    "execution": {
     "iopub.execute_input": "2022-04-07T00:25:53.271741Z",
     "iopub.status.busy": "2022-04-07T00:25:53.270813Z",
     "iopub.status.idle": "2022-04-07T00:29:47.275823Z",
     "shell.execute_reply": "2022-04-07T00:29:47.277467Z"
    },
    "papermill": {
     "duration": 234.027129,
     "end_time": "2022-04-07T00:29:47.277701",
     "exception": false,
     "start_time": "2022-04-07T00:25:53.250572",
     "status": "completed"
    },
    "scrolled": true,
    "tags": []
   },
   "outputs": [
    {
     "name": "stdout",
     "output_type": "stream",
     "text": [
      "2022-04-07 00:25:53 Starting - Starting the training job"
     ]
    },
    {
     "name": "stdout",
     "output_type": "stream",
     "text": [
      "."
     ]
    },
    {
     "name": "stdout",
     "output_type": "stream",
     "text": [
      "."
     ]
    },
    {
     "name": "stdout",
     "output_type": "stream",
     "text": [
      "."
     ]
    },
    {
     "name": "stdout",
     "output_type": "stream",
     "text": [
      "\n",
      "2022-04-07 00:26:17 Starting - Preparing the instances for trainingProfilerReport-1649291153: InProgress\n",
      "."
     ]
    },
    {
     "name": "stdout",
     "output_type": "stream",
     "text": [
      "."
     ]
    },
    {
     "name": "stdout",
     "output_type": "stream",
     "text": [
      "."
     ]
    },
    {
     "name": "stdout",
     "output_type": "stream",
     "text": [
      "."
     ]
    },
    {
     "name": "stdout",
     "output_type": "stream",
     "text": [
      "."
     ]
    },
    {
     "name": "stdout",
     "output_type": "stream",
     "text": [
      "."
     ]
    },
    {
     "name": "stdout",
     "output_type": "stream",
     "text": [
      "\n",
      "2022-04-07 00:27:21 Downloading - Downloading input data."
     ]
    },
    {
     "name": "stdout",
     "output_type": "stream",
     "text": [
      "."
     ]
    },
    {
     "name": "stdout",
     "output_type": "stream",
     "text": [
      "."
     ]
    },
    {
     "name": "stdout",
     "output_type": "stream",
     "text": [
      "\n",
      "2022-04-07 00:27:57 Training - Downloading the training image"
     ]
    },
    {
     "name": "stdout",
     "output_type": "stream",
     "text": [
      "."
     ]
    },
    {
     "name": "stdout",
     "output_type": "stream",
     "text": [
      "."
     ]
    },
    {
     "name": "stdout",
     "output_type": "stream",
     "text": [
      "."
     ]
    },
    {
     "name": "stdout",
     "output_type": "stream",
     "text": [
      "\n",
      "2022-04-07 00:28:22 Training - Training image download completed. Training in progress.."
     ]
    },
    {
     "name": "stdout",
     "output_type": "stream",
     "text": [
      "\u001b[34mINFO:sagemaker-containers:Imported framework sagemaker_xgboost_container.training\u001b[0m\n",
      "\u001b[34mINFO:sagemaker-containers:No GPUs detected (normal if no gpus installed)\u001b[0m\n",
      "\u001b[34mINFO:sagemaker_xgboost_container.training:Invoking user training script.\u001b[0m\n",
      "\u001b[34mINFO:sagemaker-containers:Module abalone does not provide a setup.py. \u001b[0m\n",
      "\u001b[34mGenerating setup.py\u001b[0m\n",
      "\u001b[34mINFO:sagemaker-containers:Generating setup.cfg\u001b[0m\n",
      "\u001b[34mINFO:sagemaker-containers:Generating MANIFEST.in\u001b[0m\n",
      "\u001b[34mINFO:sagemaker-containers:Installing module with the following command:\u001b[0m\n",
      "\u001b[34m/miniconda3/bin/python3 -m pip install . \u001b[0m\n",
      "\u001b[34mProcessing /opt/ml/code\u001b[0m\n",
      "\u001b[34mBuilding wheels for collected packages: abalone\n",
      "  Building wheel for abalone (setup.py): started\n",
      "  Building wheel for abalone (setup.py): finished with status 'done'\n",
      "  Created wheel for abalone: filename=abalone-1.0.0-py2.py3-none-any.whl size=6376 sha256=e1196315661acde1db4adb4f8c1ce7d6c86415287151a455297da3f74b7e7e66\n",
      "  Stored in directory: /tmp/pip-ephem-wheel-cache-og7zy2vj/wheels/3e/0f/51/2f1df833dd0412c1bc2f5ee56baac195b5be563353d111dca6\u001b[0m\n",
      "\u001b[34mSuccessfully built abalone\u001b[0m\n",
      "\u001b[34mInstalling collected packages: abalone\u001b[0m\n",
      "\u001b[34mSuccessfully installed abalone-1.0.0\u001b[0m\n",
      "\u001b[34mINFO:sagemaker-containers:No GPUs detected (normal if no gpus installed)\u001b[0m\n",
      "\u001b[34mINFO:sagemaker-containers:Invoking user script\u001b[0m\n",
      "\u001b[34mTraining Env:\u001b[0m\n",
      "\u001b[34m{\n",
      "    \"additional_framework_parameters\": {},\n",
      "    \"channel_input_dirs\": {\n",
      "        \"train\": \"/opt/ml/input/data/train\",\n",
      "        \"validation\": \"/opt/ml/input/data/validation\"\n",
      "    },\n",
      "    \"current_host\": \"algo-1\",\n",
      "    \"framework_module\": \"sagemaker_xgboost_container.training:main\",\n",
      "    \"hosts\": [\n",
      "        \"algo-1\",\n",
      "        \"algo-2\"\n",
      "    ],\n",
      "    \"hyperparameters\": {\n",
      "        \"eta\": \"0.2\",\n",
      "        \"gamma\": \"4\",\n",
      "        \"max_depth\": \"5\",\n",
      "        \"min_child_weight\": \"6\",\n",
      "        \"num_round\": \"50\",\n",
      "        \"objective\": \"reg:linear\",\n",
      "        \"subsample\": \"0.7\",\n",
      "        \"verbose\": \"1\"\n",
      "    },\n",
      "    \"input_config_dir\": \"/opt/ml/input/config\",\n",
      "    \"input_data_config\": {\n",
      "        \"train\": {\n",
      "            \"ContentType\": \"libsvm\",\n",
      "            \"TrainingInputMode\": \"File\",\n",
      "            \"S3DistributionType\": \"FullyReplicated\",\n",
      "            \"RecordWrapperType\": \"None\"\n",
      "        },\n",
      "        \"validation\": {\n",
      "            \"ContentType\": \"libsvm\",\n",
      "            \"TrainingInputMode\": \"File\",\n",
      "            \"S3DistributionType\": \"FullyReplicated\",\n",
      "            \"RecordWrapperType\": \"None\"\n",
      "        }\n",
      "    },\n",
      "    \"input_dir\": \"/opt/ml/input\",\n",
      "    \"is_master\": true,\n",
      "    \"job_name\": \"sagemaker-xgboost-2022-04-07-00-25-53-268\",\n",
      "    \"log_level\": 20,\n",
      "    \"master_hostname\": \"algo-1\",\n",
      "    \"model_dir\": \"/opt/ml/model\",\n",
      "    \"module_dir\": \"s3://sagemaker-us-west-2-000000000000/sagemaker-xgboost-2022-04-07-00-25-53-268/source/sourcedir.tar.gz\",\n",
      "    \"module_name\": \"abalone\",\n",
      "    \"network_interface_name\": \"eth0\",\n",
      "    \"num_cpus\": 8,\n",
      "    \"num_gpus\": 0,\n",
      "    \"output_data_dir\": \"/opt/ml/output/data\",\n",
      "    \"output_dir\": \"/opt/ml/output\",\n",
      "    \"output_intermediate_dir\": \"/opt/ml/output/intermediate\",\n",
      "    \"resource_config\": {\n",
      "        \"current_host\": \"algo-1\",\n",
      "        \"current_instance_type\": \"ml.m5.2xlarge\",\n",
      "        \"current_group_name\": \"homogeneousCluster\",\n",
      "        \"hosts\": [\n",
      "            \"algo-1\",\n",
      "            \"algo-2\"\n",
      "        ],\n",
      "        \"instance_groups\": [\n",
      "            {\n",
      "                \"instance_group_name\": \"homogeneousCluster\",\n",
      "                \"instance_type\": \"ml.m5.2xlarge\",\n",
      "                \"hosts\": [\n",
      "                    \"algo-2\",\n",
      "                    \"algo-1\"\n",
      "                ]\n",
      "            }\n",
      "        ],\n",
      "        \"network_interface_name\": \"eth0\"\n",
      "    },\n",
      "    \"user_entry_point\": \"abalone.py\"\u001b[0m\n",
      "\u001b[34m}\u001b[0m\n",
      "\u001b[34mEnvironment variables:\u001b[0m\n",
      "\u001b[34mSM_HOSTS=[\"algo-1\",\"algo-2\"]\u001b[0m\n",
      "\u001b[34mSM_NETWORK_INTERFACE_NAME=eth0\u001b[0m\n",
      "\u001b[34mSM_HPS={\"eta\":\"0.2\",\"gamma\":\"4\",\"max_depth\":\"5\",\"min_child_weight\":\"6\",\"num_round\":\"50\",\"objective\":\"reg:linear\",\"subsample\":\"0.7\",\"verbose\":\"1\"}\u001b[0m\n",
      "\u001b[34mSM_USER_ENTRY_POINT=abalone.py\u001b[0m\n",
      "\u001b[34mSM_FRAMEWORK_PARAMS={}\u001b[0m\n",
      "\u001b[34mSM_RESOURCE_CONFIG={\"current_group_name\":\"homogeneousCluster\",\"current_host\":\"algo-1\",\"current_instance_type\":\"ml.m5.2xlarge\",\"hosts\":[\"algo-1\",\"algo-2\"],\"instance_groups\":[{\"hosts\":[\"algo-2\",\"algo-1\"],\"instance_group_name\":\"homogeneousCluster\",\"instance_type\":\"ml.m5.2xlarge\"}],\"network_interface_name\":\"eth0\"}\u001b[0m\n",
      "\u001b[34mSM_INPUT_DATA_CONFIG={\"train\":{\"ContentType\":\"libsvm\",\"RecordWrapperType\":\"None\",\"S3DistributionType\":\"FullyReplicated\",\"TrainingInputMode\":\"File\"},\"validation\":{\"ContentType\":\"libsvm\",\"RecordWrapperType\":\"None\",\"S3DistributionType\":\"FullyReplicated\",\"TrainingInputMode\":\"File\"}}\u001b[0m\n",
      "\u001b[34mSM_OUTPUT_DATA_DIR=/opt/ml/output/data\u001b[0m\n",
      "\u001b[34mSM_CHANNELS=[\"train\",\"validation\"]\u001b[0m\n",
      "\u001b[34mSM_CURRENT_HOST=algo-1\u001b[0m\n",
      "\u001b[34mSM_MODULE_NAME=abalone\u001b[0m\n",
      "\u001b[34mSM_LOG_LEVEL=20\u001b[0m\n",
      "\u001b[34mSM_FRAMEWORK_MODULE=sagemaker_xgboost_container.training:main\u001b[0m\n",
      "\u001b[34mSM_INPUT_DIR=/opt/ml/input\u001b[0m\n",
      "\u001b[34mSM_INPUT_CONFIG_DIR=/opt/ml/input/config\u001b[0m\n",
      "\u001b[34mSM_OUTPUT_DIR=/opt/ml/output\u001b[0m\n",
      "\u001b[34mSM_NUM_CPUS=8\u001b[0m\n",
      "\u001b[34mSM_NUM_GPUS=0\u001b[0m\n",
      "\u001b[34mSM_MODEL_DIR=/opt/ml/model\u001b[0m\n",
      "\u001b[34mSM_MODULE_DIR=s3://sagemaker-us-west-2-000000000000/sagemaker-xgboost-2022-04-07-00-25-53-268/source/sourcedir.tar.gz\u001b[0m\n",
      "\u001b[34mSM_TRAINING_ENV={\"additional_framework_parameters\":{},\"channel_input_dirs\":{\"train\":\"/opt/ml/input/data/train\",\"validation\":\"/opt/ml/input/data/validation\"},\"current_host\":\"algo-1\",\"framework_module\":\"sagemaker_xgboost_container.training:main\",\"hosts\":[\"algo-1\",\"algo-2\"],\"hyperparameters\":{\"eta\":\"0.2\",\"gamma\":\"4\",\"max_depth\":\"5\",\"min_child_weight\":\"6\",\"num_round\":\"50\",\"objective\":\"reg:linear\",\"subsample\":\"0.7\",\"verbose\":\"1\"},\"input_config_dir\":\"/opt/ml/input/config\",\"input_data_config\":{\"train\":{\"ContentType\":\"libsvm\",\"RecordWrapperType\":\"None\",\"S3DistributionType\":\"FullyReplicated\",\"TrainingInputMode\":\"File\"},\"validation\":{\"ContentType\":\"libsvm\",\"RecordWrapperType\":\"None\",\"S3DistributionType\":\"FullyReplicated\",\"TrainingInputMode\":\"File\"}},\"input_dir\":\"/opt/ml/input\",\"is_master\":true,\"job_name\":\"sagemaker-xgboost-2022-04-07-00-25-53-268\",\"log_level\":20,\"master_hostname\":\"algo-1\",\"model_dir\":\"/opt/ml/model\",\"module_dir\":\"s3://sagemaker-us-west-2-000000000000/sagemaker-xgboost-2022-04-07-00-25-53-268/source/sourcedir.tar.gz\",\"module_name\":\"abalone\",\"network_interface_name\":\"eth0\",\"num_cpus\":8,\"num_gpus\":0,\"output_data_dir\":\"/opt/ml/output/data\",\"output_dir\":\"/opt/ml/output\",\"output_intermediate_dir\":\"/opt/ml/output/intermediate\",\"resource_config\":{\"current_group_name\":\"homogeneousCluster\",\"current_host\":\"algo-1\",\"current_instance_type\":\"ml.m5.2xlarge\",\"hosts\":[\"algo-1\",\"algo-2\"],\"instance_groups\":[{\"hosts\":[\"algo-2\",\"algo-1\"],\"instance_group_name\":\"homogeneousCluster\",\"instance_type\":\"ml.m5.2xlarge\"}],\"network_interface_name\":\"eth0\"},\"user_entry_point\":\"abalone.py\"}\u001b[0m\n",
      "\u001b[34mSM_USER_ARGS=[\"--eta\",\"0.2\",\"--gamma\",\"4\",\"--max_depth\",\"5\",\"--min_child_weight\",\"6\",\"--num_round\",\"50\",\"--objective\",\"reg:linear\",\"--subsample\",\"0.7\",\"--verbose\",\"1\"]\u001b[0m\n",
      "\u001b[34mSM_OUTPUT_INTERMEDIATE_DIR=/opt/ml/output/intermediate\u001b[0m\n",
      "\u001b[34mSM_CHANNEL_TRAIN=/opt/ml/input/data/train\u001b[0m\n",
      "\u001b[34mSM_CHANNEL_VALIDATION=/opt/ml/input/data/validation\u001b[0m\n",
      "\u001b[34mSM_HP_ETA=0.2\u001b[0m\n",
      "\u001b[34mSM_HP_GAMMA=4\u001b[0m\n",
      "\u001b[34mSM_HP_MAX_DEPTH=5\u001b[0m\n",
      "\u001b[34mSM_HP_MIN_CHILD_WEIGHT=6\u001b[0m\n",
      "\u001b[34mSM_HP_NUM_ROUND=50\u001b[0m\n",
      "\u001b[34mSM_HP_OBJECTIVE=reg:linear\u001b[0m\n",
      "\u001b[34mSM_HP_SUBSAMPLE=0.7\u001b[0m\n",
      "\u001b[34mSM_HP_VERBOSE=1\u001b[0m\n",
      "\u001b[34mPYTHONPATH=/miniconda3/bin:/:/usr/local/lib/python3.7/dist-packages/xgboost/dmlc-core/tracker:/miniconda3/lib/python37.zip:/miniconda3/lib/python3.7:/miniconda3/lib/python3.7/lib-dynload:/miniconda3/lib/python3.7/site-packages\u001b[0m\n",
      "\u001b[34mInvoking script with the following command:\u001b[0m\n",
      "\u001b[34m/miniconda3/bin/python3 -m abalone --eta 0.2 --gamma 4 --max_depth 5 --min_child_weight 6 --num_round 50 --objective reg:linear --subsample 0.7 --verbose 1\u001b[0m\n",
      "\u001b[34m[00:28:28] 2921x9 matrix with 23376 entries loaded from /opt/ml/input/data/train\u001b[0m\n",
      "\u001b[34m[00:28:28] 626x9 matrix with 5008 entries loaded from /opt/ml/input/data/validation\u001b[0m\n",
      "\u001b[35mINFO:sagemaker-containers:Imported framework sagemaker_xgboost_container.training\u001b[0m\n",
      "\u001b[35mINFO:sagemaker-containers:No GPUs detected (normal if no gpus installed)\u001b[0m\n",
      "\u001b[35mINFO:sagemaker_xgboost_container.training:Invoking user training script.\u001b[0m\n",
      "\u001b[35mINFO:sagemaker-containers:Module abalone does not provide a setup.py. \u001b[0m\n",
      "\u001b[35mGenerating setup.py\u001b[0m\n",
      "\u001b[35mINFO:sagemaker-containers:Generating setup.cfg\u001b[0m\n",
      "\u001b[35mINFO:sagemaker-containers:Generating MANIFEST.in\u001b[0m\n",
      "\u001b[35mINFO:sagemaker-containers:Installing module with the following command:\u001b[0m\n",
      "\u001b[35m/miniconda3/bin/python3 -m pip install . \u001b[0m\n",
      "\u001b[35mProcessing /opt/ml/code\u001b[0m\n",
      "\u001b[35mBuilding wheels for collected packages: abalone\n",
      "  Building wheel for abalone (setup.py): started\n",
      "  Building wheel for abalone (setup.py): finished with status 'done'\n",
      "  Created wheel for abalone: filename=abalone-1.0.0-py2.py3-none-any.whl size=6376 sha256=e1196315661acde1db4adb4f8c1ce7d6c86415287151a455297da3f74b7e7e66\n",
      "  Stored in directory: /tmp/pip-ephem-wheel-cache-h2zoh1_t/wheels/3e/0f/51/2f1df833dd0412c1bc2f5ee56baac195b5be563353d111dca6\u001b[0m\n",
      "\u001b[35mSuccessfully built abalone\u001b[0m\n",
      "\u001b[35mInstalling collected packages: abalone\u001b[0m\n",
      "\u001b[35mSuccessfully installed abalone-1.0.0\u001b[0m\n",
      "\u001b[35mINFO:sagemaker-containers:No GPUs detected (normal if no gpus installed)\u001b[0m\n",
      "\u001b[35mINFO:sagemaker-containers:Invoking user script\u001b[0m\n",
      "\u001b[35mTraining Env:\u001b[0m\n",
      "\u001b[35m{\n",
      "    \"additional_framework_parameters\": {},\n",
      "    \"channel_input_dirs\": {\n",
      "        \"train\": \"/opt/ml/input/data/train\",\n",
      "        \"validation\": \"/opt/ml/input/data/validation\"\n",
      "    },\n",
      "    \"current_host\": \"algo-2\",\n",
      "    \"framework_module\": \"sagemaker_xgboost_container.training:main\",\n",
      "    \"hosts\": [\n",
      "        \"algo-1\",\n",
      "        \"algo-2\"\n",
      "    ],\n",
      "    \"hyperparameters\": {\n",
      "        \"eta\": \"0.2\",\n",
      "        \"gamma\": \"4\",\n",
      "        \"max_depth\": \"5\",\n",
      "        \"min_child_weight\": \"6\",\n",
      "        \"num_round\": \"50\",\n",
      "        \"objective\": \"reg:linear\",\n",
      "        \"subsample\": \"0.7\",\n",
      "        \"verbose\": \"1\"\n",
      "    },\n",
      "    \"input_config_dir\": \"/opt/ml/input/config\",\n",
      "    \"input_data_config\": {\n",
      "        \"train\": {\n",
      "            \"ContentType\": \"libsvm\",\n",
      "            \"TrainingInputMode\": \"File\",\n",
      "            \"S3DistributionType\": \"FullyReplicated\",\n",
      "            \"RecordWrapperType\": \"None\"\n",
      "        },\n",
      "        \"validation\": {\n",
      "            \"ContentType\": \"libsvm\",\n",
      "            \"TrainingInputMode\": \"File\",\n",
      "            \"S3DistributionType\": \"FullyReplicated\",\n",
      "            \"RecordWrapperType\": \"None\"\n",
      "        }\n",
      "    },\n",
      "    \"input_dir\": \"/opt/ml/input\",\n",
      "    \"is_master\": false,\n",
      "    \"job_name\": \"sagemaker-xgboost-2022-04-07-00-25-53-268\",\n",
      "    \"log_level\": 20,\n",
      "    \"master_hostname\": \"algo-1\",\n",
      "    \"model_dir\": \"/opt/ml/model\",\n",
      "    \"module_dir\": \"s3://sagemaker-us-west-2-000000000000/sagemaker-xgboost-2022-04-07-00-25-53-268/source/sourcedir.tar.gz\",\n",
      "    \"module_name\": \"abalone\",\n",
      "    \"network_interface_name\": \"eth0\",\n",
      "    \"num_cpus\": 8,\n",
      "    \"num_gpus\": 0,\n",
      "    \"output_data_dir\": \"/opt/ml/output/data\",\n",
      "    \"output_dir\": \"/opt/ml/output\",\n",
      "    \"output_intermediate_dir\": \"/opt/ml/output/intermediate\",\n",
      "    \"resource_config\": {\n",
      "        \"current_host\": \"algo-2\",\n",
      "        \"current_instance_type\": \"ml.m5.2xlarge\",\n",
      "        \"current_group_name\": \"homogeneousCluster\",\n",
      "        \"hosts\": [\n",
      "            \"algo-1\",\n",
      "            \"algo-2\"\n",
      "        ],\n",
      "        \"instance_groups\": [\n",
      "            {\n",
      "                \"instance_group_name\": \"homogeneousCluster\",\n",
      "                \"instance_type\": \"ml.m5.2xlarge\",\n",
      "                \"hosts\": [\n",
      "                    \"algo-2\",\n",
      "                    \"algo-1\"\n",
      "                ]\n",
      "            }\n",
      "        ],\n",
      "        \"network_interface_name\": \"eth0\"\n",
      "    },\n",
      "    \"user_entry_point\": \"abalone.py\"\u001b[0m\n",
      "\u001b[35m}\u001b[0m\n",
      "\u001b[35mEnvironment variables:\u001b[0m\n",
      "\u001b[35mSM_HOSTS=[\"algo-1\",\"algo-2\"]\u001b[0m\n",
      "\u001b[35mSM_NETWORK_INTERFACE_NAME=eth0\u001b[0m\n",
      "\u001b[35mSM_HPS={\"eta\":\"0.2\",\"gamma\":\"4\",\"max_depth\":\"5\",\"min_child_weight\":\"6\",\"num_round\":\"50\",\"objective\":\"reg:linear\",\"subsample\":\"0.7\",\"verbose\":\"1\"}\u001b[0m\n",
      "\u001b[35mSM_USER_ENTRY_POINT=abalone.py\u001b[0m\n",
      "\u001b[35mSM_FRAMEWORK_PARAMS={}\u001b[0m\n",
      "\u001b[35mSM_RESOURCE_CONFIG={\"current_group_name\":\"homogeneousCluster\",\"current_host\":\"algo-2\",\"current_instance_type\":\"ml.m5.2xlarge\",\"hosts\":[\"algo-1\",\"algo-2\"],\"instance_groups\":[{\"hosts\":[\"algo-2\",\"algo-1\"],\"instance_group_name\":\"homogeneousCluster\",\"instance_type\":\"ml.m5.2xlarge\"}],\"network_interface_name\":\"eth0\"}\u001b[0m\n",
      "\u001b[35mSM_INPUT_DATA_CONFIG={\"train\":{\"ContentType\":\"libsvm\",\"RecordWrapperType\":\"None\",\"S3DistributionType\":\"FullyReplicated\",\"TrainingInputMode\":\"File\"},\"validation\":{\"ContentType\":\"libsvm\",\"RecordWrapperType\":\"None\",\"S3DistributionType\":\"FullyReplicated\",\"TrainingInputMode\":\"File\"}}\u001b[0m\n",
      "\u001b[35mSM_OUTPUT_DATA_DIR=/opt/ml/output/data\u001b[0m\n",
      "\u001b[35mSM_CHANNELS=[\"train\",\"validation\"]\u001b[0m\n",
      "\u001b[35mSM_CURRENT_HOST=algo-2\u001b[0m\n",
      "\u001b[35mSM_MODULE_NAME=abalone\u001b[0m\n",
      "\u001b[35mSM_LOG_LEVEL=20\u001b[0m\n",
      "\u001b[35mSM_FRAMEWORK_MODULE=sagemaker_xgboost_container.training:main\u001b[0m\n",
      "\u001b[35mSM_INPUT_DIR=/opt/ml/input\u001b[0m\n",
      "\u001b[35mSM_INPUT_CONFIG_DIR=/opt/ml/input/config\u001b[0m\n",
      "\u001b[35mSM_OUTPUT_DIR=/opt/ml/output\u001b[0m\n",
      "\u001b[35mSM_NUM_CPUS=8\u001b[0m\n",
      "\u001b[35mSM_NUM_GPUS=0\u001b[0m\n",
      "\u001b[35mSM_MODEL_DIR=/opt/ml/model\u001b[0m\n",
      "\u001b[35mSM_MODULE_DIR=s3://sagemaker-us-west-2-000000000000/sagemaker-xgboost-2022-04-07-00-25-53-268/source/sourcedir.tar.gz\u001b[0m\n",
      "\u001b[35mSM_TRAINING_ENV={\"additional_framework_parameters\":{},\"channel_input_dirs\":{\"train\":\"/opt/ml/input/data/train\",\"validation\":\"/opt/ml/input/data/validation\"},\"current_host\":\"algo-2\",\"framework_module\":\"sagemaker_xgboost_container.training:main\",\"hosts\":[\"algo-1\",\"algo-2\"],\"hyperparameters\":{\"eta\":\"0.2\",\"gamma\":\"4\",\"max_depth\":\"5\",\"min_child_weight\":\"6\",\"num_round\":\"50\",\"objective\":\"reg:linear\",\"subsample\":\"0.7\",\"verbose\":\"1\"},\"input_config_dir\":\"/opt/ml/input/config\",\"input_data_config\":{\"train\":{\"ContentType\":\"libsvm\",\"RecordWrapperType\":\"None\",\"S3DistributionType\":\"FullyReplicated\",\"TrainingInputMode\":\"File\"},\"validation\":{\"ContentType\":\"libsvm\",\"RecordWrapperType\":\"None\",\"S3DistributionType\":\"FullyReplicated\",\"TrainingInputMode\":\"File\"}},\"input_dir\":\"/opt/ml/input\",\"is_master\":false,\"job_name\":\"sagemaker-xgboost-2022-04-07-00-25-53-268\",\"log_level\":20,\"master_hostname\":\"algo-1\",\"model_dir\":\"/opt/ml/model\",\"module_dir\":\"s3://sagemaker-us-west-2-000000000000/sagemaker-xgboost-2022-04-07-00-25-53-268/source/sourcedir.tar.gz\",\"module_name\":\"abalone\",\"network_interface_name\":\"eth0\",\"num_cpus\":8,\"num_gpus\":0,\"output_data_dir\":\"/opt/ml/output/data\",\"output_dir\":\"/opt/ml/output\",\"output_intermediate_dir\":\"/opt/ml/output/intermediate\",\"resource_config\":{\"current_group_name\":\"homogeneousCluster\",\"current_host\":\"algo-2\",\"current_instance_type\":\"ml.m5.2xlarge\",\"hosts\":[\"algo-1\",\"algo-2\"],\"instance_groups\":[{\"hosts\":[\"algo-2\",\"algo-1\"],\"instance_group_name\":\"homogeneousCluster\",\"instance_type\":\"ml.m5.2xlarge\"}],\"network_interface_name\":\"eth0\"},\"user_entry_point\":\"abalone.py\"}\u001b[0m\n",
      "\u001b[35mSM_USER_ARGS=[\"--eta\",\"0.2\",\"--gamma\",\"4\",\"--max_depth\",\"5\",\"--min_child_weight\",\"6\",\"--num_round\",\"50\",\"--objective\",\"reg:linear\",\"--subsample\",\"0.7\",\"--verbose\",\"1\"]\u001b[0m\n",
      "\u001b[35mSM_OUTPUT_INTERMEDIATE_DIR=/opt/ml/output/intermediate\u001b[0m\n",
      "\u001b[35mSM_CHANNEL_TRAIN=/opt/ml/input/data/train\u001b[0m\n",
      "\u001b[35mSM_CHANNEL_VALIDATION=/opt/ml/input/data/validation\u001b[0m\n",
      "\u001b[35mSM_HP_ETA=0.2\u001b[0m\n",
      "\u001b[35mSM_HP_GAMMA=4\u001b[0m\n",
      "\u001b[35mSM_HP_MAX_DEPTH=5\u001b[0m\n",
      "\u001b[35mSM_HP_MIN_CHILD_WEIGHT=6\u001b[0m\n",
      "\u001b[35mSM_HP_NUM_ROUND=50\u001b[0m\n",
      "\u001b[35mSM_HP_OBJECTIVE=reg:linear\u001b[0m\n",
      "\u001b[35mSM_HP_SUBSAMPLE=0.7\u001b[0m\n",
      "\u001b[35mSM_HP_VERBOSE=1\u001b[0m\n",
      "\u001b[35mPYTHONPATH=/miniconda3/bin:/:/usr/local/lib/python3.7/dist-packages/xgboost/dmlc-core/tracker:/miniconda3/lib/python37.zip:/miniconda3/lib/python3.7:/miniconda3/lib/python3.7/lib-dynload:/miniconda3/lib/python3.7/site-packages\u001b[0m\n",
      "\u001b[35mInvoking script with the following command:\u001b[0m\n",
      "\u001b[35m/miniconda3/bin/python3 -m abalone --eta 0.2 --gamma 4 --max_depth 5 --min_child_weight 6 --num_round 50 --objective reg:linear --subsample 0.7 --verbose 1\u001b[0m\n",
      "\u001b[35m[00:28:29] 2921x9 matrix with 23376 entries loaded from /opt/ml/input/data/train\u001b[0m\n",
      "\u001b[35m[00:28:29] 626x9 matrix with 5008 entries loaded from /opt/ml/input/data/validation\u001b[0m\n",
      "\u001b[35m[00:28:32] WARNING: /workspace/src/objective/regression_obj.cu:152: reg:linear is now deprecated in favor of reg:squarederror.\u001b[0m\n",
      "\u001b[35m[00:28:32] WARNING: /workspace/src/learner.cc:622: Tree method is automatically selected to be 'approx' for distributed training.\u001b[0m\n",
      "\u001b[35m[00:28:32] Tree method is automatically selected to be 'approx' for distributed training.\u001b[0m\n",
      "\u001b[34m[00:28:32] WARNING: /workspace/src/objective/regression_obj.cu:152: reg:linear is now deprecated in favor of reg:squarederror.\u001b[0m\n",
      "\u001b[34m[00:28:32] WARNING: /workspace/src/learner.cc:622: Tree method is automatically selected to be 'approx' for distributed training.\u001b[0m\n",
      "\u001b[34m[00:28:32] Tree method is automatically selected to be 'approx' for distributed training.\u001b[0m\n"
     ]
    },
    {
     "name": "stdout",
     "output_type": "stream",
     "text": [
      "\n",
      "2022-04-07 00:28:58 Uploading - Uploading generated training model"
     ]
    },
    {
     "name": "stdout",
     "output_type": "stream",
     "text": [
      "\n",
      "2022-04-07 00:29:18 Completed - Training job completed\n"
     ]
    },
    {
     "name": "stdout",
     "output_type": "stream",
     "text": [
      "Training seconds: 206\n",
      "Billable seconds: 206\n"
     ]
    }
   ],
   "source": [
    "xgb_script_mode_estimator.fit({\"train\": train_input, \"validation\": validation_input})"
   ]
  },
  {
   "cell_type": "markdown",
   "id": "49681286",
   "metadata": {
    "papermill": {
     "duration": 0.052177,
     "end_time": "2022-04-07T00:29:47.390940",
     "exception": false,
     "start_time": "2022-04-07T00:29:47.338763",
     "status": "completed"
    },
    "tags": []
   },
   "source": [
    "## Deploying the XGBoost model\n",
    "\n",
    "After training, we can use the estimator to create an Amazon SageMaker endpoint – a hosted and managed prediction service that we can use to perform inference.\n",
    "\n",
    "You can also optionally specify other functions to customize the behavior of deserialization of the input request (`input_fn()`), serialization of the predictions (`output_fn()`), and how predictions are made (`predict_fn()`). The defaults work for our current use-case so we don’t need to define them."
   ]
  },
  {
   "cell_type": "code",
   "execution_count": 10,
   "id": "29da75e4",
   "metadata": {
    "execution": {
     "iopub.execute_input": "2022-04-07T00:29:47.461104Z",
     "iopub.status.busy": "2022-04-07T00:29:47.460398Z",
     "iopub.status.idle": "2022-04-07T00:32:18.940783Z",
     "shell.execute_reply": "2022-04-07T00:32:18.942003Z"
    },
    "papermill": {
     "duration": 151.520665,
     "end_time": "2022-04-07T00:32:18.942832",
     "exception": false,
     "start_time": "2022-04-07T00:29:47.422167",
     "status": "completed"
    },
    "tags": []
   },
   "outputs": [
    {
     "name": "stdout",
     "output_type": "stream",
     "text": [
      "-"
     ]
    },
    {
     "name": "stdout",
     "output_type": "stream",
     "text": [
      "-"
     ]
    },
    {
     "name": "stdout",
     "output_type": "stream",
     "text": [
      "-"
     ]
    },
    {
     "name": "stdout",
     "output_type": "stream",
     "text": [
      "-"
     ]
    },
    {
     "name": "stdout",
     "output_type": "stream",
     "text": [
      "-"
     ]
    },
    {
     "name": "stdout",
     "output_type": "stream",
     "text": [
      "!"
     ]
    }
   ],
   "source": [
    "from sagemaker.serializers import CSVSerializer\n",
    "\n",
    "predictor = xgb_script_mode_estimator.deploy(\n",
    "    initial_instance_count=1, instance_type=\"ml.m5.2xlarge\", serializer=CSVSerializer()\n",
    ")"
   ]
  },
  {
   "cell_type": "code",
   "execution_count": 11,
   "id": "efe95fb5",
   "metadata": {
    "execution": {
     "iopub.execute_input": "2022-04-07T00:32:18.997048Z",
     "iopub.status.busy": "2022-04-07T00:32:18.996527Z",
     "iopub.status.idle": "2022-04-07T00:32:19.004395Z",
     "shell.execute_reply": "2022-04-07T00:32:19.003510Z"
    },
    "papermill": {
     "duration": 0.034749,
     "end_time": "2022-04-07T00:32:19.004537",
     "exception": false,
     "start_time": "2022-04-07T00:32:18.969788",
     "status": "completed"
    },
    "tags": []
   },
   "outputs": [],
   "source": [
    "test_file = DATA_DIR + \"/\" + FILE_TEST\n",
    "with open(test_file, \"r\") as f:\n",
    "    payload = f.read()"
   ]
  },
  {
   "cell_type": "code",
   "execution_count": 12,
   "id": "f8952361",
   "metadata": {
    "execution": {
     "iopub.execute_input": "2022-04-07T00:32:19.059619Z",
     "iopub.status.busy": "2022-04-07T00:32:19.058671Z",
     "iopub.status.idle": "2022-04-07T00:32:19.216972Z",
     "shell.execute_reply": "2022-04-07T00:32:19.217667Z"
    },
    "papermill": {
     "duration": 0.190574,
     "end_time": "2022-04-07T00:32:19.217827",
     "exception": false,
     "start_time": "2022-04-07T00:32:19.027253",
     "status": "completed"
    },
    "tags": []
   },
   "outputs": [
    {
     "name": "stderr",
     "output_type": "stream",
     "text": [
      "The endpoint attribute has been renamed in sagemaker>=2.\n",
      "See: https://sagemaker.readthedocs.io/en/stable/v2.html for details.\n"
     ]
    },
    {
     "name": "stdout",
     "output_type": "stream",
     "text": [
      "Predicted values are [9.024499893188477, 10.29422378540039, 10.167237281799316, 10.516640663146973, 7.068646430969238, 9.260899543762207, 5.97885274887085, 8.39881706237793, 10.6007719039917, 10.12973690032959, 10.124215126037598, 10.17152214050293, 10.762848854064941, 3.942166566848755, 8.790700912475586, 8.053215980529785, 10.574188232421875, 8.789807319641113, 9.070910453796387, 8.326986312866211, 11.139806747436523, 7.068646430969238, 6.094814777374268, 9.00971794128418, 13.746306419372559, 12.299246788024902, 10.566475868225098, 8.736190795898438, 8.982304573059082, 11.125478744506836, 9.809595108032227, 9.804296493530273, 13.66400146484375, 8.521027565002441, 4.825794219970703, 11.736230850219727, 9.971034049987793, 10.804783821105957, 6.788346290588379, 15.076240539550781, 5.063831806182861, 8.702570915222168, 13.12910270690918, 9.232624053955078, 7.975210189819336, 11.847932815551758, 7.00537109375, 10.107720375061035, 13.985870361328125, 10.707148551940918, 10.947546005249023, 11.357489585876465, 8.117637634277344, 6.894338607788086, 8.698159217834473, 10.410483360290527, 4.122974872589111, 11.951947212219238, 8.531205177307129, 11.114649772644043, 8.842857360839844, 13.651715278625488, 13.717649459838867, 9.523885726928711, 6.954102039337158, 16.170059204101562, 17.01032257080078, 12.33012580871582, 10.671453475952148, 7.050830364227295, 10.041328430175781, 11.379822731018066, 11.140972137451172, 8.5562162399292, 7.652621269226074, 9.640115737915039, 8.583070755004883, 7.32805871963501, 10.636626243591309, 12.959457397460938, 9.073417663574219, 10.739947319030762, 10.317441940307617, 9.401412010192871, 9.505505561828613, 8.739195823669434, 9.804858207702637, 10.625136375427246, 8.496944427490234, 10.597613334655762, 13.538578987121582, 12.19086742401123, 15.16359806060791, 8.23076057434082, 10.702332496643066, 9.163891792297363, 10.903877258300781, 8.933184623718262, 11.117021560668945, 6.20865535736084, 11.968352317810059, 4.825794219970703, 10.708242416381836, 11.35997486114502, 8.634517669677734, 7.204287528991699, 15.604724884033203, 11.972504615783691, 11.233903884887695, 11.999984741210938, 17.55620574951172, 11.649176597595215, 10.372093200683594, 9.373044967651367, 11.735721588134766, 6.90037202835083, 9.907822608947754, 9.830389976501465, 7.441642761230469, 10.713373184204102, 7.1927618980407715, 10.119065284729004, 9.060242652893066, 11.593693733215332, 9.709128379821777, 5.8132004737854, 6.879461288452148, 10.746779441833496, 5.90828800201416, 14.76894474029541, 8.44407844543457, 9.960501670837402, 12.166360855102539, 5.8132004737854, 8.212785720825195, 12.371593475341797, 11.035073280334473, 11.426109313964844, 10.722627639770508, 10.11732292175293, 10.166024208068848, 12.2333345413208, 12.034869194030762, 8.282816886901855, 10.66751480102539, 10.106420516967773, 17.26302146911621, 11.094600677490234, 9.004331588745117, 18.808876037597656, 8.53908634185791, 8.950238227844238, 12.25271987915039, 6.030853271484375, 10.669346809387207, 10.924666404724121, 8.104398727416992, 11.643392562866211, 10.286759376525879, 8.71735668182373, 13.895548820495605, 9.658353805541992, 11.496623992919922, 6.627254009246826, 8.7411470413208, 10.999632835388184, 8.426843643188477, 5.261438846588135, 3.942166566848755, 7.976269245147705, 8.82279109954834, 9.778531074523926, 7.976891040802002, 9.426292419433594, 7.24276876449585, 12.9291353225708, 8.839306831359863, 8.272037506103516, 8.63299560546875, 8.698807716369629, 8.100969314575195, 8.767003059387207, 4.117945671081543, 10.853964805603027, 6.784353256225586, 9.816789627075195, 6.311575412750244, 11.09575080871582, 3.942166566848755, 8.7195405960083, 6.855302333831787, 10.255367279052734, 12.92641544342041, 13.887232780456543, 5.001573085784912, 13.128080368041992, 7.138463973999023, 9.093066215515137, 8.072980880737305, 9.896268844604492, 12.49202823638916, 8.4815673828125, 10.707097053527832, 8.507777214050293, 9.735145568847656, 11.020085334777832, 8.513720512390137, 17.27212905883789, 15.37297534942627, 8.71597957611084, 9.539319038391113, 10.798345565795898, 12.052325248718262, 7.0589375495910645, 9.322999954223633, 8.251229286193848, 10.378453254699707, 6.700564384460449, 9.770061492919922, 9.833023071289062, 11.052399635314941, 7.510275363922119, 6.147332668304443, 11.801159858703613, 8.308801651000977, 5.134613990783691, 7.23758602142334, 8.61316967010498, 9.145979881286621, 9.739990234375, 7.79391622543335, 10.438824653625488, 8.505648612976074, 9.940337181091309, 3.942166566848755, 12.031909942626953, 5.030795097351074, 13.963871955871582, 10.15167236328125, 10.586629867553711, 9.010171890258789, 7.085747718811035, 8.63582706451416, 3.942166566848755, 13.293355941772461, 13.778489112854004, 8.76625919342041, 11.407686233520508, 7.002920627593994, 9.403090476989746, 5.90828800201416, 9.730216026306152, 9.218186378479004, 9.531176567077637, 6.089555263519287, 10.111112594604492, 10.061018943786621, 5.8132004737854, 8.677264213562012, 10.374930381774902, 10.742439270019531, 19.02642059326172, 8.89765453338623, 10.256121635437012, 9.929617881774902, 9.407261848449707, 6.16595983505249, 9.601714134216309, 9.224791526794434, 9.260636329650879, 7.960395336151123, 8.661114692687988, 7.304989814758301, 10.215646743774414, 12.68109130859375, 13.599919319152832, 10.26147174835205, 6.11356782913208, 7.046228408813477, 9.700928688049316, 9.324973106384277, 6.397660255432129, 6.166221618652344, 10.513494491577148, 7.576987266540527, 19.69482421875, 9.328451156616211, 14.638187408447266, 10.830212593078613, 11.526277542114258, 6.756361961364746, 10.411651611328125, 7.92729377746582, 8.10696792602539, 10.3973970413208, 9.656578063964844, 10.374213218688965, 12.634275436401367, 11.862110137939453, 8.164787292480469, 5.8132004737854, 8.154434204101562, 8.701359748840332, 13.816012382507324, 10.018980026245117, 11.19133186340332, 15.834441184997559, 10.415425300598145, 7.194377899169922, 7.504817962646484, 7.137597560882568, 10.937053680419922, 20.542558670043945, 9.464408874511719, 14.330853462219238, 8.819561004638672, 15.531904220581055, 5.994467735290527, 12.950571060180664, 12.598721504211426, 11.453104972839355, 8.936784744262695, 11.888373374938965, 5.9270405769348145, 6.1970720291137695, 11.36600112915039, 8.764872550964355, 10.756974220275879, 10.475430488586426, 7.119462966918945, 10.343372344970703, 9.99496078491211, 11.408519744873047, 11.488895416259766, 10.600406646728516, 3.942166566848755, 8.811203002929688, 13.627433776855469, 9.030133247375488, 17.66167640686035, 11.12014102935791, 9.173333168029785, 10.258833885192871, 8.561270713806152, 5.999727249145508, 11.651422500610352, 12.243237495422363, 8.880349159240723, 9.497685432434082, 8.181371688842773, 8.957175254821777, 14.634076118469238, 8.44518756866455, 11.061769485473633, 8.873533248901367, 9.864017486572266, 10.724348068237305, 8.577592849731445, 11.085638999938965, 12.272342681884766, 6.861645221710205, 12.184990882873535, 10.270927429199219, 9.740937232971191, 7.1859331130981445, 13.001693725585938, 12.482481956481934, 8.78178882598877, 8.358047485351562, 14.277353286743164, 8.75641918182373, 11.933363914489746, 10.49516773223877, 10.211750984191895, 9.033602714538574, 10.903017044067383, 10.322378158569336, 13.770560264587402, 13.093830108642578, 8.033794403076172, 8.003846168518066, 11.92848014831543, 9.04838752746582, 7.061160564422607, 6.086671352386475, 7.830883502960205, 9.64444351196289, 12.080101013183594, 11.36247444152832, 15.041204452514648, 3.942166566848755, 18.672494888305664, 9.599589347839355, 13.18732738494873, 9.354133605957031, 12.630379676818848, 9.040682792663574, 9.421863555908203, 15.303176879882812, 9.596492767333984, 11.209561347961426, 8.22993278503418, 10.576011657714844, 6.089555263519287, 6.8089470863342285, 6.761323928833008, 11.47348403930664, 8.176921844482422, 6.687606334686279, 12.397777557373047, 8.155319213867188, 6.609865188598633, 9.300810813903809, 7.451684474945068, 11.7329683303833, 3.942166566848755, 10.844159126281738, 8.916268348693848, 15.521035194396973, 9.328337669372559, 11.171398162841797, 8.85262680053711, 11.828402519226074, 10.325249671936035, 9.889413833618164, 9.572245597839355, 7.643716812133789, 8.945367813110352, 12.039874076843262, 10.62230110168457, 15.157726287841797, 13.440648078918457, 7.784717082977295, 7.005450248718262, 14.35008716583252, 9.385259628295898, 9.27527141571045, 10.870561599731445, 9.728742599487305, 7.939670085906982, 11.4625883102417, 8.702549934387207, 9.463529586791992, 12.977046966552734, 13.855036735534668, 10.332921028137207, 9.720877647399902, 8.269659042358398, 8.723224639892578, 10.534723281860352, 10.558789253234863, 10.612031936645508, 8.719985008239746, 13.484105110168457, 7.266047954559326, 5.442137241363525, 10.311640739440918, 8.372282028198242, 7.932506561279297, 6.20865535736084, 6.846235752105713, 13.965959548950195, 8.834549903869629, 5.439815044403076, 11.670269966125488, 4.122974872589111, 9.065152168273926, 10.218005180358887, 7.664433002471924, 7.643551349639893, 12.756627082824707, 3.942166566848755, 10.202890396118164, 6.829720497131348, 7.222201347351074, 6.577151775360107, 15.386726379394531, 8.712130546569824, 15.704547882080078, 7.739682197570801, 12.122057914733887, 6.677550315856934, 9.197823524475098, 10.524923324584961, 10.065991401672363, 8.504937171936035, 12.071586608886719, 10.893243789672852, 18.450607299804688, 13.165837287902832, 3.942166566848755, 10.660646438598633, 9.816328048706055, 5.8269453048706055, 12.023468017578125, 8.129961013793945, 8.526983261108398, 9.110761642456055, 6.525493621826172, 8.692249298095703, 9.031867980957031, 8.778738975524902, 17.956470489501953, 12.800318717956543, 10.845335960388184, 10.14489459991455, 9.788124084472656, 7.104597091674805, 9.717013359069824, 10.01082992553711, 12.150734901428223, 11.388041496276855, 10.525501251220703, 10.884878158569336, 11.358232498168945, 16.883075714111328, 10.485782623291016, 13.96796703338623, 8.22993278503418, 7.38021183013916, 8.951460838317871, 10.108620643615723, 10.336907386779785, 10.738205909729004, 10.596733093261719, 11.014727592468262, 15.601290702819824, 7.931707859039307, 14.933367729187012, 8.541616439819336, 9.837193489074707, 6.632961273193359, 10.361610412597656, 10.702077865600586, 10.046067237854004, 10.155406951904297, 12.28664779663086, 8.643253326416016, 10.660442352294922, 15.07672119140625, 8.89165210723877, 9.573816299438477, 7.830097198486328, 8.755722999572754, 6.9890007972717285, 9.79567813873291, 7.9926300048828125, 10.918411254882812, 11.785199165344238, 9.086617469787598, 11.945999145507812, 8.747757911682129, 9.08729076385498, 10.752961158752441, 9.18680191040039, 7.7251362800598145, 10.411252975463867, 14.701258659362793, 13.468506813049316, 6.206340312957764, 6.988778591156006, 9.044770240783691, 5.626851558685303, 10.207470893859863, 6.609023094177246, 9.198477745056152, 10.418728828430176, 8.434292793273926, 11.562804222106934, 6.71433687210083, 8.20338249206543, 6.055830955505371, 8.791552543640137, 14.017744064331055, 9.26069164276123, 8.665156364440918, 6.519596576690674, 6.381499767303467, 10.885113716125488, 11.098858833312988, 9.890987396240234, 11.182241439819336, 9.541939735412598, 8.081182479858398, 9.903838157653809, 10.578082084655762, 9.012124061584473, 15.379759788513184, 8.307448387145996, 6.296713829040527, 9.138258934020996, 10.222261428833008, 10.38294506072998, 9.957083702087402, 10.483181953430176, 14.950987815856934, 8.392782211303711, 8.856422424316406, 18.722797393798828, 9.738120079040527, 19.009685516357422, 9.808476448059082, 8.86384105682373, 8.64081859588623, 6.974593162536621, 11.144569396972656, 10.864978790283203, 9.577726364135742, 16.051212310791016, 12.045166969299316, 10.0624418258667, 10.16143798828125, 8.579577445983887, 9.344202995300293, 9.281708717346191, 8.718140602111816, 9.085000038146973, 10.224259376525879, 10.193017959594727, 12.576590538024902, 9.009960174560547, 12.3596773147583, 10.270094871520996, 10.026293754577637, 6.7292866706848145, 9.503739356994629].\n"
     ]
    }
   ],
   "source": [
    "runtime_client = boto3.client(\"runtime.sagemaker\", region_name=region)\n",
    "response = runtime_client.invoke_endpoint(\n",
    "    EndpointName=predictor.endpoint, ContentType=\"text/x-libsvm\", Body=payload\n",
    ")\n",
    "result = response[\"Body\"].read().decode(\"ascii\")\n",
    "print(\"Predicted values are {}.\".format(result))"
   ]
  },
  {
   "cell_type": "markdown",
   "id": "9307eac5",
   "metadata": {
    "papermill": {
     "duration": 0.030214,
     "end_time": "2022-04-07T00:32:19.271954",
     "exception": false,
     "start_time": "2022-04-07T00:32:19.241740",
     "status": "completed"
    },
    "tags": []
   },
   "source": [
    "### (Optional) Delete the Endpoint\n",
    "\n",
    "If you're done with this exercise, please run the delete_endpoint line in the cell below.  This will remove the hosted endpoint and avoid any charges from a stray instance being left on."
   ]
  },
  {
   "cell_type": "code",
   "execution_count": 13,
   "id": "c10f9204",
   "metadata": {
    "execution": {
     "iopub.execute_input": "2022-04-07T00:32:19.339838Z",
     "iopub.status.busy": "2022-04-07T00:32:19.339115Z",
     "iopub.status.idle": "2022-04-07T00:32:19.718729Z",
     "shell.execute_reply": "2022-04-07T00:32:19.718290Z"
    },
    "papermill": {
     "duration": 0.417999,
     "end_time": "2022-04-07T00:32:19.718843",
     "exception": false,
     "start_time": "2022-04-07T00:32:19.300844",
     "status": "completed"
    },
    "tags": []
   },
   "outputs": [],
   "source": [
    "predictor.delete_model()\n",
    "predictor.delete_endpoint()"
   ]
  },
  {
   "cell_type": "code",
   "execution_count": null,
   "id": "fa149c60",
   "metadata": {
    "papermill": {
     "duration": 0.021242,
     "end_time": "2022-04-07T00:32:19.761983",
     "exception": false,
     "start_time": "2022-04-07T00:32:19.740741",
     "status": "completed"
    },
    "tags": []
   },
   "outputs": [],
   "source": []
  }
 ],
 "metadata": {
  "anaconda-cloud": {},
  "instance_type": "ml.t3.medium",
  "kernelspec": {
   "display_name": "Python 3 (Data Science)",
   "language": "python",
   "name": "python3__SAGEMAKER_INTERNAL__arn:aws:sagemaker:us-east-1:000000000000:image/datascience-1.0"
  },
  "language_info": {
   "codemirror_mode": {
    "name": "ipython",
    "version": 3
   },
   "file_extension": ".py",
   "mimetype": "text/x-python",
   "name": "python",
   "nbconvert_exporter": "python",
   "pygments_lexer": "ipython3",
   "version": "3.7.10"
  },
  "papermill": {
   "default_parameters": {},
   "duration": 393.624913,
   "end_time": "2022-04-07T00:32:20.502760",
   "environment_variables": {},
   "exception": null,
   "input_path": "xgboost_abalone_dist_script_mode.ipynb",
   "output_path": "/opt/ml/processing/output/xgboost_abalone_dist_script_mode-2022-04-07-00-11-10.ipynb",
   "parameters": {
    "kms_key": "arn:aws:kms:us-west-2:000000000000:1234abcd-12ab-34cd-56ef-1234567890ab"
   },
   "start_time": "2022-04-07T00:25:46.877847",
   "version": "2.3.4"
  }
 },
 "nbformat": 4,
 "nbformat_minor": 5
}