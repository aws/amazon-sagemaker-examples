{
 "cells": [
  {
   "cell_type": "code",
   "execution_count": 10,
   "metadata": {},
   "outputs": [],
   "source": [
    "import h5py\n",
    "import numpy as np\n",
    "import os\n",
    "import torch\n",
    "from torch.utils.data import DataLoader, Dataset\n",
    "\n",
    "class pretraining_dataset(Dataset):\n",
    "\n",
    "    def __init__(self, input_file, max_pred_length):\n",
    "        self.input_file = input_file\n",
    "        self.max_pred_length = max_pred_length\n",
    "        f = h5py.File(input_file, \"r\")\n",
    "        keys = ['input_ids', 'input_mask', 'segment_ids', 'masked_lm_positions', 'masked_lm_ids',\n",
    "                'next_sentence_labels']\n",
    "        self.inputs = [np.asarray(f[key][:]) for key in keys]\n",
    "        f.close()\n",
    "\n",
    "    def __len__(self):\n",
    "        'Denotes the total number of samples'\n",
    "        return len(self.inputs[0])\n",
    "\n",
    "    def __getitem__(self, index):\n",
    "        [input_ids, input_mask, segment_ids, masked_lm_positions, masked_lm_ids, next_sentence_labels] = [\n",
    "            torch.from_numpy(input[index].astype(np.int64)) if indice < 5 else torch.from_numpy(\n",
    "                np.asarray(input[index].astype(np.int64))) for indice, input in enumerate(self.inputs)]\n",
    "\n",
    "        masked_lm_labels = torch.ones(input_ids.shape, dtype=torch.long) * -1\n",
    "        index = self.max_pred_length\n",
    "        # store number of  masked tokens in index\n",
    "        padded_mask_indices = (masked_lm_positions == 0).nonzero(as_tuple=False)\n",
    "        if len(padded_mask_indices) != 0:\n",
    "            index = padded_mask_indices[0].item()\n",
    "        masked_lm_labels[masked_lm_positions[:index]] = masked_lm_ids[:index]\n",
    "\n",
    "        return [input_ids, segment_ids, input_mask,\n",
    "                masked_lm_labels, next_sentence_labels]\n",
    "\n",
    "train_phase_1 = os.path.join('/home/ubuntu/data/bert/hdf5_lower_case_1_seq_len_128_max_pred_20_masked_lm_prob_0.15_random_seed_12345_dupe_factor_5/wikicorpus_en_abstract', 'wikicorpus_en_abstract_training_0.hdf5')\n",
    "max_predictions_per_seq = 20\n",
    "dataset = pretraining_dataset(train_phase_1, max_predictions_per_seq)\n",
    "\n",
    "input_ids, segment_ids, input_mask, masked_lm_labels, next_sentence_labels = dataset[0]"
   ]
  },
  {
   "cell_type": "code",
   "execution_count": 18,
   "metadata": {},
   "outputs": [
    {
     "data": {
      "text/plain": [
       "tensor(1)"
      ]
     },
     "execution_count": 18,
     "metadata": {},
     "output_type": "execute_result"
    }
   ],
   "source": [
    "next_sentence_labels"
   ]
  }
 ],
 "metadata": {
  "kernelspec": {
   "display_name": "Environment (conda_pytorch_latest_p37)",
   "language": "python",
   "name": "conda_pytorch_latest_p37"
  },
  "language_info": {
   "codemirror_mode": {
    "name": "ipython",
    "version": 3
   },
   "file_extension": ".py",
   "mimetype": "text/x-python",
   "name": "python",
   "nbconvert_exporter": "python",
   "pygments_lexer": "ipython3",
   "version": "3.7.6"
  }
 },
 "nbformat": 4,
 "nbformat_minor": 4
}
