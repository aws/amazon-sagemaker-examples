{
 "cells": [
  {
   "cell_type": "code",
   "execution_count": null,
   "metadata": {},
   "outputs": [],
   "source": [
    "%load_ext autoreload\n",
    "%autoreload 2"
   ]
  },
  {
   "cell_type": "code",
   "execution_count": null,
   "metadata": {},
   "outputs": [],
   "source": [
    "from benchmarking.payload import create_test_payload\n",
    "\n",
    "\n",
    "PAYLOADS = {\n",
    "    # \"input_32_output_128\": create_test_payload(input_words=32, output_tokens=128),\n",
    "    \"input_128_output_128\": create_test_payload(input_words=128, output_tokens=128),\n",
    "    \"input_512_output_128\": create_test_payload(input_words=512, output_tokens=128),\n",
    "    # \"input_6400_output_128\": create_test_payload(input_words=6400, output_tokens=128),\n",
    "    # \"input_128_output_512\": create_test_payload(input_words=128, output_tokens=512),\n",
    "    # \"input_512_output_512\": create_test_payload(input_words=512, output_tokens=512),\n",
    "}\n",
    "\n",
    "MODELS = {\n",
    "    # \"mistral-7b\": {\n",
    "    #     \"jumpstart_model_specs\": {\"model_args\": {\"model_id\": \"huggingface-llm-mistral-7b\"}},\n",
    "    #     \"huggingface_model_id\": \"mistralai/Mistral-7B-v0.1\",\n",
    "    # },\n",
    "    # \"mistral-7b-instruct\": {\n",
    "    #     \"jumpstart_model_specs\": {\"model_args\": {\"model_id\": \"huggingface-llm-mistral-7b-instruct\"}},\n",
    "    #     \"huggingface_model_id\": \"mistralai/Mistral-7B-Instruct-v0.1\",\n",
    "    # },\n",
    "    \"falcon-7b\": {\n",
    "        \"jumpstart_model_specs\": {\"model_args\": {\"model_id\": \"huggingface-llm-falcon-7b-bf16\"}},\n",
    "        \"huggingface_model_id\": \"tiiuae/falcon-7b\",\n",
    "    },\n",
    "    # \"falcon-7b-instruct\": {\n",
    "    #     \"jumpstart_model_specs\": {\"model_args\": {\"model_id\": \"huggingface-llm-falcon-7b-instruct-bf16\"}},\n",
    "    #     \"huggingface_model_id\": \"tiiuae/falcon-7b-instruct\",\n",
    "    # },\n",
    "    # \"falcon-40b\": {\n",
    "    #     \"jumpstart_model_specs\": {\"model_args\": {\"model_id\": \"huggingface-llm-falcon-40b-bf16\"}},\n",
    "    #     \"huggingface_model_id\": \"tiiuae/falcon-40b\",\n",
    "    # },\n",
    "    # \"falcon-40b-instruct\": {\n",
    "    #     \"jumpstart_model_specs\": {\"model_args\": {\"model_id\": \"huggingface-llm-falcon-40b-instruct-bf16\"}},\n",
    "    #     \"huggingface_model_id\": \"tiiuae/falcon-40b-instruct\",\n",
    "    # },\n",
    "    # \"falcon-180b\": {\n",
    "    #     \"jumpstart_model_specs\": {\"model_args\": {\"model_id\": \"huggingface-llm-falcon-180b-bf16\"}},\n",
    "    #     \"huggingface_model_id\": \"tiiuae/falcon-7b\",\n",
    "    # },\n",
    "    # \"falcon-180b-chat\": {\n",
    "    #     \"jumpstart_model_specs\": {\"model_args\": {\"model_id\": \"huggingface-llm-falcon-180b-chat-bf16\"}},\n",
    "    #     \"huggingface_model_id\": \"tiiuae/falcon-7b\",\n",
    "    # },\n",
    "    # \"llama-2-7b\": {\n",
    "    #     \"jumpstart_model_specs\": {\"model_args\": {\"model_id\": \"meta-textgeneration-llama-2-7b\"}},\n",
    "    #     \"huggingface_model_id\": \"TheBloke/Llama-2-7B-GPTQ\",\n",
    "    # },\n",
    "    # \"llama-2-13b\": {\n",
    "    #     \"jumpstart_model_specs\": {\"model_args\": {\"model_id\": \"meta-textgeneration-llama-2-13b\"}},\n",
    "    #     \"huggingface_model_id\": \"TheBloke/Llama-2-13B-GPTQ\",\n",
    "    # },\n",
    "    # \"llama-2-70b\": {\n",
    "    #     \"jumpstart_model_specs\": {\"model_args\": {\"model_id\": \"meta-textgeneration-llama-2-70b\"}},\n",
    "    #     \"huggingface_model_id\": \"TheBloke/Llama-2-70B-GPTQ\",\n",
    "    # },\n",
    "    # \"code-llama-7b\": {\n",
    "    #     \"jumpstart_model_specs\": {\"model_args\": {\"model_id\": \"meta-textgeneration-llama-codellama-7b\"}},\n",
    "    #     \"huggingface_model_id\": \"codellama/CodeLlama-7b-hf\",\n",
    "    # },\n",
    "    # \"code-llama-13b\": {\n",
    "    #     \"jumpstart_model_specs\": {\"model_args\": {\"model_id\": \"meta-textgeneration-llama-codellama-13b\"}},\n",
    "    #     \"huggingface_model_id\": \"codellama/CodeLlama-13b-hf\",\n",
    "    # },\n",
    "    # \"code-llama-34b\": {\n",
    "    #     \"jumpstart_model_specs\": {\"model_args\": {\"model_id\": \"meta-textgeneration-llama-codellama-34b\"}},\n",
    "    #     \"huggingface_model_id\": \"codellama/CodeLlama-34b-hf\",\n",
    "    # },\n",
    "}"
   ]
  },
  {
   "cell_type": "code",
   "execution_count": null,
   "metadata": {},
   "outputs": [],
   "source": [
    "from benchmarking.runner import Benchmarker\n",
    "\n",
    "\n",
    "benchmarker = Benchmarker(payloads=PAYLOADS, run_concurrency_probe=True)\n",
    "metrics = benchmarker.run_multiple_models(models=MODELS)"
   ]
  },
  {
   "cell_type": "code",
   "execution_count": null,
   "metadata": {},
   "outputs": [],
   "source": [
    "import pandas as pd\n",
    "from benchmarking.runner import Benchmarker\n",
    "\n",
    "\n",
    "df = Benchmarker.load_metrics_pandas()\n",
    "df_pivot = Benchmarker.create_concurrency_probe_pivot_table(df_filtered)\n",
    "\n",
    "pd.set_option('display.max_columns', None)\n",
    "pd.set_option(\"display.max_colwidth\", 0)\n",
    "pd.set_option(\"display.max_rows\", 500)\n",
    "display(df_pivot)"
   ]
  },
  {
   "cell_type": "code",
   "execution_count": null,
   "metadata": {},
   "outputs": [],
   "source": [
    "benchmarker.clean_up_resources()"
   ]
  }
 ],
 "metadata": {
  "kernelspec": {
   "display_name": "sagemaker-model-hub",
   "language": "python",
   "name": "python3"
  },
  "language_info": {
   "codemirror_mode": {
    "name": "ipython",
    "version": 3
   },
   "file_extension": ".py",
   "mimetype": "text/x-python",
   "name": "python",
   "nbconvert_exporter": "python",
   "pygments_lexer": "ipython3",
   "version": "3.9.13"
  },
  "orig_nbformat": 4
 },
 "nbformat": 4,
 "nbformat_minor": 2
}
