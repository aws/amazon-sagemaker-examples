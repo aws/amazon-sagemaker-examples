{
 "cells": [
  {
   "cell_type": "markdown",
   "id": "5c972f31-70a1-4771-86b5-54445557684e",
   "metadata": {},
   "source": [
    "# Segmenting aerial imagery using geospatial notebook\n",
    "\n",
    "---\n",
    "\n",
    "This notebook's CI test result for us-west-2 is as follows. CI test results in other regions can be found at the end of the notebook. \n",
    "\n",
    "![This us-west-2 badge failed to load. Check your device's internet connectivity, otherwise the service is currently unavailable](https://h75twx4l60.execute-api.us-west-2.amazonaws.com/sagemaker-nb/us-west-2/sagemaker-geospatial|segment-aerial-naip|segment_naip_geospatial_notebook-cpu_only.ipynb)\n",
    "\n",
    "---"
   ]
  },
  {
   "cell_type": "markdown",
   "id": "aed6b4e3-1c63-4c98-8db7-f2a9bcd84abe",
   "metadata": {},
   "source": [
    "## Introduction\n",
    "\n",
    "This notebook demonstrates how you can use the geospatial kernel in combination with open-source geospatial libraries to perform prompt-based segmentation on satellite or aerial imagery. This example uses data from National Agriculture Imagery Program (NAIP). The National Agriculture Imagery Program acquires aerial imagery during the agricultural growing seasons in the continental United States."
   ]
  },
  {
   "cell_type": "markdown",
   "id": "5bd4d605-ea50-477f-bac5-c357b5af70fb",
   "metadata": {},
   "source": [
    "## Prerequisites\n",
    "\n",
    "This notebook runs with the Geospatial 1.0 kernel with a `ml.geospatial.interactive` instance. Note that the following policies need to be attached to the execution role that you used to run this notebook:\n",
    "- AmazonSageMakerFullAccess\n",
    "- AmazonSageMakerGeospatialFullAccess\n",
    "\n",
    "You can see the policies attached to the role in the IAM console under the permissions tab. If required, add the roles using the 'Add Permissions' button.\n",
    "\n",
    "In addition to these policies, ensure that the execution role's trust policy allows the SageMaker-GeoSpatial service to assume the role. This can be done by adding the following trust policy using the 'Trust relationships' tab:\n",
    "\n",
    "```\n",
    "{\n",
    "    \"Version\": \"2012-10-17\",\n",
    "    \"Statement\": [\n",
    "        {\n",
    "            \"Effect\": \"Allow\",\n",
    "            \"Principal\": {\n",
    "                \"Service\": [\n",
    "                    \"sagemaker.amazonaws.com\",\n",
    "                    \"sagemaker-geospatial.amazonaws.com\"\n",
    "                ]\n",
    "            },\n",
    "            \"Action\": \"sts:AssumeRole\"\n",
    "        }\n",
    "    ]\n",
    "}\n",
    "```"
   ]
  },
  {
   "cell_type": "markdown",
   "id": "4519fb82-87c9-498c-803a-57b87b8fa73b",
   "metadata": {},
   "source": [
    "## GPU Support\n",
    "\n",
    "When you're running this notebook on a `ml.g5.*` instance, you have access to NVIDIA A10G GPUs. The Geospatial 1.0 kernel comes preinstalled with PyTorch and Tensorflow and if you use a `ml.g5.*` the CUDA dependencies are installed and the frameworks can access the GPUs without further setup.\n",
    "\n",
    "This notebook is an *adapted version* which runs on the `ml.geospatial.interactive` instance, which *runs only on CPU*. For the GPU enabled version, please see [segment_naip_geospatial_notebook.ipynb](sagemaker-geospatial/segment-aerial-naip/segment_naip_geospatial_notebook.ipynb)"
   ]
  },
  {
   "cell_type": "markdown",
   "id": "6aa8eaff-6d16-4be4-a460-f8dd72066c61",
   "metadata": {
    "tags": []
   },
   "source": [
    "## Setup SageMaker geospatial capabitilies and install additional dependencies\n",
    "\n",
    "In this example, you'll use the [segment-geospatial](https://pypi.org/project/segment-geospatial/) library to perform the segmentation. This library is combining Segment Anything with Grounding DINO to detect and segment based on text inputs. The following steps are installing the additional dependencies and setting up the necessary imports."
   ]
  },
  {
   "cell_type": "code",
   "execution_count": null,
   "id": "893acc86-febe-472d-bffb-d3731da95e9f",
   "metadata": {
    "tags": []
   },
   "outputs": [],
   "source": [
    "# install additional dependencies\n",
    "%pip install segment-geospatial groundingdino-py"
   ]
  },
  {
   "cell_type": "code",
   "execution_count": null,
   "id": "d04a51c6-8d51-4598-a988-fb737015cb25",
   "metadata": {
    "tags": []
   },
   "outputs": [],
   "source": [
    "import boto3\n",
    "import sagemaker\n",
    "import os\n",
    "import torch\n",
    "import IPython.display\n",
    "from samgeo import SamGeo\n",
    "from samgeo.text_sam import LangSAM\n",
    "\n",
    "session = boto3.Session()\n",
    "execution_role = sagemaker.get_execution_role()\n",
    "geospatial_client = session.client(service_name=\"sagemaker-geospatial\")"
   ]
  },
  {
   "cell_type": "code",
   "execution_count": null,
   "id": "47e558ac-3ca3-4a75-9f99-4d9cd8cc5ee4",
   "metadata": {
    "tags": []
   },
   "outputs": [],
   "source": [
    "!mkdir -p data"
   ]
  },
  {
   "cell_type": "markdown",
   "id": "56d4b093-0910-451b-8156-da02b416fc98",
   "metadata": {},
   "source": [
    "## Get NAIP example data\n",
    "\n",
    "To query NAIP aerial imagery, you can use the `search_raster_data_collection` API, which allows to run spatial-temporal queries against various raster data collections.\n",
    "\n",
    "The following code example uses the ARN associated with the NAIP data collection, `arn:aws:sagemaker-geospatial:us-west-2:378778860802:raster-data-collection/public/37ndema229vwa987`."
   ]
  },
  {
   "cell_type": "code",
   "execution_count": null,
   "id": "5daa0e9b-5ce8-4d8d-8b02-15ad65dec837",
   "metadata": {
    "tags": []
   },
   "outputs": [],
   "source": [
    "search_raster_config = {\n",
    "    \"Arn\": \"arn:aws:sagemaker-geospatial:us-west-2:378778860802:raster-data-collection/public/37ndema229vwa987\",  # NAIP, National Agriculture Imagery Program\n",
    "    \"RasterDataCollectionQuery\": {\n",
    "        \"AreaOfInterest\": {\n",
    "            \"AreaOfInterestGeometry\": {\n",
    "                \"PolygonGeometry\": {\n",
    "                    \"Coordinates\": [\n",
    "                        [\n",
    "                            [-116.43212657788257, 43.492823120694055],\n",
    "                            [-116.43212657788257, 43.459682618058224],\n",
    "                            [-116.37655884552012, 43.459682618058224],\n",
    "                            [-116.37655884552012, 43.492823120694055],\n",
    "                            [-116.43212657788257, 43.492823120694055],\n",
    "                        ]\n",
    "                    ]\n",
    "                }\n",
    "            }\n",
    "        },\n",
    "        \"TimeRangeFilter\": {\n",
    "            \"StartTime\": \"2021-01-01T00:00:00Z\",\n",
    "            \"EndTime\": \"2021-12-31T23:59:59Z\",\n",
    "        },\n",
    "    },\n",
    "}"
   ]
  },
  {
   "cell_type": "code",
   "execution_count": null,
   "id": "f8b508b6-a83d-4a05-8bd4-1071a0bd322d",
   "metadata": {
    "tags": []
   },
   "outputs": [],
   "source": [
    "result = geospatial_client.search_raster_data_collection(**search_raster_config)"
   ]
  },
  {
   "cell_type": "markdown",
   "id": "549668f7-725b-4f68-8687-7aec7b9d09ca",
   "metadata": {},
   "source": [
    "After performing the query, we obtained two scenes which matched the search criteria. We can inspect the results in the following cell."
   ]
  },
  {
   "cell_type": "code",
   "execution_count": null,
   "id": "44bbabfc-f89d-4cae-988a-c74d81650ce9",
   "metadata": {
    "tags": []
   },
   "outputs": [],
   "source": [
    "IPython.display.JSON(result[\"Items\"])"
   ]
  },
  {
   "cell_type": "markdown",
   "id": "c878e3ef-4c96-4d15-abc9-803078044c69",
   "metadata": {},
   "source": [
    "## Download and visualize example scene\n",
    "\n",
    "We will download the image asset of the first scene to use it as input for the segmentation model. To prepare the input for the inference, we'll clip the scene to a particular area of interest and visualize the prepared input."
   ]
  },
  {
   "cell_type": "code",
   "execution_count": null,
   "id": "b8ef59b7-60ff-4450-a84f-6ce43466a6ba",
   "metadata": {
    "tags": []
   },
   "outputs": [],
   "source": [
    "def download_from_s3(s3_obj_url, local_dir):\n",
    "    os.makedirs(local_dir, exist_ok=True)\n",
    "    local_file_path = os.path.join(local_dir, s3_obj_url.split(\"/\")[-1])\n",
    "    target_bucket_name = s3_obj_url.split(\"/\")[2]\n",
    "    target_bucket_ob_key = \"/\".join(s3_obj_url.split(\"/\")[3:])\n",
    "\n",
    "    s3_bucket = session.resource(\"s3\").Bucket(target_bucket_name)\n",
    "    s3_bucket.download_file(\n",
    "        target_bucket_ob_key, local_file_path, ExtraArgs={\"RequestPayer\": \"requester\"}\n",
    "    )\n",
    "    return local_file_path"
   ]
  },
  {
   "cell_type": "code",
   "execution_count": null,
   "id": "1a9d6f2f-7b1d-446f-8a1b-25e29b6dcc1b",
   "metadata": {
    "tags": []
   },
   "outputs": [],
   "source": [
    "local_file_path = download_from_s3(result[\"Items\"][0][\"Assets\"][\"image\"][\"Href\"], \"data\")"
   ]
  },
  {
   "cell_type": "code",
   "execution_count": null,
   "id": "a3b5670a-3800-4362-8ac7-049a1009ad6f",
   "metadata": {
    "tags": []
   },
   "outputs": [],
   "source": [
    "import rioxarray\n",
    "\n",
    "visual = rioxarray.open_rasterio(local_file_path)"
   ]
  },
  {
   "cell_type": "code",
   "execution_count": null,
   "id": "c6de86a1-a2c6-43ed-ad8a-08bc6d22e14a",
   "metadata": {
    "tags": []
   },
   "outputs": [],
   "source": [
    "# clip to particular AOI\n",
    "clipped = visual.rio.clip_box(\n",
    "    minx=552000,\n",
    "    miny=4813000,\n",
    "    maxx=553000,\n",
    "    maxy=4814000,\n",
    ")"
   ]
  },
  {
   "cell_type": "code",
   "execution_count": null,
   "id": "afcaa212-a6d6-4439-85cb-4c0107dc60b9",
   "metadata": {
    "tags": []
   },
   "outputs": [],
   "source": [
    "import matplotlib.pyplot as plt\n",
    "\n",
    "# display clipped AOI\n",
    "plt.figure(figsize=(12, 12))\n",
    "ax = plt.axes()\n",
    "clipped.plot.imshow(ax=ax)\n",
    "plt.show()"
   ]
  },
  {
   "cell_type": "code",
   "execution_count": null,
   "id": "272829a0-c74f-43a9-a32d-c73dc4092c2d",
   "metadata": {
    "tags": []
   },
   "outputs": [],
   "source": [
    "# store as input for segmentation model\n",
    "clipped.rio.to_raster(\"data/example_input.tif\")"
   ]
  },
  {
   "cell_type": "markdown",
   "id": "db90a74c-e2db-445c-b067-45f3af6b9821",
   "metadata": {},
   "source": [
    "## Perform segmentation on spatial data\n",
    "### Initialize Segmentation model"
   ]
  },
  {
   "cell_type": "code",
   "execution_count": null,
   "id": "b713601f-12ea-4dc4-b4c1-7eb5397cadeb",
   "metadata": {
    "tags": []
   },
   "outputs": [],
   "source": [
    "sam = LangSAM()"
   ]
  },
  {
   "cell_type": "markdown",
   "id": "3881d615-c57a-4d06-873e-c70f728e0d1e",
   "metadata": {},
   "source": [
    "### Run inference & visualize segmentation mask\n",
    "\n",
    "After the segmentation model has been initialized, we'll perform the inference by running the `predict` method.\n",
    "\n",
    "The model prediction step includes setting appropriate thresholds for object detection and associating text with the identified objects. These threshold values, which range from 0 to 1, are specified when invoking the `predict` method of the LangSAM class.\n",
    "\n",
    "box_threshold: This parameter is used for object detection in the image. A higher box threshold causes the model to be more selective, identifying only object instances with the highest confidence. This selectivity may lead to a reduction in the total number of detections. On the other hand, a lower box threshold renders the model more permissive, resulting in a greater number of detections, including those of potentially lower confidence.\n",
    "\n",
    "text_threshold: A higher text threshold demands a stronger correlation between the object and the text prompt, which can lead to more precise but fewer associations. Conversely, a lower text threshold facilitates looser associations, possibly increasing the number of associations but at the risk of including less accurate matches."
   ]
  },
  {
   "cell_type": "code",
   "execution_count": null,
   "id": "a2fa62f4-2561-4ad3-87c3-c01e093d48d8",
   "metadata": {
    "tags": []
   },
   "outputs": [],
   "source": [
    "text_prompt = \"tree\"\n",
    "sam.predict(\"data/example_input.tif\", text_prompt, box_threshold=0.24, text_threshold=0.24)"
   ]
  },
  {
   "cell_type": "code",
   "execution_count": null,
   "id": "aa42ed8d-defd-476d-8305-a2d1e7967258",
   "metadata": {
    "tags": []
   },
   "outputs": [],
   "source": [
    "sam.show_anns(\n",
    "    cmap=\"Greens\",\n",
    "    box_color=\"red\",\n",
    "    title=\"Example Segmentation Result (Trees)\",\n",
    "    blend=True,\n",
    ")"
   ]
  },
  {
   "cell_type": "markdown",
   "id": "33c03930-99e4-482c-928f-18872bc20507",
   "metadata": {},
   "source": [
    "We can also show the annotations as a binary mask."
   ]
  },
  {
   "cell_type": "code",
   "execution_count": null,
   "id": "6be84d6f-1ddc-4516-b295-b98fffcef075",
   "metadata": {
    "tags": []
   },
   "outputs": [],
   "source": [
    "sam.show_anns(\n",
    "    cmap=\"Greys_r\",\n",
    "    add_boxes=False,\n",
    "    alpha=1,\n",
    "    title=\"Example Segmentation Result (Trees)\",\n",
    "    blend=False,\n",
    "    output=\"data/trees.tif\",\n",
    ")"
   ]
  },
  {
   "cell_type": "markdown",
   "id": "13cbeb10-a1ff-4f5b-ad97-899d27a9a91d",
   "metadata": {},
   "source": [
    "As a final step, we'll convert the binary mask to a vector format, such as shapefile. You can also use any other vector format supported by geopandas, such as GeoJSON and GeoPackage. In the following cells, we extract the mask as shapefile and visualize it on an interactive map."
   ]
  },
  {
   "cell_type": "code",
   "execution_count": null,
   "id": "6e8eef61-e33a-43c5-9659-ad66a8331f63",
   "metadata": {},
   "outputs": [],
   "source": [
    "sam.raster_to_vector(\"data/trees.tif\", \"data/trees.shp\")"
   ]
  },
  {
   "cell_type": "code",
   "execution_count": null,
   "id": "7d084003-3d92-4b9a-b43f-c2baa787c136",
   "metadata": {
    "tags": []
   },
   "outputs": [],
   "source": [
    "import leafmap.foliumap as leafmap\n",
    "\n",
    "Map = leafmap.Map()\n",
    "Map.add_basemap(\"USGS NAIP Imagery\")\n",
    "style = {\n",
    "    \"color\": \"#3388ff\",\n",
    "    \"weight\": 2,\n",
    "    \"fillColor\": \"#7c4185\",\n",
    "    \"fillOpacity\": 0.5,\n",
    "}\n",
    "Map.add_vector(\"data/trees.shp\", layer_name=\"Vector\", style=style)\n",
    "Map"
   ]
  },
  {
   "cell_type": "markdown",
   "id": "11d903d4-1d6d-4182-a041-776c51f4929c",
   "metadata": {},
   "source": [
    "## Notebook CI Test Results\n",
    "\n",
    "This notebook was tested in multiple regions. The test results are as follows, except for us-west-2 which is shown at the top of the notebook.\n",
    "\n",
    "![This us-east-1 badge failed to load. Check your device's internet connectivity, otherwise the service is currently unavailable](https://h75twx4l60.execute-api.us-west-2.amazonaws.com/sagemaker-nb/us-east-1/sagemaker-geospatial|segment-aerial-naip|segment_naip_geospatial_notebook-cpu_only.ipynb)\n",
    "\n",
    "![This us-east-2 badge failed to load. Check your device's internet connectivity, otherwise the service is currently unavailable](https://h75twx4l60.execute-api.us-west-2.amazonaws.com/sagemaker-nb/us-east-2/sagemaker-geospatial|segment-aerial-naip|segment_naip_geospatial_notebook-cpu_only.ipynb)\n",
    "\n",
    "![This us-west-1 badge failed to load. Check your device's internet connectivity, otherwise the service is currently unavailable](https://h75twx4l60.execute-api.us-west-2.amazonaws.com/sagemaker-nb/us-west-1/sagemaker-geospatial|segment-aerial-naip|segment_naip_geospatial_notebook-cpu_only.ipynb)\n",
    "\n",
    "![This ca-central-1 badge failed to load. Check your device's internet connectivity, otherwise the service is currently unavailable](https://h75twx4l60.execute-api.us-west-2.amazonaws.com/sagemaker-nb/ca-central-1/sagemaker-geospatial|segment-aerial-naip|segment_naip_geospatial_notebook-cpu_only.ipynb)\n",
    "\n",
    "![This sa-east-1 badge failed to load. Check your device's internet connectivity, otherwise the service is currently unavailable](https://h75twx4l60.execute-api.us-west-2.amazonaws.com/sagemaker-nb/sa-east-1/sagemaker-geospatial|segment-aerial-naip|segment_naip_geospatial_notebook-cpu_only.ipynb)\n",
    "\n",
    "![This eu-west-1 badge failed to load. Check your device's internet connectivity, otherwise the service is currently unavailable](https://h75twx4l60.execute-api.us-west-2.amazonaws.com/sagemaker-nb/eu-west-1/sagemaker-geospatial|segment-aerial-naip|segment_naip_geospatial_notebook-cpu_only.ipynb)\n",
    "\n",
    "![This eu-west-2 badge failed to load. Check your device's internet connectivity, otherwise the service is currently unavailable](https://h75twx4l60.execute-api.us-west-2.amazonaws.com/sagemaker-nb/eu-west-2/sagemaker-geospatial|segment-aerial-naip|segment_naip_geospatial_notebook-cpu_only.ipynb)\n",
    "\n",
    "![This eu-west-3 badge failed to load. Check your device's internet connectivity, otherwise the service is currently unavailable](https://h75twx4l60.execute-api.us-west-2.amazonaws.com/sagemaker-nb/eu-west-3/sagemaker-geospatial|segment-aerial-naip|segment_naip_geospatial_notebook-cpu_only.ipynb)\n",
    "\n",
    "![This eu-central-1 badge failed to load. Check your device's internet connectivity, otherwise the service is currently unavailable](https://h75twx4l60.execute-api.us-west-2.amazonaws.com/sagemaker-nb/eu-central-1/sagemaker-geospatial|segment-aerial-naip|segment_naip_geospatial_notebook-cpu_only.ipynb)\n",
    "\n",
    "![This eu-north-1 badge failed to load. Check your device's internet connectivity, otherwise the service is currently unavailable](https://h75twx4l60.execute-api.us-west-2.amazonaws.com/sagemaker-nb/eu-north-1/sagemaker-geospatial|segment-aerial-naip|segment_naip_geospatial_notebook-cpu_only.ipynb)\n",
    "\n",
    "![This ap-southeast-1 badge failed to load. Check your device's internet connectivity, otherwise the service is currently unavailable](https://h75twx4l60.execute-api.us-west-2.amazonaws.com/sagemaker-nb/ap-southeast-1/sagemaker-geospatial|segment-aerial-naip|segment_naip_geospatial_notebook-cpu_only.ipynb)\n",
    "\n",
    "![This ap-southeast-2 badge failed to load. Check your device's internet connectivity, otherwise the service is currently unavailable](https://h75twx4l60.execute-api.us-west-2.amazonaws.com/sagemaker-nb/ap-southeast-2/sagemaker-geospatial|segment-aerial-naip|segment_naip_geospatial_notebook-cpu_only.ipynb)\n",
    "\n",
    "![This ap-northeast-1 badge failed to load. Check your device's internet connectivity, otherwise the service is currently unavailable](https://h75twx4l60.execute-api.us-west-2.amazonaws.com/sagemaker-nb/ap-northeast-1/sagemaker-geospatial|segment-aerial-naip|segment_naip_geospatial_notebook-cpu_only.ipynb)\n",
    "\n",
    "![This ap-northeast-2 badge failed to load. Check your device's internet connectivity, otherwise the service is currently unavailable](https://h75twx4l60.execute-api.us-west-2.amazonaws.com/sagemaker-nb/ap-northeast-2/sagemaker-geospatial|segment-aerial-naip|segment_naip_geospatial_notebook-cpu_only.ipynb)\n",
    "\n",
    "![This ap-south-1 badge failed to load. Check your device's internet connectivity, otherwise the service is currently unavailable](https://h75twx4l60.execute-api.us-west-2.amazonaws.com/sagemaker-nb/ap-south-1/sagemaker-geospatial|segment-aerial-naip|segment_naip_geospatial_notebook-cpu_only.ipynb)"
   ]
  },
  {
   "cell_type": "code",
   "execution_count": null,
   "id": "20c27043-dc27-49d4-9d0c-c6333d0cc162",
   "metadata": {},
   "outputs": [],
   "source": []
  }
 ],
 "metadata": {
  "availableInstances": [
   {
    "_defaultOrder": 0,
    "_isFastLaunch": true,
    "category": "General purpose",
    "gpuNum": 0,
    "hideHardwareSpecs": false,
    "memoryGiB": 4,
    "name": "ml.t3.medium",
    "vcpuNum": 2
   },
   {
    "_defaultOrder": 1,
    "_isFastLaunch": false,
    "category": "General purpose",
    "gpuNum": 0,
    "hideHardwareSpecs": false,
    "memoryGiB": 8,
    "name": "ml.t3.large",
    "vcpuNum": 2
   },
   {
    "_defaultOrder": 2,
    "_isFastLaunch": false,
    "category": "General purpose",
    "gpuNum": 0,
    "hideHardwareSpecs": false,
    "memoryGiB": 16,
    "name": "ml.t3.xlarge",
    "vcpuNum": 4
   },
   {
    "_defaultOrder": 3,
    "_isFastLaunch": false,
    "category": "General purpose",
    "gpuNum": 0,
    "hideHardwareSpecs": false,
    "memoryGiB": 32,
    "name": "ml.t3.2xlarge",
    "vcpuNum": 8
   },
   {
    "_defaultOrder": 4,
    "_isFastLaunch": true,
    "category": "General purpose",
    "gpuNum": 0,
    "hideHardwareSpecs": false,
    "memoryGiB": 8,
    "name": "ml.m5.large",
    "vcpuNum": 2
   },
   {
    "_defaultOrder": 5,
    "_isFastLaunch": false,
    "category": "General purpose",
    "gpuNum": 0,
    "hideHardwareSpecs": false,
    "memoryGiB": 16,
    "name": "ml.m5.xlarge",
    "vcpuNum": 4
   },
   {
    "_defaultOrder": 6,
    "_isFastLaunch": false,
    "category": "General purpose",
    "gpuNum": 0,
    "hideHardwareSpecs": false,
    "memoryGiB": 32,
    "name": "ml.m5.2xlarge",
    "vcpuNum": 8
   },
   {
    "_defaultOrder": 7,
    "_isFastLaunch": false,
    "category": "General purpose",
    "gpuNum": 0,
    "hideHardwareSpecs": false,
    "memoryGiB": 64,
    "name": "ml.m5.4xlarge",
    "vcpuNum": 16
   },
   {
    "_defaultOrder": 8,
    "_isFastLaunch": false,
    "category": "General purpose",
    "gpuNum": 0,
    "hideHardwareSpecs": false,
    "memoryGiB": 128,
    "name": "ml.m5.8xlarge",
    "vcpuNum": 32
   },
   {
    "_defaultOrder": 9,
    "_isFastLaunch": false,
    "category": "General purpose",
    "gpuNum": 0,
    "hideHardwareSpecs": false,
    "memoryGiB": 192,
    "name": "ml.m5.12xlarge",
    "vcpuNum": 48
   },
   {
    "_defaultOrder": 10,
    "_isFastLaunch": false,
    "category": "General purpose",
    "gpuNum": 0,
    "hideHardwareSpecs": false,
    "memoryGiB": 256,
    "name": "ml.m5.16xlarge",
    "vcpuNum": 64
   },
   {
    "_defaultOrder": 11,
    "_isFastLaunch": false,
    "category": "General purpose",
    "gpuNum": 0,
    "hideHardwareSpecs": false,
    "memoryGiB": 384,
    "name": "ml.m5.24xlarge",
    "vcpuNum": 96
   },
   {
    "_defaultOrder": 12,
    "_isFastLaunch": false,
    "category": "General purpose",
    "gpuNum": 0,
    "hideHardwareSpecs": false,
    "memoryGiB": 8,
    "name": "ml.m5d.large",
    "vcpuNum": 2
   },
   {
    "_defaultOrder": 13,
    "_isFastLaunch": false,
    "category": "General purpose",
    "gpuNum": 0,
    "hideHardwareSpecs": false,
    "memoryGiB": 16,
    "name": "ml.m5d.xlarge",
    "vcpuNum": 4
   },
   {
    "_defaultOrder": 14,
    "_isFastLaunch": false,
    "category": "General purpose",
    "gpuNum": 0,
    "hideHardwareSpecs": false,
    "memoryGiB": 32,
    "name": "ml.m5d.2xlarge",
    "vcpuNum": 8
   },
   {
    "_defaultOrder": 15,
    "_isFastLaunch": false,
    "category": "General purpose",
    "gpuNum": 0,
    "hideHardwareSpecs": false,
    "memoryGiB": 64,
    "name": "ml.m5d.4xlarge",
    "vcpuNum": 16
   },
   {
    "_defaultOrder": 16,
    "_isFastLaunch": false,
    "category": "General purpose",
    "gpuNum": 0,
    "hideHardwareSpecs": false,
    "memoryGiB": 128,
    "name": "ml.m5d.8xlarge",
    "vcpuNum": 32
   },
   {
    "_defaultOrder": 17,
    "_isFastLaunch": false,
    "category": "General purpose",
    "gpuNum": 0,
    "hideHardwareSpecs": false,
    "memoryGiB": 192,
    "name": "ml.m5d.12xlarge",
    "vcpuNum": 48
   },
   {
    "_defaultOrder": 18,
    "_isFastLaunch": false,
    "category": "General purpose",
    "gpuNum": 0,
    "hideHardwareSpecs": false,
    "memoryGiB": 256,
    "name": "ml.m5d.16xlarge",
    "vcpuNum": 64
   },
   {
    "_defaultOrder": 19,
    "_isFastLaunch": false,
    "category": "General purpose",
    "gpuNum": 0,
    "hideHardwareSpecs": false,
    "memoryGiB": 384,
    "name": "ml.m5d.24xlarge",
    "vcpuNum": 96
   },
   {
    "_defaultOrder": 20,
    "_isFastLaunch": false,
    "category": "General purpose",
    "gpuNum": 0,
    "hideHardwareSpecs": true,
    "memoryGiB": 0,
    "name": "ml.geospatial.interactive",
    "supportedImageNames": [
     "sagemaker-geospatial-v1-0"
    ],
    "vcpuNum": 0
   },
   {
    "_defaultOrder": 21,
    "_isFastLaunch": true,
    "category": "Compute optimized",
    "gpuNum": 0,
    "hideHardwareSpecs": false,
    "memoryGiB": 4,
    "name": "ml.c5.large",
    "vcpuNum": 2
   },
   {
    "_defaultOrder": 22,
    "_isFastLaunch": false,
    "category": "Compute optimized",
    "gpuNum": 0,
    "hideHardwareSpecs": false,
    "memoryGiB": 8,
    "name": "ml.c5.xlarge",
    "vcpuNum": 4
   },
   {
    "_defaultOrder": 23,
    "_isFastLaunch": false,
    "category": "Compute optimized",
    "gpuNum": 0,
    "hideHardwareSpecs": false,
    "memoryGiB": 16,
    "name": "ml.c5.2xlarge",
    "vcpuNum": 8
   },
   {
    "_defaultOrder": 24,
    "_isFastLaunch": false,
    "category": "Compute optimized",
    "gpuNum": 0,
    "hideHardwareSpecs": false,
    "memoryGiB": 32,
    "name": "ml.c5.4xlarge",
    "vcpuNum": 16
   },
   {
    "_defaultOrder": 25,
    "_isFastLaunch": false,
    "category": "Compute optimized",
    "gpuNum": 0,
    "hideHardwareSpecs": false,
    "memoryGiB": 72,
    "name": "ml.c5.9xlarge",
    "vcpuNum": 36
   },
   {
    "_defaultOrder": 26,
    "_isFastLaunch": false,
    "category": "Compute optimized",
    "gpuNum": 0,
    "hideHardwareSpecs": false,
    "memoryGiB": 96,
    "name": "ml.c5.12xlarge",
    "vcpuNum": 48
   },
   {
    "_defaultOrder": 27,
    "_isFastLaunch": false,
    "category": "Compute optimized",
    "gpuNum": 0,
    "hideHardwareSpecs": false,
    "memoryGiB": 144,
    "name": "ml.c5.18xlarge",
    "vcpuNum": 72
   },
   {
    "_defaultOrder": 28,
    "_isFastLaunch": false,
    "category": "Compute optimized",
    "gpuNum": 0,
    "hideHardwareSpecs": false,
    "memoryGiB": 192,
    "name": "ml.c5.24xlarge",
    "vcpuNum": 96
   },
   {
    "_defaultOrder": 29,
    "_isFastLaunch": true,
    "category": "Accelerated computing",
    "gpuNum": 1,
    "hideHardwareSpecs": false,
    "memoryGiB": 16,
    "name": "ml.g4dn.xlarge",
    "vcpuNum": 4
   },
   {
    "_defaultOrder": 30,
    "_isFastLaunch": false,
    "category": "Accelerated computing",
    "gpuNum": 1,
    "hideHardwareSpecs": false,
    "memoryGiB": 32,
    "name": "ml.g4dn.2xlarge",
    "vcpuNum": 8
   },
   {
    "_defaultOrder": 31,
    "_isFastLaunch": false,
    "category": "Accelerated computing",
    "gpuNum": 1,
    "hideHardwareSpecs": false,
    "memoryGiB": 64,
    "name": "ml.g4dn.4xlarge",
    "vcpuNum": 16
   },
   {
    "_defaultOrder": 32,
    "_isFastLaunch": false,
    "category": "Accelerated computing",
    "gpuNum": 1,
    "hideHardwareSpecs": false,
    "memoryGiB": 128,
    "name": "ml.g4dn.8xlarge",
    "vcpuNum": 32
   },
   {
    "_defaultOrder": 33,
    "_isFastLaunch": false,
    "category": "Accelerated computing",
    "gpuNum": 4,
    "hideHardwareSpecs": false,
    "memoryGiB": 192,
    "name": "ml.g4dn.12xlarge",
    "vcpuNum": 48
   },
   {
    "_defaultOrder": 34,
    "_isFastLaunch": false,
    "category": "Accelerated computing",
    "gpuNum": 1,
    "hideHardwareSpecs": false,
    "memoryGiB": 256,
    "name": "ml.g4dn.16xlarge",
    "vcpuNum": 64
   },
   {
    "_defaultOrder": 35,
    "_isFastLaunch": false,
    "category": "Accelerated computing",
    "gpuNum": 1,
    "hideHardwareSpecs": false,
    "memoryGiB": 61,
    "name": "ml.p3.2xlarge",
    "vcpuNum": 8
   },
   {
    "_defaultOrder": 36,
    "_isFastLaunch": false,
    "category": "Accelerated computing",
    "gpuNum": 4,
    "hideHardwareSpecs": false,
    "memoryGiB": 244,
    "name": "ml.p3.8xlarge",
    "vcpuNum": 32
   },
   {
    "_defaultOrder": 37,
    "_isFastLaunch": false,
    "category": "Accelerated computing",
    "gpuNum": 8,
    "hideHardwareSpecs": false,
    "memoryGiB": 488,
    "name": "ml.p3.16xlarge",
    "vcpuNum": 64
   },
   {
    "_defaultOrder": 38,
    "_isFastLaunch": false,
    "category": "Accelerated computing",
    "gpuNum": 8,
    "hideHardwareSpecs": false,
    "memoryGiB": 768,
    "name": "ml.p3dn.24xlarge",
    "vcpuNum": 96
   },
   {
    "_defaultOrder": 39,
    "_isFastLaunch": false,
    "category": "Memory Optimized",
    "gpuNum": 0,
    "hideHardwareSpecs": false,
    "memoryGiB": 16,
    "name": "ml.r5.large",
    "vcpuNum": 2
   },
   {
    "_defaultOrder": 40,
    "_isFastLaunch": false,
    "category": "Memory Optimized",
    "gpuNum": 0,
    "hideHardwareSpecs": false,
    "memoryGiB": 32,
    "name": "ml.r5.xlarge",
    "vcpuNum": 4
   },
   {
    "_defaultOrder": 41,
    "_isFastLaunch": false,
    "category": "Memory Optimized",
    "gpuNum": 0,
    "hideHardwareSpecs": false,
    "memoryGiB": 64,
    "name": "ml.r5.2xlarge",
    "vcpuNum": 8
   },
   {
    "_defaultOrder": 42,
    "_isFastLaunch": false,
    "category": "Memory Optimized",
    "gpuNum": 0,
    "hideHardwareSpecs": false,
    "memoryGiB": 128,
    "name": "ml.r5.4xlarge",
    "vcpuNum": 16
   },
   {
    "_defaultOrder": 43,
    "_isFastLaunch": false,
    "category": "Memory Optimized",
    "gpuNum": 0,
    "hideHardwareSpecs": false,
    "memoryGiB": 256,
    "name": "ml.r5.8xlarge",
    "vcpuNum": 32
   },
   {
    "_defaultOrder": 44,
    "_isFastLaunch": false,
    "category": "Memory Optimized",
    "gpuNum": 0,
    "hideHardwareSpecs": false,
    "memoryGiB": 384,
    "name": "ml.r5.12xlarge",
    "vcpuNum": 48
   },
   {
    "_defaultOrder": 45,
    "_isFastLaunch": false,
    "category": "Memory Optimized",
    "gpuNum": 0,
    "hideHardwareSpecs": false,
    "memoryGiB": 512,
    "name": "ml.r5.16xlarge",
    "vcpuNum": 64
   },
   {
    "_defaultOrder": 46,
    "_isFastLaunch": false,
    "category": "Memory Optimized",
    "gpuNum": 0,
    "hideHardwareSpecs": false,
    "memoryGiB": 768,
    "name": "ml.r5.24xlarge",
    "vcpuNum": 96
   },
   {
    "_defaultOrder": 47,
    "_isFastLaunch": false,
    "category": "Accelerated computing",
    "gpuNum": 1,
    "hideHardwareSpecs": false,
    "memoryGiB": 16,
    "name": "ml.g5.xlarge",
    "vcpuNum": 4
   },
   {
    "_defaultOrder": 48,
    "_isFastLaunch": false,
    "category": "Accelerated computing",
    "gpuNum": 1,
    "hideHardwareSpecs": false,
    "memoryGiB": 32,
    "name": "ml.g5.2xlarge",
    "vcpuNum": 8
   },
   {
    "_defaultOrder": 49,
    "_isFastLaunch": false,
    "category": "Accelerated computing",
    "gpuNum": 1,
    "hideHardwareSpecs": false,
    "memoryGiB": 64,
    "name": "ml.g5.4xlarge",
    "vcpuNum": 16
   },
   {
    "_defaultOrder": 50,
    "_isFastLaunch": false,
    "category": "Accelerated computing",
    "gpuNum": 1,
    "hideHardwareSpecs": false,
    "memoryGiB": 128,
    "name": "ml.g5.8xlarge",
    "vcpuNum": 32
   },
   {
    "_defaultOrder": 51,
    "_isFastLaunch": false,
    "category": "Accelerated computing",
    "gpuNum": 1,
    "hideHardwareSpecs": false,
    "memoryGiB": 256,
    "name": "ml.g5.16xlarge",
    "vcpuNum": 64
   },
   {
    "_defaultOrder": 52,
    "_isFastLaunch": false,
    "category": "Accelerated computing",
    "gpuNum": 4,
    "hideHardwareSpecs": false,
    "memoryGiB": 192,
    "name": "ml.g5.12xlarge",
    "vcpuNum": 48
   },
   {
    "_defaultOrder": 53,
    "_isFastLaunch": false,
    "category": "Accelerated computing",
    "gpuNum": 4,
    "hideHardwareSpecs": false,
    "memoryGiB": 384,
    "name": "ml.g5.24xlarge",
    "vcpuNum": 96
   },
   {
    "_defaultOrder": 54,
    "_isFastLaunch": false,
    "category": "Accelerated computing",
    "gpuNum": 8,
    "hideHardwareSpecs": false,
    "memoryGiB": 768,
    "name": "ml.g5.48xlarge",
    "vcpuNum": 192
   },
   {
    "_defaultOrder": 55,
    "_isFastLaunch": false,
    "category": "Accelerated computing",
    "gpuNum": 8,
    "hideHardwareSpecs": false,
    "memoryGiB": 1152,
    "name": "ml.p4d.24xlarge",
    "vcpuNum": 96
   },
   {
    "_defaultOrder": 56,
    "_isFastLaunch": false,
    "category": "Accelerated computing",
    "gpuNum": 8,
    "hideHardwareSpecs": false,
    "memoryGiB": 1152,
    "name": "ml.p4de.24xlarge",
    "vcpuNum": 96
   },
   {
    "_defaultOrder": 57,
    "_isFastLaunch": false,
    "category": "Accelerated computing",
    "gpuNum": 0,
    "hideHardwareSpecs": false,
    "memoryGiB": 32,
    "name": "ml.trn1.2xlarge",
    "vcpuNum": 8
   },
   {
    "_defaultOrder": 58,
    "_isFastLaunch": false,
    "category": "Accelerated computing",
    "gpuNum": 0,
    "hideHardwareSpecs": false,
    "memoryGiB": 512,
    "name": "ml.trn1.32xlarge",
    "vcpuNum": 128
   },
   {
    "_defaultOrder": 59,
    "_isFastLaunch": false,
    "category": "Accelerated computing",
    "gpuNum": 0,
    "hideHardwareSpecs": false,
    "memoryGiB": 512,
    "name": "ml.trn1n.32xlarge",
    "vcpuNum": 128
   }
  ],
  "instance_type": "ml.geospatial.interactive",
  "kernelspec": {
   "display_name": "Python 3 (Geospatial 1.0)",
   "language": "python",
   "name": "python3__SAGEMAKER_INTERNAL__arn:aws:sagemaker:us-west-2:081189585635:image/sagemaker-geospatial-v1-0"
  },
  "language_info": {
   "codemirror_mode": {
    "name": "ipython",
    "version": 3
   },
   "file_extension": ".py",
   "mimetype": "text/x-python",
   "name": "python",
   "nbconvert_exporter": "python",
   "pygments_lexer": "ipython3",
   "version": "3.10.4"
  }
 },
 "nbformat": 4,
 "nbformat_minor": 5
}
